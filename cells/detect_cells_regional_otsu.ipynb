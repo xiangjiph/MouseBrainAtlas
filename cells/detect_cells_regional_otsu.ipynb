{
 "cells": [
  {
   "cell_type": "code",
   "execution_count": 1,
   "metadata": {
    "scrolled": true
   },
   "outputs": [
    {
     "name": "stderr",
     "output_type": "stream",
     "text": [
      "/usr/local/lib/python2.7/dist-packages/matplotlib/__init__.py:1405: UserWarning: \n",
      "This call to matplotlib.use() has no effect because the backend has already\n",
      "been chosen; matplotlib.use() must be called *before* pylab, matplotlib.pyplot,\n",
      "or matplotlib.backends is imported for the first time.\n",
      "\n",
      "  warnings.warn(_use_error_msg)\n",
      "No vtk\n",
      "Child returned 0\n"
     ]
    },
    {
     "name": "stdout",
     "output_type": "stream",
     "text": [
      "Setting environment for AWS compute node\n",
      "rm -rf /shared/CSHL_data_processed/MD635/MD635_alignedTo_MD635-F63-2016.05.19-08.39.03_MD635_2_0188_cropbox.txt && mkdir -p /shared/CSHL_data_processed/MD635\n",
      "aws s3 cp s3://mousebrainatlas-data/CSHL_data_processed/MD635/MD635_alignedTo_MD635-F63-2016.05.19-08.39.03_MD635_2_0188_cropbox.txt /shared/CSHL_data_processed/MD635/MD635_alignedTo_MD635-F63-2016.05.19-08.39.03_MD635_2_0188_cropbox.txt\n"
     ]
    },
    {
     "name": "stderr",
     "output_type": "stream",
     "text": [
      "Child returned 1\n",
      "0.37 seconds.\n",
      "Child returned 0\n"
     ]
    },
    {
     "name": "stdout",
     "output_type": "stream",
     "text": [
      "rm -rf /shared/CSHL_data_processed/MD635/MD635_alignedTo_MD635-F63-2016.05.19-08.39.03_MD635_2_0188_cropbox.txt && mkdir -p /shared/CSHL_data_processed/MD635\n",
      "aws s3 cp s3://mousebrainatlas-data/CSHL_data_processed/MD635/MD635_alignedTo_MD635-F63-2016.05.19-08.39.03_MD635_2_0188_cropbox.txt /shared/CSHL_data_processed/MD635/MD635_alignedTo_MD635-F63-2016.05.19-08.39.03_MD635_2_0188_cropbox.txt\n"
     ]
    },
    {
     "name": "stderr",
     "output_type": "stream",
     "text": [
      "Child returned 1\n",
      "0.34 seconds.\n",
      "File does not exist: /shared/CSHL_data_processed/MD635/MD635_alignedTo_MD635-F63-2016.05.19-08.39.03_MD635_2_0188_cropbox.txt\n",
      "Child returned 0\n"
     ]
    },
    {
     "name": "stdout",
     "output_type": "stream",
     "text": [
      "rm -rf /shared/CSHL_data_processed/MD635/MD635_alignedTo_MD635-F63-2016.05.19-08.39.03_MD635_2_0188_cropbox.txt && mkdir -p /shared/CSHL_data_processed/MD635\n",
      "aws s3 cp s3://mousebrainatlas-data/CSHL_data_processed/MD635/MD635_alignedTo_MD635-F63-2016.05.19-08.39.03_MD635_2_0188_cropbox.txt /shared/CSHL_data_processed/MD635/MD635_alignedTo_MD635-F63-2016.05.19-08.39.03_MD635_2_0188_cropbox.txt\n"
     ]
    },
    {
     "name": "stderr",
     "output_type": "stream",
     "text": [
      "Child returned 1\n",
      "0.33 seconds.\n",
      "File does not exist: /shared/CSHL_data_processed/MD635/MD635_alignedTo_MD635-F63-2016.05.19-08.39.03_MD635_2_0188_cropbox.txt\n"
     ]
    }
   ],
   "source": [
    "import sys, os\n",
    "\n",
    "import matplotlib.pyplot as plt\n",
    "%matplotlib inline\n",
    "import numpy as np\n",
    "from skimage.filters import threshold_otsu\n",
    "from skimage.morphology import remove_small_holes, remove_small_objects\n",
    "from skimage.measure import regionprops, label, find_contours\n",
    "import pandas\n",
    "\n",
    "sys.path.append(os.path.join(os.environ['REPO_DIR'], 'utilities'))\n",
    "from registration_utilities import *\n",
    "from annotation_utilities import *\n",
    "from learning_utilities import *\n",
    "from cell_utilities import *"
   ]
  },
  {
   "cell_type": "code",
   "execution_count": 2,
   "metadata": {
    "collapsed": true
   },
   "outputs": [],
   "source": [
    "stack = 'MD593'\n",
    "img_w, img_h = metadata_cache['image_shape'][stack]\n",
    "first_sec, last_sec = metadata_cache['section_limits'][stack]\n",
    "\n",
    "download_from_s3(DataManager.get_image_dir(stack=stack, version='cropped_gray'), is_dir=True)"
   ]
  },
  {
   "cell_type": "code",
   "execution_count": 3,
   "metadata": {
    "collapsed": true
   },
   "outputs": [],
   "source": [
    "patch_size = 500\n",
    "stride = 500\n",
    "\n",
    "half_size = patch_size/2\n",
    "\n",
    "min_blob_area = 30\n",
    "max_blob_area = 3000\n",
    "\n",
    "region1_h = patch_size\n",
    "region1_w = patch_size\n",
    "\n",
    "grid_index_to_coordinate = grid_parameters_to_sample_locations(patch_size=patch_size, stride=stride, \n",
    "                                                               w=img_w, h=img_h)"
   ]
  },
  {
   "cell_type": "code",
   "execution_count": 4,
   "metadata": {
    "collapsed": true
   },
   "outputs": [],
   "source": [
    "def detect_blobs_otsu(sec):\n",
    "    \n",
    "    if is_invalid(stack=stack, sec=sec):\n",
    "        return\n",
    "\n",
    "    img = imread(DataManager.get_image_filepath(stack=stack, section=sec, resol='lossless', version='cropped_gray'))\n",
    "    rgb_img = gray2rgb(img)\n",
    "    \n",
    "    tb_mask = DataManager.load_thumbnail_mask_v2(stack=stack, section=sec)\n",
    "\n",
    "    otsu_t_by_grid_index = {}\n",
    "    binary_image = np.zeros_like(img, np.bool)\n",
    "\n",
    "    for gi, (x, y) in enumerate(grid_index_to_coordinate):\n",
    "\n",
    "        region1_y = y - half_size\n",
    "        region1_x = x - half_size\n",
    "\n",
    "        region_img = img[region1_y:region1_y+region1_h, region1_x:region1_x+region1_w]\n",
    "\n",
    "        if region1_x + region1_w >= img_w or region1_y + region1_h >= img_h:\n",
    "            continue\n",
    "\n",
    "        tb_region1_xmin = region1_x / 32\n",
    "        tb_region1_xmax = (region1_x + region1_w) / 32\n",
    "        tb_region1_ymin = region1_y / 32\n",
    "        tb_region1_ymax = (region1_y + region1_h) / 32\n",
    "\n",
    "        if np.count_nonzero(np.r_[tb_mask[tb_region1_ymin, tb_region1_xmin],\n",
    "            tb_mask[tb_region1_ymin, tb_region1_xmax],\n",
    "            tb_mask[tb_region1_ymax, tb_region1_xmin],\n",
    "            tb_mask[tb_region1_ymax, tb_region1_xmax]]) == 0:\n",
    "            continue\n",
    "\n",
    "        otsu_t = threshold_otsu(region_img)    \n",
    "        otsu_t_by_grid_index[gi] = otsu_t\n",
    "\n",
    "        if otsu_t < 130 or otsu_t > 200:\n",
    "            continue\n",
    "\n",
    "        binary_img = region_img < otsu_t\n",
    "    #     binary_img = remove_small_objects(binary_img, min_size=min_blob_area, connectivity=2)\n",
    "        assert np.any(binary_img)\n",
    "        binary_img = remove_small_holes(binary_img, min_size=min_blob_area, connectivity=2)\n",
    "        binary_image[region1_y:region1_y+region1_h, region1_x:region1_x+region1_w] = binary_img.copy()\n",
    "\n",
    "    labelmap = label(binary_image)\n",
    "\n",
    "#     blob_props = regionprops(labelmap)\n",
    "#     for blob_prop in blob_props:\n",
    "#         if blob_prop.area < min_blob_area or blob_prop.area > max_blob_area:\n",
    "#             binary_image[blob_prop.coords[:,0], blob_prop.coords[:,1]] = 0\n",
    "\n",
    "#     labelmap = label(binary_image)\n",
    "\n",
    "    fp = get_cell_data_filepath('labelmap_otsu', ext='bp', stack=stack, sec=sec)\n",
    "    create_parent_dir_if_not_exists(fp)\n",
    "    bp.pack_ndarray_file(labelmap, fp)\n",
    "    upload_to_s3(fp)\n",
    "\n",
    "    fp = get_cell_data_filepath('otsu_t_by_grid_index', ext='hdf', stack=stack, sec=sec)\n",
    "    save_hdf_v2(otsu_t_by_grid_index, fp)\n",
    "    upload_to_s3(fp)"
   ]
  },
  {
   "cell_type": "code",
   "execution_count": 5,
   "metadata": {},
   "outputs": [
    {
     "name": "stderr",
     "output_type": "stream",
     "text": [
      "/usr/local/lib/python2.7/dist-packages/skimage/morphology/misc.py:122: UserWarning: Only one label was provided to `remove_small_objects`. Did you mean to use a boolean array?\n",
      "  warn(\"Only one label was provided to `remove_small_objects`. \"\n"
     ]
    },
    {
     "name": "stdout",
     "output_type": "stream",
     "text": [
      "aws s3 cp /shared/CSHL_cells_v2/detected_cells/MD593/MD593-N34-2015.08.21-18.31.01_MD593_2_0101/MD593-N34-2015.08.21-18.31.01_MD593_2_0101_labelmap_otsu.bp s3://mousebrainatlas-data/CSHL_cells_v2/detected_cells/MD593/MD593-N34-2015.08.21-18.31.01_MD593_2_0101/MD593-N34-2015.08.21-18.31.01_MD593_2_0101_labelmap_otsu.bp\n"
     ]
    },
    {
     "name": "stderr",
     "output_type": "stream",
     "text": [
      "Child returned 0\n",
      "0.81 seconds.\n"
     ]
    },
    {
     "name": "stdout",
     "output_type": "stream",
     "text": [
      "aws s3 cp /shared/CSHL_cells_v2/detected_cells/MD593/MD593-N34-2015.08.21-18.31.01_MD593_2_0101/MD593-N34-2015.08.21-18.31.01_MD593_2_0101_otsu_t_by_grid_index.hdf s3://mousebrainatlas-data/CSHL_cells_v2/detected_cells/MD593/MD593-N34-2015.08.21-18.31.01_MD593_2_0101/MD593-N34-2015.08.21-18.31.01_MD593_2_0101_otsu_t_by_grid_index.hdf\n"
     ]
    },
    {
     "name": "stderr",
     "output_type": "stream",
     "text": [
      "Child returned 0\n",
      "0.38 seconds.\n",
      "detect_blobs_otsu: 12.51\n"
     ]
    }
   ],
   "source": [
    "for sec in range(first_sec, last_sec+1)[100:101]:\n",
    "    t = time.time()\n",
    "    detect_blobs_otsu(sec)\n",
    "    sys.stderr.write(\"detect_blobs_otsu: %.2f\\n\" % (time.time() - t)) "
   ]
  },
  {
   "cell_type": "markdown",
   "metadata": {},
   "source": [
    "# See some examples"
   ]
  },
  {
   "cell_type": "code",
   "execution_count": null,
   "metadata": {
    "collapsed": true
   },
   "outputs": [],
   "source": [
    "plt.boxplot(otsu_t_by_grid_index.values());"
   ]
  },
  {
   "cell_type": "code",
   "execution_count": null,
   "metadata": {
    "collapsed": true
   },
   "outputs": [],
   "source": [
    "for _ in range(10):\n",
    "    while True:\n",
    "        region1_x = np.random.randint(0, img_w-1000, 1)[0]\n",
    "        region1_y = np.random.randint(0, img_h-1000, 1)[0]\n",
    "\n",
    "        tb_region1_xmin = region1_x / 32\n",
    "        tb_region1_xmax = (region1_x + region1_w) / 32\n",
    "        tb_region1_ymin = region1_y / 32\n",
    "        tb_region1_ymax = (region1_y + region1_h) / 32\n",
    "\n",
    "        if np.count_nonzero(np.r_[tb_mask[tb_region1_ymin, tb_region1_xmin],\n",
    "        tb_mask[tb_region1_ymin, tb_region1_xmax],\n",
    "        tb_mask[tb_region1_ymax, tb_region1_xmin],\n",
    "        tb_mask[tb_region1_ymax, tb_region1_xmax]]) >= 3:\n",
    "            break\n",
    "            \n",
    "    viz = visualize_blob_contour(binary_image[region1_y:region1_y+region1_h, region1_x:region1_x+region1_w], \n",
    "                                 rgb_img=rgb_img[region1_y:region1_y+region1_h, region1_x:region1_x+region1_w])\n",
    "    \n",
    "    plt.figure(figsize=(10,10));\n",
    "    plt.imshow(viz)\n",
    "    plt.show();"
   ]
  }
 ],
 "metadata": {
  "kernelspec": {
   "display_name": "Python 2",
   "language": "python",
   "name": "python2"
  },
  "language_info": {
   "codemirror_mode": {
    "name": "ipython",
    "version": 2
   },
   "file_extension": ".py",
   "mimetype": "text/x-python",
   "name": "python",
   "nbconvert_exporter": "python",
   "pygments_lexer": "ipython2",
   "version": "2.7.12"
  }
 },
 "nbformat": 4,
 "nbformat_minor": 2
}
