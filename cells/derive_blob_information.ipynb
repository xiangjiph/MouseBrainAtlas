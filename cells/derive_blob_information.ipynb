{
 "cells": [
  {
   "cell_type": "code",
   "execution_count": 31,
   "metadata": {
    "collapsed": true,
    "scrolled": true
   },
   "outputs": [],
   "source": [
    "%reload_ext autoreload\n",
    "%autoreload 2\n",
    "\n",
    "import os\n",
    "import sys\n",
    "import time\n",
    "\n",
    "import cv2\n",
    "import matplotlib.pyplot as plt\n",
    "%matplotlib inline\n",
    "import pandas\n",
    "\n",
    "from skimage.filters import threshold_otsu\n",
    "from scipy.ndimage.morphology import distance_transform_edt\n",
    "from skimage.feature import peak_local_max\n",
    "from skimage.morphology import watershed, remove_small_holes, remove_small_objects\n",
    "from skimage.measure import regionprops, label, moments_central, moments_hu, moments_normalized, moments\n",
    "from skimage.transform import resize\n",
    "\n",
    "sys.path.append(os.path.join(os.environ['REPO_DIR'], 'utilities'))\n",
    "from utilities2015 import *\n",
    "from data_manager import *\n",
    "from metadata import *\n",
    "from annotation_utilities import *\n",
    "from registration_utilities import *\n",
    "from cell_utilities import *\n",
    "from learning_utilities import *"
   ]
  },
  {
   "cell_type": "code",
   "execution_count": 32,
   "metadata": {
    "collapsed": true
   },
   "outputs": [],
   "source": [
    "min_blob_area = 10\n",
    "max_blob_area = 10000"
   ]
  },
  {
   "cell_type": "code",
   "execution_count": 33,
   "metadata": {
    "collapsed": true
   },
   "outputs": [],
   "source": [
    "alg = 'otsu'\n",
    "# alg = 'cellprofiler'\n",
    "# alg = 'farsight'\n",
    "# alg = 'myown'"
   ]
  },
  {
   "cell_type": "markdown",
   "metadata": {},
   "source": [
    "# One stack"
   ]
  },
  {
   "cell_type": "code",
   "execution_count": 34,
   "metadata": {
    "collapsed": true,
    "scrolled": true
   },
   "outputs": [],
   "source": [
    "stack = 'MD593'"
   ]
  },
  {
   "cell_type": "code",
   "execution_count": 35,
   "metadata": {
    "collapsed": true
   },
   "outputs": [],
   "source": [
    "sections_to_filenames = metadata_cache['sections_to_filenames'][stack]\n",
    "first_bs_section, last_bs_section = metadata_cache['section_limits'][stack]"
   ]
  },
  {
   "cell_type": "code",
   "execution_count": 36,
   "metadata": {
    "collapsed": true
   },
   "outputs": [],
   "source": [
    "output_dir = create_if_not_exists(os.path.join(DETECTED_CELLS_ROOTDIR, stack))"
   ]
  },
  {
   "cell_type": "code",
   "execution_count": 37,
   "metadata": {
    "collapsed": true
   },
   "outputs": [],
   "source": [
    "def find_contour_worker(msk):\n",
    "    if msk.shape[0] == 1:\n",
    "        # if mask is a straight line, append another line to it.\n",
    "        msk = np.vstack([msk, np.ones((msk.shape[1],))])\n",
    "    elif msk.shape[1] == 1:\n",
    "        msk = np.c_[msk, np.ones((msk.shape[0],))]\n",
    "    return find_contour_points(msk, sample_every=1)[1][0]"
   ]
  },
  {
   "cell_type": "code",
   "execution_count": 38,
   "metadata": {
    "collapsed": true
   },
   "outputs": [],
   "source": [
    "def compute_hu_moments_worker(msk):\n",
    "    b = msk.astype(np.uint8)\n",
    "    m = moments(b, order=1)\n",
    "    hu = moments_hu(moments_normalized(moments_central(b, cc=m[0,1]/m[0,0], cr=m[1,0]/m[0,0])))    \n",
    "    return hu"
   ]
  },
  {
   "cell_type": "code",
   "execution_count": 40,
   "metadata": {
    "scrolled": true
   },
   "outputs": [
    {
     "name": "stderr",
     "output_type": "stream",
     "text": [
      "Processing section: 090\n",
      "Load mask: 7.04\n",
      "regionprops: 2.22\n",
      "51970 blobs identified.\n",
      "Save blob coords: 1.79\n",
      "Save blob masks: 3.11\n",
      "Save blob contours, save: 8.07\n",
      "Compute blob properties, save: 6.55\n"
     ]
    }
   ],
   "source": [
    "for sec in [90]:\n",
    "# for sec in range(first_bs_section, first_bs_section+10):\n",
    "# for sec in range(first_bs_section, last_bs_section+1):\n",
    "\n",
    "    fn = sections_to_filenames[sec]\n",
    "    if is_invalid(fn):\n",
    "        continue\n",
    "        \n",
    "    fn_output_dir = create_if_not_exists(os.path.join(output_dir, fn))\n",
    "    sys.stderr.write('Processing section: %03d\\n' % sec)\n",
    "\n",
    "#     jpeg_filename = DataManager.get_image_filepath(stack=stack, section=sec, resol='lossless', version='compressed')\n",
    "#     copyto_filename ='/home/yuncong/csd395/CSHL_cells_v2/detected_cells/MD589/%(fn)s/%(fn)s_image.jpg' % {'fn':fn}\n",
    "#     execute_command(\"cp %s %s\" % (jpeg_filename, copyto_filename))\n",
    "    \n",
    "    # Load mask\n",
    "    t = time.time()\n",
    "    mask_tb = DataManager.load_thumbnail_mask_v2(stack=stack, fn=fn)\n",
    "    mask = resize(mask_tb, metadata_cache['image_shape'][stack][::-1]) > .5\n",
    "    sys.stderr.write('Load mask: %.2f\\n' % (time.time() - t) )\n",
    "    \n",
    "    if alg == 'otsu':\n",
    "        \n",
    "        labelmap = load_cell_data(stack=stack, sec=sec, what='labelmap_otsu', ext='bp')\n",
    "        labelmap[~mask] = 0\n",
    "\n",
    "    elif alg == 'myown':\n",
    "        \n",
    "        img_filename = DataManager.get_image_filepath(stack=stack, section=sec, resol='lossless', version='cropped')\n",
    "\n",
    "        img = imread(img_filename)\n",
    "        sys.stderr.write('Load image: %.2f\\n' % (time.time() - t) )\n",
    "\n",
    "        t = time.time()\n",
    "        im = rgb2gray(img)\n",
    "        sys.stderr.write('Convert to gray: %.2f\\n' % (time.time() - t) )\n",
    "\n",
    "        t = time.time()\n",
    "\n",
    "        thresh = threshold_otsu(im)\n",
    "        binary = im < thresh\n",
    "        binary[~mask] = 0\n",
    "\n",
    "        sys.stderr.write('threshold: %.2f\\n' % (time.time() - t) )\n",
    "    #     imsave(fn_output_dir + '/%(fn)s_otsu.png' % {'fn':fn}, binary.astype(np.uint8)*255)\n",
    "\n",
    "        # plt.imshow(binary, cmap=plt.cm.gray);\n",
    "        # plt.axis('off');\n",
    "        # plt.title('binary');\n",
    "\n",
    "        t = time.time()\n",
    "        dt = distance_transform_edt(binary)\n",
    "        sys.stderr.write('distance transform: %.2f\\n' % (time.time() - t) )\n",
    "\n",
    "    #     imsave(fn_output_dir + '/%(fn)s_dt.png' % {'fn':fn}, img_as_ubyte(plt.cm.jet(dt/dt.max())))\n",
    "\n",
    "        # plt.imshow(dt, cmap=plt.cm.gray);\n",
    "        # plt.axis('off');\n",
    "        # plt.title('distance tranform');\n",
    "\n",
    "        t = time.time()\n",
    "        local_maxi = peak_local_max(dt, labels=binary, footprint=np.ones((10, 10)), indices=False)\n",
    "        sys.stderr.write('local max: %.2f\\n' % (time.time() - t) )\n",
    "\n",
    "        # plt.imshow(local_maxi, cmap=plt.cm.gray);\n",
    "        # plt.axis('off');\n",
    "        # plt.title('local maxima');\n",
    "\n",
    "        t = time.time()\n",
    "        markers = label(local_maxi)\n",
    "        sys.stderr.write('label: %.2f\\n' % (time.time() - t) )\n",
    "\n",
    "        t = time.time()\n",
    "        labelmap = watershed(-dt, markers, mask=binary)\n",
    "        sys.stderr.write('watershed: %.2f\\n' % (time.time() - t) )\n",
    "        \n",
    "    elif alg == 'cellprofiler':\n",
    "        labelmap = load_cell_data(stack=stack, sec=sec, what='image_inverted_labelmap_cellprofiler', ext='bp')\n",
    "        labelmap[~mask] = 0\n",
    "    \n",
    "    elif alg == 'farsight':\n",
    "        labelmap = load_cell_data(stack=stack, sec=sec, what='image_inverted_labelmap_farsight', ext='bp')\n",
    "        labelmap[~mask] = 0\n",
    "    \n",
    "    else:\n",
    "        raise 'Algorithm not recognized.'\n",
    "    \n",
    "    t = time.time()\n",
    "    props = regionprops(labelmap.astype(np.int32))\n",
    "    sys.stderr.write('regionprops: %.2f\\n' % (time.time() - t) )\n",
    "\n",
    "    valid_blob_indices = [i for i, p in enumerate(props) if p.area > min_blob_area and p.area < max_blob_area]\n",
    "    sys.stderr.write('%d blobs identified.\\n' % len(valid_blob_indices))\n",
    "    \n",
    "    # Get blobs\n",
    "    t = time.time()\n",
    "    valid_blob_coords = [props[i].coords for i in valid_blob_indices] # r,c\n",
    "    save_hdf_v2(valid_blob_coords, get_cell_data_filepath(stack=stack, fn=fn, what='blobCoords', ext='hdf'))\n",
    "    sys.stderr.write('Save blob coords: %.2f\\n' % (time.time() - t) )\n",
    "    \n",
    "    # Generate masks\n",
    "    t = time.time()\n",
    "    cell_masks = []\n",
    "    cell_mask_centers = []\n",
    "    for i, coords in enumerate(valid_blob_coords):\n",
    "#         bar.value = i\n",
    "        ymin, xmin = coords.min(axis=0)\n",
    "        ymax, xmax = coords.max(axis=0)\n",
    "        cell_mask = np.zeros((ymax+1-ymin, xmax+1-xmin), np.bool)\n",
    "        cell_mask[coords[:,0]-ymin, coords[:,1]-xmin] = 1\n",
    "        yc, xc = np.mean(np.where(cell_mask), axis=1)\n",
    "        cell_masks.append(cell_mask)\n",
    "        cell_mask_centers.append([xc, yc])\n",
    "    \n",
    "    save_hdf_v2(cell_masks, get_cell_data_filepath(stack=stack, fn=fn, what='blobMasks', ext='hdf'))\n",
    "    bp.pack_ndarray_file(np.array(cell_mask_centers), get_cell_data_filepath(stack=stack, fn=fn, what='blobMaskCenters', ext='bp'))\n",
    "    sys.stderr.write('Save blob masks: %.2f\\n' % (time.time() - t) )\n",
    "    \n",
    "    # Compute cell sizes\n",
    "    cell_sizes = np.array([np.count_nonzero(m) for m in cell_masks])\n",
    "    cell_sizes_fp = get_cell_data_filepath('cellSizes', stack=stack, fn=fn, ext='bp')\n",
    "    bp.pack_ndarray_file(cell_sizes, cell_sizes_fp)\n",
    "    \n",
    "    # Compute Hu Moments\n",
    "    # Using parallel sometimes causes stall. Not much faster than sequential anyway.\n",
    "    cell_hu_moments = np.array([compute_hu_moments_worker(m) for m in cell_masks])\n",
    "    hu_fp = get_cell_data_filepath('cellHuMoments', stack=stack, fn=fn, ext='bp')\n",
    "    bp.pack_ndarray_file(cell_hu_moments, hu_fp)\n",
    "    \n",
    "    # Other blob attributes\n",
    "    t = time.time()\n",
    "\n",
    "    pool = Pool(NUM_CORES)\n",
    "    valid_blob_contours = pool.map(lambda msk: find_contour_worker(msk), cell_masks)\n",
    "    pool.terminate()\n",
    "    pool.join()\n",
    "#     valid_blob_contours = [find_contour_worker(msk) for msk in cell_masks]\n",
    "\n",
    "    save_hdf_v2(valid_blob_contours, \n",
    "               get_cell_data_filepath(stack=stack, fn=fn, what='blobContours', ext='hdf'))\n",
    "\n",
    "    sys.stderr.write('Save blob contours, save: %.2f\\n' % (time.time() - t) )\n",
    "    \n",
    "    t = time.time()\n",
    "\n",
    "    valid_blob_orientations = np.array([props[i].orientation for i in valid_blob_indices])\n",
    "    valid_blob_centroids = np.array([props[i].centroid for i in valid_blob_indices])[:,::-1] # r,c -> x,y\n",
    "    valid_blob_majorAxisLen = np.array([props[i].major_axis_length for i in valid_blob_indices])\n",
    "    valid_blob_minorAxisLen = np.array([props[i].minor_axis_length for i in valid_blob_indices])\n",
    "\n",
    "    bp.pack_ndarray_file(valid_blob_orientations, \n",
    "                         get_cell_data_filepath(stack=stack, fn=fn, what='blobOrientations', ext='bp'))\n",
    "    bp.pack_ndarray_file(valid_blob_centroids, \n",
    "                        get_cell_data_filepath(stack=stack, fn=fn, what='blobCentroids', ext='bp'))\n",
    "    bp.pack_ndarray_file(valid_blob_majorAxisLen, \n",
    "                        get_cell_data_filepath(stack=stack, fn=fn, what='blobMajorAxisLen', ext='bp'))\n",
    "    bp.pack_ndarray_file(valid_blob_minorAxisLen, \n",
    "                         get_cell_data_filepath(stack=stack, fn=fn, what='blobMinorAxisLen', ext='bp'))\n",
    "\n",
    "    blob_contours_global = [(valid_blob_contours[i] - cell_mask_centers[i] + valid_blob_centroids[i]).astype(np.int)\n",
    "                            for i in range(len(valid_blob_coords))]\n",
    "    blob_contours_global_fp = get_cell_data_filepath(stack=stack, fn=fn, what='blobContoursGlobal_%(alg)s' % {'alg':alg}, ext='hdf')\n",
    "    save_hdf_v2(blob_contours_global, blob_contours_global_fp)\n",
    "\n",
    "    \n",
    "    sys.stderr.write('Compute blob properties, save: %.2f\\n' % (time.time() - t) )"
   ]
  },
  {
   "cell_type": "code",
   "execution_count": 32,
   "metadata": {},
   "outputs": [
    {
     "data": {
      "text/html": [
       "<a href='tmp.jpg' target='_blank'>tmp.jpg</a><br>"
      ],
      "text/plain": [
       "/shared/MouseBrainAtlas/cells/tmp.jpg"
      ]
     },
     "execution_count": 32,
     "metadata": {},
     "output_type": "execute_result"
    }
   ],
   "source": [
    "display_image(label2rgb(labelmap[::5, ::5], bg_label=0))"
   ]
  },
  {
   "cell_type": "markdown",
   "metadata": {},
   "source": [
    "# All stacks"
   ]
  },
  {
   "cell_type": "code",
   "execution_count": null,
   "metadata": {
    "scrolled": true
   },
   "outputs": [
    {
     "name": "stderr",
     "output_type": "stream",
     "text": [
      "Processing section: 110\n"
     ]
    },
    {
     "name": "stdout",
     "output_type": "stream",
     "text": [
      "cp /oasis/projects/nsf/csd395/yuncong/CSHL_data_processed/MD602/MD602_lossless_alignedTo_MD602-N49-2015.12.01-18.41.46_MD602_2_0146_cropped_compressed/MD602-N19-2015.12.01-16.24.09_MD602_2_0056_lossless_alignedTo_MD602-N49-2015.12.01-18.41.46_MD602_2_0146_cropped_compressed.jpg /home/yuncong/csd395/CSHL_cells_v2/detected_cells/MD602/MD602-N19-2015.12.01-16.24.09_MD602_2_0056/MD602-N19-2015.12.01-16.24.09_MD602_2_0056_image.jpg\n"
     ]
    },
    {
     "name": "stderr",
     "output_type": "stream",
     "text": [
      "Child returned 0\n",
      "Load mask: 15.54\n",
      "regionprops: 1.94\n",
      "44270 blobs identified.\n",
      "/oasis/projects/nsf/csd395/yuncong/brain_virtualenv/lib/python2.7/site-packages/pandas/core/generic.py:1101: PerformanceWarning: \n",
      "your performance may suffer as PyTables will pickle object types that it cannot\n",
      "map directly to c-types [inferred_type->mixed,key->values] [items->None]\n",
      "\n",
      "  return pytables.to_hdf(path_or_buf, key, self, **kwargs)\n",
      "Save blob coords: 2.56\n",
      "Save blob masks: 4.47\n",
      "Save blob contours, save: 7.47\n",
      "Compute blob properties, save: 9.39\n",
      "Processing section: 111\n"
     ]
    },
    {
     "name": "stdout",
     "output_type": "stream",
     "text": [
      "cp /oasis/projects/nsf/csd395/yuncong/CSHL_data_processed/MD602/MD602_lossless_alignedTo_MD602-N49-2015.12.01-18.41.46_MD602_2_0146_cropped_compressed/MD602-IHC19-2015.12.01-22.47.08_MD602_2_0056_lossless_alignedTo_MD602-N49-2015.12.01-18.41.46_MD602_2_0146_cropped_compressed.jpg /home/yuncong/csd395/CSHL_cells_v2/detected_cells/MD602/MD602-IHC19-2015.12.01-22.47.08_MD602_2_0056/MD602-IHC19-2015.12.01-22.47.08_MD602_2_0056_image.jpg\n"
     ]
    },
    {
     "name": "stderr",
     "output_type": "stream",
     "text": [
      "Child returned 0\n",
      "Load mask: 14.27\n",
      "regionprops: 2.55\n",
      "46609 blobs identified.\n",
      "Save blob coords: 2.62\n",
      "Save blob masks: 5.00\n",
      "Save blob contours, save: 7.71\n",
      "Compute blob properties, save: 10.21\n",
      "Processing section: 112\n"
     ]
    },
    {
     "name": "stdout",
     "output_type": "stream",
     "text": [
      "cp /oasis/projects/nsf/csd395/yuncong/CSHL_data_processed/MD602/MD602_lossless_alignedTo_MD602-N49-2015.12.01-18.41.46_MD602_2_0146_cropped_compressed/MD602-N19-2015.12.01-16.24.09_MD602_3_0057_lossless_alignedTo_MD602-N49-2015.12.01-18.41.46_MD602_2_0146_cropped_compressed.jpg /home/yuncong/csd395/CSHL_cells_v2/detected_cells/MD602/MD602-N19-2015.12.01-16.24.09_MD602_3_0057/MD602-N19-2015.12.01-16.24.09_MD602_3_0057_image.jpg\n"
     ]
    },
    {
     "name": "stderr",
     "output_type": "stream",
     "text": [
      "Child returned 0\n",
      "Load mask: 14.51\n",
      "regionprops: 2.58\n",
      "46995 blobs identified.\n",
      "Save blob coords: 2.56\n",
      "Save blob masks: 5.08\n",
      "Save blob contours, save: 7.66\n",
      "Compute blob properties, save: 10.44\n",
      "Processing section: 113\n"
     ]
    },
    {
     "name": "stdout",
     "output_type": "stream",
     "text": [
      "cp /oasis/projects/nsf/csd395/yuncong/CSHL_data_processed/MD602/MD602_lossless_alignedTo_MD602-N49-2015.12.01-18.41.46_MD602_2_0146_cropped_compressed/MD602-IHC19-2015.12.01-22.47.08_MD602_3_0057_lossless_alignedTo_MD602-N49-2015.12.01-18.41.46_MD602_2_0146_cropped_compressed.jpg /home/yuncong/csd395/CSHL_cells_v2/detected_cells/MD602/MD602-IHC19-2015.12.01-22.47.08_MD602_3_0057/MD602-IHC19-2015.12.01-22.47.08_MD602_3_0057_image.jpg\n"
     ]
    },
    {
     "name": "stderr",
     "output_type": "stream",
     "text": [
      "Child returned 0\n",
      "Load mask: 14.28\n",
      "regionprops: 2.25\n",
      "48033 blobs identified.\n",
      "Save blob coords: 2.62\n",
      "Save blob masks: 5.31\n",
      "Save blob contours, save: 7.91\n",
      "Compute blob properties, save: 10.47\n",
      "Processing section: 114\n"
     ]
    },
    {
     "name": "stdout",
     "output_type": "stream",
     "text": [
      "cp /oasis/projects/nsf/csd395/yuncong/CSHL_data_processed/MD602/MD602_lossless_alignedTo_MD602-N49-2015.12.01-18.41.46_MD602_2_0146_cropped_compressed/MD602-N20-2015.12.01-16.29.14_MD602_1_0058_lossless_alignedTo_MD602-N49-2015.12.01-18.41.46_MD602_2_0146_cropped_compressed.jpg /home/yuncong/csd395/CSHL_cells_v2/detected_cells/MD602/MD602-N20-2015.12.01-16.29.14_MD602_1_0058/MD602-N20-2015.12.01-16.29.14_MD602_1_0058_image.jpg\n"
     ]
    },
    {
     "name": "stderr",
     "output_type": "stream",
     "text": [
      "Child returned 0\n",
      "Load mask: 14.38\n",
      "regionprops: 2.24\n",
      "40756 blobs identified.\n",
      "Save blob coords: 2.35\n",
      "Save blob masks: 4.61\n",
      "Save blob contours, save: 6.93\n",
      "Compute blob properties, save: 8.99\n",
      "Processing section: 115\n"
     ]
    },
    {
     "name": "stdout",
     "output_type": "stream",
     "text": [
      "cp /oasis/projects/nsf/csd395/yuncong/CSHL_data_processed/MD602/MD602_lossless_alignedTo_MD602-N49-2015.12.01-18.41.46_MD602_2_0146_cropped_compressed/MD602-IHC20-2015.12.01-22.52.05_MD602_1_0058_lossless_alignedTo_MD602-N49-2015.12.01-18.41.46_MD602_2_0146_cropped_compressed.jpg /home/yuncong/csd395/CSHL_cells_v2/detected_cells/MD602/MD602-IHC20-2015.12.01-22.52.05_MD602_1_0058/MD602-IHC20-2015.12.01-22.52.05_MD602_1_0058_image.jpg\n"
     ]
    },
    {
     "name": "stderr",
     "output_type": "stream",
     "text": [
      "Child returned 0\n",
      "Load mask: 14.28\n",
      "regionprops: 2.44\n",
      "45959 blobs identified.\n",
      "Save blob coords: 2.60\n",
      "Save blob masks: 5.00\n",
      "Save blob contours, save: 7.49\n",
      "Compute blob properties, save: 10.08\n",
      "Processing section: 116\n"
     ]
    },
    {
     "name": "stdout",
     "output_type": "stream",
     "text": [
      "cp /oasis/projects/nsf/csd395/yuncong/CSHL_data_processed/MD602/MD602_lossless_alignedTo_MD602-N49-2015.12.01-18.41.46_MD602_2_0146_cropped_compressed/MD602-N20-2015.12.01-16.29.14_MD602_2_0059_lossless_alignedTo_MD602-N49-2015.12.01-18.41.46_MD602_2_0146_cropped_compressed.jpg /home/yuncong/csd395/CSHL_cells_v2/detected_cells/MD602/MD602-N20-2015.12.01-16.29.14_MD602_2_0059/MD602-N20-2015.12.01-16.29.14_MD602_2_0059_image.jpg\n"
     ]
    },
    {
     "name": "stderr",
     "output_type": "stream",
     "text": [
      "Child returned 0\n",
      "Load mask: 14.38\n",
      "regionprops: 2.49\n",
      "46068 blobs identified.\n",
      "Save blob coords: 2.61\n",
      "Save blob masks: 5.00\n",
      "Save blob contours, save: 7.77\n",
      "Compute blob properties, save: 10.20\n",
      "Processing section: 117\n"
     ]
    },
    {
     "name": "stdout",
     "output_type": "stream",
     "text": [
      "cp /oasis/projects/nsf/csd395/yuncong/CSHL_data_processed/MD602/MD602_lossless_alignedTo_MD602-N49-2015.12.01-18.41.46_MD602_2_0146_cropped_compressed/MD602-IHC20-2015.12.01-22.52.05_MD602_2_0059_lossless_alignedTo_MD602-N49-2015.12.01-18.41.46_MD602_2_0146_cropped_compressed.jpg /home/yuncong/csd395/CSHL_cells_v2/detected_cells/MD602/MD602-IHC20-2015.12.01-22.52.05_MD602_2_0059/MD602-IHC20-2015.12.01-22.52.05_MD602_2_0059_image.jpg\n"
     ]
    },
    {
     "name": "stderr",
     "output_type": "stream",
     "text": [
      "Child returned 0\n",
      "Load mask: 14.29\n",
      "regionprops: 2.29\n",
      "46259 blobs identified.\n",
      "Save blob coords: 2.57\n",
      "Save blob masks: 5.22\n",
      "Save blob contours, save: 7.88\n",
      "Compute blob properties, save: 9.92\n",
      "Processing section: 118\n"
     ]
    },
    {
     "name": "stdout",
     "output_type": "stream",
     "text": [
      "cp /oasis/projects/nsf/csd395/yuncong/CSHL_data_processed/MD602/MD602_lossless_alignedTo_MD602-N49-2015.12.01-18.41.46_MD602_2_0146_cropped_compressed/MD602-N20-2015.12.01-16.29.14_MD602_3_0060_lossless_alignedTo_MD602-N49-2015.12.01-18.41.46_MD602_2_0146_cropped_compressed.jpg /home/yuncong/csd395/CSHL_cells_v2/detected_cells/MD602/MD602-N20-2015.12.01-16.29.14_MD602_3_0060/MD602-N20-2015.12.01-16.29.14_MD602_3_0060_image.jpg\n"
     ]
    },
    {
     "name": "stderr",
     "output_type": "stream",
     "text": [
      "Child returned 0\n",
      "Load mask: 14.52\n",
      "regionprops: 2.54\n",
      "47914 blobs identified.\n",
      "Save blob coords: 2.62\n",
      "Save blob masks: 5.14\n",
      "Save blob contours, save: 7.91\n",
      "Compute blob properties, save: 10.44\n",
      "Processing section: 119\n"
     ]
    },
    {
     "name": "stdout",
     "output_type": "stream",
     "text": [
      "cp /oasis/projects/nsf/csd395/yuncong/CSHL_data_processed/MD602/MD602_lossless_alignedTo_MD602-N49-2015.12.01-18.41.46_MD602_2_0146_cropped_compressed/MD602-IHC20-2015.12.01-22.52.05_MD602_3_0060_lossless_alignedTo_MD602-N49-2015.12.01-18.41.46_MD602_2_0146_cropped_compressed.jpg /home/yuncong/csd395/CSHL_cells_v2/detected_cells/MD602/MD602-IHC20-2015.12.01-22.52.05_MD602_3_0060/MD602-IHC20-2015.12.01-22.52.05_MD602_3_0060_image.jpg\n"
     ]
    },
    {
     "name": "stderr",
     "output_type": "stream",
     "text": [
      "Child returned 0\n",
      "Load mask: 14.44\n",
      "regionprops: 2.24\n",
      "47936 blobs identified.\n",
      "Save blob coords: 2.65\n",
      "Save blob masks: 5.31\n",
      "Save blob contours, save: 7.95\n",
      "Compute blob properties, save: 10.48\n",
      "Processing section: 120\n"
     ]
    },
    {
     "name": "stdout",
     "output_type": "stream",
     "text": [
      "cp /oasis/projects/nsf/csd395/yuncong/CSHL_data_processed/MD602/MD602_lossless_alignedTo_MD602-N49-2015.12.01-18.41.46_MD602_2_0146_cropped_compressed/MD602-N21-2015.12.01-16.34.19_MD602_1_0061_lossless_alignedTo_MD602-N49-2015.12.01-18.41.46_MD602_2_0146_cropped_compressed.jpg /home/yuncong/csd395/CSHL_cells_v2/detected_cells/MD602/MD602-N21-2015.12.01-16.34.19_MD602_1_0061/MD602-N21-2015.12.01-16.34.19_MD602_1_0061_image.jpg\n"
     ]
    },
    {
     "name": "stderr",
     "output_type": "stream",
     "text": [
      "Child returned 0\n",
      "Load mask: 14.57\n",
      "regionprops: 2.30\n",
      "46330 blobs identified.\n",
      "Save blob coords: 2.65\n",
      "Save blob masks: 5.23\n",
      "Save blob contours, save: 7.71\n",
      "Compute blob properties, save: 10.20\n",
      "Processing section: 121\n"
     ]
    },
    {
     "name": "stdout",
     "output_type": "stream",
     "text": [
      "cp /oasis/projects/nsf/csd395/yuncong/CSHL_data_processed/MD602/MD602_lossless_alignedTo_MD602-N49-2015.12.01-18.41.46_MD602_2_0146_cropped_compressed/MD602-IHC21-2015.12.01-22.57.14_MD602_1_0061_lossless_alignedTo_MD602-N49-2015.12.01-18.41.46_MD602_2_0146_cropped_compressed.jpg /home/yuncong/csd395/CSHL_cells_v2/detected_cells/MD602/MD602-IHC21-2015.12.01-22.57.14_MD602_1_0061/MD602-IHC21-2015.12.01-22.57.14_MD602_1_0061_image.jpg\n"
     ]
    },
    {
     "name": "stderr",
     "output_type": "stream",
     "text": [
      "Child returned 0\n",
      "Load mask: 14.28\n",
      "regionprops: 2.28\n",
      "48364 blobs identified.\n",
      "Save blob coords: 2.69\n",
      "Save blob masks: 5.34\n",
      "Save blob contours, save: 7.87\n",
      "Compute blob properties, save: 10.47\n",
      "Processing section: 122\n"
     ]
    },
    {
     "name": "stdout",
     "output_type": "stream",
     "text": [
      "cp /oasis/projects/nsf/csd395/yuncong/CSHL_data_processed/MD602/MD602_lossless_alignedTo_MD602-N49-2015.12.01-18.41.46_MD602_2_0146_cropped_compressed/MD602-N21-2015.12.01-16.34.19_MD602_2_0062_lossless_alignedTo_MD602-N49-2015.12.01-18.41.46_MD602_2_0146_cropped_compressed.jpg /home/yuncong/csd395/CSHL_cells_v2/detected_cells/MD602/MD602-N21-2015.12.01-16.34.19_MD602_2_0062/MD602-N21-2015.12.01-16.34.19_MD602_2_0062_image.jpg\n"
     ]
    },
    {
     "name": "stderr",
     "output_type": "stream",
     "text": [
      "Child returned 0\n",
      "Load mask: 14.56\n",
      "regionprops: 2.30\n",
      "45812 blobs identified.\n",
      "Save blob coords: 2.63\n",
      "Save blob masks: 5.13\n",
      "Save blob contours, save: 7.66\n",
      "Compute blob properties, save: 10.07\n",
      "Processing section: 123\n"
     ]
    },
    {
     "name": "stdout",
     "output_type": "stream",
     "text": [
      "cp /oasis/projects/nsf/csd395/yuncong/CSHL_data_processed/MD602/MD602_lossless_alignedTo_MD602-N49-2015.12.01-18.41.46_MD602_2_0146_cropped_compressed/MD602-IHC21-2015.12.01-22.57.14_MD602_2_0062_lossless_alignedTo_MD602-N49-2015.12.01-18.41.46_MD602_2_0146_cropped_compressed.jpg /home/yuncong/csd395/CSHL_cells_v2/detected_cells/MD602/MD602-IHC21-2015.12.01-22.57.14_MD602_2_0062/MD602-IHC21-2015.12.01-22.57.14_MD602_2_0062_image.jpg\n"
     ]
    },
    {
     "name": "stderr",
     "output_type": "stream",
     "text": [
      "Child returned 0\n",
      "Load mask: 14.28\n",
      "regionprops: 2.23\n",
      "50302 blobs identified.\n",
      "Save blob coords: 2.72\n",
      "Save blob masks: 5.48\n",
      "Save blob contours, save: 8.10\n",
      "Compute blob properties, save: 10.76\n",
      "Processing section: 124\n"
     ]
    },
    {
     "name": "stdout",
     "output_type": "stream",
     "text": [
      "cp /oasis/projects/nsf/csd395/yuncong/CSHL_data_processed/MD602/MD602_lossless_alignedTo_MD602-N49-2015.12.01-18.41.46_MD602_2_0146_cropped_compressed/MD602-N21-2015.12.01-16.34.19_MD602_3_0063_lossless_alignedTo_MD602-N49-2015.12.01-18.41.46_MD602_2_0146_cropped_compressed.jpg /home/yuncong/csd395/CSHL_cells_v2/detected_cells/MD602/MD602-N21-2015.12.01-16.34.19_MD602_3_0063/MD602-N21-2015.12.01-16.34.19_MD602_3_0063_image.jpg\n"
     ]
    },
    {
     "name": "stderr",
     "output_type": "stream",
     "text": [
      "Child returned 0\n",
      "Load mask: 14.54\n",
      "regionprops: 2.64\n",
      "49336 blobs identified.\n",
      "Save blob coords: 2.68\n",
      "Save blob masks: 5.26\n",
      "Save blob contours, save: 8.09\n",
      "Compute blob properties, save: 10.55\n",
      "Processing section: 125\n"
     ]
    },
    {
     "name": "stdout",
     "output_type": "stream",
     "text": [
      "cp /oasis/projects/nsf/csd395/yuncong/CSHL_data_processed/MD602/MD602_lossless_alignedTo_MD602-N49-2015.12.01-18.41.46_MD602_2_0146_cropped_compressed/MD602-IHC21-2015.12.01-22.57.14_MD602_3_0063_lossless_alignedTo_MD602-N49-2015.12.01-18.41.46_MD602_2_0146_cropped_compressed.jpg /home/yuncong/csd395/CSHL_cells_v2/detected_cells/MD602/MD602-IHC21-2015.12.01-22.57.14_MD602_3_0063/MD602-IHC21-2015.12.01-22.57.14_MD602_3_0063_image.jpg\n"
     ]
    },
    {
     "name": "stderr",
     "output_type": "stream",
     "text": [
      "Child returned 0\n",
      "Load mask: 14.29\n",
      "regionprops: 2.29\n",
      "50259 blobs identified.\n",
      "Save blob coords: 2.73\n",
      "Save blob masks: 5.54\n",
      "Save blob contours, save: 8.28\n",
      "Compute blob properties, save: 10.83\n",
      "Processing section: 126\n"
     ]
    },
    {
     "name": "stdout",
     "output_type": "stream",
     "text": [
      "cp /oasis/projects/nsf/csd395/yuncong/CSHL_data_processed/MD602/MD602_lossless_alignedTo_MD602-N49-2015.12.01-18.41.46_MD602_2_0146_cropped_compressed/MD602-N22-2015.12.01-16.40.03_MD602_1_0064_lossless_alignedTo_MD602-N49-2015.12.01-18.41.46_MD602_2_0146_cropped_compressed.jpg /home/yuncong/csd395/CSHL_cells_v2/detected_cells/MD602/MD602-N22-2015.12.01-16.40.03_MD602_1_0064/MD602-N22-2015.12.01-16.40.03_MD602_1_0064_image.jpg\n"
     ]
    },
    {
     "name": "stderr",
     "output_type": "stream",
     "text": [
      "Child returned 0\n",
      "Load mask: 14.53\n",
      "regionprops: 2.32\n",
      "47070 blobs identified.\n",
      "Save blob coords: 2.67\n",
      "Save blob masks: 5.11\n",
      "Save blob contours, save: 7.95\n",
      "Compute blob properties, save: 10.46\n",
      "Processing section: 127\n"
     ]
    },
    {
     "name": "stdout",
     "output_type": "stream",
     "text": [
      "cp /oasis/projects/nsf/csd395/yuncong/CSHL_data_processed/MD602/MD602_lossless_alignedTo_MD602-N49-2015.12.01-18.41.46_MD602_2_0146_cropped_compressed/MD602-N22-2015.12.01-16.40.03_MD602_2_0065_lossless_alignedTo_MD602-N49-2015.12.01-18.41.46_MD602_2_0146_cropped_compressed.jpg /home/yuncong/csd395/CSHL_cells_v2/detected_cells/MD602/MD602-N22-2015.12.01-16.40.03_MD602_2_0065/MD602-N22-2015.12.01-16.40.03_MD602_2_0065_image.jpg\n"
     ]
    },
    {
     "name": "stderr",
     "output_type": "stream",
     "text": [
      "Child returned 0\n",
      "Load mask: 14.48\n",
      "regionprops: 2.60\n",
      "48882 blobs identified.\n",
      "Save blob coords: 2.72\n",
      "Save blob masks: 5.31\n",
      "Save blob contours, save: 8.15\n",
      "Compute blob properties, save: 10.50\n",
      "Processing section: 128\n"
     ]
    },
    {
     "name": "stdout",
     "output_type": "stream",
     "text": [
      "cp /oasis/projects/nsf/csd395/yuncong/CSHL_data_processed/MD602/MD602_lossless_alignedTo_MD602-N49-2015.12.01-18.41.46_MD602_2_0146_cropped_compressed/MD602-N22-2015.12.01-16.40.03_MD602_1_0066_lossless_alignedTo_MD602-N49-2015.12.01-18.41.46_MD602_2_0146_cropped_compressed.jpg /home/yuncong/csd395/CSHL_cells_v2/detected_cells/MD602/MD602-N22-2015.12.01-16.40.03_MD602_1_0066/MD602-N22-2015.12.01-16.40.03_MD602_1_0066_image.jpg\n"
     ]
    },
    {
     "name": "stderr",
     "output_type": "stream",
     "text": [
      "Child returned 0\n",
      "Load mask: 14.53\n",
      "regionprops: 2.66\n",
      "49039 blobs identified.\n",
      "Save blob coords: 2.65\n",
      "Save blob masks: 5.25\n",
      "Save blob contours, save: 8.07\n",
      "Compute blob properties, save: 10.70\n",
      "Processing section: 129\n"
     ]
    },
    {
     "name": "stdout",
     "output_type": "stream",
     "text": [
      "cp /oasis/projects/nsf/csd395/yuncong/CSHL_data_processed/MD602/MD602_lossless_alignedTo_MD602-N49-2015.12.01-18.41.46_MD602_2_0146_cropped_compressed/MD602-N23-2015.12.01-16.45.35_MD602_3_0067_lossless_alignedTo_MD602-N49-2015.12.01-18.41.46_MD602_2_0146_cropped_compressed.jpg /home/yuncong/csd395/CSHL_cells_v2/detected_cells/MD602/MD602-N23-2015.12.01-16.45.35_MD602_3_0067/MD602-N23-2015.12.01-16.45.35_MD602_3_0067_image.jpg\n"
     ]
    },
    {
     "name": "stderr",
     "output_type": "stream",
     "text": [
      "Child returned 0\n",
      "Load mask: 14.36\n",
      "regionprops: 2.18\n",
      "30705 blobs identified.\n",
      "Save blob coords: 2.45\n",
      "Save blob masks: 3.84\n",
      "Save blob contours, save: 5.47\n",
      "Compute blob properties, save: 7.51\n",
      "Processing section: 130\n"
     ]
    },
    {
     "name": "stdout",
     "output_type": "stream",
     "text": [
      "cp /oasis/projects/nsf/csd395/yuncong/CSHL_data_processed/MD602/MD602_lossless_alignedTo_MD602-N49-2015.12.01-18.41.46_MD602_2_0146_cropped_compressed/MD602-IHC23-2015.12.01-23.02.41_MD602_1_0067_lossless_alignedTo_MD602-N49-2015.12.01-18.41.46_MD602_2_0146_cropped_compressed.jpg /home/yuncong/csd395/CSHL_cells_v2/detected_cells/MD602/MD602-IHC23-2015.12.01-23.02.41_MD602_1_0067/MD602-IHC23-2015.12.01-23.02.41_MD602_1_0067_image.jpg\n"
     ]
    },
    {
     "name": "stderr",
     "output_type": "stream",
     "text": [
      "Child returned 0\n",
      "Load mask: 14.47\n",
      "regionprops: 2.16\n",
      "50666 blobs identified.\n",
      "Save blob coords: 2.73\n",
      "Save blob masks: 5.53\n",
      "Save blob contours, save: 8.61\n",
      "Compute blob properties, save: 11.34\n",
      "Processing section: 131\n"
     ]
    },
    {
     "name": "stdout",
     "output_type": "stream",
     "text": [
      "cp /oasis/projects/nsf/csd395/yuncong/CSHL_data_processed/MD602/MD602_lossless_alignedTo_MD602-N49-2015.12.01-18.41.46_MD602_2_0146_cropped_compressed/MD602-N23-2015.12.01-16.45.35_MD602_2_0068_lossless_alignedTo_MD602-N49-2015.12.01-18.41.46_MD602_2_0146_cropped_compressed.jpg /home/yuncong/csd395/CSHL_cells_v2/detected_cells/MD602/MD602-N23-2015.12.01-16.45.35_MD602_2_0068/MD602-N23-2015.12.01-16.45.35_MD602_2_0068_image.jpg\n"
     ]
    },
    {
     "name": "stderr",
     "output_type": "stream",
     "text": [
      "Child returned 0\n",
      "Load mask: 14.30\n",
      "regionprops: 2.88\n",
      "47002 blobs identified.\n",
      "Save blob coords: 2.75\n",
      "Save blob masks: 5.18\n",
      "Save blob contours, save: 7.87\n",
      "Compute blob properties, save: 10.83\n",
      "Processing section: 132\n"
     ]
    },
    {
     "name": "stdout",
     "output_type": "stream",
     "text": [
      "cp /oasis/projects/nsf/csd395/yuncong/CSHL_data_processed/MD602/MD602_lossless_alignedTo_MD602-N49-2015.12.01-18.41.46_MD602_2_0146_cropped_compressed/MD602-IHC23-2015.12.01-23.02.41_MD602_2_0068_lossless_alignedTo_MD602-N49-2015.12.01-18.41.46_MD602_2_0146_cropped_compressed.jpg /home/yuncong/csd395/CSHL_cells_v2/detected_cells/MD602/MD602-IHC23-2015.12.01-23.02.41_MD602_2_0068/MD602-IHC23-2015.12.01-23.02.41_MD602_2_0068_image.jpg\n"
     ]
    },
    {
     "name": "stderr",
     "output_type": "stream",
     "text": [
      "Child returned 0\n",
      "Load mask: 14.28\n",
      "regionprops: 2.22\n",
      "51705 blobs identified.\n",
      "Save blob coords: 2.72\n",
      "Save blob masks: 5.68\n",
      "Save blob contours, save: 8.47\n",
      "Compute blob properties, save: 11.06\n",
      "Processing section: 133\n"
     ]
    },
    {
     "name": "stdout",
     "output_type": "stream",
     "text": [
      "cp /oasis/projects/nsf/csd395/yuncong/CSHL_data_processed/MD602/MD602_lossless_alignedTo_MD602-N49-2015.12.01-18.41.46_MD602_2_0146_cropped_compressed/MD602-N23-2015.12.01-16.45.35_MD602_1_0069_lossless_alignedTo_MD602-N49-2015.12.01-18.41.46_MD602_2_0146_cropped_compressed.jpg /home/yuncong/csd395/CSHL_cells_v2/detected_cells/MD602/MD602-N23-2015.12.01-16.45.35_MD602_1_0069/MD602-N23-2015.12.01-16.45.35_MD602_1_0069_image.jpg\n"
     ]
    },
    {
     "name": "stderr",
     "output_type": "stream",
     "text": [
      "Child returned 0\n",
      "Load mask: 14.29\n",
      "regionprops: 2.62\n",
      "51327 blobs identified.\n",
      "Save blob coords: 2.73\n",
      "Save blob masks: 5.48\n",
      "Save blob contours, save: 8.66\n",
      "Compute blob properties, save: 10.94\n",
      "Processing section: 134\n"
     ]
    },
    {
     "name": "stdout",
     "output_type": "stream",
     "text": [
      "cp /oasis/projects/nsf/csd395/yuncong/CSHL_data_processed/MD602/MD602_lossless_alignedTo_MD602-N49-2015.12.01-18.41.46_MD602_2_0146_cropped_compressed/MD602-IHC23-2015.12.01-23.02.41_MD602_3_0069_lossless_alignedTo_MD602-N49-2015.12.01-18.41.46_MD602_2_0146_cropped_compressed.jpg /home/yuncong/csd395/CSHL_cells_v2/detected_cells/MD602/MD602-IHC23-2015.12.01-23.02.41_MD602_3_0069/MD602-IHC23-2015.12.01-23.02.41_MD602_3_0069_image.jpg\n"
     ]
    },
    {
     "name": "stderr",
     "output_type": "stream",
     "text": [
      "Child returned 0\n",
      "Load mask: 14.28\n",
      "regionprops: 2.62\n",
      "52356 blobs identified.\n",
      "Save blob coords: 2.73\n",
      "Save blob masks: 5.57\n",
      "Save blob contours, save: 8.62\n",
      "Compute blob properties, save: 11.25\n",
      "Processing section: 135\n"
     ]
    },
    {
     "name": "stdout",
     "output_type": "stream",
     "text": [
      "cp /oasis/projects/nsf/csd395/yuncong/CSHL_data_processed/MD602/MD602_lossless_alignedTo_MD602-N49-2015.12.01-18.41.46_MD602_2_0146_cropped_compressed/MD602-N24-2015.12.01-16.50.57_MD602_1_0070_lossless_alignedTo_MD602-N49-2015.12.01-18.41.46_MD602_2_0146_cropped_compressed.jpg /home/yuncong/csd395/CSHL_cells_v2/detected_cells/MD602/MD602-N24-2015.12.01-16.50.57_MD602_1_0070/MD602-N24-2015.12.01-16.50.57_MD602_1_0070_image.jpg\n"
     ]
    },
    {
     "name": "stderr",
     "output_type": "stream",
     "text": [
      "Child returned 0\n",
      "Load mask: 14.28\n",
      "regionprops: 2.62\n",
      "50818 blobs identified.\n",
      "Save blob coords: 2.78\n",
      "Save blob masks: 5.53\n",
      "Save blob contours, save: 8.21\n",
      "Compute blob properties, save: 11.07\n",
      "Processing section: 136\n"
     ]
    },
    {
     "name": "stdout",
     "output_type": "stream",
     "text": [
      "cp /oasis/projects/nsf/csd395/yuncong/CSHL_data_processed/MD602/MD602_lossless_alignedTo_MD602-N49-2015.12.01-18.41.46_MD602_2_0146_cropped_compressed/MD602-IHC24-2015.12.01-23.08.05_MD602_1_0070_lossless_alignedTo_MD602-N49-2015.12.01-18.41.46_MD602_2_0146_cropped_compressed.jpg /home/yuncong/csd395/CSHL_cells_v2/detected_cells/MD602/MD602-IHC24-2015.12.01-23.08.05_MD602_1_0070/MD602-IHC24-2015.12.01-23.08.05_MD602_1_0070_image.jpg\n"
     ]
    },
    {
     "name": "stderr",
     "output_type": "stream",
     "text": [
      "Child returned 0\n",
      "Load mask: 14.45\n",
      "regionprops: 2.56\n",
      "53108 blobs identified.\n",
      "Save blob coords: 2.86\n",
      "Save blob masks: 5.74\n",
      "Save blob contours, save: 8.60\n",
      "Compute blob properties, save: 11.34\n",
      "Processing section: 137\n"
     ]
    },
    {
     "name": "stdout",
     "output_type": "stream",
     "text": [
      "cp /oasis/projects/nsf/csd395/yuncong/CSHL_data_processed/MD602/MD602_lossless_alignedTo_MD602-N49-2015.12.01-18.41.46_MD602_2_0146_cropped_compressed/MD602-N24-2015.12.01-16.50.57_MD602_2_0071_lossless_alignedTo_MD602-N49-2015.12.01-18.41.46_MD602_2_0146_cropped_compressed.jpg /home/yuncong/csd395/CSHL_cells_v2/detected_cells/MD602/MD602-N24-2015.12.01-16.50.57_MD602_2_0071/MD602-N24-2015.12.01-16.50.57_MD602_2_0071_image.jpg\n"
     ]
    },
    {
     "name": "stderr",
     "output_type": "stream",
     "text": [
      "Child returned 0\n",
      "Load mask: 14.28\n",
      "regionprops: 2.67\n",
      "53845 blobs identified.\n",
      "Save blob coords: 2.94\n",
      "Save blob masks: 5.87\n",
      "Save blob contours, save: 8.87\n",
      "Compute blob properties, save: 11.84\n",
      "Processing section: 138\n"
     ]
    },
    {
     "name": "stdout",
     "output_type": "stream",
     "text": [
      "cp /oasis/projects/nsf/csd395/yuncong/CSHL_data_processed/MD602/MD602_lossless_alignedTo_MD602-N49-2015.12.01-18.41.46_MD602_2_0146_cropped_compressed/MD602-IHC24-2015.12.01-23.08.05_MD602_2_0071_lossless_alignedTo_MD602-N49-2015.12.01-18.41.46_MD602_2_0146_cropped_compressed.jpg /home/yuncong/csd395/CSHL_cells_v2/detected_cells/MD602/MD602-IHC24-2015.12.01-23.08.05_MD602_2_0071/MD602-IHC24-2015.12.01-23.08.05_MD602_2_0071_image.jpg\n"
     ]
    },
    {
     "name": "stderr",
     "output_type": "stream",
     "text": [
      "Child returned 0\n",
      "Load mask: 14.34\n",
      "regionprops: 2.29\n",
      "54618 blobs identified.\n",
      "Save blob coords: 3.03\n",
      "Save blob masks: 6.12\n",
      "Save blob contours, save: 9.02\n",
      "Compute blob properties, save: 11.95\n",
      "Processing section: 139\n"
     ]
    },
    {
     "name": "stdout",
     "output_type": "stream",
     "text": [
      "cp /oasis/projects/nsf/csd395/yuncong/CSHL_data_processed/MD602/MD602_lossless_alignedTo_MD602-N49-2015.12.01-18.41.46_MD602_2_0146_cropped_compressed/MD602-N24-2015.12.01-16.50.57_MD602_3_0072_lossless_alignedTo_MD602-N49-2015.12.01-18.41.46_MD602_2_0146_cropped_compressed.jpg /home/yuncong/csd395/CSHL_cells_v2/detected_cells/MD602/MD602-N24-2015.12.01-16.50.57_MD602_3_0072/MD602-N24-2015.12.01-16.50.57_MD602_3_0072_image.jpg\n"
     ]
    },
    {
     "name": "stderr",
     "output_type": "stream",
     "text": [
      "Child returned 0\n",
      "Load mask: 14.27\n",
      "regionprops: 2.33\n",
      "53751 blobs identified.\n",
      "Save blob coords: 2.82\n",
      "Save blob masks: 5.86\n",
      "Save blob contours, save: 9.29\n",
      "Compute blob properties, save: 11.77\n",
      "Processing section: 140\n"
     ]
    },
    {
     "name": "stdout",
     "output_type": "stream",
     "text": [
      "cp /oasis/projects/nsf/csd395/yuncong/CSHL_data_processed/MD602/MD602_lossless_alignedTo_MD602-N49-2015.12.01-18.41.46_MD602_2_0146_cropped_compressed/MD602-IHC24-2015.12.01-23.08.05_MD602_3_0072_lossless_alignedTo_MD602-N49-2015.12.01-18.41.46_MD602_2_0146_cropped_compressed.jpg /home/yuncong/csd395/CSHL_cells_v2/detected_cells/MD602/MD602-IHC24-2015.12.01-23.08.05_MD602_3_0072/MD602-IHC24-2015.12.01-23.08.05_MD602_3_0072_image.jpg\n"
     ]
    },
    {
     "name": "stderr",
     "output_type": "stream",
     "text": [
      "Child returned 0\n",
      "Load mask: 14.36\n",
      "regionprops: 2.29\n",
      "54632 blobs identified.\n",
      "Save blob coords: 2.88\n",
      "Save blob masks: 5.82\n",
      "Save blob contours, save: 9.32\n",
      "Compute blob properties, save: 11.76\n",
      "Processing section: 141\n"
     ]
    },
    {
     "name": "stdout",
     "output_type": "stream",
     "text": [
      "cp /oasis/projects/nsf/csd395/yuncong/CSHL_data_processed/MD602/MD602_lossless_alignedTo_MD602-N49-2015.12.01-18.41.46_MD602_2_0146_cropped_compressed/MD602-N25-2015.12.01-16.56.17_MD602_1_0073_lossless_alignedTo_MD602-N49-2015.12.01-18.41.46_MD602_2_0146_cropped_compressed.jpg /home/yuncong/csd395/CSHL_cells_v2/detected_cells/MD602/MD602-N25-2015.12.01-16.56.17_MD602_1_0073/MD602-N25-2015.12.01-16.56.17_MD602_1_0073_image.jpg\n"
     ]
    },
    {
     "name": "stderr",
     "output_type": "stream",
     "text": [
      "Child returned 0\n",
      "Load mask: 14.47\n",
      "regionprops: 2.28\n",
      "52633 blobs identified.\n",
      "Save blob coords: 2.94\n",
      "Save blob masks: 5.92\n",
      "Save blob contours, save: 8.44\n",
      "Compute blob properties, save: 11.75\n",
      "Processing section: 142\n"
     ]
    },
    {
     "name": "stdout",
     "output_type": "stream",
     "text": [
      "cp /oasis/projects/nsf/csd395/yuncong/CSHL_data_processed/MD602/MD602_lossless_alignedTo_MD602-N49-2015.12.01-18.41.46_MD602_2_0146_cropped_compressed/MD602-IHC25-2015.12.01-23.13.42_MD602_1_0073_lossless_alignedTo_MD602-N49-2015.12.01-18.41.46_MD602_2_0146_cropped_compressed.jpg /home/yuncong/csd395/CSHL_cells_v2/detected_cells/MD602/MD602-IHC25-2015.12.01-23.13.42_MD602_1_0073/MD602-IHC25-2015.12.01-23.13.42_MD602_1_0073_image.jpg\n"
     ]
    },
    {
     "name": "stderr",
     "output_type": "stream",
     "text": [
      "Child returned 0\n",
      "Load mask: 14.28\n",
      "regionprops: 2.66\n",
      "55265 blobs identified.\n",
      "Save blob coords: 2.92\n",
      "Save blob masks: 5.89\n",
      "Save blob contours, save: 8.97\n",
      "Compute blob properties, save: 11.68\n",
      "Processing section: 143\n"
     ]
    },
    {
     "name": "stdout",
     "output_type": "stream",
     "text": [
      "cp /oasis/projects/nsf/csd395/yuncong/CSHL_data_processed/MD602/MD602_lossless_alignedTo_MD602-N49-2015.12.01-18.41.46_MD602_2_0146_cropped_compressed/MD602-N25-2015.12.01-16.56.17_MD602_2_0074_lossless_alignedTo_MD602-N49-2015.12.01-18.41.46_MD602_2_0146_cropped_compressed.jpg /home/yuncong/csd395/CSHL_cells_v2/detected_cells/MD602/MD602-N25-2015.12.01-16.56.17_MD602_2_0074/MD602-N25-2015.12.01-16.56.17_MD602_2_0074_image.jpg\n"
     ]
    },
    {
     "name": "stderr",
     "output_type": "stream",
     "text": [
      "Child returned 0\n",
      "Load mask: 14.42\n",
      "regionprops: 2.68\n",
      "52494 blobs identified.\n",
      "Save blob coords: 2.91\n",
      "Save blob masks: 5.69\n",
      "Save blob contours, save: 8.67\n",
      "Compute blob properties, save: 11.54\n",
      "Processing section: 144\n"
     ]
    },
    {
     "name": "stdout",
     "output_type": "stream",
     "text": [
      "cp /oasis/projects/nsf/csd395/yuncong/CSHL_data_processed/MD602/MD602_lossless_alignedTo_MD602-N49-2015.12.01-18.41.46_MD602_2_0146_cropped_compressed/MD602-IHC25-2015.12.01-23.13.42_MD602_2_0074_lossless_alignedTo_MD602-N49-2015.12.01-18.41.46_MD602_2_0146_cropped_compressed.jpg /home/yuncong/csd395/CSHL_cells_v2/detected_cells/MD602/MD602-IHC25-2015.12.01-23.13.42_MD602_2_0074/MD602-IHC25-2015.12.01-23.13.42_MD602_2_0074_image.jpg\n"
     ]
    },
    {
     "name": "stderr",
     "output_type": "stream",
     "text": [
      "Child returned 0\n",
      "Load mask: 14.47\n",
      "regionprops: 2.42\n",
      "57093 blobs identified.\n",
      "Save blob coords: 3.03\n",
      "Save blob masks: 6.33\n",
      "Save blob contours, save: 9.17\n",
      "Compute blob properties, save: 12.28\n",
      "Processing section: 145\n"
     ]
    },
    {
     "name": "stdout",
     "output_type": "stream",
     "text": [
      "cp /oasis/projects/nsf/csd395/yuncong/CSHL_data_processed/MD602/MD602_lossless_alignedTo_MD602-N49-2015.12.01-18.41.46_MD602_2_0146_cropped_compressed/MD602-N25-2015.12.01-16.56.17_MD602_1_0075_lossless_alignedTo_MD602-N49-2015.12.01-18.41.46_MD602_2_0146_cropped_compressed.jpg /home/yuncong/csd395/CSHL_cells_v2/detected_cells/MD602/MD602-N25-2015.12.01-16.56.17_MD602_1_0075/MD602-N25-2015.12.01-16.56.17_MD602_1_0075_image.jpg\n"
     ]
    },
    {
     "name": "stderr",
     "output_type": "stream",
     "text": [
      "Child returned 0\n",
      "Load mask: 14.28\n",
      "regionprops: 2.66\n",
      "54346 blobs identified.\n",
      "Save blob coords: 2.87\n",
      "Save blob masks: 5.74\n",
      "Save blob contours, save: 8.85\n",
      "Compute blob properties, save: 11.70\n",
      "Processing section: 146\n"
     ]
    },
    {
     "name": "stdout",
     "output_type": "stream",
     "text": [
      "cp /oasis/projects/nsf/csd395/yuncong/CSHL_data_processed/MD602/MD602_lossless_alignedTo_MD602-N49-2015.12.01-18.41.46_MD602_2_0146_cropped_compressed/MD602-IHC25-2015.12.01-23.13.42_MD602_3_0075_lossless_alignedTo_MD602-N49-2015.12.01-18.41.46_MD602_2_0146_cropped_compressed.jpg /home/yuncong/csd395/CSHL_cells_v2/detected_cells/MD602/MD602-IHC25-2015.12.01-23.13.42_MD602_3_0075/MD602-IHC25-2015.12.01-23.13.42_MD602_3_0075_image.jpg\n"
     ]
    },
    {
     "name": "stderr",
     "output_type": "stream",
     "text": [
      "Child returned 0\n",
      "Load mask: 14.42\n",
      "regionprops: 2.77\n",
      "56687 blobs identified.\n",
      "Save blob coords: 3.00\n",
      "Save blob masks: 6.10\n",
      "Save blob contours, save: 9.29\n",
      "Compute blob properties, save: 12.33\n",
      "Processing section: 147\n"
     ]
    },
    {
     "name": "stdout",
     "output_type": "stream",
     "text": [
      "cp /oasis/projects/nsf/csd395/yuncong/CSHL_data_processed/MD602/MD602_lossless_alignedTo_MD602-N49-2015.12.01-18.41.46_MD602_2_0146_cropped_compressed/MD602-N26-2015.12.01-17.01.43_MD602_1_0076_lossless_alignedTo_MD602-N49-2015.12.01-18.41.46_MD602_2_0146_cropped_compressed.jpg /home/yuncong/csd395/CSHL_cells_v2/detected_cells/MD602/MD602-N26-2015.12.01-17.01.43_MD602_1_0076/MD602-N26-2015.12.01-17.01.43_MD602_1_0076_image.jpg\n"
     ]
    },
    {
     "name": "stderr",
     "output_type": "stream",
     "text": [
      "Child returned 0\n",
      "Load mask: 14.27\n",
      "regionprops: 2.30\n",
      "54476 blobs identified.\n",
      "Save blob coords: 3.03\n",
      "Save blob masks: 5.89\n",
      "Save blob contours, save: 9.07\n",
      "Compute blob properties, save: 11.97\n",
      "Processing section: 148\n"
     ]
    },
    {
     "name": "stdout",
     "output_type": "stream",
     "text": [
      "cp /oasis/projects/nsf/csd395/yuncong/CSHL_data_processed/MD602/MD602_lossless_alignedTo_MD602-N49-2015.12.01-18.41.46_MD602_2_0146_cropped_compressed/MD602-IHC26-2015.12.01-23.19.04_MD602_3_0076_lossless_alignedTo_MD602-N49-2015.12.01-18.41.46_MD602_2_0146_cropped_compressed.jpg /home/yuncong/csd395/CSHL_cells_v2/detected_cells/MD602/MD602-IHC26-2015.12.01-23.19.04_MD602_3_0076/MD602-IHC26-2015.12.01-23.19.04_MD602_3_0076_image.jpg\n"
     ]
    },
    {
     "name": "stderr",
     "output_type": "stream",
     "text": [
      "Child returned 0\n",
      "Load mask: 14.59\n",
      "regionprops: 2.39\n",
      "57495 blobs identified.\n",
      "Save blob coords: 3.05\n",
      "Save blob masks: 6.31\n",
      "Save blob contours, save: 9.26\n",
      "Compute blob properties, save: 12.35\n",
      "Processing section: 149\n"
     ]
    },
    {
     "name": "stdout",
     "output_type": "stream",
     "text": [
      "cp /oasis/projects/nsf/csd395/yuncong/CSHL_data_processed/MD602/MD602_lossless_alignedTo_MD602-N49-2015.12.01-18.41.46_MD602_2_0146_cropped_compressed/MD602-N26-2015.12.01-17.01.43_MD602_2_0077_lossless_alignedTo_MD602-N49-2015.12.01-18.41.46_MD602_2_0146_cropped_compressed.jpg /home/yuncong/csd395/CSHL_cells_v2/detected_cells/MD602/MD602-N26-2015.12.01-17.01.43_MD602_2_0077/MD602-N26-2015.12.01-17.01.43_MD602_2_0077_image.jpg\n"
     ]
    },
    {
     "name": "stderr",
     "output_type": "stream",
     "text": [
      "Child returned 0\n",
      "Load mask: 14.27\n",
      "regionprops: 2.64\n",
      "57822 blobs identified.\n",
      "Save blob coords: 3.12\n",
      "Save blob masks: 6.11\n",
      "Save blob contours, save: 9.40\n",
      "Compute blob properties, save: 12.40\n",
      "Processing section: 150\n"
     ]
    },
    {
     "name": "stdout",
     "output_type": "stream",
     "text": [
      "cp /oasis/projects/nsf/csd395/yuncong/CSHL_data_processed/MD602/MD602_lossless_alignedTo_MD602-N49-2015.12.01-18.41.46_MD602_2_0146_cropped_compressed/MD602-IHC26-2015.12.01-23.19.04_MD602_2_0077_lossless_alignedTo_MD602-N49-2015.12.01-18.41.46_MD602_2_0146_cropped_compressed.jpg /home/yuncong/csd395/CSHL_cells_v2/detected_cells/MD602/MD602-IHC26-2015.12.01-23.19.04_MD602_2_0077/MD602-IHC26-2015.12.01-23.19.04_MD602_2_0077_image.jpg\n"
     ]
    },
    {
     "name": "stderr",
     "output_type": "stream",
     "text": [
      "Child returned 0\n",
      "Load mask: 14.58\n",
      "regionprops: 2.77\n",
      "57605 blobs identified.\n",
      "Save blob coords: 3.09\n",
      "Save blob masks: 6.18\n",
      "Save blob contours, save: 9.14\n",
      "Compute blob properties, save: 12.36\n",
      "Processing section: 151\n"
     ]
    },
    {
     "name": "stdout",
     "output_type": "stream",
     "text": [
      "cp /oasis/projects/nsf/csd395/yuncong/CSHL_data_processed/MD602/MD602_lossless_alignedTo_MD602-N49-2015.12.01-18.41.46_MD602_2_0146_cropped_compressed/MD602-N27-2015.12.01-17.05.22_MD602_3_0079_lossless_alignedTo_MD602-N49-2015.12.01-18.41.46_MD602_2_0146_cropped_compressed.jpg /home/yuncong/csd395/CSHL_cells_v2/detected_cells/MD602/MD602-N27-2015.12.01-17.05.22_MD602_3_0079/MD602-N27-2015.12.01-17.05.22_MD602_3_0079_image.jpg\n"
     ]
    },
    {
     "name": "stderr",
     "output_type": "stream",
     "text": [
      "Child returned 0\n",
      "Load mask: 14.32\n",
      "regionprops: 2.78\n",
      "58818 blobs identified.\n",
      "Save blob coords: 3.21\n",
      "Save blob masks: 6.43\n",
      "Save blob contours, save: 9.51\n",
      "Compute blob properties, save: 12.68\n",
      "Processing section: 152\n"
     ]
    },
    {
     "name": "stdout",
     "output_type": "stream",
     "text": [
      "cp /oasis/projects/nsf/csd395/yuncong/CSHL_data_processed/MD602/MD602_lossless_alignedTo_MD602-N49-2015.12.01-18.41.46_MD602_2_0146_cropped_compressed/MD602-IHC27-2015.12.01-23.23.07_MD602_1_0079_lossless_alignedTo_MD602-N49-2015.12.01-18.41.46_MD602_2_0146_cropped_compressed.jpg /home/yuncong/csd395/CSHL_cells_v2/detected_cells/MD602/MD602-IHC27-2015.12.01-23.23.07_MD602_1_0079/MD602-IHC27-2015.12.01-23.23.07_MD602_1_0079_image.jpg\n"
     ]
    },
    {
     "name": "stderr",
     "output_type": "stream",
     "text": [
      "Child returned 0\n",
      "Load mask: 14.57\n",
      "regionprops: 2.73\n",
      "58987 blobs identified.\n",
      "Save blob coords: 3.12\n",
      "Save blob masks: 6.36\n",
      "Save blob contours, save: 9.66\n",
      "Compute blob properties, save: 12.50\n",
      "Processing section: 153\n"
     ]
    },
    {
     "name": "stdout",
     "output_type": "stream",
     "text": [
      "cp /oasis/projects/nsf/csd395/yuncong/CSHL_data_processed/MD602/MD602_lossless_alignedTo_MD602-N49-2015.12.01-18.41.46_MD602_2_0146_cropped_compressed/MD602-N27-2015.12.01-17.05.22_MD602_1_0081_lossless_alignedTo_MD602-N49-2015.12.01-18.41.46_MD602_2_0146_cropped_compressed.jpg /home/yuncong/csd395/CSHL_cells_v2/detected_cells/MD602/MD602-N27-2015.12.01-17.05.22_MD602_1_0081/MD602-N27-2015.12.01-17.05.22_MD602_1_0081_image.jpg\n"
     ]
    },
    {
     "name": "stderr",
     "output_type": "stream",
     "text": [
      "Child returned 0\n",
      "Load mask: 14.41\n",
      "regionprops: 2.72\n",
      "60086 blobs identified.\n",
      "Save blob coords: 3.27\n",
      "Save blob masks: 6.48\n",
      "Save blob contours, save: 9.59\n",
      "Compute blob properties, save: 13.11\n",
      "Processing section: 154\n"
     ]
    },
    {
     "name": "stdout",
     "output_type": "stream",
     "text": [
      "cp /oasis/projects/nsf/csd395/yuncong/CSHL_data_processed/MD602/MD602_lossless_alignedTo_MD602-N49-2015.12.01-18.41.46_MD602_2_0146_cropped_compressed/MD602-IHC27-2015.12.01-23.23.07_MD602_2_0080_lossless_alignedTo_MD602-N49-2015.12.01-18.41.46_MD602_2_0146_cropped_compressed.jpg /home/yuncong/csd395/CSHL_cells_v2/detected_cells/MD602/MD602-IHC27-2015.12.01-23.23.07_MD602_2_0080/MD602-IHC27-2015.12.01-23.23.07_MD602_2_0080_image.jpg\n"
     ]
    },
    {
     "name": "stderr",
     "output_type": "stream",
     "text": [
      "Child returned 0\n",
      "Load mask: 14.45\n",
      "regionprops: 2.87\n",
      "60299 blobs identified.\n",
      "Save blob coords: 3.16\n",
      "Save blob masks: 6.47\n",
      "Save blob contours, save: 9.70\n",
      "Compute blob properties, save: 12.78\n",
      "Processing section: 156\n"
     ]
    },
    {
     "name": "stdout",
     "output_type": "stream",
     "text": [
      "cp /oasis/projects/nsf/csd395/yuncong/CSHL_data_processed/MD602/MD602_lossless_alignedTo_MD602-N49-2015.12.01-18.41.46_MD602_2_0146_cropped_compressed/MD602-IHC28-2015.12.01-23.27.06_MD602_3_0082_lossless_alignedTo_MD602-N49-2015.12.01-18.41.46_MD602_2_0146_cropped_compressed.jpg /home/yuncong/csd395/CSHL_cells_v2/detected_cells/MD602/MD602-IHC28-2015.12.01-23.27.06_MD602_3_0082/MD602-IHC28-2015.12.01-23.27.06_MD602_3_0082_image.jpg\n"
     ]
    },
    {
     "name": "stderr",
     "output_type": "stream",
     "text": [
      "Child returned 0\n",
      "Load mask: 14.28\n",
      "regionprops: 2.78\n",
      "61089 blobs identified.\n",
      "Save blob coords: 3.31\n",
      "Save blob masks: 6.61\n",
      "Save blob contours, save: 10.15\n",
      "Compute blob properties, save: 13.37\n",
      "Processing section: 157\n"
     ]
    },
    {
     "name": "stdout",
     "output_type": "stream",
     "text": [
      "cp /oasis/projects/nsf/csd395/yuncong/CSHL_data_processed/MD602/MD602_lossless_alignedTo_MD602-N49-2015.12.01-18.41.46_MD602_2_0146_cropped_compressed/MD602-N28-2015.12.01-17.09.25_MD602_1_0084_lossless_alignedTo_MD602-N49-2015.12.01-18.41.46_MD602_2_0146_cropped_compressed.jpg /home/yuncong/csd395/CSHL_cells_v2/detected_cells/MD602/MD602-N28-2015.12.01-17.09.25_MD602_1_0084/MD602-N28-2015.12.01-17.09.25_MD602_1_0084_image.jpg\n"
     ]
    },
    {
     "name": "stderr",
     "output_type": "stream",
     "text": [
      "Child returned 0\n",
      "Load mask: 14.40\n",
      "regionprops: 2.81\n",
      "61771 blobs identified.\n",
      "Save blob coords: 3.47\n",
      "Save blob masks: 6.76\n",
      "Save blob contours, save: 9.82\n",
      "Compute blob properties, save: 13.35\n",
      "Processing section: 158\n"
     ]
    },
    {
     "name": "stdout",
     "output_type": "stream",
     "text": [
      "cp /oasis/projects/nsf/csd395/yuncong/CSHL_data_processed/MD602/MD602_lossless_alignedTo_MD602-N49-2015.12.01-18.41.46_MD602_2_0146_cropped_compressed/MD602-IHC28-2015.12.01-23.27.06_MD602_2_0083_lossless_alignedTo_MD602-N49-2015.12.01-18.41.46_MD602_2_0146_cropped_compressed.jpg /home/yuncong/csd395/CSHL_cells_v2/detected_cells/MD602/MD602-IHC28-2015.12.01-23.27.06_MD602_2_0083/MD602-IHC28-2015.12.01-23.27.06_MD602_2_0083_image.jpg\n"
     ]
    },
    {
     "name": "stderr",
     "output_type": "stream",
     "text": [
      "Child returned 0\n",
      "Load mask: 14.55\n",
      "regionprops: 2.81\n",
      "61865 blobs identified.\n",
      "Save blob coords: 3.26\n",
      "Save blob masks: 6.63\n",
      "Save blob contours, save: 10.15\n",
      "Compute blob properties, save: 13.02\n",
      "Processing section: 160\n"
     ]
    },
    {
     "name": "stdout",
     "output_type": "stream",
     "text": [
      "cp /oasis/projects/nsf/csd395/yuncong/CSHL_data_processed/MD602/MD602_lossless_alignedTo_MD602-N49-2015.12.01-18.41.46_MD602_2_0146_cropped_compressed/MD602-IHC29-2015.12.01-23.31.11_MD602_1_0085_lossless_alignedTo_MD602-N49-2015.12.01-18.41.46_MD602_2_0146_cropped_compressed.jpg /home/yuncong/csd395/CSHL_cells_v2/detected_cells/MD602/MD602-IHC29-2015.12.01-23.31.11_MD602_1_0085/MD602-IHC29-2015.12.01-23.31.11_MD602_1_0085_image.jpg\n"
     ]
    },
    {
     "name": "stderr",
     "output_type": "stream",
     "text": [
      "Child returned 0\n",
      "Load mask: 14.28\n",
      "regionprops: 2.78\n",
      "62890 blobs identified.\n",
      "Save blob coords: 3.40\n",
      "Save blob masks: 6.84\n",
      "Save blob contours, save: 10.23\n",
      "Compute blob properties, save: 13.56\n",
      "Processing section: 161\n"
     ]
    },
    {
     "name": "stdout",
     "output_type": "stream",
     "text": [
      "cp /oasis/projects/nsf/csd395/yuncong/CSHL_data_processed/MD602/MD602_lossless_alignedTo_MD602-N49-2015.12.01-18.41.46_MD602_2_0146_cropped_compressed/MD602-N29-2015.12.01-17.13.28_MD602_2_0086_lossless_alignedTo_MD602-N49-2015.12.01-18.41.46_MD602_2_0146_cropped_compressed.jpg /home/yuncong/csd395/CSHL_cells_v2/detected_cells/MD602/MD602-N29-2015.12.01-17.13.28_MD602_2_0086/MD602-N29-2015.12.01-17.13.28_MD602_2_0086_image.jpg\n"
     ]
    },
    {
     "name": "stderr",
     "output_type": "stream",
     "text": [
      "Child returned 0\n",
      "Load mask: 14.42\n",
      "regionprops: 2.83\n",
      "61972 blobs identified.\n",
      "Save blob coords: 3.27\n",
      "Save blob masks: 6.66\n",
      "Save blob contours, save: 10.05\n",
      "Compute blob properties, save: 13.34\n",
      "Processing section: 162\n"
     ]
    },
    {
     "name": "stdout",
     "output_type": "stream",
     "text": [
      "cp /oasis/projects/nsf/csd395/yuncong/CSHL_data_processed/MD602/MD602_lossless_alignedTo_MD602-N49-2015.12.01-18.41.46_MD602_2_0146_cropped_compressed/MD602-IHC29-2015.12.01-23.31.11_MD602_2_0086_lossless_alignedTo_MD602-N49-2015.12.01-18.41.46_MD602_2_0146_cropped_compressed.jpg /home/yuncong/csd395/CSHL_cells_v2/detected_cells/MD602/MD602-IHC29-2015.12.01-23.31.11_MD602_2_0086/MD602-IHC29-2015.12.01-23.31.11_MD602_2_0086_image.jpg\n"
     ]
    },
    {
     "name": "stderr",
     "output_type": "stream",
     "text": [
      "Child returned 0\n",
      "Load mask: 14.48\n",
      "regionprops: 2.85\n",
      "63859 blobs identified.\n",
      "Save blob coords: 3.44\n",
      "Save blob masks: 6.93\n",
      "Save blob contours, save: 10.23\n",
      "Compute blob properties, save: 13.76\n",
      "Processing section: 163\n"
     ]
    },
    {
     "name": "stdout",
     "output_type": "stream",
     "text": [
      "cp /oasis/projects/nsf/csd395/yuncong/CSHL_data_processed/MD602/MD602_lossless_alignedTo_MD602-N49-2015.12.01-18.41.46_MD602_2_0146_cropped_compressed/MD602-N30-2015.12.01-17.17.39_MD602_1_0088_lossless_alignedTo_MD602-N49-2015.12.01-18.41.46_MD602_2_0146_cropped_compressed.jpg /home/yuncong/csd395/CSHL_cells_v2/detected_cells/MD602/MD602-N30-2015.12.01-17.17.39_MD602_1_0088/MD602-N30-2015.12.01-17.17.39_MD602_1_0088_image.jpg\n"
     ]
    },
    {
     "name": "stderr",
     "output_type": "stream",
     "text": [
      "Child returned 0\n",
      "Load mask: 14.28\n",
      "Compute blob properties, save: 14.74\n",
      "Processing section: 169\n"
     ]
    },
    {
     "name": "stdout",
     "output_type": "stream",
     "text": [
      "cp /oasis/projects/nsf/csd395/yuncong/CSHL_data_processed/MD602/MD602_lossless_alignedTo_MD602-N49-2015.12.01-18.41.46_MD602_2_0146_cropped_compressed/MD602-N31-2015.12.01-17.22.08_MD602_2_0092_lossless_alignedTo_MD602-N49-2015.12.01-18.41.46_MD602_2_0146_cropped_compressed.jpg /home/yuncong/csd395/CSHL_cells_v2/detected_cells/MD602/MD602-N31-2015.12.01-17.22.08_MD602_2_0092/MD602-N31-2015.12.01-17.22.08_MD602_2_0092_image.jpg\n"
     ]
    },
    {
     "name": "stderr",
     "output_type": "stream",
     "text": [
      "Child returned 0\n",
      "Load mask: 14.41\n",
      "regionprops: 2.62\n",
      "81170 blobs identified.\n",
      "Save blob coords: 4.39\n",
      "Save blob masks: 8.98\n",
      "Save blob contours, save: 13.42\n",
      "Compute blob properties, save: 17.32\n",
      "Processing section: 170\n"
     ]
    },
    {
     "name": "stdout",
     "output_type": "stream",
     "text": [
      "cp /oasis/projects/nsf/csd395/yuncong/CSHL_data_processed/MD602/MD602_lossless_alignedTo_MD602-N49-2015.12.01-18.41.46_MD602_2_0146_cropped_compressed/MD602-IHC31-2015.12.01-23.39.27_MD602_2_0092_lossless_alignedTo_MD602-N49-2015.12.01-18.41.46_MD602_2_0146_cropped_compressed.jpg /home/yuncong/csd395/CSHL_cells_v2/detected_cells/MD602/MD602-IHC31-2015.12.01-23.39.27_MD602_2_0092/MD602-IHC31-2015.12.01-23.39.27_MD602_2_0092_image.jpg\n"
     ]
    },
    {
     "name": "stderr",
     "output_type": "stream",
     "text": [
      "Child returned 0\n",
      "Load mask: 14.34\n",
      "regionprops: 3.16\n",
      "82934 blobs identified.\n",
      "Save blob coords: 4.49\n",
      "Save blob masks: 8.93\n",
      "Save blob contours, save: 13.53\n",
      "Compute blob properties, save: 17.96\n",
      "Processing section: 171\n"
     ]
    },
    {
     "name": "stdout",
     "output_type": "stream",
     "text": [
      "cp /oasis/projects/nsf/csd395/yuncong/CSHL_data_processed/MD602/MD602_lossless_alignedTo_MD602-N49-2015.12.01-18.41.46_MD602_2_0146_cropped_compressed/MD602-N32-2015.12.01-17.26.54_MD602_3_0094_lossless_alignedTo_MD602-N49-2015.12.01-18.41.46_MD602_2_0146_cropped_compressed.jpg /home/yuncong/csd395/CSHL_cells_v2/detected_cells/MD602/MD602-N32-2015.12.01-17.26.54_MD602_3_0094/MD602-N32-2015.12.01-17.26.54_MD602_3_0094_image.jpg\n"
     ]
    },
    {
     "name": "stderr",
     "output_type": "stream",
     "text": [
      "Child returned 0\n",
      "Load mask: 14.43\n",
      "regionprops: 3.17\n",
      "81685 blobs identified.\n",
      "Save blob coords: 4.40\n",
      "Save blob masks: 8.87\n",
      "Save blob contours, save: 13.13\n",
      "Compute blob properties, save: 17.67\n",
      "Processing section: 172\n"
     ]
    },
    {
     "name": "stdout",
     "output_type": "stream",
     "text": [
      "cp /oasis/projects/nsf/csd395/yuncong/CSHL_data_processed/MD602/MD602_lossless_alignedTo_MD602-N49-2015.12.01-18.41.46_MD602_2_0146_cropped_compressed/MD602-IHC32-2015.12.01-23.43.41_MD602_1_0094_lossless_alignedTo_MD602-N49-2015.12.01-18.41.46_MD602_2_0146_cropped_compressed.jpg /home/yuncong/csd395/CSHL_cells_v2/detected_cells/MD602/MD602-IHC32-2015.12.01-23.43.41_MD602_1_0094/MD602-IHC32-2015.12.01-23.43.41_MD602_1_0094_image.jpg\n"
     ]
    },
    {
     "name": "stderr",
     "output_type": "stream",
     "text": [
      "Child returned 0\n",
      "Load mask: 14.36\n",
      "regionprops: 3.28\n",
      "85718 blobs identified.\n",
      "Save blob coords: 4.64\n",
      "Save blob masks: 9.31\n",
      "Save blob contours, save: 14.08\n",
      "Compute blob properties, save: 18.31\n",
      "Processing section: 173\n"
     ]
    },
    {
     "name": "stdout",
     "output_type": "stream",
     "text": [
      "cp /oasis/projects/nsf/csd395/yuncong/CSHL_data_processed/MD602/MD602_lossless_alignedTo_MD602-N49-2015.12.01-18.41.46_MD602_2_0146_cropped_compressed/MD602-N32-2015.12.01-17.26.54_MD602_2_0095_lossless_alignedTo_MD602-N49-2015.12.01-18.41.46_MD602_2_0146_cropped_compressed.jpg /home/yuncong/csd395/CSHL_cells_v2/detected_cells/MD602/MD602-N32-2015.12.01-17.26.54_MD602_2_0095/MD602-N32-2015.12.01-17.26.54_MD602_2_0095_image.jpg\n"
     ]
    },
    {
     "name": "stderr",
     "output_type": "stream",
     "text": [
      "Child returned 0\n",
      "Load mask: 14.27\n",
      "regionprops: 3.35\n",
      "81598 blobs identified.\n",
      "Save blob coords: 4.43\n",
      "Save blob masks: 8.87\n",
      "Save blob contours, save: 13.29\n",
      "Compute blob properties, save: 17.47\n",
      "Processing section: 174\n"
     ]
    },
    {
     "name": "stdout",
     "output_type": "stream",
     "text": [
      "cp /oasis/projects/nsf/csd395/yuncong/CSHL_data_processed/MD602/MD602_lossless_alignedTo_MD602-N49-2015.12.01-18.41.46_MD602_2_0146_cropped_compressed/MD602-IHC32-2015.12.01-23.43.41_MD602_1_0096_lossless_alignedTo_MD602-N49-2015.12.01-18.41.46_MD602_2_0146_cropped_compressed.jpg /home/yuncong/csd395/CSHL_cells_v2/detected_cells/MD602/MD602-IHC32-2015.12.01-23.43.41_MD602_1_0096/MD602-IHC32-2015.12.01-23.43.41_MD602_1_0096_image.jpg\n"
     ]
    },
    {
     "name": "stderr",
     "output_type": "stream",
     "text": [
      "Child returned 0\n",
      "Load mask: 14.43\n",
      "regionprops: 3.21\n",
      "86233 blobs identified.\n",
      "Save blob coords: 4.65\n",
      "Save blob masks: 9.46\n",
      "Save blob contours, save: 13.96\n",
      "Compute blob properties, save: 18.86\n",
      "Processing section: 175\n"
     ]
    },
    {
     "name": "stdout",
     "output_type": "stream",
     "text": [
      "cp /oasis/projects/nsf/csd395/yuncong/CSHL_data_processed/MD602/MD602_lossless_alignedTo_MD602-N49-2015.12.01-18.41.46_MD602_2_0146_cropped_compressed/MD602-N33-2015.12.01-17.31.52_MD602_3_0097_lossless_alignedTo_MD602-N49-2015.12.01-18.41.46_MD602_2_0146_cropped_compressed.jpg /home/yuncong/csd395/CSHL_cells_v2/detected_cells/MD602/MD602-N33-2015.12.01-17.31.52_MD602_3_0097/MD602-N33-2015.12.01-17.31.52_MD602_3_0097_image.jpg\n"
     ]
    },
    {
     "name": "stderr",
     "output_type": "stream",
     "text": [
      "Child returned 0\n",
      "Load mask: 14.45\n",
      "regionprops: 2.80\n",
      "83882 blobs identified.\n",
      "Save blob coords: 4.58\n",
      "Save blob masks: 9.39\n",
      "Save blob contours, save: 13.60\n",
      "Compute blob properties, save: 18.55\n",
      "Processing section: 176\n"
     ]
    },
    {
     "name": "stdout",
     "output_type": "stream",
     "text": [
      "cp /oasis/projects/nsf/csd395/yuncong/CSHL_data_processed/MD602/MD602_lossless_alignedTo_MD602-N49-2015.12.01-18.41.46_MD602_2_0146_cropped_compressed/MD602-IHC33-2015.12.01-23.48.16_MD602_1_0097_lossless_alignedTo_MD602-N49-2015.12.01-18.41.46_MD602_2_0146_cropped_compressed.jpg /home/yuncong/csd395/CSHL_cells_v2/detected_cells/MD602/MD602-IHC33-2015.12.01-23.48.16_MD602_1_0097/MD602-IHC33-2015.12.01-23.48.16_MD602_1_0097_image.jpg\n"
     ]
    },
    {
     "name": "stderr",
     "output_type": "stream",
     "text": [
      "Child returned 0\n",
      "Load mask: 14.27\n",
      "regionprops: 2.71\n",
      "85227 blobs identified.\n",
      "Save blob coords: 4.58\n",
      "Save blob masks: 9.35\n",
      "Save blob contours, save: 13.57\n",
      "Compute blob properties, save: 18.02\n",
      "Processing section: 177\n"
     ]
    },
    {
     "name": "stdout",
     "output_type": "stream",
     "text": [
      "cp /oasis/projects/nsf/csd395/yuncong/CSHL_data_processed/MD602/MD602_lossless_alignedTo_MD602-N49-2015.12.01-18.41.46_MD602_2_0146_cropped_compressed/MD602-N33-2015.12.01-17.31.52_MD602_2_0098_lossless_alignedTo_MD602-N49-2015.12.01-18.41.46_MD602_2_0146_cropped_compressed.jpg /home/yuncong/csd395/CSHL_cells_v2/detected_cells/MD602/MD602-N33-2015.12.01-17.31.52_MD602_2_0098/MD602-N33-2015.12.01-17.31.52_MD602_2_0098_image.jpg\n"
     ]
    },
    {
     "name": "stderr",
     "output_type": "stream",
     "text": [
      "Child returned 0\n",
      "Load mask: 14.46\n",
      "regionprops: 3.38\n",
      "83062 blobs identified.\n",
      "Save blob coords: 4.44\n",
      "Save blob masks: 8.96\n",
      "Save blob contours, save: 13.46\n",
      "Compute blob properties, save: 18.10\n",
      "Processing section: 178\n"
     ]
    },
    {
     "name": "stdout",
     "output_type": "stream",
     "text": [
      "cp /oasis/projects/nsf/csd395/yuncong/CSHL_data_processed/MD602/MD602_lossless_alignedTo_MD602-N49-2015.12.01-18.41.46_MD602_2_0146_cropped_compressed/MD602-IHC33-2015.12.01-23.48.16_MD602_2_0098_lossless_alignedTo_MD602-N49-2015.12.01-18.41.46_MD602_2_0146_cropped_compressed.jpg /home/yuncong/csd395/CSHL_cells_v2/detected_cells/MD602/MD602-IHC33-2015.12.01-23.48.16_MD602_2_0098/MD602-IHC33-2015.12.01-23.48.16_MD602_2_0098_image.jpg\n"
     ]
    },
    {
     "name": "stderr",
     "output_type": "stream",
     "text": [
      "Child returned 0\n",
      "Load mask: 14.27\n",
      "regionprops: 3.19\n",
      "87662 blobs identified.\n",
      "Save blob coords: 4.64\n",
      "Save blob masks: 9.44\n",
      "Save blob contours, save: 13.95\n",
      "Compute blob properties, save: 18.55\n",
      "Processing section: 179\n"
     ]
    },
    {
     "name": "stdout",
     "output_type": "stream",
     "text": [
      "cp /oasis/projects/nsf/csd395/yuncong/CSHL_data_processed/MD602/MD602_lossless_alignedTo_MD602-N49-2015.12.01-18.41.46_MD602_2_0146_cropped_compressed/MD602-N34-2015.12.01-17.36.30_MD602_1_0100_lossless_alignedTo_MD602-N49-2015.12.01-18.41.46_MD602_2_0146_cropped_compressed.jpg /home/yuncong/csd395/CSHL_cells_v2/detected_cells/MD602/MD602-N34-2015.12.01-17.36.30_MD602_1_0100/MD602-N34-2015.12.01-17.36.30_MD602_1_0100_image.jpg\n"
     ]
    },
    {
     "name": "stderr",
     "output_type": "stream",
     "text": [
      "Child returned 0\n",
      "Load mask: 14.47\n",
      "regionprops: 3.26\n",
      "85002 blobs identified.\n",
      "Save blob coords: 4.55\n",
      "Save blob masks: 9.19\n",
      "Save blob contours, save: 13.99\n",
      "Compute blob properties, save: 18.32\n",
      "Processing section: 180\n"
     ]
    },
    {
     "name": "stdout",
     "output_type": "stream",
     "text": [
      "cp /oasis/projects/nsf/csd395/yuncong/CSHL_data_processed/MD602/MD602_lossless_alignedTo_MD602-N49-2015.12.01-18.41.46_MD602_2_0146_cropped_compressed/MD602-IHC34-2015.12.01-23.52.57_MD602_3_0100_lossless_alignedTo_MD602-N49-2015.12.01-18.41.46_MD602_2_0146_cropped_compressed.jpg /home/yuncong/csd395/CSHL_cells_v2/detected_cells/MD602/MD602-IHC34-2015.12.01-23.52.57_MD602_3_0100/MD602-IHC34-2015.12.01-23.52.57_MD602_3_0100_image.jpg\n"
     ]
    },
    {
     "name": "stderr",
     "output_type": "stream",
     "text": [
      "Child returned 0\n",
      "Load mask: 14.27\n",
      "regionprops: 3.26\n",
      "87311 blobs identified.\n",
      "Save blob coords: 4.68\n",
      "Save blob masks: 9.46\n",
      "Save blob contours, save: 14.19\n",
      "Compute blob properties, save: 18.77\n",
      "Processing section: 181\n"
     ]
    },
    {
     "name": "stdout",
     "output_type": "stream",
     "text": [
      "cp /oasis/projects/nsf/csd395/yuncong/CSHL_data_processed/MD602/MD602_lossless_alignedTo_MD602-N49-2015.12.01-18.41.46_MD602_2_0146_cropped_compressed/MD602-N34-2015.12.01-17.36.30_MD602_2_0101_lossless_alignedTo_MD602-N49-2015.12.01-18.41.46_MD602_2_0146_cropped_compressed.jpg /home/yuncong/csd395/CSHL_cells_v2/detected_cells/MD602/MD602-N34-2015.12.01-17.36.30_MD602_2_0101/MD602-N34-2015.12.01-17.36.30_MD602_2_0101_image.jpg\n"
     ]
    },
    {
     "name": "stderr",
     "output_type": "stream",
     "text": [
      "Child returned 0\n",
      "Load mask: 14.41\n",
      "regionprops: 3.50\n",
      "69892 blobs identified.\n",
      "Save blob coords: 3.84\n",
      "Save blob masks: 7.67\n",
      "Save blob contours, save: 11.39\n",
      "Compute blob properties, save: 14.97\n",
      "Processing section: 182\n"
     ]
    },
    {
     "name": "stdout",
     "output_type": "stream",
     "text": [
      "cp /oasis/projects/nsf/csd395/yuncong/CSHL_data_processed/MD602/MD602_lossless_alignedTo_MD602-N49-2015.12.01-18.41.46_MD602_2_0146_cropped_compressed/MD602-IHC34-2015.12.01-23.52.57_MD602_2_0101_lossless_alignedTo_MD602-N49-2015.12.01-18.41.46_MD602_2_0146_cropped_compressed.jpg /home/yuncong/csd395/CSHL_cells_v2/detected_cells/MD602/MD602-IHC34-2015.12.01-23.52.57_MD602_2_0101/MD602-IHC34-2015.12.01-23.52.57_MD602_2_0101_image.jpg\n"
     ]
    },
    {
     "name": "stderr",
     "output_type": "stream",
     "text": [
      "Child returned 0\n",
      "Load mask: 14.30\n",
      "regionprops: 3.05\n",
      "88491 blobs identified.\n",
      "Save blob coords: 4.78\n",
      "Save blob masks: 9.66\n",
      "Save blob contours, save: 14.18\n",
      "Compute blob properties, save: 19.48\n",
      "Processing section: 183\n"
     ]
    },
    {
     "name": "stdout",
     "output_type": "stream",
     "text": [
      "cp /oasis/projects/nsf/csd395/yuncong/CSHL_data_processed/MD602/MD602_lossless_alignedTo_MD602-N49-2015.12.01-18.41.46_MD602_2_0146_cropped_compressed/MD602-N35-2015.12.01-17.41.19_MD602_1_0103_lossless_alignedTo_MD602-N49-2015.12.01-18.41.46_MD602_2_0146_cropped_compressed.jpg /home/yuncong/csd395/CSHL_cells_v2/detected_cells/MD602/MD602-N35-2015.12.01-17.41.19_MD602_1_0103/MD602-N35-2015.12.01-17.41.19_MD602_1_0103_image.jpg\n"
     ]
    },
    {
     "name": "stderr",
     "output_type": "stream",
     "text": [
      "Child returned 0\n",
      "Load mask: 14.43\n",
      "regionprops: 2.82\n",
      "85158 blobs identified.\n",
      "Save blob coords: 4.71\n",
      "Save blob masks: 9.53\n",
      "Save blob contours, save: 14.51\n",
      "Compute blob properties, save: 18.65\n",
      "Processing section: 184\n"
     ]
    },
    {
     "name": "stdout",
     "output_type": "stream",
     "text": [
      "cp /oasis/projects/nsf/csd395/yuncong/CSHL_data_processed/MD602/MD602_lossless_alignedTo_MD602-N49-2015.12.01-18.41.46_MD602_2_0146_cropped_compressed/MD602-IHC35-2015.12.01-23.57.42_MD602_1_0103_lossless_alignedTo_MD602-N49-2015.12.01-18.41.46_MD602_2_0146_cropped_compressed.jpg /home/yuncong/csd395/CSHL_cells_v2/detected_cells/MD602/MD602-IHC35-2015.12.01-23.57.42_MD602_1_0103/MD602-IHC35-2015.12.01-23.57.42_MD602_1_0103_image.jpg\n"
     ]
    },
    {
     "name": "stderr",
     "output_type": "stream",
     "text": [
      "Child returned 0\n",
      "Load mask: 14.39\n",
      "regionprops: 3.26\n",
      "90710 blobs identified.\n",
      "Save blob coords: 4.98\n",
      "Save blob masks: 9.74\n",
      "Save blob contours, save: 14.69\n",
      "Compute blob properties, save: 19.53\n",
      "Processing section: 185\n"
     ]
    },
    {
     "name": "stdout",
     "output_type": "stream",
     "text": [
      "cp /oasis/projects/nsf/csd395/yuncong/CSHL_data_processed/MD602/MD602_lossless_alignedTo_MD602-N49-2015.12.01-18.41.46_MD602_2_0146_cropped_compressed/MD602-N35-2015.12.01-17.41.19_MD602_2_0104_lossless_alignedTo_MD602-N49-2015.12.01-18.41.46_MD602_2_0146_cropped_compressed.jpg /home/yuncong/csd395/CSHL_cells_v2/detected_cells/MD602/MD602-N35-2015.12.01-17.41.19_MD602_2_0104/MD602-N35-2015.12.01-17.41.19_MD602_2_0104_image.jpg\n"
     ]
    },
    {
     "name": "stderr",
     "output_type": "stream",
     "text": [
      "Child returned 0\n",
      "Load mask: 14.30\n",
      "regionprops: 3.38\n",
      "89410 blobs identified.\n",
      "Save blob coords: 5.17\n",
      "Save blob masks: 10.14\n",
      "Save blob contours, save: 14.82\n",
      "Compute blob properties, save: 20.15\n",
      "Processing section: 186\n"
     ]
    },
    {
     "name": "stdout",
     "output_type": "stream",
     "text": [
      "cp /oasis/projects/nsf/csd395/yuncong/CSHL_data_processed/MD602/MD602_lossless_alignedTo_MD602-N49-2015.12.01-18.41.46_MD602_2_0146_cropped_compressed/MD602-IHC35-2015.12.01-23.57.42_MD602_2_0104_lossless_alignedTo_MD602-N49-2015.12.01-18.41.46_MD602_2_0146_cropped_compressed.jpg /home/yuncong/csd395/CSHL_cells_v2/detected_cells/MD602/MD602-IHC35-2015.12.01-23.57.42_MD602_2_0104/MD602-IHC35-2015.12.01-23.57.42_MD602_2_0104_image.jpg\n"
     ]
    },
    {
     "name": "stderr",
     "output_type": "stream",
     "text": [
      "Child returned 0\n",
      "Load mask: 14.42\n",
      "regionprops: 3.31\n",
      "93081 blobs identified.\n",
      "Save blob coords: 5.15\n",
      "Save blob masks: 10.25\n",
      "Save blob contours, save: 14.98\n",
      "Compute blob properties, save: 20.32\n",
      "Processing section: 187\n"
     ]
    },
    {
     "name": "stdout",
     "output_type": "stream",
     "text": [
      "cp /oasis/projects/nsf/csd395/yuncong/CSHL_data_processed/MD602/MD602_lossless_alignedTo_MD602-N49-2015.12.01-18.41.46_MD602_2_0146_cropped_compressed/MD602-N36-2015.12.01-17.46.03_MD602_1_0106_lossless_alignedTo_MD602-N49-2015.12.01-18.41.46_MD602_2_0146_cropped_compressed.jpg /home/yuncong/csd395/CSHL_cells_v2/detected_cells/MD602/MD602-N36-2015.12.01-17.46.03_MD602_1_0106/MD602-N36-2015.12.01-17.46.03_MD602_1_0106_image.jpg\n"
     ]
    },
    {
     "name": "stderr",
     "output_type": "stream",
     "text": [
      "Child returned 0\n",
      "Load mask: 14.30\n",
      "regionprops: 3.41\n",
      "76961 blobs identified.\n",
      "Save blob coords: 3.97\n",
      "Save blob masks: 8.17\n",
      "Save blob contours, save: 12.51\n",
      "Compute blob properties, save: 16.25\n",
      "Processing section: 188\n"
     ]
    },
    {
     "name": "stdout",
     "output_type": "stream",
     "text": [
      "cp /oasis/projects/nsf/csd395/yuncong/CSHL_data_processed/MD602/MD602_lossless_alignedTo_MD602-N49-2015.12.01-18.41.46_MD602_2_0146_cropped_compressed/MD602-IHC36-2015.12.02-00.02.25_MD602_3_0106_lossless_alignedTo_MD602-N49-2015.12.01-18.41.46_MD602_2_0146_cropped_compressed.jpg /home/yuncong/csd395/CSHL_cells_v2/detected_cells/MD602/MD602-IHC36-2015.12.02-00.02.25_MD602_3_0106/MD602-IHC36-2015.12.02-00.02.25_MD602_3_0106_image.jpg\n"
     ]
    },
    {
     "name": "stderr",
     "output_type": "stream",
     "text": [
      "Child returned 0\n",
      "Load mask: 14.33\n",
      "regionprops: 3.24\n",
      "87806 blobs identified.\n",
      "Save blob coords: 4.73\n",
      "Save blob masks: 9.66\n",
      "Save blob contours, save: 14.23\n",
      "Compute blob properties, save: 19.19\n",
      "Processing section: 189\n"
     ]
    },
    {
     "name": "stdout",
     "output_type": "stream",
     "text": [
      "cp /oasis/projects/nsf/csd395/yuncong/CSHL_data_processed/MD602/MD602_lossless_alignedTo_MD602-N49-2015.12.01-18.41.46_MD602_2_0146_cropped_compressed/MD602-N36-2015.12.01-17.46.03_MD602_2_0107_lossless_alignedTo_MD602-N49-2015.12.01-18.41.46_MD602_2_0146_cropped_compressed.jpg /home/yuncong/csd395/CSHL_cells_v2/detected_cells/MD602/MD602-N36-2015.12.01-17.46.03_MD602_2_0107/MD602-N36-2015.12.01-17.46.03_MD602_2_0107_image.jpg\n"
     ]
    },
    {
     "name": "stderr",
     "output_type": "stream",
     "text": [
      "Child returned 0\n",
      "Load mask: 14.27\n",
      "regionprops: 2.65\n",
      "73288 blobs identified.\n",
      "Save blob coords: 4.12\n",
      "Save blob masks: 8.13\n",
      "Save blob contours, save: 11.73\n",
      "Compute blob properties, save: 15.99\n",
      "Processing section: 190\n"
     ]
    },
    {
     "name": "stdout",
     "output_type": "stream",
     "text": [
      "cp /oasis/projects/nsf/csd395/yuncong/CSHL_data_processed/MD602/MD602_lossless_alignedTo_MD602-N49-2015.12.01-18.41.46_MD602_2_0146_cropped_compressed/MD602-IHC36-2015.12.02-00.02.25_MD602_2_0107_lossless_alignedTo_MD602-N49-2015.12.01-18.41.46_MD602_2_0146_cropped_compressed.jpg /home/yuncong/csd395/CSHL_cells_v2/detected_cells/MD602/MD602-IHC36-2015.12.02-00.02.25_MD602_2_0107/MD602-IHC36-2015.12.02-00.02.25_MD602_2_0107_image.jpg\n"
     ]
    },
    {
     "name": "stderr",
     "output_type": "stream",
     "text": [
      "Child returned 0\n",
      "Load mask: 14.36\n",
      "regionprops: 3.09\n",
      "90190 blobs identified.\n",
      "Save blob coords: 4.88\n",
      "Save blob masks: 9.76\n",
      "Save blob contours, save: 14.97\n",
      "Compute blob properties, save: 19.08\n",
      "Processing section: 191\n"
     ]
    },
    {
     "name": "stdout",
     "output_type": "stream",
     "text": [
      "cp /oasis/projects/nsf/csd395/yuncong/CSHL_data_processed/MD602/MD602_lossless_alignedTo_MD602-N49-2015.12.01-18.41.46_MD602_2_0146_cropped_compressed/MD602-N37-2015.12.01-17.50.34_MD602_3_0109_lossless_alignedTo_MD602-N49-2015.12.01-18.41.46_MD602_2_0146_cropped_compressed.jpg /home/yuncong/csd395/CSHL_cells_v2/detected_cells/MD602/MD602-N37-2015.12.01-17.50.34_MD602_3_0109/MD602-N37-2015.12.01-17.50.34_MD602_3_0109_image.jpg\n"
     ]
    },
    {
     "name": "stderr",
     "output_type": "stream",
     "text": [
      "Child returned 0\n",
      "Load mask: 14.28\n",
      "regionprops: 3.32\n",
      "84445 blobs identified.\n",
      "Save blob coords: 4.82\n",
      "Save blob masks: 9.42\n",
      "Save blob contours, save: 13.89\n",
      "Compute blob properties, save: 18.94\n",
      "Processing section: 192\n"
     ]
    },
    {
     "name": "stdout",
     "output_type": "stream",
     "text": [
      "cp /oasis/projects/nsf/csd395/yuncong/CSHL_data_processed/MD602/MD602_lossless_alignedTo_MD602-N49-2015.12.01-18.41.46_MD602_2_0146_cropped_compressed/MD602-IHC37-2015.12.02-00.07.10_MD602_3_0109_lossless_alignedTo_MD602-N49-2015.12.01-18.41.46_MD602_2_0146_cropped_compressed.jpg /home/yuncong/csd395/CSHL_cells_v2/detected_cells/MD602/MD602-IHC37-2015.12.02-00.07.10_MD602_3_0109/MD602-IHC37-2015.12.02-00.07.10_MD602_3_0109_image.jpg\n"
     ]
    },
    {
     "name": "stderr",
     "output_type": "stream",
     "text": [
      "Child returned 0\n",
      "Load mask: 14.28\n",
      "regionprops: 2.81\n",
      "87267 blobs identified.\n",
      "Save blob coords: 4.81\n",
      "Save blob masks: 9.86\n",
      "Save blob contours, save: 13.98\n",
      "Compute blob properties, save: 18.86\n",
      "Processing section: 193\n"
     ]
    },
    {
     "name": "stdout",
     "output_type": "stream",
     "text": [
      "cp /oasis/projects/nsf/csd395/yuncong/CSHL_data_processed/MD602/MD602_lossless_alignedTo_MD602-N49-2015.12.01-18.41.46_MD602_2_0146_cropped_compressed/MD602-N37-2015.12.01-17.50.34_MD602_2_0110_lossless_alignedTo_MD602-N49-2015.12.01-18.41.46_MD602_2_0146_cropped_compressed.jpg /home/yuncong/csd395/CSHL_cells_v2/detected_cells/MD602/MD602-N37-2015.12.01-17.50.34_MD602_2_0110/MD602-N37-2015.12.01-17.50.34_MD602_2_0110_image.jpg\n"
     ]
    },
    {
     "name": "stderr",
     "output_type": "stream",
     "text": [
      "Child returned 0\n",
      "Load mask: 14.32\n",
      "regionprops: 2.72\n",
      "73512 blobs identified.\n",
      "Save blob coords: 4.16\n",
      "Save blob masks: 8.29\n",
      "Save blob contours, save: 12.11\n",
      "Compute blob properties, save: 15.95\n",
      "Processing section: 194\n"
     ]
    },
    {
     "name": "stdout",
     "output_type": "stream",
     "text": [
      "cp /oasis/projects/nsf/csd395/yuncong/CSHL_data_processed/MD602/MD602_lossless_alignedTo_MD602-N49-2015.12.01-18.41.46_MD602_2_0146_cropped_compressed/MD602-IHC37-2015.12.02-00.07.10_MD602_2_0110_lossless_alignedTo_MD602-N49-2015.12.01-18.41.46_MD602_2_0146_cropped_compressed.jpg /home/yuncong/csd395/CSHL_cells_v2/detected_cells/MD602/MD602-IHC37-2015.12.02-00.07.10_MD602_2_0110/MD602-IHC37-2015.12.02-00.07.10_MD602_2_0110_image.jpg\n"
     ]
    },
    {
     "name": "stderr",
     "output_type": "stream",
     "text": [
      "Child returned 0\n",
      "Load mask: 14.29\n",
      "regionprops: 3.03\n",
      "90494 blobs identified.\n",
      "Save blob coords: 4.77\n",
      "Save blob masks: 9.84\n",
      "Save blob contours, save: 15.05\n",
      "Compute blob properties, save: 19.30\n",
      "Processing section: 195\n"
     ]
    },
    {
     "name": "stdout",
     "output_type": "stream",
     "text": [
      "cp /oasis/projects/nsf/csd395/yuncong/CSHL_data_processed/MD602/MD602_lossless_alignedTo_MD602-N49-2015.12.01-18.41.46_MD602_2_0146_cropped_compressed/MD602-N38-2015.12.01-17.55.05_MD602_3_0112_lossless_alignedTo_MD602-N49-2015.12.01-18.41.46_MD602_2_0146_cropped_compressed.jpg /home/yuncong/csd395/CSHL_cells_v2/detected_cells/MD602/MD602-N38-2015.12.01-17.55.05_MD602_3_0112/MD602-N38-2015.12.01-17.55.05_MD602_3_0112_image.jpg\n"
     ]
    },
    {
     "name": "stderr",
     "output_type": "stream",
     "text": [
      "Child returned 0\n",
      "Load mask: 14.46\n",
      "regionprops: 3.27\n",
      "84956 blobs identified.\n",
      "Save blob coords: 4.86\n",
      "Save blob masks: 9.53\n",
      "Save blob contours, save: 13.97\n",
      "Compute blob properties, save: 18.91\n",
      "Processing section: 196\n"
     ]
    },
    {
     "name": "stdout",
     "output_type": "stream",
     "text": [
      "cp /oasis/projects/nsf/csd395/yuncong/CSHL_data_processed/MD602/MD602_lossless_alignedTo_MD602-N49-2015.12.01-18.41.46_MD602_2_0146_cropped_compressed/MD602-IHC38-2015.12.02-00.12.04_MD602_3_0112_lossless_alignedTo_MD602-N49-2015.12.01-18.41.46_MD602_2_0146_cropped_compressed.jpg /home/yuncong/csd395/CSHL_cells_v2/detected_cells/MD602/MD602-IHC38-2015.12.02-00.12.04_MD602_3_0112/MD602-IHC38-2015.12.02-00.12.04_MD602_3_0112_image.jpg\n"
     ]
    },
    {
     "name": "stderr",
     "output_type": "stream",
     "text": [
      "Child returned 0\n",
      "Load mask: 14.28\n",
      "regionprops: 2.70\n",
      "90561 blobs identified.\n",
      "Save blob coords: 5.36\n",
      "Save blob masks: 10.24\n",
      "Save blob contours, save: 14.41\n",
      "Compute blob properties, save: 19.90\n",
      "Processing section: 197\n"
     ]
    },
    {
     "name": "stdout",
     "output_type": "stream",
     "text": [
      "cp /oasis/projects/nsf/csd395/yuncong/CSHL_data_processed/MD602/MD602_lossless_alignedTo_MD602-N49-2015.12.01-18.41.46_MD602_2_0146_cropped_compressed/MD602-N38-2015.12.01-17.55.05_MD602_2_0113_lossless_alignedTo_MD602-N49-2015.12.01-18.41.46_MD602_2_0146_cropped_compressed.jpg /home/yuncong/csd395/CSHL_cells_v2/detected_cells/MD602/MD602-N38-2015.12.01-17.55.05_MD602_2_0113/MD602-N38-2015.12.01-17.55.05_MD602_2_0113_image.jpg\n"
     ]
    },
    {
     "name": "stderr",
     "output_type": "stream",
     "text": [
      "Child returned 0\n",
      "Load mask: 14.61\n",
      "regionprops: 3.40\n",
      "88416 blobs identified.\n",
      "Save blob coords: 4.88\n",
      "Save blob masks: 9.63\n",
      "Save blob contours, save: 14.42\n",
      "Compute blob properties, save: 19.09\n",
      "Processing section: 198\n"
     ]
    },
    {
     "name": "stdout",
     "output_type": "stream",
     "text": [
      "cp /oasis/projects/nsf/csd395/yuncong/CSHL_data_processed/MD602/MD602_lossless_alignedTo_MD602-N49-2015.12.01-18.41.46_MD602_2_0146_cropped_compressed/MD602-IHC38-2015.12.02-00.12.04_MD602_2_0113_lossless_alignedTo_MD602-N49-2015.12.01-18.41.46_MD602_2_0146_cropped_compressed.jpg /home/yuncong/csd395/CSHL_cells_v2/detected_cells/MD602/MD602-IHC38-2015.12.02-00.12.04_MD602_2_0113/MD602-IHC38-2015.12.02-00.12.04_MD602_2_0113_image.jpg\n"
     ]
    },
    {
     "name": "stderr",
     "output_type": "stream",
     "text": [
      "Child returned 0\n",
      "Load mask: 14.29\n",
      "regionprops: 3.31\n",
      "90193 blobs identified.\n",
      "Save blob coords: 4.91\n",
      "Save blob masks: 9.78\n",
      "Save blob contours, save: 14.76\n",
      "Compute blob properties, save: 19.25\n",
      "Processing section: 199\n"
     ]
    },
    {
     "name": "stdout",
     "output_type": "stream",
     "text": [
      "cp /oasis/projects/nsf/csd395/yuncong/CSHL_data_processed/MD602/MD602_lossless_alignedTo_MD602-N49-2015.12.01-18.41.46_MD602_2_0146_cropped_compressed/MD602-N39-2015.12.01-18.00.05_MD602_1_0115_lossless_alignedTo_MD602-N49-2015.12.01-18.41.46_MD602_2_0146_cropped_compressed.jpg /home/yuncong/csd395/CSHL_cells_v2/detected_cells/MD602/MD602-N39-2015.12.01-18.00.05_MD602_1_0115/MD602-N39-2015.12.01-18.00.05_MD602_1_0115_image.jpg\n"
     ]
    },
    {
     "name": "stderr",
     "output_type": "stream",
     "text": [
      "Child returned 0\n",
      "Load mask: 14.56\n",
      "regionprops: 3.20\n",
      "87572 blobs identified.\n",
      "Save blob coords: 5.67\n",
      "Save blob masks: 9.77\n",
      "Save blob contours, save: 14.74\n",
      "Compute blob properties, save: 19.01\n",
      "Processing section: 200\n"
     ]
    },
    {
     "name": "stdout",
     "output_type": "stream",
     "text": [
      "cp /oasis/projects/nsf/csd395/yuncong/CSHL_data_processed/MD602/MD602_lossless_alignedTo_MD602-N49-2015.12.01-18.41.46_MD602_2_0146_cropped_compressed/MD602-IHC39-2015.12.02-00.16.53_MD602_3_0115_lossless_alignedTo_MD602-N49-2015.12.01-18.41.46_MD602_2_0146_cropped_compressed.jpg /home/yuncong/csd395/CSHL_cells_v2/detected_cells/MD602/MD602-IHC39-2015.12.02-00.16.53_MD602_3_0115/MD602-IHC39-2015.12.02-00.16.53_MD602_3_0115_image.jpg\n"
     ]
    },
    {
     "name": "stderr",
     "output_type": "stream",
     "text": [
      "Child returned 0\n",
      "Load mask: 14.58\n",
      "regionprops: 3.37\n",
      "89515 blobs identified.\n",
      "Save blob coords: 4.91\n",
      "Save blob masks: 9.79\n",
      "Save blob contours, save: 14.81\n",
      "Compute blob properties, save: 19.47\n",
      "Processing section: 201\n"
     ]
    },
    {
     "name": "stdout",
     "output_type": "stream",
     "text": [
      "cp /oasis/projects/nsf/csd395/yuncong/CSHL_data_processed/MD602/MD602_lossless_alignedTo_MD602-N49-2015.12.01-18.41.46_MD602_2_0146_cropped_compressed/MD602-N39-2015.12.01-18.00.05_MD602_2_0116_lossless_alignedTo_MD602-N49-2015.12.01-18.41.46_MD602_2_0146_cropped_compressed.jpg /home/yuncong/csd395/CSHL_cells_v2/detected_cells/MD602/MD602-N39-2015.12.01-18.00.05_MD602_2_0116/MD602-N39-2015.12.01-18.00.05_MD602_2_0116_image.jpg\n"
     ]
    },
    {
     "name": "stderr",
     "output_type": "stream",
     "text": [
      "Child returned 0\n",
      "Load mask: 14.34\n",
      "regionprops: 2.83\n",
      "83284 blobs identified.\n",
      "Save blob coords: 4.67\n",
      "Save blob masks: 9.25\n",
      "Save blob contours, save: 13.81\n",
      "Compute blob properties, save: 18.38\n",
      "Processing section: 202\n"
     ]
    },
    {
     "name": "stdout",
     "output_type": "stream",
     "text": [
      "cp /oasis/projects/nsf/csd395/yuncong/CSHL_data_processed/MD602/MD602_lossless_alignedTo_MD602-N49-2015.12.01-18.41.46_MD602_2_0146_cropped_compressed/MD602-IHC39-2015.12.02-00.16.53_MD602_2_0116_lossless_alignedTo_MD602-N49-2015.12.01-18.41.46_MD602_2_0146_cropped_compressed.jpg /home/yuncong/csd395/CSHL_cells_v2/detected_cells/MD602/MD602-IHC39-2015.12.02-00.16.53_MD602_2_0116/MD602-IHC39-2015.12.02-00.16.53_MD602_2_0116_image.jpg\n"
     ]
    },
    {
     "name": "stderr",
     "output_type": "stream",
     "text": [
      "Child returned 0\n",
      "Load mask: 14.27\n",
      "regionprops: 3.35\n",
      "92228 blobs identified.\n",
      "Save blob coords: 5.11\n",
      "Save blob masks: 10.16\n",
      "Save blob contours, save: 15.12\n",
      "Compute blob properties, save: 20.18\n",
      "Processing section: 203\n"
     ]
    },
    {
     "name": "stdout",
     "output_type": "stream",
     "text": [
      "cp /oasis/projects/nsf/csd395/yuncong/CSHL_data_processed/MD602/MD602_lossless_alignedTo_MD602-N49-2015.12.01-18.41.46_MD602_2_0146_cropped_compressed/MD602-N40-2015.12.01-18.04.50_MD602_3_0118_lossless_alignedTo_MD602-N49-2015.12.01-18.41.46_MD602_2_0146_cropped_compressed.jpg /home/yuncong/csd395/CSHL_cells_v2/detected_cells/MD602/MD602-N40-2015.12.01-18.04.50_MD602_3_0118/MD602-N40-2015.12.01-18.04.50_MD602_3_0118_image.jpg\n"
     ]
    },
    {
     "name": "stderr",
     "output_type": "stream",
     "text": [
      "Child returned 0\n",
      "Load mask: 14.33\n",
      "regionprops: 3.36\n",
      "87794 blobs identified.\n",
      "Save blob coords: 4.98\n",
      "Save blob masks: 9.74\n",
      "Save blob contours, save: 14.27\n",
      "Compute blob properties, save: 19.00\n",
      "Processing section: 204\n"
     ]
    },
    {
     "name": "stdout",
     "output_type": "stream",
     "text": [
      "cp /oasis/projects/nsf/csd395/yuncong/CSHL_data_processed/MD602/MD602_lossless_alignedTo_MD602-N49-2015.12.01-18.41.46_MD602_2_0146_cropped_compressed/MD602-IHC40-2015.12.02-00.21.41_MD602_3_0118_lossless_alignedTo_MD602-N49-2015.12.01-18.41.46_MD602_2_0146_cropped_compressed.jpg /home/yuncong/csd395/CSHL_cells_v2/detected_cells/MD602/MD602-IHC40-2015.12.02-00.21.41_MD602_3_0118/MD602-IHC40-2015.12.02-00.21.41_MD602_3_0118_image.jpg\n"
     ]
    },
    {
     "name": "stderr",
     "output_type": "stream",
     "text": [
      "Child returned 0\n",
      "Load mask: 14.36\n",
      "regionprops: 3.27\n",
      "87705 blobs identified.\n",
      "Save blob coords: 5.33\n",
      "Save blob masks: 9.72\n",
      "Save blob contours, save: 14.35\n",
      "Compute blob properties, save: 19.34\n",
      "Processing section: 205\n"
     ]
    },
    {
     "name": "stdout",
     "output_type": "stream",
     "text": [
      "cp /oasis/projects/nsf/csd395/yuncong/CSHL_data_processed/MD602/MD602_lossless_alignedTo_MD602-N49-2015.12.01-18.41.46_MD602_2_0146_cropped_compressed/MD602-N40-2015.12.01-18.04.50_MD602_1_0120_lossless_alignedTo_MD602-N49-2015.12.01-18.41.46_MD602_2_0146_cropped_compressed.jpg /home/yuncong/csd395/CSHL_cells_v2/detected_cells/MD602/MD602-N40-2015.12.01-18.04.50_MD602_1_0120/MD602-N40-2015.12.01-18.04.50_MD602_1_0120_image.jpg\n"
     ]
    },
    {
     "name": "stderr",
     "output_type": "stream",
     "text": [
      "Child returned 0\n",
      "Load mask: 14.63\n",
      "regionprops: 3.35\n",
      "90079 blobs identified.\n",
      "Save blob coords: 5.07\n",
      "Save blob masks: 9.97\n",
      "Save blob contours, save: 15.31\n",
      "Compute blob properties, save: 19.41\n",
      "Processing section: 206\n"
     ]
    },
    {
     "name": "stdout",
     "output_type": "stream",
     "text": [
      "cp /oasis/projects/nsf/csd395/yuncong/CSHL_data_processed/MD602/MD602_lossless_alignedTo_MD602-N49-2015.12.01-18.41.46_MD602_2_0146_cropped_compressed/MD602-IHC40-2015.12.02-00.21.41_MD602_2_0119_lossless_alignedTo_MD602-N49-2015.12.01-18.41.46_MD602_2_0146_cropped_compressed.jpg /home/yuncong/csd395/CSHL_cells_v2/detected_cells/MD602/MD602-IHC40-2015.12.02-00.21.41_MD602_2_0119/MD602-IHC40-2015.12.02-00.21.41_MD602_2_0119_image.jpg\n"
     ]
    },
    {
     "name": "stderr",
     "output_type": "stream",
     "text": [
      "Child returned 0\n",
      "Load mask: 14.34\n",
      "regionprops: 3.44\n",
      "91022 blobs identified.\n",
      "Save blob coords: 4.90\n",
      "Save blob masks: 9.81\n",
      "Save blob contours, save: 14.88\n",
      "Compute blob properties, save: 19.66\n",
      "Processing section: 207\n"
     ]
    },
    {
     "name": "stdout",
     "output_type": "stream",
     "text": [
      "cp /oasis/projects/nsf/csd395/yuncong/CSHL_data_processed/MD602/MD602_lossless_alignedTo_MD602-N49-2015.12.01-18.41.46_MD602_2_0146_cropped_compressed/MD602-N41-2015.12.01-18.09.41_MD602_3_0121_lossless_alignedTo_MD602-N49-2015.12.01-18.41.46_MD602_2_0146_cropped_compressed.jpg /home/yuncong/csd395/CSHL_cells_v2/detected_cells/MD602/MD602-N41-2015.12.01-18.09.41_MD602_3_0121/MD602-N41-2015.12.01-18.09.41_MD602_3_0121_image.jpg\n"
     ]
    },
    {
     "name": "stderr",
     "output_type": "stream",
     "text": [
      "Child returned 0\n",
      "Load mask: 14.55\n",
      "regionprops: 2.87\n",
      "89530 blobs identified.\n",
      "Save blob coords: 5.54\n",
      "Save blob masks: 10.31\n",
      "Save blob contours, save: 14.92\n",
      "Compute blob properties, save: 20.09\n",
      "Processing section: 208\n"
     ]
    },
    {
     "name": "stdout",
     "output_type": "stream",
     "text": [
      "cp /oasis/projects/nsf/csd395/yuncong/CSHL_data_processed/MD602/MD602_lossless_alignedTo_MD602-N49-2015.12.01-18.41.46_MD602_2_0146_cropped_compressed/MD602-IHC41-2015.12.02-00.26.19_MD602_3_0121_lossless_alignedTo_MD602-N49-2015.12.01-18.41.46_MD602_2_0146_cropped_compressed.jpg /home/yuncong/csd395/CSHL_cells_v2/detected_cells/MD602/MD602-IHC41-2015.12.02-00.26.19_MD602_3_0121/MD602-IHC41-2015.12.02-00.26.19_MD602_3_0121_image.jpg\n"
     ]
    },
    {
     "name": "stderr",
     "output_type": "stream",
     "text": [
      "Child returned 0\n",
      "Load mask: 14.33\n",
      "regionprops: 3.34\n",
      "85163 blobs identified.\n",
      "Save blob coords: 4.86\n",
      "Save blob masks: 9.31\n",
      "Save blob contours, save: 13.89\n",
      "Compute blob properties, save: 18.76\n",
      "Processing section: 209\n"
     ]
    },
    {
     "name": "stdout",
     "output_type": "stream",
     "text": [
      "cp /oasis/projects/nsf/csd395/yuncong/CSHL_data_processed/MD602/MD602_lossless_alignedTo_MD602-N49-2015.12.01-18.41.46_MD602_2_0146_cropped_compressed/MD602-N41-2015.12.01-18.09.41_MD602_2_0122_lossless_alignedTo_MD602-N49-2015.12.01-18.41.46_MD602_2_0146_cropped_compressed.jpg /home/yuncong/csd395/CSHL_cells_v2/detected_cells/MD602/MD602-N41-2015.12.01-18.09.41_MD602_2_0122/MD602-N41-2015.12.01-18.09.41_MD602_2_0122_image.jpg\n"
     ]
    },
    {
     "name": "stderr",
     "output_type": "stream",
     "text": [
      "Child returned 0\n",
      "Load mask: 14.60\n",
      "regionprops: 2.81\n",
      "87543 blobs identified.\n",
      "Save blob coords: 4.96\n",
      "Save blob masks: 9.97\n",
      "Save blob contours, save: 14.15\n",
      "Compute blob properties, save: 19.46\n",
      "Processing section: 210\n"
     ]
    },
    {
     "name": "stdout",
     "output_type": "stream",
     "text": [
      "cp /oasis/projects/nsf/csd395/yuncong/CSHL_data_processed/MD602/MD602_lossless_alignedTo_MD602-N49-2015.12.01-18.41.46_MD602_2_0146_cropped_compressed/MD602-IHC41-2015.12.02-00.26.19_MD602_2_0122_lossless_alignedTo_MD602-N49-2015.12.01-18.41.46_MD602_2_0146_cropped_compressed.jpg /home/yuncong/csd395/CSHL_cells_v2/detected_cells/MD602/MD602-IHC41-2015.12.02-00.26.19_MD602_2_0122/MD602-IHC41-2015.12.02-00.26.19_MD602_2_0122_image.jpg\n"
     ]
    },
    {
     "name": "stderr",
     "output_type": "stream",
     "text": [
      "Child returned 0\n",
      "Load mask: 14.34\n",
      "regionprops: 2.86\n",
      "87711 blobs identified.\n",
      "Save blob coords: 4.89\n",
      "Save blob masks: 9.79\n",
      "Save blob contours, save: 14.48\n",
      "Compute blob properties, save: 18.95\n",
      "Processing section: 211\n"
     ]
    },
    {
     "name": "stdout",
     "output_type": "stream",
     "text": [
      "cp /oasis/projects/nsf/csd395/yuncong/CSHL_data_processed/MD602/MD602_lossless_alignedTo_MD602-N49-2015.12.01-18.41.46_MD602_2_0146_cropped_compressed/MD602-N42-2015.12.01-18.14.25_MD602_3_0124_lossless_alignedTo_MD602-N49-2015.12.01-18.41.46_MD602_2_0146_cropped_compressed.jpg /home/yuncong/csd395/CSHL_cells_v2/detected_cells/MD602/MD602-N42-2015.12.01-18.14.25_MD602_3_0124/MD602-N42-2015.12.01-18.14.25_MD602_3_0124_image.jpg\n"
     ]
    },
    {
     "name": "stderr",
     "output_type": "stream",
     "text": [
      "Child returned 0\n",
      "Load mask: 14.56\n",
      "regionprops: 3.23\n",
      "75265 blobs identified.\n",
      "Save blob coords: 4.69\n",
      "Save blob masks: 8.67\n",
      "Save blob contours, save: 12.71\n",
      "Compute blob properties, save: 17.25\n",
      "Processing section: 212\n"
     ]
    },
    {
     "name": "stdout",
     "output_type": "stream",
     "text": [
      "cp /oasis/projects/nsf/csd395/yuncong/CSHL_data_processed/MD602/MD602_lossless_alignedTo_MD602-N49-2015.12.01-18.41.46_MD602_2_0146_cropped_compressed/MD602-IHC42-2015.12.02-00.31.11_MD602_3_0124_lossless_alignedTo_MD602-N49-2015.12.01-18.41.46_MD602_2_0146_cropped_compressed.jpg /home/yuncong/csd395/CSHL_cells_v2/detected_cells/MD602/MD602-IHC42-2015.12.02-00.31.11_MD602_3_0124/MD602-IHC42-2015.12.02-00.31.11_MD602_3_0124_image.jpg\n"
     ]
    },
    {
     "name": "stderr",
     "output_type": "stream",
     "text": [
      "Child returned 0\n",
      "Load mask: 14.39\n",
      "regionprops: 3.08\n",
      "82779 blobs identified.\n",
      "Save blob coords: 4.72\n",
      "Save blob masks: 9.19\n",
      "Save blob contours, save: 13.52\n",
      "Compute blob properties, save: 18.26\n",
      "Processing section: 213\n"
     ]
    },
    {
     "name": "stdout",
     "output_type": "stream",
     "text": [
      "cp /oasis/projects/nsf/csd395/yuncong/CSHL_data_processed/MD602/MD602_lossless_alignedTo_MD602-N49-2015.12.01-18.41.46_MD602_2_0146_cropped_compressed/MD602-N42-2015.12.01-18.14.25_MD602_2_0125_lossless_alignedTo_MD602-N49-2015.12.01-18.41.46_MD602_2_0146_cropped_compressed.jpg /home/yuncong/csd395/CSHL_cells_v2/detected_cells/MD602/MD602-N42-2015.12.01-18.14.25_MD602_2_0125/MD602-N42-2015.12.01-18.14.25_MD602_2_0125_image.jpg\n"
     ]
    },
    {
     "name": "stderr",
     "output_type": "stream",
     "text": [
      "Child returned 0\n",
      "Load mask: 14.51\n",
      "regionprops: 2.75\n",
      "77474 blobs identified.\n",
      "Save blob coords: 4.51\n",
      "Save blob masks: 9.01\n",
      "Save blob contours, save: 12.73\n",
      "Compute blob properties, save: 17.53\n",
      "Processing section: 214\n"
     ]
    },
    {
     "name": "stdout",
     "output_type": "stream",
     "text": [
      "cp /oasis/projects/nsf/csd395/yuncong/CSHL_data_processed/MD602/MD602_lossless_alignedTo_MD602-N49-2015.12.01-18.41.46_MD602_2_0146_cropped_compressed/MD602-IHC42-2015.12.02-00.31.11_MD602_2_0125_lossless_alignedTo_MD602-N49-2015.12.01-18.41.46_MD602_2_0146_cropped_compressed.jpg /home/yuncong/csd395/CSHL_cells_v2/detected_cells/MD602/MD602-IHC42-2015.12.02-00.31.11_MD602_2_0125/MD602-IHC42-2015.12.02-00.31.11_MD602_2_0125_image.jpg\n"
     ]
    },
    {
     "name": "stderr",
     "output_type": "stream",
     "text": [
      "Child returned 0\n",
      "Load mask: 14.40\n",
      "regionprops: 2.69\n",
      "81708 blobs identified.\n",
      "Save blob coords: 4.72\n",
      "Save blob masks: 9.36\n",
      "Save blob contours, save: 13.04\n",
      "Compute blob properties, save: 17.99\n",
      "Processing section: 215\n"
     ]
    },
    {
     "name": "stdout",
     "output_type": "stream",
     "text": [
      "cp /oasis/projects/nsf/csd395/yuncong/CSHL_data_processed/MD602/MD602_lossless_alignedTo_MD602-N49-2015.12.01-18.41.46_MD602_2_0146_cropped_compressed/MD602-IHC43-2015.12.02-00.36.34_MD602_3_0127_lossless_alignedTo_MD602-N49-2015.12.01-18.41.46_MD602_2_0146_cropped_compressed.jpg /home/yuncong/csd395/CSHL_cells_v2/detected_cells/MD602/MD602-IHC43-2015.12.02-00.36.34_MD602_3_0127/MD602-IHC43-2015.12.02-00.36.34_MD602_3_0127_image.jpg\n"
     ]
    },
    {
     "name": "stderr",
     "output_type": "stream",
     "text": [
      "Child returned 0\n",
      "Load mask: 14.33\n",
      "regionprops: 3.19\n",
      "82385 blobs identified.\n",
      "Save blob coords: 4.77\n",
      "Save blob masks: 9.15\n",
      "Save blob contours, save: 13.87\n",
      "Compute blob properties, save: 18.07\n",
      "Processing section: 216\n"
     ]
    },
    {
     "name": "stdout",
     "output_type": "stream",
     "text": [
      "cp /oasis/projects/nsf/csd395/yuncong/CSHL_data_processed/MD602/MD602_lossless_alignedTo_MD602-N49-2015.12.01-18.41.46_MD602_2_0146_cropped_compressed/MD602-N43-2015.12.01-18.19.01_MD602_2_0128_lossless_alignedTo_MD602-N49-2015.12.01-18.41.46_MD602_2_0146_cropped_compressed.jpg /home/yuncong/csd395/CSHL_cells_v2/detected_cells/MD602/MD602-N43-2015.12.01-18.19.01_MD602_2_0128/MD602-N43-2015.12.01-18.19.01_MD602_2_0128_image.jpg\n"
     ]
    },
    {
     "name": "stderr",
     "output_type": "stream",
     "text": [
      "Child returned 0\n",
      "Load mask: 14.40\n",
      "regionprops: 3.07\n",
      "62890 blobs identified.\n",
      "Save blob coords: 3.75\n",
      "Save blob masks: 7.18\n",
      "Save blob contours, save: 10.56\n",
      "Compute blob properties, save: 14.09\n",
      "Processing section: 217\n"
     ]
    },
    {
     "name": "stdout",
     "output_type": "stream",
     "text": [
      "cp /oasis/projects/nsf/csd395/yuncong/CSHL_data_processed/MD602/MD602_lossless_alignedTo_MD602-N49-2015.12.01-18.41.46_MD602_2_0146_cropped_compressed/MD602-IHC43-2015.12.02-00.36.34_MD602_2_0128_lossless_alignedTo_MD602-N49-2015.12.01-18.41.46_MD602_2_0146_cropped_compressed.jpg /home/yuncong/csd395/CSHL_cells_v2/detected_cells/MD602/MD602-IHC43-2015.12.02-00.36.34_MD602_2_0128/MD602-IHC43-2015.12.02-00.36.34_MD602_2_0128_image.jpg\n"
     ]
    },
    {
     "name": "stderr",
     "output_type": "stream",
     "text": [
      "Child returned 0\n",
      "Load mask: 14.28\n",
      "regionprops: 2.96\n",
      "78715 blobs identified.\n",
      "Save blob coords: 4.45\n",
      "Save blob masks: 8.76\n",
      "Save blob contours, save: 13.13\n",
      "Compute blob properties, save: 17.26\n",
      "Processing section: 218\n"
     ]
    },
    {
     "name": "stdout",
     "output_type": "stream",
     "text": [
      "cp /oasis/projects/nsf/csd395/yuncong/CSHL_data_processed/MD602/MD602_lossless_alignedTo_MD602-N49-2015.12.01-18.41.46_MD602_2_0146_cropped_compressed/MD602-N44-2015.12.01-18.21.46_MD602_1_0130_lossless_alignedTo_MD602-N49-2015.12.01-18.41.46_MD602_2_0146_cropped_compressed.jpg /home/yuncong/csd395/CSHL_cells_v2/detected_cells/MD602/MD602-N44-2015.12.01-18.21.46_MD602_1_0130/MD602-N44-2015.12.01-18.21.46_MD602_1_0130_image.jpg\n"
     ]
    },
    {
     "name": "stderr",
     "output_type": "stream",
     "text": [
      "Child returned 0\n",
      "Load mask: 14.43\n",
      "regionprops: 3.05\n",
      "60579 blobs identified.\n",
      "Save blob coords: 3.75\n",
      "Save blob masks: 7.05\n",
      "Save blob contours, save: 10.43\n",
      "Compute blob properties, save: 13.74\n",
      "Processing section: 219\n"
     ]
    },
    {
     "name": "stdout",
     "output_type": "stream",
     "text": [
      "cp /oasis/projects/nsf/csd395/yuncong/CSHL_data_processed/MD602/MD602_lossless_alignedTo_MD602-N49-2015.12.01-18.41.46_MD602_2_0146_cropped_compressed/MD602-IHC44-2015.12.02-00.41.07_MD602_3_0130_lossless_alignedTo_MD602-N49-2015.12.01-18.41.46_MD602_2_0146_cropped_compressed.jpg /home/yuncong/csd395/CSHL_cells_v2/detected_cells/MD602/MD602-IHC44-2015.12.02-00.41.07_MD602_3_0130/MD602-IHC44-2015.12.02-00.41.07_MD602_3_0130_image.jpg\n"
     ]
    },
    {
     "name": "stderr",
     "output_type": "stream",
     "text": [
      "Child returned 0\n",
      "Load mask: 14.28\n",
      "regionprops: 3.16\n",
      "73110 blobs identified.\n",
      "Save blob coords: 4.29\n",
      "Save blob masks: 8.30\n",
      "Save blob contours, save: 12.03\n",
      "Compute blob properties, save: 16.38\n",
      "Processing section: 220\n"
     ]
    },
    {
     "name": "stdout",
     "output_type": "stream",
     "text": [
      "cp /oasis/projects/nsf/csd395/yuncong/CSHL_data_processed/MD602/MD602_lossless_alignedTo_MD602-N49-2015.12.01-18.41.46_MD602_2_0146_cropped_compressed/MD602-N44-2015.12.01-18.21.46_MD602_2_0131_lossless_alignedTo_MD602-N49-2015.12.01-18.41.46_MD602_2_0146_cropped_compressed.jpg /home/yuncong/csd395/CSHL_cells_v2/detected_cells/MD602/MD602-N44-2015.12.01-18.21.46_MD602_2_0131/MD602-N44-2015.12.01-18.21.46_MD602_2_0131_image.jpg\n"
     ]
    },
    {
     "name": "stderr",
     "output_type": "stream",
     "text": [
      "Child returned 0\n",
      "Load mask: 14.30\n",
      "regionprops: 2.52\n",
      "68390 blobs identified.\n",
      "Save blob coords: 4.22\n",
      "Save blob masks: 7.68\n",
      "Save blob contours, save: 14.71\n",
      "Compute blob properties, save: 15.31\n",
      "Processing section: 221\n"
     ]
    },
    {
     "name": "stdout",
     "output_type": "stream",
     "text": [
      "cp /oasis/projects/nsf/csd395/yuncong/CSHL_data_processed/MD602/MD602_lossless_alignedTo_MD602-N49-2015.12.01-18.41.46_MD602_2_0146_cropped_compressed/MD602-IHC44-2015.12.02-00.41.07_MD602_2_0131_lossless_alignedTo_MD602-N49-2015.12.01-18.41.46_MD602_2_0146_cropped_compressed.jpg /home/yuncong/csd395/CSHL_cells_v2/detected_cells/MD602/MD602-IHC44-2015.12.02-00.41.07_MD602_2_0131/MD602-IHC44-2015.12.02-00.41.07_MD602_2_0131_image.jpg\n"
     ]
    },
    {
     "name": "stderr",
     "output_type": "stream",
     "text": [
      "Child returned 0\n",
      "Load mask: 14.59\n",
      "regionprops: 3.11\n",
      "76576 blobs identified.\n",
      "Save blob coords: 4.46\n",
      "Save blob masks: 8.56\n",
      "Save blob contours, save: 12.56\n",
      "Compute blob properties, save: 16.98\n",
      "Processing section: 222\n"
     ]
    },
    {
     "name": "stdout",
     "output_type": "stream",
     "text": [
      "cp /oasis/projects/nsf/csd395/yuncong/CSHL_data_processed/MD602/MD602_lossless_alignedTo_MD602-N49-2015.12.01-18.41.46_MD602_2_0146_cropped_compressed/MD602-N45-2015.12.01-18.26.41_MD602_3_0133_lossless_alignedTo_MD602-N49-2015.12.01-18.41.46_MD602_2_0146_cropped_compressed.jpg /home/yuncong/csd395/CSHL_cells_v2/detected_cells/MD602/MD602-N45-2015.12.01-18.26.41_MD602_3_0133/MD602-N45-2015.12.01-18.26.41_MD602_3_0133_image.jpg\n"
     ]
    },
    {
     "name": "stderr",
     "output_type": "stream",
     "text": [
      "Child returned 0\n",
      "Load mask: 14.37\n",
      "regionprops: 2.96\n",
      "61581 blobs identified.\n",
      "Save blob coords: 3.89\n",
      "Save blob masks: 6.91\n",
      "Save blob contours, save: 10.47\n",
      "Compute blob properties, save: 13.76\n",
      "Processing section: 223\n"
     ]
    },
    {
     "name": "stdout",
     "output_type": "stream",
     "text": [
      "cp /oasis/projects/nsf/csd395/yuncong/CSHL_data_processed/MD602/MD602_lossless_alignedTo_MD602-N49-2015.12.01-18.41.46_MD602_2_0146_cropped_compressed/MD602-IHC45-2015.12.02-00.46.10_MD602_3_0133_lossless_alignedTo_MD602-N49-2015.12.01-18.41.46_MD602_2_0146_cropped_compressed.jpg /home/yuncong/csd395/CSHL_cells_v2/detected_cells/MD602/MD602-IHC45-2015.12.02-00.46.10_MD602_3_0133/MD602-IHC45-2015.12.02-00.46.10_MD602_3_0133_image.jpg\n"
     ]
    },
    {
     "name": "stderr",
     "output_type": "stream",
     "text": [
      "Child returned 0\n",
      "Load mask: 14.29\n",
      "regionprops: 2.74\n",
      "69223 blobs identified.\n",
      "Save blob coords: 4.02\n",
      "Save blob masks: 7.78\n",
      "Save blob contours, save: 11.50\n",
      "Compute blob properties, save: 15.35\n",
      "Processing section: 224\n"
     ]
    },
    {
     "name": "stdout",
     "output_type": "stream",
     "text": [
      "cp /oasis/projects/nsf/csd395/yuncong/CSHL_data_processed/MD602/MD602_lossless_alignedTo_MD602-N49-2015.12.01-18.41.46_MD602_2_0146_cropped_compressed/MD602-N45-2015.12.01-18.26.41_MD602_2_0134_lossless_alignedTo_MD602-N49-2015.12.01-18.41.46_MD602_2_0146_cropped_compressed.jpg /home/yuncong/csd395/CSHL_cells_v2/detected_cells/MD602/MD602-N45-2015.12.01-18.26.41_MD602_2_0134/MD602-N45-2015.12.01-18.26.41_MD602_2_0134_image.jpg\n"
     ]
    },
    {
     "name": "stderr",
     "output_type": "stream",
     "text": [
      "Child returned 0\n",
      "Load mask: 14.29\n",
      "regionprops: 2.99\n",
      "78592 blobs identified.\n",
      "Save blob coords: 4.49\n",
      "Save blob masks: 8.66\n",
      "Save blob contours, save: 12.96\n",
      "Compute blob properties, save: 17.38\n",
      "Processing section: 225\n"
     ]
    },
    {
     "name": "stdout",
     "output_type": "stream",
     "text": [
      "cp /oasis/projects/nsf/csd395/yuncong/CSHL_data_processed/MD602/MD602_lossless_alignedTo_MD602-N49-2015.12.01-18.41.46_MD602_2_0146_cropped_compressed/MD602-IHC45-2015.12.02-00.46.10_MD602_2_0134_lossless_alignedTo_MD602-N49-2015.12.01-18.41.46_MD602_2_0146_cropped_compressed.jpg /home/yuncong/csd395/CSHL_cells_v2/detected_cells/MD602/MD602-IHC45-2015.12.02-00.46.10_MD602_2_0134/MD602-IHC45-2015.12.02-00.46.10_MD602_2_0134_image.jpg\n"
     ]
    },
    {
     "name": "stderr",
     "output_type": "stream",
     "text": [
      "Child returned 0\n",
      "Load mask: 14.38\n",
      "regionprops: 3.12\n",
      "79705 blobs identified.\n",
      "Save blob coords: 4.53\n",
      "Save blob masks: 8.84\n",
      "Save blob contours, save: 13.15\n",
      "Compute blob properties, save: 17.52\n",
      "Processing section: 226\n"
     ]
    },
    {
     "name": "stdout",
     "output_type": "stream",
     "text": [
      "cp /oasis/projects/nsf/csd395/yuncong/CSHL_data_processed/MD602/MD602_lossless_alignedTo_MD602-N49-2015.12.01-18.41.46_MD602_2_0146_cropped_compressed/MD602-IHC46-2015.12.02-00.51.03_MD602_3_0136_lossless_alignedTo_MD602-N49-2015.12.01-18.41.46_MD602_2_0146_cropped_compressed.jpg /home/yuncong/csd395/CSHL_cells_v2/detected_cells/MD602/MD602-IHC46-2015.12.02-00.51.03_MD602_3_0136/MD602-IHC46-2015.12.02-00.51.03_MD602_3_0136_image.jpg\n"
     ]
    },
    {
     "name": "stderr",
     "output_type": "stream",
     "text": [
      "Child returned 0\n",
      "Load mask: 14.56\n",
      "regionprops: 3.24\n",
      "68400 blobs identified.\n",
      "Save blob coords: 4.97\n",
      "Save blob masks: 8.34\n",
      "Save blob contours, save: 11.68\n",
      "Compute blob properties, save: 16.24\n",
      "Processing section: 227\n"
     ]
    },
    {
     "name": "stdout",
     "output_type": "stream",
     "text": [
      "cp /oasis/projects/nsf/csd395/yuncong/CSHL_data_processed/MD602/MD602_lossless_alignedTo_MD602-N49-2015.12.01-18.41.46_MD602_2_0146_cropped_compressed/MD602-N46-2015.12.01-18.31.37_MD602_2_0137_lossless_alignedTo_MD602-N49-2015.12.01-18.41.46_MD602_2_0146_cropped_compressed.jpg /home/yuncong/csd395/CSHL_cells_v2/detected_cells/MD602/MD602-N46-2015.12.01-18.31.37_MD602_2_0137/MD602-N46-2015.12.01-18.31.37_MD602_2_0137_image.jpg\n"
     ]
    },
    {
     "name": "stderr",
     "output_type": "stream",
     "text": [
      "Child returned 0\n",
      "Load mask: 14.37\n",
      "regionprops: 2.93\n",
      "64128 blobs identified.\n",
      "Save blob coords: 3.70\n",
      "Save blob masks: 7.17\n",
      "Save blob contours, save: 10.82\n",
      "Compute blob properties, save: 14.10\n",
      "Processing section: 228\n"
     ]
    },
    {
     "name": "stdout",
     "output_type": "stream",
     "text": [
      "cp /oasis/projects/nsf/csd395/yuncong/CSHL_data_processed/MD602/MD602_lossless_alignedTo_MD602-N49-2015.12.01-18.41.46_MD602_2_0146_cropped_compressed/MD602-IHC46-2015.12.02-00.51.03_MD602_2_0137_lossless_alignedTo_MD602-N49-2015.12.01-18.41.46_MD602_2_0146_cropped_compressed.jpg /home/yuncong/csd395/CSHL_cells_v2/detected_cells/MD602/MD602-IHC46-2015.12.02-00.51.03_MD602_2_0137/MD602-IHC46-2015.12.02-00.51.03_MD602_2_0137_image.jpg\n"
     ]
    },
    {
     "name": "stderr",
     "output_type": "stream",
     "text": [
      "Child returned 0\n",
      "Load mask: 14.28\n",
      "regionprops: 2.99\n",
      "81877 blobs identified.\n",
      "Save blob coords: 4.74\n",
      "Save blob masks: 9.35\n",
      "Save blob contours, save: 13.43\n",
      "Compute blob properties, save: 18.38\n",
      "Processing section: 230\n"
     ]
    },
    {
     "name": "stdout",
     "output_type": "stream",
     "text": [
      "cp /oasis/projects/nsf/csd395/yuncong/CSHL_data_processed/MD602/MD602_lossless_alignedTo_MD602-N49-2015.12.01-18.41.46_MD602_2_0146_cropped_compressed/MD602-N47-2015.12.01-18.34.17_MD602_2_0140_lossless_alignedTo_MD602-N49-2015.12.01-18.41.46_MD602_2_0146_cropped_compressed.jpg /home/yuncong/csd395/CSHL_cells_v2/detected_cells/MD602/MD602-N47-2015.12.01-18.34.17_MD602_2_0140/MD602-N47-2015.12.01-18.34.17_MD602_2_0140_image.jpg\n"
     ]
    },
    {
     "name": "stderr",
     "output_type": "stream",
     "text": [
      "Child returned 0\n",
      "Load mask: 14.29\n",
      "regionprops: 3.17\n",
      "82781 blobs identified.\n",
      "Save blob coords: 4.90\n",
      "Save blob masks: 9.33\n",
      "Save blob contours, save: 13.51\n",
      "Compute blob properties, save: 18.48\n",
      "Processing section: 231\n"
     ]
    },
    {
     "name": "stdout",
     "output_type": "stream",
     "text": [
      "cp /oasis/projects/nsf/csd395/yuncong/CSHL_data_processed/MD602/MD602_lossless_alignedTo_MD602-N49-2015.12.01-18.41.46_MD602_2_0146_cropped_compressed/MD602-IHC47-2015.12.02-00.55.42_MD602_2_0140_lossless_alignedTo_MD602-N49-2015.12.01-18.41.46_MD602_2_0146_cropped_compressed.jpg /home/yuncong/csd395/CSHL_cells_v2/detected_cells/MD602/MD602-IHC47-2015.12.02-00.55.42_MD602_2_0140/MD602-IHC47-2015.12.02-00.55.42_MD602_2_0140_image.jpg\n"
     ]
    },
    {
     "name": "stderr",
     "output_type": "stream",
     "text": [
      "Child returned 0\n",
      "Load mask: 14.46\n",
      "regionprops: 3.32\n",
      "82097 blobs identified.\n",
      "Save blob coords: 4.74\n",
      "Save blob masks: 9.15\n",
      "Save blob contours, save: 13.81\n",
      "Compute blob properties, save: 18.07\n",
      "Processing section: 232\n"
     ]
    },
    {
     "name": "stdout",
     "output_type": "stream",
     "text": [
      "cp /oasis/projects/nsf/csd395/yuncong/CSHL_data_processed/MD602/MD602_lossless_alignedTo_MD602-N49-2015.12.01-18.41.46_MD602_2_0146_cropped_compressed/MD602-N48-2015.12.01-18.36.57_MD602_1_0142_lossless_alignedTo_MD602-N49-2015.12.01-18.41.46_MD602_2_0146_cropped_compressed.jpg /home/yuncong/csd395/CSHL_cells_v2/detected_cells/MD602/MD602-N48-2015.12.01-18.36.57_MD602_1_0142/MD602-N48-2015.12.01-18.36.57_MD602_1_0142_image.jpg\n"
     ]
    },
    {
     "name": "stderr",
     "output_type": "stream",
     "text": [
      "Child returned 0\n",
      "Load mask: 14.41\n",
      "regionprops: 3.26\n",
      "79265 blobs identified.\n",
      "Save blob coords: 4.79\n",
      "Save blob masks: 9.15\n",
      "Save blob contours, save: 13.48\n",
      "Compute blob properties, save: 17.64\n",
      "Processing section: 233\n"
     ]
    },
    {
     "name": "stdout",
     "output_type": "stream",
     "text": [
      "cp /oasis/projects/nsf/csd395/yuncong/CSHL_data_processed/MD602/MD602_lossless_alignedTo_MD602-N49-2015.12.01-18.41.46_MD602_2_0146_cropped_compressed/MD602-IHC48-2015.12.02-01.00.33_MD602_1_0142_lossless_alignedTo_MD602-N49-2015.12.01-18.41.46_MD602_2_0146_cropped_compressed.jpg /home/yuncong/csd395/CSHL_cells_v2/detected_cells/MD602/MD602-IHC48-2015.12.02-01.00.33_MD602_1_0142/MD602-IHC48-2015.12.02-01.00.33_MD602_1_0142_image.jpg\n"
     ]
    },
    {
     "name": "stderr",
     "output_type": "stream",
     "text": [
      "Child returned 0\n",
      "Load mask: 14.48\n",
      "regionprops: 3.18\n",
      "82289 blobs identified.\n",
      "Save blob coords: 4.67\n",
      "Save blob masks: 9.21\n",
      "Save blob contours, save: 13.67\n",
      "Compute blob properties, save: 18.28\n",
      "Processing section: 234\n"
     ]
    },
    {
     "name": "stdout",
     "output_type": "stream",
     "text": [
      "cp /oasis/projects/nsf/csd395/yuncong/CSHL_data_processed/MD602/MD602_lossless_alignedTo_MD602-N49-2015.12.01-18.41.46_MD602_2_0146_cropped_compressed/MD602-N48-2015.12.01-18.36.57_MD602_2_0143_lossless_alignedTo_MD602-N49-2015.12.01-18.41.46_MD602_2_0146_cropped_compressed.jpg /home/yuncong/csd395/CSHL_cells_v2/detected_cells/MD602/MD602-N48-2015.12.01-18.36.57_MD602_2_0143/MD602-N48-2015.12.01-18.36.57_MD602_2_0143_image.jpg\n"
     ]
    },
    {
     "name": "stderr",
     "output_type": "stream",
     "text": [
      "Child returned 0\n",
      "Load mask: 14.43\n",
      "regionprops: 2.66\n",
      "84543 blobs identified.\n",
      "Save blob coords: 4.82\n",
      "Save blob masks: 9.66\n",
      "Save blob contours, save: 14.15\n",
      "Compute blob properties, save: 18.74\n",
      "Processing section: 235\n"
     ]
    },
    {
     "name": "stdout",
     "output_type": "stream",
     "text": [
      "cp /oasis/projects/nsf/csd395/yuncong/CSHL_data_processed/MD602/MD602_lossless_alignedTo_MD602-N49-2015.12.01-18.41.46_MD602_2_0146_cropped_compressed/MD602-IHC48-2015.12.02-01.00.33_MD602_2_0143_lossless_alignedTo_MD602-N49-2015.12.01-18.41.46_MD602_2_0146_cropped_compressed.jpg /home/yuncong/csd395/CSHL_cells_v2/detected_cells/MD602/MD602-IHC48-2015.12.02-01.00.33_MD602_2_0143/MD602-IHC48-2015.12.02-01.00.33_MD602_2_0143_image.jpg\n"
     ]
    },
    {
     "name": "stderr",
     "output_type": "stream",
     "text": [
      "Child returned 0\n",
      "Load mask: 14.30\n",
      "regionprops: 3.30\n",
      "83867 blobs identified.\n",
      "Save blob coords: 4.69\n",
      "Save blob masks: 9.24\n",
      "Save blob contours, save: 13.72\n",
      "Compute blob properties, save: 18.30\n",
      "Processing section: 236\n"
     ]
    },
    {
     "name": "stdout",
     "output_type": "stream",
     "text": [
      "cp /oasis/projects/nsf/csd395/yuncong/CSHL_data_processed/MD602/MD602_lossless_alignedTo_MD602-N49-2015.12.01-18.41.46_MD602_2_0146_cropped_compressed/MD602-N49-2015.12.01-18.41.46_MD602_3_0145_lossless_alignedTo_MD602-N49-2015.12.01-18.41.46_MD602_2_0146_cropped_compressed.jpg /home/yuncong/csd395/CSHL_cells_v2/detected_cells/MD602/MD602-N49-2015.12.01-18.41.46_MD602_3_0145/MD602-N49-2015.12.01-18.41.46_MD602_3_0145_image.jpg\n"
     ]
    },
    {
     "name": "stderr",
     "output_type": "stream",
     "text": [
      "Child returned 0\n",
      "Load mask: 14.48\n",
      "regionprops: 3.25\n",
      "83498 blobs identified.\n",
      "Save blob coords: 4.88\n",
      "Save blob masks: 9.41\n",
      "Save blob contours, save: 13.56\n",
      "Compute blob properties, save: 18.92\n",
      "Processing section: 237\n"
     ]
    },
    {
     "name": "stdout",
     "output_type": "stream",
     "text": [
      "cp /oasis/projects/nsf/csd395/yuncong/CSHL_data_processed/MD602/MD602_lossless_alignedTo_MD602-N49-2015.12.01-18.41.46_MD602_2_0146_cropped_compressed/MD602-IHC49-2015.12.02-01.05.12_MD602_1_0145_lossless_alignedTo_MD602-N49-2015.12.01-18.41.46_MD602_2_0146_cropped_compressed.jpg /home/yuncong/csd395/CSHL_cells_v2/detected_cells/MD602/MD602-IHC49-2015.12.02-01.05.12_MD602_1_0145/MD602-IHC49-2015.12.02-01.05.12_MD602_1_0145_image.jpg\n"
     ]
    },
    {
     "name": "stderr",
     "output_type": "stream",
     "text": [
      "Child returned 0\n",
      "Load mask: 14.50\n",
      "regionprops: 2.86\n",
      "81962 blobs identified.\n",
      "Save blob coords: 4.74\n",
      "Save blob masks: 9.16\n",
      "Save blob contours, save: 17.24\n",
      "Compute blob properties, save: 18.36\n",
      "Processing section: 238\n"
     ]
    },
    {
     "name": "stdout",
     "output_type": "stream",
     "text": [
      "cp /oasis/projects/nsf/csd395/yuncong/CSHL_data_processed/MD602/MD602_lossless_alignedTo_MD602-N49-2015.12.01-18.41.46_MD602_2_0146_cropped_compressed/MD602-N49-2015.12.01-18.41.46_MD602_2_0146_lossless_alignedTo_MD602-N49-2015.12.01-18.41.46_MD602_2_0146_cropped_compressed.jpg /home/yuncong/csd395/CSHL_cells_v2/detected_cells/MD602/MD602-N49-2015.12.01-18.41.46_MD602_2_0146/MD602-N49-2015.12.01-18.41.46_MD602_2_0146_image.jpg\n"
     ]
    },
    {
     "name": "stderr",
     "output_type": "stream",
     "text": [
      "Child returned 0\n",
      "Load mask: 14.28\n",
      "regionprops: 3.28\n",
      "83799 blobs identified.\n",
      "Save blob coords: 4.71\n",
      "Save blob masks: 9.34\n",
      "Save blob contours, save: 13.64\n",
      "Compute blob properties, save: 18.56\n",
      "Processing section: 239\n"
     ]
    },
    {
     "name": "stdout",
     "output_type": "stream",
     "text": [
      "cp /oasis/projects/nsf/csd395/yuncong/CSHL_data_processed/MD602/MD602_lossless_alignedTo_MD602-N49-2015.12.01-18.41.46_MD602_2_0146_cropped_compressed/MD602-IHC49-2015.12.02-01.05.12_MD602_2_0146_lossless_alignedTo_MD602-N49-2015.12.01-18.41.46_MD602_2_0146_cropped_compressed.jpg /home/yuncong/csd395/CSHL_cells_v2/detected_cells/MD602/MD602-IHC49-2015.12.02-01.05.12_MD602_2_0146/MD602-IHC49-2015.12.02-01.05.12_MD602_2_0146_image.jpg\n"
     ]
    },
    {
     "name": "stderr",
     "output_type": "stream",
     "text": [
      "Child returned 0\n",
      "Load mask: 14.52\n",
      "regionprops: 2.67\n",
      "68843 blobs identified.\n",
      "Save blob coords: 4.06\n",
      "Save blob masks: 7.79\n",
      "Save blob contours, save: 11.73\n",
      "Compute blob properties, save: 15.61\n",
      "Processing section: 240\n"
     ]
    },
    {
     "name": "stdout",
     "output_type": "stream",
     "text": [
      "cp /oasis/projects/nsf/csd395/yuncong/CSHL_data_processed/MD602/MD602_lossless_alignedTo_MD602-N49-2015.12.01-18.41.46_MD602_2_0146_cropped_compressed/MD602-N50-2015.12.01-18.46.34_MD602_3_0148_lossless_alignedTo_MD602-N49-2015.12.01-18.41.46_MD602_2_0146_cropped_compressed.jpg /home/yuncong/csd395/CSHL_cells_v2/detected_cells/MD602/MD602-N50-2015.12.01-18.46.34_MD602_3_0148/MD602-N50-2015.12.01-18.46.34_MD602_3_0148_image.jpg\n"
     ]
    },
    {
     "name": "stderr",
     "output_type": "stream",
     "text": [
      "Child returned 0\n",
      "Load mask: 14.35\n",
      "regionprops: 2.56\n",
      "82233 blobs identified.\n",
      "Save blob coords: 4.66\n",
      "Save blob masks: 9.45\n",
      "Save blob contours, save: 13.39\n",
      "Compute blob properties, save: 18.27\n",
      "Processing section: 241\n"
     ]
    },
    {
     "name": "stdout",
     "output_type": "stream",
     "text": [
      "cp /oasis/projects/nsf/csd395/yuncong/CSHL_data_processed/MD602/MD602_lossless_alignedTo_MD602-N49-2015.12.01-18.41.46_MD602_2_0146_cropped_compressed/MD602-IHC50-2015.12.02-01.10.03_MD602_1_0148_lossless_alignedTo_MD602-N49-2015.12.01-18.41.46_MD602_2_0146_cropped_compressed.jpg /home/yuncong/csd395/CSHL_cells_v2/detected_cells/MD602/MD602-IHC50-2015.12.02-01.10.03_MD602_1_0148/MD602-IHC50-2015.12.02-01.10.03_MD602_1_0148_image.jpg\n"
     ]
    },
    {
     "name": "stderr",
     "output_type": "stream",
     "text": [
      "Child returned 0\n",
      "Load mask: 14.28\n",
      "regionprops: 2.78\n",
      "82798 blobs identified.\n",
      "Save blob coords: 4.73\n",
      "Save blob masks: 9.54\n",
      "Save blob contours, save: 13.73\n",
      "Compute blob properties, save: 17.94\n",
      "Processing section: 242\n"
     ]
    },
    {
     "name": "stdout",
     "output_type": "stream",
     "text": [
      "cp /oasis/projects/nsf/csd395/yuncong/CSHL_data_processed/MD602/MD602_lossless_alignedTo_MD602-N49-2015.12.01-18.41.46_MD602_2_0146_cropped_compressed/MD602-N50-2015.12.01-18.46.34_MD602_2_0149_lossless_alignedTo_MD602-N49-2015.12.01-18.41.46_MD602_2_0146_cropped_compressed.jpg /home/yuncong/csd395/CSHL_cells_v2/detected_cells/MD602/MD602-N50-2015.12.01-18.46.34_MD602_2_0149/MD602-N50-2015.12.01-18.46.34_MD602_2_0149_image.jpg\n"
     ]
    },
    {
     "name": "stderr",
     "output_type": "stream",
     "text": [
      "Child returned 0\n",
      "Load mask: 14.48\n",
      "regionprops: 3.18\n",
      "86148 blobs identified.\n",
      "Save blob coords: 4.72\n",
      "Save blob masks: 9.35\n",
      "Save blob contours, save: 14.43\n",
      "Compute blob properties, save: 18.66\n",
      "Processing section: 243\n"
     ]
    },
    {
     "name": "stdout",
     "output_type": "stream",
     "text": [
      "cp /oasis/projects/nsf/csd395/yuncong/CSHL_data_processed/MD602/MD602_lossless_alignedTo_MD602-N49-2015.12.01-18.41.46_MD602_2_0146_cropped_compressed/MD602-IHC50-2015.12.02-01.10.03_MD602_2_0149_lossless_alignedTo_MD602-N49-2015.12.01-18.41.46_MD602_2_0146_cropped_compressed.jpg /home/yuncong/csd395/CSHL_cells_v2/detected_cells/MD602/MD602-IHC50-2015.12.02-01.10.03_MD602_2_0149/MD602-IHC50-2015.12.02-01.10.03_MD602_2_0149_image.jpg\n"
     ]
    },
    {
     "name": "stderr",
     "output_type": "stream",
     "text": [
      "Child returned 0\n",
      "Load mask: 14.37\n",
      "regionprops: 3.37\n",
      "85203 blobs identified.\n",
      "Save blob coords: 4.79\n",
      "Save blob masks: 9.37\n",
      "Save blob contours, save: 13.85\n",
      "Compute blob properties, save: 18.47\n",
      "Processing section: 244\n"
     ]
    },
    {
     "name": "stdout",
     "output_type": "stream",
     "text": [
      "cp /oasis/projects/nsf/csd395/yuncong/CSHL_data_processed/MD602/MD602_lossless_alignedTo_MD602-N49-2015.12.01-18.41.46_MD602_2_0146_cropped_compressed/MD602-N51-2015.12.01-18.51.10_MD602_1_0151_lossless_alignedTo_MD602-N49-2015.12.01-18.41.46_MD602_2_0146_cropped_compressed.jpg /home/yuncong/csd395/CSHL_cells_v2/detected_cells/MD602/MD602-N51-2015.12.01-18.51.10_MD602_1_0151/MD602-N51-2015.12.01-18.51.10_MD602_1_0151_image.jpg\n"
     ]
    },
    {
     "name": "stderr",
     "output_type": "stream",
     "text": [
      "Child returned 0\n",
      "Load mask: 14.28\n",
      "regionprops: 3.26\n",
      "83209 blobs identified.\n",
      "Save blob coords: 4.69\n",
      "Save blob masks: 9.41\n",
      "Save blob contours, save: 13.59\n",
      "Compute blob properties, save: 18.33\n",
      "Processing section: 245\n"
     ]
    },
    {
     "name": "stdout",
     "output_type": "stream",
     "text": [
      "cp /oasis/projects/nsf/csd395/yuncong/CSHL_data_processed/MD602/MD602_lossless_alignedTo_MD602-N49-2015.12.01-18.41.46_MD602_2_0146_cropped_compressed/MD602-IHC51-2015.12.02-01.14.44_MD602_1_0151_lossless_alignedTo_MD602-N49-2015.12.01-18.41.46_MD602_2_0146_cropped_compressed.jpg /home/yuncong/csd395/CSHL_cells_v2/detected_cells/MD602/MD602-IHC51-2015.12.02-01.14.44_MD602_1_0151/MD602-IHC51-2015.12.02-01.14.44_MD602_1_0151_image.jpg\n"
     ]
    },
    {
     "name": "stderr",
     "output_type": "stream",
     "text": [
      "Child returned 0\n",
      "Load mask: 14.43\n",
      "regionprops: 3.32\n",
      "86731 blobs identified.\n",
      "Save blob coords: 4.96\n",
      "Save blob masks: 9.67\n",
      "Save blob contours, save: 14.24\n",
      "Compute blob properties, save: 18.78\n",
      "Processing section: 246\n"
     ]
    },
    {
     "name": "stdout",
     "output_type": "stream",
     "text": [
      "cp /oasis/projects/nsf/csd395/yuncong/CSHL_data_processed/MD602/MD602_lossless_alignedTo_MD602-N49-2015.12.01-18.41.46_MD602_2_0146_cropped_compressed/MD602-N51-2015.12.01-18.51.10_MD602_2_0152_lossless_alignedTo_MD602-N49-2015.12.01-18.41.46_MD602_2_0146_cropped_compressed.jpg /home/yuncong/csd395/CSHL_cells_v2/detected_cells/MD602/MD602-N51-2015.12.01-18.51.10_MD602_2_0152/MD602-N51-2015.12.01-18.51.10_MD602_2_0152_image.jpg\n"
     ]
    },
    {
     "name": "stderr",
     "output_type": "stream",
     "text": [
      "Child returned 0\n",
      "Load mask: 14.37\n",
      "regionprops: 3.32\n",
      "88048 blobs identified.\n",
      "Save blob coords: 5.02\n",
      "Save blob masks: 9.77\n",
      "Save blob contours, save: 14.70\n",
      "Compute blob properties, save: 19.68\n",
      "Processing section: 247\n"
     ]
    },
    {
     "name": "stdout",
     "output_type": "stream",
     "text": [
      "cp /oasis/projects/nsf/csd395/yuncong/CSHL_data_processed/MD602/MD602_lossless_alignedTo_MD602-N49-2015.12.01-18.41.46_MD602_2_0146_cropped_compressed/MD602-IHC51-2015.12.02-01.14.44_MD602_2_0152_lossless_alignedTo_MD602-N49-2015.12.01-18.41.46_MD602_2_0146_cropped_compressed.jpg /home/yuncong/csd395/CSHL_cells_v2/detected_cells/MD602/MD602-IHC51-2015.12.02-01.14.44_MD602_2_0152/MD602-IHC51-2015.12.02-01.14.44_MD602_2_0152_image.jpg\n"
     ]
    },
    {
     "name": "stderr",
     "output_type": "stream",
     "text": [
      "Child returned 0\n",
      "Load mask: 14.35\n",
      "regionprops: 3.34\n",
      "84881 blobs identified.\n",
      "Save blob coords: 4.65\n",
      "Save blob masks: 9.27\n",
      "Save blob contours, save: 13.54\n",
      "Compute blob properties, save: 18.11\n",
      "Processing section: 248\n"
     ]
    },
    {
     "name": "stdout",
     "output_type": "stream",
     "text": [
      "cp /oasis/projects/nsf/csd395/yuncong/CSHL_data_processed/MD602/MD602_lossless_alignedTo_MD602-N49-2015.12.01-18.41.46_MD602_2_0146_cropped_compressed/MD602-N52-2015.12.01-18.55.49_MD602_1_0154_lossless_alignedTo_MD602-N49-2015.12.01-18.41.46_MD602_2_0146_cropped_compressed.jpg /home/yuncong/csd395/CSHL_cells_v2/detected_cells/MD602/MD602-N52-2015.12.01-18.55.49_MD602_1_0154/MD602-N52-2015.12.01-18.55.49_MD602_1_0154_image.jpg\n"
     ]
    },
    {
     "name": "stderr",
     "output_type": "stream",
     "text": [
      "Child returned 0\n",
      "Load mask: 14.37\n",
      "regionprops: 3.28\n",
      "84445 blobs identified.\n",
      "Save blob coords: 4.58\n",
      "Save blob masks: 9.23\n",
      "Save blob contours, save: 13.47\n",
      "Compute blob properties, save: 18.45\n",
      "Processing section: 249\n"
     ]
    },
    {
     "name": "stdout",
     "output_type": "stream",
     "text": [
      "cp /oasis/projects/nsf/csd395/yuncong/CSHL_data_processed/MD602/MD602_lossless_alignedTo_MD602-N49-2015.12.01-18.41.46_MD602_2_0146_cropped_compressed/MD602-IHC52-2015.12.02-01.19.27_MD602_1_0154_lossless_alignedTo_MD602-N49-2015.12.01-18.41.46_MD602_2_0146_cropped_compressed.jpg /home/yuncong/csd395/CSHL_cells_v2/detected_cells/MD602/MD602-IHC52-2015.12.02-01.19.27_MD602_1_0154/MD602-IHC52-2015.12.02-01.19.27_MD602_1_0154_image.jpg\n"
     ]
    },
    {
     "name": "stderr",
     "output_type": "stream",
     "text": [
      "Child returned 0\n",
      "Load mask: 14.37\n",
      "regionprops: 2.75\n",
      "78714 blobs identified.\n",
      "Save blob coords: 4.22\n",
      "Save blob masks: 8.74\n",
      "Save blob contours, save: 13.15\n",
      "Compute blob properties, save: 16.90\n",
      "Processing section: 250\n"
     ]
    },
    {
     "name": "stdout",
     "output_type": "stream",
     "text": [
      "cp /oasis/projects/nsf/csd395/yuncong/CSHL_data_processed/MD602/MD602_lossless_alignedTo_MD602-N49-2015.12.01-18.41.46_MD602_2_0146_cropped_compressed/MD602-N52-2015.12.01-18.55.49_MD602_2_0155_lossless_alignedTo_MD602-N49-2015.12.01-18.41.46_MD602_2_0146_cropped_compressed.jpg /home/yuncong/csd395/CSHL_cells_v2/detected_cells/MD602/MD602-N52-2015.12.01-18.55.49_MD602_2_0155/MD602-N52-2015.12.01-18.55.49_MD602_2_0155_image.jpg\n"
     ]
    },
    {
     "name": "stderr",
     "output_type": "stream",
     "text": [
      "Child returned 0\n",
      "Load mask: 14.43\n",
      "regionprops: 3.15\n",
      "82856 blobs identified.\n",
      "Save blob coords: 4.30\n",
      "Save blob masks: 8.87\n",
      "Save blob contours, save: 13.48\n",
      "Compute blob properties, save: 17.40\n",
      "Processing section: 251\n"
     ]
    },
    {
     "name": "stdout",
     "output_type": "stream",
     "text": [
      "cp /oasis/projects/nsf/csd395/yuncong/CSHL_data_processed/MD602/MD602_lossless_alignedTo_MD602-N49-2015.12.01-18.41.46_MD602_2_0146_cropped_compressed/MD602-IHC52-2015.12.02-01.19.27_MD602_2_0155_lossless_alignedTo_MD602-N49-2015.12.01-18.41.46_MD602_2_0146_cropped_compressed.jpg /home/yuncong/csd395/CSHL_cells_v2/detected_cells/MD602/MD602-IHC52-2015.12.02-01.19.27_MD602_2_0155/MD602-IHC52-2015.12.02-01.19.27_MD602_2_0155_image.jpg\n"
     ]
    },
    {
     "name": "stderr",
     "output_type": "stream",
     "text": [
      "Child returned 0\n",
      "Load mask: 14.44\n",
      "regionprops: 3.15\n",
      "82935 blobs identified.\n",
      "Save blob coords: 4.36\n",
      "Save blob masks: 8.89\n",
      "Save blob contours, save: 13.58\n",
      "Compute blob properties, save: 17.43\n",
      "Processing section: 252\n"
     ]
    },
    {
     "name": "stdout",
     "output_type": "stream",
     "text": [
      "cp /oasis/projects/nsf/csd395/yuncong/CSHL_data_processed/MD602/MD602_lossless_alignedTo_MD602-N49-2015.12.01-18.41.46_MD602_2_0146_cropped_compressed/MD602-N53-2015.12.01-19.00.23_MD602_1_0157_lossless_alignedTo_MD602-N49-2015.12.01-18.41.46_MD602_2_0146_cropped_compressed.jpg /home/yuncong/csd395/CSHL_cells_v2/detected_cells/MD602/MD602-N53-2015.12.01-19.00.23_MD602_1_0157/MD602-N53-2015.12.01-19.00.23_MD602_1_0157_image.jpg\n"
     ]
    },
    {
     "name": "stderr",
     "output_type": "stream",
     "text": [
      "Child returned 0\n",
      "Load mask: 14.31\n",
      "regionprops: 3.21\n",
      "84111 blobs identified.\n",
      "Save blob coords: 4.52\n",
      "Save blob masks: 9.10\n",
      "Save blob contours, save: 13.69\n",
      "Compute blob properties, save: 18.35\n",
      "Processing section: 253\n"
     ]
    },
    {
     "name": "stdout",
     "output_type": "stream",
     "text": [
      "cp /oasis/projects/nsf/csd395/yuncong/CSHL_data_processed/MD602/MD602_lossless_alignedTo_MD602-N49-2015.12.01-18.41.46_MD602_2_0146_cropped_compressed/MD602-IHC53-2015.12.02-01.24.02_MD602_1_0157_lossless_alignedTo_MD602-N49-2015.12.01-18.41.46_MD602_2_0146_cropped_compressed.jpg /home/yuncong/csd395/CSHL_cells_v2/detected_cells/MD602/MD602-IHC53-2015.12.02-01.24.02_MD602_1_0157/MD602-IHC53-2015.12.02-01.24.02_MD602_1_0157_image.jpg\n"
     ]
    },
    {
     "name": "stderr",
     "output_type": "stream",
     "text": [
      "Child returned 0\n",
      "Load mask: 14.31\n",
      "regionprops: 2.76\n",
      "83533 blobs identified.\n",
      "Save blob coords: 4.53\n",
      "Save blob masks: 9.31\n",
      "Save blob contours, save: 13.66\n",
      "Compute blob properties, save: 17.89\n",
      "Processing section: 254\n"
     ]
    },
    {
     "name": "stdout",
     "output_type": "stream",
     "text": [
      "cp /oasis/projects/nsf/csd395/yuncong/CSHL_data_processed/MD602/MD602_lossless_alignedTo_MD602-N49-2015.12.01-18.41.46_MD602_2_0146_cropped_compressed/MD602-N53-2015.12.01-19.00.23_MD602_2_0158_lossless_alignedTo_MD602-N49-2015.12.01-18.41.46_MD602_2_0146_cropped_compressed.jpg /home/yuncong/csd395/CSHL_cells_v2/detected_cells/MD602/MD602-N53-2015.12.01-19.00.23_MD602_2_0158/MD602-N53-2015.12.01-19.00.23_MD602_2_0158_image.jpg\n"
     ]
    },
    {
     "name": "stderr",
     "output_type": "stream",
     "text": [
      "Child returned 0\n",
      "Load mask: 14.28\n",
      "regionprops: 3.29\n",
      "86381 blobs identified.\n",
      "Save blob coords: 4.71\n",
      "Save blob masks: 9.34\n",
      "Save blob contours, save: 14.37\n",
      "Compute blob properties, save: 18.48\n",
      "Processing section: 255\n"
     ]
    },
    {
     "name": "stdout",
     "output_type": "stream",
     "text": [
      "cp /oasis/projects/nsf/csd395/yuncong/CSHL_data_processed/MD602/MD602_lossless_alignedTo_MD602-N49-2015.12.01-18.41.46_MD602_2_0146_cropped_compressed/MD602-IHC53-2015.12.02-01.24.02_MD602_2_0158_lossless_alignedTo_MD602-N49-2015.12.01-18.41.46_MD602_2_0146_cropped_compressed.jpg /home/yuncong/csd395/CSHL_cells_v2/detected_cells/MD602/MD602-IHC53-2015.12.02-01.24.02_MD602_2_0158/MD602-IHC53-2015.12.02-01.24.02_MD602_2_0158_image.jpg\n"
     ]
    },
    {
     "name": "stderr",
     "output_type": "stream",
     "text": [
      "Child returned 0\n",
      "Load mask: 14.47\n",
      "regionprops: 3.25\n",
      "84309 blobs identified.\n",
      "Save blob coords: 4.57\n",
      "Save blob masks: 9.18\n",
      "Save blob contours, save: 13.84\n",
      "Compute blob properties, save: 18.45\n",
      "Processing section: 256\n"
     ]
    },
    {
     "name": "stdout",
     "output_type": "stream",
     "text": [
      "cp /oasis/projects/nsf/csd395/yuncong/CSHL_data_processed/MD602/MD602_lossless_alignedTo_MD602-N49-2015.12.01-18.41.46_MD602_2_0146_cropped_compressed/MD602-N54-2015.12.01-19.05.04_MD602_1_0160_lossless_alignedTo_MD602-N49-2015.12.01-18.41.46_MD602_2_0146_cropped_compressed.jpg /home/yuncong/csd395/CSHL_cells_v2/detected_cells/MD602/MD602-N54-2015.12.01-19.05.04_MD602_1_0160/MD602-N54-2015.12.01-19.05.04_MD602_1_0160_image.jpg\n"
     ]
    },
    {
     "name": "stderr",
     "output_type": "stream",
     "text": [
      "Child returned 0\n",
      "Load mask: 14.44\n",
      "regionprops: 2.79\n",
      "83645 blobs identified.\n",
      "Save blob coords: 4.61\n",
      "Save blob masks: 9.31\n",
      "Save blob contours, save: 13.68\n",
      "Compute blob properties, save: 18.14\n",
      "Processing section: 257\n"
     ]
    },
    {
     "name": "stdout",
     "output_type": "stream",
     "text": [
      "cp /oasis/projects/nsf/csd395/yuncong/CSHL_data_processed/MD602/MD602_lossless_alignedTo_MD602-N49-2015.12.01-18.41.46_MD602_2_0146_cropped_compressed/MD602-IHC54-2015.12.02-01.28.38_MD602_1_0160_lossless_alignedTo_MD602-N49-2015.12.01-18.41.46_MD602_2_0146_cropped_compressed.jpg /home/yuncong/csd395/CSHL_cells_v2/detected_cells/MD602/MD602-IHC54-2015.12.02-01.28.38_MD602_1_0160/MD602-IHC54-2015.12.02-01.28.38_MD602_1_0160_image.jpg\n"
     ]
    },
    {
     "name": "stderr",
     "output_type": "stream",
     "text": [
      "Child returned 0\n",
      "Load mask: 14.30\n",
      "regionprops: 3.14\n",
      "86112 blobs identified.\n",
      "Save blob coords: 4.63\n",
      "Save blob masks: 9.27\n",
      "Save blob contours, save: 14.33\n",
      "Compute blob properties, save: 18.71\n",
      "Processing section: 258\n"
     ]
    },
    {
     "name": "stdout",
     "output_type": "stream",
     "text": [
      "cp /oasis/projects/nsf/csd395/yuncong/CSHL_data_processed/MD602/MD602_lossless_alignedTo_MD602-N49-2015.12.01-18.41.46_MD602_2_0146_cropped_compressed/MD602-N54-2015.12.01-19.05.04_MD602_2_0161_lossless_alignedTo_MD602-N49-2015.12.01-18.41.46_MD602_2_0146_cropped_compressed.jpg /home/yuncong/csd395/CSHL_cells_v2/detected_cells/MD602/MD602-N54-2015.12.01-19.05.04_MD602_2_0161/MD602-N54-2015.12.01-19.05.04_MD602_2_0161_image.jpg\n"
     ]
    },
    {
     "name": "stderr",
     "output_type": "stream",
     "text": [
      "Child returned 0\n",
      "Load mask: 14.46\n",
      "regionprops: 3.34\n",
      "85957 blobs identified.\n",
      "Save blob coords: 4.99\n",
      "Save blob masks: 9.27\n",
      "Save blob contours, save: 13.86\n",
      "Compute blob properties, save: 18.47\n",
      "Processing section: 259\n"
     ]
    },
    {
     "name": "stdout",
     "output_type": "stream",
     "text": [
      "cp /oasis/projects/nsf/csd395/yuncong/CSHL_data_processed/MD602/MD602_lossless_alignedTo_MD602-N49-2015.12.01-18.41.46_MD602_2_0146_cropped_compressed/MD602-IHC54-2015.12.02-01.28.38_MD602_2_0161_lossless_alignedTo_MD602-N49-2015.12.01-18.41.46_MD602_2_0146_cropped_compressed.jpg /home/yuncong/csd395/CSHL_cells_v2/detected_cells/MD602/MD602-IHC54-2015.12.02-01.28.38_MD602_2_0161/MD602-IHC54-2015.12.02-01.28.38_MD602_2_0161_image.jpg\n"
     ]
    },
    {
     "name": "stderr",
     "output_type": "stream",
     "text": [
      "Child returned 0\n",
      "Load mask: 14.44\n",
      "regionprops: 2.84\n",
      "87302 blobs identified.\n",
      "Save blob coords: 4.71\n",
      "Save blob masks: 9.75\n",
      "Save blob contours, save: 14.13\n",
      "Compute blob properties, save: 18.86\n",
      "Processing section: 260\n"
     ]
    },
    {
     "name": "stdout",
     "output_type": "stream",
     "text": [
      "cp /oasis/projects/nsf/csd395/yuncong/CSHL_data_processed/MD602/MD602_lossless_alignedTo_MD602-N49-2015.12.01-18.41.46_MD602_2_0146_cropped_compressed/MD602-N55-2015.12.01-19.09.28_MD602_1_0163_lossless_alignedTo_MD602-N49-2015.12.01-18.41.46_MD602_2_0146_cropped_compressed.jpg /home/yuncong/csd395/CSHL_cells_v2/detected_cells/MD602/MD602-N55-2015.12.01-19.09.28_MD602_1_0163/MD602-N55-2015.12.01-19.09.28_MD602_1_0163_image.jpg\n"
     ]
    },
    {
     "name": "stderr",
     "output_type": "stream",
     "text": [
      "Child returned 0\n",
      "Load mask: 14.31\n",
      "regionprops: 3.27\n",
      "86571 blobs identified.\n",
      "Save blob coords: 4.58\n",
      "Save blob masks: 9.16\n",
      "Save blob contours, save: 13.94\n",
      "Compute blob properties, save: 18.54\n",
      "Processing section: 261\n"
     ]
    },
    {
     "name": "stdout",
     "output_type": "stream",
     "text": [
      "cp /oasis/projects/nsf/csd395/yuncong/CSHL_data_processed/MD602/MD602_lossless_alignedTo_MD602-N49-2015.12.01-18.41.46_MD602_2_0146_cropped_compressed/MD602-IHC55-2015.12.02-01.33.05_MD602_1_0163_lossless_alignedTo_MD602-N49-2015.12.01-18.41.46_MD602_2_0146_cropped_compressed.jpg /home/yuncong/csd395/CSHL_cells_v2/detected_cells/MD602/MD602-IHC55-2015.12.02-01.33.05_MD602_1_0163/MD602-IHC55-2015.12.02-01.33.05_MD602_1_0163_image.jpg\n"
     ]
    },
    {
     "name": "stderr",
     "output_type": "stream",
     "text": [
      "Child returned 0\n",
      "Load mask: 14.51\n",
      "regionprops: 2.79\n",
      "87453 blobs identified.\n",
      "Save blob coords: 4.80\n",
      "Save blob masks: 9.81\n",
      "Save blob contours, save: 14.19\n",
      "Compute blob properties, save: 19.26\n",
      "Processing section: 262\n"
     ]
    },
    {
     "name": "stdout",
     "output_type": "stream",
     "text": [
      "cp /oasis/projects/nsf/csd395/yuncong/CSHL_data_processed/MD602/MD602_lossless_alignedTo_MD602-N49-2015.12.01-18.41.46_MD602_2_0146_cropped_compressed/MD602-N55-2015.12.01-19.09.28_MD602_2_0164_lossless_alignedTo_MD602-N49-2015.12.01-18.41.46_MD602_2_0146_cropped_compressed.jpg /home/yuncong/csd395/CSHL_cells_v2/detected_cells/MD602/MD602-N55-2015.12.01-19.09.28_MD602_2_0164/MD602-N55-2015.12.01-19.09.28_MD602_2_0164_image.jpg\n"
     ]
    },
    {
     "name": "stderr",
     "output_type": "stream",
     "text": [
      "Child returned 0\n",
      "Load mask: 14.44\n",
      "regionprops: 2.83\n",
      "85587 blobs identified.\n",
      "Save blob coords: 4.55\n",
      "Save blob masks: 9.29\n",
      "Save blob contours, save: 13.68\n",
      "Compute blob properties, save: 18.36\n",
      "Processing section: 263\n"
     ]
    },
    {
     "name": "stdout",
     "output_type": "stream",
     "text": [
      "cp /oasis/projects/nsf/csd395/yuncong/CSHL_data_processed/MD602/MD602_lossless_alignedTo_MD602-N49-2015.12.01-18.41.46_MD602_2_0146_cropped_compressed/MD602-IHC55-2015.12.02-01.33.05_MD602_2_0164_lossless_alignedTo_MD602-N49-2015.12.01-18.41.46_MD602_2_0146_cropped_compressed.jpg /home/yuncong/csd395/CSHL_cells_v2/detected_cells/MD602/MD602-IHC55-2015.12.02-01.33.05_MD602_2_0164/MD602-IHC55-2015.12.02-01.33.05_MD602_2_0164_image.jpg\n"
     ]
    },
    {
     "name": "stderr",
     "output_type": "stream",
     "text": [
      "Child returned 0\n",
      "Load mask: 14.37\n",
      "regionprops: 3.17\n",
      "86350 blobs identified.\n",
      "Save blob coords: 4.63\n",
      "Save blob masks: 9.28\n",
      "Save blob contours, save: 13.61\n",
      "Compute blob properties, save: 18.47\n",
      "Processing section: 264\n"
     ]
    },
    {
     "name": "stdout",
     "output_type": "stream",
     "text": [
      "cp /oasis/projects/nsf/csd395/yuncong/CSHL_data_processed/MD602/MD602_lossless_alignedTo_MD602-N49-2015.12.01-18.41.46_MD602_2_0146_cropped_compressed/MD602-N56-2015.12.01-19.13.50_MD602_1_0166_lossless_alignedTo_MD602-N49-2015.12.01-18.41.46_MD602_2_0146_cropped_compressed.jpg /home/yuncong/csd395/CSHL_cells_v2/detected_cells/MD602/MD602-N56-2015.12.01-19.13.50_MD602_1_0166/MD602-N56-2015.12.01-19.13.50_MD602_1_0166_image.jpg\n"
     ]
    },
    {
     "name": "stderr",
     "output_type": "stream",
     "text": [
      "Child returned 0\n",
      "Load mask: 14.48\n",
      "regionprops: 3.28\n",
      "86660 blobs identified.\n",
      "Save blob coords: 4.56\n",
      "Save blob masks: 9.31\n",
      "Save blob contours, save: 13.88\n",
      "Compute blob properties, save: 18.38\n",
      "Processing section: 265\n"
     ]
    },
    {
     "name": "stdout",
     "output_type": "stream",
     "text": [
      "cp /oasis/projects/nsf/csd395/yuncong/CSHL_data_processed/MD602/MD602_lossless_alignedTo_MD602-N49-2015.12.01-18.41.46_MD602_2_0146_cropped_compressed/MD602-IHC56-2015.12.02-01.37.40_MD602_1_0166_lossless_alignedTo_MD602-N49-2015.12.01-18.41.46_MD602_2_0146_cropped_compressed.jpg /home/yuncong/csd395/CSHL_cells_v2/detected_cells/MD602/MD602-IHC56-2015.12.02-01.37.40_MD602_1_0166/MD602-IHC56-2015.12.02-01.37.40_MD602_1_0166_image.jpg\n"
     ]
    },
    {
     "name": "stderr",
     "output_type": "stream",
     "text": [
      "Child returned 0\n",
      "Load mask: 14.47\n",
      "regionprops: 3.29\n",
      "86381 blobs identified.\n",
      "Save blob coords: 4.65\n",
      "Save blob masks: 9.39\n",
      "Save blob contours, save: 13.95\n",
      "Compute blob properties, save: 18.79\n",
      "Processing section: 266\n"
     ]
    },
    {
     "name": "stdout",
     "output_type": "stream",
     "text": [
      "cp /oasis/projects/nsf/csd395/yuncong/CSHL_data_processed/MD602/MD602_lossless_alignedTo_MD602-N49-2015.12.01-18.41.46_MD602_2_0146_cropped_compressed/MD602-N56-2015.12.01-19.13.50_MD602_2_0167_lossless_alignedTo_MD602-N49-2015.12.01-18.41.46_MD602_2_0146_cropped_compressed.jpg /home/yuncong/csd395/CSHL_cells_v2/detected_cells/MD602/MD602-N56-2015.12.01-19.13.50_MD602_2_0167/MD602-N56-2015.12.01-19.13.50_MD602_2_0167_image.jpg\n"
     ]
    },
    {
     "name": "stderr",
     "output_type": "stream",
     "text": [
      "Child returned 0\n",
      "Load mask: 14.31\n",
      "regionprops: 3.27\n",
      "85213 blobs identified.\n",
      "Save blob coords: 4.55\n",
      "Save blob masks: 9.14\n",
      "Save blob contours, save: 13.86\n",
      "Compute blob properties, save: 17.78\n",
      "Processing section: 267\n"
     ]
    },
    {
     "name": "stdout",
     "output_type": "stream",
     "text": [
      "cp /oasis/projects/nsf/csd395/yuncong/CSHL_data_processed/MD602/MD602_lossless_alignedTo_MD602-N49-2015.12.01-18.41.46_MD602_2_0146_cropped_compressed/MD602-IHC56-2015.12.02-01.37.40_MD602_2_0167_lossless_alignedTo_MD602-N49-2015.12.01-18.41.46_MD602_2_0146_cropped_compressed.jpg /home/yuncong/csd395/CSHL_cells_v2/detected_cells/MD602/MD602-IHC56-2015.12.02-01.37.40_MD602_2_0167/MD602-IHC56-2015.12.02-01.37.40_MD602_2_0167_image.jpg\n"
     ]
    },
    {
     "name": "stderr",
     "output_type": "stream",
     "text": [
      "Child returned 0\n",
      "Load mask: 14.52\n",
      "regionprops: 3.19\n",
      "86491 blobs identified.\n",
      "Save blob coords: 4.61\n",
      "Save blob masks: 9.41\n",
      "Save blob contours, save: 14.21\n",
      "Compute blob properties, save: 18.67\n",
      "Processing section: 268\n"
     ]
    },
    {
     "name": "stdout",
     "output_type": "stream",
     "text": [
      "cp /oasis/projects/nsf/csd395/yuncong/CSHL_data_processed/MD602/MD602_lossless_alignedTo_MD602-N49-2015.12.01-18.41.46_MD602_2_0146_cropped_compressed/MD602-N57-2015.12.01-19.18.17_MD602_1_0169_lossless_alignedTo_MD602-N49-2015.12.01-18.41.46_MD602_2_0146_cropped_compressed.jpg /home/yuncong/csd395/CSHL_cells_v2/detected_cells/MD602/MD602-N57-2015.12.01-19.18.17_MD602_1_0169/MD602-N57-2015.12.01-19.18.17_MD602_1_0169_image.jpg\n"
     ]
    },
    {
     "name": "stderr",
     "output_type": "stream",
     "text": [
      "Child returned 0\n",
      "Load mask: 14.47\n",
      "regionprops: 2.76\n",
      "84657 blobs identified.\n",
      "Save blob coords: 4.57\n",
      "Save blob masks: 9.37\n",
      "Save blob contours, save: 13.63\n",
      "Compute blob properties, save: 18.28\n",
      "Processing section: 269\n"
     ]
    },
    {
     "name": "stdout",
     "output_type": "stream",
     "text": [
      "cp /oasis/projects/nsf/csd395/yuncong/CSHL_data_processed/MD602/MD602_lossless_alignedTo_MD602-N49-2015.12.01-18.41.46_MD602_2_0146_cropped_compressed/MD602-IHC57-2015.12.02-01.42.03_MD602_1_0169_lossless_alignedTo_MD602-N49-2015.12.01-18.41.46_MD602_2_0146_cropped_compressed.jpg /home/yuncong/csd395/CSHL_cells_v2/detected_cells/MD602/MD602-IHC57-2015.12.02-01.42.03_MD602_1_0169/MD602-IHC57-2015.12.02-01.42.03_MD602_1_0169_image.jpg\n"
     ]
    },
    {
     "name": "stderr",
     "output_type": "stream",
     "text": [
      "Child returned 0\n",
      "Load mask: 14.52\n",
      "regionprops: 2.75\n",
      "85659 blobs identified.\n",
      "Save blob coords: 4.94\n",
      "Save blob masks: 9.24\n",
      "Save blob contours, save: 14.27\n",
      "Compute blob properties, save: 18.15\n",
      "Processing section: 270\n"
     ]
    },
    {
     "name": "stdout",
     "output_type": "stream",
     "text": [
      "cp /oasis/projects/nsf/csd395/yuncong/CSHL_data_processed/MD602/MD602_lossless_alignedTo_MD602-N49-2015.12.01-18.41.46_MD602_2_0146_cropped_compressed/MD602-N57-2015.12.01-19.18.17_MD602_2_0170_lossless_alignedTo_MD602-N49-2015.12.01-18.41.46_MD602_2_0146_cropped_compressed.jpg /home/yuncong/csd395/CSHL_cells_v2/detected_cells/MD602/MD602-N57-2015.12.01-19.18.17_MD602_2_0170/MD602-N57-2015.12.01-19.18.17_MD602_2_0170_image.jpg\n"
     ]
    },
    {
     "name": "stderr",
     "output_type": "stream",
     "text": [
      "Child returned 0\n",
      "Load mask: 14.49\n",
      "regionprops: 3.43\n",
      "87586 blobs identified.\n",
      "Save blob coords: 4.88\n",
      "Save blob masks: 9.45\n",
      "Save blob contours, save: 14.15\n",
      "Compute blob properties, save: 19.20\n",
      "Processing section: 271\n"
     ]
    },
    {
     "name": "stdout",
     "output_type": "stream",
     "text": [
      "cp /oasis/projects/nsf/csd395/yuncong/CSHL_data_processed/MD602/MD602_lossless_alignedTo_MD602-N49-2015.12.01-18.41.46_MD602_2_0146_cropped_compressed/MD602-IHC57-2015.12.02-01.42.03_MD602_2_0170_lossless_alignedTo_MD602-N49-2015.12.01-18.41.46_MD602_2_0146_cropped_compressed.jpg /home/yuncong/csd395/CSHL_cells_v2/detected_cells/MD602/MD602-IHC57-2015.12.02-01.42.03_MD602_2_0170/MD602-IHC57-2015.12.02-01.42.03_MD602_2_0170_image.jpg\n"
     ]
    },
    {
     "name": "stderr",
     "output_type": "stream",
     "text": [
      "Child returned 0\n",
      "Load mask: 14.50\n",
      "regionprops: 2.76\n",
      "87806 blobs identified.\n",
      "Save blob coords: 5.05\n",
      "Save blob masks: 9.98\n",
      "Save blob contours, save: 14.22\n",
      "Compute blob properties, save: 19.33\n",
      "Processing section: 272\n"
     ]
    },
    {
     "name": "stdout",
     "output_type": "stream",
     "text": [
      "cp /oasis/projects/nsf/csd395/yuncong/CSHL_data_processed/MD602/MD602_lossless_alignedTo_MD602-N49-2015.12.01-18.41.46_MD602_2_0146_cropped_compressed/MD602-N58-2015.12.01-19.22.46_MD602_1_0172_lossless_alignedTo_MD602-N49-2015.12.01-18.41.46_MD602_2_0146_cropped_compressed.jpg /home/yuncong/csd395/CSHL_cells_v2/detected_cells/MD602/MD602-N58-2015.12.01-19.22.46_MD602_1_0172/MD602-N58-2015.12.01-19.22.46_MD602_1_0172_image.jpg\n"
     ]
    },
    {
     "name": "stderr",
     "output_type": "stream",
     "text": [
      "Child returned 0\n",
      "Load mask: 14.32\n",
      "regionprops: 3.28\n",
      "88034 blobs identified.\n",
      "Save blob coords: 5.45\n",
      "Save blob masks: 9.57\n",
      "Save blob contours, save: 14.65\n",
      "Compute blob properties, save: 19.41\n",
      "Processing section: 273\n"
     ]
    },
    {
     "name": "stdout",
     "output_type": "stream",
     "text": [
      "cp /oasis/projects/nsf/csd395/yuncong/CSHL_data_processed/MD602/MD602_lossless_alignedTo_MD602-N49-2015.12.01-18.41.46_MD602_2_0146_cropped_compressed/MD602-IHC58-2015.12.02-01.46.31_MD602_1_0172_lossless_alignedTo_MD602-N49-2015.12.01-18.41.46_MD602_2_0146_cropped_compressed.jpg /home/yuncong/csd395/CSHL_cells_v2/detected_cells/MD602/MD602-IHC58-2015.12.02-01.46.31_MD602_1_0172/MD602-IHC58-2015.12.02-01.46.31_MD602_1_0172_image.jpg\n"
     ]
    },
    {
     "name": "stderr",
     "output_type": "stream",
     "text": [
      "Child returned 0\n",
      "Load mask: 14.66\n",
      "regionprops: 2.81\n",
      "80144 blobs identified.\n",
      "Save blob coords: 4.21\n",
      "Save blob masks: 8.80\n",
      "Save blob contours, save: 12.70\n",
      "Compute blob properties, save: 17.14\n",
      "Processing section: 275\n"
     ]
    },
    {
     "name": "stdout",
     "output_type": "stream",
     "text": [
      "cp /oasis/projects/nsf/csd395/yuncong/CSHL_data_processed/MD602/MD602_lossless_alignedTo_MD602-N49-2015.12.01-18.41.46_MD602_2_0146_cropped_compressed/MD602-IHC58-2015.12.02-01.46.31_MD602_2_0173_lossless_alignedTo_MD602-N49-2015.12.01-18.41.46_MD602_2_0146_cropped_compressed.jpg /home/yuncong/csd395/CSHL_cells_v2/detected_cells/MD602/MD602-IHC58-2015.12.02-01.46.31_MD602_2_0173/MD602-IHC58-2015.12.02-01.46.31_MD602_2_0173_image.jpg\n"
     ]
    },
    {
     "name": "stderr",
     "output_type": "stream",
     "text": [
      "Child returned 0\n",
      "Load mask: 14.33\n",
      "regionprops: 2.80\n",
      "86808 blobs identified.\n",
      "Save blob coords: 4.79\n",
      "Save blob masks: 9.61\n",
      "Save blob contours, save: 14.49\n",
      "Compute blob properties, save: 18.83\n",
      "Processing section: 276\n"
     ]
    },
    {
     "name": "stdout",
     "output_type": "stream",
     "text": [
      "cp /oasis/projects/nsf/csd395/yuncong/CSHL_data_processed/MD602/MD602_lossless_alignedTo_MD602-N49-2015.12.01-18.41.46_MD602_2_0146_cropped_compressed/MD602-N59-2015.12.01-19.26.58_MD602_1_0175_lossless_alignedTo_MD602-N49-2015.12.01-18.41.46_MD602_2_0146_cropped_compressed.jpg /home/yuncong/csd395/CSHL_cells_v2/detected_cells/MD602/MD602-N59-2015.12.01-19.26.58_MD602_1_0175/MD602-N59-2015.12.01-19.26.58_MD602_1_0175_image.jpg\n"
     ]
    },
    {
     "name": "stderr",
     "output_type": "stream",
     "text": [
      "Child returned 0\n",
      "Load mask: 14.59\n",
      "regionprops: 3.28\n",
      "85789 blobs identified.\n",
      "Save blob coords: 4.58\n",
      "Save blob masks: 9.21\n",
      "Save blob contours, save: 14.14\n",
      "Compute blob properties, save: 18.53\n",
      "Processing section: 277\n"
     ]
    },
    {
     "name": "stdout",
     "output_type": "stream",
     "text": [
      "cp /oasis/projects/nsf/csd395/yuncong/CSHL_data_processed/MD602/MD602_lossless_alignedTo_MD602-N49-2015.12.01-18.41.46_MD602_2_0146_cropped_compressed/MD602-IHC59-2015.12.02-01.50.49_MD602_1_0175_lossless_alignedTo_MD602-N49-2015.12.01-18.41.46_MD602_2_0146_cropped_compressed.jpg /home/yuncong/csd395/CSHL_cells_v2/detected_cells/MD602/MD602-IHC59-2015.12.02-01.50.49_MD602_1_0175/MD602-IHC59-2015.12.02-01.50.49_MD602_1_0175_image.jpg\n"
     ]
    },
    {
     "name": "stderr",
     "output_type": "stream",
     "text": [
      "Child returned 0\n",
      "Load mask: 14.36\n",
      "regionprops: 3.25\n",
      "81805 blobs identified.\n",
      "Save blob coords: 4.76\n",
      "Save blob masks: 9.08\n",
      "Save blob contours, save: 13.55\n",
      "Compute blob properties, save: 17.55\n",
      "Processing section: 278\n"
     ]
    },
    {
     "name": "stdout",
     "output_type": "stream",
     "text": [
      "cp /oasis/projects/nsf/csd395/yuncong/CSHL_data_processed/MD602/MD602_lossless_alignedTo_MD602-N49-2015.12.01-18.41.46_MD602_2_0146_cropped_compressed/MD602-N59-2015.12.01-19.26.58_MD602_2_0176_lossless_alignedTo_MD602-N49-2015.12.01-18.41.46_MD602_2_0146_cropped_compressed.jpg /home/yuncong/csd395/CSHL_cells_v2/detected_cells/MD602/MD602-N59-2015.12.01-19.26.58_MD602_2_0176/MD602-N59-2015.12.01-19.26.58_MD602_2_0176_image.jpg\n"
     ]
    },
    {
     "name": "stderr",
     "output_type": "stream",
     "text": [
      "Child returned 0\n",
      "Load mask: 14.59\n",
      "regionprops: 3.24\n",
      "83447 blobs identified.\n",
      "Save blob coords: 4.43\n",
      "Save blob masks: 8.96\n",
      "Save blob contours, save: 13.53\n",
      "Compute blob properties, save: 17.85\n",
      "Processing section: 279\n"
     ]
    },
    {
     "name": "stdout",
     "output_type": "stream",
     "text": [
      "cp /oasis/projects/nsf/csd395/yuncong/CSHL_data_processed/MD602/MD602_lossless_alignedTo_MD602-N49-2015.12.01-18.41.46_MD602_2_0146_cropped_compressed/MD602-IHC59-2015.12.02-01.50.49_MD602_2_0176_lossless_alignedTo_MD602-N49-2015.12.01-18.41.46_MD602_2_0146_cropped_compressed.jpg /home/yuncong/csd395/CSHL_cells_v2/detected_cells/MD602/MD602-IHC59-2015.12.02-01.50.49_MD602_2_0176/MD602-IHC59-2015.12.02-01.50.49_MD602_2_0176_image.jpg\n"
     ]
    },
    {
     "name": "stderr",
     "output_type": "stream",
     "text": [
      "Child returned 0\n",
      "Load mask: 14.38\n",
      "regionprops: 3.15\n",
      "85997 blobs identified.\n",
      "Save blob coords: 4.70\n",
      "Save blob masks: 9.50\n",
      "Save blob contours, save: 14.17\n",
      "Compute blob properties, save: 18.74\n",
      "Processing section: 280\n"
     ]
    },
    {
     "name": "stdout",
     "output_type": "stream",
     "text": [
      "cp /oasis/projects/nsf/csd395/yuncong/CSHL_data_processed/MD602/MD602_lossless_alignedTo_MD602-N49-2015.12.01-18.41.46_MD602_2_0146_cropped_compressed/MD602-N60-2015.12.01-19.31.23_MD602_1_0178_lossless_alignedTo_MD602-N49-2015.12.01-18.41.46_MD602_2_0146_cropped_compressed.jpg /home/yuncong/csd395/CSHL_cells_v2/detected_cells/MD602/MD602-N60-2015.12.01-19.31.23_MD602_1_0178/MD602-N60-2015.12.01-19.31.23_MD602_1_0178_image.jpg\n"
     ]
    },
    {
     "name": "stderr",
     "output_type": "stream",
     "text": [
      "Child returned 0\n",
      "Load mask: 14.56\n",
      "regionprops: 3.31\n",
      "84899 blobs identified.\n",
      "Save blob coords: 4.57\n",
      "Save blob masks: 9.21\n",
      "Save blob contours, save: 13.93\n",
      "Compute blob properties, save: 18.40\n",
      "Processing section: 282\n"
     ]
    },
    {
     "name": "stdout",
     "output_type": "stream",
     "text": [
      "cp /oasis/projects/nsf/csd395/yuncong/CSHL_data_processed/MD602/MD602_lossless_alignedTo_MD602-N49-2015.12.01-18.41.46_MD602_2_0146_cropped_compressed/MD602-N60-2015.12.01-19.31.23_MD602_2_0179_lossless_alignedTo_MD602-N49-2015.12.01-18.41.46_MD602_2_0146_cropped_compressed.jpg /home/yuncong/csd395/CSHL_cells_v2/detected_cells/MD602/MD602-N60-2015.12.01-19.31.23_MD602_2_0179/MD602-N60-2015.12.01-19.31.23_MD602_2_0179_image.jpg\n"
     ]
    },
    {
     "name": "stderr",
     "output_type": "stream",
     "text": [
      "Child returned 0\n",
      "Load mask: 14.45\n",
      "regionprops: 2.76\n",
      "84268 blobs identified.\n",
      "Save blob coords: 4.46\n",
      "Save blob masks: 9.28\n",
      "Save blob contours, save: 14.03\n",
      "Compute blob properties, save: 18.09\n",
      "Processing section: 283\n"
     ]
    },
    {
     "name": "stdout",
     "output_type": "stream",
     "text": [
      "cp /oasis/projects/nsf/csd395/yuncong/CSHL_data_processed/MD602/MD602_lossless_alignedTo_MD602-N49-2015.12.01-18.41.46_MD602_2_0146_cropped_compressed/MD602-IHC60-2015.12.02-01.55.15_MD602_2_0179_lossless_alignedTo_MD602-N49-2015.12.01-18.41.46_MD602_2_0146_cropped_compressed.jpg /home/yuncong/csd395/CSHL_cells_v2/detected_cells/MD602/MD602-IHC60-2015.12.02-01.55.15_MD602_2_0179/MD602-IHC60-2015.12.02-01.55.15_MD602_2_0179_image.jpg\n"
     ]
    },
    {
     "name": "stderr",
     "output_type": "stream",
     "text": [
      "Child returned 0\n",
      "Load mask: 14.55\n",
      "regionprops: 3.29\n",
      "85474 blobs identified.\n",
      "Save blob coords: 4.65\n",
      "Save blob masks: 9.19\n",
      "Save blob contours, save: 14.01\n",
      "Compute blob properties, save: 18.54\n",
      "Processing section: 284\n"
     ]
    },
    {
     "name": "stdout",
     "output_type": "stream",
     "text": [
      "cp /oasis/projects/nsf/csd395/yuncong/CSHL_data_processed/MD602/MD602_lossless_alignedTo_MD602-N49-2015.12.01-18.41.46_MD602_2_0146_cropped_compressed/MD602-N61-2015.12.01-19.35.48_MD602_1_0181_lossless_alignedTo_MD602-N49-2015.12.01-18.41.46_MD602_2_0146_cropped_compressed.jpg /home/yuncong/csd395/CSHL_cells_v2/detected_cells/MD602/MD602-N61-2015.12.01-19.35.48_MD602_1_0181/MD602-N61-2015.12.01-19.35.48_MD602_1_0181_image.jpg\n"
     ]
    },
    {
     "name": "stderr",
     "output_type": "stream",
     "text": [
      "Child returned 0\n",
      "Load mask: 14.45\n",
      "regionprops: 2.72\n",
      "83294 blobs identified.\n",
      "Save blob coords: 4.42\n",
      "Save blob masks: 9.23\n",
      "Save blob contours, save: 13.33\n",
      "Compute blob properties, save: 18.01\n",
      "Processing section: 285\n"
     ]
    },
    {
     "name": "stdout",
     "output_type": "stream",
     "text": [
      "cp /oasis/projects/nsf/csd395/yuncong/CSHL_data_processed/MD602/MD602_lossless_alignedTo_MD602-N49-2015.12.01-18.41.46_MD602_2_0146_cropped_compressed/MD602-IHC61-2015.12.02-01.59.23_MD602_3_0181_lossless_alignedTo_MD602-N49-2015.12.01-18.41.46_MD602_2_0146_cropped_compressed.jpg /home/yuncong/csd395/CSHL_cells_v2/detected_cells/MD602/MD602-IHC61-2015.12.02-01.59.23_MD602_3_0181/MD602-IHC61-2015.12.02-01.59.23_MD602_3_0181_image.jpg\n"
     ]
    },
    {
     "name": "stderr",
     "output_type": "stream",
     "text": [
      "Child returned 0\n",
      "Load mask: 14.50\n",
      "regionprops: 2.74\n",
      "83907 blobs identified.\n",
      "Save blob coords: 4.77\n",
      "Save blob masks: 9.19\n",
      "Save blob contours, save: 13.65\n",
      "Compute blob properties, save: 18.09\n",
      "Processing section: 286\n"
     ]
    },
    {
     "name": "stdout",
     "output_type": "stream",
     "text": [
      "cp /oasis/projects/nsf/csd395/yuncong/CSHL_data_processed/MD602/MD602_lossless_alignedTo_MD602-N49-2015.12.01-18.41.46_MD602_2_0146_cropped_compressed/MD602-N61-2015.12.01-19.35.48_MD602_2_0182_lossless_alignedTo_MD602-N49-2015.12.01-18.41.46_MD602_2_0146_cropped_compressed.jpg /home/yuncong/csd395/CSHL_cells_v2/detected_cells/MD602/MD602-N61-2015.12.01-19.35.48_MD602_2_0182/MD602-N61-2015.12.01-19.35.48_MD602_2_0182_image.jpg\n"
     ]
    },
    {
     "name": "stderr",
     "output_type": "stream",
     "text": [
      "Child returned 0\n",
      "Load mask: 14.62\n",
      "regionprops: 3.27\n",
      "81372 blobs identified.\n",
      "Save blob coords: 4.45\n",
      "Save blob masks: 8.73\n",
      "Save blob contours, save: 13.35\n",
      "Compute blob properties, save: 17.52\n",
      "Processing section: 287\n"
     ]
    },
    {
     "name": "stdout",
     "output_type": "stream",
     "text": [
      "cp /oasis/projects/nsf/csd395/yuncong/CSHL_data_processed/MD602/MD602_lossless_alignedTo_MD602-N49-2015.12.01-18.41.46_MD602_2_0146_cropped_compressed/MD602-IHC61-2015.12.02-01.59.23_MD602_2_0182_lossless_alignedTo_MD602-N49-2015.12.01-18.41.46_MD602_2_0146_cropped_compressed.jpg /home/yuncong/csd395/CSHL_cells_v2/detected_cells/MD602/MD602-IHC61-2015.12.02-01.59.23_MD602_2_0182/MD602-IHC61-2015.12.02-01.59.23_MD602_2_0182_image.jpg\n"
     ]
    },
    {
     "name": "stderr",
     "output_type": "stream",
     "text": [
      "Child returned 0\n",
      "Load mask: 14.53\n",
      "regionprops: 3.15\n",
      "85160 blobs identified.\n",
      "Save blob coords: 4.71\n",
      "Save blob masks: 9.31\n",
      "Save blob contours, save: 13.72\n",
      "Compute blob properties, save: 18.81\n",
      "Processing section: 288\n"
     ]
    },
    {
     "name": "stdout",
     "output_type": "stream",
     "text": [
      "cp /oasis/projects/nsf/csd395/yuncong/CSHL_data_processed/MD602/MD602_lossless_alignedTo_MD602-N49-2015.12.01-18.41.46_MD602_2_0146_cropped_compressed/MD602-N61-2015.12.01-19.35.48_MD602_1_0183_lossless_alignedTo_MD602-N49-2015.12.01-18.41.46_MD602_2_0146_cropped_compressed.jpg /home/yuncong/csd395/CSHL_cells_v2/detected_cells/MD602/MD602-N61-2015.12.01-19.35.48_MD602_1_0183/MD602-N61-2015.12.01-19.35.48_MD602_1_0183_image.jpg\n"
     ]
    },
    {
     "name": "stderr",
     "output_type": "stream",
     "text": [
      "Child returned 0\n",
      "Load mask: 14.53\n",
      "regionprops: 2.81\n",
      "88318 blobs identified.\n",
      "Save blob coords: 4.74\n",
      "Save blob masks: 9.81\n",
      "Save blob contours, save: 14.44\n",
      "Compute blob properties, save: 19.06\n",
      "Processing section: 289\n"
     ]
    },
    {
     "name": "stdout",
     "output_type": "stream",
     "text": [
      "cp /oasis/projects/nsf/csd395/yuncong/CSHL_data_processed/MD602/MD602_lossless_alignedTo_MD602-N49-2015.12.01-18.41.46_MD602_2_0146_cropped_compressed/MD602-IHC61-2015.12.02-01.59.23_MD602_1_0183_lossless_alignedTo_MD602-N49-2015.12.01-18.41.46_MD602_2_0146_cropped_compressed.jpg /home/yuncong/csd395/CSHL_cells_v2/detected_cells/MD602/MD602-IHC61-2015.12.02-01.59.23_MD602_1_0183/MD602-IHC61-2015.12.02-01.59.23_MD602_1_0183_image.jpg\n"
     ]
    },
    {
     "name": "stderr",
     "output_type": "stream",
     "text": [
      "Child returned 0\n",
      "Load mask: 14.43\n",
      "regionprops: 2.68\n",
      "85491 blobs identified.\n",
      "Save blob coords: 4.52\n",
      "Save blob masks: 9.23\n",
      "Save blob contours, save: 13.83\n",
      "Compute blob properties, save: 18.48\n",
      "Processing section: 290\n"
     ]
    },
    {
     "name": "stdout",
     "output_type": "stream",
     "text": [
      "cp /oasis/projects/nsf/csd395/yuncong/CSHL_data_processed/MD602/MD602_lossless_alignedTo_MD602-N49-2015.12.01-18.41.46_MD602_2_0146_cropped_compressed/MD602-N62-2015.12.01-19.41.37_MD602_3_0184_lossless_alignedTo_MD602-N49-2015.12.01-18.41.46_MD602_2_0146_cropped_compressed.jpg /home/yuncong/csd395/CSHL_cells_v2/detected_cells/MD602/MD602-N62-2015.12.01-19.41.37_MD602_3_0184/MD602-N62-2015.12.01-19.41.37_MD602_3_0184_image.jpg\n"
     ]
    },
    {
     "name": "stderr",
     "output_type": "stream",
     "text": [
      "Child returned 0\n",
      "Load mask: 14.39\n",
      "regionprops: 3.39\n",
      "84923 blobs identified.\n",
      "Save blob coords: 4.63\n",
      "Save blob masks: 9.19\n",
      "Save blob contours, save: 14.04\n",
      "Compute blob properties, save: 18.02\n",
      "Processing section: 292\n"
     ]
    },
    {
     "name": "stdout",
     "output_type": "stream",
     "text": [
      "cp /oasis/projects/nsf/csd395/yuncong/CSHL_data_processed/MD602/MD602_lossless_alignedTo_MD602-N49-2015.12.01-18.41.46_MD602_2_0146_cropped_compressed/MD602-N62-2015.12.01-19.41.37_MD602_2_0185_lossless_alignedTo_MD602-N49-2015.12.01-18.41.46_MD602_2_0146_cropped_compressed.jpg /home/yuncong/csd395/CSHL_cells_v2/detected_cells/MD602/MD602-N62-2015.12.01-19.41.37_MD602_2_0185/MD602-N62-2015.12.01-19.41.37_MD602_2_0185_image.jpg\n"
     ]
    },
    {
     "name": "stderr",
     "output_type": "stream",
     "text": [
      "Child returned 0\n",
      "Load mask: 14.94\n",
      "regionprops: 3.21\n",
      "84694 blobs identified.\n",
      "Save blob coords: 4.57\n",
      "Save blob masks: 9.15\n",
      "Save blob contours, save: 14.08\n",
      "Compute blob properties, save: 18.53\n",
      "Processing section: 293\n"
     ]
    },
    {
     "name": "stdout",
     "output_type": "stream",
     "text": [
      "cp /oasis/projects/nsf/csd395/yuncong/CSHL_data_processed/MD602/MD602_lossless_alignedTo_MD602-N49-2015.12.01-18.41.46_MD602_2_0146_cropped_compressed/MD602-IHC62-2015.12.02-02.04.52_MD602_2_0185_lossless_alignedTo_MD602-N49-2015.12.01-18.41.46_MD602_2_0146_cropped_compressed.jpg /home/yuncong/csd395/CSHL_cells_v2/detected_cells/MD602/MD602-IHC62-2015.12.02-02.04.52_MD602_2_0185/MD602-IHC62-2015.12.02-02.04.52_MD602_2_0185_image.jpg\n"
     ]
    },
    {
     "name": "stderr",
     "output_type": "stream",
     "text": [
      "Child returned 0\n",
      "Load mask: 14.32\n",
      "regionprops: 3.10\n",
      "82086 blobs identified.\n",
      "Save blob coords: 4.31\n",
      "Save blob masks: 8.77\n",
      "Save blob contours, save: 13.65\n",
      "Compute blob properties, save: 17.55\n",
      "Processing section: 294\n"
     ]
    },
    {
     "name": "stdout",
     "output_type": "stream",
     "text": [
      "cp /oasis/projects/nsf/csd395/yuncong/CSHL_data_processed/MD602/MD602_lossless_alignedTo_MD602-N49-2015.12.01-18.41.46_MD602_2_0146_cropped_compressed/MD602-N62-2015.12.01-19.41.37_MD602_1_0186_lossless_alignedTo_MD602-N49-2015.12.01-18.41.46_MD602_2_0146_cropped_compressed.jpg /home/yuncong/csd395/CSHL_cells_v2/detected_cells/MD602/MD602-N62-2015.12.01-19.41.37_MD602_1_0186/MD602-N62-2015.12.01-19.41.37_MD602_1_0186_image.jpg\n"
     ]
    },
    {
     "name": "stderr",
     "output_type": "stream",
     "text": [
      "Child returned 0\n",
      "Load mask: 14.49\n",
      "regionprops: 3.20\n",
      "82924 blobs identified.\n",
      "Save blob coords: 4.37\n",
      "Save blob masks: 8.86\n",
      "Save blob contours, save: 13.81\n",
      "Compute blob properties, save: 17.64\n",
      "Processing section: 295\n"
     ]
    },
    {
     "name": "stdout",
     "output_type": "stream",
     "text": [
      "cp /oasis/projects/nsf/csd395/yuncong/CSHL_data_processed/MD602/MD602_lossless_alignedTo_MD602-N49-2015.12.01-18.41.46_MD602_2_0146_cropped_compressed/MD602-IHC62-2015.12.02-02.04.52_MD602_3_0186_lossless_alignedTo_MD602-N49-2015.12.01-18.41.46_MD602_2_0146_cropped_compressed.jpg /home/yuncong/csd395/CSHL_cells_v2/detected_cells/MD602/MD602-IHC62-2015.12.02-02.04.52_MD602_3_0186/MD602-IHC62-2015.12.02-02.04.52_MD602_3_0186_image.jpg\n"
     ]
    },
    {
     "name": "stderr",
     "output_type": "stream",
     "text": [
      "Child returned 0\n",
      "Load mask: 14.38\n",
      "regionprops: 3.06\n",
      "81948 blobs identified.\n",
      "Save blob coords: 4.24\n",
      "Save blob masks: 8.74\n",
      "Save blob contours, save: 13.59\n",
      "Compute blob properties, save: 17.20\n",
      "Processing section: 297\n"
     ]
    },
    {
     "name": "stdout",
     "output_type": "stream",
     "text": [
      "cp /oasis/projects/nsf/csd395/yuncong/CSHL_data_processed/MD602/MD602_lossless_alignedTo_MD602-N49-2015.12.01-18.41.46_MD602_2_0146_cropped_compressed/MD602-IHC63-2015.12.02-02.10.30_MD602_1_0187_lossless_alignedTo_MD602-N49-2015.12.01-18.41.46_MD602_2_0146_cropped_compressed.jpg /home/yuncong/csd395/CSHL_cells_v2/detected_cells/MD602/MD602-IHC63-2015.12.02-02.10.30_MD602_1_0187/MD602-IHC63-2015.12.02-02.10.30_MD602_1_0187_image.jpg\n"
     ]
    },
    {
     "name": "stderr",
     "output_type": "stream",
     "text": [
      "Child returned 0\n",
      "Load mask: 14.40\n",
      "regionprops: 3.22\n",
      "78822 blobs identified.\n",
      "Save blob coords: 4.37\n",
      "Save blob masks: 8.60\n",
      "Save blob contours, save: 13.04\n",
      "Compute blob properties, save: 17.09\n",
      "Processing section: 298\n"
     ]
    },
    {
     "name": "stdout",
     "output_type": "stream",
     "text": [
      "cp /oasis/projects/nsf/csd395/yuncong/CSHL_data_processed/MD602/MD602_lossless_alignedTo_MD602-N49-2015.12.01-18.41.46_MD602_2_0146_cropped_compressed/MD602-N63-2015.12.01-19.47.22_MD602_1_0187_lossless_alignedTo_MD602-N49-2015.12.01-18.41.46_MD602_2_0146_cropped_compressed.jpg /home/yuncong/csd395/CSHL_cells_v2/detected_cells/MD602/MD602-N63-2015.12.01-19.47.22_MD602_1_0187/MD602-N63-2015.12.01-19.47.22_MD602_1_0187_image.jpg\n"
     ]
    },
    {
     "name": "stderr",
     "output_type": "stream",
     "text": [
      "Child returned 0\n",
      "Load mask: 14.45\n",
      "regionprops: 2.60\n",
      "63566 blobs identified.\n",
      "Save blob coords: 3.56\n",
      "Save blob masks: 6.99\n",
      "Save blob contours, save: 10.79\n",
      "Compute blob properties, save: 13.64\n",
      "Processing section: 299\n"
     ]
    },
    {
     "name": "stdout",
     "output_type": "stream",
     "text": [
      "cp /oasis/projects/nsf/csd395/yuncong/CSHL_data_processed/MD602/MD602_lossless_alignedTo_MD602-N49-2015.12.01-18.41.46_MD602_2_0146_cropped_compressed/MD602-IHC63-2015.12.02-02.10.30_MD602_2_0188_lossless_alignedTo_MD602-N49-2015.12.01-18.41.46_MD602_2_0146_cropped_compressed.jpg /home/yuncong/csd395/CSHL_cells_v2/detected_cells/MD602/MD602-IHC63-2015.12.02-02.10.30_MD602_2_0188/MD602-IHC63-2015.12.02-02.10.30_MD602_2_0188_image.jpg\n"
     ]
    },
    {
     "name": "stderr",
     "output_type": "stream",
     "text": [
      "Child returned 0\n",
      "Load mask: 14.28\n",
      "regionprops: 3.05\n",
      "81350 blobs identified.\n",
      "Save blob coords: 4.42\n",
      "Save blob masks: 8.76\n",
      "Save blob contours, save: 13.14\n",
      "Compute blob properties, save: 17.63\n",
      "Processing section: 300\n"
     ]
    },
    {
     "name": "stdout",
     "output_type": "stream",
     "text": [
      "cp /oasis/projects/nsf/csd395/yuncong/CSHL_data_processed/MD602/MD602_lossless_alignedTo_MD602-N49-2015.12.01-18.41.46_MD602_2_0146_cropped_compressed/MD602-N63-2015.12.01-19.47.22_MD602_2_0188_lossless_alignedTo_MD602-N49-2015.12.01-18.41.46_MD602_2_0146_cropped_compressed.jpg /home/yuncong/csd395/CSHL_cells_v2/detected_cells/MD602/MD602-N63-2015.12.01-19.47.22_MD602_2_0188/MD602-N63-2015.12.01-19.47.22_MD602_2_0188_image.jpg\n"
     ]
    },
    {
     "name": "stderr",
     "output_type": "stream",
     "text": [
      "Child returned 0\n",
      "Load mask: 14.56\n",
      "regionprops: 3.23\n",
      "82733 blobs identified.\n",
      "Save blob coords: 4.38\n",
      "Save blob masks: 8.87\n",
      "Save blob contours, save: 13.47\n",
      "Compute blob properties, save: 17.49\n",
      "Processing section: 301\n"
     ]
    },
    {
     "name": "stdout",
     "output_type": "stream",
     "text": [
      "cp /oasis/projects/nsf/csd395/yuncong/CSHL_data_processed/MD602/MD602_lossless_alignedTo_MD602-N49-2015.12.01-18.41.46_MD602_2_0146_cropped_compressed/MD602-IHC63-2015.12.02-02.10.30_MD602_3_0189_lossless_alignedTo_MD602-N49-2015.12.01-18.41.46_MD602_2_0146_cropped_compressed.jpg /home/yuncong/csd395/CSHL_cells_v2/detected_cells/MD602/MD602-IHC63-2015.12.02-02.10.30_MD602_3_0189/MD602-IHC63-2015.12.02-02.10.30_MD602_3_0189_image.jpg\n"
     ]
    },
    {
     "name": "stderr",
     "output_type": "stream",
     "text": [
      "Child returned 0\n",
      "Load mask: 14.47\n",
      "regionprops: 3.12\n",
      "65662 blobs identified.\n",
      "Save blob coords: 3.61\n",
      "Save blob masks: 7.02\n",
      "Save blob contours, save: 11.09\n",
      "Compute blob properties, save: 14.16\n",
      "Processing section: 302\n"
     ]
    },
    {
     "name": "stdout",
     "output_type": "stream",
     "text": [
      "cp /oasis/projects/nsf/csd395/yuncong/CSHL_data_processed/MD602/MD602_lossless_alignedTo_MD602-N49-2015.12.01-18.41.46_MD602_2_0146_cropped_compressed/MD602-N64-2015.12.01-19.52.07_MD602_1_0190_lossless_alignedTo_MD602-N49-2015.12.01-18.41.46_MD602_2_0146_cropped_compressed.jpg /home/yuncong/csd395/CSHL_cells_v2/detected_cells/MD602/MD602-N64-2015.12.01-19.52.07_MD602_1_0190/MD602-N64-2015.12.01-19.52.07_MD602_1_0190_image.jpg\n"
     ]
    },
    {
     "name": "stderr",
     "output_type": "stream",
     "text": [
      "Child returned 0\n",
      "Load mask: 14.30\n",
      "regionprops: 2.51\n",
      "65116 blobs identified.\n",
      "Save blob coords: 8.38\n",
      "Save blob masks: 7.26\n",
      "Save blob contours, save: 10.92\n",
      "Compute blob properties, save: 14.14\n",
      "Processing section: 303\n"
     ]
    },
    {
     "name": "stdout",
     "output_type": "stream",
     "text": [
      "cp /oasis/projects/nsf/csd395/yuncong/CSHL_data_processed/MD602/MD602_lossless_alignedTo_MD602-N49-2015.12.01-18.41.46_MD602_2_0146_cropped_compressed/MD602-IHC64-2015.12.02-02.16.23_MD602_1_0190_lossless_alignedTo_MD602-N49-2015.12.01-18.41.46_MD602_2_0146_cropped_compressed.jpg /home/yuncong/csd395/CSHL_cells_v2/detected_cells/MD602/MD602-IHC64-2015.12.02-02.16.23_MD602_1_0190/MD602-IHC64-2015.12.02-02.16.23_MD602_1_0190_image.jpg\n"
     ]
    },
    {
     "name": "stderr",
     "output_type": "stream",
     "text": [
      "Child returned 0\n",
      "Load mask: 14.50\n",
      "regionprops: 3.08\n",
      "80083 blobs identified.\n",
      "Save blob coords: 4.43\n",
      "Save blob masks: 8.79\n",
      "Save blob contours, save: 13.18\n",
      "Compute blob properties, save: 17.51\n",
      "Processing section: 304\n"
     ]
    },
    {
     "name": "stdout",
     "output_type": "stream",
     "text": [
      "cp /oasis/projects/nsf/csd395/yuncong/CSHL_data_processed/MD602/MD602_lossless_alignedTo_MD602-N49-2015.12.01-18.41.46_MD602_2_0146_cropped_compressed/MD602-N64-2015.12.01-19.52.07_MD602_2_0191_lossless_alignedTo_MD602-N49-2015.12.01-18.41.46_MD602_2_0146_cropped_compressed.jpg /home/yuncong/csd395/CSHL_cells_v2/detected_cells/MD602/MD602-N64-2015.12.01-19.52.07_MD602_2_0191/MD602-N64-2015.12.01-19.52.07_MD602_2_0191_image.jpg\n"
     ]
    },
    {
     "name": "stderr",
     "output_type": "stream",
     "text": [
      "Child returned 0\n",
      "Load mask: 14.37\n",
      "regionprops: 2.58\n",
      "62685 blobs identified.\n",
      "Save blob coords: 3.54\n",
      "Save blob masks: 7.19\n",
      "Save blob contours, save: 10.89\n",
      "Compute blob properties, save: 13.76\n",
      "Processing section: 305\n"
     ]
    },
    {
     "name": "stdout",
     "output_type": "stream",
     "text": [
      "cp /oasis/projects/nsf/csd395/yuncong/CSHL_data_processed/MD602/MD602_lossless_alignedTo_MD602-N49-2015.12.01-18.41.46_MD602_2_0146_cropped_compressed/MD602-IHC64-2015.12.02-02.16.23_MD602_2_0191_lossless_alignedTo_MD602-N49-2015.12.01-18.41.46_MD602_2_0146_cropped_compressed.jpg /home/yuncong/csd395/CSHL_cells_v2/detected_cells/MD602/MD602-IHC64-2015.12.02-02.16.23_MD602_2_0191/MD602-IHC64-2015.12.02-02.16.23_MD602_2_0191_image.jpg\n"
     ]
    },
    {
     "name": "stderr",
     "output_type": "stream",
     "text": [
      "Child returned 0\n",
      "Load mask: 14.29\n",
      "regionprops: 2.48\n",
      "64876 blobs identified.\n",
      "Save blob coords: 3.56\n",
      "Save blob masks: 7.21\n",
      "Save blob contours, save: 10.87\n",
      "Compute blob properties, save: 14.27\n",
      "Processing section: 306\n"
     ]
    },
    {
     "name": "stdout",
     "output_type": "stream",
     "text": [
      "cp /oasis/projects/nsf/csd395/yuncong/CSHL_data_processed/MD602/MD602_lossless_alignedTo_MD602-N49-2015.12.01-18.41.46_MD602_2_0146_cropped_compressed/MD602-N64-2015.12.01-19.52.07_MD602_3_0192_lossless_alignedTo_MD602-N49-2015.12.01-18.41.46_MD602_2_0146_cropped_compressed.jpg /home/yuncong/csd395/CSHL_cells_v2/detected_cells/MD602/MD602-N64-2015.12.01-19.52.07_MD602_3_0192/MD602-N64-2015.12.01-19.52.07_MD602_3_0192_image.jpg\n"
     ]
    },
    {
     "name": "stderr",
     "output_type": "stream",
     "text": [
      "Child returned 0\n",
      "Load mask: 14.38\n",
      "regionprops: 2.60\n",
      "80444 blobs identified.\n",
      "Save blob coords: 4.23\n",
      "Save blob masks: 8.70\n",
      "Save blob contours, save: 13.00\n",
      "Compute blob properties, save: 17.53\n",
      "Processing section: 307\n"
     ]
    },
    {
     "name": "stdout",
     "output_type": "stream",
     "text": [
      "cp /oasis/projects/nsf/csd395/yuncong/CSHL_data_processed/MD602/MD602_lossless_alignedTo_MD602-N49-2015.12.01-18.41.46_MD602_2_0146_cropped_compressed/MD602-IHC64-2015.12.02-02.16.23_MD602_3_0192_lossless_alignedTo_MD602-N49-2015.12.01-18.41.46_MD602_2_0146_cropped_compressed.jpg /home/yuncong/csd395/CSHL_cells_v2/detected_cells/MD602/MD602-IHC64-2015.12.02-02.16.23_MD602_3_0192/MD602-IHC64-2015.12.02-02.16.23_MD602_3_0192_image.jpg\n"
     ]
    },
    {
     "name": "stderr",
     "output_type": "stream",
     "text": [
      "Child returned 0\n",
      "Load mask: 14.41\n",
      "regionprops: 2.54\n",
      "64392 blobs identified.\n",
      "Save blob coords: 3.44\n",
      "Save blob masks: 7.11\n",
      "Save blob contours, save: 10.72\n",
      "Compute blob properties, save: 13.91\n",
      "Processing section: 308\n"
     ]
    },
    {
     "name": "stdout",
     "output_type": "stream",
     "text": [
      "cp /oasis/projects/nsf/csd395/yuncong/CSHL_data_processed/MD602/MD602_lossless_alignedTo_MD602-N49-2015.12.01-18.41.46_MD602_2_0146_cropped_compressed/MD602-N65-2015.12.01-19.57.40_MD602_1_0193_lossless_alignedTo_MD602-N49-2015.12.01-18.41.46_MD602_2_0146_cropped_compressed.jpg /home/yuncong/csd395/CSHL_cells_v2/detected_cells/MD602/MD602-N65-2015.12.01-19.57.40_MD602_1_0193/MD602-N65-2015.12.01-19.57.40_MD602_1_0193_image.jpg\n"
     ]
    },
    {
     "name": "stderr",
     "output_type": "stream",
     "text": [
      "Child returned 0\n",
      "Load mask: 14.50\n",
      "regionprops: 2.96\n",
      "72260 blobs identified.\n",
      "Save blob coords: 3.99\n",
      "Save blob masks: 7.93\n",
      "Save blob contours, save: 12.08\n",
      "Compute blob properties, save: 15.57\n",
      "Processing section: 309\n"
     ]
    },
    {
     "name": "stdout",
     "output_type": "stream",
     "text": [
      "cp /oasis/projects/nsf/csd395/yuncong/CSHL_data_processed/MD602/MD602_lossless_alignedTo_MD602-N49-2015.12.01-18.41.46_MD602_2_0146_cropped_compressed/MD602-IHC65-2015.12.02-02.22.00_MD602_1_0193_lossless_alignedTo_MD602-N49-2015.12.01-18.41.46_MD602_2_0146_cropped_compressed.jpg /home/yuncong/csd395/CSHL_cells_v2/detected_cells/MD602/MD602-IHC65-2015.12.02-02.22.00_MD602_1_0193/MD602-IHC65-2015.12.02-02.22.00_MD602_1_0193_image.jpg\n"
     ]
    },
    {
     "name": "stderr",
     "output_type": "stream",
     "text": [
      "Child returned 0\n",
      "Load mask: 14.33\n",
      "regionprops: 2.94\n",
      "62924 blobs identified.\n",
      "Save blob coords: 3.43\n",
      "Save blob masks: 6.91\n",
      "Save blob contours, save: 10.50\n",
      "Compute blob properties, save: 13.78\n",
      "Processing section: 310\n"
     ]
    },
    {
     "name": "stdout",
     "output_type": "stream",
     "text": [
      "cp /oasis/projects/nsf/csd395/yuncong/CSHL_data_processed/MD602/MD602_lossless_alignedTo_MD602-N49-2015.12.01-18.41.46_MD602_2_0146_cropped_compressed/MD602-N65-2015.12.01-19.57.40_MD602_2_0194_lossless_alignedTo_MD602-N49-2015.12.01-18.41.46_MD602_2_0146_cropped_compressed.jpg /home/yuncong/csd395/CSHL_cells_v2/detected_cells/MD602/MD602-N65-2015.12.01-19.57.40_MD602_2_0194/MD602-N65-2015.12.01-19.57.40_MD602_2_0194_image.jpg\n"
     ]
    },
    {
     "name": "stderr",
     "output_type": "stream",
     "text": [
      "Child returned 0\n",
      "Load mask: 14.45\n",
      "regionprops: 2.91\n",
      "69458 blobs identified.\n",
      "Save blob coords: 4.07\n",
      "Save blob masks: 7.69\n",
      "Save blob contours, save: 11.57\n",
      "Compute blob properties, save: 15.25\n",
      "Processing section: 311\n"
     ]
    },
    {
     "name": "stdout",
     "output_type": "stream",
     "text": [
      "cp /oasis/projects/nsf/csd395/yuncong/CSHL_data_processed/MD602/MD602_lossless_alignedTo_MD602-N49-2015.12.01-18.41.46_MD602_2_0146_cropped_compressed/MD602-IHC65-2015.12.02-02.22.00_MD602_2_0194_lossless_alignedTo_MD602-N49-2015.12.01-18.41.46_MD602_2_0146_cropped_compressed.jpg /home/yuncong/csd395/CSHL_cells_v2/detected_cells/MD602/MD602-IHC65-2015.12.02-02.22.00_MD602_2_0194/MD602-IHC65-2015.12.02-02.22.00_MD602_2_0194_image.jpg\n"
     ]
    },
    {
     "name": "stderr",
     "output_type": "stream",
     "text": [
      "Child returned 0\n",
      "Load mask: 14.35\n",
      "regionprops: 2.90\n",
      "62475 blobs identified.\n",
      "Save blob coords: 3.45\n",
      "Save blob masks: 6.92\n",
      "Save blob contours, save: 10.59\n",
      "Compute blob properties, save: 13.53\n",
      "Processing section: 313\n"
     ]
    },
    {
     "name": "stdout",
     "output_type": "stream",
     "text": [
      "cp /oasis/projects/nsf/csd395/yuncong/CSHL_data_processed/MD602/MD602_lossless_alignedTo_MD602-N49-2015.12.01-18.41.46_MD602_2_0146_cropped_compressed/MD602-IHC65-2015.12.02-02.22.00_MD602_3_0195_lossless_alignedTo_MD602-N49-2015.12.01-18.41.46_MD602_2_0146_cropped_compressed.jpg /home/yuncong/csd395/CSHL_cells_v2/detected_cells/MD602/MD602-IHC65-2015.12.02-02.22.00_MD602_3_0195/MD602-IHC65-2015.12.02-02.22.00_MD602_3_0195_image.jpg\n"
     ]
    },
    {
     "name": "stderr",
     "output_type": "stream",
     "text": [
      "Child returned 0\n",
      "Load mask: 14.31\n",
      "regionprops: 2.78\n",
      "62165 blobs identified.\n",
      "Save blob coords: 3.33\n",
      "Save blob masks: 6.72\n",
      "Save blob contours, save: 10.25\n",
      "Compute blob properties, save: 13.43\n",
      "Processing section: 314\n"
     ]
    },
    {
     "name": "stdout",
     "output_type": "stream",
     "text": [
      "cp /oasis/projects/nsf/csd395/yuncong/CSHL_data_processed/MD602/MD602_lossless_alignedTo_MD602-N49-2015.12.01-18.41.46_MD602_2_0146_cropped_compressed/MD602-N66-2015.12.01-20.02.08_MD602_1_0196_lossless_alignedTo_MD602-N49-2015.12.01-18.41.46_MD602_2_0146_cropped_compressed.jpg /home/yuncong/csd395/CSHL_cells_v2/detected_cells/MD602/MD602-N66-2015.12.01-20.02.08_MD602_1_0196/MD602-N66-2015.12.01-20.02.08_MD602_1_0196_image.jpg\n"
     ]
    },
    {
     "name": "stderr",
     "output_type": "stream",
     "text": [
      "Child returned 0\n",
      "Load mask: 14.33\n",
      "regionprops: 2.80\n",
      "59346 blobs identified.\n",
      "Save blob coords: 3.28\n",
      "Save blob masks: 6.57\n",
      "Save blob contours, save: 9.72\n",
      "Compute blob properties, save: 12.92\n",
      "Processing section: 315\n"
     ]
    },
    {
     "name": "stdout",
     "output_type": "stream",
     "text": [
      "cp /oasis/projects/nsf/csd395/yuncong/CSHL_data_processed/MD602/MD602_lossless_alignedTo_MD602-N49-2015.12.01-18.41.46_MD602_2_0146_cropped_compressed/MD602-IHC66-2015.12.02-02.27.37_MD602_1_0196_lossless_alignedTo_MD602-N49-2015.12.01-18.41.46_MD602_2_0146_cropped_compressed.jpg /home/yuncong/csd395/CSHL_cells_v2/detected_cells/MD602/MD602-IHC66-2015.12.02-02.27.37_MD602_1_0196/MD602-IHC66-2015.12.02-02.27.37_MD602_1_0196_image.jpg\n"
     ]
    },
    {
     "name": "stderr",
     "output_type": "stream",
     "text": [
      "Child returned 0\n",
      "Load mask: 14.37\n",
      "regionprops: 2.77\n",
      "61044 blobs identified.\n",
      "Save blob coords: 3.27\n",
      "Save blob masks: 6.63\n",
      "Save blob contours, save: 10.09\n",
      "Compute blob properties, save: 13.23\n",
      "Processing section: 316\n"
     ]
    },
    {
     "name": "stdout",
     "output_type": "stream",
     "text": [
      "cp /oasis/projects/nsf/csd395/yuncong/CSHL_data_processed/MD602/MD602_lossless_alignedTo_MD602-N49-2015.12.01-18.41.46_MD602_2_0146_cropped_compressed/MD602-N66-2015.12.01-20.02.08_MD602_2_0197_lossless_alignedTo_MD602-N49-2015.12.01-18.41.46_MD602_2_0146_cropped_compressed.jpg /home/yuncong/csd395/CSHL_cells_v2/detected_cells/MD602/MD602-N66-2015.12.01-20.02.08_MD602_2_0197/MD602-N66-2015.12.01-20.02.08_MD602_2_0197_image.jpg\n"
     ]
    },
    {
     "name": "stderr",
     "output_type": "stream",
     "text": [
      "Child returned 0\n",
      "Load mask: 14.39\n",
      "regionprops: 2.78\n",
      "55635 blobs identified.\n",
      "Save blob coords: 3.11\n",
      "Save blob masks: 6.14\n",
      "Save blob contours, save: 9.47\n",
      "Compute blob properties, save: 12.10\n",
      "Processing section: 317\n"
     ]
    },
    {
     "name": "stdout",
     "output_type": "stream",
     "text": [
      "cp /oasis/projects/nsf/csd395/yuncong/CSHL_data_processed/MD602/MD602_lossless_alignedTo_MD602-N49-2015.12.01-18.41.46_MD602_2_0146_cropped_compressed/MD602-IHC66-2015.12.02-02.27.37_MD602_2_0197_lossless_alignedTo_MD602-N49-2015.12.01-18.41.46_MD602_2_0146_cropped_compressed.jpg /home/yuncong/csd395/CSHL_cells_v2/detected_cells/MD602/MD602-IHC66-2015.12.02-02.27.37_MD602_2_0197/MD602-IHC66-2015.12.02-02.27.37_MD602_2_0197_image.jpg\n"
     ]
    },
    {
     "name": "stderr",
     "output_type": "stream",
     "text": [
      "Child returned 0\n",
      "Load mask: 14.29\n",
      "regionprops: 2.73\n",
      "61156 blobs identified.\n",
      "Save blob coords: 3.32\n",
      "Save blob masks: 6.64\n",
      "Save blob contours, save: 10.42\n",
      "Compute blob properties, save: 13.35\n",
      "Processing section: 318\n"
     ]
    },
    {
     "name": "stdout",
     "output_type": "stream",
     "text": [
      "cp /oasis/projects/nsf/csd395/yuncong/CSHL_data_processed/MD602/MD602_lossless_alignedTo_MD602-N49-2015.12.01-18.41.46_MD602_2_0146_cropped_compressed/MD602-N66-2015.12.01-20.02.08_MD602_3_0198_lossless_alignedTo_MD602-N49-2015.12.01-18.41.46_MD602_2_0146_cropped_compressed.jpg /home/yuncong/csd395/CSHL_cells_v2/detected_cells/MD602/MD602-N66-2015.12.01-20.02.08_MD602_3_0198/MD602-N66-2015.12.01-20.02.08_MD602_3_0198_image.jpg\n"
     ]
    },
    {
     "name": "stderr",
     "output_type": "stream",
     "text": [
      "Child returned 0\n",
      "Load mask: 14.33\n",
      "regionprops: 2.46\n",
      "61397 blobs identified.\n",
      "Save blob coords: 3.26\n",
      "Save blob masks: 6.74\n",
      "Save blob contours, save: 10.16\n",
      "Compute blob properties, save: 13.12\n",
      "Processing section: 319\n"
     ]
    },
    {
     "name": "stdout",
     "output_type": "stream",
     "text": [
      "cp /oasis/projects/nsf/csd395/yuncong/CSHL_data_processed/MD602/MD602_lossless_alignedTo_MD602-N49-2015.12.01-18.41.46_MD602_2_0146_cropped_compressed/MD602-IHC66-2015.12.02-02.27.37_MD602_3_0198_lossless_alignedTo_MD602-N49-2015.12.01-18.41.46_MD602_2_0146_cropped_compressed.jpg /home/yuncong/csd395/CSHL_cells_v2/detected_cells/MD602/MD602-IHC66-2015.12.02-02.27.37_MD602_3_0198/MD602-IHC66-2015.12.02-02.27.37_MD602_3_0198_image.jpg\n"
     ]
    },
    {
     "name": "stderr",
     "output_type": "stream",
     "text": [
      "Child returned 0\n",
      "Load mask: 14.28\n",
      "regionprops: 2.78\n",
      "62165 blobs identified.\n",
      "Save blob coords: 3.29\n",
      "Save blob masks: 6.59\n",
      "Save blob contours, save: 10.42\n",
      "Compute blob properties, save: 13.63\n",
      "Processing section: 320\n"
     ]
    },
    {
     "name": "stdout",
     "output_type": "stream",
     "text": [
      "cp /oasis/projects/nsf/csd395/yuncong/CSHL_data_processed/MD602/MD602_lossless_alignedTo_MD602-N49-2015.12.01-18.41.46_MD602_2_0146_cropped_compressed/MD602-N67-2015.12.01-20.07.33_MD602_1_0199_lossless_alignedTo_MD602-N49-2015.12.01-18.41.46_MD602_2_0146_cropped_compressed.jpg /home/yuncong/csd395/CSHL_cells_v2/detected_cells/MD602/MD602-N67-2015.12.01-20.07.33_MD602_1_0199/MD602-N67-2015.12.01-20.07.33_MD602_1_0199_image.jpg\n"
     ]
    },
    {
     "name": "stderr",
     "output_type": "stream",
     "text": [
      "Child returned 0\n",
      "Load mask: 14.32\n",
      "regionprops: 2.43\n",
      "60461 blobs identified.\n",
      "Save blob coords: 3.40\n",
      "Save blob masks: 6.91\n",
      "Save blob contours, save: 9.98\n",
      "Compute blob properties, save: 13.46\n",
      "Processing section: 321\n"
     ]
    },
    {
     "name": "stdout",
     "output_type": "stream",
     "text": [
      "cp /oasis/projects/nsf/csd395/yuncong/CSHL_data_processed/MD602/MD602_lossless_alignedTo_MD602-N49-2015.12.01-18.41.46_MD602_2_0146_cropped_compressed/MD602-IHC67-2015.12.02-02.32.55_MD602_1_0199_lossless_alignedTo_MD602-N49-2015.12.01-18.41.46_MD602_2_0146_cropped_compressed.jpg /home/yuncong/csd395/CSHL_cells_v2/detected_cells/MD602/MD602-IHC67-2015.12.02-02.32.55_MD602_1_0199/MD602-IHC67-2015.12.02-02.32.55_MD602_1_0199_image.jpg\n"
     ]
    },
    {
     "name": "stderr",
     "output_type": "stream",
     "text": [
      "Child returned 0\n",
      "Load mask: 14.56\n",
      "regionprops: 2.68\n",
      "60011 blobs identified.\n",
      "Save blob coords: 3.30\n",
      "Save blob masks: 6.48\n",
      "Save blob contours, save: 10.36\n",
      "Compute blob properties, save: 13.10\n",
      "Processing section: 322\n"
     ]
    },
    {
     "name": "stdout",
     "output_type": "stream",
     "text": [
      "cp /oasis/projects/nsf/csd395/yuncong/CSHL_data_processed/MD602/MD602_lossless_alignedTo_MD602-N49-2015.12.01-18.41.46_MD602_2_0146_cropped_compressed/MD602-N67-2015.12.01-20.07.33_MD602_2_0200_lossless_alignedTo_MD602-N49-2015.12.01-18.41.46_MD602_2_0146_cropped_compressed.jpg /home/yuncong/csd395/CSHL_cells_v2/detected_cells/MD602/MD602-N67-2015.12.01-20.07.33_MD602_2_0200/MD602-N67-2015.12.01-20.07.33_MD602_2_0200_image.jpg\n"
     ]
    },
    {
     "name": "stderr",
     "output_type": "stream",
     "text": [
      "Child returned 0\n",
      "Load mask: 14.37\n",
      "regionprops: 2.69\n",
      "58202 blobs identified.\n",
      "Save blob coords: 3.21\n",
      "Save blob masks: 6.34\n",
      "Save blob contours, save: 9.86\n",
      "Compute blob properties, save: 12.59\n",
      "Processing section: 323\n"
     ]
    },
    {
     "name": "stdout",
     "output_type": "stream",
     "text": [
      "cp /oasis/projects/nsf/csd395/yuncong/CSHL_data_processed/MD602/MD602_lossless_alignedTo_MD602-N49-2015.12.01-18.41.46_MD602_2_0146_cropped_compressed/MD602-IHC67-2015.12.02-02.32.55_MD602_2_0200_lossless_alignedTo_MD602-N49-2015.12.01-18.41.46_MD602_2_0146_cropped_compressed.jpg /home/yuncong/csd395/CSHL_cells_v2/detected_cells/MD602/MD602-IHC67-2015.12.02-02.32.55_MD602_2_0200/MD602-IHC67-2015.12.02-02.32.55_MD602_2_0200_image.jpg\n"
     ]
    },
    {
     "name": "stderr",
     "output_type": "stream",
     "text": [
      "Child returned 0\n",
      "Load mask: 14.60\n",
      "regionprops: 2.67\n",
      "60059 blobs identified.\n",
      "Save blob coords: 3.32\n",
      "Save blob masks: 6.57\n",
      "Save blob contours, save: 10.21\n",
      "Compute blob properties, save: 13.16\n",
      "Processing section: 324\n"
     ]
    },
    {
     "name": "stdout",
     "output_type": "stream",
     "text": [
      "cp /oasis/projects/nsf/csd395/yuncong/CSHL_data_processed/MD602/MD602_lossless_alignedTo_MD602-N49-2015.12.01-18.41.46_MD602_2_0146_cropped_compressed/MD602-N67-2015.12.01-20.07.33_MD602_3_0201_lossless_alignedTo_MD602-N49-2015.12.01-18.41.46_MD602_2_0146_cropped_compressed.jpg /home/yuncong/csd395/CSHL_cells_v2/detected_cells/MD602/MD602-N67-2015.12.01-20.07.33_MD602_3_0201/MD602-N67-2015.12.01-20.07.33_MD602_3_0201_image.jpg\n"
     ]
    },
    {
     "name": "stderr",
     "output_type": "stream",
     "text": [
      "Child returned 0\n",
      "Load mask: 14.59\n",
      "regionprops: 2.80\n",
      "58939 blobs identified.\n",
      "Save blob coords: 3.59\n",
      "Save blob masks: 6.43\n",
      "Save blob contours, save: 9.77\n",
      "Compute blob properties, save: 12.71\n",
      "Processing section: 325\n"
     ]
    },
    {
     "name": "stdout",
     "output_type": "stream",
     "text": [
      "cp /oasis/projects/nsf/csd395/yuncong/CSHL_data_processed/MD602/MD602_lossless_alignedTo_MD602-N49-2015.12.01-18.41.46_MD602_2_0146_cropped_compressed/MD602-IHC67-2015.12.02-02.32.55_MD602_3_0201_lossless_alignedTo_MD602-N49-2015.12.01-18.41.46_MD602_2_0146_cropped_compressed.jpg /home/yuncong/csd395/CSHL_cells_v2/detected_cells/MD602/MD602-IHC67-2015.12.02-02.32.55_MD602_3_0201/MD602-IHC67-2015.12.02-02.32.55_MD602_3_0201_image.jpg\n"
     ]
    },
    {
     "name": "stderr",
     "output_type": "stream",
     "text": [
      "Child returned 0\n",
      "Load mask: 14.28\n",
      "regionprops: 2.71\n",
      "60322 blobs identified.\n",
      "Save blob coords: 3.40\n",
      "Save blob masks: 6.76\n",
      "Save blob contours, save: 10.23\n",
      "Compute blob properties, save: 13.33\n",
      "Processing section: 326\n"
     ]
    },
    {
     "name": "stdout",
     "output_type": "stream",
     "text": [
      "cp /oasis/projects/nsf/csd395/yuncong/CSHL_data_processed/MD602/MD602_lossless_alignedTo_MD602-N49-2015.12.01-18.41.46_MD602_2_0146_cropped_compressed/MD602-N68-2015.12.01-20.12.46_MD602_1_0202_lossless_alignedTo_MD602-N49-2015.12.01-18.41.46_MD602_2_0146_cropped_compressed.jpg /home/yuncong/csd395/CSHL_cells_v2/detected_cells/MD602/MD602-N68-2015.12.01-20.12.46_MD602_1_0202/MD602-N68-2015.12.01-20.12.46_MD602_1_0202_image.jpg\n"
     ]
    },
    {
     "name": "stderr",
     "output_type": "stream",
     "text": [
      "Child returned 0\n",
      "Load mask: 14.51\n",
      "regionprops: 2.83\n",
      "57499 blobs identified.\n",
      "Save blob coords: 3.52\n",
      "Save blob masks: 6.64\n",
      "Save blob contours, save: 9.84\n",
      "Compute blob properties, save: 13.06\n",
      "Processing section: 327\n"
     ]
    },
    {
     "name": "stdout",
     "output_type": "stream",
     "text": [
      "cp /oasis/projects/nsf/csd395/yuncong/CSHL_data_processed/MD602/MD602_lossless_alignedTo_MD602-N49-2015.12.01-18.41.46_MD602_2_0146_cropped_compressed/MD602-IHC68-2015.12.02-02.37.54_MD602_1_0202_lossless_alignedTo_MD602-N49-2015.12.01-18.41.46_MD602_2_0146_cropped_compressed.jpg /home/yuncong/csd395/CSHL_cells_v2/detected_cells/MD602/MD602-IHC68-2015.12.02-02.37.54_MD602_1_0202/MD602-IHC68-2015.12.02-02.37.54_MD602_1_0202_image.jpg\n"
     ]
    },
    {
     "name": "stderr",
     "output_type": "stream",
     "text": [
      "Child returned 0\n",
      "Load mask: 14.27\n",
      "regionprops: 2.71\n",
      "57456 blobs identified.\n",
      "Save blob coords: 3.31\n",
      "Save blob masks: 6.39\n",
      "Save blob contours, save: 9.66\n",
      "Compute blob properties, save: 12.40\n",
      "Processing section: 328\n"
     ]
    },
    {
     "name": "stdout",
     "output_type": "stream",
     "text": [
      "cp /oasis/projects/nsf/csd395/yuncong/CSHL_data_processed/MD602/MD602_lossless_alignedTo_MD602-N49-2015.12.01-18.41.46_MD602_2_0146_cropped_compressed/MD602-N68-2015.12.01-20.12.46_MD602_2_0203_lossless_alignedTo_MD602-N49-2015.12.01-18.41.46_MD602_2_0146_cropped_compressed.jpg /home/yuncong/csd395/CSHL_cells_v2/detected_cells/MD602/MD602-N68-2015.12.01-20.12.46_MD602_2_0203/MD602-N68-2015.12.01-20.12.46_MD602_2_0203_image.jpg\n"
     ]
    },
    {
     "name": "stderr",
     "output_type": "stream",
     "text": [
      "Child returned 0\n",
      "Load mask: 14.44\n",
      "regionprops: 2.69\n",
      "55940 blobs identified.\n",
      "Save blob coords: 3.09\n",
      "Save blob masks: 6.09\n",
      "Save blob contours, save: 9.54\n",
      "Compute blob properties, save: 11.98\n",
      "Processing section: 329\n"
     ]
    },
    {
     "name": "stdout",
     "output_type": "stream",
     "text": [
      "cp /oasis/projects/nsf/csd395/yuncong/CSHL_data_processed/MD602/MD602_lossless_alignedTo_MD602-N49-2015.12.01-18.41.46_MD602_2_0146_cropped_compressed/MD602-IHC68-2015.12.02-02.37.54_MD602_2_0203_lossless_alignedTo_MD602-N49-2015.12.01-18.41.46_MD602_2_0146_cropped_compressed.jpg /home/yuncong/csd395/CSHL_cells_v2/detected_cells/MD602/MD602-IHC68-2015.12.02-02.37.54_MD602_2_0203/MD602-IHC68-2015.12.02-02.37.54_MD602_2_0203_image.jpg\n"
     ]
    },
    {
     "name": "stderr",
     "output_type": "stream",
     "text": [
      "Child returned 0\n",
      "Load mask: 14.35\n",
      "regionprops: 2.64\n",
      "54307 blobs identified.\n",
      "Save blob coords: 2.97\n",
      "Save blob masks: 6.00\n",
      "Save blob contours, save: 9.32\n",
      "Compute blob properties, save: 12.04\n",
      "Processing section: 330\n"
     ]
    },
    {
     "name": "stdout",
     "output_type": "stream",
     "text": [
      "cp /oasis/projects/nsf/csd395/yuncong/CSHL_data_processed/MD602/MD602_lossless_alignedTo_MD602-N49-2015.12.01-18.41.46_MD602_2_0146_cropped_compressed/MD602-N68-2015.12.01-20.12.46_MD602_3_0204_lossless_alignedTo_MD602-N49-2015.12.01-18.41.46_MD602_2_0146_cropped_compressed.jpg /home/yuncong/csd395/CSHL_cells_v2/detected_cells/MD602/MD602-N68-2015.12.01-20.12.46_MD602_3_0204/MD602-N68-2015.12.01-20.12.46_MD602_3_0204_image.jpg\n"
     ]
    },
    {
     "name": "stderr",
     "output_type": "stream",
     "text": [
      "Child returned 0\n",
      "Load mask: 14.47\n",
      "regionprops: 2.29\n",
      "53193 blobs identified.\n",
      "Save blob coords: 2.76\n",
      "Save blob masks: 5.88\n",
      "Save blob contours, save: 9.01\n",
      "Compute blob properties, save: 11.42\n",
      "Processing section: 331\n"
     ]
    },
    {
     "name": "stdout",
     "output_type": "stream",
     "text": [
      "cp /oasis/projects/nsf/csd395/yuncong/CSHL_data_processed/MD602/MD602_lossless_alignedTo_MD602-N49-2015.12.01-18.41.46_MD602_2_0146_cropped_compressed/MD602-IHC68-2015.12.02-02.37.54_MD602_3_0204_lossless_alignedTo_MD602-N49-2015.12.01-18.41.46_MD602_2_0146_cropped_compressed.jpg /home/yuncong/csd395/CSHL_cells_v2/detected_cells/MD602/MD602-IHC68-2015.12.02-02.37.54_MD602_3_0204/MD602-IHC68-2015.12.02-02.37.54_MD602_3_0204_image.jpg\n"
     ]
    },
    {
     "name": "stderr",
     "output_type": "stream",
     "text": [
      "Child returned 0\n",
      "Load mask: 14.56\n",
      "regionprops: 2.35\n",
      "52986 blobs identified.\n",
      "Save blob coords: 2.81\n",
      "Save blob masks: 6.27\n",
      "Save blob contours, save: 8.85\n",
      "Compute blob properties, save: 11.43\n",
      "Processing section: 332\n"
     ]
    },
    {
     "name": "stdout",
     "output_type": "stream",
     "text": [
      "cp /oasis/projects/nsf/csd395/yuncong/CSHL_data_processed/MD602/MD602_lossless_alignedTo_MD602-N49-2015.12.01-18.41.46_MD602_2_0146_cropped_compressed/MD602-IHC69-2015.12.02-02.43.21_MD602_1_0205_lossless_alignedTo_MD602-N49-2015.12.01-18.41.46_MD602_2_0146_cropped_compressed.jpg /home/yuncong/csd395/CSHL_cells_v2/detected_cells/MD602/MD602-IHC69-2015.12.02-02.43.21_MD602_1_0205/MD602-IHC69-2015.12.02-02.43.21_MD602_1_0205_image.jpg\n"
     ]
    },
    {
     "name": "stderr",
     "output_type": "stream",
     "text": [
      "Child returned 0\n",
      "Load mask: 14.35\n",
      "regionprops: 2.30\n",
      "52598 blobs identified.\n",
      "Save blob coords: 2.88\n",
      "Save blob masks: 5.97\n",
      "Save blob contours, save: 9.02\n",
      "Compute blob properties, save: 11.37\n",
      "Processing section: 333\n"
     ]
    },
    {
     "name": "stdout",
     "output_type": "stream",
     "text": [
      "cp /oasis/projects/nsf/csd395/yuncong/CSHL_data_processed/MD602/MD602_lossless_alignedTo_MD602-N49-2015.12.01-18.41.46_MD602_2_0146_cropped_compressed/MD602-N69-2015.12.01-20.18.05_MD602_2_0206_lossless_alignedTo_MD602-N49-2015.12.01-18.41.46_MD602_2_0146_cropped_compressed.jpg /home/yuncong/csd395/CSHL_cells_v2/detected_cells/MD602/MD602-N69-2015.12.01-20.18.05_MD602_2_0206/MD602-N69-2015.12.01-20.18.05_MD602_2_0206_image.jpg\n"
     ]
    },
    {
     "name": "stderr",
     "output_type": "stream",
     "text": [
      "Child returned 0\n",
      "Load mask: 14.29\n",
      "regionprops: 2.59\n",
      "50956 blobs identified.\n",
      "Save blob coords: 2.71\n",
      "Save blob masks: 5.45\n",
      "Save blob contours, save: 8.61\n",
      "Compute blob properties, save: 10.84\n",
      "Processing section: 334\n"
     ]
    },
    {
     "name": "stdout",
     "output_type": "stream",
     "text": [
      "cp /oasis/projects/nsf/csd395/yuncong/CSHL_data_processed/MD602/MD602_lossless_alignedTo_MD602-N49-2015.12.01-18.41.46_MD602_2_0146_cropped_compressed/MD602-IHC69-2015.12.02-02.43.21_MD602_2_0206_lossless_alignedTo_MD602-N49-2015.12.01-18.41.46_MD602_2_0146_cropped_compressed.jpg /home/yuncong/csd395/CSHL_cells_v2/detected_cells/MD602/MD602-IHC69-2015.12.02-02.43.21_MD602_2_0206/MD602-IHC69-2015.12.02-02.43.21_MD602_2_0206_image.jpg\n"
     ]
    },
    {
     "name": "stderr",
     "output_type": "stream",
     "text": [
      "Child returned 0\n",
      "Load mask: 14.44\n",
      "regionprops: 2.47\n",
      "50874 blobs identified.\n",
      "Save blob coords: 2.70\n",
      "Save blob masks: 5.52\n",
      "Save blob contours, save: 8.66\n",
      "Compute blob properties, save: 11.09\n",
      "Processing section: 335\n"
     ]
    },
    {
     "name": "stdout",
     "output_type": "stream",
     "text": [
      "cp /oasis/projects/nsf/csd395/yuncong/CSHL_data_processed/MD602/MD602_lossless_alignedTo_MD602-N49-2015.12.01-18.41.46_MD602_2_0146_cropped_compressed/MD602-N69-2015.12.01-20.18.05_MD602_3_0207_lossless_alignedTo_MD602-N49-2015.12.01-18.41.46_MD602_2_0146_cropped_compressed.jpg /home/yuncong/csd395/CSHL_cells_v2/detected_cells/MD602/MD602-N69-2015.12.01-20.18.05_MD602_3_0207/MD602-N69-2015.12.01-20.18.05_MD602_3_0207_image.jpg\n"
     ]
    },
    {
     "name": "stderr",
     "output_type": "stream",
     "text": [
      "Child returned 0\n",
      "Load mask: 14.35\n",
      "regionprops: 2.25\n",
      "49391 blobs identified.\n",
      "Save blob coords: 2.56\n",
      "Save blob masks: 5.44\n",
      "Save blob contours, save: 8.50\n",
      "Compute blob properties, save: 10.47\n",
      "Processing section: 336\n"
     ]
    },
    {
     "name": "stdout",
     "output_type": "stream",
     "text": [
      "cp /oasis/projects/nsf/csd395/yuncong/CSHL_data_processed/MD602/MD602_lossless_alignedTo_MD602-N49-2015.12.01-18.41.46_MD602_2_0146_cropped_compressed/MD602-IHC69-2015.12.02-02.43.21_MD602_3_0207_lossless_alignedTo_MD602-N49-2015.12.01-18.41.46_MD602_2_0146_cropped_compressed.jpg /home/yuncong/csd395/CSHL_cells_v2/detected_cells/MD602/MD602-IHC69-2015.12.02-02.43.21_MD602_3_0207/MD602-IHC69-2015.12.02-02.43.21_MD602_3_0207_image.jpg\n"
     ]
    },
    {
     "name": "stderr",
     "output_type": "stream",
     "text": [
      "Child returned 0\n",
      "Load mask: 14.52\n",
      "regionprops: 2.58\n",
      "49694 blobs identified.\n",
      "Save blob coords: 2.58\n",
      "Save blob masks: 5.27\n",
      "Save blob contours, save: 8.69\n",
      "Compute blob properties, save: 10.52\n",
      "Processing section: 337\n"
     ]
    },
    {
     "name": "stdout",
     "output_type": "stream",
     "text": [
      "cp /oasis/projects/nsf/csd395/yuncong/CSHL_data_processed/MD602/MD602_lossless_alignedTo_MD602-N49-2015.12.01-18.41.46_MD602_2_0146_cropped_compressed/MD602-N70-2015.12.01-20.23.02_MD602_1_0208_lossless_alignedTo_MD602-N49-2015.12.01-18.41.46_MD602_2_0146_cropped_compressed.jpg /home/yuncong/csd395/CSHL_cells_v2/detected_cells/MD602/MD602-N70-2015.12.01-20.23.02_MD602_1_0208/MD602-N70-2015.12.01-20.23.02_MD602_1_0208_image.jpg\n"
     ]
    },
    {
     "name": "stderr",
     "output_type": "stream",
     "text": [
      "Child returned 0\n",
      "Load mask: 14.29\n",
      "regionprops: 2.48\n",
      "48009 blobs identified.\n",
      "Save blob coords: 2.63\n",
      "Save blob masks: 5.27\n",
      "Save blob contours, save: 8.34\n",
      "Compute blob properties, save: 10.34\n",
      "Processing section: 338\n"
     ]
    },
    {
     "name": "stdout",
     "output_type": "stream",
     "text": [
      "cp /oasis/projects/nsf/csd395/yuncong/CSHL_data_processed/MD602/MD602_lossless_alignedTo_MD602-N49-2015.12.01-18.41.46_MD602_2_0146_cropped_compressed/MD602-IHC70-2015.12.02-02.48.50_MD602_1_0208_lossless_alignedTo_MD602-N49-2015.12.01-18.41.46_MD602_2_0146_cropped_compressed.jpg /home/yuncong/csd395/CSHL_cells_v2/detected_cells/MD602/MD602-IHC70-2015.12.02-02.48.50_MD602_1_0208/MD602-IHC70-2015.12.02-02.48.50_MD602_1_0208_image.jpg\n"
     ]
    },
    {
     "name": "stderr",
     "output_type": "stream",
     "text": [
      "Child returned 0\n",
      "Load mask: 14.47\n",
      "regionprops: 2.49\n",
      "49188 blobs identified.\n",
      "Save blob coords: 2.62\n",
      "Save blob masks: 5.30\n",
      "Save blob contours, save: 8.63\n",
      "Compute blob properties, save: 10.25\n",
      "Processing section: 339\n"
     ]
    },
    {
     "name": "stdout",
     "output_type": "stream",
     "text": [
      "cp /oasis/projects/nsf/csd395/yuncong/CSHL_data_processed/MD602/MD602_lossless_alignedTo_MD602-N49-2015.12.01-18.41.46_MD602_2_0146_cropped_compressed/MD602-N70-2015.12.01-20.23.02_MD602_2_0209_lossless_alignedTo_MD602-N49-2015.12.01-18.41.46_MD602_2_0146_cropped_compressed.jpg /home/yuncong/csd395/CSHL_cells_v2/detected_cells/MD602/MD602-N70-2015.12.01-20.23.02_MD602_2_0209/MD602-N70-2015.12.01-20.23.02_MD602_2_0209_image.jpg\n"
     ]
    },
    {
     "name": "stderr",
     "output_type": "stream",
     "text": [
      "Child returned 0\n",
      "Load mask: 14.50\n",
      "regionprops: 2.59\n",
      "46961 blobs identified.\n",
      "Save blob coords: 2.64\n",
      "Save blob masks: 5.18\n",
      "Save blob contours, save: 8.18\n",
      "Compute blob properties, save: 10.43\n",
      "Processing section: 340\n"
     ]
    },
    {
     "name": "stdout",
     "output_type": "stream",
     "text": [
      "cp /oasis/projects/nsf/csd395/yuncong/CSHL_data_processed/MD602/MD602_lossless_alignedTo_MD602-N49-2015.12.01-18.41.46_MD602_2_0146_cropped_compressed/MD602-IHC70-2015.12.02-02.48.50_MD602_2_0209_lossless_alignedTo_MD602-N49-2015.12.01-18.41.46_MD602_2_0146_cropped_compressed.jpg /home/yuncong/csd395/CSHL_cells_v2/detected_cells/MD602/MD602-IHC70-2015.12.02-02.48.50_MD602_2_0209/MD602-IHC70-2015.12.02-02.48.50_MD602_2_0209_image.jpg\n"
     ]
    },
    {
     "name": "stderr",
     "output_type": "stream",
     "text": [
      "Child returned 0\n",
      "Load mask: 14.49\n",
      "regionprops: 2.28\n",
      "48778 blobs identified.\n",
      "Save blob coords: 2.64\n",
      "Save blob masks: 5.43\n",
      "Save blob contours, save: 8.22\n",
      "Compute blob properties, save: 10.57\n",
      "Processing section: 341\n"
     ]
    },
    {
     "name": "stdout",
     "output_type": "stream",
     "text": [
      "cp /oasis/projects/nsf/csd395/yuncong/CSHL_data_processed/MD602/MD602_lossless_alignedTo_MD602-N49-2015.12.01-18.41.46_MD602_2_0146_cropped_compressed/MD602-N70-2015.12.01-20.23.02_MD602_3_0210_lossless_alignedTo_MD602-N49-2015.12.01-18.41.46_MD602_2_0146_cropped_compressed.jpg /home/yuncong/csd395/CSHL_cells_v2/detected_cells/MD602/MD602-N70-2015.12.01-20.23.02_MD602_3_0210/MD602-N70-2015.12.01-20.23.02_MD602_3_0210_image.jpg\n"
     ]
    },
    {
     "name": "stderr",
     "output_type": "stream",
     "text": [
      "Child returned 0\n",
      "Load mask: 14.35\n",
      "regionprops: 2.23\n",
      "47974 blobs identified.\n",
      "Save blob coords: 2.51\n",
      "Save blob masks: 5.24\n",
      "Save blob contours, save: 8.26\n",
      "Compute blob properties, save: 10.32\n",
      "Processing section: 342\n"
     ]
    },
    {
     "name": "stdout",
     "output_type": "stream",
     "text": [
      "cp /oasis/projects/nsf/csd395/yuncong/CSHL_data_processed/MD602/MD602_lossless_alignedTo_MD602-N49-2015.12.01-18.41.46_MD602_2_0146_cropped_compressed/MD602-IHC70-2015.12.02-02.48.50_MD602_3_0210_lossless_alignedTo_MD602-N49-2015.12.01-18.41.46_MD602_2_0146_cropped_compressed.jpg /home/yuncong/csd395/CSHL_cells_v2/detected_cells/MD602/MD602-IHC70-2015.12.02-02.48.50_MD602_3_0210/MD602-IHC70-2015.12.02-02.48.50_MD602_3_0210_image.jpg\n"
     ]
    },
    {
     "name": "stderr",
     "output_type": "stream",
     "text": [
      "Child returned 0\n",
      "Load mask: 14.32\n",
      "regionprops: 2.63\n",
      "48802 blobs identified.\n",
      "Save blob coords: 2.71\n",
      "Save blob masks: 5.29\n",
      "Save blob contours, save: 8.32\n",
      "Compute blob properties, save: 10.37\n",
      "Processing section: 343\n"
     ]
    },
    {
     "name": "stdout",
     "output_type": "stream",
     "text": [
      "cp /oasis/projects/nsf/csd395/yuncong/CSHL_data_processed/MD602/MD602_lossless_alignedTo_MD602-N49-2015.12.01-18.41.46_MD602_2_0146_cropped_compressed/MD602-N71-2015.12.01-20.28.02_MD602_1_0211_lossless_alignedTo_MD602-N49-2015.12.01-18.41.46_MD602_2_0146_cropped_compressed.jpg /home/yuncong/csd395/CSHL_cells_v2/detected_cells/MD602/MD602-N71-2015.12.01-20.28.02_MD602_1_0211/MD602-N71-2015.12.01-20.28.02_MD602_1_0211_image.jpg\n"
     ]
    },
    {
     "name": "stderr",
     "output_type": "stream",
     "text": [
      "Child returned 0\n",
      "Load mask: 14.26\n",
      "regionprops: 2.49\n",
      "46155 blobs identified.\n",
      "Save blob coords: 2.60\n",
      "Save blob masks: 5.08\n",
      "Save blob contours, save: 7.92\n",
      "Compute blob properties, save: 9.99\n",
      "Processing section: 344\n"
     ]
    },
    {
     "name": "stdout",
     "output_type": "stream",
     "text": [
      "cp /oasis/projects/nsf/csd395/yuncong/CSHL_data_processed/MD602/MD602_lossless_alignedTo_MD602-N49-2015.12.01-18.41.46_MD602_2_0146_cropped_compressed/MD602-IHC71-2015.12.02-02.53.55_MD602_1_0211_lossless_alignedTo_MD602-N49-2015.12.01-18.41.46_MD602_2_0146_cropped_compressed.jpg /home/yuncong/csd395/CSHL_cells_v2/detected_cells/MD602/MD602-IHC71-2015.12.02-02.53.55_MD602_1_0211/MD602-IHC71-2015.12.02-02.53.55_MD602_1_0211_image.jpg\n"
     ]
    },
    {
     "name": "stderr",
     "output_type": "stream",
     "text": [
      "Child returned 0\n",
      "Load mask: 14.33\n",
      "regionprops: 2.51\n",
      "35192 blobs identified.\n",
      "Save blob coords: 2.36\n",
      "Save blob masks: 4.19\n",
      "Save blob contours, save: 6.37\n",
      "Compute blob properties, save: 7.93\n",
      "Processing section: 345\n"
     ]
    },
    {
     "name": "stdout",
     "output_type": "stream",
     "text": [
      "cp /oasis/projects/nsf/csd395/yuncong/CSHL_data_processed/MD602/MD602_lossless_alignedTo_MD602-N49-2015.12.01-18.41.46_MD602_2_0146_cropped_compressed/MD602-N71-2015.12.01-20.28.02_MD602_2_0212_lossless_alignedTo_MD602-N49-2015.12.01-18.41.46_MD602_2_0146_cropped_compressed.jpg /home/yuncong/csd395/CSHL_cells_v2/detected_cells/MD602/MD602-N71-2015.12.01-20.28.02_MD602_2_0212/MD602-N71-2015.12.01-20.28.02_MD602_2_0212_image.jpg\n"
     ]
    },
    {
     "name": "stderr",
     "output_type": "stream",
     "text": [
      "Child returned 0\n",
      "Load mask: 14.28\n",
      "regionprops: 2.33\n",
      "45030 blobs identified.\n",
      "Save blob coords: 2.46\n",
      "Save blob masks: 4.93\n",
      "Save blob contours, save: 7.83\n",
      "Compute blob properties, save: 9.76\n",
      "Processing section: 346\n"
     ]
    },
    {
     "name": "stdout",
     "output_type": "stream",
     "text": [
      "cp /oasis/projects/nsf/csd395/yuncong/CSHL_data_processed/MD602/MD602_lossless_alignedTo_MD602-N49-2015.12.01-18.41.46_MD602_2_0146_cropped_compressed/MD602-IHC71-2015.12.02-02.53.55_MD602_2_0212_lossless_alignedTo_MD602-N49-2015.12.01-18.41.46_MD602_2_0146_cropped_compressed.jpg /home/yuncong/csd395/CSHL_cells_v2/detected_cells/MD602/MD602-IHC71-2015.12.02-02.53.55_MD602_2_0212/MD602-IHC71-2015.12.02-02.53.55_MD602_2_0212_image.jpg\n"
     ]
    },
    {
     "name": "stderr",
     "output_type": "stream",
     "text": [
      "Child returned 0\n",
      "Load mask: 14.45\n",
      "regionprops: 2.57\n",
      "46983 blobs identified.\n",
      "Save blob coords: 2.53\n",
      "Save blob masks: 5.12\n",
      "Save blob contours, save: 7.91\n",
      "Compute blob properties, save: 9.99\n",
      "Processing section: 347\n"
     ]
    },
    {
     "name": "stdout",
     "output_type": "stream",
     "text": [
      "cp /oasis/projects/nsf/csd395/yuncong/CSHL_data_processed/MD602/MD602_lossless_alignedTo_MD602-N49-2015.12.01-18.41.46_MD602_2_0146_cropped_compressed/MD602-N71-2015.12.01-20.28.02_MD602_3_0213_lossless_alignedTo_MD602-N49-2015.12.01-18.41.46_MD602_2_0146_cropped_compressed.jpg /home/yuncong/csd395/CSHL_cells_v2/detected_cells/MD602/MD602-N71-2015.12.01-20.28.02_MD602_3_0213/MD602-N71-2015.12.01-20.28.02_MD602_3_0213_image.jpg\n"
     ]
    },
    {
     "name": "stderr",
     "output_type": "stream",
     "text": [
      "Child returned 0\n",
      "Load mask: 14.33\n",
      "regionprops: 2.53\n",
      "46945 blobs identified.\n",
      "Save blob coords: 2.49\n",
      "Save blob masks: 5.02\n",
      "Save blob contours, save: 8.05\n",
      "Compute blob properties, save: 10.00\n",
      "Processing section: 348\n"
     ]
    },
    {
     "name": "stdout",
     "output_type": "stream",
     "text": [
      "cp /oasis/projects/nsf/csd395/yuncong/CSHL_data_processed/MD602/MD602_lossless_alignedTo_MD602-N49-2015.12.01-18.41.46_MD602_2_0146_cropped_compressed/MD602-IHC71-2015.12.02-02.53.55_MD602_3_0213_lossless_alignedTo_MD602-N49-2015.12.01-18.41.46_MD602_2_0146_cropped_compressed.jpg /home/yuncong/csd395/CSHL_cells_v2/detected_cells/MD602/MD602-IHC71-2015.12.02-02.53.55_MD602_3_0213/MD602-IHC71-2015.12.02-02.53.55_MD602_3_0213_image.jpg\n"
     ]
    },
    {
     "name": "stderr",
     "output_type": "stream",
     "text": [
      "Child returned 0\n",
      "Load mask: 14.30\n",
      "regionprops: 2.19\n",
      "46549 blobs identified.\n",
      "Save blob coords: 2.49\n",
      "Save blob masks: 5.13\n",
      "Save blob contours, save: 7.90\n",
      "Compute blob properties, save: 10.23\n",
      "Processing section: 349\n"
     ]
    },
    {
     "name": "stdout",
     "output_type": "stream",
     "text": [
      "cp /oasis/projects/nsf/csd395/yuncong/CSHL_data_processed/MD602/MD602_lossless_alignedTo_MD602-N49-2015.12.01-18.41.46_MD602_2_0146_cropped_compressed/MD602-N72-2015.12.01-20.32.51_MD602_1_0214_lossless_alignedTo_MD602-N49-2015.12.01-18.41.46_MD602_2_0146_cropped_compressed.jpg /home/yuncong/csd395/CSHL_cells_v2/detected_cells/MD602/MD602-N72-2015.12.01-20.32.51_MD602_1_0214/MD602-N72-2015.12.01-20.32.51_MD602_1_0214_image.jpg\n"
     ]
    },
    {
     "name": "stderr",
     "output_type": "stream",
     "text": [
      "Child returned 0\n",
      "Load mask: 14.50\n",
      "regionprops: 2.28\n",
      "44801 blobs identified.\n",
      "Save blob coords: 2.46\n",
      "Save blob masks: 4.97\n",
      "Save blob contours, save: 7.63\n",
      "Compute blob properties, save: 9.77\n",
      "Processing section: 350\n"
     ]
    },
    {
     "name": "stdout",
     "output_type": "stream",
     "text": [
      "cp /oasis/projects/nsf/csd395/yuncong/CSHL_data_processed/MD602/MD602_lossless_alignedTo_MD602-N49-2015.12.01-18.41.46_MD602_2_0146_cropped_compressed/MD602-IHC72-2015.12.02-02.58.54_MD602_1_0214_lossless_alignedTo_MD602-N49-2015.12.01-18.41.46_MD602_2_0146_cropped_compressed.jpg /home/yuncong/csd395/CSHL_cells_v2/detected_cells/MD602/MD602-IHC72-2015.12.02-02.58.54_MD602_1_0214/MD602-IHC72-2015.12.02-02.58.54_MD602_1_0214_image.jpg\n"
     ]
    },
    {
     "name": "stderr",
     "output_type": "stream",
     "text": [
      "Child returned 0\n",
      "Load mask: 14.25\n",
      "regionprops: 2.14\n",
      "44206 blobs identified.\n",
      "Save blob coords: 2.41\n",
      "Save blob masks: 4.92\n",
      "Save blob contours, save: 7.56\n",
      "Compute blob properties, save: 9.81\n",
      "Processing section: 351\n"
     ]
    },
    {
     "name": "stdout",
     "output_type": "stream",
     "text": [
      "cp /oasis/projects/nsf/csd395/yuncong/CSHL_data_processed/MD602/MD602_lossless_alignedTo_MD602-N49-2015.12.01-18.41.46_MD602_2_0146_cropped_compressed/MD602-N72-2015.12.01-20.32.51_MD602_2_0215_lossless_alignedTo_MD602-N49-2015.12.01-18.41.46_MD602_2_0146_cropped_compressed.jpg /home/yuncong/csd395/CSHL_cells_v2/detected_cells/MD602/MD602-N72-2015.12.01-20.32.51_MD602_2_0215/MD602-N72-2015.12.01-20.32.51_MD602_2_0215_image.jpg\n"
     ]
    },
    {
     "name": "stderr",
     "output_type": "stream",
     "text": [
      "Child returned 0\n",
      "Load mask: 14.31\n",
      "regionprops: 2.15\n",
      "43848 blobs identified.\n",
      "Save blob coords: 2.54\n",
      "Save blob masks: 4.86\n",
      "Save blob contours, save: 7.36\n",
      "Compute blob properties, save: 9.48\n",
      "Processing section: 352\n"
     ]
    },
    {
     "name": "stdout",
     "output_type": "stream",
     "text": [
      "cp /oasis/projects/nsf/csd395/yuncong/CSHL_data_processed/MD602/MD602_lossless_alignedTo_MD602-N49-2015.12.01-18.41.46_MD602_2_0146_cropped_compressed/MD602-IHC72-2015.12.02-02.58.54_MD602_2_0215_lossless_alignedTo_MD602-N49-2015.12.01-18.41.46_MD602_2_0146_cropped_compressed.jpg /home/yuncong/csd395/CSHL_cells_v2/detected_cells/MD602/MD602-IHC72-2015.12.02-02.58.54_MD602_2_0215/MD602-IHC72-2015.12.02-02.58.54_MD602_2_0215_image.jpg\n"
     ]
    },
    {
     "name": "stderr",
     "output_type": "stream",
     "text": [
      "Child returned 0\n",
      "Load mask: 14.29\n",
      "regionprops: 2.27\n",
      "41237 blobs identified.\n",
      "Save blob coords: 2.56\n",
      "Save blob masks: 4.83\n",
      "Save blob contours, save: 7.21\n",
      "Compute blob properties, save: 9.51\n",
      "Processing section: 353\n"
     ]
    },
    {
     "name": "stdout",
     "output_type": "stream",
     "text": [
      "cp /oasis/projects/nsf/csd395/yuncong/CSHL_data_processed/MD602/MD602_lossless_alignedTo_MD602-N49-2015.12.01-18.41.46_MD602_2_0146_cropped_compressed/MD602-N72-2015.12.01-20.32.51_MD602_3_0216_lossless_alignedTo_MD602-N49-2015.12.01-18.41.46_MD602_2_0146_cropped_compressed.jpg /home/yuncong/csd395/CSHL_cells_v2/detected_cells/MD602/MD602-N72-2015.12.01-20.32.51_MD602_3_0216/MD602-N72-2015.12.01-20.32.51_MD602_3_0216_image.jpg\n"
     ]
    },
    {
     "name": "stderr",
     "output_type": "stream",
     "text": [
      "Child returned 0\n",
      "Load mask: 14.28\n",
      "regionprops: 2.15\n",
      "42792 blobs identified.\n",
      "Save blob coords: 2.33\n",
      "Save blob masks: 4.57\n",
      "Save blob contours, save: 7.63\n",
      "Compute blob properties, save: 9.10\n",
      "Processing section: 354\n"
     ]
    },
    {
     "name": "stdout",
     "output_type": "stream",
     "text": [
      "cp /oasis/projects/nsf/csd395/yuncong/CSHL_data_processed/MD602/MD602_lossless_alignedTo_MD602-N49-2015.12.01-18.41.46_MD602_2_0146_cropped_compressed/MD602-IHC72-2015.12.02-02.58.54_MD602_3_0216_lossless_alignedTo_MD602-N49-2015.12.01-18.41.46_MD602_2_0146_cropped_compressed.jpg /home/yuncong/csd395/CSHL_cells_v2/detected_cells/MD602/MD602-IHC72-2015.12.02-02.58.54_MD602_3_0216/MD602-IHC72-2015.12.02-02.58.54_MD602_3_0216_image.jpg\n"
     ]
    },
    {
     "name": "stderr",
     "output_type": "stream",
     "text": [
      "Child returned 0\n",
      "Load mask: 14.53\n",
      "regionprops: 2.45\n",
      "43390 blobs identified.\n",
      "Save blob coords: 2.37\n",
      "Save blob masks: 4.76\n",
      "Save blob contours, save: 7.48\n",
      "Compute blob properties, save: 9.30\n",
      "Processing section: 355\n"
     ]
    },
    {
     "name": "stdout",
     "output_type": "stream",
     "text": [
      "cp /oasis/projects/nsf/csd395/yuncong/CSHL_data_processed/MD602/MD602_lossless_alignedTo_MD602-N49-2015.12.01-18.41.46_MD602_2_0146_cropped_compressed/MD602-N73-2015.12.01-20.37.44_MD602_1_0217_lossless_alignedTo_MD602-N49-2015.12.01-18.41.46_MD602_2_0146_cropped_compressed.jpg /home/yuncong/csd395/CSHL_cells_v2/detected_cells/MD602/MD602-N73-2015.12.01-20.37.44_MD602_1_0217/MD602-N73-2015.12.01-20.37.44_MD602_1_0217_image.jpg\n"
     ]
    },
    {
     "name": "stderr",
     "output_type": "stream",
     "text": [
      "Child returned 0\n",
      "Load mask: 14.28\n",
      "regionprops: 2.47\n",
      "41824 blobs identified.\n",
      "Save blob coords: 2.38\n",
      "Save blob masks: 4.64\n",
      "Save blob contours, save: 7.46\n",
      "Compute blob properties, save: 9.09\n",
      "Processing section: 356\n"
     ]
    },
    {
     "name": "stdout",
     "output_type": "stream",
     "text": [
      "cp /oasis/projects/nsf/csd395/yuncong/CSHL_data_processed/MD602/MD602_lossless_alignedTo_MD602-N49-2015.12.01-18.41.46_MD602_2_0146_cropped_compressed/MD602-IHC73-2015.12.02-03.03.52_MD602_1_0217_lossless_alignedTo_MD602-N49-2015.12.01-18.41.46_MD602_2_0146_cropped_compressed.jpg /home/yuncong/csd395/CSHL_cells_v2/detected_cells/MD602/MD602-IHC73-2015.12.02-03.03.52_MD602_1_0217/MD602-IHC73-2015.12.02-03.03.52_MD602_1_0217_image.jpg\n"
     ]
    },
    {
     "name": "stderr",
     "output_type": "stream",
     "text": [
      "Child returned 0\n",
      "Load mask: 14.53\n",
      "regionprops: 2.43\n",
      "41708 blobs identified.\n",
      "Save blob coords: 2.40\n",
      "Save blob masks: 4.63\n",
      "Save blob contours, save: 7.32\n",
      "Compute blob properties, save: 9.03\n",
      "Processing section: 357\n"
     ]
    },
    {
     "name": "stdout",
     "output_type": "stream",
     "text": [
      "cp /oasis/projects/nsf/csd395/yuncong/CSHL_data_processed/MD602/MD602_lossless_alignedTo_MD602-N49-2015.12.01-18.41.46_MD602_2_0146_cropped_compressed/MD602-N73-2015.12.01-20.37.44_MD602_2_0218_lossless_alignedTo_MD602-N49-2015.12.01-18.41.46_MD602_2_0146_cropped_compressed.jpg /home/yuncong/csd395/CSHL_cells_v2/detected_cells/MD602/MD602-N73-2015.12.01-20.37.44_MD602_2_0218/MD602-N73-2015.12.01-20.37.44_MD602_2_0218_image.jpg\n"
     ]
    },
    {
     "name": "stderr",
     "output_type": "stream",
     "text": [
      "Child returned 0\n",
      "Load mask: 14.44\n",
      "regionprops: 2.39\n",
      "40042 blobs identified.\n",
      "Save blob coords: 2.34\n",
      "Save blob masks: 4.54\n",
      "Save blob contours, save: 6.99\n",
      "Compute blob properties, save: 8.78\n",
      "Processing section: 358\n"
     ]
    },
    {
     "name": "stdout",
     "output_type": "stream",
     "text": [
      "cp /oasis/projects/nsf/csd395/yuncong/CSHL_data_processed/MD602/MD602_lossless_alignedTo_MD602-N49-2015.12.01-18.41.46_MD602_2_0146_cropped_compressed/MD602-IHC73-2015.12.02-03.03.52_MD602_2_0218_lossless_alignedTo_MD602-N49-2015.12.01-18.41.46_MD602_2_0146_cropped_compressed.jpg /home/yuncong/csd395/CSHL_cells_v2/detected_cells/MD602/MD602-IHC73-2015.12.02-03.03.52_MD602_2_0218/MD602-IHC73-2015.12.02-03.03.52_MD602_2_0218_image.jpg\n"
     ]
    },
    {
     "name": "stderr",
     "output_type": "stream",
     "text": [
      "Child returned 0\n",
      "Load mask: 14.56\n",
      "regionprops: 2.36\n",
      "41728 blobs identified.\n",
      "Save blob coords: 2.32\n",
      "Save blob masks: 4.61\n",
      "Save blob contours, save: 7.42\n",
      "Compute blob properties, save: 9.24\n",
      "Processing section: 359\n"
     ]
    },
    {
     "name": "stdout",
     "output_type": "stream",
     "text": [
      "cp /oasis/projects/nsf/csd395/yuncong/CSHL_data_processed/MD602/MD602_lossless_alignedTo_MD602-N49-2015.12.01-18.41.46_MD602_2_0146_cropped_compressed/MD602-N73-2015.12.01-20.37.44_MD602_3_0219_lossless_alignedTo_MD602-N49-2015.12.01-18.41.46_MD602_2_0146_cropped_compressed.jpg /home/yuncong/csd395/CSHL_cells_v2/detected_cells/MD602/MD602-N73-2015.12.01-20.37.44_MD602_3_0219/MD602-N73-2015.12.01-20.37.44_MD602_3_0219_image.jpg\n"
     ]
    },
    {
     "name": "stderr",
     "output_type": "stream",
     "text": [
      "Child returned 0\n",
      "Load mask: 14.55\n",
      "regionprops: 2.16\n",
      "41445 blobs identified.\n",
      "Save blob coords: 2.31\n",
      "Save blob masks: 4.61\n",
      "Save blob contours, save: 7.20\n",
      "Compute blob properties, save: 8.94\n",
      "Processing section: 360\n"
     ]
    },
    {
     "name": "stdout",
     "output_type": "stream",
     "text": [
      "cp /oasis/projects/nsf/csd395/yuncong/CSHL_data_processed/MD602/MD602_lossless_alignedTo_MD602-N49-2015.12.01-18.41.46_MD602_2_0146_cropped_compressed/MD602-IHC73-2015.12.02-03.03.52_MD602_3_0219_lossless_alignedTo_MD602-N49-2015.12.01-18.41.46_MD602_2_0146_cropped_compressed.jpg /home/yuncong/csd395/CSHL_cells_v2/detected_cells/MD602/MD602-IHC73-2015.12.02-03.03.52_MD602_3_0219/MD602-IHC73-2015.12.02-03.03.52_MD602_3_0219_image.jpg\n"
     ]
    },
    {
     "name": "stderr",
     "output_type": "stream",
     "text": [
      "Child returned 0\n",
      "Load mask: 14.32\n",
      "regionprops: 2.40\n",
      "41900 blobs identified.\n",
      "Save blob coords: 2.29\n",
      "Save blob masks: 4.60\n",
      "Save blob contours, save: 7.16\n",
      "Compute blob properties, save: 9.12\n",
      "Processing section: 361\n"
     ]
    },
    {
     "name": "stdout",
     "output_type": "stream",
     "text": [
      "cp /oasis/projects/nsf/csd395/yuncong/CSHL_data_processed/MD602/MD602_lossless_alignedTo_MD602-N49-2015.12.01-18.41.46_MD602_2_0146_cropped_compressed/MD602-N74-2015.12.01-20.42.32_MD602_1_0220_lossless_alignedTo_MD602-N49-2015.12.01-18.41.46_MD602_2_0146_cropped_compressed.jpg /home/yuncong/csd395/CSHL_cells_v2/detected_cells/MD602/MD602-N74-2015.12.01-20.42.32_MD602_1_0220/MD602-N74-2015.12.01-20.42.32_MD602_1_0220_image.jpg\n"
     ]
    },
    {
     "name": "stderr",
     "output_type": "stream",
     "text": [
      "Child returned 0\n",
      "Load mask: 14.31\n",
      "regionprops: 2.46\n",
      "40294 blobs identified.\n",
      "Save blob coords: 2.45\n",
      "Save blob masks: 4.66\n",
      "Save blob contours, save: 7.21\n",
      "Compute blob properties, save: 9.05\n",
      "Processing section: 362\n"
     ]
    },
    {
     "name": "stdout",
     "output_type": "stream",
     "text": [
      "cp /oasis/projects/nsf/csd395/yuncong/CSHL_data_processed/MD602/MD602_lossless_alignedTo_MD602-N49-2015.12.01-18.41.46_MD602_2_0146_cropped_compressed/MD602-IHC74-2015.12.02-03.08.43_MD602_1_0220_lossless_alignedTo_MD602-N49-2015.12.01-18.41.46_MD602_2_0146_cropped_compressed.jpg /home/yuncong/csd395/CSHL_cells_v2/detected_cells/MD602/MD602-IHC74-2015.12.02-03.08.43_MD602_1_0220/MD602-IHC74-2015.12.02-03.08.43_MD602_1_0220_image.jpg\n"
     ]
    },
    {
     "name": "stderr",
     "output_type": "stream",
     "text": [
      "Child returned 0\n",
      "Load mask: 14.31\n",
      "regionprops: 2.43\n",
      "40723 blobs identified.\n",
      "Save blob coords: 2.37\n",
      "Save blob masks: 4.55\n",
      "Save blob contours, save: 7.24\n",
      "Compute blob properties, save: 8.97\n",
      "Processing section: 363\n"
     ]
    },
    {
     "name": "stdout",
     "output_type": "stream",
     "text": [
      "cp /oasis/projects/nsf/csd395/yuncong/CSHL_data_processed/MD602/MD602_lossless_alignedTo_MD602-N49-2015.12.01-18.41.46_MD602_2_0146_cropped_compressed/MD602-N74-2015.12.01-20.42.32_MD602_2_0221_lossless_alignedTo_MD602-N49-2015.12.01-18.41.46_MD602_2_0146_cropped_compressed.jpg /home/yuncong/csd395/CSHL_cells_v2/detected_cells/MD602/MD602-N74-2015.12.01-20.42.32_MD602_2_0221/MD602-N74-2015.12.01-20.42.32_MD602_2_0221_image.jpg\n"
     ]
    },
    {
     "name": "stderr",
     "output_type": "stream",
     "text": [
      "Child returned 0\n",
      "Load mask: 14.42\n",
      "regionprops: 2.35\n",
      "40580 blobs identified.\n",
      "Save blob coords: 2.29\n",
      "Save blob masks: 4.48\n",
      "Save blob contours, save: 7.09\n",
      "Compute blob properties, save: 8.92\n",
      "Processing section: 364\n"
     ]
    },
    {
     "name": "stdout",
     "output_type": "stream",
     "text": [
      "cp /oasis/projects/nsf/csd395/yuncong/CSHL_data_processed/MD602/MD602_lossless_alignedTo_MD602-N49-2015.12.01-18.41.46_MD602_2_0146_cropped_compressed/MD602-IHC74-2015.12.02-03.08.43_MD602_2_0221_lossless_alignedTo_MD602-N49-2015.12.01-18.41.46_MD602_2_0146_cropped_compressed.jpg /home/yuncong/csd395/CSHL_cells_v2/detected_cells/MD602/MD602-IHC74-2015.12.02-03.08.43_MD602_2_0221/MD602-IHC74-2015.12.02-03.08.43_MD602_2_0221_image.jpg\n"
     ]
    },
    {
     "name": "stderr",
     "output_type": "stream",
     "text": [
      "Child returned 0\n",
      "Load mask: 14.31\n",
      "regionprops: 2.17\n",
      "40278 blobs identified.\n",
      "Save blob coords: 2.28\n",
      "Save blob masks: 4.62\n",
      "Save blob contours, save: 7.12\n",
      "Compute blob properties, save: 8.59\n",
      "Processing section: 366\n"
     ]
    },
    {
     "name": "stdout",
     "output_type": "stream",
     "text": [
      "cp /oasis/projects/nsf/csd395/yuncong/CSHL_data_processed/MD602/MD602_lossless_alignedTo_MD602-N49-2015.12.01-18.41.46_MD602_2_0146_cropped_compressed/MD602-IHC74-2015.12.02-03.08.43_MD602_3_0222_lossless_alignedTo_MD602-N49-2015.12.01-18.41.46_MD602_2_0146_cropped_compressed.jpg /home/yuncong/csd395/CSHL_cells_v2/detected_cells/MD602/MD602-IHC74-2015.12.02-03.08.43_MD602_3_0222/MD602-IHC74-2015.12.02-03.08.43_MD602_3_0222_image.jpg\n"
     ]
    },
    {
     "name": "stderr",
     "output_type": "stream",
     "text": [
      "Child returned 0\n",
      "Load mask: 14.51\n",
      "regionprops: 2.39\n",
      "40640 blobs identified.\n",
      "Save blob coords: 2.18\n",
      "Save blob masks: 4.35\n",
      "Save blob contours, save: 6.99\n",
      "Compute blob properties, save: 8.63\n",
      "Processing section: 368\n"
     ]
    },
    {
     "name": "stdout",
     "output_type": "stream",
     "text": [
      "cp /oasis/projects/nsf/csd395/yuncong/CSHL_data_processed/MD602/MD602_lossless_alignedTo_MD602-N49-2015.12.01-18.41.46_MD602_2_0146_cropped_compressed/MD602-IHC75-2015.12.02-03.13.25_MD602_1_0223_lossless_alignedTo_MD602-N49-2015.12.01-18.41.46_MD602_2_0146_cropped_compressed.jpg /home/yuncong/csd395/CSHL_cells_v2/detected_cells/MD602/MD602-IHC75-2015.12.02-03.13.25_MD602_1_0223/MD602-IHC75-2015.12.02-03.13.25_MD602_1_0223_image.jpg\n"
     ]
    },
    {
     "name": "stderr",
     "output_type": "stream",
     "text": [
      "Child returned 0\n",
      "Load mask: 14.37\n",
      "regionprops: 2.37\n",
      "40331 blobs identified.\n",
      "Save blob coords: 2.29\n",
      "Save blob masks: 4.45\n",
      "Save blob contours, save: 7.10\n",
      "Compute blob properties, save: 8.87\n",
      "Processing section: 369\n"
     ]
    },
    {
     "name": "stdout",
     "output_type": "stream",
     "text": [
      "cp /oasis/projects/nsf/csd395/yuncong/CSHL_data_processed/MD602/MD602_lossless_alignedTo_MD602-N49-2015.12.01-18.41.46_MD602_2_0146_cropped_compressed/MD602-N75-2015.12.01-20.46.17_MD602_2_0224_lossless_alignedTo_MD602-N49-2015.12.01-18.41.46_MD602_2_0146_cropped_compressed.jpg /home/yuncong/csd395/CSHL_cells_v2/detected_cells/MD602/MD602-N75-2015.12.01-20.46.17_MD602_2_0224/MD602-N75-2015.12.01-20.46.17_MD602_2_0224_image.jpg\n"
     ]
    },
    {
     "name": "stderr",
     "output_type": "stream",
     "text": [
      "Child returned 0\n",
      "Load mask: 14.30\n",
      "regionprops: 2.20\n",
      "39323 blobs identified.\n",
      "Save blob coords: 2.25\n",
      "Save blob masks: 4.48\n",
      "Save blob contours, save: 6.81\n",
      "Compute blob properties, save: 8.58\n",
      "Processing section: 061\n"
     ]
    },
    {
     "name": "stdout",
     "output_type": "stream",
     "text": [
      "cp /oasis/projects/nsf/csd395/yuncong/CSHL_data_processed/MD603/MD603_lossless_alignedTo_MD603-N60-2015.12.03-23.57.05_MD603_2_0179_cropped_compressed/MD603-N11-2016.03.02-12.51.47_MD603_1_0031_lossless_alignedTo_MD603-N60-2015.12.03-23.57.05_MD603_2_0179_cropped_compressed.jpg /home/yuncong/csd395/CSHL_cells_v2/detected_cells/MD603/MD603-N11-2016.03.02-12.51.47_MD603_1_0031/MD603-N11-2016.03.02-12.51.47_MD603_1_0031_image.jpg\n"
     ]
    },
    {
     "name": "stderr",
     "output_type": "stream",
     "text": [
      "Child returned 0\n",
      "Load mask: 14.80\n",
      "regionprops: 2.35\n",
      "32557 blobs identified.\n",
      "Save blob coords: 2.14\n",
      "Save blob masks: 3.82\n",
      "Save blob contours, save: 5.82\n",
      "Compute blob properties, save: 7.57\n",
      "Processing section: 062\n"
     ]
    },
    {
     "name": "stdout",
     "output_type": "stream",
     "text": [
      "cp /oasis/projects/nsf/csd395/yuncong/CSHL_data_processed/MD603/MD603_lossless_alignedTo_MD603-N60-2015.12.03-23.57.05_MD603_2_0179_cropped_compressed/MD603-IHC11-2015.12.03-14.10.59_MD603_3_0031_lossless_alignedTo_MD603-N60-2015.12.03-23.57.05_MD603_2_0179_cropped_compressed.jpg /home/yuncong/csd395/CSHL_cells_v2/detected_cells/MD603/MD603-IHC11-2015.12.03-14.10.59_MD603_3_0031/MD603-IHC11-2015.12.03-14.10.59_MD603_3_0031_image.jpg\n"
     ]
    },
    {
     "name": "stderr",
     "output_type": "stream",
     "text": [
      "Child returned 0\n",
      "Load mask: 14.67\n",
      "regionprops: 2.02\n",
      "32471 blobs identified.\n",
      "Save blob coords: 1.86\n",
      "Save blob masks: 3.73\n",
      "Save blob contours, save: 5.73\n",
      "Compute blob properties, save: 7.10\n",
      "Processing section: 063\n"
     ]
    },
    {
     "name": "stdout",
     "output_type": "stream",
     "text": [
      "cp /oasis/projects/nsf/csd395/yuncong/CSHL_data_processed/MD603/MD603_lossless_alignedTo_MD603-N60-2015.12.03-23.57.05_MD603_2_0179_cropped_compressed/MD603-N11-2016.03.02-12.51.47_MD603_2_0032_lossless_alignedTo_MD603-N60-2015.12.03-23.57.05_MD603_2_0179_cropped_compressed.jpg /home/yuncong/csd395/CSHL_cells_v2/detected_cells/MD603/MD603-N11-2016.03.02-12.51.47_MD603_2_0032/MD603-N11-2016.03.02-12.51.47_MD603_2_0032_image.jpg\n"
     ]
    },
    {
     "name": "stderr",
     "output_type": "stream",
     "text": [
      "Child returned 0\n",
      "Load mask: 14.89\n",
      "regionprops: 2.32\n",
      "32359 blobs identified.\n",
      "Save blob coords: 1.97\n",
      "Save blob masks: 3.66\n",
      "Save blob contours, save: 5.75\n",
      "Compute blob properties, save: 7.12\n",
      "Processing section: 064\n"
     ]
    },
    {
     "name": "stdout",
     "output_type": "stream",
     "text": [
      "cp /oasis/projects/nsf/csd395/yuncong/CSHL_data_processed/MD603/MD603_lossless_alignedTo_MD603-N60-2015.12.03-23.57.05_MD603_2_0179_cropped_compressed/MD603-IHC11-2015.12.03-14.10.59_MD603_2_0032_lossless_alignedTo_MD603-N60-2015.12.03-23.57.05_MD603_2_0179_cropped_compressed.jpg /home/yuncong/csd395/CSHL_cells_v2/detected_cells/MD603/MD603-IHC11-2015.12.03-14.10.59_MD603_2_0032/MD603-IHC11-2015.12.03-14.10.59_MD603_2_0032_image.jpg\n"
     ]
    },
    {
     "name": "stderr",
     "output_type": "stream",
     "text": [
      "Child returned 0\n",
      "Load mask: 86.09\n",
      "regionprops: 2.37\n",
      "33126 blobs identified.\n",
      "Save blob coords: 1.94\n",
      "Save blob masks: 3.82\n",
      "Save blob contours, save: 6.11\n",
      "Compute blob properties, save: 7.56\n",
      "Processing section: 065\n"
     ]
    },
    {
     "name": "stdout",
     "output_type": "stream",
     "text": [
      "cp /oasis/projects/nsf/csd395/yuncong/CSHL_data_processed/MD603/MD603_lossless_alignedTo_MD603-N60-2015.12.03-23.57.05_MD603_2_0179_cropped_compressed/MD603-N11-2016.03.02-12.51.47_MD603_3_0033_lossless_alignedTo_MD603-N60-2015.12.03-23.57.05_MD603_2_0179_cropped_compressed.jpg /home/yuncong/csd395/CSHL_cells_v2/detected_cells/MD603/MD603-N11-2016.03.02-12.51.47_MD603_3_0033/MD603-N11-2016.03.02-12.51.47_MD603_3_0033_image.jpg\n"
     ]
    },
    {
     "name": "stderr",
     "output_type": "stream",
     "text": [
      "Child returned 0\n",
      "Load mask: 14.93\n",
      "regionprops: 2.38\n",
      "37028 blobs identified.\n",
      "Save blob coords: 2.16\n",
      "Save blob masks: 4.17\n",
      "Save blob contours, save: 6.56\n",
      "Compute blob properties, save: 8.13\n",
      "Processing section: 066\n"
     ]
    },
    {
     "name": "stdout",
     "output_type": "stream",
     "text": [
      "cp /oasis/projects/nsf/csd395/yuncong/CSHL_data_processed/MD603/MD603_lossless_alignedTo_MD603-N60-2015.12.03-23.57.05_MD603_2_0179_cropped_compressed/MD603-IHC11-2015.12.03-14.10.59_MD603_1_0033_lossless_alignedTo_MD603-N60-2015.12.03-23.57.05_MD603_2_0179_cropped_compressed.jpg /home/yuncong/csd395/CSHL_cells_v2/detected_cells/MD603/MD603-IHC11-2015.12.03-14.10.59_MD603_1_0033/MD603-IHC11-2015.12.03-14.10.59_MD603_1_0033_image.jpg\n"
     ]
    },
    {
     "name": "stderr",
     "output_type": "stream",
     "text": [
      "Child returned 0\n",
      "Load mask: 14.84\n",
      "regionprops: 2.19\n",
      "33177 blobs identified.\n",
      "Save blob coords: 2.01\n",
      "Save blob masks: 3.89\n",
      "Save blob contours, save: 5.94\n",
      "Compute blob properties, save: 7.48\n",
      "Processing section: 067\n"
     ]
    },
    {
     "name": "stdout",
     "output_type": "stream",
     "text": [
      "cp /oasis/projects/nsf/csd395/yuncong/CSHL_data_processed/MD603/MD603_lossless_alignedTo_MD603-N60-2015.12.03-23.57.05_MD603_2_0179_cropped_compressed/MD603-N12-2015.12.03-20.36.17_MD603_3_0034_lossless_alignedTo_MD603-N60-2015.12.03-23.57.05_MD603_2_0179_cropped_compressed.jpg /home/yuncong/csd395/CSHL_cells_v2/detected_cells/MD603/MD603-N12-2015.12.03-20.36.17_MD603_3_0034/MD603-N12-2015.12.03-20.36.17_MD603_3_0034_image.jpg\n"
     ]
    },
    {
     "name": "stderr",
     "output_type": "stream",
     "text": [
      "Child returned 0\n",
      "Load mask: 14.67\n",
      "regionprops: 2.06\n",
      "29345 blobs identified.\n",
      "Save blob coords: 1.97\n",
      "Save blob masks: 3.65\n",
      "Save blob contours, save: 5.33\n",
      "Compute blob properties, save: 6.98\n",
      "Processing section: 068\n"
     ]
    },
    {
     "name": "stdout",
     "output_type": "stream",
     "text": [
      "cp /oasis/projects/nsf/csd395/yuncong/CSHL_data_processed/MD603/MD603_lossless_alignedTo_MD603-N60-2015.12.03-23.57.05_MD603_2_0179_cropped_compressed/MD603-IHC12-2015.12.03-14.14.53_MD603_3_0034_lossless_alignedTo_MD603-N60-2015.12.03-23.57.05_MD603_2_0179_cropped_compressed.jpg /home/yuncong/csd395/CSHL_cells_v2/detected_cells/MD603/MD603-IHC12-2015.12.03-14.14.53_MD603_3_0034/MD603-IHC12-2015.12.03-14.14.53_MD603_3_0034_image.jpg\n"
     ]
    },
    {
     "name": "stderr",
     "output_type": "stream",
     "text": [
      "Child returned 0\n",
      "Load mask: 14.83\n",
      "regionprops: 2.16\n",
      "38513 blobs identified.\n",
      "Save blob coords: 2.33\n",
      "Save blob masks: 4.44\n",
      "Save blob contours, save: 6.84\n",
      "Compute blob properties, save: 8.38\n",
      "Processing section: 069\n"
     ]
    },
    {
     "name": "stdout",
     "output_type": "stream",
     "text": [
      "cp /oasis/projects/nsf/csd395/yuncong/CSHL_data_processed/MD603/MD603_lossless_alignedTo_MD603-N60-2015.12.03-23.57.05_MD603_2_0179_cropped_compressed/MD603-N12-2015.12.03-20.36.17_MD603_2_0035_lossless_alignedTo_MD603-N60-2015.12.03-23.57.05_MD603_2_0179_cropped_compressed.jpg /home/yuncong/csd395/CSHL_cells_v2/detected_cells/MD603/MD603-N12-2015.12.03-20.36.17_MD603_2_0035/MD603-N12-2015.12.03-20.36.17_MD603_2_0035_image.jpg\n"
     ]
    },
    {
     "name": "stderr",
     "output_type": "stream",
     "text": [
      "Child returned 0\n",
      "Load mask: 14.67\n",
      "regionprops: 2.44\n",
      "37441 blobs identified.\n",
      "Save blob coords: 2.23\n",
      "Save blob masks: 4.19\n",
      "Save blob contours, save: 6.61\n",
      "Compute blob properties, save: 8.32\n",
      "Processing section: 070\n"
     ]
    },
    {
     "name": "stdout",
     "output_type": "stream",
     "text": [
      "cp /oasis/projects/nsf/csd395/yuncong/CSHL_data_processed/MD603/MD603_lossless_alignedTo_MD603-N60-2015.12.03-23.57.05_MD603_2_0179_cropped_compressed/MD603-IHC12-2015.12.03-14.14.53_MD603_2_0035_lossless_alignedTo_MD603-N60-2015.12.03-23.57.05_MD603_2_0179_cropped_compressed.jpg /home/yuncong/csd395/CSHL_cells_v2/detected_cells/MD603/MD603-IHC12-2015.12.03-14.14.53_MD603_2_0035/MD603-IHC12-2015.12.03-14.14.53_MD603_2_0035_image.jpg\n"
     ]
    },
    {
     "name": "stderr",
     "output_type": "stream",
     "text": [
      "Child returned 0\n",
      "Load mask: 14.77\n",
      "regionprops: 2.41\n",
      "38807 blobs identified.\n",
      "Save blob coords: 2.23\n",
      "Save blob masks: 4.35\n",
      "Save blob contours, save: 6.65\n",
      "Compute blob properties, save: 8.47\n",
      "Processing section: 071\n"
     ]
    },
    {
     "name": "stdout",
     "output_type": "stream",
     "text": [
      "cp /oasis/projects/nsf/csd395/yuncong/CSHL_data_processed/MD603/MD603_lossless_alignedTo_MD603-N60-2015.12.03-23.57.05_MD603_2_0179_cropped_compressed/MD603-N12-2015.12.03-20.36.17_MD603_1_0036_lossless_alignedTo_MD603-N60-2015.12.03-23.57.05_MD603_2_0179_cropped_compressed.jpg /home/yuncong/csd395/CSHL_cells_v2/detected_cells/MD603/MD603-N12-2015.12.03-20.36.17_MD603_1_0036/MD603-N12-2015.12.03-20.36.17_MD603_1_0036_image.jpg\n"
     ]
    },
    {
     "name": "stderr",
     "output_type": "stream",
     "text": [
      "Child returned 0\n",
      "Load mask: 14.77\n",
      "regionprops: 2.45\n",
      "33308 blobs identified.\n",
      "Save blob coords: 2.03\n",
      "Save blob masks: 3.85\n",
      "Save blob contours, save: 5.94\n",
      "Compute blob properties, save: 7.53\n",
      "Processing section: 072\n"
     ]
    },
    {
     "name": "stdout",
     "output_type": "stream",
     "text": [
      "cp /oasis/projects/nsf/csd395/yuncong/CSHL_data_processed/MD603/MD603_lossless_alignedTo_MD603-N60-2015.12.03-23.57.05_MD603_2_0179_cropped_compressed/MD603-IHC12-2015.12.03-14.14.53_MD603_1_0036_lossless_alignedTo_MD603-N60-2015.12.03-23.57.05_MD603_2_0179_cropped_compressed.jpg /home/yuncong/csd395/CSHL_cells_v2/detected_cells/MD603/MD603-IHC12-2015.12.03-14.14.53_MD603_1_0036/MD603-IHC12-2015.12.03-14.14.53_MD603_1_0036_image.jpg\n"
     ]
    },
    {
     "name": "stderr",
     "output_type": "stream",
     "text": [
      "Child returned 0\n",
      "Load mask: 14.81\n",
      "regionprops: 2.38\n",
      "39011 blobs identified.\n",
      "Save blob coords: 2.29\n",
      "Save blob masks: 4.42\n",
      "Save blob contours, save: 6.88\n",
      "Compute blob properties, save: 8.58\n",
      "Processing section: 073\n"
     ]
    },
    {
     "name": "stdout",
     "output_type": "stream",
     "text": [
      "cp /oasis/projects/nsf/csd395/yuncong/CSHL_data_processed/MD603/MD603_lossless_alignedTo_MD603-N60-2015.12.03-23.57.05_MD603_2_0179_cropped_compressed/MD603-N13-2015.12.03-20.40.12_MD603_3_0037_lossless_alignedTo_MD603-N60-2015.12.03-23.57.05_MD603_2_0179_cropped_compressed.jpg /home/yuncong/csd395/CSHL_cells_v2/detected_cells/MD603/MD603-N13-2015.12.03-20.40.12_MD603_3_0037/MD603-N13-2015.12.03-20.40.12_MD603_3_0037_image.jpg\n"
     ]
    },
    {
     "name": "stderr",
     "output_type": "stream",
     "text": [
      "Child returned 0\n",
      "Load mask: 14.67\n",
      "regionprops: 2.15\n",
      "38449 blobs identified.\n",
      "Save blob coords: 2.35\n",
      "Save blob masks: 4.51\n",
      "Save blob contours, save: 6.74\n",
      "Compute blob properties, save: 8.63\n",
      "Processing section: 074\n"
     ]
    },
    {
     "name": "stdout",
     "output_type": "stream",
     "text": [
      "cp /oasis/projects/nsf/csd395/yuncong/CSHL_data_processed/MD603/MD603_lossless_alignedTo_MD603-N60-2015.12.03-23.57.05_MD603_2_0179_cropped_compressed/MD603-IHC13-2015.12.03-14.19.39_MD603_3_0037_lossless_alignedTo_MD603-N60-2015.12.03-23.57.05_MD603_2_0179_cropped_compressed.jpg /home/yuncong/csd395/CSHL_cells_v2/detected_cells/MD603/MD603-IHC13-2015.12.03-14.19.39_MD603_3_0037/MD603-IHC13-2015.12.03-14.19.39_MD603_3_0037_image.jpg\n"
     ]
    },
    {
     "name": "stderr",
     "output_type": "stream",
     "text": [
      "Child returned 0\n",
      "Load mask: 14.81\n",
      "regionprops: 2.47\n",
      "39366 blobs identified.\n",
      "Save blob coords: 2.23\n",
      "Save blob masks: 4.36\n",
      "Save blob contours, save: 6.94\n",
      "Compute blob properties, save: 8.69\n",
      "Processing section: 075\n"
     ]
    },
    {
     "name": "stdout",
     "output_type": "stream",
     "text": [
      "cp /oasis/projects/nsf/csd395/yuncong/CSHL_data_processed/MD603/MD603_lossless_alignedTo_MD603-N60-2015.12.03-23.57.05_MD603_2_0179_cropped_compressed/MD603-N13-2015.12.03-20.40.12_MD603_2_0038_lossless_alignedTo_MD603-N60-2015.12.03-23.57.05_MD603_2_0179_cropped_compressed.jpg /home/yuncong/csd395/CSHL_cells_v2/detected_cells/MD603/MD603-N13-2015.12.03-20.40.12_MD603_2_0038/MD603-N13-2015.12.03-20.40.12_MD603_2_0038_image.jpg\n"
     ]
    },
    {
     "name": "stderr",
     "output_type": "stream",
     "text": [
      "Child returned 0\n",
      "Load mask: 14.80\n",
      "regionprops: 2.41\n",
      "39713 blobs identified.\n",
      "Save blob coords: 2.32\n",
      "Save blob masks: 4.49\n",
      "Save blob contours, save: 7.03\n",
      "Compute blob properties, save: 8.80\n",
      "Processing section: 076\n"
     ]
    },
    {
     "name": "stdout",
     "output_type": "stream",
     "text": [
      "cp /oasis/projects/nsf/csd395/yuncong/CSHL_data_processed/MD603/MD603_lossless_alignedTo_MD603-N60-2015.12.03-23.57.05_MD603_2_0179_cropped_compressed/MD603-IHC13-2015.12.03-14.19.39_MD603_2_0038_lossless_alignedTo_MD603-N60-2015.12.03-23.57.05_MD603_2_0179_cropped_compressed.jpg /home/yuncong/csd395/CSHL_cells_v2/detected_cells/MD603/MD603-IHC13-2015.12.03-14.19.39_MD603_2_0038/MD603-IHC13-2015.12.03-14.19.39_MD603_2_0038_image.jpg\n"
     ]
    },
    {
     "name": "stderr",
     "output_type": "stream",
     "text": [
      "Child returned 0\n",
      "Load mask: 14.74\n",
      "regionprops: 2.42\n",
      "40375 blobs identified.\n",
      "Save blob coords: 2.24\n",
      "Save blob masks: 4.48\n",
      "Save blob contours, save: 7.07\n",
      "Compute blob properties, save: 8.75\n",
      "Processing section: 077\n"
     ]
    },
    {
     "name": "stdout",
     "output_type": "stream",
     "text": [
      "cp /oasis/projects/nsf/csd395/yuncong/CSHL_data_processed/MD603/MD603_lossless_alignedTo_MD603-N60-2015.12.03-23.57.05_MD603_2_0179_cropped_compressed/MD603-N13-2015.12.03-20.40.12_MD603_1_0039_lossless_alignedTo_MD603-N60-2015.12.03-23.57.05_MD603_2_0179_cropped_compressed.jpg /home/yuncong/csd395/CSHL_cells_v2/detected_cells/MD603/MD603-N13-2015.12.03-20.40.12_MD603_1_0039/MD603-N13-2015.12.03-20.40.12_MD603_1_0039_image.jpg\n"
     ]
    },
    {
     "name": "stderr",
     "output_type": "stream",
     "text": [
      "Child returned 0\n",
      "Load mask: 14.66\n",
      "regionprops: 2.39\n",
      "40409 blobs identified.\n",
      "Save blob coords: 2.30\n",
      "Save blob masks: 4.56\n",
      "Save blob contours, save: 7.00\n",
      "Compute blob properties, save: 8.95\n",
      "Processing section: 078\n"
     ]
    },
    {
     "name": "stdout",
     "output_type": "stream",
     "text": [
      "cp /oasis/projects/nsf/csd395/yuncong/CSHL_data_processed/MD603/MD603_lossless_alignedTo_MD603-N60-2015.12.03-23.57.05_MD603_2_0179_cropped_compressed/MD603-IHC13-2015.12.03-14.19.39_MD603_1_0039_lossless_alignedTo_MD603-N60-2015.12.03-23.57.05_MD603_2_0179_cropped_compressed.jpg /home/yuncong/csd395/CSHL_cells_v2/detected_cells/MD603/MD603-IHC13-2015.12.03-14.19.39_MD603_1_0039/MD603-IHC13-2015.12.03-14.19.39_MD603_1_0039_image.jpg\n"
     ]
    },
    {
     "name": "stderr",
     "output_type": "stream",
     "text": [
      "Child returned 0\n",
      "Load mask: 14.88\n",
      "regionprops: 2.23\n",
      "40000 blobs identified.\n",
      "Save blob coords: 2.30\n",
      "Save blob masks: 4.50\n",
      "Save blob contours, save: 8.74\n",
      "Compute blob properties, save: 8.86\n",
      "Processing section: 079\n"
     ]
    },
    {
     "name": "stdout",
     "output_type": "stream",
     "text": [
      "cp /oasis/projects/nsf/csd395/yuncong/CSHL_data_processed/MD603/MD603_lossless_alignedTo_MD603-N60-2015.12.03-23.57.05_MD603_2_0179_cropped_compressed/MD603-N14-2015.12.03-20.45.08_MD603_3_0040_lossless_alignedTo_MD603-N60-2015.12.03-23.57.05_MD603_2_0179_cropped_compressed.jpg /home/yuncong/csd395/CSHL_cells_v2/detected_cells/MD603/MD603-N14-2015.12.03-20.45.08_MD603_3_0040/MD603-N14-2015.12.03-20.45.08_MD603_3_0040_image.jpg\n"
     ]
    },
    {
     "name": "stderr",
     "output_type": "stream",
     "text": [
      "Child returned 0\n",
      "Load mask: 14.67\n",
      "regionprops: 2.46\n",
      "39788 blobs identified.\n",
      "Save blob coords: 2.41\n",
      "Save blob masks: 4.57\n",
      "Save blob contours, save: 7.00\n",
      "Compute blob properties, save: 8.99\n",
      "Processing section: 080\n"
     ]
    },
    {
     "name": "stdout",
     "output_type": "stream",
     "text": [
      "cp /oasis/projects/nsf/csd395/yuncong/CSHL_data_processed/MD603/MD603_lossless_alignedTo_MD603-N60-2015.12.03-23.57.05_MD603_2_0179_cropped_compressed/MD603-IHC14-2015.12.03-14.23.41_MD603_3_0040_lossless_alignedTo_MD603-N60-2015.12.03-23.57.05_MD603_2_0179_cropped_compressed.jpg /home/yuncong/csd395/CSHL_cells_v2/detected_cells/MD603/MD603-IHC14-2015.12.03-14.23.41_MD603_3_0040/MD603-IHC14-2015.12.03-14.23.41_MD603_3_0040_image.jpg\n"
     ]
    },
    {
     "name": "stderr",
     "output_type": "stream",
     "text": [
      "Child returned 0\n",
      "Load mask: 14.96\n",
      "regionprops: 2.51\n",
      "41414 blobs identified.\n",
      "Save blob coords: 2.42\n",
      "Save blob masks: 4.67\n",
      "Save blob contours, save: 7.09\n",
      "Compute blob properties, save: 9.09\n",
      "Processing section: 081\n"
     ]
    },
    {
     "name": "stdout",
     "output_type": "stream",
     "text": [
      "cp /oasis/projects/nsf/csd395/yuncong/CSHL_data_processed/MD603/MD603_lossless_alignedTo_MD603-N60-2015.12.03-23.57.05_MD603_2_0179_cropped_compressed/MD603-N14-2015.12.03-20.45.08_MD603_2_0041_lossless_alignedTo_MD603-N60-2015.12.03-23.57.05_MD603_2_0179_cropped_compressed.jpg /home/yuncong/csd395/CSHL_cells_v2/detected_cells/MD603/MD603-N14-2015.12.03-20.45.08_MD603_2_0041/MD603-N14-2015.12.03-20.45.08_MD603_2_0041_image.jpg\n"
     ]
    },
    {
     "name": "stderr",
     "output_type": "stream",
     "text": [
      "Child returned 0\n",
      "Load mask: 14.66\n",
      "regionprops: 2.35\n",
      "32188 blobs identified.\n",
      "Save blob coords: 1.93\n",
      "Save blob masks: 3.70\n",
      "Save blob contours, save: 5.75\n",
      "Compute blob properties, save: 7.11\n",
      "Processing section: 082\n"
     ]
    },
    {
     "name": "stdout",
     "output_type": "stream",
     "text": [
      "cp /oasis/projects/nsf/csd395/yuncong/CSHL_data_processed/MD603/MD603_lossless_alignedTo_MD603-N60-2015.12.03-23.57.05_MD603_2_0179_cropped_compressed/MD603-IHC14-2015.12.03-14.23.41_MD603_2_0041_lossless_alignedTo_MD603-N60-2015.12.03-23.57.05_MD603_2_0179_cropped_compressed.jpg /home/yuncong/csd395/CSHL_cells_v2/detected_cells/MD603/MD603-IHC14-2015.12.03-14.23.41_MD603_2_0041/MD603-IHC14-2015.12.03-14.23.41_MD603_2_0041_image.jpg\n"
     ]
    },
    {
     "name": "stderr",
     "output_type": "stream",
     "text": [
      "Child returned 0\n",
      "Load mask: 14.79\n",
      "regionprops: 2.34\n",
      "32252 blobs identified.\n",
      "Save blob coords: 1.89\n",
      "Save blob masks: 3.69\n",
      "Save blob contours, save: 5.73\n",
      "Compute blob properties, save: 7.31\n",
      "Processing section: 083\n"
     ]
    },
    {
     "name": "stdout",
     "output_type": "stream",
     "text": [
      "cp /oasis/projects/nsf/csd395/yuncong/CSHL_data_processed/MD603/MD603_lossless_alignedTo_MD603-N60-2015.12.03-23.57.05_MD603_2_0179_cropped_compressed/MD603-N14-2015.12.03-20.45.08_MD603_1_0042_lossless_alignedTo_MD603-N60-2015.12.03-23.57.05_MD603_2_0179_cropped_compressed.jpg /home/yuncong/csd395/CSHL_cells_v2/detected_cells/MD603/MD603-N14-2015.12.03-20.45.08_MD603_1_0042/MD603-N14-2015.12.03-20.45.08_MD603_1_0042_image.jpg\n"
     ]
    },
    {
     "name": "stderr",
     "output_type": "stream",
     "text": [
      "Child returned 0\n",
      "Load mask: 14.67\n",
      "regionprops: 2.15\n",
      "39979 blobs identified.\n",
      "Save blob coords: 2.40\n",
      "Save blob masks: 4.66\n",
      "Save blob contours, save: 6.94\n",
      "Compute blob properties, save: 8.86\n",
      "Processing section: 084\n"
     ]
    },
    {
     "name": "stdout",
     "output_type": "stream",
     "text": [
      "cp /oasis/projects/nsf/csd395/yuncong/CSHL_data_processed/MD603/MD603_lossless_alignedTo_MD603-N60-2015.12.03-23.57.05_MD603_2_0179_cropped_compressed/MD603-IHC14-2015.12.03-14.23.41_MD603_1_0042_lossless_alignedTo_MD603-N60-2015.12.03-23.57.05_MD603_2_0179_cropped_compressed.jpg /home/yuncong/csd395/CSHL_cells_v2/detected_cells/MD603/MD603-IHC14-2015.12.03-14.23.41_MD603_1_0042/MD603-IHC14-2015.12.03-14.23.41_MD603_1_0042_image.jpg\n"
     ]
    },
    {
     "name": "stderr",
     "output_type": "stream",
     "text": [
      "Child returned 0\n",
      "Load mask: 14.88\n",
      "regionprops: 2.49\n",
      "41198 blobs identified.\n",
      "Save blob coords: 2.40\n",
      "Save blob masks: 4.61\n",
      "Save blob contours, save: 7.19\n",
      "Compute blob properties, save: 9.09\n",
      "Processing section: 085\n"
     ]
    },
    {
     "name": "stdout",
     "output_type": "stream",
     "text": [
      "cp /oasis/projects/nsf/csd395/yuncong/CSHL_data_processed/MD603/MD603_lossless_alignedTo_MD603-N60-2015.12.03-23.57.05_MD603_2_0179_cropped_compressed/MD603-N15-2015.12.03-20.49.06_MD603_3_0043_lossless_alignedTo_MD603-N60-2015.12.03-23.57.05_MD603_2_0179_cropped_compressed.jpg /home/yuncong/csd395/CSHL_cells_v2/detected_cells/MD603/MD603-N15-2015.12.03-20.49.06_MD603_3_0043/MD603-N15-2015.12.03-20.49.06_MD603_3_0043_image.jpg\n"
     ]
    },
    {
     "name": "stderr",
     "output_type": "stream",
     "text": [
      "Child returned 0\n",
      "Load mask: 14.66\n",
      "regionprops: 2.42\n",
      "32204 blobs identified.\n",
      "Save blob coords: 2.05\n",
      "Save blob masks: 3.75\n",
      "Save blob contours, save: 5.72\n",
      "Compute blob properties, save: 7.35\n",
      "Processing section: 086\n"
     ]
    },
    {
     "name": "stdout",
     "output_type": "stream",
     "text": [
      "cp /oasis/projects/nsf/csd395/yuncong/CSHL_data_processed/MD603/MD603_lossless_alignedTo_MD603-N60-2015.12.03-23.57.05_MD603_2_0179_cropped_compressed/MD603-IHC15-2015.12.03-14.27.41_MD603_3_0043_lossless_alignedTo_MD603-N60-2015.12.03-23.57.05_MD603_2_0179_cropped_compressed.jpg /home/yuncong/csd395/CSHL_cells_v2/detected_cells/MD603/MD603-IHC15-2015.12.03-14.27.41_MD603_3_0043/MD603-IHC15-2015.12.03-14.27.41_MD603_3_0043_image.jpg\n"
     ]
    },
    {
     "name": "stderr",
     "output_type": "stream",
     "text": [
      "Child returned 0\n",
      "Load mask: 14.93\n",
      "regionprops: 2.40\n",
      "42759 blobs identified.\n",
      "Save blob coords: 2.46\n",
      "Save blob masks: 4.69\n",
      "Save blob contours, save: 7.33\n",
      "Compute blob properties, save: 9.45\n",
      "Processing section: 087\n"
     ]
    },
    {
     "name": "stdout",
     "output_type": "stream",
     "text": [
      "cp /oasis/projects/nsf/csd395/yuncong/CSHL_data_processed/MD603/MD603_lossless_alignedTo_MD603-N60-2015.12.03-23.57.05_MD603_2_0179_cropped_compressed/MD603-N15-2015.12.03-20.49.06_MD603_2_0044_lossless_alignedTo_MD603-N60-2015.12.03-23.57.05_MD603_2_0179_cropped_compressed.jpg /home/yuncong/csd395/CSHL_cells_v2/detected_cells/MD603/MD603-N15-2015.12.03-20.49.06_MD603_2_0044/MD603-N15-2015.12.03-20.49.06_MD603_2_0044_image.jpg\n"
     ]
    },
    {
     "name": "stderr",
     "output_type": "stream",
     "text": [
      "Child returned 0\n",
      "Load mask: 14.67\n",
      "regionprops: 2.25\n",
      "43113 blobs identified.\n",
      "Save blob coords: 2.45\n",
      "Save blob masks: 4.95\n",
      "Save blob contours, save: 7.24\n",
      "Compute blob properties, save: 9.44\n",
      "Processing section: 088\n"
     ]
    },
    {
     "name": "stdout",
     "output_type": "stream",
     "text": [
      "cp /oasis/projects/nsf/csd395/yuncong/CSHL_data_processed/MD603/MD603_lossless_alignedTo_MD603-N60-2015.12.03-23.57.05_MD603_2_0179_cropped_compressed/MD603-IHC15-2015.12.03-14.27.41_MD603_2_0044_lossless_alignedTo_MD603-N60-2015.12.03-23.57.05_MD603_2_0179_cropped_compressed.jpg /home/yuncong/csd395/CSHL_cells_v2/detected_cells/MD603/MD603-IHC15-2015.12.03-14.27.41_MD603_2_0044/MD603-IHC15-2015.12.03-14.27.41_MD603_2_0044_image.jpg\n"
     ]
    },
    {
     "name": "stderr",
     "output_type": "stream",
     "text": [
      "Child returned 0\n",
      "Load mask: 14.77\n",
      "regionprops: 2.25\n",
      "43894 blobs identified.\n",
      "Save blob coords: 2.43\n",
      "Save blob masks: 4.96\n",
      "Save blob contours, save: 7.56\n",
      "Compute blob properties, save: 9.65\n",
      "Processing section: 089\n"
     ]
    },
    {
     "name": "stdout",
     "output_type": "stream",
     "text": [
      "cp /oasis/projects/nsf/csd395/yuncong/CSHL_data_processed/MD603/MD603_lossless_alignedTo_MD603-N60-2015.12.03-23.57.05_MD603_2_0179_cropped_compressed/MD603-N15-2015.12.03-20.49.06_MD603_1_0045_lossless_alignedTo_MD603-N60-2015.12.03-23.57.05_MD603_2_0179_cropped_compressed.jpg /home/yuncong/csd395/CSHL_cells_v2/detected_cells/MD603/MD603-N15-2015.12.03-20.49.06_MD603_1_0045/MD603-N15-2015.12.03-20.49.06_MD603_1_0045_image.jpg\n"
     ]
    },
    {
     "name": "stderr",
     "output_type": "stream",
     "text": [
      "Child returned 0\n",
      "Load mask: 14.77\n",
      "regionprops: 2.22\n",
      "43868 blobs identified.\n",
      "Save blob coords: 2.49\n",
      "Save blob masks: 4.93\n",
      "Save blob contours, save: 7.61\n",
      "Compute blob properties, save: 9.64\n",
      "Processing section: 090\n"
     ]
    },
    {
     "name": "stdout",
     "output_type": "stream",
     "text": [
      "cp /oasis/projects/nsf/csd395/yuncong/CSHL_data_processed/MD603/MD603_lossless_alignedTo_MD603-N60-2015.12.03-23.57.05_MD603_2_0179_cropped_compressed/MD603-IHC15-2015.12.03-14.27.41_MD603_1_0045_lossless_alignedTo_MD603-N60-2015.12.03-23.57.05_MD603_2_0179_cropped_compressed.jpg /home/yuncong/csd395/CSHL_cells_v2/detected_cells/MD603/MD603-IHC15-2015.12.03-14.27.41_MD603_1_0045/MD603-IHC15-2015.12.03-14.27.41_MD603_1_0045_image.jpg\n"
     ]
    },
    {
     "name": "stderr",
     "output_type": "stream",
     "text": [
      "Child returned 0\n",
      "Load mask: 14.97\n",
      "regionprops: 2.27\n",
      "44424 blobs identified.\n",
      "Save blob coords: 2.39\n",
      "Save blob masks: 4.94\n",
      "Save blob contours, save: 7.61\n",
      "Compute blob properties, save: 9.72\n",
      "Processing section: 092\n"
     ]
    },
    {
     "name": "stdout",
     "output_type": "stream",
     "text": [
      "cp /oasis/projects/nsf/csd395/yuncong/CSHL_data_processed/MD603/MD603_lossless_alignedTo_MD603-N60-2015.12.03-23.57.05_MD603_2_0179_cropped_compressed/MD603-IHC16-2015.12.03-14.31.44_MD603_3_0046_lossless_alignedTo_MD603-N60-2015.12.03-23.57.05_MD603_2_0179_cropped_compressed.jpg /home/yuncong/csd395/CSHL_cells_v2/detected_cells/MD603/MD603-IHC16-2015.12.03-14.31.44_MD603_3_0046/MD603-IHC16-2015.12.03-14.31.44_MD603_3_0046_image.jpg\n"
     ]
    },
    {
     "name": "stderr",
     "output_type": "stream",
     "text": [
      "Child returned 0\n",
      "Load mask: 14.67\n",
      "regionprops: 2.20\n",
      "44544 blobs identified.\n",
      "Save blob coords: 2.54\n",
      "Save blob masks: 4.95\n",
      "Save blob contours, save: 7.84\n",
      "Compute blob properties, save: 9.78\n",
      "Processing section: 093\n"
     ]
    },
    {
     "name": "stdout",
     "output_type": "stream",
     "text": [
      "cp /oasis/projects/nsf/csd395/yuncong/CSHL_data_processed/MD603/MD603_lossless_alignedTo_MD603-N60-2015.12.03-23.57.05_MD603_2_0179_cropped_compressed/MD603-N16-2015.12.03-20.53.52_MD603_2_0047_lossless_alignedTo_MD603-N60-2015.12.03-23.57.05_MD603_2_0179_cropped_compressed.jpg /home/yuncong/csd395/CSHL_cells_v2/detected_cells/MD603/MD603-N16-2015.12.03-20.53.52_MD603_2_0047/MD603-N16-2015.12.03-20.53.52_MD603_2_0047_image.jpg\n"
     ]
    },
    {
     "name": "stderr",
     "output_type": "stream",
     "text": [
      "Child returned 0\n",
      "Load mask: 14.84\n",
      "regionprops: 2.48\n",
      "32871 blobs identified.\n",
      "Save blob coords: 1.92\n",
      "Save blob masks: 3.67\n",
      "Save blob contours, save: 6.03\n",
      "Compute blob properties, save: 7.24\n",
      "Processing section: 094\n"
     ]
    },
    {
     "name": "stdout",
     "output_type": "stream",
     "text": [
      "cp /oasis/projects/nsf/csd395/yuncong/CSHL_data_processed/MD603/MD603_lossless_alignedTo_MD603-N60-2015.12.03-23.57.05_MD603_2_0179_cropped_compressed/MD603-IHC16-2015.12.03-14.31.44_MD603_2_0047_lossless_alignedTo_MD603-N60-2015.12.03-23.57.05_MD603_2_0179_cropped_compressed.jpg /home/yuncong/csd395/CSHL_cells_v2/detected_cells/MD603/MD603-IHC16-2015.12.03-14.31.44_MD603_2_0047/MD603-IHC16-2015.12.03-14.31.44_MD603_2_0047_image.jpg\n"
     ]
    },
    {
     "name": "stderr",
     "output_type": "stream",
     "text": [
      "Child returned 0\n",
      "Load mask: 14.67\n",
      "regionprops: 2.45\n",
      "45290 blobs identified.\n",
      "Save blob coords: 2.54\n",
      "Save blob masks: 5.15\n",
      "Save blob contours, save: 7.78\n",
      "Compute blob properties, save: 10.02\n",
      "Processing section: 095\n"
     ]
    },
    {
     "name": "stdout",
     "output_type": "stream",
     "text": [
      "cp /oasis/projects/nsf/csd395/yuncong/CSHL_data_processed/MD603/MD603_lossless_alignedTo_MD603-N60-2015.12.03-23.57.05_MD603_2_0179_cropped_compressed/MD603-N16-2015.12.03-20.53.52_MD603_1_0048_lossless_alignedTo_MD603-N60-2015.12.03-23.57.05_MD603_2_0179_cropped_compressed.jpg /home/yuncong/csd395/CSHL_cells_v2/detected_cells/MD603/MD603-N16-2015.12.03-20.53.52_MD603_1_0048/MD603-N16-2015.12.03-20.53.52_MD603_1_0048_image.jpg\n"
     ]
    },
    {
     "name": "stderr",
     "output_type": "stream",
     "text": [
      "Child returned 0\n",
      "Load mask: 14.79\n",
      "regionprops: 2.28\n",
      "44902 blobs identified.\n",
      "Save blob coords: 2.50\n",
      "Save blob masks: 4.95\n",
      "Save blob contours, save: 7.99\n",
      "Compute blob properties, save: 9.62\n",
      "Processing section: 096\n"
     ]
    },
    {
     "name": "stdout",
     "output_type": "stream",
     "text": [
      "cp /oasis/projects/nsf/csd395/yuncong/CSHL_data_processed/MD603/MD603_lossless_alignedTo_MD603-N60-2015.12.03-23.57.05_MD603_2_0179_cropped_compressed/MD603-IHC16-2015.12.03-14.31.44_MD603_1_0048_lossless_alignedTo_MD603-N60-2015.12.03-23.57.05_MD603_2_0179_cropped_compressed.jpg /home/yuncong/csd395/CSHL_cells_v2/detected_cells/MD603/MD603-IHC16-2015.12.03-14.31.44_MD603_1_0048/MD603-IHC16-2015.12.03-14.31.44_MD603_1_0048_image.jpg\n"
     ]
    },
    {
     "name": "stderr",
     "output_type": "stream",
     "text": [
      "Child returned 0\n",
      "Load mask: 14.88\n",
      "regionprops: 2.52\n",
      "45758 blobs identified.\n",
      "Save blob coords: 2.59\n",
      "Save blob masks: 5.03\n",
      "Save blob contours, save: 8.01\n",
      "Compute blob properties, save: 9.88\n",
      "Processing section: 097\n"
     ]
    },
    {
     "name": "stdout",
     "output_type": "stream",
     "text": [
      "cp /oasis/projects/nsf/csd395/yuncong/CSHL_data_processed/MD603/MD603_lossless_alignedTo_MD603-N60-2015.12.03-23.57.05_MD603_2_0179_cropped_compressed/MD603-N17-2016.03.02-12.56.11_MD603_1_0049_lossless_alignedTo_MD603-N60-2015.12.03-23.57.05_MD603_2_0179_cropped_compressed.jpg /home/yuncong/csd395/CSHL_cells_v2/detected_cells/MD603/MD603-N17-2016.03.02-12.56.11_MD603_1_0049/MD603-N17-2016.03.02-12.56.11_MD603_1_0049_image.jpg\n"
     ]
    },
    {
     "name": "stderr",
     "output_type": "stream",
     "text": [
      "Child returned 0\n",
      "Load mask: 14.98\n",
      "regionprops: 2.38\n",
      "33739 blobs identified.\n",
      "Save blob coords: 1.92\n",
      "Save blob masks: 3.78\n",
      "Save blob contours, save: 5.97\n",
      "Compute blob properties, save: 7.55\n",
      "Processing section: 098\n"
     ]
    },
    {
     "name": "stdout",
     "output_type": "stream",
     "text": [
      "cp /oasis/projects/nsf/csd395/yuncong/CSHL_data_processed/MD603/MD603_lossless_alignedTo_MD603-N60-2015.12.03-23.57.05_MD603_2_0179_cropped_compressed/MD603-IHC17-2016.03.02-17.03.40_MD603_1_0049_lossless_alignedTo_MD603-N60-2015.12.03-23.57.05_MD603_2_0179_cropped_compressed.jpg /home/yuncong/csd395/CSHL_cells_v2/detected_cells/MD603/MD603-IHC17-2016.03.02-17.03.40_MD603_1_0049/MD603-IHC17-2016.03.02-17.03.40_MD603_1_0049_image.jpg\n"
     ]
    },
    {
     "name": "stderr",
     "output_type": "stream",
     "text": [
      "Child returned 0\n",
      "Load mask: 14.66\n",
      "regionprops: 2.45\n",
      "44723 blobs identified.\n",
      "Save blob coords: 2.40\n",
      "Save blob masks: 4.90\n",
      "Save blob contours, save: 7.65\n",
      "Compute blob properties, save: 9.61\n",
      "Processing section: 099\n"
     ]
    },
    {
     "name": "stdout",
     "output_type": "stream",
     "text": [
      "cp /oasis/projects/nsf/csd395/yuncong/CSHL_data_processed/MD603/MD603_lossless_alignedTo_MD603-N60-2015.12.03-23.57.05_MD603_2_0179_cropped_compressed/MD603-N17-2016.03.02-12.56.11_MD603_2_0050_lossless_alignedTo_MD603-N60-2015.12.03-23.57.05_MD603_2_0179_cropped_compressed.jpg /home/yuncong/csd395/CSHL_cells_v2/detected_cells/MD603/MD603-N17-2016.03.02-12.56.11_MD603_2_0050/MD603-N17-2016.03.02-12.56.11_MD603_2_0050_image.jpg\n"
     ]
    },
    {
     "name": "stderr",
     "output_type": "stream",
     "text": [
      "Child returned 0\n",
      "Load mask: 14.84\n",
      "regionprops: 2.48\n",
      "35084 blobs identified.\n",
      "Save blob coords: 1.99\n",
      "Save blob masks: 3.85\n",
      "Save blob contours, save: 6.05\n",
      "Compute blob properties, save: 7.43\n",
      "Processing section: 100\n"
     ]
    },
    {
     "name": "stdout",
     "output_type": "stream",
     "text": [
      "cp /oasis/projects/nsf/csd395/yuncong/CSHL_data_processed/MD603/MD603_lossless_alignedTo_MD603-N60-2015.12.03-23.57.05_MD603_2_0179_cropped_compressed/MD603-IHC17-2016.03.02-17.03.40_MD603_2_0050_lossless_alignedTo_MD603-N60-2015.12.03-23.57.05_MD603_2_0179_cropped_compressed.jpg /home/yuncong/csd395/CSHL_cells_v2/detected_cells/MD603/MD603-IHC17-2016.03.02-17.03.40_MD603_2_0050/MD603-IHC17-2016.03.02-17.03.40_MD603_2_0050_image.jpg\n"
     ]
    },
    {
     "name": "stderr",
     "output_type": "stream",
     "text": [
      "Child returned 0\n",
      "Load mask: 14.67\n",
      "regionprops: 2.30\n",
      "45196 blobs identified.\n",
      "Save blob coords: 2.37\n",
      "Save blob masks: 4.84\n",
      "Save blob contours, save: 7.75\n",
      "Compute blob properties, save: 9.72\n",
      "Processing section: 101\n"
     ]
    },
    {
     "name": "stdout",
     "output_type": "stream",
     "text": [
      "cp /oasis/projects/nsf/csd395/yuncong/CSHL_data_processed/MD603/MD603_lossless_alignedTo_MD603-N60-2015.12.03-23.57.05_MD603_2_0179_cropped_compressed/MD603-N17-2016.03.02-12.56.11_MD603_3_0051_lossless_alignedTo_MD603-N60-2015.12.03-23.57.05_MD603_2_0179_cropped_compressed.jpg /home/yuncong/csd395/CSHL_cells_v2/detected_cells/MD603/MD603-N17-2016.03.02-12.56.11_MD603_3_0051/MD603-N17-2016.03.02-12.56.11_MD603_3_0051_image.jpg\n"
     ]
    },
    {
     "name": "stderr",
     "output_type": "stream",
     "text": [
      "Child returned 0\n",
      "Load mask: 14.81\n",
      "regionprops: 2.54\n",
      "45754 blobs identified.\n",
      "Save blob coords: 2.41\n",
      "Save blob masks: 4.89\n",
      "Save blob contours, save: 7.68\n",
      "Compute blob properties, save: 9.88\n",
      "Processing section: 102\n"
     ]
    },
    {
     "name": "stdout",
     "output_type": "stream",
     "text": [
      "cp /oasis/projects/nsf/csd395/yuncong/CSHL_data_processed/MD603/MD603_lossless_alignedTo_MD603-N60-2015.12.03-23.57.05_MD603_2_0179_cropped_compressed/MD603-IHC17-2016.03.02-17.03.40_MD603_3_0051_lossless_alignedTo_MD603-N60-2015.12.03-23.57.05_MD603_2_0179_cropped_compressed.jpg /home/yuncong/csd395/CSHL_cells_v2/detected_cells/MD603/MD603-IHC17-2016.03.02-17.03.40_MD603_3_0051/MD603-IHC17-2016.03.02-17.03.40_MD603_3_0051_image.jpg\n"
     ]
    },
    {
     "name": "stderr",
     "output_type": "stream",
     "text": [
      "Child returned 0\n",
      "Load mask: 14.83\n",
      "regionprops: 2.28\n",
      "45737 blobs identified.\n",
      "Save blob coords: 2.43\n",
      "Save blob masks: 5.01\n",
      "Save blob contours, save: 7.83\n",
      "Compute blob properties, save: 9.91\n",
      "Processing section: 103\n"
     ]
    },
    {
     "name": "stdout",
     "output_type": "stream",
     "text": [
      "cp /oasis/projects/nsf/csd395/yuncong/CSHL_data_processed/MD603/MD603_lossless_alignedTo_MD603-N60-2015.12.03-23.57.05_MD603_2_0179_cropped_compressed/MD603-N18-2015.12.03-21.02.01_MD603_3_0052_lossless_alignedTo_MD603-N60-2015.12.03-23.57.05_MD603_2_0179_cropped_compressed.jpg /home/yuncong/csd395/CSHL_cells_v2/detected_cells/MD603/MD603-N18-2015.12.03-21.02.01_MD603_3_0052/MD603-N18-2015.12.03-21.02.01_MD603_3_0052_image.jpg\n"
     ]
    },
    {
     "name": "stderr",
     "output_type": "stream",
     "text": [
      "Child returned 0\n",
      "Load mask: 14.97\n",
      "regionprops: 2.64\n",
      "46541 blobs identified.\n",
      "Save blob coords: 2.58\n",
      "Save blob masks: 5.10\n",
      "Save blob contours, save: 7.90\n",
      "Compute blob properties, save: 10.14\n",
      "Processing section: 104\n"
     ]
    },
    {
     "name": "stdout",
     "output_type": "stream",
     "text": [
      "cp /oasis/projects/nsf/csd395/yuncong/CSHL_data_processed/MD603/MD603_lossless_alignedTo_MD603-N60-2015.12.03-23.57.05_MD603_2_0179_cropped_compressed/MD603-IHC18-2015.12.03-14.40.52_MD603_3_0052_lossless_alignedTo_MD603-N60-2015.12.03-23.57.05_MD603_2_0179_cropped_compressed.jpg /home/yuncong/csd395/CSHL_cells_v2/detected_cells/MD603/MD603-IHC18-2015.12.03-14.40.52_MD603_3_0052/MD603-IHC18-2015.12.03-14.40.52_MD603_3_0052_image.jpg\n"
     ]
    },
    {
     "name": "stderr",
     "output_type": "stream",
     "text": [
      "Child returned 0\n",
      "Load mask: 14.81\n",
      "regionprops: 2.60\n",
      "47570 blobs identified.\n",
      "Save blob coords: 2.54\n",
      "Save blob masks: 5.15\n",
      "Save blob contours, save: 7.98\n",
      "Compute blob properties, save: 10.33\n",
      "Processing section: 105\n"
     ]
    },
    {
     "name": "stdout",
     "output_type": "stream",
     "text": [
      "cp /oasis/projects/nsf/csd395/yuncong/CSHL_data_processed/MD603/MD603_lossless_alignedTo_MD603-N60-2015.12.03-23.57.05_MD603_2_0179_cropped_compressed/MD603-N18-2015.12.03-21.02.01_MD603_2_0053_lossless_alignedTo_MD603-N60-2015.12.03-23.57.05_MD603_2_0179_cropped_compressed.jpg /home/yuncong/csd395/CSHL_cells_v2/detected_cells/MD603/MD603-N18-2015.12.03-21.02.01_MD603_2_0053/MD603-N18-2015.12.03-21.02.01_MD603_2_0053_image.jpg\n"
     ]
    },
    {
     "name": "stderr",
     "output_type": "stream",
     "text": [
      "Child returned 0\n",
      "Load mask: 14.85\n",
      "regionprops: 2.25\n",
      "36760 blobs identified.\n",
      "Save blob coords: 2.11\n",
      "Save blob masks: 4.28\n",
      "Save blob contours, save: 6.36\n",
      "Compute blob properties, save: 8.16\n",
      "Processing section: 106\n"
     ]
    },
    {
     "name": "stdout",
     "output_type": "stream",
     "text": [
      "cp /oasis/projects/nsf/csd395/yuncong/CSHL_data_processed/MD603/MD603_lossless_alignedTo_MD603-N60-2015.12.03-23.57.05_MD603_2_0179_cropped_compressed/MD603-IHC18-2015.12.03-14.40.52_MD603_2_0053_lossless_alignedTo_MD603-N60-2015.12.03-23.57.05_MD603_2_0179_cropped_compressed.jpg /home/yuncong/csd395/CSHL_cells_v2/detected_cells/MD603/MD603-IHC18-2015.12.03-14.40.52_MD603_2_0053/MD603-IHC18-2015.12.03-14.40.52_MD603_2_0053_image.jpg\n"
     ]
    },
    {
     "name": "stderr",
     "output_type": "stream",
     "text": [
      "Child returned 0\n",
      "Load mask: 14.67\n",
      "regionprops: 2.37\n",
      "47983 blobs identified.\n",
      "Save blob coords: 2.58\n",
      "Save blob masks: 5.24\n",
      "Save blob contours, save: 8.09\n",
      "Compute blob properties, save: 10.56\n",
      "Processing section: 107\n"
     ]
    },
    {
     "name": "stdout",
     "output_type": "stream",
     "text": [
      "cp /oasis/projects/nsf/csd395/yuncong/CSHL_data_processed/MD603/MD603_lossless_alignedTo_MD603-N60-2015.12.03-23.57.05_MD603_2_0179_cropped_compressed/MD603-N18-2015.12.03-21.02.01_MD603_1_0054_lossless_alignedTo_MD603-N60-2015.12.03-23.57.05_MD603_2_0179_cropped_compressed.jpg /home/yuncong/csd395/CSHL_cells_v2/detected_cells/MD603/MD603-N18-2015.12.03-21.02.01_MD603_1_0054/MD603-N18-2015.12.03-21.02.01_MD603_1_0054_image.jpg\n"
     ]
    },
    {
     "name": "stderr",
     "output_type": "stream",
     "text": [
      "Child returned 0\n",
      "Load mask: 14.80\n",
      "regionprops: 2.26\n",
      "38249 blobs identified.\n",
      "Save blob coords: 2.15\n",
      "Save blob masks: 4.21\n",
      "Save blob contours, save: 6.88\n",
      "Compute blob properties, save: 8.37\n",
      "Processing section: 108\n"
     ]
    },
    {
     "name": "stdout",
     "output_type": "stream",
     "text": [
      "cp /oasis/projects/nsf/csd395/yuncong/CSHL_data_processed/MD603/MD603_lossless_alignedTo_MD603-N60-2015.12.03-23.57.05_MD603_2_0179_cropped_compressed/MD603-IHC18-2015.12.03-14.40.52_MD603_1_0054_lossless_alignedTo_MD603-N60-2015.12.03-23.57.05_MD603_2_0179_cropped_compressed.jpg /home/yuncong/csd395/CSHL_cells_v2/detected_cells/MD603/MD603-IHC18-2015.12.03-14.40.52_MD603_1_0054/MD603-IHC18-2015.12.03-14.40.52_MD603_1_0054_image.jpg\n"
     ]
    },
    {
     "name": "stderr",
     "output_type": "stream",
     "text": [
      "Child returned 0\n",
      "Load mask: 14.89\n",
      "regionprops: 2.52\n",
      "48606 blobs identified.\n",
      "Save blob coords: 2.60\n",
      "Save blob masks: 5.22\n",
      "Save blob contours, save: 8.20\n",
      "Compute blob properties, save: 10.58\n",
      "Processing section: 109\n"
     ]
    },
    {
     "name": "stdout",
     "output_type": "stream",
     "text": [
      "cp /oasis/projects/nsf/csd395/yuncong/CSHL_data_processed/MD603/MD603_lossless_alignedTo_MD603-N60-2015.12.03-23.57.05_MD603_2_0179_cropped_compressed/MD603-N19-2015.12.03-21.06.15_MD603_3_0055_lossless_alignedTo_MD603-N60-2015.12.03-23.57.05_MD603_2_0179_cropped_compressed.jpg /home/yuncong/csd395/CSHL_cells_v2/detected_cells/MD603/MD603-N19-2015.12.03-21.06.15_MD603_3_0055/MD603-N19-2015.12.03-21.06.15_MD603_3_0055_image.jpg\n"
     ]
    },
    {
     "name": "stderr",
     "output_type": "stream",
     "text": [
      "Child returned 0\n",
      "Load mask: 14.89\n",
      "regionprops: 2.23\n",
      "36618 blobs identified.\n",
      "Save blob coords: 2.18\n",
      "Save blob masks: 4.12\n",
      "Save blob contours, save: 6.63\n",
      "Compute blob properties, save: 8.20\n",
      "Processing section: 110\n"
     ]
    },
    {
     "name": "stdout",
     "output_type": "stream",
     "text": [
      "cp /oasis/projects/nsf/csd395/yuncong/CSHL_data_processed/MD603/MD603_lossless_alignedTo_MD603-N60-2015.12.03-23.57.05_MD603_2_0179_cropped_compressed/MD603-IHC19-2015.12.03-14.46.06_MD603_3_0055_lossless_alignedTo_MD603-N60-2015.12.03-23.57.05_MD603_2_0179_cropped_compressed.jpg /home/yuncong/csd395/CSHL_cells_v2/detected_cells/MD603/MD603-IHC19-2015.12.03-14.46.06_MD603_3_0055/MD603-IHC19-2015.12.03-14.46.06_MD603_3_0055_image.jpg\n"
     ]
    },
    {
     "name": "stderr",
     "output_type": "stream",
     "text": [
      "Child returned 0\n",
      "Load mask: 14.67\n",
      "regionprops: 2.43\n",
      "47737 blobs identified.\n",
      "Save blob coords: 2.61\n",
      "Save blob masks: 5.16\n",
      "Save blob contours, save: 8.11\n",
      "Compute blob properties, save: 10.39\n",
      "Processing section: 111\n"
     ]
    },
    {
     "name": "stdout",
     "output_type": "stream",
     "text": [
      "cp /oasis/projects/nsf/csd395/yuncong/CSHL_data_processed/MD603/MD603_lossless_alignedTo_MD603-N60-2015.12.03-23.57.05_MD603_2_0179_cropped_compressed/MD603-N19-2015.12.03-21.06.15_MD603_2_0056_lossless_alignedTo_MD603-N60-2015.12.03-23.57.05_MD603_2_0179_cropped_compressed.jpg /home/yuncong/csd395/CSHL_cells_v2/detected_cells/MD603/MD603-N19-2015.12.03-21.06.15_MD603_2_0056/MD603-N19-2015.12.03-21.06.15_MD603_2_0056_image.jpg\n"
     ]
    },
    {
     "name": "stderr",
     "output_type": "stream",
     "text": [
      "Child returned 0\n",
      "Load mask: 14.89\n",
      "regionprops: 2.24\n",
      "38756 blobs identified.\n",
      "Save blob coords: 2.19\n",
      "Save blob masks: 4.38\n",
      "Save blob contours, save: 6.74\n",
      "Compute blob properties, save: 8.44\n",
      "Processing section: 112\n"
     ]
    },
    {
     "name": "stdout",
     "output_type": "stream",
     "text": [
      "cp /oasis/projects/nsf/csd395/yuncong/CSHL_data_processed/MD603/MD603_lossless_alignedTo_MD603-N60-2015.12.03-23.57.05_MD603_2_0179_cropped_compressed/MD603-IHC19-2015.12.03-14.46.06_MD603_2_0056_lossless_alignedTo_MD603-N60-2015.12.03-23.57.05_MD603_2_0179_cropped_compressed.jpg /home/yuncong/csd395/CSHL_cells_v2/detected_cells/MD603/MD603-IHC19-2015.12.03-14.46.06_MD603_2_0056/MD603-IHC19-2015.12.03-14.46.06_MD603_2_0056_image.jpg\n"
     ]
    },
    {
     "name": "stderr",
     "output_type": "stream",
     "text": [
      "Child returned 0\n",
      "Load mask: 14.76\n",
      "regionprops: 2.45\n",
      "48328 blobs identified.\n",
      "Save blob coords: 2.61\n",
      "Save blob masks: 5.25\n",
      "Save blob contours, save: 8.14\n",
      "Compute blob properties, save: 10.61\n",
      "Processing section: 113\n"
     ]
    },
    {
     "name": "stdout",
     "output_type": "stream",
     "text": [
      "cp /oasis/projects/nsf/csd395/yuncong/CSHL_data_processed/MD603/MD603_lossless_alignedTo_MD603-N60-2015.12.03-23.57.05_MD603_2_0179_cropped_compressed/MD603-N19-2015.12.03-21.06.15_MD603_1_0057_lossless_alignedTo_MD603-N60-2015.12.03-23.57.05_MD603_2_0179_cropped_compressed.jpg /home/yuncong/csd395/CSHL_cells_v2/detected_cells/MD603/MD603-N19-2015.12.03-21.06.15_MD603_1_0057/MD603-N19-2015.12.03-21.06.15_MD603_1_0057_image.jpg\n"
     ]
    },
    {
     "name": "stderr",
     "output_type": "stream",
     "text": [
      "Child returned 0\n",
      "Load mask: 14.87\n",
      "regionprops: 2.61\n",
      "50014 blobs identified.\n",
      "Save blob coords: 2.75\n",
      "Save blob masks: 5.43\n",
      "Save blob contours, save: 8.29\n",
      "Compute blob properties, save: 10.76\n",
      "Processing section: 114\n"
     ]
    },
    {
     "name": "stdout",
     "output_type": "stream",
     "text": [
      "cp /oasis/projects/nsf/csd395/yuncong/CSHL_data_processed/MD603/MD603_lossless_alignedTo_MD603-N60-2015.12.03-23.57.05_MD603_2_0179_cropped_compressed/MD603-IHC19-2015.12.03-14.46.06_MD603_1_0057_lossless_alignedTo_MD603-N60-2015.12.03-23.57.05_MD603_2_0179_cropped_compressed.jpg /home/yuncong/csd395/CSHL_cells_v2/detected_cells/MD603/MD603-IHC19-2015.12.03-14.46.06_MD603_1_0057/MD603-IHC19-2015.12.03-14.46.06_MD603_1_0057_image.jpg\n"
     ]
    },
    {
     "name": "stderr",
     "output_type": "stream",
     "text": [
      "Child returned 0\n",
      "Load mask: 14.97\n",
      "regionprops: 2.67\n",
      "49508 blobs identified.\n",
      "Save blob coords: 2.68\n",
      "Save blob masks: 5.36\n",
      "Save blob contours, save: 8.44\n",
      "Compute blob properties, save: 10.92\n",
      "Processing section: 115\n"
     ]
    },
    {
     "name": "stdout",
     "output_type": "stream",
     "text": [
      "cp /oasis/projects/nsf/csd395/yuncong/CSHL_data_processed/MD603/MD603_lossless_alignedTo_MD603-N60-2015.12.03-23.57.05_MD603_2_0179_cropped_compressed/MD603-N20-2015.12.03-21.10.34_MD603_3_0058_lossless_alignedTo_MD603-N60-2015.12.03-23.57.05_MD603_2_0179_cropped_compressed.jpg /home/yuncong/csd395/CSHL_cells_v2/detected_cells/MD603/MD603-N20-2015.12.03-21.10.34_MD603_3_0058/MD603-N20-2015.12.03-21.10.34_MD603_3_0058_image.jpg\n"
     ]
    },
    {
     "name": "stderr",
     "output_type": "stream",
     "text": [
      "Child returned 0\n",
      "Load mask: 14.78\n",
      "regionprops: 2.30\n",
      "39652 blobs identified.\n",
      "Save blob coords: 2.32\n",
      "Save blob masks: 4.45\n",
      "Save blob contours, save: 6.89\n",
      "Compute blob properties, save: 9.00\n",
      "Processing section: 116\n"
     ]
    },
    {
     "name": "stdout",
     "output_type": "stream",
     "text": [
      "cp /oasis/projects/nsf/csd395/yuncong/CSHL_data_processed/MD603/MD603_lossless_alignedTo_MD603-N60-2015.12.03-23.57.05_MD603_2_0179_cropped_compressed/MD603-IHC20-2015.12.03-14.51.22_MD603_3_0058_lossless_alignedTo_MD603-N60-2015.12.03-23.57.05_MD603_2_0179_cropped_compressed.jpg /home/yuncong/csd395/CSHL_cells_v2/detected_cells/MD603/MD603-IHC20-2015.12.03-14.51.22_MD603_3_0058/MD603-IHC20-2015.12.03-14.51.22_MD603_3_0058_image.jpg\n"
     ]
    },
    {
     "name": "stderr",
     "output_type": "stream",
     "text": [
      "Child returned 0\n",
      "Load mask: 14.67\n",
      "regionprops: 2.22\n",
      "51818 blobs identified.\n",
      "Save blob coords: 2.82\n",
      "Save blob masks: 5.75\n",
      "Save blob contours, save: 8.52\n",
      "Compute blob properties, save: 11.35\n",
      "Processing section: 117\n"
     ]
    },
    {
     "name": "stdout",
     "output_type": "stream",
     "text": [
      "cp /oasis/projects/nsf/csd395/yuncong/CSHL_data_processed/MD603/MD603_lossless_alignedTo_MD603-N60-2015.12.03-23.57.05_MD603_2_0179_cropped_compressed/MD603-N20-2015.12.03-21.10.34_MD603_2_0059_lossless_alignedTo_MD603-N60-2015.12.03-23.57.05_MD603_2_0179_cropped_compressed.jpg /home/yuncong/csd395/CSHL_cells_v2/detected_cells/MD603/MD603-N20-2015.12.03-21.10.34_MD603_2_0059/MD603-N20-2015.12.03-21.10.34_MD603_2_0059_image.jpg\n"
     ]
    },
    {
     "name": "stderr",
     "output_type": "stream",
     "text": [
      "Child returned 0\n",
      "Load mask: 14.98\n",
      "regionprops: 2.34\n",
      "39937 blobs identified.\n",
      "Save blob coords: 2.29\n",
      "Save blob masks: 4.54\n",
      "Save blob contours, save: 6.92\n",
      "Compute blob properties, save: 8.95\n",
      "Processing section: 118\n"
     ]
    },
    {
     "name": "stdout",
     "output_type": "stream",
     "text": [
      "cp /oasis/projects/nsf/csd395/yuncong/CSHL_data_processed/MD603/MD603_lossless_alignedTo_MD603-N60-2015.12.03-23.57.05_MD603_2_0179_cropped_compressed/MD603-IHC20-2015.12.03-14.51.22_MD603_1_0060_lossless_alignedTo_MD603-N60-2015.12.03-23.57.05_MD603_2_0179_cropped_compressed.jpg /home/yuncong/csd395/CSHL_cells_v2/detected_cells/MD603/MD603-IHC20-2015.12.03-14.51.22_MD603_1_0060/MD603-IHC20-2015.12.03-14.51.22_MD603_1_0060_image.jpg\n"
     ]
    },
    {
     "name": "stderr",
     "output_type": "stream",
     "text": [
      "Child returned 0\n",
      "Load mask: 14.67\n",
      "regionprops: 2.25\n",
      "52566 blobs identified.\n",
      "Save blob coords: 2.82\n",
      "Save blob masks: 5.90\n",
      "Save blob contours, save: 8.95\n",
      "Compute blob properties, save: 11.35\n",
      "Processing section: 119\n"
     ]
    },
    {
     "name": "stdout",
     "output_type": "stream",
     "text": [
      "cp /oasis/projects/nsf/csd395/yuncong/CSHL_data_processed/MD603/MD603_lossless_alignedTo_MD603-N60-2015.12.03-23.57.05_MD603_2_0179_cropped_compressed/MD603-N20-2015.12.03-21.10.34_MD603_1_0060_lossless_alignedTo_MD603-N60-2015.12.03-23.57.05_MD603_2_0179_cropped_compressed.jpg /home/yuncong/csd395/CSHL_cells_v2/detected_cells/MD603/MD603-N20-2015.12.03-21.10.34_MD603_1_0060/MD603-N20-2015.12.03-21.10.34_MD603_1_0060_image.jpg\n"
     ]
    },
    {
     "name": "stderr",
     "output_type": "stream",
     "text": [
      "Child returned 0\n",
      "Load mask: 14.87\n",
      "regionprops: 2.30\n",
      "53022 blobs identified.\n",
      "Save blob coords: 2.84\n",
      "Save blob masks: 5.82\n",
      "Save blob contours, save: 8.74\n",
      "Compute blob properties, save: 11.51\n",
      "Processing section: 120\n"
     ]
    },
    {
     "name": "stdout",
     "output_type": "stream",
     "text": [
      "cp /oasis/projects/nsf/csd395/yuncong/CSHL_data_processed/MD603/MD603_lossless_alignedTo_MD603-N60-2015.12.03-23.57.05_MD603_2_0179_cropped_compressed/MD603-N21-2015.12.03-21.14.51_MD603_3_0061_lossless_alignedTo_MD603-N60-2015.12.03-23.57.05_MD603_2_0179_cropped_compressed.jpg /home/yuncong/csd395/CSHL_cells_v2/detected_cells/MD603/MD603-N21-2015.12.03-21.14.51_MD603_3_0061/MD603-N21-2015.12.03-21.14.51_MD603_3_0061_image.jpg\n"
     ]
    },
    {
     "name": "stderr",
     "output_type": "stream",
     "text": [
      "Child returned 0\n",
      "Load mask: 14.68\n",
      "regionprops: 2.27\n",
      "54095 blobs identified.\n",
      "Save blob coords: 2.91\n",
      "Save blob masks: 6.03\n",
      "Save blob contours, save: 8.99\n",
      "Compute blob properties, save: 11.70\n",
      "Processing section: 121\n"
     ]
    },
    {
     "name": "stdout",
     "output_type": "stream",
     "text": [
      "cp /oasis/projects/nsf/csd395/yuncong/CSHL_data_processed/MD603/MD603_lossless_alignedTo_MD603-N60-2015.12.03-23.57.05_MD603_2_0179_cropped_compressed/MD603-IHC21-2015.12.03-14.55.17_MD603_3_0061_lossless_alignedTo_MD603-N60-2015.12.03-23.57.05_MD603_2_0179_cropped_compressed.jpg /home/yuncong/csd395/CSHL_cells_v2/detected_cells/MD603/MD603-IHC21-2015.12.03-14.55.17_MD603_3_0061/MD603-IHC21-2015.12.03-14.55.17_MD603_3_0061_image.jpg\n"
     ]
    },
    {
     "name": "stderr",
     "output_type": "stream",
     "text": [
      "Child returned 0\n",
      "Load mask: 14.79\n",
      "regionprops: 2.70\n",
      "54479 blobs identified.\n",
      "Save blob coords: 2.92\n",
      "Save blob masks: 5.75\n",
      "Save blob contours, save: 9.29\n",
      "Compute blob properties, save: 11.85\n",
      "Processing section: 122\n"
     ]
    },
    {
     "name": "stdout",
     "output_type": "stream",
     "text": [
      "cp /oasis/projects/nsf/csd395/yuncong/CSHL_data_processed/MD603/MD603_lossless_alignedTo_MD603-N60-2015.12.03-23.57.05_MD603_2_0179_cropped_compressed/MD603-N21-2015.12.03-21.14.51_MD603_1_0063_lossless_alignedTo_MD603-N60-2015.12.03-23.57.05_MD603_2_0179_cropped_compressed.jpg /home/yuncong/csd395/CSHL_cells_v2/detected_cells/MD603/MD603-N21-2015.12.03-21.14.51_MD603_1_0063/MD603-N21-2015.12.03-21.14.51_MD603_1_0063_image.jpg\n"
     ]
    },
    {
     "name": "stderr",
     "output_type": "stream",
     "text": [
      "Child returned 0\n",
      "Load mask: 14.86\n",
      "regionprops: 2.35\n",
      "54482 blobs identified.\n",
      "Save blob coords: 3.30\n",
      "Save blob masks: 5.86\n",
      "Save blob contours, save: 11.29\n",
      "Compute blob properties, save: 11.61\n",
      "Processing section: 123\n"
     ]
    },
    {
     "name": "stdout",
     "output_type": "stream",
     "text": [
      "cp /oasis/projects/nsf/csd395/yuncong/CSHL_data_processed/MD603/MD603_lossless_alignedTo_MD603-N60-2015.12.03-23.57.05_MD603_2_0179_cropped_compressed/MD603-IHC21-2015.12.03-14.55.17_MD603_1_0063_lossless_alignedTo_MD603-N60-2015.12.03-23.57.05_MD603_2_0179_cropped_compressed.jpg /home/yuncong/csd395/CSHL_cells_v2/detected_cells/MD603/MD603-IHC21-2015.12.03-14.55.17_MD603_1_0063/MD603-IHC21-2015.12.03-14.55.17_MD603_1_0063_image.jpg\n"
     ]
    },
    {
     "name": "stderr",
     "output_type": "stream",
     "text": [
      "Child returned 0\n",
      "Load mask: 14.75\n",
      "regionprops: 2.33\n",
      "56220 blobs identified.\n",
      "Save blob coords: 2.99\n",
      "Save blob masks: 6.21\n",
      "Save blob contours, save: 9.40\n",
      "Compute blob properties, save: 11.99\n",
      "Processing section: 124\n"
     ]
    },
    {
     "name": "stdout",
     "output_type": "stream",
     "text": [
      "cp /oasis/projects/nsf/csd395/yuncong/CSHL_data_processed/MD603/MD603_lossless_alignedTo_MD603-N60-2015.12.03-23.57.05_MD603_2_0179_cropped_compressed/MD603-N22-2015.12.03-21.18.02_MD603_3_0064_lossless_alignedTo_MD603-N60-2015.12.03-23.57.05_MD603_2_0179_cropped_compressed.jpg /home/yuncong/csd395/CSHL_cells_v2/detected_cells/MD603/MD603-N22-2015.12.03-21.18.02_MD603_3_0064/MD603-N22-2015.12.03-21.18.02_MD603_3_0064_image.jpg\n"
     ]
    },
    {
     "name": "stderr",
     "output_type": "stream",
     "text": [
      "Child returned 0\n",
      "Load mask: 14.83\n",
      "regionprops: 2.68\n",
      "56808 blobs identified.\n",
      "Save blob coords: 3.15\n",
      "Save blob masks: 6.12\n",
      "Save blob contours, save: 9.47\n",
      "Compute blob properties, save: 12.44\n",
      "Processing section: 125\n"
     ]
    },
    {
     "name": "stdout",
     "output_type": "stream",
     "text": [
      "cp /oasis/projects/nsf/csd395/yuncong/CSHL_data_processed/MD603/MD603_lossless_alignedTo_MD603-N60-2015.12.03-23.57.05_MD603_2_0179_cropped_compressed/MD603-IHC22-2015.12.03-14.58.25_MD603_2_0065_lossless_alignedTo_MD603-N60-2015.12.03-23.57.05_MD603_2_0179_cropped_compressed.jpg /home/yuncong/csd395/CSHL_cells_v2/detected_cells/MD603/MD603-IHC22-2015.12.03-14.58.25_MD603_2_0065/MD603-IHC22-2015.12.03-14.58.25_MD603_2_0065_image.jpg\n"
     ]
    },
    {
     "name": "stderr",
     "output_type": "stream",
     "text": [
      "Child returned 0\n",
      "Load mask: 14.90\n",
      "regionprops: 2.39\n",
      "57457 blobs identified.\n",
      "Save blob coords: 3.20\n",
      "Save blob masks: 6.45\n",
      "Save blob contours, save: 9.75\n",
      "Compute blob properties, save: 12.77\n",
      "Processing section: 126\n"
     ]
    },
    {
     "name": "stdout",
     "output_type": "stream",
     "text": [
      "cp /oasis/projects/nsf/csd395/yuncong/CSHL_data_processed/MD603/MD603_lossless_alignedTo_MD603-N60-2015.12.03-23.57.05_MD603_2_0179_cropped_compressed/MD603-N22-2015.12.03-21.18.02_MD603_1_0066_lossless_alignedTo_MD603-N60-2015.12.03-23.57.05_MD603_2_0179_cropped_compressed.jpg /home/yuncong/csd395/CSHL_cells_v2/detected_cells/MD603/MD603-N22-2015.12.03-21.18.02_MD603_1_0066/MD603-N22-2015.12.03-21.18.02_MD603_1_0066_image.jpg\n"
     ]
    },
    {
     "name": "stderr",
     "output_type": "stream",
     "text": [
      "Child returned 0\n",
      "Load mask: 14.96\n",
      "regionprops: 2.41\n",
      "52344 blobs identified.\n",
      "Save blob coords: 2.93\n",
      "Save blob masks: 6.13\n",
      "Save blob contours, save: 8.78\n",
      "Compute blob properties, save: 11.60\n",
      "Processing section: 127\n"
     ]
    },
    {
     "name": "stdout",
     "output_type": "stream",
     "text": [
      "cp /oasis/projects/nsf/csd395/yuncong/CSHL_data_processed/MD603/MD603_lossless_alignedTo_MD603-N60-2015.12.03-23.57.05_MD603_2_0179_cropped_compressed/MD603-IHC22-2015.12.03-14.58.25_MD603_1_0066_lossless_alignedTo_MD603-N60-2015.12.03-23.57.05_MD603_2_0179_cropped_compressed.jpg /home/yuncong/csd395/CSHL_cells_v2/detected_cells/MD603/MD603-IHC22-2015.12.03-14.58.25_MD603_1_0066/MD603-IHC22-2015.12.03-14.58.25_MD603_1_0066_image.jpg\n"
     ]
    },
    {
     "name": "stderr",
     "output_type": "stream",
     "text": [
      "Child returned 0\n",
      "Load mask: 14.82\n",
      "regionprops: 2.69\n",
      "57685 blobs identified.\n",
      "Save blob coords: 3.16\n",
      "Save blob masks: 6.16\n",
      "Save blob contours, save: 10.05\n",
      "Compute blob properties, save: 12.78\n",
      "Processing section: 128\n"
     ]
    },
    {
     "name": "stdout",
     "output_type": "stream",
     "text": [
      "cp /oasis/projects/nsf/csd395/yuncong/CSHL_data_processed/MD603/MD603_lossless_alignedTo_MD603-N60-2015.12.03-23.57.05_MD603_2_0179_cropped_compressed/MD603-N23-2015.12.03-21.21.09_MD603_3_0067_lossless_alignedTo_MD603-N60-2015.12.03-23.57.05_MD603_2_0179_cropped_compressed.jpg /home/yuncong/csd395/CSHL_cells_v2/detected_cells/MD603/MD603-N23-2015.12.03-21.21.09_MD603_3_0067/MD603-N23-2015.12.03-21.21.09_MD603_3_0067_image.jpg\n"
     ]
    },
    {
     "name": "stderr",
     "output_type": "stream",
     "text": [
      "Child returned 0\n",
      "Load mask: 14.67\n",
      "regionprops: 2.35\n",
      "54058 blobs identified.\n",
      "Save blob coords: 2.79\n",
      "Save blob masks: 5.63\n",
      "Save blob contours, save: 9.01\n",
      "Compute blob properties, save: 11.38\n",
      "Processing section: 129\n"
     ]
    },
    {
     "name": "stdout",
     "output_type": "stream",
     "text": [
      "cp /oasis/projects/nsf/csd395/yuncong/CSHL_data_processed/MD603/MD603_lossless_alignedTo_MD603-N60-2015.12.03-23.57.05_MD603_2_0179_cropped_compressed/MD603-IHC23-2015.12.03-15.02.33_MD603_2_0068_lossless_alignedTo_MD603-N60-2015.12.03-23.57.05_MD603_2_0179_cropped_compressed.jpg /home/yuncong/csd395/CSHL_cells_v2/detected_cells/MD603/MD603-IHC23-2015.12.03-15.02.33_MD603_2_0068/MD603-IHC23-2015.12.03-15.02.33_MD603_2_0068_image.jpg\n"
     ]
    },
    {
     "name": "stderr",
     "output_type": "stream",
     "text": [
      "Child returned 0\n",
      "Load mask: 14.97\n",
      "regionprops: 2.61\n",
      "58473 blobs identified.\n",
      "Save blob coords: 3.25\n",
      "Save blob masks: 6.38\n",
      "Save blob contours, save: 10.10\n",
      "Compute blob properties, save: 12.94\n",
      "Processing section: 130\n"
     ]
    },
    {
     "name": "stdout",
     "output_type": "stream",
     "text": [
      "cp /oasis/projects/nsf/csd395/yuncong/CSHL_data_processed/MD603/MD603_lossless_alignedTo_MD603-N60-2015.12.03-23.57.05_MD603_2_0179_cropped_compressed/MD603-N23-2015.12.03-21.21.09_MD603_1_0069_lossless_alignedTo_MD603-N60-2015.12.03-23.57.05_MD603_2_0179_cropped_compressed.jpg /home/yuncong/csd395/CSHL_cells_v2/detected_cells/MD603/MD603-N23-2015.12.03-21.21.09_MD603_1_0069/MD603-N23-2015.12.03-21.21.09_MD603_1_0069_image.jpg\n"
     ]
    },
    {
     "name": "stderr",
     "output_type": "stream",
     "text": [
      "Child returned 0\n",
      "Load mask: 14.79\n",
      "regionprops: 2.89\n",
      "56968 blobs identified.\n",
      "Save blob coords: 3.12\n",
      "Save blob masks: 6.20\n",
      "Save blob contours, save: 9.67\n",
      "Compute blob properties, save: 12.46\n",
      "Processing section: 131\n"
     ]
    },
    {
     "name": "stdout",
     "output_type": "stream",
     "text": [
      "cp /oasis/projects/nsf/csd395/yuncong/CSHL_data_processed/MD603/MD603_lossless_alignedTo_MD603-N60-2015.12.03-23.57.05_MD603_2_0179_cropped_compressed/MD603-IHC23-2015.12.03-15.02.33_MD603_1_0069_lossless_alignedTo_MD603-N60-2015.12.03-23.57.05_MD603_2_0179_cropped_compressed.jpg /home/yuncong/csd395/CSHL_cells_v2/detected_cells/MD603/MD603-IHC23-2015.12.03-15.02.33_MD603_1_0069/MD603-IHC23-2015.12.03-15.02.33_MD603_1_0069_image.jpg\n"
     ]
    },
    {
     "name": "stderr",
     "output_type": "stream",
     "text": [
      "Child returned 0\n",
      "Load mask: 14.90\n",
      "regionprops: 2.40\n",
      "58231 blobs identified.\n",
      "Save blob coords: 3.21\n",
      "Save blob masks: 6.48\n",
      "Save blob contours, save: 9.64\n",
      "Compute blob properties, save: 12.68\n",
      "Processing section: 132\n"
     ]
    },
    {
     "name": "stdout",
     "output_type": "stream",
     "text": [
      "cp /oasis/projects/nsf/csd395/yuncong/CSHL_data_processed/MD603/MD603_lossless_alignedTo_MD603-N60-2015.12.03-23.57.05_MD603_2_0179_cropped_compressed/MD603-N24-2015.12.03-21.24.20_MD603_3_0070_lossless_alignedTo_MD603-N60-2015.12.03-23.57.05_MD603_2_0179_cropped_compressed.jpg /home/yuncong/csd395/CSHL_cells_v2/detected_cells/MD603/MD603-N24-2015.12.03-21.24.20_MD603_3_0070/MD603-N24-2015.12.03-21.24.20_MD603_3_0070_image.jpg\n"
     ]
    },
    {
     "name": "stderr",
     "output_type": "stream",
     "text": [
      "Child returned 0\n",
      "Load mask: 14.67\n",
      "regionprops: 2.84\n",
      "57147 blobs identified.\n",
      "Save blob coords: 3.11\n",
      "Save blob masks: 6.19\n",
      "Save blob contours, save: 9.71\n",
      "Compute blob properties, save: 12.39\n",
      "Processing section: 133\n"
     ]
    },
    {
     "name": "stdout",
     "output_type": "stream",
     "text": [
      "cp /oasis/projects/nsf/csd395/yuncong/CSHL_data_processed/MD603/MD603_lossless_alignedTo_MD603-N60-2015.12.03-23.57.05_MD603_2_0179_cropped_compressed/MD603-IHC24-2015.12.03-15.06.33_MD603_2_0071_lossless_alignedTo_MD603-N60-2015.12.03-23.57.05_MD603_2_0179_cropped_compressed.jpg /home/yuncong/csd395/CSHL_cells_v2/detected_cells/MD603/MD603-IHC24-2015.12.03-15.06.33_MD603_2_0071/MD603-IHC24-2015.12.03-15.06.33_MD603_2_0071_image.jpg\n"
     ]
    },
    {
     "name": "stderr",
     "output_type": "stream",
     "text": [
      "Child returned 0\n",
      "Load mask: 14.80\n",
      "regionprops: 2.81\n",
      "58131 blobs identified.\n",
      "Save blob coords: 3.22\n",
      "Save blob masks: 6.24\n",
      "Save blob contours, save: 9.70\n",
      "Compute blob properties, save: 12.50\n",
      "Processing section: 134\n"
     ]
    },
    {
     "name": "stdout",
     "output_type": "stream",
     "text": [
      "cp /oasis/projects/nsf/csd395/yuncong/CSHL_data_processed/MD603/MD603_lossless_alignedTo_MD603-N60-2015.12.03-23.57.05_MD603_2_0179_cropped_compressed/MD603-N24-2015.12.03-21.24.20_MD603_1_0072_lossless_alignedTo_MD603-N60-2015.12.03-23.57.05_MD603_2_0179_cropped_compressed.jpg /home/yuncong/csd395/CSHL_cells_v2/detected_cells/MD603/MD603-N24-2015.12.03-21.24.20_MD603_1_0072/MD603-N24-2015.12.03-21.24.20_MD603_1_0072_image.jpg\n"
     ]
    },
    {
     "name": "stderr",
     "output_type": "stream",
     "text": [
      "Child returned 0\n",
      "Load mask: 14.67\n",
      "regionprops: 2.69\n",
      "57954 blobs identified.\n",
      "Save blob coords: 3.25\n",
      "Save blob masks: 6.35\n",
      "Save blob contours, save: 9.92\n",
      "Compute blob properties, save: 13.00\n",
      "Processing section: 135\n"
     ]
    },
    {
     "name": "stdout",
     "output_type": "stream",
     "text": [
      "cp /oasis/projects/nsf/csd395/yuncong/CSHL_data_processed/MD603/MD603_lossless_alignedTo_MD603-N60-2015.12.03-23.57.05_MD603_2_0179_cropped_compressed/MD603-IHC24-2015.12.03-15.06.33_MD603_1_0072_lossless_alignedTo_MD603-N60-2015.12.03-23.57.05_MD603_2_0179_cropped_compressed.jpg /home/yuncong/csd395/CSHL_cells_v2/detected_cells/MD603/MD603-IHC24-2015.12.03-15.06.33_MD603_1_0072/MD603-IHC24-2015.12.03-15.06.33_MD603_1_0072_image.jpg\n"
     ]
    },
    {
     "name": "stderr",
     "output_type": "stream",
     "text": [
      "Child returned 0\n",
      "Load mask: 14.83\n",
      "regionprops: 2.47\n",
      "59057 blobs identified.\n",
      "Save blob coords: 3.33\n",
      "Save blob masks: 6.63\n",
      "Save blob contours, save: 9.97\n",
      "Compute blob properties, save: 12.92\n",
      "Processing section: 136\n"
     ]
    },
    {
     "name": "stdout",
     "output_type": "stream",
     "text": [
      "cp /oasis/projects/nsf/csd395/yuncong/CSHL_data_processed/MD603/MD603_lossless_alignedTo_MD603-N60-2015.12.03-23.57.05_MD603_2_0179_cropped_compressed/MD603-N25-2015.12.03-21.27.32_MD603_3_0073_lossless_alignedTo_MD603-N60-2015.12.03-23.57.05_MD603_2_0179_cropped_compressed.jpg /home/yuncong/csd395/CSHL_cells_v2/detected_cells/MD603/MD603-N25-2015.12.03-21.27.32_MD603_3_0073/MD603-N25-2015.12.03-21.27.32_MD603_3_0073_image.jpg\n"
     ]
    },
    {
     "name": "stderr",
     "output_type": "stream",
     "text": [
      "Child returned 0\n",
      "Load mask: 14.66\n",
      "regionprops: 2.71\n",
      "53409 blobs identified.\n",
      "Save blob coords: 2.80\n",
      "Save blob masks: 5.63\n",
      "Save blob contours, save: 8.84\n",
      "Compute blob properties, save: 11.49\n",
      "Processing section: 137\n"
     ]
    },
    {
     "name": "stdout",
     "output_type": "stream",
     "text": [
      "cp /oasis/projects/nsf/csd395/yuncong/CSHL_data_processed/MD603/MD603_lossless_alignedTo_MD603-N60-2015.12.03-23.57.05_MD603_2_0179_cropped_compressed/MD603-IHC25-2015.12.03-15.10.55_MD603_3_0073_lossless_alignedTo_MD603-N60-2015.12.03-23.57.05_MD603_2_0179_cropped_compressed.jpg /home/yuncong/csd395/CSHL_cells_v2/detected_cells/MD603/MD603-IHC25-2015.12.03-15.10.55_MD603_3_0073/MD603-IHC25-2015.12.03-15.10.55_MD603_3_0073_image.jpg\n"
     ]
    },
    {
     "name": "stderr",
     "output_type": "stream",
     "text": [
      "Child returned 0\n",
      "Load mask: 14.73\n",
      "regionprops: 2.48\n",
      "59563 blobs identified.\n",
      "Save blob coords: 3.33\n",
      "Save blob masks: 6.71\n",
      "Save blob contours, save: 9.87\n",
      "Compute blob properties, save: 13.10\n",
      "Processing section: 138\n"
     ]
    },
    {
     "name": "stdout",
     "output_type": "stream",
     "text": [
      "cp /oasis/projects/nsf/csd395/yuncong/CSHL_data_processed/MD603/MD603_lossless_alignedTo_MD603-N60-2015.12.03-23.57.05_MD603_2_0179_cropped_compressed/MD603-N25-2015.12.03-21.27.32_MD603_1_0075_lossless_alignedTo_MD603-N60-2015.12.03-23.57.05_MD603_2_0179_cropped_compressed.jpg /home/yuncong/csd395/CSHL_cells_v2/detected_cells/MD603/MD603-N25-2015.12.03-21.27.32_MD603_1_0075/MD603-N25-2015.12.03-21.27.32_MD603_1_0075_image.jpg\n"
     ]
    },
    {
     "name": "stderr",
     "output_type": "stream",
     "text": [
      "Child returned 0\n",
      "Load mask: 14.72\n",
      "regionprops: 2.84\n",
      "58545 blobs identified.\n",
      "Save blob coords: 3.27\n",
      "Save blob masks: 6.35\n",
      "Save blob contours, save: 9.72\n",
      "Compute blob properties, save: 12.85\n",
      "Processing section: 139\n"
     ]
    },
    {
     "name": "stdout",
     "output_type": "stream",
     "text": [
      "cp /oasis/projects/nsf/csd395/yuncong/CSHL_data_processed/MD603/MD603_lossless_alignedTo_MD603-N60-2015.12.03-23.57.05_MD603_2_0179_cropped_compressed/MD603-IHC25-2015.12.03-15.10.55_MD603_1_0075_lossless_alignedTo_MD603-N60-2015.12.03-23.57.05_MD603_2_0179_cropped_compressed.jpg /home/yuncong/csd395/CSHL_cells_v2/detected_cells/MD603/MD603-IHC25-2015.12.03-15.10.55_MD603_1_0075/MD603-IHC25-2015.12.03-15.10.55_MD603_1_0075_image.jpg\n"
     ]
    },
    {
     "name": "stderr",
     "output_type": "stream",
     "text": [
      "Child returned 0\n",
      "Load mask: 14.84\n",
      "regionprops: 2.80\n",
      "58892 blobs identified.\n",
      "Save blob coords: 3.40\n",
      "Save blob masks: 6.44\n",
      "Save blob contours, save: 10.04\n",
      "Compute blob properties, save: 13.07\n",
      "Processing section: 140\n"
     ]
    },
    {
     "name": "stdout",
     "output_type": "stream",
     "text": [
      "cp /oasis/projects/nsf/csd395/yuncong/CSHL_data_processed/MD603/MD603_lossless_alignedTo_MD603-N60-2015.12.03-23.57.05_MD603_2_0179_cropped_compressed/MD603-N26-2015.12.03-21.30.48_MD603_3_0076_lossless_alignedTo_MD603-N60-2015.12.03-23.57.05_MD603_2_0179_cropped_compressed.jpg /home/yuncong/csd395/CSHL_cells_v2/detected_cells/MD603/MD603-N26-2015.12.03-21.30.48_MD603_3_0076/MD603-N26-2015.12.03-21.30.48_MD603_3_0076_image.jpg\n"
     ]
    },
    {
     "name": "stderr",
     "output_type": "stream",
     "text": [
      "Child returned 0\n",
      "Load mask: 14.67\n",
      "regionprops: 2.36\n",
      "60193 blobs identified.\n",
      "Save blob coords: 3.27\n",
      "Save blob masks: 6.47\n",
      "Save blob contours, save: 10.48\n",
      "Compute blob properties, save: 13.03\n",
      "Processing section: 141\n"
     ]
    },
    {
     "name": "stdout",
     "output_type": "stream",
     "text": [
      "cp /oasis/projects/nsf/csd395/yuncong/CSHL_data_processed/MD603/MD603_lossless_alignedTo_MD603-N60-2015.12.03-23.57.05_MD603_2_0179_cropped_compressed/MD603-IHC26-2015.12.03-15.14.05_MD603_2_0077_lossless_alignedTo_MD603-N60-2015.12.03-23.57.05_MD603_2_0179_cropped_compressed.jpg /home/yuncong/csd395/CSHL_cells_v2/detected_cells/MD603/MD603-IHC26-2015.12.03-15.14.05_MD603_2_0077/MD603-IHC26-2015.12.03-15.14.05_MD603_2_0077_image.jpg\n"
     ]
    },
    {
     "name": "stderr",
     "output_type": "stream",
     "text": [
      "Child returned 0\n",
      "Load mask: 14.83\n",
      "regionprops: 2.86\n",
      "59643 blobs identified.\n",
      "Save blob coords: 3.25\n",
      "Save blob masks: 6.48\n",
      "Save blob contours, save: 10.02\n",
      "Compute blob properties, save: 12.81\n",
      "Processing section: 142\n"
     ]
    },
    {
     "name": "stdout",
     "output_type": "stream",
     "text": [
      "cp /oasis/projects/nsf/csd395/yuncong/CSHL_data_processed/MD603/MD603_lossless_alignedTo_MD603-N60-2015.12.03-23.57.05_MD603_2_0179_cropped_compressed/MD603-N26-2015.12.03-21.30.48_MD603_1_0078_lossless_alignedTo_MD603-N60-2015.12.03-23.57.05_MD603_2_0179_cropped_compressed.jpg /home/yuncong/csd395/CSHL_cells_v2/detected_cells/MD603/MD603-N26-2015.12.03-21.30.48_MD603_1_0078/MD603-N26-2015.12.03-21.30.48_MD603_1_0078_image.jpg\n"
     ]
    },
    {
     "name": "stderr",
     "output_type": "stream",
     "text": [
      "Child returned 0\n",
      "Load mask: 14.67\n",
      "regionprops: 2.77\n",
      "59414 blobs identified.\n",
      "Save blob coords: 3.26\n",
      "Save blob masks: 6.39\n",
      "Save blob contours, save: 10.00\n",
      "Compute blob properties, save: 13.16\n",
      "Processing section: 143\n"
     ]
    },
    {
     "name": "stdout",
     "output_type": "stream",
     "text": [
      "cp /oasis/projects/nsf/csd395/yuncong/CSHL_data_processed/MD603/MD603_lossless_alignedTo_MD603-N60-2015.12.03-23.57.05_MD603_2_0179_cropped_compressed/MD603-IHC26-2015.12.03-15.14.05_MD603_1_0078_lossless_alignedTo_MD603-N60-2015.12.03-23.57.05_MD603_2_0179_cropped_compressed.jpg /home/yuncong/csd395/CSHL_cells_v2/detected_cells/MD603/MD603-IHC26-2015.12.03-15.14.05_MD603_1_0078/MD603-IHC26-2015.12.03-15.14.05_MD603_1_0078_image.jpg\n"
     ]
    },
    {
     "name": "stderr",
     "output_type": "stream",
     "text": [
      "Child returned 0\n",
      "Load mask: 14.84\n",
      "regionprops: 2.36\n",
      "60014 blobs identified.\n",
      "Save blob coords: 3.28\n",
      "Save blob masks: 6.68\n",
      "Save blob contours, save: 10.06\n",
      "Compute blob properties, save: 13.04\n",
      "Processing section: 144\n"
     ]
    },
    {
     "name": "stdout",
     "output_type": "stream",
     "text": [
      "cp /oasis/projects/nsf/csd395/yuncong/CSHL_data_processed/MD603/MD603_lossless_alignedTo_MD603-N60-2015.12.03-23.57.05_MD603_2_0179_cropped_compressed/MD603-N27-2015.12.03-21.34.04_MD603_3_0079_lossless_alignedTo_MD603-N60-2015.12.03-23.57.05_MD603_2_0179_cropped_compressed.jpg /home/yuncong/csd395/CSHL_cells_v2/detected_cells/MD603/MD603-N27-2015.12.03-21.34.04_MD603_3_0079/MD603-N27-2015.12.03-21.34.04_MD603_3_0079_image.jpg\n"
     ]
    },
    {
     "name": "stderr",
     "output_type": "stream",
     "text": [
      "Child returned 0\n",
      "Load mask: 15.03\n",
      "regionprops: 2.79\n",
      "68814 blobs identified.\n",
      "Save blob coords: 3.77\n",
      "Save blob masks: 7.40\n",
      "Save blob contours, save: 11.62\n",
      "Compute blob properties, save: 14.88\n",
      "Processing section: 145\n"
     ]
    },
    {
     "name": "stdout",
     "output_type": "stream",
     "text": [
      "cp /oasis/projects/nsf/csd395/yuncong/CSHL_data_processed/MD603/MD603_lossless_alignedTo_MD603-N60-2015.12.03-23.57.05_MD603_2_0179_cropped_compressed/MD603-IHC27-2015.12.03-15.18.09_MD603_2_0080_lossless_alignedTo_MD603-N60-2015.12.03-23.57.05_MD603_2_0179_cropped_compressed.jpg /home/yuncong/csd395/CSHL_cells_v2/detected_cells/MD603/MD603-IHC27-2015.12.03-15.18.09_MD603_2_0080/MD603-IHC27-2015.12.03-15.18.09_MD603_2_0080_image.jpg\n"
     ]
    },
    {
     "name": "stderr",
     "output_type": "stream",
     "text": [
      "Child returned 0\n",
      "Load mask: 14.66\n",
      "regionprops: 2.93\n",
      "61000 blobs identified.\n",
      "Save blob coords: 3.41\n",
      "Save blob masks: 6.57\n",
      "Save blob contours, save: 10.38\n",
      "Compute blob properties, save: 13.00\n",
      "Processing section: 146\n"
     ]
    },
    {
     "name": "stdout",
     "output_type": "stream",
     "text": [
      "cp /oasis/projects/nsf/csd395/yuncong/CSHL_data_processed/MD603/MD603_lossless_alignedTo_MD603-N60-2015.12.03-23.57.05_MD603_2_0179_cropped_compressed/MD603-N27-2015.12.03-21.34.04_MD603_1_0081_lossless_alignedTo_MD603-N60-2015.12.03-23.57.05_MD603_2_0179_cropped_compressed.jpg /home/yuncong/csd395/CSHL_cells_v2/detected_cells/MD603/MD603-N27-2015.12.03-21.34.04_MD603_1_0081/MD603-N27-2015.12.03-21.34.04_MD603_1_0081_image.jpg\n"
     ]
    },
    {
     "name": "stderr",
     "output_type": "stream",
     "text": [
      "Child returned 0\n",
      "Load mask: 14.73\n",
      "regionprops: 2.72\n",
      "58985 blobs identified.\n",
      "Save blob coords: 3.29\n",
      "Save blob masks: 6.43\n",
      "Save blob contours, save: 10.14\n",
      "Compute blob properties, save: 13.12\n",
      "Processing section: 147\n"
     ]
    },
    {
     "name": "stdout",
     "output_type": "stream",
     "text": [
      "cp /oasis/projects/nsf/csd395/yuncong/CSHL_data_processed/MD603/MD603_lossless_alignedTo_MD603-N60-2015.12.03-23.57.05_MD603_2_0179_cropped_compressed/MD603-IHC27-2015.12.03-15.18.09_MD603_1_0081_lossless_alignedTo_MD603-N60-2015.12.03-23.57.05_MD603_2_0179_cropped_compressed.jpg /home/yuncong/csd395/CSHL_cells_v2/detected_cells/MD603/MD603-IHC27-2015.12.03-15.18.09_MD603_1_0081/MD603-IHC27-2015.12.03-15.18.09_MD603_1_0081_image.jpg\n"
     ]
    },
    {
     "name": "stderr",
     "output_type": "stream",
     "text": [
      "Child returned 0\n",
      "Load mask: 14.66\n",
      "regionprops: 2.81\n",
      "61243 blobs identified.\n",
      "Save blob coords: 3.53\n",
      "Save blob masks: 6.63\n",
      "Save blob contours, save: 10.26\n",
      "Compute blob properties, save: 13.19\n",
      "Processing section: 148\n"
     ]
    },
    {
     "name": "stdout",
     "output_type": "stream",
     "text": [
      "cp /oasis/projects/nsf/csd395/yuncong/CSHL_data_processed/MD603/MD603_lossless_alignedTo_MD603-N60-2015.12.03-23.57.05_MD603_2_0179_cropped_compressed/MD603-N28-2015.12.03-21.37.25_MD603_3_0082_lossless_alignedTo_MD603-N60-2015.12.03-23.57.05_MD603_2_0179_cropped_compressed.jpg /home/yuncong/csd395/CSHL_cells_v2/detected_cells/MD603/MD603-N28-2015.12.03-21.37.25_MD603_3_0082/MD603-N28-2015.12.03-21.37.25_MD603_3_0082_image.jpg\n"
     ]
    },
    {
     "name": "stderr",
     "output_type": "stream",
     "text": [
      "Child returned 0\n",
      "Load mask: 15.02\n",
      "regionprops: 2.75\n",
      "60423 blobs identified.\n",
      "Save blob coords: 3.38\n",
      "Save blob masks: 6.66\n",
      "Save blob contours, save: 10.29\n",
      "Compute blob properties, save: 13.00\n",
      "Processing section: 149\n"
     ]
    },
    {
     "name": "stdout",
     "output_type": "stream",
     "text": [
      "cp /oasis/projects/nsf/csd395/yuncong/CSHL_data_processed/MD603/MD603_lossless_alignedTo_MD603-N60-2015.12.03-23.57.05_MD603_2_0179_cropped_compressed/MD603-IHC28-2016.03.02-15.09.43_MD603_1_0082_lossless_alignedTo_MD603-N60-2015.12.03-23.57.05_MD603_2_0179_cropped_compressed.jpg /home/yuncong/csd395/CSHL_cells_v2/detected_cells/MD603/MD603-IHC28-2016.03.02-15.09.43_MD603_1_0082/MD603-IHC28-2016.03.02-15.09.43_MD603_1_0082_image.jpg\n"
     ]
    },
    {
     "name": "stderr",
     "output_type": "stream",
     "text": [
      "Child returned 0\n",
      "Load mask: 14.76\n",
      "regionprops: 2.78\n",
      "73336 blobs identified.\n",
      "Save blob coords: 4.06\n",
      "Save blob masks: 7.85\n",
      "Save blob contours, save: 11.91\n",
      "Compute blob properties, save: 15.50\n",
      "Processing section: 150\n"
     ]
    },
    {
     "name": "stdout",
     "output_type": "stream",
     "text": [
      "cp /oasis/projects/nsf/csd395/yuncong/CSHL_data_processed/MD603/MD603_lossless_alignedTo_MD603-N60-2015.12.03-23.57.05_MD603_2_0179_cropped_compressed/MD603-N28-2015.12.03-21.37.25_MD603_1_0084_lossless_alignedTo_MD603-N60-2015.12.03-23.57.05_MD603_2_0179_cropped_compressed.jpg /home/yuncong/csd395/CSHL_cells_v2/detected_cells/MD603/MD603-N28-2015.12.03-21.37.25_MD603_1_0084/MD603-N28-2015.12.03-21.37.25_MD603_1_0084_image.jpg\n"
     ]
    },
    {
     "name": "stderr",
     "output_type": "stream",
     "text": [
      "Child returned 0\n",
      "Load mask: 14.68\n",
      "regionprops: 2.94\n",
      "67277 blobs identified.\n",
      "Save blob coords: 3.69\n",
      "Save blob masks: 7.30\n",
      "Save blob contours, save: 11.42\n",
      "Compute blob properties, save: 14.68\n",
      "Processing section: 151\n"
     ]
    },
    {
     "name": "stdout",
     "output_type": "stream",
     "text": [
      "cp /oasis/projects/nsf/csd395/yuncong/CSHL_data_processed/MD603/MD603_lossless_alignedTo_MD603-N60-2015.12.03-23.57.05_MD603_2_0179_cropped_compressed/MD603-IHC28-2016.03.02-15.09.43_MD603_2_0083_lossless_alignedTo_MD603-N60-2015.12.03-23.57.05_MD603_2_0179_cropped_compressed.jpg /home/yuncong/csd395/CSHL_cells_v2/detected_cells/MD603/MD603-IHC28-2016.03.02-15.09.43_MD603_2_0083/MD603-IHC28-2016.03.02-15.09.43_MD603_2_0083_image.jpg\n"
     ]
    },
    {
     "name": "stderr",
     "output_type": "stream",
     "text": [
      "Child returned 0\n",
      "Load mask: 14.75\n",
      "regionprops: 2.95\n",
      "74018 blobs identified.\n",
      "Save blob coords: 3.97\n",
      "Save blob masks: 7.98\n",
      "Save blob contours, save: 12.18\n",
      "Compute blob properties, save: 15.87\n",
      "Processing section: 152\n"
     ]
    },
    {
     "name": "stdout",
     "output_type": "stream",
     "text": [
      "cp /oasis/projects/nsf/csd395/yuncong/CSHL_data_processed/MD603/MD603_lossless_alignedTo_MD603-N60-2015.12.03-23.57.05_MD603_2_0179_cropped_compressed/MD603-N29-2015.12.03-21.40.52_MD603_3_0085_lossless_alignedTo_MD603-N60-2015.12.03-23.57.05_MD603_2_0179_cropped_compressed.jpg /home/yuncong/csd395/CSHL_cells_v2/detected_cells/MD603/MD603-N29-2015.12.03-21.40.52_MD603_3_0085/MD603-N29-2015.12.03-21.40.52_MD603_3_0085_image.jpg\n"
     ]
    },
    {
     "name": "stderr",
     "output_type": "stream",
     "text": [
      "Child returned 0\n",
      "Load mask: 15.00\n",
      "regionprops: 2.63\n",
      "69069 blobs identified.\n",
      "Save blob coords: 3.77\n",
      "Save blob masks: 7.68\n",
      "Save blob contours, save: 11.47\n",
      "Compute blob properties, save: 14.93\n",
      "Processing section: 153\n"
     ]
    },
    {
     "name": "stdout",
     "output_type": "stream",
     "text": [
      "cp /oasis/projects/nsf/csd395/yuncong/CSHL_data_processed/MD603/MD603_lossless_alignedTo_MD603-N60-2015.12.03-23.57.05_MD603_2_0179_cropped_compressed/MD603-IHC29-2015.12.03-15.25.29_MD603_3_0085_lossless_alignedTo_MD603-N60-2015.12.03-23.57.05_MD603_2_0179_cropped_compressed.jpg /home/yuncong/csd395/CSHL_cells_v2/detected_cells/MD603/MD603-IHC29-2015.12.03-15.25.29_MD603_3_0085/MD603-IHC29-2015.12.03-15.25.29_MD603_3_0085_image.jpg\n"
     ]
    },
    {
     "name": "stderr",
     "output_type": "stream",
     "text": [
      "Child returned 0\n",
      "Load mask: 14.77\n",
      "regionprops: 2.97\n",
      "71827 blobs identified.\n",
      "Save blob coords: 3.98\n",
      "Save blob masks: 7.68\n",
      "Save blob contours, save: 12.05\n",
      "Compute blob properties, save: 15.60\n",
      "Processing section: 154\n"
     ]
    },
    {
     "name": "stdout",
     "output_type": "stream",
     "text": [
      "cp /oasis/projects/nsf/csd395/yuncong/CSHL_data_processed/MD603/MD603_lossless_alignedTo_MD603-N60-2015.12.03-23.57.05_MD603_2_0179_cropped_compressed/MD603-N29-2015.12.03-21.40.52_MD603_1_0087_lossless_alignedTo_MD603-N60-2015.12.03-23.57.05_MD603_2_0179_cropped_compressed.jpg /home/yuncong/csd395/CSHL_cells_v2/detected_cells/MD603/MD603-N29-2015.12.03-21.40.52_MD603_1_0087/MD603-N29-2015.12.03-21.40.52_MD603_1_0087_image.jpg\n"
     ]
    },
    {
     "name": "stderr",
     "output_type": "stream",
     "text": [
      "Child returned 0\n",
      "Load mask: 14.97\n",
      "regionprops: 2.59\n",
      "61340 blobs identified.\n",
      "Save blob coords: 3.40\n",
      "Save blob masks: 7.04\n",
      "Save blob contours, save: 10.28\n",
      "Compute blob properties, save: 13.49\n",
      "Processing section: 155\n"
     ]
    },
    {
     "name": "stdout",
     "output_type": "stream",
     "text": [
      "cp /oasis/projects/nsf/csd395/yuncong/CSHL_data_processed/MD603/MD603_lossless_alignedTo_MD603-N60-2015.12.03-23.57.05_MD603_2_0179_cropped_compressed/MD603-IHC29-2015.12.03-15.25.29_MD603_1_0087_lossless_alignedTo_MD603-N60-2015.12.03-23.57.05_MD603_2_0179_cropped_compressed.jpg /home/yuncong/csd395/CSHL_cells_v2/detected_cells/MD603/MD603-IHC29-2015.12.03-15.25.29_MD603_1_0087/MD603-IHC29-2015.12.03-15.25.29_MD603_1_0087_image.jpg\n"
     ]
    },
    {
     "name": "stderr",
     "output_type": "stream",
     "text": [
      "Child returned 0\n",
      "Load mask: 14.79\n",
      "regionprops: 2.78\n",
      "58686 blobs identified.\n",
      "Save blob coords: 3.22\n",
      "Save blob masks: 6.29\n",
      "Save blob contours, save: 10.02\n",
      "Compute blob properties, save: 12.93\n",
      "Processing section: 156\n"
     ]
    },
    {
     "name": "stdout",
     "output_type": "stream",
     "text": [
      "cp /oasis/projects/nsf/csd395/yuncong/CSHL_data_processed/MD603/MD603_lossless_alignedTo_MD603-N60-2015.12.03-23.57.05_MD603_2_0179_cropped_compressed/MD603-N30-2015.12.03-21.44.19_MD603_2_0089_lossless_alignedTo_MD603-N60-2015.12.03-23.57.05_MD603_2_0179_cropped_compressed.jpg /home/yuncong/csd395/CSHL_cells_v2/detected_cells/MD603/MD603-N30-2015.12.03-21.44.19_MD603_2_0089/MD603-N30-2015.12.03-21.44.19_MD603_2_0089_image.jpg\n"
     ]
    },
    {
     "name": "stderr",
     "output_type": "stream",
     "text": [
      "Child returned 0\n",
      "Load mask: 14.79\n",
      "regionprops: 2.85\n",
      "70503 blobs identified.\n",
      "Save blob coords: 3.71\n",
      "Save blob masks: 7.57\n",
      "Save blob contours, save: 11.96\n",
      "Compute blob properties, save: 15.31\n",
      "Processing section: 157\n"
     ]
    },
    {
     "name": "stdout",
     "output_type": "stream",
     "text": [
      "cp /oasis/projects/nsf/csd395/yuncong/CSHL_data_processed/MD603/MD603_lossless_alignedTo_MD603-N60-2015.12.03-23.57.05_MD603_2_0179_cropped_compressed/MD603-IHC30-2015.12.03-15.29.40_MD603_2_0089_lossless_alignedTo_MD603-N60-2015.12.03-23.57.05_MD603_2_0179_cropped_compressed.jpg /home/yuncong/csd395/CSHL_cells_v2/detected_cells/MD603/MD603-IHC30-2015.12.03-15.29.40_MD603_2_0089/MD603-IHC30-2015.12.03-15.29.40_MD603_2_0089_image.jpg\n"
     ]
    },
    {
     "name": "stderr",
     "output_type": "stream",
     "text": [
      "Child returned 0\n",
      "Load mask: 14.83\n",
      "regionprops: 2.54\n",
      "55265 blobs identified.\n",
      "Save blob coords: 3.09\n",
      "Save blob masks: 5.94\n",
      "Save blob contours, save: 9.24\n",
      "Compute blob properties, save: 11.89\n",
      "Processing section: 158\n"
     ]
    },
    {
     "name": "stdout",
     "output_type": "stream",
     "text": [
      "cp /oasis/projects/nsf/csd395/yuncong/CSHL_data_processed/MD603/MD603_lossless_alignedTo_MD603-N60-2015.12.03-23.57.05_MD603_2_0179_cropped_compressed/MD603-N30-2015.12.03-21.44.19_MD603_1_0090_lossless_alignedTo_MD603-N60-2015.12.03-23.57.05_MD603_2_0179_cropped_compressed.jpg /home/yuncong/csd395/CSHL_cells_v2/detected_cells/MD603/MD603-N30-2015.12.03-21.44.19_MD603_1_0090/MD603-N30-2015.12.03-21.44.19_MD603_1_0090_image.jpg\n"
     ]
    },
    {
     "name": "stderr",
     "output_type": "stream",
     "text": [
      "Child returned 0\n",
      "Load mask: 14.68\n",
      "regionprops: 2.84\n",
      "59443 blobs identified.\n",
      "Save blob coords: 3.22\n",
      "Save blob masks: 6.43\n",
      "Save blob contours, save: 9.93\n",
      "Compute blob properties, save: 12.77\n",
      "Processing section: 159\n"
     ]
    },
    {
     "name": "stdout",
     "output_type": "stream",
     "text": [
      "cp /oasis/projects/nsf/csd395/yuncong/CSHL_data_processed/MD603/MD603_lossless_alignedTo_MD603-N60-2015.12.03-23.57.05_MD603_2_0179_cropped_compressed/MD603-IHC30-2015.12.03-15.29.40_MD603_1_0090_lossless_alignedTo_MD603-N60-2015.12.03-23.57.05_MD603_2_0179_cropped_compressed.jpg /home/yuncong/csd395/CSHL_cells_v2/detected_cells/MD603/MD603-IHC30-2015.12.03-15.29.40_MD603_1_0090/MD603-IHC30-2015.12.03-15.29.40_MD603_1_0090_image.jpg\n"
     ]
    },
    {
     "name": "stderr",
     "output_type": "stream",
     "text": [
      "Child returned 0\n",
      "Load mask: 14.73\n",
      "regionprops: 2.77\n",
      "73810 blobs identified.\n",
      "Save blob coords: 3.93\n",
      "Save blob masks: 8.04\n",
      "Save blob contours, save: 12.35\n",
      "Compute blob properties, save: 15.76\n",
      "Processing section: 160\n"
     ]
    },
    {
     "name": "stdout",
     "output_type": "stream",
     "text": [
      "cp /oasis/projects/nsf/csd395/yuncong/CSHL_data_processed/MD603/MD603_lossless_alignedTo_MD603-N60-2015.12.03-23.57.05_MD603_2_0179_cropped_compressed/MD603-N31-2015.12.03-21.48.50_MD603_3_0091_lossless_alignedTo_MD603-N60-2015.12.03-23.57.05_MD603_2_0179_cropped_compressed.jpg /home/yuncong/csd395/CSHL_cells_v2/detected_cells/MD603/MD603-N31-2015.12.03-21.48.50_MD603_3_0091/MD603-N31-2015.12.03-21.48.50_MD603_3_0091_image.jpg\n"
     ]
    },
    {
     "name": "stderr",
     "output_type": "stream",
     "text": [
      "Child returned 0\n",
      "Load mask: 14.73\n",
      "regionprops: 3.05\n",
      "73840 blobs identified.\n",
      "Save blob coords: 3.97\n",
      "Save blob masks: 7.89\n",
      "Save blob contours, save: 12.00\n",
      "Compute blob properties, save: 16.23\n",
      "Processing section: 161\n"
     ]
    },
    {
     "name": "stdout",
     "output_type": "stream",
     "text": [
      "cp /oasis/projects/nsf/csd395/yuncong/CSHL_data_processed/MD603/MD603_lossless_alignedTo_MD603-N60-2015.12.03-23.57.05_MD603_2_0179_cropped_compressed/MD603-IHC31-2016.03.02-15.13.41_MD603_1_0091_lossless_alignedTo_MD603-N60-2015.12.03-23.57.05_MD603_2_0179_cropped_compressed.jpg /home/yuncong/csd395/CSHL_cells_v2/detected_cells/MD603/MD603-IHC31-2016.03.02-15.13.41_MD603_1_0091/MD603-IHC31-2016.03.02-15.13.41_MD603_1_0091_image.jpg\n"
     ]
    },
    {
     "name": "stderr",
     "output_type": "stream",
     "text": [
      "Child returned 0\n",
      "Load mask: 14.88\n",
      "regionprops: 2.66\n",
      "75347 blobs identified.\n",
      "Save blob coords: 3.94\n",
      "Save blob masks: 8.16\n",
      "Save blob contours, save: 12.62\n",
      "Compute blob properties, save: 15.94\n",
      "Processing section: 162\n"
     ]
    },
    {
     "name": "stdout",
     "output_type": "stream",
     "text": [
      "cp /oasis/projects/nsf/csd395/yuncong/CSHL_data_processed/MD603/MD603_lossless_alignedTo_MD603-N60-2015.12.03-23.57.05_MD603_2_0179_cropped_compressed/MD603-N31-2015.12.03-21.48.50_MD603_1_0093_lossless_alignedTo_MD603-N60-2015.12.03-23.57.05_MD603_2_0179_cropped_compressed.jpg /home/yuncong/csd395/CSHL_cells_v2/detected_cells/MD603/MD603-N31-2015.12.03-21.48.50_MD603_1_0093/MD603-N31-2015.12.03-21.48.50_MD603_1_0093_image.jpg\n"
     ]
    },
    {
     "name": "stderr",
     "output_type": "stream",
     "text": [
      "Child returned 0\n",
      "Load mask: 14.92\n",
      "regionprops: 3.05\n",
      "73265 blobs identified.\n",
      "Save blob coords: 3.83\n",
      "Save blob masks: 7.80\n",
      "Save blob contours, save: 12.89\n",
      "Compute blob properties, save: 15.76\n",
      "Processing section: 163\n"
     ]
    },
    {
     "name": "stdout",
     "output_type": "stream",
     "text": [
      "cp /oasis/projects/nsf/csd395/yuncong/CSHL_data_processed/MD603/MD603_lossless_alignedTo_MD603-N60-2015.12.03-23.57.05_MD603_2_0179_cropped_compressed/MD603-IHC31-2016.03.02-15.13.41_MD603_2_0092_lossless_alignedTo_MD603-N60-2015.12.03-23.57.05_MD603_2_0179_cropped_compressed.jpg /home/yuncong/csd395/CSHL_cells_v2/detected_cells/MD603/MD603-IHC31-2016.03.02-15.13.41_MD603_2_0092/MD603-IHC31-2016.03.02-15.13.41_MD603_2_0092_image.jpg\n"
     ]
    },
    {
     "name": "stderr",
     "output_type": "stream",
     "text": [
      "Child returned 0\n",
      "Load mask: 14.74\n",
      "regionprops: 3.05\n",
      "78355 blobs identified.\n",
      "Save blob coords: 4.10\n",
      "Save blob masks: 8.33\n",
      "Save blob contours, save: 14.23\n",
      "Compute blob properties, save: 16.98\n",
      "Processing section: 164\n"
     ]
    },
    {
     "name": "stdout",
     "output_type": "stream",
     "text": [
      "cp /oasis/projects/nsf/csd395/yuncong/CSHL_data_processed/MD603/MD603_lossless_alignedTo_MD603-N60-2015.12.03-23.57.05_MD603_2_0179_cropped_compressed/MD603-N32-2015.12.03-21.52.26_MD603_3_0094_lossless_alignedTo_MD603-N60-2015.12.03-23.57.05_MD603_2_0179_cropped_compressed.jpg /home/yuncong/csd395/CSHL_cells_v2/detected_cells/MD603/MD603-N32-2015.12.03-21.52.26_MD603_3_0094/MD603-N32-2015.12.03-21.52.26_MD603_3_0094_image.jpg\n"
     ]
    },
    {
     "name": "stderr",
     "output_type": "stream",
     "text": [
      "Child returned 0\n",
      "Load mask: 14.74\n",
      "regionprops: 2.69\n",
      "73298 blobs identified.\n",
      "Save blob coords: 3.97\n",
      "Save blob masks: 8.12\n",
      "Save blob contours, save: 12.30\n",
      "Compute blob properties, save: 16.19\n",
      "Processing section: 165\n"
     ]
    },
    {
     "name": "stdout",
     "output_type": "stream",
     "text": [
      "cp /oasis/projects/nsf/csd395/yuncong/CSHL_data_processed/MD603/MD603_lossless_alignedTo_MD603-N60-2015.12.03-23.57.05_MD603_2_0179_cropped_compressed/MD603-IHC32-2016.03.02-15.17.51_MD603_1_0094_lossless_alignedTo_MD603-N60-2015.12.03-23.57.05_MD603_2_0179_cropped_compressed.jpg /home/yuncong/csd395/CSHL_cells_v2/detected_cells/MD603/MD603-IHC32-2016.03.02-15.17.51_MD603_1_0094/MD603-IHC32-2016.03.02-15.17.51_MD603_1_0094_image.jpg\n"
     ]
    },
    {
     "name": "stderr",
     "output_type": "stream",
     "text": [
      "Child returned 0\n",
      "Load mask: 15.01\n",
      "regionprops: 2.76\n",
      "78148 blobs identified.\n",
      "Save blob coords: 4.14\n",
      "Save blob masks: 8.55\n",
      "Save blob contours, save: 12.71\n",
      "Compute blob properties, save: 16.46\n",
      "Processing section: 166\n"
     ]
    },
    {
     "name": "stdout",
     "output_type": "stream",
     "text": [
      "cp /oasis/projects/nsf/csd395/yuncong/CSHL_data_processed/MD603/MD603_lossless_alignedTo_MD603-N60-2015.12.03-23.57.05_MD603_2_0179_cropped_compressed/MD603-N32-2015.12.03-21.52.26_MD603_2_0095_lossless_alignedTo_MD603-N60-2015.12.03-23.57.05_MD603_2_0179_cropped_compressed.jpg /home/yuncong/csd395/CSHL_cells_v2/detected_cells/MD603/MD603-N32-2015.12.03-21.52.26_MD603_2_0095/MD603-N32-2015.12.03-21.52.26_MD603_2_0095_image.jpg\n"
     ]
    },
    {
     "name": "stderr",
     "output_type": "stream",
     "text": [
      "Child returned 0\n",
      "Load mask: 14.74\n",
      "regionprops: 3.12\n",
      "72157 blobs identified.\n",
      "Save blob coords: 3.91\n",
      "Save blob masks: 7.72\n",
      "Save blob contours, save: 12.31\n",
      "Compute blob properties, save: 15.70\n",
      "Processing section: 167\n"
     ]
    },
    {
     "name": "stdout",
     "output_type": "stream",
     "text": [
      "cp /oasis/projects/nsf/csd395/yuncong/CSHL_data_processed/MD603/MD603_lossless_alignedTo_MD603-N60-2015.12.03-23.57.05_MD603_2_0179_cropped_compressed/MD603-IHC32-2016.03.02-15.17.51_MD603_2_0095_lossless_alignedTo_MD603-N60-2015.12.03-23.57.05_MD603_2_0179_cropped_compressed.jpg /home/yuncong/csd395/CSHL_cells_v2/detected_cells/MD603/MD603-IHC32-2016.03.02-15.17.51_MD603_2_0095/MD603-IHC32-2016.03.02-15.17.51_MD603_2_0095_image.jpg\n"
     ]
    },
    {
     "name": "stderr",
     "output_type": "stream",
     "text": [
      "Child returned 0\n",
      "Load mask: 14.75\n",
      "regionprops: 3.17\n",
      "80158 blobs identified.\n",
      "Save blob coords: 4.18\n",
      "Save blob masks: 8.60\n",
      "Save blob contours, save: 13.12\n",
      "Compute blob properties, save: 17.31\n",
      "Processing section: 168\n"
     ]
    },
    {
     "name": "stdout",
     "output_type": "stream",
     "text": [
      "cp /oasis/projects/nsf/csd395/yuncong/CSHL_data_processed/MD603/MD603_lossless_alignedTo_MD603-N60-2015.12.03-23.57.05_MD603_2_0179_cropped_compressed/MD603-N33-2015.12.03-21.56.03_MD603_3_0097_lossless_alignedTo_MD603-N60-2015.12.03-23.57.05_MD603_2_0179_cropped_compressed.jpg /home/yuncong/csd395/CSHL_cells_v2/detected_cells/MD603/MD603-N33-2015.12.03-21.56.03_MD603_3_0097/MD603-N33-2015.12.03-21.56.03_MD603_3_0097_image.jpg\n"
     ]
    },
    {
     "name": "stderr",
     "output_type": "stream",
     "text": [
      "Child returned 0\n",
      "Load mask: 14.86\n",
      "regionprops: 2.66\n",
      "74539 blobs identified.\n",
      "Save blob coords: 4.02\n",
      "Save blob masks: 8.41\n",
      "Save blob contours, save: 12.29\n",
      "Compute blob properties, save: 16.33\n",
      "Processing section: 169\n"
     ]
    },
    {
     "name": "stdout",
     "output_type": "stream",
     "text": [
      "cp /oasis/projects/nsf/csd395/yuncong/CSHL_data_processed/MD603/MD603_lossless_alignedTo_MD603-N60-2015.12.03-23.57.05_MD603_2_0179_cropped_compressed/MD603-IHC33-2015.12.03-15.41.25_MD603_3_0097_lossless_alignedTo_MD603-N60-2015.12.03-23.57.05_MD603_2_0179_cropped_compressed.jpg /home/yuncong/csd395/CSHL_cells_v2/detected_cells/MD603/MD603-IHC33-2015.12.03-15.41.25_MD603_3_0097/MD603-IHC33-2015.12.03-15.41.25_MD603_3_0097_image.jpg\n"
     ]
    },
    {
     "name": "stderr",
     "output_type": "stream",
     "text": [
      "Child returned 0\n",
      "Load mask: 14.75\n",
      "regionprops: 2.78\n",
      "78526 blobs identified.\n",
      "Save blob coords: 4.27\n",
      "Save blob masks: 8.87\n",
      "Save blob contours, save: 13.25\n",
      "Compute blob properties, save: 16.69\n",
      "Processing section: 170\n"
     ]
    },
    {
     "name": "stdout",
     "output_type": "stream",
     "text": [
      "cp /oasis/projects/nsf/csd395/yuncong/CSHL_data_processed/MD603/MD603_lossless_alignedTo_MD603-N60-2015.12.03-23.57.05_MD603_2_0179_cropped_compressed/MD603-N33-2015.12.03-21.56.03_MD603_1_0099_lossless_alignedTo_MD603-N60-2015.12.03-23.57.05_MD603_2_0179_cropped_compressed.jpg /home/yuncong/csd395/CSHL_cells_v2/detected_cells/MD603/MD603-N33-2015.12.03-21.56.03_MD603_1_0099/MD603-N33-2015.12.03-21.56.03_MD603_1_0099_image.jpg\n"
     ]
    },
    {
     "name": "stderr",
     "output_type": "stream",
     "text": [
      "Child returned 0\n",
      "Load mask: 14.71\n",
      "regionprops: 3.23\n",
      "72888 blobs identified.\n",
      "Save blob coords: 3.93\n",
      "Save blob masks: 7.82\n",
      "Save blob contours, save: 12.29\n",
      "Compute blob properties, save: 15.82\n",
      "Processing section: 171\n"
     ]
    },
    {
     "name": "stdout",
     "output_type": "stream",
     "text": [
      "cp /oasis/projects/nsf/csd395/yuncong/CSHL_data_processed/MD603/MD603_lossless_alignedTo_MD603-N60-2015.12.03-23.57.05_MD603_2_0179_cropped_compressed/MD603-IHC33-2015.12.03-15.41.25_MD603_1_0099_lossless_alignedTo_MD603-N60-2015.12.03-23.57.05_MD603_2_0179_cropped_compressed.jpg /home/yuncong/csd395/CSHL_cells_v2/detected_cells/MD603/MD603-IHC33-2015.12.03-15.41.25_MD603_1_0099/MD603-IHC33-2015.12.03-15.41.25_MD603_1_0099_image.jpg\n"
     ]
    },
    {
     "name": "stderr",
     "output_type": "stream",
     "text": [
      "Child returned 0\n",
      "Load mask: 14.78\n",
      "regionprops: 3.08\n",
      "78279 blobs identified.\n",
      "Save blob coords: 4.22\n",
      "Save blob masks: 8.50\n",
      "Save blob contours, save: 13.02\n",
      "Compute blob properties, save: 17.18\n",
      "Processing section: 172\n"
     ]
    },
    {
     "name": "stdout",
     "output_type": "stream",
     "text": [
      "cp /oasis/projects/nsf/csd395/yuncong/CSHL_data_processed/MD603/MD603_lossless_alignedTo_MD603-N60-2015.12.03-23.57.05_MD603_2_0179_cropped_compressed/MD603-N34-2015.12.03-21.59.49_MD603_3_0100_lossless_alignedTo_MD603-N60-2015.12.03-23.57.05_MD603_2_0179_cropped_compressed.jpg /home/yuncong/csd395/CSHL_cells_v2/detected_cells/MD603/MD603-N34-2015.12.03-21.59.49_MD603_3_0100/MD603-N34-2015.12.03-21.59.49_MD603_3_0100_image.jpg\n"
     ]
    },
    {
     "name": "stderr",
     "output_type": "stream",
     "text": [
      "Child returned 0\n",
      "Load mask: 14.75\n",
      "regionprops: 2.77\n",
      "77154 blobs identified.\n",
      "Save blob coords: 4.18\n",
      "Save blob masks: 8.69\n",
      "Save blob contours, save: 13.10\n",
      "Compute blob properties, save: 16.41\n",
      "Processing section: 173\n"
     ]
    },
    {
     "name": "stdout",
     "output_type": "stream",
     "text": [
      "cp /oasis/projects/nsf/csd395/yuncong/CSHL_data_processed/MD603/MD603_lossless_alignedTo_MD603-N60-2015.12.03-23.57.05_MD603_2_0179_cropped_compressed/MD603-IHC34-2015.12.03-15.46.11_MD603_2_0101_lossless_alignedTo_MD603-N60-2015.12.03-23.57.05_MD603_2_0179_cropped_compressed.jpg /home/yuncong/csd395/CSHL_cells_v2/detected_cells/MD603/MD603-IHC34-2015.12.03-15.46.11_MD603_2_0101/MD603-IHC34-2015.12.03-15.46.11_MD603_2_0101_image.jpg\n"
     ]
    },
    {
     "name": "stderr",
     "output_type": "stream",
     "text": [
      "Child returned 0\n",
      "Load mask: 14.77\n",
      "regionprops: 3.04\n",
      "65969 blobs identified.\n",
      "Save blob coords: 3.53\n",
      "Save blob masks: 7.07\n",
      "Save blob contours, save: 11.28\n",
      "Compute blob properties, save: 14.33\n",
      "Processing section: 174\n"
     ]
    },
    {
     "name": "stdout",
     "output_type": "stream",
     "text": [
      "cp /oasis/projects/nsf/csd395/yuncong/CSHL_data_processed/MD603/MD603_lossless_alignedTo_MD603-N60-2015.12.03-23.57.05_MD603_2_0179_cropped_compressed/MD603-N34-2015.12.03-21.59.49_MD603_1_0102_lossless_alignedTo_MD603-N60-2015.12.03-23.57.05_MD603_2_0179_cropped_compressed.jpg /home/yuncong/csd395/CSHL_cells_v2/detected_cells/MD603/MD603-N34-2015.12.03-21.59.49_MD603_1_0102/MD603-N34-2015.12.03-21.59.49_MD603_1_0102_image.jpg\n"
     ]
    },
    {
     "name": "stderr",
     "output_type": "stream",
     "text": [
      "Child returned 0\n",
      "Load mask: 14.72\n",
      "regionprops: 2.67\n",
      "76427 blobs identified.\n",
      "Save blob coords: 4.08\n",
      "Save blob masks: 8.51\n",
      "Save blob contours, save: 12.44\n",
      "Compute blob properties, save: 16.40\n",
      "Processing section: 175\n"
     ]
    },
    {
     "name": "stdout",
     "output_type": "stream",
     "text": [
      "cp /oasis/projects/nsf/csd395/yuncong/CSHL_data_processed/MD603/MD603_lossless_alignedTo_MD603-N60-2015.12.03-23.57.05_MD603_2_0179_cropped_compressed/MD603-IHC34-2015.12.03-15.46.11_MD603_1_0102_lossless_alignedTo_MD603-N60-2015.12.03-23.57.05_MD603_2_0179_cropped_compressed.jpg /home/yuncong/csd395/CSHL_cells_v2/detected_cells/MD603/MD603-IHC34-2015.12.03-15.46.11_MD603_1_0102/MD603-IHC34-2015.12.03-15.46.11_MD603_1_0102_image.jpg\n"
     ]
    },
    {
     "name": "stderr",
     "output_type": "stream",
     "text": [
      "Child returned 0\n",
      "Load mask: 14.81\n",
      "regionprops: 2.66\n",
      "78315 blobs identified.\n",
      "Save blob coords: 4.36\n",
      "Save blob masks: 8.61\n",
      "Save blob contours, save: 13.32\n",
      "Compute blob properties, save: 17.13\n",
      "Processing section: 176\n"
     ]
    },
    {
     "name": "stdout",
     "output_type": "stream",
     "text": [
      "cp /oasis/projects/nsf/csd395/yuncong/CSHL_data_processed/MD603/MD603_lossless_alignedTo_MD603-N60-2015.12.03-23.57.05_MD603_2_0179_cropped_compressed/MD603-N35-2015.12.03-22.03.44_MD603_3_0103_lossless_alignedTo_MD603-N60-2015.12.03-23.57.05_MD603_2_0179_cropped_compressed.jpg /home/yuncong/csd395/CSHL_cells_v2/detected_cells/MD603/MD603-N35-2015.12.03-22.03.44_MD603_3_0103/MD603-N35-2015.12.03-22.03.44_MD603_3_0103_image.jpg\n"
     ]
    },
    {
     "name": "stderr",
     "output_type": "stream",
     "text": [
      "Child returned 0\n",
      "Load mask: 15.03\n",
      "regionprops: 3.17\n",
      "73792 blobs identified.\n",
      "Save blob coords: 4.03\n",
      "Save blob masks: 7.99\n",
      "Save blob contours, save: 12.31\n",
      "Compute blob properties, save: 16.02\n",
      "Processing section: 177\n"
     ]
    },
    {
     "name": "stdout",
     "output_type": "stream",
     "text": [
      "cp /oasis/projects/nsf/csd395/yuncong/CSHL_data_processed/MD603/MD603_lossless_alignedTo_MD603-N60-2015.12.03-23.57.05_MD603_2_0179_cropped_compressed/MD603-IHC35-2016.03.02-15.22.19_MD603_1_0103_lossless_alignedTo_MD603-N60-2015.12.03-23.57.05_MD603_2_0179_cropped_compressed.jpg /home/yuncong/csd395/CSHL_cells_v2/detected_cells/MD603/MD603-IHC35-2016.03.02-15.22.19_MD603_1_0103/MD603-IHC35-2016.03.02-15.22.19_MD603_1_0103_image.jpg\n"
     ]
    },
    {
     "name": "stderr",
     "output_type": "stream",
     "text": [
      "Child returned 0\n",
      "Load mask: 16.62\n",
      "regionprops: 3.03\n",
      "79462 blobs identified.\n",
      "Save blob coords: 4.10\n",
      "Save blob masks: 8.46\n",
      "Save blob contours, save: 14.51\n",
      "Compute blob properties, save: 16.44\n",
      "Processing section: 178\n"
     ]
    },
    {
     "name": "stdout",
     "output_type": "stream",
     "text": [
      "cp /oasis/projects/nsf/csd395/yuncong/CSHL_data_processed/MD603/MD603_lossless_alignedTo_MD603-N60-2015.12.03-23.57.05_MD603_2_0179_cropped_compressed/MD603-N35-2016.03.02-13.01.11_MD603_2_0104_lossless_alignedTo_MD603-N60-2015.12.03-23.57.05_MD603_2_0179_cropped_compressed.jpg /home/yuncong/csd395/CSHL_cells_v2/detected_cells/MD603/MD603-N35-2016.03.02-13.01.11_MD603_2_0104/MD603-N35-2016.03.02-13.01.11_MD603_2_0104_image.jpg\n"
     ]
    },
    {
     "name": "stderr",
     "output_type": "stream",
     "text": [
      "Child returned 0\n",
      "Load mask: 14.70\n",
      "regionprops: 2.99\n",
      "77677 blobs identified.\n",
      "Save blob coords: 4.06\n",
      "Save blob masks: 8.34\n",
      "Save blob contours, save: 14.16\n",
      "Compute blob properties, save: 16.54\n",
      "Processing section: 179\n"
     ]
    },
    {
     "name": "stdout",
     "output_type": "stream",
     "text": [
      "cp /oasis/projects/nsf/csd395/yuncong/CSHL_data_processed/MD603/MD603_lossless_alignedTo_MD603-N60-2015.12.03-23.57.05_MD603_2_0179_cropped_compressed/MD603-IHC35-2016.03.02-15.22.19_MD603_2_0104_lossless_alignedTo_MD603-N60-2015.12.03-23.57.05_MD603_2_0179_cropped_compressed.jpg /home/yuncong/csd395/CSHL_cells_v2/detected_cells/MD603/MD603-IHC35-2016.03.02-15.22.19_MD603_2_0104/MD603-IHC35-2016.03.02-15.22.19_MD603_2_0104_image.jpg\n"
     ]
    },
    {
     "name": "stderr",
     "output_type": "stream",
     "text": [
      "Child returned 0\n",
      "Load mask: 14.66\n",
      "regionprops: 3.06\n",
      "80772 blobs identified.\n",
      "Save blob coords: 4.08\n",
      "Save blob masks: 8.59\n",
      "Save blob contours, save: 14.28\n",
      "Compute blob properties, save: 16.76\n",
      "Processing section: 180\n"
     ]
    },
    {
     "name": "stdout",
     "output_type": "stream",
     "text": [
      "cp /oasis/projects/nsf/csd395/yuncong/CSHL_data_processed/MD603/MD603_lossless_alignedTo_MD603-N60-2015.12.03-23.57.05_MD603_2_0179_cropped_compressed/MD603-N36-2015.12.03-22.07.46_MD603_2_0107_lossless_alignedTo_MD603-N60-2015.12.03-23.57.05_MD603_2_0179_cropped_compressed.jpg /home/yuncong/csd395/CSHL_cells_v2/detected_cells/MD603/MD603-N36-2015.12.03-22.07.46_MD603_2_0107/MD603-N36-2015.12.03-22.07.46_MD603_2_0107_image.jpg\n"
     ]
    },
    {
     "name": "stderr",
     "output_type": "stream",
     "text": [
      "Child returned 0\n",
      "Load mask: 14.67\n",
      "regionprops: 2.98\n",
      "55616 blobs identified.\n",
      "Save blob coords: 3.07\n",
      "Save blob masks: 6.11\n",
      "Save blob contours, save: 10.42\n",
      "Compute blob properties, save: 12.12\n",
      "Processing section: 181\n"
     ]
    },
    {
     "name": "stdout",
     "output_type": "stream",
     "text": [
      "cp /oasis/projects/nsf/csd395/yuncong/CSHL_data_processed/MD603/MD603_lossless_alignedTo_MD603-N60-2015.12.03-23.57.05_MD603_2_0179_cropped_compressed/MD603-IHC36-2016.03.02-15.26.52_MD603_1_0106_lossless_alignedTo_MD603-N60-2015.12.03-23.57.05_MD603_2_0179_cropped_compressed.jpg /home/yuncong/csd395/CSHL_cells_v2/detected_cells/MD603/MD603-IHC36-2016.03.02-15.26.52_MD603_1_0106/MD603-IHC36-2016.03.02-15.26.52_MD603_1_0106_image.jpg\n"
     ]
    },
    {
     "name": "stderr",
     "output_type": "stream",
     "text": [
      "Child returned 0\n",
      "Load mask: 14.78\n",
      "regionprops: 2.48\n",
      "60311 blobs identified.\n",
      "Save blob coords: 3.27\n",
      "Save blob masks: 6.77\n",
      "Save blob contours, save: 10.82\n",
      "Compute blob properties, save: 12.89\n",
      "Processing section: 184\n"
     ]
    },
    {
     "name": "stdout",
     "output_type": "stream",
     "text": [
      "cp /oasis/projects/nsf/csd395/yuncong/CSHL_data_processed/MD603/MD603_lossless_alignedTo_MD603-N60-2015.12.03-23.57.05_MD603_2_0179_cropped_compressed/MD603-N37-2015.12.03-22.11.43_MD603_2_0110_lossless_alignedTo_MD603-N60-2015.12.03-23.57.05_MD603_2_0179_cropped_compressed.jpg /home/yuncong/csd395/CSHL_cells_v2/detected_cells/MD603/MD603-N37-2015.12.03-22.11.43_MD603_2_0110/MD603-N37-2015.12.03-22.11.43_MD603_2_0110_image.jpg\n"
     ]
    },
    {
     "name": "stderr",
     "output_type": "stream",
     "text": [
      "Child returned 0\n",
      "Load mask: 14.68\n",
      "regionprops: 2.77\n",
      "71007 blobs identified.\n",
      "Save blob coords: 3.70\n",
      "Save blob masks: 7.57\n",
      "Save blob contours, save: 13.43\n",
      "Compute blob properties, save: 15.03\n",
      "Processing section: 185\n"
     ]
    },
    {
     "name": "stdout",
     "output_type": "stream",
     "text": [
      "cp /oasis/projects/nsf/csd395/yuncong/CSHL_data_processed/MD603/MD603_lossless_alignedTo_MD603-N60-2015.12.03-23.57.05_MD603_2_0179_cropped_compressed/MD603-IHC37-2015.12.03-15.57.19_MD603_3_0109_lossless_alignedTo_MD603-N60-2015.12.03-23.57.05_MD603_2_0179_cropped_compressed.jpg /home/yuncong/csd395/CSHL_cells_v2/detected_cells/MD603/MD603-IHC37-2015.12.03-15.57.19_MD603_3_0109/MD603-IHC37-2015.12.03-15.57.19_MD603_3_0109_image.jpg\n"
     ]
    },
    {
     "name": "stderr",
     "output_type": "stream",
     "text": [
      "Child returned 0\n",
      "Load mask: 14.82\n",
      "regionprops: 3.01\n",
      "79838 blobs identified.\n",
      "Save blob coords: 4.15\n",
      "Save blob masks: 8.66\n",
      "Save blob contours, save: 14.48\n",
      "Compute blob properties, save: 16.95\n",
      "Processing section: 186\n"
     ]
    },
    {
     "name": "stdout",
     "output_type": "stream",
     "text": [
      "cp /oasis/projects/nsf/csd395/yuncong/CSHL_data_processed/MD603/MD603_lossless_alignedTo_MD603-N60-2015.12.03-23.57.05_MD603_2_0179_cropped_compressed/MD603-N37-2015.12.03-22.11.43_MD603_1_0111_lossless_alignedTo_MD603-N60-2015.12.03-23.57.05_MD603_2_0179_cropped_compressed.jpg /home/yuncong/csd395/CSHL_cells_v2/detected_cells/MD603/MD603-N37-2015.12.03-22.11.43_MD603_1_0111/MD603-N37-2015.12.03-22.11.43_MD603_1_0111_image.jpg\n"
     ]
    },
    {
     "name": "stderr",
     "output_type": "stream",
     "text": [
      "Child returned 0\n",
      "Load mask: 14.65\n",
      "regionprops: 3.08\n",
      "71032 blobs identified.\n",
      "Save blob coords: 3.83\n",
      "Save blob masks: 7.72\n",
      "Save blob contours, save: 12.89\n",
      "Compute blob properties, save: 15.08\n",
      "Processing section: 187\n"
     ]
    },
    {
     "name": "stdout",
     "output_type": "stream",
     "text": [
      "cp /oasis/projects/nsf/csd395/yuncong/CSHL_data_processed/MD603/MD603_lossless_alignedTo_MD603-N60-2015.12.03-23.57.05_MD603_2_0179_cropped_compressed/MD603-IHC37-2015.12.03-15.57.19_MD603_1_0111_lossless_alignedTo_MD603-N60-2015.12.03-23.57.05_MD603_2_0179_cropped_compressed.jpg /home/yuncong/csd395/CSHL_cells_v2/detected_cells/MD603/MD603-IHC37-2015.12.03-15.57.19_MD603_1_0111/MD603-IHC37-2015.12.03-15.57.19_MD603_1_0111_image.jpg\n"
     ]
    },
    {
     "name": "stderr",
     "output_type": "stream",
     "text": [
      "Child returned 0\n",
      "Load mask: 14.83\n",
      "regionprops: 3.09\n",
      "79225 blobs identified.\n",
      "Save blob coords: 4.24\n",
      "Save blob masks: 8.72\n",
      "Save blob contours, save: 14.90\n",
      "Compute blob properties, save: 16.97\n",
      "Processing section: 188\n"
     ]
    },
    {
     "name": "stdout",
     "output_type": "stream",
     "text": [
      "cp /oasis/projects/nsf/csd395/yuncong/CSHL_data_processed/MD603/MD603_lossless_alignedTo_MD603-N60-2015.12.03-23.57.05_MD603_2_0179_cropped_compressed/MD603-N38-2016.03.02-13.05.41_MD603_1_0112_lossless_alignedTo_MD603-N60-2015.12.03-23.57.05_MD603_2_0179_cropped_compressed.jpg /home/yuncong/csd395/CSHL_cells_v2/detected_cells/MD603/MD603-N38-2016.03.02-13.05.41_MD603_1_0112/MD603-N38-2016.03.02-13.05.41_MD603_1_0112_image.jpg\n"
     ]
    },
    {
     "name": "stderr",
     "output_type": "stream",
     "text": [
      "Child returned 0\n",
      "Load mask: 14.75\n",
      "regionprops: 3.18\n",
      "78979 blobs identified.\n",
      "Save blob coords: 4.35\n",
      "Save blob masks: 8.75\n",
      "Save blob contours, save: 14.61\n",
      "Compute blob properties, save: 16.85\n",
      "Processing section: 189\n"
     ]
    },
    {
     "name": "stdout",
     "output_type": "stream",
     "text": [
      "cp /oasis/projects/nsf/csd395/yuncong/CSHL_data_processed/MD603/MD603_lossless_alignedTo_MD603-N60-2015.12.03-23.57.05_MD603_2_0179_cropped_compressed/MD603-IHC38-2015.12.03-16.02.15_MD603_3_0112_lossless_alignedTo_MD603-N60-2015.12.03-23.57.05_MD603_2_0179_cropped_compressed.jpg /home/yuncong/csd395/CSHL_cells_v2/detected_cells/MD603/MD603-IHC38-2015.12.03-16.02.15_MD603_3_0112/MD603-IHC38-2015.12.03-16.02.15_MD603_3_0112_image.jpg\n"
     ]
    },
    {
     "name": "stderr",
     "output_type": "stream",
     "text": [
      "Child returned 0\n",
      "Load mask: 14.91\n",
      "regionprops: 3.07\n",
      "79070 blobs identified.\n",
      "Save blob coords: 4.16\n",
      "Save blob masks: 8.52\n",
      "Save blob contours, save: 15.23\n",
      "Compute blob properties, save: 16.70\n",
      "Processing section: 190\n"
     ]
    },
    {
     "name": "stdout",
     "output_type": "stream",
     "text": [
      "cp /oasis/projects/nsf/csd395/yuncong/CSHL_data_processed/MD603/MD603_lossless_alignedTo_MD603-N60-2015.12.03-23.57.05_MD603_2_0179_cropped_compressed/MD603-N38-2016.03.02-13.05.41_MD603_2_0113_lossless_alignedTo_MD603-N60-2015.12.03-23.57.05_MD603_2_0179_cropped_compressed.jpg /home/yuncong/csd395/CSHL_cells_v2/detected_cells/MD603/MD603-N38-2016.03.02-13.05.41_MD603_2_0113/MD603-N38-2016.03.02-13.05.41_MD603_2_0113_image.jpg\n"
     ]
    },
    {
     "name": "stderr",
     "output_type": "stream",
     "text": [
      "Child returned 0\n",
      "Load mask: 14.60\n",
      "regionprops: 3.10\n",
      "73544 blobs identified.\n",
      "Save blob coords: 3.83\n",
      "Save blob masks: 7.99\n",
      "Save blob contours, save: 13.46\n",
      "Compute blob properties, save: 15.55\n",
      "Processing section: 191\n"
     ]
    },
    {
     "name": "stdout",
     "output_type": "stream",
     "text": [
      "cp /oasis/projects/nsf/csd395/yuncong/CSHL_data_processed/MD603/MD603_lossless_alignedTo_MD603-N60-2015.12.03-23.57.05_MD603_2_0179_cropped_compressed/MD603-IHC38-2015.12.03-16.02.15_MD603_1_0114_lossless_alignedTo_MD603-N60-2015.12.03-23.57.05_MD603_2_0179_cropped_compressed.jpg /home/yuncong/csd395/CSHL_cells_v2/detected_cells/MD603/MD603-IHC38-2015.12.03-16.02.15_MD603_1_0114/MD603-IHC38-2015.12.03-16.02.15_MD603_1_0114_image.jpg\n"
     ]
    },
    {
     "name": "stderr",
     "output_type": "stream",
     "text": [
      "Child returned 0\n",
      "Load mask: 14.76\n",
      "regionprops: 2.97\n",
      "75691 blobs identified.\n",
      "Save blob coords: 4.12\n",
      "Save blob masks: 8.15\n",
      "Save blob contours, save: 13.48\n",
      "Compute blob properties, save: 16.10\n",
      "Processing section: 192\n"
     ]
    },
    {
     "name": "stdout",
     "output_type": "stream",
     "text": [
      "cp /oasis/projects/nsf/csd395/yuncong/CSHL_data_processed/MD603/MD603_lossless_alignedTo_MD603-N60-2015.12.03-23.57.05_MD603_2_0179_cropped_compressed/MD603-N39-2016.03.02-13.10.31_MD603_1_0115_lossless_alignedTo_MD603-N60-2015.12.03-23.57.05_MD603_2_0179_cropped_compressed.jpg /home/yuncong/csd395/CSHL_cells_v2/detected_cells/MD603/MD603-N39-2016.03.02-13.10.31_MD603_1_0115/MD603-N39-2016.03.02-13.10.31_MD603_1_0115_image.jpg\n"
     ]
    },
    {
     "name": "stderr",
     "output_type": "stream",
     "text": [
      "Child returned 0\n",
      "Load mask: 14.88\n",
      "regionprops: 3.02\n",
      "71012 blobs identified.\n",
      "Save blob coords: 3.76\n",
      "Save blob masks: 7.71\n",
      "Save blob contours, save: 13.28\n",
      "Compute blob properties, save: 15.63\n",
      "Processing section: 193\n"
     ]
    },
    {
     "name": "stdout",
     "output_type": "stream",
     "text": [
      "cp /oasis/projects/nsf/csd395/yuncong/CSHL_data_processed/MD603/MD603_lossless_alignedTo_MD603-N60-2015.12.03-23.57.05_MD603_2_0179_cropped_compressed/MD603-IHC39-2015.12.03-16.07.16_MD603_3_0115_lossless_alignedTo_MD603-N60-2015.12.03-23.57.05_MD603_2_0179_cropped_compressed.jpg /home/yuncong/csd395/CSHL_cells_v2/detected_cells/MD603/MD603-IHC39-2015.12.03-16.07.16_MD603_3_0115/MD603-IHC39-2015.12.03-16.07.16_MD603_3_0115_image.jpg\n"
     ]
    },
    {
     "name": "stderr",
     "output_type": "stream",
     "text": [
      "Child returned 0\n",
      "Load mask: 14.78\n",
      "regionprops: 2.63\n",
      "76324 blobs identified.\n",
      "Save blob coords: 4.28\n",
      "Save blob masks: 8.60\n",
      "Save blob contours, save: 14.71\n",
      "Compute blob properties, save: 16.72\n",
      "Processing section: 194\n"
     ]
    },
    {
     "name": "stdout",
     "output_type": "stream",
     "text": [
      "cp /oasis/projects/nsf/csd395/yuncong/CSHL_data_processed/MD603/MD603_lossless_alignedTo_MD603-N60-2015.12.03-23.57.05_MD603_2_0179_cropped_compressed/MD603-N39-2016.03.02-13.10.31_MD603_2_0116_lossless_alignedTo_MD603-N60-2015.12.03-23.57.05_MD603_2_0179_cropped_compressed.jpg /home/yuncong/csd395/CSHL_cells_v2/detected_cells/MD603/MD603-N39-2016.03.02-13.10.31_MD603_2_0116/MD603-N39-2016.03.02-13.10.31_MD603_2_0116_image.jpg\n"
     ]
    },
    {
     "name": "stderr",
     "output_type": "stream",
     "text": [
      "Child returned 0\n",
      "Load mask: 14.87\n",
      "regionprops: 2.66\n",
      "71735 blobs identified.\n",
      "Save blob coords: 3.97\n",
      "Save blob masks: 7.81\n",
      "Save blob contours, save: 15.74\n",
      "Compute blob properties, save: 15.71\n",
      "Processing section: 195\n"
     ]
    },
    {
     "name": "stdout",
     "output_type": "stream",
     "text": [
      "cp /oasis/projects/nsf/csd395/yuncong/CSHL_data_processed/MD603/MD603_lossless_alignedTo_MD603-N60-2015.12.03-23.57.05_MD603_2_0179_cropped_compressed/MD603-IHC39-2015.12.03-16.07.16_MD603_1_0117_lossless_alignedTo_MD603-N60-2015.12.03-23.57.05_MD603_2_0179_cropped_compressed.jpg /home/yuncong/csd395/CSHL_cells_v2/detected_cells/MD603/MD603-IHC39-2015.12.03-16.07.16_MD603_1_0117/MD603-IHC39-2015.12.03-16.07.16_MD603_1_0117_image.jpg\n"
     ]
    },
    {
     "name": "stderr",
     "output_type": "stream",
     "text": [
      "Child returned 0\n",
      "Load mask: 14.64\n",
      "regionprops: 3.07\n",
      "76313 blobs identified.\n",
      "Save blob coords: 4.17\n",
      "Save blob masks: 8.44\n",
      "Save blob contours, save: 15.12\n",
      "Compute blob properties, save: 16.19\n",
      "Processing section: 196\n"
     ]
    },
    {
     "name": "stdout",
     "output_type": "stream",
     "text": [
      "cp /oasis/projects/nsf/csd395/yuncong/CSHL_data_processed/MD603/MD603_lossless_alignedTo_MD603-N60-2015.12.03-23.57.05_MD603_2_0179_cropped_compressed/MD603-N40-2015.12.03-22.24.50_MD603_3_0118_lossless_alignedTo_MD603-N60-2015.12.03-23.57.05_MD603_2_0179_cropped_compressed.jpg /home/yuncong/csd395/CSHL_cells_v2/detected_cells/MD603/MD603-N40-2015.12.03-22.24.50_MD603_3_0118/MD603-N40-2015.12.03-22.24.50_MD603_3_0118_image.jpg\n"
     ]
    },
    {
     "name": "stderr",
     "output_type": "stream",
     "text": [
      "Child returned 0\n",
      "Load mask: 14.84\n",
      "regionprops: 3.01\n",
      "69596 blobs identified.\n",
      "Save blob coords: 3.83\n",
      "Save blob masks: 7.81\n",
      "Save blob contours, save: 13.05\n",
      "Compute blob properties, save: 15.13\n",
      "Processing section: 197\n"
     ]
    },
    {
     "name": "stdout",
     "output_type": "stream",
     "text": [
      "cp /oasis/projects/nsf/csd395/yuncong/CSHL_data_processed/MD603/MD603_lossless_alignedTo_MD603-N60-2015.12.03-23.57.05_MD603_2_0179_cropped_compressed/MD603-IHC40-2015.12.03-16.12.11_MD603_3_0118_lossless_alignedTo_MD603-N60-2015.12.03-23.57.05_MD603_2_0179_cropped_compressed.jpg /home/yuncong/csd395/CSHL_cells_v2/detected_cells/MD603/MD603-IHC40-2015.12.03-16.12.11_MD603_3_0118/MD603-IHC40-2015.12.03-16.12.11_MD603_3_0118_image.jpg\n"
     ]
    },
    {
     "name": "stderr",
     "output_type": "stream",
     "text": [
      "Child returned 0\n",
      "Load mask: 14.67\n",
      "regionprops: 2.91\n",
      "78888 blobs identified.\n",
      "Save blob coords: 4.27\n",
      "Save blob masks: 8.64\n",
      "Save blob contours, save: 14.42\n",
      "Compute blob properties, save: 16.87\n",
      "Processing section: 198\n"
     ]
    },
    {
     "name": "stdout",
     "output_type": "stream",
     "text": [
      "cp /oasis/projects/nsf/csd395/yuncong/CSHL_data_processed/MD603/MD603_lossless_alignedTo_MD603-N60-2015.12.03-23.57.05_MD603_2_0179_cropped_compressed/MD603-N40-2015.12.03-22.24.50_MD603_1_0120_lossless_alignedTo_MD603-N60-2015.12.03-23.57.05_MD603_2_0179_cropped_compressed.jpg /home/yuncong/csd395/CSHL_cells_v2/detected_cells/MD603/MD603-N40-2015.12.03-22.24.50_MD603_1_0120/MD603-N40-2015.12.03-22.24.50_MD603_1_0120_image.jpg\n"
     ]
    },
    {
     "name": "stderr",
     "output_type": "stream",
     "text": [
      "Child returned 0\n",
      "Load mask: 14.64\n",
      "regionprops: 3.00\n",
      "73274 blobs identified.\n",
      "Save blob coords: 4.03\n",
      "Save blob masks: 7.94\n",
      "Save blob contours, save: 13.45\n",
      "Compute blob properties, save: 15.69\n",
      "Processing section: 199\n"
     ]
    },
    {
     "name": "stdout",
     "output_type": "stream",
     "text": [
      "cp /oasis/projects/nsf/csd395/yuncong/CSHL_data_processed/MD603/MD603_lossless_alignedTo_MD603-N60-2015.12.03-23.57.05_MD603_2_0179_cropped_compressed/MD603-IHC40-2015.12.03-16.12.11_MD603_1_0120_lossless_alignedTo_MD603-N60-2015.12.03-23.57.05_MD603_2_0179_cropped_compressed.jpg /home/yuncong/csd395/CSHL_cells_v2/detected_cells/MD603/MD603-IHC40-2015.12.03-16.12.11_MD603_1_0120/MD603-IHC40-2015.12.03-16.12.11_MD603_1_0120_image.jpg\n"
     ]
    },
    {
     "name": "stderr",
     "output_type": "stream",
     "text": [
      "Child returned 0\n",
      "Load mask: 14.78\n",
      "regionprops: 2.97\n",
      "76302 blobs identified.\n",
      "Save blob coords: 4.12\n",
      "Save blob masks: 8.34\n",
      "Save blob contours, save: 14.13\n",
      "Compute blob properties, save: 16.49\n",
      "Processing section: 200\n"
     ]
    },
    {
     "name": "stdout",
     "output_type": "stream",
     "text": [
      "cp /oasis/projects/nsf/csd395/yuncong/CSHL_data_processed/MD603/MD603_lossless_alignedTo_MD603-N60-2015.12.03-23.57.05_MD603_2_0179_cropped_compressed/MD603-N41-2015.12.03-22.28.54_MD603_3_0121_lossless_alignedTo_MD603-N60-2015.12.03-23.57.05_MD603_2_0179_cropped_compressed.jpg /home/yuncong/csd395/CSHL_cells_v2/detected_cells/MD603/MD603-N41-2015.12.03-22.28.54_MD603_3_0121/MD603-N41-2015.12.03-22.28.54_MD603_3_0121_image.jpg\n"
     ]
    },
    {
     "name": "stderr",
     "output_type": "stream",
     "text": [
      "Child returned 0\n",
      "Load mask: 14.75\n",
      "regionprops: 2.59\n",
      "70629 blobs identified.\n",
      "Save blob coords: 3.93\n",
      "Save blob masks: 8.04\n",
      "Save blob contours, save: 13.48\n",
      "Compute blob properties, save: 15.35\n",
      "Processing section: 201\n"
     ]
    },
    {
     "name": "stdout",
     "output_type": "stream",
     "text": [
      "cp /oasis/projects/nsf/csd395/yuncong/CSHL_data_processed/MD603/MD603_lossless_alignedTo_MD603-N60-2015.12.03-23.57.05_MD603_2_0179_cropped_compressed/MD603-IHC41-2015.12.03-16.16.31_MD603_2_0122_lossless_alignedTo_MD603-N60-2015.12.03-23.57.05_MD603_2_0179_cropped_compressed.jpg /home/yuncong/csd395/CSHL_cells_v2/detected_cells/MD603/MD603-IHC41-2015.12.03-16.16.31_MD603_2_0122/MD603-IHC41-2015.12.03-16.16.31_MD603_2_0122_image.jpg\n"
     ]
    },
    {
     "name": "stderr",
     "output_type": "stream",
     "text": [
      "Child returned 0\n",
      "Load mask: 14.77\n",
      "regionprops: 3.00\n",
      "76884 blobs identified.\n",
      "Save blob coords: 4.33\n",
      "Save blob masks: 8.42\n",
      "Save blob contours, save: 14.00\n",
      "Compute blob properties, save: 16.79\n",
      "Processing section: 202\n"
     ]
    },
    {
     "name": "stdout",
     "output_type": "stream",
     "text": [
      "cp /oasis/projects/nsf/csd395/yuncong/CSHL_data_processed/MD603/MD603_lossless_alignedTo_MD603-N60-2015.12.03-23.57.05_MD603_2_0179_cropped_compressed/MD603-N41-2015.12.03-22.28.54_MD603_2_0122_lossless_alignedTo_MD603-N60-2015.12.03-23.57.05_MD603_2_0179_cropped_compressed.jpg /home/yuncong/csd395/CSHL_cells_v2/detected_cells/MD603/MD603-N41-2015.12.03-22.28.54_MD603_2_0122/MD603-N41-2015.12.03-22.28.54_MD603_2_0122_image.jpg\n"
     ]
    },
    {
     "name": "stderr",
     "output_type": "stream",
     "text": [
      "Child returned 0\n",
      "Load mask: 14.76\n",
      "regionprops: 2.96\n",
      "73972 blobs identified.\n",
      "Save blob coords: 4.12\n",
      "Save blob masks: 8.20\n",
      "Save blob contours, save: 13.74\n",
      "Compute blob properties, save: 16.15\n",
      "Processing section: 203\n"
     ]
    },
    {
     "name": "stdout",
     "output_type": "stream",
     "text": [
      "cp /oasis/projects/nsf/csd395/yuncong/CSHL_data_processed/MD603/MD603_lossless_alignedTo_MD603-N60-2015.12.03-23.57.05_MD603_2_0179_cropped_compressed/MD603-IHC41-2015.12.03-16.16.31_MD603_1_0123_lossless_alignedTo_MD603-N60-2015.12.03-23.57.05_MD603_2_0179_cropped_compressed.jpg /home/yuncong/csd395/CSHL_cells_v2/detected_cells/MD603/MD603-IHC41-2015.12.03-16.16.31_MD603_1_0123/MD603-IHC41-2015.12.03-16.16.31_MD603_1_0123_image.jpg\n"
     ]
    },
    {
     "name": "stderr",
     "output_type": "stream",
     "text": [
      "Child returned 0\n",
      "Load mask: 14.64\n",
      "regionprops: 3.11\n",
      "74218 blobs identified.\n",
      "Save blob coords: 4.17\n",
      "Save blob masks: 8.25\n",
      "Save blob contours, save: 14.16\n",
      "Compute blob properties, save: 16.41\n",
      "Processing section: 204\n"
     ]
    },
    {
     "name": "stdout",
     "output_type": "stream",
     "text": [
      "cp /oasis/projects/nsf/csd395/yuncong/CSHL_data_processed/MD603/MD603_lossless_alignedTo_MD603-N60-2015.12.03-23.57.05_MD603_2_0179_cropped_compressed/MD603-N42-2015.12.03-22.33.48_MD603_3_0124_lossless_alignedTo_MD603-N60-2015.12.03-23.57.05_MD603_2_0179_cropped_compressed.jpg /home/yuncong/csd395/CSHL_cells_v2/detected_cells/MD603/MD603-N42-2015.12.03-22.33.48_MD603_3_0124/MD603-N42-2015.12.03-22.33.48_MD603_3_0124_image.jpg\n"
     ]
    },
    {
     "name": "stderr",
     "output_type": "stream",
     "text": [
      "Child returned 0\n",
      "Load mask: 14.64\n",
      "regionprops: 2.48\n",
      "57872 blobs identified.\n",
      "Save blob coords: 3.21\n",
      "Save blob masks: 6.44\n",
      "Save blob contours, save: 11.11\n",
      "Compute blob properties, save: 12.62\n",
      "Processing section: 205\n"
     ]
    },
    {
     "name": "stdout",
     "output_type": "stream",
     "text": [
      "cp /oasis/projects/nsf/csd395/yuncong/CSHL_data_processed/MD603/MD603_lossless_alignedTo_MD603-N60-2015.12.03-23.57.05_MD603_2_0179_cropped_compressed/MD603-IHC42-2015.12.03-16.21.17_MD603_3_0124_lossless_alignedTo_MD603-N60-2015.12.03-23.57.05_MD603_2_0179_cropped_compressed.jpg /home/yuncong/csd395/CSHL_cells_v2/detected_cells/MD603/MD603-IHC42-2015.12.03-16.21.17_MD603_3_0124/MD603-IHC42-2015.12.03-16.21.17_MD603_3_0124_image.jpg\n"
     ]
    },
    {
     "name": "stderr",
     "output_type": "stream",
     "text": [
      "Child returned 0\n",
      "Load mask: 14.65\n",
      "regionprops: 2.76\n",
      "70280 blobs identified.\n",
      "Save blob coords: 3.78\n",
      "Save blob masks: 7.89\n",
      "Save blob contours, save: 12.68\n",
      "Compute blob properties, save: 15.17\n",
      "Processing section: 206\n"
     ]
    },
    {
     "name": "stdout",
     "output_type": "stream",
     "text": [
      "cp /oasis/projects/nsf/csd395/yuncong/CSHL_data_processed/MD603/MD603_lossless_alignedTo_MD603-N60-2015.12.03-23.57.05_MD603_2_0179_cropped_compressed/MD603-N42-2015.12.03-22.33.48_MD603_1_0126_lossless_alignedTo_MD603-N60-2015.12.03-23.57.05_MD603_2_0179_cropped_compressed.jpg /home/yuncong/csd395/CSHL_cells_v2/detected_cells/MD603/MD603-N42-2015.12.03-22.33.48_MD603_1_0126/MD603-N42-2015.12.03-22.33.48_MD603_1_0126_image.jpg\n"
     ]
    },
    {
     "name": "stderr",
     "output_type": "stream",
     "text": [
      "Child returned 0\n",
      "Load mask: 14.65\n",
      "regionprops: 2.85\n",
      "58529 blobs identified.\n",
      "Save blob coords: 3.18\n",
      "Save blob masks: 6.37\n",
      "Save blob contours, save: 11.73\n",
      "Compute blob properties, save: 12.47\n",
      "Processing section: 207\n"
     ]
    },
    {
     "name": "stdout",
     "output_type": "stream",
     "text": [
      "cp /oasis/projects/nsf/csd395/yuncong/CSHL_data_processed/MD603/MD603_lossless_alignedTo_MD603-N60-2015.12.03-23.57.05_MD603_2_0179_cropped_compressed/MD603-IHC42-2015.12.03-16.21.17_MD603_1_0126_lossless_alignedTo_MD603-N60-2015.12.03-23.57.05_MD603_2_0179_cropped_compressed.jpg /home/yuncong/csd395/CSHL_cells_v2/detected_cells/MD603/MD603-IHC42-2015.12.03-16.21.17_MD603_1_0126/MD603-IHC42-2015.12.03-16.21.17_MD603_1_0126_image.jpg\n"
     ]
    },
    {
     "name": "stderr",
     "output_type": "stream",
     "text": [
      "Child returned 0\n",
      "Load mask: 14.74\n",
      "regionprops: 2.84\n",
      "71250 blobs identified.\n",
      "Save blob coords: 4.05\n",
      "Save blob masks: 8.11\n",
      "Save blob contours, save: 13.13\n",
      "Compute blob properties, save: 15.67\n",
      "Processing section: 208\n"
     ]
    },
    {
     "name": "stdout",
     "output_type": "stream",
     "text": [
      "cp /oasis/projects/nsf/csd395/yuncong/CSHL_data_processed/MD603/MD603_lossless_alignedTo_MD603-N60-2015.12.03-23.57.05_MD603_2_0179_cropped_compressed/MD603-N43-2015.12.03-22.37.58_MD603_3_0127_lossless_alignedTo_MD603-N60-2015.12.03-23.57.05_MD603_2_0179_cropped_compressed.jpg /home/yuncong/csd395/CSHL_cells_v2/detected_cells/MD603/MD603-N43-2015.12.03-22.37.58_MD603_3_0127/MD603-N43-2015.12.03-22.37.58_MD603_3_0127_image.jpg\n"
     ]
    },
    {
     "name": "stderr",
     "output_type": "stream",
     "text": [
      "Child returned 0\n",
      "Load mask: 14.71\n",
      "regionprops: 2.81\n",
      "65861 blobs identified.\n",
      "Save blob coords: 3.66\n",
      "Save blob masks: 7.33\n",
      "Save blob contours, save: 12.66\n",
      "Compute blob properties, save: 14.64\n",
      "Processing section: 209\n"
     ]
    },
    {
     "name": "stdout",
     "output_type": "stream",
     "text": [
      "cp /oasis/projects/nsf/csd395/yuncong/CSHL_data_processed/MD603/MD603_lossless_alignedTo_MD603-N60-2015.12.03-23.57.05_MD603_2_0179_cropped_compressed/MD603-IHC43-2015.12.03-16.25.32_MD603_3_0127_lossless_alignedTo_MD603-N60-2015.12.03-23.57.05_MD603_2_0179_cropped_compressed.jpg /home/yuncong/csd395/CSHL_cells_v2/detected_cells/MD603/MD603-IHC43-2015.12.03-16.25.32_MD603_3_0127/MD603-IHC43-2015.12.03-16.25.32_MD603_3_0127_image.jpg\n"
     ]
    },
    {
     "name": "stderr",
     "output_type": "stream",
     "text": [
      "Child returned 0\n",
      "Load mask: 14.62\n",
      "regionprops: 2.46\n",
      "72604 blobs identified.\n",
      "Save blob coords: 4.04\n",
      "Save blob masks: 8.21\n",
      "Save blob contours, save: 13.54\n",
      "Compute blob properties, save: 15.82\n",
      "Processing section: 210\n"
     ]
    },
    {
     "name": "stdout",
     "output_type": "stream",
     "text": [
      "cp /oasis/projects/nsf/csd395/yuncong/CSHL_data_processed/MD603/MD603_lossless_alignedTo_MD603-N60-2015.12.03-23.57.05_MD603_2_0179_cropped_compressed/MD603-N43-2015.12.03-22.37.58_MD603_2_0128_lossless_alignedTo_MD603-N60-2015.12.03-23.57.05_MD603_2_0179_cropped_compressed.jpg /home/yuncong/csd395/CSHL_cells_v2/detected_cells/MD603/MD603-N43-2015.12.03-22.37.58_MD603_2_0128/MD603-N43-2015.12.03-22.37.58_MD603_2_0128_image.jpg\n"
     ]
    },
    {
     "name": "stderr",
     "output_type": "stream",
     "text": [
      "Child returned 0\n",
      "Load mask: 14.65\n",
      "regionprops: 2.77\n",
      "51427 blobs identified.\n",
      "Save blob coords: 2.94\n",
      "Save blob masks: 5.77\n",
      "Save blob contours, save: 10.69\n",
      "Compute blob properties, save: 11.39\n",
      "Processing section: 211\n"
     ]
    },
    {
     "name": "stdout",
     "output_type": "stream",
     "text": [
      "cp /oasis/projects/nsf/csd395/yuncong/CSHL_data_processed/MD603/MD603_lossless_alignedTo_MD603-N60-2015.12.03-23.57.05_MD603_2_0179_cropped_compressed/MD603-IHC43-2015.12.03-16.25.32_MD603_1_0129_lossless_alignedTo_MD603-N60-2015.12.03-23.57.05_MD603_2_0179_cropped_compressed.jpg /home/yuncong/csd395/CSHL_cells_v2/detected_cells/MD603/MD603-IHC43-2015.12.03-16.25.32_MD603_1_0129/MD603-IHC43-2015.12.03-16.25.32_MD603_1_0129_image.jpg\n"
     ]
    },
    {
     "name": "stderr",
     "output_type": "stream",
     "text": [
      "Child returned 0\n",
      "Load mask: 14.75\n",
      "regionprops: 2.65\n",
      "70924 blobs identified.\n",
      "Save blob coords: 4.05\n",
      "Save blob masks: 8.12\n",
      "Save blob contours, save: 12.88\n",
      "Compute blob properties, save: 15.88\n",
      "Processing section: 212\n"
     ]
    },
    {
     "name": "stdout",
     "output_type": "stream",
     "text": [
      "cp /oasis/projects/nsf/csd395/yuncong/CSHL_data_processed/MD603/MD603_lossless_alignedTo_MD603-N60-2015.12.03-23.57.05_MD603_2_0179_cropped_compressed/MD603-N44-2015.12.03-22.42.09_MD603_3_0130_lossless_alignedTo_MD603-N60-2015.12.03-23.57.05_MD603_2_0179_cropped_compressed.jpg /home/yuncong/csd395/CSHL_cells_v2/detected_cells/MD603/MD603-N44-2015.12.03-22.42.09_MD603_3_0130/MD603-N44-2015.12.03-22.42.09_MD603_3_0130_image.jpg\n"
     ]
    },
    {
     "name": "stderr",
     "output_type": "stream",
     "text": [
      "Child returned 0\n",
      "Load mask: 14.68\n",
      "regionprops: 2.94\n",
      "63348 blobs identified.\n",
      "Save blob coords: 3.76\n",
      "Save blob masks: 7.30\n",
      "Save blob contours, save: 12.26\n",
      "Compute blob properties, save: 14.57\n",
      "Processing section: 213\n"
     ]
    },
    {
     "name": "stdout",
     "output_type": "stream",
     "text": [
      "cp /oasis/projects/nsf/csd395/yuncong/CSHL_data_processed/MD603/MD603_lossless_alignedTo_MD603-N60-2015.12.03-23.57.05_MD603_2_0179_cropped_compressed/MD603-IHC44-2015.12.03-16.30.21_MD603_2_0131_lossless_alignedTo_MD603-N60-2015.12.03-23.57.05_MD603_2_0179_cropped_compressed.jpg /home/yuncong/csd395/CSHL_cells_v2/detected_cells/MD603/MD603-IHC44-2015.12.03-16.30.21_MD603_2_0131/MD603-IHC44-2015.12.03-16.30.21_MD603_2_0131_image.jpg\n"
     ]
    },
    {
     "name": "stderr",
     "output_type": "stream",
     "text": [
      "Child returned 0\n",
      "Load mask: 14.78\n",
      "regionprops: 2.44\n",
      "58202 blobs identified.\n",
      "Save blob coords: 3.38\n",
      "Save blob masks: 6.60\n",
      "Save blob contours, save: 12.35\n",
      "Compute blob properties, save: 13.14\n",
      "Processing section: 214\n"
     ]
    },
    {
     "name": "stdout",
     "output_type": "stream",
     "text": [
      "cp /oasis/projects/nsf/csd395/yuncong/CSHL_data_processed/MD603/MD603_lossless_alignedTo_MD603-N60-2015.12.03-23.57.05_MD603_2_0179_cropped_compressed/MD603-N44-2015.12.03-22.42.09_MD603_1_0132_lossless_alignedTo_MD603-N60-2015.12.03-23.57.05_MD603_2_0179_cropped_compressed.jpg /home/yuncong/csd395/CSHL_cells_v2/detected_cells/MD603/MD603-N44-2015.12.03-22.42.09_MD603_1_0132/MD603-N44-2015.12.03-22.42.09_MD603_1_0132_image.jpg\n"
     ]
    },
    {
     "name": "stderr",
     "output_type": "stream",
     "text": [
      "Child returned 0\n",
      "Load mask: 14.65\n",
      "regionprops: 2.71\n",
      "66784 blobs identified.\n",
      "Save blob coords: 3.84\n",
      "Save blob masks: 7.55\n",
      "Save blob contours, save: 12.54\n",
      "Compute blob properties, save: 14.98\n",
      "Processing section: 215\n"
     ]
    },
    {
     "name": "stdout",
     "output_type": "stream",
     "text": [
      "cp /oasis/projects/nsf/csd395/yuncong/CSHL_data_processed/MD603/MD603_lossless_alignedTo_MD603-N60-2015.12.03-23.57.05_MD603_2_0179_cropped_compressed/MD603-IHC44-2015.12.03-16.30.21_MD603_1_0132_lossless_alignedTo_MD603-N60-2015.12.03-23.57.05_MD603_2_0179_cropped_compressed.jpg /home/yuncong/csd395/CSHL_cells_v2/detected_cells/MD603/MD603-IHC44-2015.12.03-16.30.21_MD603_1_0132/MD603-IHC44-2015.12.03-16.30.21_MD603_1_0132_image.jpg\n"
     ]
    },
    {
     "name": "stderr",
     "output_type": "stream",
     "text": [
      "Child returned 0\n",
      "Load mask: 14.77\n",
      "regionprops: 2.96\n",
      "70260 blobs identified.\n",
      "Save blob coords: 4.10\n",
      "Save blob masks: 7.94\n",
      "Save blob contours, save: 13.73\n",
      "Compute blob properties, save: 15.38\n",
      "Processing section: 216\n"
     ]
    },
    {
     "name": "stdout",
     "output_type": "stream",
     "text": [
      "cp /oasis/projects/nsf/csd395/yuncong/CSHL_data_processed/MD603/MD603_lossless_alignedTo_MD603-N60-2015.12.03-23.57.05_MD603_2_0179_cropped_compressed/MD603-N45-2016.03.02-13.15.24_MD603_1_0133_lossless_alignedTo_MD603-N60-2015.12.03-23.57.05_MD603_2_0179_cropped_compressed.jpg /home/yuncong/csd395/CSHL_cells_v2/detected_cells/MD603/MD603-N45-2016.03.02-13.15.24_MD603_1_0133/MD603-N45-2016.03.02-13.15.24_MD603_1_0133_image.jpg\n"
     ]
    },
    {
     "name": "stderr",
     "output_type": "stream",
     "text": [
      "Child returned 0\n",
      "Load mask: 14.63\n",
      "regionprops: 2.97\n",
      "72025 blobs identified.\n",
      "Save blob coords: 4.01\n",
      "Save blob masks: 8.12\n",
      "Save blob contours, save: 14.20\n",
      "Compute blob properties, save: 16.01\n",
      "Processing section: 217\n"
     ]
    },
    {
     "name": "stdout",
     "output_type": "stream",
     "text": [
      "cp /oasis/projects/nsf/csd395/yuncong/CSHL_data_processed/MD603/MD603_lossless_alignedTo_MD603-N60-2015.12.03-23.57.05_MD603_2_0179_cropped_compressed/MD603-IHC45-2016.03.02-15.31.48_MD603_1_0133_lossless_alignedTo_MD603-N60-2015.12.03-23.57.05_MD603_2_0179_cropped_compressed.jpg /home/yuncong/csd395/CSHL_cells_v2/detected_cells/MD603/MD603-IHC45-2016.03.02-15.31.48_MD603_1_0133/MD603-IHC45-2016.03.02-15.31.48_MD603_1_0133_image.jpg\n"
     ]
    },
    {
     "name": "stderr",
     "output_type": "stream",
     "text": [
      "Child returned 0\n",
      "Load mask: 14.81\n",
      "regionprops: 2.62\n",
      "73639 blobs identified.\n",
      "Save blob coords: 4.18\n",
      "Save blob masks: 8.48\n",
      "Save blob contours, save: 13.92\n",
      "Compute blob properties, save: 16.10\n",
      "Processing section: 218\n"
     ]
    },
    {
     "name": "stdout",
     "output_type": "stream",
     "text": [
      "cp /oasis/projects/nsf/csd395/yuncong/CSHL_data_processed/MD603/MD603_lossless_alignedTo_MD603-N60-2015.12.03-23.57.05_MD603_2_0179_cropped_compressed/MD603-N45-2016.03.02-13.15.24_MD603_2_0134_lossless_alignedTo_MD603-N60-2015.12.03-23.57.05_MD603_2_0179_cropped_compressed.jpg /home/yuncong/csd395/CSHL_cells_v2/detected_cells/MD603/MD603-N45-2016.03.02-13.15.24_MD603_2_0134/MD603-N45-2016.03.02-13.15.24_MD603_2_0134_image.jpg\n"
     ]
    },
    {
     "name": "stderr",
     "output_type": "stream",
     "text": [
      "Child returned 0\n",
      "Load mask: 14.75\n",
      "regionprops: 3.05\n",
      "75961 blobs identified.\n",
      "Save blob coords: 4.26\n",
      "Save blob masks: 8.42\n",
      "Save blob contours, save: 13.71\n",
      "Compute blob properties, save: 16.69\n",
      "Processing section: 219\n"
     ]
    },
    {
     "name": "stdout",
     "output_type": "stream",
     "text": [
      "cp /oasis/projects/nsf/csd395/yuncong/CSHL_data_processed/MD603/MD603_lossless_alignedTo_MD603-N60-2015.12.03-23.57.05_MD603_2_0179_cropped_compressed/MD603-IHC45-2016.03.02-15.31.48_MD603_2_0134_lossless_alignedTo_MD603-N60-2015.12.03-23.57.05_MD603_2_0179_cropped_compressed.jpg /home/yuncong/csd395/CSHL_cells_v2/detected_cells/MD603/MD603-IHC45-2016.03.02-15.31.48_MD603_2_0134/MD603-IHC45-2016.03.02-15.31.48_MD603_2_0134_image.jpg\n"
     ]
    },
    {
     "name": "stderr",
     "output_type": "stream",
     "text": [
      "Child returned 0\n",
      "Load mask: 14.65\n",
      "regionprops: 2.64\n",
      "73027 blobs identified.\n",
      "Save blob coords: 4.02\n",
      "Save blob masks: 8.32\n",
      "Save blob contours, save: 13.76\n",
      "Compute blob properties, save: 15.79\n",
      "Processing section: 220\n"
     ]
    },
    {
     "name": "stdout",
     "output_type": "stream",
     "text": [
      "cp /oasis/projects/nsf/csd395/yuncong/CSHL_data_processed/MD603/MD603_lossless_alignedTo_MD603-N60-2015.12.03-23.57.05_MD603_2_0179_cropped_compressed/MD603-N46-2015.12.03-22.51.24_MD603_3_0136_lossless_alignedTo_MD603-N60-2015.12.03-23.57.05_MD603_2_0179_cropped_compressed.jpg /home/yuncong/csd395/CSHL_cells_v2/detected_cells/MD603/MD603-N46-2015.12.03-22.51.24_MD603_3_0136/MD603-N46-2015.12.03-22.51.24_MD603_3_0136_image.jpg\n"
     ]
    },
    {
     "name": "stderr",
     "output_type": "stream",
     "text": [
      "Child returned 0\n",
      "Load mask: 14.75\n",
      "regionprops: 2.52\n",
      "54106 blobs identified.\n",
      "Save blob coords: 3.35\n",
      "Save blob masks: 6.05\n",
      "Save blob contours, save: 10.83\n",
      "Compute blob properties, save: 12.00\n",
      "Processing section: 221\n"
     ]
    },
    {
     "name": "stdout",
     "output_type": "stream",
     "text": [
      "cp /oasis/projects/nsf/csd395/yuncong/CSHL_data_processed/MD603/MD603_lossless_alignedTo_MD603-N60-2015.12.03-23.57.05_MD603_2_0179_cropped_compressed/MD603-IHC46-2016.03.02-15.36.50_MD603_1_0136_lossless_alignedTo_MD603-N60-2015.12.03-23.57.05_MD603_2_0179_cropped_compressed.jpg /home/yuncong/csd395/CSHL_cells_v2/detected_cells/MD603/MD603-IHC46-2016.03.02-15.36.50_MD603_1_0136/MD603-IHC46-2016.03.02-15.36.50_MD603_1_0136_image.jpg\n"
     ]
    },
    {
     "name": "stderr",
     "output_type": "stream",
     "text": [
      "Child returned 0\n",
      "Load mask: 14.75\n",
      "regionprops: 2.73\n",
      "75294 blobs identified.\n",
      "Save blob coords: 4.20\n",
      "Save blob masks: 8.22\n",
      "Save blob contours, save: 15.65\n",
      "Compute blob properties, save: 16.12\n",
      "Processing section: 222\n"
     ]
    },
    {
     "name": "stdout",
     "output_type": "stream",
     "text": [
      "cp /oasis/projects/nsf/csd395/yuncong/CSHL_data_processed/MD603/MD603_lossless_alignedTo_MD603-N60-2015.12.03-23.57.05_MD603_2_0179_cropped_compressed/MD603-N46-2015.12.03-22.51.24_MD603_2_0137_lossless_alignedTo_MD603-N60-2015.12.03-23.57.05_MD603_2_0179_cropped_compressed.jpg /home/yuncong/csd395/CSHL_cells_v2/detected_cells/MD603/MD603-N46-2015.12.03-22.51.24_MD603_2_0137/MD603-N46-2015.12.03-22.51.24_MD603_2_0137_image.jpg\n"
     ]
    },
    {
     "name": "stderr",
     "output_type": "stream",
     "text": [
      "Child returned 0\n",
      "Load mask: 14.65\n",
      "regionprops: 2.84\n",
      "58668 blobs identified.\n",
      "Save blob coords: 3.33\n",
      "Save blob masks: 6.63\n",
      "Save blob contours, save: 10.61\n",
      "Compute blob properties, save: 12.77\n",
      "Processing section: 223\n"
     ]
    },
    {
     "name": "stdout",
     "output_type": "stream",
     "text": [
      "cp /oasis/projects/nsf/csd395/yuncong/CSHL_data_processed/MD603/MD603_lossless_alignedTo_MD603-N60-2015.12.03-23.57.05_MD603_2_0179_cropped_compressed/MD603-IHC46-2016.03.02-15.36.50_MD603_2_0137_lossless_alignedTo_MD603-N60-2015.12.03-23.57.05_MD603_2_0179_cropped_compressed.jpg /home/yuncong/csd395/CSHL_cells_v2/detected_cells/MD603/MD603-IHC46-2016.03.02-15.36.50_MD603_2_0137/MD603-IHC46-2016.03.02-15.36.50_MD603_2_0137_image.jpg\n"
     ]
    },
    {
     "name": "stderr",
     "output_type": "stream",
     "text": [
      "Child returned 0\n",
      "Load mask: 14.64\n",
      "regionprops: 2.98\n",
      "78836 blobs identified.\n",
      "Save blob coords: 4.42\n",
      "Save blob masks: 8.76\n",
      "Save blob contours, save: 14.67\n",
      "Compute blob properties, save: 17.11\n",
      "Processing section: 224\n"
     ]
    },
    {
     "name": "stdout",
     "output_type": "stream",
     "text": [
      "cp /oasis/projects/nsf/csd395/yuncong/CSHL_data_processed/MD603/MD603_lossless_alignedTo_MD603-N60-2015.12.03-23.57.05_MD603_2_0179_cropped_compressed/MD603-N47-2016.03.02-13.20.25_MD603_1_0139_lossless_alignedTo_MD603-N60-2015.12.03-23.57.05_MD603_2_0179_cropped_compressed.jpg /home/yuncong/csd395/CSHL_cells_v2/detected_cells/MD603/MD603-N47-2016.03.02-13.20.25_MD603_1_0139/MD603-N47-2016.03.02-13.20.25_MD603_1_0139_image.jpg\n"
     ]
    },
    {
     "name": "stderr",
     "output_type": "stream",
     "text": [
      "Child returned 0\n",
      "Load mask: 14.72\n",
      "regionprops: 3.14\n",
      "77697 blobs identified.\n",
      "Save blob coords: 4.27\n",
      "Save blob masks: 8.44\n",
      "Save blob contours, save: 14.08\n",
      "Compute blob properties, save: 16.93\n",
      "Processing section: 225\n"
     ]
    },
    {
     "name": "stdout",
     "output_type": "stream",
     "text": [
      "cp /oasis/projects/nsf/csd395/yuncong/CSHL_data_processed/MD603/MD603_lossless_alignedTo_MD603-N60-2015.12.03-23.57.05_MD603_2_0179_cropped_compressed/MD603-IHC47-2015.12.03-16.43.49_MD603_2_0140_lossless_alignedTo_MD603-N60-2015.12.03-23.57.05_MD603_2_0179_cropped_compressed.jpg /home/yuncong/csd395/CSHL_cells_v2/detected_cells/MD603/MD603-IHC47-2015.12.03-16.43.49_MD603_2_0140/MD603-IHC47-2015.12.03-16.43.49_MD603_2_0140_image.jpg\n"
     ]
    },
    {
     "name": "stderr",
     "output_type": "stream",
     "text": [
      "Child returned 0\n",
      "Load mask: 14.75\n",
      "regionprops: 2.73\n",
      "75426 blobs identified.\n",
      "Save blob coords: 4.33\n",
      "Save blob masks: 8.41\n",
      "Save blob contours, save: 14.60\n",
      "Compute blob properties, save: 16.57\n",
      "Processing section: 226\n"
     ]
    },
    {
     "name": "stdout",
     "output_type": "stream",
     "text": [
      "cp /oasis/projects/nsf/csd395/yuncong/CSHL_data_processed/MD603/MD603_lossless_alignedTo_MD603-N60-2015.12.03-23.57.05_MD603_2_0179_cropped_compressed/MD603-N47-2016.03.02-13.20.25_MD603_2_0140_lossless_alignedTo_MD603-N60-2015.12.03-23.57.05_MD603_2_0179_cropped_compressed.jpg /home/yuncong/csd395/CSHL_cells_v2/detected_cells/MD603/MD603-N47-2016.03.02-13.20.25_MD603_2_0140/MD603-N47-2016.03.02-13.20.25_MD603_2_0140_image.jpg\n"
     ]
    },
    {
     "name": "stderr",
     "output_type": "stream",
     "text": [
      "Child returned 0\n",
      "Load mask: 14.65\n",
      "regionprops: 3.07\n",
      "78432 blobs identified.\n",
      "Save blob coords: 4.37\n",
      "Save blob masks: 8.74\n",
      "Save blob contours, save: 14.88\n",
      "Compute blob properties, save: 17.12\n",
      "Processing section: 227\n"
     ]
    },
    {
     "name": "stdout",
     "output_type": "stream",
     "text": [
      "cp /oasis/projects/nsf/csd395/yuncong/CSHL_data_processed/MD603/MD603_lossless_alignedTo_MD603-N60-2015.12.03-23.57.05_MD603_2_0179_cropped_compressed/MD603-IHC47-2015.12.03-16.43.49_MD603_1_0141_lossless_alignedTo_MD603-N60-2015.12.03-23.57.05_MD603_2_0179_cropped_compressed.jpg /home/yuncong/csd395/CSHL_cells_v2/detected_cells/MD603/MD603-IHC47-2015.12.03-16.43.49_MD603_1_0141/MD603-IHC47-2015.12.03-16.43.49_MD603_1_0141_image.jpg\n"
     ]
    },
    {
     "name": "stderr",
     "output_type": "stream",
     "text": [
      "Child returned 0\n",
      "Load mask: 14.85\n",
      "regionprops: 2.47\n",
      "56401 blobs identified.\n",
      "Save blob coords: 3.20\n",
      "Save blob masks: 6.48\n",
      "Save blob contours, save: 10.44\n",
      "Compute blob properties, save: 12.39\n",
      "Processing section: 228\n"
     ]
    },
    {
     "name": "stdout",
     "output_type": "stream",
     "text": [
      "cp /oasis/projects/nsf/csd395/yuncong/CSHL_data_processed/MD603/MD603_lossless_alignedTo_MD603-N60-2015.12.03-23.57.05_MD603_2_0179_cropped_compressed/MD603-N48-2016.03.02-13.25.24_MD603_1_0142_lossless_alignedTo_MD603-N60-2015.12.03-23.57.05_MD603_2_0179_cropped_compressed.jpg /home/yuncong/csd395/CSHL_cells_v2/detected_cells/MD603/MD603-N48-2016.03.02-13.25.24_MD603_1_0142/MD603-N48-2016.03.02-13.25.24_MD603_1_0142_image.jpg\n"
     ]
    },
    {
     "name": "stderr",
     "output_type": "stream",
     "text": [
      "Child returned 0\n",
      "Load mask: 14.78\n",
      "regionprops: 2.84\n",
      "79383 blobs identified.\n",
      "Save blob coords: 4.38\n",
      "Save blob masks: 8.83\n",
      "Save blob contours, save: 14.04\n",
      "Compute blob properties, save: 17.37\n",
      "Processing section: 229\n"
     ]
    },
    {
     "name": "stdout",
     "output_type": "stream",
     "text": [
      "cp /oasis/projects/nsf/csd395/yuncong/CSHL_data_processed/MD603/MD603_lossless_alignedTo_MD603-N60-2015.12.03-23.57.05_MD603_2_0179_cropped_compressed/MD603-IHC48-2016.03.02-15.41.39_MD603_1_0142_lossless_alignedTo_MD603-N60-2015.12.03-23.57.05_MD603_2_0179_cropped_compressed.jpg /home/yuncong/csd395/CSHL_cells_v2/detected_cells/MD603/MD603-IHC48-2016.03.02-15.41.39_MD603_1_0142/MD603-IHC48-2016.03.02-15.41.39_MD603_1_0142_image.jpg\n"
     ]
    },
    {
     "name": "stderr",
     "output_type": "stream",
     "text": [
      "Child returned 0\n",
      "Load mask: 14.84\n",
      "regionprops: 2.63\n",
      "77250 blobs identified.\n",
      "Save blob coords: 4.27\n",
      "Save blob masks: 8.56\n",
      "Save blob contours, save: 14.26\n",
      "Compute blob properties, save: 16.67\n",
      "Processing section: 230\n"
     ]
    },
    {
     "name": "stdout",
     "output_type": "stream",
     "text": [
      "cp /oasis/projects/nsf/csd395/yuncong/CSHL_data_processed/MD603/MD603_lossless_alignedTo_MD603-N60-2015.12.03-23.57.05_MD603_2_0179_cropped_compressed/MD603-N48-2016.03.02-13.25.24_MD603_2_0143_lossless_alignedTo_MD603-N60-2015.12.03-23.57.05_MD603_2_0179_cropped_compressed.jpg /home/yuncong/csd395/CSHL_cells_v2/detected_cells/MD603/MD603-N48-2016.03.02-13.25.24_MD603_2_0143/MD603-N48-2016.03.02-13.25.24_MD603_2_0143_image.jpg\n"
     ]
    },
    {
     "name": "stderr",
     "output_type": "stream",
     "text": [
      "Child returned 0\n",
      "Load mask: 14.76\n",
      "regionprops: 3.09\n",
      "81043 blobs identified.\n",
      "Save blob coords: 4.67\n",
      "Save blob masks: 9.19\n",
      "Save blob contours, save: 15.22\n",
      "Compute blob properties, save: 17.55\n",
      "Processing section: 231\n"
     ]
    },
    {
     "name": "stdout",
     "output_type": "stream",
     "text": [
      "cp /oasis/projects/nsf/csd395/yuncong/CSHL_data_processed/MD603/MD603_lossless_alignedTo_MD603-N60-2015.12.03-23.57.05_MD603_2_0179_cropped_compressed/MD603-IHC48-2016.03.02-15.41.39_MD603_2_0143_lossless_alignedTo_MD603-N60-2015.12.03-23.57.05_MD603_2_0179_cropped_compressed.jpg /home/yuncong/csd395/CSHL_cells_v2/detected_cells/MD603/MD603-IHC48-2016.03.02-15.41.39_MD603_2_0143/MD603-IHC48-2016.03.02-15.41.39_MD603_2_0143_image.jpg\n"
     ]
    },
    {
     "name": "stderr",
     "output_type": "stream",
     "text": [
      "Child returned 0\n",
      "Load mask: 14.86\n",
      "regionprops: 3.11\n",
      "81790 blobs identified.\n",
      "Save blob coords: 4.38\n",
      "Save blob masks: 8.96\n",
      "Save blob contours, save: 14.48\n",
      "Compute blob properties, save: 17.63\n",
      "Processing section: 232\n"
     ]
    },
    {
     "name": "stdout",
     "output_type": "stream",
     "text": [
      "cp /oasis/projects/nsf/csd395/yuncong/CSHL_data_processed/MD603/MD603_lossless_alignedTo_MD603-N60-2015.12.03-23.57.05_MD603_2_0179_cropped_compressed/MD603-N49-2016.03.02-13.30.24_MD603_1_0145_lossless_alignedTo_MD603-N60-2015.12.03-23.57.05_MD603_2_0179_cropped_compressed.jpg /home/yuncong/csd395/CSHL_cells_v2/detected_cells/MD603/MD603-N49-2016.03.02-13.30.24_MD603_1_0145/MD603-N49-2016.03.02-13.30.24_MD603_1_0145_image.jpg\n"
     ]
    },
    {
     "name": "stderr",
     "output_type": "stream",
     "text": [
      "Child returned 0\n",
      "Load mask: 14.77\n",
      "regionprops: 3.17\n",
      "81984 blobs identified.\n",
      "Save blob coords: 4.66\n",
      "Save blob masks: 9.22\n",
      "Save blob contours, save: 15.49\n",
      "Compute blob properties, save: 17.88\n",
      "Processing section: 233\n"
     ]
    },
    {
     "name": "stdout",
     "output_type": "stream",
     "text": [
      "cp /oasis/projects/nsf/csd395/yuncong/CSHL_data_processed/MD603/MD603_lossless_alignedTo_MD603-N60-2015.12.03-23.57.05_MD603_2_0179_cropped_compressed/MD603-IHC49-2015.12.03-16.53.29_MD603_3_0145_lossless_alignedTo_MD603-N60-2015.12.03-23.57.05_MD603_2_0179_cropped_compressed.jpg /home/yuncong/csd395/CSHL_cells_v2/detected_cells/MD603/MD603-IHC49-2015.12.03-16.53.29_MD603_3_0145/MD603-IHC49-2015.12.03-16.53.29_MD603_3_0145_image.jpg\n"
     ]
    },
    {
     "name": "stderr",
     "output_type": "stream",
     "text": [
      "Child returned 0\n",
      "Load mask: 14.68\n",
      "regionprops: 3.06\n",
      "76812 blobs identified.\n",
      "Save blob coords: 4.16\n",
      "Save blob masks: 8.53\n",
      "Save blob contours, save: 14.61\n",
      "Compute blob properties, save: 16.51\n",
      "Processing section: 234\n"
     ]
    },
    {
     "name": "stdout",
     "output_type": "stream",
     "text": [
      "cp /oasis/projects/nsf/csd395/yuncong/CSHL_data_processed/MD603/MD603_lossless_alignedTo_MD603-N60-2015.12.03-23.57.05_MD603_2_0179_cropped_compressed/MD603-N49-2016.03.02-13.30.24_MD603_2_0146_lossless_alignedTo_MD603-N60-2015.12.03-23.57.05_MD603_2_0179_cropped_compressed.jpg /home/yuncong/csd395/CSHL_cells_v2/detected_cells/MD603/MD603-N49-2016.03.02-13.30.24_MD603_2_0146/MD603-N49-2016.03.02-13.30.24_MD603_2_0146_image.jpg\n"
     ]
    },
    {
     "name": "stderr",
     "output_type": "stream",
     "text": [
      "Child returned 0\n",
      "Load mask: 14.65\n",
      "regionprops: 3.09\n",
      "75328 blobs identified.\n",
      "Save blob coords: 4.20\n",
      "Save blob masks: 8.20\n",
      "Save blob contours, save: 12.56\n",
      "Compute blob properties, save: 15.99\n",
      "Processing section: 235\n"
     ]
    },
    {
     "name": "stdout",
     "output_type": "stream",
     "text": [
      "cp /oasis/projects/nsf/csd395/yuncong/CSHL_data_processed/MD603/MD603_lossless_alignedTo_MD603-N60-2015.12.03-23.57.05_MD603_2_0179_cropped_compressed/MD603-IHC49-2015.12.03-16.53.29_MD603_1_0147_lossless_alignedTo_MD603-N60-2015.12.03-23.57.05_MD603_2_0179_cropped_compressed.jpg /home/yuncong/csd395/CSHL_cells_v2/detected_cells/MD603/MD603-IHC49-2015.12.03-16.53.29_MD603_1_0147/MD603-IHC49-2015.12.03-16.53.29_MD603_1_0147_image.jpg\n"
     ]
    },
    {
     "name": "stderr",
     "output_type": "stream",
     "text": [
      "Child returned 0\n",
      "Load mask: 15.07\n",
      "regionprops: 3.20\n",
      "75290 blobs identified.\n",
      "Save blob coords: 4.14\n",
      "Save blob masks: 8.30\n",
      "Save blob contours, save: 12.66\n",
      "Compute blob properties, save: 16.29\n",
      "Processing section: 236\n"
     ]
    },
    {
     "name": "stdout",
     "output_type": "stream",
     "text": [
      "cp /oasis/projects/nsf/csd395/yuncong/CSHL_data_processed/MD603/MD603_lossless_alignedTo_MD603-N60-2015.12.03-23.57.05_MD603_2_0179_cropped_compressed/MD603-N50-2016.03.02-13.35.12_MD603_1_0148_lossless_alignedTo_MD603-N60-2015.12.03-23.57.05_MD603_2_0179_cropped_compressed.jpg /home/yuncong/csd395/CSHL_cells_v2/detected_cells/MD603/MD603-N50-2016.03.02-13.35.12_MD603_1_0148/MD603-N50-2016.03.02-13.35.12_MD603_1_0148_image.jpg\n"
     ]
    },
    {
     "name": "stderr",
     "output_type": "stream",
     "text": [
      "Child returned 0\n",
      "Load mask: 14.84\n",
      "regionprops: 3.25\n",
      "84559 blobs identified.\n",
      "Save blob coords: 4.88\n",
      "Save blob masks: 9.51\n",
      "Save blob contours, save: 13.87\n",
      "Compute blob properties, save: 19.16\n",
      "Processing section: 237\n"
     ]
    },
    {
     "name": "stdout",
     "output_type": "stream",
     "text": [
      "cp /oasis/projects/nsf/csd395/yuncong/CSHL_data_processed/MD603/MD603_lossless_alignedTo_MD603-N60-2015.12.03-23.57.05_MD603_2_0179_cropped_compressed/MD603-IHC50-2015.12.03-16.58.25_MD603_3_0148_lossless_alignedTo_MD603-N60-2015.12.03-23.57.05_MD603_2_0179_cropped_compressed.jpg /home/yuncong/csd395/CSHL_cells_v2/detected_cells/MD603/MD603-IHC50-2015.12.03-16.58.25_MD603_3_0148/MD603-IHC50-2015.12.03-16.58.25_MD603_3_0148_image.jpg\n"
     ]
    },
    {
     "name": "stderr",
     "output_type": "stream",
     "text": [
      "Child returned 0\n",
      "Load mask: 15.03\n",
      "regionprops: 2.78\n",
      "67282 blobs identified.\n",
      "Save blob coords: 3.87\n",
      "Save blob masks: 7.68\n",
      "Save blob contours, save: 11.36\n",
      "Compute blob properties, save: 14.88\n",
      "Processing section: 238\n"
     ]
    },
    {
     "name": "stdout",
     "output_type": "stream",
     "text": [
      "cp /oasis/projects/nsf/csd395/yuncong/CSHL_data_processed/MD603/MD603_lossless_alignedTo_MD603-N60-2015.12.03-23.57.05_MD603_2_0179_cropped_compressed/MD603-N50-2016.03.02-13.35.12_MD603_2_0149_lossless_alignedTo_MD603-N60-2015.12.03-23.57.05_MD603_2_0179_cropped_compressed.jpg /home/yuncong/csd395/CSHL_cells_v2/detected_cells/MD603/MD603-N50-2016.03.02-13.35.12_MD603_2_0149/MD603-N50-2016.03.02-13.35.12_MD603_2_0149_image.jpg\n"
     ]
    },
    {
     "name": "stderr",
     "output_type": "stream",
     "text": [
      "Child returned 0\n",
      "Load mask: 14.78\n",
      "regionprops: 3.00\n",
      "83261 blobs identified.\n",
      "Save blob coords: 4.67\n",
      "Save blob masks: 8.98\n",
      "Save blob contours, save: 14.29\n",
      "Compute blob properties, save: 17.85\n",
      "Processing section: 239\n"
     ]
    },
    {
     "name": "stdout",
     "output_type": "stream",
     "text": [
      "cp /oasis/projects/nsf/csd395/yuncong/CSHL_data_processed/MD603/MD603_lossless_alignedTo_MD603-N60-2015.12.03-23.57.05_MD603_2_0179_cropped_compressed/MD603-IHC50-2015.12.03-16.58.25_MD603_2_0149_lossless_alignedTo_MD603-N60-2015.12.03-23.57.05_MD603_2_0179_cropped_compressed.jpg /home/yuncong/csd395/CSHL_cells_v2/detected_cells/MD603/MD603-IHC50-2015.12.03-16.58.25_MD603_2_0149/MD603-IHC50-2015.12.03-16.58.25_MD603_2_0149_image.jpg\n"
     ]
    },
    {
     "name": "stderr",
     "output_type": "stream",
     "text": [
      "Child returned 0\n",
      "Load mask: 15.03\n",
      "regionprops: 3.32\n",
      "81501 blobs identified.\n",
      "Save blob coords: 4.48\n",
      "Save blob masks: 9.03\n",
      "Save blob contours, save: 13.58\n",
      "Compute blob properties, save: 17.76\n",
      "Processing section: 240\n"
     ]
    },
    {
     "name": "stdout",
     "output_type": "stream",
     "text": [
      "cp /oasis/projects/nsf/csd395/yuncong/CSHL_data_processed/MD603/MD603_lossless_alignedTo_MD603-N60-2015.12.03-23.57.05_MD603_2_0179_cropped_compressed/MD603-IHC51-2016.03.02-15.46.48_MD603_1_0151_lossless_alignedTo_MD603-N60-2015.12.03-23.57.05_MD603_2_0179_cropped_compressed.jpg /home/yuncong/csd395/CSHL_cells_v2/detected_cells/MD603/MD603-IHC51-2016.03.02-15.46.48_MD603_1_0151/MD603-IHC51-2016.03.02-15.46.48_MD603_1_0151_image.jpg\n"
     ]
    },
    {
     "name": "stderr",
     "output_type": "stream",
     "text": [
      "Child returned 0\n",
      "Load mask: 14.79\n",
      "regionprops: 3.34\n",
      "88182 blobs identified.\n",
      "Save blob coords: 4.77\n",
      "Save blob masks: 9.68\n",
      "Save blob contours, save: 14.44\n",
      "Compute blob properties, save: 19.73\n",
      "Processing section: 241\n"
     ]
    },
    {
     "name": "stdout",
     "output_type": "stream",
     "text": [
      "cp /oasis/projects/nsf/csd395/yuncong/CSHL_data_processed/MD603/MD603_lossless_alignedTo_MD603-N60-2015.12.03-23.57.05_MD603_2_0179_cropped_compressed/MD603-N51-2015.12.03-23.13.26_MD603_1_0153_lossless_alignedTo_MD603-N60-2015.12.03-23.57.05_MD603_2_0179_cropped_compressed.jpg /home/yuncong/csd395/CSHL_cells_v2/detected_cells/MD603/MD603-N51-2015.12.03-23.13.26_MD603_1_0153/MD603-N51-2015.12.03-23.13.26_MD603_1_0153_image.jpg\n"
     ]
    },
    {
     "name": "stderr",
     "output_type": "stream",
     "text": [
      "Child returned 0\n",
      "Load mask: 14.94\n",
      "regionprops: 2.88\n",
      "83968 blobs identified.\n",
      "Save blob coords: 4.56\n",
      "Save blob masks: 9.24\n",
      "Save blob contours, save: 14.10\n",
      "Compute blob properties, save: 18.02\n",
      "Processing section: 242\n"
     ]
    },
    {
     "name": "stdout",
     "output_type": "stream",
     "text": [
      "cp /oasis/projects/nsf/csd395/yuncong/CSHL_data_processed/MD603/MD603_lossless_alignedTo_MD603-N60-2015.12.03-23.57.05_MD603_2_0179_cropped_compressed/MD603-IHC51-2016.03.02-15.46.48_MD603_2_0152_lossless_alignedTo_MD603-N60-2015.12.03-23.57.05_MD603_2_0179_cropped_compressed.jpg /home/yuncong/csd395/CSHL_cells_v2/detected_cells/MD603/MD603-IHC51-2016.03.02-15.46.48_MD603_2_0152/MD603-IHC51-2016.03.02-15.46.48_MD603_2_0152_image.jpg\n"
     ]
    },
    {
     "name": "stderr",
     "output_type": "stream",
     "text": [
      "Child returned 0\n",
      "Load mask: 14.89\n",
      "regionprops: 3.27\n",
      "87547 blobs identified.\n",
      "Save blob coords: 4.54\n",
      "Save blob masks: 9.42\n",
      "Save blob contours, save: 14.37\n",
      "Compute blob properties, save: 19.05\n",
      "Processing section: 243\n"
     ]
    },
    {
     "name": "stdout",
     "output_type": "stream",
     "text": [
      "cp /oasis/projects/nsf/csd395/yuncong/CSHL_data_processed/MD603/MD603_lossless_alignedTo_MD603-N60-2015.12.03-23.57.05_MD603_2_0179_cropped_compressed/MD603-N52-2015.12.03-23.18.27_MD603_3_0154_lossless_alignedTo_MD603-N60-2015.12.03-23.57.05_MD603_2_0179_cropped_compressed.jpg /home/yuncong/csd395/CSHL_cells_v2/detected_cells/MD603/MD603-N52-2015.12.03-23.18.27_MD603_3_0154/MD603-N52-2015.12.03-23.18.27_MD603_3_0154_image.jpg\n"
     ]
    },
    {
     "name": "stderr",
     "output_type": "stream",
     "text": [
      "Child returned 0\n",
      "Load mask: 14.83\n",
      "regionprops: 2.74\n",
      "72057 blobs identified.\n",
      "Save blob coords: 4.39\n",
      "Save blob masks: 8.19\n",
      "Save blob contours, save: 12.00\n",
      "Compute blob properties, save: 16.46\n",
      "Processing section: 244\n"
     ]
    },
    {
     "name": "stdout",
     "output_type": "stream",
     "text": [
      "cp /oasis/projects/nsf/csd395/yuncong/CSHL_data_processed/MD603/MD603_lossless_alignedTo_MD603-N60-2015.12.03-23.57.05_MD603_2_0179_cropped_compressed/MD603-IHC52-2016.03.02-15.51.57_MD603_1_0154_lossless_alignedTo_MD603-N60-2015.12.03-23.57.05_MD603_2_0179_cropped_compressed.jpg /home/yuncong/csd395/CSHL_cells_v2/detected_cells/MD603/MD603-IHC52-2016.03.02-15.51.57_MD603_1_0154/MD603-IHC52-2016.03.02-15.51.57_MD603_1_0154_image.jpg\n"
     ]
    },
    {
     "name": "stderr",
     "output_type": "stream",
     "text": [
      "Child returned 0\n",
      "Load mask: 14.96\n",
      "regionprops: 2.77\n",
      "83624 blobs identified.\n",
      "Save blob coords: 4.42\n",
      "Save blob masks: 9.33\n",
      "Save blob contours, save: 13.93\n",
      "Compute blob properties, save: 17.50\n",
      "Processing section: 245\n"
     ]
    },
    {
     "name": "stdout",
     "output_type": "stream",
     "text": [
      "cp /oasis/projects/nsf/csd395/yuncong/CSHL_data_processed/MD603/MD603_lossless_alignedTo_MD603-N60-2015.12.03-23.57.05_MD603_2_0179_cropped_compressed/MD603-N52-2015.12.03-23.18.27_MD603_2_0155_lossless_alignedTo_MD603-N60-2015.12.03-23.57.05_MD603_2_0179_cropped_compressed.jpg /home/yuncong/csd395/CSHL_cells_v2/detected_cells/MD603/MD603-N52-2015.12.03-23.18.27_MD603_2_0155/MD603-N52-2015.12.03-23.18.27_MD603_2_0155_image.jpg\n"
     ]
    },
    {
     "name": "stderr",
     "output_type": "stream",
     "text": [
      "Child returned 0\n",
      "Load mask: 14.76\n",
      "regionprops: 3.35\n",
      "79220 blobs identified.\n",
      "Save blob coords: 4.40\n",
      "Save blob masks: 8.66\n",
      "Save blob contours, save: 13.52\n",
      "Compute blob properties, save: 17.39\n",
      "Processing section: 246\n"
     ]
    },
    {
     "name": "stdout",
     "output_type": "stream",
     "text": [
      "cp /oasis/projects/nsf/csd395/yuncong/CSHL_data_processed/MD603/MD603_lossless_alignedTo_MD603-N60-2015.12.03-23.57.05_MD603_2_0179_cropped_compressed/MD603-IHC52-2016.03.02-15.51.57_MD603_2_0155_lossless_alignedTo_MD603-N60-2015.12.03-23.57.05_MD603_2_0179_cropped_compressed.jpg /home/yuncong/csd395/CSHL_cells_v2/detected_cells/MD603/MD603-IHC52-2016.03.02-15.51.57_MD603_2_0155/MD603-IHC52-2016.03.02-15.51.57_MD603_2_0155_image.jpg\n"
     ]
    },
    {
     "name": "stderr",
     "output_type": "stream",
     "text": [
      "Child returned 0\n",
      "Load mask: 14.77\n",
      "regionprops: 3.28\n",
      "85499 blobs identified.\n",
      "Save blob coords: 4.40\n",
      "Save blob masks: 9.21\n",
      "Save blob contours, save: 14.00\n",
      "Compute blob properties, save: 18.01\n",
      "Processing section: 247\n"
     ]
    },
    {
     "name": "stdout",
     "output_type": "stream",
     "text": [
      "cp /oasis/projects/nsf/csd395/yuncong/CSHL_data_processed/MD603/MD603_lossless_alignedTo_MD603-N60-2015.12.03-23.57.05_MD603_2_0179_cropped_compressed/MD603-N53-2015.12.03-23.22.52_MD603_3_0157_lossless_alignedTo_MD603-N60-2015.12.03-23.57.05_MD603_2_0179_cropped_compressed.jpg /home/yuncong/csd395/CSHL_cells_v2/detected_cells/MD603/MD603-N53-2015.12.03-23.22.52_MD603_3_0157/MD603-N53-2015.12.03-23.22.52_MD603_3_0157_image.jpg\n"
     ]
    },
    {
     "name": "stderr",
     "output_type": "stream",
     "text": [
      "Child returned 0\n",
      "Load mask: 14.82\n",
      "regionprops: 3.33\n",
      "80379 blobs identified.\n",
      "Save blob coords: 4.98\n",
      "Save blob masks: 9.32\n",
      "Save blob contours, save: 13.74\n",
      "Compute blob properties, save: 18.35\n",
      "Processing section: 248\n"
     ]
    },
    {
     "name": "stdout",
     "output_type": "stream",
     "text": [
      "cp /oasis/projects/nsf/csd395/yuncong/CSHL_data_processed/MD603/MD603_lossless_alignedTo_MD603-N60-2015.12.03-23.57.05_MD603_2_0179_cropped_compressed/MD603-IHC53-2015.12.03-17.12.16_MD603_3_0157_lossless_alignedTo_MD603-N60-2015.12.03-23.57.05_MD603_2_0179_cropped_compressed.jpg /home/yuncong/csd395/CSHL_cells_v2/detected_cells/MD603/MD603-IHC53-2015.12.03-17.12.16_MD603_3_0157/MD603-IHC53-2015.12.03-17.12.16_MD603_3_0157_image.jpg\n"
     ]
    },
    {
     "name": "stderr",
     "output_type": "stream",
     "text": [
      "Child returned 0\n",
      "Load mask: 14.82\n",
      "regionprops: 2.63\n",
      "68452 blobs identified.\n",
      "Save blob coords: 3.81\n",
      "Save blob masks: 7.75\n",
      "Save blob contours, save: 11.55\n",
      "Compute blob properties, save: 15.08\n",
      "Processing section: 249\n"
     ]
    },
    {
     "name": "stdout",
     "output_type": "stream",
     "text": [
      "cp /oasis/projects/nsf/csd395/yuncong/CSHL_data_processed/MD603/MD603_lossless_alignedTo_MD603-N60-2015.12.03-23.57.05_MD603_2_0179_cropped_compressed/MD603-N53-2015.12.03-23.22.52_MD603_1_0159_lossless_alignedTo_MD603-N60-2015.12.03-23.57.05_MD603_2_0179_cropped_compressed.jpg /home/yuncong/csd395/CSHL_cells_v2/detected_cells/MD603/MD603-N53-2015.12.03-23.22.52_MD603_1_0159/MD603-N53-2015.12.03-23.22.52_MD603_1_0159_image.jpg\n"
     ]
    },
    {
     "name": "stderr",
     "output_type": "stream",
     "text": [
      "Child returned 0\n",
      "Load mask: 14.98\n",
      "regionprops: 2.62\n",
      "84497 blobs identified.\n",
      "Save blob coords: 4.64\n",
      "Save blob masks: 9.74\n",
      "Save blob contours, save: 13.94\n",
      "Compute blob properties, save: 18.04\n",
      "Processing section: 250\n"
     ]
    },
    {
     "name": "stdout",
     "output_type": "stream",
     "text": [
      "cp /oasis/projects/nsf/csd395/yuncong/CSHL_data_processed/MD603/MD603_lossless_alignedTo_MD603-N60-2015.12.03-23.57.05_MD603_2_0179_cropped_compressed/MD603-IHC53-2015.12.03-17.12.16_MD603_2_0158_lossless_alignedTo_MD603-N60-2015.12.03-23.57.05_MD603_2_0179_cropped_compressed.jpg /home/yuncong/csd395/CSHL_cells_v2/detected_cells/MD603/MD603-IHC53-2015.12.03-17.12.16_MD603_2_0158/MD603-IHC53-2015.12.03-17.12.16_MD603_2_0158_image.jpg\n"
     ]
    },
    {
     "name": "stderr",
     "output_type": "stream",
     "text": [
      "Child returned 0\n",
      "Load mask: 14.74\n",
      "regionprops: 3.31\n",
      "70593 blobs identified.\n",
      "Save blob coords: 3.97\n",
      "Save blob masks: 7.78\n",
      "Save blob contours, save: 11.73\n",
      "Compute blob properties, save: 15.25\n",
      "Processing section: 251\n"
     ]
    },
    {
     "name": "stdout",
     "output_type": "stream",
     "text": [
      "cp /oasis/projects/nsf/csd395/yuncong/CSHL_data_processed/MD603/MD603_lossless_alignedTo_MD603-N60-2015.12.03-23.57.05_MD603_2_0179_cropped_compressed/MD603-N54-2015.12.03-23.27.17_MD603_3_0160_lossless_alignedTo_MD603-N60-2015.12.03-23.57.05_MD603_2_0179_cropped_compressed.jpg /home/yuncong/csd395/CSHL_cells_v2/detected_cells/MD603/MD603-N54-2015.12.03-23.27.17_MD603_3_0160/MD603-N54-2015.12.03-23.27.17_MD603_3_0160_image.jpg\n"
     ]
    },
    {
     "name": "stderr",
     "output_type": "stream",
     "text": [
      "Child returned 0\n",
      "Load mask: 15.18\n",
      "regionprops: 3.11\n",
      "85138 blobs identified.\n",
      "Save blob coords: 4.72\n",
      "Save blob masks: 10.14\n",
      "Save blob contours, save: 13.96\n",
      "Compute blob properties, save: 18.73\n",
      "Processing section: 252\n"
     ]
    },
    {
     "name": "stdout",
     "output_type": "stream",
     "text": [
      "cp /oasis/projects/nsf/csd395/yuncong/CSHL_data_processed/MD603/MD603_lossless_alignedTo_MD603-N60-2015.12.03-23.57.05_MD603_2_0179_cropped_compressed/MD603-IHC54-2016.03.02-15.57.32_MD603_1_0160_lossless_alignedTo_MD603-N60-2015.12.03-23.57.05_MD603_2_0179_cropped_compressed.jpg /home/yuncong/csd395/CSHL_cells_v2/detected_cells/MD603/MD603-IHC54-2016.03.02-15.57.32_MD603_1_0160/MD603-IHC54-2016.03.02-15.57.32_MD603_1_0160_image.jpg\n"
     ]
    },
    {
     "name": "stderr",
     "output_type": "stream",
     "text": [
      "Child returned 0\n",
      "Load mask: 14.79\n",
      "regionprops: 3.29\n",
      "83538 blobs identified.\n",
      "Save blob coords: 4.36\n",
      "Save blob masks: 9.02\n",
      "Save blob contours, save: 13.69\n",
      "Compute blob properties, save: 18.07\n",
      "Processing section: 253\n"
     ]
    },
    {
     "name": "stdout",
     "output_type": "stream",
     "text": [
      "cp /oasis/projects/nsf/csd395/yuncong/CSHL_data_processed/MD603/MD603_lossless_alignedTo_MD603-N60-2015.12.03-23.57.05_MD603_2_0179_cropped_compressed/MD603-N54-2015.12.03-23.27.17_MD603_2_0161_lossless_alignedTo_MD603-N60-2015.12.03-23.57.05_MD603_2_0179_cropped_compressed.jpg /home/yuncong/csd395/CSHL_cells_v2/detected_cells/MD603/MD603-N54-2015.12.03-23.27.17_MD603_2_0161/MD603-N54-2015.12.03-23.27.17_MD603_2_0161_image.jpg\n"
     ]
    },
    {
     "name": "stderr",
     "output_type": "stream",
     "text": [
      "Child returned 0\n",
      "Load mask: 14.79\n",
      "regionprops: 2.82\n",
      "83782 blobs identified.\n",
      "Save blob coords: 4.49\n",
      "Save blob masks: 9.35\n",
      "Save blob contours, save: 13.69\n",
      "Compute blob properties, save: 18.54\n",
      "Processing section: 254\n"
     ]
    },
    {
     "name": "stdout",
     "output_type": "stream",
     "text": [
      "cp /oasis/projects/nsf/csd395/yuncong/CSHL_data_processed/MD603/MD603_lossless_alignedTo_MD603-N60-2015.12.03-23.57.05_MD603_2_0179_cropped_compressed/MD603-IHC54-2016.03.02-15.57.32_MD603_2_0161_lossless_alignedTo_MD603-N60-2015.12.03-23.57.05_MD603_2_0179_cropped_compressed.jpg /home/yuncong/csd395/CSHL_cells_v2/detected_cells/MD603/MD603-IHC54-2016.03.02-15.57.32_MD603_2_0161/MD603-IHC54-2016.03.02-15.57.32_MD603_2_0161_image.jpg\n"
     ]
    },
    {
     "name": "stderr",
     "output_type": "stream",
     "text": [
      "Child returned 0\n",
      "Load mask: 14.78\n",
      "regionprops: 2.82\n",
      "85540 blobs identified.\n",
      "Save blob coords: 4.35\n",
      "Save blob masks: 9.21\n",
      "Save blob contours, save: 13.93\n",
      "Compute blob properties, save: 17.98\n",
      "Processing section: 255\n"
     ]
    },
    {
     "name": "stdout",
     "output_type": "stream",
     "text": [
      "cp /oasis/projects/nsf/csd395/yuncong/CSHL_data_processed/MD603/MD603_lossless_alignedTo_MD603-N60-2015.12.03-23.57.05_MD603_2_0179_cropped_compressed/MD603-N55-2016.03.02-13.40.27_MD603_1_0163_lossless_alignedTo_MD603-N60-2015.12.03-23.57.05_MD603_2_0179_cropped_compressed.jpg /home/yuncong/csd395/CSHL_cells_v2/detected_cells/MD603/MD603-N55-2016.03.02-13.40.27_MD603_1_0163/MD603-N55-2016.03.02-13.40.27_MD603_1_0163_image.jpg\n"
     ]
    },
    {
     "name": "stderr",
     "output_type": "stream",
     "text": [
      "Child returned 0\n",
      "Load mask: 14.76\n",
      "regionprops: 3.39\n",
      "87662 blobs identified.\n",
      "Save blob coords: 4.63\n",
      "Save blob masks: 9.48\n",
      "Save blob contours, save: 14.34\n",
      "Compute blob properties, save: 18.95\n",
      "Processing section: 256\n"
     ]
    },
    {
     "name": "stdout",
     "output_type": "stream",
     "text": [
      "cp /oasis/projects/nsf/csd395/yuncong/CSHL_data_processed/MD603/MD603_lossless_alignedTo_MD603-N60-2015.12.03-23.57.05_MD603_2_0179_cropped_compressed/MD603-IHC55-2016.03.02-16.02.44_MD603_1_0163_lossless_alignedTo_MD603-N60-2015.12.03-23.57.05_MD603_2_0179_cropped_compressed.jpg /home/yuncong/csd395/CSHL_cells_v2/detected_cells/MD603/MD603-IHC55-2016.03.02-16.02.44_MD603_1_0163/MD603-IHC55-2016.03.02-16.02.44_MD603_1_0163_image.jpg\n"
     ]
    },
    {
     "name": "stderr",
     "output_type": "stream",
     "text": [
      "Child returned 0\n",
      "Load mask: 14.77\n",
      "regionprops: 3.40\n",
      "85996 blobs identified.\n",
      "Save blob coords: 4.45\n",
      "Save blob masks: 9.24\n",
      "Save blob contours, save: 13.90\n",
      "Compute blob properties, save: 17.92\n",
      "Processing section: 257\n"
     ]
    },
    {
     "name": "stdout",
     "output_type": "stream",
     "text": [
      "cp /oasis/projects/nsf/csd395/yuncong/CSHL_data_processed/MD603/MD603_lossless_alignedTo_MD603-N60-2015.12.03-23.57.05_MD603_2_0179_cropped_compressed/MD603-N55-2016.03.02-13.40.27_MD603_2_0164_lossless_alignedTo_MD603-N60-2015.12.03-23.57.05_MD603_2_0179_cropped_compressed.jpg /home/yuncong/csd395/CSHL_cells_v2/detected_cells/MD603/MD603-N55-2016.03.02-13.40.27_MD603_2_0164/MD603-N55-2016.03.02-13.40.27_MD603_2_0164_image.jpg\n"
     ]
    },
    {
     "name": "stderr",
     "output_type": "stream",
     "text": [
      "Child returned 0\n",
      "Load mask: 14.81\n",
      "regionprops: 3.23\n",
      "84652 blobs identified.\n",
      "Save blob coords: 4.34\n",
      "Save blob masks: 9.04\n",
      "Save blob contours, save: 14.21\n",
      "Compute blob properties, save: 17.86\n",
      "Processing section: 258\n"
     ]
    },
    {
     "name": "stdout",
     "output_type": "stream",
     "text": [
      "cp /oasis/projects/nsf/csd395/yuncong/CSHL_data_processed/MD603/MD603_lossless_alignedTo_MD603-N60-2015.12.03-23.57.05_MD603_2_0179_cropped_compressed/MD603-IHC55-2016.03.02-16.02.44_MD603_2_0164_lossless_alignedTo_MD603-N60-2015.12.03-23.57.05_MD603_2_0179_cropped_compressed.jpg /home/yuncong/csd395/CSHL_cells_v2/detected_cells/MD603/MD603-IHC55-2016.03.02-16.02.44_MD603_2_0164/MD603-IHC55-2016.03.02-16.02.44_MD603_2_0164_image.jpg\n"
     ]
    },
    {
     "name": "stderr",
     "output_type": "stream",
     "text": [
      "Child returned 0\n",
      "Load mask: 14.80\n",
      "regionprops: 3.28\n",
      "86307 blobs identified.\n",
      "Save blob coords: 4.42\n",
      "Save blob masks: 9.25\n",
      "Save blob contours, save: 14.14\n",
      "Compute blob properties, save: 18.13\n",
      "Processing section: 259\n"
     ]
    },
    {
     "name": "stdout",
     "output_type": "stream",
     "text": [
      "cp /oasis/projects/nsf/csd395/yuncong/CSHL_data_processed/MD603/MD603_lossless_alignedTo_MD603-N60-2015.12.03-23.57.05_MD603_2_0179_cropped_compressed/MD603-N56-2015.12.03-23.37.06_MD603_3_0166_lossless_alignedTo_MD603-N60-2015.12.03-23.57.05_MD603_2_0179_cropped_compressed.jpg /home/yuncong/csd395/CSHL_cells_v2/detected_cells/MD603/MD603-N56-2015.12.03-23.37.06_MD603_3_0166/MD603-N56-2015.12.03-23.37.06_MD603_3_0166_image.jpg\n"
     ]
    },
    {
     "name": "stderr",
     "output_type": "stream",
     "text": [
      "Child returned 0\n",
      "Load mask: 14.81\n",
      "regionprops: 3.31\n",
      "82623 blobs identified.\n",
      "Save blob coords: 4.42\n",
      "Save blob masks: 8.92\n",
      "Save blob contours, save: 13.66\n",
      "Compute blob properties, save: 17.63\n",
      "Processing section: 260\n"
     ]
    },
    {
     "name": "stdout",
     "output_type": "stream",
     "text": [
      "cp /oasis/projects/nsf/csd395/yuncong/CSHL_data_processed/MD603/MD603_lossless_alignedTo_MD603-N60-2015.12.03-23.57.05_MD603_2_0179_cropped_compressed/MD603-IHC56-2015.12.03-17.25.42_MD603_3_0166_lossless_alignedTo_MD603-N60-2015.12.03-23.57.05_MD603_2_0179_cropped_compressed.jpg /home/yuncong/csd395/CSHL_cells_v2/detected_cells/MD603/MD603-IHC56-2015.12.03-17.25.42_MD603_3_0166/MD603-IHC56-2015.12.03-17.25.42_MD603_3_0166_image.jpg\n"
     ]
    },
    {
     "name": "stderr",
     "output_type": "stream",
     "text": [
      "Child returned 0\n",
      "Load mask: 14.76\n",
      "regionprops: 3.30\n",
      "83147 blobs identified.\n",
      "Save blob coords: 4.54\n",
      "Save blob masks: 9.15\n",
      "Save blob contours, save: 13.62\n",
      "Compute blob properties, save: 17.76\n",
      "Processing section: 261\n"
     ]
    },
    {
     "name": "stdout",
     "output_type": "stream",
     "text": [
      "cp /oasis/projects/nsf/csd395/yuncong/CSHL_data_processed/MD603/MD603_lossless_alignedTo_MD603-N60-2015.12.03-23.57.05_MD603_2_0179_cropped_compressed/MD603-N56-2015.12.03-23.37.06_MD603_2_0167_lossless_alignedTo_MD603-N60-2015.12.03-23.57.05_MD603_2_0179_cropped_compressed.jpg /home/yuncong/csd395/CSHL_cells_v2/detected_cells/MD603/MD603-N56-2015.12.03-23.37.06_MD603_2_0167/MD603-N56-2015.12.03-23.37.06_MD603_2_0167_image.jpg\n"
     ]
    },
    {
     "name": "stderr",
     "output_type": "stream",
     "text": [
      "Child returned 0\n",
      "Load mask: 14.85\n",
      "regionprops: 3.26\n",
      "85016 blobs identified.\n",
      "Save blob coords: 4.51\n",
      "Save blob masks: 9.29\n",
      "Save blob contours, save: 14.08\n",
      "Compute blob properties, save: 18.14\n",
      "Processing section: 262\n"
     ]
    },
    {
     "name": "stdout",
     "output_type": "stream",
     "text": [
      "cp /oasis/projects/nsf/csd395/yuncong/CSHL_data_processed/MD603/MD603_lossless_alignedTo_MD603-N60-2015.12.03-23.57.05_MD603_2_0179_cropped_compressed/MD603-IHC56-2015.12.03-17.25.42_MD603_1_0168_lossless_alignedTo_MD603-N60-2015.12.03-23.57.05_MD603_2_0179_cropped_compressed.jpg /home/yuncong/csd395/CSHL_cells_v2/detected_cells/MD603/MD603-IHC56-2015.12.03-17.25.42_MD603_1_0168/MD603-IHC56-2015.12.03-17.25.42_MD603_1_0168_image.jpg\n"
     ]
    },
    {
     "name": "stderr",
     "output_type": "stream",
     "text": [
      "Child returned 0\n",
      "Load mask: 14.76\n",
      "regionprops: 3.22\n",
      "82974 blobs identified.\n",
      "Save blob coords: 4.38\n",
      "Save blob masks: 8.98\n",
      "Save blob contours, save: 13.70\n",
      "Compute blob properties, save: 17.59\n",
      "Processing section: 263\n"
     ]
    },
    {
     "name": "stdout",
     "output_type": "stream",
     "text": [
      "cp /oasis/projects/nsf/csd395/yuncong/CSHL_data_processed/MD603/MD603_lossless_alignedTo_MD603-N60-2015.12.03-23.57.05_MD603_2_0179_cropped_compressed/MD603-N57-2015.12.03-23.41.51_MD603_3_0169_lossless_alignedTo_MD603-N60-2015.12.03-23.57.05_MD603_2_0179_cropped_compressed.jpg /home/yuncong/csd395/CSHL_cells_v2/detected_cells/MD603/MD603-N57-2015.12.03-23.41.51_MD603_3_0169/MD603-N57-2015.12.03-23.41.51_MD603_3_0169_image.jpg\n"
     ]
    },
    {
     "name": "stderr",
     "output_type": "stream",
     "text": [
      "Child returned 0\n",
      "Load mask: 14.98\n",
      "regionprops: 3.15\n",
      "69013 blobs identified.\n",
      "Save blob coords: 3.65\n",
      "Save blob masks: 7.49\n",
      "Save blob contours, save: 11.48\n",
      "Compute blob properties, save: 14.73\n",
      "Processing section: 264\n"
     ]
    },
    {
     "name": "stdout",
     "output_type": "stream",
     "text": [
      "cp /oasis/projects/nsf/csd395/yuncong/CSHL_data_processed/MD603/MD603_lossless_alignedTo_MD603-N60-2015.12.03-23.57.05_MD603_2_0179_cropped_compressed/MD603-IHC57-2015.12.03-17.30.32_MD603_3_0169_lossless_alignedTo_MD603-N60-2015.12.03-23.57.05_MD603_2_0179_cropped_compressed.jpg /home/yuncong/csd395/CSHL_cells_v2/detected_cells/MD603/MD603-IHC57-2015.12.03-17.30.32_MD603_3_0169/MD603-IHC57-2015.12.03-17.30.32_MD603_3_0169_image.jpg\n"
     ]
    },
    {
     "name": "stderr",
     "output_type": "stream",
     "text": [
      "Child returned 0\n",
      "Load mask: 14.80\n",
      "regionprops: 2.61\n",
      "69870 blobs identified.\n",
      "Save blob coords: 3.83\n",
      "Save blob masks: 7.84\n",
      "Save blob contours, save: 12.10\n",
      "Compute blob properties, save: 15.14\n",
      "Processing section: 265\n"
     ]
    },
    {
     "name": "stdout",
     "output_type": "stream",
     "text": [
      "cp /oasis/projects/nsf/csd395/yuncong/CSHL_data_processed/MD603/MD603_lossless_alignedTo_MD603-N60-2015.12.03-23.57.05_MD603_2_0179_cropped_compressed/MD603-N57-2015.12.03-23.41.51_MD603_2_0170_lossless_alignedTo_MD603-N60-2015.12.03-23.57.05_MD603_2_0179_cropped_compressed.jpg /home/yuncong/csd395/CSHL_cells_v2/detected_cells/MD603/MD603-N57-2015.12.03-23.41.51_MD603_2_0170/MD603-N57-2015.12.03-23.41.51_MD603_2_0170_image.jpg\n"
     ]
    },
    {
     "name": "stderr",
     "output_type": "stream",
     "text": [
      "Child returned 0\n",
      "Load mask: 14.80\n",
      "regionprops: 3.05\n",
      "81430 blobs identified.\n",
      "Save blob coords: 4.22\n",
      "Save blob masks: 8.72\n",
      "Save blob contours, save: 13.39\n",
      "Compute blob properties, save: 17.25\n",
      "Processing section: 266\n"
     ]
    },
    {
     "name": "stdout",
     "output_type": "stream",
     "text": [
      "cp /oasis/projects/nsf/csd395/yuncong/CSHL_data_processed/MD603/MD603_lossless_alignedTo_MD603-N60-2015.12.03-23.57.05_MD603_2_0179_cropped_compressed/MD603-IHC57-2015.12.03-17.30.32_MD603_1_0171_lossless_alignedTo_MD603-N60-2015.12.03-23.57.05_MD603_2_0179_cropped_compressed.jpg /home/yuncong/csd395/CSHL_cells_v2/detected_cells/MD603/MD603-IHC57-2015.12.03-17.30.32_MD603_1_0171/MD603-IHC57-2015.12.03-17.30.32_MD603_1_0171_image.jpg\n"
     ]
    },
    {
     "name": "stderr",
     "output_type": "stream",
     "text": [
      "Child returned 0\n",
      "Load mask: 14.78\n",
      "regionprops: 3.15\n",
      "71162 blobs identified.\n",
      "Save blob coords: 3.84\n",
      "Save blob masks: 7.83\n",
      "Save blob contours, save: 11.90\n",
      "Compute blob properties, save: 15.35\n",
      "Processing section: 267\n"
     ]
    },
    {
     "name": "stdout",
     "output_type": "stream",
     "text": [
      "cp /oasis/projects/nsf/csd395/yuncong/CSHL_data_processed/MD603/MD603_lossless_alignedTo_MD603-N60-2015.12.03-23.57.05_MD603_2_0179_cropped_compressed/MD603-N58-2015.12.03-23.47.19_MD603_3_0172_lossless_alignedTo_MD603-N60-2015.12.03-23.57.05_MD603_2_0179_cropped_compressed.jpg /home/yuncong/csd395/CSHL_cells_v2/detected_cells/MD603/MD603-N58-2015.12.03-23.47.19_MD603_3_0172/MD603-N58-2015.12.03-23.47.19_MD603_3_0172_image.jpg\n"
     ]
    },
    {
     "name": "stderr",
     "output_type": "stream",
     "text": [
      "Child returned 0\n",
      "Load mask: 14.93\n",
      "regionprops: 3.13\n",
      "79076 blobs identified.\n",
      "Save blob coords: 4.11\n",
      "Save blob masks: 8.61\n",
      "Save blob contours, save: 13.01\n",
      "Compute blob properties, save: 16.94\n",
      "Processing section: 268\n"
     ]
    },
    {
     "name": "stdout",
     "output_type": "stream",
     "text": [
      "cp /oasis/projects/nsf/csd395/yuncong/CSHL_data_processed/MD603/MD603_lossless_alignedTo_MD603-N60-2015.12.03-23.57.05_MD603_2_0179_cropped_compressed/MD603-IHC58-2016.03.02-16.08.03_MD603_1_0172_lossless_alignedTo_MD603-N60-2015.12.03-23.57.05_MD603_2_0179_cropped_compressed.jpg /home/yuncong/csd395/CSHL_cells_v2/detected_cells/MD603/MD603-IHC58-2016.03.02-16.08.03_MD603_1_0172/MD603-IHC58-2016.03.02-16.08.03_MD603_1_0172_image.jpg\n"
     ]
    },
    {
     "name": "stderr",
     "output_type": "stream",
     "text": [
      "Child returned 0\n",
      "Load mask: 14.82\n",
      "regionprops: 3.15\n",
      "86315 blobs identified.\n",
      "Save blob coords: 4.39\n",
      "Save blob masks: 9.16\n",
      "Save blob contours, save: 13.93\n",
      "Compute blob properties, save: 18.54\n",
      "Processing section: 269\n"
     ]
    },
    {
     "name": "stdout",
     "output_type": "stream",
     "text": [
      "cp /oasis/projects/nsf/csd395/yuncong/CSHL_data_processed/MD603/MD603_lossless_alignedTo_MD603-N60-2015.12.03-23.57.05_MD603_2_0179_cropped_compressed/MD603-N58-2015.12.03-23.47.19_MD603_2_0173_lossless_alignedTo_MD603-N60-2015.12.03-23.57.05_MD603_2_0179_cropped_compressed.jpg /home/yuncong/csd395/CSHL_cells_v2/detected_cells/MD603/MD603-N58-2015.12.03-23.47.19_MD603_2_0173/MD603-N58-2015.12.03-23.47.19_MD603_2_0173_image.jpg\n"
     ]
    },
    {
     "name": "stderr",
     "output_type": "stream",
     "text": [
      "Child returned 0\n",
      "Load mask: 14.81\n",
      "regionprops: 3.26\n",
      "83884 blobs identified.\n",
      "Save blob coords: 4.38\n",
      "Save blob masks: 9.06\n",
      "Save blob contours, save: 13.77\n",
      "Compute blob properties, save: 17.61\n",
      "Processing section: 270\n"
     ]
    },
    {
     "name": "stdout",
     "output_type": "stream",
     "text": [
      "cp /oasis/projects/nsf/csd395/yuncong/CSHL_data_processed/MD603/MD603_lossless_alignedTo_MD603-N60-2015.12.03-23.57.05_MD603_2_0179_cropped_compressed/MD603-IHC58-2016.03.02-16.08.03_MD603_2_0173_lossless_alignedTo_MD603-N60-2015.12.03-23.57.05_MD603_2_0179_cropped_compressed.jpg /home/yuncong/csd395/CSHL_cells_v2/detected_cells/MD603/MD603-IHC58-2016.03.02-16.08.03_MD603_2_0173/MD603-IHC58-2016.03.02-16.08.03_MD603_2_0173_image.jpg\n"
     ]
    },
    {
     "name": "stderr",
     "output_type": "stream",
     "text": [
      "Child returned 0\n",
      "Load mask: 14.84\n",
      "regionprops: 3.19\n",
      "87558 blobs identified.\n",
      "Save blob coords: 4.46\n",
      "Save blob masks: 9.27\n",
      "Save blob contours, save: 14.24\n",
      "Compute blob properties, save: 18.48\n",
      "Processing section: 271\n"
     ]
    },
    {
     "name": "stdout",
     "output_type": "stream",
     "text": [
      "cp /oasis/projects/nsf/csd395/yuncong/CSHL_data_processed/MD603/MD603_lossless_alignedTo_MD603-N60-2015.12.03-23.57.05_MD603_2_0179_cropped_compressed/MD603-N59-2015.12.03-23.52.01_MD603_3_0175_lossless_alignedTo_MD603-N60-2015.12.03-23.57.05_MD603_2_0179_cropped_compressed.jpg /home/yuncong/csd395/CSHL_cells_v2/detected_cells/MD603/MD603-N59-2015.12.03-23.52.01_MD603_3_0175/MD603-N59-2015.12.03-23.52.01_MD603_3_0175_image.jpg\n"
     ]
    },
    {
     "name": "stderr",
     "output_type": "stream",
     "text": [
      "Child returned 0\n",
      "Load mask: 14.81\n",
      "regionprops: 3.26\n",
      "82089 blobs identified.\n",
      "Save blob coords: 4.42\n",
      "Save blob masks: 9.03\n",
      "Save blob contours, save: 13.56\n",
      "Compute blob properties, save: 17.50\n",
      "Processing section: 272\n"
     ]
    },
    {
     "name": "stdout",
     "output_type": "stream",
     "text": [
      "cp /oasis/projects/nsf/csd395/yuncong/CSHL_data_processed/MD603/MD603_lossless_alignedTo_MD603-N60-2015.12.03-23.57.05_MD603_2_0179_cropped_compressed/MD603-IHC59-2015.12.03-17.39.43_MD603_3_0175_lossless_alignedTo_MD603-N60-2015.12.03-23.57.05_MD603_2_0179_cropped_compressed.jpg /home/yuncong/csd395/CSHL_cells_v2/detected_cells/MD603/MD603-IHC59-2015.12.03-17.39.43_MD603_3_0175/MD603-IHC59-2015.12.03-17.39.43_MD603_3_0175_image.jpg\n"
     ]
    },
    {
     "name": "stderr",
     "output_type": "stream",
     "text": [
      "Child returned 0\n",
      "Load mask: 14.91\n",
      "regionprops: 3.13\n",
      "68458 blobs identified.\n",
      "Save blob coords: 3.75\n",
      "Save blob masks: 7.55\n",
      "Save blob contours, save: 11.72\n",
      "Compute blob properties, save: 14.99\n",
      "Processing section: 273\n"
     ]
    },
    {
     "name": "stdout",
     "output_type": "stream",
     "text": [
      "cp /oasis/projects/nsf/csd395/yuncong/CSHL_data_processed/MD603/MD603_lossless_alignedTo_MD603-N60-2015.12.03-23.57.05_MD603_2_0179_cropped_compressed/MD603-N59-2015.12.03-23.52.01_MD603_2_0176_lossless_alignedTo_MD603-N60-2015.12.03-23.57.05_MD603_2_0179_cropped_compressed.jpg /home/yuncong/csd395/CSHL_cells_v2/detected_cells/MD603/MD603-N59-2015.12.03-23.52.01_MD603_2_0176/MD603-N59-2015.12.03-23.52.01_MD603_2_0176_image.jpg\n"
     ]
    },
    {
     "name": "stderr",
     "output_type": "stream",
     "text": [
      "Child returned 0\n",
      "Load mask: 14.95\n",
      "regionprops: 2.64\n",
      "84038 blobs identified.\n",
      "Save blob coords: 4.73\n",
      "Save blob masks: 9.50\n",
      "Save blob contours, save: 13.74\n",
      "Compute blob properties, save: 17.92\n",
      "Processing section: 275\n"
     ]
    },
    {
     "name": "stdout",
     "output_type": "stream",
     "text": [
      "cp /oasis/projects/nsf/csd395/yuncong/CSHL_data_processed/MD603/MD603_lossless_alignedTo_MD603-N60-2015.12.03-23.57.05_MD603_2_0179_cropped_compressed/MD603-N60-2015.12.03-23.57.05_MD603_2_0179_lossless_alignedTo_MD603-N60-2015.12.03-23.57.05_MD603_2_0179_cropped_compressed.jpg /home/yuncong/csd395/CSHL_cells_v2/detected_cells/MD603/MD603-N60-2015.12.03-23.57.05_MD603_2_0179/MD603-N60-2015.12.03-23.57.05_MD603_2_0179_image.jpg\n"
     ]
    },
    {
     "name": "stderr",
     "output_type": "stream",
     "text": [
      "Child returned 0\n",
      "Load mask: 14.83\n",
      "regionprops: 3.28\n",
      "78842 blobs identified.\n",
      "Save blob coords: 4.48\n",
      "Save blob masks: 8.71\n",
      "Save blob contours, save: 13.13\n",
      "Compute blob properties, save: 17.56\n",
      "Processing section: 276\n"
     ]
    },
    {
     "name": "stdout",
     "output_type": "stream",
     "text": [
      "cp /oasis/projects/nsf/csd395/yuncong/CSHL_data_processed/MD603/MD603_lossless_alignedTo_MD603-N60-2015.12.03-23.57.05_MD603_2_0179_cropped_compressed/MD603-IHC60-2015.12.03-17.44.42_MD603_3_0178_lossless_alignedTo_MD603-N60-2015.12.03-23.57.05_MD603_2_0179_cropped_compressed.jpg /home/yuncong/csd395/CSHL_cells_v2/detected_cells/MD603/MD603-IHC60-2015.12.03-17.44.42_MD603_3_0178/MD603-IHC60-2015.12.03-17.44.42_MD603_3_0178_image.jpg\n"
     ]
    },
    {
     "name": "stderr",
     "output_type": "stream",
     "text": [
      "Child returned 0\n",
      "Load mask: 14.85\n",
      "regionprops: 2.60\n",
      "62894 blobs identified.\n",
      "Save blob coords: 3.72\n",
      "Save blob masks: 7.03\n",
      "Save blob contours, save: 10.89\n",
      "Compute blob properties, save: 13.93\n",
      "Processing section: 277\n"
     ]
    },
    {
     "name": "stdout",
     "output_type": "stream",
     "text": [
      "cp /oasis/projects/nsf/csd395/yuncong/CSHL_data_processed/MD603/MD603_lossless_alignedTo_MD603-N60-2015.12.03-23.57.05_MD603_2_0179_cropped_compressed/MD603-N60-2015.12.03-23.57.05_MD603_1_0180_lossless_alignedTo_MD603-N60-2015.12.03-23.57.05_MD603_2_0179_cropped_compressed.jpg /home/yuncong/csd395/CSHL_cells_v2/detected_cells/MD603/MD603-N60-2015.12.03-23.57.05_MD603_1_0180/MD603-N60-2015.12.03-23.57.05_MD603_1_0180_image.jpg\n"
     ]
    },
    {
     "name": "stderr",
     "output_type": "stream",
     "text": [
      "Child returned 0\n",
      "Load mask: 14.67\n",
      "regionprops: 2.89\n",
      "82716 blobs identified.\n",
      "Save blob coords: 4.53\n",
      "Save blob masks: 9.29\n",
      "Save blob contours, save: 13.75\n",
      "Compute blob properties, save: 18.30\n",
      "Processing section: 278\n"
     ]
    },
    {
     "name": "stdout",
     "output_type": "stream",
     "text": [
      "cp /oasis/projects/nsf/csd395/yuncong/CSHL_data_processed/MD603/MD603_lossless_alignedTo_MD603-N60-2015.12.03-23.57.05_MD603_2_0179_cropped_compressed/MD603-IHC60-2015.12.03-17.44.42_MD603_1_0180_lossless_alignedTo_MD603-N60-2015.12.03-23.57.05_MD603_2_0179_cropped_compressed.jpg /home/yuncong/csd395/CSHL_cells_v2/detected_cells/MD603/MD603-IHC60-2015.12.03-17.44.42_MD603_1_0180/MD603-IHC60-2015.12.03-17.44.42_MD603_1_0180_image.jpg\n"
     ]
    },
    {
     "name": "stderr",
     "output_type": "stream",
     "text": [
      "Child returned 0\n",
      "Load mask: 14.83\n",
      "regionprops: 2.74\n",
      "85040 blobs identified.\n",
      "Save blob coords: 4.85\n",
      "Save blob masks: 9.43\n",
      "Save blob contours, save: 13.93\n",
      "Compute blob properties, save: 18.26\n",
      "Processing section: 279\n"
     ]
    },
    {
     "name": "stdout",
     "output_type": "stream",
     "text": [
      "cp /oasis/projects/nsf/csd395/yuncong/CSHL_data_processed/MD603/MD603_lossless_alignedTo_MD603-N60-2015.12.03-23.57.05_MD603_2_0179_cropped_compressed/MD603-N61-2016.03.02-13.45.45_MD603_1_0181_lossless_alignedTo_MD603-N60-2015.12.03-23.57.05_MD603_2_0179_cropped_compressed.jpg /home/yuncong/csd395/CSHL_cells_v2/detected_cells/MD603/MD603-N61-2016.03.02-13.45.45_MD603_1_0181/MD603-N61-2016.03.02-13.45.45_MD603_1_0181_image.jpg\n"
     ]
    },
    {
     "name": "stderr",
     "output_type": "stream",
     "text": [
      "Child returned 0\n",
      "Load mask: 14.99\n",
      "regionprops: 3.13\n",
      "77426 blobs identified.\n",
      "Save blob coords: 4.03\n",
      "Save blob masks: 8.37\n",
      "Save blob contours, save: 13.11\n",
      "Compute blob properties, save: 16.68\n",
      "Processing section: 280\n"
     ]
    },
    {
     "name": "stdout",
     "output_type": "stream",
     "text": [
      "cp /oasis/projects/nsf/csd395/yuncong/CSHL_data_processed/MD603/MD603_lossless_alignedTo_MD603-N60-2015.12.03-23.57.05_MD603_2_0179_cropped_compressed/MD603-IHC61-2015.12.03-17.49.00_MD603_3_0181_lossless_alignedTo_MD603-N60-2015.12.03-23.57.05_MD603_2_0179_cropped_compressed.jpg /home/yuncong/csd395/CSHL_cells_v2/detected_cells/MD603/MD603-IHC61-2015.12.03-17.49.00_MD603_3_0181/MD603-IHC61-2015.12.03-17.49.00_MD603_3_0181_image.jpg\n"
     ]
    },
    {
     "name": "stderr",
     "output_type": "stream",
     "text": [
      "Child returned 0\n",
      "Load mask: 14.80\n",
      "regionprops: 2.67\n",
      "79298 blobs identified.\n",
      "Save blob coords: 4.31\n",
      "Save blob masks: 8.77\n",
      "Save blob contours, save: 12.96\n",
      "Compute blob properties, save: 16.91\n",
      "Processing section: 281\n"
     ]
    },
    {
     "name": "stdout",
     "output_type": "stream",
     "text": [
      "cp /oasis/projects/nsf/csd395/yuncong/CSHL_data_processed/MD603/MD603_lossless_alignedTo_MD603-N60-2015.12.03-23.57.05_MD603_2_0179_cropped_compressed/MD603-N61-2016.03.02-13.45.45_MD603_2_0182_lossless_alignedTo_MD603-N60-2015.12.03-23.57.05_MD603_2_0179_cropped_compressed.jpg /home/yuncong/csd395/CSHL_cells_v2/detected_cells/MD603/MD603-N61-2016.03.02-13.45.45_MD603_2_0182/MD603-N61-2016.03.02-13.45.45_MD603_2_0182_image.jpg\n"
     ]
    },
    {
     "name": "stderr",
     "output_type": "stream",
     "text": [
      "Child returned 0\n",
      "Load mask: 15.02\n",
      "regionprops: 2.64\n",
      "83562 blobs identified.\n",
      "Save blob coords: 4.26\n",
      "Save blob masks: 8.98\n",
      "Save blob contours, save: 13.55\n",
      "Compute blob properties, save: 17.47\n",
      "Processing section: 282\n"
     ]
    },
    {
     "name": "stdout",
     "output_type": "stream",
     "text": [
      "cp /oasis/projects/nsf/csd395/yuncong/CSHL_data_processed/MD603/MD603_lossless_alignedTo_MD603-N60-2015.12.03-23.57.05_MD603_2_0179_cropped_compressed/MD603-IHC61-2015.12.03-17.49.00_MD603_2_0182_lossless_alignedTo_MD603-N60-2015.12.03-23.57.05_MD603_2_0179_cropped_compressed.jpg /home/yuncong/csd395/CSHL_cells_v2/detected_cells/MD603/MD603-IHC61-2015.12.03-17.49.00_MD603_2_0182/MD603-IHC61-2015.12.03-17.49.00_MD603_2_0182_image.jpg\n"
     ]
    },
    {
     "name": "stderr",
     "output_type": "stream",
     "text": [
      "Child returned 0\n",
      "Load mask: 14.76\n",
      "regionprops: 2.72\n",
      "70690 blobs identified.\n",
      "Save blob coords: 3.96\n",
      "Save blob masks: 7.61\n",
      "Save blob contours, save: 11.82\n",
      "Compute blob properties, save: 15.18\n",
      "Processing section: 283\n"
     ]
    },
    {
     "name": "stdout",
     "output_type": "stream",
     "text": [
      "cp /oasis/projects/nsf/csd395/yuncong/CSHL_data_processed/MD603/MD603_lossless_alignedTo_MD603-N60-2015.12.03-23.57.05_MD603_2_0179_cropped_compressed/MD603-N62-2015.12.04-00.06.14_MD603_3_0184_lossless_alignedTo_MD603-N60-2015.12.03-23.57.05_MD603_2_0179_cropped_compressed.jpg /home/yuncong/csd395/CSHL_cells_v2/detected_cells/MD603/MD603-N62-2015.12.04-00.06.14_MD603_3_0184/MD603-N62-2015.12.04-00.06.14_MD603_3_0184_image.jpg\n"
     ]
    },
    {
     "name": "stderr",
     "output_type": "stream",
     "text": [
      "Child returned 0\n",
      "Load mask: 15.00\n",
      "regionprops: 2.73\n",
      "83537 blobs identified.\n",
      "Save blob coords: 4.50\n",
      "Save blob masks: 9.22\n",
      "Save blob contours, save: 13.70\n",
      "Compute blob properties, save: 18.15\n",
      "Processing section: 284\n"
     ]
    },
    {
     "name": "stdout",
     "output_type": "stream",
     "text": [
      "cp /oasis/projects/nsf/csd395/yuncong/CSHL_data_processed/MD603/MD603_lossless_alignedTo_MD603-N60-2015.12.03-23.57.05_MD603_2_0179_cropped_compressed/MD603-IHC62-2016.03.02-16.13.32_MD603_1_0184_lossless_alignedTo_MD603-N60-2015.12.03-23.57.05_MD603_2_0179_cropped_compressed.jpg /home/yuncong/csd395/CSHL_cells_v2/detected_cells/MD603/MD603-IHC62-2016.03.02-16.13.32_MD603_1_0184/MD603-IHC62-2016.03.02-16.13.32_MD603_1_0184_image.jpg\n"
     ]
    },
    {
     "name": "stderr",
     "output_type": "stream",
     "text": [
      "Child returned 0\n",
      "Load mask: 14.83\n",
      "regionprops: 2.81\n",
      "87878 blobs identified.\n",
      "Save blob coords: 4.38\n",
      "Save blob masks: 9.56\n",
      "Save blob contours, save: 14.04\n",
      "Compute blob properties, save: 18.45\n",
      "Processing section: 285\n"
     ]
    },
    {
     "name": "stdout",
     "output_type": "stream",
     "text": [
      "cp /oasis/projects/nsf/csd395/yuncong/CSHL_data_processed/MD603/MD603_lossless_alignedTo_MD603-N60-2015.12.03-23.57.05_MD603_2_0179_cropped_compressed/MD603-N62-2015.12.04-00.06.14_MD603_1_0186_lossless_alignedTo_MD603-N60-2015.12.03-23.57.05_MD603_2_0179_cropped_compressed.jpg /home/yuncong/csd395/CSHL_cells_v2/detected_cells/MD603/MD603-N62-2015.12.04-00.06.14_MD603_1_0186/MD603-N62-2015.12.04-00.06.14_MD603_1_0186_image.jpg\n"
     ]
    },
    {
     "name": "stderr",
     "output_type": "stream",
     "text": [
      "Child returned 0\n",
      "Load mask: 14.83\n",
      "regionprops: 3.22\n",
      "84100 blobs identified.\n",
      "Save blob coords: 4.67\n",
      "Save blob masks: 8.92\n",
      "Save blob contours, save: 13.89\n",
      "Compute blob properties, save: 18.30\n",
      "Processing section: 286\n"
     ]
    },
    {
     "name": "stdout",
     "output_type": "stream",
     "text": [
      "cp /oasis/projects/nsf/csd395/yuncong/CSHL_data_processed/MD603/MD603_lossless_alignedTo_MD603-N60-2015.12.03-23.57.05_MD603_2_0179_cropped_compressed/MD603-IHC62-2016.03.02-16.13.32_MD603_2_0185_lossless_alignedTo_MD603-N60-2015.12.03-23.57.05_MD603_2_0179_cropped_compressed.jpg /home/yuncong/csd395/CSHL_cells_v2/detected_cells/MD603/MD603-IHC62-2016.03.02-16.13.32_MD603_2_0185/MD603-IHC62-2016.03.02-16.13.32_MD603_2_0185_image.jpg\n"
     ]
    },
    {
     "name": "stderr",
     "output_type": "stream",
     "text": [
      "Child returned 0\n",
      "Load mask: 14.77\n",
      "regionprops: 2.74\n",
      "87079 blobs identified.\n",
      "Save blob coords: 4.39\n",
      "Save blob masks: 9.41\n",
      "Save blob contours, save: 14.45\n",
      "Compute blob properties, save: 17.92\n",
      "Processing section: 287\n"
     ]
    },
    {
     "name": "stdout",
     "output_type": "stream",
     "text": [
      "cp /oasis/projects/nsf/csd395/yuncong/CSHL_data_processed/MD603/MD603_lossless_alignedTo_MD603-N60-2015.12.03-23.57.05_MD603_2_0179_cropped_compressed/MD603-N63-2016.03.02-13.50.44_MD603_1_0187_lossless_alignedTo_MD603-N60-2015.12.03-23.57.05_MD603_2_0179_cropped_compressed.jpg /home/yuncong/csd395/CSHL_cells_v2/detected_cells/MD603/MD603-N63-2016.03.02-13.50.44_MD603_1_0187/MD603-N63-2016.03.02-13.50.44_MD603_1_0187_image.jpg\n"
     ]
    },
    {
     "name": "stderr",
     "output_type": "stream",
     "text": [
      "Child returned 0\n",
      "Load mask: 14.88\n",
      "regionprops: 3.29\n",
      "80586 blobs identified.\n",
      "Save blob coords: 4.41\n",
      "Save blob masks: 8.71\n",
      "Save blob contours, save: 13.37\n",
      "Compute blob properties, save: 17.25\n",
      "Processing section: 288\n"
     ]
    },
    {
     "name": "stdout",
     "output_type": "stream",
     "text": [
      "cp /oasis/projects/nsf/csd395/yuncong/CSHL_data_processed/MD603/MD603_lossless_alignedTo_MD603-N60-2015.12.03-23.57.05_MD603_2_0179_cropped_compressed/MD603-IHC63-2015.12.03-17.57.53_MD603_3_0187_lossless_alignedTo_MD603-N60-2015.12.03-23.57.05_MD603_2_0179_cropped_compressed.jpg /home/yuncong/csd395/CSHL_cells_v2/detected_cells/MD603/MD603-IHC63-2015.12.03-17.57.53_MD603_3_0187/MD603-IHC63-2015.12.03-17.57.53_MD603_3_0187_image.jpg\n"
     ]
    },
    {
     "name": "stderr",
     "output_type": "stream",
     "text": [
      "Child returned 0\n",
      "Load mask: 14.82\n",
      "regionprops: 3.22\n",
      "86620 blobs identified.\n",
      "Save blob coords: 4.62\n",
      "Save blob masks: 9.38\n",
      "Save blob contours, save: 14.04\n",
      "Compute blob properties, save: 18.27\n",
      "Processing section: 289\n"
     ]
    },
    {
     "name": "stdout",
     "output_type": "stream",
     "text": [
      "cp /oasis/projects/nsf/csd395/yuncong/CSHL_data_processed/MD603/MD603_lossless_alignedTo_MD603-N60-2015.12.03-23.57.05_MD603_2_0179_cropped_compressed/MD603-N63-2016.03.02-13.50.44_MD603_2_0188_lossless_alignedTo_MD603-N60-2015.12.03-23.57.05_MD603_2_0179_cropped_compressed.jpg /home/yuncong/csd395/CSHL_cells_v2/detected_cells/MD603/MD603-N63-2016.03.02-13.50.44_MD603_2_0188/MD603-N63-2016.03.02-13.50.44_MD603_2_0188_image.jpg\n"
     ]
    },
    {
     "name": "stderr",
     "output_type": "stream",
     "text": [
      "Child returned 0\n",
      "Load mask: 14.85\n",
      "regionprops: 3.31\n",
      "86978 blobs identified.\n",
      "Save blob coords: 4.55\n",
      "Save blob masks: 9.25\n",
      "Save blob contours, save: 14.06\n",
      "Compute blob properties, save: 18.74\n",
      "Processing section: 290\n"
     ]
    },
    {
     "name": "stdout",
     "output_type": "stream",
     "text": [
      "cp /oasis/projects/nsf/csd395/yuncong/CSHL_data_processed/MD603/MD603_lossless_alignedTo_MD603-N60-2015.12.03-23.57.05_MD603_2_0179_cropped_compressed/MD603-IHC63-2015.12.03-17.57.53_MD603_1_0189_lossless_alignedTo_MD603-N60-2015.12.03-23.57.05_MD603_2_0179_cropped_compressed.jpg /home/yuncong/csd395/CSHL_cells_v2/detected_cells/MD603/MD603-IHC63-2015.12.03-17.57.53_MD603_1_0189/MD603-IHC63-2015.12.03-17.57.53_MD603_1_0189_image.jpg\n"
     ]
    },
    {
     "name": "stderr",
     "output_type": "stream",
     "text": [
      "Child returned 0\n",
      "Load mask: 14.81\n",
      "regionprops: 2.75\n",
      "73711 blobs identified.\n",
      "Save blob coords: 3.95\n",
      "Save blob masks: 8.22\n",
      "Save blob contours, save: 12.18\n",
      "Compute blob properties, save: 15.56\n",
      "Processing section: 291\n"
     ]
    },
    {
     "name": "stdout",
     "output_type": "stream",
     "text": [
      "cp /oasis/projects/nsf/csd395/yuncong/CSHL_data_processed/MD603/MD603_lossless_alignedTo_MD603-N60-2015.12.03-23.57.05_MD603_2_0179_cropped_compressed/MD603-N64-2016.03.02-13.55.47_MD603_1_0190_lossless_alignedTo_MD603-N60-2015.12.03-23.57.05_MD603_2_0179_cropped_compressed.jpg /home/yuncong/csd395/CSHL_cells_v2/detected_cells/MD603/MD603-N64-2016.03.02-13.55.47_MD603_1_0190/MD603-N64-2016.03.02-13.55.47_MD603_1_0190_image.jpg\n"
     ]
    },
    {
     "name": "stderr",
     "output_type": "stream",
     "text": [
      "Child returned 0\n",
      "Load mask: 14.83\n",
      "regionprops: 3.11\n",
      "86138 blobs identified.\n",
      "Save blob coords: 4.47\n",
      "Save blob masks: 9.15\n",
      "Save blob contours, save: 14.16\n",
      "Compute blob properties, save: 18.03\n",
      "Processing section: 292\n"
     ]
    },
    {
     "name": "stdout",
     "output_type": "stream",
     "text": [
      "cp /oasis/projects/nsf/csd395/yuncong/CSHL_data_processed/MD603/MD603_lossless_alignedTo_MD603-N60-2015.12.03-23.57.05_MD603_2_0179_cropped_compressed/MD603-IHC64-2016.03.02-16.18.49_MD603_1_0190_lossless_alignedTo_MD603-N60-2015.12.03-23.57.05_MD603_2_0179_cropped_compressed.jpg /home/yuncong/csd395/CSHL_cells_v2/detected_cells/MD603/MD603-IHC64-2016.03.02-16.18.49_MD603_1_0190/MD603-IHC64-2016.03.02-16.18.49_MD603_1_0190_image.jpg\n"
     ]
    },
    {
     "name": "stderr",
     "output_type": "stream",
     "text": [
      "Child returned 0\n",
      "Load mask: 14.84\n",
      "regionprops: 3.26\n",
      "84435 blobs identified.\n",
      "Save blob coords: 4.25\n",
      "Save blob masks: 8.84\n",
      "Save blob contours, save: 13.70\n",
      "Compute blob properties, save: 17.76\n",
      "Processing section: 293\n"
     ]
    },
    {
     "name": "stdout",
     "output_type": "stream",
     "text": [
      "cp /oasis/projects/nsf/csd395/yuncong/CSHL_data_processed/MD603/MD603_lossless_alignedTo_MD603-N60-2015.12.03-23.57.05_MD603_2_0179_cropped_compressed/MD603-N64-2016.03.02-13.55.47_MD603_2_0191_lossless_alignedTo_MD603-N60-2015.12.03-23.57.05_MD603_2_0179_cropped_compressed.jpg /home/yuncong/csd395/CSHL_cells_v2/detected_cells/MD603/MD603-N64-2016.03.02-13.55.47_MD603_2_0191/MD603-N64-2016.03.02-13.55.47_MD603_2_0191_image.jpg\n"
     ]
    },
    {
     "name": "stderr",
     "output_type": "stream",
     "text": [
      "Child returned 0\n",
      "Load mask: 14.79\n",
      "regionprops: 3.26\n",
      "85967 blobs identified.\n",
      "Save blob coords: 4.83\n",
      "Save blob masks: 9.29\n",
      "Save blob contours, save: 14.11\n",
      "Compute blob properties, save: 18.09\n",
      "Processing section: 294\n"
     ]
    },
    {
     "name": "stdout",
     "output_type": "stream",
     "text": [
      "cp /oasis/projects/nsf/csd395/yuncong/CSHL_data_processed/MD603/MD603_lossless_alignedTo_MD603-N60-2015.12.03-23.57.05_MD603_2_0179_cropped_compressed/MD603-IHC64-2016.03.02-16.18.49_MD603_2_0191_lossless_alignedTo_MD603-N60-2015.12.03-23.57.05_MD603_2_0179_cropped_compressed.jpg /home/yuncong/csd395/CSHL_cells_v2/detected_cells/MD603/MD603-IHC64-2016.03.02-16.18.49_MD603_2_0191/MD603-IHC64-2016.03.02-16.18.49_MD603_2_0191_image.jpg\n"
     ]
    },
    {
     "name": "stderr",
     "output_type": "stream",
     "text": [
      "Child returned 0\n",
      "Load mask: 15.03\n",
      "regionprops: 3.14\n",
      "84242 blobs identified.\n",
      "Save blob coords: 4.28\n",
      "Save blob masks: 8.91\n",
      "Save blob contours, save: 13.92\n",
      "Compute blob properties, save: 17.60\n",
      "Processing section: 295\n"
     ]
    },
    {
     "name": "stdout",
     "output_type": "stream",
     "text": [
      "cp /oasis/projects/nsf/csd395/yuncong/CSHL_data_processed/MD603/MD603_lossless_alignedTo_MD603-N60-2015.12.03-23.57.05_MD603_2_0179_cropped_compressed/MD603-N65-2016.03.02-14.00.53_MD603_1_0193_lossless_alignedTo_MD603-N60-2015.12.03-23.57.05_MD603_2_0179_cropped_compressed.jpg /home/yuncong/csd395/CSHL_cells_v2/detected_cells/MD603/MD603-N65-2016.03.02-14.00.53_MD603_1_0193/MD603-N65-2016.03.02-14.00.53_MD603_1_0193_image.jpg\n"
     ]
    },
    {
     "name": "stderr",
     "output_type": "stream",
     "text": [
      "Child returned 0\n",
      "Load mask: 14.81\n",
      "regionprops: 3.20\n",
      "81803 blobs identified.\n",
      "Save blob coords: 4.24\n",
      "Save blob masks: 8.75\n",
      "Save blob contours, save: 13.48\n",
      "Compute blob properties, save: 17.40\n",
      "Processing section: 296\n"
     ]
    },
    {
     "name": "stdout",
     "output_type": "stream",
     "text": [
      "cp /oasis/projects/nsf/csd395/yuncong/CSHL_data_processed/MD603/MD603_lossless_alignedTo_MD603-N60-2015.12.03-23.57.05_MD603_2_0179_cropped_compressed/MD603-IHC65-2016.03.02-16.23.57_MD603_1_0193_lossless_alignedTo_MD603-N60-2015.12.03-23.57.05_MD603_2_0179_cropped_compressed.jpg /home/yuncong/csd395/CSHL_cells_v2/detected_cells/MD603/MD603-IHC65-2016.03.02-16.23.57_MD603_1_0193/MD603-IHC65-2016.03.02-16.23.57_MD603_1_0193_image.jpg\n"
     ]
    },
    {
     "name": "stderr",
     "output_type": "stream",
     "text": [
      "Child returned 0\n",
      "Load mask: 14.82\n",
      "regionprops: 3.22\n",
      "84604 blobs identified.\n",
      "Save blob coords: 4.26\n",
      "Save blob masks: 9.06\n",
      "Save blob contours, save: 13.89\n",
      "Compute blob properties, save: 18.03\n",
      "Processing section: 297\n"
     ]
    },
    {
     "name": "stdout",
     "output_type": "stream",
     "text": [
      "cp /oasis/projects/nsf/csd395/yuncong/CSHL_data_processed/MD603/MD603_lossless_alignedTo_MD603-N60-2015.12.03-23.57.05_MD603_2_0179_cropped_compressed/MD603-N65-2016.03.02-14.00.53_MD603_2_0194_lossless_alignedTo_MD603-N60-2015.12.03-23.57.05_MD603_2_0179_cropped_compressed.jpg /home/yuncong/csd395/CSHL_cells_v2/detected_cells/MD603/MD603-N65-2016.03.02-14.00.53_MD603_2_0194/MD603-N65-2016.03.02-14.00.53_MD603_2_0194_image.jpg\n"
     ]
    },
    {
     "name": "stderr",
     "output_type": "stream",
     "text": [
      "Child returned 0\n",
      "Load mask: 14.81\n",
      "regionprops: 2.78\n",
      "80907 blobs identified.\n",
      "Save blob coords: 4.17\n",
      "Save blob masks: 8.79\n",
      "Save blob contours, save: 13.20\n",
      "Compute blob properties, save: 17.44\n",
      "Processing section: 298\n"
     ]
    },
    {
     "name": "stdout",
     "output_type": "stream",
     "text": [
      "cp /oasis/projects/nsf/csd395/yuncong/CSHL_data_processed/MD603/MD603_lossless_alignedTo_MD603-N60-2015.12.03-23.57.05_MD603_2_0179_cropped_compressed/MD603-IHC65-2016.03.02-16.23.57_MD603_2_0194_lossless_alignedTo_MD603-N60-2015.12.03-23.57.05_MD603_2_0179_cropped_compressed.jpg /home/yuncong/csd395/CSHL_cells_v2/detected_cells/MD603/MD603-IHC65-2016.03.02-16.23.57_MD603_2_0194/MD603-IHC65-2016.03.02-16.23.57_MD603_2_0194_image.jpg\n"
     ]
    },
    {
     "name": "stderr",
     "output_type": "stream",
     "text": [
      "Child returned 0\n",
      "Load mask: 14.82\n",
      "regionprops: 2.73\n",
      "83300 blobs identified.\n",
      "Save blob coords: 4.32\n",
      "Save blob masks: 8.97\n",
      "Save blob contours, save: 13.71\n",
      "Compute blob properties, save: 17.76\n",
      "Processing section: 299\n"
     ]
    },
    {
     "name": "stdout",
     "output_type": "stream",
     "text": [
      "cp /oasis/projects/nsf/csd395/yuncong/CSHL_data_processed/MD603/MD603_lossless_alignedTo_MD603-N60-2015.12.03-23.57.05_MD603_2_0179_cropped_compressed/MD603-N66-2016.03.02-14.06.12_MD603_1_0196_lossless_alignedTo_MD603-N60-2015.12.03-23.57.05_MD603_2_0179_cropped_compressed.jpg /home/yuncong/csd395/CSHL_cells_v2/detected_cells/MD603/MD603-N66-2016.03.02-14.06.12_MD603_1_0196/MD603-N66-2016.03.02-14.06.12_MD603_1_0196_image.jpg\n"
     ]
    },
    {
     "name": "stderr",
     "output_type": "stream",
     "text": [
      "Child returned 0\n",
      "Load mask: 15.01\n",
      "regionprops: 2.70\n",
      "82365 blobs identified.\n",
      "Save blob coords: 4.32\n",
      "Save blob masks: 8.98\n",
      "Save blob contours, save: 13.56\n",
      "Compute blob properties, save: 17.40\n",
      "Processing section: 300\n"
     ]
    },
    {
     "name": "stdout",
     "output_type": "stream",
     "text": [
      "cp /oasis/projects/nsf/csd395/yuncong/CSHL_data_processed/MD603/MD603_lossless_alignedTo_MD603-N60-2015.12.03-23.57.05_MD603_2_0179_cropped_compressed/MD603-IHC66-2015.12.03-18.11.47_MD603_3_0196_lossless_alignedTo_MD603-N60-2015.12.03-23.57.05_MD603_2_0179_cropped_compressed.jpg /home/yuncong/csd395/CSHL_cells_v2/detected_cells/MD603/MD603-IHC66-2015.12.03-18.11.47_MD603_3_0196/MD603-IHC66-2015.12.03-18.11.47_MD603_3_0196_image.jpg\n"
     ]
    },
    {
     "name": "stderr",
     "output_type": "stream",
     "text": [
      "Child returned 0\n",
      "Load mask: 14.80\n",
      "regionprops: 3.14\n",
      "69848 blobs identified.\n",
      "Save blob coords: 3.85\n",
      "Save blob masks: 7.61\n",
      "Save blob contours, save: 11.79\n",
      "Compute blob properties, save: 15.11\n",
      "Processing section: 301\n"
     ]
    },
    {
     "name": "stdout",
     "output_type": "stream",
     "text": [
      "cp /oasis/projects/nsf/csd395/yuncong/CSHL_data_processed/MD603/MD603_lossless_alignedTo_MD603-N60-2015.12.03-23.57.05_MD603_2_0179_cropped_compressed/MD603-N66-2016.03.02-14.06.12_MD603_2_0197_lossless_alignedTo_MD603-N60-2015.12.03-23.57.05_MD603_2_0179_cropped_compressed.jpg /home/yuncong/csd395/CSHL_cells_v2/detected_cells/MD603/MD603-N66-2016.03.02-14.06.12_MD603_2_0197/MD603-N66-2016.03.02-14.06.12_MD603_2_0197_image.jpg\n"
     ]
    },
    {
     "name": "stderr",
     "output_type": "stream",
     "text": [
      "Child returned 0\n",
      "Load mask: 14.86\n",
      "regionprops: 3.04\n",
      "79677 blobs identified.\n",
      "Save blob coords: 4.30\n",
      "Save blob masks: 8.59\n",
      "Save blob contours, save: 13.31\n",
      "Compute blob properties, save: 17.25\n",
      "Processing section: 302\n"
     ]
    },
    {
     "name": "stdout",
     "output_type": "stream",
     "text": [
      "cp /oasis/projects/nsf/csd395/yuncong/CSHL_data_processed/MD603/MD603_lossless_alignedTo_MD603-N60-2015.12.03-23.57.05_MD603_2_0179_cropped_compressed/MD603-IHC66-2015.12.03-18.11.47_MD603_1_0198_lossless_alignedTo_MD603-N60-2015.12.03-23.57.05_MD603_2_0179_cropped_compressed.jpg /home/yuncong/csd395/CSHL_cells_v2/detected_cells/MD603/MD603-IHC66-2015.12.03-18.11.47_MD603_1_0198/MD603-IHC66-2015.12.03-18.11.47_MD603_1_0198_image.jpg\n"
     ]
    },
    {
     "name": "stderr",
     "output_type": "stream",
     "text": [
      "Child returned 0\n",
      "Load mask: 14.96\n",
      "regionprops: 2.76\n",
      "71076 blobs identified.\n",
      "Save blob coords: 3.79\n",
      "Save blob masks: 7.94\n",
      "Save blob contours, save: 11.84\n",
      "Compute blob properties, save: 15.15\n",
      "Processing section: 303\n"
     ]
    },
    {
     "name": "stdout",
     "output_type": "stream",
     "text": [
      "cp /oasis/projects/nsf/csd395/yuncong/CSHL_data_processed/MD603/MD603_lossless_alignedTo_MD603-N60-2015.12.03-23.57.05_MD603_2_0179_cropped_compressed/MD603-N67-2015.12.04-00.29.41_MD603_3_0199_lossless_alignedTo_MD603-N60-2015.12.03-23.57.05_MD603_2_0179_cropped_compressed.jpg /home/yuncong/csd395/CSHL_cells_v2/detected_cells/MD603/MD603-N67-2015.12.04-00.29.41_MD603_3_0199/MD603-N67-2015.12.04-00.29.41_MD603_3_0199_image.jpg\n"
     ]
    },
    {
     "name": "stderr",
     "output_type": "stream",
     "text": [
      "Child returned 0\n",
      "Load mask: 14.82\n",
      "regionprops: 3.11\n",
      "79986 blobs identified.\n",
      "Save blob coords: 4.50\n",
      "Save blob masks: 8.86\n",
      "Save blob contours, save: 13.55\n",
      "Compute blob properties, save: 17.32\n",
      "Processing section: 304\n"
     ]
    },
    {
     "name": "stdout",
     "output_type": "stream",
     "text": [
      "cp /oasis/projects/nsf/csd395/yuncong/CSHL_data_processed/MD603/MD603_lossless_alignedTo_MD603-N60-2015.12.03-23.57.05_MD603_2_0179_cropped_compressed/MD603-IHC67-2015.12.03-18.16.43_MD603_3_0199_lossless_alignedTo_MD603-N60-2015.12.03-23.57.05_MD603_2_0179_cropped_compressed.jpg /home/yuncong/csd395/CSHL_cells_v2/detected_cells/MD603/MD603-IHC67-2015.12.03-18.16.43_MD603_3_0199/MD603-IHC67-2015.12.03-18.16.43_MD603_3_0199_image.jpg\n"
     ]
    },
    {
     "name": "stderr",
     "output_type": "stream",
     "text": [
      "Child returned 0\n",
      "Load mask: 14.84\n",
      "regionprops: 3.16\n",
      "77634 blobs identified.\n",
      "Save blob coords: 4.21\n",
      "Save blob masks: 8.42\n",
      "Save blob contours, save: 12.86\n",
      "Compute blob properties, save: 16.75\n",
      "Processing section: 305\n"
     ]
    },
    {
     "name": "stdout",
     "output_type": "stream",
     "text": [
      "cp /oasis/projects/nsf/csd395/yuncong/CSHL_data_processed/MD603/MD603_lossless_alignedTo_MD603-N60-2015.12.03-23.57.05_MD603_2_0179_cropped_compressed/MD603-N67-2015.12.04-00.29.41_MD603_2_0200_lossless_alignedTo_MD603-N60-2015.12.03-23.57.05_MD603_2_0179_cropped_compressed.jpg /home/yuncong/csd395/CSHL_cells_v2/detected_cells/MD603/MD603-N67-2015.12.04-00.29.41_MD603_2_0200/MD603-N67-2015.12.04-00.29.41_MD603_2_0200_image.jpg\n"
     ]
    },
    {
     "name": "stderr",
     "output_type": "stream",
     "text": [
      "Child returned 0\n",
      "Load mask: 15.09\n",
      "regionprops: 2.68\n",
      "80599 blobs identified.\n",
      "Save blob coords: 4.45\n",
      "Save blob masks: 9.04\n",
      "Save blob contours, save: 13.27\n",
      "Compute blob properties, save: 17.54\n",
      "Processing section: 306\n"
     ]
    },
    {
     "name": "stdout",
     "output_type": "stream",
     "text": [
      "cp /oasis/projects/nsf/csd395/yuncong/CSHL_data_processed/MD603/MD603_lossless_alignedTo_MD603-N60-2015.12.03-23.57.05_MD603_2_0179_cropped_compressed/MD603-IHC67-2015.12.03-18.16.43_MD603_1_0201_lossless_alignedTo_MD603-N60-2015.12.03-23.57.05_MD603_2_0179_cropped_compressed.jpg /home/yuncong/csd395/CSHL_cells_v2/detected_cells/MD603/MD603-IHC67-2015.12.03-18.16.43_MD603_1_0201/MD603-IHC67-2015.12.03-18.16.43_MD603_1_0201_image.jpg\n"
     ]
    },
    {
     "name": "stderr",
     "output_type": "stream",
     "text": [
      "Child returned 0\n",
      "Load mask: 14.80\n",
      "regionprops: 3.11\n",
      "70075 blobs identified.\n",
      "Save blob coords: 3.73\n",
      "Save blob masks: 7.56\n",
      "Save blob contours, save: 11.94\n",
      "Compute blob properties, save: 14.89\n",
      "Processing section: 307\n"
     ]
    },
    {
     "name": "stdout",
     "output_type": "stream",
     "text": [
      "cp /oasis/projects/nsf/csd395/yuncong/CSHL_data_processed/MD603/MD603_lossless_alignedTo_MD603-N60-2015.12.03-23.57.05_MD603_2_0179_cropped_compressed/MD603-N68-2016.03.02-14.11.08_MD603_1_0202_lossless_alignedTo_MD603-N60-2015.12.03-23.57.05_MD603_2_0179_cropped_compressed.jpg /home/yuncong/csd395/CSHL_cells_v2/detected_cells/MD603/MD603-N68-2016.03.02-14.11.08_MD603_1_0202/MD603-N68-2016.03.02-14.11.08_MD603_1_0202_image.jpg\n"
     ]
    },
    {
     "name": "stderr",
     "output_type": "stream",
     "text": [
      "Child returned 0\n",
      "Load mask: 14.85\n",
      "regionprops: 3.07\n",
      "80935 blobs identified.\n",
      "Save blob coords: 4.46\n",
      "Save blob masks: 8.92\n",
      "Save blob contours, save: 13.74\n",
      "Compute blob properties, save: 17.56\n",
      "Processing section: 308\n"
     ]
    },
    {
     "name": "stdout",
     "output_type": "stream",
     "text": [
      "cp /oasis/projects/nsf/csd395/yuncong/CSHL_data_processed/MD603/MD603_lossless_alignedTo_MD603-N60-2015.12.03-23.57.05_MD603_2_0179_cropped_compressed/MD603-IHC68-2016.03.02-16.29.09_MD603_1_0202_lossless_alignedTo_MD603-N60-2015.12.03-23.57.05_MD603_2_0179_cropped_compressed.jpg /home/yuncong/csd395/CSHL_cells_v2/detected_cells/MD603/MD603-IHC68-2016.03.02-16.29.09_MD603_1_0202/MD603-IHC68-2016.03.02-16.29.09_MD603_1_0202_image.jpg\n"
     ]
    },
    {
     "name": "stderr",
     "output_type": "stream",
     "text": [
      "Child returned 0\n",
      "Load mask: 15.01\n",
      "regionprops: 2.74\n",
      "72522 blobs identified.\n",
      "Save blob coords: 3.67\n",
      "Save blob masks: 7.83\n",
      "Save blob contours, save: 12.12\n",
      "Compute blob properties, save: 15.12\n",
      "Processing section: 309\n"
     ]
    },
    {
     "name": "stdout",
     "output_type": "stream",
     "text": [
      "cp /oasis/projects/nsf/csd395/yuncong/CSHL_data_processed/MD603/MD603_lossless_alignedTo_MD603-N60-2015.12.03-23.57.05_MD603_2_0179_cropped_compressed/MD603-N68-2016.03.02-14.11.08_MD603_2_0203_lossless_alignedTo_MD603-N60-2015.12.03-23.57.05_MD603_2_0179_cropped_compressed.jpg /home/yuncong/csd395/CSHL_cells_v2/detected_cells/MD603/MD603-N68-2016.03.02-14.11.08_MD603_2_0203/MD603-N68-2016.03.02-14.11.08_MD603_2_0203_image.jpg\n"
     ]
    },
    {
     "name": "stderr",
     "output_type": "stream",
     "text": [
      "Child returned 0\n",
      "Load mask: 14.84\n",
      "regionprops: 3.12\n",
      "73598 blobs identified.\n",
      "Save blob coords: 3.78\n",
      "Save blob masks: 7.80\n",
      "Save blob contours, save: 12.51\n",
      "Compute blob properties, save: 15.45\n",
      "Processing section: 310\n"
     ]
    },
    {
     "name": "stdout",
     "output_type": "stream",
     "text": [
      "cp /oasis/projects/nsf/csd395/yuncong/CSHL_data_processed/MD603/MD603_lossless_alignedTo_MD603-N60-2015.12.03-23.57.05_MD603_2_0179_cropped_compressed/MD603-IHC68-2016.03.02-16.29.09_MD603_2_0203_lossless_alignedTo_MD603-N60-2015.12.03-23.57.05_MD603_2_0179_cropped_compressed.jpg /home/yuncong/csd395/CSHL_cells_v2/detected_cells/MD603/MD603-IHC68-2016.03.02-16.29.09_MD603_2_0203/MD603-IHC68-2016.03.02-16.29.09_MD603_2_0203_image.jpg\n"
     ]
    },
    {
     "name": "stderr",
     "output_type": "stream",
     "text": [
      "Child returned 0\n",
      "Load mask: 14.84\n",
      "regionprops: 3.05\n",
      "73600 blobs identified.\n",
      "Save blob coords: 3.68\n",
      "Save blob masks: 7.74\n",
      "Save blob contours, save: 12.31\n",
      "Compute blob properties, save: 15.45\n",
      "Processing section: 311\n"
     ]
    },
    {
     "name": "stdout",
     "output_type": "stream",
     "text": [
      "cp /oasis/projects/nsf/csd395/yuncong/CSHL_data_processed/MD603/MD603_lossless_alignedTo_MD603-N60-2015.12.03-23.57.05_MD603_2_0179_cropped_compressed/MD603-N69-2015.12.04-00.39.36_MD603_3_0205_lossless_alignedTo_MD603-N60-2015.12.03-23.57.05_MD603_2_0179_cropped_compressed.jpg /home/yuncong/csd395/CSHL_cells_v2/detected_cells/MD603/MD603-N69-2015.12.04-00.39.36_MD603_3_0205/MD603-N69-2015.12.04-00.39.36_MD603_3_0205_image.jpg\n"
     ]
    },
    {
     "name": "stderr",
     "output_type": "stream",
     "text": [
      "Child returned 0\n",
      "Load mask: 14.80\n",
      "regionprops: 2.68\n",
      "64959 blobs identified.\n",
      "Save blob coords: 3.96\n",
      "Save blob masks: 7.47\n",
      "Save blob contours, save: 10.96\n",
      "Compute blob properties, save: 14.55\n",
      "Processing section: 312\n"
     ]
    },
    {
     "name": "stdout",
     "output_type": "stream",
     "text": [
      "cp /oasis/projects/nsf/csd395/yuncong/CSHL_data_processed/MD603/MD603_lossless_alignedTo_MD603-N60-2015.12.03-23.57.05_MD603_2_0179_cropped_compressed/MD603-IHC69-2015.12.03-18.26.24_MD603_3_0205_lossless_alignedTo_MD603-N60-2015.12.03-23.57.05_MD603_2_0179_cropped_compressed.jpg /home/yuncong/csd395/CSHL_cells_v2/detected_cells/MD603/MD603-IHC69-2015.12.03-18.26.24_MD603_3_0205/MD603-IHC69-2015.12.03-18.26.24_MD603_3_0205_image.jpg\n"
     ]
    },
    {
     "name": "stderr",
     "output_type": "stream",
     "text": [
      "Child returned 0\n",
      "Load mask: 14.90\n",
      "regionprops: 2.56\n",
      "66447 blobs identified.\n",
      "Save blob coords: 3.60\n",
      "Save blob masks: 7.59\n",
      "Save blob contours, save: 11.35\n",
      "Compute blob properties, save: 14.26\n",
      "Processing section: 313\n"
     ]
    },
    {
     "name": "stdout",
     "output_type": "stream",
     "text": [
      "cp /oasis/projects/nsf/csd395/yuncong/CSHL_data_processed/MD603/MD603_lossless_alignedTo_MD603-N60-2015.12.03-23.57.05_MD603_2_0179_cropped_compressed/MD603-N69-2015.12.04-00.39.36_MD603_1_0207_lossless_alignedTo_MD603-N60-2015.12.03-23.57.05_MD603_2_0179_cropped_compressed.jpg /home/yuncong/csd395/CSHL_cells_v2/detected_cells/MD603/MD603-N69-2015.12.04-00.39.36_MD603_1_0207/MD603-N69-2015.12.04-00.39.36_MD603_1_0207_image.jpg\n"
     ]
    },
    {
     "name": "stderr",
     "output_type": "stream",
     "text": [
      "Child returned 0\n",
      "Load mask: 14.85\n",
      "regionprops: 3.00\n",
      "65642 blobs identified.\n",
      "Save blob coords: 3.66\n",
      "Save blob masks: 7.23\n",
      "Save blob contours, save: 11.20\n",
      "Compute blob properties, save: 14.45\n",
      "Processing section: 316\n"
     ]
    },
    {
     "name": "stdout",
     "output_type": "stream",
     "text": [
      "cp /oasis/projects/nsf/csd395/yuncong/CSHL_data_processed/MD603/MD603_lossless_alignedTo_MD603-N60-2015.12.03-23.57.05_MD603_2_0179_cropped_compressed/MD603-IHC70-2016.03.02-16.34.12_MD603_1_0208_lossless_alignedTo_MD603-N60-2015.12.03-23.57.05_MD603_2_0179_cropped_compressed.jpg /home/yuncong/csd395/CSHL_cells_v2/detected_cells/MD603/MD603-IHC70-2016.03.02-16.34.12_MD603_1_0208/MD603-IHC70-2016.03.02-16.34.12_MD603_1_0208_image.jpg\n"
     ]
    },
    {
     "name": "stderr",
     "output_type": "stream",
     "text": [
      "Child returned 0\n",
      "Load mask: 14.67\n",
      "regionprops: 3.00\n",
      "71278 blobs identified.\n",
      "Save blob coords: 3.78\n",
      "Save blob masks: 7.71\n",
      "Save blob contours, save: 11.94\n",
      "Compute blob properties, save: 15.07\n",
      "Processing section: 317\n"
     ]
    },
    {
     "name": "stdout",
     "output_type": "stream",
     "text": [
      "cp /oasis/projects/nsf/csd395/yuncong/CSHL_data_processed/MD603/MD603_lossless_alignedTo_MD603-N60-2015.12.03-23.57.05_MD603_2_0179_cropped_compressed/MD603-N70-2015.12.04-00.43.20_MD603_2_0209_lossless_alignedTo_MD603-N60-2015.12.03-23.57.05_MD603_2_0179_cropped_compressed.jpg /home/yuncong/csd395/CSHL_cells_v2/detected_cells/MD603/MD603-N70-2015.12.04-00.43.20_MD603_2_0209/MD603-N70-2015.12.04-00.43.20_MD603_2_0209_image.jpg\n"
     ]
    },
    {
     "name": "stderr",
     "output_type": "stream",
     "text": [
      "Child returned 0\n",
      "Load mask: 15.04\n",
      "regionprops: 3.04\n",
      "63526 blobs identified.\n",
      "Save blob coords: 3.56\n",
      "Save blob masks: 7.01\n",
      "Save blob contours, save: 10.93\n",
      "Compute blob properties, save: 13.86\n",
      "Processing section: 318\n"
     ]
    },
    {
     "name": "stdout",
     "output_type": "stream",
     "text": [
      "cp /oasis/projects/nsf/csd395/yuncong/CSHL_data_processed/MD603/MD603_lossless_alignedTo_MD603-N60-2015.12.03-23.57.05_MD603_2_0179_cropped_compressed/MD603-IHC70-2016.03.02-16.34.12_MD603_2_0209_lossless_alignedTo_MD603-N60-2015.12.03-23.57.05_MD603_2_0179_cropped_compressed.jpg /home/yuncong/csd395/CSHL_cells_v2/detected_cells/MD603/MD603-IHC70-2016.03.02-16.34.12_MD603_2_0209/MD603-IHC70-2016.03.02-16.34.12_MD603_2_0209_image.jpg\n"
     ]
    },
    {
     "name": "stderr",
     "output_type": "stream",
     "text": [
      "Child returned 0\n",
      "Load mask: 14.79\n",
      "regionprops: 2.92\n",
      "72067 blobs identified.\n",
      "Save blob coords: 3.98\n",
      "Save blob masks: 7.73\n",
      "Save blob contours, save: 11.97\n",
      "Compute blob properties, save: 15.73\n",
      "Processing section: 319\n"
     ]
    },
    {
     "name": "stdout",
     "output_type": "stream",
     "text": [
      "cp /oasis/projects/nsf/csd395/yuncong/CSHL_data_processed/MD603/MD603_lossless_alignedTo_MD603-N60-2015.12.03-23.57.05_MD603_2_0179_cropped_compressed/MD603-N70-2015.12.04-00.43.20_MD603_1_0210_lossless_alignedTo_MD603-N60-2015.12.03-23.57.05_MD603_2_0179_cropped_compressed.jpg /home/yuncong/csd395/CSHL_cells_v2/detected_cells/MD603/MD603-N70-2015.12.04-00.43.20_MD603_1_0210/MD603-N70-2015.12.04-00.43.20_MD603_1_0210_image.jpg\n"
     ]
    },
    {
     "name": "stderr",
     "output_type": "stream",
     "text": [
      "Child returned 0\n",
      "Load mask: 15.02\n",
      "regionprops: 2.64\n",
      "64800 blobs identified.\n",
      "Save blob coords: 3.58\n",
      "Save blob masks: 7.34\n",
      "Save blob contours, save: 11.09\n",
      "Compute blob properties, save: 14.07\n",
      "Processing section: 320\n"
     ]
    },
    {
     "name": "stdout",
     "output_type": "stream",
     "text": [
      "cp /oasis/projects/nsf/csd395/yuncong/CSHL_data_processed/MD603/MD603_lossless_alignedTo_MD603-N60-2015.12.03-23.57.05_MD603_2_0179_cropped_compressed/MD603-IHC70-2016.03.02-16.34.12_MD603_3_0210_lossless_alignedTo_MD603-N60-2015.12.03-23.57.05_MD603_2_0179_cropped_compressed.jpg /home/yuncong/csd395/CSHL_cells_v2/detected_cells/MD603/MD603-IHC70-2016.03.02-16.34.12_MD603_3_0210/MD603-IHC70-2016.03.02-16.34.12_MD603_3_0210_image.jpg\n"
     ]
    },
    {
     "name": "stderr",
     "output_type": "stream",
     "text": [
      "Child returned 0\n",
      "Load mask: 14.67\n",
      "regionprops: 2.85\n",
      "63043 blobs identified.\n",
      "Save blob coords: 3.28\n",
      "Save blob masks: 6.74\n",
      "Save blob contours, save: 10.65\n",
      "Compute blob properties, save: 13.21\n",
      "Processing section: 321\n"
     ]
    },
    {
     "name": "stdout",
     "output_type": "stream",
     "text": [
      "cp /oasis/projects/nsf/csd395/yuncong/CSHL_data_processed/MD603/MD603_lossless_alignedTo_MD603-N60-2015.12.03-23.57.05_MD603_2_0179_cropped_compressed/MD603-N71-2016.03.02-14.16.22_MD603_1_0211_lossless_alignedTo_MD603-N60-2015.12.03-23.57.05_MD603_2_0179_cropped_compressed.jpg /home/yuncong/csd395/CSHL_cells_v2/detected_cells/MD603/MD603-N71-2016.03.02-14.16.22_MD603_1_0211/MD603-N71-2016.03.02-14.16.22_MD603_1_0211_image.jpg\n"
     ]
    },
    {
     "name": "stderr",
     "output_type": "stream",
     "text": [
      "Child returned 0\n",
      "Load mask: 14.79\n",
      "regionprops: 2.67\n",
      "71317 blobs identified.\n",
      "Save blob coords: 4.25\n",
      "Save blob masks: 8.32\n",
      "Save blob contours, save: 12.04\n",
      "Compute blob properties, save: 16.10\n",
      "Processing section: 322\n"
     ]
    },
    {
     "name": "stdout",
     "output_type": "stream",
     "text": [
      "cp /oasis/projects/nsf/csd395/yuncong/CSHL_data_processed/MD603/MD603_lossless_alignedTo_MD603-N60-2015.12.03-23.57.05_MD603_2_0179_cropped_compressed/MD603-IHC71-2016.03.02-16.39.48_MD603_1_0211_lossless_alignedTo_MD603-N60-2015.12.03-23.57.05_MD603_2_0179_cropped_compressed.jpg /home/yuncong/csd395/CSHL_cells_v2/detected_cells/MD603/MD603-IHC71-2016.03.02-16.39.48_MD603_1_0211/MD603-IHC71-2016.03.02-16.39.48_MD603_1_0211_image.jpg\n"
     ]
    },
    {
     "name": "stderr",
     "output_type": "stream",
     "text": [
      "Child returned 0\n",
      "Load mask: 14.81\n",
      "regionprops: 2.67\n",
      "69344 blobs identified.\n",
      "Save blob coords: 3.68\n",
      "Save blob masks: 7.60\n",
      "Save blob contours, save: 11.58\n",
      "Compute blob properties, save: 14.96\n",
      "Processing section: 323\n"
     ]
    },
    {
     "name": "stdout",
     "output_type": "stream",
     "text": [
      "cp /oasis/projects/nsf/csd395/yuncong/CSHL_data_processed/MD603/MD603_lossless_alignedTo_MD603-N60-2015.12.03-23.57.05_MD603_2_0179_cropped_compressed/MD603-N71-2016.03.02-14.16.22_MD603_2_0212_lossless_alignedTo_MD603-N60-2015.12.03-23.57.05_MD603_2_0179_cropped_compressed.jpg /home/yuncong/csd395/CSHL_cells_v2/detected_cells/MD603/MD603-N71-2016.03.02-14.16.22_MD603_2_0212/MD603-N71-2016.03.02-14.16.22_MD603_2_0212_image.jpg\n"
     ]
    },
    {
     "name": "stderr",
     "output_type": "stream",
     "text": [
      "Child returned 0\n",
      "Load mask: 14.81\n",
      "regionprops: 2.60\n",
      "63060 blobs identified.\n",
      "Save blob coords: 3.38\n",
      "Save blob masks: 6.77\n",
      "Save blob contours, save: 10.91\n",
      "Compute blob properties, save: 13.45\n",
      "Processing section: 324\n"
     ]
    },
    {
     "name": "stdout",
     "output_type": "stream",
     "text": [
      "cp /oasis/projects/nsf/csd395/yuncong/CSHL_data_processed/MD603/MD603_lossless_alignedTo_MD603-N60-2015.12.03-23.57.05_MD603_2_0179_cropped_compressed/MD603-IHC71-2016.03.02-16.39.48_MD603_2_0212_lossless_alignedTo_MD603-N60-2015.12.03-23.57.05_MD603_2_0179_cropped_compressed.jpg /home/yuncong/csd395/CSHL_cells_v2/detected_cells/MD603/MD603-IHC71-2016.03.02-16.39.48_MD603_2_0212/MD603-IHC71-2016.03.02-16.39.48_MD603_2_0212_image.jpg\n"
     ]
    },
    {
     "name": "stderr",
     "output_type": "stream",
     "text": [
      "Child returned 0\n",
      "Load mask: 14.83\n",
      "regionprops: 2.57\n",
      "66910 blobs identified.\n",
      "Save blob coords: 3.44\n",
      "Save blob masks: 7.28\n",
      "Save blob contours, save: 11.22\n",
      "Compute blob properties, save: 14.09\n",
      "Processing section: 325\n"
     ]
    },
    {
     "name": "stdout",
     "output_type": "stream",
     "text": [
      "cp /oasis/projects/nsf/csd395/yuncong/CSHL_data_processed/MD603/MD603_lossless_alignedTo_MD603-N60-2015.12.03-23.57.05_MD603_2_0179_cropped_compressed/MD603-N71-2016.03.02-14.16.22_MD603_3_0213_lossless_alignedTo_MD603-N60-2015.12.03-23.57.05_MD603_2_0179_cropped_compressed.jpg /home/yuncong/csd395/CSHL_cells_v2/detected_cells/MD603/MD603-N71-2016.03.02-14.16.22_MD603_3_0213/MD603-N71-2016.03.02-14.16.22_MD603_3_0213_image.jpg\n"
     ]
    },
    {
     "name": "stderr",
     "output_type": "stream",
     "text": [
      "Child returned 0\n",
      "Load mask: 14.78\n",
      "regionprops: 2.85\n",
      "62861 blobs identified.\n",
      "Save blob coords: 3.28\n",
      "Save blob masks: 6.69\n",
      "Save blob contours, save: 10.63\n",
      "Compute blob properties, save: 13.28\n",
      "Processing section: 326\n"
     ]
    },
    {
     "name": "stdout",
     "output_type": "stream",
     "text": [
      "cp /oasis/projects/nsf/csd395/yuncong/CSHL_data_processed/MD603/MD603_lossless_alignedTo_MD603-N60-2015.12.03-23.57.05_MD603_2_0179_cropped_compressed/MD603-IHC71-2016.03.02-16.39.48_MD603_3_0213_lossless_alignedTo_MD603-N60-2015.12.03-23.57.05_MD603_2_0179_cropped_compressed.jpg /home/yuncong/csd395/CSHL_cells_v2/detected_cells/MD603/MD603-IHC71-2016.03.02-16.39.48_MD603_3_0213/MD603-IHC71-2016.03.02-16.39.48_MD603_3_0213_image.jpg\n"
     ]
    },
    {
     "name": "stderr",
     "output_type": "stream",
     "text": [
      "Child returned 0\n",
      "Load mask: 14.83\n",
      "regionprops: 2.94\n",
      "64180 blobs identified.\n",
      "Save blob coords: 3.28\n",
      "Save blob masks: 6.85\n",
      "Save blob contours, save: 11.08\n",
      "Compute blob properties, save: 13.26\n",
      "Processing section: 327\n"
     ]
    },
    {
     "name": "stdout",
     "output_type": "stream",
     "text": [
      "cp /oasis/projects/nsf/csd395/yuncong/CSHL_data_processed/MD603/MD603_lossless_alignedTo_MD603-N60-2015.12.03-23.57.05_MD603_2_0179_cropped_compressed/MD603-N72-2016.03.02-14.21.36_MD603_1_0214_lossless_alignedTo_MD603-N60-2015.12.03-23.57.05_MD603_2_0179_cropped_compressed.jpg /home/yuncong/csd395/CSHL_cells_v2/detected_cells/MD603/MD603-N72-2016.03.02-14.21.36_MD603_1_0214/MD603-N72-2016.03.02-14.21.36_MD603_1_0214_image.jpg\n"
     ]
    },
    {
     "name": "stderr",
     "output_type": "stream",
     "text": [
      "Child returned 0\n",
      "Load mask: 14.68\n",
      "regionprops: 2.91\n",
      "57598 blobs identified.\n",
      "Save blob coords: 3.44\n",
      "Save blob masks: 6.31\n",
      "Save blob contours, save: 9.97\n",
      "Compute blob properties, save: 12.67\n",
      "Processing section: 328\n"
     ]
    },
    {
     "name": "stdout",
     "output_type": "stream",
     "text": [
      "cp /oasis/projects/nsf/csd395/yuncong/CSHL_data_processed/MD603/MD603_lossless_alignedTo_MD603-N60-2015.12.03-23.57.05_MD603_2_0179_cropped_compressed/MD603-IHC72-2015.12.03-18.40.00_MD603_3_0214_lossless_alignedTo_MD603-N60-2015.12.03-23.57.05_MD603_2_0179_cropped_compressed.jpg /home/yuncong/csd395/CSHL_cells_v2/detected_cells/MD603/MD603-IHC72-2015.12.03-18.40.00_MD603_3_0214/MD603-IHC72-2015.12.03-18.40.00_MD603_3_0214_image.jpg\n"
     ]
    },
    {
     "name": "stderr",
     "output_type": "stream",
     "text": [
      "Child returned 0\n",
      "Load mask: 15.06\n",
      "regionprops: 2.79\n",
      "64346 blobs identified.\n",
      "Save blob coords: 3.44\n",
      "Save blob masks: 7.00\n",
      "Save blob contours, save: 11.02\n",
      "Compute blob properties, save: 13.75\n",
      "Processing section: 329\n"
     ]
    },
    {
     "name": "stdout",
     "output_type": "stream",
     "text": [
      "cp /oasis/projects/nsf/csd395/yuncong/CSHL_data_processed/MD603/MD603_lossless_alignedTo_MD603-N60-2015.12.03-23.57.05_MD603_2_0179_cropped_compressed/MD603-N72-2016.03.02-14.21.36_MD603_2_0215_lossless_alignedTo_MD603-N60-2015.12.03-23.57.05_MD603_2_0179_cropped_compressed.jpg /home/yuncong/csd395/CSHL_cells_v2/detected_cells/MD603/MD603-N72-2016.03.02-14.21.36_MD603_2_0215/MD603-N72-2016.03.02-14.21.36_MD603_2_0215_image.jpg\n"
     ]
    },
    {
     "name": "stderr",
     "output_type": "stream",
     "text": [
      "Child returned 0\n",
      "Load mask: 14.69\n",
      "regionprops: 2.83\n",
      "62902 blobs identified.\n",
      "Save blob coords: 3.37\n",
      "Save blob masks: 6.72\n",
      "Save blob contours, save: 10.83\n",
      "Compute blob properties, save: 13.66\n",
      "Processing section: 330\n"
     ]
    },
    {
     "name": "stdout",
     "output_type": "stream",
     "text": [
      "cp /oasis/projects/nsf/csd395/yuncong/CSHL_data_processed/MD603/MD603_lossless_alignedTo_MD603-N60-2015.12.03-23.57.05_MD603_2_0179_cropped_compressed/MD603-IHC72-2015.12.03-18.40.00_MD603_2_0215_lossless_alignedTo_MD603-N60-2015.12.03-23.57.05_MD603_2_0179_cropped_compressed.jpg /home/yuncong/csd395/CSHL_cells_v2/detected_cells/MD603/MD603-IHC72-2015.12.03-18.40.00_MD603_2_0215/MD603-IHC72-2015.12.03-18.40.00_MD603_2_0215_image.jpg\n"
     ]
    },
    {
     "name": "stderr",
     "output_type": "stream",
     "text": [
      "Child returned 0\n",
      "Load mask: 14.84\n",
      "regionprops: 2.97\n",
      "64959 blobs identified.\n",
      "Save blob coords: 3.49\n",
      "Save blob masks: 7.07\n",
      "Save blob contours, save: 11.06\n",
      "Compute blob properties, save: 14.14\n",
      "Processing section: 331\n"
     ]
    },
    {
     "name": "stdout",
     "output_type": "stream",
     "text": [
      "cp /oasis/projects/nsf/csd395/yuncong/CSHL_data_processed/MD603/MD603_lossless_alignedTo_MD603-N60-2015.12.03-23.57.05_MD603_2_0179_cropped_compressed/MD603-N72-2016.03.02-14.21.36_MD603_3_0216_lossless_alignedTo_MD603-N60-2015.12.03-23.57.05_MD603_2_0179_cropped_compressed.jpg /home/yuncong/csd395/CSHL_cells_v2/detected_cells/MD603/MD603-N72-2016.03.02-14.21.36_MD603_3_0216/MD603-N72-2016.03.02-14.21.36_MD603_3_0216_image.jpg\n"
     ]
    },
    {
     "name": "stderr",
     "output_type": "stream",
     "text": [
      "Child returned 0\n",
      "Load mask: 14.68\n",
      "regionprops: 2.41\n",
      "63679 blobs identified.\n",
      "Save blob coords: 3.33\n",
      "Save blob masks: 6.82\n",
      "Save blob contours, save: 11.17\n",
      "Compute blob properties, save: 13.55\n",
      "Processing section: 332\n"
     ]
    },
    {
     "name": "stdout",
     "output_type": "stream",
     "text": [
      "cp /oasis/projects/nsf/csd395/yuncong/CSHL_data_processed/MD603/MD603_lossless_alignedTo_MD603-N60-2015.12.03-23.57.05_MD603_2_0179_cropped_compressed/MD603-IHC72-2015.12.03-18.40.00_MD603_1_0216_lossless_alignedTo_MD603-N60-2015.12.03-23.57.05_MD603_2_0179_cropped_compressed.jpg /home/yuncong/csd395/CSHL_cells_v2/detected_cells/MD603/MD603-IHC72-2015.12.03-18.40.00_MD603_1_0216/MD603-IHC72-2015.12.03-18.40.00_MD603_1_0216_image.jpg\n"
     ]
    },
    {
     "name": "stderr",
     "output_type": "stream",
     "text": [
      "Child returned 0\n",
      "Load mask: 14.96\n",
      "regionprops: 2.96\n",
      "63216 blobs identified.\n",
      "Save blob coords: 3.70\n",
      "Save blob masks: 6.88\n",
      "Save blob contours, save: 11.09\n",
      "Compute blob properties, save: 13.58\n",
      "Processing section: 333\n"
     ]
    },
    {
     "name": "stdout",
     "output_type": "stream",
     "text": [
      "cp /oasis/projects/nsf/csd395/yuncong/CSHL_data_processed/MD603/MD603_lossless_alignedTo_MD603-N60-2015.12.03-23.57.05_MD603_2_0179_cropped_compressed/MD603-N73-2016.03.02-14.27.05_MD603_1_0217_lossless_alignedTo_MD603-N60-2015.12.03-23.57.05_MD603_2_0179_cropped_compressed.jpg /home/yuncong/csd395/CSHL_cells_v2/detected_cells/MD603/MD603-N73-2016.03.02-14.27.05_MD603_1_0217/MD603-N73-2016.03.02-14.27.05_MD603_1_0217_image.jpg\n"
     ]
    },
    {
     "name": "stderr",
     "output_type": "stream",
     "text": [
      "Child returned 0\n",
      "Load mask: 14.69\n",
      "regionprops: 2.78\n",
      "62648 blobs identified.\n",
      "Save blob coords: 3.33\n",
      "Save blob masks: 6.72\n",
      "Save blob contours, save: 10.88\n",
      "Compute blob properties, save: 13.78\n",
      "Processing section: 334\n"
     ]
    },
    {
     "name": "stdout",
     "output_type": "stream",
     "text": [
      "cp /oasis/projects/nsf/csd395/yuncong/CSHL_data_processed/MD603/MD603_lossless_alignedTo_MD603-N60-2015.12.03-23.57.05_MD603_2_0179_cropped_compressed/MD603-IHC73-2015.12.03-18.45.22_MD603_3_0217_lossless_alignedTo_MD603-N60-2015.12.03-23.57.05_MD603_2_0179_cropped_compressed.jpg /home/yuncong/csd395/CSHL_cells_v2/detected_cells/MD603/MD603-IHC73-2015.12.03-18.45.22_MD603_3_0217/MD603-IHC73-2015.12.03-18.45.22_MD603_3_0217_image.jpg\n"
     ]
    },
    {
     "name": "stderr",
     "output_type": "stream",
     "text": [
      "Child returned 0\n",
      "Load mask: 14.79\n",
      "regionprops: 2.57\n",
      "62120 blobs identified.\n",
      "Save blob coords: 3.47\n",
      "Save blob masks: 7.00\n",
      "Save blob contours, save: 10.61\n",
      "Compute blob properties, save: 13.59\n",
      "Processing section: 335\n"
     ]
    },
    {
     "name": "stdout",
     "output_type": "stream",
     "text": [
      "cp /oasis/projects/nsf/csd395/yuncong/CSHL_data_processed/MD603/MD603_lossless_alignedTo_MD603-N60-2015.12.03-23.57.05_MD603_2_0179_cropped_compressed/MD603-N73-2016.03.02-14.27.05_MD603_2_0218_lossless_alignedTo_MD603-N60-2015.12.03-23.57.05_MD603_2_0179_cropped_compressed.jpg /home/yuncong/csd395/CSHL_cells_v2/detected_cells/MD603/MD603-N73-2016.03.02-14.27.05_MD603_2_0218/MD603-N73-2016.03.02-14.27.05_MD603_2_0218_image.jpg\n"
     ]
    },
    {
     "name": "stderr",
     "output_type": "stream",
     "text": [
      "Child returned 0\n",
      "Load mask: 14.67\n",
      "regionprops: 2.79\n",
      "60137 blobs identified.\n",
      "Save blob coords: 3.18\n",
      "Save blob masks: 6.45\n",
      "Save blob contours, save: 10.24\n",
      "Compute blob properties, save: 12.71\n",
      "Processing section: 336\n"
     ]
    },
    {
     "name": "stdout",
     "output_type": "stream",
     "text": [
      "cp /oasis/projects/nsf/csd395/yuncong/CSHL_data_processed/MD603/MD603_lossless_alignedTo_MD603-N60-2015.12.03-23.57.05_MD603_2_0179_cropped_compressed/MD603-IHC73-2015.12.03-18.45.22_MD603_2_0218_lossless_alignedTo_MD603-N60-2015.12.03-23.57.05_MD603_2_0179_cropped_compressed.jpg /home/yuncong/csd395/CSHL_cells_v2/detected_cells/MD603/MD603-IHC73-2015.12.03-18.45.22_MD603_2_0218/MD603-IHC73-2015.12.03-18.45.22_MD603_2_0218_image.jpg\n"
     ]
    },
    {
     "name": "stderr",
     "output_type": "stream",
     "text": [
      "Child returned 0\n",
      "Load mask: 14.83\n",
      "regionprops: 2.90\n",
      "60268 blobs identified.\n",
      "Save blob coords: 3.25\n",
      "Save blob masks: 6.56\n",
      "Save blob contours, save: 10.36\n",
      "Compute blob properties, save: 12.76\n",
      "Processing section: 337\n"
     ]
    },
    {
     "name": "stdout",
     "output_type": "stream",
     "text": [
      "cp /oasis/projects/nsf/csd395/yuncong/CSHL_data_processed/MD603/MD603_lossless_alignedTo_MD603-N60-2015.12.03-23.57.05_MD603_2_0179_cropped_compressed/MD603-N73-2016.03.02-14.27.05_MD603_3_0219_lossless_alignedTo_MD603-N60-2015.12.03-23.57.05_MD603_2_0179_cropped_compressed.jpg /home/yuncong/csd395/CSHL_cells_v2/detected_cells/MD603/MD603-N73-2016.03.02-14.27.05_MD603_3_0219/MD603-N73-2016.03.02-14.27.05_MD603_3_0219_image.jpg\n"
     ]
    },
    {
     "name": "stderr",
     "output_type": "stream",
     "text": [
      "Child returned 0\n",
      "Load mask: 14.67\n",
      "regionprops: 2.73\n",
      "61057 blobs identified.\n",
      "Save blob coords: 3.20\n",
      "Save blob masks: 6.53\n",
      "Save blob contours, save: 10.59\n",
      "Compute blob properties, save: 12.89\n",
      "Processing section: 338\n"
     ]
    },
    {
     "name": "stdout",
     "output_type": "stream",
     "text": [
      "cp /oasis/projects/nsf/csd395/yuncong/CSHL_data_processed/MD603/MD603_lossless_alignedTo_MD603-N60-2015.12.03-23.57.05_MD603_2_0179_cropped_compressed/MD603-IHC73-2015.12.03-18.45.22_MD603_1_0219_lossless_alignedTo_MD603-N60-2015.12.03-23.57.05_MD603_2_0179_cropped_compressed.jpg /home/yuncong/csd395/CSHL_cells_v2/detected_cells/MD603/MD603-IHC73-2015.12.03-18.45.22_MD603_1_0219/MD603-IHC73-2015.12.03-18.45.22_MD603_1_0219_image.jpg\n"
     ]
    },
    {
     "name": "stderr",
     "output_type": "stream",
     "text": [
      "Child returned 0\n",
      "Load mask: 14.80\n",
      "regionprops: 2.70\n",
      "61343 blobs identified.\n",
      "Save blob coords: 3.22\n",
      "Save blob masks: 6.59\n",
      "Save blob contours, save: 10.50\n",
      "Compute blob properties, save: 13.02\n",
      "Processing section: 339\n"
     ]
    },
    {
     "name": "stdout",
     "output_type": "stream",
     "text": [
      "cp /oasis/projects/nsf/csd395/yuncong/CSHL_data_processed/MD603/MD603_lossless_alignedTo_MD603-N60-2015.12.03-23.57.05_MD603_2_0179_cropped_compressed/MD603-N74-2016.03.02-14.32.34_MD603_1_0220_lossless_alignedTo_MD603-N60-2015.12.03-23.57.05_MD603_2_0179_cropped_compressed.jpg /home/yuncong/csd395/CSHL_cells_v2/detected_cells/MD603/MD603-N74-2016.03.02-14.32.34_MD603_1_0220/MD603-N74-2016.03.02-14.32.34_MD603_1_0220_image.jpg\n"
     ]
    },
    {
     "name": "stderr",
     "output_type": "stream",
     "text": [
      "Child returned 0\n",
      "Load mask: 14.67\n",
      "regionprops: 2.76\n",
      "60306 blobs identified.\n",
      "Save blob coords: 3.23\n",
      "Save blob masks: 6.50\n",
      "Save blob contours, save: 10.09\n",
      "Compute blob properties, save: 13.19\n",
      "Processing section: 340\n"
     ]
    },
    {
     "name": "stdout",
     "output_type": "stream",
     "text": [
      "cp /oasis/projects/nsf/csd395/yuncong/CSHL_data_processed/MD603/MD603_lossless_alignedTo_MD603-N60-2015.12.03-23.57.05_MD603_2_0179_cropped_compressed/MD603-IHC74-2016.03.02-16.45.17_MD603_1_0220_lossless_alignedTo_MD603-N60-2015.12.03-23.57.05_MD603_2_0179_cropped_compressed.jpg /home/yuncong/csd395/CSHL_cells_v2/detected_cells/MD603/MD603-IHC74-2016.03.02-16.45.17_MD603_1_0220/MD603-IHC74-2016.03.02-16.45.17_MD603_1_0220_image.jpg\n"
     ]
    },
    {
     "name": "stderr",
     "output_type": "stream",
     "text": [
      "Child returned 0\n",
      "Load mask: 14.83\n",
      "regionprops: 2.53\n",
      "60340 blobs identified.\n",
      "Save blob coords: 3.18\n",
      "Save blob masks: 6.65\n",
      "Save blob contours, save: 10.29\n",
      "Compute blob properties, save: 12.81\n",
      "Processing section: 341\n"
     ]
    },
    {
     "name": "stdout",
     "output_type": "stream",
     "text": [
      "cp /oasis/projects/nsf/csd395/yuncong/CSHL_data_processed/MD603/MD603_lossless_alignedTo_MD603-N60-2015.12.03-23.57.05_MD603_2_0179_cropped_compressed/MD603-N74-2016.03.02-14.32.34_MD603_2_0221_lossless_alignedTo_MD603-N60-2015.12.03-23.57.05_MD603_2_0179_cropped_compressed.jpg /home/yuncong/csd395/CSHL_cells_v2/detected_cells/MD603/MD603-N74-2016.03.02-14.32.34_MD603_2_0221/MD603-N74-2016.03.02-14.32.34_MD603_2_0221_image.jpg\n"
     ]
    },
    {
     "name": "stderr",
     "output_type": "stream",
     "text": [
      "Child returned 0\n",
      "Load mask: 14.78\n",
      "regionprops: 2.75\n",
      "58212 blobs identified.\n",
      "Save blob coords: 3.11\n",
      "Save blob masks: 6.30\n",
      "Save blob contours, save: 9.85\n",
      "Compute blob properties, save: 12.37\n",
      "Processing section: 342\n"
     ]
    },
    {
     "name": "stdout",
     "output_type": "stream",
     "text": [
      "cp /oasis/projects/nsf/csd395/yuncong/CSHL_data_processed/MD603/MD603_lossless_alignedTo_MD603-N60-2015.12.03-23.57.05_MD603_2_0179_cropped_compressed/MD603-IHC74-2016.03.02-16.45.17_MD603_2_0221_lossless_alignedTo_MD603-N60-2015.12.03-23.57.05_MD603_2_0179_cropped_compressed.jpg /home/yuncong/csd395/CSHL_cells_v2/detected_cells/MD603/MD603-IHC74-2016.03.02-16.45.17_MD603_2_0221/MD603-IHC74-2016.03.02-16.45.17_MD603_2_0221_image.jpg\n"
     ]
    },
    {
     "name": "stderr",
     "output_type": "stream",
     "text": [
      "Child returned 0\n",
      "Load mask: 14.89\n",
      "regionprops: 2.86\n",
      "59863 blobs identified.\n",
      "Save blob coords: 3.06\n",
      "Save blob masks: 6.33\n",
      "Save blob contours, save: 10.39\n",
      "Compute blob properties, save: 12.72\n",
      "Processing section: 343\n"
     ]
    },
    {
     "name": "stdout",
     "output_type": "stream",
     "text": [
      "cp /oasis/projects/nsf/csd395/yuncong/CSHL_data_processed/MD603/MD603_lossless_alignedTo_MD603-N60-2015.12.03-23.57.05_MD603_2_0179_cropped_compressed/MD603-N74-2016.03.02-14.32.34_MD603_3_0222_lossless_alignedTo_MD603-N60-2015.12.03-23.57.05_MD603_2_0179_cropped_compressed.jpg /home/yuncong/csd395/CSHL_cells_v2/detected_cells/MD603/MD603-N74-2016.03.02-14.32.34_MD603_3_0222/MD603-N74-2016.03.02-14.32.34_MD603_3_0222_image.jpg\n"
     ]
    },
    {
     "name": "stderr",
     "output_type": "stream",
     "text": [
      "Child returned 0\n",
      "Load mask: 14.69\n",
      "regionprops: 2.40\n",
      "57847 blobs identified.\n",
      "Save blob coords: 3.34\n",
      "Save blob masks: 6.36\n",
      "Save blob contours, save: 9.81\n",
      "Compute blob properties, save: 12.50\n",
      "Processing section: 344\n"
     ]
    },
    {
     "name": "stdout",
     "output_type": "stream",
     "text": [
      "cp /oasis/projects/nsf/csd395/yuncong/CSHL_data_processed/MD603/MD603_lossless_alignedTo_MD603-N60-2015.12.03-23.57.05_MD603_2_0179_cropped_compressed/MD603-IHC74-2016.03.02-16.45.17_MD603_3_0222_lossless_alignedTo_MD603-N60-2015.12.03-23.57.05_MD603_2_0179_cropped_compressed.jpg /home/yuncong/csd395/CSHL_cells_v2/detected_cells/MD603/MD603-IHC74-2016.03.02-16.45.17_MD603_3_0222/MD603-IHC74-2016.03.02-16.45.17_MD603_3_0222_image.jpg\n"
     ]
    },
    {
     "name": "stderr",
     "output_type": "stream",
     "text": [
      "Child returned 0\n",
      "Load mask: 14.81\n",
      "regionprops: 2.49\n",
      "58690 blobs identified.\n",
      "Save blob coords: 3.19\n",
      "Save blob masks: 6.17\n",
      "Save blob contours, save: 10.08\n",
      "Compute blob properties, save: 12.34\n",
      "Processing section: 345\n"
     ]
    },
    {
     "name": "stdout",
     "output_type": "stream",
     "text": [
      "cp /oasis/projects/nsf/csd395/yuncong/CSHL_data_processed/MD603/MD603_lossless_alignedTo_MD603-N60-2015.12.03-23.57.05_MD603_2_0179_cropped_compressed/MD603-N75-2015.12.04-01.06.34_MD603_3_0223_lossless_alignedTo_MD603-N60-2015.12.03-23.57.05_MD603_2_0179_cropped_compressed.jpg /home/yuncong/csd395/CSHL_cells_v2/detected_cells/MD603/MD603-N75-2015.12.04-01.06.34_MD603_3_0223/MD603-N75-2015.12.04-01.06.34_MD603_3_0223_image.jpg\n"
     ]
    },
    {
     "name": "stderr",
     "output_type": "stream",
     "text": [
      "Child returned 0\n",
      "Load mask: 14.68\n",
      "regionprops: 2.43\n",
      "55374 blobs identified.\n",
      "Save blob coords: 3.24\n",
      "Save blob masks: 6.18\n",
      "Save blob contours, save: 9.56\n",
      "Compute blob properties, save: 12.12\n",
      "Processing section: 346\n"
     ]
    },
    {
     "name": "stdout",
     "output_type": "stream",
     "text": [
      "cp /oasis/projects/nsf/csd395/yuncong/CSHL_data_processed/MD603/MD603_lossless_alignedTo_MD603-N60-2015.12.03-23.57.05_MD603_2_0179_cropped_compressed/MD603-IHC75-2015.12.03-18.54.25_MD603_3_0223_lossless_alignedTo_MD603-N60-2015.12.03-23.57.05_MD603_2_0179_cropped_compressed.jpg /home/yuncong/csd395/CSHL_cells_v2/detected_cells/MD603/MD603-IHC75-2015.12.03-18.54.25_MD603_3_0223/MD603-IHC75-2015.12.03-18.54.25_MD603_3_0223_image.jpg\n"
     ]
    },
    {
     "name": "stderr",
     "output_type": "stream",
     "text": [
      "Child returned 0\n",
      "Load mask: 14.98\n",
      "regionprops: 2.45\n",
      "56661 blobs identified.\n",
      "Save blob coords: 3.06\n",
      "Save blob masks: 6.24\n",
      "Save blob contours, save: 9.76\n",
      "Compute blob properties, save: 12.16\n",
      "Processing section: 347\n"
     ]
    },
    {
     "name": "stdout",
     "output_type": "stream",
     "text": [
      "cp /oasis/projects/nsf/csd395/yuncong/CSHL_data_processed/MD603/MD603_lossless_alignedTo_MD603-N60-2015.12.03-23.57.05_MD603_2_0179_cropped_compressed/MD603-N75-2015.12.04-01.06.34_MD603_2_0224_lossless_alignedTo_MD603-N60-2015.12.03-23.57.05_MD603_2_0179_cropped_compressed.jpg /home/yuncong/csd395/CSHL_cells_v2/detected_cells/MD603/MD603-N75-2015.12.04-01.06.34_MD603_2_0224/MD603-N75-2015.12.04-01.06.34_MD603_2_0224_image.jpg\n"
     ]
    },
    {
     "name": "stderr",
     "output_type": "stream",
     "text": [
      "Child returned 0\n",
      "Load mask: 14.66\n",
      "regionprops: 2.73\n",
      "54785 blobs identified.\n",
      "Save blob coords: 3.16\n",
      "Save blob masks: 5.97\n",
      "Save blob contours, save: 9.34\n",
      "Compute blob properties, save: 11.78\n",
      "Processing section: 348\n"
     ]
    },
    {
     "name": "stdout",
     "output_type": "stream",
     "text": [
      "cp /oasis/projects/nsf/csd395/yuncong/CSHL_data_processed/MD603/MD603_lossless_alignedTo_MD603-N60-2015.12.03-23.57.05_MD603_2_0179_cropped_compressed/MD603-IHC75-2015.12.03-18.54.25_MD603_2_0224_lossless_alignedTo_MD603-N60-2015.12.03-23.57.05_MD603_2_0179_cropped_compressed.jpg /home/yuncong/csd395/CSHL_cells_v2/detected_cells/MD603/MD603-IHC75-2015.12.03-18.54.25_MD603_2_0224/MD603-IHC75-2015.12.03-18.54.25_MD603_2_0224_image.jpg\n"
     ]
    },
    {
     "name": "stderr",
     "output_type": "stream",
     "text": [
      "Child returned 0\n",
      "Load mask: 14.82\n",
      "regionprops: 2.73\n",
      "55833 blobs identified.\n",
      "Save blob coords: 3.03\n",
      "Save blob masks: 5.99\n",
      "Save blob contours, save: 9.70\n",
      "Compute blob properties, save: 12.14\n",
      "Processing section: 349\n"
     ]
    },
    {
     "name": "stdout",
     "output_type": "stream",
     "text": [
      "cp /oasis/projects/nsf/csd395/yuncong/CSHL_data_processed/MD603/MD603_lossless_alignedTo_MD603-N60-2015.12.03-23.57.05_MD603_2_0179_cropped_compressed/MD603-N75-2015.12.04-01.06.34_MD603_1_0225_lossless_alignedTo_MD603-N60-2015.12.03-23.57.05_MD603_2_0179_cropped_compressed.jpg /home/yuncong/csd395/CSHL_cells_v2/detected_cells/MD603/MD603-N75-2015.12.04-01.06.34_MD603_1_0225/MD603-N75-2015.12.04-01.06.34_MD603_1_0225_image.jpg\n"
     ]
    },
    {
     "name": "stderr",
     "output_type": "stream",
     "text": [
      "Child returned 0\n",
      "Load mask: 14.67\n",
      "regionprops: 2.32\n",
      "54654 blobs identified.\n",
      "Save blob coords: 2.99\n",
      "Save blob masks: 6.16\n",
      "Save blob contours, save: 9.21\n",
      "Compute blob properties, save: 11.85\n",
      "Processing section: 350\n"
     ]
    },
    {
     "name": "stdout",
     "output_type": "stream",
     "text": [
      "cp /oasis/projects/nsf/csd395/yuncong/CSHL_data_processed/MD603/MD603_lossless_alignedTo_MD603-N60-2015.12.03-23.57.05_MD603_2_0179_cropped_compressed/MD603-IHC75-2015.12.03-18.54.25_MD603_1_0225_lossless_alignedTo_MD603-N60-2015.12.03-23.57.05_MD603_2_0179_cropped_compressed.jpg /home/yuncong/csd395/CSHL_cells_v2/detected_cells/MD603/MD603-IHC75-2015.12.03-18.54.25_MD603_1_0225/MD603-IHC75-2015.12.03-18.54.25_MD603_1_0225_image.jpg\n"
     ]
    },
    {
     "name": "stderr",
     "output_type": "stream",
     "text": [
      "Child returned 0\n",
      "Load mask: 14.83\n",
      "regionprops: 2.72\n",
      "56180 blobs identified.\n",
      "Save blob coords: 3.22\n",
      "Save blob masks: 5.98\n",
      "Save blob contours, save: 9.56\n",
      "Compute blob properties, save: 12.03\n",
      "Processing section: 351\n"
     ]
    },
    {
     "name": "stdout",
     "output_type": "stream",
     "text": [
      "cp /oasis/projects/nsf/csd395/yuncong/CSHL_data_processed/MD603/MD603_lossless_alignedTo_MD603-N60-2015.12.03-23.57.05_MD603_2_0179_cropped_compressed/MD603-N76-2015.12.04-01.11.01_MD603_3_0226_lossless_alignedTo_MD603-N60-2015.12.03-23.57.05_MD603_2_0179_cropped_compressed.jpg /home/yuncong/csd395/CSHL_cells_v2/detected_cells/MD603/MD603-N76-2015.12.04-01.11.01_MD603_3_0226/MD603-N76-2015.12.04-01.11.01_MD603_3_0226_image.jpg\n"
     ]
    },
    {
     "name": "stderr",
     "output_type": "stream",
     "text": [
      "Child returned 0\n",
      "Load mask: 15.03\n",
      "regionprops: 2.68\n",
      "51838 blobs identified.\n",
      "Save blob coords: 2.99\n",
      "Save blob masks: 5.68\n",
      "Save blob contours, save: 8.99\n",
      "Compute blob properties, save: 11.54\n",
      "Processing section: 352\n"
     ]
    },
    {
     "name": "stdout",
     "output_type": "stream",
     "text": [
      "cp /oasis/projects/nsf/csd395/yuncong/CSHL_data_processed/MD603/MD603_lossless_alignedTo_MD603-N60-2015.12.03-23.57.05_MD603_2_0179_cropped_compressed/MD603-IHC76-2015.12.03-18.58.43_MD603_3_0226_lossless_alignedTo_MD603-N60-2015.12.03-23.57.05_MD603_2_0179_cropped_compressed.jpg /home/yuncong/csd395/CSHL_cells_v2/detected_cells/MD603/MD603-IHC76-2015.12.03-18.58.43_MD603_3_0226/MD603-IHC76-2015.12.03-18.58.43_MD603_3_0226_image.jpg\n"
     ]
    },
    {
     "name": "stderr",
     "output_type": "stream",
     "text": [
      "Child returned 0\n",
      "Load mask: 14.80\n",
      "regionprops: 2.37\n",
      "54186 blobs identified.\n",
      "Save blob coords: 3.20\n",
      "Save blob masks: 6.15\n",
      "Save blob contours, save: 9.37\n",
      "Compute blob properties, save: 11.57\n"
     ]
    }
   ],
   "source": [
    "# for stack in all_nissl_stacks:\n",
    "for stack in ['MD602', 'MD603']:\n",
    "        \n",
    "    sections_to_filenames = metadata_cache['sections_to_filenames'][stack]\n",
    "    first_bs_section, last_bs_section = metadata_cache['section_limits'][stack]\n",
    "    \n",
    "    output_dir = create_if_not_exists(os.path.join(DETECTED_CELLS_ROOTDIR, stack))\n",
    "    \n",
    "    for sec in range(first_bs_section, last_bs_section+1):\n",
    "    \n",
    "        fn = sections_to_filenames[sec]\n",
    "        \n",
    "        if is_invalid(fn=fn):\n",
    "            continue\n",
    "\n",
    "        fn_output_dir = create_if_not_exists(os.path.join(output_dir, fn))\n",
    "\n",
    "        sys.stderr.write('Processing section: %03d\\n' % sec)\n",
    "\n",
    "        jpeg_filename = DataManager.get_image_filepath(stack=stack, section=sec, resol='lossless', version='compressed')\n",
    "        copyto_filename ='/home/yuncong/csd395/CSHL_cells_v2/detected_cells/%(stack)s/%(fn)s/%(fn)s_image.jpg' % {'fn':fn, 'stack':stack}\n",
    "        execute_command(\"cp %s %s\" % (jpeg_filename, copyto_filename))\n",
    "\n",
    "        # Load mask\n",
    "        t = time.time()\n",
    "        mask_tb = DataManager.load_thumbnail_mask_v2(stack=stack, section=sec)\n",
    "        mask = resize(mask_tb, metadata_cache['image_shape'][stack][::-1]) > .5\n",
    "        sys.stderr.write('Load mask: %.2f\\n' % (time.time() - t) )\n",
    "\n",
    "\n",
    "        if alg == 'myown':\n",
    "\n",
    "            img_filename = DataManager.get_image_filepath(stack=stack, section=sec, resol='lossless', version='cropped')\n",
    "\n",
    "            img = imread(img_filename)\n",
    "            sys.stderr.write('Load image: %.2f\\n' % (time.time() - t) )\n",
    "\n",
    "            t = time.time()\n",
    "            im = rgb2gray(img)\n",
    "            sys.stderr.write('Convert to gray: %.2f\\n' % (time.time() - t) )\n",
    "\n",
    "            t = time.time()\n",
    "\n",
    "            thresh = threshold_otsu(im)\n",
    "            binary = im < thresh\n",
    "            binary[~mask] = 0\n",
    "\n",
    "            sys.stderr.write('threshold: %.2f\\n' % (time.time() - t) )\n",
    "        #     imsave(fn_output_dir + '/%(fn)s_otsu.png' % {'fn':fn}, binary.astype(np.uint8)*255)\n",
    "\n",
    "            # plt.imshow(binary, cmap=plt.cm.gray);\n",
    "            # plt.axis('off');\n",
    "            # plt.title('binary');\n",
    "\n",
    "            t = time.time()\n",
    "            dt = distance_transform_edt(binary)\n",
    "            sys.stderr.write('distance transform: %.2f\\n' % (time.time() - t) )\n",
    "\n",
    "        #     imsave(fn_output_dir + '/%(fn)s_dt.png' % {'fn':fn}, img_as_ubyte(plt.cm.jet(dt/dt.max())))\n",
    "\n",
    "            # plt.imshow(dt, cmap=plt.cm.gray);\n",
    "            # plt.axis('off');\n",
    "            # plt.title('distance tranform');\n",
    "\n",
    "            t = time.time()\n",
    "            local_maxi = peak_local_max(dt, labels=binary, footprint=np.ones((10, 10)), indices=False)\n",
    "            sys.stderr.write('local max: %.2f\\n' % (time.time() - t) )\n",
    "\n",
    "            # plt.imshow(local_maxi, cmap=plt.cm.gray);\n",
    "            # plt.axis('off');\n",
    "            # plt.title('local maxima');\n",
    "\n",
    "            t = time.time()\n",
    "            markers = label(local_maxi)\n",
    "            sys.stderr.write('label: %.2f\\n' % (time.time() - t) )\n",
    "\n",
    "            t = time.time()\n",
    "            labels = watershed(-dt, markers, mask=binary)\n",
    "            sys.stderr.write('watershed: %.2f\\n' % (time.time() - t) )\n",
    "\n",
    "        elif alg == 'cellprofiler':\n",
    "            labels = bp.unpack_ndarray_file(output_dir + '/%(fn)s/%(fn)s_image_inverted_labelmap_cellprofiler.bp' % \\\n",
    "                                            dict(fn=fn))\n",
    "            labels[~mask] = 0\n",
    "\n",
    "        elif alg == 'farsight':\n",
    "            labels = bp.unpack_ndarray_file(output_dir + '/%(fn)s/%(fn)s_image_inverted_labelmap_farsight.bp' % \\\n",
    "                                           dict(fn=fn))\n",
    "            labels[~mask] = 0\n",
    "\n",
    "        else:\n",
    "            raise 'Algorithm not recognized.'\n",
    "\n",
    "        # plt.imshow(labels);\n",
    "        # plt.axis('off');\n",
    "        # plt.title('labels');\n",
    "\n",
    "        t = time.time()\n",
    "        props = regionprops(labels)\n",
    "        sys.stderr.write('regionprops: %.2f\\n' % (time.time() - t) )\n",
    "\n",
    "    #     plt.hist([p.area for p in props], bins=100);\n",
    "    #     plt.title('Area histograms');\n",
    "    #     plt.show();\n",
    "\n",
    "        valid_blob_indices = [i for i, p in enumerate(props) if p.area > min_blob_area and p.area < max_blob_area]\n",
    "        sys.stderr.write('%d blobs identified.\\n' % len(valid_blob_indices))\n",
    "\n",
    "        # Get blobs\n",
    "        t = time.time()\n",
    "        valid_blob_coords = [props[i].coords for i in valid_blob_indices] # r,c\n",
    "        #     pickle.dump(valid_blob_coords, open(fn_output_dir + '/%(fn)s_blobCoords.pkl' % {'fn':fn}, 'w'))\n",
    "        pandas.Series(data=valid_blob_coords).to_hdf(fn_output_dir + '/%(fn)s_blobCoords.hdf' % {'fn': fn}, 'data', mode='w')\n",
    "        sys.stderr.write('Save blob coords: %.2f\\n' % (time.time() - t) )\n",
    "\n",
    "        # Generate masks\n",
    "        t = time.time()\n",
    "    #     bar = show_progress_bar(first_bs_section, last_bs_section)\n",
    "\n",
    "        cell_masks = []\n",
    "        cell_mask_centers = []\n",
    "        for i, coords in enumerate(valid_blob_coords):\n",
    "    #         bar.value = i\n",
    "            ymin, xmin = coords.min(axis=0)\n",
    "            ymax, xmax = coords.max(axis=0)\n",
    "            cell_mask = np.zeros((ymax+1-ymin, xmax+1-xmin), np.bool)\n",
    "            cell_mask[coords[:,0]-ymin, coords[:,1]-xmin] = 1\n",
    "            yc, xc = np.mean(np.where(cell_mask), axis=1)\n",
    "            cell_masks.append(cell_mask)\n",
    "            cell_mask_centers.append([xc, yc])\n",
    "\n",
    "        pandas.Series(data=cell_masks).to_hdf(fn_output_dir + '/%(fn)s_blobMasks.hdf' % {'fn': fn}, 'data', mode='w')    \n",
    "        bp.pack_ndarray_file(np.array(cell_mask_centers), fn_output_dir + '/%(fn)s_blobMaskCenters.bp' % {'fn':fn})\n",
    "\n",
    "        sys.stderr.write('Save blob masks: %.2f\\n' % (time.time() - t) )\n",
    "\n",
    "        # Other blob attributes\n",
    "        t = time.time()\n",
    "\n",
    "    #     valid_blob_contours = [find_contour_points(msk, sample_every=1)[1][0] for msk in cell_masks]\n",
    "\n",
    "        def find_contour_worker(msk):\n",
    "            if msk.shape[0] == 1:\n",
    "                # if mask is a straight line, append another line to it.\n",
    "                msk = np.vstack([msk, np.ones((msk.shape[1],))])\n",
    "            elif msk.shape[1] == 1:\n",
    "                msk = np.c_[msk, np.ones((msk.shape[0],))]\n",
    "            return find_contour_points(msk, sample_every=1)[1][0]\n",
    "\n",
    "        pool = Pool(15)\n",
    "        valid_blob_contours = pool.map(lambda msk: find_contour_worker(msk), cell_masks)\n",
    "        pool.terminate()\n",
    "        pool.join()\n",
    "\n",
    "    #     pickle.dump(valid_blob_contours, open(fn_output_dir + '/%(fn)s_blobContours.pkl' % {'fn':fn}, 'w'))\n",
    "        pandas.Series(data=valid_blob_contours).to_hdf(fn_output_dir + '/%(fn)s_blobContours.hdf' % {'fn': fn}, 'data', mode='w')\n",
    "\n",
    "        sys.stderr.write('Save blob contours, save: %.2f\\n' % (time.time() - t) )\n",
    "\n",
    "        t = time.time()\n",
    "\n",
    "        valid_blob_orientations = np.array([props[i].orientation for i in valid_blob_indices])\n",
    "        valid_blob_centroids = np.array([props[i].centroid for i in valid_blob_indices])[:,::-1] # r,c -> x,y\n",
    "        valid_blob_majorAxisLen = np.array([props[i].major_axis_length for i in valid_blob_indices])\n",
    "        valid_blob_minorAxisLen = np.array([props[i].minor_axis_length for i in valid_blob_indices])\n",
    "\n",
    "        bp.pack_ndarray_file(valid_blob_orientations, fn_output_dir + '/%(fn)s_blobOrientations.bp' % {'fn':fn})\n",
    "        bp.pack_ndarray_file(valid_blob_centroids, fn_output_dir + '/%(fn)s_blobCentroids.bp' % {'fn':fn})\n",
    "        bp.pack_ndarray_file(valid_blob_majorAxisLen, fn_output_dir + '/%(fn)s_blobMajorAxisLen.bp' % {'fn':fn})\n",
    "        bp.pack_ndarray_file(valid_blob_minorAxisLen, fn_output_dir + '/%(fn)s_blobMinorAxisLen.bp' % {'fn':fn})\n",
    "\n",
    "        blob_contours_global = [(valid_blob_contours[i] - cell_mask_centers[i] + valid_blob_centroids[i]).astype(np.int)\n",
    "                                for i in range(len(valid_blob_coords))]\n",
    "        pandas.Series(data=blob_contours_global).to_hdf(fn_output_dir + '/%(fn)s_blobContoursGlobal_%(alg)s.hdf' % {'fn': fn, 'alg':alg}, \n",
    "                                                        'data', mode='w')\n",
    "\n",
    "        sys.stderr.write('Compute blob properties, save: %.2f\\n' % (time.time() - t) )\n"
   ]
  },
  {
   "cell_type": "code",
   "execution_count": null,
   "metadata": {
    "collapsed": true
   },
   "outputs": [],
   "source": []
  }
 ],
 "metadata": {
  "kernelspec": {
   "display_name": "Python 2",
   "language": "python",
   "name": "python2"
  },
  "language_info": {
   "codemirror_mode": {
    "name": "ipython",
    "version": 2
   },
   "file_extension": ".py",
   "mimetype": "text/x-python",
   "name": "python",
   "nbconvert_exporter": "python",
   "pygments_lexer": "ipython2",
   "version": "2.7.12"
  }
 },
 "nbformat": 4,
 "nbformat_minor": 1
}
