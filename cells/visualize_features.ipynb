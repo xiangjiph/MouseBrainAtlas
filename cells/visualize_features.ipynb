{
 "cells": [
  {
   "cell_type": "code",
   "execution_count": 1,
   "metadata": {},
   "outputs": [
    {
     "name": "stderr",
     "output_type": "stream",
     "text": [
      "/usr/local/lib/python2.7/dist-packages/matplotlib/__init__.py:1401: UserWarning:  This call to matplotlib.use() has no effect\n",
      "because the backend has already been chosen;\n",
      "matplotlib.use() must be called *before* pylab, matplotlib.pyplot,\n",
      "or matplotlib.backends is imported for the first time.\n",
      "\n",
      "  warnings.warn(_use_error_msg)\n"
     ]
    },
    {
     "name": "stdout",
     "output_type": "stream",
     "text": [
      "Setting environment for AWS compute node\n"
     ]
    },
    {
     "name": "stderr",
     "output_type": "stream",
     "text": [
      "No vtk\n",
      "File does not exist: /shared/CSHL_data_processed/MD635/MD635_anchor.txt\n",
      "File does not exist: /shared/CSHL_data_processed/MD635/MD635_sorted_filenames.txt\n",
      "File does not exist: /shared/CSHL_data_processed/MD635/MD635_cropbox.txt\n",
      "File does not exist: /shared/CSHL_data_processed/MD635/MD635_cropbox.txt\n",
      "File does not exist: /shared/CSHL_data_processed/MD653/MD653_anchor.txt\n",
      "File does not exist: /shared/CSHL_data_processed/MD653/MD653_sorted_filenames.txt\n",
      "File does not exist: /shared/CSHL_data_processed/MD653/MD653_cropbox.txt\n",
      "File does not exist: /shared/CSHL_data_processed/MD653/MD653_cropbox.txt\n",
      "File does not exist: /shared/CSHL_data_processed/MD652/MD652_anchor.txt\n",
      "File does not exist: /shared/CSHL_data_processed/MD652/MD652_sorted_filenames.txt\n",
      "File does not exist: /shared/CSHL_data_processed/MD652/MD652_cropbox.txt\n",
      "File does not exist: /shared/CSHL_data_processed/MD652/MD652_cropbox.txt\n",
      "File does not exist: /shared/CSHL_data_processed/MD642/MD642_anchor.txt\n",
      "File does not exist: /shared/CSHL_data_processed/MD642/MD642_sorted_filenames.txt\n",
      "File does not exist: /shared/CSHL_data_processed/MD642/MD642_cropbox.txt\n",
      "File does not exist: /shared/CSHL_data_processed/MD642/MD642_cropbox.txt\n",
      "File does not exist: /shared/CSHL_data_processed/MD657/MD657_anchor.txt\n",
      "File does not exist: /shared/CSHL_data_processed/MD657/MD657_sorted_filenames.txt\n",
      "File does not exist: /shared/CSHL_data_processed/MD657/MD657_cropbox.txt\n",
      "File does not exist: /shared/CSHL_data_processed/MD657/MD657_cropbox.txt\n"
     ]
    }
   ],
   "source": [
    "%reload_ext autoreload\n",
    "%autoreload 2\n",
    "\n",
    "import os\n",
    "import sys\n",
    "import time\n",
    "\n",
    "import matplotlib.pyplot as plt\n",
    "%matplotlib inline\n",
    "from matplotlib.path import Path\n",
    "import cv2\n",
    "from multiprocess import Pool\n",
    "import pandas\n",
    "\n",
    "sys.path.append(os.path.join(os.environ['REPO_DIR'], 'utilities'))\n",
    "from utilities2015 import *\n",
    "from data_manager import *\n",
    "from metadata import *\n",
    "from cell_utilities import *\n",
    "from learning_utilities import *"
   ]
  },
  {
   "cell_type": "code",
   "execution_count": 2,
   "metadata": {
    "collapsed": true
   },
   "outputs": [],
   "source": [
    "stack = 'MD589'"
   ]
  },
  {
   "cell_type": "code",
   "execution_count": 3,
   "metadata": {},
   "outputs": [
    {
     "name": "stdout",
     "output_type": "stream",
     "text": [
      "'No object named structures in the file'\n"
     ]
    },
    {
     "name": "stderr",
     "output_type": "stream",
     "text": [
      "Annotation has no structures.\n"
     ]
    }
   ],
   "source": [
    "contour_df, _ = DataManager.load_annotation_v3(stack=stack)\n",
    "from annotation_utilities import convert_annotation_v3_original_to_aligned_cropped\n",
    "contour_df = convert_annotation_v3_original_to_aligned_cropped(contour_df, stack)"
   ]
  },
  {
   "cell_type": "code",
   "execution_count": 4,
   "metadata": {
    "collapsed": true
   },
   "outputs": [],
   "source": [
    "first_sec, last_sec = metadata_cache['section_limits'][stack]"
   ]
  },
  {
   "cell_type": "code",
   "execution_count": 35,
   "metadata": {},
   "outputs": [
    {
     "name": "stdout",
     "output_type": "stream",
     "text": [
      "88 large cells are identified in Tz.\n",
      "75 small cells are identified in Tz.\n",
      "4918 5794 9981 10649\n"
     ]
    }
   ],
   "source": [
    "# for sec in range(first_sec, last_sec+1):    \n",
    "# for sec in [219]:\n",
    "for sec in [201]:\n",
    "\n",
    "    fn = metadata_cache['sections_to_filenames'][stack][sec]\n",
    "    if is_invalid(fn):\n",
    "        continue\n",
    "    \n",
    "    neighbors = load_cell_data(what='neighborCellIndices', stack=stack, sec=sec, ext='hdf')\n",
    "    neighbor_vectors = load_cell_data(what='neighborVectors', stack=stack, sec=sec, ext='hdf')\n",
    "    radial_indices = load_cell_data(what='neighborRadialHistBins', stack=stack, sec=sec, ext='hdf')\n",
    "    angular_indices = load_cell_data(what='neighborAngularHistBins', stack=stack, sec=sec, ext='hdf')\n",
    "    \n",
    "#     neighbor_info = load_cell_classifier_data(what='neighbor_info', stack=stack, sec=sec, ext='pkl')\n",
    "#     neighbors = neighbor_info['neighbors']\n",
    "#     radial_indices = neighbor_info['radial_indices']\n",
    "#     angular_indices = neighbor_info['angular_indices']\n",
    "\n",
    "    # sample_indices = np.random.choice(neighbors.keys(), 10, replace=False)\n",
    "\n",
    "    # context_histograms = {cell_ind: np.bincount([n_angular*ri+ai \n",
    "    #                                  for ri, ai in zip(radial_indices[cell_ind], angular_indices[cell_ind])],\n",
    "    #                                   minlength=n_angular*n_radial)\n",
    "    #                       for cell_ind in sample_indices}\n",
    "\n",
    "    # plot_histograms(context_histograms, bins=range(n_angular*n_radial), \n",
    "    #                xlabel='Radial-angular bin',\n",
    "    #                ylabel='Number of cells',\n",
    "    #                suptitle='Neighbor placement histogram for random cells')\n",
    "\n",
    "    cell_orientations = load_cell_data('orientation', stack, sec)\n",
    "    cell_orientations = np.array(map(normalize_angle, cell_orientations))\n",
    "\n",
    "    cell_centroids = load_cell_data('centroid', stack, sec)\n",
    "    cell_numbers = cell_centroids.shape[0]\n",
    "\n",
    "    image = load_cell_data('image', stack=stack, sec=sec)\n",
    "\n",
    "    # For visualization\n",
    "\n",
    "    cell_contours = load_cell_data('contours', stack=stack, sec=sec)\n",
    "    n_cells = len(cell_contours)\n",
    "\n",
    "    cell_mask_centers = load_cell_data('mask_center', stack=stack, sec=sec)\n",
    "    cell_contours_global = {i: cell_centroids[i].astype(np.int) - cell_mask_centers[i] + cell_contours[i]\n",
    "                            for i in range(cell_numbers)}\n",
    "\n",
    "    ######################################\n",
    "\n",
    "#     cells = load_cell_data('cells_aligned_padded', stack, sec)\n",
    "#     cell_sizes = np.sum(cells.reshape((cells.shape[0], -1)), axis=1)\n",
    "    cell_sizes = load_cell_data('cellSizes', ext='bp', stack=stack, sec=sec)\n",
    "\n",
    "    ######################################\n",
    "\n",
    "#     large_cell_threshold = 163\n",
    "#     large_cell_indices = np.where(cell_sizes > large_cell_threshold)[0]\n",
    "\n",
    "    large_cell_indices = load_cell_data('largeCellIndices', stack=stack, sec=sec, ext='bp')\n",
    "    large_cell_indices_list = large_cell_indices.tolist()\n",
    "\n",
    "    contours = {cnt['name']: cnt['vertices'] for cnt_id, cnt in contour_df[contour_df['section'] == sec].iterrows()}\n",
    "\n",
    "    #######################################\n",
    "\n",
    "    cell_graph_output_dir = create_if_not_exists(os.path.join(CELLS_ROOTDIR, 'cell_graphs', fn))\n",
    "\n",
    "    #######################################\n",
    "\n",
    "    large_cell_centroids = cell_centroids[large_cell_indices]\n",
    "    \n",
    "\n",
    "    for name_u, cnt in contours.iteritems():\n",
    "\n",
    "        if name_u not in ['Tz']:\n",
    "            continue\n",
    "\n",
    "        # Get large cells\n",
    "\n",
    "        large_cell_is_inside = Path(cnt.astype(np.int)).contains_points(large_cell_centroids)\n",
    "        large_cell_indices_inside = large_cell_indices[large_cell_is_inside]\n",
    "\n",
    "        if len(large_cell_indices_inside) == 0:\n",
    "            continue\n",
    "        \n",
    "        print '%d large cells are identified in %s.' % (len(large_cell_indices_inside), name_u)\n",
    "\n",
    "        # Small cells\n",
    "\n",
    "        small_cell_indices = np.array(list(set(range(cell_numbers)) - set(large_cell_indices.tolist())))\n",
    "        small_cell_centroids = cell_centroids[small_cell_indices]\n",
    "        small_cell_is_inside = Path(cnt.astype(np.int)).contains_points(small_cell_centroids)\n",
    "        small_cell_indices_inside = small_cell_indices[small_cell_is_inside]\n",
    "\n",
    "        print '%d small cells are identified in %s.' % (len(small_cell_indices_inside), name_u)\n",
    "\n",
    "        #############\n",
    "        # Visualize #\n",
    "        #############\n",
    "\n",
    "        viz = image.copy()\n",
    "        \n",
    "        # Draw large cell boundaries\n",
    "        for i in large_cell_indices_inside:\n",
    "            cv2.polylines(viz, [cell_contours_global[i].astype(np.int)], isClosed=True, color=(255,0,0), thickness=1)\n",
    "\n",
    "        # Draw small cell boundaries\n",
    "        for i in small_cell_indices_inside:\n",
    "            cv2.polylines(viz, [cell_contours_global[i].astype(np.int)], isClosed=True, color=(0,255,0), thickness=1)\n",
    "\n",
    "        # Draw structure boundary\n",
    "        cv2.polylines(viz, [cnt.astype(np.int)], isClosed=True, color=(0,0,255), thickness=1)\n",
    "\n",
    "        # Visualize radial-angular histogram of selected cells\n",
    "        random_large_cell_indices = large_cell_indices_inside\n",
    "    #     random_large_cell_indices = np.random.choice(large_cell_indices_inside, 2, replace=False)\n",
    "\n",
    "        for source in random_large_cell_indices:\n",
    "\n",
    "            cv2.circle(viz, tuple(cell_centroids[source].astype(np.int)), 6, color=(255,0,0), thickness=-1)\n",
    "\n",
    "            neighbor_distances = np.sqrt(np.sum(neighbor_vectors[large_cell_indices_list.index(source)]**2, axis=1))\n",
    "\n",
    "            c = 0\n",
    "            for i in np.array(neighbors[large_cell_indices_list.index(source)])[np.argsort(neighbor_distances)]:\n",
    "    #         for i in neighbors[source]:\n",
    "\n",
    "                # Draw link to large cells\n",
    "                if i in large_cell_indices_inside:\n",
    "\n",
    "                    cv2.circle(viz, tuple(cell_centroids[i].astype(np.int)), 3, color=(255,0,0), thickness=-1)\n",
    "\n",
    "                    cv2.line(viz, tuple(cell_centroids[source].astype(np.int)), \n",
    "                         tuple(cell_centroids[i].astype(np.int)), \n",
    "                         color=(255,0,0), thickness=3)\n",
    "                    \n",
    "                    c += 1\n",
    "                    if c == 2:\n",
    "                        break\n",
    "\n",
    "                # Draw link to small cells\n",
    "                if i in small_cell_indices_inside:\n",
    "                    \n",
    "                    cv2.circle(viz, tuple(cell_centroids[i].astype(np.int)), 3, color=(0,255,0), thickness=-1)            \n",
    "\n",
    "                    cv2.line(viz, tuple(cell_centroids[source].astype(np.int)), \n",
    "                             tuple(cell_centroids[i].astype(np.int)), \n",
    "                             color=(0,0,0), thickness=1)\n",
    "\n",
    "        # Find crop box\n",
    "\n",
    "        margin = 50\n",
    "        roi_xmin, roi_ymin = cnt.astype(np.int).min(axis=0) - margin\n",
    "        roi_xmax, roi_ymax = cnt.astype(np.int).max(axis=0) + margin\n",
    "        print roi_xmin, roi_xmax, roi_ymin, roi_ymax\n",
    "\n",
    "#         imsave(os.path.join(cell_graph_output_dir, '%(fn)s_%(name_u)s_largeAndSmallGraph.png' % dict(fn=fn, name_u=name_u)), \n",
    "#                viz[roi_ymin:roi_ymax+1, roi_xmin:roi_xmax+1])\n",
    "\n",
    "#     roi_xmin = 10621\n",
    "#     roi_xmax = 12978\n",
    "#     roi_ymin = 8254\n",
    "#     roi_ymax = 9698\n",
    "\n",
    "#     imsave(os.path.join(cell_graph_output_dir, 'temp.png'), \n",
    "#            viz[roi_ymin:roi_ymax+1, roi_xmin:roi_xmax+1])\n"
   ]
  },
  {
   "cell_type": "code",
   "execution_count": 36,
   "metadata": {},
   "outputs": [
    {
     "data": {
      "text/html": [
       "<a href='tmp.jpg' target='_blank'>tmp.jpg</a><br>"
      ],
      "text/plain": [
       "/shared/MouseBrainAtlas/cells/tmp.jpg"
      ]
     },
     "execution_count": 36,
     "metadata": {},
     "output_type": "execute_result"
    }
   ],
   "source": [
    "display_image(viz[roi_ymin:roi_ymax+1, roi_xmin:roi_xmax+1])"
   ]
  },
  {
   "cell_type": "markdown",
   "metadata": {},
   "source": [
    "# Histograms"
   ]
  },
  {
   "cell_type": "code",
   "execution_count": null,
   "metadata": {
    "collapsed": true
   },
   "outputs": [],
   "source": [
    "plot_histograms({name_u: h/float(h.sum()) for name_u, h in large_cell_size_histogram_all_regions.iteritems()},\n",
    "                bins=size_bins[:-1],\n",
    "               xlabel='Size (pixels)', \n",
    "                ylabel='Number of cells',\n",
    "               suptitle='Histogram of LARGE cell size')"
   ]
  },
  {
   "cell_type": "code",
   "execution_count": null,
   "metadata": {
    "collapsed": true
   },
   "outputs": [],
   "source": [
    "plot_histograms({name_u: h/float(h.sum()) for name_u, h in all_cell_size_weighted_histogram_all_regions.iteritems()},\n",
    "                bins=size_bins[:-1],\n",
    "               xlabel='Size (pixels)', \n",
    "                ylabel='Number of cells',\n",
    "               suptitle='WEIGHTED histogram of cell size')"
   ]
  },
  {
   "cell_type": "code",
   "execution_count": null,
   "metadata": {
    "collapsed": true
   },
   "outputs": [],
   "source": [
    "plot_histograms({name_u: h/float(h.sum()) for name_u, h in all_cell_size_histogram_all_regions.iteritems()},\n",
    "                bins=size_bins[:-1],\n",
    "               xlabel='Size (pixels)', \n",
    "                ylabel='Number of cells',\n",
    "               suptitle='Histogram of cell size')"
   ]
  },
  {
   "cell_type": "code",
   "execution_count": null,
   "metadata": {
    "collapsed": true
   },
   "outputs": [],
   "source": [
    "plot_histograms({name_u: h/float(h.sum()) for name_u, h in large_cell_orientation_histogram_all_regions.iteritems()},\n",
    "                bins=orientation_bins[:-1],\n",
    "               xlabel='Orientation (radian)', \n",
    "                ylabel='Number of cells',\n",
    "               suptitle='Histogram of LARGE cell orientation')"
   ]
  },
  {
   "cell_type": "code",
   "execution_count": null,
   "metadata": {
    "collapsed": true
   },
   "outputs": [],
   "source": [
    "plot_histograms({name_u: h/float(h.sum()) for name_u, h in neighbor_distance_histogram_all_regions.iteritems()},\n",
    "                bins=edge_length_bins[:-1],\n",
    "               xlabel='Neighbor distance (pixel)', \n",
    "                ylabel='Number of cells',\n",
    "               suptitle='Histogram of neighbor distance')"
   ]
  },
  {
   "cell_type": "code",
   "execution_count": null,
   "metadata": {
    "collapsed": true
   },
   "outputs": [],
   "source": [
    "plot_histograms({name_u: h/float(h.sum()) for name_u, h in neighbor_direction_histogram_all_regions.iteritems()},\n",
    "                bins=edge_direction_bins[:-1],\n",
    "               xlabel='Neighbor direction (radian)', \n",
    "                ylabel='Number of cells',\n",
    "               suptitle='Histogram of neighbor direction')"
   ]
  },
  {
   "cell_type": "code",
   "execution_count": null,
   "metadata": {
    "collapsed": true
   },
   "outputs": [],
   "source": [
    "plot_histograms({name_u: h/float(h.sum()) for name_u, h in large_cell_graph_neighbor_distance_histogram_all_regions.iteritems()},\n",
    "                bins=edge_length_bins[:-1],\n",
    "               xlabel='Neighbor distance (pixel)', \n",
    "                ylabel='Number of cells',\n",
    "               suptitle='Histogram of neighbor distance for large cell graphs')"
   ]
  },
  {
   "cell_type": "code",
   "execution_count": null,
   "metadata": {
    "collapsed": true
   },
   "outputs": [],
   "source": [
    "plot_histograms({name_u: h/float(h.sum()) for name_u, h in large_cell_graph_neighbor_direction_histogram_all_regions.iteritems()},\n",
    "                bins=edge_direction_bins[:-1],\n",
    "               xlabel='Neighbor direction (radian)', \n",
    "                ylabel='Number of cells',\n",
    "               suptitle='Histogram of neighbor direction for large cell graphs')"
   ]
  },
  {
   "cell_type": "code",
   "execution_count": null,
   "metadata": {
    "collapsed": true
   },
   "outputs": [],
   "source": [
    "plot_histograms({name_u: h/float(h.sum()) for name_u, h in large_small_cell_graph_neighbor_distance_histogram_all_regions.iteritems()},\n",
    "                bins=edge_length_bins[:-1],\n",
    "               xlabel='Neighbor distance (pixel)', \n",
    "                ylabel='Number of cells',\n",
    "               suptitle='Histogram of neighbor distance for large-small cell graphs')"
   ]
  },
  {
   "cell_type": "code",
   "execution_count": null,
   "metadata": {
    "collapsed": true
   },
   "outputs": [],
   "source": [
    "plot_histograms({name_u: h/float(h.sum()) for name_u, h in large_small_cell_graph_neighbor_direction_histogram_all_regions.iteritems()},\n",
    "                bins=edge_direction_bins[:-1],\n",
    "               xlabel='Neighbor direction (radian)', \n",
    "                ylabel='Number of cells',\n",
    "               suptitle='Histogram of neighbor direction for large-small cell graphs')"
   ]
  }
 ],
 "metadata": {
  "kernelspec": {
   "display_name": "Python 2",
   "language": "python",
   "name": "python2"
  },
  "language_info": {
   "codemirror_mode": {
    "name": "ipython",
    "version": 2
   },
   "file_extension": ".py",
   "mimetype": "text/x-python",
   "name": "python",
   "nbconvert_exporter": "python",
   "pygments_lexer": "ipython2",
   "version": "2.7.12"
  }
 },
 "nbformat": 4,
 "nbformat_minor": 1
}
