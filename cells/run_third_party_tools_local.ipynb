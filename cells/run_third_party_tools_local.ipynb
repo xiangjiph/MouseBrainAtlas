{
 "cells": [
  {
   "cell_type": "code",
   "execution_count": 10,
   "metadata": {
    "scrolled": true
   },
   "outputs": [],
   "source": [
    "%reload_ext autoreload\n",
    "%autoreload 2\n",
    "\n",
    "import os\n",
    "import sys\n",
    "import time\n",
    "\n",
    "import cv2\n",
    "import matplotlib.pyplot as plt\n",
    "%matplotlib inline\n",
    "\n",
    "sys.path.append(os.path.join(os.environ['REPO_DIR'], 'utilities'))\n",
    "from utilities2015 import *\n",
    "from data_manager import *\n",
    "from metadata import *"
   ]
  },
  {
   "cell_type": "code",
   "execution_count": 5,
   "metadata": {
    "collapsed": true
   },
   "outputs": [],
   "source": [
    "DETECTED_CELLS_DIR = '/home/yuncong/CSHL_cells_v2/detected_cells'\n",
    "\n",
    "stack = 'MD589'\n",
    "\n",
    "# img_fn = 'MD589-N34-2015.07.30-18.20.43_MD589_2_0101'\n",
    "img_fn = 'MD589-N47-2015.07.30-19.12.19_MD589_1_0139'"
   ]
  },
  {
   "cell_type": "code",
   "execution_count": 8,
   "metadata": {},
   "outputs": [
    {
     "name": "stdout",
     "output_type": "stream",
     "text": [
      "rm -rf /shared/home/yuncong/CSHL_cells_v2/detected_cells/MD589/MD589-N18-2015.07.30-17.11.24_MD589_3_0054/MD589-N18-2015.07.30-17.11.24_MD589_3_0054_image_inverted.jpg && mkdir -p /shared/home/yuncong/CSHL_cells_v2/detected_cells/MD589/MD589-N18-2015.07.30-17.11.24_MD589_3_0054\n",
      "aws s3 cp s3://mousebrainatlas-data/home/yuncong/CSHL_cells_v2/detected_cells/MD589/MD589-N18-2015.07.30-17.11.24_MD589_3_0054/MD589-N18-2015.07.30-17.11.24_MD589_3_0054_image_inverted.jpg /shared/home/yuncong/CSHL_cells_v2/detected_cells/MD589/MD589-N18-2015.07.30-17.11.24_MD589_3_0054/MD589-N18-2015.07.30-17.11.24_MD589_3_0054_image_inverted.jpg\n"
     ]
    },
    {
     "name": "stderr",
     "output_type": "stream",
     "text": [
      "Child returned 0\n",
      "Child returned 1\n",
      "0.51 seconds.\n"
     ]
    },
    {
     "ename": "IOError",
     "evalue": "[Errno 2] No such file or directory: '/home/yuncong/CSHL_cells_v2/detected_cells/MD589/MD589-N18-2015.07.30-17.11.24_MD589_3_0054/MD589-N18-2015.07.30-17.11.24_MD589_3_0054_image_inverted.jpg'",
     "output_type": "error",
     "traceback": [
      "\u001b[0;31m---------------------------------------------------------------------------\u001b[0m",
      "\u001b[0;31mIOError\u001b[0m                                   Traceback (most recent call last)",
      "\u001b[0;32m<ipython-input-8-2e6ea1f8ed2a>\u001b[0m in \u001b[0;36m<module>\u001b[0;34m()\u001b[0m\n\u001b[1;32m      1\u001b[0m \u001b[0minput_img_fp\u001b[0m \u001b[0;34m=\u001b[0m \u001b[0mDETECTED_CELLS_DIR\u001b[0m \u001b[0;34m+\u001b[0m \u001b[0;34m'/%(stack)s/%(img_fn)s/%(img_fn)s_image_inverted.jpg'\u001b[0m \u001b[0;34m%\u001b[0m \u001b[0mdict\u001b[0m\u001b[0;34m(\u001b[0m\u001b[0mstack\u001b[0m\u001b[0;34m=\u001b[0m\u001b[0mstack\u001b[0m\u001b[0;34m,\u001b[0m \u001b[0mimg_fn\u001b[0m\u001b[0;34m=\u001b[0m\u001b[0mimg_fn\u001b[0m\u001b[0;34m)\u001b[0m\u001b[0;34m\u001b[0m\u001b[0m\n\u001b[1;32m      2\u001b[0m \u001b[0mdownload_from_s3\u001b[0m\u001b[0;34m(\u001b[0m\u001b[0minput_img_fp\u001b[0m\u001b[0;34m)\u001b[0m\u001b[0;34m\u001b[0m\u001b[0m\n\u001b[0;32m----> 3\u001b[0;31m \u001b[0mimg\u001b[0m \u001b[0;34m=\u001b[0m \u001b[0mimread\u001b[0m\u001b[0;34m(\u001b[0m\u001b[0minput_img_fp\u001b[0m\u001b[0;34m)\u001b[0m\u001b[0;34m\u001b[0m\u001b[0m\n\u001b[0m\u001b[1;32m      4\u001b[0m \u001b[0mimg_h\u001b[0m\u001b[0;34m,\u001b[0m \u001b[0mimg_w\u001b[0m \u001b[0;34m=\u001b[0m \u001b[0mimg\u001b[0m\u001b[0;34m.\u001b[0m\u001b[0mshape\u001b[0m\u001b[0;34m[\u001b[0m\u001b[0;34m:\u001b[0m\u001b[0;36m2\u001b[0m\u001b[0;34m]\u001b[0m\u001b[0;34m\u001b[0m\u001b[0m\n\u001b[1;32m      5\u001b[0m \u001b[0;34m\u001b[0m\u001b[0m\n",
      "\u001b[0;32m/usr/local/lib/python2.7/dist-packages/skimage/io/_io.pyc\u001b[0m in \u001b[0;36mimread\u001b[0;34m(fname, as_grey, plugin, flatten, **plugin_args)\u001b[0m\n\u001b[1;32m     59\u001b[0m \u001b[0;34m\u001b[0m\u001b[0m\n\u001b[1;32m     60\u001b[0m     \u001b[0;32mwith\u001b[0m \u001b[0mfile_or_url_context\u001b[0m\u001b[0;34m(\u001b[0m\u001b[0mfname\u001b[0m\u001b[0;34m)\u001b[0m \u001b[0;32mas\u001b[0m \u001b[0mfname\u001b[0m\u001b[0;34m:\u001b[0m\u001b[0;34m\u001b[0m\u001b[0m\n\u001b[0;32m---> 61\u001b[0;31m         \u001b[0mimg\u001b[0m \u001b[0;34m=\u001b[0m \u001b[0mcall_plugin\u001b[0m\u001b[0;34m(\u001b[0m\u001b[0;34m'imread'\u001b[0m\u001b[0;34m,\u001b[0m \u001b[0mfname\u001b[0m\u001b[0;34m,\u001b[0m \u001b[0mplugin\u001b[0m\u001b[0;34m=\u001b[0m\u001b[0mplugin\u001b[0m\u001b[0;34m,\u001b[0m \u001b[0;34m**\u001b[0m\u001b[0mplugin_args\u001b[0m\u001b[0;34m)\u001b[0m\u001b[0;34m\u001b[0m\u001b[0m\n\u001b[0m\u001b[1;32m     62\u001b[0m \u001b[0;34m\u001b[0m\u001b[0m\n\u001b[1;32m     63\u001b[0m     \u001b[0;32mif\u001b[0m \u001b[0;32mnot\u001b[0m \u001b[0mhasattr\u001b[0m\u001b[0;34m(\u001b[0m\u001b[0mimg\u001b[0m\u001b[0;34m,\u001b[0m \u001b[0;34m'ndim'\u001b[0m\u001b[0;34m)\u001b[0m\u001b[0;34m:\u001b[0m\u001b[0;34m\u001b[0m\u001b[0m\n",
      "\u001b[0;32m/usr/local/lib/python2.7/dist-packages/skimage/io/manage_plugins.pyc\u001b[0m in \u001b[0;36mcall_plugin\u001b[0;34m(kind, *args, **kwargs)\u001b[0m\n\u001b[1;32m    209\u001b[0m                                (plugin, kind))\n\u001b[1;32m    210\u001b[0m \u001b[0;34m\u001b[0m\u001b[0m\n\u001b[0;32m--> 211\u001b[0;31m     \u001b[0;32mreturn\u001b[0m \u001b[0mfunc\u001b[0m\u001b[0;34m(\u001b[0m\u001b[0;34m*\u001b[0m\u001b[0margs\u001b[0m\u001b[0;34m,\u001b[0m \u001b[0;34m**\u001b[0m\u001b[0mkwargs\u001b[0m\u001b[0;34m)\u001b[0m\u001b[0;34m\u001b[0m\u001b[0m\n\u001b[0m\u001b[1;32m    212\u001b[0m \u001b[0;34m\u001b[0m\u001b[0m\n\u001b[1;32m    213\u001b[0m \u001b[0;34m\u001b[0m\u001b[0m\n",
      "\u001b[0;32m/usr/local/lib/python2.7/dist-packages/skimage/io/_plugins/pil_plugin.pyc\u001b[0m in \u001b[0;36mimread\u001b[0;34m(fname, dtype, img_num, **kwargs)\u001b[0m\n\u001b[1;32m     33\u001b[0m     \"\"\"\n\u001b[1;32m     34\u001b[0m     \u001b[0;32mif\u001b[0m \u001b[0misinstance\u001b[0m\u001b[0;34m(\u001b[0m\u001b[0mfname\u001b[0m\u001b[0;34m,\u001b[0m \u001b[0mstring_types\u001b[0m\u001b[0;34m)\u001b[0m\u001b[0;34m:\u001b[0m\u001b[0;34m\u001b[0m\u001b[0m\n\u001b[0;32m---> 35\u001b[0;31m         \u001b[0;32mwith\u001b[0m \u001b[0mopen\u001b[0m\u001b[0;34m(\u001b[0m\u001b[0mfname\u001b[0m\u001b[0;34m,\u001b[0m \u001b[0;34m'rb'\u001b[0m\u001b[0;34m)\u001b[0m \u001b[0;32mas\u001b[0m \u001b[0mf\u001b[0m\u001b[0;34m:\u001b[0m\u001b[0;34m\u001b[0m\u001b[0m\n\u001b[0m\u001b[1;32m     36\u001b[0m             \u001b[0mim\u001b[0m \u001b[0;34m=\u001b[0m \u001b[0mImage\u001b[0m\u001b[0;34m.\u001b[0m\u001b[0mopen\u001b[0m\u001b[0;34m(\u001b[0m\u001b[0mf\u001b[0m\u001b[0;34m)\u001b[0m\u001b[0;34m\u001b[0m\u001b[0m\n\u001b[1;32m     37\u001b[0m             \u001b[0;32mreturn\u001b[0m \u001b[0mpil_to_ndarray\u001b[0m\u001b[0;34m(\u001b[0m\u001b[0mim\u001b[0m\u001b[0;34m,\u001b[0m \u001b[0mdtype\u001b[0m\u001b[0;34m=\u001b[0m\u001b[0mdtype\u001b[0m\u001b[0;34m,\u001b[0m \u001b[0mimg_num\u001b[0m\u001b[0;34m=\u001b[0m\u001b[0mimg_num\u001b[0m\u001b[0;34m)\u001b[0m\u001b[0;34m\u001b[0m\u001b[0m\n",
      "\u001b[0;31mIOError\u001b[0m: [Errno 2] No such file or directory: '/home/yuncong/CSHL_cells_v2/detected_cells/MD589/MD589-N18-2015.07.30-17.11.24_MD589_3_0054/MD589-N18-2015.07.30-17.11.24_MD589_3_0054_image_inverted.jpg'"
     ]
    }
   ],
   "source": [
    "input_img_fp = DETECTED_CELLS_DIR + '/%(stack)s/%(img_fn)s/%(img_fn)s_image_inverted.jpg' % dict(stack=stack, img_fn=img_fn)\n",
    "img = imread(input_img_fp)\n",
    "img_h, img_w = img.shape[:2]\n",
    "\n",
    "input_fps = [os.path.splitext(input_img_fp)[0] + '_%02d.tif' % tile_idx for tile_idx in range(12)]"
   ]
  },
  {
   "cell_type": "markdown",
   "metadata": {},
   "source": [
    "# Farsight"
   ]
  },
  {
   "cell_type": "code",
   "execution_count": 4,
   "metadata": {
    "collapsed": true
   },
   "outputs": [],
   "source": [
    "# output_fps = [os.path.splitext(input_fp)[0] + '_labeled_farsight.tif' for input_fp in input_fps]"
   ]
  },
  {
   "cell_type": "code",
   "execution_count": 5,
   "metadata": {
    "collapsed": true
   },
   "outputs": [],
   "source": [
    "FARSIGHT_EXEC = '/home/yuncong/Farsight-0.4.4-Linux/bin/segment_nuclei'"
   ]
  },
  {
   "cell_type": "code",
   "execution_count": 6,
   "metadata": {
    "scrolled": true
   },
   "outputs": [
    {
     "name": "stdout",
     "output_type": "stream",
     "text": [
      "/home/yuncong/Farsight-0.4.4-Linux/bin/segment_nuclei /home/yuncong/CSHL_cells_v2/detected_cells/MD589/MD589-N34-2015.07.30-18.20.43_MD589_2_0101/MD589-N34-2015.07.30-18.20.43_MD589_2_0101_image_inverted_00.tif /home/yuncong/CSHL_cells_v2/detected_cells/MD589/MD589-N34-2015.07.30-18.20.43_MD589_2_0101/MD589-N34-2015.07.30-18.20.43_MD589_2_0101_image_inverted_00_labeled_farsight.tif\n"
     ]
    },
    {
     "name": "stderr",
     "output_type": "stream",
     "text": [
      "Child returned 0\n"
     ]
    },
    {
     "name": "stdout",
     "output_type": "stream",
     "text": [
      "/home/yuncong/Farsight-0.4.4-Linux/bin/segment_nuclei /home/yuncong/CSHL_cells_v2/detected_cells/MD589/MD589-N34-2015.07.30-18.20.43_MD589_2_0101/MD589-N34-2015.07.30-18.20.43_MD589_2_0101_image_inverted_01.tif /home/yuncong/CSHL_cells_v2/detected_cells/MD589/MD589-N34-2015.07.30-18.20.43_MD589_2_0101/MD589-N34-2015.07.30-18.20.43_MD589_2_0101_image_inverted_01_labeled_farsight.tif\n"
     ]
    },
    {
     "name": "stderr",
     "output_type": "stream",
     "text": [
      "Child returned 0\n"
     ]
    },
    {
     "name": "stdout",
     "output_type": "stream",
     "text": [
      "/home/yuncong/Farsight-0.4.4-Linux/bin/segment_nuclei /home/yuncong/CSHL_cells_v2/detected_cells/MD589/MD589-N34-2015.07.30-18.20.43_MD589_2_0101/MD589-N34-2015.07.30-18.20.43_MD589_2_0101_image_inverted_02.tif /home/yuncong/CSHL_cells_v2/detected_cells/MD589/MD589-N34-2015.07.30-18.20.43_MD589_2_0101/MD589-N34-2015.07.30-18.20.43_MD589_2_0101_image_inverted_02_labeled_farsight.tif\n"
     ]
    },
    {
     "name": "stderr",
     "output_type": "stream",
     "text": [
      "Child returned 0\n"
     ]
    },
    {
     "name": "stdout",
     "output_type": "stream",
     "text": [
      "/home/yuncong/Farsight-0.4.4-Linux/bin/segment_nuclei /home/yuncong/CSHL_cells_v2/detected_cells/MD589/MD589-N34-2015.07.30-18.20.43_MD589_2_0101/MD589-N34-2015.07.30-18.20.43_MD589_2_0101_image_inverted_03.tif /home/yuncong/CSHL_cells_v2/detected_cells/MD589/MD589-N34-2015.07.30-18.20.43_MD589_2_0101/MD589-N34-2015.07.30-18.20.43_MD589_2_0101_image_inverted_03_labeled_farsight.tif\n"
     ]
    },
    {
     "name": "stderr",
     "output_type": "stream",
     "text": [
      "Child returned 0\n"
     ]
    },
    {
     "name": "stdout",
     "output_type": "stream",
     "text": [
      "/home/yuncong/Farsight-0.4.4-Linux/bin/segment_nuclei /home/yuncong/CSHL_cells_v2/detected_cells/MD589/MD589-N34-2015.07.30-18.20.43_MD589_2_0101/MD589-N34-2015.07.30-18.20.43_MD589_2_0101_image_inverted_04.tif /home/yuncong/CSHL_cells_v2/detected_cells/MD589/MD589-N34-2015.07.30-18.20.43_MD589_2_0101/MD589-N34-2015.07.30-18.20.43_MD589_2_0101_image_inverted_04_labeled_farsight.tif\n"
     ]
    },
    {
     "name": "stderr",
     "output_type": "stream",
     "text": [
      "Child returned 0\n"
     ]
    },
    {
     "name": "stdout",
     "output_type": "stream",
     "text": [
      "/home/yuncong/Farsight-0.4.4-Linux/bin/segment_nuclei /home/yuncong/CSHL_cells_v2/detected_cells/MD589/MD589-N34-2015.07.30-18.20.43_MD589_2_0101/MD589-N34-2015.07.30-18.20.43_MD589_2_0101_image_inverted_05.tif /home/yuncong/CSHL_cells_v2/detected_cells/MD589/MD589-N34-2015.07.30-18.20.43_MD589_2_0101/MD589-N34-2015.07.30-18.20.43_MD589_2_0101_image_inverted_05_labeled_farsight.tif\n"
     ]
    },
    {
     "name": "stderr",
     "output_type": "stream",
     "text": [
      "Child returned 0\n"
     ]
    },
    {
     "name": "stdout",
     "output_type": "stream",
     "text": [
      "/home/yuncong/Farsight-0.4.4-Linux/bin/segment_nuclei /home/yuncong/CSHL_cells_v2/detected_cells/MD589/MD589-N34-2015.07.30-18.20.43_MD589_2_0101/MD589-N34-2015.07.30-18.20.43_MD589_2_0101_image_inverted_06.tif /home/yuncong/CSHL_cells_v2/detected_cells/MD589/MD589-N34-2015.07.30-18.20.43_MD589_2_0101/MD589-N34-2015.07.30-18.20.43_MD589_2_0101_image_inverted_06_labeled_farsight.tif\n"
     ]
    },
    {
     "name": "stderr",
     "output_type": "stream",
     "text": [
      "Child returned 0\n"
     ]
    },
    {
     "name": "stdout",
     "output_type": "stream",
     "text": [
      "/home/yuncong/Farsight-0.4.4-Linux/bin/segment_nuclei /home/yuncong/CSHL_cells_v2/detected_cells/MD589/MD589-N34-2015.07.30-18.20.43_MD589_2_0101/MD589-N34-2015.07.30-18.20.43_MD589_2_0101_image_inverted_07.tif /home/yuncong/CSHL_cells_v2/detected_cells/MD589/MD589-N34-2015.07.30-18.20.43_MD589_2_0101/MD589-N34-2015.07.30-18.20.43_MD589_2_0101_image_inverted_07_labeled_farsight.tif\n"
     ]
    },
    {
     "name": "stderr",
     "output_type": "stream",
     "text": [
      "Child returned 0\n"
     ]
    },
    {
     "name": "stdout",
     "output_type": "stream",
     "text": [
      "/home/yuncong/Farsight-0.4.4-Linux/bin/segment_nuclei /home/yuncong/CSHL_cells_v2/detected_cells/MD589/MD589-N34-2015.07.30-18.20.43_MD589_2_0101/MD589-N34-2015.07.30-18.20.43_MD589_2_0101_image_inverted_08.tif /home/yuncong/CSHL_cells_v2/detected_cells/MD589/MD589-N34-2015.07.30-18.20.43_MD589_2_0101/MD589-N34-2015.07.30-18.20.43_MD589_2_0101_image_inverted_08_labeled_farsight.tif\n"
     ]
    },
    {
     "name": "stderr",
     "output_type": "stream",
     "text": [
      "Child returned 0\n"
     ]
    },
    {
     "name": "stdout",
     "output_type": "stream",
     "text": [
      "/home/yuncong/Farsight-0.4.4-Linux/bin/segment_nuclei /home/yuncong/CSHL_cells_v2/detected_cells/MD589/MD589-N34-2015.07.30-18.20.43_MD589_2_0101/MD589-N34-2015.07.30-18.20.43_MD589_2_0101_image_inverted_09.tif /home/yuncong/CSHL_cells_v2/detected_cells/MD589/MD589-N34-2015.07.30-18.20.43_MD589_2_0101/MD589-N34-2015.07.30-18.20.43_MD589_2_0101_image_inverted_09_labeled_farsight.tif\n"
     ]
    },
    {
     "name": "stderr",
     "output_type": "stream",
     "text": [
      "Child returned 0\n"
     ]
    },
    {
     "name": "stdout",
     "output_type": "stream",
     "text": [
      "/home/yuncong/Farsight-0.4.4-Linux/bin/segment_nuclei /home/yuncong/CSHL_cells_v2/detected_cells/MD589/MD589-N34-2015.07.30-18.20.43_MD589_2_0101/MD589-N34-2015.07.30-18.20.43_MD589_2_0101_image_inverted_10.tif /home/yuncong/CSHL_cells_v2/detected_cells/MD589/MD589-N34-2015.07.30-18.20.43_MD589_2_0101/MD589-N34-2015.07.30-18.20.43_MD589_2_0101_image_inverted_10_labeled_farsight.tif\n"
     ]
    },
    {
     "name": "stderr",
     "output_type": "stream",
     "text": [
      "Child returned 0\n"
     ]
    },
    {
     "name": "stdout",
     "output_type": "stream",
     "text": [
      "/home/yuncong/Farsight-0.4.4-Linux/bin/segment_nuclei /home/yuncong/CSHL_cells_v2/detected_cells/MD589/MD589-N34-2015.07.30-18.20.43_MD589_2_0101/MD589-N34-2015.07.30-18.20.43_MD589_2_0101_image_inverted_11.tif /home/yuncong/CSHL_cells_v2/detected_cells/MD589/MD589-N34-2015.07.30-18.20.43_MD589_2_0101/MD589-N34-2015.07.30-18.20.43_MD589_2_0101_image_inverted_11_labeled_farsight.tif\n"
     ]
    },
    {
     "name": "stderr",
     "output_type": "stream",
     "text": [
      "Child returned 0\n"
     ]
    }
   ],
   "source": [
    "# Use without parameters\n",
    "\n",
    "for input_fp, output_fp in zip(input_fps, output_fps):\n",
    "    execute_command(FARSIGHT_EXEC + ' %(input_fp)s %(output_fp)s' % \\\n",
    "                   dict(input_fp=input_fp,\n",
    "                        output_fp=output_fp))"
   ]
  },
  {
   "cell_type": "code",
   "execution_count": null,
   "metadata": {
    "collapsed": true,
    "scrolled": true
   },
   "outputs": [],
   "source": [
    "# Use with parameters\n",
    "\n",
    "FARSIGHT_PARAMS_FP = '/home/yuncong/CSHL_cells_v2/farsight_parameters.txt'\n",
    "\n",
    "with open(FARSIGHT_PARAMS_FP, 'w') as f:\n",
    "    f.write('! Segmentation parameters File\\n! All parameters are case sensitive\\n')\n",
    "    f.write('min_object_size 100\\n')\n",
    "\n",
    "for input_fp, output_fp in zip(input_fps, output_fps):\n",
    "\n",
    "    execute_command(FARSIGHT_EXEC + ' %(input_fp)s %(output_fp)s %(params)s' % \\\n",
    "               dict(input_fp=input_fp,\n",
    "                    output_fp=output_fp,\n",
    "                    params=FARSIGHT_PARAMS_FP))"
   ]
  },
  {
   "cell_type": "code",
   "execution_count": 8,
   "metadata": {
    "scrolled": true
   },
   "outputs": [
    {
     "name": "stdout",
     "output_type": "stream",
     "text": [
      "rm /home/yuncong/CSHL_cells_v2/detected_cells/MD589/MD589-N34-2015.07.30-18.20.43_MD589_2_0101/MD589-N34-2015.07.30-18.20.43_MD589_2_0101_image_inverted_00_seg_final.dat\n",
      "rm /home/yuncong/CSHL_cells_v2/detected_cells/MD589/MD589-N34-2015.07.30-18.20.43_MD589_2_0101/MD589-N34-2015.07.30-18.20.43_MD589_2_0101_image_inverted_00_seedPoints.txt\n",
      "rm /home/yuncong/CSHL_cells_v2/detected_cells/MD589/MD589-N34-2015.07.30-18.20.43_MD589_2_0101/MD589-N34-2015.07.30-18.20.43_MD589_2_0101_image_inverted_00_labeled_farsight.tif\n",
      "rm /home/yuncong/CSHL_cells_v2/detected_cells/MD589/MD589-N34-2015.07.30-18.20.43_MD589_2_0101/MD589-N34-2015.07.30-18.20.43_MD589_2_0101_image_inverted_01_seg_final.dat\n",
      "rm /home/yuncong/CSHL_cells_v2/detected_cells/MD589/MD589-N34-2015.07.30-18.20.43_MD589_2_0101/MD589-N34-2015.07.30-18.20.43_MD589_2_0101_image_inverted_01_seedPoints.txt\n",
      "rm /home/yuncong/CSHL_cells_v2/detected_cells/MD589/MD589-N34-2015.07.30-18.20.43_MD589_2_0101/MD589-N34-2015.07.30-18.20.43_MD589_2_0101_image_inverted_01_labeled_farsight.tif\n",
      "rm /home/yuncong/CSHL_cells_v2/detected_cells/MD589/MD589-N34-2015.07.30-18.20.43_MD589_2_0101/MD589-N34-2015.07.30-18.20.43_MD589_2_0101_image_inverted_02_seg_final.dat\n",
      "rm /home/yuncong/CSHL_cells_v2/detected_cells/MD589/MD589-N34-2015.07.30-18.20.43_MD589_2_0101/MD589-N34-2015.07.30-18.20.43_MD589_2_0101_image_inverted_02_seedPoints.txt\n"
     ]
    },
    {
     "name": "stderr",
     "output_type": "stream",
     "text": [
      "Child returned 0\n",
      "Child returned 0\n",
      "Child returned 0\n",
      "Child returned 0\n",
      "Child returned 0\n",
      "Child returned 0\n",
      "Child returned 0\n",
      "Child returned 0\n",
      "Child returned 0\n"
     ]
    },
    {
     "name": "stdout",
     "output_type": "stream",
     "text": [
      "rm /home/yuncong/CSHL_cells_v2/detected_cells/MD589/MD589-N34-2015.07.30-18.20.43_MD589_2_0101/MD589-N34-2015.07.30-18.20.43_MD589_2_0101_image_inverted_02_labeled_farsight.tif\n",
      "rm /home/yuncong/CSHL_cells_v2/detected_cells/MD589/MD589-N34-2015.07.30-18.20.43_MD589_2_0101/MD589-N34-2015.07.30-18.20.43_MD589_2_0101_image_inverted_03_seg_final.dat\n",
      "rm /home/yuncong/CSHL_cells_v2/detected_cells/MD589/MD589-N34-2015.07.30-18.20.43_MD589_2_0101/MD589-N34-2015.07.30-18.20.43_MD589_2_0101_image_inverted_03_seedPoints.txt\n",
      "rm /home/yuncong/CSHL_cells_v2/detected_cells/MD589/MD589-N34-2015.07.30-18.20.43_MD589_2_0101/MD589-N34-2015.07.30-18.20.43_MD589_2_0101_image_inverted_03_labeled_farsight.tif\n",
      "rm /home/yuncong/CSHL_cells_v2/detected_cells/MD589/MD589-N34-2015.07.30-18.20.43_MD589_2_0101/MD589-N34-2015.07.30-18.20.43_MD589_2_0101_image_inverted_04_seg_final.dat\n",
      "rm /home/yuncong/CSHL_cells_v2/detected_cells/MD589/MD589-N34-2015.07.30-18.20.43_MD589_2_0101/MD589-N34-2015.07.30-18.20.43_MD589_2_0101_image_inverted_04_seedPoints.txt\n",
      "rm /home/yuncong/CSHL_cells_v2/detected_cells/MD589/MD589-N34-2015.07.30-18.20.43_MD589_2_0101/MD589-N34-2015.07.30-18.20.43_MD589_2_0101_image_inverted_04_labeled_farsight.tif\n",
      "rm /home/yuncong/CSHL_cells_v2/detected_cells/MD589/MD589-N34-2015.07.30-18.20.43_MD589_2_0101/MD589-N34-2015.07.30-18.20.43_MD589_2_0101_image_inverted_05_seg_final.dat\n",
      "rm /home/yuncong/CSHL_cells_v2/detected_cells/MD589/MD589-N34-2015.07.30-18.20.43_MD589_2_0101/MD589-N34-2015.07.30-18.20.43_MD589_2_0101_image_inverted_05_seedPoints.txt\n"
     ]
    },
    {
     "name": "stderr",
     "output_type": "stream",
     "text": [
      "Child returned 0\n",
      "Child returned 1\n",
      "Child returned 0\n",
      "Child returned 0\n",
      "Child returned 0\n",
      "Child returned 0\n",
      "Child returned 0\n",
      "Child returned 0\n",
      "Child returned 0\n"
     ]
    },
    {
     "name": "stdout",
     "output_type": "stream",
     "text": [
      "rm /home/yuncong/CSHL_cells_v2/detected_cells/MD589/MD589-N34-2015.07.30-18.20.43_MD589_2_0101/MD589-N34-2015.07.30-18.20.43_MD589_2_0101_image_inverted_05_labeled_farsight.tif\n",
      "rm /home/yuncong/CSHL_cells_v2/detected_cells/MD589/MD589-N34-2015.07.30-18.20.43_MD589_2_0101/MD589-N34-2015.07.30-18.20.43_MD589_2_0101_image_inverted_06_seg_final.dat\n",
      "rm /home/yuncong/CSHL_cells_v2/detected_cells/MD589/MD589-N34-2015.07.30-18.20.43_MD589_2_0101/MD589-N34-2015.07.30-18.20.43_MD589_2_0101_image_inverted_06_seedPoints.txt\n",
      "rm /home/yuncong/CSHL_cells_v2/detected_cells/MD589/MD589-N34-2015.07.30-18.20.43_MD589_2_0101/MD589-N34-2015.07.30-18.20.43_MD589_2_0101_image_inverted_06_labeled_farsight.tif\n",
      "rm /home/yuncong/CSHL_cells_v2/detected_cells/MD589/MD589-N34-2015.07.30-18.20.43_MD589_2_0101/MD589-N34-2015.07.30-18.20.43_MD589_2_0101_image_inverted_07_seg_final.dat\n",
      "rm /home/yuncong/CSHL_cells_v2/detected_cells/MD589/MD589-N34-2015.07.30-18.20.43_MD589_2_0101/MD589-N34-2015.07.30-18.20.43_MD589_2_0101_image_inverted_07_seedPoints.txt\n",
      "rm /home/yuncong/CSHL_cells_v2/detected_cells/MD589/MD589-N34-2015.07.30-18.20.43_MD589_2_0101/MD589-N34-2015.07.30-18.20.43_MD589_2_0101_image_inverted_07_labeled_farsight.tif\n",
      "rm /home/yuncong/CSHL_cells_v2/detected_cells/MD589/MD589-N34-2015.07.30-18.20.43_MD589_2_0101/MD589-N34-2015.07.30-18.20.43_MD589_2_0101_image_inverted_08_seg_final.dat\n",
      "rm /home/yuncong/CSHL_cells_v2/detected_cells/MD589/MD589-N34-2015.07.30-18.20.43_MD589_2_0101/MD589-N34-2015.07.30-18.20.43_MD589_2_0101_image_inverted_08_seedPoints.txt\n",
      "rm /home/yuncong/CSHL_cells_v2/detected_cells/MD589/MD589-N34-2015.07.30-18.20.43_MD589_2_0101/MD589-N34-2015.07.30-18.20.43_MD589_2_0101_image_inverted_08_labeled_farsight.tif\n",
      "rm /home/yuncong/CSHL_cells_v2/detected_cells/MD589/MD589-N34-2015.07.30-18.20.43_MD589_2_0101/MD589-N34-2015.07.30-18.20.43_MD589_2_0101_image_inverted_09_seg_final.dat\n",
      "rm /home/yuncong/CSHL_cells_v2/detected_cells/MD589/MD589-N34-2015.07.30-18.20.43_MD589_2_0101/MD589-N34-2015.07.30-18.20.43_MD589_2_0101_image_inverted_09_seedPoints.txt\n"
     ]
    },
    {
     "name": "stderr",
     "output_type": "stream",
     "text": [
      "Child returned 0\n",
      "Child returned 0\n",
      "Child returned 0\n",
      "Child returned 0\n",
      "Child returned 1\n",
      "Child returned 0\n",
      "Child returned 0\n",
      "Child returned 0\n",
      "Child returned 0\n",
      "Child returned 0\n",
      "Child returned 0\n",
      "Child returned 0\n",
      "Child returned 0\n",
      "Child returned 0\n",
      "Child returned 0\n"
     ]
    },
    {
     "name": "stdout",
     "output_type": "stream",
     "text": [
      "rm /home/yuncong/CSHL_cells_v2/detected_cells/MD589/MD589-N34-2015.07.30-18.20.43_MD589_2_0101/MD589-N34-2015.07.30-18.20.43_MD589_2_0101_image_inverted_09_labeled_farsight.tif\n",
      "rm /home/yuncong/CSHL_cells_v2/detected_cells/MD589/MD589-N34-2015.07.30-18.20.43_MD589_2_0101/MD589-N34-2015.07.30-18.20.43_MD589_2_0101_image_inverted_10_seg_final.dat\n",
      "rm /home/yuncong/CSHL_cells_v2/detected_cells/MD589/MD589-N34-2015.07.30-18.20.43_MD589_2_0101/MD589-N34-2015.07.30-18.20.43_MD589_2_0101_image_inverted_10_seedPoints.txt\n",
      "rm /home/yuncong/CSHL_cells_v2/detected_cells/MD589/MD589-N34-2015.07.30-18.20.43_MD589_2_0101/MD589-N34-2015.07.30-18.20.43_MD589_2_0101_image_inverted_10_labeled_farsight.tif\n",
      "rm /home/yuncong/CSHL_cells_v2/detected_cells/MD589/MD589-N34-2015.07.30-18.20.43_MD589_2_0101/MD589-N34-2015.07.30-18.20.43_MD589_2_0101_image_inverted_11_seg_final.dat\n",
      "rm /home/yuncong/CSHL_cells_v2/detected_cells/MD589/MD589-N34-2015.07.30-18.20.43_MD589_2_0101/MD589-N34-2015.07.30-18.20.43_MD589_2_0101_image_inverted_11_seedPoints.txt\n",
      "rm /home/yuncong/CSHL_cells_v2/detected_cells/MD589/MD589-N34-2015.07.30-18.20.43_MD589_2_0101/MD589-N34-2015.07.30-18.20.43_MD589_2_0101_image_inverted_11_labeled_farsight.tif\n"
     ]
    },
    {
     "name": "stderr",
     "output_type": "stream",
     "text": [
      "Child returned 0\n",
      "Child returned 0\n",
      "Child returned 0\n"
     ]
    }
   ],
   "source": [
    "for input_fp in input_fps:\n",
    "    prefix = os.path.splitext(input_fp)[0]\n",
    "    labelmap = imread(prefix + '_labeled_farsight.tif')\n",
    "    bp.pack_ndarray_file(labelmap, prefix + '_labelmap_farsight.bp')\n",
    "    execute_command('rm ' + prefix + '_seg_final.dat')\n",
    "    execute_command('rm ' + prefix + '_seedPoints.txt')\n",
    "    execute_command('rm ' + prefix + '_labeled_farsight.tif')"
   ]
  },
  {
   "cell_type": "markdown",
   "metadata": {},
   "source": [
    "# Cell Profiler"
   ]
  },
  {
   "cell_type": "code",
   "execution_count": 5,
   "metadata": {
    "collapsed": true
   },
   "outputs": [],
   "source": [
    "CELLPROFILER_EXEC = 'cellprofiler' # /usr/local/bin/cellprofiler"
   ]
  },
  {
   "cell_type": "code",
   "execution_count": 6,
   "metadata": {
    "collapsed": true
   },
   "outputs": [],
   "source": [
    "CELLPROFILER_PIPELINE_FP = '/home/yuncong/CSHL_cells_v2/SegmentCells.cppipe'"
   ]
  },
  {
   "cell_type": "code",
   "execution_count": 7,
   "metadata": {
    "collapsed": true
   },
   "outputs": [],
   "source": [
    "with open('/tmp/cellprofiler_filelist.txt', 'w') as f:\n",
    "    for input_fp in input_fps:\n",
    "        f.write(input_fp + '\\n')"
   ]
  },
  {
   "cell_type": "code",
   "execution_count": 8,
   "metadata": {},
   "outputs": [
    {
     "name": "stdout",
     "output_type": "stream",
     "text": [
      "cellprofiler -c --file-list=/tmp/cellprofiler_filelist.txt -p /home/yuncong/CSHL_cells_v2/SegmentCells.cppipe\n"
     ]
    },
    {
     "name": "stderr",
     "output_type": "stream",
     "text": [
      "Child returned 0\n"
     ]
    }
   ],
   "source": [
    "t = time.time()\n",
    "\n",
    "execute_command(CELLPROFILER_EXEC + ' -c --file-list=/tmp/cellprofiler_filelist.txt -p %(pipeline_fp)s' % dict(pipeline_fp=CELLPROFILER_PIPELINE_FP))\n",
    "\n",
    "sys.stderr.write('Cell profiler: %.2f seconds.\\n' % (time.time()-t))"
   ]
  },
  {
   "cell_type": "code",
   "execution_count": 9,
   "metadata": {
    "scrolled": true
   },
   "outputs": [
    {
     "name": "stderr",
     "output_type": "stream",
     "text": [
      "Child returned 0\n"
     ]
    },
    {
     "name": "stdout",
     "output_type": "stream",
     "text": [
      "rm /home/yuncong/CSHL_cells_v2/detected_cells/MD589/MD589-N47-2015.07.30-19.12.19_MD589_1_0139/MD589-N47-2015.07.30-19.12.19_MD589_1_0139_image_inverted_00_labeled.mat\n",
      "rm /home/yuncong/CSHL_cells_v2/detected_cells/MD589/MD589-N47-2015.07.30-19.12.19_MD589_1_0139/MD589-N47-2015.07.30-19.12.19_MD589_1_0139_image_inverted_01_labeled.mat\n",
      "rm /home/yuncong/CSHL_cells_v2/detected_cells/MD589/MD589-N47-2015.07.30-19.12.19_MD589_1_0139/MD589-N47-2015.07.30-19.12.19_MD589_1_0139_image_inverted_02_labeled.mat\n"
     ]
    },
    {
     "name": "stderr",
     "output_type": "stream",
     "text": [
      "Child returned 0\n",
      "Child returned 0\n",
      "Child returned 0\n"
     ]
    },
    {
     "name": "stdout",
     "output_type": "stream",
     "text": [
      "rm /home/yuncong/CSHL_cells_v2/detected_cells/MD589/MD589-N47-2015.07.30-19.12.19_MD589_1_0139/MD589-N47-2015.07.30-19.12.19_MD589_1_0139_image_inverted_03_labeled.mat\n",
      "rm /home/yuncong/CSHL_cells_v2/detected_cells/MD589/MD589-N47-2015.07.30-19.12.19_MD589_1_0139/MD589-N47-2015.07.30-19.12.19_MD589_1_0139_image_inverted_04_labeled.mat\n"
     ]
    },
    {
     "name": "stderr",
     "output_type": "stream",
     "text": [
      "Child returned 0\n",
      "Child returned 0\n",
      "Child returned 0\n",
      "Child returned 0\n"
     ]
    },
    {
     "name": "stdout",
     "output_type": "stream",
     "text": [
      "rm /home/yuncong/CSHL_cells_v2/detected_cells/MD589/MD589-N47-2015.07.30-19.12.19_MD589_1_0139/MD589-N47-2015.07.30-19.12.19_MD589_1_0139_image_inverted_05_labeled.mat\n",
      "rm /home/yuncong/CSHL_cells_v2/detected_cells/MD589/MD589-N47-2015.07.30-19.12.19_MD589_1_0139/MD589-N47-2015.07.30-19.12.19_MD589_1_0139_image_inverted_06_labeled.mat\n",
      "rm /home/yuncong/CSHL_cells_v2/detected_cells/MD589/MD589-N47-2015.07.30-19.12.19_MD589_1_0139/MD589-N47-2015.07.30-19.12.19_MD589_1_0139_image_inverted_07_labeled.mat\n",
      "rm /home/yuncong/CSHL_cells_v2/detected_cells/MD589/MD589-N47-2015.07.30-19.12.19_MD589_1_0139/MD589-N47-2015.07.30-19.12.19_MD589_1_0139_image_inverted_08_labeled.mat\n",
      "rm /home/yuncong/CSHL_cells_v2/detected_cells/MD589/MD589-N47-2015.07.30-19.12.19_MD589_1_0139/MD589-N47-2015.07.30-19.12.19_MD589_1_0139_image_inverted_09_labeled.mat\n"
     ]
    },
    {
     "name": "stderr",
     "output_type": "stream",
     "text": [
      "Child returned 0\n",
      "Child returned 0\n",
      "Child returned 0\n"
     ]
    },
    {
     "name": "stdout",
     "output_type": "stream",
     "text": [
      "rm /home/yuncong/CSHL_cells_v2/detected_cells/MD589/MD589-N47-2015.07.30-19.12.19_MD589_1_0139/MD589-N47-2015.07.30-19.12.19_MD589_1_0139_image_inverted_10_labeled.mat\n",
      "rm /home/yuncong/CSHL_cells_v2/detected_cells/MD589/MD589-N47-2015.07.30-19.12.19_MD589_1_0139/MD589-N47-2015.07.30-19.12.19_MD589_1_0139_image_inverted_11_labeled.mat\n"
     ]
    },
    {
     "name": "stderr",
     "output_type": "stream",
     "text": [
      "Child returned 0\n"
     ]
    }
   ],
   "source": [
    "from scipy.io import loadmat\n",
    "\n",
    "for input_fp in input_fps:\n",
    "    prefix = os.path.splitext(input_fp)[0]\n",
    "    labelmap = loadmat(prefix + '_labeled.mat')['Image']\n",
    "    bp.pack_ndarray_file(labelmap, prefix + '_labelmap_cellprofiler.bp')\n",
    "    execute_command('rm ' + prefix + '_labeled.mat')"
   ]
  },
  {
   "cell_type": "markdown",
   "metadata": {},
   "source": [
    "# Mosaic"
   ]
  },
  {
   "cell_type": "code",
   "execution_count": 10,
   "metadata": {
    "collapsed": true
   },
   "outputs": [],
   "source": [
    "# tile_h, tile_w = (5000, 5000)\n",
    "\n",
    "origins = []\n",
    "for iy, y0 in enumerate(np.arange(0, img_h, 5000)):\n",
    "    for ix, x0 in enumerate(np.arange(0, img_w, 5000)):\n",
    "        origins.append((x0, y0))"
   ]
  },
  {
   "cell_type": "code",
   "execution_count": 11,
   "metadata": {
    "collapsed": true
   },
   "outputs": [],
   "source": [
    "alg = 'cellprofiler'\n",
    "# alg = 'farsight'"
   ]
  },
  {
   "cell_type": "code",
   "execution_count": 12,
   "metadata": {
    "collapsed": true
   },
   "outputs": [],
   "source": [
    "big_labelmap = np.zeros((img_h, img_w), dtype=np.int64)\n",
    "\n",
    "n = 0\n",
    "\n",
    "for i, input_fp in enumerate(input_fps):\n",
    "    prefix = os.path.splitext(input_fp)[0]\n",
    "    labelmap = bp.unpack_ndarray_file(prefix + '_labelmap_%(alg)s.bp' % dict(alg=alg)).astype(np.int64)\n",
    "    \n",
    "    x0, y0 = origins[i]\n",
    "    big_labelmap[y0:y0+5000, x0:x0+5000][labelmap != 0] = labelmap[labelmap != 0] + n\n",
    "    n += labelmap.max()"
   ]
  },
  {
   "cell_type": "code",
   "execution_count": 13,
   "metadata": {
    "collapsed": true
   },
   "outputs": [],
   "source": [
    "bp.pack_ndarray_file(big_labelmap, os.path.splitext(input_img_fp)[0] + '_labelmap_%(alg)s.bp' % dict(alg=alg))"
   ]
  },
  {
   "cell_type": "code",
   "execution_count": 14,
   "metadata": {},
   "outputs": [
    {
     "name": "stderr",
     "output_type": "stream",
     "text": [
      "/usr/local/lib/python2.7/dist-packages/skimage/util/dtype.py:110: UserWarning: Possible precision loss when converting from float64 to uint8\n",
      "  \"%s to %s\" % (dtypeobj_in, dtypeobj))\n"
     ]
    }
   ],
   "source": [
    "viz = img_as_ubyte(label2rgb(big_labelmap, bg_label=0, bg_color=(0, 0, 0)))"
   ]
  },
  {
   "cell_type": "code",
   "execution_count": 15,
   "metadata": {
    "collapsed": true
   },
   "outputs": [],
   "source": [
    "cv2.imwrite(os.path.splitext(input_img_fp)[0] + '_labelmap_%(alg)s.png' % dict(alg=alg), viz);"
   ]
  },
  {
   "cell_type": "code",
   "execution_count": null,
   "metadata": {
    "collapsed": true
   },
   "outputs": [],
   "source": []
  }
 ],
 "metadata": {
  "kernelspec": {
   "display_name": "Python 2",
   "language": "python",
   "name": "python2"
  },
  "language_info": {
   "codemirror_mode": {
    "name": "ipython",
    "version": 2
   },
   "file_extension": ".py",
   "mimetype": "text/x-python",
   "name": "python",
   "nbconvert_exporter": "python",
   "pygments_lexer": "ipython2",
   "version": "2.7.12"
  }
 },
 "nbformat": 4,
 "nbformat_minor": 1
}
