{
 "cells": [
  {
   "cell_type": "code",
   "execution_count": 1,
   "metadata": {},
   "outputs": [
    {
     "name": "stderr",
     "output_type": "stream",
     "text": [
      "/usr/local/lib/python2.7/dist-packages/matplotlib/__init__.py:1401: UserWarning:  This call to matplotlib.use() has no effect\n",
      "because the backend has already been chosen;\n",
      "matplotlib.use() must be called *before* pylab, matplotlib.pyplot,\n",
      "or matplotlib.backends is imported for the first time.\n",
      "\n",
      "  warnings.warn(_use_error_msg)\n"
     ]
    },
    {
     "name": "stdout",
     "output_type": "stream",
     "text": [
      "Setting environment for AWS compute node\n"
     ]
    },
    {
     "name": "stderr",
     "output_type": "stream",
     "text": [
      "No vtk\n",
      "File does not exist: /shared/CSHL_data_processed/MD635/MD635_anchor.txt\n",
      "File does not exist: /shared/CSHL_data_processed/MD635/MD635_sorted_filenames.txt\n",
      "File does not exist: /shared/CSHL_data_processed/MD635/MD635_cropbox.txt\n",
      "File does not exist: /shared/CSHL_data_processed/MD635/MD635_cropbox.txt\n",
      "File does not exist: /shared/CSHL_data_processed/MD653/MD653_anchor.txt\n",
      "File does not exist: /shared/CSHL_data_processed/MD653/MD653_sorted_filenames.txt\n",
      "File does not exist: /shared/CSHL_data_processed/MD653/MD653_cropbox.txt\n",
      "File does not exist: /shared/CSHL_data_processed/MD653/MD653_cropbox.txt\n",
      "File does not exist: /shared/CSHL_data_processed/MD652/MD652_anchor.txt\n",
      "File does not exist: /shared/CSHL_data_processed/MD652/MD652_sorted_filenames.txt\n",
      "File does not exist: /shared/CSHL_data_processed/MD652/MD652_cropbox.txt\n",
      "File does not exist: /shared/CSHL_data_processed/MD652/MD652_cropbox.txt\n",
      "File does not exist: /shared/CSHL_data_processed/MD642/MD642_anchor.txt\n",
      "File does not exist: /shared/CSHL_data_processed/MD642/MD642_sorted_filenames.txt\n",
      "File does not exist: /shared/CSHL_data_processed/MD642/MD642_cropbox.txt\n",
      "File does not exist: /shared/CSHL_data_processed/MD642/MD642_cropbox.txt\n",
      "File does not exist: /shared/CSHL_data_processed/MD657/MD657_anchor.txt\n",
      "File does not exist: /shared/CSHL_data_processed/MD657/MD657_sorted_filenames.txt\n",
      "File does not exist: /shared/CSHL_data_processed/MD657/MD657_cropbox.txt\n",
      "File does not exist: /shared/CSHL_data_processed/MD657/MD657_cropbox.txt\n"
     ]
    }
   ],
   "source": [
    "%reload_ext autoreload\n",
    "%autoreload 2\n",
    "\n",
    "import os\n",
    "import sys\n",
    "import time\n",
    "\n",
    "import matplotlib.pyplot as plt\n",
    "%matplotlib inline\n",
    "from matplotlib.path import Path\n",
    "from multiprocess import Pool\n",
    "from scipy.spatial.kdtree import KDTree\n",
    "from scipy.spatial.distance import cdist, pdist\n",
    "\n",
    "sys.path.append(os.path.join(os.environ['REPO_DIR'], 'utilities'))\n",
    "from utilities2015 import *\n",
    "from data_manager import *\n",
    "from metadata import *\n",
    "from cell_utilities import *\n",
    "from learning_utilities import *"
   ]
  },
  {
   "cell_type": "code",
   "execution_count": 2,
   "metadata": {},
   "outputs": [],
   "source": [
    "n_orientation_bins = 10\n",
    "orientation_bins = np.linspace(-np.pi/2, np.pi/2, n_orientation_bins+1)\n",
    "\n",
    "size_bins = np.r_[np.linspace(0, 3000, 10), np.inf]\n",
    "\n",
    "n_edge_length_bins = 10\n",
    "edge_length_bins = np.r_[np.linspace(0, 100, n_edge_length_bins), np.inf]\n",
    "\n",
    "n_edge_direction_bins = 10\n",
    "edge_direction_bins = np.linspace(-np.pi/2, np.pi/2, n_edge_direction_bins+1)"
   ]
  },
  {
   "cell_type": "code",
   "execution_count": 3,
   "metadata": {},
   "outputs": [
    {
     "name": "stdout",
     "output_type": "stream",
     "text": [
      "neighborhood_radius = 108.70 pixels\n"
     ]
    }
   ],
   "source": [
    "neighborhood_radius_um = 50\n",
    "neighborhood_radius = neighborhood_radius_um / XY_PIXEL_DISTANCE_LOSSLESS\n",
    "print 'neighborhood_radius = %.2f pixels' % neighborhood_radius"
   ]
  },
  {
   "cell_type": "code",
   "execution_count": 4,
   "metadata": {
    "collapsed": true
   },
   "outputs": [],
   "source": [
    "n_radial = 4\n",
    "# radial_bins = np.logspace(0, 2, 10, base=10)\n",
    "radial_bins = np.linspace(0, 100, n_radial+1)\n",
    "\n",
    "n_angular = 8\n",
    "angular_bins = np.linspace(-np.pi, np.pi, n_angular+1)"
   ]
  },
  {
   "cell_type": "code",
   "execution_count": 7,
   "metadata": {
    "scrolled": true
   },
   "outputs": [
    {
     "name": "stderr",
     "output_type": "stream",
     "text": [
      "Section 208\n",
      "Neighbor search: 7.91 seconds\n",
      "Compute radial-angular histograms: 0.76 seconds\n"
     ]
    }
   ],
   "source": [
    "# for stack in all_nissl_stacks:\n",
    "for stack in ['MD589']:\n",
    "    \n",
    "    first_section, last_section = metadata_cache['section_limits'][stack]\n",
    "    \n",
    "#     for sec in range(first_section, last_section+1):\n",
    "    for sec in [208]:\n",
    "\n",
    "        sys.stderr.write('Section %d\\n' % sec) # 5-9 seconds\n",
    "\n",
    "        if is_invalid(stack=stack, sec=sec):\n",
    "            continue\n",
    "        \n",
    "        cell_centroids = load_cell_data('centroid', stack, sec, ext='bp')\n",
    "        \n",
    "        t = time.time()\n",
    "\n",
    "        tree = KDTree(cell_centroids)\n",
    "        \n",
    "        def get_neighbors(cell_ind):\n",
    "            \"\"\"\n",
    "            Return neighbor cell indices sorted by distance.\n",
    "            \"\"\"\n",
    "            neighbor_cell_indices = np.array(list(set(tree.query_ball_point(cell_centroids[cell_ind], r=neighborhood_radius)) - {cell_ind}))\n",
    "            if len(neighbor_cell_indices) == 0:\n",
    "                return None\n",
    "            ngbr_vecs = cell_centroids[cell_ind] - cell_centroids[neighbor_cell_indices]\n",
    "            neighbor_distances = np.sqrt(np.sum(ngbr_vecs**2, axis=1))\n",
    "            order = np.argsort(neighbor_distances)\n",
    "            return neighbor_cell_indices[order], ngbr_vecs[order]\n",
    "                \n",
    "        large_cell_indices = load_cell_data('largeCellIndices', stack=stack, sec=sec, ext='bp')\n",
    "\n",
    "        pool = Pool(12)\n",
    "        neighbor_info = pool.map(get_neighbors, large_cell_indices)\n",
    "        pool.terminate()\n",
    "        pool.join()\n",
    "\n",
    "        sys.stderr.write('Neighbor search: %.2f seconds\\n' % (time.time()-t)) # 5-9 seconds\n",
    "        \n",
    "        neighbor_cell_indices = {}\n",
    "        neighbor_vectors = {}\n",
    "        for cell_ind, ni in zip(large_cell_indices, neighbor_info):\n",
    "            if ni is None:\n",
    "                neighbor_cell_indices[cell_ind] = []\n",
    "                neighbor_vectors[cell_ind] = []\n",
    "            else:\n",
    "                nci, nbr_vecs = ni\n",
    "                neighbor_cell_indices[cell_ind] = nci\n",
    "                neighbor_vectors[cell_ind] = nbr_vecs\n",
    "    \n",
    "        # Compute radial-angular histogram\n",
    "        cell_orientations = load_cell_data('orientation', stack, sec)\n",
    "        cell_orientations = np.array(map(normalize_angle, cell_orientations))\n",
    "\n",
    "        t = time.time()\n",
    "        \n",
    "        radial_indices_all_cells = {}\n",
    "        angular_indices_all_cells = {}\n",
    "        for cell_ind, nbr_vecs in neighbor_vectors.iteritems():\n",
    "            if len(nbr_vecs) == 0:\n",
    "                radial_indices = []\n",
    "                angular_indices = []\n",
    "            else:\n",
    "                radial_indices, angular_indices = \\\n",
    "                allocate_radial_angular_bins(nbr_vecs, cell_orientations[cell_ind],\n",
    "                                            angular_bins=angular_bins, radial_bins=radial_bins)\n",
    "            radial_indices_all_cells[cell_ind] = radial_indices\n",
    "            angular_indices_all_cells[cell_ind] = angular_indices\n",
    "        \n",
    "        sys.stderr.write('Compute radial-angular histograms: %.2f seconds\\n' % (time.time()-t)) # 1s\n",
    "            \n",
    "#         # Dump to disk.\n",
    "#         fp = get_cell_data_filepath(what='neighborCellIndices', stack=stack, sec=sec, ext='hdf')\n",
    "#         save_hdf_v2(neighbor_cell_indices, fp)\n",
    "\n",
    "#         fp = get_cell_data_filepath(what='neighborVectors', stack=stack, sec=sec, ext='hdf')\n",
    "#         save_hdf_v2(neighbor_vectors, fp)\n",
    "\n",
    "#         fp = get_cell_data_filepath(what='neighborRadialHistBins', stack=stack, sec=sec, ext='hdf')\n",
    "#         save_hdf_v2(radial_indices_all_cells, fp)\n",
    "\n",
    "#         fp = get_cell_data_filepath(what='neighborAngularHistBins', stack=stack, sec=sec, ext='hdf')\n",
    "#         save_hdf_v2(angular_indices_all_cells, fp)"
   ]
  }
 ],
 "metadata": {
  "kernelspec": {
   "display_name": "Python 2",
   "language": "python",
   "name": "python2"
  },
  "language_info": {
   "codemirror_mode": {
    "name": "ipython",
    "version": 2
   },
   "file_extension": ".py",
   "mimetype": "text/x-python",
   "name": "python",
   "nbconvert_exporter": "python",
   "pygments_lexer": "ipython2",
   "version": "2.7.12"
  }
 },
 "nbformat": 4,
 "nbformat_minor": 1
}
