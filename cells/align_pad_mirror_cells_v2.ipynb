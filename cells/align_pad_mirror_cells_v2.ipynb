{
 "cells": [
  {
   "cell_type": "code",
   "execution_count": 1,
   "metadata": {},
   "outputs": [
    {
     "name": "stderr",
     "output_type": "stream",
     "text": [
      "/usr/local/lib/python2.7/dist-packages/matplotlib/__init__.py:1405: UserWarning: \n",
      "This call to matplotlib.use() has no effect because the backend has already\n",
      "been chosen; matplotlib.use() must be called *before* pylab, matplotlib.pyplot,\n",
      "or matplotlib.backends is imported for the first time.\n",
      "\n",
      "  warnings.warn(_use_error_msg)\n"
     ]
    },
    {
     "name": "stdout",
     "output_type": "stream",
     "text": [
      "Setting environment for AWS compute node\n",
      "rm -rf /shared/CSHL_data_processed/MD635/MD635_alignedTo_MD635-F63-2016.05.19-08.39.03_MD635_2_0188_cropbox.txt && mkdir -p /shared/CSHL_data_processed/MD635\n",
      "aws s3 cp s3://mousebrainatlas-data/CSHL_data_processed/MD635/MD635_alignedTo_MD635-F63-2016.05.19-08.39.03_MD635_2_0188_cropbox.txt /shared/CSHL_data_processed/MD635/MD635_alignedTo_MD635-F63-2016.05.19-08.39.03_MD635_2_0188_cropbox.txt\n"
     ]
    },
    {
     "name": "stderr",
     "output_type": "stream",
     "text": [
      "No vtk\n",
      "Child returned 0\n",
      "Child returned 1\n",
      "0.38 seconds.\n",
      "File does not exist: /shared/CSHL_data_processed/MD635/MD635_alignedTo_MD635-F63-2016.05.19-08.39.03_MD635_2_0188_cropbox.txt\n",
      "Child returned 0\n"
     ]
    },
    {
     "name": "stdout",
     "output_type": "stream",
     "text": [
      "rm -rf /shared/CSHL_data_processed/MD635/MD635_alignedTo_MD635-F63-2016.05.19-08.39.03_MD635_2_0188_cropbox.txt && mkdir -p /shared/CSHL_data_processed/MD635\n",
      "aws s3 cp s3://mousebrainatlas-data/CSHL_data_processed/MD635/MD635_alignedTo_MD635-F63-2016.05.19-08.39.03_MD635_2_0188_cropbox.txt /shared/CSHL_data_processed/MD635/MD635_alignedTo_MD635-F63-2016.05.19-08.39.03_MD635_2_0188_cropbox.txt\n"
     ]
    },
    {
     "name": "stderr",
     "output_type": "stream",
     "text": [
      "Child returned 1\n",
      "0.36 seconds.\n",
      "File does not exist: /shared/CSHL_data_processed/MD635/MD635_alignedTo_MD635-F63-2016.05.19-08.39.03_MD635_2_0188_cropbox.txt\n"
     ]
    }
   ],
   "source": [
    "%reload_ext autoreload\n",
    "%autoreload 2\n",
    "\n",
    "import os\n",
    "import sys\n",
    "import time\n",
    "\n",
    "import matplotlib.pyplot as plt\n",
    "%matplotlib inline\n",
    "from skimage.transform import rotate\n",
    "from multiprocess import Pool\n",
    "\n",
    "sys.path.append(os.path.join(os.environ['REPO_DIR'], 'utilities'))\n",
    "from utilities2015 import *\n",
    "from data_manager import *\n",
    "from metadata import *\n",
    "from cell_utilities import *"
   ]
  },
  {
   "cell_type": "code",
   "execution_count": 2,
   "metadata": {
    "collapsed": true
   },
   "outputs": [],
   "source": [
    "def align_pad_cells(stack, sec, common_shape):\n",
    "    \"\"\"\n",
    "    Rotate cells so that its major axis is horizontal, AND centroid is at the upper-right quadrant of bbox.\n",
    "    Output as bp file.\n",
    "    \"\"\"\n",
    "\n",
    "    sys.stderr.write('Processing section: %03d\\n' % sec)\n",
    "\n",
    "    try:\n",
    "        blob_orientations = load_cell_data('orientation', stack, sec)\n",
    "        blob_masks = load_cell_data('mask', stack, sec)\n",
    "        blob_mask_centers = load_cell_data('mask_center', stack, sec)\n",
    "    except:\n",
    "        sys.stderr.write('ERROR: %d\\n' % sec)\n",
    "        return\n",
    "\n",
    "    n_blobs = len(blob_masks)\n",
    "\n",
    "    t = time.time()\n",
    "\n",
    "    # Align major axis\n",
    "    cells_aligned = [rotate(blob_masks[i], angle=-np.rad2deg(blob_orientations[i]),\n",
    "                               center=blob_mask_centers[i],\n",
    "                               cval=0.) > .5\n",
    "                    for i in range(n_blobs)]\n",
    "    \n",
    "    # Mirror\n",
    "    # Put mask centroid in the upper-right quadrant of bbox.\n",
    "    \n",
    "    cells_aligned_mirrored = []\n",
    "    mirror_directions = []\n",
    "    \n",
    "    for i in range(n_blobs):\n",
    "        m = cells_aligned[i]\n",
    "        bbox_cx = m.shape[1]/2\n",
    "        bbox_cy = m.shape[0]/2\n",
    "        mask_cx, mask_cy = blob_mask_centers[i]\n",
    "#         m[mask_cy, mask_cx] = 0\n",
    "#         m[bbox_cy-1:bbox_cy+2, bbox_cx-1:bbox_cx+2] = 0\n",
    "        if mask_cx > bbox_cx:\n",
    "            if mask_cy > bbox_cy:\n",
    "                cells_aligned_mirrored.append(m[::-1, :])\n",
    "                mirror = 1 # vertical flip\n",
    "            else:\n",
    "                cells_aligned_mirrored.append(m)\n",
    "                mirror = 0\n",
    "        else:\n",
    "            if mask_cy > bbox_cy:\n",
    "                cells_aligned_mirrored.append(m[::-1, ::-1])\n",
    "                mirror = 3 # diagonal flip\n",
    "            else:\n",
    "                cells_aligned_mirrored.append(m[:, ::-1])\n",
    "                mirror = 2 # horizontal flip\n",
    "        mirror_directions.append(mirror)\n",
    "    \n",
    "    sys.stderr.write('Rotate cell masks: %.2f seconds.\\n' % (time.time() - t)) # 60s\n",
    "\n",
    "    cells_padded = pad_patches_to_same_size(cells_aligned_mirrored, pad_value=0, keep_center=True, common_shape=common_shape)\n",
    "    cells_padded_fp = get_cell_data_filepath('cells_aligned_mirrored_padded', stack, sec=sec, ext='bp')\n",
    "    bp.pack_ndarray_file(np.asarray(cells_padded), cells_padded_fp)\n",
    "    upload_to_s3(cells_padded_fp)\n",
    "    \n",
    "    cells_mirror_direction_fp = get_cell_data_filepath('cells_aligned_mirrorDirections', stack, sec=sec, ext='bp')\n",
    "    bp.pack_ndarray_file(np.asarray(mirror_directions), cells_mirror_direction_fp)\n",
    "    upload_to_s3(cells_mirror_direction_fp)    \n",
    "    \n",
    "    #     return cells_padded"
   ]
  },
  {
   "cell_type": "code",
   "execution_count": 4,
   "metadata": {
    "collapsed": true
   },
   "outputs": [],
   "source": [
    "# all_shapes = []\n",
    "# for sec in range(first_bs_section, last_bs_section+1):\n",
    "#     masks = load_cell_data('mask', stack=stack, sec=sec)\n",
    "#     if masks is not None:\n",
    "#         shapes = [m.shape for m in masks.tolist()]\n",
    "#         all_shapes += shapes\n",
    "\n",
    "# common_shape = np.percentile(all_shapes, 99, axis=0).astype(np.int)\n",
    "# print common_shape\n",
    "\n",
    "common_shape = (57,62)"
   ]
  },
  {
   "cell_type": "code",
   "execution_count": null,
   "metadata": {
    "scrolled": true
   },
   "outputs": [
    {
     "name": "stderr",
     "output_type": "stream",
     "text": [
      "\n",
      "Stack MD585\n",
      "Processing section: 083\n",
      "Processing section: 101\n",
      "Processing section: 095\n",
      "Processing section: 107\n",
      "Processing section: 125\n",
      "Processing section: 137\n",
      "Processing section: 131\n",
      "Processing section: 143\n",
      "Processing section: 113\n",
      "Processing section: 119\n",
      "Processing section: 089\n",
      "Processing section: 149\n"
     ]
    },
    {
     "name": "stdout",
     "output_type": "stream",
     "text": [
      "rm -rf /shared/CSHL_cells_v2/detected_cells/MD585/MD585-N25-2015.08.19-15.33.31_MD585_3_0075/MD585-N25-2015.08.19-15.33.31_MD585_3_0075_blobMaskCenters.bp && mkdir -p /shared/CSHL_cells_v2/detected_cells/MD585/MD585-N25-2015.08.19-15.33.31_MD585_3_0075\n"
     ]
    },
    {
     "name": "stderr",
     "output_type": "stream",
     "text": [
      "Child returned 0\n"
     ]
    },
    {
     "name": "stdout",
     "output_type": "stream",
     "text": [
      "aws s3 cp s3://mousebrainatlas-data/CSHL_cells_v2/detected_cells/MD585/MD585-N25-2015.08.19-15.33.31_MD585_3_0075/MD585-N25-2015.08.19-15.33.31_MD585_3_0075_blobMaskCenters.bp /shared/CSHL_cells_v2/detected_cells/MD585/MD585-N25-2015.08.19-15.33.31_MD585_3_0075/MD585-N25-2015.08.19-15.33.31_MD585_3_0075_blobMaskCenters.bp\n",
      "rm -rf /shared/CSHL_cells_v2/detected_cells/MD585/MD585-N19-2015.07.16-20.43.18_MD585_3_0057/MD585-N19-2015.07.16-20.43.18_MD585_3_0057_blobMaskCenters.bp && mkdir -p /shared/CSHL_cells_v2/detected_cells/MD585/MD585-N19-2015.07.16-20.43.18_MD585_3_0057\n"
     ]
    },
    {
     "name": "stderr",
     "output_type": "stream",
     "text": [
      "Child returned 0\n"
     ]
    },
    {
     "name": "stdout",
     "output_type": "stream",
     "text": [
      "aws s3 cp s3://mousebrainatlas-data/CSHL_cells_v2/detected_cells/MD585/MD585-N19-2015.07.16-20.43.18_MD585_3_0057/MD585-N19-2015.07.16-20.43.18_MD585_3_0057_blobMaskCenters.bp /shared/CSHL_cells_v2/detected_cells/MD585/MD585-N19-2015.07.16-20.43.18_MD585_3_0057/MD585-N19-2015.07.16-20.43.18_MD585_3_0057_blobMaskCenters.bp\n",
      "rm -rf /shared/CSHL_cells_v2/detected_cells/MD585/MD585-N17-2015.07.16-20.35.23_MD585_3_0051/MD585-N17-2015.07.16-20.35.23_MD585_3_0051_blobMaskCenters.bp && mkdir -p /shared/CSHL_cells_v2/detected_cells/MD585/MD585-N17-2015.07.16-20.35.23_MD585_3_0051\n"
     ]
    },
    {
     "name": "stderr",
     "output_type": "stream",
     "text": [
      "Child returned 0\n"
     ]
    },
    {
     "name": "stdout",
     "output_type": "stream",
     "text": [
      "aws s3 cp s3://mousebrainatlas-data/CSHL_cells_v2/detected_cells/MD585/MD585-N17-2015.07.16-20.35.23_MD585_3_0051/MD585-N17-2015.07.16-20.35.23_MD585_3_0051_blobMaskCenters.bp /shared/CSHL_cells_v2/detected_cells/MD585/MD585-N17-2015.07.16-20.35.23_MD585_3_0051/MD585-N17-2015.07.16-20.35.23_MD585_3_0051_blobMaskCenters.bp\n",
      "rm -rf /shared/CSHL_cells_v2/detected_cells/MD585/MD585-N21-2015.07.18-07.06.33_MD585_3_0063/MD585-N21-2015.07.18-07.06.33_MD585_3_0063_blobMaskCenters.bp && mkdir -p /shared/CSHL_cells_v2/detected_cells/MD585/MD585-N21-2015.07.18-07.06.33_MD585_3_0063\n",
      "rm -rf /shared/CSHL_cells_v2/detected_cells/MD585/MD585-N18-2015.07.16-20.39.16_MD585_3_0054/MD585-N18-2015.07.16-20.39.16_MD585_3_0054_blobMaskCenters.bp && mkdir -p /shared/CSHL_cells_v2/detected_cells/MD585/MD585-N18-2015.07.16-20.39.16_MD585_3_0054\n",
      "rm -rf /shared/CSHL_cells_v2/detected_cells/MD585/MD585-N23-2015.07.16-20.51.24_MD585_3_0069/MD585-N23-2015.07.16-20.51.24_MD585_3_0069_blobMaskCenters.bp && mkdir -p /shared/CSHL_cells_v2/detected_cells/MD585/MD585-N23-2015.07.16-20.51.24_MD585_3_0069\n"
     ]
    },
    {
     "name": "stderr",
     "output_type": "stream",
     "text": [
      "Child returned 0\n",
      "Child returned 0\n"
     ]
    },
    {
     "name": "stdout",
     "output_type": "stream",
     "text": [
      "aws s3 cp s3://mousebrainatlas-data/CSHL_cells_v2/detected_cells/MD585/MD585-N21-2015.07.18-07.06.33_MD585_3_0063/MD585-N21-2015.07.18-07.06.33_MD585_3_0063_blobMaskCenters.bp /shared/CSHL_cells_v2/detected_cells/MD585/MD585-N21-2015.07.18-07.06.33_MD585_3_0063/MD585-N21-2015.07.18-07.06.33_MD585_3_0063_blobMaskCenters.bp\n",
      "aws s3 cp s3://mousebrainatlas-data/CSHL_cells_v2/detected_cells/MD585/MD585-N18-2015.07.16-20.39.16_MD585_3_0054/MD585-N18-2015.07.16-20.39.16_MD585_3_0054_blobMaskCenters.bp /shared/CSHL_cells_v2/detected_cells/MD585/MD585-N18-2015.07.16-20.39.16_MD585_3_0054/MD585-N18-2015.07.16-20.39.16_MD585_3_0054_blobMaskCenters.bp\n"
     ]
    },
    {
     "name": "stderr",
     "output_type": "stream",
     "text": [
      "Child returned 0\n"
     ]
    },
    {
     "name": "stdout",
     "output_type": "stream",
     "text": [
      "aws s3 cp s3://mousebrainatlas-data/CSHL_cells_v2/detected_cells/MD585/MD585-N23-2015.07.16-20.51.24_MD585_3_0069/MD585-N23-2015.07.16-20.51.24_MD585_3_0069_blobMaskCenters.bp /shared/CSHL_cells_v2/detected_cells/MD585/MD585-N23-2015.07.16-20.51.24_MD585_3_0069/MD585-N23-2015.07.16-20.51.24_MD585_3_0069_blobMaskCenters.bp\n",
      "rm -rf /shared/CSHL_cells_v2/detected_cells/MD585/MD585-N24-2015.08.19-15.29.12_MD585_3_0072/MD585-N24-2015.08.19-15.29.12_MD585_3_0072_blobMaskCenters.bp && mkdir -p /shared/CSHL_cells_v2/detected_cells/MD585/MD585-N24-2015.08.19-15.29.12_MD585_3_0072\n"
     ]
    },
    {
     "name": "stderr",
     "output_type": "stream",
     "text": [
      "Child returned 0\n"
     ]
    },
    {
     "name": "stdout",
     "output_type": "stream",
     "text": [
      "aws s3 cp s3://mousebrainatlas-data/CSHL_cells_v2/detected_cells/MD585/MD585-N24-2015.08.19-15.29.12_MD585_3_0072/MD585-N24-2015.08.19-15.29.12_MD585_3_0072_blobMaskCenters.bp /shared/CSHL_cells_v2/detected_cells/MD585/MD585-N24-2015.08.19-15.29.12_MD585_3_0072/MD585-N24-2015.08.19-15.29.12_MD585_3_0072_blobMaskCenters.bp\n",
      "rm -rf /shared/CSHL_cells_v2/detected_cells/MD585/MD585-N22-2015.07.18-07.10.40_MD585_3_0066/MD585-N22-2015.07.18-07.10.40_MD585_3_0066_blobMaskCenters.bp && mkdir -p /shared/CSHL_cells_v2/detected_cells/MD585/MD585-N22-2015.07.18-07.10.40_MD585_3_0066\n",
      "rm -rf /shared/CSHL_cells_v2/detected_cells/MD585/MD585-N20-2015.07.16-20.47.19_MD585_3_0060/MD585-N20-2015.07.16-20.47.19_MD585_3_0060_blobMaskCenters.bp && mkdir -p /shared/CSHL_cells_v2/detected_cells/MD585/MD585-N20-2015.07.16-20.47.19_MD585_3_0060\n"
     ]
    },
    {
     "name": "stderr",
     "output_type": "stream",
     "text": [
      "Child returned 0\n"
     ]
    },
    {
     "name": "stdout",
     "output_type": "stream",
     "text": [
      "aws s3 cp s3://mousebrainatlas-data/CSHL_cells_v2/detected_cells/MD585/MD585-N22-2015.07.18-07.10.40_MD585_3_0066/MD585-N22-2015.07.18-07.10.40_MD585_3_0066_blobMaskCenters.bp /shared/CSHL_cells_v2/detected_cells/MD585/MD585-N22-2015.07.18-07.10.40_MD585_3_0066/MD585-N22-2015.07.18-07.10.40_MD585_3_0066_blobMaskCenters.bp\n",
      "rm -rf /shared/CSHL_cells_v2/detected_cells/MD585/MD585-N16-2015.07.16-20.32.33_MD585_2_0047/MD585-N16-2015.07.16-20.32.33_MD585_2_0047_blobMaskCenters.bp && mkdir -p /shared/CSHL_cells_v2/detected_cells/MD585/MD585-N16-2015.07.16-20.32.33_MD585_2_0047\n"
     ]
    },
    {
     "name": "stderr",
     "output_type": "stream",
     "text": [
      "Child returned 0\n"
     ]
    },
    {
     "name": "stdout",
     "output_type": "stream",
     "text": [
      "aws s3 cp s3://mousebrainatlas-data/CSHL_cells_v2/detected_cells/MD585/MD585-N20-2015.07.16-20.47.19_MD585_3_0060/MD585-N20-2015.07.16-20.47.19_MD585_3_0060_blobMaskCenters.bp /shared/CSHL_cells_v2/detected_cells/MD585/MD585-N20-2015.07.16-20.47.19_MD585_3_0060/MD585-N20-2015.07.16-20.47.19_MD585_3_0060_blobMaskCenters.bp\n",
      "rm -rf /shared/CSHL_cells_v2/detected_cells/MD585/MD585-N26-2015.08.19-15.37.53_MD585_3_0078/MD585-N26-2015.08.19-15.37.53_MD585_3_0078_blobMaskCenters.bp && mkdir -p /shared/CSHL_cells_v2/detected_cells/MD585/MD585-N26-2015.08.19-15.37.53_MD585_3_0078\n"
     ]
    },
    {
     "name": "stderr",
     "output_type": "stream",
     "text": [
      "Child returned 0\n"
     ]
    },
    {
     "name": "stdout",
     "output_type": "stream",
     "text": [
      "rm -rf /shared/CSHL_cells_v2/detected_cells/MD585/MD585-N27-2015.08.19-15.42.30_MD585_3_0081/MD585-N27-2015.08.19-15.42.30_MD585_3_0081_blobMaskCenters.bp && mkdir -p /shared/CSHL_cells_v2/detected_cells/MD585/MD585-N27-2015.08.19-15.42.30_MD585_3_0081\n",
      "aws s3 cp s3://mousebrainatlas-data/CSHL_cells_v2/detected_cells/MD585/MD585-N16-2015.07.16-20.32.33_MD585_2_0047/MD585-N16-2015.07.16-20.32.33_MD585_2_0047_blobMaskCenters.bp /shared/CSHL_cells_v2/detected_cells/MD585/MD585-N16-2015.07.16-20.32.33_MD585_2_0047/MD585-N16-2015.07.16-20.32.33_MD585_2_0047_blobMaskCenters.bp\n"
     ]
    },
    {
     "name": "stderr",
     "output_type": "stream",
     "text": [
      "Child returned 0\n"
     ]
    },
    {
     "name": "stdout",
     "output_type": "stream",
     "text": [
      "aws s3 cp s3://mousebrainatlas-data/CSHL_cells_v2/detected_cells/MD585/MD585-N26-2015.08.19-15.37.53_MD585_3_0078/MD585-N26-2015.08.19-15.37.53_MD585_3_0078_blobMaskCenters.bp /shared/CSHL_cells_v2/detected_cells/MD585/MD585-N26-2015.08.19-15.37.53_MD585_3_0078/MD585-N26-2015.08.19-15.37.53_MD585_3_0078_blobMaskCenters.bp\n"
     ]
    },
    {
     "name": "stderr",
     "output_type": "stream",
     "text": [
      "Child returned 0\n"
     ]
    },
    {
     "name": "stdout",
     "output_type": "stream",
     "text": [
      "aws s3 cp s3://mousebrainatlas-data/CSHL_cells_v2/detected_cells/MD585/MD585-N27-2015.08.19-15.42.30_MD585_3_0081/MD585-N27-2015.08.19-15.42.30_MD585_3_0081_blobMaskCenters.bp /shared/CSHL_cells_v2/detected_cells/MD585/MD585-N27-2015.08.19-15.42.30_MD585_3_0081/MD585-N27-2015.08.19-15.42.30_MD585_3_0081_blobMaskCenters.bp\n"
     ]
    },
    {
     "name": "stderr",
     "output_type": "stream",
     "text": [
      "Child returned 0\n",
      "0.73 seconds.\n",
      "Child returned 0\n",
      "0.65 seconds.\n",
      "Child returned 0\n",
      "0.65 seconds.\n",
      "Child returned 0\n",
      "0.78 seconds.\n",
      "Child returned 0\n",
      "0.65 seconds.\n",
      "Child returned 0\n",
      "0.74 seconds.\n",
      "Child returned 0\n",
      "0.64 seconds.\n",
      "Child returned 0\n",
      "0.62 seconds.\n",
      "Child returned 0\n",
      "0.63 seconds.\n",
      "Child returned 0\n",
      "0.78 seconds.\n",
      "Child returned 0\n",
      "Child returned 0\n",
      "0.68 seconds.\n",
      "0.75 seconds.\n",
      "Rotate cell masks: 7.91 seconds.\n"
     ]
    },
    {
     "name": "stdout",
     "output_type": "stream",
     "text": [
      "aws s3 cp /shared/CSHL_cells_v2/detected_cells/MD585/MD585-N18-2015.07.16-20.39.16_MD585_3_0054/MD585-N18-2015.07.16-20.39.16_MD585_3_0054_cells_aligned_mirrored_padded.bp s3://mousebrainatlas-data/CSHL_cells_v2/detected_cells/MD585/MD585-N18-2015.07.16-20.39.16_MD585_3_0054/MD585-N18-2015.07.16-20.39.16_MD585_3_0054_cells_aligned_mirrored_padded.bp\n"
     ]
    },
    {
     "name": "stderr",
     "output_type": "stream",
     "text": [
      "Child returned 0\n",
      "0.80 seconds.\n"
     ]
    },
    {
     "name": "stdout",
     "output_type": "stream",
     "text": [
      "aws s3 cp /shared/CSHL_cells_v2/detected_cells/MD585/MD585-N18-2015.07.16-20.39.16_MD585_3_0054/MD585-N18-2015.07.16-20.39.16_MD585_3_0054_cells_aligned_mirrorDirections.bp s3://mousebrainatlas-data/CSHL_cells_v2/detected_cells/MD585/MD585-N18-2015.07.16-20.39.16_MD585_3_0054/MD585-N18-2015.07.16-20.39.16_MD585_3_0054_cells_aligned_mirrorDirections.bp\n"
     ]
    },
    {
     "name": "stderr",
     "output_type": "stream",
     "text": [
      "Rotate cell masks: 10.08 seconds.\n",
      "Rotate cell masks: 10.33 seconds.\n",
      "Child returned 0\n",
      "0.68 seconds.\n",
      "Rotate cell masks: 10.59 seconds.\n",
      "Rotate cell masks: 10.51 seconds.\n",
      "Processing section: 096\n",
      "Rotate cell masks: 10.60 seconds.\n"
     ]
    },
    {
     "name": "stdout",
     "output_type": "stream",
     "text": [
      "rm -rf /shared/CSHL_cells_v2/detected_cells/MD585/MD585-IHC18-2015.07.16-15.35.58_MD585_3_0054/MD585-IHC18-2015.07.16-15.35.58_MD585_3_0054_blobMaskCenters.bp && mkdir -p /shared/CSHL_cells_v2/detected_cells/MD585/MD585-IHC18-2015.07.16-15.35.58_MD585_3_0054\n"
     ]
    },
    {
     "name": "stderr",
     "output_type": "stream",
     "text": [
      "Child returned 0\n"
     ]
    },
    {
     "name": "stdout",
     "output_type": "stream",
     "text": [
      "aws s3 cp s3://mousebrainatlas-data/CSHL_cells_v2/detected_cells/MD585/MD585-IHC18-2015.07.16-15.35.58_MD585_3_0054/MD585-IHC18-2015.07.16-15.35.58_MD585_3_0054_blobMaskCenters.bp /shared/CSHL_cells_v2/detected_cells/MD585/MD585-IHC18-2015.07.16-15.35.58_MD585_3_0054/MD585-IHC18-2015.07.16-15.35.58_MD585_3_0054_blobMaskCenters.bp\n"
     ]
    },
    {
     "name": "stderr",
     "output_type": "stream",
     "text": [
      "Rotate cell masks: 11.02 seconds.\n",
      "Rotate cell masks: 11.23 seconds.\n"
     ]
    },
    {
     "name": "stdout",
     "output_type": "stream",
     "text": [
      "aws s3 cp /shared/CSHL_cells_v2/detected_cells/MD585/MD585-N16-2015.07.16-20.32.33_MD585_2_0047/MD585-N16-2015.07.16-20.32.33_MD585_2_0047_cells_aligned_mirrored_padded.bp s3://mousebrainatlas-data/CSHL_cells_v2/detected_cells/MD585/MD585-N16-2015.07.16-20.32.33_MD585_2_0047/MD585-N16-2015.07.16-20.32.33_MD585_2_0047_cells_aligned_mirrored_padded.bp\n"
     ]
    },
    {
     "name": "stderr",
     "output_type": "stream",
     "text": [
      "Rotate cell masks: 11.11 seconds.\n"
     ]
    },
    {
     "name": "stdout",
     "output_type": "stream",
     "text": [
      "aws s3 cp /shared/CSHL_cells_v2/detected_cells/MD585/MD585-N17-2015.07.16-20.35.23_MD585_3_0051/MD585-N17-2015.07.16-20.35.23_MD585_3_0051_cells_aligned_mirrored_padded.bp s3://mousebrainatlas-data/CSHL_cells_v2/detected_cells/MD585/MD585-N17-2015.07.16-20.35.23_MD585_3_0051/MD585-N17-2015.07.16-20.35.23_MD585_3_0051_cells_aligned_mirrored_padded.bp\n",
      "aws s3 cp /shared/CSHL_cells_v2/detected_cells/MD585/MD585-N20-2015.07.16-20.47.19_MD585_3_0060/MD585-N20-2015.07.16-20.47.19_MD585_3_0060_cells_aligned_mirrored_padded.bp s3://mousebrainatlas-data/CSHL_cells_v2/detected_cells/MD585/MD585-N20-2015.07.16-20.47.19_MD585_3_0060/MD585-N20-2015.07.16-20.47.19_MD585_3_0060_cells_aligned_mirrored_padded.bp\n",
      "aws s3 cp /shared/CSHL_cells_v2/detected_cells/MD585/MD585-N26-2015.08.19-15.37.53_MD585_3_0078/MD585-N26-2015.08.19-15.37.53_MD585_3_0078_cells_aligned_mirrored_padded.bp s3://mousebrainatlas-data/CSHL_cells_v2/detected_cells/MD585/MD585-N26-2015.08.19-15.37.53_MD585_3_0078/MD585-N26-2015.08.19-15.37.53_MD585_3_0078_cells_aligned_mirrored_padded.bp\n"
     ]
    },
    {
     "name": "stderr",
     "output_type": "stream",
     "text": [
      "Child returned 0\n",
      "0.87 seconds.\n"
     ]
    },
    {
     "name": "stdout",
     "output_type": "stream",
     "text": [
      "aws s3 cp /shared/CSHL_cells_v2/detected_cells/MD585/MD585-N19-2015.07.16-20.43.18_MD585_3_0057/MD585-N19-2015.07.16-20.43.18_MD585_3_0057_cells_aligned_mirrored_padded.bp s3://mousebrainatlas-data/CSHL_cells_v2/detected_cells/MD585/MD585-N19-2015.07.16-20.43.18_MD585_3_0057/MD585-N19-2015.07.16-20.43.18_MD585_3_0057_cells_aligned_mirrored_padded.bp\n",
      "aws s3 cp /shared/CSHL_cells_v2/detected_cells/MD585/MD585-N25-2015.08.19-15.33.31_MD585_3_0075/MD585-N25-2015.08.19-15.33.31_MD585_3_0075_cells_aligned_mirrored_padded.bp s3://mousebrainatlas-data/CSHL_cells_v2/detected_cells/MD585/MD585-N25-2015.08.19-15.33.31_MD585_3_0075/MD585-N25-2015.08.19-15.33.31_MD585_3_0075_cells_aligned_mirrored_padded.bp\n"
     ]
    },
    {
     "name": "stderr",
     "output_type": "stream",
     "text": [
      "Child returned 0\n",
      "0.73 seconds.\n"
     ]
    },
    {
     "name": "stdout",
     "output_type": "stream",
     "text": [
      "aws s3 cp /shared/CSHL_cells_v2/detected_cells/MD585/MD585-N24-2015.08.19-15.29.12_MD585_3_0072/MD585-N24-2015.08.19-15.29.12_MD585_3_0072_cells_aligned_mirrored_padded.bp s3://mousebrainatlas-data/CSHL_cells_v2/detected_cells/MD585/MD585-N24-2015.08.19-15.29.12_MD585_3_0072/MD585-N24-2015.08.19-15.29.12_MD585_3_0072_cells_aligned_mirrored_padded.bp\n",
      "aws s3 cp /shared/CSHL_cells_v2/detected_cells/MD585/MD585-N16-2015.07.16-20.32.33_MD585_2_0047/MD585-N16-2015.07.16-20.32.33_MD585_2_0047_cells_aligned_mirrorDirections.bp s3://mousebrainatlas-data/CSHL_cells_v2/detected_cells/MD585/MD585-N16-2015.07.16-20.32.33_MD585_2_0047/MD585-N16-2015.07.16-20.32.33_MD585_2_0047_cells_aligned_mirrorDirections.bp\n"
     ]
    },
    {
     "name": "stderr",
     "output_type": "stream",
     "text": [
      "Rotate cell masks: 11.90 seconds.\n",
      "Rotate cell masks: 12.12 seconds.\n",
      "Rotate cell masks: 12.08 seconds.\n",
      "Child returned 0\n",
      "0.72 seconds.\n",
      "Child returned 0\n"
     ]
    },
    {
     "name": "stdout",
     "output_type": "stream",
     "text": [
      "aws s3 cp /shared/CSHL_cells_v2/detected_cells/MD585/MD585-N20-2015.07.16-20.47.19_MD585_3_0060/MD585-N20-2015.07.16-20.47.19_MD585_3_0060_cells_aligned_mirrorDirections.bp s3://mousebrainatlas-data/CSHL_cells_v2/detected_cells/MD585/MD585-N20-2015.07.16-20.47.19_MD585_3_0060/MD585-N20-2015.07.16-20.47.19_MD585_3_0060_cells_aligned_mirrorDirections.bp\n"
     ]
    },
    {
     "name": "stderr",
     "output_type": "stream",
     "text": [
      "0.87 seconds.\n"
     ]
    },
    {
     "name": "stdout",
     "output_type": "stream",
     "text": [
      "aws s3 cp /shared/CSHL_cells_v2/detected_cells/MD585/MD585-N17-2015.07.16-20.35.23_MD585_3_0051/MD585-N17-2015.07.16-20.35.23_MD585_3_0051_cells_aligned_mirrorDirections.bp s3://mousebrainatlas-data/CSHL_cells_v2/detected_cells/MD585/MD585-N17-2015.07.16-20.35.23_MD585_3_0051/MD585-N17-2015.07.16-20.35.23_MD585_3_0051_cells_aligned_mirrorDirections.bp\n"
     ]
    },
    {
     "name": "stderr",
     "output_type": "stream",
     "text": [
      "Child returned 0\n",
      "0.74 seconds.\n"
     ]
    },
    {
     "name": "stdout",
     "output_type": "stream",
     "text": [
      "aws s3 cp /shared/CSHL_cells_v2/detected_cells/MD585/MD585-N26-2015.08.19-15.37.53_MD585_3_0078/MD585-N26-2015.08.19-15.37.53_MD585_3_0078_cells_aligned_mirrorDirections.bp s3://mousebrainatlas-data/CSHL_cells_v2/detected_cells/MD585/MD585-N26-2015.08.19-15.37.53_MD585_3_0078/MD585-N26-2015.08.19-15.37.53_MD585_3_0078_cells_aligned_mirrorDirections.bp\n",
      "aws s3 cp /shared/CSHL_cells_v2/detected_cells/MD585/MD585-N27-2015.08.19-15.42.30_MD585_3_0081/MD585-N27-2015.08.19-15.42.30_MD585_3_0081_cells_aligned_mirrored_padded.bp s3://mousebrainatlas-data/CSHL_cells_v2/detected_cells/MD585/MD585-N27-2015.08.19-15.42.30_MD585_3_0081/MD585-N27-2015.08.19-15.42.30_MD585_3_0081_cells_aligned_mirrored_padded.bp\n"
     ]
    },
    {
     "name": "stderr",
     "output_type": "stream",
     "text": [
      "Child returned 0\n",
      "0.69 seconds.\n",
      "Child returned 0\n",
      "0.92 seconds.\n",
      "Child returned 0\n"
     ]
    },
    {
     "name": "stdout",
     "output_type": "stream",
     "text": [
      "aws s3 cp /shared/CSHL_cells_v2/detected_cells/MD585/MD585-N22-2015.07.18-07.10.40_MD585_3_0066/MD585-N22-2015.07.18-07.10.40_MD585_3_0066_cells_aligned_mirrored_padded.bp s3://mousebrainatlas-data/CSHL_cells_v2/detected_cells/MD585/MD585-N22-2015.07.18-07.10.40_MD585_3_0066/MD585-N22-2015.07.18-07.10.40_MD585_3_0066_cells_aligned_mirrored_padded.bp\n",
      "aws s3 cp /shared/CSHL_cells_v2/detected_cells/MD585/MD585-N25-2015.08.19-15.33.31_MD585_3_0075/MD585-N25-2015.08.19-15.33.31_MD585_3_0075_cells_aligned_mirrorDirections.bp s3://mousebrainatlas-data/CSHL_cells_v2/detected_cells/MD585/MD585-N25-2015.08.19-15.33.31_MD585_3_0075/MD585-N25-2015.08.19-15.33.31_MD585_3_0075_cells_aligned_mirrorDirections.bp\n"
     ]
    },
    {
     "name": "stderr",
     "output_type": "stream",
     "text": [
      "0.84 seconds.\n",
      "Processing section: 084\n"
     ]
    },
    {
     "name": "stdout",
     "output_type": "stream",
     "text": [
      "aws s3 cp /shared/CSHL_cells_v2/detected_cells/MD585/MD585-N24-2015.08.19-15.29.12_MD585_3_0072/MD585-N24-2015.08.19-15.29.12_MD585_3_0072_cells_aligned_mirrorDirections.bp s3://mousebrainatlas-data/CSHL_cells_v2/detected_cells/MD585/MD585-N24-2015.08.19-15.29.12_MD585_3_0072/MD585-N24-2015.08.19-15.29.12_MD585_3_0072_cells_aligned_mirrorDirections.bp\n",
      "aws s3 cp /shared/CSHL_cells_v2/detected_cells/MD585/MD585-N23-2015.07.16-20.51.24_MD585_3_0069/MD585-N23-2015.07.16-20.51.24_MD585_3_0069_cells_aligned_mirrored_padded.bp s3://mousebrainatlas-data/CSHL_cells_v2/detected_cells/MD585/MD585-N23-2015.07.16-20.51.24_MD585_3_0069/MD585-N23-2015.07.16-20.51.24_MD585_3_0069_cells_aligned_mirrored_padded.bp\n"
     ]
    },
    {
     "name": "stderr",
     "output_type": "stream",
     "text": [
      "Child returned 0\n",
      "1.00 seconds.\n"
     ]
    },
    {
     "name": "stdout",
     "output_type": "stream",
     "text": [
      "aws s3 cp /shared/CSHL_cells_v2/detected_cells/MD585/MD585-N19-2015.07.16-20.43.18_MD585_3_0057/MD585-N19-2015.07.16-20.43.18_MD585_3_0057_cells_aligned_mirrorDirections.bp s3://mousebrainatlas-data/CSHL_cells_v2/detected_cells/MD585/MD585-N19-2015.07.16-20.43.18_MD585_3_0057/MD585-N19-2015.07.16-20.43.18_MD585_3_0057_cells_aligned_mirrorDirections.bp\n",
      "rm -rf /shared/CSHL_cells_v2/detected_cells/MD585/MD585-IHC16-2015.08.19-13.14.51_MD585_3_0048/MD585-IHC16-2015.08.19-13.14.51_MD585_3_0048_blobMaskCenters.bp && mkdir -p /shared/CSHL_cells_v2/detected_cells/MD585/MD585-IHC16-2015.08.19-13.14.51_MD585_3_0048\n"
     ]
    },
    {
     "name": "stderr",
     "output_type": "stream",
     "text": [
      "Child returned 0\n"
     ]
    },
    {
     "name": "stdout",
     "output_type": "stream",
     "text": [
      "aws s3 cp s3://mousebrainatlas-data/CSHL_cells_v2/detected_cells/MD585/MD585-IHC16-2015.08.19-13.14.51_MD585_3_0048/MD585-IHC16-2015.08.19-13.14.51_MD585_3_0048_blobMaskCenters.bp /shared/CSHL_cells_v2/detected_cells/MD585/MD585-IHC16-2015.08.19-13.14.51_MD585_3_0048/MD585-IHC16-2015.08.19-13.14.51_MD585_3_0048_blobMaskCenters.bp\n"
     ]
    },
    {
     "name": "stderr",
     "output_type": "stream",
     "text": [
      "Child returned 0\n",
      "0.68 seconds.\n",
      "Child returned 0\n",
      "0.68 seconds.\n",
      "Child returned 0\n",
      "0.69 seconds.\n",
      "Processing section: 090\n",
      "Processing section: 108\n",
      "Processing section: 144\n"
     ]
    },
    {
     "name": "stdout",
     "output_type": "stream",
     "text": [
      "rm -rf /shared/CSHL_cells_v2/detected_cells/MD585/MD585-IHC17-2015.07.16-15.32.03_MD585_3_0051/MD585-IHC17-2015.07.16-15.32.03_MD585_3_0051_blobMaskCenters.bp && mkdir -p /shared/CSHL_cells_v2/detected_cells/MD585/MD585-IHC17-2015.07.16-15.32.03_MD585_3_0051\n"
     ]
    },
    {
     "name": "stderr",
     "output_type": "stream",
     "text": [
      "Child returned 0\n",
      "0.74 seconds.\n",
      "Child returned 0\n"
     ]
    },
    {
     "name": "stdout",
     "output_type": "stream",
     "text": [
      "aws s3 cp /shared/CSHL_cells_v2/detected_cells/MD585/MD585-N27-2015.08.19-15.42.30_MD585_3_0081/MD585-N27-2015.08.19-15.42.30_MD585_3_0081_cells_aligned_mirrorDirections.bp s3://mousebrainatlas-data/CSHL_cells_v2/detected_cells/MD585/MD585-N27-2015.08.19-15.42.30_MD585_3_0081/MD585-N27-2015.08.19-15.42.30_MD585_3_0081_cells_aligned_mirrorDirections.bp\n",
      "aws s3 cp s3://mousebrainatlas-data/CSHL_cells_v2/detected_cells/MD585/MD585-IHC17-2015.07.16-15.32.03_MD585_3_0051/MD585-IHC17-2015.07.16-15.32.03_MD585_3_0051_blobMaskCenters.bp /shared/CSHL_cells_v2/detected_cells/MD585/MD585-IHC17-2015.07.16-15.32.03_MD585_3_0051/MD585-IHC17-2015.07.16-15.32.03_MD585_3_0051_blobMaskCenters.bp\n"
     ]
    },
    {
     "name": "stderr",
     "output_type": "stream",
     "text": [
      "Child returned 0\n"
     ]
    },
    {
     "name": "stdout",
     "output_type": "stream",
     "text": [
      "rm -rf /shared/CSHL_cells_v2/detected_cells/MD585/MD585-IHC20-2015.07.16-15.43.53_MD585_3_0060/MD585-IHC20-2015.07.16-15.43.53_MD585_3_0060_blobMaskCenters.bp && mkdir -p /shared/CSHL_cells_v2/detected_cells/MD585/MD585-IHC20-2015.07.16-15.43.53_MD585_3_0060\n"
     ]
    },
    {
     "name": "stderr",
     "output_type": "stream",
     "text": [
      "0.55 seconds.\n",
      "Child returned 0\n"
     ]
    },
    {
     "name": "stdout",
     "output_type": "stream",
     "text": [
      "aws s3 cp s3://mousebrainatlas-data/CSHL_cells_v2/detected_cells/MD585/MD585-IHC20-2015.07.16-15.43.53_MD585_3_0060/MD585-IHC20-2015.07.16-15.43.53_MD585_3_0060_blobMaskCenters.bp /shared/CSHL_cells_v2/detected_cells/MD585/MD585-IHC20-2015.07.16-15.43.53_MD585_3_0060/MD585-IHC20-2015.07.16-15.43.53_MD585_3_0060_blobMaskCenters.bp\n",
      "rm -rf /shared/CSHL_cells_v2/detected_cells/MD585/MD585-IHC26-2015.08.19-13.23.15_MD585_3_0078/MD585-IHC26-2015.08.19-13.23.15_MD585_3_0078_blobMaskCenters.bp && mkdir -p /shared/CSHL_cells_v2/detected_cells/MD585/MD585-IHC26-2015.08.19-13.23.15_MD585_3_0078\n"
     ]
    },
    {
     "name": "stderr",
     "output_type": "stream",
     "text": [
      "Child returned 0\n"
     ]
    },
    {
     "name": "stdout",
     "output_type": "stream",
     "text": [
      "aws s3 cp s3://mousebrainatlas-data/CSHL_cells_v2/detected_cells/MD585/MD585-IHC26-2015.08.19-13.23.15_MD585_3_0078/MD585-IHC26-2015.08.19-13.23.15_MD585_3_0078_blobMaskCenters.bp /shared/CSHL_cells_v2/detected_cells/MD585/MD585-IHC26-2015.08.19-13.23.15_MD585_3_0078/MD585-IHC26-2015.08.19-13.23.15_MD585_3_0078_blobMaskCenters.bp\n"
     ]
    },
    {
     "name": "stderr",
     "output_type": "stream",
     "text": [
      "Child returned 0\n",
      "0.67 seconds.\n"
     ]
    },
    {
     "name": "stdout",
     "output_type": "stream",
     "text": [
      "aws s3 cp /shared/CSHL_cells_v2/detected_cells/MD585/MD585-N22-2015.07.18-07.10.40_MD585_3_0066/MD585-N22-2015.07.18-07.10.40_MD585_3_0066_cells_aligned_mirrorDirections.bp s3://mousebrainatlas-data/CSHL_cells_v2/detected_cells/MD585/MD585-N22-2015.07.18-07.10.40_MD585_3_0066/MD585-N22-2015.07.18-07.10.40_MD585_3_0066_cells_aligned_mirrorDirections.bp\n"
     ]
    },
    {
     "name": "stderr",
     "output_type": "stream",
     "text": [
      "Child returned 0\n",
      "0.62 seconds.\n",
      "Processing section: 132\n",
      "Child returned 0\n",
      "0.68 seconds.\n"
     ]
    },
    {
     "name": "stdout",
     "output_type": "stream",
     "text": [
      "aws s3 cp /shared/CSHL_cells_v2/detected_cells/MD585/MD585-N23-2015.07.16-20.51.24_MD585_3_0069/MD585-N23-2015.07.16-20.51.24_MD585_3_0069_cells_aligned_mirrorDirections.bp s3://mousebrainatlas-data/CSHL_cells_v2/detected_cells/MD585/MD585-N23-2015.07.16-20.51.24_MD585_3_0069/MD585-N23-2015.07.16-20.51.24_MD585_3_0069_cells_aligned_mirrorDirections.bp\n"
     ]
    },
    {
     "name": "stderr",
     "output_type": "stream",
     "text": [
      "Processing section: 102\n",
      "Child returned 0\n",
      "0.87 seconds.\n"
     ]
    },
    {
     "name": "stdout",
     "output_type": "stream",
     "text": [
      "rm -rf /shared/CSHL_cells_v2/detected_cells/MD585/MD585-IHC24-2015.07.18-07.14.51_MD585_3_0072/MD585-IHC24-2015.07.18-07.14.51_MD585_3_0072_blobMaskCenters.bp && mkdir -p /shared/CSHL_cells_v2/detected_cells/MD585/MD585-IHC24-2015.07.18-07.14.51_MD585_3_0072\n"
     ]
    },
    {
     "name": "stderr",
     "output_type": "stream",
     "text": [
      "0.71 seconds.\n",
      "Child returned 0\n",
      "Child returned 0\n"
     ]
    },
    {
     "name": "stdout",
     "output_type": "stream",
     "text": [
      "aws s3 cp s3://mousebrainatlas-data/CSHL_cells_v2/detected_cells/MD585/MD585-IHC24-2015.07.18-07.14.51_MD585_3_0072/MD585-IHC24-2015.07.18-07.14.51_MD585_3_0072_blobMaskCenters.bp /shared/CSHL_cells_v2/detected_cells/MD585/MD585-IHC24-2015.07.18-07.14.51_MD585_3_0072/MD585-IHC24-2015.07.18-07.14.51_MD585_3_0072_blobMaskCenters.bp\n"
     ]
    },
    {
     "name": "stderr",
     "output_type": "stream",
     "text": [
      "Processing section: 138\n"
     ]
    },
    {
     "name": "stdout",
     "output_type": "stream",
     "text": [
      "rm -rf /shared/CSHL_cells_v2/detected_cells/MD585/MD585-IHC19-2015.07.16-15.39.52_MD585_3_0057/MD585-IHC19-2015.07.16-15.39.52_MD585_3_0057_blobMaskCenters.bp && mkdir -p /shared/CSHL_cells_v2/detected_cells/MD585/MD585-IHC19-2015.07.16-15.39.52_MD585_3_0057\n"
     ]
    },
    {
     "name": "stderr",
     "output_type": "stream",
     "text": [
      "Child returned 0\n"
     ]
    },
    {
     "name": "stdout",
     "output_type": "stream",
     "text": [
      "aws s3 cp s3://mousebrainatlas-data/CSHL_cells_v2/detected_cells/MD585/MD585-IHC19-2015.07.16-15.39.52_MD585_3_0057/MD585-IHC19-2015.07.16-15.39.52_MD585_3_0057_blobMaskCenters.bp /shared/CSHL_cells_v2/detected_cells/MD585/MD585-IHC19-2015.07.16-15.39.52_MD585_3_0057/MD585-IHC19-2015.07.16-15.39.52_MD585_3_0057_blobMaskCenters.bp\n"
     ]
    },
    {
     "name": "stderr",
     "output_type": "stream",
     "text": [
      "Child returned 0\n",
      "0.58 seconds.\n"
     ]
    },
    {
     "name": "stdout",
     "output_type": "stream",
     "text": [
      "rm -rf /shared/CSHL_cells_v2/detected_cells/MD585/MD585-IHC25-2015.07.18-07.19.12_MD585_3_0075/MD585-IHC25-2015.07.18-07.19.12_MD585_3_0075_blobMaskCenters.bp && mkdir -p /shared/CSHL_cells_v2/detected_cells/MD585/MD585-IHC25-2015.07.18-07.19.12_MD585_3_0075\n"
     ]
    },
    {
     "name": "stderr",
     "output_type": "stream",
     "text": [
      "Child returned 0\n",
      "0.68 seconds.\n",
      "Child returned 0\n"
     ]
    },
    {
     "name": "stdout",
     "output_type": "stream",
     "text": [
      "aws s3 cp s3://mousebrainatlas-data/CSHL_cells_v2/detected_cells/MD585/MD585-IHC25-2015.07.18-07.19.12_MD585_3_0075/MD585-IHC25-2015.07.18-07.19.12_MD585_3_0075_blobMaskCenters.bp /shared/CSHL_cells_v2/detected_cells/MD585/MD585-IHC25-2015.07.18-07.19.12_MD585_3_0075/MD585-IHC25-2015.07.18-07.19.12_MD585_3_0075_blobMaskCenters.bp\n"
     ]
    },
    {
     "name": "stderr",
     "output_type": "stream",
     "text": [
      "Child returned 0\n",
      "0.68 seconds.\n",
      "Child returned 0\n",
      "0.59 seconds.\n",
      "Processing section: 150\n",
      "Child returned 0\n",
      "0.68 seconds.\n",
      "Child returned 0\n",
      "0.65 seconds.\n"
     ]
    },
    {
     "name": "stdout",
     "output_type": "stream",
     "text": [
      "rm -rf /shared/CSHL_cells_v2/detected_cells/MD585/MD585-IHC27-2015.08.19-13.28.05_MD585_3_0081/MD585-IHC27-2015.08.19-13.28.05_MD585_3_0081_blobMaskCenters.bp && mkdir -p /shared/CSHL_cells_v2/detected_cells/MD585/MD585-IHC27-2015.08.19-13.28.05_MD585_3_0081\n"
     ]
    },
    {
     "name": "stderr",
     "output_type": "stream",
     "text": [
      "Processing section: 120\n",
      "Child returned 0\n"
     ]
    },
    {
     "name": "stdout",
     "output_type": "stream",
     "text": [
      "aws s3 cp s3://mousebrainatlas-data/CSHL_cells_v2/detected_cells/MD585/MD585-IHC27-2015.08.19-13.28.05_MD585_3_0081/MD585-IHC27-2015.08.19-13.28.05_MD585_3_0081_blobMaskCenters.bp /shared/CSHL_cells_v2/detected_cells/MD585/MD585-IHC27-2015.08.19-13.28.05_MD585_3_0081/MD585-IHC27-2015.08.19-13.28.05_MD585_3_0081_blobMaskCenters.bp\n"
     ]
    },
    {
     "name": "stderr",
     "output_type": "stream",
     "text": [
      "Processing section: 126\n",
      "Child returned 0\n",
      "0.71 seconds.\n",
      "Child returned 0\n",
      "0.62 seconds.\n"
     ]
    },
    {
     "name": "stdout",
     "output_type": "stream",
     "text": [
      "rm -rf /shared/CSHL_cells_v2/detected_cells/MD585/MD585-IHC22-2015.07.16-15.51.54_MD585_3_0066/MD585-IHC22-2015.07.16-15.51.54_MD585_3_0066_blobMaskCenters.bp && mkdir -p /shared/CSHL_cells_v2/detected_cells/MD585/MD585-IHC22-2015.07.16-15.51.54_MD585_3_0066\n"
     ]
    },
    {
     "name": "stderr",
     "output_type": "stream",
     "text": [
      "Child returned 0\n"
     ]
    },
    {
     "name": "stdout",
     "output_type": "stream",
     "text": [
      "aws s3 cp s3://mousebrainatlas-data/CSHL_cells_v2/detected_cells/MD585/MD585-IHC22-2015.07.16-15.51.54_MD585_3_0066/MD585-IHC22-2015.07.16-15.51.54_MD585_3_0066_blobMaskCenters.bp /shared/CSHL_cells_v2/detected_cells/MD585/MD585-IHC22-2015.07.16-15.51.54_MD585_3_0066/MD585-IHC22-2015.07.16-15.51.54_MD585_3_0066_blobMaskCenters.bp\n",
      "rm -rf /shared/CSHL_cells_v2/detected_cells/MD585/MD585-IHC23-2015.08.19-13.18.49_MD585_3_0069/MD585-IHC23-2015.08.19-13.18.49_MD585_3_0069_blobMaskCenters.bp && mkdir -p /shared/CSHL_cells_v2/detected_cells/MD585/MD585-IHC23-2015.08.19-13.18.49_MD585_3_0069\n"
     ]
    },
    {
     "name": "stderr",
     "output_type": "stream",
     "text": [
      "Child returned 0\n"
     ]
    },
    {
     "name": "stdout",
     "output_type": "stream",
     "text": [
      "aws s3 cp s3://mousebrainatlas-data/CSHL_cells_v2/detected_cells/MD585/MD585-IHC23-2015.08.19-13.18.49_MD585_3_0069/MD585-IHC23-2015.08.19-13.18.49_MD585_3_0069_blobMaskCenters.bp /shared/CSHL_cells_v2/detected_cells/MD585/MD585-IHC23-2015.08.19-13.18.49_MD585_3_0069/MD585-IHC23-2015.08.19-13.18.49_MD585_3_0069_blobMaskCenters.bp\n"
     ]
    },
    {
     "name": "stderr",
     "output_type": "stream",
     "text": [
      "Child returned 0\n",
      "0.68 seconds.\n",
      "Child returned 0\n",
      "0.62 seconds.\n"
     ]
    },
    {
     "name": "stdout",
     "output_type": "stream",
     "text": [
      "aws s3 cp /shared/CSHL_cells_v2/detected_cells/MD585/MD585-N21-2015.07.18-07.06.33_MD585_3_0063/MD585-N21-2015.07.18-07.06.33_MD585_3_0063_cells_aligned_mirrored_padded.bp s3://mousebrainatlas-data/CSHL_cells_v2/detected_cells/MD585/MD585-N21-2015.07.18-07.06.33_MD585_3_0063/MD585-N21-2015.07.18-07.06.33_MD585_3_0063_cells_aligned_mirrored_padded.bp\n"
     ]
    },
    {
     "name": "stderr",
     "output_type": "stream",
     "text": [
      "Child returned 0\n",
      "0.79 seconds.\n",
      "Child returned 0\n",
      "0.82 seconds.\n",
      "Child returned 0\n",
      "0.81 seconds.\n"
     ]
    },
    {
     "name": "stdout",
     "output_type": "stream",
     "text": [
      "aws s3 cp /shared/CSHL_cells_v2/detected_cells/MD585/MD585-N21-2015.07.18-07.06.33_MD585_3_0063/MD585-N21-2015.07.18-07.06.33_MD585_3_0063_cells_aligned_mirrorDirections.bp s3://mousebrainatlas-data/CSHL_cells_v2/detected_cells/MD585/MD585-N21-2015.07.18-07.06.33_MD585_3_0063/MD585-N21-2015.07.18-07.06.33_MD585_3_0063_cells_aligned_mirrorDirections.bp\n"
     ]
    },
    {
     "name": "stderr",
     "output_type": "stream",
     "text": [
      "Child returned 0\n",
      "0.66 seconds.\n",
      "Processing section: 114\n"
     ]
    },
    {
     "name": "stdout",
     "output_type": "stream",
     "text": [
      "rm -rf /shared/CSHL_cells_v2/detected_cells/MD585/MD585-IHC21-2015.07.16-15.47.52_MD585_3_0063/MD585-IHC21-2015.07.16-15.47.52_MD585_3_0063_blobMaskCenters.bp && mkdir -p /shared/CSHL_cells_v2/detected_cells/MD585/MD585-IHC21-2015.07.16-15.47.52_MD585_3_0063\n"
     ]
    },
    {
     "name": "stderr",
     "output_type": "stream",
     "text": [
      "Child returned 0\n"
     ]
    },
    {
     "name": "stdout",
     "output_type": "stream",
     "text": [
      "aws s3 cp s3://mousebrainatlas-data/CSHL_cells_v2/detected_cells/MD585/MD585-IHC21-2015.07.16-15.47.52_MD585_3_0063/MD585-IHC21-2015.07.16-15.47.52_MD585_3_0063_blobMaskCenters.bp /shared/CSHL_cells_v2/detected_cells/MD585/MD585-IHC21-2015.07.16-15.47.52_MD585_3_0063/MD585-IHC21-2015.07.16-15.47.52_MD585_3_0063_blobMaskCenters.bp\n"
     ]
    },
    {
     "name": "stderr",
     "output_type": "stream",
     "text": [
      "Child returned 0\n",
      "0.81 seconds.\n",
      "Rotate cell masks: 8.92 seconds.\n"
     ]
    },
    {
     "name": "stdout",
     "output_type": "stream",
     "text": [
      "aws s3 cp /shared/CSHL_cells_v2/detected_cells/MD585/MD585-IHC18-2015.07.16-15.35.58_MD585_3_0054/MD585-IHC18-2015.07.16-15.35.58_MD585_3_0054_cells_aligned_mirrored_padded.bp s3://mousebrainatlas-data/CSHL_cells_v2/detected_cells/MD585/MD585-IHC18-2015.07.16-15.35.58_MD585_3_0054/MD585-IHC18-2015.07.16-15.35.58_MD585_3_0054_cells_aligned_mirrored_padded.bp\n"
     ]
    },
    {
     "name": "stderr",
     "output_type": "stream",
     "text": [
      "Rotate cell masks: 8.56 seconds.\n",
      "Child returned 0\n",
      "0.85 seconds.\n"
     ]
    },
    {
     "name": "stdout",
     "output_type": "stream",
     "text": [
      "aws s3 cp /shared/CSHL_cells_v2/detected_cells/MD585/MD585-IHC18-2015.07.16-15.35.58_MD585_3_0054/MD585-IHC18-2015.07.16-15.35.58_MD585_3_0054_cells_aligned_mirrorDirections.bp s3://mousebrainatlas-data/CSHL_cells_v2/detected_cells/MD585/MD585-IHC18-2015.07.16-15.35.58_MD585_3_0054/MD585-IHC18-2015.07.16-15.35.58_MD585_3_0054_cells_aligned_mirrorDirections.bp\n",
      "aws s3 cp /shared/CSHL_cells_v2/detected_cells/MD585/MD585-IHC16-2015.08.19-13.14.51_MD585_3_0048/MD585-IHC16-2015.08.19-13.14.51_MD585_3_0048_cells_aligned_mirrored_padded.bp s3://mousebrainatlas-data/CSHL_cells_v2/detected_cells/MD585/MD585-IHC16-2015.08.19-13.14.51_MD585_3_0048/MD585-IHC16-2015.08.19-13.14.51_MD585_3_0048_cells_aligned_mirrored_padded.bp\n"
     ]
    },
    {
     "name": "stderr",
     "output_type": "stream",
     "text": [
      "Child returned 0\n",
      "0.74 seconds.\n",
      "Rotate cell masks: 9.02 seconds.\n",
      "Processing section: 097\n"
     ]
    },
    {
     "name": "stdout",
     "output_type": "stream",
     "text": [
      "rm -rf /shared/CSHL_cells_v2/detected_cells/MD585/MD585-N19-2015.07.16-20.43.18_MD585_1_0055/MD585-N19-2015.07.16-20.43.18_MD585_1_0055_blobMaskCenters.bp && mkdir -p /shared/CSHL_cells_v2/detected_cells/MD585/MD585-N19-2015.07.16-20.43.18_MD585_1_0055\n"
     ]
    },
    {
     "name": "stderr",
     "output_type": "stream",
     "text": [
      "Child returned 0\n"
     ]
    },
    {
     "name": "stdout",
     "output_type": "stream",
     "text": [
      "aws s3 cp s3://mousebrainatlas-data/CSHL_cells_v2/detected_cells/MD585/MD585-N19-2015.07.16-20.43.18_MD585_1_0055/MD585-N19-2015.07.16-20.43.18_MD585_1_0055_blobMaskCenters.bp /shared/CSHL_cells_v2/detected_cells/MD585/MD585-N19-2015.07.16-20.43.18_MD585_1_0055/MD585-N19-2015.07.16-20.43.18_MD585_1_0055_blobMaskCenters.bp\n"
     ]
    },
    {
     "name": "stderr",
     "output_type": "stream",
     "text": [
      "Child returned 0\n",
      "0.76 seconds.\n"
     ]
    },
    {
     "name": "stdout",
     "output_type": "stream",
     "text": [
      "aws s3 cp /shared/CSHL_cells_v2/detected_cells/MD585/MD585-IHC16-2015.08.19-13.14.51_MD585_3_0048/MD585-IHC16-2015.08.19-13.14.51_MD585_3_0048_cells_aligned_mirrorDirections.bp s3://mousebrainatlas-data/CSHL_cells_v2/detected_cells/MD585/MD585-IHC16-2015.08.19-13.14.51_MD585_3_0048/MD585-IHC16-2015.08.19-13.14.51_MD585_3_0048_cells_aligned_mirrorDirections.bp\n"
     ]
    },
    {
     "name": "stderr",
     "output_type": "stream",
     "text": [
      "Rotate cell masks: 9.68 seconds.\n"
     ]
    },
    {
     "name": "stdout",
     "output_type": "stream",
     "text": [
      "aws s3 cp /shared/CSHL_cells_v2/detected_cells/MD585/MD585-IHC20-2015.07.16-15.43.53_MD585_3_0060/MD585-IHC20-2015.07.16-15.43.53_MD585_3_0060_cells_aligned_mirrored_padded.bp s3://mousebrainatlas-data/CSHL_cells_v2/detected_cells/MD585/MD585-IHC20-2015.07.16-15.43.53_MD585_3_0060/MD585-IHC20-2015.07.16-15.43.53_MD585_3_0060_cells_aligned_mirrored_padded.bp\n"
     ]
    },
    {
     "name": "stderr",
     "output_type": "stream",
     "text": [
      "Child returned 0\n",
      "0.69 seconds.\n",
      "Child returned 0\n",
      "0.53 seconds.\n",
      "Processing section: 085\n",
      "Rotate cell masks: 9.88 seconds.\n"
     ]
    },
    {
     "name": "stdout",
     "output_type": "stream",
     "text": [
      "aws s3 cp /shared/CSHL_cells_v2/detected_cells/MD585/MD585-IHC17-2015.07.16-15.32.03_MD585_3_0051/MD585-IHC17-2015.07.16-15.32.03_MD585_3_0051_cells_aligned_mirrored_padded.bp s3://mousebrainatlas-data/CSHL_cells_v2/detected_cells/MD585/MD585-IHC17-2015.07.16-15.32.03_MD585_3_0051/MD585-IHC17-2015.07.16-15.32.03_MD585_3_0051_cells_aligned_mirrored_padded.bp\n"
     ]
    },
    {
     "name": "stderr",
     "output_type": "stream",
     "text": [
      "Child returned 0\n",
      "0.72 seconds.\n"
     ]
    },
    {
     "name": "stdout",
     "output_type": "stream",
     "text": [
      "aws s3 cp /shared/CSHL_cells_v2/detected_cells/MD585/MD585-IHC20-2015.07.16-15.43.53_MD585_3_0060/MD585-IHC20-2015.07.16-15.43.53_MD585_3_0060_cells_aligned_mirrorDirections.bp s3://mousebrainatlas-data/CSHL_cells_v2/detected_cells/MD585/MD585-IHC20-2015.07.16-15.43.53_MD585_3_0060/MD585-IHC20-2015.07.16-15.43.53_MD585_3_0060_cells_aligned_mirrorDirections.bp\n",
      "rm -rf /shared/CSHL_cells_v2/detected_cells/MD585/MD585-N17-2015.07.16-20.35.23_MD585_1_0049/MD585-N17-2015.07.16-20.35.23_MD585_1_0049_blobMaskCenters.bp && mkdir -p /shared/CSHL_cells_v2/detected_cells/MD585/MD585-N17-2015.07.16-20.35.23_MD585_1_0049\n"
     ]
    },
    {
     "name": "stderr",
     "output_type": "stream",
     "text": [
      "Child returned 0\n"
     ]
    },
    {
     "name": "stdout",
     "output_type": "stream",
     "text": [
      "aws s3 cp s3://mousebrainatlas-data/CSHL_cells_v2/detected_cells/MD585/MD585-N17-2015.07.16-20.35.23_MD585_1_0049/MD585-N17-2015.07.16-20.35.23_MD585_1_0049_blobMaskCenters.bp /shared/CSHL_cells_v2/detected_cells/MD585/MD585-N17-2015.07.16-20.35.23_MD585_1_0049/MD585-N17-2015.07.16-20.35.23_MD585_1_0049_blobMaskCenters.bp\n",
      "aws s3 cp /shared/CSHL_cells_v2/detected_cells/MD585/MD585-IHC19-2015.07.16-15.39.52_MD585_3_0057/MD585-IHC19-2015.07.16-15.39.52_MD585_3_0057_cells_aligned_mirrored_padded.bp s3://mousebrainatlas-data/CSHL_cells_v2/detected_cells/MD585/MD585-IHC19-2015.07.16-15.39.52_MD585_3_0057/MD585-IHC19-2015.07.16-15.39.52_MD585_3_0057_cells_aligned_mirrored_padded.bp\n"
     ]
    },
    {
     "name": "stderr",
     "output_type": "stream",
     "text": [
      "Rotate cell masks: 10.67 seconds.\n",
      "Child returned 0\n",
      "0.75 seconds.\n"
     ]
    },
    {
     "name": "stdout",
     "output_type": "stream",
     "text": [
      "aws s3 cp /shared/CSHL_cells_v2/detected_cells/MD585/MD585-IHC17-2015.07.16-15.32.03_MD585_3_0051/MD585-IHC17-2015.07.16-15.32.03_MD585_3_0051_cells_aligned_mirrorDirections.bp s3://mousebrainatlas-data/CSHL_cells_v2/detected_cells/MD585/MD585-IHC17-2015.07.16-15.32.03_MD585_3_0051/MD585-IHC17-2015.07.16-15.32.03_MD585_3_0051_cells_aligned_mirrorDirections.bp\n"
     ]
    },
    {
     "name": "stderr",
     "output_type": "stream",
     "text": [
      "Child returned 0\n",
      "0.68 seconds.\n",
      "Processing section: 109\n",
      "Child returned 0\n",
      "0.76 seconds.\n"
     ]
    },
    {
     "name": "stdout",
     "output_type": "stream",
     "text": [
      "rm -rf /shared/CSHL_cells_v2/detected_cells/MD585/MD585-N21-2015.07.18-07.06.33_MD585_1_0061/MD585-N21-2015.07.18-07.06.33_MD585_1_0061_blobMaskCenters.bp && mkdir -p /shared/CSHL_cells_v2/detected_cells/MD585/MD585-N21-2015.07.18-07.06.33_MD585_1_0061\n"
     ]
    },
    {
     "name": "stderr",
     "output_type": "stream",
     "text": [
      "Child returned 0\n"
     ]
    },
    {
     "name": "stdout",
     "output_type": "stream",
     "text": [
      "aws s3 cp s3://mousebrainatlas-data/CSHL_cells_v2/detected_cells/MD585/MD585-N21-2015.07.18-07.06.33_MD585_1_0061/MD585-N21-2015.07.18-07.06.33_MD585_1_0061_blobMaskCenters.bp /shared/CSHL_cells_v2/detected_cells/MD585/MD585-N21-2015.07.18-07.06.33_MD585_1_0061/MD585-N21-2015.07.18-07.06.33_MD585_1_0061_blobMaskCenters.bp\n"
     ]
    },
    {
     "name": "stderr",
     "output_type": "stream",
     "text": [
      "Child returned 0\n",
      "0.71 seconds.\n"
     ]
    },
    {
     "name": "stdout",
     "output_type": "stream",
     "text": [
      "aws s3 cp /shared/CSHL_cells_v2/detected_cells/MD585/MD585-IHC19-2015.07.16-15.39.52_MD585_3_0057/MD585-IHC19-2015.07.16-15.39.52_MD585_3_0057_cells_aligned_mirrorDirections.bp s3://mousebrainatlas-data/CSHL_cells_v2/detected_cells/MD585/MD585-IHC19-2015.07.16-15.39.52_MD585_3_0057/MD585-IHC19-2015.07.16-15.39.52_MD585_3_0057_cells_aligned_mirrorDirections.bp\n",
      "aws s3 cp /shared/CSHL_cells_v2/detected_cells/MD585/MD585-IHC24-2015.07.18-07.14.51_MD585_3_0072/MD585-IHC24-2015.07.18-07.14.51_MD585_3_0072_cells_aligned_mirrored_padded.bp s3://mousebrainatlas-data/CSHL_cells_v2/detected_cells/MD585/MD585-IHC24-2015.07.18-07.14.51_MD585_3_0072/MD585-IHC24-2015.07.18-07.14.51_MD585_3_0072_cells_aligned_mirrored_padded.bp\n"
     ]
    },
    {
     "name": "stderr",
     "output_type": "stream",
     "text": [
      "Rotate cell masks: 10.44 seconds.\n",
      "Child returned 0\n",
      "0.73 seconds.\n",
      "Processing section: 091\n",
      "Child returned 0\n",
      "0.63 seconds.\n"
     ]
    },
    {
     "name": "stdout",
     "output_type": "stream",
     "text": [
      "rm -rf /shared/CSHL_cells_v2/detected_cells/MD585/MD585-N18-2015.07.16-20.39.16_MD585_1_0052/MD585-N18-2015.07.16-20.39.16_MD585_1_0052_blobMaskCenters.bp && mkdir -p /shared/CSHL_cells_v2/detected_cells/MD585/MD585-N18-2015.07.16-20.39.16_MD585_1_0052\n"
     ]
    },
    {
     "name": "stderr",
     "output_type": "stream",
     "text": [
      "Child returned 0\n"
     ]
    },
    {
     "name": "stdout",
     "output_type": "stream",
     "text": [
      "aws s3 cp s3://mousebrainatlas-data/CSHL_cells_v2/detected_cells/MD585/MD585-N18-2015.07.16-20.39.16_MD585_1_0052/MD585-N18-2015.07.16-20.39.16_MD585_1_0052_blobMaskCenters.bp /shared/CSHL_cells_v2/detected_cells/MD585/MD585-N18-2015.07.16-20.39.16_MD585_1_0052/MD585-N18-2015.07.16-20.39.16_MD585_1_0052_blobMaskCenters.bp\n",
      "aws s3 cp /shared/CSHL_cells_v2/detected_cells/MD585/MD585-IHC22-2015.07.16-15.51.54_MD585_3_0066/MD585-IHC22-2015.07.16-15.51.54_MD585_3_0066_cells_aligned_mirrored_padded.bp s3://mousebrainatlas-data/CSHL_cells_v2/detected_cells/MD585/MD585-IHC22-2015.07.16-15.51.54_MD585_3_0066/MD585-IHC22-2015.07.16-15.51.54_MD585_3_0066_cells_aligned_mirrored_padded.bp\n"
     ]
    },
    {
     "name": "stderr",
     "output_type": "stream",
     "text": [
      "Child returned 0\n",
      "0.70 seconds.\n",
      "Processing section: 103\n",
      "Child returned 0\n",
      "0.75 seconds.\n"
     ]
    },
    {
     "name": "stdout",
     "output_type": "stream",
     "text": [
      "aws s3 cp /shared/CSHL_cells_v2/detected_cells/MD585/MD585-IHC24-2015.07.18-07.14.51_MD585_3_0072/MD585-IHC24-2015.07.18-07.14.51_MD585_3_0072_cells_aligned_mirrorDirections.bp s3://mousebrainatlas-data/CSHL_cells_v2/detected_cells/MD585/MD585-IHC24-2015.07.18-07.14.51_MD585_3_0072/MD585-IHC24-2015.07.18-07.14.51_MD585_3_0072_cells_aligned_mirrorDirections.bp\n"
     ]
    },
    {
     "name": "stderr",
     "output_type": "stream",
     "text": [
      "Rotate cell masks: 11.11 seconds.\n"
     ]
    },
    {
     "name": "stdout",
     "output_type": "stream",
     "text": [
      "rm -rf /shared/CSHL_cells_v2/detected_cells/MD585/MD585-N20-2015.07.16-20.47.19_MD585_1_0058/MD585-N20-2015.07.16-20.47.19_MD585_1_0058_blobMaskCenters.bp && mkdir -p /shared/CSHL_cells_v2/detected_cells/MD585/MD585-N20-2015.07.16-20.47.19_MD585_1_0058\n"
     ]
    },
    {
     "name": "stderr",
     "output_type": "stream",
     "text": [
      "Child returned 0\n"
     ]
    },
    {
     "name": "stdout",
     "output_type": "stream",
     "text": [
      "aws s3 cp s3://mousebrainatlas-data/CSHL_cells_v2/detected_cells/MD585/MD585-N20-2015.07.16-20.47.19_MD585_1_0058/MD585-N20-2015.07.16-20.47.19_MD585_1_0058_blobMaskCenters.bp /shared/CSHL_cells_v2/detected_cells/MD585/MD585-N20-2015.07.16-20.47.19_MD585_1_0058/MD585-N20-2015.07.16-20.47.19_MD585_1_0058_blobMaskCenters.bp\n"
     ]
    },
    {
     "name": "stderr",
     "output_type": "stream",
     "text": [
      "Rotate cell masks: 12.74 seconds.\n",
      "Child returned 0\n",
      "Child returned 0\n",
      "0.74 seconds.\n",
      "0.73 seconds.\n"
     ]
    },
    {
     "name": "stdout",
     "output_type": "stream",
     "text": [
      "aws s3 cp /shared/CSHL_cells_v2/detected_cells/MD585/MD585-IHC22-2015.07.16-15.51.54_MD585_3_0066/MD585-IHC22-2015.07.16-15.51.54_MD585_3_0066_cells_aligned_mirrorDirections.bp s3://mousebrainatlas-data/CSHL_cells_v2/detected_cells/MD585/MD585-IHC22-2015.07.16-15.51.54_MD585_3_0066/MD585-IHC22-2015.07.16-15.51.54_MD585_3_0066_cells_aligned_mirrorDirections.bp\n"
     ]
    },
    {
     "name": "stderr",
     "output_type": "stream",
     "text": [
      "Child returned 0\n",
      "0.68 seconds.\n"
     ]
    },
    {
     "name": "stdout",
     "output_type": "stream",
     "text": [
      "aws s3 cp /shared/CSHL_cells_v2/detected_cells/MD585/MD585-IHC23-2015.08.19-13.18.49_MD585_3_0069/MD585-IHC23-2015.08.19-13.18.49_MD585_3_0069_cells_aligned_mirrored_padded.bp s3://mousebrainatlas-data/CSHL_cells_v2/detected_cells/MD585/MD585-IHC23-2015.08.19-13.18.49_MD585_3_0069/MD585-IHC23-2015.08.19-13.18.49_MD585_3_0069_cells_aligned_mirrored_padded.bp\n"
     ]
    },
    {
     "name": "stderr",
     "output_type": "stream",
     "text": [
      "Processing section: 133\n",
      "Child returned 0\n",
      "0.69 seconds.\n"
     ]
    },
    {
     "name": "stdout",
     "output_type": "stream",
     "text": [
      "rm -rf /shared/CSHL_cells_v2/detected_cells/MD585/MD585-N25-2015.08.19-15.33.31_MD585_1_0073/MD585-N25-2015.08.19-15.33.31_MD585_1_0073_blobMaskCenters.bp && mkdir -p /shared/CSHL_cells_v2/detected_cells/MD585/MD585-N25-2015.08.19-15.33.31_MD585_1_0073\n"
     ]
    },
    {
     "name": "stderr",
     "output_type": "stream",
     "text": [
      "Rotate cell masks: 12.76 seconds.\n",
      "Child returned 0\n"
     ]
    },
    {
     "name": "stdout",
     "output_type": "stream",
     "text": [
      "aws s3 cp s3://mousebrainatlas-data/CSHL_cells_v2/detected_cells/MD585/MD585-N25-2015.08.19-15.33.31_MD585_1_0073/MD585-N25-2015.08.19-15.33.31_MD585_1_0073_blobMaskCenters.bp /shared/CSHL_cells_v2/detected_cells/MD585/MD585-N25-2015.08.19-15.33.31_MD585_1_0073/MD585-N25-2015.08.19-15.33.31_MD585_1_0073_blobMaskCenters.bp\n",
      "aws s3 cp /shared/CSHL_cells_v2/detected_cells/MD585/MD585-IHC26-2015.08.19-13.23.15_MD585_3_0078/MD585-IHC26-2015.08.19-13.23.15_MD585_3_0078_cells_aligned_mirrored_padded.bp s3://mousebrainatlas-data/CSHL_cells_v2/detected_cells/MD585/MD585-IHC26-2015.08.19-13.23.15_MD585_3_0078/MD585-IHC26-2015.08.19-13.23.15_MD585_3_0078_cells_aligned_mirrored_padded.bp\n"
     ]
    },
    {
     "name": "stderr",
     "output_type": "stream",
     "text": [
      "Child returned 0\n",
      "0.61 seconds.\n",
      "Processing section: 121\n",
      "Rotate cell masks: 13.10 seconds.\n"
     ]
    },
    {
     "name": "stdout",
     "output_type": "stream",
     "text": [
      "rm -rf /shared/CSHL_cells_v2/detected_cells/MD585/MD585-N23-2015.07.16-20.51.24_MD585_1_0067/MD585-N23-2015.07.16-20.51.24_MD585_1_0067_blobMaskCenters.bp && mkdir -p /shared/CSHL_cells_v2/detected_cells/MD585/MD585-N23-2015.07.16-20.51.24_MD585_1_0067\n"
     ]
    },
    {
     "name": "stderr",
     "output_type": "stream",
     "text": [
      "Child returned 0\n"
     ]
    },
    {
     "name": "stdout",
     "output_type": "stream",
     "text": [
      "aws s3 cp s3://mousebrainatlas-data/CSHL_cells_v2/detected_cells/MD585/MD585-N23-2015.07.16-20.51.24_MD585_1_0067/MD585-N23-2015.07.16-20.51.24_MD585_1_0067_blobMaskCenters.bp /shared/CSHL_cells_v2/detected_cells/MD585/MD585-N23-2015.07.16-20.51.24_MD585_1_0067/MD585-N23-2015.07.16-20.51.24_MD585_1_0067_blobMaskCenters.bp\n",
      "aws s3 cp /shared/CSHL_cells_v2/detected_cells/MD585/MD585-IHC25-2015.07.18-07.19.12_MD585_3_0075/MD585-IHC25-2015.07.18-07.19.12_MD585_3_0075_cells_aligned_mirrored_padded.bp s3://mousebrainatlas-data/CSHL_cells_v2/detected_cells/MD585/MD585-IHC25-2015.07.18-07.19.12_MD585_3_0075/MD585-IHC25-2015.07.18-07.19.12_MD585_3_0075_cells_aligned_mirrored_padded.bp\n"
     ]
    },
    {
     "name": "stderr",
     "output_type": "stream",
     "text": [
      "Child returned 0\n",
      "0.91 seconds.\n"
     ]
    },
    {
     "name": "stdout",
     "output_type": "stream",
     "text": [
      "aws s3 cp /shared/CSHL_cells_v2/detected_cells/MD585/MD585-IHC23-2015.08.19-13.18.49_MD585_3_0069/MD585-IHC23-2015.08.19-13.18.49_MD585_3_0069_cells_aligned_mirrorDirections.bp s3://mousebrainatlas-data/CSHL_cells_v2/detected_cells/MD585/MD585-IHC23-2015.08.19-13.18.49_MD585_3_0069/MD585-IHC23-2015.08.19-13.18.49_MD585_3_0069_cells_aligned_mirrorDirections.bp\n"
     ]
    },
    {
     "name": "stderr",
     "output_type": "stream",
     "text": [
      "Child returned 0\n",
      "0.80 seconds.\n",
      "Child returned 0\n",
      "0.85 seconds.\n"
     ]
    },
    {
     "name": "stdout",
     "output_type": "stream",
     "text": [
      "aws s3 cp /shared/CSHL_cells_v2/detected_cells/MD585/MD585-IHC26-2015.08.19-13.23.15_MD585_3_0078/MD585-IHC26-2015.08.19-13.23.15_MD585_3_0078_cells_aligned_mirrorDirections.bp s3://mousebrainatlas-data/CSHL_cells_v2/detected_cells/MD585/MD585-IHC26-2015.08.19-13.23.15_MD585_3_0078/MD585-IHC26-2015.08.19-13.23.15_MD585_3_0078_cells_aligned_mirrorDirections.bp\n",
      "aws s3 cp /shared/CSHL_cells_v2/detected_cells/MD585/MD585-IHC27-2015.08.19-13.28.05_MD585_3_0081/MD585-IHC27-2015.08.19-13.28.05_MD585_3_0081_cells_aligned_mirrored_padded.bp s3://mousebrainatlas-data/CSHL_cells_v2/detected_cells/MD585/MD585-IHC27-2015.08.19-13.28.05_MD585_3_0081/MD585-IHC27-2015.08.19-13.28.05_MD585_3_0081_cells_aligned_mirrored_padded.bp\n"
     ]
    },
    {
     "name": "stderr",
     "output_type": "stream",
     "text": [
      "Child returned 0\n",
      "0.59 seconds.\n",
      "Child returned 0\n",
      "0.78 seconds.\n",
      "Rotate cell masks: 11.11 seconds.\n",
      "Processing section: 127\n",
      "Child returned 0\n",
      "0.86 seconds.\n"
     ]
    },
    {
     "name": "stdout",
     "output_type": "stream",
     "text": [
      "aws s3 cp /shared/CSHL_cells_v2/detected_cells/MD585/MD585-IHC25-2015.07.18-07.19.12_MD585_3_0075/MD585-IHC25-2015.07.18-07.19.12_MD585_3_0075_cells_aligned_mirrorDirections.bp s3://mousebrainatlas-data/CSHL_cells_v2/detected_cells/MD585/MD585-IHC25-2015.07.18-07.19.12_MD585_3_0075/MD585-IHC25-2015.07.18-07.19.12_MD585_3_0075_cells_aligned_mirrorDirections.bp\n"
     ]
    },
    {
     "name": "stderr",
     "output_type": "stream",
     "text": [
      "Child returned 0\n",
      "0.70 seconds.\n"
     ]
    },
    {
     "name": "stdout",
     "output_type": "stream",
     "text": [
      "rm -rf /shared/CSHL_cells_v2/detected_cells/MD585/MD585-N24-2015.08.19-15.29.12_MD585_1_0070/MD585-N24-2015.08.19-15.29.12_MD585_1_0070_blobMaskCenters.bp && mkdir -p /shared/CSHL_cells_v2/detected_cells/MD585/MD585-N24-2015.08.19-15.29.12_MD585_1_0070\n"
     ]
    },
    {
     "name": "stderr",
     "output_type": "stream",
     "text": [
      "Child returned 0\n"
     ]
    },
    {
     "name": "stdout",
     "output_type": "stream",
     "text": [
      "aws s3 cp s3://mousebrainatlas-data/CSHL_cells_v2/detected_cells/MD585/MD585-N24-2015.08.19-15.29.12_MD585_1_0070/MD585-N24-2015.08.19-15.29.12_MD585_1_0070_blobMaskCenters.bp /shared/CSHL_cells_v2/detected_cells/MD585/MD585-N24-2015.08.19-15.29.12_MD585_1_0070/MD585-N24-2015.08.19-15.29.12_MD585_1_0070_blobMaskCenters.bp\n"
     ]
    },
    {
     "name": "stderr",
     "output_type": "stream",
     "text": [
      "Processing section: 145\n"
     ]
    },
    {
     "name": "stdout",
     "output_type": "stream",
     "text": [
      "aws s3 cp /shared/CSHL_cells_v2/detected_cells/MD585/MD585-IHC21-2015.07.16-15.47.52_MD585_3_0063/MD585-IHC21-2015.07.16-15.47.52_MD585_3_0063_cells_aligned_mirrored_padded.bp s3://mousebrainatlas-data/CSHL_cells_v2/detected_cells/MD585/MD585-IHC21-2015.07.16-15.47.52_MD585_3_0063/MD585-IHC21-2015.07.16-15.47.52_MD585_3_0063_cells_aligned_mirrored_padded.bp\n",
      "rm -rf /shared/CSHL_cells_v2/detected_cells/MD585/MD585-N27-2015.08.19-15.42.30_MD585_1_0079/MD585-N27-2015.08.19-15.42.30_MD585_1_0079_blobMaskCenters.bp && mkdir -p /shared/CSHL_cells_v2/detected_cells/MD585/MD585-N27-2015.08.19-15.42.30_MD585_1_0079\n"
     ]
    },
    {
     "name": "stderr",
     "output_type": "stream",
     "text": [
      "Child returned 0\n"
     ]
    },
    {
     "name": "stdout",
     "output_type": "stream",
     "text": [
      "aws s3 cp s3://mousebrainatlas-data/CSHL_cells_v2/detected_cells/MD585/MD585-N27-2015.08.19-15.42.30_MD585_1_0079/MD585-N27-2015.08.19-15.42.30_MD585_1_0079_blobMaskCenters.bp /shared/CSHL_cells_v2/detected_cells/MD585/MD585-N27-2015.08.19-15.42.30_MD585_1_0079/MD585-N27-2015.08.19-15.42.30_MD585_1_0079_blobMaskCenters.bp\n"
     ]
    },
    {
     "name": "stderr",
     "output_type": "stream",
     "text": [
      "Child returned 0\n",
      "1.02 seconds.\n",
      "Child returned 0\n",
      "0.69 seconds.\n"
     ]
    },
    {
     "name": "stdout",
     "output_type": "stream",
     "text": [
      "aws s3 cp /shared/CSHL_cells_v2/detected_cells/MD585/MD585-IHC27-2015.08.19-13.28.05_MD585_3_0081/MD585-IHC27-2015.08.19-13.28.05_MD585_3_0081_cells_aligned_mirrorDirections.bp s3://mousebrainatlas-data/CSHL_cells_v2/detected_cells/MD585/MD585-IHC27-2015.08.19-13.28.05_MD585_3_0081/MD585-IHC27-2015.08.19-13.28.05_MD585_3_0081_cells_aligned_mirrorDirections.bp\n"
     ]
    },
    {
     "name": "stderr",
     "output_type": "stream",
     "text": [
      "Child returned 0\n",
      "Processing section: 139\n",
      "0.72 seconds.\n",
      "Child returned 0\n",
      "0.61 seconds.\n"
     ]
    },
    {
     "name": "stdout",
     "output_type": "stream",
     "text": [
      "aws s3 cp /shared/CSHL_cells_v2/detected_cells/MD585/MD585-IHC21-2015.07.16-15.47.52_MD585_3_0063/MD585-IHC21-2015.07.16-15.47.52_MD585_3_0063_cells_aligned_mirrorDirections.bp s3://mousebrainatlas-data/CSHL_cells_v2/detected_cells/MD585/MD585-IHC21-2015.07.16-15.47.52_MD585_3_0063/MD585-IHC21-2015.07.16-15.47.52_MD585_3_0063_cells_aligned_mirrorDirections.bp\n",
      "rm -rf /shared/CSHL_cells_v2/detected_cells/MD585/MD585-N26-2015.08.19-15.37.53_MD585_1_0076/MD585-N26-2015.08.19-15.37.53_MD585_1_0076_blobMaskCenters.bp && mkdir -p /shared/CSHL_cells_v2/detected_cells/MD585/MD585-N26-2015.08.19-15.37.53_MD585_1_0076\n"
     ]
    },
    {
     "name": "stderr",
     "output_type": "stream",
     "text": [
      "Child returned 0\n",
      "0.52 seconds.\n",
      "Child returned 0\n"
     ]
    },
    {
     "name": "stdout",
     "output_type": "stream",
     "text": [
      "aws s3 cp s3://mousebrainatlas-data/CSHL_cells_v2/detected_cells/MD585/MD585-N26-2015.08.19-15.37.53_MD585_1_0076/MD585-N26-2015.08.19-15.37.53_MD585_1_0076_blobMaskCenters.bp /shared/CSHL_cells_v2/detected_cells/MD585/MD585-N26-2015.08.19-15.37.53_MD585_1_0076/MD585-N26-2015.08.19-15.37.53_MD585_1_0076_blobMaskCenters.bp\n"
     ]
    },
    {
     "name": "stderr",
     "output_type": "stream",
     "text": [
      "Child returned 0\n",
      "0.74 seconds.\n",
      "Processing section: 151\n",
      "Child returned 0\n",
      "0.56 seconds.\n"
     ]
    },
    {
     "name": "stdout",
     "output_type": "stream",
     "text": [
      "rm -rf /shared/CSHL_cells_v2/detected_cells/MD585/MD585-N28-2015.08.19-15.47.09_MD585_1_0082/MD585-N28-2015.08.19-15.47.09_MD585_1_0082_blobMaskCenters.bp && mkdir -p /shared/CSHL_cells_v2/detected_cells/MD585/MD585-N28-2015.08.19-15.47.09_MD585_1_0082\n"
     ]
    },
    {
     "name": "stderr",
     "output_type": "stream",
     "text": [
      "Child returned 0\n"
     ]
    },
    {
     "name": "stdout",
     "output_type": "stream",
     "text": [
      "aws s3 cp s3://mousebrainatlas-data/CSHL_cells_v2/detected_cells/MD585/MD585-N28-2015.08.19-15.47.09_MD585_1_0082/MD585-N28-2015.08.19-15.47.09_MD585_1_0082_blobMaskCenters.bp /shared/CSHL_cells_v2/detected_cells/MD585/MD585-N28-2015.08.19-15.47.09_MD585_1_0082/MD585-N28-2015.08.19-15.47.09_MD585_1_0082_blobMaskCenters.bp\n"
     ]
    },
    {
     "name": "stderr",
     "output_type": "stream",
     "text": [
      "Processing section: 115\n",
      "Child returned 0\n",
      "0.80 seconds.\n"
     ]
    },
    {
     "name": "stdout",
     "output_type": "stream",
     "text": [
      "rm -rf /shared/CSHL_cells_v2/detected_cells/MD585/MD585-N22-2015.07.18-07.10.40_MD585_1_0064/MD585-N22-2015.07.18-07.10.40_MD585_1_0064_blobMaskCenters.bp && mkdir -p /shared/CSHL_cells_v2/detected_cells/MD585/MD585-N22-2015.07.18-07.10.40_MD585_1_0064\n"
     ]
    },
    {
     "name": "stderr",
     "output_type": "stream",
     "text": [
      "Child returned 0\n"
     ]
    },
    {
     "name": "stdout",
     "output_type": "stream",
     "text": [
      "aws s3 cp s3://mousebrainatlas-data/CSHL_cells_v2/detected_cells/MD585/MD585-N22-2015.07.18-07.10.40_MD585_1_0064/MD585-N22-2015.07.18-07.10.40_MD585_1_0064_blobMaskCenters.bp /shared/CSHL_cells_v2/detected_cells/MD585/MD585-N22-2015.07.18-07.10.40_MD585_1_0064/MD585-N22-2015.07.18-07.10.40_MD585_1_0064_blobMaskCenters.bp\n"
     ]
    },
    {
     "name": "stderr",
     "output_type": "stream",
     "text": [
      "Child returned 0\n",
      "0.80 seconds.\n",
      "Child returned 0\n",
      "0.85 seconds.\n",
      "Rotate cell masks: 10.69 seconds.\n"
     ]
    },
    {
     "name": "stdout",
     "output_type": "stream",
     "text": [
      "aws s3 cp /shared/CSHL_cells_v2/detected_cells/MD585/MD585-N19-2015.07.16-20.43.18_MD585_1_0055/MD585-N19-2015.07.16-20.43.18_MD585_1_0055_cells_aligned_mirrored_padded.bp s3://mousebrainatlas-data/CSHL_cells_v2/detected_cells/MD585/MD585-N19-2015.07.16-20.43.18_MD585_1_0055/MD585-N19-2015.07.16-20.43.18_MD585_1_0055_cells_aligned_mirrored_padded.bp\n"
     ]
    },
    {
     "name": "stderr",
     "output_type": "stream",
     "text": [
      "Rotate cell masks: 8.49 seconds.\n",
      "Rotate cell masks: 10.36 seconds.\n",
      "Child returned 0\n",
      "0.74 seconds.\n"
     ]
    },
    {
     "name": "stdout",
     "output_type": "stream",
     "text": [
      "aws s3 cp /shared/CSHL_cells_v2/detected_cells/MD585/MD585-N19-2015.07.16-20.43.18_MD585_1_0055/MD585-N19-2015.07.16-20.43.18_MD585_1_0055_cells_aligned_mirrorDirections.bp s3://mousebrainatlas-data/CSHL_cells_v2/detected_cells/MD585/MD585-N19-2015.07.16-20.43.18_MD585_1_0055/MD585-N19-2015.07.16-20.43.18_MD585_1_0055_cells_aligned_mirrorDirections.bp\n",
      "aws s3 cp /shared/CSHL_cells_v2/detected_cells/MD585/MD585-N18-2015.07.16-20.39.16_MD585_1_0052/MD585-N18-2015.07.16-20.39.16_MD585_1_0052_cells_aligned_mirrored_padded.bp s3://mousebrainatlas-data/CSHL_cells_v2/detected_cells/MD585/MD585-N18-2015.07.16-20.39.16_MD585_1_0052/MD585-N18-2015.07.16-20.39.16_MD585_1_0052_cells_aligned_mirrored_padded.bp\n"
     ]
    },
    {
     "name": "stderr",
     "output_type": "stream",
     "text": [
      "Rotate cell masks: 10.01 seconds.\n"
     ]
    },
    {
     "name": "stdout",
     "output_type": "stream",
     "text": [
      "aws s3 cp /shared/CSHL_cells_v2/detected_cells/MD585/MD585-N17-2015.07.16-20.35.23_MD585_1_0049/MD585-N17-2015.07.16-20.35.23_MD585_1_0049_cells_aligned_mirrored_padded.bp s3://mousebrainatlas-data/CSHL_cells_v2/detected_cells/MD585/MD585-N17-2015.07.16-20.35.23_MD585_1_0049/MD585-N17-2015.07.16-20.35.23_MD585_1_0049_cells_aligned_mirrored_padded.bp\n"
     ]
    },
    {
     "name": "stderr",
     "output_type": "stream",
     "text": [
      "Child returned 0\n",
      "0.56 seconds.\n"
     ]
    },
    {
     "name": "stdout",
     "output_type": "stream",
     "text": [
      "aws s3 cp /shared/CSHL_cells_v2/detected_cells/MD585/MD585-N21-2015.07.18-07.06.33_MD585_1_0061/MD585-N21-2015.07.18-07.06.33_MD585_1_0061_cells_aligned_mirrored_padded.bp s3://mousebrainatlas-data/CSHL_cells_v2/detected_cells/MD585/MD585-N21-2015.07.18-07.06.33_MD585_1_0061/MD585-N21-2015.07.18-07.06.33_MD585_1_0061_cells_aligned_mirrored_padded.bp\n"
     ]
    },
    {
     "name": "stderr",
     "output_type": "stream",
     "text": [
      "Processing section: 098\n"
     ]
    },
    {
     "name": "stdout",
     "output_type": "stream",
     "text": [
      "rm -rf /shared/CSHL_cells_v2/detected_cells/MD585/MD585-IHC19-2015.07.16-15.39.52_MD585_1_0055/MD585-IHC19-2015.07.16-15.39.52_MD585_1_0055_blobMaskCenters.bp && mkdir -p /shared/CSHL_cells_v2/detected_cells/MD585/MD585-IHC19-2015.07.16-15.39.52_MD585_1_0055\n"
     ]
    },
    {
     "name": "stderr",
     "output_type": "stream",
     "text": [
      "Child returned 0\n"
     ]
    },
    {
     "name": "stdout",
     "output_type": "stream",
     "text": [
      "aws s3 cp s3://mousebrainatlas-data/CSHL_cells_v2/detected_cells/MD585/MD585-IHC19-2015.07.16-15.39.52_MD585_1_0055/MD585-IHC19-2015.07.16-15.39.52_MD585_1_0055_blobMaskCenters.bp /shared/CSHL_cells_v2/detected_cells/MD585/MD585-IHC19-2015.07.16-15.39.52_MD585_1_0055/MD585-IHC19-2015.07.16-15.39.52_MD585_1_0055_blobMaskCenters.bp\n"
     ]
    },
    {
     "name": "stderr",
     "output_type": "stream",
     "text": [
      "Child returned 0\n",
      "0.98 seconds.\n"
     ]
    },
    {
     "name": "stdout",
     "output_type": "stream",
     "text": [
      "aws s3 cp /shared/CSHL_cells_v2/detected_cells/MD585/MD585-N18-2015.07.16-20.39.16_MD585_1_0052/MD585-N18-2015.07.16-20.39.16_MD585_1_0052_cells_aligned_mirrorDirections.bp s3://mousebrainatlas-data/CSHL_cells_v2/detected_cells/MD585/MD585-N18-2015.07.16-20.39.16_MD585_1_0052/MD585-N18-2015.07.16-20.39.16_MD585_1_0052_cells_aligned_mirrorDirections.bp\n"
     ]
    },
    {
     "name": "stderr",
     "output_type": "stream",
     "text": [
      "Rotate cell masks: 9.70 seconds.\n",
      "Child returned 0\n",
      "0.79 seconds.\n"
     ]
    },
    {
     "name": "stdout",
     "output_type": "stream",
     "text": [
      "aws s3 cp /shared/CSHL_cells_v2/detected_cells/MD585/MD585-N17-2015.07.16-20.35.23_MD585_1_0049/MD585-N17-2015.07.16-20.35.23_MD585_1_0049_cells_aligned_mirrorDirections.bp s3://mousebrainatlas-data/CSHL_cells_v2/detected_cells/MD585/MD585-N17-2015.07.16-20.35.23_MD585_1_0049/MD585-N17-2015.07.16-20.35.23_MD585_1_0049_cells_aligned_mirrorDirections.bp\n"
     ]
    },
    {
     "name": "stderr",
     "output_type": "stream",
     "text": [
      "Child returned 0\n",
      "0.76 seconds.\n"
     ]
    },
    {
     "name": "stdout",
     "output_type": "stream",
     "text": [
      "aws s3 cp /shared/CSHL_cells_v2/detected_cells/MD585/MD585-N21-2015.07.18-07.06.33_MD585_1_0061/MD585-N21-2015.07.18-07.06.33_MD585_1_0061_cells_aligned_mirrorDirections.bp s3://mousebrainatlas-data/CSHL_cells_v2/detected_cells/MD585/MD585-N21-2015.07.18-07.06.33_MD585_1_0061/MD585-N21-2015.07.18-07.06.33_MD585_1_0061_cells_aligned_mirrorDirections.bp\n"
     ]
    },
    {
     "name": "stderr",
     "output_type": "stream",
     "text": [
      "Child returned 0\n",
      "0.52 seconds.\n"
     ]
    },
    {
     "name": "stdout",
     "output_type": "stream",
     "text": [
      "aws s3 cp /shared/CSHL_cells_v2/detected_cells/MD585/MD585-N20-2015.07.16-20.47.19_MD585_1_0058/MD585-N20-2015.07.16-20.47.19_MD585_1_0058_cells_aligned_mirrored_padded.bp s3://mousebrainatlas-data/CSHL_cells_v2/detected_cells/MD585/MD585-N20-2015.07.16-20.47.19_MD585_1_0058/MD585-N20-2015.07.16-20.47.19_MD585_1_0058_cells_aligned_mirrored_padded.bp\n"
     ]
    },
    {
     "name": "stderr",
     "output_type": "stream",
     "text": [
      "Processing section: 092\n",
      "Child returned 0\n",
      "0.84 seconds.\n",
      "Child returned 0\n",
      "0.69 seconds.\n"
     ]
    },
    {
     "name": "stdout",
     "output_type": "stream",
     "text": [
      "rm -rf /shared/CSHL_cells_v2/detected_cells/MD585/MD585-IHC18-2015.07.16-15.35.58_MD585_1_0052/MD585-IHC18-2015.07.16-15.35.58_MD585_1_0052_blobMaskCenters.bp && mkdir -p /shared/CSHL_cells_v2/detected_cells/MD585/MD585-IHC18-2015.07.16-15.35.58_MD585_1_0052\n"
     ]
    },
    {
     "name": "stderr",
     "output_type": "stream",
     "text": [
      "Child returned 0\n"
     ]
    },
    {
     "name": "stdout",
     "output_type": "stream",
     "text": [
      "aws s3 cp s3://mousebrainatlas-data/CSHL_cells_v2/detected_cells/MD585/MD585-IHC18-2015.07.16-15.35.58_MD585_1_0052/MD585-IHC18-2015.07.16-15.35.58_MD585_1_0052_blobMaskCenters.bp /shared/CSHL_cells_v2/detected_cells/MD585/MD585-IHC18-2015.07.16-15.35.58_MD585_1_0052/MD585-IHC18-2015.07.16-15.35.58_MD585_1_0052_blobMaskCenters.bp\n"
     ]
    },
    {
     "name": "stderr",
     "output_type": "stream",
     "text": [
      "Rotate cell masks: 9.72 seconds.\n",
      "Processing section: 086\n"
     ]
    },
    {
     "name": "stdout",
     "output_type": "stream",
     "text": [
      "rm -rf /shared/CSHL_cells_v2/detected_cells/MD585/MD585-IHC17-2015.07.16-15.32.03_MD585_1_0049/MD585-IHC17-2015.07.16-15.32.03_MD585_1_0049_blobMaskCenters.bp && mkdir -p /shared/CSHL_cells_v2/detected_cells/MD585/MD585-IHC17-2015.07.16-15.32.03_MD585_1_0049\n"
     ]
    },
    {
     "name": "stderr",
     "output_type": "stream",
     "text": [
      "Child returned 0\n"
     ]
    },
    {
     "name": "stdout",
     "output_type": "stream",
     "text": [
      "aws s3 cp s3://mousebrainatlas-data/CSHL_cells_v2/detected_cells/MD585/MD585-IHC17-2015.07.16-15.32.03_MD585_1_0049/MD585-IHC17-2015.07.16-15.32.03_MD585_1_0049_blobMaskCenters.bp /shared/CSHL_cells_v2/detected_cells/MD585/MD585-IHC17-2015.07.16-15.32.03_MD585_1_0049/MD585-IHC17-2015.07.16-15.32.03_MD585_1_0049_blobMaskCenters.bp\n"
     ]
    },
    {
     "name": "stderr",
     "output_type": "stream",
     "text": [
      "Child returned 0\n",
      "0.76 seconds.\n",
      "Child returned 0\n",
      "0.68 seconds.\n"
     ]
    },
    {
     "name": "stdout",
     "output_type": "stream",
     "text": [
      "aws s3 cp /shared/CSHL_cells_v2/detected_cells/MD585/MD585-N20-2015.07.16-20.47.19_MD585_1_0058/MD585-N20-2015.07.16-20.47.19_MD585_1_0058_cells_aligned_mirrorDirections.bp s3://mousebrainatlas-data/CSHL_cells_v2/detected_cells/MD585/MD585-N20-2015.07.16-20.47.19_MD585_1_0058/MD585-N20-2015.07.16-20.47.19_MD585_1_0058_cells_aligned_mirrorDirections.bp\n"
     ]
    },
    {
     "name": "stderr",
     "output_type": "stream",
     "text": [
      "Processing section: 110\n"
     ]
    },
    {
     "name": "stdout",
     "output_type": "stream",
     "text": [
      "aws s3 cp /shared/CSHL_cells_v2/detected_cells/MD585/MD585-N25-2015.08.19-15.33.31_MD585_1_0073/MD585-N25-2015.08.19-15.33.31_MD585_1_0073_cells_aligned_mirrored_padded.bp s3://mousebrainatlas-data/CSHL_cells_v2/detected_cells/MD585/MD585-N25-2015.08.19-15.33.31_MD585_1_0073/MD585-N25-2015.08.19-15.33.31_MD585_1_0073_cells_aligned_mirrored_padded.bp\n",
      "rm -rf /shared/CSHL_cells_v2/detected_cells/MD585/MD585-IHC21-2015.07.16-15.47.52_MD585_1_0061/MD585-IHC21-2015.07.16-15.47.52_MD585_1_0061_blobMaskCenters.bp && mkdir -p /shared/CSHL_cells_v2/detected_cells/MD585/MD585-IHC21-2015.07.16-15.47.52_MD585_1_0061\n"
     ]
    },
    {
     "name": "stderr",
     "output_type": "stream",
     "text": [
      "Child returned 0\n"
     ]
    },
    {
     "name": "stdout",
     "output_type": "stream",
     "text": [
      "aws s3 cp s3://mousebrainatlas-data/CSHL_cells_v2/detected_cells/MD585/MD585-IHC21-2015.07.16-15.47.52_MD585_1_0061/MD585-IHC21-2015.07.16-15.47.52_MD585_1_0061_blobMaskCenters.bp /shared/CSHL_cells_v2/detected_cells/MD585/MD585-IHC21-2015.07.16-15.47.52_MD585_1_0061/MD585-IHC21-2015.07.16-15.47.52_MD585_1_0061_blobMaskCenters.bp\n"
     ]
    },
    {
     "name": "stderr",
     "output_type": "stream",
     "text": [
      "Child returned 0\n",
      "0.83 seconds.\n",
      "Child returned 0\n",
      "0.67 seconds.\n",
      "Child returned 0\n",
      "0.71 seconds.\n",
      "Processing section: 104\n",
      "Child returned 0\n",
      "0.82 seconds.\n"
     ]
    },
    {
     "name": "stdout",
     "output_type": "stream",
     "text": [
      "aws s3 cp /shared/CSHL_cells_v2/detected_cells/MD585/MD585-N25-2015.08.19-15.33.31_MD585_1_0073/MD585-N25-2015.08.19-15.33.31_MD585_1_0073_cells_aligned_mirrorDirections.bp s3://mousebrainatlas-data/CSHL_cells_v2/detected_cells/MD585/MD585-N25-2015.08.19-15.33.31_MD585_1_0073/MD585-N25-2015.08.19-15.33.31_MD585_1_0073_cells_aligned_mirrorDirections.bp\n",
      "rm -rf /shared/CSHL_cells_v2/detected_cells/MD585/MD585-IHC20-2015.07.16-15.43.53_MD585_1_0058/MD585-IHC20-2015.07.16-15.43.53_MD585_1_0058_blobMaskCenters.bp && mkdir -p /shared/CSHL_cells_v2/detected_cells/MD585/MD585-IHC20-2015.07.16-15.43.53_MD585_1_0058\n"
     ]
    },
    {
     "name": "stderr",
     "output_type": "stream",
     "text": [
      "Child returned 0\n",
      "0.77 seconds.\n",
      "Child returned 0\n"
     ]
    },
    {
     "name": "stdout",
     "output_type": "stream",
     "text": [
      "aws s3 cp s3://mousebrainatlas-data/CSHL_cells_v2/detected_cells/MD585/MD585-IHC20-2015.07.16-15.43.53_MD585_1_0058/MD585-IHC20-2015.07.16-15.43.53_MD585_1_0058_blobMaskCenters.bp /shared/CSHL_cells_v2/detected_cells/MD585/MD585-IHC20-2015.07.16-15.43.53_MD585_1_0058/MD585-IHC20-2015.07.16-15.43.53_MD585_1_0058_blobMaskCenters.bp\n"
     ]
    },
    {
     "name": "stderr",
     "output_type": "stream",
     "text": [
      "Child returned 0\n",
      "0.69 seconds.\n",
      "Processing section: 134\n",
      "Child returned 0\n",
      "0.82 seconds.\n",
      "Rotate cell masks: 11.57 seconds.\n"
     ]
    },
    {
     "name": "stdout",
     "output_type": "stream",
     "text": [
      "rm -rf /shared/CSHL_cells_v2/detected_cells/MD585/MD585-IHC25-2015.07.18-07.19.12_MD585_1_0073/MD585-IHC25-2015.07.18-07.19.12_MD585_1_0073_blobMaskCenters.bp && mkdir -p /shared/CSHL_cells_v2/detected_cells/MD585/MD585-IHC25-2015.07.18-07.19.12_MD585_1_0073\n"
     ]
    },
    {
     "name": "stderr",
     "output_type": "stream",
     "text": [
      "Child returned 0\n"
     ]
    },
    {
     "name": "stdout",
     "output_type": "stream",
     "text": [
      "aws s3 cp s3://mousebrainatlas-data/CSHL_cells_v2/detected_cells/MD585/MD585-IHC25-2015.07.18-07.19.12_MD585_1_0073/MD585-IHC25-2015.07.18-07.19.12_MD585_1_0073_blobMaskCenters.bp /shared/CSHL_cells_v2/detected_cells/MD585/MD585-IHC25-2015.07.18-07.19.12_MD585_1_0073/MD585-IHC25-2015.07.18-07.19.12_MD585_1_0073_blobMaskCenters.bp\n",
      "aws s3 cp /shared/CSHL_cells_v2/detected_cells/MD585/MD585-N23-2015.07.16-20.51.24_MD585_1_0067/MD585-N23-2015.07.16-20.51.24_MD585_1_0067_cells_aligned_mirrored_padded.bp s3://mousebrainatlas-data/CSHL_cells_v2/detected_cells/MD585/MD585-N23-2015.07.16-20.51.24_MD585_1_0067/MD585-N23-2015.07.16-20.51.24_MD585_1_0067_cells_aligned_mirrored_padded.bp\n"
     ]
    },
    {
     "name": "stderr",
     "output_type": "stream",
     "text": [
      "Child returned 0\n",
      "0.78 seconds.\n",
      "Child returned 0\n",
      "0.81 seconds.\n"
     ]
    },
    {
     "name": "stdout",
     "output_type": "stream",
     "text": [
      "aws s3 cp /shared/CSHL_cells_v2/detected_cells/MD585/MD585-N23-2015.07.16-20.51.24_MD585_1_0067/MD585-N23-2015.07.16-20.51.24_MD585_1_0067_cells_aligned_mirrorDirections.bp s3://mousebrainatlas-data/CSHL_cells_v2/detected_cells/MD585/MD585-N23-2015.07.16-20.51.24_MD585_1_0067/MD585-N23-2015.07.16-20.51.24_MD585_1_0067_cells_aligned_mirrorDirections.bp\n"
     ]
    },
    {
     "name": "stderr",
     "output_type": "stream",
     "text": [
      "Child returned 0\n",
      "0.68 seconds.\n",
      "Rotate cell masks: 12.19 seconds.\n",
      "Rotate cell masks: 12.76 seconds.\n",
      "Processing section: 122\n",
      "Rotate cell masks: 10.90 seconds.\n",
      "Rotate cell masks: 11.91 seconds.\n"
     ]
    },
    {
     "name": "stdout",
     "output_type": "stream",
     "text": [
      "rm -rf /shared/CSHL_cells_v2/detected_cells/MD585/MD585-IHC23-2015.08.19-13.18.49_MD585_1_0067/MD585-IHC23-2015.08.19-13.18.49_MD585_1_0067_blobMaskCenters.bp && mkdir -p /shared/CSHL_cells_v2/detected_cells/MD585/MD585-IHC23-2015.08.19-13.18.49_MD585_1_0067\n"
     ]
    },
    {
     "name": "stderr",
     "output_type": "stream",
     "text": [
      "Child returned 0\n"
     ]
    },
    {
     "name": "stdout",
     "output_type": "stream",
     "text": [
      "aws s3 cp s3://mousebrainatlas-data/CSHL_cells_v2/detected_cells/MD585/MD585-IHC23-2015.08.19-13.18.49_MD585_1_0067/MD585-IHC23-2015.08.19-13.18.49_MD585_1_0067_blobMaskCenters.bp /shared/CSHL_cells_v2/detected_cells/MD585/MD585-IHC23-2015.08.19-13.18.49_MD585_1_0067/MD585-IHC23-2015.08.19-13.18.49_MD585_1_0067_blobMaskCenters.bp\n",
      "aws s3 cp /shared/CSHL_cells_v2/detected_cells/MD585/MD585-N27-2015.08.19-15.42.30_MD585_1_0079/MD585-N27-2015.08.19-15.42.30_MD585_1_0079_cells_aligned_mirrored_padded.bp s3://mousebrainatlas-data/CSHL_cells_v2/detected_cells/MD585/MD585-N27-2015.08.19-15.42.30_MD585_1_0079/MD585-N27-2015.08.19-15.42.30_MD585_1_0079_cells_aligned_mirrored_padded.bp\n",
      "aws s3 cp /shared/CSHL_cells_v2/detected_cells/MD585/MD585-N22-2015.07.18-07.10.40_MD585_1_0064/MD585-N22-2015.07.18-07.10.40_MD585_1_0064_cells_aligned_mirrored_padded.bp s3://mousebrainatlas-data/CSHL_cells_v2/detected_cells/MD585/MD585-N22-2015.07.18-07.10.40_MD585_1_0064/MD585-N22-2015.07.18-07.10.40_MD585_1_0064_cells_aligned_mirrored_padded.bp\n",
      "aws s3 cp /shared/CSHL_cells_v2/detected_cells/MD585/MD585-N24-2015.08.19-15.29.12_MD585_1_0070/MD585-N24-2015.08.19-15.29.12_MD585_1_0070_cells_aligned_mirrored_padded.bp s3://mousebrainatlas-data/CSHL_cells_v2/detected_cells/MD585/MD585-N24-2015.08.19-15.29.12_MD585_1_0070/MD585-N24-2015.08.19-15.29.12_MD585_1_0070_cells_aligned_mirrored_padded.bp\n"
     ]
    },
    {
     "name": "stderr",
     "output_type": "stream",
     "text": [
      "Child returned 0\n",
      "0.73 seconds.\n"
     ]
    },
    {
     "name": "stdout",
     "output_type": "stream",
     "text": [
      "aws s3 cp /shared/CSHL_cells_v2/detected_cells/MD585/MD585-N26-2015.08.19-15.37.53_MD585_1_0076/MD585-N26-2015.08.19-15.37.53_MD585_1_0076_cells_aligned_mirrored_padded.bp s3://mousebrainatlas-data/CSHL_cells_v2/detected_cells/MD585/MD585-N26-2015.08.19-15.37.53_MD585_1_0076/MD585-N26-2015.08.19-15.37.53_MD585_1_0076_cells_aligned_mirrored_padded.bp\n"
     ]
    },
    {
     "name": "stderr",
     "output_type": "stream",
     "text": [
      "Child returned 0\n",
      "0.73 seconds.\n"
     ]
    },
    {
     "name": "stdout",
     "output_type": "stream",
     "text": [
      "aws s3 cp /shared/CSHL_cells_v2/detected_cells/MD585/MD585-N27-2015.08.19-15.42.30_MD585_1_0079/MD585-N27-2015.08.19-15.42.30_MD585_1_0079_cells_aligned_mirrorDirections.bp s3://mousebrainatlas-data/CSHL_cells_v2/detected_cells/MD585/MD585-N27-2015.08.19-15.42.30_MD585_1_0079/MD585-N27-2015.08.19-15.42.30_MD585_1_0079_cells_aligned_mirrorDirections.bp\n"
     ]
    },
    {
     "name": "stderr",
     "output_type": "stream",
     "text": [
      "Child returned 0\n",
      "0.79 seconds.\n"
     ]
    },
    {
     "name": "stdout",
     "output_type": "stream",
     "text": [
      "aws s3 cp /shared/CSHL_cells_v2/detected_cells/MD585/MD585-N22-2015.07.18-07.10.40_MD585_1_0064/MD585-N22-2015.07.18-07.10.40_MD585_1_0064_cells_aligned_mirrorDirections.bp s3://mousebrainatlas-data/CSHL_cells_v2/detected_cells/MD585/MD585-N22-2015.07.18-07.10.40_MD585_1_0064/MD585-N22-2015.07.18-07.10.40_MD585_1_0064_cells_aligned_mirrorDirections.bp\n"
     ]
    },
    {
     "name": "stderr",
     "output_type": "stream",
     "text": [
      "Child returned 0\n",
      "0.76 seconds.\n"
     ]
    },
    {
     "name": "stdout",
     "output_type": "stream",
     "text": [
      "aws s3 cp /shared/CSHL_cells_v2/detected_cells/MD585/MD585-N24-2015.08.19-15.29.12_MD585_1_0070/MD585-N24-2015.08.19-15.29.12_MD585_1_0070_cells_aligned_mirrorDirections.bp s3://mousebrainatlas-data/CSHL_cells_v2/detected_cells/MD585/MD585-N24-2015.08.19-15.29.12_MD585_1_0070/MD585-N24-2015.08.19-15.29.12_MD585_1_0070_cells_aligned_mirrorDirections.bp\n"
     ]
    },
    {
     "name": "stderr",
     "output_type": "stream",
     "text": [
      "Child returned 0\n",
      "0.72 seconds.\n"
     ]
    },
    {
     "name": "stdout",
     "output_type": "stream",
     "text": [
      "aws s3 cp /shared/CSHL_cells_v2/detected_cells/MD585/MD585-N26-2015.08.19-15.37.53_MD585_1_0076/MD585-N26-2015.08.19-15.37.53_MD585_1_0076_cells_aligned_mirrorDirections.bp s3://mousebrainatlas-data/CSHL_cells_v2/detected_cells/MD585/MD585-N26-2015.08.19-15.37.53_MD585_1_0076/MD585-N26-2015.08.19-15.37.53_MD585_1_0076_cells_aligned_mirrorDirections.bp\n"
     ]
    },
    {
     "name": "stderr",
     "output_type": "stream",
     "text": [
      "Child returned 0\n",
      "0.53 seconds.\n",
      "Rotate cell masks: 13.15 seconds.\n",
      "Processing section: 146\n",
      "Child returned 0\n",
      "0.56 seconds.\n",
      "Child returned 0\n",
      "0.71 seconds.\n",
      "Processing section: 116\n",
      "Processing section: 128\n"
     ]
    },
    {
     "name": "stdout",
     "output_type": "stream",
     "text": [
      "rm -rf /shared/CSHL_cells_v2/detected_cells/MD585/MD585-IHC27-2015.08.19-13.28.05_MD585_1_0079/MD585-IHC27-2015.08.19-13.28.05_MD585_1_0079_blobMaskCenters.bp && mkdir -p /shared/CSHL_cells_v2/detected_cells/MD585/MD585-IHC27-2015.08.19-13.28.05_MD585_1_0079\n"
     ]
    },
    {
     "name": "stderr",
     "output_type": "stream",
     "text": [
      "Child returned 0\n"
     ]
    },
    {
     "name": "stdout",
     "output_type": "stream",
     "text": [
      "aws s3 cp s3://mousebrainatlas-data/CSHL_cells_v2/detected_cells/MD585/MD585-IHC27-2015.08.19-13.28.05_MD585_1_0079/MD585-IHC27-2015.08.19-13.28.05_MD585_1_0079_blobMaskCenters.bp /shared/CSHL_cells_v2/detected_cells/MD585/MD585-IHC27-2015.08.19-13.28.05_MD585_1_0079/MD585-IHC27-2015.08.19-13.28.05_MD585_1_0079_blobMaskCenters.bp\n",
      "rm -rf /shared/CSHL_cells_v2/detected_cells/MD585/MD585-IHC22-2015.07.16-15.51.54_MD585_1_0064/MD585-IHC22-2015.07.16-15.51.54_MD585_1_0064_blobMaskCenters.bp && mkdir -p /shared/CSHL_cells_v2/detected_cells/MD585/MD585-IHC22-2015.07.16-15.51.54_MD585_1_0064\n"
     ]
    },
    {
     "name": "stderr",
     "output_type": "stream",
     "text": [
      "Child returned 0\n"
     ]
    },
    {
     "name": "stdout",
     "output_type": "stream",
     "text": [
      "aws s3 cp s3://mousebrainatlas-data/CSHL_cells_v2/detected_cells/MD585/MD585-IHC22-2015.07.16-15.51.54_MD585_1_0064/MD585-IHC22-2015.07.16-15.51.54_MD585_1_0064_blobMaskCenters.bp /shared/CSHL_cells_v2/detected_cells/MD585/MD585-IHC22-2015.07.16-15.51.54_MD585_1_0064/MD585-IHC22-2015.07.16-15.51.54_MD585_1_0064_blobMaskCenters.bp\n"
     ]
    },
    {
     "name": "stderr",
     "output_type": "stream",
     "text": [
      "Child returned 0\n",
      "0.74 seconds.\n"
     ]
    },
    {
     "name": "stdout",
     "output_type": "stream",
     "text": [
      "rm -rf /shared/CSHL_cells_v2/detected_cells/MD585/MD585-IHC24-2015.07.18-07.14.51_MD585_1_0070/MD585-IHC24-2015.07.18-07.14.51_MD585_1_0070_blobMaskCenters.bp && mkdir -p /shared/CSHL_cells_v2/detected_cells/MD585/MD585-IHC24-2015.07.18-07.14.51_MD585_1_0070\n"
     ]
    },
    {
     "name": "stderr",
     "output_type": "stream",
     "text": [
      "Child returned 0\n"
     ]
    },
    {
     "name": "stdout",
     "output_type": "stream",
     "text": [
      "aws s3 cp s3://mousebrainatlas-data/CSHL_cells_v2/detected_cells/MD585/MD585-IHC24-2015.07.18-07.14.51_MD585_1_0070/MD585-IHC24-2015.07.18-07.14.51_MD585_1_0070_blobMaskCenters.bp /shared/CSHL_cells_v2/detected_cells/MD585/MD585-IHC24-2015.07.18-07.14.51_MD585_1_0070/MD585-IHC24-2015.07.18-07.14.51_MD585_1_0070_blobMaskCenters.bp\n",
      "aws s3 cp /shared/CSHL_cells_v2/detected_cells/MD585/MD585-N28-2015.08.19-15.47.09_MD585_1_0082/MD585-N28-2015.08.19-15.47.09_MD585_1_0082_cells_aligned_mirrored_padded.bp s3://mousebrainatlas-data/CSHL_cells_v2/detected_cells/MD585/MD585-N28-2015.08.19-15.47.09_MD585_1_0082/MD585-N28-2015.08.19-15.47.09_MD585_1_0082_cells_aligned_mirrored_padded.bp\n"
     ]
    },
    {
     "name": "stderr",
     "output_type": "stream",
     "text": [
      "Processing section: 140\n"
     ]
    },
    {
     "name": "stdout",
     "output_type": "stream",
     "text": [
      "rm -rf /shared/CSHL_cells_v2/detected_cells/MD585/MD585-IHC26-2015.08.19-13.23.15_MD585_1_0076/MD585-IHC26-2015.08.19-13.23.15_MD585_1_0076_blobMaskCenters.bp && mkdir -p /shared/CSHL_cells_v2/detected_cells/MD585/MD585-IHC26-2015.08.19-13.23.15_MD585_1_0076\n"
     ]
    },
    {
     "name": "stderr",
     "output_type": "stream",
     "text": [
      "Child returned 0\n"
     ]
    },
    {
     "name": "stdout",
     "output_type": "stream",
     "text": [
      "aws s3 cp s3://mousebrainatlas-data/CSHL_cells_v2/detected_cells/MD585/MD585-IHC26-2015.08.19-13.23.15_MD585_1_0076/MD585-IHC26-2015.08.19-13.23.15_MD585_1_0076_blobMaskCenters.bp /shared/CSHL_cells_v2/detected_cells/MD585/MD585-IHC26-2015.08.19-13.23.15_MD585_1_0076/MD585-IHC26-2015.08.19-13.23.15_MD585_1_0076_blobMaskCenters.bp\n"
     ]
    },
    {
     "name": "stderr",
     "output_type": "stream",
     "text": [
      "Child returned 0\n",
      "0.83 seconds.\n",
      "Child returned 0\n",
      "0.75 seconds.\n",
      "Child returned 0\n",
      "0.69 seconds.\n"
     ]
    },
    {
     "name": "stdout",
     "output_type": "stream",
     "text": [
      "aws s3 cp /shared/CSHL_cells_v2/detected_cells/MD585/MD585-N28-2015.08.19-15.47.09_MD585_1_0082/MD585-N28-2015.08.19-15.47.09_MD585_1_0082_cells_aligned_mirrorDirections.bp s3://mousebrainatlas-data/CSHL_cells_v2/detected_cells/MD585/MD585-N28-2015.08.19-15.47.09_MD585_1_0082/MD585-N28-2015.08.19-15.47.09_MD585_1_0082_cells_aligned_mirrorDirections.bp\n"
     ]
    },
    {
     "name": "stderr",
     "output_type": "stream",
     "text": [
      "Child returned 0\n",
      "0.81 seconds.\n",
      "Child returned 0\n",
      "0.65 seconds.\n",
      "Child returned 0\n",
      "0.69 seconds.\n",
      "Processing section: 152\n"
     ]
    },
    {
     "name": "stdout",
     "output_type": "stream",
     "text": [
      "rm -rf /shared/CSHL_cells_v2/detected_cells/MD585/MD585-IHC28-2015.08.19-13.33.04_MD585_1_0082/MD585-IHC28-2015.08.19-13.33.04_MD585_1_0082_blobMaskCenters.bp && mkdir -p /shared/CSHL_cells_v2/detected_cells/MD585/MD585-IHC28-2015.08.19-13.33.04_MD585_1_0082\n"
     ]
    },
    {
     "name": "stderr",
     "output_type": "stream",
     "text": [
      "Child returned 0\n"
     ]
    },
    {
     "name": "stdout",
     "output_type": "stream",
     "text": [
      "aws s3 cp s3://mousebrainatlas-data/CSHL_cells_v2/detected_cells/MD585/MD585-IHC28-2015.08.19-13.33.04_MD585_1_0082/MD585-IHC28-2015.08.19-13.33.04_MD585_1_0082_blobMaskCenters.bp /shared/CSHL_cells_v2/detected_cells/MD585/MD585-IHC28-2015.08.19-13.33.04_MD585_1_0082/MD585-IHC28-2015.08.19-13.33.04_MD585_1_0082_blobMaskCenters.bp\n"
     ]
    },
    {
     "name": "stderr",
     "output_type": "stream",
     "text": [
      "Rotate cell masks: 9.61 seconds.\n"
     ]
    },
    {
     "name": "stdout",
     "output_type": "stream",
     "text": [
      "aws s3 cp /shared/CSHL_cells_v2/detected_cells/MD585/MD585-IHC19-2015.07.16-15.39.52_MD585_1_0055/MD585-IHC19-2015.07.16-15.39.52_MD585_1_0055_cells_aligned_mirrored_padded.bp s3://mousebrainatlas-data/CSHL_cells_v2/detected_cells/MD585/MD585-IHC19-2015.07.16-15.39.52_MD585_1_0055/MD585-IHC19-2015.07.16-15.39.52_MD585_1_0055_cells_aligned_mirrored_padded.bp\n"
     ]
    },
    {
     "name": "stderr",
     "output_type": "stream",
     "text": [
      "Child returned 0\n",
      "0.81 seconds.\n",
      "Rotate cell masks: 9.28 seconds.\n",
      "Rotate cell masks: 9.88 seconds.\n"
     ]
    },
    {
     "name": "stdout",
     "output_type": "stream",
     "text": [
      "aws s3 cp /shared/CSHL_cells_v2/detected_cells/MD585/MD585-IHC17-2015.07.16-15.32.03_MD585_1_0049/MD585-IHC17-2015.07.16-15.32.03_MD585_1_0049_cells_aligned_mirrored_padded.bp s3://mousebrainatlas-data/CSHL_cells_v2/detected_cells/MD585/MD585-IHC17-2015.07.16-15.32.03_MD585_1_0049/MD585-IHC17-2015.07.16-15.32.03_MD585_1_0049_cells_aligned_mirrored_padded.bp\n"
     ]
    },
    {
     "name": "stderr",
     "output_type": "stream",
     "text": [
      "Child returned 0\n",
      "0.88 seconds.\n"
     ]
    },
    {
     "name": "stdout",
     "output_type": "stream",
     "text": [
      "aws s3 cp /shared/CSHL_cells_v2/detected_cells/MD585/MD585-IHC19-2015.07.16-15.39.52_MD585_1_0055/MD585-IHC19-2015.07.16-15.39.52_MD585_1_0055_cells_aligned_mirrorDirections.bp s3://mousebrainatlas-data/CSHL_cells_v2/detected_cells/MD585/MD585-IHC19-2015.07.16-15.39.52_MD585_1_0055/MD585-IHC19-2015.07.16-15.39.52_MD585_1_0055_cells_aligned_mirrorDirections.bp\n",
      "aws s3 cp /shared/CSHL_cells_v2/detected_cells/MD585/MD585-IHC18-2015.07.16-15.35.58_MD585_1_0052/MD585-IHC18-2015.07.16-15.35.58_MD585_1_0052_cells_aligned_mirrored_padded.bp s3://mousebrainatlas-data/CSHL_cells_v2/detected_cells/MD585/MD585-IHC18-2015.07.16-15.35.58_MD585_1_0052/MD585-IHC18-2015.07.16-15.35.58_MD585_1_0052_cells_aligned_mirrored_padded.bp\n"
     ]
    },
    {
     "name": "stderr",
     "output_type": "stream",
     "text": [
      "Child returned 0\n",
      "0.77 seconds.\n"
     ]
    },
    {
     "name": "stdout",
     "output_type": "stream",
     "text": [
      "aws s3 cp /shared/CSHL_cells_v2/detected_cells/MD585/MD585-IHC17-2015.07.16-15.32.03_MD585_1_0049/MD585-IHC17-2015.07.16-15.32.03_MD585_1_0049_cells_aligned_mirrorDirections.bp s3://mousebrainatlas-data/CSHL_cells_v2/detected_cells/MD585/MD585-IHC17-2015.07.16-15.32.03_MD585_1_0049/MD585-IHC17-2015.07.16-15.32.03_MD585_1_0049_cells_aligned_mirrorDirections.bp\n"
     ]
    },
    {
     "name": "stderr",
     "output_type": "stream",
     "text": [
      "Child returned 0\n",
      "0.68 seconds.\n",
      "Rotate cell masks: 10.08 seconds.\n",
      "Processing section: 099\n",
      "Child returned 0\n",
      "0.64 seconds.\n"
     ]
    },
    {
     "name": "stdout",
     "output_type": "stream",
     "text": [
      "aws s3 cp /shared/CSHL_cells_v2/detected_cells/MD585/MD585-IHC18-2015.07.16-15.35.58_MD585_1_0052/MD585-IHC18-2015.07.16-15.35.58_MD585_1_0052_cells_aligned_mirrorDirections.bp s3://mousebrainatlas-data/CSHL_cells_v2/detected_cells/MD585/MD585-IHC18-2015.07.16-15.35.58_MD585_1_0052/MD585-IHC18-2015.07.16-15.35.58_MD585_1_0052_cells_aligned_mirrorDirections.bp\n",
      "rm -rf /shared/CSHL_cells_v2/detected_cells/MD585/MD585-N19-2015.07.16-20.43.18_MD585_2_0056/MD585-N19-2015.07.16-20.43.18_MD585_2_0056_blobMaskCenters.bp && mkdir -p /shared/CSHL_cells_v2/detected_cells/MD585/MD585-N19-2015.07.16-20.43.18_MD585_2_0056\n"
     ]
    },
    {
     "name": "stderr",
     "output_type": "stream",
     "text": [
      "Child returned 0\n"
     ]
    },
    {
     "name": "stdout",
     "output_type": "stream",
     "text": [
      "aws s3 cp s3://mousebrainatlas-data/CSHL_cells_v2/detected_cells/MD585/MD585-N19-2015.07.16-20.43.18_MD585_2_0056/MD585-N19-2015.07.16-20.43.18_MD585_2_0056_blobMaskCenters.bp /shared/CSHL_cells_v2/detected_cells/MD585/MD585-N19-2015.07.16-20.43.18_MD585_2_0056/MD585-N19-2015.07.16-20.43.18_MD585_2_0056_blobMaskCenters.bp\n",
      "aws s3 cp /shared/CSHL_cells_v2/detected_cells/MD585/MD585-IHC21-2015.07.16-15.47.52_MD585_1_0061/MD585-IHC21-2015.07.16-15.47.52_MD585_1_0061_cells_aligned_mirrored_padded.bp s3://mousebrainatlas-data/CSHL_cells_v2/detected_cells/MD585/MD585-IHC21-2015.07.16-15.47.52_MD585_1_0061/MD585-IHC21-2015.07.16-15.47.52_MD585_1_0061_cells_aligned_mirrored_padded.bp\n"
     ]
    },
    {
     "name": "stderr",
     "output_type": "stream",
     "text": [
      "Child returned 0\n",
      "0.63 seconds.\n",
      "Processing section: 087\n"
     ]
    },
    {
     "name": "stdout",
     "output_type": "stream",
     "text": [
      "rm -rf /shared/CSHL_cells_v2/detected_cells/MD585/MD585-N17-2015.07.16-20.35.23_MD585_2_0050/MD585-N17-2015.07.16-20.35.23_MD585_2_0050_blobMaskCenters.bp && mkdir -p /shared/CSHL_cells_v2/detected_cells/MD585/MD585-N17-2015.07.16-20.35.23_MD585_2_0050\n"
     ]
    },
    {
     "name": "stderr",
     "output_type": "stream",
     "text": [
      "Child returned 0\n",
      "0.66 seconds.\n",
      "Child returned 0\n"
     ]
    },
    {
     "name": "stdout",
     "output_type": "stream",
     "text": [
      "aws s3 cp s3://mousebrainatlas-data/CSHL_cells_v2/detected_cells/MD585/MD585-N17-2015.07.16-20.35.23_MD585_2_0050/MD585-N17-2015.07.16-20.35.23_MD585_2_0050_blobMaskCenters.bp /shared/CSHL_cells_v2/detected_cells/MD585/MD585-N17-2015.07.16-20.35.23_MD585_2_0050/MD585-N17-2015.07.16-20.35.23_MD585_2_0050_blobMaskCenters.bp\n"
     ]
    },
    {
     "name": "stderr",
     "output_type": "stream",
     "text": [
      "Child returned 0\n",
      "0.65 seconds.\n",
      "Processing section: 093\n"
     ]
    },
    {
     "name": "stdout",
     "output_type": "stream",
     "text": [
      "rm -rf /shared/CSHL_cells_v2/detected_cells/MD585/MD585-N18-2015.07.16-20.39.16_MD585_2_0053/MD585-N18-2015.07.16-20.39.16_MD585_2_0053_blobMaskCenters.bp && mkdir -p /shared/CSHL_cells_v2/detected_cells/MD585/MD585-N18-2015.07.16-20.39.16_MD585_2_0053\n"
     ]
    },
    {
     "name": "stderr",
     "output_type": "stream",
     "text": [
      "Child returned 0\n"
     ]
    },
    {
     "name": "stdout",
     "output_type": "stream",
     "text": [
      "aws s3 cp s3://mousebrainatlas-data/CSHL_cells_v2/detected_cells/MD585/MD585-N18-2015.07.16-20.39.16_MD585_2_0053/MD585-N18-2015.07.16-20.39.16_MD585_2_0053_blobMaskCenters.bp /shared/CSHL_cells_v2/detected_cells/MD585/MD585-N18-2015.07.16-20.39.16_MD585_2_0053/MD585-N18-2015.07.16-20.39.16_MD585_2_0053_blobMaskCenters.bp\n"
     ]
    },
    {
     "name": "stderr",
     "output_type": "stream",
     "text": [
      "Child returned 0\n",
      "0.76 seconds.\n"
     ]
    },
    {
     "name": "stdout",
     "output_type": "stream",
     "text": [
      "aws s3 cp /shared/CSHL_cells_v2/detected_cells/MD585/MD585-IHC21-2015.07.16-15.47.52_MD585_1_0061/MD585-IHC21-2015.07.16-15.47.52_MD585_1_0061_cells_aligned_mirrorDirections.bp s3://mousebrainatlas-data/CSHL_cells_v2/detected_cells/MD585/MD585-IHC21-2015.07.16-15.47.52_MD585_1_0061/MD585-IHC21-2015.07.16-15.47.52_MD585_1_0061_cells_aligned_mirrorDirections.bp\n"
     ]
    },
    {
     "name": "stderr",
     "output_type": "stream",
     "text": [
      "Child returned 0\n",
      "0.81 seconds.\n",
      "Rotate cell masks: 11.15 seconds.\n",
      "Child returned 0\n",
      "0.64 seconds.\n",
      "Child returned 0\n",
      "0.77 seconds.\n",
      "Processing section: 111\n"
     ]
    },
    {
     "name": "stdout",
     "output_type": "stream",
     "text": [
      "rm -rf /shared/CSHL_cells_v2/detected_cells/MD585/MD585-N21-2015.07.18-07.06.33_MD585_2_0062/MD585-N21-2015.07.18-07.06.33_MD585_2_0062_blobMaskCenters.bp && mkdir -p /shared/CSHL_cells_v2/detected_cells/MD585/MD585-N21-2015.07.18-07.06.33_MD585_2_0062\n"
     ]
    },
    {
     "name": "stderr",
     "output_type": "stream",
     "text": [
      "Child returned 0\n"
     ]
    },
    {
     "name": "stdout",
     "output_type": "stream",
     "text": [
      "aws s3 cp s3://mousebrainatlas-data/CSHL_cells_v2/detected_cells/MD585/MD585-N21-2015.07.18-07.06.33_MD585_2_0062/MD585-N21-2015.07.18-07.06.33_MD585_2_0062_blobMaskCenters.bp /shared/CSHL_cells_v2/detected_cells/MD585/MD585-N21-2015.07.18-07.06.33_MD585_2_0062/MD585-N21-2015.07.18-07.06.33_MD585_2_0062_blobMaskCenters.bp\n",
      "aws s3 cp /shared/CSHL_cells_v2/detected_cells/MD585/MD585-IHC20-2015.07.16-15.43.53_MD585_1_0058/MD585-IHC20-2015.07.16-15.43.53_MD585_1_0058_cells_aligned_mirrored_padded.bp s3://mousebrainatlas-data/CSHL_cells_v2/detected_cells/MD585/MD585-IHC20-2015.07.16-15.43.53_MD585_1_0058/MD585-IHC20-2015.07.16-15.43.53_MD585_1_0058_cells_aligned_mirrored_padded.bp\n"
     ]
    },
    {
     "name": "stderr",
     "output_type": "stream",
     "text": [
      "Child returned 0\n",
      "0.82 seconds.\n",
      "Child returned 0\n",
      "0.79 seconds.\n"
     ]
    },
    {
     "name": "stdout",
     "output_type": "stream",
     "text": [
      "aws s3 cp /shared/CSHL_cells_v2/detected_cells/MD585/MD585-IHC20-2015.07.16-15.43.53_MD585_1_0058/MD585-IHC20-2015.07.16-15.43.53_MD585_1_0058_cells_aligned_mirrorDirections.bp s3://mousebrainatlas-data/CSHL_cells_v2/detected_cells/MD585/MD585-IHC20-2015.07.16-15.43.53_MD585_1_0058/MD585-IHC20-2015.07.16-15.43.53_MD585_1_0058_cells_aligned_mirrorDirections.bp\n"
     ]
    },
    {
     "name": "stderr",
     "output_type": "stream",
     "text": [
      "Child returned 0\n",
      "0.72 seconds.\n",
      "Processing section: 105\n"
     ]
    },
    {
     "name": "stdout",
     "output_type": "stream",
     "text": [
      "rm -rf /shared/CSHL_cells_v2/detected_cells/MD585/MD585-N20-2015.07.16-20.47.19_MD585_2_0059/MD585-N20-2015.07.16-20.47.19_MD585_2_0059_blobMaskCenters.bp && mkdir -p /shared/CSHL_cells_v2/detected_cells/MD585/MD585-N20-2015.07.16-20.47.19_MD585_2_0059\n"
     ]
    },
    {
     "name": "stderr",
     "output_type": "stream",
     "text": [
      "Child returned 0\n"
     ]
    },
    {
     "name": "stdout",
     "output_type": "stream",
     "text": [
      "aws s3 cp s3://mousebrainatlas-data/CSHL_cells_v2/detected_cells/MD585/MD585-N20-2015.07.16-20.47.19_MD585_2_0059/MD585-N20-2015.07.16-20.47.19_MD585_2_0059_blobMaskCenters.bp /shared/CSHL_cells_v2/detected_cells/MD585/MD585-N20-2015.07.16-20.47.19_MD585_2_0059/MD585-N20-2015.07.16-20.47.19_MD585_2_0059_blobMaskCenters.bp\n"
     ]
    },
    {
     "name": "stderr",
     "output_type": "stream",
     "text": [
      "Rotate cell masks: 12.57 seconds.\n",
      "Rotate cell masks: 10.73 seconds.\n",
      "Child returned 0\n",
      "0.83 seconds.\n"
     ]
    },
    {
     "name": "stdout",
     "output_type": "stream",
     "text": [
      "aws s3 cp /shared/CSHL_cells_v2/detected_cells/MD585/MD585-IHC25-2015.07.18-07.19.12_MD585_1_0073/MD585-IHC25-2015.07.18-07.19.12_MD585_1_0073_cells_aligned_mirrored_padded.bp s3://mousebrainatlas-data/CSHL_cells_v2/detected_cells/MD585/MD585-IHC25-2015.07.18-07.19.12_MD585_1_0073/MD585-IHC25-2015.07.18-07.19.12_MD585_1_0073_cells_aligned_mirrored_padded.bp\n",
      "aws s3 cp /shared/CSHL_cells_v2/detected_cells/MD585/MD585-IHC23-2015.08.19-13.18.49_MD585_1_0067/MD585-IHC23-2015.08.19-13.18.49_MD585_1_0067_cells_aligned_mirrored_padded.bp s3://mousebrainatlas-data/CSHL_cells_v2/detected_cells/MD585/MD585-IHC23-2015.08.19-13.18.49_MD585_1_0067/MD585-IHC23-2015.08.19-13.18.49_MD585_1_0067_cells_aligned_mirrored_padded.bp\n"
     ]
    },
    {
     "name": "stderr",
     "output_type": "stream",
     "text": [
      "Child returned 0\n",
      "0.72 seconds.\n"
     ]
    },
    {
     "name": "stdout",
     "output_type": "stream",
     "text": [
      "aws s3 cp /shared/CSHL_cells_v2/detected_cells/MD585/MD585-IHC23-2015.08.19-13.18.49_MD585_1_0067/MD585-IHC23-2015.08.19-13.18.49_MD585_1_0067_cells_aligned_mirrorDirections.bp s3://mousebrainatlas-data/CSHL_cells_v2/detected_cells/MD585/MD585-IHC23-2015.08.19-13.18.49_MD585_1_0067/MD585-IHC23-2015.08.19-13.18.49_MD585_1_0067_cells_aligned_mirrorDirections.bp\n"
     ]
    },
    {
     "name": "stderr",
     "output_type": "stream",
     "text": [
      "Child returned 0\n",
      "0.97 seconds.\n"
     ]
    },
    {
     "name": "stdout",
     "output_type": "stream",
     "text": [
      "aws s3 cp /shared/CSHL_cells_v2/detected_cells/MD585/MD585-IHC25-2015.07.18-07.19.12_MD585_1_0073/MD585-IHC25-2015.07.18-07.19.12_MD585_1_0073_cells_aligned_mirrorDirections.bp s3://mousebrainatlas-data/CSHL_cells_v2/detected_cells/MD585/MD585-IHC25-2015.07.18-07.19.12_MD585_1_0073/MD585-IHC25-2015.07.18-07.19.12_MD585_1_0073_cells_aligned_mirrorDirections.bp\n"
     ]
    },
    {
     "name": "stderr",
     "output_type": "stream",
     "text": [
      "Rotate cell masks: 10.13 seconds.\n",
      "Child returned 0\n",
      "0.67 seconds.\n",
      "Child returned 0\n",
      "0.80 seconds.\n",
      "Processing section: 135\n",
      "Processing section: 123\n"
     ]
    },
    {
     "name": "stdout",
     "output_type": "stream",
     "text": [
      "aws s3 cp /shared/CSHL_cells_v2/detected_cells/MD585/MD585-IHC22-2015.07.16-15.51.54_MD585_1_0064/MD585-IHC22-2015.07.16-15.51.54_MD585_1_0064_cells_aligned_mirrored_padded.bp s3://mousebrainatlas-data/CSHL_cells_v2/detected_cells/MD585/MD585-IHC22-2015.07.16-15.51.54_MD585_1_0064/MD585-IHC22-2015.07.16-15.51.54_MD585_1_0064_cells_aligned_mirrored_padded.bp\n",
      "rm -rf /shared/CSHL_cells_v2/detected_cells/MD585/MD585-N25-2015.08.19-15.33.31_MD585_2_0074/MD585-N25-2015.08.19-15.33.31_MD585_2_0074_blobMaskCenters.bp && mkdir -p /shared/CSHL_cells_v2/detected_cells/MD585/MD585-N25-2015.08.19-15.33.31_MD585_2_0074\n"
     ]
    },
    {
     "name": "stderr",
     "output_type": "stream",
     "text": [
      "Child returned 0\n"
     ]
    },
    {
     "name": "stdout",
     "output_type": "stream",
     "text": [
      "aws s3 cp s3://mousebrainatlas-data/CSHL_cells_v2/detected_cells/MD585/MD585-N25-2015.08.19-15.33.31_MD585_2_0074/MD585-N25-2015.08.19-15.33.31_MD585_2_0074_blobMaskCenters.bp /shared/CSHL_cells_v2/detected_cells/MD585/MD585-N25-2015.08.19-15.33.31_MD585_2_0074/MD585-N25-2015.08.19-15.33.31_MD585_2_0074_blobMaskCenters.bp\n"
     ]
    },
    {
     "name": "stderr",
     "output_type": "stream",
     "text": [
      "Rotate cell masks: 10.79 seconds.\n"
     ]
    },
    {
     "name": "stdout",
     "output_type": "stream",
     "text": [
      "rm -rf /shared/CSHL_cells_v2/detected_cells/MD585/MD585-N23-2015.07.16-20.51.24_MD585_2_0068/MD585-N23-2015.07.16-20.51.24_MD585_2_0068_blobMaskCenters.bp && mkdir -p /shared/CSHL_cells_v2/detected_cells/MD585/MD585-N23-2015.07.16-20.51.24_MD585_2_0068\n"
     ]
    },
    {
     "name": "stderr",
     "output_type": "stream",
     "text": [
      "Child returned 0\n"
     ]
    },
    {
     "name": "stdout",
     "output_type": "stream",
     "text": [
      "aws s3 cp s3://mousebrainatlas-data/CSHL_cells_v2/detected_cells/MD585/MD585-N23-2015.07.16-20.51.24_MD585_2_0068/MD585-N23-2015.07.16-20.51.24_MD585_2_0068_blobMaskCenters.bp /shared/CSHL_cells_v2/detected_cells/MD585/MD585-N23-2015.07.16-20.51.24_MD585_2_0068/MD585-N23-2015.07.16-20.51.24_MD585_2_0068_blobMaskCenters.bp\n",
      "aws s3 cp /shared/CSHL_cells_v2/detected_cells/MD585/MD585-IHC24-2015.07.18-07.14.51_MD585_1_0070/MD585-IHC24-2015.07.18-07.14.51_MD585_1_0070_cells_aligned_mirrored_padded.bp s3://mousebrainatlas-data/CSHL_cells_v2/detected_cells/MD585/MD585-IHC24-2015.07.18-07.14.51_MD585_1_0070/MD585-IHC24-2015.07.18-07.14.51_MD585_1_0070_cells_aligned_mirrored_padded.bp\n"
     ]
    },
    {
     "name": "stderr",
     "output_type": "stream",
     "text": [
      "Child returned 0\n",
      "0.81 seconds.\n",
      "Child returned 0\n",
      "0.88 seconds.\n"
     ]
    },
    {
     "name": "stdout",
     "output_type": "stream",
     "text": [
      "aws s3 cp /shared/CSHL_cells_v2/detected_cells/MD585/MD585-IHC22-2015.07.16-15.51.54_MD585_1_0064/MD585-IHC22-2015.07.16-15.51.54_MD585_1_0064_cells_aligned_mirrorDirections.bp s3://mousebrainatlas-data/CSHL_cells_v2/detected_cells/MD585/MD585-IHC22-2015.07.16-15.51.54_MD585_1_0064/MD585-IHC22-2015.07.16-15.51.54_MD585_1_0064_cells_aligned_mirrorDirections.bp\n"
     ]
    },
    {
     "name": "stderr",
     "output_type": "stream",
     "text": [
      "Child returned 0\n",
      "0.80 seconds.\n",
      "Child returned 0\n",
      "0.83 seconds.\n"
     ]
    },
    {
     "name": "stdout",
     "output_type": "stream",
     "text": [
      "aws s3 cp /shared/CSHL_cells_v2/detected_cells/MD585/MD585-IHC24-2015.07.18-07.14.51_MD585_1_0070/MD585-IHC24-2015.07.18-07.14.51_MD585_1_0070_cells_aligned_mirrorDirections.bp s3://mousebrainatlas-data/CSHL_cells_v2/detected_cells/MD585/MD585-IHC24-2015.07.18-07.14.51_MD585_1_0070/MD585-IHC24-2015.07.18-07.14.51_MD585_1_0070_cells_aligned_mirrorDirections.bp\n"
     ]
    },
    {
     "name": "stderr",
     "output_type": "stream",
     "text": [
      "Rotate cell masks: 12.04 seconds.\n",
      "Child returned 0\n",
      "0.72 seconds.\n",
      "Processing section: 117\n"
     ]
    },
    {
     "name": "stdout",
     "output_type": "stream",
     "text": [
      "rm -rf /shared/CSHL_cells_v2/detected_cells/MD585/MD585-N22-2015.07.18-07.10.40_MD585_2_0065/MD585-N22-2015.07.18-07.10.40_MD585_2_0065_blobMaskCenters.bp && mkdir -p /shared/CSHL_cells_v2/detected_cells/MD585/MD585-N22-2015.07.18-07.10.40_MD585_2_0065\n"
     ]
    },
    {
     "name": "stderr",
     "output_type": "stream",
     "text": [
      "Child returned 0\n"
     ]
    },
    {
     "name": "stdout",
     "output_type": "stream",
     "text": [
      "aws s3 cp s3://mousebrainatlas-data/CSHL_cells_v2/detected_cells/MD585/MD585-N22-2015.07.18-07.10.40_MD585_2_0065/MD585-N22-2015.07.18-07.10.40_MD585_2_0065_blobMaskCenters.bp /shared/CSHL_cells_v2/detected_cells/MD585/MD585-N22-2015.07.18-07.10.40_MD585_2_0065/MD585-N22-2015.07.18-07.10.40_MD585_2_0065_blobMaskCenters.bp\n"
     ]
    },
    {
     "name": "stderr",
     "output_type": "stream",
     "text": [
      "Child returned 0\n",
      "0.70 seconds.\n",
      "Rotate cell masks: 13.15 seconds.\n",
      "Processing section: 129\n"
     ]
    },
    {
     "name": "stdout",
     "output_type": "stream",
     "text": [
      "aws s3 cp /shared/CSHL_cells_v2/detected_cells/MD585/MD585-IHC26-2015.08.19-13.23.15_MD585_1_0076/MD585-IHC26-2015.08.19-13.23.15_MD585_1_0076_cells_aligned_mirrored_padded.bp s3://mousebrainatlas-data/CSHL_cells_v2/detected_cells/MD585/MD585-IHC26-2015.08.19-13.23.15_MD585_1_0076/MD585-IHC26-2015.08.19-13.23.15_MD585_1_0076_cells_aligned_mirrored_padded.bp\n",
      "rm -rf /shared/CSHL_cells_v2/detected_cells/MD585/MD585-N24-2015.08.19-15.29.12_MD585_2_0071/MD585-N24-2015.08.19-15.29.12_MD585_2_0071_blobMaskCenters.bp && mkdir -p /shared/CSHL_cells_v2/detected_cells/MD585/MD585-N24-2015.08.19-15.29.12_MD585_2_0071\n"
     ]
    },
    {
     "name": "stderr",
     "output_type": "stream",
     "text": [
      "Child returned 0\n"
     ]
    },
    {
     "name": "stdout",
     "output_type": "stream",
     "text": [
      "aws s3 cp s3://mousebrainatlas-data/CSHL_cells_v2/detected_cells/MD585/MD585-N24-2015.08.19-15.29.12_MD585_2_0071/MD585-N24-2015.08.19-15.29.12_MD585_2_0071_blobMaskCenters.bp /shared/CSHL_cells_v2/detected_cells/MD585/MD585-N24-2015.08.19-15.29.12_MD585_2_0071/MD585-N24-2015.08.19-15.29.12_MD585_2_0071_blobMaskCenters.bp\n"
     ]
    },
    {
     "name": "stderr",
     "output_type": "stream",
     "text": [
      "Child returned 0\n",
      "0.84 seconds.\n"
     ]
    },
    {
     "name": "stdout",
     "output_type": "stream",
     "text": [
      "aws s3 cp /shared/CSHL_cells_v2/detected_cells/MD585/MD585-IHC27-2015.08.19-13.28.05_MD585_1_0079/MD585-IHC27-2015.08.19-13.28.05_MD585_1_0079_cells_aligned_mirrored_padded.bp s3://mousebrainatlas-data/CSHL_cells_v2/detected_cells/MD585/MD585-IHC27-2015.08.19-13.28.05_MD585_1_0079/MD585-IHC27-2015.08.19-13.28.05_MD585_1_0079_cells_aligned_mirrored_padded.bp\n"
     ]
    },
    {
     "name": "stderr",
     "output_type": "stream",
     "text": [
      "Child returned 0\n",
      "0.84 seconds.\n"
     ]
    },
    {
     "name": "stdout",
     "output_type": "stream",
     "text": [
      "aws s3 cp /shared/CSHL_cells_v2/detected_cells/MD585/MD585-IHC26-2015.08.19-13.23.15_MD585_1_0076/MD585-IHC26-2015.08.19-13.23.15_MD585_1_0076_cells_aligned_mirrorDirections.bp s3://mousebrainatlas-data/CSHL_cells_v2/detected_cells/MD585/MD585-IHC26-2015.08.19-13.23.15_MD585_1_0076/MD585-IHC26-2015.08.19-13.23.15_MD585_1_0076_cells_aligned_mirrorDirections.bp\n"
     ]
    },
    {
     "name": "stderr",
     "output_type": "stream",
     "text": [
      "Child returned 0\n",
      "0.82 seconds.\n",
      "Child returned 0\n",
      "0.70 seconds.\n"
     ]
    },
    {
     "name": "stdout",
     "output_type": "stream",
     "text": [
      "aws s3 cp /shared/CSHL_cells_v2/detected_cells/MD585/MD585-IHC27-2015.08.19-13.28.05_MD585_1_0079/MD585-IHC27-2015.08.19-13.28.05_MD585_1_0079_cells_aligned_mirrorDirections.bp s3://mousebrainatlas-data/CSHL_cells_v2/detected_cells/MD585/MD585-IHC27-2015.08.19-13.28.05_MD585_1_0079/MD585-IHC27-2015.08.19-13.28.05_MD585_1_0079_cells_aligned_mirrorDirections.bp\n"
     ]
    },
    {
     "name": "stderr",
     "output_type": "stream",
     "text": [
      "Rotate cell masks: 12.51 seconds.\n",
      "Rotate cell masks: 9.36 seconds.\n",
      "Child returned 0\n",
      "0.75 seconds.\n",
      "Processing section: 141\n",
      "Child returned 0\n",
      "0.70 seconds.\n"
     ]
    },
    {
     "name": "stdout",
     "output_type": "stream",
     "text": [
      "aws s3 cp /shared/CSHL_cells_v2/detected_cells/MD585/MD585-N17-2015.07.16-20.35.23_MD585_2_0050/MD585-N17-2015.07.16-20.35.23_MD585_2_0050_cells_aligned_mirrored_padded.bp s3://mousebrainatlas-data/CSHL_cells_v2/detected_cells/MD585/MD585-N17-2015.07.16-20.35.23_MD585_2_0050/MD585-N17-2015.07.16-20.35.23_MD585_2_0050_cells_aligned_mirrored_padded.bp\n"
     ]
    },
    {
     "name": "stderr",
     "output_type": "stream",
     "text": [
      "Rotate cell masks: 9.68 seconds.\n"
     ]
    },
    {
     "name": "stdout",
     "output_type": "stream",
     "text": [
      "rm -rf /shared/CSHL_cells_v2/detected_cells/MD585/MD585-N26-2015.08.19-15.37.53_MD585_2_0077/MD585-N26-2015.08.19-15.37.53_MD585_2_0077_blobMaskCenters.bp && mkdir -p /shared/CSHL_cells_v2/detected_cells/MD585/MD585-N26-2015.08.19-15.37.53_MD585_2_0077\n"
     ]
    },
    {
     "name": "stderr",
     "output_type": "stream",
     "text": [
      "Child returned 0\n"
     ]
    },
    {
     "name": "stdout",
     "output_type": "stream",
     "text": [
      "aws s3 cp s3://mousebrainatlas-data/CSHL_cells_v2/detected_cells/MD585/MD585-N26-2015.08.19-15.37.53_MD585_2_0077/MD585-N26-2015.08.19-15.37.53_MD585_2_0077_blobMaskCenters.bp /shared/CSHL_cells_v2/detected_cells/MD585/MD585-N26-2015.08.19-15.37.53_MD585_2_0077/MD585-N26-2015.08.19-15.37.53_MD585_2_0077_blobMaskCenters.bp\n",
      "aws s3 cp /shared/CSHL_cells_v2/detected_cells/MD585/MD585-IHC28-2015.08.19-13.33.04_MD585_1_0082/MD585-IHC28-2015.08.19-13.33.04_MD585_1_0082_cells_aligned_mirrored_padded.bp s3://mousebrainatlas-data/CSHL_cells_v2/detected_cells/MD585/MD585-IHC28-2015.08.19-13.33.04_MD585_1_0082/MD585-IHC28-2015.08.19-13.33.04_MD585_1_0082_cells_aligned_mirrored_padded.bp\n"
     ]
    },
    {
     "name": "stderr",
     "output_type": "stream",
     "text": [
      "Processing section: 147\n",
      "Rotate cell masks: 10.81 seconds.\n"
     ]
    },
    {
     "name": "stdout",
     "output_type": "stream",
     "text": [
      "rm -rf /shared/CSHL_cells_v2/detected_cells/MD585/MD585-N27-2015.08.19-15.42.30_MD585_2_0080/MD585-N27-2015.08.19-15.42.30_MD585_2_0080_blobMaskCenters.bp && mkdir -p /shared/CSHL_cells_v2/detected_cells/MD585/MD585-N27-2015.08.19-15.42.30_MD585_2_0080\n"
     ]
    },
    {
     "name": "stderr",
     "output_type": "stream",
     "text": [
      "Child returned 0\n"
     ]
    },
    {
     "name": "stdout",
     "output_type": "stream",
     "text": [
      "aws s3 cp s3://mousebrainatlas-data/CSHL_cells_v2/detected_cells/MD585/MD585-N27-2015.08.19-15.42.30_MD585_2_0080/MD585-N27-2015.08.19-15.42.30_MD585_2_0080_blobMaskCenters.bp /shared/CSHL_cells_v2/detected_cells/MD585/MD585-N27-2015.08.19-15.42.30_MD585_2_0080/MD585-N27-2015.08.19-15.42.30_MD585_2_0080_blobMaskCenters.bp\n",
      "aws s3 cp /shared/CSHL_cells_v2/detected_cells/MD585/MD585-N18-2015.07.16-20.39.16_MD585_2_0053/MD585-N18-2015.07.16-20.39.16_MD585_2_0053_cells_aligned_mirrored_padded.bp s3://mousebrainatlas-data/CSHL_cells_v2/detected_cells/MD585/MD585-N18-2015.07.16-20.39.16_MD585_2_0053/MD585-N18-2015.07.16-20.39.16_MD585_2_0053_cells_aligned_mirrored_padded.bp\n"
     ]
    },
    {
     "name": "stderr",
     "output_type": "stream",
     "text": [
      "Child returned 0\n",
      "0.68 seconds.\n",
      "Child returned 0\n",
      "0.76 seconds.\n"
     ]
    },
    {
     "name": "stdout",
     "output_type": "stream",
     "text": [
      "aws s3 cp /shared/CSHL_cells_v2/detected_cells/MD585/MD585-N19-2015.07.16-20.43.18_MD585_2_0056/MD585-N19-2015.07.16-20.43.18_MD585_2_0056_cells_aligned_mirrored_padded.bp s3://mousebrainatlas-data/CSHL_cells_v2/detected_cells/MD585/MD585-N19-2015.07.16-20.43.18_MD585_2_0056/MD585-N19-2015.07.16-20.43.18_MD585_2_0056_cells_aligned_mirrored_padded.bp\n"
     ]
    },
    {
     "name": "stderr",
     "output_type": "stream",
     "text": [
      "Child returned 0\n"
     ]
    },
    {
     "name": "stdout",
     "output_type": "stream",
     "text": [
      "aws s3 cp /shared/CSHL_cells_v2/detected_cells/MD585/MD585-N17-2015.07.16-20.35.23_MD585_2_0050/MD585-N17-2015.07.16-20.35.23_MD585_2_0050_cells_aligned_mirrorDirections.bp s3://mousebrainatlas-data/CSHL_cells_v2/detected_cells/MD585/MD585-N17-2015.07.16-20.35.23_MD585_2_0050/MD585-N17-2015.07.16-20.35.23_MD585_2_0050_cells_aligned_mirrorDirections.bp\n"
     ]
    },
    {
     "name": "stderr",
     "output_type": "stream",
     "text": [
      "0.68 seconds.\n"
     ]
    },
    {
     "name": "stdout",
     "output_type": "stream",
     "text": [
      "aws s3 cp /shared/CSHL_cells_v2/detected_cells/MD585/MD585-IHC28-2015.08.19-13.33.04_MD585_1_0082/MD585-IHC28-2015.08.19-13.33.04_MD585_1_0082_cells_aligned_mirrorDirections.bp s3://mousebrainatlas-data/CSHL_cells_v2/detected_cells/MD585/MD585-IHC28-2015.08.19-13.33.04_MD585_1_0082/MD585-IHC28-2015.08.19-13.33.04_MD585_1_0082_cells_aligned_mirrorDirections.bp\n"
     ]
    },
    {
     "name": "stderr",
     "output_type": "stream",
     "text": [
      "Child returned 0\n",
      "0.67 seconds.\n",
      "Child returned 0\n",
      "0.53 seconds.\n",
      "Child returned 0\n",
      "0.67 seconds.\n",
      "Child returned 0\n",
      "0.71 seconds.\n"
     ]
    },
    {
     "name": "stdout",
     "output_type": "stream",
     "text": [
      "aws s3 cp /shared/CSHL_cells_v2/detected_cells/MD585/MD585-N19-2015.07.16-20.43.18_MD585_2_0056/MD585-N19-2015.07.16-20.43.18_MD585_2_0056_cells_aligned_mirrorDirections.bp s3://mousebrainatlas-data/CSHL_cells_v2/detected_cells/MD585/MD585-N19-2015.07.16-20.43.18_MD585_2_0056/MD585-N19-2015.07.16-20.43.18_MD585_2_0056_cells_aligned_mirrorDirections.bp\n",
      "aws s3 cp /shared/CSHL_cells_v2/detected_cells/MD585/MD585-N18-2015.07.16-20.39.16_MD585_2_0053/MD585-N18-2015.07.16-20.39.16_MD585_2_0053_cells_aligned_mirrorDirections.bp s3://mousebrainatlas-data/CSHL_cells_v2/detected_cells/MD585/MD585-N18-2015.07.16-20.39.16_MD585_2_0053/MD585-N18-2015.07.16-20.39.16_MD585_2_0053_cells_aligned_mirrorDirections.bp\n"
     ]
    },
    {
     "name": "stderr",
     "output_type": "stream",
     "text": [
      "Child returned 0\n",
      "0.71 seconds.\n",
      "Processing section: 153\n",
      "Rotate cell masks: 10.11 seconds.\n",
      "Processing section: 088\n"
     ]
    },
    {
     "name": "stdout",
     "output_type": "stream",
     "text": [
      "rm -rf /shared/CSHL_cells_v2/detected_cells/MD585/MD585-N28-2015.08.19-15.47.09_MD585_2_0083/MD585-N28-2015.08.19-15.47.09_MD585_2_0083_blobMaskCenters.bp && mkdir -p /shared/CSHL_cells_v2/detected_cells/MD585/MD585-N28-2015.08.19-15.47.09_MD585_2_0083\n"
     ]
    },
    {
     "name": "stderr",
     "output_type": "stream",
     "text": [
      "Child returned 0\n"
     ]
    },
    {
     "name": "stdout",
     "output_type": "stream",
     "text": [
      "aws s3 cp s3://mousebrainatlas-data/CSHL_cells_v2/detected_cells/MD585/MD585-N28-2015.08.19-15.47.09_MD585_2_0083/MD585-N28-2015.08.19-15.47.09_MD585_2_0083_blobMaskCenters.bp /shared/CSHL_cells_v2/detected_cells/MD585/MD585-N28-2015.08.19-15.47.09_MD585_2_0083/MD585-N28-2015.08.19-15.47.09_MD585_2_0083_blobMaskCenters.bp\n",
      "rm -rf /shared/CSHL_cells_v2/detected_cells/MD585/MD585-IHC17-2015.07.16-15.32.03_MD585_2_0050/MD585-IHC17-2015.07.16-15.32.03_MD585_2_0050_blobMaskCenters.bp && mkdir -p /shared/CSHL_cells_v2/detected_cells/MD585/MD585-IHC17-2015.07.16-15.32.03_MD585_2_0050\n"
     ]
    },
    {
     "name": "stderr",
     "output_type": "stream",
     "text": [
      "Child returned 0\n"
     ]
    },
    {
     "name": "stdout",
     "output_type": "stream",
     "text": [
      "aws s3 cp s3://mousebrainatlas-data/CSHL_cells_v2/detected_cells/MD585/MD585-IHC17-2015.07.16-15.32.03_MD585_2_0050/MD585-IHC17-2015.07.16-15.32.03_MD585_2_0050_blobMaskCenters.bp /shared/CSHL_cells_v2/detected_cells/MD585/MD585-IHC17-2015.07.16-15.32.03_MD585_2_0050/MD585-IHC17-2015.07.16-15.32.03_MD585_2_0050_blobMaskCenters.bp\n",
      "aws s3 cp /shared/CSHL_cells_v2/detected_cells/MD585/MD585-N21-2015.07.18-07.06.33_MD585_2_0062/MD585-N21-2015.07.18-07.06.33_MD585_2_0062_cells_aligned_mirrored_padded.bp s3://mousebrainatlas-data/CSHL_cells_v2/detected_cells/MD585/MD585-N21-2015.07.18-07.06.33_MD585_2_0062/MD585-N21-2015.07.18-07.06.33_MD585_2_0062_cells_aligned_mirrored_padded.bp\n"
     ]
    },
    {
     "name": "stderr",
     "output_type": "stream",
     "text": [
      "Child returned 0\n",
      "0.72 seconds.\n",
      "Child returned 0\n",
      "0.75 seconds.\n",
      "Processing section: 094\n",
      "Processing section: 100\n",
      "Child returned 0\n",
      "0.65 seconds.\n"
     ]
    },
    {
     "name": "stdout",
     "output_type": "stream",
     "text": [
      "rm -rf /shared/CSHL_cells_v2/detected_cells/MD585/MD585-IHC18-2015.07.16-15.35.58_MD585_2_0053/MD585-IHC18-2015.07.16-15.35.58_MD585_2_0053_blobMaskCenters.bp && mkdir -p /shared/CSHL_cells_v2/detected_cells/MD585/MD585-IHC18-2015.07.16-15.35.58_MD585_2_0053\n"
     ]
    },
    {
     "name": "stderr",
     "output_type": "stream",
     "text": [
      "Child returned 0\n"
     ]
    },
    {
     "name": "stdout",
     "output_type": "stream",
     "text": [
      "aws s3 cp s3://mousebrainatlas-data/CSHL_cells_v2/detected_cells/MD585/MD585-IHC18-2015.07.16-15.35.58_MD585_2_0053/MD585-IHC18-2015.07.16-15.35.58_MD585_2_0053_blobMaskCenters.bp /shared/CSHL_cells_v2/detected_cells/MD585/MD585-IHC18-2015.07.16-15.35.58_MD585_2_0053/MD585-IHC18-2015.07.16-15.35.58_MD585_2_0053_blobMaskCenters.bp\n",
      "rm -rf /shared/CSHL_cells_v2/detected_cells/MD585/MD585-IHC19-2015.07.16-15.39.52_MD585_2_0056/MD585-IHC19-2015.07.16-15.39.52_MD585_2_0056_blobMaskCenters.bp && mkdir -p /shared/CSHL_cells_v2/detected_cells/MD585/MD585-IHC19-2015.07.16-15.39.52_MD585_2_0056\n"
     ]
    },
    {
     "name": "stderr",
     "output_type": "stream",
     "text": [
      "Child returned 0\n"
     ]
    },
    {
     "name": "stdout",
     "output_type": "stream",
     "text": [
      "aws s3 cp s3://mousebrainatlas-data/CSHL_cells_v2/detected_cells/MD585/MD585-IHC19-2015.07.16-15.39.52_MD585_2_0056/MD585-IHC19-2015.07.16-15.39.52_MD585_2_0056_blobMaskCenters.bp /shared/CSHL_cells_v2/detected_cells/MD585/MD585-IHC19-2015.07.16-15.39.52_MD585_2_0056/MD585-IHC19-2015.07.16-15.39.52_MD585_2_0056_blobMaskCenters.bp\n"
     ]
    },
    {
     "name": "stderr",
     "output_type": "stream",
     "text": [
      "Child returned 0\n",
      "0.77 seconds.\n",
      "Child returned 0\n",
      "0.86 seconds.\n"
     ]
    },
    {
     "name": "stdout",
     "output_type": "stream",
     "text": [
      "aws s3 cp /shared/CSHL_cells_v2/detected_cells/MD585/MD585-N21-2015.07.18-07.06.33_MD585_2_0062/MD585-N21-2015.07.18-07.06.33_MD585_2_0062_cells_aligned_mirrorDirections.bp s3://mousebrainatlas-data/CSHL_cells_v2/detected_cells/MD585/MD585-N21-2015.07.18-07.06.33_MD585_2_0062/MD585-N21-2015.07.18-07.06.33_MD585_2_0062_cells_aligned_mirrorDirections.bp\n"
     ]
    },
    {
     "name": "stderr",
     "output_type": "stream",
     "text": [
      "Child returned 0\n",
      "0.80 seconds.\n",
      "Child returned 0\n",
      "0.82 seconds.\n",
      "Child returned 0\n",
      "0.73 seconds.\n",
      "Processing section: 112\n",
      "Rotate cell masks: 10.37 seconds.\n"
     ]
    },
    {
     "name": "stdout",
     "output_type": "stream",
     "text": [
      "rm -rf /shared/CSHL_cells_v2/detected_cells/MD585/MD585-IHC21-2015.07.16-15.47.52_MD585_2_0062/MD585-IHC21-2015.07.16-15.47.52_MD585_2_0062_blobMaskCenters.bp && mkdir -p /shared/CSHL_cells_v2/detected_cells/MD585/MD585-IHC21-2015.07.16-15.47.52_MD585_2_0062\n"
     ]
    },
    {
     "name": "stderr",
     "output_type": "stream",
     "text": [
      "Child returned 0\n"
     ]
    },
    {
     "name": "stdout",
     "output_type": "stream",
     "text": [
      "aws s3 cp s3://mousebrainatlas-data/CSHL_cells_v2/detected_cells/MD585/MD585-IHC21-2015.07.16-15.47.52_MD585_2_0062/MD585-IHC21-2015.07.16-15.47.52_MD585_2_0062_blobMaskCenters.bp /shared/CSHL_cells_v2/detected_cells/MD585/MD585-IHC21-2015.07.16-15.47.52_MD585_2_0062/MD585-IHC21-2015.07.16-15.47.52_MD585_2_0062_blobMaskCenters.bp\n",
      "aws s3 cp /shared/CSHL_cells_v2/detected_cells/MD585/MD585-N20-2015.07.16-20.47.19_MD585_2_0059/MD585-N20-2015.07.16-20.47.19_MD585_2_0059_cells_aligned_mirrored_padded.bp s3://mousebrainatlas-data/CSHL_cells_v2/detected_cells/MD585/MD585-N20-2015.07.16-20.47.19_MD585_2_0059/MD585-N20-2015.07.16-20.47.19_MD585_2_0059_cells_aligned_mirrored_padded.bp\n"
     ]
    },
    {
     "name": "stderr",
     "output_type": "stream",
     "text": [
      "Child returned 0\n",
      "0.76 seconds.\n",
      "Child returned 0\n",
      "0.88 seconds.\n"
     ]
    },
    {
     "name": "stdout",
     "output_type": "stream",
     "text": [
      "aws s3 cp /shared/CSHL_cells_v2/detected_cells/MD585/MD585-N20-2015.07.16-20.47.19_MD585_2_0059/MD585-N20-2015.07.16-20.47.19_MD585_2_0059_cells_aligned_mirrorDirections.bp s3://mousebrainatlas-data/CSHL_cells_v2/detected_cells/MD585/MD585-N20-2015.07.16-20.47.19_MD585_2_0059/MD585-N20-2015.07.16-20.47.19_MD585_2_0059_cells_aligned_mirrorDirections.bp\n"
     ]
    },
    {
     "name": "stderr",
     "output_type": "stream",
     "text": [
      "Child returned 0\n",
      "0.69 seconds.\n",
      "Processing section: 106\n"
     ]
    },
    {
     "name": "stdout",
     "output_type": "stream",
     "text": [
      "rm -rf /shared/CSHL_cells_v2/detected_cells/MD585/MD585-IHC20-2015.07.16-15.43.53_MD585_2_0059/MD585-IHC20-2015.07.16-15.43.53_MD585_2_0059_blobMaskCenters.bp && mkdir -p /shared/CSHL_cells_v2/detected_cells/MD585/MD585-IHC20-2015.07.16-15.43.53_MD585_2_0059\n"
     ]
    },
    {
     "name": "stderr",
     "output_type": "stream",
     "text": [
      "Child returned 0\n"
     ]
    },
    {
     "name": "stdout",
     "output_type": "stream",
     "text": [
      "aws s3 cp s3://mousebrainatlas-data/CSHL_cells_v2/detected_cells/MD585/MD585-IHC20-2015.07.16-15.43.53_MD585_2_0059/MD585-IHC20-2015.07.16-15.43.53_MD585_2_0059_blobMaskCenters.bp /shared/CSHL_cells_v2/detected_cells/MD585/MD585-IHC20-2015.07.16-15.43.53_MD585_2_0059/MD585-IHC20-2015.07.16-15.43.53_MD585_2_0059_blobMaskCenters.bp\n"
     ]
    },
    {
     "name": "stderr",
     "output_type": "stream",
     "text": [
      "Rotate cell masks: 10.60 seconds.\n",
      "Child returned 0\n",
      "0.87 seconds.\n",
      "Rotate cell masks: 11.04 seconds.\n"
     ]
    },
    {
     "name": "stdout",
     "output_type": "stream",
     "text": [
      "aws s3 cp /shared/CSHL_cells_v2/detected_cells/MD585/MD585-N25-2015.08.19-15.33.31_MD585_2_0074/MD585-N25-2015.08.19-15.33.31_MD585_2_0074_cells_aligned_mirrored_padded.bp s3://mousebrainatlas-data/CSHL_cells_v2/detected_cells/MD585/MD585-N25-2015.08.19-15.33.31_MD585_2_0074/MD585-N25-2015.08.19-15.33.31_MD585_2_0074_cells_aligned_mirrored_padded.bp\n",
      "aws s3 cp /shared/CSHL_cells_v2/detected_cells/MD585/MD585-N23-2015.07.16-20.51.24_MD585_2_0068/MD585-N23-2015.07.16-20.51.24_MD585_2_0068_cells_aligned_mirrored_padded.bp s3://mousebrainatlas-data/CSHL_cells_v2/detected_cells/MD585/MD585-N23-2015.07.16-20.51.24_MD585_2_0068/MD585-N23-2015.07.16-20.51.24_MD585_2_0068_cells_aligned_mirrored_padded.bp\n"
     ]
    },
    {
     "name": "stderr",
     "output_type": "stream",
     "text": [
      "Child returned 0\n",
      "0.67 seconds.\n"
     ]
    },
    {
     "name": "stdout",
     "output_type": "stream",
     "text": [
      "aws s3 cp /shared/CSHL_cells_v2/detected_cells/MD585/MD585-N25-2015.08.19-15.33.31_MD585_2_0074/MD585-N25-2015.08.19-15.33.31_MD585_2_0074_cells_aligned_mirrorDirections.bp s3://mousebrainatlas-data/CSHL_cells_v2/detected_cells/MD585/MD585-N25-2015.08.19-15.33.31_MD585_2_0074/MD585-N25-2015.08.19-15.33.31_MD585_2_0074_cells_aligned_mirrorDirections.bp\n"
     ]
    },
    {
     "name": "stderr",
     "output_type": "stream",
     "text": [
      "Rotate cell masks: 10.64 seconds.\n",
      "Child returned 0\n",
      "0.71 seconds.\n",
      "Child returned 0\n",
      "0.83 seconds.\n"
     ]
    },
    {
     "name": "stdout",
     "output_type": "stream",
     "text": [
      "aws s3 cp /shared/CSHL_cells_v2/detected_cells/MD585/MD585-N23-2015.07.16-20.51.24_MD585_2_0068/MD585-N23-2015.07.16-20.51.24_MD585_2_0068_cells_aligned_mirrorDirections.bp s3://mousebrainatlas-data/CSHL_cells_v2/detected_cells/MD585/MD585-N23-2015.07.16-20.51.24_MD585_2_0068/MD585-N23-2015.07.16-20.51.24_MD585_2_0068_cells_aligned_mirrorDirections.bp\n"
     ]
    },
    {
     "name": "stderr",
     "output_type": "stream",
     "text": [
      "Processing section: 136\n"
     ]
    },
    {
     "name": "stdout",
     "output_type": "stream",
     "text": [
      "rm -rf /shared/CSHL_cells_v2/detected_cells/MD585/MD585-IHC25-2015.07.18-07.19.12_MD585_2_0074/MD585-IHC25-2015.07.18-07.19.12_MD585_2_0074_blobMaskCenters.bp && mkdir -p /shared/CSHL_cells_v2/detected_cells/MD585/MD585-IHC25-2015.07.18-07.19.12_MD585_2_0074\n"
     ]
    },
    {
     "name": "stderr",
     "output_type": "stream",
     "text": [
      "Child returned 0\n"
     ]
    },
    {
     "name": "stdout",
     "output_type": "stream",
     "text": [
      "aws s3 cp s3://mousebrainatlas-data/CSHL_cells_v2/detected_cells/MD585/MD585-IHC25-2015.07.18-07.19.12_MD585_2_0074/MD585-IHC25-2015.07.18-07.19.12_MD585_2_0074_blobMaskCenters.bp /shared/CSHL_cells_v2/detected_cells/MD585/MD585-IHC25-2015.07.18-07.19.12_MD585_2_0074/MD585-IHC25-2015.07.18-07.19.12_MD585_2_0074_blobMaskCenters.bp\n",
      "aws s3 cp /shared/CSHL_cells_v2/detected_cells/MD585/MD585-N22-2015.07.18-07.10.40_MD585_2_0065/MD585-N22-2015.07.18-07.10.40_MD585_2_0065_cells_aligned_mirrored_padded.bp s3://mousebrainatlas-data/CSHL_cells_v2/detected_cells/MD585/MD585-N22-2015.07.18-07.10.40_MD585_2_0065/MD585-N22-2015.07.18-07.10.40_MD585_2_0065_cells_aligned_mirrored_padded.bp\n"
     ]
    },
    {
     "name": "stderr",
     "output_type": "stream",
     "text": [
      "Child returned 0\n",
      "0.55 seconds.\n",
      "Processing section: 124\n"
     ]
    },
    {
     "name": "stdout",
     "output_type": "stream",
     "text": [
      "rm -rf /shared/CSHL_cells_v2/detected_cells/MD585/MD585-IHC23-2015.08.19-13.18.49_MD585_2_0068/MD585-IHC23-2015.08.19-13.18.49_MD585_2_0068_blobMaskCenters.bp && mkdir -p /shared/CSHL_cells_v2/detected_cells/MD585/MD585-IHC23-2015.08.19-13.18.49_MD585_2_0068\n"
     ]
    },
    {
     "name": "stderr",
     "output_type": "stream",
     "text": [
      "Child returned 0\n"
     ]
    },
    {
     "name": "stdout",
     "output_type": "stream",
     "text": [
      "aws s3 cp s3://mousebrainatlas-data/CSHL_cells_v2/detected_cells/MD585/MD585-IHC23-2015.08.19-13.18.49_MD585_2_0068/MD585-IHC23-2015.08.19-13.18.49_MD585_2_0068_blobMaskCenters.bp /shared/CSHL_cells_v2/detected_cells/MD585/MD585-IHC23-2015.08.19-13.18.49_MD585_2_0068/MD585-IHC23-2015.08.19-13.18.49_MD585_2_0068_blobMaskCenters.bp\n"
     ]
    },
    {
     "name": "stderr",
     "output_type": "stream",
     "text": [
      "Child returned 0\n",
      "0.81 seconds.\n",
      "Child returned 0\n",
      "0.77 seconds.\n"
     ]
    },
    {
     "name": "stdout",
     "output_type": "stream",
     "text": [
      "aws s3 cp /shared/CSHL_cells_v2/detected_cells/MD585/MD585-N22-2015.07.18-07.10.40_MD585_2_0065/MD585-N22-2015.07.18-07.10.40_MD585_2_0065_cells_aligned_mirrorDirections.bp s3://mousebrainatlas-data/CSHL_cells_v2/detected_cells/MD585/MD585-N22-2015.07.18-07.10.40_MD585_2_0065/MD585-N22-2015.07.18-07.10.40_MD585_2_0065_cells_aligned_mirrorDirections.bp\n"
     ]
    },
    {
     "name": "stderr",
     "output_type": "stream",
     "text": [
      "Rotate cell masks: 11.70 seconds.\n",
      "Child returned 0\n",
      "0.64 seconds.\n",
      "Child returned 0\n",
      "0.71 seconds.\n",
      "Processing section: 118\n",
      "This section is invalid.\n",
      "ERROR: 118\n",
      "Processing section: 155\n"
     ]
    },
    {
     "name": "stdout",
     "output_type": "stream",
     "text": [
      "aws s3 cp /shared/CSHL_cells_v2/detected_cells/MD585/MD585-N24-2015.08.19-15.29.12_MD585_2_0071/MD585-N24-2015.08.19-15.29.12_MD585_2_0071_cells_aligned_mirrored_padded.bp s3://mousebrainatlas-data/CSHL_cells_v2/detected_cells/MD585/MD585-N24-2015.08.19-15.29.12_MD585_2_0071/MD585-N24-2015.08.19-15.29.12_MD585_2_0071_cells_aligned_mirrored_padded.bp\n",
      "rm -rf /shared/CSHL_cells_v2/detected_cells/MD585/MD585-N28-2015.08.19-15.47.09_MD585_3_0084/MD585-N28-2015.08.19-15.47.09_MD585_3_0084_blobMaskCenters.bp && mkdir -p /shared/CSHL_cells_v2/detected_cells/MD585/MD585-N28-2015.08.19-15.47.09_MD585_3_0084\n"
     ]
    },
    {
     "name": "stderr",
     "output_type": "stream",
     "text": [
      "Child returned 0\n"
     ]
    },
    {
     "name": "stdout",
     "output_type": "stream",
     "text": [
      "aws s3 cp s3://mousebrainatlas-data/CSHL_cells_v2/detected_cells/MD585/MD585-N28-2015.08.19-15.47.09_MD585_3_0084/MD585-N28-2015.08.19-15.47.09_MD585_3_0084_blobMaskCenters.bp /shared/CSHL_cells_v2/detected_cells/MD585/MD585-N28-2015.08.19-15.47.09_MD585_3_0084/MD585-N28-2015.08.19-15.47.09_MD585_3_0084_blobMaskCenters.bp\n"
     ]
    },
    {
     "name": "stderr",
     "output_type": "stream",
     "text": [
      "Rotate cell masks: 9.08 seconds.\n",
      "Rotate cell masks: 11.47 seconds.\n",
      "Child returned 0\n",
      "0.88 seconds.\n"
     ]
    },
    {
     "name": "stdout",
     "output_type": "stream",
     "text": [
      "aws s3 cp /shared/CSHL_cells_v2/detected_cells/MD585/MD585-N24-2015.08.19-15.29.12_MD585_2_0071/MD585-N24-2015.08.19-15.29.12_MD585_2_0071_cells_aligned_mirrorDirections.bp s3://mousebrainatlas-data/CSHL_cells_v2/detected_cells/MD585/MD585-N24-2015.08.19-15.29.12_MD585_2_0071/MD585-N24-2015.08.19-15.29.12_MD585_2_0071_cells_aligned_mirrorDirections.bp\n",
      "aws s3 cp /shared/CSHL_cells_v2/detected_cells/MD585/MD585-IHC17-2015.07.16-15.32.03_MD585_2_0050/MD585-IHC17-2015.07.16-15.32.03_MD585_2_0050_cells_aligned_mirrored_padded.bp s3://mousebrainatlas-data/CSHL_cells_v2/detected_cells/MD585/MD585-IHC17-2015.07.16-15.32.03_MD585_2_0050/MD585-IHC17-2015.07.16-15.32.03_MD585_2_0050_cells_aligned_mirrored_padded.bp\n"
     ]
    },
    {
     "name": "stderr",
     "output_type": "stream",
     "text": [
      "Child returned 0\n",
      "0.82 seconds.\n"
     ]
    },
    {
     "name": "stdout",
     "output_type": "stream",
     "text": [
      "aws s3 cp /shared/CSHL_cells_v2/detected_cells/MD585/MD585-N26-2015.08.19-15.37.53_MD585_2_0077/MD585-N26-2015.08.19-15.37.53_MD585_2_0077_cells_aligned_mirrored_padded.bp s3://mousebrainatlas-data/CSHL_cells_v2/detected_cells/MD585/MD585-N26-2015.08.19-15.37.53_MD585_2_0077/MD585-N26-2015.08.19-15.37.53_MD585_2_0077_cells_aligned_mirrored_padded.bp\n"
     ]
    },
    {
     "name": "stderr",
     "output_type": "stream",
     "text": [
      "Child returned 0\n",
      "0.76 seconds.\n",
      "Child returned 0\n",
      "0.79 seconds.\n"
     ]
    },
    {
     "name": "stdout",
     "output_type": "stream",
     "text": [
      "aws s3 cp /shared/CSHL_cells_v2/detected_cells/MD585/MD585-IHC17-2015.07.16-15.32.03_MD585_2_0050/MD585-IHC17-2015.07.16-15.32.03_MD585_2_0050_cells_aligned_mirrorDirections.bp s3://mousebrainatlas-data/CSHL_cells_v2/detected_cells/MD585/MD585-IHC17-2015.07.16-15.32.03_MD585_2_0050/MD585-IHC17-2015.07.16-15.32.03_MD585_2_0050_cells_aligned_mirrorDirections.bp\n"
     ]
    },
    {
     "name": "stderr",
     "output_type": "stream",
     "text": [
      "Rotate cell masks: 12.04 seconds.\n",
      "Processing section: 130\n",
      "Rotate cell masks: 10.24 seconds.\n"
     ]
    },
    {
     "name": "stdout",
     "output_type": "stream",
     "text": [
      "rm -rf /shared/CSHL_cells_v2/detected_cells/MD585/MD585-IHC24-2015.07.18-07.14.51_MD585_2_0071/MD585-IHC24-2015.07.18-07.14.51_MD585_2_0071_blobMaskCenters.bp && mkdir -p /shared/CSHL_cells_v2/detected_cells/MD585/MD585-IHC24-2015.07.18-07.14.51_MD585_2_0071\n"
     ]
    },
    {
     "name": "stderr",
     "output_type": "stream",
     "text": [
      "Child returned 0\n"
     ]
    },
    {
     "name": "stdout",
     "output_type": "stream",
     "text": [
      "aws s3 cp s3://mousebrainatlas-data/CSHL_cells_v2/detected_cells/MD585/MD585-IHC24-2015.07.18-07.14.51_MD585_2_0071/MD585-IHC24-2015.07.18-07.14.51_MD585_2_0071_blobMaskCenters.bp /shared/CSHL_cells_v2/detected_cells/MD585/MD585-IHC24-2015.07.18-07.14.51_MD585_2_0071/MD585-IHC24-2015.07.18-07.14.51_MD585_2_0071_blobMaskCenters.bp\n"
     ]
    },
    {
     "name": "stderr",
     "output_type": "stream",
     "text": [
      "Child returned 0\n",
      "0.68 seconds.\n"
     ]
    },
    {
     "name": "stdout",
     "output_type": "stream",
     "text": [
      "aws s3 cp /shared/CSHL_cells_v2/detected_cells/MD585/MD585-N26-2015.08.19-15.37.53_MD585_2_0077/MD585-N26-2015.08.19-15.37.53_MD585_2_0077_cells_aligned_mirrorDirections.bp s3://mousebrainatlas-data/CSHL_cells_v2/detected_cells/MD585/MD585-N26-2015.08.19-15.37.53_MD585_2_0077/MD585-N26-2015.08.19-15.37.53_MD585_2_0077_cells_aligned_mirrorDirections.bp\n"
     ]
    },
    {
     "name": "stderr",
     "output_type": "stream",
     "text": [
      "Child returned 0\n",
      "0.62 seconds.\n",
      "Rotate cell masks: 10.47 seconds.\n"
     ]
    },
    {
     "name": "stdout",
     "output_type": "stream",
     "text": [
      "aws s3 cp /shared/CSHL_cells_v2/detected_cells/MD585/MD585-N27-2015.08.19-15.42.30_MD585_2_0080/MD585-N27-2015.08.19-15.42.30_MD585_2_0080_cells_aligned_mirrored_padded.bp s3://mousebrainatlas-data/CSHL_cells_v2/detected_cells/MD585/MD585-N27-2015.08.19-15.42.30_MD585_2_0080/MD585-N27-2015.08.19-15.42.30_MD585_2_0080_cells_aligned_mirrored_padded.bp\n"
     ]
    },
    {
     "name": "stderr",
     "output_type": "stream",
     "text": [
      "Processing section: 161\n"
     ]
    },
    {
     "name": "stdout",
     "output_type": "stream",
     "text": [
      "aws s3 cp /shared/CSHL_cells_v2/detected_cells/MD585/MD585-IHC18-2015.07.16-15.35.58_MD585_2_0053/MD585-IHC18-2015.07.16-15.35.58_MD585_2_0053_cells_aligned_mirrored_padded.bp s3://mousebrainatlas-data/CSHL_cells_v2/detected_cells/MD585/MD585-IHC18-2015.07.16-15.35.58_MD585_2_0053/MD585-IHC18-2015.07.16-15.35.58_MD585_2_0053_cells_aligned_mirrored_padded.bp\n",
      "rm -rf /shared/CSHL_cells_v2/detected_cells/MD585/MD585-N29-2015.08.19-15.51.55_MD585_3_0087/MD585-N29-2015.08.19-15.51.55_MD585_3_0087_blobMaskCenters.bp && mkdir -p /shared/CSHL_cells_v2/detected_cells/MD585/MD585-N29-2015.08.19-15.51.55_MD585_3_0087\n"
     ]
    },
    {
     "name": "stderr",
     "output_type": "stream",
     "text": [
      "Child returned 0\n"
     ]
    },
    {
     "name": "stdout",
     "output_type": "stream",
     "text": [
      "aws s3 cp s3://mousebrainatlas-data/CSHL_cells_v2/detected_cells/MD585/MD585-N29-2015.08.19-15.51.55_MD585_3_0087/MD585-N29-2015.08.19-15.51.55_MD585_3_0087_blobMaskCenters.bp /shared/CSHL_cells_v2/detected_cells/MD585/MD585-N29-2015.08.19-15.51.55_MD585_3_0087/MD585-N29-2015.08.19-15.51.55_MD585_3_0087_blobMaskCenters.bp\n"
     ]
    },
    {
     "name": "stderr",
     "output_type": "stream",
     "text": [
      "Child returned 0\n",
      "0.73 seconds.\n",
      "Rotate cell masks: 9.55 seconds.\n"
     ]
    },
    {
     "name": "stdout",
     "output_type": "stream",
     "text": [
      "aws s3 cp /shared/CSHL_cells_v2/detected_cells/MD585/MD585-IHC19-2015.07.16-15.39.52_MD585_2_0056/MD585-IHC19-2015.07.16-15.39.52_MD585_2_0056_cells_aligned_mirrored_padded.bp s3://mousebrainatlas-data/CSHL_cells_v2/detected_cells/MD585/MD585-IHC19-2015.07.16-15.39.52_MD585_2_0056/MD585-IHC19-2015.07.16-15.39.52_MD585_2_0056_cells_aligned_mirrored_padded.bp\n"
     ]
    },
    {
     "name": "stderr",
     "output_type": "stream",
     "text": [
      "Child returned 0\n",
      "0.74 seconds.\n",
      "Child returned 0\n",
      "0.78 seconds.\n",
      "Processing section: 142\n"
     ]
    },
    {
     "name": "stdout",
     "output_type": "stream",
     "text": [
      "aws s3 cp /shared/CSHL_cells_v2/detected_cells/MD585/MD585-N27-2015.08.19-15.42.30_MD585_2_0080/MD585-N27-2015.08.19-15.42.30_MD585_2_0080_cells_aligned_mirrorDirections.bp s3://mousebrainatlas-data/CSHL_cells_v2/detected_cells/MD585/MD585-N27-2015.08.19-15.42.30_MD585_2_0080/MD585-N27-2015.08.19-15.42.30_MD585_2_0080_cells_aligned_mirrorDirections.bp\n"
     ]
    },
    {
     "name": "stderr",
     "output_type": "stream",
     "text": [
      "Child returned 0\n",
      "0.75 seconds.\n",
      "Child returned 0\n",
      "0.73 seconds.\n"
     ]
    },
    {
     "name": "stdout",
     "output_type": "stream",
     "text": [
      "aws s3 cp /shared/CSHL_cells_v2/detected_cells/MD585/MD585-IHC18-2015.07.16-15.35.58_MD585_2_0053/MD585-IHC18-2015.07.16-15.35.58_MD585_2_0053_cells_aligned_mirrorDirections.bp s3://mousebrainatlas-data/CSHL_cells_v2/detected_cells/MD585/MD585-IHC18-2015.07.16-15.35.58_MD585_2_0053/MD585-IHC18-2015.07.16-15.35.58_MD585_2_0053_cells_aligned_mirrorDirections.bp\n",
      "rm -rf /shared/CSHL_cells_v2/detected_cells/MD585/MD585-IHC26-2015.08.19-13.23.15_MD585_2_0077/MD585-IHC26-2015.08.19-13.23.15_MD585_2_0077_blobMaskCenters.bp && mkdir -p /shared/CSHL_cells_v2/detected_cells/MD585/MD585-IHC26-2015.08.19-13.23.15_MD585_2_0077\n"
     ]
    },
    {
     "name": "stderr",
     "output_type": "stream",
     "text": [
      "Child returned 0\n"
     ]
    },
    {
     "name": "stdout",
     "output_type": "stream",
     "text": [
      "aws s3 cp s3://mousebrainatlas-data/CSHL_cells_v2/detected_cells/MD585/MD585-IHC26-2015.08.19-13.23.15_MD585_2_0077/MD585-IHC26-2015.08.19-13.23.15_MD585_2_0077_blobMaskCenters.bp /shared/CSHL_cells_v2/detected_cells/MD585/MD585-IHC26-2015.08.19-13.23.15_MD585_2_0077/MD585-IHC26-2015.08.19-13.23.15_MD585_2_0077_blobMaskCenters.bp\n"
     ]
    },
    {
     "name": "stderr",
     "output_type": "stream",
     "text": [
      "Rotate cell masks: 12.49 seconds.\n"
     ]
    },
    {
     "name": "stdout",
     "output_type": "stream",
     "text": [
      "aws s3 cp /shared/CSHL_cells_v2/detected_cells/MD585/MD585-IHC21-2015.07.16-15.47.52_MD585_2_0062/MD585-IHC21-2015.07.16-15.47.52_MD585_2_0062_cells_aligned_mirrored_padded.bp s3://mousebrainatlas-data/CSHL_cells_v2/detected_cells/MD585/MD585-IHC21-2015.07.16-15.47.52_MD585_2_0062/MD585-IHC21-2015.07.16-15.47.52_MD585_2_0062_cells_aligned_mirrored_padded.bp\n"
     ]
    },
    {
     "name": "stderr",
     "output_type": "stream",
     "text": [
      "Child returned 0\n",
      "0.69 seconds.\n"
     ]
    },
    {
     "name": "stdout",
     "output_type": "stream",
     "text": [
      "aws s3 cp /shared/CSHL_cells_v2/detected_cells/MD585/MD585-IHC19-2015.07.16-15.39.52_MD585_2_0056/MD585-IHC19-2015.07.16-15.39.52_MD585_2_0056_cells_aligned_mirrorDirections.bp s3://mousebrainatlas-data/CSHL_cells_v2/detected_cells/MD585/MD585-IHC19-2015.07.16-15.39.52_MD585_2_0056/MD585-IHC19-2015.07.16-15.39.52_MD585_2_0056_cells_aligned_mirrorDirections.bp\n"
     ]
    },
    {
     "name": "stderr",
     "output_type": "stream",
     "text": [
      "Child returned 0\n",
      "0.54 seconds.\n",
      "Processing section: 148\n",
      "Child returned 0\n",
      "0.71 seconds.\n"
     ]
    },
    {
     "name": "stdout",
     "output_type": "stream",
     "text": [
      "rm -rf /shared/CSHL_cells_v2/detected_cells/MD585/MD585-IHC27-2015.08.19-13.28.05_MD585_2_0080/MD585-IHC27-2015.08.19-13.28.05_MD585_2_0080_blobMaskCenters.bp && mkdir -p /shared/CSHL_cells_v2/detected_cells/MD585/MD585-IHC27-2015.08.19-13.28.05_MD585_2_0080\n"
     ]
    },
    {
     "name": "stderr",
     "output_type": "stream",
     "text": [
      "Child returned 0\n"
     ]
    },
    {
     "name": "stdout",
     "output_type": "stream",
     "text": [
      "aws s3 cp s3://mousebrainatlas-data/CSHL_cells_v2/detected_cells/MD585/MD585-IHC27-2015.08.19-13.28.05_MD585_2_0080/MD585-IHC27-2015.08.19-13.28.05_MD585_2_0080_blobMaskCenters.bp /shared/CSHL_cells_v2/detected_cells/MD585/MD585-IHC27-2015.08.19-13.28.05_MD585_2_0080/MD585-IHC27-2015.08.19-13.28.05_MD585_2_0080_blobMaskCenters.bp\n",
      "aws s3 cp /shared/CSHL_cells_v2/detected_cells/MD585/MD585-N28-2015.08.19-15.47.09_MD585_2_0083/MD585-N28-2015.08.19-15.47.09_MD585_2_0083_cells_aligned_mirrored_padded.bp s3://mousebrainatlas-data/CSHL_cells_v2/detected_cells/MD585/MD585-N28-2015.08.19-15.47.09_MD585_2_0083/MD585-N28-2015.08.19-15.47.09_MD585_2_0083_cells_aligned_mirrored_padded.bp\n"
     ]
    },
    {
     "name": "stderr",
     "output_type": "stream",
     "text": [
      "Processing section: 167\n",
      "Child returned 0\n",
      "0.76 seconds.\n",
      "Child returned 0\n",
      "0.80 seconds.\n"
     ]
    },
    {
     "name": "stdout",
     "output_type": "stream",
     "text": [
      "aws s3 cp /shared/CSHL_cells_v2/detected_cells/MD585/MD585-IHC21-2015.07.16-15.47.52_MD585_2_0062/MD585-IHC21-2015.07.16-15.47.52_MD585_2_0062_cells_aligned_mirrorDirections.bp s3://mousebrainatlas-data/CSHL_cells_v2/detected_cells/MD585/MD585-IHC21-2015.07.16-15.47.52_MD585_2_0062/MD585-IHC21-2015.07.16-15.47.52_MD585_2_0062_cells_aligned_mirrorDirections.bp\n"
     ]
    },
    {
     "name": "stderr",
     "output_type": "stream",
     "text": [
      "Child returned 0\n",
      "0.71 seconds.\n",
      "Processing section: 173\n"
     ]
    },
    {
     "name": "stdout",
     "output_type": "stream",
     "text": [
      "rm -rf /shared/CSHL_cells_v2/detected_cells/MD585/MD585-N30-2015.08.19-15.56.52_MD585_3_0090/MD585-N30-2015.08.19-15.56.52_MD585_3_0090_blobMaskCenters.bp && mkdir -p /shared/CSHL_cells_v2/detected_cells/MD585/MD585-N30-2015.08.19-15.56.52_MD585_3_0090\n"
     ]
    },
    {
     "name": "stderr",
     "output_type": "stream",
     "text": [
      "Child returned 0\n"
     ]
    },
    {
     "name": "stdout",
     "output_type": "stream",
     "text": [
      "aws s3 cp s3://mousebrainatlas-data/CSHL_cells_v2/detected_cells/MD585/MD585-N30-2015.08.19-15.56.52_MD585_3_0090/MD585-N30-2015.08.19-15.56.52_MD585_3_0090_blobMaskCenters.bp /shared/CSHL_cells_v2/detected_cells/MD585/MD585-N30-2015.08.19-15.56.52_MD585_3_0090/MD585-N30-2015.08.19-15.56.52_MD585_3_0090_blobMaskCenters.bp\n",
      "rm -rf /shared/CSHL_cells_v2/detected_cells/MD585/MD585-N31-2015.08.19-16.01.47_MD585_3_0093/MD585-N31-2015.08.19-16.01.47_MD585_3_0093_blobMaskCenters.bp && mkdir -p /shared/CSHL_cells_v2/detected_cells/MD585/MD585-N31-2015.08.19-16.01.47_MD585_3_0093\n"
     ]
    },
    {
     "name": "stderr",
     "output_type": "stream",
     "text": [
      "Child returned 0\n"
     ]
    },
    {
     "name": "stdout",
     "output_type": "stream",
     "text": [
      "aws s3 cp s3://mousebrainatlas-data/CSHL_cells_v2/detected_cells/MD585/MD585-N31-2015.08.19-16.01.47_MD585_3_0093/MD585-N31-2015.08.19-16.01.47_MD585_3_0093_blobMaskCenters.bp /shared/CSHL_cells_v2/detected_cells/MD585/MD585-N31-2015.08.19-16.01.47_MD585_3_0093/MD585-N31-2015.08.19-16.01.47_MD585_3_0093_blobMaskCenters.bp\n"
     ]
    },
    {
     "name": "stderr",
     "output_type": "stream",
     "text": [
      "Child returned 0\n",
      "0.73 seconds.\n",
      "Child returned 0\n",
      "0.76 seconds.\n"
     ]
    },
    {
     "name": "stdout",
     "output_type": "stream",
     "text": [
      "aws s3 cp /shared/CSHL_cells_v2/detected_cells/MD585/MD585-N28-2015.08.19-15.47.09_MD585_2_0083/MD585-N28-2015.08.19-15.47.09_MD585_2_0083_cells_aligned_mirrorDirections.bp s3://mousebrainatlas-data/CSHL_cells_v2/detected_cells/MD585/MD585-N28-2015.08.19-15.47.09_MD585_2_0083/MD585-N28-2015.08.19-15.47.09_MD585_2_0083_cells_aligned_mirrorDirections.bp\n"
     ]
    },
    {
     "name": "stderr",
     "output_type": "stream",
     "text": [
      "Child returned 0\n",
      "0.67 seconds.\n",
      "Processing section: 179\n",
      "Child returned 0\n",
      "0.60 seconds.\n",
      "Child returned 0\n",
      "0.82 seconds.\n"
     ]
    },
    {
     "name": "stdout",
     "output_type": "stream",
     "text": [
      "rm -rf /shared/CSHL_cells_v2/detected_cells/MD585/MD585-N32-2015.08.19-16.07.10_MD585_3_0096/MD585-N32-2015.08.19-16.07.10_MD585_3_0096_blobMaskCenters.bp && mkdir -p /shared/CSHL_cells_v2/detected_cells/MD585/MD585-N32-2015.08.19-16.07.10_MD585_3_0096\n"
     ]
    },
    {
     "name": "stderr",
     "output_type": "stream",
     "text": [
      "Child returned 0\n"
     ]
    },
    {
     "name": "stdout",
     "output_type": "stream",
     "text": [
      "aws s3 cp s3://mousebrainatlas-data/CSHL_cells_v2/detected_cells/MD585/MD585-N32-2015.08.19-16.07.10_MD585_3_0096/MD585-N32-2015.08.19-16.07.10_MD585_3_0096_blobMaskCenters.bp /shared/CSHL_cells_v2/detected_cells/MD585/MD585-N32-2015.08.19-16.07.10_MD585_3_0096/MD585-N32-2015.08.19-16.07.10_MD585_3_0096_blobMaskCenters.bp\n"
     ]
    },
    {
     "name": "stderr",
     "output_type": "stream",
     "text": [
      "Child returned 0\n",
      "0.66 seconds.\n",
      "Processing section: 154\n"
     ]
    },
    {
     "name": "stdout",
     "output_type": "stream",
     "text": [
      "rm -rf /shared/CSHL_cells_v2/detected_cells/MD585/MD585-IHC28-2015.08.19-13.33.04_MD585_2_0083/MD585-IHC28-2015.08.19-13.33.04_MD585_2_0083_blobMaskCenters.bp && mkdir -p /shared/CSHL_cells_v2/detected_cells/MD585/MD585-IHC28-2015.08.19-13.33.04_MD585_2_0083\n"
     ]
    },
    {
     "name": "stderr",
     "output_type": "stream",
     "text": [
      "Child returned 0\n"
     ]
    },
    {
     "name": "stdout",
     "output_type": "stream",
     "text": [
      "aws s3 cp s3://mousebrainatlas-data/CSHL_cells_v2/detected_cells/MD585/MD585-IHC28-2015.08.19-13.33.04_MD585_2_0083/MD585-IHC28-2015.08.19-13.33.04_MD585_2_0083_blobMaskCenters.bp /shared/CSHL_cells_v2/detected_cells/MD585/MD585-IHC28-2015.08.19-13.33.04_MD585_2_0083/MD585-IHC28-2015.08.19-13.33.04_MD585_2_0083_blobMaskCenters.bp\n"
     ]
    },
    {
     "name": "stderr",
     "output_type": "stream",
     "text": [
      "Child returned 0\n",
      "0.75 seconds.\n",
      "Rotate cell masks: 10.62 seconds.\n",
      "Child returned 0\n",
      "0.95 seconds.\n"
     ]
    },
    {
     "name": "stdout",
     "output_type": "stream",
     "text": [
      "aws s3 cp /shared/CSHL_cells_v2/detected_cells/MD585/MD585-IHC20-2015.07.16-15.43.53_MD585_2_0059/MD585-IHC20-2015.07.16-15.43.53_MD585_2_0059_cells_aligned_mirrored_padded.bp s3://mousebrainatlas-data/CSHL_cells_v2/detected_cells/MD585/MD585-IHC20-2015.07.16-15.43.53_MD585_2_0059/MD585-IHC20-2015.07.16-15.43.53_MD585_2_0059_cells_aligned_mirrored_padded.bp\n"
     ]
    },
    {
     "name": "stderr",
     "output_type": "stream",
     "text": [
      "Child returned 0\n",
      "0.83 seconds.\n"
     ]
    },
    {
     "name": "stdout",
     "output_type": "stream",
     "text": [
      "aws s3 cp /shared/CSHL_cells_v2/detected_cells/MD585/MD585-IHC20-2015.07.16-15.43.53_MD585_2_0059/MD585-IHC20-2015.07.16-15.43.53_MD585_2_0059_cells_aligned_mirrorDirections.bp s3://mousebrainatlas-data/CSHL_cells_v2/detected_cells/MD585/MD585-IHC20-2015.07.16-15.43.53_MD585_2_0059/MD585-IHC20-2015.07.16-15.43.53_MD585_2_0059_cells_aligned_mirrorDirections.bp\n"
     ]
    },
    {
     "name": "stderr",
     "output_type": "stream",
     "text": [
      "Child returned 0\n",
      "0.66 seconds.\n",
      "Processing section: 185\n"
     ]
    },
    {
     "name": "stdout",
     "output_type": "stream",
     "text": [
      "rm -rf /shared/CSHL_cells_v2/detected_cells/MD585/MD585-N33-2015.07.16-21.37.52_MD585_3_0099/MD585-N33-2015.07.16-21.37.52_MD585_3_0099_blobMaskCenters.bp && mkdir -p /shared/CSHL_cells_v2/detected_cells/MD585/MD585-N33-2015.07.16-21.37.52_MD585_3_0099\n"
     ]
    },
    {
     "name": "stderr",
     "output_type": "stream",
     "text": [
      "Child returned 0\n"
     ]
    },
    {
     "name": "stdout",
     "output_type": "stream",
     "text": [
      "aws s3 cp s3://mousebrainatlas-data/CSHL_cells_v2/detected_cells/MD585/MD585-N33-2015.07.16-21.37.52_MD585_3_0099/MD585-N33-2015.07.16-21.37.52_MD585_3_0099_blobMaskCenters.bp /shared/CSHL_cells_v2/detected_cells/MD585/MD585-N33-2015.07.16-21.37.52_MD585_3_0099/MD585-N33-2015.07.16-21.37.52_MD585_3_0099_blobMaskCenters.bp\n"
     ]
    },
    {
     "name": "stderr",
     "output_type": "stream",
     "text": [
      "Child returned 0\n",
      "0.81 seconds.\n",
      "Rotate cell masks: 11.28 seconds.\n"
     ]
    },
    {
     "name": "stdout",
     "output_type": "stream",
     "text": [
      "aws s3 cp /shared/CSHL_cells_v2/detected_cells/MD585/MD585-IHC23-2015.08.19-13.18.49_MD585_2_0068/MD585-IHC23-2015.08.19-13.18.49_MD585_2_0068_cells_aligned_mirrored_padded.bp s3://mousebrainatlas-data/CSHL_cells_v2/detected_cells/MD585/MD585-IHC23-2015.08.19-13.18.49_MD585_2_0068/MD585-IHC23-2015.08.19-13.18.49_MD585_2_0068_cells_aligned_mirrored_padded.bp\n"
     ]
    },
    {
     "name": "stderr",
     "output_type": "stream",
     "text": [
      "Rotate cell masks: 12.48 seconds.\n",
      "Child returned 0\n",
      "0.84 seconds.\n"
     ]
    },
    {
     "name": "stdout",
     "output_type": "stream",
     "text": [
      "aws s3 cp /shared/CSHL_cells_v2/detected_cells/MD585/MD585-IHC23-2015.08.19-13.18.49_MD585_2_0068/MD585-IHC23-2015.08.19-13.18.49_MD585_2_0068_cells_aligned_mirrorDirections.bp s3://mousebrainatlas-data/CSHL_cells_v2/detected_cells/MD585/MD585-IHC23-2015.08.19-13.18.49_MD585_2_0068/MD585-IHC23-2015.08.19-13.18.49_MD585_2_0068_cells_aligned_mirrorDirections.bp\n",
      "aws s3 cp /shared/CSHL_cells_v2/detected_cells/MD585/MD585-IHC25-2015.07.18-07.19.12_MD585_2_0074/MD585-IHC25-2015.07.18-07.19.12_MD585_2_0074_cells_aligned_mirrored_padded.bp s3://mousebrainatlas-data/CSHL_cells_v2/detected_cells/MD585/MD585-IHC25-2015.07.18-07.19.12_MD585_2_0074/MD585-IHC25-2015.07.18-07.19.12_MD585_2_0074_cells_aligned_mirrored_padded.bp\n"
     ]
    },
    {
     "name": "stderr",
     "output_type": "stream",
     "text": [
      "Child returned 0\n",
      "0.69 seconds.\n",
      "Processing section: 191\n"
     ]
    },
    {
     "name": "stdout",
     "output_type": "stream",
     "text": [
      "rm -rf /shared/CSHL_cells_v2/detected_cells/MD585/MD585-N34-2015.07.16-21.43.03_MD585_3_0102/MD585-N34-2015.07.16-21.43.03_MD585_3_0102_blobMaskCenters.bp && mkdir -p /shared/CSHL_cells_v2/detected_cells/MD585/MD585-N34-2015.07.16-21.43.03_MD585_3_0102\n"
     ]
    },
    {
     "name": "stderr",
     "output_type": "stream",
     "text": [
      "Child returned 0\n",
      "0.96 seconds.\n"
     ]
    },
    {
     "name": "stdout",
     "output_type": "stream",
     "text": [
      "aws s3 cp /shared/CSHL_cells_v2/detected_cells/MD585/MD585-IHC25-2015.07.18-07.19.12_MD585_2_0074/MD585-IHC25-2015.07.18-07.19.12_MD585_2_0074_cells_aligned_mirrorDirections.bp s3://mousebrainatlas-data/CSHL_cells_v2/detected_cells/MD585/MD585-IHC25-2015.07.18-07.19.12_MD585_2_0074/MD585-IHC25-2015.07.18-07.19.12_MD585_2_0074_cells_aligned_mirrorDirections.bp\n"
     ]
    },
    {
     "name": "stderr",
     "output_type": "stream",
     "text": [
      "Child returned 0\n"
     ]
    },
    {
     "name": "stdout",
     "output_type": "stream",
     "text": [
      "aws s3 cp s3://mousebrainatlas-data/CSHL_cells_v2/detected_cells/MD585/MD585-N34-2015.07.16-21.43.03_MD585_3_0102/MD585-N34-2015.07.16-21.43.03_MD585_3_0102_blobMaskCenters.bp /shared/CSHL_cells_v2/detected_cells/MD585/MD585-N34-2015.07.16-21.43.03_MD585_3_0102/MD585-N34-2015.07.16-21.43.03_MD585_3_0102_blobMaskCenters.bp\n"
     ]
    },
    {
     "name": "stderr",
     "output_type": "stream",
     "text": [
      "Child returned 0\n",
      "0.70 seconds.\n",
      "Child returned 0\n",
      "0.75 seconds.\n",
      "Processing section: 197\n"
     ]
    },
    {
     "name": "stdout",
     "output_type": "stream",
     "text": [
      "rm -rf /shared/CSHL_cells_v2/detected_cells/MD585/MD585-N35-2015.07.16-21.48.15_MD585_3_0105/MD585-N35-2015.07.16-21.48.15_MD585_3_0105_blobMaskCenters.bp && mkdir -p /shared/CSHL_cells_v2/detected_cells/MD585/MD585-N35-2015.07.16-21.48.15_MD585_3_0105\n"
     ]
    },
    {
     "name": "stderr",
     "output_type": "stream",
     "text": [
      "Child returned 0\n"
     ]
    },
    {
     "name": "stdout",
     "output_type": "stream",
     "text": [
      "aws s3 cp s3://mousebrainatlas-data/CSHL_cells_v2/detected_cells/MD585/MD585-N35-2015.07.16-21.48.15_MD585_3_0105/MD585-N35-2015.07.16-21.48.15_MD585_3_0105_blobMaskCenters.bp /shared/CSHL_cells_v2/detected_cells/MD585/MD585-N35-2015.07.16-21.48.15_MD585_3_0105/MD585-N35-2015.07.16-21.48.15_MD585_3_0105_blobMaskCenters.bp\n"
     ]
    },
    {
     "name": "stderr",
     "output_type": "stream",
     "text": [
      "Rotate cell masks: 11.62 seconds.\n",
      "Rotate cell masks: 13.96 seconds.\n"
     ]
    },
    {
     "name": "stdout",
     "output_type": "stream",
     "text": [
      "aws s3 cp /shared/CSHL_cells_v2/detected_cells/MD585/MD585-IHC24-2015.07.18-07.14.51_MD585_2_0071/MD585-IHC24-2015.07.18-07.14.51_MD585_2_0071_cells_aligned_mirrored_padded.bp s3://mousebrainatlas-data/CSHL_cells_v2/detected_cells/MD585/MD585-IHC24-2015.07.18-07.14.51_MD585_2_0071/MD585-IHC24-2015.07.18-07.14.51_MD585_2_0071_cells_aligned_mirrored_padded.bp\n"
     ]
    },
    {
     "name": "stderr",
     "output_type": "stream",
     "text": [
      "Child returned 0\n",
      "0.72 seconds.\n"
     ]
    },
    {
     "name": "stdout",
     "output_type": "stream",
     "text": [
      "aws s3 cp /shared/CSHL_cells_v2/detected_cells/MD585/MD585-N28-2015.08.19-15.47.09_MD585_3_0084/MD585-N28-2015.08.19-15.47.09_MD585_3_0084_cells_aligned_mirrored_padded.bp s3://mousebrainatlas-data/CSHL_cells_v2/detected_cells/MD585/MD585-N28-2015.08.19-15.47.09_MD585_3_0084/MD585-N28-2015.08.19-15.47.09_MD585_3_0084_cells_aligned_mirrored_padded.bp\n"
     ]
    },
    {
     "name": "stderr",
     "output_type": "stream",
     "text": [
      "Child returned 0\n",
      "0.79 seconds.\n"
     ]
    },
    {
     "name": "stdout",
     "output_type": "stream",
     "text": [
      "aws s3 cp /shared/CSHL_cells_v2/detected_cells/MD585/MD585-IHC24-2015.07.18-07.14.51_MD585_2_0071/MD585-IHC24-2015.07.18-07.14.51_MD585_2_0071_cells_aligned_mirrorDirections.bp s3://mousebrainatlas-data/CSHL_cells_v2/detected_cells/MD585/MD585-IHC24-2015.07.18-07.14.51_MD585_2_0071/MD585-IHC24-2015.07.18-07.14.51_MD585_2_0071_cells_aligned_mirrorDirections.bp\n"
     ]
    },
    {
     "name": "stderr",
     "output_type": "stream",
     "text": [
      "Rotate cell masks: 12.97 seconds.\n",
      "Child returned 0\n",
      "0.82 seconds.\n"
     ]
    },
    {
     "name": "stdout",
     "output_type": "stream",
     "text": [
      "aws s3 cp /shared/CSHL_cells_v2/detected_cells/MD585/MD585-N28-2015.08.19-15.47.09_MD585_3_0084/MD585-N28-2015.08.19-15.47.09_MD585_3_0084_cells_aligned_mirrorDirections.bp s3://mousebrainatlas-data/CSHL_cells_v2/detected_cells/MD585/MD585-N28-2015.08.19-15.47.09_MD585_3_0084/MD585-N28-2015.08.19-15.47.09_MD585_3_0084_cells_aligned_mirrorDirections.bp\n"
     ]
    },
    {
     "name": "stderr",
     "output_type": "stream",
     "text": [
      "Child returned 0\n",
      "0.68 seconds.\n",
      "Rotate cell masks: 12.33 seconds.\n",
      "Processing section: 203\n"
     ]
    },
    {
     "name": "stdout",
     "output_type": "stream",
     "text": [
      "aws s3 cp /shared/CSHL_cells_v2/detected_cells/MD585/MD585-N29-2015.08.19-15.51.55_MD585_3_0087/MD585-N29-2015.08.19-15.51.55_MD585_3_0087_cells_aligned_mirrored_padded.bp s3://mousebrainatlas-data/CSHL_cells_v2/detected_cells/MD585/MD585-N29-2015.08.19-15.51.55_MD585_3_0087/MD585-N29-2015.08.19-15.51.55_MD585_3_0087_cells_aligned_mirrored_padded.bp\n",
      "rm -rf /shared/CSHL_cells_v2/detected_cells/MD585/MD585-N36-2015.07.16-21.53.31_MD585_3_0108/MD585-N36-2015.07.16-21.53.31_MD585_3_0108_blobMaskCenters.bp && mkdir -p /shared/CSHL_cells_v2/detected_cells/MD585/MD585-N36-2015.07.16-21.53.31_MD585_3_0108\n"
     ]
    },
    {
     "name": "stderr",
     "output_type": "stream",
     "text": [
      "Child returned 0\n"
     ]
    },
    {
     "name": "stdout",
     "output_type": "stream",
     "text": [
      "aws s3 cp s3://mousebrainatlas-data/CSHL_cells_v2/detected_cells/MD585/MD585-N36-2015.07.16-21.53.31_MD585_3_0108/MD585-N36-2015.07.16-21.53.31_MD585_3_0108_blobMaskCenters.bp /shared/CSHL_cells_v2/detected_cells/MD585/MD585-N36-2015.07.16-21.53.31_MD585_3_0108/MD585-N36-2015.07.16-21.53.31_MD585_3_0108_blobMaskCenters.bp\n"
     ]
    },
    {
     "name": "stderr",
     "output_type": "stream",
     "text": [
      "Child returned 0\n",
      "0.73 seconds.\n"
     ]
    },
    {
     "name": "stdout",
     "output_type": "stream",
     "text": [
      "aws s3 cp /shared/CSHL_cells_v2/detected_cells/MD585/MD585-IHC26-2015.08.19-13.23.15_MD585_2_0077/MD585-IHC26-2015.08.19-13.23.15_MD585_2_0077_cells_aligned_mirrored_padded.bp s3://mousebrainatlas-data/CSHL_cells_v2/detected_cells/MD585/MD585-IHC26-2015.08.19-13.23.15_MD585_2_0077/MD585-IHC26-2015.08.19-13.23.15_MD585_2_0077_cells_aligned_mirrored_padded.bp\n"
     ]
    },
    {
     "name": "stderr",
     "output_type": "stream",
     "text": [
      "Rotate cell masks: 12.54 seconds.\n",
      "Processing section: 156\n"
     ]
    },
    {
     "name": "stdout",
     "output_type": "stream",
     "text": [
      "rm -rf /shared/CSHL_cells_v2/detected_cells/MD585/MD585-IHC28-2015.08.19-13.33.04_MD585_3_0084/MD585-IHC28-2015.08.19-13.33.04_MD585_3_0084_blobMaskCenters.bp && mkdir -p /shared/CSHL_cells_v2/detected_cells/MD585/MD585-IHC28-2015.08.19-13.33.04_MD585_3_0084\n"
     ]
    },
    {
     "name": "stderr",
     "output_type": "stream",
     "text": [
      "Child returned 0\n"
     ]
    },
    {
     "name": "stdout",
     "output_type": "stream",
     "text": [
      "aws s3 cp s3://mousebrainatlas-data/CSHL_cells_v2/detected_cells/MD585/MD585-IHC28-2015.08.19-13.33.04_MD585_3_0084/MD585-IHC28-2015.08.19-13.33.04_MD585_3_0084_blobMaskCenters.bp /shared/CSHL_cells_v2/detected_cells/MD585/MD585-IHC28-2015.08.19-13.33.04_MD585_3_0084/MD585-IHC28-2015.08.19-13.33.04_MD585_3_0084_blobMaskCenters.bp\n"
     ]
    },
    {
     "name": "stderr",
     "output_type": "stream",
     "text": [
      "Child returned 0\n",
      "0.74 seconds.\n"
     ]
    },
    {
     "name": "stdout",
     "output_type": "stream",
     "text": [
      "aws s3 cp /shared/CSHL_cells_v2/detected_cells/MD585/MD585-N29-2015.08.19-15.51.55_MD585_3_0087/MD585-N29-2015.08.19-15.51.55_MD585_3_0087_cells_aligned_mirrorDirections.bp s3://mousebrainatlas-data/CSHL_cells_v2/detected_cells/MD585/MD585-N29-2015.08.19-15.51.55_MD585_3_0087/MD585-N29-2015.08.19-15.51.55_MD585_3_0087_cells_aligned_mirrorDirections.bp\n"
     ]
    },
    {
     "name": "stderr",
     "output_type": "stream",
     "text": [
      "Child returned 0\n",
      "0.82 seconds.\n"
     ]
    },
    {
     "name": "stdout",
     "output_type": "stream",
     "text": [
      "aws s3 cp /shared/CSHL_cells_v2/detected_cells/MD585/MD585-IHC27-2015.08.19-13.28.05_MD585_2_0080/MD585-IHC27-2015.08.19-13.28.05_MD585_2_0080_cells_aligned_mirrored_padded.bp s3://mousebrainatlas-data/CSHL_cells_v2/detected_cells/MD585/MD585-IHC27-2015.08.19-13.28.05_MD585_2_0080/MD585-IHC27-2015.08.19-13.28.05_MD585_2_0080_cells_aligned_mirrored_padded.bp\n"
     ]
    },
    {
     "name": "stderr",
     "output_type": "stream",
     "text": [
      "Child returned 0\n",
      "0.86 seconds.\n"
     ]
    },
    {
     "name": "stdout",
     "output_type": "stream",
     "text": [
      "aws s3 cp /shared/CSHL_cells_v2/detected_cells/MD585/MD585-IHC26-2015.08.19-13.23.15_MD585_2_0077/MD585-IHC26-2015.08.19-13.23.15_MD585_2_0077_cells_aligned_mirrorDirections.bp s3://mousebrainatlas-data/CSHL_cells_v2/detected_cells/MD585/MD585-IHC26-2015.08.19-13.23.15_MD585_2_0077/MD585-IHC26-2015.08.19-13.23.15_MD585_2_0077_cells_aligned_mirrorDirections.bp\n"
     ]
    },
    {
     "name": "stderr",
     "output_type": "stream",
     "text": [
      "Child returned 0\n",
      "0.83 seconds.\n",
      "Child returned 0\n",
      "0.75 seconds.\n",
      "Child returned 0\n",
      "Processing section: 162\n",
      "0.63 seconds.\n"
     ]
    },
    {
     "name": "stdout",
     "output_type": "stream",
     "text": [
      "aws s3 cp /shared/CSHL_cells_v2/detected_cells/MD585/MD585-IHC27-2015.08.19-13.28.05_MD585_2_0080/MD585-IHC27-2015.08.19-13.28.05_MD585_2_0080_cells_aligned_mirrorDirections.bp s3://mousebrainatlas-data/CSHL_cells_v2/detected_cells/MD585/MD585-IHC27-2015.08.19-13.28.05_MD585_2_0080/MD585-IHC27-2015.08.19-13.28.05_MD585_2_0080_cells_aligned_mirrorDirections.bp\n"
     ]
    },
    {
     "name": "stderr",
     "output_type": "stream",
     "text": [
      "Child returned 0\n",
      "0.69 seconds.\n"
     ]
    },
    {
     "name": "stdout",
     "output_type": "stream",
     "text": [
      "rm -rf /shared/CSHL_cells_v2/detected_cells/MD585/MD585-IHC29-2015.08.19-13.38.04_MD585_3_0087/MD585-IHC29-2015.08.19-13.38.04_MD585_3_0087_blobMaskCenters.bp && mkdir -p /shared/CSHL_cells_v2/detected_cells/MD585/MD585-IHC29-2015.08.19-13.38.04_MD585_3_0087\n"
     ]
    },
    {
     "name": "stderr",
     "output_type": "stream",
     "text": [
      "Child returned 0\n"
     ]
    },
    {
     "name": "stdout",
     "output_type": "stream",
     "text": [
      "aws s3 cp s3://mousebrainatlas-data/CSHL_cells_v2/detected_cells/MD585/MD585-IHC29-2015.08.19-13.38.04_MD585_3_0087/MD585-IHC29-2015.08.19-13.38.04_MD585_3_0087_blobMaskCenters.bp /shared/CSHL_cells_v2/detected_cells/MD585/MD585-IHC29-2015.08.19-13.38.04_MD585_3_0087/MD585-IHC29-2015.08.19-13.38.04_MD585_3_0087_blobMaskCenters.bp\n"
     ]
    },
    {
     "name": "stderr",
     "output_type": "stream",
     "text": [
      "Processing section: 209\n",
      "Child returned 0\n",
      "0.71 seconds.\n"
     ]
    },
    {
     "name": "stdout",
     "output_type": "stream",
     "text": [
      "rm -rf /shared/CSHL_cells_v2/detected_cells/MD585/MD585-N37-2015.07.16-21.59.03_MD585_3_0111/MD585-N37-2015.07.16-21.59.03_MD585_3_0111_blobMaskCenters.bp && mkdir -p /shared/CSHL_cells_v2/detected_cells/MD585/MD585-N37-2015.07.16-21.59.03_MD585_3_0111\n"
     ]
    },
    {
     "name": "stderr",
     "output_type": "stream",
     "text": [
      "Rotate cell masks: 13.31 seconds.\n",
      "Child returned 0\n"
     ]
    },
    {
     "name": "stdout",
     "output_type": "stream",
     "text": [
      "aws s3 cp s3://mousebrainatlas-data/CSHL_cells_v2/detected_cells/MD585/MD585-N37-2015.07.16-21.59.03_MD585_3_0111/MD585-N37-2015.07.16-21.59.03_MD585_3_0111_blobMaskCenters.bp /shared/CSHL_cells_v2/detected_cells/MD585/MD585-N37-2015.07.16-21.59.03_MD585_3_0111/MD585-N37-2015.07.16-21.59.03_MD585_3_0111_blobMaskCenters.bp\n"
     ]
    },
    {
     "name": "stderr",
     "output_type": "stream",
     "text": [
      "Child returned 0\n",
      "0.61 seconds.\n",
      "Rotate cell masks: 12.62 seconds.\n",
      "Processing section: 215\n",
      "Rotate cell masks: 14.49 seconds.\n"
     ]
    },
    {
     "name": "stdout",
     "output_type": "stream",
     "text": [
      "rm -rf /shared/CSHL_cells_v2/detected_cells/MD585/MD585-N38-2015.07.16-22.04.12_MD585_3_0114/MD585-N38-2015.07.16-22.04.12_MD585_3_0114_blobMaskCenters.bp && mkdir -p /shared/CSHL_cells_v2/detected_cells/MD585/MD585-N38-2015.07.16-22.04.12_MD585_3_0114\n"
     ]
    },
    {
     "name": "stderr",
     "output_type": "stream",
     "text": [
      "Child returned 0\n"
     ]
    },
    {
     "name": "stdout",
     "output_type": "stream",
     "text": [
      "aws s3 cp s3://mousebrainatlas-data/CSHL_cells_v2/detected_cells/MD585/MD585-N38-2015.07.16-22.04.12_MD585_3_0114/MD585-N38-2015.07.16-22.04.12_MD585_3_0114_blobMaskCenters.bp /shared/CSHL_cells_v2/detected_cells/MD585/MD585-N38-2015.07.16-22.04.12_MD585_3_0114/MD585-N38-2015.07.16-22.04.12_MD585_3_0114_blobMaskCenters.bp\n"
     ]
    },
    {
     "name": "stderr",
     "output_type": "stream",
     "text": [
      "Rotate cell masks: 14.68 seconds.\n"
     ]
    },
    {
     "name": "stdout",
     "output_type": "stream",
     "text": [
      "aws s3 cp /shared/CSHL_cells_v2/detected_cells/MD585/MD585-N32-2015.08.19-16.07.10_MD585_3_0096/MD585-N32-2015.08.19-16.07.10_MD585_3_0096_cells_aligned_mirrored_padded.bp s3://mousebrainatlas-data/CSHL_cells_v2/detected_cells/MD585/MD585-N32-2015.08.19-16.07.10_MD585_3_0096/MD585-N32-2015.08.19-16.07.10_MD585_3_0096_cells_aligned_mirrored_padded.bp\n"
     ]
    },
    {
     "name": "stderr",
     "output_type": "stream",
     "text": [
      "Child returned 0\n",
      "0.83 seconds.\n"
     ]
    },
    {
     "name": "stdout",
     "output_type": "stream",
     "text": [
      "aws s3 cp /shared/CSHL_cells_v2/detected_cells/MD585/MD585-IHC28-2015.08.19-13.33.04_MD585_2_0083/MD585-IHC28-2015.08.19-13.33.04_MD585_2_0083_cells_aligned_mirrored_padded.bp s3://mousebrainatlas-data/CSHL_cells_v2/detected_cells/MD585/MD585-IHC28-2015.08.19-13.33.04_MD585_2_0083/MD585-IHC28-2015.08.19-13.33.04_MD585_2_0083_cells_aligned_mirrored_padded.bp\n",
      "aws s3 cp /shared/CSHL_cells_v2/detected_cells/MD585/MD585-N31-2015.08.19-16.01.47_MD585_3_0093/MD585-N31-2015.08.19-16.01.47_MD585_3_0093_cells_aligned_mirrored_padded.bp s3://mousebrainatlas-data/CSHL_cells_v2/detected_cells/MD585/MD585-N31-2015.08.19-16.01.47_MD585_3_0093/MD585-N31-2015.08.19-16.01.47_MD585_3_0093_cells_aligned_mirrored_padded.bp\n"
     ]
    },
    {
     "name": "stderr",
     "output_type": "stream",
     "text": [
      "Child returned 0\n",
      "0.71 seconds.\n",
      "Child returned 0\n",
      "0.81 seconds.\n"
     ]
    },
    {
     "name": "stdout",
     "output_type": "stream",
     "text": [
      "aws s3 cp /shared/CSHL_cells_v2/detected_cells/MD585/MD585-N32-2015.08.19-16.07.10_MD585_3_0096/MD585-N32-2015.08.19-16.07.10_MD585_3_0096_cells_aligned_mirrorDirections.bp s3://mousebrainatlas-data/CSHL_cells_v2/detected_cells/MD585/MD585-N32-2015.08.19-16.07.10_MD585_3_0096/MD585-N32-2015.08.19-16.07.10_MD585_3_0096_cells_aligned_mirrorDirections.bp\n",
      "aws s3 cp /shared/CSHL_cells_v2/detected_cells/MD585/MD585-N30-2015.08.19-15.56.52_MD585_3_0090/MD585-N30-2015.08.19-15.56.52_MD585_3_0090_cells_aligned_mirrored_padded.bp s3://mousebrainatlas-data/CSHL_cells_v2/detected_cells/MD585/MD585-N30-2015.08.19-15.56.52_MD585_3_0090/MD585-N30-2015.08.19-15.56.52_MD585_3_0090_cells_aligned_mirrored_padded.bp\n"
     ]
    },
    {
     "name": "stderr",
     "output_type": "stream",
     "text": [
      "Child returned 0\n",
      "0.86 seconds.\n"
     ]
    },
    {
     "name": "stdout",
     "output_type": "stream",
     "text": [
      "aws s3 cp /shared/CSHL_cells_v2/detected_cells/MD585/MD585-IHC28-2015.08.19-13.33.04_MD585_2_0083/MD585-IHC28-2015.08.19-13.33.04_MD585_2_0083_cells_aligned_mirrorDirections.bp s3://mousebrainatlas-data/CSHL_cells_v2/detected_cells/MD585/MD585-IHC28-2015.08.19-13.33.04_MD585_2_0083/MD585-IHC28-2015.08.19-13.33.04_MD585_2_0083_cells_aligned_mirrorDirections.bp\n"
     ]
    },
    {
     "name": "stderr",
     "output_type": "stream",
     "text": [
      "Child returned 0\n",
      "0.77 seconds.\n"
     ]
    },
    {
     "name": "stdout",
     "output_type": "stream",
     "text": [
      "aws s3 cp /shared/CSHL_cells_v2/detected_cells/MD585/MD585-N31-2015.08.19-16.01.47_MD585_3_0093/MD585-N31-2015.08.19-16.01.47_MD585_3_0093_cells_aligned_mirrorDirections.bp s3://mousebrainatlas-data/CSHL_cells_v2/detected_cells/MD585/MD585-N31-2015.08.19-16.01.47_MD585_3_0093/MD585-N31-2015.08.19-16.01.47_MD585_3_0093_cells_aligned_mirrorDirections.bp\n"
     ]
    },
    {
     "name": "stderr",
     "output_type": "stream",
     "text": [
      "Child returned 0\n",
      "0.51 seconds.\n",
      "Processing section: 180\n"
     ]
    },
    {
     "name": "stdout",
     "output_type": "stream",
     "text": [
      "rm -rf /shared/CSHL_cells_v2/detected_cells/MD585/MD585-IHC32-2015.08.19-13.53.29_MD585_3_0096/MD585-IHC32-2015.08.19-13.53.29_MD585_3_0096_blobMaskCenters.bp && mkdir -p /shared/CSHL_cells_v2/detected_cells/MD585/MD585-IHC32-2015.08.19-13.53.29_MD585_3_0096\n"
     ]
    },
    {
     "name": "stderr",
     "output_type": "stream",
     "text": [
      "Child returned 0\n"
     ]
    },
    {
     "name": "stdout",
     "output_type": "stream",
     "text": [
      "aws s3 cp s3://mousebrainatlas-data/CSHL_cells_v2/detected_cells/MD585/MD585-IHC32-2015.08.19-13.53.29_MD585_3_0096/MD585-IHC32-2015.08.19-13.53.29_MD585_3_0096_blobMaskCenters.bp /shared/CSHL_cells_v2/detected_cells/MD585/MD585-IHC32-2015.08.19-13.53.29_MD585_3_0096/MD585-IHC32-2015.08.19-13.53.29_MD585_3_0096_blobMaskCenters.bp\n"
     ]
    },
    {
     "name": "stderr",
     "output_type": "stream",
     "text": [
      "Child returned 0\n",
      "0.70 seconds.\n",
      "Child returned 0\n",
      "0.67 seconds.\n",
      "Child returned 0\n",
      "1.03 seconds.\n"
     ]
    },
    {
     "name": "stdout",
     "output_type": "stream",
     "text": [
      "aws s3 cp /shared/CSHL_cells_v2/detected_cells/MD585/MD585-N30-2015.08.19-15.56.52_MD585_3_0090/MD585-N30-2015.08.19-15.56.52_MD585_3_0090_cells_aligned_mirrorDirections.bp s3://mousebrainatlas-data/CSHL_cells_v2/detected_cells/MD585/MD585-N30-2015.08.19-15.56.52_MD585_3_0090/MD585-N30-2015.08.19-15.56.52_MD585_3_0090_cells_aligned_mirrorDirections.bp\n"
     ]
    },
    {
     "name": "stderr",
     "output_type": "stream",
     "text": [
      "Processing section: 221\n",
      "Processing section: 174\n"
     ]
    },
    {
     "name": "stdout",
     "output_type": "stream",
     "text": [
      "rm -rf /shared/CSHL_cells_v2/detected_cells/MD585/MD585-IHC31-2015.08.19-13.48.12_MD585_3_0093/MD585-IHC31-2015.08.19-13.48.12_MD585_3_0093_blobMaskCenters.bp && mkdir -p /shared/CSHL_cells_v2/detected_cells/MD585/MD585-IHC31-2015.08.19-13.48.12_MD585_3_0093\n",
      "rm -rf /shared/CSHL_cells_v2/detected_cells/MD585/MD585-N39-2015.07.16-22.09.19_MD585_3_0117/MD585-N39-2015.07.16-22.09.19_MD585_3_0117_blobMaskCenters.bp && mkdir -p /shared/CSHL_cells_v2/detected_cells/MD585/MD585-N39-2015.07.16-22.09.19_MD585_3_0117\n"
     ]
    },
    {
     "name": "stderr",
     "output_type": "stream",
     "text": [
      "Child returned 0\n"
     ]
    },
    {
     "name": "stdout",
     "output_type": "stream",
     "text": [
      "aws s3 cp s3://mousebrainatlas-data/CSHL_cells_v2/detected_cells/MD585/MD585-IHC31-2015.08.19-13.48.12_MD585_3_0093/MD585-IHC31-2015.08.19-13.48.12_MD585_3_0093_blobMaskCenters.bp /shared/CSHL_cells_v2/detected_cells/MD585/MD585-IHC31-2015.08.19-13.48.12_MD585_3_0093/MD585-IHC31-2015.08.19-13.48.12_MD585_3_0093_blobMaskCenters.bp\n"
     ]
    },
    {
     "name": "stderr",
     "output_type": "stream",
     "text": [
      "Child returned 0\n"
     ]
    },
    {
     "name": "stdout",
     "output_type": "stream",
     "text": [
      "aws s3 cp s3://mousebrainatlas-data/CSHL_cells_v2/detected_cells/MD585/MD585-N39-2015.07.16-22.09.19_MD585_3_0117/MD585-N39-2015.07.16-22.09.19_MD585_3_0117_blobMaskCenters.bp /shared/CSHL_cells_v2/detected_cells/MD585/MD585-N39-2015.07.16-22.09.19_MD585_3_0117/MD585-N39-2015.07.16-22.09.19_MD585_3_0117_blobMaskCenters.bp\n"
     ]
    },
    {
     "name": "stderr",
     "output_type": "stream",
     "text": [
      "Child returned 0\n",
      "0.75 seconds.\n",
      "Child returned 0\n",
      "0.69 seconds.\n",
      "Processing section: 168\n",
      "Child returned 0\n",
      "0.67 seconds.\n"
     ]
    },
    {
     "name": "stdout",
     "output_type": "stream",
     "text": [
      "rm -rf /shared/CSHL_cells_v2/detected_cells/MD585/MD585-IHC30-2015.08.19-13.43.06_MD585_3_0090/MD585-IHC30-2015.08.19-13.43.06_MD585_3_0090_blobMaskCenters.bp && mkdir -p /shared/CSHL_cells_v2/detected_cells/MD585/MD585-IHC30-2015.08.19-13.43.06_MD585_3_0090\n"
     ]
    },
    {
     "name": "stderr",
     "output_type": "stream",
     "text": [
      "Child returned 0\n",
      "0.81 seconds.\n",
      "Child returned 0\n"
     ]
    },
    {
     "name": "stdout",
     "output_type": "stream",
     "text": [
      "aws s3 cp s3://mousebrainatlas-data/CSHL_cells_v2/detected_cells/MD585/MD585-IHC30-2015.08.19-13.43.06_MD585_3_0090/MD585-IHC30-2015.08.19-13.43.06_MD585_3_0090_blobMaskCenters.bp /shared/CSHL_cells_v2/detected_cells/MD585/MD585-IHC30-2015.08.19-13.43.06_MD585_3_0090/MD585-IHC30-2015.08.19-13.43.06_MD585_3_0090_blobMaskCenters.bp\n"
     ]
    },
    {
     "name": "stderr",
     "output_type": "stream",
     "text": [
      "Child returned 0\n",
      "0.79 seconds.\n",
      "Rotate cell masks: 14.45 seconds.\n"
     ]
    },
    {
     "name": "stdout",
     "output_type": "stream",
     "text": [
      "aws s3 cp /shared/CSHL_cells_v2/detected_cells/MD585/MD585-N33-2015.07.16-21.37.52_MD585_3_0099/MD585-N33-2015.07.16-21.37.52_MD585_3_0099_cells_aligned_mirrored_padded.bp s3://mousebrainatlas-data/CSHL_cells_v2/detected_cells/MD585/MD585-N33-2015.07.16-21.37.52_MD585_3_0099/MD585-N33-2015.07.16-21.37.52_MD585_3_0099_cells_aligned_mirrored_padded.bp\n"
     ]
    },
    {
     "name": "stderr",
     "output_type": "stream",
     "text": [
      "Child returned 0\n",
      "1.11 seconds.\n"
     ]
    },
    {
     "name": "stdout",
     "output_type": "stream",
     "text": [
      "aws s3 cp /shared/CSHL_cells_v2/detected_cells/MD585/MD585-N33-2015.07.16-21.37.52_MD585_3_0099/MD585-N33-2015.07.16-21.37.52_MD585_3_0099_cells_aligned_mirrorDirections.bp s3://mousebrainatlas-data/CSHL_cells_v2/detected_cells/MD585/MD585-N33-2015.07.16-21.37.52_MD585_3_0099/MD585-N33-2015.07.16-21.37.52_MD585_3_0099_cells_aligned_mirrorDirections.bp\n"
     ]
    },
    {
     "name": "stderr",
     "output_type": "stream",
     "text": [
      "Child returned 0\n",
      "0.70 seconds.\n",
      "Processing section: 186\n"
     ]
    },
    {
     "name": "stdout",
     "output_type": "stream",
     "text": [
      "rm -rf /shared/CSHL_cells_v2/detected_cells/MD585/MD585-IHC33-2015.07.16-16.33.07_MD585_3_0099/MD585-IHC33-2015.07.16-16.33.07_MD585_3_0099_blobMaskCenters.bp && mkdir -p /shared/CSHL_cells_v2/detected_cells/MD585/MD585-IHC33-2015.07.16-16.33.07_MD585_3_0099\n"
     ]
    },
    {
     "name": "stderr",
     "output_type": "stream",
     "text": [
      "Child returned 0\n"
     ]
    },
    {
     "name": "stdout",
     "output_type": "stream",
     "text": [
      "aws s3 cp s3://mousebrainatlas-data/CSHL_cells_v2/detected_cells/MD585/MD585-IHC33-2015.07.16-16.33.07_MD585_3_0099/MD585-IHC33-2015.07.16-16.33.07_MD585_3_0099_blobMaskCenters.bp /shared/CSHL_cells_v2/detected_cells/MD585/MD585-IHC33-2015.07.16-16.33.07_MD585_3_0099/MD585-IHC33-2015.07.16-16.33.07_MD585_3_0099_blobMaskCenters.bp\n"
     ]
    },
    {
     "name": "stderr",
     "output_type": "stream",
     "text": [
      "Child returned 0\n",
      "0.85 seconds.\n",
      "Rotate cell masks: 15.10 seconds.\n"
     ]
    },
    {
     "name": "stdout",
     "output_type": "stream",
     "text": [
      "aws s3 cp /shared/CSHL_cells_v2/detected_cells/MD585/MD585-N34-2015.07.16-21.43.03_MD585_3_0102/MD585-N34-2015.07.16-21.43.03_MD585_3_0102_cells_aligned_mirrored_padded.bp s3://mousebrainatlas-data/CSHL_cells_v2/detected_cells/MD585/MD585-N34-2015.07.16-21.43.03_MD585_3_0102/MD585-N34-2015.07.16-21.43.03_MD585_3_0102_cells_aligned_mirrored_padded.bp\n"
     ]
    },
    {
     "name": "stderr",
     "output_type": "stream",
     "text": [
      "Rotate cell masks: 15.15 seconds.\n",
      "Child returned 0\n",
      "0.90 seconds.\n"
     ]
    },
    {
     "name": "stdout",
     "output_type": "stream",
     "text": [
      "aws s3 cp /shared/CSHL_cells_v2/detected_cells/MD585/MD585-N34-2015.07.16-21.43.03_MD585_3_0102/MD585-N34-2015.07.16-21.43.03_MD585_3_0102_cells_aligned_mirrorDirections.bp s3://mousebrainatlas-data/CSHL_cells_v2/detected_cells/MD585/MD585-N34-2015.07.16-21.43.03_MD585_3_0102/MD585-N34-2015.07.16-21.43.03_MD585_3_0102_cells_aligned_mirrorDirections.bp\n"
     ]
    },
    {
     "name": "stderr",
     "output_type": "stream",
     "text": [
      "Rotate cell masks: 11.51 seconds.\n"
     ]
    },
    {
     "name": "stdout",
     "output_type": "stream",
     "text": [
      "aws s3 cp /shared/CSHL_cells_v2/detected_cells/MD585/MD585-N35-2015.07.16-21.48.15_MD585_3_0105/MD585-N35-2015.07.16-21.48.15_MD585_3_0105_cells_aligned_mirrored_padded.bp s3://mousebrainatlas-data/CSHL_cells_v2/detected_cells/MD585/MD585-N35-2015.07.16-21.48.15_MD585_3_0105/MD585-N35-2015.07.16-21.48.15_MD585_3_0105_cells_aligned_mirrored_padded.bp\n"
     ]
    },
    {
     "name": "stderr",
     "output_type": "stream",
     "text": [
      "Rotate cell masks: 13.04 seconds.\n"
     ]
    },
    {
     "name": "stdout",
     "output_type": "stream",
     "text": [
      "aws s3 cp /shared/CSHL_cells_v2/detected_cells/MD585/MD585-IHC29-2015.08.19-13.38.04_MD585_3_0087/MD585-IHC29-2015.08.19-13.38.04_MD585_3_0087_cells_aligned_mirrored_padded.bp s3://mousebrainatlas-data/CSHL_cells_v2/detected_cells/MD585/MD585-IHC29-2015.08.19-13.38.04_MD585_3_0087/MD585-IHC29-2015.08.19-13.38.04_MD585_3_0087_cells_aligned_mirrored_padded.bp\n"
     ]
    },
    {
     "name": "stderr",
     "output_type": "stream",
     "text": [
      "Child returned 0\n",
      "0.77 seconds.\n",
      "Rotate cell masks: 14.01 seconds.\n",
      "Processing section: 192\n",
      "Child returned 0\n",
      "1.00 seconds.\n"
     ]
    },
    {
     "name": "stdout",
     "output_type": "stream",
     "text": [
      "aws s3 cp /shared/CSHL_cells_v2/detected_cells/MD585/MD585-N35-2015.07.16-21.48.15_MD585_3_0105/MD585-N35-2015.07.16-21.48.15_MD585_3_0105_cells_aligned_mirrorDirections.bp s3://mousebrainatlas-data/CSHL_cells_v2/detected_cells/MD585/MD585-N35-2015.07.16-21.48.15_MD585_3_0105/MD585-N35-2015.07.16-21.48.15_MD585_3_0105_cells_aligned_mirrorDirections.bp\n",
      "rm -rf /shared/CSHL_cells_v2/detected_cells/MD585/MD585-IHC34-2015.07.16-16.38.23_MD585_3_0102/MD585-IHC34-2015.07.16-16.38.23_MD585_3_0102_blobMaskCenters.bp && mkdir -p /shared/CSHL_cells_v2/detected_cells/MD585/MD585-IHC34-2015.07.16-16.38.23_MD585_3_0102\n"
     ]
    },
    {
     "name": "stderr",
     "output_type": "stream",
     "text": [
      "Child returned 0\n"
     ]
    },
    {
     "name": "stdout",
     "output_type": "stream",
     "text": [
      "aws s3 cp s3://mousebrainatlas-data/CSHL_cells_v2/detected_cells/MD585/MD585-IHC34-2015.07.16-16.38.23_MD585_3_0102/MD585-IHC34-2015.07.16-16.38.23_MD585_3_0102_blobMaskCenters.bp /shared/CSHL_cells_v2/detected_cells/MD585/MD585-IHC34-2015.07.16-16.38.23_MD585_3_0102/MD585-IHC34-2015.07.16-16.38.23_MD585_3_0102_blobMaskCenters.bp\n",
      "aws s3 cp /shared/CSHL_cells_v2/detected_cells/MD585/MD585-IHC28-2015.08.19-13.33.04_MD585_3_0084/MD585-IHC28-2015.08.19-13.33.04_MD585_3_0084_cells_aligned_mirrored_padded.bp s3://mousebrainatlas-data/CSHL_cells_v2/detected_cells/MD585/MD585-IHC28-2015.08.19-13.33.04_MD585_3_0084/MD585-IHC28-2015.08.19-13.33.04_MD585_3_0084_cells_aligned_mirrored_padded.bp\n"
     ]
    },
    {
     "name": "stderr",
     "output_type": "stream",
     "text": [
      "Child returned 0\n",
      "0.73 seconds.\n"
     ]
    },
    {
     "name": "stdout",
     "output_type": "stream",
     "text": [
      "aws s3 cp /shared/CSHL_cells_v2/detected_cells/MD585/MD585-IHC29-2015.08.19-13.38.04_MD585_3_0087/MD585-IHC29-2015.08.19-13.38.04_MD585_3_0087_cells_aligned_mirrorDirections.bp s3://mousebrainatlas-data/CSHL_cells_v2/detected_cells/MD585/MD585-IHC29-2015.08.19-13.38.04_MD585_3_0087/MD585-IHC29-2015.08.19-13.38.04_MD585_3_0087_cells_aligned_mirrorDirections.bp\n",
      "aws s3 cp /shared/CSHL_cells_v2/detected_cells/MD585/MD585-N36-2015.07.16-21.53.31_MD585_3_0108/MD585-N36-2015.07.16-21.53.31_MD585_3_0108_cells_aligned_mirrored_padded.bp s3://mousebrainatlas-data/CSHL_cells_v2/detected_cells/MD585/MD585-N36-2015.07.16-21.53.31_MD585_3_0108/MD585-N36-2015.07.16-21.53.31_MD585_3_0108_cells_aligned_mirrored_padded.bp\n"
     ]
    },
    {
     "name": "stderr",
     "output_type": "stream",
     "text": [
      "Child returned 0\n",
      "0.70 seconds.\n",
      "Child returned 0\n",
      "0.55 seconds.\n",
      "Child returned 0\n",
      "0.76 seconds.\n",
      "Processing section: 198\n",
      "Processing section: 163\n",
      "Child returned 0\n"
     ]
    },
    {
     "name": "stdout",
     "output_type": "stream",
     "text": [
      "rm -rf /shared/CSHL_cells_v2/detected_cells/MD585/MD585-IHC35-2015.07.16-16.43.41_MD585_3_0105/MD585-IHC35-2015.07.16-16.43.41_MD585_3_0105_blobMaskCenters.bp && mkdir -p /shared/CSHL_cells_v2/detected_cells/MD585/MD585-IHC35-2015.07.16-16.43.41_MD585_3_0105\n"
     ]
    },
    {
     "name": "stderr",
     "output_type": "stream",
     "text": [
      "0.88 seconds.\n"
     ]
    },
    {
     "name": "stdout",
     "output_type": "stream",
     "text": [
      "aws s3 cp /shared/CSHL_cells_v2/detected_cells/MD585/MD585-IHC28-2015.08.19-13.33.04_MD585_3_0084/MD585-IHC28-2015.08.19-13.33.04_MD585_3_0084_cells_aligned_mirrorDirections.bp s3://mousebrainatlas-data/CSHL_cells_v2/detected_cells/MD585/MD585-IHC28-2015.08.19-13.33.04_MD585_3_0084/MD585-IHC28-2015.08.19-13.33.04_MD585_3_0084_cells_aligned_mirrorDirections.bp\n"
     ]
    },
    {
     "name": "stderr",
     "output_type": "stream",
     "text": [
      "Child returned 0\n"
     ]
    },
    {
     "name": "stdout",
     "output_type": "stream",
     "text": [
      "aws s3 cp s3://mousebrainatlas-data/CSHL_cells_v2/detected_cells/MD585/MD585-IHC35-2015.07.16-16.43.41_MD585_3_0105/MD585-IHC35-2015.07.16-16.43.41_MD585_3_0105_blobMaskCenters.bp /shared/CSHL_cells_v2/detected_cells/MD585/MD585-IHC35-2015.07.16-16.43.41_MD585_3_0105/MD585-IHC35-2015.07.16-16.43.41_MD585_3_0105_blobMaskCenters.bp\n"
     ]
    },
    {
     "name": "stderr",
     "output_type": "stream",
     "text": [
      "Child returned 0\n",
      "0.76 seconds.\n"
     ]
    },
    {
     "name": "stdout",
     "output_type": "stream",
     "text": [
      "aws s3 cp /shared/CSHL_cells_v2/detected_cells/MD585/MD585-N36-2015.07.16-21.53.31_MD585_3_0108/MD585-N36-2015.07.16-21.53.31_MD585_3_0108_cells_aligned_mirrorDirections.bp s3://mousebrainatlas-data/CSHL_cells_v2/detected_cells/MD585/MD585-N36-2015.07.16-21.53.31_MD585_3_0108/MD585-N36-2015.07.16-21.53.31_MD585_3_0108_cells_aligned_mirrorDirections.bp\n",
      "rm -rf /shared/CSHL_cells_v2/detected_cells/MD585/MD585-N30-2015.08.19-15.56.52_MD585_1_0088/MD585-N30-2015.08.19-15.56.52_MD585_1_0088_blobMaskCenters.bp && mkdir -p /shared/CSHL_cells_v2/detected_cells/MD585/MD585-N30-2015.08.19-15.56.52_MD585_1_0088\n"
     ]
    },
    {
     "name": "stderr",
     "output_type": "stream",
     "text": [
      "Child returned 0\n"
     ]
    },
    {
     "name": "stdout",
     "output_type": "stream",
     "text": [
      "aws s3 cp s3://mousebrainatlas-data/CSHL_cells_v2/detected_cells/MD585/MD585-N30-2015.08.19-15.56.52_MD585_1_0088/MD585-N30-2015.08.19-15.56.52_MD585_1_0088_blobMaskCenters.bp /shared/CSHL_cells_v2/detected_cells/MD585/MD585-N30-2015.08.19-15.56.52_MD585_1_0088/MD585-N30-2015.08.19-15.56.52_MD585_1_0088_blobMaskCenters.bp\n"
     ]
    },
    {
     "name": "stderr",
     "output_type": "stream",
     "text": [
      "Child returned 0\n",
      "0.55 seconds.\n",
      "Child returned 0\n",
      "0.64 seconds.\n",
      "Processing section: 157\n",
      "Child returned 0\n",
      "0.76 seconds.\n",
      "Processing section: 204\n"
     ]
    },
    {
     "name": "stdout",
     "output_type": "stream",
     "text": [
      "rm -rf /shared/CSHL_cells_v2/detected_cells/MD585/MD585-N29-2015.08.19-15.51.55_MD585_1_0085/MD585-N29-2015.08.19-15.51.55_MD585_1_0085_blobMaskCenters.bp && mkdir -p /shared/CSHL_cells_v2/detected_cells/MD585/MD585-N29-2015.08.19-15.51.55_MD585_1_0085\n"
     ]
    },
    {
     "name": "stderr",
     "output_type": "stream",
     "text": [
      "Child returned 0\n"
     ]
    },
    {
     "name": "stdout",
     "output_type": "stream",
     "text": [
      "aws s3 cp s3://mousebrainatlas-data/CSHL_cells_v2/detected_cells/MD585/MD585-N29-2015.08.19-15.51.55_MD585_1_0085/MD585-N29-2015.08.19-15.51.55_MD585_1_0085_blobMaskCenters.bp /shared/CSHL_cells_v2/detected_cells/MD585/MD585-N29-2015.08.19-15.51.55_MD585_1_0085/MD585-N29-2015.08.19-15.51.55_MD585_1_0085_blobMaskCenters.bp\n"
     ]
    },
    {
     "name": "stderr",
     "output_type": "stream",
     "text": [
      "Rotate cell masks: 13.63 seconds.\n",
      "Child returned 0\n",
      "0.87 seconds.\n"
     ]
    },
    {
     "name": "stdout",
     "output_type": "stream",
     "text": [
      "rm -rf /shared/CSHL_cells_v2/detected_cells/MD585/MD585-IHC36-2015.08.19-13.58.57_MD585_3_0108/MD585-IHC36-2015.08.19-13.58.57_MD585_3_0108_blobMaskCenters.bp && mkdir -p /shared/CSHL_cells_v2/detected_cells/MD585/MD585-IHC36-2015.08.19-13.58.57_MD585_3_0108\n"
     ]
    },
    {
     "name": "stderr",
     "output_type": "stream",
     "text": [
      "Child returned 0\n"
     ]
    },
    {
     "name": "stdout",
     "output_type": "stream",
     "text": [
      "aws s3 cp s3://mousebrainatlas-data/CSHL_cells_v2/detected_cells/MD585/MD585-IHC36-2015.08.19-13.58.57_MD585_3_0108/MD585-IHC36-2015.08.19-13.58.57_MD585_3_0108_blobMaskCenters.bp /shared/CSHL_cells_v2/detected_cells/MD585/MD585-IHC36-2015.08.19-13.58.57_MD585_3_0108/MD585-IHC36-2015.08.19-13.58.57_MD585_3_0108_blobMaskCenters.bp\n"
     ]
    },
    {
     "name": "stderr",
     "output_type": "stream",
     "text": [
      "Rotate cell masks: 14.42 seconds.\n",
      "Child returned 0\n",
      "0.78 seconds.\n"
     ]
    },
    {
     "name": "stdout",
     "output_type": "stream",
     "text": [
      "aws s3 cp /shared/CSHL_cells_v2/detected_cells/MD585/MD585-N38-2015.07.16-22.04.12_MD585_3_0114/MD585-N38-2015.07.16-22.04.12_MD585_3_0114_cells_aligned_mirrored_padded.bp s3://mousebrainatlas-data/CSHL_cells_v2/detected_cells/MD585/MD585-N38-2015.07.16-22.04.12_MD585_3_0114/MD585-N38-2015.07.16-22.04.12_MD585_3_0114_cells_aligned_mirrored_padded.bp\n"
     ]
    },
    {
     "name": "stderr",
     "output_type": "stream",
     "text": [
      "Child returned 0\n",
      "0.79 seconds.\n"
     ]
    },
    {
     "name": "stdout",
     "output_type": "stream",
     "text": [
      "aws s3 cp /shared/CSHL_cells_v2/detected_cells/MD585/MD585-N37-2015.07.16-21.59.03_MD585_3_0111/MD585-N37-2015.07.16-21.59.03_MD585_3_0111_cells_aligned_mirrored_padded.bp s3://mousebrainatlas-data/CSHL_cells_v2/detected_cells/MD585/MD585-N37-2015.07.16-21.59.03_MD585_3_0111/MD585-N37-2015.07.16-21.59.03_MD585_3_0111_cells_aligned_mirrored_padded.bp\n"
     ]
    },
    {
     "name": "stderr",
     "output_type": "stream",
     "text": [
      "Child returned 0\n",
      "1.05 seconds.\n"
     ]
    },
    {
     "name": "stdout",
     "output_type": "stream",
     "text": [
      "aws s3 cp /shared/CSHL_cells_v2/detected_cells/MD585/MD585-N38-2015.07.16-22.04.12_MD585_3_0114/MD585-N38-2015.07.16-22.04.12_MD585_3_0114_cells_aligned_mirrorDirections.bp s3://mousebrainatlas-data/CSHL_cells_v2/detected_cells/MD585/MD585-N38-2015.07.16-22.04.12_MD585_3_0114/MD585-N38-2015.07.16-22.04.12_MD585_3_0114_cells_aligned_mirrorDirections.bp\n"
     ]
    },
    {
     "name": "stderr",
     "output_type": "stream",
     "text": [
      "Rotate cell masks: 12.84 seconds.\n",
      "Child returned 0\n",
      "1.08 seconds.\n"
     ]
    },
    {
     "name": "stdout",
     "output_type": "stream",
     "text": [
      "aws s3 cp /shared/CSHL_cells_v2/detected_cells/MD585/MD585-N37-2015.07.16-21.59.03_MD585_3_0111/MD585-N37-2015.07.16-21.59.03_MD585_3_0111_cells_aligned_mirrorDirections.bp s3://mousebrainatlas-data/CSHL_cells_v2/detected_cells/MD585/MD585-N37-2015.07.16-21.59.03_MD585_3_0111/MD585-N37-2015.07.16-21.59.03_MD585_3_0111_cells_aligned_mirrorDirections.bp\n"
     ]
    },
    {
     "name": "stderr",
     "output_type": "stream",
     "text": [
      "Rotate cell masks: 13.88 seconds.\n",
      "Child returned 0\n",
      "0.70 seconds.\n"
     ]
    },
    {
     "name": "stdout",
     "output_type": "stream",
     "text": [
      "aws s3 cp /shared/CSHL_cells_v2/detected_cells/MD585/MD585-N39-2015.07.16-22.09.19_MD585_3_0117/MD585-N39-2015.07.16-22.09.19_MD585_3_0117_cells_aligned_mirrored_padded.bp s3://mousebrainatlas-data/CSHL_cells_v2/detected_cells/MD585/MD585-N39-2015.07.16-22.09.19_MD585_3_0117/MD585-N39-2015.07.16-22.09.19_MD585_3_0117_cells_aligned_mirrored_padded.bp\n"
     ]
    },
    {
     "name": "stderr",
     "output_type": "stream",
     "text": [
      "Processing section: 216\n"
     ]
    },
    {
     "name": "stdout",
     "output_type": "stream",
     "text": [
      "aws s3 cp /shared/CSHL_cells_v2/detected_cells/MD585/MD585-IHC32-2015.08.19-13.53.29_MD585_3_0096/MD585-IHC32-2015.08.19-13.53.29_MD585_3_0096_cells_aligned_mirrored_padded.bp s3://mousebrainatlas-data/CSHL_cells_v2/detected_cells/MD585/MD585-IHC32-2015.08.19-13.53.29_MD585_3_0096/MD585-IHC32-2015.08.19-13.53.29_MD585_3_0096_cells_aligned_mirrored_padded.bp\n"
     ]
    },
    {
     "name": "stderr",
     "output_type": "stream",
     "text": [
      "Child returned 0\n",
      "0.74 seconds.\n"
     ]
    },
    {
     "name": "stdout",
     "output_type": "stream",
     "text": [
      "rm -rf /shared/CSHL_cells_v2/detected_cells/MD585/MD585-IHC38-2015.07.16-17.00.35_MD585_3_0114/MD585-IHC38-2015.07.16-17.00.35_MD585_3_0114_blobMaskCenters.bp && mkdir -p /shared/CSHL_cells_v2/detected_cells/MD585/MD585-IHC38-2015.07.16-17.00.35_MD585_3_0114\n"
     ]
    },
    {
     "name": "stderr",
     "output_type": "stream",
     "text": [
      "Child returned 0\n"
     ]
    },
    {
     "name": "stdout",
     "output_type": "stream",
     "text": [
      "aws s3 cp s3://mousebrainatlas-data/CSHL_cells_v2/detected_cells/MD585/MD585-IHC38-2015.07.16-17.00.35_MD585_3_0114/MD585-IHC38-2015.07.16-17.00.35_MD585_3_0114_blobMaskCenters.bp /shared/CSHL_cells_v2/detected_cells/MD585/MD585-IHC38-2015.07.16-17.00.35_MD585_3_0114/MD585-IHC38-2015.07.16-17.00.35_MD585_3_0114_blobMaskCenters.bp\n"
     ]
    },
    {
     "name": "stderr",
     "output_type": "stream",
     "text": [
      "Processing section: 210\n"
     ]
    },
    {
     "name": "stdout",
     "output_type": "stream",
     "text": [
      "rm -rf /shared/CSHL_cells_v2/detected_cells/MD585/MD585-IHC37-2015.08.19-14.04.32_MD585_3_0111/MD585-IHC37-2015.08.19-14.04.32_MD585_3_0111_blobMaskCenters.bp && mkdir -p /shared/CSHL_cells_v2/detected_cells/MD585/MD585-IHC37-2015.08.19-14.04.32_MD585_3_0111\n"
     ]
    },
    {
     "name": "stderr",
     "output_type": "stream",
     "text": [
      "Child returned 0\n"
     ]
    },
    {
     "name": "stdout",
     "output_type": "stream",
     "text": [
      "aws s3 cp s3://mousebrainatlas-data/CSHL_cells_v2/detected_cells/MD585/MD585-IHC37-2015.08.19-14.04.32_MD585_3_0111/MD585-IHC37-2015.08.19-14.04.32_MD585_3_0111_blobMaskCenters.bp /shared/CSHL_cells_v2/detected_cells/MD585/MD585-IHC37-2015.08.19-14.04.32_MD585_3_0111/MD585-IHC37-2015.08.19-14.04.32_MD585_3_0111_blobMaskCenters.bp\n"
     ]
    },
    {
     "name": "stderr",
     "output_type": "stream",
     "text": [
      "Rotate cell masks: 14.62 seconds.\n",
      "Rotate cell masks: 13.91 seconds.\n",
      "Child returned 0\n",
      "Child returned 0\n",
      "1.18 seconds.\n",
      "0.92 seconds.\n"
     ]
    },
    {
     "name": "stdout",
     "output_type": "stream",
     "text": [
      "aws s3 cp /shared/CSHL_cells_v2/detected_cells/MD585/MD585-IHC32-2015.08.19-13.53.29_MD585_3_0096/MD585-IHC32-2015.08.19-13.53.29_MD585_3_0096_cells_aligned_mirrorDirections.bp s3://mousebrainatlas-data/CSHL_cells_v2/detected_cells/MD585/MD585-IHC32-2015.08.19-13.53.29_MD585_3_0096/MD585-IHC32-2015.08.19-13.53.29_MD585_3_0096_cells_aligned_mirrorDirections.bp\n",
      "aws s3 cp /shared/CSHL_cells_v2/detected_cells/MD585/MD585-N39-2015.07.16-22.09.19_MD585_3_0117/MD585-N39-2015.07.16-22.09.19_MD585_3_0117_cells_aligned_mirrorDirections.bp s3://mousebrainatlas-data/CSHL_cells_v2/detected_cells/MD585/MD585-N39-2015.07.16-22.09.19_MD585_3_0117/MD585-N39-2015.07.16-22.09.19_MD585_3_0117_cells_aligned_mirrorDirections.bp\n"
     ]
    },
    {
     "name": "stderr",
     "output_type": "stream",
     "text": [
      "Child returned 0\n",
      "0.83 seconds.\n",
      "Child returned 0\n",
      "0.69 seconds.\n"
     ]
    },
    {
     "name": "stdout",
     "output_type": "stream",
     "text": [
      "aws s3 cp /shared/CSHL_cells_v2/detected_cells/MD585/MD585-IHC31-2015.08.19-13.48.12_MD585_3_0093/MD585-IHC31-2015.08.19-13.48.12_MD585_3_0093_cells_aligned_mirrored_padded.bp s3://mousebrainatlas-data/CSHL_cells_v2/detected_cells/MD585/MD585-IHC31-2015.08.19-13.48.12_MD585_3_0093/MD585-IHC31-2015.08.19-13.48.12_MD585_3_0093_cells_aligned_mirrored_padded.bp\n",
      "aws s3 cp /shared/CSHL_cells_v2/detected_cells/MD585/MD585-IHC30-2015.08.19-13.43.06_MD585_3_0090/MD585-IHC30-2015.08.19-13.43.06_MD585_3_0090_cells_aligned_mirrored_padded.bp s3://mousebrainatlas-data/CSHL_cells_v2/detected_cells/MD585/MD585-IHC30-2015.08.19-13.43.06_MD585_3_0090/MD585-IHC30-2015.08.19-13.43.06_MD585_3_0090_cells_aligned_mirrored_padded.bp\n"
     ]
    },
    {
     "name": "stderr",
     "output_type": "stream",
     "text": [
      "Child returned 0\n",
      "0.71 seconds.\n",
      "Child returned 0\n",
      "0.75 seconds.\n",
      "Processing section: 181\n",
      "Processing section: 222\n"
     ]
    },
    {
     "name": "stdout",
     "output_type": "stream",
     "text": [
      "rm -rf /shared/CSHL_cells_v2/detected_cells/MD585/MD585-IHC39-2015.08.19-14.10.09_MD585_3_0117/MD585-IHC39-2015.08.19-14.10.09_MD585_3_0117_blobMaskCenters.bp && mkdir -p /shared/CSHL_cells_v2/detected_cells/MD585/MD585-IHC39-2015.08.19-14.10.09_MD585_3_0117\n",
      "rm -rf /shared/CSHL_cells_v2/detected_cells/MD585/MD585-N33-2015.07.16-21.37.52_MD585_1_0097/MD585-N33-2015.07.16-21.37.52_MD585_1_0097_blobMaskCenters.bp && mkdir -p /shared/CSHL_cells_v2/detected_cells/MD585/MD585-N33-2015.07.16-21.37.52_MD585_1_0097\n"
     ]
    },
    {
     "name": "stderr",
     "output_type": "stream",
     "text": [
      "Child returned 0\n"
     ]
    },
    {
     "name": "stdout",
     "output_type": "stream",
     "text": [
      "aws s3 cp s3://mousebrainatlas-data/CSHL_cells_v2/detected_cells/MD585/MD585-IHC39-2015.08.19-14.10.09_MD585_3_0117/MD585-IHC39-2015.08.19-14.10.09_MD585_3_0117_blobMaskCenters.bp /shared/CSHL_cells_v2/detected_cells/MD585/MD585-IHC39-2015.08.19-14.10.09_MD585_3_0117/MD585-IHC39-2015.08.19-14.10.09_MD585_3_0117_blobMaskCenters.bp\n"
     ]
    },
    {
     "name": "stderr",
     "output_type": "stream",
     "text": [
      "Child returned 0\n"
     ]
    },
    {
     "name": "stdout",
     "output_type": "stream",
     "text": [
      "aws s3 cp s3://mousebrainatlas-data/CSHL_cells_v2/detected_cells/MD585/MD585-N33-2015.07.16-21.37.52_MD585_1_0097/MD585-N33-2015.07.16-21.37.52_MD585_1_0097_blobMaskCenters.bp /shared/CSHL_cells_v2/detected_cells/MD585/MD585-N33-2015.07.16-21.37.52_MD585_1_0097/MD585-N33-2015.07.16-21.37.52_MD585_1_0097_blobMaskCenters.bp\n"
     ]
    },
    {
     "name": "stderr",
     "output_type": "stream",
     "text": [
      "Child returned 0\n",
      "0.90 seconds.\n"
     ]
    },
    {
     "name": "stdout",
     "output_type": "stream",
     "text": [
      "aws s3 cp /shared/CSHL_cells_v2/detected_cells/MD585/MD585-IHC31-2015.08.19-13.48.12_MD585_3_0093/MD585-IHC31-2015.08.19-13.48.12_MD585_3_0093_cells_aligned_mirrorDirections.bp s3://mousebrainatlas-data/CSHL_cells_v2/detected_cells/MD585/MD585-IHC31-2015.08.19-13.48.12_MD585_3_0093/MD585-IHC31-2015.08.19-13.48.12_MD585_3_0093_cells_aligned_mirrorDirections.bp\n"
     ]
    },
    {
     "name": "stderr",
     "output_type": "stream",
     "text": [
      "Child returned 0\n",
      "0.90 seconds.\n"
     ]
    },
    {
     "name": "stdout",
     "output_type": "stream",
     "text": [
      "aws s3 cp /shared/CSHL_cells_v2/detected_cells/MD585/MD585-IHC30-2015.08.19-13.43.06_MD585_3_0090/MD585-IHC30-2015.08.19-13.43.06_MD585_3_0090_cells_aligned_mirrorDirections.bp s3://mousebrainatlas-data/CSHL_cells_v2/detected_cells/MD585/MD585-IHC30-2015.08.19-13.43.06_MD585_3_0090/MD585-IHC30-2015.08.19-13.43.06_MD585_3_0090_cells_aligned_mirrorDirections.bp\n"
     ]
    },
    {
     "name": "stderr",
     "output_type": "stream",
     "text": [
      "Child returned 0\n",
      "0.57 seconds.\n",
      "Child returned 0\n",
      "Child returned 0\n",
      "0.78 seconds.\n",
      "0.69 seconds.\n",
      "Processing section: 175\n",
      "Child returned 0\n",
      "0.69 seconds.\n"
     ]
    },
    {
     "name": "stdout",
     "output_type": "stream",
     "text": [
      "rm -rf /shared/CSHL_cells_v2/detected_cells/MD585/MD585-N32-2015.08.19-16.07.10_MD585_1_0094/MD585-N32-2015.08.19-16.07.10_MD585_1_0094_blobMaskCenters.bp && mkdir -p /shared/CSHL_cells_v2/detected_cells/MD585/MD585-N32-2015.08.19-16.07.10_MD585_1_0094\n"
     ]
    },
    {
     "name": "stderr",
     "output_type": "stream",
     "text": [
      "Child returned 0\n"
     ]
    },
    {
     "name": "stdout",
     "output_type": "stream",
     "text": [
      "aws s3 cp s3://mousebrainatlas-data/CSHL_cells_v2/detected_cells/MD585/MD585-N32-2015.08.19-16.07.10_MD585_1_0094/MD585-N32-2015.08.19-16.07.10_MD585_1_0094_blobMaskCenters.bp /shared/CSHL_cells_v2/detected_cells/MD585/MD585-N32-2015.08.19-16.07.10_MD585_1_0094/MD585-N32-2015.08.19-16.07.10_MD585_1_0094_blobMaskCenters.bp\n"
     ]
    },
    {
     "name": "stderr",
     "output_type": "stream",
     "text": [
      "Processing section: 169\n"
     ]
    }
   ],
   "source": [
    "# for stack in all_nissl_stacks:\n",
    "for stack in ['MD585']:\n",
    "# for stack in ['MD595',\n",
    "#  'MD598',\n",
    "#  'MD599',\n",
    "#  'MD602',\n",
    "#  'MD603']:\n",
    "    \n",
    "    sys.stderr.write('\\nStack %s\\n' % stack)\n",
    "    \n",
    "    first_bs_section, last_bs_section = metadata_cache['section_limits'][stack]\n",
    "    \n",
    "    t = time.time()\n",
    "\n",
    "    pool = Pool(12)\n",
    "    pool.map(lambda sec: align_pad_cells(stack, sec, common_shape=common_shape), \n",
    "             range(first_bs_section, last_bs_section+1))\n",
    "    pool.close()\n",
    "    pool.join()\n",
    "\n",
    "    sys.stderr.write('Align cells overall: %.2f\\n' % (time.time() - t)) # 330 seconds / stack"
   ]
  },
  {
   "cell_type": "markdown",
   "metadata": {
    "collapsed": true
   },
   "source": [
    "# Load, visualize"
   ]
  },
  {
   "cell_type": "code",
   "execution_count": null,
   "metadata": {},
   "outputs": [],
   "source": [
    "cells_aligned_mirrored_padded = load_cell_data('cells_aligned_mirrored_padded', 'MD603', sec=91, ext='bp')"
   ]
  },
  {
   "cell_type": "code",
   "execution_count": 4,
   "metadata": {
    "scrolled": true
   },
   "outputs": [
    {
     "data": {
      "image/png": "[encoded data removed]",
      "text/plain": [
       "<matplotlib.figure.Figure at 0x36fb750>"
      ]
     },
     "metadata": {},
     "output_type": "display_data"
    }
   ],
   "source": [
    "display_images_in_grids(cells_aligned_mirrored_padded[:100], nc=10)"
   ]
  }
 ],
 "metadata": {
  "kernelspec": {
   "display_name": "Python 2",
   "language": "python",
   "name": "python2"
  },
  "language_info": {
   "codemirror_mode": {
    "name": "ipython",
    "version": 2
   },
   "file_extension": ".py",
   "mimetype": "text/x-python",
   "name": "python",
   "nbconvert_exporter": "python",
   "pygments_lexer": "ipython2",
   "version": "2.7.12"
  }
 },
 "nbformat": 4,
 "nbformat_minor": 1
}
