{
 "cells": [
  {
   "cell_type": "code",
   "execution_count": 1,
   "metadata": {
    "scrolled": true
   },
   "outputs": [
    {
     "name": "stderr",
     "output_type": "stream",
     "text": [
      "/usr/local/lib/python2.7/dist-packages/matplotlib/__init__.py:1401: UserWarning:  This call to matplotlib.use() has no effect\n",
      "because the backend has already been chosen;\n",
      "matplotlib.use() must be called *before* pylab, matplotlib.pyplot,\n",
      "or matplotlib.backends is imported for the first time.\n",
      "\n",
      "  warnings.warn(_use_error_msg)\n"
     ]
    },
    {
     "name": "stdout",
     "output_type": "stream",
     "text": [
      "Setting environment for AWS compute node\n"
     ]
    },
    {
     "name": "stderr",
     "output_type": "stream",
     "text": [
      "No vtk\n",
      "File does not exist: /shared/CSHL_data_processed/MD590/MD590_alignedTo_MD590-N47-2015.09.12-05.32.06_MD590_2_0140_cropbox.txt\n",
      "File does not exist: /shared/CSHL_data_processed/MD590/MD590_alignedTo_MD590-N47-2015.09.12-05.32.06_MD590_2_0140_cropbox.txt\n",
      "File does not exist: /shared/CSHL_data_processed/MD591/MD591_alignedTo_MD591-N57-2015.09.21-17.13.29_MD591_1_0169_cropbox.txt\n",
      "File does not exist: /shared/CSHL_data_processed/MD591/MD591_alignedTo_MD591-N57-2015.09.21-17.13.29_MD591_1_0169_cropbox.txt\n",
      "File does not exist: /shared/CSHL_data_processed/MD592/MD592_alignedTo_MD592-IHC59-2015.08.26-00.06.25_MD592_2_0176_cropbox.txt\n",
      "File does not exist: /shared/CSHL_data_processed/MD592/MD592_alignedTo_MD592-IHC59-2015.08.26-00.06.25_MD592_2_0176_cropbox.txt\n",
      "File does not exist: /shared/CSHL_data_processed/MD593/MD593_alignedTo_MD593-IHC54-2015.08.25-17.40.32_MD593_2_0161_cropbox.txt\n",
      "File does not exist: /shared/CSHL_data_processed/MD593/MD593_alignedTo_MD593-IHC54-2015.08.25-17.40.32_MD593_2_0161_cropbox.txt\n",
      "File does not exist: /shared/CSHL_data_processed/MD595/MD595_alignedTo_MD595-IHC48-2015.09.15-18.38.44_MD595_1_0142_cropbox.txt\n",
      "File does not exist: /shared/CSHL_data_processed/MD595/MD595_alignedTo_MD595-IHC48-2015.09.15-18.38.44_MD595_1_0142_cropbox.txt\n",
      "File does not exist: /shared/CSHL_data_processed/MD598/MD598_alignedTo_MD598-N42-2015.09.29-19.26.12_MD598_2_0125_cropbox.txt\n",
      "File does not exist: /shared/CSHL_data_processed/MD598/MD598_alignedTo_MD598-N42-2015.09.29-19.26.12_MD598_2_0125_cropbox.txt\n",
      "File does not exist: /shared/CSHL_data_processed/MD599/MD599_alignedTo_MD599-IHC40-2015.10.03-06.04.31_MD599_2_0119_cropbox.txt\n",
      "File does not exist: /shared/CSHL_data_processed/MD599/MD599_alignedTo_MD599-IHC40-2015.10.03-06.04.31_MD599_2_0119_cropbox.txt\n",
      "File does not exist: /shared/CSHL_data_processed/MD602/MD602_alignedTo_MD602-N49-2015.12.01-18.41.46_MD602_2_0146_cropbox.txt\n",
      "File does not exist: /shared/CSHL_data_processed/MD602/MD602_alignedTo_MD602-N49-2015.12.01-18.41.46_MD602_2_0146_cropbox.txt\n",
      "File does not exist: /shared/CSHL_data_processed/MD603/MD603_alignedTo_MD603-N60-2015.12.03-23.57.05_MD603_2_0179_cropbox.txt\n",
      "File does not exist: /shared/CSHL_data_processed/MD603/MD603_alignedTo_MD603-N60-2015.12.03-23.57.05_MD603_2_0179_cropbox.txt\n",
      "File does not exist: /shared/CSHL_data_processed/MD635/MD635_anchor.txt\n",
      "File does not exist: /shared/CSHL_data_processed/MD635/MD635_sorted_filenames.txt\n",
      "File does not exist: /shared/CSHL_data_processed/MD635/MD635_anchor.txt\n",
      "File does not exist: /shared/CSHL_data_processed/MD635/MD635_anchor.txt\n"
     ]
    }
   ],
   "source": [
    "%reload_ext autoreload\n",
    "%autoreload 2\n",
    "\n",
    "import os\n",
    "import sys\n",
    "import time\n",
    "\n",
    "from multiprocess import Pool\n",
    "import cv2\n",
    "import matplotlib.pyplot as plt\n",
    "%matplotlib inline\n",
    "\n",
    "sys.path.append(os.path.join(os.environ['REPO_DIR'], 'utilities'))\n",
    "from utilities2015 import *\n",
    "from data_manager import *\n",
    "from metadata import *\n",
    "from cell_utilities import *"
   ]
  },
  {
   "cell_type": "code",
   "execution_count": 2,
   "metadata": {
    "collapsed": true
   },
   "outputs": [],
   "source": [
    "# DETECTED_CELLS_DIR = '/home/yuncong/csd395/CSHL_cells_v2/detected_cells'\n",
    "\n",
    "stack = 'MD589'\n",
    "img_w, img_h = metadata_cache['image_shape'][stack]\n",
    "first_sec, last_sec = metadata_cache['section_limits'][stack]\n",
    "s2f = metadata_cache['sections_to_filenames'][stack]"
   ]
  },
  {
   "cell_type": "code",
   "execution_count": 3,
   "metadata": {
    "collapsed": true
   },
   "outputs": [],
   "source": [
    "sec = 98"
   ]
  },
  {
   "cell_type": "code",
   "execution_count": 6,
   "metadata": {
    "scrolled": true
   },
   "outputs": [
    {
     "name": "stdout",
     "output_type": "stream",
     "text": [
      "cp /shared/CSHL_data_processed/MD589/MD589_lossless_alignedTo_MD589-IHC31-2015.07.30-23.26.22_MD589_1_0091_cropped_gray/MD589-N17-2015.07.30-17.07.32_MD589_3_0051_lossless_alignedTo_MD589-IHC31-2015.07.30-23.26.22_MD589_1_0091_cropped_gray.tif /shared/CSHL_cells_v2/detected_cells/MD589/MD589-N17-2015.07.30-17.07.32_MD589_3_0051/MD589-N17-2015.07.30-17.07.32_MD589_3_0051_image_gray.tif\n"
     ]
    },
    {
     "name": "stderr",
     "output_type": "stream",
     "text": [
      "Child returned 0\n"
     ]
    },
    {
     "name": "stdout",
     "output_type": "stream",
     "text": [
      "convert /shared/CSHL_cells_v2/detected_cells/MD589/MD589-N17-2015.07.30-17.07.32_MD589_3_0051/MD589-N17-2015.07.30-17.07.32_MD589_3_0051_image_gray.tif -negate -auto-level /shared/CSHL_cells_v2/detected_cells/MD589/MD589-N17-2015.07.30-17.07.32_MD589_3_0051/MD589-N17-2015.07.30-17.07.32_MD589_3_0051_image_inverted.tif\n"
     ]
    },
    {
     "name": "stderr",
     "output_type": "stream",
     "text": [
      "Child returned 0\n"
     ]
    },
    {
     "name": "stdout",
     "output_type": "stream",
     "text": [
      "convert /shared/CSHL_cells_v2/detected_cells/MD589/MD589-N17-2015.07.30-17.07.32_MD589_3_0051/MD589-N17-2015.07.30-17.07.32_MD589_3_0051_image_inverted.tif -crop 5000x5000+0+0 /shared/CSHL_cells_v2/detected_cells/MD589/MD589-N17-2015.07.30-17.07.32_MD589_3_0051/MD589-N17-2015.07.30-17.07.32_MD589_3_0051_image_inverted_00.tif\n"
     ]
    },
    {
     "name": "stderr",
     "output_type": "stream",
     "text": [
      "Child returned 0\n"
     ]
    },
    {
     "name": "stdout",
     "output_type": "stream",
     "text": [
      "convert /shared/CSHL_cells_v2/detected_cells/MD589/MD589-N17-2015.07.30-17.07.32_MD589_3_0051/MD589-N17-2015.07.30-17.07.32_MD589_3_0051_image_inverted.tif -crop 5000x5000+5000+0 /shared/CSHL_cells_v2/detected_cells/MD589/MD589-N17-2015.07.30-17.07.32_MD589_3_0051/MD589-N17-2015.07.30-17.07.32_MD589_3_0051_image_inverted_01.tif\n"
     ]
    },
    {
     "name": "stderr",
     "output_type": "stream",
     "text": [
      "Child returned 0\n"
     ]
    },
    {
     "name": "stdout",
     "output_type": "stream",
     "text": [
      "convert /shared/CSHL_cells_v2/detected_cells/MD589/MD589-N17-2015.07.30-17.07.32_MD589_3_0051/MD589-N17-2015.07.30-17.07.32_MD589_3_0051_image_inverted.tif -crop 5000x5000+10000+0 /shared/CSHL_cells_v2/detected_cells/MD589/MD589-N17-2015.07.30-17.07.32_MD589_3_0051/MD589-N17-2015.07.30-17.07.32_MD589_3_0051_image_inverted_02.tif\n"
     ]
    },
    {
     "name": "stderr",
     "output_type": "stream",
     "text": [
      "Child returned 0\n"
     ]
    },
    {
     "name": "stdout",
     "output_type": "stream",
     "text": [
      "convert /shared/CSHL_cells_v2/detected_cells/MD589/MD589-N17-2015.07.30-17.07.32_MD589_3_0051/MD589-N17-2015.07.30-17.07.32_MD589_3_0051_image_inverted.tif -crop 5000x5000+15000+0 /shared/CSHL_cells_v2/detected_cells/MD589/MD589-N17-2015.07.30-17.07.32_MD589_3_0051/MD589-N17-2015.07.30-17.07.32_MD589_3_0051_image_inverted_03.tif\n"
     ]
    },
    {
     "name": "stderr",
     "output_type": "stream",
     "text": [
      "Child returned 0\n"
     ]
    },
    {
     "name": "stdout",
     "output_type": "stream",
     "text": [
      "convert /shared/CSHL_cells_v2/detected_cells/MD589/MD589-N17-2015.07.30-17.07.32_MD589_3_0051/MD589-N17-2015.07.30-17.07.32_MD589_3_0051_image_inverted.tif -crop 5000x5000+0+5000 /shared/CSHL_cells_v2/detected_cells/MD589/MD589-N17-2015.07.30-17.07.32_MD589_3_0051/MD589-N17-2015.07.30-17.07.32_MD589_3_0051_image_inverted_04.tif\n"
     ]
    },
    {
     "name": "stderr",
     "output_type": "stream",
     "text": [
      "Child returned 0\n"
     ]
    },
    {
     "name": "stdout",
     "output_type": "stream",
     "text": [
      "convert /shared/CSHL_cells_v2/detected_cells/MD589/MD589-N17-2015.07.30-17.07.32_MD589_3_0051/MD589-N17-2015.07.30-17.07.32_MD589_3_0051_image_inverted.tif -crop 5000x5000+5000+5000 /shared/CSHL_cells_v2/detected_cells/MD589/MD589-N17-2015.07.30-17.07.32_MD589_3_0051/MD589-N17-2015.07.30-17.07.32_MD589_3_0051_image_inverted_05.tif\n"
     ]
    },
    {
     "name": "stderr",
     "output_type": "stream",
     "text": [
      "Child returned 0\n"
     ]
    },
    {
     "name": "stdout",
     "output_type": "stream",
     "text": [
      "convert /shared/CSHL_cells_v2/detected_cells/MD589/MD589-N17-2015.07.30-17.07.32_MD589_3_0051/MD589-N17-2015.07.30-17.07.32_MD589_3_0051_image_inverted.tif -crop 5000x5000+10000+5000 /shared/CSHL_cells_v2/detected_cells/MD589/MD589-N17-2015.07.30-17.07.32_MD589_3_0051/MD589-N17-2015.07.30-17.07.32_MD589_3_0051_image_inverted_06.tif\n"
     ]
    },
    {
     "name": "stderr",
     "output_type": "stream",
     "text": [
      "Child returned 0\n"
     ]
    },
    {
     "name": "stdout",
     "output_type": "stream",
     "text": [
      "convert /shared/CSHL_cells_v2/detected_cells/MD589/MD589-N17-2015.07.30-17.07.32_MD589_3_0051/MD589-N17-2015.07.30-17.07.32_MD589_3_0051_image_inverted.tif -crop 5000x5000+15000+5000 /shared/CSHL_cells_v2/detected_cells/MD589/MD589-N17-2015.07.30-17.07.32_MD589_3_0051/MD589-N17-2015.07.30-17.07.32_MD589_3_0051_image_inverted_07.tif\n"
     ]
    },
    {
     "name": "stderr",
     "output_type": "stream",
     "text": [
      "Child returned 0\n"
     ]
    },
    {
     "name": "stdout",
     "output_type": "stream",
     "text": [
      "convert /shared/CSHL_cells_v2/detected_cells/MD589/MD589-N17-2015.07.30-17.07.32_MD589_3_0051/MD589-N17-2015.07.30-17.07.32_MD589_3_0051_image_inverted.tif -crop 5000x5000+0+10000 /shared/CSHL_cells_v2/detected_cells/MD589/MD589-N17-2015.07.30-17.07.32_MD589_3_0051/MD589-N17-2015.07.30-17.07.32_MD589_3_0051_image_inverted_08.tif\n"
     ]
    },
    {
     "name": "stderr",
     "output_type": "stream",
     "text": [
      "Child returned 0\n"
     ]
    },
    {
     "name": "stdout",
     "output_type": "stream",
     "text": [
      "convert /shared/CSHL_cells_v2/detected_cells/MD589/MD589-N17-2015.07.30-17.07.32_MD589_3_0051/MD589-N17-2015.07.30-17.07.32_MD589_3_0051_image_inverted.tif -crop 5000x5000+5000+10000 /shared/CSHL_cells_v2/detected_cells/MD589/MD589-N17-2015.07.30-17.07.32_MD589_3_0051/MD589-N17-2015.07.30-17.07.32_MD589_3_0051_image_inverted_09.tif\n"
     ]
    },
    {
     "name": "stderr",
     "output_type": "stream",
     "text": [
      "Child returned 0\n"
     ]
    },
    {
     "name": "stdout",
     "output_type": "stream",
     "text": [
      "convert /shared/CSHL_cells_v2/detected_cells/MD589/MD589-N17-2015.07.30-17.07.32_MD589_3_0051/MD589-N17-2015.07.30-17.07.32_MD589_3_0051_image_inverted.tif -crop 5000x5000+10000+10000 /shared/CSHL_cells_v2/detected_cells/MD589/MD589-N17-2015.07.30-17.07.32_MD589_3_0051/MD589-N17-2015.07.30-17.07.32_MD589_3_0051_image_inverted_10.tif\n"
     ]
    },
    {
     "name": "stderr",
     "output_type": "stream",
     "text": [
      "Child returned 0\n"
     ]
    },
    {
     "name": "stdout",
     "output_type": "stream",
     "text": [
      "convert /shared/CSHL_cells_v2/detected_cells/MD589/MD589-N17-2015.07.30-17.07.32_MD589_3_0051/MD589-N17-2015.07.30-17.07.32_MD589_3_0051_image_inverted.tif -crop 5000x5000+15000+10000 /shared/CSHL_cells_v2/detected_cells/MD589/MD589-N17-2015.07.30-17.07.32_MD589_3_0051/MD589-N17-2015.07.30-17.07.32_MD589_3_0051_image_inverted_11.tif\n"
     ]
    },
    {
     "name": "stderr",
     "output_type": "stream",
     "text": [
      "Child returned 0\n"
     ]
    },
    {
     "name": "stdout",
     "output_type": "stream",
     "text": [
      "cellprofiler -c --file-list=/tmp/cellprofiler_filelist_0098.txt -p /shared/CSHL_cells_v2/SegmentCells.cppipe\n"
     ]
    },
    {
     "name": "stderr",
     "output_type": "stream",
     "text": [
      "Child returned 0\n",
      "Cell profiler: 254.45 seconds.\n"
     ]
    }
   ],
   "source": [
    "def detect_cells(sec):\n",
    "\n",
    "    img_fn = s2f[sec]\n",
    "\n",
    "    if is_invalid(img_fn):\n",
    "        return\n",
    "\n",
    "    input_img_fp = get_cell_data_filepath(stack=stack, sec=sec, what='image_inverted', ext='tif')\n",
    "\n",
    "    ##########################\n",
    "    # Split image into tiles #\n",
    "    ##########################\n",
    "\n",
    "    sat_filename = DataManager.get_image_filepath(stack=stack, section=sec, resol='lossless', version='cropped_gray')\n",
    "    download_from_s3(sat_filename)\n",
    "    copyto_sat_filename = get_cell_data_filepath(stack=stack, sec=sec, what='image_gray', ext='tif')\n",
    "    create_parent_dir_if_not_exists(copyto_sat_filename)\n",
    "    execute_command(\"cp %s %s\" % (sat_filename, copyto_sat_filename))\n",
    "    execute_command('convert %(img_orig_fp)s -negate -auto-level %(img_fp)s' % dict(img_orig_fp=copyto_sat_filename,\n",
    "                                                                   img_fp=input_img_fp))\n",
    "\n",
    "    tile_h, tile_w = (5000, 5000)\n",
    "    i = 0\n",
    "    for iy, y0 in enumerate(np.arange(0, img_h, 5000)):\n",
    "        for ix, x0 in enumerate(np.arange(0, img_w, 5000)):\n",
    "    #         tile_fp = os.path.join(DETECTED_CELLS_ROOTDIR, stack, img_fn, img_fn + '_image_inverted_%02d.tif') % i\n",
    "            tile_fp = get_cell_data_filepath(stack=stack, sec=sec, what='image_inverted_%02d'%i, ext='tif')\n",
    "            execute_command(\"convert %(img_fp)s -crop %(tile_w)dx%(tile_h)d+%(x0)d+%(y0)d %(tile_fp)s\" % \\\n",
    "                            dict(img_fp=input_img_fp, x0=x0, y0=y0, tile_w=tile_w, tile_h=tile_h, tile_fp=tile_fp))\n",
    "            i += 1\n",
    "\n",
    "    ##################################\n",
    "\n",
    "    input_fps = [os.path.splitext(input_img_fp)[0] + '_%02d.tif' % tile_idx for tile_idx in range(12)]\n",
    "\n",
    "    #############\n",
    "    # Farsight\n",
    "    #############\n",
    "\n",
    "    #     output_fps = [os.path.splitext(input_fp)[0] + '_labeled_farsight.tif' for input_fp in input_fps]\n",
    "\n",
    "    #     FARSIGHT_EXEC = '/home/yuncong/csd395/Farsight-0.4.4-Linux/bin/segment_nuclei'\n",
    "\n",
    "    #     # # Use without parameters\n",
    "\n",
    "    #     # for input_fp, output_fp in zip(input_fps, output_fps):\n",
    "    #     #     execute_command(FARSIGHT_EXEC + ' %(input_fp)s %(output_fp)s' % \\\n",
    "    #     #                    dict(input_fp=input_fp,\n",
    "    #     #                         output_fp=output_fp))\n",
    "\n",
    "    #     # Use with parameters\n",
    "\n",
    "    #     FARSIGHT_PARAMS_FP = '/home/yuncong/csd395/CSHL_cells_v2/farsight_parameters.txt'\n",
    "\n",
    "    #     with open(FARSIGHT_PARAMS_FP, 'w') as f:\n",
    "    #         f.write('! Segmentation parameters File\\n! All parameters are case sensitive\\n')\n",
    "    #         f.write('min_object_size 100\\n')\n",
    "\n",
    "    #     for input_fp, output_fp in zip(input_fps, output_fps):\n",
    "\n",
    "    #         execute_command(FARSIGHT_EXEC + ' %(input_fp)s %(output_fp)s %(params)s' % \\\n",
    "    #                    dict(input_fp=input_fp,\n",
    "    #                         output_fp=output_fp,\n",
    "    #                         params=FARSIGHT_PARAMS_FP))\n",
    "\n",
    "    #     labelmap_alltiles = []\n",
    "    #     for input_fp in input_fps:\n",
    "    #         prefix = os.path.splitext(input_fp)[0]\n",
    "    #         labelmap = imread(prefix + '_labeled_farsight.tif')\n",
    "    #         labelmap_alltiles.append(labelmap)\n",
    "    # #         bp.pack_ndarray_file(labelmap, prefix + '_labelmap_farsight.bp')\n",
    "    #         execute_command('rm ' + prefix + '_seg_final.dat')\n",
    "    #         execute_command('rm ' + prefix + '_seedPoints.txt')\n",
    "    #         execute_command('rm ' + prefix + '_labeled_farsight.tif')\n",
    "\n",
    "    #     ######################\n",
    "    #     # Mosaic for farsight\n",
    "    #     ######################\n",
    "\n",
    "    #     origins = []\n",
    "    #     for iy, y0 in enumerate(np.arange(0, img_h, 5000)):\n",
    "    #         for ix, x0 in enumerate(np.arange(0, img_w, 5000)):\n",
    "    #             origins.append((x0, y0))\n",
    "\n",
    "    #     alg = 'farsight'\n",
    "\n",
    "    #     big_labelmap = np.zeros((img_h, img_w), dtype=np.int64)\n",
    "\n",
    "    #     n = 0\n",
    "\n",
    "    #     for i, input_fp in enumerate(input_fps):\n",
    "    #         prefix = os.path.splitext(input_fp)[0]\n",
    "    # #         labelmap = bp.unpack_ndarray_file(prefix + '_labelmap_%(alg)s.bp' % dict(alg=alg)).astype(np.int64)\n",
    "    #         labelmap = labelmap_alltiles[i]\n",
    "\n",
    "    #         x0, y0 = origins[i]\n",
    "    #         big_labelmap[y0:y0+5000, x0:x0+5000][labelmap != 0] = labelmap[labelmap != 0] + n\n",
    "    #         n += labelmap.max()\n",
    "\n",
    "    #     labelmap_fp = os.path.splitext(input_img_fp)[0] + '_labelmap_%(alg)s.bp' % dict(alg=alg)\n",
    "\n",
    "    #     bp.pack_ndarray_file(big_labelmap, labelmap_fp)\n",
    "\n",
    "    # #     for tile_i in range(12):\n",
    "    # #         execute_command('rm %(DETECTED_CELLS_DIR)s/%(stack)s/%(img_fn)s/%(img_fn)s_image_inverted_%(tile_i)02d.tif' % \\\n",
    "    # #                         dict(DETECTED_CELLS_DIR=DETECTED_CELLS_DIR, stack=stack, img_fn=img_fn, tile_i=tile_i))\n",
    "    # #         execute_command('rm %(DETECTED_CELLS_DIR)s/%(stack)s/%(img_fn)s/%(img_fn)s_image_inverted_%(tile_i)02d_labelmap_cellprofiler.bp' % \\\n",
    "    # #                         dict(DETECTED_CELLS_DIR=DETECTED_CELLS_DIR, stack=stack, img_fn=img_fn, tile_i=tile_i))\n",
    "\n",
    "    #     # Generate labelmap viz\n",
    "    #     t = time.time()\n",
    "\n",
    "    #     viz = img_as_ubyte(label2rgb(big_labelmap, bg_label=0, bg_color=(0, 0, 0)))\n",
    "    #     cv2.imwrite(os.path.splitext(input_img_fp)[0] + '_labelmap_%(alg)s.png' % dict(alg=alg), viz);\n",
    "\n",
    "    #     sys.stderr.write('Generate labelmap viz: %.2f seconds.\\n' % (time.time()-t)) # 60s\n",
    "\n",
    "    ###############\n",
    "    # CellProfiler\n",
    "    ###############\n",
    "\n",
    "    # CELLPROFILER_EXEC = 'cellprofiler' # /usr/local/bin/cellprofiler\n",
    "    # CELLPROFILER_PIPELINE_FP = '/shared/CSHL_cells_v2/SegmentCells.cppipe'\n",
    "\n",
    "    download_from_s3(CELLPROFILER_PIPELINE_FP)\n",
    "\n",
    "    with open('/tmp/cellprofiler_filelist_%04d.txt' % sec, 'w') as f:\n",
    "        for input_fp in input_fps:\n",
    "            f.write(input_fp + '\\n')\n",
    "\n",
    "    t = time.time()\n",
    "\n",
    "    execute_command(CELLPROFILER_EXEC + ' -c --file-list=/tmp/cellprofiler_filelist_%(sec)04d.txt -p %(pipeline_fp)s' % \\\n",
    "                    dict(pipeline_fp=CELLPROFILER_PIPELINE_FP, sec=sec))\n",
    "\n",
    "    sys.stderr.write('Cell profiler: %.2f seconds.\\n' % (time.time()-t)) # 300s\n",
    "\n",
    "    from scipy.io import loadmat\n",
    "\n",
    "    labelmap_alltiles = []\n",
    "    for input_fp in input_fps:\n",
    "        prefix = os.path.splitext(input_fp)[0]\n",
    "        labelmap = loadmat(prefix + '_labeled.mat')['Image']\n",
    "    #         bp.pack_ndarray_file(labelmap, prefix + '_labelmap_cellprofiler.bp')\n",
    "        execute_command('rm ' + prefix + '_labeled.mat')\n",
    "        labelmap_alltiles.append(labelmap)\n",
    "\n",
    "    ###########################\n",
    "    # Mosaic for cell profiler\n",
    "    ###########################\n",
    "\n",
    "    origins = []\n",
    "    for iy, y0 in enumerate(np.arange(0, img_h, 5000)):\n",
    "        for ix, x0 in enumerate(np.arange(0, img_w, 5000)):\n",
    "            origins.append((x0, y0))\n",
    "\n",
    "    alg = 'cellprofiler'\n",
    "\n",
    "    big_labelmap = np.zeros((img_h, img_w), dtype=np.int64)\n",
    "    n = 0\n",
    "    for i, input_fp in enumerate(input_fps):\n",
    "        prefix = os.path.splitext(input_fp)[0]\n",
    "    #         labelmap = bp.unpack_ndarray_file(prefix + '_labelmap_%(alg)s.bp' % dict(alg=alg)).astype(np.int64)\n",
    "        labelmap = labelmap_alltiles[i].astype(np.int64) # astype(np.int64) is important, otherwise results in negative label values.\n",
    "        x0, y0 = origins[i]\n",
    "        big_labelmap[y0:y0+5000, x0:x0+5000][labelmap != 0] = labelmap[labelmap != 0] + n\n",
    "        n += labelmap.max()\n",
    "\n",
    "    labelmap_fp = os.path.splitext(input_img_fp)[0] + '_labelmap_%(alg)s.bp' % dict(alg=alg)\n",
    "    bp.pack_ndarray_file(big_labelmap, labelmap_fp)\n",
    "    \n",
    "    for fp in input_fps:\n",
    "        os.remove(fp)\n",
    "\n",
    "#         for tile_i in range(12):\n",
    "#             execute_command('rm %(DETECTED_CELLS_DIR)s/%(stack)s/%(img_fn)s/%(img_fn)s_image_inverted_%(tile_i)02d.tif' % \\\n",
    "#                             dict(DETECTED_CELLS_DIR=DETECTED_CELLS_DIR, stack=stack, img_fn=img_fn, tile_i=tile_i))\n",
    "#             execute_command('rm %(DETECTED_CELLS_DIR)s/%(stack)s/%(img_fn)s/%(img_fn)s_image_inverted_%(tile_i)02d_labelmap_cellprofiler.bp' % \\\n",
    "#                             dict(DETECTED_CELLS_DIR=DETECTED_CELLS_DIR, stack=stack, img_fn=img_fn, tile_i=tile_i))\n",
    "\n",
    "    #     # Generate labelmap viz\n",
    "    #     t = time.time()\n",
    "\n",
    "    #     viz = img_as_ubyte(label2rgb(big_labelmap, bg_label=0, bg_color=(0, 0, 0)))\n",
    "    #     cv2.imwrite(os.path.splitext(input_img_fp)[0] + '_labelmap_%(alg)s.png' % dict(alg=alg), viz);\n",
    "\n",
    "    #     sys.stderr.write('Generate labelmap viz: %.2f seconds.\\n' % (time.time()-t)) # 60s"
   ]
  },
  {
   "cell_type": "markdown",
   "metadata": {},
   "source": [
    "# Parallel"
   ]
  },
  {
   "cell_type": "code",
   "execution_count": null,
   "metadata": {},
   "outputs": [
    {
     "name": "stdout",
     "output_type": "stream",
     "text": [
      "cp /oasis/projects/nsf/csd395/yuncong/CSHL_data_processed/MD589/MD589_lossless_unsorted_alignedTo_MD589-IHC31-2015.07.30-23.26.22_MD589_1_0091_cropped_saturation/MD589-N18-2015.07.30-17.11.24_MD589_3_0054_lossless_alignedTo_MD589-IHC31-2015.07.30-23.26.22_MD589_1_0091_cropped_saturation.jpg /home/yuncong/csd395/CSHL_cells_v2/detected_cells/MD589/MD589-N18-2015.07.30-17.11.24_MD589_3_0054/MD589-N18-2015.07.30-17.11.24_MD589_3_0054_image_saturation.jpg\n",
      "cp /oasis/projects/nsf/csd395/yuncong/CSHL_data_processed/MD589/MD589_lossless_unsorted_alignedTo_MD589-IHC31-2015.07.30-23.26.22_MD589_1_0091_cropped_saturation/MD589-IHC17-2015.07.30-22.23.59_MD589_2_0050_lossless_alignedTo_MD589-IHC31-2015.07.30-23.26.22_MD589_1_0091_cropped_saturation.jpg /home/yuncong/csd395/CSHL_cells_v2/detected_cells/MD589/MD589-IHC17-2015.07.30-22.23.59_MD589_2_0050/MD589-IHC17-2015.07.30-22.23.59_MD589_2_0050_image_saturation.jpg\n",
      "cp /oasis/projects/nsf/csd395/yuncong/CSHL_data_processed/MD589/MD589_lossless_unsorted_alignedTo_MD589-IHC31-2015.07.30-23.26.22_MD589_1_0091_cropped_saturation/MD589-N19-2015.07.30-17.15.15_MD589_1_0055_lossless_alignedTo_MD589-IHC31-2015.07.30-23.26.22_MD589_1_0091_cropped_saturation.jpg /home/yuncong/csd395/CSHL_cells_v2/detected_cells/MD589/MD589-N19-2015.07.30-17.15.15_MD589_1_0055/MD589-N19-2015.07.30-17.15.15_MD589_1_0055_image_saturation.jpg\n",
      "cp /oasis/projects/nsf/csd395/yuncong/CSHL_data_processed/MD589/MD589_lossless_unsorted_alignedTo_MD589-IHC31-2015.07.30-23.26.22_MD589_1_0091_cropped_saturation/MD589-N18-2015.07.30-17.11.24_MD589_1_0052_lossless_alignedTo_MD589-IHC31-2015.07.30-23.26.22_MD589_1_0091_cropped_saturation.jpg /home/yuncong/csd395/CSHL_cells_v2/detected_cells/MD589/MD589-N18-2015.07.30-17.11.24_MD589_1_0052/MD589-N18-2015.07.30-17.11.24_MD589_1_0052_image_saturation.jpg\n",
      "cp /oasis/projects/nsf/csd395/yuncong/CSHL_data_processed/MD589/MD589_lossless_unsorted_alignedTo_MD589-IHC31-2015.07.30-23.26.22_MD589_1_0091_cropped_saturation/MD589-IHC18-2015.07.30-22.27.59_MD589_1_0052_lossless_alignedTo_MD589-IHC31-2015.07.30-23.26.22_MD589_1_0091_cropped_saturation.jpg /home/yuncong/csd395/CSHL_cells_v2/detected_cells/MD589/MD589-IHC18-2015.07.30-22.27.59_MD589_1_0052/MD589-IHC18-2015.07.30-22.27.59_MD589_1_0052_image_saturation.jpg\n",
      "cp /oasis/projects/nsf/csd395/yuncong/CSHL_data_processed/MD589/MD589_lossless_unsorted_alignedTo_MD589-IHC31-2015.07.30-23.26.22_MD589_1_0091_cropped_saturation/MD589-N17-2015.07.30-17.07.32_MD589_3_0051_lossless_alignedTo_MD589-IHC31-2015.07.30-23.26.22_MD589_1_0091_cropped_saturation.jpg /home/yuncong/csd395/CSHL_cells_v2/detected_cells/MD589/MD589-N17-2015.07.30-17.07.32_MD589_3_0051/MD589-N17-2015.07.30-17.07.32_MD589_3_0051_image_saturation.jpg\n",
      "cp /oasis/projects/nsf/csd395/yuncong/CSHL_data_processed/MD589/MD589_lossless_unsorted_alignedTo_MD589-IHC31-2015.07.30-23.26.22_MD589_1_0091_cropped_saturation/MD589-IHC17-2015.07.30-22.23.59_MD589_3_0051_lossless_alignedTo_MD589-IHC31-2015.07.30-23.26.22_MD589_1_0091_cropped_saturation.jpg /home/yuncong/csd395/CSHL_cells_v2/detected_cells/MD589/MD589-IHC17-2015.07.30-22.23.59_MD589_3_0051/MD589-IHC17-2015.07.30-22.23.59_MD589_3_0051_image_saturation.jpg\n",
      "cp /oasis/projects/nsf/csd395/yuncong/CSHL_data_processed/MD589/MD589_lossless_unsorted_alignedTo_MD589-IHC31-2015.07.30-23.26.22_MD589_1_0091_cropped_saturation/MD589-IHC17-2015.07.30-22.23.59_MD589_1_0049_lossless_alignedTo_MD589-IHC31-2015.07.30-23.26.22_MD589_1_0091_cropped_saturation.jpg /home/yuncong/csd395/CSHL_cells_v2/detected_cells/MD589/MD589-IHC17-2015.07.30-22.23.59_MD589_1_0049/MD589-IHC17-2015.07.30-22.23.59_MD589_1_0049_image_saturation.jpg\n",
      "cp /oasis/projects/nsf/csd395/yuncong/CSHL_data_processed/MD589/MD589_lossless_unsorted_alignedTo_MD589-IHC31-2015.07.30-23.26.22_MD589_1_0091_cropped_saturation/MD589-IHC18-2015.07.30-22.27.59_MD589_3_0054_lossless_alignedTo_MD589-IHC31-2015.07.30-23.26.22_MD589_1_0091_cropped_saturation.jpg /home/yuncong/csd395/CSHL_cells_v2/detected_cells/MD589/MD589-IHC18-2015.07.30-22.27.59_MD589_3_0054/MD589-IHC18-2015.07.30-22.27.59_MD589_3_0054_image_saturation.jpg\n",
      "cp /oasis/projects/nsf/csd395/yuncong/CSHL_data_processed/MD589/MD589_lossless_unsorted_alignedTo_MD589-IHC31-2015.07.30-23.26.22_MD589_1_0091_cropped_saturation/MD589-N18-2015.07.30-17.11.24_MD589_2_0053_lossless_alignedTo_MD589-IHC31-2015.07.30-23.26.22_MD589_1_0091_cropped_saturation.jpg /home/yuncong/csd395/CSHL_cells_v2/detected_cells/MD589/MD589-N18-2015.07.30-17.11.24_MD589_2_0053/MD589-N18-2015.07.30-17.11.24_MD589_2_0053_image_saturation.jpg\n",
      "cp /oasis/projects/nsf/csd395/yuncong/CSHL_data_processed/MD589/MD589_lossless_unsorted_alignedTo_MD589-IHC31-2015.07.30-23.26.22_MD589_1_0091_cropped_saturation/MD589-IHC18-2015.07.30-22.27.59_MD589_2_0053_lossless_alignedTo_MD589-IHC31-2015.07.30-23.26.22_MD589_1_0091_cropped_saturation.jpg /home/yuncong/csd395/CSHL_cells_v2/detected_cells/MD589/MD589-IHC18-2015.07.30-22.27.59_MD589_2_0053/MD589-IHC18-2015.07.30-22.27.59_MD589_2_0053_image_saturation.jpg\n",
      "cp /oasis/projects/nsf/csd395/yuncong/CSHL_data_processed/MD589/MD589_lossless_unsorted_alignedTo_MD589-IHC31-2015.07.30-23.26.22_MD589_1_0091_cropped_saturation/MD589-N19-2015.07.30-17.15.15_MD589_2_0056_lossless_alignedTo_MD589-IHC31-2015.07.30-23.26.22_MD589_1_0091_cropped_saturation.jpg /home/yuncong/csd395/CSHL_cells_v2/detected_cells/MD589/MD589-N19-2015.07.30-17.15.15_MD589_2_0056/MD589-N19-2015.07.30-17.15.15_MD589_2_0056_image_saturation.jpg\n",
      "cp /oasis/projects/nsf/csd395/yuncong/CSHL_data_processed/MD589/MD589_lossless_unsorted_alignedTo_MD589-IHC31-2015.07.30-23.26.22_MD589_1_0091_cropped_saturation/MD589-IHC19-2015.07.30-22.32.05_MD589_1_0055_lossless_alignedTo_MD589-IHC31-2015.07.30-23.26.22_MD589_1_0091_cropped_saturation.jpg /home/yuncong/csd395/CSHL_cells_v2/detected_cells/MD589/MD589-IHC19-2015.07.30-22.32.05_MD589_1_0055/MD589-IHC19-2015.07.30-22.32.05_MD589_1_0055_image_saturation.jpg\n",
      "cp /oasis/projects/nsf/csd395/yuncong/CSHL_data_processed/MD589/MD589_lossless_unsorted_alignedTo_MD589-IHC31-2015.07.30-23.26.22_MD589_1_0091_cropped_saturation/MD589-N17-2015.07.30-17.07.32_MD589_2_0050_lossless_alignedTo_MD589-IHC31-2015.07.30-23.26.22_MD589_1_0091_cropped_saturation.jpg /home/yuncong/csd395/CSHL_cells_v2/detected_cells/MD589/MD589-N17-2015.07.30-17.07.32_MD589_2_0050/MD589-N17-2015.07.30-17.07.32_MD589_2_0050_image_saturation.jpg\n"
     ]
    },
    {
     "name": "stderr",
     "output_type": "stream",
     "text": [
      "Child returned 0\n"
     ]
    },
    {
     "name": "stdout",
     "output_type": "stream",
     "text": [
      "convert /home/yuncong/csd395/CSHL_cells_v2/detected_cells/MD589/MD589-N19-2015.07.30-17.15.15_MD589_1_0055/MD589-N19-2015.07.30-17.15.15_MD589_1_0055_image_saturation.jpg -negate -auto-level /home/yuncong/csd395/CSHL_cells_v2/detected_cells/MD589/MD589-N19-2015.07.30-17.15.15_MD589_1_0055/MD589-N19-2015.07.30-17.15.15_MD589_1_0055_image_inverted.jpg\n"
     ]
    },
    {
     "name": "stderr",
     "output_type": "stream",
     "text": [
      "Child returned 0\n"
     ]
    },
    {
     "name": "stdout",
     "output_type": "stream",
     "text": [
      "convert /home/yuncong/csd395/CSHL_cells_v2/detected_cells/MD589/MD589-IHC17-2015.07.30-22.23.59_MD589_1_0049/MD589-IHC17-2015.07.30-22.23.59_MD589_1_0049_image_saturation.jpg -negate -auto-level /home/yuncong/csd395/CSHL_cells_v2/detected_cells/MD589/MD589-IHC17-2015.07.30-22.23.59_MD589_1_0049/MD589-IHC17-2015.07.30-22.23.59_MD589_1_0049_image_inverted.jpg\n"
     ]
    },
    {
     "name": "stderr",
     "output_type": "stream",
     "text": [
      "Child returned 0\n"
     ]
    },
    {
     "name": "stdout",
     "output_type": "stream",
     "text": [
      "convert /home/yuncong/csd395/CSHL_cells_v2/detected_cells/MD589/MD589-IHC17-2015.07.30-22.23.59_MD589_3_0051/MD589-IHC17-2015.07.30-22.23.59_MD589_3_0051_image_saturation.jpg -negate -auto-level /home/yuncong/csd395/CSHL_cells_v2/detected_cells/MD589/MD589-IHC17-2015.07.30-22.23.59_MD589_3_0051/MD589-IHC17-2015.07.30-22.23.59_MD589_3_0051_image_inverted.jpg\n"
     ]
    },
    {
     "name": "stderr",
     "output_type": "stream",
     "text": [
      "Child returned 0\n",
      "Child returned 0\n"
     ]
    },
    {
     "name": "stdout",
     "output_type": "stream",
     "text": [
      "convert /home/yuncong/csd395/CSHL_cells_v2/detected_cells/MD589/MD589-N19-2015.07.30-17.15.15_MD589_2_0056/MD589-N19-2015.07.30-17.15.15_MD589_2_0056_image_saturation.jpg -negate -auto-level /home/yuncong/csd395/CSHL_cells_v2/detected_cells/MD589/MD589-N19-2015.07.30-17.15.15_MD589_2_0056/MD589-N19-2015.07.30-17.15.15_MD589_2_0056_image_inverted.jpg\n",
      "convert /home/yuncong/csd395/CSHL_cells_v2/detected_cells/MD589/MD589-N18-2015.07.30-17.11.24_MD589_3_0054/MD589-N18-2015.07.30-17.11.24_MD589_3_0054_image_saturation.jpg -negate -auto-level /home/yuncong/csd395/CSHL_cells_v2/detected_cells/MD589/MD589-N18-2015.07.30-17.11.24_MD589_3_0054/MD589-N18-2015.07.30-17.11.24_MD589_3_0054_image_inverted.jpg\n"
     ]
    },
    {
     "name": "stderr",
     "output_type": "stream",
     "text": [
      "Child returned 0\n"
     ]
    },
    {
     "name": "stdout",
     "output_type": "stream",
     "text": [
      "convert /home/yuncong/csd395/CSHL_cells_v2/detected_cells/MD589/MD589-IHC17-2015.07.30-22.23.59_MD589_2_0050/MD589-IHC17-2015.07.30-22.23.59_MD589_2_0050_image_saturation.jpg -negate -auto-level /home/yuncong/csd395/CSHL_cells_v2/detected_cells/MD589/MD589-IHC17-2015.07.30-22.23.59_MD589_2_0050/MD589-IHC17-2015.07.30-22.23.59_MD589_2_0050_image_inverted.jpg\n"
     ]
    },
    {
     "name": "stderr",
     "output_type": "stream",
     "text": [
      "Child returned 0\n"
     ]
    },
    {
     "name": "stdout",
     "output_type": "stream",
     "text": [
      "convert /home/yuncong/csd395/CSHL_cells_v2/detected_cells/MD589/MD589-N18-2015.07.30-17.11.24_MD589_2_0053/MD589-N18-2015.07.30-17.11.24_MD589_2_0053_image_saturation.jpg -negate -auto-level /home/yuncong/csd395/CSHL_cells_v2/detected_cells/MD589/MD589-N18-2015.07.30-17.11.24_MD589_2_0053/MD589-N18-2015.07.30-17.11.24_MD589_2_0053_image_inverted.jpg\n"
     ]
    },
    {
     "name": "stderr",
     "output_type": "stream",
     "text": [
      "Child returned 0\n"
     ]
    },
    {
     "name": "stdout",
     "output_type": "stream",
     "text": [
      "convert /home/yuncong/csd395/CSHL_cells_v2/detected_cells/MD589/MD589-IHC18-2015.07.30-22.27.59_MD589_2_0053/MD589-IHC18-2015.07.30-22.27.59_MD589_2_0053_image_saturation.jpg -negate -auto-level /home/yuncong/csd395/CSHL_cells_v2/detected_cells/MD589/MD589-IHC18-2015.07.30-22.27.59_MD589_2_0053/MD589-IHC18-2015.07.30-22.27.59_MD589_2_0053_image_inverted.jpg\n"
     ]
    },
    {
     "name": "stderr",
     "output_type": "stream",
     "text": [
      "Child returned 0\n"
     ]
    },
    {
     "name": "stdout",
     "output_type": "stream",
     "text": [
      "convert /home/yuncong/csd395/CSHL_cells_v2/detected_cells/MD589/MD589-IHC19-2015.07.30-22.32.05_MD589_1_0055/MD589-IHC19-2015.07.30-22.32.05_MD589_1_0055_image_saturation.jpg -negate -auto-level /home/yuncong/csd395/CSHL_cells_v2/detected_cells/MD589/MD589-IHC19-2015.07.30-22.32.05_MD589_1_0055/MD589-IHC19-2015.07.30-22.32.05_MD589_1_0055_image_inverted.jpg\n"
     ]
    },
    {
     "name": "stderr",
     "output_type": "stream",
     "text": [
      "Child returned 0\n"
     ]
    },
    {
     "name": "stdout",
     "output_type": "stream",
     "text": [
      "convert /home/yuncong/csd395/CSHL_cells_v2/detected_cells/MD589/MD589-IHC18-2015.07.30-22.27.59_MD589_3_0054/MD589-IHC18-2015.07.30-22.27.59_MD589_3_0054_image_saturation.jpg -negate -auto-level /home/yuncong/csd395/CSHL_cells_v2/detected_cells/MD589/MD589-IHC18-2015.07.30-22.27.59_MD589_3_0054/MD589-IHC18-2015.07.30-22.27.59_MD589_3_0054_image_inverted.jpg\n"
     ]
    },
    {
     "name": "stderr",
     "output_type": "stream",
     "text": [
      "Child returned 0\n"
     ]
    },
    {
     "name": "stdout",
     "output_type": "stream",
     "text": [
      "convert /home/yuncong/csd395/CSHL_cells_v2/detected_cells/MD589/MD589-IHC18-2015.07.30-22.27.59_MD589_1_0052/MD589-IHC18-2015.07.30-22.27.59_MD589_1_0052_image_saturation.jpg -negate -auto-level /home/yuncong/csd395/CSHL_cells_v2/detected_cells/MD589/MD589-IHC18-2015.07.30-22.27.59_MD589_1_0052/MD589-IHC18-2015.07.30-22.27.59_MD589_1_0052_image_inverted.jpg\n"
     ]
    },
    {
     "name": "stderr",
     "output_type": "stream",
     "text": [
      "Child returned 0\n"
     ]
    },
    {
     "name": "stdout",
     "output_type": "stream",
     "text": [
      "convert /home/yuncong/csd395/CSHL_cells_v2/detected_cells/MD589/MD589-N17-2015.07.30-17.07.32_MD589_3_0051/MD589-N17-2015.07.30-17.07.32_MD589_3_0051_image_saturation.jpg -negate -auto-level /home/yuncong/csd395/CSHL_cells_v2/detected_cells/MD589/MD589-N17-2015.07.30-17.07.32_MD589_3_0051/MD589-N17-2015.07.30-17.07.32_MD589_3_0051_image_inverted.jpg\n"
     ]
    },
    {
     "name": "stderr",
     "output_type": "stream",
     "text": [
      "Child returned 0\n"
     ]
    },
    {
     "name": "stdout",
     "output_type": "stream",
     "text": [
      "convert /home/yuncong/csd395/CSHL_cells_v2/detected_cells/MD589/MD589-N18-2015.07.30-17.11.24_MD589_1_0052/MD589-N18-2015.07.30-17.11.24_MD589_1_0052_image_saturation.jpg -negate -auto-level /home/yuncong/csd395/CSHL_cells_v2/detected_cells/MD589/MD589-N18-2015.07.30-17.11.24_MD589_1_0052/MD589-N18-2015.07.30-17.11.24_MD589_1_0052_image_inverted.jpg\n"
     ]
    },
    {
     "name": "stderr",
     "output_type": "stream",
     "text": [
      "Child returned 0\n"
     ]
    },
    {
     "name": "stdout",
     "output_type": "stream",
     "text": [
      "convert /home/yuncong/csd395/CSHL_cells_v2/detected_cells/MD589/MD589-N17-2015.07.30-17.07.32_MD589_2_0050/MD589-N17-2015.07.30-17.07.32_MD589_2_0050_image_saturation.jpg -negate -auto-level /home/yuncong/csd395/CSHL_cells_v2/detected_cells/MD589/MD589-N17-2015.07.30-17.07.32_MD589_2_0050/MD589-N17-2015.07.30-17.07.32_MD589_2_0050_image_inverted.jpg\n"
     ]
    },
    {
     "name": "stderr",
     "output_type": "stream",
     "text": [
      "Child returned 0\n"
     ]
    },
    {
     "name": "stdout",
     "output_type": "stream",
     "text": [
      "convert /home/yuncong/csd395/CSHL_cells_v2/detected_cells/MD589/MD589-IHC17-2015.07.30-22.23.59_MD589_3_0051/MD589-IHC17-2015.07.30-22.23.59_MD589_3_0051_image_inverted.jpg -crop 5000x5000+0+0 /home/yuncong/csd395/CSHL_cells_v2/detected_cells/MD589/MD589-IHC17-2015.07.30-22.23.59_MD589_3_0051/MD589-IHC17-2015.07.30-22.23.59_MD589_3_0051_image_inverted_00.tif\n"
     ]
    },
    {
     "name": "stderr",
     "output_type": "stream",
     "text": [
      "Child returned 0\n"
     ]
    },
    {
     "name": "stdout",
     "output_type": "stream",
     "text": [
      "convert /home/yuncong/csd395/CSHL_cells_v2/detected_cells/MD589/MD589-N18-2015.07.30-17.11.24_MD589_3_0054/MD589-N18-2015.07.30-17.11.24_MD589_3_0054_image_inverted.jpg -crop 5000x5000+0+0 /home/yuncong/csd395/CSHL_cells_v2/detected_cells/MD589/MD589-N18-2015.07.30-17.11.24_MD589_3_0054/MD589-N18-2015.07.30-17.11.24_MD589_3_0054_image_inverted_00.tif\n"
     ]
    },
    {
     "name": "stderr",
     "output_type": "stream",
     "text": [
      "Child returned 0\n"
     ]
    },
    {
     "name": "stdout",
     "output_type": "stream",
     "text": [
      "convert /home/yuncong/csd395/CSHL_cells_v2/detected_cells/MD589/MD589-N17-2015.07.30-17.07.32_MD589_2_0050/MD589-N17-2015.07.30-17.07.32_MD589_2_0050_image_inverted.jpg -crop 5000x5000+0+0 /home/yuncong/csd395/CSHL_cells_v2/detected_cells/MD589/MD589-N17-2015.07.30-17.07.32_MD589_2_0050/MD589-N17-2015.07.30-17.07.32_MD589_2_0050_image_inverted_00.tif\n"
     ]
    },
    {
     "name": "stderr",
     "output_type": "stream",
     "text": [
      "Child returned 0\n",
      "Child returned 0\n",
      "Child returned 0\n"
     ]
    },
    {
     "name": "stdout",
     "output_type": "stream",
     "text": [
      "convert /home/yuncong/csd395/CSHL_cells_v2/detected_cells/MD589/MD589-IHC17-2015.07.30-22.23.59_MD589_2_0050/MD589-IHC17-2015.07.30-22.23.59_MD589_2_0050_image_inverted.jpg -crop 5000x5000+0+0 /home/yuncong/csd395/CSHL_cells_v2/detected_cells/MD589/MD589-IHC17-2015.07.30-22.23.59_MD589_2_0050/MD589-IHC17-2015.07.30-22.23.59_MD589_2_0050_image_inverted_00.tif\n",
      "convert /home/yuncong/csd395/CSHL_cells_v2/detected_cells/MD589/MD589-IHC17-2015.07.30-22.23.59_MD589_1_0049/MD589-IHC17-2015.07.30-22.23.59_MD589_1_0049_image_inverted.jpg -crop 5000x5000+0+0 /home/yuncong/csd395/CSHL_cells_v2/detected_cells/MD589/MD589-IHC17-2015.07.30-22.23.59_MD589_1_0049/MD589-IHC17-2015.07.30-22.23.59_MD589_1_0049_image_inverted_00.tif\n",
      "convert /home/yuncong/csd395/CSHL_cells_v2/detected_cells/MD589/MD589-N19-2015.07.30-17.15.15_MD589_1_0055/MD589-N19-2015.07.30-17.15.15_MD589_1_0055_image_inverted.jpg -crop 5000x5000+0+0 /home/yuncong/csd395/CSHL_cells_v2/detected_cells/MD589/MD589-N19-2015.07.30-17.15.15_MD589_1_0055/MD589-N19-2015.07.30-17.15.15_MD589_1_0055_image_inverted_00.tif\n"
     ]
    },
    {
     "name": "stderr",
     "output_type": "stream",
     "text": [
      "Child returned 0\n"
     ]
    },
    {
     "name": "stdout",
     "output_type": "stream",
     "text": [
      "convert /home/yuncong/csd395/CSHL_cells_v2/detected_cells/MD589/MD589-N18-2015.07.30-17.11.24_MD589_1_0052/MD589-N18-2015.07.30-17.11.24_MD589_1_0052_image_inverted.jpg -crop 5000x5000+0+0 /home/yuncong/csd395/CSHL_cells_v2/detected_cells/MD589/MD589-N18-2015.07.30-17.11.24_MD589_1_0052/MD589-N18-2015.07.30-17.11.24_MD589_1_0052_image_inverted_00.tif\n"
     ]
    },
    {
     "name": "stderr",
     "output_type": "stream",
     "text": [
      "Child returned 0\n"
     ]
    },
    {
     "name": "stdout",
     "output_type": "stream",
     "text": [
      "convert /home/yuncong/csd395/CSHL_cells_v2/detected_cells/MD589/MD589-N19-2015.07.30-17.15.15_MD589_2_0056/MD589-N19-2015.07.30-17.15.15_MD589_2_0056_image_inverted.jpg -crop 5000x5000+0+0 /home/yuncong/csd395/CSHL_cells_v2/detected_cells/MD589/MD589-N19-2015.07.30-17.15.15_MD589_2_0056/MD589-N19-2015.07.30-17.15.15_MD589_2_0056_image_inverted_00.tif\n"
     ]
    },
    {
     "name": "stderr",
     "output_type": "stream",
     "text": [
      "Child returned 0\n",
      "Child returned 0\n"
     ]
    },
    {
     "name": "stdout",
     "output_type": "stream",
     "text": [
      "convert /home/yuncong/csd395/CSHL_cells_v2/detected_cells/MD589/MD589-N18-2015.07.30-17.11.24_MD589_2_0053/MD589-N18-2015.07.30-17.11.24_MD589_2_0053_image_inverted.jpg -crop 5000x5000+0+0 /home/yuncong/csd395/CSHL_cells_v2/detected_cells/MD589/MD589-N18-2015.07.30-17.11.24_MD589_2_0053/MD589-N18-2015.07.30-17.11.24_MD589_2_0053_image_inverted_00.tif\n",
      "convert /home/yuncong/csd395/CSHL_cells_v2/detected_cells/MD589/MD589-IHC19-2015.07.30-22.32.05_MD589_1_0055/MD589-IHC19-2015.07.30-22.32.05_MD589_1_0055_image_inverted.jpg -crop 5000x5000+0+0 /home/yuncong/csd395/CSHL_cells_v2/detected_cells/MD589/MD589-IHC19-2015.07.30-22.32.05_MD589_1_0055/MD589-IHC19-2015.07.30-22.32.05_MD589_1_0055_image_inverted_00.tif\n"
     ]
    },
    {
     "name": "stderr",
     "output_type": "stream",
     "text": [
      "Child returned 0\n"
     ]
    },
    {
     "name": "stdout",
     "output_type": "stream",
     "text": [
      "convert /home/yuncong/csd395/CSHL_cells_v2/detected_cells/MD589/MD589-N17-2015.07.30-17.07.32_MD589_3_0051/MD589-N17-2015.07.30-17.07.32_MD589_3_0051_image_inverted.jpg -crop 5000x5000+0+0 /home/yuncong/csd395/CSHL_cells_v2/detected_cells/MD589/MD589-N17-2015.07.30-17.07.32_MD589_3_0051/MD589-N17-2015.07.30-17.07.32_MD589_3_0051_image_inverted_00.tif\n"
     ]
    },
    {
     "name": "stderr",
     "output_type": "stream",
     "text": [
      "Child returned 0\n"
     ]
    },
    {
     "name": "stdout",
     "output_type": "stream",
     "text": [
      "convert /home/yuncong/csd395/CSHL_cells_v2/detected_cells/MD589/MD589-IHC18-2015.07.30-22.27.59_MD589_3_0054/MD589-IHC18-2015.07.30-22.27.59_MD589_3_0054_image_inverted.jpg -crop 5000x5000+0+0 /home/yuncong/csd395/CSHL_cells_v2/detected_cells/MD589/MD589-IHC18-2015.07.30-22.27.59_MD589_3_0054/MD589-IHC18-2015.07.30-22.27.59_MD589_3_0054_image_inverted_00.tif\n"
     ]
    },
    {
     "name": "stderr",
     "output_type": "stream",
     "text": [
      "Child returned 0\n"
     ]
    },
    {
     "name": "stdout",
     "output_type": "stream",
     "text": [
      "convert /home/yuncong/csd395/CSHL_cells_v2/detected_cells/MD589/MD589-IHC18-2015.07.30-22.27.59_MD589_2_0053/MD589-IHC18-2015.07.30-22.27.59_MD589_2_0053_image_inverted.jpg -crop 5000x5000+0+0 /home/yuncong/csd395/CSHL_cells_v2/detected_cells/MD589/MD589-IHC18-2015.07.30-22.27.59_MD589_2_0053/MD589-IHC18-2015.07.30-22.27.59_MD589_2_0053_image_inverted_00.tif\n"
     ]
    },
    {
     "name": "stderr",
     "output_type": "stream",
     "text": [
      "Child returned 0\n"
     ]
    },
    {
     "name": "stdout",
     "output_type": "stream",
     "text": [
      "convert /home/yuncong/csd395/CSHL_cells_v2/detected_cells/MD589/MD589-IHC18-2015.07.30-22.27.59_MD589_1_0052/MD589-IHC18-2015.07.30-22.27.59_MD589_1_0052_image_inverted.jpg -crop 5000x5000+0+0 /home/yuncong/csd395/CSHL_cells_v2/detected_cells/MD589/MD589-IHC18-2015.07.30-22.27.59_MD589_1_0052/MD589-IHC18-2015.07.30-22.27.59_MD589_1_0052_image_inverted_00.tif\n"
     ]
    },
    {
     "name": "stderr",
     "output_type": "stream",
     "text": [
      "Child returned 0\n"
     ]
    },
    {
     "name": "stdout",
     "output_type": "stream",
     "text": [
      "convert /home/yuncong/csd395/CSHL_cells_v2/detected_cells/MD589/MD589-N18-2015.07.30-17.11.24_MD589_3_0054/MD589-N18-2015.07.30-17.11.24_MD589_3_0054_image_inverted.jpg -crop 5000x5000+5000+0 /home/yuncong/csd395/CSHL_cells_v2/detected_cells/MD589/MD589-N18-2015.07.30-17.11.24_MD589_3_0054/MD589-N18-2015.07.30-17.11.24_MD589_3_0054_image_inverted_01.tif\n"
     ]
    },
    {
     "name": "stderr",
     "output_type": "stream",
     "text": [
      "Child returned 0\n"
     ]
    },
    {
     "name": "stdout",
     "output_type": "stream",
     "text": [
      "convert /home/yuncong/csd395/CSHL_cells_v2/detected_cells/MD589/MD589-N17-2015.07.30-17.07.32_MD589_2_0050/MD589-N17-2015.07.30-17.07.32_MD589_2_0050_image_inverted.jpg -crop 5000x5000+5000+0 /home/yuncong/csd395/CSHL_cells_v2/detected_cells/MD589/MD589-N17-2015.07.30-17.07.32_MD589_2_0050/MD589-N17-2015.07.30-17.07.32_MD589_2_0050_image_inverted_01.tif\n"
     ]
    },
    {
     "name": "stderr",
     "output_type": "stream",
     "text": [
      "Child returned 0\n"
     ]
    },
    {
     "name": "stdout",
     "output_type": "stream",
     "text": [
      "convert /home/yuncong/csd395/CSHL_cells_v2/detected_cells/MD589/MD589-IHC17-2015.07.30-22.23.59_MD589_1_0049/MD589-IHC17-2015.07.30-22.23.59_MD589_1_0049_image_inverted.jpg -crop 5000x5000+5000+0 /home/yuncong/csd395/CSHL_cells_v2/detected_cells/MD589/MD589-IHC17-2015.07.30-22.23.59_MD589_1_0049/MD589-IHC17-2015.07.30-22.23.59_MD589_1_0049_image_inverted_01.tif\n"
     ]
    },
    {
     "name": "stderr",
     "output_type": "stream",
     "text": [
      "Child returned 0\n"
     ]
    },
    {
     "name": "stdout",
     "output_type": "stream",
     "text": [
      "convert /home/yuncong/csd395/CSHL_cells_v2/detected_cells/MD589/MD589-IHC17-2015.07.30-22.23.59_MD589_3_0051/MD589-IHC17-2015.07.30-22.23.59_MD589_3_0051_image_inverted.jpg -crop 5000x5000+5000+0 /home/yuncong/csd395/CSHL_cells_v2/detected_cells/MD589/MD589-IHC17-2015.07.30-22.23.59_MD589_3_0051/MD589-IHC17-2015.07.30-22.23.59_MD589_3_0051_image_inverted_01.tif\n"
     ]
    },
    {
     "name": "stderr",
     "output_type": "stream",
     "text": [
      "Child returned 0\n"
     ]
    },
    {
     "name": "stdout",
     "output_type": "stream",
     "text": [
      "convert /home/yuncong/csd395/CSHL_cells_v2/detected_cells/MD589/MD589-IHC17-2015.07.30-22.23.59_MD589_2_0050/MD589-IHC17-2015.07.30-22.23.59_MD589_2_0050_image_inverted.jpg -crop 5000x5000+5000+0 /home/yuncong/csd395/CSHL_cells_v2/detected_cells/MD589/MD589-IHC17-2015.07.30-22.23.59_MD589_2_0050/MD589-IHC17-2015.07.30-22.23.59_MD589_2_0050_image_inverted_01.tif\n"
     ]
    },
    {
     "name": "stderr",
     "output_type": "stream",
     "text": [
      "Child returned 0\n"
     ]
    },
    {
     "name": "stdout",
     "output_type": "stream",
     "text": [
      "convert /home/yuncong/csd395/CSHL_cells_v2/detected_cells/MD589/MD589-N19-2015.07.30-17.15.15_MD589_1_0055/MD589-N19-2015.07.30-17.15.15_MD589_1_0055_image_inverted.jpg -crop 5000x5000+5000+0 /home/yuncong/csd395/CSHL_cells_v2/detected_cells/MD589/MD589-N19-2015.07.30-17.15.15_MD589_1_0055/MD589-N19-2015.07.30-17.15.15_MD589_1_0055_image_inverted_01.tif\n"
     ]
    },
    {
     "name": "stderr",
     "output_type": "stream",
     "text": [
      "Child returned 0\n"
     ]
    },
    {
     "name": "stdout",
     "output_type": "stream",
     "text": [
      "convert /home/yuncong/csd395/CSHL_cells_v2/detected_cells/MD589/MD589-IHC19-2015.07.30-22.32.05_MD589_1_0055/MD589-IHC19-2015.07.30-22.32.05_MD589_1_0055_image_inverted.jpg -crop 5000x5000+5000+0 /home/yuncong/csd395/CSHL_cells_v2/detected_cells/MD589/MD589-IHC19-2015.07.30-22.32.05_MD589_1_0055/MD589-IHC19-2015.07.30-22.32.05_MD589_1_0055_image_inverted_01.tif\n"
     ]
    },
    {
     "name": "stderr",
     "output_type": "stream",
     "text": [
      "Child returned 0\n"
     ]
    },
    {
     "name": "stdout",
     "output_type": "stream",
     "text": [
      "convert /home/yuncong/csd395/CSHL_cells_v2/detected_cells/MD589/MD589-N18-2015.07.30-17.11.24_MD589_1_0052/MD589-N18-2015.07.30-17.11.24_MD589_1_0052_image_inverted.jpg -crop 5000x5000+5000+0 /home/yuncong/csd395/CSHL_cells_v2/detected_cells/MD589/MD589-N18-2015.07.30-17.11.24_MD589_1_0052/MD589-N18-2015.07.30-17.11.24_MD589_1_0052_image_inverted_01.tif\n"
     ]
    },
    {
     "name": "stderr",
     "output_type": "stream",
     "text": [
      "Child returned 0\n"
     ]
    },
    {
     "name": "stdout",
     "output_type": "stream",
     "text": [
      "convert /home/yuncong/csd395/CSHL_cells_v2/detected_cells/MD589/MD589-N18-2015.07.30-17.11.24_MD589_2_0053/MD589-N18-2015.07.30-17.11.24_MD589_2_0053_image_inverted.jpg -crop 5000x5000+5000+0 /home/yuncong/csd395/CSHL_cells_v2/detected_cells/MD589/MD589-N18-2015.07.30-17.11.24_MD589_2_0053/MD589-N18-2015.07.30-17.11.24_MD589_2_0053_image_inverted_01.tif\n"
     ]
    },
    {
     "name": "stderr",
     "output_type": "stream",
     "text": [
      "Child returned 0\n"
     ]
    },
    {
     "name": "stdout",
     "output_type": "stream",
     "text": [
      "convert /home/yuncong/csd395/CSHL_cells_v2/detected_cells/MD589/MD589-IHC18-2015.07.30-22.27.59_MD589_1_0052/MD589-IHC18-2015.07.30-22.27.59_MD589_1_0052_image_inverted.jpg -crop 5000x5000+5000+0 /home/yuncong/csd395/CSHL_cells_v2/detected_cells/MD589/MD589-IHC18-2015.07.30-22.27.59_MD589_1_0052/MD589-IHC18-2015.07.30-22.27.59_MD589_1_0052_image_inverted_01.tif\n"
     ]
    },
    {
     "name": "stderr",
     "output_type": "stream",
     "text": [
      "Child returned 0\n"
     ]
    },
    {
     "name": "stdout",
     "output_type": "stream",
     "text": [
      "convert /home/yuncong/csd395/CSHL_cells_v2/detected_cells/MD589/MD589-N17-2015.07.30-17.07.32_MD589_3_0051/MD589-N17-2015.07.30-17.07.32_MD589_3_0051_image_inverted.jpg -crop 5000x5000+5000+0 /home/yuncong/csd395/CSHL_cells_v2/detected_cells/MD589/MD589-N17-2015.07.30-17.07.32_MD589_3_0051/MD589-N17-2015.07.30-17.07.32_MD589_3_0051_image_inverted_01.tif\n"
     ]
    },
    {
     "name": "stderr",
     "output_type": "stream",
     "text": [
      "Child returned 0\n"
     ]
    },
    {
     "name": "stdout",
     "output_type": "stream",
     "text": [
      "convert /home/yuncong/csd395/CSHL_cells_v2/detected_cells/MD589/MD589-N19-2015.07.30-17.15.15_MD589_2_0056/MD589-N19-2015.07.30-17.15.15_MD589_2_0056_image_inverted.jpg -crop 5000x5000+5000+0 /home/yuncong/csd395/CSHL_cells_v2/detected_cells/MD589/MD589-N19-2015.07.30-17.15.15_MD589_2_0056/MD589-N19-2015.07.30-17.15.15_MD589_2_0056_image_inverted_01.tif\n"
     ]
    },
    {
     "name": "stderr",
     "output_type": "stream",
     "text": [
      "Child returned 0\n"
     ]
    },
    {
     "name": "stdout",
     "output_type": "stream",
     "text": [
      "convert /home/yuncong/csd395/CSHL_cells_v2/detected_cells/MD589/MD589-IHC18-2015.07.30-22.27.59_MD589_2_0053/MD589-IHC18-2015.07.30-22.27.59_MD589_2_0053_image_inverted.jpg -crop 5000x5000+5000+0 /home/yuncong/csd395/CSHL_cells_v2/detected_cells/MD589/MD589-IHC18-2015.07.30-22.27.59_MD589_2_0053/MD589-IHC18-2015.07.30-22.27.59_MD589_2_0053_image_inverted_01.tif\n"
     ]
    }
   ],
   "source": [
    "t = time.time()\n",
    "\n",
    "pool = Pool(NUM_CORES-1)\n",
    "pool.map(detect_cells, range(95, 109))\n",
    "pool.close()\n",
    "pool.join()\n",
    "\n",
    "sys.stderr.write('Overall time: %.2f seconds.\\n' % (time.time()-t))"
   ]
  },
  {
   "cell_type": "markdown",
   "metadata": {},
   "source": [
    "# Sequential"
   ]
  },
  {
   "cell_type": "code",
   "execution_count": 6,
   "metadata": {
    "scrolled": true
   },
   "outputs": [
    {
     "name": "stdout",
     "output_type": "stream",
     "text": [
      "cp /shared/CSHL_data_processed/MD589/MD589_lossless_alignedTo_MD589-IHC31-2015.07.30-23.26.22_MD589_1_0091_cropped_gray/MD589-N18-2015.07.30-17.11.24_MD589_3_0054_lossless_alignedTo_MD589-IHC31-2015.07.30-23.26.22_MD589_1_0091_cropped_gray.tif /shared/CSHL_cells_v2/detected_cells/MD589/MD589-N18-2015.07.30-17.11.24_MD589_3_0054/MD589-N18-2015.07.30-17.11.24_MD589_3_0054_image_gray.jpg\n",
      "convert /shared/CSHL_cells_v2/detected_cells/MD589/MD589-N18-2015.07.30-17.11.24_MD589_3_0054/MD589-N18-2015.07.30-17.11.24_MD589_3_0054_image_gray.jpg -negate -auto-level /shared/CSHL_cells_v2/detected_cells/MD589/MD589-N18-2015.07.30-17.11.24_MD589_3_0054/MD589-N18-2015.07.30-17.11.24_MD589_3_0054_image_inverted.jpg\n",
      "convert /shared/CSHL_cells_v2/detected_cells/MD589/MD589-N18-2015.07.30-17.11.24_MD589_3_0054/MD589-N18-2015.07.30-17.11.24_MD589_3_0054_image_inverted.jpg -crop 5000x5000+0+0 /shared/CSHL_cells_v2/detected_cells/MD589/MD589-N18-2015.07.30-17.11.24_MD589_3_0054/MD589-N18-2015.07.30-17.11.24_MD589_3_0054_image_inverted_00.tif\n",
      "convert /shared/CSHL_cells_v2/detected_cells/MD589/MD589-N18-2015.07.30-17.11.24_MD589_3_0054/MD589-N18-2015.07.30-17.11.24_MD589_3_0054_image_inverted.jpg -crop 5000x5000+5000+0 /shared/CSHL_cells_v2/detected_cells/MD589/MD589-N18-2015.07.30-17.11.24_MD589_3_0054/MD589-N18-2015.07.30-17.11.24_MD589_3_0054_image_inverted_01.tif\n",
      "convert /shared/CSHL_cells_v2/detected_cells/MD589/MD589-N18-2015.07.30-17.11.24_MD589_3_0054/MD589-N18-2015.07.30-17.11.24_MD589_3_0054_image_inverted.jpg -crop 5000x5000+10000+0 /shared/CSHL_cells_v2/detected_cells/MD589/MD589-N18-2015.07.30-17.11.24_MD589_3_0054/MD589-N18-2015.07.30-17.11.24_MD589_3_0054_image_inverted_02.tif\n",
      "convert /shared/CSHL_cells_v2/detected_cells/MD589/MD589-N18-2015.07.30-17.11.24_MD589_3_0054/MD589-N18-2015.07.30-17.11.24_MD589_3_0054_image_inverted.jpg -crop 5000x5000+15000+0 /shared/CSHL_cells_v2/detected_cells/MD589/MD589-N18-2015.07.30-17.11.24_MD589_3_0054/MD589-N18-2015.07.30-17.11.24_MD589_3_0054_image_inverted_03.tif\n",
      "convert /shared/CSHL_cells_v2/detected_cells/MD589/MD589-N18-2015.07.30-17.11.24_MD589_3_0054/MD589-N18-2015.07.30-17.11.24_MD589_3_0054_image_inverted.jpg -crop 5000x5000+0+5000 /shared/CSHL_cells_v2/detected_cells/MD589/MD589-N18-2015.07.30-17.11.24_MD589_3_0054/MD589-N18-2015.07.30-17.11.24_MD589_3_0054_image_inverted_04.tif\n",
      "convert /shared/CSHL_cells_v2/detected_cells/MD589/MD589-N18-2015.07.30-17.11.24_MD589_3_0054/MD589-N18-2015.07.30-17.11.24_MD589_3_0054_image_inverted.jpg -crop 5000x5000+5000+5000 /shared/CSHL_cells_v2/detected_cells/MD589/MD589-N18-2015.07.30-17.11.24_MD589_3_0054/MD589-N18-2015.07.30-17.11.24_MD589_3_0054_image_inverted_05.tif\n",
      "convert /shared/CSHL_cells_v2/detected_cells/MD589/MD589-N18-2015.07.30-17.11.24_MD589_3_0054/MD589-N18-2015.07.30-17.11.24_MD589_3_0054_image_inverted.jpg -crop 5000x5000+10000+5000 /shared/CSHL_cells_v2/detected_cells/MD589/MD589-N18-2015.07.30-17.11.24_MD589_3_0054/MD589-N18-2015.07.30-17.11.24_MD589_3_0054_image_inverted_06.tif\n",
      "convert /shared/CSHL_cells_v2/detected_cells/MD589/MD589-N18-2015.07.30-17.11.24_MD589_3_0054/MD589-N18-2015.07.30-17.11.24_MD589_3_0054_image_inverted.jpg -crop 5000x5000+15000+5000 /shared/CSHL_cells_v2/detected_cells/MD589/MD589-N18-2015.07.30-17.11.24_MD589_3_0054/MD589-N18-2015.07.30-17.11.24_MD589_3_0054_image_inverted_07.tif\n",
      "convert /shared/CSHL_cells_v2/detected_cells/MD589/MD589-N18-2015.07.30-17.11.24_MD589_3_0054/MD589-N18-2015.07.30-17.11.24_MD589_3_0054_image_inverted.jpg -crop 5000x5000+0+10000 /shared/CSHL_cells_v2/detected_cells/MD589/MD589-N18-2015.07.30-17.11.24_MD589_3_0054/MD589-N18-2015.07.30-17.11.24_MD589_3_0054_image_inverted_08.tif\n",
      "convert /shared/CSHL_cells_v2/detected_cells/MD589/MD589-N18-2015.07.30-17.11.24_MD589_3_0054/MD589-N18-2015.07.30-17.11.24_MD589_3_0054_image_inverted.jpg -crop 5000x5000+5000+10000 /shared/CSHL_cells_v2/detected_cells/MD589/MD589-N18-2015.07.30-17.11.24_MD589_3_0054/MD589-N18-2015.07.30-17.11.24_MD589_3_0054_image_inverted_09.tif\n",
      "convert /shared/CSHL_cells_v2/detected_cells/MD589/MD589-N18-2015.07.30-17.11.24_MD589_3_0054/MD589-N18-2015.07.30-17.11.24_MD589_3_0054_image_inverted.jpg -crop 5000x5000+10000+10000 /shared/CSHL_cells_v2/detected_cells/MD589/MD589-N18-2015.07.30-17.11.24_MD589_3_0054/MD589-N18-2015.07.30-17.11.24_MD589_3_0054_image_inverted_10.tif\n",
      "convert /shared/CSHL_cells_v2/detected_cells/MD589/MD589-N18-2015.07.30-17.11.24_MD589_3_0054/MD589-N18-2015.07.30-17.11.24_MD589_3_0054_image_inverted.jpg -crop 5000x5000+15000+10000 /shared/CSHL_cells_v2/detected_cells/MD589/MD589-N18-2015.07.30-17.11.24_MD589_3_0054/MD589-N18-2015.07.30-17.11.24_MD589_3_0054_image_inverted_11.tif\n",
      "/shared/CellProfiler/cellprofiler -c --file-list=/tmp/cellprofiler_filelist_0104.txt -p /shared/CSHL_cells_v2/SegmentCells.cppipe\n"
     ]
    },
    {
     "name": "stderr",
     "output_type": "stream",
     "text": [
      "Child returned 1\n",
      "Child returned 1\n",
      "Child returned 1\n",
      "Child returned 1\n",
      "Child returned 1\n",
      "Child returned 1\n",
      "Child returned 1\n",
      "Child returned 1\n",
      "Child returned 1\n",
      "Child returned 1\n",
      "Child returned 1\n",
      "Child returned 1\n",
      "Child returned 1\n",
      "Child returned 1\n",
      "Child returned 126\n",
      "Cell profiler: 0.01 seconds.\n"
     ]
    },
    {
     "ename": "IOError",
     "evalue": "[Errno 2] No such file or directory: '/shared/CSHL_cells_v2/detected_cells/MD589/MD589-N18-2015.07.30-17.11.24_MD589_3_0054/MD589-N18-2015.07.30-17.11.24_MD589_3_0054_image_inverted_00_labeled.mat'",
     "output_type": "error",
     "traceback": [
      "\u001b[0;31m---------------------------------------------------------------------------\u001b[0m",
      "\u001b[0;31mIOError\u001b[0m                                   Traceback (most recent call last)",
      "\u001b[0;32m<ipython-input-6-7236a0604705>\u001b[0m in \u001b[0;36m<module>\u001b[0;34m()\u001b[0m\n\u001b[0;32m----> 1\u001b[0;31m \u001b[0mdetect_cells\u001b[0m\u001b[0;34m(\u001b[0m\u001b[0;36m104\u001b[0m\u001b[0;34m)\u001b[0m\u001b[0;34m\u001b[0m\u001b[0m\n\u001b[0m",
      "\u001b[0;32m<ipython-input-5-448c385926e4>\u001b[0m in \u001b[0;36mdetect_cells\u001b[0;34m(sec)\u001b[0m\n\u001b[1;32m    144\u001b[0m     \u001b[0;32mfor\u001b[0m \u001b[0minput_fp\u001b[0m \u001b[0;32min\u001b[0m \u001b[0minput_fps\u001b[0m\u001b[0;34m:\u001b[0m\u001b[0;34m\u001b[0m\u001b[0m\n\u001b[1;32m    145\u001b[0m         \u001b[0mprefix\u001b[0m \u001b[0;34m=\u001b[0m \u001b[0mos\u001b[0m\u001b[0;34m.\u001b[0m\u001b[0mpath\u001b[0m\u001b[0;34m.\u001b[0m\u001b[0msplitext\u001b[0m\u001b[0;34m(\u001b[0m\u001b[0minput_fp\u001b[0m\u001b[0;34m)\u001b[0m\u001b[0;34m[\u001b[0m\u001b[0;36m0\u001b[0m\u001b[0;34m]\u001b[0m\u001b[0;34m\u001b[0m\u001b[0m\n\u001b[0;32m--> 146\u001b[0;31m         \u001b[0mlabelmap\u001b[0m \u001b[0;34m=\u001b[0m \u001b[0mloadmat\u001b[0m\u001b[0;34m(\u001b[0m\u001b[0mprefix\u001b[0m \u001b[0;34m+\u001b[0m \u001b[0;34m'_labeled.mat'\u001b[0m\u001b[0;34m)\u001b[0m\u001b[0;34m[\u001b[0m\u001b[0;34m'Image'\u001b[0m\u001b[0;34m]\u001b[0m\u001b[0;34m\u001b[0m\u001b[0m\n\u001b[0m\u001b[1;32m    147\u001b[0m \u001b[0;31m#         bp.pack_ndarray_file(labelmap, prefix + '_labelmap_cellprofiler.bp')\u001b[0m\u001b[0;34m\u001b[0m\u001b[0;34m\u001b[0m\u001b[0m\n\u001b[1;32m    148\u001b[0m         \u001b[0mexecute_command\u001b[0m\u001b[0;34m(\u001b[0m\u001b[0;34m'rm '\u001b[0m \u001b[0;34m+\u001b[0m \u001b[0mprefix\u001b[0m \u001b[0;34m+\u001b[0m \u001b[0;34m'_labeled.mat'\u001b[0m\u001b[0;34m)\u001b[0m\u001b[0;34m\u001b[0m\u001b[0m\n",
      "\u001b[0;32m/usr/local/lib/python2.7/dist-packages/scipy/io/matlab/mio.pyc\u001b[0m in \u001b[0;36mloadmat\u001b[0;34m(file_name, mdict, appendmat, **kwargs)\u001b[0m\n\u001b[1;32m    133\u001b[0m     \"\"\"\n\u001b[1;32m    134\u001b[0m     \u001b[0mvariable_names\u001b[0m \u001b[0;34m=\u001b[0m \u001b[0mkwargs\u001b[0m\u001b[0;34m.\u001b[0m\u001b[0mpop\u001b[0m\u001b[0;34m(\u001b[0m\u001b[0;34m'variable_names'\u001b[0m\u001b[0;34m,\u001b[0m \u001b[0mNone\u001b[0m\u001b[0;34m)\u001b[0m\u001b[0;34m\u001b[0m\u001b[0m\n\u001b[0;32m--> 135\u001b[0;31m     \u001b[0mMR\u001b[0m \u001b[0;34m=\u001b[0m \u001b[0mmat_reader_factory\u001b[0m\u001b[0;34m(\u001b[0m\u001b[0mfile_name\u001b[0m\u001b[0;34m,\u001b[0m \u001b[0mappendmat\u001b[0m\u001b[0;34m,\u001b[0m \u001b[0;34m**\u001b[0m\u001b[0mkwargs\u001b[0m\u001b[0;34m)\u001b[0m\u001b[0;34m\u001b[0m\u001b[0m\n\u001b[0m\u001b[1;32m    136\u001b[0m     \u001b[0mmatfile_dict\u001b[0m \u001b[0;34m=\u001b[0m \u001b[0mMR\u001b[0m\u001b[0;34m.\u001b[0m\u001b[0mget_variables\u001b[0m\u001b[0;34m(\u001b[0m\u001b[0mvariable_names\u001b[0m\u001b[0;34m)\u001b[0m\u001b[0;34m\u001b[0m\u001b[0m\n\u001b[1;32m    137\u001b[0m     \u001b[0;32mif\u001b[0m \u001b[0mmdict\u001b[0m \u001b[0;32mis\u001b[0m \u001b[0;32mnot\u001b[0m \u001b[0mNone\u001b[0m\u001b[0;34m:\u001b[0m\u001b[0;34m\u001b[0m\u001b[0m\n",
      "\u001b[0;32m/usr/local/lib/python2.7/dist-packages/scipy/io/matlab/mio.pyc\u001b[0m in \u001b[0;36mmat_reader_factory\u001b[0;34m(file_name, appendmat, **kwargs)\u001b[0m\n\u001b[1;32m     56\u001b[0m        \u001b[0mtype\u001b[0m \u001b[0mdetected\u001b[0m \u001b[0;32min\u001b[0m \u001b[0;34m`\u001b[0m\u001b[0mfilename\u001b[0m\u001b[0;34m`\u001b[0m\u001b[0;34m.\u001b[0m\u001b[0;34m\u001b[0m\u001b[0m\n\u001b[1;32m     57\u001b[0m     \"\"\"\n\u001b[0;32m---> 58\u001b[0;31m     \u001b[0mbyte_stream\u001b[0m \u001b[0;34m=\u001b[0m \u001b[0m_open_file\u001b[0m\u001b[0;34m(\u001b[0m\u001b[0mfile_name\u001b[0m\u001b[0;34m,\u001b[0m \u001b[0mappendmat\u001b[0m\u001b[0;34m)\u001b[0m\u001b[0;34m\u001b[0m\u001b[0m\n\u001b[0m\u001b[1;32m     59\u001b[0m     \u001b[0mmjv\u001b[0m\u001b[0;34m,\u001b[0m \u001b[0mmnv\u001b[0m \u001b[0;34m=\u001b[0m \u001b[0mget_matfile_version\u001b[0m\u001b[0;34m(\u001b[0m\u001b[0mbyte_stream\u001b[0m\u001b[0;34m)\u001b[0m\u001b[0;34m\u001b[0m\u001b[0m\n\u001b[1;32m     60\u001b[0m     \u001b[0;32mif\u001b[0m \u001b[0mmjv\u001b[0m \u001b[0;34m==\u001b[0m \u001b[0;36m0\u001b[0m\u001b[0;34m:\u001b[0m\u001b[0;34m\u001b[0m\u001b[0m\n",
      "\u001b[0;32m/usr/local/lib/python2.7/dist-packages/scipy/io/matlab/mio.pyc\u001b[0m in \u001b[0;36m_open_file\u001b[0;34m(file_like, appendmat)\u001b[0m\n\u001b[1;32m     21\u001b[0m     \u001b[0;32mif\u001b[0m \u001b[0misinstance\u001b[0m\u001b[0;34m(\u001b[0m\u001b[0mfile_like\u001b[0m\u001b[0;34m,\u001b[0m \u001b[0mstring_types\u001b[0m\u001b[0;34m)\u001b[0m\u001b[0;34m:\u001b[0m\u001b[0;34m\u001b[0m\u001b[0m\n\u001b[1;32m     22\u001b[0m         \u001b[0;32mtry\u001b[0m\u001b[0;34m:\u001b[0m\u001b[0;34m\u001b[0m\u001b[0m\n\u001b[0;32m---> 23\u001b[0;31m             \u001b[0;32mreturn\u001b[0m \u001b[0mopen\u001b[0m\u001b[0;34m(\u001b[0m\u001b[0mfile_like\u001b[0m\u001b[0;34m,\u001b[0m \u001b[0;34m'rb'\u001b[0m\u001b[0;34m)\u001b[0m\u001b[0;34m\u001b[0m\u001b[0m\n\u001b[0m\u001b[1;32m     24\u001b[0m         \u001b[0;32mexcept\u001b[0m \u001b[0mIOError\u001b[0m \u001b[0;32mas\u001b[0m \u001b[0me\u001b[0m\u001b[0;34m:\u001b[0m\u001b[0;34m\u001b[0m\u001b[0m\n\u001b[1;32m     25\u001b[0m             \u001b[0;32mif\u001b[0m \u001b[0mappendmat\u001b[0m \u001b[0;32mand\u001b[0m \u001b[0;32mnot\u001b[0m \u001b[0mfile_like\u001b[0m\u001b[0;34m.\u001b[0m\u001b[0mendswith\u001b[0m\u001b[0;34m(\u001b[0m\u001b[0;34m'.mat'\u001b[0m\u001b[0;34m)\u001b[0m\u001b[0;34m:\u001b[0m\u001b[0;34m\u001b[0m\u001b[0m\n",
      "\u001b[0;31mIOError\u001b[0m: [Errno 2] No such file or directory: '/shared/CSHL_cells_v2/detected_cells/MD589/MD589-N18-2015.07.30-17.11.24_MD589_3_0054/MD589-N18-2015.07.30-17.11.24_MD589_3_0054_image_inverted_00_labeled.mat'"
     ]
    }
   ],
   "source": [
    "detect_cells(104)"
   ]
  },
  {
   "cell_type": "code",
   "execution_count": null,
   "metadata": {
    "collapsed": true
   },
   "outputs": [],
   "source": []
  }
 ],
 "metadata": {
  "kernelspec": {
   "display_name": "Python 2",
   "language": "python",
   "name": "python2"
  },
  "language_info": {
   "codemirror_mode": {
    "name": "ipython",
    "version": 2
   },
   "file_extension": ".py",
   "mimetype": "text/x-python",
   "name": "python",
   "nbconvert_exporter": "python",
   "pygments_lexer": "ipython2",
   "version": "2.7.12"
  }
 },
 "nbformat": 4,
 "nbformat_minor": 1
}
