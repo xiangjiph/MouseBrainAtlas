{
 "cells": [
  {
   "cell_type": "code",
   "execution_count": 1,
   "metadata": {
    "scrolled": true
   },
   "outputs": [
    {
     "name": "stderr",
     "output_type": "stream",
     "text": [
      "/usr/local/lib/python2.7/dist-packages/matplotlib/__init__.py:1405: UserWarning: \n",
      "This call to matplotlib.use() has no effect because the backend has already\n",
      "been chosen; matplotlib.use() must be called *before* pylab, matplotlib.pyplot,\n",
      "or matplotlib.backends is imported for the first time.\n",
      "\n",
      "  warnings.warn(_use_error_msg)\n"
     ]
    },
    {
     "name": "stdout",
     "output_type": "stream",
     "text": [
      "Setting environment for AWS compute node\n",
      "rm -rf /shared/CSHL_data_processed/MD635/MD635_alignedTo_MD635-F63-2016.05.19-08.39.03_MD635_2_0188_cropbox.txt && mkdir -p /shared/CSHL_data_processed/MD635\n",
      "aws s3 cp s3://mousebrainatlas-data/CSHL_data_processed/MD635/MD635_alignedTo_MD635-F63-2016.05.19-08.39.03_MD635_2_0188_cropbox.txt /shared/CSHL_data_processed/MD635/MD635_alignedTo_MD635-F63-2016.05.19-08.39.03_MD635_2_0188_cropbox.txt\n"
     ]
    },
    {
     "name": "stderr",
     "output_type": "stream",
     "text": [
      "No vtk\n",
      "Child returned 0\n",
      "Child returned 1\n",
      "0.40 seconds.\n",
      "File does not exist: /shared/CSHL_data_processed/MD635/MD635_alignedTo_MD635-F63-2016.05.19-08.39.03_MD635_2_0188_cropbox.txt\n",
      "Child returned 0\n"
     ]
    },
    {
     "name": "stdout",
     "output_type": "stream",
     "text": [
      "rm -rf /shared/CSHL_data_processed/MD635/MD635_alignedTo_MD635-F63-2016.05.19-08.39.03_MD635_2_0188_cropbox.txt && mkdir -p /shared/CSHL_data_processed/MD635\n",
      "aws s3 cp s3://mousebrainatlas-data/CSHL_data_processed/MD635/MD635_alignedTo_MD635-F63-2016.05.19-08.39.03_MD635_2_0188_cropbox.txt /shared/CSHL_data_processed/MD635/MD635_alignedTo_MD635-F63-2016.05.19-08.39.03_MD635_2_0188_cropbox.txt\n"
     ]
    },
    {
     "name": "stderr",
     "output_type": "stream",
     "text": [
      "Child returned 1\n",
      "0.36 seconds.\n",
      "File does not exist: /shared/CSHL_data_processed/MD635/MD635_alignedTo_MD635-F63-2016.05.19-08.39.03_MD635_2_0188_cropbox.txt\n"
     ]
    }
   ],
   "source": [
    "%reload_ext autoreload\n",
    "%autoreload 2\n",
    "\n",
    "import os\n",
    "import sys\n",
    "import time\n",
    "\n",
    "import cv2\n",
    "import matplotlib.pyplot as plt\n",
    "%matplotlib inline\n",
    "\n",
    "sys.path.append(os.path.join(os.environ['REPO_DIR'], 'utilities'))\n",
    "from utilities2015 import *\n",
    "from data_manager import *\n",
    "from metadata import *\n",
    "from cell_utilities import *"
   ]
  },
  {
   "cell_type": "code",
   "execution_count": 2,
   "metadata": {
    "collapsed": true
   },
   "outputs": [],
   "source": [
    "alg = 'cellprofiler'\n",
    "# alg = 'farsight'\n",
    "# alg = 'myown'"
   ]
  },
  {
   "cell_type": "code",
   "execution_count": 3,
   "metadata": {
    "scrolled": true
   },
   "outputs": [
    {
     "name": "stdout",
     "output_type": "stream",
     "text": [
      "MD589-N31-2015.07.30-18.08.35_MD589_2_0092\n",
      "rm -rf /shared/CSHL_cells_v2/detected_cells/MD589/MD589-N31-2015.07.30-18.08.35_MD589_2_0092/MD589-N31-2015.07.30-18.08.35_MD589_2_0092_blobContoursGlobal_cellprofiler.hdf && mkdir -p /shared/CSHL_cells_v2/detected_cells/MD589/MD589-N31-2015.07.30-18.08.35_MD589_2_0092\n",
      "aws s3 cp s3://mousebrainatlas-data/CSHL_cells_v2/detected_cells/MD589/MD589-N31-2015.07.30-18.08.35_MD589_2_0092/MD589-N31-2015.07.30-18.08.35_MD589_2_0092_blobContoursGlobal_cellprofiler.hdf /shared/CSHL_cells_v2/detected_cells/MD589/MD589-N31-2015.07.30-18.08.35_MD589_2_0092/MD589-N31-2015.07.30-18.08.35_MD589_2_0092_blobContoursGlobal_cellprofiler.hdf\n"
     ]
    },
    {
     "name": "stderr",
     "output_type": "stream",
     "text": [
      "Child returned 0\n",
      "Child returned 0\n",
      "0.84 seconds.\n"
     ]
    },
    {
     "name": "stdout",
     "output_type": "stream",
     "text": [
      "aws s3 cp /shared/CSHL_cells_v2/detected_cells/MD589/MD589-N31-2015.07.30-18.08.35_MD589_2_0092/MD589-N31-2015.07.30-18.08.35_MD589_2_0092_blobContours_viz_cellprofiler.png s3://mousebrainatlas-data/CSHL_cells_v2/detected_cells/MD589/MD589-N31-2015.07.30-18.08.35_MD589_2_0092/MD589-N31-2015.07.30-18.08.35_MD589_2_0092_blobContours_viz_cellprofiler.png\n"
     ]
    },
    {
     "name": "stderr",
     "output_type": "stream",
     "text": [
      "Child returned 0\n",
      "0.67 seconds.\n",
      "Save image: 70.22\n"
     ]
    }
   ],
   "source": [
    "# Visualize\n",
    "\n",
    "for stack in ['MD589']:\n",
    "        \n",
    "    sections_to_filenames = metadata_cache['sections_to_filenames'][stack]\n",
    "    first_bs_section, last_bs_section = metadata_cache['section_limits'][stack]\n",
    "    w, h = metadata_cache['image_shape'][stack]\n",
    "    \n",
    "    for sec in [180]:\n",
    "#     for sec in range(first_bs_section, last_bs_section, 50):\n",
    "\n",
    "        t = time.time()\n",
    "\n",
    "        fn = sections_to_filenames[sec]\n",
    "        print fn\n",
    "        \n",
    "        blob_contours = load_cell_data(stack=stack, sec=sec, what='blobContoursGlobal_%(alg)s' % {'alg': alg}, ext='hdf')\n",
    "\n",
    "        n_blobs = len(blob_contours)\n",
    "\n",
    "        blob_contour_viz = np.zeros((h, w, 4), np.uint8)\n",
    "        for cnt in blob_contours:\n",
    "            blob_contour_viz[np.minimum(h-1, np.maximum(cnt[:,1], 0)), \n",
    "                             np.minimum(w-1, np.maximum(cnt[:,0], 0))] = (255,0,0,255)\n",
    "\n",
    "        viz_fp = get_cell_data_filepath(stack=stack, sec=sec, what='blobContours_viz_%(alg)s' % {'alg': alg}, ext='png')\n",
    "        create_parent_dir_if_not_exists(viz_fp)\n",
    "        imsave(viz_fp, blob_contour_viz)\n",
    "        upload_to_s3(viz_fp)\n",
    "        sys.stderr.write('Save image: %.2f\\n' % (time.time() - t) ) # 40s / section"
   ]
  },
  {
   "cell_type": "code",
   "execution_count": 11,
   "metadata": {
    "scrolled": true
   },
   "outputs": [
    {
     "data": {
      "text/html": [
       "<a href='tmp.jpg' target='_blank'>tmp.jpg</a><br>"
      ],
      "text/plain": [
       "/shared/MouseBrainAtlas/cells/tmp.jpg"
      ]
     },
     "execution_count": 11,
     "metadata": {},
     "output_type": "execute_result"
    }
   ],
   "source": [
    "display_image(blob_contour_viz[1000:2000, 1000:2000])"
   ]
  }
 ],
 "metadata": {
  "kernelspec": {
   "display_name": "Python 2",
   "language": "python",
   "name": "python2"
  },
  "language_info": {
   "codemirror_mode": {
    "name": "ipython",
    "version": 2
   },
   "file_extension": ".py",
   "mimetype": "text/x-python",
   "name": "python",
   "nbconvert_exporter": "python",
   "pygments_lexer": "ipython2",
   "version": "2.7.12"
  },
  "widgets": {
   "state": {
    "6750cf608ee040e18cbaa92b6eb1747d": {
     "views": [
      {
       "cell_index": 3
      }
     ]
    }
   },
   "version": "1.2.0"
  }
 },
 "nbformat": 4,
 "nbformat_minor": 1
}
