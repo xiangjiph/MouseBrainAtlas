{
 "cells": [
  {
   "cell_type": "code",
   "execution_count": 3,
   "metadata": {
    "scrolled": true
   },
   "outputs": [
    {
     "name": "stdout",
     "output_type": "stream",
     "text": [
      "Setting environment for AWS compute node\n",
      "rm -rf /shared/CSHL_data_processed/MD585/MD585_anchor.txt && mkdir -p /shared/CSHL_data_processed/MD585\n",
      "aws s3 cp s3://mousebrainatlas-data/CSHL_data_processed/MD585/MD585_anchor.txt /shared/CSHL_data_processed/MD585/MD585_anchor.txt\n"
     ]
    },
    {
     "name": "stderr",
     "output_type": "stream",
     "text": [
      "No vtk\n",
      "Child returned 0\n",
      "Child returned 0\n",
      "0.42 seconds.\n",
      "Child returned 0\n"
     ]
    },
    {
     "name": "stdout",
     "output_type": "stream",
     "text": [
      "rm -rf /shared/CSHL_data_processed/MD585/MD585_sorted_filenames.txt && mkdir -p /shared/CSHL_data_processed/MD585\n",
      "aws s3 cp s3://mousebrainatlas-data/CSHL_data_processed/MD585/MD585_sorted_filenames.txt /shared/CSHL_data_processed/MD585/MD585_sorted_filenames.txt\n"
     ]
    },
    {
     "name": "stderr",
     "output_type": "stream",
     "text": [
      "Child returned 0\n",
      "0.41 seconds.\n",
      "Child returned 0\n"
     ]
    },
    {
     "name": "stdout",
     "output_type": "stream",
     "text": [
      "rm -rf /shared/CSHL_data_processed/MD585/MD585_alignedTo_MD585-N47-2015.07.16-22.50.52_MD585_3_0141_cropbox.txt && mkdir -p /shared/CSHL_data_processed/MD585\n",
      "aws s3 cp s3://mousebrainatlas-data/CSHL_data_processed/MD585/MD585_alignedTo_MD585-N47-2015.07.16-22.50.52_MD585_3_0141_cropbox.txt /shared/CSHL_data_processed/MD585/MD585_alignedTo_MD585-N47-2015.07.16-22.50.52_MD585_3_0141_cropbox.txt\n"
     ]
    },
    {
     "name": "stderr",
     "output_type": "stream",
     "text": [
      "Child returned 0\n",
      "0.37 seconds.\n",
      "Child returned 0\n"
     ]
    },
    {
     "name": "stdout",
     "output_type": "stream",
     "text": [
      "rm -rf /shared/CSHL_data_processed/MD589/MD589_anchor.txt && mkdir -p /shared/CSHL_data_processed/MD589\n",
      "aws s3 cp s3://mousebrainatlas-data/CSHL_data_processed/MD589/MD589_anchor.txt /shared/CSHL_data_processed/MD589/MD589_anchor.txt\n"
     ]
    },
    {
     "name": "stderr",
     "output_type": "stream",
     "text": [
      "Child returned 0\n",
      "0.41 seconds.\n",
      "Child returned 0\n"
     ]
    },
    {
     "name": "stdout",
     "output_type": "stream",
     "text": [
      "rm -rf /shared/CSHL_data_processed/MD589/MD589_sorted_filenames.txt && mkdir -p /shared/CSHL_data_processed/MD589\n",
      "aws s3 cp s3://mousebrainatlas-data/CSHL_data_processed/MD589/MD589_sorted_filenames.txt /shared/CSHL_data_processed/MD589/MD589_sorted_filenames.txt\n"
     ]
    },
    {
     "name": "stderr",
     "output_type": "stream",
     "text": [
      "Child returned 0\n",
      "0.41 seconds.\n",
      "Child returned 0\n"
     ]
    },
    {
     "name": "stdout",
     "output_type": "stream",
     "text": [
      "rm -rf /shared/CSHL_data_processed/MD589/MD589_alignedTo_MD589-IHC31-2015.07.30-23.26.22_MD589_1_0091_cropbox.txt && mkdir -p /shared/CSHL_data_processed/MD589\n",
      "aws s3 cp s3://mousebrainatlas-data/CSHL_data_processed/MD589/MD589_alignedTo_MD589-IHC31-2015.07.30-23.26.22_MD589_1_0091_cropbox.txt /shared/CSHL_data_processed/MD589/MD589_alignedTo_MD589-IHC31-2015.07.30-23.26.22_MD589_1_0091_cropbox.txt\n"
     ]
    },
    {
     "name": "stderr",
     "output_type": "stream",
     "text": [
      "Child returned 0\n",
      "0.45 seconds.\n",
      "Child returned 0\n"
     ]
    },
    {
     "name": "stdout",
     "output_type": "stream",
     "text": [
      "rm -rf /shared/CSHL_data_processed/MD590/MD590_anchor.txt && mkdir -p /shared/CSHL_data_processed/MD590\n",
      "aws s3 cp s3://mousebrainatlas-data/CSHL_data_processed/MD590/MD590_anchor.txt /shared/CSHL_data_processed/MD590/MD590_anchor.txt\n"
     ]
    },
    {
     "name": "stderr",
     "output_type": "stream",
     "text": [
      "Child returned 0\n",
      "0.41 seconds.\n",
      "Child returned 0\n"
     ]
    },
    {
     "name": "stdout",
     "output_type": "stream",
     "text": [
      "rm -rf /shared/CSHL_data_processed/MD590/MD590_sorted_filenames.txt && mkdir -p /shared/CSHL_data_processed/MD590\n",
      "aws s3 cp s3://mousebrainatlas-data/CSHL_data_processed/MD590/MD590_sorted_filenames.txt /shared/CSHL_data_processed/MD590/MD590_sorted_filenames.txt\n"
     ]
    },
    {
     "name": "stderr",
     "output_type": "stream",
     "text": [
      "Child returned 0\n",
      "0.41 seconds.\n",
      "Child returned 0\n"
     ]
    },
    {
     "name": "stdout",
     "output_type": "stream",
     "text": [
      "rm -rf /shared/CSHL_data_processed/MD590/MD590_alignedTo_MD590-N47-2015.09.12-05.32.06_MD590_2_0140_cropbox.txt && mkdir -p /shared/CSHL_data_processed/MD590\n",
      "aws s3 cp s3://mousebrainatlas-data/CSHL_data_processed/MD590/MD590_alignedTo_MD590-N47-2015.09.12-05.32.06_MD590_2_0140_cropbox.txt /shared/CSHL_data_processed/MD590/MD590_alignedTo_MD590-N47-2015.09.12-05.32.06_MD590_2_0140_cropbox.txt\n"
     ]
    },
    {
     "name": "stderr",
     "output_type": "stream",
     "text": [
      "Child returned 0\n",
      "0.38 seconds.\n",
      "Child returned 0\n"
     ]
    },
    {
     "name": "stdout",
     "output_type": "stream",
     "text": [
      "rm -rf /shared/CSHL_data_processed/MD591/MD591_anchor.txt && mkdir -p /shared/CSHL_data_processed/MD591\n",
      "aws s3 cp s3://mousebrainatlas-data/CSHL_data_processed/MD591/MD591_anchor.txt /shared/CSHL_data_processed/MD591/MD591_anchor.txt\n"
     ]
    },
    {
     "name": "stderr",
     "output_type": "stream",
     "text": [
      "Child returned 0\n",
      "0.38 seconds.\n",
      "Child returned 0\n"
     ]
    },
    {
     "name": "stdout",
     "output_type": "stream",
     "text": [
      "rm -rf /shared/CSHL_data_processed/MD591/MD591_sorted_filenames.txt && mkdir -p /shared/CSHL_data_processed/MD591\n",
      "aws s3 cp s3://mousebrainatlas-data/CSHL_data_processed/MD591/MD591_sorted_filenames.txt /shared/CSHL_data_processed/MD591/MD591_sorted_filenames.txt\n"
     ]
    },
    {
     "name": "stderr",
     "output_type": "stream",
     "text": [
      "Child returned 0\n",
      "0.79 seconds.\n",
      "Child returned 0\n"
     ]
    },
    {
     "name": "stdout",
     "output_type": "stream",
     "text": [
      "rm -rf /shared/CSHL_data_processed/MD591/MD591_alignedTo_MD591-N57-2015.09.21-17.13.29_MD591_1_0169_cropbox.txt && mkdir -p /shared/CSHL_data_processed/MD591\n",
      "aws s3 cp s3://mousebrainatlas-data/CSHL_data_processed/MD591/MD591_alignedTo_MD591-N57-2015.09.21-17.13.29_MD591_1_0169_cropbox.txt /shared/CSHL_data_processed/MD591/MD591_alignedTo_MD591-N57-2015.09.21-17.13.29_MD591_1_0169_cropbox.txt\n"
     ]
    },
    {
     "name": "stderr",
     "output_type": "stream",
     "text": [
      "Child returned 0\n",
      "0.36 seconds.\n",
      "Child returned 0\n"
     ]
    },
    {
     "name": "stdout",
     "output_type": "stream",
     "text": [
      "rm -rf /shared/CSHL_data_processed/MD592/MD592_anchor.txt && mkdir -p /shared/CSHL_data_processed/MD592\n",
      "aws s3 cp s3://mousebrainatlas-data/CSHL_data_processed/MD592/MD592_anchor.txt /shared/CSHL_data_processed/MD592/MD592_anchor.txt\n"
     ]
    },
    {
     "name": "stderr",
     "output_type": "stream",
     "text": [
      "Child returned 0\n",
      "0.41 seconds.\n",
      "Child returned 0\n"
     ]
    },
    {
     "name": "stdout",
     "output_type": "stream",
     "text": [
      "rm -rf /shared/CSHL_data_processed/MD592/MD592_sorted_filenames.txt && mkdir -p /shared/CSHL_data_processed/MD592\n",
      "aws s3 cp s3://mousebrainatlas-data/CSHL_data_processed/MD592/MD592_sorted_filenames.txt /shared/CSHL_data_processed/MD592/MD592_sorted_filenames.txt\n"
     ]
    },
    {
     "name": "stderr",
     "output_type": "stream",
     "text": [
      "Child returned 0\n",
      "0.42 seconds.\n",
      "Child returned 0\n"
     ]
    },
    {
     "name": "stdout",
     "output_type": "stream",
     "text": [
      "rm -rf /shared/CSHL_data_processed/MD592/MD592_alignedTo_MD592-IHC59-2015.08.26-00.06.25_MD592_2_0176_cropbox.txt && mkdir -p /shared/CSHL_data_processed/MD592\n",
      "aws s3 cp s3://mousebrainatlas-data/CSHL_data_processed/MD592/MD592_alignedTo_MD592-IHC59-2015.08.26-00.06.25_MD592_2_0176_cropbox.txt /shared/CSHL_data_processed/MD592/MD592_alignedTo_MD592-IHC59-2015.08.26-00.06.25_MD592_2_0176_cropbox.txt\n"
     ]
    },
    {
     "name": "stderr",
     "output_type": "stream",
     "text": [
      "Child returned 0\n",
      "0.41 seconds.\n",
      "Child returned 0\n"
     ]
    },
    {
     "name": "stdout",
     "output_type": "stream",
     "text": [
      "rm -rf /shared/CSHL_data_processed/MD593/MD593_anchor.txt && mkdir -p /shared/CSHL_data_processed/MD593\n",
      "aws s3 cp s3://mousebrainatlas-data/CSHL_data_processed/MD593/MD593_anchor.txt /shared/CSHL_data_processed/MD593/MD593_anchor.txt\n"
     ]
    },
    {
     "name": "stderr",
     "output_type": "stream",
     "text": [
      "Child returned 0\n",
      "0.36 seconds.\n",
      "Child returned 0\n"
     ]
    },
    {
     "name": "stdout",
     "output_type": "stream",
     "text": [
      "rm -rf /shared/CSHL_data_processed/MD593/MD593_sorted_filenames.txt && mkdir -p /shared/CSHL_data_processed/MD593\n",
      "aws s3 cp s3://mousebrainatlas-data/CSHL_data_processed/MD593/MD593_sorted_filenames.txt /shared/CSHL_data_processed/MD593/MD593_sorted_filenames.txt\n"
     ]
    },
    {
     "name": "stderr",
     "output_type": "stream",
     "text": [
      "Child returned 0\n",
      "0.39 seconds.\n",
      "Child returned 0\n"
     ]
    },
    {
     "name": "stdout",
     "output_type": "stream",
     "text": [
      "rm -rf /shared/CSHL_data_processed/MD593/MD593_alignedTo_MD593-IHC54-2015.08.25-17.40.32_MD593_2_0161_cropbox.txt && mkdir -p /shared/CSHL_data_processed/MD593\n",
      "aws s3 cp s3://mousebrainatlas-data/CSHL_data_processed/MD593/MD593_alignedTo_MD593-IHC54-2015.08.25-17.40.32_MD593_2_0161_cropbox.txt /shared/CSHL_data_processed/MD593/MD593_alignedTo_MD593-IHC54-2015.08.25-17.40.32_MD593_2_0161_cropbox.txt\n"
     ]
    },
    {
     "name": "stderr",
     "output_type": "stream",
     "text": [
      "Child returned 0\n",
      "0.39 seconds.\n",
      "Child returned 0\n"
     ]
    },
    {
     "name": "stdout",
     "output_type": "stream",
     "text": [
      "rm -rf /shared/CSHL_data_processed/MD594/MD594_anchor.txt && mkdir -p /shared/CSHL_data_processed/MD594\n",
      "aws s3 cp s3://mousebrainatlas-data/CSHL_data_processed/MD594/MD594_anchor.txt /shared/CSHL_data_processed/MD594/MD594_anchor.txt\n"
     ]
    },
    {
     "name": "stderr",
     "output_type": "stream",
     "text": [
      "Child returned 0\n",
      "0.36 seconds.\n",
      "Child returned 0\n"
     ]
    },
    {
     "name": "stdout",
     "output_type": "stream",
     "text": [
      "rm -rf /shared/CSHL_data_processed/MD594/MD594_sorted_filenames.txt && mkdir -p /shared/CSHL_data_processed/MD594\n",
      "aws s3 cp s3://mousebrainatlas-data/CSHL_data_processed/MD594/MD594_sorted_filenames.txt /shared/CSHL_data_processed/MD594/MD594_sorted_filenames.txt\n"
     ]
    },
    {
     "name": "stderr",
     "output_type": "stream",
     "text": [
      "Child returned 0\n",
      "0.41 seconds.\n",
      "Child returned 0\n"
     ]
    },
    {
     "name": "stdout",
     "output_type": "stream",
     "text": [
      "rm -rf /shared/CSHL_data_processed/MD594/MD594_alignedTo_MD594-IHC58-2015.08.26-18.48.50_MD594_1_0172_cropbox.txt && mkdir -p /shared/CSHL_data_processed/MD594\n",
      "aws s3 cp s3://mousebrainatlas-data/CSHL_data_processed/MD594/MD594_alignedTo_MD594-IHC58-2015.08.26-18.48.50_MD594_1_0172_cropbox.txt /shared/CSHL_data_processed/MD594/MD594_alignedTo_MD594-IHC58-2015.08.26-18.48.50_MD594_1_0172_cropbox.txt\n"
     ]
    },
    {
     "name": "stderr",
     "output_type": "stream",
     "text": [
      "Child returned 0\n",
      "0.41 seconds.\n",
      "Child returned 0\n"
     ]
    },
    {
     "name": "stdout",
     "output_type": "stream",
     "text": [
      "rm -rf /shared/CSHL_data_processed/MD595/MD595_anchor.txt && mkdir -p /shared/CSHL_data_processed/MD595\n",
      "aws s3 cp s3://mousebrainatlas-data/CSHL_data_processed/MD595/MD595_anchor.txt /shared/CSHL_data_processed/MD595/MD595_anchor.txt\n"
     ]
    },
    {
     "name": "stderr",
     "output_type": "stream",
     "text": [
      "Child returned 0\n",
      "0.36 seconds.\n",
      "Child returned 0\n"
     ]
    },
    {
     "name": "stdout",
     "output_type": "stream",
     "text": [
      "rm -rf /shared/CSHL_data_processed/MD595/MD595_sorted_filenames.txt && mkdir -p /shared/CSHL_data_processed/MD595\n",
      "aws s3 cp s3://mousebrainatlas-data/CSHL_data_processed/MD595/MD595_sorted_filenames.txt /shared/CSHL_data_processed/MD595/MD595_sorted_filenames.txt\n"
     ]
    },
    {
     "name": "stderr",
     "output_type": "stream",
     "text": [
      "Child returned 0\n",
      "0.45 seconds.\n",
      "Child returned 0\n"
     ]
    },
    {
     "name": "stdout",
     "output_type": "stream",
     "text": [
      "rm -rf /shared/CSHL_data_processed/MD595/MD595_alignedTo_MD595-IHC48-2015.09.15-18.38.44_MD595_1_0142_cropbox.txt && mkdir -p /shared/CSHL_data_processed/MD595\n",
      "aws s3 cp s3://mousebrainatlas-data/CSHL_data_processed/MD595/MD595_alignedTo_MD595-IHC48-2015.09.15-18.38.44_MD595_1_0142_cropbox.txt /shared/CSHL_data_processed/MD595/MD595_alignedTo_MD595-IHC48-2015.09.15-18.38.44_MD595_1_0142_cropbox.txt\n"
     ]
    },
    {
     "name": "stderr",
     "output_type": "stream",
     "text": [
      "Child returned 0\n",
      "0.41 seconds.\n",
      "Child returned 0\n"
     ]
    },
    {
     "name": "stdout",
     "output_type": "stream",
     "text": [
      "rm -rf /shared/CSHL_data_processed/MD598/MD598_anchor.txt && mkdir -p /shared/CSHL_data_processed/MD598\n",
      "aws s3 cp s3://mousebrainatlas-data/CSHL_data_processed/MD598/MD598_anchor.txt /shared/CSHL_data_processed/MD598/MD598_anchor.txt\n"
     ]
    },
    {
     "name": "stderr",
     "output_type": "stream",
     "text": [
      "Child returned 0\n",
      "0.41 seconds.\n",
      "Child returned 0\n"
     ]
    },
    {
     "name": "stdout",
     "output_type": "stream",
     "text": [
      "rm -rf /shared/CSHL_data_processed/MD598/MD598_sorted_filenames.txt && mkdir -p /shared/CSHL_data_processed/MD598\n",
      "aws s3 cp s3://mousebrainatlas-data/CSHL_data_processed/MD598/MD598_sorted_filenames.txt /shared/CSHL_data_processed/MD598/MD598_sorted_filenames.txt\n"
     ]
    },
    {
     "name": "stderr",
     "output_type": "stream",
     "text": [
      "Child returned 0\n",
      "0.41 seconds.\n",
      "Child returned 0\n"
     ]
    },
    {
     "name": "stdout",
     "output_type": "stream",
     "text": [
      "rm -rf /shared/CSHL_data_processed/MD598/MD598_alignedTo_MD598-N42-2015.09.29-19.26.12_MD598_2_0125_cropbox.txt && mkdir -p /shared/CSHL_data_processed/MD598\n",
      "aws s3 cp s3://mousebrainatlas-data/CSHL_data_processed/MD598/MD598_alignedTo_MD598-N42-2015.09.29-19.26.12_MD598_2_0125_cropbox.txt /shared/CSHL_data_processed/MD598/MD598_alignedTo_MD598-N42-2015.09.29-19.26.12_MD598_2_0125_cropbox.txt\n"
     ]
    },
    {
     "name": "stderr",
     "output_type": "stream",
     "text": [
      "Child returned 0\n",
      "0.41 seconds.\n",
      "Child returned 0\n"
     ]
    },
    {
     "name": "stdout",
     "output_type": "stream",
     "text": [
      "rm -rf /shared/CSHL_data_processed/MD599/MD599_anchor.txt && mkdir -p /shared/CSHL_data_processed/MD599\n",
      "aws s3 cp s3://mousebrainatlas-data/CSHL_data_processed/MD599/MD599_anchor.txt /shared/CSHL_data_processed/MD599/MD599_anchor.txt\n"
     ]
    },
    {
     "name": "stderr",
     "output_type": "stream",
     "text": [
      "Child returned 0\n",
      "0.45 seconds.\n",
      "Child returned 0\n"
     ]
    },
    {
     "name": "stdout",
     "output_type": "stream",
     "text": [
      "rm -rf /shared/CSHL_data_processed/MD599/MD599_sorted_filenames.txt && mkdir -p /shared/CSHL_data_processed/MD599\n",
      "aws s3 cp s3://mousebrainatlas-data/CSHL_data_processed/MD599/MD599_sorted_filenames.txt /shared/CSHL_data_processed/MD599/MD599_sorted_filenames.txt\n"
     ]
    },
    {
     "name": "stderr",
     "output_type": "stream",
     "text": [
      "Child returned 0\n",
      "0.46 seconds.\n",
      "Child returned 0\n"
     ]
    },
    {
     "name": "stdout",
     "output_type": "stream",
     "text": [
      "rm -rf /shared/CSHL_data_processed/MD599/MD599_alignedTo_MD599-IHC40-2015.10.03-06.04.31_MD599_2_0119_cropbox.txt && mkdir -p /shared/CSHL_data_processed/MD599\n",
      "aws s3 cp s3://mousebrainatlas-data/CSHL_data_processed/MD599/MD599_alignedTo_MD599-IHC40-2015.10.03-06.04.31_MD599_2_0119_cropbox.txt /shared/CSHL_data_processed/MD599/MD599_alignedTo_MD599-IHC40-2015.10.03-06.04.31_MD599_2_0119_cropbox.txt\n"
     ]
    },
    {
     "name": "stderr",
     "output_type": "stream",
     "text": [
      "Child returned 0\n",
      "0.41 seconds.\n",
      "Child returned 0\n"
     ]
    },
    {
     "name": "stdout",
     "output_type": "stream",
     "text": [
      "rm -rf /shared/CSHL_data_processed/MD602/MD602_anchor.txt && mkdir -p /shared/CSHL_data_processed/MD602\n",
      "aws s3 cp s3://mousebrainatlas-data/CSHL_data_processed/MD602/MD602_anchor.txt /shared/CSHL_data_processed/MD602/MD602_anchor.txt\n"
     ]
    },
    {
     "name": "stderr",
     "output_type": "stream",
     "text": [
      "Child returned 0\n",
      "0.41 seconds.\n",
      "Child returned 0\n"
     ]
    },
    {
     "name": "stdout",
     "output_type": "stream",
     "text": [
      "rm -rf /shared/CSHL_data_processed/MD602/MD602_sorted_filenames.txt && mkdir -p /shared/CSHL_data_processed/MD602\n",
      "aws s3 cp s3://mousebrainatlas-data/CSHL_data_processed/MD602/MD602_sorted_filenames.txt /shared/CSHL_data_processed/MD602/MD602_sorted_filenames.txt\n"
     ]
    },
    {
     "name": "stderr",
     "output_type": "stream",
     "text": [
      "Child returned 0\n",
      "0.41 seconds.\n",
      "Child returned 0\n"
     ]
    },
    {
     "name": "stdout",
     "output_type": "stream",
     "text": [
      "rm -rf /shared/CSHL_data_processed/MD602/MD602_alignedTo_MD602-N49-2015.12.01-18.41.46_MD602_2_0146_cropbox.txt && mkdir -p /shared/CSHL_data_processed/MD602\n",
      "aws s3 cp s3://mousebrainatlas-data/CSHL_data_processed/MD602/MD602_alignedTo_MD602-N49-2015.12.01-18.41.46_MD602_2_0146_cropbox.txt /shared/CSHL_data_processed/MD602/MD602_alignedTo_MD602-N49-2015.12.01-18.41.46_MD602_2_0146_cropbox.txt\n"
     ]
    },
    {
     "name": "stderr",
     "output_type": "stream",
     "text": [
      "Child returned 0\n",
      "0.41 seconds.\n",
      "Child returned 0\n"
     ]
    },
    {
     "name": "stdout",
     "output_type": "stream",
     "text": [
      "rm -rf /shared/CSHL_data_processed/MD603/MD603_anchor.txt && mkdir -p /shared/CSHL_data_processed/MD603\n",
      "aws s3 cp s3://mousebrainatlas-data/CSHL_data_processed/MD603/MD603_anchor.txt /shared/CSHL_data_processed/MD603/MD603_anchor.txt\n"
     ]
    },
    {
     "name": "stderr",
     "output_type": "stream",
     "text": [
      "Child returned 0\n",
      "0.41 seconds.\n",
      "Child returned 0\n"
     ]
    },
    {
     "name": "stdout",
     "output_type": "stream",
     "text": [
      "rm -rf /shared/CSHL_data_processed/MD603/MD603_sorted_filenames.txt && mkdir -p /shared/CSHL_data_processed/MD603\n",
      "aws s3 cp s3://mousebrainatlas-data/CSHL_data_processed/MD603/MD603_sorted_filenames.txt /shared/CSHL_data_processed/MD603/MD603_sorted_filenames.txt\n"
     ]
    },
    {
     "name": "stderr",
     "output_type": "stream",
     "text": [
      "Child returned 0\n",
      "0.41 seconds.\n",
      "Child returned 0\n"
     ]
    },
    {
     "name": "stdout",
     "output_type": "stream",
     "text": [
      "rm -rf /shared/CSHL_data_processed/MD603/MD603_alignedTo_MD603-N60-2015.12.03-23.57.05_MD603_2_0179_cropbox.txt && mkdir -p /shared/CSHL_data_processed/MD603\n",
      "aws s3 cp s3://mousebrainatlas-data/CSHL_data_processed/MD603/MD603_alignedTo_MD603-N60-2015.12.03-23.57.05_MD603_2_0179_cropbox.txt /shared/CSHL_data_processed/MD603/MD603_alignedTo_MD603-N60-2015.12.03-23.57.05_MD603_2_0179_cropbox.txt\n"
     ]
    },
    {
     "name": "stderr",
     "output_type": "stream",
     "text": [
      "Child returned 0\n",
      "0.41 seconds.\n",
      "Child returned 0\n"
     ]
    },
    {
     "name": "stdout",
     "output_type": "stream",
     "text": [
      "rm -rf /shared/CSHL_data_processed/MD635/MD635_anchor.txt && mkdir -p /shared/CSHL_data_processed/MD635\n",
      "aws s3 cp s3://mousebrainatlas-data/CSHL_data_processed/MD635/MD635_anchor.txt /shared/CSHL_data_processed/MD635/MD635_anchor.txt\n"
     ]
    },
    {
     "name": "stderr",
     "output_type": "stream",
     "text": [
      "Child returned 0\n",
      "0.36 seconds.\n",
      "Child returned 0\n"
     ]
    },
    {
     "name": "stdout",
     "output_type": "stream",
     "text": [
      "rm -rf /shared/CSHL_data_processed/MD635/MD635_sorted_filenames.txt && mkdir -p /shared/CSHL_data_processed/MD635\n",
      "aws s3 cp s3://mousebrainatlas-data/CSHL_data_processed/MD635/MD635_sorted_filenames.txt /shared/CSHL_data_processed/MD635/MD635_sorted_filenames.txt\n"
     ]
    },
    {
     "name": "stderr",
     "output_type": "stream",
     "text": [
      "Child returned 0\n",
      "0.47 seconds.\n",
      "Child returned 0\n"
     ]
    },
    {
     "name": "stdout",
     "output_type": "stream",
     "text": [
      "rm -rf /shared/CSHL_data_processed/MD635/MD635_alignedTo_MD635-F63-2016.05.19-08.39.03_MD635_2_0188_cropbox.txt && mkdir -p /shared/CSHL_data_processed/MD635\n",
      "aws s3 cp s3://mousebrainatlas-data/CSHL_data_processed/MD635/MD635_alignedTo_MD635-F63-2016.05.19-08.39.03_MD635_2_0188_cropbox.txt /shared/CSHL_data_processed/MD635/MD635_alignedTo_MD635-F63-2016.05.19-08.39.03_MD635_2_0188_cropbox.txt\n"
     ]
    },
    {
     "name": "stderr",
     "output_type": "stream",
     "text": [
      "Child returned 1\n",
      "0.35 seconds.\n",
      "File does not exist: /shared/CSHL_data_processed/MD635/MD635_alignedTo_MD635-F63-2016.05.19-08.39.03_MD635_2_0188_cropbox.txt\n",
      "Child returned 0\n"
     ]
    },
    {
     "name": "stdout",
     "output_type": "stream",
     "text": [
      "rm -rf /shared/CSHL_data_processed/MD635/MD635_alignedTo_MD635-F63-2016.05.19-08.39.03_MD635_2_0188_cropbox.txt && mkdir -p /shared/CSHL_data_processed/MD635\n",
      "aws s3 cp s3://mousebrainatlas-data/CSHL_data_processed/MD635/MD635_alignedTo_MD635-F63-2016.05.19-08.39.03_MD635_2_0188_cropbox.txt /shared/CSHL_data_processed/MD635/MD635_alignedTo_MD635-F63-2016.05.19-08.39.03_MD635_2_0188_cropbox.txt\n"
     ]
    },
    {
     "name": "stderr",
     "output_type": "stream",
     "text": [
      "Child returned 1\n",
      "0.34 seconds.\n",
      "File does not exist: /shared/CSHL_data_processed/MD635/MD635_alignedTo_MD635-F63-2016.05.19-08.39.03_MD635_2_0188_cropbox.txt\n",
      "Child returned 0\n"
     ]
    },
    {
     "name": "stdout",
     "output_type": "stream",
     "text": [
      "rm -rf /shared/CSHL_data_processed/MD653/MD653_anchor.txt && mkdir -p /shared/CSHL_data_processed/MD653\n",
      "aws s3 cp s3://mousebrainatlas-data/CSHL_data_processed/MD653/MD653_anchor.txt /shared/CSHL_data_processed/MD653/MD653_anchor.txt\n"
     ]
    },
    {
     "name": "stderr",
     "output_type": "stream",
     "text": [
      "Child returned 0\n",
      "0.41 seconds.\n",
      "Child returned 0\n"
     ]
    },
    {
     "name": "stdout",
     "output_type": "stream",
     "text": [
      "rm -rf /shared/CSHL_data_processed/MD653/MD653_sorted_filenames.txt && mkdir -p /shared/CSHL_data_processed/MD653\n",
      "aws s3 cp s3://mousebrainatlas-data/CSHL_data_processed/MD653/MD653_sorted_filenames.txt /shared/CSHL_data_processed/MD653/MD653_sorted_filenames.txt\n"
     ]
    },
    {
     "name": "stderr",
     "output_type": "stream",
     "text": [
      "Child returned 0\n",
      "0.40 seconds.\n",
      "Child returned 0\n"
     ]
    },
    {
     "name": "stdout",
     "output_type": "stream",
     "text": [
      "rm -rf /shared/CSHL_data_processed/MD653/MD653_alignedTo_MD653-F64-2016.12.21-12.03.55_MD653_2_0191_cropbox.txt && mkdir -p /shared/CSHL_data_processed/MD653\n",
      "aws s3 cp s3://mousebrainatlas-data/CSHL_data_processed/MD653/MD653_alignedTo_MD653-F64-2016.12.21-12.03.55_MD653_2_0191_cropbox.txt /shared/CSHL_data_processed/MD653/MD653_alignedTo_MD653-F64-2016.12.21-12.03.55_MD653_2_0191_cropbox.txt\n"
     ]
    },
    {
     "name": "stderr",
     "output_type": "stream",
     "text": [
      "Child returned 0\n",
      "0.41 seconds.\n",
      "Child returned 0\n"
     ]
    },
    {
     "name": "stdout",
     "output_type": "stream",
     "text": [
      "rm -rf /shared/CSHL_data_processed/MD652/MD652_anchor.txt && mkdir -p /shared/CSHL_data_processed/MD652\n",
      "aws s3 cp s3://mousebrainatlas-data/CSHL_data_processed/MD652/MD652_anchor.txt /shared/CSHL_data_processed/MD652/MD652_anchor.txt\n"
     ]
    },
    {
     "name": "stderr",
     "output_type": "stream",
     "text": [
      "Child returned 0\n",
      "0.41 seconds.\n",
      "Child returned 0\n"
     ]
    },
    {
     "name": "stdout",
     "output_type": "stream",
     "text": [
      "rm -rf /shared/CSHL_data_processed/MD652/MD652_sorted_filenames.txt && mkdir -p /shared/CSHL_data_processed/MD652\n",
      "aws s3 cp s3://mousebrainatlas-data/CSHL_data_processed/MD652/MD652_sorted_filenames.txt /shared/CSHL_data_processed/MD652/MD652_sorted_filenames.txt\n"
     ]
    },
    {
     "name": "stderr",
     "output_type": "stream",
     "text": [
      "Child returned 0\n",
      "0.41 seconds.\n",
      "Child returned 0\n"
     ]
    },
    {
     "name": "stdout",
     "output_type": "stream",
     "text": [
      "rm -rf /shared/CSHL_data_processed/MD652/MD652_alignedTo_MD652-F45-2016.12.17-05.56.31_MD652_2_0134_cropbox.txt && mkdir -p /shared/CSHL_data_processed/MD652\n",
      "aws s3 cp s3://mousebrainatlas-data/CSHL_data_processed/MD652/MD652_alignedTo_MD652-F45-2016.12.17-05.56.31_MD652_2_0134_cropbox.txt /shared/CSHL_data_processed/MD652/MD652_alignedTo_MD652-F45-2016.12.17-05.56.31_MD652_2_0134_cropbox.txt\n"
     ]
    },
    {
     "name": "stderr",
     "output_type": "stream",
     "text": [
      "Child returned 0\n",
      "0.37 seconds.\n",
      "Child returned 0\n"
     ]
    },
    {
     "name": "stdout",
     "output_type": "stream",
     "text": [
      "rm -rf /shared/CSHL_data_processed/MD642/MD642_anchor.txt && mkdir -p /shared/CSHL_data_processed/MD642\n",
      "aws s3 cp s3://mousebrainatlas-data/CSHL_data_processed/MD642/MD642_anchor.txt /shared/CSHL_data_processed/MD642/MD642_anchor.txt\n"
     ]
    },
    {
     "name": "stderr",
     "output_type": "stream",
     "text": [
      "Child returned 0\n",
      "0.37 seconds.\n",
      "Child returned 0\n"
     ]
    },
    {
     "name": "stdout",
     "output_type": "stream",
     "text": [
      "rm -rf /shared/CSHL_data_processed/MD642/MD642_sorted_filenames.txt && mkdir -p /shared/CSHL_data_processed/MD642\n",
      "aws s3 cp s3://mousebrainatlas-data/CSHL_data_processed/MD642/MD642_sorted_filenames.txt /shared/CSHL_data_processed/MD642/MD642_sorted_filenames.txt\n"
     ]
    },
    {
     "name": "stderr",
     "output_type": "stream",
     "text": [
      "Child returned 0\n",
      "0.46 seconds.\n",
      "Child returned 0\n"
     ]
    },
    {
     "name": "stdout",
     "output_type": "stream",
     "text": [
      "rm -rf /shared/CSHL_data_processed/MD642/MD642_alignedTo_MD642-F53-2017.01.14-12.23.43_MD642_1_0157_cropbox.txt && mkdir -p /shared/CSHL_data_processed/MD642\n",
      "aws s3 cp s3://mousebrainatlas-data/CSHL_data_processed/MD642/MD642_alignedTo_MD642-F53-2017.01.14-12.23.43_MD642_1_0157_cropbox.txt /shared/CSHL_data_processed/MD642/MD642_alignedTo_MD642-F53-2017.01.14-12.23.43_MD642_1_0157_cropbox.txt\n"
     ]
    },
    {
     "name": "stderr",
     "output_type": "stream",
     "text": [
      "Child returned 0\n",
      "0.36 seconds.\n",
      "Child returned 0\n"
     ]
    },
    {
     "name": "stdout",
     "output_type": "stream",
     "text": [
      "rm -rf /shared/CSHL_data_processed/MD657/MD657_anchor.txt && mkdir -p /shared/CSHL_data_processed/MD657\n",
      "aws s3 cp s3://mousebrainatlas-data/CSHL_data_processed/MD657/MD657_anchor.txt /shared/CSHL_data_processed/MD657/MD657_anchor.txt\n"
     ]
    },
    {
     "name": "stderr",
     "output_type": "stream",
     "text": [
      "Child returned 0\n",
      "0.39 seconds.\n",
      "Child returned 0\n"
     ]
    },
    {
     "name": "stdout",
     "output_type": "stream",
     "text": [
      "rm -rf /shared/CSHL_data_processed/MD657/MD657_sorted_filenames.txt && mkdir -p /shared/CSHL_data_processed/MD657\n",
      "aws s3 cp s3://mousebrainatlas-data/CSHL_data_processed/MD657/MD657_sorted_filenames.txt /shared/CSHL_data_processed/MD657/MD657_sorted_filenames.txt\n"
     ]
    },
    {
     "name": "stderr",
     "output_type": "stream",
     "text": [
      "Child returned 0\n",
      "0.46 seconds.\n",
      "Child returned 0\n"
     ]
    },
    {
     "name": "stdout",
     "output_type": "stream",
     "text": [
      "rm -rf /shared/CSHL_data_processed/MD657/MD657_alignedTo_MD657-F44-2017.02.18-06.06.27_MD657_1_0130_cropbox.txt && mkdir -p /shared/CSHL_data_processed/MD657\n",
      "aws s3 cp s3://mousebrainatlas-data/CSHL_data_processed/MD657/MD657_alignedTo_MD657-F44-2017.02.18-06.06.27_MD657_1_0130_cropbox.txt /shared/CSHL_data_processed/MD657/MD657_alignedTo_MD657-F44-2017.02.18-06.06.27_MD657_1_0130_cropbox.txt\n"
     ]
    },
    {
     "name": "stderr",
     "output_type": "stream",
     "text": [
      "Child returned 0\n",
      "0.41 seconds.\n",
      "Child returned 0\n"
     ]
    },
    {
     "name": "stdout",
     "output_type": "stream",
     "text": [
      "rm -rf /shared/CSHL_data_processed/MD658/MD658_anchor.txt && mkdir -p /shared/CSHL_data_processed/MD658\n",
      "aws s3 cp s3://mousebrainatlas-data/CSHL_data_processed/MD658/MD658_anchor.txt /shared/CSHL_data_processed/MD658/MD658_anchor.txt\n"
     ]
    },
    {
     "name": "stderr",
     "output_type": "stream",
     "text": [
      "Child returned 0\n",
      "0.39 seconds.\n",
      "Child returned 0\n"
     ]
    },
    {
     "name": "stdout",
     "output_type": "stream",
     "text": [
      "rm -rf /shared/CSHL_data_processed/MD658/MD658_sorted_filenames.txt && mkdir -p /shared/CSHL_data_processed/MD658\n",
      "aws s3 cp s3://mousebrainatlas-data/CSHL_data_processed/MD658/MD658_sorted_filenames.txt /shared/CSHL_data_processed/MD658/MD658_sorted_filenames.txt\n"
     ]
    },
    {
     "name": "stderr",
     "output_type": "stream",
     "text": [
      "Child returned 0\n",
      "0.45 seconds.\n",
      "Child returned 0\n"
     ]
    },
    {
     "name": "stdout",
     "output_type": "stream",
     "text": [
      "rm -rf /shared/CSHL_data_processed/MD658/MD658_alignedTo_MD658-N58-2017.03.31-19.59.31_MD658_2_0173_cropbox.txt && mkdir -p /shared/CSHL_data_processed/MD658\n",
      "aws s3 cp s3://mousebrainatlas-data/CSHL_data_processed/MD658/MD658_alignedTo_MD658-N58-2017.03.31-19.59.31_MD658_2_0173_cropbox.txt /shared/CSHL_data_processed/MD658/MD658_alignedTo_MD658-N58-2017.03.31-19.59.31_MD658_2_0173_cropbox.txt\n"
     ]
    },
    {
     "name": "stderr",
     "output_type": "stream",
     "text": [
      "Child returned 0\n",
      "0.47 seconds.\n"
     ]
    }
   ],
   "source": [
    "%load_ext autoreload\n",
    "%autoreload 2\n",
    "\n",
    "import os\n",
    "import time\n",
    "import sys\n",
    "\n",
    "sys.path.append(os.path.join(os.environ['REPO_DIR'], 'utilities'))\n",
    "from utilities2015 import *\n",
    "from metadata import *\n",
    "from data_manager import *\n",
    "from distributed_utilities import *\n",
    "from preprocess_utilities import *\n",
    "from cell_utilities import *"
   ]
  },
  {
   "cell_type": "code",
   "execution_count": 1,
   "metadata": {
    "collapsed": true
   },
   "outputs": [],
   "source": [
    "# run_distributed(command='sudo apt-get install -y \\\n",
    "#   build-essential \\\n",
    "#   cython \\\n",
    "#   libmysqlclient-dev \\\n",
    "#   libhdf5-dev \\\n",
    "#   libxml2-dev \\\n",
    "#   libxslt1-dev \\\n",
    "#   openjdk-8-jdk \\\n",
    "#   python-dev \\\n",
    "#     python-h5py \\\n",
    "#     python-mysqldb \\\n",
    "#     python-vigra \\\n",
    "#   python-wxgtk3.0 \\\n",
    "#   python-zmq',\n",
    "#                     argument_type='single',\n",
    "#                    cluster_size=16)\n",
    "\n",
    "# wait_qsub_complete()\n"
   ]
  },
  {
   "cell_type": "code",
   "execution_count": 2,
   "metadata": {
    "collapsed": true
   },
   "outputs": [],
   "source": [
    "# run_distributed(command='cd /shared/CellProfiler/; sudo pip install --editable .',\n",
    "#                     argument_type='single',\n",
    "#                    cluster_size=16)\n",
    "\n",
    "# wait_qsub_complete()"
   ]
  },
  {
   "cell_type": "code",
   "execution_count": 4,
   "metadata": {},
   "outputs": [
    {
     "name": "stdout",
     "output_type": "stream",
     "text": [
      "rm -rf /shared/CSHL_cells_v2/SegmentCells.cppipe && mkdir -p /shared/CSHL_cells_v2\n",
      "aws s3 cp s3://mousebrainatlas-data/CSHL_cells_v2/SegmentCells.cppipe /shared/CSHL_cells_v2/SegmentCells.cppipe\n"
     ]
    },
    {
     "name": "stderr",
     "output_type": "stream",
     "text": [
      "Child returned 0\n",
      "Child returned 0\n",
      "1.68 seconds.\n"
     ]
    }
   ],
   "source": [
    "download_from_s3(CELLPROFILER_PIPELINE_FP)"
   ]
  },
  {
   "cell_type": "markdown",
   "metadata": {},
   "source": [
    "# Whole pipeline"
   ]
  },
  {
   "cell_type": "code",
   "execution_count": 54,
   "metadata": {},
   "outputs": [
    {
     "data": {
      "text/plain": [
       "'MD585-IHC36-2015.08.19-13.58.57_MD585_1_0106'"
      ]
     },
     "execution_count": 54,
     "metadata": {},
     "output_type": "execute_result"
    }
   ],
   "source": [
    "valid_filenames[first_idx_among_valid:last_idx_among_valid+1][116]"
   ]
  },
  {
   "cell_type": "code",
   "execution_count": 43,
   "metadata": {},
   "outputs": [
    {
     "name": "stdout",
     "output_type": "stream",
     "text": [
      "rm -rf /shared/CSHL_data_processed/MD635/MD635_alignedTo_MD635-F63-2016.05.19-08.39.03_MD635_2_0188_cropbox.txt && mkdir -p /shared/CSHL_data_processed/MD635\n",
      "aws s3 cp s3://mousebrainatlas-data/CSHL_data_processed/MD635/MD635_alignedTo_MD635-F63-2016.05.19-08.39.03_MD635_2_0188_cropbox.txt /shared/CSHL_data_processed/MD635/MD635_alignedTo_MD635-F63-2016.05.19-08.39.03_MD635_2_0188_cropbox.txt\n"
     ]
    },
    {
     "name": "stderr",
     "output_type": "stream",
     "text": [
      "Child returned 0\n",
      "Child returned 1\n",
      "0.34 seconds.\n",
      "File does not exist: /shared/CSHL_data_processed/MD635/MD635_alignedTo_MD635-F63-2016.05.19-08.39.03_MD635_2_0188_cropbox.txt\n",
      "Child returned 0\n"
     ]
    },
    {
     "name": "stdout",
     "output_type": "stream",
     "text": [
      "rm -rf /shared/CSHL_data_processed/MD635/MD635_alignedTo_MD635-F63-2016.05.19-08.39.03_MD635_2_0188_cropbox.txt && mkdir -p /shared/CSHL_data_processed/MD635\n",
      "aws s3 cp s3://mousebrainatlas-data/CSHL_data_processed/MD635/MD635_alignedTo_MD635-F63-2016.05.19-08.39.03_MD635_2_0188_cropbox.txt /shared/CSHL_data_processed/MD635/MD635_alignedTo_MD635-F63-2016.05.19-08.39.03_MD635_2_0188_cropbox.txt\n"
     ]
    },
    {
     "name": "stderr",
     "output_type": "stream",
     "text": [
      "Child returned 1\n",
      "0.34 seconds.\n",
      "File does not exist: /shared/CSHL_data_processed/MD635/MD635_alignedTo_MD635-F63-2016.05.19-08.39.03_MD635_2_0188_cropbox.txt\n",
      "Detect cells using Cell Profiler ...Child returned 0\n",
      "16 nodes requested, 16 nodes available...Continuing\n"
     ]
    },
    {
     "name": "stdout",
     "output_type": "stream",
     "text": [
      "rm -f ~/stderr_*; rm -f ~/stdout_*\n"
     ]
    },
    {
     "name": "stderr",
     "output_type": "stream",
     "text": [
      "Jobs submitted. Use wait_qsub_complete() to check if they finish.\n",
      "qsub returned.\n",
      "done in 1137.107744 seconds\n",
      "Child returned 0\n",
      "16 nodes requested, 16 nodes available...Continuing\n"
     ]
    },
    {
     "name": "stdout",
     "output_type": "stream",
     "text": [
      "rm -f ~/stderr_*; rm -f ~/stdout_*\n"
     ]
    },
    {
     "name": "stderr",
     "output_type": "stream",
     "text": [
      "Jobs submitted. Use wait_qsub_complete() to check if they finish.\n",
      "qsub returned.\n",
      "Detect cells ...Child returned 0\n",
      "16 nodes requested, 16 nodes available...Continuing\n"
     ]
    },
    {
     "name": "stdout",
     "output_type": "stream",
     "text": [
      "rm -f ~/stderr_*; rm -f ~/stdout_*\n"
     ]
    },
    {
     "name": "stderr",
     "output_type": "stream",
     "text": [
      "Jobs submitted. Use wait_qsub_complete() to check if they finish.\n",
      "qsub returned.\n",
      "done in 719.665955 seconds\n",
      "Child returned 0\n",
      "16 nodes requested, 16 nodes available...Continuing\n"
     ]
    },
    {
     "name": "stdout",
     "output_type": "stream",
     "text": [
      "rm -f ~/stderr_*; rm -f ~/stdout_*\n"
     ]
    },
    {
     "name": "stderr",
     "output_type": "stream",
     "text": [
      "Jobs submitted. Use wait_qsub_complete() to check if they finish.\n"
     ]
    },
    {
     "ename": "KeyboardInterrupt",
     "evalue": "",
     "output_type": "error",
     "traceback": [
      "\u001b[0;31m---------------------------------------------------------------------------\u001b[0m",
      "\u001b[0;31mKeyboardInterrupt\u001b[0m                         Traceback (most recent call last)",
      "\u001b[0;32m<ipython-input-43-677b60aad6ae>\u001b[0m in \u001b[0;36m<module>\u001b[0;34m()\u001b[0m\n\u001b[1;32m     53\u001b[0m                         \u001b[0margument_type\u001b[0m\u001b[0;34m=\u001b[0m\u001b[0;34m'single'\u001b[0m\u001b[0;34m,\u001b[0m\u001b[0;34m\u001b[0m\u001b[0m\n\u001b[1;32m     54\u001b[0m                        cluster_size=16)\n\u001b[0;32m---> 55\u001b[0;31m     \u001b[0mwait_qsub_complete\u001b[0m\u001b[0;34m(\u001b[0m\u001b[0;34m)\u001b[0m\u001b[0;34m\u001b[0m\u001b[0m\n\u001b[0m",
      "\u001b[0;32m/shared/MouseBrainAtlas/utilities/distributed_utilities.py\u001b[0m in \u001b[0;36mwait_qsub_complete\u001b[0;34m(timeout)\u001b[0m\n\u001b[1;32m    322\u001b[0m             \u001b[0msuccess\u001b[0m \u001b[0;34m=\u001b[0m \u001b[0mTrue\u001b[0m\u001b[0;34m\u001b[0m\u001b[0m\n\u001b[1;32m    323\u001b[0m             \u001b[0;32mbreak\u001b[0m\u001b[0;34m\u001b[0m\u001b[0m\n\u001b[0;32m--> 324\u001b[0;31m         \u001b[0mtime\u001b[0m\u001b[0;34m.\u001b[0m\u001b[0msleep\u001b[0m\u001b[0;34m(\u001b[0m\u001b[0;36m5\u001b[0m\u001b[0;34m)\u001b[0m\u001b[0;34m\u001b[0m\u001b[0m\n\u001b[0m\u001b[1;32m    325\u001b[0m \u001b[0;34m\u001b[0m\u001b[0m\n\u001b[1;32m    326\u001b[0m     \u001b[0;32mif\u001b[0m \u001b[0;32mnot\u001b[0m \u001b[0msuccess\u001b[0m\u001b[0;34m:\u001b[0m\u001b[0;34m\u001b[0m\u001b[0m\n",
      "\u001b[0;31mKeyboardInterrupt\u001b[0m: "
     ]
    }
   ],
   "source": [
    "# for stack in all_nissl_stacks:\n",
    "for stack in ['MD585']:\n",
    "    \n",
    "    _, sections_to_filenames = DataManager.load_sorted_filenames(stack=stack)\n",
    "    valid_filenames = [fn for fn in sections_to_filenames.values() if not is_invalid(fn=fn)]\n",
    "\n",
    "    _, _, _, _, first_sec, last_sec = DataManager.load_cropbox(stack=stack)\n",
    "    first_fn = sections_to_filenames[first_sec]\n",
    "    last_fn = sections_to_filenames[last_sec]\n",
    "    first_idx_among_valid = valid_filenames.index(first_fn)\n",
    "    last_idx_among_valid = valid_filenames.index(last_fn)\n",
    "    \n",
    "    # Detect cells.\n",
    "    \n",
    "    t = time.time()\n",
    "    sys.stderr.write('Detect cells using Cell Profiler ...')\n",
    "\n",
    "    script_fp = os.path.join(REPO_DIR, 'cells', 'detect_cells_cellprofiler_v2.py')\n",
    "    \n",
    "    run_distributed(command='ROOT_DIR=/scratch/ %(script_path)s %(stack)s \\'%%(filenames)s\\''%\\\n",
    "                        {'script_path': script_fp, \n",
    "                        'stack': stack},\n",
    "                        kwargs_list={'filenames': valid_filenames[first_idx_among_valid:last_idx_among_valid+1]},\n",
    "                        argument_type='list2',\n",
    "                       cluster_size=16)\n",
    "\n",
    "    wait_qsub_complete()\n",
    "\n",
    "    sys.stderr.write('done in %f seconds\\n' % (time.time() - t)) # 1300 sec / stack\n",
    "\n",
    "    run_distributed(command='rm -r /scratch/*',\n",
    "                        argument_type='single',\n",
    "                       cluster_size=16)\n",
    "    wait_qsub_complete()\n",
    "    \n",
    "    # Generate cell auxiliary data.\n",
    "\n",
    "    t = time.time()\n",
    "    sys.stderr.write('Detect cells ...')\n",
    "\n",
    "    script_fp = os.path.join(REPO_DIR, 'cells', 'detect_cells.py')\n",
    "    \n",
    "    run_distributed(command='ROOT_DIR=/scratch/ %(script_path)s %(stack)s \\'%%(filenames)s\\''%\\\n",
    "                        {'script_path': script_fp, \n",
    "                        'stack': stack},\n",
    "                        kwargs_list={'filenames': valid_filenames[first_idx_among_valid:last_idx_among_valid+1]},\n",
    "                        argument_type='list2',\n",
    "                       cluster_size=16)\n",
    "\n",
    "    wait_qsub_complete()\n",
    "\n",
    "    sys.stderr.write('done in %f seconds\\n' % (time.time() - t)) # 271 sec / stack\n",
    "    \n",
    "    run_distributed(command='rm -r /scratch/*',\n",
    "                        argument_type='single',\n",
    "                       cluster_size=16)\n",
    "    wait_qsub_complete()"
   ]
  },
  {
   "cell_type": "markdown",
   "metadata": {},
   "source": [
    "# Step 1: Run cellprofiler"
   ]
  },
  {
   "cell_type": "code",
   "execution_count": 30,
   "metadata": {
    "collapsed": true
   },
   "outputs": [],
   "source": [
    "script_fp = os.path.join(REPO_DIR, 'cells', 'detect_cells_cellprofiler_v2.py')"
   ]
  },
  {
   "cell_type": "code",
   "execution_count": 31,
   "metadata": {},
   "outputs": [
    {
     "name": "stderr",
     "output_type": "stream",
     "text": [
      "Detect cells using Cell Profiler ...Child returned 0\n",
      "16 nodes requested, 16 nodes available...Continuing\n"
     ]
    },
    {
     "name": "stdout",
     "output_type": "stream",
     "text": [
      "rm -f ~/stderr_*; rm -f ~/stdout_*\n"
     ]
    },
    {
     "name": "stderr",
     "output_type": "stream",
     "text": [
      "Jobs submitted. Use wait_qsub_complete() to check if they finish.\n",
      "qsub returned.\n",
      "done in 1242.701211 seconds\n"
     ]
    }
   ],
   "source": [
    "# for stack in all_nissl_stacks:\n",
    "for stack in ['MD594']:\n",
    "    \n",
    "    _, sections_to_filenames = DataManager.load_sorted_filenames(stack=stack)\n",
    "    valid_filenames = [fn for fn in sections_to_filenames.values() if not is_invalid(fn=fn)]\n",
    "\n",
    "    _, _, _, _, first_sec, last_sec = DataManager.load_cropbox(stack=stack)\n",
    "    first_fn = sections_to_filenames[first_sec]\n",
    "    last_fn = sections_to_filenames[last_sec]\n",
    "    first_idx_among_valid = valid_filenames.index(first_fn)\n",
    "    last_idx_among_valid = valid_filenames.index(last_fn)\n",
    "    \n",
    "    t = time.time()\n",
    "    sys.stderr.write('Detect cells using Cell Profiler ...')\n",
    "\n",
    "    run_distributed(command='ROOT_DIR=/scratch/ %(script_path)s %(stack)s \\'%%(filenames)s\\''%\\\n",
    "                        {'script_path': script_fp, \n",
    "                        'stack': stack},\n",
    "                        kwargs_list={'filenames': valid_filenames[first_idx_among_valid:last_idx_among_valid+1]},\n",
    "                        argument_type='list2',\n",
    "                       cluster_size=16)\n",
    "\n",
    "    wait_qsub_complete()\n",
    "\n",
    "    sys.stderr.write('done in %f seconds\\n' % (time.time() - t)) \n",
    "    # 16 or 32 or 64 sections, 420 seconds\n",
    "    # 128, 568\n",
    "    # all 1300 seconds."
   ]
  },
  {
   "cell_type": "code",
   "execution_count": 37,
   "metadata": {},
   "outputs": [
    {
     "name": "stdout",
     "output_type": "stream",
     "text": [
      "rm -f ~/stderr_*; rm -f ~/stdout_*\n"
     ]
    },
    {
     "name": "stderr",
     "output_type": "stream",
     "text": [
      "Child returned 0\n",
      "16 nodes requested, 16 nodes available...Continuing\n",
      "Jobs submitted. Use wait_qsub_complete() to check if they finish.\n",
      "qsub returned.\n"
     ]
    }
   ],
   "source": [
    "run_distributed(command='rm -r /scratch/*',\n",
    "                        argument_type='single',\n",
    "                       cluster_size=16)\n",
    "wait_qsub_complete()"
   ]
  },
  {
   "cell_type": "markdown",
   "metadata": {},
   "source": [
    "# Step 2: Generate derived data"
   ]
  },
  {
   "cell_type": "code",
   "execution_count": 38,
   "metadata": {
    "collapsed": true
   },
   "outputs": [],
   "source": [
    "script_fp = os.path.join(REPO_DIR, 'cells', 'detect_cells.py')"
   ]
  },
  {
   "cell_type": "code",
   "execution_count": 39,
   "metadata": {},
   "outputs": [
    {
     "name": "stderr",
     "output_type": "stream",
     "text": [
      "Detect cells ...Child returned 0\n",
      "16 nodes requested, 16 nodes available...Continuing\n"
     ]
    },
    {
     "name": "stdout",
     "output_type": "stream",
     "text": [
      "rm -f ~/stderr_*; rm -f ~/stdout_*\n"
     ]
    },
    {
     "name": "stderr",
     "output_type": "stream",
     "text": [
      "Jobs submitted. Use wait_qsub_complete() to check if they finish.\n",
      "qsub returned.\n",
      "done in 271.996746 seconds\n"
     ]
    }
   ],
   "source": [
    "# for stack in all_nissl_stacks:\n",
    "for stack in ['MD585']:\n",
    "    \n",
    "    _, sections_to_filenames = DataManager.load_sorted_filenames(stack=stack)\n",
    "    valid_filenames = [fn for fn in sections_to_filenames.values() if not is_invalid(fn=fn)]\n",
    "\n",
    "    _, _, _, _, first_sec, last_sec = DataManager.load_cropbox(stack=stack)\n",
    "    first_fn = sections_to_filenames[first_sec]\n",
    "    last_fn = sections_to_filenames[last_sec]\n",
    "    first_idx_among_valid = valid_filenames.index(first_fn)\n",
    "    last_idx_among_valid = valid_filenames.index(last_fn)\n",
    "    \n",
    "    t = time.time()\n",
    "    sys.stderr.write('Detect cells ...')\n",
    "\n",
    "    run_distributed(command='ROOT_DIR=/scratch/ %(script_path)s %(stack)s \\'%%(filenames)s\\''%\\\n",
    "                        {'script_path': script_fp, \n",
    "                        'stack': stack},\n",
    "                        kwargs_list={'filenames': valid_filenames[first_idx_among_valid:last_idx_among_valid+1][116:117]},\n",
    "                        argument_type='list2',\n",
    "                       cluster_size=16)\n",
    "\n",
    "    wait_qsub_complete()\n",
    "\n",
    "    sys.stderr.write('done in %f seconds\\n' % (time.time() - t)) # 271 sec / stack"
   ]
  },
  {
   "cell_type": "code",
   "execution_count": 56,
   "metadata": {},
   "outputs": [
    {
     "name": "stdout",
     "output_type": "stream",
     "text": [
      "rm -f ~/stderr_*; rm -f ~/stdout_*\n"
     ]
    },
    {
     "name": "stderr",
     "output_type": "stream",
     "text": [
      "Child returned 0\n",
      "16 nodes requested, 16 nodes available...Continuing\n",
      "Jobs submitted. Use wait_qsub_complete() to check if they finish.\n",
      "qsub returned.\n"
     ]
    }
   ],
   "source": [
    "run_distributed(command='rm -r /scratch/*',\n",
    "                        argument_type='single',\n",
    "                       cluster_size=16)\n",
    "wait_qsub_complete()"
   ]
  },
  {
   "cell_type": "code",
   "execution_count": null,
   "metadata": {
    "collapsed": true
   },
   "outputs": [],
   "source": []
  }
 ],
 "metadata": {
  "kernelspec": {
   "display_name": "Python 2",
   "language": "python",
   "name": "python2"
  },
  "language_info": {
   "codemirror_mode": {
    "name": "ipython",
    "version": 2
   },
   "file_extension": ".py",
   "mimetype": "text/x-python",
   "name": "python",
   "nbconvert_exporter": "python",
   "pygments_lexer": "ipython2",
   "version": "2.7.12"
  }
 },
 "nbformat": 4,
 "nbformat_minor": 2
}
