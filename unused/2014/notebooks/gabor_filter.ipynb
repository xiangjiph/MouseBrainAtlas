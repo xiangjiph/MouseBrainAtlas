{
 "cells": [
  {
   "cell_type": "code",
   "execution_count": 1,
   "metadata": {},
   "outputs": [],
   "source": [
    "%load_ext autoreload\n",
    "%autoreload 2"
   ]
  },
  {
   "cell_type": "code",
   "execution_count": 2,
   "metadata": {
    "collapsed": true
   },
   "outputs": [],
   "source": [
    "# import os\n",
    "# os.environ['MKL_NUM_THREADS'] = '1'\n",
    "# os.environ['OMP_NUM_THREADS'] = '1'\n",
    "# os.environ['MKL_DYNAMIC'] = 'FALSE'"
   ]
  },
  {
   "cell_type": "code",
   "execution_count": 2,
   "metadata": {},
   "outputs": [
    {
     "name": "stdout",
     "output_type": "stream",
     "text": [
      "reading image ... done in 0.000104904174805 seconds\n"
     ]
    }
   ],
   "source": [
    "import os\n",
    "import sys\n",
    "import time\n",
    "\n",
    "from joblib import Parallel, delayed\n",
    "\n",
    "sys.path.append(os.path.join(os.environ['GORDON_REPO_DIR'], 'utilities'))\n",
    "from utilities2015 import *\n",
    "\n",
    "import matplotlib.pyplot as plt\n",
    "%matplotlib inline\n",
    "\n",
    "from joblib import Parallel, delayed\n",
    "from scipy.signal import fftconvolve\n",
    "\n",
    "import bloscpack as bp\n",
    "import blosc\n",
    "\n",
    "dm = DataManager(stack='MD589', section=49)\n",
    "\n",
    "print 'reading image ...',\n",
    "t = time.time()\n",
    "dm._load_image(versions=['gray'])\n",
    "dm._generate_kernels()\n",
    "print 'done in', time.time() - t, 'seconds'"
   ]
  },
  {
   "cell_type": "code",
   "execution_count": 70,
   "metadata": {
    "collapsed": true
   },
   "outputs": [],
   "source": [
    "xmin = dm.xmin\n",
    "xmax = dm.xmin+8000\n",
    "ymin = dm.ymin\n",
    "ymax = dm.ymin+8000"
   ]
  },
  {
   "cell_type": "code",
   "execution_count": 68,
   "metadata": {
    "collapsed": true
   },
   "outputs": [],
   "source": [
    "xmin = dm.xmin\n",
    "xmax = dm.xmax\n",
    "ymin = dm.ymin\n",
    "ymax = dm.ymax"
   ]
  },
  {
   "cell_type": "code",
   "execution_count": 76,
   "metadata": {},
   "outputs": [
    {
     "name": "stderr",
     "output_type": "stream",
     "text": [
      "masked pixels = 0.92, "
     ]
    }
   ],
   "source": [
    "mask = dm.mask[ymin:ymax+1, xmin:xmax+1]\n",
    "\n",
    "perc = np.count_nonzero(mask) / float(mask.size)\n",
    "sys.stderr.write('masked pixels = %.2f, ' % perc)\n"
   ]
  },
  {
   "cell_type": "code",
   "execution_count": 71,
   "metadata": {
    "collapsed": true
   },
   "outputs": [],
   "source": [
    "def convolve_per_proc(i):\n",
    "\n",
    "    pf = fftconvolve(dm.image[ymin-dm.max_kern_size : ymax+1+dm.max_kern_size, \n",
    "                              xmin-dm.max_kern_size : xmax+1+dm.max_kern_size], \n",
    "                     dm.kernels[i], 'same').astype(np.half)\n",
    "\n",
    "    sys.stderr.write('filtered kernel %d\\n'%i)\n",
    "\n",
    "    return pf[dm.max_kern_size:-dm.max_kern_size, dm.max_kern_size:-dm.max_kern_size].flatten()\n"
   ]
  },
  {
   "cell_type": "code",
   "execution_count": 80,
   "metadata": {
    "scrolled": true
   },
   "outputs": [
    {
     "name": "stderr",
     "output_type": "stream",
     "text": [
      "gabor filtering ...filtered kernel 1\n",
      "filtered kernel 6\n",
      "filtered kernel 2\n",
      "filtered kernel 5\n",
      "filtered kernel 4\n",
      "filtered kernel 0\n",
      "filtered kernel 3\n",
      "filtered kernel 7\n",
      "filtered kernel 8\n",
      "filtered kernel 10\n",
      "filtered kernel 9\n",
      "filtered kernel 11\n",
      "filtered kernel 12\n",
      "filtered kernel 13\n",
      "filtered kernel 16\n",
      "filtered kernel 15\n",
      "filtered kernel 17\n",
      "filtered kernel 14\n",
      "filtered kernel 18\n",
      "filtered kernel 19\n",
      "filtered kernel 20\n",
      "filtered kernel 23\n",
      "filtered kernel 22\n",
      "filtered kernel 21\n",
      "filtered kernel 24\n",
      "filtered kernel 25\n",
      "filtered kernel 27\n",
      "filtered kernel 26\n",
      "filtered kernel 28\n",
      "filtered kernel 29\n",
      "filtered kernel 30\n",
      "filtered kernel 31\n",
      "filtered kernel 32\n",
      "filtered kernel 33\n",
      "filtered kernel 34\n",
      "filtered kernel 36\n",
      "filtered kernel 37\n",
      "filtered kernel 38\n",
      "filtered kernel 35\n",
      "filtered kernel 39\n",
      "filtered kernel 40\n",
      "filtered kernel 41\n",
      "filtered kernel 42\n",
      "filtered kernel 43\n",
      "filtered kernel 44\n",
      "filtered kernel 45\n",
      "filtered kernel 46\n",
      "filtered kernel 47\n",
      "filtered kernel 48\n",
      "filtered kernel 49\n",
      "filtered kernel 50\n",
      "filtered kernel 51\n",
      "filtered kernel 52\n",
      "filtered kernel 53\n",
      "filtered kernel 54\n",
      "filtered kernel 55\n",
      "filtered kernel 56\n",
      "filtered kernel 57\n",
      "filtered kernel 58\n",
      "filtered kernel 59\n",
      "filtered kernel 60\n",
      "filtered kernel 61\n",
      "filtered kernel 62\n",
      "filtered kernel 64\n",
      "filtered kernel 65\n",
      "filtered kernel 63\n",
      "filtered kernel 69\n",
      "filtered kernel 66\n",
      "filtered kernel 68\n",
      "filtered kernel 67\n",
      "filtered kernel 70\n",
      "filtered kernel 71\n",
      "filtered kernel 72\n",
      "filtered kernel 73\n",
      "filtered kernel 76\n",
      "filtered kernel 75\n",
      "filtered kernel 74\n",
      "filtered kernel 81\n",
      "filtered kernel 80\n",
      "filtered kernel 82\n",
      "filtered kernel 77\n",
      "filtered kernel 79\n",
      "filtered kernel 78\n",
      "filtered kernel 83\n",
      "filtered kernel 85\n",
      "filtered kernel 86\n",
      "filtered kernel 84\n",
      "filtered kernel 87\n",
      "filtered kernel 89\n",
      "filtered kernel 88\n",
      "filtered kernel 90\n",
      "filtered kernel 92\n",
      "filtered kernel 93\n",
      "filtered kernel 94\n",
      "filtered kernel 91\n",
      "filtered kernel 95\n",
      "filtered kernel 97\n",
      "filtered kernel 96\n",
      "filtered kernel 98\n",
      "done in 1081.015542 seconds\n"
     ]
    }
   ],
   "source": [
    "t = time.time()\n",
    "sys.stderr.write('gabor filtering ...')\n",
    "\n",
    "mask = dm.mask[ymin:ymax+1, xmin:xmax+1]\n",
    "\n",
    "# f = convolve_per_proc(88)\n",
    "# _ = Parallel(n_jobs=6)(delayed(convolve_per_proc)(i) for i in range(dm.n_kernel))\n",
    "# features = Parallel(n_jobs=6)(delayed(convolve_per_proc)(i) for i in range(dm.n_kernel))\n",
    "# features = Parallel(n_jobs=6, backend='threading')(delayed(convolve_per_proc)(i) for i in range(dm.n_kernel))\n",
    "# features = Parallel(n_jobs=6, backend='threading')(delayed(convolve_per_proc)(i) for i in range(66, 99))\n",
    "# features = Parallel(n_jobs=6)(delayed(convolve_per_proc)(i) for i in range(66, 99))\n",
    "# features = Parallel(n_jobs=2, backend='threading')(delayed(convolve_per_proc)(i) for i in range(88, 90))\n",
    "# features = Parallel(n_jobs=8)(delayed(convolve_per_proc)(i) for i in range(88, 99))\n",
    "\n",
    "# sys.stderr.write('done in %f seconds\\n' % (time.time() - t))\n",
    "\n",
    "# t = time.time()\n",
    "\n",
    "# sys.stderr.write('gabor filtering ...')\n",
    "\n",
    "# features = Parallel(n_jobs=7, backend='threading')(delayed(convolve_per_proc)(i) for i in range(dm.n_kernel))\n",
    "features = Parallel(n_jobs=7)(delayed(convolve_per_proc)(i) for i in range(dm.n_kernel))\n",
    "# features = Parallel(n_jobs=7, backend='threading')(delayed(convolve_per_proc)(i) for i in range(88, 95))\n",
    "# features = Parallel(n_jobs=8)(delayed(convolve_per_proc)(i) for i in range(88, 96))\n",
    "\n",
    "sys.stderr.write('done in %f seconds\\n' % (time.time() - t))"
   ]
  },
  {
   "cell_type": "code",
   "execution_count": 78,
   "metadata": {},
   "outputs": [
    {
     "name": "stderr",
     "output_type": "stream",
     "text": [
      "transpose ...done in 0.505933 seconds\n",
      "mask .../oasis/projects/nsf/csd181/yuncong/virtualenv-1.9.1/yuncongve/lib/python2.7/site-packages/ipykernel/__main__.py:11: FutureWarning: in the future, boolean array-likes will be handled as a boolean array index\n",
      "done in 2.387227 seconds\n"
     ]
    }
   ],
   "source": [
    "t = time.time()\n",
    "sys.stderr.write('transpose ...')\n",
    "\n",
    "features = np.asarray(features).T  # n x 99\n",
    "\n",
    "sys.stderr.write('done in %f seconds\\n' % (time.time() - t))\n",
    "\n",
    "t = time.time()\n",
    "sys.stderr.write('mask ...')\n",
    "\n",
    "features_masked = features[mask.flat]\n",
    "\n",
    "sys.stderr.write('done in %f seconds\\n' % (time.time() - t))"
   ]
  },
  {
   "cell_type": "code",
   "execution_count": null,
   "metadata": {
    "collapsed": true
   },
   "outputs": [],
   "source": []
  },
  {
   "cell_type": "code",
   "execution_count": 5,
   "metadata": {},
   "outputs": [],
   "source": [
    "# very slow\n",
    "# https://pythonhosted.org/joblib/parallel.html#writing-parallel-computation-results-in-shared-memory\n",
    "\n",
    "def convolve_per_proc(output, i):\n",
    "\n",
    "    pf = fftconvolve(dm.image[ymin-dm.max_kern_size : ymax+1+dm.max_kern_size, \n",
    "                              xmin-dm.max_kern_size : xmax+1+dm.max_kern_size], \n",
    "                     dm.kernels[i], 'same').astype(np.half)\n",
    "\n",
    "    sys.stderr.write('filtered kernel %d\\n'%i)\n",
    "\n",
    "    output[i] = pf[dm.max_kern_size:-dm.max_kern_size, dm.max_kern_size:-dm.max_kern_size]\n",
    "    \n",
    "import tempfile\n",
    "import shutil\n",
    "import os\n",
    "\n",
    "from joblib import Parallel, delayed\n",
    "from joblib import load, dump\n",
    "\n",
    "folder = tempfile.mkdtemp()\n",
    "features_name = os.path.join(folder, 'features')\n",
    "features = np.memmap(features_name, dtype=np.half, shape=(dm.n_kernel, ymax-ymin+1, xmax-xmin+1), mode='w+')\n",
    "\n",
    "t = time.time()\n",
    "sys.stderr.write('gabor filtering ...')\n",
    "\n",
    "# Parallel(n_jobs=6, backend='threading')(delayed(convolve_per_proc)(features, i) for i in range(dm.n_kernel))\n",
    "Parallel(n_jobs=11, backend='threading')(delayed(convolve_per_proc)(features, i) for i in range(88,99))\n",
    "\n",
    "sys.stderr.write('done in %f seconds\\n' % (time.time() - t))\n",
    "\n",
    "try:\n",
    "    shutil.rmtree(folder)\n",
    "except:\n",
    "    print(\"Failed to delete: \" + folder)"
   ]
  },
  {
   "cell_type": "code",
   "execution_count": null,
   "metadata": {},
   "outputs": [],
   "source": []
  },
  {
   "cell_type": "code",
   "execution_count": null,
   "metadata": {
    "collapsed": true
   },
   "outputs": [],
   "source": [
    "t = time.time()\n",
    "sys.stderr.write('gabor filtering ...')\n",
    "\n",
    "mask = dm.mask[ymin:ymax+1, xmin:xmax+1]\n",
    "\n",
    "features = Parallel(n_jobs=8)(delayed(convolve_per_proc)(i) for i in range(dm.n_kernel))\n",
    "\n",
    "sys.stderr.write('done in %f seconds\\n' % (time.time() - t))\n",
    "\n",
    "t = time.time()\n",
    "sys.stderr.write('transpose ...')\n",
    "\n",
    "features = np.asarray(features).T  # n x 99\n",
    "\n",
    "sys.stderr.write('done in %f seconds\\n' % (time.time() - t))\n",
    "\n",
    "t = time.time()\n",
    "sys.stderr.write('mask ...')\n",
    "\n",
    "features_masked = features[mask.flat]\n",
    "\n",
    "sys.stderr.write('done in %f seconds\\n' % (time.time() - t))"
   ]
  },
  {
   "cell_type": "code",
   "execution_count": null,
   "metadata": {
    "collapsed": true
   },
   "outputs": [],
   "source": []
  },
  {
   "cell_type": "code",
   "execution_count": 5,
   "metadata": {},
   "outputs": [],
   "source": [
    "# assert dm.ymin-dm.max_kern_size >= 0 and dm.xmin-dm.max_kern_size >= 0 and \\\n",
    "#         dm.ymax+1+dm.max_kern_size <= dm.image_height and dm.xmax+1+dm.max_kern_size <= dm.image_width, \\\n",
    "#         'Not all pixels within the mask have value from the largest kernel'\n",
    "\n",
    "def convolve_per_proc(i):\n",
    "    pf = fftconvolve(dm.image[dm.ymin-dm.max_kern_size : dm.ymax+1+dm.max_kern_size, \n",
    "                              dm.xmin-dm.max_kern_size : dm.xmax+1+dm.max_kern_size], \n",
    "                     dm.kernels[i], 'same').astype(np.half)\n",
    "    sys.stderr.write('filtered kernel %d\\n'%i)\n",
    "\n",
    "#     bp.pack_ndarray_file(pf[dm.max_kern_size:-dm.max_kern_size, dm.max_kern_size:-dm.max_kern_size].copy(), \n",
    "#                          os.environ['GORDON_RESULT_DIR']+'/feature_%03d.bp'%i)\n",
    "    \n",
    "#     return pf[dm.max_kern_size:-dm.max_kern_size, dm.max_kern_size:-dm.max_kern_size]\n"
   ]
  },
  {
   "cell_type": "code",
   "execution_count": null,
   "metadata": {},
   "outputs": [],
   "source": [
    "feature_0 = pf[dm.max_kern_size:-dm.max_kern_size, dm.max_kern_size:-dm.max_kern_size]\n",
    "plt.matshow(feature_0);"
   ]
  },
  {
   "cell_type": "code",
   "execution_count": null,
   "metadata": {},
   "outputs": [],
   "source": [
    "# with open('/home/yuncong/CSHL_data_results/feature_000.bp', 'wb') as f:\n",
    "#     f.write(blosc.pack_array(feature_0))\n",
    "\n",
    "t = time.time()\n",
    "# features_0_load = bp.unpack_ndarray_str(bp.pack_ndarray_str(feature_0.copy()))\n",
    "features_0_load = blosc.unpack_array(blosc.pack_array(feature_0))\n",
    "print time.time() - t"
   ]
  },
  {
   "cell_type": "code",
   "execution_count": null,
   "metadata": {},
   "outputs": [],
   "source": [
    "# with open('/home/yuncong/CSHL_data_results/feature_000.bp', 'rb') as f:\n",
    "#     s = f.read()"
   ]
  },
  {
   "cell_type": "code",
   "execution_count": null,
   "metadata": {},
   "outputs": [],
   "source": []
  },
  {
   "cell_type": "code",
   "execution_count": null,
   "metadata": {},
   "outputs": [
    {
     "name": "stderr",
     "output_type": "stream",
     "text": [
      "filtered kernel 0\n",
      "filtered kernel 1\n",
      "filtered kernel 2\n",
      "filtered kernel 3\n",
      "filtered kernel 4\n",
      "filtered kernel 5\n"
     ]
    }
   ],
   "source": [
    "t = time.time()\n",
    "print 'gabor filtering...',\n",
    "\n",
    "for i in range(dm.n_kernel):\n",
    "    convolve_per_proc(i)\n",
    "\n",
    "print 'done in', time.time() - t, 'seconds'"
   ]
  },
  {
   "cell_type": "code",
   "execution_count": null,
   "metadata": {
    "scrolled": true
   },
   "outputs": [],
   "source": [
    "t = time.time()\n",
    "print 'gabor filtering...',\n",
    "\n",
    "# filtered = Parallel(n_jobs=4)(delayed(convolve_per_proc)(i) for i in range(dm.n_kernel))\n",
    "# features = np.asarray(filtered)\n",
    "# del filtered\n",
    "\n",
    "Parallel(n_jobs=4)(delayed(convolve_per_proc)(i) for i in range(dm.n_kernel))\n",
    "\n",
    "print 'done in', time.time() - t, 'seconds'"
   ]
  },
  {
   "cell_type": "code",
   "execution_count": null,
   "metadata": {
    "collapsed": true
   },
   "outputs": [],
   "source": [
    "dm.save_pipeline_result(features, 'features')"
   ]
  },
  {
   "cell_type": "code",
   "execution_count": null,
   "metadata": {
    "collapsed": true
   },
   "outputs": [],
   "source": []
  },
  {
   "cell_type": "code",
   "execution_count": null,
   "metadata": {
    "collapsed": true
   },
   "outputs": [],
   "source": [
    "t = time.time()\n",
    "print 'load filtered values ...',\n",
    "\n",
    "features = []\n",
    "for i in range(dm.n_kernel):\n",
    "    a = bp.unpack_ndarray_file(os.environ['GORDON_RESULT_DIR']+'/feature_%03d.bp'%i).reshape((-1,)) \n",
    "    features.append(a)\n",
    "    \n",
    "print 'done in', time.time() - t, 'seconds'"
   ]
  },
  {
   "cell_type": "code",
   "execution_count": null,
   "metadata": {},
   "outputs": [],
   "source": [
    "del features"
   ]
  },
  {
   "cell_type": "code",
   "execution_count": null,
   "metadata": {},
   "outputs": [],
   "source": [
    "t = time.time()\n",
    "print 'load filtered values ...',\n",
    "\n",
    "features = [bp.unpack_ndarray_file(os.environ['GORDON_RESULT_DIR']+'/feature_%03d.bp'%i).reshape((-1,)) \n",
    "                     for i in range(dm.n_kernel)]\n",
    "\n",
    "print 'done in', time.time() - t, 'seconds'"
   ]
  },
  {
   "cell_type": "code",
   "execution_count": null,
   "metadata": {
    "collapsed": true
   },
   "outputs": [],
   "source": [
    "del features"
   ]
  },
  {
   "cell_type": "code",
   "execution_count": null,
   "metadata": {
    "collapsed": true
   },
   "outputs": [],
   "source": [
    "features = features.T"
   ]
  },
  {
   "cell_type": "code",
   "execution_count": null,
   "metadata": {},
   "outputs": [],
   "source": [
    "def rotate_features(fs, j):\n",
    "    features_tabular = fs.reshape((fs.shape[0], dm.n_freq, dm.n_angle))\n",
    "    max_angle_indices = features_tabular.max(axis=1).argmax(axis=-1)\n",
    "    features_rotated = np.reshape([np.roll(features_tabular[i], -ai, axis=-1) \n",
    "                               for i, ai in enumerate(max_angle_indices)], (fs.shape[0], dm.n_freq * dm.n_angle))\n",
    "\n",
    "    del features_tabular, max_angle_indices\n",
    "    \n",
    "#     print features_rotated.shape\n",
    "#     bp.pack_ndarray_file(features_rotated, os.environ['GORDON_RESULT_DIR']+'/featureRotated_batch_%03d.bp'%j)\n",
    "\n",
    "    return features_rotated"
   ]
  },
  {
   "cell_type": "code",
   "execution_count": null,
   "metadata": {},
   "outputs": [],
   "source": [
    "features.shape[0]"
   ]
  },
  {
   "cell_type": "code",
   "execution_count": null,
   "metadata": {
    "collapsed": true
   },
   "outputs": [],
   "source": []
  },
  {
   "cell_type": "code",
   "execution_count": null,
   "metadata": {},
   "outputs": [],
   "source": [
    "t = time.time()\n",
    "print 'rotating features ...',\n",
    "\n",
    "items_per_job = 100\n",
    "features_rotated = Parallel(n_jobs=8)(delayed(rotate_features)(fs, i) \n",
    "                   for i, fs in enumerate(np.array_split(features, features.shape[0]/items_per_job)))\n",
    "\n",
    "print 'done in', time.time() - t, 'seconds'"
   ]
  },
  {
   "cell_type": "code",
   "execution_count": null,
   "metadata": {
    "collapsed": true
   },
   "outputs": [],
   "source": [
    "del features_rotated"
   ]
  },
  {
   "cell_type": "code",
   "execution_count": null,
   "metadata": {},
   "outputs": [],
   "source": [
    "features_rotated = np.vstack(features_rotated)"
   ]
  },
  {
   "cell_type": "code",
   "execution_count": null,
   "metadata": {},
   "outputs": [],
   "source": [
    "features_rotated.shape"
   ]
  },
  {
   "cell_type": "code",
   "execution_count": null,
   "metadata": {},
   "outputs": [],
   "source": [
    "t = time.time()\n",
    "print 'load filtered values ...',\n",
    "\n",
    "items_per_job = 100\n",
    "features_rotated = Parallel(n_jobs=8)(delayed(rotate_features)(fs, i) \n",
    "                   for i, fs in enumerate(np.array_split(features[:10000000], 10000000/items_per_job)))\n",
    "# features_rotated = np.vstack(features_rotated)\n",
    "\n",
    "print 'done in', time.time() - t, 'seconds'"
   ]
  },
  {
   "cell_type": "code",
   "execution_count": null,
   "metadata": {},
   "outputs": [],
   "source": [
    "features_rotated = np.vstack(features_rotated)"
   ]
  },
  {
   "cell_type": "code",
   "execution_count": null,
   "metadata": {},
   "outputs": [],
   "source": [
    "features_rotated.shape"
   ]
  },
  {
   "cell_type": "code",
   "execution_count": null,
   "metadata": {},
   "outputs": [],
   "source": [
    "from skimage.util import pad\n",
    "\n",
    "approx_bg_intensity = dm.image[10:20, 10:20].mean()\n",
    "# approx_bg_intensity = 0\n",
    "\n",
    "masked_image = dm.image.copy()\n",
    "masked_image[~dm.mask] = approx_bg_intensity\n",
    "\n",
    "# padded_image = pad(masked_image, max_kern_size, 'constant', constant_values=approx_bg_intensity)\n",
    "padded_image = pad(masked_image, dm.max_kern_size, 'linear_ramp', end_values=approx_bg_intensity)\n",
    "\n",
    "# plt.imshow(padded_image, cm.Greys_r)\n",
    "# plt.show()\n",
    "\n",
    "# display(padded_image)"
   ]
  },
  {
   "cell_type": "code",
   "execution_count": null,
   "metadata": {},
   "outputs": [],
   "source": [
    "import time\n",
    "b = time.time()\n",
    "\n",
    "# try:\n",
    "#     features = dm.load_pipeline_result('features', 'npy')\n",
    "    \n",
    "# except Exception as e:\n",
    "\n",
    "def convolve_per_proc(i):\n",
    "    return fftconvolve(padded_image, dm.kernels[i], 'same').astype(np.half)\n",
    "\n",
    "padded_filtered = Parallel(n_jobs=16)(delayed(convolve_per_proc)(i) \n",
    "                        for i in range(dm.n_kernel))\n",
    "\n",
    "filtered = [f[dm.max_kern_size:-dm.max_kern_size, dm.max_kern_size:-dm.max_kern_size] for f in padded_filtered]\n",
    "\n",
    "#     features = np.empty((dm.image_height, dm.image_width, n_kernel), dtype=np.half)\n",
    "#     for i in range(n_kernel):\n",
    "#         features[...,i] = filtered[i]\n",
    "\n",
    "features = np.empty((dm.n_kernel, dm.image_height, dm.image_width), dtype=np.half)\n",
    "for i in range(dm.n_kernel):\n",
    "    features[i, ...] = filtered[i]\n",
    "\n",
    "del filtered\n",
    "\n",
    "dm.save_pipeline_result(features, 'features', 'npy')\n",
    "\n",
    "print 'gabor filtering', time.time() - b"
   ]
  },
  {
   "cell_type": "code",
   "execution_count": null,
   "metadata": {},
   "outputs": [],
   "source": [
    "# # visualize a slice of feature responses\n",
    "\n",
    "# cropped_response = features[-1]\n",
    "# plt.matshow(cropped_response, cmap=cm.coolwarm)\n",
    "# plt.colorbar()\n",
    "# plt.show()"
   ]
  },
  {
   "cell_type": "code",
   "execution_count": null,
   "metadata": {},
   "outputs": [],
   "source": [
    "# from skimage.exposure import rescale_intensity\n",
    "# cropped_response_vis = rescale_intensity(cropped_response, out_range=(0, 255))\n",
    "# cropped_response_vis[~dm.mask] = 127\n",
    "# display(cropped_response_vis.astype(np.uint8))"
   ]
  }
 ],
 "metadata": {
  "kernelspec": {
   "display_name": "Python 2",
   "language": "python",
   "name": "python2"
  },
  "language_info": {
   "codemirror_mode": {
    "name": "ipython",
    "version": 2
   },
   "file_extension": ".py",
   "mimetype": "text/x-python",
   "name": "python",
   "nbconvert_exporter": "python",
   "pygments_lexer": "ipython2",
   "version": "2.7.12"
  }
 },
 "nbformat": 4,
 "nbformat_minor": 1
}
