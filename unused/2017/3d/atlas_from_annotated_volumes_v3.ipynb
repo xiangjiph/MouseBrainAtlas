{
 "cells": [
  {
   "cell_type": "code",
   "execution_count": 2,
   "metadata": {
    "collapsed": false
   },
   "outputs": [
    {
     "name": "stderr",
     "output_type": "stream",
     "text": [
      "No vtk\n"
     ]
    }
   ],
   "source": [
    "%reload_ext autoreload\n",
    "%autoreload 2\n",
    "\n",
    "import numpy as np\n",
    "import bloscpack as bp\n",
    "import sys\n",
    "import os\n",
    "\n",
    "sys.path.append(os.path.join(os.environ['REPO_DIR'], 'utilities'))\n",
    "from utilities2015 import *\n",
    "from metadata import *\n",
    "from data_manager import *\n",
    "\n",
    "from registration_utilities import *\n",
    "from annotation_utilities import *\n",
    "from vis3d_utilities import *\n",
    "\n",
    "%matplotlib inline"
   ]
  },
  {
   "cell_type": "code",
   "execution_count": 3,
   "metadata": {
    "collapsed": true
   },
   "outputs": [],
   "source": [
    "stack_moving = 'MD594'\n",
    "stack_fixed = 'MD589'"
   ]
  },
  {
   "cell_type": "code",
   "execution_count": 4,
   "metadata": {
    "collapsed": true
   },
   "outputs": [],
   "source": [
    "atlas_name = 'atlasV3'"
   ]
  },
  {
   "cell_type": "code",
   "execution_count": 5,
   "metadata": {
    "collapsed": false
   },
   "outputs": [],
   "source": [
    "from data_manager import *"
   ]
  },
  {
   "cell_type": "code",
   "execution_count": 6,
   "metadata": {
    "collapsed": false
   },
   "outputs": [
    {
     "name": "stdout",
     "output_type": "stream",
     "text": [
      "(348, 421, 377)\n",
      "(326, 515, 368)\n"
     ]
    }
   ],
   "source": [
    "volume_fixed = DataManager.load_annotation_volume(stack=stack_fixed, downscale=32)\n",
    "volume_moving = DataManager.load_annotation_volume(stack=stack_moving, downscale=32)\n",
    "\n",
    "print volume_fixed.shape\n",
    "print volume_moving.shape"
   ]
  },
  {
   "cell_type": "code",
   "execution_count": 7,
   "metadata": {
    "collapsed": false
   },
   "outputs": [],
   "source": [
    "label_to_name_m, name_to_label_m = DataManager.load_volume_label_to_name(stack_moving)\n",
    "label_to_name_f, name_to_label_f = DataManager.load_volume_label_to_name(stack_fixed)"
   ]
  },
  {
   "cell_type": "code",
   "execution_count": 8,
   "metadata": {
    "collapsed": false
   },
   "outputs": [],
   "source": [
    "colors = {name_u: np.random.randint(0,255,3)/255.\n",
    "          for name_u in set([convert_name_to_unsided(name_s) for name_s in name_to_label_m.keys()])}"
   ]
  },
  {
   "cell_type": "markdown",
   "metadata": {},
   "source": [
    "# Generate transformed annotation volume meshes\n",
    "\n",
    "Untransformed annotation volume meshes are generated in `visualize_annotationVolume2`"
   ]
  },
  {
   "cell_type": "code",
   "execution_count": 7,
   "metadata": {
    "collapsed": false
   },
   "outputs": [],
   "source": [
    "volume_m_alignedTo_f = DataManager.load_transformed_volume(stack_m=stack_moving, type_m='annotation',\n",
    "                                                                             stack_f=stack_fixed, type_f='annotation',\n",
    "                                                                             downscale=32,\n",
    "                                                          global_transform_scheme=1)"
   ]
  },
  {
   "cell_type": "code",
   "execution_count": 8,
   "metadata": {
    "collapsed": false
   },
   "outputs": [
    {
     "name": "stdout",
     "output_type": "stream",
     "text": [
      "622 1042 155 502 127 503\n"
     ]
    }
   ],
   "source": [
    "vol_f_xmin, vol_f_xmax, vol_f_ymin, vol_f_ymax, vol_f_zmin, vol_f_zmax = DataManager.load_volume_bbox(stack_fixed, type='annotation', downscale=32)\n",
    "print vol_f_xmin, vol_f_xmax, vol_f_ymin, vol_f_ymax, vol_f_zmin, vol_f_zmax"
   ]
  },
  {
   "cell_type": "code",
   "execution_count": 9,
   "metadata": {
    "collapsed": false,
    "scrolled": true
   },
   "outputs": [
    {
     "name": "stderr",
     "output_type": "stream",
     "text": [
      "marching cube: 0.04 seconds\n",
      "mesh_to_polydata: 0.02 seconds\n",
      "simplify 0 @ 13059: 0.14 seconds\n",
      "simplify 1 @ 2613: 0.12 seconds\n",
      "simplify 2 @ 524: 0.02 seconds\n",
      "time: 0.34\n",
      "marching cube: 0.12 seconds\n",
      "mesh_to_polydata: 0.04 seconds\n",
      "simplify 0 @ 31672: 0.32 seconds\n",
      "simplify 1 @ 6336: 0.30 seconds\n",
      "simplify 2 @ 1268: 0.06 seconds\n",
      "time: 0.84\n",
      "marching cube: 0.07 seconds\n",
      "mesh_to_polydata: 0.04 seconds\n",
      "simplify 0 @ 16962: 0.15 seconds\n",
      "simplify 1 @ 3394: 0.13 seconds\n",
      "simplify 2 @ 680: 0.03 seconds\n",
      "time: 0.43\n",
      "marching cube: 0.02 seconds\n",
      "mesh_to_polydata: 0.01 seconds\n",
      "simplify 0 @ 10689: 0.09 seconds\n",
      "simplify 1 @ 2139: 0.08 seconds\n",
      "simplify 2 @ 429: 0.02 seconds\n",
      "time: 0.23\n",
      "marching cube: 0.01 seconds\n",
      "mesh_to_polydata: 0.00 seconds\n",
      "simplify 0 @ 2520: 0.02 seconds\n",
      "simplify 1 @ 505: 0.02 seconds\n",
      "time: 0.06\n",
      "marching cube: 0.07 seconds\n",
      "mesh_to_polydata: 0.02 seconds\n",
      "simplify 0 @ 10094: 0.10 seconds\n",
      "simplify 1 @ 2020: 0.08 seconds\n",
      "simplify 2 @ 405: 0.02 seconds\n",
      "time: 0.29\n",
      "marching cube: 0.04 seconds\n",
      "mesh_to_polydata: 0.02 seconds\n",
      "simplify 0 @ 8007: 0.15 seconds\n",
      "simplify 1 @ 1604: 0.11 seconds\n",
      "simplify 2 @ 324: 0.02 seconds\n",
      "time: 0.34\n",
      "marching cube: 0.04 seconds\n",
      "mesh_to_polydata: 0.03 seconds\n",
      "simplify 0 @ 11880: 0.12 seconds\n",
      "simplify 1 @ 2377: 0.09 seconds\n",
      "simplify 2 @ 477: 0.02 seconds\n",
      "time: 0.30\n",
      "marching cube: 0.01 seconds\n",
      "mesh_to_polydata: 0.00 seconds\n",
      "simplify 0 @ 2146: 0.02 seconds\n",
      "simplify 1 @ 430: 0.01 seconds\n",
      "time: 0.05\n",
      "marching cube: 0.08 seconds\n",
      "mesh_to_polydata: 0.04 seconds\n",
      "simplify 0 @ 26235: 0.23 seconds\n",
      "simplify 1 @ 5249: 0.24 seconds\n",
      "simplify 2 @ 1051: 0.05 seconds\n",
      "time: 0.64\n",
      "marching cube: 0.09 seconds\n",
      "mesh_to_polydata: 0.03 seconds\n",
      "simplify 0 @ 23038: 0.23 seconds\n",
      "simplify 1 @ 4609: 0.21 seconds\n",
      "simplify 2 @ 923: 0.04 seconds\n",
      "time: 0.61\n",
      "marching cube: 0.07 seconds\n",
      "mesh_to_polydata: 0.02 seconds\n",
      "simplify 0 @ 13802: 0.13 seconds\n",
      "simplify 1 @ 2762: 0.11 seconds\n",
      "simplify 2 @ 554: 0.03 seconds\n",
      "time: 0.35\n",
      "marching cube: 0.04 seconds\n",
      "mesh_to_polydata: 0.02 seconds\n",
      "simplify 0 @ 10369: 0.09 seconds\n",
      "simplify 1 @ 2075: 0.08 seconds\n",
      "simplify 2 @ 416: 0.02 seconds\n",
      "time: 0.24\n",
      "marching cube: 0.03 seconds\n",
      "mesh_to_polydata: 0.02 seconds\n",
      "simplify 0 @ 8039: 0.15 seconds\n",
      "simplify 1 @ 1609: 0.06 seconds\n",
      "simplify 2 @ 323: 0.01 seconds\n",
      "time: 0.27\n",
      "marching cube: 0.15 seconds\n",
      "mesh_to_polydata: 0.04 seconds\n",
      "simplify 0 @ 31257: 0.25 seconds\n",
      "simplify 1 @ 6253: 0.30 seconds\n",
      "simplify 2 @ 1252: 0.07 seconds\n",
      "time: 0.81\n",
      "marching cube: 0.05 seconds\n",
      "mesh_to_polydata: 0.03 seconds\n",
      "simplify 0 @ 12822: 0.18 seconds\n",
      "simplify 1 @ 2566: 0.18 seconds\n",
      "simplify 2 @ 514: 0.04 seconds\n",
      "time: 0.50\n",
      "marching cube: 0.91 seconds\n",
      "mesh_to_polydata: 0.08 seconds\n",
      "simplify 0 @ 29031: 0.46 seconds\n",
      "simplify 1 @ 5807: 0.47 seconds\n",
      "simplify 2 @ 1163: 0.10 seconds\n",
      "time: 2.04\n",
      "marching cube: 0.05 seconds\n",
      "mesh_to_polydata: 0.03 seconds\n",
      "simplify 0 @ 5502: 0.22 seconds\n",
      "simplify 1 @ 1100: 0.07 seconds\n",
      "simplify 2 @ 222: 0.02 seconds\n",
      "time: 0.39\n",
      "marching cube: 0.02 seconds\n",
      "mesh_to_polydata: 0.02 seconds\n",
      "simplify 0 @ 5742: 0.08 seconds\n",
      "simplify 1 @ 1150: 0.08 seconds\n",
      "simplify 2 @ 231: 0.02 seconds\n",
      "time: 0.22\n",
      "marching cube: 0.05 seconds\n",
      "mesh_to_polydata: 0.05 seconds\n",
      "simplify 0 @ 9449: 0.25 seconds\n",
      "simplify 1 @ 1891: 0.14 seconds\n",
      "simplify 2 @ 382: 0.03 seconds\n",
      "time: 0.51\n",
      "marching cube: 0.04 seconds\n",
      "mesh_to_polydata: 0.02 seconds\n",
      "simplify 0 @ 11186: 0.14 seconds\n",
      "simplify 1 @ 2238: 0.12 seconds\n",
      "simplify 2 @ 449: 0.02 seconds\n",
      "time: 0.35\n",
      "marching cube: 0.00 seconds\n",
      "mesh_to_polydata: 0.00 seconds\n",
      "simplify 0 @ 1744: 0.03 seconds\n",
      "simplify 1 @ 350: 0.02 seconds\n",
      "time: 0.06\n",
      "marching cube: 0.00 seconds\n",
      "mesh_to_polydata: 0.00 seconds\n",
      "simplify 0 @ 744: 0.01 seconds\n",
      "time: 0.02\n",
      "marching cube: 0.02 seconds\n",
      "mesh_to_polydata: 0.01 seconds\n",
      "simplify 0 @ 5321: 0.10 seconds\n",
      "simplify 1 @ 1065: 0.05 seconds\n",
      "simplify 2 @ 214: 0.01 seconds\n",
      "time: 0.19\n",
      "marching cube: 0.02 seconds\n",
      "mesh_to_polydata: 0.01 seconds\n",
      "simplify 0 @ 5444: 0.06 seconds\n",
      "simplify 1 @ 1090: 0.05 seconds\n",
      "simplify 2 @ 219: 0.01 seconds\n",
      "time: 0.15\n",
      "marching cube: 0.02 seconds\n",
      "mesh_to_polydata: 0.01 seconds\n",
      "simplify 0 @ 6641: 0.08 seconds\n",
      "simplify 1 @ 1329: 0.06 seconds\n",
      "simplify 2 @ 267: 0.01 seconds\n",
      "time: 0.19\n",
      "marching cube: 0.04 seconds\n",
      "mesh_to_polydata: 0.01 seconds\n",
      "simplify 0 @ 7132: 0.07 seconds\n",
      "simplify 1 @ 1426: 0.07 seconds\n",
      "simplify 2 @ 286: 0.02 seconds\n",
      "time: 0.21\n",
      "marching cube: 0.04 seconds\n",
      "mesh_to_polydata: 0.01 seconds\n",
      "simplify 0 @ 6942: 0.06 seconds\n",
      "simplify 1 @ 1390: 0.06 seconds\n",
      "simplify 2 @ 279: 0.01 seconds\n",
      "time: 0.20\n",
      "marching cube: 0.01 seconds\n",
      "mesh_to_polydata: 0.01 seconds\n",
      "simplify 0 @ 2674: 0.03 seconds\n",
      "simplify 1 @ 536: 0.02 seconds\n",
      "time: 0.07\n",
      "marching cube: 0.02 seconds\n",
      "mesh_to_polydata: 0.01 seconds\n",
      "simplify 0 @ 5758: 0.07 seconds\n",
      "simplify 1 @ 1153: 0.05 seconds\n",
      "simplify 2 @ 232: 0.01 seconds\n",
      "time: 0.16\n",
      "marching cube: 0.03 seconds\n",
      "mesh_to_polydata: 0.02 seconds\n",
      "simplify 0 @ 9342: 0.15 seconds\n",
      "simplify 1 @ 1870: 0.09 seconds\n",
      "simplify 2 @ 375: 0.02 seconds\n",
      "time: 0.32\n",
      "marching cube: 0.01 seconds\n",
      "mesh_to_polydata: 0.00 seconds\n",
      "simplify 0 @ 2148: 0.03 seconds\n",
      "simplify 1 @ 431: 0.02 seconds\n",
      "time: 0.07\n",
      "marching cube: 0.00 seconds\n",
      "mesh_to_polydata: 0.00 seconds\n",
      "simplify 0 @ 738: 0.01 seconds\n",
      "time: 0.02\n",
      "marching cube: 0.39 seconds\n",
      "mesh_to_polydata: 0.12 seconds\n",
      "simplify 0 @ 69933: 0.88 seconds\n",
      "simplify 1 @ 13988: 1.25 seconds\n",
      "simplify 2 @ 2799: 0.26 seconds\n",
      "time: 2.92\n",
      "marching cube: 0.10 seconds\n",
      "mesh_to_polydata: 0.04 seconds\n",
      "simplify 0 @ 11882: 0.20 seconds\n",
      "simplify 1 @ 2378: 0.17 seconds\n",
      "simplify 2 @ 477: 0.04 seconds\n",
      "time: 0.55\n",
      "marching cube: 0.07 seconds\n",
      "mesh_to_polydata: 0.03 seconds\n",
      "simplify 0 @ 11686: 0.21 seconds\n",
      "simplify 1 @ 2339: 0.18 seconds\n",
      "simplify 2 @ 469: 0.04 seconds\n",
      "time: 0.54\n",
      "marching cube: 0.00 seconds\n",
      "mesh_to_polydata: 0.00 seconds\n",
      "simplify 0 @ 723: 0.02 seconds\n",
      "time: 0.04\n",
      "marching cube: 0.05 seconds\n",
      "mesh_to_polydata: 0.03 seconds\n",
      "simplify 0 @ 6645: 0.18 seconds\n",
      "simplify 1 @ 1328: 0.09 seconds\n",
      "simplify 2 @ 267: 0.02 seconds\n",
      "time: 0.38\n",
      "marching cube: 0.02 seconds\n",
      "mesh_to_polydata: 0.01 seconds\n",
      "simplify 0 @ 2909: 0.06 seconds\n",
      "simplify 1 @ 583: 0.04 seconds\n",
      "time: 0.13\n",
      "marching cube: 0.02 seconds\n",
      "mesh_to_polydata: 0.01 seconds\n",
      "simplify 0 @ 3128: 0.05 seconds\n",
      "simplify 1 @ 627: 0.04 seconds\n",
      "time: 0.13\n",
      "marching cube: 0.12 seconds\n",
      "mesh_to_polydata: 0.02 seconds\n",
      "simplify 0 @ 8538: 0.16 seconds\n",
      "simplify 1 @ 1709: 0.14 seconds\n",
      "simplify 2 @ 343: 0.02 seconds\n",
      "time: 0.47\n",
      "marching cube: 0.00 seconds\n",
      "mesh_to_polydata: 0.00 seconds\n",
      "simplify 0 @ 367: 0.01 seconds\n",
      "time: 0.01\n",
      "marching cube: 0.01 seconds\n",
      "mesh_to_polydata: 0.01 seconds\n",
      "simplify 0 @ 4072: 0.05 seconds\n",
      "simplify 1 @ 816: 0.04 seconds\n",
      "time: 0.11\n",
      "marching cube: 0.01 seconds\n",
      "mesh_to_polydata: 0.01 seconds\n",
      "simplify 0 @ 5074: 0.06 seconds\n",
      "simplify 1 @ 1016: 0.04 seconds\n",
      "simplify 2 @ 204: 0.01 seconds\n",
      "time: 0.14\n",
      "marching cube: 0.08 seconds\n",
      "mesh_to_polydata: 0.01 seconds\n",
      "simplify 0 @ 8608: 0.08 seconds\n",
      "simplify 1 @ 1723: 0.07 seconds\n",
      "simplify 2 @ 346: 0.02 seconds\n",
      "time: 0.26\n",
      "marching cube: 0.00 seconds\n",
      "mesh_to_polydata: 0.00 seconds\n",
      "simplify 0 @ 440: 0.01 seconds\n",
      "time: 0.01\n",
      "marching cube: 0.01 seconds\n",
      "mesh_to_polydata: 0.01 seconds\n",
      "simplify 0 @ 3330: 0.04 seconds\n",
      "simplify 1 @ 667: 0.03 seconds\n",
      "time: 0.09\n",
      "marching cube: 0.01 seconds\n",
      "mesh_to_polydata: 0.01 seconds\n",
      "simplify 0 @ 3239: 0.03 seconds\n",
      "simplify 1 @ 649: 0.03 seconds\n",
      "time: 0.08\n",
      "marching cube: 0.67 seconds\n",
      "mesh_to_polydata: 0.20 seconds\n",
      "simplify 0 @ 124290: 1.40 seconds\n",
      "simplify 1 @ 24859: 1.92 seconds\n",
      "simplify 2 @ 4973: 0.49 seconds\n",
      "time: 4.72\n",
      "marching cube: 0.03 seconds\n",
      "mesh_to_polydata: 0.02 seconds\n",
      "simplify 0 @ 5484: 0.12 seconds\n",
      "simplify 1 @ 1098: 0.07 seconds\n",
      "simplify 2 @ 221: 0.02 seconds\n",
      "time: 0.26\n",
      "marching cube: 0.00 seconds\n",
      "mesh_to_polydata: 0.00 seconds\n",
      "simplify 0 @ 610: 0.02 seconds\n",
      "time: 0.04\n"
     ]
    }
   ],
   "source": [
    "for name_s, label in name_to_label_m.iteritems():\n",
    "    \n",
    "    xmin, xmax, ymin, ymax, zmin, zmax = bbox_3d(volume_m_alignedTo_f == label)\n",
    "    vol = (volume_m_alignedTo_f[ymin:ymax+1, xmin:xmax+1, zmin:zmax+1] == label).astype(np.float)\n",
    "\n",
    "    t = time.time()\n",
    "    polydata = volume_to_polydata(vol, origin=(vol_f_xmin+xmin, vol_f_ymin+ymin, vol_f_zmin+zmin), \n",
    "                                  num_simplify_iter=3, smooth=True)\n",
    "    sys.stderr.write('time: %.2f\\n' % (time.time() - t) )\n",
    "    \n",
    "    polydata_fn = DataManager.get_transformed_volume_mesh_filepath(stack_m=stack_moving, type_m='annotation',\n",
    "                                                stack_f=stack_fixed, type_f='annotation',\n",
    "                                                 downscale=32, label=name_s, global_transform_scheme=1)    \n",
    "    save_mesh(polydata, polydata_fn)"
   ]
  },
  {
   "cell_type": "markdown",
   "metadata": {},
   "source": [
    "# Load annotation volume meshes"
   ]
  },
  {
   "cell_type": "code",
   "execution_count": 7,
   "metadata": {
    "collapsed": false
   },
   "outputs": [],
   "source": [
    "# Load moving volume aligned to fixed\n",
    "\n",
    "moving_volume_alignedTo_fixed_volume_polydata_list = \\\n",
    "{name_s: DataManager.load_transformed_volume_mesh(stack_m=stack_moving, type_m='annotation',\n",
    "                                                stack_f=stack_fixed, type_f='annotation',\n",
    "                                                downscale=32, label=name_s, global_transform_scheme=1)\n",
    " for name_s in name_to_label_m.iterkeys()}"
   ]
  },
  {
   "cell_type": "code",
   "execution_count": 8,
   "metadata": {
    "collapsed": false
   },
   "outputs": [],
   "source": [
    "# Load moving volume\n",
    "\n",
    "moving_volume_polydata_list = \\\n",
    "{name_s: DataManager.load_annotation_volume_mesh(stack=stack_moving, downscale=32, label=name_s)\n",
    " for name_s in name_to_label_m.iterkeys()}"
   ]
  },
  {
   "cell_type": "code",
   "execution_count": 9,
   "metadata": {
    "collapsed": true
   },
   "outputs": [],
   "source": [
    "# Load fixed volume\n",
    "\n",
    "fixed_volume_polydata_list = \\\n",
    "{name_s: DataManager.load_annotation_volume_mesh(stack=stack_fixed, downscale=32, label=name_s)\n",
    " for name_s in name_to_label_f.iterkeys()}"
   ]
  },
  {
   "cell_type": "code",
   "execution_count": 10,
   "metadata": {
    "collapsed": false
   },
   "outputs": [],
   "source": [
    "# # Show each structure in one color\n",
    "\n",
    "# volume_m_alignedTo_f_mesh_actors = [actor_mesh(polydata, colors[convert_name_to_unsided(name_s)], wireframe=True, opacity=1.) \n",
    "#                for name_s, polydata in moving_volume_alignedTo_fixed_volume_polydata_list.iteritems()]\n",
    "\n",
    "# volume_f_mesh_actors = [actor_mesh(polydata, colors[convert_name_to_unsided(name_s)], wireframe=True, opacity=1.) \n",
    "#                for name_s, polydata in fixed_volume_polydata_list.iteritems()]\n",
    "\n",
    "# launch_vtk(volume_m_alignedTo_f_mesh_actors + volume_f_mesh_actors)"
   ]
  },
  {
   "cell_type": "code",
   "execution_count": 50,
   "metadata": {
    "collapsed": false
   },
   "outputs": [],
   "source": [
    "# # Show each brain in one color\n",
    "\n",
    "# volume_m_alignedTo_f_mesh_actors = [actor_mesh(polydata, (1,0,1), wireframe=False, opacity=.5) \n",
    "#                for name_s, polydata in moving_volume_alignedTo_fixed_volume_polydata_list.iteritems()]\n",
    "\n",
    "# volume_f_mesh_actors = [actor_mesh(polydata, (0,0,1), wireframe=True, opacity=.5, \n",
    "#                                    origin=(0,0,0)) \n",
    "#                for name_s, polydata in fixed_volume_polydata_list.iteritems()]\n",
    "\n",
    "# volume_m_mesh_actors = [actor_mesh(polydata, (0,1,1), wireframe=True, opacity=.5,\n",
    "#                                   origin=(0,0,0)) \n",
    "#                for name_s, polydata in moving_volume_polydata_list.iteritems()]"
   ]
  },
  {
   "cell_type": "code",
   "execution_count": null,
   "metadata": {
    "collapsed": true
   },
   "outputs": [],
   "source": [
    "# launch_vtk(volume_m_alignedTo_f_mesh_actors + volume_f_mesh_actors + volume_m_mesh_actors)"
   ]
  },
  {
   "cell_type": "code",
   "execution_count": 71,
   "metadata": {
    "collapsed": true
   },
   "outputs": [],
   "source": [
    "# launch_vtk(volume_m_alignedTo_f_mesh_actors + volume_f_mesh_actors)"
   ]
  },
  {
   "cell_type": "code",
   "execution_count": 66,
   "metadata": {
    "collapsed": true
   },
   "outputs": [],
   "source": [
    "# launch_vtk(volume_f_mesh_actors + volume_m_mesh_actors, init_angle='30')"
   ]
  },
  {
   "cell_type": "code",
   "execution_count": 13,
   "metadata": {
    "collapsed": false
   },
   "outputs": [],
   "source": [
    "launch_vtk(\n",
    "        [actor_mesh(polydata, (0,0,1), wireframe=True, opacity=1) \n",
    "             for name_s, polydata in fixed_volume_polydata_list.iteritems()] + \\\n",
    "           \n",
    "           [actor_mesh(polydata, (0,1,0), wireframe=True, opacity=1)\n",
    "               for name_s, polydata in moving_volume_alignedTo_fixed_volume_polydata_list.iteritems()],\n",
    "           \n",
    "#           [actor_mesh(polydata, structure_colors[convert_name_to_unsided(n)]/255., origin=canonical_centroid) \n",
    "#                     for n, polydata in atlas_space_structure_meshes.iteritems()])\n",
    "#            [actor_mesh(polydata, color=(1,1,1), wireframe=True, origin=canonical_centroid) \n",
    "#                     for n, polydata in atlas_space_structure_meshes.iteritems()] + \\\n",
    "#             [actor_mesh(shell_polydata, opacity=.2)],\n",
    "          init_angle='horizontal_topDown')"
   ]
  },
  {
   "cell_type": "code",
   "execution_count": null,
   "metadata": {
    "collapsed": true
   },
   "outputs": [],
   "source": []
  },
  {
   "cell_type": "markdown",
   "metadata": {},
   "source": [
    "# Generate atlas (average shapes at average positions)"
   ]
  },
  {
   "cell_type": "code",
   "execution_count": 13,
   "metadata": {
    "collapsed": true
   },
   "outputs": [],
   "source": [
    "all_names = set([convert_name_to_unsided(name_s) for name_s in name_to_label_f.keys()])"
   ]
  },
  {
   "cell_type": "code",
   "execution_count": 14,
   "metadata": {
    "collapsed": true
   },
   "outputs": [],
   "source": [
    "centroid_allLandmarks = defaultdict(list)\n",
    "polydata_list_allLandmarks = {}\n",
    "average_polydata_allLandmarks = {}\n",
    "average_volume_allLandmarks = {}\n",
    "average_volume_origin_allLandmarks = {}"
   ]
  },
  {
   "cell_type": "code",
   "execution_count": 15,
   "metadata": {
    "collapsed": false,
    "scrolled": true
   },
   "outputs": [
    {
     "name": "stdout",
     "output_type": "stream",
     "text": [
      "Tz\n"
     ]
    },
    {
     "name": "stderr",
     "output_type": "stream",
     "text": [
      "icp: 3.84\n",
      "icp: 5.03\n",
      "icp: 4.09\n",
      "polydata_to_volume: 0.00\n",
      "polydata_to_volume: 0.00\n",
      "polydata_to_volume: 0.00\n",
      "polydata_to_volume: 0.00\n",
      "find common: 0.00\n",
      "marching cube: 0.02 seconds\n",
      "mesh_to_polydata: 0.01 seconds\n",
      "simplify 0 @ 4529: 0.08 seconds\n",
      "simplify 1 @ 907: 0.06 seconds\n",
      "volume_to_polydata: 0.20\n"
     ]
    },
    {
     "name": "stdout",
     "output_type": "stream",
     "text": [
      "VCA\n"
     ]
    },
    {
     "name": "stderr",
     "output_type": "stream",
     "text": [
      "icp: 14.19\n",
      "icp: 13.47\n",
      "icp: 12.23\n",
      "polydata_to_volume: 0.00\n",
      "polydata_to_volume: 0.00\n",
      "polydata_to_volume: 0.00\n",
      "polydata_to_volume: 0.00\n",
      "find common: 0.00\n",
      "marching cube: 0.04 seconds\n",
      "mesh_to_polydata: 0.02 seconds\n",
      "simplify 0 @ 11962: 0.10 seconds\n",
      "simplify 1 @ 2394: 0.10 seconds\n",
      "simplify 2 @ 480: 0.02 seconds\n",
      "volume_to_polydata: 0.28\n"
     ]
    },
    {
     "name": "stdout",
     "output_type": "stream",
     "text": [
      "7n\n"
     ]
    },
    {
     "name": "stderr",
     "output_type": "stream",
     "text": [
      "icp: 8.01\n",
      "icp: 11.45\n",
      "icp: 11.37\n",
      "polydata_to_volume: 0.01\n",
      "polydata_to_volume: 0.01\n",
      "polydata_to_volume: 0.01\n",
      "polydata_to_volume: 0.01\n",
      "find common: 0.02\n",
      "marching cube: 0.10 seconds\n",
      "mesh_to_polydata: 0.01 seconds\n",
      "simplify 0 @ 8992: 0.07 seconds\n",
      "simplify 1 @ 1800: 0.08 seconds\n",
      "simplify 2 @ 361: 0.02 seconds\n",
      "volume_to_polydata: 0.29\n"
     ]
    },
    {
     "name": "stdout",
     "output_type": "stream",
     "text": [
      "DC\n"
     ]
    },
    {
     "name": "stderr",
     "output_type": "stream",
     "text": [
      "icp: 13.17\n",
      "icp: 9.56\n",
      "icp: 13.14\n",
      "polydata_to_volume: 0.01\n",
      "polydata_to_volume: 0.01\n",
      "polydata_to_volume: 0.01\n",
      "polydata_to_volume: 0.00\n",
      "find common: 0.01\n",
      "marching cube: 0.07 seconds\n",
      "mesh_to_polydata: 0.02 seconds\n",
      "simplify 0 @ 12565: 0.13 seconds\n",
      "simplify 1 @ 2515: 0.13 seconds\n",
      "simplify 2 @ 508: 0.03 seconds\n",
      "volume_to_polydata: 0.39\n"
     ]
    },
    {
     "name": "stdout",
     "output_type": "stream",
     "text": [
      "5N\n"
     ]
    },
    {
     "name": "stderr",
     "output_type": "stream",
     "text": [
      "icp: 6.40\n",
      "icp: 5.62\n",
      "icp: 5.78\n",
      "polydata_to_volume: 0.00\n",
      "polydata_to_volume: 0.00\n",
      "polydata_to_volume: 0.00\n",
      "polydata_to_volume: 0.00\n",
      "find common: 0.00\n",
      "marching cube: 0.02 seconds\n",
      "mesh_to_polydata: 0.01 seconds\n",
      "simplify 0 @ 6485: 0.06 seconds\n",
      "simplify 1 @ 1298: 0.06 seconds\n",
      "simplify 2 @ 261: 0.01 seconds\n",
      "volume_to_polydata: 0.17\n"
     ]
    },
    {
     "name": "stdout",
     "output_type": "stream",
     "text": [
      "3N\n"
     ]
    },
    {
     "name": "stderr",
     "output_type": "stream",
     "text": [
      "icp: 0.99\n",
      "icp: 1.25\n",
      "icp: 1.98\n",
      "polydata_to_volume: 0.00\n",
      "polydata_to_volume: 0.00\n",
      "polydata_to_volume: 0.00\n",
      "polydata_to_volume: 0.00\n",
      "find common: 0.00\n",
      "marching cube: 0.01 seconds\n",
      "mesh_to_polydata: 0.01 seconds\n",
      "simplify 0 @ 2146: 0.04 seconds\n",
      "simplify 1 @ 430: 0.03 seconds\n",
      "volume_to_polydata: 0.09\n"
     ]
    },
    {
     "name": "stdout",
     "output_type": "stream",
     "text": [
      "Pn\n"
     ]
    },
    {
     "name": "stderr",
     "output_type": "stream",
     "text": [
      "icp: 16.78\n",
      "icp: 20.35\n",
      "icp: 14.14\n",
      "polydata_to_volume: 0.01\n",
      "polydata_to_volume: 0.01\n",
      "polydata_to_volume: 0.01\n",
      "polydata_to_volume: 0.00\n",
      "find common: 0.01\n",
      "marching cube: 0.05 seconds\n",
      "mesh_to_polydata: 0.02 seconds\n",
      "simplify 0 @ 15697: 0.13 seconds\n",
      "simplify 1 @ 3141: 0.12 seconds\n",
      "simplify 2 @ 629: 0.03 seconds\n",
      "volume_to_polydata: 0.36\n"
     ]
    },
    {
     "name": "stdout",
     "output_type": "stream",
     "text": [
      "10N\n"
     ]
    },
    {
     "name": "stderr",
     "output_type": "stream",
     "text": [
      "icp: 2.92\n",
      "icp: 2.56\n",
      "icp: 4.67\n",
      "polydata_to_volume: 0.00\n",
      "polydata_to_volume: 0.00\n",
      "polydata_to_volume: 0.00\n",
      "polydata_to_volume: 0.00\n",
      "find common: 0.00\n",
      "marching cube: 0.04 seconds\n",
      "mesh_to_polydata: 0.01 seconds\n",
      "simplify 0 @ 3347: 0.05 seconds\n",
      "simplify 1 @ 671: 0.04 seconds\n",
      "volume_to_polydata: 0.15\n"
     ]
    },
    {
     "name": "stdout",
     "output_type": "stream",
     "text": [
      "VLL\n"
     ]
    },
    {
     "name": "stderr",
     "output_type": "stream",
     "text": [
      "icp: 12.34\n",
      "icp: 13.49\n",
      "icp: 10.36\n",
      "polydata_to_volume: 0.01\n",
      "polydata_to_volume: 0.01\n",
      "polydata_to_volume: 0.01\n",
      "polydata_to_volume: 0.00\n",
      "find common: 0.02\n",
      "marching cube: 0.12 seconds\n",
      "mesh_to_polydata: 0.02 seconds\n",
      "simplify 0 @ 12027: 0.12 seconds\n",
      "simplify 1 @ 2407: 0.11 seconds\n",
      "simplify 2 @ 483: 0.02 seconds\n",
      "volume_to_polydata: 0.39\n"
     ]
    },
    {
     "name": "stdout",
     "output_type": "stream",
     "text": [
      "7N\n"
     ]
    },
    {
     "name": "stderr",
     "output_type": "stream",
     "text": [
      "icp: 7.89\n",
      "icp: 8.55\n",
      "icp: 11.98\n",
      "polydata_to_volume: 0.00\n",
      "polydata_to_volume: 0.00\n",
      "polydata_to_volume: 0.00\n",
      "polydata_to_volume: 0.00\n",
      "find common: 0.00\n",
      "marching cube: 0.03 seconds\n",
      "mesh_to_polydata: 0.02 seconds\n",
      "simplify 0 @ 10537: 0.10 seconds\n",
      "simplify 1 @ 2109: 0.09 seconds\n",
      "simplify 2 @ 423: 0.02 seconds\n",
      "volume_to_polydata: 0.26\n"
     ]
    },
    {
     "name": "stdout",
     "output_type": "stream",
     "text": [
      "Amb\n"
     ]
    },
    {
     "name": "stderr",
     "output_type": "stream",
     "text": [
      "icp: 2.16\n",
      "icp: 3.17\n",
      "icp: 2.46\n",
      "polydata_to_volume: 0.00\n",
      "polydata_to_volume: 0.00\n",
      "polydata_to_volume: 0.00\n",
      "polydata_to_volume: 0.00\n",
      "find common: 0.00\n",
      "marching cube: 0.00 seconds\n",
      "mesh_to_polydata: 0.00 seconds\n",
      "simplify 0 @ 789: 0.01 seconds\n",
      "volume_to_polydata: 0.02\n"
     ]
    },
    {
     "name": "stdout",
     "output_type": "stream",
     "text": [
      "12N\n"
     ]
    },
    {
     "name": "stderr",
     "output_type": "stream",
     "text": [
      "icp: 13.62\n",
      "polydata_to_volume: 0.01\n",
      "polydata_to_volume: 0.01\n",
      "find common: 0.00\n",
      "marching cube: 0.06 seconds\n",
      "mesh_to_polydata: 0.03 seconds\n",
      "simplify 0 @ 10422: 0.17 seconds\n",
      "simplify 1 @ 2086: 0.15 seconds\n",
      "simplify 2 @ 418: 0.03 seconds\n",
      "volume_to_polydata: 0.44\n"
     ]
    },
    {
     "name": "stdout",
     "output_type": "stream",
     "text": [
      "RMC\n"
     ]
    },
    {
     "name": "stderr",
     "output_type": "stream",
     "text": [
      "icp: 4.70\n",
      "icp: 3.36\n",
      "icp: 4.34\n",
      "polydata_to_volume: 0.00\n",
      "polydata_to_volume: 0.01\n",
      "polydata_to_volume: 0.00\n",
      "polydata_to_volume: 0.00\n",
      "find common: 0.00\n",
      "marching cube: 0.04 seconds\n",
      "mesh_to_polydata: 0.02 seconds\n",
      "simplify 0 @ 5832: 0.10 seconds\n",
      "simplify 1 @ 1168: 0.10 seconds\n",
      "simplify 2 @ 235: 0.02 seconds\n",
      "volume_to_polydata: 0.28\n"
     ]
    },
    {
     "name": "stdout",
     "output_type": "stream",
     "text": [
      "Sp5O\n"
     ]
    },
    {
     "name": "stderr",
     "output_type": "stream",
     "text": [
      "icp: 11.94\n",
      "icp: 6.29\n",
      "icp: 8.77\n",
      "polydata_to_volume: 0.00\n",
      "polydata_to_volume: 0.00\n",
      "polydata_to_volume: 0.00\n",
      "polydata_to_volume: 0.00\n",
      "find common: 0.01\n",
      "marching cube: 0.08 seconds\n",
      "mesh_to_polydata: 0.03 seconds\n",
      "simplify 0 @ 11378: 0.22 seconds\n",
      "simplify 1 @ 2277: 0.18 seconds\n",
      "simplify 2 @ 457: 0.04 seconds\n",
      "volume_to_polydata: 0.55\n"
     ]
    },
    {
     "name": "stdout",
     "output_type": "stream",
     "text": [
      "Sp5I\n"
     ]
    },
    {
     "name": "stderr",
     "output_type": "stream",
     "text": [
      "icp: 8.93\n",
      "icp: 4.97\n",
      "icp: 12.59\n",
      "polydata_to_volume: 0.00\n",
      "polydata_to_volume: 0.00\n",
      "polydata_to_volume: 0.00\n",
      "polydata_to_volume: 0.00\n",
      "find common: 0.01\n",
      "marching cube: 0.09 seconds\n",
      "mesh_to_polydata: 0.02 seconds\n",
      "simplify 0 @ 9100: 0.13 seconds\n",
      "simplify 1 @ 1821: 0.08 seconds\n",
      "simplify 2 @ 365: 0.02 seconds\n",
      "volume_to_polydata: 0.34\n"
     ]
    },
    {
     "name": "stdout",
     "output_type": "stream",
     "text": [
      "Sp5C\n"
     ]
    },
    {
     "name": "stderr",
     "output_type": "stream",
     "text": [
      "icp: 37.89\n",
      "icp: 34.23\n",
      "icp: 32.42\n",
      "polydata_to_volume: 0.02\n",
      "polydata_to_volume: 0.02\n",
      "polydata_to_volume: 0.03\n",
      "polydata_to_volume: 0.01\n",
      "find common: 0.04\n",
      "marching cube: 0.32 seconds\n",
      "mesh_to_polydata: 0.06 seconds\n",
      "simplify 0 @ 29337: 0.37 seconds\n",
      "simplify 1 @ 5869: 0.31 seconds\n",
      "simplify 2 @ 1175: 0.06 seconds\n",
      "volume_to_polydata: 1.12\n"
     ]
    },
    {
     "name": "stdout",
     "output_type": "stream",
     "text": [
      "VCP\n"
     ]
    },
    {
     "name": "stderr",
     "output_type": "stream",
     "text": [
      "icp: 5.17\n",
      "icp: 4.03\n",
      "icp: 9.15\n",
      "polydata_to_volume: 0.00\n",
      "polydata_to_volume: 0.02\n",
      "polydata_to_volume: 0.00\n",
      "polydata_to_volume: 0.00\n",
      "find common: 0.01\n",
      "marching cube: 0.06 seconds\n",
      "mesh_to_polydata: 0.02 seconds\n",
      "simplify 0 @ 7175: 0.12 seconds\n",
      "simplify 1 @ 1437: 0.10 seconds\n",
      "simplify 2 @ 288: 0.02 seconds\n",
      "volume_to_polydata: 0.32\n"
     ]
    },
    {
     "name": "stdout",
     "output_type": "stream",
     "text": [
      "AP\n"
     ]
    },
    {
     "name": "stderr",
     "output_type": "stream",
     "text": [
      "icp: 1.59\n",
      "polydata_to_volume: 0.00\n",
      "polydata_to_volume: 0.00\n",
      "find common: 0.00\n",
      "marching cube: 0.01 seconds\n",
      "mesh_to_polydata: 0.00 seconds\n",
      "simplify 0 @ 2309: 0.02 seconds\n",
      "simplify 1 @ 463: 0.02 seconds\n",
      "volume_to_polydata: 0.06\n"
     ]
    },
    {
     "name": "stdout",
     "output_type": "stream",
     "text": [
      "PBG\n"
     ]
    },
    {
     "name": "stderr",
     "output_type": "stream",
     "text": [
      "icp: 0.93\n",
      "icp: 1.70\n",
      "icp: 2.36\n",
      "polydata_to_volume: 0.00\n",
      "polydata_to_volume: 0.00\n",
      "polydata_to_volume: 0.00\n",
      "polydata_to_volume: 0.00\n",
      "find common: 0.00\n",
      "marching cube: 0.02 seconds\n",
      "mesh_to_polydata: 0.01 seconds\n",
      "simplify 0 @ 2207: 0.03 seconds\n",
      "simplify 1 @ 443: 0.03 seconds\n",
      "volume_to_polydata: 0.09\n"
     ]
    },
    {
     "name": "stdout",
     "output_type": "stream",
     "text": [
      "LRt\n"
     ]
    },
    {
     "name": "stderr",
     "output_type": "stream",
     "text": [
      "icp: 9.75\n",
      "icp: 7.86\n",
      "icp: 14.74\n",
      "polydata_to_volume: 0.00\n",
      "polydata_to_volume: 0.00\n",
      "polydata_to_volume: 0.00\n",
      "polydata_to_volume: 0.01\n",
      "find common: 0.01\n",
      "marching cube: 0.04 seconds\n",
      "mesh_to_polydata: 0.02 seconds\n",
      "simplify 0 @ 10898: 0.09 seconds\n",
      "simplify 1 @ 2181: 0.09 seconds\n",
      "simplify 2 @ 437: 0.02 seconds\n",
      "volume_to_polydata: 0.27\n"
     ]
    },
    {
     "name": "stdout",
     "output_type": "stream",
     "text": [
      "IC\n"
     ]
    },
    {
     "name": "stderr",
     "output_type": "stream",
     "text": [
      "icp: 106.45\n",
      "polydata_to_volume: 0.07\n",
      "polydata_to_volume: 0.07\n",
      "find common: 0.05\n",
      "marching cube: 0.47 seconds\n",
      "mesh_to_polydata: 0.11 seconds\n",
      "simplify 0 @ 59097: 0.78 seconds\n",
      "simplify 1 @ 11821: 0.67 seconds\n",
      "simplify 2 @ 2365: 0.13 seconds\n",
      "volume_to_polydata: 2.17\n"
     ]
    },
    {
     "name": "stdout",
     "output_type": "stream",
     "text": [
      "LC\n"
     ]
    },
    {
     "name": "stderr",
     "output_type": "stream",
     "text": [
      "icp: 2.07\n",
      "icp: 1.78\n",
      "icp: 1.67\n",
      "polydata_to_volume: 0.00\n",
      "polydata_to_volume: 0.00\n",
      "polydata_to_volume: 0.00\n",
      "polydata_to_volume: 0.00\n",
      "find common: 0.00\n",
      "marching cube: 0.01 seconds\n",
      "mesh_to_polydata: 0.01 seconds\n",
      "simplify 0 @ 3583: 0.04 seconds\n",
      "simplify 1 @ 718: 0.03 seconds\n",
      "volume_to_polydata: 0.09\n"
     ]
    },
    {
     "name": "stdout",
     "output_type": "stream",
     "text": [
      "4N\n"
     ]
    },
    {
     "name": "stderr",
     "output_type": "stream",
     "text": [
      "icp: 1.01\n",
      "icp: 1.54\n",
      "icp: 1.12\n",
      "polydata_to_volume: 0.00\n",
      "polydata_to_volume: 0.00\n",
      "polydata_to_volume: 0.00\n",
      "polydata_to_volume: 0.00\n",
      "find common: 0.00\n",
      "marching cube: 0.00 seconds\n",
      "mesh_to_polydata: 0.00 seconds\n",
      "simplify 0 @ 348: 0.00 seconds\n",
      "volume_to_polydata: 0.01\n"
     ]
    },
    {
     "name": "stdout",
     "output_type": "stream",
     "text": [
      "SNC\n"
     ]
    },
    {
     "name": "stderr",
     "output_type": "stream",
     "text": [
      "icp: 5.33\n",
      "icp: 5.62\n",
      "icp: 7.93\n",
      "polydata_to_volume: 0.01\n",
      "polydata_to_volume: 0.01\n",
      "polydata_to_volume: 0.01\n",
      "polydata_to_volume: 0.01\n",
      "find common: 0.01\n",
      "marching cube: 0.08 seconds\n",
      "mesh_to_polydata: 0.02 seconds\n",
      "simplify 0 @ 7396: 0.10 seconds\n",
      "simplify 1 @ 1480: 0.13 seconds\n",
      "simplify 2 @ 297: 0.02 seconds\n",
      "volume_to_polydata: 0.35\n"
     ]
    },
    {
     "name": "stdout",
     "output_type": "stream",
     "text": [
      "6N\n"
     ]
    },
    {
     "name": "stderr",
     "output_type": "stream",
     "text": [
      "icp: 2.84\n",
      "icp: 0.91\n",
      "icp: 2.27\n",
      "polydata_to_volume: 0.00\n",
      "polydata_to_volume: 0.00\n",
      "polydata_to_volume: 0.00\n",
      "polydata_to_volume: 0.00\n",
      "find common: 0.00\n",
      "marching cube: 0.00 seconds\n",
      "mesh_to_polydata: 0.00 seconds\n",
      "simplify 0 @ 694: 0.01 seconds\n",
      "volume_to_polydata: 0.01\n"
     ]
    },
    {
     "name": "stdout",
     "output_type": "stream",
     "text": [
      "SNR\n"
     ]
    },
    {
     "name": "stderr",
     "output_type": "stream",
     "text": [
      "icp: 16.56\n",
      "icp: 38.17\n",
      "icp: 31.40\n",
      "polydata_to_volume: 0.03\n",
      "polydata_to_volume: 0.02\n",
      "polydata_to_volume: 0.03\n",
      "polydata_to_volume: 0.03\n",
      "find common: 0.04\n",
      "marching cube: 0.36 seconds\n",
      "mesh_to_polydata: 0.09 seconds\n",
      "simplify 0 @ 28199: 0.46 seconds\n",
      "simplify 1 @ 5641: 0.52 seconds\n",
      "simplify 2 @ 1129: 0.11 seconds\n",
      "volume_to_polydata: 1.56\n"
     ]
    },
    {
     "name": "stdout",
     "output_type": "stream",
     "text": [
      "SC\n"
     ]
    },
    {
     "name": "stderr",
     "output_type": "stream",
     "text": [
      "icp: 186.97\n",
      "polydata_to_volume: 0.10\n",
      "polydata_to_volume: 0.10\n",
      "find common: 0.09\n",
      "marching cube: 0.74 seconds\n",
      "mesh_to_polydata: 0.14 seconds\n",
      "simplify 0 @ 97080: 0.93 seconds\n",
      "simplify 1 @ 19417: 1.01 seconds\n",
      "simplify 2 @ 3885: 0.19 seconds\n",
      "volume_to_polydata: 3.04\n"
     ]
    },
    {
     "name": "stdout",
     "output_type": "stream",
     "text": [
      "RtTg\n"
     ]
    },
    {
     "name": "stderr",
     "output_type": "stream",
     "text": [
      "icp: 34.55\n",
      "polydata_to_volume: 0.01\n",
      "polydata_to_volume: 0.01\n",
      "find common: 0.01\n",
      "marching cube: 0.14 seconds\n",
      "mesh_to_polydata: 0.04 seconds\n",
      "simplify 0 @ 20819: 0.22 seconds\n",
      "simplify 1 @ 4162: 0.19 seconds\n",
      "simplify 2 @ 834: 0.04 seconds\n",
      "volume_to_polydata: 0.63\n"
     ]
    }
   ],
   "source": [
    "for name_u in all_names:\n",
    "\n",
    "    print name_u\n",
    "    \n",
    "    vertices_list = []\n",
    "    faces_list = []\n",
    "    \n",
    "    if name_u in singular_structures:\n",
    "        \n",
    "        vertices, faces = DataManager.load_annotation_volume_mesh(stack=stack_fixed, downscale=32, \n",
    "                                                                  label=name_u, return_polydata_only=False)\n",
    "        \n",
    "\n",
    "        vertices_mirrored = vertices.copy()\n",
    "        zmean = vertices[:,2].mean(axis=0)\n",
    "        vertices_mirrored[:, 2] = - (vertices[:, 2] - zmean) + zmean # mirror L to align with R, keep zmin        \n",
    "\n",
    "        vertices_list.append(vertices)\n",
    "        faces_list.append(faces)\n",
    "\n",
    "        vertices_list.append(vertices_mirrored)\n",
    "        faces_list.append(faces)\n",
    "        \n",
    "        centroid = vertices.mean(axis=0)\n",
    "        centroid_allLandmarks[name_u].append(centroid)\n",
    "        \n",
    "    \n",
    "    else:\n",
    "    \n",
    "        lname = convert_to_left_name(name_u)\n",
    "        rname = convert_to_right_name(name_u)\n",
    "\n",
    "        if lname in name_to_label_f:\n",
    "\n",
    "            ############## Left #############\n",
    "\n",
    "            vertices, faces = DataManager.load_annotation_volume_mesh(stack=stack_fixed, downscale=32, \n",
    "                                                                  label=lname, return_polydata_only=False)\n",
    "\n",
    "            zmean = vertices[:,2].mean(axis=0)\n",
    "            vertices[:, 2] = - (vertices[:, 2] - zmean) + zmean # mirror L to align with R, keep zmin\n",
    "\n",
    "            vertices_list.append(vertices)\n",
    "            faces_list.append(faces)\n",
    "\n",
    "            centroid = vertices.mean(axis=0)\n",
    "            centroid_allLandmarks[lname].append(centroid)\n",
    "\n",
    "        if rname in name_to_label_f:\n",
    "\n",
    "            ################# Right ############## \n",
    "            # Right shape is used as the template\n",
    "            #####################################\n",
    "\n",
    "            vertices, faces = DataManager.load_annotation_volume_mesh(stack=stack_fixed, downscale=32, \n",
    "                                                            label=rname, return_polydata_only=False)\n",
    "\n",
    "            vertices_list.append(vertices)\n",
    "            faces_list.append(faces)\n",
    "\n",
    "            centroid = vertices.mean(axis=0)\n",
    "            centroid_allLandmarks[rname].append(centroid)\n",
    "\n",
    "\n",
    "        if lname in name_to_label_m:\n",
    "            \n",
    "            vertices, faces = DataManager.load_transformed_volume_mesh(stack_m=stack_moving, type_m='annotation',\n",
    "                                                                       stack_f=stack_fixed, type_f='annotation',\n",
    "                                                                       downscale=32, label=lname, \n",
    "                                                                       global_transform_scheme=1,\n",
    "                                                                       return_polydata_only=False)\n",
    "\n",
    "            zmean = vertices[:,2].mean(axis=0)\n",
    "            vertices[:, 2] = - (vertices[:, 2] - zmean) + zmean # mirror L to align with R, keep zmin\n",
    "\n",
    "            vertices_list.append(vertices)\n",
    "            faces_list.append(faces)\n",
    "\n",
    "\n",
    "            centroid = vertices.mean(axis=0)\n",
    "            centroid_allLandmarks[lname].append(centroid)\n",
    "\n",
    "        if rname in name_to_label_m:\n",
    "\n",
    "            vertices, faces = DataManager.load_transformed_volume_mesh(stack_m=stack_moving, type_m='annotation',\n",
    "                                                                       stack_f=stack_fixed, type_f='annotation',\n",
    "                                                                       downscale=32, label=rname, \n",
    "                                                                       global_transform_scheme=1,\n",
    "                                                                       return_polydata_only=False)\n",
    "\n",
    "            vertices_list.append(vertices)\n",
    "            faces_list.append(faces)\n",
    "\n",
    "            centroid = vertices.mean(axis=0)\n",
    "            centroid_allLandmarks[rname].append(centroid)\n",
    "        \n",
    "        \n",
    "    #############################\n",
    "    \n",
    "    vertices_aligned_list = [] # all meshes in this list have vertices mean at (0,0)\n",
    "\n",
    "    for i, vertices in enumerate(vertices_list):\n",
    "\n",
    "        if i == 0:\n",
    "            vertices1 = vertices.copy()\n",
    "            vertices_aligned_list.append(vertices1 - vertices1.mean(axis=0))\n",
    "        else:            \n",
    "            t = time.time()                    \n",
    "            vertices_alignedTo1 = icp(fixed_pts=vertices1, moving_pts=vertices, num_iter=100, rotation_only=True)\n",
    "            sys.stderr.write('icp: %.2f\\n' % (time.time() - t))\n",
    "\n",
    "            vertices_aligned_list.append(vertices_alignedTo1 - vertices_alignedTo1.mean(axis=0))\n",
    "\n",
    "    ################################\n",
    "    \n",
    "    polydata_list = [mesh_to_polydata(vs, fs) for vs, fs in zip(vertices_aligned_list, faces_list)]\n",
    "    \n",
    "    polydata_list_allLandmarks[name_u] = polydata_list\n",
    "        \n",
    "    average_volume, average_volume_origin, average_polydata = average_shape(polydata_list, \n",
    "                                                                            consensus_percentage=.5,\n",
    "                                                                            num_simplify_iter=3, smooth=True)\n",
    "    # these all have vertices mean at (0,0,0)\n",
    "    \n",
    "    average_polydata_allLandmarks[name_u] = average_polydata\n",
    "    average_volume_allLandmarks[name_u] = average_volume\n",
    "    average_volume_origin_allLandmarks[name_u] = average_volume_origin\n",
    "    \n",
    "#     instance_actors = [actor_mesh(polydata, np.random.randint(0,255,3)/255., opacity=.5, wireframe=True) \n",
    "#                    for polydata in polydata_list_allLandmarks[name_u]]\n",
    "\n",
    "#     average_mesh_actor = actor_mesh(average_polydata_allLandmarks[name_u], (1,1,1), opacity=.5, wireframe=True)\n",
    "#     launch_vtk(instance_actors + [average_mesh_actor])\n",
    "    \n",
    "#     average_volume_actor = actor_volume(average_volume.astype(np.float32), \n",
    "#                                         what='probability', origin=average_volume_origin)\n",
    "#     launch_vtk(instance_actors + [average_volume_actor])"
   ]
  },
  {
   "cell_type": "code",
   "execution_count": null,
   "metadata": {
    "collapsed": false
   },
   "outputs": [],
   "source": [
    "# Take pics of different instances of 7N separately\n",
    "\n",
    "for i, polydata in enumerate(polydata_list_allLandmarks['7N']):\n",
    "    instance_actors = actor_mesh(polydata, [(1,0,0),(0,1,0),(0,0,1),(1,1,0)][i], opacity=1, wireframe=False)\n",
    "    launch_vtk([instance_actors], snapshot_fn='/home/yuncong/7N_%d.png' % i, interactive=True, init_angle='coronal')"
   ]
  },
  {
   "cell_type": "code",
   "execution_count": null,
   "metadata": {
    "collapsed": false
   },
   "outputs": [],
   "source": [
    "# Take pic of different instances of 7N shown aligned together\n",
    "\n",
    "instance_actors = [actor_mesh(polydata, [(1,0,0),(0,1,0),(0,0,1),(1,1,0)][i], opacity=.5, wireframe=True) \n",
    "                   for i, polydata in enumerate(polydata_list_allLandmarks['7N'])]\n",
    "launch_vtk(instance_actors, snapshot_fn='/home/yuncong/7N_aligned.png', interactive=False, init_angle='coronal')"
   ]
  },
  {
   "cell_type": "code",
   "execution_count": null,
   "metadata": {
    "collapsed": false
   },
   "outputs": [],
   "source": [
    "# Take pic of merged probabilistic volume of 7N\n",
    "\n",
    "average_volume_actor = actor_volume(average_volume_allLandmarks['7N'].astype(np.float32), \n",
    "                                        what='probability', origin=average_volume_origin_allLandmarks['7N'])\n",
    "launch_vtk([average_volume_actor], snapshot_fn='/home/yuncong/7N_prob.png', interactive=False, init_angle='coronal')"
   ]
  },
  {
   "cell_type": "code",
   "execution_count": null,
   "metadata": {
    "collapsed": false
   },
   "outputs": [],
   "source": [
    "# Take pic of merged probabilistic volume of 7N, thresholded at .5\n",
    "\n",
    "actor = actor_mesh(average_polydata_allLandmarks['7N'], [1,1,1], opacity=.5, wireframe=True)\n",
    "launch_vtk([actor], snapshot_fn='/home/yuncong/7N_thresholded.png', interactive=False, init_angle='coronal')"
   ]
  },
  {
   "cell_type": "code",
   "execution_count": 16,
   "metadata": {
    "collapsed": false
   },
   "outputs": [
    {
     "name": "stdout",
     "output_type": "stream",
     "text": [
      "[ 0.03719807 -0.09707115  0.99458206] @ [ 796.70135498  373.97094727  308.76776123]\n"
     ]
    }
   ],
   "source": [
    "canonical_locations, canonical_centroid, canonical_normal = average_location(centroid_allLandmarks)\n",
    "# canonical locations are with respect to canonical centroid\n",
    "# canonical centroid is with respect to the aligned uncropped volume of MD589"
   ]
  },
  {
   "cell_type": "code",
   "execution_count": 17,
   "metadata": {
    "collapsed": false
   },
   "outputs": [
    {
     "name": "stdout",
     "output_type": "stream",
     "text": [
      "deviation angle: 5.96693\n"
     ]
    }
   ],
   "source": [
    "print 'deviation angle:', np.rad2deg(np.arccos(canonical_normal[2]))"
   ]
  },
  {
   "cell_type": "code",
   "execution_count": 18,
   "metadata": {
    "collapsed": false
   },
   "outputs": [],
   "source": [
    "atlas_space_structure_volumes = {}\n",
    "atlas_space_structure_meshes = {}\n",
    "\n",
    "for name_s in name_to_label_f.iterkeys():\n",
    "    \n",
    "    name_u = convert_name_to_unsided(name_s)\n",
    "    \n",
    "    average_volume = average_volume_allLandmarks[name_u]\n",
    "    average_volume_origin = average_volume_origin_allLandmarks[name_u]\n",
    "    average_polydata = average_polydata_allLandmarks[name_u]\n",
    "    \n",
    "    vs, fs = polydata_to_mesh(average_polydata)\n",
    "    \n",
    "    canonical_structure_centroid = canonical_locations[name_s]\n",
    "    \n",
    "    if name_s in singular_structures or '_R' in name_s:\n",
    "        # singular or LEFT - don't need mirroring\n",
    "    \n",
    "        atlas_space_structure_volumes[name_s] = (average_volume, \n",
    "                                            canonical_structure_centroid + average_volume_origin)    \n",
    "        atlas_space_structure_meshes[name_s] = mesh_to_polydata(vs + canonical_structure_centroid, fs)\n",
    "        # mesh has \"canonical centroid\" as the origin\n",
    "\n",
    "    else:\n",
    "        # RIGHT - need mirroring\n",
    "        \n",
    "        atlas_space_structure_volumes[name_s] = mirror_volume(average_volume, \n",
    "                                             canonical_structure_centroid + average_volume_origin*(1,1,-1))\n",
    "        atlas_space_structure_meshes[name_s] = mesh_to_polydata(vs*(1,1,-1) + canonical_structure_centroid, fs)"
   ]
  },
  {
   "cell_type": "code",
   "execution_count": 19,
   "metadata": {
    "collapsed": false
   },
   "outputs": [],
   "source": [
    "# Save atlas structure meshes\n",
    "\n",
    "for name_s, mesh in atlas_space_structure_meshes.iteritems():\n",
    "    save_mesh_stl(mesh, DataManager.get_mesh_filepath(stack=atlas_name, label=name_s))"
   ]
  },
  {
   "cell_type": "code",
   "execution_count": 20,
   "metadata": {
    "collapsed": true
   },
   "outputs": [],
   "source": [
    "# Save atlas structure volumes - individual structures\n",
    "\n",
    "create_if_not_exists(os.path.join(MESH_ROOTDIR, atlas_name, 'structure_prob_volume'))\n",
    "\n",
    "for name_s, (volume, origin) in atlas_space_structure_volumes.iteritems():\n",
    "    bp.pack_ndarray_file(volume, os.path.join(MESH_ROOTDIR, atlas_name, 'structure_prob_volume', 'prob_volume_%s.bp'%name_s))\n",
    "    np.savetxt(os.path.join(MESH_ROOTDIR, atlas_name, 'structure_prob_volume', 'prob_volume_origin_%s.txt'%name_s), origin)\n",
    "                \n",
    "write_dict_to_txt(canonical_locations, os.path.join(MESH_ROOTDIR, atlas_name, 'canonical_locations.txt'))\n",
    "np.savetxt(os.path.join(MESH_ROOTDIR, atlas_name, 'canonical_centroid.txt'), canonical_centroid)\n",
    "np.savetxt(os.path.join(MESH_ROOTDIR, atlas_name, 'canonical_normal.txt'), canonical_normal)"
   ]
  },
  {
   "cell_type": "markdown",
   "metadata": {},
   "source": [
    "# Generate atlas score volumes - named atlasV2"
   ]
  },
  {
   "cell_type": "code",
   "execution_count": 23,
   "metadata": {
    "collapsed": true
   },
   "outputs": [],
   "source": [
    "paired_structures = ['5N', '6N', '7N', '7n', 'Amb', 'LC', 'LRt', 'Pn', 'Tz', 'VLL', 'RMC', 'SNC', 'SNR', '3N', '4N',\n",
    "                    'Sp5I', 'Sp5O', 'Sp5C', 'PBG', '10N', 'VCA', 'VCP', 'DC']\n",
    "singular_structures = ['AP', '12N', 'RtTg', 'SC', 'IC']\n",
    "structures = paired_structures + singular_structures\n",
    "\n",
    "structure_colors = {n: np.random.randint(0, 255, (3,)) for n in structures}\n",
    "\n",
    "structures_sided = sum([[n] if n in singular_structures else [convert_to_left_name(n), convert_to_right_name(n)]\n",
    "                        for n in structures], [])"
   ]
  },
  {
   "cell_type": "code",
   "execution_count": 24,
   "metadata": {
    "collapsed": false
   },
   "outputs": [
    {
     "name": "stdout",
     "output_type": "stream",
     "text": [
      "annotation volume bbox : 622 1042 155 502 127 503\n"
     ]
    }
   ],
   "source": [
    "ann_vol_xmin, ann_vol_xmax, ann_vol_ymin, ann_vol_ymax, ann_vol_zmin, ann_vol_zmax = \\\n",
    "DataManager.load_volume_bbox(stack=stack_fixed, type='annotation', downscale=32)\n",
    "\n",
    "print 'annotation volume bbox :', ann_vol_xmin, ann_vol_xmax, ann_vol_ymin, ann_vol_ymax, ann_vol_zmin, ann_vol_zmax"
   ]
  },
  {
   "cell_type": "code",
   "execution_count": null,
   "metadata": {
    "collapsed": true
   },
   "outputs": [],
   "source": [
    "prob_volume_structure_bboxes = {}\n",
    "for name_s in structures_sided:    \n",
    "    volume, origin = atlas_space_structure_volumes[name_s] \n",
    "    ydim, xdim, zdim = volume.shape\n",
    "    x, y, z = np.round(origin + canonical_centroid - \\\n",
    "            (ann_vol_xmin, ann_vol_ymin, ann_vol_zmin)).astype(np.int)\n",
    "    prob_volume_structure_bboxes[name_s] = ( x, x+xdim-1, y, y+ydim-1, z, z+zdim-1)"
   ]
  },
  {
   "cell_type": "code",
   "execution_count": 79,
   "metadata": {
    "collapsed": false
   },
   "outputs": [
    {
     "name": "stdout",
     "output_type": "stream",
     "text": [
      "prob volume bbox: -3 414 -3 340 -4 368\n"
     ]
    }
   ],
   "source": [
    "bboxes = np.array([bbox for n, bbox in prob_volume_structure_bboxes.iteritems()])\n",
    "prob_vol_xmin, prob_vol_ymin, prob_vol_zmin = np.min(bboxes[:, [0,2,4]], axis=0)\n",
    "prob_vol_xmax, prob_vol_ymax, prob_vol_zmax = np.max(bboxes[:, [1,3,5]], axis=0)\n",
    "print 'prob volume bbox:', prob_vol_xmin, prob_vol_xmax, prob_vol_ymin, prob_vol_ymax, prob_vol_zmin, prob_vol_zmax\n",
    "\n",
    "prob_vol_xdim = prob_vol_xmax + 1 - prob_vol_xmin\n",
    "prob_vol_ydim = prob_vol_ymax + 1 - prob_vol_ymin\n",
    "prob_vol_zdim = prob_vol_zmax + 1 - prob_vol_zmin"
   ]
  },
  {
   "cell_type": "code",
   "execution_count": 82,
   "metadata": {
    "collapsed": false
   },
   "outputs": [],
   "source": [
    "# Create an atlas proba. volume with all structures\n",
    "\n",
    "atlas_prob_volume_allLandmarks = {}\n",
    "\n",
    "for name_s in structures_sided:\n",
    "        \n",
    "    atlas_prob_volume = np.zeros((prob_vol_ydim, prob_vol_xdim, prob_vol_zdim), np.float16)\n",
    "\n",
    "    volume, origin = atlas_space_structure_volumes[name_s] \n",
    "    ydim, xdim, zdim = volume.shape\n",
    "\n",
    "    # Convert canonical locations to actual location\n",
    "    # Being lazy here: the z axis should be orthogonal to the canonical normal, but here I assume z axis is the original\n",
    "     \n",
    "    # first line: wrt aligned uncropped MD589\n",
    "    # second line: wrt annotation volume MD589\n",
    "    # third line: wrt atlas volume\n",
    "    x, y, z = np.round(origin + canonical_centroid - \\\n",
    "            (ann_vol_xmin, ann_vol_ymin, ann_vol_zmin) - \\\n",
    "            (prob_vol_xmin, prob_vol_ymin, prob_vol_zmin)).astype(np.int)\n",
    "    \n",
    "    atlas_prob_volume[y:y+ydim, x:x+xdim, z:z+zdim] = volume\n",
    "    \n",
    "    atlas_prob_volume_allLandmarks[name_s] = atlas_prob_volume"
   ]
  },
  {
   "cell_type": "code",
   "execution_count": 83,
   "metadata": {
    "collapsed": false,
    "scrolled": true
   },
   "outputs": [
    {
     "data": {
      "image/png": "[encoded data removed]",
      "text/plain": [
       "<matplotlib.figure.Figure at 0x7f4881439f10>"
      ]
     },
     "metadata": {},
     "output_type": "display_data"
    }
   ],
   "source": [
    "display_volume_sections(atlas_prob_volume_allLandmarks['Tz_L'], every=3)"
   ]
  },
  {
   "cell_type": "code",
   "execution_count": 84,
   "metadata": {
    "collapsed": true
   },
   "outputs": [],
   "source": [
    "# Save atlas score volume.\n",
    "\n",
    "for name_s, vol in atlas_prob_volume_allLandmarks.iteritems():\n",
    "    vol_fn = DataManager.get_score_volume_filepath(stack=atlas_name, label=name_s, downscale=32)\n",
    "    create_if_not_exists(os.path.dirname(vol_fn))\n",
    "    bp.pack_ndarray_file(vol, vol_fn)"
   ]
  },
  {
   "cell_type": "code",
   "execution_count": 85,
   "metadata": {
    "collapsed": false
   },
   "outputs": [],
   "source": [
    "# Save atlas score volume bbox txt.\n",
    "\n",
    "for name_s, vol in atlas_prob_volume_allLandmarks.iteritems():\n",
    "    fn = DataManager.get_score_volume_bbox_filepath(stack=atlas_name, label=name_s, downscale=32)\n",
    "    np.savetxt(fn, np.array([prob_vol_xmin, prob_vol_xmax, prob_vol_ymin, prob_vol_ymax, prob_vol_zmin, prob_vol_zmax], np.int)[None,:])\n",
    "    # This is wrt MD589 annotation volume"
   ]
  },
  {
   "cell_type": "code",
   "execution_count": 86,
   "metadata": {
    "collapsed": false,
    "scrolled": true
   },
   "outputs": [
    {
     "name": "stdout",
     "output_type": "stream",
     "text": [
      "LRt_R\n",
      "Sp5C_L\n",
      "Pn_L\n",
      "7N_R\n",
      "PBG_L\n",
      "VLL_L\n",
      "4N_R\n",
      "VLL_R\n",
      "7N_L\n",
      "PBG_R\n",
      "RtTg\n",
      "Sp5C_R\n",
      "Pn_R\n",
      "LRt_L\n",
      "Sp5O_R\n",
      "SNR_L\n",
      "12N\n",
      "SNR_R\n",
      "Sp5O_L\n",
      "DC_R\n",
      "VCA_L\n",
      "3N_L\n",
      "6N_R\n",
      "Sp5I_L\n",
      "RMC_R\n",
      "5N_L\n",
      "SNC_L\n",
      "SNC_R\n",
      "AP\n",
      "RMC_L\n",
      "Sp5I_R\n",
      "3N_R\n",
      "6N_L\n",
      "IC\n",
      "VCA_R\n",
      "DC_L\n",
      "Amb_R\n",
      "VCP_R\n",
      "LC_R\n",
      "10N_R\n",
      "7n_R\n",
      "5N_R\n",
      "Tz_L\n",
      "Tz_R\n",
      "7n_L\n",
      "4N_L\n",
      "LC_L\n",
      "10N_L\n",
      "SC\n",
      "VCP_L\n",
      "Amb_L\n"
     ]
    }
   ],
   "source": [
    "# Generate and save surround score volumes. (in fact binary, but dtype is np.float16, same as interior score volumes.)\n",
    "\n",
    "for name_s, vol in atlas_prob_volume_allLandmarks.iteritems():\n",
    "    \n",
    "    surround_vol = get_surround_volume(vol, valid_level=.1, distance=15)\n",
    "    \n",
    "    vol_fn = DataManager.get_score_volume_filepath(stack=atlas_name, label=name_s+'_surround', downscale=32)\n",
    "    \n",
    "    create_if_not_exists(os.path.dirname(vol_fn))\n",
    "    bp.pack_ndarray_file(surround_vol, vol_fn)"
   ]
  },
  {
   "cell_type": "code",
   "execution_count": 87,
   "metadata": {
    "collapsed": true
   },
   "outputs": [],
   "source": [
    "# Save surround score volume bbox txt.\n",
    "\n",
    "for n, vol in atlas_prob_volume_allLandmarks.iteritems():\n",
    "    fn = DataManager.get_score_volume_bbox_filepath(stack=atlas_name, label=n + '_surround', downscale=32)\n",
    "    np.savetxt(fn, np.array([prob_vol_xmin, prob_vol_xmax, prob_vol_ymin, prob_vol_ymax, prob_vol_zmin, prob_vol_zmax], np.int)[None,:])\n",
    "    # This is wrt MD589 annotation volume"
   ]
  },
  {
   "cell_type": "code",
   "execution_count": 88,
   "metadata": {
    "collapsed": false,
    "scrolled": true
   },
   "outputs": [
    {
     "name": "stderr",
     "output_type": "stream",
     "text": [
      "marching cube: 0.08 seconds\n",
      "mesh_to_polydata: 0.04 seconds\n",
      "simplify 0 @ 30127: 0.27 seconds\n",
      "simplify 1 @ 6028: 0.26 seconds\n",
      "simplify 2 @ 1208: 0.05 seconds\n",
      "marching cube: 0.06 seconds\n",
      "mesh_to_polydata: 0.03 seconds\n",
      "simplify 0 @ 30118: 0.26 seconds\n",
      "simplify 1 @ 6026: 0.26 seconds\n",
      "simplify 2 @ 1208: 0.09 seconds\n",
      "marching cube: 0.01 seconds\n",
      "mesh_to_polydata: 0.02 seconds\n",
      "simplify 0 @ 8527: 0.07 seconds\n",
      "simplify 1 @ 1708: 0.06 seconds\n",
      "simplify 2 @ 344: 0.01 seconds\n",
      "marching cube: 0.01 seconds\n",
      "mesh_to_polydata: 0.01 seconds\n",
      "simplify 0 @ 8515: 0.07 seconds\n",
      "simplify 1 @ 1706: 0.06 seconds\n",
      "simplify 2 @ 344: 0.01 seconds\n",
      "marching cube: 0.08 seconds\n",
      "mesh_to_polydata: 0.05 seconds\n",
      "simplify 0 @ 39329: 0.37 seconds\n",
      "simplify 1 @ 7869: 0.38 seconds\n",
      "simplify 2 @ 1577: 0.08 seconds\n",
      "marching cube: 0.08 seconds\n",
      "mesh_to_polydata: 0.05 seconds\n",
      "simplify 0 @ 39362: 0.37 seconds\n",
      "simplify 1 @ 7875: 0.37 seconds\n",
      "simplify 2 @ 1578: 0.07 seconds\n",
      "marching cube: 0.17 seconds\n",
      "mesh_to_polydata: 0.05 seconds\n",
      "simplify 0 @ 43093: 0.57 seconds\n",
      "simplify 1 @ 8621: 0.70 seconds\n",
      "simplify 2 @ 1727: 0.15 seconds\n",
      "marching cube: 0.32 seconds\n",
      "mesh_to_polydata: 0.10 seconds\n",
      "simplify 0 @ 43073: 0.61 seconds\n",
      "simplify 1 @ 8617: 0.65 seconds\n",
      "simplify 2 @ 1726: 0.10 seconds\n",
      "marching cube: 0.02 seconds\n",
      "mesh_to_polydata: 0.01 seconds\n",
      "simplify 0 @ 9563: 0.10 seconds\n",
      "simplify 1 @ 1915: 0.08 seconds\n",
      "simplify 2 @ 386: 0.02 seconds\n",
      "marching cube: 0.02 seconds\n",
      "mesh_to_polydata: 0.01 seconds\n",
      "simplify 0 @ 9573: 0.12 seconds\n",
      "simplify 1 @ 1917: 0.08 seconds\n",
      "simplify 2 @ 386: 0.02 seconds\n",
      "marching cube: 0.04 seconds\n",
      "mesh_to_polydata: 0.03 seconds\n",
      "simplify 0 @ 20411: 0.21 seconds\n",
      "simplify 1 @ 4085: 0.19 seconds\n",
      "simplify 2 @ 820: 0.04 seconds\n",
      "marching cube: 0.05 seconds\n",
      "mesh_to_polydata: 0.03 seconds\n",
      "simplify 0 @ 20391: 0.20 seconds\n",
      "simplify 1 @ 4081: 0.17 seconds\n",
      "simplify 2 @ 819: 0.04 seconds\n",
      "marching cube: 0.09 seconds\n",
      "mesh_to_polydata: 0.05 seconds\n",
      "simplify 0 @ 41223: 0.38 seconds\n",
      "simplify 1 @ 8247: 0.40 seconds\n",
      "simplify 2 @ 1652: 0.08 seconds\n",
      "marching cube: 0.09 seconds\n",
      "mesh_to_polydata: 0.05 seconds\n",
      "simplify 0 @ 41264: 0.38 seconds\n",
      "simplify 1 @ 8256: 0.40 seconds\n",
      "simplify 2 @ 1654: 0.08 seconds\n",
      "marching cube: 0.12 seconds\n",
      "mesh_to_polydata: 0.07 seconds\n",
      "simplify 0 @ 58336: 0.63 seconds\n",
      "simplify 1 @ 11670: 0.63 seconds\n",
      "simplify 2 @ 2337: 0.13 seconds\n",
      "marching cube: 0.18 seconds\n",
      "mesh_to_polydata: 0.09 seconds\n",
      "simplify 0 @ 58359: 0.65 seconds\n",
      "simplify 1 @ 11675: 0.67 seconds\n",
      "simplify 2 @ 2338: 0.14 seconds\n",
      "marching cube: 0.05 seconds\n",
      "mesh_to_polydata: 0.03 seconds\n",
      "simplify 0 @ 23184: 0.22 seconds\n",
      "simplify 1 @ 4640: 0.21 seconds\n",
      "simplify 2 @ 931: 0.04 seconds\n",
      "marching cube: 0.05 seconds\n",
      "mesh_to_polydata: 0.03 seconds\n",
      "simplify 0 @ 23190: 0.22 seconds\n",
      "simplify 1 @ 4641: 0.21 seconds\n",
      "simplify 2 @ 931: 0.04 seconds\n",
      "marching cube: 0.23 seconds\n",
      "mesh_to_polydata: 0.08 seconds\n",
      "simplify 0 @ 62012: 0.60 seconds\n",
      "simplify 1 @ 12405: 0.65 seconds\n",
      "simplify 2 @ 2484: 0.13 seconds\n",
      "marching cube: 0.25 seconds\n",
      "mesh_to_polydata: 0.09 seconds\n",
      "simplify 0 @ 61905: 0.68 seconds\n",
      "simplify 1 @ 12384: 0.69 seconds\n",
      "simplify 2 @ 2480: 0.14 seconds\n",
      "marching cube: 0.07 seconds\n",
      "mesh_to_polydata: 0.04 seconds\n",
      "simplify 0 @ 31378: 0.29 seconds\n",
      "simplify 1 @ 6278: 0.35 seconds\n",
      "simplify 2 @ 1258: 0.07 seconds\n",
      "marching cube: 0.15 seconds\n",
      "mesh_to_polydata: 0.08 seconds\n",
      "simplify 0 @ 31388: 0.56 seconds\n",
      "simplify 1 @ 6280: 0.65 seconds\n",
      "simplify 2 @ 1259: 0.13 seconds\n",
      "marching cube: 0.16 seconds\n",
      "mesh_to_polydata: 0.08 seconds\n",
      "simplify 0 @ 35360: 0.53 seconds\n",
      "simplify 1 @ 7075: 0.55 seconds\n",
      "simplify 2 @ 1418: 0.11 seconds\n",
      "marching cube: 0.16 seconds\n",
      "mesh_to_polydata: 0.08 seconds\n",
      "simplify 0 @ 35319: 0.54 seconds\n",
      "simplify 1 @ 7067: 0.46 seconds\n",
      "simplify 2 @ 1416: 0.08 seconds\n",
      "marching cube: 0.30 seconds\n",
      "mesh_to_polydata: 0.11 seconds\n",
      "simplify 0 @ 87170: 0.87 seconds\n",
      "simplify 1 @ 17435: 0.95 seconds\n",
      "simplify 2 @ 3488: 0.20 seconds\n",
      "marching cube: 0.54 seconds\n",
      "mesh_to_polydata: 0.20 seconds\n",
      "simplify 0 @ 87116: 1.38 seconds\n",
      "simplify 1 @ 17424: 1.56 seconds\n",
      "simplify 2 @ 3486: 0.31 seconds\n",
      "marching cube: 0.03 seconds\n",
      "mesh_to_polydata: 0.02 seconds\n",
      "simplify 0 @ 14212: 0.15 seconds\n",
      "simplify 1 @ 2845: 0.15 seconds\n",
      "simplify 2 @ 572: 0.03 seconds\n",
      "marching cube: 0.03 seconds\n",
      "mesh_to_polydata: 0.02 seconds\n",
      "simplify 0 @ 14223: 0.14 seconds\n",
      "simplify 1 @ 2847: 0.13 seconds\n",
      "simplify 2 @ 572: 0.03 seconds\n",
      "marching cube: 0.01 seconds\n",
      "mesh_to_polydata: 0.01 seconds\n",
      "simplify 0 @ 6805: 0.06 seconds\n",
      "simplify 1 @ 1364: 0.05 seconds\n",
      "simplify 2 @ 276: 0.01 seconds\n",
      "marching cube: 0.01 seconds\n",
      "mesh_to_polydata: 0.01 seconds\n",
      "simplify 0 @ 6798: 0.06 seconds\n",
      "simplify 1 @ 1362: 0.05 seconds\n",
      "simplify 2 @ 275: 0.01 seconds\n",
      "marching cube: 0.19 seconds\n",
      "mesh_to_polydata: 0.08 seconds\n",
      "simplify 0 @ 56832: 0.82 seconds\n",
      "simplify 1 @ 11369: 0.57 seconds\n",
      "simplify 2 @ 2277: 0.11 seconds\n",
      "marching cube: 0.19 seconds\n",
      "mesh_to_polydata: 0.08 seconds\n",
      "simplify 0 @ 56773: 0.88 seconds\n",
      "simplify 1 @ 11357: 0.69 seconds\n",
      "simplify 2 @ 2274: 0.13 seconds\n",
      "marching cube: 0.18 seconds\n",
      "mesh_to_polydata: 0.10 seconds\n",
      "simplify 0 @ 56281: 0.93 seconds\n",
      "simplify 1 @ 11259: 0.63 seconds\n",
      "simplify 2 @ 2255: 0.12 seconds\n",
      "marching cube: 0.23 seconds\n",
      "mesh_to_polydata: 0.20 seconds\n",
      "simplify 0 @ 56350: 1.88 seconds\n",
      "simplify 1 @ 11273: 1.16 seconds\n",
      "simplify 2 @ 2257: 0.24 seconds\n",
      "marching cube: 0.51 seconds\n",
      "mesh_to_polydata: 0.22 seconds\n",
      "simplify 0 @ 94968: 1.73 seconds\n",
      "simplify 1 @ 18996: 1.34 seconds\n",
      "simplify 2 @ 3802: 0.21 seconds\n",
      "marching cube: 0.30 seconds\n",
      "mesh_to_polydata: 0.15 seconds\n",
      "simplify 0 @ 94859: 1.00 seconds\n",
      "simplify 1 @ 18975: 1.10 seconds\n",
      "simplify 2 @ 3798: 0.34 seconds\n",
      "marching cube: 0.07 seconds\n",
      "mesh_to_polydata: 0.04 seconds\n",
      "simplify 0 @ 17734: 0.25 seconds\n",
      "simplify 1 @ 3550: 0.25 seconds\n",
      "simplify 2 @ 713: 0.05 seconds\n",
      "marching cube: 0.08 seconds\n",
      "mesh_to_polydata: 0.04 seconds\n",
      "simplify 0 @ 17729: 0.25 seconds\n",
      "simplify 1 @ 3549: 0.25 seconds\n",
      "simplify 2 @ 713: 0.05 seconds\n",
      "marching cube: 0.08 seconds\n",
      "mesh_to_polydata: 0.04 seconds\n",
      "simplify 0 @ 24594: 0.23 seconds\n",
      "simplify 1 @ 4922: 0.23 seconds\n",
      "simplify 2 @ 987: 0.05 seconds\n",
      "marching cube: 0.07 seconds\n",
      "mesh_to_polydata: 0.03 seconds\n",
      "simplify 0 @ 24571: 0.23 seconds\n",
      "simplify 1 @ 4917: 0.23 seconds\n",
      "simplify 2 @ 986: 0.05 seconds\n",
      "marching cube: 0.10 seconds\n",
      "mesh_to_polydata: 0.06 seconds\n",
      "simplify 0 @ 40822: 0.46 seconds\n",
      "simplify 1 @ 8166: 0.49 seconds\n",
      "simplify 2 @ 1634: 0.14 seconds\n",
      "marching cube: 0.17 seconds\n",
      "mesh_to_polydata: 0.10 seconds\n",
      "simplify 0 @ 40815: 0.79 seconds\n",
      "simplify 1 @ 8164: 0.65 seconds\n",
      "simplify 2 @ 1634: 0.14 seconds\n",
      "marching cube: 0.09 seconds\n",
      "mesh_to_polydata: 0.05 seconds\n",
      "simplify 0 @ 36073: 0.36 seconds\n",
      "simplify 1 @ 7218: 0.34 seconds\n",
      "simplify 2 @ 1446: 0.08 seconds\n",
      "marching cube: 0.09 seconds\n",
      "mesh_to_polydata: 0.05 seconds\n",
      "simplify 0 @ 36316: 0.37 seconds\n",
      "simplify 1 @ 7266: 0.39 seconds\n",
      "simplify 2 @ 1456: 0.08 seconds\n",
      "marching cube: 0.16 seconds\n",
      "mesh_to_polydata: 0.07 seconds\n",
      "simplify 0 @ 53435: 0.74 seconds\n",
      "simplify 1 @ 10690: 0.88 seconds\n",
      "simplify 2 @ 2141: 0.19 seconds\n",
      "marching cube: 0.27 seconds\n",
      "mesh_to_polydata: 0.12 seconds\n",
      "simplify 0 @ 53497: 0.92 seconds\n",
      "simplify 1 @ 10702: 0.57 seconds\n",
      "simplify 2 @ 2143: 0.12 seconds\n",
      "marching cube: 0.03 seconds\n",
      "mesh_to_polydata: 0.02 seconds\n",
      "simplify 0 @ 14963: 0.15 seconds\n",
      "simplify 1 @ 2995: 0.13 seconds\n",
      "simplify 2 @ 602: 0.03 seconds\n",
      "marching cube: 0.10 seconds\n",
      "mesh_to_polydata: 0.06 seconds\n",
      "simplify 0 @ 43467: 0.43 seconds\n",
      "simplify 1 @ 8696: 0.40 seconds\n",
      "simplify 2 @ 1742: 0.09 seconds\n",
      "marching cube: 0.58 seconds\n",
      "mesh_to_polydata: 0.24 seconds\n",
      "simplify 0 @ 98309: 1.89 seconds\n",
      "simplify 1 @ 19666: 1.51 seconds\n",
      "simplify 2 @ 3943: 0.27 seconds\n",
      "marching cube: 1.27 seconds\n",
      "mesh_to_polydata: 0.43 seconds\n",
      "simplify 0 @ 305001: 5.04 seconds\n",
      "simplify 1 @ 61001: 4.24 seconds\n",
      "simplify 2 @ 12201: 0.82 seconds\n",
      "marching cube: 0.67 seconds\n",
      "mesh_to_polydata: 0.28 seconds\n",
      "simplify 0 @ 202041: 2.68 seconds\n",
      "simplify 1 @ 40411: 2.56 seconds\n",
      "simplify 2 @ 8085: 0.49 seconds\n"
     ]
    }
   ],
   "source": [
    "# Convert surround volumes to meshes\n",
    "\n",
    "for name_s in structures_sided:\n",
    "        \n",
    "    vol_fn = DataManager.get_score_volume_filepath(stack=atlas_name, label=name_s+'_surround', downscale=32)\n",
    "    surround_vol = bp.unpack_ndarray_file(vol_fn)\n",
    "    \n",
    "    xmin, xmax, ymin, ymax, zmin, zmax = bbox_3d(surround_vol > 0)\n",
    "    \n",
    "    polydata = volume_to_polydata(surround_vol[ymin:ymax+1, xmin:xmax+1, zmin:zmax+1], \n",
    "                                  origin=(xmin+prob_vol_xmin+ann_vol_xmin-canonical_centroid[0], \n",
    "                                       ymin+prob_vol_ymin+ann_vol_ymin-canonical_centroid[1], \n",
    "                                       zmin+prob_vol_zmin+ann_vol_zmin-canonical_centroid[2]), \n",
    "                       num_simplify_iter=3, smooth=True)\n",
    "    # centered at \"canonical centroid\" - same as interior volumes\n",
    "    \n",
    "    mesh_fn = DataManager.get_mesh_filepath(stack=atlas_name, label=name_s+'_surround')\n",
    "    save_mesh(polydata, mesh_fn)"
   ]
  },
  {
   "cell_type": "code",
   "execution_count": 356,
   "metadata": {
    "collapsed": true
   },
   "outputs": [],
   "source": [
    "# surround_vol = get_surround_volume(atlas_prob_volume_allLandmarks['Pn_L'], distance=15, valid_level=0.1)\n",
    "# display_volume_sections(surround_vol)"
   ]
  },
  {
   "cell_type": "code",
   "execution_count": null,
   "metadata": {
    "collapsed": true
   },
   "outputs": [],
   "source": []
  },
  {
   "cell_type": "markdown",
   "metadata": {},
   "source": [
    "# Load and display meshes"
   ]
  },
  {
   "cell_type": "code",
   "execution_count": 25,
   "metadata": {
    "collapsed": false
   },
   "outputs": [],
   "source": [
    "# Load canonical info\n",
    "\n",
    "canonical_locations = read_dict_from_txt(os.path.join(MESH_ROOTDIR, atlas_name, 'canonical_locations.txt'))\n",
    "canonical_centroid = np.loadtxt(os.path.join(MESH_ROOTDIR, atlas_name, 'canonical_centroid.txt'))\n",
    "canonical_normal = np.loadtxt(os.path.join(MESH_ROOTDIR, atlas_name, 'canonical_normal.txt'))"
   ]
  },
  {
   "cell_type": "code",
   "execution_count": 26,
   "metadata": {
    "collapsed": false,
    "scrolled": true
   },
   "outputs": [],
   "source": [
    "# Load atlas meshes\n",
    "\n",
    "atlas_space_structure_meshes = {name_s: DataManager.load_mesh(stack=atlas_name, label=name_s)\n",
    "                                for name_s in structures_sided}"
   ]
  },
  {
   "cell_type": "code",
   "execution_count": 27,
   "metadata": {
    "collapsed": false
   },
   "outputs": [],
   "source": [
    "# Load atlas structure surround meshes\n",
    "\n",
    "atlas_space_structure_surround_meshes = {\n",
    "    name_s: DataManager.load_mesh(stack=atlas_name, label=name_s + '_surround', return_polydata_only=True)\n",
    "    for name_s in structures_sided}"
   ]
  },
  {
   "cell_type": "code",
   "execution_count": 30,
   "metadata": {
    "collapsed": false
   },
   "outputs": [],
   "source": [
    "# Load structure prob volumes\n",
    "\n",
    "atlas_space_structure_volumes = {}\n",
    "for name_s in structures_sided:    \n",
    "    volume = bp.unpack_ndarray_file(os.path.join(MESH_ROOTDIR, atlas_name, 'structure_prob_volume', 'prob_volume_%s.bp'%name_s))\n",
    "    origin = np.loadtxt(os.path.join(MESH_ROOTDIR, atlas_name, 'structure_prob_volume', 'prob_volume_origin_%s.txt'%name_s))\n",
    "    atlas_space_structure_volumes[name_s] = (volume, origin)"
   ]
  },
  {
   "cell_type": "code",
   "execution_count": 28,
   "metadata": {
    "collapsed": false
   },
   "outputs": [],
   "source": [
    "# Load shell\n",
    "shell_polydata = DataManager.load_shell_mesh(stack=stack_fixed, downscale=32)"
   ]
  },
  {
   "cell_type": "code",
   "execution_count": null,
   "metadata": {
    "collapsed": true
   },
   "outputs": [],
   "source": []
  },
  {
   "cell_type": "code",
   "execution_count": 35,
   "metadata": {
    "collapsed": false
   },
   "outputs": [],
   "source": [
    "# Create actors\n",
    "\n",
    "all_atlas_structure_mesh_actors = [actor_mesh(polydata, structure_colors[convert_name_to_unsided(n)]/255.,\n",
    "                                             wireframe=True) \n",
    "                                   for n, polydata in atlas_space_structure_meshes.iteritems()]\n",
    "\n",
    "all_atlas_structure_surround_mesh_actors = [actor_mesh(polydata, color=(1,1,1),\n",
    "                                                      wireframe=True) \n",
    "                                            for n, polydata in atlas_space_structure_surround_meshes.iteritems()]\n",
    "\n",
    "all_atlas_structure_volume_actors = []\n",
    "\n",
    "for name_s, (volume, origin) in atlas_space_structure_volumes.iteritems():\n",
    "    name_u = convert_name_to_unsided(name_s)\n",
    "    structure_volume_actor = actor_volume(volume.astype(np.float32), what='probability', origin=origin, c=colors[name_u])\n",
    "    all_atlas_structure_volume_actors.append(structure_volume_actor)\n",
    "    \n",
    "    \n",
    "shell_actor = actor_mesh(shell_polydata, (1,1,1), opacity=.15, wireframe=False, origin=-canonical_centroid)"
   ]
  },
  {
   "cell_type": "code",
   "execution_count": 33,
   "metadata": {
    "collapsed": true
   },
   "outputs": [],
   "source": [
    "launch_vtk([actor_mesh(atlas_space_structure_meshes['SNR_L'], color=(1,1,1), wireframe=True),\n",
    "            actor_mesh(atlas_space_structure_surround_meshes['SNR_L'], color=(0,1,1), wireframe=True)])"
   ]
  },
  {
   "cell_type": "code",
   "execution_count": 36,
   "metadata": {
    "collapsed": false
   },
   "outputs": [],
   "source": [
    "launch_vtk(all_atlas_structure_mesh_actors)"
   ]
  },
  {
   "cell_type": "code",
   "execution_count": 32,
   "metadata": {
    "collapsed": true
   },
   "outputs": [],
   "source": [
    "launch_vtk(all_atlas_structure_mesh_actors + all_atlas_structure_surround_mesh_actors)"
   ]
  },
  {
   "cell_type": "code",
   "execution_count": 72,
   "metadata": {
    "collapsed": true
   },
   "outputs": [],
   "source": [
    "launch_vtk(all_atlas_structure_mesh_actors + all_atlas_structure_volume_actors, init_angle='sagittal')"
   ]
  },
  {
   "cell_type": "code",
   "execution_count": 38,
   "metadata": {
    "collapsed": false
   },
   "outputs": [],
   "source": [
    "launch_vtk([actor_mesh(polydata, structure_colors[convert_name_to_unsided(n)]/255.) \n",
    "            for n, polydata in atlas_space_structure_meshes.iteritems()] + \\\n",
    "           [shell_actor], init_angle='30')"
   ]
  },
  {
   "cell_type": "code",
   "execution_count": 32,
   "metadata": {
    "collapsed": true
   },
   "outputs": [],
   "source": [
    "launch_vtk(all_atlas_structure_mesh_actors + [shell_actor], init_angle='sagittal')"
   ]
  },
  {
   "cell_type": "code",
   "execution_count": 33,
   "metadata": {
    "collapsed": true
   },
   "outputs": [],
   "source": [
    "launch_vtk(all_atlas_structure_mesh_actors + [shell_actor], init_angle='horizontal_topDown')"
   ]
  },
  {
   "cell_type": "code",
   "execution_count": 31,
   "metadata": {
    "collapsed": false
   },
   "outputs": [],
   "source": [
    "launch_vtk(all_atlas_structure_mesh_actors + [shell_actor], init_angle='horizontal_topDown', animate=False,\n",
    "          interactive=False, snapshot_fn='/home/yuncong/snapshot_horizontal.png', snapshot_magnification=10)"
   ]
  },
  {
   "cell_type": "code",
   "execution_count": 30,
   "metadata": {
    "collapsed": false
   },
   "outputs": [],
   "source": [
    "launch_vtk(all_atlas_structure_mesh_actors + [shell_actor], init_angle='sagittal', animate=False, \n",
    "           interactive=False, snapshot_fn='/home/yuncong/snapshot_sagittal.png', snapshot_magnification=10)"
   ]
  },
  {
   "cell_type": "code",
   "execution_count": 38,
   "metadata": {
    "collapsed": true
   },
   "outputs": [],
   "source": [
    "launch_vtk(all_atlas_structure_volume_actors + [shell_actor], init_angle='sagittal', animate=True)"
   ]
  },
  {
   "cell_type": "code",
   "execution_count": 74,
   "metadata": {
    "collapsed": true
   },
   "outputs": [],
   "source": [
    "launch_vtk(all_atlas_structure_volume_actors + [shell_actor], init_angle='sagittal')"
   ]
  },
  {
   "cell_type": "code",
   "execution_count": 39,
   "metadata": {
    "collapsed": true
   },
   "outputs": [],
   "source": [
    "launch_vtk(all_atlas_structure_volume_actors , init_angle='sagittal')"
   ]
  }
 ],
 "metadata": {
  "kernelspec": {
   "display_name": "Python 2",
   "language": "python",
   "name": "python2"
  },
  "language_info": {
   "codemirror_mode": {
    "name": "ipython",
    "version": 2
   },
   "file_extension": ".py",
   "mimetype": "text/x-python",
   "name": "python",
   "nbconvert_exporter": "python",
   "pygments_lexer": "ipython2",
   "version": "2.7.12"
  }
 },
 "nbformat": 4,
 "nbformat_minor": 0
}
