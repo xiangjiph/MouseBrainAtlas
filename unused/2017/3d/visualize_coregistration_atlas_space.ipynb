{
 "cells": [
  {
   "cell_type": "code",
   "execution_count": 1,
   "metadata": {
    "collapsed": false
   },
   "outputs": [
    {
     "name": "stdout",
     "output_type": "stream",
     "text": [
      "Setting environment for Local Macbook Pro\n"
     ]
    }
   ],
   "source": [
    "%reload_ext autoreload\n",
    "%autoreload 2\n",
    "\n",
    "import numpy as np\n",
    "import bloscpack as bp\n",
    "\n",
    "import sys\n",
    "import os\n",
    "sys.path.append(os.path.join(os.environ['REPO_DIR'], 'utilities'))\n",
    "from utilities2015 import *\n",
    "from annotation_utilities import *\n",
    "from registration_utilities import *\n",
    "from vis3d_utilities import *\n",
    "from metadata import *\n",
    "from data_manager_old import *\n",
    "\n",
    "import time\n",
    "\n",
    "import matplotlib.pyplot as plt\n",
    "%matplotlib inline"
   ]
  },
  {
   "cell_type": "code",
   "execution_count": 10,
   "metadata": {
    "collapsed": true
   },
   "outputs": [],
   "source": [
    "with open('colors.txt', 'r') as f:\n",
    "    colors = {l[0]: np.r_[float(l[1]), float(l[2]), float(l[3])] for l in map(lambda x: x.split(), f.readlines())}"
   ]
  },
  {
   "cell_type": "code",
   "execution_count": 11,
   "metadata": {
    "collapsed": true
   },
   "outputs": [],
   "source": [
    "train_sample_scheme = 1\n",
    "global_transform_scheme = 1\n",
    "local_transform_scheme = 2"
   ]
  },
  {
   "cell_type": "code",
   "execution_count": 12,
   "metadata": {
    "collapsed": true
   },
   "outputs": [],
   "source": [
    "atlas_name = 'atlasV2'"
   ]
  },
  {
   "cell_type": "code",
   "execution_count": 13,
   "metadata": {
    "collapsed": true
   },
   "outputs": [],
   "source": [
    "paired_structures = ['5N', '6N', '7N', '7n', 'Amb', 'LC', 'LRt', 'Pn', 'Tz', 'VLL', 'RMC', 'SNC', 'SNR', '3N', '4N',\n",
    "                    'Sp5I', 'Sp5O', 'Sp5C', 'PBG', '10N', 'VCA', 'VCP', 'DC']\n",
    "singular_structures = ['AP', '12N', 'RtTg', 'SC', 'IC']\n",
    "structures = paired_structures + singular_structures\n",
    "\n",
    "structure_colors = {n: np.random.randint(0, 255, (3,)) for n in structures}\n",
    "# with open('colors.txt', 'r') as f:\n",
    "#     colors = {l[0]: np.r_[float(l[1]), float(l[2]), float(l[3])] for l in map(lambda x: x.split(), f.readlines())}"
   ]
  },
  {
   "cell_type": "code",
   "execution_count": 14,
   "metadata": {
    "collapsed": true
   },
   "outputs": [],
   "source": [
    "structures_sided = sum([[n] if n in singular_structures else [convert_to_left_name(n), convert_to_right_name(n)]\n",
    "                        for n in structures], [])"
   ]
  },
  {
   "cell_type": "code",
   "execution_count": 179,
   "metadata": {
    "collapsed": false,
    "scrolled": true
   },
   "outputs": [],
   "source": [
    "high_contrast_colors = np.random.permutation(high_contrast_colors)\n",
    "map_name_s_to_color = {s: np.array(high_contrast_colors[i%len(high_contrast_colors)]) \n",
    "                     for i, s in enumerate(structures_sided) }"
   ]
  },
  {
   "cell_type": "code",
   "execution_count": 180,
   "metadata": {
    "collapsed": true
   },
   "outputs": [],
   "source": [
    "map_name_u_to_color = {s: np.array(high_contrast_colors[i%len(high_contrast_colors)]) \n",
    "                     for i, s in enumerate(structures) }"
   ]
  },
  {
   "cell_type": "code",
   "execution_count": 15,
   "metadata": {
    "collapsed": false
   },
   "outputs": [],
   "source": [
    "stack_colors = {n: np.array(high_contrast_colors[i%len(high_contrast_colors)]) for i, n in enumerate(all_stacks)}"
   ]
  },
  {
   "cell_type": "markdown",
   "metadata": {},
   "source": [
    "# Genrate mesh for subject volume mapped back to atlas space"
   ]
  },
  {
   "cell_type": "code",
   "execution_count": null,
   "metadata": {
    "collapsed": false,
    "scrolled": true
   },
   "outputs": [],
   "source": [
    "# Render globally transformed atlas structures\n",
    "\n",
    "# stack = 'MD590'\n",
    "for stack in all_stacks:\n",
    "    \n",
    "    for name_s in structures_sided:\n",
    "    # for name_s in ['12N']:\n",
    "\n",
    "        print name_s\n",
    "\n",
    "#         reversed_volume = \\\n",
    "#         DataManager.load_transformed_volume(stack_m=atlas_name, type_m='score', \n",
    "#                                             stack_f=stack, type_f='score',\n",
    "#                                             downscale=32, \n",
    "#                                             train_sample_scheme_f=train_sample_scheme,\n",
    "#                                             global_transform_scheme=global_transform_scheme,\n",
    "#                                             local_transform_scheme=local_transform_scheme,\n",
    "#                                             label=name_s, transitive='by')\n",
    "\n",
    "\n",
    "        reversed_volume = \\\n",
    "    DataManager.load_\n",
    "\n",
    "    #     xmin, xmax, ymin, ymax, zmin, zmax = bbox_3d(reversed_volume)\n",
    "    #     vol = reversed_volume[ymin:ymax+1, xmin:xmax+1, zmin:zmax+1]\n",
    "\n",
    "    #     dense_vol = fill_sparse_score_volume(vol)\n",
    "\n",
    "        t = time.time()\n",
    "\n",
    "        polydata = volume_to_polydata(reversed_volume, origin=(0,0,0), num_simplify_iter=3, smooth=True, level=.5)\n",
    "\n",
    "        sys.stderr.write('time: %.2f\\n' % (time.time() - t))\n",
    "\n",
    "        mesh_fn = DataManager.get_transformed_volume_mesh_filepath(stack_m=atlas_name, type_m='score', \n",
    "                                                             stack_f=stack, type_f='score', \n",
    "                                                             downscale=32,\n",
    "                                                            train_sample_scheme_f=train_sample_scheme,\n",
    "                                                            global_transform_scheme=global_transform_scheme,\n",
    "                                                            local_transform_scheme=local_transform_scheme,\n",
    "                                                            label=name_s, transitive='by')     \n",
    "\n",
    "        save_mesh(polydata, mesh_fn)"
   ]
  },
  {
   "cell_type": "markdown",
   "metadata": {},
   "source": [
    "# Load"
   ]
  },
  {
   "cell_type": "code",
   "execution_count": 25,
   "metadata": {
    "collapsed": false
   },
   "outputs": [],
   "source": [
    "# Load locally transformed atlas structure meshes\n",
    "\n",
    "reversed_polydata_list = {}\n",
    "for stack in all_nissl_stacks:\n",
    "    reversed_polydata_list[stack] = DataManager.load_transformed_volume_meshes(stack_m=atlas_name, type_m='score', \n",
    "                                                         stack_f=stack, type_f='score', \n",
    "                                                         downscale=32,\n",
    "                                                        train_sample_scheme_f=train_sample_scheme,\n",
    "                                                        global_transform_scheme=global_transform_scheme,\n",
    "                                                        local_transform_scheme=local_transform_scheme,\n",
    "                                                        labels=structures_sided, transitive='by',\n",
    "                                                      return_polydata_only=True)"
   ]
  },
  {
   "cell_type": "code",
   "execution_count": 26,
   "metadata": {
    "collapsed": false
   },
   "outputs": [
    {
     "name": "stdout",
     "output_type": "stream",
     "text": [
      "annotation volume bbox : 622 1042 155 502 127 503\n"
     ]
    }
   ],
   "source": [
    "ann_vol_xmin, ann_vol_xmax, ann_vol_ymin, ann_vol_ymax, ann_vol_zmin, ann_vol_zmax = \\\n",
    "DataManager.load_volume_bbox(stack='MD589', type='annotation', downscale=32)\n",
    "\n",
    "print 'annotation volume bbox :', ann_vol_xmin, ann_vol_xmax, ann_vol_ymin, ann_vol_ymax, ann_vol_zmin, ann_vol_zmax"
   ]
  },
  {
   "cell_type": "code",
   "execution_count": 27,
   "metadata": {
    "collapsed": true
   },
   "outputs": [],
   "source": [
    "shell_polydata = DataManager.load_shell_mesh(stack='MD589', downscale=32)"
   ]
  },
  {
   "cell_type": "code",
   "execution_count": 28,
   "metadata": {
    "collapsed": true
   },
   "outputs": [],
   "source": [
    "# Load atlas meshes"
   ]
  },
  {
   "cell_type": "code",
   "execution_count": 30,
   "metadata": {
    "collapsed": false
   },
   "outputs": [],
   "source": [
    "# Load canonical info\n",
    "canonical_locations = read_dict_from_txt(os.path.join(MESH_ROOTDIR, atlas_name, 'canonical_locations.txt'), key_converter=str)\n",
    "canonical_centroid = np.loadtxt(os.path.join(MESH_ROOTDIR, atlas_name, 'canonical_centroid.txt'))\n",
    "canonical_normal = np.loadtxt(os.path.join(MESH_ROOTDIR, atlas_name, 'canonical_normal.txt'))"
   ]
  },
  {
   "cell_type": "code",
   "execution_count": 31,
   "metadata": {
    "collapsed": false
   },
   "outputs": [],
   "source": [
    "# Load atlas meshes\n",
    "\n",
    "atlas_space_structure_meshes = DataManager.load_meshes(stack=atlas_name, labels=structures_sided)"
   ]
  },
  {
   "cell_type": "code",
   "execution_count": 32,
   "metadata": {
    "collapsed": false
   },
   "outputs": [],
   "source": [
    "# Load atlas structure surround meshes\n",
    "\n",
    "atlas_space_structure_surround_meshes = DataManager.load_meshes(stack=atlas_name, \\\n",
    "                                        labels=[n + '_surround' for n in structures_sided])"
   ]
  },
  {
   "cell_type": "code",
   "execution_count": 33,
   "metadata": {
    "collapsed": false
   },
   "outputs": [],
   "source": [
    "# Create actors\n",
    "\n",
    "all_atlas_structure_mesh_actors = {n: actor_mesh(polydata, (1.,1,1),\n",
    "                                             wireframe=False,\n",
    "                                                 opacity=.3,\n",
    "                                              origin=canonical_centroid) \n",
    "                                   for n, polydata in atlas_space_structure_meshes.iteritems()}\n",
    "\n",
    "all_atlas_structure_surround_mesh_actors = [actor_mesh(polydata, color=(0,1,0),\n",
    "                                                      wireframe=True,\n",
    "                                                      origin=canonical_centroid) \n",
    "                                            for n, polydata in atlas_space_structure_surround_meshes.iteritems()]\n",
    "    \n",
    "shell_actor = actor_mesh(shell_polydata, (1,1,1), opacity=.15, wireframe=False)"
   ]
  },
  {
   "cell_type": "code",
   "execution_count": null,
   "metadata": {
    "collapsed": true
   },
   "outputs": [],
   "source": []
  },
  {
   "cell_type": "code",
   "execution_count": null,
   "metadata": {
    "collapsed": true
   },
   "outputs": [],
   "source": [
    "# For yoav's"
   ]
  },
  {
   "cell_type": "code",
   "execution_count": 231,
   "metadata": {
    "collapsed": true
   },
   "outputs": [],
   "source": [
    "def map_name_to_opacity(name):\n",
    "#     if name in ['7N_L', '7N_R', '5N_L', '5N_R', '12N', 'Pn_L', 'Pn_R', 'LC_L', 'LC_R', 'Amb_L', 'Amb_R',\n",
    "#                'Tz_L', 'Tz_R', '3N_L', '3N_R', '4N_L', '4N_R', 'RMC_L', 'RMC_R', '10N_L', '10N_R']:\n",
    "    if name in ['VLL_L', 'RMC_L', 'LRt_L']:\n",
    "        opacity = .5\n",
    "    else:\n",
    "        opacity = 0.01\n",
    "    return opacity"
   ]
  },
  {
   "cell_type": "code",
   "execution_count": 232,
   "metadata": {
    "collapsed": true
   },
   "outputs": [],
   "source": [
    "all_reversed_structure_actors = {st: [actor_mesh(p, \n",
    "                       wireframe=False, \n",
    "#                        color=structure_colors[convert_name_to_unsided(n)]/255., \n",
    "#                         color=(0,1,0), \n",
    "#                         color=stack_colors[st]/255.,\n",
    "                        color=map_name_u_to_color[convert_to_original_name(n)]/255.,\n",
    "                        opacity=map_name_to_opacity(n),\n",
    "                      origin=(ann_vol_xmin, \n",
    "                              ann_vol_ymin, \n",
    "                              ann_vol_zmin))\n",
    "                                      for n, p in ps.iteritems() if n not in outliers or st not in outliers[n]]\n",
    "            for st, ps in reversed_polydata_list.iteritems()\n",
    "                                if st in all_nissl_stacks}"
   ]
  },
  {
   "cell_type": "code",
   "execution_count": 233,
   "metadata": {
    "collapsed": true
   },
   "outputs": [],
   "source": [
    "launch_vtk(\n",
    "#     all_atlas_structure_mesh_actors.values() + \\\n",
    "           [shell_actor] + \\\n",
    "           sum(all_reversed_structure_actors.values(), []))"
   ]
  },
  {
   "cell_type": "code",
   "execution_count": null,
   "metadata": {
    "collapsed": true
   },
   "outputs": [],
   "source": []
  },
  {
   "cell_type": "code",
   "execution_count": 150,
   "metadata": {
    "collapsed": false
   },
   "outputs": [],
   "source": [
    "all_reversed_structure_actors = {st: [actor_mesh(p, \n",
    "                       wireframe=False, \n",
    "#                        color=structure_colors[convert_name_to_unsided(n)]/255., \n",
    "#                         color=(0,1,0), \n",
    "                        color=stack_colors[st]/255.,\n",
    "                       opacity=.3,\n",
    "                      origin=(ann_vol_xmin, \n",
    "                              ann_vol_ymin, \n",
    "                              ann_vol_zmin))\n",
    "                                      for n, p in ps.iteritems() if n not in outliers or st not in outliers[n]]\n",
    "            for st, ps in reversed_polydata_list.iteritems()}"
   ]
  },
  {
   "cell_type": "code",
   "execution_count": 54,
   "metadata": {
    "collapsed": false
   },
   "outputs": [],
   "source": [
    "launch_vtk(all_atlas_structure_mesh_actors.values() + \\\n",
    "           [shell_actor] + \\\n",
    "           sum(all_reversed_structure_actors.values(), []))"
   ]
  },
  {
   "cell_type": "code",
   "execution_count": null,
   "metadata": {
    "collapsed": true
   },
   "outputs": [],
   "source": []
  },
  {
   "cell_type": "code",
   "execution_count": 37,
   "metadata": {
    "collapsed": false
   },
   "outputs": [],
   "source": [
    "outliers = read_dict_from_txt('/home/yuncong/Brain/outliers.txt', converter=str, key_converter=str)"
   ]
  },
  {
   "cell_type": "code",
   "execution_count": 55,
   "metadata": {
    "collapsed": false
   },
   "outputs": [
    {
     "name": "stdout",
     "output_type": "stream",
     "text": [
      "Outlier stack for 7N_L: MD598\n"
     ]
    }
   ],
   "source": [
    "# names_of_interest = ['7N_L', '7N_R', '5N_L', '5N_R', '12N', 'Tz_L', 'Tz_R', '7n_L', '7n_R', 'LRt_L', 'LRt_R',\n",
    "#                     'Pn_L', 'Pn_R', 'SNR_L', 'SNR_R']\n",
    "\n",
    "names_of_interest = ['7N_L']\n",
    "\n",
    "# names_of_interest = [n for n in structures_sided \\\n",
    "#                      if '_L' not in n and \\\n",
    "#                      convert_name_to_unsided(n) not in ['AP', 'DC', 'Sp5O', 'Sp5I', 'Sp5C', 'RtTg', 'VCP', 'VCA']]\n",
    "\n",
    "\n",
    "particular_reversed_structure_actors_all = {}\n",
    "\n",
    "for name_s_interest in names_of_interest:\n",
    "\n",
    "    if name_s_interest in outliers:\n",
    "        print 'Outlier stack for %s:' % name_s_interest, outliers[name_s_interest]\n",
    "\n",
    "    particular_reversed_structure_actors = [actor_mesh(p, \n",
    "                           wireframe=True, \n",
    "    #                        color=structure_colors[convert_name_to_unsided(n)]/255., \n",
    "    #                         color=(0,1,0), \n",
    "                            color=stack_colors[st]/255.,\n",
    "                           opacity=1.,\n",
    "                          origin=(ann_vol_xmin, \n",
    "                                  ann_vol_ymin, \n",
    "                                  ann_vol_zmin))\n",
    "                for st, ps in reversed_polydata_list.iteritems() for n, p in ps.iteritems() \n",
    "                                            if n == name_s_interest and \\\n",
    "                                            (name_s_interest not in outliers or st not in outliers[name_s_interest])]\n",
    "    \n",
    "    particular_reversed_structure_actors_all[name_s_interest] = particular_reversed_structure_actors"
   ]
  },
  {
   "cell_type": "code",
   "execution_count": 57,
   "metadata": {
    "collapsed": false
   },
   "outputs": [],
   "source": [
    "launch_vtk([all_atlas_structure_mesh_actors[n] for n in names_of_interest] + \\\n",
    "           [shell_actor] + \\\n",
    "           sum(particular_reversed_structure_actors_all.values(), []), init_angle='horizontal_topDown')"
   ]
  },
  {
   "cell_type": "code",
   "execution_count": 41,
   "metadata": {
    "collapsed": false
   },
   "outputs": [
    {
     "ename": "NameError",
     "evalue": "name 'all_reversed_structure_actors' is not defined",
     "output_type": "error",
     "traceback": [
      "\u001b[0;31m---------------------------------------------------------------------------\u001b[0m",
      "\u001b[0;31mNameError\u001b[0m                                 Traceback (most recent call last)",
      "\u001b[0;32m<ipython-input-41-e68f539f1335>\u001b[0m in \u001b[0;36m<module>\u001b[0;34m()\u001b[0m\n\u001b[0;32m----> 1\u001b[0;31m \u001b[0mlaunch_vtk\u001b[0m\u001b[0;34m(\u001b[0m\u001b[0mall_atlas_structure_mesh_actors\u001b[0m\u001b[0;34m.\u001b[0m\u001b[0mvalues\u001b[0m\u001b[0;34m(\u001b[0m\u001b[0;34m)\u001b[0m \u001b[0;34m+\u001b[0m \u001b[0mall_reversed_structure_actors\u001b[0m\u001b[0;34m[\u001b[0m\u001b[0;34m'MD589'\u001b[0m\u001b[0;34m]\u001b[0m \u001b[0;34m+\u001b[0m            \u001b[0;34m[\u001b[0m\u001b[0mshell_actor\u001b[0m\u001b[0;34m]\u001b[0m\u001b[0;34m)\u001b[0m\u001b[0;34m\u001b[0m\u001b[0m\n\u001b[0m",
      "\u001b[0;31mNameError\u001b[0m: name 'all_reversed_structure_actors' is not defined"
     ]
    }
   ],
   "source": [
    "launch_vtk(all_atlas_structure_mesh_actors.values() + all_reversed_structure_actors['MD589'] + \\\n",
    "           [shell_actor])"
   ]
  },
  {
   "cell_type": "code",
   "execution_count": 119,
   "metadata": {
    "collapsed": true
   },
   "outputs": [],
   "source": [
    "launch_vtk(all_atlas_structure_mesh_actors.values() + sum(all_reversed_structure_actors.values(), []) + \\\n",
    "           [shell_actor])"
   ]
  },
  {
   "cell_type": "code",
   "execution_count": null,
   "metadata": {
    "collapsed": true
   },
   "outputs": [],
   "source": []
  }
 ],
 "metadata": {
  "kernelspec": {
   "display_name": "Python 2",
   "language": "python",
   "name": "python2"
  },
  "language_info": {
   "codemirror_mode": {
    "name": "ipython",
    "version": 2
   },
   "file_extension": ".py",
   "mimetype": "text/x-python",
   "name": "python",
   "nbconvert_exporter": "python",
   "pygments_lexer": "ipython2",
   "version": "2.7.12"
  }
 },
 "nbformat": 4,
 "nbformat_minor": 1
}
