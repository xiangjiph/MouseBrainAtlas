{
 "cells": [
  {
   "cell_type": "code",
   "execution_count": 12,
   "metadata": {
    "collapsed": false
   },
   "outputs": [
    {
     "name": "stdout",
     "output_type": "stream",
     "text": [
      "Setting environment for Local Macbook Pro\n"
     ]
    }
   ],
   "source": [
    "%reload_ext autoreload\n",
    "%autoreload 2\n",
    "\n",
    "import vtk\n",
    "from vtk.util import numpy_support\n",
    "\n",
    "import numpy as np\n",
    "import bloscpack as bp\n",
    "\n",
    "import sys\n",
    "import os\n",
    "sys.path.append(os.path.join(os.environ['REPO_DIR'], 'utilities'))\n",
    "from utilities2015 import *\n",
    "from annotation_utilities import *\n",
    "from metadata import *\n",
    "\n",
    "import time\n",
    "\n",
    "import matplotlib.pyplot as plt\n",
    "%matplotlib inline\n",
    "\n",
    "from vis3d_utilities import *"
   ]
  },
  {
   "cell_type": "code",
   "execution_count": 13,
   "metadata": {
    "collapsed": true
   },
   "outputs": [],
   "source": [
    "# with open('colors.txt', 'r') as f:\n",
    "#     colors = {l[0]: np.r_[float(l[1]), float(l[2]), float(l[3])] for l in map(lambda x: x.split(), f.readlines())}"
   ]
  },
  {
   "cell_type": "code",
   "execution_count": 21,
   "metadata": {
    "collapsed": true
   },
   "outputs": [],
   "source": [
    "stack = 'MD589'\n",
    "# stack = 'MD594'"
   ]
  },
  {
   "cell_type": "code",
   "execution_count": 22,
   "metadata": {
    "collapsed": false
   },
   "outputs": [],
   "source": [
    "volume = bp.unpack_ndarray_file(os.path.join(volume_dir, '%(stack)s/%(stack)s_annotationVolume.bp' % {'stack':stack})).astype(np.uint8)\n",
    "# atlasProjected_volume = fill_sparse_volume(volume_sparse)\n",
    "# del volume_sparse"
   ]
  },
  {
   "cell_type": "code",
   "execution_count": 23,
   "metadata": {
    "collapsed": true
   },
   "outputs": [],
   "source": [
    "all_indices = set(np.unique(volume))-{0}"
   ]
  },
  {
   "cell_type": "code",
   "execution_count": 24,
   "metadata": {
    "collapsed": false
   },
   "outputs": [],
   "source": [
    "# volume_landmark_bboxes = {labels_sided[i-1]: bbox_3d(volume == i) for i in all_indices}"
   ]
  },
  {
   "cell_type": "code",
   "execution_count": 25,
   "metadata": {
    "collapsed": false
   },
   "outputs": [],
   "source": [
    "with open(os.path.join(volume_dir, '%(stack)s/%(stack)s_annotationVolume_labelIndices.txt' % {'stack':stack}), 'r') as f:\n",
    "    name_index_tuples = [line.split() for line in f.readlines()]\n",
    "    name_to_index = {name: int(index) for name, index in name_index_tuples}\n",
    "    index_to_name = {index: name for name, index in name_to_index.iteritems()}"
   ]
  },
  {
   "cell_type": "code",
   "execution_count": 26,
   "metadata": {
    "collapsed": false
   },
   "outputs": [],
   "source": [
    "colors = {name: np.array(random_colors(1)[0])/255. for name in set(map(convert_name_to_unsided, name_to_index.keys()))}"
   ]
  },
  {
   "cell_type": "code",
   "execution_count": 27,
   "metadata": {
    "collapsed": false,
    "scrolled": true
   },
   "outputs": [
    {
     "name": "stderr",
     "output_type": "stream",
     "text": [
      "marching cube: 0.13 seconds\n",
      "compute surface area: 0.00 seconds\n",
      "fill point array: 0.03 seconds\n",
      "fill cell array: 0.00 seconds\n",
      "mesh_to_polydata: 0.03 seconds\n",
      "simplify 0 @ 16456: 0.20 seconds\n"
     ]
    },
    {
     "name": "stdout",
     "output_type": "stream",
     "text": [
      "10N_L\n",
      "10N_R"
     ]
    },
    {
     "name": "stderr",
     "output_type": "stream",
     "text": [
      "simplify 1 @ 3291: 0.24 seconds\n",
      "simplify 2 @ 658: 0.04 seconds\n",
      "time: 0.64\n",
      "marching cube: 0.13 seconds\n",
      "compute surface area: 0.00 seconds\n",
      "fill point array: 0.03 seconds\n",
      "fill cell array: 0.00 seconds\n",
      "mesh_to_polydata: 0.03 seconds\n",
      "simplify 0 @ 15698: 0.19 seconds\n"
     ]
    },
    {
     "name": "stdout",
     "output_type": "stream",
     "text": [
      "\n",
      "12N"
     ]
    },
    {
     "name": "stderr",
     "output_type": "stream",
     "text": [
      "simplify 1 @ 3141: 0.14 seconds\n",
      "simplify 2 @ 629: 0.04 seconds\n",
      "time: 0.53\n",
      "marching cube: 0.24 seconds\n",
      "compute surface area: 0.02 seconds\n",
      "fill point array: 0.10 seconds\n",
      "fill cell array: 0.00 seconds\n",
      "mesh_to_polydata: 0.11 seconds\n",
      "simplify 0 @ 65896: 0.95 seconds\n",
      "simplify 1 @ 13181: 0.58 seconds\n",
      "simplify 2 @ 2637: 0.13 seconds\n"
     ]
    },
    {
     "name": "stdout",
     "output_type": "stream",
     "text": [
      "\n",
      "3N_L"
     ]
    },
    {
     "name": "stderr",
     "output_type": "stream",
     "text": [
      "time: 2.05\n",
      "marching cube: 0.02 seconds\n",
      "compute surface area: 0.00 seconds\n",
      "fill point array: 0.02 seconds\n",
      "fill cell array: 0.00 seconds\n",
      "mesh_to_polydata: 0.02 seconds\n",
      "simplify 0 @ 8810: 0.14 seconds\n"
     ]
    },
    {
     "name": "stdout",
     "output_type": "stream",
     "text": [
      "\n",
      "3N_R"
     ]
    },
    {
     "name": "stderr",
     "output_type": "stream",
     "text": [
      "simplify 1 @ 1764: 0.08 seconds\n",
      "simplify 2 @ 354: 0.02 seconds\n",
      "time: 0.29\n",
      "marching cube: 0.02 seconds\n",
      "compute surface area: 0.00 seconds\n",
      "fill point array: 0.01 seconds\n",
      "fill cell array: 0.00 seconds\n",
      "mesh_to_polydata: 0.02 seconds\n",
      "simplify 0 @ 7963: 0.13 seconds\n"
     ]
    },
    {
     "name": "stdout",
     "output_type": "stream",
     "text": [
      "\n",
      "4N_L"
     ]
    },
    {
     "name": "stderr",
     "output_type": "stream",
     "text": [
      "simplify 1 @ 1594: 0.07 seconds\n",
      "simplify 2 @ 320: 0.02 seconds\n",
      "time: 0.26\n",
      "marching cube: 0.00 seconds\n"
     ]
    },
    {
     "name": "stdout",
     "output_type": "stream",
     "text": [
      "\n",
      "4N_R"
     ]
    },
    {
     "name": "stderr",
     "output_type": "stream",
     "text": [
      "compute surface area: 0.00 seconds\n",
      "fill point array: 0.00 seconds\n",
      "fill cell array: 0.00 seconds\n",
      "mesh_to_polydata: 0.00 seconds\n",
      "simplify 0 @ 698: 0.01 seconds\n",
      "time: 0.02\n",
      "marching cube: 0.00 seconds\n"
     ]
    },
    {
     "name": "stdout",
     "output_type": "stream",
     "text": [
      "\n",
      "5N_L"
     ]
    },
    {
     "name": "stderr",
     "output_type": "stream",
     "text": [
      "compute surface area: 0.00 seconds\n",
      "fill point array: 0.00 seconds\n",
      "fill cell array: 0.00 seconds\n",
      "mesh_to_polydata: 0.00 seconds\n",
      "simplify 0 @ 1533: 0.02 seconds\n",
      "simplify 1 @ 308: 0.01 seconds\n",
      "time: 0.04\n",
      "marching cube: 0.10 seconds\n",
      "compute surface area: 0.01 seconds\n",
      "fill point array: 0.06 seconds\n",
      "fill cell array: 0.00 seconds\n",
      "mesh_to_polydata: 0.06 seconds\n",
      "simplify 0 @ 28083: 0.62 seconds\n",
      "simplify 1 @ 5618: 0.24 seconds\n",
      "simplify 2 @ 1125: 0.06 seconds\n"
     ]
    },
    {
     "name": "stdout",
     "output_type": "stream",
     "text": [
      "\n",
      "5N_R"
     ]
    },
    {
     "name": "stderr",
     "output_type": "stream",
     "text": [
      "time: 1.11\n",
      "marching cube: 0.14 seconds\n",
      "compute surface area: 0.01 seconds\n",
      "fill point array: 0.08 seconds\n",
      "fill cell array: 0.00 seconds\n",
      "mesh_to_polydata: 0.08 seconds\n",
      "simplify 0 @ 34465: 0.70 seconds\n",
      "simplify 1 @ 6894: 0.30 seconds\n",
      "simplify 2 @ 1380: 0.07 seconds\n"
     ]
    },
    {
     "name": "stdout",
     "output_type": "stream",
     "text": [
      "\n",
      "5TT_L"
     ]
    },
    {
     "name": "stderr",
     "output_type": "stream",
     "text": [
      "time: 1.31\n",
      "marching cube: 0.00 seconds\n"
     ]
    },
    {
     "name": "stdout",
     "output_type": "stream",
     "text": [
      "\n",
      "5TT_R"
     ]
    },
    {
     "name": "stderr",
     "output_type": "stream",
     "text": [
      "compute surface area: 0.00 seconds\n",
      "fill point array: 0.00 seconds\n",
      "fill cell array: 0.00 seconds\n",
      "mesh_to_polydata: 0.00 seconds\n",
      "simplify 0 @ 512: 0.03 seconds\n",
      "time: 0.04\n",
      "marching cube: 0.00 seconds\n",
      "compute surface area: 0.00 seconds\n",
      "fill point array: 0.00 seconds\n",
      "fill cell array: 0.00 seconds\n",
      "mesh_to_polydata: 0.01 seconds\n",
      "simplify 0 @ 1021: 0.05 seconds\n"
     ]
    },
    {
     "name": "stdout",
     "output_type": "stream",
     "text": [
      "\n",
      "6N_L"
     ]
    },
    {
     "name": "stderr",
     "output_type": "stream",
     "text": [
      "simplify 1 @ 205: 0.01 seconds\n",
      "time: 0.08\n",
      "marching cube: 0.01 seconds\n",
      "compute surface area: 0.00 seconds\n",
      "fill point array: 0.01 seconds\n",
      "fill cell array: 0.00 seconds\n",
      "mesh_to_polydata: 0.01 seconds\n",
      "simplify 0 @ 3704: 0.05 seconds\n"
     ]
    },
    {
     "name": "stdout",
     "output_type": "stream",
     "text": [
      "\n",
      "6N_R"
     ]
    },
    {
     "name": "stderr",
     "output_type": "stream",
     "text": [
      "simplify 1 @ 742: 0.03 seconds\n",
      "time: 0.10\n",
      "marching cube: 0.00 seconds\n",
      "compute surface area: 0.00 seconds\n",
      "fill point array: 0.00 seconds\n",
      "fill cell array: 0.00 seconds\n",
      "mesh_to_polydata: 0.00 seconds\n",
      "simplify 0 @ 2141: 0.03 seconds\n",
      "simplify 1 @ 429: 0.02 seconds\n",
      "time: 0.06\n"
     ]
    },
    {
     "name": "stdout",
     "output_type": "stream",
     "text": [
      "\n",
      "7N_L"
     ]
    },
    {
     "name": "stderr",
     "output_type": "stream",
     "text": [
      "marching cube: 0.17 seconds\n",
      "compute surface area: 0.02 seconds\n",
      "fill point array: 0.09 seconds\n",
      "fill cell array: 0.00 seconds\n",
      "mesh_to_polydata: 0.10 seconds\n",
      "simplify 0 @ 51571: 0.84 seconds\n",
      "simplify 1 @ 10315: 0.45 seconds\n",
      "simplify 2 @ 2064: 0.11 seconds\n"
     ]
    },
    {
     "name": "stdout",
     "output_type": "stream",
     "text": [
      "\n",
      "7N_R"
     ]
    },
    {
     "name": "stderr",
     "output_type": "stream",
     "text": [
      "time: 1.71\n",
      "marching cube: 0.17 seconds\n",
      "compute surface area: 0.02 seconds\n",
      "fill point array: 0.10 seconds\n",
      "fill cell array: 0.00 seconds\n",
      "mesh_to_polydata: 0.10 seconds\n",
      "simplify 0 @ 50121: 0.91 seconds\n",
      "simplify 1 @ 10025: 0.43 seconds\n",
      "simplify 2 @ 2006: 0.10 seconds\n"
     ]
    },
    {
     "name": "stdout",
     "output_type": "stream",
     "text": [
      "\n",
      "7n_L"
     ]
    },
    {
     "name": "stderr",
     "output_type": "stream",
     "text": [
      "time: 1.75\n",
      "marching cube: 0.65 seconds\n",
      "compute surface area: 0.01 seconds\n",
      "fill point array: 0.06 seconds\n",
      "fill cell array: 0.00 seconds\n",
      "mesh_to_polydata: 0.06 seconds\n",
      "simplify 0 @ 36534: 0.43 seconds\n",
      "simplify 1 @ 7308: 0.31 seconds\n",
      "simplify 2 @ 1463: 0.08 seconds\n"
     ]
    },
    {
     "name": "stdout",
     "output_type": "stream",
     "text": [
      "\n",
      "7n_R"
     ]
    },
    {
     "name": "stderr",
     "output_type": "stream",
     "text": [
      "time: 1.55\n",
      "marching cube: 0.38 seconds\n",
      "compute surface area: 0.01 seconds\n",
      "fill point array: 0.05 seconds\n",
      "fill cell array: 0.00 seconds\n",
      "mesh_to_polydata: 0.05 seconds\n",
      "simplify 0 @ 35303: 0.41 seconds\n",
      "simplify 1 @ 7062: 0.29 seconds\n",
      "simplify 2 @ 1413: 0.07 seconds\n"
     ]
    },
    {
     "name": "stdout",
     "output_type": "stream",
     "text": [
      "\n",
      "9N_L"
     ]
    },
    {
     "name": "stderr",
     "output_type": "stream",
     "text": [
      "time: 1.23\n",
      "marching cube: 0.00 seconds\n"
     ]
    },
    {
     "name": "stdout",
     "output_type": "stream",
     "text": [
      "\n",
      "9N_R"
     ]
    },
    {
     "name": "stderr",
     "output_type": "stream",
     "text": [
      "compute surface area: 0.00 seconds\n",
      "fill point array: 0.00 seconds\n",
      "fill cell array: 0.00 seconds\n",
      "mesh_to_polydata: 0.00 seconds\n",
      "simplify 0 @ 522: 0.02 seconds\n",
      "time: 0.03\n",
      "marching cube: 0.00 seconds\n"
     ]
    },
    {
     "name": "stdout",
     "output_type": "stream",
     "text": [
      "\n",
      "AP"
     ]
    },
    {
     "name": "stderr",
     "output_type": "stream",
     "text": [
      "compute surface area: 0.00 seconds\n",
      "fill point array: 0.00 seconds\n",
      "fill cell array: 0.00 seconds\n",
      "mesh_to_polydata: 0.00 seconds\n",
      "simplify 0 @ 984: 0.02 seconds\n",
      "time: 0.04\n",
      "marching cube: 0.03 seconds\n",
      "compute surface area: 0.00 seconds\n",
      "fill point array: 0.02 seconds\n",
      "fill cell array: 0.00 seconds\n",
      "mesh_to_polydata: 0.02 seconds\n",
      "simplify 0 @ 12102: 0.13 seconds\n"
     ]
    },
    {
     "name": "stdout",
     "output_type": "stream",
     "text": [
      "\n",
      "APT_L"
     ]
    },
    {
     "name": "stderr",
     "output_type": "stream",
     "text": [
      "simplify 1 @ 2422: 0.11 seconds\n",
      "simplify 2 @ 486: 0.03 seconds\n",
      "time: 0.32\n",
      "marching cube: 0.11 seconds\n",
      "compute surface area: 0.01 seconds\n",
      "fill point array: 0.05 seconds\n",
      "fill cell array: 0.00 seconds\n",
      "mesh_to_polydata: 0.05 seconds\n",
      "simplify 0 @ 25322: 0.63 seconds\n",
      "simplify 1 @ 5066: 0.21 seconds\n",
      "simplify 2 @ 1014: 0.05 seconds\n"
     ]
    },
    {
     "name": "stdout",
     "output_type": "stream",
     "text": [
      "\n",
      "APT_R"
     ]
    },
    {
     "name": "stderr",
     "output_type": "stream",
     "text": [
      "time: 1.08\n",
      "marching cube: 0.25 seconds\n",
      "compute surface area: 0.01 seconds\n",
      "fill point array: 0.08 seconds\n",
      "fill cell array: 0.00 seconds\n",
      "mesh_to_polydata: 0.08 seconds\n",
      "simplify 0 @ 54489: 0.59 seconds\n",
      "simplify 1 @ 10899: 0.49 seconds\n",
      "simplify 2 @ 2181: 0.11 seconds\n"
     ]
    },
    {
     "name": "stdout",
     "output_type": "stream",
     "text": [
      "\n",
      "Amb_L"
     ]
    },
    {
     "name": "stderr",
     "output_type": "stream",
     "text": [
      "time: 1.55\n",
      "marching cube: 0.01 seconds\n",
      "compute surface area: 0.00 seconds\n",
      "fill point array: 0.01 seconds\n",
      "fill cell array: 0.00 seconds\n",
      "mesh_to_polydata: 0.01 seconds\n",
      "simplify 0 @ 3318: 0.06 seconds\n"
     ]
    },
    {
     "name": "stdout",
     "output_type": "stream",
     "text": [
      "\n",
      "Amb_R"
     ]
    },
    {
     "name": "stderr",
     "output_type": "stream",
     "text": [
      "simplify 1 @ 665: 0.03 seconds\n",
      "time: 0.12\n",
      "marching cube: 0.01 seconds\n",
      "compute surface area: 0.00 seconds\n",
      "fill point array: 0.01 seconds\n",
      "fill cell array: 0.00 seconds\n",
      "mesh_to_polydata: 0.01 seconds\n",
      "simplify 0 @ 2120: 0.07 seconds\n"
     ]
    },
    {
     "name": "stdout",
     "output_type": "stream",
     "text": [
      "\n",
      "CC_L"
     ]
    },
    {
     "name": "stderr",
     "output_type": "stream",
     "text": [
      "simplify 1 @ 425: 0.02 seconds\n",
      "time: 0.11\n",
      "marching cube: 0.01 seconds\n"
     ]
    },
    {
     "name": "stdout",
     "output_type": "stream",
     "text": [
      "\n",
      "CC_R"
     ]
    },
    {
     "name": "stderr",
     "output_type": "stream",
     "text": [
      "compute surface area: 0.00 seconds\n",
      "fill point array: 0.00 seconds\n",
      "fill cell array: 0.00 seconds\n",
      "mesh_to_polydata: 0.00 seconds\n",
      "simplify 0 @ 282: 0.01 seconds\n",
      "time: 0.03\n",
      "marching cube: 0.07 seconds\n",
      "compute surface area: 0.00 seconds\n",
      "fill point array: 0.01 seconds\n",
      "fill cell array: 0.00 seconds\n",
      "mesh_to_polydata: 0.01 seconds\n",
      "simplify 0 @ 1462: 0.07 seconds\n"
     ]
    },
    {
     "name": "stdout",
     "output_type": "stream",
     "text": [
      "\n",
      "CereNuc_L"
     ]
    },
    {
     "name": "stderr",
     "output_type": "stream",
     "text": [
      "simplify 1 @ 296: 0.02 seconds\n",
      "time: 0.17\n",
      "marching cube: 0.15 seconds\n",
      "compute surface area: 0.01 seconds\n",
      "fill point array: 0.08 seconds\n",
      "fill cell array: 0.00 seconds\n",
      "mesh_to_polydata: 0.08 seconds\n",
      "simplify 0 @ 33653: 0.86 seconds\n",
      "simplify 1 @ 6732: 0.28 seconds\n",
      "simplify 2 @ 1347: 0.07 seconds\n"
     ]
    },
    {
     "name": "stdout",
     "output_type": "stream",
     "text": [
      "\n",
      "CereNuc_R"
     ]
    },
    {
     "name": "stderr",
     "output_type": "stream",
     "text": [
      "time: 1.46\n",
      "marching cube: 0.21 seconds\n",
      "compute surface area: 0.02 seconds\n",
      "fill point array: 0.09 seconds\n",
      "fill cell array: 0.00 seconds\n",
      "mesh_to_polydata: 0.10 seconds\n",
      "simplify 0 @ 51578: 0.90 seconds\n",
      "simplify 1 @ 10312: 0.49 seconds\n",
      "simplify 2 @ 2060: 0.11 seconds\n"
     ]
    },
    {
     "name": "stdout",
     "output_type": "stream",
     "text": [
      "\n",
      "Cu_L"
     ]
    },
    {
     "name": "stderr",
     "output_type": "stream",
     "text": [
      "time: 1.84\n",
      "marching cube: 0.00 seconds\n",
      "compute surface area: 0.00 seconds\n",
      "fill point array: 0.00 seconds\n",
      "fill cell array: 0.00 seconds\n",
      "mesh_to_polydata: 0.00 seconds\n",
      "simplify 0 @ 639: 0.04 seconds\n",
      "time: 0.06\n"
     ]
    },
    {
     "name": "stdout",
     "output_type": "stream",
     "text": [
      "\n",
      "Cu_R"
     ]
    },
    {
     "name": "stderr",
     "output_type": "stream",
     "text": [
      "marching cube: 0.01 seconds\n",
      "compute surface area: 0.00 seconds\n",
      "fill point array: 0.01 seconds\n",
      "fill cell array: 0.00 seconds\n",
      "mesh_to_polydata: 0.01 seconds\n",
      "simplify 0 @ 4026: 0.06 seconds\n"
     ]
    },
    {
     "name": "stdout",
     "output_type": "stream",
     "text": [
      "\n",
      "DCIC_L"
     ]
    },
    {
     "name": "stderr",
     "output_type": "stream",
     "text": [
      "simplify 1 @ 806: 0.04 seconds\n",
      "time: 0.13\n",
      "marching cube: 0.01 seconds\n"
     ]
    },
    {
     "name": "stdout",
     "output_type": "stream",
     "text": [
      "\n",
      "DCIC_R"
     ]
    },
    {
     "name": "stderr",
     "output_type": "stream",
     "text": [
      "compute surface area: 0.00 seconds\n",
      "fill point array: 0.00 seconds\n",
      "fill cell array: 0.00 seconds\n",
      "mesh_to_polydata: 0.00 seconds\n",
      "time: 0.02\n",
      "marching cube: 0.01 seconds\n"
     ]
    },
    {
     "name": "stdout",
     "output_type": "stream",
     "text": [
      "\n",
      "DC_L"
     ]
    },
    {
     "name": "stderr",
     "output_type": "stream",
     "text": [
      "compute surface area: 0.00 seconds\n",
      "fill point array: 0.00 seconds\n",
      "fill cell array: 0.00 seconds\n",
      "mesh_to_polydata: 0.00 seconds\n",
      "simplify 0 @ 470: 0.02 seconds\n",
      "time: 0.05\n",
      "marching cube: 0.18 seconds\n",
      "compute surface area: 0.01 seconds\n",
      "fill point array: 0.06 seconds\n",
      "fill cell array: 0.00 seconds\n",
      "mesh_to_polydata: 0.06 seconds\n",
      "simplify 0 @ 36524: 1.81 seconds\n",
      "simplify 1 @ 7306: 0.31 seconds\n",
      "simplify 2 @ 1463: 0.07 seconds\n"
     ]
    },
    {
     "name": "stdout",
     "output_type": "stream",
     "text": [
      "\n",
      "DC_R"
     ]
    },
    {
     "name": "stderr",
     "output_type": "stream",
     "text": [
      "time: 2.45\n",
      "marching cube: 2.14 seconds\n",
      "compute surface area: 0.03 seconds\n",
      "fill point array: 0.18 seconds\n",
      "fill cell array: 0.01 seconds\n",
      "mesh_to_polydata: 0.18 seconds\n",
      "simplify 0 @ 121504: 1.34 seconds\n",
      "simplify 1 @ 24302: 1.13 seconds\n",
      "simplify 2 @ 4862: 0.26 seconds\n"
     ]
    },
    {
     "name": "stdout",
     "output_type": "stream",
     "text": [
      "\n",
      "DLL_L"
     ]
    },
    {
     "name": "stderr",
     "output_type": "stream",
     "text": [
      "time: 5.14\n",
      "marching cube: 0.01 seconds\n",
      "compute surface area: 0.00 seconds\n",
      "fill point array: 0.01 seconds\n",
      "fill cell array: 0.00 seconds\n",
      "mesh_to_polydata: 0.01 seconds\n",
      "simplify 0 @ 1438: 0.07 seconds\n"
     ]
    },
    {
     "name": "stdout",
     "output_type": "stream",
     "text": [
      "\n",
      "DLL_R"
     ]
    },
    {
     "name": "stderr",
     "output_type": "stream",
     "text": [
      "simplify 1 @ 289: 0.02 seconds\n",
      "time: 0.12\n",
      "marching cube: 0.01 seconds\n",
      "compute surface area: 0.00 seconds\n",
      "fill point array: 0.01 seconds\n",
      "fill cell array: 0.00 seconds\n",
      "mesh_to_polydata: 0.01 seconds\n",
      "simplify 0 @ 3965: 0.11 seconds\n"
     ]
    },
    {
     "name": "stdout",
     "output_type": "stream",
     "text": [
      "\n",
      "DMPAG_L"
     ]
    },
    {
     "name": "stderr",
     "output_type": "stream",
     "text": [
      "simplify 1 @ 794: 0.04 seconds\n",
      "time: 0.19\n",
      "marching cube: 0.03 seconds\n",
      "compute surface area: 0.01 seconds\n",
      "fill point array: 0.03 seconds\n",
      "fill cell array: 0.00 seconds\n",
      "mesh_to_polydata: 0.03 seconds\n",
      "simplify 0 @ 4698: 0.40 seconds\n"
     ]
    },
    {
     "name": "stdout",
     "output_type": "stream",
     "text": [
      "\n",
      "DPO_L"
     ]
    },
    {
     "name": "stderr",
     "output_type": "stream",
     "text": [
      "simplify 1 @ 941: 0.05 seconds\n",
      "time: 0.52\n",
      "marching cube: 0.01 seconds\n",
      "compute surface area: 0.00 seconds\n",
      "fill point array: 0.01 seconds\n",
      "fill cell array: 0.00 seconds\n",
      "mesh_to_polydata: 0.01 seconds\n",
      "simplify 0 @ 2529: 0.04 seconds\n"
     ]
    },
    {
     "name": "stdout",
     "output_type": "stream",
     "text": [
      "\n",
      "DPO_R"
     ]
    },
    {
     "name": "stderr",
     "output_type": "stream",
     "text": [
      "simplify 1 @ 507: 0.02 seconds\n",
      "time: 0.09\n",
      "marching cube: 0.01 seconds\n",
      "compute surface area: 0.00 seconds\n",
      "fill point array: 0.00 seconds\n",
      "fill cell array: 0.00 seconds\n",
      "mesh_to_polydata: 0.00 seconds\n",
      "simplify 0 @ 1365: 0.04 seconds\n",
      "simplify 1 @ 274: 0.01 seconds\n"
     ]
    },
    {
     "name": "stdout",
     "output_type": "stream",
     "text": [
      "\n",
      "DRD_L"
     ]
    },
    {
     "name": "stderr",
     "output_type": "stream",
     "text": [
      "time: 0.07\n",
      "marching cube: 0.00 seconds\n",
      "compute surface area: 0.00 seconds\n",
      "fill point array: 0.00 seconds\n",
      "fill cell array: 0.00 seconds\n",
      "mesh_to_polydata: 0.00 seconds\n",
      "simplify 0 @ 709: 0.04 seconds\n",
      "time: 0.06\n"
     ]
    },
    {
     "name": "stdout",
     "output_type": "stream",
     "text": [
      "\n",
      "DTgP_L"
     ]
    },
    {
     "name": "stderr",
     "output_type": "stream",
     "text": [
      "marching cube: 0.00 seconds\n",
      "compute surface area: 0.00 seconds\n",
      "fill point array: 0.00 seconds\n",
      "fill cell array: 0.00 seconds\n",
      "mesh_to_polydata: 0.00 seconds\n",
      "simplify 0 @ 1217: 0.04 seconds\n",
      "simplify 1 @ 245: 0.01 seconds\n"
     ]
    },
    {
     "name": "stdout",
     "output_type": "stream",
     "text": [
      "\n",
      "DTgP_R"
     ]
    },
    {
     "name": "stderr",
     "output_type": "stream",
     "text": [
      "time: 0.07\n",
      "marching cube: 0.00 seconds\n"
     ]
    },
    {
     "name": "stdout",
     "output_type": "stream",
     "text": [
      "\n",
      "DTg_R"
     ]
    },
    {
     "name": "stderr",
     "output_type": "stream",
     "text": [
      "compute surface area: 0.00 seconds\n",
      "fill point array: 0.00 seconds\n",
      "fill cell array: 0.00 seconds\n",
      "mesh_to_polydata: 0.00 seconds\n",
      "simplify 0 @ 502: 0.02 seconds\n",
      "time: 0.04\n",
      "marching cube: 0.00 seconds\n"
     ]
    },
    {
     "name": "stdout",
     "output_type": "stream",
     "text": [
      "\n",
      "Dk_L"
     ]
    },
    {
     "name": "stderr",
     "output_type": "stream",
     "text": [
      "compute surface area: 0.00 seconds\n",
      "fill point array: 0.00 seconds\n",
      "fill cell array: 0.00 seconds\n",
      "mesh_to_polydata: 0.00 seconds\n",
      "simplify 0 @ 522: 0.03 seconds\n",
      "time: 0.04\n",
      "marching cube: 0.01 seconds\n",
      "compute surface area: 0.00 seconds\n",
      "fill point array: 0.01 seconds\n",
      "fill cell array: 0.00 seconds\n",
      "mesh_to_polydata: 0.01 seconds\n",
      "simplify 0 @ 4316: 0.08 seconds\n"
     ]
    },
    {
     "name": "stdout",
     "output_type": "stream",
     "text": [
      "\n",
      "Dk_R"
     ]
    },
    {
     "name": "stderr",
     "output_type": "stream",
     "text": [
      "simplify 1 @ 864: 0.04 seconds\n",
      "time: 0.16\n",
      "marching cube: 0.03 seconds\n",
      "compute surface area: 0.00 seconds\n",
      "fill point array: 0.02 seconds\n",
      "fill cell array: 0.00 seconds\n",
      "mesh_to_polydata: 0.02 seconds\n",
      "simplify 0 @ 8170: 0.23 seconds\n"
     ]
    },
    {
     "name": "stdout",
     "output_type": "stream",
     "text": [
      "\n",
      "EVe_L"
     ]
    },
    {
     "name": "stderr",
     "output_type": "stream",
     "text": [
      "simplify 1 @ 1635: 0.08 seconds\n",
      "simplify 2 @ 328: 0.02 seconds\n",
      "time: 0.39\n",
      "marching cube: 0.00 seconds\n"
     ]
    },
    {
     "name": "stdout",
     "output_type": "stream",
     "text": [
      "\n",
      "EW_L"
     ]
    },
    {
     "name": "stderr",
     "output_type": "stream",
     "text": [
      "compute surface area: 0.00 seconds\n",
      "fill point array: 0.00 seconds\n",
      "fill cell array: 0.00 seconds\n",
      "mesh_to_polydata: 0.00 seconds\n",
      "simplify 0 @ 455: 0.01 seconds\n",
      "time: 0.02\n",
      "marching cube: 0.02 seconds\n",
      "compute surface area: 0.00 seconds\n",
      "fill point array: 0.01 seconds\n",
      "fill cell array: 0.00 seconds\n",
      "mesh_to_polydata: 0.01 seconds\n",
      "simplify 0 @ 1334: 0.07 seconds\n"
     ]
    },
    {
     "name": "stdout",
     "output_type": "stream",
     "text": [
      "\n",
      "EW_R"
     ]
    },
    {
     "name": "stderr",
     "output_type": "stream",
     "text": [
      "simplify 1 @ 268: 0.01 seconds\n",
      "time: 0.11\n",
      "marching cube: 0.02 seconds\n",
      "compute surface area: 0.00 seconds\n",
      "fill point array: 0.01 seconds\n",
      "fill cell array: 0.00 seconds\n",
      "mesh_to_polydata: 0.01 seconds\n",
      "simplify 0 @ 1997: 0.07 seconds\n"
     ]
    },
    {
     "name": "stdout",
     "output_type": "stream",
     "text": [
      "\n",
      "Gr_L"
     ]
    },
    {
     "name": "stderr",
     "output_type": "stream",
     "text": [
      "simplify 1 @ 401: 0.02 seconds\n",
      "time: 0.13\n",
      "marching cube: 0.32 seconds\n",
      "compute surface area: 0.01 seconds\n",
      "fill point array: 0.06 seconds\n",
      "fill cell array: 0.00 seconds\n",
      "mesh_to_polydata: 0.06 seconds\n",
      "simplify 0 @ 33538: 0.46 seconds\n",
      "simplify 1 @ 6705: 0.27 seconds\n",
      "simplify 2 @ 1340: 0.07 seconds\n"
     ]
    },
    {
     "name": "stdout",
     "output_type": "stream",
     "text": [
      "\n",
      "Gr_R"
     ]
    },
    {
     "name": "stderr",
     "output_type": "stream",
     "text": [
      "time: 1.21\n",
      "marching cube: 0.47 seconds\n",
      "compute surface area: 0.01 seconds\n",
      "fill point array: 0.06 seconds\n",
      "fill cell array: 0.00 seconds\n",
      "mesh_to_polydata: 0.06 seconds\n",
      "simplify 0 @ 37268: 0.44 seconds\n",
      "simplify 1 @ 7442: 0.31 seconds\n",
      "simplify 2 @ 1486: 0.08 seconds\n"
     ]
    },
    {
     "name": "stdout",
     "output_type": "stream",
     "text": [
      "\n",
      "IC_L"
     ]
    },
    {
     "name": "stderr",
     "output_type": "stream",
     "text": [
      "time: 1.38\n",
      "marching cube: 1.43 seconds\n",
      "compute surface area: 0.06 seconds\n",
      "fill point array: 0.29 seconds\n",
      "fill cell array: 0.01 seconds\n",
      "mesh_to_polydata: 0.29 seconds\n",
      "simplify 0 @ 168630: 2.68 seconds\n",
      "simplify 1 @ 33728: 1.63 seconds\n",
      "simplify 2 @ 6747: 0.34 seconds\n"
     ]
    },
    {
     "name": "stdout",
     "output_type": "stream",
     "text": [
      "\n",
      "IC_R"
     ]
    },
    {
     "name": "stderr",
     "output_type": "stream",
     "text": [
      "time: 6.49\n",
      "marching cube: 0.50 seconds\n",
      "compute surface area: 0.03 seconds\n",
      "fill point array: 0.16 seconds\n",
      "fill cell array: 0.00 seconds\n",
      "mesh_to_polydata: 0.17 seconds\n",
      "simplify 0 @ 88898: 1.48 seconds\n",
      "simplify 1 @ 17781: 0.76 seconds\n",
      "simplify 2 @ 3557: 0.17 seconds\n"
     ]
    },
    {
     "name": "stdout",
     "output_type": "stream",
     "text": [
      "\n",
      "IF_L"
     ]
    },
    {
     "name": "stderr",
     "output_type": "stream",
     "text": [
      "time: 3.14\n",
      "marching cube: 0.01 seconds\n",
      "compute surface area: 0.00 seconds\n",
      "fill point array: 0.01 seconds\n",
      "fill cell array: 0.00 seconds\n",
      "mesh_to_polydata: 0.01 seconds\n",
      "simplify 0 @ 2493: 0.04 seconds\n"
     ]
    },
    {
     "name": "stdout",
     "output_type": "stream",
     "text": [
      "\n",
      "IF_R"
     ]
    },
    {
     "name": "stderr",
     "output_type": "stream",
     "text": [
      "simplify 1 @ 500: 0.02 seconds\n",
      "time: 0.08\n",
      "marching cube: 0.01 seconds\n",
      "compute surface area: 0.00 seconds\n",
      "fill point array: 0.00 seconds\n",
      "fill cell array: 0.00 seconds\n",
      "mesh_to_polydata: 0.00 seconds\n",
      "simplify 0 @ 1159: 0.04 seconds\n",
      "simplify 1 @ 233: 0.01 seconds\n"
     ]
    },
    {
     "name": "stdout",
     "output_type": "stream",
     "text": [
      "\n",
      "IO_L"
     ]
    },
    {
     "name": "stderr",
     "output_type": "stream",
     "text": [
      "time: 0.07\n",
      "marching cube: 0.17 seconds\n",
      "compute surface area: 0.01 seconds\n",
      "fill point array: 0.07 seconds\n",
      "fill cell array: 0.00 seconds\n",
      "mesh_to_polydata: 0.07 seconds\n",
      "simplify 0 @ 38360: 0.67 seconds\n",
      "simplify 1 @ 7673: 0.32 seconds\n",
      "simplify 2 @ 1536: 0.08 seconds\n"
     ]
    },
    {
     "name": "stdout",
     "output_type": "stream",
     "text": [
      "\n",
      "IO_R"
     ]
    },
    {
     "name": "stderr",
     "output_type": "stream",
     "text": [
      "time: 1.34\n",
      "marching cube: 0.17 seconds\n",
      "compute surface area: 0.02 seconds\n",
      "fill point array: 0.08 seconds\n",
      "fill cell array: 0.00 seconds\n",
      "mesh_to_polydata: 0.08 seconds\n",
      "simplify 0 @ 48196: 0.68 seconds\n",
      "simplify 1 @ 9640: 0.43 seconds\n",
      "simplify 2 @ 1929: 0.10 seconds\n"
     ]
    },
    {
     "name": "stdout",
     "output_type": "stream",
     "text": [
      "\n",
      "IPA_L"
     ]
    },
    {
     "name": "stderr",
     "output_type": "stream",
     "text": [
      "time: 1.49\n",
      "marching cube: 0.00 seconds\n"
     ]
    },
    {
     "name": "stdout",
     "output_type": "stream",
     "text": [
      "\n",
      "IPA_R"
     ]
    },
    {
     "name": "stderr",
     "output_type": "stream",
     "text": [
      "compute surface area: 0.00 seconds\n",
      "fill point array: 0.00 seconds\n",
      "fill cell array: 0.00 seconds\n",
      "mesh_to_polydata: 0.00 seconds\n",
      "simplify 0 @ 565: 0.02 seconds\n",
      "time: 0.03\n",
      "marching cube: 0.01 seconds\n",
      "compute surface area: 0.00 seconds\n",
      "fill point array: 0.01 seconds\n",
      "fill cell array: 0.00 seconds\n",
      "mesh_to_polydata: 0.01 seconds\n",
      "simplify 0 @ 4013: 0.05 seconds\n"
     ]
    },
    {
     "name": "stdout",
     "output_type": "stream",
     "text": [
      "\n",
      "IPC_L"
     ]
    },
    {
     "name": "stderr",
     "output_type": "stream",
     "text": [
      "simplify 1 @ 804: 0.03 seconds\n",
      "time: 0.12\n",
      "marching cube: 0.00 seconds\n",
      "compute surface area: 0.00 seconds\n",
      "fill point array: 0.01 seconds\n",
      "fill cell array: 0.00 seconds\n",
      "mesh_to_polydata: 0.01 seconds\n",
      "simplify 0 @ 930: 0.07 seconds\n"
     ]
    },
    {
     "name": "stdout",
     "output_type": "stream",
     "text": [
      "\n",
      "IPC_R"
     ]
    },
    {
     "name": "stderr",
     "output_type": "stream",
     "text": [
      "time: 0.10\n",
      "marching cube: 0.02 seconds\n",
      "compute surface area: 0.00 seconds\n",
      "fill point array: 0.02 seconds\n",
      "fill cell array: 0.00 seconds\n",
      "mesh_to_polydata: 0.02 seconds\n",
      "simplify 0 @ 10053: 0.23 seconds\n",
      "simplify 1 @ 2012: 0.35 seconds\n",
      "simplify 2 @ 404: 0.08 seconds\n"
     ]
    },
    {
     "name": "stdout",
     "output_type": "stream",
     "text": [
      "\n",
      "IPL_L"
     ]
    },
    {
     "name": "stderr",
     "output_type": "stream",
     "text": [
      "time: 0.72\n",
      "marching cube: 0.00 seconds\n"
     ]
    },
    {
     "name": "stdout",
     "output_type": "stream",
     "text": [
      "\n",
      "IPR_L"
     ]
    },
    {
     "name": "stderr",
     "output_type": "stream",
     "text": [
      "compute surface area: 0.00 seconds\n",
      "fill point array: 0.00 seconds\n",
      "fill cell array: 0.00 seconds\n",
      "mesh_to_polydata: 0.00 seconds\n",
      "simplify 0 @ 436: 0.02 seconds\n",
      "time: 0.03\n",
      "marching cube: 0.00 seconds\n",
      "compute surface area: 0.00 seconds\n",
      "fill point array: 0.01 seconds\n",
      "fill cell array: 0.00 seconds\n",
      "mesh_to_polydata: 0.01 seconds\n",
      "simplify 0 @ 978: 0.05 seconds\n"
     ]
    },
    {
     "name": "stdout",
     "output_type": "stream",
     "text": [
      "\n",
      "IPR_R"
     ]
    },
    {
     "name": "stderr",
     "output_type": "stream",
     "text": [
      "time: 0.07\n",
      "marching cube: 0.02 seconds\n",
      "compute surface area: 0.00 seconds\n",
      "fill point array: 0.02 seconds\n",
      "fill cell array: 0.00 seconds\n",
      "mesh_to_polydata: 0.02 seconds\n",
      "simplify 0 @ 9310: 0.41 seconds\n"
     ]
    },
    {
     "name": "stdout",
     "output_type": "stream",
     "text": [
      "\n",
      "IP_L"
     ]
    },
    {
     "name": "stderr",
     "output_type": "stream",
     "text": [
      "simplify 1 @ 1863: 0.24 seconds\n",
      "simplify 2 @ 374: 0.02 seconds\n",
      "time: 0.72\n",
      "marching cube: 0.01 seconds\n",
      "compute surface area: 0.00 seconds\n",
      "fill point array: 0.01 seconds\n",
      "fill cell array: 0.00 seconds\n",
      "mesh_to_polydata: 0.01 seconds\n",
      "simplify 0 @ 1942: 0.13 seconds\n"
     ]
    },
    {
     "name": "stdout",
     "output_type": "stream",
     "text": [
      "\n",
      "IP_R"
     ]
    },
    {
     "name": "stderr",
     "output_type": "stream",
     "text": [
      "simplify 1 @ 390: 0.02 seconds\n",
      "time: 0.18\n",
      "marching cube: 0.01 seconds\n",
      "compute surface area: 0.00 seconds\n",
      "fill point array: 0.01 seconds\n",
      "fill cell array: 0.00 seconds\n",
      "mesh_to_polydata: 0.02 seconds\n",
      "simplify 0 @ 2667: 0.17 seconds\n"
     ]
    },
    {
     "name": "stdout",
     "output_type": "stream",
     "text": [
      "\n",
      "InC_L"
     ]
    },
    {
     "name": "stderr",
     "output_type": "stream",
     "text": [
      "simplify 1 @ 535: 0.03 seconds\n",
      "time: 0.24\n",
      "marching cube: 0.01 seconds\n",
      "compute surface area: 0.00 seconds\n",
      "fill point array: 0.01 seconds\n",
      "fill cell array: 0.00 seconds\n",
      "mesh_to_polydata: 0.01 seconds\n",
      "simplify 0 @ 229: 0.05 seconds\n"
     ]
    },
    {
     "name": "stdout",
     "output_type": "stream",
     "text": [
      "\n",
      "InC_R"
     ]
    },
    {
     "name": "stderr",
     "output_type": "stream",
     "text": [
      "time: 0.07\n",
      "marching cube: 0.00 seconds\n"
     ]
    },
    {
     "name": "stdout",
     "output_type": "stream",
     "text": [
      "\n",
      "LC_L"
     ]
    },
    {
     "name": "stderr",
     "output_type": "stream",
     "text": [
      "compute surface area: 0.00 seconds\n",
      "fill point array: 0.00 seconds\n",
      "fill cell array: 0.00 seconds\n",
      "mesh_to_polydata: 0.00 seconds\n",
      "simplify 0 @ 765: 0.02 seconds\n",
      "time: 0.04\n",
      "marching cube: 0.03 seconds\n",
      "compute surface area: 0.00 seconds\n",
      "fill point array: 0.02 seconds\n",
      "fill cell array: 0.00 seconds\n",
      "mesh_to_polydata: 0.02 seconds\n",
      "simplify 0 @ 9992: 0.17 seconds\n"
     ]
    },
    {
     "name": "stdout",
     "output_type": "stream",
     "text": [
      "\n",
      "LC_R"
     ]
    },
    {
     "name": "stderr",
     "output_type": "stream",
     "text": [
      "simplify 1 @ 2000: 0.09 seconds\n",
      "simplify 2 @ 401: 0.02 seconds\n",
      "time: 0.34\n",
      "marching cube: 0.04 seconds\n",
      "compute surface area: 0.00 seconds\n",
      "fill point array: 0.02 seconds\n",
      "fill cell array: 0.00 seconds\n",
      "mesh_to_polydata: 0.03 seconds\n",
      "simplify 0 @ 12213: 0.51 seconds\n"
     ]
    },
    {
     "name": "stdout",
     "output_type": "stream",
     "text": [
      "\n",
      "LDTg_L"
     ]
    },
    {
     "name": "stderr",
     "output_type": "stream",
     "text": [
      "simplify 1 @ 2444: 0.25 seconds\n",
      "simplify 2 @ 490: 0.03 seconds\n",
      "time: 0.86\n",
      "marching cube: 0.02 seconds\n",
      "compute surface area: 0.00 seconds\n",
      "fill point array: 0.02 seconds\n",
      "fill cell array: 0.00 seconds\n",
      "mesh_to_polydata: 0.02 seconds\n",
      "simplify 0 @ 5356: 0.18 seconds\n"
     ]
    },
    {
     "name": "stdout",
     "output_type": "stream",
     "text": [
      "\n",
      "LDTg_R"
     ]
    },
    {
     "name": "stderr",
     "output_type": "stream",
     "text": [
      "simplify 1 @ 1072: 0.05 seconds\n",
      "simplify 2 @ 216: 0.01 seconds\n",
      "time: 0.29\n",
      "marching cube: 0.02 seconds\n",
      "compute surface area: 0.00 seconds\n",
      "fill point array: 0.01 seconds\n",
      "fill cell array: 0.00 seconds\n",
      "mesh_to_polydata: 0.01 seconds\n",
      "simplify 0 @ 5597: 0.45 seconds\n"
     ]
    },
    {
     "name": "stdout",
     "output_type": "stream",
     "text": [
      "\n",
      "LM1C_L"
     ]
    },
    {
     "name": "stderr",
     "output_type": "stream",
     "text": [
      "simplify 1 @ 1121: 0.20 seconds\n",
      "simplify 2 @ 225: 0.01 seconds\n",
      "time: 0.70\n",
      "marching cube: 0.00 seconds\n",
      "compute surface area: 0.00 seconds\n",
      "fill point array: 0.00 seconds\n",
      "fill cell array: 0.00 seconds\n",
      "mesh_to_polydata: 0.00 seconds\n",
      "simplify 0 @ 692: 0.04 seconds\n",
      "time: 0.06\n"
     ]
    },
    {
     "name": "stdout",
     "output_type": "stream",
     "text": [
      "\n",
      "LM1C_R"
     ]
    },
    {
     "name": "stderr",
     "output_type": "stream",
     "text": [
      "marching cube: 0.02 seconds\n",
      "compute surface area: 0.00 seconds\n",
      "fill point array: 0.01 seconds\n",
      "fill cell array: 0.00 seconds\n",
      "mesh_to_polydata: 0.02 seconds\n",
      "simplify 0 @ 7591: 0.13 seconds\n"
     ]
    },
    {
     "name": "stdout",
     "output_type": "stream",
     "text": [
      "\n",
      "LM1R_L"
     ]
    },
    {
     "name": "stderr",
     "output_type": "stream",
     "text": [
      "simplify 1 @ 1519: 0.07 seconds\n",
      "simplify 2 @ 305: 0.02 seconds\n",
      "time: 0.26\n",
      "marching cube: 0.00 seconds\n"
     ]
    },
    {
     "name": "stdout",
     "output_type": "stream",
     "text": [
      "\n",
      "LM1R_R"
     ]
    },
    {
     "name": "stderr",
     "output_type": "stream",
     "text": [
      "compute surface area: 0.00 seconds\n",
      "fill point array: 0.00 seconds\n",
      "fill cell array: 0.00 seconds\n",
      "mesh_to_polydata: 0.00 seconds\n",
      "simplify 0 @ 483: 0.02 seconds\n",
      "time: 0.02\n",
      "marching cube: 0.01 seconds\n",
      "compute surface area: 0.00 seconds\n",
      "fill point array: 0.00 seconds\n",
      "fill cell array: 0.00 seconds\n",
      "mesh_to_polydata: 0.00 seconds\n",
      "simplify 0 @ 2695: 0.03 seconds\n",
      "simplify 1 @ 540: 0.02 seconds\n"
     ]
    },
    {
     "name": "stdout",
     "output_type": "stream",
     "text": [
      "\n",
      "LPBD_R"
     ]
    },
    {
     "name": "stderr",
     "output_type": "stream",
     "text": [
      "time: 0.07\n",
      "marching cube: 0.00 seconds\n"
     ]
    },
    {
     "name": "stdout",
     "output_type": "stream",
     "text": [
      "\n",
      "LPBE_L"
     ]
    },
    {
     "name": "stderr",
     "output_type": "stream",
     "text": [
      "compute surface area: 0.00 seconds\n",
      "fill point array: 0.00 seconds\n",
      "fill cell array: 0.00 seconds\n",
      "mesh_to_polydata: 0.00 seconds\n",
      "simplify 0 @ 359: 0.02 seconds\n",
      "time: 0.03\n",
      "marching cube: 0.00 seconds\n"
     ]
    },
    {
     "name": "stdout",
     "output_type": "stream",
     "text": [
      "\n",
      "LPBE_R"
     ]
    },
    {
     "name": "stderr",
     "output_type": "stream",
     "text": [
      "compute surface area: 0.00 seconds\n",
      "fill point array: 0.00 seconds\n",
      "fill cell array: 0.00 seconds\n",
      "mesh_to_polydata: 0.00 seconds\n",
      "simplify 0 @ 220: 0.02 seconds\n",
      "time: 0.02\n",
      "marching cube: 0.00 seconds\n"
     ]
    },
    {
     "name": "stdout",
     "output_type": "stream",
     "text": [
      "\n",
      "LPB_R"
     ]
    },
    {
     "name": "stderr",
     "output_type": "stream",
     "text": [
      "compute surface area: 0.00 seconds\n",
      "fill point array: 0.00 seconds\n",
      "fill cell array: 0.00 seconds\n",
      "mesh_to_polydata: 0.00 seconds\n",
      "simplify 0 @ 457: 0.02 seconds\n",
      "time: 0.03\n",
      "marching cube: 0.01 seconds\n",
      "compute surface area: 0.00 seconds\n",
      "fill point array: 0.01 seconds\n",
      "fill cell array: 0.00 seconds\n",
      "mesh_to_polydata: 0.01 seconds\n",
      "simplify 0 @ 406: 0.09 seconds\n"
     ]
    },
    {
     "name": "stdout",
     "output_type": "stream",
     "text": [
      "\n",
      "LRt_L"
     ]
    },
    {
     "name": "stderr",
     "output_type": "stream",
     "text": [
      "time: 0.14\n",
      "marching cube: 0.21 seconds\n",
      "compute surface area: 0.02 seconds\n",
      "fill point array: 0.08 seconds\n",
      "fill cell array: 0.00 seconds\n",
      "mesh_to_polydata: 0.08 seconds\n",
      "simplify 0 @ 35076: 0.86 seconds\n",
      "simplify 1 @ 7015: 0.61 seconds\n",
      "simplify 2 @ 1406: 0.14 seconds\n"
     ]
    },
    {
     "name": "stdout",
     "output_type": "stream",
     "text": [
      "\n",
      "LRt_R"
     ]
    },
    {
     "name": "stderr",
     "output_type": "stream",
     "text": [
      "time: 1.93\n",
      "marching cube: 0.16 seconds\n",
      "compute surface area: 0.01 seconds\n",
      "fill point array: 0.05 seconds\n",
      "fill cell array: 0.00 seconds\n",
      "mesh_to_polydata: 0.05 seconds\n",
      "simplify 0 @ 34392: 0.38 seconds\n",
      "simplify 1 @ 6880: 0.27 seconds\n",
      "simplify 2 @ 1377: 0.07 seconds\n"
     ]
    },
    {
     "name": "stdout",
     "output_type": "stream",
     "text": [
      "\n",
      "LSO_L"
     ]
    },
    {
     "name": "stderr",
     "output_type": "stream",
     "text": [
      "time: 0.96\n",
      "marching cube: 0.01 seconds\n",
      "compute surface area: 0.00 seconds\n",
      "fill point array: 0.01 seconds\n",
      "fill cell array: 0.00 seconds\n",
      "mesh_to_polydata: 0.01 seconds\n",
      "simplify 0 @ 2649: 0.06 seconds\n"
     ]
    },
    {
     "name": "stdout",
     "output_type": "stream",
     "text": [
      "\n",
      "LSO_R"
     ]
    },
    {
     "name": "stderr",
     "output_type": "stream",
     "text": [
      "simplify 1 @ 531: 0.02 seconds\n",
      "time: 0.11\n",
      "marching cube: 0.02 seconds\n",
      "compute surface area: 0.00 seconds\n",
      "fill point array: 0.02 seconds\n",
      "fill cell array: 0.00 seconds\n",
      "mesh_to_polydata: 0.02 seconds\n",
      "simplify 0 @ 9865: 0.17 seconds\n"
     ]
    },
    {
     "name": "stdout",
     "output_type": "stream",
     "text": [
      "\n",
      "LVPO_R"
     ]
    },
    {
     "name": "stderr",
     "output_type": "stream",
     "text": [
      "simplify 1 @ 1976: 0.10 seconds\n",
      "simplify 2 @ 398: 0.02 seconds\n",
      "time: 0.34\n",
      "marching cube: 0.00 seconds\n"
     ]
    },
    {
     "name": "stdout",
     "output_type": "stream",
     "text": [
      "\n",
      "LVe_L"
     ]
    },
    {
     "name": "stderr",
     "output_type": "stream",
     "text": [
      "compute surface area: 0.00 seconds\n",
      "fill point array: 0.00 seconds\n",
      "fill cell array: 0.00 seconds\n",
      "mesh_to_polydata: 0.00 seconds\n",
      "simplify 0 @ 339: 0.02 seconds\n",
      "time: 0.03\n",
      "marching cube: 0.37 seconds\n",
      "compute surface area: 0.04 seconds\n",
      "fill point array: 0.14 seconds\n",
      "fill cell array: 0.00 seconds\n",
      "mesh_to_polydata: 0.14 seconds\n",
      "simplify 0 @ 20729: 0.48 seconds\n"
     ]
    },
    {
     "name": "stdout",
     "output_type": "stream",
     "text": [
      "\n",
      "LVe_R"
     ]
    },
    {
     "name": "stderr",
     "output_type": "stream",
     "text": [
      "simplify 1 @ 4147: 0.18 seconds\n",
      "simplify 2 @ 831: 0.04 seconds\n",
      "time: 1.26\n",
      "marching cube: 0.05 seconds\n",
      "compute surface area: 0.01 seconds\n",
      "fill point array: 0.03 seconds\n",
      "fill cell array: 0.00 seconds\n",
      "mesh_to_polydata: 0.03 seconds\n",
      "simplify 0 @ 19245: 0.63 seconds\n"
     ]
    },
    {
     "name": "stdout",
     "output_type": "stream",
     "text": [
      "\n",
      "Li_R"
     ]
    },
    {
     "name": "stderr",
     "output_type": "stream",
     "text": [
      "simplify 1 @ 3850: 0.16 seconds\n",
      "simplify 2 @ 771: 0.04 seconds\n",
      "time: 0.92\n",
      "marching cube: 0.00 seconds\n"
     ]
    },
    {
     "name": "stdout",
     "output_type": "stream",
     "text": [
      "\n",
      "MVeMC_L"
     ]
    },
    {
     "name": "stderr",
     "output_type": "stream",
     "text": [
      "compute surface area: 0.00 seconds\n",
      "fill point array: 0.00 seconds\n",
      "fill cell array: 0.00 seconds\n",
      "mesh_to_polydata: 0.00 seconds\n",
      "simplify 0 @ 236: 0.01 seconds\n",
      "time: 0.02\n",
      "marching cube: 0.23 seconds\n",
      "compute surface area: 0.03 seconds\n",
      "fill point array: 0.17 seconds\n",
      "fill cell array: 0.00 seconds\n",
      "mesh_to_polydata: 0.18 seconds\n",
      "simplify 0 @ 16266: 0.41 seconds\n"
     ]
    },
    {
     "name": "stdout",
     "output_type": "stream",
     "text": [
      "\n",
      "MVeMC_R"
     ]
    },
    {
     "name": "stderr",
     "output_type": "stream",
     "text": [
      "simplify 1 @ 3253: 0.14 seconds\n",
      "simplify 2 @ 651: 0.03 seconds\n",
      "time: 1.04\n",
      "marching cube: 0.21 seconds\n",
      "compute surface area: 0.01 seconds\n",
      "fill point array: 0.08 seconds\n",
      "fill cell array: 0.00 seconds\n",
      "mesh_to_polydata: 0.08 seconds\n",
      "simplify 0 @ 53056: 1.04 seconds\n",
      "simplify 1 @ 10614: 0.44 seconds\n",
      "simplify 2 @ 2126: 0.11 seconds\n"
     ]
    },
    {
     "name": "stdout",
     "output_type": "stream",
     "text": [
      "\n",
      "MVePC_L"
     ]
    },
    {
     "name": "stderr",
     "output_type": "stream",
     "text": [
      "time: 1.91\n",
      "marching cube: 0.05 seconds\n",
      "compute surface area: 0.00 seconds\n",
      "fill point array: 0.01 seconds\n",
      "fill cell array: 0.00 seconds\n",
      "mesh_to_polydata: 0.01 seconds\n",
      "simplify 0 @ 342: 0.06 seconds\n"
     ]
    },
    {
     "name": "stdout",
     "output_type": "stream",
     "text": [
      "\n",
      "MVePC_R"
     ]
    },
    {
     "name": "stderr",
     "output_type": "stream",
     "text": [
      "time: 0.16\n",
      "marching cube: 0.09 seconds\n",
      "compute surface area: 0.00 seconds\n",
      "fill point array: 0.03 seconds\n",
      "fill cell array: 0.00 seconds\n",
      "mesh_to_polydata: 0.03 seconds\n",
      "simplify 0 @ 15758: 0.24 seconds\n",
      "simplify 1 @ 3153: 0.41 seconds\n",
      "simplify 2 @ 632: 0.13 seconds\n"
     ]
    },
    {
     "name": "stdout",
     "output_type": "stream",
     "text": [
      "\n",
      "MVe_L"
     ]
    },
    {
     "name": "stderr",
     "output_type": "stream",
     "text": [
      "time: 0.91\n",
      "marching cube: 0.01 seconds\n",
      "compute surface area: 0.00 seconds\n",
      "fill point array: 0.01 seconds\n",
      "fill cell array: 0.00 seconds\n",
      "mesh_to_polydata: 0.01 seconds\n",
      "simplify 0 @ 1223: 0.06 seconds\n"
     ]
    },
    {
     "name": "stdout",
     "output_type": "stream",
     "text": [
      "\n",
      "MVe_R"
     ]
    },
    {
     "name": "stderr",
     "output_type": "stream",
     "text": [
      "simplify 1 @ 246: 0.01 seconds\n",
      "time: 0.10\n",
      "marching cube: 0.49 seconds\n",
      "compute surface area: 0.03 seconds\n",
      "fill point array: 0.14 seconds\n",
      "fill cell array: 0.00 seconds\n",
      "mesh_to_polydata: 0.14 seconds\n",
      "simplify 0 @ 80881: 1.83 seconds\n",
      "simplify 1 @ 16177: 1.09 seconds\n",
      "simplify 2 @ 3237: 0.16 seconds\n"
     ]
    },
    {
     "name": "stdout",
     "output_type": "stream",
     "text": [
      "\n",
      "Me5_L"
     ]
    },
    {
     "name": "stderr",
     "output_type": "stream",
     "text": [
      "time: 3.77\n",
      "marching cube: 0.00 seconds\n"
     ]
    },
    {
     "name": "stdout",
     "output_type": "stream",
     "text": [
      "\n",
      "Me5_R"
     ]
    },
    {
     "name": "stderr",
     "output_type": "stream",
     "text": [
      "compute surface area: 0.00 seconds\n",
      "fill point array: 0.00 seconds\n",
      "fill cell array: 0.00 seconds\n",
      "mesh_to_polydata: 0.00 seconds\n",
      "time: 0.01\n",
      "marching cube: 0.11 seconds\n",
      "compute surface area: 0.00 seconds\n",
      "fill point array: 0.03 seconds\n",
      "fill cell array: 0.00 seconds\n",
      "mesh_to_polydata: 0.03 seconds\n",
      "simplify 0 @ 8810: 0.22 seconds\n",
      "simplify 1 @ 1765: 0.29 seconds\n",
      "simplify 2 @ 356: 0.07 seconds\n"
     ]
    },
    {
     "name": "stdout",
     "output_type": "stream",
     "text": [
      "\n",
      "MiTg_L"
     ]
    },
    {
     "name": "stderr",
     "output_type": "stream",
     "text": [
      "time: 0.73\n",
      "marching cube: 0.01 seconds\n",
      "compute surface area: 0.00 seconds\n",
      "fill point array: 0.00 seconds\n",
      "fill cell array: 0.00 seconds\n",
      "mesh_to_polydata: 0.01 seconds\n",
      "simplify 0 @ 898: 0.05 seconds\n"
     ]
    },
    {
     "name": "stdout",
     "output_type": "stream",
     "text": [
      "\n",
      "MiTg_R"
     ]
    },
    {
     "name": "stderr",
     "output_type": "stream",
     "text": [
      "time: 0.07\n",
      "marching cube: 0.01 seconds\n",
      "compute surface area: 0.00 seconds\n",
      "fill point array: 0.01 seconds\n",
      "fill cell array: 0.00 seconds\n",
      "mesh_to_polydata: 0.01 seconds\n",
      "simplify 0 @ 2790: 0.05 seconds\n"
     ]
    },
    {
     "name": "stdout",
     "output_type": "stream",
     "text": [
      "\n",
      "MnR_L"
     ]
    },
    {
     "name": "stderr",
     "output_type": "stream",
     "text": [
      "simplify 1 @ 559: 0.03 seconds\n",
      "time: 0.10\n",
      "marching cube: 0.01 seconds\n",
      "compute surface area: 0.00 seconds\n",
      "fill point array: 0.01 seconds\n",
      "fill cell array: 0.00 seconds\n",
      "mesh_to_polydata: 0.01 seconds\n",
      "simplify 0 @ 1193: 0.08 seconds\n"
     ]
    },
    {
     "name": "stdout",
     "output_type": "stream",
     "text": [
      "\n",
      "MnR_R"
     ]
    },
    {
     "name": "stderr",
     "output_type": "stream",
     "text": [
      "simplify 1 @ 240: 0.01 seconds\n",
      "time: 0.11\n",
      "marching cube: 0.06 seconds\n",
      "compute surface area: 0.01 seconds\n",
      "fill point array: 0.04 seconds\n",
      "fill cell array: 0.00 seconds\n",
      "mesh_to_polydata: 0.04 seconds\n",
      "simplify 0 @ 3382: 0.13 seconds\n"
     ]
    },
    {
     "name": "stdout",
     "output_type": "stream",
     "text": [
      "\n",
      "Op_L"
     ]
    },
    {
     "name": "stderr",
     "output_type": "stream",
     "text": [
      "simplify 1 @ 678: 0.03 seconds\n",
      "time: 0.29\n",
      "marching cube: 0.02 seconds\n",
      "compute surface area: 0.00 seconds\n",
      "fill point array: 0.01 seconds\n",
      "fill cell array: 0.00 seconds\n",
      "mesh_to_polydata: 0.01 seconds\n",
      "simplify 0 @ 1049: 0.06 seconds\n"
     ]
    },
    {
     "name": "stdout",
     "output_type": "stream",
     "text": [
      "\n",
      "PTg_R"
     ]
    },
    {
     "name": "stderr",
     "output_type": "stream",
     "text": [
      "simplify 1 @ 211: 0.01 seconds\n",
      "time: 0.11\n",
      "marching cube: 0.00 seconds\n",
      "compute surface area: 0.00 seconds\n",
      "fill point array: 0.00 seconds\n",
      "fill cell array: 0.00 seconds\n",
      "mesh_to_polydata: 0.00 seconds\n",
      "simplify 0 @ 415: 0.03 seconds\n",
      "time: 0.06\n"
     ]
    },
    {
     "name": "stdout",
     "output_type": "stream",
     "text": [
      "\n",
      "PnO_L"
     ]
    },
    {
     "name": "stderr",
     "output_type": "stream",
     "text": [
      "marching cube: 0.01 seconds\n",
      "compute surface area: 0.00 seconds\n",
      "fill point array: 0.01 seconds\n",
      "fill cell array: 0.00 seconds\n",
      "mesh_to_polydata: 0.01 seconds\n",
      "simplify 0 @ 2514: 0.13 seconds\n"
     ]
    },
    {
     "name": "stdout",
     "output_type": "stream",
     "text": [
      "\n",
      "PnO_R"
     ]
    },
    {
     "name": "stderr",
     "output_type": "stream",
     "text": [
      "simplify 1 @ 504: 0.04 seconds\n",
      "time: 0.20\n",
      "marching cube: 0.03 seconds\n",
      "compute surface area: 0.01 seconds\n",
      "fill point array: 0.03 seconds\n",
      "fill cell array: 0.00 seconds\n",
      "mesh_to_polydata: 0.03 seconds\n",
      "simplify 0 @ 5148: 0.31 seconds\n"
     ]
    },
    {
     "name": "stdout",
     "output_type": "stream",
     "text": [
      "\n",
      "Pn_L"
     ]
    },
    {
     "name": "stderr",
     "output_type": "stream",
     "text": [
      "simplify 1 @ 1031: 0.05 seconds\n",
      "simplify 2 @ 207: 0.01 seconds\n",
      "time: 0.43\n",
      "marching cube: 0.79 seconds\n",
      "compute surface area: 0.03 seconds\n",
      "fill point array: 0.13 seconds\n",
      "fill cell array: 0.00 seconds\n",
      "mesh_to_polydata: 0.14 seconds\n",
      "simplify 0 @ 85753: 1.51 seconds\n",
      "simplify 1 @ 17152: 0.75 seconds\n",
      "simplify 2 @ 3431: 0.16 seconds\n"
     ]
    },
    {
     "name": "stdout",
     "output_type": "stream",
     "text": [
      "\n",
      "Pn_R"
     ]
    },
    {
     "name": "stderr",
     "output_type": "stream",
     "text": [
      "time: 3.41\n",
      "marching cube: 0.49 seconds\n",
      "compute surface area: 0.03 seconds\n",
      "fill point array: 0.12 seconds\n",
      "fill cell array: 0.00 seconds\n",
      "mesh_to_polydata: 0.13 seconds\n",
      "simplify 0 @ 84431: 1.51 seconds\n",
      "simplify 1 @ 16888: 0.78 seconds\n",
      "simplify 2 @ 3379: 0.17 seconds\n"
     ]
    },
    {
     "name": "stdout",
     "output_type": "stream",
     "text": [
      "\n",
      "Pr5DM_L"
     ]
    },
    {
     "name": "stderr",
     "output_type": "stream",
     "text": [
      "time: 3.15\n",
      "marching cube: 0.00 seconds\n",
      "compute surface area: 0.00 seconds\n",
      "fill point array: 0.00 seconds\n",
      "fill cell array: 0.00 seconds\n",
      "mesh_to_polydata: 0.00 seconds\n",
      "simplify 0 @ 654: 0.05 seconds\n",
      "time: 0.06\n"
     ]
    },
    {
     "name": "stdout",
     "output_type": "stream",
     "text": [
      "\n",
      "Pr5DM_R"
     ]
    },
    {
     "name": "stderr",
     "output_type": "stream",
     "text": [
      "marching cube: 0.06 seconds\n",
      "compute surface area: 0.01 seconds\n",
      "fill point array: 0.03 seconds\n",
      "fill cell array: 0.00 seconds\n",
      "mesh_to_polydata: 0.03 seconds\n",
      "simplify 0 @ 12310: 0.32 seconds\n"
     ]
    },
    {
     "name": "stdout",
     "output_type": "stream",
     "text": [
      "\n",
      "Pr5VL_L"
     ]
    },
    {
     "name": "stderr",
     "output_type": "stream",
     "text": [
      "simplify 1 @ 2464: 0.11 seconds\n",
      "simplify 2 @ 494: 0.03 seconds\n",
      "time: 0.57\n",
      "marching cube: 0.05 seconds\n",
      "compute surface area: 0.01 seconds\n",
      "fill point array: 0.04 seconds\n",
      "fill cell array: 0.00 seconds\n",
      "mesh_to_polydata: 0.04 seconds\n",
      "simplify 0 @ 10653: 0.98 seconds\n"
     ]
    },
    {
     "name": "stdout",
     "output_type": "stream",
     "text": [
      "\n",
      "Pr5VL_R"
     ]
    },
    {
     "name": "stderr",
     "output_type": "stream",
     "text": [
      "simplify 1 @ 2132: 0.10 seconds\n",
      "simplify 2 @ 428: 0.02 seconds\n",
      "time: 1.21\n",
      "marching cube: 0.02 seconds\n",
      "compute surface area: 0.00 seconds\n",
      "fill point array: 0.02 seconds\n",
      "fill cell array: 0.00 seconds\n",
      "mesh_to_polydata: 0.02 seconds\n",
      "simplify 0 @ 4075: 0.26 seconds\n"
     ]
    },
    {
     "name": "stdout",
     "output_type": "stream",
     "text": [
      "\n",
      "Pr5_L"
     ]
    },
    {
     "name": "stderr",
     "output_type": "stream",
     "text": [
      "simplify 1 @ 816: 0.04 seconds\n",
      "time: 0.36\n",
      "marching cube: 0.02 seconds\n",
      "compute surface area: 0.01 seconds\n",
      "fill point array: 0.02 seconds\n",
      "fill cell array: 0.00 seconds\n",
      "mesh_to_polydata: 0.02 seconds\n",
      "simplify 0 @ 962: 0.18 seconds\n"
     ]
    },
    {
     "name": "stdout",
     "output_type": "stream",
     "text": [
      "\n",
      "PrVd_L"
     ]
    },
    {
     "name": "stderr",
     "output_type": "stream",
     "text": [
      "time: 0.25\n",
      "marching cube: 0.00 seconds\n"
     ]
    },
    {
     "name": "stdout",
     "output_type": "stream",
     "text": [
      "\n",
      "PrVd_R"
     ]
    },
    {
     "name": "stderr",
     "output_type": "stream",
     "text": [
      "compute surface area: 0.00 seconds\n",
      "fill point array: 0.00 seconds\n",
      "fill cell array: 0.00 seconds\n",
      "mesh_to_polydata: 0.00 seconds\n",
      "simplify 0 @ 1131: 0.03 seconds\n",
      "simplify 1 @ 227: 0.01 seconds\n",
      "time: 0.05\n",
      "marching cube: 0.02 seconds\n",
      "compute surface area: 0.00 seconds\n",
      "fill point array: 0.02 seconds\n",
      "fill cell array: 0.00 seconds\n",
      "mesh_to_polydata: 0.02 seconds\n",
      "simplify 0 @ 5097: 0.36 seconds\n",
      "simplify 1 @ 1021: 0.28 seconds\n",
      "simplify 2 @ 205: 0.05 seconds\n"
     ]
    },
    {
     "name": "stdout",
     "output_type": "stream",
     "text": [
      "\n",
      "PrVv_L"
     ]
    },
    {
     "name": "stderr",
     "output_type": "stream",
     "text": [
      "time: 0.74\n",
      "marching cube: 0.02 seconds\n",
      "compute surface area: 0.00 seconds\n",
      "fill point array: 0.01 seconds\n",
      "fill cell array: 0.00 seconds\n",
      "mesh_to_polydata: 0.01 seconds\n",
      "simplify 0 @ 2475: 0.74 seconds\n"
     ]
    },
    {
     "name": "stdout",
     "output_type": "stream",
     "text": [
      "\n",
      "PrVv_R"
     ]
    },
    {
     "name": "stderr",
     "output_type": "stream",
     "text": [
      "simplify 1 @ 496: 0.03 seconds\n",
      "time: 0.80\n",
      "marching cube: 0.06 seconds\n",
      "compute surface area: 0.02 seconds\n",
      "fill point array: 0.07 seconds\n",
      "fill cell array: 0.00 seconds\n",
      "mesh_to_polydata: 0.07 seconds\n",
      "simplify 0 @ 2470: 0.29 seconds\n"
     ]
    },
    {
     "name": "stdout",
     "output_type": "stream",
     "text": [
      "\n",
      "RMC_L"
     ]
    },
    {
     "name": "stderr",
     "output_type": "stream",
     "text": [
      "simplify 1 @ 495: 0.03 seconds\n",
      "time: 0.48\n",
      "marching cube: 0.00 seconds\n"
     ]
    },
    {
     "name": "stdout",
     "output_type": "stream",
     "text": [
      "\n",
      "RMC_R"
     ]
    },
    {
     "name": "stderr",
     "output_type": "stream",
     "text": [
      "compute surface area: 0.00 seconds\n",
      "fill point array: 0.00 seconds\n",
      "fill cell array: 0.00 seconds\n",
      "mesh_to_polydata: 0.00 seconds\n",
      "time: 0.01\n",
      "marching cube: 0.01 seconds\n"
     ]
    },
    {
     "name": "stdout",
     "output_type": "stream",
     "text": [
      "\n",
      "RPC_L"
     ]
    },
    {
     "name": "stderr",
     "output_type": "stream",
     "text": [
      "compute surface area: 0.00 seconds\n",
      "fill point array: 0.00 seconds\n",
      "fill cell array: 0.00 seconds\n",
      "mesh_to_polydata: 0.00 seconds\n",
      "simplify 0 @ 261: 0.01 seconds\n",
      "time: 0.02\n",
      "marching cube: 0.01 seconds\n",
      "compute surface area: 0.00 seconds\n",
      "fill point array: 0.01 seconds\n",
      "fill cell array: 0.00 seconds\n",
      "mesh_to_polydata: 0.01 seconds\n",
      "simplify 0 @ 1703: 0.09 seconds\n"
     ]
    },
    {
     "name": "stdout",
     "output_type": "stream",
     "text": [
      "\n",
      "RPC_R"
     ]
    },
    {
     "name": "stderr",
     "output_type": "stream",
     "text": [
      "simplify 1 @ 342: 0.02 seconds\n",
      "time: 0.13\n",
      "marching cube: 0.04 seconds\n",
      "compute surface area: 0.01 seconds\n",
      "fill point array: 0.05 seconds\n",
      "fill cell array: 0.00 seconds\n",
      "mesh_to_polydata: 0.05 seconds\n",
      "simplify 0 @ 1723: 0.11 seconds\n"
     ]
    },
    {
     "name": "stdout",
     "output_type": "stream",
     "text": [
      "\n",
      "RPF_L"
     ]
    },
    {
     "name": "stderr",
     "output_type": "stream",
     "text": [
      "simplify 1 @ 346: 0.02 seconds\n",
      "time: 0.24\n",
      "marching cube: 0.00 seconds\n"
     ]
    },
    {
     "name": "stdout",
     "output_type": "stream",
     "text": [
      "\n",
      "RPF_R"
     ]
    },
    {
     "name": "stderr",
     "output_type": "stream",
     "text": [
      "compute surface area: 0.00 seconds\n",
      "fill point array: 0.00 seconds\n",
      "fill cell array: 0.00 seconds\n",
      "mesh_to_polydata: 0.00 seconds\n",
      "simplify 0 @ 282: 0.01 seconds\n",
      "time: 0.02\n",
      "marching cube: 0.01 seconds\n",
      "compute surface area: 0.00 seconds\n",
      "fill point array: 0.01 seconds\n",
      "fill cell array: 0.00 seconds\n",
      "mesh_to_polydata: 0.01 seconds\n",
      "simplify 0 @ 3424: 0.07 seconds\n"
     ]
    },
    {
     "name": "stdout",
     "output_type": "stream",
     "text": [
      "\n",
      "RR_L"
     ]
    },
    {
     "name": "stderr",
     "output_type": "stream",
     "text": [
      "simplify 1 @ 686: 0.03 seconds\n",
      "time: 0.13\n",
      "marching cube: 0.00 seconds\n",
      "compute surface area: 0.00 seconds\n",
      "fill point array: 0.00 seconds\n",
      "fill cell array: 0.00 seconds\n",
      "mesh_to_polydata: 0.00 seconds\n",
      "simplify 0 @ 748: 0.09 seconds\n"
     ]
    },
    {
     "name": "stdout",
     "output_type": "stream",
     "text": [
      "\n",
      "RR_R"
     ]
    },
    {
     "name": "stderr",
     "output_type": "stream",
     "text": [
      "time: 0.11\n",
      "marching cube: 0.03 seconds\n",
      "compute surface area: 0.00 seconds\n",
      "fill point array: 0.02 seconds\n",
      "fill cell array: 0.00 seconds\n",
      "mesh_to_polydata: 0.02 seconds\n",
      "simplify 0 @ 10905: 0.51 seconds\n"
     ]
    },
    {
     "name": "stdout",
     "output_type": "stream",
     "text": [
      "\n",
      "R_L"
     ]
    },
    {
     "name": "stderr",
     "output_type": "stream",
     "text": [
      "simplify 1 @ 2182: 0.10 seconds\n",
      "simplify 2 @ 438: 0.02 seconds\n",
      "time: 0.68\n",
      "marching cube: 0.11 seconds\n",
      "compute surface area: 0.01 seconds\n",
      "fill point array: 0.06 seconds\n",
      "fill cell array: 0.00 seconds\n",
      "mesh_to_polydata: 0.06 seconds\n",
      "simplify 0 @ 28583: 0.71 seconds\n",
      "simplify 1 @ 5718: 0.29 seconds\n",
      "simplify 2 @ 1145: 0.06 seconds\n"
     ]
    },
    {
     "name": "stdout",
     "output_type": "stream",
     "text": [
      "\n",
      "R_R"
     ]
    },
    {
     "name": "stderr",
     "output_type": "stream",
     "text": [
      "time: 1.25\n",
      "marching cube: 0.18 seconds\n",
      "compute surface area: 0.02 seconds\n",
      "fill point array: 0.09 seconds\n",
      "fill cell array: 0.00 seconds\n",
      "mesh_to_polydata: 0.09 seconds\n",
      "simplify 0 @ 49537: 1.24 seconds\n",
      "simplify 1 @ 9910: 0.44 seconds\n",
      "simplify 2 @ 1983: 0.11 seconds\n"
     ]
    },
    {
     "name": "stdout",
     "output_type": "stream",
     "text": [
      "\n",
      "RtTg"
     ]
    },
    {
     "name": "stderr",
     "output_type": "stream",
     "text": [
      "time: 2.09\n",
      "marching cube: 0.83 seconds\n",
      "compute surface area: 0.27 seconds\n",
      "fill point array: 0.39 seconds\n",
      "fill cell array: 0.01 seconds\n",
      "mesh_to_polydata: 0.40 seconds\n",
      "simplify 0 @ 113815: 4.48 seconds\n",
      "simplify 1 @ 22764: 1.09 seconds\n",
      "simplify 2 @ 4554: 0.22 seconds\n"
     ]
    },
    {
     "name": "stdout",
     "output_type": "stream",
     "text": [
      "\n",
      "SCO_L"
     ]
    },
    {
     "name": "stderr",
     "output_type": "stream",
     "text": [
      "time: 7.34\n",
      "marching cube: 0.03 seconds\n",
      "compute surface area: 0.00 seconds\n",
      "fill point array: 0.01 seconds\n",
      "fill cell array: 0.00 seconds\n",
      "mesh_to_polydata: 0.01 seconds\n",
      "simplify 0 @ 264: 0.05 seconds\n"
     ]
    },
    {
     "name": "stdout",
     "output_type": "stream",
     "text": [
      "\n",
      "SCO_R"
     ]
    },
    {
     "name": "stderr",
     "output_type": "stream",
     "text": [
      "time: 0.10\n",
      "marching cube: 0.00 seconds\n"
     ]
    },
    {
     "name": "stdout",
     "output_type": "stream",
     "text": [
      "\n",
      "SC_L"
     ]
    },
    {
     "name": "stderr",
     "output_type": "stream",
     "text": [
      "compute surface area: 0.00 seconds\n",
      "fill point array: 0.00 seconds\n",
      "fill cell array: 0.00 seconds\n",
      "mesh_to_polydata: 0.00 seconds\n",
      "time: 0.01\n",
      "marching cube: 2.34 seconds\n",
      "compute surface area: 0.09 seconds\n",
      "fill point array: 0.43 seconds\n",
      "fill cell array: 0.01 seconds\n",
      "mesh_to_polydata: 0.45 seconds\n",
      "simplify 0 @ 267924: 5.12 seconds\n",
      "simplify 1 @ 53587: 3.52 seconds\n",
      "simplify 2 @ 10719: 0.92 seconds\n"
     ]
    },
    {
     "name": "stdout",
     "output_type": "stream",
     "text": [
      "\n",
      "SC_R"
     ]
    },
    {
     "name": "stderr",
     "output_type": "stream",
     "text": [
      "time: 12.54\n",
      "marching cube: 0.08 seconds\n",
      "compute surface area: 0.02 seconds\n",
      "fill point array: 0.08 seconds\n",
      "fill cell array: 0.00 seconds\n",
      "mesh_to_polydata: 0.08 seconds\n",
      "simplify 0 @ 15500: 4.71 seconds\n"
     ]
    },
    {
     "name": "stdout",
     "output_type": "stream",
     "text": [
      "\n",
      "SNCD_L"
     ]
    },
    {
     "name": "stderr",
     "output_type": "stream",
     "text": [
      "simplify 1 @ 3101: 0.16 seconds\n",
      "simplify 2 @ 621: 0.03 seconds\n",
      "time: 5.10\n",
      "marching cube: 0.02 seconds\n",
      "compute surface area: 0.00 seconds\n",
      "fill point array: 0.00 seconds\n",
      "fill cell array: 0.00 seconds\n",
      "mesh_to_polydata: 0.00 seconds\n",
      "simplify 0 @ 2432: 0.02 seconds\n",
      "simplify 1 @ 486: 0.02 seconds\n",
      "time: 0.07\n"
     ]
    },
    {
     "name": "stdout",
     "output_type": "stream",
     "text": [
      "\n",
      "SNCD_R\n",
      "SNC_L"
     ]
    },
    {
     "name": "stderr",
     "output_type": "stream",
     "text": [
      "marching cube: 0.02 seconds\n",
      "compute surface area: 0.00 seconds\n",
      "fill point array: 0.00 seconds\n",
      "fill cell array: 0.00 seconds\n",
      "mesh_to_polydata: 0.00 seconds\n",
      "time: 0.07\n",
      "marching cube: 0.43 seconds\n",
      "compute surface area: 0.02 seconds\n",
      "fill point array: 0.09 seconds\n",
      "fill cell array: 0.00 seconds\n",
      "mesh_to_polydata: 0.09 seconds\n",
      "simplify 0 @ 56497: 0.79 seconds\n",
      "simplify 1 @ 11301: 0.54 seconds\n",
      "simplify 2 @ 2261: 0.43 seconds\n"
     ]
    },
    {
     "name": "stdout",
     "output_type": "stream",
     "text": [
      "\n",
      "SNC_R"
     ]
    },
    {
     "name": "stderr",
     "output_type": "stream",
     "text": [
      "time: 2.35\n",
      "marching cube: 0.33 seconds\n",
      "compute surface area: 0.01 seconds\n",
      "fill point array: 0.07 seconds\n",
      "fill cell array: 0.00 seconds\n",
      "mesh_to_polydata: 0.07 seconds\n",
      "simplify 0 @ 51211: 0.51 seconds\n",
      "simplify 1 @ 10243: 0.43 seconds\n",
      "simplify 2 @ 2050: 0.10 seconds\n"
     ]
    },
    {
     "name": "stdout",
     "output_type": "stream",
     "text": [
      "\n",
      "SNL_L"
     ]
    },
    {
     "name": "stderr",
     "output_type": "stream",
     "text": [
      "time: 1.47\n",
      "marching cube: 0.04 seconds\n",
      "compute surface area: 0.01 seconds\n",
      "fill point array: 0.03 seconds\n",
      "fill cell array: 0.00 seconds\n",
      "mesh_to_polydata: 0.03 seconds\n",
      "simplify 0 @ 4155: 0.11 seconds\n"
     ]
    },
    {
     "name": "stdout",
     "output_type": "stream",
     "text": [
      "\n",
      "SNL_R"
     ]
    },
    {
     "name": "stderr",
     "output_type": "stream",
     "text": [
      "simplify 1 @ 832: 0.04 seconds\n",
      "time: 0.23\n",
      "marching cube: 0.01 seconds\n",
      "compute surface area: 0.00 seconds\n",
      "fill point array: 0.01 seconds\n",
      "fill cell array: 0.00 seconds\n",
      "mesh_to_polydata: 0.01 seconds\n",
      "simplify 0 @ 962: 0.05 seconds\n"
     ]
    },
    {
     "name": "stdout",
     "output_type": "stream",
     "text": [
      "\n",
      "SNR_L"
     ]
    },
    {
     "name": "stderr",
     "output_type": "stream",
     "text": [
      "time: 0.08\n",
      "marching cube: 0.67 seconds\n",
      "compute surface area: 0.03 seconds\n",
      "fill point array: 0.17 seconds\n",
      "fill cell array: 0.01 seconds\n",
      "mesh_to_polydata: 0.18 seconds\n",
      "simplify 0 @ 117709: 1.79 seconds\n",
      "simplify 1 @ 23543: 1.04 seconds\n",
      "simplify 2 @ 4710: 0.25 seconds\n"
     ]
    },
    {
     "name": "stdout",
     "output_type": "stream",
     "text": [
      "\n",
      "SNR_R"
     ]
    },
    {
     "name": "stderr",
     "output_type": "stream",
     "text": [
      "time: 3.99\n",
      "marching cube: 0.33 seconds\n",
      "compute surface area: 0.02 seconds\n",
      "fill point array: 0.09 seconds\n",
      "fill cell array: 0.00 seconds\n",
      "mesh_to_polydata: 0.09 seconds\n",
      "simplify 0 @ 62221: 0.79 seconds\n",
      "simplify 1 @ 12445: 0.56 seconds\n",
      "simplify 2 @ 2490: 0.12 seconds\n"
     ]
    },
    {
     "name": "stdout",
     "output_type": "stream",
     "text": [
      "\n",
      "SOC_L"
     ]
    },
    {
     "name": "stderr",
     "output_type": "stream",
     "text": [
      "time: 1.93\n",
      "marching cube: 0.01 seconds\n",
      "compute surface area: 0.00 seconds\n",
      "fill point array: 0.01 seconds\n",
      "fill cell array: 0.00 seconds\n",
      "mesh_to_polydata: 0.01 seconds\n",
      "simplify 0 @ 2248: 0.13 seconds\n"
     ]
    },
    {
     "name": "stdout",
     "output_type": "stream",
     "text": [
      "\n",
      "SOC_R"
     ]
    },
    {
     "name": "stderr",
     "output_type": "stream",
     "text": [
      "simplify 1 @ 451: 0.02 seconds\n",
      "time: 0.18\n",
      "marching cube: 0.05 seconds\n",
      "compute surface area: 0.00 seconds\n",
      "fill point array: 0.02 seconds\n",
      "fill cell array: 0.00 seconds\n",
      "mesh_to_polydata: 0.02 seconds\n",
      "simplify 0 @ 2968: 0.18 seconds\n"
     ]
    },
    {
     "name": "stdout",
     "output_type": "stream",
     "text": [
      "\n",
      "SPO_R"
     ]
    },
    {
     "name": "stderr",
     "output_type": "stream",
     "text": [
      "simplify 1 @ 595: 0.04 seconds\n",
      "time: 0.29\n",
      "marching cube: 0.00 seconds\n"
     ]
    },
    {
     "name": "stdout",
     "output_type": "stream",
     "text": [
      "\n",
      "Sol_L"
     ]
    },
    {
     "name": "stderr",
     "output_type": "stream",
     "text": [
      "compute surface area: 0.00 seconds\n",
      "fill point array: 0.00 seconds\n",
      "fill cell array: 0.00 seconds\n",
      "mesh_to_polydata: 0.00 seconds\n",
      "simplify 0 @ 496: 0.02 seconds\n",
      "time: 0.04\n",
      "marching cube: 0.31 seconds\n",
      "compute surface area: 0.02 seconds\n",
      "fill point array: 0.11 seconds\n",
      "fill cell array: 0.00 seconds\n",
      "mesh_to_polydata: 0.11 seconds\n",
      "simplify 0 @ 61662: 1.35 seconds\n",
      "simplify 1 @ 12334: 0.57 seconds\n",
      "simplify 2 @ 2468: 0.13 seconds\n"
     ]
    },
    {
     "name": "stdout",
     "output_type": "stream",
     "text": [
      "\n",
      "Sol_R"
     ]
    },
    {
     "name": "stderr",
     "output_type": "stream",
     "text": [
      "time: 2.51\n",
      "marching cube: 0.02 seconds\n",
      "compute surface area: 0.00 seconds\n",
      "fill point array: 0.01 seconds\n",
      "fill cell array: 0.00 seconds\n",
      "mesh_to_polydata: 0.01 seconds\n",
      "simplify 0 @ 1606: 0.08 seconds\n"
     ]
    },
    {
     "name": "stdout",
     "output_type": "stream",
     "text": [
      "\n",
      "Sp5C_L"
     ]
    },
    {
     "name": "stderr",
     "output_type": "stream",
     "text": [
      "simplify 1 @ 321: 0.02 seconds\n",
      "time: 0.14\n",
      "marching cube: 0.34 seconds\n",
      "compute surface area: 0.02 seconds\n",
      "fill point array: 0.12 seconds\n",
      "fill cell array: 0.00 seconds\n",
      "mesh_to_polydata: 0.12 seconds\n",
      "simplify 0 @ 51048: 1.81 seconds\n",
      "simplify 1 @ 10218: 0.49 seconds\n",
      "simplify 2 @ 2055: 0.10 seconds\n"
     ]
    },
    {
     "name": "stdout",
     "output_type": "stream",
     "text": [
      "\n",
      "Sp5C_R"
     ]
    },
    {
     "name": "stderr",
     "output_type": "stream",
     "text": [
      "time: 2.91\n",
      "marching cube: 0.02 seconds\n",
      "compute surface area: 0.00 seconds\n",
      "fill point array: 0.02 seconds\n",
      "fill cell array: 0.00 seconds\n",
      "mesh_to_polydata: 0.02 seconds\n",
      "simplify 0 @ 5020: 0.16 seconds\n"
     ]
    },
    {
     "name": "stdout",
     "output_type": "stream",
     "text": [
      "\n",
      "Sp5I_L"
     ]
    },
    {
     "name": "stderr",
     "output_type": "stream",
     "text": [
      "simplify 1 @ 1005: 0.05 seconds\n",
      "simplify 2 @ 202: 0.01 seconds\n",
      "time: 0.26\n",
      "marching cube: 0.02 seconds\n",
      "compute surface area: 0.00 seconds\n",
      "fill point array: 0.02 seconds\n",
      "fill cell array: 0.00 seconds\n",
      "mesh_to_polydata: 0.02 seconds\n",
      "simplify 0 @ 3144: 0.28 seconds\n"
     ]
    },
    {
     "name": "stdout",
     "output_type": "stream",
     "text": [
      "\n",
      "Sp5I_R"
     ]
    },
    {
     "name": "stderr",
     "output_type": "stream",
     "text": [
      "simplify 1 @ 630: 0.03 seconds\n",
      "time: 0.36\n",
      "marching cube: 0.36 seconds\n",
      "compute surface area: 0.03 seconds\n",
      "fill point array: 0.17 seconds\n",
      "fill cell array: 0.01 seconds\n",
      "mesh_to_polydata: 0.18 seconds\n",
      "simplify 0 @ 58139: 2.47 seconds\n",
      "simplify 1 @ 11631: 0.65 seconds\n",
      "simplify 2 @ 2331: 0.12 seconds\n"
     ]
    },
    {
     "name": "stdout",
     "output_type": "stream",
     "text": [
      "\n",
      "Sp5O_L"
     ]
    },
    {
     "name": "stderr",
     "output_type": "stream",
     "text": [
      "time: 3.83\n",
      "marching cube: 0.01 seconds\n",
      "compute surface area: 0.00 seconds\n",
      "fill point array: 0.01 seconds\n",
      "fill cell array: 0.00 seconds\n",
      "mesh_to_polydata: 0.01 seconds\n",
      "simplify 0 @ 2067: 0.15 seconds\n"
     ]
    },
    {
     "name": "stdout",
     "output_type": "stream",
     "text": [
      "\n",
      "Sp5O_R"
     ]
    },
    {
     "name": "stderr",
     "output_type": "stream",
     "text": [
      "simplify 1 @ 415: 0.02 seconds\n",
      "time: 0.20\n",
      "marching cube: 0.29 seconds\n",
      "compute surface area: 0.03 seconds\n",
      "fill point array: 0.13 seconds\n",
      "fill cell array: 0.00 seconds\n",
      "mesh_to_polydata: 0.14 seconds\n",
      "simplify 0 @ 43953: 2.07 seconds\n",
      "simplify 1 @ 8792: 0.42 seconds\n",
      "simplify 2 @ 1760: 0.09 seconds\n"
     ]
    },
    {
     "name": "stdout",
     "output_type": "stream",
     "text": [
      "\n",
      "SpVe_L"
     ]
    },
    {
     "name": "stderr",
     "output_type": "stream",
     "text": [
      "time: 3.06\n",
      "marching cube: 0.03 seconds\n",
      "compute surface area: 0.01 seconds\n",
      "fill point array: 0.03 seconds\n",
      "fill cell array: 0.00 seconds\n",
      "mesh_to_polydata: 0.03 seconds\n",
      "simplify 0 @ 9396: 0.31 seconds\n"
     ]
    },
    {
     "name": "stdout",
     "output_type": "stream",
     "text": [
      "\n",
      "SpVe_R"
     ]
    },
    {
     "name": "stderr",
     "output_type": "stream",
     "text": [
      "simplify 1 @ 1880: 0.09 seconds\n",
      "simplify 2 @ 377: 0.02 seconds\n",
      "time: 0.49\n",
      "marching cube: 0.12 seconds\n",
      "compute surface area: 0.01 seconds\n",
      "fill point array: 0.06 seconds\n",
      "fill cell array: 0.00 seconds\n",
      "mesh_to_polydata: 0.06 seconds\n",
      "simplify 0 @ 36960: 0.93 seconds\n",
      "simplify 1 @ 7393: 0.30 seconds\n",
      "simplify 2 @ 1480: 0.08 seconds\n"
     ]
    },
    {
     "name": "stdout",
     "output_type": "stream",
     "text": [
      "\n",
      "SuVe_L"
     ]
    },
    {
     "name": "stderr",
     "output_type": "stream",
     "text": [
      "time: 1.51\n",
      "marching cube: 0.06 seconds\n",
      "compute surface area: 0.01 seconds\n",
      "fill point array: 0.04 seconds\n",
      "fill cell array: 0.00 seconds\n",
      "mesh_to_polydata: 0.04 seconds\n",
      "simplify 0 @ 20109: 0.34 seconds\n"
     ]
    },
    {
     "name": "stdout",
     "output_type": "stream",
     "text": [
      "\n",
      "SuVe_R"
     ]
    },
    {
     "name": "stderr",
     "output_type": "stream",
     "text": [
      "simplify 1 @ 4023: 0.16 seconds\n",
      "simplify 2 @ 806: 0.05 seconds\n",
      "time: 0.66\n",
      "marching cube: 0.08 seconds\n",
      "compute surface area: 0.01 seconds\n",
      "fill point array: 0.04 seconds\n",
      "fill cell array: 0.00 seconds\n",
      "mesh_to_polydata: 0.04 seconds\n",
      "simplify 0 @ 28393: 0.34 seconds\n",
      "simplify 1 @ 5680: 0.60 seconds\n",
      "simplify 2 @ 1137: 0.06 seconds\n"
     ]
    },
    {
     "name": "stdout",
     "output_type": "stream",
     "text": [
      "\n",
      "Tz_L"
     ]
    },
    {
     "name": "stderr",
     "output_type": "stream",
     "text": [
      "time: 1.14\n",
      "marching cube: 0.07 seconds\n",
      "compute surface area: 0.01 seconds\n",
      "fill point array: 0.03 seconds\n",
      "fill cell array: 0.00 seconds\n",
      "mesh_to_polydata: 0.03 seconds\n",
      "simplify 0 @ 23358: 0.28 seconds\n",
      "simplify 1 @ 4673: 0.19 seconds\n",
      "simplify 2 @ 936: 0.06 seconds\n"
     ]
    },
    {
     "name": "stdout",
     "output_type": "stream",
     "text": [
      "\n",
      "Tz_R"
     ]
    },
    {
     "name": "stderr",
     "output_type": "stream",
     "text": [
      "time: 0.64\n",
      "marching cube: 0.07 seconds\n",
      "compute surface area: 0.01 seconds\n",
      "fill point array: 0.04 seconds\n",
      "fill cell array: 0.00 seconds\n",
      "mesh_to_polydata: 0.04 seconds\n",
      "simplify 0 @ 25514: 0.30 seconds\n",
      "simplify 1 @ 5104: 0.22 seconds\n",
      "simplify 2 @ 1022: 0.05 seconds\n"
     ]
    },
    {
     "name": "stdout",
     "output_type": "stream",
     "text": [
      "\n",
      "UDF_L"
     ]
    },
    {
     "name": "stderr",
     "output_type": "stream",
     "text": [
      "time: 0.69\n",
      "marching cube: 0.04 seconds\n",
      "compute surface area: 0.00 seconds\n",
      "fill point array: 0.02 seconds\n",
      "fill cell array: 0.00 seconds\n",
      "mesh_to_polydata: 0.02 seconds\n",
      "simplify 0 @ 925: 0.18 seconds\n"
     ]
    },
    {
     "name": "stdout",
     "output_type": "stream",
     "text": [
      "\n",
      "UDF_R"
     ]
    },
    {
     "name": "stderr",
     "output_type": "stream",
     "text": [
      "time: 0.26\n",
      "marching cube: 0.00 seconds\n"
     ]
    },
    {
     "name": "stdout",
     "output_type": "stream",
     "text": [
      "\n",
      "VCA_L"
     ]
    },
    {
     "name": "stderr",
     "output_type": "stream",
     "text": [
      "compute surface area: 0.00 seconds\n",
      "fill point array: 0.00 seconds\n",
      "fill cell array: 0.00 seconds\n",
      "mesh_to_polydata: 0.00 seconds\n",
      "simplify 0 @ 430: 0.02 seconds\n",
      "time: 0.04\n",
      "marching cube: 0.06 seconds\n",
      "compute surface area: 0.01 seconds\n",
      "fill point array: 0.03 seconds\n",
      "fill cell array: 0.00 seconds\n",
      "mesh_to_polydata: 0.03 seconds\n",
      "simplify 0 @ 11816: 1.98 seconds\n"
     ]
    },
    {
     "name": "stdout",
     "output_type": "stream",
     "text": [
      "\n",
      "VCA_R"
     ]
    },
    {
     "name": "stderr",
     "output_type": "stream",
     "text": [
      "simplify 1 @ 2364: 0.11 seconds\n",
      "simplify 2 @ 474: 0.03 seconds\n",
      "time: 2.22\n",
      "marching cube: 0.09 seconds\n",
      "compute surface area: 0.01 seconds\n",
      "fill point array: 0.05 seconds\n",
      "fill cell array: 0.00 seconds\n",
      "mesh_to_polydata: 0.05 seconds\n",
      "simplify 0 @ 25072: 0.39 seconds\n",
      "simplify 1 @ 5016: 0.55 seconds\n",
      "simplify 2 @ 1004: 0.05 seconds\n"
     ]
    },
    {
     "name": "stdout",
     "output_type": "stream",
     "text": [
      "\n",
      "VCP_L"
     ]
    },
    {
     "name": "stderr",
     "output_type": "stream",
     "text": [
      "time: 1.15\n",
      "marching cube: 0.06 seconds\n",
      "compute surface area: 0.01 seconds\n",
      "fill point array: 0.06 seconds\n",
      "fill cell array: 0.00 seconds\n",
      "mesh_to_polydata: 0.06 seconds\n",
      "simplify 0 @ 14849: 1.95 seconds\n"
     ]
    },
    {
     "name": "stdout",
     "output_type": "stream",
     "text": [
      "\n",
      "VCP_R"
     ]
    },
    {
     "name": "stderr",
     "output_type": "stream",
     "text": [
      "simplify 1 @ 2960: 0.15 seconds\n",
      "simplify 2 @ 588: 0.04 seconds\n",
      "time: 2.27\n",
      "marching cube: 0.33 seconds\n",
      "compute surface area: 0.01 seconds\n",
      "fill point array: 0.04 seconds\n",
      "fill cell array: 0.00 seconds\n",
      "mesh_to_polydata: 0.04 seconds\n",
      "simplify 0 @ 23300: 0.32 seconds\n"
     ]
    },
    {
     "name": "stdout",
     "output_type": "stream",
     "text": [
      "\n",
      "VIpp_L"
     ]
    },
    {
     "name": "stderr",
     "output_type": "stream",
     "text": [
      "simplify 1 @ 4661: 0.19 seconds\n",
      "simplify 2 @ 933: 0.04 seconds\n",
      "time: 0.94\n",
      "marching cube: 0.03 seconds\n",
      "compute surface area: 0.00 seconds\n",
      "fill point array: 0.02 seconds\n",
      "fill cell array: 0.00 seconds\n",
      "mesh_to_polydata: 0.02 seconds\n",
      "simplify 0 @ 8851: 0.59 seconds\n"
     ]
    },
    {
     "name": "stdout",
     "output_type": "stream",
     "text": [
      "\n",
      "VIpp_R"
     ]
    },
    {
     "name": "stderr",
     "output_type": "stream",
     "text": [
      "simplify 1 @ 1771: 0.08 seconds\n",
      "simplify 2 @ 355: 0.02 seconds\n",
      "time: 0.75\n",
      "marching cube: 0.02 seconds\n",
      "compute surface area: 0.00 seconds\n",
      "fill point array: 0.02 seconds\n",
      "fill cell array: 0.00 seconds\n",
      "mesh_to_polydata: 0.02 seconds\n",
      "simplify 0 @ 3632: 0.60 seconds\n"
     ]
    },
    {
     "name": "stdout",
     "output_type": "stream",
     "text": [
      "\n",
      "VLL_L"
     ]
    },
    {
     "name": "stderr",
     "output_type": "stream",
     "text": [
      "simplify 1 @ 728: 0.04 seconds\n",
      "time: 0.69\n",
      "marching cube: 0.22 seconds\n",
      "compute surface area: 0.02 seconds\n",
      "fill point array: 0.11 seconds\n",
      "fill cell array: 0.00 seconds\n",
      "mesh_to_polydata: 0.11 seconds\n",
      "simplify 0 @ 31207: 1.24 seconds\n",
      "simplify 1 @ 6248: 0.30 seconds\n",
      "simplify 2 @ 1255: 0.07 seconds\n"
     ]
    },
    {
     "name": "stdout",
     "output_type": "stream",
     "text": [
      "\n",
      "VLL_R"
     ]
    },
    {
     "name": "stderr",
     "output_type": "stream",
     "text": [
      "time: 1.95\n",
      "marching cube: 0.14 seconds\n",
      "compute surface area: 0.01 seconds\n",
      "fill point array: 0.06 seconds\n",
      "fill cell array: 0.00 seconds\n",
      "mesh_to_polydata: 0.07 seconds\n",
      "simplify 0 @ 31024: 0.99 seconds\n",
      "simplify 1 @ 6206: 0.27 seconds\n",
      "simplify 2 @ 1242: 0.06 seconds\n"
     ]
    },
    {
     "name": "stdout",
     "output_type": "stream",
     "text": [
      "\n",
      "VMu_L"
     ]
    },
    {
     "name": "stderr",
     "output_type": "stream",
     "text": [
      "time: 1.55\n",
      "marching cube: 0.00 seconds\n"
     ]
    },
    {
     "name": "stdout",
     "output_type": "stream",
     "text": [
      "\n",
      "VOra_L"
     ]
    },
    {
     "name": "stderr",
     "output_type": "stream",
     "text": [
      "compute surface area: 0.00 seconds\n",
      "fill point array: 0.00 seconds\n",
      "fill cell array: 0.00 seconds\n",
      "mesh_to_polydata: 0.00 seconds\n",
      "simplify 0 @ 409: 0.03 seconds\n",
      "time: 0.04\n",
      "marching cube: 0.01 seconds\n",
      "compute surface area: 0.00 seconds\n",
      "fill point array: 0.01 seconds\n",
      "fill cell array: 0.00 seconds\n",
      "mesh_to_polydata: 0.01 seconds\n",
      "simplify 0 @ 1268: 0.17 seconds\n"
     ]
    },
    {
     "name": "stdout",
     "output_type": "stream",
     "text": [
      "\n",
      "VOra_R"
     ]
    },
    {
     "name": "stderr",
     "output_type": "stream",
     "text": [
      "simplify 1 @ 255: 0.01 seconds\n",
      "time: 0.20\n",
      "marching cube: 0.01 seconds\n",
      "compute surface area: 0.00 seconds\n",
      "fill point array: 0.01 seconds\n",
      "fill cell array: 0.00 seconds\n",
      "mesh_to_polydata: 0.01 seconds\n",
      "simplify 0 @ 1343: 0.13 seconds\n"
     ]
    },
    {
     "name": "stdout",
     "output_type": "stream",
     "text": [
      "\n",
      "VOri_L"
     ]
    },
    {
     "name": "stderr",
     "output_type": "stream",
     "text": [
      "simplify 1 @ 270: 0.01 seconds\n",
      "time: 0.17\n",
      "marching cube: 0.00 seconds\n",
      "compute surface area: 0.00 seconds\n",
      "fill point array: 0.00 seconds\n",
      "fill cell array: 0.00 seconds\n",
      "mesh_to_polydata: 0.00 seconds\n",
      "simplify 0 @ 522: 0.06 seconds\n"
     ]
    },
    {
     "name": "stdout",
     "output_type": "stream",
     "text": [
      "\n",
      "VOrp_L"
     ]
    },
    {
     "name": "stderr",
     "output_type": "stream",
     "text": [
      "time: 0.07\n",
      "marching cube: 0.01 seconds\n",
      "compute surface area: 0.00 seconds\n",
      "fill point array: 0.01 seconds\n",
      "fill cell array: 0.00 seconds\n",
      "mesh_to_polydata: 0.01 seconds\n",
      "simplify 0 @ 5298: 0.48 seconds\n"
     ]
    },
    {
     "name": "stdout",
     "output_type": "stream",
     "text": [
      "\n",
      "VOrp_R"
     ]
    },
    {
     "name": "stderr",
     "output_type": "stream",
     "text": [
      "simplify 1 @ 1061: 0.05 seconds\n",
      "simplify 2 @ 213: 0.01 seconds\n",
      "time: 0.56\n",
      "marching cube: 0.00 seconds\n",
      "compute surface area: 0.00 seconds\n",
      "fill point array: 0.01 seconds\n",
      "fill cell array: 0.00 seconds\n",
      "mesh_to_polydata: 0.01 seconds\n",
      "simplify 0 @ 1074: 0.34 seconds\n"
     ]
    },
    {
     "name": "stdout",
     "output_type": "stream",
     "text": [
      "\n",
      "VTA_L"
     ]
    },
    {
     "name": "stderr",
     "output_type": "stream",
     "text": [
      "simplify 1 @ 216: 0.01 seconds\n",
      "time: 0.37\n",
      "marching cube: 0.04 seconds\n",
      "compute surface area: 0.00 seconds\n",
      "fill point array: 0.03 seconds\n",
      "fill cell array: 0.00 seconds\n",
      "mesh_to_polydata: 0.03 seconds\n",
      "simplify 0 @ 14404: 0.24 seconds\n"
     ]
    },
    {
     "name": "stdout",
     "output_type": "stream",
     "text": [
      "\n",
      "VTA_R"
     ]
    },
    {
     "name": "stderr",
     "output_type": "stream",
     "text": [
      "simplify 1 @ 2882: 0.12 seconds\n",
      "simplify 2 @ 578: 0.03 seconds\n",
      "time: 0.47\n",
      "marching cube: 0.04 seconds\n",
      "compute surface area: 0.00 seconds\n",
      "fill point array: 0.02 seconds\n",
      "fill cell array: 0.00 seconds\n",
      "mesh_to_polydata: 0.02 seconds\n",
      "simplify 0 @ 12189: 0.22 seconds\n"
     ]
    },
    {
     "name": "stdout",
     "output_type": "stream",
     "text": [
      "\n",
      "VTg_L"
     ]
    },
    {
     "name": "stderr",
     "output_type": "stream",
     "text": [
      "simplify 1 @ 2439: 0.11 seconds\n",
      "simplify 2 @ 489: 0.03 seconds\n",
      "time: 0.43\n",
      "marching cube: 0.02 seconds\n",
      "compute surface area: 0.00 seconds\n",
      "fill point array: 0.01 seconds\n",
      "fill cell array: 0.00 seconds\n",
      "mesh_to_polydata: 0.01 seconds\n",
      "simplify 0 @ 6976: 0.12 seconds\n"
     ]
    },
    {
     "name": "stdout",
     "output_type": "stream",
     "text": [
      "\n",
      "VTg_R"
     ]
    },
    {
     "name": "stderr",
     "output_type": "stream",
     "text": [
      "simplify 1 @ 1396: 0.06 seconds\n",
      "simplify 2 @ 280: 0.02 seconds\n",
      "time: 0.24\n",
      "marching cube: 0.01 seconds\n",
      "compute surface area: 0.00 seconds\n",
      "fill point array: 0.01 seconds\n",
      "fill cell array: 0.00 seconds\n",
      "mesh_to_polydata: 0.01 seconds\n",
      "simplify 0 @ 1925: 0.07 seconds\n"
     ]
    },
    {
     "name": "stdout",
     "output_type": "stream",
     "text": [
      "\n",
      "Vcd_L"
     ]
    },
    {
     "name": "stderr",
     "output_type": "stream",
     "text": [
      "simplify 1 @ 386: 0.02 seconds\n",
      "time: 0.12\n",
      "marching cube: 0.01 seconds\n",
      "compute surface area: 0.00 seconds\n",
      "fill point array: 0.01 seconds\n",
      "fill cell array: 0.00 seconds\n",
      "mesh_to_polydata: 0.01 seconds\n",
      "simplify 0 @ 2003: 0.09 seconds\n"
     ]
    },
    {
     "name": "stdout",
     "output_type": "stream",
     "text": [
      "\n",
      "Vcd_R"
     ]
    },
    {
     "name": "stderr",
     "output_type": "stream",
     "text": [
      "simplify 1 @ 402: 0.02 seconds\n",
      "time: 0.14\n",
      "marching cube: 0.01 seconds\n",
      "compute surface area: 0.00 seconds\n",
      "fill point array: 0.02 seconds\n",
      "fill cell array: 0.00 seconds\n",
      "mesh_to_polydata: 0.02 seconds\n",
      "simplify 0 @ 2574: 0.19 seconds\n"
     ]
    },
    {
     "name": "stdout",
     "output_type": "stream",
     "text": [
      "\n",
      "X_L"
     ]
    },
    {
     "name": "stderr",
     "output_type": "stream",
     "text": [
      "simplify 1 @ 516: 0.03 seconds\n",
      "time: 0.25\n",
      "marching cube: 0.01 seconds\n",
      "compute surface area: 0.00 seconds\n",
      "fill point array: 0.01 seconds\n",
      "fill cell array: 0.00 seconds\n",
      "mesh_to_polydata: 0.01 seconds\n",
      "simplify 0 @ 5307: 0.07 seconds\n"
     ]
    },
    {
     "name": "stdout",
     "output_type": "stream",
     "text": [
      "\n",
      "X_R"
     ]
    },
    {
     "name": "stderr",
     "output_type": "stream",
     "text": [
      "simplify 1 @ 1063: 0.05 seconds\n",
      "simplify 2 @ 214: 0.01 seconds\n",
      "time: 0.16\n",
      "marching cube: 0.02 seconds\n",
      "compute surface area: 0.00 seconds\n",
      "fill point array: 0.01 seconds\n",
      "fill cell array: 0.00 seconds\n",
      "mesh_to_polydata: 0.01 seconds\n",
      "simplify 0 @ 7636: 0.29 seconds\n"
     ]
    },
    {
     "name": "stdout",
     "output_type": "stream",
     "text": [
      "\n",
      "cu_R"
     ]
    },
    {
     "name": "stderr",
     "output_type": "stream",
     "text": [
      "simplify 1 @ 1528: 0.19 seconds\n",
      "simplify 2 @ 307: 0.02 seconds\n",
      "time: 0.54\n",
      "marching cube: 0.05 seconds\n"
     ]
    },
    {
     "name": "stdout",
     "output_type": "stream",
     "text": [
      "\n",
      "dtgx_L"
     ]
    },
    {
     "name": "stderr",
     "output_type": "stream",
     "text": [
      "compute surface area: 0.00 seconds\n",
      "fill point array: 0.00 seconds\n",
      "fill cell array: 0.00 seconds\n",
      "mesh_to_polydata: 0.00 seconds\n",
      "simplify 0 @ 419: 0.01 seconds\n",
      "time: 0.07\n",
      "marching cube: 0.00 seconds\n"
     ]
    },
    {
     "name": "stdout",
     "output_type": "stream",
     "text": [
      "\n",
      "dtgx_R"
     ]
    },
    {
     "name": "stderr",
     "output_type": "stream",
     "text": [
      "compute surface area: 0.00 seconds\n",
      "fill point array: 0.00 seconds\n",
      "fill cell array: 0.00 seconds\n",
      "mesh_to_polydata: 0.00 seconds\n",
      "simplify 0 @ 572: 0.03 seconds\n",
      "time: 0.04\n",
      "marching cube: 0.01 seconds\n",
      "compute surface area: 0.00 seconds\n",
      "fill point array: 0.01 seconds\n",
      "fill cell array: 0.00 seconds\n",
      "mesh_to_polydata: 0.01 seconds\n",
      "simplify 0 @ 2777: 0.06 seconds\n"
     ]
    },
    {
     "name": "stdout",
     "output_type": "stream",
     "text": [
      "\n",
      "fr_L"
     ]
    },
    {
     "name": "stderr",
     "output_type": "stream",
     "text": [
      "simplify 1 @ 557: 0.02 seconds\n",
      "time: 0.11\n",
      "marching cube: 0.15 seconds\n",
      "compute surface area: 0.01 seconds\n",
      "fill point array: 0.04 seconds\n",
      "fill cell array: 0.00 seconds\n",
      "mesh_to_polydata: 0.04 seconds\n",
      "simplify 0 @ 23991: 0.38 seconds\n",
      "simplify 1 @ 4799: 0.19 seconds\n",
      "simplify 2 @ 961: 0.05 seconds\n"
     ]
    },
    {
     "name": "stdout",
     "output_type": "stream",
     "text": [
      "\n",
      "fr_R"
     ]
    },
    {
     "name": "stderr",
     "output_type": "stream",
     "text": [
      "time: 0.82\n",
      "marching cube: 0.14 seconds\n",
      "compute surface area: 0.01 seconds\n",
      "fill point array: 0.03 seconds\n",
      "fill cell array: 0.00 seconds\n",
      "mesh_to_polydata: 0.04 seconds\n",
      "simplify 0 @ 22242: 0.30 seconds\n",
      "simplify 1 @ 4450: 0.18 seconds\n",
      "simplify 2 @ 891: 0.05 seconds\n"
     ]
    },
    {
     "name": "stdout",
     "output_type": "stream",
     "text": [
      "\n",
      "gr_L"
     ]
    },
    {
     "name": "stderr",
     "output_type": "stream",
     "text": [
      "time: 0.72\n",
      "marching cube: 0.63 seconds\n",
      "compute surface area: 0.02 seconds\n",
      "fill point array: 0.10 seconds\n",
      "fill cell array: 0.00 seconds\n",
      "mesh_to_polydata: 0.10 seconds\n",
      "simplify 0 @ 57439: 0.75 seconds\n",
      "simplify 1 @ 11501: 0.90 seconds\n",
      "simplify 2 @ 2305: 0.12 seconds\n"
     ]
    },
    {
     "name": "stdout",
     "output_type": "stream",
     "text": [
      "\n",
      "gr_R"
     ]
    },
    {
     "name": "stderr",
     "output_type": "stream",
     "text": [
      "time: 2.53\n",
      "marching cube: 0.04 seconds\n"
     ]
    },
    {
     "name": "stdout",
     "output_type": "stream",
     "text": [
      "\n",
      "mlf_L"
     ]
    },
    {
     "name": "stderr",
     "output_type": "stream",
     "text": [
      "compute surface area: 0.00 seconds\n",
      "fill point array: 0.00 seconds\n",
      "fill cell array: 0.00 seconds\n",
      "mesh_to_polydata: 0.00 seconds\n",
      "simplify 0 @ 380: 0.02 seconds\n",
      "time: 0.07\n",
      "marching cube: 0.03 seconds\n",
      "compute surface area: 0.00 seconds\n",
      "fill point array: 0.02 seconds\n",
      "fill cell array: 0.00 seconds\n",
      "mesh_to_polydata: 0.02 seconds\n",
      "simplify 0 @ 3397: 0.10 seconds\n"
     ]
    },
    {
     "name": "stdout",
     "output_type": "stream",
     "text": [
      "\n",
      "mlf_R"
     ]
    },
    {
     "name": "stderr",
     "output_type": "stream",
     "text": [
      "simplify 1 @ 681: 0.03 seconds\n",
      "time: 0.19\n",
      "marching cube: 0.02 seconds\n",
      "compute surface area: 0.00 seconds\n",
      "fill point array: 0.01 seconds\n",
      "fill cell array: 0.00 seconds\n",
      "mesh_to_polydata: 0.01 seconds\n",
      "simplify 0 @ 1216: 0.07 seconds\n"
     ]
    },
    {
     "name": "stdout",
     "output_type": "stream",
     "text": [
      "\n",
      "pc_L"
     ]
    },
    {
     "name": "stderr",
     "output_type": "stream",
     "text": [
      "simplify 1 @ 244: 0.01 seconds\n",
      "time: 0.12\n",
      "marching cube: 0.00 seconds\n"
     ]
    },
    {
     "name": "stdout",
     "output_type": "stream",
     "text": [
      "\n",
      "pc_R"
     ]
    },
    {
     "name": "stderr",
     "output_type": "stream",
     "text": [
      "compute surface area: 0.00 seconds\n",
      "fill point array: 0.00 seconds\n",
      "fill cell array: 0.00 seconds\n",
      "mesh_to_polydata: 0.00 seconds\n",
      "simplify 0 @ 662: 0.03 seconds\n",
      "time: 0.05\n",
      "marching cube: 0.00 seconds\n"
     ]
    },
    {
     "name": "stdout",
     "output_type": "stream",
     "text": [
      "\n",
      "pyx_L"
     ]
    },
    {
     "name": "stderr",
     "output_type": "stream",
     "text": [
      "compute surface area: 0.00 seconds\n",
      "fill point array: 0.00 seconds\n",
      "fill cell array: 0.00 seconds\n",
      "mesh_to_polydata: 0.00 seconds\n",
      "simplify 0 @ 630: 0.03 seconds\n",
      "time: 0.05\n",
      "marching cube: 0.01 seconds\n",
      "compute surface area: 0.00 seconds\n",
      "fill point array: 0.01 seconds\n",
      "fill cell array: 0.00 seconds\n",
      "mesh_to_polydata: 0.01 seconds\n",
      "simplify 0 @ 1742: 0.22 seconds\n"
     ]
    },
    {
     "name": "stdout",
     "output_type": "stream",
     "text": [
      "\n",
      "pyx_R"
     ]
    },
    {
     "name": "stderr",
     "output_type": "stream",
     "text": [
      "simplify 1 @ 350: 0.07 seconds\n",
      "time: 0.33\n",
      "marching cube: 0.04 seconds\n",
      "compute surface area: 0.01 seconds\n",
      "fill point array: 0.03 seconds\n",
      "fill cell array: 0.00 seconds\n",
      "mesh_to_polydata: 0.03 seconds\n",
      "simplify 0 @ 10035: 0.33 seconds\n"
     ]
    },
    {
     "name": "stdout",
     "output_type": "stream",
     "text": [
      "\n",
      "scp_L"
     ]
    },
    {
     "name": "stderr",
     "output_type": "stream",
     "text": [
      "simplify 1 @ 2008: 0.09 seconds\n",
      "simplify 2 @ 403: 0.02 seconds\n",
      "time: 0.52\n",
      "marching cube: 0.49 seconds\n",
      "compute surface area: 0.01 seconds\n",
      "fill point array: 0.05 seconds\n",
      "fill cell array: 0.00 seconds\n",
      "mesh_to_polydata: 0.05 seconds\n",
      "simplify 0 @ 35077: 0.41 seconds\n",
      "simplify 1 @ 7017: 0.32 seconds\n",
      "simplify 2 @ 1405: 0.07 seconds\n"
     ]
    },
    {
     "name": "stdout",
     "output_type": "stream",
     "text": [
      "\n",
      "scp_R"
     ]
    },
    {
     "name": "stderr",
     "output_type": "stream",
     "text": [
      "time: 1.36\n",
      "marching cube: 0.05 seconds\n",
      "compute surface area: 0.01 seconds\n",
      "fill point array: 0.02 seconds\n",
      "fill cell array: 0.00 seconds\n",
      "mesh_to_polydata: 0.02 seconds\n",
      "simplify 0 @ 786: 0.12 seconds\n"
     ]
    },
    {
     "name": "stdout",
     "output_type": "stream",
     "text": [
      "\n",
      "sol_L"
     ]
    },
    {
     "name": "stderr",
     "output_type": "stream",
     "text": [
      "time: 0.21\n",
      "marching cube: 0.10 seconds\n",
      "compute surface area: 0.00 seconds\n",
      "fill point array: 0.01 seconds\n",
      "fill cell array: 0.00 seconds\n",
      "mesh_to_polydata: 0.02 seconds\n",
      "simplify 0 @ 7267: 0.06 seconds\n"
     ]
    },
    {
     "name": "stdout",
     "output_type": "stream",
     "text": [
      "\n",
      "sol_R"
     ]
    },
    {
     "name": "stderr",
     "output_type": "stream",
     "text": [
      "simplify 1 @ 1455: 0.07 seconds\n",
      "simplify 2 @ 292: 0.02 seconds\n",
      "time: 0.27\n",
      "marching cube: 0.00 seconds\n"
     ]
    },
    {
     "name": "stdout",
     "output_type": "stream",
     "text": [
      "\n",
      "sp5"
     ]
    },
    {
     "name": "stderr",
     "output_type": "stream",
     "text": [
      "compute surface area: 0.00 seconds\n",
      "fill point array: 0.00 seconds\n",
      "fill cell array: 0.00 seconds\n",
      "mesh_to_polydata: 0.00 seconds\n",
      "time: 0.00\n",
      "marching cube: 15.96 seconds\n",
      "compute surface area: 0.37 seconds\n",
      "fill point array: 2.03 seconds\n",
      "fill cell array: 0.07 seconds\n",
      "mesh_to_polydata: 2.10 seconds\n",
      "simplify 0 @ 787294: 21.19 seconds\n",
      "simplify 1 @ 157373: 11.02 seconds\n",
      "simplify 2 @ 31410: 2.31 seconds\n"
     ]
    },
    {
     "name": "stdout",
     "output_type": "stream",
     "text": [
      "\n",
      "vtgx_L"
     ]
    },
    {
     "name": "stderr",
     "output_type": "stream",
     "text": [
      "time: 53.95\n",
      "marching cube: 0.01 seconds\n",
      "compute surface area: 0.00 seconds\n",
      "fill point array: 0.01 seconds\n",
      "fill cell array: 0.00 seconds\n",
      "mesh_to_polydata: 0.01 seconds\n",
      "simplify 0 @ 803: 0.04 seconds\n",
      "time: 0.09\n"
     ]
    },
    {
     "name": "stdout",
     "output_type": "stream",
     "text": [
      "\n",
      "vtgx_R"
     ]
    },
    {
     "name": "stderr",
     "output_type": "stream",
     "text": [
      "marching cube: 0.01 seconds\n",
      "compute surface area: 0.00 seconds\n",
      "fill point array: 0.01 seconds\n",
      "fill cell array: 0.00 seconds\n",
      "mesh_to_polydata: 0.01 seconds\n",
      "simplify 0 @ 4066: 0.10 seconds\n"
     ]
    },
    {
     "name": "stdout",
     "output_type": "stream",
     "text": [
      "\n"
     ]
    },
    {
     "name": "stderr",
     "output_type": "stream",
     "text": [
      "simplify 1 @ 814: 0.11 seconds\n",
      "time: 0.28\n"
     ]
    }
   ],
   "source": [
    "# Generate STL files for each structure.\n",
    "\n",
    "for i in all_indices:\n",
    "    \n",
    "    name_s = index_to_name[i]\n",
    "    print name_s\n",
    "\n",
    "    xmin, xmax, ymin, ymax, zmin, zmax = bbox_3d(volume == i)\n",
    "    vol = (volume[ymin:ymax+1, xmin:xmax+1, zmin:zmax+1] == i).astype(np.float)\n",
    "\n",
    "    t = time.time()\n",
    "\n",
    "    polydata = volume_to_polydata(vol, origin=(xmin,ymin,zmin), num_simplify_iter=3, smooth=True)\n",
    "\n",
    "    sys.stderr.write('time: %.2f\\n' % (time.time() - t) ) # ~ 150s for outerContour; 93s for sp5\n",
    "\n",
    "    save_mesh_stl(polydata, os.path.join(mesh_rootdir, \n",
    "                     stack, \"%(stack)s_annotationVolume_%(name)s_smoothed.stl\" % {'stack': stack, 'name': name_s}))\n"
   ]
  },
  {
   "cell_type": "code",
   "execution_count": null,
   "metadata": {
    "collapsed": true
   },
   "outputs": [],
   "source": []
  },
  {
   "cell_type": "code",
   "execution_count": 28,
   "metadata": {
    "collapsed": false
   },
   "outputs": [],
   "source": [
    "polydata_list = {}\n",
    "\n",
    "for i in all_indices:  \n",
    "    name_s = index_to_name[i]\n",
    "#     if name_s != '10N_L':\n",
    "#         continue\n",
    "    \n",
    "    fn = os.path.join(mesh_rootdir, stack, \"%(stack)s_annotationVolume_%(name)s_smoothed.stl\" % {'stack': stack, 'name': name_s})\n",
    "\n",
    "    reader = vtk.vtkSTLReader()\n",
    "    reader.SetFileName(fn)\n",
    "    reader.Update()\n",
    "\n",
    "    polydata = reader.GetOutput()\n",
    "    polydata_list[name_s] = polydata\n",
    "    \n",
    "    \n",
    "mesh_actors = [actor_mesh(polydata, colors[convert_name_to_unsided(name_s)], opacity=1.) \n",
    "               for name_s, polydata in polydata_list.iteritems()]\n",
    "# smaller opacity causes erroneous rendering\n",
    "\n",
    "launch_vtk(mesh_actors)"
   ]
  },
  {
   "cell_type": "code",
   "execution_count": null,
   "metadata": {
    "collapsed": true
   },
   "outputs": [],
   "source": []
  }
 ],
 "metadata": {
  "kernelspec": {
   "display_name": "Python 2",
   "language": "python",
   "name": "python2"
  },
  "language_info": {
   "codemirror_mode": {
    "name": "ipython",
    "version": 2
   },
   "file_extension": ".py",
   "mimetype": "text/x-python",
   "name": "python",
   "nbconvert_exporter": "python",
   "pygments_lexer": "ipython2",
   "version": "2.7.6"
  }
 },
 "nbformat": 4,
 "nbformat_minor": 0
}
