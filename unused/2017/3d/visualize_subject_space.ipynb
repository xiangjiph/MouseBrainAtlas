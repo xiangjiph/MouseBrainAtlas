{
 "cells": [
  {
   "cell_type": "code",
   "execution_count": 1,
   "metadata": {
    "collapsed": false
   },
   "outputs": [
    {
     "name": "stdout",
     "output_type": "stream",
     "text": [
      "Setting environment for Local Macbook Pro\n"
     ]
    }
   ],
   "source": [
    "%reload_ext autoreload\n",
    "%autoreload 2\n",
    "\n",
    "import numpy as np\n",
    "import bloscpack as bp\n",
    "\n",
    "import sys\n",
    "import os\n",
    "sys.path.append(os.path.join(os.environ['REPO_DIR'], 'utilities'))\n",
    "from utilities2015 import *\n",
    "from annotation_utilities import *\n",
    "from registration_utilities import *\n",
    "from metadata import *\n",
    "from data_manager import *\n",
    "\n",
    "import pandas as pd\n",
    "\n",
    "import time\n",
    "\n",
    "import matplotlib.pyplot as plt\n",
    "%matplotlib inline\n",
    "\n",
    "from vis3d_utilities import *"
   ]
  },
  {
   "cell_type": "code",
   "execution_count": 3,
   "metadata": {
    "collapsed": true
   },
   "outputs": [],
   "source": [
    "train_sample_scheme = 1\n",
    "global_transform_scheme = 1\n",
    "local_transform_scheme = 2"
   ]
  },
  {
   "cell_type": "code",
   "execution_count": 4,
   "metadata": {
    "collapsed": true
   },
   "outputs": [],
   "source": [
    "stack = 'MD592'"
   ]
  },
  {
   "cell_type": "code",
   "execution_count": 5,
   "metadata": {
    "collapsed": false
   },
   "outputs": [],
   "source": [
    "atlas_name = 'atlasV2'"
   ]
  },
  {
   "cell_type": "code",
   "execution_count": 6,
   "metadata": {
    "collapsed": true
   },
   "outputs": [],
   "source": [
    "paired_structures = ['5N', '6N', '7N', '7n', 'Amb', 'LC', 'LRt', 'Pn', 'Tz', 'VLL', 'RMC', 'SNC', 'SNR', '3N', '4N',\n",
    "                    'Sp5I', 'Sp5O', 'Sp5C', 'PBG', '10N', 'VCA', 'VCP', 'DC']\n",
    "singular_structures = ['AP', '12N', 'RtTg', 'SC', 'IC']\n",
    "structures = paired_structures + singular_structures\n",
    "\n",
    "structure_colors = {n: np.random.randint(0, 255, (3,)) for n in structures}\n",
    "# with open('colors.txt', 'r') as f:\n",
    "#     colors = {l[0]: np.r_[float(l[1]), float(l[2]), float(l[3])] for l in map(lambda x: x.split(), f.readlines())}\n",
    "\n",
    "structures_sided = sum([[n] if n in singular_structures else [convert_to_left_name(n), convert_to_right_name(n)]\n",
    "                        for n in structures], [])"
   ]
  },
  {
   "cell_type": "markdown",
   "metadata": {},
   "source": [
    "# Generate transformed atlas meshes"
   ]
  },
  {
   "cell_type": "code",
   "execution_count": 41,
   "metadata": {
    "collapsed": false,
    "scrolled": true
   },
   "outputs": [
    {
     "name": "stdout",
     "output_type": "stream",
     "text": [
      "5N_L\n"
     ]
    },
    {
     "name": "stderr",
     "output_type": "stream",
     "text": [
      "marching cube: 17.02 seconds\n",
      "mesh_to_polydata: 0.02 seconds\n",
      "simplify 0 @ 7235: 0.10 seconds\n",
      "simplify 1 @ 1449: 0.09 seconds\n",
      "simplify 2 @ 291: 0.02 seconds\n",
      "time: 18.29\n"
     ]
    },
    {
     "name": "stdout",
     "output_type": "stream",
     "text": [
      "5N_R\n"
     ]
    },
    {
     "name": "stderr",
     "output_type": "stream",
     "text": [
      "marching cube: 15.00 seconds\n",
      "mesh_to_polydata: 0.01 seconds\n",
      "simplify 0 @ 7201: 0.06 seconds\n",
      "simplify 1 @ 1442: 0.06 seconds\n",
      "simplify 2 @ 289: 0.01 seconds\n",
      "time: 16.85\n"
     ]
    },
    {
     "name": "stdout",
     "output_type": "stream",
     "text": [
      "6N_L\n"
     ]
    },
    {
     "name": "stderr",
     "output_type": "stream",
     "text": [
      "marching cube: 11.79 seconds\n",
      "mesh_to_polydata: 0.00 seconds\n",
      "simplify 0 @ 670: 0.01 seconds\n",
      "time: 12.79\n"
     ]
    },
    {
     "name": "stdout",
     "output_type": "stream",
     "text": [
      "6N_R\n"
     ]
    },
    {
     "name": "stderr",
     "output_type": "stream",
     "text": [
      "marching cube: 12.48 seconds\n",
      "mesh_to_polydata: 0.00 seconds\n",
      "simplify 0 @ 698: 0.01 seconds\n",
      "time: 14.31\n"
     ]
    },
    {
     "name": "stdout",
     "output_type": "stream",
     "text": [
      "7N_L\n"
     ]
    },
    {
     "name": "stderr",
     "output_type": "stream",
     "text": [
      "marching cube: 12.86 seconds\n",
      "mesh_to_polydata: 0.02 seconds\n",
      "simplify 0 @ 12702: 0.11 seconds\n",
      "simplify 1 @ 2543: 0.11 seconds\n",
      "simplify 2 @ 509: 0.02 seconds\n",
      "time: 14.33\n"
     ]
    },
    {
     "name": "stdout",
     "output_type": "stream",
     "text": [
      "7N_R\n"
     ]
    },
    {
     "name": "stderr",
     "output_type": "stream",
     "text": [
      "marching cube: 13.30 seconds\n",
      "mesh_to_polydata: 0.02 seconds\n",
      "simplify 0 @ 12802: 0.12 seconds\n",
      "simplify 1 @ 2564: 0.13 seconds\n",
      "simplify 2 @ 514: 0.03 seconds\n",
      "time: 14.60\n"
     ]
    },
    {
     "name": "stdout",
     "output_type": "stream",
     "text": [
      "7n_L\n"
     ]
    },
    {
     "name": "stderr",
     "output_type": "stream",
     "text": [
      "marching cube: 13.52 seconds\n",
      "mesh_to_polydata: 0.02 seconds\n",
      "simplify 0 @ 9181: 0.17 seconds\n",
      "simplify 1 @ 1837: 0.12 seconds\n",
      "simplify 2 @ 369: 0.03 seconds\n",
      "time: 14.99\n"
     ]
    },
    {
     "name": "stdout",
     "output_type": "stream",
     "text": [
      "7n_R\n"
     ]
    },
    {
     "name": "stderr",
     "output_type": "stream",
     "text": [
      "marching cube: 12.68 seconds\n",
      "mesh_to_polydata: 0.02 seconds\n",
      "simplify 0 @ 9465: 0.13 seconds\n",
      "simplify 1 @ 1894: 0.13 seconds\n",
      "simplify 2 @ 380: 0.03 seconds\n",
      "time: 14.29\n"
     ]
    },
    {
     "name": "stdout",
     "output_type": "stream",
     "text": [
      "Amb_L\n"
     ]
    },
    {
     "name": "stderr",
     "output_type": "stream",
     "text": [
      "marching cube: 12.06 seconds\n",
      "mesh_to_polydata: 0.00 seconds\n",
      "simplify 0 @ 904: 0.01 seconds\n",
      "time: 13.74\n"
     ]
    },
    {
     "name": "stdout",
     "output_type": "stream",
     "text": [
      "Amb_R\n"
     ]
    },
    {
     "name": "stderr",
     "output_type": "stream",
     "text": [
      "marching cube: 13.01 seconds\n",
      "mesh_to_polydata: 0.00 seconds\n",
      "simplify 0 @ 845: 0.01 seconds\n",
      "time: 14.32\n"
     ]
    },
    {
     "name": "stdout",
     "output_type": "stream",
     "text": [
      "LC_L\n"
     ]
    },
    {
     "name": "stderr",
     "output_type": "stream",
     "text": [
      "marching cube: 13.28 seconds\n",
      "mesh_to_polydata: 0.01 seconds\n",
      "simplify 0 @ 3501: 0.03 seconds\n",
      "simplify 1 @ 701: 0.03 seconds\n",
      "time: 14.33\n"
     ]
    },
    {
     "name": "stdout",
     "output_type": "stream",
     "text": [
      "LC_R\n"
     ]
    },
    {
     "name": "stderr",
     "output_type": "stream",
     "text": [
      "marching cube: 12.21 seconds\n",
      "mesh_to_polydata: 0.01 seconds\n",
      "simplify 0 @ 3541: 0.06 seconds\n",
      "simplify 1 @ 709: 0.05 seconds\n",
      "time: 13.34\n"
     ]
    },
    {
     "name": "stdout",
     "output_type": "stream",
     "text": [
      "LRt_L\n"
     ]
    },
    {
     "name": "stderr",
     "output_type": "stream",
     "text": [
      "marching cube: 12.00 seconds\n",
      "mesh_to_polydata: 0.02 seconds\n",
      "simplify 0 @ 11520: 0.10 seconds\n",
      "simplify 1 @ 2306: 0.10 seconds\n",
      "simplify 2 @ 461: 0.02 seconds\n",
      "time: 14.01\n"
     ]
    },
    {
     "name": "stdout",
     "output_type": "stream",
     "text": [
      "LRt_R\n"
     ]
    },
    {
     "name": "stderr",
     "output_type": "stream",
     "text": [
      "marching cube: 13.24 seconds\n",
      "mesh_to_polydata: 0.02 seconds\n",
      "simplify 0 @ 11537: 0.10 seconds\n",
      "simplify 1 @ 2309: 0.10 seconds\n",
      "simplify 2 @ 463: 0.02 seconds\n",
      "time: 14.92\n"
     ]
    },
    {
     "name": "stdout",
     "output_type": "stream",
     "text": [
      "Pn_L\n"
     ]
    },
    {
     "name": "stderr",
     "output_type": "stream",
     "text": [
      "marching cube: 13.28 seconds\n",
      "mesh_to_polydata: 0.02 seconds\n",
      "simplify 0 @ 16240: 0.15 seconds\n",
      "simplify 1 @ 3250: 0.15 seconds\n",
      "simplify 2 @ 651: 0.03 seconds\n",
      "time: 14.63\n"
     ]
    },
    {
     "name": "stdout",
     "output_type": "stream",
     "text": [
      "Pn_R\n"
     ]
    },
    {
     "name": "stderr",
     "output_type": "stream",
     "text": [
      "marching cube: 13.52 seconds\n",
      "mesh_to_polydata: 0.03 seconds\n",
      "simplify 0 @ 16286: 0.17 seconds\n",
      "simplify 1 @ 3259: 0.17 seconds\n",
      "simplify 2 @ 653: 0.04 seconds\n",
      "time: 14.91\n"
     ]
    },
    {
     "name": "stdout",
     "output_type": "stream",
     "text": [
      "Tz_L\n"
     ]
    },
    {
     "name": "stderr",
     "output_type": "stream",
     "text": [
      "marching cube: 12.60 seconds\n",
      "mesh_to_polydata: 0.01 seconds\n",
      "simplify 0 @ 5053: 0.07 seconds\n",
      "simplify 1 @ 1012: 0.07 seconds\n",
      "simplify 2 @ 204: 0.02 seconds\n",
      "time: 13.75\n"
     ]
    },
    {
     "name": "stdout",
     "output_type": "stream",
     "text": [
      "Tz_R\n"
     ]
    },
    {
     "name": "stderr",
     "output_type": "stream",
     "text": [
      "marching cube: 9.93 seconds\n",
      "mesh_to_polydata: 0.01 seconds\n",
      "simplify 0 @ 5113: 0.04 seconds\n",
      "simplify 1 @ 1024: 0.04 seconds\n",
      "simplify 2 @ 206: 0.01 seconds\n",
      "time: 11.67\n"
     ]
    },
    {
     "name": "stdout",
     "output_type": "stream",
     "text": [
      "VLL_L\n"
     ]
    },
    {
     "name": "stderr",
     "output_type": "stream",
     "text": [
      "marching cube: 9.66 seconds\n",
      "mesh_to_polydata: 0.01 seconds\n",
      "simplify 0 @ 11849: 0.09 seconds\n",
      "simplify 1 @ 2371: 0.09 seconds\n",
      "simplify 2 @ 475: 0.02 seconds\n",
      "time: 10.88\n"
     ]
    },
    {
     "name": "stdout",
     "output_type": "stream",
     "text": [
      "VLL_R\n"
     ]
    },
    {
     "name": "stderr",
     "output_type": "stream",
     "text": [
      "marching cube: 12.46 seconds\n",
      "mesh_to_polydata: 0.03 seconds\n",
      "simplify 0 @ 11164: 0.17 seconds\n",
      "simplify 1 @ 2234: 0.15 seconds\n",
      "simplify 2 @ 448: 0.03 seconds\n",
      "time: 13.71\n"
     ]
    },
    {
     "name": "stdout",
     "output_type": "stream",
     "text": [
      "RMC_L\n"
     ]
    },
    {
     "name": "stderr",
     "output_type": "stream",
     "text": [
      "marching cube: 11.73 seconds\n",
      "mesh_to_polydata: 0.01 seconds\n",
      "simplify 0 @ 6112: 0.05 seconds\n",
      "simplify 1 @ 1224: 0.05 seconds\n",
      "simplify 2 @ 246: 0.01 seconds\n",
      "time: 13.41\n"
     ]
    },
    {
     "name": "stdout",
     "output_type": "stream",
     "text": [
      "RMC_R\n"
     ]
    },
    {
     "name": "stderr",
     "output_type": "stream",
     "text": [
      "marching cube: 11.61 seconds\n",
      "mesh_to_polydata: 0.01 seconds\n",
      "simplify 0 @ 6035: 0.08 seconds\n",
      "simplify 1 @ 1208: 0.08 seconds\n",
      "simplify 2 @ 243: 0.02 seconds\n",
      "time: 12.67\n"
     ]
    },
    {
     "name": "stdout",
     "output_type": "stream",
     "text": [
      "SNC_L\n"
     ]
    },
    {
     "name": "stderr",
     "output_type": "stream",
     "text": [
      "marching cube: 12.19 seconds\n",
      "mesh_to_polydata: 0.01 seconds\n",
      "simplify 0 @ 6760: 0.05 seconds\n",
      "simplify 1 @ 1353: 0.05 seconds\n",
      "simplify 2 @ 272: 0.01 seconds\n",
      "time: 13.95\n"
     ]
    },
    {
     "name": "stdout",
     "output_type": "stream",
     "text": [
      "SNC_R\n"
     ]
    },
    {
     "name": "stderr",
     "output_type": "stream",
     "text": [
      "marching cube: 9.24 seconds\n",
      "mesh_to_polydata: 0.01 seconds\n",
      "simplify 0 @ 6833: 0.04 seconds\n",
      "simplify 1 @ 1368: 0.05 seconds\n",
      "simplify 2 @ 275: 0.01 seconds\n",
      "time: 10.33\n"
     ]
    },
    {
     "name": "stdout",
     "output_type": "stream",
     "text": [
      "SNR_L\n"
     ]
    },
    {
     "name": "stderr",
     "output_type": "stream",
     "text": [
      "marching cube: 13.08 seconds\n",
      "mesh_to_polydata: 0.07 seconds\n",
      "simplify 0 @ 29774: 0.40 seconds\n",
      "simplify 1 @ 5956: 0.42 seconds\n",
      "simplify 2 @ 1192: 0.07 seconds\n",
      "time: 14.95\n"
     ]
    },
    {
     "name": "stdout",
     "output_type": "stream",
     "text": [
      "SNR_R\n"
     ]
    },
    {
     "name": "stderr",
     "output_type": "stream",
     "text": [
      "marching cube: 9.40 seconds\n",
      "mesh_to_polydata: 0.04 seconds\n",
      "simplify 0 @ 29882: 0.25 seconds\n",
      "simplify 1 @ 5978: 0.30 seconds\n",
      "simplify 2 @ 1197: 0.06 seconds\n",
      "time: 11.09\n"
     ]
    },
    {
     "name": "stdout",
     "output_type": "stream",
     "text": [
      "3N_L\n"
     ]
    },
    {
     "name": "stderr",
     "output_type": "stream",
     "text": [
      "marching cube: 9.14 seconds\n",
      "mesh_to_polydata: 0.00 seconds\n",
      "simplify 0 @ 2495: 0.02 seconds\n",
      "simplify 1 @ 500: 0.02 seconds\n",
      "time: 10.14\n"
     ]
    },
    {
     "name": "stdout",
     "output_type": "stream",
     "text": [
      "3N_R\n"
     ]
    },
    {
     "name": "stderr",
     "output_type": "stream",
     "text": [
      "marching cube: 13.51 seconds\n",
      "mesh_to_polydata: 0.01 seconds\n",
      "simplify 0 @ 2434: 0.03 seconds\n",
      "simplify 1 @ 488: 0.03 seconds\n",
      "time: 14.48\n"
     ]
    },
    {
     "name": "stdout",
     "output_type": "stream",
     "text": [
      "4N_L\n"
     ]
    },
    {
     "name": "stderr",
     "output_type": "stream",
     "text": [
      "marching cube: 11.88 seconds\n",
      "mesh_to_polydata: 0.00 seconds\n",
      "simplify 0 @ 325: 0.01 seconds\n",
      "time: 12.91\n"
     ]
    },
    {
     "name": "stdout",
     "output_type": "stream",
     "text": [
      "4N_R\n"
     ]
    },
    {
     "name": "stderr",
     "output_type": "stream",
     "text": [
      "marching cube: 12.63 seconds\n",
      "mesh_to_polydata: 0.00 seconds\n",
      "simplify 0 @ 335: 0.00 seconds\n",
      "time: 14.35\n"
     ]
    },
    {
     "name": "stdout",
     "output_type": "stream",
     "text": [
      "Sp5I_L\n"
     ]
    },
    {
     "name": "stderr",
     "output_type": "stream",
     "text": [
      "marching cube: 9.77 seconds\n",
      "mesh_to_polydata: 0.02 seconds\n",
      "simplify 0 @ 11326: 0.11 seconds\n",
      "simplify 1 @ 2264: 0.09 seconds\n",
      "simplify 2 @ 455: 0.02 seconds\n",
      "time: 11.20\n"
     ]
    },
    {
     "name": "stdout",
     "output_type": "stream",
     "text": [
      "Sp5I_R\n"
     ]
    },
    {
     "name": "stderr",
     "output_type": "stream",
     "text": [
      "marching cube: 13.50 seconds\n",
      "mesh_to_polydata: 0.02 seconds\n",
      "simplify 0 @ 10840: 0.13 seconds\n",
      "simplify 1 @ 2168: 0.10 seconds\n",
      "simplify 2 @ 435: 0.02 seconds\n",
      "time: 14.72\n"
     ]
    },
    {
     "name": "stdout",
     "output_type": "stream",
     "text": [
      "Sp5O_L\n"
     ]
    },
    {
     "name": "stderr",
     "output_type": "stream",
     "text": [
      "marching cube: 13.16 seconds\n",
      "mesh_to_polydata: 0.04 seconds\n",
      "simplify 0 @ 12009: 0.26 seconds\n",
      "simplify 1 @ 2401: 0.14 seconds\n",
      "simplify 2 @ 481: 0.03 seconds\n",
      "time: 14.67\n"
     ]
    },
    {
     "name": "stdout",
     "output_type": "stream",
     "text": [
      "Sp5O_R\n"
     ]
    },
    {
     "name": "stderr",
     "output_type": "stream",
     "text": [
      "marching cube: 12.04 seconds\n",
      "mesh_to_polydata: 0.04 seconds\n",
      "simplify 0 @ 12336: 0.25 seconds\n",
      "simplify 1 @ 2465: 0.18 seconds\n",
      "simplify 2 @ 491: 0.04 seconds\n",
      "time: 13.58\n"
     ]
    },
    {
     "name": "stdout",
     "output_type": "stream",
     "text": [
      "Sp5C_L\n"
     ]
    },
    {
     "name": "stderr",
     "output_type": "stream",
     "text": [
      "marching cube: 10.91 seconds\n",
      "mesh_to_polydata: 0.04 seconds\n",
      "simplify 0 @ 29110: 0.28 seconds\n",
      "simplify 1 @ 5824: 0.29 seconds\n",
      "simplify 2 @ 1166: 0.06 seconds\n",
      "time: 13.32\n"
     ]
    },
    {
     "name": "stdout",
     "output_type": "stream",
     "text": [
      "Sp5C_R\n"
     ]
    },
    {
     "name": "stderr",
     "output_type": "stream",
     "text": [
      "marching cube: 14.20 seconds\n",
      "mesh_to_polydata: 0.04 seconds\n",
      "simplify 0 @ 28910: 0.25 seconds\n",
      "simplify 1 @ 5784: 0.27 seconds\n",
      "simplify 2 @ 1158: 0.05 seconds\n",
      "time: 15.97\n"
     ]
    },
    {
     "name": "stdout",
     "output_type": "stream",
     "text": [
      "PBG_L\n"
     ]
    },
    {
     "name": "stderr",
     "output_type": "stream",
     "text": [
      "marching cube: 14.02 seconds\n",
      "mesh_to_polydata: 0.00 seconds\n",
      "simplify 0 @ 1709: 0.02 seconds\n",
      "simplify 1 @ 343: 0.01 seconds\n",
      "time: 14.97\n"
     ]
    },
    {
     "name": "stdout",
     "output_type": "stream",
     "text": [
      "PBG_R\n"
     ]
    },
    {
     "name": "stderr",
     "output_type": "stream",
     "text": [
      "marching cube: 13.32 seconds\n",
      "mesh_to_polydata: 0.00 seconds\n",
      "simplify 0 @ 1662: 0.02 seconds\n",
      "simplify 1 @ 334: 0.01 seconds\n",
      "time: 14.45\n"
     ]
    },
    {
     "name": "stdout",
     "output_type": "stream",
     "text": [
      "10N_L\n"
     ]
    },
    {
     "name": "stderr",
     "output_type": "stream",
     "text": [
      "marching cube: 13.03 seconds\n",
      "mesh_to_polydata: 0.01 seconds\n",
      "simplify 0 @ 2900: 0.04 seconds\n",
      "simplify 1 @ 582: 0.04 seconds\n",
      "time: 14.37\n"
     ]
    },
    {
     "name": "stdout",
     "output_type": "stream",
     "text": [
      "10N_R\n"
     ]
    },
    {
     "name": "stderr",
     "output_type": "stream",
     "text": [
      "marching cube: 12.03 seconds\n",
      "mesh_to_polydata: 0.01 seconds\n",
      "simplify 0 @ 2841: 0.04 seconds\n",
      "simplify 1 @ 569: 0.04 seconds\n",
      "time: 13.71\n"
     ]
    },
    {
     "name": "stdout",
     "output_type": "stream",
     "text": [
      "VCA_L\n"
     ]
    },
    {
     "name": "stderr",
     "output_type": "stream",
     "text": [
      "marching cube: 10.17 seconds\n",
      "mesh_to_polydata: 0.02 seconds\n",
      "simplify 0 @ 12047: 0.11 seconds\n",
      "simplify 1 @ 2411: 0.10 seconds\n",
      "simplify 2 @ 483: 0.02 seconds\n",
      "time: 12.23\n"
     ]
    },
    {
     "name": "stdout",
     "output_type": "stream",
     "text": [
      "VCA_R\n"
     ]
    },
    {
     "name": "stderr",
     "output_type": "stream",
     "text": [
      "marching cube: 14.14 seconds\n",
      "mesh_to_polydata: 0.03 seconds\n",
      "simplify 0 @ 12571: 0.22 seconds\n",
      "simplify 1 @ 2515: 0.19 seconds\n",
      "simplify 2 @ 504: 0.05 seconds\n",
      "time: 15.75\n"
     ]
    },
    {
     "name": "stdout",
     "output_type": "stream",
     "text": [
      "VCP_L\n"
     ]
    },
    {
     "name": "stderr",
     "output_type": "stream",
     "text": [
      "marching cube: 12.59 seconds\n",
      "mesh_to_polydata: 0.01 seconds\n",
      "simplify 0 @ 6693: 0.06 seconds\n",
      "simplify 1 @ 1340: 0.05 seconds\n",
      "simplify 2 @ 269: 0.01 seconds\n",
      "time: 14.56\n"
     ]
    },
    {
     "name": "stdout",
     "output_type": "stream",
     "text": [
      "VCP_R\n"
     ]
    },
    {
     "name": "stderr",
     "output_type": "stream",
     "text": [
      "marching cube: 13.48 seconds\n",
      "mesh_to_polydata: 0.01 seconds\n",
      "simplify 0 @ 6827: 0.07 seconds\n",
      "simplify 1 @ 1367: 0.06 seconds\n",
      "simplify 2 @ 275: 0.01 seconds\n",
      "time: 15.12\n"
     ]
    },
    {
     "name": "stdout",
     "output_type": "stream",
     "text": [
      "DC_L\n"
     ]
    },
    {
     "name": "stderr",
     "output_type": "stream",
     "text": [
      "marching cube: 11.02 seconds\n",
      "mesh_to_polydata: 0.03 seconds\n",
      "simplify 0 @ 10392: 0.19 seconds\n",
      "simplify 1 @ 2078: 0.18 seconds\n",
      "simplify 2 @ 417: 0.04 seconds\n",
      "time: 12.77\n"
     ]
    },
    {
     "name": "stdout",
     "output_type": "stream",
     "text": [
      "DC_R\n"
     ]
    },
    {
     "name": "stderr",
     "output_type": "stream",
     "text": [
      "marching cube: 13.16 seconds\n",
      "mesh_to_polydata: 0.02 seconds\n",
      "simplify 0 @ 10742: 0.10 seconds\n",
      "simplify 1 @ 2150: 0.10 seconds\n",
      "simplify 2 @ 431: 0.02 seconds\n",
      "time: 15.32\n"
     ]
    },
    {
     "name": "stdout",
     "output_type": "stream",
     "text": [
      "AP\n"
     ]
    },
    {
     "name": "stderr",
     "output_type": "stream",
     "text": [
      "marching cube: 10.74 seconds\n",
      "mesh_to_polydata: 0.01 seconds\n",
      "simplify 0 @ 2708: 0.05 seconds\n",
      "simplify 1 @ 543: 0.04 seconds\n",
      "time: 11.97\n"
     ]
    },
    {
     "name": "stdout",
     "output_type": "stream",
     "text": [
      "12N\n"
     ]
    },
    {
     "name": "stderr",
     "output_type": "stream",
     "text": [
      "marching cube: 12.36 seconds\n",
      "mesh_to_polydata: 0.02 seconds\n",
      "simplify 0 @ 12760: 0.13 seconds\n",
      "simplify 1 @ 2554: 0.12 seconds\n",
      "simplify 2 @ 512: 0.03 seconds\n",
      "time: 14.66\n"
     ]
    },
    {
     "name": "stdout",
     "output_type": "stream",
     "text": [
      "RtTg\n"
     ]
    },
    {
     "name": "stderr",
     "output_type": "stream",
     "text": [
      "marching cube: 10.84 seconds\n",
      "mesh_to_polydata: 0.04 seconds\n",
      "simplify 0 @ 26058: 0.30 seconds\n",
      "simplify 1 @ 5204: 0.29 seconds\n",
      "simplify 2 @ 1041: 0.05 seconds\n",
      "time: 12.52\n"
     ]
    },
    {
     "name": "stdout",
     "output_type": "stream",
     "text": [
      "SC\n"
     ]
    },
    {
     "name": "stderr",
     "output_type": "stream",
     "text": [
      "marching cube: 11.29 seconds\n",
      "mesh_to_polydata: 0.15 seconds\n",
      "simplify 0 @ 123343: 1.06 seconds\n",
      "simplify 1 @ 24671: 1.51 seconds\n",
      "simplify 2 @ 4935: 0.31 seconds\n",
      "time: 15.50\n"
     ]
    },
    {
     "name": "stdout",
     "output_type": "stream",
     "text": [
      "IC\n"
     ]
    },
    {
     "name": "stderr",
     "output_type": "stream",
     "text": [
      "marching cube: 9.37 seconds\n",
      "mesh_to_polydata: 0.10 seconds\n",
      "simplify 0 @ 79238: 0.75 seconds\n",
      "simplify 1 @ 15854: 0.83 seconds\n",
      "simplify 2 @ 3171: 0.17 seconds\n",
      "time: 12.34\n"
     ]
    }
   ],
   "source": [
    "# Render globally transformed atlas structures\n",
    "\n",
    "for name_s in structures_sided:\n",
    "# for name_s in ['12N']:\n",
    "\n",
    "    print name_s\n",
    "    \n",
    "    global_transformed_volume = \\\n",
    "    DataManager.load_transformed_volume(stack_m=atlas_name, type_m='score', \n",
    "                                        stack_f=stack, type_f='score',\n",
    "                                        downscale=32, \n",
    "                                        train_sample_scheme_f=train_sample_scheme,\n",
    "                                        global_transform_scheme=global_transform_scheme,\n",
    "                                        label=name_s)\n",
    "    \n",
    "    t = time.time()\n",
    "\n",
    "    polydata = volume_to_polydata(global_transformed_volume, num_simplify_iter=3, smooth=True, level=0.5)\n",
    "\n",
    "    sys.stderr.write('time: %.2f\\n' % (time.time() - t))\n",
    "\n",
    "    mesh_fn = DataManager.get_transformed_volume_mesh_filepath(stack_m=atlas_name, type_m='score', \n",
    "                                                         stack_f=stack, type_f='score', \n",
    "                                                         downscale=32,\n",
    "                                                        train_sample_scheme_f=train_sample_scheme,\n",
    "                                                        global_transform_scheme=global_transform_scheme,\n",
    "                                                        label=name_s)     \n",
    "        \n",
    "    save_mesh(polydata, mesh_fn)"
   ]
  },
  {
   "cell_type": "code",
   "execution_count": 9,
   "metadata": {
    "collapsed": false,
    "scrolled": true
   },
   "outputs": [
    {
     "name": "stdout",
     "output_type": "stream",
     "text": [
      "5N_L\n"
     ]
    },
    {
     "name": "stderr",
     "output_type": "stream",
     "text": [
      "marching cube: 11.57 seconds\n",
      "mesh_to_polydata: 0.01 seconds\n",
      "simplify 0 @ 7311: 0.06 seconds\n",
      "simplify 1 @ 1463: 0.06 seconds\n",
      "simplify 2 @ 294: 0.01 seconds\n",
      "time: 12.53\n"
     ]
    },
    {
     "name": "stdout",
     "output_type": "stream",
     "text": [
      "5N_R\n"
     ]
    },
    {
     "name": "stderr",
     "output_type": "stream",
     "text": [
      "marching cube: 13.20 seconds\n",
      "mesh_to_polydata: 0.01 seconds\n",
      "simplify 0 @ 7652: 0.06 seconds\n",
      "simplify 1 @ 1532: 0.06 seconds\n",
      "simplify 2 @ 308: 0.01 seconds\n",
      "time: 14.55\n"
     ]
    },
    {
     "name": "stdout",
     "output_type": "stream",
     "text": [
      "6N_L\n"
     ]
    },
    {
     "name": "stderr",
     "output_type": "stream",
     "text": [
      "marching cube: 13.83 seconds\n",
      "mesh_to_polydata: 0.00 seconds\n",
      "simplify 0 @ 716: 0.01 seconds\n",
      "time: 14.83\n"
     ]
    },
    {
     "name": "stdout",
     "output_type": "stream",
     "text": [
      "6N_R\n"
     ]
    },
    {
     "name": "stderr",
     "output_type": "stream",
     "text": [
      "marching cube: 13.10 seconds\n",
      "mesh_to_polydata: 0.00 seconds\n",
      "simplify 0 @ 781: 0.01 seconds\n",
      "time: 14.15\n"
     ]
    },
    {
     "name": "stdout",
     "output_type": "stream",
     "text": [
      "7N_L\n"
     ]
    },
    {
     "name": "stderr",
     "output_type": "stream",
     "text": [
      "marching cube: 11.86 seconds\n",
      "mesh_to_polydata: 0.03 seconds\n",
      "simplify 0 @ 13140: 0.18 seconds\n",
      "simplify 1 @ 2630: 0.19 seconds\n",
      "simplify 2 @ 527: 0.04 seconds\n",
      "time: 13.73\n"
     ]
    },
    {
     "name": "stdout",
     "output_type": "stream",
     "text": [
      "7N_R\n"
     ]
    },
    {
     "name": "stderr",
     "output_type": "stream",
     "text": [
      "marching cube: 12.99 seconds\n",
      "mesh_to_polydata: 0.02 seconds\n",
      "simplify 0 @ 13286: 0.11 seconds\n",
      "simplify 1 @ 2659: 0.12 seconds\n",
      "simplify 2 @ 533: 0.03 seconds\n",
      "time: 14.91\n"
     ]
    },
    {
     "name": "stdout",
     "output_type": "stream",
     "text": [
      "7n_L\n"
     ]
    },
    {
     "name": "stderr",
     "output_type": "stream",
     "text": [
      "marching cube: 12.79 seconds\n",
      "mesh_to_polydata: 0.01 seconds\n",
      "simplify 0 @ 9962: 0.08 seconds\n",
      "simplify 1 @ 1994: 0.09 seconds\n",
      "simplify 2 @ 400: 0.02 seconds\n",
      "time: 14.52\n"
     ]
    },
    {
     "name": "stdout",
     "output_type": "stream",
     "text": [
      "7n_R\n"
     ]
    },
    {
     "name": "stderr",
     "output_type": "stream",
     "text": [
      "marching cube: 14.35 seconds\n",
      "mesh_to_polydata: 0.03 seconds\n",
      "simplify 0 @ 10687: 0.20 seconds\n",
      "simplify 1 @ 2140: 0.21 seconds\n",
      "simplify 2 @ 429: 0.05 seconds\n",
      "time: 15.83\n"
     ]
    },
    {
     "name": "stdout",
     "output_type": "stream",
     "text": [
      "Amb_L\n"
     ]
    },
    {
     "name": "stderr",
     "output_type": "stream",
     "text": [
      "marching cube: 15.09 seconds\n",
      "mesh_to_polydata: 0.00 seconds\n",
      "simplify 0 @ 971: 0.01 seconds\n",
      "time: 17.39\n"
     ]
    },
    {
     "name": "stdout",
     "output_type": "stream",
     "text": [
      "Amb_R\n"
     ]
    },
    {
     "name": "stderr",
     "output_type": "stream",
     "text": [
      "marching cube: 12.06 seconds\n",
      "mesh_to_polydata: 0.00 seconds\n",
      "simplify 0 @ 924: 0.01 seconds\n",
      "time: 13.25\n"
     ]
    },
    {
     "name": "stdout",
     "output_type": "stream",
     "text": [
      "LC_L\n"
     ]
    },
    {
     "name": "stderr",
     "output_type": "stream",
     "text": [
      "marching cube: 12.42 seconds\n",
      "mesh_to_polydata: 0.01 seconds\n",
      "simplify 0 @ 4164: 0.04 seconds\n",
      "simplify 1 @ 834: 0.03 seconds\n",
      "time: 14.14\n"
     ]
    },
    {
     "name": "stdout",
     "output_type": "stream",
     "text": [
      "LC_R\n"
     ]
    },
    {
     "name": "stderr",
     "output_type": "stream",
     "text": [
      "marching cube: 13.63 seconds\n",
      "mesh_to_polydata: 0.01 seconds\n",
      "simplify 0 @ 3699: 0.03 seconds\n",
      "simplify 1 @ 741: 0.03 seconds\n",
      "time: 14.69\n"
     ]
    },
    {
     "name": "stdout",
     "output_type": "stream",
     "text": [
      "LRt_L\n"
     ]
    },
    {
     "name": "stderr",
     "output_type": "stream",
     "text": [
      "marching cube: 13.31 seconds\n",
      "mesh_to_polydata: 0.02 seconds\n",
      "simplify 0 @ 12139: 0.12 seconds\n",
      "simplify 1 @ 2427: 0.11 seconds\n",
      "simplify 2 @ 486: 0.03 seconds\n",
      "time: 14.57\n"
     ]
    },
    {
     "name": "stdout",
     "output_type": "stream",
     "text": [
      "LRt_R\n"
     ]
    },
    {
     "name": "stderr",
     "output_type": "stream",
     "text": [
      "marching cube: 12.79 seconds\n",
      "mesh_to_polydata: 0.03 seconds\n",
      "simplify 0 @ 12744: 0.17 seconds\n",
      "simplify 1 @ 2550: 0.18 seconds\n",
      "simplify 2 @ 511: 0.04 seconds\n",
      "time: 14.32\n"
     ]
    },
    {
     "name": "stdout",
     "output_type": "stream",
     "text": [
      "Pn_L\n"
     ]
    },
    {
     "name": "stderr",
     "output_type": "stream",
     "text": [
      "marching cube: 11.78 seconds\n",
      "mesh_to_polydata: 0.03 seconds\n",
      "simplify 0 @ 17669: 0.17 seconds\n",
      "simplify 1 @ 3536: 0.23 seconds\n",
      "simplify 2 @ 708: 0.06 seconds\n",
      "time: 13.77\n"
     ]
    },
    {
     "name": "stdout",
     "output_type": "stream",
     "text": [
      "Pn_R\n"
     ]
    },
    {
     "name": "stderr",
     "output_type": "stream",
     "text": [
      "marching cube: 12.24 seconds\n",
      "mesh_to_polydata: 0.02 seconds\n",
      "simplify 0 @ 16346: 0.14 seconds\n",
      "simplify 1 @ 3271: 0.15 seconds\n",
      "simplify 2 @ 655: 0.03 seconds\n",
      "time: 14.22\n"
     ]
    },
    {
     "name": "stdout",
     "output_type": "stream",
     "text": [
      "Tz_L\n"
     ]
    },
    {
     "name": "stderr",
     "output_type": "stream",
     "text": [
      "marching cube: 13.60 seconds\n",
      "mesh_to_polydata: 0.01 seconds\n",
      "simplify 0 @ 5346: 0.05 seconds\n",
      "simplify 1 @ 1070: 0.04 seconds\n",
      "simplify 2 @ 215: 0.01 seconds\n",
      "time: 14.71\n"
     ]
    },
    {
     "name": "stdout",
     "output_type": "stream",
     "text": [
      "Tz_R\n"
     ]
    },
    {
     "name": "stderr",
     "output_type": "stream",
     "text": [
      "marching cube: 13.54 seconds\n",
      "mesh_to_polydata: 0.01 seconds\n",
      "simplify 0 @ 5351: 0.05 seconds\n",
      "simplify 1 @ 1072: 0.05 seconds\n",
      "simplify 2 @ 215: 0.01 seconds\n",
      "time: 14.68\n"
     ]
    },
    {
     "name": "stdout",
     "output_type": "stream",
     "text": [
      "VLL_L\n"
     ]
    },
    {
     "name": "stderr",
     "output_type": "stream",
     "text": [
      "marching cube: 12.67 seconds\n",
      "mesh_to_polydata: 0.01 seconds\n",
      "simplify 0 @ 11885: 0.09 seconds\n",
      "simplify 1 @ 2378: 0.09 seconds\n",
      "simplify 2 @ 477: 0.02 seconds\n",
      "time: 14.12\n"
     ]
    },
    {
     "name": "stdout",
     "output_type": "stream",
     "text": [
      "VLL_R\n"
     ]
    },
    {
     "name": "stderr",
     "output_type": "stream",
     "text": [
      "marching cube: 13.80 seconds\n",
      "mesh_to_polydata: 0.02 seconds\n",
      "simplify 0 @ 11716: 0.11 seconds\n",
      "simplify 1 @ 2344: 0.10 seconds\n",
      "simplify 2 @ 470: 0.03 seconds\n",
      "time: 14.92\n"
     ]
    },
    {
     "name": "stdout",
     "output_type": "stream",
     "text": [
      "RMC_L\n"
     ]
    },
    {
     "name": "stderr",
     "output_type": "stream",
     "text": [
      "marching cube: 13.00 seconds\n",
      "mesh_to_polydata: 0.01 seconds\n",
      "simplify 0 @ 6470: 0.09 seconds\n",
      "simplify 1 @ 1295: 0.09 seconds\n",
      "simplify 2 @ 260: 0.02 seconds\n",
      "time: 14.22\n"
     ]
    },
    {
     "name": "stdout",
     "output_type": "stream",
     "text": [
      "RMC_R\n"
     ]
    },
    {
     "name": "stderr",
     "output_type": "stream",
     "text": [
      "marching cube: 12.20 seconds\n",
      "mesh_to_polydata: 0.01 seconds\n",
      "simplify 0 @ 6605: 0.08 seconds\n",
      "simplify 1 @ 1323: 0.09 seconds\n",
      "simplify 2 @ 266: 0.02 seconds\n",
      "time: 13.57\n"
     ]
    },
    {
     "name": "stdout",
     "output_type": "stream",
     "text": [
      "SNC_L\n"
     ]
    },
    {
     "name": "stderr",
     "output_type": "stream",
     "text": [
      "marching cube: 12.64 seconds\n",
      "mesh_to_polydata: 0.01 seconds\n",
      "simplify 0 @ 6903: 0.06 seconds\n",
      "simplify 1 @ 1382: 0.06 seconds\n",
      "simplify 2 @ 278: 0.01 seconds\n",
      "time: 14.47\n"
     ]
    },
    {
     "name": "stdout",
     "output_type": "stream",
     "text": [
      "SNC_R\n"
     ]
    },
    {
     "name": "stderr",
     "output_type": "stream",
     "text": [
      "marching cube: 12.87 seconds\n",
      "mesh_to_polydata: 0.01 seconds\n",
      "simplify 0 @ 6896: 0.05 seconds\n",
      "simplify 1 @ 1381: 0.06 seconds\n",
      "simplify 2 @ 277: 0.01 seconds\n",
      "time: 14.64\n"
     ]
    },
    {
     "name": "stdout",
     "output_type": "stream",
     "text": [
      "SNR_L\n"
     ]
    },
    {
     "name": "stderr",
     "output_type": "stream",
     "text": [
      "marching cube: 13.63 seconds\n",
      "mesh_to_polydata: 0.04 seconds\n",
      "simplify 0 @ 30391: 0.26 seconds\n",
      "simplify 1 @ 6081: 0.31 seconds\n",
      "simplify 2 @ 1217: 0.06 seconds\n",
      "time: 15.27\n"
     ]
    },
    {
     "name": "stdout",
     "output_type": "stream",
     "text": [
      "SNR_R\n"
     ]
    },
    {
     "name": "stderr",
     "output_type": "stream",
     "text": [
      "marching cube: 13.51 seconds\n",
      "mesh_to_polydata: 0.05 seconds\n",
      "simplify 0 @ 31126: 0.31 seconds\n",
      "simplify 1 @ 6227: 0.37 seconds\n",
      "simplify 2 @ 1246: 0.08 seconds\n",
      "time: 15.31\n"
     ]
    },
    {
     "name": "stdout",
     "output_type": "stream",
     "text": [
      "3N_L\n"
     ]
    },
    {
     "name": "stderr",
     "output_type": "stream",
     "text": [
      "marching cube: 10.70 seconds\n",
      "mesh_to_polydata: 0.01 seconds\n",
      "simplify 0 @ 2691: 0.05 seconds\n",
      "simplify 1 @ 539: 0.04 seconds\n",
      "time: 11.97\n"
     ]
    },
    {
     "name": "stdout",
     "output_type": "stream",
     "text": [
      "3N_R\n"
     ]
    },
    {
     "name": "stderr",
     "output_type": "stream",
     "text": [
      "marching cube: 13.95 seconds\n",
      "mesh_to_polydata: 0.00 seconds\n",
      "simplify 0 @ 2568: 0.02 seconds\n",
      "simplify 1 @ 515: 0.02 seconds\n",
      "time: 15.97\n"
     ]
    },
    {
     "name": "stdout",
     "output_type": "stream",
     "text": [
      "4N_L\n"
     ]
    },
    {
     "name": "stderr",
     "output_type": "stream",
     "text": [
      "marching cube: 12.84 seconds\n",
      "mesh_to_polydata: 0.00 seconds\n",
      "simplify 0 @ 438: 0.01 seconds\n",
      "time: 13.83\n"
     ]
    },
    {
     "name": "stdout",
     "output_type": "stream",
     "text": [
      "4N_R\n"
     ]
    },
    {
     "name": "stderr",
     "output_type": "stream",
     "text": [
      "marching cube: 11.94 seconds\n",
      "mesh_to_polydata: 0.00 seconds\n",
      "simplify 0 @ 376: 0.01 seconds\n",
      "time: 13.33\n"
     ]
    },
    {
     "name": "stdout",
     "output_type": "stream",
     "text": [
      "Sp5I_L\n"
     ]
    },
    {
     "name": "stderr",
     "output_type": "stream",
     "text": [
      "marching cube: 12.43 seconds\n",
      "mesh_to_polydata: 0.02 seconds\n",
      "simplify 0 @ 11891: 0.12 seconds\n",
      "simplify 1 @ 2380: 0.10 seconds\n",
      "simplify 2 @ 477: 0.02 seconds\n",
      "time: 14.32\n"
     ]
    },
    {
     "name": "stdout",
     "output_type": "stream",
     "text": [
      "Sp5I_R\n"
     ]
    },
    {
     "name": "stderr",
     "output_type": "stream",
     "text": [
      "marching cube: 12.57 seconds\n",
      "mesh_to_polydata: 0.01 seconds\n",
      "simplify 0 @ 11951: 0.09 seconds\n",
      "simplify 1 @ 2390: 0.09 seconds\n",
      "simplify 2 @ 478: 0.02 seconds\n",
      "time: 13.76\n"
     ]
    },
    {
     "name": "stdout",
     "output_type": "stream",
     "text": [
      "Sp5O_L\n"
     ]
    },
    {
     "name": "stderr",
     "output_type": "stream",
     "text": [
      "marching cube: 11.08 seconds\n",
      "mesh_to_polydata: 0.03 seconds\n",
      "simplify 0 @ 19823: 0.15 seconds\n",
      "simplify 1 @ 3965: 0.18 seconds\n",
      "simplify 2 @ 793: 0.04 seconds\n",
      "time: 12.29\n"
     ]
    },
    {
     "name": "stdout",
     "output_type": "stream",
     "text": [
      "Sp5O_R\n"
     ]
    },
    {
     "name": "stderr",
     "output_type": "stream",
     "text": [
      "marching cube: 13.53 seconds\n",
      "mesh_to_polydata: 0.04 seconds\n",
      "simplify 0 @ 19668: 0.26 seconds\n",
      "simplify 1 @ 3926: 0.24 seconds\n",
      "simplify 2 @ 784: 0.05 seconds\n",
      "time: 15.12\n"
     ]
    },
    {
     "name": "stdout",
     "output_type": "stream",
     "text": [
      "Sp5C_L\n"
     ]
    },
    {
     "name": "stderr",
     "output_type": "stream",
     "text": [
      "marching cube: 12.35 seconds\n",
      "mesh_to_polydata: 0.05 seconds\n",
      "simplify 0 @ 34588: 0.28 seconds\n",
      "simplify 1 @ 6920: 0.33 seconds\n",
      "simplify 2 @ 1385: 0.06 seconds\n",
      "time: 14.13\n"
     ]
    },
    {
     "name": "stdout",
     "output_type": "stream",
     "text": [
      "Sp5C_R\n"
     ]
    },
    {
     "name": "stderr",
     "output_type": "stream",
     "text": [
      "marching cube: 13.65 seconds\n",
      "mesh_to_polydata: 0.06 seconds\n",
      "simplify 0 @ 37361: 0.35 seconds\n",
      "simplify 1 @ 7476: 0.43 seconds\n",
      "simplify 2 @ 1496: 0.09 seconds\n",
      "time: 15.44\n"
     ]
    },
    {
     "name": "stdout",
     "output_type": "stream",
     "text": [
      "PBG_L\n"
     ]
    },
    {
     "name": "stderr",
     "output_type": "stream",
     "text": [
      "marching cube: 12.74 seconds\n",
      "mesh_to_polydata: 0.00 seconds\n",
      "simplify 0 @ 1879: 0.01 seconds\n",
      "simplify 1 @ 376: 0.01 seconds\n",
      "time: 13.79\n"
     ]
    },
    {
     "name": "stdout",
     "output_type": "stream",
     "text": [
      "PBG_R\n"
     ]
    },
    {
     "name": "stderr",
     "output_type": "stream",
     "text": [
      "marching cube: 13.70 seconds\n",
      "mesh_to_polydata: 0.00 seconds\n",
      "simplify 0 @ 1729: 0.01 seconds\n",
      "simplify 1 @ 347: 0.01 seconds\n",
      "time: 14.68\n"
     ]
    },
    {
     "name": "stdout",
     "output_type": "stream",
     "text": [
      "10N_L\n"
     ]
    },
    {
     "name": "stderr",
     "output_type": "stream",
     "text": [
      "marching cube: 10.05 seconds\n",
      "mesh_to_polydata: 0.01 seconds\n",
      "simplify 0 @ 2961: 0.05 seconds\n",
      "simplify 1 @ 594: 0.05 seconds\n",
      "time: 11.15\n"
     ]
    },
    {
     "name": "stdout",
     "output_type": "stream",
     "text": [
      "10N_R\n"
     ]
    },
    {
     "name": "stderr",
     "output_type": "stream",
     "text": [
      "marching cube: 12.08 seconds\n",
      "mesh_to_polydata: 0.00 seconds\n",
      "simplify 0 @ 3124: 0.02 seconds\n",
      "simplify 1 @ 626: 0.02 seconds\n",
      "time: 14.09\n"
     ]
    },
    {
     "name": "stdout",
     "output_type": "stream",
     "text": [
      "VCA_L\n"
     ]
    },
    {
     "name": "stderr",
     "output_type": "stream",
     "text": [
      "marching cube: 13.85 seconds\n",
      "mesh_to_polydata: 0.02 seconds\n",
      "simplify 0 @ 13123: 0.12 seconds\n",
      "simplify 1 @ 2626: 0.12 seconds\n",
      "simplify 2 @ 526: 0.03 seconds\n",
      "time: 15.08\n"
     ]
    },
    {
     "name": "stdout",
     "output_type": "stream",
     "text": [
      "VCA_R\n"
     ]
    },
    {
     "name": "stderr",
     "output_type": "stream",
     "text": [
      "marching cube: 14.25 seconds\n",
      "mesh_to_polydata: 0.02 seconds\n",
      "simplify 0 @ 13608: 0.13 seconds\n",
      "simplify 1 @ 2723: 0.14 seconds\n",
      "simplify 2 @ 546: 0.03 seconds\n",
      "time: 15.56\n"
     ]
    },
    {
     "name": "stdout",
     "output_type": "stream",
     "text": [
      "VCP_L\n"
     ]
    },
    {
     "name": "stderr",
     "output_type": "stream",
     "text": [
      "marching cube: 11.54 seconds\n",
      "mesh_to_polydata: 0.01 seconds\n",
      "simplify 0 @ 7123: 0.06 seconds\n",
      "simplify 1 @ 1426: 0.05 seconds\n",
      "simplify 2 @ 286: 0.01 seconds\n",
      "time: 12.76\n"
     ]
    },
    {
     "name": "stdout",
     "output_type": "stream",
     "text": [
      "VCP_R\n"
     ]
    },
    {
     "name": "stderr",
     "output_type": "stream",
     "text": [
      "marching cube: 9.34 seconds\n",
      "mesh_to_polydata: 0.01 seconds\n",
      "simplify 0 @ 7322: 0.06 seconds\n",
      "simplify 1 @ 1466: 0.06 seconds\n",
      "simplify 2 @ 294: 0.01 seconds\n",
      "time: 10.37\n"
     ]
    },
    {
     "name": "stdout",
     "output_type": "stream",
     "text": [
      "DC_L\n"
     ]
    },
    {
     "name": "stderr",
     "output_type": "stream",
     "text": [
      "marching cube: 13.85 seconds\n",
      "mesh_to_polydata: 0.03 seconds\n",
      "simplify 0 @ 11322: 0.18 seconds\n",
      "simplify 1 @ 2262: 0.17 seconds\n",
      "simplify 2 @ 453: 0.05 seconds\n",
      "time: 15.26\n"
     ]
    },
    {
     "name": "stdout",
     "output_type": "stream",
     "text": [
      "DC_R\n"
     ]
    },
    {
     "name": "stderr",
     "output_type": "stream",
     "text": [
      "marching cube: 10.10 seconds\n",
      "mesh_to_polydata: 0.02 seconds\n",
      "simplify 0 @ 11703: 0.09 seconds\n",
      "simplify 1 @ 2340: 0.10 seconds\n",
      "simplify 2 @ 469: 0.02 seconds\n",
      "time: 12.06\n"
     ]
    },
    {
     "name": "stdout",
     "output_type": "stream",
     "text": [
      "AP\n"
     ]
    },
    {
     "name": "stderr",
     "output_type": "stream",
     "text": [
      "marching cube: 9.35 seconds\n",
      "mesh_to_polydata: 0.00 seconds\n",
      "simplify 0 @ 3282: 0.02 seconds\n",
      "simplify 1 @ 658: 0.02 seconds\n",
      "time: 10.40\n"
     ]
    },
    {
     "name": "stdout",
     "output_type": "stream",
     "text": [
      "12N\n"
     ]
    },
    {
     "name": "stderr",
     "output_type": "stream",
     "text": [
      "marching cube: 11.58 seconds\n",
      "mesh_to_polydata: 0.03 seconds\n",
      "simplify 0 @ 13844: 0.20 seconds\n",
      "simplify 1 @ 2771: 0.22 seconds\n",
      "simplify 2 @ 555: 0.04 seconds\n",
      "time: 13.01\n"
     ]
    },
    {
     "name": "stdout",
     "output_type": "stream",
     "text": [
      "RtTg\n"
     ]
    },
    {
     "name": "stderr",
     "output_type": "stream",
     "text": [
      "marching cube: 12.47 seconds\n",
      "mesh_to_polydata: 0.04 seconds\n",
      "simplify 0 @ 27439: 0.27 seconds\n",
      "simplify 1 @ 5481: 0.27 seconds\n",
      "simplify 2 @ 1098: 0.06 seconds\n",
      "time: 14.74\n"
     ]
    },
    {
     "name": "stdout",
     "output_type": "stream",
     "text": [
      "SC\n"
     ]
    },
    {
     "name": "stderr",
     "output_type": "stream",
     "text": [
      "marching cube: 13.72 seconds\n",
      "mesh_to_polydata: 0.20 seconds\n",
      "simplify 0 @ 127153: 1.26 seconds\n",
      "simplify 1 @ 25433: 1.45 seconds\n",
      "simplify 2 @ 5087: 0.30 seconds\n",
      "time: 18.13\n"
     ]
    },
    {
     "name": "stdout",
     "output_type": "stream",
     "text": [
      "IC\n"
     ]
    },
    {
     "name": "stderr",
     "output_type": "stream",
     "text": [
      "marching cube: 9.28 seconds\n",
      "mesh_to_polydata: 0.11 seconds\n",
      "simplify 0 @ 83966: 0.85 seconds\n",
      "simplify 1 @ 16800: 0.96 seconds\n",
      "simplify 2 @ 3360: 0.20 seconds\n",
      "time: 12.26\n"
     ]
    }
   ],
   "source": [
    "# Render local transformed atlas structures\n",
    "\n",
    "for name_s in structures_sided:\n",
    "# for name_s in ['12N']:\n",
    "\n",
    "    print name_s\n",
    "    \n",
    "    local_transformed_volume = \\\n",
    "    DataManager.load_transformed_volume(stack_m=atlas_name, type_m='score', \n",
    "                                        stack_f=stack, type_f='score',\n",
    "                                        downscale=32, \n",
    "                                        train_sample_scheme_f=train_sample_scheme, \n",
    "                                        global_transform_scheme=global_transform_scheme,\n",
    "                                        local_transform_scheme=local_transform_scheme,\n",
    "                                        label=name_s)\n",
    "    \n",
    "    t = time.time()\n",
    "\n",
    "    polydata = volume_to_polydata(local_transformed_volume, num_simplify_iter=3, smooth=True, level=.5)\n",
    "\n",
    "    sys.stderr.write('time: %.2f\\n' % (time.time() - t))\n",
    "\n",
    "    mesh_fn = DataManager.get_transformed_volume_mesh_filepath(stack_m=atlas_name, type_m='score', \n",
    "                                                     stack_f=stack, type_f='score', \n",
    "                                                     downscale=32,\n",
    "                                                    train_sample_scheme_f=train_sample_scheme,\n",
    "                                                    global_transform_scheme=global_transform_scheme,\n",
    "                                                    local_transform_scheme=local_transform_scheme,\n",
    "                                                    label=name_s)        \n",
    "    save_mesh(polydata, mesh_fn)"
   ]
  },
  {
   "cell_type": "code",
   "execution_count": null,
   "metadata": {
    "collapsed": true
   },
   "outputs": [],
   "source": []
  },
  {
   "cell_type": "markdown",
   "metadata": {
    "collapsed": true
   },
   "source": [
    "# Load"
   ]
  },
  {
   "cell_type": "code",
   "execution_count": 43,
   "metadata": {
    "collapsed": false
   },
   "outputs": [],
   "source": [
    "# Load global transformed atlas structure meshes\n",
    "\n",
    "global_transformed_atlas_polydata_list = \\\n",
    "DataManager.load_transformed_volume_meshes(stack_m=atlas_name, type_m='score', \n",
    "                                                         stack_f=stack, type_f='score', \n",
    "                                                         downscale=32,\n",
    "                                                        train_sample_scheme_f=train_sample_scheme,\n",
    "                                                        global_transform_scheme=global_transform_scheme,\n",
    "                                                        labels=structures_sided)"
   ]
  },
  {
   "cell_type": "code",
   "execution_count": 44,
   "metadata": {
    "collapsed": false,
    "scrolled": true
   },
   "outputs": [],
   "source": [
    "# launch_vtk([actor_mesh(p, wireframe=False, color=structure_colors[convert_name_to_unsided(n)]/255., opacity=.3) \n",
    "#             for n, p in global_transformed_atlas_polydata_list.iteritems()])"
   ]
  },
  {
   "cell_type": "code",
   "execution_count": 45,
   "metadata": {
    "collapsed": true
   },
   "outputs": [],
   "source": [
    "# Load locally transformed atlas structure meshes\n",
    "\n",
    "local_transformed_atlas_polydata_list = \\\n",
    "DataManager.load_transformed_volume_meshes(stack_m=atlas_name, type_m='score', \n",
    "                                                     stack_f=stack, type_f='score', \n",
    "                                                     downscale=32,\n",
    "                                                    train_sample_scheme_f=train_sample_scheme,\n",
    "                                                    global_transform_scheme=global_transform_scheme,\n",
    "                                                    local_transform_scheme=local_transform_scheme,\n",
    "                                                    labels=structures_sided)"
   ]
  },
  {
   "cell_type": "code",
   "execution_count": 46,
   "metadata": {
    "collapsed": true
   },
   "outputs": [],
   "source": [
    "# launch_vtk([actor_mesh(p, wireframe=True, color=structure_colors[convert_name_to_unsided(n)]/255., opacity=.3) \n",
    "#             for n, p in local_transformed_atlas_polydata_list.iteritems()])"
   ]
  },
  {
   "cell_type": "code",
   "execution_count": 47,
   "metadata": {
    "collapsed": false
   },
   "outputs": [
    {
     "name": "stdout",
     "output_type": "stream",
     "text": [
      "crop: 777 1321 293 679\n"
     ]
    }
   ],
   "source": [
    "crop_xmin, crop_xmax, crop_ymin, crop_ymax = metadata_cache['cropbox'][stack]\n",
    "print 'crop:', crop_xmin, crop_xmax, crop_ymin, crop_ymax"
   ]
  },
  {
   "cell_type": "code",
   "execution_count": 48,
   "metadata": {
    "collapsed": false
   },
   "outputs": [
    {
     "name": "stdout",
     "output_type": "stream",
     "text": [
      "fixed volume box: 0 544 0 386 122 505\n"
     ]
    }
   ],
   "source": [
    "tb_vol_xmin, tb_vol_xmax, tb_vol_ymin, tb_vol_ymax, tb_vol_zmin, tb_vol_zmax = \\\n",
    "DataManager.load_volume_bbox(stack=stack, type='thumbnail', downscale=32)\n",
    "\n",
    "print 'fixed volume box:', tb_vol_xmin, tb_vol_xmax, tb_vol_ymin, tb_vol_ymax, tb_vol_zmin, tb_vol_zmax"
   ]
  },
  {
   "cell_type": "code",
   "execution_count": 49,
   "metadata": {
    "collapsed": false
   },
   "outputs": [],
   "source": [
    "shell_polydata = DataManager.load_shell_mesh(stack=stack, downscale=32, return_polydata_only=True)"
   ]
  },
  {
   "cell_type": "code",
   "execution_count": 50,
   "metadata": {
    "collapsed": false
   },
   "outputs": [],
   "source": [
    "tb_volume = load_thumbnail_volume(stack)"
   ]
  },
  {
   "cell_type": "code",
   "execution_count": 73,
   "metadata": {
    "collapsed": true
   },
   "outputs": [],
   "source": [
    "# Show only selected sections\n",
    "\n",
    "tb_volume_sectioned = np.zeros_like(tb_volume)\n",
    "interval = 1\n",
    "for z in range(tb_volume_sectioned.shape[2]/2, tb_volume_sectioned.shape[2], interval):\n",
    "# for z in [180]:\n",
    "    tb_volume_sectioned[:, :, z:z+interval] = tb_volume[:,:,z:z+interval]"
   ]
  },
  {
   "cell_type": "code",
   "execution_count": 107,
   "metadata": {
    "collapsed": false
   },
   "outputs": [],
   "source": [
    "sc_vol = DataManager.load_score_volume(stack=stack, label='7N', downscale=32, train_sample_scheme=1)\n",
    "\n",
    "# sc_vol[:250, 150:450] = 0\n",
    "# sc_vol[:, :150] = 0"
   ]
  },
  {
   "cell_type": "code",
   "execution_count": null,
   "metadata": {
    "collapsed": true
   },
   "outputs": [],
   "source": []
  },
  {
   "cell_type": "markdown",
   "metadata": {},
   "source": [
    "# Create actors and display"
   ]
  },
  {
   "cell_type": "code",
   "execution_count": 52,
   "metadata": {
    "collapsed": true
   },
   "outputs": [],
   "source": [
    "shell_actor = actor_mesh(shell_polydata, color=(1,1,1), opacity=.1, wireframe=True)"
   ]
  },
  {
   "cell_type": "code",
   "execution_count": 122,
   "metadata": {
    "collapsed": true
   },
   "outputs": [],
   "source": [
    "global_transformed_atlas_actors = {n: actor_mesh(p, \n",
    "                                              wireframe=True, \n",
    "#                                               color=structure_colors[convert_name_to_unsided(n)]/255., \n",
    "                                              color=(0,1,0), \n",
    "                                              opacity=1., \n",
    "                                              origin=(crop_xmin + tb_vol_xmin, crop_ymin + tb_vol_ymin, tb_vol_zmin)) \n",
    " for n, p in global_transformed_atlas_polydata_list.iteritems()}"
   ]
  },
  {
   "cell_type": "code",
   "execution_count": 121,
   "metadata": {
    "collapsed": false
   },
   "outputs": [],
   "source": [
    "local_transformed_atlas_actors = {n: actor_mesh(p, \n",
    "#                                              wireframe=False if convert_name_to_unsided(n) == '7N' else False, \n",
    "                                             wireframe=True, \n",
    "#                                              color=structure_colors[convert_name_to_unsided(n)]/255., \n",
    "                                             color=(1,0,0), \n",
    "#                                              opacity=1. if convert_name_to_unsided(n) == '7N' else .1,\n",
    "                                             opacity=1.,\n",
    "                                             origin=(crop_xmin + tb_vol_xmin, crop_ymin + tb_vol_ymin, tb_vol_zmin)) \n",
    "            for n, p in local_transformed_atlas_polydata_list.iteritems()}"
   ]
  },
  {
   "cell_type": "code",
   "execution_count": 76,
   "metadata": {
    "collapsed": true
   },
   "outputs": [],
   "source": [
    "tb_volume_actor = actor_volume(tb_volume_sectioned, what='tb', \n",
    "                               origin=(crop_xmin + tb_vol_xmin, crop_ymin + tb_vol_ymin, tb_vol_zmin),\n",
    "                              tb_opacity=.5)"
   ]
  },
  {
   "cell_type": "code",
   "execution_count": 104,
   "metadata": {
    "collapsed": false
   },
   "outputs": [],
   "source": [
    "score_volume_actor = actor_volume(sc_vol.astype(np.float32), what='score', \n",
    "                                  origin=(crop_xmin + tb_vol_xmin, crop_ymin + tb_vol_ymin, tb_vol_zmin))"
   ]
  },
  {
   "cell_type": "code",
   "execution_count": 108,
   "metadata": {
    "collapsed": true
   },
   "outputs": [],
   "source": [
    "launch_vtk( [score_volume_actor, \n",
    "             global_transformed_atlas_actors['7N_R'],\n",
    "             local_transformed_atlas_actors['7N_R']])"
   ]
  },
  {
   "cell_type": "code",
   "execution_count": 125,
   "metadata": {
    "collapsed": false
   },
   "outputs": [],
   "source": [
    "# Render global transformed structures + shell + thumbnail volume\n",
    "\n",
    "launch_vtk([shell_actor, tb_volume_actor] + \\\n",
    "          global_transformed_atlas_actors.values() + \\\n",
    "          local_transformed_atlas_actors.values())"
   ]
  },
  {
   "cell_type": "code",
   "execution_count": null,
   "metadata": {
    "collapsed": true
   },
   "outputs": [],
   "source": []
  },
  {
   "cell_type": "code",
   "execution_count": 210,
   "metadata": {
    "collapsed": false
   },
   "outputs": [],
   "source": [
    "# Zoom in the volume around a particular structure\n",
    "\n",
    "roi_name_s = '3N_R'\n",
    "\n",
    "vs = np.concatenate([polydata_to_mesh(local_transformed_atlas_polydata_list[roi_name_s])[0],\n",
    "polydata_to_mesh(global_transformed_atlas_polydata_list[roi_name_s])[0]])\n",
    "\n",
    "roi_xmin, roi_ymin, roi_zmin = (np.min(vs, axis=0) - 20).astype(np.int)\n",
    "roi_xmax, roi_ymax, roi_zmax = (np.max(vs, axis=0) + 20).astype(np.int)\n",
    "\n",
    "sc_vol = DataManager.load_score_volume(stack=stack, label=convert_name_to_unsided(roi_name_s), downscale=32, train_sample_scheme=1)\n",
    "\n",
    "sc_vol[:roi_ymin, :, :] = 0\n",
    "sc_vol[roi_ymax:, :, :] = 0\n",
    "sc_vol[:, :roi_xmin, :] = 0\n",
    "sc_vol[:, roi_xmax:, :] = 0\n",
    "sc_vol[:, :, :roi_zmin-20] = 0\n",
    "sc_vol[:, :, roi_zmax:] = 0\n",
    "\n",
    "\n",
    "score_volume_actor = actor_volume(sc_vol.astype(np.float32), what='score', \n",
    "                                  origin=(crop_xmin + tb_vol_xmin, crop_ymin + tb_vol_ymin, tb_vol_zmin))\n",
    "\n",
    "launch_vtk( [score_volume_actor, \n",
    "             global_transformed_atlas_actors[roi_name_s],\n",
    "             local_transformed_atlas_actors[roi_name_s],\n",
    "            shell_actor])"
   ]
  }
 ],
 "metadata": {
  "kernelspec": {
   "display_name": "Python 2",
   "language": "python",
   "name": "python2"
  },
  "language_info": {
   "codemirror_mode": {
    "name": "ipython",
    "version": 2
   },
   "file_extension": ".py",
   "mimetype": "text/x-python",
   "name": "python",
   "nbconvert_exporter": "python",
   "pygments_lexer": "ipython2",
   "version": "2.7.12"
  }
 },
 "nbformat": 4,
 "nbformat_minor": 0
}
