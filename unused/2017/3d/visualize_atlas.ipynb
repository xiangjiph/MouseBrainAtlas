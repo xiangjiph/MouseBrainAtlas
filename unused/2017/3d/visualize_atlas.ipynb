{
 "cells": [
  {
   "cell_type": "code",
   "execution_count": 1,
   "metadata": {
    "collapsed": false
   },
   "outputs": [
    {
     "name": "stdout",
     "output_type": "stream",
     "text": [
      "Setting environment for Local Macbook Pro\n"
     ]
    }
   ],
   "source": [
    "%reload_ext autoreload\n",
    "%autoreload 2\n",
    "\n",
    "import vtk\n",
    "from vtk.util import numpy_support\n",
    "\n",
    "import numpy as np\n",
    "import bloscpack as bp\n",
    "\n",
    "import sys\n",
    "import os\n",
    "sys.path.append(os.path.join(os.environ['REPO_DIR'], 'utilities'))\n",
    "from utilities2015 import *\n",
    "from annotation_utilities import *\n",
    "from registration_utilities import *\n",
    "\n",
    "from skimage.measure import mesh_surface_area, marching_cubes, correct_mesh_orientation\n",
    "\n",
    "from itertools import izip\n",
    "import pandas as pd\n",
    "\n",
    "import time\n",
    "\n",
    "import matplotlib.pyplot as plt\n",
    "%matplotlib inline\n",
    "\n",
    "from vis3d_utilities import *"
   ]
  },
  {
   "cell_type": "code",
   "execution_count": 2,
   "metadata": {
    "collapsed": true
   },
   "outputs": [],
   "source": [
    "with open('colors.txt', 'r') as f:\n",
    "    colors = {l[0]: np.r_[float(l[1]), float(l[2]), float(l[3])] for l in map(lambda x: x.split(), f.readlines())}"
   ]
  },
  {
   "cell_type": "code",
   "execution_count": 3,
   "metadata": {
    "collapsed": false
   },
   "outputs": [
    {
     "ename": "IOError",
     "evalue": "[Errno 2] No such file or directory: '/home/yuncong/CSHL_volumes2//atlasVolume_icp.bp'",
     "output_type": "error",
     "traceback": [
      "\u001b[0;31m---------------------------------------------------------------------------\u001b[0m",
      "\u001b[0;31mIOError\u001b[0m                                   Traceback (most recent call last)",
      "\u001b[0;32m<ipython-input-3-b4180c8d093d>\u001b[0m in \u001b[0;36m<module>\u001b[0;34m()\u001b[0m\n\u001b[0;32m----> 1\u001b[0;31m \u001b[0matlas_volume\u001b[0m \u001b[0;34m=\u001b[0m \u001b[0mbp\u001b[0m\u001b[0;34m.\u001b[0m\u001b[0munpack_ndarray_file\u001b[0m\u001b[0;34m(\u001b[0m\u001b[0mvolume_dir\u001b[0m \u001b[0;34m+\u001b[0m \u001b[0;34m'/atlasVolume_icp.bp'\u001b[0m\u001b[0;34m)\u001b[0m\u001b[0;34m.\u001b[0m\u001b[0mastype\u001b[0m\u001b[0;34m(\u001b[0m\u001b[0mnp\u001b[0m\u001b[0;34m.\u001b[0m\u001b[0mint8\u001b[0m\u001b[0;34m)\u001b[0m\u001b[0;34m\u001b[0m\u001b[0m\n\u001b[0m\u001b[1;32m      2\u001b[0m \u001b[0;34m\u001b[0m\u001b[0m\n\u001b[1;32m      3\u001b[0m \u001b[0mavailable_labels_sided\u001b[0m \u001b[0;34m=\u001b[0m \u001b[0;34m[\u001b[0m\u001b[0mlabels_sided\u001b[0m\u001b[0;34m[\u001b[0m\u001b[0mi\u001b[0m\u001b[0;34m-\u001b[0m\u001b[0;36m1\u001b[0m\u001b[0;34m]\u001b[0m \u001b[0;32mfor\u001b[0m \u001b[0mi\u001b[0m \u001b[0;32min\u001b[0m \u001b[0mnp\u001b[0m\u001b[0;34m.\u001b[0m\u001b[0munique\u001b[0m\u001b[0;34m(\u001b[0m\u001b[0matlas_volume\u001b[0m\u001b[0;34m)\u001b[0m \u001b[0;32mif\u001b[0m \u001b[0mi\u001b[0m \u001b[0;34m>\u001b[0m \u001b[0;36m0\u001b[0m\u001b[0;34m]\u001b[0m\u001b[0;34m\u001b[0m\u001b[0m\n\u001b[1;32m      4\u001b[0m \u001b[0mavailable_labels_unsided\u001b[0m \u001b[0;34m=\u001b[0m \u001b[0mset\u001b[0m\u001b[0;34m(\u001b[0m\u001b[0;34m[\u001b[0m\u001b[0mlabelMap_sidedToUnsided\u001b[0m\u001b[0;34m[\u001b[0m\u001b[0mname\u001b[0m\u001b[0;34m]\u001b[0m \u001b[0;32mfor\u001b[0m \u001b[0mname\u001b[0m \u001b[0;32min\u001b[0m \u001b[0mavailable_labels_sided\u001b[0m \u001b[0;34m]\u001b[0m\u001b[0;34m)\u001b[0m\u001b[0;34m\u001b[0m\u001b[0m\n",
      "\u001b[0;32m/usr/local/lib/python2.7/dist-packages/bloscpack/numpy_io.pyc\u001b[0m in \u001b[0;36munpack_ndarray_file\u001b[0;34m(filename)\u001b[0m\n\u001b[1;32m    240\u001b[0m \u001b[0;34m\u001b[0m\u001b[0m\n\u001b[1;32m    241\u001b[0m \u001b[0;32mdef\u001b[0m \u001b[0munpack_ndarray_file\u001b[0m\u001b[0;34m(\u001b[0m\u001b[0mfilename\u001b[0m\u001b[0;34m)\u001b[0m\u001b[0;34m:\u001b[0m\u001b[0;34m\u001b[0m\u001b[0m\n\u001b[0;32m--> 242\u001b[0;31m     \u001b[0msource\u001b[0m \u001b[0;34m=\u001b[0m \u001b[0mCompressedFPSource\u001b[0m\u001b[0;34m(\u001b[0m\u001b[0mopen\u001b[0m\u001b[0;34m(\u001b[0m\u001b[0mfilename\u001b[0m\u001b[0;34m,\u001b[0m \u001b[0;34m'rb'\u001b[0m\u001b[0;34m)\u001b[0m\u001b[0;34m)\u001b[0m\u001b[0;34m\u001b[0m\u001b[0m\n\u001b[0m\u001b[1;32m    243\u001b[0m     \u001b[0;32mreturn\u001b[0m \u001b[0munpack_ndarray\u001b[0m\u001b[0;34m(\u001b[0m\u001b[0msource\u001b[0m\u001b[0;34m)\u001b[0m\u001b[0;34m\u001b[0m\u001b[0m\n\u001b[1;32m    244\u001b[0m \u001b[0;34m\u001b[0m\u001b[0m\n",
      "\u001b[0;31mIOError\u001b[0m: [Errno 2] No such file or directory: '/home/yuncong/CSHL_volumes2//atlasVolume_icp.bp'"
     ]
    }
   ],
   "source": [
    "atlas_volume = bp.unpack_ndarray_file(volume_dir + '/atlasVolume_icp.bp').astype(np.int8)\n",
    "\n",
    "available_labels_sided = [labels_sided[i-1] for i in np.unique(atlas_volume) if i > 0]\n",
    "available_labels_unsided = set([labelMap_sidedToUnsided[name] for name in available_labels_sided ])"
   ]
  },
  {
   "cell_type": "code",
   "execution_count": null,
   "metadata": {
    "collapsed": true
   },
   "outputs": [],
   "source": []
  },
  {
   "cell_type": "code",
   "execution_count": null,
   "metadata": {
    "collapsed": false
   },
   "outputs": [],
   "source": [
    "atlasVolume_landmark_bboxes = {name: bbox_3d(atlas_volume == labels_sided_indices[name])\n",
    "                           for name in available_labels_sided}"
   ]
  },
  {
   "cell_type": "code",
   "execution_count": null,
   "metadata": {
    "collapsed": false,
    "scrolled": true
   },
   "outputs": [],
   "source": [
    "atlas_mesh_dir = create_if_not_exists(os.path.join(mesh_rootdir, 'atlas'))\n",
    "\n",
    "for name_s in available_labels_sided:\n",
    "\n",
    "    print name_s\n",
    "\n",
    "    xmin, xmax, ymin, ymax, zmin, zmax = atlasVolume_landmark_bboxes[name_s]\n",
    "\n",
    "    vol = (atlas_volume[ymin:ymax+1, xmin:xmax+1, zmin:zmax+1] == labels_sided_indices[name_s]).astype(np.float)\n",
    "    \n",
    "    t = time.time()\n",
    "\n",
    "    polydata = volume_to_polydata(vol, origin=(xmin,ymin,zmin), num_simplify_iter=3, smooth=True)\n",
    "\n",
    "    sys.stderr.write('time: %.2f\\n' % (time.time() - t) ) # ~ 150s for outerContour; 93s for sp5\n",
    "    \n",
    "    save_mesh_stl(polydata, atlas_mesh_dir + \"/atlasVolume_%(name)s_smoothed.stl\" % {'name': name_s})"
   ]
  },
  {
   "cell_type": "code",
   "execution_count": 18,
   "metadata": {
    "collapsed": false
   },
   "outputs": [],
   "source": [
    "# Load Atlas meshes\n",
    "\n",
    "atlas_polydata_list = {}\n",
    "\n",
    "for name_s in available_labels_sided:\n",
    "\n",
    "    fn = mesh_rootdir + \"/atlas/atlasVolume_%(name)s_smoothed.stl\" % {'name': name_s}\n",
    "\n",
    "    reader = vtk.vtkSTLReader()\n",
    "    reader.SetFileName(fn)\n",
    "    reader.Update()\n",
    "\n",
    "    polydata = reader.GetOutput()    \n",
    "    atlas_polydata_list[name_s] = polydata"
   ]
  },
  {
   "cell_type": "code",
   "execution_count": null,
   "metadata": {
    "collapsed": true
   },
   "outputs": [],
   "source": [
    "# Load subject meshes"
   ]
  },
  {
   "cell_type": "code",
   "execution_count": 90,
   "metadata": {
    "collapsed": true
   },
   "outputs": [],
   "source": [
    "subject_localAdjusted_polydata_list_allStacks = {}"
   ]
  },
  {
   "cell_type": "code",
   "execution_count": 95,
   "metadata": {
    "collapsed": false,
    "scrolled": true
   },
   "outputs": [
    {
     "name": "stderr",
     "output_type": "stream",
     "text": [
      "fill point array: 0.00 seconds\n",
      "fill cell array: 0.00 seconds\n",
      "fill point array: 0.00 seconds\n",
      "fill cell array: 0.00 seconds\n",
      "fill point array: 0.00 seconds\n",
      "fill cell array: 0.00 seconds\n",
      "fill point array: 0.00 seconds\n",
      "fill cell array: 0.00 seconds\n",
      "fill point array: 0.00 seconds\n",
      "fill cell array: 0.00 seconds\n",
      "fill point array: 0.00 seconds\n",
      "fill cell array: 0.00 seconds\n",
      "fill point array: 0.00 seconds\n",
      "fill cell array: 0.00 seconds\n",
      "fill point array: 0.00 seconds\n",
      "fill cell array: 0.00 seconds\n",
      "fill point array: 0.00 seconds\n",
      "fill cell array: 0.00 seconds\n",
      "fill point array: 0.00 seconds\n",
      "fill cell array: 0.00 seconds\n",
      "fill point array: 0.00 seconds\n",
      "fill cell array: 0.00 seconds\n",
      "fill point array: 0.00 seconds\n",
      "fill cell array: 0.00 seconds\n",
      "fill point array: 0.01 seconds\n",
      "fill cell array: 0.00 seconds\n",
      "fill point array: 0.00 seconds\n",
      "fill cell array: 0.00 seconds\n",
      "fill point array: 0.00 seconds\n",
      "fill cell array: 0.00 seconds\n",
      "fill point array: 0.00 seconds\n",
      "fill cell array: 0.00 seconds\n",
      "fill point array: 0.00 seconds\n",
      "fill cell array: 0.00 seconds\n",
      "fill point array: 0.00 seconds\n",
      "fill cell array: 0.00 seconds\n",
      "fill point array: 0.00 seconds\n",
      "fill cell array: 0.00 seconds\n",
      "fill point array: 0.00 seconds\n",
      "fill cell array: 0.00 seconds\n",
      "fill point array: 0.00 seconds\n",
      "fill cell array: 0.00 seconds\n",
      "fill point array: 0.00 seconds\n",
      "fill cell array: 0.00 seconds\n",
      "fill point array: 0.00 seconds\n",
      "fill cell array: 0.00 seconds\n",
      "fill point array: 0.00 seconds\n",
      "fill cell array: 0.00 seconds\n",
      "fill point array: 0.00 seconds\n",
      "fill cell array: 0.00 seconds\n"
     ]
    }
   ],
   "source": [
    "# stack = 'MD593'\n",
    "\n",
    "# for stack in ['MD589', 'MD594', 'MD585', 'MD593', 'MD592', 'MD590', 'MD591', 'MD595', 'MD598', 'MD602', 'MD603']:\n",
    "# for stack in ['MD589', 'MD594', 'MD585']:\n",
    "\n",
    "for stack in ['MD594']:\n",
    "\n",
    "    atlasAlignParams_dir = '/home/yuncong/CSHL_atlasAlignParams_atlas/'\n",
    "    with open(atlasAlignParams_dir + '/%(stack)s/%(stack)s_3dAlignParams.txt' % {'stack': stack}, 'r') as f:\n",
    "        lines = f.readlines()\n",
    "        global_params = np.array(map(float, lines[0].strip().split()))\n",
    "    #     atlas_xdim, atlas_ydim, atlas_zdim  = np.array(map(float, lines[1].strip().split()))\n",
    "        atlas_centroid = np.array(map(float, lines[2].strip().split()))\n",
    "        test_xdim, test_ydim, test_zdim = np.array(map(int, lines[3].strip().split()))\n",
    "        test_centroid = np.array(map(float, lines[4].strip().split()))\n",
    "\n",
    "\n",
    "    parameters_allLandmarks = {}\n",
    "    atlas_centroid_allLandmarks = {}\n",
    "    test_centroid_allLandmarks = {}\n",
    "\n",
    "    for name in available_labels_sided:\n",
    "\n",
    "        with open(atlasAlignParams_dir + '/%(stack)s/%(stack)s_%(name)s_transformUponAffineProjection.txt' % \\\n",
    "                            {'stack': stack, 'name': name}, 'r') as f:\n",
    "            lines = f.readlines()\n",
    "            params = np.array(map(float\n",
    "                                  , lines[0].strip().split()))\n",
    "            test_xdim, test_ydim, test_zdim = np.array(map(int, lines[1].strip().split()))\n",
    "            atlas_c = np.array(map(float, lines[2].strip().split()))\n",
    "            test_c = np.array(map(float, lines[3].strip().split()))\n",
    "\n",
    "        parameters_allLandmarks[name] = params\n",
    "        atlas_centroid_allLandmarks[name] = atlas_c\n",
    "        test_centroid_allLandmarks[name] = test_c\n",
    "\n",
    "\n",
    "    subject_localAdjusted_polydata_list = {}\n",
    "\n",
    "    for name_s in available_labels_sided:\n",
    "\n",
    "        fn = mesh_rootdir + \"/%(stack)s/%(stack)s_localAdjustedVolume_%(label)s_smoothed.stl\" % {'stack':stack, 'label':name_s}\n",
    "\n",
    "        if os.path.exists(fn):\n",
    "            vertices, faces = load_mesh_stl(fn)\n",
    "\n",
    "    #         vertices = transform_points_inverse(global_params, pts_prime=vertices, \n",
    "    #                                             c_prime=test_centroid_allLandmarks[name], \n",
    "    #                                             c=atlas_centroid_allLandmarks[name])\n",
    "\n",
    "            vertices = transform_points_inverse(global_params, pts_prime=vertices, \n",
    "                                        c_prime=test_centroid, c=atlas_centroid)\n",
    "\n",
    "            polydata = mesh_to_polydata(vertices, faces)\n",
    "\n",
    "            subject_localAdjusted_polydata_list[name_s] = polydata\n",
    "            \n",
    "    subject_localAdjusted_polydata_list_allStacks[stack] = subject_localAdjusted_polydata_list"
   ]
  },
  {
   "cell_type": "code",
   "execution_count": null,
   "metadata": {
    "collapsed": false,
    "scrolled": true
   },
   "outputs": [],
   "source": [
    "# subject_atlasProjected_polydata_list = {}\n",
    "\n",
    "# for name_s in available_labels_sided:\n",
    "\n",
    "#     fn = mesh_rootdir + \"/%(stack)s/%(stack)s_atlasProjectedVolume_%(label)s_smoothed.stl\" % {'stack':stack, 'label':name_s}\n",
    "\n",
    "#     if os.path.exists(fn):\n",
    "#         vertices, faces = load_mesh_stl(fn)\n",
    "#         vertices = transform_points_inverse(global_params, pts_prime=vertices, \n",
    "#                                             c_prime=test_centroid, c=atlas_centroid)\n",
    "#         polydata = mesh_to_polydata(vertices, faces)\n",
    "        \n",
    "#         subject_atlasProjected_polydata_list[name_s] = polydata"
   ]
  },
  {
   "cell_type": "code",
   "execution_count": null,
   "metadata": {
    "collapsed": true
   },
   "outputs": [],
   "source": []
  },
  {
   "cell_type": "code",
   "execution_count": 6,
   "metadata": {
    "collapsed": true
   },
   "outputs": [],
   "source": [
    "stack = 'MD594'"
   ]
  },
  {
   "cell_type": "code",
   "execution_count": 7,
   "metadata": {
    "collapsed": false
   },
   "outputs": [
    {
     "ename": "NameError",
     "evalue": "name 'mesh_rootdir' is not defined",
     "output_type": "error",
     "traceback": [
      "\u001b[0;31m---------------------------------------------------------------------------\u001b[0m",
      "\u001b[0;31mNameError\u001b[0m                                 Traceback (most recent call last)",
      "\u001b[0;32m<ipython-input-7-780cbb673996>\u001b[0m in \u001b[0;36m<module>\u001b[0;34m()\u001b[0m\n\u001b[1;32m      2\u001b[0m \u001b[0;34m\u001b[0m\u001b[0m\n\u001b[1;32m      3\u001b[0m \u001b[0;31m# load in annotation space\u001b[0m\u001b[0;34m\u001b[0m\u001b[0;34m\u001b[0m\u001b[0m\n\u001b[0;32m----> 4\u001b[0;31m \u001b[0mvertices\u001b[0m\u001b[0;34m,\u001b[0m \u001b[0mfaces\u001b[0m \u001b[0;34m=\u001b[0m \u001b[0mload_mesh_stl\u001b[0m\u001b[0;34m(\u001b[0m\u001b[0mmesh_rootdir\u001b[0m \u001b[0;34m+\u001b[0m \u001b[0;34m\"/%(stack)s/%(stack)s_%(name)s_gaussianSmoothed.stl\"\u001b[0m \u001b[0;34m%\u001b[0m                                 \u001b[0;34m{\u001b[0m\u001b[0;34m'stack'\u001b[0m\u001b[0;34m:\u001b[0m \u001b[0mstack\u001b[0m\u001b[0;34m,\u001b[0m \u001b[0;34m'name'\u001b[0m\u001b[0;34m:\u001b[0m \u001b[0;34m'outerContour'\u001b[0m\u001b[0;34m}\u001b[0m\u001b[0;34m)\u001b[0m\u001b[0;34m\u001b[0m\u001b[0m\n\u001b[0m\u001b[1;32m      5\u001b[0m \u001b[0;34m\u001b[0m\u001b[0m\n\u001b[1;32m      6\u001b[0m \u001b[0mann_xmin\u001b[0m\u001b[0;34m,\u001b[0m \u001b[0mann_xmax\u001b[0m\u001b[0;34m,\u001b[0m \u001b[0mann_ymin\u001b[0m\u001b[0;34m,\u001b[0m \u001b[0mann_ymax\u001b[0m\u001b[0;34m,\u001b[0m \u001b[0mann_zmin\u001b[0m\u001b[0;34m,\u001b[0m \u001b[0mann_zmax\u001b[0m \u001b[0;34m=\u001b[0m \u001b[0mnp\u001b[0m\u001b[0;34m.\u001b[0m\u001b[0mloadtxt\u001b[0m\u001b[0;34m(\u001b[0m\u001b[0mvolume_dir\u001b[0m \u001b[0;34m+\u001b[0m \u001b[0;34m'%(stack)s/volume_%(stack)s_annotation_withOuterContour_limits.txt'\u001b[0m \u001b[0;34m%\u001b[0m \u001b[0;34m{\u001b[0m\u001b[0;34m'stack'\u001b[0m\u001b[0;34m:\u001b[0m \u001b[0mstack\u001b[0m\u001b[0;34m}\u001b[0m\u001b[0;34m,\u001b[0m \u001b[0mdtype\u001b[0m\u001b[0;34m=\u001b[0m\u001b[0mnp\u001b[0m\u001b[0;34m.\u001b[0m\u001b[0mint\u001b[0m\u001b[0;34m)\u001b[0m\u001b[0;34m\u001b[0m\u001b[0m\n",
      "\u001b[0;31mNameError\u001b[0m: name 'mesh_rootdir' is not defined"
     ]
    }
   ],
   "source": [
    "from registration_utilities import *\n",
    "\n",
    "# load in annotation space\n",
    "vertices, faces = load_mesh_stl(mesh_rootdir + \"/%(stack)s/%(stack)s_%(name)s_gaussianSmoothed.stl\" % \\\n",
    "                                {'stack': stack, 'name': 'outerContour'})\n",
    "\n",
    "ann_xmin, ann_xmax, ann_ymin, ann_ymax, ann_zmin, ann_zmax = \\\n",
    "np.loadtxt(volume_dir + '%(stack)s/volume_%(stack)s_annotation_withOuterContour_limits.txt' % {'stack': stack}, dtype=np.int)\n",
    "\n",
    "sco_xmin, sco_xmax, sco_ymin, sco_ymax, sco_zmin, sco_zmax = \\\n",
    "np.loadtxt(volume_dir + '%(stack)s/%(stack)s_scoreVolume_limits.txt' % {'stack': stack}, dtype=np.int)\n",
    "\n",
    "# convert to score volume space\n",
    "vertices_alignedToScoreVolume = vertices + (ann_xmin,ann_ymin,ann_zmin) - (sco_xmin,sco_ymin,sco_zmin)\n",
    "\n",
    "polydata_outerContour = mesh_to_polydata(vertices_alignedToScoreVolume, faces)\n",
    "\n",
    "contour_mapper = vtk.vtkPolyDataMapper()\n",
    "contour_mapper.SetInputData(polydata_outerContour)\n",
    "\n",
    "contour_actor = vtk.vtkActor()\n",
    "contour_actor.SetMapper(contour_mapper)\n",
    "# contour_actor.GetProperty().SetRepresentationToWireframe()\n",
    "contour_actor.GetProperty().SetColor(1,1,1)\n",
    "contour_actor.GetProperty().SetOpacity(.2)"
   ]
  },
  {
   "cell_type": "code",
   "execution_count": null,
   "metadata": {
    "collapsed": true
   },
   "outputs": [],
   "source": []
  },
  {
   "cell_type": "code",
   "execution_count": 4,
   "metadata": {
    "collapsed": true
   },
   "outputs": [],
   "source": [
    "import randomcolor\n",
    "\n",
    "def random_colors(count):\n",
    "    rand_color = randomcolor.RandomColor()\n",
    "    random_colors = [map(int, rgb_str[4:-1].replace(',', ' ').split()) \n",
    "                     for rgb_str in rand_color.generate(luminosity=\"bright\", count=count, format_='rgb')]\n",
    "    return random_colors"
   ]
  },
  {
   "cell_type": "code",
   "execution_count": 5,
   "metadata": {
    "collapsed": false
   },
   "outputs": [
    {
     "ename": "NameError",
     "evalue": "name 'subject_localAdjusted_polydata_list_allStacks' is not defined",
     "output_type": "error",
     "traceback": [
      "\u001b[0;31m---------------------------------------------------------------------------\u001b[0m",
      "\u001b[0;31mNameError\u001b[0m                                 Traceback (most recent call last)",
      "\u001b[0;32m<ipython-input-5-dfa266c99e2d>\u001b[0m in \u001b[0;36m<module>\u001b[0;34m()\u001b[0m\n\u001b[0;32m----> 1\u001b[0;31m \u001b[0mrand_colors\u001b[0m \u001b[0;34m=\u001b[0m \u001b[0mnp\u001b[0m\u001b[0;34m.\u001b[0m\u001b[0marray\u001b[0m\u001b[0;34m(\u001b[0m\u001b[0mrandom_colors\u001b[0m\u001b[0;34m(\u001b[0m\u001b[0mlen\u001b[0m\u001b[0;34m(\u001b[0m\u001b[0msubject_localAdjusted_polydata_list_allStacks\u001b[0m\u001b[0;34m)\u001b[0m\u001b[0;34m)\u001b[0m\u001b[0;34m)\u001b[0m\u001b[0;34m\u001b[0m\u001b[0m\n\u001b[0m",
      "\u001b[0;31mNameError\u001b[0m: name 'subject_localAdjusted_polydata_list_allStacks' is not defined"
     ]
    }
   ],
   "source": [
    "rand_colors = np.array(random_colors(len(subject_localAdjusted_polydata_list_allStacks)))"
   ]
  },
  {
   "cell_type": "code",
   "execution_count": null,
   "metadata": {
    "collapsed": true
   },
   "outputs": [],
   "source": []
  },
  {
   "cell_type": "code",
   "execution_count": 118,
   "metadata": {
    "collapsed": false
   },
   "outputs": [],
   "source": [
    "all_actors = []\n",
    "\n",
    "atlas_mesh_actors = [actor_mesh(polydata, color=colors[labelMap_sidedToUnsided[name_s]], opacity=1., wireframe=False, ) \n",
    "               for name_s, polydata in atlas_polydata_list.iteritems()]\n",
    "\n",
    "all_actors = [contour_actor] + atlas_mesh_actors\n",
    "\n",
    "# launch_vtk(all_actors, init_angle='45', interactive=False, snapshot_fn='/home/yuncong/atlas_colored.png')\n",
    "launch_vtk(all_actors, init_angle='45', interactive=True)\n",
    "# launch_vtk(all_actors, init_angle='coronal', interactive=True)"
   ]
  },
  {
   "cell_type": "code",
   "execution_count": 123,
   "metadata": {
    "collapsed": false
   },
   "outputs": [],
   "source": [
    "all_actors = []\n",
    "\n",
    "# atlas_mesh_actors = [actor_mesh(polydata, (1,1,1), opacity=.5, wireframe=True) \n",
    "#                for name_s, polydata in atlas_polydata_list.iteritems() if labelMap_sidedToUnsided[name_s] == '7N']\n",
    "\n",
    "# all_actors += atlas_mesh_actors\n",
    "\n",
    "for stack_ind, (stack, polydata_list) in enumerate(subject_localAdjusted_polydata_list_allStacks.items()[:3]):\n",
    "\n",
    "#     subject_mesh_actors = [actor_mesh(polydata, colors[labelMap_sidedToUnsided[name_s]], opacity=1., wireframe=True) \n",
    "#                    for name_s, polydata in polydata_list.iteritems()]\n",
    "\n",
    "#     c = np.random.randint(0, 255, (3, )) / 255.\n",
    "\n",
    "    c = rand_colors[stack_ind] / 255.\n",
    "    \n",
    "#     subject_mesh_actors = [actor_mesh(polydata, c, opacity=1., wireframe=True) \n",
    "#                    for name_s, polydata in polydata_list.iteritems() if labelMap_sidedToUnsided[name_s] == '7N']\n",
    "\n",
    "    subject_mesh_actors = [actor_mesh(polydata, c, opacity=1., wireframe=False) \n",
    "                   for name_s, polydata in polydata_list.iteritems()]\n",
    "\n",
    "    all_actors += subject_mesh_actors\n",
    "    \n",
    "all_actors += [contour_actor]\n",
    "    \n",
    "launch_vtk(all_actors, init_angle='45', interactive=False, snapshot_fn='/home/yuncong/brains_3.png')"
   ]
  },
  {
   "cell_type": "code",
   "execution_count": 105,
   "metadata": {
    "collapsed": false
   },
   "outputs": [],
   "source": [
    "all_actors = []\n",
    "\n",
    "atlas_mesh_actors = [actor_mesh(polydata, colors[labelMap_sidedToUnsided[name_s]], opacity=.5) \n",
    "               for name_s, polydata in atlas_polydata_list.iteritems()]\n",
    "\n",
    "# all_actors += atlas_mesh_actors\n",
    "\n",
    "for stack_ind, (stack, polydata_list) in enumerate(subject_localAdjusted_polydata_list_allStacks.iteritems()):\n",
    "\n",
    "#     subject_mesh_actors = [actor_mesh(polydata, colors[labelMap_sidedToUnsided[name_s]], opacity=1., wireframe=True) \n",
    "#                    for name_s, polydata in polydata_list.iteritems()]\n",
    "\n",
    "#     c = np.random.randint(0, 255, (3, )) / 255.\n",
    "    c = np.array(random_colors(1)[0]) / 255.\n",
    "    subject_mesh_actors = [actor_mesh(polydata, c, opacity=1., wireframe=True) \n",
    "                   for name_s, polydata in polydata_list.iteritems()]\n",
    "\n",
    "    all_actors += subject_mesh_actors\n",
    "    \n",
    "all_actors += [contour_actor]\n",
    "    \n",
    "launch_vtk(all_actors, init_angle='45')"
   ]
  },
  {
   "cell_type": "code",
   "execution_count": null,
   "metadata": {
    "collapsed": true
   },
   "outputs": [],
   "source": []
  }
 ],
 "metadata": {
  "kernelspec": {
   "display_name": "Python 2",
   "language": "python",
   "name": "python2"
  },
  "language_info": {
   "codemirror_mode": {
    "name": "ipython",
    "version": 2
   },
   "file_extension": ".py",
   "mimetype": "text/x-python",
   "name": "python",
   "nbconvert_exporter": "python",
   "pygments_lexer": "ipython2",
   "version": "2.7.12"
  }
 },
 "nbformat": 4,
 "nbformat_minor": 0
}
