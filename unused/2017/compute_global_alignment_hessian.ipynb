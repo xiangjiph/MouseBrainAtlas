{
 "cells": [
  {
   "cell_type": "code",
   "execution_count": 1,
   "metadata": {},
   "outputs": [],
   "source": [
    "%load_ext autoreload\n",
    "%autoreload 2\n",
    "\n",
    "import numpy as np\n",
    "\n",
    "import sys\n",
    "import os\n",
    "\n",
    "sys.path.append(os.environ['REPO_DIR'] + '/utilities')\n",
    "from utilities2015 import *\n",
    "from registration_utilities import *\n",
    "\n",
    "import matplotlib.pyplot as plt\n",
    "%matplotlib inline\n",
    "\n",
    "from joblib import Parallel, delayed\n",
    "import time\n",
    "\n",
    "import logging\n",
    "\n",
    "from collections import defaultdict"
   ]
  },
  {
   "cell_type": "code",
   "execution_count": 2,
   "metadata": {},
   "outputs": [
    {
     "ename": "NameError",
     "evalue": "name 'xy_pixel_distance_lossless' is not defined",
     "output_type": "error",
     "traceback": [
      "\u001b[0;31m---------------------------------------------------------------------------\u001b[0m",
      "\u001b[0;31mNameError\u001b[0m                                 Traceback (most recent call last)",
      "\u001b[0;32m<ipython-input-2-fbdbe277f5fd>\u001b[0m in \u001b[0;36m<module>\u001b[0;34m()\u001b[0m\n\u001b[1;32m      1\u001b[0m \u001b[0mdownsample_factor\u001b[0m \u001b[0;34m=\u001b[0m \u001b[0;36m16\u001b[0m\u001b[0;34m\u001b[0m\u001b[0m\n\u001b[1;32m      2\u001b[0m \u001b[0;34m\u001b[0m\u001b[0m\n\u001b[0;32m----> 3\u001b[0;31m \u001b[0mxy_pixel_distance_downsampled\u001b[0m \u001b[0;34m=\u001b[0m \u001b[0mxy_pixel_distance_lossless\u001b[0m \u001b[0;34m*\u001b[0m \u001b[0mdownsample_factor\u001b[0m\u001b[0;34m\u001b[0m\u001b[0m\n\u001b[0m\u001b[1;32m      4\u001b[0m \u001b[0mz_xy_ratio_downsampled\u001b[0m \u001b[0;34m=\u001b[0m \u001b[0msection_thickness\u001b[0m \u001b[0;34m/\u001b[0m \u001b[0mxy_pixel_distance_downsampled\u001b[0m\u001b[0;34m\u001b[0m\u001b[0m\n",
      "\u001b[0;31mNameError\u001b[0m: name 'xy_pixel_distance_lossless' is not defined"
     ]
    }
   ],
   "source": [
    "downsample_factor = 16\n",
    "\n",
    "xy_pixel_distance_downsampled = xy_pixel_distance_lossless * downsample_factor\n",
    "z_xy_ratio_downsampled = section_thickness / xy_pixel_distance_downsampled"
   ]
  },
  {
   "cell_type": "code",
   "execution_count": 4,
   "metadata": {
    "collapsed": true
   },
   "outputs": [],
   "source": [
    "def compute_score(T):\n",
    "        \n",
    "    score = 0\n",
    "    for name in available_labels_unsided:\n",
    "        \n",
    "        pts_prime = transform_points(T, pts_centered=pts_centered[name], c_prime=test_centroid)\n",
    "    \n",
    "        xs_prime, ys_prime, zs_prime = pts_prime.T.astype(np.int16)\n",
    "        \n",
    "        valid = (xs_prime >= 0) & (ys_prime >= 0) & (zs_prime >= 0) & \\\n",
    "            (xs_prime < test_xdim) & (ys_prime < test_ydim) & (zs_prime < test_zdim)\n",
    "            \n",
    "        voxel_probs_valid = volume2_allLabels[name][ys_prime[valid], xs_prime[valid], zs_prime[valid]] / 1e4\n",
    "\n",
    "        score += label_weights[name] * voxel_probs_valid.sum()\n",
    "                \n",
    "        del voxel_probs_valid, valid, xs_prime, ys_prime, zs_prime, pts_prime\n",
    "                \n",
    "    return score"
   ]
  },
  {
   "cell_type": "code",
   "execution_count": 5,
   "metadata": {},
   "outputs": [],
   "source": [
    "parameters_allStacks = {}\n",
    "atlas_centroid_allStacks = {}\n",
    "test_centroid_allStacks = {}\n",
    "test_dims_allStacks = {}\n",
    "\n",
    "for i, stack in enumerate(['MD589', 'MD594', 'MD585', 'MD590', 'MD593', 'MD592', 'MD591', 'MD595', 'MD598', 'MD602', 'MD603']):\n",
    "\n",
    "    with open(atlasAlignParams_rootdir + '/%(stack)s/%(stack)s_3dAlignParams.txt' % {'stack': stack}, 'r') as f:\n",
    "        lines = f.readlines()\n",
    "        \n",
    "    parameters_allStacks[stack] = np.array(map(float, lines[0].strip().split()))\n",
    "    atlas_centroid_allStacks[stack] = np.array(map(float, lines[2].strip().split()))\n",
    "    test_dims_allStacks[stack] = np.array(map(int, lines[3].strip().split()))\n",
    "    test_centroid_allStacks[stack] = np.array(map(float, lines[4].strip().split()))"
   ]
  },
  {
   "cell_type": "code",
   "execution_count": 6,
   "metadata": {
    "collapsed": true
   },
   "outputs": [],
   "source": [
    "hessian_allStacks = {}\n",
    "std_allStacks = {}"
   ]
  },
  {
   "cell_type": "code",
   "execution_count": 7,
   "metadata": {
    "collapsed": true
   },
   "outputs": [],
   "source": [
    "import numdifftools as nd\n",
    "# https://media.readthedocs.org/pdf/numdifftools/latest/numdifftools.pdf"
   ]
  },
  {
   "cell_type": "code",
   "execution_count": 8,
   "metadata": {},
   "outputs": [
    {
     "name": "stdout",
     "output_type": "stream",
     "text": [
      "[ 303.   200.5  265.5]\n"
     ]
    }
   ],
   "source": [
    "# atlas_volume = bp.unpack_ndarray_file(os.path.join(volume_dir, 'MD589/volume_MD589_annotation_withOuterContour.bp'))\n",
    "atlas_volume = bp.unpack_ndarray_file(volume_dir + '/atlasVolume_icp.bp')\n",
    "\n",
    "atlas_ydim, atlas_xdim, atlas_zdim = atlas_volume.shape\n",
    "atlas_centroid = atlas_centroid_allStacks[stack]\n",
    "print atlas_centroid"
   ]
  },
  {
   "cell_type": "code",
   "execution_count": 9,
   "metadata": {
    "collapsed": true
   },
   "outputs": [],
   "source": [
    "available_labels_sided = [labels_sided[i-1] for i in np.unique(atlas_volume) if i > 0]\n",
    "available_labels_unsided = set([labelMap_sidedToUnsided[name] for name in available_labels_sided ])"
   ]
  },
  {
   "cell_type": "code",
   "execution_count": 10,
   "metadata": {},
   "outputs": [
    {
     "name": "stderr",
     "output_type": "stream",
     "text": [
      "load atlas: 3.388373 seconds\n"
     ]
    }
   ],
   "source": [
    "def parallel_where(name, num_samples=None):\n",
    "    \n",
    "    w = np.where(atlas_volume == labels_sided_indices[name])\n",
    "    \n",
    "    if num_samples is not None:\n",
    "        n = len(w[0])\n",
    "        sample_indices = np.random.choice(range(n), min(num_samples, n), replace=False)\n",
    "        return np.c_[w[1][sample_indices].astype(np.int16), \n",
    "                     w[0][sample_indices].astype(np.int16), \n",
    "                     w[2][sample_indices].astype(np.int16)]\n",
    "    else:\n",
    "        return np.c_[w[1].astype(np.int16), w[0].astype(np.int16), w[2].astype(np.int16)]\n",
    "\n",
    "t = time.time()\n",
    "\n",
    "atlas_nzs = Parallel(n_jobs=8)(delayed(parallel_where)(name_s, num_samples=int(1e5)) for name_s in available_labels_sided)\n",
    "atlas_nzs = dict(zip(available_labels_sided, atlas_nzs))\n",
    "\n",
    "sys.stderr.write('load atlas: %f seconds\\n' % (time.time() - t)) #~ 7s"
   ]
  },
  {
   "cell_type": "code",
   "execution_count": 11,
   "metadata": {
    "collapsed": true
   },
   "outputs": [],
   "source": [
    "pts_centered = {name: (np.concatenate([atlas_nzs[n] for n in labelMap_unsidedToSided[name]]) - atlas_centroid).astype(np.int16) \n",
    "                         for name in available_labels_unsided}"
   ]
  },
  {
   "cell_type": "code",
   "execution_count": 12,
   "metadata": {
    "collapsed": true
   },
   "outputs": [],
   "source": [
    "label_weights = {name: .1 if name == 'outerContour' else 1. for name in available_labels_unsided}"
   ]
  },
  {
   "cell_type": "code",
   "execution_count": 13,
   "metadata": {
    "collapsed": true
   },
   "outputs": [],
   "source": [
    "scores_allStack = {}"
   ]
  },
  {
   "cell_type": "code",
   "execution_count": 14,
   "metadata": {
    "collapsed": true
   },
   "outputs": [],
   "source": [
    "def compute_scores_neighborhood_grid(params, dxs, dys, dzs):\n",
    "    \n",
    "    from itertools import product\n",
    "\n",
    "    scores = np.reshape(Parallel(n_jobs=12)(delayed(compute_score)(params + (0.,0.,0., dx, 0.,0.,0., dy, 0.,0.,0., dz)) \n",
    "                                            for dx, dy, dz in product(dxs, dys, dzs)), \n",
    "                        (dxs.size, dys.size, dzs.size))\n",
    "    \n",
    "    return scores\n",
    "\n",
    "def compute_scores_neighborhood_random(params, n, stds):\n",
    "    \n",
    "    dparams = np.random.uniform(-1., 1., (n, stds.size)) * stds\n",
    "        \n",
    "    scores = Parallel(n_jobs=12)(delayed(compute_score)(params + dp) for dp in dparams)\n",
    "    \n",
    "    return scores"
   ]
  },
  {
   "cell_type": "code",
   "execution_count": 15,
   "metadata": {
    "collapsed": true
   },
   "outputs": [],
   "source": [
    "hessian_allStacks = pickle.load(open('/home/yuncong/csd395/CSHL_atlasAlignParams_atlas/hessian_globalAlign_allStacks.pkl', 'r'))\n",
    "std_allStacks = pickle.load(open('/home/yuncong/csd395/CSHL_atlasAlignParams_atlas/std_globalAlign_allStacks.pkl', 'r'))"
   ]
  },
  {
   "cell_type": "code",
   "execution_count": 27,
   "metadata": {},
   "outputs": [
    {
     "name": "stdout",
     "output_type": "stream",
     "text": [
      "MD589\n",
      "838"
     ]
    },
    {
     "name": "stderr",
     "output_type": "stream",
     "text": [
      "load score volumes: 25.922263 seconds\n",
      "Compute hessian: 78.277727 seconds\n"
     ]
    },
    {
     "name": "stdout",
     "output_type": "stream",
     "text": [
      " 460 454\n",
      "[ 419.  230.  227.]\n"
     ]
    },
    {
     "data": {
      "image/png": "[encoded data removed]",
      "text/plain": [
       "<matplotlib.figure.Figure at 0x52b6e90>"
      ]
     },
     "metadata": {},
     "output_type": "display_data"
    },
    {
     "name": "stdout",
     "output_type": "stream",
     "text": [
      "MD594\n",
      "844"
     ]
    },
    {
     "name": "stderr",
     "output_type": "stream",
     "text": [
      "Compute std: 25.848567 seconds\n",
      "load score volumes: 29.286838 seconds\n"
     ]
    },
    {
     "name": "stdout",
     "output_type": "stream",
     "text": [
      " 484 443\n",
      "[ 422.   242.   221.5]\n"
     ]
    },
    {
     "name": "stderr",
     "output_type": "stream",
     "text": [
      "Compute hessian: 81.394113 seconds\n"
     ]
    },
    {
     "data": {
      "image/png": "[encoded data removed]",
      "text/plain": [
       "<matplotlib.figure.Figure at 0x52b6e90>"
      ]
     },
     "metadata": {},
     "output_type": "display_data"
    },
    {
     "name": "stdout",
     "output_type": "stream",
     "text": [
      "MD585\n",
      "822"
     ]
    },
    {
     "name": "stderr",
     "output_type": "stream",
     "text": [
      "Compute std: 26.729176 seconds\n",
      "load score volumes: 26.255502 seconds\n"
     ]
    },
    {
     "name": "stdout",
     "output_type": "stream",
     "text": [
      " 450 438\n",
      "[ 411.  225.  219.]\n"
     ]
    },
    {
     "name": "stderr",
     "output_type": "stream",
     "text": [
      "Compute hessian: 77.783783 seconds\n"
     ]
    },
    {
     "data": {
      "image/png": "[encoded data removed]",
      "text/plain": [
       "<matplotlib.figure.Figure at 0x21d6f50>"
      ]
     },
     "metadata": {},
     "output_type": "display_data"
    },
    {
     "name": "stdout",
     "output_type": "stream",
     "text": [
      "MD590\n",
      "822"
     ]
    },
    {
     "name": "stderr",
     "output_type": "stream",
     "text": [
      "Compute std: 26.479664 seconds\n",
      "load score volumes: 24.976174 seconds\n"
     ]
    },
    {
     "name": "stdout",
     "output_type": "stream",
     "text": [
      " 472 397\n",
      "[ 411.   236.   198.5]\n"
     ]
    },
    {
     "name": "stderr",
     "output_type": "stream",
     "text": [
      "Compute hessian: 78.826561 seconds\n"
     ]
    },
    {
     "data": {
      "image/png": "[encoded data removed]",
      "text/plain": [
       "<matplotlib.figure.Figure at 0x5260a10>"
      ]
     },
     "metadata": {},
     "output_type": "display_data"
    },
    {
     "name": "stdout",
     "output_type": "stream",
     "text": [
      "MD593\n",
      "736"
     ]
    },
    {
     "name": "stderr",
     "output_type": "stream",
     "text": [
      "Compute std: 26.662098 seconds\n",
      "load score volumes: 24.759193 seconds\n"
     ]
    },
    {
     "name": "stdout",
     "output_type": "stream",
     "text": [
      " 480 456\n",
      "[ 368.  240.  228.]\n"
     ]
    },
    {
     "name": "stderr",
     "output_type": "stream",
     "text": [
      "Compute hessian: 78.049482 seconds\n"
     ]
    },
    {
     "data": {
      "image/png": "[encoded data removed]",
      "text/plain": [
       "<matplotlib.figure.Figure at 0x21d6f50>"
      ]
     },
     "metadata": {},
     "output_type": "display_data"
    },
    {
     "name": "stdout",
     "output_type": "stream",
     "text": [
      "MD592\n",
      "838"
     ]
    },
    {
     "name": "stderr",
     "output_type": "stream",
     "text": [
      "Compute std: 27.855437 seconds\n",
      "load score volumes: 30.787323 seconds\n"
     ]
    },
    {
     "name": "stdout",
     "output_type": "stream",
     "text": [
      " 482 470\n",
      "[ 419.  241.  235.]\n"
     ]
    },
    {
     "name": "stderr",
     "output_type": "stream",
     "text": [
      "Compute hessian: 80.425659 seconds\n"
     ]
    },
    {
     "data": {
      "image/png": "[encoded data removed]",
      "text/plain": [
       "<matplotlib.figure.Figure at 0x21bf710>"
      ]
     },
     "metadata": {},
     "output_type": "display_data"
    },
    {
     "name": "stdout",
     "output_type": "stream",
     "text": [
      "MD591\n",
      "820"
     ]
    },
    {
     "name": "stderr",
     "output_type": "stream",
     "text": [
      "Compute std: 26.954307 seconds\n",
      "load score volumes: 34.450073 seconds\n"
     ]
    },
    {
     "name": "stdout",
     "output_type": "stream",
     "text": [
      " 544 451\n",
      "[ 410.   272.   225.5]\n"
     ]
    },
    {
     "name": "stderr",
     "output_type": "stream",
     "text": [
      "Compute hessian: 79.010904 seconds\n"
     ]
    },
    {
     "data": {
      "image/png": "[encoded data removed]",
      "text/plain": [
       "<matplotlib.figure.Figure at 0x21bf710>"
      ]
     },
     "metadata": {},
     "output_type": "display_data"
    },
    {
     "name": "stdout",
     "output_type": "stream",
     "text": [
      "MD595\n",
      "874"
     ]
    },
    {
     "name": "stderr",
     "output_type": "stream",
     "text": [
      "Compute std: 26.773796 seconds\n",
      "load score volumes: 30.393927 seconds\n"
     ]
    },
    {
     "name": "stdout",
     "output_type": "stream",
     "text": [
      " 472 448\n",
      "[ 437.  236.  224.]\n"
     ]
    },
    {
     "name": "stderr",
     "output_type": "stream",
     "text": [
      "Compute hessian: 79.436999 seconds\n"
     ]
    },
    {
     "data": {
      "image/png": "[encoded data removed]",
      "text/plain": [
       "<matplotlib.figure.Figure at 0x21bf710>"
      ]
     },
     "metadata": {},
     "output_type": "display_data"
    },
    {
     "name": "stdout",
     "output_type": "stream",
     "text": [
      "MD598\n",
      "900"
     ]
    },
    {
     "name": "stderr",
     "output_type": "stream",
     "text": [
      "Compute std: 27.871988 seconds\n",
      "load score volumes: 27.834038 seconds\n"
     ]
    },
    {
     "name": "stdout",
     "output_type": "stream",
     "text": [
      " 462 410\n",
      "[ 450.  231.  205.]\n"
     ]
    },
    {
     "name": "stderr",
     "output_type": "stream",
     "text": [
      "Compute hessian: 78.179052 seconds\n"
     ]
    },
    {
     "data": {
      "image/png": "[encoded data removed]",
      "text/plain": [
       "<matplotlib.figure.Figure at 0x21bf710>"
      ]
     },
     "metadata": {},
     "output_type": "display_data"
    },
    {
     "name": "stdout",
     "output_type": "stream",
     "text": [
      "MD602\n",
      "936"
     ]
    },
    {
     "name": "stderr",
     "output_type": "stream",
     "text": [
      "Compute std: 27.465414 seconds\n",
      "load score volumes: 28.584635 seconds\n"
     ]
    },
    {
     "name": "stdout",
     "output_type": "stream",
     "text": [
      " 438 424\n",
      "[ 468.  219.  212.]\n"
     ]
    },
    {
     "name": "stderr",
     "output_type": "stream",
     "text": [
      "Compute hessian: 80.673915 seconds\n"
     ]
    },
    {
     "data": {
      "image/png": "[encoded data removed]",
      "text/plain": [
       "<matplotlib.figure.Figure at 0x52b6f90>"
      ]
     },
     "metadata": {},
     "output_type": "display_data"
    },
    {
     "name": "stdout",
     "output_type": "stream",
     "text": [
      "MD603\n",
      "1056"
     ]
    },
    {
     "name": "stderr",
     "output_type": "stream",
     "text": [
      "Compute std: 26.756140 seconds\n",
      "load score volumes: 33.546012 seconds\n"
     ]
    },
    {
     "name": "stdout",
     "output_type": "stream",
     "text": [
      " 472 437\n",
      "[ 528.   236.   218.5]\n"
     ]
    },
    {
     "name": "stderr",
     "output_type": "stream",
     "text": [
      "Compute hessian: 80.081895 seconds\n"
     ]
    },
    {
     "data": {
      "image/png": "[encoded data removed]",
      "text/plain": [
       "<matplotlib.figure.Figure at 0x5260dd0>"
      ]
     },
     "metadata": {},
     "output_type": "display_data"
    },
    {
     "name": "stderr",
     "output_type": "stream",
     "text": [
      "Compute std: 27.180708 seconds\n"
     ]
    }
   ],
   "source": [
    "for i, stack in enumerate(['MD589', 'MD594', 'MD585', 'MD590', 'MD593', 'MD592', 'MD591', 'MD595', 'MD598', 'MD602', 'MD603']):\n",
    "# for i, stack in enumerate(['MD593']):\n",
    "    \n",
    "    print stack\n",
    "    \n",
    "    ################################\n",
    "       \n",
    "    t = time.time()\n",
    "\n",
    "    volume2_allLabels = {}\n",
    "\n",
    "    for name in available_labels_unsided:\n",
    "\n",
    "        if name == 'BackG':\n",
    "            continue\n",
    "\n",
    "        volume2_roi = bp.unpack_ndarray_file(os.path.join(volume_dir, '%(stack)s/%(stack)s_scoreVolume_%(label)s.bp' % \\\n",
    "                                                          {'stack': stack, 'label': name})).astype(np.float16)\n",
    "        volume2_allLabels[name] = volume2_roi\n",
    "        del volume2_roi\n",
    "\n",
    "    test_xdim, test_ydim, test_zdim = test_dims_allStacks[stack]\n",
    "    test_centroid = test_centroid_allStacks[stack]\n",
    "\n",
    "    print test_xdim, test_ydim, test_zdim\n",
    "    print test_centroid\n",
    "\n",
    "    sys.stderr.write('load score volumes: %f seconds\\n' % (time.time() - t))\n",
    "    \n",
    "    t = time.time()\n",
    "\n",
    "    h = nd.Hessian(lambda t: compute_score(t), step=np.r_[1e-1, 1e-1, 1e-1, 10,\n",
    "                                          1e-1, 1e-1, 1e-1, 10,\n",
    "                                          1e-1, 1e-1, 1e-1, 10])\n",
    "\n",
    "    H = h(parameters_allStacks[stack])\n",
    "    hessian_allStacks[stack] = H\n",
    "    \n",
    "    sys.stderr.write('Compute hessian: %f seconds\\n' % (time.time() - t))\n",
    "\n",
    "    \n",
    "    t = time.time()\n",
    "    \n",
    "#     dt = np.arange(-10, 11, 1.)\n",
    "#     scores = compute_scores_neighborhood_grid(parameters_allStacks[stack], dt, dt, dt)\n",
    "    \n",
    "    \n",
    "    # note: size of neighborhood affects std, because the farther away from optimum the lower the scores are\n",
    "    n = 1000\n",
    "    scores = np.asarray(compute_scores_neighborhood_random(parameters_allStacks[stack], n, \n",
    "                                                np.r_[0, 0, 0, 10., 0, 0, 0, 10., 0, 0, 0, 10.]))\n",
    "    \n",
    "    std = np.std(scores.flat)\n",
    "    std_allStacks[stack] = std\n",
    "    \n",
    "    plt.hist(scores.flatten(), bins=100);\n",
    "    plt.show();\n",
    "    \n",
    "    sys.stderr.write('Compute std: %f seconds\\n' % (time.time() - t))"
   ]
  },
  {
   "cell_type": "code",
   "execution_count": 189,
   "metadata": {
    "scrolled": true
   },
   "outputs": [
    {
     "data": {
      "image/png": "[encoded data removed]",
      "text/plain": [
       "<matplotlib.figure.Figure at 0x97c6f50>"
      ]
     },
     "metadata": {},
     "output_type": "display_data"
    }
   ],
   "source": [
    "# Test hessian sensitivity to step size; seems translation step size = 10 is a stable zone\n",
    "\n",
    "# hs = []\n",
    "# for dt in np.logspace(0, 3, 10) / 5:\n",
    "\n",
    "#     h = nd.Hessian(lambda t: compute_score(t), step=np.r_[1e-1, 1e-1, 1e-1, dt, 1e-1, 1e-1, 1e-1, dt, 1e-1, 1e-1, 1e-1, dt])\n",
    "#     H = h(parameters_allStacks[stack])\n",
    "#     hs.append(np.diag(H)[[3,7,11]])\n",
    "    \n",
    "# plt.plot(hs);"
   ]
  },
  {
   "cell_type": "code",
   "execution_count": 21,
   "metadata": {},
   "outputs": [
    {
     "name": "stdout",
     "output_type": "stream",
     "text": [
      "step size = 73.6 um\n"
     ]
    }
   ],
   "source": [
    "print 'step size =', xy_pixel_distance_downsampled * 10, 'um'"
   ]
  },
  {
   "cell_type": "code",
   "execution_count": 27,
   "metadata": {
    "scrolled": true
   },
   "outputs": [],
   "source": [
    "z1 = {}\n",
    "z2 = {}\n",
    "z3 = {}\n",
    "z4 = {}\n",
    "\n",
    "for i, stack in enumerate(['MD589', 'MD594', 'MD585', 'MD590', 'MD593', 'MD592', 'MD591', 'MD595', 'MD598', 'MD602', 'MD603']):\n",
    "\n",
    "    H = hessian_allStacks[stack]\n",
    "    std = std_allStacks[stack]\n",
    "\n",
    "    U, S, VT = np.linalg.svd(H[np.r_[3,7,11], np.r_[3,7,11][:,None]])\n",
    "    z1[stack] = 1./2. * 10**2 * -S[2] / std\n",
    "    z2[stack] = 1./6. * (5**2+5*20+20**2) * -S[2] / std\n",
    "    \n",
    "    z3[stack] = 1./2. * 10**2 * -S[0] / std\n",
    "    z4[stack] = 1./6. * (5**2+5*20+20**2) * -S[0] / std"
   ]
  },
  {
   "cell_type": "code",
   "execution_count": 17,
   "metadata": {
    "scrolled": true
   },
   "outputs": [
    {
     "name": "stdout",
     "output_type": "stream",
     "text": [
      "-0.0119844476839\n",
      "-1.19844476839\n",
      "-2.09727834469\n"
     ]
    }
   ],
   "source": [
    "print np.mean(z0.values())\n",
    "print np.mean(z1.values())\n",
    "print np.mean(z2.values())"
   ]
  },
  {
   "cell_type": "code",
   "execution_count": 49,
   "metadata": {},
   "outputs": [
    {
     "data": {
      "image/png": "[encoded data removed]",
      "text/plain": [
       "<matplotlib.figure.Figure at 0x86619d0>"
      ]
     },
     "metadata": {},
     "output_type": "display_data"
    }
   ],
   "source": [
    "plt.figure(figsize=(5,5));\n",
    "\n",
    "box = plt.boxplot(np.c_[z1.values(), z3.values(), z2.values(), z4.values()],\n",
    "                 notch=False, sym='+', patch_artist=True);\n",
    "\n",
    "colors = ['tan', 'lightblue'] * 2\n",
    "for patch, color in zip(box['boxes'], colors):\n",
    "    patch.set_facecolor(color)\n",
    "    patch.set_edgecolor('k')\n",
    "\n",
    "plt.xticks(range(1,1+4), ['$\\Gamma$={10}', '$\\Gamma$={10}', '$\\Gamma$=[5, 20]', '$\\Gamma$=[5, 20]']);\n",
    "plt.ylabel('quasi-z-score');\n",
    "plt.title('quasi-z-score for global alignment (11 brains)');\n",
    "\n",
    "plt.figtext(0.80, 0.75, 'min', backgroundcolor='tan', weight='roman', size='large');\n",
    "plt.figtext(0.80, 0.85, 'max', backgroundcolor='lightblue', weight='roman', size='large');"
   ]
  },
  {
   "cell_type": "code",
   "execution_count": 160,
   "metadata": {
    "scrolled": true
   },
   "outputs": [
    {
     "data": {
      "image/png": "[encoded data removed]",
      "text/plain": [
       "<matplotlib.figure.Figure at 0x9984290>"
      ]
     },
     "metadata": {},
     "output_type": "display_data"
    },
    {
     "data": {
      "image/png": "[encoded data removed]",
      "text/plain": [
       "<matplotlib.figure.Figure at 0xb67e350>"
      ]
     },
     "metadata": {},
     "output_type": "display_data"
    },
    {
     "data": {
      "image/png": "[encoded data removed]",
      "text/plain": [
       "<matplotlib.figure.Figure at 0x96644d0>"
      ]
     },
     "metadata": {},
     "output_type": "display_data"
    },
    {
     "data": {
      "image/png": "[encoded data removed]",
      "text/plain": [
       "<matplotlib.figure.Figure at 0x8f4fad0>"
      ]
     },
     "metadata": {},
     "output_type": "display_data"
    },
    {
     "data": {
      "image/png": "[encoded data removed]",
      "text/plain": [
       "<matplotlib.figure.Figure at 0x91410d0>"
      ]
     },
     "metadata": {},
     "output_type": "display_data"
    },
    {
     "data": {
      "image/png": "[encoded data removed]",
      "text/plain": [
       "<matplotlib.figure.Figure at 0x8f141d0>"
      ]
     },
     "metadata": {},
     "output_type": "display_data"
    },
    {
     "data": {
      "image/png": "[encoded data removed]",
      "text/plain": [
       "<matplotlib.figure.Figure at 0x97fac10>"
      ]
     },
     "metadata": {},
     "output_type": "display_data"
    },
    {
     "data": {
      "image/png": "[encoded data removed]",
      "text/plain": [
       "<matplotlib.figure.Figure at 0xb68b950>"
      ]
     },
     "metadata": {},
     "output_type": "display_data"
    },
    {
     "data": {
      "image/png": "[encoded data removed]",
      "text/plain": [
       "<matplotlib.figure.Figure at 0x8a27c90>"
      ]
     },
     "metadata": {},
     "output_type": "display_data"
    }
   ],
   "source": [
    "for zi, z in enumerate(dt):\n",
    "    plt.matshow(scores[:,:,zi], vmin=scores.min(), vmax=scores.max());\n",
    "    plt.title('z=%d' % z);\n",
    "    plt.show();"
   ]
  },
  {
   "cell_type": "code",
   "execution_count": 28,
   "metadata": {},
   "outputs": [],
   "source": [
    "pickle.dump(hessian_allStacks, open('/home/yuncong/csd395/CSHL_atlasAlignParams_atlas/hessian_globalAlign_allStacks.pkl', 'w'))\n",
    "pickle.dump(std_allStacks, open('/home/yuncong/csd395/CSHL_atlasAlignParams_atlas/std_globalAlign_allStacks.pkl', 'w'))"
   ]
  },
  {
   "cell_type": "code",
   "execution_count": null,
   "metadata": {
    "collapsed": true
   },
   "outputs": [],
   "source": []
  }
 ],
 "metadata": {
  "kernelspec": {
   "display_name": "Python 2",
   "language": "python",
   "name": "python2"
  },
  "language_info": {
   "codemirror_mode": {
    "name": "ipython",
    "version": 2
   },
   "file_extension": ".py",
   "mimetype": "text/x-python",
   "name": "python",
   "nbconvert_exporter": "python",
   "pygments_lexer": "ipython2",
   "version": "2.7.12"
  }
 },
 "nbformat": 4,
 "nbformat_minor": 1
}
