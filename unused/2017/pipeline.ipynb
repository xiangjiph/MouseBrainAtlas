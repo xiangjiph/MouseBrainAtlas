{
 "cells": [
  {
   "cell_type": "code",
   "execution_count": 1,
   "metadata": {
    "scrolled": true
   },
   "outputs": [
    {
     "name": "stdout",
     "output_type": "stream",
     "text": [
      "Setting environment for AWS compute node\n"
     ]
    },
    {
     "name": "stderr",
     "output_type": "stream",
     "text": [
      "No vtk\n",
      "File does not exist: /shared/CSHL_data_processed/MD635/MD635_anchor.txt\n",
      "File does not exist: /shared/CSHL_data_processed/MD635/MD635_sorted_filenames.txt\n",
      "File does not exist: /shared/CSHL_data_processed/MD635/MD635_cropbox.txt\n",
      "File does not exist: /shared/CSHL_data_processed/MD635/MD635_cropbox.txt\n",
      "File does not exist: /shared/CSHL_data_processed/MD653/MD653_anchor.txt\n",
      "File does not exist: /shared/CSHL_data_processed/MD653/MD653_sorted_filenames.txt\n",
      "File does not exist: /shared/CSHL_data_processed/MD653/MD653_cropbox.txt\n",
      "File does not exist: /shared/CSHL_data_processed/MD653/MD653_cropbox.txt\n",
      "File does not exist: /shared/CSHL_data_processed/MD652/MD652_anchor.txt\n",
      "File does not exist: /shared/CSHL_data_processed/MD652/MD652_sorted_filenames.txt\n",
      "File does not exist: /shared/CSHL_data_processed/MD652/MD652_cropbox.txt\n",
      "File does not exist: /shared/CSHL_data_processed/MD652/MD652_cropbox.txt\n",
      "File does not exist: /shared/CSHL_data_processed/MD642/MD642_anchor.txt\n",
      "File does not exist: /shared/CSHL_data_processed/MD642/MD642_sorted_filenames.txt\n",
      "File does not exist: /shared/CSHL_data_processed/MD642/MD642_cropbox.txt\n",
      "File does not exist: /shared/CSHL_data_processed/MD642/MD642_cropbox.txt\n",
      "File does not exist: /shared/CSHL_data_processed/MD657/MD657_anchor.txt\n",
      "File does not exist: /shared/CSHL_data_processed/MD657/MD657_sorted_filenames.txt\n",
      "File does not exist: /shared/CSHL_data_processed/MD657/MD657_cropbox.txt\n",
      "File does not exist: /shared/CSHL_data_processed/MD657/MD657_cropbox.txt\n"
     ]
    }
   ],
   "source": [
    "%load_ext autoreload\n",
    "%autoreload 2\n",
    "\n",
    "import os\n",
    "import sys\n",
    "import time\n",
    "\n",
    "sys.path.append(os.path.join(os.environ['REPO_DIR'], 'utilities'))\n",
    "from data_manager import *\n",
    "from metadata import *\n",
    "from distributed_utilities import *"
   ]
  },
  {
   "cell_type": "code",
   "execution_count": 2,
   "metadata": {
    "collapsed": true
   },
   "outputs": [],
   "source": [
    "exclude_nodes = [33]"
   ]
  },
  {
   "cell_type": "markdown",
   "metadata": {},
   "source": [
    "# One stack"
   ]
  },
  {
   "cell_type": "code",
   "execution_count": 3,
   "metadata": {
    "collapsed": true
   },
   "outputs": [],
   "source": [
    "classifier_id = 30"
   ]
  },
  {
   "cell_type": "code",
   "execution_count": 4,
   "metadata": {
    "collapsed": true
   },
   "outputs": [],
   "source": [
    "stack = 'MD591'\n",
    "first_sec, last_sec = metadata_cache['section_limits'][stack]"
   ]
  },
  {
   "cell_type": "code",
   "execution_count": 26,
   "metadata": {},
   "outputs": [
    {
     "name": "stderr",
     "output_type": "stream",
     "text": [
      "running svm classifier ...16 nodes requested, 16 nodes available...Continuing\n",
      "Jobs submitted. Use wait_qsub_complete() to check if they finish.\n",
      "qsub returned.\n",
      "done in 20.565487 seconds\n"
     ]
    }
   ],
   "source": [
    "t = time.time()\n",
    "sys.stderr.write('running svm classifier ...')\n",
    "\n",
    "run_distributed4(command='%(script_path)s %(stack)s %%(first_sec)d %%(last_sec)d %(setting)d' % \\\n",
    "                {'script_path': os.path.join(os.environ['REPO_DIR'], 'learning', 'apply_classifiers_v3.py'),\n",
    "                'stack': stack,\n",
    "                'setting': classifier_setting},\n",
    "                kwargs_list=dict(sections=range(first_sec, last_sec+1)),\n",
    "#                      kwargs_list=dict(sections=range(160,170)),\n",
    "                exclude_nodes=exclude_nodes,\n",
    "                argument_type='partition')\n",
    "\n",
    "sys.stderr.write('done in %f seconds\\n' % (time.time() - t)) # 220 seconds"
   ]
  },
  {
   "cell_type": "code",
   "execution_count": null,
   "metadata": {
    "collapsed": true
   },
   "outputs": [],
   "source": [
    "# t = time.time()\n",
    "# sys.stderr.write('interpolating scoremaps ...')\n",
    "\n",
    "# run_distributed4(command='%(script_path)s %(stack)s %%(first_sec)d %%(last_sec)d %(setting)d' % \\\n",
    "#                 {'script_path': os.path.join(os.environ['REPO_DIR'], 'learning', 'interpolate_scoremaps_v3.py'),\n",
    "#                 'stack': stack,\n",
    "#                 'setting': classifier_setting},\n",
    "#                 kwargs_list=dict(sections=range(first_sec, last_sec+1)),\n",
    "#                 exclude_nodes=exclude_nodes,\n",
    "#                 argument_type='partition')\n",
    "\n",
    "# sys.stderr.write('done in %f seconds\\n' % (time.time() - t)) # 50s/section"
   ]
  },
  {
   "cell_type": "code",
   "execution_count": 6,
   "metadata": {},
   "outputs": [
    {
     "name": "stderr",
     "output_type": "stream",
     "text": [
      "visualize scoremaps ..."
     ]
    },
    {
     "name": "stdout",
     "output_type": "stream",
     "text": [
      "['gcn-20-33.sdsc.edu'] are excluded\n",
      "Using nodes: ['gcn-20-31.sdsc.edu', 'gcn-20-32.sdsc.edu', 'gcn-20-34.sdsc.edu', 'gcn-20-35.sdsc.edu', 'gcn-20-36.sdsc.edu', 'gcn-20-37.sdsc.edu', 'gcn-20-38.sdsc.edu', 'gcn-20-41.sdsc.edu', 'gcn-20-42.sdsc.edu', 'gcn-20-43.sdsc.edu', 'gcn-20-44.sdsc.edu', 'gcn-20-45.sdsc.edu', 'gcn-20-46.sdsc.edu', 'gcn-20-47.sdsc.edu', 'gcn-20-48.sdsc.edu']\n"
     ]
    },
    {
     "name": "stderr",
     "output_type": "stream",
     "text": [
      "done in 749.581318 seconds\n"
     ]
    }
   ],
   "source": [
    "t = time.time()\n",
    "sys.stderr.write('visualize scoremaps ...')\n",
    "\n",
    "add_annotation = False\n",
    "downscale = 32\n",
    "\n",
    "run_distributed4(command='%(script_path)s %(stack)s %(setting)d -b %%(first_sec)d -e %%(last_sec)d -d %(downscale)d %(add_annotation)s' % \\\n",
    "                {'script_path': os.path.join(os.environ['REPO_DIR'], 'learning', 'visualize_scoremaps_v3.py'),\n",
    "                'stack': stack,\n",
    "                 'setting': classifier_setting,\n",
    "                'add_annotation': '-a' if add_annotation else '',\n",
    "                'downscale': downscale},\n",
    "                kwargs_list=dict(sections=range(first_sec, last_sec+1)),\n",
    "                exclude_nodes=exclude_nodes,\n",
    "                argument_type='partition')\n",
    "\n",
    "sys.stderr.write('done in %f seconds\\n' % (time.time() - t)) # 800 seconds / stack"
   ]
  },
  {
   "cell_type": "code",
   "execution_count": 10,
   "metadata": {},
   "outputs": [
    {
     "name": "stderr",
     "output_type": "stream",
     "text": [
      "constructing score volumes ..."
     ]
    },
    {
     "name": "stdout",
     "output_type": "stream",
     "text": [
      "['gcn-20-33.sdsc.edu'] are excluded\n",
      "Using nodes: ['gcn-20-31.sdsc.edu', 'gcn-20-32.sdsc.edu', 'gcn-20-34.sdsc.edu', 'gcn-20-35.sdsc.edu', 'gcn-20-36.sdsc.edu', 'gcn-20-37.sdsc.edu', 'gcn-20-38.sdsc.edu', 'gcn-20-41.sdsc.edu', 'gcn-20-42.sdsc.edu', 'gcn-20-43.sdsc.edu', 'gcn-20-44.sdsc.edu', 'gcn-20-45.sdsc.edu', 'gcn-20-46.sdsc.edu', 'gcn-20-47.sdsc.edu', 'gcn-20-48.sdsc.edu']\n"
     ]
    },
    {
     "name": "stderr",
     "output_type": "stream",
     "text": [
      "done in 198.704855 seconds\n"
     ]
    }
   ],
   "source": [
    "t = time.time()\n",
    "sys.stderr.write('constructing score volumes ...')\n",
    "\n",
    "run_distributed4(command='%(script_path)s %(stack)s %%(structure)s %(setting)d' % \\\n",
    "                {'script_path': os.path.join(os.environ['REPO_DIR'], 'reconstruct', 'construct_score_volume_v3.py'),\n",
    "                'stack': stack,\n",
    "                'setting': classifier_setting},\n",
    "                kwargs_list=dict(structure=all_known_structures),\n",
    "                exclude_nodes=exclude_nodes,\n",
    "                argument_type='single')\n",
    "\n",
    "sys.stderr.write('done in %f seconds\\n' % (time.time() - t)) # 200 seconds"
   ]
  },
  {
   "cell_type": "code",
   "execution_count": 12,
   "metadata": {},
   "outputs": [
    {
     "name": "stderr",
     "output_type": "stream",
     "text": [
      "compute score volume gradients..."
     ]
    },
    {
     "name": "stdout",
     "output_type": "stream",
     "text": [
      "['gcn-20-33.sdsc.edu'] are excluded\n",
      "Using nodes: ['gcn-20-31.sdsc.edu', 'gcn-20-32.sdsc.edu', 'gcn-20-34.sdsc.edu', 'gcn-20-35.sdsc.edu', 'gcn-20-36.sdsc.edu', 'gcn-20-37.sdsc.edu', 'gcn-20-38.sdsc.edu', 'gcn-20-41.sdsc.edu', 'gcn-20-42.sdsc.edu', 'gcn-20-43.sdsc.edu', 'gcn-20-44.sdsc.edu', 'gcn-20-45.sdsc.edu', 'gcn-20-46.sdsc.edu', 'gcn-20-47.sdsc.edu', 'gcn-20-48.sdsc.edu']\n"
     ]
    },
    {
     "name": "stderr",
     "output_type": "stream",
     "text": [
      "done in 47.282430 seconds\n"
     ]
    }
   ],
   "source": [
    "t = time.time()\n",
    "sys.stderr.write('compute score volume gradients...')\n",
    "\n",
    "run_distributed4(command='%(script_path)s %(stack)s %%(structure)s %(setting)d' % \\\n",
    "                {'script_path': os.path.join(os.environ['REPO_DIR'], 'reconstruct', 'compute_score_volume_gradients_v3.py'),\n",
    "                'stack': stack,\n",
    "                'setting': classifier_setting},\n",
    "                kwargs_list=dict(structure=all_known_structures),\n",
    "                exclude_nodes=exclude_nodes,\n",
    "                argument_type='single')\n",
    "\n",
    "sys.stderr.write('done in %f seconds\\n' % (time.time() - t)) # 70 seconds"
   ]
  },
  {
   "cell_type": "markdown",
   "metadata": {},
   "source": [
    "# All nissl stacks"
   ]
  },
  {
   "cell_type": "code",
   "execution_count": 6,
   "metadata": {
    "collapsed": true
   },
   "outputs": [],
   "source": [
    "classifier_setting = 2"
   ]
  },
  {
   "cell_type": "code",
   "execution_count": 9,
   "metadata": {
    "scrolled": true
   },
   "outputs": [
    {
     "name": "stderr",
     "output_type": "stream",
     "text": [
      "visualize scoremaps ..."
     ]
    },
    {
     "name": "stdout",
     "output_type": "stream",
     "text": [
      "['gcn-20-33.sdsc.edu'] are excluded\n",
      "Using nodes: ['gcn-20-31.sdsc.edu', 'gcn-20-32.sdsc.edu', 'gcn-20-34.sdsc.edu', 'gcn-20-35.sdsc.edu', 'gcn-20-36.sdsc.edu', 'gcn-20-37.sdsc.edu', 'gcn-20-38.sdsc.edu', 'gcn-20-41.sdsc.edu', 'gcn-20-42.sdsc.edu', 'gcn-20-43.sdsc.edu', 'gcn-20-44.sdsc.edu', 'gcn-20-45.sdsc.edu', 'gcn-20-46.sdsc.edu', 'gcn-20-47.sdsc.edu', 'gcn-20-48.sdsc.edu']\n"
     ]
    },
    {
     "name": "stderr",
     "output_type": "stream",
     "text": [
      "done in 551.913828 seconds\n"
     ]
    }
   ],
   "source": [
    "# for stack in all_nissl_stacks:\n",
    "for stack in ['MD602']:\n",
    "    \n",
    "    first_sec, last_sec = metadata_cache['section_limits'][stack]\n",
    "    \n",
    "    t = time.time()\n",
    "    sys.stderr.write('visualize scoremaps ...')\n",
    "\n",
    "    add_annotation = False\n",
    "\n",
    "    run_distributed4(command='%(script_path)s %(stack)s %(setting)d -b %%(first_sec)d -e %%(last_sec)d %(add_annotation)s' % \\\n",
    "                    {'script_path': os.path.join(os.environ['REPO_DIR'], 'learning', 'visualize_scoremaps_v3.py'),\n",
    "                    'stack': stack,\n",
    "                     'setting': classifier_setting,\n",
    "                    'add_annotation': '-a' if add_annotation else ''},\n",
    "                    kwargs_list=dict(sections=range(first_sec, last_sec+1)),\n",
    "                    exclude_nodes=exclude_nodes,\n",
    "                    argument_type='partition')\n",
    "\n",
    "    sys.stderr.write('done in %f seconds\\n' % (time.time() - t)) # 800 seconds / stack\n",
    "            \n",
    "#     t = time.time()\n",
    "#     sys.stderr.write('constructing score volumes ...')\n",
    "\n",
    "#     run_distributed4(command='%(script_path)s %(stack)s %%(structure)s %(setting)d' % \\\n",
    "#                     {'script_path': os.path.join(os.environ['REPO_DIR'], 'reconstruct', 'construct_score_volume_v3.py'),\n",
    "#                     'stack': stack,\n",
    "#                     'setting': classifier_setting},\n",
    "#                     kwargs_list=dict(structure=all_known_structures),\n",
    "#                     exclude_nodes=exclude_nodes,\n",
    "#                     argument_type='single')\n",
    "\n",
    "#     sys.stderr.write('done in %f seconds\\n' % (time.time() - t)) # 200 seconds\n",
    "    \n",
    "#     t = time.time()\n",
    "#     sys.stderr.write('compute score volume gradients...')\n",
    "\n",
    "#     run_distributed4(command='%(script_path)s %(stack)s %%(structure)s %(setting)d' % \\\n",
    "#                     {'script_path': os.path.join(os.environ['REPO_DIR'], 'reconstruct', 'compute_score_volume_gradients_v3.py'),\n",
    "#                     'stack': stack,\n",
    "#                     'setting': classifier_setting},\n",
    "#                     kwargs_list=dict(structure=all_known_structures),\n",
    "#                     exclude_nodes=exclude_nodes,\n",
    "#                     argument_type='single')\n",
    "\n",
    "#     sys.stderr.write('done in %f seconds\\n' % (time.time() - t)) # 70 seconds"
   ]
  },
  {
   "cell_type": "markdown",
   "metadata": {},
   "source": [
    "# From Patch Features to Score Volumes"
   ]
  },
  {
   "cell_type": "code",
   "execution_count": null,
   "metadata": {
    "collapsed": true,
    "scrolled": true
   },
   "outputs": [],
   "source": [
    "# for stack in all_stacks:\n",
    "for stack in ['MD603']:\n",
    "        \n",
    "    first_sec, last_sec = metadata_cache['section_limits'][stack]\n",
    "\n",
    "    #################################\n",
    "\n",
    "    t = time.time()\n",
    "    sys.stderr.write('running svm classifier ...')\n",
    "\n",
    "\n",
    "    run_distributed4(command='%(script_path)s %(stack)s %%(first_sec)d %%(last_sec)d %(setting)d' % \\\n",
    "                    {'script_path': os.path.join(os.environ['REPO_DIR'], 'learning', 'apply_classifiers_v3.py'),\n",
    "                    'stack': stack,\n",
    "                    'setting': classifier_setting},\n",
    "                    kwargs_list=dict(sections=range(first_sec, last_sec+1)),\n",
    "                    exclude_nodes=exclude_nodes,\n",
    "                    argument_type='partition')\n",
    "\n",
    "    sys.stderr.write('done in %f seconds\\n' % (time.time() - t)) # 220 seconds\n",
    "\n",
    "    #################################\n",
    "\n",
    "    t = time.time()\n",
    "    sys.stderr.write('interpolating scoremaps ...')\n",
    "\n",
    "    run_distributed4(command='%(script_path)s %(stack)s %%(first_sec)d %%(last_sec)d %(setting)d' % \\\n",
    "                    {'script_path': os.path.join(os.environ['REPO_DIR'], 'learning', 'interpolate_scoremaps_v3.py'),\n",
    "                    'stack': stack,\n",
    "                    'setting': classifier_setting},\n",
    "                    kwargs_list=dict(sections=range(first_sec, last_sec+1)),\n",
    "                    exclude_nodes=exclude_nodes,\n",
    "                    argument_type='partition')\n",
    "\n",
    "    sys.stderr.write('done in %f seconds\\n' % (time.time() - t)) # 50s/section\n",
    "\n",
    "    #################################\n",
    "\n",
    "    t = time.time()\n",
    "    sys.stderr.write('visualize scoremaps ...')\n",
    "\n",
    "    add_annotation = False\n",
    "\n",
    "    run_distributed4(command='%(script_path)s %(stack)s %(setting)d -b %%(first_sec)d -e %%(last_sec)d %(add_annotation)s' % \\\n",
    "                    {'script_path': os.path.join(os.environ['REPO_DIR'], 'learning', 'visualize_scoremaps_v3.py'),\n",
    "                    'stack': stack,\n",
    "                     'setting': classifier_setting,\n",
    "                    'add_annotation': '-a' if add_annotation else ''},\n",
    "                    kwargs_list=dict(sections=range(first_sec, last_sec+1)),\n",
    "                    exclude_nodes=exclude_nodes,\n",
    "                    argument_type='partition')\n",
    "\n",
    "    sys.stderr.write('done in %f seconds\\n' % (time.time() - t)) # 800 seconds / stack\n",
    "\n",
    "    #################################\n",
    "\n",
    "    t = time.time()\n",
    "    sys.stderr.write('constructing score volumes ...')\n",
    "\n",
    "    run_distributed4(command='%(script_path)s %(stack)s %%(structure)s %(setting)d' % \\\n",
    "                    {'script_path': os.path.join(os.environ['REPO_DIR'], 'reconstruct', 'construct_score_volume_v3.py'),\n",
    "                    'stack': stack,\n",
    "                    'setting': classifier_setting},\n",
    "                    kwargs_list=dict(structure=all_known_structures),\n",
    "                    exclude_nodes=exclude_nodes,\n",
    "                    argument_type='single')\n",
    "\n",
    "    sys.stderr.write('done in %f seconds\\n' % (time.time() - t)) # 200 seconds\n",
    "\n",
    "    #################################\n",
    "\n",
    "    t = time.time()\n",
    "    sys.stderr.write('compute score volume gradients...')\n",
    "\n",
    "    run_distributed4(command='%(script_path)s %(stack)s %%(structure)s %(setting)d' % \\\n",
    "                    {'script_path': os.path.join(os.environ['REPO_DIR'], 'reconstruct', 'compute_score_volume_gradients_v3.py'),\n",
    "                    'stack': stack,\n",
    "                    'setting': classifier_setting},\n",
    "                    kwargs_list=dict(structure=all_known_structures),\n",
    "                    exclude_nodes=exclude_nodes,\n",
    "                    argument_type='single')\n",
    "\n",
    "    sys.stderr.write('done in %f seconds\\n' % (time.time() - t))\n",
    "\n",
    "    \n",
    "    sys.stderr.write('overall: %f seconds\\n' % (time.time() - t1))"
   ]
  },
  {
   "cell_type": "markdown",
   "metadata": {},
   "source": [
    "# Global align"
   ]
  },
  {
   "cell_type": "code",
   "execution_count": 6,
   "metadata": {
    "collapsed": true
   },
   "outputs": [],
   "source": [
    "classifier_setting = 2\n",
    "warp_setting = 1"
   ]
  },
  {
   "cell_type": "code",
   "execution_count": 6,
   "metadata": {},
   "outputs": [
    {
     "name": "stderr",
     "output_type": "stream",
     "text": [
      "align all subjects to atlas ..."
     ]
    },
    {
     "name": "stdout",
     "output_type": "stream",
     "text": [
      "['gcn-20-33.sdsc.edu'] are excluded\n",
      "Using nodes: ['gcn-20-31.sdsc.edu', 'gcn-20-32.sdsc.edu', 'gcn-20-34.sdsc.edu', 'gcn-20-35.sdsc.edu', 'gcn-20-36.sdsc.edu', 'gcn-20-37.sdsc.edu', 'gcn-20-38.sdsc.edu', 'gcn-20-41.sdsc.edu', 'gcn-20-42.sdsc.edu', 'gcn-20-43.sdsc.edu', 'gcn-20-44.sdsc.edu', 'gcn-20-45.sdsc.edu', 'gcn-20-46.sdsc.edu', 'gcn-20-47.sdsc.edu', 'gcn-20-48.sdsc.edu']\n"
     ]
    },
    {
     "name": "stderr",
     "output_type": "stream",
     "text": [
      "done in 553.521348 seconds\n"
     ]
    }
   ],
   "source": [
    "# Align\n",
    "\n",
    "t = time.time()\n",
    "sys.stderr.write('align all subjects to atlas ...')\n",
    "\n",
    "run_distributed4(command='%(script_path)s %%(stack)s atlasV2 %(warp_setting)d %(clf_setting)d' % \\\n",
    "                {'script_path': os.path.join(os.environ['REPO_DIR'], 'registration', 'global_registration_v3.py'),\n",
    "                'warp_setting': warp_setting,\n",
    "                'clf_setting': classifier_setting},\n",
    "#                 kwargs_list=dict(stack=all_nissl_stacks),\n",
    "                 kwargs_list=dict(stack=['MD642']),\n",
    "                exclude_nodes=exclude_nodes,\n",
    "                argument_type='single')\n",
    "\n",
    "sys.stderr.write('done in %f seconds\\n' % (time.time() - t))  # 1000 seconds ~ 20 mins"
   ]
  },
  {
   "cell_type": "code",
   "execution_count": 6,
   "metadata": {},
   "outputs": [
    {
     "name": "stderr",
     "output_type": "stream",
     "text": [
      "transform atlas ..."
     ]
    },
    {
     "name": "stdout",
     "output_type": "stream",
     "text": [
      "['gcn-20-33.sdsc.edu'] are excluded\n",
      "Using nodes: ['gcn-20-31.sdsc.edu', 'gcn-20-32.sdsc.edu', 'gcn-20-34.sdsc.edu', 'gcn-20-35.sdsc.edu', 'gcn-20-36.sdsc.edu', 'gcn-20-37.sdsc.edu', 'gcn-20-38.sdsc.edu', 'gcn-20-41.sdsc.edu', 'gcn-20-42.sdsc.edu', 'gcn-20-43.sdsc.edu', 'gcn-20-44.sdsc.edu', 'gcn-20-45.sdsc.edu', 'gcn-20-46.sdsc.edu', 'gcn-20-47.sdsc.edu', 'gcn-20-48.sdsc.edu']\n"
     ]
    },
    {
     "name": "stderr",
     "output_type": "stream",
     "text": [
      "done in 273.461052 seconds\n"
     ]
    }
   ],
   "source": [
    "# Transform\n",
    "\n",
    "t = time.time()\n",
    "sys.stderr.write('transform atlas ...')\n",
    "\n",
    "run_distributed4(command='%(script_path)s %%(stack)s atlasV2 %(warp_setting)d %(clf_setting)d' % \\\n",
    "                {'script_path': os.path.join(os.environ['REPO_DIR'], 'registration', 'transform_brains_v3_global.py'),\n",
    "                'warp_setting': warp_setting,\n",
    "                'clf_setting': classifier_setting},\n",
    "#                 kwargs_list=dict(stack=all_nissl_stacks),\n",
    "                 kwargs_list=dict(stack=['MD642']),\n",
    "                exclude_nodes=exclude_nodes,\n",
    "                argument_type='single')\n",
    "\n",
    "sys.stderr.write('done in %f seconds\\n' % (time.time() - t)) # 150 seconds, 300 for with surrounds."
   ]
  },
  {
   "cell_type": "code",
   "execution_count": 7,
   "metadata": {},
   "outputs": [
    {
     "name": "stderr",
     "output_type": "stream",
     "text": [
      "visualize aligned atlas overlay ..."
     ]
    },
    {
     "name": "stdout",
     "output_type": "stream",
     "text": [
      "['gcn-20-33.sdsc.edu'] are excluded\n",
      "gcn-20-31.sdsc.edu "
     ]
    },
    {
     "name": "stderr",
     "output_type": "stream",
     "text": [
      "\n",
      "KeyboardInterrupt\n",
      "\n"
     ]
    }
   ],
   "source": [
    "# Visualize\n",
    "\n",
    "t = time.time()\n",
    "sys.stderr.write('visualize aligned atlas overlay ...')\n",
    "\n",
    "run_distributed4(command='%(script_path)s %%(stack)s atlasV2 %(warp_setting)d %(clf_setting)d' % \\\n",
    "                {'script_path': os.path.join(os.environ['REPO_DIR'], 'registration', 'visualize_registration_v3.py'),\n",
    "                'clf_setting': classifier_setting,\n",
    "                 'warp_setting': warp_setting},\n",
    "#                  kwargs_list=dict(stack=all_nissl_stacks),\n",
    "                 kwargs_list=dict(stack=['MD642']),\n",
    "                exclude_nodes=exclude_nodes,\n",
    "                argument_type='single')\n",
    "\n",
    "sys.stderr.write('done in %f seconds\\n' % (time.time() - t)) # 625 seconds"
   ]
  },
  {
   "cell_type": "markdown",
   "metadata": {},
   "source": [
    "# Local align"
   ]
  },
  {
   "cell_type": "code",
   "execution_count": 13,
   "metadata": {
    "collapsed": true
   },
   "outputs": [],
   "source": [
    "classifier_setting = 2\n",
    "warp_setting = 6"
   ]
  },
  {
   "cell_type": "code",
   "execution_count": null,
   "metadata": {
    "scrolled": true
   },
   "outputs": [
    {
     "name": "stderr",
     "output_type": "stream",
     "text": [
      "LOCAL align ..."
     ]
    },
    {
     "name": "stdout",
     "output_type": "stream",
     "text": [
      "['gcn-20-33.sdsc.edu'] are excluded\n",
      "Using nodes: ['gcn-20-31.sdsc.edu', 'gcn-20-32.sdsc.edu', 'gcn-20-34.sdsc.edu', 'gcn-20-35.sdsc.edu', 'gcn-20-36.sdsc.edu', 'gcn-20-37.sdsc.edu', 'gcn-20-38.sdsc.edu', 'gcn-20-41.sdsc.edu', 'gcn-20-42.sdsc.edu', 'gcn-20-43.sdsc.edu', 'gcn-20-44.sdsc.edu', 'gcn-20-45.sdsc.edu', 'gcn-20-46.sdsc.edu', 'gcn-20-47.sdsc.edu', 'gcn-20-48.sdsc.edu']\n"
     ]
    }
   ],
   "source": [
    "# Local align\n",
    "\n",
    "t = time.time()\n",
    "sys.stderr.write('LOCAL align ...')\n",
    "\n",
    "run_distributed4(command='%(script_path)s %%(stack)s atlasV2 %(warp_setting)d %(clf_setting)d' % \\\n",
    "                {'script_path': os.path.join(os.environ['REPO_DIR'], 'registration', 'local_registration_v3.py'),\n",
    "                'clf_setting': classifier_setting,\n",
    "                 'warp_setting': warp_setting},\n",
    "                 kwargs_list=dict(stack=['MD642']),\n",
    "#                 kwargs_list=dict(stack=all_nissl_stacks),\n",
    "                exclude_nodes=exclude_nodes,\n",
    "                argument_type='single')\n",
    "\n",
    "sys.stderr.write('done in %f seconds\\n' % (time.time() - t)) # 1300-1600 seconds"
   ]
  },
  {
   "cell_type": "code",
   "execution_count": null,
   "metadata": {
    "collapsed": true
   },
   "outputs": [],
   "source": [
    "# Transform\n",
    "\n",
    "t = time.time()\n",
    "sys.stderr.write('transform atlas ...')\n",
    "\n",
    "run_distributed4(command='%(script_path)s %%(stack)s atlasV2 %(warp_setting)d %(clf_setting)d' % \\\n",
    "                {'script_path': os.path.join(os.environ['REPO_DIR'], 'registration', 'transform_brains_v3_local.py'),\n",
    "                'clf_setting': classifier_setting,\n",
    "                 'warp_setting': warp_setting},\n",
    "                kwargs_list=dict(stack=['MD642']),\n",
    "#                 kwargs_list=dict(stack=all_nissl_stacks),\n",
    "                exclude_nodes=exclude_nodes,\n",
    "                argument_type='single')\n",
    "\n",
    "sys.stderr.write('done in %f seconds\\n' % (time.time() - t)) # 310 seconds"
   ]
  },
  {
   "cell_type": "code",
   "execution_count": null,
   "metadata": {
    "collapsed": true,
    "scrolled": true
   },
   "outputs": [],
   "source": [
    "# Visualize\n",
    "\n",
    "t = time.time()\n",
    "sys.stderr.write('visualize aligned atlas overlay ...')\n",
    "\n",
    "run_distributed4(command='%(script_path)s %%(stack)s atlasV2 %(warp_setting)d %(clf_setting)d' % \\\n",
    "                {'script_path': os.path.join(os.environ['REPO_DIR'], 'registration', 'visualize_registration_v3.py'),\n",
    "                'clf_setting': classifier_setting,\n",
    "                 'warp_setting': warp_setting},\n",
    "                 kwargs_list=dict(stack=['MD642']),\n",
    "#                 kwargs_list=dict(stack=all_nissl_stacks),\n",
    "                exclude_nodes=exclude_nodes,\n",
    "                argument_type='single')\n",
    "\n",
    "sys.stderr.write('done in %f seconds\\n' % (time.time() - t)) # 190 seconds"
   ]
  },
  {
   "cell_type": "markdown",
   "metadata": {
    "collapsed": true
   },
   "source": [
    "# Transform locally transformed volumes back to atlas space"
   ]
  },
  {
   "cell_type": "code",
   "execution_count": 16,
   "metadata": {
    "collapsed": true
   },
   "outputs": [],
   "source": [
    "classifier_setting = 2\n",
    "warp_setting = 3"
   ]
  },
  {
   "cell_type": "code",
   "execution_count": 17,
   "metadata": {},
   "outputs": [
    {
     "name": "stderr",
     "output_type": "stream",
     "text": [
      "transform atlas ..."
     ]
    },
    {
     "name": "stdout",
     "output_type": "stream",
     "text": [
      "['gcn-20-33.sdsc.edu'] are excluded\n",
      "Using nodes: ['gcn-20-31.sdsc.edu', 'gcn-20-32.sdsc.edu', 'gcn-20-34.sdsc.edu', 'gcn-20-35.sdsc.edu', 'gcn-20-36.sdsc.edu', 'gcn-20-37.sdsc.edu', 'gcn-20-38.sdsc.edu', 'gcn-20-41.sdsc.edu', 'gcn-20-42.sdsc.edu', 'gcn-20-43.sdsc.edu', 'gcn-20-44.sdsc.edu', 'gcn-20-45.sdsc.edu', 'gcn-20-46.sdsc.edu', 'gcn-20-47.sdsc.edu', 'gcn-20-48.sdsc.edu']\n"
     ]
    },
    {
     "name": "stderr",
     "output_type": "stream",
     "text": [
      "done in 158.031314 seconds\n"
     ]
    }
   ],
   "source": [
    "t = time.time()\n",
    "sys.stderr.write('transform atlas ...')\n",
    "\n",
    "exclude_nodes = [33]\n",
    "\n",
    "run_distributed4(command='%(script_path)s %%(stack)s atlasV2 %(warp_setting)d %(clf_setting)d' % \\\n",
    "                {'script_path': os.path.join(os.environ['REPO_DIR'], 'registration', 'transform_brains_v3_reverse_global.py'),\n",
    "                 'clf_setting': classifier_setting,\n",
    "                 'warp_setting': warp_setting},\n",
    "                 kwargs_list=dict(stack=['MD603']),\n",
    "#                 kwargs_list=dict(stack=all_nissl_stacks),\n",
    "                exclude_nodes=exclude_nodes,\n",
    "                argument_type='single')\n",
    "\n",
    "sys.stderr.write('done in %f seconds\\n' % (time.time() - t)) # 200 seconds ~ 4 mins"
   ]
  },
  {
   "cell_type": "markdown",
   "metadata": {},
   "source": [
    "# Measure Global Tx Confidence"
   ]
  },
  {
   "cell_type": "code",
   "execution_count": 4,
   "metadata": {
    "collapsed": true
   },
   "outputs": [],
   "source": [
    "warp_setting = 1"
   ]
  },
  {
   "cell_type": "code",
   "execution_count": 5,
   "metadata": {},
   "outputs": [
    {
     "name": "stderr",
     "output_type": "stream",
     "text": [
      "Measure confidence ..."
     ]
    },
    {
     "name": "stdout",
     "output_type": "stream",
     "text": [
      "['gcn-20-33.sdsc.edu'] are excluded\n",
      "Using nodes: ['gcn-20-31.sdsc.edu', 'gcn-20-32.sdsc.edu', 'gcn-20-34.sdsc.edu', 'gcn-20-35.sdsc.edu', 'gcn-20-36.sdsc.edu', 'gcn-20-37.sdsc.edu', 'gcn-20-38.sdsc.edu', 'gcn-20-41.sdsc.edu', 'gcn-20-42.sdsc.edu', 'gcn-20-43.sdsc.edu', 'gcn-20-44.sdsc.edu', 'gcn-20-45.sdsc.edu', 'gcn-20-46.sdsc.edu', 'gcn-20-47.sdsc.edu', 'gcn-20-48.sdsc.edu']\n"
     ]
    },
    {
     "name": "stderr",
     "output_type": "stream",
     "text": [
      "done in 696.112392 seconds\n"
     ]
    }
   ],
   "source": [
    "t = time.time()\n",
    "sys.stderr.write('Measure confidence ...')\n",
    "\n",
    "exclude_nodes = [33]\n",
    "\n",
    "run_distributed4(command='%(script_path)s %%(stack)s atlasV2 %(warp_setting)d %(clf_setting)d' % \\\n",
    "                {'script_path': os.path.join(os.environ['REPO_DIR'], 'registration', 'measure_confidence_v3_global.py'),\n",
    "                 'clf_setting': classifier_setting,\n",
    "                 'warp_setting': warp_setting},\n",
    "#                  kwargs_list=dict(stack=['MD594']),\n",
    "                kwargs_list=dict(stack=all_nissl_stacks),\n",
    "                exclude_nodes=exclude_nodes,\n",
    "                argument_type='single')\n",
    "\n",
    "sys.stderr.write('done in %f seconds\\n' % (time.time() - t)) # 650 seconds ~ 10 mins"
   ]
  },
  {
   "cell_type": "markdown",
   "metadata": {},
   "source": [
    "# Measure Local Tx Confidence"
   ]
  },
  {
   "cell_type": "code",
   "execution_count": 5,
   "metadata": {
    "collapsed": true
   },
   "outputs": [],
   "source": [
    "warp_setting = 5\n",
    "classifier_setting = 2"
   ]
  },
  {
   "cell_type": "code",
   "execution_count": 6,
   "metadata": {
    "scrolled": true
   },
   "outputs": [
    {
     "name": "stderr",
     "output_type": "stream",
     "text": [
      "Measure confidence ..."
     ]
    },
    {
     "name": "stdout",
     "output_type": "stream",
     "text": [
      "['gcn-20-33.sdsc.edu'] are excluded\n",
      "Using nodes: ['gcn-20-31.sdsc.edu', 'gcn-20-32.sdsc.edu', 'gcn-20-34.sdsc.edu', 'gcn-20-35.sdsc.edu', 'gcn-20-36.sdsc.edu', 'gcn-20-37.sdsc.edu', 'gcn-20-38.sdsc.edu', 'gcn-20-41.sdsc.edu', 'gcn-20-42.sdsc.edu', 'gcn-20-43.sdsc.edu', 'gcn-20-44.sdsc.edu', 'gcn-20-45.sdsc.edu', 'gcn-20-46.sdsc.edu', 'gcn-20-47.sdsc.edu', 'gcn-20-48.sdsc.edu']\n"
     ]
    },
    {
     "name": "stderr",
     "output_type": "stream",
     "text": [
      "done in 1004.929929 seconds\n"
     ]
    }
   ],
   "source": [
    "t = time.time()\n",
    "sys.stderr.write('Measure confidence ...')\n",
    "\n",
    "exclude_nodes = [33]\n",
    "\n",
    "run_distributed4(command='%(script_path)s %%(stack)s atlasV2 %(warp_setting)d %(clf_setting)d' % \\\n",
    "                {'script_path': os.path.join(os.environ['REPO_DIR'], 'registration', 'measure_confidence_v3_local.py'),\n",
    "                 'clf_setting': classifier_setting,\n",
    "                 'warp_setting': warp_setting},\n",
    "#                  kwargs_list=dict(stack=['MD592']),\n",
    "                kwargs_list=dict(stack=all_nissl_stacks),\n",
    "                exclude_nodes=exclude_nodes,\n",
    "                argument_type='single')\n",
    "\n",
    "sys.stderr.write('done in %f seconds\\n' % (time.time() - t)) # 900 s ~ 15 mins"
   ]
  },
  {
   "cell_type": "markdown",
   "metadata": {},
   "source": [
    "# Snake"
   ]
  },
  {
   "cell_type": "code",
   "execution_count": 6,
   "metadata": {
    "scrolled": true
   },
   "outputs": [
    {
     "data": {
      "text/plain": [
       "8"
      ]
     },
     "execution_count": 6,
     "metadata": {},
     "output_type": "execute_result"
    }
   ],
   "source": [
    "train_sample_scheme"
   ]
  },
  {
   "cell_type": "code",
   "execution_count": 7,
   "metadata": {},
   "outputs": [
    {
     "name": "stderr",
     "output_type": "stream",
     "text": [
      "Graphcut ..."
     ]
    },
    {
     "name": "stdout",
     "output_type": "stream",
     "text": [
      "['gcn-20-33.sdsc.edu'] are excluded\n",
      "gcn-20-31.sdsc.edu is down\n",
      "Using nodes: ['gcn-20-32.sdsc.edu', 'gcn-20-34.sdsc.edu', 'gcn-20-35.sdsc.edu', 'gcn-20-36.sdsc.edu', 'gcn-20-37.sdsc.edu', 'gcn-20-38.sdsc.edu', 'gcn-20-41.sdsc.edu', 'gcn-20-42.sdsc.edu', 'gcn-20-43.sdsc.edu', 'gcn-20-44.sdsc.edu', 'gcn-20-45.sdsc.edu', 'gcn-20-46.sdsc.edu', 'gcn-20-47.sdsc.edu', 'gcn-20-48.sdsc.edu']\n"
     ]
    },
    {
     "name": "stderr",
     "output_type": "stream",
     "text": [
      "done in 163.411004 seconds\n"
     ]
    }
   ],
   "source": [
    "# Graphcut\n",
    "\n",
    "t = time.time()\n",
    "sys.stderr.write('Graphcut ...')\n",
    "\n",
    "exclude_nodes = [33]\n",
    "\n",
    "# for stack in all_stacks:\n",
    "for stack in ['MD635']:\n",
    "\n",
    "    run_distributed4(command='%(script_path)s %(stack)s %%(name_sided)s %(train_sample_scheme)d' % \\\n",
    "                    {'script_path': os.path.join(os.environ['REPO_DIR'], 'registration') + '/fit_contour_to_scoremap.py',\n",
    "                    'stack': stack,\n",
    "                    'train_sample_scheme': train_sample_scheme},\n",
    "                    kwargs_list=dict(name_sided=[convert_to_left_name(s) for s in paired_structures] + \\\n",
    "                                     [convert_to_right_name(s) for s in paired_structures] + \\\n",
    "                                     [s for s in singular_structures]),\n",
    "                    exclude_nodes=exclude_nodes,\n",
    "                    argument_type='single')\n",
    "\n",
    "sys.stderr.write('done in %f seconds\\n' % (time.time() - t))"
   ]
  },
  {
   "cell_type": "markdown",
   "metadata": {},
   "source": [
    "# Generate score volumes"
   ]
  }
 ],
 "metadata": {
  "kernelspec": {
   "display_name": "Python 2",
   "language": "python",
   "name": "python2"
  },
  "language_info": {
   "codemirror_mode": {
    "name": "ipython",
    "version": 2
   },
   "file_extension": ".py",
   "mimetype": "text/x-python",
   "name": "python",
   "nbconvert_exporter": "python",
   "pygments_lexer": "ipython2",
   "version": "2.7.12"
  }
 },
 "nbformat": 4,
 "nbformat_minor": 1
}
