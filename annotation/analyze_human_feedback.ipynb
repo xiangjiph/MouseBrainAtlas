{
 "cells": [
  {
   "cell_type": "code",
   "execution_count": 1,
   "metadata": {},
   "outputs": [
    {
     "name": "stderr",
     "output_type": "stream",
     "text": [
      "/usr/local/lib/python2.7/dist-packages/matplotlib/__init__.py:1405: UserWarning: \n",
      "This call to matplotlib.use() has no effect because the backend has already\n",
      "been chosen; matplotlib.use() must be called *before* pylab, matplotlib.pyplot,\n",
      "or matplotlib.backends is imported for the first time.\n",
      "\n",
      "  warnings.warn(_use_error_msg)\n"
     ]
    },
    {
     "name": "stdout",
     "output_type": "stream",
     "text": [
      "Setting environment for AWS compute node\n"
     ]
    },
    {
     "name": "stderr",
     "output_type": "stream",
     "text": [
      "No vtk\n"
     ]
    }
   ],
   "source": [
    "%load_ext autoreload\n",
    "%autoreload 2\n",
    "\n",
    "import sys\n",
    "import os\n",
    "import time\n",
    "\n",
    "import matplotlib.pyplot as plt\n",
    "%matplotlib inline\n",
    "import numpy as np\n",
    "from pandas import DataFrame\n",
    "import uuid\n",
    "import datetime\n",
    "    \n",
    "sys.path.append(os.path.join(os.environ['REPO_DIR'], 'utilities'))\n",
    "from utilities2015 import *\n",
    "from metadata import *\n",
    "from data_manager import *\n",
    "from registration_utilities import *"
   ]
  },
  {
   "cell_type": "code",
   "execution_count": 18,
   "metadata": {},
   "outputs": [
    {
     "name": "stdout",
     "output_type": "stream",
     "text": [
      "rm -rf /shared/CSHL_labelings_v3/MD635/annotation_atlasV3_down32_scoreVolume_clf_37_warp_8_MD635_down32_scoreVolume_clf_37_structures_05312017205732.hdf && mkdir -p /shared/CSHL_labelings_v3/MD635\n",
      "aws s3 cp s3://mousebrainatlas-data/CSHL_labelings_v3/MD635/annotation_atlasV3_down32_scoreVolume_clf_37_warp_8_MD635_down32_scoreVolume_clf_37_structures_05312017205732.hdf /shared/CSHL_labelings_v3/MD635/annotation_atlasV3_down32_scoreVolume_clf_37_warp_8_MD635_down32_scoreVolume_clf_37_structures_05312017205732.hdf\n"
     ]
    },
    {
     "name": "stderr",
     "output_type": "stream",
     "text": [
      "Child returned 0\n",
      "Child returned 0\n",
      "3.16 seconds.\n"
     ]
    }
   ],
   "source": [
    "structures_df = DataManager.load_annotation_v3(stack='MD635', by_human=False, stack_m='atlasV3', classifier_setting_m=37, classifier_setting_f=37, warp_setting=8, suffix='structures', timestamp='05312017205732')"
   ]
  },
  {
   "cell_type": "code",
   "execution_count": 19,
   "metadata": {},
   "outputs": [
    {
     "name": "stdout",
     "output_type": "stream",
     "text": [
      "3N R\n",
      "\n",
      "VCP L\n",
      "\n",
      "Sp5C R\n",
      "\n",
      "SNC L\n",
      "shift 22.9307712103 um\n",
      "\n",
      "Pn L\n",
      "\n",
      "VLL L\n",
      "shift 72.1271418615 um\n",
      "\n",
      "VCA R\n",
      "\n",
      "VCP R\n",
      "\n",
      "DC R\n",
      "\n",
      "Sp5O L\n",
      "\n",
      "Amb L\n",
      "\n",
      "LC L\n",
      "\n",
      "PBG R\n",
      "\n",
      "6N R\n",
      "\n",
      "7n L\n",
      "\n",
      "3N L\n",
      "\n",
      "VLL R\n",
      "\n",
      "Amb R\n",
      "\n",
      "6N L\n",
      "\n",
      "SNC R\n",
      "\n",
      "RMC R\n",
      "\n",
      "7N L\n",
      "\n",
      "Tz R\n",
      "\n",
      "Tz L\n",
      "\n",
      "4N L\n",
      "\n",
      "LC R\n",
      "\n",
      "Sp5I L\n",
      "\n",
      "7n R\n",
      "\n",
      "RtTg S\n",
      "\n",
      "12N S\n",
      "\n",
      "SC S\n",
      "\n",
      "SNR R\n",
      "\n",
      "IC S\n",
      "\n",
      "RMC L\n",
      "\n",
      "LRt R\n",
      "\n",
      "10N L\n",
      "\n",
      "Sp5I R\n",
      "\n",
      "5N L\n",
      "\n",
      "SNR L\n",
      "\n",
      "7N R\n",
      "\n",
      "LRt L\n",
      "\n",
      "Pn R\n",
      "\n",
      "AP S\n",
      "\n",
      "VCA L\n",
      "\n",
      "5N R\n",
      "\n",
      "Sp5C L\n",
      "\n",
      "4N R\n",
      "\n",
      "DC L\n",
      "\n",
      "Sp5O R\n",
      "\n",
      "10N R\n",
      "\n",
      "PBG L\n",
      "\n"
     ]
    }
   ],
   "source": [
    "for struct_id, struct_entry in structures_df.iterrows():\n",
    "    print struct_entry['name'], struct_entry['side']\n",
    "    for edit_type, tf, cm, cf in struct_entry['edits']:\n",
    "        if edit_type == 'shift3d':\n",
    "            shift_vol_resol = np.linalg.norm(tf[[3,7]]) \n",
    "            shift_um = shift_vol_resol * XY_PIXEL_DISTANCE_LOSSLESS * struct_entry['downsample']            \n",
    "            print 'shift', shift_vol_resol, 'um'\n",
    "    print"
   ]
  }
 ],
 "metadata": {
  "kernelspec": {
   "display_name": "Python 2",
   "language": "python",
   "name": "python2"
  },
  "language_info": {
   "codemirror_mode": {
    "name": "ipython",
    "version": 2
   },
   "file_extension": ".py",
   "mimetype": "text/x-python",
   "name": "python",
   "nbconvert_exporter": "python",
   "pygments_lexer": "ipython2",
   "version": "2.7.12"
  }
 },
 "nbformat": 4,
 "nbformat_minor": 2
}
