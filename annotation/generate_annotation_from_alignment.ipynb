{
 "cells": [
  {
   "cell_type": "code",
   "execution_count": 1,
   "metadata": {},
   "outputs": [
    {
     "name": "stdout",
     "output_type": "stream",
     "text": [
      "Setting environment for AWS compute node\n"
     ]
    },
    {
     "name": "stderr",
     "output_type": "stream",
     "text": [
      "/usr/local/lib/python2.7/dist-packages/matplotlib/__init__.py:1405: UserWarning: \n",
      "This call to matplotlib.use() has no effect because the backend has already\n",
      "been chosen; matplotlib.use() must be called *before* pylab, matplotlib.pyplot,\n",
      "or matplotlib.backends is imported for the first time.\n",
      "\n",
      "  warnings.warn(_use_error_msg)\n",
      "No vtk\n"
     ]
    }
   ],
   "source": [
    "%load_ext autoreload\n",
    "%autoreload 2\n",
    "\n",
    "import sys\n",
    "import os\n",
    "import time\n",
    "\n",
    "import matplotlib.pyplot as plt\n",
    "%matplotlib inline\n",
    "import numpy as np\n",
    "from pandas import DataFrame\n",
    "import uuid\n",
    "import datetime\n",
    "from skimage.transform import resize\n",
    "\n",
    "sys.path.append(os.path.join(os.environ['REPO_DIR'], 'utilities'))\n",
    "from utilities2015 import *\n",
    "from metadata import *\n",
    "from data_manager import *\n",
    "from registration_utilities import *\n",
    "from annotation_utilities import interpolate_contours_to_volume"
   ]
  },
  {
   "cell_type": "code",
   "execution_count": 2,
   "metadata": {
    "collapsed": true
   },
   "outputs": [],
   "source": [
    "# def generate_annotation_file_from_aligned_atlas(stack_m, stack_f, classifier_setting_m, classifier_setting_f,\n",
    "#                                                warp_setting, level=.5, sample_every=1):\n",
    "#     \"\"\"\n",
    "#     Compute the structure contours on a fixed stack according to the atlas aligned to it.\n",
    "#     The structure contours are stored as a pandas dataframe. \n",
    "#     Rows are section indices and columns are structure names.\n",
    "#     Structure names are unsided only.\n",
    "#     Also save this dataframe as a hdf file. \n",
    "#     The file location can be retrieved by DataManager.get_annotation_filepath().\n",
    "    \n",
    "#     Returns:\n",
    "#         dataframe: the structure contours\n",
    "#     \"\"\"\n",
    "        \n",
    "# #     warped_volumes = DataManager.load_transformed_volume_all_known_structures(stack_m=stack_m, stack_f=stack_f,\n",
    "# #                                     classifier_setting_m=classifier_setting_m,\n",
    "# #                                     classifier_setting_f=classifier_setting_f,\n",
    "# #                                     warp_setting=warp_setting, sided=True)\n",
    "# #     downsample_factor = 32\n",
    "    \n",
    "# #     xmin_vol_f, _, ymin_vol_f, _, zmin_vol_f, _ = \\\n",
    "# #     DataManager.load_original_volume_bbox(stack=stack_f, vol_type='score', structure='7N', downscale=downsample_factor, classifier_setting=classifier_setting_f)\n",
    "    \n",
    "# #     structure_contours = get_structure_contours_from_aligned_atlas(warped_volumes, downsample_factor=downsample_factor,\n",
    "# #                                                          volume_origin=(xmin_vol_f, ymin_vol_f, zmin_vol_f),\n",
    "# #                                                         sections=metadata_cache['valid_sections'][stack_f], \n",
    "# #                                                          level=level, sample_every=sample_every)\n",
    "\n",
    "# #     del warped_volumes\n",
    "    \n",
    "# #     contours_entries = {}\n",
    "# #     for sec, row in structure_contours.iteritems():\n",
    "# #         for name_s, vertices in row.iteritems():\n",
    "# #             id_ = str(uuid.uuid4().fields[-1])\n",
    "# #             side = get_side_from_label(name_s)\n",
    "# #             if side is None:\n",
    "# #                 side = 'S'\n",
    "# #             contour_entry = {\n",
    "# #                 'name': convert_to_original_name(name_s),\n",
    "# #                 'label_position': vertices.mean(axis=0),\n",
    "# #                 'side': side,\n",
    "# #                 'creator': 'auto',\n",
    "# #                 'time_created': datetime.datetime.now().strftime(\"%m%d%Y%H%M%S\"),\n",
    "# #                 'edits': [],\n",
    "# #                 'vertices': vertices,\n",
    "# #                 'downsample': 1,\n",
    "# #                 'flags': 1, #1 means contour is unconfirmed.\n",
    "# #                 'section': sec,\n",
    "# #                 'filename': metadata_cache['sections_to_filenames'][stack_f][sec],\n",
    "# #                 'orientation': 'sagittal',\n",
    "# #                 'parent_structure': [],\n",
    "# #                 'side_manually_assigned': False,\n",
    "# #                 'id': id_\n",
    "# #             }\n",
    "# #             contours_entries[id_] = contour_entry           \n",
    "        \n",
    "# #     contours_df = DataFrame(contours_entries).T\n",
    "    \n",
    "# #     contours_df_fp = DataManager.get_annotation_filepath(stack=stack_f, by_human=False, stack_m=stack_m, \n",
    "# #                                                            classifier_setting_m=classifier_setting_m,\n",
    "# #                                                           classifier_setting_f=classifier_setting_f,\n",
    "# #                                                           warp_setting=warp_setting, suffix='contours')\n",
    "# #     save_hdf_v2(contours_df, contours_df_fp)\n",
    "# #     upload_to_s3(contours_df_fp)\n",
    "    \n",
    "#     ####################################\n",
    "#     ## Reconstruct structure volumes  ##\n",
    "#     ####################################\n",
    "    \n",
    "#     contours_df_fp = DataManager.get_annotation_filepath(stack=stack_f, by_human=False, stack_m=stack_m, \n",
    "#                                                        classifier_setting_m=classifier_setting_m,\n",
    "#                                                       classifier_setting_f=classifier_setting_f,\n",
    "#                                                       warp_setting=warp_setting, suffix='contours')\n",
    "#     download_from_s3(contours_df_fp)\n",
    "#     contours_df = load_hdf_v2(contours_df_fp)\n",
    "    \n",
    "#     volume_downsample = 8\n",
    "    \n",
    "#     structure_entries = {}\n",
    "#     for s in all_known_structures_sided:\n",
    "#         name_u, side, _, _ = parse_label(s)\n",
    "#         if side is None:\n",
    "#             side = 'S'\n",
    "        \n",
    "#         contour_points_grouped_by_pos = {np.mean(DataManager.convert_section_to_z(stack='MD635', sec=p['section'], downsample=1)) / volume_downsample: \n",
    "#                                          p['vertices'] / volume_downsample\n",
    "#                                          for _, p in contours_df[(contours_df['name'] == name_u) & (contours_df['side'] == side)].iterrows()}\n",
    "\n",
    "#         if len(contour_points_grouped_by_pos) >= 2:\n",
    "#             vol, bbox = interpolate_contours_to_volume(contour_points_grouped_by_pos, 'z')\n",
    "#             id_ = str(uuid.uuid4().fields[-1])\n",
    "#             structure_entry = {\n",
    "#                 'name': name_u,\n",
    "#                 'side': side,\n",
    "#                 'volume_in_bbox': vol,\n",
    "#                 'bbox': bbox,\n",
    "#                 'downsample': volume_downsample,\n",
    "#                 'creator': 'auto',\n",
    "#                 'time_created': datetime.datetime.now().strftime(\"%m%d%Y%H%M%S\"),\n",
    "#                 'edits': []\n",
    "#             }\n",
    "#             structure_entries[id_] = structure_entry\n",
    "#         else:\n",
    "#             sys.stderr.write('Cannot interpolate because there are fewer than two contours for structure (%s, %s).\\n' % (name_u, side))\n",
    "\n",
    "#     structures_df = DataFrame(structure_entries).T\n",
    "    \n",
    "#     structures_df_fp = DataManager.get_annotation_filepath(stack=stack_f, by_human=False, stack_m=stack_m, \n",
    "#                                                            classifier_setting_m=classifier_setting_m,\n",
    "#                                                           classifier_setting_f=classifier_setting_f,\n",
    "#                                                           warp_setting=warp_setting, suffix='structures')\n",
    "#     save_hdf_v2(structure_entries, structures_df_fp)\n",
    "#     upload_to_s3(structures_df_fp)   \n",
    "    "
   ]
  },
  {
   "cell_type": "code",
   "execution_count": 5,
   "metadata": {
    "collapsed": true,
    "scrolled": true
   },
   "outputs": [],
   "source": [
    "# generate_annotation_file_from_aligned_atlas(stack_m='atlasV3', stack_f='MD635', \n",
    "#                                             classifier_setting_m=classifier_id, \n",
    "#                                             classifier_setting_f=classifier_id, \n",
    "#                                             warp_setting=warp_setting,\n",
    "#                                            level=.5, sample_every=1)"
   ]
  },
  {
   "cell_type": "code",
   "execution_count": 2,
   "metadata": {
    "collapsed": true
   },
   "outputs": [],
   "source": [
    "def rescale_binary_volume(vol, rescale_factor):\n",
    "    \"\"\"\n",
    "    Rescale a binary volume.\n",
    "    \n",
    "    Args:\n",
    "        vol (3D array of bool): binary volume.\n",
    "        rescale_factor (int): \n",
    "        \n",
    "    Returns:\n",
    "        scaled_vol (3D array of bool): scaled volume in bounding box\n",
    "        scaled_bbox (6-tuple of int): scaled bounding box\n",
    "    \"\"\"\n",
    "\n",
    "    xmin,xmax,ymin,ymax,zmin,zmax = np.array(bbox_3d(vol))\n",
    "    vol_in_bbox = vol[ymin:ymax+1, xmin:xmax+1, zmin:zmax+1]\n",
    "\n",
    "    new_shape = np.array(vol_in_bbox.shape) * rescale_factor\n",
    "    new_vol_in_bbox = resize(vol_in_bbox, new_shape) > 0\n",
    "\n",
    "    new_xmin, new_ymin, new_zmin = np.array((xmin,ymin,zmin)) * rescale_factor\n",
    "    new_xmax = new_xmin + new_vol_in_bbox.shape[1] - 1\n",
    "    new_ymax = new_ymin + new_vol_in_bbox.shape[0] - 1\n",
    "    new_zmax = new_zmin + new_vol_in_bbox.shape[2] - 1\n",
    "    new_bbox = new_xmin, new_xmax, new_ymin, new_ymax, new_zmin, new_zmax\n",
    "    \n",
    "    return new_vol_in_bbox, new_bbox"
   ]
  },
  {
   "cell_type": "code",
   "execution_count": 3,
   "metadata": {},
   "outputs": [
    {
     "name": "stdout",
     "output_type": "stream",
     "text": [
      "rm -rf /shared/CSHL_volumes/atlasV3/atlasV3_down32_scoreVolume_clf_37_warp_8_MD652_down32_scoreVolume_clf_37/score_volumes/atlasV3_down32_scoreVolume_clf_37_warp_8_MD652_down32_scoreVolume_clf_37_10N_R.bp && mkdir -p /shared/CSHL_volumes/atlasV3/atlasV3_down32_scoreVolume_clf_37_warp_8_MD652_down32_scoreVolume_clf_37/score_volumes\n",
      "aws s3 cp s3://mousebrainatlas-data/CSHL_volumes/atlasV3/atlasV3_down32_scoreVolume_clf_37_warp_8_MD652_down32_scoreVolume_clf_37/score_volumes/atlasV3_down32_scoreVolume_clf_37_warp_8_MD652_down32_scoreVolume_clf_37_10N_R.bp /shared/CSHL_volumes/atlasV3/atlasV3_down32_scoreVolume_clf_37_warp_8_MD652_down32_scoreVolume_clf_37/score_volumes/atlasV3_down32_scoreVolume_clf_37_warp_8_MD652_down32_scoreVolume_clf_37_10N_R.bp\n"
     ]
    },
    {
     "name": "stderr",
     "output_type": "stream",
     "text": [
      "Child returned 0\n",
      "Child returned 1\n",
      "0.79 seconds.\n",
      "File does not exist: /shared/CSHL_volumes/atlasV3/atlasV3_down32_scoreVolume_clf_37_warp_8_MD652_down32_scoreVolume_clf_37/score_volumes/atlasV3_down32_scoreVolume_clf_37_warp_8_MD652_down32_scoreVolume_clf_37_10N_R.bp\n",
      "[Errno 2] No such file or directory: '/shared/CSHL_volumes/atlasV3/atlasV3_down32_scoreVolume_clf_37_warp_8_MD652_down32_scoreVolume_clf_37/score_volumes/atlasV3_down32_scoreVolume_clf_37_warp_8_MD652_down32_scoreVolume_clf_37_10N_R.bp'\n",
      "Score volume for 10N_R does not exist.\n"
     ]
    },
    {
     "name": "stdout",
     "output_type": "stream",
     "text": [
      "rm -rf /shared/CSHL_volumes/atlasV3/atlasV3_down32_scoreVolume_clf_37_warp_8_MD652_down32_scoreVolume_clf_37/score_volumes/atlasV3_down32_scoreVolume_clf_37_warp_8_MD652_down32_scoreVolume_clf_37_sp5.bp && mkdir -p /shared/CSHL_volumes/atlasV3/atlasV3_down32_scoreVolume_clf_37_warp_8_MD652_down32_scoreVolume_clf_37/score_volumes\n"
     ]
    },
    {
     "name": "stderr",
     "output_type": "stream",
     "text": [
      "Child returned 0\n",
      "Child returned 1\n",
      "0.86 seconds.\n",
      "File does not exist: /shared/CSHL_volumes/atlasV3/atlasV3_down32_scoreVolume_clf_37_warp_8_MD652_down32_scoreVolume_clf_37/score_volumes/atlasV3_down32_scoreVolume_clf_37_warp_8_MD652_down32_scoreVolume_clf_37_sp5.bp\n",
      "[Errno 2] No such file or directory: '/shared/CSHL_volumes/atlasV3/atlasV3_down32_scoreVolume_clf_37_warp_8_MD652_down32_scoreVolume_clf_37/score_volumes/atlasV3_down32_scoreVolume_clf_37_warp_8_MD652_down32_scoreVolume_clf_37_sp5.bp'\n",
      "Score volume for sp5 does not exist.\n"
     ]
    },
    {
     "name": "stdout",
     "output_type": "stream",
     "text": [
      "aws s3 cp s3://mousebrainatlas-data/CSHL_volumes/atlasV3/atlasV3_down32_scoreVolume_clf_37_warp_8_MD652_down32_scoreVolume_clf_37/score_volumes/atlasV3_down32_scoreVolume_clf_37_warp_8_MD652_down32_scoreVolume_clf_37_sp5.bp /shared/CSHL_volumes/atlasV3/atlasV3_down32_scoreVolume_clf_37_warp_8_MD652_down32_scoreVolume_clf_37/score_volumes/atlasV3_down32_scoreVolume_clf_37_warp_8_MD652_down32_scoreVolume_clf_37_sp5.bp\n",
      "rm -rf /shared/CSHL_volumes/atlasV3/atlasV3_down32_scoreVolume_clf_37_warp_8_MD652_down32_scoreVolume_clf_37/score_volumes/atlasV3_down32_scoreVolume_clf_37_warp_8_MD652_down32_scoreVolume_clf_37_outerContour.bp && mkdir -p /shared/CSHL_volumes/atlasV3/atlasV3_down32_scoreVolume_clf_37_warp_8_MD652_down32_scoreVolume_clf_37/score_volumes\n"
     ]
    },
    {
     "name": "stderr",
     "output_type": "stream",
     "text": [
      "Child returned 0\n",
      "Child returned 1\n",
      "0.86 seconds.\n",
      "File does not exist: /shared/CSHL_volumes/atlasV3/atlasV3_down32_scoreVolume_clf_37_warp_8_MD652_down32_scoreVolume_clf_37/score_volumes/atlasV3_down32_scoreVolume_clf_37_warp_8_MD652_down32_scoreVolume_clf_37_outerContour.bp\n",
      "[Errno 2] No such file or directory: '/shared/CSHL_volumes/atlasV3/atlasV3_down32_scoreVolume_clf_37_warp_8_MD652_down32_scoreVolume_clf_37/score_volumes/atlasV3_down32_scoreVolume_clf_37_warp_8_MD652_down32_scoreVolume_clf_37_outerContour.bp'\n",
      "Score volume for outerContour does not exist.\n"
     ]
    },
    {
     "name": "stdout",
     "output_type": "stream",
     "text": [
      "aws s3 cp s3://mousebrainatlas-data/CSHL_volumes/atlasV3/atlasV3_down32_scoreVolume_clf_37_warp_8_MD652_down32_scoreVolume_clf_37/score_volumes/atlasV3_down32_scoreVolume_clf_37_warp_8_MD652_down32_scoreVolume_clf_37_outerContour.bp /shared/CSHL_volumes/atlasV3/atlasV3_down32_scoreVolume_clf_37_warp_8_MD652_down32_scoreVolume_clf_37/score_volumes/atlasV3_down32_scoreVolume_clf_37_warp_8_MD652_down32_scoreVolume_clf_37_outerContour.bp\n",
      "LRt_R\n"
     ]
    },
    {
     "name": "stderr",
     "output_type": "stream",
     "text": [
      "/usr/local/lib/python2.7/dist-packages/skimage/transform/_warps.py:84: UserWarning: The default mode, 'constant', will be changed to 'reflect' in skimage 0.15.\n",
      "  warn(\"The default mode, 'constant', will be changed to 'reflect' in \"\n"
     ]
    },
    {
     "name": "stdout",
     "output_type": "stream",
     "text": [
      "Sp5C_L\n",
      "Pn_L\n",
      "7N_R\n",
      "PBG_L\n",
      "VLL_L\n",
      "4N_R\n",
      "VLL_R\n",
      "7N_L\n",
      "PBG_R\n",
      "RtTg\n",
      "Sp5C_R\n",
      "Pn_R\n",
      "LRt_L\n",
      "Sp5O_R\n",
      "SNR_L\n",
      "12N\n",
      "SNR_R\n",
      "Sp5O_L\n",
      "DC_R\n",
      "VCA_L\n",
      "3N_L\n",
      "6N_R\n",
      "Sp5I_L\n",
      "RMC_R\n",
      "5N_L\n",
      "SNC_L\n",
      "SNC_R\n",
      "AP\n",
      "RMC_L\n",
      "Sp5I_R\n",
      "3N_R\n",
      "6N_L\n",
      "IC\n",
      "VCA_R\n",
      "DC_L\n",
      "Amb_R\n",
      "VCP_R\n",
      "LC_R\n",
      "7n_R\n",
      "5N_R\n",
      "Tz_L\n",
      "Tz_R\n",
      "7n_L\n",
      "4N_L\n",
      "LC_L\n",
      "10N_L\n",
      "SC\n",
      "VCP_L\n",
      "Amb_L\n"
     ]
    },
    {
     "name": "stderr",
     "output_type": "stream",
     "text": [
      "/usr/local/lib/python2.7/dist-packages/pandas/core/generic.py:1282: PerformanceWarning: \n",
      "your performance may suffer as PyTables will pickle object types that it cannot\n",
      "map directly to c-types [inferred_type->mixed-integer,key->block0_values] [items->['bbox', 'creator', 'downsample', 'edits', 'name', 'side', 'time_created', 'volume_in_bbox']]\n",
      "\n",
      "  return pytables.to_hdf(path_or_buf, key, self, **kwargs)\n"
     ]
    },
    {
     "name": "stdout",
     "output_type": "stream",
     "text": [
      "aws s3 cp /shared/CSHL_labelings_v3/MD652/annotation_atlasV3_down32_scoreVolume_clf_37_warp_8_MD652_down32_scoreVolume_clf_37_structures_06012017093155.hdf s3://mousebrainatlas-data/CSHL_labelings_v3/MD652/annotation_atlasV3_down32_scoreVolume_clf_37_warp_8_MD652_down32_scoreVolume_clf_37_structures_06012017093155.hdf\n"
     ]
    },
    {
     "name": "stderr",
     "output_type": "stream",
     "text": [
      "Child returned 0\n",
      "3.91 seconds.\n"
     ]
    },
    {
     "name": "stdout",
     "output_type": "stream",
     "text": [
      "rm -rf /shared/CSHL_volumes/atlasV3/atlasV3_down32_scoreVolume_clf_37_warp_8_MD653_down32_scoreVolume_clf_37/score_volumes/atlasV3_down32_scoreVolume_clf_37_warp_8_MD653_down32_scoreVolume_clf_37_sp5.bp && mkdir -p /shared/CSHL_volumes/atlasV3/atlasV3_down32_scoreVolume_clf_37_warp_8_MD653_down32_scoreVolume_clf_37/score_volumes\n"
     ]
    },
    {
     "name": "stderr",
     "output_type": "stream",
     "text": [
      "Child returned 0\n"
     ]
    },
    {
     "name": "stdout",
     "output_type": "stream",
     "text": [
      "aws s3 cp s3://mousebrainatlas-data/CSHL_volumes/atlasV3/atlasV3_down32_scoreVolume_clf_37_warp_8_MD653_down32_scoreVolume_clf_37/score_volumes/atlasV3_down32_scoreVolume_clf_37_warp_8_MD653_down32_scoreVolume_clf_37_sp5.bp /shared/CSHL_volumes/atlasV3/atlasV3_down32_scoreVolume_clf_37_warp_8_MD653_down32_scoreVolume_clf_37/score_volumes/atlasV3_down32_scoreVolume_clf_37_warp_8_MD653_down32_scoreVolume_clf_37_sp5.bp\n"
     ]
    },
    {
     "name": "stderr",
     "output_type": "stream",
     "text": [
      "Child returned 1\n"
     ]
    },
    {
     "name": "stdout",
     "output_type": "stream",
     "text": [
      "rm -rf /shared/CSHL_volumes/atlasV3/atlasV3_down32_scoreVolume_clf_37_warp_8_MD653_down32_scoreVolume_clf_37/score_volumes/atlasV3_down32_scoreVolume_clf_37_warp_8_MD653_down32_scoreVolume_clf_37_outerContour.bp && mkdir -p /shared/CSHL_volumes/atlasV3/atlasV3_down32_scoreVolume_clf_37_warp_8_MD653_down32_scoreVolume_clf_37/score_volumes\n"
     ]
    },
    {
     "name": "stderr",
     "output_type": "stream",
     "text": [
      "1.57 seconds.\n",
      "File does not exist: /shared/CSHL_volumes/atlasV3/atlasV3_down32_scoreVolume_clf_37_warp_8_MD653_down32_scoreVolume_clf_37/score_volumes/atlasV3_down32_scoreVolume_clf_37_warp_8_MD653_down32_scoreVolume_clf_37_sp5.bp\n",
      "[Errno 2] No such file or directory: '/shared/CSHL_volumes/atlasV3/atlasV3_down32_scoreVolume_clf_37_warp_8_MD653_down32_scoreVolume_clf_37/score_volumes/atlasV3_down32_scoreVolume_clf_37_warp_8_MD653_down32_scoreVolume_clf_37_sp5.bp'\n",
      "Score volume for sp5 does not exist.\n",
      "Child returned 0"
     ]
    },
    {
     "name": "stdout",
     "output_type": "stream",
     "text": [
      "aws s3 cp s3://mousebrainatlas-data/CSHL_volumes/atlasV3/atlasV3_down32_scoreVolume_clf_37_warp_8_MD653_down32_scoreVolume_clf_37/score_volumes/atlasV3_down32_scoreVolume_clf_37_warp_8_MD653_down32_scoreVolume_clf_37_outerContour.bp /shared/CSHL_volumes/atlasV3/atlasV3_down32_scoreVolume_clf_37_warp_8_MD653_down32_scoreVolume_clf_37/score_volumes/atlasV3_down32_scoreVolume_clf_37_warp_8_MD653_down32_scoreVolume_clf_37_outerContour.bp\n"
     ]
    },
    {
     "name": "stderr",
     "output_type": "stream",
     "text": [
      "\n",
      "Child returned 1\n",
      "1.57 seconds.\n",
      "File does not exist: /shared/CSHL_volumes/atlasV3/atlasV3_down32_scoreVolume_clf_37_warp_8_MD653_down32_scoreVolume_clf_37/score_volumes/atlasV3_down32_scoreVolume_clf_37_warp_8_MD653_down32_scoreVolume_clf_37_outerContour.bp\n",
      "[Errno 2] No such file or directory: '/shared/CSHL_volumes/atlasV3/atlasV3_down32_scoreVolume_clf_37_warp_8_MD653_down32_scoreVolume_clf_37/score_volumes/atlasV3_down32_scoreVolume_clf_37_warp_8_MD653_down32_scoreVolume_clf_37_outerContour.bp'\n",
      "Score volume for outerContour does not exist.\n"
     ]
    },
    {
     "name": "stdout",
     "output_type": "stream",
     "text": [
      "LRt_R\n",
      "Sp5C_L\n",
      "Pn_L\n",
      "7N_R\n",
      "PBG_L\n",
      "VLL_L\n",
      "4N_R\n",
      "VLL_R\n",
      "7N_L\n",
      "PBG_R\n",
      "RtTg\n",
      "Sp5C_R\n",
      "Pn_R\n",
      "LRt_L\n",
      "Sp5O_R\n",
      "SNR_L\n",
      "12N\n",
      "SNR_R\n",
      "Sp5O_L\n",
      "DC_R\n",
      "VCA_L\n",
      "3N_L\n",
      "6N_R\n",
      "Sp5I_L\n",
      "RMC_R\n",
      "5N_L\n",
      "SNC_L\n",
      "SNC_R\n",
      "AP\n",
      "RMC_L\n",
      "Sp5I_R\n",
      "3N_R\n",
      "6N_L\n",
      "IC\n",
      "VCA_R\n",
      "DC_L\n",
      "Amb_R\n",
      "VCP_R\n",
      "LC_R\n",
      "10N_R\n",
      "7n_R\n",
      "5N_R\n",
      "Tz_L\n",
      "Tz_R\n",
      "7n_L\n",
      "4N_L\n",
      "LC_L\n",
      "10N_L\n",
      "SC\n",
      "VCP_L\n",
      "Amb_L\n",
      "aws s3 cp /shared/CSHL_labelings_v3/MD653/annotation_atlasV3_down32_scoreVolume_clf_37_warp_8_MD653_down32_scoreVolume_clf_37_structures_06012017094126.hdf s3://mousebrainatlas-data/CSHL_labelings_v3/MD653/annotation_atlasV3_down32_scoreVolume_clf_37_warp_8_MD653_down32_scoreVolume_clf_37_structures_06012017094126.hdf\n"
     ]
    },
    {
     "name": "stderr",
     "output_type": "stream",
     "text": [
      "Child returned 0\n",
      "24.71 seconds.\n"
     ]
    },
    {
     "name": "stdout",
     "output_type": "stream",
     "text": [
      "rm -rf /shared/CSHL_volumes/atlasV3/atlasV3_down32_scoreVolume_clf_37_warp_8_MD657_down32_scoreVolume_clf_37/score_volumes/atlasV3_down32_scoreVolume_clf_37_warp_8_MD657_down32_scoreVolume_clf_37_sp5.bp && mkdir -p /shared/CSHL_volumes/atlasV3/atlasV3_down32_scoreVolume_clf_37_warp_8_MD657_down32_scoreVolume_clf_37/score_volumes\n"
     ]
    },
    {
     "name": "stderr",
     "output_type": "stream",
     "text": [
      "Child returned 0"
     ]
    },
    {
     "name": "stdout",
     "output_type": "stream",
     "text": [
      "aws s3 cp s3://mousebrainatlas-data/CSHL_volumes/atlasV3/atlasV3_down32_scoreVolume_clf_37_warp_8_MD657_down32_scoreVolume_clf_37/score_volumes/atlasV3_down32_scoreVolume_clf_37_warp_8_MD657_down32_scoreVolume_clf_37_sp5.bp /shared/CSHL_volumes/atlasV3/atlasV3_down32_scoreVolume_clf_37_warp_8_MD657_down32_scoreVolume_clf_37/score_volumes/atlasV3_down32_scoreVolume_clf_37_warp_8_MD657_down32_scoreVolume_clf_37_sp5.bp\n"
     ]
    },
    {
     "name": "stderr",
     "output_type": "stream",
     "text": [
      "\n",
      "Child returned 1\n",
      "1.74 seconds.\n",
      "File does not exist: /shared/CSHL_volumes/atlasV3/atlasV3_down32_scoreVolume_clf_37_warp_8_MD657_down32_scoreVolume_clf_37/score_volumes/atlasV3_down32_scoreVolume_clf_37_warp_8_MD657_down32_scoreVolume_clf_37_sp5.bp\n",
      "[Errno 2] No such file or directory: '/shared/CSHL_volumes/atlasV3/atlasV3_down32_scoreVolume_clf_37_warp_8_MD657_down32_scoreVolume_clf_37/score_volumes/atlasV3_down32_scoreVolume_clf_37_warp_8_MD657_down32_scoreVolume_clf_37_sp5.bp'\n"
     ]
    },
    {
     "name": "stdout",
     "output_type": "stream",
     "text": [
      "rm -rf /shared/CSHL_volumes/atlasV3/atlasV3_down32_scoreVolume_clf_37_warp_8_MD657_down32_scoreVolume_clf_37/score_volumes/atlasV3_down32_scoreVolume_clf_37_warp_8_MD657_down32_scoreVolume_clf_37_outerContour.bp && mkdir -p /shared/CSHL_volumes/atlasV3/atlasV3_down32_scoreVolume_clf_37_warp_8_MD657_down32_scoreVolume_clf_37/score_volumes\n"
     ]
    },
    {
     "name": "stderr",
     "output_type": "stream",
     "text": [
      "Score volume for sp5 does not exist.\n",
      "Child returned 0\n"
     ]
    },
    {
     "name": "stdout",
     "output_type": "stream",
     "text": [
      "aws s3 cp s3://mousebrainatlas-data/CSHL_volumes/atlasV3/atlasV3_down32_scoreVolume_clf_37_warp_8_MD657_down32_scoreVolume_clf_37/score_volumes/atlasV3_down32_scoreVolume_clf_37_warp_8_MD657_down32_scoreVolume_clf_37_outerContour.bp /shared/CSHL_volumes/atlasV3/atlasV3_down32_scoreVolume_clf_37_warp_8_MD657_down32_scoreVolume_clf_37/score_volumes/atlasV3_down32_scoreVolume_clf_37_warp_8_MD657_down32_scoreVolume_clf_37_outerContour.bp\n"
     ]
    },
    {
     "name": "stderr",
     "output_type": "stream",
     "text": [
      "Child returned 1\n",
      "1.73 seconds.\n",
      "File does not exist: /shared/CSHL_volumes/atlasV3/atlasV3_down32_scoreVolume_clf_37_warp_8_MD657_down32_scoreVolume_clf_37/score_volumes/atlasV3_down32_scoreVolume_clf_37_warp_8_MD657_down32_scoreVolume_clf_37_outerContour.bp\n",
      "[Errno 2] No such file or directory: '/shared/CSHL_volumes/atlasV3/atlasV3_down32_scoreVolume_clf_37_warp_8_MD657_down32_scoreVolume_clf_37/score_volumes/atlasV3_down32_scoreVolume_clf_37_warp_8_MD657_down32_scoreVolume_clf_37_outerContour.bp'\n",
      "Score volume for outerContour does not exist.\n"
     ]
    },
    {
     "name": "stdout",
     "output_type": "stream",
     "text": [
      "LRt_R\n",
      "Sp5C_L\n",
      "Pn_L\n",
      "7N_R\n",
      "PBG_L\n",
      "VLL_L\n",
      "4N_R\n",
      "VLL_R\n",
      "7N_L\n",
      "PBG_R\n",
      "RtTg\n",
      "Sp5C_R\n",
      "Pn_R\n",
      "LRt_L\n",
      "Sp5O_R\n",
      "SNR_L\n",
      "12N\n",
      "SNR_R\n",
      "Sp5O_L\n",
      "DC_R\n",
      "VCA_L\n",
      "3N_L\n",
      "6N_R\n",
      "Sp5I_L\n",
      "RMC_R\n",
      "5N_L\n",
      "SNC_L\n",
      "SNC_R\n",
      "AP\n",
      "RMC_L\n",
      "Sp5I_R\n",
      "3N_R\n",
      "6N_L\n",
      "IC\n",
      "VCA_R\n",
      "DC_L\n",
      "Amb_R\n",
      "VCP_R\n",
      "LC_R\n",
      "10N_R\n",
      "7n_R\n",
      "5N_R\n",
      "Tz_L\n",
      "Tz_R\n",
      "7n_L\n",
      "4N_L\n",
      "LC_L\n",
      "10N_L\n",
      "SC\n",
      "VCP_L\n",
      "Amb_L\n",
      "aws s3 cp /shared/CSHL_labelings_v3/MD657/annotation_atlasV3_down32_scoreVolume_clf_37_warp_8_MD657_down32_scoreVolume_clf_37_structures_06012017095008.hdf s3://mousebrainatlas-data/CSHL_labelings_v3/MD657/annotation_atlasV3_down32_scoreVolume_clf_37_warp_8_MD657_down32_scoreVolume_clf_37_structures_06012017095008.hdf\n"
     ]
    },
    {
     "name": "stderr",
     "output_type": "stream",
     "text": [
      "Child returned 0\n",
      "7.75 seconds.\n"
     ]
    },
    {
     "name": "stdout",
     "output_type": "stream",
     "text": [
      "rm -rf /shared/CSHL_volumes/atlasV3/atlasV3_down32_scoreVolume_clf_37_warp_8_MD658_down32_scoreVolume_clf_37/score_volumes/atlasV3_down32_scoreVolume_clf_37_warp_8_MD658_down32_scoreVolume_clf_37_sp5.bp && mkdir -p /shared/CSHL_volumes/atlasV3/atlasV3_down32_scoreVolume_clf_37_warp_8_MD658_down32_scoreVolume_clf_37/score_volumes\n"
     ]
    },
    {
     "name": "stderr",
     "output_type": "stream",
     "text": [
      "Child returned 0\n"
     ]
    },
    {
     "name": "stdout",
     "output_type": "stream",
     "text": [
      "aws s3 cp s3://mousebrainatlas-data/CSHL_volumes/atlasV3/atlasV3_down32_scoreVolume_clf_37_warp_8_MD658_down32_scoreVolume_clf_37/score_volumes/atlasV3_down32_scoreVolume_clf_37_warp_8_MD658_down32_scoreVolume_clf_37_sp5.bp /shared/CSHL_volumes/atlasV3/atlasV3_down32_scoreVolume_clf_37_warp_8_MD658_down32_scoreVolume_clf_37/score_volumes/atlasV3_down32_scoreVolume_clf_37_warp_8_MD658_down32_scoreVolume_clf_37_sp5.bp\n"
     ]
    },
    {
     "name": "stderr",
     "output_type": "stream",
     "text": [
      "Child returned 1\n",
      "1.56 seconds.\n",
      "File does not exist: /shared/CSHL_volumes/atlasV3/atlasV3_down32_scoreVolume_clf_37_warp_8_MD658_down32_scoreVolume_clf_37/score_volumes/atlasV3_down32_scoreVolume_clf_37_warp_8_MD658_down32_scoreVolume_clf_37_sp5.bp\n",
      "[Errno 2] No such file or directory: '/shared/CSHL_volumes/atlasV3/atlasV3_down32_scoreVolume_clf_37_warp_8_MD658_down32_scoreVolume_clf_37/score_volumes/atlasV3_down32_scoreVolume_clf_37_warp_8_MD658_down32_scoreVolume_clf_37_sp5.bp'\n",
      "Score volume for sp5 does not exist.\n"
     ]
    },
    {
     "name": "stdout",
     "output_type": "stream",
     "text": [
      "rm -rf /shared/CSHL_volumes/atlasV3/atlasV3_down32_scoreVolume_clf_37_warp_8_MD658_down32_scoreVolume_clf_37/score_volumes/atlasV3_down32_scoreVolume_clf_37_warp_8_MD658_down32_scoreVolume_clf_37_outerContour.bp && mkdir -p /shared/CSHL_volumes/atlasV3/atlasV3_down32_scoreVolume_clf_37_warp_8_MD658_down32_scoreVolume_clf_37/score_volumes\n"
     ]
    },
    {
     "name": "stderr",
     "output_type": "stream",
     "text": [
      "Child returned 0\n"
     ]
    },
    {
     "name": "stdout",
     "output_type": "stream",
     "text": [
      "aws s3 cp s3://mousebrainatlas-data/CSHL_volumes/atlasV3/atlasV3_down32_scoreVolume_clf_37_warp_8_MD658_down32_scoreVolume_clf_37/score_volumes/atlasV3_down32_scoreVolume_clf_37_warp_8_MD658_down32_scoreVolume_clf_37_outerContour.bp /shared/CSHL_volumes/atlasV3/atlasV3_down32_scoreVolume_clf_37_warp_8_MD658_down32_scoreVolume_clf_37/score_volumes/atlasV3_down32_scoreVolume_clf_37_warp_8_MD658_down32_scoreVolume_clf_37_outerContour.bp\n"
     ]
    },
    {
     "name": "stderr",
     "output_type": "stream",
     "text": [
      "Child returned 1\n",
      "1.57 seconds.\n",
      "File does not exist: /shared/CSHL_volumes/atlasV3/atlasV3_down32_scoreVolume_clf_37_warp_8_MD658_down32_scoreVolume_clf_37/score_volumes/atlasV3_down32_scoreVolume_clf_37_warp_8_MD658_down32_scoreVolume_clf_37_outerContour.bp\n",
      "[Errno 2] No such file or directory: '/shared/CSHL_volumes/atlasV3/atlasV3_down32_scoreVolume_clf_37_warp_8_MD658_down32_scoreVolume_clf_37/score_volumes/atlasV3_down32_scoreVolume_clf_37_warp_8_MD658_down32_scoreVolume_clf_37_outerContour.bp'\n",
      "Score volume for outerContour does not exist.\n"
     ]
    },
    {
     "name": "stdout",
     "output_type": "stream",
     "text": [
      "LRt_R\n",
      "Sp5C_L\n",
      "Pn_L\n",
      "7N_R\n",
      "PBG_L\n",
      "VLL_L\n",
      "4N_R\n",
      "VLL_R\n",
      "7N_L\n",
      "PBG_R\n",
      "RtTg\n",
      "Sp5C_R\n",
      "Pn_R\n",
      "LRt_L\n",
      "Sp5O_R\n",
      "SNR_L\n",
      "12N\n",
      "SNR_R\n",
      "Sp5O_L\n",
      "DC_R\n",
      "VCA_L\n",
      "3N_L\n",
      "6N_R\n",
      "Sp5I_L\n",
      "RMC_R\n",
      "5N_L\n",
      "SNC_L\n",
      "SNC_R\n",
      "AP\n",
      "RMC_L\n",
      "Sp5I_R\n",
      "3N_R\n",
      "6N_L\n",
      "IC\n",
      "VCA_R\n",
      "DC_L\n",
      "Amb_R\n",
      "VCP_R\n",
      "LC_R\n",
      "10N_R\n",
      "7n_R\n",
      "5N_R\n",
      "Tz_L\n",
      "Tz_R\n",
      "7n_L\n",
      "4N_L\n",
      "LC_L\n",
      "10N_L\n",
      "SC\n",
      "VCP_L\n",
      "Amb_L\n",
      "aws s3 cp /shared/CSHL_labelings_v3/MD658/annotation_atlasV3_down32_scoreVolume_clf_37_warp_8_MD658_down32_scoreVolume_clf_37_structures_06012017100014.hdf s3://mousebrainatlas-data/CSHL_labelings_v3/MD658/annotation_atlasV3_down32_scoreVolume_clf_37_warp_8_MD658_down32_scoreVolume_clf_37_structures_06012017100014.hdf\n"
     ]
    },
    {
     "name": "stderr",
     "output_type": "stream",
     "text": [
      "Child returned 0\n",
      "3.59 seconds.\n"
     ]
    }
   ],
   "source": [
    "classifier_id = 37\n",
    "warp_setting = 8\n",
    "\n",
    "for stack in ['MD652', 'MD653', 'MD657', 'MD658']:\n",
    "\n",
    "    timestamp = datetime.datetime.now().strftime(\"%m%d%Y%H%M%S\")\n",
    "\n",
    "    warped_volumes = DataManager.load_transformed_volume_all_known_structures(stack_m='atlasV3', stack_f=stack,\n",
    "                                    classifier_setting_m=classifier_id,\n",
    "                                    classifier_setting_f=classifier_id,\n",
    "                                    warp_setting=warp_setting, sided=True)\n",
    "    \n",
    "    volume_downsample = 32\n",
    "    annotation_structure_volume_downsample = 8\n",
    "\n",
    "    level = .5\n",
    "\n",
    "    structure_entries = {}\n",
    "\n",
    "    for structure, vol in warped_volumes.iteritems():\n",
    "        print structure\n",
    "\n",
    "        binary_vol = vol > level\n",
    "        new_vol, new_bbox = rescale_binary_volume(binary_vol, volume_downsample / annotation_structure_volume_downsample)\n",
    "    #     new_vol, new_bbox = rescale_binary_volume(binary_vol, 1)\n",
    "\n",
    "        name_u, side, _, _ = parse_label(structure)\n",
    "        if side is None:\n",
    "            side = 'S'\n",
    "\n",
    "        structure_id = str(uuid.uuid4().fields[-1])\n",
    "        structure_entry = {\n",
    "            'name': name_u,\n",
    "            'side': side,\n",
    "            'volume_in_bbox': new_vol,\n",
    "            'bbox': new_bbox,\n",
    "            'downsample': annotation_structure_volume_downsample,\n",
    "            'creator': 'auto',\n",
    "            'time_created': timestamp,\n",
    "            'edits': []\n",
    "        }\n",
    "        structure_entries[structure_id] = structure_entry\n",
    "\n",
    "    structures_df = DataFrame(structure_entries).T\n",
    "    structures_df_fp = DataManager.get_annotation_filepath(stack=stack, by_human=False, stack_m='atlasV3', \n",
    "                                                           classifier_setting_m=classifier_id,\n",
    "                                                          classifier_setting_f=classifier_id,\n",
    "                                                          warp_setting=warp_setting, \n",
    "                                                           suffix='structures', timestamp=timestamp)\n",
    "    save_hdf_v2(structure_entries, structures_df_fp)\n",
    "    upload_to_s3(structures_df_fp)   "
   ]
  },
  {
   "cell_type": "code",
   "execution_count": 48,
   "metadata": {
    "collapsed": true,
    "scrolled": true
   },
   "outputs": [],
   "source": [
    "# r = downsample_factor / structure_volume_downsample\n",
    "# new_vol_in_bbox = rescale(vol_in_bbox, (r,r,r))"
   ]
  },
  {
   "cell_type": "code",
   "execution_count": null,
   "metadata": {
    "collapsed": true
   },
   "outputs": [],
   "source": [
    "# Load annotations created by our system.\n",
    "structures_df = DataManager.load_annotation_v3(stack_m='atlasV3', by_human=False, \n",
    "                                                      stack=stack, \n",
    "                                            classifier_setting_m=classifier_id, \n",
    "                                            classifier_setting_f=classifier_id, \n",
    "                                            warp_setting=warp_setting, \n",
    "                                                           suffix='structures', timestamp=timestamp)"
   ]
  },
  {
   "cell_type": "code",
   "execution_count": null,
   "metadata": {
    "collapsed": true
   },
   "outputs": [],
   "source": [
    "# structure_entries = {}\n",
    "# for s in all_known_structures_sided:\n",
    "#     name_u, side, _, _ = parse_label(s)\n",
    "#     if side is None:\n",
    "#         side = 'S'\n",
    "\n",
    "#     contour_points_grouped_by_pos = {np.mean(DataManager.convert_section_to_z(stack=stack, sec=p['section'], downsample=1)) / volume_downsample: \n",
    "#                                      p['vertices'] / volume_downsample\n",
    "#                                      for _, p in contours_df[(contours_df['name'] == name_u) & (contours_df['side'] == side)].iterrows()}\n",
    "\n",
    "#     if len(contour_points_grouped_by_pos) >= 2:\n",
    "#         vol, bbox = interpolate_contours_to_volume(contour_points_grouped_by_pos, 'z')\n",
    "#         id_ = str(uuid.uuid4().fields[-1])\n",
    "#         structure_entry = {\n",
    "#             'name': name_u,\n",
    "#             'side': side,\n",
    "#             'volume_in_bbox': vol,\n",
    "#             'bbox': bbox,\n",
    "#             'downsample': volume_downsample,\n",
    "#             'creator': 'auto',\n",
    "#             'time_created': datetime.datetime.now().strftime(\"%m%d%Y%H%M%S\"),\n",
    "#             'edits': []\n",
    "#         }\n",
    "#         structure_entries[id_] = structure_entry\n",
    "#     else:\n",
    "#         sys.stderr.write('Cannot interpolate because there are fewer than two contours for structure (%s, %s).\\n' % (name_u, side))\n",
    "\n",
    "# structures_df = DataFrame(structure_entries).T\n",
    "\n",
    "# structures_df_fp = DataManager.get_annotation_filepath(stack=stack_f, by_human=False, stack_m=stack_m, \n",
    "#                                                        classifier_setting_m=classifier_setting_m,\n",
    "#                                                       classifier_setting_f=classifier_setting_f,\n",
    "#                                                       warp_setting=warp_setting, suffix='structures', timestamp=timestamp)\n",
    "# save_hdf_v2(structure_entries, structures_df_fp)\n",
    "# upload_to_s3(structures_df_fp)   "
   ]
  },
  {
   "cell_type": "code",
   "execution_count": 26,
   "metadata": {},
   "outputs": [
    {
     "name": "stdout",
     "output_type": "stream",
     "text": [
      "'No object named structures in the file'\n"
     ]
    },
    {
     "name": "stderr",
     "output_type": "stream",
     "text": [
      "Annotation has no structures.\n"
     ]
    }
   ],
   "source": [
    "# Load annotations created by human\n",
    "contours_df, _ = DataManager.load_annotation_v3(stack='MD594', by_human=True)"
   ]
  },
  {
   "cell_type": "code",
   "execution_count": 5,
   "metadata": {
    "collapsed": true
   },
   "outputs": [],
   "source": [
    "# Load annotations created by our system.\n",
    "contours_df, structures_df = DataManager.load_annotation_v3(stack_m='atlasV3', by_human=False, \n",
    "                                                      stack='MD635', \n",
    "                                            classifier_setting_m=classifier_id, \n",
    "                                            classifier_setting_f=classifier_id, \n",
    "                                            warp_setting=warp_setting)"
   ]
  },
  {
   "cell_type": "code",
   "execution_count": 6,
   "metadata": {
    "scrolled": false
   },
   "outputs": [
    {
     "name": "stdout",
     "output_type": "stream",
     "text": [
      "[192, 193, 194, 195, 196, 197, 198, 214, 216, 217, 218, 219, 220, 221]\n"
     ]
    }
   ],
   "source": [
    "print sorted(contours_df[contours_df['name'] == '4N']['section'])"
   ]
  },
  {
   "cell_type": "code",
   "execution_count": 8,
   "metadata": {},
   "outputs": [
    {
     "name": "stdout",
     "output_type": "stream",
     "text": [
      "[75, 76, 77, 78, 79, 80, 81, 82, 83, 84, 85, 86, 87, 88, 89, 90, 91, 92, 94, 95, 96, 97, 98, 99, 100, 101, 102, 103, 104, 105, 106, 107, 108, 109, 110, 111, 113, 114, 115, 116, 117, 118, 119, 120, 121, 122, 123, 124, 125, 126, 127, 128, 129, 130, 131, 132, 133, 134, 135, 136, 137, 138, 139, 141, 142, 143, 144, 145, 146, 147, 148, 149, 150, 151, 152, 153, 154, 155, 157, 158, 159, 160, 161, 162, 163, 164, 165, 166, 167, 168, 169, 170, 171, 172, 173, 174, 175, 176, 177, 178, 179, 180, 181, 182, 183, 184, 185, 186, 187, 188, 189, 190, 191, 192, 193, 194, 195, 196, 197, 198, 199, 200, 201, 202, 203, 204, 206, 207, 208, 209, 210, 211, 212, 213, 214, 216, 217, 218, 219, 220, 221, 222, 223, 224, 225, 226, 227, 228, 229, 230, 231, 233, 234, 235, 236, 237, 238, 239, 240, 241, 242, 243, 244, 245, 246, 247, 248, 249, 250, 251, 252, 253, 254, 255, 256, 257, 258, 259, 260, 261, 262, 263, 264, 265, 266, 267, 268, 269, 270, 271, 272, 273, 274, 275, 276, 277, 278, 279, 280, 281, 282, 283, 284, 285, 286, 287, 288, 289, 290, 291, 292, 293, 294, 295, 296, 297, 298, 299, 300, 301, 302, 303, 304, 305, 306, 307, 308, 309, 310, 311, 312, 313, 314, 315, 316, 317, 318, 319, 320, 321, 322, 323, 324, 325, 326, 327, 328, 329, 330, 331, 332, 333, 334, 335, 336, 337, 338, 339, 340, 341, 342, 343, 344, 345, 346, 347, 348, 349, 350, 351, 352, 353, 354, 355, 356, 357, 358, 359, 360, 361, 362, 363, 364, 365]\n"
     ]
    }
   ],
   "source": [
    "print metadata_cache['valid_sections']['MD635']"
   ]
  },
  {
   "cell_type": "markdown",
   "metadata": {},
   "source": [
    "# Generate structure annotation to grid index lookup"
   ]
  },
  {
   "cell_type": "code",
   "execution_count": 15,
   "metadata": {
    "scrolled": true
   },
   "outputs": [
    {
     "name": "stdout",
     "output_type": "stream",
     "text": [
      "rm -rf /shared/CSHL_data_processed/MD635/MD635_alignedTo_MD635-F63-2016.05.19-08.39.03_MD635_2_0188_masks && mkdir -p /shared/CSHL_data_processed/MD635\n",
      "aws s3 cp --recursive s3://mousebrainatlas-data/CSHL_data_processed/MD635/MD635_alignedTo_MD635-F63-2016.05.19-08.39.03_MD635_2_0188_masks /shared/CSHL_data_processed/MD635/MD635_alignedTo_MD635-F63-2016.05.19-08.39.03_MD635_2_0188_masks\n"
     ]
    },
    {
     "name": "stderr",
     "output_type": "stream",
     "text": [
      "Child returned 0\n",
      "Child returned 0\n",
      "2.79 seconds.\n",
      "Computing grid indices lookup for section 77...\n",
      "Computing grid indices lookup for section 78...\n",
      "Computing grid indices lookup for section 79...\n",
      "Computing grid indices lookup for section 80...\n",
      "Computing grid indices lookup for section 81...\n",
      "Computing grid indices lookup for section 82...\n",
      "Computing grid indices lookup for section 83...\n",
      "Computing grid indices lookup for section 84...\n",
      "Computing grid indices lookup for section 85...\n",
      "Computing grid indices lookup for section 86...\n",
      "Computing grid indices lookup for section 87...\n",
      "Computing grid indices lookup for section 88...\n",
      "Computing grid indices lookup for section 89...\n",
      "Computing grid indices lookup for section 90...\n",
      "Computing grid indices lookup for section 91...\n",
      "Computing grid indices lookup for section 92...\n",
      "Computing grid indices lookup for section 94...\n",
      "Computing grid indices lookup for section 95...\n",
      "Computing grid indices lookup for section 96...\n",
      "Computing grid indices lookup for section 97...\n",
      "Computing grid indices lookup for section 98...\n",
      "Computing grid indices lookup for section 99...\n",
      "Computing grid indices lookup for section 100...\n",
      "Computing grid indices lookup for section 101...\n",
      "Computing grid indices lookup for section 102...\n",
      "Computing grid indices lookup for section 103...\n",
      "Computing grid indices lookup for section 104...\n",
      "Computing grid indices lookup for section 105...\n",
      "Computing grid indices lookup for section 106...\n",
      "Computing grid indices lookup for section 107...\n",
      "Computing grid indices lookup for section 108...\n",
      "Computing grid indices lookup for section 109...\n",
      "Computing grid indices lookup for section 110...\n",
      "Computing grid indices lookup for section 111...\n",
      "Computing grid indices lookup for section 113...\n",
      "Computing grid indices lookup for section 114...\n",
      "Computing grid indices lookup for section 115...\n",
      "Computing grid indices lookup for section 116...\n",
      "Computing grid indices lookup for section 117...\n",
      "Computing grid indices lookup for section 118...\n",
      "Computing grid indices lookup for section 119...\n",
      "Computing grid indices lookup for section 120...\n",
      "Computing grid indices lookup for section 121...\n",
      "Computing grid indices lookup for section 122...\n",
      "Computing grid indices lookup for section 123...\n",
      "Computing grid indices lookup for section 124...\n",
      "Computing grid indices lookup for section 125...\n",
      "Computing grid indices lookup for section 126...\n",
      "Computing grid indices lookup for section 127...\n",
      "Computing grid indices lookup for section 128...\n",
      "Computing grid indices lookup for section 129...\n",
      "Computing grid indices lookup for section 130...\n",
      "Computing grid indices lookup for section 131...\n",
      "Computing grid indices lookup for section 132...\n",
      "Computing grid indices lookup for section 133...\n",
      "Computing grid indices lookup for section 134...\n",
      "Computing grid indices lookup for section 135...\n",
      "Computing grid indices lookup for section 136...\n",
      "Computing grid indices lookup for section 137...\n",
      "Computing grid indices lookup for section 138...\n",
      "Computing grid indices lookup for section 139...\n",
      "Computing grid indices lookup for section 141...\n",
      "Computing grid indices lookup for section 142...\n",
      "Computing grid indices lookup for section 143...\n",
      "Computing grid indices lookup for section 144...\n",
      "Computing grid indices lookup for section 145...\n",
      "Computing grid indices lookup for section 146...\n",
      "Computing grid indices lookup for section 147...\n",
      "Computing grid indices lookup for section 148...\n",
      "Computing grid indices lookup for section 149...\n",
      "Computing grid indices lookup for section 150...\n",
      "Computing grid indices lookup for section 151...\n",
      "Computing grid indices lookup for section 152...\n",
      "Computing grid indices lookup for section 153...\n",
      "Computing grid indices lookup for section 154...\n",
      "Computing grid indices lookup for section 155...\n",
      "Computing grid indices lookup for section 157...\n",
      "Computing grid indices lookup for section 158...\n",
      "Computing grid indices lookup for section 159...\n",
      "Computing grid indices lookup for section 160...\n",
      "Computing grid indices lookup for section 161...\n",
      "Computing grid indices lookup for section 162...\n",
      "Computing grid indices lookup for section 163...\n",
      "Computing grid indices lookup for section 164...\n",
      "Computing grid indices lookup for section 165...\n",
      "Computing grid indices lookup for section 166...\n",
      "Computing grid indices lookup for section 167...\n",
      "Computing grid indices lookup for section 168...\n",
      "Computing grid indices lookup for section 169...\n",
      "Computing grid indices lookup for section 170...\n",
      "Computing grid indices lookup for section 171...\n",
      "Computing grid indices lookup for section 172...\n",
      "Computing grid indices lookup for section 173...\n",
      "Computing grid indices lookup for section 174...\n",
      "Computing grid indices lookup for section 175...\n",
      "Computing grid indices lookup for section 176...\n",
      "Computing grid indices lookup for section 177...\n",
      "Computing grid indices lookup for section 178...\n",
      "Computing grid indices lookup for section 179...\n",
      "Computing grid indices lookup for section 180...\n",
      "Computing grid indices lookup for section 181...\n",
      "Computing grid indices lookup for section 182...\n",
      "Computing grid indices lookup for section 183...\n",
      "Computing grid indices lookup for section 184...\n",
      "Computing grid indices lookup for section 185...\n",
      "Computing grid indices lookup for section 186...\n",
      "Computing grid indices lookup for section 187...\n",
      "Computing grid indices lookup for section 188...\n",
      "Computing grid indices lookup for section 189...\n",
      "Computing grid indices lookup for section 190...\n",
      "Computing grid indices lookup for section 191...\n",
      "Computing grid indices lookup for section 192...\n",
      "Computing grid indices lookup for section 193...\n",
      "Computing grid indices lookup for section 194...\n",
      "Computing grid indices lookup for section 195...\n",
      "Computing grid indices lookup for section 196...\n",
      "Computing grid indices lookup for section 197...\n",
      "Computing grid indices lookup for section 198...\n",
      "Computing grid indices lookup for section 199...\n",
      "Computing grid indices lookup for section 200...\n",
      "Computing grid indices lookup for section 201...\n",
      "Computing grid indices lookup for section 202...\n",
      "Computing grid indices lookup for section 203...\n",
      "Computing grid indices lookup for section 204...\n",
      "Computing grid indices lookup for section 206...\n",
      "Computing grid indices lookup for section 207...\n",
      "Computing grid indices lookup for section 208...\n",
      "Computing grid indices lookup for section 209...\n",
      "Computing grid indices lookup for section 210...\n",
      "Computing grid indices lookup for section 211...\n",
      "Computing grid indices lookup for section 212...\n",
      "Computing grid indices lookup for section 213...\n",
      "Computing grid indices lookup for section 214...\n",
      "Computing grid indices lookup for section 216...\n",
      "Computing grid indices lookup for section 217...\n",
      "Computing grid indices lookup for section 218...\n",
      "Computing grid indices lookup for section 219...\n",
      "Computing grid indices lookup for section 220...\n",
      "Computing grid indices lookup for section 221...\n",
      "Computing grid indices lookup for section 222...\n",
      "Computing grid indices lookup for section 223...\n",
      "Computing grid indices lookup for section 224...\n",
      "Computing grid indices lookup for section 225...\n",
      "Computing grid indices lookup for section 226...\n",
      "Computing grid indices lookup for section 227...\n",
      "Computing grid indices lookup for section 228...\n",
      "Computing grid indices lookup for section 229...\n",
      "Computing grid indices lookup for section 230...\n",
      "Computing grid indices lookup for section 231...\n",
      "Computing grid indices lookup for section 233...\n",
      "Computing grid indices lookup for section 234...\n",
      "Computing grid indices lookup for section 235...\n",
      "Computing grid indices lookup for section 236...\n",
      "Computing grid indices lookup for section 237...\n",
      "Computing grid indices lookup for section 238...\n",
      "Computing grid indices lookup for section 239...\n",
      "Computing grid indices lookup for section 240...\n",
      "Computing grid indices lookup for section 241...\n",
      "Computing grid indices lookup for section 242...\n",
      "Computing grid indices lookup for section 243...\n",
      "Computing grid indices lookup for section 244...\n",
      "Computing grid indices lookup for section 245...\n",
      "Computing grid indices lookup for section 246...\n",
      "Computing grid indices lookup for section 247...\n",
      "Computing grid indices lookup for section 248...\n",
      "Computing grid indices lookup for section 249...\n",
      "Computing grid indices lookup for section 250...\n"
     ]
    },
    {
     "name": "stderr",
     "output_type": "stream",
     "text": [
      "Computing grid indices lookup for section 251...\n",
      "Computing grid indices lookup for section 252...\n",
      "Computing grid indices lookup for section 253...\n",
      "Computing grid indices lookup for section 254...\n",
      "Computing grid indices lookup for section 255...\n",
      "Computing grid indices lookup for section 256...\n",
      "Computing grid indices lookup for section 257...\n",
      "Computing grid indices lookup for section 258...\n",
      "Computing grid indices lookup for section 259...\n",
      "Computing grid indices lookup for section 260...\n",
      "Computing grid indices lookup for section 261...\n",
      "Computing grid indices lookup for section 262...\n",
      "Computing grid indices lookup for section 263...\n",
      "Computing grid indices lookup for section 264...\n",
      "Computing grid indices lookup for section 265...\n",
      "Computing grid indices lookup for section 266...\n",
      "Computing grid indices lookup for section 267...\n",
      "Computing grid indices lookup for section 268...\n",
      "Computing grid indices lookup for section 269...\n",
      "Computing grid indices lookup for section 270...\n",
      "Computing grid indices lookup for section 271...\n",
      "Computing grid indices lookup for section 272...\n",
      "Computing grid indices lookup for section 273...\n",
      "Computing grid indices lookup for section 274...\n",
      "Computing grid indices lookup for section 275...\n",
      "Computing grid indices lookup for section 276...\n",
      "Computing grid indices lookup for section 277...\n",
      "Computing grid indices lookup for section 278...\n",
      "Computing grid indices lookup for section 279...\n",
      "Computing grid indices lookup for section 280...\n",
      "Computing grid indices lookup for section 281...\n",
      "Computing grid indices lookup for section 282...\n",
      "Computing grid indices lookup for section 283...\n",
      "Computing grid indices lookup for section 284...\n",
      "Computing grid indices lookup for section 285...\n",
      "Computing grid indices lookup for section 286...\n",
      "Computing grid indices lookup for section 287...\n",
      "Computing grid indices lookup for section 288...\n",
      "Computing grid indices lookup for section 289...\n",
      "Computing grid indices lookup for section 290...\n",
      "Computing grid indices lookup for section 291...\n",
      "Computing grid indices lookup for section 292...\n",
      "Computing grid indices lookup for section 293...\n",
      "Computing grid indices lookup for section 294...\n",
      "Computing grid indices lookup for section 295...\n",
      "Computing grid indices lookup for section 296...\n",
      "Computing grid indices lookup for section 297...\n",
      "Computing grid indices lookup for section 298...\n",
      "Computing grid indices lookup for section 299...\n",
      "Computing grid indices lookup for section 300...\n",
      "Computing grid indices lookup for section 301...\n",
      "Computing grid indices lookup for section 302...\n",
      "Computing grid indices lookup for section 303...\n",
      "Computing grid indices lookup for section 304...\n",
      "Computing grid indices lookup for section 305...\n",
      "Computing grid indices lookup for section 306...\n",
      "Computing grid indices lookup for section 307...\n",
      "Computing grid indices lookup for section 308...\n",
      "Computing grid indices lookup for section 309...\n",
      "Computing grid indices lookup for section 310...\n",
      "Computing grid indices lookup for section 311...\n",
      "Computing grid indices lookup for section 312...\n",
      "Computing grid indices lookup for section 313...\n",
      "Computing grid indices lookup for section 314...\n",
      "Computing grid indices lookup for section 315...\n",
      "Computing grid indices lookup for section 316...\n",
      "Computing grid indices lookup for section 317...\n",
      "Computing grid indices lookup for section 318...\n",
      "Computing grid indices lookup for section 319...\n",
      "Computing grid indices lookup for section 320...\n",
      "Computing grid indices lookup for section 321...\n",
      "Computing grid indices lookup for section 322...\n",
      "Computing grid indices lookup for section 323...\n",
      "Computing grid indices lookup for section 324...\n",
      "Computing grid indices lookup for section 325...\n",
      "Computing grid indices lookup for section 326...\n",
      "Computing grid indices lookup for section 327...\n",
      "Computing grid indices lookup for section 328...\n",
      "Computing grid indices lookup for section 329...\n",
      "Computing grid indices lookup for section 330...\n",
      "Computing grid indices lookup for section 331...\n",
      "Computing grid indices lookup for section 332...\n",
      "Computing grid indices lookup for section 333...\n",
      "Computing grid indices lookup for section 334...\n",
      "Computing grid indices lookup for section 335...\n",
      "Computing grid indices lookup for section 336...\n",
      "Computing grid indices lookup for section 337...\n",
      "Computing grid indices lookup for section 338...\n",
      "Computing grid indices lookup for section 339...\n",
      "Computing grid indices lookup for section 340...\n",
      "Computing grid indices lookup for section 341...\n",
      "Computing grid indices lookup for section 342...\n",
      "Computing grid indices lookup for section 343...\n",
      "Computing grid indices lookup for section 344...\n",
      "Computing grid indices lookup for section 345...\n",
      "Computing grid indices lookup for section 346...\n",
      "Computing grid indices lookup for section 347...\n",
      "Computing grid indices lookup for section 348...\n",
      "Computing grid indices lookup for section 349...\n",
      "Computing grid indices lookup for section 350...\n",
      "Computing grid indices lookup for section 351...\n",
      "Computing grid indices lookup for section 352...\n",
      "Computing grid indices lookup for section 353...\n",
      "Computing grid indices lookup for section 354...\n",
      "Computing grid indices lookup for section 355...\n",
      "Computing grid indices lookup for section 356...\n",
      "Computing grid indices lookup for section 357...\n",
      "Computing grid indices lookup for section 358...\n",
      "Computing grid indices lookup for section 359...\n",
      "Computing grid indices lookup for section 360...\n",
      "Computing grid indices lookup for section 361...\n",
      "Computing grid indices lookup for section 362...\n",
      "Computing grid indices lookup for section 363...\n",
      "Computing grid indices lookup for section 364...\n",
      "Computing grid indices lookup for section 365...\n"
     ]
    }
   ],
   "source": [
    "from learning_utilities import generate_annotation_to_grid_indices_lookup\n",
    "grid_index_lookup = generate_annotation_to_grid_indices_lookup(stack_m='atlasV3', by_human=False, stack='MD635', \n",
    "                                            classifier_setting_m=classifier_id, \n",
    "                                            classifier_setting_f=classifier_id, \n",
    "                                            warp_setting=warp_setting, \n",
    "                                                               surround_margins=[500])"
   ]
  },
  {
   "cell_type": "code",
   "execution_count": 21,
   "metadata": {
    "scrolled": true
   },
   "outputs": [
    {
     "name": "stdout",
     "output_type": "stream",
     "text": [
      "aws s3 cp /shared/CSHL_labelings_v3/MD635/annotation_atlasV3_down32_scoreVolume_clf_37_warp_8_MD635_down32_scoreVolume_clf_37_grid_indices_lookup.hdf s3://mousebrainatlas-data/CSHL_labelings_v3/MD635/annotation_atlasV3_down32_scoreVolume_clf_37_warp_8_MD635_down32_scoreVolume_clf_37_grid_indices_lookup.hdf\n"
     ]
    },
    {
     "name": "stderr",
     "output_type": "stream",
     "text": [
      "Child returned 0\n",
      "3.84 seconds.\n"
     ]
    }
   ],
   "source": [
    "grid_indices_lookup_fp = DataManager.get_annotation_to_grid_indices_lookup_filepath(stack_m='atlasV3', \n",
    "                                                                                    by_human=False, stack='MD635', \n",
    "                                            classifier_setting_m=classifier_id, \n",
    "                                            classifier_setting_f=classifier_id, \n",
    "                                            warp_setting=warp_setting)\n",
    "save_hdf_v2(grid_index_lookup, grid_indices_lookup_fp)\n",
    "upload_to_s3(grid_indices_lookup_fp)"
   ]
  },
  {
   "cell_type": "markdown",
   "metadata": {},
   "source": [
    "# Upsample structure volumes"
   ]
  },
  {
   "cell_type": "code",
   "execution_count": 13,
   "metadata": {
    "collapsed": true
   },
   "outputs": [],
   "source": [
    "# Load annotations created by our system.\n",
    "contours_df, _ = DataManager.load_annotation_v3(stack_m='atlasV3', by_human=False, \n",
    "                                                      stack='MD635', \n",
    "                                            classifier_setting_m=classifier_id, \n",
    "                                            classifier_setting_f=classifier_id, \n",
    "                                            warp_setting=warp_setting)"
   ]
  },
  {
   "cell_type": "code",
   "execution_count": 15,
   "metadata": {
    "collapsed": true
   },
   "outputs": [],
   "source": [
    "volume_downsample = 8"
   ]
  },
  {
   "cell_type": "code",
   "execution_count": null,
   "metadata": {
    "collapsed": true
   },
   "outputs": [],
   "source": [
    "for s in all_known_structures_sided:\n",
    "    name_u, side, _, _ = parse_label(s)\n",
    "    contour_points_grouped_by_pos = {np.mean(DataManager.convert_section_to_z(stack='MD635', sec=p['section'], downsample=1)) / volume_downsample: \n",
    "                                     p['vertices'] / volume_downsample\n",
    "                                     for _, p in contours_df[(contours_df['name'] == name_u) & (contours_df['side'] == side)].iterrows()}\n",
    "    \n",
    "    if len(contour_points_grouped_by_pos) >= 2:\n",
    "        vol, bbox = interpolate_contours_to_volume(contour_points_grouped_by_pos, 'z')        \n",
    "    else:\n",
    "        sys.stderr.write('Cannot interpolate because there are fewer than two contours for structure %s.\\n' % (name_u, side))"
   ]
  }
 ],
 "metadata": {
  "kernelspec": {
   "display_name": "Python 2",
   "language": "python",
   "name": "python2"
  },
  "language_info": {
   "codemirror_mode": {
    "name": "ipython",
    "version": 2
   },
   "file_extension": ".py",
   "mimetype": "text/x-python",
   "name": "python",
   "nbconvert_exporter": "python",
   "pygments_lexer": "ipython2",
   "version": "2.7.12"
  }
 },
 "nbformat": 4,
 "nbformat_minor": 2
}
