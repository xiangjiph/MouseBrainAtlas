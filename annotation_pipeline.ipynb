{
 "cells": [
  {
   "cell_type": "code",
   "execution_count": 1,
   "metadata": {
    "scrolled": true
   },
   "outputs": [
    {
     "name": "stdout",
     "output_type": "stream",
     "text": [
      "Setting environment for Local Macbook Pro\n"
     ]
    }
   ],
   "source": [
    "%load_ext autoreload\n",
    "%autoreload 2\n",
    "\n",
    "import os\n",
    "import time\n",
    "import sys\n",
    "\n",
    "sys.path.append(os.path.join(os.environ['REPO_DIR'], 'utilities'))\n",
    "from utilities2015 import *\n",
    "from metadata import *\n",
    "from data_manager import *\n",
    "from distributed_utilities import *\n",
    "from preprocess_utilities import *\n",
    "from annotation_utilities import *"
   ]
  },
  {
   "cell_type": "markdown",
   "metadata": {},
   "source": [
    "- Draw annotations. Generate labelings in `CSHL_labelings_v3/<stack>/<stack>_annotation_v3.h5`.\n",
    "- Visualize annotation contours on top of histological images with `visualize_annotations_v4.ipynb`.\n",
    "- Construct annotation volume from labelings using `construct_annotationVolume_from_annotationFiles_v4`.\n",
    "- Compute gradients with `/reconstruct/compute_score_volume_gradient_new.py`.\n",
    "\n",
    "- Align annotated stacks `align_annotated_brains_v4`\n",
    "- Generate 3D mesh for all structures in annotation volumes `visualize_annotationVolume_v2`"
   ]
  }
 ],
 "metadata": {
  "kernelspec": {
   "display_name": "Python 2",
   "language": "python",
   "name": "python2"
  },
  "language_info": {
   "codemirror_mode": {
    "name": "ipython",
    "version": 2
   },
   "file_extension": ".py",
   "mimetype": "text/x-python",
   "name": "python",
   "nbconvert_exporter": "python",
   "pygments_lexer": "ipython2",
   "version": "2.7.12"
  }
 },
 "nbformat": 4,
 "nbformat_minor": 2
}
