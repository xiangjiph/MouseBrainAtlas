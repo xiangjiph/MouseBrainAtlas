{
 "cells": [
  {
   "cell_type": "code",
   "execution_count": 16,
   "metadata": {},
   "outputs": [],
   "source": [
    "# This is an experiment notebook.\n",
    "# Finalized functions are in utilities/visualization_utilities.py\n",
    "\n",
    "%reload_ext autoreload\n",
    "%autoreload 2\n",
    "\n",
    "import cv2\n",
    "\n",
    "import os\n",
    "import sys\n",
    "sys.path.append(os.path.join(os.environ['REPO_DIR'], 'utilities'))\n",
    "from utilities2015 import *\n",
    "\n",
    "from collections import defaultdict\n",
    "\n",
    "from matplotlib.path import Path\n",
    "%matplotlib inline\n",
    "\n",
    "from joblib import Parallel, delayed\n",
    "import time\n",
    "\n",
    "from skimage.transform import rescale"
   ]
  },
  {
   "cell_type": "code",
   "execution_count": 17,
   "metadata": {},
   "outputs": [],
   "source": [
    "def scoremap_overlay(stack, sec, name, downscale_factor, image_shape=None, return_mask=True):\n",
    "    '''\n",
    "    Generate scoremap of structure.\n",
    "    name: name\n",
    "    image_shape: (w, h)\n",
    "    '''\n",
    "    \n",
    "    if image_shape is None:\n",
    "        w, h = DataManager(stack=stack).get_image_dimension()\n",
    "    else:\n",
    "        w, h = image_shape\n",
    "            \n",
    "    scoremap_bp_filepath = scoremaps_rootdir + '/%(stack)s/%(slice)04d/%(stack)s_%(slice)04d_roi1_denseScoreMapLossless_%(label)s.hdf' \\\n",
    "        % {'stack': stack, 'slice': sec, 'label': name}\n",
    "\n",
    "    if not os.path.exists(scoremap_bp_filepath):\n",
    "        sys.stderr.write('No scoremap for %s for section %d\\n' % (name, sec))\n",
    "        return\n",
    "\n",
    "    scoremap = load_hdf(scoremap_bp_filepath)\n",
    "    \n",
    "    interpolation_xmin, interpolation_xmax, \\\n",
    "    interpolation_ymin, interpolation_ymax = np.loadtxt(os.path.join(scoremaps_rootdir, \n",
    "                 '%(stack)s/%(sec)04d/%(stack)s_%(sec)04d_roi1_denseScoreMapLossless_%(label)s_interpBox.txt' % \\\n",
    "                                                     {'stack': stack, 'sec': sec, 'label': name})).astype(np.int)\n",
    "\n",
    "    dense_score_map_lossless = np.zeros((h, w))\n",
    "    dense_score_map_lossless[interpolation_ymin:interpolation_ymax+1,\n",
    "                             interpolation_xmin:interpolation_xmax+1] = scoremap\n",
    "    \n",
    "    mask = dense_score_map_lossless > 0.\n",
    "    \n",
    "    scoremap_viz = plt.cm.hot(dense_score_map_lossless[::downscale_factor, ::downscale_factor])[..., :3]\n",
    "    viz = img_as_ubyte(scoremap_viz)\n",
    "    \n",
    "    if return_mask:\n",
    "        return viz, mask\n",
    "    else:\n",
    "        return viz"
   ]
  },
  {
   "cell_type": "code",
   "execution_count": 18,
   "metadata": {
    "collapsed": true
   },
   "outputs": [],
   "source": [
    "def scoremap_overlay_on(bg, stack, sec, name, downscale_factor, export_filepath=None, label_text=True):\n",
    "    \n",
    "    if bg == 'original':\n",
    "        p = DataManager.get_image_filepath(stack=stack, section=sec, version='rgb-jpg')\n",
    "        bg = imread(p)\n",
    "\n",
    "    ret = scoremap_overlay(stack, sec, name, downscale_factor, image_shape=bg.shape[:2])\n",
    "    \n",
    "    if ret is None:\n",
    "        return None\n",
    "    \n",
    "    scoremap_viz, mask = ret\n",
    "    \n",
    "    m = mask[::downscale_factor, ::downscale_factor]\n",
    "    \n",
    "    viz = bg[::downscale_factor, ::downscale_factor].copy()\n",
    "    viz[m] = (.3 * img_as_ubyte(scoremap_viz[m, :3]) + .7 * viz[m]).astype(np.uint8)\n",
    "    \n",
    "    # put label name at left upper corner\n",
    "    if label_text:\n",
    "        cv2.putText(viz, name, (50, 50), cv2.FONT_HERSHEY_DUPLEX, 2, ((0,0,0)), 3)\n",
    "\n",
    "    # export image to disk\n",
    "    if export_filepath is not None:\n",
    "        create_if_not_exists(os.path.dirname(export_filepath))\n",
    "        cv2.imwrite(export_filepath, img_as_ubyte(viz[..., [2,1,0]]))\n",
    "        \n",
    "    return viz"
   ]
  },
  {
   "cell_type": "code",
   "execution_count": 19,
   "metadata": {
    "collapsed": true
   },
   "outputs": [],
   "source": [
    "def export_scoremaps_worker(bg, stack, sec, names, downscale_factor, export_filepath_fmt=None, label_text=True):\n",
    "    \n",
    "    if bg == 'original':\n",
    "        img = imread(DataManager.get_image_filepath(stack=stack, section=sec, version='rgb-jpg'))\n",
    "\n",
    "    for name in names:\n",
    "        export_filepath = export_filepath_fmt % {'stack': stack, 'sec': sec, 'name': name}\n",
    "        scoremap_overlay_on(img, stack, sec, name, downscale_factor, export_filepath, label_text)"
   ]
  },
  {
   "cell_type": "code",
   "execution_count": 20,
   "metadata": {
    "collapsed": true
   },
   "outputs": [],
   "source": [
    "def export_scoremaps(bg, stack, sections, names, downscale_factor, export_filepath_fmt=None, label_text=True):\n",
    "    \n",
    "    t = time.time()\n",
    "    \n",
    "    Parallel(n_jobs=8)(delayed(export_scoremaps_worker)(bg, stack, sec, names, downscale_factor, \n",
    "                                                        export_filepath_fmt=export_filepath_fmt, \n",
    "                                                        label_text=label_text) \n",
    "                       for sec in sections)\n",
    "    \n",
    "    print time.time() - t\n",
    "    \n",
    "#     for sec in sections:\n",
    "#         if bg == 'original':\n",
    "#             img = imread(DataManager.get_image_filepath(stack=stack, section=sec, version='rgb-jpg'))\n",
    "\n",
    "#         for name in names:\n",
    "#             export_filepath = export_filepath_fmt % {'stack': stack, 'sec': sec, 'name': name}\n",
    "#             scoremap_overlay_on(img, stack, sec, name, downscale_factor, export_filepath, label_text)"
   ]
  },
  {
   "cell_type": "code",
   "execution_count": 70,
   "metadata": {},
   "outputs": [
    {
     "name": "stdout",
     "output_type": "stream",
     "text": [
      "4.75361585617\n"
     ]
    },
    {
     "name": "stderr",
     "output_type": "stream",
     "text": [
      "/oasis/projects/nsf/csd181/yuncong/virtualenv-1.9.1/yuncongve/lib/python2.7/site-packages/skimage/util/dtype.py:110: UserWarning: Possible precision loss when converting from float64 to uint8\n",
      "  \"%s to %s\" % (dtypeobj_in, dtypeobj))\n"
     ]
    }
   ],
   "source": [
    "t = time.time()\n",
    "viz = scoremap_overlay_on('original', stack, 156, '7N', 8)\n",
    "print time.time() - t\n",
    "display_image(viz)"
   ]
  },
  {
   "cell_type": "code",
   "execution_count": 71,
   "metadata": {},
   "outputs": [
    {
     "data": {
      "text/html": [
       "<a href='tmp.jpg' target='_blank'>tmp.jpg</a><br>"
      ],
      "text/plain": [
       "/oasis/projects/nsf/csd395/yuncong/Brain/vis/tmp.jpg"
      ]
     },
     "execution_count": 71,
     "metadata": {},
     "output_type": "execute_result"
    }
   ],
   "source": [
    "display_image(viz)"
   ]
  },
  {
   "cell_type": "code",
   "execution_count": null,
   "metadata": {
    "scrolled": true
   },
   "outputs": [],
   "source": [
    "# for stack in all_stacks:\n",
    "for stack in ['MD603']:\n",
    "\n",
    "    first_sec, last_sec = section_range_lookup[stack]\n",
    "\n",
    "    export_filepath_fmt = scoremapViz_rootdir + '/%(name)s/%(stack)s/%(stack)s_%(sec)04d_roi1_scoremapViz_%(name)s.jpg'\n",
    "    export_scoremaps('original', stack, range(first_sec, last_sec+1), ['7N', '5N'], 8, \n",
    "                     export_filepath_fmt=export_filepath_fmt, label_text=True)"
   ]
  },
  {
   "cell_type": "code",
   "execution_count": 21,
   "metadata": {},
   "outputs": [],
   "source": [
    "def get_labeling_list():\n",
    "    \n",
    "    from collections import defaultdict\n",
    "    import pandas as pd\n",
    "\n",
    "    labeling_list = defaultdict(lambda: defaultdict(lambda: defaultdict(list)))\n",
    "    for stack in os.listdir(os.environ['LABELING_DIR']):\n",
    "        if os.path.isdir(os.path.join(os.environ['LABELING_DIR'], stack)):\n",
    "            for sec in sorted(os.listdir(os.path.join(os.environ['LABELING_DIR'], stack))):\n",
    "                for labeling_fn in os.listdir(os.path.join(os.environ['LABELING_DIR'], stack, sec)):\n",
    "                    user = labeling_fn.split('_')[2]\n",
    "                    labeling_list[stack][int(sec)][user].append(labeling_fn)\n",
    "\n",
    "#     labeling_list.default_factory = None\n",
    "    \n",
    "    reformed = {(stack, sec): labeling_list[stack][sec] for stack, secs in labeling_list.iteritems() for sec in secs }\n",
    "    df = pd.DataFrame(reformed)\n",
    "    \n",
    "    return df"
   ]
  },
  {
   "cell_type": "code",
   "execution_count": 22,
   "metadata": {},
   "outputs": [],
   "source": [
    "labeling_list = get_labeling_list()"
   ]
  },
  {
   "cell_type": "code",
   "execution_count": 23,
   "metadata": {},
   "outputs": [],
   "source": [
    "def load_annotation(stack, section, username=None, timestamp='latest', path_only=False):\n",
    "\n",
    "    import cPickle as pickle\n",
    "    from itertools import chain\n",
    "    \n",
    "    try:\n",
    "        if timestamp == 'latest':\n",
    "            if username is None:\n",
    "                annotation_names = list(chain.from_iterable(labeling_list[stack][section].dropna().__iter__()))\n",
    "                annotation_name = sorted(annotation_names)[-1]\n",
    "            else:\n",
    "                annotation_name = sorted(labeling_list[stack][section][username])[-1]\n",
    "\n",
    "            _, _, _, timestamp, _ = annotation_name.split('_')\n",
    "        else:\n",
    "            sys.stderr.write('Timestamp is not latest, not implemented.\\n')\n",
    "            return\n",
    "            \n",
    "    except Exception as e:\n",
    "        sys.stderr.write('Annotation does not exist: %s, %d, %s, %s\\n' % (stack, section, username, timestamp))\n",
    "        return\n",
    "        \n",
    "    annotation_filepath = os.path.join(os.environ['LABELING_DIR'], stack, '%04d'%section, annotation_name)\n",
    "    \n",
    "    if path_only:\n",
    "        return annotation_filepath\n",
    "    else:        \n",
    "        return pickle.load(open(annotation_filepath, 'r')), timestamp"
   ]
  },
  {
   "cell_type": "code",
   "execution_count": 24,
   "metadata": {
    "collapsed": true
   },
   "outputs": [],
   "source": [
    "def annotation_overlay_on(bg, stack, section, structure_names=None, downscale_factor=8, \n",
    "                          users=['yuncong', 'autoAnnotate'], colors=None, show_labels=True,\n",
    "                         export_filepath_fmt=None):\n",
    "        \n",
    "    annotations = {}\n",
    "    timestamps = {}\n",
    "    \n",
    "    if colors is None:\n",
    "        colors = [(0,0,255), (255,0,0), (0,255,0)]\n",
    "    \n",
    "    for user in users:\n",
    "        ret = load_annotation(stack=stack, section=section, username=user)\n",
    "        if ret is not None:\n",
    "            annotations[user] = ret[0]\n",
    "            timestamps[user] = ret[1]\n",
    "    \n",
    "    if len(annotations) == 0:\n",
    "        return\n",
    "        \n",
    "    if bg == 'original':\n",
    "        bg = imread(DataManager.get_image_filepath(stack=stack, section=section, version='rgb-jpg'))\n",
    "        viz = bg[::downscale_factor, ::downscale_factor].copy()\n",
    "    else:\n",
    "        viz = bg.copy()\n",
    "\n",
    "    added_labels = set([])\n",
    "            \n",
    "    for user, anns in annotations.iteritems():\n",
    "        for ann in anns:\n",
    "            \n",
    "            if structure_names is not None and ann['label'] not in structure_names:\n",
    "                continue\n",
    "            \n",
    "#             vertices_ref = np.array(ann['vertices']) / downscale_factor\n",
    "            \n",
    "            vertices = np.array(ann['vertices']) / downscale_factor\n",
    "\n",
    "        #     for x,y in vertices:\n",
    "        #         cv2.circle(viz, (int(x), int(y)), 5, (255,0,0), -1)\n",
    "            cv2.polylines(viz, [vertices.astype(np.int)], True, colors[users.index(user)], 2)\n",
    "            \n",
    "            if show_labels:\n",
    "            \n",
    "                if ann['label'] not in added_labels:            \n",
    "                    lx, ly = np.array(ann['labelPos']) / downscale_factor\n",
    "                    cv2.putText(viz, ann['label'], (int(lx)-10, int(ly)+10), \n",
    "                                cv2.FONT_HERSHEY_DUPLEX, 1, ((0,0,0)), 2)\n",
    "                    \n",
    "                    added_labels.add(ann['label'])\n",
    "    \n",
    "    \n",
    "    if export_filepath_fmt is not None:\n",
    "        if len(structure_names) == 1:\n",
    "            export_filepath = export_filepath_fmt % {'stack': stack, 'sec': section, 'name': structure_names[0],\n",
    "                                                 'annofn': '_'.join(usr+'_'+ts for usr, ts in timestamps.iteritems())}\n",
    "        else:\n",
    "            export_filepath = export_filepath_fmt % {'stack': stack, 'sec': section, \n",
    "                                                 'annofn': '_'.join(usr+'_'+ts for usr, ts in timestamps.iteritems())}\n",
    "                        \n",
    "        create_if_not_exists(os.path.dirname(export_filepath))\n",
    "        cv2.imwrite(export_filepath, viz[..., ::-1])\n",
    "\n",
    "#     if ret is not None and ret_autoAnno is not None:\n",
    "#         output_fn = os.path.join(labelingViz_dir, \n",
    "#                      '%(stack)s_%(sec)04d_%(user)s_%(ts)s_%(user2)s_%(ts2)s_viz.jpg'% \\\n",
    "#                                  {'stack':stack, 'sec':sec, 'user': user, 'ts': ts, 'user2':user2, 'ts2':ts2})\n",
    "#     elif ret is not None:\n",
    "#         output_fn = os.path.join(labelingViz_dir, \n",
    "#                      '%(stack)s_%(sec)04d_%(user)s_%(ts)s_viz.jpg'% \\\n",
    "#                                  {'stack':stack, 'sec':sec, 'user': user, 'ts': ts})            \n",
    "#     else:\n",
    "#         output_fn = os.path.join(labelingViz_dir, \n",
    "#              '%(stack)s_%(sec)04d_%(user2)s_%(ts2)s_viz.jpg'% \\\n",
    "#                          {'stack':stack, 'sec':sec, 'user2': user2, 'ts2': ts2})\n",
    "            \n",
    "#     cv2.imwrite(output_fn, viz[..., ::-1])\n",
    "    \n",
    "    return viz"
   ]
  },
  {
   "cell_type": "code",
   "execution_count": 25,
   "metadata": {
    "collapsed": true
   },
   "outputs": [],
   "source": [
    "outputViz_rootdir = '/oasis/projects/nsf/csd395/yuncong/CSHL_scoremapPlusAnnotationViz'"
   ]
  },
  {
   "cell_type": "code",
   "execution_count": null,
   "metadata": {},
   "outputs": [],
   "source": [
    "# stack = 'MD594'\n",
    "# sec = 156\n",
    "\n",
    "# for name in set(labels_unsided) - {'outerContour'}:\n",
    "#     scoremap_overlaid = scoremap_overlay_on('original', stack, sec, name, 8)\n",
    "    \n",
    "#     export_filepath_fmt = outputViz_rootdir + '/%(name)s/%(stack)s/%(stack)s_%(sec)04d_roi1_scoremapPlusAnnotationViz_%(name)s_%(annofn)s.jpg'\n",
    "    \n",
    "#     annotation_overlaid = annotation_overlay_on(scoremap_overlaid, stack, sec, [name], 8,\n",
    "#                                                export_filepath_fmt=export_filepath_fmt)\n",
    "    "
   ]
  },
  {
   "cell_type": "code",
   "execution_count": 26,
   "metadata": {
    "collapsed": true
   },
   "outputs": [],
   "source": [
    "def export_scoremapPlusAnnotationVizs_worker(bg, stack, sec, names, downscale_factor, export_filepath_fmt=None):\n",
    "    \n",
    "    if bg == 'original':\n",
    "        img = imread(DataManager.get_image_filepath(stack=stack, section=sec, version='rgb-jpg'))\n",
    "\n",
    "    for name in names:\n",
    "        scoremap_overlaid = scoremap_overlay_on(img, stack, sec, name, downscale_factor, label_text=True)\n",
    "        annotation_overlaid = annotation_overlay_on(scoremap_overlaid, stack, sec, [name], 8,\n",
    "                                               export_filepath_fmt=export_filepath_fmt)"
   ]
  },
  {
   "cell_type": "code",
   "execution_count": 27,
   "metadata": {
    "collapsed": true
   },
   "outputs": [],
   "source": [
    "def export_scoremapPlusAnnotationVizs(bg, stack, sections, names, downscale_factor, export_filepath_fmt=None):\n",
    "    \n",
    "    Parallel(n_jobs=4)(delayed(export_scoremapPlusAnnotationVizs_worker)(bg, stack, sec, names, downscale_factor, \n",
    "                                                        export_filepath_fmt=export_filepath_fmt) \n",
    "                       for sec in sections)\n",
    "    \n",
    "#     for sec in sections:\n",
    "#         export_scoremapPlusAnnotationVizs_worker(bg, stack, sec, names, downscale_factor, \n",
    "#                                                         export_filepath_fmt=export_filepath_fmt)"
   ]
  },
  {
   "cell_type": "code",
   "execution_count": 15,
   "metadata": {
    "scrolled": true
   },
   "outputs": [
    {
     "name": "stdout",
     "output_type": "stream",
     "text": [
      "19.0049519539\n"
     ]
    },
    {
     "name": "stderr",
     "output_type": "stream",
     "text": [
      "/oasis/projects/nsf/csd181/yuncong/virtualenv-1.9.1/yuncongve/lib/python2.7/site-packages/PIL/Image.py:2224: DecompressionBombWarning: Image size (185917440 pixels) exceeds limit of 89478485 pixels, could be decompression bomb DOS attack.\n",
      "  DecompressionBombWarning)\n",
      "/oasis/projects/nsf/csd181/yuncong/virtualenv-1.9.1/yuncongve/lib/python2.7/site-packages/PIL/Image.py:2224: DecompressionBombWarning: Image size (185917440 pixels) exceeds limit of 89478485 pixels, could be decompression bomb DOS attack.\n",
      "  DecompressionBombWarning)\n",
      "/oasis/projects/nsf/csd181/yuncong/virtualenv-1.9.1/yuncongve/lib/python2.7/site-packages/PIL/Image.py:2224: DecompressionBombWarning: Image size (185917440 pixels) exceeds limit of 89478485 pixels, could be decompression bomb DOS attack.\n",
      "  DecompressionBombWarning)\n",
      "/oasis/projects/nsf/csd181/yuncong/virtualenv-1.9.1/yuncongve/lib/python2.7/site-packages/PIL/Image.py:2224: DecompressionBombWarning: Image size (185917440 pixels) exceeds limit of 89478485 pixels, could be decompression bomb DOS attack.\n",
      "  DecompressionBombWarning)\n",
      "/oasis/projects/nsf/csd181/yuncong/virtualenv-1.9.1/yuncongve/lib/python2.7/site-packages/ipykernel/__main__.py:3: FutureWarning: elementwise comparison failed; returning scalar instead, but in the future will perform elementwise comparison\n",
      "  app.launch_new_instance()\n",
      "/oasis/projects/nsf/csd181/yuncong/virtualenv-1.9.1/yuncongve/lib/python2.7/site-packages/ipykernel/__main__.py:3: FutureWarning: elementwise comparison failed; returning scalar instead, but in the future will perform elementwise comparison\n",
      "  app.launch_new_instance()\n",
      "/oasis/projects/nsf/csd181/yuncong/virtualenv-1.9.1/yuncongve/lib/python2.7/site-packages/ipykernel/__main__.py:3: FutureWarning: elementwise comparison failed; returning scalar instead, but in the future will perform elementwise comparison\n",
      "  app.launch_new_instance()\n",
      "/oasis/projects/nsf/csd181/yuncong/virtualenv-1.9.1/yuncongve/lib/python2.7/site-packages/ipykernel/__main__.py:3: FutureWarning: elementwise comparison failed; returning scalar instead, but in the future will perform elementwise comparison\n",
      "  app.launch_new_instance()\n",
      "/oasis/projects/nsf/csd181/yuncong/virtualenv-1.9.1/yuncongve/lib/python2.7/site-packages/skimage/util/dtype.py:110: UserWarning: Possible precision loss when converting from float64 to uint8\n",
      "  \"%s to %s\" % (dtypeobj_in, dtypeobj))\n",
      "/oasis/projects/nsf/csd181/yuncong/virtualenv-1.9.1/yuncongve/lib/python2.7/site-packages/skimage/util/dtype.py:110: UserWarning: Possible precision loss when converting from float64 to uint8\n",
      "  \"%s to %s\" % (dtypeobj_in, dtypeobj))\n",
      "/oasis/projects/nsf/csd181/yuncong/virtualenv-1.9.1/yuncongve/lib/python2.7/site-packages/skimage/util/dtype.py:110: UserWarning: Possible precision loss when converting from float64 to uint8\n",
      "  \"%s to %s\" % (dtypeobj_in, dtypeobj))\n",
      "/oasis/projects/nsf/csd181/yuncong/virtualenv-1.9.1/yuncongve/lib/python2.7/site-packages/skimage/util/dtype.py:110: UserWarning: Possible precision loss when converting from float64 to uint8\n",
      "  \"%s to %s\" % (dtypeobj_in, dtypeobj))\n",
      "Annotation does not exist: MD585, 162, yuncong, latest\n",
      "Annotation does not exist: MD585, 161, yuncong, latest\n",
      "Annotation does not exist: MD585, 163, yuncong, latest\n",
      "Annotation does not exist: MD585, 160, yuncong, latest\n",
      "/oasis/projects/nsf/csd181/yuncong/virtualenv-1.9.1/yuncongve/lib/python2.7/site-packages/ipykernel/__main__.py:20: FutureWarning: elementwise comparison failed; returning scalar instead, but in the future will perform elementwise comparison\n",
      "/oasis/projects/nsf/csd181/yuncong/virtualenv-1.9.1/yuncongve/lib/python2.7/site-packages/ipykernel/__main__.py:20: FutureWarning: elementwise comparison failed; returning scalar instead, but in the future will perform elementwise comparison\n",
      "/oasis/projects/nsf/csd181/yuncong/virtualenv-1.9.1/yuncongve/lib/python2.7/site-packages/ipykernel/__main__.py:20: FutureWarning: elementwise comparison failed; returning scalar instead, but in the future will perform elementwise comparison\n",
      "/oasis/projects/nsf/csd181/yuncong/virtualenv-1.9.1/yuncongve/lib/python2.7/site-packages/ipykernel/__main__.py:20: FutureWarning: elementwise comparison failed; returning scalar instead, but in the future will perform elementwise comparison\n",
      "Annotation does not exist: MD585, 167, yuncong, latest\n",
      "Annotation does not exist: MD585, 164, yuncong, latest\n",
      "Annotation does not exist: MD585, 166, yuncong, latest\n",
      "Annotation does not exist: MD585, 165, yuncong, latest\n",
      "Annotation does not exist: MD585, 170, yuncong, latest\n",
      "Annotation does not exist: MD585, 169, yuncong, latest\n",
      "Annotation does not exist: MD585, 171, yuncong, latest\n",
      "Annotation does not exist: MD585, 168, yuncong, latest\n"
     ]
    }
   ],
   "source": [
    "export_filepath_fmt = outputViz_rootdir + '/%(name)s/%(stack)s/%(stack)s_%(sec)04d_roi1_scoremapPlusAnnotationViz_%(name)s_%(annofn)s.jpg'\n",
    "\n",
    "t = time.time()\n",
    "\n",
    "stack = 'MD585'\n",
    "sec = 160\n",
    "export_scoremapPlusAnnotationVizs('original', stack, range(sec, sec+12), ['7N'], 8, export_filepath_fmt=export_filepath_fmt)\n",
    "\n",
    "print time.time() - t"
   ]
  },
  {
   "cell_type": "code",
   "execution_count": 81,
   "metadata": {},
   "outputs": [
    {
     "data": {
      "text/html": [
       "<a href='tmp.jpg' target='_blank'>tmp.jpg</a><br>"
      ],
      "text/plain": [
       "/oasis/projects/nsf/csd395/yuncong/Brain/vis/tmp.jpg"
      ]
     },
     "execution_count": 81,
     "metadata": {},
     "output_type": "execute_result"
    }
   ],
   "source": [
    "display_image(im)"
   ]
  },
  {
   "cell_type": "code",
   "execution_count": null,
   "metadata": {
    "collapsed": true
   },
   "outputs": [],
   "source": []
  },
  {
   "cell_type": "code",
   "execution_count": null,
   "metadata": {
    "collapsed": true
   },
   "outputs": [],
   "source": [
    "! cd ~/csd395"
   ]
  },
  {
   "cell_type": "code",
   "execution_count": 30,
   "metadata": {},
   "outputs": [
    {
     "name": "stdout",
     "output_type": "stream",
     "text": [
      "tar: Removing leading `/' from member names\r\n"
     ]
    }
   ],
   "source": [
    "!tar -I pigz -cf CSHL_scoremapPlusAnnotationViz.tar.gz CSHL_scoremapPlusAnnotationViz"
   ]
  }
 ],
 "metadata": {
  "kernelspec": {
   "display_name": "Python 2",
   "language": "python",
   "name": "python2"
  },
  "language_info": {
   "codemirror_mode": {
    "name": "ipython",
    "version": 2
   },
   "file_extension": ".py",
   "mimetype": "text/x-python",
   "name": "python",
   "nbconvert_exporter": "python",
   "pygments_lexer": "ipython2",
   "version": "2.7.12"
  }
 },
 "nbformat": 4,
 "nbformat_minor": 1
}
