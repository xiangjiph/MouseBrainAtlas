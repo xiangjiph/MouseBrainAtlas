{
 "cells": [
  {
   "cell_type": "code",
   "execution_count": 2,
   "metadata": {
    "scrolled": true
   },
   "outputs": [
    {
     "name": "stdout",
     "output_type": "stream",
     "text": [
      "The autoreload extension is already loaded. To reload it, use:\n",
      "  %reload_ext autoreload\n"
     ]
    }
   ],
   "source": [
    "%load_ext autoreload\n",
    "%autoreload 2\n",
    "\n",
    "import os\n",
    "import time\n",
    "import sys\n",
    "\n",
    "sys.path.append(os.path.join(os.environ['REPO_DIR'], 'utilities'))\n",
    "from utilities2015 import *\n",
    "from metadata import *\n",
    "from data_manager import *\n",
    "from distributed_utilities import *"
   ]
  },
  {
   "cell_type": "code",
   "execution_count": 3,
   "metadata": {
    "scrolled": true
   },
   "outputs": [
    {
     "name": "stdout",
     "output_type": "stream",
     "text": [
      "rm -rf /shared/CSHL_data_processed/MD635/MD635_sorted_filenames.txt && mkdir -p /shared/CSHL_data_processed/MD635\n",
      "aws s3 cp s3://mousebrainatlas-data/CSHL_data_processed/MD635/MD635_sorted_filenames.txt /shared/CSHL_data_processed/MD635/MD635_sorted_filenames.txt\n"
     ]
    },
    {
     "name": "stderr",
     "output_type": "stream",
     "text": [
      "Child returned 0\n",
      "Child returned 1\n",
      "0.36 seconds.\n",
      "Child returned 0\n"
     ]
    },
    {
     "name": "stdout",
     "output_type": "stream",
     "text": [
      "rm -rf /shared/CSHL_data_processed/MD635/MD635_anchor.txt && mkdir -p /shared/CSHL_data_processed/MD635\n",
      "aws s3 cp s3://mousebrainatlas-data/CSHL_data_processed/MD635/MD635_anchor.txt /shared/CSHL_data_processed/MD635/MD635_anchor.txt\n"
     ]
    },
    {
     "name": "stderr",
     "output_type": "stream",
     "text": [
      "Child returned 1\n",
      "0.35 seconds.\n",
      "Child returned 0\n"
     ]
    },
    {
     "name": "stdout",
     "output_type": "stream",
     "text": [
      "rm -rf /shared/CSHL_data_processed/MD635/MD635_cropbox.txt && mkdir -p /shared/CSHL_data_processed/MD635\n",
      "aws s3 cp s3://mousebrainatlas-data/CSHL_data_processed/MD635/MD635_cropbox.txt /shared/CSHL_data_processed/MD635/MD635_cropbox.txt\n"
     ]
    },
    {
     "name": "stderr",
     "output_type": "stream",
     "text": [
      "Child returned 1\n",
      "0.35 seconds.\n",
      "Child returned 0\n"
     ]
    },
    {
     "name": "stdout",
     "output_type": "stream",
     "text": [
      "rm -rf /shared/CSHL_data_processed/MD635/MD635_transformsTo_anchor.pkl && mkdir -p /shared/CSHL_data_processed/MD635\n",
      "aws s3 cp s3://mousebrainatlas-data/CSHL_data_processed/MD635/MD635_transformsTo_anchor.pkl /shared/CSHL_data_processed/MD635/MD635_transformsTo_anchor.pkl\n"
     ]
    },
    {
     "name": "stderr",
     "output_type": "stream",
     "text": [
      "Child returned 1\n",
      "0.36 seconds.\n",
      "Child returned 0\n"
     ]
    },
    {
     "name": "stdout",
     "output_type": "stream",
     "text": [
      "rm -rf /shared/CSHL_data_processed/MD653/MD653_sorted_filenames.txt && mkdir -p /shared/CSHL_data_processed/MD653\n",
      "aws s3 cp s3://mousebrainatlas-data/CSHL_data_processed/MD653/MD653_sorted_filenames.txt /shared/CSHL_data_processed/MD653/MD653_sorted_filenames.txt\n"
     ]
    },
    {
     "name": "stderr",
     "output_type": "stream",
     "text": [
      "Child returned 0\n",
      "0.44 seconds.\n",
      "Child returned 0\n"
     ]
    },
    {
     "name": "stdout",
     "output_type": "stream",
     "text": [
      "rm -rf /shared/CSHL_data_processed/MD653/MD653_anchor.txt && mkdir -p /shared/CSHL_data_processed/MD653\n",
      "aws s3 cp s3://mousebrainatlas-data/CSHL_data_processed/MD653/MD653_anchor.txt /shared/CSHL_data_processed/MD653/MD653_anchor.txt\n"
     ]
    },
    {
     "name": "stderr",
     "output_type": "stream",
     "text": [
      "Child returned 0\n",
      "0.41 seconds.\n",
      "Child returned 0\n"
     ]
    },
    {
     "name": "stdout",
     "output_type": "stream",
     "text": [
      "rm -rf /shared/CSHL_data_processed/MD653/MD653_cropbox.txt && mkdir -p /shared/CSHL_data_processed/MD653\n",
      "aws s3 cp s3://mousebrainatlas-data/CSHL_data_processed/MD653/MD653_cropbox.txt /shared/CSHL_data_processed/MD653/MD653_cropbox.txt\n"
     ]
    },
    {
     "name": "stderr",
     "output_type": "stream",
     "text": [
      "Child returned 0\n",
      "0.42 seconds.\n",
      "Child returned 0\n"
     ]
    },
    {
     "name": "stdout",
     "output_type": "stream",
     "text": [
      "rm -rf /shared/CSHL_data_processed/MD653/MD653_transformsTo_anchor.pkl && mkdir -p /shared/CSHL_data_processed/MD653\n",
      "aws s3 cp s3://mousebrainatlas-data/CSHL_data_processed/MD653/MD653_transformsTo_anchor.pkl /shared/CSHL_data_processed/MD653/MD653_transformsTo_anchor.pkl\n"
     ]
    },
    {
     "name": "stderr",
     "output_type": "stream",
     "text": [
      "Child returned 0\n",
      "0.48 seconds.\n",
      "Child returned 0\n"
     ]
    },
    {
     "name": "stdout",
     "output_type": "stream",
     "text": [
      "rm -rf /shared/CSHL_data_processed/MD652/MD652_sorted_filenames.txt && mkdir -p /shared/CSHL_data_processed/MD652\n",
      "aws s3 cp s3://mousebrainatlas-data/CSHL_data_processed/MD652/MD652_sorted_filenames.txt /shared/CSHL_data_processed/MD652/MD652_sorted_filenames.txt\n"
     ]
    },
    {
     "name": "stderr",
     "output_type": "stream",
     "text": [
      "Child returned 0\n",
      "0.41 seconds.\n",
      "Child returned 0\n"
     ]
    },
    {
     "name": "stdout",
     "output_type": "stream",
     "text": [
      "rm -rf /shared/CSHL_data_processed/MD652/MD652_anchor.txt && mkdir -p /shared/CSHL_data_processed/MD652\n",
      "aws s3 cp s3://mousebrainatlas-data/CSHL_data_processed/MD652/MD652_anchor.txt /shared/CSHL_data_processed/MD652/MD652_anchor.txt\n"
     ]
    },
    {
     "name": "stderr",
     "output_type": "stream",
     "text": [
      "Child returned 0\n",
      "0.38 seconds.\n",
      "Child returned 0\n"
     ]
    },
    {
     "name": "stdout",
     "output_type": "stream",
     "text": [
      "rm -rf /shared/CSHL_data_processed/MD652/MD652_cropbox.txt && mkdir -p /shared/CSHL_data_processed/MD652\n",
      "aws s3 cp s3://mousebrainatlas-data/CSHL_data_processed/MD652/MD652_cropbox.txt /shared/CSHL_data_processed/MD652/MD652_cropbox.txt\n"
     ]
    },
    {
     "name": "stderr",
     "output_type": "stream",
     "text": [
      "Child returned 0\n",
      "0.39 seconds.\n",
      "Child returned 0\n"
     ]
    },
    {
     "name": "stdout",
     "output_type": "stream",
     "text": [
      "rm -rf /shared/CSHL_data_processed/MD652/MD652_transformsTo_anchor.pkl && mkdir -p /shared/CSHL_data_processed/MD652\n",
      "aws s3 cp s3://mousebrainatlas-data/CSHL_data_processed/MD652/MD652_transformsTo_anchor.pkl /shared/CSHL_data_processed/MD652/MD652_transformsTo_anchor.pkl\n"
     ]
    },
    {
     "name": "stderr",
     "output_type": "stream",
     "text": [
      "Child returned 0\n",
      "0.48 seconds.\n",
      "Child returned 0\n"
     ]
    },
    {
     "name": "stdout",
     "output_type": "stream",
     "text": [
      "rm -rf /shared/CSHL_data_processed/MD642/MD642_sorted_filenames.txt && mkdir -p /shared/CSHL_data_processed/MD642\n",
      "aws s3 cp s3://mousebrainatlas-data/CSHL_data_processed/MD642/MD642_sorted_filenames.txt /shared/CSHL_data_processed/MD642/MD642_sorted_filenames.txt\n"
     ]
    },
    {
     "name": "stderr",
     "output_type": "stream",
     "text": [
      "Child returned 0\n",
      "0.43 seconds.\n",
      "Child returned 0\n"
     ]
    },
    {
     "name": "stdout",
     "output_type": "stream",
     "text": [
      "rm -rf /shared/CSHL_data_processed/MD642/MD642_anchor.txt && mkdir -p /shared/CSHL_data_processed/MD642\n",
      "aws s3 cp s3://mousebrainatlas-data/CSHL_data_processed/MD642/MD642_anchor.txt /shared/CSHL_data_processed/MD642/MD642_anchor.txt\n"
     ]
    },
    {
     "name": "stderr",
     "output_type": "stream",
     "text": [
      "Child returned 0\n",
      "0.40 seconds.\n",
      "Child returned 0\n"
     ]
    },
    {
     "name": "stdout",
     "output_type": "stream",
     "text": [
      "rm -rf /shared/CSHL_data_processed/MD642/MD642_cropbox.txt && mkdir -p /shared/CSHL_data_processed/MD642\n",
      "aws s3 cp s3://mousebrainatlas-data/CSHL_data_processed/MD642/MD642_cropbox.txt /shared/CSHL_data_processed/MD642/MD642_cropbox.txt\n"
     ]
    },
    {
     "name": "stderr",
     "output_type": "stream",
     "text": [
      "Child returned 0\n",
      "0.41 seconds.\n",
      "Child returned 0\n"
     ]
    },
    {
     "name": "stdout",
     "output_type": "stream",
     "text": [
      "rm -rf /shared/CSHL_data_processed/MD642/MD642_transformsTo_anchor.pkl && mkdir -p /shared/CSHL_data_processed/MD642\n",
      "aws s3 cp s3://mousebrainatlas-data/CSHL_data_processed/MD642/MD642_transformsTo_anchor.pkl /shared/CSHL_data_processed/MD642/MD642_transformsTo_anchor.pkl\n"
     ]
    },
    {
     "name": "stderr",
     "output_type": "stream",
     "text": [
      "Child returned 0\n",
      "0.47 seconds.\n",
      "Child returned 0\n"
     ]
    },
    {
     "name": "stdout",
     "output_type": "stream",
     "text": [
      "rm -rf /shared/CSHL_data_processed/MD657/MD657_sorted_filenames.txt && mkdir -p /shared/CSHL_data_processed/MD657\n",
      "aws s3 cp s3://mousebrainatlas-data/CSHL_data_processed/MD657/MD657_sorted_filenames.txt /shared/CSHL_data_processed/MD657/MD657_sorted_filenames.txt\n"
     ]
    },
    {
     "name": "stderr",
     "output_type": "stream",
     "text": [
      "Child returned 0\n",
      "0.43 seconds.\n",
      "Child returned 0\n"
     ]
    },
    {
     "name": "stdout",
     "output_type": "stream",
     "text": [
      "rm -rf /shared/CSHL_data_processed/MD657/MD657_anchor.txt && mkdir -p /shared/CSHL_data_processed/MD657\n",
      "aws s3 cp s3://mousebrainatlas-data/CSHL_data_processed/MD657/MD657_anchor.txt /shared/CSHL_data_processed/MD657/MD657_anchor.txt\n"
     ]
    },
    {
     "name": "stderr",
     "output_type": "stream",
     "text": [
      "Child returned 0\n",
      "0.43 seconds.\n",
      "Child returned 0\n"
     ]
    },
    {
     "name": "stdout",
     "output_type": "stream",
     "text": [
      "rm -rf /shared/CSHL_data_processed/MD657/MD657_cropbox.txt && mkdir -p /shared/CSHL_data_processed/MD657\n",
      "aws s3 cp s3://mousebrainatlas-data/CSHL_data_processed/MD657/MD657_cropbox.txt /shared/CSHL_data_processed/MD657/MD657_cropbox.txt\n"
     ]
    },
    {
     "name": "stderr",
     "output_type": "stream",
     "text": [
      "Child returned 0\n",
      "0.47 seconds.\n",
      "Child returned 0\n"
     ]
    },
    {
     "name": "stdout",
     "output_type": "stream",
     "text": [
      "rm -rf /shared/CSHL_data_processed/MD657/MD657_transformsTo_anchor.pkl && mkdir -p /shared/CSHL_data_processed/MD657\n",
      "aws s3 cp s3://mousebrainatlas-data/CSHL_data_processed/MD657/MD657_transformsTo_anchor.pkl /shared/CSHL_data_processed/MD657/MD657_transformsTo_anchor.pkl\n"
     ]
    },
    {
     "name": "stderr",
     "output_type": "stream",
     "text": [
      "Child returned 0\n",
      "0.48 seconds.\n"
     ]
    }
   ],
   "source": [
    "for stack in all_stacks:\n",
    "# for stack in all_nissl_stacks:\n",
    "# for stack in ['MD585']:\n",
    "    \n",
    "    download_from_s3_to_ec2(DataManager.get_sorted_filenames_filename(stack))\n",
    "    download_from_s3_to_ec2(DataManager.get_anchor_filename_filename(stack))\n",
    "    download_from_s3_to_ec2(DataManager.get_cropbox_filename(stack))\n",
    "    download_from_s3_to_ec2(DataManager.get_transforms_filename(stack))"
   ]
  },
  {
   "cell_type": "code",
   "execution_count": 5,
   "metadata": {},
   "outputs": [
    {
     "name": "stdout",
     "output_type": "stream",
     "text": [
      "rm -rf /shared/CSHL_data_processed/MD657/MD657_thumbnail_alignedTo_MD657-F44-2017.02.18-06.06.27_MD657_1_0130_cropped && mkdir -p /shared/CSHL_data_processed/MD657\n",
      "aws s3 cp --recursive s3://mousebrainatlas-data/CSHL_data_processed/MD657/MD657_thumbnail_alignedTo_MD657-F44-2017.02.18-06.06.27_MD657_1_0130_cropped /shared/CSHL_data_processed/MD657/MD657_thumbnail_alignedTo_MD657-F44-2017.02.18-06.06.27_MD657_1_0130_cropped\n"
     ]
    },
    {
     "name": "stderr",
     "output_type": "stream",
     "text": [
      "Child returned 0\n",
      "Child returned 0\n",
      "3.62 seconds.\n"
     ]
    }
   ],
   "source": [
    "# for stack in all_nissl_stacks:\n",
    "for stack in ['MD657']:\n",
    "    anchor_fn = DataManager.load_anchor_filename(stack=stack)\n",
    "    download_from_s3_to_ec2(os.path.join('CSHL_data_processed', stack, stack + '_thumbnail_alignedTo_' + anchor_fn + '_cropped'),\n",
    "                    is_dir=True)"
   ]
  },
  {
   "cell_type": "code",
   "execution_count": 17,
   "metadata": {
    "scrolled": true
   },
   "outputs": [
    {
     "name": "stdout",
     "output_type": "stream",
     "text": [
      "rm -rf /shared/CSHL_data_processed/MD589/MD589_masks && mkdir -p /shared/CSHL_data_processed/MD589\n",
      "aws s3 cp --recursive s3://mousebrainatlas-data/CSHL_data_processed/MD589/MD589_masks /shared/CSHL_data_processed/MD589/MD589_masks\n"
     ]
    },
    {
     "name": "stderr",
     "output_type": "stream",
     "text": [
      "Child returned 0\n",
      "Child returned 0\n",
      "2.44 seconds.\n",
      "Child returned 0\n"
     ]
    },
    {
     "name": "stdout",
     "output_type": "stream",
     "text": [
      "rm -rf /shared/CSHL_data_processed/MD589/MD589_masks_alignedTo_MD589-IHC31-2015.07.30-23.26.22_MD589_1_0091 && mkdir -p /shared/CSHL_data_processed/MD589\n",
      "aws s3 cp --recursive s3://mousebrainatlas-data/CSHL_data_processed/MD589/MD589_masks_alignedTo_MD589-IHC31-2015.07.30-23.26.22_MD589_1_0091 /shared/CSHL_data_processed/MD589/MD589_masks_alignedTo_MD589-IHC31-2015.07.30-23.26.22_MD589_1_0091\n"
     ]
    },
    {
     "name": "stderr",
     "output_type": "stream",
     "text": [
      "Child returned 0\n",
      "2.43 seconds.\n",
      "Child returned 0\n"
     ]
    },
    {
     "name": "stdout",
     "output_type": "stream",
     "text": [
      "rm -rf /shared/CSHL_data_processed/MD589/MD589_masks_alignedTo_MD589-IHC31-2015.07.30-23.26.22_MD589_1_0091_cropped && mkdir -p /shared/CSHL_data_processed/MD589\n",
      "aws s3 cp --recursive s3://mousebrainatlas-data/CSHL_data_processed/MD589/MD589_masks_alignedTo_MD589-IHC31-2015.07.30-23.26.22_MD589_1_0091_cropped /shared/CSHL_data_processed/MD589/MD589_masks_alignedTo_MD589-IHC31-2015.07.30-23.26.22_MD589_1_0091_cropped\n"
     ]
    },
    {
     "name": "stderr",
     "output_type": "stream",
     "text": [
      "Child returned 0\n",
      "2.32 seconds.\n"
     ]
    }
   ],
   "source": [
    "# for stack in all_nissl_stacks:\n",
    "for stack in ['MD589']:\n",
    "    \n",
    "#     tb_fmt = 'png'\n",
    "    \n",
    "# #     transfer_data_synced(os.path.join('CSHL_data', stack), \n",
    "# #                      from_hostname='s3raw', to_hostname='ec2', is_dir=True, include_only='*.'+tb_fmt)\n",
    "\n",
    "# #     transfer_data_synced(os.path.join('CSHL_data_processed', stack, stack + '_sorted_filenames.txt'), \n",
    "# #                          from_hostname='s3', to_hostname='ec2', is_dir=False)\n",
    "\n",
    "# #     transfer_data_synced(os.path.join('CSHL_data_processed', stack, stack + '_anchor.txt'), \n",
    "# #                          from_hostname='s3', to_hostname='ec2', is_dir=False)\n",
    "\n",
    "#     transfer_data_synced(os.path.join('CSHL_data_processed', stack, stack + '_elastix_output'), \n",
    "#                          from_hostname='s3', to_hostname='ec2', is_dir=True)\n",
    "    \n",
    "#     transfer_data_synced(os.path.join('CSHL_data_processed', stack, stack + '_custom_transforms'), \n",
    "#                      from_hostname='s3', to_hostname='ec2', is_dir=True)\n",
    "\n",
    "# #     transfer_data_synced(os.path.join('CSHL_data_processed', stack), \n",
    "# #                          from_hostname='s3', to_hostname='ec2', is_dir=True, include_only='*.pkl')\n",
    "\n",
    "# #     transfer_data_synced(os.path.join('CSHL_data_processed', stack, stack + '_cropbox.txt'), \n",
    "# #                          from_hostname='s3', to_hostname='ec2', is_dir=False)\n",
    "\n",
    "    anchor_fn = DataManager.load_anchor_filename(stack=stack)\n",
    "\n",
    "#     transfer_data_synced(os.path.join('CSHL_data_processed', stack, stack + '_thumbnail_alignedTo_' + anchor_fn),\n",
    "#                         from_hostname='s3',\n",
    "#                         to_hostname='ec2',\n",
    "#                         is_dir=True)\n",
    "\n",
    "# #     transfer_data_synced(os.path.join('CSHL_data_processed', stack, stack + '_thumbnail_alignedTo_' + anchor_fn + '_cropped'),\n",
    "# #                         from_hostname='s3',\n",
    "# #                         to_hostname='ec2',\n",
    "# #                         is_dir=True)\n",
    "    \n",
    "    download_from_s3_to_ec2(os.path.join(ROOT_DIR, 'CSHL_data_processed', stack, stack + '_masks'), is_dir=True)\n",
    "    download_from_s3_to_ec2(os.path.join(ROOT_DIR, 'CSHL_data_processed', stack, stack + '_masks_alignedTo_' + anchor_fn), is_dir=True)\n",
    "    download_from_s3_to_ec2(os.path.join(ROOT_DIR, 'CSHL_data_processed', stack, stack + '_masks_alignedTo_' + anchor_fn + '_cropped'), is_dir=True)\n",
    "    \n",
    "    \n",
    "#     transfer_data_synced(os.path.join('CSHL_data_processed', stack, stack + '_masks'),\n",
    "#                         from_hostname='s3',\n",
    "#                         to_hostname='ec2',\n",
    "#                         is_dir=True)\n",
    "    \n",
    "#     transfer_data_synced(os.path.join('CSHL_data_processed', stack, stack + '_masks_alignedTo_' + anchor_fn),\n",
    "#                         from_hostname='s3',\n",
    "#                         to_hostname='ec2',\n",
    "#                         is_dir=True)\n",
    "\n",
    "#     transfer_data_synced(os.path.join('CSHL_data_processed', stack, stack + '_masks_alignedTo_' + anchor_fn + '_cropped'),\n",
    "#                         from_hostname='s3',\n",
    "#                         to_hostname='ec2',\n",
    "#                         is_dir=True)"
   ]
  },
  {
   "cell_type": "code",
   "execution_count": 10,
   "metadata": {},
   "outputs": [
    {
     "name": "stdout",
     "output_type": "stream",
     "text": [
      "rm -rf /shared/CSHL_labelings_v3 && mkdir -p /shared\n",
      "aws s3 cp --recursive s3://mousebrainatlas-data/CSHL_labelings_v3 /shared/CSHL_labelings_v3\n"
     ]
    },
    {
     "name": "stderr",
     "output_type": "stream",
     "text": [
      "Child returned 0\n",
      "Child returned 0\n",
      "32.69 seconds.\n"
     ]
    }
   ],
   "source": [
    "transfer_data_synced(relative_to_ec2('/shared/CSHL_labelings_v3'),\n",
    "                    from_hostname='s3',\n",
    "                    to_hostname='ec2',\n",
    "                    is_dir=True)"
   ]
  },
  {
   "cell_type": "code",
   "execution_count": 24,
   "metadata": {},
   "outputs": [
    {
     "name": "stdout",
     "output_type": "stream",
     "text": [
      "aws s3 cp --recursive s3://mousebrainatlas-data/CSHL_cells_v2/detected_cells/MD589 /shared/CSHL_cells_v2/detected_cells/MD589 --exclude \"*\" --include *cells_aligned_padded.bp\n"
     ]
    },
    {
     "name": "stderr",
     "output_type": "stream",
     "text": [
      "Child returned 0\n",
      "14.16 seconds.\n"
     ]
    }
   ],
   "source": [
    "transfer_data_synced(relative_to_ec2('/shared/CSHL_cells_v2/detected_cells/MD589'),\n",
    "                    from_hostname='s3',\n",
    "                    to_hostname='ec2',\n",
    "                    is_dir=True,\n",
    "#                     includes=['*blobOrientations*', '*blobCentroids*', '*cells_aligned_mirrored_padded*',\n",
    "#                              '*cellSizes*', '*largeCellIndices*', '*largeCellFeatures*', \n",
    "#                               '*neighborCellIndices*', '*neighborVectors*', '*neighborAngularHist*', '*neighborRadialHist*'] \n",
    "#                      includes=['*image.jpg']\n",
    "#                     includes=['*blobContours.hdf'] \n",
    "#                      includes=['*blobMaskCenters.bp'],\n",
    "                    includes=['*cells_aligned_padded.bp'])\n",
    "# 600 seconds"
   ]
  },
  {
   "cell_type": "code",
   "execution_count": 16,
   "metadata": {
    "scrolled": true
   },
   "outputs": [
    {
     "name": "stdout",
     "output_type": "stream",
     "text": [
      "aws s3 cp --recursive s3://mousebrainatlas-data/CSHL_cells_v2/classifiers/features_per_section/MD589 /shared/CSHL_cells_v2/classifiers/features_per_section/MD589 --exclude \"*\" --include *region_features.hdf --include *region_contours.bp\n"
     ]
    },
    {
     "name": "stderr",
     "output_type": "stream",
     "text": [
      "Child returned 0\n",
      "85.54 seconds.\n"
     ]
    }
   ],
   "source": [
    "transfer_data_synced(relative_to_ec2('/shared/CSHL_cells_v2/classifiers/features_per_section/MD589/'),\n",
    "                    from_hostname='s3',\n",
    "                    to_hostname='ec2',\n",
    "                    is_dir=True,\n",
    "                    includes=['*region_features.hdf', '*region_contours.bp'])"
   ]
  },
  {
   "cell_type": "code",
   "execution_count": 18,
   "metadata": {},
   "outputs": [
    {
     "name": "stdout",
     "output_type": "stream",
     "text": [
      "Setting environment for AWS compute node\n",
      "rm -rf /shared/CSHL_patch_features/Inception-BN/MD591 && mkdir -p /shared/CSHL_patch_features/Inception-BN\n",
      "aws s3 cp --recursive s3://mousebrainatlas-data/CSHL_patch_features/Inception-BN/MD591 /shared/CSHL_patch_features/Inception-BN/MD591\n"
     ]
    },
    {
     "name": "stderr",
     "output_type": "stream",
     "text": [
      "File does not exist: /shared/CSHL_data_processed/MD635/MD635_anchor.txt\n",
      "File does not exist: /shared/CSHL_data_processed/MD635/MD635_sorted_filenames.txt\n",
      "File does not exist: /shared/CSHL_data_processed/MD635/MD635_cropbox.txt\n",
      "File does not exist: /shared/CSHL_data_processed/MD635/MD635_cropbox.txt\n",
      "File does not exist: /shared/CSHL_data_processed/MD653/MD653_anchor.txt\n",
      "File does not exist: /shared/CSHL_data_processed/MD653/MD653_sorted_filenames.txt\n",
      "File does not exist: /shared/CSHL_data_processed/MD653/MD653_cropbox.txt\n",
      "File does not exist: /shared/CSHL_data_processed/MD653/MD653_cropbox.txt\n",
      "File does not exist: /shared/CSHL_data_processed/MD652/MD652_anchor.txt\n",
      "File does not exist: /shared/CSHL_data_processed/MD652/MD652_sorted_filenames.txt\n",
      "File does not exist: /shared/CSHL_data_processed/MD652/MD652_cropbox.txt\n",
      "File does not exist: /shared/CSHL_data_processed/MD652/MD652_cropbox.txt\n",
      "File does not exist: /shared/CSHL_data_processed/MD642/MD642_anchor.txt\n",
      "File does not exist: /shared/CSHL_data_processed/MD642/MD642_sorted_filenames.txt\n",
      "File does not exist: /shared/CSHL_data_processed/MD642/MD642_cropbox.txt\n",
      "File does not exist: /shared/CSHL_data_processed/MD642/MD642_cropbox.txt\n",
      "File does not exist: /shared/CSHL_data_processed/MD657/MD657_anchor.txt\n",
      "File does not exist: /shared/CSHL_data_processed/MD657/MD657_sorted_filenames.txt\n",
      "File does not exist: /shared/CSHL_data_processed/MD657/MD657_cropbox.txt\n",
      "File does not exist: /shared/CSHL_data_processed/MD657/MD657_cropbox.txt\n",
      "Child returned 0\n",
      "Child returned 0\n",
      "141.58 seconds.\n"
     ]
    }
   ],
   "source": [
    "# for stack in all_annotated_stacks:\n",
    "for stack in ['MD591']:\n",
    "    download_from_s3_to_ec2('/shared/CSHL_patch_features/Inception-BN/' + stack + '/', is_dir=True)"
   ]
  },
  {
   "cell_type": "code",
   "execution_count": 10,
   "metadata": {},
   "outputs": [
    {
     "name": "stdout",
     "output_type": "stream",
     "text": [
      "rm -rf /shared/CSHL_data_processed/MD657/MD657_lossless_alignedTo_MD657-F44-2017.02.18-06.06.27_MD657_1_0130_cropped_compressed && mkdir -p /shared/CSHL_data_processed/MD657\n",
      "aws s3 cp --recursive s3://mousebrainatlas-data/CSHL_data_processed/MD657/MD657_lossless_alignedTo_MD657-F44-2017.02.18-06.06.27_MD657_1_0130_cropped_compressed /shared/CSHL_data_processed/MD657/MD657_lossless_alignedTo_MD657-F44-2017.02.18-06.06.27_MD657_1_0130_cropped_compressed\n"
     ]
    },
    {
     "name": "stderr",
     "output_type": "stream",
     "text": [
      "Child returned 0\n",
      "Child returned 0\n",
      "89.17 seconds.\n"
     ]
    }
   ],
   "source": [
    "# for stack in all_annotated_nissl_stacks:\n",
    "for stack in ['MD657']:\n",
    "    output_dir = DataManager.get_image_dir(stack, resol='lossless', version='compressed')\n",
    "    download_from_s3_to_ec2(output_dir, is_dir=True)"
   ]
  },
  {
   "cell_type": "markdown",
   "metadata": {},
   "source": [
    "# Upload"
   ]
  },
  {
   "cell_type": "code",
   "execution_count": 15,
   "metadata": {
    "scrolled": true
   },
   "outputs": [
    {
     "name": "stdout",
     "output_type": "stream",
     "text": [
      "aws s3 cp --recursive /shared/CSHL_volumes/MD585/MD585_down32_intensityVolume s3://mousebrainatlas-data/CSHL_volumes/MD585/MD585_down32_intensityVolume\n"
     ]
    },
    {
     "name": "stderr",
     "output_type": "stream",
     "text": [
      "Child returned 0\n"
     ]
    },
    {
     "name": "stdout",
     "output_type": "stream",
     "text": [
      "aws s3 cp --recursive /shared/CSHL_volumes/MD589/MD589_down32_intensityVolume s3://mousebrainatlas-data/CSHL_volumes/MD589/MD589_down32_intensityVolume\n"
     ]
    },
    {
     "name": "stderr",
     "output_type": "stream",
     "text": [
      "Child returned 0\n"
     ]
    },
    {
     "name": "stdout",
     "output_type": "stream",
     "text": [
      "aws s3 cp --recursive /shared/CSHL_volumes/MD590/MD590_down32_intensityVolume s3://mousebrainatlas-data/CSHL_volumes/MD590/MD590_down32_intensityVolume\n"
     ]
    },
    {
     "name": "stderr",
     "output_type": "stream",
     "text": [
      "Child returned 0\n"
     ]
    },
    {
     "name": "stdout",
     "output_type": "stream",
     "text": [
      "aws s3 cp --recursive /shared/CSHL_volumes/MD591/MD591_down32_intensityVolume s3://mousebrainatlas-data/CSHL_volumes/MD591/MD591_down32_intensityVolume\n"
     ]
    },
    {
     "name": "stderr",
     "output_type": "stream",
     "text": [
      "Child returned 0\n"
     ]
    },
    {
     "name": "stdout",
     "output_type": "stream",
     "text": [
      "aws s3 cp --recursive /shared/CSHL_volumes/MD592/MD592_down32_intensityVolume s3://mousebrainatlas-data/CSHL_volumes/MD592/MD592_down32_intensityVolume\n"
     ]
    },
    {
     "name": "stderr",
     "output_type": "stream",
     "text": [
      "Child returned 0\n"
     ]
    },
    {
     "name": "stdout",
     "output_type": "stream",
     "text": [
      "aws s3 cp --recursive /shared/CSHL_volumes/MD593/MD593_down32_intensityVolume s3://mousebrainatlas-data/CSHL_volumes/MD593/MD593_down32_intensityVolume\n"
     ]
    },
    {
     "name": "stderr",
     "output_type": "stream",
     "text": [
      "Child returned 0\n"
     ]
    },
    {
     "name": "stdout",
     "output_type": "stream",
     "text": [
      "aws s3 cp --recursive /shared/CSHL_volumes/MD594/MD594_down32_intensityVolume s3://mousebrainatlas-data/CSHL_volumes/MD594/MD594_down32_intensityVolume\n"
     ]
    },
    {
     "name": "stderr",
     "output_type": "stream",
     "text": [
      "Child returned 0\n"
     ]
    },
    {
     "name": "stdout",
     "output_type": "stream",
     "text": [
      "aws s3 cp --recursive /shared/CSHL_volumes/MD595/MD595_down32_intensityVolume s3://mousebrainatlas-data/CSHL_volumes/MD595/MD595_down32_intensityVolume\n"
     ]
    },
    {
     "name": "stderr",
     "output_type": "stream",
     "text": [
      "Child returned 0\n"
     ]
    },
    {
     "name": "stdout",
     "output_type": "stream",
     "text": [
      "aws s3 cp --recursive /shared/CSHL_volumes/MD598/MD598_down32_intensityVolume s3://mousebrainatlas-data/CSHL_volumes/MD598/MD598_down32_intensityVolume\n"
     ]
    },
    {
     "name": "stderr",
     "output_type": "stream",
     "text": [
      "Child returned 0\n"
     ]
    },
    {
     "name": "stdout",
     "output_type": "stream",
     "text": [
      "aws s3 cp --recursive /shared/CSHL_volumes/MD599/MD599_down32_intensityVolume s3://mousebrainatlas-data/CSHL_volumes/MD599/MD599_down32_intensityVolume\n"
     ]
    },
    {
     "name": "stderr",
     "output_type": "stream",
     "text": [
      "Child returned 0\n"
     ]
    },
    {
     "name": "stdout",
     "output_type": "stream",
     "text": [
      "aws s3 cp --recursive /shared/CSHL_volumes/MD602/MD602_down32_intensityVolume s3://mousebrainatlas-data/CSHL_volumes/MD602/MD602_down32_intensityVolume\n"
     ]
    },
    {
     "name": "stderr",
     "output_type": "stream",
     "text": [
      "Child returned 0\n"
     ]
    },
    {
     "name": "stdout",
     "output_type": "stream",
     "text": [
      "aws s3 cp --recursive /shared/CSHL_volumes/MD603/MD603_down32_intensityVolume s3://mousebrainatlas-data/CSHL_volumes/MD603/MD603_down32_intensityVolume\n"
     ]
    },
    {
     "name": "stderr",
     "output_type": "stream",
     "text": [
      "Child returned 0\n"
     ]
    }
   ],
   "source": [
    "# Upload Intensity Volumes.\n",
    "\n",
    "for stack in all_nissl_stacks:\n",
    "    dirname = os.path.dirname(DataManager.get_intensity_volume_filepath(stack=stack))\n",
    "    transfer_data_synced(relative_to_ec2(dirname),\n",
    "                        from_hostname='ec2',\n",
    "                        to_hostname='s3',\n",
    "                        is_dir=True)"
   ]
  },
  {
   "cell_type": "code",
   "execution_count": null,
   "metadata": {
    "collapsed": true
   },
   "outputs": [],
   "source": []
  }
 ],
 "metadata": {
  "kernelspec": {
   "display_name": "Python 2",
   "language": "python",
   "name": "python2"
  },
  "language_info": {
   "codemirror_mode": {
    "name": "ipython",
    "version": 2
   },
   "file_extension": ".py",
   "mimetype": "text/x-python",
   "name": "python",
   "nbconvert_exporter": "python",
   "pygments_lexer": "ipython2",
   "version": "2.7.12"
  }
 },
 "nbformat": 4,
 "nbformat_minor": 2
}
