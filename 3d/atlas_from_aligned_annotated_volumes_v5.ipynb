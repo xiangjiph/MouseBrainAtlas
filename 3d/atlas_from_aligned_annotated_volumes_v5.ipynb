{
 "cells": [
  {
   "cell_type": "code",
   "execution_count": 1,
   "metadata": {},
   "outputs": [
    {
     "name": "stderr",
     "output_type": "stream",
     "text": [
      "/usr/local/lib/python2.7/dist-packages/matplotlib/__init__.py:1357: UserWarning:  This call to matplotlib.use() has no effect\n",
      "because the backend has already been chosen;\n",
      "matplotlib.use() must be called *before* pylab, matplotlib.pyplot,\n",
      "or matplotlib.backends is imported for the first time.\n",
      "\n",
      "  warnings.warn(_use_error_msg)\n"
     ]
    },
    {
     "name": "stdout",
     "output_type": "stream",
     "text": [
      "Setting environment for Local Macbook Pro\n"
     ]
    }
   ],
   "source": [
    "%reload_ext autoreload\n",
    "%autoreload 2\n",
    "\n",
    "import sys\n",
    "import os\n",
    "\n",
    "import numpy as np\n",
    "import bloscpack as bp\n",
    "%matplotlib inline\n",
    "\n",
    "sys.path.append(os.path.join(os.environ['REPO_DIR'], 'utilities'))\n",
    "from utilities2015 import *\n",
    "from metadata import *\n",
    "from data_manager import *\n",
    "\n",
    "from registration_utilities import *\n",
    "from annotation_utilities import *\n",
    "from vis3d_utilities import *"
   ]
  },
  {
   "cell_type": "code",
   "execution_count": 2,
   "metadata": {
    "collapsed": true
   },
   "outputs": [],
   "source": [
    "atlas_name = 'atlasV5'"
   ]
  },
  {
   "cell_type": "code",
   "execution_count": 3,
   "metadata": {
    "collapsed": true
   },
   "outputs": [],
   "source": [
    "stack_fixed = 'MD589'\n",
    "stacks_moving = ['MD585', 'MD594']\n",
    "warp_setting = 9"
   ]
  },
  {
   "cell_type": "code",
   "execution_count": 4,
   "metadata": {},
   "outputs": [
    {
     "name": "stdout",
     "output_type": "stream",
     "text": [
      "annotation volume bbox (rel2uncropped): [ 622 1042  155  502  128  503]\n"
     ]
    }
   ],
   "source": [
    "ann_vol_bbox_rel2uncropped = DataManager.load_original_volume_bbox(stack=stack_fixed, volume_type='annotation', downscale=32)\n",
    "print 'annotation volume bbox (rel2uncropped):', ann_vol_bbox_rel2uncropped"
   ]
  },
  {
   "cell_type": "markdown",
   "metadata": {},
   "source": [
    "# Compute mean positions"
   ]
  },
  {
   "cell_type": "code",
   "execution_count": 4,
   "metadata": {
    "scrolled": true
   },
   "outputs": [
    {
     "name": "stdout",
     "output_type": "stream",
     "text": [
      "5N\n",
      "6N\n",
      "7N\n",
      "7n\n",
      "Amb\n",
      "LC\n",
      "LRt\n",
      "Pn\n",
      "Tz\n",
      "VLL\n",
      "RMC\n",
      "SNC\n",
      "SNR\n",
      "3N\n",
      "4N\n",
      "Sp5I\n",
      "Sp5O\n",
      "Sp5C\n",
      "rm -rf \"/home/yuncong/CSHL_volumes/MD585/MD585_down32_annotationAsScoreVolume_warp9_MD589_down32_annotationAsScoreVolume/score_volumes/MD585_down32_annotationAsScoreVolume_warp9_MD589_down32_annotationAsScoreVolume_Sp5C_R.bp\" && mkdir -p \"/home/yuncong/CSHL_volumes/MD585/MD585_down32_annotationAsScoreVolume_warp9_MD589_down32_annotationAsScoreVolume/score_volumes\"\n",
      "aws s3 cp \"s3://mousebrainatlas-data/CSHL_volumes/MD585/MD585_down32_annotationAsScoreVolume_warp9_MD589_down32_annotationAsScoreVolume/score_volumes/MD585_down32_annotationAsScoreVolume_warp9_MD589_down32_annotationAsScoreVolume_Sp5C_R.bp\" \"/home/yuncong/CSHL_volumes/MD585/MD585_down32_annotationAsScoreVolume_warp9_MD589_down32_annotationAsScoreVolume/score_volumes/MD585_down32_annotationAsScoreVolume_warp9_MD589_down32_annotationAsScoreVolume_Sp5C_R.bp\"\n"
     ]
    },
    {
     "name": "stderr",
     "output_type": "stream",
     "text": [
      "File does not exist: /home/yuncong/CSHL_volumes/MD585/MD585_down32_annotationAsScoreVolume_warp9_MD589_down32_annotationAsScoreVolume/score_volumes/MD585_down32_annotationAsScoreVolume_warp9_MD589_down32_annotationAsScoreVolume_Sp5C_R.bp\n"
     ]
    },
    {
     "name": "stdout",
     "output_type": "stream",
     "text": [
      "[Errno 2] No such file or directory: '/home/yuncong/CSHL_volumes/MD585/MD585_down32_annotationAsScoreVolume_warp9_MD589_down32_annotationAsScoreVolume/score_volumes/MD585_down32_annotationAsScoreVolume_warp9_MD589_down32_annotationAsScoreVolume_Sp5C_R.bp'\n",
      "PBG\n",
      "10N\n",
      "VCA\n",
      "VCP\n",
      "DC\n",
      "AP\n",
      "12N\n",
      "RtTg\n",
      "sp5\n",
      "rm -rf \"/home/yuncong/CSHL_volumes/MD589/MD589_down32_annotationAsScoreVolume/score_volumes/MD589_down32_annotationAsScoreVolume_sp5.bp\" && mkdir -p \"/home/yuncong/CSHL_volumes/MD589/MD589_down32_annotationAsScoreVolume/score_volumes\"\n",
      "aws s3 cp \"s3://mousebrainatlas-data/CSHL_volumes/MD589/MD589_down32_annotationAsScoreVolume/score_volumes/MD589_down32_annotationAsScoreVolume_sp5.bp\" \"/home/yuncong/CSHL_volumes/MD589/MD589_down32_annotationAsScoreVolume/score_volumes/MD589_down32_annotationAsScoreVolume_sp5.bp\"\n"
     ]
    },
    {
     "name": "stderr",
     "output_type": "stream",
     "text": [
      "File does not exist: /home/yuncong/CSHL_volumes/MD589/MD589_down32_annotationAsScoreVolume/score_volumes/MD589_down32_annotationAsScoreVolume_sp5.bp\n"
     ]
    },
    {
     "name": "stdout",
     "output_type": "stream",
     "text": [
      "[Errno 2] No such file or directory: '/home/yuncong/CSHL_volumes/MD589/MD589_down32_annotationAsScoreVolume/score_volumes/MD589_down32_annotationAsScoreVolume_sp5.bp'\n",
      "outerContour\n",
      "rm -rf \"/home/yuncong/CSHL_volumes/MD589/MD589_down32_annotationAsScoreVolume/score_volumes/MD589_down32_annotationAsScoreVolume_outerContour.bp\" && mkdir -p \"/home/yuncong/CSHL_volumes/MD589/MD589_down32_annotationAsScoreVolume/score_volumes\"\n",
      "aws s3 cp \"s3://mousebrainatlas-data/CSHL_volumes/MD589/MD589_down32_annotationAsScoreVolume/score_volumes/MD589_down32_annotationAsScoreVolume_outerContour.bp\" \"/home/yuncong/CSHL_volumes/MD589/MD589_down32_annotationAsScoreVolume/score_volumes/MD589_down32_annotationAsScoreVolume_outerContour.bp\"\n"
     ]
    },
    {
     "name": "stderr",
     "output_type": "stream",
     "text": [
      "File does not exist: /home/yuncong/CSHL_volumes/MD589/MD589_down32_annotationAsScoreVolume/score_volumes/MD589_down32_annotationAsScoreVolume_outerContour.bp\n"
     ]
    },
    {
     "name": "stdout",
     "output_type": "stream",
     "text": [
      "[Errno 2] No such file or directory: '/home/yuncong/CSHL_volumes/MD589/MD589_down32_annotationAsScoreVolume/score_volumes/MD589_down32_annotationAsScoreVolume_outerContour.bp'\n",
      "SC\n",
      "IC\n"
     ]
    }
   ],
   "source": [
    "instance_centroids_rel2fixed = defaultdict(list)\n",
    "\n",
    "# for name_u in ['7N']:\n",
    "for name_u in all_known_structures:\n",
    "    print name_u\n",
    "    \n",
    "    if name_u in paired_structures:\n",
    "        lname = convert_to_left_name(name_u)\n",
    "        rname = convert_to_right_name(name_u)\n",
    "    else:\n",
    "        lname = name_u\n",
    "        rname = name_u\n",
    "    \n",
    "    try:\n",
    "        right_instance_vol = DataManager.load_original_volume(stack=stack_fixed,  downscale=32, volume_type='annotationAsScore', structure=rname)\n",
    "        right_instance_vol_bbox = np.array(bbox_3d(right_instance_vol))\n",
    "        right_instance_vol_inbbox = crop_and_pad_volume(right_instance_vol, out_bbox=right_instance_vol_bbox)\n",
    "        \n",
    "        instance_centroid_rel2fixed = np.mean(np.nonzero(right_instance_vol_inbbox), axis=1)[[1,0,2]] + right_instance_vol_bbox[[0,2,4]]\n",
    "        instance_centroids_rel2fixed[rname].append(instance_centroid_rel2fixed)\n",
    "        \n",
    "    except Exception as e:\n",
    "        print e\n",
    "        continue\n",
    "\n",
    "    try:\n",
    "        left_instance_vol = DataManager.load_original_volume(stack=stack_fixed, downscale=32, volume_type='annotationAsScore', structure=lname)\n",
    "        left_instance_vol_bbox = np.array(bbox_3d(left_instance_vol))\n",
    "        left_instance_vol_inbbox = crop_and_pad_volume(left_instance_vol, out_bbox=left_instance_vol_bbox)\n",
    "        \n",
    "        instance_centroid_rel2fixed = np.mean(np.nonzero(left_instance_vol_inbbox), axis=1)[[1,0,2]] + left_instance_vol_bbox[[0,2,4]]\n",
    "        instance_centroids_rel2fixed[lname].append(instance_centroid_rel2fixed)\n",
    "\n",
    "    except Exception as e:\n",
    "        print e\n",
    "        continue        \n",
    "\n",
    "    for stack_moving in stacks_moving:\n",
    "\n",
    "        try:\n",
    "            left_instance_vol = DataManager.load_transformed_volume(stack_m=stack_moving, vol_type_m='annotationAsScore',\n",
    "                                                            stack_f=stack_fixed, vol_type_f='annotationAsScore',\n",
    "                                                            warp_setting=warp_setting,\n",
    "                                                            structure=lname)\n",
    "            left_instance_vol_bbox_rel2fixed = DataManager.load_transformed_volume_bbox(stack_m=stack_moving, vol_type_m='annotationAsScore',\n",
    "                                                        stack_f=stack_fixed, vol_type_f='annotationAsScore',\n",
    "                                                        warp_setting=warp_setting,\n",
    "                                                        structure=lname)\n",
    "            instance_centroid_rel2fixed = np.mean(np.nonzero(left_instance_vol), axis=1)[[1,0,2]] + left_instance_vol_bbox_rel2fixed[[0,2,4]]\n",
    "            instance_centroids_rel2fixed[lname].append(instance_centroid_rel2fixed)\n",
    "        except Exception as e:\n",
    "            print e\n",
    "            continue \n",
    "\n",
    "        try:\n",
    "            right_instance_vol = DataManager.load_transformed_volume(stack_m=stack_moving, vol_type_m='annotationAsScore',\n",
    "                                                        stack_f=stack_fixed, vol_type_f='annotationAsScore',\n",
    "                                                        warp_setting=warp_setting,\n",
    "                                                        structure=rname)\n",
    "            right_instance_vol_bbox_rel2fixed = DataManager.load_transformed_volume_bbox(stack_m=stack_moving, vol_type_m='annotationAsScore',\n",
    "                                                        stack_f=stack_fixed, vol_type_f='annotationAsScore',\n",
    "                                                        warp_setting=warp_setting,\n",
    "                                                        structure=rname)\n",
    "            instance_centroid_rel2fixed = np.mean(np.nonzero(right_instance_vol), axis=1)[[1,0,2]] + right_instance_vol_bbox_rel2fixed[[0,2,4]]\n",
    "            instance_centroids_rel2fixed[rname].append(instance_centroid_rel2fixed)\n",
    "        except Exception as e:\n",
    "            print e\n",
    "            continue \n"
   ]
  },
  {
   "cell_type": "code",
   "execution_count": 6,
   "metadata": {
    "collapsed": true
   },
   "outputs": [],
   "source": [
    "instance_centroids_rel2fixed.default_factory = None"
   ]
  },
  {
   "cell_type": "code",
   "execution_count": 42,
   "metadata": {},
   "outputs": [
    {
     "name": "stdout",
     "output_type": "stream",
     "text": [
      "aws s3 cp \"/home/yuncong/CSHL_meshes/atlasV5/atlasV5_instanceCentroids.pkl\" \"s3://mousebrainatlas-data/CSHL_meshes/atlasV5/atlasV5_instanceCentroids.pkl\"\n"
     ]
    }
   ],
   "source": [
    "fp = DataManager.get_instance_centroids_filepath(atlas_name=atlas_name)\n",
    "save_pickle(instance_centroids_rel2fixed, fp)\n",
    "upload_to_s3(fp)"
   ]
  },
  {
   "cell_type": "markdown",
   "metadata": {},
   "source": [
    "## Average the centroids"
   ]
  },
  {
   "cell_type": "code",
   "execution_count": 5,
   "metadata": {
    "collapsed": true
   },
   "outputs": [],
   "source": [
    "# fp = DataManager.get_instance_centroids_filepath(atlas_name=atlas_name)\n",
    "# instance_centroids_rel2fixed = load_pickle(fp)"
   ]
  },
  {
   "cell_type": "code",
   "execution_count": 6,
   "metadata": {},
   "outputs": [
    {
     "name": "stdout",
     "output_type": "stream",
     "text": [
      "[ 0.04111027 -0.09160432  0.99494653] @ [ 172.0630378   223.21016434  186.74030921]\n",
      "canonical_centroid_rel2uncropped [ 794.0630378   378.21016434  314.74030921]\n"
     ]
    }
   ],
   "source": [
    "canonical_locations_rel2canon, canonical_centroid_rel2fixed, canonical_normal = \\\n",
    "average_location(instance_centroids_rel2fixed)\n",
    "\n",
    "canonical_centroid_rel2uncropped = canonical_centroid_rel2fixed + ann_vol_bbox_rel2uncropped[[0,2,4]]\n",
    "print 'canonical_centroid_rel2uncropped', canonical_centroid_rel2uncropped"
   ]
  },
  {
   "cell_type": "code",
   "execution_count": 7,
   "metadata": {
    "collapsed": true
   },
   "outputs": [],
   "source": [
    "canonical_locations_rel2fixed = {k: canonical_centroid_rel2fixed + c for k, c in canonical_locations_rel2canon.iteritems()}"
   ]
  },
  {
   "cell_type": "code",
   "execution_count": 8,
   "metadata": {},
   "outputs": [
    {
     "name": "stdout",
     "output_type": "stream",
     "text": [
      "deviation angle: 5.76256199381\n"
     ]
    }
   ],
   "source": [
    "print 'deviation angle:', np.rad2deg(np.arccos(canonical_normal[2]))"
   ]
  },
  {
   "cell_type": "code",
   "execution_count": 9,
   "metadata": {
    "collapsed": true
   },
   "outputs": [],
   "source": [
    "canonical_midplane_xx, canonical_midplane_yy = np.meshgrid(range(0, 500, 100), range(0, 500, 100), indexing='xy')\n",
    "canonical_midplane_z = -(canonical_normal[0]*(canonical_midplane_xx-canonical_centroid_rel2fixed[0]) + \\\n",
    "canonical_normal[1]*(canonical_midplane_yy-canonical_centroid_rel2fixed[1]) + \\\n",
    "canonical_normal[2]*(-canonical_centroid_rel2fixed[2]))/canonical_normal[2]"
   ]
  },
  {
   "cell_type": "code",
   "execution_count": 61,
   "metadata": {},
   "outputs": [
    {
     "data": {
      "text/plain": [
       "defaultdict(None,\n",
       "            {'10N_L': [array([ 314.31405824,  252.90551016,  160.38340666]),\n",
       "              array([ 319.76340326,  268.76573427,  161.62296037]),\n",
       "              array([ 318.8331392 ,  272.47539313,  161.69656377])],\n",
       "             '10N_R': [array([ 314.27435159,  253.36311239,  197.90662824]),\n",
       "              array([ 316.02514011,  257.41793435,  192.90936749]),\n",
       "              array([ 315.01578947,  260.92105263,  192.88357257])],\n",
       "             '12N': [array([ 305.62868662,  262.63469039,  180.26326745]),\n",
       "              array([ 305.62868662,  262.63469039,  180.26326745]),\n",
       "              array([ 309.55822995,  273.4938188 ,  181.57734143]),\n",
       "              array([ 309.55822995,  273.4938188 ,  181.57734143]),\n",
       "              array([ 308.52534009,  277.04238269,  181.57248291]),\n",
       "              array([ 308.52534009,  277.04238269,  181.57248291])],\n",
       "             '3N_L': [array([  98.41015018,  143.48903849,  167.30364233]),\n",
       "              array([  73.05024891,  149.96375233,  176.59163037]),\n",
       "              array([  73.56781502,  150.69987585,  176.57138423])],\n",
       "             '3N_R': [array([  99.31677985,  144.12733447,  186.68902094]),\n",
       "              array([  68.16254228,  148.58305145,  196.70144205]),\n",
       "              array([  68.69285209,  149.21815287,  196.70930644])],\n",
       "             '4N_L': [array([ 121.13259669,  149.84530387,  157.35359116]),\n",
       "              array([  97.58225108,  152.84090909,  168.06060606]),\n",
       "              array([  98.01414581,  153.86615887,  168.03264418])],\n",
       "             '4N_R': [array([ 121.11335013,  148.52392947,  193.54911839]),\n",
       "              array([  92.05577689,  151.12350598,  201.25896414]),\n",
       "              array([  92.46981891,  152.07344064,  201.277666  ])],\n",
       "             '5N_L': [array([ 149.2436918 ,  232.4256158 ,   89.45565485]),\n",
       "              array([ 137.28023417,  234.67177631,   96.28824526]),\n",
       "              array([ 136.69604441,  236.18455548,   96.29254376])],\n",
       "             '5N_R': [array([ 144.03402941,  221.24951845,  279.13299905]),\n",
       "              array([ 138.23931017,  206.72846954,  279.29725702]),\n",
       "              array([ 137.98570161,  208.25893206,  279.29753415])],\n",
       "             '6N_L': [array([ 186.6232493 ,  235.85504202,  156.94887955]),\n",
       "              array([ 185.03100304,  231.08145897,  158.17568389]),\n",
       "              array([ 184.48680172,  233.12093309,  158.1995089 ])],\n",
       "             '6N_R': [array([ 184.97740113,  233.91525424,  209.70998117]),\n",
       "              array([ 183.12087912,  223.59157509,  205.65384615]),\n",
       "              array([ 182.62794918,  225.69147005,  205.66878403])],\n",
       "             '7N_L': [array([ 197.21363712,  311.77793252,  108.27766327]),\n",
       "              array([ 183.88758575,  312.36881316,  124.29344619]),\n",
       "              array([ 182.3737882 ,  314.43195473,  124.30550334])],\n",
       "             '7N_R': [array([ 194.61608533,  297.80868499,  273.96739723]),\n",
       "              array([ 193.10715937,  277.42480179,  272.56512954]),\n",
       "              array([ 192.00412325,  279.58129309,  272.57484303])],\n",
       "             '7n_L': [array([ 174.49113854,  259.02277999,  110.29484086]),\n",
       "              array([ 163.69652439,  260.93242133,  115.64828153]),\n",
       "              array([ 162.80420829,  262.7367405 ,  115.66396409])],\n",
       "             '7n_R': [array([ 172.45392309,  247.52466498,  259.4485337 ]),\n",
       "              array([ 167.78752775,  231.14002317,  261.21541655]),\n",
       "              array([ 167.29720806,  232.99106579,  261.11347414])],\n",
       "             'AP': [array([ 307.89763659,  235.15515654,  176.16421117]),\n",
       "              array([ 307.89763659,  235.15515654,  176.16421117]),\n",
       "              array([ 313.84463368,  245.18364396,  172.38399743]),\n",
       "              array([ 313.84463368,  245.18364396,  172.38399743]),\n",
       "              array([ 313.13568893,  248.74023879,  172.38480155]),\n",
       "              array([ 313.13568893,  248.74023879,  172.38480155])],\n",
       "             'Amb_L': [array([ 252.25846702,  303.66666667,   99.47831254]),\n",
       "              array([ 247.23723042,  313.56451003,  116.76428301]),\n",
       "              array([ 245.67850325,  316.36769759,  116.76250477])],\n",
       "             'Amb_R': [array([ 246.88279644,  285.12063057,  274.88074023]),\n",
       "              array([ 246.40926641,  270.52840596,  275.31274131]),\n",
       "              array([ 245.40230516,  273.27387486,  275.30680571])],\n",
       "             'DC_L': [array([ 230.06697105,  206.1068002 ,   33.72527773]),\n",
       "              array([ 227.58847031,  219.99111327,   39.68973289]),\n",
       "              array([ 227.1960313 ,  222.55697335,   39.71283179])],\n",
       "             'DC_R': [array([ 223.67993598,  184.98011857,  329.12929694]),\n",
       "              array([ 233.67053508,  167.55133087,  328.56590574]),\n",
       "              array([ 233.88807617,  170.21852142,  328.55704722])],\n",
       "             'IC': [array([ 186.29824202,   54.21689691,  171.20398468]),\n",
       "              array([ 186.29824202,   54.21689691,  171.20398468]),\n",
       "              array([ 161.74538677,   55.06134341,  176.20149552]),\n",
       "              array([ 161.74538677,   55.06134341,  176.20149552]),\n",
       "              array([ 163.26925667,   56.86732677,  176.19475346]),\n",
       "              array([ 163.26925667,   56.86732677,  176.19475346])],\n",
       "             'LC_L': [array([ 178.1453774 ,  188.08139795,  118.10160786]),\n",
       "              array([ 170.91314439,  193.54532128,  126.07439531]),\n",
       "              array([ 170.8430055 ,  195.4627978 ,  126.07416005])],\n",
       "             'LC_R': [array([ 173.61735294,  183.38754902,  235.63931373]),\n",
       "              array([ 166.75900097,  171.27494864,  239.55011353]),\n",
       "              array([ 166.91547773,  173.18169045,  239.55079983])],\n",
       "             'LRt_L': [array([ 308.63188839,  326.50217572,  109.1480485 ]),\n",
       "              array([ 288.41633224,  339.86985015,  127.1799271 ]),\n",
       "              array([ 286.60041225,  343.16961131,  127.20178151])],\n",
       "             'LRt_R': [array([ 297.44683261,  306.56535441,  265.14730285]),\n",
       "              array([ 295.29598632,  306.41343393,  275.5818926 ]),\n",
       "              array([ 293.87056233,  309.7842094 ,  275.58254594])],\n",
       "             'PBG_L': [array([ 110.56570591,  144.09330728,   47.57791891]),\n",
       "              array([ 100.96916183,  148.7256194 ,   62.34396415]),\n",
       "              array([ 101.36456962,  149.86522769,   62.35693604])],\n",
       "             'PBG_R': [array([ 116.52746077,  124.70863053,  302.96219686]),\n",
       "              array([  86.82533755,  133.63975869,  314.36684861]),\n",
       "              array([  87.39782173,  134.57580969,  314.35396962])],\n",
       "             'Pn_L': [array([  63.41735623,  286.74098927,  151.62110887]),\n",
       "              array([  49.74566402,  288.65998052,  163.45183282]),\n",
       "              array([  48.543492  ,  289.14901331,  163.44575543])],\n",
       "             'Pn_R': [array([  64.01651722,  285.2867106 ,  232.04339371]),\n",
       "              array([  47.73845845,  277.33690399,  236.15134846]),\n",
       "              array([  46.6475147 ,  277.79039729,  236.15557634])],\n",
       "             'RMC_L': [array([  74.46463502,  176.96672233,  147.79323712]),\n",
       "              array([  52.57906388,  181.68327008,  158.23814042]),\n",
       "              array([  52.64206613,  182.19538048,  158.22037652])],\n",
       "             'RMC_R': [array([  71.90247344,  174.15969582,  215.62059504]),\n",
       "              array([  37.38364222,  178.46329522,  230.97256178]),\n",
       "              array([  37.46616122,  178.80389261,  230.98480373])],\n",
       "             'RtTg': [array([  95.36864204,  269.66249591,  192.21789844]),\n",
       "              array([  95.36864204,  269.66249591,  192.21789844]),\n",
       "              array([  83.86240894,  261.3870993 ,  192.87908974]),\n",
       "              array([  83.86240894,  261.3870993 ,  192.87908974]),\n",
       "              array([  82.98184444,  262.28243117,  192.87179179]),\n",
       "              array([  82.98184444,  262.28243117,  192.87179179])],\n",
       "             'SC': [array([ 108.16582642,   55.09928838,  167.0847641 ]),\n",
       "              array([ 108.16582642,   55.09928838,  167.0847641 ]),\n",
       "              array([  81.52982485,   59.57681194,  179.95378125]),\n",
       "              array([  81.52982485,   59.57681194,  179.95378125]),\n",
       "              array([  83.00584512,   60.45087021,  179.94813426]),\n",
       "              array([  83.00584512,   60.45087021,  179.94813426])],\n",
       "             'SNC_L': [array([  29.91703999,  208.80172557,  101.84245893]),\n",
       "              array([  12.88561637,  213.06779661,  105.45521904]),\n",
       "              array([  12.57140211,  213.13928505,  105.503797  ])],\n",
       "             'SNC_R': [array([  29.23731947,  194.17354131,  270.99006355]),\n",
       "              array([  -2.61163814,  207.20997555,  273.71374083]),\n",
       "              array([  -2.83816047,  207.03845401,  273.77250489])],\n",
       "             'SNR_L': [array([  50.64685892,  206.82446823,   86.44302578]),\n",
       "              array([  32.79492417,  218.92386965,  100.3755489 ]),\n",
       "              array([  32.39483794,  219.23109046,  100.38175493])],\n",
       "             'SNR_R': [array([  50.93969612,  193.17117935,  281.54660605]),\n",
       "              array([  22.44354558,  202.30142348,  286.44224708]),\n",
       "              array([  22.25886246,  202.47254877,  286.4421571 ])],\n",
       "             'Sp5C_L': [array([ 342.61360346,  271.34158857,   79.31207905]),\n",
       "              array([ 346.92059925,  310.16451256,   99.16982249]),\n",
       "              array([ 345.43796457,  314.11698783,   99.1616116 ])],\n",
       "             'Sp5C_R': [array([ 340.33938675,  264.9734402 ,  274.24626621]),\n",
       "              array([ 327.57397828,  279.04981538,  275.23911022])],\n",
       "             'Sp5I_L': [array([ 278.29244477,  265.54654787,   56.34866916]),\n",
       "              array([ 293.83194878,  287.65729429,   70.15553384]),\n",
       "              array([ 292.61154622,  290.99543865,   70.15444669])],\n",
       "             'Sp5I_R': [array([ 299.79284675,  245.1958282 ,  317.13368036]),\n",
       "              array([ 290.7943274 ,  227.77457169,  323.        ]),\n",
       "              array([ 290.26211761,  231.11219552,  323.00533093])],\n",
       "             'Sp5O_L': [array([ 230.89670476,  268.70573061,   58.66582991]),\n",
       "              array([ 230.78382579,  277.78373837,   72.45998213]),\n",
       "              array([ 229.70682255,  280.40914917,   72.45634188])],\n",
       "             'Sp5O_R': [array([ 234.97874663,  253.71131716,  314.78955744]),\n",
       "              array([ 243.90146692,  230.61425013,  319.53220513]),\n",
       "              array([ 243.37634451,  233.37666087,  319.53555046])],\n",
       "             'Tz_L': [array([ 127.73589263,  312.36036946,  158.84882378]),\n",
       "              array([ 122.02268799,  300.97306252,  164.43503313]),\n",
       "              array([ 120.53901786,  302.24784841,  164.43183626])],\n",
       "             'Tz_R': [array([ 125.02385548,  308.01930055,  228.38933066]),\n",
       "              array([ 119.24837422,  290.37496305,  232.95351759]),\n",
       "              array([ 118.02103011,  291.69989669,  232.95417651])],\n",
       "             'VCA_L': [array([ 174.42211225,  230.37320137,   17.80314413]),\n",
       "              array([ 175.34842134,  247.81905372,   29.52783015]),\n",
       "              array([ 174.59790875,  249.78597543,   29.52745686])],\n",
       "             'VCA_R': [array([ 172.71142733,  208.03740266,  353.1791879 ]),\n",
       "              array([ 176.91953791,  192.07004676,  351.31163473]),\n",
       "              array([ 176.85026023,  194.0567732 ,  351.3073413 ])],\n",
       "             'VCP_L': [array([ 212.90343523,  247.47153623,   25.43333442]),\n",
       "              array([ 214.11027849,  259.65820378,   38.33983894]),\n",
       "              array([ 213.25647046,  262.06389401,   38.34115937])],\n",
       "             'VCP_R': [array([ 211.66227041,  223.91637673,  343.242819  ]),\n",
       "              array([ 217.96456411,  202.58349134,  344.69729912]),\n",
       "              array([ 217.73599596,  205.06636926,  344.71882497])],\n",
       "             'VLL_L': [array([ 105.6613885 ,  217.97041701,   73.73836118]),\n",
       "              array([  82.86280244,  239.477498  ,   87.0863141 ]),\n",
       "              array([  82.21983848,  240.39680044,   87.10384687])],\n",
       "             'VLL_R': [array([  93.82204618,  230.72337616,  288.36988375]),\n",
       "              array([  81.75561322,  220.99571251,  293.21460002]),\n",
       "              array([  81.36399526,  221.83244036,  293.22607298])]})"
      ]
     },
     "execution_count": 61,
     "metadata": {},
     "output_type": "execute_result"
    }
   ],
   "source": [
    "instance_centroids_rel2fixed"
   ]
  },
  {
   "cell_type": "code",
   "execution_count": 51,
   "metadata": {
    "scrolled": true
   },
   "outputs": [],
   "source": [
    "radii_allStructures = {}\n",
    "ellipsoid_matrix_allStructures = {}\n",
    "for name_s, centroids in sorted(instance_centroids_rel2fixed.items()):\n",
    "    centroids2 = np.array(centroids)\n",
    "    cov_mat = np.cov(centroids2.T)\n",
    "    u, s, vt = np.linalg.svd(cov_mat)\n",
    "#     print name_s, u[:,0], u[:,1], u[:,2],\n",
    "    radii_allStructures[name_s] = np.sqrt(s)\n",
    "    ellipsoid_matrix_allStructures[name_s] = vt"
   ]
  },
  {
   "cell_type": "code",
   "execution_count": 58,
   "metadata": {},
   "outputs": [
    {
     "data": {
      "image/png": "[encoded data removed]",
      "text/plain": [
       "<matplotlib.figure.Figure at 0x7fceba667810>"
      ]
     },
     "metadata": {},
     "output_type": "display_data"
    }
   ],
   "source": [
    "from mpl_toolkits.mplot3d import Axes3D\n",
    "import matplotlib.pyplot as plt\n",
    "\n",
    "fig = plt.figure(figsize=(10, 10))\n",
    "ax = fig.add_subplot(111, projection='3d')\n",
    "\n",
    "for name_s, centroids in instance_centroids_rel2fixed.iteritems():\n",
    "#     if name_s == '7N_L' or name_s == '7N_R':\n",
    "    centroids2 = np.array(centroids)\n",
    "    ax.scatter(centroids2[:,0], centroids2[:,1], centroids2[:,2], \n",
    "               color=np.array(name_unsided_to_color[convert_to_original_name(name_s)])/255., \n",
    "               marker='o', s=100, alpha=.1)\n",
    "    \n",
    "    c = canonical_locations_rel2fixed[name_s]\n",
    "    ax.scatter(c[0], c[1], c[2], \n",
    "               color=np.array(name_unsided_to_color[convert_to_original_name(name_s)])/255., marker='*', s=100)\n",
    "    \n",
    "    # Plot uncerntainty ellipsoids\n",
    "    u = np.linspace(0.0, 2.0 * np.pi, 100)\n",
    "    v = np.linspace(0.0, np.pi, 100)\n",
    "    x = radii_allStructures[name_s][0] * np.outer(np.cos(u), np.sin(v))\n",
    "    y = radii_allStructures[name_s][1] * np.outer(np.sin(u), np.sin(v))\n",
    "    z = radii_allStructures[name_s][2] * np.outer(np.ones_like(u), np.cos(v))\n",
    "    for i in range(len(u)):\n",
    "        for j in range(len(v)):\n",
    "            [x[i,j],y[i,j],z[i,j]] = np.dot([x[i,j],y[i,j],z[i,j]], ellipsoid_matrix_allStructures[name_s]) + c\n",
    "\n",
    "#     ax.plot_surface(x, y, z, color='b')\n",
    "    ax.plot_wireframe(x, y, z,  rstride=4, cstride=4, color='b', alpha=0.2)\n",
    "    \n",
    "ax.scatter(canonical_centroid_rel2fixed[0], canonical_centroid_rel2fixed[1], canonical_centroid_rel2fixed[2], \n",
    "           color=(0,0,0), marker='^', s=200)\n",
    "\n",
    "# Plot mid-sagittal plane\n",
    "ax.plot_surface(canonical_midplane_xx, canonical_midplane_yy, canonical_midplane_z, alpha=.1)\n",
    "\n",
    "# ax.set_xlabel('X Label')\n",
    "# ax.set_ylabel('Y Label')\n",
    "# ax.set_zlabel('Z Label')\n",
    "# ax.set_axis_off()\n",
    "ax.set_xlim3d([0, 400]);\n",
    "ax.set_ylim3d([0, 400]);\n",
    "ax.set_zlim3d([0, 400]);\n",
    "# ax.view_init(azim = 90 + 20,elev = 0 - 20)\n",
    "ax.view_init(azim = 90,elev = 0)\n",
    "ax.set_aspect(1.0)\n",
    "plt.legend()\n",
    "plt.show()"
   ]
  },
  {
   "cell_type": "code",
   "execution_count": 129,
   "metadata": {
    "collapsed": true
   },
   "outputs": [],
   "source": [
    "np.savetxt(DataManager.get_atlas_canonical_centroid_filepath(atlas_name=atlas_name), canonical_centroid_rel2uncropped)\n",
    "np.savetxt(DataManager.get_atlas_canonical_normal_filepath(atlas_name=atlas_name), canonical_normal)\n",
    "save_pickle(canonical_locations_rel2canon, DataManager.get_structure_mean_positions_filepath(atlas_name=atlas_name))"
   ]
  },
  {
   "cell_type": "markdown",
   "metadata": {},
   "source": [
    "# Compute mean shapes"
   ]
  },
  {
   "cell_type": "code",
   "execution_count": null,
   "metadata": {
    "collapsed": true
   },
   "outputs": [],
   "source": [
    "stack_fixed = 'MD589'\n",
    "stacks_moving = ['MD585', 'MD594']\n",
    "warp_setting = 9"
   ]
  },
  {
   "cell_type": "code",
   "execution_count": null,
   "metadata": {
    "collapsed": true
   },
   "outputs": [],
   "source": [
    "instance_volumes = defaultdict(list)\n",
    "instance_source = defaultdict(list)\n",
    "\n",
    "moving_vol_aligned2template_inbbox_allInstances_allStructures = defaultdict(list)\n",
    "moving_vol_aligned2template_bbox_rel2templateCentroid_allInstances_allStructures = defaultdict(list)\n",
    "scores_allInstances_allStructures = defaultdict(list)\n",
    "scores_allInstances_allStructures_allLearningRates = defaultdict(lambda: defaultdict(list))\n",
    "\n",
    "structure_mean_shape_allStructures = {}\n",
    "structure_origin_rel2templateCentroid_allStructures = {}\n",
    "structure_mean_mesh_rel2templateCentroid_allStructures = {}\n",
    "\n",
    "instance_aligned2template_meshes_rel2templateCentroid_allStructures = defaultdict(list)\n",
    "template_meshes_rel2templateCentroid_allStructures = {}\n",
    "template_vol_centroids_rel2template_allStructures = {}\n",
    "\n",
    "# for name_u in ['7N']:\n",
    "for name_u in all_known_structures:\n",
    "    print name_u\n",
    "    \n",
    "    if name_u in paired_structures:\n",
    "        lname = convert_to_left_name(name_u)\n",
    "        rname = convert_to_right_name(name_u)\n",
    "    else:\n",
    "        lname = name_u\n",
    "        rname = name_u\n",
    "    \n",
    "    try:\n",
    "        right_instance_vol = DataManager.load_original_volume(stack=stack_fixed,  downscale=32, volume_type='annotationAsScore', structure=rname)\n",
    "        right_instance_vol_bbox = np.array(bbox_3d(right_instance_vol))\n",
    "        right_instance_vol_inbbox = crop_and_pad_volume(right_instance_vol, out_bbox=right_instance_vol_bbox)\n",
    "        instance_volumes[name_u].append(right_instance_vol_inbbox) # if right, do not mirror\n",
    "        instance_source[name_u].append((stack_fixed, 'R'))\n",
    "    except Exception as e:\n",
    "        continue\n",
    "\n",
    "    try:\n",
    "        left_instance_vol = DataManager.load_original_volume(stack=stack_fixed, downscale=32, volume_type='annotationAsScore', structure=lname)\n",
    "        left_instance_vol_bbox = np.array(bbox_3d(left_instance_vol))\n",
    "        left_instance_vol_inbbox = crop_and_pad_volume(left_instance_vol, out_bbox=left_instance_vol_bbox)\n",
    "        instance_volumes[name_u].append(left_instance_vol_inbbox[..., ::-1]) # if left, mirror\n",
    "        instance_source[name_u].append((stack_fixed, 'L'))\n",
    "    except:\n",
    "        continue        \n",
    "\n",
    "    for stack_moving in stacks_moving:\n",
    "\n",
    "        try:\n",
    "            left_instance_vol = DataManager.load_transformed_volume(stack_m=stack_moving, vol_type_m='annotationAsScore',\n",
    "                                                            stack_f=stack_fixed, vol_type_f='annotationAsScore',\n",
    "                                                            warp_setting=warp_setting,\n",
    "                                                            structure=lname)\n",
    "            instance_volumes[name_u].append(left_instance_vol[..., ::-1]) # if left, mirror\n",
    "            instance_source[name_u].append((stack_moving, 'L'))\n",
    "        except:\n",
    "            continue\n",
    "\n",
    "        try:\n",
    "            right_instance_vol = DataManager.load_transformed_volume(stack_m=stack_moving, vol_type_m='annotationAsScore',\n",
    "                                                        stack_f=stack_fixed, vol_type_f='annotationAsScore',\n",
    "                                                        warp_setting=warp_setting,\n",
    "                                                        structure=rname)\n",
    "            instance_volumes[name_u].append(right_instance_vol) # if right, do not mirror\n",
    "            instance_source[name_u].append((stack_moving, 'R'))\n",
    "        except:\n",
    "            continue\n",
    "            \n",
    "    ############################################\n",
    "    \n",
    "    template_vol = instance_volumes[name_u][0]\n",
    "    \n",
    "    template_vol_centroid_rel2template = np.mean(np.nonzero(template_vol), axis=1)[[1,0,2]]\n",
    "    template_vol_centroids_rel2template_allStructures[name_u] = template_vol_centroid_rel2template\n",
    "\n",
    "    for i in range(1, len(instance_volumes[name_u])):\n",
    "\n",
    "        moving_vol = instance_volumes[name_u][i]\n",
    "\n",
    "        aligner = Aligner4({0:template_vol}, {0:moving_vol}, labelIndexMap_m2f={0:0})\n",
    "        aligner.set_centroid(centroid_m='structure_centroid', centroid_f='structure_centroid')\n",
    "\n",
    "#         grid_search_T, grid_search_score = aligner.do_grid_search(grid_search_sample_number=5,\n",
    "#                       std_tx=30, std_ty=30, std_tz=30, std_theta_xy=0,\n",
    "#                        grid_search_eta=3., stop_radius_voxel=2)\n",
    "        \n",
    "        gy, gx, gz = np.gradient(template_vol)\n",
    "        gradients = {0: np.array([gx, gy, gz])}\n",
    "        aligner.load_gradient(gradients=gradients)\n",
    "\n",
    "#         for lr in [.1, 1, 10]:\n",
    "#             T, scores = aligner.optimize(tf_type='rigid', \n",
    "#                                  history_len=50, \n",
    "#                                  terminate_thresh=1e-6,\n",
    "#                                  grad_computation_sample_number=100000,\n",
    "#                                          full_lr=np.array([lr,lr,lr,0.1,0.1,0.1]),\n",
    "#     #                                      init_T=grid_search_T\n",
    "#                                 )\n",
    "\n",
    "#             scores_allInstances_allStructures_allLearningRates[lr][name_u].append(scores)\n",
    "\n",
    "        lr = 1.\n",
    "        T, scores = aligner.optimize(tf_type='rigid', \n",
    "                             history_len=50, \n",
    "                             terminate_thresh=1e-6,\n",
    "                            max_iter_num=100 if name_u in ['SC', 'IC'] else 1000,\n",
    "                             grad_computation_sample_number=None,\n",
    "                                full_lr=np.array([lr,lr,lr,0.1,0.1,0.1]),\n",
    "#                                      init_T=grid_search_T\n",
    "                            )\n",
    "\n",
    "        scores_allInstances_allStructures[name_u].append(scores)\n",
    "        \n",
    "        #################################\n",
    "        \n",
    "        moving_vol_aligned2template_inbbox, moving_vol_aligned2template_bbox_rel2template = transform_volume_v2(moving_vol, T, \n",
    "                                                                              centroid_m=aligner.centroid_m,\n",
    "                                                                             centroid_f=aligner.centroid_f)\n",
    "\n",
    "        moving_vol_aligned2template_bbox_rel2templateCentroid = \\\n",
    "        np.array(moving_vol_aligned2template_bbox_rel2template) - template_vol_centroid_rel2template[[0,0,1,1,2,2]]\n",
    "        \n",
    "        moving_vol_aligned2template_inbbox_allInstances_allStructures[name_u].append(moving_vol_aligned2template_inbbox)\n",
    "        moving_vol_aligned2template_bbox_rel2templateCentroid_allInstances_allStructures[name_u].append(moving_vol_aligned2template_bbox_rel2templateCentroid)  \n",
    "    \n",
    "    ########################################\n",
    "\n",
    "#     fig, axes = plt.subplots(1, 5, figsize=(20,2))\n",
    "#     for i, scores in enumerate(scores_allInstances_allStructures[name_u]):\n",
    "#         axes[i].plot(scores)\n",
    "#         axes[i].set_title('%s, %s, %s, %f' % ((name_u,) + instance_source[name_u][i+1] + (np.max(scores),)))\n",
    "#     plt.show();\n",
    "    \n",
    "    #########################################\n",
    "\n",
    "    for moving_vol_aligned2template, moving_vol_aligned2template_bbox_rel2templateCentroid in \\\n",
    "    zip(moving_vol_aligned2template_inbbox_allInstances_allStructures[name_u], \n",
    "        moving_vol_aligned2template_bbox_rel2templateCentroid_allInstances_allStructures[name_u]):\n",
    "        instance_aligned2template_mesh_rel2templateCentroid = volume_to_polydata(moving_vol_aligned2template, \\\n",
    "                                                            origin=np.array(moving_vol_aligned2template_bbox_rel2templateCentroid)[[0,2,4]], \n",
    "                           num_simplify_iter=3, smooth=True)\n",
    "        instance_aligned2template_meshes_rel2templateCentroid_allStructures[name_u].append(instance_aligned2template_mesh_rel2templateCentroid)\n",
    "\n",
    "    template_meshes_rel2templateCentroid_allStructures[name_u] = volume_to_polydata(template_vol, num_simplify_iter=3, smooth=True, origin=-template_vol_centroid_rel2template)\n",
    "    \n",
    "#     launch_vtk([actor_mesh(mesh, wireframe=True, color=np.array(high_contrast_colors[i+1])/255., opacity=1) \n",
    "#     for i, mesh in enumerate([template_mesh] + instance_aligned2template_meshes_allStructures[name_u])], \n",
    "#           background_color=(1,1,1))\n",
    "    \n",
    "    ##########################################\n",
    "    # Save instances data\n",
    "    \n",
    "    for s, instance_aligned2template_meshes_rel2templateCentroid in instance_aligned2template_meshes_rel2templateCentroid_allStructures.iteritems():\n",
    "\n",
    "        fp = DataManager.get_instance_mesh_filepath(atlas_name=atlas_name, structure=s, index=0)\n",
    "        create_parent_dir_if_not_exists(fp)\n",
    "        save_mesh_stl(template_meshes_rel2templateCentroid_allStructures[s], fp)\n",
    "        upload_to_s3(fp)\n",
    "        \n",
    "        for i, m in enumerate(instance_aligned2template_meshes_rel2templateCentroid):\n",
    "            fp = DataManager.get_instance_mesh_filepath(atlas_name=atlas_name, structure=s, index=i+1)\n",
    "            save_mesh_stl(m, fp)\n",
    "            upload_to_s3(fp)\n",
    "            \n",
    "        fp = DataManager.get_instance_sources_filepath(atlas_name=atlas_name, structure=s)\n",
    "        create_parent_dir_if_not_exists(fp)\n",
    "        save_pickle(instance_source[s], fp)\n",
    "        upload_to_s3(fp)        \n",
    "    \n",
    "    #########################################\n",
    "    \n",
    "    if name_u == 'IC' or name_u == 'SC':\n",
    "        # IC and SC boundaries are particularly jagged, so do a larger value smoothing.\n",
    "        sigma = 5.\n",
    "    else:\n",
    "        sigma = 2.\n",
    "\n",
    "    structure_mean_shape, structure_origin_rel2templateCentroid, structure_mean_mesh_rel2templateCentroid = \\\n",
    "        average_shape(volume_list=moving_vol_aligned2template_inbbox_allInstances_allStructures[name_u], \\\n",
    "                      origin_list=[(b_rel2templateCentroid[0], b_rel2templateCentroid[2], b_rel2templateCentroid[4])\n",
    "                                   for b_rel2templateCentroid in moving_vol_aligned2template_bbox_rel2templateCentroid_allInstances_allStructures[name_u]],\n",
    "                      consensus_percentage=.5,\n",
    "                      num_simplify_iter=3, smooth=True,\n",
    "                      force_symmetric=(name_u in singular_structures), \n",
    "                      sigma=sigma)\n",
    "    \n",
    "    structure_mean_shape_allStructures[name_u] = structure_mean_shape\n",
    "#     structure_origin_rel2template_allStructures[name_u] = structure_origin_rel2template    \n",
    "#     structure_mean_mesh_rel2template_allStructures[name_u] = structure_mean_mesh_rel2template\n",
    "    structure_origin_rel2templateCentroid_allStructures[name_u] = structure_origin_rel2templateCentroid    \n",
    "    structure_mean_mesh_rel2templateCentroid_allStructures[name_u] = structure_mean_mesh_rel2templateCentroid\n",
    "    \n",
    "    ########################################\n",
    "    # Save mean shape data\n",
    "    \n",
    "    fp = DataManager.get_structure_mean_mesh_filepath(atlas_name=atlas_name, structure=name_u)\n",
    "    create_parent_dir_if_not_exists(fp)\n",
    "    save_mesh_stl(structure_mean_mesh_rel2templateCentroid, fp)\n",
    "    upload_to_s3(fp)\n",
    "    \n",
    "    fp = DataManager.get_structure_mean_shape_filepath(atlas_name=atlas_name, structure=name_u)\n",
    "    bp.pack_ndarray_file(structure_mean_shape, fp)\n",
    "    upload_to_s3(fp)\n",
    "    \n",
    "    fp = DataManager.get_structure_mean_shape_origin_filepath(atlas_name=atlas_name, structure=name_u)\n",
    "    np.savetxt(fp, structure_origin_rel2templateCentroid)\n",
    "    upload_to_s3(fp)\n",
    "    \n",
    "    ##########################################\n",
    "    \n",
    "#     launch_vtk([\n",
    "#     actor_mesh(structure_mean_mesh_rel2template_allStructures[name_u], wireframe=True, opacity=1., color=(1,0,0)),\n",
    "#     actor_volume(structure_mean_shape_allStructures[name_u].astype(np.float32), what='probability',\n",
    "#                 origin=structure_origin_rel2template_allStructures[name_u], c=(0,1,0)),\n",
    "# ], background_color=(0,0,0))\n",
    "\n",
    "    ######################################\n",
    "    \n",
    "instance_volumes.default_factory = None\n",
    "instance_source.default_factory = None\n",
    "moving_vol_aligned2template_inbbox_allInstances_allStructures.default_factory = None\n",
    "moving_vol_aligned2template_bbox_rel2templateCentroid_allInstances_allStructures.default_factory = None\n",
    "scores_allInstances_allStructures.default_factory = None\n",
    "scores_allInstances_allStructures_allLearningRates.default_factory = None\n",
    "instance_aligned2template_meshes_rel2templateCentroid_allStructures.default_factory = None"
   ]
  },
  {
   "cell_type": "code",
   "execution_count": null,
   "metadata": {
    "collapsed": true
   },
   "outputs": [],
   "source": [
    "for structure, scores_allInstances in scores_allInstances_allStructures.iteritems():\n",
    "    fig, axes = plt.subplots(1, 5, figsize=(20,2))\n",
    "    for i, scores in enumerate(scores_allInstances):\n",
    "        axes[i].plot(scores)\n",
    "        axes[i].set_title('%s, %s, %s, %f' % ((name_u,) + instance_source[name_u][i+1] + (np.max(scores),)))\n",
    "plt.show()"
   ]
  },
  {
   "cell_type": "code",
   "execution_count": null,
   "metadata": {
    "collapsed": true
   },
   "outputs": [],
   "source": [
    "launch_vtk([\n",
    "#     actor_mesh(structure_mean_mesh_rel2template_allStructures[name_u], wireframe=True, opacity=1., color=(1,0,0)),\n",
    "    actor_volume(structure_mean_shape_allStructures[name_u].astype(np.float32), what='probability',\n",
    "                origin=structure_origin_rel2templateCentroid_allStructures[name_u], c=(0,1,0)),\n",
    "] + \\\n",
    "    [actor_mesh(mesh, wireframe=True, color=np.array(high_contrast_colors[i+1])/255., opacity=1) \n",
    "for i, mesh in enumerate([template_meshes_rel2templateCentroid_allStructures[name_u]] + \\\n",
    "                         instance_aligned2template_meshes_rel2templateCentroid_allStructures[name_u])] + \\\n",
    "    [actor_sphere((0,0,0), radius=1, color=(0,0,0))], \n",
    "    background_color=(0,0,0))"
   ]
  },
  {
   "cell_type": "code",
   "execution_count": null,
   "metadata": {
    "collapsed": true
   },
   "outputs": [],
   "source": [
    "# viz"
   ]
  },
  {
   "cell_type": "code",
   "execution_count": null,
   "metadata": {
    "collapsed": true
   },
   "outputs": [],
   "source": [
    "# instance_colors = [(1,0,0),(0,1,0),(0,0,1),(1,1,0),(0,1,1),(1,0,1)] # assume each structure has at most 6 instances.\n",
    "\n",
    "# for structure in all_known_structures_sided:\n",
    "# # for structure in ['IC']:\n",
    "\n",
    "#     print structure\n",
    "    \n",
    "#     for direction in ['coronal', 'sagittal', 'horizontal']:\n",
    "\n",
    "#         # Show each instance separately\n",
    "#         for i, polydata in enumerate([structure]):\n",
    "#             instance_actors = actor_mesh(polydata, instance_colors[i], opacity=1, wireframe=False)\n",
    "\n",
    "#             fp = DataManager.get_structure_viz_filepath(atlas_name=atlas_name, \n",
    "#                                                         structure=structure, suffix=direction+'_'+str(i))\n",
    "#             create_parent_dir_if_not_exists(fp)\n",
    "#             launch_vtk([instance_actors], snapshot_fn=fp, interactive=False, init_angle=direction)\n",
    "\n",
    "#         # Show different instances shown aligned together\n",
    "#         instance_actors = [actor_mesh(polydata, instance_colors[i], opacity=1., wireframe=True) \n",
    "#                            for i, polydata in enumerate(polydata_list_allLandmarks[structure])]\n",
    "\n",
    "#         icp_fp = DataManager.get_prob_shape_viz_filepath(stack_m=atlas_name, trial_idx=None, \n",
    "#                                                          structure=structure, suffix=direction+'_icpAligned')\n",
    "#         launch_vtk(instance_actors, snapshot_fn=icp_fp, interactive=False, init_angle=direction)\n",
    "# #         launch_vtk(instance_actors, init_angle=direction)\n",
    "        \n",
    "#         # Show voxel-voted probabilistic shape\n",
    "#         prob_shape_actor = actor_volume(prob_shape_allLandmarks[structure].astype(np.float32), \n",
    "#                                         what='probability', origin=prob_shape_origin_allLandmarks[structure])\n",
    "\n",
    "#         prob_shape_fp = DataManager.get_prob_shape_viz_filepath(stack_m=atlas_name, trial_idx=None, \n",
    "#                                                          structure=structure, suffix=direction+'_probShape')\n",
    "#         launch_vtk([prob_shape_actor], snapshot_fn=prob_shape_fp, interactive=False, init_angle=direction)\n",
    "# #         launch_vtk([prob_shape_actor], init_angle=direction)\n",
    "\n",
    "#         # Show voxel-voted probabilistic shape, thresholded at .5\n",
    "#         actor = actor_mesh(average_polydata_allLandmarks[structure], [1,1,1], opacity=1, wireframe=True)\n",
    "        \n",
    "#         thresh_shape_fp = DataManager.get_prob_shape_viz_filepath(stack_m=atlas_name, trial_idx=None, \n",
    "#                                                                 structure=structure, suffix=direction+'_thresh0.5')\n",
    "#         launch_vtk([actor], snapshot_fn=thresh_shape_fp, interactive=False, init_angle=direction)\n",
    "# #         launch_vtk([actor], init_angle=direction)"
   ]
  },
  {
   "cell_type": "markdown",
   "metadata": {},
   "source": [
    "# Load all necessary data"
   ]
  },
  {
   "cell_type": "code",
   "execution_count": 5,
   "metadata": {
    "collapsed": true
   },
   "outputs": [],
   "source": [
    "# Load canonical info\n",
    "\n",
    "canonical_locations_rel2canon = load_pickle(DataManager.get_structure_mean_positions_filepath(atlas_name=atlas_name))\n",
    "canonical_centroid_rel2uncropped = np.loadtxt(DataManager.get_atlas_canonical_centroid_filepath(atlas_name=atlas_name))"
   ]
  },
  {
   "cell_type": "code",
   "execution_count": 12,
   "metadata": {
    "collapsed": true
   },
   "outputs": [],
   "source": [
    "structure_volumes_rel2canon = {}\n",
    "structure_meshes_rel2canon = {}\n",
    "\n",
    "for name_s in canonical_locations_rel2canon.keys():\n",
    "    \n",
    "    name_u = convert_to_original_name(name_s)\n",
    "    \n",
    "    prob_shape = bp.unpack_ndarray_file(DataManager.get_structure_mean_shape_filepath(atlas_name=atlas_name, structure=name_u))\n",
    "    prob_shape_origin_rel2structCentroid = np.loadtxt(DataManager.get_structure_mean_shape_origin_filepath(atlas_name=atlas_name, structure=name_u))\n",
    "    \n",
    "    vertices_rel2structCentroid, faces = load_mesh_stl(DataManager.get_structure_mean_mesh_filepath(atlas_name=atlas_name, structure=name_u))\n",
    "\n",
    "    structure_centroid_rel2canon = canonical_locations_rel2canon[name_s]\n",
    "    \n",
    "    if name_s in singular_structures or parse_label(name_s)[1] == 'R':\n",
    "        # Singular or Right - don't need mirroring\n",
    "        structure_volumes_rel2canon[name_s] = (prob_shape, structure_centroid_rel2canon + prob_shape_origin_rel2structCentroid)\n",
    "        structure_meshes_rel2canon[name_s] = mesh_to_polydata(vertices=vertices_rel2structCentroid + structure_centroid_rel2canon, \n",
    "                                                                faces=faces)\n",
    "    else:\n",
    "        # Left - need mirroring\n",
    "        structure_volumes_rel2canon[name_s] = mirror_volume(prob_shape, structure_centroid_rel2canon + prob_shape_origin_rel2structCentroid*(1,1,-1))\n",
    "        structure_meshes_rel2canon[name_s] = mesh_to_polydata(vertices=vertices_rel2structCentroid*(1,1,-1) + structure_centroid_rel2canon, \n",
    "                                                                faces=faces)"
   ]
  },
  {
   "cell_type": "code",
   "execution_count": 8,
   "metadata": {
    "collapsed": true,
    "scrolled": true
   },
   "outputs": [],
   "source": [
    "# Save structure meshes with respect to canonical centroid.\n",
    "\n",
    "# for name_s, mesh_rel2canon in structure_meshes_rel2canon.iteritems():\n",
    "#     fp = DataManager.get_mesh_filepath(stack_m=atlas_name, structure=name_s)\n",
    "#     create_parent_dir_if_not_exists(fp)\n",
    "#     save_mesh_stl(mesh_rel2canon, fp)\n",
    "#     upload_to_s3(fp)"
   ]
  },
  {
   "cell_type": "markdown",
   "metadata": {},
   "source": [
    "# Generate full-brain atlas volume"
   ]
  },
  {
   "cell_type": "code",
   "execution_count": 13,
   "metadata": {
    "collapsed": true,
    "scrolled": true
   },
   "outputs": [],
   "source": [
    "atlas_volumes, atlas_volume_bbox_rel2canon = \\\n",
    "convert_vol_bbox_dict_to_overall_vol(vol_origin_dict=structure_volumes_rel2canon)"
   ]
  },
  {
   "cell_type": "code",
   "execution_count": 14,
   "metadata": {
    "collapsed": true
   },
   "outputs": [],
   "source": [
    "atlas_volumes = {k: v.astype(np.float16) for k, v in atlas_volumes.iteritems()}"
   ]
  },
  {
   "cell_type": "code",
   "execution_count": 15,
   "metadata": {},
   "outputs": [
    {
     "name": "stdout",
     "output_type": "stream",
     "text": [
      "atlas_volume_bbox_rel2uncropped: [  606.24715421  1033.23689675   151.74948279   508.07431144   127.52975177\n",
      "   501.95086665]\n"
     ]
    }
   ],
   "source": [
    "atlas_volume_bbox_rel2uncropped = atlas_volume_bbox_rel2canon + canonical_centroid_rel2uncropped[[0,0,1,1,2,2]]\n",
    "print 'atlas_volume_bbox_rel2uncropped:', atlas_volume_bbox_rel2uncropped"
   ]
  },
  {
   "cell_type": "code",
   "execution_count": 92,
   "metadata": {
    "scrolled": true
   },
   "outputs": [
    {
     "name": "stdout",
     "output_type": "stream",
     "text": [
      "aws s3 cp \"/home/yuncong/CSHL_volumes/atlasV5/atlasV5_down32_scoreVolume/score_volumes/atlasV5_down32_scoreVolume_LRt_R.bp\" \"s3://mousebrainatlas-data/CSHL_volumes/atlasV5/atlasV5_down32_scoreVolume/score_volumes/atlasV5_down32_scoreVolume_LRt_R.bp\"\n",
      "aws s3 cp \"/home/yuncong/CSHL_volumes/atlasV5/atlasV5_down32_scoreVolume/score_volumes/atlasV5_down32_scoreVolume_LRt_R_bbox.txt\" \"s3://mousebrainatlas-data/CSHL_volumes/atlasV5/atlasV5_down32_scoreVolume/score_volumes/atlasV5_down32_scoreVolume_LRt_R_bbox.txt\"\n",
      "aws s3 cp \"/home/yuncong/CSHL_volumes/atlasV5/atlasV5_down32_scoreVolume/score_volumes/atlasV5_down32_scoreVolume_Sp5C_L.bp\" \"s3://mousebrainatlas-data/CSHL_volumes/atlasV5/atlasV5_down32_scoreVolume/score_volumes/atlasV5_down32_scoreVolume_Sp5C_L.bp\"\n",
      "aws s3 cp \"/home/yuncong/CSHL_volumes/atlasV5/atlasV5_down32_scoreVolume/score_volumes/atlasV5_down32_scoreVolume_Sp5C_L_bbox.txt\" \"s3://mousebrainatlas-data/CSHL_volumes/atlasV5/atlasV5_down32_scoreVolume/score_volumes/atlasV5_down32_scoreVolume_Sp5C_L_bbox.txt\"\n",
      "aws s3 cp \"/home/yuncong/CSHL_volumes/atlasV5/atlasV5_down32_scoreVolume/score_volumes/atlasV5_down32_scoreVolume_Pn_L.bp\" \"s3://mousebrainatlas-data/CSHL_volumes/atlasV5/atlasV5_down32_scoreVolume/score_volumes/atlasV5_down32_scoreVolume_Pn_L.bp\"\n",
      "aws s3 cp \"/home/yuncong/CSHL_volumes/atlasV5/atlasV5_down32_scoreVolume/score_volumes/atlasV5_down32_scoreVolume_Pn_L_bbox.txt\" \"s3://mousebrainatlas-data/CSHL_volumes/atlasV5/atlasV5_down32_scoreVolume/score_volumes/atlasV5_down32_scoreVolume_Pn_L_bbox.txt\"\n",
      "aws s3 cp \"/home/yuncong/CSHL_volumes/atlasV5/atlasV5_down32_scoreVolume/score_volumes/atlasV5_down32_scoreVolume_7N_R.bp\" \"s3://mousebrainatlas-data/CSHL_volumes/atlasV5/atlasV5_down32_scoreVolume/score_volumes/atlasV5_down32_scoreVolume_7N_R.bp\"\n",
      "aws s3 cp \"/home/yuncong/CSHL_volumes/atlasV5/atlasV5_down32_scoreVolume/score_volumes/atlasV5_down32_scoreVolume_7N_R_bbox.txt\" \"s3://mousebrainatlas-data/CSHL_volumes/atlasV5/atlasV5_down32_scoreVolume/score_volumes/atlasV5_down32_scoreVolume_7N_R_bbox.txt\"\n",
      "aws s3 cp \"/home/yuncong/CSHL_volumes/atlasV5/atlasV5_down32_scoreVolume/score_volumes/atlasV5_down32_scoreVolume_PBG_L.bp\" \"s3://mousebrainatlas-data/CSHL_volumes/atlasV5/atlasV5_down32_scoreVolume/score_volumes/atlasV5_down32_scoreVolume_PBG_L.bp\"\n",
      "aws s3 cp \"/home/yuncong/CSHL_volumes/atlasV5/atlasV5_down32_scoreVolume/score_volumes/atlasV5_down32_scoreVolume_PBG_L_bbox.txt\" \"s3://mousebrainatlas-data/CSHL_volumes/atlasV5/atlasV5_down32_scoreVolume/score_volumes/atlasV5_down32_scoreVolume_PBG_L_bbox.txt\"\n",
      "aws s3 cp \"/home/yuncong/CSHL_volumes/atlasV5/atlasV5_down32_scoreVolume/score_volumes/atlasV5_down32_scoreVolume_VLL_L.bp\" \"s3://mousebrainatlas-data/CSHL_volumes/atlasV5/atlasV5_down32_scoreVolume/score_volumes/atlasV5_down32_scoreVolume_VLL_L.bp\"\n",
      "aws s3 cp \"/home/yuncong/CSHL_volumes/atlasV5/atlasV5_down32_scoreVolume/score_volumes/atlasV5_down32_scoreVolume_VLL_L_bbox.txt\" \"s3://mousebrainatlas-data/CSHL_volumes/atlasV5/atlasV5_down32_scoreVolume/score_volumes/atlasV5_down32_scoreVolume_VLL_L_bbox.txt\"\n",
      "aws s3 cp \"/home/yuncong/CSHL_volumes/atlasV5/atlasV5_down32_scoreVolume/score_volumes/atlasV5_down32_scoreVolume_VLL_R.bp\" \"s3://mousebrainatlas-data/CSHL_volumes/atlasV5/atlasV5_down32_scoreVolume/score_volumes/atlasV5_down32_scoreVolume_VLL_R.bp\"\n",
      "aws s3 cp \"/home/yuncong/CSHL_volumes/atlasV5/atlasV5_down32_scoreVolume/score_volumes/atlasV5_down32_scoreVolume_VLL_R_bbox.txt\" \"s3://mousebrainatlas-data/CSHL_volumes/atlasV5/atlasV5_down32_scoreVolume/score_volumes/atlasV5_down32_scoreVolume_VLL_R_bbox.txt\"\n",
      "aws s3 cp \"/home/yuncong/CSHL_volumes/atlasV5/atlasV5_down32_scoreVolume/score_volumes/atlasV5_down32_scoreVolume_7N_L.bp\" \"s3://mousebrainatlas-data/CSHL_volumes/atlasV5/atlasV5_down32_scoreVolume/score_volumes/atlasV5_down32_scoreVolume_7N_L.bp\"\n",
      "aws s3 cp \"/home/yuncong/CSHL_volumes/atlasV5/atlasV5_down32_scoreVolume/score_volumes/atlasV5_down32_scoreVolume_7N_L_bbox.txt\" \"s3://mousebrainatlas-data/CSHL_volumes/atlasV5/atlasV5_down32_scoreVolume/score_volumes/atlasV5_down32_scoreVolume_7N_L_bbox.txt\"\n",
      "aws s3 cp \"/home/yuncong/CSHL_volumes/atlasV5/atlasV5_down32_scoreVolume/score_volumes/atlasV5_down32_scoreVolume_PBG_R.bp\" \"s3://mousebrainatlas-data/CSHL_volumes/atlasV5/atlasV5_down32_scoreVolume/score_volumes/atlasV5_down32_scoreVolume_PBG_R.bp\"\n",
      "aws s3 cp \"/home/yuncong/CSHL_volumes/atlasV5/atlasV5_down32_scoreVolume/score_volumes/atlasV5_down32_scoreVolume_PBG_R_bbox.txt\" \"s3://mousebrainatlas-data/CSHL_volumes/atlasV5/atlasV5_down32_scoreVolume/score_volumes/atlasV5_down32_scoreVolume_PBG_R_bbox.txt\"\n",
      "aws s3 cp \"/home/yuncong/CSHL_volumes/atlasV5/atlasV5_down32_scoreVolume/score_volumes/atlasV5_down32_scoreVolume_RtTg.bp\" \"s3://mousebrainatlas-data/CSHL_volumes/atlasV5/atlasV5_down32_scoreVolume/score_volumes/atlasV5_down32_scoreVolume_RtTg.bp\"\n",
      "aws s3 cp \"/home/yuncong/CSHL_volumes/atlasV5/atlasV5_down32_scoreVolume/score_volumes/atlasV5_down32_scoreVolume_RtTg_bbox.txt\" \"s3://mousebrainatlas-data/CSHL_volumes/atlasV5/atlasV5_down32_scoreVolume/score_volumes/atlasV5_down32_scoreVolume_RtTg_bbox.txt\"\n",
      "aws s3 cp \"/home/yuncong/CSHL_volumes/atlasV5/atlasV5_down32_scoreVolume/score_volumes/atlasV5_down32_scoreVolume_Sp5C_R.bp\" \"s3://mousebrainatlas-data/CSHL_volumes/atlasV5/atlasV5_down32_scoreVolume/score_volumes/atlasV5_down32_scoreVolume_Sp5C_R.bp\"\n",
      "aws s3 cp \"/home/yuncong/CSHL_volumes/atlasV5/atlasV5_down32_scoreVolume/score_volumes/atlasV5_down32_scoreVolume_Sp5C_R_bbox.txt\" \"s3://mousebrainatlas-data/CSHL_volumes/atlasV5/atlasV5_down32_scoreVolume/score_volumes/atlasV5_down32_scoreVolume_Sp5C_R_bbox.txt\"\n",
      "aws s3 cp \"/home/yuncong/CSHL_volumes/atlasV5/atlasV5_down32_scoreVolume/score_volumes/atlasV5_down32_scoreVolume_Pn_R.bp\" \"s3://mousebrainatlas-data/CSHL_volumes/atlasV5/atlasV5_down32_scoreVolume/score_volumes/atlasV5_down32_scoreVolume_Pn_R.bp\"\n",
      "aws s3 cp \"/home/yuncong/CSHL_volumes/atlasV5/atlasV5_down32_scoreVolume/score_volumes/atlasV5_down32_scoreVolume_Pn_R_bbox.txt\" \"s3://mousebrainatlas-data/CSHL_volumes/atlasV5/atlasV5_down32_scoreVolume/score_volumes/atlasV5_down32_scoreVolume_Pn_R_bbox.txt\"\n",
      "aws s3 cp \"/home/yuncong/CSHL_volumes/atlasV5/atlasV5_down32_scoreVolume/score_volumes/atlasV5_down32_scoreVolume_LRt_L.bp\" \"s3://mousebrainatlas-data/CSHL_volumes/atlasV5/atlasV5_down32_scoreVolume/score_volumes/atlasV5_down32_scoreVolume_LRt_L.bp\"\n",
      "aws s3 cp \"/home/yuncong/CSHL_volumes/atlasV5/atlasV5_down32_scoreVolume/score_volumes/atlasV5_down32_scoreVolume_LRt_L_bbox.txt\" \"s3://mousebrainatlas-data/CSHL_volumes/atlasV5/atlasV5_down32_scoreVolume/score_volumes/atlasV5_down32_scoreVolume_LRt_L_bbox.txt\"\n",
      "aws s3 cp \"/home/yuncong/CSHL_volumes/atlasV5/atlasV5_down32_scoreVolume/score_volumes/atlasV5_down32_scoreVolume_Sp5O_R.bp\" \"s3://mousebrainatlas-data/CSHL_volumes/atlasV5/atlasV5_down32_scoreVolume/score_volumes/atlasV5_down32_scoreVolume_Sp5O_R.bp\"\n",
      "aws s3 cp \"/home/yuncong/CSHL_volumes/atlasV5/atlasV5_down32_scoreVolume/score_volumes/atlasV5_down32_scoreVolume_Sp5O_R_bbox.txt\" \"s3://mousebrainatlas-data/CSHL_volumes/atlasV5/atlasV5_down32_scoreVolume/score_volumes/atlasV5_down32_scoreVolume_Sp5O_R_bbox.txt\"\n",
      "aws s3 cp \"/home/yuncong/CSHL_volumes/atlasV5/atlasV5_down32_scoreVolume/score_volumes/atlasV5_down32_scoreVolume_SNR_L.bp\" \"s3://mousebrainatlas-data/CSHL_volumes/atlasV5/atlasV5_down32_scoreVolume/score_volumes/atlasV5_down32_scoreVolume_SNR_L.bp\"\n",
      "aws s3 cp \"/home/yuncong/CSHL_volumes/atlasV5/atlasV5_down32_scoreVolume/score_volumes/atlasV5_down32_scoreVolume_SNR_L_bbox.txt\" \"s3://mousebrainatlas-data/CSHL_volumes/atlasV5/atlasV5_down32_scoreVolume/score_volumes/atlasV5_down32_scoreVolume_SNR_L_bbox.txt\"\n",
      "aws s3 cp \"/home/yuncong/CSHL_volumes/atlasV5/atlasV5_down32_scoreVolume/score_volumes/atlasV5_down32_scoreVolume_12N.bp\" \"s3://mousebrainatlas-data/CSHL_volumes/atlasV5/atlasV5_down32_scoreVolume/score_volumes/atlasV5_down32_scoreVolume_12N.bp\"\n",
      "aws s3 cp \"/home/yuncong/CSHL_volumes/atlasV5/atlasV5_down32_scoreVolume/score_volumes/atlasV5_down32_scoreVolume_12N_bbox.txt\" \"s3://mousebrainatlas-data/CSHL_volumes/atlasV5/atlasV5_down32_scoreVolume/score_volumes/atlasV5_down32_scoreVolume_12N_bbox.txt\"\n",
      "aws s3 cp \"/home/yuncong/CSHL_volumes/atlasV5/atlasV5_down32_scoreVolume/score_volumes/atlasV5_down32_scoreVolume_SNR_R.bp\" \"s3://mousebrainatlas-data/CSHL_volumes/atlasV5/atlasV5_down32_scoreVolume/score_volumes/atlasV5_down32_scoreVolume_SNR_R.bp\"\n"
     ]
    },
    {
     "name": "stdout",
     "output_type": "stream",
     "text": [
      "aws s3 cp \"/home/yuncong/CSHL_volumes/atlasV5/atlasV5_down32_scoreVolume/score_volumes/atlasV5_down32_scoreVolume_SNR_R_bbox.txt\" \"s3://mousebrainatlas-data/CSHL_volumes/atlasV5/atlasV5_down32_scoreVolume/score_volumes/atlasV5_down32_scoreVolume_SNR_R_bbox.txt\"\n",
      "aws s3 cp \"/home/yuncong/CSHL_volumes/atlasV5/atlasV5_down32_scoreVolume/score_volumes/atlasV5_down32_scoreVolume_Sp5O_L.bp\" \"s3://mousebrainatlas-data/CSHL_volumes/atlasV5/atlasV5_down32_scoreVolume/score_volumes/atlasV5_down32_scoreVolume_Sp5O_L.bp\"\n",
      "aws s3 cp \"/home/yuncong/CSHL_volumes/atlasV5/atlasV5_down32_scoreVolume/score_volumes/atlasV5_down32_scoreVolume_Sp5O_L_bbox.txt\" \"s3://mousebrainatlas-data/CSHL_volumes/atlasV5/atlasV5_down32_scoreVolume/score_volumes/atlasV5_down32_scoreVolume_Sp5O_L_bbox.txt\"\n",
      "aws s3 cp \"/home/yuncong/CSHL_volumes/atlasV5/atlasV5_down32_scoreVolume/score_volumes/atlasV5_down32_scoreVolume_RMC_L.bp\" \"s3://mousebrainatlas-data/CSHL_volumes/atlasV5/atlasV5_down32_scoreVolume/score_volumes/atlasV5_down32_scoreVolume_RMC_L.bp\"\n",
      "aws s3 cp \"/home/yuncong/CSHL_volumes/atlasV5/atlasV5_down32_scoreVolume/score_volumes/atlasV5_down32_scoreVolume_RMC_L_bbox.txt\" \"s3://mousebrainatlas-data/CSHL_volumes/atlasV5/atlasV5_down32_scoreVolume/score_volumes/atlasV5_down32_scoreVolume_RMC_L_bbox.txt\"\n",
      "aws s3 cp \"/home/yuncong/CSHL_volumes/atlasV5/atlasV5_down32_scoreVolume/score_volumes/atlasV5_down32_scoreVolume_DC_R.bp\" \"s3://mousebrainatlas-data/CSHL_volumes/atlasV5/atlasV5_down32_scoreVolume/score_volumes/atlasV5_down32_scoreVolume_DC_R.bp\"\n",
      "aws s3 cp \"/home/yuncong/CSHL_volumes/atlasV5/atlasV5_down32_scoreVolume/score_volumes/atlasV5_down32_scoreVolume_DC_R_bbox.txt\" \"s3://mousebrainatlas-data/CSHL_volumes/atlasV5/atlasV5_down32_scoreVolume/score_volumes/atlasV5_down32_scoreVolume_DC_R_bbox.txt\"\n",
      "aws s3 cp \"/home/yuncong/CSHL_volumes/atlasV5/atlasV5_down32_scoreVolume/score_volumes/atlasV5_down32_scoreVolume_VCA_L.bp\" \"s3://mousebrainatlas-data/CSHL_volumes/atlasV5/atlasV5_down32_scoreVolume/score_volumes/atlasV5_down32_scoreVolume_VCA_L.bp\"\n",
      "aws s3 cp \"/home/yuncong/CSHL_volumes/atlasV5/atlasV5_down32_scoreVolume/score_volumes/atlasV5_down32_scoreVolume_VCA_L_bbox.txt\" \"s3://mousebrainatlas-data/CSHL_volumes/atlasV5/atlasV5_down32_scoreVolume/score_volumes/atlasV5_down32_scoreVolume_VCA_L_bbox.txt\"\n",
      "aws s3 cp \"/home/yuncong/CSHL_volumes/atlasV5/atlasV5_down32_scoreVolume/score_volumes/atlasV5_down32_scoreVolume_3N_L.bp\" \"s3://mousebrainatlas-data/CSHL_volumes/atlasV5/atlasV5_down32_scoreVolume/score_volumes/atlasV5_down32_scoreVolume_3N_L.bp\"\n",
      "aws s3 cp \"/home/yuncong/CSHL_volumes/atlasV5/atlasV5_down32_scoreVolume/score_volumes/atlasV5_down32_scoreVolume_3N_L_bbox.txt\" \"s3://mousebrainatlas-data/CSHL_volumes/atlasV5/atlasV5_down32_scoreVolume/score_volumes/atlasV5_down32_scoreVolume_3N_L_bbox.txt\"\n",
      "aws s3 cp \"/home/yuncong/CSHL_volumes/atlasV5/atlasV5_down32_scoreVolume/score_volumes/atlasV5_down32_scoreVolume_6N_R.bp\" \"s3://mousebrainatlas-data/CSHL_volumes/atlasV5/atlasV5_down32_scoreVolume/score_volumes/atlasV5_down32_scoreVolume_6N_R.bp\"\n",
      "aws s3 cp \"/home/yuncong/CSHL_volumes/atlasV5/atlasV5_down32_scoreVolume/score_volumes/atlasV5_down32_scoreVolume_6N_R_bbox.txt\" \"s3://mousebrainatlas-data/CSHL_volumes/atlasV5/atlasV5_down32_scoreVolume/score_volumes/atlasV5_down32_scoreVolume_6N_R_bbox.txt\"\n",
      "aws s3 cp \"/home/yuncong/CSHL_volumes/atlasV5/atlasV5_down32_scoreVolume/score_volumes/atlasV5_down32_scoreVolume_Sp5I_L.bp\" \"s3://mousebrainatlas-data/CSHL_volumes/atlasV5/atlasV5_down32_scoreVolume/score_volumes/atlasV5_down32_scoreVolume_Sp5I_L.bp\"\n",
      "aws s3 cp \"/home/yuncong/CSHL_volumes/atlasV5/atlasV5_down32_scoreVolume/score_volumes/atlasV5_down32_scoreVolume_Sp5I_L_bbox.txt\" \"s3://mousebrainatlas-data/CSHL_volumes/atlasV5/atlasV5_down32_scoreVolume/score_volumes/atlasV5_down32_scoreVolume_Sp5I_L_bbox.txt\"\n",
      "aws s3 cp \"/home/yuncong/CSHL_volumes/atlasV5/atlasV5_down32_scoreVolume/score_volumes/atlasV5_down32_scoreVolume_5N_L.bp\" \"s3://mousebrainatlas-data/CSHL_volumes/atlasV5/atlasV5_down32_scoreVolume/score_volumes/atlasV5_down32_scoreVolume_5N_L.bp\"\n",
      "aws s3 cp \"/home/yuncong/CSHL_volumes/atlasV5/atlasV5_down32_scoreVolume/score_volumes/atlasV5_down32_scoreVolume_5N_L_bbox.txt\" \"s3://mousebrainatlas-data/CSHL_volumes/atlasV5/atlasV5_down32_scoreVolume/score_volumes/atlasV5_down32_scoreVolume_5N_L_bbox.txt\"\n",
      "aws s3 cp \"/home/yuncong/CSHL_volumes/atlasV5/atlasV5_down32_scoreVolume/score_volumes/atlasV5_down32_scoreVolume_RMC_R.bp\" \"s3://mousebrainatlas-data/CSHL_volumes/atlasV5/atlasV5_down32_scoreVolume/score_volumes/atlasV5_down32_scoreVolume_RMC_R.bp\"\n",
      "aws s3 cp \"/home/yuncong/CSHL_volumes/atlasV5/atlasV5_down32_scoreVolume/score_volumes/atlasV5_down32_scoreVolume_RMC_R_bbox.txt\" \"s3://mousebrainatlas-data/CSHL_volumes/atlasV5/atlasV5_down32_scoreVolume/score_volumes/atlasV5_down32_scoreVolume_RMC_R_bbox.txt\"\n",
      "aws s3 cp \"/home/yuncong/CSHL_volumes/atlasV5/atlasV5_down32_scoreVolume/score_volumes/atlasV5_down32_scoreVolume_SNC_L.bp\" \"s3://mousebrainatlas-data/CSHL_volumes/atlasV5/atlasV5_down32_scoreVolume/score_volumes/atlasV5_down32_scoreVolume_SNC_L.bp\"\n",
      "aws s3 cp \"/home/yuncong/CSHL_volumes/atlasV5/atlasV5_down32_scoreVolume/score_volumes/atlasV5_down32_scoreVolume_SNC_L_bbox.txt\" \"s3://mousebrainatlas-data/CSHL_volumes/atlasV5/atlasV5_down32_scoreVolume/score_volumes/atlasV5_down32_scoreVolume_SNC_L_bbox.txt\"\n",
      "aws s3 cp \"/home/yuncong/CSHL_volumes/atlasV5/atlasV5_down32_scoreVolume/score_volumes/atlasV5_down32_scoreVolume_SNC_R.bp\" \"s3://mousebrainatlas-data/CSHL_volumes/atlasV5/atlasV5_down32_scoreVolume/score_volumes/atlasV5_down32_scoreVolume_SNC_R.bp\"\n",
      "aws s3 cp \"/home/yuncong/CSHL_volumes/atlasV5/atlasV5_down32_scoreVolume/score_volumes/atlasV5_down32_scoreVolume_SNC_R_bbox.txt\" \"s3://mousebrainatlas-data/CSHL_volumes/atlasV5/atlasV5_down32_scoreVolume/score_volumes/atlasV5_down32_scoreVolume_SNC_R_bbox.txt\"\n",
      "aws s3 cp \"/home/yuncong/CSHL_volumes/atlasV5/atlasV5_down32_scoreVolume/score_volumes/atlasV5_down32_scoreVolume_AP.bp\" \"s3://mousebrainatlas-data/CSHL_volumes/atlasV5/atlasV5_down32_scoreVolume/score_volumes/atlasV5_down32_scoreVolume_AP.bp\"\n",
      "aws s3 cp \"/home/yuncong/CSHL_volumes/atlasV5/atlasV5_down32_scoreVolume/score_volumes/atlasV5_down32_scoreVolume_AP_bbox.txt\" \"s3://mousebrainatlas-data/CSHL_volumes/atlasV5/atlasV5_down32_scoreVolume/score_volumes/atlasV5_down32_scoreVolume_AP_bbox.txt\"\n",
      "aws s3 cp \"/home/yuncong/CSHL_volumes/atlasV5/atlasV5_down32_scoreVolume/score_volumes/atlasV5_down32_scoreVolume_5N_R.bp\" \"s3://mousebrainatlas-data/CSHL_volumes/atlasV5/atlasV5_down32_scoreVolume/score_volumes/atlasV5_down32_scoreVolume_5N_R.bp\"\n",
      "aws s3 cp \"/home/yuncong/CSHL_volumes/atlasV5/atlasV5_down32_scoreVolume/score_volumes/atlasV5_down32_scoreVolume_5N_R_bbox.txt\" \"s3://mousebrainatlas-data/CSHL_volumes/atlasV5/atlasV5_down32_scoreVolume/score_volumes/atlasV5_down32_scoreVolume_5N_R_bbox.txt\"\n",
      "aws s3 cp \"/home/yuncong/CSHL_volumes/atlasV5/atlasV5_down32_scoreVolume/score_volumes/atlasV5_down32_scoreVolume_Sp5I_R.bp\" \"s3://mousebrainatlas-data/CSHL_volumes/atlasV5/atlasV5_down32_scoreVolume/score_volumes/atlasV5_down32_scoreVolume_Sp5I_R.bp\"\n",
      "aws s3 cp \"/home/yuncong/CSHL_volumes/atlasV5/atlasV5_down32_scoreVolume/score_volumes/atlasV5_down32_scoreVolume_Sp5I_R_bbox.txt\" \"s3://mousebrainatlas-data/CSHL_volumes/atlasV5/atlasV5_down32_scoreVolume/score_volumes/atlasV5_down32_scoreVolume_Sp5I_R_bbox.txt\"\n",
      "aws s3 cp \"/home/yuncong/CSHL_volumes/atlasV5/atlasV5_down32_scoreVolume/score_volumes/atlasV5_down32_scoreVolume_3N_R.bp\" \"s3://mousebrainatlas-data/CSHL_volumes/atlasV5/atlasV5_down32_scoreVolume/score_volumes/atlasV5_down32_scoreVolume_3N_R.bp\"\n",
      "aws s3 cp \"/home/yuncong/CSHL_volumes/atlasV5/atlasV5_down32_scoreVolume/score_volumes/atlasV5_down32_scoreVolume_3N_R_bbox.txt\" \"s3://mousebrainatlas-data/CSHL_volumes/atlasV5/atlasV5_down32_scoreVolume/score_volumes/atlasV5_down32_scoreVolume_3N_R_bbox.txt\"\n",
      "aws s3 cp \"/home/yuncong/CSHL_volumes/atlasV5/atlasV5_down32_scoreVolume/score_volumes/atlasV5_down32_scoreVolume_6N_L.bp\" \"s3://mousebrainatlas-data/CSHL_volumes/atlasV5/atlasV5_down32_scoreVolume/score_volumes/atlasV5_down32_scoreVolume_6N_L.bp\"\n",
      "aws s3 cp \"/home/yuncong/CSHL_volumes/atlasV5/atlasV5_down32_scoreVolume/score_volumes/atlasV5_down32_scoreVolume_6N_L_bbox.txt\" \"s3://mousebrainatlas-data/CSHL_volumes/atlasV5/atlasV5_down32_scoreVolume/score_volumes/atlasV5_down32_scoreVolume_6N_L_bbox.txt\"\n"
     ]
    },
    {
     "name": "stdout",
     "output_type": "stream",
     "text": [
      "aws s3 cp \"/home/yuncong/CSHL_volumes/atlasV5/atlasV5_down32_scoreVolume/score_volumes/atlasV5_down32_scoreVolume_IC.bp\" \"s3://mousebrainatlas-data/CSHL_volumes/atlasV5/atlasV5_down32_scoreVolume/score_volumes/atlasV5_down32_scoreVolume_IC.bp\"\n",
      "aws s3 cp \"/home/yuncong/CSHL_volumes/atlasV5/atlasV5_down32_scoreVolume/score_volumes/atlasV5_down32_scoreVolume_IC_bbox.txt\" \"s3://mousebrainatlas-data/CSHL_volumes/atlasV5/atlasV5_down32_scoreVolume/score_volumes/atlasV5_down32_scoreVolume_IC_bbox.txt\"\n",
      "aws s3 cp \"/home/yuncong/CSHL_volumes/atlasV5/atlasV5_down32_scoreVolume/score_volumes/atlasV5_down32_scoreVolume_VCA_R.bp\" \"s3://mousebrainatlas-data/CSHL_volumes/atlasV5/atlasV5_down32_scoreVolume/score_volumes/atlasV5_down32_scoreVolume_VCA_R.bp\"\n",
      "aws s3 cp \"/home/yuncong/CSHL_volumes/atlasV5/atlasV5_down32_scoreVolume/score_volumes/atlasV5_down32_scoreVolume_VCA_R_bbox.txt\" \"s3://mousebrainatlas-data/CSHL_volumes/atlasV5/atlasV5_down32_scoreVolume/score_volumes/atlasV5_down32_scoreVolume_VCA_R_bbox.txt\"\n",
      "aws s3 cp \"/home/yuncong/CSHL_volumes/atlasV5/atlasV5_down32_scoreVolume/score_volumes/atlasV5_down32_scoreVolume_DC_L.bp\" \"s3://mousebrainatlas-data/CSHL_volumes/atlasV5/atlasV5_down32_scoreVolume/score_volumes/atlasV5_down32_scoreVolume_DC_L.bp\"\n",
      "aws s3 cp \"/home/yuncong/CSHL_volumes/atlasV5/atlasV5_down32_scoreVolume/score_volumes/atlasV5_down32_scoreVolume_DC_L_bbox.txt\" \"s3://mousebrainatlas-data/CSHL_volumes/atlasV5/atlasV5_down32_scoreVolume/score_volumes/atlasV5_down32_scoreVolume_DC_L_bbox.txt\"\n",
      "aws s3 cp \"/home/yuncong/CSHL_volumes/atlasV5/atlasV5_down32_scoreVolume/score_volumes/atlasV5_down32_scoreVolume_Amb_R.bp\" \"s3://mousebrainatlas-data/CSHL_volumes/atlasV5/atlasV5_down32_scoreVolume/score_volumes/atlasV5_down32_scoreVolume_Amb_R.bp\"\n",
      "aws s3 cp \"/home/yuncong/CSHL_volumes/atlasV5/atlasV5_down32_scoreVolume/score_volumes/atlasV5_down32_scoreVolume_Amb_R_bbox.txt\" \"s3://mousebrainatlas-data/CSHL_volumes/atlasV5/atlasV5_down32_scoreVolume/score_volumes/atlasV5_down32_scoreVolume_Amb_R_bbox.txt\"\n",
      "aws s3 cp \"/home/yuncong/CSHL_volumes/atlasV5/atlasV5_down32_scoreVolume/score_volumes/atlasV5_down32_scoreVolume_VCP_R.bp\" \"s3://mousebrainatlas-data/CSHL_volumes/atlasV5/atlasV5_down32_scoreVolume/score_volumes/atlasV5_down32_scoreVolume_VCP_R.bp\"\n",
      "aws s3 cp \"/home/yuncong/CSHL_volumes/atlasV5/atlasV5_down32_scoreVolume/score_volumes/atlasV5_down32_scoreVolume_VCP_R_bbox.txt\" \"s3://mousebrainatlas-data/CSHL_volumes/atlasV5/atlasV5_down32_scoreVolume/score_volumes/atlasV5_down32_scoreVolume_VCP_R_bbox.txt\"\n",
      "aws s3 cp \"/home/yuncong/CSHL_volumes/atlasV5/atlasV5_down32_scoreVolume/score_volumes/atlasV5_down32_scoreVolume_LC_R.bp\" \"s3://mousebrainatlas-data/CSHL_volumes/atlasV5/atlasV5_down32_scoreVolume/score_volumes/atlasV5_down32_scoreVolume_LC_R.bp\"\n",
      "aws s3 cp \"/home/yuncong/CSHL_volumes/atlasV5/atlasV5_down32_scoreVolume/score_volumes/atlasV5_down32_scoreVolume_LC_R_bbox.txt\" \"s3://mousebrainatlas-data/CSHL_volumes/atlasV5/atlasV5_down32_scoreVolume/score_volumes/atlasV5_down32_scoreVolume_LC_R_bbox.txt\"\n",
      "aws s3 cp \"/home/yuncong/CSHL_volumes/atlasV5/atlasV5_down32_scoreVolume/score_volumes/atlasV5_down32_scoreVolume_10N_R.bp\" \"s3://mousebrainatlas-data/CSHL_volumes/atlasV5/atlasV5_down32_scoreVolume/score_volumes/atlasV5_down32_scoreVolume_10N_R.bp\"\n",
      "aws s3 cp \"/home/yuncong/CSHL_volumes/atlasV5/atlasV5_down32_scoreVolume/score_volumes/atlasV5_down32_scoreVolume_10N_R_bbox.txt\" \"s3://mousebrainatlas-data/CSHL_volumes/atlasV5/atlasV5_down32_scoreVolume/score_volumes/atlasV5_down32_scoreVolume_10N_R_bbox.txt\"\n",
      "aws s3 cp \"/home/yuncong/CSHL_volumes/atlasV5/atlasV5_down32_scoreVolume/score_volumes/atlasV5_down32_scoreVolume_7n_R.bp\" \"s3://mousebrainatlas-data/CSHL_volumes/atlasV5/atlasV5_down32_scoreVolume/score_volumes/atlasV5_down32_scoreVolume_7n_R.bp\"\n",
      "aws s3 cp \"/home/yuncong/CSHL_volumes/atlasV5/atlasV5_down32_scoreVolume/score_volumes/atlasV5_down32_scoreVolume_7n_R_bbox.txt\" \"s3://mousebrainatlas-data/CSHL_volumes/atlasV5/atlasV5_down32_scoreVolume/score_volumes/atlasV5_down32_scoreVolume_7n_R_bbox.txt\"\n",
      "aws s3 cp \"/home/yuncong/CSHL_volumes/atlasV5/atlasV5_down32_scoreVolume/score_volumes/atlasV5_down32_scoreVolume_4N_R.bp\" \"s3://mousebrainatlas-data/CSHL_volumes/atlasV5/atlasV5_down32_scoreVolume/score_volumes/atlasV5_down32_scoreVolume_4N_R.bp\"\n",
      "aws s3 cp \"/home/yuncong/CSHL_volumes/atlasV5/atlasV5_down32_scoreVolume/score_volumes/atlasV5_down32_scoreVolume_4N_R_bbox.txt\" \"s3://mousebrainatlas-data/CSHL_volumes/atlasV5/atlasV5_down32_scoreVolume/score_volumes/atlasV5_down32_scoreVolume_4N_R_bbox.txt\"\n",
      "aws s3 cp \"/home/yuncong/CSHL_volumes/atlasV5/atlasV5_down32_scoreVolume/score_volumes/atlasV5_down32_scoreVolume_Tz_L.bp\" \"s3://mousebrainatlas-data/CSHL_volumes/atlasV5/atlasV5_down32_scoreVolume/score_volumes/atlasV5_down32_scoreVolume_Tz_L.bp\"\n",
      "aws s3 cp \"/home/yuncong/CSHL_volumes/atlasV5/atlasV5_down32_scoreVolume/score_volumes/atlasV5_down32_scoreVolume_Tz_L_bbox.txt\" \"s3://mousebrainatlas-data/CSHL_volumes/atlasV5/atlasV5_down32_scoreVolume/score_volumes/atlasV5_down32_scoreVolume_Tz_L_bbox.txt\"\n",
      "aws s3 cp \"/home/yuncong/CSHL_volumes/atlasV5/atlasV5_down32_scoreVolume/score_volumes/atlasV5_down32_scoreVolume_Tz_R.bp\" \"s3://mousebrainatlas-data/CSHL_volumes/atlasV5/atlasV5_down32_scoreVolume/score_volumes/atlasV5_down32_scoreVolume_Tz_R.bp\"\n",
      "aws s3 cp \"/home/yuncong/CSHL_volumes/atlasV5/atlasV5_down32_scoreVolume/score_volumes/atlasV5_down32_scoreVolume_Tz_R_bbox.txt\" \"s3://mousebrainatlas-data/CSHL_volumes/atlasV5/atlasV5_down32_scoreVolume/score_volumes/atlasV5_down32_scoreVolume_Tz_R_bbox.txt\"\n",
      "aws s3 cp \"/home/yuncong/CSHL_volumes/atlasV5/atlasV5_down32_scoreVolume/score_volumes/atlasV5_down32_scoreVolume_7n_L.bp\" \"s3://mousebrainatlas-data/CSHL_volumes/atlasV5/atlasV5_down32_scoreVolume/score_volumes/atlasV5_down32_scoreVolume_7n_L.bp\"\n",
      "aws s3 cp \"/home/yuncong/CSHL_volumes/atlasV5/atlasV5_down32_scoreVolume/score_volumes/atlasV5_down32_scoreVolume_7n_L_bbox.txt\" \"s3://mousebrainatlas-data/CSHL_volumes/atlasV5/atlasV5_down32_scoreVolume/score_volumes/atlasV5_down32_scoreVolume_7n_L_bbox.txt\"\n",
      "aws s3 cp \"/home/yuncong/CSHL_volumes/atlasV5/atlasV5_down32_scoreVolume/score_volumes/atlasV5_down32_scoreVolume_4N_L.bp\" \"s3://mousebrainatlas-data/CSHL_volumes/atlasV5/atlasV5_down32_scoreVolume/score_volumes/atlasV5_down32_scoreVolume_4N_L.bp\"\n",
      "aws s3 cp \"/home/yuncong/CSHL_volumes/atlasV5/atlasV5_down32_scoreVolume/score_volumes/atlasV5_down32_scoreVolume_4N_L_bbox.txt\" \"s3://mousebrainatlas-data/CSHL_volumes/atlasV5/atlasV5_down32_scoreVolume/score_volumes/atlasV5_down32_scoreVolume_4N_L_bbox.txt\"\n",
      "aws s3 cp \"/home/yuncong/CSHL_volumes/atlasV5/atlasV5_down32_scoreVolume/score_volumes/atlasV5_down32_scoreVolume_LC_L.bp\" \"s3://mousebrainatlas-data/CSHL_volumes/atlasV5/atlasV5_down32_scoreVolume/score_volumes/atlasV5_down32_scoreVolume_LC_L.bp\"\n",
      "aws s3 cp \"/home/yuncong/CSHL_volumes/atlasV5/atlasV5_down32_scoreVolume/score_volumes/atlasV5_down32_scoreVolume_LC_L_bbox.txt\" \"s3://mousebrainatlas-data/CSHL_volumes/atlasV5/atlasV5_down32_scoreVolume/score_volumes/atlasV5_down32_scoreVolume_LC_L_bbox.txt\"\n",
      "aws s3 cp \"/home/yuncong/CSHL_volumes/atlasV5/atlasV5_down32_scoreVolume/score_volumes/atlasV5_down32_scoreVolume_10N_L.bp\" \"s3://mousebrainatlas-data/CSHL_volumes/atlasV5/atlasV5_down32_scoreVolume/score_volumes/atlasV5_down32_scoreVolume_10N_L.bp\"\n",
      "aws s3 cp \"/home/yuncong/CSHL_volumes/atlasV5/atlasV5_down32_scoreVolume/score_volumes/atlasV5_down32_scoreVolume_10N_L_bbox.txt\" \"s3://mousebrainatlas-data/CSHL_volumes/atlasV5/atlasV5_down32_scoreVolume/score_volumes/atlasV5_down32_scoreVolume_10N_L_bbox.txt\"\n",
      "aws s3 cp \"/home/yuncong/CSHL_volumes/atlasV5/atlasV5_down32_scoreVolume/score_volumes/atlasV5_down32_scoreVolume_SC.bp\" \"s3://mousebrainatlas-data/CSHL_volumes/atlasV5/atlasV5_down32_scoreVolume/score_volumes/atlasV5_down32_scoreVolume_SC.bp\"\n",
      "aws s3 cp \"/home/yuncong/CSHL_volumes/atlasV5/atlasV5_down32_scoreVolume/score_volumes/atlasV5_down32_scoreVolume_SC_bbox.txt\" \"s3://mousebrainatlas-data/CSHL_volumes/atlasV5/atlasV5_down32_scoreVolume/score_volumes/atlasV5_down32_scoreVolume_SC_bbox.txt\"\n",
      "aws s3 cp \"/home/yuncong/CSHL_volumes/atlasV5/atlasV5_down32_scoreVolume/score_volumes/atlasV5_down32_scoreVolume_VCP_L.bp\" \"s3://mousebrainatlas-data/CSHL_volumes/atlasV5/atlasV5_down32_scoreVolume/score_volumes/atlasV5_down32_scoreVolume_VCP_L.bp\"\n"
     ]
    },
    {
     "name": "stdout",
     "output_type": "stream",
     "text": [
      "aws s3 cp \"/home/yuncong/CSHL_volumes/atlasV5/atlasV5_down32_scoreVolume/score_volumes/atlasV5_down32_scoreVolume_VCP_L_bbox.txt\" \"s3://mousebrainatlas-data/CSHL_volumes/atlasV5/atlasV5_down32_scoreVolume/score_volumes/atlasV5_down32_scoreVolume_VCP_L_bbox.txt\"\n",
      "aws s3 cp \"/home/yuncong/CSHL_volumes/atlasV5/atlasV5_down32_scoreVolume/score_volumes/atlasV5_down32_scoreVolume_Amb_L.bp\" \"s3://mousebrainatlas-data/CSHL_volumes/atlasV5/atlasV5_down32_scoreVolume/score_volumes/atlasV5_down32_scoreVolume_Amb_L.bp\"\n",
      "aws s3 cp \"/home/yuncong/CSHL_volumes/atlasV5/atlasV5_down32_scoreVolume/score_volumes/atlasV5_down32_scoreVolume_Amb_L_bbox.txt\" \"s3://mousebrainatlas-data/CSHL_volumes/atlasV5/atlasV5_down32_scoreVolume/score_volumes/atlasV5_down32_scoreVolume_Amb_L_bbox.txt\"\n"
     ]
    }
   ],
   "source": [
    "# Save full-brain atlas volumes.\n",
    "\n",
    "for name_s, vol in atlas_volumes.iteritems():\n",
    "    vol_fp = DataManager.get_volume_filepath(stack_m=atlas_name, structure=name_s)\n",
    "    create_parent_dir_if_not_exists(vol_fp)\n",
    "    bp.pack_ndarray_file(vol, vol_fp)\n",
    "    upload_to_s3(vol_fp)\n",
    "    \n",
    "    # Save atlas score volume bbox txt.\n",
    "    fp = DataManager.get_original_volume_bbox_filepath(stack=atlas_name, structure=name_s)\n",
    "    np.savetxt(fp, atlas_volume_bbox_rel2uncropped[None,:], fmt='%d')\n",
    "    upload_to_s3(fp)\n",
    "    # This is wrt aligned uncropped volume"
   ]
  },
  {
   "cell_type": "markdown",
   "metadata": {},
   "source": [
    "## Surround"
   ]
  },
  {
   "cell_type": "code",
   "execution_count": 18,
   "metadata": {},
   "outputs": [
    {
     "name": "stdout",
     "output_type": "stream",
     "text": [
      "surround size (in voxels): 13.5869565217\n"
     ]
    }
   ],
   "source": [
    "# Generate and save surround score volumes. (in fact binary, but dtype is np.float16, same as interior score volumes.)\n",
    "\n",
    "valid_level = .5\n",
    "\n",
    "surround_distance_um = 200\n",
    "surround_distance_voxel = surround_distance_um / XY_PIXEL_DISTANCE_TB\n",
    "print \"surround size (in voxels):\", surround_distance_voxel"
   ]
  },
  {
   "cell_type": "code",
   "execution_count": 93,
   "metadata": {
    "scrolled": true
   },
   "outputs": [
    {
     "name": "stdout",
     "output_type": "stream",
     "text": [
      "surround size (in voxels): 13.5869565217\n",
      "aws s3 cp \"/home/yuncong/CSHL_volumes/atlasV5/atlasV5_down32_scoreVolume/score_volumes/atlasV5_down32_scoreVolume_LRt_R_surround_200.bp\" \"s3://mousebrainatlas-data/CSHL_volumes/atlasV5/atlasV5_down32_scoreVolume/score_volumes/atlasV5_down32_scoreVolume_LRt_R_surround_200.bp\"\n",
      "aws s3 cp \"/home/yuncong/CSHL_volumes/atlasV5/atlasV5_down32_scoreVolume/score_volumes/atlasV5_down32_scoreVolume_LRt_R_surround_200_bbox.txt\" \"s3://mousebrainatlas-data/CSHL_volumes/atlasV5/atlasV5_down32_scoreVolume/score_volumes/atlasV5_down32_scoreVolume_LRt_R_surround_200_bbox.txt\"\n",
      "aws s3 cp \"/home/yuncong/CSHL_volumes/atlasV5/atlasV5_down32_scoreVolume/score_volumes/atlasV5_down32_scoreVolume_Sp5C_L_surround_200.bp\" \"s3://mousebrainatlas-data/CSHL_volumes/atlasV5/atlasV5_down32_scoreVolume/score_volumes/atlasV5_down32_scoreVolume_Sp5C_L_surround_200.bp\"\n",
      "aws s3 cp \"/home/yuncong/CSHL_volumes/atlasV5/atlasV5_down32_scoreVolume/score_volumes/atlasV5_down32_scoreVolume_Sp5C_L_surround_200_bbox.txt\" \"s3://mousebrainatlas-data/CSHL_volumes/atlasV5/atlasV5_down32_scoreVolume/score_volumes/atlasV5_down32_scoreVolume_Sp5C_L_surround_200_bbox.txt\"\n",
      "aws s3 cp \"/home/yuncong/CSHL_volumes/atlasV5/atlasV5_down32_scoreVolume/score_volumes/atlasV5_down32_scoreVolume_Pn_L_surround_200.bp\" \"s3://mousebrainatlas-data/CSHL_volumes/atlasV5/atlasV5_down32_scoreVolume/score_volumes/atlasV5_down32_scoreVolume_Pn_L_surround_200.bp\"\n",
      "aws s3 cp \"/home/yuncong/CSHL_volumes/atlasV5/atlasV5_down32_scoreVolume/score_volumes/atlasV5_down32_scoreVolume_Pn_L_surround_200_bbox.txt\" \"s3://mousebrainatlas-data/CSHL_volumes/atlasV5/atlasV5_down32_scoreVolume/score_volumes/atlasV5_down32_scoreVolume_Pn_L_surround_200_bbox.txt\"\n",
      "aws s3 cp \"/home/yuncong/CSHL_volumes/atlasV5/atlasV5_down32_scoreVolume/score_volumes/atlasV5_down32_scoreVolume_7N_R_surround_200.bp\" \"s3://mousebrainatlas-data/CSHL_volumes/atlasV5/atlasV5_down32_scoreVolume/score_volumes/atlasV5_down32_scoreVolume_7N_R_surround_200.bp\"\n",
      "aws s3 cp \"/home/yuncong/CSHL_volumes/atlasV5/atlasV5_down32_scoreVolume/score_volumes/atlasV5_down32_scoreVolume_7N_R_surround_200_bbox.txt\" \"s3://mousebrainatlas-data/CSHL_volumes/atlasV5/atlasV5_down32_scoreVolume/score_volumes/atlasV5_down32_scoreVolume_7N_R_surround_200_bbox.txt\"\n",
      "aws s3 cp \"/home/yuncong/CSHL_volumes/atlasV5/atlasV5_down32_scoreVolume/score_volumes/atlasV5_down32_scoreVolume_PBG_L_surround_200.bp\" \"s3://mousebrainatlas-data/CSHL_volumes/atlasV5/atlasV5_down32_scoreVolume/score_volumes/atlasV5_down32_scoreVolume_PBG_L_surround_200.bp\"\n",
      "aws s3 cp \"/home/yuncong/CSHL_volumes/atlasV5/atlasV5_down32_scoreVolume/score_volumes/atlasV5_down32_scoreVolume_PBG_L_surround_200_bbox.txt\" \"s3://mousebrainatlas-data/CSHL_volumes/atlasV5/atlasV5_down32_scoreVolume/score_volumes/atlasV5_down32_scoreVolume_PBG_L_surround_200_bbox.txt\"\n",
      "aws s3 cp \"/home/yuncong/CSHL_volumes/atlasV5/atlasV5_down32_scoreVolume/score_volumes/atlasV5_down32_scoreVolume_VLL_L_surround_200.bp\" \"s3://mousebrainatlas-data/CSHL_volumes/atlasV5/atlasV5_down32_scoreVolume/score_volumes/atlasV5_down32_scoreVolume_VLL_L_surround_200.bp\"\n",
      "aws s3 cp \"/home/yuncong/CSHL_volumes/atlasV5/atlasV5_down32_scoreVolume/score_volumes/atlasV5_down32_scoreVolume_VLL_L_surround_200_bbox.txt\" \"s3://mousebrainatlas-data/CSHL_volumes/atlasV5/atlasV5_down32_scoreVolume/score_volumes/atlasV5_down32_scoreVolume_VLL_L_surround_200_bbox.txt\"\n",
      "aws s3 cp \"/home/yuncong/CSHL_volumes/atlasV5/atlasV5_down32_scoreVolume/score_volumes/atlasV5_down32_scoreVolume_VLL_R_surround_200.bp\" \"s3://mousebrainatlas-data/CSHL_volumes/atlasV5/atlasV5_down32_scoreVolume/score_volumes/atlasV5_down32_scoreVolume_VLL_R_surround_200.bp\"\n",
      "aws s3 cp \"/home/yuncong/CSHL_volumes/atlasV5/atlasV5_down32_scoreVolume/score_volumes/atlasV5_down32_scoreVolume_VLL_R_surround_200_bbox.txt\" \"s3://mousebrainatlas-data/CSHL_volumes/atlasV5/atlasV5_down32_scoreVolume/score_volumes/atlasV5_down32_scoreVolume_VLL_R_surround_200_bbox.txt\"\n",
      "aws s3 cp \"/home/yuncong/CSHL_volumes/atlasV5/atlasV5_down32_scoreVolume/score_volumes/atlasV5_down32_scoreVolume_7N_L_surround_200.bp\" \"s3://mousebrainatlas-data/CSHL_volumes/atlasV5/atlasV5_down32_scoreVolume/score_volumes/atlasV5_down32_scoreVolume_7N_L_surround_200.bp\"\n",
      "aws s3 cp \"/home/yuncong/CSHL_volumes/atlasV5/atlasV5_down32_scoreVolume/score_volumes/atlasV5_down32_scoreVolume_7N_L_surround_200_bbox.txt\" \"s3://mousebrainatlas-data/CSHL_volumes/atlasV5/atlasV5_down32_scoreVolume/score_volumes/atlasV5_down32_scoreVolume_7N_L_surround_200_bbox.txt\"\n",
      "aws s3 cp \"/home/yuncong/CSHL_volumes/atlasV5/atlasV5_down32_scoreVolume/score_volumes/atlasV5_down32_scoreVolume_PBG_R_surround_200.bp\" \"s3://mousebrainatlas-data/CSHL_volumes/atlasV5/atlasV5_down32_scoreVolume/score_volumes/atlasV5_down32_scoreVolume_PBG_R_surround_200.bp\"\n",
      "aws s3 cp \"/home/yuncong/CSHL_volumes/atlasV5/atlasV5_down32_scoreVolume/score_volumes/atlasV5_down32_scoreVolume_PBG_R_surround_200_bbox.txt\" \"s3://mousebrainatlas-data/CSHL_volumes/atlasV5/atlasV5_down32_scoreVolume/score_volumes/atlasV5_down32_scoreVolume_PBG_R_surround_200_bbox.txt\"\n",
      "aws s3 cp \"/home/yuncong/CSHL_volumes/atlasV5/atlasV5_down32_scoreVolume/score_volumes/atlasV5_down32_scoreVolume_RtTg_surround_200.bp\" \"s3://mousebrainatlas-data/CSHL_volumes/atlasV5/atlasV5_down32_scoreVolume/score_volumes/atlasV5_down32_scoreVolume_RtTg_surround_200.bp\"\n",
      "aws s3 cp \"/home/yuncong/CSHL_volumes/atlasV5/atlasV5_down32_scoreVolume/score_volumes/atlasV5_down32_scoreVolume_RtTg_surround_200_bbox.txt\" \"s3://mousebrainatlas-data/CSHL_volumes/atlasV5/atlasV5_down32_scoreVolume/score_volumes/atlasV5_down32_scoreVolume_RtTg_surround_200_bbox.txt\"\n",
      "aws s3 cp \"/home/yuncong/CSHL_volumes/atlasV5/atlasV5_down32_scoreVolume/score_volumes/atlasV5_down32_scoreVolume_Sp5C_R_surround_200.bp\" \"s3://mousebrainatlas-data/CSHL_volumes/atlasV5/atlasV5_down32_scoreVolume/score_volumes/atlasV5_down32_scoreVolume_Sp5C_R_surround_200.bp\"\n",
      "aws s3 cp \"/home/yuncong/CSHL_volumes/atlasV5/atlasV5_down32_scoreVolume/score_volumes/atlasV5_down32_scoreVolume_Sp5C_R_surround_200_bbox.txt\" \"s3://mousebrainatlas-data/CSHL_volumes/atlasV5/atlasV5_down32_scoreVolume/score_volumes/atlasV5_down32_scoreVolume_Sp5C_R_surround_200_bbox.txt\"\n",
      "aws s3 cp \"/home/yuncong/CSHL_volumes/atlasV5/atlasV5_down32_scoreVolume/score_volumes/atlasV5_down32_scoreVolume_Pn_R_surround_200.bp\" \"s3://mousebrainatlas-data/CSHL_volumes/atlasV5/atlasV5_down32_scoreVolume/score_volumes/atlasV5_down32_scoreVolume_Pn_R_surround_200.bp\"\n",
      "aws s3 cp \"/home/yuncong/CSHL_volumes/atlasV5/atlasV5_down32_scoreVolume/score_volumes/atlasV5_down32_scoreVolume_Pn_R_surround_200_bbox.txt\" \"s3://mousebrainatlas-data/CSHL_volumes/atlasV5/atlasV5_down32_scoreVolume/score_volumes/atlasV5_down32_scoreVolume_Pn_R_surround_200_bbox.txt\"\n",
      "aws s3 cp \"/home/yuncong/CSHL_volumes/atlasV5/atlasV5_down32_scoreVolume/score_volumes/atlasV5_down32_scoreVolume_LRt_L_surround_200.bp\" \"s3://mousebrainatlas-data/CSHL_volumes/atlasV5/atlasV5_down32_scoreVolume/score_volumes/atlasV5_down32_scoreVolume_LRt_L_surround_200.bp\"\n",
      "aws s3 cp \"/home/yuncong/CSHL_volumes/atlasV5/atlasV5_down32_scoreVolume/score_volumes/atlasV5_down32_scoreVolume_LRt_L_surround_200_bbox.txt\" \"s3://mousebrainatlas-data/CSHL_volumes/atlasV5/atlasV5_down32_scoreVolume/score_volumes/atlasV5_down32_scoreVolume_LRt_L_surround_200_bbox.txt\"\n",
      "aws s3 cp \"/home/yuncong/CSHL_volumes/atlasV5/atlasV5_down32_scoreVolume/score_volumes/atlasV5_down32_scoreVolume_Sp5O_R_surround_200.bp\" \"s3://mousebrainatlas-data/CSHL_volumes/atlasV5/atlasV5_down32_scoreVolume/score_volumes/atlasV5_down32_scoreVolume_Sp5O_R_surround_200.bp\"\n",
      "aws s3 cp \"/home/yuncong/CSHL_volumes/atlasV5/atlasV5_down32_scoreVolume/score_volumes/atlasV5_down32_scoreVolume_Sp5O_R_surround_200_bbox.txt\" \"s3://mousebrainatlas-data/CSHL_volumes/atlasV5/atlasV5_down32_scoreVolume/score_volumes/atlasV5_down32_scoreVolume_Sp5O_R_surround_200_bbox.txt\"\n",
      "aws s3 cp \"/home/yuncong/CSHL_volumes/atlasV5/atlasV5_down32_scoreVolume/score_volumes/atlasV5_down32_scoreVolume_SNR_L_surround_200.bp\" \"s3://mousebrainatlas-data/CSHL_volumes/atlasV5/atlasV5_down32_scoreVolume/score_volumes/atlasV5_down32_scoreVolume_SNR_L_surround_200.bp\"\n"
     ]
    },
    {
     "name": "stdout",
     "output_type": "stream",
     "text": [
      "aws s3 cp \"/home/yuncong/CSHL_volumes/atlasV5/atlasV5_down32_scoreVolume/score_volumes/atlasV5_down32_scoreVolume_SNR_L_surround_200_bbox.txt\" \"s3://mousebrainatlas-data/CSHL_volumes/atlasV5/atlasV5_down32_scoreVolume/score_volumes/atlasV5_down32_scoreVolume_SNR_L_surround_200_bbox.txt\"\n",
      "aws s3 cp \"/home/yuncong/CSHL_volumes/atlasV5/atlasV5_down32_scoreVolume/score_volumes/atlasV5_down32_scoreVolume_12N_surround_200.bp\" \"s3://mousebrainatlas-data/CSHL_volumes/atlasV5/atlasV5_down32_scoreVolume/score_volumes/atlasV5_down32_scoreVolume_12N_surround_200.bp\"\n",
      "aws s3 cp \"/home/yuncong/CSHL_volumes/atlasV5/atlasV5_down32_scoreVolume/score_volumes/atlasV5_down32_scoreVolume_12N_surround_200_bbox.txt\" \"s3://mousebrainatlas-data/CSHL_volumes/atlasV5/atlasV5_down32_scoreVolume/score_volumes/atlasV5_down32_scoreVolume_12N_surround_200_bbox.txt\"\n",
      "aws s3 cp \"/home/yuncong/CSHL_volumes/atlasV5/atlasV5_down32_scoreVolume/score_volumes/atlasV5_down32_scoreVolume_SNR_R_surround_200.bp\" \"s3://mousebrainatlas-data/CSHL_volumes/atlasV5/atlasV5_down32_scoreVolume/score_volumes/atlasV5_down32_scoreVolume_SNR_R_surround_200.bp\"\n",
      "aws s3 cp \"/home/yuncong/CSHL_volumes/atlasV5/atlasV5_down32_scoreVolume/score_volumes/atlasV5_down32_scoreVolume_SNR_R_surround_200_bbox.txt\" \"s3://mousebrainatlas-data/CSHL_volumes/atlasV5/atlasV5_down32_scoreVolume/score_volumes/atlasV5_down32_scoreVolume_SNR_R_surround_200_bbox.txt\"\n",
      "aws s3 cp \"/home/yuncong/CSHL_volumes/atlasV5/atlasV5_down32_scoreVolume/score_volumes/atlasV5_down32_scoreVolume_Sp5O_L_surround_200.bp\" \"s3://mousebrainatlas-data/CSHL_volumes/atlasV5/atlasV5_down32_scoreVolume/score_volumes/atlasV5_down32_scoreVolume_Sp5O_L_surround_200.bp\"\n",
      "aws s3 cp \"/home/yuncong/CSHL_volumes/atlasV5/atlasV5_down32_scoreVolume/score_volumes/atlasV5_down32_scoreVolume_Sp5O_L_surround_200_bbox.txt\" \"s3://mousebrainatlas-data/CSHL_volumes/atlasV5/atlasV5_down32_scoreVolume/score_volumes/atlasV5_down32_scoreVolume_Sp5O_L_surround_200_bbox.txt\"\n",
      "aws s3 cp \"/home/yuncong/CSHL_volumes/atlasV5/atlasV5_down32_scoreVolume/score_volumes/atlasV5_down32_scoreVolume_RMC_L_surround_200.bp\" \"s3://mousebrainatlas-data/CSHL_volumes/atlasV5/atlasV5_down32_scoreVolume/score_volumes/atlasV5_down32_scoreVolume_RMC_L_surround_200.bp\"\n",
      "aws s3 cp \"/home/yuncong/CSHL_volumes/atlasV5/atlasV5_down32_scoreVolume/score_volumes/atlasV5_down32_scoreVolume_RMC_L_surround_200_bbox.txt\" \"s3://mousebrainatlas-data/CSHL_volumes/atlasV5/atlasV5_down32_scoreVolume/score_volumes/atlasV5_down32_scoreVolume_RMC_L_surround_200_bbox.txt\"\n",
      "aws s3 cp \"/home/yuncong/CSHL_volumes/atlasV5/atlasV5_down32_scoreVolume/score_volumes/atlasV5_down32_scoreVolume_DC_R_surround_200.bp\" \"s3://mousebrainatlas-data/CSHL_volumes/atlasV5/atlasV5_down32_scoreVolume/score_volumes/atlasV5_down32_scoreVolume_DC_R_surround_200.bp\"\n",
      "aws s3 cp \"/home/yuncong/CSHL_volumes/atlasV5/atlasV5_down32_scoreVolume/score_volumes/atlasV5_down32_scoreVolume_DC_R_surround_200_bbox.txt\" \"s3://mousebrainatlas-data/CSHL_volumes/atlasV5/atlasV5_down32_scoreVolume/score_volumes/atlasV5_down32_scoreVolume_DC_R_surround_200_bbox.txt\"\n",
      "aws s3 cp \"/home/yuncong/CSHL_volumes/atlasV5/atlasV5_down32_scoreVolume/score_volumes/atlasV5_down32_scoreVolume_VCA_L_surround_200.bp\" \"s3://mousebrainatlas-data/CSHL_volumes/atlasV5/atlasV5_down32_scoreVolume/score_volumes/atlasV5_down32_scoreVolume_VCA_L_surround_200.bp\"\n",
      "aws s3 cp \"/home/yuncong/CSHL_volumes/atlasV5/atlasV5_down32_scoreVolume/score_volumes/atlasV5_down32_scoreVolume_VCA_L_surround_200_bbox.txt\" \"s3://mousebrainatlas-data/CSHL_volumes/atlasV5/atlasV5_down32_scoreVolume/score_volumes/atlasV5_down32_scoreVolume_VCA_L_surround_200_bbox.txt\"\n",
      "aws s3 cp \"/home/yuncong/CSHL_volumes/atlasV5/atlasV5_down32_scoreVolume/score_volumes/atlasV5_down32_scoreVolume_3N_L_surround_200.bp\" \"s3://mousebrainatlas-data/CSHL_volumes/atlasV5/atlasV5_down32_scoreVolume/score_volumes/atlasV5_down32_scoreVolume_3N_L_surround_200.bp\"\n",
      "aws s3 cp \"/home/yuncong/CSHL_volumes/atlasV5/atlasV5_down32_scoreVolume/score_volumes/atlasV5_down32_scoreVolume_3N_L_surround_200_bbox.txt\" \"s3://mousebrainatlas-data/CSHL_volumes/atlasV5/atlasV5_down32_scoreVolume/score_volumes/atlasV5_down32_scoreVolume_3N_L_surround_200_bbox.txt\"\n",
      "aws s3 cp \"/home/yuncong/CSHL_volumes/atlasV5/atlasV5_down32_scoreVolume/score_volumes/atlasV5_down32_scoreVolume_6N_R_surround_200.bp\" \"s3://mousebrainatlas-data/CSHL_volumes/atlasV5/atlasV5_down32_scoreVolume/score_volumes/atlasV5_down32_scoreVolume_6N_R_surround_200.bp\"\n",
      "aws s3 cp \"/home/yuncong/CSHL_volumes/atlasV5/atlasV5_down32_scoreVolume/score_volumes/atlasV5_down32_scoreVolume_6N_R_surround_200_bbox.txt\" \"s3://mousebrainatlas-data/CSHL_volumes/atlasV5/atlasV5_down32_scoreVolume/score_volumes/atlasV5_down32_scoreVolume_6N_R_surround_200_bbox.txt\"\n",
      "aws s3 cp \"/home/yuncong/CSHL_volumes/atlasV5/atlasV5_down32_scoreVolume/score_volumes/atlasV5_down32_scoreVolume_Sp5I_L_surround_200.bp\" \"s3://mousebrainatlas-data/CSHL_volumes/atlasV5/atlasV5_down32_scoreVolume/score_volumes/atlasV5_down32_scoreVolume_Sp5I_L_surround_200.bp\"\n",
      "aws s3 cp \"/home/yuncong/CSHL_volumes/atlasV5/atlasV5_down32_scoreVolume/score_volumes/atlasV5_down32_scoreVolume_Sp5I_L_surround_200_bbox.txt\" \"s3://mousebrainatlas-data/CSHL_volumes/atlasV5/atlasV5_down32_scoreVolume/score_volumes/atlasV5_down32_scoreVolume_Sp5I_L_surround_200_bbox.txt\"\n",
      "aws s3 cp \"/home/yuncong/CSHL_volumes/atlasV5/atlasV5_down32_scoreVolume/score_volumes/atlasV5_down32_scoreVolume_5N_L_surround_200.bp\" \"s3://mousebrainatlas-data/CSHL_volumes/atlasV5/atlasV5_down32_scoreVolume/score_volumes/atlasV5_down32_scoreVolume_5N_L_surround_200.bp\"\n",
      "aws s3 cp \"/home/yuncong/CSHL_volumes/atlasV5/atlasV5_down32_scoreVolume/score_volumes/atlasV5_down32_scoreVolume_5N_L_surround_200_bbox.txt\" \"s3://mousebrainatlas-data/CSHL_volumes/atlasV5/atlasV5_down32_scoreVolume/score_volumes/atlasV5_down32_scoreVolume_5N_L_surround_200_bbox.txt\"\n",
      "aws s3 cp \"/home/yuncong/CSHL_volumes/atlasV5/atlasV5_down32_scoreVolume/score_volumes/atlasV5_down32_scoreVolume_RMC_R_surround_200.bp\" \"s3://mousebrainatlas-data/CSHL_volumes/atlasV5/atlasV5_down32_scoreVolume/score_volumes/atlasV5_down32_scoreVolume_RMC_R_surround_200.bp\"\n",
      "aws s3 cp \"/home/yuncong/CSHL_volumes/atlasV5/atlasV5_down32_scoreVolume/score_volumes/atlasV5_down32_scoreVolume_RMC_R_surround_200_bbox.txt\" \"s3://mousebrainatlas-data/CSHL_volumes/atlasV5/atlasV5_down32_scoreVolume/score_volumes/atlasV5_down32_scoreVolume_RMC_R_surround_200_bbox.txt\"\n",
      "aws s3 cp \"/home/yuncong/CSHL_volumes/atlasV5/atlasV5_down32_scoreVolume/score_volumes/atlasV5_down32_scoreVolume_SNC_L_surround_200.bp\" \"s3://mousebrainatlas-data/CSHL_volumes/atlasV5/atlasV5_down32_scoreVolume/score_volumes/atlasV5_down32_scoreVolume_SNC_L_surround_200.bp\"\n",
      "aws s3 cp \"/home/yuncong/CSHL_volumes/atlasV5/atlasV5_down32_scoreVolume/score_volumes/atlasV5_down32_scoreVolume_SNC_L_surround_200_bbox.txt\" \"s3://mousebrainatlas-data/CSHL_volumes/atlasV5/atlasV5_down32_scoreVolume/score_volumes/atlasV5_down32_scoreVolume_SNC_L_surround_200_bbox.txt\"\n",
      "aws s3 cp \"/home/yuncong/CSHL_volumes/atlasV5/atlasV5_down32_scoreVolume/score_volumes/atlasV5_down32_scoreVolume_SNC_R_surround_200.bp\" \"s3://mousebrainatlas-data/CSHL_volumes/atlasV5/atlasV5_down32_scoreVolume/score_volumes/atlasV5_down32_scoreVolume_SNC_R_surround_200.bp\"\n",
      "aws s3 cp \"/home/yuncong/CSHL_volumes/atlasV5/atlasV5_down32_scoreVolume/score_volumes/atlasV5_down32_scoreVolume_SNC_R_surround_200_bbox.txt\" \"s3://mousebrainatlas-data/CSHL_volumes/atlasV5/atlasV5_down32_scoreVolume/score_volumes/atlasV5_down32_scoreVolume_SNC_R_surround_200_bbox.txt\"\n",
      "aws s3 cp \"/home/yuncong/CSHL_volumes/atlasV5/atlasV5_down32_scoreVolume/score_volumes/atlasV5_down32_scoreVolume_AP_surround_200.bp\" \"s3://mousebrainatlas-data/CSHL_volumes/atlasV5/atlasV5_down32_scoreVolume/score_volumes/atlasV5_down32_scoreVolume_AP_surround_200.bp\"\n",
      "aws s3 cp \"/home/yuncong/CSHL_volumes/atlasV5/atlasV5_down32_scoreVolume/score_volumes/atlasV5_down32_scoreVolume_AP_surround_200_bbox.txt\" \"s3://mousebrainatlas-data/CSHL_volumes/atlasV5/atlasV5_down32_scoreVolume/score_volumes/atlasV5_down32_scoreVolume_AP_surround_200_bbox.txt\"\n",
      "aws s3 cp \"/home/yuncong/CSHL_volumes/atlasV5/atlasV5_down32_scoreVolume/score_volumes/atlasV5_down32_scoreVolume_5N_R_surround_200.bp\" \"s3://mousebrainatlas-data/CSHL_volumes/atlasV5/atlasV5_down32_scoreVolume/score_volumes/atlasV5_down32_scoreVolume_5N_R_surround_200.bp\"\n"
     ]
    },
    {
     "name": "stdout",
     "output_type": "stream",
     "text": [
      "aws s3 cp \"/home/yuncong/CSHL_volumes/atlasV5/atlasV5_down32_scoreVolume/score_volumes/atlasV5_down32_scoreVolume_5N_R_surround_200_bbox.txt\" \"s3://mousebrainatlas-data/CSHL_volumes/atlasV5/atlasV5_down32_scoreVolume/score_volumes/atlasV5_down32_scoreVolume_5N_R_surround_200_bbox.txt\"\n",
      "aws s3 cp \"/home/yuncong/CSHL_volumes/atlasV5/atlasV5_down32_scoreVolume/score_volumes/atlasV5_down32_scoreVolume_Sp5I_R_surround_200.bp\" \"s3://mousebrainatlas-data/CSHL_volumes/atlasV5/atlasV5_down32_scoreVolume/score_volumes/atlasV5_down32_scoreVolume_Sp5I_R_surround_200.bp\"\n",
      "aws s3 cp \"/home/yuncong/CSHL_volumes/atlasV5/atlasV5_down32_scoreVolume/score_volumes/atlasV5_down32_scoreVolume_Sp5I_R_surround_200_bbox.txt\" \"s3://mousebrainatlas-data/CSHL_volumes/atlasV5/atlasV5_down32_scoreVolume/score_volumes/atlasV5_down32_scoreVolume_Sp5I_R_surround_200_bbox.txt\"\n",
      "aws s3 cp \"/home/yuncong/CSHL_volumes/atlasV5/atlasV5_down32_scoreVolume/score_volumes/atlasV5_down32_scoreVolume_3N_R_surround_200.bp\" \"s3://mousebrainatlas-data/CSHL_volumes/atlasV5/atlasV5_down32_scoreVolume/score_volumes/atlasV5_down32_scoreVolume_3N_R_surround_200.bp\"\n",
      "aws s3 cp \"/home/yuncong/CSHL_volumes/atlasV5/atlasV5_down32_scoreVolume/score_volumes/atlasV5_down32_scoreVolume_3N_R_surround_200_bbox.txt\" \"s3://mousebrainatlas-data/CSHL_volumes/atlasV5/atlasV5_down32_scoreVolume/score_volumes/atlasV5_down32_scoreVolume_3N_R_surround_200_bbox.txt\"\n",
      "aws s3 cp \"/home/yuncong/CSHL_volumes/atlasV5/atlasV5_down32_scoreVolume/score_volumes/atlasV5_down32_scoreVolume_6N_L_surround_200.bp\" \"s3://mousebrainatlas-data/CSHL_volumes/atlasV5/atlasV5_down32_scoreVolume/score_volumes/atlasV5_down32_scoreVolume_6N_L_surround_200.bp\"\n",
      "aws s3 cp \"/home/yuncong/CSHL_volumes/atlasV5/atlasV5_down32_scoreVolume/score_volumes/atlasV5_down32_scoreVolume_6N_L_surround_200_bbox.txt\" \"s3://mousebrainatlas-data/CSHL_volumes/atlasV5/atlasV5_down32_scoreVolume/score_volumes/atlasV5_down32_scoreVolume_6N_L_surround_200_bbox.txt\"\n",
      "aws s3 cp \"/home/yuncong/CSHL_volumes/atlasV5/atlasV5_down32_scoreVolume/score_volumes/atlasV5_down32_scoreVolume_IC_surround_200.bp\" \"s3://mousebrainatlas-data/CSHL_volumes/atlasV5/atlasV5_down32_scoreVolume/score_volumes/atlasV5_down32_scoreVolume_IC_surround_200.bp\"\n",
      "aws s3 cp \"/home/yuncong/CSHL_volumes/atlasV5/atlasV5_down32_scoreVolume/score_volumes/atlasV5_down32_scoreVolume_IC_surround_200_bbox.txt\" \"s3://mousebrainatlas-data/CSHL_volumes/atlasV5/atlasV5_down32_scoreVolume/score_volumes/atlasV5_down32_scoreVolume_IC_surround_200_bbox.txt\"\n",
      "aws s3 cp \"/home/yuncong/CSHL_volumes/atlasV5/atlasV5_down32_scoreVolume/score_volumes/atlasV5_down32_scoreVolume_VCA_R_surround_200.bp\" \"s3://mousebrainatlas-data/CSHL_volumes/atlasV5/atlasV5_down32_scoreVolume/score_volumes/atlasV5_down32_scoreVolume_VCA_R_surround_200.bp\"\n",
      "aws s3 cp \"/home/yuncong/CSHL_volumes/atlasV5/atlasV5_down32_scoreVolume/score_volumes/atlasV5_down32_scoreVolume_VCA_R_surround_200_bbox.txt\" \"s3://mousebrainatlas-data/CSHL_volumes/atlasV5/atlasV5_down32_scoreVolume/score_volumes/atlasV5_down32_scoreVolume_VCA_R_surround_200_bbox.txt\"\n",
      "aws s3 cp \"/home/yuncong/CSHL_volumes/atlasV5/atlasV5_down32_scoreVolume/score_volumes/atlasV5_down32_scoreVolume_DC_L_surround_200.bp\" \"s3://mousebrainatlas-data/CSHL_volumes/atlasV5/atlasV5_down32_scoreVolume/score_volumes/atlasV5_down32_scoreVolume_DC_L_surround_200.bp\"\n",
      "aws s3 cp \"/home/yuncong/CSHL_volumes/atlasV5/atlasV5_down32_scoreVolume/score_volumes/atlasV5_down32_scoreVolume_DC_L_surround_200_bbox.txt\" \"s3://mousebrainatlas-data/CSHL_volumes/atlasV5/atlasV5_down32_scoreVolume/score_volumes/atlasV5_down32_scoreVolume_DC_L_surround_200_bbox.txt\"\n",
      "aws s3 cp \"/home/yuncong/CSHL_volumes/atlasV5/atlasV5_down32_scoreVolume/score_volumes/atlasV5_down32_scoreVolume_Amb_R_surround_200.bp\" \"s3://mousebrainatlas-data/CSHL_volumes/atlasV5/atlasV5_down32_scoreVolume/score_volumes/atlasV5_down32_scoreVolume_Amb_R_surround_200.bp\"\n",
      "aws s3 cp \"/home/yuncong/CSHL_volumes/atlasV5/atlasV5_down32_scoreVolume/score_volumes/atlasV5_down32_scoreVolume_Amb_R_surround_200_bbox.txt\" \"s3://mousebrainatlas-data/CSHL_volumes/atlasV5/atlasV5_down32_scoreVolume/score_volumes/atlasV5_down32_scoreVolume_Amb_R_surround_200_bbox.txt\"\n",
      "aws s3 cp \"/home/yuncong/CSHL_volumes/atlasV5/atlasV5_down32_scoreVolume/score_volumes/atlasV5_down32_scoreVolume_VCP_R_surround_200.bp\" \"s3://mousebrainatlas-data/CSHL_volumes/atlasV5/atlasV5_down32_scoreVolume/score_volumes/atlasV5_down32_scoreVolume_VCP_R_surround_200.bp\"\n",
      "aws s3 cp \"/home/yuncong/CSHL_volumes/atlasV5/atlasV5_down32_scoreVolume/score_volumes/atlasV5_down32_scoreVolume_VCP_R_surround_200_bbox.txt\" \"s3://mousebrainatlas-data/CSHL_volumes/atlasV5/atlasV5_down32_scoreVolume/score_volumes/atlasV5_down32_scoreVolume_VCP_R_surround_200_bbox.txt\"\n",
      "aws s3 cp \"/home/yuncong/CSHL_volumes/atlasV5/atlasV5_down32_scoreVolume/score_volumes/atlasV5_down32_scoreVolume_LC_R_surround_200.bp\" \"s3://mousebrainatlas-data/CSHL_volumes/atlasV5/atlasV5_down32_scoreVolume/score_volumes/atlasV5_down32_scoreVolume_LC_R_surround_200.bp\"\n",
      "aws s3 cp \"/home/yuncong/CSHL_volumes/atlasV5/atlasV5_down32_scoreVolume/score_volumes/atlasV5_down32_scoreVolume_LC_R_surround_200_bbox.txt\" \"s3://mousebrainatlas-data/CSHL_volumes/atlasV5/atlasV5_down32_scoreVolume/score_volumes/atlasV5_down32_scoreVolume_LC_R_surround_200_bbox.txt\"\n",
      "aws s3 cp \"/home/yuncong/CSHL_volumes/atlasV5/atlasV5_down32_scoreVolume/score_volumes/atlasV5_down32_scoreVolume_10N_R_surround_200.bp\" \"s3://mousebrainatlas-data/CSHL_volumes/atlasV5/atlasV5_down32_scoreVolume/score_volumes/atlasV5_down32_scoreVolume_10N_R_surround_200.bp\"\n",
      "aws s3 cp \"/home/yuncong/CSHL_volumes/atlasV5/atlasV5_down32_scoreVolume/score_volumes/atlasV5_down32_scoreVolume_10N_R_surround_200_bbox.txt\" \"s3://mousebrainatlas-data/CSHL_volumes/atlasV5/atlasV5_down32_scoreVolume/score_volumes/atlasV5_down32_scoreVolume_10N_R_surround_200_bbox.txt\"\n",
      "aws s3 cp \"/home/yuncong/CSHL_volumes/atlasV5/atlasV5_down32_scoreVolume/score_volumes/atlasV5_down32_scoreVolume_7n_R_surround_200.bp\" \"s3://mousebrainatlas-data/CSHL_volumes/atlasV5/atlasV5_down32_scoreVolume/score_volumes/atlasV5_down32_scoreVolume_7n_R_surround_200.bp\"\n",
      "aws s3 cp \"/home/yuncong/CSHL_volumes/atlasV5/atlasV5_down32_scoreVolume/score_volumes/atlasV5_down32_scoreVolume_7n_R_surround_200_bbox.txt\" \"s3://mousebrainatlas-data/CSHL_volumes/atlasV5/atlasV5_down32_scoreVolume/score_volumes/atlasV5_down32_scoreVolume_7n_R_surround_200_bbox.txt\"\n",
      "aws s3 cp \"/home/yuncong/CSHL_volumes/atlasV5/atlasV5_down32_scoreVolume/score_volumes/atlasV5_down32_scoreVolume_4N_R_surround_200.bp\" \"s3://mousebrainatlas-data/CSHL_volumes/atlasV5/atlasV5_down32_scoreVolume/score_volumes/atlasV5_down32_scoreVolume_4N_R_surround_200.bp\"\n",
      "aws s3 cp \"/home/yuncong/CSHL_volumes/atlasV5/atlasV5_down32_scoreVolume/score_volumes/atlasV5_down32_scoreVolume_4N_R_surround_200_bbox.txt\" \"s3://mousebrainatlas-data/CSHL_volumes/atlasV5/atlasV5_down32_scoreVolume/score_volumes/atlasV5_down32_scoreVolume_4N_R_surround_200_bbox.txt\"\n",
      "aws s3 cp \"/home/yuncong/CSHL_volumes/atlasV5/atlasV5_down32_scoreVolume/score_volumes/atlasV5_down32_scoreVolume_Tz_L_surround_200.bp\" \"s3://mousebrainatlas-data/CSHL_volumes/atlasV5/atlasV5_down32_scoreVolume/score_volumes/atlasV5_down32_scoreVolume_Tz_L_surround_200.bp\"\n",
      "aws s3 cp \"/home/yuncong/CSHL_volumes/atlasV5/atlasV5_down32_scoreVolume/score_volumes/atlasV5_down32_scoreVolume_Tz_L_surround_200_bbox.txt\" \"s3://mousebrainatlas-data/CSHL_volumes/atlasV5/atlasV5_down32_scoreVolume/score_volumes/atlasV5_down32_scoreVolume_Tz_L_surround_200_bbox.txt\"\n",
      "aws s3 cp \"/home/yuncong/CSHL_volumes/atlasV5/atlasV5_down32_scoreVolume/score_volumes/atlasV5_down32_scoreVolume_Tz_R_surround_200.bp\" \"s3://mousebrainatlas-data/CSHL_volumes/atlasV5/atlasV5_down32_scoreVolume/score_volumes/atlasV5_down32_scoreVolume_Tz_R_surround_200.bp\"\n",
      "aws s3 cp \"/home/yuncong/CSHL_volumes/atlasV5/atlasV5_down32_scoreVolume/score_volumes/atlasV5_down32_scoreVolume_Tz_R_surround_200_bbox.txt\" \"s3://mousebrainatlas-data/CSHL_volumes/atlasV5/atlasV5_down32_scoreVolume/score_volumes/atlasV5_down32_scoreVolume_Tz_R_surround_200_bbox.txt\"\n",
      "aws s3 cp \"/home/yuncong/CSHL_volumes/atlasV5/atlasV5_down32_scoreVolume/score_volumes/atlasV5_down32_scoreVolume_7n_L_surround_200.bp\" \"s3://mousebrainatlas-data/CSHL_volumes/atlasV5/atlasV5_down32_scoreVolume/score_volumes/atlasV5_down32_scoreVolume_7n_L_surround_200.bp\"\n"
     ]
    },
    {
     "name": "stdout",
     "output_type": "stream",
     "text": [
      "aws s3 cp \"/home/yuncong/CSHL_volumes/atlasV5/atlasV5_down32_scoreVolume/score_volumes/atlasV5_down32_scoreVolume_7n_L_surround_200_bbox.txt\" \"s3://mousebrainatlas-data/CSHL_volumes/atlasV5/atlasV5_down32_scoreVolume/score_volumes/atlasV5_down32_scoreVolume_7n_L_surround_200_bbox.txt\"\n",
      "aws s3 cp \"/home/yuncong/CSHL_volumes/atlasV5/atlasV5_down32_scoreVolume/score_volumes/atlasV5_down32_scoreVolume_4N_L_surround_200.bp\" \"s3://mousebrainatlas-data/CSHL_volumes/atlasV5/atlasV5_down32_scoreVolume/score_volumes/atlasV5_down32_scoreVolume_4N_L_surround_200.bp\"\n",
      "aws s3 cp \"/home/yuncong/CSHL_volumes/atlasV5/atlasV5_down32_scoreVolume/score_volumes/atlasV5_down32_scoreVolume_4N_L_surround_200_bbox.txt\" \"s3://mousebrainatlas-data/CSHL_volumes/atlasV5/atlasV5_down32_scoreVolume/score_volumes/atlasV5_down32_scoreVolume_4N_L_surround_200_bbox.txt\"\n",
      "aws s3 cp \"/home/yuncong/CSHL_volumes/atlasV5/atlasV5_down32_scoreVolume/score_volumes/atlasV5_down32_scoreVolume_LC_L_surround_200.bp\" \"s3://mousebrainatlas-data/CSHL_volumes/atlasV5/atlasV5_down32_scoreVolume/score_volumes/atlasV5_down32_scoreVolume_LC_L_surround_200.bp\"\n",
      "aws s3 cp \"/home/yuncong/CSHL_volumes/atlasV5/atlasV5_down32_scoreVolume/score_volumes/atlasV5_down32_scoreVolume_LC_L_surround_200_bbox.txt\" \"s3://mousebrainatlas-data/CSHL_volumes/atlasV5/atlasV5_down32_scoreVolume/score_volumes/atlasV5_down32_scoreVolume_LC_L_surround_200_bbox.txt\"\n",
      "aws s3 cp \"/home/yuncong/CSHL_volumes/atlasV5/atlasV5_down32_scoreVolume/score_volumes/atlasV5_down32_scoreVolume_10N_L_surround_200.bp\" \"s3://mousebrainatlas-data/CSHL_volumes/atlasV5/atlasV5_down32_scoreVolume/score_volumes/atlasV5_down32_scoreVolume_10N_L_surround_200.bp\"\n",
      "aws s3 cp \"/home/yuncong/CSHL_volumes/atlasV5/atlasV5_down32_scoreVolume/score_volumes/atlasV5_down32_scoreVolume_10N_L_surround_200_bbox.txt\" \"s3://mousebrainatlas-data/CSHL_volumes/atlasV5/atlasV5_down32_scoreVolume/score_volumes/atlasV5_down32_scoreVolume_10N_L_surround_200_bbox.txt\"\n",
      "aws s3 cp \"/home/yuncong/CSHL_volumes/atlasV5/atlasV5_down32_scoreVolume/score_volumes/atlasV5_down32_scoreVolume_SC_surround_200.bp\" \"s3://mousebrainatlas-data/CSHL_volumes/atlasV5/atlasV5_down32_scoreVolume/score_volumes/atlasV5_down32_scoreVolume_SC_surround_200.bp\"\n",
      "aws s3 cp \"/home/yuncong/CSHL_volumes/atlasV5/atlasV5_down32_scoreVolume/score_volumes/atlasV5_down32_scoreVolume_SC_surround_200_bbox.txt\" \"s3://mousebrainatlas-data/CSHL_volumes/atlasV5/atlasV5_down32_scoreVolume/score_volumes/atlasV5_down32_scoreVolume_SC_surround_200_bbox.txt\"\n",
      "aws s3 cp \"/home/yuncong/CSHL_volumes/atlasV5/atlasV5_down32_scoreVolume/score_volumes/atlasV5_down32_scoreVolume_VCP_L_surround_200.bp\" \"s3://mousebrainatlas-data/CSHL_volumes/atlasV5/atlasV5_down32_scoreVolume/score_volumes/atlasV5_down32_scoreVolume_VCP_L_surround_200.bp\"\n",
      "aws s3 cp \"/home/yuncong/CSHL_volumes/atlasV5/atlasV5_down32_scoreVolume/score_volumes/atlasV5_down32_scoreVolume_VCP_L_surround_200_bbox.txt\" \"s3://mousebrainatlas-data/CSHL_volumes/atlasV5/atlasV5_down32_scoreVolume/score_volumes/atlasV5_down32_scoreVolume_VCP_L_surround_200_bbox.txt\"\n",
      "aws s3 cp \"/home/yuncong/CSHL_volumes/atlasV5/atlasV5_down32_scoreVolume/score_volumes/atlasV5_down32_scoreVolume_Amb_L_surround_200.bp\" \"s3://mousebrainatlas-data/CSHL_volumes/atlasV5/atlasV5_down32_scoreVolume/score_volumes/atlasV5_down32_scoreVolume_Amb_L_surround_200.bp\"\n",
      "aws s3 cp \"/home/yuncong/CSHL_volumes/atlasV5/atlasV5_down32_scoreVolume/score_volumes/atlasV5_down32_scoreVolume_Amb_L_surround_200_bbox.txt\" \"s3://mousebrainatlas-data/CSHL_volumes/atlasV5/atlasV5_down32_scoreVolume/score_volumes/atlasV5_down32_scoreVolume_Amb_L_surround_200_bbox.txt\"\n"
     ]
    }
   ],
   "source": [
    "for name_s, vol in atlas_volumes.iteritems():\n",
    "    \n",
    "    if name_s in singular_structures:\n",
    "        vol = symmetricalize_volume(vol)\n",
    "\n",
    "    surround_vol = get_surround_volume(vol, valid_level=valid_level, distance=surround_distance_voxel, prob=True)\n",
    "    vol_fp = DataManager.get_volume_filepath(stack_m=atlas_name, \n",
    "                                             structure=convert_to_surround_name(name_s, margin=surround_distance_um))\n",
    "    create_parent_dir_if_not_exists(vol_fp)\n",
    "    bp.pack_ndarray_file(surround_vol.astype(np.float16), vol_fp)\n",
    "    upload_to_s3(vol_fp)\n",
    "\n",
    "    fp = DataManager.get_original_volume_bbox_filepath(stack=atlas_name, structure=convert_to_surround_name(name_s, margin=surround_distance_um))\n",
    "    np.savetxt(fp, atlas_volume_bbox_rel2uncropped[None,:], fmt='%d')\n",
    "    upload_to_s3(fp)"
   ]
  },
  {
   "cell_type": "code",
   "execution_count": null,
   "metadata": {
    "collapsed": true
   },
   "outputs": [],
   "source": [
    "# surround_vol = get_surround_volume(atlas_prob_volume_allLandmarks['IC'], distance=13, valid_level=0.5, prob=True)\n",
    "# display_volume_sections(surround_vol, direction='x', vmin=0, vmax=1.)"
   ]
  },
  {
   "cell_type": "markdown",
   "metadata": {},
   "source": [
    "## Convert surround volumes to meshes, for visualization."
   ]
  },
  {
   "cell_type": "code",
   "execution_count": 59,
   "metadata": {
    "scrolled": true
   },
   "outputs": [
    {
     "name": "stderr",
     "output_type": "stream",
     "text": [
      "marching cube: 0.04 seconds\n",
      "mesh_to_polydata: 0.03 seconds\n",
      "simplify 0 @ 24414: 0.21 seconds\n",
      "simplify 1 @ 4886: 0.24 seconds\n",
      "simplify 2 @ 980: 0.05 seconds\n"
     ]
    },
    {
     "name": "stdout",
     "output_type": "stream",
     "text": [
      "aws s3 cp \"/home/yuncong/CSHL_meshes/atlasV5/atlasV5_down32_scoreVolume/atlasV5_down32_scoreVolume_5N_L_surround_200.stl\" \"s3://mousebrainatlas-data/CSHL_meshes/atlasV5/atlasV5_down32_scoreVolume/atlasV5_down32_scoreVolume_5N_L_surround_200.stl\"\n"
     ]
    },
    {
     "name": "stderr",
     "output_type": "stream",
     "text": [
      "marching cube: 0.04 seconds\n",
      "mesh_to_polydata: 0.03 seconds\n",
      "simplify 0 @ 24416: 0.23 seconds\n",
      "simplify 1 @ 4886: 0.21 seconds\n",
      "simplify 2 @ 980: 0.05 seconds\n"
     ]
    },
    {
     "name": "stdout",
     "output_type": "stream",
     "text": [
      "aws s3 cp \"/home/yuncong/CSHL_meshes/atlasV5/atlasV5_down32_scoreVolume/atlasV5_down32_scoreVolume_5N_R_surround_200.stl\" \"s3://mousebrainatlas-data/CSHL_meshes/atlasV5/atlasV5_down32_scoreVolume/atlasV5_down32_scoreVolume_5N_R_surround_200.stl\"\n"
     ]
    },
    {
     "name": "stderr",
     "output_type": "stream",
     "text": [
      "marching cube: 0.01 seconds\n",
      "mesh_to_polydata: 0.01 seconds\n",
      "simplify 0 @ 6787: 0.06 seconds\n",
      "simplify 1 @ 1360: 0.05 seconds\n",
      "simplify 2 @ 275: 0.01 seconds\n"
     ]
    },
    {
     "name": "stdout",
     "output_type": "stream",
     "text": [
      "aws s3 cp \"/home/yuncong/CSHL_meshes/atlasV5/atlasV5_down32_scoreVolume/atlasV5_down32_scoreVolume_6N_L_surround_200.stl\" \"s3://mousebrainatlas-data/CSHL_meshes/atlasV5/atlasV5_down32_scoreVolume/atlasV5_down32_scoreVolume_6N_L_surround_200.stl\"\n"
     ]
    },
    {
     "name": "stderr",
     "output_type": "stream",
     "text": [
      "marching cube: 0.01 seconds\n",
      "mesh_to_polydata: 0.01 seconds\n",
      "simplify 0 @ 6778: 0.05 seconds\n",
      "simplify 1 @ 1358: 0.05 seconds\n",
      "simplify 2 @ 274: 0.01 seconds\n"
     ]
    },
    {
     "name": "stdout",
     "output_type": "stream",
     "text": [
      "aws s3 cp \"/home/yuncong/CSHL_meshes/atlasV5/atlasV5_down32_scoreVolume/atlasV5_down32_scoreVolume_6N_R_surround_200.stl\" \"s3://mousebrainatlas-data/CSHL_meshes/atlasV5/atlasV5_down32_scoreVolume/atlasV5_down32_scoreVolume_6N_R_surround_200.stl\"\n"
     ]
    },
    {
     "name": "stderr",
     "output_type": "stream",
     "text": [
      "marching cube: 0.07 seconds\n",
      "mesh_to_polydata: 0.04 seconds\n",
      "simplify 0 @ 35262: 0.33 seconds\n",
      "simplify 1 @ 7055: 0.38 seconds\n",
      "simplify 2 @ 1414: 0.07 seconds\n"
     ]
    },
    {
     "name": "stdout",
     "output_type": "stream",
     "text": [
      "aws s3 cp \"/home/yuncong/CSHL_meshes/atlasV5/atlasV5_down32_scoreVolume/atlasV5_down32_scoreVolume_7N_L_surround_200.stl\" \"s3://mousebrainatlas-data/CSHL_meshes/atlasV5/atlasV5_down32_scoreVolume/atlasV5_down32_scoreVolume_7N_L_surround_200.stl\"\n"
     ]
    },
    {
     "name": "stderr",
     "output_type": "stream",
     "text": [
      "marching cube: 0.08 seconds\n",
      "mesh_to_polydata: 0.04 seconds\n",
      "simplify 0 @ 35180: 0.31 seconds\n",
      "simplify 1 @ 7039: 0.35 seconds\n",
      "simplify 2 @ 1410: 0.07 seconds\n"
     ]
    },
    {
     "name": "stdout",
     "output_type": "stream",
     "text": [
      "aws s3 cp \"/home/yuncong/CSHL_meshes/atlasV5/atlasV5_down32_scoreVolume/atlasV5_down32_scoreVolume_7N_R_surround_200.stl\" \"s3://mousebrainatlas-data/CSHL_meshes/atlasV5/atlasV5_down32_scoreVolume/atlasV5_down32_scoreVolume_7N_R_surround_200.stl\"\n"
     ]
    },
    {
     "name": "stderr",
     "output_type": "stream",
     "text": [
      "marching cube: 0.24 seconds\n",
      "mesh_to_polydata: 0.08 seconds\n",
      "simplify 0 @ 34712: 0.53 seconds\n",
      "simplify 1 @ 6945: 0.64 seconds\n",
      "simplify 2 @ 1392: 0.14 seconds\n"
     ]
    },
    {
     "name": "stdout",
     "output_type": "stream",
     "text": [
      "aws s3 cp \"/home/yuncong/CSHL_meshes/atlasV5/atlasV5_down32_scoreVolume/atlasV5_down32_scoreVolume_7n_L_surround_200.stl\" \"s3://mousebrainatlas-data/CSHL_meshes/atlasV5/atlasV5_down32_scoreVolume/atlasV5_down32_scoreVolume_7n_L_surround_200.stl\"\n"
     ]
    },
    {
     "name": "stderr",
     "output_type": "stream",
     "text": [
      "marching cube: 0.14 seconds\n",
      "mesh_to_polydata: 0.05 seconds\n",
      "simplify 0 @ 34650: 0.32 seconds\n",
      "simplify 1 @ 6933: 0.38 seconds\n",
      "simplify 2 @ 1389: 0.08 seconds\n"
     ]
    },
    {
     "name": "stdout",
     "output_type": "stream",
     "text": [
      "aws s3 cp \"/home/yuncong/CSHL_meshes/atlasV5/atlasV5_down32_scoreVolume/atlasV5_down32_scoreVolume_7n_R_surround_200.stl\" \"s3://mousebrainatlas-data/CSHL_meshes/atlasV5/atlasV5_down32_scoreVolume/atlasV5_down32_scoreVolume_7n_R_surround_200.stl\"\n"
     ]
    },
    {
     "name": "stderr",
     "output_type": "stream",
     "text": [
      "marching cube: 0.01 seconds\n",
      "mesh_to_polydata: 0.01 seconds\n",
      "simplify 0 @ 7592: 0.07 seconds\n",
      "simplify 1 @ 1521: 0.06 seconds\n",
      "simplify 2 @ 307: 0.01 seconds\n"
     ]
    },
    {
     "name": "stdout",
     "output_type": "stream",
     "text": [
      "aws s3 cp \"/home/yuncong/CSHL_meshes/atlasV5/atlasV5_down32_scoreVolume/atlasV5_down32_scoreVolume_Amb_L_surround_200.stl\" \"s3://mousebrainatlas-data/CSHL_meshes/atlasV5/atlasV5_down32_scoreVolume/atlasV5_down32_scoreVolume_Amb_L_surround_200.stl\"\n"
     ]
    },
    {
     "name": "stderr",
     "output_type": "stream",
     "text": [
      "marching cube: 0.01 seconds\n",
      "mesh_to_polydata: 0.01 seconds\n",
      "simplify 0 @ 7580: 0.07 seconds\n",
      "simplify 1 @ 1519: 0.06 seconds\n",
      "simplify 2 @ 307: 0.01 seconds\n"
     ]
    },
    {
     "name": "stdout",
     "output_type": "stream",
     "text": [
      "aws s3 cp \"/home/yuncong/CSHL_meshes/atlasV5/atlasV5_down32_scoreVolume/atlasV5_down32_scoreVolume_Amb_R_surround_200.stl\" \"s3://mousebrainatlas-data/CSHL_meshes/atlasV5/atlasV5_down32_scoreVolume/atlasV5_down32_scoreVolume_Amb_R_surround_200.stl\"\n"
     ]
    },
    {
     "name": "stderr",
     "output_type": "stream",
     "text": [
      "marching cube: 0.03 seconds\n",
      "mesh_to_polydata: 0.02 seconds\n",
      "simplify 0 @ 16381: 0.15 seconds\n",
      "simplify 1 @ 3279: 0.14 seconds\n",
      "simplify 2 @ 659: 0.03 seconds\n"
     ]
    },
    {
     "name": "stdout",
     "output_type": "stream",
     "text": [
      "aws s3 cp \"/home/yuncong/CSHL_meshes/atlasV5/atlasV5_down32_scoreVolume/atlasV5_down32_scoreVolume_LC_L_surround_200.stl\" \"s3://mousebrainatlas-data/CSHL_meshes/atlasV5/atlasV5_down32_scoreVolume/atlasV5_down32_scoreVolume_LC_L_surround_200.stl\"\n"
     ]
    },
    {
     "name": "stderr",
     "output_type": "stream",
     "text": [
      "marching cube: 0.03 seconds\n",
      "mesh_to_polydata: 0.02 seconds\n",
      "simplify 0 @ 16367: 0.15 seconds\n",
      "simplify 1 @ 3276: 0.14 seconds\n",
      "simplify 2 @ 658: 0.03 seconds\n"
     ]
    },
    {
     "name": "stdout",
     "output_type": "stream",
     "text": [
      "aws s3 cp \"/home/yuncong/CSHL_meshes/atlasV5/atlasV5_down32_scoreVolume/atlasV5_down32_scoreVolume_LC_R_surround_200.stl\" \"s3://mousebrainatlas-data/CSHL_meshes/atlasV5/atlasV5_down32_scoreVolume/atlasV5_down32_scoreVolume_LC_R_surround_200.stl\"\n"
     ]
    },
    {
     "name": "stderr",
     "output_type": "stream",
     "text": [
      "marching cube: 0.07 seconds\n",
      "mesh_to_polydata: 0.04 seconds\n",
      "simplify 0 @ 31178: 0.27 seconds\n",
      "simplify 1 @ 6238: 0.28 seconds\n",
      "simplify 2 @ 1250: 0.05 seconds\n"
     ]
    },
    {
     "name": "stdout",
     "output_type": "stream",
     "text": [
      "aws s3 cp \"/home/yuncong/CSHL_meshes/atlasV5/atlasV5_down32_scoreVolume/atlasV5_down32_scoreVolume_LRt_L_surround_200.stl\" \"s3://mousebrainatlas-data/CSHL_meshes/atlasV5/atlasV5_down32_scoreVolume/atlasV5_down32_scoreVolume_LRt_L_surround_200.stl\"\n"
     ]
    },
    {
     "name": "stderr",
     "output_type": "stream",
     "text": [
      "marching cube: 0.07 seconds\n",
      "mesh_to_polydata: 0.03 seconds\n",
      "simplify 0 @ 31336: 0.27 seconds\n",
      "simplify 1 @ 6270: 0.28 seconds\n",
      "simplify 2 @ 1257: 0.06 seconds\n"
     ]
    },
    {
     "name": "stdout",
     "output_type": "stream",
     "text": [
      "aws s3 cp \"/home/yuncong/CSHL_meshes/atlasV5/atlasV5_down32_scoreVolume/atlasV5_down32_scoreVolume_LRt_R_surround_200.stl\" \"s3://mousebrainatlas-data/CSHL_meshes/atlasV5/atlasV5_down32_scoreVolume/atlasV5_down32_scoreVolume_LRt_R_surround_200.stl\"\n"
     ]
    },
    {
     "name": "stderr",
     "output_type": "stream",
     "text": [
      "marching cube: 0.10 seconds\n",
      "mesh_to_polydata: 0.06 seconds\n"
     ]
    },
    {
     "name": "stdout",
     "output_type": "stream",
     "text": [
      "aws s3 cp \"/home/yuncong/CSHL_meshes/atlasV5/atlasV5_down32_scoreVolume/atlasV5_down32_scoreVolume_Pn_L_surround_200.stl\" \"s3://mousebrainatlas-data/CSHL_meshes/atlasV5/atlasV5_down32_scoreVolume/atlasV5_down32_scoreVolume_Pn_L_surround_200.stl\"\n"
     ]
    },
    {
     "name": "stderr",
     "output_type": "stream",
     "text": [
      "simplify 0 @ 47478: 0.44 seconds\n",
      "simplify 1 @ 9498: 0.49 seconds\n",
      "simplify 2 @ 1902: 0.10 seconds\n",
      "marching cube: 0.09 seconds\n",
      "mesh_to_polydata: 0.05 seconds\n",
      "simplify 0 @ 47408: 0.42 seconds\n",
      "simplify 1 @ 9484: 0.47 seconds\n",
      "simplify 2 @ 1900: 0.09 seconds\n"
     ]
    },
    {
     "name": "stdout",
     "output_type": "stream",
     "text": [
      "aws s3 cp \"/home/yuncong/CSHL_meshes/atlasV5/atlasV5_down32_scoreVolume/atlasV5_down32_scoreVolume_Pn_R_surround_200.stl\" \"s3://mousebrainatlas-data/CSHL_meshes/atlasV5/atlasV5_down32_scoreVolume/atlasV5_down32_scoreVolume_Pn_R_surround_200.stl\"\n"
     ]
    },
    {
     "name": "stderr",
     "output_type": "stream",
     "text": [
      "marching cube: 0.04 seconds\n",
      "mesh_to_polydata: 0.03 seconds\n",
      "simplify 0 @ 20114: 0.18 seconds\n",
      "simplify 1 @ 4026: 0.19 seconds\n",
      "simplify 2 @ 808: 0.04 seconds\n"
     ]
    },
    {
     "name": "stdout",
     "output_type": "stream",
     "text": [
      "aws s3 cp \"/home/yuncong/CSHL_meshes/atlasV5/atlasV5_down32_scoreVolume/atlasV5_down32_scoreVolume_Tz_L_surround_200.stl\" \"s3://mousebrainatlas-data/CSHL_meshes/atlasV5/atlasV5_down32_scoreVolume/atlasV5_down32_scoreVolume_Tz_L_surround_200.stl\"\n"
     ]
    },
    {
     "name": "stderr",
     "output_type": "stream",
     "text": [
      "marching cube: 0.04 seconds\n",
      "mesh_to_polydata: 0.02 seconds\n",
      "simplify 0 @ 20101: 0.17 seconds\n",
      "simplify 1 @ 4023: 0.16 seconds\n",
      "simplify 2 @ 807: 0.03 seconds\n"
     ]
    },
    {
     "name": "stdout",
     "output_type": "stream",
     "text": [
      "aws s3 cp \"/home/yuncong/CSHL_meshes/atlasV5/atlasV5_down32_scoreVolume/atlasV5_down32_scoreVolume_Tz_R_surround_200.stl\" \"s3://mousebrainatlas-data/CSHL_meshes/atlasV5/atlasV5_down32_scoreVolume/atlasV5_down32_scoreVolume_Tz_R_surround_200.stl\"\n"
     ]
    },
    {
     "name": "stderr",
     "output_type": "stream",
     "text": [
      "marching cube: 0.11 seconds\n",
      "mesh_to_polydata: 0.05 seconds\n"
     ]
    },
    {
     "name": "stdout",
     "output_type": "stream",
     "text": [
      "aws s3 cp \"/home/yuncong/CSHL_meshes/atlasV5/atlasV5_down32_scoreVolume/atlasV5_down32_scoreVolume_VLL_L_surround_200.stl\" \"s3://mousebrainatlas-data/CSHL_meshes/atlasV5/atlasV5_down32_scoreVolume/atlasV5_down32_scoreVolume_VLL_L_surround_200.stl\"\n"
     ]
    },
    {
     "name": "stderr",
     "output_type": "stream",
     "text": [
      "simplify 0 @ 37951: 0.37 seconds\n",
      "simplify 1 @ 7593: 0.37 seconds\n",
      "simplify 2 @ 1521: 0.07 seconds\n",
      "marching cube: 0.26 seconds\n",
      "mesh_to_polydata: 0.09 seconds\n",
      "simplify 0 @ 37990: 0.69 seconds\n",
      "simplify 1 @ 7601: 0.66 seconds\n",
      "simplify 2 @ 1523: 0.14 seconds\n"
     ]
    },
    {
     "name": "stdout",
     "output_type": "stream",
     "text": [
      "aws s3 cp \"/home/yuncong/CSHL_meshes/atlasV5/atlasV5_down32_scoreVolume/atlasV5_down32_scoreVolume_VLL_R_surround_200.stl\" \"s3://mousebrainatlas-data/CSHL_meshes/atlasV5/atlasV5_down32_scoreVolume/atlasV5_down32_scoreVolume_VLL_R_surround_200.stl\"\n"
     ]
    },
    {
     "name": "stderr",
     "output_type": "stream",
     "text": [
      "marching cube: 0.05 seconds\n",
      "mesh_to_polydata: 0.04 seconds\n",
      "simplify 0 @ 20115: 0.21 seconds\n",
      "simplify 1 @ 4026: 0.18 seconds\n",
      "simplify 2 @ 808: 0.04 seconds\n"
     ]
    },
    {
     "name": "stdout",
     "output_type": "stream",
     "text": [
      "aws s3 cp \"/home/yuncong/CSHL_meshes/atlasV5/atlasV5_down32_scoreVolume/atlasV5_down32_scoreVolume_RMC_L_surround_200.stl\" \"s3://mousebrainatlas-data/CSHL_meshes/atlasV5/atlasV5_down32_scoreVolume/atlasV5_down32_scoreVolume_RMC_L_surround_200.stl\"\n"
     ]
    },
    {
     "name": "stderr",
     "output_type": "stream",
     "text": [
      "marching cube: 0.04 seconds\n",
      "mesh_to_polydata: 0.02 seconds\n",
      "simplify 0 @ 20105: 0.18 seconds\n",
      "simplify 1 @ 4024: 0.17 seconds\n",
      "simplify 2 @ 808: 0.04 seconds\n"
     ]
    },
    {
     "name": "stdout",
     "output_type": "stream",
     "text": [
      "aws s3 cp \"/home/yuncong/CSHL_meshes/atlasV5/atlasV5_down32_scoreVolume/atlasV5_down32_scoreVolume_RMC_R_surround_200.stl\" \"s3://mousebrainatlas-data/CSHL_meshes/atlasV5/atlasV5_down32_scoreVolume/atlasV5_down32_scoreVolume_RMC_R_surround_200.stl\"\n"
     ]
    },
    {
     "name": "stderr",
     "output_type": "stream",
     "text": [
      "marching cube: 0.06 seconds\n",
      "mesh_to_polydata: 0.03 seconds\n",
      "simplify 0 @ 25231: 0.18 seconds\n",
      "simplify 1 @ 5049: 0.22 seconds\n",
      "simplify 2 @ 1013: 0.05 seconds\n"
     ]
    },
    {
     "name": "stdout",
     "output_type": "stream",
     "text": [
      "aws s3 cp \"/home/yuncong/CSHL_meshes/atlasV5/atlasV5_down32_scoreVolume/atlasV5_down32_scoreVolume_SNC_L_surround_200.stl\" \"s3://mousebrainatlas-data/CSHL_meshes/atlasV5/atlasV5_down32_scoreVolume/atlasV5_down32_scoreVolume_SNC_L_surround_200.stl\"\n"
     ]
    },
    {
     "name": "stderr",
     "output_type": "stream",
     "text": [
      "marching cube: 0.06 seconds\n",
      "mesh_to_polydata: 0.03 seconds\n",
      "simplify 0 @ 25230: 0.19 seconds\n",
      "simplify 1 @ 5049: 0.23 seconds\n",
      "simplify 2 @ 1013: 0.05 seconds\n"
     ]
    },
    {
     "name": "stdout",
     "output_type": "stream",
     "text": [
      "aws s3 cp \"/home/yuncong/CSHL_meshes/atlasV5/atlasV5_down32_scoreVolume/atlasV5_down32_scoreVolume_SNC_R_surround_200.stl\" \"s3://mousebrainatlas-data/CSHL_meshes/atlasV5/atlasV5_down32_scoreVolume/atlasV5_down32_scoreVolume_SNC_R_surround_200.stl\"\n"
     ]
    },
    {
     "name": "stderr",
     "output_type": "stream",
     "text": [
      "marching cube: 0.17 seconds\n",
      "mesh_to_polydata: 0.08 seconds\n",
      "simplify 0 @ 71805: 0.90 seconds\n",
      "simplify 1 @ 14364: 0.77 seconds\n",
      "simplify 2 @ 2876: 0.15 seconds\n"
     ]
    },
    {
     "name": "stdout",
     "output_type": "stream",
     "text": [
      "aws s3 cp \"/home/yuncong/CSHL_meshes/atlasV5/atlasV5_down32_scoreVolume/atlasV5_down32_scoreVolume_SNR_L_surround_200.stl\" \"s3://mousebrainatlas-data/CSHL_meshes/atlasV5/atlasV5_down32_scoreVolume/atlasV5_down32_scoreVolume_SNR_L_surround_200.stl\"\n"
     ]
    },
    {
     "name": "stderr",
     "output_type": "stream",
     "text": [
      "marching cube: 0.17 seconds\n",
      "mesh_to_polydata: 0.08 seconds\n",
      "simplify 0 @ 71832: 0.61 seconds\n",
      "simplify 1 @ 14369: 0.70 seconds\n",
      "simplify 2 @ 2877: 0.14 seconds\n"
     ]
    },
    {
     "name": "stdout",
     "output_type": "stream",
     "text": [
      "aws s3 cp \"/home/yuncong/CSHL_meshes/atlasV5/atlasV5_down32_scoreVolume/atlasV5_down32_scoreVolume_SNR_R_surround_200.stl\" \"s3://mousebrainatlas-data/CSHL_meshes/atlasV5/atlasV5_down32_scoreVolume/atlasV5_down32_scoreVolume_SNR_R_surround_200.stl\"\n"
     ]
    },
    {
     "name": "stderr",
     "output_type": "stream",
     "text": [
      "marching cube: 0.02 seconds\n",
      "mesh_to_polydata: 0.01 seconds\n",
      "simplify 0 @ 11809: 0.12 seconds\n",
      "simplify 1 @ 2365: 0.09 seconds\n",
      "simplify 2 @ 476: 0.02 seconds\n"
     ]
    },
    {
     "name": "stdout",
     "output_type": "stream",
     "text": [
      "aws s3 cp \"/home/yuncong/CSHL_meshes/atlasV5/atlasV5_down32_scoreVolume/atlasV5_down32_scoreVolume_3N_L_surround_200.stl\" \"s3://mousebrainatlas-data/CSHL_meshes/atlasV5/atlasV5_down32_scoreVolume/atlasV5_down32_scoreVolume_3N_L_surround_200.stl\"\n"
     ]
    },
    {
     "name": "stderr",
     "output_type": "stream",
     "text": [
      "marching cube: 0.02 seconds\n",
      "mesh_to_polydata: 0.02 seconds\n",
      "simplify 0 @ 11821: 0.13 seconds\n",
      "simplify 1 @ 2367: 0.10 seconds\n",
      "simplify 2 @ 476: 0.02 seconds\n"
     ]
    },
    {
     "name": "stdout",
     "output_type": "stream",
     "text": [
      "aws s3 cp \"/home/yuncong/CSHL_meshes/atlasV5/atlasV5_down32_scoreVolume/atlasV5_down32_scoreVolume_3N_R_surround_200.stl\" \"s3://mousebrainatlas-data/CSHL_meshes/atlasV5/atlasV5_down32_scoreVolume/atlasV5_down32_scoreVolume_3N_R_surround_200.stl\"\n"
     ]
    },
    {
     "name": "stderr",
     "output_type": "stream",
     "text": [
      "marching cube: 0.01 seconds\n",
      "mesh_to_polydata: 0.01 seconds\n",
      "simplify 0 @ 5698: 0.05 seconds\n",
      "simplify 1 @ 1142: 0.04 seconds\n",
      "simplify 2 @ 231: 0.01 seconds\n"
     ]
    },
    {
     "name": "stdout",
     "output_type": "stream",
     "text": [
      "aws s3 cp \"/home/yuncong/CSHL_meshes/atlasV5/atlasV5_down32_scoreVolume/atlasV5_down32_scoreVolume_4N_L_surround_200.stl\" \"s3://mousebrainatlas-data/CSHL_meshes/atlasV5/atlasV5_down32_scoreVolume/atlasV5_down32_scoreVolume_4N_L_surround_200.stl\"\n"
     ]
    },
    {
     "name": "stderr",
     "output_type": "stream",
     "text": [
      "marching cube: 0.03 seconds\n",
      "mesh_to_polydata: 0.01 seconds\n",
      "simplify 0 @ 5682: 0.10 seconds\n",
      "simplify 1 @ 1139: 0.09 seconds\n",
      "simplify 2 @ 231: 0.02 seconds\n"
     ]
    },
    {
     "name": "stdout",
     "output_type": "stream",
     "text": [
      "aws s3 cp \"/home/yuncong/CSHL_meshes/atlasV5/atlasV5_down32_scoreVolume/atlasV5_down32_scoreVolume_4N_R_surround_200.stl\" \"s3://mousebrainatlas-data/CSHL_meshes/atlasV5/atlasV5_down32_scoreVolume/atlasV5_down32_scoreVolume_4N_R_surround_200.stl\"\n"
     ]
    },
    {
     "name": "stderr",
     "output_type": "stream",
     "text": [
      "marching cube: 0.15 seconds\n",
      "mesh_to_polydata: 0.08 seconds\n",
      "simplify 0 @ 29409: 0.70 seconds\n",
      "simplify 1 @ 5885: 0.37 seconds\n",
      "simplify 2 @ 1180: 0.07 seconds\n"
     ]
    },
    {
     "name": "stdout",
     "output_type": "stream",
     "text": [
      "aws s3 cp \"/home/yuncong/CSHL_meshes/atlasV5/atlasV5_down32_scoreVolume/atlasV5_down32_scoreVolume_Sp5I_L_surround_200.stl\" \"s3://mousebrainatlas-data/CSHL_meshes/atlasV5/atlasV5_down32_scoreVolume/atlasV5_down32_scoreVolume_Sp5I_L_surround_200.stl\"\n"
     ]
    },
    {
     "name": "stderr",
     "output_type": "stream",
     "text": [
      "marching cube: 0.08 seconds\n",
      "mesh_to_polydata: 0.05 seconds\n",
      "simplify 0 @ 29357: 0.38 seconds\n",
      "simplify 1 @ 5874: 0.32 seconds\n",
      "simplify 2 @ 1178: 0.07 seconds\n"
     ]
    },
    {
     "name": "stdout",
     "output_type": "stream",
     "text": [
      "aws s3 cp \"/home/yuncong/CSHL_meshes/atlasV5/atlasV5_down32_scoreVolume/atlasV5_down32_scoreVolume_Sp5I_R_surround_200.stl\" \"s3://mousebrainatlas-data/CSHL_meshes/atlasV5/atlasV5_down32_scoreVolume/atlasV5_down32_scoreVolume_Sp5I_R_surround_200.stl\"\n"
     ]
    },
    {
     "name": "stderr",
     "output_type": "stream",
     "text": [
      "marching cube: 0.17 seconds\n",
      "mesh_to_polydata: 0.12 seconds\n"
     ]
    },
    {
     "name": "stdout",
     "output_type": "stream",
     "text": [
      "aws s3 cp \"/home/yuncong/CSHL_meshes/atlasV5/atlasV5_down32_scoreVolume/atlasV5_down32_scoreVolume_Sp5O_L_surround_200.stl\" \"s3://mousebrainatlas-data/CSHL_meshes/atlasV5/atlasV5_down32_scoreVolume/atlasV5_down32_scoreVolume_Sp5O_L_surround_200.stl\"\n"
     ]
    },
    {
     "name": "stderr",
     "output_type": "stream",
     "text": [
      "simplify 0 @ 34304: 0.94 seconds\n",
      "simplify 1 @ 6864: 0.45 seconds\n",
      "simplify 2 @ 1376: 0.07 seconds\n",
      "marching cube: 0.10 seconds\n",
      "mesh_to_polydata: 0.06 seconds\n",
      "simplify 0 @ 34354: 0.85 seconds\n",
      "simplify 1 @ 6874: 0.62 seconds\n",
      "simplify 2 @ 1378: 0.14 seconds\n"
     ]
    },
    {
     "name": "stdout",
     "output_type": "stream",
     "text": [
      "aws s3 cp \"/home/yuncong/CSHL_meshes/atlasV5/atlasV5_down32_scoreVolume/atlasV5_down32_scoreVolume_Sp5O_R_surround_200.stl\" \"s3://mousebrainatlas-data/CSHL_meshes/atlasV5/atlasV5_down32_scoreVolume/atlasV5_down32_scoreVolume_Sp5O_R_surround_200.stl\"\n"
     ]
    },
    {
     "name": "stderr",
     "output_type": "stream",
     "text": [
      "marching cube: 0.22 seconds\n",
      "mesh_to_polydata: 0.10 seconds\n",
      "simplify 0 @ 76023: 0.71 seconds\n",
      "simplify 1 @ 15207: 0.91 seconds\n",
      "simplify 2 @ 3044: 0.18 seconds\n"
     ]
    },
    {
     "name": "stdout",
     "output_type": "stream",
     "text": [
      "aws s3 cp \"/home/yuncong/CSHL_meshes/atlasV5/atlasV5_down32_scoreVolume/atlasV5_down32_scoreVolume_Sp5C_L_surround_200.stl\" \"s3://mousebrainatlas-data/CSHL_meshes/atlasV5/atlasV5_down32_scoreVolume/atlasV5_down32_scoreVolume_Sp5C_L_surround_200.stl\"\n"
     ]
    },
    {
     "name": "stderr",
     "output_type": "stream",
     "text": [
      "marching cube: 0.20 seconds\n",
      "mesh_to_polydata: 0.09 seconds\n",
      "simplify 0 @ 75974: 0.65 seconds\n",
      "simplify 1 @ 15198: 0.87 seconds\n",
      "simplify 2 @ 3042: 0.17 seconds\n"
     ]
    },
    {
     "name": "stdout",
     "output_type": "stream",
     "text": [
      "aws s3 cp \"/home/yuncong/CSHL_meshes/atlasV5/atlasV5_down32_scoreVolume/atlasV5_down32_scoreVolume_Sp5C_R_surround_200.stl\" \"s3://mousebrainatlas-data/CSHL_meshes/atlasV5/atlasV5_down32_scoreVolume/atlasV5_down32_scoreVolume_Sp5C_R_surround_200.stl\"\n"
     ]
    },
    {
     "name": "stderr",
     "output_type": "stream",
     "text": [
      "marching cube: 0.02 seconds\n",
      "mesh_to_polydata: 0.01 seconds\n",
      "simplify 0 @ 11097: 0.08 seconds\n",
      "simplify 1 @ 2222: 0.08 seconds\n",
      "simplify 2 @ 447: 0.02 seconds\n"
     ]
    },
    {
     "name": "stdout",
     "output_type": "stream",
     "text": [
      "aws s3 cp \"/home/yuncong/CSHL_meshes/atlasV5/atlasV5_down32_scoreVolume/atlasV5_down32_scoreVolume_PBG_L_surround_200.stl\" \"s3://mousebrainatlas-data/CSHL_meshes/atlasV5/atlasV5_down32_scoreVolume/atlasV5_down32_scoreVolume_PBG_L_surround_200.stl\"\n"
     ]
    },
    {
     "name": "stderr",
     "output_type": "stream",
     "text": [
      "marching cube: 0.02 seconds\n",
      "mesh_to_polydata: 0.01 seconds\n",
      "simplify 0 @ 11112: 0.08 seconds\n",
      "simplify 1 @ 2225: 0.09 seconds\n",
      "simplify 2 @ 448: 0.02 seconds\n"
     ]
    },
    {
     "name": "stdout",
     "output_type": "stream",
     "text": [
      "aws s3 cp \"/home/yuncong/CSHL_meshes/atlasV5/atlasV5_down32_scoreVolume/atlasV5_down32_scoreVolume_PBG_R_surround_200.stl\" \"s3://mousebrainatlas-data/CSHL_meshes/atlasV5/atlasV5_down32_scoreVolume/atlasV5_down32_scoreVolume_PBG_R_surround_200.stl\"\n"
     ]
    },
    {
     "name": "stderr",
     "output_type": "stream",
     "text": [
      "marching cube: 0.05 seconds\n",
      "mesh_to_polydata: 0.02 seconds\n"
     ]
    },
    {
     "name": "stdout",
     "output_type": "stream",
     "text": [
      "aws s3 cp \"/home/yuncong/CSHL_meshes/atlasV5/atlasV5_down32_scoreVolume/atlasV5_down32_scoreVolume_10N_L_surround_200.stl\" \"s3://mousebrainatlas-data/CSHL_meshes/atlasV5/atlasV5_down32_scoreVolume/atlasV5_down32_scoreVolume_10N_L_surround_200.stl\"\n"
     ]
    },
    {
     "name": "stderr",
     "output_type": "stream",
     "text": [
      "simplify 0 @ 18861: 0.16 seconds\n",
      "simplify 1 @ 3775: 0.18 seconds\n",
      "simplify 2 @ 758: 0.04 seconds\n",
      "marching cube: 0.04 seconds\n",
      "mesh_to_polydata: 0.02 seconds\n",
      "simplify 0 @ 18880: 0.14 seconds\n",
      "simplify 1 @ 3779: 0.16 seconds\n",
      "simplify 2 @ 759: 0.03 seconds\n"
     ]
    },
    {
     "name": "stdout",
     "output_type": "stream",
     "text": [
      "aws s3 cp \"/home/yuncong/CSHL_meshes/atlasV5/atlasV5_down32_scoreVolume/atlasV5_down32_scoreVolume_10N_R_surround_200.stl\" \"s3://mousebrainatlas-data/CSHL_meshes/atlasV5/atlasV5_down32_scoreVolume/atlasV5_down32_scoreVolume_10N_R_surround_200.stl\"\n"
     ]
    },
    {
     "name": "stderr",
     "output_type": "stream",
     "text": [
      "marching cube: 0.08 seconds\n",
      "mesh_to_polydata: 0.04 seconds\n",
      "simplify 0 @ 38180: 0.34 seconds\n",
      "simplify 1 @ 7639: 0.36 seconds\n",
      "simplify 2 @ 1531: 0.07 seconds\n"
     ]
    },
    {
     "name": "stdout",
     "output_type": "stream",
     "text": [
      "aws s3 cp \"/home/yuncong/CSHL_meshes/atlasV5/atlasV5_down32_scoreVolume/atlasV5_down32_scoreVolume_VCA_L_surround_200.stl\" \"s3://mousebrainatlas-data/CSHL_meshes/atlasV5/atlasV5_down32_scoreVolume/atlasV5_down32_scoreVolume_VCA_L_surround_200.stl\"\n"
     ]
    },
    {
     "name": "stderr",
     "output_type": "stream",
     "text": [
      "marching cube: 0.08 seconds\n",
      "mesh_to_polydata: 0.05 seconds\n",
      "simplify 0 @ 38185: 0.35 seconds\n",
      "simplify 1 @ 7640: 0.38 seconds\n",
      "simplify 2 @ 1531: 0.08 seconds\n"
     ]
    },
    {
     "name": "stdout",
     "output_type": "stream",
     "text": [
      "aws s3 cp \"/home/yuncong/CSHL_meshes/atlasV5/atlasV5_down32_scoreVolume/atlasV5_down32_scoreVolume_VCA_R_surround_200.stl\" \"s3://mousebrainatlas-data/CSHL_meshes/atlasV5/atlasV5_down32_scoreVolume/atlasV5_down32_scoreVolume_VCA_R_surround_200.stl\"\n"
     ]
    },
    {
     "name": "stderr",
     "output_type": "stream",
     "text": [
      "marching cube: 0.05 seconds\n",
      "mesh_to_polydata: 0.03 seconds\n",
      "simplify 0 @ 25040: 0.21 seconds\n",
      "simplify 1 @ 5011: 0.23 seconds\n",
      "simplify 2 @ 1005: 0.05 seconds\n"
     ]
    },
    {
     "name": "stdout",
     "output_type": "stream",
     "text": [
      "aws s3 cp \"/home/yuncong/CSHL_meshes/atlasV5/atlasV5_down32_scoreVolume/atlasV5_down32_scoreVolume_VCP_L_surround_200.stl\" \"s3://mousebrainatlas-data/CSHL_meshes/atlasV5/atlasV5_down32_scoreVolume/atlasV5_down32_scoreVolume_VCP_L_surround_200.stl\"\n"
     ]
    },
    {
     "name": "stderr",
     "output_type": "stream",
     "text": [
      "marching cube: 0.06 seconds\n",
      "mesh_to_polydata: 0.05 seconds\n",
      "simplify 0 @ 25060: 0.20 seconds\n",
      "simplify 1 @ 5015: 0.23 seconds\n",
      "simplify 2 @ 1006: 0.05 seconds\n"
     ]
    },
    {
     "name": "stdout",
     "output_type": "stream",
     "text": [
      "aws s3 cp \"/home/yuncong/CSHL_meshes/atlasV5/atlasV5_down32_scoreVolume/atlasV5_down32_scoreVolume_VCP_R_surround_200.stl\" \"s3://mousebrainatlas-data/CSHL_meshes/atlasV5/atlasV5_down32_scoreVolume/atlasV5_down32_scoreVolume_VCP_R_surround_200.stl\"\n"
     ]
    },
    {
     "name": "stderr",
     "output_type": "stream",
     "text": [
      "marching cube: 0.08 seconds\n",
      "mesh_to_polydata: 0.05 seconds\n",
      "simplify 0 @ 38218: 0.32 seconds\n",
      "simplify 1 @ 7646: 0.40 seconds\n",
      "simplify 2 @ 1532: 0.08 seconds\n"
     ]
    },
    {
     "name": "stdout",
     "output_type": "stream",
     "text": [
      "aws s3 cp \"/home/yuncong/CSHL_meshes/atlasV5/atlasV5_down32_scoreVolume/atlasV5_down32_scoreVolume_DC_L_surround_200.stl\" \"s3://mousebrainatlas-data/CSHL_meshes/atlasV5/atlasV5_down32_scoreVolume/atlasV5_down32_scoreVolume_DC_L_surround_200.stl\"\n"
     ]
    },
    {
     "name": "stderr",
     "output_type": "stream",
     "text": [
      "marching cube: 0.08 seconds\n",
      "mesh_to_polydata: 0.05 seconds\n",
      "simplify 0 @ 38165: 0.31 seconds\n",
      "simplify 1 @ 7636: 0.37 seconds\n",
      "simplify 2 @ 1530: 0.07 seconds\n"
     ]
    },
    {
     "name": "stdout",
     "output_type": "stream",
     "text": [
      "aws s3 cp \"/home/yuncong/CSHL_meshes/atlasV5/atlasV5_down32_scoreVolume/atlasV5_down32_scoreVolume_DC_R_surround_200.stl\" \"s3://mousebrainatlas-data/CSHL_meshes/atlasV5/atlasV5_down32_scoreVolume/atlasV5_down32_scoreVolume_DC_R_surround_200.stl\"\n"
     ]
    },
    {
     "name": "stderr",
     "output_type": "stream",
     "text": [
      "marching cube: 0.02 seconds\n",
      "mesh_to_polydata: 0.02 seconds\n",
      "simplify 0 @ 12329: 0.11 seconds\n",
      "simplify 1 @ 2469: 0.10 seconds\n",
      "simplify 2 @ 497: 0.02 seconds\n"
     ]
    },
    {
     "name": "stdout",
     "output_type": "stream",
     "text": [
      "aws s3 cp \"/home/yuncong/CSHL_meshes/atlasV5/atlasV5_down32_scoreVolume/atlasV5_down32_scoreVolume_AP_surround_200.stl\" \"s3://mousebrainatlas-data/CSHL_meshes/atlasV5/atlasV5_down32_scoreVolume/atlasV5_down32_scoreVolume_AP_surround_200.stl\"\n"
     ]
    },
    {
     "name": "stderr",
     "output_type": "stream",
     "text": [
      "marching cube: 0.07 seconds\n",
      "mesh_to_polydata: 0.05 seconds\n",
      "simplify 0 @ 36974: 0.33 seconds\n",
      "simplify 1 @ 7398: 0.36 seconds\n",
      "simplify 2 @ 1482: 0.07 seconds\n"
     ]
    },
    {
     "name": "stdout",
     "output_type": "stream",
     "text": [
      "aws s3 cp \"/home/yuncong/CSHL_meshes/atlasV5/atlasV5_down32_scoreVolume/atlasV5_down32_scoreVolume_12N_surround_200.stl\" \"s3://mousebrainatlas-data/CSHL_meshes/atlasV5/atlasV5_down32_scoreVolume/atlasV5_down32_scoreVolume_12N_surround_200.stl\"\n"
     ]
    },
    {
     "name": "stderr",
     "output_type": "stream",
     "text": [
      "marching cube: 0.12 seconds\n",
      "mesh_to_polydata: 0.07 seconds\n",
      "simplify 0 @ 60925: 0.59 seconds\n",
      "simplify 1 @ 12188: 0.60 seconds\n",
      "simplify 2 @ 2440: 0.12 seconds\n"
     ]
    },
    {
     "name": "stdout",
     "output_type": "stream",
     "text": [
      "aws s3 cp \"/home/yuncong/CSHL_meshes/atlasV5/atlasV5_down32_scoreVolume/atlasV5_down32_scoreVolume_RtTg_surround_200.stl\" \"s3://mousebrainatlas-data/CSHL_meshes/atlasV5/atlasV5_down32_scoreVolume/atlasV5_down32_scoreVolume_RtTg_surround_200.stl\"\n",
      "rm -rf \"/home/yuncong/CSHL_volumes/atlasV5/atlasV5_down32_scoreVolume/score_volumes/atlasV5_down32_scoreVolume_sp5_surround_200.bp\" && mkdir -p \"/home/yuncong/CSHL_volumes/atlasV5/atlasV5_down32_scoreVolume/score_volumes\"\n",
      "aws s3 cp \"s3://mousebrainatlas-data/CSHL_volumes/atlasV5/atlasV5_down32_scoreVolume/score_volumes/atlasV5_down32_scoreVolume_sp5_surround_200.bp\" \"/home/yuncong/CSHL_volumes/atlasV5/atlasV5_down32_scoreVolume/score_volumes/atlasV5_down32_scoreVolume_sp5_surround_200.bp\"\n"
     ]
    },
    {
     "name": "stderr",
     "output_type": "stream",
     "text": [
      "File does not exist: /home/yuncong/CSHL_volumes/atlasV5/atlasV5_down32_scoreVolume/score_volumes/atlasV5_down32_scoreVolume_sp5_surround_200.bp\n",
      "Error generating mesh for sp5 : [Errno 2] No such file or directory: '/home/yuncong/CSHL_volumes/atlasV5/atlasV5_down32_scoreVolume/score_volumes/atlasV5_down32_scoreVolume_sp5_surround_200.bp'\n"
     ]
    },
    {
     "name": "stdout",
     "output_type": "stream",
     "text": [
      "rm -rf \"/home/yuncong/CSHL_volumes/atlasV5/atlasV5_down32_scoreVolume/score_volumes/atlasV5_down32_scoreVolume_outerContour_surround_200.bp\" && mkdir -p \"/home/yuncong/CSHL_volumes/atlasV5/atlasV5_down32_scoreVolume/score_volumes\"\n",
      "aws s3 cp \"s3://mousebrainatlas-data/CSHL_volumes/atlasV5/atlasV5_down32_scoreVolume/score_volumes/atlasV5_down32_scoreVolume_outerContour_surround_200.bp\" \"/home/yuncong/CSHL_volumes/atlasV5/atlasV5_down32_scoreVolume/score_volumes/atlasV5_down32_scoreVolume_outerContour_surround_200.bp\""
     ]
    },
    {
     "name": "stderr",
     "output_type": "stream",
     "text": [
      "File does not exist: /home/yuncong/CSHL_volumes/atlasV5/atlasV5_down32_scoreVolume/score_volumes/atlasV5_down32_scoreVolume_outerContour_surround_200.bp\n",
      "Error generating mesh for outerContour : [Errno 2] No such file or directory: '/home/yuncong/CSHL_volumes/atlasV5/atlasV5_down32_scoreVolume/score_volumes/atlasV5_down32_scoreVolume_outerContour_surround_200.bp'\n",
      "marching cube: 0.71 seconds\n",
      "mesh_to_polydata: 0.31 seconds\n",
      "simplify 0 @ 245527: 2.33 seconds\n",
      "simplify 1 @ 49108: 3.98 seconds\n",
      "simplify 2 @ 9824: 1.08 seconds\n"
     ]
    },
    {
     "name": "stdout",
     "output_type": "stream",
     "text": [
      "\n",
      "aws s3 cp \"/home/yuncong/CSHL_meshes/atlasV5/atlasV5_down32_scoreVolume/atlasV5_down32_scoreVolume_SC_surround_200.stl\" \"s3://mousebrainatlas-data/CSHL_meshes/atlasV5/atlasV5_down32_scoreVolume/atlasV5_down32_scoreVolume_SC_surround_200.stl\"\n"
     ]
    },
    {
     "name": "stderr",
     "output_type": "stream",
     "text": [
      "marching cube: 0.63 seconds\n",
      "mesh_to_polydata: 0.26 seconds\n",
      "simplify 0 @ 195058: 2.45 seconds\n",
      "simplify 1 @ 39014: 3.19 seconds\n"
     ]
    },
    {
     "name": "stdout",
     "output_type": "stream",
     "text": [
      "aws s3 cp \"/home/yuncong/CSHL_meshes/atlasV5/atlasV5_down32_scoreVolume/atlasV5_down32_scoreVolume_IC_surround_200.stl\" \"s3://mousebrainatlas-data/CSHL_meshes/atlasV5/atlasV5_down32_scoreVolume/atlasV5_down32_scoreVolume_IC_surround_200.stl\"\n"
     ]
    },
    {
     "name": "stderr",
     "output_type": "stream",
     "text": [
      "simplify 2 @ 7806: 1.03 seconds\n"
     ]
    }
   ],
   "source": [
    "structure_meshes_surround_rel2canon = {}\n",
    "\n",
    "for name_s in all_known_structures_sided:\n",
    "# for name_s in ['7N_L']:\n",
    "    \n",
    "    try:\n",
    "        surr_name = convert_to_surround_name(name_s, margin=surround_distance_um)\n",
    "        surround_vol = DataManager.load_original_volume(stack=atlas_name, structure=surr_name, downscale=32)\n",
    "        \n",
    "#         if name_s in singular_structures:\n",
    "#             surround_vol = symmetricalize_volume(surround_vol)\n",
    "        \n",
    "        surround_vol_bbox_rel2atlas = np.array(bbox_3d(surround_vol))\n",
    "        surround_vol_inbbox = crop_and_pad_volume(surround_vol, out_bbox=surround_vol_bbox_rel2atlas)\n",
    "\n",
    "        polydata_rel2canon = \\\n",
    "        volume_to_polydata(surround_vol_inbbox, \n",
    "                           origin=(surround_vol_bbox_rel2atlas[[0,2,4]]+atlas_volume_bbox_rel2uncropped[[0,2,4]]-canonical_centroid_rel2uncropped),\n",
    "                           num_simplify_iter=3, smooth=True)\n",
    "        \n",
    "        structure_meshes_surround_rel2canon[name_s] = polydata_rel2canon\n",
    "        \n",
    "        mesh_fp = DataManager.get_mesh_filepath(stack_m=atlas_name, structure=surr_name)\n",
    "        save_mesh(polydata_rel2canon, mesh_fp)\n",
    "        upload_to_s3(mesh_fp)\n",
    "    \n",
    "    except Exception as e:\n",
    "        sys.stderr.write('Error generating mesh for %s : %s\\n' % (name_s, str(e)))        "
   ]
  },
  {
   "cell_type": "markdown",
   "metadata": {},
   "source": [
    "# Load"
   ]
  },
  {
   "cell_type": "code",
   "execution_count": 21,
   "metadata": {
    "collapsed": true
   },
   "outputs": [],
   "source": [
    "# Load shell\n",
    "\n",
    "stack_fixed = 'MD589'\n",
    "shell_polydata_rel2uncropped = DataManager.load_shell_mesh(stack=stack_fixed, downscale=32)\n",
    "shell_actor_rel2canon = actor_mesh(shell_polydata_rel2uncropped, (1,1,1), opacity=.15, \n",
    "                              wireframe=False, origin=-canonical_centroid_rel2uncropped)"
   ]
  },
  {
   "cell_type": "code",
   "execution_count": 22,
   "metadata": {
    "collapsed": true
   },
   "outputs": [],
   "source": [
    "# atlas_volume, structure_to_label, label_to_structure = \\\n",
    "# DataManager.load_original_volume_all_known_structures(stack=atlas_name, sided=True)"
   ]
  },
  {
   "cell_type": "code",
   "execution_count": 56,
   "metadata": {
    "collapsed": true
   },
   "outputs": [],
   "source": [
    "structure_mesh_surround_actors_rel2canon = [actor_mesh(polydata, \n",
    "#                                                        np.array(name_unsided_to_color[convert_to_original_name(name_s)])/255.,\n",
    "                                                       np.array((0,0,1)),\n",
    "                                             wireframe=False, opacity=.5) \n",
    "                                   for name_s, polydata in structure_meshes_surround_rel2canon.iteritems()]"
   ]
  },
  {
   "cell_type": "code",
   "execution_count": 50,
   "metadata": {
    "collapsed": true
   },
   "outputs": [],
   "source": [
    "structure_mesh_actors_rel2canon = [actor_mesh(polydata, \n",
    "#                                               np.array(name_unsided_to_color[convert_to_original_name(name_s)])/255.,\n",
    "                                              np.array((1,0,0)),\n",
    "                                             wireframe=True) \n",
    "                                   for name_s, polydata in structure_meshes_rel2canon.iteritems()]"
   ]
  },
  {
   "cell_type": "code",
   "execution_count": 53,
   "metadata": {
    "collapsed": true
   },
   "outputs": [],
   "source": [
    "structure_volume, structure_origin_rel2canon = structure_volumes_rel2canon['7N_L']\n",
    "\n",
    "one_structure_volume_actor_rel2canon = actor_volume(structure_volume.astype(np.float32), what='probability', \n",
    "                                              origin=structure_origin_rel2canon,\n",
    "#                                               c=np.array(name_unsided_to_color['7N'])/255.)\n",
    "                                            c=np.array((1,0,0)))"
   ]
  },
  {
   "cell_type": "markdown",
   "metadata": {},
   "source": [
    "# Render"
   ]
  },
  {
   "cell_type": "code",
   "execution_count": 57,
   "metadata": {
    "collapsed": true
   },
   "outputs": [],
   "source": [
    "launch_vtk(\n",
    "#     structure_mesh_actors_rel2canon + \\\n",
    "    [one_structure_volume_actor_rel2canon] + \\\n",
    "    structure_mesh_surround_actors_rel2canon + \\\n",
    "           [shell_actor_rel2canon] + [actor_sphere((0,0,0), radius=1)], \n",
    "           init_angle='sagittal', \n",
    "    background_color=(1,1,1))"
   ]
  },
  {
   "cell_type": "code",
   "execution_count": null,
   "metadata": {
    "collapsed": true
   },
   "outputs": [],
   "source": []
  }
 ],
 "metadata": {
  "kernelspec": {
   "display_name": "Python 2",
   "language": "python",
   "name": "python2"
  },
  "language_info": {
   "codemirror_mode": {
    "name": "ipython",
    "version": 2
   },
   "file_extension": ".py",
   "mimetype": "text/x-python",
   "name": "python",
   "nbconvert_exporter": "python",
   "pygments_lexer": "ipython2",
   "version": "2.7.12"
  }
 },
 "nbformat": 4,
 "nbformat_minor": 2
}
