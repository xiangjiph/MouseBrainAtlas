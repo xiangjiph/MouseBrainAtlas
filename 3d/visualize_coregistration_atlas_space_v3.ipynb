{
 "cells": [
  {
   "cell_type": "code",
   "execution_count": 1,
   "metadata": {},
   "outputs": [
    {
     "name": "stdout",
     "output_type": "stream",
     "text": [
      "Setting environment for Local Macbook Pro\n"
     ]
    }
   ],
   "source": [
    "%reload_ext autoreload\n",
    "%autoreload 2\n",
    "\n",
    "import numpy as np\n",
    "import bloscpack as bp\n",
    "\n",
    "import sys\n",
    "import os\n",
    "sys.path.append(os.path.join(os.environ['REPO_DIR'], 'utilities'))\n",
    "from utilities2015 import *\n",
    "from annotation_utilities import *\n",
    "from registration_utilities import *\n",
    "from vis3d_utilities import *\n",
    "from metadata import *\n",
    "from data_manager import *\n",
    "\n",
    "import time\n",
    "\n",
    "import matplotlib.pyplot as plt\n",
    "%matplotlib inline"
   ]
  },
  {
   "cell_type": "code",
   "execution_count": 2,
   "metadata": {
    "collapsed": true
   },
   "outputs": [],
   "source": [
    "atlas_name = 'atlasV5'"
   ]
  },
  {
   "cell_type": "markdown",
   "metadata": {},
   "source": [
    "# Genrate mesh for subject volume mapped back to atlas space"
   ]
  },
  {
   "cell_type": "code",
   "execution_count": 3,
   "metadata": {
    "collapsed": true
   },
   "outputs": [],
   "source": [
    "classifier_setting = 2"
   ]
  },
  {
   "cell_type": "code",
   "execution_count": 9,
   "metadata": {
    "collapsed": true
   },
   "outputs": [],
   "source": [
    "warp_setting = 3"
   ]
  },
  {
   "cell_type": "code",
   "execution_count": 9,
   "metadata": {
    "scrolled": true
   },
   "outputs": [
    {
     "name": "stdout",
     "output_type": "stream",
     "text": [
      "5N_L\n"
     ]
    },
    {
     "name": "stderr",
     "output_type": "stream",
     "text": [
      "ERROR:root:Internal Python error in the inspect module.\n",
      "Below is the traceback from this internal error.\n",
      "\n"
     ]
    },
    {
     "name": "stdout",
     "output_type": "stream",
     "text": [
      "Traceback (most recent call last):\n",
      "  File \"/usr/local/lib/python2.7/dist-packages/IPython/core/ultratb.py\", line 1132, in get_records\n",
      "    return _fixed_getinnerframes(etb, number_of_lines_of_context, tb_offset)\n",
      "  File \"/usr/local/lib/python2.7/dist-packages/IPython/core/ultratb.py\", line 313, in wrapped\n",
      "    return f(*args, **kwargs)\n",
      "  File \"/usr/local/lib/python2.7/dist-packages/IPython/core/ultratb.py\", line 358, in _fixed_getinnerframes\n",
      "    records = fix_frame_records_filenames(inspect.getinnerframes(etb, context))\n",
      "  File \"/usr/lib/python2.7/inspect.py\", line 1049, in getinnerframes\n",
      "    framelist.append((tb.tb_frame,) + getframeinfo(tb, context))\n",
      "  File \"/usr/lib/python2.7/inspect.py\", line 1009, in getframeinfo\n",
      "    filename = getsourcefile(frame) or getfile(frame)\n",
      "  File \"/usr/lib/python2.7/inspect.py\", line 454, in getsourcefile\n",
      "    if hasattr(getmodule(object, filename), '__loader__'):\n",
      "  File \"/usr/lib/python2.7/inspect.py\", line 497, in getmodule\n",
      "    f = getabsfile(module)\n",
      "  File \"/usr/lib/python2.7/inspect.py\", line 466, in getabsfile\n",
      "    _filename = getsourcefile(object) or getfile(object)\n",
      "  File \"/usr/lib/python2.7/inspect.py\", line 448, in getsourcefile\n",
      "    if 'b' in mode and string.lower(filename[-len(suffix):]) == suffix:\n",
      "KeyboardInterrupt\n"
     ]
    },
    {
     "ename": "IndexError",
     "evalue": "string index out of range",
     "output_type": "error",
     "traceback": [
      "\u001b[0;31m---------------------------------------------------------------------------\u001b[0m",
      "\u001b[0;31mIndexError\u001b[0m                                Traceback (most recent call last)",
      "\u001b[0;32m/usr/local/lib/python2.7/dist-packages/IPython/core/interactiveshell.pyc\u001b[0m in \u001b[0;36mrun_code\u001b[0;34m(self, code_obj, result)\u001b[0m\n\u001b[1;32m   2896\u001b[0m             \u001b[0;32mif\u001b[0m \u001b[0mresult\u001b[0m \u001b[0;32mis\u001b[0m \u001b[0;32mnot\u001b[0m \u001b[0mNone\u001b[0m\u001b[0;34m:\u001b[0m\u001b[0;34m\u001b[0m\u001b[0m\n\u001b[1;32m   2897\u001b[0m                 \u001b[0mresult\u001b[0m\u001b[0;34m.\u001b[0m\u001b[0merror_in_exec\u001b[0m \u001b[0;34m=\u001b[0m \u001b[0msys\u001b[0m\u001b[0;34m.\u001b[0m\u001b[0mexc_info\u001b[0m\u001b[0;34m(\u001b[0m\u001b[0;34m)\u001b[0m\u001b[0;34m[\u001b[0m\u001b[0;36m1\u001b[0m\u001b[0;34m]\u001b[0m\u001b[0;34m\u001b[0m\u001b[0m\n\u001b[0;32m-> 2898\u001b[0;31m             \u001b[0mself\u001b[0m\u001b[0;34m.\u001b[0m\u001b[0mshowtraceback\u001b[0m\u001b[0;34m(\u001b[0m\u001b[0;34m)\u001b[0m\u001b[0;34m\u001b[0m\u001b[0m\n\u001b[0m\u001b[1;32m   2899\u001b[0m         \u001b[0;32melse\u001b[0m\u001b[0;34m:\u001b[0m\u001b[0;34m\u001b[0m\u001b[0m\n\u001b[1;32m   2900\u001b[0m             \u001b[0moutflag\u001b[0m \u001b[0;34m=\u001b[0m \u001b[0;36m0\u001b[0m\u001b[0;34m\u001b[0m\u001b[0m\n",
      "\u001b[0;32m/usr/local/lib/python2.7/dist-packages/IPython/core/interactiveshell.pyc\u001b[0m in \u001b[0;36mshowtraceback\u001b[0;34m(self, exc_tuple, filename, tb_offset, exception_only)\u001b[0m\n\u001b[1;32m   1822\u001b[0m                     \u001b[0;32mexcept\u001b[0m \u001b[0mException\u001b[0m\u001b[0;34m:\u001b[0m\u001b[0;34m\u001b[0m\u001b[0m\n\u001b[1;32m   1823\u001b[0m                         stb = self.InteractiveTB.structured_traceback(etype,\n\u001b[0;32m-> 1824\u001b[0;31m                                             value, tb, tb_offset=tb_offset)\n\u001b[0m\u001b[1;32m   1825\u001b[0m \u001b[0;34m\u001b[0m\u001b[0m\n\u001b[1;32m   1826\u001b[0m                     \u001b[0mself\u001b[0m\u001b[0;34m.\u001b[0m\u001b[0m_showtraceback\u001b[0m\u001b[0;34m(\u001b[0m\u001b[0metype\u001b[0m\u001b[0;34m,\u001b[0m \u001b[0mvalue\u001b[0m\u001b[0;34m,\u001b[0m \u001b[0mstb\u001b[0m\u001b[0;34m)\u001b[0m\u001b[0;34m\u001b[0m\u001b[0m\n",
      "\u001b[0;32m/usr/local/lib/python2.7/dist-packages/IPython/core/ultratb.pyc\u001b[0m in \u001b[0;36mstructured_traceback\u001b[0;34m(self, etype, value, tb, tb_offset, number_of_lines_of_context)\u001b[0m\n\u001b[1;32m   1404\u001b[0m         \u001b[0mself\u001b[0m\u001b[0;34m.\u001b[0m\u001b[0mtb\u001b[0m \u001b[0;34m=\u001b[0m \u001b[0mtb\u001b[0m\u001b[0;34m\u001b[0m\u001b[0m\n\u001b[1;32m   1405\u001b[0m         return FormattedTB.structured_traceback(\n\u001b[0;32m-> 1406\u001b[0;31m             self, etype, value, tb, tb_offset, number_of_lines_of_context)\n\u001b[0m\u001b[1;32m   1407\u001b[0m \u001b[0;34m\u001b[0m\u001b[0m\n\u001b[1;32m   1408\u001b[0m \u001b[0;34m\u001b[0m\u001b[0m\n",
      "\u001b[0;32m/usr/local/lib/python2.7/dist-packages/IPython/core/ultratb.pyc\u001b[0m in \u001b[0;36mstructured_traceback\u001b[0;34m(self, etype, value, tb, tb_offset, number_of_lines_of_context)\u001b[0m\n\u001b[1;32m   1312\u001b[0m             \u001b[0;31m# Verbose modes need a full traceback\u001b[0m\u001b[0;34m\u001b[0m\u001b[0;34m\u001b[0m\u001b[0m\n\u001b[1;32m   1313\u001b[0m             return VerboseTB.structured_traceback(\n\u001b[0;32m-> 1314\u001b[0;31m                 \u001b[0mself\u001b[0m\u001b[0;34m,\u001b[0m \u001b[0metype\u001b[0m\u001b[0;34m,\u001b[0m \u001b[0mvalue\u001b[0m\u001b[0;34m,\u001b[0m \u001b[0mtb\u001b[0m\u001b[0;34m,\u001b[0m \u001b[0mtb_offset\u001b[0m\u001b[0;34m,\u001b[0m \u001b[0mnumber_of_lines_of_context\u001b[0m\u001b[0;34m\u001b[0m\u001b[0m\n\u001b[0m\u001b[1;32m   1315\u001b[0m             )\n\u001b[1;32m   1316\u001b[0m         \u001b[0;32melse\u001b[0m\u001b[0;34m:\u001b[0m\u001b[0;34m\u001b[0m\u001b[0m\n",
      "\u001b[0;32m/usr/local/lib/python2.7/dist-packages/IPython/core/ultratb.pyc\u001b[0m in \u001b[0;36mstructured_traceback\u001b[0;34m(self, etype, evalue, etb, tb_offset, number_of_lines_of_context)\u001b[0m\n\u001b[1;32m   1196\u001b[0m                 \u001b[0mstructured_traceback_parts\u001b[0m \u001b[0;34m+=\u001b[0m \u001b[0mformatted_exception\u001b[0m\u001b[0;34m\u001b[0m\u001b[0m\n\u001b[1;32m   1197\u001b[0m         \u001b[0;32melse\u001b[0m\u001b[0;34m:\u001b[0m\u001b[0;34m\u001b[0m\u001b[0m\n\u001b[0;32m-> 1198\u001b[0;31m             \u001b[0mstructured_traceback_parts\u001b[0m \u001b[0;34m+=\u001b[0m \u001b[0mformatted_exception\u001b[0m\u001b[0;34m[\u001b[0m\u001b[0;36m0\u001b[0m\u001b[0;34m]\u001b[0m\u001b[0;34m\u001b[0m\u001b[0m\n\u001b[0m\u001b[1;32m   1199\u001b[0m \u001b[0;34m\u001b[0m\u001b[0m\n\u001b[1;32m   1200\u001b[0m         \u001b[0;32mreturn\u001b[0m \u001b[0mstructured_traceback_parts\u001b[0m\u001b[0;34m\u001b[0m\u001b[0m\n",
      "\u001b[0;31mIndexError\u001b[0m: string index out of range"
     ]
    }
   ],
   "source": [
    "# Render globally transformed atlas structures\n",
    "\n",
    "for stack in all_nissl_stacks:\n",
    "# for stack in ['MD590']:\n",
    "    \n",
    "    for structure in all_known_structures_sided:\n",
    "#     for structure in ['7N_L']:\n",
    "\n",
    "        print structure\n",
    "        \n",
    "        try:\n",
    "            reversed_volume = \\\n",
    "        DataManager.load_transformed_volume(stack_m=atlas_name, stack_f=stack,\n",
    "                                           classifier_setting_m=classifier_setting,\n",
    "                                           classifier_setting_f=classifier_setting,\n",
    "                                           warp_setting=warp_setting,\n",
    "                                           structure=structure)\n",
    "\n",
    "        #     xmin, xmax, ymin, ymax, zmin, zmax = bbox_3d(reversed_volume)\n",
    "        #     vol = reversed_volume[ymin:ymax+1, xmin:xmax+1, zmin:zmax+1]\n",
    "\n",
    "        #     dense_vol = fill_sparse_score_volume(vol)\n",
    "\n",
    "            t = time.time()\n",
    "\n",
    "            polydata = volume_to_polydata(reversed_volume, origin=(0,0,0), num_simplify_iter=3, smooth=True, level=.5)\n",
    "\n",
    "            sys.stderr.write('time: %.2f\\n' % (time.time() - t)) # 10s\n",
    "\n",
    "            mesh_fn = DataManager.get_transformed_volume_mesh_filepath(stack_m=atlas_name, stack_f=stack,\n",
    "                                                                      classifier_setting_m=classifier_setting,\n",
    "                                                                      classifier_setting_f=classifier_setting,\n",
    "                                                                      warp_setting=warp_setting,\n",
    "                                                                      structure=structure)\n",
    "\n",
    "            save_mesh(polydata, mesh_fn)\n",
    "            \n",
    "        except Exception as e:\n",
    "            sys.stderr.write('%s\\n' % e)\n",
    "            sys.stderr.write('Error transforming volume %s.\\n' % structure)"
   ]
  },
  {
   "cell_type": "markdown",
   "metadata": {},
   "source": [
    "# Load"
   ]
  },
  {
   "cell_type": "code",
   "execution_count": null,
   "metadata": {
    "collapsed": true,
    "scrolled": true
   },
   "outputs": [],
   "source": [
    "# AtlasV2\n",
    "\n",
    "# Load locally transformed atlas structure meshes\n",
    "\n",
    "reversed_polydata_list = {stack: \\\n",
    "                          DataManager.load_meshes(stack_m=atlas_name, stack_f=stack,\n",
    "                                                                   classifier_setting_m=classifier_setting,\n",
    "                                                                   classifier_setting_f=classifier_setting,\n",
    "                                                                   warp_setting=warp_setting,\n",
    "                                                                   return_polydata_only=True,\n",
    "                                                                    sided=True)\n",
    "                          for stack in all_nissl_stacks}"
   ]
  },
  {
   "cell_type": "code",
   "execution_count": null,
   "metadata": {
    "collapsed": true
   },
   "outputs": [],
   "source": [
    "for st, x in reversed_polydata_list.iteritems():\n",
    "    print st, '\\t', set(all_known_structures_sided) - set(x.keys())"
   ]
  },
  {
   "cell_type": "code",
   "execution_count": 3,
   "metadata": {
    "collapsed": true
   },
   "outputs": [],
   "source": [
    "# MD589 annotation volume bbox.\n",
    "\n",
    "ann_vol_xmin_rel2uncropped, ann_vol_xmax_rel2uncropped, \\\n",
    "ann_vol_ymin_rel2uncropped, ann_vol_ymax_rel2uncropped, \\\n",
    "ann_vol_zmin_rel2uncropped, ann_vol_zmax_rel2uncropped = \\\n",
    "DataManager.load_original_volume_bbox('MD589', volume_type='annotation')"
   ]
  },
  {
   "cell_type": "code",
   "execution_count": 110,
   "metadata": {
    "collapsed": true
   },
   "outputs": [],
   "source": [
    "all_reversed_structure_actors = {st: [actor_mesh(p, \n",
    "                       wireframe=False, \n",
    "#                        color=structure_colors[convert_name_to_unsided(n)]/255., \n",
    "#                         color=(0,1,0), \n",
    "#                         color=stack_colors[st]/255.,\n",
    "                        color=map_name_u_to_color[convert_to_original_name(n)]/255.,\n",
    "                        opacity=.3,\n",
    "                      origin=(ann_vol_xmin, \n",
    "                              ann_vol_ymin, \n",
    "                              ann_vol_zmin))\n",
    "                                      for n, p in ps.iteritems() if n not in outliers or st not in outliers[n]]\n",
    "            for st, ps in reversed_polydata_list.iteritems()\n",
    "                                if st in all_nissl_stacks}"
   ]
  },
  {
   "cell_type": "code",
   "execution_count": 36,
   "metadata": {
    "collapsed": true
   },
   "outputs": [],
   "source": [
    "# Diff. structure diff. opacity.\n",
    "\n",
    "def map_name_to_opacity(name):\n",
    "    if name in ['7N_L', '7N_R', '5N_L', '5N_R', '12N', 'Pn_L', 'Pn_R', 'LC_L', 'LC_R', 'Amb_L', 'Amb_R',\n",
    "               'Tz_L', 'Tz_R', '3N_L', '3N_R', '4N_L', '4N_R', 'RMC_L', 'RMC_R', '10N_L', '10N_R']:\n",
    "        opacity = .5\n",
    "    else:\n",
    "        opacity = 0.01\n",
    "    return opacity\n",
    "\n",
    "all_reversed_structure_actors = {st: [actor_mesh(p, \n",
    "                       wireframe=False, \n",
    "#                        color=structure_colors[convert_name_to_unsided(n)]/255., \n",
    "#                         color=(0,1,0), \n",
    "#                         color=stack_colors[st]/255.,\n",
    "                        color=map_name_u_to_color[convert_to_original_name(n)]/255.,\n",
    "                        opacity=map_name_to_opacity(n),\n",
    "                      origin=(ann_vol_xmin, \n",
    "                              ann_vol_ymin, \n",
    "                              ann_vol_zmin))\n",
    "                                      for n, p in ps.iteritems() if n not in outliers or st not in outliers[n]]\n",
    "            for st, ps in reversed_polydata_list.iteritems()\n",
    "                                if st in all_nissl_stacks}"
   ]
  },
  {
   "cell_type": "markdown",
   "metadata": {},
   "source": [
    "# Identify Outliers"
   ]
  },
  {
   "cell_type": "code",
   "execution_count": 129,
   "metadata": {
    "collapsed": true
   },
   "outputs": [],
   "source": [
    "outliers = {st: [] for st in all_nissl_stacks}\n",
    "\n",
    "outliers = {}\n",
    "with open('/home/yuncong/Brain/outliers.txt', 'r') as f:\n",
    "    for line in f.readlines():\n",
    "        elements = line.split()\n",
    "        outliers[elements[0]] = elements[1:]\n",
    "        \n",
    "# outliers['Sp5C_L'] = ['MD602', 'MD593', 'MD595', 'MD603', 'MD599']\n",
    "# outliers['5N_L'] = ['MD603']"
   ]
  },
  {
   "cell_type": "code",
   "execution_count": 130,
   "metadata": {
    "scrolled": true
   },
   "outputs": [
    {
     "data": {
      "image/png": "[encoded data removed]",
      "text/plain": [
       "<matplotlib.figure.Figure at 0x7f742a8f7e90>"
      ]
     },
     "metadata": {},
     "output_type": "display_data"
    }
   ],
   "source": [
    "# Stack color table\n",
    "\n",
    "titles = sorted(stack_colors.keys())\n",
    "vizs = []\n",
    "for s, c in sorted(stack_colors.items()):\n",
    "    v = np.zeros((1,1,3))\n",
    "    v[:, :] = np.array(c/255.)\n",
    "    vizs.append(v)\n",
    "    \n",
    "display_images_in_grids(vizs, nc=10, titles=titles)"
   ]
  },
  {
   "cell_type": "code",
   "execution_count": 131,
   "metadata": {},
   "outputs": [
    {
     "name": "stdout",
     "output_type": "stream",
     "text": [
      "Outlier stack for 5N_L: ['MD602', 'MD603', 'MD592', 'MD591', 'MD594', 'MD589', 'MD599']\n"
     ]
    }
   ],
   "source": [
    "# names_of_interest = ['7N_L', '7N_R', '5N_L', '5N_R', '12N', 'Tz_L', 'Tz_R', '7n_L', '7n_R', 'LRt_L', 'LRt_R',\n",
    "#                     'Pn_L', 'Pn_R', 'SNR_L', 'SNR_R']\n",
    "\n",
    "# names_of_interest = ['7N_L']\n",
    "# names_of_interest = ['Sp5C_R']\n",
    "names_of_interest = ['5N_L']\n",
    "\n",
    "# names_of_interest = [n for n in structures_sided \\\n",
    "#                      if '_L' not in n and \\\n",
    "#                      convert_name_to_unsided(n) not in ['AP', 'DC', 'Sp5O', 'Sp5I', 'Sp5C', 'RtTg', 'VCP', 'VCA']]\n",
    "\n",
    "particular_reversed_structure_actors_all = {}\n",
    "\n",
    "for name_s_interest in names_of_interest:\n",
    "    \n",
    "    if name_s_interest in outliers:\n",
    "        print 'Outlier stack for %s:' % name_s_interest, outliers[name_s_interest]\n",
    "        \n",
    "    particular_reversed_structure_actors = [actor_mesh(p, \n",
    "                           wireframe=True, \n",
    "    #                        color=structure_colors[convert_name_to_unsided(n)]/255., \n",
    "                            color=stack_colors[st]/255.,\n",
    "                           opacity=1.,\n",
    "                          origin=(ann_vol_xmin, \n",
    "                                  ann_vol_ymin, \n",
    "                                  ann_vol_zmin))\n",
    "                for st, ps in reversed_polydata_list.iteritems() for n, p in ps.iteritems() \n",
    "                                            if n == name_s_interest and \\\n",
    "                                            (name_s_interest not in outliers or st not in outliers[name_s_interest])]\n",
    "    \n",
    "    particular_reversed_structure_actors_all[name_s_interest] = particular_reversed_structure_actors\n",
    "    \n",
    "launch_vtk(\n",
    "#     [all_atlas_structure_mesh_actors[n] for n in names_of_interest] + \\\n",
    "           [shell_actor] + \\\n",
    "           sum(particular_reversed_structure_actors_all.values(), []), init_angle='horizontal_topDown')"
   ]
  },
  {
   "cell_type": "code",
   "execution_count": 132,
   "metadata": {
    "collapsed": true
   },
   "outputs": [],
   "source": [
    "all_reversed_structure_actors = {st: [actor_mesh(p, \n",
    "                       wireframe=False, \n",
    "#                        color=structure_colors[convert_name_to_unsided(n)]/255., \n",
    "#                         color=(0,1,0), \n",
    "                        color=stack_colors[st]/255.,\n",
    "                       opacity=.3,\n",
    "                      origin=(ann_vol_xmin, \n",
    "                              ann_vol_ymin, \n",
    "                              ann_vol_zmin))\n",
    "                                      for n, p in ps.iteritems() if n not in outliers or st not in outliers[n]]\n",
    "            for st, ps in reversed_polydata_list.iteritems()}"
   ]
  },
  {
   "cell_type": "code",
   "execution_count": 133,
   "metadata": {
    "collapsed": true
   },
   "outputs": [],
   "source": [
    "launch_vtk(all_atlas_structure_mesh_actors.values() + all_reversed_structure_actors['MD602'] + \\\n",
    "           [shell_actor])"
   ]
  },
  {
   "cell_type": "code",
   "execution_count": 134,
   "metadata": {
    "collapsed": true
   },
   "outputs": [],
   "source": [
    "launch_vtk(all_atlas_structure_mesh_actors.values() + sum(all_reversed_structure_actors.values(), []) + \\\n",
    "           [shell_actor])"
   ]
  },
  {
   "cell_type": "markdown",
   "metadata": {
    "collapsed": true
   },
   "source": [
    "# Load marked neurons"
   ]
  },
  {
   "cell_type": "code",
   "execution_count": 3,
   "metadata": {
    "collapsed": true
   },
   "outputs": [],
   "source": [
    "atlas_name = 'atlasV5'"
   ]
  },
  {
   "cell_type": "code",
   "execution_count": 4,
   "metadata": {
    "collapsed": true
   },
   "outputs": [],
   "source": [
    "canonical_centroid_rel2uncropped = np.loadtxt(DataManager.get_atlas_canonical_centroid_filepath(atlas_name))"
   ]
  },
  {
   "cell_type": "code",
   "execution_count": 72,
   "metadata": {},
   "outputs": [
    {
     "name": "stderr",
     "output_type": "stream",
     "text": [
      "load_mesh_stl: File does not exist /home/yuncong/CSHL_meshes/atlasV5/atlasV5_down32_scoreVolume/atlasV5_down32_scoreVolume_sp5.stl\n",
      "Error loading mesh for sp5: Mesh is empty: sp5..\n",
      "load_mesh_stl: File does not exist /home/yuncong/CSHL_meshes/atlasV5/atlasV5_down32_scoreVolume/atlasV5_down32_scoreVolume_outerContour.stl\n",
      "Error loading mesh for outerContour: Mesh is empty: outerContour..\n"
     ]
    }
   ],
   "source": [
    "structure_meshes_rel2canon = DataManager.load_meshes(stack_m=atlas_name, sided=True, include_surround=False)"
   ]
  },
  {
   "cell_type": "code",
   "execution_count": 73,
   "metadata": {
    "collapsed": true
   },
   "outputs": [],
   "source": [
    "structure_sided_to_opacity = {}\n",
    "for n in structure_meshes_rel2canon.iterkeys():\n",
    "#     if n == '5N_L' or n == '7N_L':\n",
    "    if n == 'SNR_L':\n",
    "        opacity = .3\n",
    "    elif parse_label(n)[1] != 'R': # left and singular structures\n",
    "        opacity = .1\n",
    "    else: # right side structures\n",
    "        opacity = 0\n",
    "#         opacity = .1\n",
    "    structure_sided_to_opacity[n] = opacity\n",
    "\n",
    "# structure_sided_to_opacity = {}\n",
    "# for n in structure_meshes_rel2canon.iterkeys():\n",
    "#     if n == '5N_L' or n == '7N_L':\n",
    "#         opacity = .8\n",
    "#     else:\n",
    "#         opacity = .1\n",
    "#     structure_sided_to_opacity[n] = opacity"
   ]
  },
  {
   "cell_type": "code",
   "execution_count": 74,
   "metadata": {
    "collapsed": true
   },
   "outputs": [],
   "source": [
    "structure_mesh_actors_rel2canon = {n: actor_mesh(polydata, np.array(name_unsided_to_color[convert_to_original_name(n)])/255.,\n",
    "                                             wireframe=False, opacity=structure_sided_to_opacity[n]) \n",
    "                                   for n, polydata in structure_meshes_rel2canon.iteritems()}"
   ]
  },
  {
   "cell_type": "code",
   "execution_count": null,
   "metadata": {
    "collapsed": true
   },
   "outputs": [],
   "source": []
  },
  {
   "cell_type": "code",
   "execution_count": 75,
   "metadata": {
    "collapsed": true
   },
   "outputs": [],
   "source": [
    "shell_polydata_rel2uncropped = DataManager.load_shell_mesh(stack='MD589', downscale=32)\n",
    "shell_actor_rel2canon = actor_mesh(shell_polydata_rel2uncropped, (1,1,1), opacity=.05, wireframe=False, \n",
    "                                   origin=-canonical_centroid_rel2uncropped)"
   ]
  },
  {
   "cell_type": "code",
   "execution_count": 76,
   "metadata": {
    "collapsed": true
   },
   "outputs": [],
   "source": [
    "atlas_vol_xmin_rel2uncropped, atlas_vol_xmax_rel2uncropped, \\\n",
    "atlas_vol_ymin_rel2uncropped, atlas_vol_ymax_rel2uncropped, \\\n",
    "atlas_vol_zmin_rel2uncropped, atlas_vol_zmax_rel2uncropped = \\\n",
    "DataManager.load_original_volume_bbox(stack=atlas_name, volume_type='score', structure='7N_L')"
   ]
  },
  {
   "cell_type": "code",
   "execution_count": null,
   "metadata": {
    "collapsed": true
   },
   "outputs": [],
   "source": []
  },
  {
   "cell_type": "code",
   "execution_count": 77,
   "metadata": {
    "collapsed": true
   },
   "outputs": [],
   "source": [
    "experiments = {\n",
    "            'LM30': {'injection_structure': 'SNR_L', 'marker_color': (0,1,0)},\n",
    "            'LM40': {'injection_structure': 'SNR_L', 'marker_color': (1,0,0)},\n",
    "#             'MD661': {'injection_structure': '5N_L', 'marker_color': (1,0,0)},\n",
    "#              'MD662': {'injection_structure': '7N_L', 'marker_color': (0,1,0)}\n",
    "#               'MD658': {'injection_structure': '5N_L', 'marker_color': (0,0,1)}\n",
    "              }\n",
    "\n",
    "# experiments = {'MD658': {'injection_structure': '5N_L'}}"
   ]
  },
  {
   "cell_type": "code",
   "execution_count": 78,
   "metadata": {
    "collapsed": true
   },
   "outputs": [],
   "source": [
    "# Here we should use the overall deformable transform, in order to correctly \n",
    "# locate the marked neurons in structures other than the injection site."
   ]
  },
  {
   "cell_type": "code",
   "execution_count": 79,
   "metadata": {},
   "outputs": [],
   "source": [
    "stack_to_color['LM40'] = (0, 255, 255)\n",
    "stack_to_color['LM30'] = (255, 255, 0)"
   ]
  },
  {
   "cell_type": "code",
   "execution_count": 88,
   "metadata": {
    "scrolled": true
   },
   "outputs": [
    {
     "name": "stdout",
     "output_type": "stream",
     "text": [
      "rm -rf \"/home/yuncong/CSHL_registration_parameters/atlasV5/atlasV5_down32_scoreVolume_warp16_LM40_down32_scoreVolume/atlasV5_down32_scoreVolume_warp16_LM40_down32_scoreVolume_parameters.txt\" && mkdir -p \"/home/yuncong/CSHL_registration_parameters/atlasV5/atlasV5_down32_scoreVolume_warp16_LM40_down32_scoreVolume\"\n",
      "aws s3 cp \"s3://mousebrainatlas-data/CSHL_registration_parameters/atlasV5/atlasV5_down32_scoreVolume_warp16_LM40_down32_scoreVolume/atlasV5_down32_scoreVolume_warp16_LM40_down32_scoreVolume_parameters.txt\" \"/home/yuncong/CSHL_registration_parameters/atlasV5/atlasV5_down32_scoreVolume_warp16_LM40_down32_scoreVolume/atlasV5_down32_scoreVolume_warp16_LM40_down32_scoreVolume_parameters.txt\"\n",
      "{'SNR_L': 15}\n",
      "rm -rf \"/home/yuncong/CSHL_registration_parameters/atlasV5/atlasV5_down32_scoreVolume_warp16_LM30_down32_scoreVolume/atlasV5_down32_scoreVolume_warp16_LM30_down32_scoreVolume_parameters.txt\" && mkdir -p \"/home/yuncong/CSHL_registration_parameters/atlasV5/atlasV5_down32_scoreVolume_warp16_LM30_down32_scoreVolume\"\n",
      "aws s3 cp \"s3://mousebrainatlas-data/CSHL_registration_parameters/atlasV5/atlasV5_down32_scoreVolume_warp16_LM30_down32_scoreVolume/atlasV5_down32_scoreVolume_warp16_LM30_down32_scoreVolume_parameters.txt\" \"/home/yuncong/CSHL_registration_parameters/atlasV5/atlasV5_down32_scoreVolume_warp16_LM30_down32_scoreVolume/atlasV5_down32_scoreVolume_warp16_LM30_down32_scoreVolume_parameters.txt\"\n",
      "{'SNR_L': 330}\n"
     ]
    }
   ],
   "source": [
    "marker_xyzs_rel2canonical_actors = {}\n",
    "injection_sites_rel2canonical_actors = {}\n",
    "\n",
    "\n",
    "for stack, experiment_info in experiments.iteritems():\n",
    "    \n",
    "    stack_bbox = DataManager.load_original_volume_bbox(stack=stack, structure='SNR_L', volume_type='annotationAsScore')\n",
    "    \n",
    "    injection_structure = experiment_info['injection_structure']\n",
    "    \n",
    "# Load regular format\n",
    "#     markers_df = DataManager.load_annotation_v4(stack=stack, by_human=True, timestamp='latest', suffix='neurons')\n",
    "#     markers_df_cropped = convert_annotation_v3_original_to_aligned_cropped(markers_df, stack=stack)\n",
    "#     markers_df_cropped_sagittal = markers_df_cropped[(markers_df_cropped['orientation'] == 'sagittal')]\n",
    "        \n",
    "#     marker_xyzs_rel2subj = {}\n",
    "#     for marker_id, marker_entry in markers_df_cropped_sagittal.iterrows():\n",
    "#         xy = marker_entry['vertices'][0] / 32.\n",
    "#         z = np.mean(DataManager.convert_section_to_z(stack, sec=marker_entry['section'], downsample=32))\n",
    "#         marker_xyzs_rel2subj[marker_id] = (xy[0], xy[1], z)\n",
    "\n",
    "    # Load Neurolucida format\n",
    "    marker_xyzs_rel2subj = {}\n",
    "    m = bp.unpack_ndarray_file('/home/yuncong/lauren_data/markers/%(stack)s/%(stack)s_markers_SNR_L.bp' % {'stack':stack})\n",
    "    for marker_id, marker_xyz in enumerate(m):\n",
    "        marker_xyzs_rel2subj[marker_id] = marker_xyz\n",
    "        \n",
    "    # Identify the structures of marked neurons based on transformed atlas\n",
    "    \n",
    "#     structures_to_query = ['5N_L', '7N_L', 'SNR_L']\n",
    "#     valid_level = 0.5\n",
    "    \n",
    "#     neurons_per_structure = defaultdict(list)\n",
    "    \n",
    "#     for structure in structures_to_query:\n",
    "#         warped_vol = DataManager.load_transformed_volume(stack_m=atlas_name, stack_f=stack, warp_setting=17, \n",
    "#                                         prep_id_f=2, detector_id_f=1, structure=structure)\n",
    "#         for marker_id, (x, y, z) in marker_xyzs_rel2subj.iteritems():\n",
    "#             if 0 <= int(y) and int(y) < warped_vol.shape[0] and \\\n",
    "#             0 <= int(x) and int(x) < warped_vol.shape[1] and \\\n",
    "#             0 <= int(z) and int(z) < warped_vol.shape[2]:\n",
    "#                 if warped_vol[int(y), int(x), int(z)] > valid_level:\n",
    "#                     neurons_per_structure[structure].append(marker_id)\n",
    "                    \n",
    "#     print {s: len(m_ids) for s, m_ids in neurons_per_structure.iteritems()}\n",
    "    \n",
    "\n",
    "    ###### Load local transform ######\n",
    "    \n",
    "    \n",
    "#     ltx_params, l_centroid_m, l_centroid_f, xdim_m, ydim_m, zdim_m, xdim_f, ydim_f, zdim_f = \\\n",
    "#     DataManager.load_alignment_parameters(stack_m=atlas_name, stack_f=stack, warp_setting=17, \n",
    "#                                       prep_id_f=2, detector_id_f=1, \n",
    "#                                       structure_m=injection_structure, structure_f=injection_structure)\n",
    "    \n",
    "#     marker_xyzs_rel2subj = dict(zip(marker_xyzs_rel2subj.keys(), \n",
    "#                                     transform_points_inverse(ltx_params, \\\n",
    "#                                                              pts_prime=marker_xyzs_rel2subj.values(), \n",
    "#                                                              c_prime=l_centroid_f, c=l_centroid_m)))\n",
    "\n",
    "    ########## Load weighted-average transform parameters ##########\n",
    "    \n",
    "#     params_fp = DataManager.get_alignment_result_filepath(stack_m=atlas_name, stack_f=stack,\n",
    "#                                         prep_id_f=2,\n",
    "#                                         detector_id_f=1,                                                \n",
    "#                                         warp_setting=19, \n",
    "#                                           what='parametersWeightedAverage')\n",
    "#     download_from_s3(params_fp, redownload=True)\n",
    "#     params = load_pickle(params_fp)\n",
    "\n",
    "#     rigid_param_list = [component['RigidParameters'] for component in params]\n",
    "#     anchor_points = [ component['Anchor'] for component in params]\n",
    "#     sigmas = [component['Sigma'] for component in params]\n",
    "#     weights = [component['Weight'] for component in params]\n",
    "    \n",
    "#     marker_xyzs_rel2subj = dict(zip(marker_xyzs_rel2subj.keys(), \\\n",
    "#                                     transform_points_polyrigid_inverse(marker_xyzs_rel2subj.values(),\n",
    "#                                                                rigid_param_list, \n",
    "#                                                               anchor_points, \n",
    "#                                                               sigmas, \n",
    "#                                                               weights)))\n",
    "    \n",
    "    ##############################\n",
    "\n",
    "#     gtx_params, g_centroid_m, g_centroid_f, xdim_m, ydim_m, zdim_m, xdim_f, ydim_f, zdim_f = \\\n",
    "#     DataManager.load_alignment_parameters(stack_m=atlas_name, stack_f=stack, warp_setting=16, \n",
    "#                                       prep_id_f=2, detector_id_f=1)\n",
    "\n",
    "    gtx_params, g_centroid_m, g_centroid_f, xdim_m, ydim_m, zdim_m, xdim_f, ydim_f, zdim_f = \\\n",
    "    DataManager.load_alignment_parameters(stack_m=atlas_name, stack_f=stack, warp_setting=16)\n",
    "\n",
    "#     gtx_params, g_centroid_m, g_centroid_f, xdim_m, ydim_m, zdim_m, xdim_f, ydim_f, zdim_f = \\\n",
    "#     DataManager.load_alignment_parameters(stack_m=atlas_name, stack_f=stack, warp_setting=22, \n",
    "#                                           structure_f='SNR_L', structure_m='SNR_L')\n",
    "\n",
    "    marker_xyzs_rel2atlas = dict(zip(marker_xyzs_rel2subj.keys(), \n",
    "                                     transform_points_inverse(gtx_params, \\\n",
    "                                                              pts_prime=marker_xyzs_rel2subj.values(), \\\n",
    "                                                              c_prime=g_centroid_f + stack_bbox[[0,2,4]], \\\n",
    "                                                              c=g_centroid_m)))\n",
    "\n",
    "    ## Identify the structures of marked neurons based on them mapped back to atlas space ##\n",
    "    \n",
    "#     structures_to_query = ['5N_L', '7N_L', 'SNR_L']\n",
    "    structures_to_query = ['SNR_L']\n",
    "    valid_level = 0.5\n",
    "    \n",
    "    neurons_per_structure2 = defaultdict(list)\n",
    "\n",
    "    for structure in structures_to_query:\n",
    "        atlas_vol = DataManager.load_original_volume(stack=atlas_name, structure=structure, downscale=32)\n",
    "        for marker_id, (x, y, z) in marker_xyzs_rel2atlas.iteritems():\n",
    "            if 0 <= int(y) and int(y) < atlas_vol.shape[0] and \\\n",
    "            0 <= int(x) and int(x) < atlas_vol.shape[1] and \\\n",
    "            0 <= int(z) and int(z) < atlas_vol.shape[2]:\n",
    "                if atlas_vol[int(y), int(x), int(z)] > valid_level:\n",
    "                    neurons_per_structure2[structure].append(marker_id)\n",
    "    \n",
    "    ## Estimate injection site center and radius ##\n",
    "    \n",
    "    # This is NOT the smallest enclosing ball.\n",
    "    # To find that, refer to https://github.com/weddige/miniball.\n",
    "    \n",
    "    injection_site_marker_coords_rel2atlas = np.array([marker_xyzs_rel2atlas[marker_id] for marker_id in neurons_per_structure2[injection_structure]])\n",
    "    injection_site_centroid_rel2atlas = injection_site_marker_coords_rel2atlas.mean(axis=0)\n",
    "    injection_site_centroid_rel2canonical = injection_site_centroid_rel2atlas + (atlas_vol_xmin_rel2uncropped, atlas_vol_ymin_rel2uncropped, atlas_vol_zmin_rel2uncropped) - canonical_centroid_rel2uncropped\n",
    "    \n",
    "    from scipy.spatial.distance import cdist\n",
    "    injection_site_radius_all = cdist([injection_site_centroid_rel2atlas], injection_site_marker_coords_rel2atlas)\n",
    "    injection_site_radius = injection_site_radius_all.max()\n",
    "    injection_site_farthest = neurons_per_structure2[injection_structure][injection_site_radius_all.argmax()]\n",
    "    \n",
    "    injection_site_actor_rel2canonical = actor_sphere(position=injection_site_centroid_rel2canonical, \n",
    "                                        radius=injection_site_radius, \n",
    "                                        color=stack_to_color[stack], \n",
    "                                        opacity=1.)\n",
    "    injection_sites_rel2canonical_actors[stack] = injection_site_actor_rel2canonical\n",
    "    \n",
    "    ## Adjust marker color and opacity based on structure assignment ###\n",
    "    \n",
    "\n",
    "# (Optional) only show a neurons within a ROI\n",
    "#     qs = []\n",
    "#     for injection_structure in ['5N_L', '7N_L']:\n",
    "#         atlas_vol = DataManager.load_original_volume(stack=atlas_name, structure=injection_structure, downscale=32)\n",
    "#         q = np.array(np.nonzero(atlas_vol))\n",
    "#         qs.append(q)\n",
    "#     q = np.hstack(qs)\n",
    "#     roi_ymin, roi_xmin, roi_zmin = q.min(axis=1) - margin\n",
    "#     roi_ymax, roi_xmax, roi_zmax = q.max(axis=1) + margin\n",
    "    \n",
    "    marker_id_to_color = {}\n",
    "    marker_id_to_opacity = {}\n",
    "    for marker_id in marker_xyzs_rel2atlas.keys():\n",
    "#         if marker_id == injection_site_farthest:\n",
    "#             marker_id_to_color[marker_id] = (0,0,1)\n",
    "#             marker_id_to_opacity[marker_id] = 1.\n",
    "        if marker_id in neurons_per_structure2[injection_structure]:\n",
    "#             marker_id_to_color[marker_id] = (0,1,0)\n",
    "            marker_id_to_color[marker_id] = experiments[stack]['marker_color']\n",
    "            marker_id_to_opacity[marker_id] = 1.\n",
    "#         elif marker_xyzs_rel2atlas[marker_id][0] > roi_xmin and \\\n",
    "#             marker_xyzs_rel2atlas[marker_id][0] < roi_xmax and \\\n",
    "#             marker_xyzs_rel2atlas[marker_id][1] > roi_ymin and \\\n",
    "#             marker_xyzs_rel2atlas[marker_id][1] < roi_ymax and \\\n",
    "#             marker_xyzs_rel2atlas[marker_id][2] > roi_zmin and \\\n",
    "#             marker_xyzs_rel2atlas[marker_id][2] < roi_zmax:\n",
    "#             marker_id_to_color[marker_id] = experiments[stack]['marker_color']\n",
    "#             marker_id_to_opacity[marker_id] = 1.    \n",
    "        else:\n",
    "            marker_id_to_color[marker_id] = experiments[stack]['marker_color']\n",
    "            marker_id_to_opacity[marker_id] = .1\n",
    "                    \n",
    "    print {s: len(m_ids) for s, m_ids in neurons_per_structure2.iteritems()}\n",
    "\n",
    "    ######################\n",
    "        \n",
    "    marker_xyzs_rel2canonical = dict(zip(marker_xyzs_rel2atlas.keys(), \n",
    "                                         np.array(marker_xyzs_rel2atlas.values()) + (atlas_vol_xmin_rel2uncropped, atlas_vol_ymin_rel2uncropped, atlas_vol_zmin_rel2uncropped) - canonical_centroid_rel2uncropped))\n",
    "    marker_xyzs_rel2canonical_actors[stack] = [actor_sphere(position=(x,y,z), radius=1, \n",
    "                                                            color=marker_id_to_color[marker_id],\n",
    "                                                            opacity=marker_id_to_opacity[marker_id]) \n",
    "                                   for marker_id, (x,y,z) in marker_xyzs_rel2canonical.iteritems()]"
   ]
  },
  {
   "cell_type": "code",
   "execution_count": 89,
   "metadata": {
    "collapsed": true
   },
   "outputs": [],
   "source": [
    "launch_vtk(\n",
    "#     [structure_mesh_actors_rel2canon['5N_L']] + \\\n",
    "#     [structure_mesh_actors_rel2canon['7N_L']] + \\\n",
    "    structure_mesh_actors_rel2canon.values() + \\\n",
    "#     marker_xyzs_rel2canonical_actors['MD658'][::] + \\\n",
    "#     marker_xyzs_rel2canonical_actors['MD661'] + \\\n",
    "#     marker_xyzs_rel2canonical_actors['MD662'] + \\\n",
    "    marker_xyzs_rel2canonical_actors['LM30'] + \\\n",
    "    marker_xyzs_rel2canonical_actors['LM40'] + \\\n",
    "    [shell_actor_rel2canon] + \\\n",
    "#     [actor_sphere((0,0,0), radius=3, color=(0,0,0))],\n",
    "#     [injection_sites_rel2canonical_actors['MD661']] + \\\n",
    "#     [injection_sites_rel2canonical_actors['MD662']] + \\\n",
    "    [],\n",
    "    background_color=(1,1,1), \n",
    "    axes_label_color=(0,0,0), \n",
    "#     init_angle='coronal')\n",
    "    init_angle='horizontal_topDown')\n",
    "#     init_angle='sagittal')"
   ]
  }
 ],
 "metadata": {
  "kernelspec": {
   "display_name": "Python 2",
   "language": "python",
   "name": "python2"
  },
  "language_info": {
   "codemirror_mode": {
    "name": "ipython",
    "version": 2
   },
   "file_extension": ".py",
   "mimetype": "text/x-python",
   "name": "python",
   "nbconvert_exporter": "python",
   "pygments_lexer": "ipython2",
   "version": "2.7.12"
  }
 },
 "nbformat": 4,
 "nbformat_minor": 1
}
