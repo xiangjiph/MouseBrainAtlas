{
 "cells": [
  {
   "cell_type": "code",
   "execution_count": 1,
   "metadata": {},
   "outputs": [
    {
     "name": "stderr",
     "output_type": "stream",
     "text": [
      "/usr/local/lib/python2.7/dist-packages/matplotlib/__init__.py:1357: UserWarning:  This call to matplotlib.use() has no effect\n",
      "because the backend has already been chosen;\n",
      "matplotlib.use() must be called *before* pylab, matplotlib.pyplot,\n",
      "or matplotlib.backends is imported for the first time.\n",
      "\n",
      "  warnings.warn(_use_error_msg)\n"
     ]
    },
    {
     "name": "stdout",
     "output_type": "stream",
     "text": [
      "Setting environment for Local Macbook Pro\n"
     ]
    }
   ],
   "source": [
    "%reload_ext autoreload\n",
    "%autoreload 2\n",
    "\n",
    "import sys\n",
    "import os\n",
    "import time\n",
    "\n",
    "import numpy as np\n",
    "import bloscpack as bp\n",
    "import matplotlib.pyplot as plt\n",
    "%matplotlib inline\n",
    "import vtk\n",
    "from vtk.util import numpy_support\n",
    "\n",
    "sys.path.append(os.path.join(os.environ['REPO_DIR'], 'utilities'))\n",
    "from utilities2015 import *\n",
    "from annotation_utilities import *\n",
    "from metadata import *\n",
    "from vis3d_utilities import *"
   ]
  },
  {
   "cell_type": "code",
   "execution_count": 2,
   "metadata": {
    "collapsed": true
   },
   "outputs": [],
   "source": [
    "stack = 'MD594'"
   ]
  },
  {
   "cell_type": "code",
   "execution_count": 3,
   "metadata": {
    "collapsed": true,
    "scrolled": true
   },
   "outputs": [],
   "source": [
    "label_to_name, name_to_label = DataManager.load_annotation_volume_label_to_name(stack=stack)"
   ]
  },
  {
   "cell_type": "code",
   "execution_count": 4,
   "metadata": {},
   "outputs": [
    {
     "name": "stdout",
     "output_type": "stream",
     "text": [
      "annotation volume bbox : 656 1173 98 424 128 493\n"
     ]
    }
   ],
   "source": [
    "ann_xmin, ann_xmax, ann_ymin, ann_ymax, ann_zmin, ann_zmax = \\\n",
    "DataManager.load_original_volume_bbox(stack=stack, volume_type='annotation', downscale=32)\n",
    "\n",
    "print 'annotation volume bbox :', ann_xmin, ann_xmax, ann_ymin, ann_ymax, ann_zmin, ann_zmax\n",
    "# with respect to aligned cropped"
   ]
  },
  {
   "cell_type": "markdown",
   "metadata": {
    "collapsed": true
   },
   "source": [
    "# Convert integer-valued annotation volume to structure meshes"
   ]
  },
  {
   "cell_type": "code",
   "execution_count": 6,
   "metadata": {
    "collapsed": true
   },
   "outputs": [],
   "source": [
    "volume = DataManager.load_annotation_volume(stack=stack, downscale=32)"
   ]
  },
  {
   "cell_type": "code",
   "execution_count": 20,
   "metadata": {
    "scrolled": true
   },
   "outputs": [
    {
     "name": "stdout",
     "output_type": "stream",
     "text": [
      "LRt_R 306 402 238 292 236 287\n"
     ]
    },
    {
     "name": "stderr",
     "output_type": "stream",
     "text": [
      "marching cube: 0.05 seconds\n",
      "mesh_to_polydata: 0.02 seconds\n",
      "simplify 0 @ 13651: 0.15 seconds\n",
      "simplify 1 @ 2724: 0.11 seconds\n",
      "simplify 2 @ 546: 0.02 seconds\n",
      "time: 0.35\n"
     ]
    },
    {
     "name": "stdout",
     "output_type": "stream",
     "text": [
      "aws s3 cp \"/home/yuncong/CSHL_meshes/MD594/MD594_down32_annotationVolume/MD594_down32_annotationVolume_LRt_R.stl\" \"s3://mousebrainatlas-data/CSHL_meshes/MD594/MD594_down32_annotationVolume/MD594_down32_annotationVolume_LRt_R.stl\"\n",
      "Sp5C_L 351 515 175 298 58 137\n"
     ]
    },
    {
     "name": "stderr",
     "output_type": "stream",
     "text": [
      "marching cube: 0.22 seconds\n",
      "mesh_to_polydata: 0.05 seconds\n",
      "simplify 0 @ 38592: 0.64 seconds\n",
      "simplify 1 @ 7720: 0.66 seconds\n",
      "simplify 2 @ 1545: 0.14 seconds\n",
      "time: 1.73\n"
     ]
    },
    {
     "name": "stdout",
     "output_type": "stream",
     "text": [
      "aws s3 cp \"/home/yuncong/CSHL_meshes/MD594/MD594_down32_annotationVolume/MD594_down32_annotationVolume_Sp5C_L.stl\" \"s3://mousebrainatlas-data/CSHL_meshes/MD594/MD594_down32_annotationVolume/MD594_down32_annotationVolume_Sp5C_L.stl\"\n",
      "Pn_L 82 155 267 320 98 168\n"
     ]
    },
    {
     "name": "stderr",
     "output_type": "stream",
     "text": [
      "marching cube: 0.09 seconds\n",
      "mesh_to_polydata: 0.04 seconds\n",
      "simplify 0 @ 16808: 0.31 seconds\n",
      "simplify 1 @ 3363: 0.22 seconds\n",
      "simplify 2 @ 674: 0.03 seconds\n",
      "time: 0.70\n"
     ]
    },
    {
     "name": "stdout",
     "output_type": "stream",
     "text": [
      "aws s3 cp \"/home/yuncong/CSHL_meshes/MD594/MD594_down32_annotationVolume/MD594_down32_annotationVolume_Pn_L.stl\" \"s3://mousebrainatlas-data/CSHL_meshes/MD594/MD594_down32_annotationVolume/MD594_down32_annotationVolume_Pn_L.stl\"\n",
      "7N_R 218 275 259 308 232 287\n"
     ]
    },
    {
     "name": "stderr",
     "output_type": "stream",
     "text": [
      "marching cube: 0.03 seconds\n",
      "mesh_to_polydata: 0.02 seconds\n",
      "simplify 0 @ 10940: 0.12 seconds\n",
      "simplify 1 @ 2189: 0.10 seconds\n",
      "simplify 2 @ 439: 0.02 seconds\n",
      "time: 0.30\n"
     ]
    },
    {
     "name": "stdout",
     "output_type": "stream",
     "text": [
      "aws s3 cp \"/home/yuncong/CSHL_meshes/MD594/MD594_down32_annotationVolume/MD594_down32_annotationVolume_7N_R.stl\" \"s3://mousebrainatlas-data/CSHL_meshes/MD594/MD594_down32_annotationVolume/MD594_down32_annotationVolume_7N_R.stl\"\n",
      "PBG_L 111 144 110 168 46 64\n",
      "aws s3 cp \"/home/yuncong/CSHL_meshes/MD594/MD594_down32_annotationVolume/MD594_down32_annotationVolume_PBG_L.stl\" \"s3://mousebrainatlas-data/CSHL_meshes/MD594/MD594_down32_annotationVolume/MD594_down32_annotationVolume_PBG_L.stl\"\n"
     ]
    },
    {
     "name": "stderr",
     "output_type": "stream",
     "text": [
      "marching cube: 0.01 seconds\n",
      "mesh_to_polydata: 0.00 seconds\n",
      "simplify 0 @ 2463: 0.03 seconds\n",
      "simplify 1 @ 494: 0.02 seconds\n",
      "simplify 2 @ 100: 0.01 seconds\n",
      "time: 0.07\n"
     ]
    },
    {
     "name": "stdout",
     "output_type": "stream",
     "text": [
      "VLL_L 120 173 171 300 49 96\n"
     ]
    },
    {
     "name": "stderr",
     "output_type": "stream",
     "text": [
      "marching cube: 0.06 seconds\n",
      "mesh_to_polydata: 0.02 seconds\n",
      "simplify 0 @ 9773: 0.15 seconds\n",
      "simplify 1 @ 1956: 0.09 seconds\n",
      "simplify 2 @ 393: 0.02 seconds\n",
      "time: 0.34\n"
     ]
    },
    {
     "name": "stdout",
     "output_type": "stream",
     "text": [
      "aws s3 cp \"/home/yuncong/CSHL_meshes/MD594/MD594_down32_annotationVolume/MD594_down32_annotationVolume_VLL_L.stl\" \"s3://mousebrainatlas-data/CSHL_meshes/MD594/MD594_down32_annotationVolume/MD594_down32_annotationVolume_VLL_L.stl\"\n",
      "VLL_R 105 159 177 302 259 300\n"
     ]
    },
    {
     "name": "stderr",
     "output_type": "stream",
     "text": [
      "marching cube: 0.06 seconds\n",
      "mesh_to_polydata: 0.02 seconds\n",
      "simplify 0 @ 9776: 0.18 seconds\n",
      "simplify 1 @ 1953: 0.15 seconds\n",
      "simplify 2 @ 393: 0.03 seconds\n",
      "time: 0.45\n"
     ]
    },
    {
     "name": "stdout",
     "output_type": "stream",
     "text": [
      "aws s3 cp \"/home/yuncong/CSHL_meshes/MD594/MD594_down32_annotationVolume/MD594_down32_annotationVolume_VLL_R.stl\" \"s3://mousebrainatlas-data/CSHL_meshes/MD594/MD594_down32_annotationVolume/MD594_down32_annotationVolume_VLL_R.stl\"\n",
      "7N_L 224 288 250 298 77 137\n"
     ]
    },
    {
     "name": "stderr",
     "output_type": "stream",
     "text": [
      "marching cube: 0.06 seconds\n",
      "mesh_to_polydata: 0.04 seconds\n",
      "simplify 0 @ 12203: 0.22 seconds\n",
      "simplify 1 @ 2442: 0.19 seconds\n",
      "simplify 2 @ 490: 0.04 seconds\n",
      "time: 0.56\n"
     ]
    },
    {
     "name": "stdout",
     "output_type": "stream",
     "text": [
      "aws s3 cp \"/home/yuncong/CSHL_meshes/MD594/MD594_down32_annotationVolume/MD594_down32_annotationVolume_7N_L.stl\" \"s3://mousebrainatlas-data/CSHL_meshes/MD594/MD594_down32_annotationVolume/MD594_down32_annotationVolume_7N_L.stl\"\n",
      "PBG_R 91 127 113 172 289 304\n",
      "aws s3 cp \"/home/yuncong/CSHL_meshes/MD594/MD594_down32_annotationVolume/MD594_down32_annotationVolume_PBG_R.stl\" \"s3://mousebrainatlas-data/CSHL_meshes/MD594/MD594_down32_annotationVolume/MD594_down32_annotationVolume_PBG_R.stl\"\n"
     ]
    },
    {
     "name": "stderr",
     "output_type": "stream",
     "text": [
      "marching cube: 0.02 seconds\n",
      "mesh_to_polydata: 0.01 seconds\n",
      "simplify 0 @ 2073: 0.05 seconds\n",
      "simplify 1 @ 416: 0.03 seconds\n",
      "simplify 2 @ 84: 0.01 seconds\n",
      "time: 0.11\n"
     ]
    },
    {
     "name": "stdout",
     "output_type": "stream",
     "text": [
      "RtTg 105 185 233 305 128 239\n"
     ]
    },
    {
     "name": "stderr",
     "output_type": "stream",
     "text": [
      "marching cube: 0.11 seconds\n",
      "mesh_to_polydata: 0.04 seconds\n",
      "simplify 0 @ 26894: 0.26 seconds\n",
      "simplify 1 @ 5380: 0.26 seconds\n",
      "simplify 2 @ 1077: 0.06 seconds\n",
      "time: 0.73\n"
     ]
    },
    {
     "name": "stdout",
     "output_type": "stream",
     "text": [
      "aws s3 cp \"/home/yuncong/CSHL_meshes/MD594/MD594_down32_annotationVolume/MD594_down32_annotationVolume_RtTg.stl\" \"s3://mousebrainatlas-data/CSHL_meshes/MD594/MD594_down32_annotationVolume/MD594_down32_annotationVolume_RtTg.stl\"\n",
      "Sp5C_R 338 461 163 267 259 318\n"
     ]
    },
    {
     "name": "stderr",
     "output_type": "stream",
     "text": [
      "marching cube: 0.23 seconds\n",
      "mesh_to_polydata: 0.07 seconds\n",
      "simplify 0 @ 24926: 0.51 seconds\n",
      "simplify 1 @ 4986: 0.43 seconds\n",
      "simplify 2 @ 998: 0.09 seconds\n",
      "time: 1.35\n"
     ]
    },
    {
     "name": "stdout",
     "output_type": "stream",
     "text": [
      "aws s3 cp \"/home/yuncong/CSHL_meshes/MD594/MD594_down32_annotationVolume/MD594_down32_annotationVolume_Sp5C_R.stl\" \"s3://mousebrainatlas-data/CSHL_meshes/MD594/MD594_down32_annotationVolume/MD594_down32_annotationVolume_Sp5C_R.stl\"\n",
      "Pn_R 79 149 273 324 198 257\n"
     ]
    },
    {
     "name": "stderr",
     "output_type": "stream",
     "text": [
      "marching cube: 0.07 seconds\n",
      "mesh_to_polydata: 0.03 seconds\n",
      "simplify 0 @ 13961: 0.17 seconds\n",
      "simplify 1 @ 2793: 0.13 seconds\n",
      "simplify 2 @ 560: 0.03 seconds\n",
      "time: 0.43\n"
     ]
    },
    {
     "name": "stdout",
     "output_type": "stream",
     "text": [
      "aws s3 cp \"/home/yuncong/CSHL_meshes/MD594/MD594_down32_annotationVolume/MD594_down32_annotationVolume_Pn_R.stl\" \"s3://mousebrainatlas-data/CSHL_meshes/MD594/MD594_down32_annotationVolume/MD594_down32_annotationVolume_Pn_R.stl\"\n",
      "LRt_L 322 419 244 292 90 137\n"
     ]
    },
    {
     "name": "stderr",
     "output_type": "stream",
     "text": [
      "marching cube: 0.04 seconds\n",
      "mesh_to_polydata: 0.02 seconds\n",
      "simplify 0 @ 11456: 0.13 seconds\n",
      "simplify 1 @ 2292: 0.10 seconds\n",
      "simplify 2 @ 460: 0.02 seconds\n",
      "time: 0.32\n"
     ]
    },
    {
     "name": "stdout",
     "output_type": "stream",
     "text": [
      "aws s3 cp \"/home/yuncong/CSHL_meshes/MD594/MD594_down32_annotationVolume/MD594_down32_annotationVolume_LRt_L.stl\" \"s3://mousebrainatlas-data/CSHL_meshes/MD594/MD594_down32_annotationVolume/MD594_down32_annotationVolume_LRt_L.stl\"\n",
      "Sp5O_R 203 328 176 254 300 325\n"
     ]
    },
    {
     "name": "stderr",
     "output_type": "stream",
     "text": [
      "marching cube: 0.05 seconds\n",
      "mesh_to_polydata: 0.02 seconds\n",
      "simplify 0 @ 7655: 0.20 seconds\n",
      "simplify 1 @ 1532: 0.07 seconds\n",
      "simplify 2 @ 308: 0.01 seconds\n",
      "time: 0.37\n"
     ]
    },
    {
     "name": "stdout",
     "output_type": "stream",
     "text": [
      "aws s3 cp \"/home/yuncong/CSHL_meshes/MD594/MD594_down32_annotationVolume/MD594_down32_annotationVolume_Sp5O_R.stl\" \"s3://mousebrainatlas-data/CSHL_meshes/MD594/MD594_down32_annotationVolume/MD594_down32_annotationVolume_Sp5O_R.stl\"\n",
      "SNR_L 46 119 164 297 42 128\n"
     ]
    },
    {
     "name": "stderr",
     "output_type": "stream",
     "text": [
      "marching cube: 0.12 seconds\n",
      "mesh_to_polydata: 0.04 seconds\n",
      "simplify 0 @ 29827: 0.25 seconds\n",
      "simplify 1 @ 5967: 0.25 seconds\n",
      "simplify 2 @ 1195: 0.05 seconds\n",
      "time: 0.72\n"
     ]
    },
    {
     "name": "stdout",
     "output_type": "stream",
     "text": [
      "aws s3 cp \"/home/yuncong/CSHL_meshes/MD594/MD594_down32_annotationVolume/MD594_down32_annotationVolume_SNR_L.stl\" \"s3://mousebrainatlas-data/CSHL_meshes/MD594/MD594_down32_annotationVolume/MD594_down32_annotationVolume_SNR_L.stl\"\n",
      "12N 307 395 198 236 160 213\n"
     ]
    },
    {
     "name": "stderr",
     "output_type": "stream",
     "text": [
      "marching cube: 0.03 seconds\n",
      "mesh_to_polydata: 0.02 seconds\n",
      "simplify 0 @ 12232: 0.11 seconds\n",
      "simplify 1 @ 2448: 0.10 seconds\n",
      "simplify 2 @ 491: 0.03 seconds\n",
      "time: 0.29\n"
     ]
    },
    {
     "name": "stdout",
     "output_type": "stream",
     "text": [
      "aws s3 cp \"/home/yuncong/CSHL_meshes/MD594/MD594_down32_annotationVolume/MD594_down32_annotationVolume_12N.stl\" \"s3://mousebrainatlas-data/CSHL_meshes/MD594/MD594_down32_annotationVolume/MD594_down32_annotationVolume_12N.stl\"\n",
      "SNR_R 24 97 160 293 220 300\n"
     ]
    },
    {
     "name": "stderr",
     "output_type": "stream",
     "text": [
      "marching cube: 0.13 seconds\n",
      "mesh_to_polydata: 0.04 seconds\n"
     ]
    },
    {
     "name": "stdout",
     "output_type": "stream",
     "text": [
      "aws s3 cp \"/home/yuncong/CSHL_meshes/MD594/MD594_down32_annotationVolume/MD594_down32_annotationVolume_SNR_R.stl\" \"s3://mousebrainatlas-data/CSHL_meshes/MD594/MD594_down32_annotationVolume/MD594_down32_annotationVolume_SNR_R.stl\"\n",
      "Sp5O_L 215 339 185 255 43 56\n"
     ]
    },
    {
     "name": "stderr",
     "output_type": "stream",
     "text": [
      "simplify 0 @ 28890: 0.29 seconds\n",
      "simplify 1 @ 5779: 0.32 seconds\n",
      "simplify 2 @ 1157: 0.06 seconds\n",
      "time: 0.84\n",
      "marching cube: 0.03 seconds\n",
      "mesh_to_polydata: 0.01 seconds\n"
     ]
    },
    {
     "name": "stdout",
     "output_type": "stream",
     "text": [
      "aws s3 cp \"/home/yuncong/CSHL_meshes/MD594/MD594_down32_annotationVolume/MD594_down32_annotationVolume_Sp5O_L.stl\" \"s3://mousebrainatlas-data/CSHL_meshes/MD594/MD594_down32_annotationVolume/MD594_down32_annotationVolume_Sp5O_L.stl\"\n",
      "RMC_L 65 102 181 228 122 158\n",
      "aws s3 cp \"/home/yuncong/CSHL_meshes/MD594/MD594_down32_annotationVolume/MD594_down32_annotationVolume_RMC_L.stl\" \"s3://mousebrainatlas-data/CSHL_meshes/MD594/MD594_down32_annotationVolume/MD594_down32_annotationVolume_RMC_L.stl\"\n"
     ]
    },
    {
     "name": "stderr",
     "output_type": "stream",
     "text": [
      "simplify 0 @ 4464: 0.17 seconds\n",
      "simplify 1 @ 894: 0.04 seconds\n",
      "simplify 2 @ 180: 0.01 seconds\n",
      "time: 0.27\n",
      "marching cube: 0.02 seconds\n",
      "mesh_to_polydata: 0.01 seconds\n",
      "simplify 0 @ 5553: 0.06 seconds\n",
      "simplify 1 @ 1112: 0.04 seconds\n",
      "simplify 2 @ 224: 0.01 seconds\n",
      "time: 0.14\n"
     ]
    },
    {
     "name": "stdout",
     "output_type": "stream",
     "text": [
      "DC_R 194 270 139 179 285 355\n"
     ]
    },
    {
     "name": "stderr",
     "output_type": "stream",
     "text": [
      "marching cube: 0.09 seconds\n",
      "mesh_to_polydata: 0.03 seconds\n",
      "simplify 0 @ 11008: 0.23 seconds\n",
      "simplify 1 @ 2204: 0.19 seconds\n",
      "simplify 2 @ 444: 0.04 seconds\n",
      "time: 0.60\n"
     ]
    },
    {
     "name": "stdout",
     "output_type": "stream",
     "text": [
      "aws s3 cp \"/home/yuncong/CSHL_meshes/MD594/MD594_down32_annotationVolume/MD594_down32_annotationVolume_DC_R.stl\" \"s3://mousebrainatlas-data/CSHL_meshes/MD594/MD594_down32_annotationVolume/MD594_down32_annotationVolume_DC_R.stl\"\n",
      "VCA_L 172 253 167 242 0 41\n"
     ]
    },
    {
     "name": "stderr",
     "output_type": "stream",
     "text": [
      "marching cube: 0.10 seconds\n",
      "mesh_to_polydata: 0.04 seconds\n"
     ]
    },
    {
     "name": "stdout",
     "output_type": "stream",
     "text": [
      "aws s3 cp \"/home/yuncong/CSHL_meshes/MD594/MD594_down32_annotationVolume/MD594_down32_annotationVolume_VCA_L.stl\" \"s3://mousebrainatlas-data/CSHL_meshes/MD594/MD594_down32_annotationVolume/MD594_down32_annotationVolume_VCA_L.stl\"\n",
      "3N_L 72 111 157 181 159 172\n",
      "aws s3 cp \"/home/yuncong/CSHL_meshes/MD594/MD594_down32_annotationVolume/MD594_down32_annotationVolume_3N_L.stl\" \"s3://mousebrainatlas-data/CSHL_meshes/MD594/MD594_down32_annotationVolume/MD594_down32_annotationVolume_3N_L.stl\"\n"
     ]
    },
    {
     "name": "stderr",
     "output_type": "stream",
     "text": [
      "simplify 0 @ 12330: 0.26 seconds\n",
      "simplify 1 @ 2467: 0.21 seconds\n",
      "simplify 2 @ 495: 0.05 seconds\n",
      "time: 0.67\n",
      "marching cube: 0.01 seconds\n",
      "mesh_to_polydata: 0.01 seconds\n",
      "simplify 0 @ 1854: 0.04 seconds\n",
      "simplify 1 @ 372: 0.03 seconds\n",
      "simplify 2 @ 76: 0.01 seconds\n",
      "time: 0.10\n"
     ]
    },
    {
     "name": "stdout",
     "output_type": "stream",
     "text": [
      "6N_R 213 228 208 220 198 215\n",
      "aws s3 cp \"/home/yuncong/CSHL_meshes/MD594/MD594_down32_annotationVolume/MD594_down32_annotationVolume_6N_R.stl\" \"s3://mousebrainatlas-data/CSHL_meshes/MD594/MD594_down32_annotationVolume/MD594_down32_annotationVolume_6N_R.stl\"\n"
     ]
    },
    {
     "name": "stderr",
     "output_type": "stream",
     "text": [
      "marching cube: 0.00 seconds\n",
      "mesh_to_polydata: 0.00 seconds\n",
      "simplify 0 @ 865: 0.01 seconds\n",
      "simplify 1 @ 174: 0.01 seconds\n",
      "time: 0.03\n"
     ]
    },
    {
     "name": "stdout",
     "output_type": "stream",
     "text": [
      "Sp5I_L 313 380 178 234 42 58\n"
     ]
    },
    {
     "name": "stderr",
     "output_type": "stream",
     "text": [
      "marching cube: 0.03 seconds\n",
      "mesh_to_polydata: 0.02 seconds\n",
      "simplify 0 @ 4072: 0.17 seconds\n",
      "simplify 1 @ 816: 0.05 seconds\n",
      "simplify 2 @ 164: 0.01 seconds\n",
      "time: 0.28\n"
     ]
    },
    {
     "name": "stdout",
     "output_type": "stream",
     "text": [
      "aws s3 cp \"/home/yuncong/CSHL_meshes/MD594/MD594_down32_annotationVolume/MD594_down32_annotationVolume_Sp5I_L.stl\" \"s3://mousebrainatlas-data/CSHL_meshes/MD594/MD594_down32_annotationVolume/MD594_down32_annotationVolume_Sp5I_L.stl\"\n",
      "RMC_R 50 97 188 233 190 224\n",
      "aws s3 cp \"/home/yuncong/CSHL_meshes/MD594/MD594_down32_annotationVolume/MD594_down32_annotationVolume_RMC_R.stl\" \"s3://mousebrainatlas-data/CSHL_meshes/MD594/MD594_down32_annotationVolume/MD594_down32_annotationVolume_RMC_R.stl\"\n"
     ]
    },
    {
     "name": "stderr",
     "output_type": "stream",
     "text": [
      "marching cube: 0.02 seconds\n",
      "mesh_to_polydata: 0.01 seconds\n",
      "simplify 0 @ 5435: 0.06 seconds\n",
      "simplify 1 @ 1088: 0.04 seconds\n",
      "simplify 2 @ 219: 0.01 seconds\n",
      "time: 0.14\n"
     ]
    },
    {
     "name": "stdout",
     "output_type": "stream",
     "text": [
      "5N_L 165 212 193 245 73 106\n",
      "aws s3 cp \"/home/yuncong/CSHL_meshes/MD594/MD594_down32_annotationVolume/MD594_down32_annotationVolume_5N_L.stl\" \"s3://mousebrainatlas-data/CSHL_meshes/MD594/MD594_down32_annotationVolume/MD594_down32_annotationVolume_5N_L.stl\"\n"
     ]
    },
    {
     "name": "stderr",
     "output_type": "stream",
     "text": [
      "marching cube: 0.02 seconds\n",
      "mesh_to_polydata: 0.01 seconds\n",
      "simplify 0 @ 7067: 0.08 seconds\n",
      "simplify 1 @ 1415: 0.06 seconds\n",
      "simplify 2 @ 284: 0.01 seconds\n",
      "time: 0.19\n"
     ]
    },
    {
     "name": "stdout",
     "output_type": "stream",
     "text": [
      "SNC_L 47 80 205 281 65 128\n"
     ]
    },
    {
     "name": "stderr",
     "output_type": "stream",
     "text": [
      "marching cube: 0.03 seconds\n",
      "mesh_to_polydata: 0.01 seconds\n",
      "simplify 0 @ 7554: 0.07 seconds\n",
      "simplify 1 @ 1512: 0.07 seconds\n",
      "simplify 2 @ 304: 0.01 seconds\n",
      "time: 0.19\n"
     ]
    },
    {
     "name": "stdout",
     "output_type": "stream",
     "text": [
      "aws s3 cp \"/home/yuncong/CSHL_meshes/MD594/MD594_down32_annotationVolume/MD594_down32_annotationVolume_SNC_L.stl\" \"s3://mousebrainatlas-data/CSHL_meshes/MD594/MD594_down32_annotationVolume/MD594_down32_annotationVolume_SNC_L.stl\"\n",
      "SNC_R 24 58 203 280 230 288\n",
      "aws s3 cp \"/home/yuncong/CSHL_meshes/MD594/MD594_down32_annotationVolume/MD594_down32_annotationVolume_SNC_R.stl\" \"s3://mousebrainatlas-data/CSHL_meshes/MD594/MD594_down32_annotationVolume/MD594_down32_annotationVolume_SNC_R.stl\"\n"
     ]
    },
    {
     "name": "stderr",
     "output_type": "stream",
     "text": [
      "marching cube: 0.03 seconds\n",
      "mesh_to_polydata: 0.01 seconds\n",
      "simplify 0 @ 7660: 0.05 seconds\n",
      "simplify 1 @ 1533: 0.06 seconds\n",
      "simplify 2 @ 308: 0.01 seconds\n",
      "time: 0.16\n"
     ]
    },
    {
     "name": "stdout",
     "output_type": "stream",
     "text": [
      "AP 323 368 181 199 172 198\n",
      "aws s3 cp \"/home/yuncong/CSHL_meshes/MD594/MD594_down32_annotationVolume/MD594_down32_annotationVolume_AP.stl\" \"s3://mousebrainatlas-data/CSHL_meshes/MD594/MD594_down32_annotationVolume/MD594_down32_annotationVolume_AP.stl\"\n"
     ]
    },
    {
     "name": "stderr",
     "output_type": "stream",
     "text": [
      "marching cube: 0.01 seconds\n",
      "mesh_to_polydata: 0.00 seconds\n",
      "simplify 0 @ 2638: 0.03 seconds\n",
      "simplify 1 @ 529: 0.02 seconds\n",
      "simplify 2 @ 107: 0.00 seconds\n",
      "time: 0.06\n"
     ]
    },
    {
     "name": "stdout",
     "output_type": "stream",
     "text": [
      "5N_R 155 198 194 245 253 283\n",
      "aws s3 cp \"/home/yuncong/CSHL_meshes/MD594/MD594_down32_annotationVolume/MD594_down32_annotationVolume_5N_R.stl\" \"s3://mousebrainatlas-data/CSHL_meshes/MD594/MD594_down32_annotationVolume/MD594_down32_annotationVolume_5N_R.stl\"\n"
     ]
    },
    {
     "name": "stderr",
     "output_type": "stream",
     "text": [
      "marching cube: 0.01 seconds\n",
      "mesh_to_polydata: 0.01 seconds\n",
      "simplify 0 @ 6150: 0.06 seconds\n",
      "simplify 1 @ 1231: 0.04 seconds\n",
      "simplify 2 @ 247: 0.01 seconds\n",
      "time: 0.14\n"
     ]
    },
    {
     "name": "stdout",
     "output_type": "stream",
     "text": [
      "Sp5I_R 305 369 166 246 300 330\n"
     ]
    },
    {
     "name": "stderr",
     "output_type": "stream",
     "text": [
      "marching cube: 0.03 seconds\n",
      "mesh_to_polydata: 0.02 seconds\n"
     ]
    },
    {
     "name": "stdout",
     "output_type": "stream",
     "text": [
      "aws s3 cp \"/home/yuncong/CSHL_meshes/MD594/MD594_down32_annotationVolume/MD594_down32_annotationVolume_Sp5I_R.stl\" \"s3://mousebrainatlas-data/CSHL_meshes/MD594/MD594_down32_annotationVolume/MD594_down32_annotationVolume_Sp5I_R.stl\"\n",
      "3N_R 71 108 156 183 177 191\n",
      "aws s3 cp \"/home/yuncong/CSHL_meshes/MD594/MD594_down32_annotationVolume/MD594_down32_annotationVolume_3N_R.stl\" \"s3://mousebrainatlas-data/CSHL_meshes/MD594/MD594_down32_annotationVolume/MD594_down32_annotationVolume_3N_R.stl\"\n"
     ]
    },
    {
     "name": "stderr",
     "output_type": "stream",
     "text": [
      "simplify 0 @ 9229: 0.13 seconds\n",
      "simplify 1 @ 1847: 0.07 seconds\n",
      "simplify 2 @ 371: 0.02 seconds\n",
      "time: 0.27\n",
      "marching cube: 0.00 seconds\n",
      "mesh_to_polydata: 0.00 seconds\n",
      "simplify 0 @ 2118: 0.02 seconds\n",
      "simplify 1 @ 425: 0.01 seconds\n",
      "simplify 2 @ 86: 0.00 seconds\n",
      "time: 0.05\n"
     ]
    },
    {
     "name": "stdout",
     "output_type": "stream",
     "text": [
      "6N_L 214 227 201 216 153 171\n",
      "aws s3 cp \"/home/yuncong/CSHL_meshes/MD594/MD594_down32_annotationVolume/MD594_down32_annotationVolume_6N_L.stl\" \"s3://mousebrainatlas-data/CSHL_meshes/MD594/MD594_down32_annotationVolume/MD594_down32_annotationVolume_6N_L.stl\"\n"
     ]
    },
    {
     "name": "stderr",
     "output_type": "stream",
     "text": [
      "marching cube: 0.00 seconds\n",
      "mesh_to_polydata: 0.00 seconds\n",
      "simplify 0 @ 870: 0.01 seconds\n",
      "simplify 1 @ 175: 0.01 seconds\n",
      "time: 0.02\n"
     ]
    },
    {
     "name": "stdout",
     "output_type": "stream",
     "text": [
      "IC 102 191 0 120 76 259\n"
     ]
    },
    {
     "name": "stderr",
     "output_type": "stream",
     "text": [
      "marching cube: 0.27 seconds\n",
      "mesh_to_polydata: 0.09 seconds\n",
      "simplify 0 @ 66036: 0.91 seconds\n",
      "simplify 1 @ 13208: 0.74 seconds\n",
      "simplify 2 @ 2643: 0.15 seconds\n",
      "time: 2.18\n"
     ]
    },
    {
     "name": "stdout",
     "output_type": "stream",
     "text": [
      "aws s3 cp \"/home/yuncong/CSHL_meshes/MD594/MD594_down32_annotationVolume/MD594_down32_annotationVolume_IC.stl\" \"s3://mousebrainatlas-data/CSHL_meshes/MD594/MD594_down32_annotationVolume/MD594_down32_annotationVolume_IC.stl\"\n",
      "VCA_R 158 235 169 230 318 365\n"
     ]
    },
    {
     "name": "stderr",
     "output_type": "stream",
     "text": [
      "marching cube: 0.04 seconds\n",
      "mesh_to_polydata: 0.02 seconds\n",
      "simplify 0 @ 12210: 0.11 seconds\n"
     ]
    },
    {
     "name": "stdout",
     "output_type": "stream",
     "text": [
      "aws s3 cp \"/home/yuncong/CSHL_meshes/MD594/MD594_down32_annotationVolume/MD594_down32_annotationVolume_VCA_R.stl\" \"s3://mousebrainatlas-data/CSHL_meshes/MD594/MD594_down32_annotationVolume/MD594_down32_annotationVolume_VCA_R.stl\"\n",
      "DC_L 223 287 145 193 15 83\n"
     ]
    },
    {
     "name": "stderr",
     "output_type": "stream",
     "text": [
      "simplify 1 @ 2443: 0.10 seconds\n",
      "simplify 2 @ 490: 0.02 seconds\n",
      "time: 0.30\n",
      "marching cube: 0.03 seconds\n",
      "mesh_to_polydata: 0.01 seconds\n",
      "simplify 0 @ 11455: 0.09 seconds\n",
      "simplify 1 @ 2292: 0.09 seconds\n"
     ]
    },
    {
     "name": "stdout",
     "output_type": "stream",
     "text": [
      "aws s3 cp \"/home/yuncong/CSHL_meshes/MD594/MD594_down32_annotationVolume/MD594_down32_annotationVolume_DC_L.stl\" \"s3://mousebrainatlas-data/CSHL_meshes/MD594/MD594_down32_annotationVolume/MD594_down32_annotationVolume_DC_L.stl\"\n",
      "Amb_R 286 317 251 265 262 269\n",
      "aws s3 cp \"/home/yuncong/CSHL_meshes/MD594/MD594_down32_annotationVolume/MD594_down32_annotationVolume_Amb_R.stl\" \"s3://mousebrainatlas-data/CSHL_meshes/MD594/MD594_down32_annotationVolume/MD594_down32_annotationVolume_Amb_R.stl\"\n"
     ]
    },
    {
     "name": "stderr",
     "output_type": "stream",
     "text": [
      "simplify 2 @ 460: 0.02 seconds\n",
      "time: 0.25\n",
      "marching cube: 0.00 seconds\n",
      "mesh_to_polydata: 0.00 seconds\n",
      "simplify 0 @ 713: 0.01 seconds\n",
      "simplify 1 @ 144: 0.00 seconds\n",
      "time: 0.02\n"
     ]
    },
    {
     "name": "stdout",
     "output_type": "stream",
     "text": [
      "VCP_R 218 263 157 231 322 359\n",
      "aws s3 cp \"/home/yuncong/CSHL_meshes/MD594/MD594_down32_annotationVolume/MD594_down32_annotationVolume_VCP_R.stl\" \"s3://mousebrainatlas-data/CSHL_meshes/MD594/MD594_down32_annotationVolume/MD594_down32_annotationVolume_VCP_R.stl\"\n"
     ]
    },
    {
     "name": "stderr",
     "output_type": "stream",
     "text": [
      "marching cube: 0.02 seconds\n",
      "mesh_to_polydata: 0.01 seconds\n",
      "simplify 0 @ 6625: 0.07 seconds\n",
      "simplify 1 @ 1316: 0.04 seconds\n",
      "simplify 2 @ 260: 0.01 seconds\n",
      "time: 0.15\n"
     ]
    },
    {
     "name": "stdout",
     "output_type": "stream",
     "text": [
      "LC_R 163 216 155 193 225 242\n",
      "aws s3 cp \"/home/yuncong/CSHL_meshes/MD594/MD594_down32_annotationVolume/MD594_down32_annotationVolume_LC_R.stl\" \"s3://mousebrainatlas-data/CSHL_meshes/MD594/MD594_down32_annotationVolume/MD594_down32_annotationVolume_LC_R.stl\"\n"
     ]
    },
    {
     "name": "stderr",
     "output_type": "stream",
     "text": [
      "marching cube: 0.01 seconds\n",
      "mesh_to_polydata: 0.00 seconds\n",
      "simplify 0 @ 3525: 0.03 seconds\n",
      "simplify 1 @ 706: 0.02 seconds\n",
      "simplify 2 @ 142: 0.01 seconds\n",
      "time: 0.07\n"
     ]
    },
    {
     "name": "stdout",
     "output_type": "stream",
     "text": [
      "10N_R 314 381 193 219 197 219\n",
      "aws s3 cp \"/home/yuncong/CSHL_meshes/MD594/MD594_down32_annotationVolume/MD594_down32_annotationVolume_10N_R.stl\" \"s3://mousebrainatlas-data/CSHL_meshes/MD594/MD594_down32_annotationVolume/MD594_down32_annotationVolume_10N_R.stl\"\n"
     ]
    },
    {
     "name": "stderr",
     "output_type": "stream",
     "text": [
      "marching cube: 0.01 seconds\n",
      "mesh_to_polydata: 0.00 seconds\n",
      "simplify 0 @ 2708: 0.03 seconds\n",
      "simplify 1 @ 543: 0.02 seconds\n",
      "simplify 2 @ 110: 0.00 seconds\n",
      "time: 0.06\n"
     ]
    },
    {
     "name": "stdout",
     "output_type": "stream",
     "text": [
      "7n_R 182 239 198 277 208 292\n"
     ]
    },
    {
     "name": "stderr",
     "output_type": "stream",
     "text": [
      "marching cube: 0.05 seconds\n",
      "mesh_to_polydata: 0.01 seconds\n",
      "simplify 0 @ 8621: 0.07 seconds\n",
      "simplify 1 @ 1725: 0.06 seconds\n",
      "simplify 2 @ 346: 0.01 seconds\n",
      "time: 0.21\n"
     ]
    },
    {
     "name": "stdout",
     "output_type": "stream",
     "text": [
      "aws s3 cp \"/home/yuncong/CSHL_meshes/MD594/MD594_down32_annotationVolume/MD594_down32_annotationVolume_7n_R.stl\" \"s3://mousebrainatlas-data/CSHL_meshes/MD594/MD594_down32_annotationVolume/MD594_down32_annotationVolume_7n_R.stl\"\n",
      "4N_R 111 123 156 171 187 194\n",
      "aws s3 cp \"/home/yuncong/CSHL_meshes/MD594/MD594_down32_annotationVolume/MD594_down32_annotationVolume_4N_R.stl\" \"s3://mousebrainatlas-data/CSHL_meshes/MD594/MD594_down32_annotationVolume/MD594_down32_annotationVolume_4N_R.stl\"\n"
     ]
    },
    {
     "name": "stderr",
     "output_type": "stream",
     "text": [
      "marching cube: 0.00 seconds\n",
      "mesh_to_polydata: 0.00 seconds\n",
      "simplify 0 @ 352: 0.01 seconds\n",
      "simplify 1 @ 72: 0.00 seconds\n",
      "time: 0.01\n"
     ]
    },
    {
     "name": "stdout",
     "output_type": "stream",
     "text": [
      "Tz_L 158 217 289 309 130 158\n",
      "aws s3 cp \"/home/yuncong/CSHL_meshes/MD594/MD594_down32_annotationVolume/MD594_down32_annotationVolume_Tz_L.stl\" \"s3://mousebrainatlas-data/CSHL_meshes/MD594/MD594_down32_annotationVolume/MD594_down32_annotationVolume_Tz_L.stl\"\n"
     ]
    },
    {
     "name": "stderr",
     "output_type": "stream",
     "text": [
      "marching cube: 0.01 seconds\n",
      "mesh_to_polydata: 0.01 seconds\n",
      "simplify 0 @ 3644: 0.04 seconds\n",
      "simplify 1 @ 730: 0.02 seconds\n",
      "simplify 2 @ 147: 0.01 seconds\n",
      "time: 0.08\n"
     ]
    },
    {
     "name": "stdout",
     "output_type": "stream",
     "text": [
      "Tz_R 151 213 295 314 197 230\n",
      "aws s3 cp \"/home/yuncong/CSHL_meshes/MD594/MD594_down32_annotationVolume/MD594_down32_annotationVolume_Tz_R.stl\" \"s3://mousebrainatlas-data/CSHL_meshes/MD594/MD594_down32_annotationVolume/MD594_down32_annotationVolume_Tz_R.stl\"\n"
     ]
    },
    {
     "name": "stderr",
     "output_type": "stream",
     "text": [
      "marching cube: 0.01 seconds\n",
      "mesh_to_polydata: 0.01 seconds\n",
      "simplify 0 @ 4338: 0.05 seconds\n",
      "simplify 1 @ 869: 0.03 seconds\n",
      "simplify 2 @ 175: 0.01 seconds\n",
      "time: 0.10\n"
     ]
    },
    {
     "name": "stdout",
     "output_type": "stream",
     "text": [
      "7n_L 190 240 198 280 69 158\n"
     ]
    },
    {
     "name": "stderr",
     "output_type": "stream",
     "text": [
      "marching cube: 0.05 seconds\n",
      "mesh_to_polydata: 0.01 seconds\n",
      "simplify 0 @ 8979: 0.08 seconds\n",
      "simplify 1 @ 1797: 0.07 seconds\n",
      "simplify 2 @ 361: 0.01 seconds\n",
      "time: 0.22\n"
     ]
    },
    {
     "name": "stdout",
     "output_type": "stream",
     "text": [
      "aws s3 cp \"/home/yuncong/CSHL_meshes/MD594/MD594_down32_annotationVolume/MD594_down32_annotationVolume_7n_L.stl\" \"s3://mousebrainatlas-data/CSHL_meshes/MD594/MD594_down32_annotationVolume/MD594_down32_annotationVolume_7n_L.stl\"\n",
      "4N_L 113 124 155 170 156 166\n",
      "aws s3 cp \"/home/yuncong/CSHL_meshes/MD594/MD594_down32_annotationVolume/MD594_down32_annotationVolume_4N_L.stl\" \"s3://mousebrainatlas-data/CSHL_meshes/MD594/MD594_down32_annotationVolume/MD594_down32_annotationVolume_4N_L.stl\"\n"
     ]
    },
    {
     "name": "stderr",
     "output_type": "stream",
     "text": [
      "marching cube: 0.00 seconds\n",
      "mesh_to_polydata: 0.00 seconds\n",
      "simplify 0 @ 511: 0.01 seconds\n",
      "simplify 1 @ 103: 0.00 seconds\n",
      "time: 0.01\n"
     ]
    },
    {
     "name": "stdout",
     "output_type": "stream",
     "text": [
      "LC_L 165 217 151 191 117 133\n",
      "aws s3 cp \"/home/yuncong/CSHL_meshes/MD594/MD594_down32_annotationVolume/MD594_down32_annotationVolume_LC_L.stl\" \"s3://mousebrainatlas-data/CSHL_meshes/MD594/MD594_down32_annotationVolume/MD594_down32_annotationVolume_LC_L.stl\"\n"
     ]
    },
    {
     "name": "stderr",
     "output_type": "stream",
     "text": [
      "marching cube: 0.01 seconds\n",
      "mesh_to_polydata: 0.01 seconds\n",
      "simplify 0 @ 3598: 0.04 seconds\n",
      "simplify 1 @ 721: 0.02 seconds\n",
      "simplify 2 @ 145: 0.01 seconds\n",
      "time: 0.08\n"
     ]
    },
    {
     "name": "stdout",
     "output_type": "stream",
     "text": [
      "10N_L 314 387 192 224 158 178\n",
      "aws s3 cp \"/home/yuncong/CSHL_meshes/MD594/MD594_down32_annotationVolume/MD594_down32_annotationVolume_10N_L.stl\" \"s3://mousebrainatlas-data/CSHL_meshes/MD594/MD594_down32_annotationVolume/MD594_down32_annotationVolume_10N_L.stl\"\n"
     ]
    },
    {
     "name": "stderr",
     "output_type": "stream",
     "text": [
      "marching cube: 0.01 seconds\n",
      "mesh_to_polydata: 0.00 seconds\n",
      "simplify 0 @ 3280: 0.03 seconds\n",
      "simplify 1 @ 657: 0.02 seconds\n",
      "simplify 2 @ 133: 0.01 seconds\n",
      "time: 0.07\n"
     ]
    },
    {
     "name": "stdout",
     "output_type": "stream",
     "text": [
      "SC 1 148 21 175 58 292\n"
     ]
    },
    {
     "name": "stderr",
     "output_type": "stream",
     "text": [
      "marching cube: 0.68 seconds\n",
      "mesh_to_polydata: 0.15 seconds\n",
      "simplify 0 @ 125499: 1.13 seconds\n",
      "simplify 1 @ 25101: 1.41 seconds\n",
      "simplify 2 @ 5021: 0.29 seconds\n",
      "time: 3.68\n"
     ]
    },
    {
     "name": "stdout",
     "output_type": "stream",
     "text": [
      "aws s3 cp \"/home/yuncong/CSHL_meshes/MD594/MD594_down32_annotationVolume/MD594_down32_annotationVolume_SC.stl\" \"s3://mousebrainatlas-data/CSHL_meshes/MD594/MD594_down32_annotationVolume/MD594_down32_annotationVolume_SC.stl\"\n",
      "VCP_L 231 282 157 244 15 46\n",
      "aws s3 cp \"/home/yuncong/CSHL_meshes/MD594/MD594_down32_annotationVolume/MD594_down32_annotationVolume_VCP_L.stl\" \"s3://mousebrainatlas-data/CSHL_meshes/MD594/MD594_down32_annotationVolume/MD594_down32_annotationVolume_VCP_L.stl\"\n"
     ]
    },
    {
     "name": "stderr",
     "output_type": "stream",
     "text": [
      "marching cube: 0.02 seconds\n",
      "mesh_to_polydata: 0.01 seconds\n",
      "simplify 0 @ 6754: 0.08 seconds\n",
      "simplify 1 @ 1352: 0.05 seconds\n",
      "simplify 2 @ 272: 0.01 seconds\n",
      "time: 0.17\n"
     ]
    },
    {
     "name": "stdout",
     "output_type": "stream",
     "text": [
      "Amb_L 293 327 243 255 99 106\n",
      "aws s3 cp \"/home/yuncong/CSHL_meshes/MD594/MD594_down32_annotationVolume/MD594_down32_annotationVolume_Amb_L.stl\" \"s3://mousebrainatlas-data/CSHL_meshes/MD594/MD594_down32_annotationVolume/MD594_down32_annotationVolume_Amb_L.stl\"\n"
     ]
    },
    {
     "name": "stderr",
     "output_type": "stream",
     "text": [
      "marching cube: 0.00 seconds\n",
      "mesh_to_polydata: 0.00 seconds\n",
      "simplify 0 @ 613: 0.01 seconds\n",
      "simplify 1 @ 124: 0.00 seconds\n",
      "time: 0.02\n"
     ]
    }
   ],
   "source": [
    "meshes = {}\n",
    "\n",
    "for name_s, label in name_to_label.iteritems():\n",
    "    \n",
    "    xmin, xmax, ymin, ymax, zmin, zmax = bbox_3d(volume == label) \n",
    "    print name_s, xmin, xmax, ymin, ymax, zmin, zmax\n",
    "    \n",
    "    vol = (volume[ymin:ymax+1, xmin:xmax+1, zmin:zmax+1] == label).astype(np.float)\n",
    "\n",
    "    t = time.time()\n",
    "    mesh = volume_to_polydata(vol, origin=(ann_xmin+xmin, ann_ymin+ymin, ann_zmin+zmin), \n",
    "                                  num_simplify_iter=3, smooth=True)\n",
    "\n",
    "    sys.stderr.write('time: %.2f\\n' % (time.time() - t) ) # ~ 150s for outerContour; 93s for sp5\n",
    "    \n",
    "    meshes[name_s] = mesh\n",
    "    \n",
    "    fp = DataManager.get_mesh_filepath(stack_m=stack, vol_type_m='annotation', structure=name_s)\n",
    "    create_parent_dir_if_not_exists(fp)\n",
    "    save_mesh_stl(mesh, fp)\n",
    "    upload_to_s3(fp)"
   ]
  },
  {
   "cell_type": "markdown",
   "metadata": {
    "collapsed": true
   },
   "source": [
    "# Load "
   ]
  },
  {
   "cell_type": "code",
   "execution_count": 7,
   "metadata": {},
   "outputs": [
    {
     "name": "stderr",
     "output_type": "stream",
     "text": [
      "load_mesh_stl: File does not exist /home/yuncong/CSHL_meshes/MD594/MD594_down32_annotationVolume/MD594_down32_annotationVolume_sp5.stl\n",
      "Error loading mesh for sp5: Mesh is empty: sp5..\n",
      "load_mesh_stl: File does not exist /home/yuncong/CSHL_meshes/MD594/MD594_down32_annotationVolume/MD594_down32_annotationVolume_outerContour.stl\n",
      "Error loading mesh for outerContour: Mesh is empty: outerContour..\n"
     ]
    }
   ],
   "source": [
    "meshes = DataManager.load_meshes(stack_m='MD594', vol_type_m='annotation', sided=True)"
   ]
  },
  {
   "cell_type": "code",
   "execution_count": 12,
   "metadata": {
    "collapsed": true
   },
   "outputs": [],
   "source": [
    "mesh_actors = [actor_mesh(mesh, np.array(name_unsided_to_color[convert_to_original_name(name_s)])/255., wireframe=False, opacity=1.) \n",
    "               for name_s, mesh in meshes.iteritems()]"
   ]
  },
  {
   "cell_type": "code",
   "execution_count": 13,
   "metadata": {
    "collapsed": true
   },
   "outputs": [],
   "source": [
    "launch_vtk(mesh_actors, init_angle='30', background_color=(0,0,0))"
   ]
  },
  {
   "cell_type": "code",
   "execution_count": null,
   "metadata": {
    "collapsed": true
   },
   "outputs": [],
   "source": []
  },
  {
   "cell_type": "code",
   "execution_count": null,
   "metadata": {
    "collapsed": true
   },
   "outputs": [],
   "source": [
    "fn = os.path.join(MESH_ROOTDIR, stack, \"%(stack)s_down32_outerContourVolume_smoothed.stl\" % {'stack': stack})\n",
    "outerContour_polydata = load_mesh_stl(fn, return_polydata_only=True)\n",
    "\n",
    "outerContour_actor = actor_mesh(outerContour_polydata, (1,1,1), opacity=.1, wireframe=False)"
   ]
  },
  {
   "cell_type": "code",
   "execution_count": null,
   "metadata": {
    "collapsed": true
   },
   "outputs": [],
   "source": [
    "launch_vtk(mesh_actors + [outerContour_actor], init_angle='30', background_color=(0,0,0))"
   ]
  },
  {
   "cell_type": "code",
   "execution_count": null,
   "metadata": {
    "collapsed": true
   },
   "outputs": [],
   "source": []
  },
  {
   "cell_type": "code",
   "execution_count": null,
   "metadata": {
    "collapsed": true
   },
   "outputs": [],
   "source": [
    "# Export to rgb PLY file (STL file can not have color info)\n",
    "# https://github.com/Kitware/VTK/blob/master/IO/PLY/Testing/Python/TestPLYReadWrite.py#L31\n",
    "# http://www.vtk.org/doc/nightly/html/classvtkPLYWriter.html#aa7f0bdbb2decdc7a7360a890a6c10e8b\n",
    "\n",
    "for name_s, polydata in polydata_list.iteritems():\n",
    "    fn = os.path.join(mesh_rootdir, stack, \"%(stack)s_down32_%(name)s_smoothed.ply\" % {'stack': stack, 'name':name_s})\n",
    "    save_mesh(polydata, fn, color=(colors[convert_name_to_unsided(name_s)]*255).astype(np.int))"
   ]
  }
 ],
 "metadata": {
  "kernelspec": {
   "display_name": "Python 2",
   "language": "python",
   "name": "python2"
  },
  "language_info": {
   "codemirror_mode": {
    "name": "ipython",
    "version": 2
   },
   "file_extension": ".py",
   "mimetype": "text/x-python",
   "name": "python",
   "nbconvert_exporter": "python",
   "pygments_lexer": "ipython2",
   "version": "2.7.12"
  }
 },
 "nbformat": 4,
 "nbformat_minor": 1
}
