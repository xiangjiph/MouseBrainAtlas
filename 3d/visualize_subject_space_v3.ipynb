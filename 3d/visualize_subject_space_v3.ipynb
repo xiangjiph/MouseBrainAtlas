{
 "cells": [
  {
   "cell_type": "code",
   "execution_count": 1,
   "metadata": {
    "collapsed": false
   },
   "outputs": [
    {
     "name": "stderr",
     "output_type": "stream",
     "text": [
      "/usr/local/lib/python2.7/dist-packages/matplotlib/__init__.py:1357: UserWarning:  This call to matplotlib.use() has no effect\n",
      "because the backend has already been chosen;\n",
      "matplotlib.use() must be called *before* pylab, matplotlib.pyplot,\n",
      "or matplotlib.backends is imported for the first time.\n",
      "\n",
      "  warnings.warn(_use_error_msg)\n"
     ]
    },
    {
     "name": "stdout",
     "output_type": "stream",
     "text": [
      "Setting environment for Local Macbook Pro\n"
     ]
    }
   ],
   "source": [
    "%reload_ext autoreload\n",
    "%autoreload 2\n",
    "\n",
    "import sys\n",
    "import os\n",
    "import time\n",
    "\n",
    "import numpy as np\n",
    "import pandas as pd\n",
    "import bloscpack as bp\n",
    "import matplotlib.pyplot as plt\n",
    "%matplotlib inline\n",
    "\n",
    "sys.path.append(os.path.join(os.environ['REPO_DIR'], 'utilities'))\n",
    "from utilities2015 import *\n",
    "from annotation_utilities import *\n",
    "from registration_utilities import *\n",
    "from metadata import *\n",
    "from data_manager import *\n",
    "from vis3d_utilities import *"
   ]
  },
  {
   "cell_type": "code",
   "execution_count": 2,
   "metadata": {
    "collapsed": true
   },
   "outputs": [],
   "source": [
    "stack = 'MD658'"
   ]
  },
  {
   "cell_type": "code",
   "execution_count": 3,
   "metadata": {
    "collapsed": false
   },
   "outputs": [],
   "source": [
    "atlas_name = 'atlasV3'"
   ]
  },
  {
   "cell_type": "markdown",
   "metadata": {},
   "source": [
    "# Generate transformed atlas meshes"
   ]
  },
  {
   "cell_type": "code",
   "execution_count": 16,
   "metadata": {
    "collapsed": false,
    "scrolled": true
   },
   "outputs": [
    {
     "name": "stdout",
     "output_type": "stream",
     "text": [
      "5N_L\n"
     ]
    },
    {
     "name": "stderr",
     "output_type": "stream",
     "text": [
      "marching cube: 16.83 seconds\n",
      "mesh_to_polydata: 0.01 seconds\n",
      "simplify 0 @ 6718: 0.07 seconds\n",
      "simplify 1 @ 1345: 0.06 seconds\n",
      "simplify 2 @ 270: 0.01 seconds\n",
      "time: 18.72\n"
     ]
    },
    {
     "name": "stdout",
     "output_type": "stream",
     "text": [
      "5N_R\n"
     ]
    },
    {
     "name": "stderr",
     "output_type": "stream",
     "text": [
      "marching cube: 13.10 seconds\n",
      "mesh_to_polydata: 0.02 seconds\n",
      "simplify 0 @ 6673: 0.07 seconds\n",
      "simplify 1 @ 1336: 0.06 seconds\n",
      "simplify 2 @ 268: 0.01 seconds\n",
      "time: 15.42\n"
     ]
    },
    {
     "name": "stdout",
     "output_type": "stream",
     "text": [
      "6N_L\n"
     ]
    },
    {
     "name": "stderr",
     "output_type": "stream",
     "text": [
      "marching cube: 19.63 seconds\n",
      "mesh_to_polydata: 0.00 seconds\n",
      "simplify 0 @ 715: 0.01 seconds\n",
      "time: 21.53\n"
     ]
    },
    {
     "name": "stdout",
     "output_type": "stream",
     "text": [
      "6N_R\n"
     ]
    },
    {
     "name": "stderr",
     "output_type": "stream",
     "text": [
      "marching cube: 18.76 seconds\n",
      "mesh_to_polydata: 0.00 seconds\n",
      "simplify 0 @ 715: 0.01 seconds\n",
      "time: 20.69\n"
     ]
    },
    {
     "name": "stdout",
     "output_type": "stream",
     "text": [
      "7N_L\n"
     ]
    },
    {
     "name": "stderr",
     "output_type": "stream",
     "text": [
      "marching cube: 17.35 seconds\n",
      "mesh_to_polydata: 0.02 seconds\n",
      "simplify 0 @ 11697: 0.10 seconds\n",
      "simplify 1 @ 2341: 0.10 seconds\n",
      "simplify 2 @ 469: 0.02 seconds\n",
      "time: 19.96\n"
     ]
    },
    {
     "name": "stdout",
     "output_type": "stream",
     "text": [
      "7N_R\n"
     ]
    },
    {
     "name": "stderr",
     "output_type": "stream",
     "text": [
      "marching cube: 14.45 seconds\n",
      "mesh_to_polydata: 0.02 seconds\n",
      "simplify 0 @ 11796: 0.09 seconds\n",
      "simplify 1 @ 2361: 0.13 seconds\n",
      "simplify 2 @ 473: 0.03 seconds\n",
      "time: 16.96\n"
     ]
    },
    {
     "name": "stdout",
     "output_type": "stream",
     "text": [
      "7n_L\n"
     ]
    },
    {
     "name": "stderr",
     "output_type": "stream",
     "text": [
      "marching cube: 16.97 seconds\n",
      "mesh_to_polydata: 0.01 seconds\n",
      "simplify 0 @ 8900: 0.06 seconds\n",
      "simplify 1 @ 1782: 0.07 seconds\n",
      "simplify 2 @ 357: 0.01 seconds\n",
      "time: 20.71\n"
     ]
    },
    {
     "name": "stdout",
     "output_type": "stream",
     "text": [
      "7n_R\n"
     ]
    },
    {
     "name": "stderr",
     "output_type": "stream",
     "text": [
      "marching cube: 17.47 seconds\n",
      "mesh_to_polydata: 0.01 seconds\n",
      "simplify 0 @ 9079: 0.07 seconds\n",
      "simplify 1 @ 1817: 0.11 seconds\n",
      "simplify 2 @ 364: 0.03 seconds\n",
      "time: 19.46\n"
     ]
    },
    {
     "name": "stdout",
     "output_type": "stream",
     "text": [
      "Amb_L\n"
     ]
    },
    {
     "name": "stderr",
     "output_type": "stream",
     "text": [
      "marching cube: 17.55 seconds\n",
      "mesh_to_polydata: 0.00 seconds\n",
      "simplify 0 @ 951: 0.01 seconds\n",
      "time: 20.69\n"
     ]
    },
    {
     "name": "stdout",
     "output_type": "stream",
     "text": [
      "Amb_R\n"
     ]
    },
    {
     "name": "stderr",
     "output_type": "stream",
     "text": [
      "marching cube: 17.65 seconds\n",
      "mesh_to_polydata: 0.00 seconds\n",
      "simplify 0 @ 956: 0.02 seconds\n",
      "time: 19.23\n"
     ]
    },
    {
     "name": "stdout",
     "output_type": "stream",
     "text": [
      "LC_L\n"
     ]
    },
    {
     "name": "stderr",
     "output_type": "stream",
     "text": [
      "marching cube: 18.30 seconds\n",
      "mesh_to_polydata: 0.01 seconds\n",
      "simplify 0 @ 3496: 0.03 seconds\n",
      "simplify 1 @ 700: 0.03 seconds\n",
      "time: 20.89\n"
     ]
    },
    {
     "name": "stdout",
     "output_type": "stream",
     "text": [
      "LC_R\n"
     ]
    },
    {
     "name": "stderr",
     "output_type": "stream",
     "text": [
      "marching cube: 17.59 seconds\n",
      "mesh_to_polydata: 0.01 seconds\n",
      "simplify 0 @ 3589: 0.03 seconds\n",
      "simplify 1 @ 719: 0.03 seconds\n",
      "time: 19.21\n"
     ]
    },
    {
     "name": "stdout",
     "output_type": "stream",
     "text": [
      "LRt_L\n"
     ]
    },
    {
     "name": "stderr",
     "output_type": "stream",
     "text": [
      "marching cube: 17.66 seconds\n",
      "mesh_to_polydata: 0.02 seconds\n",
      "simplify 0 @ 9877: 0.09 seconds\n",
      "simplify 1 @ 1978: 0.09 seconds\n",
      "simplify 2 @ 397: 0.02 seconds\n",
      "time: 19.19\n"
     ]
    },
    {
     "name": "stdout",
     "output_type": "stream",
     "text": [
      "LRt_R\n",
      "rm -rf /home/yuncong/CSHL_volumes/atlasV3/atlasV3_down32_scoreVolume_clf_37_warp_1_MD658_down32_scoreVolume_clf_37/score_volumes/atlasV3_down32_scoreVolume_clf_37_warp_1_MD658_down32_scoreVolume_clf_37_LRt_R.bp && mkdir -p /home/yuncong/CSHL_volumes/atlasV3/atlasV3_down32_scoreVolume_clf_37_warp_1_MD658_down32_scoreVolume_clf_37/score_volumes\n",
      "aws s3 cp s3://mousebrainatlas-data/CSHL_volumes/atlasV3/atlasV3_down32_scoreVolume_clf_37_warp_1_MD658_down32_scoreVolume_clf_37/score_volumes/atlasV3_down32_scoreVolume_clf_37_warp_1_MD658_down32_scoreVolume_clf_37_LRt_R.bp /home/yuncong/CSHL_volumes/atlasV3/atlasV3_down32_scoreVolume_clf_37_warp_1_MD658_down32_scoreVolume_clf_37/score_volumes/atlasV3_down32_scoreVolume_clf_37_warp_1_MD658_down32_scoreVolume_clf_37_LRt_R.bp\n"
     ]
    },
    {
     "name": "stderr",
     "output_type": "stream",
     "text": [
      "Child returned 0\n",
      "Child returned 0\n",
      "1.24 seconds.\n",
      "marching cube: 12.86 seconds\n",
      "mesh_to_polydata: 0.01 seconds\n",
      "simplify 0 @ 9797: 0.08 seconds\n",
      "simplify 1 @ 1962: 0.08 seconds\n",
      "simplify 2 @ 393: 0.02 seconds\n",
      "time: 14.40\n"
     ]
    },
    {
     "name": "stdout",
     "output_type": "stream",
     "text": [
      "Pn_L\n",
      "rm -rf /home/yuncong/CSHL_volumes/atlasV3/atlasV3_down32_scoreVolume_clf_37_warp_1_MD658_down32_scoreVolume_clf_37/score_volumes/atlasV3_down32_scoreVolume_clf_37_warp_1_MD658_down32_scoreVolume_clf_37_Pn_L.bp && mkdir -p /home/yuncong/CSHL_volumes/atlasV3/atlasV3_down32_scoreVolume_clf_37_warp_1_MD658_down32_scoreVolume_clf_37/score_volumes\n",
      "aws s3 cp s3://mousebrainatlas-data/CSHL_volumes/atlasV3/atlasV3_down32_scoreVolume_clf_37_warp_1_MD658_down32_scoreVolume_clf_37/score_volumes/atlasV3_down32_scoreVolume_clf_37_warp_1_MD658_down32_scoreVolume_clf_37_Pn_L.bp /home/yuncong/CSHL_volumes/atlasV3/atlasV3_down32_scoreVolume_clf_37_warp_1_MD658_down32_scoreVolume_clf_37/score_volumes/atlasV3_down32_scoreVolume_clf_37_warp_1_MD658_down32_scoreVolume_clf_37_Pn_L.bp\n"
     ]
    },
    {
     "name": "stderr",
     "output_type": "stream",
     "text": [
      "Child returned 0\n",
      "Child returned 0\n",
      "1.51 seconds.\n",
      "marching cube: 12.84 seconds\n",
      "mesh_to_polydata: 0.02 seconds\n",
      "simplify 0 @ 16943: 0.15 seconds\n",
      "simplify 1 @ 3390: 0.16 seconds\n",
      "simplify 2 @ 679: 0.03 seconds\n",
      "time: 14.61\n"
     ]
    },
    {
     "name": "stdout",
     "output_type": "stream",
     "text": [
      "Pn_R\n"
     ]
    },
    {
     "name": "stderr",
     "output_type": "stream",
     "text": [
      "marching cube: 17.67 seconds\n",
      "mesh_to_polydata: 0.03 seconds\n",
      "simplify 0 @ 16831: 0.17 seconds\n",
      "simplify 1 @ 3370: 0.18 seconds\n",
      "simplify 2 @ 675: 0.04 seconds\n",
      "time: 20.81\n",
      "Child returned 0\n"
     ]
    },
    {
     "name": "stdout",
     "output_type": "stream",
     "text": [
      "Tz_L\n",
      "rm -rf /home/yuncong/CSHL_volumes/atlasV3/atlasV3_down32_scoreVolume_clf_37_warp_1_MD658_down32_scoreVolume_clf_37/score_volumes/atlasV3_down32_scoreVolume_clf_37_warp_1_MD658_down32_scoreVolume_clf_37_Tz_L.bp && mkdir -p /home/yuncong/CSHL_volumes/atlasV3/atlasV3_down32_scoreVolume_clf_37_warp_1_MD658_down32_scoreVolume_clf_37/score_volumes\n",
      "aws s3 cp s3://mousebrainatlas-data/CSHL_volumes/atlasV3/atlasV3_down32_scoreVolume_clf_37_warp_1_MD658_down32_scoreVolume_clf_37/score_volumes/atlasV3_down32_scoreVolume_clf_37_warp_1_MD658_down32_scoreVolume_clf_37_Tz_L.bp /home/yuncong/CSHL_volumes/atlasV3/atlasV3_down32_scoreVolume_clf_37_warp_1_MD658_down32_scoreVolume_clf_37/score_volumes/atlasV3_down32_scoreVolume_clf_37_warp_1_MD658_down32_scoreVolume_clf_37_Tz_L.bp\n"
     ]
    },
    {
     "name": "stderr",
     "output_type": "stream",
     "text": [
      "Child returned 0\n",
      "1.20 seconds.\n",
      "marching cube: 16.03 seconds\n",
      "mesh_to_polydata: 0.01 seconds\n",
      "simplify 0 @ 5071: 0.07 seconds\n",
      "simplify 1 @ 1015: 0.07 seconds\n",
      "simplify 2 @ 204: 0.02 seconds\n",
      "time: 17.61\n"
     ]
    },
    {
     "name": "stdout",
     "output_type": "stream",
     "text": [
      "Tz_R\n",
      "rm -rf /home/yuncong/CSHL_volumes/atlasV3/atlasV3_down32_scoreVolume_clf_37_warp_1_MD658_down32_scoreVolume_clf_37/score_volumes/atlasV3_down32_scoreVolume_clf_37_warp_1_MD658_down32_scoreVolume_clf_37_Tz_R.bp && mkdir -p /home/yuncong/CSHL_volumes/atlasV3/atlasV3_down32_scoreVolume_clf_37_warp_1_MD658_down32_scoreVolume_clf_37/score_volumes\n",
      "aws s3 cp s3://mousebrainatlas-data/CSHL_volumes/atlasV3/atlasV3_down32_scoreVolume_clf_37_warp_1_MD658_down32_scoreVolume_clf_37/score_volumes/atlasV3_down32_scoreVolume_clf_37_warp_1_MD658_down32_scoreVolume_clf_37_Tz_R.bp /home/yuncong/CSHL_volumes/atlasV3/atlasV3_down32_scoreVolume_clf_37_warp_1_MD658_down32_scoreVolume_clf_37/score_volumes/atlasV3_down32_scoreVolume_clf_37_warp_1_MD658_down32_scoreVolume_clf_37_Tz_R.bp\n"
     ]
    },
    {
     "name": "stderr",
     "output_type": "stream",
     "text": [
      "Child returned 0\n",
      "Child returned 0\n",
      "1.54 seconds.\n",
      "marching cube: 16.01 seconds\n",
      "mesh_to_polydata: 0.02 seconds\n",
      "simplify 0 @ 5062: 0.07 seconds\n",
      "simplify 1 @ 1016: 0.07 seconds\n",
      "simplify 2 @ 204: 0.02 seconds\n",
      "time: 17.90\n"
     ]
    },
    {
     "name": "stdout",
     "output_type": "stream",
     "text": [
      "VLL_L\n",
      "rm -rf /home/yuncong/CSHL_volumes/atlasV3/atlasV3_down32_scoreVolume_clf_37_warp_1_MD658_down32_scoreVolume_clf_37/score_volumes/atlasV3_down32_scoreVolume_clf_37_warp_1_MD658_down32_scoreVolume_clf_37_VLL_L.bp && mkdir -p /home/yuncong/CSHL_volumes/atlasV3/atlasV3_down32_scoreVolume_clf_37_warp_1_MD658_down32_scoreVolume_clf_37/score_volumes\n",
      "aws s3 cp s3://mousebrainatlas-data/CSHL_volumes/atlasV3/atlasV3_down32_scoreVolume_clf_37_warp_1_MD658_down32_scoreVolume_clf_37/score_volumes/atlasV3_down32_scoreVolume_clf_37_warp_1_MD658_down32_scoreVolume_clf_37_VLL_L.bp /home/yuncong/CSHL_volumes/atlasV3/atlasV3_down32_scoreVolume_clf_37_warp_1_MD658_down32_scoreVolume_clf_37/score_volumes/atlasV3_down32_scoreVolume_clf_37_warp_1_MD658_down32_scoreVolume_clf_37_VLL_L.bp\n"
     ]
    },
    {
     "name": "stderr",
     "output_type": "stream",
     "text": [
      "Child returned 0\n",
      "Child returned 0\n",
      "1.51 seconds.\n",
      "marching cube: 13.41 seconds\n",
      "mesh_to_polydata: 0.01 seconds\n",
      "simplify 0 @ 11126: 0.08 seconds\n",
      "simplify 1 @ 2226: 0.08 seconds\n",
      "simplify 2 @ 446: 0.02 seconds\n",
      "time: 15.47\n"
     ]
    },
    {
     "name": "stdout",
     "output_type": "stream",
     "text": [
      "VLL_R\n",
      "rm -rf /home/yuncong/CSHL_volumes/atlasV3/atlasV3_down32_scoreVolume_clf_37_warp_1_MD658_down32_scoreVolume_clf_37/score_volumes/atlasV3_down32_scoreVolume_clf_37_warp_1_MD658_down32_scoreVolume_clf_37_VLL_R.bp && mkdir -p /home/yuncong/CSHL_volumes/atlasV3/atlasV3_down32_scoreVolume_clf_37_warp_1_MD658_down32_scoreVolume_clf_37/score_volumes\n",
      "aws s3 cp s3://mousebrainatlas-data/CSHL_volumes/atlasV3/atlasV3_down32_scoreVolume_clf_37_warp_1_MD658_down32_scoreVolume_clf_37/score_volumes/atlasV3_down32_scoreVolume_clf_37_warp_1_MD658_down32_scoreVolume_clf_37_VLL_R.bp /home/yuncong/CSHL_volumes/atlasV3/atlasV3_down32_scoreVolume_clf_37_warp_1_MD658_down32_scoreVolume_clf_37/score_volumes/atlasV3_down32_scoreVolume_clf_37_warp_1_MD658_down32_scoreVolume_clf_37_VLL_R.bp\n"
     ]
    },
    {
     "name": "stderr",
     "output_type": "stream",
     "text": [
      "Child returned 0\n",
      "Child returned 0\n",
      "1.15 seconds.\n",
      "marching cube: 15.25 seconds\n",
      "mesh_to_polydata: 0.02 seconds\n",
      "simplify 0 @ 10623: 0.11 seconds\n",
      "simplify 1 @ 2126: 0.10 seconds\n",
      "simplify 2 @ 426: 0.02 seconds\n",
      "time: 17.02\n"
     ]
    },
    {
     "name": "stdout",
     "output_type": "stream",
     "text": [
      "RMC_L\n",
      "rm -rf /home/yuncong/CSHL_volumes/atlasV3/atlasV3_down32_scoreVolume_clf_37_warp_1_MD658_down32_scoreVolume_clf_37/score_volumes/atlasV3_down32_scoreVolume_clf_37_warp_1_MD658_down32_scoreVolume_clf_37_RMC_L.bp && mkdir -p /home/yuncong/CSHL_volumes/atlasV3/atlasV3_down32_scoreVolume_clf_37_warp_1_MD658_down32_scoreVolume_clf_37/score_volumes\n",
      "aws s3 cp s3://mousebrainatlas-data/CSHL_volumes/atlasV3/atlasV3_down32_scoreVolume_clf_37_warp_1_MD658_down32_scoreVolume_clf_37/score_volumes/atlasV3_down32_scoreVolume_clf_37_warp_1_MD658_down32_scoreVolume_clf_37_RMC_L.bp /home/yuncong/CSHL_volumes/atlasV3/atlasV3_down32_scoreVolume_clf_37_warp_1_MD658_down32_scoreVolume_clf_37/score_volumes/atlasV3_down32_scoreVolume_clf_37_warp_1_MD658_down32_scoreVolume_clf_37_RMC_L.bp\n"
     ]
    },
    {
     "name": "stderr",
     "output_type": "stream",
     "text": [
      "Child returned 0\n",
      "Child returned 0\n",
      "1.35 seconds.\n",
      "marching cube: 18.18 seconds\n",
      "mesh_to_polydata: 0.01 seconds\n",
      "simplify 0 @ 5419: 0.05 seconds\n",
      "simplify 1 @ 1085: 0.05 seconds\n",
      "simplify 2 @ 218: 0.01 seconds\n",
      "time: 20.12\n"
     ]
    },
    {
     "name": "stdout",
     "output_type": "stream",
     "text": [
      "RMC_R\n",
      "rm -rf /home/yuncong/CSHL_volumes/atlasV3/atlasV3_down32_scoreVolume_clf_37_warp_1_MD658_down32_scoreVolume_clf_37/score_volumes/atlasV3_down32_scoreVolume_clf_37_warp_1_MD658_down32_scoreVolume_clf_37_RMC_R.bp && mkdir -p /home/yuncong/CSHL_volumes/atlasV3/atlasV3_down32_scoreVolume_clf_37_warp_1_MD658_down32_scoreVolume_clf_37/score_volumes\n",
      "aws s3 cp s3://mousebrainatlas-data/CSHL_volumes/atlasV3/atlasV3_down32_scoreVolume_clf_37_warp_1_MD658_down32_scoreVolume_clf_37/score_volumes/atlasV3_down32_scoreVolume_clf_37_warp_1_MD658_down32_scoreVolume_clf_37_RMC_R.bp /home/yuncong/CSHL_volumes/atlasV3/atlasV3_down32_scoreVolume_clf_37_warp_1_MD658_down32_scoreVolume_clf_37/score_volumes/atlasV3_down32_scoreVolume_clf_37_warp_1_MD658_down32_scoreVolume_clf_37_RMC_R.bp\n"
     ]
    },
    {
     "name": "stderr",
     "output_type": "stream",
     "text": [
      "Child returned 0\n",
      "Child returned 0\n",
      "1.42 seconds.\n",
      "marching cube: 14.50 seconds\n",
      "mesh_to_polydata: 0.01 seconds\n",
      "simplify 0 @ 5326: 0.04 seconds\n",
      "simplify 1 @ 1066: 0.04 seconds\n",
      "simplify 2 @ 214: 0.01 seconds\n",
      "time: 16.24\n",
      "Child returned 0\n"
     ]
    },
    {
     "name": "stdout",
     "output_type": "stream",
     "text": [
      "SNC_L\n",
      "rm -rf /home/yuncong/CSHL_volumes/atlasV3/atlasV3_down32_scoreVolume_clf_37_warp_1_MD658_down32_scoreVolume_clf_37/score_volumes/atlasV3_down32_scoreVolume_clf_37_warp_1_MD658_down32_scoreVolume_clf_37_SNC_L.bp && mkdir -p /home/yuncong/CSHL_volumes/atlasV3/atlasV3_down32_scoreVolume_clf_37_warp_1_MD658_down32_scoreVolume_clf_37/score_volumes\n",
      "aws s3 cp s3://mousebrainatlas-data/CSHL_volumes/atlasV3/atlasV3_down32_scoreVolume_clf_37_warp_1_MD658_down32_scoreVolume_clf_37/score_volumes/atlasV3_down32_scoreVolume_clf_37_warp_1_MD658_down32_scoreVolume_clf_37_SNC_L.bp /home/yuncong/CSHL_volumes/atlasV3/atlasV3_down32_scoreVolume_clf_37_warp_1_MD658_down32_scoreVolume_clf_37/score_volumes/atlasV3_down32_scoreVolume_clf_37_warp_1_MD658_down32_scoreVolume_clf_37_SNC_L.bp\n"
     ]
    },
    {
     "name": "stderr",
     "output_type": "stream",
     "text": [
      "Child returned 0\n",
      "1.22 seconds.\n",
      "marching cube: 14.00 seconds\n",
      "mesh_to_polydata: 0.01 seconds\n",
      "simplify 0 @ 6245: 0.05 seconds\n",
      "simplify 1 @ 1250: 0.05 seconds\n",
      "simplify 2 @ 251: 0.01 seconds\n",
      "time: 15.89\n",
      "Child returned 0\n"
     ]
    },
    {
     "name": "stdout",
     "output_type": "stream",
     "text": [
      "SNC_R\n",
      "rm -rf /home/yuncong/CSHL_volumes/atlasV3/atlasV3_down32_scoreVolume_clf_37_warp_1_MD658_down32_scoreVolume_clf_37/score_volumes/atlasV3_down32_scoreVolume_clf_37_warp_1_MD658_down32_scoreVolume_clf_37_SNC_R.bp && mkdir -p /home/yuncong/CSHL_volumes/atlasV3/atlasV3_down32_scoreVolume_clf_37_warp_1_MD658_down32_scoreVolume_clf_37/score_volumes\n",
      "aws s3 cp s3://mousebrainatlas-data/CSHL_volumes/atlasV3/atlasV3_down32_scoreVolume_clf_37_warp_1_MD658_down32_scoreVolume_clf_37/score_volumes/atlasV3_down32_scoreVolume_clf_37_warp_1_MD658_down32_scoreVolume_clf_37_SNC_R.bp /home/yuncong/CSHL_volumes/atlasV3/atlasV3_down32_scoreVolume_clf_37_warp_1_MD658_down32_scoreVolume_clf_37/score_volumes/atlasV3_down32_scoreVolume_clf_37_warp_1_MD658_down32_scoreVolume_clf_37_SNC_R.bp\n"
     ]
    },
    {
     "name": "stderr",
     "output_type": "stream",
     "text": [
      "Child returned 0\n",
      "1.17 seconds.\n",
      "marching cube: 12.75 seconds\n",
      "mesh_to_polydata: 0.01 seconds\n",
      "simplify 0 @ 6433: 0.05 seconds\n",
      "simplify 1 @ 1288: 0.05 seconds\n",
      "simplify 2 @ 259: 0.01 seconds\n",
      "time: 14.71\n",
      "Child returned 0\n"
     ]
    },
    {
     "name": "stdout",
     "output_type": "stream",
     "text": [
      "SNR_L\n",
      "rm -rf /home/yuncong/CSHL_volumes/atlasV3/atlasV3_down32_scoreVolume_clf_37_warp_1_MD658_down32_scoreVolume_clf_37/score_volumes/atlasV3_down32_scoreVolume_clf_37_warp_1_MD658_down32_scoreVolume_clf_37_SNR_L.bp && mkdir -p /home/yuncong/CSHL_volumes/atlasV3/atlasV3_down32_scoreVolume_clf_37_warp_1_MD658_down32_scoreVolume_clf_37/score_volumes\n",
      "aws s3 cp s3://mousebrainatlas-data/CSHL_volumes/atlasV3/atlasV3_down32_scoreVolume_clf_37_warp_1_MD658_down32_scoreVolume_clf_37/score_volumes/atlasV3_down32_scoreVolume_clf_37_warp_1_MD658_down32_scoreVolume_clf_37_SNR_L.bp /home/yuncong/CSHL_volumes/atlasV3/atlasV3_down32_scoreVolume_clf_37_warp_1_MD658_down32_scoreVolume_clf_37/score_volumes/atlasV3_down32_scoreVolume_clf_37_warp_1_MD658_down32_scoreVolume_clf_37_SNR_L.bp\n"
     ]
    },
    {
     "name": "stderr",
     "output_type": "stream",
     "text": [
      "Child returned 0\n",
      "1.26 seconds.\n",
      "marching cube: 12.83 seconds\n",
      "mesh_to_polydata: 0.04 seconds\n",
      "simplify 0 @ 26689: 0.22 seconds\n",
      "simplify 1 @ 5340: 0.27 seconds\n",
      "simplify 2 @ 1069: 0.05 seconds\n",
      "time: 15.25\n"
     ]
    },
    {
     "name": "stdout",
     "output_type": "stream",
     "text": [
      "SNR_R\n",
      "rm -rf /home/yuncong/CSHL_volumes/atlasV3/atlasV3_down32_scoreVolume_clf_37_warp_1_MD658_down32_scoreVolume_clf_37/score_volumes/atlasV3_down32_scoreVolume_clf_37_warp_1_MD658_down32_scoreVolume_clf_37_SNR_R.bp && mkdir -p /home/yuncong/CSHL_volumes/atlasV3/atlasV3_down32_scoreVolume_clf_37_warp_1_MD658_down32_scoreVolume_clf_37/score_volumes\n",
      "aws s3 cp s3://mousebrainatlas-data/CSHL_volumes/atlasV3/atlasV3_down32_scoreVolume_clf_37_warp_1_MD658_down32_scoreVolume_clf_37/score_volumes/atlasV3_down32_scoreVolume_clf_37_warp_1_MD658_down32_scoreVolume_clf_37_SNR_R.bp /home/yuncong/CSHL_volumes/atlasV3/atlasV3_down32_scoreVolume_clf_37_warp_1_MD658_down32_scoreVolume_clf_37/score_volumes/atlasV3_down32_scoreVolume_clf_37_warp_1_MD658_down32_scoreVolume_clf_37_SNR_R.bp\n"
     ]
    },
    {
     "name": "stderr",
     "output_type": "stream",
     "text": [
      "Child returned 0\n",
      "Child returned 0\n",
      "1.29 seconds.\n",
      "marching cube: 18.01 seconds\n",
      "mesh_to_polydata: 0.04 seconds\n",
      "simplify 0 @ 27044: 0.26 seconds\n",
      "simplify 1 @ 5412: 0.31 seconds\n",
      "simplify 2 @ 1083: 0.06 seconds\n",
      "time: 20.50\n"
     ]
    },
    {
     "name": "stdout",
     "output_type": "stream",
     "text": [
      "3N_L\n",
      "rm -rf /home/yuncong/CSHL_volumes/atlasV3/atlasV3_down32_scoreVolume_clf_37_warp_1_MD658_down32_scoreVolume_clf_37/score_volumes/atlasV3_down32_scoreVolume_clf_37_warp_1_MD658_down32_scoreVolume_clf_37_3N_L.bp && mkdir -p /home/yuncong/CSHL_volumes/atlasV3/atlasV3_down32_scoreVolume_clf_37_warp_1_MD658_down32_scoreVolume_clf_37/score_volumes\n",
      "aws s3 cp s3://mousebrainatlas-data/CSHL_volumes/atlasV3/atlasV3_down32_scoreVolume_clf_37_warp_1_MD658_down32_scoreVolume_clf_37/score_volumes/atlasV3_down32_scoreVolume_clf_37_warp_1_MD658_down32_scoreVolume_clf_37_3N_L.bp /home/yuncong/CSHL_volumes/atlasV3/atlasV3_down32_scoreVolume_clf_37_warp_1_MD658_down32_scoreVolume_clf_37/score_volumes/atlasV3_down32_scoreVolume_clf_37_warp_1_MD658_down32_scoreVolume_clf_37_3N_L.bp\n"
     ]
    },
    {
     "name": "stderr",
     "output_type": "stream",
     "text": [
      "Child returned 0\n",
      "Child returned 0\n",
      "1.19 seconds.\n",
      "marching cube: 12.95 seconds\n",
      "mesh_to_polydata: 0.00 seconds\n",
      "simplify 0 @ 2328: 0.02 seconds\n",
      "simplify 1 @ 467: 0.02 seconds\n",
      "time: 14.79\n",
      "Child returned 0\n"
     ]
    },
    {
     "name": "stdout",
     "output_type": "stream",
     "text": [
      "3N_R\n",
      "rm -rf /home/yuncong/CSHL_volumes/atlasV3/atlasV3_down32_scoreVolume_clf_37_warp_1_MD658_down32_scoreVolume_clf_37/score_volumes/atlasV3_down32_scoreVolume_clf_37_warp_1_MD658_down32_scoreVolume_clf_37_3N_R.bp && mkdir -p /home/yuncong/CSHL_volumes/atlasV3/atlasV3_down32_scoreVolume_clf_37_warp_1_MD658_down32_scoreVolume_clf_37/score_volumes\n",
      "aws s3 cp s3://mousebrainatlas-data/CSHL_volumes/atlasV3/atlasV3_down32_scoreVolume_clf_37_warp_1_MD658_down32_scoreVolume_clf_37/score_volumes/atlasV3_down32_scoreVolume_clf_37_warp_1_MD658_down32_scoreVolume_clf_37_3N_R.bp /home/yuncong/CSHL_volumes/atlasV3/atlasV3_down32_scoreVolume_clf_37_warp_1_MD658_down32_scoreVolume_clf_37/score_volumes/atlasV3_down32_scoreVolume_clf_37_warp_1_MD658_down32_scoreVolume_clf_37_3N_R.bp\n"
     ]
    },
    {
     "name": "stderr",
     "output_type": "stream",
     "text": [
      "Child returned 0\n",
      "1.26 seconds.\n",
      "marching cube: 14.08 seconds\n",
      "mesh_to_polydata: 0.00 seconds\n",
      "simplify 0 @ 2354: 0.02 seconds\n",
      "simplify 1 @ 472: 0.02 seconds\n",
      "time: 15.93\n",
      "Child returned 0\n"
     ]
    },
    {
     "name": "stdout",
     "output_type": "stream",
     "text": [
      "4N_L\n",
      "rm -rf /home/yuncong/CSHL_volumes/atlasV3/atlasV3_down32_scoreVolume_clf_37_warp_1_MD658_down32_scoreVolume_clf_37/score_volumes/atlasV3_down32_scoreVolume_clf_37_warp_1_MD658_down32_scoreVolume_clf_37_4N_L.bp && mkdir -p /home/yuncong/CSHL_volumes/atlasV3/atlasV3_down32_scoreVolume_clf_37_warp_1_MD658_down32_scoreVolume_clf_37/score_volumes\n",
      "aws s3 cp s3://mousebrainatlas-data/CSHL_volumes/atlasV3/atlasV3_down32_scoreVolume_clf_37_warp_1_MD658_down32_scoreVolume_clf_37/score_volumes/atlasV3_down32_scoreVolume_clf_37_warp_1_MD658_down32_scoreVolume_clf_37_4N_L.bp /home/yuncong/CSHL_volumes/atlasV3/atlasV3_down32_scoreVolume_clf_37_warp_1_MD658_down32_scoreVolume_clf_37/score_volumes/atlasV3_down32_scoreVolume_clf_37_warp_1_MD658_down32_scoreVolume_clf_37_4N_L.bp\n"
     ]
    },
    {
     "name": "stderr",
     "output_type": "stream",
     "text": [
      "Child returned 0\n",
      "1.23 seconds.\n",
      "marching cube: 17.03 seconds\n",
      "mesh_to_polydata: 0.00 seconds\n",
      "simplify 0 @ 447: 0.00 seconds\n",
      "time: 19.69\n",
      "Child returned 0\n"
     ]
    },
    {
     "name": "stdout",
     "output_type": "stream",
     "text": [
      "4N_R\n",
      "rm -rf /home/yuncong/CSHL_volumes/atlasV3/atlasV3_down32_scoreVolume_clf_37_warp_1_MD658_down32_scoreVolume_clf_37/score_volumes/atlasV3_down32_scoreVolume_clf_37_warp_1_MD658_down32_scoreVolume_clf_37_4N_R.bp && mkdir -p /home/yuncong/CSHL_volumes/atlasV3/atlasV3_down32_scoreVolume_clf_37_warp_1_MD658_down32_scoreVolume_clf_37/score_volumes\n",
      "aws s3 cp s3://mousebrainatlas-data/CSHL_volumes/atlasV3/atlasV3_down32_scoreVolume_clf_37_warp_1_MD658_down32_scoreVolume_clf_37/score_volumes/atlasV3_down32_scoreVolume_clf_37_warp_1_MD658_down32_scoreVolume_clf_37_4N_R.bp /home/yuncong/CSHL_volumes/atlasV3/atlasV3_down32_scoreVolume_clf_37_warp_1_MD658_down32_scoreVolume_clf_37/score_volumes/atlasV3_down32_scoreVolume_clf_37_warp_1_MD658_down32_scoreVolume_clf_37_4N_R.bp\n"
     ]
    },
    {
     "name": "stderr",
     "output_type": "stream",
     "text": [
      "Child returned 0\n",
      "1.23 seconds.\n",
      "marching cube: 14.84 seconds\n",
      "mesh_to_polydata: 0.00 seconds\n",
      "simplify 0 @ 439: 0.01 seconds\n",
      "time: 16.60\n",
      "Child returned 0\n"
     ]
    },
    {
     "name": "stdout",
     "output_type": "stream",
     "text": [
      "Sp5I_L\n",
      "rm -rf /home/yuncong/CSHL_volumes/atlasV3/atlasV3_down32_scoreVolume_clf_37_warp_1_MD658_down32_scoreVolume_clf_37/score_volumes/atlasV3_down32_scoreVolume_clf_37_warp_1_MD658_down32_scoreVolume_clf_37_Sp5I_L.bp && mkdir -p /home/yuncong/CSHL_volumes/atlasV3/atlasV3_down32_scoreVolume_clf_37_warp_1_MD658_down32_scoreVolume_clf_37/score_volumes\n",
      "aws s3 cp s3://mousebrainatlas-data/CSHL_volumes/atlasV3/atlasV3_down32_scoreVolume_clf_37_warp_1_MD658_down32_scoreVolume_clf_37/score_volumes/atlasV3_down32_scoreVolume_clf_37_warp_1_MD658_down32_scoreVolume_clf_37_Sp5I_L.bp /home/yuncong/CSHL_volumes/atlasV3/atlasV3_down32_scoreVolume_clf_37_warp_1_MD658_down32_scoreVolume_clf_37/score_volumes/atlasV3_down32_scoreVolume_clf_37_warp_1_MD658_down32_scoreVolume_clf_37_Sp5I_L.bp\n"
     ]
    },
    {
     "name": "stderr",
     "output_type": "stream",
     "text": [
      "Child returned 0\n",
      "6.49 seconds.\n",
      "marching cube: 17.36 seconds\n",
      "mesh_to_polydata: 0.02 seconds\n",
      "simplify 0 @ 9777: 0.12 seconds\n",
      "simplify 1 @ 1957: 0.10 seconds\n",
      "simplify 2 @ 392: 0.02 seconds\n",
      "time: 19.50\n"
     ]
    },
    {
     "name": "stdout",
     "output_type": "stream",
     "text": [
      "Sp5I_R\n",
      "rm -rf /home/yuncong/CSHL_volumes/atlasV3/atlasV3_down32_scoreVolume_clf_37_warp_1_MD658_down32_scoreVolume_clf_37/score_volumes/atlasV3_down32_scoreVolume_clf_37_warp_1_MD658_down32_scoreVolume_clf_37_Sp5I_R.bp && mkdir -p /home/yuncong/CSHL_volumes/atlasV3/atlasV3_down32_scoreVolume_clf_37_warp_1_MD658_down32_scoreVolume_clf_37/score_volumes\n",
      "aws s3 cp s3://mousebrainatlas-data/CSHL_volumes/atlasV3/atlasV3_down32_scoreVolume_clf_37_warp_1_MD658_down32_scoreVolume_clf_37/score_volumes/atlasV3_down32_scoreVolume_clf_37_warp_1_MD658_down32_scoreVolume_clf_37_Sp5I_R.bp /home/yuncong/CSHL_volumes/atlasV3/atlasV3_down32_scoreVolume_clf_37_warp_1_MD658_down32_scoreVolume_clf_37/score_volumes/atlasV3_down32_scoreVolume_clf_37_warp_1_MD658_down32_scoreVolume_clf_37_Sp5I_R.bp\n"
     ]
    },
    {
     "name": "stderr",
     "output_type": "stream",
     "text": [
      "Child returned 0\n",
      "Child returned 0\n",
      "1.27 seconds.\n",
      "marching cube: 13.14 seconds\n",
      "mesh_to_polydata: 0.03 seconds\n",
      "simplify 0 @ 9880: 0.11 seconds\n",
      "simplify 1 @ 1977: 0.09 seconds\n",
      "simplify 2 @ 397: 0.02 seconds\n",
      "time: 15.25\n"
     ]
    },
    {
     "name": "stdout",
     "output_type": "stream",
     "text": [
      "Sp5O_L\n",
      "rm -rf /home/yuncong/CSHL_volumes/atlasV3/atlasV3_down32_scoreVolume_clf_37_warp_1_MD658_down32_scoreVolume_clf_37/score_volumes/atlasV3_down32_scoreVolume_clf_37_warp_1_MD658_down32_scoreVolume_clf_37_Sp5O_L.bp && mkdir -p /home/yuncong/CSHL_volumes/atlasV3/atlasV3_down32_scoreVolume_clf_37_warp_1_MD658_down32_scoreVolume_clf_37/score_volumes\n",
      "aws s3 cp s3://mousebrainatlas-data/CSHL_volumes/atlasV3/atlasV3_down32_scoreVolume_clf_37_warp_1_MD658_down32_scoreVolume_clf_37/score_volumes/atlasV3_down32_scoreVolume_clf_37_warp_1_MD658_down32_scoreVolume_clf_37_Sp5O_L.bp /home/yuncong/CSHL_volumes/atlasV3/atlasV3_down32_scoreVolume_clf_37_warp_1_MD658_down32_scoreVolume_clf_37/score_volumes/atlasV3_down32_scoreVolume_clf_37_warp_1_MD658_down32_scoreVolume_clf_37_Sp5O_L.bp\n"
     ]
    },
    {
     "name": "stderr",
     "output_type": "stream",
     "text": [
      "Child returned 0\n",
      "Child returned 0\n",
      "1.26 seconds.\n",
      "marching cube: 13.14 seconds\n",
      "mesh_to_polydata: 0.02 seconds\n",
      "simplify 0 @ 11056: 0.14 seconds\n",
      "simplify 1 @ 2213: 0.08 seconds\n",
      "simplify 2 @ 444: 0.02 seconds\n",
      "time: 15.21\n"
     ]
    },
    {
     "name": "stdout",
     "output_type": "stream",
     "text": [
      "Sp5O_R\n",
      "rm -rf /home/yuncong/CSHL_volumes/atlasV3/atlasV3_down32_scoreVolume_clf_37_warp_1_MD658_down32_scoreVolume_clf_37/score_volumes/atlasV3_down32_scoreVolume_clf_37_warp_1_MD658_down32_scoreVolume_clf_37_Sp5O_R.bp && mkdir -p /home/yuncong/CSHL_volumes/atlasV3/atlasV3_down32_scoreVolume_clf_37_warp_1_MD658_down32_scoreVolume_clf_37/score_volumes\n",
      "aws s3 cp s3://mousebrainatlas-data/CSHL_volumes/atlasV3/atlasV3_down32_scoreVolume_clf_37_warp_1_MD658_down32_scoreVolume_clf_37/score_volumes/atlasV3_down32_scoreVolume_clf_37_warp_1_MD658_down32_scoreVolume_clf_37_Sp5O_R.bp /home/yuncong/CSHL_volumes/atlasV3/atlasV3_down32_scoreVolume_clf_37_warp_1_MD658_down32_scoreVolume_clf_37/score_volumes/atlasV3_down32_scoreVolume_clf_37_warp_1_MD658_down32_scoreVolume_clf_37_Sp5O_R.bp\n"
     ]
    },
    {
     "name": "stderr",
     "output_type": "stream",
     "text": [
      "Child returned 0\n",
      "Child returned 0\n",
      "1.52 seconds.\n",
      "marching cube: 17.60 seconds\n",
      "mesh_to_polydata: 0.02 seconds\n",
      "simplify 0 @ 11856: 0.13 seconds\n",
      "simplify 1 @ 2370: 0.09 seconds\n",
      "simplify 2 @ 476: 0.02 seconds\n",
      "time: 19.66\n"
     ]
    },
    {
     "name": "stdout",
     "output_type": "stream",
     "text": [
      "Sp5C_L\n",
      "rm -rf /home/yuncong/CSHL_volumes/atlasV3/atlasV3_down32_scoreVolume_clf_37_warp_1_MD658_down32_scoreVolume_clf_37/score_volumes/atlasV3_down32_scoreVolume_clf_37_warp_1_MD658_down32_scoreVolume_clf_37_Sp5C_L.bp && mkdir -p /home/yuncong/CSHL_volumes/atlasV3/atlasV3_down32_scoreVolume_clf_37_warp_1_MD658_down32_scoreVolume_clf_37/score_volumes\n",
      "aws s3 cp s3://mousebrainatlas-data/CSHL_volumes/atlasV3/atlasV3_down32_scoreVolume_clf_37_warp_1_MD658_down32_scoreVolume_clf_37/score_volumes/atlasV3_down32_scoreVolume_clf_37_warp_1_MD658_down32_scoreVolume_clf_37_Sp5C_L.bp /home/yuncong/CSHL_volumes/atlasV3/atlasV3_down32_scoreVolume_clf_37_warp_1_MD658_down32_scoreVolume_clf_37/score_volumes/atlasV3_down32_scoreVolume_clf_37_warp_1_MD658_down32_scoreVolume_clf_37_Sp5C_L.bp\n"
     ]
    },
    {
     "name": "stderr",
     "output_type": "stream",
     "text": [
      "Child returned 0\n",
      "Child returned 0\n",
      "1.17 seconds.\n",
      "marching cube: 14.78 seconds\n",
      "mesh_to_polydata: 0.04 seconds\n",
      "simplify 0 @ 28250: 0.26 seconds\n",
      "simplify 1 @ 5651: 0.28 seconds\n",
      "simplify 2 @ 1131: 0.06 seconds\n",
      "time: 17.20\n"
     ]
    },
    {
     "name": "stdout",
     "output_type": "stream",
     "text": [
      "Sp5C_R\n",
      "rm -rf /home/yuncong/CSHL_volumes/atlasV3/atlasV3_down32_scoreVolume_clf_37_warp_1_MD658_down32_scoreVolume_clf_37/score_volumes/atlasV3_down32_scoreVolume_clf_37_warp_1_MD658_down32_scoreVolume_clf_37_Sp5C_R.bp && mkdir -p /home/yuncong/CSHL_volumes/atlasV3/atlasV3_down32_scoreVolume_clf_37_warp_1_MD658_down32_scoreVolume_clf_37/score_volumes\n",
      "aws s3 cp s3://mousebrainatlas-data/CSHL_volumes/atlasV3/atlasV3_down32_scoreVolume_clf_37_warp_1_MD658_down32_scoreVolume_clf_37/score_volumes/atlasV3_down32_scoreVolume_clf_37_warp_1_MD658_down32_scoreVolume_clf_37_Sp5C_R.bp /home/yuncong/CSHL_volumes/atlasV3/atlasV3_down32_scoreVolume_clf_37_warp_1_MD658_down32_scoreVolume_clf_37/score_volumes/atlasV3_down32_scoreVolume_clf_37_warp_1_MD658_down32_scoreVolume_clf_37_Sp5C_R.bp\n"
     ]
    },
    {
     "name": "stderr",
     "output_type": "stream",
     "text": [
      "Child returned 0\n",
      "Child returned 0\n",
      "1.31 seconds.\n",
      "marching cube: 13.01 seconds\n",
      "mesh_to_polydata: 0.04 seconds\n",
      "simplify 0 @ 27596: 0.29 seconds\n",
      "simplify 1 @ 5520: 0.31 seconds\n",
      "simplify 2 @ 1105: 0.10 seconds\n",
      "time: 15.56\n"
     ]
    },
    {
     "name": "stdout",
     "output_type": "stream",
     "text": [
      "PBG_L\n",
      "rm -rf /home/yuncong/CSHL_volumes/atlasV3/atlasV3_down32_scoreVolume_clf_37_warp_1_MD658_down32_scoreVolume_clf_37/score_volumes/atlasV3_down32_scoreVolume_clf_37_warp_1_MD658_down32_scoreVolume_clf_37_PBG_L.bp && mkdir -p /home/yuncong/CSHL_volumes/atlasV3/atlasV3_down32_scoreVolume_clf_37_warp_1_MD658_down32_scoreVolume_clf_37/score_volumes\n",
      "aws s3 cp s3://mousebrainatlas-data/CSHL_volumes/atlasV3/atlasV3_down32_scoreVolume_clf_37_warp_1_MD658_down32_scoreVolume_clf_37/score_volumes/atlasV3_down32_scoreVolume_clf_37_warp_1_MD658_down32_scoreVolume_clf_37_PBG_L.bp /home/yuncong/CSHL_volumes/atlasV3/atlasV3_down32_scoreVolume_clf_37_warp_1_MD658_down32_scoreVolume_clf_37/score_volumes/atlasV3_down32_scoreVolume_clf_37_warp_1_MD658_down32_scoreVolume_clf_37_PBG_L.bp\n"
     ]
    },
    {
     "name": "stderr",
     "output_type": "stream",
     "text": [
      "Child returned 0\n",
      "Child returned 0\n",
      "1.72 seconds.\n",
      "marching cube: 15.02 seconds\n",
      "mesh_to_polydata: 0.01 seconds\n",
      "simplify 0 @ 1836: 0.03 seconds\n",
      "simplify 1 @ 368: 0.03 seconds\n",
      "time: 18.51\n"
     ]
    },
    {
     "name": "stdout",
     "output_type": "stream",
     "text": [
      "PBG_R\n",
      "rm -rf /home/yuncong/CSHL_volumes/atlasV3/atlasV3_down32_scoreVolume_clf_37_warp_1_MD658_down32_scoreVolume_clf_37/score_volumes/atlasV3_down32_scoreVolume_clf_37_warp_1_MD658_down32_scoreVolume_clf_37_PBG_R.bp && mkdir -p /home/yuncong/CSHL_volumes/atlasV3/atlasV3_down32_scoreVolume_clf_37_warp_1_MD658_down32_scoreVolume_clf_37/score_volumes\n",
      "aws s3 cp s3://mousebrainatlas-data/CSHL_volumes/atlasV3/atlasV3_down32_scoreVolume_clf_37_warp_1_MD658_down32_scoreVolume_clf_37/score_volumes/atlasV3_down32_scoreVolume_clf_37_warp_1_MD658_down32_scoreVolume_clf_37_PBG_R.bp /home/yuncong/CSHL_volumes/atlasV3/atlasV3_down32_scoreVolume_clf_37_warp_1_MD658_down32_scoreVolume_clf_37/score_volumes/atlasV3_down32_scoreVolume_clf_37_warp_1_MD658_down32_scoreVolume_clf_37_PBG_R.bp\n"
     ]
    },
    {
     "name": "stderr",
     "output_type": "stream",
     "text": [
      "Child returned 0\n",
      "Child returned 0\n",
      "1.62 seconds.\n",
      "marching cube: 15.09 seconds\n",
      "mesh_to_polydata: 0.01 seconds\n",
      "simplify 0 @ 1793: 0.03 seconds\n",
      "simplify 1 @ 360: 0.03 seconds\n",
      "time: 18.50\n"
     ]
    },
    {
     "name": "stdout",
     "output_type": "stream",
     "text": [
      "10N_L\n",
      "rm -rf /home/yuncong/CSHL_volumes/atlasV3/atlasV3_down32_scoreVolume_clf_37_warp_1_MD658_down32_scoreVolume_clf_37/score_volumes/atlasV3_down32_scoreVolume_clf_37_warp_1_MD658_down32_scoreVolume_clf_37_10N_L.bp && mkdir -p /home/yuncong/CSHL_volumes/atlasV3/atlasV3_down32_scoreVolume_clf_37_warp_1_MD658_down32_scoreVolume_clf_37/score_volumes\n",
      "aws s3 cp s3://mousebrainatlas-data/CSHL_volumes/atlasV3/atlasV3_down32_scoreVolume_clf_37_warp_1_MD658_down32_scoreVolume_clf_37/score_volumes/atlasV3_down32_scoreVolume_clf_37_warp_1_MD658_down32_scoreVolume_clf_37_10N_L.bp /home/yuncong/CSHL_volumes/atlasV3/atlasV3_down32_scoreVolume_clf_37_warp_1_MD658_down32_scoreVolume_clf_37/score_volumes/atlasV3_down32_scoreVolume_clf_37_warp_1_MD658_down32_scoreVolume_clf_37_10N_L.bp\n"
     ]
    },
    {
     "name": "stderr",
     "output_type": "stream",
     "text": [
      "Child returned 0\n",
      "Child returned 0\n",
      "1.82 seconds.\n",
      "marching cube: 14.54 seconds\n",
      "mesh_to_polydata: 0.01 seconds\n",
      "simplify 0 @ 3515: 0.06 seconds\n",
      "simplify 1 @ 705: 0.06 seconds\n",
      "time: 17.97\n"
     ]
    },
    {
     "name": "stdout",
     "output_type": "stream",
     "text": [
      "10N_R\n",
      "rm -rf /home/yuncong/CSHL_volumes/atlasV3/atlasV3_down32_scoreVolume_clf_37_warp_1_MD658_down32_scoreVolume_clf_37/score_volumes/atlasV3_down32_scoreVolume_clf_37_warp_1_MD658_down32_scoreVolume_clf_37_10N_R.bp && mkdir -p /home/yuncong/CSHL_volumes/atlasV3/atlasV3_down32_scoreVolume_clf_37_warp_1_MD658_down32_scoreVolume_clf_37/score_volumes\n",
      "aws s3 cp s3://mousebrainatlas-data/CSHL_volumes/atlasV3/atlasV3_down32_scoreVolume_clf_37_warp_1_MD658_down32_scoreVolume_clf_37/score_volumes/atlasV3_down32_scoreVolume_clf_37_warp_1_MD658_down32_scoreVolume_clf_37_10N_R.bp /home/yuncong/CSHL_volumes/atlasV3/atlasV3_down32_scoreVolume_clf_37_warp_1_MD658_down32_scoreVolume_clf_37/score_volumes/atlasV3_down32_scoreVolume_clf_37_warp_1_MD658_down32_scoreVolume_clf_37_10N_R.bp\n"
     ]
    },
    {
     "name": "stderr",
     "output_type": "stream",
     "text": [
      "Child returned 0\n",
      "Child returned 0\n",
      "1.70 seconds.\n",
      "marching cube: 14.04 seconds\n",
      "mesh_to_polydata: 0.01 seconds\n",
      "simplify 0 @ 3579: 0.03 seconds\n",
      "simplify 1 @ 718: 0.03 seconds\n",
      "time: 17.45\n"
     ]
    },
    {
     "name": "stdout",
     "output_type": "stream",
     "text": [
      "VCA_L\n",
      "rm -rf /home/yuncong/CSHL_volumes/atlasV3/atlasV3_down32_scoreVolume_clf_37_warp_1_MD658_down32_scoreVolume_clf_37/score_volumes/atlasV3_down32_scoreVolume_clf_37_warp_1_MD658_down32_scoreVolume_clf_37_VCA_L.bp && mkdir -p /home/yuncong/CSHL_volumes/atlasV3/atlasV3_down32_scoreVolume_clf_37_warp_1_MD658_down32_scoreVolume_clf_37/score_volumes\n",
      "aws s3 cp s3://mousebrainatlas-data/CSHL_volumes/atlasV3/atlasV3_down32_scoreVolume_clf_37_warp_1_MD658_down32_scoreVolume_clf_37/score_volumes/atlasV3_down32_scoreVolume_clf_37_warp_1_MD658_down32_scoreVolume_clf_37_VCA_L.bp /home/yuncong/CSHL_volumes/atlasV3/atlasV3_down32_scoreVolume_clf_37_warp_1_MD658_down32_scoreVolume_clf_37/score_volumes/atlasV3_down32_scoreVolume_clf_37_warp_1_MD658_down32_scoreVolume_clf_37_VCA_L.bp\n"
     ]
    },
    {
     "name": "stderr",
     "output_type": "stream",
     "text": [
      "Child returned 0\n",
      "Child returned 0\n",
      "1.72 seconds.\n",
      "marching cube: 14.69 seconds\n",
      "mesh_to_polydata: 0.01 seconds\n",
      "simplify 0 @ 11851: 0.09 seconds\n",
      "simplify 1 @ 2371: 0.09 seconds\n",
      "simplify 2 @ 475: 0.02 seconds\n",
      "time: 18.33\n"
     ]
    },
    {
     "name": "stdout",
     "output_type": "stream",
     "text": [
      "VCA_R\n",
      "rm -rf /home/yuncong/CSHL_volumes/atlasV3/atlasV3_down32_scoreVolume_clf_37_warp_1_MD658_down32_scoreVolume_clf_37/score_volumes/atlasV3_down32_scoreVolume_clf_37_warp_1_MD658_down32_scoreVolume_clf_37_VCA_R.bp && mkdir -p /home/yuncong/CSHL_volumes/atlasV3/atlasV3_down32_scoreVolume_clf_37_warp_1_MD658_down32_scoreVolume_clf_37/score_volumes\n",
      "aws s3 cp s3://mousebrainatlas-data/CSHL_volumes/atlasV3/atlasV3_down32_scoreVolume_clf_37_warp_1_MD658_down32_scoreVolume_clf_37/score_volumes/atlasV3_down32_scoreVolume_clf_37_warp_1_MD658_down32_scoreVolume_clf_37_VCA_R.bp /home/yuncong/CSHL_volumes/atlasV3/atlasV3_down32_scoreVolume_clf_37_warp_1_MD658_down32_scoreVolume_clf_37/score_volumes/atlasV3_down32_scoreVolume_clf_37_warp_1_MD658_down32_scoreVolume_clf_37_VCA_R.bp\n"
     ]
    },
    {
     "name": "stderr",
     "output_type": "stream",
     "text": [
      "Child returned 0\n",
      "Child returned 0\n",
      "1.22 seconds.\n",
      "marching cube: 18.30 seconds\n",
      "mesh_to_polydata: 0.02 seconds\n",
      "simplify 0 @ 11992: 0.12 seconds\n",
      "simplify 1 @ 2400: 0.12 seconds\n",
      "simplify 2 @ 481: 0.03 seconds\n",
      "time: 20.44\n"
     ]
    },
    {
     "name": "stdout",
     "output_type": "stream",
     "text": [
      "VCP_L\n",
      "rm -rf /home/yuncong/CSHL_volumes/atlasV3/atlasV3_down32_scoreVolume_clf_37_warp_1_MD658_down32_scoreVolume_clf_37/score_volumes/atlasV3_down32_scoreVolume_clf_37_warp_1_MD658_down32_scoreVolume_clf_37_VCP_L.bp && mkdir -p /home/yuncong/CSHL_volumes/atlasV3/atlasV3_down32_scoreVolume_clf_37_warp_1_MD658_down32_scoreVolume_clf_37/score_volumes\n",
      "aws s3 cp s3://mousebrainatlas-data/CSHL_volumes/atlasV3/atlasV3_down32_scoreVolume_clf_37_warp_1_MD658_down32_scoreVolume_clf_37/score_volumes/atlasV3_down32_scoreVolume_clf_37_warp_1_MD658_down32_scoreVolume_clf_37_VCP_L.bp /home/yuncong/CSHL_volumes/atlasV3/atlasV3_down32_scoreVolume_clf_37_warp_1_MD658_down32_scoreVolume_clf_37/score_volumes/atlasV3_down32_scoreVolume_clf_37_warp_1_MD658_down32_scoreVolume_clf_37_VCP_L.bp\n"
     ]
    },
    {
     "name": "stderr",
     "output_type": "stream",
     "text": [
      "Child returned 0\n",
      "Child returned 0\n",
      "1.28 seconds.\n",
      "marching cube: 15.68 seconds\n",
      "mesh_to_polydata: 0.01 seconds\n",
      "simplify 0 @ 5801: 0.08 seconds\n",
      "simplify 1 @ 1162: 0.08 seconds\n",
      "simplify 2 @ 233: 0.02 seconds\n",
      "time: 17.85\n"
     ]
    },
    {
     "name": "stdout",
     "output_type": "stream",
     "text": [
      "VCP_R\n",
      "rm -rf /home/yuncong/CSHL_volumes/atlasV3/atlasV3_down32_scoreVolume_clf_37_warp_1_MD658_down32_scoreVolume_clf_37/score_volumes/atlasV3_down32_scoreVolume_clf_37_warp_1_MD658_down32_scoreVolume_clf_37_VCP_R.bp && mkdir -p /home/yuncong/CSHL_volumes/atlasV3/atlasV3_down32_scoreVolume_clf_37_warp_1_MD658_down32_scoreVolume_clf_37/score_volumes\n",
      "aws s3 cp s3://mousebrainatlas-data/CSHL_volumes/atlasV3/atlasV3_down32_scoreVolume_clf_37_warp_1_MD658_down32_scoreVolume_clf_37/score_volumes/atlasV3_down32_scoreVolume_clf_37_warp_1_MD658_down32_scoreVolume_clf_37_VCP_R.bp /home/yuncong/CSHL_volumes/atlasV3/atlasV3_down32_scoreVolume_clf_37_warp_1_MD658_down32_scoreVolume_clf_37/score_volumes/atlasV3_down32_scoreVolume_clf_37_warp_1_MD658_down32_scoreVolume_clf_37_VCP_R.bp\n"
     ]
    },
    {
     "name": "stderr",
     "output_type": "stream",
     "text": [
      "Child returned 0\n",
      "Child returned 0\n",
      "1.44 seconds.\n",
      "marching cube: 13.68 seconds\n",
      "mesh_to_polydata: 0.01 seconds\n",
      "simplify 0 @ 5869: 0.04 seconds\n",
      "simplify 1 @ 1175: 0.04 seconds\n",
      "simplify 2 @ 236: 0.01 seconds\n",
      "time: 16.29\n",
      "Child returned 0\n"
     ]
    },
    {
     "name": "stdout",
     "output_type": "stream",
     "text": [
      "DC_L\n",
      "rm -rf /home/yuncong/CSHL_volumes/atlasV3/atlasV3_down32_scoreVolume_clf_37_warp_1_MD658_down32_scoreVolume_clf_37/score_volumes/atlasV3_down32_scoreVolume_clf_37_warp_1_MD658_down32_scoreVolume_clf_37_DC_L.bp && mkdir -p /home/yuncong/CSHL_volumes/atlasV3/atlasV3_down32_scoreVolume_clf_37_warp_1_MD658_down32_scoreVolume_clf_37/score_volumes\n",
      "aws s3 cp s3://mousebrainatlas-data/CSHL_volumes/atlasV3/atlasV3_down32_scoreVolume_clf_37_warp_1_MD658_down32_scoreVolume_clf_37/score_volumes/atlasV3_down32_scoreVolume_clf_37_warp_1_MD658_down32_scoreVolume_clf_37_DC_L.bp /home/yuncong/CSHL_volumes/atlasV3/atlasV3_down32_scoreVolume_clf_37_warp_1_MD658_down32_scoreVolume_clf_37/score_volumes/atlasV3_down32_scoreVolume_clf_37_warp_1_MD658_down32_scoreVolume_clf_37_DC_L.bp\n"
     ]
    },
    {
     "name": "stderr",
     "output_type": "stream",
     "text": [
      "Child returned 0\n",
      "1.27 seconds.\n",
      "marching cube: 15.11 seconds\n",
      "mesh_to_polydata: 0.02 seconds\n",
      "simplify 0 @ 11256: 0.11 seconds\n",
      "simplify 1 @ 2252: 0.11 seconds\n",
      "simplify 2 @ 452: 0.02 seconds\n",
      "time: 17.08\n"
     ]
    },
    {
     "name": "stdout",
     "output_type": "stream",
     "text": [
      "DC_R\n",
      "rm -rf /home/yuncong/CSHL_volumes/atlasV3/atlasV3_down32_scoreVolume_clf_37_warp_1_MD658_down32_scoreVolume_clf_37/score_volumes/atlasV3_down32_scoreVolume_clf_37_warp_1_MD658_down32_scoreVolume_clf_37_DC_R.bp && mkdir -p /home/yuncong/CSHL_volumes/atlasV3/atlasV3_down32_scoreVolume_clf_37_warp_1_MD658_down32_scoreVolume_clf_37/score_volumes\n",
      "aws s3 cp s3://mousebrainatlas-data/CSHL_volumes/atlasV3/atlasV3_down32_scoreVolume_clf_37_warp_1_MD658_down32_scoreVolume_clf_37/score_volumes/atlasV3_down32_scoreVolume_clf_37_warp_1_MD658_down32_scoreVolume_clf_37_DC_R.bp /home/yuncong/CSHL_volumes/atlasV3/atlasV3_down32_scoreVolume_clf_37_warp_1_MD658_down32_scoreVolume_clf_37/score_volumes/atlasV3_down32_scoreVolume_clf_37_warp_1_MD658_down32_scoreVolume_clf_37_DC_R.bp\n"
     ]
    },
    {
     "name": "stderr",
     "output_type": "stream",
     "text": [
      "Child returned 0\n",
      "Child returned 0\n",
      "1.17 seconds.\n",
      "marching cube: 17.47 seconds\n",
      "mesh_to_polydata: 0.01 seconds\n",
      "simplify 0 @ 11386: 0.09 seconds\n",
      "simplify 1 @ 2278: 0.09 seconds\n",
      "simplify 2 @ 457: 0.02 seconds\n",
      "time: 19.53\n"
     ]
    },
    {
     "name": "stdout",
     "output_type": "stream",
     "text": [
      "AP\n",
      "rm -rf /home/yuncong/CSHL_volumes/atlasV3/atlasV3_down32_scoreVolume_clf_37_warp_1_MD658_down32_scoreVolume_clf_37/score_volumes/atlasV3_down32_scoreVolume_clf_37_warp_1_MD658_down32_scoreVolume_clf_37_AP.bp && mkdir -p /home/yuncong/CSHL_volumes/atlasV3/atlasV3_down32_scoreVolume_clf_37_warp_1_MD658_down32_scoreVolume_clf_37/score_volumes\n",
      "aws s3 cp s3://mousebrainatlas-data/CSHL_volumes/atlasV3/atlasV3_down32_scoreVolume_clf_37_warp_1_MD658_down32_scoreVolume_clf_37/score_volumes/atlasV3_down32_scoreVolume_clf_37_warp_1_MD658_down32_scoreVolume_clf_37_AP.bp /home/yuncong/CSHL_volumes/atlasV3/atlasV3_down32_scoreVolume_clf_37_warp_1_MD658_down32_scoreVolume_clf_37/score_volumes/atlasV3_down32_scoreVolume_clf_37_warp_1_MD658_down32_scoreVolume_clf_37_AP.bp\n"
     ]
    },
    {
     "name": "stderr",
     "output_type": "stream",
     "text": [
      "Child returned 0\n",
      "Child returned 0\n",
      "1.17 seconds.\n",
      "marching cube: 19.68 seconds\n",
      "mesh_to_polydata: 0.00 seconds\n",
      "simplify 0 @ 2720: 0.02 seconds\n",
      "simplify 1 @ 546: 0.02 seconds\n",
      "time: 21.77\n",
      "Child returned 0\n"
     ]
    },
    {
     "name": "stdout",
     "output_type": "stream",
     "text": [
      "12N\n",
      "rm -rf /home/yuncong/CSHL_volumes/atlasV3/atlasV3_down32_scoreVolume_clf_37_warp_1_MD658_down32_scoreVolume_clf_37/score_volumes/atlasV3_down32_scoreVolume_clf_37_warp_1_MD658_down32_scoreVolume_clf_37_12N.bp && mkdir -p /home/yuncong/CSHL_volumes/atlasV3/atlasV3_down32_scoreVolume_clf_37_warp_1_MD658_down32_scoreVolume_clf_37/score_volumes\n",
      "aws s3 cp s3://mousebrainatlas-data/CSHL_volumes/atlasV3/atlasV3_down32_scoreVolume_clf_37_warp_1_MD658_down32_scoreVolume_clf_37/score_volumes/atlasV3_down32_scoreVolume_clf_37_warp_1_MD658_down32_scoreVolume_clf_37_12N.bp /home/yuncong/CSHL_volumes/atlasV3/atlasV3_down32_scoreVolume_clf_37_warp_1_MD658_down32_scoreVolume_clf_37/score_volumes/atlasV3_down32_scoreVolume_clf_37_warp_1_MD658_down32_scoreVolume_clf_37_12N.bp\n"
     ]
    },
    {
     "name": "stderr",
     "output_type": "stream",
     "text": [
      "Child returned 0\n",
      "1.17 seconds.\n",
      "marching cube: 17.30 seconds\n",
      "mesh_to_polydata: 0.02 seconds\n",
      "simplify 0 @ 12508: 0.10 seconds\n",
      "simplify 1 @ 2506: 0.11 seconds\n",
      "simplify 2 @ 502: 0.02 seconds\n",
      "time: 19.48\n",
      "Child returned 0\n"
     ]
    },
    {
     "name": "stdout",
     "output_type": "stream",
     "text": [
      "RtTg\n",
      "rm -rf /home/yuncong/CSHL_volumes/atlasV3/atlasV3_down32_scoreVolume_clf_37_warp_1_MD658_down32_scoreVolume_clf_37/score_volumes/atlasV3_down32_scoreVolume_clf_37_warp_1_MD658_down32_scoreVolume_clf_37_RtTg.bp && mkdir -p /home/yuncong/CSHL_volumes/atlasV3/atlasV3_down32_scoreVolume_clf_37_warp_1_MD658_down32_scoreVolume_clf_37/score_volumes\n",
      "aws s3 cp s3://mousebrainatlas-data/CSHL_volumes/atlasV3/atlasV3_down32_scoreVolume_clf_37_warp_1_MD658_down32_scoreVolume_clf_37/score_volumes/atlasV3_down32_scoreVolume_clf_37_warp_1_MD658_down32_scoreVolume_clf_37_RtTg.bp /home/yuncong/CSHL_volumes/atlasV3/atlasV3_down32_scoreVolume_clf_37_warp_1_MD658_down32_scoreVolume_clf_37/score_volumes/atlasV3_down32_scoreVolume_clf_37_warp_1_MD658_down32_scoreVolume_clf_37_RtTg.bp\n"
     ]
    },
    {
     "name": "stderr",
     "output_type": "stream",
     "text": [
      "Child returned 0\n",
      "1.21 seconds.\n",
      "marching cube: 12.77 seconds\n",
      "mesh_to_polydata: 0.04 seconds\n",
      "simplify 0 @ 27216: 0.24 seconds\n",
      "simplify 1 @ 5441: 0.28 seconds\n",
      "simplify 2 @ 1086: 0.06 seconds\n",
      "time: 15.24\n"
     ]
    },
    {
     "name": "stdout",
     "output_type": "stream",
     "text": [
      "sp5\n",
      "rm -rf /home/yuncong/CSHL_volumes/atlasV3/atlasV3_down32_scoreVolume_clf_37_warp_1_MD658_down32_scoreVolume_clf_37/score_volumes/atlasV3_down32_scoreVolume_clf_37_warp_1_MD658_down32_scoreVolume_clf_37_sp5.bp && mkdir -p /home/yuncong/CSHL_volumes/atlasV3/atlasV3_down32_scoreVolume_clf_37_warp_1_MD658_down32_scoreVolume_clf_37/score_volumes\n",
      "aws s3 cp s3://mousebrainatlas-data/CSHL_volumes/atlasV3/atlasV3_down32_scoreVolume_clf_37_warp_1_MD658_down32_scoreVolume_clf_37/score_volumes/atlasV3_down32_scoreVolume_clf_37_warp_1_MD658_down32_scoreVolume_clf_37_sp5.bp /home/yuncong/CSHL_volumes/atlasV3/atlasV3_down32_scoreVolume_clf_37_warp_1_MD658_down32_scoreVolume_clf_37/score_volumes/atlasV3_down32_scoreVolume_clf_37_warp_1_MD658_down32_scoreVolume_clf_37_sp5.bp\n"
     ]
    },
    {
     "name": "stderr",
     "output_type": "stream",
     "text": [
      "Child returned 0\n",
      "Child returned 1\n",
      "0.65 seconds.\n",
      "File does not exist: /home/yuncong/CSHL_volumes/atlasV3/atlasV3_down32_scoreVolume_clf_37_warp_1_MD658_down32_scoreVolume_clf_37/score_volumes/atlasV3_down32_scoreVolume_clf_37_warp_1_MD658_down32_scoreVolume_clf_37_sp5.bp\n",
      "[Errno 2] No such file or directory: '/home/yuncong/CSHL_volumes/atlasV3/atlasV3_down32_scoreVolume_clf_37_warp_1_MD658_down32_scoreVolume_clf_37/score_volumes/atlasV3_down32_scoreVolume_clf_37_warp_1_MD658_down32_scoreVolume_clf_37_sp5.bp'\n",
      "Error transforming volume sp5.\n",
      "Child returned 0\n"
     ]
    },
    {
     "name": "stdout",
     "output_type": "stream",
     "text": [
      "outerContour\n",
      "rm -rf /home/yuncong/CSHL_volumes/atlasV3/atlasV3_down32_scoreVolume_clf_37_warp_1_MD658_down32_scoreVolume_clf_37/score_volumes/atlasV3_down32_scoreVolume_clf_37_warp_1_MD658_down32_scoreVolume_clf_37_outerContour.bp && mkdir -p /home/yuncong/CSHL_volumes/atlasV3/atlasV3_down32_scoreVolume_clf_37_warp_1_MD658_down32_scoreVolume_clf_37/score_volumes\n",
      "aws s3 cp s3://mousebrainatlas-data/CSHL_volumes/atlasV3/atlasV3_down32_scoreVolume_clf_37_warp_1_MD658_down32_scoreVolume_clf_37/score_volumes/atlasV3_down32_scoreVolume_clf_37_warp_1_MD658_down32_scoreVolume_clf_37_outerContour.bp /home/yuncong/CSHL_volumes/atlasV3/atlasV3_down32_scoreVolume_clf_37_warp_1_MD658_down32_scoreVolume_clf_37/score_volumes/atlasV3_down32_scoreVolume_clf_37_warp_1_MD658_down32_scoreVolume_clf_37_outerContour.bp\n"
     ]
    },
    {
     "name": "stderr",
     "output_type": "stream",
     "text": [
      "Child returned 1\n",
      "0.65 seconds.\n",
      "File does not exist: /home/yuncong/CSHL_volumes/atlasV3/atlasV3_down32_scoreVolume_clf_37_warp_1_MD658_down32_scoreVolume_clf_37/score_volumes/atlasV3_down32_scoreVolume_clf_37_warp_1_MD658_down32_scoreVolume_clf_37_outerContour.bp\n",
      "[Errno 2] No such file or directory: '/home/yuncong/CSHL_volumes/atlasV3/atlasV3_down32_scoreVolume_clf_37_warp_1_MD658_down32_scoreVolume_clf_37/score_volumes/atlasV3_down32_scoreVolume_clf_37_warp_1_MD658_down32_scoreVolume_clf_37_outerContour.bp'\n",
      "Error transforming volume outerContour.\n",
      "Child returned 0\n"
     ]
    },
    {
     "name": "stdout",
     "output_type": "stream",
     "text": [
      "SC\n",
      "rm -rf /home/yuncong/CSHL_volumes/atlasV3/atlasV3_down32_scoreVolume_clf_37_warp_1_MD658_down32_scoreVolume_clf_37/score_volumes/atlasV3_down32_scoreVolume_clf_37_warp_1_MD658_down32_scoreVolume_clf_37_SC.bp && mkdir -p /home/yuncong/CSHL_volumes/atlasV3/atlasV3_down32_scoreVolume_clf_37_warp_1_MD658_down32_scoreVolume_clf_37/score_volumes\n",
      "aws s3 cp s3://mousebrainatlas-data/CSHL_volumes/atlasV3/atlasV3_down32_scoreVolume_clf_37_warp_1_MD658_down32_scoreVolume_clf_37/score_volumes/atlasV3_down32_scoreVolume_clf_37_warp_1_MD658_down32_scoreVolume_clf_37_SC.bp /home/yuncong/CSHL_volumes/atlasV3/atlasV3_down32_scoreVolume_clf_37_warp_1_MD658_down32_scoreVolume_clf_37/score_volumes/atlasV3_down32_scoreVolume_clf_37_warp_1_MD658_down32_scoreVolume_clf_37_SC.bp\n"
     ]
    },
    {
     "name": "stderr",
     "output_type": "stream",
     "text": [
      "Child returned 0\n",
      "1.20 seconds.\n",
      "marching cube: 14.21 seconds\n",
      "mesh_to_polydata: 0.35 seconds\n",
      "simplify 0 @ 115619: 2.11 seconds\n",
      "simplify 1 @ 23129: 2.15 seconds\n",
      "simplify 2 @ 4626: 0.46 seconds\n",
      "time: 21.13\n",
      "Child returned 0\n"
     ]
    },
    {
     "name": "stdout",
     "output_type": "stream",
     "text": [
      "IC\n",
      "rm -rf /home/yuncong/CSHL_volumes/atlasV3/atlasV3_down32_scoreVolume_clf_37_warp_1_MD658_down32_scoreVolume_clf_37/score_volumes/atlasV3_down32_scoreVolume_clf_37_warp_1_MD658_down32_scoreVolume_clf_37_IC.bp && mkdir -p /home/yuncong/CSHL_volumes/atlasV3/atlasV3_down32_scoreVolume_clf_37_warp_1_MD658_down32_scoreVolume_clf_37/score_volumes\n",
      "aws s3 cp s3://mousebrainatlas-data/CSHL_volumes/atlasV3/atlasV3_down32_scoreVolume_clf_37_warp_1_MD658_down32_scoreVolume_clf_37/score_volumes/atlasV3_down32_scoreVolume_clf_37_warp_1_MD658_down32_scoreVolume_clf_37_IC.bp /home/yuncong/CSHL_volumes/atlasV3/atlasV3_down32_scoreVolume_clf_37_warp_1_MD658_down32_scoreVolume_clf_37/score_volumes/atlasV3_down32_scoreVolume_clf_37_warp_1_MD658_down32_scoreVolume_clf_37_IC.bp\n"
     ]
    },
    {
     "name": "stderr",
     "output_type": "stream",
     "text": [
      "Child returned 0\n",
      "1.61 seconds.\n",
      "marching cube: 15.05 seconds\n",
      "mesh_to_polydata: 0.11 seconds\n",
      "simplify 0 @ 77329: 0.81 seconds\n",
      "simplify 1 @ 15472: 0.91 seconds\n",
      "simplify 2 @ 3094: 0.19 seconds\n",
      "time: 19.13\n"
     ]
    }
   ],
   "source": [
    "# Render globally transformed atlas structures\n",
    "\n",
    "for structure in all_known_structures_sided:\n",
    "# for structure in ['Pn_R']:\n",
    "\n",
    "    print structure\n",
    "    \n",
    "    try:\n",
    "    \n",
    "        global_transformed_volume = \\\n",
    "        DataManager.load_transformed_volume(stack_m=atlas_name, type_m='score', \n",
    "                                            stack_f=stack, type_f='score',\n",
    "                                            downscale=32, \n",
    "                                            classifier_setting_m=37,\n",
    "                                            classifier_setting_f=37,\n",
    "                                            warp_setting=1,\n",
    "                                            structure=structure)\n",
    "\n",
    "        t = time.time()\n",
    "        polydata = volume_to_polydata(global_transformed_volume, num_simplify_iter=3, smooth=True, level=0.5)\n",
    "        sys.stderr.write('time: %.2f\\n' % (time.time() - t))\n",
    "\n",
    "        mesh_fn = DataManager.get_mesh_filepath(stack_m=atlas_name, type_m='score', \n",
    "                                                                   stack_f=stack, type_f='score', \n",
    "                                                                   downscale=32,\n",
    "                                                                   classifier_setting_m=37,\n",
    "                                                                   classifier_setting_f=37,\n",
    "                                                                   warp_setting=1,\n",
    "                                                                   structure=structure)\n",
    "#         print mesh_fn\n",
    "        save_mesh(polydata, mesh_fn)\n",
    "        \n",
    "    except Exception as e:\n",
    "        sys.stderr.write('Error transforming volume %s: %s.\\n' % (structure, e))"
   ]
  },
  {
   "cell_type": "code",
   "execution_count": 17,
   "metadata": {
    "collapsed": false,
    "scrolled": true
   },
   "outputs": [
    {
     "name": "stdout",
     "output_type": "stream",
     "text": [
      "5N_L\n",
      "rm -rf /home/yuncong/CSHL_volumes/atlasV3/atlasV3_down32_scoreVolume_clf_37_warp_8_MD658_down32_scoreVolume_clf_37/score_volumes/atlasV3_down32_scoreVolume_clf_37_warp_8_MD658_down32_scoreVolume_clf_37_5N_L.bp && mkdir -p /home/yuncong/CSHL_volumes/atlasV3/atlasV3_down32_scoreVolume_clf_37_warp_8_MD658_down32_scoreVolume_clf_37/score_volumes\n",
      "aws s3 cp s3://mousebrainatlas-data/CSHL_volumes/atlasV3/atlasV3_down32_scoreVolume_clf_37_warp_8_MD658_down32_scoreVolume_clf_37/score_volumes/atlasV3_down32_scoreVolume_clf_37_warp_8_MD658_down32_scoreVolume_clf_37_5N_L.bp /home/yuncong/CSHL_volumes/atlasV3/atlasV3_down32_scoreVolume_clf_37_warp_8_MD658_down32_scoreVolume_clf_37/score_volumes/atlasV3_down32_scoreVolume_clf_37_warp_8_MD658_down32_scoreVolume_clf_37_5N_L.bp\n"
     ]
    },
    {
     "name": "stderr",
     "output_type": "stream",
     "text": [
      "Child returned 0\n",
      "Child returned 0\n",
      "1.47 seconds.\n",
      "marching cube: 13.29 seconds\n",
      "mesh_to_polydata: 0.01 seconds\n",
      "simplify 0 @ 6913: 0.05 seconds\n",
      "simplify 1 @ 1384: 0.05 seconds\n",
      "simplify 2 @ 278: 0.01 seconds\n",
      "time: 15.43\n"
     ]
    },
    {
     "name": "stdout",
     "output_type": "stream",
     "text": [
      "5N_R\n",
      "rm -rf /home/yuncong/CSHL_volumes/atlasV3/atlasV3_down32_scoreVolume_clf_37_warp_8_MD658_down32_scoreVolume_clf_37/score_volumes/atlasV3_down32_scoreVolume_clf_37_warp_8_MD658_down32_scoreVolume_clf_37_5N_R.bp && mkdir -p /home/yuncong/CSHL_volumes/atlasV3/atlasV3_down32_scoreVolume_clf_37_warp_8_MD658_down32_scoreVolume_clf_37/score_volumes\n",
      "aws s3 cp s3://mousebrainatlas-data/CSHL_volumes/atlasV3/atlasV3_down32_scoreVolume_clf_37_warp_8_MD658_down32_scoreVolume_clf_37/score_volumes/atlasV3_down32_scoreVolume_clf_37_warp_8_MD658_down32_scoreVolume_clf_37_5N_R.bp /home/yuncong/CSHL_volumes/atlasV3/atlasV3_down32_scoreVolume_clf_37_warp_8_MD658_down32_scoreVolume_clf_37/score_volumes/atlasV3_down32_scoreVolume_clf_37_warp_8_MD658_down32_scoreVolume_clf_37_5N_R.bp\n"
     ]
    },
    {
     "name": "stderr",
     "output_type": "stream",
     "text": [
      "Child returned 0\n",
      "Child returned 0\n",
      "1.08 seconds.\n",
      "marching cube: 17.42 seconds\n",
      "mesh_to_polydata: 0.01 seconds\n",
      "simplify 0 @ 7350: 0.05 seconds\n",
      "simplify 1 @ 1471: 0.05 seconds\n",
      "simplify 2 @ 295: 0.01 seconds\n",
      "time: 19.42\n"
     ]
    },
    {
     "name": "stdout",
     "output_type": "stream",
     "text": [
      "6N_L\n",
      "rm -rf /home/yuncong/CSHL_volumes/atlasV3/atlasV3_down32_scoreVolume_clf_37_warp_8_MD658_down32_scoreVolume_clf_37/score_volumes/atlasV3_down32_scoreVolume_clf_37_warp_8_MD658_down32_scoreVolume_clf_37_6N_L.bp && mkdir -p /home/yuncong/CSHL_volumes/atlasV3/atlasV3_down32_scoreVolume_clf_37_warp_8_MD658_down32_scoreVolume_clf_37/score_volumes\n",
      "aws s3 cp s3://mousebrainatlas-data/CSHL_volumes/atlasV3/atlasV3_down32_scoreVolume_clf_37_warp_8_MD658_down32_scoreVolume_clf_37/score_volumes/atlasV3_down32_scoreVolume_clf_37_warp_8_MD658_down32_scoreVolume_clf_37_6N_L.bp /home/yuncong/CSHL_volumes/atlasV3/atlasV3_down32_scoreVolume_clf_37_warp_8_MD658_down32_scoreVolume_clf_37/score_volumes/atlasV3_down32_scoreVolume_clf_37_warp_8_MD658_down32_scoreVolume_clf_37_6N_L.bp\n"
     ]
    },
    {
     "name": "stderr",
     "output_type": "stream",
     "text": [
      "Child returned 0\n",
      "Child returned 0\n",
      "1.18 seconds.\n",
      "marching cube: 14.48 seconds\n",
      "mesh_to_polydata: 0.00 seconds\n",
      "simplify 0 @ 789: 0.01 seconds\n",
      "time: 16.51\n",
      "Child returned 0\n"
     ]
    },
    {
     "name": "stdout",
     "output_type": "stream",
     "text": [
      "6N_R\n",
      "rm -rf /home/yuncong/CSHL_volumes/atlasV3/atlasV3_down32_scoreVolume_clf_37_warp_8_MD658_down32_scoreVolume_clf_37/score_volumes/atlasV3_down32_scoreVolume_clf_37_warp_8_MD658_down32_scoreVolume_clf_37_6N_R.bp && mkdir -p /home/yuncong/CSHL_volumes/atlasV3/atlasV3_down32_scoreVolume_clf_37_warp_8_MD658_down32_scoreVolume_clf_37/score_volumes\n",
      "aws s3 cp s3://mousebrainatlas-data/CSHL_volumes/atlasV3/atlasV3_down32_scoreVolume_clf_37_warp_8_MD658_down32_scoreVolume_clf_37/score_volumes/atlasV3_down32_scoreVolume_clf_37_warp_8_MD658_down32_scoreVolume_clf_37_6N_R.bp /home/yuncong/CSHL_volumes/atlasV3/atlasV3_down32_scoreVolume_clf_37_warp_8_MD658_down32_scoreVolume_clf_37/score_volumes/atlasV3_down32_scoreVolume_clf_37_warp_8_MD658_down32_scoreVolume_clf_37_6N_R.bp\n"
     ]
    },
    {
     "name": "stderr",
     "output_type": "stream",
     "text": [
      "Child returned 0\n",
      "1.31 seconds.\n",
      "marching cube: 14.82 seconds\n",
      "mesh_to_polydata: 0.00 seconds\n",
      "simplify 0 @ 802: 0.01 seconds\n",
      "time: 18.26\n",
      "Child returned 0\n"
     ]
    },
    {
     "name": "stdout",
     "output_type": "stream",
     "text": [
      "7N_L\n",
      "rm -rf /home/yuncong/CSHL_volumes/atlasV3/atlasV3_down32_scoreVolume_clf_37_warp_8_MD658_down32_scoreVolume_clf_37/score_volumes/atlasV3_down32_scoreVolume_clf_37_warp_8_MD658_down32_scoreVolume_clf_37_7N_L.bp && mkdir -p /home/yuncong/CSHL_volumes/atlasV3/atlasV3_down32_scoreVolume_clf_37_warp_8_MD658_down32_scoreVolume_clf_37/score_volumes\n",
      "aws s3 cp s3://mousebrainatlas-data/CSHL_volumes/atlasV3/atlasV3_down32_scoreVolume_clf_37_warp_8_MD658_down32_scoreVolume_clf_37/score_volumes/atlasV3_down32_scoreVolume_clf_37_warp_8_MD658_down32_scoreVolume_clf_37_7N_L.bp /home/yuncong/CSHL_volumes/atlasV3/atlasV3_down32_scoreVolume_clf_37_warp_8_MD658_down32_scoreVolume_clf_37/score_volumes/atlasV3_down32_scoreVolume_clf_37_warp_8_MD658_down32_scoreVolume_clf_37_7N_L.bp\n"
     ]
    },
    {
     "name": "stderr",
     "output_type": "stream",
     "text": [
      "Child returned 0\n",
      "1.91 seconds.\n",
      "marching cube: 13.34 seconds\n",
      "mesh_to_polydata: 0.02 seconds\n",
      "simplify 0 @ 12912: 0.09 seconds\n",
      "simplify 1 @ 2585: 0.11 seconds\n",
      "simplify 2 @ 518: 0.02 seconds\n",
      "time: 16.92\n",
      "Child returned 0\n"
     ]
    },
    {
     "name": "stdout",
     "output_type": "stream",
     "text": [
      "7N_R\n",
      "rm -rf /home/yuncong/CSHL_volumes/atlasV3/atlasV3_down32_scoreVolume_clf_37_warp_8_MD658_down32_scoreVolume_clf_37/score_volumes/atlasV3_down32_scoreVolume_clf_37_warp_8_MD658_down32_scoreVolume_clf_37_7N_R.bp && mkdir -p /home/yuncong/CSHL_volumes/atlasV3/atlasV3_down32_scoreVolume_clf_37_warp_8_MD658_down32_scoreVolume_clf_37/score_volumes\n",
      "aws s3 cp s3://mousebrainatlas-data/CSHL_volumes/atlasV3/atlasV3_down32_scoreVolume_clf_37_warp_8_MD658_down32_scoreVolume_clf_37/score_volumes/atlasV3_down32_scoreVolume_clf_37_warp_8_MD658_down32_scoreVolume_clf_37_7N_R.bp /home/yuncong/CSHL_volumes/atlasV3/atlasV3_down32_scoreVolume_clf_37_warp_8_MD658_down32_scoreVolume_clf_37/score_volumes/atlasV3_down32_scoreVolume_clf_37_warp_8_MD658_down32_scoreVolume_clf_37_7N_R.bp\n"
     ]
    },
    {
     "name": "stderr",
     "output_type": "stream",
     "text": [
      "Child returned 0\n",
      "3.11 seconds.\n",
      "marching cube: 14.39 seconds\n",
      "mesh_to_polydata: 0.01 seconds\n",
      "simplify 0 @ 12228: 0.09 seconds\n",
      "simplify 1 @ 2447: 0.10 seconds\n",
      "simplify 2 @ 490: 0.02 seconds\n",
      "time: 16.34\n"
     ]
    },
    {
     "name": "stdout",
     "output_type": "stream",
     "text": [
      "7n_L\n",
      "rm -rf /home/yuncong/CSHL_volumes/atlasV3/atlasV3_down32_scoreVolume_clf_37_warp_8_MD658_down32_scoreVolume_clf_37/score_volumes/atlasV3_down32_scoreVolume_clf_37_warp_8_MD658_down32_scoreVolume_clf_37_7n_L.bp && mkdir -p /home/yuncong/CSHL_volumes/atlasV3/atlasV3_down32_scoreVolume_clf_37_warp_8_MD658_down32_scoreVolume_clf_37/score_volumes\n",
      "aws s3 cp s3://mousebrainatlas-data/CSHL_volumes/atlasV3/atlasV3_down32_scoreVolume_clf_37_warp_8_MD658_down32_scoreVolume_clf_37/score_volumes/atlasV3_down32_scoreVolume_clf_37_warp_8_MD658_down32_scoreVolume_clf_37_7n_L.bp /home/yuncong/CSHL_volumes/atlasV3/atlasV3_down32_scoreVolume_clf_37_warp_8_MD658_down32_scoreVolume_clf_37/score_volumes/atlasV3_down32_scoreVolume_clf_37_warp_8_MD658_down32_scoreVolume_clf_37_7n_L.bp\n"
     ]
    },
    {
     "name": "stderr",
     "output_type": "stream",
     "text": [
      "Child returned 0\n",
      "Child returned 0\n",
      "1.18 seconds.\n",
      "marching cube: 14.43 seconds\n",
      "mesh_to_polydata: 0.01 seconds\n",
      "simplify 0 @ 9349: 0.07 seconds\n",
      "simplify 1 @ 1871: 0.08 seconds\n",
      "simplify 2 @ 375: 0.02 seconds\n",
      "time: 16.57\n"
     ]
    },
    {
     "name": "stdout",
     "output_type": "stream",
     "text": [
      "7n_R\n",
      "rm -rf /home/yuncong/CSHL_volumes/atlasV3/atlasV3_down32_scoreVolume_clf_37_warp_8_MD658_down32_scoreVolume_clf_37/score_volumes/atlasV3_down32_scoreVolume_clf_37_warp_8_MD658_down32_scoreVolume_clf_37_7n_R.bp && mkdir -p /home/yuncong/CSHL_volumes/atlasV3/atlasV3_down32_scoreVolume_clf_37_warp_8_MD658_down32_scoreVolume_clf_37/score_volumes\n",
      "aws s3 cp s3://mousebrainatlas-data/CSHL_volumes/atlasV3/atlasV3_down32_scoreVolume_clf_37_warp_8_MD658_down32_scoreVolume_clf_37/score_volumes/atlasV3_down32_scoreVolume_clf_37_warp_8_MD658_down32_scoreVolume_clf_37_7n_R.bp /home/yuncong/CSHL_volumes/atlasV3/atlasV3_down32_scoreVolume_clf_37_warp_8_MD658_down32_scoreVolume_clf_37/score_volumes/atlasV3_down32_scoreVolume_clf_37_warp_8_MD658_down32_scoreVolume_clf_37_7n_R.bp\n"
     ]
    },
    {
     "name": "stderr",
     "output_type": "stream",
     "text": [
      "Child returned 0\n",
      "Child returned 0\n",
      "1.22 seconds.\n",
      "marching cube: 17.42 seconds\n",
      "mesh_to_polydata: 0.01 seconds\n",
      "simplify 0 @ 9748: 0.07 seconds\n",
      "simplify 1 @ 1952: 0.08 seconds\n",
      "simplify 2 @ 391: 0.02 seconds\n",
      "time: 19.46\n"
     ]
    },
    {
     "name": "stdout",
     "output_type": "stream",
     "text": [
      "Amb_L\n",
      "rm -rf /home/yuncong/CSHL_volumes/atlasV3/atlasV3_down32_scoreVolume_clf_37_warp_8_MD658_down32_scoreVolume_clf_37/score_volumes/atlasV3_down32_scoreVolume_clf_37_warp_8_MD658_down32_scoreVolume_clf_37_Amb_L.bp && mkdir -p /home/yuncong/CSHL_volumes/atlasV3/atlasV3_down32_scoreVolume_clf_37_warp_8_MD658_down32_scoreVolume_clf_37/score_volumes\n",
      "aws s3 cp s3://mousebrainatlas-data/CSHL_volumes/atlasV3/atlasV3_down32_scoreVolume_clf_37_warp_8_MD658_down32_scoreVolume_clf_37/score_volumes/atlasV3_down32_scoreVolume_clf_37_warp_8_MD658_down32_scoreVolume_clf_37_Amb_L.bp /home/yuncong/CSHL_volumes/atlasV3/atlasV3_down32_scoreVolume_clf_37_warp_8_MD658_down32_scoreVolume_clf_37/score_volumes/atlasV3_down32_scoreVolume_clf_37_warp_8_MD658_down32_scoreVolume_clf_37_Amb_L.bp\n"
     ]
    },
    {
     "name": "stderr",
     "output_type": "stream",
     "text": [
      "Child returned 0\n",
      "Child returned 0\n",
      "1.23 seconds.\n",
      "marching cube: 13.53 seconds\n",
      "mesh_to_polydata: 0.00 seconds\n",
      "simplify 0 @ 959: 0.01 seconds\n",
      "time: 15.53\n",
      "Child returned 0\n"
     ]
    },
    {
     "name": "stdout",
     "output_type": "stream",
     "text": [
      "Amb_R\n",
      "rm -rf /home/yuncong/CSHL_volumes/atlasV3/atlasV3_down32_scoreVolume_clf_37_warp_8_MD658_down32_scoreVolume_clf_37/score_volumes/atlasV3_down32_scoreVolume_clf_37_warp_8_MD658_down32_scoreVolume_clf_37_Amb_R.bp && mkdir -p /home/yuncong/CSHL_volumes/atlasV3/atlasV3_down32_scoreVolume_clf_37_warp_8_MD658_down32_scoreVolume_clf_37/score_volumes\n",
      "aws s3 cp s3://mousebrainatlas-data/CSHL_volumes/atlasV3/atlasV3_down32_scoreVolume_clf_37_warp_8_MD658_down32_scoreVolume_clf_37/score_volumes/atlasV3_down32_scoreVolume_clf_37_warp_8_MD658_down32_scoreVolume_clf_37_Amb_R.bp /home/yuncong/CSHL_volumes/atlasV3/atlasV3_down32_scoreVolume_clf_37_warp_8_MD658_down32_scoreVolume_clf_37/score_volumes/atlasV3_down32_scoreVolume_clf_37_warp_8_MD658_down32_scoreVolume_clf_37_Amb_R.bp\n"
     ]
    },
    {
     "name": "stderr",
     "output_type": "stream",
     "text": [
      "Child returned 0\n",
      "1.07 seconds.\n",
      "marching cube: 17.55 seconds\n",
      "mesh_to_polydata: 0.00 seconds\n",
      "simplify 0 @ 1024: 0.01 seconds\n",
      "simplify 1 @ 206: 0.01 seconds\n",
      "time: 19.41\n",
      "Child returned 0\n"
     ]
    },
    {
     "name": "stdout",
     "output_type": "stream",
     "text": [
      "LC_L\n",
      "rm -rf /home/yuncong/CSHL_volumes/atlasV3/atlasV3_down32_scoreVolume_clf_37_warp_8_MD658_down32_scoreVolume_clf_37/score_volumes/atlasV3_down32_scoreVolume_clf_37_warp_8_MD658_down32_scoreVolume_clf_37_LC_L.bp && mkdir -p /home/yuncong/CSHL_volumes/atlasV3/atlasV3_down32_scoreVolume_clf_37_warp_8_MD658_down32_scoreVolume_clf_37/score_volumes\n",
      "aws s3 cp s3://mousebrainatlas-data/CSHL_volumes/atlasV3/atlasV3_down32_scoreVolume_clf_37_warp_8_MD658_down32_scoreVolume_clf_37/score_volumes/atlasV3_down32_scoreVolume_clf_37_warp_8_MD658_down32_scoreVolume_clf_37_LC_L.bp /home/yuncong/CSHL_volumes/atlasV3/atlasV3_down32_scoreVolume_clf_37_warp_8_MD658_down32_scoreVolume_clf_37/score_volumes/atlasV3_down32_scoreVolume_clf_37_warp_8_MD658_down32_scoreVolume_clf_37_LC_L.bp\n"
     ]
    },
    {
     "name": "stderr",
     "output_type": "stream",
     "text": [
      "Child returned 0\n",
      "1.33 seconds.\n",
      "marching cube: 15.42 seconds\n",
      "mesh_to_polydata: 0.01 seconds\n",
      "simplify 0 @ 3606: 0.07 seconds\n",
      "simplify 1 @ 722: 0.05 seconds\n",
      "time: 17.59\n"
     ]
    },
    {
     "name": "stdout",
     "output_type": "stream",
     "text": [
      "LC_R\n",
      "rm -rf /home/yuncong/CSHL_volumes/atlasV3/atlasV3_down32_scoreVolume_clf_37_warp_8_MD658_down32_scoreVolume_clf_37/score_volumes/atlasV3_down32_scoreVolume_clf_37_warp_8_MD658_down32_scoreVolume_clf_37_LC_R.bp && mkdir -p /home/yuncong/CSHL_volumes/atlasV3/atlasV3_down32_scoreVolume_clf_37_warp_8_MD658_down32_scoreVolume_clf_37/score_volumes\n",
      "aws s3 cp s3://mousebrainatlas-data/CSHL_volumes/atlasV3/atlasV3_down32_scoreVolume_clf_37_warp_8_MD658_down32_scoreVolume_clf_37/score_volumes/atlasV3_down32_scoreVolume_clf_37_warp_8_MD658_down32_scoreVolume_clf_37_LC_R.bp /home/yuncong/CSHL_volumes/atlasV3/atlasV3_down32_scoreVolume_clf_37_warp_8_MD658_down32_scoreVolume_clf_37/score_volumes/atlasV3_down32_scoreVolume_clf_37_warp_8_MD658_down32_scoreVolume_clf_37_LC_R.bp\n"
     ]
    },
    {
     "name": "stderr",
     "output_type": "stream",
     "text": [
      "Child returned 0\n",
      "Child returned 0\n",
      "6.78 seconds.\n",
      "marching cube: 17.01 seconds\n",
      "mesh_to_polydata: 0.01 seconds\n",
      "simplify 0 @ 3845: 0.03 seconds\n",
      "simplify 1 @ 770: 0.03 seconds\n",
      "time: 19.01\n",
      "Child returned 0\n"
     ]
    },
    {
     "name": "stdout",
     "output_type": "stream",
     "text": [
      "LRt_L\n",
      "rm -rf /home/yuncong/CSHL_volumes/atlasV3/atlasV3_down32_scoreVolume_clf_37_warp_8_MD658_down32_scoreVolume_clf_37/score_volumes/atlasV3_down32_scoreVolume_clf_37_warp_8_MD658_down32_scoreVolume_clf_37_LRt_L.bp && mkdir -p /home/yuncong/CSHL_volumes/atlasV3/atlasV3_down32_scoreVolume_clf_37_warp_8_MD658_down32_scoreVolume_clf_37/score_volumes\n",
      "aws s3 cp s3://mousebrainatlas-data/CSHL_volumes/atlasV3/atlasV3_down32_scoreVolume_clf_37_warp_8_MD658_down32_scoreVolume_clf_37/score_volumes/atlasV3_down32_scoreVolume_clf_37_warp_8_MD658_down32_scoreVolume_clf_37_LRt_L.bp /home/yuncong/CSHL_volumes/atlasV3/atlasV3_down32_scoreVolume_clf_37_warp_8_MD658_down32_scoreVolume_clf_37/score_volumes/atlasV3_down32_scoreVolume_clf_37_warp_8_MD658_down32_scoreVolume_clf_37_LRt_L.bp\n"
     ]
    },
    {
     "name": "stderr",
     "output_type": "stream",
     "text": [
      "Child returned 0\n",
      "1.25 seconds.\n",
      "marching cube: 17.15 seconds\n",
      "mesh_to_polydata: 0.01 seconds\n",
      "simplify 0 @ 10546: 0.08 seconds\n",
      "simplify 1 @ 2111: 0.09 seconds\n",
      "simplify 2 @ 423: 0.02 seconds\n",
      "time: 19.41\n"
     ]
    },
    {
     "name": "stdout",
     "output_type": "stream",
     "text": [
      "LRt_R\n",
      "rm -rf /home/yuncong/CSHL_volumes/atlasV3/atlasV3_down32_scoreVolume_clf_37_warp_8_MD658_down32_scoreVolume_clf_37/score_volumes/atlasV3_down32_scoreVolume_clf_37_warp_8_MD658_down32_scoreVolume_clf_37_LRt_R.bp && mkdir -p /home/yuncong/CSHL_volumes/atlasV3/atlasV3_down32_scoreVolume_clf_37_warp_8_MD658_down32_scoreVolume_clf_37/score_volumes\n",
      "aws s3 cp s3://mousebrainatlas-data/CSHL_volumes/atlasV3/atlasV3_down32_scoreVolume_clf_37_warp_8_MD658_down32_scoreVolume_clf_37/score_volumes/atlasV3_down32_scoreVolume_clf_37_warp_8_MD658_down32_scoreVolume_clf_37_LRt_R.bp /home/yuncong/CSHL_volumes/atlasV3/atlasV3_down32_scoreVolume_clf_37_warp_8_MD658_down32_scoreVolume_clf_37/score_volumes/atlasV3_down32_scoreVolume_clf_37_warp_8_MD658_down32_scoreVolume_clf_37_LRt_R.bp\n"
     ]
    },
    {
     "name": "stderr",
     "output_type": "stream",
     "text": [
      "Child returned 0\n",
      "Child returned 0\n",
      "1.22 seconds.\n",
      "marching cube: 13.04 seconds\n",
      "mesh_to_polydata: 0.01 seconds\n",
      "simplify 0 @ 10696: 0.09 seconds\n",
      "simplify 1 @ 2141: 0.09 seconds\n",
      "simplify 2 @ 429: 0.02 seconds\n",
      "time: 15.26\n",
      "Child returned 0\n"
     ]
    },
    {
     "name": "stdout",
     "output_type": "stream",
     "text": [
      "Pn_L\n",
      "rm -rf /home/yuncong/CSHL_volumes/atlasV3/atlasV3_down32_scoreVolume_clf_37_warp_8_MD658_down32_scoreVolume_clf_37/score_volumes/atlasV3_down32_scoreVolume_clf_37_warp_8_MD658_down32_scoreVolume_clf_37_Pn_L.bp && mkdir -p /home/yuncong/CSHL_volumes/atlasV3/atlasV3_down32_scoreVolume_clf_37_warp_8_MD658_down32_scoreVolume_clf_37/score_volumes\n",
      "aws s3 cp s3://mousebrainatlas-data/CSHL_volumes/atlasV3/atlasV3_down32_scoreVolume_clf_37_warp_8_MD658_down32_scoreVolume_clf_37/score_volumes/atlasV3_down32_scoreVolume_clf_37_warp_8_MD658_down32_scoreVolume_clf_37_Pn_L.bp /home/yuncong/CSHL_volumes/atlasV3/atlasV3_down32_scoreVolume_clf_37_warp_8_MD658_down32_scoreVolume_clf_37/score_volumes/atlasV3_down32_scoreVolume_clf_37_warp_8_MD658_down32_scoreVolume_clf_37_Pn_L.bp\n"
     ]
    },
    {
     "name": "stderr",
     "output_type": "stream",
     "text": [
      "Child returned 0\n",
      "1.20 seconds.\n",
      "marching cube: 17.83 seconds\n",
      "mesh_to_polydata: 0.02 seconds\n",
      "simplify 0 @ 17752: 0.14 seconds\n",
      "simplify 1 @ 3552: 0.16 seconds\n",
      "simplify 2 @ 712: 0.03 seconds\n",
      "time: 20.17\n",
      "Child returned 0\n"
     ]
    },
    {
     "name": "stdout",
     "output_type": "stream",
     "text": [
      "Pn_R\n",
      "rm -rf /home/yuncong/CSHL_volumes/atlasV3/atlasV3_down32_scoreVolume_clf_37_warp_8_MD658_down32_scoreVolume_clf_37/score_volumes/atlasV3_down32_scoreVolume_clf_37_warp_8_MD658_down32_scoreVolume_clf_37_Pn_R.bp && mkdir -p /home/yuncong/CSHL_volumes/atlasV3/atlasV3_down32_scoreVolume_clf_37_warp_8_MD658_down32_scoreVolume_clf_37/score_volumes\n",
      "aws s3 cp s3://mousebrainatlas-data/CSHL_volumes/atlasV3/atlasV3_down32_scoreVolume_clf_37_warp_8_MD658_down32_scoreVolume_clf_37/score_volumes/atlasV3_down32_scoreVolume_clf_37_warp_8_MD658_down32_scoreVolume_clf_37_Pn_R.bp /home/yuncong/CSHL_volumes/atlasV3/atlasV3_down32_scoreVolume_clf_37_warp_8_MD658_down32_scoreVolume_clf_37/score_volumes/atlasV3_down32_scoreVolume_clf_37_warp_8_MD658_down32_scoreVolume_clf_37_Pn_R.bp\n"
     ]
    },
    {
     "name": "stderr",
     "output_type": "stream",
     "text": [
      "Child returned 0\n",
      "1.17 seconds.\n",
      "marching cube: 14.26 seconds\n",
      "mesh_to_polydata: 0.03 seconds\n",
      "simplify 0 @ 18225: 0.18 seconds\n",
      "simplify 1 @ 3647: 0.20 seconds\n",
      "simplify 2 @ 730: 0.04 seconds\n",
      "time: 16.68\n"
     ]
    },
    {
     "name": "stdout",
     "output_type": "stream",
     "text": [
      "Tz_L\n",
      "rm -rf /home/yuncong/CSHL_volumes/atlasV3/atlasV3_down32_scoreVolume_clf_37_warp_8_MD658_down32_scoreVolume_clf_37/score_volumes/atlasV3_down32_scoreVolume_clf_37_warp_8_MD658_down32_scoreVolume_clf_37_Tz_L.bp && mkdir -p /home/yuncong/CSHL_volumes/atlasV3/atlasV3_down32_scoreVolume_clf_37_warp_8_MD658_down32_scoreVolume_clf_37/score_volumes\n",
      "aws s3 cp s3://mousebrainatlas-data/CSHL_volumes/atlasV3/atlasV3_down32_scoreVolume_clf_37_warp_8_MD658_down32_scoreVolume_clf_37/score_volumes/atlasV3_down32_scoreVolume_clf_37_warp_8_MD658_down32_scoreVolume_clf_37_Tz_L.bp /home/yuncong/CSHL_volumes/atlasV3/atlasV3_down32_scoreVolume_clf_37_warp_8_MD658_down32_scoreVolume_clf_37/score_volumes/atlasV3_down32_scoreVolume_clf_37_warp_8_MD658_down32_scoreVolume_clf_37_Tz_L.bp\n"
     ]
    },
    {
     "name": "stderr",
     "output_type": "stream",
     "text": [
      "Child returned 0\n",
      "Child returned 0\n",
      "1.17 seconds.\n",
      "marching cube: 12.90 seconds\n",
      "mesh_to_polydata: 0.01 seconds\n",
      "simplify 0 @ 5596: 0.04 seconds\n",
      "simplify 1 @ 1120: 0.04 seconds\n",
      "simplify 2 @ 225: 0.01 seconds\n",
      "time: 14.99\n",
      "Child returned 0\n"
     ]
    },
    {
     "name": "stdout",
     "output_type": "stream",
     "text": [
      "Tz_R\n",
      "rm -rf /home/yuncong/CSHL_volumes/atlasV3/atlasV3_down32_scoreVolume_clf_37_warp_8_MD658_down32_scoreVolume_clf_37/score_volumes/atlasV3_down32_scoreVolume_clf_37_warp_8_MD658_down32_scoreVolume_clf_37_Tz_R.bp && mkdir -p /home/yuncong/CSHL_volumes/atlasV3/atlasV3_down32_scoreVolume_clf_37_warp_8_MD658_down32_scoreVolume_clf_37/score_volumes\n",
      "aws s3 cp s3://mousebrainatlas-data/CSHL_volumes/atlasV3/atlasV3_down32_scoreVolume_clf_37_warp_8_MD658_down32_scoreVolume_clf_37/score_volumes/atlasV3_down32_scoreVolume_clf_37_warp_8_MD658_down32_scoreVolume_clf_37_Tz_R.bp /home/yuncong/CSHL_volumes/atlasV3/atlasV3_down32_scoreVolume_clf_37_warp_8_MD658_down32_scoreVolume_clf_37/score_volumes/atlasV3_down32_scoreVolume_clf_37_warp_8_MD658_down32_scoreVolume_clf_37_Tz_R.bp\n"
     ]
    },
    {
     "name": "stderr",
     "output_type": "stream",
     "text": [
      "Child returned 0\n",
      "1.25 seconds.\n",
      "marching cube: 13.78 seconds\n",
      "mesh_to_polydata: 0.02 seconds\n",
      "simplify 0 @ 5354: 0.09 seconds\n",
      "simplify 1 @ 1073: 0.09 seconds\n",
      "simplify 2 @ 216: 0.02 seconds\n",
      "time: 15.94\n"
     ]
    },
    {
     "name": "stdout",
     "output_type": "stream",
     "text": [
      "VLL_L\n",
      "rm -rf /home/yuncong/CSHL_volumes/atlasV3/atlasV3_down32_scoreVolume_clf_37_warp_8_MD658_down32_scoreVolume_clf_37/score_volumes/atlasV3_down32_scoreVolume_clf_37_warp_8_MD658_down32_scoreVolume_clf_37_VLL_L.bp && mkdir -p /home/yuncong/CSHL_volumes/atlasV3/atlasV3_down32_scoreVolume_clf_37_warp_8_MD658_down32_scoreVolume_clf_37/score_volumes\n",
      "aws s3 cp s3://mousebrainatlas-data/CSHL_volumes/atlasV3/atlasV3_down32_scoreVolume_clf_37_warp_8_MD658_down32_scoreVolume_clf_37/score_volumes/atlasV3_down32_scoreVolume_clf_37_warp_8_MD658_down32_scoreVolume_clf_37_VLL_L.bp /home/yuncong/CSHL_volumes/atlasV3/atlasV3_down32_scoreVolume_clf_37_warp_8_MD658_down32_scoreVolume_clf_37/score_volumes/atlasV3_down32_scoreVolume_clf_37_warp_8_MD658_down32_scoreVolume_clf_37_VLL_L.bp\n"
     ]
    },
    {
     "name": "stderr",
     "output_type": "stream",
     "text": [
      "Child returned 0\n",
      "Child returned 0\n",
      "1.71 seconds.\n",
      "marching cube: 18.10 seconds\n",
      "mesh_to_polydata: 0.02 seconds\n",
      "simplify 0 @ 11709: 0.11 seconds\n",
      "simplify 1 @ 2343: 0.11 seconds\n",
      "simplify 2 @ 470: 0.02 seconds\n",
      "time: 22.09\n"
     ]
    },
    {
     "name": "stdout",
     "output_type": "stream",
     "text": [
      "VLL_R\n",
      "rm -rf /home/yuncong/CSHL_volumes/atlasV3/atlasV3_down32_scoreVolume_clf_37_warp_8_MD658_down32_scoreVolume_clf_37/score_volumes/atlasV3_down32_scoreVolume_clf_37_warp_8_MD658_down32_scoreVolume_clf_37_VLL_R.bp && mkdir -p /home/yuncong/CSHL_volumes/atlasV3/atlasV3_down32_scoreVolume_clf_37_warp_8_MD658_down32_scoreVolume_clf_37/score_volumes\n",
      "aws s3 cp s3://mousebrainatlas-data/CSHL_volumes/atlasV3/atlasV3_down32_scoreVolume_clf_37_warp_8_MD658_down32_scoreVolume_clf_37/score_volumes/atlasV3_down32_scoreVolume_clf_37_warp_8_MD658_down32_scoreVolume_clf_37_VLL_R.bp /home/yuncong/CSHL_volumes/atlasV3/atlasV3_down32_scoreVolume_clf_37_warp_8_MD658_down32_scoreVolume_clf_37/score_volumes/atlasV3_down32_scoreVolume_clf_37_warp_8_MD658_down32_scoreVolume_clf_37_VLL_R.bp\n"
     ]
    },
    {
     "name": "stderr",
     "output_type": "stream",
     "text": [
      "Child returned 0\n",
      "Child returned 0\n",
      "1.17 seconds.\n",
      "marching cube: 12.79 seconds\n",
      "mesh_to_polydata: 0.02 seconds\n",
      "simplify 0 @ 11154: 0.10 seconds\n",
      "simplify 1 @ 2232: 0.10 seconds\n",
      "simplify 2 @ 448: 0.02 seconds\n",
      "time: 15.09\n",
      "Child returned 0\n"
     ]
    },
    {
     "name": "stdout",
     "output_type": "stream",
     "text": [
      "RMC_L\n",
      "rm -rf /home/yuncong/CSHL_volumes/atlasV3/atlasV3_down32_scoreVolume_clf_37_warp_8_MD658_down32_scoreVolume_clf_37/score_volumes/atlasV3_down32_scoreVolume_clf_37_warp_8_MD658_down32_scoreVolume_clf_37_RMC_L.bp && mkdir -p /home/yuncong/CSHL_volumes/atlasV3/atlasV3_down32_scoreVolume_clf_37_warp_8_MD658_down32_scoreVolume_clf_37/score_volumes\n",
      "aws s3 cp s3://mousebrainatlas-data/CSHL_volumes/atlasV3/atlasV3_down32_scoreVolume_clf_37_warp_8_MD658_down32_scoreVolume_clf_37/score_volumes/atlasV3_down32_scoreVolume_clf_37_warp_8_MD658_down32_scoreVolume_clf_37_RMC_L.bp /home/yuncong/CSHL_volumes/atlasV3/atlasV3_down32_scoreVolume_clf_37_warp_8_MD658_down32_scoreVolume_clf_37/score_volumes/atlasV3_down32_scoreVolume_clf_37_warp_8_MD658_down32_scoreVolume_clf_37_RMC_L.bp\n"
     ]
    },
    {
     "name": "stderr",
     "output_type": "stream",
     "text": [
      "Child returned 0\n",
      "1.22 seconds.\n",
      "marching cube: 17.14 seconds\n",
      "mesh_to_polydata: 0.01 seconds\n",
      "simplify 0 @ 6059: 0.04 seconds\n",
      "simplify 1 @ 1213: 0.05 seconds\n",
      "simplify 2 @ 244: 0.01 seconds\n",
      "time: 19.42\n"
     ]
    },
    {
     "name": "stdout",
     "output_type": "stream",
     "text": [
      "RMC_R\n",
      "rm -rf /home/yuncong/CSHL_volumes/atlasV3/atlasV3_down32_scoreVolume_clf_37_warp_8_MD658_down32_scoreVolume_clf_37/score_volumes/atlasV3_down32_scoreVolume_clf_37_warp_8_MD658_down32_scoreVolume_clf_37_RMC_R.bp && mkdir -p /home/yuncong/CSHL_volumes/atlasV3/atlasV3_down32_scoreVolume_clf_37_warp_8_MD658_down32_scoreVolume_clf_37/score_volumes\n",
      "aws s3 cp s3://mousebrainatlas-data/CSHL_volumes/atlasV3/atlasV3_down32_scoreVolume_clf_37_warp_8_MD658_down32_scoreVolume_clf_37/score_volumes/atlasV3_down32_scoreVolume_clf_37_warp_8_MD658_down32_scoreVolume_clf_37_RMC_R.bp /home/yuncong/CSHL_volumes/atlasV3/atlasV3_down32_scoreVolume_clf_37_warp_8_MD658_down32_scoreVolume_clf_37/score_volumes/atlasV3_down32_scoreVolume_clf_37_warp_8_MD658_down32_scoreVolume_clf_37_RMC_R.bp\n"
     ]
    },
    {
     "name": "stderr",
     "output_type": "stream",
     "text": [
      "Child returned 0\n",
      "Child returned 0\n",
      "1.25 seconds.\n",
      "marching cube: 12.82 seconds\n",
      "mesh_to_polydata: 0.01 seconds\n",
      "simplify 0 @ 6113: 0.05 seconds\n",
      "simplify 1 @ 1224: 0.05 seconds\n",
      "simplify 2 @ 246: 0.01 seconds\n",
      "time: 14.87\n"
     ]
    },
    {
     "name": "stdout",
     "output_type": "stream",
     "text": [
      "SNC_L\n",
      "rm -rf /home/yuncong/CSHL_volumes/atlasV3/atlasV3_down32_scoreVolume_clf_37_warp_8_MD658_down32_scoreVolume_clf_37/score_volumes/atlasV3_down32_scoreVolume_clf_37_warp_8_MD658_down32_scoreVolume_clf_37_SNC_L.bp && mkdir -p /home/yuncong/CSHL_volumes/atlasV3/atlasV3_down32_scoreVolume_clf_37_warp_8_MD658_down32_scoreVolume_clf_37/score_volumes\n",
      "aws s3 cp s3://mousebrainatlas-data/CSHL_volumes/atlasV3/atlasV3_down32_scoreVolume_clf_37_warp_8_MD658_down32_scoreVolume_clf_37/score_volumes/atlasV3_down32_scoreVolume_clf_37_warp_8_MD658_down32_scoreVolume_clf_37_SNC_L.bp /home/yuncong/CSHL_volumes/atlasV3/atlasV3_down32_scoreVolume_clf_37_warp_8_MD658_down32_scoreVolume_clf_37/score_volumes/atlasV3_down32_scoreVolume_clf_37_warp_8_MD658_down32_scoreVolume_clf_37_SNC_L.bp\n"
     ]
    },
    {
     "name": "stderr",
     "output_type": "stream",
     "text": [
      "Child returned 0\n",
      "Child returned 0\n",
      "1.22 seconds.\n",
      "marching cube: 18.91 seconds\n",
      "mesh_to_polydata: 0.02 seconds\n",
      "simplify 0 @ 6776: 0.09 seconds\n",
      "simplify 1 @ 1357: 0.10 seconds\n",
      "simplify 2 @ 273: 0.02 seconds\n",
      "time: 22.87\n"
     ]
    },
    {
     "name": "stdout",
     "output_type": "stream",
     "text": [
      "SNC_R\n",
      "rm -rf /home/yuncong/CSHL_volumes/atlasV3/atlasV3_down32_scoreVolume_clf_37_warp_8_MD658_down32_scoreVolume_clf_37/score_volumes/atlasV3_down32_scoreVolume_clf_37_warp_8_MD658_down32_scoreVolume_clf_37_SNC_R.bp && mkdir -p /home/yuncong/CSHL_volumes/atlasV3/atlasV3_down32_scoreVolume_clf_37_warp_8_MD658_down32_scoreVolume_clf_37/score_volumes\n",
      "aws s3 cp s3://mousebrainatlas-data/CSHL_volumes/atlasV3/atlasV3_down32_scoreVolume_clf_37_warp_8_MD658_down32_scoreVolume_clf_37/score_volumes/atlasV3_down32_scoreVolume_clf_37_warp_8_MD658_down32_scoreVolume_clf_37_SNC_R.bp /home/yuncong/CSHL_volumes/atlasV3/atlasV3_down32_scoreVolume_clf_37_warp_8_MD658_down32_scoreVolume_clf_37/score_volumes/atlasV3_down32_scoreVolume_clf_37_warp_8_MD658_down32_scoreVolume_clf_37_SNC_R.bp\n"
     ]
    },
    {
     "name": "stderr",
     "output_type": "stream",
     "text": [
      "Child returned 0\n",
      "Child returned 0\n",
      "1.63 seconds.\n",
      "marching cube: 16.63 seconds\n",
      "mesh_to_polydata: 0.02 seconds\n",
      "simplify 0 @ 6881: 0.09 seconds\n",
      "simplify 1 @ 1377: 0.09 seconds\n",
      "simplify 2 @ 277: 0.02 seconds\n",
      "time: 19.08\n"
     ]
    },
    {
     "name": "stdout",
     "output_type": "stream",
     "text": [
      "SNR_L\n",
      "rm -rf /home/yuncong/CSHL_volumes/atlasV3/atlasV3_down32_scoreVolume_clf_37_warp_8_MD658_down32_scoreVolume_clf_37/score_volumes/atlasV3_down32_scoreVolume_clf_37_warp_8_MD658_down32_scoreVolume_clf_37_SNR_L.bp && mkdir -p /home/yuncong/CSHL_volumes/atlasV3/atlasV3_down32_scoreVolume_clf_37_warp_8_MD658_down32_scoreVolume_clf_37/score_volumes\n",
      "aws s3 cp s3://mousebrainatlas-data/CSHL_volumes/atlasV3/atlasV3_down32_scoreVolume_clf_37_warp_8_MD658_down32_scoreVolume_clf_37/score_volumes/atlasV3_down32_scoreVolume_clf_37_warp_8_MD658_down32_scoreVolume_clf_37_SNR_L.bp /home/yuncong/CSHL_volumes/atlasV3/atlasV3_down32_scoreVolume_clf_37_warp_8_MD658_down32_scoreVolume_clf_37/score_volumes/atlasV3_down32_scoreVolume_clf_37_warp_8_MD658_down32_scoreVolume_clf_37_SNR_L.bp\n"
     ]
    },
    {
     "name": "stderr",
     "output_type": "stream",
     "text": [
      "Child returned 0\n",
      "Child returned 0\n",
      "1.63 seconds.\n",
      "marching cube: 17.02 seconds\n",
      "mesh_to_polydata: 0.04 seconds\n",
      "simplify 0 @ 27937: 0.27 seconds\n",
      "simplify 1 @ 5590: 0.32 seconds\n",
      "simplify 2 @ 1119: 0.07 seconds\n",
      "time: 19.95\n"
     ]
    },
    {
     "name": "stdout",
     "output_type": "stream",
     "text": [
      "SNR_R\n",
      "rm -rf /home/yuncong/CSHL_volumes/atlasV3/atlasV3_down32_scoreVolume_clf_37_warp_8_MD658_down32_scoreVolume_clf_37/score_volumes/atlasV3_down32_scoreVolume_clf_37_warp_8_MD658_down32_scoreVolume_clf_37_SNR_R.bp && mkdir -p /home/yuncong/CSHL_volumes/atlasV3/atlasV3_down32_scoreVolume_clf_37_warp_8_MD658_down32_scoreVolume_clf_37/score_volumes\n",
      "aws s3 cp s3://mousebrainatlas-data/CSHL_volumes/atlasV3/atlasV3_down32_scoreVolume_clf_37_warp_8_MD658_down32_scoreVolume_clf_37/score_volumes/atlasV3_down32_scoreVolume_clf_37_warp_8_MD658_down32_scoreVolume_clf_37_SNR_R.bp /home/yuncong/CSHL_volumes/atlasV3/atlasV3_down32_scoreVolume_clf_37_warp_8_MD658_down32_scoreVolume_clf_37/score_volumes/atlasV3_down32_scoreVolume_clf_37_warp_8_MD658_down32_scoreVolume_clf_37_SNR_R.bp\n"
     ]
    },
    {
     "name": "stderr",
     "output_type": "stream",
     "text": [
      "Child returned 0\n",
      "Child returned 0\n",
      "1.31 seconds.\n",
      "marching cube: 17.38 seconds\n",
      "mesh_to_polydata: 0.04 seconds\n",
      "simplify 0 @ 28087: 0.23 seconds\n",
      "simplify 1 @ 5621: 0.28 seconds\n",
      "simplify 2 @ 1125: 0.06 seconds\n",
      "time: 20.10\n"
     ]
    },
    {
     "name": "stdout",
     "output_type": "stream",
     "text": [
      "3N_L\n",
      "rm -rf /home/yuncong/CSHL_volumes/atlasV3/atlasV3_down32_scoreVolume_clf_37_warp_8_MD658_down32_scoreVolume_clf_37/score_volumes/atlasV3_down32_scoreVolume_clf_37_warp_8_MD658_down32_scoreVolume_clf_37_3N_L.bp && mkdir -p /home/yuncong/CSHL_volumes/atlasV3/atlasV3_down32_scoreVolume_clf_37_warp_8_MD658_down32_scoreVolume_clf_37/score_volumes\n",
      "aws s3 cp s3://mousebrainatlas-data/CSHL_volumes/atlasV3/atlasV3_down32_scoreVolume_clf_37_warp_8_MD658_down32_scoreVolume_clf_37/score_volumes/atlasV3_down32_scoreVolume_clf_37_warp_8_MD658_down32_scoreVolume_clf_37_3N_L.bp /home/yuncong/CSHL_volumes/atlasV3/atlasV3_down32_scoreVolume_clf_37_warp_8_MD658_down32_scoreVolume_clf_37/score_volumes/atlasV3_down32_scoreVolume_clf_37_warp_8_MD658_down32_scoreVolume_clf_37_3N_L.bp\n"
     ]
    },
    {
     "name": "stderr",
     "output_type": "stream",
     "text": [
      "Child returned 0\n",
      "Child returned 0\n",
      "1.24 seconds.\n",
      "marching cube: 12.85 seconds\n",
      "mesh_to_polydata: 0.00 seconds\n",
      "simplify 0 @ 2600: 0.02 seconds\n",
      "simplify 1 @ 521: 0.02 seconds\n",
      "time: 14.92\n",
      "Child returned 0\n"
     ]
    },
    {
     "name": "stdout",
     "output_type": "stream",
     "text": [
      "3N_R\n",
      "rm -rf /home/yuncong/CSHL_volumes/atlasV3/atlasV3_down32_scoreVolume_clf_37_warp_8_MD658_down32_scoreVolume_clf_37/score_volumes/atlasV3_down32_scoreVolume_clf_37_warp_8_MD658_down32_scoreVolume_clf_37_3N_R.bp && mkdir -p /home/yuncong/CSHL_volumes/atlasV3/atlasV3_down32_scoreVolume_clf_37_warp_8_MD658_down32_scoreVolume_clf_37/score_volumes\n",
      "aws s3 cp s3://mousebrainatlas-data/CSHL_volumes/atlasV3/atlasV3_down32_scoreVolume_clf_37_warp_8_MD658_down32_scoreVolume_clf_37/score_volumes/atlasV3_down32_scoreVolume_clf_37_warp_8_MD658_down32_scoreVolume_clf_37_3N_R.bp /home/yuncong/CSHL_volumes/atlasV3/atlasV3_down32_scoreVolume_clf_37_warp_8_MD658_down32_scoreVolume_clf_37/score_volumes/atlasV3_down32_scoreVolume_clf_37_warp_8_MD658_down32_scoreVolume_clf_37_3N_R.bp\n"
     ]
    },
    {
     "name": "stderr",
     "output_type": "stream",
     "text": [
      "Child returned 0\n",
      "2.24 seconds.\n",
      "marching cube: 18.02 seconds\n",
      "mesh_to_polydata: 0.01 seconds\n",
      "simplify 0 @ 2762: 0.04 seconds\n",
      "simplify 1 @ 554: 0.04 seconds\n",
      "time: 20.01\n"
     ]
    },
    {
     "name": "stdout",
     "output_type": "stream",
     "text": [
      "4N_L\n",
      "rm -rf /home/yuncong/CSHL_volumes/atlasV3/atlasV3_down32_scoreVolume_clf_37_warp_8_MD658_down32_scoreVolume_clf_37/score_volumes/atlasV3_down32_scoreVolume_clf_37_warp_8_MD658_down32_scoreVolume_clf_37_4N_L.bp && mkdir -p /home/yuncong/CSHL_volumes/atlasV3/atlasV3_down32_scoreVolume_clf_37_warp_8_MD658_down32_scoreVolume_clf_37/score_volumes\n",
      "aws s3 cp s3://mousebrainatlas-data/CSHL_volumes/atlasV3/atlasV3_down32_scoreVolume_clf_37_warp_8_MD658_down32_scoreVolume_clf_37/score_volumes/atlasV3_down32_scoreVolume_clf_37_warp_8_MD658_down32_scoreVolume_clf_37_4N_L.bp /home/yuncong/CSHL_volumes/atlasV3/atlasV3_down32_scoreVolume_clf_37_warp_8_MD658_down32_scoreVolume_clf_37/score_volumes/atlasV3_down32_scoreVolume_clf_37_warp_8_MD658_down32_scoreVolume_clf_37_4N_L.bp\n"
     ]
    },
    {
     "name": "stderr",
     "output_type": "stream",
     "text": [
      "Child returned 0\n",
      "Child returned 0\n",
      "1.48 seconds.\n",
      "marching cube: 15.03 seconds\n",
      "mesh_to_polydata: 0.00 seconds\n",
      "simplify 0 @ 502: 0.00 seconds\n",
      "time: 17.90\n",
      "Child returned 0\n"
     ]
    },
    {
     "name": "stdout",
     "output_type": "stream",
     "text": [
      "4N_R\n",
      "rm -rf /home/yuncong/CSHL_volumes/atlasV3/atlasV3_down32_scoreVolume_clf_37_warp_8_MD658_down32_scoreVolume_clf_37/score_volumes/atlasV3_down32_scoreVolume_clf_37_warp_8_MD658_down32_scoreVolume_clf_37_4N_R.bp && mkdir -p /home/yuncong/CSHL_volumes/atlasV3/atlasV3_down32_scoreVolume_clf_37_warp_8_MD658_down32_scoreVolume_clf_37/score_volumes\n",
      "aws s3 cp s3://mousebrainatlas-data/CSHL_volumes/atlasV3/atlasV3_down32_scoreVolume_clf_37_warp_8_MD658_down32_scoreVolume_clf_37/score_volumes/atlasV3_down32_scoreVolume_clf_37_warp_8_MD658_down32_scoreVolume_clf_37_4N_R.bp /home/yuncong/CSHL_volumes/atlasV3/atlasV3_down32_scoreVolume_clf_37_warp_8_MD658_down32_scoreVolume_clf_37/score_volumes/atlasV3_down32_scoreVolume_clf_37_warp_8_MD658_down32_scoreVolume_clf_37_4N_R.bp\n"
     ]
    },
    {
     "name": "stderr",
     "output_type": "stream",
     "text": [
      "Child returned 0\n",
      "5.28 seconds.\n",
      "marching cube: 14.23 seconds\n",
      "mesh_to_polydata: 0.00 seconds\n",
      "simplify 0 @ 568: 0.00 seconds\n",
      "time: 16.12\n",
      "Child returned 0\n"
     ]
    },
    {
     "name": "stdout",
     "output_type": "stream",
     "text": [
      "Sp5I_L\n",
      "rm -rf /home/yuncong/CSHL_volumes/atlasV3/atlasV3_down32_scoreVolume_clf_37_warp_8_MD658_down32_scoreVolume_clf_37/score_volumes/atlasV3_down32_scoreVolume_clf_37_warp_8_MD658_down32_scoreVolume_clf_37_Sp5I_L.bp && mkdir -p /home/yuncong/CSHL_volumes/atlasV3/atlasV3_down32_scoreVolume_clf_37_warp_8_MD658_down32_scoreVolume_clf_37/score_volumes\n",
      "aws s3 cp s3://mousebrainatlas-data/CSHL_volumes/atlasV3/atlasV3_down32_scoreVolume_clf_37_warp_8_MD658_down32_scoreVolume_clf_37/score_volumes/atlasV3_down32_scoreVolume_clf_37_warp_8_MD658_down32_scoreVolume_clf_37_Sp5I_L.bp /home/yuncong/CSHL_volumes/atlasV3/atlasV3_down32_scoreVolume_clf_37_warp_8_MD658_down32_scoreVolume_clf_37/score_volumes/atlasV3_down32_scoreVolume_clf_37_warp_8_MD658_down32_scoreVolume_clf_37_Sp5I_L.bp\n"
     ]
    },
    {
     "name": "stderr",
     "output_type": "stream",
     "text": [
      "Child returned 0\n",
      "1.24 seconds.\n",
      "marching cube: 14.93 seconds\n",
      "mesh_to_polydata: 0.03 seconds\n",
      "simplify 0 @ 10877: 0.21 seconds\n",
      "simplify 1 @ 2177: 0.19 seconds\n",
      "simplify 2 @ 437: 0.04 seconds\n",
      "time: 18.52\n"
     ]
    },
    {
     "name": "stdout",
     "output_type": "stream",
     "text": [
      "Sp5I_R\n",
      "rm -rf /home/yuncong/CSHL_volumes/atlasV3/atlasV3_down32_scoreVolume_clf_37_warp_8_MD658_down32_scoreVolume_clf_37/score_volumes/atlasV3_down32_scoreVolume_clf_37_warp_8_MD658_down32_scoreVolume_clf_37_Sp5I_R.bp && mkdir -p /home/yuncong/CSHL_volumes/atlasV3/atlasV3_down32_scoreVolume_clf_37_warp_8_MD658_down32_scoreVolume_clf_37/score_volumes\n",
      "aws s3 cp s3://mousebrainatlas-data/CSHL_volumes/atlasV3/atlasV3_down32_scoreVolume_clf_37_warp_8_MD658_down32_scoreVolume_clf_37/score_volumes/atlasV3_down32_scoreVolume_clf_37_warp_8_MD658_down32_scoreVolume_clf_37_Sp5I_R.bp /home/yuncong/CSHL_volumes/atlasV3/atlasV3_down32_scoreVolume_clf_37_warp_8_MD658_down32_scoreVolume_clf_37/score_volumes/atlasV3_down32_scoreVolume_clf_37_warp_8_MD658_down32_scoreVolume_clf_37_Sp5I_R.bp\n"
     ]
    },
    {
     "name": "stderr",
     "output_type": "stream",
     "text": [
      "Child returned 0\n",
      "Child returned 0\n",
      "1.77 seconds.\n",
      "marching cube: 15.56 seconds\n",
      "mesh_to_polydata: 0.01 seconds\n",
      "simplify 0 @ 10761: 0.09 seconds\n",
      "simplify 1 @ 2154: 0.08 seconds\n",
      "simplify 2 @ 432: 0.02 seconds\n",
      "time: 19.10\n"
     ]
    },
    {
     "name": "stdout",
     "output_type": "stream",
     "text": [
      "Sp5O_L\n",
      "rm -rf /home/yuncong/CSHL_volumes/atlasV3/atlasV3_down32_scoreVolume_clf_37_warp_8_MD658_down32_scoreVolume_clf_37/score_volumes/atlasV3_down32_scoreVolume_clf_37_warp_8_MD658_down32_scoreVolume_clf_37_Sp5O_L.bp && mkdir -p /home/yuncong/CSHL_volumes/atlasV3/atlasV3_down32_scoreVolume_clf_37_warp_8_MD658_down32_scoreVolume_clf_37/score_volumes\n",
      "aws s3 cp s3://mousebrainatlas-data/CSHL_volumes/atlasV3/atlasV3_down32_scoreVolume_clf_37_warp_8_MD658_down32_scoreVolume_clf_37/score_volumes/atlasV3_down32_scoreVolume_clf_37_warp_8_MD658_down32_scoreVolume_clf_37_Sp5O_L.bp /home/yuncong/CSHL_volumes/atlasV3/atlasV3_down32_scoreVolume_clf_37_warp_8_MD658_down32_scoreVolume_clf_37/score_volumes/atlasV3_down32_scoreVolume_clf_37_warp_8_MD658_down32_scoreVolume_clf_37_Sp5O_L.bp\n"
     ]
    },
    {
     "name": "stderr",
     "output_type": "stream",
     "text": [
      "Child returned 0\n",
      "Child returned 0\n",
      "1.16 seconds.\n",
      "marching cube: 15.77 seconds\n",
      "mesh_to_polydata: 0.04 seconds\n",
      "simplify 0 @ 13125: 0.27 seconds\n",
      "simplify 1 @ 2627: 0.20 seconds\n",
      "simplify 2 @ 526: 0.04 seconds\n",
      "time: 18.28\n"
     ]
    },
    {
     "name": "stdout",
     "output_type": "stream",
     "text": [
      "Sp5O_R\n",
      "rm -rf /home/yuncong/CSHL_volumes/atlasV3/atlasV3_down32_scoreVolume_clf_37_warp_8_MD658_down32_scoreVolume_clf_37/score_volumes/atlasV3_down32_scoreVolume_clf_37_warp_8_MD658_down32_scoreVolume_clf_37_Sp5O_R.bp && mkdir -p /home/yuncong/CSHL_volumes/atlasV3/atlasV3_down32_scoreVolume_clf_37_warp_8_MD658_down32_scoreVolume_clf_37/score_volumes\n",
      "aws s3 cp s3://mousebrainatlas-data/CSHL_volumes/atlasV3/atlasV3_down32_scoreVolume_clf_37_warp_8_MD658_down32_scoreVolume_clf_37/score_volumes/atlasV3_down32_scoreVolume_clf_37_warp_8_MD658_down32_scoreVolume_clf_37_Sp5O_R.bp /home/yuncong/CSHL_volumes/atlasV3/atlasV3_down32_scoreVolume_clf_37_warp_8_MD658_down32_scoreVolume_clf_37/score_volumes/atlasV3_down32_scoreVolume_clf_37_warp_8_MD658_down32_scoreVolume_clf_37_Sp5O_R.bp\n"
     ]
    },
    {
     "name": "stderr",
     "output_type": "stream",
     "text": [
      "Child returned 0\n",
      "Child returned 0\n",
      "1.55 seconds.\n",
      "marching cube: 18.05 seconds\n",
      "mesh_to_polydata: 0.04 seconds\n",
      "simplify 0 @ 13751: 0.25 seconds\n",
      "simplify 1 @ 2751: 0.20 seconds\n",
      "simplify 2 @ 551: 0.05 seconds\n",
      "time: 20.68\n"
     ]
    },
    {
     "name": "stdout",
     "output_type": "stream",
     "text": [
      "Sp5C_L\n",
      "rm -rf /home/yuncong/CSHL_volumes/atlasV3/atlasV3_down32_scoreVolume_clf_37_warp_8_MD658_down32_scoreVolume_clf_37/score_volumes/atlasV3_down32_scoreVolume_clf_37_warp_8_MD658_down32_scoreVolume_clf_37_Sp5C_L.bp && mkdir -p /home/yuncong/CSHL_volumes/atlasV3/atlasV3_down32_scoreVolume_clf_37_warp_8_MD658_down32_scoreVolume_clf_37/score_volumes\n",
      "aws s3 cp s3://mousebrainatlas-data/CSHL_volumes/atlasV3/atlasV3_down32_scoreVolume_clf_37_warp_8_MD658_down32_scoreVolume_clf_37/score_volumes/atlasV3_down32_scoreVolume_clf_37_warp_8_MD658_down32_scoreVolume_clf_37_Sp5C_L.bp /home/yuncong/CSHL_volumes/atlasV3/atlasV3_down32_scoreVolume_clf_37_warp_8_MD658_down32_scoreVolume_clf_37/score_volumes/atlasV3_down32_scoreVolume_clf_37_warp_8_MD658_down32_scoreVolume_clf_37_Sp5C_L.bp\n"
     ]
    },
    {
     "name": "stderr",
     "output_type": "stream",
     "text": [
      "Child returned 0\n",
      "Child returned 0\n",
      "1.69 seconds.\n",
      "marching cube: 17.68 seconds\n",
      "mesh_to_polydata: 0.07 seconds\n",
      "simplify 0 @ 31601: 0.44 seconds\n",
      "simplify 1 @ 6323: 0.44 seconds\n",
      "simplify 2 @ 1265: 0.07 seconds\n",
      "time: 21.45\n",
      "Child returned 0\n"
     ]
    },
    {
     "name": "stdout",
     "output_type": "stream",
     "text": [
      "Sp5C_R\n",
      "rm -rf /home/yuncong/CSHL_volumes/atlasV3/atlasV3_down32_scoreVolume_clf_37_warp_8_MD658_down32_scoreVolume_clf_37/score_volumes/atlasV3_down32_scoreVolume_clf_37_warp_8_MD658_down32_scoreVolume_clf_37_Sp5C_R.bp && mkdir -p /home/yuncong/CSHL_volumes/atlasV3/atlasV3_down32_scoreVolume_clf_37_warp_8_MD658_down32_scoreVolume_clf_37/score_volumes\n",
      "aws s3 cp s3://mousebrainatlas-data/CSHL_volumes/atlasV3/atlasV3_down32_scoreVolume_clf_37_warp_8_MD658_down32_scoreVolume_clf_37/score_volumes/atlasV3_down32_scoreVolume_clf_37_warp_8_MD658_down32_scoreVolume_clf_37_Sp5C_R.bp /home/yuncong/CSHL_volumes/atlasV3/atlasV3_down32_scoreVolume_clf_37_warp_8_MD658_down32_scoreVolume_clf_37/score_volumes/atlasV3_down32_scoreVolume_clf_37_warp_8_MD658_down32_scoreVolume_clf_37_Sp5C_R.bp\n"
     ]
    },
    {
     "name": "stderr",
     "output_type": "stream",
     "text": [
      "Child returned 0\n",
      "1.24 seconds.\n",
      "marching cube: 17.08 seconds\n",
      "mesh_to_polydata: 0.05 seconds\n",
      "simplify 0 @ 29489: 0.30 seconds\n",
      "simplify 1 @ 5900: 0.32 seconds\n",
      "simplify 2 @ 1181: 0.06 seconds\n",
      "time: 19.91\n"
     ]
    },
    {
     "name": "stdout",
     "output_type": "stream",
     "text": [
      "PBG_L\n",
      "rm -rf /home/yuncong/CSHL_volumes/atlasV3/atlasV3_down32_scoreVolume_clf_37_warp_8_MD658_down32_scoreVolume_clf_37/score_volumes/atlasV3_down32_scoreVolume_clf_37_warp_8_MD658_down32_scoreVolume_clf_37_PBG_L.bp && mkdir -p /home/yuncong/CSHL_volumes/atlasV3/atlasV3_down32_scoreVolume_clf_37_warp_8_MD658_down32_scoreVolume_clf_37/score_volumes\n",
      "aws s3 cp s3://mousebrainatlas-data/CSHL_volumes/atlasV3/atlasV3_down32_scoreVolume_clf_37_warp_8_MD658_down32_scoreVolume_clf_37/score_volumes/atlasV3_down32_scoreVolume_clf_37_warp_8_MD658_down32_scoreVolume_clf_37_PBG_L.bp /home/yuncong/CSHL_volumes/atlasV3/atlasV3_down32_scoreVolume_clf_37_warp_8_MD658_down32_scoreVolume_clf_37/score_volumes/atlasV3_down32_scoreVolume_clf_37_warp_8_MD658_down32_scoreVolume_clf_37_PBG_L.bp\n"
     ]
    },
    {
     "name": "stderr",
     "output_type": "stream",
     "text": [
      "Child returned 0\n",
      "Child returned 0\n",
      "1.38 seconds.\n",
      "marching cube: 13.05 seconds\n",
      "mesh_to_polydata: 0.00 seconds\n",
      "simplify 0 @ 1936: 0.02 seconds\n",
      "simplify 1 @ 388: 0.01 seconds\n",
      "time: 15.16\n",
      "Child returned 0\n"
     ]
    },
    {
     "name": "stdout",
     "output_type": "stream",
     "text": [
      "PBG_R\n",
      "rm -rf /home/yuncong/CSHL_volumes/atlasV3/atlasV3_down32_scoreVolume_clf_37_warp_8_MD658_down32_scoreVolume_clf_37/score_volumes/atlasV3_down32_scoreVolume_clf_37_warp_8_MD658_down32_scoreVolume_clf_37_PBG_R.bp && mkdir -p /home/yuncong/CSHL_volumes/atlasV3/atlasV3_down32_scoreVolume_clf_37_warp_8_MD658_down32_scoreVolume_clf_37/score_volumes\n",
      "aws s3 cp s3://mousebrainatlas-data/CSHL_volumes/atlasV3/atlasV3_down32_scoreVolume_clf_37_warp_8_MD658_down32_scoreVolume_clf_37/score_volumes/atlasV3_down32_scoreVolume_clf_37_warp_8_MD658_down32_scoreVolume_clf_37_PBG_R.bp /home/yuncong/CSHL_volumes/atlasV3/atlasV3_down32_scoreVolume_clf_37_warp_8_MD658_down32_scoreVolume_clf_37/score_volumes/atlasV3_down32_scoreVolume_clf_37_warp_8_MD658_down32_scoreVolume_clf_37_PBG_R.bp\n"
     ]
    },
    {
     "name": "stderr",
     "output_type": "stream",
     "text": [
      "Child returned 0\n",
      "1.27 seconds.\n",
      "marching cube: 17.97 seconds\n",
      "mesh_to_polydata: 0.00 seconds\n",
      "simplify 0 @ 1932: 0.01 seconds\n",
      "simplify 1 @ 388: 0.01 seconds\n",
      "time: 19.92\n",
      "Child returned 0\n"
     ]
    },
    {
     "name": "stdout",
     "output_type": "stream",
     "text": [
      "10N_L\n",
      "rm -rf /home/yuncong/CSHL_volumes/atlasV3/atlasV3_down32_scoreVolume_clf_37_warp_8_MD658_down32_scoreVolume_clf_37/score_volumes/atlasV3_down32_scoreVolume_clf_37_warp_8_MD658_down32_scoreVolume_clf_37_10N_L.bp && mkdir -p /home/yuncong/CSHL_volumes/atlasV3/atlasV3_down32_scoreVolume_clf_37_warp_8_MD658_down32_scoreVolume_clf_37/score_volumes\n",
      "aws s3 cp s3://mousebrainatlas-data/CSHL_volumes/atlasV3/atlasV3_down32_scoreVolume_clf_37_warp_8_MD658_down32_scoreVolume_clf_37/score_volumes/atlasV3_down32_scoreVolume_clf_37_warp_8_MD658_down32_scoreVolume_clf_37_10N_L.bp /home/yuncong/CSHL_volumes/atlasV3/atlasV3_down32_scoreVolume_clf_37_warp_8_MD658_down32_scoreVolume_clf_37/score_volumes/atlasV3_down32_scoreVolume_clf_37_warp_8_MD658_down32_scoreVolume_clf_37_10N_L.bp\n"
     ]
    },
    {
     "name": "stderr",
     "output_type": "stream",
     "text": [
      "Child returned 0\n",
      "1.30 seconds.\n",
      "marching cube: 12.95 seconds\n",
      "mesh_to_polydata: 0.01 seconds\n",
      "simplify 0 @ 4179: 0.03 seconds\n",
      "simplify 1 @ 837: 0.03 seconds\n",
      "time: 15.12\n",
      "Child returned 0\n"
     ]
    },
    {
     "name": "stdout",
     "output_type": "stream",
     "text": [
      "10N_R\n",
      "rm -rf /home/yuncong/CSHL_volumes/atlasV3/atlasV3_down32_scoreVolume_clf_37_warp_8_MD658_down32_scoreVolume_clf_37/score_volumes/atlasV3_down32_scoreVolume_clf_37_warp_8_MD658_down32_scoreVolume_clf_37_10N_R.bp && mkdir -p /home/yuncong/CSHL_volumes/atlasV3/atlasV3_down32_scoreVolume_clf_37_warp_8_MD658_down32_scoreVolume_clf_37/score_volumes\n",
      "aws s3 cp s3://mousebrainatlas-data/CSHL_volumes/atlasV3/atlasV3_down32_scoreVolume_clf_37_warp_8_MD658_down32_scoreVolume_clf_37/score_volumes/atlasV3_down32_scoreVolume_clf_37_warp_8_MD658_down32_scoreVolume_clf_37_10N_R.bp /home/yuncong/CSHL_volumes/atlasV3/atlasV3_down32_scoreVolume_clf_37_warp_8_MD658_down32_scoreVolume_clf_37/score_volumes/atlasV3_down32_scoreVolume_clf_37_warp_8_MD658_down32_scoreVolume_clf_37_10N_R.bp\n"
     ]
    },
    {
     "name": "stderr",
     "output_type": "stream",
     "text": [
      "Child returned 0\n",
      "1.24 seconds.\n",
      "marching cube: 15.35 seconds\n",
      "mesh_to_polydata: 0.01 seconds\n",
      "simplify 0 @ 3952: 0.07 seconds\n",
      "simplify 1 @ 792: 0.06 seconds\n",
      "time: 17.40\n"
     ]
    },
    {
     "name": "stdout",
     "output_type": "stream",
     "text": [
      "VCA_L\n",
      "rm -rf /home/yuncong/CSHL_volumes/atlasV3/atlasV3_down32_scoreVolume_clf_37_warp_8_MD658_down32_scoreVolume_clf_37/score_volumes/atlasV3_down32_scoreVolume_clf_37_warp_8_MD658_down32_scoreVolume_clf_37_VCA_L.bp && mkdir -p /home/yuncong/CSHL_volumes/atlasV3/atlasV3_down32_scoreVolume_clf_37_warp_8_MD658_down32_scoreVolume_clf_37/score_volumes\n",
      "aws s3 cp s3://mousebrainatlas-data/CSHL_volumes/atlasV3/atlasV3_down32_scoreVolume_clf_37_warp_8_MD658_down32_scoreVolume_clf_37/score_volumes/atlasV3_down32_scoreVolume_clf_37_warp_8_MD658_down32_scoreVolume_clf_37_VCA_L.bp /home/yuncong/CSHL_volumes/atlasV3/atlasV3_down32_scoreVolume_clf_37_warp_8_MD658_down32_scoreVolume_clf_37/score_volumes/atlasV3_down32_scoreVolume_clf_37_warp_8_MD658_down32_scoreVolume_clf_37_VCA_L.bp\n"
     ]
    },
    {
     "name": "stderr",
     "output_type": "stream",
     "text": [
      "Child returned 0\n",
      "Child returned 0\n",
      "1.64 seconds.\n",
      "marching cube: 18.05 seconds\n",
      "mesh_to_polydata: 0.02 seconds\n",
      "simplify 0 @ 12593: 0.13 seconds\n",
      "simplify 1 @ 2520: 0.14 seconds\n",
      "simplify 2 @ 505: 0.03 seconds\n",
      "time: 21.75\n",
      "Child returned 0\n"
     ]
    },
    {
     "name": "stdout",
     "output_type": "stream",
     "text": [
      "VCA_R\n",
      "rm -rf /home/yuncong/CSHL_volumes/atlasV3/atlasV3_down32_scoreVolume_clf_37_warp_8_MD658_down32_scoreVolume_clf_37/score_volumes/atlasV3_down32_scoreVolume_clf_37_warp_8_MD658_down32_scoreVolume_clf_37_VCA_R.bp && mkdir -p /home/yuncong/CSHL_volumes/atlasV3/atlasV3_down32_scoreVolume_clf_37_warp_8_MD658_down32_scoreVolume_clf_37/score_volumes\n",
      "aws s3 cp s3://mousebrainatlas-data/CSHL_volumes/atlasV3/atlasV3_down32_scoreVolume_clf_37_warp_8_MD658_down32_scoreVolume_clf_37/score_volumes/atlasV3_down32_scoreVolume_clf_37_warp_8_MD658_down32_scoreVolume_clf_37_VCA_R.bp /home/yuncong/CSHL_volumes/atlasV3/atlasV3_down32_scoreVolume_clf_37_warp_8_MD658_down32_scoreVolume_clf_37/score_volumes/atlasV3_down32_scoreVolume_clf_37_warp_8_MD658_down32_scoreVolume_clf_37_VCA_R.bp\n"
     ]
    },
    {
     "name": "stderr",
     "output_type": "stream",
     "text": [
      "Child returned 0\n",
      "1.26 seconds.\n",
      "marching cube: 13.05 seconds\n",
      "mesh_to_polydata: 0.02 seconds\n",
      "simplify 0 @ 12754: 0.11 seconds\n",
      "simplify 1 @ 2552: 0.11 seconds\n",
      "simplify 2 @ 512: 0.02 seconds\n",
      "time: 15.12\n"
     ]
    },
    {
     "name": "stdout",
     "output_type": "stream",
     "text": [
      "VCP_L\n",
      "rm -rf /home/yuncong/CSHL_volumes/atlasV3/atlasV3_down32_scoreVolume_clf_37_warp_8_MD658_down32_scoreVolume_clf_37/score_volumes/atlasV3_down32_scoreVolume_clf_37_warp_8_MD658_down32_scoreVolume_clf_37_VCP_L.bp && mkdir -p /home/yuncong/CSHL_volumes/atlasV3/atlasV3_down32_scoreVolume_clf_37_warp_8_MD658_down32_scoreVolume_clf_37/score_volumes\n",
      "aws s3 cp s3://mousebrainatlas-data/CSHL_volumes/atlasV3/atlasV3_down32_scoreVolume_clf_37_warp_8_MD658_down32_scoreVolume_clf_37/score_volumes/atlasV3_down32_scoreVolume_clf_37_warp_8_MD658_down32_scoreVolume_clf_37_VCP_L.bp /home/yuncong/CSHL_volumes/atlasV3/atlasV3_down32_scoreVolume_clf_37_warp_8_MD658_down32_scoreVolume_clf_37/score_volumes/atlasV3_down32_scoreVolume_clf_37_warp_8_MD658_down32_scoreVolume_clf_37_VCP_L.bp\n"
     ]
    },
    {
     "name": "stderr",
     "output_type": "stream",
     "text": [
      "Child returned 0\n",
      "Child returned 0\n",
      "1.26 seconds.\n",
      "marching cube: 17.57 seconds\n",
      "mesh_to_polydata: 0.01 seconds\n",
      "simplify 0 @ 6246: 0.06 seconds\n",
      "simplify 1 @ 1251: 0.06 seconds\n",
      "simplify 2 @ 251: 0.01 seconds\n",
      "time: 19.57\n"
     ]
    },
    {
     "name": "stdout",
     "output_type": "stream",
     "text": [
      "VCP_R\n",
      "rm -rf /home/yuncong/CSHL_volumes/atlasV3/atlasV3_down32_scoreVolume_clf_37_warp_8_MD658_down32_scoreVolume_clf_37/score_volumes/atlasV3_down32_scoreVolume_clf_37_warp_8_MD658_down32_scoreVolume_clf_37_VCP_R.bp && mkdir -p /home/yuncong/CSHL_volumes/atlasV3/atlasV3_down32_scoreVolume_clf_37_warp_8_MD658_down32_scoreVolume_clf_37/score_volumes\n",
      "aws s3 cp s3://mousebrainatlas-data/CSHL_volumes/atlasV3/atlasV3_down32_scoreVolume_clf_37_warp_8_MD658_down32_scoreVolume_clf_37/score_volumes/atlasV3_down32_scoreVolume_clf_37_warp_8_MD658_down32_scoreVolume_clf_37_VCP_R.bp /home/yuncong/CSHL_volumes/atlasV3/atlasV3_down32_scoreVolume_clf_37_warp_8_MD658_down32_scoreVolume_clf_37/score_volumes/atlasV3_down32_scoreVolume_clf_37_warp_8_MD658_down32_scoreVolume_clf_37_VCP_R.bp\n"
     ]
    },
    {
     "name": "stderr",
     "output_type": "stream",
     "text": [
      "Child returned 0\n",
      "Child returned 0\n",
      "1.18 seconds.\n",
      "marching cube: 13.20 seconds\n",
      "mesh_to_polydata: 0.01 seconds\n",
      "simplify 0 @ 5976: 0.04 seconds\n",
      "simplify 1 @ 1197: 0.04 seconds\n",
      "simplify 2 @ 240: 0.01 seconds\n",
      "time: 15.23\n",
      "Child returned 0\n"
     ]
    },
    {
     "name": "stdout",
     "output_type": "stream",
     "text": [
      "DC_L\n",
      "rm -rf /home/yuncong/CSHL_volumes/atlasV3/atlasV3_down32_scoreVolume_clf_37_warp_8_MD658_down32_scoreVolume_clf_37/score_volumes/atlasV3_down32_scoreVolume_clf_37_warp_8_MD658_down32_scoreVolume_clf_37_DC_L.bp && mkdir -p /home/yuncong/CSHL_volumes/atlasV3/atlasV3_down32_scoreVolume_clf_37_warp_8_MD658_down32_scoreVolume_clf_37/score_volumes\n",
      "aws s3 cp s3://mousebrainatlas-data/CSHL_volumes/atlasV3/atlasV3_down32_scoreVolume_clf_37_warp_8_MD658_down32_scoreVolume_clf_37/score_volumes/atlasV3_down32_scoreVolume_clf_37_warp_8_MD658_down32_scoreVolume_clf_37_DC_L.bp /home/yuncong/CSHL_volumes/atlasV3/atlasV3_down32_scoreVolume_clf_37_warp_8_MD658_down32_scoreVolume_clf_37/score_volumes/atlasV3_down32_scoreVolume_clf_37_warp_8_MD658_down32_scoreVolume_clf_37_DC_L.bp\n"
     ]
    },
    {
     "name": "stderr",
     "output_type": "stream",
     "text": [
      "Child returned 0\n",
      "1.31 seconds.\n",
      "marching cube: 12.95 seconds\n",
      "mesh_to_polydata: 0.01 seconds\n",
      "simplify 0 @ 11477: 0.09 seconds\n",
      "simplify 1 @ 2297: 0.09 seconds\n",
      "simplify 2 @ 461: 0.02 seconds\n",
      "time: 15.07\n"
     ]
    },
    {
     "name": "stdout",
     "output_type": "stream",
     "text": [
      "DC_R\n",
      "rm -rf /home/yuncong/CSHL_volumes/atlasV3/atlasV3_down32_scoreVolume_clf_37_warp_8_MD658_down32_scoreVolume_clf_37/score_volumes/atlasV3_down32_scoreVolume_clf_37_warp_8_MD658_down32_scoreVolume_clf_37_DC_R.bp && mkdir -p /home/yuncong/CSHL_volumes/atlasV3/atlasV3_down32_scoreVolume_clf_37_warp_8_MD658_down32_scoreVolume_clf_37/score_volumes\n",
      "aws s3 cp s3://mousebrainatlas-data/CSHL_volumes/atlasV3/atlasV3_down32_scoreVolume_clf_37_warp_8_MD658_down32_scoreVolume_clf_37/score_volumes/atlasV3_down32_scoreVolume_clf_37_warp_8_MD658_down32_scoreVolume_clf_37_DC_R.bp /home/yuncong/CSHL_volumes/atlasV3/atlasV3_down32_scoreVolume_clf_37_warp_8_MD658_down32_scoreVolume_clf_37/score_volumes/atlasV3_down32_scoreVolume_clf_37_warp_8_MD658_down32_scoreVolume_clf_37_DC_R.bp\n"
     ]
    },
    {
     "name": "stderr",
     "output_type": "stream",
     "text": [
      "Child returned 0\n",
      "Child returned 0\n",
      "1.29 seconds.\n",
      "marching cube: 14.83 seconds\n",
      "mesh_to_polydata: 0.02 seconds\n",
      "simplify 0 @ 11985: 0.11 seconds\n",
      "simplify 1 @ 2399: 0.12 seconds\n",
      "simplify 2 @ 481: 0.03 seconds\n",
      "time: 16.99\n"
     ]
    },
    {
     "name": "stdout",
     "output_type": "stream",
     "text": [
      "AP\n",
      "rm -rf /home/yuncong/CSHL_volumes/atlasV3/atlasV3_down32_scoreVolume_clf_37_warp_8_MD658_down32_scoreVolume_clf_37/score_volumes/atlasV3_down32_scoreVolume_clf_37_warp_8_MD658_down32_scoreVolume_clf_37_AP.bp && mkdir -p /home/yuncong/CSHL_volumes/atlasV3/atlasV3_down32_scoreVolume_clf_37_warp_8_MD658_down32_scoreVolume_clf_37/score_volumes\n",
      "aws s3 cp s3://mousebrainatlas-data/CSHL_volumes/atlasV3/atlasV3_down32_scoreVolume_clf_37_warp_8_MD658_down32_scoreVolume_clf_37/score_volumes/atlasV3_down32_scoreVolume_clf_37_warp_8_MD658_down32_scoreVolume_clf_37_AP.bp /home/yuncong/CSHL_volumes/atlasV3/atlasV3_down32_scoreVolume_clf_37_warp_8_MD658_down32_scoreVolume_clf_37/score_volumes/atlasV3_down32_scoreVolume_clf_37_warp_8_MD658_down32_scoreVolume_clf_37_AP.bp\n"
     ]
    },
    {
     "name": "stderr",
     "output_type": "stream",
     "text": [
      "Child returned 0\n",
      "Child returned 0\n",
      "1.33 seconds.\n",
      "marching cube: 17.39 seconds\n",
      "mesh_to_polydata: 0.00 seconds\n",
      "simplify 0 @ 3012: 0.02 seconds\n",
      "simplify 1 @ 604: 0.02 seconds\n",
      "time: 19.34\n",
      "Child returned 0\n"
     ]
    },
    {
     "name": "stdout",
     "output_type": "stream",
     "text": [
      "12N\n",
      "rm -rf /home/yuncong/CSHL_volumes/atlasV3/atlasV3_down32_scoreVolume_clf_37_warp_8_MD658_down32_scoreVolume_clf_37/score_volumes/atlasV3_down32_scoreVolume_clf_37_warp_8_MD658_down32_scoreVolume_clf_37_12N.bp && mkdir -p /home/yuncong/CSHL_volumes/atlasV3/atlasV3_down32_scoreVolume_clf_37_warp_8_MD658_down32_scoreVolume_clf_37/score_volumes\n",
      "aws s3 cp s3://mousebrainatlas-data/CSHL_volumes/atlasV3/atlasV3_down32_scoreVolume_clf_37_warp_8_MD658_down32_scoreVolume_clf_37/score_volumes/atlasV3_down32_scoreVolume_clf_37_warp_8_MD658_down32_scoreVolume_clf_37_12N.bp /home/yuncong/CSHL_volumes/atlasV3/atlasV3_down32_scoreVolume_clf_37_warp_8_MD658_down32_scoreVolume_clf_37/score_volumes/atlasV3_down32_scoreVolume_clf_37_warp_8_MD658_down32_scoreVolume_clf_37_12N.bp\n"
     ]
    },
    {
     "name": "stderr",
     "output_type": "stream",
     "text": [
      "Child returned 0\n",
      "1.68 seconds.\n",
      "marching cube: 13.70 seconds\n",
      "mesh_to_polydata: 0.02 seconds\n",
      "simplify 0 @ 12761: 0.10 seconds\n",
      "simplify 1 @ 2554: 0.11 seconds\n",
      "simplify 2 @ 512: 0.02 seconds\n",
      "time: 15.84\n"
     ]
    },
    {
     "name": "stdout",
     "output_type": "stream",
     "text": [
      "RtTg\n",
      "rm -rf /home/yuncong/CSHL_volumes/atlasV3/atlasV3_down32_scoreVolume_clf_37_warp_8_MD658_down32_scoreVolume_clf_37/score_volumes/atlasV3_down32_scoreVolume_clf_37_warp_8_MD658_down32_scoreVolume_clf_37_RtTg.bp && mkdir -p /home/yuncong/CSHL_volumes/atlasV3/atlasV3_down32_scoreVolume_clf_37_warp_8_MD658_down32_scoreVolume_clf_37/score_volumes\n",
      "aws s3 cp s3://mousebrainatlas-data/CSHL_volumes/atlasV3/atlasV3_down32_scoreVolume_clf_37_warp_8_MD658_down32_scoreVolume_clf_37/score_volumes/atlasV3_down32_scoreVolume_clf_37_warp_8_MD658_down32_scoreVolume_clf_37_RtTg.bp /home/yuncong/CSHL_volumes/atlasV3/atlasV3_down32_scoreVolume_clf_37_warp_8_MD658_down32_scoreVolume_clf_37/score_volumes/atlasV3_down32_scoreVolume_clf_37_warp_8_MD658_down32_scoreVolume_clf_37_RtTg.bp\n"
     ]
    },
    {
     "name": "stderr",
     "output_type": "stream",
     "text": [
      "Child returned 0\n",
      "Child returned 0\n",
      "1.36 seconds.\n",
      "marching cube: 19.20 seconds\n",
      "mesh_to_polydata: 0.04 seconds\n",
      "simplify 0 @ 28286: 0.28 seconds\n",
      "simplify 1 @ 5656: 0.32 seconds\n",
      "simplify 2 @ 1129: 0.07 seconds\n",
      "time: 21.93\n"
     ]
    },
    {
     "name": "stdout",
     "output_type": "stream",
     "text": [
      "sp5\n",
      "rm -rf /home/yuncong/CSHL_volumes/atlasV3/atlasV3_down32_scoreVolume_clf_37_warp_8_MD658_down32_scoreVolume_clf_37/score_volumes/atlasV3_down32_scoreVolume_clf_37_warp_8_MD658_down32_scoreVolume_clf_37_sp5.bp && mkdir -p /home/yuncong/CSHL_volumes/atlasV3/atlasV3_down32_scoreVolume_clf_37_warp_8_MD658_down32_scoreVolume_clf_37/score_volumes\n",
      "aws s3 cp s3://mousebrainatlas-data/CSHL_volumes/atlasV3/atlasV3_down32_scoreVolume_clf_37_warp_8_MD658_down32_scoreVolume_clf_37/score_volumes/atlasV3_down32_scoreVolume_clf_37_warp_8_MD658_down32_scoreVolume_clf_37_sp5.bp /home/yuncong/CSHL_volumes/atlasV3/atlasV3_down32_scoreVolume_clf_37_warp_8_MD658_down32_scoreVolume_clf_37/score_volumes/atlasV3_down32_scoreVolume_clf_37_warp_8_MD658_down32_scoreVolume_clf_37_sp5.bp\n"
     ]
    },
    {
     "name": "stderr",
     "output_type": "stream",
     "text": [
      "Child returned 0\n",
      "Child returned 1\n",
      "0.67 seconds.\n",
      "File does not exist: /home/yuncong/CSHL_volumes/atlasV3/atlasV3_down32_scoreVolume_clf_37_warp_8_MD658_down32_scoreVolume_clf_37/score_volumes/atlasV3_down32_scoreVolume_clf_37_warp_8_MD658_down32_scoreVolume_clf_37_sp5.bp\n",
      "Error transforming volume sp5: [Errno 2] No such file or directory: '/home/yuncong/CSHL_volumes/atlasV3/atlasV3_down32_scoreVolume_clf_37_warp_8_MD658_down32_scoreVolume_clf_37/score_volumes/atlasV3_down32_scoreVolume_clf_37_warp_8_MD658_down32_scoreVolume_clf_37_sp5.bp'.\n",
      "Child returned 0\n"
     ]
    },
    {
     "name": "stdout",
     "output_type": "stream",
     "text": [
      "outerContour\n",
      "rm -rf /home/yuncong/CSHL_volumes/atlasV3/atlasV3_down32_scoreVolume_clf_37_warp_8_MD658_down32_scoreVolume_clf_37/score_volumes/atlasV3_down32_scoreVolume_clf_37_warp_8_MD658_down32_scoreVolume_clf_37_outerContour.bp && mkdir -p /home/yuncong/CSHL_volumes/atlasV3/atlasV3_down32_scoreVolume_clf_37_warp_8_MD658_down32_scoreVolume_clf_37/score_volumes\n",
      "aws s3 cp s3://mousebrainatlas-data/CSHL_volumes/atlasV3/atlasV3_down32_scoreVolume_clf_37_warp_8_MD658_down32_scoreVolume_clf_37/score_volumes/atlasV3_down32_scoreVolume_clf_37_warp_8_MD658_down32_scoreVolume_clf_37_outerContour.bp /home/yuncong/CSHL_volumes/atlasV3/atlasV3_down32_scoreVolume_clf_37_warp_8_MD658_down32_scoreVolume_clf_37/score_volumes/atlasV3_down32_scoreVolume_clf_37_warp_8_MD658_down32_scoreVolume_clf_37_outerContour.bp\n"
     ]
    },
    {
     "name": "stderr",
     "output_type": "stream",
     "text": [
      "Child returned 1\n",
      "0.70 seconds.\n",
      "File does not exist: /home/yuncong/CSHL_volumes/atlasV3/atlasV3_down32_scoreVolume_clf_37_warp_8_MD658_down32_scoreVolume_clf_37/score_volumes/atlasV3_down32_scoreVolume_clf_37_warp_8_MD658_down32_scoreVolume_clf_37_outerContour.bp\n",
      "Error transforming volume outerContour: [Errno 2] No such file or directory: '/home/yuncong/CSHL_volumes/atlasV3/atlasV3_down32_scoreVolume_clf_37_warp_8_MD658_down32_scoreVolume_clf_37/score_volumes/atlasV3_down32_scoreVolume_clf_37_warp_8_MD658_down32_scoreVolume_clf_37_outerContour.bp'.\n",
      "Child returned 0\n"
     ]
    },
    {
     "name": "stdout",
     "output_type": "stream",
     "text": [
      "SC\n",
      "rm -rf /home/yuncong/CSHL_volumes/atlasV3/atlasV3_down32_scoreVolume_clf_37_warp_8_MD658_down32_scoreVolume_clf_37/score_volumes/atlasV3_down32_scoreVolume_clf_37_warp_8_MD658_down32_scoreVolume_clf_37_SC.bp && mkdir -p /home/yuncong/CSHL_volumes/atlasV3/atlasV3_down32_scoreVolume_clf_37_warp_8_MD658_down32_scoreVolume_clf_37/score_volumes\n",
      "aws s3 cp s3://mousebrainatlas-data/CSHL_volumes/atlasV3/atlasV3_down32_scoreVolume_clf_37_warp_8_MD658_down32_scoreVolume_clf_37/score_volumes/atlasV3_down32_scoreVolume_clf_37_warp_8_MD658_down32_scoreVolume_clf_37_SC.bp /home/yuncong/CSHL_volumes/atlasV3/atlasV3_down32_scoreVolume_clf_37_warp_8_MD658_down32_scoreVolume_clf_37/score_volumes/atlasV3_down32_scoreVolume_clf_37_warp_8_MD658_down32_scoreVolume_clf_37_SC.bp\n"
     ]
    },
    {
     "name": "stderr",
     "output_type": "stream",
     "text": [
      "Child returned 0\n",
      "1.52 seconds.\n",
      "marching cube: 12.86 seconds\n",
      "mesh_to_polydata: 0.16 seconds\n",
      "simplify 0 @ 122944: 1.12 seconds\n",
      "simplify 1 @ 24596: 1.46 seconds\n",
      "simplify 2 @ 4919: 0.28 seconds\n",
      "time: 17.27\n"
     ]
    },
    {
     "name": "stdout",
     "output_type": "stream",
     "text": [
      "IC\n",
      "rm -rf /home/yuncong/CSHL_volumes/atlasV3/atlasV3_down32_scoreVolume_clf_37_warp_8_MD658_down32_scoreVolume_clf_37/score_volumes/atlasV3_down32_scoreVolume_clf_37_warp_8_MD658_down32_scoreVolume_clf_37_IC.bp && mkdir -p /home/yuncong/CSHL_volumes/atlasV3/atlasV3_down32_scoreVolume_clf_37_warp_8_MD658_down32_scoreVolume_clf_37/score_volumes\n",
      "aws s3 cp s3://mousebrainatlas-data/CSHL_volumes/atlasV3/atlasV3_down32_scoreVolume_clf_37_warp_8_MD658_down32_scoreVolume_clf_37/score_volumes/atlasV3_down32_scoreVolume_clf_37_warp_8_MD658_down32_scoreVolume_clf_37_IC.bp /home/yuncong/CSHL_volumes/atlasV3/atlasV3_down32_scoreVolume_clf_37_warp_8_MD658_down32_scoreVolume_clf_37/score_volumes/atlasV3_down32_scoreVolume_clf_37_warp_8_MD658_down32_scoreVolume_clf_37_IC.bp\n"
     ]
    },
    {
     "name": "stderr",
     "output_type": "stream",
     "text": [
      "Child returned 0\n",
      "Child returned 0\n",
      "1.37 seconds.\n",
      "marching cube: 12.89 seconds\n",
      "mesh_to_polydata: 0.10 seconds\n",
      "simplify 0 @ 82499: 0.73 seconds\n",
      "simplify 1 @ 16510: 0.87 seconds\n",
      "simplify 2 @ 3301: 0.18 seconds\n",
      "time: 16.11\n"
     ]
    }
   ],
   "source": [
    "# Render local transformed atlas structures\n",
    "\n",
    "for structure in all_known_structures_sided:\n",
    "# for structure in ['Pn_R']:\n",
    "\n",
    "    print structure\n",
    "    \n",
    "    try:\n",
    "        local_transformed_volume = \\\n",
    "        DataManager.load_transformed_volume(stack_m=atlas_name, type_m='score', \n",
    "                                            stack_f=stack, type_f='score',\n",
    "                                            downscale=32, \n",
    "                                            classifier_setting_m=37,\n",
    "                                            classifier_setting_f=37,\n",
    "                                            warp_setting=8,\n",
    "                                            structure=structure)\n",
    "\n",
    "        t = time.time()\n",
    "        polydata = volume_to_polydata(local_transformed_volume, num_simplify_iter=3, smooth=True, level=0.5)\n",
    "        sys.stderr.write('time: %.2f\\n' % (time.time() - t)) # 20s\n",
    "\n",
    "        mesh_fn = DataManager.get_mesh_filepath(stack_m=atlas_name, type_m='score', \n",
    "                                                                   stack_f=stack, type_f='score', \n",
    "                                                                   downscale=32,\n",
    "                                                                   classifier_setting_m=37,\n",
    "                                                                   classifier_setting_f=37,\n",
    "                                                                   warp_setting=8,\n",
    "                                                                   structure=structure)\n",
    "\n",
    "        save_mesh(polydata, mesh_fn)\n",
    "    \n",
    "    except Exception as e:\n",
    "        sys.stderr.write('Error transforming volume %s: %s.\\n' % (structure, e))"
   ]
  },
  {
   "cell_type": "markdown",
   "metadata": {
    "collapsed": true
   },
   "source": [
    "# Load"
   ]
  },
  {
   "cell_type": "code",
   "execution_count": 4,
   "metadata": {
    "collapsed": true
   },
   "outputs": [],
   "source": [
    "classifier_setting = 37"
   ]
  },
  {
   "cell_type": "code",
   "execution_count": 5,
   "metadata": {
    "collapsed": false,
    "scrolled": true
   },
   "outputs": [
    {
     "name": "stderr",
     "output_type": "stream",
     "text": [
      "load_mesh_stl: File does not exist /home/yuncong/CSHL_meshes/atlasV3/atlasV3_down32_scoreVolume_clf_37_warp_1_MD658_down32_scoreVolume_clf_37/atlasV3_down32_scoreVolume_clf_37_warp_1_MD658_down32_scoreVolume_clf_37_sp5.stl\n",
      "Mesh is empty: sp5.\n",
      "Error loading mesh for sp5.\n",
      "load_mesh_stl: File does not exist /home/yuncong/CSHL_meshes/atlasV3/atlasV3_down32_scoreVolume_clf_37_warp_1_MD658_down32_scoreVolume_clf_37/atlasV3_down32_scoreVolume_clf_37_warp_1_MD658_down32_scoreVolume_clf_37_outerContour.stl\n",
      "Mesh is empty: outerContour.\n",
      "Error loading mesh for outerContour.\n"
     ]
    }
   ],
   "source": [
    "# Load global transformed atlas structure meshes\n",
    "\n",
    "global_transformed_atlas_polydata_list = \\\n",
    "DataManager.load_meshes(stack_m=atlas_name, type_m='score', \n",
    "                                             stack_f=stack, type_f='score', \n",
    "                                           classifier_setting_m=classifier_setting,\n",
    "                                           classifier_setting_f=classifier_setting,\n",
    "                                           warp_setting=1, sided=True)"
   ]
  },
  {
   "cell_type": "code",
   "execution_count": 6,
   "metadata": {
    "collapsed": false,
    "scrolled": true
   },
   "outputs": [],
   "source": [
    "# launch_vtk([actor_mesh(p, wireframe=False, color=structure_colors[convert_name_to_unsided(n)]/255., opacity=.3) \n",
    "#             for n, p in global_transformed_atlas_polydata_list.iteritems()])"
   ]
  },
  {
   "cell_type": "code",
   "execution_count": 7,
   "metadata": {
    "collapsed": false
   },
   "outputs": [
    {
     "name": "stderr",
     "output_type": "stream",
     "text": [
      "load_mesh_stl: File does not exist /home/yuncong/CSHL_meshes/atlasV3/atlasV3_down32_scoreVolume_clf_37_warp_8_MD658_down32_scoreVolume_clf_37/atlasV3_down32_scoreVolume_clf_37_warp_8_MD658_down32_scoreVolume_clf_37_sp5.stl\n",
      "Mesh is empty: sp5.\n",
      "Error loading mesh for sp5.\n",
      "load_mesh_stl: File does not exist /home/yuncong/CSHL_meshes/atlasV3/atlasV3_down32_scoreVolume_clf_37_warp_8_MD658_down32_scoreVolume_clf_37/atlasV3_down32_scoreVolume_clf_37_warp_8_MD658_down32_scoreVolume_clf_37_outerContour.stl\n",
      "Mesh is empty: outerContour.\n",
      "Error loading mesh for outerContour.\n"
     ]
    }
   ],
   "source": [
    "# Load locally transformed atlas structure meshes\n",
    "\n",
    "local_transformed_atlas_polydata_list = \\\n",
    "DataManager.load_meshes(stack_m=atlas_name, type_m='score', \n",
    "                                           stack_f=stack, type_f='score', \n",
    "                                           classifier_setting_m=classifier_setting,\n",
    "                                           classifier_setting_f=classifier_setting,\n",
    "                                           warp_setting=8, sided=True)"
   ]
  },
  {
   "cell_type": "code",
   "execution_count": 8,
   "metadata": {
    "collapsed": true
   },
   "outputs": [],
   "source": [
    "# launch_vtk([actor_mesh(p, wireframe=True, color=structure_colors[convert_name_to_unsided(n)]/255., opacity=.3) \n",
    "#             for n, p in local_transformed_atlas_polydata_list.iteritems()])"
   ]
  },
  {
   "cell_type": "code",
   "execution_count": 9,
   "metadata": {
    "collapsed": false
   },
   "outputs": [
    {
     "name": "stdout",
     "output_type": "stream",
     "text": [
      "crop: 563 1185 65 556\n"
     ]
    }
   ],
   "source": [
    "crop_xmin, crop_xmax, crop_ymin, crop_ymax = metadata_cache['cropbox'][stack]\n",
    "print 'crop:', crop_xmin, crop_xmax, crop_ymin, crop_ymax"
   ]
  },
  {
   "cell_type": "code",
   "execution_count": 10,
   "metadata": {
    "collapsed": false
   },
   "outputs": [
    {
     "name": "stdout",
     "output_type": "stream",
     "text": [
      "fixed volume box: 0 622 0 491 139 506\n"
     ]
    }
   ],
   "source": [
    "tb_vol_xmin, tb_vol_xmax, tb_vol_ymin, tb_vol_ymax, tb_vol_zmin, tb_vol_zmax = \\\n",
    "DataManager.load_original_volume_bbox(stack=stack, vol_type='thumbnail', downscale=32, classifier_setting=classifier_setting)\n",
    "\n",
    "print 'fixed volume box:', tb_vol_xmin, tb_vol_xmax, tb_vol_ymin, tb_vol_ymax, tb_vol_zmin, tb_vol_zmax"
   ]
  },
  {
   "cell_type": "code",
   "execution_count": 11,
   "metadata": {
    "collapsed": false
   },
   "outputs": [],
   "source": [
    "shell_polydata = DataManager.load_shell_mesh(stack='MD589', downscale=32, return_polydata_only=True)"
   ]
  },
  {
   "cell_type": "code",
   "execution_count": 28,
   "metadata": {
    "collapsed": false,
    "scrolled": true
   },
   "outputs": [
    {
     "name": "stderr",
     "output_type": "stream",
     "text": [
      "File does not exist: /home/yuncong/CSHL_volumes/MD658/MD658_down32_intensityVolume/MD658_down32_intensityVolume.bp\n"
     ]
    },
    {
     "ename": "IOError",
     "evalue": "[Errno 2] No such file or directory: '/home/yuncong/CSHL_volumes/MD658/MD658_down32_intensityVolume/MD658_down32_intensityVolume.bp'",
     "output_type": "error",
     "traceback": [
      "\u001b[0;31m---------------------------------------------------------------------------\u001b[0m",
      "\u001b[0;31mIOError\u001b[0m                                   Traceback (most recent call last)",
      "\u001b[0;32m<ipython-input-28-17712f975eb3>\u001b[0m in \u001b[0;36m<module>\u001b[0;34m()\u001b[0m\n\u001b[1;32m      1\u001b[0m \u001b[0;31m# Get thumbnail volume\u001b[0m\u001b[0;34m\u001b[0m\u001b[0;34m\u001b[0m\u001b[0m\n\u001b[1;32m      2\u001b[0m \u001b[0;34m\u001b[0m\u001b[0m\n\u001b[0;32m----> 3\u001b[0;31m \u001b[0mtb_volume\u001b[0m \u001b[0;34m=\u001b[0m \u001b[0mDataManager\u001b[0m\u001b[0;34m.\u001b[0m\u001b[0mload_intensity_volume\u001b[0m\u001b[0;34m(\u001b[0m\u001b[0mstack\u001b[0m\u001b[0;34m=\u001b[0m\u001b[0mstack\u001b[0m\u001b[0;34m)\u001b[0m\u001b[0;34m\u001b[0m\u001b[0m\n\u001b[0m\u001b[1;32m      4\u001b[0m \u001b[0;34m\u001b[0m\u001b[0m\n\u001b[1;32m      5\u001b[0m \u001b[0;31m# Show only selected sections\u001b[0m\u001b[0;34m\u001b[0m\u001b[0;34m\u001b[0m\u001b[0m\n",
      "\u001b[0;32m/home/yuncong/Brain/utilities/data_manager.pyc\u001b[0m in \u001b[0;36mload_intensity_volume\u001b[0;34m(stack, downscale)\u001b[0m\n\u001b[1;32m    605\u001b[0m     \u001b[0;32mdef\u001b[0m \u001b[0mload_intensity_volume\u001b[0m\u001b[0;34m(\u001b[0m\u001b[0mstack\u001b[0m\u001b[0;34m,\u001b[0m \u001b[0mdownscale\u001b[0m\u001b[0;34m=\u001b[0m\u001b[0;36m32\u001b[0m\u001b[0;34m)\u001b[0m\u001b[0;34m:\u001b[0m\u001b[0;34m\u001b[0m\u001b[0m\n\u001b[1;32m    606\u001b[0m         \u001b[0mfn\u001b[0m \u001b[0;34m=\u001b[0m \u001b[0mDataManager\u001b[0m\u001b[0;34m.\u001b[0m\u001b[0mget_intensity_volume_filepath\u001b[0m\u001b[0;34m(\u001b[0m\u001b[0mstack\u001b[0m\u001b[0;34m=\u001b[0m\u001b[0mstack\u001b[0m\u001b[0;34m,\u001b[0m \u001b[0mdownscale\u001b[0m\u001b[0;34m=\u001b[0m\u001b[0mdownscale\u001b[0m\u001b[0;34m)\u001b[0m\u001b[0;34m\u001b[0m\u001b[0m\n\u001b[0;32m--> 607\u001b[0;31m         \u001b[0;32mreturn\u001b[0m \u001b[0mDataManager\u001b[0m\u001b[0;34m.\u001b[0m\u001b[0mload_data\u001b[0m\u001b[0;34m(\u001b[0m\u001b[0mfn\u001b[0m\u001b[0;34m,\u001b[0m \u001b[0mfiletype\u001b[0m\u001b[0;34m=\u001b[0m\u001b[0;34m'bp'\u001b[0m\u001b[0;34m)\u001b[0m\u001b[0;34m\u001b[0m\u001b[0m\n\u001b[0m\u001b[1;32m    608\u001b[0m \u001b[0;34m\u001b[0m\u001b[0m\n\u001b[1;32m    609\u001b[0m     \u001b[0;34m@\u001b[0m\u001b[0mstaticmethod\u001b[0m\u001b[0;34m\u001b[0m\u001b[0m\n",
      "\u001b[0;32m/home/yuncong/Brain/utilities/data_manager.pyc\u001b[0m in \u001b[0;36mload_data\u001b[0;34m(filepath, filetype)\u001b[0m\n\u001b[1;32m    209\u001b[0m \u001b[0;34m\u001b[0m\u001b[0m\n\u001b[1;32m    210\u001b[0m         \u001b[0;32mif\u001b[0m \u001b[0mfiletype\u001b[0m \u001b[0;34m==\u001b[0m \u001b[0;34m'bp'\u001b[0m\u001b[0;34m:\u001b[0m\u001b[0;34m\u001b[0m\u001b[0m\n\u001b[0;32m--> 211\u001b[0;31m             \u001b[0;32mreturn\u001b[0m \u001b[0mbp\u001b[0m\u001b[0;34m.\u001b[0m\u001b[0munpack_ndarray_file\u001b[0m\u001b[0;34m(\u001b[0m\u001b[0mfilepath\u001b[0m\u001b[0;34m)\u001b[0m\u001b[0;34m\u001b[0m\u001b[0m\n\u001b[0m\u001b[1;32m    212\u001b[0m         \u001b[0;32melif\u001b[0m \u001b[0mfiletype\u001b[0m \u001b[0;34m==\u001b[0m \u001b[0;34m'image'\u001b[0m\u001b[0;34m:\u001b[0m\u001b[0;34m\u001b[0m\u001b[0m\n\u001b[1;32m    213\u001b[0m             \u001b[0;32mreturn\u001b[0m \u001b[0mimread\u001b[0m\u001b[0;34m(\u001b[0m\u001b[0mfilepath\u001b[0m\u001b[0;34m)\u001b[0m\u001b[0;34m\u001b[0m\u001b[0m\n",
      "\u001b[0;32m/usr/local/lib/python2.7/dist-packages/bloscpack/numpy_io.pyc\u001b[0m in \u001b[0;36munpack_ndarray_file\u001b[0;34m(filename)\u001b[0m\n\u001b[1;32m    240\u001b[0m \u001b[0;34m\u001b[0m\u001b[0m\n\u001b[1;32m    241\u001b[0m \u001b[0;32mdef\u001b[0m \u001b[0munpack_ndarray_file\u001b[0m\u001b[0;34m(\u001b[0m\u001b[0mfilename\u001b[0m\u001b[0;34m)\u001b[0m\u001b[0;34m:\u001b[0m\u001b[0;34m\u001b[0m\u001b[0m\n\u001b[0;32m--> 242\u001b[0;31m     \u001b[0msource\u001b[0m \u001b[0;34m=\u001b[0m \u001b[0mCompressedFPSource\u001b[0m\u001b[0;34m(\u001b[0m\u001b[0mopen\u001b[0m\u001b[0;34m(\u001b[0m\u001b[0mfilename\u001b[0m\u001b[0;34m,\u001b[0m \u001b[0;34m'rb'\u001b[0m\u001b[0;34m)\u001b[0m\u001b[0;34m)\u001b[0m\u001b[0;34m\u001b[0m\u001b[0m\n\u001b[0m\u001b[1;32m    243\u001b[0m     \u001b[0;32mreturn\u001b[0m \u001b[0munpack_ndarray\u001b[0m\u001b[0;34m(\u001b[0m\u001b[0msource\u001b[0m\u001b[0;34m)\u001b[0m\u001b[0;34m\u001b[0m\u001b[0m\n\u001b[1;32m    244\u001b[0m \u001b[0;34m\u001b[0m\u001b[0m\n",
      "\u001b[0;31mIOError\u001b[0m: [Errno 2] No such file or directory: '/home/yuncong/CSHL_volumes/MD658/MD658_down32_intensityVolume/MD658_down32_intensityVolume.bp'"
     ]
    }
   ],
   "source": [
    "# Get thumbnail volume\n",
    "\n",
    "tb_volume = DataManager.load_intensity_volume(stack=stack)\n",
    "\n",
    "# Show only selected sections\n",
    "\n",
    "tb_volume_sectioned = np.zeros_like(tb_volume)\n",
    "interval = 1\n",
    "for z in range(tb_volume_sectioned.shape[2]/2, tb_volume_sectioned.shape[2], interval):\n",
    "# for z in [180]:\n",
    "    tb_volume_sectioned[:, :, z:z+interval] = tb_volume[:,:,z:z+interval]"
   ]
  },
  {
   "cell_type": "code",
   "execution_count": 12,
   "metadata": {
    "collapsed": false
   },
   "outputs": [],
   "source": [
    "# Get score volume\n",
    "\n",
    "sc_vol = DataManager.load_original_volume(stack=stack, structure='7N', downscale=32, classifier_setting=classifier_setting)\n",
    "\n",
    "# sc_vol[:250, 150:450] = 0\n",
    "# sc_vol[:, :150] = 0"
   ]
  },
  {
   "cell_type": "markdown",
   "metadata": {},
   "source": [
    "# Create actors and display"
   ]
  },
  {
   "cell_type": "code",
   "execution_count": 13,
   "metadata": {
    "collapsed": true
   },
   "outputs": [],
   "source": [
    "high_contrast_colors = np.random.permutation(high_contrast_colors)\n",
    "map_name_s_to_color = {s: np.array(high_contrast_colors[i%len(high_contrast_colors)]) \n",
    "                     for i, s in enumerate(all_known_structures_sided) }\n",
    "map_name_u_to_color = {s: np.array(high_contrast_colors[i%len(high_contrast_colors)]) \n",
    "                     for i, s in enumerate(all_known_structures) }"
   ]
  },
  {
   "cell_type": "code",
   "execution_count": 14,
   "metadata": {
    "collapsed": false,
    "scrolled": true
   },
   "outputs": [],
   "source": [
    "shell_actor = actor_mesh(shell_polydata, color=(1,1,1), opacity=.1, wireframe=False)"
   ]
  },
  {
   "cell_type": "code",
   "execution_count": 15,
   "metadata": {
    "collapsed": true
   },
   "outputs": [],
   "source": [
    "global_transformed_atlas_actors = {name_s: actor_mesh(p, \n",
    "                                              wireframe=False, \n",
    "#                                               color=structure_colors[convert_name_to_unsided(n)]/255., \n",
    "                                              color=map_name_u_to_color[convert_to_original_name(name_s)]/255., \n",
    "                                              opacity=1., \n",
    "                                              origin=(crop_xmin + tb_vol_xmin, crop_ymin + tb_vol_ymin, tb_vol_zmin)) \n",
    " for name_s, p in global_transformed_atlas_polydata_list.iteritems()}"
   ]
  },
  {
   "cell_type": "code",
   "execution_count": 16,
   "metadata": {
    "collapsed": false
   },
   "outputs": [],
   "source": [
    "local_transformed_atlas_actors = {n: actor_mesh(p, \n",
    "#                                              wireframe=False if convert_name_to_unsided(n) == '7N' else False, \n",
    "                                             wireframe=False, \n",
    "#                                              color=structure_colors[convert_name_to_unsided(n)]/255., \n",
    "                                             color=(1,0,0), \n",
    "#                                              opacity=1. if convert_name_to_unsided(n) == '7N' else .1,\n",
    "                                             opacity=1.,\n",
    "                                             origin=(crop_xmin + tb_vol_xmin, crop_ymin + tb_vol_ymin, tb_vol_zmin)) \n",
    "            for n, p in local_transformed_atlas_polydata_list.iteritems()}"
   ]
  },
  {
   "cell_type": "code",
   "execution_count": 17,
   "metadata": {
    "collapsed": false
   },
   "outputs": [
    {
     "ename": "NameError",
     "evalue": "name 'tb_volume_sectioned' is not defined",
     "output_type": "error",
     "traceback": [
      "\u001b[0;31m---------------------------------------------------------------------------\u001b[0m",
      "\u001b[0;31mNameError\u001b[0m                                 Traceback (most recent call last)",
      "\u001b[0;32m<ipython-input-17-8bd8d2962ba6>\u001b[0m in \u001b[0;36m<module>\u001b[0;34m()\u001b[0m\n\u001b[0;32m----> 1\u001b[0;31m tb_volume_actor = actor_volume(tb_volume_sectioned, what='tb', \n\u001b[0m\u001b[1;32m      2\u001b[0m                                \u001b[0morigin\u001b[0m\u001b[0;34m=\u001b[0m\u001b[0;34m(\u001b[0m\u001b[0mcrop_xmin\u001b[0m \u001b[0;34m+\u001b[0m \u001b[0mtb_vol_xmin\u001b[0m\u001b[0;34m,\u001b[0m \u001b[0mcrop_ymin\u001b[0m \u001b[0;34m+\u001b[0m \u001b[0mtb_vol_ymin\u001b[0m\u001b[0;34m,\u001b[0m \u001b[0mtb_vol_zmin\u001b[0m\u001b[0;34m)\u001b[0m\u001b[0;34m,\u001b[0m\u001b[0;34m\u001b[0m\u001b[0m\n\u001b[1;32m      3\u001b[0m                               tb_opacity=.5)\n",
      "\u001b[0;31mNameError\u001b[0m: name 'tb_volume_sectioned' is not defined"
     ]
    }
   ],
   "source": [
    "tb_volume_actor = actor_volume(tb_volume_sectioned, what='tb', \n",
    "                               origin=(crop_xmin + tb_vol_xmin, crop_ymin + tb_vol_ymin, tb_vol_zmin),\n",
    "                              tb_opacity=.5)"
   ]
  },
  {
   "cell_type": "code",
   "execution_count": 18,
   "metadata": {
    "collapsed": false
   },
   "outputs": [],
   "source": [
    "score_volume_actor = actor_volume(sc_vol.astype(np.float32), what='score', \n",
    "                                  origin=(crop_xmin + tb_vol_xmin, crop_ymin + tb_vol_ymin, tb_vol_zmin))"
   ]
  },
  {
   "cell_type": "code",
   "execution_count": 37,
   "metadata": {
    "collapsed": false
   },
   "outputs": [],
   "source": [
    "launch_vtk( [score_volume_actor, \n",
    "             global_transformed_atlas_actors['7N_R'],\n",
    "             local_transformed_atlas_actors['7N_R']])"
   ]
  },
  {
   "cell_type": "code",
   "execution_count": 46,
   "metadata": {
    "collapsed": false
   },
   "outputs": [],
   "source": [
    "# Render global transformed structures + shell + thumbnail volume\n",
    "\n",
    "launch_vtk([shell_actor, tb_volume_actor] + \\\n",
    "          global_transformed_atlas_actors.values() + \\\n",
    "          local_transformed_atlas_actors.values())"
   ]
  },
  {
   "cell_type": "code",
   "execution_count": 38,
   "metadata": {
    "collapsed": false
   },
   "outputs": [],
   "source": [
    "# Render global transformed structures + shell\n",
    "\n",
    "launch_vtk([shell_actor] + \\\n",
    "          global_transformed_atlas_actors.values())"
   ]
  },
  {
   "cell_type": "code",
   "execution_count": 20,
   "metadata": {
    "collapsed": false,
    "scrolled": true
   },
   "outputs": [
    {
     "name": "stdout",
     "output_type": "stream",
     "text": [
      "rm -rf /home/yuncong/CSHL_labeled_neurons/MD658/MD658-F18-2017.04.04-19.29.18_MD658_2_0053/MD658-F18-2017.04.04-19.29.18_MD658_2_0053.pkl && mkdir -p /home/yuncong/CSHL_labeled_neurons/MD658/MD658-F18-2017.04.04-19.29.18_MD658_2_0053\n",
      "aws s3 cp s3://mousebrainatlas-data/CSHL_labeled_neurons/MD658/MD658-F18-2017.04.04-19.29.18_MD658_2_0053/MD658-F18-2017.04.04-19.29.18_MD658_2_0053.pkl /home/yuncong/CSHL_labeled_neurons/MD658/MD658-F18-2017.04.04-19.29.18_MD658_2_0053/MD658-F18-2017.04.04-19.29.18_MD658_2_0053.pkl\n"
     ]
    },
    {
     "name": "stderr",
     "output_type": "stream",
     "text": [
      "Child returned 0\n",
      "Child returned 1\n",
      "0.58 seconds.\n",
      "No labeled neurons recorded for image MD658-F18-2017.04.04-19.29.18_MD658_2_0053.\n",
      "Child returned 0\n"
     ]
    },
    {
     "name": "stdout",
     "output_type": "stream",
     "text": [
      "rm -rf /home/yuncong/CSHL_labeled_neurons/MD658/MD658-F18-2017.04.04-19.29.18_MD658_3_0054/MD658-F18-2017.04.04-19.29.18_MD658_3_0054.pkl && mkdir -p /home/yuncong/CSHL_labeled_neurons/MD658/MD658-F18-2017.04.04-19.29.18_MD658_3_0054\n",
      "aws s3 cp s3://mousebrainatlas-data/CSHL_labeled_neurons/MD658/MD658-F18-2017.04.04-19.29.18_MD658_3_0054/MD658-F18-2017.04.04-19.29.18_MD658_3_0054.pkl /home/yuncong/CSHL_labeled_neurons/MD658/MD658-F18-2017.04.04-19.29.18_MD658_3_0054/MD658-F18-2017.04.04-19.29.18_MD658_3_0054.pkl\n"
     ]
    },
    {
     "name": "stderr",
     "output_type": "stream",
     "text": [
      "Child returned 1\n",
      "0.42 seconds.\n",
      "No labeled neurons recorded for image MD658-F18-2017.04.04-19.29.18_MD658_3_0054.\n",
      "Child returned 0\n"
     ]
    },
    {
     "name": "stdout",
     "output_type": "stream",
     "text": [
      "rm -rf /home/yuncong/CSHL_labeled_neurons/MD658/MD658-F19-2017.04.12-19.31.00_MD658_1_0055/MD658-F19-2017.04.12-19.31.00_MD658_1_0055.pkl && mkdir -p /home/yuncong/CSHL_labeled_neurons/MD658/MD658-F19-2017.04.12-19.31.00_MD658_1_0055\n",
      "aws s3 cp s3://mousebrainatlas-data/CSHL_labeled_neurons/MD658/MD658-F19-2017.04.12-19.31.00_MD658_1_0055/MD658-F19-2017.04.12-19.31.00_MD658_1_0055.pkl /home/yuncong/CSHL_labeled_neurons/MD658/MD658-F19-2017.04.12-19.31.00_MD658_1_0055/MD658-F19-2017.04.12-19.31.00_MD658_1_0055.pkl\n"
     ]
    },
    {
     "name": "stderr",
     "output_type": "stream",
     "text": [
      "Child returned 1\n",
      "0.39 seconds.\n",
      "No labeled neurons recorded for image MD658-F19-2017.04.12-19.31.00_MD658_1_0055.\n",
      "Child returned 0\n"
     ]
    },
    {
     "name": "stdout",
     "output_type": "stream",
     "text": [
      "rm -rf /home/yuncong/CSHL_labeled_neurons/MD658/MD658-F19-2017.04.12-19.31.00_MD658_2_0056/MD658-F19-2017.04.12-19.31.00_MD658_2_0056.pkl && mkdir -p /home/yuncong/CSHL_labeled_neurons/MD658/MD658-F19-2017.04.12-19.31.00_MD658_2_0056\n",
      "aws s3 cp s3://mousebrainatlas-data/CSHL_labeled_neurons/MD658/MD658-F19-2017.04.12-19.31.00_MD658_2_0056/MD658-F19-2017.04.12-19.31.00_MD658_2_0056.pkl /home/yuncong/CSHL_labeled_neurons/MD658/MD658-F19-2017.04.12-19.31.00_MD658_2_0056/MD658-F19-2017.04.12-19.31.00_MD658_2_0056.pkl\n"
     ]
    },
    {
     "name": "stderr",
     "output_type": "stream",
     "text": [
      "Child returned 1\n",
      "0.39 seconds.\n",
      "No labeled neurons recorded for image MD658-F19-2017.04.12-19.31.00_MD658_2_0056.\n",
      "Child returned 0\n"
     ]
    },
    {
     "name": "stdout",
     "output_type": "stream",
     "text": [
      "rm -rf /home/yuncong/CSHL_labeled_neurons/MD658/MD658-F19-2017.04.04-19.44.45_MD658_3_0057/MD658-F19-2017.04.04-19.44.45_MD658_3_0057.pkl && mkdir -p /home/yuncong/CSHL_labeled_neurons/MD658/MD658-F19-2017.04.04-19.44.45_MD658_3_0057\n",
      "aws s3 cp s3://mousebrainatlas-data/CSHL_labeled_neurons/MD658/MD658-F19-2017.04.04-19.44.45_MD658_3_0057/MD658-F19-2017.04.04-19.44.45_MD658_3_0057.pkl /home/yuncong/CSHL_labeled_neurons/MD658/MD658-F19-2017.04.04-19.44.45_MD658_3_0057/MD658-F19-2017.04.04-19.44.45_MD658_3_0057.pkl\n"
     ]
    },
    {
     "name": "stderr",
     "output_type": "stream",
     "text": [
      "Child returned 1\n",
      "0.41 seconds.\n",
      "No labeled neurons recorded for image MD658-F19-2017.04.04-19.44.45_MD658_3_0057.\n",
      "Child returned 0\n"
     ]
    },
    {
     "name": "stdout",
     "output_type": "stream",
     "text": [
      "rm -rf /home/yuncong/CSHL_labeled_neurons/MD658/MD658-F20-2017.04.12-19.48.14_MD658_1_0058/MD658-F20-2017.04.12-19.48.14_MD658_1_0058.pkl && mkdir -p /home/yuncong/CSHL_labeled_neurons/MD658/MD658-F20-2017.04.12-19.48.14_MD658_1_0058\n",
      "aws s3 cp s3://mousebrainatlas-data/CSHL_labeled_neurons/MD658/MD658-F20-2017.04.12-19.48.14_MD658_1_0058/MD658-F20-2017.04.12-19.48.14_MD658_1_0058.pkl /home/yuncong/CSHL_labeled_neurons/MD658/MD658-F20-2017.04.12-19.48.14_MD658_1_0058/MD658-F20-2017.04.12-19.48.14_MD658_1_0058.pkl\n"
     ]
    },
    {
     "name": "stderr",
     "output_type": "stream",
     "text": [
      "Child returned 1\n",
      "0.43 seconds.\n",
      "No labeled neurons recorded for image MD658-F20-2017.04.12-19.48.14_MD658_1_0058.\n",
      "Child returned 0\n"
     ]
    },
    {
     "name": "stdout",
     "output_type": "stream",
     "text": [
      "rm -rf /home/yuncong/CSHL_labeled_neurons/MD658/MD658-F20-2017.04.04-20.00.33_MD658_2_0059/MD658-F20-2017.04.04-20.00.33_MD658_2_0059.pkl && mkdir -p /home/yuncong/CSHL_labeled_neurons/MD658/MD658-F20-2017.04.04-20.00.33_MD658_2_0059\n",
      "aws s3 cp s3://mousebrainatlas-data/CSHL_labeled_neurons/MD658/MD658-F20-2017.04.04-20.00.33_MD658_2_0059/MD658-F20-2017.04.04-20.00.33_MD658_2_0059.pkl /home/yuncong/CSHL_labeled_neurons/MD658/MD658-F20-2017.04.04-20.00.33_MD658_2_0059/MD658-F20-2017.04.04-20.00.33_MD658_2_0059.pkl\n"
     ]
    },
    {
     "name": "stderr",
     "output_type": "stream",
     "text": [
      "Child returned 1\n",
      "0.40 seconds.\n",
      "No labeled neurons recorded for image MD658-F20-2017.04.04-20.00.33_MD658_2_0059.\n",
      "Child returned 0\n"
     ]
    },
    {
     "name": "stdout",
     "output_type": "stream",
     "text": [
      "rm -rf /home/yuncong/CSHL_labeled_neurons/MD658/MD658-F20-2017.04.04-20.00.33_MD658_3_0060/MD658-F20-2017.04.04-20.00.33_MD658_3_0060.pkl && mkdir -p /home/yuncong/CSHL_labeled_neurons/MD658/MD658-F20-2017.04.04-20.00.33_MD658_3_0060\n",
      "aws s3 cp s3://mousebrainatlas-data/CSHL_labeled_neurons/MD658/MD658-F20-2017.04.04-20.00.33_MD658_3_0060/MD658-F20-2017.04.04-20.00.33_MD658_3_0060.pkl /home/yuncong/CSHL_labeled_neurons/MD658/MD658-F20-2017.04.04-20.00.33_MD658_3_0060/MD658-F20-2017.04.04-20.00.33_MD658_3_0060.pkl\n"
     ]
    },
    {
     "name": "stderr",
     "output_type": "stream",
     "text": [
      "Child returned 1\n",
      "0.40 seconds.\n",
      "No labeled neurons recorded for image MD658-F20-2017.04.04-20.00.33_MD658_3_0060.\n",
      "Child returned 0\n"
     ]
    },
    {
     "name": "stdout",
     "output_type": "stream",
     "text": [
      "rm -rf /home/yuncong/CSHL_labeled_neurons/MD658/MD658-F21-2017.04.04-20.15.37_MD658_1_0061/MD658-F21-2017.04.04-20.15.37_MD658_1_0061.pkl && mkdir -p /home/yuncong/CSHL_labeled_neurons/MD658/MD658-F21-2017.04.04-20.15.37_MD658_1_0061\n",
      "aws s3 cp s3://mousebrainatlas-data/CSHL_labeled_neurons/MD658/MD658-F21-2017.04.04-20.15.37_MD658_1_0061/MD658-F21-2017.04.04-20.15.37_MD658_1_0061.pkl /home/yuncong/CSHL_labeled_neurons/MD658/MD658-F21-2017.04.04-20.15.37_MD658_1_0061/MD658-F21-2017.04.04-20.15.37_MD658_1_0061.pkl\n"
     ]
    },
    {
     "name": "stderr",
     "output_type": "stream",
     "text": [
      "Child returned 1\n",
      "0.39 seconds.\n",
      "No labeled neurons recorded for image MD658-F21-2017.04.04-20.15.37_MD658_1_0061.\n",
      "Child returned 0\n"
     ]
    },
    {
     "name": "stdout",
     "output_type": "stream",
     "text": [
      "rm -rf /home/yuncong/CSHL_labeled_neurons/MD658/MD658-F21-2017.04.04-20.15.37_MD658_2_0062/MD658-F21-2017.04.04-20.15.37_MD658_2_0062.pkl && mkdir -p /home/yuncong/CSHL_labeled_neurons/MD658/MD658-F21-2017.04.04-20.15.37_MD658_2_0062\n",
      "aws s3 cp s3://mousebrainatlas-data/CSHL_labeled_neurons/MD658/MD658-F21-2017.04.04-20.15.37_MD658_2_0062/MD658-F21-2017.04.04-20.15.37_MD658_2_0062.pkl /home/yuncong/CSHL_labeled_neurons/MD658/MD658-F21-2017.04.04-20.15.37_MD658_2_0062/MD658-F21-2017.04.04-20.15.37_MD658_2_0062.pkl\n"
     ]
    },
    {
     "name": "stderr",
     "output_type": "stream",
     "text": [
      "Child returned 1\n",
      "0.39 seconds.\n",
      "No labeled neurons recorded for image MD658-F21-2017.04.04-20.15.37_MD658_2_0062.\n",
      "Child returned 0\n"
     ]
    },
    {
     "name": "stdout",
     "output_type": "stream",
     "text": [
      "rm -rf /home/yuncong/CSHL_labeled_neurons/MD658/MD658-F22-2017.04.04-20.27.54_MD658_1_0064/MD658-F22-2017.04.04-20.27.54_MD658_1_0064.pkl && mkdir -p /home/yuncong/CSHL_labeled_neurons/MD658/MD658-F22-2017.04.04-20.27.54_MD658_1_0064\n",
      "aws s3 cp s3://mousebrainatlas-data/CSHL_labeled_neurons/MD658/MD658-F22-2017.04.04-20.27.54_MD658_1_0064/MD658-F22-2017.04.04-20.27.54_MD658_1_0064.pkl /home/yuncong/CSHL_labeled_neurons/MD658/MD658-F22-2017.04.04-20.27.54_MD658_1_0064/MD658-F22-2017.04.04-20.27.54_MD658_1_0064.pkl\n"
     ]
    },
    {
     "name": "stderr",
     "output_type": "stream",
     "text": [
      "Child returned 1\n",
      "0.39 seconds.\n",
      "No labeled neurons recorded for image MD658-F22-2017.04.04-20.27.54_MD658_1_0064.\n",
      "Child returned 0\n"
     ]
    },
    {
     "name": "stdout",
     "output_type": "stream",
     "text": [
      "rm -rf /home/yuncong/CSHL_labeled_neurons/MD658/MD658-F22-2017.04.04-20.27.54_MD658_2_0065/MD658-F22-2017.04.04-20.27.54_MD658_2_0065.pkl && mkdir -p /home/yuncong/CSHL_labeled_neurons/MD658/MD658-F22-2017.04.04-20.27.54_MD658_2_0065\n",
      "aws s3 cp s3://mousebrainatlas-data/CSHL_labeled_neurons/MD658/MD658-F22-2017.04.04-20.27.54_MD658_2_0065/MD658-F22-2017.04.04-20.27.54_MD658_2_0065.pkl /home/yuncong/CSHL_labeled_neurons/MD658/MD658-F22-2017.04.04-20.27.54_MD658_2_0065/MD658-F22-2017.04.04-20.27.54_MD658_2_0065.pkl\n"
     ]
    },
    {
     "name": "stderr",
     "output_type": "stream",
     "text": [
      "Child returned 1\n",
      "0.39 seconds.\n",
      "No labeled neurons recorded for image MD658-F22-2017.04.04-20.27.54_MD658_2_0065.\n",
      "Child returned 0\n"
     ]
    },
    {
     "name": "stdout",
     "output_type": "stream",
     "text": [
      "rm -rf /home/yuncong/CSHL_labeled_neurons/MD658/MD658-F23-2017.04.04-20.42.02_MD658_1_0067/MD658-F23-2017.04.04-20.42.02_MD658_1_0067.pkl && mkdir -p /home/yuncong/CSHL_labeled_neurons/MD658/MD658-F23-2017.04.04-20.42.02_MD658_1_0067\n",
      "aws s3 cp s3://mousebrainatlas-data/CSHL_labeled_neurons/MD658/MD658-F23-2017.04.04-20.42.02_MD658_1_0067/MD658-F23-2017.04.04-20.42.02_MD658_1_0067.pkl /home/yuncong/CSHL_labeled_neurons/MD658/MD658-F23-2017.04.04-20.42.02_MD658_1_0067/MD658-F23-2017.04.04-20.42.02_MD658_1_0067.pkl\n"
     ]
    },
    {
     "name": "stderr",
     "output_type": "stream",
     "text": [
      "Child returned 1\n",
      "0.40 seconds.\n",
      "No labeled neurons recorded for image MD658-F23-2017.04.04-20.42.02_MD658_1_0067.\n",
      "Child returned 0\n"
     ]
    },
    {
     "name": "stdout",
     "output_type": "stream",
     "text": [
      "rm -rf /home/yuncong/CSHL_labeled_neurons/MD658/MD658-F23-2017.04.04-20.42.02_MD658_2_0068/MD658-F23-2017.04.04-20.42.02_MD658_2_0068.pkl && mkdir -p /home/yuncong/CSHL_labeled_neurons/MD658/MD658-F23-2017.04.04-20.42.02_MD658_2_0068\n",
      "aws s3 cp s3://mousebrainatlas-data/CSHL_labeled_neurons/MD658/MD658-F23-2017.04.04-20.42.02_MD658_2_0068/MD658-F23-2017.04.04-20.42.02_MD658_2_0068.pkl /home/yuncong/CSHL_labeled_neurons/MD658/MD658-F23-2017.04.04-20.42.02_MD658_2_0068/MD658-F23-2017.04.04-20.42.02_MD658_2_0068.pkl\n"
     ]
    },
    {
     "name": "stderr",
     "output_type": "stream",
     "text": [
      "Child returned 1\n",
      "0.42 seconds.\n",
      "No labeled neurons recorded for image MD658-F23-2017.04.04-20.42.02_MD658_2_0068.\n",
      "Child returned 0\n"
     ]
    },
    {
     "name": "stdout",
     "output_type": "stream",
     "text": [
      "rm -rf /home/yuncong/CSHL_labeled_neurons/MD658/MD658-F24-2017.04.04-20.54.05_MD658_1_0070/MD658-F24-2017.04.04-20.54.05_MD658_1_0070.pkl && mkdir -p /home/yuncong/CSHL_labeled_neurons/MD658/MD658-F24-2017.04.04-20.54.05_MD658_1_0070\n",
      "aws s3 cp s3://mousebrainatlas-data/CSHL_labeled_neurons/MD658/MD658-F24-2017.04.04-20.54.05_MD658_1_0070/MD658-F24-2017.04.04-20.54.05_MD658_1_0070.pkl /home/yuncong/CSHL_labeled_neurons/MD658/MD658-F24-2017.04.04-20.54.05_MD658_1_0070/MD658-F24-2017.04.04-20.54.05_MD658_1_0070.pkl\n"
     ]
    },
    {
     "name": "stderr",
     "output_type": "stream",
     "text": [
      "Child returned 1\n",
      "0.40 seconds.\n",
      "No labeled neurons recorded for image MD658-F24-2017.04.04-20.54.05_MD658_1_0070.\n",
      "Child returned 0\n"
     ]
    },
    {
     "name": "stdout",
     "output_type": "stream",
     "text": [
      "rm -rf /home/yuncong/CSHL_labeled_neurons/MD658/MD658-F24-2017.04.04-20.54.05_MD658_2_0071/MD658-F24-2017.04.04-20.54.05_MD658_2_0071.pkl && mkdir -p /home/yuncong/CSHL_labeled_neurons/MD658/MD658-F24-2017.04.04-20.54.05_MD658_2_0071\n",
      "aws s3 cp s3://mousebrainatlas-data/CSHL_labeled_neurons/MD658/MD658-F24-2017.04.04-20.54.05_MD658_2_0071/MD658-F24-2017.04.04-20.54.05_MD658_2_0071.pkl /home/yuncong/CSHL_labeled_neurons/MD658/MD658-F24-2017.04.04-20.54.05_MD658_2_0071/MD658-F24-2017.04.04-20.54.05_MD658_2_0071.pkl\n"
     ]
    },
    {
     "name": "stderr",
     "output_type": "stream",
     "text": [
      "Child returned 1\n",
      "0.38 seconds.\n",
      "No labeled neurons recorded for image MD658-F24-2017.04.04-20.54.05_MD658_2_0071.\n",
      "Child returned 0\n"
     ]
    },
    {
     "name": "stdout",
     "output_type": "stream",
     "text": [
      "rm -rf /home/yuncong/CSHL_labeled_neurons/MD658/MD658-F25-2017.04.04-21.07.22_MD658_1_0073/MD658-F25-2017.04.04-21.07.22_MD658_1_0073.pkl && mkdir -p /home/yuncong/CSHL_labeled_neurons/MD658/MD658-F25-2017.04.04-21.07.22_MD658_1_0073\n",
      "aws s3 cp s3://mousebrainatlas-data/CSHL_labeled_neurons/MD658/MD658-F25-2017.04.04-21.07.22_MD658_1_0073/MD658-F25-2017.04.04-21.07.22_MD658_1_0073.pkl /home/yuncong/CSHL_labeled_neurons/MD658/MD658-F25-2017.04.04-21.07.22_MD658_1_0073/MD658-F25-2017.04.04-21.07.22_MD658_1_0073.pkl\n"
     ]
    },
    {
     "name": "stderr",
     "output_type": "stream",
     "text": [
      "Child returned 1\n",
      "0.41 seconds.\n",
      "No labeled neurons recorded for image MD658-F25-2017.04.04-21.07.22_MD658_1_0073.\n",
      "Child returned 0\n"
     ]
    },
    {
     "name": "stdout",
     "output_type": "stream",
     "text": [
      "rm -rf /home/yuncong/CSHL_labeled_neurons/MD658/MD658-F25-2017.04.04-21.07.22_MD658_2_0074/MD658-F25-2017.04.04-21.07.22_MD658_2_0074.pkl && mkdir -p /home/yuncong/CSHL_labeled_neurons/MD658/MD658-F25-2017.04.04-21.07.22_MD658_2_0074\n",
      "aws s3 cp s3://mousebrainatlas-data/CSHL_labeled_neurons/MD658/MD658-F25-2017.04.04-21.07.22_MD658_2_0074/MD658-F25-2017.04.04-21.07.22_MD658_2_0074.pkl /home/yuncong/CSHL_labeled_neurons/MD658/MD658-F25-2017.04.04-21.07.22_MD658_2_0074/MD658-F25-2017.04.04-21.07.22_MD658_2_0074.pkl\n"
     ]
    },
    {
     "name": "stderr",
     "output_type": "stream",
     "text": [
      "Child returned 1\n",
      "0.41 seconds.\n",
      "No labeled neurons recorded for image MD658-F25-2017.04.04-21.07.22_MD658_2_0074.\n",
      "Child returned 0\n"
     ]
    },
    {
     "name": "stdout",
     "output_type": "stream",
     "text": [
      "rm -rf /home/yuncong/CSHL_labeled_neurons/MD658/MD658-F26-2017.04.04-21.20.41_MD658_1_0076/MD658-F26-2017.04.04-21.20.41_MD658_1_0076.pkl && mkdir -p /home/yuncong/CSHL_labeled_neurons/MD658/MD658-F26-2017.04.04-21.20.41_MD658_1_0076\n",
      "aws s3 cp s3://mousebrainatlas-data/CSHL_labeled_neurons/MD658/MD658-F26-2017.04.04-21.20.41_MD658_1_0076/MD658-F26-2017.04.04-21.20.41_MD658_1_0076.pkl /home/yuncong/CSHL_labeled_neurons/MD658/MD658-F26-2017.04.04-21.20.41_MD658_1_0076/MD658-F26-2017.04.04-21.20.41_MD658_1_0076.pkl\n"
     ]
    },
    {
     "name": "stderr",
     "output_type": "stream",
     "text": [
      "Child returned 1\n",
      "0.41 seconds.\n",
      "No labeled neurons recorded for image MD658-F26-2017.04.04-21.20.41_MD658_1_0076.\n",
      "Child returned 0\n"
     ]
    },
    {
     "name": "stdout",
     "output_type": "stream",
     "text": [
      "rm -rf /home/yuncong/CSHL_labeled_neurons/MD658/MD658-F26-2017.04.04-21.20.41_MD658_2_0077/MD658-F26-2017.04.04-21.20.41_MD658_2_0077.pkl && mkdir -p /home/yuncong/CSHL_labeled_neurons/MD658/MD658-F26-2017.04.04-21.20.41_MD658_2_0077\n",
      "aws s3 cp s3://mousebrainatlas-data/CSHL_labeled_neurons/MD658/MD658-F26-2017.04.04-21.20.41_MD658_2_0077/MD658-F26-2017.04.04-21.20.41_MD658_2_0077.pkl /home/yuncong/CSHL_labeled_neurons/MD658/MD658-F26-2017.04.04-21.20.41_MD658_2_0077/MD658-F26-2017.04.04-21.20.41_MD658_2_0077.pkl\n"
     ]
    },
    {
     "name": "stderr",
     "output_type": "stream",
     "text": [
      "Child returned 1\n",
      "0.41 seconds.\n",
      "No labeled neurons recorded for image MD658-F26-2017.04.04-21.20.41_MD658_2_0077.\n",
      "Child returned 0\n"
     ]
    },
    {
     "name": "stdout",
     "output_type": "stream",
     "text": [
      "rm -rf /home/yuncong/CSHL_labeled_neurons/MD658/MD658-F27-2017.04.04-21.35.33_MD658_1_0079/MD658-F27-2017.04.04-21.35.33_MD658_1_0079.pkl && mkdir -p /home/yuncong/CSHL_labeled_neurons/MD658/MD658-F27-2017.04.04-21.35.33_MD658_1_0079\n",
      "aws s3 cp s3://mousebrainatlas-data/CSHL_labeled_neurons/MD658/MD658-F27-2017.04.04-21.35.33_MD658_1_0079/MD658-F27-2017.04.04-21.35.33_MD658_1_0079.pkl /home/yuncong/CSHL_labeled_neurons/MD658/MD658-F27-2017.04.04-21.35.33_MD658_1_0079/MD658-F27-2017.04.04-21.35.33_MD658_1_0079.pkl\n"
     ]
    },
    {
     "name": "stderr",
     "output_type": "stream",
     "text": [
      "Child returned 1\n",
      "0.40 seconds.\n",
      "No labeled neurons recorded for image MD658-F27-2017.04.04-21.35.33_MD658_1_0079.\n",
      "Child returned 0\n"
     ]
    },
    {
     "name": "stdout",
     "output_type": "stream",
     "text": [
      "rm -rf /home/yuncong/CSHL_labeled_neurons/MD658/MD658-F27-2017.04.04-21.35.33_MD658_2_0080/MD658-F27-2017.04.04-21.35.33_MD658_2_0080.pkl && mkdir -p /home/yuncong/CSHL_labeled_neurons/MD658/MD658-F27-2017.04.04-21.35.33_MD658_2_0080\n",
      "aws s3 cp s3://mousebrainatlas-data/CSHL_labeled_neurons/MD658/MD658-F27-2017.04.04-21.35.33_MD658_2_0080/MD658-F27-2017.04.04-21.35.33_MD658_2_0080.pkl /home/yuncong/CSHL_labeled_neurons/MD658/MD658-F27-2017.04.04-21.35.33_MD658_2_0080/MD658-F27-2017.04.04-21.35.33_MD658_2_0080.pkl\n"
     ]
    },
    {
     "name": "stderr",
     "output_type": "stream",
     "text": [
      "Child returned 1\n",
      "0.54 seconds.\n",
      "No labeled neurons recorded for image MD658-F27-2017.04.04-21.35.33_MD658_2_0080.\n",
      "Child returned 0\n"
     ]
    },
    {
     "name": "stdout",
     "output_type": "stream",
     "text": [
      "rm -rf /home/yuncong/CSHL_labeled_neurons/MD658/MD658-F28-2017.04.04-21.51.10_MD658_1_0082/MD658-F28-2017.04.04-21.51.10_MD658_1_0082.pkl && mkdir -p /home/yuncong/CSHL_labeled_neurons/MD658/MD658-F28-2017.04.04-21.51.10_MD658_1_0082\n",
      "aws s3 cp s3://mousebrainatlas-data/CSHL_labeled_neurons/MD658/MD658-F28-2017.04.04-21.51.10_MD658_1_0082/MD658-F28-2017.04.04-21.51.10_MD658_1_0082.pkl /home/yuncong/CSHL_labeled_neurons/MD658/MD658-F28-2017.04.04-21.51.10_MD658_1_0082/MD658-F28-2017.04.04-21.51.10_MD658_1_0082.pkl\n"
     ]
    },
    {
     "name": "stderr",
     "output_type": "stream",
     "text": [
      "Child returned 1\n",
      "0.64 seconds.\n",
      "No labeled neurons recorded for image MD658-F28-2017.04.04-21.51.10_MD658_1_0082.\n",
      "Child returned 0\n"
     ]
    },
    {
     "name": "stdout",
     "output_type": "stream",
     "text": [
      "rm -rf /home/yuncong/CSHL_labeled_neurons/MD658/MD658-F28-2017.04.04-21.51.10_MD658_2_0083/MD658-F28-2017.04.04-21.51.10_MD658_2_0083.pkl && mkdir -p /home/yuncong/CSHL_labeled_neurons/MD658/MD658-F28-2017.04.04-21.51.10_MD658_2_0083\n",
      "aws s3 cp s3://mousebrainatlas-data/CSHL_labeled_neurons/MD658/MD658-F28-2017.04.04-21.51.10_MD658_2_0083/MD658-F28-2017.04.04-21.51.10_MD658_2_0083.pkl /home/yuncong/CSHL_labeled_neurons/MD658/MD658-F28-2017.04.04-21.51.10_MD658_2_0083/MD658-F28-2017.04.04-21.51.10_MD658_2_0083.pkl\n"
     ]
    },
    {
     "name": "stderr",
     "output_type": "stream",
     "text": [
      "Child returned 1\n",
      "0.68 seconds.\n",
      "No labeled neurons recorded for image MD658-F28-2017.04.04-21.51.10_MD658_2_0083.\n",
      "Child returned 0\n"
     ]
    },
    {
     "name": "stdout",
     "output_type": "stream",
     "text": [
      "rm -rf /home/yuncong/CSHL_labeled_neurons/MD658/MD658-F29-2017.04.04-22.06.12_MD658_1_0085/MD658-F29-2017.04.04-22.06.12_MD658_1_0085.pkl && mkdir -p /home/yuncong/CSHL_labeled_neurons/MD658/MD658-F29-2017.04.04-22.06.12_MD658_1_0085\n",
      "aws s3 cp s3://mousebrainatlas-data/CSHL_labeled_neurons/MD658/MD658-F29-2017.04.04-22.06.12_MD658_1_0085/MD658-F29-2017.04.04-22.06.12_MD658_1_0085.pkl /home/yuncong/CSHL_labeled_neurons/MD658/MD658-F29-2017.04.04-22.06.12_MD658_1_0085/MD658-F29-2017.04.04-22.06.12_MD658_1_0085.pkl\n"
     ]
    },
    {
     "name": "stderr",
     "output_type": "stream",
     "text": [
      "Child returned 1\n",
      "0.65 seconds.\n",
      "No labeled neurons recorded for image MD658-F29-2017.04.04-22.06.12_MD658_1_0085.\n",
      "Child returned 0\n"
     ]
    },
    {
     "name": "stdout",
     "output_type": "stream",
     "text": [
      "rm -rf /home/yuncong/CSHL_labeled_neurons/MD658/MD658-F29-2017.04.04-22.06.12_MD658_2_0086/MD658-F29-2017.04.04-22.06.12_MD658_2_0086.pkl && mkdir -p /home/yuncong/CSHL_labeled_neurons/MD658/MD658-F29-2017.04.04-22.06.12_MD658_2_0086\n",
      "aws s3 cp s3://mousebrainatlas-data/CSHL_labeled_neurons/MD658/MD658-F29-2017.04.04-22.06.12_MD658_2_0086/MD658-F29-2017.04.04-22.06.12_MD658_2_0086.pkl /home/yuncong/CSHL_labeled_neurons/MD658/MD658-F29-2017.04.04-22.06.12_MD658_2_0086/MD658-F29-2017.04.04-22.06.12_MD658_2_0086.pkl\n"
     ]
    },
    {
     "name": "stderr",
     "output_type": "stream",
     "text": [
      "Child returned 1\n",
      "0.65 seconds.\n",
      "No labeled neurons recorded for image MD658-F29-2017.04.04-22.06.12_MD658_2_0086.\n",
      "Child returned 0\n"
     ]
    },
    {
     "name": "stdout",
     "output_type": "stream",
     "text": [
      "rm -rf /home/yuncong/CSHL_labeled_neurons/MD658/MD658-F30-2017.04.04-22.22.02_MD658_1_0088/MD658-F30-2017.04.04-22.22.02_MD658_1_0088.pkl && mkdir -p /home/yuncong/CSHL_labeled_neurons/MD658/MD658-F30-2017.04.04-22.22.02_MD658_1_0088\n",
      "aws s3 cp s3://mousebrainatlas-data/CSHL_labeled_neurons/MD658/MD658-F30-2017.04.04-22.22.02_MD658_1_0088/MD658-F30-2017.04.04-22.22.02_MD658_1_0088.pkl /home/yuncong/CSHL_labeled_neurons/MD658/MD658-F30-2017.04.04-22.22.02_MD658_1_0088/MD658-F30-2017.04.04-22.22.02_MD658_1_0088.pkl\n"
     ]
    },
    {
     "name": "stderr",
     "output_type": "stream",
     "text": [
      "Child returned 1\n",
      "0.69 seconds.\n",
      "No labeled neurons recorded for image MD658-F30-2017.04.04-22.22.02_MD658_1_0088.\n",
      "Child returned 0\n"
     ]
    },
    {
     "name": "stdout",
     "output_type": "stream",
     "text": [
      "rm -rf /home/yuncong/CSHL_labeled_neurons/MD658/MD658-F30-2017.04.04-22.22.02_MD658_2_0089/MD658-F30-2017.04.04-22.22.02_MD658_2_0089.pkl && mkdir -p /home/yuncong/CSHL_labeled_neurons/MD658/MD658-F30-2017.04.04-22.22.02_MD658_2_0089\n",
      "aws s3 cp s3://mousebrainatlas-data/CSHL_labeled_neurons/MD658/MD658-F30-2017.04.04-22.22.02_MD658_2_0089/MD658-F30-2017.04.04-22.22.02_MD658_2_0089.pkl /home/yuncong/CSHL_labeled_neurons/MD658/MD658-F30-2017.04.04-22.22.02_MD658_2_0089/MD658-F30-2017.04.04-22.22.02_MD658_2_0089.pkl\n"
     ]
    },
    {
     "name": "stderr",
     "output_type": "stream",
     "text": [
      "Child returned 1\n",
      "0.52 seconds.\n",
      "No labeled neurons recorded for image MD658-F30-2017.04.04-22.22.02_MD658_2_0089.\n",
      "Child returned 0\n"
     ]
    },
    {
     "name": "stdout",
     "output_type": "stream",
     "text": [
      "rm -rf /home/yuncong/CSHL_labeled_neurons/MD658/MD658-F31-2017.04.04-22.39.14_MD658_1_0091/MD658-F31-2017.04.04-22.39.14_MD658_1_0091.pkl && mkdir -p /home/yuncong/CSHL_labeled_neurons/MD658/MD658-F31-2017.04.04-22.39.14_MD658_1_0091\n",
      "aws s3 cp s3://mousebrainatlas-data/CSHL_labeled_neurons/MD658/MD658-F31-2017.04.04-22.39.14_MD658_1_0091/MD658-F31-2017.04.04-22.39.14_MD658_1_0091.pkl /home/yuncong/CSHL_labeled_neurons/MD658/MD658-F31-2017.04.04-22.39.14_MD658_1_0091/MD658-F31-2017.04.04-22.39.14_MD658_1_0091.pkl\n"
     ]
    },
    {
     "name": "stderr",
     "output_type": "stream",
     "text": [
      "Child returned 1\n",
      "0.43 seconds.\n",
      "No labeled neurons recorded for image MD658-F31-2017.04.04-22.39.14_MD658_1_0091.\n",
      "Child returned 0\n"
     ]
    },
    {
     "name": "stdout",
     "output_type": "stream",
     "text": [
      "rm -rf /home/yuncong/CSHL_labeled_neurons/MD658/MD658-F31-2017.04.04-22.39.14_MD658_2_0092/MD658-F31-2017.04.04-22.39.14_MD658_2_0092.pkl && mkdir -p /home/yuncong/CSHL_labeled_neurons/MD658/MD658-F31-2017.04.04-22.39.14_MD658_2_0092\n",
      "aws s3 cp s3://mousebrainatlas-data/CSHL_labeled_neurons/MD658/MD658-F31-2017.04.04-22.39.14_MD658_2_0092/MD658-F31-2017.04.04-22.39.14_MD658_2_0092.pkl /home/yuncong/CSHL_labeled_neurons/MD658/MD658-F31-2017.04.04-22.39.14_MD658_2_0092/MD658-F31-2017.04.04-22.39.14_MD658_2_0092.pkl\n"
     ]
    },
    {
     "name": "stderr",
     "output_type": "stream",
     "text": [
      "Child returned 1\n",
      "0.44 seconds.\n",
      "No labeled neurons recorded for image MD658-F31-2017.04.04-22.39.14_MD658_2_0092.\n",
      "Child returned 0\n"
     ]
    },
    {
     "name": "stdout",
     "output_type": "stream",
     "text": [
      "rm -rf /home/yuncong/CSHL_labeled_neurons/MD658/MD658-F32-2017.04.04-22.55.49_MD658_1_0094/MD658-F32-2017.04.04-22.55.49_MD658_1_0094.pkl && mkdir -p /home/yuncong/CSHL_labeled_neurons/MD658/MD658-F32-2017.04.04-22.55.49_MD658_1_0094\n",
      "aws s3 cp s3://mousebrainatlas-data/CSHL_labeled_neurons/MD658/MD658-F32-2017.04.04-22.55.49_MD658_1_0094/MD658-F32-2017.04.04-22.55.49_MD658_1_0094.pkl /home/yuncong/CSHL_labeled_neurons/MD658/MD658-F32-2017.04.04-22.55.49_MD658_1_0094/MD658-F32-2017.04.04-22.55.49_MD658_1_0094.pkl\n"
     ]
    },
    {
     "name": "stderr",
     "output_type": "stream",
     "text": [
      "Child returned 1\n",
      "0.44 seconds.\n",
      "No labeled neurons recorded for image MD658-F32-2017.04.04-22.55.49_MD658_1_0094.\n",
      "Child returned 0\n"
     ]
    },
    {
     "name": "stdout",
     "output_type": "stream",
     "text": [
      "rm -rf /home/yuncong/CSHL_labeled_neurons/MD658/MD658-F32-2017.04.04-22.55.49_MD658_2_0095/MD658-F32-2017.04.04-22.55.49_MD658_2_0095.pkl && mkdir -p /home/yuncong/CSHL_labeled_neurons/MD658/MD658-F32-2017.04.04-22.55.49_MD658_2_0095\n",
      "aws s3 cp s3://mousebrainatlas-data/CSHL_labeled_neurons/MD658/MD658-F32-2017.04.04-22.55.49_MD658_2_0095/MD658-F32-2017.04.04-22.55.49_MD658_2_0095.pkl /home/yuncong/CSHL_labeled_neurons/MD658/MD658-F32-2017.04.04-22.55.49_MD658_2_0095/MD658-F32-2017.04.04-22.55.49_MD658_2_0095.pkl\n"
     ]
    },
    {
     "name": "stderr",
     "output_type": "stream",
     "text": [
      "Child returned 1\n",
      "0.43 seconds.\n",
      "No labeled neurons recorded for image MD658-F32-2017.04.04-22.55.49_MD658_2_0095.\n",
      "Child returned 0\n"
     ]
    },
    {
     "name": "stdout",
     "output_type": "stream",
     "text": [
      "rm -rf /home/yuncong/CSHL_labeled_neurons/MD658/MD658-F33-2017.04.04-23.12.27_MD658_2_0098/MD658-F33-2017.04.04-23.12.27_MD658_2_0098.pkl && mkdir -p /home/yuncong/CSHL_labeled_neurons/MD658/MD658-F33-2017.04.04-23.12.27_MD658_2_0098\n",
      "aws s3 cp s3://mousebrainatlas-data/CSHL_labeled_neurons/MD658/MD658-F33-2017.04.04-23.12.27_MD658_2_0098/MD658-F33-2017.04.04-23.12.27_MD658_2_0098.pkl /home/yuncong/CSHL_labeled_neurons/MD658/MD658-F33-2017.04.04-23.12.27_MD658_2_0098/MD658-F33-2017.04.04-23.12.27_MD658_2_0098.pkl\n"
     ]
    },
    {
     "name": "stderr",
     "output_type": "stream",
     "text": [
      "Child returned 1\n",
      "0.44 seconds.\n",
      "No labeled neurons recorded for image MD658-F33-2017.04.04-23.12.27_MD658_2_0098.\n",
      "Child returned 0\n"
     ]
    },
    {
     "name": "stdout",
     "output_type": "stream",
     "text": [
      "rm -rf /home/yuncong/CSHL_labeled_neurons/MD658/MD658-F34-2017.04.04-23.30.17_MD658_1_0100/MD658-F34-2017.04.04-23.30.17_MD658_1_0100.pkl && mkdir -p /home/yuncong/CSHL_labeled_neurons/MD658/MD658-F34-2017.04.04-23.30.17_MD658_1_0100\n",
      "aws s3 cp s3://mousebrainatlas-data/CSHL_labeled_neurons/MD658/MD658-F34-2017.04.04-23.30.17_MD658_1_0100/MD658-F34-2017.04.04-23.30.17_MD658_1_0100.pkl /home/yuncong/CSHL_labeled_neurons/MD658/MD658-F34-2017.04.04-23.30.17_MD658_1_0100/MD658-F34-2017.04.04-23.30.17_MD658_1_0100.pkl\n"
     ]
    },
    {
     "name": "stderr",
     "output_type": "stream",
     "text": [
      "Child returned 1\n",
      "0.43 seconds.\n",
      "No labeled neurons recorded for image MD658-F34-2017.04.04-23.30.17_MD658_1_0100.\n",
      "Child returned 0\n"
     ]
    },
    {
     "name": "stdout",
     "output_type": "stream",
     "text": [
      "rm -rf /home/yuncong/CSHL_labeled_neurons/MD658/MD658-F34-2017.04.04-23.30.17_MD658_2_0101/MD658-F34-2017.04.04-23.30.17_MD658_2_0101.pkl && mkdir -p /home/yuncong/CSHL_labeled_neurons/MD658/MD658-F34-2017.04.04-23.30.17_MD658_2_0101\n",
      "aws s3 cp s3://mousebrainatlas-data/CSHL_labeled_neurons/MD658/MD658-F34-2017.04.04-23.30.17_MD658_2_0101/MD658-F34-2017.04.04-23.30.17_MD658_2_0101.pkl /home/yuncong/CSHL_labeled_neurons/MD658/MD658-F34-2017.04.04-23.30.17_MD658_2_0101/MD658-F34-2017.04.04-23.30.17_MD658_2_0101.pkl\n"
     ]
    },
    {
     "name": "stderr",
     "output_type": "stream",
     "text": [
      "Child returned 1\n",
      "0.44 seconds.\n",
      "No labeled neurons recorded for image MD658-F34-2017.04.04-23.30.17_MD658_2_0101.\n",
      "Child returned 0\n"
     ]
    },
    {
     "name": "stdout",
     "output_type": "stream",
     "text": [
      "rm -rf /home/yuncong/CSHL_labeled_neurons/MD658/MD658-F35-2017.04.04-23.48.51_MD658_1_0103/MD658-F35-2017.04.04-23.48.51_MD658_1_0103.pkl && mkdir -p /home/yuncong/CSHL_labeled_neurons/MD658/MD658-F35-2017.04.04-23.48.51_MD658_1_0103\n",
      "aws s3 cp s3://mousebrainatlas-data/CSHL_labeled_neurons/MD658/MD658-F35-2017.04.04-23.48.51_MD658_1_0103/MD658-F35-2017.04.04-23.48.51_MD658_1_0103.pkl /home/yuncong/CSHL_labeled_neurons/MD658/MD658-F35-2017.04.04-23.48.51_MD658_1_0103/MD658-F35-2017.04.04-23.48.51_MD658_1_0103.pkl\n"
     ]
    },
    {
     "name": "stderr",
     "output_type": "stream",
     "text": [
      "Child returned 1\n",
      "0.43 seconds.\n",
      "No labeled neurons recorded for image MD658-F35-2017.04.04-23.48.51_MD658_1_0103.\n",
      "Child returned 0\n"
     ]
    },
    {
     "name": "stdout",
     "output_type": "stream",
     "text": [
      "rm -rf /home/yuncong/CSHL_labeled_neurons/MD658/MD658-F35-2017.04.04-23.48.51_MD658_2_0104/MD658-F35-2017.04.04-23.48.51_MD658_2_0104.pkl && mkdir -p /home/yuncong/CSHL_labeled_neurons/MD658/MD658-F35-2017.04.04-23.48.51_MD658_2_0104\n",
      "aws s3 cp s3://mousebrainatlas-data/CSHL_labeled_neurons/MD658/MD658-F35-2017.04.04-23.48.51_MD658_2_0104/MD658-F35-2017.04.04-23.48.51_MD658_2_0104.pkl /home/yuncong/CSHL_labeled_neurons/MD658/MD658-F35-2017.04.04-23.48.51_MD658_2_0104/MD658-F35-2017.04.04-23.48.51_MD658_2_0104.pkl\n"
     ]
    },
    {
     "name": "stderr",
     "output_type": "stream",
     "text": [
      "Child returned 1\n",
      "0.55 seconds.\n",
      "No labeled neurons recorded for image MD658-F35-2017.04.04-23.48.51_MD658_2_0104.\n",
      "Child returned 0\n"
     ]
    },
    {
     "name": "stdout",
     "output_type": "stream",
     "text": [
      "rm -rf /home/yuncong/CSHL_labeled_neurons/MD658/MD658-F36-2017.04.05-00.05.46_MD658_1_0106/MD658-F36-2017.04.05-00.05.46_MD658_1_0106.pkl && mkdir -p /home/yuncong/CSHL_labeled_neurons/MD658/MD658-F36-2017.04.05-00.05.46_MD658_1_0106\n",
      "aws s3 cp s3://mousebrainatlas-data/CSHL_labeled_neurons/MD658/MD658-F36-2017.04.05-00.05.46_MD658_1_0106/MD658-F36-2017.04.05-00.05.46_MD658_1_0106.pkl /home/yuncong/CSHL_labeled_neurons/MD658/MD658-F36-2017.04.05-00.05.46_MD658_1_0106/MD658-F36-2017.04.05-00.05.46_MD658_1_0106.pkl\n"
     ]
    },
    {
     "name": "stderr",
     "output_type": "stream",
     "text": [
      "Child returned 1\n",
      "0.70 seconds.\n",
      "No labeled neurons recorded for image MD658-F36-2017.04.05-00.05.46_MD658_1_0106.\n",
      "Child returned 0\n"
     ]
    },
    {
     "name": "stdout",
     "output_type": "stream",
     "text": [
      "rm -rf /home/yuncong/CSHL_labeled_neurons/MD658/MD658-F36-2017.04.05-00.05.46_MD658_2_0107/MD658-F36-2017.04.05-00.05.46_MD658_2_0107.pkl && mkdir -p /home/yuncong/CSHL_labeled_neurons/MD658/MD658-F36-2017.04.05-00.05.46_MD658_2_0107\n",
      "aws s3 cp s3://mousebrainatlas-data/CSHL_labeled_neurons/MD658/MD658-F36-2017.04.05-00.05.46_MD658_2_0107/MD658-F36-2017.04.05-00.05.46_MD658_2_0107.pkl /home/yuncong/CSHL_labeled_neurons/MD658/MD658-F36-2017.04.05-00.05.46_MD658_2_0107/MD658-F36-2017.04.05-00.05.46_MD658_2_0107.pkl\n"
     ]
    },
    {
     "name": "stderr",
     "output_type": "stream",
     "text": [
      "Child returned 1\n",
      "0.74 seconds.\n",
      "No labeled neurons recorded for image MD658-F36-2017.04.05-00.05.46_MD658_2_0107.\n",
      "Child returned 0\n"
     ]
    },
    {
     "name": "stdout",
     "output_type": "stream",
     "text": [
      "rm -rf /home/yuncong/CSHL_labeled_neurons/MD658/MD658-F37-2017.04.05-00.23.56_MD658_1_0109/MD658-F37-2017.04.05-00.23.56_MD658_1_0109.pkl && mkdir -p /home/yuncong/CSHL_labeled_neurons/MD658/MD658-F37-2017.04.05-00.23.56_MD658_1_0109\n",
      "aws s3 cp s3://mousebrainatlas-data/CSHL_labeled_neurons/MD658/MD658-F37-2017.04.05-00.23.56_MD658_1_0109/MD658-F37-2017.04.05-00.23.56_MD658_1_0109.pkl /home/yuncong/CSHL_labeled_neurons/MD658/MD658-F37-2017.04.05-00.23.56_MD658_1_0109/MD658-F37-2017.04.05-00.23.56_MD658_1_0109.pkl\n"
     ]
    },
    {
     "name": "stderr",
     "output_type": "stream",
     "text": [
      "Child returned 1\n",
      "0.70 seconds.\n",
      "No labeled neurons recorded for image MD658-F37-2017.04.05-00.23.56_MD658_1_0109.\n",
      "Child returned 0\n"
     ]
    },
    {
     "name": "stdout",
     "output_type": "stream",
     "text": [
      "rm -rf /home/yuncong/CSHL_labeled_neurons/MD658/MD658-F37-2017.04.05-00.23.56_MD658_2_0110/MD658-F37-2017.04.05-00.23.56_MD658_2_0110.pkl && mkdir -p /home/yuncong/CSHL_labeled_neurons/MD658/MD658-F37-2017.04.05-00.23.56_MD658_2_0110\n",
      "aws s3 cp s3://mousebrainatlas-data/CSHL_labeled_neurons/MD658/MD658-F37-2017.04.05-00.23.56_MD658_2_0110/MD658-F37-2017.04.05-00.23.56_MD658_2_0110.pkl /home/yuncong/CSHL_labeled_neurons/MD658/MD658-F37-2017.04.05-00.23.56_MD658_2_0110/MD658-F37-2017.04.05-00.23.56_MD658_2_0110.pkl\n"
     ]
    },
    {
     "name": "stderr",
     "output_type": "stream",
     "text": [
      "Child returned 1\n",
      "0.73 seconds.\n",
      "No labeled neurons recorded for image MD658-F37-2017.04.05-00.23.56_MD658_2_0110.\n",
      "Child returned 0\n"
     ]
    },
    {
     "name": "stdout",
     "output_type": "stream",
     "text": [
      "rm -rf /home/yuncong/CSHL_labeled_neurons/MD658/MD658-F38-2017.04.05-00.43.15_MD658_2_0113/MD658-F38-2017.04.05-00.43.15_MD658_2_0113.pkl && mkdir -p /home/yuncong/CSHL_labeled_neurons/MD658/MD658-F38-2017.04.05-00.43.15_MD658_2_0113\n",
      "aws s3 cp s3://mousebrainatlas-data/CSHL_labeled_neurons/MD658/MD658-F38-2017.04.05-00.43.15_MD658_2_0113/MD658-F38-2017.04.05-00.43.15_MD658_2_0113.pkl /home/yuncong/CSHL_labeled_neurons/MD658/MD658-F38-2017.04.05-00.43.15_MD658_2_0113/MD658-F38-2017.04.05-00.43.15_MD658_2_0113.pkl\n"
     ]
    },
    {
     "name": "stderr",
     "output_type": "stream",
     "text": [
      "Child returned 1\n",
      "0.75 seconds.\n",
      "No labeled neurons recorded for image MD658-F38-2017.04.05-00.43.15_MD658_2_0113.\n",
      "Child returned 0\n"
     ]
    },
    {
     "name": "stdout",
     "output_type": "stream",
     "text": [
      "rm -rf /home/yuncong/CSHL_labeled_neurons/MD658/MD658-F39-2017.04.05-01.00.25_MD658_1_0115/MD658-F39-2017.04.05-01.00.25_MD658_1_0115.pkl && mkdir -p /home/yuncong/CSHL_labeled_neurons/MD658/MD658-F39-2017.04.05-01.00.25_MD658_1_0115\n",
      "aws s3 cp s3://mousebrainatlas-data/CSHL_labeled_neurons/MD658/MD658-F39-2017.04.05-01.00.25_MD658_1_0115/MD658-F39-2017.04.05-01.00.25_MD658_1_0115.pkl /home/yuncong/CSHL_labeled_neurons/MD658/MD658-F39-2017.04.05-01.00.25_MD658_1_0115/MD658-F39-2017.04.05-01.00.25_MD658_1_0115.pkl\n"
     ]
    },
    {
     "name": "stderr",
     "output_type": "stream",
     "text": [
      "Child returned 1\n",
      "0.96 seconds.\n",
      "No labeled neurons recorded for image MD658-F39-2017.04.05-01.00.25_MD658_1_0115.\n",
      "Child returned 0\n"
     ]
    },
    {
     "name": "stdout",
     "output_type": "stream",
     "text": [
      "rm -rf /home/yuncong/CSHL_labeled_neurons/MD658/MD658-F39-2017.04.05-01.00.25_MD658_2_0116/MD658-F39-2017.04.05-01.00.25_MD658_2_0116.pkl && mkdir -p /home/yuncong/CSHL_labeled_neurons/MD658/MD658-F39-2017.04.05-01.00.25_MD658_2_0116\n",
      "aws s3 cp s3://mousebrainatlas-data/CSHL_labeled_neurons/MD658/MD658-F39-2017.04.05-01.00.25_MD658_2_0116/MD658-F39-2017.04.05-01.00.25_MD658_2_0116.pkl /home/yuncong/CSHL_labeled_neurons/MD658/MD658-F39-2017.04.05-01.00.25_MD658_2_0116/MD658-F39-2017.04.05-01.00.25_MD658_2_0116.pkl\n"
     ]
    },
    {
     "name": "stderr",
     "output_type": "stream",
     "text": [
      "Child returned 1\n",
      "0.93 seconds.\n",
      "No labeled neurons recorded for image MD658-F39-2017.04.05-01.00.25_MD658_2_0116.\n",
      "Child returned 0\n"
     ]
    },
    {
     "name": "stdout",
     "output_type": "stream",
     "text": [
      "rm -rf /home/yuncong/CSHL_labeled_neurons/MD658/MD658-F40-2017.04.05-01.18.31_MD658_1_0118/MD658-F40-2017.04.05-01.18.31_MD658_1_0118.pkl && mkdir -p /home/yuncong/CSHL_labeled_neurons/MD658/MD658-F40-2017.04.05-01.18.31_MD658_1_0118\n",
      "aws s3 cp s3://mousebrainatlas-data/CSHL_labeled_neurons/MD658/MD658-F40-2017.04.05-01.18.31_MD658_1_0118/MD658-F40-2017.04.05-01.18.31_MD658_1_0118.pkl /home/yuncong/CSHL_labeled_neurons/MD658/MD658-F40-2017.04.05-01.18.31_MD658_1_0118/MD658-F40-2017.04.05-01.18.31_MD658_1_0118.pkl\n"
     ]
    },
    {
     "name": "stderr",
     "output_type": "stream",
     "text": [
      "Child returned 1\n",
      "0.92 seconds.\n",
      "No labeled neurons recorded for image MD658-F40-2017.04.05-01.18.31_MD658_1_0118.\n",
      "Child returned 0\n"
     ]
    },
    {
     "name": "stdout",
     "output_type": "stream",
     "text": [
      "rm -rf /home/yuncong/CSHL_labeled_neurons/MD658/MD658-F40-2017.04.05-01.18.31_MD658_2_0119/MD658-F40-2017.04.05-01.18.31_MD658_2_0119.pkl && mkdir -p /home/yuncong/CSHL_labeled_neurons/MD658/MD658-F40-2017.04.05-01.18.31_MD658_2_0119\n",
      "aws s3 cp s3://mousebrainatlas-data/CSHL_labeled_neurons/MD658/MD658-F40-2017.04.05-01.18.31_MD658_2_0119/MD658-F40-2017.04.05-01.18.31_MD658_2_0119.pkl /home/yuncong/CSHL_labeled_neurons/MD658/MD658-F40-2017.04.05-01.18.31_MD658_2_0119/MD658-F40-2017.04.05-01.18.31_MD658_2_0119.pkl\n"
     ]
    },
    {
     "name": "stderr",
     "output_type": "stream",
     "text": [
      "Child returned 1\n",
      "0.90 seconds.\n",
      "No labeled neurons recorded for image MD658-F40-2017.04.05-01.18.31_MD658_2_0119.\n",
      "Child returned 0\n"
     ]
    },
    {
     "name": "stdout",
     "output_type": "stream",
     "text": [
      "rm -rf /home/yuncong/CSHL_labeled_neurons/MD658/MD658-F41-2017.04.05-01.36.02_MD658_1_0121/MD658-F41-2017.04.05-01.36.02_MD658_1_0121.pkl && mkdir -p /home/yuncong/CSHL_labeled_neurons/MD658/MD658-F41-2017.04.05-01.36.02_MD658_1_0121\n",
      "aws s3 cp s3://mousebrainatlas-data/CSHL_labeled_neurons/MD658/MD658-F41-2017.04.05-01.36.02_MD658_1_0121/MD658-F41-2017.04.05-01.36.02_MD658_1_0121.pkl /home/yuncong/CSHL_labeled_neurons/MD658/MD658-F41-2017.04.05-01.36.02_MD658_1_0121/MD658-F41-2017.04.05-01.36.02_MD658_1_0121.pkl\n"
     ]
    },
    {
     "name": "stderr",
     "output_type": "stream",
     "text": [
      "Child returned 1\n",
      "0.81 seconds.\n",
      "No labeled neurons recorded for image MD658-F41-2017.04.05-01.36.02_MD658_1_0121.\n",
      "Child returned 0\n"
     ]
    },
    {
     "name": "stdout",
     "output_type": "stream",
     "text": [
      "rm -rf /home/yuncong/CSHL_labeled_neurons/MD658/MD658-F41-2017.04.05-01.36.02_MD658_2_0122/MD658-F41-2017.04.05-01.36.02_MD658_2_0122.pkl && mkdir -p /home/yuncong/CSHL_labeled_neurons/MD658/MD658-F41-2017.04.05-01.36.02_MD658_2_0122\n",
      "aws s3 cp s3://mousebrainatlas-data/CSHL_labeled_neurons/MD658/MD658-F41-2017.04.05-01.36.02_MD658_2_0122/MD658-F41-2017.04.05-01.36.02_MD658_2_0122.pkl /home/yuncong/CSHL_labeled_neurons/MD658/MD658-F41-2017.04.05-01.36.02_MD658_2_0122/MD658-F41-2017.04.05-01.36.02_MD658_2_0122.pkl\n"
     ]
    },
    {
     "name": "stderr",
     "output_type": "stream",
     "text": [
      "Child returned 1\n",
      "0.80 seconds.\n",
      "No labeled neurons recorded for image MD658-F41-2017.04.05-01.36.02_MD658_2_0122.\n",
      "Child returned 0\n"
     ]
    },
    {
     "name": "stdout",
     "output_type": "stream",
     "text": [
      "rm -rf /home/yuncong/CSHL_labeled_neurons/MD658/MD658-F42-2017.04.05-01.51.45_MD658_1_0124/MD658-F42-2017.04.05-01.51.45_MD658_1_0124.pkl && mkdir -p /home/yuncong/CSHL_labeled_neurons/MD658/MD658-F42-2017.04.05-01.51.45_MD658_1_0124\n",
      "aws s3 cp s3://mousebrainatlas-data/CSHL_labeled_neurons/MD658/MD658-F42-2017.04.05-01.51.45_MD658_1_0124/MD658-F42-2017.04.05-01.51.45_MD658_1_0124.pkl /home/yuncong/CSHL_labeled_neurons/MD658/MD658-F42-2017.04.05-01.51.45_MD658_1_0124/MD658-F42-2017.04.05-01.51.45_MD658_1_0124.pkl\n"
     ]
    },
    {
     "name": "stderr",
     "output_type": "stream",
     "text": [
      "Child returned 1\n",
      "0.78 seconds.\n",
      "No labeled neurons recorded for image MD658-F42-2017.04.05-01.51.45_MD658_1_0124.\n",
      "Child returned 0\n"
     ]
    },
    {
     "name": "stdout",
     "output_type": "stream",
     "text": [
      "rm -rf /home/yuncong/CSHL_labeled_neurons/MD658/MD658-F42-2017.04.05-01.51.45_MD658_2_0125/MD658-F42-2017.04.05-01.51.45_MD658_2_0125.pkl && mkdir -p /home/yuncong/CSHL_labeled_neurons/MD658/MD658-F42-2017.04.05-01.51.45_MD658_2_0125\n",
      "aws s3 cp s3://mousebrainatlas-data/CSHL_labeled_neurons/MD658/MD658-F42-2017.04.05-01.51.45_MD658_2_0125/MD658-F42-2017.04.05-01.51.45_MD658_2_0125.pkl /home/yuncong/CSHL_labeled_neurons/MD658/MD658-F42-2017.04.05-01.51.45_MD658_2_0125/MD658-F42-2017.04.05-01.51.45_MD658_2_0125.pkl\n"
     ]
    },
    {
     "name": "stderr",
     "output_type": "stream",
     "text": [
      "Child returned 1\n",
      "0.80 seconds.\n",
      "No labeled neurons recorded for image MD658-F42-2017.04.05-01.51.45_MD658_2_0125.\n",
      "Child returned 0\n"
     ]
    },
    {
     "name": "stdout",
     "output_type": "stream",
     "text": [
      "rm -rf /home/yuncong/CSHL_labeled_neurons/MD658/MD658-F43-2017.04.05-02.10.06_MD658_2_0128/MD658-F43-2017.04.05-02.10.06_MD658_2_0128.pkl && mkdir -p /home/yuncong/CSHL_labeled_neurons/MD658/MD658-F43-2017.04.05-02.10.06_MD658_2_0128\n",
      "aws s3 cp s3://mousebrainatlas-data/CSHL_labeled_neurons/MD658/MD658-F43-2017.04.05-02.10.06_MD658_2_0128/MD658-F43-2017.04.05-02.10.06_MD658_2_0128.pkl /home/yuncong/CSHL_labeled_neurons/MD658/MD658-F43-2017.04.05-02.10.06_MD658_2_0128/MD658-F43-2017.04.05-02.10.06_MD658_2_0128.pkl\n"
     ]
    },
    {
     "name": "stderr",
     "output_type": "stream",
     "text": [
      "Child returned 1\n",
      "0.90 seconds.\n",
      "No labeled neurons recorded for image MD658-F43-2017.04.05-02.10.06_MD658_2_0128.\n",
      "Child returned 0\n"
     ]
    },
    {
     "name": "stdout",
     "output_type": "stream",
     "text": [
      "rm -rf /home/yuncong/CSHL_labeled_neurons/MD658/MD658-F44-2017.04.05-11.53.25_MD658_1_0130/MD658-F44-2017.04.05-11.53.25_MD658_1_0130.pkl && mkdir -p /home/yuncong/CSHL_labeled_neurons/MD658/MD658-F44-2017.04.05-11.53.25_MD658_1_0130\n",
      "aws s3 cp s3://mousebrainatlas-data/CSHL_labeled_neurons/MD658/MD658-F44-2017.04.05-11.53.25_MD658_1_0130/MD658-F44-2017.04.05-11.53.25_MD658_1_0130.pkl /home/yuncong/CSHL_labeled_neurons/MD658/MD658-F44-2017.04.05-11.53.25_MD658_1_0130/MD658-F44-2017.04.05-11.53.25_MD658_1_0130.pkl\n"
     ]
    },
    {
     "name": "stderr",
     "output_type": "stream",
     "text": [
      "Child returned 1\n",
      "0.73 seconds.\n",
      "No labeled neurons recorded for image MD658-F44-2017.04.05-11.53.25_MD658_1_0130.\n",
      "Child returned 0\n"
     ]
    },
    {
     "name": "stdout",
     "output_type": "stream",
     "text": [
      "rm -rf /home/yuncong/CSHL_labeled_neurons/MD658/MD658-F44-2017.04.05-11.53.25_MD658_2_0131/MD658-F44-2017.04.05-11.53.25_MD658_2_0131.pkl && mkdir -p /home/yuncong/CSHL_labeled_neurons/MD658/MD658-F44-2017.04.05-11.53.25_MD658_2_0131\n",
      "aws s3 cp s3://mousebrainatlas-data/CSHL_labeled_neurons/MD658/MD658-F44-2017.04.05-11.53.25_MD658_2_0131/MD658-F44-2017.04.05-11.53.25_MD658_2_0131.pkl /home/yuncong/CSHL_labeled_neurons/MD658/MD658-F44-2017.04.05-11.53.25_MD658_2_0131/MD658-F44-2017.04.05-11.53.25_MD658_2_0131.pkl\n"
     ]
    },
    {
     "name": "stderr",
     "output_type": "stream",
     "text": [
      "Child returned 1\n",
      "0.74 seconds.\n",
      "No labeled neurons recorded for image MD658-F44-2017.04.05-11.53.25_MD658_2_0131.\n",
      "Child returned 0\n"
     ]
    },
    {
     "name": "stdout",
     "output_type": "stream",
     "text": [
      "rm -rf /home/yuncong/CSHL_labeled_neurons/MD658/MD658-F45-2017.04.05-02.29.00_MD658_1_0133/MD658-F45-2017.04.05-02.29.00_MD658_1_0133.pkl && mkdir -p /home/yuncong/CSHL_labeled_neurons/MD658/MD658-F45-2017.04.05-02.29.00_MD658_1_0133\n",
      "aws s3 cp s3://mousebrainatlas-data/CSHL_labeled_neurons/MD658/MD658-F45-2017.04.05-02.29.00_MD658_1_0133/MD658-F45-2017.04.05-02.29.00_MD658_1_0133.pkl /home/yuncong/CSHL_labeled_neurons/MD658/MD658-F45-2017.04.05-02.29.00_MD658_1_0133/MD658-F45-2017.04.05-02.29.00_MD658_1_0133.pkl\n"
     ]
    },
    {
     "name": "stderr",
     "output_type": "stream",
     "text": [
      "Child returned 1\n",
      "0.74 seconds.\n",
      "No labeled neurons recorded for image MD658-F45-2017.04.05-02.29.00_MD658_1_0133.\n",
      "Child returned 0\n"
     ]
    },
    {
     "name": "stdout",
     "output_type": "stream",
     "text": [
      "rm -rf /home/yuncong/CSHL_labeled_neurons/MD658/MD658-F45-2017.04.05-02.29.00_MD658_2_0134/MD658-F45-2017.04.05-02.29.00_MD658_2_0134.pkl && mkdir -p /home/yuncong/CSHL_labeled_neurons/MD658/MD658-F45-2017.04.05-02.29.00_MD658_2_0134\n",
      "aws s3 cp s3://mousebrainatlas-data/CSHL_labeled_neurons/MD658/MD658-F45-2017.04.05-02.29.00_MD658_2_0134/MD658-F45-2017.04.05-02.29.00_MD658_2_0134.pkl /home/yuncong/CSHL_labeled_neurons/MD658/MD658-F45-2017.04.05-02.29.00_MD658_2_0134/MD658-F45-2017.04.05-02.29.00_MD658_2_0134.pkl\n"
     ]
    },
    {
     "name": "stderr",
     "output_type": "stream",
     "text": [
      "Child returned 1\n",
      "0.69 seconds.\n",
      "No labeled neurons recorded for image MD658-F45-2017.04.05-02.29.00_MD658_2_0134.\n",
      "Child returned 0\n"
     ]
    },
    {
     "name": "stdout",
     "output_type": "stream",
     "text": [
      "rm -rf /home/yuncong/CSHL_labeled_neurons/MD658/MD658-F46-2017.04.05-02.44.53_MD658_1_0136/MD658-F46-2017.04.05-02.44.53_MD658_1_0136.pkl && mkdir -p /home/yuncong/CSHL_labeled_neurons/MD658/MD658-F46-2017.04.05-02.44.53_MD658_1_0136\n",
      "aws s3 cp s3://mousebrainatlas-data/CSHL_labeled_neurons/MD658/MD658-F46-2017.04.05-02.44.53_MD658_1_0136/MD658-F46-2017.04.05-02.44.53_MD658_1_0136.pkl /home/yuncong/CSHL_labeled_neurons/MD658/MD658-F46-2017.04.05-02.44.53_MD658_1_0136/MD658-F46-2017.04.05-02.44.53_MD658_1_0136.pkl\n"
     ]
    },
    {
     "name": "stderr",
     "output_type": "stream",
     "text": [
      "Child returned 1\n",
      "0.69 seconds.\n",
      "No labeled neurons recorded for image MD658-F46-2017.04.05-02.44.53_MD658_1_0136.\n",
      "Child returned 0\n"
     ]
    },
    {
     "name": "stdout",
     "output_type": "stream",
     "text": [
      "rm -rf /home/yuncong/CSHL_labeled_neurons/MD658/MD658-F46-2017.04.05-02.44.53_MD658_2_0137/MD658-F46-2017.04.05-02.44.53_MD658_2_0137.pkl && mkdir -p /home/yuncong/CSHL_labeled_neurons/MD658/MD658-F46-2017.04.05-02.44.53_MD658_2_0137\n",
      "aws s3 cp s3://mousebrainatlas-data/CSHL_labeled_neurons/MD658/MD658-F46-2017.04.05-02.44.53_MD658_2_0137/MD658-F46-2017.04.05-02.44.53_MD658_2_0137.pkl /home/yuncong/CSHL_labeled_neurons/MD658/MD658-F46-2017.04.05-02.44.53_MD658_2_0137/MD658-F46-2017.04.05-02.44.53_MD658_2_0137.pkl\n"
     ]
    },
    {
     "name": "stderr",
     "output_type": "stream",
     "text": [
      "Child returned 1\n",
      "0.75 seconds.\n",
      "No labeled neurons recorded for image MD658-F46-2017.04.05-02.44.53_MD658_2_0137.\n",
      "Child returned 0\n"
     ]
    },
    {
     "name": "stdout",
     "output_type": "stream",
     "text": [
      "rm -rf /home/yuncong/CSHL_labeled_neurons/MD658/MD658-F47-2017.04.05-03.01.03_MD658_1_0139/MD658-F47-2017.04.05-03.01.03_MD658_1_0139.pkl && mkdir -p /home/yuncong/CSHL_labeled_neurons/MD658/MD658-F47-2017.04.05-03.01.03_MD658_1_0139\n",
      "aws s3 cp s3://mousebrainatlas-data/CSHL_labeled_neurons/MD658/MD658-F47-2017.04.05-03.01.03_MD658_1_0139/MD658-F47-2017.04.05-03.01.03_MD658_1_0139.pkl /home/yuncong/CSHL_labeled_neurons/MD658/MD658-F47-2017.04.05-03.01.03_MD658_1_0139/MD658-F47-2017.04.05-03.01.03_MD658_1_0139.pkl\n"
     ]
    },
    {
     "name": "stderr",
     "output_type": "stream",
     "text": [
      "Child returned 1\n",
      "0.85 seconds.\n",
      "No labeled neurons recorded for image MD658-F47-2017.04.05-03.01.03_MD658_1_0139.\n",
      "Child returned 0\n"
     ]
    },
    {
     "name": "stdout",
     "output_type": "stream",
     "text": [
      "rm -rf /home/yuncong/CSHL_labeled_neurons/MD658/MD658-F47-2017.04.05-03.01.03_MD658_2_0140/MD658-F47-2017.04.05-03.01.03_MD658_2_0140.pkl && mkdir -p /home/yuncong/CSHL_labeled_neurons/MD658/MD658-F47-2017.04.05-03.01.03_MD658_2_0140\n",
      "aws s3 cp s3://mousebrainatlas-data/CSHL_labeled_neurons/MD658/MD658-F47-2017.04.05-03.01.03_MD658_2_0140/MD658-F47-2017.04.05-03.01.03_MD658_2_0140.pkl /home/yuncong/CSHL_labeled_neurons/MD658/MD658-F47-2017.04.05-03.01.03_MD658_2_0140/MD658-F47-2017.04.05-03.01.03_MD658_2_0140.pkl\n"
     ]
    },
    {
     "name": "stderr",
     "output_type": "stream",
     "text": [
      "Child returned 1\n",
      "0.85 seconds.\n",
      "No labeled neurons recorded for image MD658-F47-2017.04.05-03.01.03_MD658_2_0140.\n",
      "Child returned 0\n"
     ]
    },
    {
     "name": "stdout",
     "output_type": "stream",
     "text": [
      "rm -rf /home/yuncong/CSHL_labeled_neurons/MD658/MD658-F48-2017.04.05-03.19.01_MD658_1_0142/MD658-F48-2017.04.05-03.19.01_MD658_1_0142.pkl && mkdir -p /home/yuncong/CSHL_labeled_neurons/MD658/MD658-F48-2017.04.05-03.19.01_MD658_1_0142\n",
      "aws s3 cp s3://mousebrainatlas-data/CSHL_labeled_neurons/MD658/MD658-F48-2017.04.05-03.19.01_MD658_1_0142/MD658-F48-2017.04.05-03.19.01_MD658_1_0142.pkl /home/yuncong/CSHL_labeled_neurons/MD658/MD658-F48-2017.04.05-03.19.01_MD658_1_0142/MD658-F48-2017.04.05-03.19.01_MD658_1_0142.pkl\n"
     ]
    },
    {
     "name": "stderr",
     "output_type": "stream",
     "text": [
      "Child returned 1\n",
      "0.93 seconds.\n",
      "No labeled neurons recorded for image MD658-F48-2017.04.05-03.19.01_MD658_1_0142.\n",
      "Child returned 0\n"
     ]
    },
    {
     "name": "stdout",
     "output_type": "stream",
     "text": [
      "rm -rf /home/yuncong/CSHL_labeled_neurons/MD658/MD658-F48-2017.04.05-03.19.01_MD658_2_0143/MD658-F48-2017.04.05-03.19.01_MD658_2_0143.pkl && mkdir -p /home/yuncong/CSHL_labeled_neurons/MD658/MD658-F48-2017.04.05-03.19.01_MD658_2_0143\n",
      "aws s3 cp s3://mousebrainatlas-data/CSHL_labeled_neurons/MD658/MD658-F48-2017.04.05-03.19.01_MD658_2_0143/MD658-F48-2017.04.05-03.19.01_MD658_2_0143.pkl /home/yuncong/CSHL_labeled_neurons/MD658/MD658-F48-2017.04.05-03.19.01_MD658_2_0143/MD658-F48-2017.04.05-03.19.01_MD658_2_0143.pkl\n"
     ]
    },
    {
     "name": "stderr",
     "output_type": "stream",
     "text": [
      "Child returned 1\n",
      "0.87 seconds.\n",
      "No labeled neurons recorded for image MD658-F48-2017.04.05-03.19.01_MD658_2_0143.\n",
      "Child returned 0\n"
     ]
    },
    {
     "name": "stdout",
     "output_type": "stream",
     "text": [
      "rm -rf /home/yuncong/CSHL_labeled_neurons/MD658/MD658-F49-2017.04.05-03.36.45_MD658_1_0145/MD658-F49-2017.04.05-03.36.45_MD658_1_0145.pkl && mkdir -p /home/yuncong/CSHL_labeled_neurons/MD658/MD658-F49-2017.04.05-03.36.45_MD658_1_0145\n",
      "aws s3 cp s3://mousebrainatlas-data/CSHL_labeled_neurons/MD658/MD658-F49-2017.04.05-03.36.45_MD658_1_0145/MD658-F49-2017.04.05-03.36.45_MD658_1_0145.pkl /home/yuncong/CSHL_labeled_neurons/MD658/MD658-F49-2017.04.05-03.36.45_MD658_1_0145/MD658-F49-2017.04.05-03.36.45_MD658_1_0145.pkl\n"
     ]
    },
    {
     "name": "stderr",
     "output_type": "stream",
     "text": [
      "Child returned 1\n",
      "0.70 seconds.\n",
      "No labeled neurons recorded for image MD658-F49-2017.04.05-03.36.45_MD658_1_0145.\n",
      "Child returned 0\n"
     ]
    },
    {
     "name": "stdout",
     "output_type": "stream",
     "text": [
      "rm -rf /home/yuncong/CSHL_labeled_neurons/MD658/MD658-F49-2017.04.05-03.36.45_MD658_2_0146/MD658-F49-2017.04.05-03.36.45_MD658_2_0146.pkl && mkdir -p /home/yuncong/CSHL_labeled_neurons/MD658/MD658-F49-2017.04.05-03.36.45_MD658_2_0146\n",
      "aws s3 cp s3://mousebrainatlas-data/CSHL_labeled_neurons/MD658/MD658-F49-2017.04.05-03.36.45_MD658_2_0146/MD658-F49-2017.04.05-03.36.45_MD658_2_0146.pkl /home/yuncong/CSHL_labeled_neurons/MD658/MD658-F49-2017.04.05-03.36.45_MD658_2_0146/MD658-F49-2017.04.05-03.36.45_MD658_2_0146.pkl\n"
     ]
    },
    {
     "name": "stderr",
     "output_type": "stream",
     "text": [
      "Child returned 1\n",
      "0.82 seconds.\n",
      "No labeled neurons recorded for image MD658-F49-2017.04.05-03.36.45_MD658_2_0146.\n",
      "Child returned 0\n"
     ]
    },
    {
     "name": "stdout",
     "output_type": "stream",
     "text": [
      "rm -rf /home/yuncong/CSHL_labeled_neurons/MD658/MD658-F50-2017.04.05-03.53.13_MD658_1_0148/MD658-F50-2017.04.05-03.53.13_MD658_1_0148.pkl && mkdir -p /home/yuncong/CSHL_labeled_neurons/MD658/MD658-F50-2017.04.05-03.53.13_MD658_1_0148\n",
      "aws s3 cp s3://mousebrainatlas-data/CSHL_labeled_neurons/MD658/MD658-F50-2017.04.05-03.53.13_MD658_1_0148/MD658-F50-2017.04.05-03.53.13_MD658_1_0148.pkl /home/yuncong/CSHL_labeled_neurons/MD658/MD658-F50-2017.04.05-03.53.13_MD658_1_0148/MD658-F50-2017.04.05-03.53.13_MD658_1_0148.pkl\n"
     ]
    },
    {
     "name": "stderr",
     "output_type": "stream",
     "text": [
      "Child returned 1\n",
      "0.72 seconds.\n",
      "No labeled neurons recorded for image MD658-F50-2017.04.05-03.53.13_MD658_1_0148.\n",
      "Child returned 0\n"
     ]
    },
    {
     "name": "stdout",
     "output_type": "stream",
     "text": [
      "rm -rf /home/yuncong/CSHL_labeled_neurons/MD658/MD658-F50-2017.04.05-03.53.13_MD658_2_0149/MD658-F50-2017.04.05-03.53.13_MD658_2_0149.pkl && mkdir -p /home/yuncong/CSHL_labeled_neurons/MD658/MD658-F50-2017.04.05-03.53.13_MD658_2_0149\n",
      "aws s3 cp s3://mousebrainatlas-data/CSHL_labeled_neurons/MD658/MD658-F50-2017.04.05-03.53.13_MD658_2_0149/MD658-F50-2017.04.05-03.53.13_MD658_2_0149.pkl /home/yuncong/CSHL_labeled_neurons/MD658/MD658-F50-2017.04.05-03.53.13_MD658_2_0149/MD658-F50-2017.04.05-03.53.13_MD658_2_0149.pkl\n"
     ]
    },
    {
     "name": "stderr",
     "output_type": "stream",
     "text": [
      "Child returned 1\n",
      "0.67 seconds.\n",
      "No labeled neurons recorded for image MD658-F50-2017.04.05-03.53.13_MD658_2_0149.\n",
      "Child returned 0\n"
     ]
    },
    {
     "name": "stdout",
     "output_type": "stream",
     "text": [
      "rm -rf /home/yuncong/CSHL_labeled_neurons/MD658/MD658-F51-2017.04.05-04.11.47_MD658_1_0151/MD658-F51-2017.04.05-04.11.47_MD658_1_0151.pkl && mkdir -p /home/yuncong/CSHL_labeled_neurons/MD658/MD658-F51-2017.04.05-04.11.47_MD658_1_0151\n",
      "aws s3 cp s3://mousebrainatlas-data/CSHL_labeled_neurons/MD658/MD658-F51-2017.04.05-04.11.47_MD658_1_0151/MD658-F51-2017.04.05-04.11.47_MD658_1_0151.pkl /home/yuncong/CSHL_labeled_neurons/MD658/MD658-F51-2017.04.05-04.11.47_MD658_1_0151/MD658-F51-2017.04.05-04.11.47_MD658_1_0151.pkl\n"
     ]
    },
    {
     "name": "stderr",
     "output_type": "stream",
     "text": [
      "Child returned 1\n",
      "0.72 seconds.\n",
      "No labeled neurons recorded for image MD658-F51-2017.04.05-04.11.47_MD658_1_0151.\n",
      "Child returned 0\n"
     ]
    },
    {
     "name": "stdout",
     "output_type": "stream",
     "text": [
      "rm -rf /home/yuncong/CSHL_labeled_neurons/MD658/MD658-F51-2017.04.05-04.11.47_MD658_2_0152/MD658-F51-2017.04.05-04.11.47_MD658_2_0152.pkl && mkdir -p /home/yuncong/CSHL_labeled_neurons/MD658/MD658-F51-2017.04.05-04.11.47_MD658_2_0152\n",
      "aws s3 cp s3://mousebrainatlas-data/CSHL_labeled_neurons/MD658/MD658-F51-2017.04.05-04.11.47_MD658_2_0152/MD658-F51-2017.04.05-04.11.47_MD658_2_0152.pkl /home/yuncong/CSHL_labeled_neurons/MD658/MD658-F51-2017.04.05-04.11.47_MD658_2_0152/MD658-F51-2017.04.05-04.11.47_MD658_2_0152.pkl\n"
     ]
    },
    {
     "name": "stderr",
     "output_type": "stream",
     "text": [
      "Child returned 1\n",
      "0.67 seconds.\n",
      "No labeled neurons recorded for image MD658-F51-2017.04.05-04.11.47_MD658_2_0152.\n",
      "Child returned 0\n"
     ]
    },
    {
     "name": "stdout",
     "output_type": "stream",
     "text": [
      "rm -rf /home/yuncong/CSHL_labeled_neurons/MD658/MD658-F52-2017.04.05-04.30.53_MD658_1_0154/MD658-F52-2017.04.05-04.30.53_MD658_1_0154.pkl && mkdir -p /home/yuncong/CSHL_labeled_neurons/MD658/MD658-F52-2017.04.05-04.30.53_MD658_1_0154\n",
      "aws s3 cp s3://mousebrainatlas-data/CSHL_labeled_neurons/MD658/MD658-F52-2017.04.05-04.30.53_MD658_1_0154/MD658-F52-2017.04.05-04.30.53_MD658_1_0154.pkl /home/yuncong/CSHL_labeled_neurons/MD658/MD658-F52-2017.04.05-04.30.53_MD658_1_0154/MD658-F52-2017.04.05-04.30.53_MD658_1_0154.pkl\n"
     ]
    },
    {
     "name": "stderr",
     "output_type": "stream",
     "text": [
      "Child returned 1\n",
      "0.48 seconds.\n",
      "No labeled neurons recorded for image MD658-F52-2017.04.05-04.30.53_MD658_1_0154.\n",
      "Child returned 0\n"
     ]
    },
    {
     "name": "stdout",
     "output_type": "stream",
     "text": [
      "rm -rf /home/yuncong/CSHL_labeled_neurons/MD658/MD658-F52-2017.04.05-04.30.53_MD658_2_0155/MD658-F52-2017.04.05-04.30.53_MD658_2_0155.pkl && mkdir -p /home/yuncong/CSHL_labeled_neurons/MD658/MD658-F52-2017.04.05-04.30.53_MD658_2_0155\n",
      "aws s3 cp s3://mousebrainatlas-data/CSHL_labeled_neurons/MD658/MD658-F52-2017.04.05-04.30.53_MD658_2_0155/MD658-F52-2017.04.05-04.30.53_MD658_2_0155.pkl /home/yuncong/CSHL_labeled_neurons/MD658/MD658-F52-2017.04.05-04.30.53_MD658_2_0155/MD658-F52-2017.04.05-04.30.53_MD658_2_0155.pkl\n"
     ]
    },
    {
     "name": "stderr",
     "output_type": "stream",
     "text": [
      "Child returned 1\n",
      "0.47 seconds.\n",
      "No labeled neurons recorded for image MD658-F52-2017.04.05-04.30.53_MD658_2_0155.\n",
      "Child returned 0\n"
     ]
    },
    {
     "name": "stdout",
     "output_type": "stream",
     "text": [
      "rm -rf /home/yuncong/CSHL_labeled_neurons/MD658/MD658-F53-2017.04.05-04.48.56_MD658_1_0157/MD658-F53-2017.04.05-04.48.56_MD658_1_0157.pkl && mkdir -p /home/yuncong/CSHL_labeled_neurons/MD658/MD658-F53-2017.04.05-04.48.56_MD658_1_0157\n",
      "aws s3 cp s3://mousebrainatlas-data/CSHL_labeled_neurons/MD658/MD658-F53-2017.04.05-04.48.56_MD658_1_0157/MD658-F53-2017.04.05-04.48.56_MD658_1_0157.pkl /home/yuncong/CSHL_labeled_neurons/MD658/MD658-F53-2017.04.05-04.48.56_MD658_1_0157/MD658-F53-2017.04.05-04.48.56_MD658_1_0157.pkl\n"
     ]
    },
    {
     "name": "stderr",
     "output_type": "stream",
     "text": [
      "Child returned 1\n",
      "0.46 seconds.\n",
      "No labeled neurons recorded for image MD658-F53-2017.04.05-04.48.56_MD658_1_0157.\n",
      "Child returned 0\n"
     ]
    },
    {
     "name": "stdout",
     "output_type": "stream",
     "text": [
      "rm -rf /home/yuncong/CSHL_labeled_neurons/MD658/MD658-F53-2017.04.05-04.48.56_MD658_2_0158/MD658-F53-2017.04.05-04.48.56_MD658_2_0158.pkl && mkdir -p /home/yuncong/CSHL_labeled_neurons/MD658/MD658-F53-2017.04.05-04.48.56_MD658_2_0158\n",
      "aws s3 cp s3://mousebrainatlas-data/CSHL_labeled_neurons/MD658/MD658-F53-2017.04.05-04.48.56_MD658_2_0158/MD658-F53-2017.04.05-04.48.56_MD658_2_0158.pkl /home/yuncong/CSHL_labeled_neurons/MD658/MD658-F53-2017.04.05-04.48.56_MD658_2_0158/MD658-F53-2017.04.05-04.48.56_MD658_2_0158.pkl\n"
     ]
    },
    {
     "name": "stderr",
     "output_type": "stream",
     "text": [
      "Child returned 1\n",
      "0.46 seconds.\n",
      "No labeled neurons recorded for image MD658-F53-2017.04.05-04.48.56_MD658_2_0158.\n",
      "Child returned 0\n"
     ]
    },
    {
     "name": "stdout",
     "output_type": "stream",
     "text": [
      "rm -rf /home/yuncong/CSHL_labeled_neurons/MD658/MD658-F54-2017.04.05-05.08.54_MD658_1_0160/MD658-F54-2017.04.05-05.08.54_MD658_1_0160.pkl && mkdir -p /home/yuncong/CSHL_labeled_neurons/MD658/MD658-F54-2017.04.05-05.08.54_MD658_1_0160\n",
      "aws s3 cp s3://mousebrainatlas-data/CSHL_labeled_neurons/MD658/MD658-F54-2017.04.05-05.08.54_MD658_1_0160/MD658-F54-2017.04.05-05.08.54_MD658_1_0160.pkl /home/yuncong/CSHL_labeled_neurons/MD658/MD658-F54-2017.04.05-05.08.54_MD658_1_0160/MD658-F54-2017.04.05-05.08.54_MD658_1_0160.pkl\n"
     ]
    },
    {
     "name": "stderr",
     "output_type": "stream",
     "text": [
      "Child returned 1\n",
      "0.45 seconds.\n",
      "No labeled neurons recorded for image MD658-F54-2017.04.05-05.08.54_MD658_1_0160.\n",
      "Child returned 0\n"
     ]
    },
    {
     "name": "stdout",
     "output_type": "stream",
     "text": [
      "rm -rf /home/yuncong/CSHL_labeled_neurons/MD658/MD658-F54-2017.04.05-05.08.54_MD658_2_0161/MD658-F54-2017.04.05-05.08.54_MD658_2_0161.pkl && mkdir -p /home/yuncong/CSHL_labeled_neurons/MD658/MD658-F54-2017.04.05-05.08.54_MD658_2_0161\n",
      "aws s3 cp s3://mousebrainatlas-data/CSHL_labeled_neurons/MD658/MD658-F54-2017.04.05-05.08.54_MD658_2_0161/MD658-F54-2017.04.05-05.08.54_MD658_2_0161.pkl /home/yuncong/CSHL_labeled_neurons/MD658/MD658-F54-2017.04.05-05.08.54_MD658_2_0161/MD658-F54-2017.04.05-05.08.54_MD658_2_0161.pkl\n"
     ]
    },
    {
     "name": "stderr",
     "output_type": "stream",
     "text": [
      "Child returned 1\n",
      "0.44 seconds.\n",
      "No labeled neurons recorded for image MD658-F54-2017.04.05-05.08.54_MD658_2_0161.\n",
      "Child returned 0\n"
     ]
    },
    {
     "name": "stdout",
     "output_type": "stream",
     "text": [
      "rm -rf /home/yuncong/CSHL_labeled_neurons/MD658/MD658-F56-2017.04.05-05.43.40_MD658_1_0166/MD658-F56-2017.04.05-05.43.40_MD658_1_0166.pkl && mkdir -p /home/yuncong/CSHL_labeled_neurons/MD658/MD658-F56-2017.04.05-05.43.40_MD658_1_0166\n",
      "aws s3 cp s3://mousebrainatlas-data/CSHL_labeled_neurons/MD658/MD658-F56-2017.04.05-05.43.40_MD658_1_0166/MD658-F56-2017.04.05-05.43.40_MD658_1_0166.pkl /home/yuncong/CSHL_labeled_neurons/MD658/MD658-F56-2017.04.05-05.43.40_MD658_1_0166/MD658-F56-2017.04.05-05.43.40_MD658_1_0166.pkl\n"
     ]
    },
    {
     "name": "stderr",
     "output_type": "stream",
     "text": [
      "Child returned 1\n",
      "0.43 seconds.\n",
      "No labeled neurons recorded for image MD658-F56-2017.04.05-05.43.40_MD658_1_0166.\n",
      "Child returned 0\n"
     ]
    },
    {
     "name": "stdout",
     "output_type": "stream",
     "text": [
      "rm -rf /home/yuncong/CSHL_labeled_neurons/MD658/MD658-F56-2017.04.05-05.43.40_MD658_2_0167/MD658-F56-2017.04.05-05.43.40_MD658_2_0167.pkl && mkdir -p /home/yuncong/CSHL_labeled_neurons/MD658/MD658-F56-2017.04.05-05.43.40_MD658_2_0167\n",
      "aws s3 cp s3://mousebrainatlas-data/CSHL_labeled_neurons/MD658/MD658-F56-2017.04.05-05.43.40_MD658_2_0167/MD658-F56-2017.04.05-05.43.40_MD658_2_0167.pkl /home/yuncong/CSHL_labeled_neurons/MD658/MD658-F56-2017.04.05-05.43.40_MD658_2_0167/MD658-F56-2017.04.05-05.43.40_MD658_2_0167.pkl\n"
     ]
    },
    {
     "name": "stderr",
     "output_type": "stream",
     "text": [
      "Child returned 1\n",
      "0.45 seconds.\n",
      "No labeled neurons recorded for image MD658-F56-2017.04.05-05.43.40_MD658_2_0167.\n",
      "Child returned 0\n"
     ]
    },
    {
     "name": "stdout",
     "output_type": "stream",
     "text": [
      "rm -rf /home/yuncong/CSHL_labeled_neurons/MD658/MD658-F57-2017.04.05-06.03.16_MD658_1_0169/MD658-F57-2017.04.05-06.03.16_MD658_1_0169.pkl && mkdir -p /home/yuncong/CSHL_labeled_neurons/MD658/MD658-F57-2017.04.05-06.03.16_MD658_1_0169\n",
      "aws s3 cp s3://mousebrainatlas-data/CSHL_labeled_neurons/MD658/MD658-F57-2017.04.05-06.03.16_MD658_1_0169/MD658-F57-2017.04.05-06.03.16_MD658_1_0169.pkl /home/yuncong/CSHL_labeled_neurons/MD658/MD658-F57-2017.04.05-06.03.16_MD658_1_0169/MD658-F57-2017.04.05-06.03.16_MD658_1_0169.pkl\n"
     ]
    },
    {
     "name": "stderr",
     "output_type": "stream",
     "text": [
      "Child returned 1\n",
      "0.52 seconds.\n",
      "No labeled neurons recorded for image MD658-F57-2017.04.05-06.03.16_MD658_1_0169.\n",
      "Child returned 0\n"
     ]
    },
    {
     "name": "stdout",
     "output_type": "stream",
     "text": [
      "rm -rf /home/yuncong/CSHL_labeled_neurons/MD658/MD658-F58-2017.04.05-06.12.45_MD658_1_0172/MD658-F58-2017.04.05-06.12.45_MD658_1_0172.pkl && mkdir -p /home/yuncong/CSHL_labeled_neurons/MD658/MD658-F58-2017.04.05-06.12.45_MD658_1_0172\n",
      "aws s3 cp s3://mousebrainatlas-data/CSHL_labeled_neurons/MD658/MD658-F58-2017.04.05-06.12.45_MD658_1_0172/MD658-F58-2017.04.05-06.12.45_MD658_1_0172.pkl /home/yuncong/CSHL_labeled_neurons/MD658/MD658-F58-2017.04.05-06.12.45_MD658_1_0172/MD658-F58-2017.04.05-06.12.45_MD658_1_0172.pkl\n"
     ]
    },
    {
     "name": "stderr",
     "output_type": "stream",
     "text": [
      "Child returned 1\n",
      "0.72 seconds.\n",
      "No labeled neurons recorded for image MD658-F58-2017.04.05-06.12.45_MD658_1_0172.\n",
      "Child returned 0\n"
     ]
    },
    {
     "name": "stdout",
     "output_type": "stream",
     "text": [
      "rm -rf /home/yuncong/CSHL_labeled_neurons/MD658/MD658-F58-2017.04.05-06.12.45_MD658_2_0173/MD658-F58-2017.04.05-06.12.45_MD658_2_0173.pkl && mkdir -p /home/yuncong/CSHL_labeled_neurons/MD658/MD658-F58-2017.04.05-06.12.45_MD658_2_0173\n",
      "aws s3 cp s3://mousebrainatlas-data/CSHL_labeled_neurons/MD658/MD658-F58-2017.04.05-06.12.45_MD658_2_0173/MD658-F58-2017.04.05-06.12.45_MD658_2_0173.pkl /home/yuncong/CSHL_labeled_neurons/MD658/MD658-F58-2017.04.05-06.12.45_MD658_2_0173/MD658-F58-2017.04.05-06.12.45_MD658_2_0173.pkl\n"
     ]
    },
    {
     "name": "stderr",
     "output_type": "stream",
     "text": [
      "Child returned 1\n",
      "0.70 seconds.\n",
      "No labeled neurons recorded for image MD658-F58-2017.04.05-06.12.45_MD658_2_0173.\n",
      "Child returned 0\n"
     ]
    },
    {
     "name": "stdout",
     "output_type": "stream",
     "text": [
      "rm -rf /home/yuncong/CSHL_labeled_neurons/MD658/MD658-F59-2017.04.05-06.30.32_MD658_1_0175/MD658-F59-2017.04.05-06.30.32_MD658_1_0175.pkl && mkdir -p /home/yuncong/CSHL_labeled_neurons/MD658/MD658-F59-2017.04.05-06.30.32_MD658_1_0175\n",
      "aws s3 cp s3://mousebrainatlas-data/CSHL_labeled_neurons/MD658/MD658-F59-2017.04.05-06.30.32_MD658_1_0175/MD658-F59-2017.04.05-06.30.32_MD658_1_0175.pkl /home/yuncong/CSHL_labeled_neurons/MD658/MD658-F59-2017.04.05-06.30.32_MD658_1_0175/MD658-F59-2017.04.05-06.30.32_MD658_1_0175.pkl\n"
     ]
    },
    {
     "name": "stderr",
     "output_type": "stream",
     "text": [
      "Child returned 1\n",
      "0.70 seconds.\n",
      "No labeled neurons recorded for image MD658-F59-2017.04.05-06.30.32_MD658_1_0175.\n",
      "Child returned 0\n"
     ]
    },
    {
     "name": "stdout",
     "output_type": "stream",
     "text": [
      "rm -rf /home/yuncong/CSHL_labeled_neurons/MD658/MD658-F59-2017.04.05-06.30.32_MD658_2_0176/MD658-F59-2017.04.05-06.30.32_MD658_2_0176.pkl && mkdir -p /home/yuncong/CSHL_labeled_neurons/MD658/MD658-F59-2017.04.05-06.30.32_MD658_2_0176\n",
      "aws s3 cp s3://mousebrainatlas-data/CSHL_labeled_neurons/MD658/MD658-F59-2017.04.05-06.30.32_MD658_2_0176/MD658-F59-2017.04.05-06.30.32_MD658_2_0176.pkl /home/yuncong/CSHL_labeled_neurons/MD658/MD658-F59-2017.04.05-06.30.32_MD658_2_0176/MD658-F59-2017.04.05-06.30.32_MD658_2_0176.pkl\n"
     ]
    },
    {
     "name": "stderr",
     "output_type": "stream",
     "text": [
      "Child returned 1\n",
      "0.75 seconds.\n",
      "No labeled neurons recorded for image MD658-F59-2017.04.05-06.30.32_MD658_2_0176.\n",
      "Child returned 0\n"
     ]
    },
    {
     "name": "stdout",
     "output_type": "stream",
     "text": [
      "rm -rf /home/yuncong/CSHL_labeled_neurons/MD658/MD658-F60-2017.04.05-06.47.55_MD658_1_0178/MD658-F60-2017.04.05-06.47.55_MD658_1_0178.pkl && mkdir -p /home/yuncong/CSHL_labeled_neurons/MD658/MD658-F60-2017.04.05-06.47.55_MD658_1_0178\n",
      "aws s3 cp s3://mousebrainatlas-data/CSHL_labeled_neurons/MD658/MD658-F60-2017.04.05-06.47.55_MD658_1_0178/MD658-F60-2017.04.05-06.47.55_MD658_1_0178.pkl /home/yuncong/CSHL_labeled_neurons/MD658/MD658-F60-2017.04.05-06.47.55_MD658_1_0178/MD658-F60-2017.04.05-06.47.55_MD658_1_0178.pkl\n"
     ]
    },
    {
     "name": "stderr",
     "output_type": "stream",
     "text": [
      "Child returned 1\n",
      "0.67 seconds.\n",
      "No labeled neurons recorded for image MD658-F60-2017.04.05-06.47.55_MD658_1_0178.\n",
      "Child returned 0\n"
     ]
    },
    {
     "name": "stdout",
     "output_type": "stream",
     "text": [
      "rm -rf /home/yuncong/CSHL_labeled_neurons/MD658/MD658-F61-2017.04.05-07.03.26_MD658_1_0181/MD658-F61-2017.04.05-07.03.26_MD658_1_0181.pkl && mkdir -p /home/yuncong/CSHL_labeled_neurons/MD658/MD658-F61-2017.04.05-07.03.26_MD658_1_0181\n",
      "aws s3 cp s3://mousebrainatlas-data/CSHL_labeled_neurons/MD658/MD658-F61-2017.04.05-07.03.26_MD658_1_0181/MD658-F61-2017.04.05-07.03.26_MD658_1_0181.pkl /home/yuncong/CSHL_labeled_neurons/MD658/MD658-F61-2017.04.05-07.03.26_MD658_1_0181/MD658-F61-2017.04.05-07.03.26_MD658_1_0181.pkl\n"
     ]
    },
    {
     "name": "stderr",
     "output_type": "stream",
     "text": [
      "Child returned 1\n",
      "0.53 seconds.\n",
      "No labeled neurons recorded for image MD658-F61-2017.04.05-07.03.26_MD658_1_0181.\n",
      "Child returned 0\n"
     ]
    },
    {
     "name": "stdout",
     "output_type": "stream",
     "text": [
      "rm -rf /home/yuncong/CSHL_labeled_neurons/MD658/MD658-F62-2017.04.05-07.19.12_MD658_1_0184/MD658-F62-2017.04.05-07.19.12_MD658_1_0184.pkl && mkdir -p /home/yuncong/CSHL_labeled_neurons/MD658/MD658-F62-2017.04.05-07.19.12_MD658_1_0184\n",
      "aws s3 cp s3://mousebrainatlas-data/CSHL_labeled_neurons/MD658/MD658-F62-2017.04.05-07.19.12_MD658_1_0184/MD658-F62-2017.04.05-07.19.12_MD658_1_0184.pkl /home/yuncong/CSHL_labeled_neurons/MD658/MD658-F62-2017.04.05-07.19.12_MD658_1_0184/MD658-F62-2017.04.05-07.19.12_MD658_1_0184.pkl\n"
     ]
    },
    {
     "name": "stderr",
     "output_type": "stream",
     "text": [
      "Child returned 1\n",
      "0.47 seconds.\n",
      "No labeled neurons recorded for image MD658-F62-2017.04.05-07.19.12_MD658_1_0184.\n",
      "Child returned 0\n"
     ]
    },
    {
     "name": "stdout",
     "output_type": "stream",
     "text": [
      "rm -rf /home/yuncong/CSHL_labeled_neurons/MD658/MD658-F62-2017.04.05-07.19.12_MD658_2_0185/MD658-F62-2017.04.05-07.19.12_MD658_2_0185.pkl && mkdir -p /home/yuncong/CSHL_labeled_neurons/MD658/MD658-F62-2017.04.05-07.19.12_MD658_2_0185\n",
      "aws s3 cp s3://mousebrainatlas-data/CSHL_labeled_neurons/MD658/MD658-F62-2017.04.05-07.19.12_MD658_2_0185/MD658-F62-2017.04.05-07.19.12_MD658_2_0185.pkl /home/yuncong/CSHL_labeled_neurons/MD658/MD658-F62-2017.04.05-07.19.12_MD658_2_0185/MD658-F62-2017.04.05-07.19.12_MD658_2_0185.pkl\n"
     ]
    },
    {
     "name": "stderr",
     "output_type": "stream",
     "text": [
      "Child returned 1\n",
      "0.44 seconds.\n",
      "No labeled neurons recorded for image MD658-F62-2017.04.05-07.19.12_MD658_2_0185.\n",
      "Child returned 0\n"
     ]
    },
    {
     "name": "stdout",
     "output_type": "stream",
     "text": [
      "rm -rf /home/yuncong/CSHL_labeled_neurons/MD658/MD658-F63-2017.04.05-07.34.43_MD658_1_0187/MD658-F63-2017.04.05-07.34.43_MD658_1_0187.pkl && mkdir -p /home/yuncong/CSHL_labeled_neurons/MD658/MD658-F63-2017.04.05-07.34.43_MD658_1_0187\n",
      "aws s3 cp s3://mousebrainatlas-data/CSHL_labeled_neurons/MD658/MD658-F63-2017.04.05-07.34.43_MD658_1_0187/MD658-F63-2017.04.05-07.34.43_MD658_1_0187.pkl /home/yuncong/CSHL_labeled_neurons/MD658/MD658-F63-2017.04.05-07.34.43_MD658_1_0187/MD658-F63-2017.04.05-07.34.43_MD658_1_0187.pkl\n"
     ]
    },
    {
     "name": "stderr",
     "output_type": "stream",
     "text": [
      "Child returned 1\n",
      "0.45 seconds.\n",
      "No labeled neurons recorded for image MD658-F63-2017.04.05-07.34.43_MD658_1_0187.\n",
      "Child returned 0\n"
     ]
    },
    {
     "name": "stdout",
     "output_type": "stream",
     "text": [
      "rm -rf /home/yuncong/CSHL_labeled_neurons/MD658/MD658-F63-2017.04.05-07.34.43_MD658_2_0188/MD658-F63-2017.04.05-07.34.43_MD658_2_0188.pkl && mkdir -p /home/yuncong/CSHL_labeled_neurons/MD658/MD658-F63-2017.04.05-07.34.43_MD658_2_0188\n",
      "aws s3 cp s3://mousebrainatlas-data/CSHL_labeled_neurons/MD658/MD658-F63-2017.04.05-07.34.43_MD658_2_0188/MD658-F63-2017.04.05-07.34.43_MD658_2_0188.pkl /home/yuncong/CSHL_labeled_neurons/MD658/MD658-F63-2017.04.05-07.34.43_MD658_2_0188/MD658-F63-2017.04.05-07.34.43_MD658_2_0188.pkl\n"
     ]
    },
    {
     "name": "stderr",
     "output_type": "stream",
     "text": [
      "Child returned 1\n",
      "0.45 seconds.\n",
      "No labeled neurons recorded for image MD658-F63-2017.04.05-07.34.43_MD658_2_0188.\n",
      "Child returned 0\n"
     ]
    },
    {
     "name": "stdout",
     "output_type": "stream",
     "text": [
      "rm -rf /home/yuncong/CSHL_labeled_neurons/MD658/MD658-F64-2017.04.05-07.50.24_MD658_1_0190/MD658-F64-2017.04.05-07.50.24_MD658_1_0190.pkl && mkdir -p /home/yuncong/CSHL_labeled_neurons/MD658/MD658-F64-2017.04.05-07.50.24_MD658_1_0190\n",
      "aws s3 cp s3://mousebrainatlas-data/CSHL_labeled_neurons/MD658/MD658-F64-2017.04.05-07.50.24_MD658_1_0190/MD658-F64-2017.04.05-07.50.24_MD658_1_0190.pkl /home/yuncong/CSHL_labeled_neurons/MD658/MD658-F64-2017.04.05-07.50.24_MD658_1_0190/MD658-F64-2017.04.05-07.50.24_MD658_1_0190.pkl\n"
     ]
    },
    {
     "name": "stderr",
     "output_type": "stream",
     "text": [
      "Child returned 1\n",
      "0.43 seconds.\n",
      "No labeled neurons recorded for image MD658-F64-2017.04.05-07.50.24_MD658_1_0190.\n",
      "Child returned 0\n"
     ]
    },
    {
     "name": "stdout",
     "output_type": "stream",
     "text": [
      "rm -rf /home/yuncong/CSHL_labeled_neurons/MD658/MD658-F64-2017.04.05-07.50.24_MD658_2_0191/MD658-F64-2017.04.05-07.50.24_MD658_2_0191.pkl && mkdir -p /home/yuncong/CSHL_labeled_neurons/MD658/MD658-F64-2017.04.05-07.50.24_MD658_2_0191\n",
      "aws s3 cp s3://mousebrainatlas-data/CSHL_labeled_neurons/MD658/MD658-F64-2017.04.05-07.50.24_MD658_2_0191/MD658-F64-2017.04.05-07.50.24_MD658_2_0191.pkl /home/yuncong/CSHL_labeled_neurons/MD658/MD658-F64-2017.04.05-07.50.24_MD658_2_0191/MD658-F64-2017.04.05-07.50.24_MD658_2_0191.pkl\n"
     ]
    },
    {
     "name": "stderr",
     "output_type": "stream",
     "text": [
      "Child returned 1\n",
      "0.47 seconds.\n",
      "No labeled neurons recorded for image MD658-F64-2017.04.05-07.50.24_MD658_2_0191.\n",
      "Child returned 0\n"
     ]
    },
    {
     "name": "stdout",
     "output_type": "stream",
     "text": [
      "rm -rf /home/yuncong/CSHL_labeled_neurons/MD658/MD658-F65-2017.04.05-08.06.40_MD658_1_0193/MD658-F65-2017.04.05-08.06.40_MD658_1_0193.pkl && mkdir -p /home/yuncong/CSHL_labeled_neurons/MD658/MD658-F65-2017.04.05-08.06.40_MD658_1_0193\n",
      "aws s3 cp s3://mousebrainatlas-data/CSHL_labeled_neurons/MD658/MD658-F65-2017.04.05-08.06.40_MD658_1_0193/MD658-F65-2017.04.05-08.06.40_MD658_1_0193.pkl /home/yuncong/CSHL_labeled_neurons/MD658/MD658-F65-2017.04.05-08.06.40_MD658_1_0193/MD658-F65-2017.04.05-08.06.40_MD658_1_0193.pkl\n"
     ]
    },
    {
     "name": "stderr",
     "output_type": "stream",
     "text": [
      "Child returned 1\n",
      "0.44 seconds.\n",
      "No labeled neurons recorded for image MD658-F65-2017.04.05-08.06.40_MD658_1_0193.\n",
      "Child returned 0\n"
     ]
    },
    {
     "name": "stdout",
     "output_type": "stream",
     "text": [
      "rm -rf /home/yuncong/CSHL_labeled_neurons/MD658/MD658-F65-2017.04.05-08.06.40_MD658_2_0194/MD658-F65-2017.04.05-08.06.40_MD658_2_0194.pkl && mkdir -p /home/yuncong/CSHL_labeled_neurons/MD658/MD658-F65-2017.04.05-08.06.40_MD658_2_0194\n",
      "aws s3 cp s3://mousebrainatlas-data/CSHL_labeled_neurons/MD658/MD658-F65-2017.04.05-08.06.40_MD658_2_0194/MD658-F65-2017.04.05-08.06.40_MD658_2_0194.pkl /home/yuncong/CSHL_labeled_neurons/MD658/MD658-F65-2017.04.05-08.06.40_MD658_2_0194/MD658-F65-2017.04.05-08.06.40_MD658_2_0194.pkl\n"
     ]
    },
    {
     "name": "stderr",
     "output_type": "stream",
     "text": [
      "Child returned 1\n",
      "0.44 seconds.\n",
      "No labeled neurons recorded for image MD658-F65-2017.04.05-08.06.40_MD658_2_0194.\n",
      "Child returned 0\n"
     ]
    },
    {
     "name": "stdout",
     "output_type": "stream",
     "text": [
      "rm -rf /home/yuncong/CSHL_labeled_neurons/MD658/MD658-F66-2017.04.05-08.23.36_MD658_1_0196/MD658-F66-2017.04.05-08.23.36_MD658_1_0196.pkl && mkdir -p /home/yuncong/CSHL_labeled_neurons/MD658/MD658-F66-2017.04.05-08.23.36_MD658_1_0196\n",
      "aws s3 cp s3://mousebrainatlas-data/CSHL_labeled_neurons/MD658/MD658-F66-2017.04.05-08.23.36_MD658_1_0196/MD658-F66-2017.04.05-08.23.36_MD658_1_0196.pkl /home/yuncong/CSHL_labeled_neurons/MD658/MD658-F66-2017.04.05-08.23.36_MD658_1_0196/MD658-F66-2017.04.05-08.23.36_MD658_1_0196.pkl\n"
     ]
    },
    {
     "name": "stderr",
     "output_type": "stream",
     "text": [
      "Child returned 1\n",
      "0.40 seconds.\n",
      "No labeled neurons recorded for image MD658-F66-2017.04.05-08.23.36_MD658_1_0196.\n",
      "Child returned 0\n"
     ]
    },
    {
     "name": "stdout",
     "output_type": "stream",
     "text": [
      "rm -rf /home/yuncong/CSHL_labeled_neurons/MD658/MD658-F66-2017.04.05-08.23.36_MD658_2_0197/MD658-F66-2017.04.05-08.23.36_MD658_2_0197.pkl && mkdir -p /home/yuncong/CSHL_labeled_neurons/MD658/MD658-F66-2017.04.05-08.23.36_MD658_2_0197\n",
      "aws s3 cp s3://mousebrainatlas-data/CSHL_labeled_neurons/MD658/MD658-F66-2017.04.05-08.23.36_MD658_2_0197/MD658-F66-2017.04.05-08.23.36_MD658_2_0197.pkl /home/yuncong/CSHL_labeled_neurons/MD658/MD658-F66-2017.04.05-08.23.36_MD658_2_0197/MD658-F66-2017.04.05-08.23.36_MD658_2_0197.pkl\n"
     ]
    },
    {
     "name": "stderr",
     "output_type": "stream",
     "text": [
      "Child returned 1\n",
      "0.41 seconds.\n",
      "No labeled neurons recorded for image MD658-F66-2017.04.05-08.23.36_MD658_2_0197.\n",
      "Child returned 0\n"
     ]
    },
    {
     "name": "stdout",
     "output_type": "stream",
     "text": [
      "rm -rf /home/yuncong/CSHL_labeled_neurons/MD658/MD658-F67-2017.04.05-08.41.06_MD658_1_0199/MD658-F67-2017.04.05-08.41.06_MD658_1_0199.pkl && mkdir -p /home/yuncong/CSHL_labeled_neurons/MD658/MD658-F67-2017.04.05-08.41.06_MD658_1_0199\n",
      "aws s3 cp s3://mousebrainatlas-data/CSHL_labeled_neurons/MD658/MD658-F67-2017.04.05-08.41.06_MD658_1_0199/MD658-F67-2017.04.05-08.41.06_MD658_1_0199.pkl /home/yuncong/CSHL_labeled_neurons/MD658/MD658-F67-2017.04.05-08.41.06_MD658_1_0199/MD658-F67-2017.04.05-08.41.06_MD658_1_0199.pkl\n"
     ]
    },
    {
     "name": "stderr",
     "output_type": "stream",
     "text": [
      "Child returned 1\n",
      "0.41 seconds.\n",
      "No labeled neurons recorded for image MD658-F67-2017.04.05-08.41.06_MD658_1_0199.\n",
      "Child returned 0\n"
     ]
    },
    {
     "name": "stdout",
     "output_type": "stream",
     "text": [
      "rm -rf /home/yuncong/CSHL_labeled_neurons/MD658/MD658-F67-2017.04.05-08.41.06_MD658_2_0200/MD658-F67-2017.04.05-08.41.06_MD658_2_0200.pkl && mkdir -p /home/yuncong/CSHL_labeled_neurons/MD658/MD658-F67-2017.04.05-08.41.06_MD658_2_0200\n",
      "aws s3 cp s3://mousebrainatlas-data/CSHL_labeled_neurons/MD658/MD658-F67-2017.04.05-08.41.06_MD658_2_0200/MD658-F67-2017.04.05-08.41.06_MD658_2_0200.pkl /home/yuncong/CSHL_labeled_neurons/MD658/MD658-F67-2017.04.05-08.41.06_MD658_2_0200/MD658-F67-2017.04.05-08.41.06_MD658_2_0200.pkl\n"
     ]
    },
    {
     "name": "stderr",
     "output_type": "stream",
     "text": [
      "Child returned 1\n",
      "0.39 seconds.\n",
      "No labeled neurons recorded for image MD658-F67-2017.04.05-08.41.06_MD658_2_0200.\n",
      "Child returned 0\n"
     ]
    },
    {
     "name": "stdout",
     "output_type": "stream",
     "text": [
      "rm -rf /home/yuncong/CSHL_labeled_neurons/MD658/MD658-F68-2017.04.05-08.57.21_MD658_1_0202/MD658-F68-2017.04.05-08.57.21_MD658_1_0202.pkl && mkdir -p /home/yuncong/CSHL_labeled_neurons/MD658/MD658-F68-2017.04.05-08.57.21_MD658_1_0202\n",
      "aws s3 cp s3://mousebrainatlas-data/CSHL_labeled_neurons/MD658/MD658-F68-2017.04.05-08.57.21_MD658_1_0202/MD658-F68-2017.04.05-08.57.21_MD658_1_0202.pkl /home/yuncong/CSHL_labeled_neurons/MD658/MD658-F68-2017.04.05-08.57.21_MD658_1_0202/MD658-F68-2017.04.05-08.57.21_MD658_1_0202.pkl\n"
     ]
    },
    {
     "name": "stderr",
     "output_type": "stream",
     "text": [
      "Child returned 1\n",
      "0.39 seconds.\n",
      "No labeled neurons recorded for image MD658-F68-2017.04.05-08.57.21_MD658_1_0202.\n",
      "Child returned 0\n"
     ]
    },
    {
     "name": "stdout",
     "output_type": "stream",
     "text": [
      "rm -rf /home/yuncong/CSHL_labeled_neurons/MD658/MD658-F68-2017.04.05-08.57.21_MD658_2_0203/MD658-F68-2017.04.05-08.57.21_MD658_2_0203.pkl && mkdir -p /home/yuncong/CSHL_labeled_neurons/MD658/MD658-F68-2017.04.05-08.57.21_MD658_2_0203\n",
      "aws s3 cp s3://mousebrainatlas-data/CSHL_labeled_neurons/MD658/MD658-F68-2017.04.05-08.57.21_MD658_2_0203/MD658-F68-2017.04.05-08.57.21_MD658_2_0203.pkl /home/yuncong/CSHL_labeled_neurons/MD658/MD658-F68-2017.04.05-08.57.21_MD658_2_0203/MD658-F68-2017.04.05-08.57.21_MD658_2_0203.pkl\n"
     ]
    },
    {
     "name": "stderr",
     "output_type": "stream",
     "text": [
      "Child returned 1\n",
      "0.42 seconds.\n",
      "No labeled neurons recorded for image MD658-F68-2017.04.05-08.57.21_MD658_2_0203.\n",
      "Child returned 0\n"
     ]
    },
    {
     "name": "stdout",
     "output_type": "stream",
     "text": [
      "rm -rf /home/yuncong/CSHL_labeled_neurons/MD658/MD658-F69-2017.04.05-09.14.36_MD658_1_0205/MD658-F69-2017.04.05-09.14.36_MD658_1_0205.pkl && mkdir -p /home/yuncong/CSHL_labeled_neurons/MD658/MD658-F69-2017.04.05-09.14.36_MD658_1_0205\n",
      "aws s3 cp s3://mousebrainatlas-data/CSHL_labeled_neurons/MD658/MD658-F69-2017.04.05-09.14.36_MD658_1_0205/MD658-F69-2017.04.05-09.14.36_MD658_1_0205.pkl /home/yuncong/CSHL_labeled_neurons/MD658/MD658-F69-2017.04.05-09.14.36_MD658_1_0205/MD658-F69-2017.04.05-09.14.36_MD658_1_0205.pkl\n"
     ]
    },
    {
     "name": "stderr",
     "output_type": "stream",
     "text": [
      "Child returned 1\n",
      "0.41 seconds.\n",
      "No labeled neurons recorded for image MD658-F69-2017.04.05-09.14.36_MD658_1_0205.\n",
      "Child returned 0\n"
     ]
    },
    {
     "name": "stdout",
     "output_type": "stream",
     "text": [
      "rm -rf /home/yuncong/CSHL_labeled_neurons/MD658/MD658-F69-2017.04.05-09.14.36_MD658_2_0206/MD658-F69-2017.04.05-09.14.36_MD658_2_0206.pkl && mkdir -p /home/yuncong/CSHL_labeled_neurons/MD658/MD658-F69-2017.04.05-09.14.36_MD658_2_0206\n",
      "aws s3 cp s3://mousebrainatlas-data/CSHL_labeled_neurons/MD658/MD658-F69-2017.04.05-09.14.36_MD658_2_0206/MD658-F69-2017.04.05-09.14.36_MD658_2_0206.pkl /home/yuncong/CSHL_labeled_neurons/MD658/MD658-F69-2017.04.05-09.14.36_MD658_2_0206/MD658-F69-2017.04.05-09.14.36_MD658_2_0206.pkl\n"
     ]
    },
    {
     "name": "stderr",
     "output_type": "stream",
     "text": [
      "Child returned 1\n",
      "0.39 seconds.\n",
      "No labeled neurons recorded for image MD658-F69-2017.04.05-09.14.36_MD658_2_0206.\n",
      "Child returned 0\n"
     ]
    },
    {
     "name": "stdout",
     "output_type": "stream",
     "text": [
      "rm -rf /home/yuncong/CSHL_labeled_neurons/MD658/MD658-F70-2017.04.05-09.30.06_MD658_1_0208/MD658-F70-2017.04.05-09.30.06_MD658_1_0208.pkl && mkdir -p /home/yuncong/CSHL_labeled_neurons/MD658/MD658-F70-2017.04.05-09.30.06_MD658_1_0208\n",
      "aws s3 cp s3://mousebrainatlas-data/CSHL_labeled_neurons/MD658/MD658-F70-2017.04.05-09.30.06_MD658_1_0208/MD658-F70-2017.04.05-09.30.06_MD658_1_0208.pkl /home/yuncong/CSHL_labeled_neurons/MD658/MD658-F70-2017.04.05-09.30.06_MD658_1_0208/MD658-F70-2017.04.05-09.30.06_MD658_1_0208.pkl\n"
     ]
    },
    {
     "name": "stderr",
     "output_type": "stream",
     "text": [
      "Child returned 1\n",
      "0.41 seconds.\n",
      "No labeled neurons recorded for image MD658-F70-2017.04.05-09.30.06_MD658_1_0208.\n",
      "Child returned 0\n"
     ]
    },
    {
     "name": "stdout",
     "output_type": "stream",
     "text": [
      "rm -rf /home/yuncong/CSHL_labeled_neurons/MD658/MD658-F70-2017.04.05-09.30.06_MD658_2_0209/MD658-F70-2017.04.05-09.30.06_MD658_2_0209.pkl && mkdir -p /home/yuncong/CSHL_labeled_neurons/MD658/MD658-F70-2017.04.05-09.30.06_MD658_2_0209\n",
      "aws s3 cp s3://mousebrainatlas-data/CSHL_labeled_neurons/MD658/MD658-F70-2017.04.05-09.30.06_MD658_2_0209/MD658-F70-2017.04.05-09.30.06_MD658_2_0209.pkl /home/yuncong/CSHL_labeled_neurons/MD658/MD658-F70-2017.04.05-09.30.06_MD658_2_0209/MD658-F70-2017.04.05-09.30.06_MD658_2_0209.pkl\n"
     ]
    },
    {
     "name": "stderr",
     "output_type": "stream",
     "text": [
      "Child returned 1\n",
      "0.39 seconds.\n",
      "No labeled neurons recorded for image MD658-F70-2017.04.05-09.30.06_MD658_2_0209.\n",
      "Child returned 0\n"
     ]
    },
    {
     "name": "stdout",
     "output_type": "stream",
     "text": [
      "rm -rf /home/yuncong/CSHL_labeled_neurons/MD658/MD658-F70-2017.04.05-09.30.06_MD658_3_0210/MD658-F70-2017.04.05-09.30.06_MD658_3_0210.pkl && mkdir -p /home/yuncong/CSHL_labeled_neurons/MD658/MD658-F70-2017.04.05-09.30.06_MD658_3_0210\n",
      "aws s3 cp s3://mousebrainatlas-data/CSHL_labeled_neurons/MD658/MD658-F70-2017.04.05-09.30.06_MD658_3_0210/MD658-F70-2017.04.05-09.30.06_MD658_3_0210.pkl /home/yuncong/CSHL_labeled_neurons/MD658/MD658-F70-2017.04.05-09.30.06_MD658_3_0210/MD658-F70-2017.04.05-09.30.06_MD658_3_0210.pkl\n"
     ]
    },
    {
     "name": "stderr",
     "output_type": "stream",
     "text": [
      "Child returned 1\n",
      "0.37 seconds.\n",
      "No labeled neurons recorded for image MD658-F70-2017.04.05-09.30.06_MD658_3_0210.\n",
      "Child returned 0\n"
     ]
    },
    {
     "name": "stdout",
     "output_type": "stream",
     "text": [
      "rm -rf /home/yuncong/CSHL_labeled_neurons/MD658/MD658-F71-2017.04.05-09.48.48_MD658_1_0211/MD658-F71-2017.04.05-09.48.48_MD658_1_0211.pkl && mkdir -p /home/yuncong/CSHL_labeled_neurons/MD658/MD658-F71-2017.04.05-09.48.48_MD658_1_0211\n",
      "aws s3 cp s3://mousebrainatlas-data/CSHL_labeled_neurons/MD658/MD658-F71-2017.04.05-09.48.48_MD658_1_0211/MD658-F71-2017.04.05-09.48.48_MD658_1_0211.pkl /home/yuncong/CSHL_labeled_neurons/MD658/MD658-F71-2017.04.05-09.48.48_MD658_1_0211/MD658-F71-2017.04.05-09.48.48_MD658_1_0211.pkl\n"
     ]
    },
    {
     "name": "stderr",
     "output_type": "stream",
     "text": [
      "Child returned 1\n",
      "0.38 seconds.\n",
      "No labeled neurons recorded for image MD658-F71-2017.04.05-09.48.48_MD658_1_0211.\n",
      "Child returned 0\n"
     ]
    },
    {
     "name": "stdout",
     "output_type": "stream",
     "text": [
      "rm -rf /home/yuncong/CSHL_labeled_neurons/MD658/MD658-F71-2017.04.05-09.48.48_MD658_2_0212/MD658-F71-2017.04.05-09.48.48_MD658_2_0212.pkl && mkdir -p /home/yuncong/CSHL_labeled_neurons/MD658/MD658-F71-2017.04.05-09.48.48_MD658_2_0212\n",
      "aws s3 cp s3://mousebrainatlas-data/CSHL_labeled_neurons/MD658/MD658-F71-2017.04.05-09.48.48_MD658_2_0212/MD658-F71-2017.04.05-09.48.48_MD658_2_0212.pkl /home/yuncong/CSHL_labeled_neurons/MD658/MD658-F71-2017.04.05-09.48.48_MD658_2_0212/MD658-F71-2017.04.05-09.48.48_MD658_2_0212.pkl\n"
     ]
    },
    {
     "name": "stderr",
     "output_type": "stream",
     "text": [
      "Child returned 1\n",
      "0.36 seconds.\n",
      "No labeled neurons recorded for image MD658-F71-2017.04.05-09.48.48_MD658_2_0212.\n",
      "Child returned 0\n"
     ]
    },
    {
     "name": "stdout",
     "output_type": "stream",
     "text": [
      "rm -rf /home/yuncong/CSHL_labeled_neurons/MD658/MD658-F71-2017.04.05-09.48.48_MD658_3_0213/MD658-F71-2017.04.05-09.48.48_MD658_3_0213.pkl && mkdir -p /home/yuncong/CSHL_labeled_neurons/MD658/MD658-F71-2017.04.05-09.48.48_MD658_3_0213\n",
      "aws s3 cp s3://mousebrainatlas-data/CSHL_labeled_neurons/MD658/MD658-F71-2017.04.05-09.48.48_MD658_3_0213/MD658-F71-2017.04.05-09.48.48_MD658_3_0213.pkl /home/yuncong/CSHL_labeled_neurons/MD658/MD658-F71-2017.04.05-09.48.48_MD658_3_0213/MD658-F71-2017.04.05-09.48.48_MD658_3_0213.pkl\n"
     ]
    },
    {
     "name": "stderr",
     "output_type": "stream",
     "text": [
      "Child returned 1\n",
      "0.40 seconds.\n",
      "No labeled neurons recorded for image MD658-F71-2017.04.05-09.48.48_MD658_3_0213.\n",
      "Child returned 0\n"
     ]
    },
    {
     "name": "stdout",
     "output_type": "stream",
     "text": [
      "rm -rf /home/yuncong/CSHL_labeled_neurons/MD658/MD658-F72-2017.04.05-10.08.26_MD658_1_0214/MD658-F72-2017.04.05-10.08.26_MD658_1_0214.pkl && mkdir -p /home/yuncong/CSHL_labeled_neurons/MD658/MD658-F72-2017.04.05-10.08.26_MD658_1_0214\n",
      "aws s3 cp s3://mousebrainatlas-data/CSHL_labeled_neurons/MD658/MD658-F72-2017.04.05-10.08.26_MD658_1_0214/MD658-F72-2017.04.05-10.08.26_MD658_1_0214.pkl /home/yuncong/CSHL_labeled_neurons/MD658/MD658-F72-2017.04.05-10.08.26_MD658_1_0214/MD658-F72-2017.04.05-10.08.26_MD658_1_0214.pkl\n"
     ]
    },
    {
     "name": "stderr",
     "output_type": "stream",
     "text": [
      "Child returned 1\n",
      "0.38 seconds.\n",
      "No labeled neurons recorded for image MD658-F72-2017.04.05-10.08.26_MD658_1_0214.\n",
      "Child returned 0\n"
     ]
    },
    {
     "name": "stdout",
     "output_type": "stream",
     "text": [
      "rm -rf /home/yuncong/CSHL_labeled_neurons/MD658/MD658-F72-2017.04.05-10.08.26_MD658_2_0215/MD658-F72-2017.04.05-10.08.26_MD658_2_0215.pkl && mkdir -p /home/yuncong/CSHL_labeled_neurons/MD658/MD658-F72-2017.04.05-10.08.26_MD658_2_0215\n",
      "aws s3 cp s3://mousebrainatlas-data/CSHL_labeled_neurons/MD658/MD658-F72-2017.04.05-10.08.26_MD658_2_0215/MD658-F72-2017.04.05-10.08.26_MD658_2_0215.pkl /home/yuncong/CSHL_labeled_neurons/MD658/MD658-F72-2017.04.05-10.08.26_MD658_2_0215/MD658-F72-2017.04.05-10.08.26_MD658_2_0215.pkl\n"
     ]
    },
    {
     "name": "stderr",
     "output_type": "stream",
     "text": [
      "Child returned 1\n",
      "0.38 seconds.\n",
      "No labeled neurons recorded for image MD658-F72-2017.04.05-10.08.26_MD658_2_0215.\n",
      "Child returned 0\n"
     ]
    },
    {
     "name": "stdout",
     "output_type": "stream",
     "text": [
      "rm -rf /home/yuncong/CSHL_labeled_neurons/MD658/MD658-F72-2017.04.05-10.08.26_MD658_3_0216/MD658-F72-2017.04.05-10.08.26_MD658_3_0216.pkl && mkdir -p /home/yuncong/CSHL_labeled_neurons/MD658/MD658-F72-2017.04.05-10.08.26_MD658_3_0216\n",
      "aws s3 cp s3://mousebrainatlas-data/CSHL_labeled_neurons/MD658/MD658-F72-2017.04.05-10.08.26_MD658_3_0216/MD658-F72-2017.04.05-10.08.26_MD658_3_0216.pkl /home/yuncong/CSHL_labeled_neurons/MD658/MD658-F72-2017.04.05-10.08.26_MD658_3_0216/MD658-F72-2017.04.05-10.08.26_MD658_3_0216.pkl\n"
     ]
    },
    {
     "name": "stderr",
     "output_type": "stream",
     "text": [
      "Child returned 1\n",
      "0.37 seconds.\n",
      "No labeled neurons recorded for image MD658-F72-2017.04.05-10.08.26_MD658_3_0216.\n",
      "Child returned 0\n"
     ]
    },
    {
     "name": "stdout",
     "output_type": "stream",
     "text": [
      "rm -rf /home/yuncong/CSHL_labeled_neurons/MD658/MD658-F73-2017.04.05-10.27.52_MD658_1_0217/MD658-F73-2017.04.05-10.27.52_MD658_1_0217.pkl && mkdir -p /home/yuncong/CSHL_labeled_neurons/MD658/MD658-F73-2017.04.05-10.27.52_MD658_1_0217\n",
      "aws s3 cp s3://mousebrainatlas-data/CSHL_labeled_neurons/MD658/MD658-F73-2017.04.05-10.27.52_MD658_1_0217/MD658-F73-2017.04.05-10.27.52_MD658_1_0217.pkl /home/yuncong/CSHL_labeled_neurons/MD658/MD658-F73-2017.04.05-10.27.52_MD658_1_0217/MD658-F73-2017.04.05-10.27.52_MD658_1_0217.pkl\n"
     ]
    },
    {
     "name": "stderr",
     "output_type": "stream",
     "text": [
      "Child returned 1\n",
      "0.39 seconds.\n",
      "No labeled neurons recorded for image MD658-F73-2017.04.05-10.27.52_MD658_1_0217.\n",
      "Child returned 0\n"
     ]
    },
    {
     "name": "stdout",
     "output_type": "stream",
     "text": [
      "rm -rf /home/yuncong/CSHL_labeled_neurons/MD658/MD658-F73-2017.04.05-10.27.52_MD658_3_0219/MD658-F73-2017.04.05-10.27.52_MD658_3_0219.pkl && mkdir -p /home/yuncong/CSHL_labeled_neurons/MD658/MD658-F73-2017.04.05-10.27.52_MD658_3_0219\n",
      "aws s3 cp s3://mousebrainatlas-data/CSHL_labeled_neurons/MD658/MD658-F73-2017.04.05-10.27.52_MD658_3_0219/MD658-F73-2017.04.05-10.27.52_MD658_3_0219.pkl /home/yuncong/CSHL_labeled_neurons/MD658/MD658-F73-2017.04.05-10.27.52_MD658_3_0219/MD658-F73-2017.04.05-10.27.52_MD658_3_0219.pkl\n"
     ]
    },
    {
     "name": "stderr",
     "output_type": "stream",
     "text": [
      "Child returned 1\n",
      "0.38 seconds.\n",
      "No labeled neurons recorded for image MD658-F73-2017.04.05-10.27.52_MD658_3_0219.\n",
      "Child returned 0\n"
     ]
    },
    {
     "name": "stdout",
     "output_type": "stream",
     "text": [
      "rm -rf /home/yuncong/CSHL_labeled_neurons/MD658/MD658-F74-2017.04.05-10.46.30_MD658_1_0220/MD658-F74-2017.04.05-10.46.30_MD658_1_0220.pkl && mkdir -p /home/yuncong/CSHL_labeled_neurons/MD658/MD658-F74-2017.04.05-10.46.30_MD658_1_0220\n",
      "aws s3 cp s3://mousebrainatlas-data/CSHL_labeled_neurons/MD658/MD658-F74-2017.04.05-10.46.30_MD658_1_0220/MD658-F74-2017.04.05-10.46.30_MD658_1_0220.pkl /home/yuncong/CSHL_labeled_neurons/MD658/MD658-F74-2017.04.05-10.46.30_MD658_1_0220/MD658-F74-2017.04.05-10.46.30_MD658_1_0220.pkl\n"
     ]
    },
    {
     "name": "stderr",
     "output_type": "stream",
     "text": [
      "Child returned 1\n",
      "0.39 seconds.\n",
      "No labeled neurons recorded for image MD658-F74-2017.04.05-10.46.30_MD658_1_0220.\n",
      "Child returned 0\n"
     ]
    },
    {
     "name": "stdout",
     "output_type": "stream",
     "text": [
      "rm -rf /home/yuncong/CSHL_labeled_neurons/MD658/MD658-F74-2017.04.05-10.46.30_MD658_2_0221/MD658-F74-2017.04.05-10.46.30_MD658_2_0221.pkl && mkdir -p /home/yuncong/CSHL_labeled_neurons/MD658/MD658-F74-2017.04.05-10.46.30_MD658_2_0221\n",
      "aws s3 cp s3://mousebrainatlas-data/CSHL_labeled_neurons/MD658/MD658-F74-2017.04.05-10.46.30_MD658_2_0221/MD658-F74-2017.04.05-10.46.30_MD658_2_0221.pkl /home/yuncong/CSHL_labeled_neurons/MD658/MD658-F74-2017.04.05-10.46.30_MD658_2_0221/MD658-F74-2017.04.05-10.46.30_MD658_2_0221.pkl\n"
     ]
    },
    {
     "name": "stderr",
     "output_type": "stream",
     "text": [
      "Child returned 1\n",
      "0.39 seconds.\n",
      "No labeled neurons recorded for image MD658-F74-2017.04.05-10.46.30_MD658_2_0221.\n",
      "Child returned 0\n"
     ]
    },
    {
     "name": "stdout",
     "output_type": "stream",
     "text": [
      "rm -rf /home/yuncong/CSHL_labeled_neurons/MD658/MD658-F74-2017.04.05-10.46.30_MD658_3_0222/MD658-F74-2017.04.05-10.46.30_MD658_3_0222.pkl && mkdir -p /home/yuncong/CSHL_labeled_neurons/MD658/MD658-F74-2017.04.05-10.46.30_MD658_3_0222\n",
      "aws s3 cp s3://mousebrainatlas-data/CSHL_labeled_neurons/MD658/MD658-F74-2017.04.05-10.46.30_MD658_3_0222/MD658-F74-2017.04.05-10.46.30_MD658_3_0222.pkl /home/yuncong/CSHL_labeled_neurons/MD658/MD658-F74-2017.04.05-10.46.30_MD658_3_0222/MD658-F74-2017.04.05-10.46.30_MD658_3_0222.pkl\n"
     ]
    },
    {
     "name": "stderr",
     "output_type": "stream",
     "text": [
      "Child returned 1\n",
      "0.40 seconds.\n",
      "No labeled neurons recorded for image MD658-F74-2017.04.05-10.46.30_MD658_3_0222.\n",
      "Child returned 0\n"
     ]
    },
    {
     "name": "stdout",
     "output_type": "stream",
     "text": [
      "rm -rf /home/yuncong/CSHL_labeled_neurons/MD658/MD658-F75-2017.04.05-11.05.25_MD658_1_0223/MD658-F75-2017.04.05-11.05.25_MD658_1_0223.pkl && mkdir -p /home/yuncong/CSHL_labeled_neurons/MD658/MD658-F75-2017.04.05-11.05.25_MD658_1_0223\n",
      "aws s3 cp s3://mousebrainatlas-data/CSHL_labeled_neurons/MD658/MD658-F75-2017.04.05-11.05.25_MD658_1_0223/MD658-F75-2017.04.05-11.05.25_MD658_1_0223.pkl /home/yuncong/CSHL_labeled_neurons/MD658/MD658-F75-2017.04.05-11.05.25_MD658_1_0223/MD658-F75-2017.04.05-11.05.25_MD658_1_0223.pkl\n"
     ]
    },
    {
     "name": "stderr",
     "output_type": "stream",
     "text": [
      "Child returned 1\n",
      "0.41 seconds.\n",
      "No labeled neurons recorded for image MD658-F75-2017.04.05-11.05.25_MD658_1_0223.\n",
      "Child returned 0\n"
     ]
    },
    {
     "name": "stdout",
     "output_type": "stream",
     "text": [
      "rm -rf /home/yuncong/CSHL_labeled_neurons/MD658/MD658-F75-2017.04.05-11.05.25_MD658_2_0224/MD658-F75-2017.04.05-11.05.25_MD658_2_0224.pkl && mkdir -p /home/yuncong/CSHL_labeled_neurons/MD658/MD658-F75-2017.04.05-11.05.25_MD658_2_0224\n",
      "aws s3 cp s3://mousebrainatlas-data/CSHL_labeled_neurons/MD658/MD658-F75-2017.04.05-11.05.25_MD658_2_0224/MD658-F75-2017.04.05-11.05.25_MD658_2_0224.pkl /home/yuncong/CSHL_labeled_neurons/MD658/MD658-F75-2017.04.05-11.05.25_MD658_2_0224/MD658-F75-2017.04.05-11.05.25_MD658_2_0224.pkl\n"
     ]
    },
    {
     "name": "stderr",
     "output_type": "stream",
     "text": [
      "Child returned 1\n",
      "0.40 seconds.\n",
      "No labeled neurons recorded for image MD658-F75-2017.04.05-11.05.25_MD658_2_0224.\n",
      "Child returned 0\n"
     ]
    },
    {
     "name": "stdout",
     "output_type": "stream",
     "text": [
      "rm -rf /home/yuncong/CSHL_labeled_neurons/MD658/MD658-F75-2017.04.05-11.05.25_MD658_3_0225/MD658-F75-2017.04.05-11.05.25_MD658_3_0225.pkl && mkdir -p /home/yuncong/CSHL_labeled_neurons/MD658/MD658-F75-2017.04.05-11.05.25_MD658_3_0225\n",
      "aws s3 cp s3://mousebrainatlas-data/CSHL_labeled_neurons/MD658/MD658-F75-2017.04.05-11.05.25_MD658_3_0225/MD658-F75-2017.04.05-11.05.25_MD658_3_0225.pkl /home/yuncong/CSHL_labeled_neurons/MD658/MD658-F75-2017.04.05-11.05.25_MD658_3_0225/MD658-F75-2017.04.05-11.05.25_MD658_3_0225.pkl\n"
     ]
    },
    {
     "name": "stderr",
     "output_type": "stream",
     "text": [
      "Child returned 1\n",
      "0.40 seconds.\n",
      "No labeled neurons recorded for image MD658-F75-2017.04.05-11.05.25_MD658_3_0225.\n",
      "Child returned 0\n"
     ]
    },
    {
     "name": "stdout",
     "output_type": "stream",
     "text": [
      "rm -rf /home/yuncong/CSHL_labeled_neurons/MD658/MD658-F76-2017.04.05-11.21.55_MD658_1_0226/MD658-F76-2017.04.05-11.21.55_MD658_1_0226.pkl && mkdir -p /home/yuncong/CSHL_labeled_neurons/MD658/MD658-F76-2017.04.05-11.21.55_MD658_1_0226\n",
      "aws s3 cp s3://mousebrainatlas-data/CSHL_labeled_neurons/MD658/MD658-F76-2017.04.05-11.21.55_MD658_1_0226/MD658-F76-2017.04.05-11.21.55_MD658_1_0226.pkl /home/yuncong/CSHL_labeled_neurons/MD658/MD658-F76-2017.04.05-11.21.55_MD658_1_0226/MD658-F76-2017.04.05-11.21.55_MD658_1_0226.pkl\n"
     ]
    },
    {
     "name": "stderr",
     "output_type": "stream",
     "text": [
      "Child returned 1\n",
      "0.42 seconds.\n",
      "No labeled neurons recorded for image MD658-F76-2017.04.05-11.21.55_MD658_1_0226.\n",
      "Child returned 0\n"
     ]
    },
    {
     "name": "stdout",
     "output_type": "stream",
     "text": [
      "rm -rf /home/yuncong/CSHL_labeled_neurons/MD658/MD658-F76-2017.04.05-11.21.55_MD658_2_0227/MD658-F76-2017.04.05-11.21.55_MD658_2_0227.pkl && mkdir -p /home/yuncong/CSHL_labeled_neurons/MD658/MD658-F76-2017.04.05-11.21.55_MD658_2_0227\n",
      "aws s3 cp s3://mousebrainatlas-data/CSHL_labeled_neurons/MD658/MD658-F76-2017.04.05-11.21.55_MD658_2_0227/MD658-F76-2017.04.05-11.21.55_MD658_2_0227.pkl /home/yuncong/CSHL_labeled_neurons/MD658/MD658-F76-2017.04.05-11.21.55_MD658_2_0227/MD658-F76-2017.04.05-11.21.55_MD658_2_0227.pkl\n"
     ]
    },
    {
     "name": "stderr",
     "output_type": "stream",
     "text": [
      "Child returned 1\n",
      "0.40 seconds.\n",
      "No labeled neurons recorded for image MD658-F76-2017.04.05-11.21.55_MD658_2_0227.\n",
      "Child returned 0\n"
     ]
    },
    {
     "name": "stdout",
     "output_type": "stream",
     "text": [
      "rm -rf /home/yuncong/CSHL_labeled_neurons/MD658/MD658-F76-2017.04.05-11.21.55_MD658_3_0228/MD658-F76-2017.04.05-11.21.55_MD658_3_0228.pkl && mkdir -p /home/yuncong/CSHL_labeled_neurons/MD658/MD658-F76-2017.04.05-11.21.55_MD658_3_0228\n",
      "aws s3 cp s3://mousebrainatlas-data/CSHL_labeled_neurons/MD658/MD658-F76-2017.04.05-11.21.55_MD658_3_0228/MD658-F76-2017.04.05-11.21.55_MD658_3_0228.pkl /home/yuncong/CSHL_labeled_neurons/MD658/MD658-F76-2017.04.05-11.21.55_MD658_3_0228/MD658-F76-2017.04.05-11.21.55_MD658_3_0228.pkl\n"
     ]
    },
    {
     "name": "stderr",
     "output_type": "stream",
     "text": [
      "Child returned 1\n",
      "0.41 seconds.\n",
      "No labeled neurons recorded for image MD658-F76-2017.04.05-11.21.55_MD658_3_0228.\n",
      "Child returned 0\n"
     ]
    },
    {
     "name": "stdout",
     "output_type": "stream",
     "text": [
      "rm -rf /home/yuncong/CSHL_labeled_neurons/MD658/MD658-F77-2017.04.05-11.38.11_MD658_1_0229/MD658-F77-2017.04.05-11.38.11_MD658_1_0229.pkl && mkdir -p /home/yuncong/CSHL_labeled_neurons/MD658/MD658-F77-2017.04.05-11.38.11_MD658_1_0229\n",
      "aws s3 cp s3://mousebrainatlas-data/CSHL_labeled_neurons/MD658/MD658-F77-2017.04.05-11.38.11_MD658_1_0229/MD658-F77-2017.04.05-11.38.11_MD658_1_0229.pkl /home/yuncong/CSHL_labeled_neurons/MD658/MD658-F77-2017.04.05-11.38.11_MD658_1_0229/MD658-F77-2017.04.05-11.38.11_MD658_1_0229.pkl\n"
     ]
    },
    {
     "name": "stderr",
     "output_type": "stream",
     "text": [
      "Child returned 1\n",
      "0.41 seconds.\n",
      "No labeled neurons recorded for image MD658-F77-2017.04.05-11.38.11_MD658_1_0229.\n",
      "Child returned 0\n"
     ]
    },
    {
     "name": "stdout",
     "output_type": "stream",
     "text": [
      "rm -rf /home/yuncong/CSHL_labeled_neurons/MD658/MD658-F77-2017.04.05-11.38.11_MD658_2_0230/MD658-F77-2017.04.05-11.38.11_MD658_2_0230.pkl && mkdir -p /home/yuncong/CSHL_labeled_neurons/MD658/MD658-F77-2017.04.05-11.38.11_MD658_2_0230\n",
      "aws s3 cp s3://mousebrainatlas-data/CSHL_labeled_neurons/MD658/MD658-F77-2017.04.05-11.38.11_MD658_2_0230/MD658-F77-2017.04.05-11.38.11_MD658_2_0230.pkl /home/yuncong/CSHL_labeled_neurons/MD658/MD658-F77-2017.04.05-11.38.11_MD658_2_0230/MD658-F77-2017.04.05-11.38.11_MD658_2_0230.pkl\n"
     ]
    },
    {
     "name": "stderr",
     "output_type": "stream",
     "text": [
      "Child returned 1\n",
      "0.42 seconds.\n",
      "No labeled neurons recorded for image MD658-F77-2017.04.05-11.38.11_MD658_2_0230.\n",
      "Child returned 0\n"
     ]
    },
    {
     "name": "stdout",
     "output_type": "stream",
     "text": [
      "rm -rf /home/yuncong/CSHL_labeled_neurons/MD658/MD658-F77-2017.04.05-11.38.11_MD658_3_0231/MD658-F77-2017.04.05-11.38.11_MD658_3_0231.pkl && mkdir -p /home/yuncong/CSHL_labeled_neurons/MD658/MD658-F77-2017.04.05-11.38.11_MD658_3_0231\n",
      "aws s3 cp s3://mousebrainatlas-data/CSHL_labeled_neurons/MD658/MD658-F77-2017.04.05-11.38.11_MD658_3_0231/MD658-F77-2017.04.05-11.38.11_MD658_3_0231.pkl /home/yuncong/CSHL_labeled_neurons/MD658/MD658-F77-2017.04.05-11.38.11_MD658_3_0231/MD658-F77-2017.04.05-11.38.11_MD658_3_0231.pkl\n"
     ]
    },
    {
     "name": "stderr",
     "output_type": "stream",
     "text": [
      "Child returned 1\n",
      "0.58 seconds.\n",
      "No labeled neurons recorded for image MD658-F77-2017.04.05-11.38.11_MD658_3_0231.\n",
      "Child returned 0\n"
     ]
    },
    {
     "name": "stdout",
     "output_type": "stream",
     "text": [
      "rm -rf /home/yuncong/CSHL_labeled_neurons/MD658/MD658-F78-2017.04.05-12.12.18_MD658_1_0232/MD658-F78-2017.04.05-12.12.18_MD658_1_0232.pkl && mkdir -p /home/yuncong/CSHL_labeled_neurons/MD658/MD658-F78-2017.04.05-12.12.18_MD658_1_0232\n",
      "aws s3 cp s3://mousebrainatlas-data/CSHL_labeled_neurons/MD658/MD658-F78-2017.04.05-12.12.18_MD658_1_0232/MD658-F78-2017.04.05-12.12.18_MD658_1_0232.pkl /home/yuncong/CSHL_labeled_neurons/MD658/MD658-F78-2017.04.05-12.12.18_MD658_1_0232/MD658-F78-2017.04.05-12.12.18_MD658_1_0232.pkl\n"
     ]
    },
    {
     "name": "stderr",
     "output_type": "stream",
     "text": [
      "Child returned 1\n",
      "0.65 seconds.\n",
      "No labeled neurons recorded for image MD658-F78-2017.04.05-12.12.18_MD658_1_0232.\n",
      "Child returned 0\n"
     ]
    },
    {
     "name": "stdout",
     "output_type": "stream",
     "text": [
      "rm -rf /home/yuncong/CSHL_labeled_neurons/MD658/MD658-F78-2017.04.05-12.12.18_MD658_2_0233/MD658-F78-2017.04.05-12.12.18_MD658_2_0233.pkl && mkdir -p /home/yuncong/CSHL_labeled_neurons/MD658/MD658-F78-2017.04.05-12.12.18_MD658_2_0233\n",
      "aws s3 cp s3://mousebrainatlas-data/CSHL_labeled_neurons/MD658/MD658-F78-2017.04.05-12.12.18_MD658_2_0233/MD658-F78-2017.04.05-12.12.18_MD658_2_0233.pkl /home/yuncong/CSHL_labeled_neurons/MD658/MD658-F78-2017.04.05-12.12.18_MD658_2_0233/MD658-F78-2017.04.05-12.12.18_MD658_2_0233.pkl\n"
     ]
    },
    {
     "name": "stderr",
     "output_type": "stream",
     "text": [
      "Child returned 1\n",
      "0.71 seconds.\n",
      "No labeled neurons recorded for image MD658-F78-2017.04.05-12.12.18_MD658_2_0233.\n",
      "Child returned 0\n"
     ]
    },
    {
     "name": "stdout",
     "output_type": "stream",
     "text": [
      "rm -rf /home/yuncong/CSHL_labeled_neurons/MD658/MD658-F78-2017.04.05-12.12.18_MD658_3_0234/MD658-F78-2017.04.05-12.12.18_MD658_3_0234.pkl && mkdir -p /home/yuncong/CSHL_labeled_neurons/MD658/MD658-F78-2017.04.05-12.12.18_MD658_3_0234\n",
      "aws s3 cp s3://mousebrainatlas-data/CSHL_labeled_neurons/MD658/MD658-F78-2017.04.05-12.12.18_MD658_3_0234/MD658-F78-2017.04.05-12.12.18_MD658_3_0234.pkl /home/yuncong/CSHL_labeled_neurons/MD658/MD658-F78-2017.04.05-12.12.18_MD658_3_0234/MD658-F78-2017.04.05-12.12.18_MD658_3_0234.pkl\n"
     ]
    },
    {
     "name": "stderr",
     "output_type": "stream",
     "text": [
      "Child returned 1\n",
      "0.71 seconds.\n",
      "No labeled neurons recorded for image MD658-F78-2017.04.05-12.12.18_MD658_3_0234.\n",
      "Child returned 0\n"
     ]
    },
    {
     "name": "stdout",
     "output_type": "stream",
     "text": [
      "rm -rf /home/yuncong/CSHL_labeled_neurons/MD658/MD658-F79-2017.04.05-12.28.29_MD658_1_0235/MD658-F79-2017.04.05-12.28.29_MD658_1_0235.pkl && mkdir -p /home/yuncong/CSHL_labeled_neurons/MD658/MD658-F79-2017.04.05-12.28.29_MD658_1_0235\n",
      "aws s3 cp s3://mousebrainatlas-data/CSHL_labeled_neurons/MD658/MD658-F79-2017.04.05-12.28.29_MD658_1_0235/MD658-F79-2017.04.05-12.28.29_MD658_1_0235.pkl /home/yuncong/CSHL_labeled_neurons/MD658/MD658-F79-2017.04.05-12.28.29_MD658_1_0235/MD658-F79-2017.04.05-12.28.29_MD658_1_0235.pkl\n"
     ]
    },
    {
     "name": "stderr",
     "output_type": "stream",
     "text": [
      "Child returned 1\n",
      "0.67 seconds.\n",
      "No labeled neurons recorded for image MD658-F79-2017.04.05-12.28.29_MD658_1_0235.\n",
      "Child returned 0\n"
     ]
    },
    {
     "name": "stdout",
     "output_type": "stream",
     "text": [
      "rm -rf /home/yuncong/CSHL_labeled_neurons/MD658/MD658-F79-2017.04.05-12.28.29_MD658_2_0236/MD658-F79-2017.04.05-12.28.29_MD658_2_0236.pkl && mkdir -p /home/yuncong/CSHL_labeled_neurons/MD658/MD658-F79-2017.04.05-12.28.29_MD658_2_0236\n",
      "aws s3 cp s3://mousebrainatlas-data/CSHL_labeled_neurons/MD658/MD658-F79-2017.04.05-12.28.29_MD658_2_0236/MD658-F79-2017.04.05-12.28.29_MD658_2_0236.pkl /home/yuncong/CSHL_labeled_neurons/MD658/MD658-F79-2017.04.05-12.28.29_MD658_2_0236/MD658-F79-2017.04.05-12.28.29_MD658_2_0236.pkl\n"
     ]
    },
    {
     "name": "stderr",
     "output_type": "stream",
     "text": [
      "Child returned 1\n",
      "0.64 seconds.\n",
      "No labeled neurons recorded for image MD658-F79-2017.04.05-12.28.29_MD658_2_0236.\n",
      "Child returned 0\n"
     ]
    },
    {
     "name": "stdout",
     "output_type": "stream",
     "text": [
      "rm -rf /home/yuncong/CSHL_labeled_neurons/MD658/MD658-F79-2017.04.05-12.28.29_MD658_3_0237/MD658-F79-2017.04.05-12.28.29_MD658_3_0237.pkl && mkdir -p /home/yuncong/CSHL_labeled_neurons/MD658/MD658-F79-2017.04.05-12.28.29_MD658_3_0237\n",
      "aws s3 cp s3://mousebrainatlas-data/CSHL_labeled_neurons/MD658/MD658-F79-2017.04.05-12.28.29_MD658_3_0237/MD658-F79-2017.04.05-12.28.29_MD658_3_0237.pkl /home/yuncong/CSHL_labeled_neurons/MD658/MD658-F79-2017.04.05-12.28.29_MD658_3_0237/MD658-F79-2017.04.05-12.28.29_MD658_3_0237.pkl\n"
     ]
    },
    {
     "name": "stderr",
     "output_type": "stream",
     "text": [
      "Child returned 1\n",
      "0.45 seconds.\n",
      "No labeled neurons recorded for image MD658-F79-2017.04.05-12.28.29_MD658_3_0237.\n"
     ]
    }
   ],
   "source": [
    "# Render structures + shell + labeled neurons\n",
    "\n",
    "xys_grouped_by_section = {}\n",
    "rs_grouped_by_section = {}\n",
    "for fn in metadata_cache['valid_filenames'][stack]:\n",
    "    if fn.split('-')[1][0] == 'F':\n",
    "        try:\n",
    "            xyr_tuples = DataManager.load_labeled_neurons_filepath(stack=stack, fn=fn)\n",
    "            sec = metadata_cache['filenames_to_sections'][stack][fn]\n",
    "            xys_grouped_by_section[sec] = [(x,y) for x,y,r in xyr_tuples]\n",
    "            rs_grouped_by_section[sec] = [r for x,y,r in xyr_tuples]\n",
    "        except:\n",
    "            sys.stderr.write(\"No labeled neurons recorded for image %s.\\n\" % fn)\n",
    "\n",
    "from conversion import *\n",
    "volume_downsample = 32\n",
    "xyzs_grouped_by_section = points2d_to_points3d(xys_grouped_by_section, pts2d_downsample=1, \n",
    "                                               pts3d_downsample=volume_downsample, stack=stack)\n",
    "\n",
    "xyzrs = np.concatenate([np.c_[xyzs + (crop_xmin + tb_vol_xmin, crop_ymin + tb_vol_ymin, tb_vol_zmin), \n",
    "                              [r_um / (XY_PIXEL_DISTANCE_LOSSLESS * volume_downsample) for r_um in rs_grouped_by_section[sec]]]\n",
    "for sec, xyzs in xyzs_grouped_by_section.iteritems()])\n",
    "\n",
    "launch_vtk([shell_actor] + \\\n",
    "          global_transformed_atlas_actors.values() + \\\n",
    "          [actor_sphere(position=(x,y,z), radius=r) for x,y,z,r in xyzrs])"
   ]
  },
  {
   "cell_type": "code",
   "execution_count": null,
   "metadata": {
    "collapsed": true
   },
   "outputs": [],
   "source": []
  },
  {
   "cell_type": "code",
   "execution_count": 210,
   "metadata": {
    "collapsed": false
   },
   "outputs": [],
   "source": [
    "# Zoom in the volume around a particular structure\n",
    "\n",
    "roi_name_s = '3N_R'\n",
    "\n",
    "vs = np.concatenate([polydata_to_mesh(local_transformed_atlas_polydata_list[roi_name_s])[0],\n",
    "polydata_to_mesh(global_transformed_atlas_polydata_list[roi_name_s])[0]])\n",
    "\n",
    "roi_xmin, roi_ymin, roi_zmin = (np.min(vs, axis=0) - 20).astype(np.int)\n",
    "roi_xmax, roi_ymax, roi_zmax = (np.max(vs, axis=0) + 20).astype(np.int)\n",
    "\n",
    "sc_vol = DataManager.load_score_volume(stack=stack, label=convert_name_to_unsided(roi_name_s), downscale=32, train_sample_scheme=1)\n",
    "\n",
    "sc_vol[:roi_ymin, :, :] = 0\n",
    "sc_vol[roi_ymax:, :, :] = 0\n",
    "sc_vol[:, :roi_xmin, :] = 0\n",
    "sc_vol[:, roi_xmax:, :] = 0\n",
    "sc_vol[:, :, :roi_zmin-20] = 0\n",
    "sc_vol[:, :, roi_zmax:] = 0\n",
    "\n",
    "\n",
    "score_volume_actor = actor_volume(sc_vol.astype(np.float32), what='score', \n",
    "                                  origin=(crop_xmin + tb_vol_xmin, crop_ymin + tb_vol_ymin, tb_vol_zmin))\n",
    "\n",
    "launch_vtk( [score_volume_actor, \n",
    "             global_transformed_atlas_actors[roi_name_s],\n",
    "             local_transformed_atlas_actors[roi_name_s],\n",
    "            shell_actor])"
   ]
  }
 ],
 "metadata": {
  "kernelspec": {
   "display_name": "Python 2",
   "language": "python",
   "name": "python2"
  },
  "language_info": {
   "codemirror_mode": {
    "name": "ipython",
    "version": 2
   },
   "file_extension": ".py",
   "mimetype": "text/x-python",
   "name": "python",
   "nbconvert_exporter": "python",
   "pygments_lexer": "ipython2",
   "version": "2.7.12"
  }
 },
 "nbformat": 4,
 "nbformat_minor": 0
}
