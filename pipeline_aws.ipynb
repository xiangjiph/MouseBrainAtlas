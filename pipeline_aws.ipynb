{
 "cells": [
  {
   "cell_type": "code",
   "execution_count": 1,
   "metadata": {
    "scrolled": true
   },
   "outputs": [
    {
     "name": "stdout",
     "output_type": "stream",
     "text": [
      "Setting environment for AWS compute node\n",
      "rm -rf \"/shared/CSHL_data_processed/MD585/MD585_sorted_filenames.txt\" && mkdir -p \"/shared/CSHL_data_processed/MD585\"\n"
     ]
    },
    {
     "name": "stderr",
     "output_type": "stream",
     "text": [
      "No vtk\n"
     ]
    },
    {
     "name": "stdout",
     "output_type": "stream",
     "text": [
      "aws s3 cp \"s3://mousebrainatlas-data/CSHL_data_processed/MD585/MD585_sorted_filenames.txt\" \"/shared/CSHL_data_processed/MD585/MD585_sorted_filenames.txt\"\n",
      "rm -rf \"/shared/CSHL_data_processed/MD585/MD585_anchor.txt\" && mkdir -p \"/shared/CSHL_data_processed/MD585\"\n",
      "aws s3 cp \"s3://mousebrainatlas-data/CSHL_data_processed/MD585/MD585_anchor.txt\" \"/shared/CSHL_data_processed/MD585/MD585_anchor.txt\"\n",
      "rm -rf \"/shared/CSHL_data_processed/MD585/MD585_alignedTo_MD585-N47-2015.07.16-22.50.52_MD585_3_0141_cropbox.txt\" && mkdir -p \"/shared/CSHL_data_processed/MD585\"\n",
      "aws s3 cp \"s3://mousebrainatlas-data/CSHL_data_processed/MD585/MD585_alignedTo_MD585-N47-2015.07.16-22.50.52_MD585_3_0141_cropbox.txt\" \"/shared/CSHL_data_processed/MD585/MD585_alignedTo_MD585-N47-2015.07.16-22.50.52_MD585_3_0141_cropbox.txt\"\n",
      "rm -rf \"/shared/CSHL_data_processed/MD589/MD589_sorted_filenames.txt\" && mkdir -p \"/shared/CSHL_data_processed/MD589\"\n",
      "aws s3 cp \"s3://mousebrainatlas-data/CSHL_data_processed/MD589/MD589_sorted_filenames.txt\" \"/shared/CSHL_data_processed/MD589/MD589_sorted_filenames.txt\"\n",
      "rm -rf \"/shared/CSHL_data_processed/MD589/MD589_anchor.txt\" && mkdir -p \"/shared/CSHL_data_processed/MD589\"\n",
      "aws s3 cp \"s3://mousebrainatlas-data/CSHL_data_processed/MD589/MD589_anchor.txt\" \"/shared/CSHL_data_processed/MD589/MD589_anchor.txt\"\n",
      "rm -rf \"/shared/CSHL_data_processed/MD589/MD589_alignedTo_MD589-IHC31-2015.07.30-23.26.22_MD589_1_0091_cropbox.txt\" && mkdir -p \"/shared/CSHL_data_processed/MD589\"\n",
      "aws s3 cp \"s3://mousebrainatlas-data/CSHL_data_processed/MD589/MD589_alignedTo_MD589-IHC31-2015.07.30-23.26.22_MD589_1_0091_cropbox.txt\" \"/shared/CSHL_data_processed/MD589/MD589_alignedTo_MD589-IHC31-2015.07.30-23.26.22_MD589_1_0091_cropbox.txt\"\n",
      "rm -rf \"/shared/CSHL_data_processed/MD590/MD590_sorted_filenames.txt\" && mkdir -p \"/shared/CSHL_data_processed/MD590\"\n",
      "aws s3 cp \"s3://mousebrainatlas-data/CSHL_data_processed/MD590/MD590_sorted_filenames.txt\" \"/shared/CSHL_data_processed/MD590/MD590_sorted_filenames.txt\"\n",
      "rm -rf \"/shared/CSHL_data_processed/MD590/MD590_anchor.txt\" && mkdir -p \"/shared/CSHL_data_processed/MD590\"\n",
      "aws s3 cp \"s3://mousebrainatlas-data/CSHL_data_processed/MD590/MD590_anchor.txt\" \"/shared/CSHL_data_processed/MD590/MD590_anchor.txt\"\n",
      "rm -rf \"/shared/CSHL_data_processed/MD590/MD590_alignedTo_MD590-N47-2015.09.12-05.32.06_MD590_2_0140_cropbox.txt\" && mkdir -p \"/shared/CSHL_data_processed/MD590\"\n",
      "aws s3 cp \"s3://mousebrainatlas-data/CSHL_data_processed/MD590/MD590_alignedTo_MD590-N47-2015.09.12-05.32.06_MD590_2_0140_cropbox.txt\" \"/shared/CSHL_data_processed/MD590/MD590_alignedTo_MD590-N47-2015.09.12-05.32.06_MD590_2_0140_cropbox.txt\"\n",
      "rm -rf \"/shared/CSHL_data_processed/MD591/MD591_sorted_filenames.txt\" && mkdir -p \"/shared/CSHL_data_processed/MD591\"\n",
      "aws s3 cp \"s3://mousebrainatlas-data/CSHL_data_processed/MD591/MD591_sorted_filenames.txt\" \"/shared/CSHL_data_processed/MD591/MD591_sorted_filenames.txt\"\n",
      "rm -rf \"/shared/CSHL_data_processed/MD591/MD591_anchor.txt\" && mkdir -p \"/shared/CSHL_data_processed/MD591\"\n",
      "aws s3 cp \"s3://mousebrainatlas-data/CSHL_data_processed/MD591/MD591_anchor.txt\" \"/shared/CSHL_data_processed/MD591/MD591_anchor.txt\"\n",
      "rm -rf \"/shared/CSHL_data_processed/MD591/MD591_alignedTo_MD591-N57-2015.09.21-17.13.29_MD591_1_0169_cropbox.txt\" && mkdir -p \"/shared/CSHL_data_processed/MD591\"\n",
      "aws s3 cp \"s3://mousebrainatlas-data/CSHL_data_processed/MD591/MD591_alignedTo_MD591-N57-2015.09.21-17.13.29_MD591_1_0169_cropbox.txt\" \"/shared/CSHL_data_processed/MD591/MD591_alignedTo_MD591-N57-2015.09.21-17.13.29_MD591_1_0169_cropbox.txt\"\n",
      "rm -rf \"/shared/CSHL_data_processed/MD592/MD592_sorted_filenames.txt\" && mkdir -p \"/shared/CSHL_data_processed/MD592\"\n",
      "aws s3 cp \"s3://mousebrainatlas-data/CSHL_data_processed/MD592/MD592_sorted_filenames.txt\" \"/shared/CSHL_data_processed/MD592/MD592_sorted_filenames.txt\"\n",
      "rm -rf \"/shared/CSHL_data_processed/MD592/MD592_anchor.txt\" && mkdir -p \"/shared/CSHL_data_processed/MD592\"\n",
      "aws s3 cp \"s3://mousebrainatlas-data/CSHL_data_processed/MD592/MD592_anchor.txt\" \"/shared/CSHL_data_processed/MD592/MD592_anchor.txt\"\n",
      "rm -rf \"/shared/CSHL_data_processed/MD592/MD592_alignedTo_MD592-IHC59-2015.08.26-00.06.25_MD592_2_0176_cropbox.txt\" && mkdir -p \"/shared/CSHL_data_processed/MD592\"\n",
      "aws s3 cp \"s3://mousebrainatlas-data/CSHL_data_processed/MD592/MD592_alignedTo_MD592-IHC59-2015.08.26-00.06.25_MD592_2_0176_cropbox.txt\" \"/shared/CSHL_data_processed/MD592/MD592_alignedTo_MD592-IHC59-2015.08.26-00.06.25_MD592_2_0176_cropbox.txt\"\n",
      "rm -rf \"/shared/CSHL_data_processed/MD593/MD593_sorted_filenames.txt\" && mkdir -p \"/shared/CSHL_data_processed/MD593\"\n",
      "aws s3 cp \"s3://mousebrainatlas-data/CSHL_data_processed/MD593/MD593_sorted_filenames.txt\" \"/shared/CSHL_data_processed/MD593/MD593_sorted_filenames.txt\"\n",
      "rm -rf \"/shared/CSHL_data_processed/MD593/MD593_anchor.txt\" && mkdir -p \"/shared/CSHL_data_processed/MD593\"\n",
      "aws s3 cp \"s3://mousebrainatlas-data/CSHL_data_processed/MD593/MD593_anchor.txt\" \"/shared/CSHL_data_processed/MD593/MD593_anchor.txt\"\n",
      "rm -rf \"/shared/CSHL_data_processed/MD593/MD593_alignedTo_MD593-IHC54-2015.08.25-17.40.32_MD593_2_0161_cropbox.txt\" && mkdir -p \"/shared/CSHL_data_processed/MD593\"\n",
      "aws s3 cp \"s3://mousebrainatlas-data/CSHL_data_processed/MD593/MD593_alignedTo_MD593-IHC54-2015.08.25-17.40.32_MD593_2_0161_cropbox.txt\" \"/shared/CSHL_data_processed/MD593/MD593_alignedTo_MD593-IHC54-2015.08.25-17.40.32_MD593_2_0161_cropbox.txt\"\n",
      "rm -rf \"/shared/CSHL_data_processed/MD594/MD594_sorted_filenames.txt\" && mkdir -p \"/shared/CSHL_data_processed/MD594\"\n",
      "aws s3 cp \"s3://mousebrainatlas-data/CSHL_data_processed/MD594/MD594_sorted_filenames.txt\" \"/shared/CSHL_data_processed/MD594/MD594_sorted_filenames.txt\"\n",
      "rm -rf \"/shared/CSHL_data_processed/MD594/MD594_anchor.txt\" && mkdir -p \"/shared/CSHL_data_processed/MD594\"\n",
      "aws s3 cp \"s3://mousebrainatlas-data/CSHL_data_processed/MD594/MD594_anchor.txt\" \"/shared/CSHL_data_processed/MD594/MD594_anchor.txt\"\n",
      "rm -rf \"/shared/CSHL_data_processed/MD594/MD594_alignedTo_MD594-IHC58-2015.08.26-18.48.50_MD594_1_0172_cropbox.txt\" && mkdir -p \"/shared/CSHL_data_processed/MD594\"\n",
      "aws s3 cp \"s3://mousebrainatlas-data/CSHL_data_processed/MD594/MD594_alignedTo_MD594-IHC58-2015.08.26-18.48.50_MD594_1_0172_cropbox.txt\" \"/shared/CSHL_data_processed/MD594/MD594_alignedTo_MD594-IHC58-2015.08.26-18.48.50_MD594_1_0172_cropbox.txt\"\n",
      "rm -rf \"/shared/CSHL_data_processed/MD595/MD595_sorted_filenames.txt\" && mkdir -p \"/shared/CSHL_data_processed/MD595\"\n",
      "aws s3 cp \"s3://mousebrainatlas-data/CSHL_data_processed/MD595/MD595_sorted_filenames.txt\" \"/shared/CSHL_data_processed/MD595/MD595_sorted_filenames.txt\"\n",
      "rm -rf \"/shared/CSHL_data_processed/MD595/MD595_anchor.txt\" && mkdir -p \"/shared/CSHL_data_processed/MD595\"\n",
      "aws s3 cp \"s3://mousebrainatlas-data/CSHL_data_processed/MD595/MD595_anchor.txt\" \"/shared/CSHL_data_processed/MD595/MD595_anchor.txt\"\n",
      "rm -rf \"/shared/CSHL_data_processed/MD595/MD595_alignedTo_MD595-IHC48-2015.09.15-18.38.44_MD595_1_0142_cropbox.txt\" && mkdir -p \"/shared/CSHL_data_processed/MD595\"\n",
      "aws s3 cp \"s3://mousebrainatlas-data/CSHL_data_processed/MD595/MD595_alignedTo_MD595-IHC48-2015.09.15-18.38.44_MD595_1_0142_cropbox.txt\" \"/shared/CSHL_data_processed/MD595/MD595_alignedTo_MD595-IHC48-2015.09.15-18.38.44_MD595_1_0142_cropbox.txt\"\n",
      "rm -rf \"/shared/CSHL_data_processed/MD598/MD598_sorted_filenames.txt\" && mkdir -p \"/shared/CSHL_data_processed/MD598\"\n",
      "aws s3 cp \"s3://mousebrainatlas-data/CSHL_data_processed/MD598/MD598_sorted_filenames.txt\" \"/shared/CSHL_data_processed/MD598/MD598_sorted_filenames.txt\"\n",
      "rm -rf \"/shared/CSHL_data_processed/MD598/MD598_anchor.txt\" && mkdir -p \"/shared/CSHL_data_processed/MD598\"\n",
      "aws s3 cp \"s3://mousebrainatlas-data/CSHL_data_processed/MD598/MD598_anchor.txt\" \"/shared/CSHL_data_processed/MD598/MD598_anchor.txt\"\n",
      "rm -rf \"/shared/CSHL_data_processed/MD598/MD598_alignedTo_MD598-N42-2015.09.29-19.26.12_MD598_2_0125_cropbox.txt\" && mkdir -p \"/shared/CSHL_data_processed/MD598\"\n",
      "aws s3 cp \"s3://mousebrainatlas-data/CSHL_data_processed/MD598/MD598_alignedTo_MD598-N42-2015.09.29-19.26.12_MD598_2_0125_cropbox.txt\" \"/shared/CSHL_data_processed/MD598/MD598_alignedTo_MD598-N42-2015.09.29-19.26.12_MD598_2_0125_cropbox.txt\"\n",
      "rm -rf \"/shared/CSHL_data_processed/MD599/MD599_sorted_filenames.txt\" && mkdir -p \"/shared/CSHL_data_processed/MD599\"\n",
      "aws s3 cp \"s3://mousebrainatlas-data/CSHL_data_processed/MD599/MD599_sorted_filenames.txt\" \"/shared/CSHL_data_processed/MD599/MD599_sorted_filenames.txt\"\n"
     ]
    },
    {
     "name": "stdout",
     "output_type": "stream",
     "text": [
      "rm -rf \"/shared/CSHL_data_processed/MD599/MD599_anchor.txt\" && mkdir -p \"/shared/CSHL_data_processed/MD599\"\n",
      "aws s3 cp \"s3://mousebrainatlas-data/CSHL_data_processed/MD599/MD599_anchor.txt\" \"/shared/CSHL_data_processed/MD599/MD599_anchor.txt\"\n",
      "rm -rf \"/shared/CSHL_data_processed/MD599/MD599_alignedTo_MD599-IHC40-2015.10.03-06.04.31_MD599_2_0119_cropbox.txt\" && mkdir -p \"/shared/CSHL_data_processed/MD599\"\n",
      "aws s3 cp \"s3://mousebrainatlas-data/CSHL_data_processed/MD599/MD599_alignedTo_MD599-IHC40-2015.10.03-06.04.31_MD599_2_0119_cropbox.txt\" \"/shared/CSHL_data_processed/MD599/MD599_alignedTo_MD599-IHC40-2015.10.03-06.04.31_MD599_2_0119_cropbox.txt\"\n",
      "rm -rf \"/shared/CSHL_data_processed/MD602/MD602_sorted_filenames.txt\" && mkdir -p \"/shared/CSHL_data_processed/MD602\"\n",
      "aws s3 cp \"s3://mousebrainatlas-data/CSHL_data_processed/MD602/MD602_sorted_filenames.txt\" \"/shared/CSHL_data_processed/MD602/MD602_sorted_filenames.txt\"\n",
      "rm -rf \"/shared/CSHL_data_processed/MD602/MD602_anchor.txt\" && mkdir -p \"/shared/CSHL_data_processed/MD602\"\n",
      "aws s3 cp \"s3://mousebrainatlas-data/CSHL_data_processed/MD602/MD602_anchor.txt\" \"/shared/CSHL_data_processed/MD602/MD602_anchor.txt\"\n",
      "rm -rf \"/shared/CSHL_data_processed/MD602/MD602_alignedTo_MD602-N49-2015.12.01-18.41.46_MD602_2_0146_cropbox.txt\" && mkdir -p \"/shared/CSHL_data_processed/MD602\"\n",
      "aws s3 cp \"s3://mousebrainatlas-data/CSHL_data_processed/MD602/MD602_alignedTo_MD602-N49-2015.12.01-18.41.46_MD602_2_0146_cropbox.txt\" \"/shared/CSHL_data_processed/MD602/MD602_alignedTo_MD602-N49-2015.12.01-18.41.46_MD602_2_0146_cropbox.txt\"\n",
      "rm -rf \"/shared/CSHL_data_processed/MD603/MD603_sorted_filenames.txt\" && mkdir -p \"/shared/CSHL_data_processed/MD603\"\n",
      "aws s3 cp \"s3://mousebrainatlas-data/CSHL_data_processed/MD603/MD603_sorted_filenames.txt\" \"/shared/CSHL_data_processed/MD603/MD603_sorted_filenames.txt\"\n",
      "rm -rf \"/shared/CSHL_data_processed/MD603/MD603_anchor.txt\" && mkdir -p \"/shared/CSHL_data_processed/MD603\"\n",
      "aws s3 cp \"s3://mousebrainatlas-data/CSHL_data_processed/MD603/MD603_anchor.txt\" \"/shared/CSHL_data_processed/MD603/MD603_anchor.txt\"\n",
      "rm -rf \"/shared/CSHL_data_processed/MD603/MD603_alignedTo_MD603-N60-2015.12.03-23.57.05_MD603_2_0179_cropbox.txt\" && mkdir -p \"/shared/CSHL_data_processed/MD603\"\n",
      "aws s3 cp \"s3://mousebrainatlas-data/CSHL_data_processed/MD603/MD603_alignedTo_MD603-N60-2015.12.03-23.57.05_MD603_2_0179_cropbox.txt\" \"/shared/CSHL_data_processed/MD603/MD603_alignedTo_MD603-N60-2015.12.03-23.57.05_MD603_2_0179_cropbox.txt\"\n",
      "rm -rf \"/shared/CSHL_data_processed/MD635/MD635_sorted_filenames.txt\" && mkdir -p \"/shared/CSHL_data_processed/MD635\"\n",
      "aws s3 cp \"s3://mousebrainatlas-data/CSHL_data_processed/MD635/MD635_sorted_filenames.txt\" \"/shared/CSHL_data_processed/MD635/MD635_sorted_filenames.txt\"\n",
      "rm -rf \"/shared/CSHL_data_processed/MD635/MD635_anchor.txt\" && mkdir -p \"/shared/CSHL_data_processed/MD635\"\n",
      "aws s3 cp \"s3://mousebrainatlas-data/CSHL_data_processed/MD635/MD635_anchor.txt\" \"/shared/CSHL_data_processed/MD635/MD635_anchor.txt\"\n",
      "rm -rf \"/shared/CSHL_data_processed/MD635/MD635_alignedTo_MD635-F63-2016.05.19-08.39.03_MD635_2_0188_cropbox.txt\" && mkdir -p \"/shared/CSHL_data_processed/MD635\"\n",
      "aws s3 cp \"s3://mousebrainatlas-data/CSHL_data_processed/MD635/MD635_alignedTo_MD635-F63-2016.05.19-08.39.03_MD635_2_0188_cropbox.txt\" \"/shared/CSHL_data_processed/MD635/MD635_alignedTo_MD635-F63-2016.05.19-08.39.03_MD635_2_0188_cropbox.txt\"\n",
      "rm -rf \"/shared/CSHL_data_processed/MD653/MD653_sorted_filenames.txt\" && mkdir -p \"/shared/CSHL_data_processed/MD653\"\n",
      "aws s3 cp \"s3://mousebrainatlas-data/CSHL_data_processed/MD653/MD653_sorted_filenames.txt\" \"/shared/CSHL_data_processed/MD653/MD653_sorted_filenames.txt\"\n",
      "rm -rf \"/shared/CSHL_data_processed/MD653/MD653_anchor.txt\" && mkdir -p \"/shared/CSHL_data_processed/MD653\"\n",
      "aws s3 cp \"s3://mousebrainatlas-data/CSHL_data_processed/MD653/MD653_anchor.txt\" \"/shared/CSHL_data_processed/MD653/MD653_anchor.txt\"\n",
      "rm -rf \"/shared/CSHL_data_processed/MD653/MD653_alignedTo_MD653-F64-2016.12.21-12.03.55_MD653_2_0191_cropbox.txt\" && mkdir -p \"/shared/CSHL_data_processed/MD653\"\n",
      "aws s3 cp \"s3://mousebrainatlas-data/CSHL_data_processed/MD653/MD653_alignedTo_MD653-F64-2016.12.21-12.03.55_MD653_2_0191_cropbox.txt\" \"/shared/CSHL_data_processed/MD653/MD653_alignedTo_MD653-F64-2016.12.21-12.03.55_MD653_2_0191_cropbox.txt\"\n",
      "rm -rf \"/shared/CSHL_data_processed/MD652/MD652_sorted_filenames.txt\" && mkdir -p \"/shared/CSHL_data_processed/MD652\"\n",
      "aws s3 cp \"s3://mousebrainatlas-data/CSHL_data_processed/MD652/MD652_sorted_filenames.txt\" \"/shared/CSHL_data_processed/MD652/MD652_sorted_filenames.txt\"\n",
      "rm -rf \"/shared/CSHL_data_processed/MD652/MD652_anchor.txt\" && mkdir -p \"/shared/CSHL_data_processed/MD652\"\n",
      "aws s3 cp \"s3://mousebrainatlas-data/CSHL_data_processed/MD652/MD652_anchor.txt\" \"/shared/CSHL_data_processed/MD652/MD652_anchor.txt\"\n",
      "rm -rf \"/shared/CSHL_data_processed/MD652/MD652_alignedTo_MD652-F45-2016.12.17-05.56.31_MD652_2_0134_cropbox.txt\" && mkdir -p \"/shared/CSHL_data_processed/MD652\"\n",
      "aws s3 cp \"s3://mousebrainatlas-data/CSHL_data_processed/MD652/MD652_alignedTo_MD652-F45-2016.12.17-05.56.31_MD652_2_0134_cropbox.txt\" \"/shared/CSHL_data_processed/MD652/MD652_alignedTo_MD652-F45-2016.12.17-05.56.31_MD652_2_0134_cropbox.txt\"\n",
      "rm -rf \"/shared/CSHL_data_processed/MD642/MD642_sorted_filenames.txt\" && mkdir -p \"/shared/CSHL_data_processed/MD642\"\n",
      "aws s3 cp \"s3://mousebrainatlas-data/CSHL_data_processed/MD642/MD642_sorted_filenames.txt\" \"/shared/CSHL_data_processed/MD642/MD642_sorted_filenames.txt\"\n",
      "rm -rf \"/shared/CSHL_data_processed/MD642/MD642_anchor.txt\" && mkdir -p \"/shared/CSHL_data_processed/MD642\"\n",
      "aws s3 cp \"s3://mousebrainatlas-data/CSHL_data_processed/MD642/MD642_anchor.txt\" \"/shared/CSHL_data_processed/MD642/MD642_anchor.txt\"\n",
      "rm -rf \"/shared/CSHL_data_processed/MD642/MD642_alignedTo_MD642-F53-2017.01.14-12.23.43_MD642_1_0157_cropbox.txt\" && mkdir -p \"/shared/CSHL_data_processed/MD642\"\n",
      "aws s3 cp \"s3://mousebrainatlas-data/CSHL_data_processed/MD642/MD642_alignedTo_MD642-F53-2017.01.14-12.23.43_MD642_1_0157_cropbox.txt\" \"/shared/CSHL_data_processed/MD642/MD642_alignedTo_MD642-F53-2017.01.14-12.23.43_MD642_1_0157_cropbox.txt\"\n",
      "rm -rf \"/shared/CSHL_data_processed/MD657/MD657_sorted_filenames.txt\" && mkdir -p \"/shared/CSHL_data_processed/MD657\"\n",
      "aws s3 cp \"s3://mousebrainatlas-data/CSHL_data_processed/MD657/MD657_sorted_filenames.txt\" \"/shared/CSHL_data_processed/MD657/MD657_sorted_filenames.txt\"\n",
      "rm -rf \"/shared/CSHL_data_processed/MD657/MD657_anchor.txt\" && mkdir -p \"/shared/CSHL_data_processed/MD657\"\n",
      "aws s3 cp \"s3://mousebrainatlas-data/CSHL_data_processed/MD657/MD657_anchor.txt\" \"/shared/CSHL_data_processed/MD657/MD657_anchor.txt\"\n",
      "rm -rf \"/shared/CSHL_data_processed/MD657/MD657_alignedTo_MD657-F44-2017.02.18-06.06.27_MD657_1_0130_cropbox.txt\" && mkdir -p \"/shared/CSHL_data_processed/MD657\"\n",
      "aws s3 cp \"s3://mousebrainatlas-data/CSHL_data_processed/MD657/MD657_alignedTo_MD657-F44-2017.02.18-06.06.27_MD657_1_0130_cropbox.txt\" \"/shared/CSHL_data_processed/MD657/MD657_alignedTo_MD657-F44-2017.02.18-06.06.27_MD657_1_0130_cropbox.txt\"\n",
      "rm -rf \"/shared/CSHL_data_processed/MD658/MD658_sorted_filenames.txt\" && mkdir -p \"/shared/CSHL_data_processed/MD658\"\n",
      "aws s3 cp \"s3://mousebrainatlas-data/CSHL_data_processed/MD658/MD658_sorted_filenames.txt\" \"/shared/CSHL_data_processed/MD658/MD658_sorted_filenames.txt\"\n",
      "rm -rf \"/shared/CSHL_data_processed/MD658/MD658_anchor.txt\" && mkdir -p \"/shared/CSHL_data_processed/MD658\"\n",
      "aws s3 cp \"s3://mousebrainatlas-data/CSHL_data_processed/MD658/MD658_anchor.txt\" \"/shared/CSHL_data_processed/MD658/MD658_anchor.txt\"\n",
      "rm -rf \"/shared/CSHL_data_processed/MD658/MD658_alignedTo_MD658-N58-2017.03.31-19.59.31_MD658_2_0173_cropbox.txt\" && mkdir -p \"/shared/CSHL_data_processed/MD658\"\n",
      "aws s3 cp \"s3://mousebrainatlas-data/CSHL_data_processed/MD658/MD658_alignedTo_MD658-N58-2017.03.31-19.59.31_MD658_2_0173_cropbox.txt\" \"/shared/CSHL_data_processed/MD658/MD658_alignedTo_MD658-N58-2017.03.31-19.59.31_MD658_2_0173_cropbox.txt\"\n",
      "rm -rf \"/shared/CSHL_data_processed/MD661/MD661_sorted_filenames.txt\" && mkdir -p \"/shared/CSHL_data_processed/MD661\"\n",
      "aws s3 cp \"s3://mousebrainatlas-data/CSHL_data_processed/MD661/MD661_sorted_filenames.txt\" \"/shared/CSHL_data_processed/MD661/MD661_sorted_filenames.txt\"\n"
     ]
    },
    {
     "name": "stdout",
     "output_type": "stream",
     "text": [
      "rm -rf \"/shared/CSHL_data_processed/MD661/MD661_anchor.txt\" && mkdir -p \"/shared/CSHL_data_processed/MD661\"\n",
      "aws s3 cp \"s3://mousebrainatlas-data/CSHL_data_processed/MD661/MD661_anchor.txt\" \"/shared/CSHL_data_processed/MD661/MD661_anchor.txt\"\n",
      "rm -rf \"/shared/CSHL_data_processed/MD661/MD661_alignedTo_MD662&661-F116-2017.06.07-04.39.41_MD661_1_0346_cropbox.txt\" && mkdir -p \"/shared/CSHL_data_processed/MD661\"\n",
      "aws s3 cp \"s3://mousebrainatlas-data/CSHL_data_processed/MD661/MD661_alignedTo_MD662&661-F116-2017.06.07-04.39.41_MD661_1_0346_cropbox.txt\" \"/shared/CSHL_data_processed/MD661/MD661_alignedTo_MD662&661-F116-2017.06.07-04.39.41_MD661_1_0346_cropbox.txt\"\n",
      "rm -rf \"/shared/CSHL_data_processed/MD662/MD662_sorted_filenames.txt\" && mkdir -p \"/shared/CSHL_data_processed/MD662\"\n",
      "aws s3 cp \"s3://mousebrainatlas-data/CSHL_data_processed/MD662/MD662_sorted_filenames.txt\" \"/shared/CSHL_data_processed/MD662/MD662_sorted_filenames.txt\"\n",
      "rm -rf \"/shared/CSHL_data_processed/MD662/MD662_anchor.txt\" && mkdir -p \"/shared/CSHL_data_processed/MD662\"\n",
      "aws s3 cp \"s3://mousebrainatlas-data/CSHL_data_processed/MD662/MD662_anchor.txt\" \"/shared/CSHL_data_processed/MD662/MD662_anchor.txt\"\n",
      "rm -rf \"/shared/CSHL_data_processed/MD662/MD662_alignedTo_MD662&661-F115-2017.06.07-04.11.41_MD662_2_0344_cropbox.txt\" && mkdir -p \"/shared/CSHL_data_processed/MD662\"\n",
      "aws s3 cp \"s3://mousebrainatlas-data/CSHL_data_processed/MD662/MD662_alignedTo_MD662&661-F115-2017.06.07-04.11.41_MD662_2_0344_cropbox.txt\" \"/shared/CSHL_data_processed/MD662/MD662_alignedTo_MD662&661-F115-2017.06.07-04.11.41_MD662_2_0344_cropbox.txt\"\n",
      "rm -rf \"/shared/CSHL_data_processed/MD585/MD585_prep2_thumbnail/MD585-N16-2015.07.16-20.32.33_MD585_2_0047_prep2_thumbnail.tif\" && mkdir -p \"/shared/CSHL_data_processed/MD585/MD585_prep2_thumbnail\"\n",
      "aws s3 cp \"s3://mousebrainatlas-data/CSHL_data_processed/MD585/MD585_prep2_thumbnail/MD585-N16-2015.07.16-20.32.33_MD585_2_0047_prep2_thumbnail.tif\" \"/shared/CSHL_data_processed/MD585/MD585_prep2_thumbnail/MD585-N16-2015.07.16-20.32.33_MD585_2_0047_prep2_thumbnail.tif\"\n",
      "rm -rf \"/shared/CSHL_data_processed/MD589/MD589_prep2_thumbnail/MD589-N16-2015.07.30-17.03.43_MD589_3_0048_prep2_thumbnail.tif\" && mkdir -p \"/shared/CSHL_data_processed/MD589/MD589_prep2_thumbnail\"\n",
      "aws s3 cp \"s3://mousebrainatlas-data/CSHL_data_processed/MD589/MD589_prep2_thumbnail/MD589-N16-2015.07.30-17.03.43_MD589_3_0048_prep2_thumbnail.tif\" \"/shared/CSHL_data_processed/MD589/MD589_prep2_thumbnail/MD589-N16-2015.07.30-17.03.43_MD589_3_0048_prep2_thumbnail.tif\"\n",
      "rm -rf \"/shared/CSHL_data_processed/MD590/MD590_prep2_thumbnail/MD590-IHC17-2015.08.10-19.09.09_MD590_2_0050_prep2_thumbnail.tif\" && mkdir -p \"/shared/CSHL_data_processed/MD590/MD590_prep2_thumbnail\"\n",
      "aws s3 cp \"s3://mousebrainatlas-data/CSHL_data_processed/MD590/MD590_prep2_thumbnail/MD590-IHC17-2015.08.10-19.09.09_MD590_2_0050_prep2_thumbnail.tif\" \"/shared/CSHL_data_processed/MD590/MD590_prep2_thumbnail/MD590-IHC17-2015.08.10-19.09.09_MD590_2_0050_prep2_thumbnail.tif\"\n",
      "rm -rf \"/shared/CSHL_data_processed/MD591/MD591_prep2_thumbnail/MD591-IHC17-2015.08.28-04.23.47_MD591_1_0049_prep2_thumbnail.tif\" && mkdir -p \"/shared/CSHL_data_processed/MD591/MD591_prep2_thumbnail\"\n",
      "aws s3 cp \"s3://mousebrainatlas-data/CSHL_data_processed/MD591/MD591_prep2_thumbnail/MD591-IHC17-2015.08.28-04.23.47_MD591_1_0049_prep2_thumbnail.tif\" \"/shared/CSHL_data_processed/MD591/MD591_prep2_thumbnail/MD591-IHC17-2015.08.28-04.23.47_MD591_1_0049_prep2_thumbnail.tif\"\n",
      "rm -rf \"/shared/CSHL_data_processed/MD592/MD592_prep2_thumbnail/MD592-N16-2015.08.22-00.50.39_MD592_2_0047_prep2_thumbnail.tif\" && mkdir -p \"/shared/CSHL_data_processed/MD592/MD592_prep2_thumbnail\"\n",
      "aws s3 cp \"s3://mousebrainatlas-data/CSHL_data_processed/MD592/MD592_prep2_thumbnail/MD592-N16-2015.08.22-00.50.39_MD592_2_0047_prep2_thumbnail.tif\" \"/shared/CSHL_data_processed/MD592/MD592_prep2_thumbnail/MD592-N16-2015.08.22-00.50.39_MD592_2_0047_prep2_thumbnail.tif\"\n",
      "rm -rf \"/shared/CSHL_data_processed/MD593/MD593_prep2_thumbnail/MD593-N15-2015.08.21-16.53.02_MD593_3_0045_prep2_thumbnail.tif\" && mkdir -p \"/shared/CSHL_data_processed/MD593/MD593_prep2_thumbnail\"\n",
      "aws s3 cp \"s3://mousebrainatlas-data/CSHL_data_processed/MD593/MD593_prep2_thumbnail/MD593-N15-2015.08.21-16.53.02_MD593_3_0045_prep2_thumbnail.tif\" \"/shared/CSHL_data_processed/MD593/MD593_prep2_thumbnail/MD593-N15-2015.08.21-16.53.02_MD593_3_0045_prep2_thumbnail.tif\"\n",
      "rm -rf \"/shared/CSHL_data_processed/MD594/MD594_prep2_thumbnail/MD594-IHC16-2015.08.26-16.11.01_MD594_1_0046_prep2_thumbnail.tif\" && mkdir -p \"/shared/CSHL_data_processed/MD594/MD594_prep2_thumbnail\"\n",
      "aws s3 cp \"s3://mousebrainatlas-data/CSHL_data_processed/MD594/MD594_prep2_thumbnail/MD594-IHC16-2015.08.26-16.11.01_MD594_1_0046_prep2_thumbnail.tif\" \"/shared/CSHL_data_processed/MD594/MD594_prep2_thumbnail/MD594-IHC16-2015.08.26-16.11.01_MD594_1_0046_prep2_thumbnail.tif\"\n",
      "rm -rf \"/shared/CSHL_data_processed/MD595/MD595_prep2_thumbnail/MD595-IHC12-2015.09.15-01.21.39_MD595_2_0035_prep2_thumbnail.tif\" && mkdir -p \"/shared/CSHL_data_processed/MD595/MD595_prep2_thumbnail\"\n",
      "aws s3 cp \"s3://mousebrainatlas-data/CSHL_data_processed/MD595/MD595_prep2_thumbnail/MD595-IHC12-2015.09.15-01.21.39_MD595_2_0035_prep2_thumbnail.tif\" \"/shared/CSHL_data_processed/MD595/MD595_prep2_thumbnail/MD595-IHC12-2015.09.15-01.21.39_MD595_2_0035_prep2_thumbnail.tif\"\n",
      "rm -rf \"/shared/CSHL_data_processed/MD598/MD598_prep2_thumbnail/MD598-N18-2015.09.29-17.40.03_MD598_3_0054_prep2_thumbnail.tif\" && mkdir -p \"/shared/CSHL_data_processed/MD598/MD598_prep2_thumbnail\"\n",
      "aws s3 cp \"s3://mousebrainatlas-data/CSHL_data_processed/MD598/MD598_prep2_thumbnail/MD598-N18-2015.09.29-17.40.03_MD598_3_0054_prep2_thumbnail.tif\" \"/shared/CSHL_data_processed/MD598/MD598_prep2_thumbnail/MD598-N18-2015.09.29-17.40.03_MD598_3_0054_prep2_thumbnail.tif\"\n",
      "rm -rf \"/shared/CSHL_data_processed/MD599/MD599_prep2_thumbnail/MD599-N19-2015.10.02-18.12.13_MD599_3_0057_prep2_thumbnail.tif\" && mkdir -p \"/shared/CSHL_data_processed/MD599/MD599_prep2_thumbnail\"\n",
      "aws s3 cp \"s3://mousebrainatlas-data/CSHL_data_processed/MD599/MD599_prep2_thumbnail/MD599-N19-2015.10.02-18.12.13_MD599_3_0057_prep2_thumbnail.tif\" \"/shared/CSHL_data_processed/MD599/MD599_prep2_thumbnail/MD599-N19-2015.10.02-18.12.13_MD599_3_0057_prep2_thumbnail.tif\"\n",
      "rm -rf \"/shared/CSHL_data_processed/MD602/MD602_prep2_thumbnail/MD602-N19-2015.12.01-16.24.09_MD602_2_0056_prep2_thumbnail.tif\" && mkdir -p \"/shared/CSHL_data_processed/MD602/MD602_prep2_thumbnail\"\n",
      "aws s3 cp \"s3://mousebrainatlas-data/CSHL_data_processed/MD602/MD602_prep2_thumbnail/MD602-N19-2015.12.01-16.24.09_MD602_2_0056_prep2_thumbnail.tif\" \"/shared/CSHL_data_processed/MD602/MD602_prep2_thumbnail/MD602-N19-2015.12.01-16.24.09_MD602_2_0056_prep2_thumbnail.tif\"\n",
      "rm -rf \"/shared/CSHL_data_processed/MD603/MD603_prep2_thumbnail/MD603-N11-2016.03.02-12.51.47_MD603_1_0031_prep2_thumbnail.tif\" && mkdir -p \"/shared/CSHL_data_processed/MD603/MD603_prep2_thumbnail\"\n",
      "aws s3 cp \"s3://mousebrainatlas-data/CSHL_data_processed/MD603/MD603_prep2_thumbnail/MD603-N11-2016.03.02-12.51.47_MD603_1_0031_prep2_thumbnail.tif\" \"/shared/CSHL_data_processed/MD603/MD603_prep2_thumbnail/MD603-N11-2016.03.02-12.51.47_MD603_1_0031_prep2_thumbnail.tif\"\n",
      "rm -rf \"/shared/CSHL_data_processed/MD635/MD635_prep2_thumbnail/MD635-F25-2016.05.18-21.02.30_MD635_3_0075_prep2_thumbnail.tif\" && mkdir -p \"/shared/CSHL_data_processed/MD635/MD635_prep2_thumbnail\"\n",
      "aws s3 cp \"s3://mousebrainatlas-data/CSHL_data_processed/MD635/MD635_prep2_thumbnail/MD635-F25-2016.05.18-21.02.30_MD635_3_0075_prep2_thumbnail.tif\" \"/shared/CSHL_data_processed/MD635/MD635_prep2_thumbnail/MD635-F25-2016.05.18-21.02.30_MD635_3_0075_prep2_thumbnail.tif\"\n",
      "rm -rf \"/shared/CSHL_data_processed/MD653/MD653_prep2_thumbnail/MD653-F15-2016.12.20-21.04.12_MD653_1_0043_prep2_thumbnail.tif\" && mkdir -p \"/shared/CSHL_data_processed/MD653/MD653_prep2_thumbnail\"\n",
      "aws s3 cp \"s3://mousebrainatlas-data/CSHL_data_processed/MD653/MD653_prep2_thumbnail/MD653-F15-2016.12.20-21.04.12_MD653_1_0043_prep2_thumbnail.tif\" \"/shared/CSHL_data_processed/MD653/MD653_prep2_thumbnail/MD653-F15-2016.12.20-21.04.12_MD653_1_0043_prep2_thumbnail.tif\"\n",
      "rm -rf \"/shared/CSHL_data_processed/MD652/MD652_prep2_thumbnail/MD652-F15-2016.12.16-20.45.52_MD652_3_0045_prep2_thumbnail.tif\" && mkdir -p \"/shared/CSHL_data_processed/MD652/MD652_prep2_thumbnail\"\n",
      "aws s3 cp \"s3://mousebrainatlas-data/CSHL_data_processed/MD652/MD652_prep2_thumbnail/MD652-F15-2016.12.16-20.45.52_MD652_3_0045_prep2_thumbnail.tif\" \"/shared/CSHL_data_processed/MD652/MD652_prep2_thumbnail/MD652-F15-2016.12.16-20.45.52_MD652_3_0045_prep2_thumbnail.tif\"\n"
     ]
    },
    {
     "name": "stdout",
     "output_type": "stream",
     "text": [
      "rm -rf \"/shared/CSHL_data_processed/MD642/MD642_prep2_thumbnail/MD642-N14-2017.01.18-16.25.58_MD642_2_0041_prep2_thumbnail.tif\" && mkdir -p \"/shared/CSHL_data_processed/MD642/MD642_prep2_thumbnail\"\n",
      "aws s3 cp \"s3://mousebrainatlas-data/CSHL_data_processed/MD642/MD642_prep2_thumbnail/MD642-N14-2017.01.18-16.25.58_MD642_2_0041_prep2_thumbnail.tif\" \"/shared/CSHL_data_processed/MD642/MD642_prep2_thumbnail/MD642-N14-2017.01.18-16.25.58_MD642_2_0041_prep2_thumbnail.tif\"\n",
      "rm -rf \"/shared/CSHL_data_processed/MD657/MD657_prep2_thumbnail/MD657-N13-2017.02.22-14.33.34_MD657_3_0039_prep2_thumbnail.tif\" && mkdir -p \"/shared/CSHL_data_processed/MD657/MD657_prep2_thumbnail\"\n",
      "aws s3 cp \"s3://mousebrainatlas-data/CSHL_data_processed/MD657/MD657_prep2_thumbnail/MD657-N13-2017.02.22-14.33.34_MD657_3_0039_prep2_thumbnail.tif\" \"/shared/CSHL_data_processed/MD657/MD657_prep2_thumbnail/MD657-N13-2017.02.22-14.33.34_MD657_3_0039_prep2_thumbnail.tif\"\n",
      "rm -rf \"/shared/CSHL_data_processed/MD658/MD658_prep2_thumbnail/MD658-N18-2017.03.31-17.34.22_MD658_2_0053_prep2_thumbnail.tif\" && mkdir -p \"/shared/CSHL_data_processed/MD658/MD658_prep2_thumbnail\"\n",
      "aws s3 cp \"s3://mousebrainatlas-data/CSHL_data_processed/MD658/MD658_prep2_thumbnail/MD658-N18-2017.03.31-17.34.22_MD658_2_0053_prep2_thumbnail.tif\" \"/shared/CSHL_data_processed/MD658/MD658_prep2_thumbnail/MD658-N18-2017.03.31-17.34.22_MD658_2_0053_prep2_thumbnail.tif\"\n",
      "rm -rf \"/shared/CSHL_data_processed/MD661/MD661_prep2_thumbnail/MD662&661-F30-2017.06.05-14.49.48_MD661_1_0088_prep2_thumbnail.tif\" && mkdir -p \"/shared/CSHL_data_processed/MD661/MD661_prep2_thumbnail\"\n",
      "aws s3 cp \"s3://mousebrainatlas-data/CSHL_data_processed/MD661/MD661_prep2_thumbnail/MD662&661-F30-2017.06.05-14.49.48_MD661_1_0088_prep2_thumbnail.tif\" \"/shared/CSHL_data_processed/MD661/MD661_prep2_thumbnail/MD662&661-F30-2017.06.05-14.49.48_MD661_1_0088_prep2_thumbnail.tif\"\n",
      "rm -rf \"/shared/CSHL_data_processed/MD662/MD662_prep2_thumbnail/MD662&661-F35-2017.06.05-17.08.18_MD662_1_0103_prep2_thumbnail.tif\" && mkdir -p \"/shared/CSHL_data_processed/MD662/MD662_prep2_thumbnail\"\n",
      "aws s3 cp \"s3://mousebrainatlas-data/CSHL_data_processed/MD662/MD662_prep2_thumbnail/MD662&661-F35-2017.06.05-17.08.18_MD662_1_0103_prep2_thumbnail.tif\" \"/shared/CSHL_data_processed/MD662/MD662_prep2_thumbnail/MD662&661-F35-2017.06.05-17.08.18_MD662_1_0103_prep2_thumbnail.tif\"\n"
     ]
    }
   ],
   "source": [
    "%load_ext autoreload\n",
    "%autoreload 2\n",
    "\n",
    "import os\n",
    "import sys\n",
    "import time\n",
    "\n",
    "sys.path.append(os.path.join(os.environ['REPO_DIR'], 'utilities'))\n",
    "from data_manager import *\n",
    "from metadata import *\n",
    "from distributed_utilities import *"
   ]
  },
  {
   "cell_type": "markdown",
   "metadata": {},
   "source": [
    "# Compute scoremaps for linearly normalized version"
   ]
  },
  {
   "cell_type": "code",
   "execution_count": 18,
   "metadata": {
    "scrolled": true
   },
   "outputs": [
    {
     "name": "stderr",
     "output_type": "stream",
     "text": [
      "running svm classifier ...Child returned 0\n",
      "16 nodes available.\n"
     ]
    },
    {
     "name": "stdout",
     "output_type": "stream",
     "text": [
      "rm -f ~/stderr_*; rm -f ~/stdout_*\n"
     ]
    },
    {
     "name": "stderr",
     "output_type": "stream",
     "text": [
      "Jobs submitted. Use wait_qsub_complete() to wait for all execution to finish.\n",
      "qsub returned.\n",
      "done in 317.484612 seconds\n",
      "Resampling scoremaps ...Child returned 0\n",
      "16 nodes available.\n"
     ]
    },
    {
     "name": "stdout",
     "output_type": "stream",
     "text": [
      "rm -f ~/stderr_*; rm -f ~/stdout_*\n"
     ]
    },
    {
     "name": "stderr",
     "output_type": "stream",
     "text": [
      "Jobs submitted. Use wait_qsub_complete() to wait for all execution to finish.\n",
      "qsub returned.\n",
      "done in 70.839120 seconds\n",
      "running svm classifier ...Child returned 0\n",
      "16 nodes available.\n"
     ]
    },
    {
     "name": "stdout",
     "output_type": "stream",
     "text": [
      "rm -f ~/stderr_*; rm -f ~/stdout_*\n"
     ]
    },
    {
     "name": "stderr",
     "output_type": "stream",
     "text": [
      "Jobs submitted. Use wait_qsub_complete() to wait for all execution to finish.\n",
      "qsub returned.\n",
      "done in 322.478262 seconds\n",
      "Resampling scoremaps ...Child returned 0\n",
      "16 nodes available.\n"
     ]
    },
    {
     "name": "stdout",
     "output_type": "stream",
     "text": [
      "rm -f ~/stderr_*; rm -f ~/stdout_*\n"
     ]
    },
    {
     "name": "stderr",
     "output_type": "stream",
     "text": [
      "Jobs submitted. Use wait_qsub_complete() to wait for all execution to finish.\n",
      "qsub returned.\n",
      "done in 65.922713 seconds\n"
     ]
    }
   ],
   "source": [
    "stack = 'MD657'\n",
    "\n",
    "for classifier_id in range(83, 85):\n",
    "    t = time.time()\n",
    "    sys.stderr.write('running svm classifier ...')\n",
    "\n",
    "    run_distributed(command='%(script_path)s %(stack)s \\'%%(filenames)s\\' %(classifier_id)d' % \\\n",
    "                    {'script_path': os.path.join(REPO_DIR, 'learning', 'apply_classifiers_v4.py'),\n",
    "                    'stack': stack,\n",
    "                    'classifier_id': classifier_id},\n",
    "    #                 kwargs_list=dict(filenames=metadata_cache['valid_filenames'][stack]),\n",
    "    #                 kwargs_list=dict(filenames=[metadata_cache['sections_to_filenames'][stack][150]]),\n",
    "                    kwargs_list=dict(filenames=[fn for fn in metadata_cache['valid_filenames'][stack]\n",
    "                                               if fn.split('-')[1][0] == 'F']),\n",
    "                    argument_type='list2')\n",
    "\n",
    "    wait_qsub_complete()\n",
    "\n",
    "    sys.stderr.write('done in %f seconds\\n' % (time.time() - t)) # 302s\n",
    "\n",
    "    t = time.time()\n",
    "    sys.stderr.write('Resampling scoremaps ...')\n",
    "\n",
    "    # downscale = 8\n",
    "    downscale = 32\n",
    "\n",
    "    run_distributed(command='%(script_path)s %(stack)s \\'%%(filenames)s\\' %(classifier_id)d %(downscale)d' % \\\n",
    "                    {'script_path': os.path.join(REPO_DIR, 'learning', 'resample_scoremaps_v4.py'),\n",
    "                    'stack': stack,\n",
    "                    'classifier_id': classifier_id,\n",
    "                    'downscale': downscale},\n",
    "    #                 kwargs_list=dict(filenames=metadata_cache['valid_filenames'][stack]),\n",
    "    #                 kwargs_list=dict(filenames=[metadata_cache['sections_to_filenames'][stack][150]]),\n",
    "                    kwargs_list=dict(filenames=[fn for fn in metadata_cache['valid_filenames'][stack]\n",
    "                               if fn.split('-')[1][0] == 'F']),\n",
    "                    argument_type='list2'\n",
    "                   )\n",
    "\n",
    "\n",
    "    wait_qsub_complete()\n",
    "\n",
    "    sys.stderr.write('done in %f seconds\\n' % (time.time() - t)) # 277s"
   ]
  },
  {
   "cell_type": "markdown",
   "metadata": {},
   "source": [
    "# Regular version - different stacks"
   ]
  },
  {
   "cell_type": "code",
   "execution_count": 11,
   "metadata": {
    "collapsed": true
   },
   "outputs": [],
   "source": [
    "detector_id = 15"
   ]
  },
  {
   "cell_type": "code",
   "execution_count": null,
   "metadata": {
    "scrolled": true
   },
   "outputs": [
    {
     "name": "stderr",
     "output_type": "stream",
     "text": [
      "running svm classifier ...5 nodes available.\n",
      "Jobs submitted. Use wait_qsub_complete() to wait for all execution to finish.\n"
     ]
    },
    {
     "name": "stdout",
     "output_type": "stream",
     "text": [
      "rm -f ~/stderr_*; rm -f ~/stdout_*\n"
     ]
    },
    {
     "name": "stderr",
     "output_type": "stream",
     "text": [
      "qsub returned.\n",
      "done in 391.731642 seconds\n",
      "Resampling scoremaps ...5 nodes available.\n",
      "Jobs submitted. Use wait_qsub_complete() to wait for all execution to finish.\n"
     ]
    },
    {
     "name": "stdout",
     "output_type": "stream",
     "text": [
      "rm -f ~/stderr_*; rm -f ~/stdout_*\n"
     ]
    },
    {
     "name": "stderr",
     "output_type": "stream",
     "text": [
      "qsub returned.\n",
      "done in 125.535488 seconds\n",
      "visualize scoremaps ...5 nodes available.\n",
      "Jobs submitted. Use wait_qsub_complete() to wait for all execution to finish.\n"
     ]
    },
    {
     "name": "stdout",
     "output_type": "stream",
     "text": [
      "rm -f ~/stderr_*; rm -f ~/stdout_*\n"
     ]
    }
   ],
   "source": [
    "for stack in [\n",
    "# 'MD585',\n",
    " 'MD589',\n",
    " 'MD590',\n",
    " 'MD591',\n",
    " 'MD592',\n",
    " 'MD593',\n",
    " 'MD594',\n",
    " 'MD595',\n",
    " 'MD598',\n",
    " 'MD599',\n",
    " 'MD602',\n",
    " 'MD603',\n",
    "]:\n",
    "    \n",
    "    t = time.time()\n",
    "    sys.stderr.write('running svm classifier ...')\n",
    "\n",
    "    run_distributed(command='%(script_path)s %(stack)s \\'%%(filenames)s\\' %(detector_id)d' % \\\n",
    "                    {'script_path': os.path.join(REPO_DIR, 'learning', 'apply_classifiers_v5.py'),\n",
    "                    'stack': stack,\n",
    "                    'detector_id': detector_id},\n",
    "                    kwargs_list=dict(filenames=metadata_cache['valid_filenames'][stack]),\n",
    "    #                 kwargs_list=dict(filenames=[fn for fn in metadata_cache['valid_filenames'][stack]\n",
    "    #                                             if fn.split('-')[1][0] == 'F']),\n",
    "    #                 kwargs_list=dict(filenames=q),\n",
    "                    argument_type='list2')\n",
    "\n",
    "    wait_qsub_complete()\n",
    "\n",
    "    sys.stderr.write('done in %f seconds\\n' % (time.time() - t)) \n",
    "\n",
    "    # 16 m4.4xlarge, 411s/140s\n",
    "    \n",
    "    ########################################################\n",
    "    \n",
    "    # Feature computation window spacing is 56, so the equivalent downscale factor is 56. Still larger than 32.\n",
    "    # It does not seems necessary to generate down8 score maps because the extra data is interpolated anyway.\n",
    "    t = time.time()\n",
    "    sys.stderr.write('Resampling scoremaps ...')\n",
    "\n",
    "    # downsample = 8\n",
    "    downsample = 32\n",
    "\n",
    "    run_distributed(command='%(script_path)s %(stack)s \\'%%(filenames)s\\' %(detector_id)d %(downsample)d' % \\\n",
    "                    {'script_path': os.path.join(REPO_DIR, 'learning', 'resample_scoremaps_v5.py'),\n",
    "                    'stack': stack,\n",
    "                    'detector_id': detector_id,\n",
    "                    'downsample': downsample},\n",
    "                    kwargs_list=dict(filenames=metadata_cache['valid_filenames'][stack]),\n",
    "    #                 kwargs_list=dict(filenames=[fn for fn in metadata_cache['valid_filenames'][stack]\n",
    "    #                            if fn.split('-')[1][0] == 'F']),\n",
    "                    argument_type='list2'\n",
    "                   )\n",
    "\n",
    "\n",
    "    wait_qsub_complete()\n",
    "\n",
    "    sys.stderr.write('done in %f seconds\\n' % (time.time() - t))\n",
    "\n",
    "    # down32, 16 m4.4xlarge, 60s\n",
    "    # down8, 16 m4.4xlarge, 246s\n",
    "    \n",
    "    ##############################################################\n",
    "    \n",
    "    # Must generate down32 scoremap first, \n",
    "    # because even if viz_downsample=8 the scoermaps the script trying to load are still down32.\n",
    "\n",
    "    t = time.time()\n",
    "    sys.stderr.write('visualize scoremaps ...')\n",
    "\n",
    "    add_label_text = False\n",
    "    viz_downsample = 8\n",
    "    # viz_downsample = 32\n",
    "    cmap = 'jet'\n",
    "#     background_image_version = 'grayDefaultJpeg'\n",
    "    background_image_version = 'grayJpeg'\n",
    "    # background_image_version = 'contrastStretched'\n",
    "\n",
    "    run_distributed(command='ROOT_DIR=/scratch/ %(script_path)s %(stack)s \\'%%(filenames)s\\' %(detector_id)d %(downsample)d --cmap %(cmap)s %(add_label_text)s -b %(bg_img_ver)s' % \\\n",
    "                    {'script_path': os.path.join(REPO_DIR, 'learning', 'visualize_scoremaps_v5.py'),\n",
    "                    'stack': stack,\n",
    "                     'detector_id': detector_id,\n",
    "                    'downsample': viz_downsample,\n",
    "                     'cmap': cmap,\n",
    "                    'add_label_text': '-a' if add_label_text else '',\n",
    "                    'bg_img_ver': background_image_version},\n",
    "                    kwargs_list=dict(filenames=metadata_cache['valid_filenames'][stack]),\n",
    "    #                 kwargs_list=dict(filenames=[fn for fn in metadata_cache['valid_filenames'][stack]\n",
    "    #                            if fn.split('-')[1][0] == 'F']),\n",
    "                    argument_type='list2'\n",
    "                   )\n",
    "\n",
    "    wait_qsub_complete()\n",
    "\n",
    "    sys.stderr.write('done in %f seconds\\n' % (time.time() - t))\n",
    "\n",
    "    # For one stack\n",
    "    # 16 nodes, downsample 32, 75s\n",
    "    # 8 nodes, downscale 8, 6000s\n",
    "    # 8 nodes, downscale 8, scratch/ 1510s\n",
    "    # 16 m4.4xlarge, downscale 8, scratch/ 700s\n",
    "    \n",
    "    ####################################################################################\n",
    "    \n",
    "    \n",
    "    t = time.time()\n",
    "    sys.stderr.write('constructing score volumes ...')\n",
    "\n",
    "    use_nissl_only = False\n",
    "    volume_downscale = 32\n",
    "\n",
    "    run_distributed(command='%(script_path)s %(stack)s %%(structure)s %(detector_id)d %(downscale)d %(use_nissl_only)s' % \\\n",
    "                    {'script_path': os.path.join(REPO_DIR, 'reconstruct', 'construct_score_volume_v5.py'),\n",
    "                    'stack': stack,\n",
    "                    'detector_id': detector_id,\n",
    "                    'downscale': volume_downscale,\n",
    "                    'use_nissl_only': '-n' if use_nissl_only else ''},\n",
    "                    kwargs_list=dict(structure=all_known_structures),\n",
    "    #                 kwargs_list=dict(structure=['VLL']),\n",
    "                    argument_type='single')\n",
    "\n",
    "    wait_qsub_complete()\n",
    "\n",
    "    sys.stderr.write('done in %f seconds\\n' % (time.time() - t))\n",
    "\n",
    "    # 16 m4.4xlarge, downscale 32, 55s\n",
    "    \n",
    "    ####################################################################################\n",
    "    \n",
    "    t = time.time()\n",
    "    sys.stderr.write('compute score volume gradients...')\n",
    "\n",
    "    run_distributed(command='ROOT_DIR=/scratch/ %(script_path)s %(stack)s %%(structure)s %(detector_id)d %(downscale)d' % \\\n",
    "                    {'script_path': os.path.join(REPO_DIR, 'reconstruct', 'compute_score_volume_gradients_v5.py'),\n",
    "                    'stack': stack,\n",
    "                    'detector_id': detector_id,\n",
    "                    'downscale': volume_downscale},\n",
    "                    kwargs_list=dict(structure=all_known_structures),\n",
    "    #                 kwargs_list=dict(structure=['VLL']),\n",
    "                    argument_type='single')\n",
    "\n",
    "    wait_qsub_complete()\n",
    "\n",
    "    sys.stderr.write('done in %f seconds\\n' % (time.time() - t)) \n",
    "\n",
    "    # 55 seconds (16 nodes write to respective local /scratch)\n",
    "    # More than 1 simul. processes are not beneficial as they cause local write contention.\n",
    "    # 156 seconds (16 nodes simul. write to /shared)\n",
    "    # 310 seconds (single node, sequential write to /shared)\n",
    "    # 16 m4.4xlarge, downscale 32, 55s"
   ]
  },
  {
   "cell_type": "markdown",
   "metadata": {},
   "source": [
    "# Regular version - one stack"
   ]
  },
  {
   "cell_type": "code",
   "execution_count": 14,
   "metadata": {
    "collapsed": true,
    "scrolled": true
   },
   "outputs": [],
   "source": [
    "# classifier_id = 38\n",
    "stack = 'MD658'\n",
    "detector_id = 13"
   ]
  },
  {
   "cell_type": "code",
   "execution_count": 15,
   "metadata": {
    "collapsed": true,
    "scrolled": true
   },
   "outputs": [],
   "source": [
    "# m = check_output(\"aws s3 ls s3://mousebrainatlas-data/CSHL_patch_scores/MD589/\".split()).split('\\n')\n",
    "# q = list(set(metadata_cache['valid_filenames'][stack]) - set([f.strip()[4:-12] for f in m]))"
   ]
  },
  {
   "cell_type": "code",
   "execution_count": 3,
   "metadata": {},
   "outputs": [
    {
     "name": "stdout",
     "output_type": "stream",
     "text": [
      "Setting autoscaling group cfncluster-yuncongcluster-ComputeFleet-15GRGL8BMOLW2 capaticy to 16...it may take more than 5 minutes for SGE to know new hosts.\n"
     ]
    }
   ],
   "source": [
    "request_compute_nodes(16, 'yuncong')"
   ]
  },
  {
   "cell_type": "code",
   "execution_count": 6,
   "metadata": {},
   "outputs": [
    {
     "data": {
      "text/plain": [
       "16"
      ]
     },
     "execution_count": 6,
     "metadata": {},
     "output_type": "execute_result"
    }
   ],
   "source": [
    "get_num_nodes()"
   ]
  },
  {
   "cell_type": "code",
   "execution_count": 18,
   "metadata": {},
   "outputs": [
    {
     "name": "stderr",
     "output_type": "stream",
     "text": [
      "running svm classifier ...16 nodes available.\n",
      "Jobs submitted. Use wait_qsub_complete() to wait for all execution to finish.\n"
     ]
    },
    {
     "name": "stdout",
     "output_type": "stream",
     "text": [
      "rm -f ~/stderr_*; rm -f ~/stdout_*\n"
     ]
    },
    {
     "name": "stderr",
     "output_type": "stream",
     "text": [
      "qsub returned.\n",
      "done in 140.688367 seconds\n"
     ]
    }
   ],
   "source": [
    "t = time.time()\n",
    "sys.stderr.write('running svm classifier ...')\n",
    "\n",
    "run_distributed(command='%(script_path)s %(stack)s \\'%%(filenames)s\\' %(detector_id)d' % \\\n",
    "                {'script_path': os.path.join(REPO_DIR, 'learning', 'apply_classifiers_v5.py'),\n",
    "                'stack': stack,\n",
    "                'detector_id': detector_id},\n",
    "                kwargs_list=dict(filenames=metadata_cache['valid_filenames'][stack]),\n",
    "#                 kwargs_list=dict(filenames=[fn for fn in metadata_cache['valid_filenames'][stack]\n",
    "#                                             if fn.split('-')[1][0] == 'F']),\n",
    "#                 kwargs_list=dict(filenames=q),\n",
    "                argument_type='list2')\n",
    "\n",
    "wait_qsub_complete()\n",
    "\n",
    "sys.stderr.write('done in %f seconds\\n' % (time.time() - t)) \n",
    "\n",
    "# 16 m4.4xlarge, 411s/140s"
   ]
  },
  {
   "cell_type": "code",
   "execution_count": 19,
   "metadata": {
    "scrolled": true
   },
   "outputs": [
    {
     "name": "stderr",
     "output_type": "stream",
     "text": [
      "Resampling scoremaps ...16 nodes available.\n"
     ]
    },
    {
     "name": "stdout",
     "output_type": "stream",
     "text": [
      "rm -f ~/stderr_*; rm -f ~/stdout_*\n"
     ]
    },
    {
     "name": "stderr",
     "output_type": "stream",
     "text": [
      "Jobs submitted. Use wait_qsub_complete() to wait for all execution to finish.\n",
      "qsub returned.\n",
      "done in 55.400345 seconds\n"
     ]
    }
   ],
   "source": [
    "# Feature computation window spacing is 56, so the equivalent downscale factor is 56. Still larger than 32.\n",
    "# It does not seems necessary to generate down8 score maps because the extra data is interpolated anyway.\n",
    "\n",
    "t = time.time()\n",
    "sys.stderr.write('Resampling scoremaps ...')\n",
    "\n",
    "# downsample = 8\n",
    "downsample = 32\n",
    "\n",
    "run_distributed(command='%(script_path)s %(stack)s \\'%%(filenames)s\\' %(detector_id)d %(downsample)d' % \\\n",
    "                {'script_path': os.path.join(REPO_DIR, 'learning', 'resample_scoremaps_v5.py'),\n",
    "                'stack': stack,\n",
    "                'detector_id': detector_id,\n",
    "                'downsample': downsample},\n",
    "                kwargs_list=dict(filenames=metadata_cache['valid_filenames'][stack]),\n",
    "#                 kwargs_list=dict(filenames=[fn for fn in metadata_cache['valid_filenames'][stack]\n",
    "#                            if fn.split('-')[1][0] == 'F']),\n",
    "                argument_type='list2'\n",
    "               )\n",
    "\n",
    "\n",
    "wait_qsub_complete()\n",
    "\n",
    "sys.stderr.write('done in %f seconds\\n' % (time.time() - t))\n",
    "\n",
    "# down32, 16 m4.4xlarge, 60s\n",
    "# down8, 16 m4.4xlarge, 246s"
   ]
  },
  {
   "cell_type": "code",
   "execution_count": 20,
   "metadata": {
    "scrolled": false
   },
   "outputs": [
    {
     "name": "stderr",
     "output_type": "stream",
     "text": [
      "visualize scoremaps ...16 nodes available.\n",
      "Jobs submitted. Use wait_qsub_complete() to wait for all execution to finish.\n"
     ]
    },
    {
     "name": "stdout",
     "output_type": "stream",
     "text": [
      "rm -f ~/stderr_*; rm -f ~/stdout_*\n"
     ]
    },
    {
     "name": "stderr",
     "output_type": "stream",
     "text": [
      "qsub returned.\n",
      "done in 446.751777 seconds\n"
     ]
    }
   ],
   "source": [
    "# Must generate down32 scoremap first, \n",
    "# because even if viz_downsample=8 the scoermaps the script trying to load are still down32.\n",
    "\n",
    "# This requires having grayJpeg output available first.\n",
    "\n",
    "t = time.time()\n",
    "sys.stderr.write('visualize scoremaps ...')\n",
    "\n",
    "add_label_text = False\n",
    "viz_downsample = 8\n",
    "# viz_downsample = 32\n",
    "cmap = 'jet'\n",
    "background_image_version = 'grayDefaultJpeg'\n",
    "# background_image_version = 'grayJpeg'\n",
    "# background_image_version = 'contrastStretched'\n",
    "\n",
    "run_distributed(command='ROOT_DIR=/scratch/ %(script_path)s %(stack)s \\'%%(filenames)s\\' %(detector_id)d %(downsample)d --cmap %(cmap)s %(add_label_text)s -b %(bg_img_ver)s' % \\\n",
    "                {'script_path': os.path.join(REPO_DIR, 'learning', 'visualize_scoremaps_v5.py'),\n",
    "                'stack': stack,\n",
    "                 'detector_id': detector_id,\n",
    "                'downsample': viz_downsample,\n",
    "                 'cmap': cmap,\n",
    "                'add_label_text': '-a' if add_label_text else '',\n",
    "                'bg_img_ver': background_image_version},\n",
    "                kwargs_list=dict(filenames=metadata_cache['valid_filenames'][stack]),\n",
    "#                 kwargs_list=dict(filenames=[fn for fn in metadata_cache['valid_filenames'][stack]\n",
    "#                            if fn.split('-')[1][0] == 'F']),\n",
    "                argument_type='list2'\n",
    "               )\n",
    "\n",
    "wait_qsub_complete()\n",
    "\n",
    "sys.stderr.write('done in %f seconds\\n' % (time.time() - t))\n",
    "\n",
    "# For one stack\n",
    "# 16 nodes, downsample 32, 75s\n",
    "# 8 nodes, downscale 8, 6000s\n",
    "# 8 nodes, downscale 8, scratch/ 1510s\n",
    "# 16 m4.4xlarge, downscale 8, scratch/ 700s"
   ]
  },
  {
   "cell_type": "markdown",
   "metadata": {},
   "source": [
    "## Construct score volumes"
   ]
  },
  {
   "cell_type": "code",
   "execution_count": 6,
   "metadata": {
    "collapsed": true
   },
   "outputs": [],
   "source": [
    "stack = 'MD589'\n",
    "detector_id = 13"
   ]
  },
  {
   "cell_type": "code",
   "execution_count": 28,
   "metadata": {},
   "outputs": [
    {
     "name": "stdout",
     "output_type": "stream",
     "text": [
      "Setting autoscaling group cfncluster-yuncongcluster-ComputeFleet-15GRGL8BMOLW2 capaticy to 0...it may take more than 5 minutes for SGE to know new hosts.\n"
     ]
    }
   ],
   "source": [
    "request_compute_nodes(0, 'yuncong')"
   ]
  },
  {
   "cell_type": "code",
   "execution_count": 30,
   "metadata": {
    "scrolled": true
   },
   "outputs": [
    {
     "name": "stderr",
     "output_type": "stream",
     "text": [
      "constructing score volumes ...16 nodes available.\n"
     ]
    },
    {
     "name": "stdout",
     "output_type": "stream",
     "text": [
      "rm -f ~/stderr_*; rm -f ~/stdout_*\n"
     ]
    },
    {
     "name": "stderr",
     "output_type": "stream",
     "text": [
      "Jobs submitted. Use wait_qsub_complete() to wait for all execution to finish.\n",
      "qsub returned.\n",
      "done in 55.890324 seconds\n"
     ]
    }
   ],
   "source": [
    "t = time.time()\n",
    "sys.stderr.write('constructing score volumes ...')\n",
    "\n",
    "use_nissl_only = False\n",
    "volume_downscale = 32\n",
    "\n",
    "run_distributed(command='%(script_path)s %(stack)s %%(structure)s %(detector_id)d %(downscale)d %(use_nissl_only)s' % \\\n",
    "                {'script_path': os.path.join(REPO_DIR, 'reconstruct', 'construct_score_volume_v5.py'),\n",
    "                'stack': stack,\n",
    "                'detector_id': detector_id,\n",
    "                'downscale': volume_downscale,\n",
    "                'use_nissl_only': '-n' if use_nissl_only else ''},\n",
    "                kwargs_list=dict(structure=all_known_structures),\n",
    "#                 kwargs_list=dict(structure=['VLL']),\n",
    "                argument_type='single')\n",
    "\n",
    "wait_qsub_complete()\n",
    "\n",
    "sys.stderr.write('done in %f seconds\\n' % (time.time() - t))\n",
    "\n",
    "# 16 m4.4xlarge, downscale 32, 55s"
   ]
  },
  {
   "cell_type": "code",
   "execution_count": 31,
   "metadata": {
    "scrolled": true
   },
   "outputs": [
    {
     "name": "stderr",
     "output_type": "stream",
     "text": [
      "compute score volume gradients...16 nodes available.\n"
     ]
    },
    {
     "name": "stdout",
     "output_type": "stream",
     "text": [
      "rm -f ~/stderr_*; rm -f ~/stdout_*\n"
     ]
    },
    {
     "name": "stderr",
     "output_type": "stream",
     "text": [
      "Jobs submitted. Use wait_qsub_complete() to wait for all execution to finish.\n",
      "qsub returned.\n",
      "done in 50.544045 seconds\n"
     ]
    }
   ],
   "source": [
    "t = time.time()\n",
    "sys.stderr.write('compute score volume gradients...')\n",
    "\n",
    "run_distributed(command='ROOT_DIR=/scratch/ %(script_path)s %(stack)s %%(structure)s %(detector_id)d %(downscale)d' % \\\n",
    "                {'script_path': os.path.join(REPO_DIR, 'reconstruct', 'compute_score_volume_gradients_v5.py'),\n",
    "                'stack': stack,\n",
    "                'detector_id': detector_id,\n",
    "                'downscale': volume_downscale},\n",
    "                kwargs_list=dict(structure=all_known_structures),\n",
    "#                 kwargs_list=dict(structure=['VLL']),\n",
    "                argument_type='single')\n",
    "\n",
    "wait_qsub_complete()\n",
    "\n",
    "sys.stderr.write('done in %f seconds\\n' % (time.time() - t)) \n",
    "\n",
    "# 55 seconds (16 nodes write to respective local /scratch)\n",
    "# More than 1 simul. processes are not beneficial as they cause local write contention.\n",
    "# 156 seconds (16 nodes simul. write to /shared)\n",
    "# 310 seconds (single node, sequential write to /shared)\n",
    "# 16 m4.4xlarge, downscale 32, 55s"
   ]
  },
  {
   "cell_type": "markdown",
   "metadata": {},
   "source": [
    "# Global alignment"
   ]
  },
  {
   "cell_type": "code",
   "execution_count": 2,
   "metadata": {
    "collapsed": true
   },
   "outputs": [],
   "source": [
    "# classifier_setting = 38\n",
    "detector_id = 15\n",
    "warp_setting = 16"
   ]
  },
  {
   "cell_type": "code",
   "execution_count": null,
   "metadata": {
    "collapsed": true
   },
   "outputs": [],
   "source": [
    "# structure_subset = ['7N_L', '7N_R', '12N', '5N_L','5N_R','Pn_L', 'Pn_R', 'SNR_L', 'SNR_R', 'VLL_L', 'VLL_R', '7n_L']\n",
    "# structure_subset = ['7N_L', '7N_R', '12N', '5N_L','5N_R','Pn_L', 'Pn_R', 'SNR_L', 'SNR_R', \n",
    "#                     'VLL_L', 'VLL_R', '7n_L', '7n_R', 'Tz_L', 'Tz_R', \n",
    "#                     'VCA_L', 'VCP_R']\n",
    "# structure_subset = ['7N_L', '7N_R', '12N', '5N_L','5N_R','Pn_L', 'Pn_R', 'SNR_L', 'SNR_R', \n",
    "#                     'VLL_L', 'VLL_R', '7n_L', '7n_R', 'Tz_L', 'Tz_R', \n",
    "#                     'VCA_L', 'VCP_R', 'IC', 'SC']\n",
    "structure_subset = ['7N_L', '7N_R', '12N', '5N_L', '5N_R', 'SNR_L', 'SNR_R', 'Pn_L', 'Pn_R',\n",
    "                    'VLL_L', 'VLL_R', '7n_L', '7n_R', 'Tz_L', 'Tz_R', \n",
    "                    'VCA_L', 'VCA_R', 'VCP_L', 'VCP_R']"
   ]
  },
  {
   "cell_type": "code",
   "execution_count": null,
   "metadata": {
    "collapsed": true
   },
   "outputs": [],
   "source": [
    "atlas_name = 'atlasV5'"
   ]
  },
  {
   "cell_type": "code",
   "execution_count": 38,
   "metadata": {},
   "outputs": [
    {
     "name": "stdout",
     "output_type": "stream",
     "text": [
      "Setting autoscaling group cfncluster-yuncongcluster-ComputeFleet-15GRGL8BMOLW2 capaticy to 5...it may take more than 5 minutes for SGE to know new hosts.\n"
     ]
    }
   ],
   "source": [
    "request_compute_nodes(5, 'yuncong')"
   ]
  },
  {
   "cell_type": "code",
   "execution_count": null,
   "metadata": {
    "collapsed": true
   },
   "outputs": [],
   "source": [
    "stacks = ['MD585',\n",
    " 'MD589',\n",
    " 'MD590',\n",
    " 'MD591',\n",
    " 'MD592',\n",
    " 'MD593',\n",
    " 'MD594',\n",
    " 'MD595',\n",
    " 'MD598',\n",
    " 'MD599',\n",
    " 'MD602',\n",
    " 'MD603']"
   ]
  },
  {
   "cell_type": "code",
   "execution_count": null,
   "metadata": {
    "collapsed": true
   },
   "outputs": [],
   "source": [
    "# Align\n",
    "\n",
    "# m4.4xlarge is required.\n",
    "\n",
    "t = time.time()\n",
    "sys.stderr.write('align all subjects to atlas ...')\n",
    "\n",
    "run_distributed(command='%(script_path)s %%(stack)s %(atlas_name)s %(warp_setting)d %(detector_id)d --trial_num 5 --structures \\'%(structures)s\\'' % \\\n",
    "                {'script_path': os.path.join(REPO_DIR, 'registration', 'global_registration_v4.py'),\n",
    "                 'atlas_name': atlas_name,\n",
    "                'warp_setting': warp_setting,\n",
    "                'detector_id': detector_id,\n",
    "                'structures': json.dumps(structure_subset)},\n",
    "                 kwargs_list=dict(stack=stacks),\n",
    "                argument_type='single')\n",
    "\n",
    "wait_qsub_complete()\n",
    "\n",
    "sys.stderr.write('done in %f seconds\\n' % (time.time() - t)) # For one stack, 372s (1 trial); 750s (5 trials)"
   ]
  },
  {
   "cell_type": "code",
   "execution_count": 23,
   "metadata": {},
   "outputs": [
    {
     "name": "stderr",
     "output_type": "stream",
     "text": [
      "transform atlas ...16 nodes available.\n"
     ]
    },
    {
     "name": "stdout",
     "output_type": "stream",
     "text": [
      "rm -f ~/stderr_*; rm -f ~/stdout_*\n"
     ]
    },
    {
     "name": "stderr",
     "output_type": "stream",
     "text": [
      "Jobs submitted. Use wait_qsub_complete() to wait for all execution to finish.\n",
      "qsub returned.\n",
      "done in 45.368512 seconds\n"
     ]
    }
   ],
   "source": [
    "# Transform\n",
    "\n",
    "t = time.time()\n",
    "sys.stderr.write('transform atlas ...')\n",
    "\n",
    "run_distributed(command='%(script_path)s %%(stack)s %(atlas_name)s %(warp_setting)d %(detector_id)d' % \\\n",
    "                {'script_path': os.path.join(REPO_DIR, 'registration', 'transform_brains_v4.py'),\n",
    "                'atlas_name': atlas_name,\n",
    "                'detector_id': detector_id,\n",
    "                 'warp_setting': warp_setting\n",
    "                },\n",
    "                kwargs_list={'stack': stacks},\n",
    "                argument_type='single')\n",
    "\n",
    "wait_qsub_complete()\n",
    "\n",
    "sys.stderr.write('done in %f seconds\\n' % (time.time() - t)) \n",
    "# For one stack, 60 seconds"
   ]
  },
  {
   "cell_type": "code",
   "execution_count": 40,
   "metadata": {
    "scrolled": true
   },
   "outputs": [
    {
     "name": "stderr",
     "output_type": "stream",
     "text": [
      "visualize aligned atlas overlay ...16 nodes available.\n"
     ]
    },
    {
     "name": "stdout",
     "output_type": "stream",
     "text": [
      "rm -f ~/stderr_*; rm -f ~/stdout_*\n"
     ]
    },
    {
     "name": "stderr",
     "output_type": "stream",
     "text": [
      "Jobs submitted. Use wait_qsub_complete() to wait for all execution to finish.\n",
      "qsub returned.\n",
      "done in 111.255946 seconds\n"
     ]
    }
   ],
   "source": [
    "# Visualize\n",
    "\n",
    "t = time.time()\n",
    "sys.stderr.write('visualize aligned atlas overlay ...')\n",
    "\n",
    "# bg_img_version = 'grayDefaultJpeg'\n",
    "bg_img_version = 'grayJpeg'\n",
    "\n",
    "run_distributed(command='%(script_path)s %%(stack)s %(atlas_name)s %(warp_setting)d %(detector_id)d --out_downsample 8 -v %(bg_img_version)s' % \\\n",
    "                {'script_path': os.path.join(REPO_DIR, 'registration', 'visualize_registration_v5.py'),\n",
    "                'atlas_name': atlas_name,\n",
    "                'detector_id': detector_id,\n",
    "                 'warp_setting': warp_setting,\n",
    "                 'bg_img_version': bg_img_version\n",
    "                },\n",
    "                kwargs_list={'stack': stacks},\n",
    "                argument_type='single')\n",
    "\n",
    "wait_qsub_complete()\n",
    "\n",
    "sys.stderr.write('done in %f seconds\\n' % (time.time() - t))\n",
    "# 700s"
   ]
  },
  {
   "cell_type": "markdown",
   "metadata": {},
   "source": [
    "# Local align"
   ]
  },
  {
   "cell_type": "code",
   "execution_count": 4,
   "metadata": {
    "collapsed": true
   },
   "outputs": [],
   "source": [
    "detector_id = 15\n",
    "warp_setting = 17"
   ]
  },
  {
   "cell_type": "code",
   "execution_count": 5,
   "metadata": {
    "collapsed": true
   },
   "outputs": [],
   "source": [
    "atlas_name = 'atlasV5'"
   ]
  },
  {
   "cell_type": "code",
   "execution_count": 6,
   "metadata": {
    "collapsed": true
   },
   "outputs": [],
   "source": [
    "stacks = ['MD585',\n",
    " 'MD589',\n",
    " 'MD590',\n",
    " 'MD591',\n",
    " 'MD592',\n",
    " 'MD593',\n",
    " 'MD594',\n",
    " 'MD595',\n",
    " 'MD598',\n",
    " 'MD599',\n",
    " 'MD602',\n",
    " 'MD603']"
   ]
  },
  {
   "cell_type": "code",
   "execution_count": 44,
   "metadata": {
    "scrolled": true
   },
   "outputs": [
    {
     "name": "stderr",
     "output_type": "stream",
     "text": [
      "LOCAL align ..."
     ]
    },
    {
     "name": "stdout",
     "output_type": "stream",
     "text": [
      "rm -f ~/stderr_*; rm -f ~/stdout_*\n"
     ]
    },
    {
     "name": "stderr",
     "output_type": "stream",
     "text": [
      "16 nodes available.\n",
      "Jobs submitted. Use wait_qsub_complete() to wait for all execution to finish.\n",
      "qsub returned.\n",
      "done in 58488.887352 seconds\n"
     ]
    }
   ],
   "source": [
    "# Local align\n",
    "\n",
    "t = time.time()\n",
    "sys.stderr.write('LOCAL align ...')\n",
    "\n",
    "# stacks = ['MD642', 'MD652', 'MD653', 'MD657', 'MD658']\n",
    "\n",
    "kwargs_list = \\\n",
    "[dict(stack=stack, structures=shell_escape(json.dumps(all_known_structures_sided[f:l+1])))\n",
    "for f,l in first_last_tuples_distribute_over(0, len(all_known_structures_sided)-1, get_num_nodes())\n",
    "for stack in stacks]\n",
    "\n",
    "# kwargs_list = \\\n",
    "# [dict(stack='MD661', structures=shell_escape(json.dumps(['5N_L']))),\n",
    "#  dict(stack='MD661', structures=shell_escape(json.dumps(['7N_L']))),\n",
    "# dict(stack='MD662', structures=shell_escape(json.dumps(['5N_L']))),\n",
    "# dict(stack='MD662', structures=shell_escape(json.dumps(['7N_L'])))]\n",
    "\n",
    "run_distributed(command='%(script_path)s %%(stack)s %(atlas_name)s %(warp_setting)d %(detector_id)d --trial_num 5 -s %%(structures)s' % \\\n",
    "                {'script_path': os.path.join(REPO_DIR, 'registration', 'local_registration_v4.py'),\n",
    "                'detector_id': detector_id,\n",
    "                 'warp_setting': warp_setting,\n",
    "                'atlas_name': atlas_name},\n",
    "                 kwargs_list=kwargs_list,\n",
    "                argument_type='single')\n",
    "\n",
    "wait_qsub_complete()\n",
    "\n",
    "sys.stderr.write('done in %f seconds\\n' % (time.time() - t)) # 2047s for 5 trials.\n",
    "# IC and SC are super slow...\n",
    "# 58488 s"
   ]
  },
  {
   "cell_type": "code",
   "execution_count": 9,
   "metadata": {},
   "outputs": [
    {
     "name": "stdout",
     "output_type": "stream",
     "text": [
      "Setting autoscaling group cfncluster-yuncongcluster-ComputeFleet-1R5OSQE66IOTP capaticy to 12...it may take more than 5 minutes for SGE to know new hosts.\n"
     ]
    }
   ],
   "source": [
    "request_compute_nodes(12, 'yuncong')"
   ]
  },
  {
   "cell_type": "code",
   "execution_count": 13,
   "metadata": {},
   "outputs": [
    {
     "name": "stderr",
     "output_type": "stream",
     "text": [
      "transform atlas ...12 nodes available.\n"
     ]
    },
    {
     "name": "stdout",
     "output_type": "stream",
     "text": [
      "rm -f ~/stderr_*; rm -f ~/stdout_*\n"
     ]
    },
    {
     "name": "stderr",
     "output_type": "stream",
     "text": [
      "Jobs submitted. Use wait_qsub_complete() to wait for all execution to finish.\n",
      "qsub returned.\n",
      "done in 50.600226 seconds\n"
     ]
    }
   ],
   "source": [
    "# Transform\n",
    "\n",
    "t = time.time()\n",
    "sys.stderr.write('transform atlas ...')\n",
    "\n",
    "run_distributed(command='%(script_path)s %%(stack)s %(atlas_name)s %(warp_setting)d %(detector_id)d' % \\\n",
    "                {'script_path': os.path.join(REPO_DIR, 'registration', 'transform_brains_v4.py'),\n",
    "                'detector_id': detector_id,\n",
    "                 'warp_setting': warp_setting,\n",
    "                'atlas_name': atlas_name\n",
    "                },\n",
    "                kwargs_list={'stack': stacks},\n",
    "                argument_type='single')\n",
    "\n",
    "wait_qsub_complete()\n",
    "\n",
    "sys.stderr.write('done in %f seconds\\n' % (time.time() - t)) # For one stack, 60 seconds"
   ]
  },
  {
   "cell_type": "code",
   "execution_count": 14,
   "metadata": {},
   "outputs": [
    {
     "name": "stderr",
     "output_type": "stream",
     "text": [
      "visualize aligned atlas overlay ...12 nodes available.\n"
     ]
    },
    {
     "name": "stdout",
     "output_type": "stream",
     "text": [
      "rm -f ~/stderr_*; rm -f ~/stdout_*\n"
     ]
    },
    {
     "name": "stderr",
     "output_type": "stream",
     "text": [
      "Jobs submitted. Use wait_qsub_complete() to wait for all execution to finish.\n",
      "qsub returned.\n",
      "done in 110.789422 seconds\n"
     ]
    }
   ],
   "source": [
    "# Visualize\n",
    "\n",
    "t = time.time()\n",
    "sys.stderr.write('visualize aligned atlas overlay ...')\n",
    "\n",
    "# bg_img_version = 'grayDefaultJpeg'\n",
    "bg_img_version = 'grayJpeg'\n",
    "\n",
    "run_distributed(command='%(script_path)s %%(stack)s %(atlas_name)s %(warp_setting)d %(detector_id)d --out_downsample 8 -v %(bg_img_version)s' % \\\n",
    "                {'script_path': os.path.join(REPO_DIR, 'registration', 'visualize_registration_v5.py'),\n",
    "                'detector_id': detector_id,\n",
    "                 'warp_setting': warp_setting,\n",
    "                 'bg_img_version': bg_img_version,\n",
    "                'atlas_name': atlas_name\n",
    "                },\n",
    "                kwargs_list={'stack': stacks},\n",
    "                argument_type='single')\n",
    "\n",
    "wait_qsub_complete()\n",
    "\n",
    "sys.stderr.write('done in %f seconds\\n' % (time.time() - t)) # For one stack, 110 seconds"
   ]
  },
  {
   "cell_type": "markdown",
   "metadata": {
    "collapsed": true
   },
   "source": [
    "# Transform locally transformed volumes back to atlas space"
   ]
  },
  {
   "cell_type": "code",
   "execution_count": null,
   "metadata": {
    "collapsed": true
   },
   "outputs": [],
   "source": [
    "classifier_setting = 2\n",
    "warp_setting = 3"
   ]
  },
  {
   "cell_type": "code",
   "execution_count": null,
   "metadata": {
    "collapsed": true
   },
   "outputs": [],
   "source": [
    "t = time.time()\n",
    "sys.stderr.write('transform atlas ...')\n",
    "\n",
    "exclude_nodes = [33]\n",
    "\n",
    "run_distributed4(command='%(script_path)s %%(stack)s atlasV2 %(warp_setting)d %(clf_setting)d' % \\\n",
    "                {'script_path': os.path.join(os.environ['REPO_DIR'], 'registration', 'transform_brains_v3_reverse_global.py'),\n",
    "                 'clf_setting': classifier_setting,\n",
    "                 'warp_setting': warp_setting},\n",
    "                 kwargs_list=dict(stack=['MD603']),\n",
    "#                 kwargs_list=dict(stack=all_nissl_stacks),\n",
    "                exclude_nodes=exclude_nodes,\n",
    "                argument_type='single')\n",
    "\n",
    "sys.stderr.write('done in %f seconds\\n' % (time.time() - t)) # 200 seconds ~ 4 mins"
   ]
  },
  {
   "cell_type": "markdown",
   "metadata": {},
   "source": [
    "# Measure Global Tx Confidence"
   ]
  },
  {
   "cell_type": "code",
   "execution_count": null,
   "metadata": {
    "collapsed": true
   },
   "outputs": [],
   "source": [
    "warp_setting = 1"
   ]
  },
  {
   "cell_type": "code",
   "execution_count": null,
   "metadata": {
    "collapsed": true
   },
   "outputs": [],
   "source": [
    "t = time.time()\n",
    "sys.stderr.write('Measure confidence ...')\n",
    "\n",
    "exclude_nodes = [33]\n",
    "\n",
    "run_distributed4(command='%(script_path)s %%(stack)s atlasV2 %(warp_setting)d %(clf_setting)d' % \\\n",
    "                {'script_path': os.path.join(os.environ['REPO_DIR'], 'registration', 'measure_confidence_v3_global.py'),\n",
    "                 'clf_setting': classifier_setting,\n",
    "                 'warp_setting': warp_setting},\n",
    "#                  kwargs_list=dict(stack=['MD594']),\n",
    "                kwargs_list=dict(stack=all_nissl_stacks),\n",
    "                exclude_nodes=exclude_nodes,\n",
    "                argument_type='single')\n",
    "\n",
    "sys.stderr.write('done in %f seconds\\n' % (time.time() - t)) # 650 seconds ~ 10 mins"
   ]
  },
  {
   "cell_type": "markdown",
   "metadata": {
    "collapsed": true
   },
   "source": [
    "# Measure Local Tx Confidence"
   ]
  },
  {
   "cell_type": "code",
   "execution_count": null,
   "metadata": {
    "collapsed": true
   },
   "outputs": [],
   "source": [
    "warp_setting = 5\n",
    "classifier_setting = 2"
   ]
  },
  {
   "cell_type": "code",
   "execution_count": null,
   "metadata": {
    "collapsed": true
   },
   "outputs": [],
   "source": [
    "t = time.time()\n",
    "sys.stderr.write('Measure confidence ...')\n",
    "\n",
    "exclude_nodes = [33]\n",
    "\n",
    "run_distributed4(command='%(script_path)s %%(stack)s atlasV2 %(warp_setting)d %(clf_setting)d' % \\\n",
    "                {'script_path': os.path.join(os.environ['REPO_DIR'], 'registration', 'measure_confidence_v3_local.py'),\n",
    "                 'clf_setting': classifier_setting,\n",
    "                 'warp_setting': warp_setting},\n",
    "#                  kwargs_list=dict(stack=['MD592']),\n",
    "                kwargs_list=dict(stack=all_nissl_stacks),\n",
    "                exclude_nodes=exclude_nodes,\n",
    "                argument_type='single')\n",
    "\n",
    "sys.stderr.write('done in %f seconds\\n' % (time.time() - t)) # 900 s ~ 15 mins"
   ]
  },
  {
   "cell_type": "code",
   "execution_count": null,
   "metadata": {
    "collapsed": true
   },
   "outputs": [],
   "source": []
  }
 ],
 "metadata": {
  "kernelspec": {
   "display_name": "Python 2",
   "language": "python",
   "name": "python2"
  },
  "language_info": {
   "codemirror_mode": {
    "name": "ipython",
    "version": 2
   },
   "file_extension": ".py",
   "mimetype": "text/x-python",
   "name": "python",
   "nbconvert_exporter": "python",
   "pygments_lexer": "ipython2",
   "version": "2.7.12"
  }
 },
 "nbformat": 4,
 "nbformat_minor": 2
}
