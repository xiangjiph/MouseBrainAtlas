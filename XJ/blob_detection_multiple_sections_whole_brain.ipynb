{
 "cells": [
  {
   "cell_type": "markdown",
   "metadata": {},
   "source": [
    "# Collecting Typical Blobs based on pre-detected cells"
   ]
  },
  {
   "cell_type": "code",
   "execution_count": 43,
   "metadata": {},
   "outputs": [
    {
     "name": "stdout",
     "output_type": "stream",
     "text": [
      "The autoreload extension is already loaded. To reload it, use:\n",
      "  %reload_ext autoreload\n"
     ]
    }
   ],
   "source": [
    "import matplotlib.pyplot as plt\n",
    "%matplotlib inline\n",
    "%load_ext autoreload\n",
    "%autoreload 2\n",
    "%reload_ext autoreload\n",
    "\n",
    "import sys, os, time\n",
    "\n",
    "sys.path.append(os.path.join(os.environ['REPO_DIR'], 'utilities'))\n",
    "sys.path.append(os.path.join(os.environ['REPO_DIR'], 'cells'))\n",
    "# sys.path.append(os.path.join(os.environ['REPO_DIR'], 'annotation'))\n",
    "# sys.path.append(os.path.join(os.environ['REPO_DIR'], 'learning'))\n",
    "\n",
    "import numpy as np\n",
    "import scipy\n",
    "import skimage\n",
    "from skimage.feature import peak_local_max\n",
    "from skimage.morphology import watershed\n",
    "from skimage.measure import regionprops, label, find_contours\n",
    "from skimage.color import rgb2hsv\n",
    "from scipy import ndimage as ndi\n",
    "import pandas\n",
    "from scipy.signal import argrelmax\n",
    "from scipy.stats import linregress\n",
    "\n",
    "from annotation_utilities import *\n",
    "from registration_utilities import *\n",
    "from learning_utilities import *\n",
    "from data_manager import *\n",
    "from utilities2015 import *\n",
    "from cell_utilities import *\n",
    "from metadata import *\n",
    "from distributed_utilities import download_from_s3"
   ]
  },
  {
   "cell_type": "code",
   "execution_count": 34,
   "metadata": {
    "scrolled": false
   },
   "outputs": [
    {
     "name": "stderr",
     "output_type": "stream",
     "text": [
      "Folder already exists: /shared/blob_matching_atlas/"
     ]
    }
   ],
   "source": [
    "save_folder_path = '/shared/blob_matching_atlas/'\n",
    "from xj_utilities import *\n",
    "fun_create_folder(save_folder_path=save_folder_path)"
   ]
  },
  {
   "cell_type": "code",
   "execution_count": 35,
   "metadata": {
    "collapsed": true
   },
   "outputs": [],
   "source": [
    "scan_parameters = {}\n",
    "scan_parameters['stack'] = 'MD589'\n",
    "scan_parameters['patch_size'] = 448\n",
    "scan_parameters['patch_half_size'] = scan_parameters['patch_size']/2\n",
    "scan_parameters['stride'] = 112\n",
    "scan_parameters['crop_0_min'] = 7000\n",
    "scan_parameters['crop_1_min'] = 3000\n",
    "scan_parameters['crop_0_max'] = 13000\n",
    "scan_parameters['crop_1_max'] = 14000\n",
    "scan_parameters['im0max'] = scan_parameters['crop_0_max'] - scan_parameters['crop_0_min']\n",
    "scan_parameters['im1max'] = scan_parameters['crop_1_max'] - scan_parameters['crop_1_min']\n",
    "scan_parameters['section_limits'] = metadata_cache['section_limits'][scan_parameters['stack']]\n",
    "scan_parameters['o_crop'] = True\n",
    "scan_parameters['o_clear_border'] = True\n",
    "scan_parameters['o_relabel'] = True\n",
    "scan_parameters['crop_range_mxmx'] =(scan_parameters['crop_0_min'],scan_parameters['crop_0_max'],scan_parameters['crop_1_min'],scan_parameters['crop_1_max'])\n",
    "scan_parameters['oriImL1'], scan_parameters['oriImL0'] = metadata_cache['image_shape'][scan_parameters['stack']]\n",
    "scan_parameters['scan_section_range'] = 1\n",
    "\n",
    "scan_parameters['prop'] = ['centroid','eccentricity','area','orientation','moments_hu','bbox','equivalent_diameter']\n",
    "scan_parameters['prop_for_comparison'] = ['area', 'orientation','moments_hu']\n",
    "scan_parameters['compare_weight'] = [1 for i in range(len(scan_parameters['prop_for_comparison']) + 6)]\n",
    "scan_parameters['compare_weight'] = np.array(scan_parameters['compare_weight'])/ float(np.sum(scan_parameters['compare_weight']))\n",
    "scan_parameters['similarity_threshold'] = 0.8\n",
    "scan_parameters['o_fix_scan_size'] = True\n",
    "scan_parameters['scan_size'] = 112\n",
    "scan_parameters['scan_size_coeff'] = 5\n",
    "scan_parameters['prop_to_save'] = ['coords','moments_hu','centroid','area','eccentricity','equivalent_diameter']\n"
   ]
  },
  {
   "cell_type": "code",
   "execution_count": 36,
   "metadata": {
    "collapsed": true
   },
   "outputs": [],
   "source": [
    "patch_size = scan_parameters['patch_size']\n",
    "patch_half_size = scan_parameters['patch_half_size']\n",
    "stride = scan_parameters['stride']\n",
    "# Brain stem\n",
    "crop_0_min = scan_parameters['crop_0_min']\n",
    "crop_0_max = scan_parameters['crop_1_min']\n",
    "crop_1_min = scan_parameters['crop_0_max']\n",
    "crop_1_max = scan_parameters['crop_1_max']\n",
    "# Inside\n",
    "# crop_0_min = 4000\n",
    "# crop_0_max = 6000\n",
    "# crop_1_min = 2400\n",
    "# crop_1_max = 4400\n",
    "# Whole\n",
    "# crop_0_min = 0\n",
    "# crop_1_min = 0\n",
    "# _, _, crop_1_max, crop_0_max = get_default_gridspec(stack=stack, patch_size=patch_size, stride=stride)\n",
    "im0max = crop_0_max - crop_0_min\n",
    "im1max = crop_1_max - crop_1_min\n",
    "\n",
    "# Options\n",
    "option_rescale_grayscale = True\n",
    "option_THimage_save = True;\n",
    "option_save_image_extension = '.png'\n",
    "\n",
    "# Process images\n",
    "option_label_connectivity = 4;"
   ]
  },
  {
   "cell_type": "markdown",
   "metadata": {},
   "source": [
    "### Load and crop origninal images"
   ]
  },
  {
   "cell_type": "code",
   "execution_count": 157,
   "metadata": {
    "scrolled": true
   },
   "outputs": [
    {
     "name": "stderr",
     "output_type": "stream",
     "text": [
      "Image file is already available. \n",
      "Image file is already available. \n",
      "Image file is already available. \n",
      "Image file is already available. \n",
      "Image file is already available. \n",
      "Image file is already available. \n",
      "Image file is already available. \n",
      "Image file is already available. \n",
      "Image file is already available. \n",
      "Image file is already available. \n",
      "Image file is already available. \n",
      "Image file is already available. \n",
      "Image file is already available. \n",
      "Image file is already available. \n",
      "Image file is already available. \n",
      "Image file is already available. \n",
      "Image file is already available. \n",
      "Image file is already available. \n",
      "Image file is already available. \n",
      "Image file is already available. \n",
      "Image file is already available. \n",
      "Image file is already available. \n",
      "Image file is already available. \n",
      "Image file is already available. \n",
      "Image file is already available. \n",
      "Image file is already available. \n",
      "Invalid section 118...\n",
      "Child returned 0\n"
     ]
    },
    {
     "name": "stdout",
     "output_type": "stream",
     "text": [
      "rm -rf /shared/CSHL_data_processed/MD589/MD589_lossless_alignedTo_MD589-IHC31-2015.07.30-23.26.22_MD589_1_0091_cropped/MD589-IHC21-2015.07.30-22.40.00_MD589_1_0061_lossless_alignedTo_MD589-IHC31-2015.07.30-23.26.22_MD589_1_0091_cropped.tif && mkdir -p /shared/CSHL_data_processed/MD589/MD589_lossless_alignedTo_MD589-IHC31-2015.07.30-23.26.22_MD589_1_0091_cropped\n",
      "aws s3 cp s3://mousebrainatlas-data/CSHL_data_processed/MD589/MD589_lossless_alignedTo_MD589-IHC31-2015.07.30-23.26.22_MD589_1_0091_cropped/MD589-IHC21-2015.07.30-22.40.00_MD589_1_0061_lossless_alignedTo_MD589-IHC31-2015.07.30-23.26.22_MD589_1_0091_cropped.tif /shared/CSHL_data_processed/MD589/MD589_lossless_alignedTo_MD589-IHC31-2015.07.30-23.26.22_MD589_1_0091_cropped/MD589-IHC21-2015.07.30-22.40.00_MD589_1_0061_lossless_alignedTo_MD589-IHC31-2015.07.30-23.26.22_MD589_1_0091_cropped.tif\n"
     ]
    },
    {
     "name": "stderr",
     "output_type": "stream",
     "text": [
      "Child returned 0\n",
      "2.03 seconds.\n",
      "Image file is already available. \n",
      "Image file is already available. \n",
      "Image file is already available. \n",
      "Image file is already available. \n",
      "Image file is already available. \n",
      "Image file is already available. \n",
      "Image file is already available. \n",
      "Image file is already available. \n",
      "Image file is already available. \n",
      "Image file is already available. \n",
      "Image file is already available. \n",
      "Image file is already available. \n",
      "Image file is already available. \n",
      "Image file is already available. \n",
      "Image file is already available. \n",
      "Image file is already available. \n",
      "Image file is already available. \n",
      "Image file is already available. \n",
      "Image file is already available. \n",
      "Image file is already available. \n",
      "Image file is already available. \n",
      "Image file is already available. \n",
      "Image file is already available. \n",
      "Image file is already available. \n",
      "Image file is already available. \n",
      "Image file is already available. \n",
      "Image file is already available. \n",
      "Image file is already available. \n",
      "Image file is already available. \n",
      "Image file is already available. \n",
      "Image file is already available. \n",
      "Image file is already available. \n",
      "Image file is already available. \n",
      "Image file is already available. \n",
      "Image file is already available. \n",
      "Image file is already available. \n",
      "Image file is already available. \n",
      "Image file is already available. \n",
      "Image file is already available. \n",
      "Image file is already available. \n",
      "Image file is already available. \n",
      "Image file is already available. \n",
      "Image file is already available. \n",
      "Image file is already available. \n",
      "Image file is already available. \n",
      "Image file is already available. \n",
      "Image file is already available. \n",
      "Image file is already available. \n",
      "Image file is already available. \n",
      "Image file is already available. \n",
      "Image file is already available. \n",
      "Image file is already available. \n",
      "Image file is already available. \n",
      "Image file is already available. \n",
      "Image file is already available. \n",
      "Image file is already available. \n",
      "Image file is already available. \n",
      "Image file is already available. \n",
      "Image file is already available. \n",
      "Image file is already available. \n",
      "Image file is already available. \n",
      "Image file is already available. \n",
      "Image file is already available. \n",
      "Image file is already available. \n",
      "Image file is already available. \n",
      "Image file is already available. \n",
      "Image file is already available. \n",
      "Image file is already available. \n",
      "Image file is already available. \n",
      "Image file is already available. \n",
      "Image file is already available. \n",
      "Image file is already available. \n",
      "Image file is already available. \n",
      "Image file is already available. \n",
      "Image file is already available. \n",
      "Image file is already available. \n",
      "Image file is already available. \n",
      "Image file is already available. \n",
      "Image file is already available. \n",
      "Image file is already available. \n",
      "Image file is already available. \n",
      "Image file is already available. \n",
      "Image file is already available. \n",
      "Image file is already available. \n",
      "Image file is already available. \n",
      "Image file is already available. \n",
      "Image file is already available. \n",
      "Image file is already available. \n",
      "Image file is already available. \n",
      "Image file is already available. \n",
      "Image file is already available. \n",
      "Image file is already available. \n",
      "Image file is already available. \n",
      "Image file is already available. \n",
      "Image file is already available. \n",
      "Image file is already available. \n",
      "Image file is already available. \n",
      "Image file is already available. \n",
      "Image file is already available. \n",
      "Image file is already available. \n",
      "Image file is already available. \n",
      "Invalid section 221...\n",
      "Child returned 0\n"
     ]
    },
    {
     "name": "stdout",
     "output_type": "stream",
     "text": [
      "rm -rf /shared/CSHL_data_processed/MD589/MD589_lossless_alignedTo_MD589-IHC31-2015.07.30-23.26.22_MD589_1_0091_cropped/MD589-N42-2015.07.30-18.52.37_MD589_1_0124_lossless_alignedTo_MD589-IHC31-2015.07.30-23.26.22_MD589_1_0091_cropped.tif && mkdir -p /shared/CSHL_data_processed/MD589/MD589_lossless_alignedTo_MD589-IHC31-2015.07.30-23.26.22_MD589_1_0091_cropped\n",
      "aws s3 cp s3://mousebrainatlas-data/CSHL_data_processed/MD589/MD589_lossless_alignedTo_MD589-IHC31-2015.07.30-23.26.22_MD589_1_0091_cropped/MD589-N42-2015.07.30-18.52.37_MD589_1_0124_lossless_alignedTo_MD589-IHC31-2015.07.30-23.26.22_MD589_1_0091_cropped.tif /shared/CSHL_data_processed/MD589/MD589_lossless_alignedTo_MD589-IHC31-2015.07.30-23.26.22_MD589_1_0091_cropped/MD589-N42-2015.07.30-18.52.37_MD589_1_0124_lossless_alignedTo_MD589-IHC31-2015.07.30-23.26.22_MD589_1_0091_cropped.tif\n"
     ]
    },
    {
     "name": "stderr",
     "output_type": "stream",
     "text": [
      "Child returned 0\n",
      "2.13 seconds.\n",
      "Image file is already available. \n",
      "Image file is already available. \n",
      "Image file is already available. \n",
      "Image file is already available. \n",
      "Image file is already available. \n",
      "Image file is already available. \n",
      "Image file is already available. \n",
      "Image file is already available. \n",
      "Image file is already available. \n",
      "Image file is already available. \n",
      "Image file is already available. \n",
      "Image file is already available. \n",
      "Image file is already available. \n",
      "Image file is already available. \n",
      "Image file is already available. \n",
      "Image file is already available. \n",
      "Image file is already available. \n",
      "Image file is already available. \n",
      "Image file is already available. \n",
      "Image file is already available. \n",
      "Image file is already available. \n",
      "Image file is already available. \n",
      "Image file is already available. \n",
      "Image file is already available. \n",
      "Image file is already available. \n",
      "Image file is already available. \n",
      "Image file is already available. \n",
      "Image file is already available. \n",
      "Image file is already available. \n",
      "Image file is already available. \n",
      "Image file is already available. \n",
      "Image file is already available. \n",
      "Image file is already available. \n",
      "Image file is already available. \n",
      "Image file is already available. \n",
      "Image file is already available. \n",
      "Image file is already available. \n",
      "Image file is already available. \n",
      "Image file is already available. \n",
      "Image file is already available. \n",
      "Image file is already available. \n",
      "Image file is already available. \n",
      "Image file is already available. \n",
      "Image file is already available. \n",
      "Image file is already available. \n",
      "Image file is already available. \n",
      "Image file is already available. \n",
      "Image file is already available. \n",
      "Image file is already available. \n",
      "Image file is already available. \n",
      "Image file is already available. \n",
      "Image file is already available. \n",
      "Image file is already available. \n",
      "Image file is already available. \n",
      "Image file is already available. \n",
      "Image file is already available. \n",
      "Image file is already available. \n",
      "Image file is already available. \n",
      "Image file is already available. \n",
      "Image file is already available. \n",
      "Image file is already available. \n",
      "Image file is already available. \n",
      "Image file is already available. \n",
      "Image file is already available. \n",
      "Image file is already available. \n",
      "Image file is already available. \n",
      "Image file is already available. \n",
      "Image file is already available. \n",
      "Image file is already available. \n",
      "Image file is already available. \n",
      "Image file is already available. \n",
      "Image file is already available. \n",
      "Image file is already available. \n",
      "Image file is already available. \n",
      "Image file is already available. \n",
      "Image file is already available. \n",
      "Image file is already available. \n",
      "Invalid section 300...\n",
      "Child returned 0\n"
     ]
    },
    {
     "name": "stdout",
     "output_type": "stream",
     "text": [
      "rm -rf /shared/CSHL_data_processed/MD589/MD589_lossless_alignedTo_MD589-IHC31-2015.07.30-23.26.22_MD589_1_0091_cropped/MD589-IHC58-2015.07.31-01.22.39_MD589_1_0172_lossless_alignedTo_MD589-IHC31-2015.07.30-23.26.22_MD589_1_0091_cropped.tif && mkdir -p /shared/CSHL_data_processed/MD589/MD589_lossless_alignedTo_MD589-IHC31-2015.07.30-23.26.22_MD589_1_0091_cropped\n",
      "aws s3 cp s3://mousebrainatlas-data/CSHL_data_processed/MD589/MD589_lossless_alignedTo_MD589-IHC31-2015.07.30-23.26.22_MD589_1_0091_cropped/MD589-IHC58-2015.07.31-01.22.39_MD589_1_0172_lossless_alignedTo_MD589-IHC31-2015.07.30-23.26.22_MD589_1_0091_cropped.tif /shared/CSHL_data_processed/MD589/MD589_lossless_alignedTo_MD589-IHC31-2015.07.30-23.26.22_MD589_1_0091_cropped/MD589-IHC58-2015.07.31-01.22.39_MD589_1_0172_lossless_alignedTo_MD589-IHC31-2015.07.30-23.26.22_MD589_1_0091_cropped.tif\n"
     ]
    },
    {
     "name": "stderr",
     "output_type": "stream",
     "text": [
      "Child returned 0\n",
      "2.08 seconds.\n",
      "Image file is already available. \n",
      "Image file is already available. \n",
      "Image file is already available. \n",
      "Image file is already available. \n",
      "Image file is already available. \n",
      "Image file is already available. \n",
      "Image file is already available. \n",
      "Image file is already available. \n",
      "Image file is already available. \n",
      "Image file is already available. \n",
      "Image file is already available. \n",
      "Image file is already available. \n",
      "Image file is already available. \n",
      "Image file is already available. \n",
      "Image file is already available. \n",
      "Image file is already available. \n",
      "Image file is already available. \n",
      "Image file is already available. \n",
      "Image file is already available. \n",
      "Image file is already available. \n",
      "Image file is already available. \n",
      "Image file is already available. \n",
      "Invalid section 324...\n",
      "Child returned 0\n"
     ]
    },
    {
     "name": "stdout",
     "output_type": "stream",
     "text": [
      "rm -rf /shared/CSHL_data_processed/MD589/MD589_lossless_alignedTo_MD589-IHC31-2015.07.30-23.26.22_MD589_1_0091_cropped/MD589-IHC62-2015.07.31-01.39.26_MD589_1_0184_lossless_alignedTo_MD589-IHC31-2015.07.30-23.26.22_MD589_1_0091_cropped.tif && mkdir -p /shared/CSHL_data_processed/MD589/MD589_lossless_alignedTo_MD589-IHC31-2015.07.30-23.26.22_MD589_1_0091_cropped\n",
      "aws s3 cp s3://mousebrainatlas-data/CSHL_data_processed/MD589/MD589_lossless_alignedTo_MD589-IHC31-2015.07.30-23.26.22_MD589_1_0091_cropped/MD589-IHC62-2015.07.31-01.39.26_MD589_1_0184_lossless_alignedTo_MD589-IHC31-2015.07.30-23.26.22_MD589_1_0091_cropped.tif /shared/CSHL_data_processed/MD589/MD589_lossless_alignedTo_MD589-IHC31-2015.07.30-23.26.22_MD589_1_0091_cropped/MD589-IHC62-2015.07.31-01.39.26_MD589_1_0184_lossless_alignedTo_MD589-IHC31-2015.07.30-23.26.22_MD589_1_0091_cropped.tif\n"
     ]
    },
    {
     "name": "stderr",
     "output_type": "stream",
     "text": [
      "Child returned 0\n",
      "2.09 seconds.\n",
      "Image file is already available. \n",
      "Image file is already available. \n",
      "Image file is already available. \n",
      "Image file is already available. \n",
      "Image file is already available. \n",
      "Image file is already available. \n",
      "Image file is already available. \n",
      "Image file is already available. \n",
      "Image file is already available. \n",
      "Image file is already available. \n",
      "Image file is already available. \n",
      "Image file is already available. \n",
      "Image file is already available. \n",
      "Image file is already available. \n",
      "Image file is already available. \n",
      "Image file is already available. \n",
      "Image file is already available. \n",
      "Image file is already available. \n",
      "Image file is already available. \n",
      "Image file is already available. \n",
      "Image file is already available. \n",
      "Image file is already available. \n",
      "Image file is already available. \n",
      "Image file is already available. \n",
      "Image file is already available. \n",
      "Image file is already available. \n",
      "Image file is already available. \n",
      "Image file is already available. \n",
      "Image file is already available. \n",
      "Image file is already available. \n",
      "Image file is already available. \n",
      "Image file is already available. \n",
      "Image file is already available. \n",
      "Image file is already available. \n",
      "Image file is already available. \n",
      "Image file is already available. \n",
      "Image file is already available. \n",
      "Image file is already available. \n",
      "Image file is already available. \n",
      "Image file is already available. \n",
      "Image file is already available. \n",
      "Image file is already available. \n",
      "Image file is already available. \n",
      "Image file is already available. \n",
      "Image file is already available. \n"
     ]
    }
   ],
   "source": [
    "# Functionalize loading data\n",
    "img_filename = {}\n",
    "stack = scan_parameters['stack']\n",
    "section_begin, section_end = scan_parameters['section_limits']\n",
    "secList = range(section_begin, section_end+1)\n",
    "tempSecList = range(section_begin, section_end+1)\n",
    "# Download all the data for MD589\n",
    "for tempSec in tempSecList:\n",
    "    try:\n",
    "        img_filename[tempSec] = DataManager.get_image_filepath(stack=stack, section=tempSec, resol='lossless', version='cropped')\n",
    "    except:\n",
    "        sys.stderr.write('Invalid section %d...\\n'%tempSec)\n",
    "        secList.remove(tempSec)\n",
    "        continue\n",
    "    if os.path.isfile(img_filename[tempSec]):\n",
    "        sys.stderr.write('Image file is already available. \\n')\n",
    "        continue\n",
    "    else:\n",
    "        try:\n",
    "            download_from_s3(img_filename[tempSec])\n",
    "        except:\n",
    "            sys.stderr.write('Download fail. Skip this file for section %d...\\n'%tempSec)\n",
    "            secList.remove(tempSec)\n",
    "            continue   \n",
    "scan_parameters['secList'] = secList"
   ]
  },
  {
   "cell_type": "code",
   "execution_count": 159,
   "metadata": {},
   "outputs": [],
   "source": [
    "# typical_blobs = fun_load_data_collect_typical_blobs(sec=sec, scan_parameters=scan_parameters,o_save=False)"
   ]
  },
  {
   "cell_type": "code",
   "execution_count": 8,
   "metadata": {
    "collapsed": true
   },
   "outputs": [],
   "source": [
    "from multiprocess import Pool"
   ]
  },
  {
   "cell_type": "code",
   "execution_count": 9,
   "metadata": {},
   "outputs": [
    {
     "name": "stdout",
     "output_type": "stream",
     "text": [
      "Warrning: Scaned section(s) not included in input im_blob_prop\n",
      "Section 117 Finished percentage: 0.000000\n",
      "Section 117 Finished percentage: 14.923146\n",
      "Section 123 Finished percentage: 0.000000\n",
      "Section 117 Finished percentage: 29.846292\n",
      "Section 128 Finished percentage: 0.000000\n",
      "Warrning: Scaned section(s) not included in input im_blob_prop\n",
      "Section 92 Finished percentage: 0.000000\n",
      "Section 112 Finished percentage: 0.000000\n",
      "Section 133 Finished percentage: 0.000000\n",
      "Section 143 Finished percentage: 0.000000\n",
      "Section 92 Finished percentage: 19.451469\n",
      "Section 117 Finished percentage: 44.769437\n",
      "Section 138 Finished percentage: 0.000000\n",
      "Section 153 Finished percentage: 0.000000\n",
      "Section 158 Finished percentage: 0.000000\n",
      "Section 102 Finished percentage: 0.000000\n",
      "Section 97 Finished percentage: 0.000000\n",
      "Section 123 Finished percentage: 21.753317\n",
      "Section 128 Finished percentage: 20.508614\n",
      "Section 107 Finished percentage: 0.000000\n",
      "Section 92 Finished percentage: 38.902937\n",
      "Section 148 Finished percentage: 0.000000\n",
      "Section 117 Finished percentage: 59.692583\n",
      "Section 163 Finished percentage: 0.000000\n",
      "Section 143 Finished percentage: 5.921715\n",
      "Section 133 Finished percentage: 8.798944\n",
      "Section 112 Finished percentage: 12.605572\n",
      "Section 153 Finished percentage: 6.674676\n",
      "Section 117 Finished percentage: 74.615729\n",
      "Section 158 Finished percentage: 6.327512\n",
      "Section 92 Finished percentage: 58.354406\n",
      "Section 138 Finished percentage: 8.810573\n",
      "Section 102 Finished percentage: 16.622340\n",
      "Section 123 Finished percentage: 43.506635\n",
      "Section 148 Finished percentage: 5.677302\n",
      "Section 97 Finished percentage: 18.796992\n",
      "Section 117 Finished percentage: 89.538875\n",
      "Section 128 Finished percentage: 41.017227\n",
      "Section 107 Finished percentage: 14.058766\n"
     ]
    },
    {
     "name": "stderr",
     "output_type": "stream",
     "text": [
      "Warning: missing section 118/usr/local/lib/python2.7/dist-packages/pandas/core/generic.py:1299: PerformanceWarning: \n",
      "your performance may suffer as PyTables will pickle object types that it cannot\n",
      "map directly to c-types [inferred_type->mixed,key->block0_values] [items->[0]]\n",
      "\n",
      "  return pytables.to_hdf(path_or_buf, key, self, **kwargs)\n"
     ]
    },
    {
     "name": "stdout",
     "output_type": "stream",
     "text": [
      "Result saved.\n",
      "rm -rf /shared/CSHL_cells_v2/detected_cells/MD589/MD589-IHC21-2015.07.30-22.40.00_MD589_1_0061/MD589-IHC21-2015.07.30-22.40.00_MD589_1_0061_blobCoords.hdf && mkdir -p /shared/CSHL_cells_v2/detected_cells/MD589/MD589-IHC21-2015.07.30-22.40.00_MD589_1_0061\n"
     ]
    },
    {
     "name": "stderr",
     "output_type": "stream",
     "text": [
      "Warning: missing section 118Child returned 0\n"
     ]
    },
    {
     "name": "stdout",
     "output_type": "stream",
     "text": [
      "aws s3 cp s3://mousebrainatlas-data/CSHL_cells_v2/detected_cells/MD589/MD589-IHC21-2015.07.30-22.40.00_MD589_1_0061/MD589-IHC21-2015.07.30-22.40.00_MD589_1_0061_blobCoords.hdf /shared/CSHL_cells_v2/detected_cells/MD589/MD589-IHC21-2015.07.30-22.40.00_MD589_1_0061/MD589-IHC21-2015.07.30-22.40.00_MD589_1_0061_blobCoords.hdf\n",
      "Section 143 Finished percentage: 11.843430\n",
      "Section 163 Finished percentage: 4.188833\n",
      "Section 92 Finished percentage: 77.805874\n"
     ]
    },
    {
     "name": "stderr",
     "output_type": "stream",
     "text": [
      "Child returned 0\n",
      "1.94 seconds.\n"
     ]
    },
    {
     "name": "stdout",
     "output_type": "stream",
     "text": [
      "Section 133 Finished percentage: 17.597888\n",
      "Section 153 Finished percentage: 13.349353\n",
      "rm -rf /shared/CSHL_cells_v2/detected_cells/MD589/MD589-N21-2015.07.30-17.23.23_MD589_2_0062/MD589-N21-2015.07.30-17.23.23_MD589_2_0062_blobCoords.hdf && mkdir -p /shared/CSHL_cells_v2/detected_cells/MD589/MD589-N21-2015.07.30-17.23.23_MD589_2_0062\n"
     ]
    },
    {
     "name": "stderr",
     "output_type": "stream",
     "text": [
      "Child returned 0\n"
     ]
    },
    {
     "name": "stdout",
     "output_type": "stream",
     "text": [
      "aws s3 cp s3://mousebrainatlas-data/CSHL_cells_v2/detected_cells/MD589/MD589-N21-2015.07.30-17.23.23_MD589_2_0062/MD589-N21-2015.07.30-17.23.23_MD589_2_0062_blobCoords.hdf /shared/CSHL_cells_v2/detected_cells/MD589/MD589-N21-2015.07.30-17.23.23_MD589_2_0062/MD589-N21-2015.07.30-17.23.23_MD589_2_0062_blobCoords.hdf\n",
      "Section 112 Finished percentage: 25.211143\n"
     ]
    },
    {
     "name": "stderr",
     "output_type": "stream",
     "text": [
      "Child returned 0\n",
      "1.59 seconds.\n"
     ]
    },
    {
     "name": "stdout",
     "output_type": "stream",
     "text": [
      "Section 92 Finished percentage: 97.257343\n",
      "Section 158 Finished percentage: 12.655024\n",
      "Section 138 Finished percentage: 17.621145\n"
     ]
    },
    {
     "name": "stderr",
     "output_type": "stream",
     "text": [
      "Warning: missing section 91/usr/local/lib/python2.7/dist-packages/pandas/core/generic.py:1299: PerformanceWarning: \n",
      "your performance may suffer as PyTables will pickle object types that it cannot\n",
      "map directly to c-types [inferred_type->mixed,key->block0_values] [items->[0]]\n",
      "\n",
      "  return pytables.to_hdf(path_or_buf, key, self, **kwargs)\n"
     ]
    },
    {
     "name": "stdout",
     "output_type": "stream",
     "text": [
      "Result saved.\n",
      "Section 123 Finished percentage: 65.259952\n",
      "Section 148 Finished percentage: 11.354604\n",
      "Section 128 Finished percentage: 61.525841\n",
      "Section 102 Finished percentage: 33.244681\n",
      "Section 143 Finished percentage: 17.765145\n",
      "Warrning: Scaned section(s) not included in input im_blob_prop\n",
      "Section 119 Finished percentage: 0.000000\n",
      "Section 133 Finished percentage: 26.396832\n",
      "Section 107 Finished percentage: 28.117531\n",
      "Section 97 Finished percentage: 37.593985\n",
      "rm -rf /shared/CSHL_cells_v2/detected_cells/MD589/MD589-N17-2015.07.30-17.07.32_MD589_1_0049/MD589-N17-2015.07.30-17.07.32_MD589_1_0049_blobCoords.hdf && mkdir -p /shared/CSHL_cells_v2/detected_cells/MD589/MD589-N17-2015.07.30-17.07.32_MD589_1_0049\n"
     ]
    },
    {
     "name": "stderr",
     "output_type": "stream",
     "text": [
      "Child returned 0\n"
     ]
    },
    {
     "name": "stdout",
     "output_type": "stream",
     "text": [
      "aws s3 cp s3://mousebrainatlas-data/CSHL_cells_v2/detected_cells/MD589/MD589-N17-2015.07.30-17.07.32_MD589_1_0049/MD589-N17-2015.07.30-17.07.32_MD589_1_0049_blobCoords.hdf /shared/CSHL_cells_v2/detected_cells/MD589/MD589-N17-2015.07.30-17.07.32_MD589_1_0049/MD589-N17-2015.07.30-17.07.32_MD589_1_0049_blobCoords.hdf\n",
      "Section 163 Finished percentage: 8.377665\n",
      "Section 153 Finished percentage: 20.024029\n"
     ]
    },
    {
     "name": "stderr",
     "output_type": "stream",
     "text": [
      "Child returned 0\n",
      "2.20 seconds.\n"
     ]
    },
    {
     "name": "stdout",
     "output_type": "stream",
     "text": [
      "Section 119 Finished percentage: 14.749263\n",
      "Section 158 Finished percentage: 18.982536\n",
      "Section 123 Finished percentage: 87.013270\n",
      "Section 143 Finished percentage: 23.686860\n",
      "Section 93 Finished percentage: 0.000000\n",
      "Section 138 Finished percentage: 26.431718\n",
      "Section 112 Finished percentage: 37.816715\n",
      "Section 148 Finished percentage: 17.031906\n"
     ]
    },
    {
     "name": "stderr",
     "output_type": "stream",
     "text": [
      "/usr/local/lib/python2.7/dist-packages/pandas/core/generic.py:1299: PerformanceWarning: \n",
      "your performance may suffer as PyTables will pickle object types that it cannot\n",
      "map directly to c-types [inferred_type->mixed,key->block0_values] [items->[0]]\n",
      "\n",
      "  return pytables.to_hdf(path_or_buf, key, self, **kwargs)\n"
     ]
    },
    {
     "name": "stdout",
     "output_type": "stream",
     "text": [
      "Result saved.\n",
      "Section 133 Finished percentage: 35.195777\n",
      "Section 128 Finished percentage: 82.034454\n",
      "Section 119 Finished percentage: 29.498525\n",
      "Section 102 Finished percentage: 49.867021\n",
      "Section 163 Finished percentage: 12.566498\n",
      "Section 153 Finished percentage: 26.698705\n",
      "Section 107 Finished percentage: 42.176297\n",
      "rm -rf /shared/CSHL_cells_v2/detected_cells/MD589/MD589-IHC22-2015.07.30-22.44.25_MD589_1_0064/MD589-IHC22-2015.07.30-22.44.25_MD589_1_0064_blobCoords.hdf && mkdir -p /shared/CSHL_cells_v2/detected_cells/MD589/MD589-IHC22-2015.07.30-22.44.25_MD589_1_0064\n"
     ]
    },
    {
     "name": "stderr",
     "output_type": "stream",
     "text": [
      "Child returned 0\n"
     ]
    },
    {
     "name": "stdout",
     "output_type": "stream",
     "text": [
      "aws s3 cp s3://mousebrainatlas-data/CSHL_cells_v2/detected_cells/MD589/MD589-IHC22-2015.07.30-22.44.25_MD589_1_0064/MD589-IHC22-2015.07.30-22.44.25_MD589_1_0064_blobCoords.hdf /shared/CSHL_cells_v2/detected_cells/MD589/MD589-IHC22-2015.07.30-22.44.25_MD589_1_0064/MD589-IHC22-2015.07.30-22.44.25_MD589_1_0064_blobCoords.hdf\n",
      "Section 119 Finished percentage: 44.247788\n",
      "Section 97 Finished percentage: 56.390977\n"
     ]
    },
    {
     "name": "stderr",
     "output_type": "stream",
     "text": [
      "Child returned 0\n",
      "1.90 seconds.\n",
      "/usr/local/lib/python2.7/dist-packages/pandas/core/generic.py:1299: PerformanceWarning: \n",
      "your performance may suffer as PyTables will pickle object types that it cannot\n",
      "map directly to c-types [inferred_type->mixed,key->block0_values] [items->[0]]\n",
      "\n",
      "  return pytables.to_hdf(path_or_buf, key, self, **kwargs)\n"
     ]
    },
    {
     "name": "stdout",
     "output_type": "stream",
     "text": [
      "Result saved.\n",
      "Section 143 Finished percentage: 29.608575\n",
      "Section 148 Finished percentage: 22.709209\n",
      "Section 158 Finished percentage: 25.310048\n",
      "Section 93 Finished percentage: 21.299255\n",
      "Section 119 Finished percentage: 58.997050\n",
      "Section 138 Finished percentage: 35.242291\n",
      "Section 133 Finished percentage: 43.994721\n",
      "Section 124 Finished percentage: 0.000000\n",
      "Section 112 Finished percentage: 50.422287\n",
      "Section 163 Finished percentage: 16.755330\n",
      "rm -rf /shared/CSHL_cells_v2/detected_cells/MD589/MD589-N23-2015.07.30-17.31.29_MD589_1_0067/MD589-N23-2015.07.30-17.31.29_MD589_1_0067_blobCoords.hdf && mkdir -p /shared/CSHL_cells_v2/detected_cells/MD589/MD589-N23-2015.07.30-17.31.29_MD589_1_0067\n"
     ]
    },
    {
     "name": "stderr",
     "output_type": "stream",
     "text": [
      "Child returned 0\n"
     ]
    },
    {
     "name": "stdout",
     "output_type": "stream",
     "text": [
      "aws s3 cp s3://mousebrainatlas-data/CSHL_cells_v2/detected_cells/MD589/MD589-N23-2015.07.30-17.31.29_MD589_1_0067/MD589-N23-2015.07.30-17.31.29_MD589_1_0067_blobCoords.hdf /shared/CSHL_cells_v2/detected_cells/MD589/MD589-N23-2015.07.30-17.31.29_MD589_1_0067/MD589-N23-2015.07.30-17.31.29_MD589_1_0067_blobCoords.hdf\n",
      "Section 102 Finished percentage: 66.489362\n",
      "Section 119 Finished percentage: 73.746313\n"
     ]
    },
    {
     "name": "stderr",
     "output_type": "stream",
     "text": [
      "Child returned 0\n",
      "1.88 seconds.\n"
     ]
    },
    {
     "name": "stdout",
     "output_type": "stream",
     "text": [
      "Section 153 Finished percentage: 33.373381\n",
      "Section 107 Finished percentage: 56.235063\n",
      "Section 119 Finished percentage: 88.495575\n",
      "Section 129 Finished percentage: 0.000000\n",
      "Result saved.\n",
      "Section 143 Finished percentage: 35.530290\n",
      "Section 97 Finished percentage: 75.187970\n",
      "Section 133 Finished percentage: 52.793665\n",
      "Section 148 Finished percentage: 28.386511\n",
      "Section 124 Finished percentage: 19.357336\n",
      "Section 158 Finished percentage: 31.637560\n",
      "Section 93 Finished percentage: 42.598509\n",
      "Section 138 Finished percentage: 44.052863\n",
      "Section 163 Finished percentage: 20.944163\n",
      "rm -rf /shared/CSHL_cells_v2/detected_cells/MD589/MD589-IHC21-2015.07.30-22.40.00_MD589_2_0062/MD589-IHC21-2015.07.30-22.40.00_MD589_2_0062_blobCoords.hdf && mkdir -p /shared/CSHL_cells_v2/detected_cells/MD589/MD589-IHC21-2015.07.30-22.40.00_MD589_2_0062\n"
     ]
    },
    {
     "name": "stderr",
     "output_type": "stream",
     "text": [
      "Child returned 0\n"
     ]
    },
    {
     "name": "stdout",
     "output_type": "stream",
     "text": [
      "aws s3 cp s3://mousebrainatlas-data/CSHL_cells_v2/detected_cells/MD589/MD589-IHC21-2015.07.30-22.40.00_MD589_2_0062/MD589-IHC21-2015.07.30-22.40.00_MD589_2_0062_blobCoords.hdf /shared/CSHL_cells_v2/detected_cells/MD589/MD589-IHC21-2015.07.30-22.40.00_MD589_2_0062/MD589-IHC21-2015.07.30-22.40.00_MD589_2_0062_blobCoords.hdf\n",
      "Section 112 Finished percentage: 63.027858\n"
     ]
    },
    {
     "name": "stderr",
     "output_type": "stream",
     "text": [
      "Child returned 0\n",
      "1.73 seconds.\n"
     ]
    },
    {
     "name": "stdout",
     "output_type": "stream",
     "text": [
      "Section 102 Finished percentage: 83.111702\n",
      "Section 153 Finished percentage: 40.048058\n",
      "Section 129 Finished percentage: 15.948963\n",
      "Section 107 Finished percentage: 70.293828\n",
      "Section 124 Finished percentage: 38.714673\n",
      "Section 133 Finished percentage: 61.592609\n",
      "Section 143 Finished percentage: 41.452005\n",
      "Section 120 Finished percentage: 0.000000\n",
      "Section 148 Finished percentage: 34.063813\n",
      "Section 97 Finished percentage: 93.984962\n",
      "Section 158 Finished percentage: 37.965072\n",
      "Section 163 Finished percentage: 25.132995\n"
     ]
    },
    {
     "name": "stderr",
     "output_type": "stream",
     "text": [
      "/usr/local/lib/python2.7/dist-packages/pandas/core/generic.py:1299: PerformanceWarning: \n",
      "your performance may suffer as PyTables will pickle object types that it cannot\n",
      "map directly to c-types [inferred_type->mixed,key->block0_values] [items->[0]]\n",
      "\n",
      "  return pytables.to_hdf(path_or_buf, key, self, **kwargs)\n"
     ]
    },
    {
     "name": "stdout",
     "output_type": "stream",
     "text": [
      "Section 93 Finished percentage: 63.897764\n",
      "Result saved.\n",
      "Section 129 Finished percentage: 31.897927\n",
      "Section 102 Finished percentage: 99.734043\n"
     ]
    },
    {
     "name": "stderr",
     "output_type": "stream",
     "text": [
      "/usr/local/lib/python2.7/dist-packages/pandas/core/generic.py:1299: PerformanceWarning: \n",
      "your performance may suffer as PyTables will pickle object types that it cannot\n",
      "map directly to c-types [inferred_type->mixed,key->block0_values] [items->[0]]\n",
      "\n",
      "  return pytables.to_hdf(path_or_buf, key, self, **kwargs)\n"
     ]
    },
    {
     "name": "stdout",
     "output_type": "stream",
     "text": [
      "Result saved.\n",
      "Section 138 Finished percentage: 52.863436\n",
      "Section 112 Finished percentage: 75.633430\n",
      "Section 124 Finished percentage: 58.072009\n",
      "Section 153 Finished percentage: 46.722734\n",
      "Section 107 Finished percentage: 84.352594\n",
      "Section 120 Finished percentage: 18.768769\n",
      "Section 133 Finished percentage: 70.391553\n",
      "Section 143 Finished percentage: 47.373719\n",
      "rm -rf /shared/CSHL_cells_v2/detected_cells/MD589/MD589-IHC17-2015.07.30-22.23.59_MD589_3_0051/MD589-IHC17-2015.07.30-22.23.59_MD589_3_0051_blobCoords.hdf && mkdir -p /shared/CSHL_cells_v2/detected_cells/MD589/MD589-IHC17-2015.07.30-22.23.59_MD589_3_0051\n"
     ]
    },
    {
     "name": "stderr",
     "output_type": "stream",
     "text": [
      "Child returned 0\n"
     ]
    },
    {
     "name": "stdout",
     "output_type": "stream",
     "text": [
      "aws s3 cp s3://mousebrainatlas-data/CSHL_cells_v2/detected_cells/MD589/MD589-IHC17-2015.07.30-22.23.59_MD589_3_0051/MD589-IHC17-2015.07.30-22.23.59_MD589_3_0051_blobCoords.hdf /shared/CSHL_cells_v2/detected_cells/MD589/MD589-IHC17-2015.07.30-22.23.59_MD589_3_0051/MD589-IHC17-2015.07.30-22.23.59_MD589_3_0051_blobCoords.hdf\n",
      "rm -rf /shared/CSHL_cells_v2/detected_cells/MD589/MD589-N18-2015.07.30-17.11.24_MD589_3_0054/MD589-N18-2015.07.30-17.11.24_MD589_3_0054_blobCoords.hdf && mkdir -p /shared/CSHL_cells_v2/detected_cells/MD589/MD589-N18-2015.07.30-17.11.24_MD589_3_0054\n"
     ]
    },
    {
     "name": "stderr",
     "output_type": "stream",
     "text": [
      "Child returned 0\n"
     ]
    },
    {
     "name": "stdout",
     "output_type": "stream",
     "text": [
      "aws s3 cp s3://mousebrainatlas-data/CSHL_cells_v2/detected_cells/MD589/MD589-N18-2015.07.30-17.11.24_MD589_3_0054/MD589-N18-2015.07.30-17.11.24_MD589_3_0054_blobCoords.hdf /shared/CSHL_cells_v2/detected_cells/MD589/MD589-N18-2015.07.30-17.11.24_MD589_3_0054/MD589-N18-2015.07.30-17.11.24_MD589_3_0054_blobCoords.hdf\n",
      "Section 129 Finished percentage: 47.846890\n",
      "Section 148 Finished percentage: 39.741115\n"
     ]
    },
    {
     "name": "stderr",
     "output_type": "stream",
     "text": [
      "Child returned 0\n",
      "Child returned 0\n",
      "2.61 seconds.\n",
      "2.05 seconds.\n"
     ]
    },
    {
     "name": "stdout",
     "output_type": "stream",
     "text": [
      "Section 112 Finished percentage: 88.239002\n",
      "Section 158 Finished percentage: 44.292584\n",
      "Section 163 Finished percentage: 29.321828\n",
      "Section 124 Finished percentage: 77.429346\n",
      "Section 93 Finished percentage: 85.197018\n",
      "Section 138 Finished percentage: 61.674009\n",
      "Section 107 Finished percentage: 98.411359\n"
     ]
    },
    {
     "name": "stderr",
     "output_type": "stream",
     "text": [
      "/usr/local/lib/python2.7/dist-packages/pandas/core/generic.py:1299: PerformanceWarning: \n",
      "your performance may suffer as PyTables will pickle object types that it cannot\n",
      "map directly to c-types [inferred_type->mixed,key->block0_values] [items->[0]]\n",
      "\n",
      "  return pytables.to_hdf(path_or_buf, key, self, **kwargs)\n"
     ]
    },
    {
     "name": "stdout",
     "output_type": "stream",
     "text": [
      "Result saved.\n",
      "Section 129 Finished percentage: 63.795853\n",
      "Section 153 Finished percentage: 53.397410\n"
     ]
    },
    {
     "name": "stderr",
     "output_type": "stream",
     "text": [
      "/usr/local/lib/python2.7/dist-packages/pandas/core/generic.py:1299: PerformanceWarning: \n",
      "your performance may suffer as PyTables will pickle object types that it cannot\n",
      "map directly to c-types [inferred_type->mixed,key->block0_values] [items->[0]]\n",
      "\n",
      "  return pytables.to_hdf(path_or_buf, key, self, **kwargs)\n"
     ]
    },
    {
     "name": "stdout",
     "output_type": "stream",
     "text": [
      "Result saved.\n",
      "Section 133 Finished percentage: 79.190497\n",
      "Section 120 Finished percentage: 37.537538\n",
      "Section 98 Finished percentage: 0.000000\n",
      "Section 143 Finished percentage: 53.295434\n",
      "Section 103 Finished percentage: 0.000000\n",
      "Section 148 Finished percentage: 45.418417\n",
      "Section 124 Finished percentage: 96.786682\n",
      "Result saved.\n",
      "Result saved.\n",
      "rm -rf /shared/CSHL_cells_v2/detected_cells/MD589/MD589-IHC19-2015.07.30-22.32.05_MD589_2_0056/MD589-IHC19-2015.07.30-22.32.05_MD589_2_0056_blobCoords.hdf && mkdir -p /shared/CSHL_cells_v2/detected_cells/MD589/MD589-IHC19-2015.07.30-22.32.05_MD589_2_0056\n"
     ]
    },
    {
     "name": "stderr",
     "output_type": "stream",
     "text": [
      "Child returned 0\n"
     ]
    },
    {
     "name": "stdout",
     "output_type": "stream",
     "text": [
      "aws s3 cp s3://mousebrainatlas-data/CSHL_cells_v2/detected_cells/MD589/MD589-IHC19-2015.07.30-22.32.05_MD589_2_0056/MD589-IHC19-2015.07.30-22.32.05_MD589_2_0056_blobCoords.hdf /shared/CSHL_cells_v2/detected_cells/MD589/MD589-IHC19-2015.07.30-22.32.05_MD589_2_0056/MD589-IHC19-2015.07.30-22.32.05_MD589_2_0056_blobCoords.hdf\n",
      "rm -rf /shared/CSHL_cells_v2/detected_cells/MD589/MD589-N20-2015.07.30-17.19.14_MD589_2_0059/MD589-N20-2015.07.30-17.19.14_MD589_2_0059_blobCoords.hdf && mkdir -p /shared/CSHL_cells_v2/detected_cells/MD589/MD589-N20-2015.07.30-17.19.14_MD589_2_0059\n"
     ]
    },
    {
     "name": "stderr",
     "output_type": "stream",
     "text": [
      "Child returned 0\n",
      "2.12 seconds.\n",
      "Child returned 0\n"
     ]
    },
    {
     "name": "stdout",
     "output_type": "stream",
     "text": [
      "aws s3 cp s3://mousebrainatlas-data/CSHL_cells_v2/detected_cells/MD589/MD589-N20-2015.07.30-17.19.14_MD589_2_0059/MD589-N20-2015.07.30-17.19.14_MD589_2_0059_blobCoords.hdf /shared/CSHL_cells_v2/detected_cells/MD589/MD589-N20-2015.07.30-17.19.14_MD589_2_0059/MD589-N20-2015.07.30-17.19.14_MD589_2_0059_blobCoords.hdf\n",
      "Section 158 Finished percentage: 50.620096\n"
     ]
    },
    {
     "name": "stderr",
     "output_type": "stream",
     "text": [
      "Child returned 0\n",
      "2.12 seconds.\n"
     ]
    },
    {
     "name": "stdout",
     "output_type": "stream",
     "text": [
      "Section 138 Finished percentage: 70.484581\n",
      "Section 129 Finished percentage: 79.744817\n",
      "Section 163 Finished percentage: 33.510661\n",
      "Section 153 Finished percentage: 60.072087\n",
      "Section 120 Finished percentage: 56.306306\n",
      "Section 143 Finished percentage: 59.217149\n",
      "Section 133 Finished percentage: 87.989441\n",
      "Section 98 Finished percentage: 17.096940\n",
      "Section 103 Finished percentage: 16.294606\n",
      "Section 148 Finished percentage: 51.095719\n",
      "rm -rf /shared/CSHL_cells_v2/detected_cells/MD589/MD589-N22-2015.07.30-17.27.26_MD589_2_0065/MD589-N22-2015.07.30-17.27.26_MD589_2_0065_blobCoords.hdf && mkdir -p /shared/CSHL_cells_v2/detected_cells/MD589/MD589-N22-2015.07.30-17.27.26_MD589_2_0065\n"
     ]
    },
    {
     "name": "stderr",
     "output_type": "stream",
     "text": [
      "Child returned 0\n"
     ]
    },
    {
     "name": "stdout",
     "output_type": "stream",
     "text": [
      "aws s3 cp s3://mousebrainatlas-data/CSHL_cells_v2/detected_cells/MD589/MD589-N22-2015.07.30-17.27.26_MD589_2_0065/MD589-N22-2015.07.30-17.27.26_MD589_2_0065_blobCoords.hdf /shared/CSHL_cells_v2/detected_cells/MD589/MD589-N22-2015.07.30-17.27.26_MD589_2_0065/MD589-N22-2015.07.30-17.27.26_MD589_2_0065_blobCoords.hdf\n",
      "rm -rf /shared/CSHL_cells_v2/detected_cells/MD589/MD589-IHC17-2015.07.30-22.23.59_MD589_1_0049/MD589-IHC17-2015.07.30-22.23.59_MD589_1_0049_blobCoords.hdf && mkdir -p /shared/CSHL_cells_v2/detected_cells/MD589/MD589-IHC17-2015.07.30-22.23.59_MD589_1_0049\n",
      "Section 108 Finished percentage: 0.000000\n"
     ]
    },
    {
     "name": "stderr",
     "output_type": "stream",
     "text": [
      "Child returned 0\n"
     ]
    },
    {
     "name": "stdout",
     "output_type": "stream",
     "text": [
      "aws s3 cp s3://mousebrainatlas-data/CSHL_cells_v2/detected_cells/MD589/MD589-IHC17-2015.07.30-22.23.59_MD589_1_0049/MD589-IHC17-2015.07.30-22.23.59_MD589_1_0049_blobCoords.hdf /shared/CSHL_cells_v2/detected_cells/MD589/MD589-IHC17-2015.07.30-22.23.59_MD589_1_0049/MD589-IHC17-2015.07.30-22.23.59_MD589_1_0049_blobCoords.hdf\n"
     ]
    },
    {
     "name": "stderr",
     "output_type": "stream",
     "text": [
      "Child returned 0\n",
      "1.82 seconds.\n",
      "Child returned 0\n",
      "2.32 seconds.\n"
     ]
    },
    {
     "name": "stdout",
     "output_type": "stream",
     "text": [
      "Section 113 Finished percentage: 0.000000\n",
      "Section 129 Finished percentage: 95.693780\n",
      "Section 133 Finished percentage: 96.788385\n",
      "Section 158 Finished percentage: 56.947608\n",
      "Result saved.\n"
     ]
    },
    {
     "name": "stderr",
     "output_type": "stream",
     "text": [
      "/usr/local/lib/python2.7/dist-packages/pandas/core/generic.py:1299: PerformanceWarning: \n",
      "your performance may suffer as PyTables will pickle object types that it cannot\n",
      "map directly to c-types [inferred_type->mixed,key->block0_values] [items->[0]]\n",
      "\n",
      "  return pytables.to_hdf(path_or_buf, key, self, **kwargs)\n"
     ]
    },
    {
     "name": "stdout",
     "output_type": "stream",
     "text": [
      "Result saved.\n",
      "Section 120 Finished percentage: 75.075075\n",
      "Section 153 Finished percentage: 66.746763\n",
      "Section 138 Finished percentage: 79.295154\n",
      "Section 125 Finished percentage: 0.000000\n",
      "Section 143 Finished percentage: 65.138864\n",
      "Section 94 Finished percentage: 0.000000\n",
      "Section 163 Finished percentage: 37.699493\n",
      "Section 98 Finished percentage: 34.193879\n",
      "Section 103 Finished percentage: 32.589213\n",
      "rm -rf /shared/CSHL_cells_v2/detected_cells/MD589/MD589-IHC23-2015.07.30-22.48.41_MD589_1_0067/MD589-IHC23-2015.07.30-22.48.41_MD589_1_0067_blobCoords.hdf && mkdir -p /shared/CSHL_cells_v2/detected_cells/MD589/MD589-IHC23-2015.07.30-22.48.41_MD589_1_0067\n"
     ]
    },
    {
     "name": "stderr",
     "output_type": "stream",
     "text": [
      "Child returned 0\n"
     ]
    },
    {
     "name": "stdout",
     "output_type": "stream",
     "text": [
      "aws s3 cp s3://mousebrainatlas-data/CSHL_cells_v2/detected_cells/MD589/MD589-IHC23-2015.07.30-22.48.41_MD589_1_0067/MD589-IHC23-2015.07.30-22.48.41_MD589_1_0067_blobCoords.hdf /shared/CSHL_cells_v2/detected_cells/MD589/MD589-IHC23-2015.07.30-22.48.41_MD589_1_0067/MD589-IHC23-2015.07.30-22.48.41_MD589_1_0067_blobCoords.hdf\n",
      "Section 148 Finished percentage: 56.773021\n"
     ]
    },
    {
     "name": "stderr",
     "output_type": "stream",
     "text": [
      "Child returned 0\n",
      "1.88 seconds.\n"
     ]
    },
    {
     "name": "stdout",
     "output_type": "stream",
     "text": [
      "Section 108 Finished percentage: 13.644426\n",
      "Section 120 Finished percentage: 93.843844\n",
      "rm -rf /shared/CSHL_cells_v2/detected_cells/MD589/MD589-IHC23-2015.07.30-22.48.41_MD589_3_0069/MD589-IHC23-2015.07.30-22.48.41_MD589_3_0069_blobCoords.hdf && mkdir -p /shared/CSHL_cells_v2/detected_cells/MD589/MD589-IHC23-2015.07.30-22.48.41_MD589_3_0069\n"
     ]
    },
    {
     "name": "stderr",
     "output_type": "stream",
     "text": [
      "Child returned 0\n"
     ]
    },
    {
     "name": "stdout",
     "output_type": "stream",
     "text": [
      "aws s3 cp s3://mousebrainatlas-data/CSHL_cells_v2/detected_cells/MD589/MD589-IHC23-2015.07.30-22.48.41_MD589_3_0069/MD589-IHC23-2015.07.30-22.48.41_MD589_3_0069_blobCoords.hdf /shared/CSHL_cells_v2/detected_cells/MD589/MD589-IHC23-2015.07.30-22.48.41_MD589_3_0069/MD589-IHC23-2015.07.30-22.48.41_MD589_3_0069_blobCoords.hdf\n",
      "Section 113 Finished percentage: 13.428226\n",
      "Section 158 Finished percentage: 63.275120\n",
      "Result saved.\n"
     ]
    },
    {
     "name": "stderr",
     "output_type": "stream",
     "text": [
      "Child returned 0\n",
      "1.78 seconds.\n"
     ]
    },
    {
     "name": "stdout",
     "output_type": "stream",
     "text": [
      "Section 125 Finished percentage: 15.797788\n",
      "Section 153 Finished percentage: 73.421439\n",
      "Section 130 Finished percentage: 0.000000\n",
      "Section 94 Finished percentage: 18.789929\n",
      "Section 143 Finished percentage: 71.060579\n",
      "Section 163 Finished percentage: 41.888326\n",
      "Section 138 Finished percentage: 88.105727\n",
      "Section 134 Finished percentage: 0.000000\n",
      "Section 103 Finished percentage: 48.883819\n",
      "Section 98 Finished percentage: 51.290819\n",
      "Section 148 Finished percentage: 62.450324\n",
      "Section 108 Finished percentage: 27.288853\n",
      "Section 158 Finished percentage: 69.602632\n",
      "Section 125 Finished percentage: 31.595577\n",
      "Section 130 Finished percentage: 13.361839\n",
      "Section 113 Finished percentage: 26.856452\n",
      "Section 138 Finished percentage: 96.916300\n",
      "Section 153 Finished percentage: 80.096115\n",
      "Section 94 Finished percentage: 37.579857\n",
      "Section 143 Finished percentage: 76.982294\n",
      "Section 134 Finished percentage: 9.763718\n"
     ]
    },
    {
     "name": "stderr",
     "output_type": "stream",
     "text": [
      "/usr/local/lib/python2.7/dist-packages/pandas/core/generic.py:1299: PerformanceWarning: \n",
      "your performance may suffer as PyTables will pickle object types that it cannot\n",
      "map directly to c-types [inferred_type->mixed,key->block0_values] [items->[0]]\n",
      "\n",
      "  return pytables.to_hdf(path_or_buf, key, self, **kwargs)\n"
     ]
    },
    {
     "name": "stdout",
     "output_type": "stream",
     "text": [
      "Result saved.\n",
      "Section 163 Finished percentage: 46.077158\n",
      "Section 125 Finished percentage: 47.393365\n",
      "Section 121 Finished percentage: 0.000000\n",
      "Section 98 Finished percentage: 68.387759\n",
      "Section 158 Finished percentage: 75.930144\n",
      "Section 148 Finished percentage: 68.127626\n",
      "Section 130 Finished percentage: 26.723677\n",
      "Section 103 Finished percentage: 65.178426\n",
      "Section 108 Finished percentage: 40.933279\n",
      "Section 143 Finished percentage: 82.904009\n",
      "Section 125 Finished percentage: 63.191153\n",
      "rm -rf /shared/CSHL_cells_v2/detected_cells/MD589/MD589-N24-2015.07.30-17.35.51_MD589_3_0072/MD589-N24-2015.07.30-17.35.51_MD589_3_0072_blobCoords.hdf && mkdir -p /shared/CSHL_cells_v2/detected_cells/MD589/MD589-N24-2015.07.30-17.35.51_MD589_3_0072\n"
     ]
    },
    {
     "name": "stderr",
     "output_type": "stream",
     "text": [
      "Child returned 0\n"
     ]
    },
    {
     "name": "stdout",
     "output_type": "stream",
     "text": [
      "aws s3 cp s3://mousebrainatlas-data/CSHL_cells_v2/detected_cells/MD589/MD589-N24-2015.07.30-17.35.51_MD589_3_0072/MD589-N24-2015.07.30-17.35.51_MD589_3_0072_blobCoords.hdf /shared/CSHL_cells_v2/detected_cells/MD589/MD589-N24-2015.07.30-17.35.51_MD589_3_0072/MD589-N24-2015.07.30-17.35.51_MD589_3_0072_blobCoords.hdf\n",
      "Section 134 Finished percentage: 19.527436\n",
      "Section 94 Finished percentage: 56.369786\n",
      "Section 113 Finished percentage: 40.284678\n"
     ]
    },
    {
     "name": "stderr",
     "output_type": "stream",
     "text": [
      "Child returned 0\n",
      "1.72 seconds.\n"
     ]
    },
    {
     "name": "stdout",
     "output_type": "stream",
     "text": [
      "Section 153 Finished percentage: 86.770792\n",
      "Section 163 Finished percentage: 50.265991\n",
      "Section 121 Finished percentage: 18.439978\n",
      "Section 130 Finished percentage: 40.085516\n",
      "Section 148 Finished percentage: 73.804928\n",
      "Section 98 Finished percentage: 85.484698\n",
      "Section 143 Finished percentage: 88.825724\n",
      "Section 158 Finished percentage: 82.257656\n",
      "Section 125 Finished percentage: 78.988942\n",
      "Section 103 Finished percentage: 81.473032\n",
      "Section 108 Finished percentage: 54.577705\n",
      "Section 134 Finished percentage: 29.291154\n",
      "Section 139 Finished percentage: 0.000000\n",
      "Section 163 Finished percentage: 54.454823\n",
      "Section 121 Finished percentage: 36.879956\n",
      "Section 94 Finished percentage: 75.159714\n",
      "Section 113 Finished percentage: 53.712905\n",
      "Section 153 Finished percentage: 93.445468\n",
      "Section 130 Finished percentage: 53.447354\n",
      "Result saved.\n",
      "Section 125 Finished percentage: 94.786730\n",
      "Section 143 Finished percentage: 94.747439\n",
      "Result saved.\n",
      "Section 148 Finished percentage: 79.482230\n",
      "Section 103 Finished percentage: 97.767639\n",
      "Section 139 Finished percentage: 7.314219\n",
      "Result saved.\n",
      "Section 158 Finished percentage: 88.585168\n",
      "Section 121 Finished percentage: 55.319934\n",
      "rm -rf /shared/CSHL_cells_v2/detected_cells/MD589/MD589-N18-2015.07.30-17.11.24_MD589_1_0052/MD589-N18-2015.07.30-17.11.24_MD589_1_0052_blobCoords.hdf && mkdir -p /shared/CSHL_cells_v2/detected_cells/MD589/MD589-N18-2015.07.30-17.11.24_MD589_1_0052\n"
     ]
    },
    {
     "name": "stderr",
     "output_type": "stream",
     "text": [
      "Child returned 0\n"
     ]
    },
    {
     "name": "stdout",
     "output_type": "stream",
     "text": [
      "aws s3 cp s3://mousebrainatlas-data/CSHL_cells_v2/detected_cells/MD589/MD589-N18-2015.07.30-17.11.24_MD589_1_0052/MD589-N18-2015.07.30-17.11.24_MD589_1_0052_blobCoords.hdf /shared/CSHL_cells_v2/detected_cells/MD589/MD589-N18-2015.07.30-17.11.24_MD589_1_0052/MD589-N18-2015.07.30-17.11.24_MD589_1_0052_blobCoords.hdf\n",
      "Section 134 Finished percentage: 39.054872\n"
     ]
    },
    {
     "name": "stderr",
     "output_type": "stream",
     "text": [
      "/usr/local/lib/python2.7/dist-packages/pandas/core/generic.py:1299: PerformanceWarning: \n",
      "your performance may suffer as PyTables will pickle object types that it cannot\n",
      "map directly to c-types [inferred_type->mixed,key->block0_values] [items->[0]]\n",
      "\n",
      "  return pytables.to_hdf(path_or_buf, key, self, **kwargs)\n"
     ]
    },
    {
     "name": "stdout",
     "output_type": "stream",
     "text": [
      "Result saved.\n",
      "Section 163 Finished percentage: 58.643656\n"
     ]
    },
    {
     "name": "stderr",
     "output_type": "stream",
     "text": [
      "/usr/local/lib/python2.7/dist-packages/pandas/core/generic.py:1299: PerformanceWarning: \n",
      "your performance may suffer as PyTables will pickle object types that it cannot\n",
      "map directly to c-types [inferred_type->mixed,key->block0_values] [items->[0]]\n",
      "\n",
      "  return pytables.to_hdf(path_or_buf, key, self, **kwargs)\n"
     ]
    },
    {
     "name": "stdout",
     "output_type": "stream",
     "text": [
      "Section 94 Finished percentage: 93.949643\n"
     ]
    },
    {
     "name": "stderr",
     "output_type": "stream",
     "text": [
      "Child returned 0\n",
      "2.28 seconds.\n"
     ]
    },
    {
     "name": "stdout",
     "output_type": "stream",
     "text": [
      "Result saved.\n",
      "Section 108 Finished percentage: 68.222131\n",
      "Section 130 Finished percentage: 66.809193\n",
      "Section 113 Finished percentage: 67.141131\n",
      "Result saved.\n",
      "Section 139 Finished percentage: 14.628438\n",
      "Section 126 Finished percentage: 0.000000\n",
      "rm -rf /shared/CSHL_cells_v2/detected_cells/MD589/MD589-IHC18-2015.07.30-22.27.59_MD589_3_0054/MD589-IHC18-2015.07.30-22.27.59_MD589_3_0054_blobCoords.hdf && mkdir -p /shared/CSHL_cells_v2/detected_cells/MD589/MD589-IHC18-2015.07.30-22.27.59_MD589_3_0054\n"
     ]
    },
    {
     "name": "stderr",
     "output_type": "stream",
     "text": [
      "Child returned 0\n"
     ]
    },
    {
     "name": "stdout",
     "output_type": "stream",
     "text": [
      "aws s3 cp s3://mousebrainatlas-data/CSHL_cells_v2/detected_cells/MD589/MD589-IHC18-2015.07.30-22.27.59_MD589_3_0054/MD589-IHC18-2015.07.30-22.27.59_MD589_3_0054_blobCoords.hdf /shared/CSHL_cells_v2/detected_cells/MD589/MD589-IHC18-2015.07.30-22.27.59_MD589_3_0054/MD589-IHC18-2015.07.30-22.27.59_MD589_3_0054_blobCoords.hdf\n",
      "Section 99 Finished percentage: 0.000000\n"
     ]
    },
    {
     "name": "stderr",
     "output_type": "stream",
     "text": [
      "Child returned 0\n",
      "2.37 seconds.\n"
     ]
    },
    {
     "name": "stdout",
     "output_type": "stream",
     "text": [
      "Section 148 Finished percentage: 85.159532\n",
      "rm -rf /shared/CSHL_cells_v2/detected_cells/MD589/MD589-IHC25-2015.07.30-22.57.23_MD589_2_0074/MD589-IHC25-2015.07.30-22.57.23_MD589_2_0074_blobCoords.hdf && mkdir -p /shared/CSHL_cells_v2/detected_cells/MD589/MD589-IHC25-2015.07.30-22.57.23_MD589_2_0074\n"
     ]
    },
    {
     "name": "stderr",
     "output_type": "stream",
     "text": [
      "Child returned 0\n"
     ]
    },
    {
     "name": "stdout",
     "output_type": "stream",
     "text": [
      "aws s3 cp s3://mousebrainatlas-data/CSHL_cells_v2/detected_cells/MD589/MD589-IHC25-2015.07.30-22.57.23_MD589_2_0074/MD589-IHC25-2015.07.30-22.57.23_MD589_2_0074_blobCoords.hdf /shared/CSHL_cells_v2/detected_cells/MD589/MD589-IHC25-2015.07.30-22.57.23_MD589_2_0074/MD589-IHC25-2015.07.30-22.57.23_MD589_2_0074_blobCoords.hdf\n",
      "Section 121 Finished percentage: 73.759911\n"
     ]
    },
    {
     "name": "stderr",
     "output_type": "stream",
     "text": [
      "Child returned 0\n",
      "1.96 seconds.\n"
     ]
    },
    {
     "name": "stdout",
     "output_type": "stream",
     "text": [
      "Section 158 Finished percentage: 94.912680\n",
      "Section 163 Finished percentage: 62.832489\n",
      "Section 134 Finished percentage: 48.818590\n",
      "Section 139 Finished percentage: 21.942657\n",
      "Section 104 Finished percentage: 0.000000\n",
      "Section 130 Finished percentage: 80.171032\n",
      "Section 108 Finished percentage: 81.866558\n",
      "Section 121 Finished percentage: 92.199889\n",
      "Section 113 Finished percentage: 80.569357\n",
      "Section 126 Finished percentage: 19.102197\n",
      "Section 99 Finished percentage: 18.152115\n",
      "Result saved.\n",
      "Section 148 Finished percentage: 90.836834\n",
      "Section 95 Finished percentage: 0.000000\n"
     ]
    },
    {
     "name": "stderr",
     "output_type": "stream",
     "text": [
      "/usr/local/lib/python2.7/dist-packages/pandas/core/generic.py:1299: PerformanceWarning: \n",
      "your performance may suffer as PyTables will pickle object types that it cannot\n",
      "map directly to c-types [inferred_type->mixed,key->block0_values] [items->[0]]\n",
      "\n",
      "  return pytables.to_hdf(path_or_buf, key, self, **kwargs)\n"
     ]
    },
    {
     "name": "stdout",
     "output_type": "stream",
     "text": [
      "Result saved.\n",
      "Section 144 Finished percentage: 0.000000\n",
      "Section 154 Finished percentage: 0.000000\n",
      "Section 163 Finished percentage: 67.021321\n",
      "Section 113 Finished percentage: 93.997583\n",
      "Section 108 Finished percentage: 95.510984\n",
      "Section 139 Finished percentage: 29.256875\n",
      "Section 130 Finished percentage: 93.532870\n",
      "Section 104 Finished percentage: 15.573898\n",
      "Section 134 Finished percentage: 58.582308\n",
      "Result saved.\n",
      "Section 122 Finished percentage: 0.000000\n",
      "Result saved.\n",
      "Section 126 Finished percentage: 38.204394\n",
      "Result saved.\n",
      "rm -rf /shared/CSHL_cells_v2/detected_cells/MD589/MD589-N28-2015.07.30-17.53.43_MD589_1_0082/MD589-N28-2015.07.30-17.53.43_MD589_1_0082_blobCoords.hdf && mkdir -p /shared/CSHL_cells_v2/detected_cells/MD589/MD589-N28-2015.07.30-17.53.43_MD589_1_0082\n"
     ]
    },
    {
     "name": "stderr",
     "output_type": "stream",
     "text": [
      "Child returned 0\n"
     ]
    },
    {
     "name": "stdout",
     "output_type": "stream",
     "text": [
      "aws s3 cp s3://mousebrainatlas-data/CSHL_cells_v2/detected_cells/MD589/MD589-N28-2015.07.30-17.53.43_MD589_1_0082/MD589-N28-2015.07.30-17.53.43_MD589_1_0082_blobCoords.hdf /shared/CSHL_cells_v2/detected_cells/MD589/MD589-N28-2015.07.30-17.53.43_MD589_1_0082/MD589-N28-2015.07.30-17.53.43_MD589_1_0082_blobCoords.hdf\n"
     ]
    },
    {
     "name": "stderr",
     "output_type": "stream",
     "text": [
      "Child returned 0\n",
      "2.17 seconds.\n"
     ]
    },
    {
     "name": "stdout",
     "output_type": "stream",
     "text": [
      "Section 99 Finished percentage: 36.304229\n",
      "Section 148 Finished percentage: 96.514136\n",
      "Section 95 Finished percentage: 21.190930\n",
      "Section 144 Finished percentage: 6.984703\n",
      "Section 154 Finished percentage: 6.055101\n",
      "rm -rf /shared/CSHL_cells_v2/detected_cells/MD589/MD589-N19-2015.07.30-17.15.15_MD589_3_0057/MD589-N19-2015.07.30-17.15.15_MD589_3_0057_blobCoords.hdf && mkdir -p /shared/CSHL_cells_v2/detected_cells/MD589/MD589-N19-2015.07.30-17.15.15_MD589_3_0057\n"
     ]
    },
    {
     "name": "stderr",
     "output_type": "stream",
     "text": [
      "Child returned 0\n"
     ]
    },
    {
     "name": "stdout",
     "output_type": "stream",
     "text": [
      "aws s3 cp s3://mousebrainatlas-data/CSHL_cells_v2/detected_cells/MD589/MD589-N19-2015.07.30-17.15.15_MD589_3_0057/MD589-N19-2015.07.30-17.15.15_MD589_3_0057_blobCoords.hdf /shared/CSHL_cells_v2/detected_cells/MD589/MD589-N19-2015.07.30-17.15.15_MD589_3_0057/MD589-N19-2015.07.30-17.15.15_MD589_3_0057_blobCoords.hdf\n",
      "rm -rf /shared/CSHL_cells_v2/detected_cells/MD589/MD589-IHC20-2015.07.30-22.36.03_MD589_2_0059/MD589-IHC20-2015.07.30-22.36.03_MD589_2_0059_blobCoords.hdf && mkdir -p /shared/CSHL_cells_v2/detected_cells/MD589/MD589-IHC20-2015.07.30-22.36.03_MD589_2_0059\n"
     ]
    },
    {
     "name": "stderr",
     "output_type": "stream",
     "text": [
      "Child returned 0\n"
     ]
    },
    {
     "name": "stdout",
     "output_type": "stream",
     "text": [
      "aws s3 cp s3://mousebrainatlas-data/CSHL_cells_v2/detected_cells/MD589/MD589-IHC20-2015.07.30-22.36.03_MD589_2_0059/MD589-IHC20-2015.07.30-22.36.03_MD589_2_0059_blobCoords.hdf /shared/CSHL_cells_v2/detected_cells/MD589/MD589-IHC20-2015.07.30-22.36.03_MD589_2_0059/MD589-IHC20-2015.07.30-22.36.03_MD589_2_0059_blobCoords.hdf\n",
      "Section 163 Finished percentage: 71.210154\n"
     ]
    },
    {
     "name": "stderr",
     "output_type": "stream",
     "text": [
      "/usr/local/lib/python2.7/dist-packages/pandas/core/generic.py:1299: PerformanceWarning: \n",
      "your performance may suffer as PyTables will pickle object types that it cannot\n",
      "map directly to c-types [inferred_type->mixed,key->block0_values] [items->[0]]\n",
      "\n",
      "  return pytables.to_hdf(path_or_buf, key, self, **kwargs)\n"
     ]
    },
    {
     "name": "stdout",
     "output_type": "stream",
     "text": [
      "Result saved.\n"
     ]
    },
    {
     "name": "stderr",
     "output_type": "stream",
     "text": [
      "Child returned 0\n",
      "2.14 seconds.\n",
      "Child returned 0\n",
      "2.08 seconds.\n"
     ]
    },
    {
     "name": "stdout",
     "output_type": "stream",
     "text": [
      "Section 139 Finished percentage: 36.571094\n",
      "Section 159 Finished percentage: 0.000000\n",
      "Section 126 Finished percentage: 57.306590\n",
      "Section 122 Finished percentage: 21.574973\n",
      "Section 104 Finished percentage: 31.147796\n",
      "Section 99 Finished percentage: 54.456344\n",
      "Section 134 Finished percentage: 68.346026\n",
      "Section 131 Finished percentage: 0.000000\n",
      "Section 114 Finished percentage: 0.000000\n",
      "Section 109 Finished percentage: 0.000000\n",
      "Section 144 Finished percentage: 13.969407\n",
      "Section 154 Finished percentage: 12.110203\n",
      "rm -rf /shared/CSHL_cells_v2/detected_cells/MD589/MD589-N26-2015.07.30-17.44.37_MD589_2_0077/MD589-N26-2015.07.30-17.44.37_MD589_2_0077_blobCoords.hdf && mkdir -p /shared/CSHL_cells_v2/detected_cells/MD589/MD589-N26-2015.07.30-17.44.37_MD589_2_0077\n"
     ]
    },
    {
     "name": "stderr",
     "output_type": "stream",
     "text": [
      "Child returned 0\n"
     ]
    },
    {
     "name": "stdout",
     "output_type": "stream",
     "text": [
      "aws s3 cp s3://mousebrainatlas-data/CSHL_cells_v2/detected_cells/MD589/MD589-N26-2015.07.30-17.44.37_MD589_2_0077/MD589-N26-2015.07.30-17.44.37_MD589_2_0077_blobCoords.hdf /shared/CSHL_cells_v2/detected_cells/MD589/MD589-N26-2015.07.30-17.44.37_MD589_2_0077/MD589-N26-2015.07.30-17.44.37_MD589_2_0077_blobCoords.hdf\n",
      "Section 163 Finished percentage: 75.398986\n"
     ]
    },
    {
     "name": "stderr",
     "output_type": "stream",
     "text": [
      "Child returned 0\n",
      "2.03 seconds.\n"
     ]
    },
    {
     "name": "stdout",
     "output_type": "stream",
     "text": [
      "Section 95 Finished percentage: 42.381861\n",
      "Section 139 Finished percentage: 43.885313\n",
      "Section 122 Finished percentage: 43.149946\n",
      "Section 159 Finished percentage: 5.406574\n",
      "Section 126 Finished percentage: 76.408787\n",
      "Section 131 Finished percentage: 9.945301\n",
      "Section 104 Finished percentage: 46.721694\n",
      "Section 134 Finished percentage: 78.109744\n",
      "Section 99 Finished percentage: 72.608459\n",
      "Section 109 Finished percentage: 12.205541\n",
      "Section 154 Finished percentage: 18.165304\n",
      "Section 114 Finished percentage: 14.628438\n",
      "Section 149 Finished percentage: 0.000000\n",
      "Section 144 Finished percentage: 20.954110\n",
      "Section 122 Finished percentage: 64.724919\n",
      "Section 139 Finished percentage: 51.199532\n",
      "Section 163 Finished percentage: 79.587819\n",
      "Section 126 Finished percentage: 95.510984\n",
      "Section 95 Finished percentage: 63.572791\n",
      "Section 159 Finished percentage: 10.813149\n",
      "Result saved.\n",
      "Section 131 Finished percentage: 19.890602\n",
      "Section 154 Finished percentage: 24.220406\n",
      "Section 134 Finished percentage: 87.873462\n",
      "Section 104 Finished percentage: 62.295593\n",
      "Section 122 Finished percentage: 86.299892\n",
      "Section 99 Finished percentage: 90.760574\n",
      "Section 149 Finished percentage: 6.237914\n",
      "Section 114 Finished percentage: 29.256875\n",
      "Section 109 Finished percentage: 24.411083\n",
      "Section 144 Finished percentage: 27.938814\n",
      "Section 139 Finished percentage: 58.513751\n",
      "Result saved.\n",
      "Section 163 Finished percentage: 83.776651\n",
      "Section 159 Finished percentage: 16.219723\n",
      "Section 131 Finished percentage: 29.835903\n",
      "Section 127 Finished percentage: 0.000000\n",
      "Result saved.\n",
      "Section 95 Finished percentage: 84.763721\n",
      "Section 134 Finished percentage: 97.637180\n",
      "Section 154 Finished percentage: 30.275507\n",
      "Result saved.\n",
      "Section 139 Finished percentage: 65.827970\n",
      "Section 109 Finished percentage: 36.616624\n",
      "Section 149 Finished percentage: 12.475828\n",
      "Section 104 Finished percentage: 77.869491\n",
      "Section 114 Finished percentage: 43.885313\n",
      "Section 127 Finished percentage: 15.302219\n",
      "Section 159 Finished percentage: 21.626298\n",
      "Section 131 Finished percentage: 39.781203\n",
      "Section 144 Finished percentage: 34.923517\n",
      "Result saved.\n",
      "Section 163 Finished percentage: 87.965484\n",
      "Section 100 Finished percentage: 0.000000\n",
      "rm -rf /shared/CSHL_cells_v2/detected_cells/MD589/MD589-N24-2015.07.30-17.35.51_MD589_1_0070/MD589-N24-2015.07.30-17.35.51_MD589_1_0070_blobCoords.hdf && mkdir -p /shared/CSHL_cells_v2/detected_cells/MD589/MD589-N24-2015.07.30-17.35.51_MD589_1_0070\n"
     ]
    },
    {
     "name": "stderr",
     "output_type": "stream",
     "text": [
      "Child returned 0\n"
     ]
    },
    {
     "name": "stdout",
     "output_type": "stream",
     "text": [
      "aws s3 cp s3://mousebrainatlas-data/CSHL_cells_v2/detected_cells/MD589/MD589-N24-2015.07.30-17.35.51_MD589_1_0070/MD589-N24-2015.07.30-17.35.51_MD589_1_0070_blobCoords.hdf /shared/CSHL_cells_v2/detected_cells/MD589/MD589-N24-2015.07.30-17.35.51_MD589_1_0070/MD589-N24-2015.07.30-17.35.51_MD589_1_0070_blobCoords.hdf\n"
     ]
    },
    {
     "name": "stderr",
     "output_type": "stream",
     "text": [
      "Child returned 0\n",
      "1.99 seconds.\n"
     ]
    },
    {
     "name": "stdout",
     "output_type": "stream",
     "text": [
      "Section 168 Finished percentage: 0.000000\n",
      "Section 139 Finished percentage: 73.142188\n",
      "Section 149 Finished percentage: 18.713742\n",
      "Section 127 Finished percentage: 30.604438\n",
      "Section 154 Finished percentage: 36.330609\n",
      "Section 131 Finished percentage: 49.726504\n",
      "Section 109 Finished percentage: 48.822165\n",
      "Section 104 Finished percentage: 93.443389\n",
      "Section 159 Finished percentage: 27.032872\n",
      "Section 135 Finished percentage: 0.000000\n",
      "Section 163 Finished percentage: 92.154317\n",
      "Section 114 Finished percentage: 58.513751\n",
      "Section 100 Finished percentage: 17.869907\n",
      "Section 96 Finished percentage: 0.000000\n",
      "Section 144 Finished percentage: 41.908221\n",
      "Result saved.\n",
      "Section 127 Finished percentage: 45.906656\n",
      "Section 139 Finished percentage: 80.456407\n",
      "Section 149 Finished percentage: 24.951656\n",
      "Section 168 Finished percentage: 4.754207\n",
      "Section 131 Finished percentage: 59.671805\n",
      "Section 154 Finished percentage: 42.385710\n",
      "Section 135 Finished percentage: 8.585902\n",
      "Section 127 Finished percentage: 61.208875\n",
      "Section 163 Finished percentage: 96.343149\n",
      "Section 109 Finished percentage: 61.027707\n",
      "Section 96 Finished percentage: 17.711654\n",
      "Section 159 Finished percentage: 32.439446\n",
      "Section 114 Finished percentage: 73.142188\n",
      "Section 139 Finished percentage: 87.770626\n",
      "Section 100 Finished percentage: 35.739814\n",
      "Section 144 Finished percentage: 48.892924\n",
      "Section 105 Finished percentage: 0.000000\n",
      "Section 149 Finished percentage: 31.189570\n"
     ]
    },
    {
     "name": "stderr",
     "output_type": "stream",
     "text": [
      "/usr/local/lib/python2.7/dist-packages/pandas/core/generic.py:1299: PerformanceWarning: \n",
      "your performance may suffer as PyTables will pickle object types that it cannot\n",
      "map directly to c-types [inferred_type->mixed,key->block0_values] [items->[0]]\n",
      "\n",
      "  return pytables.to_hdf(path_or_buf, key, self, **kwargs)\n"
     ]
    },
    {
     "name": "stdout",
     "output_type": "stream",
     "text": [
      "Section 131 Finished percentage: 69.617106\n",
      "Result saved.\n",
      "Section 168 Finished percentage: 9.508415\n",
      "Section 127 Finished percentage: 76.511094\n",
      "Section 154 Finished percentage: 48.440811\n",
      "Section 135 Finished percentage: 17.171804\n",
      "Section 139 Finished percentage: 95.084845\n",
      "Section 114 Finished percentage: 87.770626\n",
      "Result saved.\n",
      "Section 96 Finished percentage: 35.423309\n",
      "Section 159 Finished percentage: 37.846021\n",
      "rm -rf /shared/CSHL_cells_v2/detected_cells/MD589/MD589-IHC28-2015.07.30-23.11.15_MD589_3_0084/MD589-IHC28-2015.07.30-23.11.15_MD589_3_0084_blobCoords.hdf && mkdir -p /shared/CSHL_cells_v2/detected_cells/MD589/MD589-IHC28-2015.07.30-23.11.15_MD589_3_0084\n"
     ]
    },
    {
     "name": "stderr",
     "output_type": "stream",
     "text": [
      "Child returned 0\n"
     ]
    },
    {
     "name": "stdout",
     "output_type": "stream",
     "text": [
      "aws s3 cp s3://mousebrainatlas-data/CSHL_cells_v2/detected_cells/MD589/MD589-IHC28-2015.07.30-23.11.15_MD589_3_0084/MD589-IHC28-2015.07.30-23.11.15_MD589_3_0084_blobCoords.hdf /shared/CSHL_cells_v2/detected_cells/MD589/MD589-IHC28-2015.07.30-23.11.15_MD589_3_0084/MD589-IHC28-2015.07.30-23.11.15_MD589_3_0084_blobCoords.hdf\n",
      "Section 109 Finished percentage: 73.233248\n",
      "Section 168 Finished percentage: 14.262622\n",
      "Section 100 Finished percentage: 53.609721\n"
     ]
    },
    {
     "name": "stderr",
     "output_type": "stream",
     "text": [
      "Child returned 0\n",
      "2.44 seconds.\n"
     ]
    },
    {
     "name": "stdout",
     "output_type": "stream",
     "text": [
      "Section 127 Finished percentage: 91.813313\n",
      "Section 105 Finished percentage: 13.650014\n",
      "Section 131 Finished percentage: 79.562407\n",
      "Section 144 Finished percentage: 55.877628\n",
      "Section 135 Finished percentage: 25.757706\n",
      "Result saved.\n",
      "Result saved.\n",
      "Section 149 Finished percentage: 37.427484\n",
      "Section 154 Finished percentage: 54.495913\n",
      "rm -rf /shared/CSHL_cells_v2/detected_cells/MD589/MD589-IHC24-2015.07.30-22.52.55_MD589_3_0072/MD589-IHC24-2015.07.30-22.52.55_MD589_3_0072_blobCoords.hdf && mkdir -p /shared/CSHL_cells_v2/detected_cells/MD589/MD589-IHC24-2015.07.30-22.52.55_MD589_3_0072\n"
     ]
    },
    {
     "name": "stderr",
     "output_type": "stream",
     "text": [
      "Child returned 0\n"
     ]
    },
    {
     "name": "stdout",
     "output_type": "stream",
     "text": [
      "aws s3 cp s3://mousebrainatlas-data/CSHL_cells_v2/detected_cells/MD589/MD589-IHC24-2015.07.30-22.52.55_MD589_3_0072/MD589-IHC24-2015.07.30-22.52.55_MD589_3_0072_blobCoords.hdf /shared/CSHL_cells_v2/detected_cells/MD589/MD589-IHC24-2015.07.30-22.52.55_MD589_3_0072/MD589-IHC24-2015.07.30-22.52.55_MD589_3_0072_blobCoords.hdf\n"
     ]
    },
    {
     "name": "stderr",
     "output_type": "stream",
     "text": [
      "Child returned 0\n",
      "2.12 seconds.\n"
     ]
    },
    {
     "name": "stdout",
     "output_type": "stream",
     "text": [
      "Section 164 Finished percentage: 0.000000\n",
      "Section 168 Finished percentage: 19.016830\n",
      "Section 159 Finished percentage: 43.252595\n",
      "Section 131 Finished percentage: 89.507708\n",
      "Section 96 Finished percentage: 53.134963\n",
      "Section 109 Finished percentage: 85.438789\n",
      "Section 105 Finished percentage: 27.300027\n",
      "Section 140 Finished percentage: 0.000000\n",
      "Section 100 Finished percentage: 71.479628\n",
      "Section 149 Finished percentage: 43.665398\n",
      "Section 154 Finished percentage: 60.551014\n",
      "Section 135 Finished percentage: 34.343608\n",
      "Section 144 Finished percentage: 62.862331\n",
      "Section 115 Finished percentage: 0.000000\n",
      "Section 131 Finished percentage: 99.453008\n",
      "Result saved.\n",
      "Section 164 Finished percentage: 4.768262\n",
      "Section 109 Finished percentage: 97.644331\n",
      "Section 168 Finished percentage: 23.771037\n",
      "Section 159 Finished percentage: 48.659170\n",
      "Result saved.\n",
      "Section 173 Finished percentage: 0.000000\n",
      "Section 140 Finished percentage: 9.878495\n",
      "Section 96 Finished percentage: 70.846617\n",
      "Section 105 Finished percentage: 40.950041\n",
      "Section 154 Finished percentage: 66.606116\n",
      "Section 100 Finished percentage: 89.349535\n",
      "Section 149 Finished percentage: 49.903312\n",
      "Section 135 Finished percentage: 42.929510\n",
      "Section 144 Finished percentage: 69.847035\n",
      "Section 115 Finished percentage: 13.743815\n",
      "Result saved.\n",
      "Section 132 Finished percentage: 0.000000\n",
      "Section 159 Finished percentage: 54.065744\n",
      "Section 164 Finished percentage: 9.536525\n",
      "Section 140 Finished percentage: 19.756989\n",
      "Section 96 Finished percentage: 88.558271\n",
      "Section 154 Finished percentage: 72.661217\n",
      "Section 173 Finished percentage: 4.251701\n",
      "Section 168 Finished percentage: 28.525245\n",
      "Section 110 Finished percentage: 0.000000\n",
      "Section 149 Finished percentage: 56.141226\n",
      "Section 105 Finished percentage: 54.600055\n",
      "Section 135 Finished percentage: 51.515412\n",
      "Section 144 Finished percentage: 76.831738\n",
      "Result saved.\n",
      "Section 132 Finished percentage: 10.567473\n",
      "Section 159 Finished percentage: 59.472318\n",
      "Section 115 Finished percentage: 27.487631\n",
      "Section 101 Finished percentage: 0.000000\n",
      "Section 154 Finished percentage: 78.716318\n",
      "Section 140 Finished percentage: 29.635484\n",
      "Section 164 Finished percentage: 14.304787\n",
      "Section 173 Finished percentage: 8.503401\n",
      "Section 168 Finished percentage: 33.279452\n",
      "Section 110 Finished percentage: 12.386969\n",
      "Section 135 Finished percentage: 60.101314\n",
      "Section 149 Finished percentage: 62.379140\n",
      "Section 105 Finished percentage: 68.250068\n",
      "Section 159 Finished percentage: 64.878893\n",
      "Section 132 Finished percentage: 21.134947\n",
      "Section 101 Finished percentage: 18.214936\n",
      "Section 144 Finished percentage: 83.816442\n",
      "Section 115 Finished percentage: 41.231446\n",
      "Section 154 Finished percentage: 84.771420\n",
      "Section 140 Finished percentage: 39.513978\n",
      "Section 164 Finished percentage: 19.073050\n",
      "Section 173 Finished percentage: 12.755102\n",
      "Section 135 Finished percentage: 68.687216\n",
      "Section 168 Finished percentage: 38.033660\n",
      "Section 149 Finished percentage: 68.617054\n",
      "Section 159 Finished percentage: 70.285467\n",
      "Section 110 Finished percentage: 24.773938\n",
      "Section 105 Finished percentage: 81.900082\n",
      "Section 132 Finished percentage: 31.702420\n",
      "Section 101 Finished percentage: 36.429872\n",
      "Section 178 Finished percentage: 0.000000\n",
      "Section 115 Finished percentage: 54.975261\n",
      "Section 144 Finished percentage: 90.801145\n",
      "Section 154 Finished percentage: 90.826521\n",
      "Section 140 Finished percentage: 49.392473\n",
      "Section 173 Finished percentage: 17.006803\n",
      "Section 164 Finished percentage: 23.841312\n",
      "Section 135 Finished percentage: 77.273118\n",
      "Section 105 Finished percentage: 95.550096\n",
      "Section 159 Finished percentage: 75.692042\n",
      "Section 168 Finished percentage: 42.787867\n",
      "Section 110 Finished percentage: 37.160907\n",
      "Section 132 Finished percentage: 42.269893\n",
      "Section 149 Finished percentage: 74.854968\n",
      "Result saved.\n",
      "Section 115 Finished percentage: 68.719076\n",
      "Section 144 Finished percentage: 97.785849\n",
      "Section 178 Finished percentage: 4.599816\n",
      "Section 154 Finished percentage: 96.881623\n",
      "Section 101 Finished percentage: 54.644809\n",
      "Result saved.\n",
      "Section 173 Finished percentage: 21.258503\n",
      "Result saved.\n",
      "Section 140 Finished percentage: 59.270967\n",
      "Section 135 Finished percentage: 85.859019\n",
      "Section 159 Finished percentage: 81.098616\n",
      "Section 164 Finished percentage: 28.609575\n",
      "Section 115 Finished percentage: 82.462892\n",
      "Section 168 Finished percentage: 47.542075\n",
      "Section 132 Finished percentage: 52.837367\n",
      "rm -rf /shared/CSHL_cells_v2/detected_cells/MD589/MD589-N25-2015.07.30-17.40.16_MD589_3_0075/MD589-N25-2015.07.30-17.40.16_MD589_3_0075_blobCoords.hdf && mkdir -p /shared/CSHL_cells_v2/detected_cells/MD589/MD589-N25-2015.07.30-17.40.16_MD589_3_0075\n"
     ]
    },
    {
     "name": "stderr",
     "output_type": "stream",
     "text": [
      "Child returned 0\n"
     ]
    },
    {
     "name": "stdout",
     "output_type": "stream",
     "text": [
      "aws s3 cp s3://mousebrainatlas-data/CSHL_cells_v2/detected_cells/MD589/MD589-N25-2015.07.30-17.40.16_MD589_3_0075/MD589-N25-2015.07.30-17.40.16_MD589_3_0075_blobCoords.hdf /shared/CSHL_cells_v2/detected_cells/MD589/MD589-N25-2015.07.30-17.40.16_MD589_3_0075/MD589-N25-2015.07.30-17.40.16_MD589_3_0075_blobCoords.hdf\n",
      "Section 110 Finished percentage: 49.547876\n",
      "Section 149 Finished percentage: 81.092883\n",
      "Section 106 Finished percentage: 0.000000\n"
     ]
    },
    {
     "name": "stderr",
     "output_type": "stream",
     "text": [
      "Child returned 0\n",
      "2.09 seconds.\n"
     ]
    },
    {
     "name": "stdout",
     "output_type": "stream",
     "text": [
      "rm -rf /shared/CSHL_cells_v2/detected_cells/MD589/MD589-N27-2015.07.30-17.49.06_MD589_2_0080/MD589-N27-2015.07.30-17.49.06_MD589_2_0080_blobCoords.hdf && mkdir -p /shared/CSHL_cells_v2/detected_cells/MD589/MD589-N27-2015.07.30-17.49.06_MD589_2_0080\n"
     ]
    },
    {
     "name": "stderr",
     "output_type": "stream",
     "text": [
      "Child returned 0\n"
     ]
    },
    {
     "name": "stdout",
     "output_type": "stream",
     "text": [
      "aws s3 cp s3://mousebrainatlas-data/CSHL_cells_v2/detected_cells/MD589/MD589-N27-2015.07.30-17.49.06_MD589_2_0080/MD589-N27-2015.07.30-17.49.06_MD589_2_0080_blobCoords.hdf /shared/CSHL_cells_v2/detected_cells/MD589/MD589-N27-2015.07.30-17.49.06_MD589_2_0080/MD589-N27-2015.07.30-17.49.06_MD589_2_0080_blobCoords.hdf\n",
      "Section 178 Finished percentage: 9.199632\n",
      "Section 101 Finished percentage: 72.859745\n"
     ]
    },
    {
     "name": "stderr",
     "output_type": "stream",
     "text": [
      "Child returned 0\n",
      "1.84 seconds.\n"
     ]
    },
    {
     "name": "stdout",
     "output_type": "stream",
     "text": [
      "Section 115 Finished percentage: 96.206707\n",
      "Section 140 Finished percentage: 69.149462\n",
      "Section 173 Finished percentage: 25.510204\n",
      "Result saved.\n",
      "Section 135 Finished percentage: 94.444921\n",
      "Section 159 Finished percentage: 86.505190\n",
      "Section 145 Finished percentage: 0.000000\n",
      "Section 168 Finished percentage: 52.296282\n",
      "Section 132 Finished percentage: 63.404840\n",
      "Section 155 Finished percentage: 0.000000\n",
      "Section 106 Finished percentage: 13.974287\n",
      "Result saved.\n",
      "Section 149 Finished percentage: 87.330797\n",
      "Section 164 Finished percentage: 33.377837\n",
      "Section 110 Finished percentage: 61.934845\n",
      "Section 140 Finished percentage: 79.027956\n",
      "Section 178 Finished percentage: 13.799448\n",
      "Section 101 Finished percentage: 91.074681\n",
      "Section 116 Finished percentage: 0.000000\n",
      "Section 173 Finished percentage: 29.761905\n",
      "Section 159 Finished percentage: 91.911765\n",
      "Section 145 Finished percentage: 6.151953\n",
      "Section 155 Finished percentage: 5.181347\n",
      "Section 168 Finished percentage: 57.050490\n",
      "Section 132 Finished percentage: 73.972313\n",
      "Result saved.\n",
      "Section 149 Finished percentage: 93.568711\n",
      "Section 106 Finished percentage: 27.948575\n",
      "Section 140 Finished percentage: 88.906451\n",
      "Section 136 Finished percentage: 0.000000\n",
      "Section 164 Finished percentage: 38.146100\n",
      "Section 178 Finished percentage: 18.399264\n",
      "Section 159 Finished percentage: 97.318339\n",
      "Section 110 Finished percentage: 74.321813\n",
      "Section 145 Finished percentage: 12.303906\n",
      "Section 116 Finished percentage: 15.103459\n",
      "Section 149 Finished percentage: 99.806625\n",
      "Section 155 Finished percentage: 10.362694\n",
      "Result saved.\n",
      "Section 173 Finished percentage: 34.013605\n",
      "Result saved.\n",
      "Section 132 Finished percentage: 84.539787\n",
      "Section 168 Finished percentage: 61.804697\n",
      "Section 140 Finished percentage: 98.784945\n",
      "Section 145 Finished percentage: 18.455860\n",
      "Section 106 Finished percentage: 41.922862\n",
      "Result saved.\n",
      "Section 136 Finished percentage: 8.242664\n",
      "Section 183 Finished percentage: 0.000000\n",
      "Section 178 Finished percentage: 22.999080\n",
      "Section 155 Finished percentage: 15.544041\n",
      "rm -rf /shared/CSHL_cells_v2/detected_cells/MD589/MD589-IHC28-2015.07.30-23.11.15_MD589_1_0082/MD589-IHC28-2015.07.30-23.11.15_MD589_1_0082_blobCoords.hdf && mkdir -p /shared/CSHL_cells_v2/detected_cells/MD589/MD589-IHC28-2015.07.30-23.11.15_MD589_1_0082\n"
     ]
    },
    {
     "name": "stderr",
     "output_type": "stream",
     "text": [
      "Child returned 0\n"
     ]
    },
    {
     "name": "stdout",
     "output_type": "stream",
     "text": [
      "aws s3 cp s3://mousebrainatlas-data/CSHL_cells_v2/detected_cells/MD589/MD589-IHC28-2015.07.30-23.11.15_MD589_1_0082/MD589-IHC28-2015.07.30-23.11.15_MD589_1_0082_blobCoords.hdf /shared/CSHL_cells_v2/detected_cells/MD589/MD589-IHC28-2015.07.30-23.11.15_MD589_1_0082/MD589-IHC28-2015.07.30-23.11.15_MD589_1_0082_blobCoords.hdf\n",
      "Section 110 Finished percentage: 86.708782\n"
     ]
    },
    {
     "name": "stderr",
     "output_type": "stream",
     "text": [
      "Child returned 0\n",
      "2.25 seconds.\n"
     ]
    },
    {
     "name": "stdout",
     "output_type": "stream",
     "text": [
      "Section 164 Finished percentage: 42.914362\n",
      "Section 173 Finished percentage: 38.265306\n",
      "Section 168 Finished percentage: 66.558905\n",
      "Section 132 Finished percentage: 95.107260\n",
      "Section 116 Finished percentage: 30.206917\n",
      "Section 145 Finished percentage: 24.607813\n",
      "Section 150 Finished percentage: 0.000000\n",
      "Section 136 Finished percentage: 16.485328\n",
      "Result saved.\n",
      "Section 155 Finished percentage: 20.725389\n",
      "Section 106 Finished percentage: 55.897149\n",
      "Section 183 Finished percentage: 5.902839\n",
      "Section 110 Finished percentage: 99.095751\n",
      "Result saved.\n",
      "Section 178 Finished percentage: 27.598896\n",
      "Section 160 Finished percentage: 0.000000\n",
      "Section 141 Finished percentage: 0.000000\n",
      "Section 173 Finished percentage: 42.517007\n",
      "Section 168 Finished percentage: 71.313112\n",
      "Section 164 Finished percentage: 47.682624\n",
      "Section 150 Finished percentage: 5.592216\n",
      "Section 145 Finished percentage: 30.759766\n",
      "Section 155 Finished percentage: 25.906736\n",
      "Section 136 Finished percentage: 24.727992\n",
      "Section 116 Finished percentage: 45.310376\n",
      "Section 141 Finished percentage: 7.819831\n",
      "Section 183 Finished percentage: 11.805679\n",
      "Section 106 Finished percentage: 69.871437\n",
      "Section 160 Finished percentage: 4.954419\n",
      "Section 111 Finished percentage: 0.000000\n",
      "Section 178 Finished percentage: 32.198712\n",
      "Section 173 Finished percentage: 46.768707\n",
      "Section 150 Finished percentage: 11.184431\n",
      "Section 168 Finished percentage: 76.067320\n",
      "Section 141 Finished percentage: 15.639662\n",
      "Section 145 Finished percentage: 36.911719\n",
      "Section 155 Finished percentage: 31.088083\n",
      "Section 164 Finished percentage: 52.450887\n",
      "Section 188 Finished percentage: 0.000000\n",
      "Section 136 Finished percentage: 32.970656\n",
      "Section 116 Finished percentage: 60.413835\n",
      "Section 183 Finished percentage: 17.708518\n",
      "Section 160 Finished percentage: 9.908839\n",
      "Section 111 Finished percentage: 12.903226\n",
      "Section 106 Finished percentage: 83.845724\n",
      "Section 141 Finished percentage: 23.459493\n",
      "Section 150 Finished percentage: 16.776647\n",
      "Section 173 Finished percentage: 51.020408\n",
      "Section 178 Finished percentage: 36.798528\n",
      "Section 168 Finished percentage: 80.821527\n",
      "Section 155 Finished percentage: 36.269430\n",
      "Section 145 Finished percentage: 43.063673\n",
      "Section 116 Finished percentage: 75.517293\n",
      "Section 164 Finished percentage: 57.219149\n",
      "Section 188 Finished percentage: 5.325097\n",
      "Section 136 Finished percentage: 41.213320\n",
      "Section 106 Finished percentage: 97.820011\n",
      "Section 141 Finished percentage: 31.279324\n",
      "Section 183 Finished percentage: 23.611357\n",
      "Result saved.\n",
      "Section 160 Finished percentage: 14.863258\n",
      "Section 150 Finished percentage: 22.368863\n",
      "Section 173 Finished percentage: 55.272109\n",
      "Section 111 Finished percentage: 25.806452\n",
      "Section 178 Finished percentage: 41.398344\n",
      "Section 155 Finished percentage: 41.450777\n",
      "Section 168 Finished percentage: 85.575735\n",
      "Section 116 Finished percentage: 90.620752\n",
      "Section 141 Finished percentage: 39.099155\n",
      "Section 145 Finished percentage: 49.215626\n",
      "Section 164 Finished percentage: 61.987412\n",
      "Section 136 Finished percentage: 49.455984\n",
      "Section 160 Finished percentage: 19.817677\n",
      "Result saved.\n",
      "Section 188 Finished percentage: 10.650194\n",
      "Section 183 Finished percentage: 29.514196\n",
      "Section 150 Finished percentage: 27.961078\n",
      "Section 173 Finished percentage: 59.523810\n",
      "Section 155 Finished percentage: 46.632124\n",
      "Section 111 Finished percentage: 38.709677\n",
      "Section 178 Finished percentage: 45.998160\n",
      "Section 168 Finished percentage: 90.329942\n",
      "Section 141 Finished percentage: 46.918987\n",
      "Section 193 Finished percentage: 0.000000\n",
      "Section 145 Finished percentage: 55.367579\n",
      "Section 173 Finished percentage: 63.775510\n",
      "Section 160 Finished percentage: 24.772097\n",
      "Section 136 Finished percentage: 57.698648\n",
      "Section 155 Finished percentage: 51.813472\n",
      "Section 150 Finished percentage: 33.553294\n",
      "Section 183 Finished percentage: 35.417036\n",
      "Section 164 Finished percentage: 66.755674\n",
      "Section 188 Finished percentage: 15.975292\n",
      "Section 178 Finished percentage: 50.597976\n",
      "Section 141 Finished percentage: 54.738818\n",
      "Section 168 Finished percentage: 95.084149\n",
      "Section 111 Finished percentage: 51.612903\n",
      "Section 193 Finished percentage: 4.542770\n",
      "Section 173 Finished percentage: 68.027211\n",
      "Section 155 Finished percentage: 56.994819\n",
      "Section 145 Finished percentage: 61.519532\n",
      "Section 183 Finished percentage: 41.319875\n",
      "Section 198 Finished percentage: 0.000000\n",
      "Section 160 Finished percentage: 29.726516\n",
      "Section 136 Finished percentage: 65.941312\n",
      "Section 150 Finished percentage: 39.145509\n",
      "Section 168 Finished percentage: 99.838357\n",
      "Result saved.\n",
      "Section 178 Finished percentage: 55.197792\n",
      "Section 141 Finished percentage: 62.558649\n",
      "Section 164 Finished percentage: 71.523937\n",
      "Section 188 Finished percentage: 21.300389\n",
      "Section 111 Finished percentage: 64.516129\n",
      "Section 193 Finished percentage: 9.085540\n",
      "Section 155 Finished percentage: 62.176166\n",
      "Section 173 Finished percentage: 72.278912\n",
      "Section 183 Finished percentage: 47.222714\n",
      "rm -rf /shared/CSHL_cells_v2/detected_cells/MD589/MD589-N29-2015.07.30-17.58.29_MD589_3_0087/MD589-N29-2015.07.30-17.58.29_MD589_3_0087_blobCoords.hdf && mkdir -p /shared/CSHL_cells_v2/detected_cells/MD589/MD589-N29-2015.07.30-17.58.29_MD589_3_0087\n"
     ]
    },
    {
     "name": "stderr",
     "output_type": "stream",
     "text": [
      "Child returned 0\n"
     ]
    },
    {
     "name": "stdout",
     "output_type": "stream",
     "text": [
      "aws s3 cp s3://mousebrainatlas-data/CSHL_cells_v2/detected_cells/MD589/MD589-N29-2015.07.30-17.58.29_MD589_3_0087/MD589-N29-2015.07.30-17.58.29_MD589_3_0087_blobCoords.hdf /shared/CSHL_cells_v2/detected_cells/MD589/MD589-N29-2015.07.30-17.58.29_MD589_3_0087/MD589-N29-2015.07.30-17.58.29_MD589_3_0087_blobCoords.hdf\n",
      "Section 145 Finished percentage: 67.671486\n"
     ]
    },
    {
     "name": "stderr",
     "output_type": "stream",
     "text": [
      "Child returned 0\n",
      "2.20 seconds.\n"
     ]
    },
    {
     "name": "stdout",
     "output_type": "stream",
     "text": [
      "Section 198 Finished percentage: 4.840505\n",
      "Section 141 Finished percentage: 70.378480\n",
      "Section 178 Finished percentage: 59.797608\n",
      "Section 150 Finished percentage: 44.737725\n",
      "Section 160 Finished percentage: 34.680935\n",
      "Section 136 Finished percentage: 74.183976\n",
      "Section 155 Finished percentage: 67.357513\n",
      "Section 164 Finished percentage: 76.292199\n",
      "Section 193 Finished percentage: 13.628311\n",
      "Section 111 Finished percentage: 77.419355\n",
      "Section 188 Finished percentage: 26.625486\n",
      "Section 183 Finished percentage: 53.125553\n",
      "Section 173 Finished percentage: 76.530612\n",
      "Section 169 Finished percentage: 0.000000\n",
      "Section 141 Finished percentage: 78.198311\n",
      "Section 145 Finished percentage: 73.823439\n",
      "Section 155 Finished percentage: 72.538860\n",
      "Section 150 Finished percentage: 50.329941\n",
      "Section 178 Finished percentage: 64.397424\n",
      "Section 198 Finished percentage: 9.681011\n",
      "Section 136 Finished percentage: 82.426640\n",
      "Section 160 Finished percentage: 39.635355\n",
      "Section 111 Finished percentage: 90.322581\n",
      "Section 183 Finished percentage: 59.028393\n",
      "Section 164 Finished percentage: 81.060462\n",
      "Section 193 Finished percentage: 18.171081\n",
      "Section 141 Finished percentage: 86.018142\n",
      "Section 169 Finished percentage: 4.106608\n",
      "Section 173 Finished percentage: 80.782313\n",
      "Section 188 Finished percentage: 31.950583\n",
      "Section 155 Finished percentage: 77.720207\n",
      "Result saved.\n",
      "Section 178 Finished percentage: 68.997240\n",
      "Section 150 Finished percentage: 55.922156\n",
      "Section 145 Finished percentage: 79.975392\n",
      "Section 141 Finished percentage: 93.837973\n",
      "Section 183 Finished percentage: 64.931232\n",
      "Section 136 Finished percentage: 90.669304\n",
      "Section 198 Finished percentage: 14.521516\n",
      "Section 160 Finished percentage: 44.589774\n",
      "Section 169 Finished percentage: 8.213215\n",
      "Section 173 Finished percentage: 85.034014\n",
      "Result saved.\n",
      "Section 164 Finished percentage: 85.828724\n",
      "Section 155 Finished percentage: 82.901554\n",
      "Section 178 Finished percentage: 73.597056\n",
      "Section 193 Finished percentage: 22.713851\n",
      "Section 136 Finished percentage: 98.911968\n",
      "Section 150 Finished percentage: 61.514372\n",
      "Result saved.\n",
      "Section 145 Finished percentage: 86.127345\n",
      "Section 188 Finished percentage: 37.275680\n",
      "Section 183 Finished percentage: 70.834071\n",
      "Section 160 Finished percentage: 49.544193\n",
      "Section 173 Finished percentage: 89.285714\n",
      "Section 169 Finished percentage: 12.319823\n",
      "Section 155 Finished percentage: 88.082902\n",
      "Section 203 Finished percentage: 0.000000\n",
      "Section 198 Finished percentage: 19.362021\n",
      "Section 178 Finished percentage: 78.196872\n",
      "Section 150 Finished percentage: 67.106588\n",
      "Section 145 Finished percentage: 92.279299\n",
      "Section 183 Finished percentage: 76.736910\n",
      "Section 142 Finished percentage: 0.000000\n",
      "Section 164 Finished percentage: 90.596986\n",
      "Section 193 Finished percentage: 27.256621\n",
      "Section 188 Finished percentage: 42.600777\n",
      "Section 173 Finished percentage: 93.537415\n",
      "Section 137 Finished percentage: 0.000000\n",
      "Section 155 Finished percentage: 93.264249\n",
      "Section 160 Finished percentage: 54.498613\n",
      "Section 145 Finished percentage: 98.431252\n",
      "Section 169 Finished percentage: 16.426430\n",
      "Section 203 Finished percentage: 4.627701\n",
      "Section 150 Finished percentage: 72.698803\n",
      "Result saved.\n",
      "Section 178 Finished percentage: 82.796688\n",
      "Section 183 Finished percentage: 82.639750\n",
      "Section 198 Finished percentage: 24.202527\n",
      "Section 142 Finished percentage: 8.196721\n",
      "Section 155 Finished percentage: 98.445596\n",
      "Section 164 Finished percentage: 95.365249\n",
      "Section 173 Finished percentage: 97.789116\n",
      "Section 137 Finished percentage: 7.366483\n",
      "Result saved.\n",
      "Section 169 Finished percentage: 20.533038\n",
      "Section 193 Finished percentage: 31.799391\n",
      "Section 188 Finished percentage: 47.925875\n",
      "Section 160 Finished percentage: 59.453032\n",
      "Result saved.\n",
      "Section 183 Finished percentage: 88.542589\n",
      "Section 178 Finished percentage: 87.396504\n",
      "Section 150 Finished percentage: 78.291019\n",
      "Section 203 Finished percentage: 9.255403\n",
      "Section 142 Finished percentage: 16.393443\n",
      "Section 137 Finished percentage: 14.732965\n",
      "Section 146 Finished percentage: 0.000000\n",
      "Result saved.\n",
      "Section 198 Finished percentage: 29.043032\n",
      "Section 169 Finished percentage: 24.639645\n",
      "Section 183 Finished percentage: 94.445428\n",
      "rm -rf /shared/CSHL_cells_v2/detected_cells/MD589/MD589-IHC30-2015.07.30-23.20.46_MD589_2_0089/MD589-IHC30-2015.07.30-23.20.46_MD589_2_0089_blobCoords.hdf && mkdir -p /shared/CSHL_cells_v2/detected_cells/MD589/MD589-IHC30-2015.07.30-23.20.46_MD589_2_0089\n"
     ]
    },
    {
     "name": "stderr",
     "output_type": "stream",
     "text": [
      "Child returned 0\n"
     ]
    },
    {
     "name": "stdout",
     "output_type": "stream",
     "text": [
      "aws s3 cp s3://mousebrainatlas-data/CSHL_cells_v2/detected_cells/MD589/MD589-IHC30-2015.07.30-23.20.46_MD589_2_0089/MD589-IHC30-2015.07.30-23.20.46_MD589_2_0089_blobCoords.hdf /shared/CSHL_cells_v2/detected_cells/MD589/MD589-IHC30-2015.07.30-23.20.46_MD589_2_0089/MD589-IHC30-2015.07.30-23.20.46_MD589_2_0089_blobCoords.hdf\n",
      "Section 193 Finished percentage: 36.342161\n",
      "Section 160 Finished percentage: 64.407451\n"
     ]
    },
    {
     "name": "stderr",
     "output_type": "stream",
     "text": [
      "Child returned 0\n",
      "2.41 seconds.\n"
     ]
    },
    {
     "name": "stdout",
     "output_type": "stream",
     "text": [
      "Section 188 Finished percentage: 53.250972\n",
      "Section 178 Finished percentage: 91.996320\n",
      "Section 150 Finished percentage: 83.883235\n",
      "Section 137 Finished percentage: 22.099448\n",
      "Section 142 Finished percentage: 24.590164\n",
      "Section 156 Finished percentage: 0.000000\n",
      "Section 146 Finished percentage: 6.464124\n",
      "Section 203 Finished percentage: 13.883104\n",
      "rm -rf /shared/CSHL_cells_v2/detected_cells/MD589/MD589-N29-2015.07.30-17.58.29_MD589_1_0085/MD589-N29-2015.07.30-17.58.29_MD589_1_0085_blobCoords.hdf && mkdir -p /shared/CSHL_cells_v2/detected_cells/MD589/MD589-N29-2015.07.30-17.58.29_MD589_1_0085\n"
     ]
    },
    {
     "name": "stderr",
     "output_type": "stream",
     "text": [
      "Child returned 0\n"
     ]
    },
    {
     "name": "stdout",
     "output_type": "stream",
     "text": [
      "aws s3 cp s3://mousebrainatlas-data/CSHL_cells_v2/detected_cells/MD589/MD589-N29-2015.07.30-17.58.29_MD589_1_0085/MD589-N29-2015.07.30-17.58.29_MD589_1_0085_blobCoords.hdf /shared/CSHL_cells_v2/detected_cells/MD589/MD589-N29-2015.07.30-17.58.29_MD589_1_0085/MD589-N29-2015.07.30-17.58.29_MD589_1_0085_blobCoords.hdf\n"
     ]
    },
    {
     "name": "stderr",
     "output_type": "stream",
     "text": [
      "Child returned 0\n",
      "2.53 seconds.\n"
     ]
    },
    {
     "name": "stdout",
     "output_type": "stream",
     "text": [
      "Result saved.\n",
      "Section 198 Finished percentage: 33.883537\n",
      "Section 174 Finished percentage: 0.000000\n",
      "Section 193 Finished percentage: 40.884932\n",
      "Section 169 Finished percentage: 28.746253\n",
      "Section 160 Finished percentage: 69.361871\n",
      "Section 178 Finished percentage: 96.596136\n",
      "Section 137 Finished percentage: 29.465930\n",
      "Section 150 Finished percentage: 89.475450\n",
      "Section 156 Finished percentage: 6.975933\n",
      "Section 146 Finished percentage: 12.928248\n",
      "Section 188 Finished percentage: 58.576069\n",
      "Section 165 Finished percentage: 0.000000\n",
      "Section 142 Finished percentage: 32.786885\n",
      "rm -rf /shared/CSHL_cells_v2/detected_cells/MD589/MD589-IHC32-2015.07.30-23.30.34_MD589_2_0095/MD589-IHC32-2015.07.30-23.30.34_MD589_2_0095_blobCoords.hdf && mkdir -p /shared/CSHL_cells_v2/detected_cells/MD589/MD589-IHC32-2015.07.30-23.30.34_MD589_2_0095\n"
     ]
    },
    {
     "name": "stderr",
     "output_type": "stream",
     "text": [
      "Child returned 0\n"
     ]
    },
    {
     "name": "stdout",
     "output_type": "stream",
     "text": [
      "aws s3 cp s3://mousebrainatlas-data/CSHL_cells_v2/detected_cells/MD589/MD589-IHC32-2015.07.30-23.30.34_MD589_2_0095/MD589-IHC32-2015.07.30-23.30.34_MD589_2_0095_blobCoords.hdf /shared/CSHL_cells_v2/detected_cells/MD589/MD589-IHC32-2015.07.30-23.30.34_MD589_2_0095/MD589-IHC32-2015.07.30-23.30.34_MD589_2_0095_blobCoords.hdf\n"
     ]
    },
    {
     "name": "stderr",
     "output_type": "stream",
     "text": [
      "Child returned 0\n",
      "2.30 seconds.\n"
     ]
    },
    {
     "name": "stdout",
     "output_type": "stream",
     "text": [
      "Section 203 Finished percentage: 18.510806\n",
      "Result saved.\n",
      "Section 198 Finished percentage: 38.724043\n",
      "Section 174 Finished percentage: 4.675738\n",
      "Section 193 Finished percentage: 45.427702\n",
      "Section 169 Finished percentage: 32.852860\n",
      "Section 137 Finished percentage: 36.832413\n",
      "Section 160 Finished percentage: 74.316290\n",
      "Section 150 Finished percentage: 95.067666\n",
      "Section 156 Finished percentage: 13.951866\n",
      "Section 146 Finished percentage: 19.392372\n",
      "Section 184 Finished percentage: 0.000000\n",
      "Section 165 Finished percentage: 3.896357\n",
      "Section 188 Finished percentage: 63.901166\n",
      "Section 142 Finished percentage: 40.983607\n",
      "Section 203 Finished percentage: 23.138507\n",
      "Section 198 Finished percentage: 43.564548\n",
      "rm -rf /shared/CSHL_cells_v2/detected_cells/MD589/MD589-N31-2015.07.30-18.08.35_MD589_2_0092/MD589-N31-2015.07.30-18.08.35_MD589_2_0092_blobCoords.hdf && mkdir -p /shared/CSHL_cells_v2/detected_cells/MD589/MD589-N31-2015.07.30-18.08.35_MD589_2_0092\n"
     ]
    },
    {
     "name": "stderr",
     "output_type": "stream",
     "text": [
      "Child returned 0\n"
     ]
    },
    {
     "name": "stdout",
     "output_type": "stream",
     "text": [
      "Result saved.\n",
      "aws s3 cp s3://mousebrainatlas-data/CSHL_cells_v2/detected_cells/MD589/MD589-N31-2015.07.30-18.08.35_MD589_2_0092/MD589-N31-2015.07.30-18.08.35_MD589_2_0092_blobCoords.hdf /shared/CSHL_cells_v2/detected_cells/MD589/MD589-N31-2015.07.30-18.08.35_MD589_2_0092/MD589-N31-2015.07.30-18.08.35_MD589_2_0092_blobCoords.hdf\n"
     ]
    },
    {
     "name": "stderr",
     "output_type": "stream",
     "text": [
      "Child returned 0\n",
      "2.22 seconds.\n"
     ]
    },
    {
     "name": "stdout",
     "output_type": "stream",
     "text": [
      "Section 193 Finished percentage: 49.970472\n",
      "Section 156 Finished percentage: 20.927799\n",
      "Section 174 Finished percentage: 9.351475\n",
      "Section 146 Finished percentage: 25.856496\n",
      "Section 137 Finished percentage: 44.198895\n",
      "Section 169 Finished percentage: 36.959468\n",
      "Section 160 Finished percentage: 79.270709\n",
      "Section 184 Finished percentage: 5.515720\n",
      "Section 165 Finished percentage: 7.792714\n",
      "Section 188 Finished percentage: 69.226263\n",
      "Section 142 Finished percentage: 49.180328\n",
      "Section 198 Finished percentage: 48.405053\n",
      "Section 179 Finished percentage: 0.000000\n",
      "Section 156 Finished percentage: 27.903732\n",
      "Section 203 Finished percentage: 27.766209\n",
      "Section 193 Finished percentage: 54.513242\n",
      "Section 174 Finished percentage: 14.027213\n",
      "Section 137 Finished percentage: 51.565378\n",
      "Section 146 Finished percentage: 32.320621\n",
      "Section 160 Finished percentage: 84.225129\n",
      "Section 169 Finished percentage: 41.066075\n",
      "Section 184 Finished percentage: 11.031440\n",
      "Section 165 Finished percentage: 11.689071\n",
      "Section 188 Finished percentage: 74.551361\n",
      "Section 198 Finished percentage: 53.245559\n",
      "Section 142 Finished percentage: 57.377049\n",
      "Section 151 Finished percentage: 0.000000\n",
      "Section 179 Finished percentage: 4.114888\n",
      "Section 174 Finished percentage: 18.702950\n",
      "Section 193 Finished percentage: 59.056012\n",
      "Section 137 Finished percentage: 58.931860\n",
      "Section 156 Finished percentage: 34.879665\n",
      "Section 203 Finished percentage: 32.393910\n",
      "Section 169 Finished percentage: 45.172683\n",
      "Section 146 Finished percentage: 38.784745\n",
      "Section 160 Finished percentage: 89.179548\n",
      "Section 184 Finished percentage: 16.547159\n",
      "Section 165 Finished percentage: 15.585428\n",
      "Section 151 Finished percentage: 6.294851\n",
      "Section 188 Finished percentage: 79.876458\n",
      "Section 198 Finished percentage: 58.086064\n",
      "Section 142 Finished percentage: 65.573770\n",
      "Section 179 Finished percentage: 8.229775\n",
      "Section 169 Finished percentage: 49.279290\n",
      "Section 203 Finished percentage: 37.021611\n",
      "Section 137 Finished percentage: 66.298343\n",
      "Section 174 Finished percentage: 23.378688\n",
      "Section 193 Finished percentage: 63.598783\n",
      "Section 146 Finished percentage: 45.248869\n",
      "Section 156 Finished percentage: 41.855598\n",
      "Section 160 Finished percentage: 94.133967\n",
      "Section 184 Finished percentage: 22.062879\n",
      "Section 165 Finished percentage: 19.481785\n",
      "Section 151 Finished percentage: 12.589702\n",
      "Section 188 Finished percentage: 85.201555\n",
      "Section 198 Finished percentage: 62.926570\n",
      "Section 179 Finished percentage: 12.344663\n",
      "Section 203 Finished percentage: 41.649313\n",
      "Section 169 Finished percentage: 53.385898\n",
      "Section 142 Finished percentage: 73.770492\n",
      "Section 137 Finished percentage: 73.664825\n",
      "Section 193 Finished percentage: 68.141553\n",
      "Section 174 Finished percentage: 28.054426\n",
      "Section 160 Finished percentage: 99.088387\n",
      "Section 146 Finished percentage: 51.712993\n",
      "Section 184 Finished percentage: 27.578599\n",
      "Result saved.\n",
      "Section 156 Finished percentage: 48.831531\n",
      "Section 151 Finished percentage: 18.884552\n",
      "Section 198 Finished percentage: 67.767075\n",
      "Section 165 Finished percentage: 23.378141\n",
      "Section 169 Finished percentage: 57.492505\n",
      "Section 188 Finished percentage: 90.526652\n",
      "Section 179 Finished percentage: 16.459551\n",
      "Section 203 Finished percentage: 46.277014\n",
      "Section 137 Finished percentage: 81.031308\n",
      "Section 142 Finished percentage: 81.967213\n",
      "Section 193 Finished percentage: 72.684323\n",
      "Section 174 Finished percentage: 32.730163\n",
      "Section 156 Finished percentage: 55.807464\n",
      "Section 203 Finished percentage: 50.904716\n",
      "Section 184 Finished percentage: 33.094319\n",
      "Section 146 Finished percentage: 58.177117\n",
      "Section 151 Finished percentage: 25.179403\n",
      "Section 198 Finished percentage: 72.607580\n",
      "Section 179 Finished percentage: 20.574438\n",
      "Section 169 Finished percentage: 61.599113\n",
      "Section 188 Finished percentage: 95.851749\n",
      "Section 165 Finished percentage: 27.274498\n",
      "Section 137 Finished percentage: 88.397790\n",
      "Section 193 Finished percentage: 77.227093\n",
      "Section 142 Finished percentage: 90.163934\n",
      "Section 161 Finished percentage: 0.000000\n",
      "Section 203 Finished percentage: 55.532417\n",
      "Section 184 Finished percentage: 38.610039\n",
      "Section 156 Finished percentage: 62.783397\n",
      "Result saved.\n",
      "Section 174 Finished percentage: 37.405901\n",
      "Section 146 Finished percentage: 64.641241\n",
      "Section 198 Finished percentage: 77.448086\n",
      "Section 137 Finished percentage: 95.764273\n",
      "Section 151 Finished percentage: 31.474254\n",
      "Section 169 Finished percentage: 65.705721\n",
      "Section 179 Finished percentage: 24.689326\n",
      "Section 142 Finished percentage: 98.360656\n",
      "Section 193 Finished percentage: 81.769863\n",
      "Result saved.\n",
      "Result saved.\n",
      "Section 161 Finished percentage: 4.295533\n",
      "Section 165 Finished percentage: 31.170855\n",
      "Section 203 Finished percentage: 60.160118\n",
      "rm -rf /shared/CSHL_cells_v2/detected_cells/MD589/MD589-N34-2015.07.30-18.20.43_MD589_1_0100/MD589-N34-2015.07.30-18.20.43_MD589_1_0100_blobCoords.hdf && mkdir -p /shared/CSHL_cells_v2/detected_cells/MD589/MD589-N34-2015.07.30-18.20.43_MD589_1_0100\n"
     ]
    },
    {
     "name": "stderr",
     "output_type": "stream",
     "text": [
      "Child returned 0\n"
     ]
    },
    {
     "name": "stdout",
     "output_type": "stream",
     "text": [
      "aws s3 cp s3://mousebrainatlas-data/CSHL_cells_v2/detected_cells/MD589/MD589-N34-2015.07.30-18.20.43_MD589_1_0100/MD589-N34-2015.07.30-18.20.43_MD589_1_0100_blobCoords.hdf /shared/CSHL_cells_v2/detected_cells/MD589/MD589-N34-2015.07.30-18.20.43_MD589_1_0100/MD589-N34-2015.07.30-18.20.43_MD589_1_0100_blobCoords.hdf\n",
      "Section 184 Finished percentage: 44.125758\n"
     ]
    },
    {
     "name": "stderr",
     "output_type": "stream",
     "text": [
      "Child returned 0\n",
      "2.44 seconds.\n"
     ]
    },
    {
     "name": "stdout",
     "output_type": "stream",
     "text": [
      "Section 156 Finished percentage: 69.759330\n",
      "Section 198 Finished percentage: 82.288591\n",
      "Section 151 Finished percentage: 37.769105\n",
      "Section 169 Finished percentage: 69.812328\n",
      "Section 174 Finished percentage: 42.081638\n",
      "Section 146 Finished percentage: 71.105365\n",
      "Section 179 Finished percentage: 28.804214\n",
      "Section 193 Finished percentage: 86.312633\n",
      "Section 203 Finished percentage: 64.787820\n",
      "Section 161 Finished percentage: 8.591065\n",
      "Section 165 Finished percentage: 35.067212\n",
      "Section 189 Finished percentage: 0.000000\n",
      "Section 184 Finished percentage: 49.641478\n",
      "Section 198 Finished percentage: 87.129096\n",
      "Section 156 Finished percentage: 76.735263\n",
      "Section 169 Finished percentage: 73.918936\n",
      "Section 174 Finished percentage: 46.757376\n",
      "Section 161 Finished percentage: 12.886598\n",
      "Section 151 Finished percentage: 44.063956\n",
      "Section 179 Finished percentage: 32.919101\n",
      "Section 193 Finished percentage: 90.855404\n",
      "Section 203 Finished percentage: 69.415521\n",
      "Section 208 Finished percentage: 0.000000\n",
      "Section 213 Finished percentage: 0.000000\n",
      "Section 146 Finished percentage: 77.569489\n",
      "Section 184 Finished percentage: 55.157198\n",
      "Section 189 Finished percentage: 3.978041\n",
      "Section 165 Finished percentage: 38.963569\n",
      "Section 198 Finished percentage: 91.969602\n",
      "Section 169 Finished percentage: 78.025543\n",
      "Section 193 Finished percentage: 95.398174\n",
      "Section 203 Finished percentage: 74.043223\n",
      "Section 161 Finished percentage: 17.182131\n",
      "Section 156 Finished percentage: 83.711196\n",
      "Section 151 Finished percentage: 50.358806\n",
      "Section 179 Finished percentage: 37.033989\n",
      "Section 174 Finished percentage: 51.433114\n",
      "Section 208 Finished percentage: 4.202387\n",
      "Section 213 Finished percentage: 5.031193\n",
      "Section 146 Finished percentage: 84.033613\n",
      "Section 184 Finished percentage: 60.672918\n",
      "Section 189 Finished percentage: 7.956082\n",
      "Section 193 Finished percentage: 99.940944\n",
      "Result saved.\n",
      "Section 198 Finished percentage: 96.810107\n",
      "Section 165 Finished percentage: 42.859926\n",
      "Section 169 Finished percentage: 82.132151\n",
      "Section 203 Finished percentage: 78.670924\n",
      "Section 161 Finished percentage: 21.477663\n",
      "Section 179 Finished percentage: 41.148877\n",
      "Section 174 Finished percentage: 56.108851\n",
      "Section 151 Finished percentage: 56.653657\n",
      "Section 156 Finished percentage: 90.687129\n",
      "Section 184 Finished percentage: 66.188638\n",
      "Section 208 Finished percentage: 8.404774\n",
      "Section 146 Finished percentage: 90.497738\n",
      "rm -rf /shared/CSHL_cells_v2/detected_cells/MD589/MD589-IHC35-2015.07.30-23.42.32_MD589_1_0103/MD589-IHC35-2015.07.30-23.42.32_MD589_1_0103_blobCoords.hdf && mkdir -p /shared/CSHL_cells_v2/detected_cells/MD589/MD589-IHC35-2015.07.30-23.42.32_MD589_1_0103\n"
     ]
    },
    {
     "name": "stderr",
     "output_type": "stream",
     "text": [
      "Child returned 0\n"
     ]
    },
    {
     "name": "stdout",
     "output_type": "stream",
     "text": [
      "aws s3 cp s3://mousebrainatlas-data/CSHL_cells_v2/detected_cells/MD589/MD589-IHC35-2015.07.30-23.42.32_MD589_1_0103/MD589-IHC35-2015.07.30-23.42.32_MD589_1_0103_blobCoords.hdf /shared/CSHL_cells_v2/detected_cells/MD589/MD589-IHC35-2015.07.30-23.42.32_MD589_1_0103/MD589-IHC35-2015.07.30-23.42.32_MD589_1_0103_blobCoords.hdf\n",
      "Result saved.\n"
     ]
    },
    {
     "name": "stderr",
     "output_type": "stream",
     "text": [
      "Child returned 0\n",
      "2.17 seconds.\n"
     ]
    },
    {
     "name": "stdout",
     "output_type": "stream",
     "text": [
      "Section 213 Finished percentage: 10.062387\n",
      "Section 203 Finished percentage: 83.298626\n",
      "Section 169 Finished percentage: 86.238758\n",
      "Section 189 Finished percentage: 11.934124\n",
      "Section 156 Finished percentage: 97.663062\n",
      "Section 165 Finished percentage: 46.756283\n",
      "Section 161 Finished percentage: 25.773196\n",
      "Section 179 Finished percentage: 45.263764\n",
      "Section 174 Finished percentage: 60.784589\n",
      "Section 151 Finished percentage: 62.948508\n",
      "Section 184 Finished percentage: 71.704357\n",
      "rm -rf /shared/CSHL_cells_v2/detected_cells/MD589/MD589-N36-2015.07.30-18.28.52_MD589_2_0107/MD589-N36-2015.07.30-18.28.52_MD589_2_0107_blobCoords.hdf && mkdir -p /shared/CSHL_cells_v2/detected_cells/MD589/MD589-N36-2015.07.30-18.28.52_MD589_2_0107\n"
     ]
    },
    {
     "name": "stderr",
     "output_type": "stream",
     "text": [
      "Child returned 0\n"
     ]
    },
    {
     "name": "stdout",
     "output_type": "stream",
     "text": [
      "aws s3 cp s3://mousebrainatlas-data/CSHL_cells_v2/detected_cells/MD589/MD589-N36-2015.07.30-18.28.52_MD589_2_0107/MD589-N36-2015.07.30-18.28.52_MD589_2_0107_blobCoords.hdf /shared/CSHL_cells_v2/detected_cells/MD589/MD589-N36-2015.07.30-18.28.52_MD589_2_0107/MD589-N36-2015.07.30-18.28.52_MD589_2_0107_blobCoords.hdf\n",
      "Section 194 Finished percentage: 0.000000\n",
      "Result saved.\n"
     ]
    },
    {
     "name": "stderr",
     "output_type": "stream",
     "text": [
      "Child returned 0\n",
      "2.31 seconds.\n"
     ]
    },
    {
     "name": "stdout",
     "output_type": "stream",
     "text": [
      "Section 146 Finished percentage: 96.961862\n",
      "Section 203 Finished percentage: 87.926327\n",
      "Result saved.\n",
      "Section 179 Finished percentage: 49.378652\n",
      "Section 208 Finished percentage: 12.607161\n",
      "Section 169 Finished percentage: 90.345366\n",
      "Section 184 Finished percentage: 77.220077\n",
      "Section 213 Finished percentage: 15.093580\n",
      "Section 174 Finished percentage: 65.460326\n",
      "Section 165 Finished percentage: 50.652640\n",
      "Section 189 Finished percentage: 15.912165\n",
      "Section 199 Finished percentage: 0.000000\n",
      "Section 161 Finished percentage: 30.068729\n",
      "Section 151 Finished percentage: 69.243359\n",
      "Section 194 Finished percentage: 4.645761\n",
      "Section 203 Finished percentage: 92.554028\n",
      "Section 157 Finished percentage: 0.000000\n",
      "Section 184 Finished percentage: 82.735797\n",
      "Section 179 Finished percentage: 53.493540\n",
      "Section 169 Finished percentage: 94.451973\n",
      "Section 174 Finished percentage: 70.136064\n",
      "Section 165 Finished percentage: 54.548997\n",
      "Section 147 Finished percentage: 0.000000\n",
      "Section 199 Finished percentage: 4.480889\n",
      "Section 151 Finished percentage: 75.538210\n",
      "Section 189 Finished percentage: 19.890206\n",
      "Section 161 Finished percentage: 34.364261\n",
      "Section 208 Finished percentage: 16.809548\n",
      "Section 157 Finished percentage: 5.086987\n",
      "Section 213 Finished percentage: 20.124774\n",
      "Section 169 Finished percentage: 98.558581\n",
      "Section 194 Finished percentage: 9.291521\n",
      "Section 184 Finished percentage: 88.251517\n",
      "Section 179 Finished percentage: 57.608427\n",
      "Result saved.\n",
      "Section 203 Finished percentage: 97.181730\n",
      "Section 174 Finished percentage: 74.811802\n",
      "Section 151 Finished percentage: 81.833061\n",
      "Section 147 Finished percentage: 5.838734\n",
      "Section 165 Finished percentage: 58.445354\n",
      "Section 157 Finished percentage: 10.173975\n",
      "Section 199 Finished percentage: 8.961778\n",
      "rm -rf /shared/CSHL_cells_v2/detected_cells/MD589/MD589-IHC29-2015.07.30-23.16.01_MD589_3_0087/MD589-IHC29-2015.07.30-23.16.01_MD589_3_0087_blobCoords.hdf && mkdir -p /shared/CSHL_cells_v2/detected_cells/MD589/MD589-IHC29-2015.07.30-23.16.01_MD589_3_0087\n"
     ]
    },
    {
     "name": "stderr",
     "output_type": "stream",
     "text": [
      "Child returned 0\n"
     ]
    },
    {
     "name": "stdout",
     "output_type": "stream",
     "text": [
      "aws s3 cp s3://mousebrainatlas-data/CSHL_cells_v2/detected_cells/MD589/MD589-IHC29-2015.07.30-23.16.01_MD589_3_0087/MD589-IHC29-2015.07.30-23.16.01_MD589_3_0087_blobCoords.hdf /shared/CSHL_cells_v2/detected_cells/MD589/MD589-IHC29-2015.07.30-23.16.01_MD589_3_0087/MD589-IHC29-2015.07.30-23.16.01_MD589_3_0087_blobCoords.hdf\n",
      "Section 189 Finished percentage: 23.868247\n",
      "Section 184 Finished percentage: 93.767237\n",
      "Result saved.\n",
      "Section 161 Finished percentage: 38.659794\n"
     ]
    },
    {
     "name": "stderr",
     "output_type": "stream",
     "text": [
      "Child returned 0\n",
      "2.36 seconds.\n"
     ]
    },
    {
     "name": "stdout",
     "output_type": "stream",
     "text": [
      "Section 179 Finished percentage: 61.723315\n",
      "Section 213 Finished percentage: 25.155967\n",
      "Section 208 Finished percentage: 21.011935\n",
      "Section 194 Finished percentage: 13.937282\n",
      "Section 174 Finished percentage: 79.487539\n",
      "Section 157 Finished percentage: 15.260962\n",
      "Section 147 Finished percentage: 11.677468\n",
      "Section 151 Finished percentage: 88.127911\n",
      "Section 165 Finished percentage: 62.341711\n",
      "rm -rf /shared/CSHL_cells_v2/detected_cells/MD589/MD589-IHC37-2015.07.30-23.50.39_MD589_2_0110/MD589-IHC37-2015.07.30-23.50.39_MD589_2_0110_blobCoords.hdf && mkdir -p /shared/CSHL_cells_v2/detected_cells/MD589/MD589-IHC37-2015.07.30-23.50.39_MD589_2_0110\n"
     ]
    },
    {
     "name": "stderr",
     "output_type": "stream",
     "text": [
      "Child returned 0\n"
     ]
    },
    {
     "name": "stdout",
     "output_type": "stream",
     "text": [
      "aws s3 cp s3://mousebrainatlas-data/CSHL_cells_v2/detected_cells/MD589/MD589-IHC37-2015.07.30-23.50.39_MD589_2_0110/MD589-IHC37-2015.07.30-23.50.39_MD589_2_0110_blobCoords.hdf /shared/CSHL_cells_v2/detected_cells/MD589/MD589-IHC37-2015.07.30-23.50.39_MD589_2_0110/MD589-IHC37-2015.07.30-23.50.39_MD589_2_0110_blobCoords.hdf\n",
      "Section 184 Finished percentage: 99.282956\n",
      "Section 170 Finished percentage: 0.000000\n",
      "Section 179 Finished percentage: 65.838203\n"
     ]
    },
    {
     "name": "stderr",
     "output_type": "stream",
     "text": [
      "Child returned 0\n",
      "2.48 seconds.\n"
     ]
    },
    {
     "name": "stdout",
     "output_type": "stream",
     "text": [
      "Result saved.\n",
      "Section 161 Finished percentage: 42.955326\n",
      "Section 199 Finished percentage: 13.442667\n",
      "Section 189 Finished percentage: 27.846288\n",
      "Section 157 Finished percentage: 20.347950\n",
      "Section 174 Finished percentage: 84.163277\n",
      "Section 213 Finished percentage: 30.187160\n",
      "Section 208 Finished percentage: 25.214322\n",
      "Section 179 Finished percentage: 69.953090\n",
      "Section 147 Finished percentage: 17.516202\n",
      "Section 204 Finished percentage: 0.000000\n",
      "Section 194 Finished percentage: 18.583043\n",
      "Section 151 Finished percentage: 94.422762\n",
      "rm -rf /shared/CSHL_cells_v2/detected_cells/MD589/MD589-N33-2015.07.30-18.16.40_MD589_1_0097/MD589-N33-2015.07.30-18.16.40_MD589_1_0097_blobCoords.hdf && mkdir -p /shared/CSHL_cells_v2/detected_cells/MD589/MD589-N33-2015.07.30-18.16.40_MD589_1_0097\n"
     ]
    },
    {
     "name": "stderr",
     "output_type": "stream",
     "text": [
      "Child returned 0\n"
     ]
    },
    {
     "name": "stdout",
     "output_type": "stream",
     "text": [
      "aws s3 cp s3://mousebrainatlas-data/CSHL_cells_v2/detected_cells/MD589/MD589-N33-2015.07.30-18.16.40_MD589_1_0097/MD589-N33-2015.07.30-18.16.40_MD589_1_0097_blobCoords.hdf /shared/CSHL_cells_v2/detected_cells/MD589/MD589-N33-2015.07.30-18.16.40_MD589_1_0097/MD589-N33-2015.07.30-18.16.40_MD589_1_0097_blobCoords.hdf\n",
      "Section 165 Finished percentage: 66.238067\n"
     ]
    },
    {
     "name": "stderr",
     "output_type": "stream",
     "text": [
      "Child returned 0\n",
      "2.16 seconds.\n"
     ]
    },
    {
     "name": "stdout",
     "output_type": "stream",
     "text": [
      "Section 170 Finished percentage: 4.543596\n",
      "Section 157 Finished percentage: 25.434937\n",
      "Section 199 Finished percentage: 17.923556\n",
      "Section 161 Finished percentage: 47.250859\n",
      "Section 189 Finished percentage: 31.824330\n",
      "Section 179 Finished percentage: 74.067978\n",
      "Result saved.\n",
      "Section 147 Finished percentage: 23.354937\n",
      "Section 174 Finished percentage: 88.839014\n",
      "Section 213 Finished percentage: 35.218354\n",
      "Section 204 Finished percentage: 4.708541\n",
      "Section 185 Finished percentage: 0.000000\n",
      "Section 208 Finished percentage: 29.416709\n",
      "Section 194 Finished percentage: 23.228804\n",
      "Section 165 Finished percentage: 70.134424\n",
      "Section 179 Finished percentage: 78.182866\n",
      "Section 157 Finished percentage: 30.521925\n",
      "Section 170 Finished percentage: 9.087192\n",
      "Section 161 Finished percentage: 51.546392\n",
      "Section 199 Finished percentage: 22.404445\n",
      "Section 147 Finished percentage: 29.193671\n",
      "Section 189 Finished percentage: 35.802371\n",
      "Section 174 Finished percentage: 93.514752\n",
      "Section 185 Finished percentage: 4.132573\n",
      "Section 213 Finished percentage: 40.249547\n",
      "Section 208 Finished percentage: 33.619096\n",
      "Section 165 Finished percentage: 74.030781\n",
      "Section 179 Finished percentage: 82.297753\n",
      "Section 204 Finished percentage: 9.417083\n",
      "Section 194 Finished percentage: 27.874564\n",
      "Section 157 Finished percentage: 35.608912\n",
      "Section 161 Finished percentage: 55.841924\n",
      "Section 189 Finished percentage: 39.780412\n",
      "Section 199 Finished percentage: 26.885334\n",
      "Section 170 Finished percentage: 13.630787\n",
      "Section 147 Finished percentage: 35.032405\n",
      "Section 152 Finished percentage: 0.000000\n",
      "Section 174 Finished percentage: 98.190490\n",
      "Result saved.\n",
      "Section 179 Finished percentage: 86.412641\n",
      "Section 213 Finished percentage: 45.280741\n",
      "Section 208 Finished percentage: 37.821483\n",
      "Section 165 Finished percentage: 77.927138\n",
      "Section 185 Finished percentage: 8.265146\n",
      "Section 157 Finished percentage: 40.695900\n",
      "Section 161 Finished percentage: 60.137457\n",
      "Section 189 Finished percentage: 43.758453\n",
      "Section 194 Finished percentage: 32.520325\n",
      "Section 152 Finished percentage: 5.701254\n",
      "Section 204 Finished percentage: 14.125624\n",
      "Section 199 Finished percentage: 31.366223\n",
      "Section 170 Finished percentage: 18.174383\n",
      "Section 147 Finished percentage: 40.871139\n",
      "Section 157 Finished percentage: 45.782887\n",
      "Section 179 Finished percentage: 90.527529\n",
      "Section 165 Finished percentage: 81.823495\n",
      "Section 208 Finished percentage: 42.023870\n",
      "rm -rf /shared/CSHL_cells_v2/detected_cells/MD589/MD589-N30-2015.07.30-18.03.11_MD589_3_0090/MD589-N30-2015.07.30-18.03.11_MD589_3_0090_blobCoords.hdf && mkdir -p /shared/CSHL_cells_v2/detected_cells/MD589/MD589-N30-2015.07.30-18.03.11_MD589_3_0090\n"
     ]
    },
    {
     "name": "stderr",
     "output_type": "stream",
     "text": [
      "Child returned 0\n"
     ]
    },
    {
     "name": "stdout",
     "output_type": "stream",
     "text": [
      "aws s3 cp s3://mousebrainatlas-data/CSHL_cells_v2/detected_cells/MD589/MD589-N30-2015.07.30-18.03.11_MD589_3_0090/MD589-N30-2015.07.30-18.03.11_MD589_3_0090_blobCoords.hdf /shared/CSHL_cells_v2/detected_cells/MD589/MD589-N30-2015.07.30-18.03.11_MD589_3_0090/MD589-N30-2015.07.30-18.03.11_MD589_3_0090_blobCoords.hdf\n",
      "Section 213 Finished percentage: 50.311934\n"
     ]
    },
    {
     "name": "stderr",
     "output_type": "stream",
     "text": [
      "Child returned 0\n",
      "2.04 seconds.\n"
     ]
    },
    {
     "name": "stdout",
     "output_type": "stream",
     "text": [
      "Section 161 Finished percentage: 64.432990\n",
      "Section 185 Finished percentage: 12.397719\n",
      "Section 189 Finished percentage: 47.736495\n",
      "Section 152 Finished percentage: 11.402509\n",
      "Section 194 Finished percentage: 37.166086\n",
      "Section 199 Finished percentage: 35.847112\n",
      "Section 170 Finished percentage: 22.717979\n",
      "Section 157 Finished percentage: 50.869875\n",
      "Section 179 Finished percentage: 94.642416\n",
      "Section 204 Finished percentage: 18.834165\n",
      "Section 147 Finished percentage: 46.709873\n",
      "Section 208 Finished percentage: 46.226257\n",
      "Section 165 Finished percentage: 85.719852\n",
      "Section 161 Finished percentage: 68.728522\n",
      "Section 213 Finished percentage: 55.343127\n",
      "Section 189 Finished percentage: 51.714536\n",
      "Section 152 Finished percentage: 17.103763\n",
      "Section 185 Finished percentage: 16.530292\n",
      "Section 199 Finished percentage: 40.328001\n",
      "Section 175 Finished percentage: 0.000000\n",
      "Section 179 Finished percentage: 98.757304\n",
      "Section 194 Finished percentage: 41.811847\n",
      "Section 157 Finished percentage: 55.956862\n",
      "Result saved.\n",
      "Section 161 Finished percentage: 73.024055\n",
      "Section 204 Finished percentage: 23.542706\n",
      "Section 147 Finished percentage: 52.548607\n",
      "Section 170 Finished percentage: 27.261575\n",
      "Section 213 Finished percentage: 60.374321\n",
      "Section 189 Finished percentage: 55.692577\n",
      "Section 208 Finished percentage: 50.428643\n",
      "Section 152 Finished percentage: 22.805017\n",
      "Section 157 Finished percentage: 61.043850\n",
      "Section 165 Finished percentage: 89.616209\n",
      "Section 199 Finished percentage: 44.808890\n",
      "Section 185 Finished percentage: 20.662865\n",
      "Section 194 Finished percentage: 46.457607\n",
      "rm -rf /shared/CSHL_cells_v2/detected_cells/MD589/MD589-IHC31-2015.07.30-23.26.22_MD589_2_0092/MD589-IHC31-2015.07.30-23.26.22_MD589_2_0092_blobCoords.hdf && mkdir -p /shared/CSHL_cells_v2/detected_cells/MD589/MD589-IHC31-2015.07.30-23.26.22_MD589_2_0092\n"
     ]
    },
    {
     "name": "stderr",
     "output_type": "stream",
     "text": [
      "Child returned 0\n"
     ]
    },
    {
     "name": "stdout",
     "output_type": "stream",
     "text": [
      "aws s3 cp s3://mousebrainatlas-data/CSHL_cells_v2/detected_cells/MD589/MD589-IHC31-2015.07.30-23.26.22_MD589_2_0092/MD589-IHC31-2015.07.30-23.26.22_MD589_2_0092_blobCoords.hdf /shared/CSHL_cells_v2/detected_cells/MD589/MD589-IHC31-2015.07.30-23.26.22_MD589_2_0092/MD589-IHC31-2015.07.30-23.26.22_MD589_2_0092_blobCoords.hdf\n",
      "Section 175 Finished percentage: 4.244662\n"
     ]
    },
    {
     "name": "stderr",
     "output_type": "stream",
     "text": [
      "Child returned 0\n",
      "2.37 seconds.\n"
     ]
    },
    {
     "name": "stdout",
     "output_type": "stream",
     "text": [
      "Section 161 Finished percentage: 77.319588\n",
      "Section 204 Finished percentage: 28.251248\n",
      "Section 213 Finished percentage: 65.405514\n",
      "Section 157 Finished percentage: 66.130837\n",
      "Section 152 Finished percentage: 28.506271\n",
      "Section 189 Finished percentage: 59.670618\n",
      "Section 199 Finished percentage: 49.289779\n",
      "Section 170 Finished percentage: 31.805171\n",
      "Section 147 Finished percentage: 58.387342\n",
      "Section 208 Finished percentage: 54.631030\n",
      "Section 165 Finished percentage: 93.512566\n",
      "Section 185 Finished percentage: 24.795438\n",
      "Section 194 Finished percentage: 51.103368\n",
      "Section 175 Finished percentage: 8.489325\n",
      "Section 157 Finished percentage: 71.217825\n",
      "Section 180 Finished percentage: 0.000000\n",
      "Section 161 Finished percentage: 81.615120\n",
      "Section 165 Finished percentage: 97.408923\n",
      "Section 213 Finished percentage: 70.436708\n",
      "Section 199 Finished percentage: 53.770668\n",
      "Section 189 Finished percentage: 63.648659\n",
      "Section 204 Finished percentage: 32.959789\n",
      "Section 152 Finished percentage: 34.207526\n",
      "Section 208 Finished percentage: 58.833417\n",
      "Section 147 Finished percentage: 64.226076\n",
      "Result saved.\n",
      "Section 170 Finished percentage: 36.348766\n",
      "Section 194 Finished percentage: 55.749129\n",
      "Section 185 Finished percentage: 28.928011\n",
      "Section 157 Finished percentage: 76.304812\n",
      "Section 175 Finished percentage: 12.733987\n",
      "Section 189 Finished percentage: 67.626701\n",
      "Section 199 Finished percentage: 58.251557\n",
      "Section 161 Finished percentage: 85.910653\n",
      "Section 180 Finished percentage: 5.364807\n",
      "Section 213 Finished percentage: 75.467901\n",
      "Section 204 Finished percentage: 37.668330\n",
      "Section 152 Finished percentage: 39.908780\n",
      "Section 208 Finished percentage: 63.035804\n",
      "Section 157 Finished percentage: 81.391800\n",
      "Section 194 Finished percentage: 60.394890\n",
      "Section 147 Finished percentage: 70.064810\n",
      "Section 189 Finished percentage: 71.604742\n",
      "Section 170 Finished percentage: 40.892362\n",
      "Section 185 Finished percentage: 33.060584\n",
      "Section 199 Finished percentage: 62.732446\n",
      "Section 175 Finished percentage: 16.978649\n",
      "Section 213 Finished percentage: 80.499094\n",
      "Section 161 Finished percentage: 90.206186\n",
      "Section 204 Finished percentage: 42.376872\n",
      "Section 152 Finished percentage: 45.610034\n",
      "Section 180 Finished percentage: 10.729614\n",
      "Section 157 Finished percentage: 86.478787\n",
      "Section 194 Finished percentage: 65.040650\n",
      "Section 208 Finished percentage: 67.238191\n",
      "Section 189 Finished percentage: 75.582783\n",
      "Section 166 Finished percentage: 0.000000\n",
      "Section 199 Finished percentage: 67.213335\n",
      "Section 185 Finished percentage: 37.193156\n",
      "Section 147 Finished percentage: 75.903544\n",
      "Section 175 Finished percentage: 21.223312\n",
      "Section 170 Finished percentage: 45.435958\n",
      "Section 161 Finished percentage: 94.501718\n",
      "Section 204 Finished percentage: 47.085413\n",
      "Section 152 Finished percentage: 51.311288\n",
      "Section 213 Finished percentage: 85.530288\n",
      "Section 157 Finished percentage: 91.565775\n",
      "Section 180 Finished percentage: 16.094421\n",
      "Section 194 Finished percentage: 69.686411\n",
      "Section 208 Finished percentage: 71.440578\n",
      "Section 189 Finished percentage: 79.560824\n",
      "Section 199 Finished percentage: 71.694224\n",
      "Section 185 Finished percentage: 41.325729\n",
      "Section 166 Finished percentage: 4.080633\n",
      "Section 161 Finished percentage: 98.797251\n",
      "Section 147 Finished percentage: 81.742278\n",
      "Section 157 Finished percentage: 96.652762\n",
      "Section 204 Finished percentage: 51.793954\n",
      "Result saved.\n",
      "Section 175 Finished percentage: 25.467974\n",
      "Section 170 Finished percentage: 49.979554\n",
      "Section 152 Finished percentage: 57.012543\n",
      "Section 189 Finished percentage: 83.538865\n",
      "Section 194 Finished percentage: 74.332172\n",
      "Section 213 Finished percentage: 90.561481\n",
      "Section 185 Finished percentage: 45.458302\n",
      "Section 199 Finished percentage: 76.175113\n",
      "Result saved.\n",
      "Section 208 Finished percentage: 75.642965\n",
      "Section 180 Finished percentage: 21.459227\n",
      "Section 166 Finished percentage: 8.161267\n",
      "Section 204 Finished percentage: 56.502496\n",
      "Section 147 Finished percentage: 87.581012\n",
      "Section 152 Finished percentage: 62.713797\n",
      "Section 175 Finished percentage: 29.712636\n",
      "Section 170 Finished percentage: 54.523150\n",
      "Section 189 Finished percentage: 87.516907\n",
      "Section 185 Finished percentage: 49.590875\n",
      "Section 199 Finished percentage: 80.656002\n",
      "Section 194 Finished percentage: 78.977933\n",
      "Section 213 Finished percentage: 95.592675\n",
      "Section 162 Finished percentage: 0.000000\n",
      "Section 166 Finished percentage: 12.241900\n",
      "Section 204 Finished percentage: 61.211037\n",
      "Section 152 Finished percentage: 68.415051\n",
      "Section 208 Finished percentage: 79.845352\n",
      "Section 147 Finished percentage: 93.419747\n",
      "Section 180 Finished percentage: 26.824034\n",
      "Section 189 Finished percentage: 91.494948\n",
      "Section 199 Finished percentage: 85.136891\n",
      "Section 185 Finished percentage: 53.723448\n",
      "Section 175 Finished percentage: 33.957299\n",
      "Section 194 Finished percentage: 83.623693\n",
      "Section 170 Finished percentage: 59.066745\n",
      "Result saved.\n",
      "Section 204 Finished percentage: 65.919578\n",
      "Section 147 Finished percentage: 99.258481\n",
      "Section 152 Finished percentage: 74.116306\n",
      "Result saved.\n",
      "Section 162 Finished percentage: 5.007762\n",
      "Section 166 Finished percentage: 16.322533\n",
      "Section 208 Finished percentage: 84.047739\n",
      "Section 199 Finished percentage: 89.617780\n",
      "Section 218 Finished percentage: 0.000000\n",
      "Section 189 Finished percentage: 95.472989\n",
      "Section 185 Finished percentage: 57.856021\n",
      "rm -rf /shared/CSHL_cells_v2/detected_cells/MD589/MD589-IHC40-2015.07.31-00.02.21_MD589_1_0118/MD589-IHC40-2015.07.31-00.02.21_MD589_1_0118_blobCoords.hdf && mkdir -p /shared/CSHL_cells_v2/detected_cells/MD589/MD589-IHC40-2015.07.31-00.02.21_MD589_1_0118\n"
     ]
    },
    {
     "name": "stderr",
     "output_type": "stream",
     "text": [
      "Child returned 0\n"
     ]
    },
    {
     "name": "stdout",
     "output_type": "stream",
     "text": [
      "aws s3 cp s3://mousebrainatlas-data/CSHL_cells_v2/detected_cells/MD589/MD589-IHC40-2015.07.31-00.02.21_MD589_1_0118/MD589-IHC40-2015.07.31-00.02.21_MD589_1_0118_blobCoords.hdf /shared/CSHL_cells_v2/detected_cells/MD589/MD589-IHC40-2015.07.31-00.02.21_MD589_1_0118/MD589-IHC40-2015.07.31-00.02.21_MD589_1_0118_blobCoords.hdf\n",
      "Section 194 Finished percentage: 88.269454\n"
     ]
    },
    {
     "name": "stderr",
     "output_type": "stream",
     "text": [
      "Child returned 0\n",
      "2.10 seconds.\n"
     ]
    },
    {
     "name": "stdout",
     "output_type": "stream",
     "text": [
      "Section 180 Finished percentage: 32.188841\n",
      "Section 204 Finished percentage: 70.628119\n",
      "Section 170 Finished percentage: 63.610341\n",
      "Section 175 Finished percentage: 38.201961\n",
      "Section 152 Finished percentage: 79.817560\n",
      "Section 162 Finished percentage: 10.015524\n",
      "Section 199 Finished percentage: 94.098669\n",
      "Section 189 Finished percentage: 99.451030\n",
      "Section 166 Finished percentage: 20.403167\n",
      "Section 208 Finished percentage: 88.250126\n",
      "Result saved.\n",
      "Section 185 Finished percentage: 61.988594\n",
      "Section 218 Finished percentage: 4.365287\n",
      "Section 194 Finished percentage: 92.915215\n",
      "Section 204 Finished percentage: 75.336661\n",
      "Section 214 Finished percentage: 0.000000\n",
      "Section 152 Finished percentage: 85.518814\n",
      "Section 185 Finished percentage: 66.121167\n",
      "Section 175 Finished percentage: 42.446623\n",
      "Section 180 Finished percentage: 37.553648\n",
      "Section 170 Finished percentage: 68.153937\n",
      "Section 224 Finished percentage: 0.000000\n",
      "Section 199 Finished percentage: 98.579558\n",
      "Section 162 Finished percentage: 15.023286\n",
      "Result saved.\n",
      "Section 166 Finished percentage: 24.483800\n",
      "Section 208 Finished percentage: 92.452513\n",
      "rm -rf /shared/CSHL_cells_v2/detected_cells/MD589/MD589-IHC34-2015.07.30-23.38.35_MD589_1_0100/MD589-IHC34-2015.07.30-23.38.35_MD589_1_0100_blobCoords.hdf && mkdir -p /shared/CSHL_cells_v2/detected_cells/MD589/MD589-IHC34-2015.07.30-23.38.35_MD589_1_0100\n"
     ]
    },
    {
     "name": "stderr",
     "output_type": "stream",
     "text": [
      "Child returned 0\n"
     ]
    },
    {
     "name": "stdout",
     "output_type": "stream",
     "text": [
      "aws s3 cp s3://mousebrainatlas-data/CSHL_cells_v2/detected_cells/MD589/MD589-IHC34-2015.07.30-23.38.35_MD589_1_0100/MD589-IHC34-2015.07.30-23.38.35_MD589_1_0100_blobCoords.hdf /shared/CSHL_cells_v2/detected_cells/MD589/MD589-IHC34-2015.07.30-23.38.35_MD589_1_0100/MD589-IHC34-2015.07.30-23.38.35_MD589_1_0100_blobCoords.hdf\n",
      "Section 194 Finished percentage: 97.560976\n",
      "Section 204 Finished percentage: 80.045202\n",
      "Section 185 Finished percentage: 70.253740\n"
     ]
    },
    {
     "name": "stderr",
     "output_type": "stream",
     "text": [
      "Child returned 0\n",
      "2.32 seconds.\n"
     ]
    },
    {
     "name": "stdout",
     "output_type": "stream",
     "text": [
      "Section 218 Finished percentage: 8.730574\n",
      "Section 214 Finished percentage: 4.241062\n",
      "Section 175 Finished percentage: 46.691286\n",
      "Section 152 Finished percentage: 91.220068\n",
      "Section 170 Finished percentage: 72.697533\n",
      "Result saved.\n",
      "Section 224 Finished percentage: 4.966230\n",
      "Section 180 Finished percentage: 42.918455\n",
      "rm -rf /shared/CSHL_cells_v2/detected_cells/MD589/MD589-IHC36-2015.07.30-23.46.36_MD589_2_0107/MD589-IHC36-2015.07.30-23.46.36_MD589_2_0107_blobCoords.hdf && mkdir -p /shared/CSHL_cells_v2/detected_cells/MD589/MD589-IHC36-2015.07.30-23.46.36_MD589_2_0107\n"
     ]
    },
    {
     "name": "stderr",
     "output_type": "stream",
     "text": [
      "Child returned 0\n"
     ]
    },
    {
     "name": "stdout",
     "output_type": "stream",
     "text": [
      "aws s3 cp s3://mousebrainatlas-data/CSHL_cells_v2/detected_cells/MD589/MD589-IHC36-2015.07.30-23.46.36_MD589_2_0107/MD589-IHC36-2015.07.30-23.46.36_MD589_2_0107_blobCoords.hdf /shared/CSHL_cells_v2/detected_cells/MD589/MD589-IHC36-2015.07.30-23.46.36_MD589_2_0107/MD589-IHC36-2015.07.30-23.46.36_MD589_2_0107_blobCoords.hdf\n",
      "Section 162 Finished percentage: 20.031048\n",
      "Section 185 Finished percentage: 74.386313\n",
      "Section 190 Finished percentage: 0.000000\n"
     ]
    },
    {
     "name": "stderr",
     "output_type": "stream",
     "text": [
      "Child returned 0\n",
      "2.35 seconds.\n"
     ]
    },
    {
     "name": "stdout",
     "output_type": "stream",
     "text": [
      "Section 204 Finished percentage: 84.753743\n",
      "Section 166 Finished percentage: 28.564433\n",
      "Section 175 Finished percentage: 50.935948\n",
      "Section 152 Finished percentage: 96.921323\n",
      "Section 208 Finished percentage: 96.654900\n",
      "Section 218 Finished percentage: 13.095862\n",
      "Section 214 Finished percentage: 8.482124\n",
      "Result saved.\n",
      "Section 185 Finished percentage: 78.518886\n",
      "Section 170 Finished percentage: 77.241129\n",
      "rm -rf /shared/CSHL_cells_v2/detected_cells/MD589/MD589-N35-2015.07.30-18.24.53_MD589_2_0104/MD589-N35-2015.07.30-18.24.53_MD589_2_0104_blobCoords.hdf && mkdir -p /shared/CSHL_cells_v2/detected_cells/MD589/MD589-N35-2015.07.30-18.24.53_MD589_2_0104\n"
     ]
    },
    {
     "name": "stderr",
     "output_type": "stream",
     "text": [
      "Child returned 0\n"
     ]
    },
    {
     "name": "stdout",
     "output_type": "stream",
     "text": [
      "aws s3 cp s3://mousebrainatlas-data/CSHL_cells_v2/detected_cells/MD589/MD589-N35-2015.07.30-18.24.53_MD589_2_0104/MD589-N35-2015.07.30-18.24.53_MD589_2_0104_blobCoords.hdf /shared/CSHL_cells_v2/detected_cells/MD589/MD589-N35-2015.07.30-18.24.53_MD589_2_0104/MD589-N35-2015.07.30-18.24.53_MD589_2_0104_blobCoords.hdf\n",
      "Section 180 Finished percentage: 48.283262\n"
     ]
    },
    {
     "name": "stderr",
     "output_type": "stream",
     "text": [
      "Child returned 0\n",
      "2.79 seconds.\n"
     ]
    },
    {
     "name": "stdout",
     "output_type": "stream",
     "text": [
      "Section 204 Finished percentage: 89.462285\n",
      "Section 200 Finished percentage: 0.000000\n",
      "Result saved.\n",
      "Section 162 Finished percentage: 25.038810\n",
      "Section 190 Finished percentage: 4.202740\n",
      "Section 224 Finished percentage: 9.932459\n",
      "Section 175 Finished percentage: 55.180610\n",
      "Section 166 Finished percentage: 32.645067\n",
      "Section 185 Finished percentage: 82.651459\n",
      "Section 195 Finished percentage: 0.000000\n",
      "Section 214 Finished percentage: 12.723186\n",
      "Section 170 Finished percentage: 81.784724\n",
      "Section 180 Finished percentage: 53.648069\n",
      "Section 218 Finished percentage: 17.461149\n",
      "Section 204 Finished percentage: 94.170826\n",
      "Section 175 Finished percentage: 59.425273\n",
      "rm -rf /shared/CSHL_cells_v2/detected_cells/MD589/MD589-N39-2015.07.30-18.40.43_MD589_1_0115/MD589-N39-2015.07.30-18.40.43_MD589_1_0115_blobCoords.hdf && mkdir -p /shared/CSHL_cells_v2/detected_cells/MD589/MD589-N39-2015.07.30-18.40.43_MD589_1_0115\n"
     ]
    },
    {
     "name": "stderr",
     "output_type": "stream",
     "text": [
      "Child returned 0\n"
     ]
    },
    {
     "name": "stdout",
     "output_type": "stream",
     "text": [
      "aws s3 cp s3://mousebrainatlas-data/CSHL_cells_v2/detected_cells/MD589/MD589-N39-2015.07.30-18.40.43_MD589_1_0115/MD589-N39-2015.07.30-18.40.43_MD589_1_0115_blobCoords.hdf /shared/CSHL_cells_v2/detected_cells/MD589/MD589-N39-2015.07.30-18.40.43_MD589_1_0115/MD589-N39-2015.07.30-18.40.43_MD589_1_0115_blobCoords.hdf\n",
      "Section 200 Finished percentage: 4.914729\n",
      "Section 190 Finished percentage: 8.405480\n"
     ]
    },
    {
     "name": "stderr",
     "output_type": "stream",
     "text": [
      "Child returned 0\n",
      "2.51 seconds.\n"
     ]
    },
    {
     "name": "stdout",
     "output_type": "stream",
     "text": [
      "Section 185 Finished percentage: 86.784032\n",
      "Section 224 Finished percentage: 14.898689\n",
      "Section 162 Finished percentage: 30.046572\n",
      "Section 195 Finished percentage: 4.175017\n",
      "Section 166 Finished percentage: 36.725700\n",
      "Section 229 Finished percentage: 0.000000\n",
      "Section 218 Finished percentage: 21.826436\n",
      "Section 175 Finished percentage: 63.669935\n",
      "Section 180 Finished percentage: 59.012876\n",
      "Section 170 Finished percentage: 86.328320\n",
      "Section 204 Finished percentage: 98.879367\n",
      "Section 214 Finished percentage: 16.964248\n",
      "Section 185 Finished percentage: 90.916605\n",
      "Section 209 Finished percentage: 0.000000\n",
      "Result saved.\n",
      "Section 200 Finished percentage: 9.829459\n",
      "Section 190 Finished percentage: 12.608221\n",
      "Section 224 Finished percentage: 19.864919\n",
      "Section 162 Finished percentage: 35.054334\n",
      "Section 175 Finished percentage: 67.914597\n",
      "Section 166 Finished percentage: 40.806333\n",
      "Section 195 Finished percentage: 8.350033\n",
      "Section 229 Finished percentage: 5.211591\n",
      "Section 180 Finished percentage: 64.377682\n",
      "Section 185 Finished percentage: 95.049178\n",
      "Section 218 Finished percentage: 26.191723\n",
      "Section 170 Finished percentage: 90.871916\n",
      "rm -rf /shared/CSHL_cells_v2/detected_cells/MD589/MD589-N38-2015.07.30-18.36.50_MD589_1_0112/MD589-N38-2015.07.30-18.36.50_MD589_1_0112_blobCoords.hdf && mkdir -p /shared/CSHL_cells_v2/detected_cells/MD589/MD589-N38-2015.07.30-18.36.50_MD589_1_0112\n"
     ]
    },
    {
     "name": "stderr",
     "output_type": "stream",
     "text": [
      "Child returned 0\n"
     ]
    },
    {
     "name": "stdout",
     "output_type": "stream",
     "text": [
      "aws s3 cp s3://mousebrainatlas-data/CSHL_cells_v2/detected_cells/MD589/MD589-N38-2015.07.30-18.36.50_MD589_1_0112/MD589-N38-2015.07.30-18.36.50_MD589_1_0112_blobCoords.hdf /shared/CSHL_cells_v2/detected_cells/MD589/MD589-N38-2015.07.30-18.36.50_MD589_1_0112/MD589-N38-2015.07.30-18.36.50_MD589_1_0112_blobCoords.hdf\n"
     ]
    },
    {
     "name": "stderr",
     "output_type": "stream",
     "text": [
      "Child returned 0\n",
      "2.65 seconds.\n"
     ]
    },
    {
     "name": "stdout",
     "output_type": "stream",
     "text": [
      "Section 209 Finished percentage: 4.023659\n",
      "Section 214 Finished percentage: 21.205310\n",
      "Section 175 Finished percentage: 72.159260\n",
      "Section 224 Finished percentage: 24.831148\n",
      "Section 200 Finished percentage: 14.744188\n",
      "Section 162 Finished percentage: 40.062096\n",
      "Section 166 Finished percentage: 44.886966\n",
      "Section 185 Finished percentage: 99.181751\n",
      "Section 190 Finished percentage: 16.810961\n",
      "Result saved.\n",
      "Section 180 Finished percentage: 69.742489\n",
      "Section 195 Finished percentage: 12.525050\n",
      "Section 170 Finished percentage: 95.415512\n",
      "Section 229 Finished percentage: 10.423181\n",
      "Section 218 Finished percentage: 30.557011\n",
      "Section 175 Finished percentage: 76.403922\n",
      "Section 205 Finished percentage: 0.000000\n",
      "Section 209 Finished percentage: 8.047318\n",
      "Section 214 Finished percentage: 25.446372\n",
      "Section 224 Finished percentage: 29.797378\n",
      "Section 166 Finished percentage: 48.967600\n",
      "Section 162 Finished percentage: 45.069858\n",
      "Section 200 Finished percentage: 19.658918\n",
      "Section 180 Finished percentage: 75.107296\n",
      "Section 170 Finished percentage: 99.959108\n",
      "Section 190 Finished percentage: 21.013701\n",
      "Result saved.\n",
      "Section 218 Finished percentage: 34.922298\n",
      "Section 195 Finished percentage: 16.700067\n",
      "Section 175 Finished percentage: 80.648584\n",
      "Section 229 Finished percentage: 15.634772\n",
      "Section 214 Finished percentage: 29.687434\n",
      "Section 186 Finished percentage: 0.000000\n",
      "Section 205 Finished percentage: 4.917388\n",
      "Section 209 Finished percentage: 12.070977\n",
      "Section 166 Finished percentage: 53.048233\n",
      "Section 224 Finished percentage: 34.763607\n",
      "Section 180 Finished percentage: 80.472103\n",
      "Section 162 Finished percentage: 50.077620\n",
      "Section 200 Finished percentage: 24.573647\n",
      "Section 218 Finished percentage: 39.287585\n",
      "Section 175 Finished percentage: 84.893247\n",
      "Section 195 Finished percentage: 20.875084\n",
      "Section 190 Finished percentage: 25.216441\n",
      "Section 214 Finished percentage: 33.928496\n",
      "Section 186 Finished percentage: 4.653977\n",
      "Section 229 Finished percentage: 20.846362\n",
      "Section 205 Finished percentage: 9.834776\n",
      "Section 166 Finished percentage: 57.128866\n",
      "Section 224 Finished percentage: 39.729837\n",
      "Section 209 Finished percentage: 16.094636\n",
      "Section 180 Finished percentage: 85.836910\n",
      "Section 171 Finished percentage: 0.000000\n",
      "Section 175 Finished percentage: 89.137909\n",
      "Section 162 Finished percentage: 55.085382\n",
      "Section 218 Finished percentage: 43.652872\n",
      "Section 195 Finished percentage: 25.050100\n",
      "Section 200 Finished percentage: 29.488377\n",
      "Section 214 Finished percentage: 38.169558\n",
      "Section 190 Finished percentage: 29.419181\n",
      "Section 186 Finished percentage: 9.307954\n",
      "Section 229 Finished percentage: 26.057953\n",
      "Section 175 Finished percentage: 93.382571\n",
      "Section 166 Finished percentage: 61.209500\n",
      "Section 224 Finished percentage: 44.696067\n",
      "Section 180 Finished percentage: 91.201717\n",
      "Section 209 Finished percentage: 20.118296\n",
      "Section 171 Finished percentage: 3.971090\n",
      "Section 205 Finished percentage: 14.752164\n",
      "Section 218 Finished percentage: 48.018160\n",
      "Section 162 Finished percentage: 60.093144\n",
      "Section 195 Finished percentage: 29.225117\n",
      "Section 200 Finished percentage: 34.403106\n",
      "Section 214 Finished percentage: 42.410620\n",
      "Section 190 Finished percentage: 33.621921\n",
      "Section 175 Finished percentage: 97.627234\n",
      "Section 186 Finished percentage: 13.961930\n",
      "Section 195 Finished percentage: 33.400134\n",
      "Result saved.\n",
      "Section 180 Finished percentage: 96.566524\n",
      "Section 166 Finished percentage: 65.290133\n",
      "Section 229 Finished percentage: 31.269543\n",
      "Section 224 Finished percentage: 49.662296\n",
      "Section 218 Finished percentage: 52.383447\n",
      "Section 171 Finished percentage: 7.942181\n",
      "Section 209 Finished percentage: 24.141955\n",
      "Section 200 Finished percentage: 39.317836\n",
      "Section 162 Finished percentage: 65.100906\n",
      "Section 190 Finished percentage: 37.824662\n",
      "Section 205 Finished percentage: 19.669552\n",
      "Section 214 Finished percentage: 46.651682\n",
      "Result saved.\n",
      "Section 195 Finished percentage: 37.575150\n",
      "Section 224 Finished percentage: 54.628526\n",
      "Section 166 Finished percentage: 69.370766\n",
      "Section 186 Finished percentage: 18.615907\n",
      "Section 218 Finished percentage: 56.748734\n",
      "Section 229 Finished percentage: 36.481134\n",
      "Section 171 Finished percentage: 11.913271\n",
      "Section 200 Finished percentage: 44.232565\n",
      "Section 209 Finished percentage: 28.165614\n",
      "Section 190 Finished percentage: 42.027402\n",
      "Section 214 Finished percentage: 50.892744\n",
      "Section 162 Finished percentage: 70.108668\n",
      "Section 205 Finished percentage: 24.586939\n",
      "Section 195 Finished percentage: 41.750167\n",
      "Section 224 Finished percentage: 59.594756\n",
      "Section 166 Finished percentage: 73.451400\n",
      "Section 176 Finished percentage: 0.000000\n",
      "Section 218 Finished percentage: 61.114021\n",
      "Section 229 Finished percentage: 41.692725\n",
      "Section 200 Finished percentage: 49.147294\n",
      "Section 171 Finished percentage: 15.884362\n",
      "Section 186 Finished percentage: 23.269884\n",
      "Section 190 Finished percentage: 46.230142\n",
      "Section 214 Finished percentage: 55.133806\n",
      "Section 209 Finished percentage: 32.189273\n",
      "Section 195 Finished percentage: 45.925184\n",
      "Section 162 Finished percentage: 75.116430\n",
      "Section 166 Finished percentage: 77.532033\n",
      "Section 224 Finished percentage: 64.560985\n",
      "Section 181 Finished percentage: 0.000000\n",
      "Section 218 Finished percentage: 65.479309\n",
      "Section 176 Finished percentage: 4.970179\n",
      "Section 200 Finished percentage: 54.062024\n",
      "Section 205 Finished percentage: 29.504327\n",
      "Section 229 Finished percentage: 46.904315\n",
      "Section 171 Finished percentage: 19.855452\n",
      "Section 195 Finished percentage: 50.100200\n",
      "Section 214 Finished percentage: 59.374867\n",
      "Section 190 Finished percentage: 50.432882\n",
      "Section 209 Finished percentage: 36.212932\n",
      "Section 186 Finished percentage: 27.923861\n",
      "Section 166 Finished percentage: 81.612666\n",
      "Section 224 Finished percentage: 69.527215\n",
      "Section 181 Finished percentage: 4.210704\n",
      "Section 218 Finished percentage: 69.844596\n",
      "Section 162 Finished percentage: 80.124192\n",
      "Section 200 Finished percentage: 58.976753\n",
      "Section 229 Finished percentage: 52.115906\n",
      "Section 176 Finished percentage: 9.940358\n",
      "Section 195 Finished percentage: 54.275217\n",
      "Section 171 Finished percentage: 23.826543\n",
      "Section 205 Finished percentage: 34.421715\n",
      "Section 214 Finished percentage: 63.615929\n",
      "Section 224 Finished percentage: 74.493445\n",
      "Section 190 Finished percentage: 54.635622\n",
      "Section 209 Finished percentage: 40.236591\n",
      "Section 218 Finished percentage: 74.209883\n",
      "Section 186 Finished percentage: 32.577838\n",
      "Section 166 Finished percentage: 85.693300\n",
      "Section 181 Finished percentage: 8.421407\n",
      "Section 200 Finished percentage: 63.891483\n",
      "Section 229 Finished percentage: 57.327496\n",
      "Section 162 Finished percentage: 85.131955\n",
      "Section 195 Finished percentage: 58.450234\n",
      "Section 214 Finished percentage: 67.856991\n",
      "Section 176 Finished percentage: 14.910537\n",
      "Section 205 Finished percentage: 39.339103\n",
      "Section 171 Finished percentage: 27.797633\n",
      "Section 190 Finished percentage: 58.838363\n",
      "Section 224 Finished percentage: 79.459674\n",
      "Section 218 Finished percentage: 78.575170\n",
      "Section 209 Finished percentage: 44.260250\n",
      "Section 181 Finished percentage: 12.632111\n",
      "Section 200 Finished percentage: 68.806212\n",
      "Section 166 Finished percentage: 89.773933\n",
      "Section 229 Finished percentage: 62.539087\n",
      "Section 186 Finished percentage: 37.231815\n",
      "Section 195 Finished percentage: 62.625251\n",
      "Section 214 Finished percentage: 72.098053\n",
      "Section 162 Finished percentage: 90.139717\n",
      "Section 176 Finished percentage: 19.880716\n",
      "Section 224 Finished percentage: 84.425904\n",
      "Section 171 Finished percentage: 31.768724\n",
      "Section 190 Finished percentage: 63.041103\n",
      "Section 205 Finished percentage: 44.256491\n",
      "Section 218 Finished percentage: 82.940457\n",
      "Section 209 Finished percentage: 48.283909\n",
      "Section 200 Finished percentage: 73.720942\n",
      "Section 181 Finished percentage: 16.842814\n",
      "Section 195 Finished percentage: 66.800267\n",
      "Section 229 Finished percentage: 67.750678\n",
      "Section 166 Finished percentage: 93.854566\n",
      "Section 186 Finished percentage: 41.885791\n",
      "Section 214 Finished percentage: 76.339115\n",
      "Section 224 Finished percentage: 89.392133\n",
      "Section 205 Finished percentage: 49.173879\n",
      "Section 218 Finished percentage: 87.305745\n",
      "Section 190 Finished percentage: 67.243843\n",
      "Section 176 Finished percentage: 24.850895\n",
      "Section 162 Finished percentage: 95.147479\n",
      "Section 171 Finished percentage: 35.739814\n",
      "Section 195 Finished percentage: 70.975284\n"
     ]
    },
    {
     "name": "stdout",
     "output_type": "stream",
     "text": [
      "Section 166 Finished percentage: 97.935200\n",
      "Section 209 Finished percentage: 52.307569\n",
      "Section 200 Finished percentage: 78.635671\n",
      "Section 229 Finished percentage: 72.962268\n",
      "Section 181 Finished percentage: 21.053518\n",
      "Section 224 Finished percentage: 94.358363\n",
      "Section 186 Finished percentage: 46.539768\n",
      "Result saved.\n",
      "Section 214 Finished percentage: 80.580177\n",
      "Section 218 Finished percentage: 91.671032\n",
      "Section 205 Finished percentage: 54.091267\n",
      "Result saved.\n",
      "Section 190 Finished percentage: 71.446583\n",
      "Section 195 Finished percentage: 75.150301\n",
      "Section 209 Finished percentage: 56.331228\n",
      "Section 224 Finished percentage: 99.324593\n",
      "Section 200 Finished percentage: 83.550401\n",
      "Section 176 Finished percentage: 29.821074\n",
      "Section 171 Finished percentage: 39.710905\n",
      "Result saved.\n",
      "Section 218 Finished percentage: 96.036319\n",
      "Section 229 Finished percentage: 78.173859\n",
      "Section 181 Finished percentage: 25.264222\n",
      "Section 214 Finished percentage: 84.821239\n",
      "Section 205 Finished percentage: 59.008655\n",
      "Section 186 Finished percentage: 51.193745\n",
      "Section 190 Finished percentage: 75.649323\n",
      "Result saved.\n",
      "rm -rf /shared/CSHL_cells_v2/detected_cells/MD589/MD589-IHC45-2015.07.31-00.23.02_MD589_1_0133/MD589-IHC45-2015.07.31-00.23.02_MD589_1_0133_blobCoords.hdf && mkdir -p /shared/CSHL_cells_v2/detected_cells/MD589/MD589-IHC45-2015.07.31-00.23.02_MD589_1_0133\n"
     ]
    },
    {
     "name": "stderr",
     "output_type": "stream",
     "text": [
      "Child returned 0\n"
     ]
    },
    {
     "name": "stdout",
     "output_type": "stream",
     "text": [
      "aws s3 cp s3://mousebrainatlas-data/CSHL_cells_v2/detected_cells/MD589/MD589-IHC45-2015.07.31-00.23.02_MD589_1_0133/MD589-IHC45-2015.07.31-00.23.02_MD589_1_0133_blobCoords.hdf /shared/CSHL_cells_v2/detected_cells/MD589/MD589-IHC45-2015.07.31-00.23.02_MD589_1_0133/MD589-IHC45-2015.07.31-00.23.02_MD589_1_0133_blobCoords.hdf\n",
      "Section 200 Finished percentage: 88.465130\n",
      "Section 195 Finished percentage: 79.325317\n",
      "Section 209 Finished percentage: 60.354887\n"
     ]
    },
    {
     "name": "stderr",
     "output_type": "stream",
     "text": [
      "Child returned 0\n",
      "2.43 seconds.\n"
     ]
    },
    {
     "name": "stdout",
     "output_type": "stream",
     "text": [
      "Section 171 Finished percentage: 43.681995\n",
      "Section 167 Finished percentage: 0.000000\n",
      "Section 176 Finished percentage: 34.791252\n",
      "rm -rf /shared/CSHL_cells_v2/detected_cells/MD589/MD589-N43-2015.07.30-18.56.33_MD589_1_0127/MD589-N43-2015.07.30-18.56.33_MD589_1_0127_blobCoords.hdf && mkdir -p /shared/CSHL_cells_v2/detected_cells/MD589/MD589-N43-2015.07.30-18.56.33_MD589_1_0127\n",
      "Section 214 Finished percentage: 89.062301\n"
     ]
    },
    {
     "name": "stderr",
     "output_type": "stream",
     "text": [
      "Child returned 0\n"
     ]
    },
    {
     "name": "stdout",
     "output_type": "stream",
     "text": [
      "aws s3 cp s3://mousebrainatlas-data/CSHL_cells_v2/detected_cells/MD589/MD589-N43-2015.07.30-18.56.33_MD589_1_0127/MD589-N43-2015.07.30-18.56.33_MD589_1_0127_blobCoords.hdf /shared/CSHL_cells_v2/detected_cells/MD589/MD589-N43-2015.07.30-18.56.33_MD589_1_0127/MD589-N43-2015.07.30-18.56.33_MD589_1_0127_blobCoords.hdf\n",
      "Section 229 Finished percentage: 83.385449\n",
      "Section 205 Finished percentage: 63.926042\n"
     ]
    },
    {
     "name": "stderr",
     "output_type": "stream",
     "text": [
      "Child returned 0\n",
      "2.57 seconds.\n"
     ]
    },
    {
     "name": "stdout",
     "output_type": "stream",
     "text": [
      "Section 181 Finished percentage: 29.474925\n",
      "Section 186 Finished percentage: 55.847722\n",
      "Section 190 Finished percentage: 79.852064\n",
      "Section 234 Finished percentage: 0.000000\n",
      "Section 195 Finished percentage: 83.500334\n",
      "Section 200 Finished percentage: 93.379859\n",
      "Section 209 Finished percentage: 64.378546\n",
      "rm -rf /shared/CSHL_cells_v2/detected_cells/MD589/MD589-N41-2015.07.30-18.48.44_MD589_2_0122/MD589-N41-2015.07.30-18.48.44_MD589_2_0122_blobCoords.hdf && mkdir -p /shared/CSHL_cells_v2/detected_cells/MD589/MD589-N41-2015.07.30-18.48.44_MD589_2_0122\n"
     ]
    },
    {
     "name": "stderr",
     "output_type": "stream",
     "text": [
      "Child returned 0\n"
     ]
    },
    {
     "name": "stdout",
     "output_type": "stream",
     "text": [
      "aws s3 cp s3://mousebrainatlas-data/CSHL_cells_v2/detected_cells/MD589/MD589-N41-2015.07.30-18.48.44_MD589_2_0122/MD589-N41-2015.07.30-18.48.44_MD589_2_0122_blobCoords.hdf /shared/CSHL_cells_v2/detected_cells/MD589/MD589-N41-2015.07.30-18.48.44_MD589_2_0122/MD589-N41-2015.07.30-18.48.44_MD589_2_0122_blobCoords.hdf\n",
      "Section 167 Finished percentage: 4.809080\n",
      "Section 171 Finished percentage: 47.653086\n",
      "Section 176 Finished percentage: 39.761431\n"
     ]
    },
    {
     "name": "stderr",
     "output_type": "stream",
     "text": [
      "Child returned 0\n",
      "2.54 seconds.\n"
     ]
    },
    {
     "name": "stdout",
     "output_type": "stream",
     "text": [
      "Section 214 Finished percentage: 93.303363\n",
      "Section 225 Finished percentage: 0.000000\n",
      "Section 205 Finished percentage: 68.843430\n",
      "Section 229 Finished percentage: 88.597040\n",
      "Section 190 Finished percentage: 84.054804\n",
      "Section 181 Finished percentage: 33.685629\n",
      "Section 186 Finished percentage: 60.501699\n",
      "Section 195 Finished percentage: 87.675351\n",
      "Section 234 Finished percentage: 4.658530\n",
      "Section 214 Finished percentage: 97.544425\n",
      "Section 200 Finished percentage: 98.294589\n",
      "Section 209 Finished percentage: 68.402205\n",
      "Section 171 Finished percentage: 51.624176\n",
      "Section 176 Finished percentage: 44.731610\n",
      "Section 167 Finished percentage: 9.618159\n",
      "Result saved.\n",
      "Section 225 Finished percentage: 5.512071\n",
      "Section 219 Finished percentage: 0.000000\n",
      "Section 229 Finished percentage: 93.808630\n",
      "Section 205 Finished percentage: 73.760818\n",
      "Result saved.\n",
      "Section 181 Finished percentage: 37.896332\n",
      "Section 190 Finished percentage: 88.257544\n",
      "Section 195 Finished percentage: 91.850367\n",
      "Section 186 Finished percentage: 65.155676\n",
      "Section 209 Finished percentage: 72.425864\n",
      "Section 229 Finished percentage: 99.020221\n",
      "Section 171 Finished percentage: 55.595266\n",
      "Section 176 Finished percentage: 49.701789\n",
      "rm -rf /shared/CSHL_cells_v2/detected_cells/MD589/MD589-N40-2015.07.30-18.44.48_MD589_2_0119/MD589-N40-2015.07.30-18.44.48_MD589_2_0119_blobCoords.hdf && mkdir -p /shared/CSHL_cells_v2/detected_cells/MD589/MD589-N40-2015.07.30-18.44.48_MD589_2_0119\n"
     ]
    },
    {
     "name": "stderr",
     "output_type": "stream",
     "text": [
      "Child returned 0\n"
     ]
    },
    {
     "name": "stdout",
     "output_type": "stream",
     "text": [
      "aws s3 cp s3://mousebrainatlas-data/CSHL_cells_v2/detected_cells/MD589/MD589-N40-2015.07.30-18.44.48_MD589_2_0119/MD589-N40-2015.07.30-18.44.48_MD589_2_0119_blobCoords.hdf /shared/CSHL_cells_v2/detected_cells/MD589/MD589-N40-2015.07.30-18.44.48_MD589_2_0119/MD589-N40-2015.07.30-18.44.48_MD589_2_0119_blobCoords.hdf\n",
      "Result saved.\n",
      "Section 167 Finished percentage: 14.427239\n",
      "Section 234 Finished percentage: 9.317060\n"
     ]
    },
    {
     "name": "stderr",
     "output_type": "stream",
     "text": [
      "Child returned 0\n",
      "2.47 seconds.\n"
     ]
    },
    {
     "name": "stdout",
     "output_type": "stream",
     "text": [
      "Section 195 Finished percentage: 96.025384\n",
      "Section 181 Finished percentage: 42.107036\n",
      "Section 190 Finished percentage: 92.460284\n",
      "Section 205 Finished percentage: 78.678206\n",
      "Section 186 Finished percentage: 69.809652\n",
      "Section 219 Finished percentage: 5.208062\n",
      "Section 225 Finished percentage: 11.024143\n",
      "Section 201 Finished percentage: 0.000000\n",
      "Section 209 Finished percentage: 76.449523\n",
      "Section 171 Finished percentage: 59.566357\n",
      "Section 176 Finished percentage: 54.671968\n",
      "Section 215 Finished percentage: 0.000000\n",
      "Section 167 Finished percentage: 19.236318\n",
      "Section 181 Finished percentage: 46.317740\n",
      "Result saved.\n",
      "Section 190 Finished percentage: 96.663024\n",
      "rm -rf /shared/CSHL_cells_v2/detected_cells/MD589/MD589-IHC44-2015.07.31-00.18.50_MD589_1_0130/MD589-IHC44-2015.07.31-00.18.50_MD589_1_0130_blobCoords.hdf && mkdir -p /shared/CSHL_cells_v2/detected_cells/MD589/MD589-IHC44-2015.07.31-00.18.50_MD589_1_0130\n"
     ]
    },
    {
     "name": "stderr",
     "output_type": "stream",
     "text": [
      "Child returned 0\n"
     ]
    },
    {
     "name": "stdout",
     "output_type": "stream",
     "text": [
      "aws s3 cp s3://mousebrainatlas-data/CSHL_cells_v2/detected_cells/MD589/MD589-IHC44-2015.07.31-00.18.50_MD589_1_0130/MD589-IHC44-2015.07.31-00.18.50_MD589_1_0130_blobCoords.hdf /shared/CSHL_cells_v2/detected_cells/MD589/MD589-IHC44-2015.07.31-00.18.50_MD589_1_0130/MD589-IHC44-2015.07.31-00.18.50_MD589_1_0130_blobCoords.hdf\n",
      "Section 186 Finished percentage: 74.463629\n",
      "Section 205 Finished percentage: 83.595594\n"
     ]
    },
    {
     "name": "stderr",
     "output_type": "stream",
     "text": [
      "Child returned 0\n",
      "2.57 seconds.\n"
     ]
    },
    {
     "name": "stdout",
     "output_type": "stream",
     "text": [
      "Section 219 Finished percentage: 10.416124\n",
      "Section 234 Finished percentage: 13.975589\n",
      "Section 201 Finished percentage: 4.557885\n",
      "Section 209 Finished percentage: 80.473182\n",
      "Section 225 Finished percentage: 16.536214\n",
      "Section 181 Finished percentage: 50.528443\n",
      "Section 171 Finished percentage: 63.537447\n",
      "Result saved.\n",
      "Section 176 Finished percentage: 59.642147\n",
      "Section 167 Finished percentage: 24.045398\n",
      "Section 215 Finished percentage: 4.361479\n",
      "Section 230 Finished percentage: 0.000000\n",
      "Section 186 Finished percentage: 79.117606\n",
      "Section 205 Finished percentage: 88.512982\n",
      "Section 181 Finished percentage: 54.739147\n",
      "Section 219 Finished percentage: 15.624186\n",
      "Section 201 Finished percentage: 9.115770\n",
      "Section 209 Finished percentage: 84.496841\n",
      "Section 234 Finished percentage: 18.634119\n",
      "Section 171 Finished percentage: 67.508538\n",
      "Section 176 Finished percentage: 64.612326\n",
      "Section 225 Finished percentage: 22.048286\n",
      "Section 167 Finished percentage: 28.854477\n",
      "Section 230 Finished percentage: 4.864523\n",
      "Section 196 Finished percentage: 0.000000\n",
      "Section 186 Finished percentage: 83.771583\n",
      "Section 181 Finished percentage: 58.949851\n",
      "Section 205 Finished percentage: 93.430370\n",
      "Section 215 Finished percentage: 8.722959\n",
      "Section 176 Finished percentage: 69.582505\n",
      "Section 209 Finished percentage: 88.520501\n",
      "Section 219 Finished percentage: 20.832248\n",
      "Section 171 Finished percentage: 71.479628\n",
      "Section 201 Finished percentage: 13.673655\n",
      "Section 181 Finished percentage: 63.160554\n",
      "Section 234 Finished percentage: 23.292649\n",
      "Section 225 Finished percentage: 27.560357\n",
      "Section 191 Finished percentage: 0.000000\n",
      "Section 186 Finished percentage: 88.425560\n",
      "Section 196 Finished percentage: 4.657228\n",
      "Section 167 Finished percentage: 33.663557\n",
      "Section 230 Finished percentage: 9.729046\n",
      "Section 205 Finished percentage: 98.347758\n",
      "Section 176 Finished percentage: 74.552684\n",
      "Section 181 Finished percentage: 67.371258\n",
      "Section 171 Finished percentage: 75.450719\n",
      "Section 215 Finished percentage: 13.084438\n",
      "Result saved.\n",
      "Section 209 Finished percentage: 92.544160\n",
      "Section 219 Finished percentage: 26.040310\n",
      "Section 191 Finished percentage: 4.521409\n",
      "Section 234 Finished percentage: 27.951179\n",
      "Section 201 Finished percentage: 18.231541\n",
      "Section 181 Finished percentage: 71.581961\n",
      "Section 225 Finished percentage: 33.072429\n",
      "Section 186 Finished percentage: 93.079536\n",
      "Section 167 Finished percentage: 38.472636\n",
      "Section 196 Finished percentage: 9.314456\n",
      "Section 176 Finished percentage: 79.522863\n",
      "Section 230 Finished percentage: 14.593569\n",
      "Section 171 Finished percentage: 79.421809\n",
      "Section 181 Finished percentage: 75.792665\n",
      "Section 209 Finished percentage: 96.567819\n",
      "Section 201 Finished percentage: 22.789426\n",
      "Section 219 Finished percentage: 31.248372\n",
      "Section 234 Finished percentage: 32.609708\n",
      "Section 215 Finished percentage: 17.445918\n",
      "Section 191 Finished percentage: 9.042818\n",
      "Section 186 Finished percentage: 97.733513\n",
      "Section 225 Finished percentage: 38.584500\n",
      "Section 176 Finished percentage: 84.493042\n",
      "Section 167 Finished percentage: 43.281716\n",
      "Section 206 Finished percentage: 0.000000\n",
      "Section 181 Finished percentage: 80.003369\n",
      "Section 230 Finished percentage: 19.458092\n",
      "Section 171 Finished percentage: 83.392900\n",
      "Section 196 Finished percentage: 13.971684\n",
      "Result saved.\n",
      "Result saved.\n",
      "Section 201 Finished percentage: 27.347311\n",
      "Section 234 Finished percentage: 37.268238\n",
      "Section 219 Finished percentage: 36.456435\n",
      "Section 181 Finished percentage: 84.214072\n",
      "Section 215 Finished percentage: 21.807397\n",
      "Section 191 Finished percentage: 13.564227\n",
      "Section 176 Finished percentage: 89.463221\n",
      "Section 225 Finished percentage: 44.096571\n",
      "Section 167 Finished percentage: 48.090795\n",
      "Section 206 Finished percentage: 4.006410\n",
      "rm -rf /shared/CSHL_cells_v2/detected_cells/MD589/MD589-IHC39-2015.07.30-23.58.27_MD589_1_0115/MD589-IHC39-2015.07.30-23.58.27_MD589_1_0115_blobCoords.hdf && mkdir -p /shared/CSHL_cells_v2/detected_cells/MD589/MD589-IHC39-2015.07.30-23.58.27_MD589_1_0115\n"
     ]
    },
    {
     "name": "stderr",
     "output_type": "stream",
     "text": [
      "Child returned 0\n"
     ]
    },
    {
     "name": "stdout",
     "output_type": "stream",
     "text": [
      "aws s3 cp s3://mousebrainatlas-data/CSHL_cells_v2/detected_cells/MD589/MD589-IHC39-2015.07.30-23.58.27_MD589_1_0115/MD589-IHC39-2015.07.30-23.58.27_MD589_1_0115_blobCoords.hdf /shared/CSHL_cells_v2/detected_cells/MD589/MD589-IHC39-2015.07.30-23.58.27_MD589_1_0115/MD589-IHC39-2015.07.30-23.58.27_MD589_1_0115_blobCoords.hdf\n",
      "Section 171 Finished percentage: 87.363990\n",
      "Section 230 Finished percentage: 24.322615\n"
     ]
    },
    {
     "name": "stderr",
     "output_type": "stream",
     "text": [
      "Child returned 0\n",
      "3.05 seconds.\n"
     ]
    },
    {
     "name": "stdout",
     "output_type": "stream",
     "text": [
      "Section 196 Finished percentage: 18.628912\n",
      "Section 234 Finished percentage: 41.926768\n",
      "Section 219 Finished percentage: 41.664497\n",
      "Section 201 Finished percentage: 31.905196\n",
      "Section 181 Finished percentage: 88.424776\n",
      "Section 187 Finished percentage: 0.000000\n",
      "Section 225 Finished percentage: 49.608643\n",
      "Section 167 Finished percentage: 52.899875\n",
      "Section 176 Finished percentage: 94.433400\n",
      "Section 215 Finished percentage: 26.168876\n",
      "Section 191 Finished percentage: 18.085635\n",
      "Section 171 Finished percentage: 91.335081\n",
      "Section 234 Finished percentage: 46.585298\n",
      "Section 206 Finished percentage: 8.012821\n",
      "Section 210 Finished percentage: 0.000000\n",
      "Section 181 Finished percentage: 92.635479\n",
      "Section 230 Finished percentage: 29.187138\n",
      "Section 201 Finished percentage: 36.463081\n",
      "Section 219 Finished percentage: 46.872559\n",
      "Section 196 Finished percentage: 23.286140\n",
      "Section 187 Finished percentage: 4.028847\n",
      "Section 225 Finished percentage: 55.120714\n",
      "Section 176 Finished percentage: 99.403579\n",
      "Section 167 Finished percentage: 57.708955\n",
      "Section 171 Finished percentage: 95.306171\n",
      "Result saved.\n",
      "Section 215 Finished percentage: 30.530356\n",
      "Section 234 Finished percentage: 51.243827\n",
      "Section 181 Finished percentage: 96.846183\n",
      "Section 191 Finished percentage: 22.607044\n",
      "Section 201 Finished percentage: 41.020966\n",
      "Section 230 Finished percentage: 34.051661\n",
      "Section 210 Finished percentage: 4.360148\n",
      "Section 219 Finished percentage: 52.080621\n",
      "Section 206 Finished percentage: 12.019231\n",
      "Result saved.\n",
      "Section 171 Finished percentage: 99.277262\n",
      "Section 196 Finished percentage: 27.943368\n",
      "Section 187 Finished percentage: 8.057693\n",
      "Result saved.\n",
      "Section 225 Finished percentage: 60.632786\n",
      "Section 167 Finished percentage: 62.518034\n",
      "Section 234 Finished percentage: 55.902357\n",
      "Section 215 Finished percentage: 34.891835\n",
      "Section 201 Finished percentage: 45.578851\n",
      "Section 191 Finished percentage: 27.128453\n",
      "Section 210 Finished percentage: 8.720296\n",
      "Section 230 Finished percentage: 38.916184\n",
      "Section 219 Finished percentage: 57.288683\n",
      "Section 177 Finished percentage: 0.000000\n",
      "Section 206 Finished percentage: 16.025641\n",
      "Section 196 Finished percentage: 32.600596\n",
      "Section 225 Finished percentage: 66.144857\n",
      "Section 187 Finished percentage: 12.086540\n",
      "Section 167 Finished percentage: 67.327114\n",
      "Section 234 Finished percentage: 60.560887\n",
      "Section 201 Finished percentage: 50.136737\n",
      "Section 215 Finished percentage: 39.253315\n",
      "Section 230 Finished percentage: 43.780707\n",
      "Section 219 Finished percentage: 62.496745\n",
      "Section 177 Finished percentage: 4.861921\n",
      "Section 182 Finished percentage: 0.000000\n",
      "Section 191 Finished percentage: 31.649862\n",
      "Section 210 Finished percentage: 13.080445\n",
      "Section 225 Finished percentage: 71.656929\n",
      "Section 201 Finished percentage: 54.694622\n",
      "Section 172 Finished percentage: 0.000000\n",
      "Section 196 Finished percentage: 37.257824\n",
      "Section 167 Finished percentage: 72.136193\n",
      "Section 187 Finished percentage: 16.115386\n",
      "Section 234 Finished percentage: 65.219417\n",
      "Section 206 Finished percentage: 20.032051\n",
      "Section 215 Finished percentage: 43.614794\n",
      "Section 219 Finished percentage: 67.704807\n",
      "Section 230 Finished percentage: 48.645230\n",
      "Section 201 Finished percentage: 59.252507\n",
      "Section 182 Finished percentage: 4.806075\n",
      "Section 177 Finished percentage: 9.723843\n",
      "Section 172 Finished percentage: 4.215141\n",
      "Section 225 Finished percentage: 77.169000\n",
      "Section 191 Finished percentage: 36.171271\n",
      "Section 167 Finished percentage: 76.945273\n",
      "Section 196 Finished percentage: 41.915052\n",
      "Section 234 Finished percentage: 69.877947\n",
      "Section 210 Finished percentage: 17.440593\n",
      "Section 187 Finished percentage: 20.144233\n",
      "Section 219 Finished percentage: 72.912869\n",
      "Section 201 Finished percentage: 63.810392\n",
      "Section 206 Finished percentage: 24.038462\n",
      "Section 230 Finished percentage: 53.509753\n",
      "Section 215 Finished percentage: 47.976274\n",
      "Section 182 Finished percentage: 9.612150\n",
      "Section 177 Finished percentage: 14.585764\n",
      "Section 172 Finished percentage: 8.430282\n",
      "Section 225 Finished percentage: 82.681072\n",
      "Section 191 Finished percentage: 40.692680\n",
      "Section 234 Finished percentage: 74.536476\n",
      "Section 167 Finished percentage: 81.754352\n",
      "Section 219 Finished percentage: 78.120931\n",
      "Section 196 Finished percentage: 46.572280\n",
      "Section 201 Finished percentage: 68.368277\n",
      "Section 187 Finished percentage: 24.173079\n",
      "Section 210 Finished percentage: 21.800741\n",
      "Section 230 Finished percentage: 58.374276\n",
      "Section 206 Finished percentage: 28.044872\n",
      "Section 215 Finished percentage: 52.337753\n",
      "Section 182 Finished percentage: 14.418225\n",
      "Section 177 Finished percentage: 19.447686\n",
      "Section 172 Finished percentage: 12.645422\n",
      "Section 225 Finished percentage: 88.193143\n",
      "Section 234 Finished percentage: 79.195006\n",
      "Section 219 Finished percentage: 83.328993\n",
      "Section 191 Finished percentage: 45.214089\n",
      "Section 167 Finished percentage: 86.563432\n",
      "Section 201 Finished percentage: 72.926162\n",
      "Section 196 Finished percentage: 51.229508\n",
      "Section 187 Finished percentage: 28.201926\n",
      "Section 230 Finished percentage: 63.238799\n",
      "Section 210 Finished percentage: 26.160889\n",
      "Section 206 Finished percentage: 32.051282\n",
      "Section 215 Finished percentage: 56.699232\n",
      "Section 182 Finished percentage: 19.224300\n",
      "Section 177 Finished percentage: 24.309607\n",
      "Section 201 Finished percentage: 77.484047\n",
      "Section 172 Finished percentage: 16.860563\n",
      "Section 225 Finished percentage: 93.705214\n",
      "Section 167 Finished percentage: 91.372511\n",
      "Section 219 Finished percentage: 88.537055\n",
      "Section 191 Finished percentage: 49.735498\n",
      "Section 234 Finished percentage: 83.853536\n",
      "Section 196 Finished percentage: 55.886736\n",
      "Section 187 Finished percentage: 32.230772\n",
      "Section 230 Finished percentage: 68.103322\n",
      "Section 210 Finished percentage: 30.521038\n",
      "Section 215 Finished percentage: 61.060712\n",
      "Section 206 Finished percentage: 36.057692\n",
      "Section 225 Finished percentage: 99.217286\n",
      "Section 182 Finished percentage: 24.030374\n",
      "Section 201 Finished percentage: 82.041933\n",
      "Section 167 Finished percentage: 96.181591\n",
      "Result saved.\n",
      "Section 172 Finished percentage: 21.075704\n",
      "Section 177 Finished percentage: 29.171529\n",
      "Section 219 Finished percentage: 93.745117\n",
      "Section 191 Finished percentage: 54.256906\n",
      "Section 234 Finished percentage: 88.512066\n",
      "Section 196 Finished percentage: 60.543964\n",
      "Section 187 Finished percentage: 36.259619\n",
      "Result saved.\n",
      "Section 201 Finished percentage: 86.599818\n",
      "Section 230 Finished percentage: 72.967846\n",
      "Section 206 Finished percentage: 40.064103\n",
      "Section 215 Finished percentage: 65.422191\n",
      "rm -rf /shared/CSHL_cells_v2/detected_cells/MD589/MD589-IHC43-2015.07.31-00.14.56_MD589_1_0127/MD589-IHC43-2015.07.31-00.14.56_MD589_1_0127_blobCoords.hdf && mkdir -p /shared/CSHL_cells_v2/detected_cells/MD589/MD589-IHC43-2015.07.31-00.14.56_MD589_1_0127\n"
     ]
    },
    {
     "name": "stderr",
     "output_type": "stream",
     "text": [
      "Child returned 0\n"
     ]
    },
    {
     "name": "stdout",
     "output_type": "stream",
     "text": [
      "aws s3 cp s3://mousebrainatlas-data/CSHL_cells_v2/detected_cells/MD589/MD589-IHC43-2015.07.31-00.14.56_MD589_1_0127/MD589-IHC43-2015.07.31-00.14.56_MD589_1_0127_blobCoords.hdf /shared/CSHL_cells_v2/detected_cells/MD589/MD589-IHC43-2015.07.31-00.14.56_MD589_1_0127/MD589-IHC43-2015.07.31-00.14.56_MD589_1_0127_blobCoords.hdf\n",
      "Section 210 Finished percentage: 34.881186\n"
     ]
    },
    {
     "name": "stderr",
     "output_type": "stream",
     "text": [
      "Child returned 0\n",
      "2.57 seconds.\n"
     ]
    },
    {
     "name": "stdout",
     "output_type": "stream",
     "text": [
      "Section 219 Finished percentage: 98.953180\n",
      "Section 182 Finished percentage: 28.836449\n",
      "Result saved.\n",
      "Section 172 Finished percentage: 25.290845\n",
      "Section 177 Finished percentage: 34.033450\n",
      "Section 234 Finished percentage: 93.170595\n",
      "Section 187 Finished percentage: 40.288465\n",
      "Section 196 Finished percentage: 65.201192\n",
      "Section 191 Finished percentage: 58.778315\n",
      "Section 201 Finished percentage: 91.157703\n",
      "Section 206 Finished percentage: 44.070513\n",
      "Section 226 Finished percentage: 0.000000\n",
      "Section 230 Finished percentage: 77.832369\n",
      "Section 215 Finished percentage: 69.783671\n",
      "Section 210 Finished percentage: 39.241334\n",
      "Section 182 Finished percentage: 33.642524\n",
      "Section 234 Finished percentage: 97.829125\n",
      "Section 187 Finished percentage: 44.317312\n",
      "Warrning: Scaned section(s) not included in input im_blob_prop\n",
      "Section 220 Finished percentage: 0.000000\n",
      "Section 201 Finished percentage: 95.715588\n",
      "Section 172 Finished percentage: 29.505985\n",
      "Section 177 Finished percentage: 38.895371\n",
      "Section 196 Finished percentage: 69.858420\n",
      "Section 191 Finished percentage: 63.299724\n",
      "Section 206 Finished percentage: 48.076923\n",
      "Result saved.\n",
      "Section 230 Finished percentage: 82.696892\n",
      "Section 239 Finished percentage: 0.000000\n",
      "Section 215 Finished percentage: 74.145150\n",
      "Section 226 Finished percentage: 4.840037\n",
      "Section 210 Finished percentage: 43.601482\n",
      "Section 220 Finished percentage: 5.294087\n",
      "Section 182 Finished percentage: 38.448599\n",
      "Section 187 Finished percentage: 48.346158\n",
      "rm -rf /shared/CSHL_cells_v2/detected_cells/MD589/MD589-N45-2015.07.30-19.04.31_MD589_2_0134/MD589-N45-2015.07.30-19.04.31_MD589_2_0134_blobCoords.hdf && mkdir -p /shared/CSHL_cells_v2/detected_cells/MD589/MD589-N45-2015.07.30-19.04.31_MD589_2_0134\n"
     ]
    },
    {
     "name": "stderr",
     "output_type": "stream",
     "text": [
      "Child returned 0\n"
     ]
    },
    {
     "name": "stdout",
     "output_type": "stream",
     "text": [
      "aws s3 cp s3://mousebrainatlas-data/CSHL_cells_v2/detected_cells/MD589/MD589-N45-2015.07.30-19.04.31_MD589_2_0134/MD589-N45-2015.07.30-19.04.31_MD589_2_0134_blobCoords.hdf /shared/CSHL_cells_v2/detected_cells/MD589/MD589-N45-2015.07.30-19.04.31_MD589_2_0134/MD589-N45-2015.07.30-19.04.31_MD589_2_0134_blobCoords.hdf\n",
      "Result saved.\n"
     ]
    },
    {
     "name": "stderr",
     "output_type": "stream",
     "text": [
      "Child returned 0\n",
      "2.49 seconds.\n"
     ]
    },
    {
     "name": "stdout",
     "output_type": "stream",
     "text": [
      "Section 177 Finished percentage: 43.757293\n",
      "Section 196 Finished percentage: 74.515648\n",
      "Section 206 Finished percentage: 52.083333\n",
      "Section 191 Finished percentage: 67.821133\n",
      "Section 230 Finished percentage: 87.561415\n",
      "Section 220 Finished percentage: 10.588173\n",
      "Section 239 Finished percentage: 5.635073\n",
      "Section 172 Finished percentage: 33.721126\n",
      "Section 215 Finished percentage: 78.506629\n",
      "Section 182 Finished percentage: 43.254674\n",
      "Section 210 Finished percentage: 47.961631\n",
      "Section 187 Finished percentage: 52.375005\n",
      "Section 235 Finished percentage: 0.000000\n",
      "Section 226 Finished percentage: 9.680074\n",
      "Section 220 Finished percentage: 15.882260\n",
      "Section 177 Finished percentage: 48.619214\n",
      "Section 230 Finished percentage: 92.425938\n",
      "Section 206 Finished percentage: 56.089744\n",
      "Section 191 Finished percentage: 72.342542\n",
      "Section 196 Finished percentage: 79.172876\n",
      "Section 182 Finished percentage: 48.060749\n",
      "Section 215 Finished percentage: 82.868109\n",
      "Section 220 Finished percentage: 21.176346\n",
      "Section 187 Finished percentage: 56.403852\n",
      "Section 239 Finished percentage: 11.270145\n",
      "Section 210 Finished percentage: 52.321779\n",
      "Section 202 Finished percentage: 0.000000\n",
      "Section 172 Finished percentage: 37.936267\n",
      "Section 230 Finished percentage: 97.290461\n",
      "Section 235 Finished percentage: 4.718539\n",
      "Section 177 Finished percentage: 53.481136\n",
      "Section 206 Finished percentage: 60.096154\n",
      "Section 191 Finished percentage: 76.863951\n",
      "Section 196 Finished percentage: 83.830104\n",
      "Section 220 Finished percentage: 26.470433\n",
      "Section 226 Finished percentage: 14.520110\n",
      "Result saved.\n",
      "Section 182 Finished percentage: 52.866824\n",
      "Section 187 Finished percentage: 60.432698\n",
      "Section 215 Finished percentage: 87.229588\n",
      "Section 210 Finished percentage: 56.681927\n",
      "Section 202 Finished percentage: 4.750143\n",
      "Section 172 Finished percentage: 42.151408\n",
      "Section 220 Finished percentage: 31.764519\n",
      "Section 177 Finished percentage: 58.343057\n",
      "Section 239 Finished percentage: 16.905218\n",
      "Section 206 Finished percentage: 64.102564\n",
      "Section 196 Finished percentage: 88.487332\n",
      "rm -rf /shared/CSHL_cells_v2/detected_cells/MD589/MD589-N44-2015.07.30-19.00.35_MD589_2_0131/MD589-N44-2015.07.30-19.00.35_MD589_2_0131_blobCoords.hdf && mkdir -p /shared/CSHL_cells_v2/detected_cells/MD589/MD589-N44-2015.07.30-19.00.35_MD589_2_0131\n"
     ]
    },
    {
     "name": "stderr",
     "output_type": "stream",
     "text": [
      "Child returned 0\n"
     ]
    },
    {
     "name": "stdout",
     "output_type": "stream",
     "text": [
      "aws s3 cp s3://mousebrainatlas-data/CSHL_cells_v2/detected_cells/MD589/MD589-N44-2015.07.30-19.00.35_MD589_2_0131/MD589-N44-2015.07.30-19.00.35_MD589_2_0131_blobCoords.hdf /shared/CSHL_cells_v2/detected_cells/MD589/MD589-N44-2015.07.30-19.00.35_MD589_2_0131/MD589-N44-2015.07.30-19.00.35_MD589_2_0131_blobCoords.hdf\n",
      "Section 235 Finished percentage: 9.437078\n",
      "Section 191 Finished percentage: 81.385360\n",
      "Section 187 Finished percentage: 64.461545\n",
      "Section 220 Finished percentage: 37.058606\n"
     ]
    },
    {
     "name": "stderr",
     "output_type": "stream",
     "text": [
      "Child returned 0\n",
      "2.49 seconds.\n"
     ]
    },
    {
     "name": "stdout",
     "output_type": "stream",
     "text": [
      "Section 226 Finished percentage: 19.360147\n",
      "Section 182 Finished percentage: 57.672899\n",
      "Section 210 Finished percentage: 61.042075\n",
      "Section 215 Finished percentage: 91.591068\n",
      "Section 177 Finished percentage: 63.204979\n",
      "Section 220 Finished percentage: 42.352692\n",
      "Section 202 Finished percentage: 9.500285\n",
      "Section 206 Finished percentage: 68.108974\n",
      "Section 172 Finished percentage: 46.366549\n",
      "Section 187 Finished percentage: 68.490391\n",
      "Section 196 Finished percentage: 93.144560\n",
      "Section 191 Finished percentage: 85.906769\n",
      "Section 239 Finished percentage: 22.540291\n",
      "Section 182 Finished percentage: 62.478973\n",
      "Section 220 Finished percentage: 47.646779\n",
      "Section 231 Finished percentage: 0.000000\n",
      "Section 210 Finished percentage: 65.402224\n",
      "Section 235 Finished percentage: 14.155617\n",
      "Section 226 Finished percentage: 24.200184\n",
      "Section 206 Finished percentage: 72.115385\n",
      "Section 177 Finished percentage: 68.066900\n",
      "Section 187 Finished percentage: 72.519238\n",
      "Section 215 Finished percentage: 95.952547\n",
      "Section 220 Finished percentage: 52.940865\n",
      "Section 172 Finished percentage: 50.581689\n",
      "Section 196 Finished percentage: 97.801788\n",
      "Section 191 Finished percentage: 90.428177\n",
      "Section 202 Finished percentage: 14.250428\n",
      "Section 182 Finished percentage: 67.285048\n",
      "Section 220 Finished percentage: 58.234952\n",
      "Section 210 Finished percentage: 69.762372\n",
      "Section 187 Finished percentage: 76.548084\n",
      "Section 177 Finished percentage: 72.928821\n",
      "Section 206 Finished percentage: 76.121795\n",
      "Result saved.\n",
      "Result saved.\n",
      "Section 239 Finished percentage: 28.175363\n",
      "Section 231 Finished percentage: 4.779429\n",
      "Section 226 Finished percentage: 29.040221\n",
      "Section 235 Finished percentage: 18.874157\n",
      "Section 220 Finished percentage: 63.529038\n",
      "Section 191 Finished percentage: 94.949586\n",
      "Section 172 Finished percentage: 54.796830\n",
      "Section 182 Finished percentage: 72.091123\n",
      "Section 187 Finished percentage: 80.576931\n",
      "Section 220 Finished percentage: 68.823125\n",
      "Section 177 Finished percentage: 77.790743\n",
      "Section 210 Finished percentage: 74.122520\n",
      "Section 202 Finished percentage: 19.000570\n",
      "Section 206 Finished percentage: 80.128205\n",
      "Section 220 Finished percentage: 74.117211\n",
      "Section 226 Finished percentage: 33.880257\n",
      "Section 191 Finished percentage: 99.470995\n",
      "Section 239 Finished percentage: 33.810436\n",
      "Section 182 Finished percentage: 76.897198\n",
      "Section 231 Finished percentage: 9.558859\n",
      "Result saved.\n",
      "Section 187 Finished percentage: 84.605777\n",
      "Section 172 Finished percentage: 59.011971\n",
      "Section 235 Finished percentage: 23.592696\n",
      "Section 220 Finished percentage: 79.411298\n",
      "Section 177 Finished percentage: 82.652664\n",
      "Section 210 Finished percentage: 78.482668\n",
      "Section 197 Finished percentage: 0.000000\n",
      "Section 206 Finished percentage: 84.134615\n",
      "Section 202 Finished percentage: 23.750713\n",
      "Section 216 Finished percentage: 0.000000\n",
      "Section 220 Finished percentage: 84.705384\n",
      "Section 182 Finished percentage: 81.703273\n",
      "Section 187 Finished percentage: 88.634624\n",
      "Section 226 Finished percentage: 38.720294\n",
      "Section 220 Finished percentage: 89.999471\n",
      "Section 239 Finished percentage: 39.445509\n",
      "Section 231 Finished percentage: 14.338288\n",
      "Section 172 Finished percentage: 63.227112\n",
      "Section 177 Finished percentage: 87.514586\n",
      "Section 210 Finished percentage: 82.842817\n",
      "Section 235 Finished percentage: 28.311235\n",
      "Section 206 Finished percentage: 88.141026\n",
      "Section 220 Finished percentage: 95.293557\n",
      "Section 197 Finished percentage: 4.406063\n",
      "Section 202 Finished percentage: 28.500855\n",
      "Section 182 Finished percentage: 86.509348\n",
      "Result saved.\n",
      "Section 187 Finished percentage: 92.663470\n",
      "Section 216 Finished percentage: 4.319468\n",
      "rm -rf /shared/CSHL_cells_v2/detected_cells/MD589/MD589-N42-2015.07.30-18.52.37_MD589_1_0124/MD589-N42-2015.07.30-18.52.37_MD589_1_0124_blobCoords.hdf && mkdir -p /shared/CSHL_cells_v2/detected_cells/MD589/MD589-N42-2015.07.30-18.52.37_MD589_1_0124\n"
     ]
    },
    {
     "name": "stderr",
     "output_type": "stream",
     "text": [
      "Warning: missing section 221Warning: missing section 221Child returned 0\n"
     ]
    },
    {
     "name": "stdout",
     "output_type": "stream",
     "text": [
      "aws s3 cp s3://mousebrainatlas-data/CSHL_cells_v2/detected_cells/MD589/MD589-N42-2015.07.30-18.52.37_MD589_1_0124/MD589-N42-2015.07.30-18.52.37_MD589_1_0124_blobCoords.hdf /shared/CSHL_cells_v2/detected_cells/MD589/MD589-N42-2015.07.30-18.52.37_MD589_1_0124/MD589-N42-2015.07.30-18.52.37_MD589_1_0124_blobCoords.hdf\n",
      "Section 192 Finished percentage: 0.000000\n"
     ]
    },
    {
     "name": "stderr",
     "output_type": "stream",
     "text": [
      "Child returned 0\n",
      "2.35 seconds.\n"
     ]
    },
    {
     "name": "stdout",
     "output_type": "stream",
     "text": [
      "Section 226 Finished percentage: 43.560331\n",
      "Section 210 Finished percentage: 87.202965\n",
      "Section 177 Finished percentage: 92.376507\n",
      "Section 239 Finished percentage: 45.080582\n",
      "Section 172 Finished percentage: 67.442253\n",
      "Section 187 Finished percentage: 96.692317\n",
      "Section 206 Finished percentage: 92.147436\n",
      "Section 231 Finished percentage: 19.117717\n",
      "Section 202 Finished percentage: 33.250998\n",
      "Section 235 Finished percentage: 33.029774\n",
      "Section 182 Finished percentage: 91.315423\n",
      "Section 197 Finished percentage: 8.812125\n",
      "Section 192 Finished percentage: 4.122181\n",
      "Result saved.\n",
      "Section 216 Finished percentage: 8.638936\n",
      "Section 226 Finished percentage: 48.400368\n",
      "Section 177 Finished percentage: 97.238429\n",
      "Section 210 Finished percentage: 91.563113\n",
      "Section 172 Finished percentage: 71.657393\n",
      "Warrning: Scaned section(s) not included in input im_blob_prop\n",
      "Section 222 Finished percentage: 0.000000\n",
      "Section 202 Finished percentage: 38.001140\n",
      "Section 239 Finished percentage: 50.715654\n",
      "Section 182 Finished percentage: 96.121498\n",
      "Result saved.\n",
      "Section 206 Finished percentage: 96.153846\n",
      "rm -rf /shared/CSHL_cells_v2/detected_cells/MD589/MD589-N48-2015.07.30-19.16.21_MD589_2_0143/MD589-N48-2015.07.30-19.16.21_MD589_2_0143_blobCoords.hdf && mkdir -p /shared/CSHL_cells_v2/detected_cells/MD589/MD589-N48-2015.07.30-19.16.21_MD589_2_0143\n"
     ]
    },
    {
     "name": "stderr",
     "output_type": "stream",
     "text": [
      "Child returned 0\n"
     ]
    },
    {
     "name": "stdout",
     "output_type": "stream",
     "text": [
      "aws s3 cp s3://mousebrainatlas-data/CSHL_cells_v2/detected_cells/MD589/MD589-N48-2015.07.30-19.16.21_MD589_2_0143/MD589-N48-2015.07.30-19.16.21_MD589_2_0143_blobCoords.hdf /shared/CSHL_cells_v2/detected_cells/MD589/MD589-N48-2015.07.30-19.16.21_MD589_2_0143/MD589-N48-2015.07.30-19.16.21_MD589_2_0143_blobCoords.hdf\n",
      "Section 235 Finished percentage: 37.748313\n",
      "Section 231 Finished percentage: 23.897147\n"
     ]
    },
    {
     "name": "stderr",
     "output_type": "stream",
     "text": [
      "Child returned 0\n",
      "2.45 seconds.\n"
     ]
    },
    {
     "name": "stdout",
     "output_type": "stream",
     "text": [
      "rm -rf /shared/CSHL_cells_v2/detected_cells/MD589/MD589-IHC47-2015.07.31-00.31.08_MD589_2_0140/MD589-IHC47-2015.07.31-00.31.08_MD589_2_0140_blobCoords.hdf && mkdir -p /shared/CSHL_cells_v2/detected_cells/MD589/MD589-IHC47-2015.07.31-00.31.08_MD589_2_0140\n"
     ]
    },
    {
     "name": "stderr",
     "output_type": "stream",
     "text": [
      "Child returned 0\n"
     ]
    },
    {
     "name": "stdout",
     "output_type": "stream",
     "text": [
      "aws s3 cp s3://mousebrainatlas-data/CSHL_cells_v2/detected_cells/MD589/MD589-IHC47-2015.07.31-00.31.08_MD589_2_0140/MD589-IHC47-2015.07.31-00.31.08_MD589_2_0140_blobCoords.hdf /shared/CSHL_cells_v2/detected_cells/MD589/MD589-IHC47-2015.07.31-00.31.08_MD589_2_0140/MD589-IHC47-2015.07.31-00.31.08_MD589_2_0140_blobCoords.hdf\n"
     ]
    },
    {
     "name": "stderr",
     "output_type": "stream",
     "text": [
      "Child returned 0\n",
      "2.36 seconds.\n"
     ]
    },
    {
     "name": "stdout",
     "output_type": "stream",
     "text": [
      "Section 222 Finished percentage: 4.890215\n",
      "Section 197 Finished percentage: 13.218188\n",
      "Section 226 Finished percentage: 53.240405\n",
      "rm -rf /shared/CSHL_cells_v2/detected_cells/MD589/MD589-IHC48-2015.07.31-00.35.14_MD589_2_0143/MD589-IHC48-2015.07.31-00.35.14_MD589_2_0143_blobCoords.hdf && mkdir -p /shared/CSHL_cells_v2/detected_cells/MD589/MD589-IHC48-2015.07.31-00.35.14_MD589_2_0143\n"
     ]
    },
    {
     "name": "stderr",
     "output_type": "stream",
     "text": [
      "Child returned 0\n"
     ]
    },
    {
     "name": "stdout",
     "output_type": "stream",
     "text": [
      "aws s3 cp s3://mousebrainatlas-data/CSHL_cells_v2/detected_cells/MD589/MD589-IHC48-2015.07.31-00.35.14_MD589_2_0143/MD589-IHC48-2015.07.31-00.35.14_MD589_2_0143_blobCoords.hdf /shared/CSHL_cells_v2/detected_cells/MD589/MD589-IHC48-2015.07.31-00.35.14_MD589_2_0143/MD589-IHC48-2015.07.31-00.35.14_MD589_2_0143_blobCoords.hdf\n",
      "Section 192 Finished percentage: 8.244363\n",
      "Result saved.\n",
      "Section 210 Finished percentage: 95.923261\n"
     ]
    },
    {
     "name": "stderr",
     "output_type": "stream",
     "text": [
      "Child returned 0\n",
      "3.04 seconds.\n"
     ]
    },
    {
     "name": "stdout",
     "output_type": "stream",
     "text": [
      "Section 172 Finished percentage: 75.872534\n",
      "Section 216 Finished percentage: 12.958404\n",
      "Section 202 Finished percentage: 42.751283\n",
      "Section 239 Finished percentage: 56.350727\n",
      "Result saved.\n",
      "Section 244 Finished percentage: 0.000000\n",
      "Section 222 Finished percentage: 9.780429\n",
      "Section 235 Finished percentage: 42.466852\n",
      "rm -rf /shared/CSHL_cells_v2/detected_cells/MD589/MD589-N49-2015.07.30-19.20.15_MD589_1_0145/MD589-N49-2015.07.30-19.20.15_MD589_1_0145_blobCoords.hdf && mkdir -p /shared/CSHL_cells_v2/detected_cells/MD589/MD589-N49-2015.07.30-19.20.15_MD589_1_0145\n"
     ]
    },
    {
     "name": "stderr",
     "output_type": "stream",
     "text": [
      "Child returned 0\n"
     ]
    },
    {
     "name": "stdout",
     "output_type": "stream",
     "text": [
      "aws s3 cp s3://mousebrainatlas-data/CSHL_cells_v2/detected_cells/MD589/MD589-N49-2015.07.30-19.20.15_MD589_1_0145/MD589-N49-2015.07.30-19.20.15_MD589_1_0145_blobCoords.hdf /shared/CSHL_cells_v2/detected_cells/MD589/MD589-N49-2015.07.30-19.20.15_MD589_1_0145/MD589-N49-2015.07.30-19.20.15_MD589_1_0145_blobCoords.hdf\n"
     ]
    },
    {
     "name": "stderr",
     "output_type": "stream",
     "text": [
      "Child returned 0\n",
      "3.04 seconds.\n"
     ]
    },
    {
     "name": "stdout",
     "output_type": "stream",
     "text": [
      "Section 226 Finished percentage: 58.080441\n",
      "Section 231 Finished percentage: 28.676576\n",
      "Result saved.\n",
      "Section 192 Finished percentage: 12.366544\n",
      "Section 197 Finished percentage: 17.624251\n",
      "Section 222 Finished percentage: 14.670644\n",
      "Section 202 Finished percentage: 47.501425\n",
      "Section 172 Finished percentage: 80.087675\n",
      "Section 239 Finished percentage: 61.985800\n",
      "Section 235 Finished percentage: 47.185391\n",
      "Section 216 Finished percentage: 17.277871\n",
      "Section 244 Finished percentage: 4.845196\n",
      "Section 222 Finished percentage: 19.560859\n",
      "Section 226 Finished percentage: 62.920478\n",
      "Section 249 Finished percentage: 0.000000\n",
      "Section 231 Finished percentage: 33.456005\n",
      "Section 202 Finished percentage: 52.251568\n",
      "Section 222 Finished percentage: 24.451073\n",
      "Section 192 Finished percentage: 16.488726\n",
      "Section 197 Finished percentage: 22.030314\n",
      "Section 239 Finished percentage: 67.620872\n",
      "Section 172 Finished percentage: 84.302816\n",
      "Section 235 Finished percentage: 51.903931\n",
      "Section 207 Finished percentage: 0.000000\n",
      "Section 226 Finished percentage: 67.760515\n",
      "Section 216 Finished percentage: 21.597339\n",
      "Section 254 Finished percentage: 0.000000\n",
      "Section 222 Finished percentage: 29.341288\n",
      "Section 244 Finished percentage: 9.690392\n",
      "Section 249 Finished percentage: 4.016710\n",
      "Section 202 Finished percentage: 57.001710\n",
      "Section 231 Finished percentage: 38.235435\n",
      "Section 239 Finished percentage: 73.255945\n",
      "Section 222 Finished percentage: 34.231503\n",
      "Section 226 Finished percentage: 72.600552\n",
      "Section 192 Finished percentage: 20.610907\n",
      "Section 235 Finished percentage: 56.622470\n",
      "Section 197 Finished percentage: 26.436376\n",
      "Section 172 Finished percentage: 88.517956\n",
      "Section 207 Finished percentage: 3.968569\n",
      "Section 211 Finished percentage: 0.000000\n",
      "Section 254 Finished percentage: 3.731483\n",
      "Section 216 Finished percentage: 25.916807\n",
      "Section 222 Finished percentage: 39.121717\n",
      "Section 202 Finished percentage: 61.751853\n",
      "Section 231 Finished percentage: 43.014864\n",
      "Section 239 Finished percentage: 78.891018\n",
      "Section 226 Finished percentage: 77.440589\n",
      "Section 249 Finished percentage: 8.033419\n",
      "Section 244 Finished percentage: 14.535588\n",
      "Section 235 Finished percentage: 61.341009\n",
      "Section 222 Finished percentage: 44.011932\n",
      "Section 197 Finished percentage: 30.842439\n",
      "Section 172 Finished percentage: 92.733097\n",
      "Section 192 Finished percentage: 24.733089\n",
      "Section 202 Finished percentage: 66.501995\n",
      "Section 254 Finished percentage: 7.462965\n",
      "Section 211 Finished percentage: 4.620432\n",
      "Section 207 Finished percentage: 7.937138\n",
      "Section 239 Finished percentage: 84.526090\n",
      "Section 222 Finished percentage: 48.902147\n",
      "Section 231 Finished percentage: 47.794293\n",
      "Section 216 Finished percentage: 30.236275\n",
      "Section 226 Finished percentage: 82.280625\n",
      "Section 222 Finished percentage: 53.792361\n",
      "Section 235 Finished percentage: 66.059548\n",
      "Section 197 Finished percentage: 35.248502\n",
      "Section 172 Finished percentage: 96.948238\n",
      "Section 202 Finished percentage: 71.252138\n",
      "Section 249 Finished percentage: 12.050129\n",
      "Section 244 Finished percentage: 19.380784\n",
      "Section 239 Finished percentage: 90.161163\n",
      "Section 211 Finished percentage: 9.240863\n",
      "Section 222 Finished percentage: 58.682576\n",
      "Section 192 Finished percentage: 28.855270\n",
      "Section 226 Finished percentage: 87.120662\n",
      "Section 254 Finished percentage: 11.194448\n",
      "Section 231 Finished percentage: 52.573723\n",
      "Section 207 Finished percentage: 11.905707\n",
      "Result saved.\n",
      "Section 216 Finished percentage: 34.555743\n",
      "Section 235 Finished percentage: 70.778087\n",
      "Section 222 Finished percentage: 63.572791\n",
      "Section 197 Finished percentage: 39.654565\n",
      "Section 202 Finished percentage: 76.002280\n",
      "Section 239 Finished percentage: 95.796236\n",
      "Section 222 Finished percentage: 68.463006\n",
      "Section 226 Finished percentage: 91.960699\n",
      "Section 244 Finished percentage: 24.225980\n",
      "Section 192 Finished percentage: 32.977452\n",
      "Section 249 Finished percentage: 16.066838\n",
      "Section 231 Finished percentage: 57.353152\n",
      "Section 211 Finished percentage: 13.861295\n",
      "Section 235 Finished percentage: 75.496626\n",
      "Result saved.\n",
      "Section 222 Finished percentage: 73.353220\n",
      "Section 254 Finished percentage: 14.925930\n",
      "Section 202 Finished percentage: 80.752423\n",
      "Section 216 Finished percentage: 38.875211\n",
      "Section 197 Finished percentage: 44.060627\n",
      "Section 207 Finished percentage: 15.874276\n",
      "Section 226 Finished percentage: 96.800736\n",
      "Section 222 Finished percentage: 78.243435\n",
      "Section 192 Finished percentage: 37.099633\n",
      "Result saved.\n",
      "Section 222 Finished percentage: 83.133650\n",
      "Section 231 Finished percentage: 62.132581\n",
      "rm -rf /shared/CSHL_cells_v2/detected_cells/MD589/MD589-IHC46-2015.07.31-00.27.07_MD589_2_0137/MD589-IHC46-2015.07.31-00.27.07_MD589_2_0137_blobCoords.hdf && mkdir -p /shared/CSHL_cells_v2/detected_cells/MD589/MD589-IHC46-2015.07.31-00.27.07_MD589_2_0137\n"
     ]
    },
    {
     "name": "stderr",
     "output_type": "stream",
     "text": [
      "Child returned 0\n"
     ]
    },
    {
     "name": "stdout",
     "output_type": "stream",
     "text": [
      "aws s3 cp s3://mousebrainatlas-data/CSHL_cells_v2/detected_cells/MD589/MD589-IHC46-2015.07.31-00.27.07_MD589_2_0137/MD589-IHC46-2015.07.31-00.27.07_MD589_2_0137_blobCoords.hdf /shared/CSHL_cells_v2/detected_cells/MD589/MD589-IHC46-2015.07.31-00.27.07_MD589_2_0137/MD589-IHC46-2015.07.31-00.27.07_MD589_2_0137_blobCoords.hdf\n",
      "Section 235 Finished percentage: 80.215165\n",
      "Section 202 Finished percentage: 85.502565\n",
      "Section 211 Finished percentage: 18.481726\n",
      "Section 244 Finished percentage: 29.071176\n"
     ]
    },
    {
     "name": "stderr",
     "output_type": "stream",
     "text": [
      "Child returned 0\n",
      "2.34 seconds.\n"
     ]
    },
    {
     "name": "stdout",
     "output_type": "stream",
     "text": [
      "Section 197 Finished percentage: 48.466690\n",
      "Section 249 Finished percentage: 20.083548\n",
      "Section 222 Finished percentage: 88.023864\n",
      "Section 216 Finished percentage: 43.194678\n",
      "Section 259 Finished percentage: 0.000000\n",
      "Section 254 Finished percentage: 18.657413\n",
      "Section 207 Finished percentage: 19.842845\n",
      "Section 202 Finished percentage: 90.252708\n",
      "Section 222 Finished percentage: 92.914079\n",
      "Section 192 Finished percentage: 41.221815\n",
      "Section 231 Finished percentage: 66.912011\n",
      "Section 197 Finished percentage: 52.872753\n",
      "Section 240 Finished percentage: 0.000000\n",
      "Section 222 Finished percentage: 97.804294\n",
      "Section 235 Finished percentage: 84.933705\n",
      "Result saved.\n",
      "Section 211 Finished percentage: 23.102158\n",
      "Section 244 Finished percentage: 33.916372\n",
      "Section 216 Finished percentage: 47.514146\n",
      "Section 259 Finished percentage: 3.673769\n",
      "Section 249 Finished percentage: 24.100257\n",
      "Section 192 Finished percentage: 45.343996\n",
      "Section 254 Finished percentage: 22.388895\n",
      "Section 202 Finished percentage: 95.002850\n",
      "Section 227 Finished percentage: 0.000000\n",
      "Section 207 Finished percentage: 23.811414\n",
      "Section 197 Finished percentage: 57.278816\n",
      "Section 231 Finished percentage: 71.691440\n",
      "Section 240 Finished percentage: 5.444251\n",
      "Section 235 Finished percentage: 89.652244\n",
      "Section 192 Finished percentage: 49.466178\n",
      "Section 211 Finished percentage: 27.722589\n",
      "Section 244 Finished percentage: 38.761568\n",
      "Section 216 Finished percentage: 51.833614\n",
      "Section 197 Finished percentage: 61.684878\n",
      "Section 249 Finished percentage: 28.116967\n",
      "Section 227 Finished percentage: 5.237796\n",
      "Section 259 Finished percentage: 7.347539\n",
      "Section 202 Finished percentage: 99.752993\n",
      "Result saved.\n",
      "Section 254 Finished percentage: 26.120378\n",
      "Section 231 Finished percentage: 76.470869\n",
      "Section 240 Finished percentage: 10.888502\n",
      "Section 207 Finished percentage: 27.779983\n",
      "Section 235 Finished percentage: 94.370783\n",
      "Section 192 Finished percentage: 53.588359\n",
      "Section 223 Finished percentage: 0.000000\n",
      "Section 211 Finished percentage: 32.343021\n",
      "rm -rf /shared/CSHL_cells_v2/detected_cells/MD589/MD589-N52-2015.07.30-19.33.44_MD589_1_0154/MD589-N52-2015.07.30-19.33.44_MD589_1_0154_blobCoords.hdf && mkdir -p /shared/CSHL_cells_v2/detected_cells/MD589/MD589-N52-2015.07.30-19.33.44_MD589_1_0154\n"
     ]
    },
    {
     "name": "stderr",
     "output_type": "stream",
     "text": [
      "Child returned 0\n"
     ]
    },
    {
     "name": "stdout",
     "output_type": "stream",
     "text": [
      "aws s3 cp s3://mousebrainatlas-data/CSHL_cells_v2/detected_cells/MD589/MD589-N52-2015.07.30-19.33.44_MD589_1_0154/MD589-N52-2015.07.30-19.33.44_MD589_1_0154_blobCoords.hdf /shared/CSHL_cells_v2/detected_cells/MD589/MD589-N52-2015.07.30-19.33.44_MD589_1_0154/MD589-N52-2015.07.30-19.33.44_MD589_1_0154_blobCoords.hdf\n",
      "Section 197 Finished percentage: 66.090941\n",
      "Section 244 Finished percentage: 43.606764\n",
      "Section 216 Finished percentage: 56.153082\n"
     ]
    },
    {
     "name": "stderr",
     "output_type": "stream",
     "text": [
      "Child returned 0\n",
      "2.95 seconds.\n"
     ]
    },
    {
     "name": "stdout",
     "output_type": "stream",
     "text": [
      "Section 249 Finished percentage: 32.133676\n",
      "Section 227 Finished percentage: 10.475592\n",
      "Section 259 Finished percentage: 11.021308\n",
      "Section 254 Finished percentage: 29.851860\n",
      "Section 231 Finished percentage: 81.250299\n",
      "Section 235 Finished percentage: 99.089322\n",
      "Section 240 Finished percentage: 16.332753\n",
      "Section 192 Finished percentage: 57.710540\n",
      "Section 207 Finished percentage: 31.748551\n",
      "Result saved.\n",
      "Section 197 Finished percentage: 70.497004\n",
      "Section 223 Finished percentage: 5.239168\n",
      "Section 216 Finished percentage: 60.472550\n",
      "rm -rf /shared/CSHL_cells_v2/detected_cells/MD589/MD589-IHC52-2015.07.31-00.52.41_MD589_1_0154/MD589-IHC52-2015.07.31-00.52.41_MD589_1_0154_blobCoords.hdf && mkdir -p /shared/CSHL_cells_v2/detected_cells/MD589/MD589-IHC52-2015.07.31-00.52.41_MD589_1_0154\n"
     ]
    },
    {
     "name": "stderr",
     "output_type": "stream",
     "text": [
      "Child returned 0\n"
     ]
    },
    {
     "name": "stdout",
     "output_type": "stream",
     "text": [
      "aws s3 cp s3://mousebrainatlas-data/CSHL_cells_v2/detected_cells/MD589/MD589-IHC52-2015.07.31-00.52.41_MD589_1_0154/MD589-IHC52-2015.07.31-00.52.41_MD589_1_0154_blobCoords.hdf /shared/CSHL_cells_v2/detected_cells/MD589/MD589-IHC52-2015.07.31-00.52.41_MD589_1_0154/MD589-IHC52-2015.07.31-00.52.41_MD589_1_0154_blobCoords.hdf\n",
      "Section 211 Finished percentage: 36.963452\n",
      "Section 244 Finished percentage: 48.451960\n"
     ]
    },
    {
     "name": "stderr",
     "output_type": "stream",
     "text": [
      "Child returned 0\n",
      "2.40 seconds.\n"
     ]
    },
    {
     "name": "stdout",
     "output_type": "stream",
     "text": [
      "Section 254 Finished percentage: 33.583343\n",
      "Section 249 Finished percentage: 36.150386\n",
      "Section 192 Finished percentage: 61.832722\n",
      "Section 207 Finished percentage: 35.717120\n",
      "Section 231 Finished percentage: 86.029728\n",
      "Section 227 Finished percentage: 15.713388\n",
      "Section 259 Finished percentage: 14.695077\n",
      "Section 197 Finished percentage: 74.903067\n",
      "Section 240 Finished percentage: 21.777003\n",
      "Section 216 Finished percentage: 64.792018\n",
      "rm -rf /shared/CSHL_cells_v2/detected_cells/MD589/MD589-IHC45-2015.07.31-00.23.02_MD589_2_0134/MD589-IHC45-2015.07.31-00.23.02_MD589_2_0134_blobCoords.hdf && mkdir -p /shared/CSHL_cells_v2/detected_cells/MD589/MD589-IHC45-2015.07.31-00.23.02_MD589_2_0134\n",
      "Section 244 Finished percentage: 53.297156\n"
     ]
    },
    {
     "name": "stderr",
     "output_type": "stream",
     "text": [
      "Child returned 0\n"
     ]
    },
    {
     "name": "stdout",
     "output_type": "stream",
     "text": [
      "aws s3 cp s3://mousebrainatlas-data/CSHL_cells_v2/detected_cells/MD589/MD589-IHC45-2015.07.31-00.23.02_MD589_2_0134/MD589-IHC45-2015.07.31-00.23.02_MD589_2_0134_blobCoords.hdf /shared/CSHL_cells_v2/detected_cells/MD589/MD589-IHC45-2015.07.31-00.23.02_MD589_2_0134/MD589-IHC45-2015.07.31-00.23.02_MD589_2_0134_blobCoords.hdf\n",
      "Section 223 Finished percentage: 10.478336\n",
      "Section 211 Finished percentage: 41.583884\n"
     ]
    },
    {
     "name": "stderr",
     "output_type": "stream",
     "text": [
      "Child returned 0\n",
      "2.39 seconds.\n"
     ]
    },
    {
     "name": "stdout",
     "output_type": "stream",
     "text": [
      "Section 264 Finished percentage: 0.000000\n",
      "Section 192 Finished percentage: 65.954903\n",
      "Section 254 Finished percentage: 37.314825\n",
      "Section 197 Finished percentage: 79.309129\n",
      "Section 207 Finished percentage: 39.685689\n",
      "Section 231 Finished percentage: 90.809157\n",
      "Section 249 Finished percentage: 40.167095\n",
      "Section 227 Finished percentage: 20.951184\n",
      "Section 211 Finished percentage: 46.204315\n",
      "Section 244 Finished percentage: 58.142352\n",
      "Section 216 Finished percentage: 69.111485\n",
      "Section 259 Finished percentage: 18.368846\n",
      "Section 240 Finished percentage: 27.221254\n",
      "Section 223 Finished percentage: 15.717504\n",
      "Section 236 Finished percentage: 0.000000\n",
      "Section 192 Finished percentage: 70.077085\n",
      "Section 264 Finished percentage: 3.774582\n",
      "Section 197 Finished percentage: 83.715192\n",
      "Section 254 Finished percentage: 41.046308\n",
      "Section 231 Finished percentage: 95.588587\n",
      "Section 244 Finished percentage: 62.987548\n",
      "Section 207 Finished percentage: 43.654258\n",
      "Section 249 Finished percentage: 44.183805\n",
      "Section 216 Finished percentage: 73.430953\n",
      "Section 211 Finished percentage: 50.824747\n",
      "Section 227 Finished percentage: 26.188980\n",
      "Section 240 Finished percentage: 32.665505\n",
      "Section 259 Finished percentage: 22.042616\n",
      "Section 192 Finished percentage: 74.199266\n",
      "Section 197 Finished percentage: 88.121255\n",
      "Section 223 Finished percentage: 20.956672\n",
      "Section 236 Finished percentage: 4.680552\n",
      "Result saved.\n",
      "Section 254 Finished percentage: 44.777790\n",
      "Section 244 Finished percentage: 67.832744\n",
      "Section 264 Finished percentage: 7.549164\n",
      "Section 207 Finished percentage: 47.622827\n",
      "Section 211 Finished percentage: 55.445179\n",
      "Section 216 Finished percentage: 77.750421\n",
      "Section 249 Finished percentage: 48.200514\n",
      "Section 240 Finished percentage: 38.109756\n",
      "Section 192 Finished percentage: 78.321448\n",
      "Section 197 Finished percentage: 92.527318\n",
      "Section 227 Finished percentage: 31.426776\n",
      "Section 259 Finished percentage: 25.716385\n",
      "Section 223 Finished percentage: 26.195840\n",
      "Section 244 Finished percentage: 72.677940\n",
      "Section 254 Finished percentage: 48.509273\n",
      "Section 211 Finished percentage: 60.065610\n",
      "Section 207 Finished percentage: 51.591396\n",
      "Section 216 Finished percentage: 82.069889\n",
      "Section 236 Finished percentage: 9.361105\n",
      "Section 264 Finished percentage: 11.323746\n",
      "Section 192 Finished percentage: 82.443629\n",
      "Section 197 Finished percentage: 96.933380\n",
      "Section 240 Finished percentage: 43.554007\n",
      "Section 249 Finished percentage: 52.217224\n",
      "Section 244 Finished percentage: 77.523136\n",
      "Section 227 Finished percentage: 36.664572\n",
      "Section 232 Finished percentage: 0.000000\n",
      "Section 207 Finished percentage: 55.559965\n",
      "Section 223 Finished percentage: 31.435008\n",
      "Section 216 Finished percentage: 86.389357\n",
      "Section 259 Finished percentage: 29.390154\n",
      "Section 211 Finished percentage: 64.686042\n",
      "Result saved.\n",
      "Section 254 Finished percentage: 52.240755\n",
      "Section 192 Finished percentage: 86.565811\n",
      "Section 240 Finished percentage: 48.998258\n",
      "Section 236 Finished percentage: 14.041657\n",
      "Section 244 Finished percentage: 82.368332\n",
      "Section 264 Finished percentage: 15.098328\n",
      "Section 249 Finished percentage: 56.233933\n",
      "Section 216 Finished percentage: 90.708825\n",
      "Section 207 Finished percentage: 59.528534\n",
      "Section 227 Finished percentage: 41.902367\n",
      "Section 232 Finished percentage: 4.674208\n",
      "Section 211 Finished percentage: 69.306473\n",
      "Section 223 Finished percentage: 36.674176\n",
      "Section 192 Finished percentage: 90.687992\n",
      "Section 259 Finished percentage: 33.063924\n",
      "Section 240 Finished percentage: 54.442509\n",
      "Section 254 Finished percentage: 55.972238\n",
      "Section 244 Finished percentage: 87.213528\n",
      "Section 216 Finished percentage: 95.028293\n",
      "Section 236 Finished percentage: 18.722209\n",
      "Section 244 Finished percentage: 92.058724\n",
      "Section 249 Finished percentage: 60.250643\n",
      "Section 264 Finished percentage: 18.872910\n",
      "Section 207 Finished percentage: 63.497103\n",
      "Section 211 Finished percentage: 73.926905\n",
      "Section 227 Finished percentage: 47.140163\n",
      "Section 192 Finished percentage: 94.810174\n",
      "Section 223 Finished percentage: 41.913344\n",
      "Section 240 Finished percentage: 59.886760\n",
      "Section 269 Finished percentage: 0.000000\n",
      "Section 254 Finished percentage: 59.703720\n",
      "Section 232 Finished percentage: 9.348415\n",
      "Section 259 Finished percentage: 36.737693\n",
      "Section 216 Finished percentage: 99.347760\n",
      "Result saved.\n",
      "Section 244 Finished percentage: 96.903920\n",
      "Section 207 Finished percentage: 67.465672\n",
      "Section 249 Finished percentage: 64.267352\n",
      "Section 211 Finished percentage: 78.547336\n",
      "Section 240 Finished percentage: 65.331010\n",
      "Section 236 Finished percentage: 23.402762\n",
      "Section 227 Finished percentage: 52.377959\n",
      "Section 192 Finished percentage: 98.932355\n",
      "Result saved.\n",
      "Section 269 Finished percentage: 4.266576\n",
      "Section 223 Finished percentage: 47.152512\n",
      "Section 264 Finished percentage: 22.647492\n",
      "Section 254 Finished percentage: 63.435203\n",
      "Result saved.\n",
      "Section 232 Finished percentage: 14.022623\n",
      "Section 259 Finished percentage: 40.411462\n",
      "rm -rf /shared/CSHL_cells_v2/detected_cells/MD589/MD589-N48-2015.07.30-19.16.21_MD589_1_0142/MD589-N48-2015.07.30-19.16.21_MD589_1_0142_blobCoords.hdf && mkdir -p /shared/CSHL_cells_v2/detected_cells/MD589/MD589-N48-2015.07.30-19.16.21_MD589_1_0142\n"
     ]
    },
    {
     "name": "stderr",
     "output_type": "stream",
     "text": [
      "Child returned 0\n"
     ]
    },
    {
     "name": "stdout",
     "output_type": "stream",
     "text": [
      "aws s3 cp s3://mousebrainatlas-data/CSHL_cells_v2/detected_cells/MD589/MD589-N48-2015.07.30-19.16.21_MD589_1_0142/MD589-N48-2015.07.30-19.16.21_MD589_1_0142_blobCoords.hdf /shared/CSHL_cells_v2/detected_cells/MD589/MD589-N48-2015.07.30-19.16.21_MD589_1_0142/MD589-N48-2015.07.30-19.16.21_MD589_1_0142_blobCoords.hdf\n",
      "rm -rf /shared/CSHL_cells_v2/detected_cells/MD589/MD589-N53-2015.07.30-19.39.11_MD589_3_0159/MD589-N53-2015.07.30-19.39.11_MD589_3_0159_blobCoords.hdf && mkdir -p /shared/CSHL_cells_v2/detected_cells/MD589/MD589-N53-2015.07.30-19.39.11_MD589_3_0159\n"
     ]
    },
    {
     "name": "stderr",
     "output_type": "stream",
     "text": [
      "Child returned 0\n"
     ]
    },
    {
     "name": "stdout",
     "output_type": "stream",
     "text": [
      "aws s3 cp s3://mousebrainatlas-data/CSHL_cells_v2/detected_cells/MD589/MD589-N53-2015.07.30-19.39.11_MD589_3_0159/MD589-N53-2015.07.30-19.39.11_MD589_3_0159_blobCoords.hdf /shared/CSHL_cells_v2/detected_cells/MD589/MD589-N53-2015.07.30-19.39.11_MD589_3_0159/MD589-N53-2015.07.30-19.39.11_MD589_3_0159_blobCoords.hdf\n",
      "Section 207 Finished percentage: 71.434241\n",
      "Section 240 Finished percentage: 70.775261\n",
      "Section 217 Finished percentage: 0.000000\n"
     ]
    },
    {
     "name": "stderr",
     "output_type": "stream",
     "text": [
      "Child returned 0\n",
      "2.26 seconds.\n",
      "Child returned 0\n",
      "2.53 seconds.\n"
     ]
    },
    {
     "name": "stdout",
     "output_type": "stream",
     "text": [
      "Section 227 Finished percentage: 57.615755\n",
      "Section 211 Finished percentage: 83.167768\n",
      "Section 249 Finished percentage: 68.284062\n",
      "Section 236 Finished percentage: 28.083314\n",
      "Section 223 Finished percentage: 52.391680\n",
      "Section 254 Finished percentage: 67.166685\n",
      "Section 269 Finished percentage: 8.533151\n",
      "Section 264 Finished percentage: 26.422074\n",
      "rm -rf /shared/CSHL_cells_v2/detected_cells/MD589/MD589-IHC53-2015.07.31-00.58.06_MD589_3_0159/MD589-IHC53-2015.07.31-00.58.06_MD589_3_0159_blobCoords.hdf && mkdir -p /shared/CSHL_cells_v2/detected_cells/MD589/MD589-IHC53-2015.07.31-00.58.06_MD589_3_0159\n"
     ]
    },
    {
     "name": "stderr",
     "output_type": "stream",
     "text": [
      "Child returned 0\n"
     ]
    },
    {
     "name": "stdout",
     "output_type": "stream",
     "text": [
      "aws s3 cp s3://mousebrainatlas-data/CSHL_cells_v2/detected_cells/MD589/MD589-IHC53-2015.07.31-00.58.06_MD589_3_0159/MD589-IHC53-2015.07.31-00.58.06_MD589_3_0159_blobCoords.hdf /shared/CSHL_cells_v2/detected_cells/MD589/MD589-IHC53-2015.07.31-00.58.06_MD589_3_0159/MD589-IHC53-2015.07.31-00.58.06_MD589_3_0159_blobCoords.hdf\n"
     ]
    },
    {
     "name": "stderr",
     "output_type": "stream",
     "text": [
      "Child returned 0\n",
      "2.31 seconds.\n"
     ]
    },
    {
     "name": "stdout",
     "output_type": "stream",
     "text": [
      "Section 232 Finished percentage: 18.696831\n",
      "Section 240 Finished percentage: 76.219512\n",
      "Section 245 Finished percentage: 0.000000\n",
      "Section 259 Finished percentage: 44.085231\n",
      "Section 227 Finished percentage: 62.853551\n",
      "Section 207 Finished percentage: 75.402810\n",
      "Section 223 Finished percentage: 57.630848\n",
      "Section 211 Finished percentage: 87.788199\n",
      "Section 217 Finished percentage: 4.611483\n",
      "Section 249 Finished percentage: 72.300771\n",
      "Section 240 Finished percentage: 81.663763\n",
      "Section 254 Finished percentage: 70.898168\n",
      "Section 236 Finished percentage: 32.763866\n",
      "Section 274 Finished percentage: 0.000000\n",
      "Section 264 Finished percentage: 30.196656\n",
      "Section 269 Finished percentage: 12.799727\n",
      "Section 227 Finished percentage: 68.091347\n",
      "Section 232 Finished percentage: 23.371039\n",
      "Section 245 Finished percentage: 5.121639\n",
      "Section 259 Finished percentage: 47.759001\n",
      "Section 223 Finished percentage: 62.870016\n",
      "Section 240 Finished percentage: 87.108014\n",
      "Section 207 Finished percentage: 79.371379\n",
      "Section 211 Finished percentage: 92.408631\n",
      "Section 249 Finished percentage: 76.317481\n",
      "Section 236 Finished percentage: 37.444418\n",
      "Section 274 Finished percentage: 3.962907\n",
      "Section 254 Finished percentage: 74.629650\n",
      "Section 217 Finished percentage: 9.222965\n",
      "Section 264 Finished percentage: 33.971238\n",
      "Section 227 Finished percentage: 73.329143\n",
      "Section 240 Finished percentage: 92.552265\n",
      "Section 223 Finished percentage: 68.109184\n",
      "Section 245 Finished percentage: 10.243278\n",
      "Section 207 Finished percentage: 83.339948\n",
      "Section 259 Finished percentage: 51.432770\n",
      "Section 269 Finished percentage: 17.066303\n",
      "Section 232 Finished percentage: 28.045246\n",
      "Section 211 Finished percentage: 97.029063\n",
      "Section 254 Finished percentage: 78.361133\n",
      "Section 249 Finished percentage: 80.334190\n",
      "Section 236 Finished percentage: 42.124971\n",
      "Section 274 Finished percentage: 7.925814\n",
      "Section 240 Finished percentage: 97.996516\n",
      "Section 227 Finished percentage: 78.566939\n",
      "Result saved.\n",
      "Section 223 Finished percentage: 73.348352\n",
      "Result saved.\n",
      "Section 217 Finished percentage: 13.834448\n",
      "Section 264 Finished percentage: 37.745820\n",
      "Section 207 Finished percentage: 87.308517\n",
      "Section 259 Finished percentage: 55.106539\n",
      "Section 232 Finished percentage: 32.719454\n",
      "Section 245 Finished percentage: 15.364917\n",
      "Section 254 Finished percentage: 82.092615\n",
      "Section 269 Finished percentage: 21.332878\n",
      "Section 236 Finished percentage: 46.805523\n",
      "Section 249 Finished percentage: 84.350900\n",
      "Section 227 Finished percentage: 83.804735\n",
      "rm -rf /shared/CSHL_cells_v2/detected_cells/MD589/MD589-N47-2015.07.30-19.12.19_MD589_1_0139/MD589-N47-2015.07.30-19.12.19_MD589_1_0139_blobCoords.hdf && mkdir -p /shared/CSHL_cells_v2/detected_cells/MD589/MD589-N47-2015.07.30-19.12.19_MD589_1_0139\n"
     ]
    },
    {
     "name": "stderr",
     "output_type": "stream",
     "text": [
      "Child returned 0\n"
     ]
    },
    {
     "name": "stdout",
     "output_type": "stream",
     "text": [
      "aws s3 cp s3://mousebrainatlas-data/CSHL_cells_v2/detected_cells/MD589/MD589-N47-2015.07.30-19.12.19_MD589_1_0139/MD589-N47-2015.07.30-19.12.19_MD589_1_0139_blobCoords.hdf /shared/CSHL_cells_v2/detected_cells/MD589/MD589-N47-2015.07.30-19.12.19_MD589_1_0139/MD589-N47-2015.07.30-19.12.19_MD589_1_0139_blobCoords.hdf\n",
      "Section 223 Finished percentage: 78.587520\n",
      "Section 274 Finished percentage: 11.888722\n"
     ]
    },
    {
     "name": "stderr",
     "output_type": "stream",
     "text": [
      "Child returned 0\n",
      "2.33 seconds.\n"
     ]
    },
    {
     "name": "stdout",
     "output_type": "stream",
     "text": [
      "Section 207 Finished percentage: 91.277085\n",
      "Section 264 Finished percentage: 41.520402\n",
      "Section 259 Finished percentage: 58.780309\n",
      "Section 217 Finished percentage: 18.445930\n",
      "Section 254 Finished percentage: 85.824098\n",
      "Section 232 Finished percentage: 37.393662\n",
      "Section 212 Finished percentage: 0.000000\n",
      "Section 236 Finished percentage: 51.486075\n",
      "Section 245 Finished percentage: 20.486556\n",
      "Section 227 Finished percentage: 89.042531\n",
      "Section 249 Finished percentage: 88.367609\n",
      "Section 223 Finished percentage: 83.826688\n",
      "Section 269 Finished percentage: 25.599454\n",
      "Section 241 Finished percentage: 0.000000\n",
      "Section 274 Finished percentage: 15.851629\n",
      "Section 207 Finished percentage: 95.245654\n",
      "Section 232 Finished percentage: 42.067869\n",
      "Section 264 Finished percentage: 45.294984\n",
      "Section 254 Finished percentage: 89.555580\n",
      "Section 259 Finished percentage: 62.454078\n",
      "Section 217 Finished percentage: 23.057413\n",
      "Section 212 Finished percentage: 4.407034\n",
      "Section 236 Finished percentage: 56.166628\n",
      "Section 223 Finished percentage: 89.065856\n",
      "Section 227 Finished percentage: 94.280327\n",
      "Section 245 Finished percentage: 25.608195\n",
      "Section 249 Finished percentage: 92.384319\n",
      "Section 241 Finished percentage: 5.583473\n",
      "Section 269 Finished percentage: 29.866030\n",
      "Section 232 Finished percentage: 46.742077\n",
      "Section 254 Finished percentage: 93.287063\n",
      "Section 207 Finished percentage: 99.214223\n",
      "Section 264 Finished percentage: 49.069566\n",
      "Section 236 Finished percentage: 60.847180\n",
      "Section 274 Finished percentage: 19.814536\n",
      "Section 217 Finished percentage: 27.668896\n",
      "Result saved.\n",
      "Section 259 Finished percentage: 66.127847\n",
      "Section 227 Finished percentage: 99.518123\n",
      "Result saved.\n",
      "Section 223 Finished percentage: 94.305024\n",
      "Section 212 Finished percentage: 8.814067\n",
      "Section 249 Finished percentage: 96.401028\n",
      "Section 245 Finished percentage: 30.729834\n",
      "Section 241 Finished percentage: 11.166946\n",
      "Section 254 Finished percentage: 97.018545\n",
      "Section 232 Finished percentage: 51.416285\n",
      "Section 269 Finished percentage: 34.132605\n",
      "Section 236 Finished percentage: 65.527732\n",
      "Section 223 Finished percentage: 99.544192\n",
      "Result saved.\n",
      "Section 264 Finished percentage: 52.844148\n",
      "Result saved.\n",
      "Section 259 Finished percentage: 69.801616\n",
      "Section 217 Finished percentage: 32.280378\n",
      "Section 212 Finished percentage: 13.221101\n",
      "Section 274 Finished percentage: 23.777443\n",
      "Result saved.\n",
      "Section 228 Finished percentage: 0.000000\n",
      "Section 241 Finished percentage: 16.750419\n",
      "Section 245 Finished percentage: 35.851472\n",
      "Section 232 Finished percentage: 56.090493\n",
      "Section 236 Finished percentage: 70.208285\n",
      "Section 269 Finished percentage: 38.399181\n",
      "Section 279 Finished percentage: 0.000000\n",
      "rm -rf /shared/CSHL_cells_v2/detected_cells/MD589/MD589-IHC49-2015.07.31-00.39.15_MD589_1_0145/MD589-IHC49-2015.07.31-00.39.15_MD589_1_0145_blobCoords.hdf && mkdir -p /shared/CSHL_cells_v2/detected_cells/MD589/MD589-IHC49-2015.07.31-00.39.15_MD589_1_0145\n"
     ]
    },
    {
     "name": "stderr",
     "output_type": "stream",
     "text": [
      "Child returned 0\n"
     ]
    },
    {
     "name": "stdout",
     "output_type": "stream",
     "text": [
      "aws s3 cp s3://mousebrainatlas-data/CSHL_cells_v2/detected_cells/MD589/MD589-IHC49-2015.07.31-00.39.15_MD589_1_0145/MD589-IHC49-2015.07.31-00.39.15_MD589_1_0145_blobCoords.hdf /shared/CSHL_cells_v2/detected_cells/MD589/MD589-IHC49-2015.07.31-00.39.15_MD589_1_0145/MD589-IHC49-2015.07.31-00.39.15_MD589_1_0145_blobCoords.hdf\n",
      "Section 264 Finished percentage: 56.618729\n",
      "Section 259 Finished percentage: 73.475386\n",
      "Section 217 Finished percentage: 36.891861\n"
     ]
    },
    {
     "name": "stderr",
     "output_type": "stream",
     "text": [
      "Child returned 0\n",
      "2.78 seconds.\n"
     ]
    },
    {
     "name": "stdout",
     "output_type": "stream",
     "text": [
      "Section 212 Finished percentage: 17.628135\n",
      "Section 274 Finished percentage: 27.740350\n",
      "Section 236 Finished percentage: 74.888837\n",
      "Section 228 Finished percentage: 5.094503\n",
      "rm -rf /shared/CSHL_cells_v2/detected_cells/MD589/MD589-N50-2015.07.30-19.24.13_MD589_2_0149/MD589-N50-2015.07.30-19.24.13_MD589_2_0149_blobCoords.hdf && mkdir -p /shared/CSHL_cells_v2/detected_cells/MD589/MD589-N50-2015.07.30-19.24.13_MD589_2_0149\n"
     ]
    },
    {
     "name": "stderr",
     "output_type": "stream",
     "text": [
      "Child returned 0\n"
     ]
    },
    {
     "name": "stdout",
     "output_type": "stream",
     "text": [
      "aws s3 cp s3://mousebrainatlas-data/CSHL_cells_v2/detected_cells/MD589/MD589-N50-2015.07.30-19.24.13_MD589_2_0149/MD589-N50-2015.07.30-19.24.13_MD589_2_0149_blobCoords.hdf /shared/CSHL_cells_v2/detected_cells/MD589/MD589-N50-2015.07.30-19.24.13_MD589_2_0149/MD589-N50-2015.07.30-19.24.13_MD589_2_0149_blobCoords.hdf\n",
      "Section 241 Finished percentage: 22.333892\n",
      "Section 232 Finished percentage: 60.764700\n",
      "Section 245 Finished percentage: 40.973111\n"
     ]
    },
    {
     "name": "stderr",
     "output_type": "stream",
     "text": [
      "Child returned 0\n",
      "2.85 seconds.\n"
     ]
    },
    {
     "name": "stdout",
     "output_type": "stream",
     "text": [
      "Section 279 Finished percentage: 3.763360\n",
      "Section 269 Finished percentage: 42.665756\n",
      "Section 264 Finished percentage: 60.393311\n",
      "Section 284 Finished percentage: 0.000000\n",
      "Section 259 Finished percentage: 77.149155\n",
      "Section 217 Finished percentage: 41.503343\n",
      "Section 236 Finished percentage: 79.569389\n",
      "Section 212 Finished percentage: 22.035168\n",
      "Section 250 Finished percentage: 0.000000\n",
      "Section 274 Finished percentage: 31.703258\n",
      "Section 232 Finished percentage: 65.438908\n",
      "Section 245 Finished percentage: 46.094750\n",
      "Section 228 Finished percentage: 10.189006\n",
      "Section 255 Finished percentage: 0.000000\n",
      "Section 241 Finished percentage: 27.917365\n",
      "Section 284 Finished percentage: 3.939024\n",
      "Section 269 Finished percentage: 46.932332\n",
      "Section 279 Finished percentage: 7.526720\n",
      "Section 264 Finished percentage: 64.167893\n",
      "Section 259 Finished percentage: 80.822924\n",
      "Section 217 Finished percentage: 46.114826\n",
      "Section 212 Finished percentage: 26.442202\n",
      "Section 274 Finished percentage: 35.666165\n",
      "Section 236 Finished percentage: 84.249941\n",
      "Section 250 Finished percentage: 3.775580\n",
      "Section 232 Finished percentage: 70.113116\n",
      "Section 245 Finished percentage: 51.216389\n",
      "Section 228 Finished percentage: 15.283509\n",
      "Section 255 Finished percentage: 3.816794\n",
      "Section 284 Finished percentage: 7.878048\n",
      "Section 241 Finished percentage: 33.500838\n",
      "Section 269 Finished percentage: 51.198908\n",
      "Section 264 Finished percentage: 67.942475\n",
      "Section 259 Finished percentage: 84.496694\n",
      "Section 279 Finished percentage: 11.290080\n",
      "Section 217 Finished percentage: 50.726309\n",
      "Section 236 Finished percentage: 88.930494\n",
      "Section 212 Finished percentage: 30.849235\n",
      "Section 274 Finished percentage: 39.629072\n",
      "Section 250 Finished percentage: 7.551159\n",
      "Section 232 Finished percentage: 74.787324\n",
      "Section 245 Finished percentage: 56.338028\n",
      "Section 228 Finished percentage: 20.378012\n",
      "Section 284 Finished percentage: 11.817072\n",
      "Section 241 Finished percentage: 39.084310\n",
      "Section 264 Finished percentage: 71.717057\n",
      "Section 255 Finished percentage: 7.633588\n",
      "Section 269 Finished percentage: 55.465483\n",
      "Section 236 Finished percentage: 93.611046\n",
      "Section 212 Finished percentage: 35.256269\n",
      "Section 259 Finished percentage: 88.170463\n",
      "Section 279 Finished percentage: 15.053440\n",
      "Section 217 Finished percentage: 55.337791\n",
      "Section 274 Finished percentage: 43.591979\n",
      "Section 245 Finished percentage: 61.459667\n",
      "Section 232 Finished percentage: 79.461531\n",
      "Section 250 Finished percentage: 11.326739\n",
      "Section 236 Finished percentage: 98.291598\n",
      "Section 241 Finished percentage: 44.667783\n",
      "Section 228 Finished percentage: 25.472515\n",
      "Result saved.\n",
      "Section 284 Finished percentage: 15.756096\n",
      "Section 264 Finished percentage: 75.491639\n",
      "Section 212 Finished percentage: 39.663303\n",
      "Section 269 Finished percentage: 59.732059\n",
      "Section 217 Finished percentage: 59.949274\n",
      "Section 259 Finished percentage: 91.844232\n",
      "Section 255 Finished percentage: 11.450382\n",
      "Section 279 Finished percentage: 18.816800\n",
      "Section 274 Finished percentage: 47.554886\n",
      "Section 245 Finished percentage: 66.581306\n",
      "Section 232 Finished percentage: 84.135739\n",
      "Section 241 Finished percentage: 50.251256\n",
      "Section 250 Finished percentage: 15.102318\n",
      "Section 228 Finished percentage: 30.567018\n",
      "Section 264 Finished percentage: 79.266221\n",
      "Section 212 Finished percentage: 44.070336\n",
      "Section 284 Finished percentage: 19.695120\n",
      "Section 259 Finished percentage: 95.518001\n",
      "Section 217 Finished percentage: 64.560756\n",
      "Section 269 Finished percentage: 63.998635\n",
      "Section 245 Finished percentage: 71.702945\n",
      "Section 274 Finished percentage: 51.517793\n",
      "Section 255 Finished percentage: 15.267176\n",
      "Section 279 Finished percentage: 22.580160\n",
      "Section 232 Finished percentage: 88.809947\n",
      "Section 241 Finished percentage: 55.834729\n",
      "Section 250 Finished percentage: 18.877898\n",
      "Section 212 Finished percentage: 48.477370\n",
      "Section 228 Finished percentage: 35.661521\n",
      "Section 237 Finished percentage: 0.000000\n",
      "Section 259 Finished percentage: 99.191771\n",
      "Section 245 Finished percentage: 76.824584\n",
      "Section 217 Finished percentage: 69.172239\n",
      "Section 264 Finished percentage: 83.040803\n",
      "Result saved.\n",
      "Section 284 Finished percentage: 23.634143\n",
      "Section 269 Finished percentage: 68.265210\n",
      "Section 241 Finished percentage: 61.418202\n",
      "Section 274 Finished percentage: 55.480701\n",
      "Section 232 Finished percentage: 93.484154\n",
      "Section 255 Finished percentage: 19.083969\n",
      "Section 279 Finished percentage: 26.343519\n",
      "Section 245 Finished percentage: 81.946223\n",
      "Section 212 Finished percentage: 52.884404\n",
      "Section 228 Finished percentage: 40.756024\n",
      "Section 250 Finished percentage: 22.653477\n",
      "Section 217 Finished percentage: 73.783721\n",
      "rm -rf /shared/CSHL_cells_v2/detected_cells/MD589/MD589-IHC51-2015.07.31-00.47.11_MD589_2_0152/MD589-IHC51-2015.07.31-00.47.11_MD589_2_0152_blobCoords.hdf && mkdir -p /shared/CSHL_cells_v2/detected_cells/MD589/MD589-IHC51-2015.07.31-00.47.11_MD589_2_0152\n"
     ]
    },
    {
     "name": "stderr",
     "output_type": "stream",
     "text": [
      "Child returned 0\n"
     ]
    },
    {
     "name": "stdout",
     "output_type": "stream",
     "text": [
      "aws s3 cp s3://mousebrainatlas-data/CSHL_cells_v2/detected_cells/MD589/MD589-IHC51-2015.07.31-00.47.11_MD589_2_0152/MD589-IHC51-2015.07.31-00.47.11_MD589_2_0152_blobCoords.hdf /shared/CSHL_cells_v2/detected_cells/MD589/MD589-IHC51-2015.07.31-00.47.11_MD589_2_0152/MD589-IHC51-2015.07.31-00.47.11_MD589_2_0152_blobCoords.hdf\n",
      "Section 264 Finished percentage: 86.815385\n",
      "Section 241 Finished percentage: 67.001675\n",
      "Section 237 Finished percentage: 4.696600\n"
     ]
    },
    {
     "name": "stderr",
     "output_type": "stream",
     "text": [
      "Child returned 0\n",
      "3.03 seconds.\n"
     ]
    },
    {
     "name": "stdout",
     "output_type": "stream",
     "text": [
      "Section 284 Finished percentage: 27.573167\n",
      "Section 232 Finished percentage: 98.158362\n",
      "Section 269 Finished percentage: 72.531786\n",
      "Section 274 Finished percentage: 59.443608\n",
      "Section 279 Finished percentage: 30.106879\n",
      "Section 245 Finished percentage: 87.067862\n",
      "Result saved.\n",
      "Section 212 Finished percentage: 57.291437\n",
      "Section 255 Finished percentage: 22.900763\n",
      "Section 217 Finished percentage: 78.395204\n",
      "Section 241 Finished percentage: 72.585148\n",
      "Section 228 Finished percentage: 45.850527\n",
      "Section 250 Finished percentage: 26.429057\n",
      "Section 264 Finished percentage: 90.589967\n",
      "Section 260 Finished percentage: 0.000000\n",
      "Section 245 Finished percentage: 92.189501\n",
      "Section 269 Finished percentage: 76.798362\n",
      "Section 237 Finished percentage: 9.393199\n",
      "Section 284 Finished percentage: 31.512191\n",
      "Section 274 Finished percentage: 63.406515\n",
      "Section 212 Finished percentage: 61.698471\n",
      "Section 279 Finished percentage: 33.870239\n",
      "Section 241 Finished percentage: 78.168621\n",
      "Section 217 Finished percentage: 83.006687\n",
      "Section 228 Finished percentage: 50.945030\n",
      "Section 264 Finished percentage: 94.364549\n",
      "Section 245 Finished percentage: 97.311140\n",
      "Section 255 Finished percentage: 26.717557\n",
      "Section 250 Finished percentage: 30.204636\n",
      "Section 241 Finished percentage: 83.752094\n",
      "Section 212 Finished percentage: 66.105504\n",
      "Result saved.\n",
      "Section 260 Finished percentage: 3.801270\n",
      "Section 284 Finished percentage: 35.451215\n",
      "Section 274 Finished percentage: 67.369422\n",
      "Section 279 Finished percentage: 37.633599\n",
      "Section 269 Finished percentage: 81.064937\n",
      "Section 237 Finished percentage: 14.089799\n",
      "Section 228 Finished percentage: 56.039533\n",
      "Section 233 Finished percentage: 0.000000\n",
      "Section 217 Finished percentage: 87.618169\n",
      "Section 264 Finished percentage: 98.139131\n",
      "Section 241 Finished percentage: 89.335567\n",
      "Section 212 Finished percentage: 70.512538\n",
      "Section 255 Finished percentage: 30.534351\n",
      "Result saved.\n",
      "Section 284 Finished percentage: 39.390239\n",
      "Section 250 Finished percentage: 33.980216\n",
      "rm -rf /shared/CSHL_cells_v2/detected_cells/MD589/MD589-IHC48-2015.07.31-00.35.14_MD589_1_0142/MD589-IHC48-2015.07.31-00.35.14_MD589_1_0142_blobCoords.hdf && mkdir -p /shared/CSHL_cells_v2/detected_cells/MD589/MD589-IHC48-2015.07.31-00.35.14_MD589_1_0142\n"
     ]
    },
    {
     "name": "stderr",
     "output_type": "stream",
     "text": [
      "Child returned 0\n"
     ]
    },
    {
     "name": "stdout",
     "output_type": "stream",
     "text": [
      "aws s3 cp s3://mousebrainatlas-data/CSHL_cells_v2/detected_cells/MD589/MD589-IHC48-2015.07.31-00.35.14_MD589_1_0142/MD589-IHC48-2015.07.31-00.35.14_MD589_1_0142_blobCoords.hdf /shared/CSHL_cells_v2/detected_cells/MD589/MD589-IHC48-2015.07.31-00.35.14_MD589_1_0142/MD589-IHC48-2015.07.31-00.35.14_MD589_1_0142_blobCoords.hdf\n",
      "Section 274 Finished percentage: 71.332329\n",
      "Section 279 Finished percentage: 41.396959\n",
      "Section 228 Finished percentage: 61.134036\n"
     ]
    },
    {
     "name": "stderr",
     "output_type": "stream",
     "text": [
      "Child returned 0\n",
      "2.30 seconds.\n"
     ]
    },
    {
     "name": "stdout",
     "output_type": "stream",
     "text": [
      "Section 269 Finished percentage: 85.331513\n",
      "Section 260 Finished percentage: 7.602539\n",
      "Section 217 Finished percentage: 92.229652\n",
      "Section 241 Finished percentage: 94.919040\n",
      "Section 237 Finished percentage: 18.786399\n",
      "Section 233 Finished percentage: 4.919565\n",
      "Section 212 Finished percentage: 74.919572\n",
      "Section 255 Finished percentage: 34.351145\n",
      "Section 284 Finished percentage: 43.329263\n",
      "Result saved.\n",
      "Section 228 Finished percentage: 66.228539\n",
      "Section 274 Finished percentage: 75.295237\n",
      "rm -rf /shared/CSHL_cells_v2/detected_cells/MD589/MD589-N52-2015.07.30-19.33.44_MD589_2_0155/MD589-N52-2015.07.30-19.33.44_MD589_2_0155_blobCoords.hdf && mkdir -p /shared/CSHL_cells_v2/detected_cells/MD589/MD589-N52-2015.07.30-19.33.44_MD589_2_0155\n"
     ]
    },
    {
     "name": "stderr",
     "output_type": "stream",
     "text": [
      "Child returned 0\n"
     ]
    },
    {
     "name": "stdout",
     "output_type": "stream",
     "text": [
      "aws s3 cp s3://mousebrainatlas-data/CSHL_cells_v2/detected_cells/MD589/MD589-N52-2015.07.30-19.33.44_MD589_2_0155/MD589-N52-2015.07.30-19.33.44_MD589_2_0155_blobCoords.hdf /shared/CSHL_cells_v2/detected_cells/MD589/MD589-N52-2015.07.30-19.33.44_MD589_2_0155/MD589-N52-2015.07.30-19.33.44_MD589_2_0155_blobCoords.hdf\n",
      "Section 246 Finished percentage: 0.000000\n",
      "Section 279 Finished percentage: 45.160319\n",
      "Section 250 Finished percentage: 37.755796\n"
     ]
    },
    {
     "name": "stderr",
     "output_type": "stream",
     "text": [
      "Child returned 0\n",
      "2.30 seconds.\n"
     ]
    },
    {
     "name": "stdout",
     "output_type": "stream",
     "text": [
      "Section 217 Finished percentage: 96.841134\n",
      "Section 269 Finished percentage: 89.598089\n",
      "Section 260 Finished percentage: 11.403809\n",
      "Section 212 Finished percentage: 79.326605\n",
      "Section 237 Finished percentage: 23.482998\n",
      "Result saved.\n",
      "Section 228 Finished percentage: 71.323042\n",
      "Section 233 Finished percentage: 9.839130\n",
      "Section 284 Finished percentage: 47.268287\n",
      "Section 255 Finished percentage: 38.167939\n",
      "Section 274 Finished percentage: 79.258144\n",
      "Section 279 Finished percentage: 48.923679\n",
      "Section 246 Finished percentage: 5.042610\n",
      "Section 265 Finished percentage: 0.000000\n",
      "Section 250 Finished percentage: 41.531375\n",
      "Section 269 Finished percentage: 93.864664\n",
      "Section 212 Finished percentage: 83.733639\n",
      "Section 260 Finished percentage: 15.205078\n",
      "Section 228 Finished percentage: 76.417545\n",
      "Section 242 Finished percentage: 0.000000\n",
      "Section 237 Finished percentage: 28.179598\n",
      "Section 284 Finished percentage: 51.207311\n",
      "Section 274 Finished percentage: 83.221051\n",
      "Section 279 Finished percentage: 52.687039\n",
      "Section 255 Finished percentage: 41.984733\n",
      "Section 212 Finished percentage: 88.140673\n",
      "Section 233 Finished percentage: 14.758695\n",
      "Section 250 Finished percentage: 45.306955\n",
      "Section 269 Finished percentage: 98.131240\n",
      "Section 265 Finished percentage: 3.881536\n",
      "Section 246 Finished percentage: 10.085220\n",
      "Section 228 Finished percentage: 81.512048\n",
      "Section 242 Finished percentage: 5.746136\n",
      "Result saved.\n",
      "Section 260 Finished percentage: 19.006348\n",
      "Section 289 Finished percentage: 0.000000\n",
      "Section 212 Finished percentage: 92.547706\n",
      "Section 237 Finished percentage: 32.876198\n",
      "Section 284 Finished percentage: 55.146335\n",
      "Section 255 Finished percentage: 45.801527\n",
      "Section 279 Finished percentage: 56.450399\n",
      "Section 274 Finished percentage: 87.183958\n",
      "Section 250 Finished percentage: 49.082534\n",
      "Section 233 Finished percentage: 19.678260\n",
      "Section 228 Finished percentage: 86.606552\n",
      "Section 265 Finished percentage: 7.763071\n",
      "rm -rf /shared/CSHL_cells_v2/detected_cells/MD589/MD589-IHC53-2015.07.31-00.58.06_MD589_1_0157/MD589-IHC53-2015.07.31-00.58.06_MD589_1_0157_blobCoords.hdf && mkdir -p /shared/CSHL_cells_v2/detected_cells/MD589/MD589-IHC53-2015.07.31-00.58.06_MD589_1_0157\n"
     ]
    },
    {
     "name": "stderr",
     "output_type": "stream",
     "text": [
      "Child returned 0\n"
     ]
    },
    {
     "name": "stdout",
     "output_type": "stream",
     "text": [
      "aws s3 cp s3://mousebrainatlas-data/CSHL_cells_v2/detected_cells/MD589/MD589-IHC53-2015.07.31-00.58.06_MD589_1_0157/MD589-IHC53-2015.07.31-00.58.06_MD589_1_0157_blobCoords.hdf /shared/CSHL_cells_v2/detected_cells/MD589/MD589-IHC53-2015.07.31-00.58.06_MD589_1_0157/MD589-IHC53-2015.07.31-00.58.06_MD589_1_0157_blobCoords.hdf\n",
      "Section 246 Finished percentage: 15.127830\n",
      "Section 242 Finished percentage: 11.492271\n"
     ]
    },
    {
     "name": "stderr",
     "output_type": "stream",
     "text": [
      "Child returned 0\n",
      "2.29 seconds.\n"
     ]
    },
    {
     "name": "stdout",
     "output_type": "stream",
     "text": [
      "Section 212 Finished percentage: 96.954740\n",
      "Section 289 Finished percentage: 4.216029\n",
      "Section 260 Finished percentage: 22.807618\n",
      "Section 274 Finished percentage: 91.146865\n",
      "Section 284 Finished percentage: 59.085359\n",
      "Section 279 Finished percentage: 60.213759\n",
      "Section 237 Finished percentage: 37.572797\n",
      "Section 255 Finished percentage: 49.618321\n",
      "Section 250 Finished percentage: 52.858114\n",
      "Result saved.\n",
      "Section 228 Finished percentage: 91.701055\n",
      "Section 233 Finished percentage: 24.597826\n",
      "rm -rf /shared/CSHL_cells_v2/detected_cells/MD589/MD589-N57-2015.07.30-19.59.14_MD589_1_0169/MD589-N57-2015.07.30-19.59.14_MD589_1_0169_blobCoords.hdf && mkdir -p /shared/CSHL_cells_v2/detected_cells/MD589/MD589-N57-2015.07.30-19.59.14_MD589_1_0169\n"
     ]
    },
    {
     "name": "stderr",
     "output_type": "stream",
     "text": [
      "Child returned 0\n"
     ]
    },
    {
     "name": "stdout",
     "output_type": "stream",
     "text": [
      "aws s3 cp s3://mousebrainatlas-data/CSHL_cells_v2/detected_cells/MD589/MD589-N57-2015.07.30-19.59.14_MD589_1_0169/MD589-N57-2015.07.30-19.59.14_MD589_1_0169_blobCoords.hdf /shared/CSHL_cells_v2/detected_cells/MD589/MD589-N57-2015.07.30-19.59.14_MD589_1_0169/MD589-N57-2015.07.30-19.59.14_MD589_1_0169_blobCoords.hdf\n",
      "Section 265 Finished percentage: 11.644607\n",
      "Section 270 Finished percentage: 0.000000\n"
     ]
    },
    {
     "name": "stderr",
     "output_type": "stream",
     "text": [
      "Child returned 0\n",
      "2.33 seconds.\n"
     ]
    },
    {
     "name": "stdout",
     "output_type": "stream",
     "text": [
      "Section 246 Finished percentage: 20.170440\n",
      "Section 242 Finished percentage: 17.238407\n",
      "Section 289 Finished percentage: 8.432059\n",
      "Section 274 Finished percentage: 95.109773\n",
      "Section 228 Finished percentage: 96.795558\n",
      "Section 284 Finished percentage: 63.024383\n",
      "Section 260 Finished percentage: 26.608887\n",
      "Section 255 Finished percentage: 53.435115\n",
      "Section 279 Finished percentage: 63.977119\n",
      "Section 237 Finished percentage: 42.269397\n",
      "Section 250 Finished percentage: 56.633693\n",
      "rm -rf /shared/CSHL_cells_v2/detected_cells/MD589/MD589-IHC57-2015.07.31-01.18.16_MD589_1_0169/MD589-IHC57-2015.07.31-01.18.16_MD589_1_0169_blobCoords.hdf && mkdir -p /shared/CSHL_cells_v2/detected_cells/MD589/MD589-IHC57-2015.07.31-01.18.16_MD589_1_0169\n"
     ]
    },
    {
     "name": "stderr",
     "output_type": "stream",
     "text": [
      "Child returned 0\n"
     ]
    },
    {
     "name": "stdout",
     "output_type": "stream",
     "text": [
      "aws s3 cp s3://mousebrainatlas-data/CSHL_cells_v2/detected_cells/MD589/MD589-IHC57-2015.07.31-01.18.16_MD589_1_0169/MD589-IHC57-2015.07.31-01.18.16_MD589_1_0169_blobCoords.hdf /shared/CSHL_cells_v2/detected_cells/MD589/MD589-IHC57-2015.07.31-01.18.16_MD589_1_0169/MD589-IHC57-2015.07.31-01.18.16_MD589_1_0169_blobCoords.hdf\n",
      "Result saved.\n"
     ]
    },
    {
     "name": "stderr",
     "output_type": "stream",
     "text": [
      "Child returned 0\n",
      "2.40 seconds.\n"
     ]
    },
    {
     "name": "stdout",
     "output_type": "stream",
     "text": [
      "Section 233 Finished percentage: 29.517391\n",
      "Section 274 Finished percentage: 99.072680\n",
      "Section 270 Finished percentage: 3.692217\n",
      "Section 289 Finished percentage: 12.648088\n",
      "Section 265 Finished percentage: 15.526142\n",
      "Result saved.\n",
      "Section 246 Finished percentage: 25.213050\n",
      "Section 284 Finished percentage: 66.963406\n",
      "Section 242 Finished percentage: 22.984543\n",
      "Section 255 Finished percentage: 57.251908\n",
      "Section 237 Finished percentage: 46.965997\n",
      "Section 294 Finished percentage: 0.000000\n",
      "Section 279 Finished percentage: 67.740479\n",
      "Section 260 Finished percentage: 30.410157\n",
      "Section 250 Finished percentage: 60.409273\n",
      "Warrning: Scaned section(s) not included in input im_blob_prop\n",
      "Section 299 Finished percentage: 0.000000\n",
      "rm -rf /shared/CSHL_cells_v2/detected_cells/MD589/MD589-N54-2015.07.30-19.44.32_MD589_1_0160/MD589-N54-2015.07.30-19.44.32_MD589_1_0160_blobCoords.hdf && mkdir -p /shared/CSHL_cells_v2/detected_cells/MD589/MD589-N54-2015.07.30-19.44.32_MD589_1_0160\n"
     ]
    },
    {
     "name": "stderr",
     "output_type": "stream",
     "text": [
      "Child returned 0\n"
     ]
    },
    {
     "name": "stdout",
     "output_type": "stream",
     "text": [
      "aws s3 cp s3://mousebrainatlas-data/CSHL_cells_v2/detected_cells/MD589/MD589-N54-2015.07.30-19.44.32_MD589_1_0160/MD589-N54-2015.07.30-19.44.32_MD589_1_0160_blobCoords.hdf /shared/CSHL_cells_v2/detected_cells/MD589/MD589-N54-2015.07.30-19.44.32_MD589_1_0160/MD589-N54-2015.07.30-19.44.32_MD589_1_0160_blobCoords.hdf\n"
     ]
    },
    {
     "name": "stderr",
     "output_type": "stream",
     "text": [
      "Child returned 0\n",
      "2.42 seconds.\n"
     ]
    },
    {
     "name": "stdout",
     "output_type": "stream",
     "text": [
      "Section 233 Finished percentage: 34.436956\n",
      "Section 299 Finished percentage: 4.805844\n",
      "Section 270 Finished percentage: 7.384434\n",
      "Section 289 Finished percentage: 16.864117\n",
      "Section 284 Finished percentage: 70.902430\n",
      "Section 294 Finished percentage: 3.951944\n",
      "Section 246 Finished percentage: 30.255660\n",
      "Section 265 Finished percentage: 19.407678\n",
      "Section 237 Finished percentage: 51.662596\n",
      "Section 299 Finished percentage: 9.611688\n",
      "Section 279 Finished percentage: 71.503839\n",
      "Section 242 Finished percentage: 28.730679\n",
      "Section 255 Finished percentage: 61.068702\n",
      "Section 260 Finished percentage: 34.211427\n",
      "Section 250 Finished percentage: 64.184852\n",
      "Section 275 Finished percentage: 0.000000\n",
      "Section 270 Finished percentage: 11.076650\n",
      "Section 299 Finished percentage: 14.417532\n",
      "Section 233 Finished percentage: 39.356521\n",
      "Section 284 Finished percentage: 74.841454\n",
      "Section 294 Finished percentage: 7.903889\n",
      "Section 279 Finished percentage: 75.267199\n",
      "Section 237 Finished percentage: 56.359196\n",
      "Section 289 Finished percentage: 21.080147\n",
      "Section 246 Finished percentage: 35.298270\n",
      "Section 299 Finished percentage: 19.223376\n",
      "Section 265 Finished percentage: 23.289213\n",
      "Section 242 Finished percentage: 34.476814\n",
      "Section 260 Finished percentage: 38.012696\n",
      "Section 250 Finished percentage: 67.960432\n",
      "Section 255 Finished percentage: 64.885496\n",
      "Section 275 Finished percentage: 4.123881\n",
      "Section 233 Finished percentage: 44.276086\n",
      "Section 299 Finished percentage: 24.029220\n",
      "Section 270 Finished percentage: 14.768867\n",
      "Section 284 Finished percentage: 78.780478\n",
      "Section 246 Finished percentage: 40.340880\n",
      "Section 237 Finished percentage: 61.055796\n",
      "Section 294 Finished percentage: 11.855833\n",
      "Section 279 Finished percentage: 79.030558\n",
      "Section 299 Finished percentage: 28.835063\n",
      "Section 250 Finished percentage: 71.736011\n",
      "Section 289 Finished percentage: 25.296176\n",
      "Section 242 Finished percentage: 40.222950\n",
      "Section 260 Finished percentage: 41.813966\n",
      "Section 255 Finished percentage: 68.702290\n",
      "Section 265 Finished percentage: 27.170749\n",
      "Section 233 Finished percentage: 49.195651\n",
      "Section 299 Finished percentage: 33.640907\n",
      "Section 275 Finished percentage: 8.247763\n",
      "Section 246 Finished percentage: 45.383490\n",
      "Section 270 Finished percentage: 18.461084\n",
      "Section 284 Finished percentage: 82.719502\n",
      "Section 237 Finished percentage: 65.752395\n",
      "Section 242 Finished percentage: 45.969086\n",
      "Section 294 Finished percentage: 15.807777\n",
      "Section 279 Finished percentage: 82.793918\n",
      "Section 289 Finished percentage: 29.512205\n",
      "Section 250 Finished percentage: 75.511591\n",
      "Section 299 Finished percentage: 38.446751\n",
      "Section 260 Finished percentage: 45.615235\n",
      "Section 255 Finished percentage: 72.519084\n",
      "Section 233 Finished percentage: 54.115216\n",
      "Section 265 Finished percentage: 31.052284\n",
      "Section 299 Finished percentage: 43.252595\n",
      "Section 237 Finished percentage: 70.448995\n",
      "Section 246 Finished percentage: 50.426101\n",
      "Section 275 Finished percentage: 12.371644\n",
      "Section 242 Finished percentage: 51.715222\n",
      "Section 284 Finished percentage: 86.658526\n",
      "Section 250 Finished percentage: 79.287171\n",
      "Section 270 Finished percentage: 22.153301\n",
      "Section 279 Finished percentage: 86.557278\n",
      "Section 299 Finished percentage: 48.058439\n",
      "Section 294 Finished percentage: 19.759722\n",
      "Section 289 Finished percentage: 33.728235\n",
      "Section 260 Finished percentage: 49.416505\n",
      "Section 255 Finished percentage: 76.335878\n",
      "Section 233 Finished percentage: 59.034781\n",
      "Section 237 Finished percentage: 75.145595\n",
      "Section 299 Finished percentage: 52.864283\n",
      "Section 246 Finished percentage: 55.468711\n",
      "Section 265 Finished percentage: 34.933820\n",
      "Section 242 Finished percentage: 57.461357\n",
      "Section 284 Finished percentage: 90.597550\n",
      "Section 279 Finished percentage: 90.320638\n",
      "Section 250 Finished percentage: 83.062750\n",
      "Section 299 Finished percentage: 57.670127\n",
      "Section 275 Finished percentage: 16.495526\n",
      "Section 237 Finished percentage: 79.842194\n",
      "Section 289 Finished percentage: 37.944264\n",
      "Section 270 Finished percentage: 25.845518\n",
      "Section 294 Finished percentage: 23.711666\n",
      "Section 255 Finished percentage: 80.152672\n",
      "Section 233 Finished percentage: 63.954346\n",
      "Section 246 Finished percentage: 60.511321\n",
      "Section 260 Finished percentage: 53.217775\n",
      "Section 299 Finished percentage: 62.475971\n",
      "Section 242 Finished percentage: 63.207493\n",
      "Section 265 Finished percentage: 38.815355\n",
      "Section 250 Finished percentage: 86.838330\n",
      "Section 284 Finished percentage: 94.536574\n",
      "Section 279 Finished percentage: 94.083998\n",
      "Section 299 Finished percentage: 67.281815\n",
      "Section 237 Finished percentage: 84.538794\n",
      "Section 289 Finished percentage: 42.160293\n",
      "Section 275 Finished percentage: 20.619407\n",
      "Section 270 Finished percentage: 29.537734\n",
      "Section 246 Finished percentage: 65.553931\n",
      "Section 233 Finished percentage: 68.873912\n",
      "Section 294 Finished percentage: 27.663610\n",
      "Section 255 Finished percentage: 83.969466\n",
      "Section 299 Finished percentage: 72.087659\n",
      "Section 242 Finished percentage: 68.953629\n",
      "Section 260 Finished percentage: 57.019044\n",
      "Section 284 Finished percentage: 98.475598\n",
      "Section 279 Finished percentage: 97.847358\n",
      "Section 250 Finished percentage: 90.613909\n",
      "Section 265 Finished percentage: 42.696891\n",
      "Section 299 Finished percentage: 76.893502\n",
      "Section 289 Finished percentage: 46.376323\n",
      "Result saved.\n",
      "Section 246 Finished percentage: 70.596541\n",
      "Section 237 Finished percentage: 89.235394\n",
      "Section 270 Finished percentage: 33.229951\n",
      "Section 233 Finished percentage: 73.793477\n",
      "Result saved.\n",
      "Section 242 Finished percentage: 74.699764\n",
      "Section 275 Finished percentage: 24.743288\n",
      "Section 255 Finished percentage: 87.786260\n",
      "Section 299 Finished percentage: 81.699346\n",
      "Section 294 Finished percentage: 31.615555\n",
      "Section 260 Finished percentage: 60.820314\n",
      "Section 250 Finished percentage: 94.389489\n",
      "Section 265 Finished percentage: 46.578426\n",
      "rm -rf /shared/CSHL_cells_v2/detected_cells/MD589/MD589-N55-2015.07.30-19.49.42_MD589_3_0165/MD589-N55-2015.07.30-19.49.42_MD589_3_0165_blobCoords.hdf && mkdir -p /shared/CSHL_cells_v2/detected_cells/MD589/MD589-N55-2015.07.30-19.49.42_MD589_3_0165\n",
      "Section 246 Finished percentage: 75.639151\n"
     ]
    },
    {
     "name": "stderr",
     "output_type": "stream",
     "text": [
      "Child returned 0\n"
     ]
    },
    {
     "name": "stdout",
     "output_type": "stream",
     "text": [
      "aws s3 cp s3://mousebrainatlas-data/CSHL_cells_v2/detected_cells/MD589/MD589-N55-2015.07.30-19.49.42_MD589_3_0165/MD589-N55-2015.07.30-19.49.42_MD589_3_0165_blobCoords.hdf /shared/CSHL_cells_v2/detected_cells/MD589/MD589-N55-2015.07.30-19.49.42_MD589_3_0165/MD589-N55-2015.07.30-19.49.42_MD589_3_0165_blobCoords.hdf\n",
      "Section 299 Finished percentage: 86.505190\n"
     ]
    },
    {
     "name": "stderr",
     "output_type": "stream",
     "text": [
      "Child returned 0\n",
      "2.23 seconds.\n"
     ]
    },
    {
     "name": "stdout",
     "output_type": "stream",
     "text": [
      "Section 289 Finished percentage: 50.592352\n",
      "Section 237 Finished percentage: 93.931993\n",
      "Section 242 Finished percentage: 80.445900\n",
      "Section 270 Finished percentage: 36.922168\n",
      "Section 233 Finished percentage: 78.713042\n",
      "Section 250 Finished percentage: 98.165068\n",
      "Section 299 Finished percentage: 91.311034\n",
      "rm -rf /shared/CSHL_cells_v2/detected_cells/MD589/MD589-IHC54-2015.07.31-01.03.25_MD589_3_0162/MD589-IHC54-2015.07.31-01.03.25_MD589_3_0162_blobCoords.hdf && mkdir -p /shared/CSHL_cells_v2/detected_cells/MD589/MD589-IHC54-2015.07.31-01.03.25_MD589_3_0162\n",
      "Section 255 Finished percentage: 91.603053\n"
     ]
    },
    {
     "name": "stderr",
     "output_type": "stream",
     "text": [
      "Child returned 0\n"
     ]
    },
    {
     "name": "stdout",
     "output_type": "stream",
     "text": [
      "aws s3 cp s3://mousebrainatlas-data/CSHL_cells_v2/detected_cells/MD589/MD589-IHC54-2015.07.31-01.03.25_MD589_3_0162/MD589-IHC54-2015.07.31-01.03.25_MD589_3_0162_blobCoords.hdf /shared/CSHL_cells_v2/detected_cells/MD589/MD589-IHC54-2015.07.31-01.03.25_MD589_3_0162/MD589-IHC54-2015.07.31-01.03.25_MD589_3_0162_blobCoords.hdf\n",
      "Section 275 Finished percentage: 28.867170\n",
      "Section 246 Finished percentage: 80.681761\n",
      "Section 294 Finished percentage: 35.567499\n"
     ]
    },
    {
     "name": "stderr",
     "output_type": "stream",
     "text": [
      "Child returned 0\n",
      "2.51 seconds.\n"
     ]
    },
    {
     "name": "stdout",
     "output_type": "stream",
     "text": [
      "Section 260 Finished percentage: 64.621584\n",
      "Section 265 Finished percentage: 50.459962\n",
      "Section 242 Finished percentage: 86.192036\n",
      "Result saved.\n",
      "Section 285 Finished percentage: 0.000000\n",
      "Section 299 Finished percentage: 96.116878\n",
      "Section 237 Finished percentage: 98.628593\n",
      "Section 289 Finished percentage: 54.808381\n",
      "Result saved.\n",
      "Section 270 Finished percentage: 40.614385\n",
      "Result saved.\n",
      "rm -rf /shared/CSHL_cells_v2/detected_cells/MD589/MD589-IHC58-2015.07.31-01.22.39_MD589_1_0172/MD589-IHC58-2015.07.31-01.22.39_MD589_1_0172_blobCoords.hdf && mkdir -p /shared/CSHL_cells_v2/detected_cells/MD589/MD589-IHC58-2015.07.31-01.22.39_MD589_1_0172\n"
     ]
    },
    {
     "name": "stderr",
     "output_type": "stream",
     "text": [
      "Warning: missing section 300Warning: missing section 300Child returned 0\n"
     ]
    },
    {
     "name": "stdout",
     "output_type": "stream",
     "text": [
      "aws s3 cp s3://mousebrainatlas-data/CSHL_cells_v2/detected_cells/MD589/MD589-IHC58-2015.07.31-01.22.39_MD589_1_0172/MD589-IHC58-2015.07.31-01.22.39_MD589_1_0172_blobCoords.hdf /shared/CSHL_cells_v2/detected_cells/MD589/MD589-IHC58-2015.07.31-01.22.39_MD589_1_0172/MD589-IHC58-2015.07.31-01.22.39_MD589_1_0172_blobCoords.hdf\n",
      "Section 246 Finished percentage: 85.724371\n",
      "Section 233 Finished percentage: 83.632607\n"
     ]
    },
    {
     "name": "stderr",
     "output_type": "stream",
     "text": [
      "Child returned 0\n",
      "2.28 seconds.\n"
     ]
    },
    {
     "name": "stdout",
     "output_type": "stream",
     "text": [
      "Section 255 Finished percentage: 95.419847\n",
      "Section 280 Finished percentage: 0.000000\n",
      "Section 242 Finished percentage: 91.938172\n",
      "Section 294 Finished percentage: 39.519444\n",
      "Section 275 Finished percentage: 32.991051\n",
      "rm -rf /shared/CSHL_cells_v2/detected_cells/MD589/MD589-N49-2015.07.30-19.20.15_MD589_2_0146/MD589-N49-2015.07.30-19.20.15_MD589_2_0146_blobCoords.hdf && mkdir -p /shared/CSHL_cells_v2/detected_cells/MD589/MD589-N49-2015.07.30-19.20.15_MD589_2_0146\n"
     ]
    },
    {
     "name": "stderr",
     "output_type": "stream",
     "text": [
      "Child returned 0\n"
     ]
    },
    {
     "name": "stdout",
     "output_type": "stream",
     "text": [
      "aws s3 cp s3://mousebrainatlas-data/CSHL_cells_v2/detected_cells/MD589/MD589-N49-2015.07.30-19.20.15_MD589_2_0146/MD589-N49-2015.07.30-19.20.15_MD589_2_0146_blobCoords.hdf /shared/CSHL_cells_v2/detected_cells/MD589/MD589-N49-2015.07.30-19.20.15_MD589_2_0146/MD589-N49-2015.07.30-19.20.15_MD589_2_0146_blobCoords.hdf\n",
      "Section 265 Finished percentage: 54.341497\n",
      "Section 260 Finished percentage: 68.422853\n",
      "rm -rf /shared/CSHL_cells_v2/detected_cells/MD589/MD589-N58-2015.07.30-20.03.53_MD589_1_0172/MD589-N58-2015.07.30-20.03.53_MD589_1_0172_blobCoords.hdf && mkdir -p /shared/CSHL_cells_v2/detected_cells/MD589/MD589-N58-2015.07.30-20.03.53_MD589_1_0172\n"
     ]
    },
    {
     "name": "stderr",
     "output_type": "stream",
     "text": [
      "Child returned 0\n"
     ]
    },
    {
     "name": "stdout",
     "output_type": "stream",
     "text": [
      "aws s3 cp s3://mousebrainatlas-data/CSHL_cells_v2/detected_cells/MD589/MD589-N58-2015.07.30-20.03.53_MD589_1_0172/MD589-N58-2015.07.30-20.03.53_MD589_1_0172_blobCoords.hdf /shared/CSHL_cells_v2/detected_cells/MD589/MD589-N58-2015.07.30-20.03.53_MD589_1_0172/MD589-N58-2015.07.30-20.03.53_MD589_1_0172_blobCoords.hdf\n",
      "Section 285 Finished percentage: 4.075644\n"
     ]
    },
    {
     "name": "stderr",
     "output_type": "stream",
     "text": [
      "Child returned 0\n",
      "3.00 seconds.\n"
     ]
    },
    {
     "name": "stdout",
     "output_type": "stream",
     "text": [
      "Section 246 Finished percentage: 90.766981\n"
     ]
    },
    {
     "name": "stderr",
     "output_type": "stream",
     "text": [
      "Child returned 0\n",
      "2.13 seconds.\n"
     ]
    },
    {
     "name": "stdout",
     "output_type": "stream",
     "text": [
      "Section 289 Finished percentage: 59.024411\n",
      "Section 242 Finished percentage: 97.684307\n",
      "Section 270 Finished percentage: 44.306602\n",
      "Section 255 Finished percentage: 99.236641\n",
      "Result saved.\n",
      "Result saved.\n",
      "Section 233 Finished percentage: 88.552172\n",
      "Section 294 Finished percentage: 43.471388\n",
      "Section 280 Finished percentage: 4.049239\n",
      "Section 275 Finished percentage: 37.114933\n",
      "Section 246 Finished percentage: 95.809591\n",
      "Section 289 Finished percentage: 63.240440\n",
      "Section 265 Finished percentage: 58.223033\n",
      "Section 260 Finished percentage: 72.224123\n",
      "Section 238 Finished percentage: 0.000000\n",
      "Warrning: Scaned section(s) not included in input im_blob_prop\n",
      "Section 301 Finished percentage: 0.000000\n",
      "Section 285 Finished percentage: 8.151288\n",
      "Section 251 Finished percentage: 0.000000\n",
      "Section 270 Finished percentage: 47.998818\n",
      "Section 301 Finished percentage: 4.337266\n",
      "Result saved.\n",
      "rm -rf /shared/CSHL_cells_v2/detected_cells/MD589/MD589-IHC50-2015.07.31-00.43.12_MD589_2_0149/MD589-IHC50-2015.07.31-00.43.12_MD589_2_0149_blobCoords.hdf && mkdir -p /shared/CSHL_cells_v2/detected_cells/MD589/MD589-IHC50-2015.07.31-00.43.12_MD589_2_0149\n"
     ]
    },
    {
     "name": "stderr",
     "output_type": "stream",
     "text": [
      "Child returned 0\n"
     ]
    },
    {
     "name": "stdout",
     "output_type": "stream",
     "text": [
      "aws s3 cp s3://mousebrainatlas-data/CSHL_cells_v2/detected_cells/MD589/MD589-IHC50-2015.07.31-00.43.12_MD589_2_0149/MD589-IHC50-2015.07.31-00.43.12_MD589_2_0149_blobCoords.hdf /shared/CSHL_cells_v2/detected_cells/MD589/MD589-IHC50-2015.07.31-00.43.12_MD589_2_0149/MD589-IHC50-2015.07.31-00.43.12_MD589_2_0149_blobCoords.hdf\n",
      "Section 294 Finished percentage: 47.423332\n",
      "Section 233 Finished percentage: 93.471737\n",
      "Section 275 Finished percentage: 41.238814\n"
     ]
    },
    {
     "name": "stderr",
     "output_type": "stream",
     "text": [
      "Child returned 0\n",
      "2.79 seconds.\n"
     ]
    },
    {
     "name": "stdout",
     "output_type": "stream",
     "text": [
      "Section 301 Finished percentage: 8.674532\n",
      "Section 280 Finished percentage: 8.098477\n",
      "Section 265 Finished percentage: 62.104569\n",
      "Section 289 Finished percentage: 67.456469\n",
      "Section 238 Finished percentage: 4.732384\n",
      "Section 260 Finished percentage: 76.025392\n",
      "Section 285 Finished percentage: 12.226932\n",
      "Section 251 Finished percentage: 3.922799\n",
      "Section 301 Finished percentage: 13.011797\n",
      "Section 270 Finished percentage: 51.691035\n",
      "Section 233 Finished percentage: 98.391302\n",
      "Section 243 Finished percentage: 0.000000\n",
      "Section 294 Finished percentage: 51.375277\n",
      "Section 275 Finished percentage: 45.362695\n",
      "Section 301 Finished percentage: 17.349063\n",
      "Result saved.\n",
      "Section 256 Finished percentage: 0.000000\n",
      "Section 265 Finished percentage: 65.986104\n",
      "Section 260 Finished percentage: 79.826662\n",
      "Section 289 Finished percentage: 71.672499\n",
      "Section 238 Finished percentage: 9.464767\n",
      "Section 280 Finished percentage: 12.147716\n",
      "Section 251 Finished percentage: 7.845599\n",
      "Section 285 Finished percentage: 16.302576\n",
      "Section 270 Finished percentage: 55.383252\n",
      "Section 301 Finished percentage: 21.686329\n",
      "Section 247 Finished percentage: 0.000000\n",
      "Section 243 Finished percentage: 4.868312\n",
      "Section 294 Finished percentage: 55.327221\n",
      "Section 275 Finished percentage: 49.486577\n",
      "Section 301 Finished percentage: 26.023595\n",
      "Section 289 Finished percentage: 75.888528\n",
      "Section 256 Finished percentage: 3.700141\n",
      "Section 265 Finished percentage: 69.867640\n",
      "Section 238 Finished percentage: 14.197151\n",
      "Section 260 Finished percentage: 83.627932\n",
      "Section 270 Finished percentage: 59.075469\n",
      "Section 280 Finished percentage: 16.196955\n",
      "Section 285 Finished percentage: 20.378220\n",
      "Section 301 Finished percentage: 30.360861\n",
      "Section 294 Finished percentage: 59.279165\n",
      "Section 251 Finished percentage: 11.768398\n",
      "Section 247 Finished percentage: 5.095801\n",
      "Section 243 Finished percentage: 9.736624\n",
      "Section 305 Finished percentage: 0.000000\n",
      "Section 275 Finished percentage: 53.610458\n",
      "Section 301 Finished percentage: 34.698126\n",
      "Section 270 Finished percentage: 62.767686\n",
      "Section 289 Finished percentage: 80.104558\n",
      "Section 265 Finished percentage: 73.749175\n",
      "Section 256 Finished percentage: 7.400281\n",
      "Section 260 Finished percentage: 87.429201\n",
      "Section 238 Finished percentage: 18.929535\n",
      "Section 294 Finished percentage: 63.231110\n",
      "Section 301 Finished percentage: 39.035392\n",
      "Section 305 Finished percentage: 5.622716\n",
      "Section 285 Finished percentage: 24.453864\n",
      "Section 251 Finished percentage: 15.691197\n",
      "Section 280 Finished percentage: 20.246194\n",
      "Section 247 Finished percentage: 10.191602\n",
      "Section 275 Finished percentage: 57.734340\n",
      "Section 270 Finished percentage: 66.459903\n",
      "Section 243 Finished percentage: 14.604936\n",
      "Section 301 Finished percentage: 43.372658\n",
      "Section 289 Finished percentage: 84.320587\n",
      "Section 265 Finished percentage: 77.630711\n",
      "Section 301 Finished percentage: 47.709924\n",
      "Section 238 Finished percentage: 23.661919\n",
      "Section 305 Finished percentage: 11.245432\n",
      "Section 256 Finished percentage: 11.100422\n",
      "Section 294 Finished percentage: 67.183054\n",
      "Section 260 Finished percentage: 91.230471\n",
      "Section 270 Finished percentage: 70.152119\n",
      "Section 285 Finished percentage: 28.529508\n",
      "Section 251 Finished percentage: 19.613997\n",
      "Section 301 Finished percentage: 52.047189\n",
      "Section 275 Finished percentage: 61.858221\n",
      "Section 280 Finished percentage: 24.295432\n",
      "Section 247 Finished percentage: 15.287403\n",
      "Section 243 Finished percentage: 19.473249\n",
      "Section 289 Finished percentage: 88.536616\n",
      "Section 265 Finished percentage: 81.512246\n",
      "Section 301 Finished percentage: 56.384455\n",
      "Section 260 Finished percentage: 95.031741\n",
      "Section 256 Finished percentage: 14.800562\n",
      "Section 305 Finished percentage: 16.868147\n",
      "Section 238 Finished percentage: 28.394302\n",
      "Section 294 Finished percentage: 71.134998\n",
      "Section 270 Finished percentage: 73.844336\n",
      "Section 301 Finished percentage: 60.721721\n",
      "Section 285 Finished percentage: 32.605152\n",
      "Section 275 Finished percentage: 65.982102\n",
      "Section 251 Finished percentage: 23.536796\n",
      "Section 280 Finished percentage: 28.344671\n",
      "Section 301 Finished percentage: 65.058987\n",
      "Section 260 Finished percentage: 98.833010\n",
      "Section 243 Finished percentage: 24.341561\n",
      "Section 289 Finished percentage: 92.752646\n",
      "Section 265 Finished percentage: 85.393782\n",
      "Section 247 Finished percentage: 20.383204\n",
      "Result saved.\n",
      "Section 256 Finished percentage: 18.500703\n",
      "Section 305 Finished percentage: 22.490863\n",
      "Section 294 Finished percentage: 75.086943\n",
      "Section 301 Finished percentage: 69.396253\n",
      "Section 270 Finished percentage: 77.536553\n",
      "Section 238 Finished percentage: 33.126686\n",
      "Section 289 Finished percentage: 96.968675\n",
      "Section 285 Finished percentage: 36.680796\n",
      "Section 275 Finished percentage: 70.105984\n",
      "Section 251 Finished percentage: 27.459595\n",
      "Section 301 Finished percentage: 73.733518\n",
      "Section 280 Finished percentage: 32.393910\n",
      "rm -rf /shared/CSHL_cells_v2/detected_cells/MD589/MD589-N51-2015.07.30-19.28.17_MD589_3_0153/MD589-N51-2015.07.30-19.28.17_MD589_3_0153_blobCoords.hdf && mkdir -p /shared/CSHL_cells_v2/detected_cells/MD589/MD589-N51-2015.07.30-19.28.17_MD589_3_0153\n"
     ]
    },
    {
     "name": "stderr",
     "output_type": "stream",
     "text": [
      "Child returned 0\n"
     ]
    },
    {
     "name": "stdout",
     "output_type": "stream",
     "text": [
      "aws s3 cp s3://mousebrainatlas-data/CSHL_cells_v2/detected_cells/MD589/MD589-N51-2015.07.30-19.28.17_MD589_3_0153/MD589-N51-2015.07.30-19.28.17_MD589_3_0153_blobCoords.hdf /shared/CSHL_cells_v2/detected_cells/MD589/MD589-N51-2015.07.30-19.28.17_MD589_3_0153/MD589-N51-2015.07.30-19.28.17_MD589_3_0153_blobCoords.hdf\n",
      "Section 265 Finished percentage: 89.275317\n",
      "Section 243 Finished percentage: 29.209873\n"
     ]
    },
    {
     "name": "stderr",
     "output_type": "stream",
     "text": [
      "Child returned 0\n",
      "2.78 seconds.\n"
     ]
    },
    {
     "name": "stdout",
     "output_type": "stream",
     "text": [
      "Result saved.\n",
      "Section 294 Finished percentage: 79.038887\n",
      "Section 247 Finished percentage: 25.479005\n",
      "Section 301 Finished percentage: 78.070784\n",
      "Section 305 Finished percentage: 28.113579\n",
      "Section 270 Finished percentage: 81.228770\n",
      "Section 256 Finished percentage: 22.200844\n",
      "Section 238 Finished percentage: 37.859070\n",
      "Section 285 Finished percentage: 40.756440\n",
      "Section 275 Finished percentage: 74.229865\n",
      "Section 301 Finished percentage: 82.408050\n",
      "Section 251 Finished percentage: 31.382394\n",
      "Section 280 Finished percentage: 36.443149\n",
      "Section 243 Finished percentage: 34.078185\n",
      "Section 261 Finished percentage: 0.000000\n",
      "Section 265 Finished percentage: 93.156853\n",
      "rm -rf /shared/CSHL_cells_v2/detected_cells/MD589/MD589-IHC56-2015.07.31-01.13.31_MD589_2_0167/MD589-IHC56-2015.07.31-01.13.31_MD589_2_0167_blobCoords.hdf && mkdir -p /shared/CSHL_cells_v2/detected_cells/MD589/MD589-IHC56-2015.07.31-01.13.31_MD589_2_0167\n"
     ]
    },
    {
     "name": "stderr",
     "output_type": "stream",
     "text": [
      "Child returned 0\n"
     ]
    },
    {
     "name": "stdout",
     "output_type": "stream",
     "text": [
      "aws s3 cp s3://mousebrainatlas-data/CSHL_cells_v2/detected_cells/MD589/MD589-IHC56-2015.07.31-01.13.31_MD589_2_0167/MD589-IHC56-2015.07.31-01.13.31_MD589_2_0167_blobCoords.hdf /shared/CSHL_cells_v2/detected_cells/MD589/MD589-IHC56-2015.07.31-01.13.31_MD589_2_0167/MD589-IHC56-2015.07.31-01.13.31_MD589_2_0167_blobCoords.hdf\n",
      "Section 305 Finished percentage: 33.736295\n",
      "Section 270 Finished percentage: 84.920987\n",
      "Section 301 Finished percentage: 86.745316\n"
     ]
    },
    {
     "name": "stderr",
     "output_type": "stream",
     "text": [
      "Child returned 0\n",
      "2.08 seconds.\n"
     ]
    },
    {
     "name": "stdout",
     "output_type": "stream",
     "text": [
      "Section 238 Finished percentage: 42.591453\n",
      "Section 294 Finished percentage: 82.990831\n",
      "Section 247 Finished percentage: 30.574806\n",
      "Section 256 Finished percentage: 25.900984\n",
      "Section 285 Finished percentage: 44.832083\n",
      "Section 301 Finished percentage: 91.082582\n",
      "Section 275 Finished percentage: 78.353747\n",
      "Section 280 Finished percentage: 40.492387\n",
      "Section 251 Finished percentage: 35.305194\n",
      "Section 243 Finished percentage: 38.946497\n",
      "Section 270 Finished percentage: 88.613203\n",
      "Section 301 Finished percentage: 95.419847\n",
      "Section 265 Finished percentage: 97.038388\n",
      "Section 261 Finished percentage: 3.754599\n",
      "Section 305 Finished percentage: 39.359010\n",
      "Section 238 Finished percentage: 47.323837\n",
      "Section 290 Finished percentage: 0.000000\n",
      "Section 247 Finished percentage: 35.670607\n",
      "Section 301 Finished percentage: 99.757113\n",
      "Result saved.\n",
      "Section 294 Finished percentage: 86.942776\n",
      "Section 285 Finished percentage: 48.907727\n",
      "Section 256 Finished percentage: 29.601125\n",
      "Result saved.\n",
      "Section 275 Finished percentage: 82.477628\n",
      "Section 243 Finished percentage: 43.814809\n",
      "Section 280 Finished percentage: 44.541626\n",
      "Section 251 Finished percentage: 39.227993\n",
      "Section 270 Finished percentage: 92.305420\n",
      "rm -rf /shared/CSHL_cells_v2/detected_cells/MD589/MD589-IHC58-2015.07.31-01.22.39_MD589_2_0173/MD589-IHC58-2015.07.31-01.22.39_MD589_2_0173_blobCoords.hdf && mkdir -p /shared/CSHL_cells_v2/detected_cells/MD589/MD589-IHC58-2015.07.31-01.22.39_MD589_2_0173\n"
     ]
    },
    {
     "name": "stderr",
     "output_type": "stream",
     "text": [
      "Child returned 0\n"
     ]
    },
    {
     "name": "stdout",
     "output_type": "stream",
     "text": [
      "aws s3 cp s3://mousebrainatlas-data/CSHL_cells_v2/detected_cells/MD589/MD589-IHC58-2015.07.31-01.22.39_MD589_2_0173/MD589-IHC58-2015.07.31-01.22.39_MD589_2_0173_blobCoords.hdf /shared/CSHL_cells_v2/detected_cells/MD589/MD589-IHC58-2015.07.31-01.22.39_MD589_2_0173/MD589-IHC58-2015.07.31-01.22.39_MD589_2_0173_blobCoords.hdf\n"
     ]
    },
    {
     "name": "stderr",
     "output_type": "stream",
     "text": [
      "Child returned 0\n",
      "2.33 seconds.\n"
     ]
    },
    {
     "name": "stdout",
     "output_type": "stream",
     "text": [
      "Section 305 Finished percentage: 44.981726\n",
      "Section 294 Finished percentage: 90.894720\n",
      "Section 290 Finished percentage: 4.031445\n",
      "Section 261 Finished percentage: 7.509199\n",
      "Section 238 Finished percentage: 52.056221\n",
      "Section 247 Finished percentage: 40.766408\n",
      "Section 243 Finished percentage: 48.683122\n",
      "Section 285 Finished percentage: 52.983371\n",
      "Section 256 Finished percentage: 33.301265\n",
      "Section 275 Finished percentage: 86.601509\n",
      "Section 270 Finished percentage: 95.997637\n",
      "Section 280 Finished percentage: 48.590865\n",
      "Section 251 Finished percentage: 43.150792\n",
      "Section 305 Finished percentage: 50.604442\n",
      "rm -rf /shared/CSHL_cells_v2/detected_cells/MD589/MD589-IHC52-2015.07.31-00.52.41_MD589_2_0155/MD589-IHC52-2015.07.31-00.52.41_MD589_2_0155_blobCoords.hdf && mkdir -p /shared/CSHL_cells_v2/detected_cells/MD589/MD589-IHC52-2015.07.31-00.52.41_MD589_2_0155\n"
     ]
    },
    {
     "name": "stderr",
     "output_type": "stream",
     "text": [
      "Child returned 0\n"
     ]
    },
    {
     "name": "stdout",
     "output_type": "stream",
     "text": [
      "aws s3 cp s3://mousebrainatlas-data/CSHL_cells_v2/detected_cells/MD589/MD589-IHC52-2015.07.31-00.52.41_MD589_2_0155/MD589-IHC52-2015.07.31-00.52.41_MD589_2_0155_blobCoords.hdf /shared/CSHL_cells_v2/detected_cells/MD589/MD589-IHC52-2015.07.31-00.52.41_MD589_2_0155/MD589-IHC52-2015.07.31-00.52.41_MD589_2_0155_blobCoords.hdf\n",
      "Section 290 Finished percentage: 8.062891\n",
      "Section 294 Finished percentage: 94.846665\n",
      "Section 302 Finished percentage: 0.000000\n",
      "Section 238 Finished percentage: 56.788604\n"
     ]
    },
    {
     "name": "stderr",
     "output_type": "stream",
     "text": [
      "Child returned 0\n",
      "2.81 seconds.\n"
     ]
    },
    {
     "name": "stdout",
     "output_type": "stream",
     "text": [
      "Section 261 Finished percentage: 11.263798\n",
      "Section 247 Finished percentage: 45.862210\n",
      "Section 243 Finished percentage: 53.551434\n",
      "Section 285 Finished percentage: 57.059015\n",
      "Section 270 Finished percentage: 99.689854\n",
      "Section 256 Finished percentage: 37.001406\n",
      "Result saved.\n",
      "Section 275 Finished percentage: 90.725391\n",
      "Section 294 Finished percentage: 98.798609\n",
      "Section 305 Finished percentage: 56.227158\n",
      "Section 302 Finished percentage: 5.372300\n",
      "Section 238 Finished percentage: 61.520988\n",
      "Result saved.\n",
      "Section 280 Finished percentage: 52.640104\n",
      "Section 251 Finished percentage: 47.073592\n",
      "Section 290 Finished percentage: 12.094336\n",
      "Section 243 Finished percentage: 58.419746\n",
      "Section 266 Finished percentage: 0.000000\n",
      "Section 261 Finished percentage: 15.018398\n",
      "rm -rf /shared/CSHL_cells_v2/detected_cells/MD589/MD589-N53-2015.07.30-19.39.11_MD589_2_0158/MD589-N53-2015.07.30-19.39.11_MD589_2_0158_blobCoords.hdf && mkdir -p /shared/CSHL_cells_v2/detected_cells/MD589/MD589-N53-2015.07.30-19.39.11_MD589_2_0158\n"
     ]
    },
    {
     "name": "stderr",
     "output_type": "stream",
     "text": [
      "Child returned 0\n"
     ]
    },
    {
     "name": "stdout",
     "output_type": "stream",
     "text": [
      "aws s3 cp s3://mousebrainatlas-data/CSHL_cells_v2/detected_cells/MD589/MD589-N53-2015.07.30-19.39.11_MD589_2_0158/MD589-N53-2015.07.30-19.39.11_MD589_2_0158_blobCoords.hdf /shared/CSHL_cells_v2/detected_cells/MD589/MD589-N53-2015.07.30-19.39.11_MD589_2_0158/MD589-N53-2015.07.30-19.39.11_MD589_2_0158_blobCoords.hdf\n",
      "Section 247 Finished percentage: 50.958011\n",
      "Section 285 Finished percentage: 61.134659\n"
     ]
    },
    {
     "name": "stderr",
     "output_type": "stream",
     "text": [
      "Child returned 0\n",
      "2.48 seconds.\n"
     ]
    },
    {
     "name": "stdout",
     "output_type": "stream",
     "text": [
      "Section 256 Finished percentage: 40.701547\n",
      "Section 275 Finished percentage: 94.849272\n",
      "Section 238 Finished percentage: 66.253372\n",
      "Section 305 Finished percentage: 61.849873\n",
      "rm -rf /shared/CSHL_cells_v2/detected_cells/MD589/MD589-N57-2015.07.30-19.59.14_MD589_2_0170/MD589-N57-2015.07.30-19.59.14_MD589_2_0170_blobCoords.hdf && mkdir -p /shared/CSHL_cells_v2/detected_cells/MD589/MD589-N57-2015.07.30-19.59.14_MD589_2_0170\n"
     ]
    },
    {
     "name": "stderr",
     "output_type": "stream",
     "text": [
      "Child returned 0\n"
     ]
    },
    {
     "name": "stdout",
     "output_type": "stream",
     "text": [
      "aws s3 cp s3://mousebrainatlas-data/CSHL_cells_v2/detected_cells/MD589/MD589-N57-2015.07.30-19.59.14_MD589_2_0170/MD589-N57-2015.07.30-19.59.14_MD589_2_0170_blobCoords.hdf /shared/CSHL_cells_v2/detected_cells/MD589/MD589-N57-2015.07.30-19.59.14_MD589_2_0170/MD589-N57-2015.07.30-19.59.14_MD589_2_0170_blobCoords.hdf\n",
      "Section 302 Finished percentage: 10.744601\n",
      "Section 280 Finished percentage: 56.689342\n"
     ]
    },
    {
     "name": "stderr",
     "output_type": "stream",
     "text": [
      "Child returned 0\n",
      "2.31 seconds.\n"
     ]
    },
    {
     "name": "stdout",
     "output_type": "stream",
     "text": [
      "Section 243 Finished percentage: 63.288058\n",
      "Section 251 Finished percentage: 50.996391\n",
      "Section 290 Finished percentage: 16.125781\n",
      "Section 266 Finished percentage: 3.883495\n",
      "Section 247 Finished percentage: 56.053812\n",
      "Section 275 Finished percentage: 98.973154\n",
      "Section 261 Finished percentage: 18.772997\n",
      "Section 285 Finished percentage: 65.210303\n",
      "Section 238 Finished percentage: 70.985756\n",
      "Section 271 Finished percentage: 0.000000\n",
      "Section 256 Finished percentage: 44.401687\n",
      "Result saved.\n",
      "Section 305 Finished percentage: 67.472589\n",
      "Section 243 Finished percentage: 68.156370\n",
      "Section 280 Finished percentage: 60.738581\n",
      "Section 295 Finished percentage: 0.000000\n",
      "Section 302 Finished percentage: 16.116901\n",
      "Section 290 Finished percentage: 20.157226\n",
      "Section 251 Finished percentage: 54.919190\n",
      "Section 266 Finished percentage: 7.766990\n",
      "Section 238 Finished percentage: 75.718139\n",
      "Section 247 Finished percentage: 61.149613\n",
      "rm -rf /shared/CSHL_cells_v2/detected_cells/MD589/MD589-IHC54-2015.07.31-01.03.25_MD589_1_0160/MD589-IHC54-2015.07.31-01.03.25_MD589_1_0160_blobCoords.hdf && mkdir -p /shared/CSHL_cells_v2/detected_cells/MD589/MD589-IHC54-2015.07.31-01.03.25_MD589_1_0160\n"
     ]
    },
    {
     "name": "stderr",
     "output_type": "stream",
     "text": [
      "Child returned 0\n"
     ]
    },
    {
     "name": "stdout",
     "output_type": "stream",
     "text": [
      "aws s3 cp s3://mousebrainatlas-data/CSHL_cells_v2/detected_cells/MD589/MD589-IHC54-2015.07.31-01.03.25_MD589_1_0160/MD589-IHC54-2015.07.31-01.03.25_MD589_1_0160_blobCoords.hdf /shared/CSHL_cells_v2/detected_cells/MD589/MD589-IHC54-2015.07.31-01.03.25_MD589_1_0160/MD589-IHC54-2015.07.31-01.03.25_MD589_1_0160_blobCoords.hdf\n"
     ]
    },
    {
     "name": "stderr",
     "output_type": "stream",
     "text": [
      "Child returned 0\n",
      "2.32 seconds.\n"
     ]
    },
    {
     "name": "stdout",
     "output_type": "stream",
     "text": [
      "Section 285 Finished percentage: 69.285947\n",
      "Section 305 Finished percentage: 73.095305\n",
      "Section 243 Finished percentage: 73.024682\n",
      "Section 261 Finished percentage: 22.527596\n",
      "Section 271 Finished percentage: 4.064049\n",
      "Section 256 Finished percentage: 48.101828\n",
      "Section 295 Finished percentage: 4.109983\n",
      "Section 238 Finished percentage: 80.450523\n",
      "Section 280 Finished percentage: 64.787820\n",
      "Section 302 Finished percentage: 21.489202\n",
      "Section 266 Finished percentage: 11.650485\n",
      "Section 290 Finished percentage: 24.188672\n",
      "Section 251 Finished percentage: 58.841990\n",
      "Section 247 Finished percentage: 66.245414\n",
      "Section 243 Finished percentage: 77.892994\n",
      "Section 238 Finished percentage: 85.182907\n",
      "Section 276 Finished percentage: 0.000000\n",
      "Section 305 Finished percentage: 78.718021\n",
      "Section 295 Finished percentage: 8.219966\n",
      "Section 285 Finished percentage: 73.361591\n",
      "Section 256 Finished percentage: 51.801968\n",
      "Section 261 Finished percentage: 26.282196\n",
      "Section 271 Finished percentage: 8.128099\n",
      "Section 243 Finished percentage: 82.761307\n",
      "Section 280 Finished percentage: 68.837059\n",
      "Section 290 Finished percentage: 28.220117\n",
      "Section 302 Finished percentage: 26.861502\n",
      "Section 247 Finished percentage: 71.341215\n",
      "Section 266 Finished percentage: 15.533981\n",
      "Section 251 Finished percentage: 62.764789\n",
      "Section 238 Finished percentage: 89.915290\n",
      "Section 276 Finished percentage: 3.860557\n",
      "Section 295 Finished percentage: 12.329949\n",
      "Section 305 Finished percentage: 84.340737\n",
      "Section 285 Finished percentage: 77.437235\n",
      "Section 243 Finished percentage: 87.629619\n",
      "Section 256 Finished percentage: 55.502109\n",
      "Section 261 Finished percentage: 30.036795\n",
      "Section 280 Finished percentage: 72.886297\n",
      "Section 271 Finished percentage: 12.192148\n",
      "Section 247 Finished percentage: 76.437016\n",
      "Section 238 Finished percentage: 94.647674\n",
      "Section 290 Finished percentage: 32.251562\n",
      "Section 302 Finished percentage: 32.233803\n",
      "Section 251 Finished percentage: 66.687588\n",
      "Section 305 Finished percentage: 89.963452\n",
      "Section 276 Finished percentage: 7.721113\n",
      "Section 243 Finished percentage: 92.497931\n",
      "Section 266 Finished percentage: 19.417476\n",
      "Section 295 Finished percentage: 16.439933\n",
      "Section 285 Finished percentage: 81.512879\n",
      "Section 256 Finished percentage: 59.202250\n",
      "Section 238 Finished percentage: 99.380058\n",
      "Section 247 Finished percentage: 81.532817\n",
      "Section 261 Finished percentage: 33.791394\n",
      "Result saved.\n",
      "Section 290 Finished percentage: 36.283007\n",
      "Section 280 Finished percentage: 76.935536\n",
      "Section 243 Finished percentage: 97.366243\n",
      "Section 276 Finished percentage: 11.581670\n",
      "Section 305 Finished percentage: 95.586168\n",
      "Section 271 Finished percentage: 16.256198\n",
      "Section 302 Finished percentage: 37.606103\n",
      "Section 251 Finished percentage: 70.610388\n",
      "Result saved.\n",
      "Section 295 Finished percentage: 20.549916\n",
      "Section 266 Finished percentage: 23.300971\n",
      "Result saved.\n",
      "Section 285 Finished percentage: 85.588523\n",
      "rm -rf /shared/CSHL_cells_v2/detected_cells/MD589/MD589-IHC60-2015.07.31-01.31.11_MD589_2_0179/MD589-IHC60-2015.07.31-01.31.11_MD589_2_0179_blobCoords.hdf && mkdir -p /shared/CSHL_cells_v2/detected_cells/MD589/MD589-IHC60-2015.07.31-01.31.11_MD589_2_0179\n"
     ]
    },
    {
     "name": "stderr",
     "output_type": "stream",
     "text": [
      "Child returned 0\n"
     ]
    },
    {
     "name": "stdout",
     "output_type": "stream",
     "text": [
      "aws s3 cp s3://mousebrainatlas-data/CSHL_cells_v2/detected_cells/MD589/MD589-IHC60-2015.07.31-01.31.11_MD589_2_0179/MD589-IHC60-2015.07.31-01.31.11_MD589_2_0179_blobCoords.hdf /shared/CSHL_cells_v2/detected_cells/MD589/MD589-IHC60-2015.07.31-01.31.11_MD589_2_0179/MD589-IHC60-2015.07.31-01.31.11_MD589_2_0179_blobCoords.hdf\n",
      "Section 247 Finished percentage: 86.628618\n",
      "Section 256 Finished percentage: 62.902390\n"
     ]
    },
    {
     "name": "stderr",
     "output_type": "stream",
     "text": [
      "Child returned 0\n",
      "1.88 seconds.\n"
     ]
    },
    {
     "name": "stdout",
     "output_type": "stream",
     "text": [
      "Section 290 Finished percentage: 40.314453\n",
      "Section 261 Finished percentage: 37.545994\n",
      "Section 276 Finished percentage: 15.442227\n",
      "Section 310 Finished percentage: 0.000000\n",
      "Section 280 Finished percentage: 80.984775\n",
      "Section 251 Finished percentage: 74.533187\n",
      "rm -rf /shared/CSHL_cells_v2/detected_cells/MD589/MD589-N60-2015.07.30-20.11.20_MD589_3_0180/MD589-N60-2015.07.30-20.11.20_MD589_3_0180_blobCoords.hdf && mkdir -p /shared/CSHL_cells_v2/detected_cells/MD589/MD589-N60-2015.07.30-20.11.20_MD589_3_0180\n"
     ]
    },
    {
     "name": "stderr",
     "output_type": "stream",
     "text": [
      "Child returned 0\n"
     ]
    },
    {
     "name": "stdout",
     "output_type": "stream",
     "text": [
      "aws s3 cp s3://mousebrainatlas-data/CSHL_cells_v2/detected_cells/MD589/MD589-N60-2015.07.30-20.11.20_MD589_3_0180/MD589-N60-2015.07.30-20.11.20_MD589_3_0180_blobCoords.hdf /shared/CSHL_cells_v2/detected_cells/MD589/MD589-N60-2015.07.30-20.11.20_MD589_3_0180/MD589-N60-2015.07.30-20.11.20_MD589_3_0180_blobCoords.hdf\n"
     ]
    },
    {
     "name": "stderr",
     "output_type": "stream",
     "text": [
      "Child returned 0\n",
      "1.84 seconds.\n"
     ]
    },
    {
     "name": "stdout",
     "output_type": "stream",
     "text": [
      "Section 302 Finished percentage: 42.978403\n",
      "rm -rf /shared/CSHL_cells_v2/detected_cells/MD589/MD589-IHC59-2015.07.31-01.26.55_MD589_1_0175/MD589-IHC59-2015.07.31-01.26.55_MD589_1_0175_blobCoords.hdf && mkdir -p /shared/CSHL_cells_v2/detected_cells/MD589/MD589-IHC59-2015.07.31-01.26.55_MD589_1_0175\n"
     ]
    },
    {
     "name": "stderr",
     "output_type": "stream",
     "text": [
      "Child returned 0\n"
     ]
    },
    {
     "name": "stdout",
     "output_type": "stream",
     "text": [
      "aws s3 cp s3://mousebrainatlas-data/CSHL_cells_v2/detected_cells/MD589/MD589-IHC59-2015.07.31-01.26.55_MD589_1_0175/MD589-IHC59-2015.07.31-01.26.55_MD589_1_0175_blobCoords.hdf /shared/CSHL_cells_v2/detected_cells/MD589/MD589-IHC59-2015.07.31-01.26.55_MD589_1_0175/MD589-IHC59-2015.07.31-01.26.55_MD589_1_0175_blobCoords.hdf\n"
     ]
    },
    {
     "name": "stderr",
     "output_type": "stream",
     "text": [
      "Child returned 0\n",
      "2.14 seconds.\n"
     ]
    },
    {
     "name": "stdout",
     "output_type": "stream",
     "text": [
      "Section 247 Finished percentage: 91.724419\n",
      "Section 271 Finished percentage: 20.320247\n",
      "Section 295 Finished percentage: 24.659899\n",
      "Section 266 Finished percentage: 27.184466\n",
      "Section 285 Finished percentage: 89.664167\n",
      "Section 256 Finished percentage: 66.602531\n",
      "Section 310 Finished percentage: 7.027407\n",
      "Section 290 Finished percentage: 44.345898\n",
      "Section 261 Finished percentage: 41.300593\n",
      "Section 276 Finished percentage: 19.302783\n",
      "Section 280 Finished percentage: 85.034014\n",
      "Section 251 Finished percentage: 78.455986\n",
      "Section 315 Finished percentage: 0.000000\n",
      "Section 247 Finished percentage: 96.820220\n",
      "Section 302 Finished percentage: 48.350704\n",
      "Section 306 Finished percentage: 0.000000\n",
      "Section 256 Finished percentage: 70.302672\n",
      "Section 285 Finished percentage: 93.739811\n",
      "Section 310 Finished percentage: 14.054814\n",
      "Section 295 Finished percentage: 28.769882\n",
      "Section 290 Finished percentage: 48.377343\n",
      "Section 266 Finished percentage: 31.067961\n",
      "Section 271 Finished percentage: 24.384297\n",
      "Result saved.\n",
      "Section 315 Finished percentage: 6.545788\n",
      "Section 251 Finished percentage: 82.378786\n",
      "Section 261 Finished percentage: 45.055193\n",
      "Section 280 Finished percentage: 89.083252\n",
      "Section 306 Finished percentage: 5.629997\n",
      "Section 285 Finished percentage: 97.815455\n",
      "Section 276 Finished percentage: 23.163340\n",
      "Section 302 Finished percentage: 53.723004\n",
      "Section 256 Finished percentage: 74.002812\n",
      "Section 315 Finished percentage: 13.091576\n",
      "Section 310 Finished percentage: 21.082221\n",
      "Section 290 Finished percentage: 52.408789\n",
      "Result saved.\n",
      "Section 271 Finished percentage: 28.448346\n",
      "Section 295 Finished percentage: 32.879865\n",
      "Section 266 Finished percentage: 34.951456\n",
      "Section 261 Finished percentage: 48.809792\n",
      "Section 251 Finished percentage: 86.301585\n",
      "Section 280 Finished percentage: 93.132491\n",
      "Section 306 Finished percentage: 11.259993\n",
      "Section 248 Finished percentage: 0.000000\n",
      "Section 302 Finished percentage: 59.095305\n",
      "Section 276 Finished percentage: 27.023897\n",
      "Section 256 Finished percentage: 77.702953\n",
      "rm -rf /shared/CSHL_cells_v2/detected_cells/MD589/MD589-IHC55-2015.07.31-01.08.44_MD589_3_0165/MD589-IHC55-2015.07.31-01.08.44_MD589_3_0165_blobCoords.hdf && mkdir -p /shared/CSHL_cells_v2/detected_cells/MD589/MD589-IHC55-2015.07.31-01.08.44_MD589_3_0165\n"
     ]
    },
    {
     "name": "stderr",
     "output_type": "stream",
     "text": [
      "Child returned 0\n"
     ]
    },
    {
     "name": "stdout",
     "output_type": "stream",
     "text": [
      "aws s3 cp s3://mousebrainatlas-data/CSHL_cells_v2/detected_cells/MD589/MD589-IHC55-2015.07.31-01.08.44_MD589_3_0165/MD589-IHC55-2015.07.31-01.08.44_MD589_3_0165_blobCoords.hdf /shared/CSHL_cells_v2/detected_cells/MD589/MD589-IHC55-2015.07.31-01.08.44_MD589_3_0165/MD589-IHC55-2015.07.31-01.08.44_MD589_3_0165_blobCoords.hdf\n",
      "Section 315 Finished percentage: 19.637363\n"
     ]
    },
    {
     "name": "stderr",
     "output_type": "stream",
     "text": [
      "Child returned 0\n",
      "1.95 seconds.\n"
     ]
    },
    {
     "name": "stdout",
     "output_type": "stream",
     "text": [
      "Section 290 Finished percentage: 56.440234\n",
      "Section 310 Finished percentage: 28.109628\n",
      "Section 266 Finished percentage: 38.834951\n",
      "Section 295 Finished percentage: 36.989848\n",
      "Section 271 Finished percentage: 32.512395\n",
      "Section 251 Finished percentage: 90.224384\n",
      "Section 280 Finished percentage: 97.181730\n",
      "Section 261 Finished percentage: 52.564391\n",
      "Section 302 Finished percentage: 64.467605\n",
      "Section 306 Finished percentage: 16.889990\n",
      "Section 248 Finished percentage: 3.851190\n",
      "Section 256 Finished percentage: 81.403093\n",
      "Section 276 Finished percentage: 30.884454\n",
      "Section 286 Finished percentage: 0.000000\n",
      "Section 315 Finished percentage: 26.183151\n",
      "Section 310 Finished percentage: 35.137034\n",
      "Section 290 Finished percentage: 60.471679\n",
      "Section 266 Finished percentage: 42.718447\n",
      "Result saved.\n",
      "Section 295 Finished percentage: 41.099831\n",
      "Section 261 Finished percentage: 56.318991\n",
      "Section 251 Finished percentage: 94.147183\n",
      "Section 271 Finished percentage: 36.576445\n",
      "Section 276 Finished percentage: 34.745010\n",
      "Section 286 Finished percentage: 4.231371\n",
      "Section 306 Finished percentage: 22.519986\n",
      "Section 315 Finished percentage: 32.728939\n",
      "Section 302 Finished percentage: 69.839905\n",
      "Section 256 Finished percentage: 85.103234\n",
      "Section 248 Finished percentage: 7.702380\n",
      "Section 310 Finished percentage: 42.164441\n",
      "Section 290 Finished percentage: 64.503124\n",
      "rm -rf /shared/CSHL_cells_v2/detected_cells/MD589/MD589-N55-2015.07.30-19.49.42_MD589_1_0163/MD589-N55-2015.07.30-19.49.42_MD589_1_0163_blobCoords.hdf && mkdir -p /shared/CSHL_cells_v2/detected_cells/MD589/MD589-N55-2015.07.30-19.49.42_MD589_1_0163\n"
     ]
    },
    {
     "name": "stderr",
     "output_type": "stream",
     "text": [
      "Child returned 0\n"
     ]
    },
    {
     "name": "stdout",
     "output_type": "stream",
     "text": [
      "aws s3 cp s3://mousebrainatlas-data/CSHL_cells_v2/detected_cells/MD589/MD589-N55-2015.07.30-19.49.42_MD589_1_0163/MD589-N55-2015.07.30-19.49.42_MD589_1_0163_blobCoords.hdf /shared/CSHL_cells_v2/detected_cells/MD589/MD589-N55-2015.07.30-19.49.42_MD589_1_0163/MD589-N55-2015.07.30-19.49.42_MD589_1_0163_blobCoords.hdf\n",
      "Section 295 Finished percentage: 45.209815\n",
      "Section 251 Finished percentage: 98.069983\n"
     ]
    },
    {
     "name": "stderr",
     "output_type": "stream",
     "text": [
      "Child returned 0\n",
      "2.32 seconds.\n"
     ]
    },
    {
     "name": "stdout",
     "output_type": "stream",
     "text": [
      "Section 266 Finished percentage: 46.601942\n",
      "Section 261 Finished percentage: 60.073590\n",
      "Section 276 Finished percentage: 38.605567\n",
      "Section 271 Finished percentage: 40.640494\n",
      "Result saved.\n",
      "Section 306 Finished percentage: 28.149983\n",
      "Section 315 Finished percentage: 39.274727\n",
      "Section 286 Finished percentage: 8.462743\n",
      "Section 302 Finished percentage: 75.212206\n",
      "Section 310 Finished percentage: 49.191848\n",
      "Section 256 Finished percentage: 88.803375\n",
      "Section 290 Finished percentage: 68.534570\n",
      "Section 248 Finished percentage: 11.553570\n",
      "Section 295 Finished percentage: 49.319798\n",
      "Section 281 Finished percentage: 0.000000\n",
      "Section 266 Finished percentage: 50.485437\n",
      "Section 271 Finished percentage: 44.704544\n",
      "Section 276 Finished percentage: 42.466124\n",
      "Section 261 Finished percentage: 63.828190\n",
      "Section 306 Finished percentage: 33.779980\n",
      "Section 315 Finished percentage: 45.820514\n",
      "Section 310 Finished percentage: 56.219255\n",
      "Section 256 Finished percentage: 92.503515\n",
      "Section 286 Finished percentage: 12.694114\n",
      "Section 302 Finished percentage: 80.584506\n",
      "Section 290 Finished percentage: 72.566015\n",
      "Section 281 Finished percentage: 3.871317\n",
      "Section 295 Finished percentage: 53.429781\n",
      "Section 248 Finished percentage: 15.404760\n",
      "Section 266 Finished percentage: 54.368932\n",
      "Section 276 Finished percentage: 46.326680\n",
      "Section 271 Finished percentage: 48.768593\n",
      "Section 261 Finished percentage: 67.582789\n",
      "Section 306 Finished percentage: 39.409976\n",
      "Section 315 Finished percentage: 52.366302\n",
      "Section 256 Finished percentage: 96.203656\n",
      "Section 310 Finished percentage: 63.246662\n",
      "Section 286 Finished percentage: 16.925486\n",
      "Section 302 Finished percentage: 85.956807\n",
      "Section 290 Finished percentage: 76.597460\n",
      "Section 252 Finished percentage: 0.000000\n",
      "Section 266 Finished percentage: 58.252427\n",
      "Section 248 Finished percentage: 19.255950\n",
      "Section 295 Finished percentage: 57.539764\n",
      "Section 281 Finished percentage: 7.742635\n",
      "Section 276 Finished percentage: 50.187237\n",
      "Section 271 Finished percentage: 52.832642\n",
      "Section 261 Finished percentage: 71.337388\n",
      "Section 256 Finished percentage: 99.903796\n",
      "Result saved.\n",
      "Section 306 Finished percentage: 45.039973\n",
      "Section 315 Finished percentage: 58.912090\n",
      "Section 310 Finished percentage: 70.274069\n",
      "Section 286 Finished percentage: 21.156857\n",
      "Section 302 Finished percentage: 91.329107\n",
      "Section 290 Finished percentage: 80.628905\n",
      "Section 252 Finished percentage: 3.827898\n",
      "Section 266 Finished percentage: 62.135922\n",
      "Section 295 Finished percentage: 61.649747\n",
      "Section 276 Finished percentage: 54.047794\n",
      "Section 248 Finished percentage: 23.107140\n",
      "Section 281 Finished percentage: 11.613952\n",
      "Section 271 Finished percentage: 56.896692\n",
      "Section 261 Finished percentage: 75.091988\n",
      "Section 310 Finished percentage: 77.301476\n",
      "Section 306 Finished percentage: 50.669970\n",
      "Section 315 Finished percentage: 65.457878\n",
      "Section 290 Finished percentage: 84.660351\n",
      "Section 302 Finished percentage: 96.701408\n",
      "Section 286 Finished percentage: 25.388228\n",
      "Section 266 Finished percentage: 66.019417\n",
      "Section 295 Finished percentage: 65.759730\n",
      "Section 276 Finished percentage: 57.908350\n",
      "Section 252 Finished percentage: 7.655795\n",
      "Result saved.\n",
      "Section 248 Finished percentage: 26.958330\n",
      "Section 281 Finished percentage: 15.485270\n",
      "Section 271 Finished percentage: 60.960741\n",
      "Section 261 Finished percentage: 78.846587\n",
      "Section 315 Finished percentage: 72.003666\n",
      "Section 306 Finished percentage: 56.299966\n",
      "Section 310 Finished percentage: 84.328883\n",
      "Section 257 Finished percentage: 0.000000\n",
      "Section 290 Finished percentage: 88.691796\n",
      "Section 286 Finished percentage: 29.619600\n",
      "Section 266 Finished percentage: 69.902913\n",
      "Section 276 Finished percentage: 61.768907\n",
      "Section 295 Finished percentage: 69.869714\n",
      "Section 315 Finished percentage: 78.549453\n",
      "Section 310 Finished percentage: 91.356290\n",
      "Section 248 Finished percentage: 30.809520\n",
      "Section 252 Finished percentage: 11.483693\n",
      "Section 306 Finished percentage: 61.929963\n",
      "Section 261 Finished percentage: 82.601186\n",
      "Section 281 Finished percentage: 19.356587\n",
      "Section 271 Finished percentage: 65.024791\n",
      "Section 257 Finished percentage: 3.795210\n",
      "Section 290 Finished percentage: 92.723241\n",
      "Section 286 Finished percentage: 33.850971\n",
      "Section 266 Finished percentage: 73.786408\n",
      "Section 303 Finished percentage: 0.000000\n",
      "Section 310 Finished percentage: 98.383696\n",
      "Section 315 Finished percentage: 85.095241\n",
      "Result saved.\n",
      "Section 276 Finished percentage: 65.629464\n",
      "Section 295 Finished percentage: 73.979697\n",
      "Section 306 Finished percentage: 67.559959\n",
      "Section 248 Finished percentage: 34.660710\n",
      "Section 252 Finished percentage: 15.311591\n",
      "Section 290 Finished percentage: 96.754687\n",
      "Section 261 Finished percentage: 86.355786\n",
      "Section 271 Finished percentage: 69.088840\n",
      "Section 281 Finished percentage: 23.227904\n",
      "rm -rf /shared/CSHL_cells_v2/detected_cells/MD589/MD589-N60-2015.07.30-20.11.20_MD589_1_0178/MD589-N60-2015.07.30-20.11.20_MD589_1_0178_blobCoords.hdf && mkdir -p /shared/CSHL_cells_v2/detected_cells/MD589/MD589-N60-2015.07.30-20.11.20_MD589_1_0178\n"
     ]
    },
    {
     "name": "stderr",
     "output_type": "stream",
     "text": [
      "Child returned 0\n"
     ]
    },
    {
     "name": "stdout",
     "output_type": "stream",
     "text": [
      "aws s3 cp s3://mousebrainatlas-data/CSHL_cells_v2/detected_cells/MD589/MD589-N60-2015.07.30-20.11.20_MD589_1_0178/MD589-N60-2015.07.30-20.11.20_MD589_1_0178_blobCoords.hdf /shared/CSHL_cells_v2/detected_cells/MD589/MD589-N60-2015.07.30-20.11.20_MD589_1_0178/MD589-N60-2015.07.30-20.11.20_MD589_1_0178_blobCoords.hdf\n",
      "Section 303 Finished percentage: 4.867601\n"
     ]
    },
    {
     "name": "stderr",
     "output_type": "stream",
     "text": [
      "Child returned 0\n",
      "1.84 seconds.\n"
     ]
    },
    {
     "name": "stdout",
     "output_type": "stream",
     "text": [
      "Section 257 Finished percentage: 7.590421\n",
      "Section 315 Finished percentage: 91.641029\n",
      "Section 266 Finished percentage: 77.669903\n",
      "Section 286 Finished percentage: 38.082342\n",
      "Section 276 Finished percentage: 69.490020\n",
      "Result saved.\n",
      "Section 295 Finished percentage: 78.089680\n",
      "Section 248 Finished percentage: 38.511900\n",
      "Section 306 Finished percentage: 73.189956\n",
      "Section 311 Finished percentage: 0.000000\n",
      "Section 303 Finished percentage: 9.735202\n",
      "Section 252 Finished percentage: 19.139489\n",
      "Section 261 Finished percentage: 90.110385\n",
      "Section 315 Finished percentage: 98.186817\n",
      "Section 271 Finished percentage: 73.152890\n",
      "Section 281 Finished percentage: 27.099222\n",
      "Result saved.\n",
      "rm -rf /shared/CSHL_cells_v2/detected_cells/MD589/MD589-N56-2015.07.30-19.54.42_MD589_3_0168/MD589-N56-2015.07.30-19.54.42_MD589_3_0168_blobCoords.hdf && mkdir -p /shared/CSHL_cells_v2/detected_cells/MD589/MD589-N56-2015.07.30-19.54.42_MD589_3_0168\n"
     ]
    },
    {
     "name": "stderr",
     "output_type": "stream",
     "text": [
      "Child returned 0\n"
     ]
    },
    {
     "name": "stdout",
     "output_type": "stream",
     "text": [
      "aws s3 cp s3://mousebrainatlas-data/CSHL_cells_v2/detected_cells/MD589/MD589-N56-2015.07.30-19.54.42_MD589_3_0168/MD589-N56-2015.07.30-19.54.42_MD589_3_0168_blobCoords.hdf /shared/CSHL_cells_v2/detected_cells/MD589/MD589-N56-2015.07.30-19.54.42_MD589_3_0168/MD589-N56-2015.07.30-19.54.42_MD589_3_0168_blobCoords.hdf\n",
      "Section 286 Finished percentage: 42.313714\n",
      "Section 266 Finished percentage: 81.553398\n",
      "Section 257 Finished percentage: 11.385631\n"
     ]
    },
    {
     "name": "stderr",
     "output_type": "stream",
     "text": [
      "Child returned 0\n",
      "2.19 seconds.\n"
     ]
    },
    {
     "name": "stdout",
     "output_type": "stream",
     "text": [
      "Section 276 Finished percentage: 73.350577\n",
      "Section 295 Finished percentage: 82.199663\n",
      "Section 311 Finished percentage: 6.384473\n",
      "Section 248 Finished percentage: 42.363090\n",
      "Section 306 Finished percentage: 78.819953\n",
      "Section 303 Finished percentage: 14.602804\n",
      "Section 261 Finished percentage: 93.864985\n",
      "Section 271 Finished percentage: 77.216939\n",
      "Section 252 Finished percentage: 22.967386\n",
      "rm -rf /shared/CSHL_cells_v2/detected_cells/MD589/MD589-IHC60-2015.07.31-01.31.11_MD589_3_0180/MD589-IHC60-2015.07.31-01.31.11_MD589_3_0180_blobCoords.hdf && mkdir -p /shared/CSHL_cells_v2/detected_cells/MD589/MD589-IHC60-2015.07.31-01.31.11_MD589_3_0180\n"
     ]
    },
    {
     "name": "stderr",
     "output_type": "stream",
     "text": [
      "Child returned 0\n"
     ]
    },
    {
     "name": "stdout",
     "output_type": "stream",
     "text": [
      "aws s3 cp s3://mousebrainatlas-data/CSHL_cells_v2/detected_cells/MD589/MD589-IHC60-2015.07.31-01.31.11_MD589_3_0180/MD589-IHC60-2015.07.31-01.31.11_MD589_3_0180_blobCoords.hdf /shared/CSHL_cells_v2/detected_cells/MD589/MD589-IHC60-2015.07.31-01.31.11_MD589_3_0180/MD589-IHC60-2015.07.31-01.31.11_MD589_3_0180_blobCoords.hdf\n",
      "Section 281 Finished percentage: 30.970539\n"
     ]
    },
    {
     "name": "stderr",
     "output_type": "stream",
     "text": [
      "Child returned 0\n",
      "2.20 seconds.\n"
     ]
    },
    {
     "name": "stdout",
     "output_type": "stream",
     "text": [
      "Section 286 Finished percentage: 46.545085\n",
      "Section 266 Finished percentage: 85.436893\n",
      "Section 257 Finished percentage: 15.180842\n",
      "Section 291 Finished percentage: 0.000000\n",
      "Section 276 Finished percentage: 77.211134\n",
      "Section 311 Finished percentage: 12.768946\n",
      "Section 248 Finished percentage: 46.214280\n",
      "Section 303 Finished percentage: 19.470405\n",
      "Section 261 Finished percentage: 97.619584\n",
      "Section 306 Finished percentage: 84.449949\n",
      "Section 295 Finished percentage: 86.309646\n",
      "Section 271 Finished percentage: 81.280988\n",
      "Section 316 Finished percentage: 0.000000\n",
      "Section 281 Finished percentage: 34.841857\n",
      "Result saved.\n",
      "Section 252 Finished percentage: 26.795284\n",
      "Section 286 Finished percentage: 50.776457\n",
      "Section 266 Finished percentage: 89.320388\n",
      "Section 291 Finished percentage: 4.322829\n",
      "Section 276 Finished percentage: 81.071691\n",
      "Section 248 Finished percentage: 50.065470\n",
      "Section 311 Finished percentage: 19.153419\n",
      "Section 257 Finished percentage: 18.976052\n",
      "Section 295 Finished percentage: 90.419629\n",
      "Section 306 Finished percentage: 90.079946\n",
      "Section 303 Finished percentage: 24.338006\n",
      "Section 316 Finished percentage: 7.472166\n",
      "Section 271 Finished percentage: 85.345038\n",
      "Section 281 Finished percentage: 38.713174\n",
      "Section 248 Finished percentage: 53.916660\n",
      "Section 252 Finished percentage: 30.623182\n",
      "Section 286 Finished percentage: 55.007828\n",
      "Section 291 Finished percentage: 8.645658\n",
      "Section 266 Finished percentage: 93.203883\n",
      "Section 276 Finished percentage: 84.932247\n",
      "Section 311 Finished percentage: 25.537892\n",
      "Section 306 Finished percentage: 95.709943\n",
      "Section 303 Finished percentage: 29.205607\n",
      "Section 295 Finished percentage: 94.529612\n",
      "Section 257 Finished percentage: 22.771263\n",
      "Section 316 Finished percentage: 14.944332\n",
      "Result saved.\n",
      "Section 271 Finished percentage: 89.409087\n",
      "Section 248 Finished percentage: 57.767850\n",
      "Section 266 Finished percentage: 97.087379\n",
      "Section 281 Finished percentage: 42.584492\n",
      "Section 262 Finished percentage: 0.000000\n",
      "Section 276 Finished percentage: 88.792804\n",
      "Section 252 Finished percentage: 34.451079\n",
      "Section 311 Finished percentage: 31.922365\n",
      "Section 286 Finished percentage: 59.239199\n",
      "Section 291 Finished percentage: 12.968487\n",
      "Section 295 Finished percentage: 98.639596\n",
      "Section 303 Finished percentage: 34.073209\n",
      "Section 316 Finished percentage: 22.416499\n",
      "Result saved.\n",
      "rm -rf /shared/CSHL_cells_v2/detected_cells/MD589/MD589-N59-2015.07.30-20.07.00_MD589_2_0176/MD589-N59-2015.07.30-20.07.00_MD589_2_0176_blobCoords.hdf && mkdir -p /shared/CSHL_cells_v2/detected_cells/MD589/MD589-N59-2015.07.30-20.07.00_MD589_2_0176\n"
     ]
    },
    {
     "name": "stderr",
     "output_type": "stream",
     "text": [
      "Child returned 0\n"
     ]
    },
    {
     "name": "stdout",
     "output_type": "stream",
     "text": [
      "aws s3 cp s3://mousebrainatlas-data/CSHL_cells_v2/detected_cells/MD589/MD589-N59-2015.07.30-20.07.00_MD589_2_0176/MD589-N59-2015.07.30-20.07.00_MD589_2_0176_blobCoords.hdf /shared/CSHL_cells_v2/detected_cells/MD589/MD589-N59-2015.07.30-20.07.00_MD589_2_0176/MD589-N59-2015.07.30-20.07.00_MD589_2_0176_blobCoords.hdf\n",
      "Result saved.\n"
     ]
    },
    {
     "name": "stderr",
     "output_type": "stream",
     "text": [
      "Child returned 0\n",
      "1.92 seconds.\n"
     ]
    },
    {
     "name": "stdout",
     "output_type": "stream",
     "text": [
      "Section 257 Finished percentage: 26.566473\n",
      "Section 248 Finished percentage: 61.619040\n",
      "Section 271 Finished percentage: 93.473137\n",
      "Section 281 Finished percentage: 46.455809\n",
      "Section 276 Finished percentage: 92.653361\n",
      "Section 311 Finished percentage: 38.306838\n",
      "Section 252 Finished percentage: 38.278977\n",
      "Section 262 Finished percentage: 3.763360\n",
      "Section 286 Finished percentage: 63.470571\n",
      "Section 303 Finished percentage: 38.940810\n",
      "rm -rf /shared/CSHL_cells_v2/detected_cells/MD589/MD589-IHC57-2015.07.31-01.18.16_MD589_2_0170/MD589-IHC57-2015.07.31-01.18.16_MD589_2_0170_blobCoords.hdf && mkdir -p /shared/CSHL_cells_v2/detected_cells/MD589/MD589-IHC57-2015.07.31-01.18.16_MD589_2_0170\n"
     ]
    },
    {
     "name": "stderr",
     "output_type": "stream",
     "text": [
      "Child returned 0\n"
     ]
    },
    {
     "name": "stdout",
     "output_type": "stream",
     "text": [
      "aws s3 cp s3://mousebrainatlas-data/CSHL_cells_v2/detected_cells/MD589/MD589-IHC57-2015.07.31-01.18.16_MD589_2_0170/MD589-IHC57-2015.07.31-01.18.16_MD589_2_0170_blobCoords.hdf /shared/CSHL_cells_v2/detected_cells/MD589/MD589-IHC57-2015.07.31-01.18.16_MD589_2_0170/MD589-IHC57-2015.07.31-01.18.16_MD589_2_0170_blobCoords.hdf\n"
     ]
    },
    {
     "name": "stderr",
     "output_type": "stream",
     "text": [
      "Child returned 0\n",
      "2.07 seconds.\n"
     ]
    },
    {
     "name": "stdout",
     "output_type": "stream",
     "text": [
      "Section 307 Finished percentage: 0.000000\n",
      "Section 291 Finished percentage: 17.291315\n",
      "Section 316 Finished percentage: 29.888665\n",
      "Section 248 Finished percentage: 65.470230\n",
      "Section 257 Finished percentage: 30.361684\n",
      "Section 271 Finished percentage: 97.537186\n",
      "Section 276 Finished percentage: 96.513917\n",
      "Section 281 Finished percentage: 50.327126\n",
      "Section 311 Finished percentage: 44.691311\n",
      "Section 307 Finished percentage: 5.415651\n",
      "Section 252 Finished percentage: 42.106875\n",
      "Section 303 Finished percentage: 43.808411\n",
      "Section 286 Finished percentage: 67.701942\n",
      "Section 296 Finished percentage: 0.000000\n",
      "Section 262 Finished percentage: 7.526720\n",
      "Result saved.\n",
      "Section 316 Finished percentage: 37.360831\n",
      "Section 291 Finished percentage: 21.614144\n",
      "Section 248 Finished percentage: 69.321420\n",
      "Result saved.\n",
      "Section 257 Finished percentage: 34.156894\n",
      "Section 267 Finished percentage: 0.000000\n",
      "Section 311 Finished percentage: 51.075784\n",
      "Section 281 Finished percentage: 54.198444\n",
      "Section 307 Finished percentage: 10.831302\n",
      "Section 252 Finished percentage: 45.934773\n",
      "Section 303 Finished percentage: 48.676012\n",
      "Section 296 Finished percentage: 4.672024\n",
      "Section 286 Finished percentage: 71.933314\n",
      "Section 248 Finished percentage: 73.172610\n",
      "Section 262 Finished percentage: 11.290080\n",
      "Section 291 Finished percentage: 25.936973\n",
      "Section 316 Finished percentage: 44.832997\n",
      "Section 311 Finished percentage: 57.460257\n",
      "Section 267 Finished percentage: 3.919878\n",
      "Section 257 Finished percentage: 37.952104\n",
      "Section 281 Finished percentage: 58.069761\n",
      "Section 303 Finished percentage: 53.543614\n",
      "Section 307 Finished percentage: 16.246954\n",
      "Section 286 Finished percentage: 76.164685\n",
      "Section 252 Finished percentage: 49.762670\n",
      "Section 272 Finished percentage: 0.000000\n",
      "Section 296 Finished percentage: 9.344048\n",
      "Section 248 Finished percentage: 77.023800\n",
      "Section 262 Finished percentage: 15.053440\n",
      "Section 277 Finished percentage: 0.000000\n",
      "Section 316 Finished percentage: 52.305163\n",
      "Section 311 Finished percentage: 63.844730\n",
      "Section 291 Finished percentage: 30.259802\n",
      "Section 267 Finished percentage: 7.839755\n",
      "Section 303 Finished percentage: 58.411215\n",
      "Section 257 Finished percentage: 41.747315\n",
      "Section 281 Finished percentage: 61.941079\n",
      "Section 307 Finished percentage: 21.662605\n",
      "Section 248 Finished percentage: 80.874990\n",
      "Section 286 Finished percentage: 80.396056\n",
      "Section 272 Finished percentage: 3.701784\n",
      "Section 252 Finished percentage: 53.590568\n",
      "Section 296 Finished percentage: 14.016072\n",
      "Section 311 Finished percentage: 70.229203\n",
      "Section 291 Finished percentage: 34.582631\n",
      "Section 277 Finished percentage: 3.967152\n",
      "Section 303 Finished percentage: 63.278816\n",
      "Section 316 Finished percentage: 59.777329\n",
      "Section 248 Finished percentage: 84.726180\n",
      "Section 267 Finished percentage: 11.759633\n",
      "Section 262 Finished percentage: 18.816800\n",
      "Section 257 Finished percentage: 45.542525\n",
      "Section 281 Finished percentage: 65.812396\n",
      "Section 307 Finished percentage: 27.078256\n",
      "Section 286 Finished percentage: 84.627428\n",
      "Section 252 Finished percentage: 57.418466\n",
      "Section 272 Finished percentage: 7.403569\n",
      "Section 248 Finished percentage: 88.577370\n",
      "Section 311 Finished percentage: 76.613676\n",
      "Section 303 Finished percentage: 68.146417\n",
      "Section 296 Finished percentage: 18.688096\n",
      "Section 291 Finished percentage: 38.905460\n",
      "Section 316 Finished percentage: 67.249496\n",
      "Section 277 Finished percentage: 7.934304\n",
      "Section 267 Finished percentage: 15.679511\n",
      "Section 262 Finished percentage: 22.580160\n",
      "Section 257 Finished percentage: 49.337736\n",
      "Section 252 Finished percentage: 61.246363\n",
      "Section 307 Finished percentage: 32.493907\n",
      "Section 281 Finished percentage: 69.683713\n",
      "Section 248 Finished percentage: 92.428560\n",
      "Section 286 Finished percentage: 88.858799\n",
      "Section 311 Finished percentage: 82.998149\n",
      "Section 303 Finished percentage: 73.014019\n",
      "Section 272 Finished percentage: 11.105353\n",
      "Section 296 Finished percentage: 23.360120\n",
      "Section 291 Finished percentage: 43.228289\n",
      "Section 316 Finished percentage: 74.721662\n",
      "Section 248 Finished percentage: 96.279750\n",
      "Section 277 Finished percentage: 11.901456\n",
      "Section 267 Finished percentage: 19.599388\n",
      "Section 257 Finished percentage: 53.132946\n",
      "Section 307 Finished percentage: 37.909559\n",
      "Section 252 Finished percentage: 65.074261\n",
      "Section 262 Finished percentage: 26.343519\n",
      "Section 281 Finished percentage: 73.555031\n",
      "Section 303 Finished percentage: 77.881620\n",
      "Section 286 Finished percentage: 93.090171\n",
      "Section 311 Finished percentage: 89.382621\n",
      "Section 272 Finished percentage: 14.807137\n",
      "Section 291 Finished percentage: 47.551117\n",
      "Result saved.\n",
      "Section 296 Finished percentage: 28.032144\n",
      "Section 316 Finished percentage: 82.193828\n",
      "Section 286 Finished percentage: 97.321542\n",
      "Section 252 Finished percentage: 68.902159\n",
      "Section 311 Finished percentage: 95.767094\n",
      "Section 267 Finished percentage: 23.519266\n",
      "Section 307 Finished percentage: 43.325210\n",
      "Section 277 Finished percentage: 15.868608\n",
      "Section 303 Finished percentage: 82.749221\n",
      "Section 257 Finished percentage: 56.928157\n",
      "Section 281 Finished percentage: 77.426348\n",
      "Result saved.\n",
      "Section 262 Finished percentage: 30.106879\n",
      "Result saved.\n",
      "Section 272 Finished percentage: 18.508921\n",
      "Section 291 Finished percentage: 51.873946\n",
      "Section 296 Finished percentage: 32.704167\n",
      "Section 316 Finished percentage: 89.665994\n",
      "Section 320 Finished percentage: 0.000000\n",
      "rm -rf /shared/CSHL_cells_v2/detected_cells/MD589/MD589-IHC60-2015.07.31-01.31.11_MD589_1_0178/MD589-IHC60-2015.07.31-01.31.11_MD589_1_0178_blobCoords.hdf && mkdir -p /shared/CSHL_cells_v2/detected_cells/MD589/MD589-IHC60-2015.07.31-01.31.11_MD589_1_0178\n"
     ]
    },
    {
     "name": "stderr",
     "output_type": "stream",
     "text": [
      "Child returned 0\n"
     ]
    },
    {
     "name": "stdout",
     "output_type": "stream",
     "text": [
      "aws s3 cp s3://mousebrainatlas-data/CSHL_cells_v2/detected_cells/MD589/MD589-IHC60-2015.07.31-01.31.11_MD589_1_0178/MD589-IHC60-2015.07.31-01.31.11_MD589_1_0178_blobCoords.hdf /shared/CSHL_cells_v2/detected_cells/MD589/MD589-IHC60-2015.07.31-01.31.11_MD589_1_0178/MD589-IHC60-2015.07.31-01.31.11_MD589_1_0178_blobCoords.hdf\n",
      "Section 252 Finished percentage: 72.730057\n",
      "Section 307 Finished percentage: 48.740861\n",
      "Section 303 Finished percentage: 87.616822\n"
     ]
    },
    {
     "name": "stderr",
     "output_type": "stream",
     "text": [
      "Child returned 0\n",
      "2.02 seconds.\n"
     ]
    },
    {
     "name": "stdout",
     "output_type": "stream",
     "text": [
      "Section 281 Finished percentage: 81.297666\n",
      "Section 257 Finished percentage: 60.723367\n",
      "Section 267 Finished percentage: 27.439144\n",
      "Section 277 Finished percentage: 19.835760\n",
      "Section 316 Finished percentage: 97.138160\n",
      "Section 262 Finished percentage: 33.870239\n",
      "Section 320 Finished percentage: 8.056719\n",
      "Section 291 Finished percentage: 56.196775\n",
      "Result saved.\n",
      "Section 296 Finished percentage: 37.376191\n",
      "Section 272 Finished percentage: 22.210706\n",
      "Section 303 Finished percentage: 92.484424\n",
      "Section 307 Finished percentage: 54.156512\n",
      "Section 312 Finished percentage: 0.000000\n",
      "Section 252 Finished percentage: 76.557954\n",
      "Section 281 Finished percentage: 85.168983\n",
      "Section 287 Finished percentage: 0.000000\n",
      "Section 267 Finished percentage: 31.359022\n",
      "Section 257 Finished percentage: 64.518578\n",
      "Section 320 Finished percentage: 16.113439\n",
      "Section 277 Finished percentage: 23.802912\n",
      "Section 262 Finished percentage: 37.633599\n",
      "rm -rf /shared/CSHL_cells_v2/detected_cells/MD589/MD589-N61-2015.07.30-20.15.47_MD589_1_0181/MD589-N61-2015.07.30-20.15.47_MD589_1_0181_blobCoords.hdf && mkdir -p /shared/CSHL_cells_v2/detected_cells/MD589/MD589-N61-2015.07.30-20.15.47_MD589_1_0181\n"
     ]
    },
    {
     "name": "stderr",
     "output_type": "stream",
     "text": [
      "Child returned 0\n"
     ]
    },
    {
     "name": "stdout",
     "output_type": "stream",
     "text": [
      "aws s3 cp s3://mousebrainatlas-data/CSHL_cells_v2/detected_cells/MD589/MD589-N61-2015.07.30-20.15.47_MD589_1_0181/MD589-N61-2015.07.30-20.15.47_MD589_1_0181_blobCoords.hdf /shared/CSHL_cells_v2/detected_cells/MD589/MD589-N61-2015.07.30-20.15.47_MD589_1_0181/MD589-N61-2015.07.30-20.15.47_MD589_1_0181_blobCoords.hdf\n",
      "Section 303 Finished percentage: 97.352025\n",
      "Section 291 Finished percentage: 60.519604\n"
     ]
    },
    {
     "name": "stderr",
     "output_type": "stream",
     "text": [
      "Child returned 0\n",
      "2.33 seconds.\n"
     ]
    },
    {
     "name": "stdout",
     "output_type": "stream",
     "text": [
      "Section 296 Finished percentage: 42.048215\n",
      "Section 312 Finished percentage: 6.762697\n",
      "Section 307 Finished percentage: 59.572164\n",
      "Result saved.\n",
      "Section 252 Finished percentage: 80.385852\n",
      "Section 281 Finished percentage: 89.040300\n",
      "Section 272 Finished percentage: 25.912490\n",
      "Section 287 Finished percentage: 4.205568\n",
      "Section 257 Finished percentage: 68.313788\n",
      "Section 267 Finished percentage: 35.278899\n",
      "Section 317 Finished percentage: 0.000000\n",
      "Section 320 Finished percentage: 24.170158\n",
      "Section 307 Finished percentage: 64.987815\n",
      "Section 262 Finished percentage: 41.396959\n",
      "Section 277 Finished percentage: 27.770064\n",
      "Section 291 Finished percentage: 64.842433\n",
      "Section 296 Finished percentage: 46.720239\n",
      "Section 312 Finished percentage: 13.525394\n",
      "Section 287 Finished percentage: 8.411136\n",
      "Section 252 Finished percentage: 84.213750\n",
      "Section 281 Finished percentage: 92.911618\n",
      "Section 317 Finished percentage: 7.067637\n",
      "Section 272 Finished percentage: 29.614274\n",
      "Section 257 Finished percentage: 72.108998\n",
      "Section 267 Finished percentage: 39.198777\n",
      "Section 307 Finished percentage: 70.403466\n",
      "Section 320 Finished percentage: 32.226877\n",
      "Section 304 Finished percentage: 0.000000\n",
      "Section 312 Finished percentage: 20.288091\n",
      "Section 262 Finished percentage: 45.160319\n",
      "Section 296 Finished percentage: 51.392263\n",
      "Section 252 Finished percentage: 88.041648\n",
      "Section 277 Finished percentage: 31.737216\n",
      "Section 291 Finished percentage: 69.165262\n",
      "Section 281 Finished percentage: 96.782935\n",
      "Section 287 Finished percentage: 12.616705\n",
      "Section 317 Finished percentage: 14.135275\n",
      "Section 272 Finished percentage: 33.316058\n",
      "Section 257 Finished percentage: 75.904209\n",
      "Section 267 Finished percentage: 43.118655\n",
      "Section 304 Finished percentage: 5.743825\n",
      "Section 307 Finished percentage: 75.819117\n",
      "Section 252 Finished percentage: 91.869545\n",
      "Section 320 Finished percentage: 40.283597\n",
      "Section 312 Finished percentage: 27.050788\n",
      "Section 262 Finished percentage: 48.923679\n",
      "Result saved.\n",
      "Section 317 Finished percentage: 21.202912\n",
      "Section 296 Finished percentage: 56.064287\n",
      "Section 277 Finished percentage: 35.704368\n",
      "Section 291 Finished percentage: 73.488091\n",
      "Section 287 Finished percentage: 16.822273\n",
      "Section 272 Finished percentage: 37.017843\n",
      "Section 307 Finished percentage: 81.234768\n",
      "Section 257 Finished percentage: 79.699419\n",
      "Section 304 Finished percentage: 11.487651\n",
      "Section 252 Finished percentage: 95.697443\n",
      "Section 267 Finished percentage: 47.038532\n",
      "Section 320 Finished percentage: 48.340316\n",
      "Section 312 Finished percentage: 33.813485\n",
      "Section 262 Finished percentage: 52.687039\n",
      "Section 317 Finished percentage: 28.270549\n",
      "Section 296 Finished percentage: 60.736311\n",
      "Section 277 Finished percentage: 39.671520\n",
      "Section 291 Finished percentage: 77.810919\n",
      "Section 272 Finished percentage: 40.719627\n",
      "Section 307 Finished percentage: 86.650420\n",
      "Section 287 Finished percentage: 21.027841\n",
      "Section 252 Finished percentage: 99.525341\n",
      "Result saved.\n",
      "Section 257 Finished percentage: 83.494630\n",
      "Section 304 Finished percentage: 17.231476\n",
      "Section 267 Finished percentage: 50.958410\n",
      "Section 282 Finished percentage: 0.000000\n",
      "Section 312 Finished percentage: 40.576182\n",
      "Section 320 Finished percentage: 56.397035\n",
      "Section 317 Finished percentage: 35.338186\n",
      "Section 262 Finished percentage: 56.450399\n",
      "Section 272 Finished percentage: 44.421411\n",
      "Section 277 Finished percentage: 43.638672\n",
      "Section 296 Finished percentage: 65.408335\n",
      "Section 307 Finished percentage: 92.066071\n",
      "Section 291 Finished percentage: 82.133748\n",
      "Section 282 Finished percentage: 3.867873\n",
      "Section 287 Finished percentage: 25.233409\n",
      "Section 257 Finished percentage: 87.289840\n",
      "Section 304 Finished percentage: 22.975302\n",
      "Section 267 Finished percentage: 54.878288\n",
      "Section 312 Finished percentage: 47.338879\n",
      "Section 320 Finished percentage: 64.453754\n",
      "Section 317 Finished percentage: 42.405824\n",
      "Section 262 Finished percentage: 60.213759\n",
      "Section 307 Finished percentage: 97.481722\n",
      "Section 272 Finished percentage: 48.123195\n",
      "Section 277 Finished percentage: 47.605824\n",
      "Section 296 Finished percentage: 70.080359\n",
      "Section 291 Finished percentage: 86.456577\n",
      "Section 257 Finished percentage: 91.085051\n",
      "Result saved.\n",
      "Section 282 Finished percentage: 7.735747\n",
      "Section 304 Finished percentage: 28.719127\n",
      "Section 287 Finished percentage: 29.438977\n",
      "Section 267 Finished percentage: 58.798165\n",
      "Section 253 Finished percentage: 0.000000\n",
      "Section 312 Finished percentage: 54.101576\n",
      "Section 320 Finished percentage: 72.510474\n",
      "Section 317 Finished percentage: 49.473461\n",
      "Section 262 Finished percentage: 63.977119\n",
      "Section 272 Finished percentage: 51.824980\n",
      "Section 277 Finished percentage: 51.572976\n",
      "Section 296 Finished percentage: 74.752383\n",
      "Section 257 Finished percentage: 94.880261\n",
      "Section 291 Finished percentage: 90.779406\n",
      "Section 287 Finished percentage: 33.644545\n",
      "Section 282 Finished percentage: 11.603620\n",
      "Section 304 Finished percentage: 34.462952\n",
      "Section 312 Finished percentage: 60.864273\n",
      "Section 267 Finished percentage: 62.718043\n",
      "Section 253 Finished percentage: 4.048911\n",
      "Section 320 Finished percentage: 80.567193\n",
      "Section 308 Finished percentage: 0.000000\n",
      "Section 317 Finished percentage: 56.541098\n",
      "Section 272 Finished percentage: 55.526764\n",
      "Section 262 Finished percentage: 67.740479\n",
      "Section 277 Finished percentage: 55.540128\n",
      "Section 257 Finished percentage: 98.675472\n",
      "Section 296 Finished percentage: 79.424407\n",
      "Section 287 Finished percentage: 37.850114\n",
      "Section 291 Finished percentage: 95.102235\n",
      "Result saved.\n",
      "Section 304 Finished percentage: 40.206778\n",
      "Section 312 Finished percentage: 67.626970\n",
      "Section 267 Finished percentage: 66.637921\n",
      "Section 282 Finished percentage: 15.471494\n",
      "Section 320 Finished percentage: 88.623912\n",
      "Section 308 Finished percentage: 6.266842\n",
      "Section 262 Finished percentage: 71.503839\n",
      "Section 253 Finished percentage: 8.097822\n",
      "Section 272 Finished percentage: 59.228548\n",
      "Section 317 Finished percentage: 63.608736\n",
      "Section 291 Finished percentage: 99.425064\n",
      "Section 277 Finished percentage: 59.507280\n",
      "Result saved.\n",
      "Section 287 Finished percentage: 42.055682\n",
      "Section 296 Finished percentage: 84.096431\n",
      "Section 312 Finished percentage: 74.389667\n",
      "Section 320 Finished percentage: 96.680632\n",
      "Section 304 Finished percentage: 45.950603\n",
      "Section 267 Finished percentage: 70.557799\n",
      "Section 282 Finished percentage: 19.339367\n",
      "Result saved.\n",
      "Section 308 Finished percentage: 12.533684\n",
      "Section 262 Finished percentage: 75.267199\n",
      "Section 317 Finished percentage: 70.676373\n",
      "Section 272 Finished percentage: 62.930332\n",
      "Section 253 Finished percentage: 12.146733\n",
      "Section 277 Finished percentage: 63.474432\n",
      "Section 258 Finished percentage: 0.000000\n",
      "Section 287 Finished percentage: 46.261250\n",
      "Section 312 Finished percentage: 81.152364\n",
      "Section 267 Finished percentage: 74.477676\n",
      "Section 296 Finished percentage: 88.768454\n",
      "Section 304 Finished percentage: 51.694428\n",
      "rm -rf /shared/CSHL_cells_v2/detected_cells/MD589/MD589-N61-2015.07.30-20.15.47_MD589_3_0183/MD589-N61-2015.07.30-20.15.47_MD589_3_0183_blobCoords.hdf && mkdir -p /shared/CSHL_cells_v2/detected_cells/MD589/MD589-N61-2015.07.30-20.15.47_MD589_3_0183\n"
     ]
    },
    {
     "name": "stderr",
     "output_type": "stream",
     "text": [
      "Child returned 0\n"
     ]
    },
    {
     "name": "stdout",
     "output_type": "stream",
     "text": [
      "aws s3 cp s3://mousebrainatlas-data/CSHL_cells_v2/detected_cells/MD589/MD589-N61-2015.07.30-20.15.47_MD589_3_0183/MD589-N61-2015.07.30-20.15.47_MD589_3_0183_blobCoords.hdf /shared/CSHL_cells_v2/detected_cells/MD589/MD589-N61-2015.07.30-20.15.47_MD589_3_0183/MD589-N61-2015.07.30-20.15.47_MD589_3_0183_blobCoords.hdf\n",
      "Section 308 Finished percentage: 18.800526\n"
     ]
    },
    {
     "name": "stderr",
     "output_type": "stream",
     "text": [
      "Child returned 0\n",
      "1.86 seconds.\n"
     ]
    },
    {
     "name": "stdout",
     "output_type": "stream",
     "text": [
      "Section 282 Finished percentage: 23.207241\n",
      "Section 317 Finished percentage: 77.744010\n",
      "Section 272 Finished percentage: 66.632117\n",
      "Section 292 Finished percentage: 0.000000\n",
      "Section 262 Finished percentage: 79.030558\n",
      "Section 253 Finished percentage: 16.195643\n",
      "Section 287 Finished percentage: 50.466818\n",
      "Section 277 Finished percentage: 67.441584\n",
      "Section 258 Finished percentage: 3.738877\n",
      "Section 312 Finished percentage: 87.915061\n",
      "Section 267 Finished percentage: 78.397554\n",
      "Section 304 Finished percentage: 57.438254\n",
      "Section 321 Finished percentage: 0.000000\n",
      "Section 296 Finished percentage: 93.440478\n",
      "Section 308 Finished percentage: 25.067369\n",
      "Section 272 Finished percentage: 70.333901\n",
      "Section 292 Finished percentage: 4.203270\n",
      "Section 262 Finished percentage: 82.793918\n",
      "Section 317 Finished percentage: 84.811647\n",
      "Section 282 Finished percentage: 27.075114\n",
      "Section 312 Finished percentage: 94.677757\n",
      "Section 287 Finished percentage: 54.672386\n",
      "Section 277 Finished percentage: 71.408736\n",
      "Section 258 Finished percentage: 7.477754\n",
      "Section 253 Finished percentage: 20.244554\n",
      "Section 321 Finished percentage: 7.888924\n",
      "Section 304 Finished percentage: 63.182079\n",
      "Section 272 Finished percentage: 74.035685\n",
      "Section 267 Finished percentage: 82.317432\n",
      "Section 296 Finished percentage: 98.112502\n",
      "Result saved.\n",
      "Section 308 Finished percentage: 31.334211\n",
      "Section 317 Finished percentage: 91.879285\n",
      "Section 292 Finished percentage: 8.406540\n",
      "Result saved.\n",
      "Section 262 Finished percentage: 86.557278\n",
      "Section 287 Finished percentage: 58.877954\n",
      "Section 277 Finished percentage: 75.375888\n",
      "Section 282 Finished percentage: 30.942988\n",
      "Section 321 Finished percentage: 15.777848\n",
      "Section 253 Finished percentage: 24.293465\n",
      "Section 258 Finished percentage: 11.216631\n",
      "Section 317 Finished percentage: 98.946922\n",
      "Section 304 Finished percentage: 68.925905\n",
      "Result saved.\n",
      "Section 272 Finished percentage: 77.737469\n",
      "Section 267 Finished percentage: 86.237309\n",
      "Section 292 Finished percentage: 12.609810\n",
      "Section 308 Finished percentage: 37.601053\n",
      "Section 313 Finished percentage: 0.000000\n",
      "Section 262 Finished percentage: 90.320638\n",
      "Section 321 Finished percentage: 23.666772\n",
      "Section 282 Finished percentage: 34.810861\n",
      "Section 287 Finished percentage: 63.083523\n",
      "Section 277 Finished percentage: 79.343040\n",
      "Section 297 Finished percentage: 0.000000\n",
      "Section 304 Finished percentage: 74.669730\n",
      "Section 313 Finished percentage: 6.478362\n",
      "Section 253 Finished percentage: 28.342376\n",
      "Section 272 Finished percentage: 81.439254\n",
      "Section 258 Finished percentage: 14.955507\n",
      "Section 267 Finished percentage: 90.157187\n",
      "Section 292 Finished percentage: 16.813081\n",
      "Section 308 Finished percentage: 43.867895\n",
      "Section 262 Finished percentage: 94.083998\n",
      "Section 318 Finished percentage: 0.000000\n",
      "Section 297 Finished percentage: 4.404316\n",
      "Section 321 Finished percentage: 31.555696\n",
      "Section 282 Finished percentage: 38.678734\n",
      "Section 287 Finished percentage: 67.289091\n",
      "Section 277 Finished percentage: 83.310192\n",
      "Section 313 Finished percentage: 12.956725\n",
      "Section 304 Finished percentage: 80.413555\n",
      "Section 272 Finished percentage: 85.141038\n",
      "Section 253 Finished percentage: 32.391287\n",
      "Section 258 Finished percentage: 18.694384\n",
      "Section 267 Finished percentage: 94.077065\n",
      "Section 318 Finished percentage: 7.137249\n",
      "Section 262 Finished percentage: 97.847358\n",
      "Section 308 Finished percentage: 50.134737\n",
      "Section 321 Finished percentage: 39.444620\n",
      "Section 297 Finished percentage: 8.808632\n",
      "Section 292 Finished percentage: 21.016351\n",
      "Section 282 Finished percentage: 42.546608\n",
      "Section 287 Finished percentage: 71.494659\n",
      "Result saved.\n",
      "Section 313 Finished percentage: 19.435087\n",
      "Section 304 Finished percentage: 86.157381\n",
      "Section 277 Finished percentage: 87.277344\n",
      "Section 267 Finished percentage: 97.996942\n",
      "Section 272 Finished percentage: 88.842822\n",
      "Section 318 Finished percentage: 14.274499\n",
      "Section 253 Finished percentage: 36.440198\n",
      "Section 308 Finished percentage: 56.401579\n",
      "Section 297 Finished percentage: 13.212949\n",
      "Section 258 Finished percentage: 22.433261\n",
      "Section 321 Finished percentage: 47.333544\n",
      "Section 282 Finished percentage: 46.414481\n",
      "Result saved.\n",
      "Section 304 Finished percentage: 91.901206\n",
      "Section 292 Finished percentage: 25.219621\n",
      "Section 287 Finished percentage: 75.700227\n",
      "Section 313 Finished percentage: 25.913449\n",
      "Section 277 Finished percentage: 91.244496\n",
      "Section 272 Finished percentage: 92.544607\n",
      "Section 318 Finished percentage: 21.411748\n",
      "Section 321 Finished percentage: 55.222468\n",
      "Section 282 Finished percentage: 50.282355\n",
      "Section 304 Finished percentage: 97.645032\n",
      "Section 253 Finished percentage: 40.489108\n",
      "Section 308 Finished percentage: 62.668421\n",
      "Section 297 Finished percentage: 17.617265\n",
      "Section 263 Finished percentage: 0.000000\n",
      "Section 258 Finished percentage: 26.172138\n",
      "Result saved.\n",
      "Section 292 Finished percentage: 29.422891\n",
      "Section 313 Finished percentage: 32.391811\n",
      "Section 277 Finished percentage: 95.211648\n",
      "Section 287 Finished percentage: 79.905795\n",
      "Section 272 Finished percentage: 96.246391\n",
      "Section 318 Finished percentage: 28.548997\n",
      "Section 321 Finished percentage: 63.111392\n",
      "Section 282 Finished percentage: 54.150228\n",
      "Section 308 Finished percentage: 68.935264\n",
      "Section 263 Finished percentage: 3.667571\n",
      "Section 297 Finished percentage: 22.021581\n",
      "Section 253 Finished percentage: 44.538019\n",
      "Section 292 Finished percentage: 33.626161\n",
      "Section 313 Finished percentage: 38.870174\n",
      "Section 268 Finished percentage: 0.000000\n",
      "Section 258 Finished percentage: 29.911015\n",
      "Section 277 Finished percentage: 99.178800\n",
      "Section 272 Finished percentage: 99.948175\n",
      "Result saved.\n",
      "Section 287 Finished percentage: 84.111363\n",
      "Result saved.\n",
      "Section 318 Finished percentage: 35.686247\n",
      "Section 321 Finished percentage: 71.000316\n",
      "Section 282 Finished percentage: 58.018102\n",
      "Section 326 Finished percentage: 0.000000\n",
      "Section 308 Finished percentage: 75.202106\n",
      "Section 313 Finished percentage: 45.348536\n",
      "Section 292 Finished percentage: 37.829431\n",
      "Section 268 Finished percentage: 3.977408\n",
      "Section 297 Finished percentage: 26.425897\n",
      "Section 258 Finished percentage: 33.649892\n",
      "Section 253 Finished percentage: 48.586930\n",
      "Section 263 Finished percentage: 7.335143\n",
      "Section 287 Finished percentage: 88.316932\n",
      "Section 321 Finished percentage: 78.889240\n",
      "Section 318 Finished percentage: 42.823496\n",
      "Section 326 Finished percentage: 10.764263\n",
      "Section 313 Finished percentage: 51.826898\n",
      "Section 282 Finished percentage: 61.885975\n",
      "Section 292 Finished percentage: 42.032701\n",
      "Section 297 Finished percentage: 30.830214\n",
      "Section 308 Finished percentage: 81.468948\n",
      "Section 268 Finished percentage: 7.954817\n",
      "Section 253 Finished percentage: 52.635841\n",
      "Section 258 Finished percentage: 37.388768\n",
      "Section 263 Finished percentage: 11.002714\n",
      "Section 287 Finished percentage: 92.522500\n",
      "Section 321 Finished percentage: 86.778163\n",
      "Section 318 Finished percentage: 49.960745\n",
      "Section 326 Finished percentage: 21.528525\n",
      "Section 273 Finished percentage: 0.000000\n",
      "Section 313 Finished percentage: 58.305260\n",
      "Section 282 Finished percentage: 65.753849\n",
      "Section 278 Finished percentage: 0.000000\n",
      "Section 292 Finished percentage: 46.235972\n",
      "Section 297 Finished percentage: 35.234530\n",
      "Section 321 Finished percentage: 94.667087\n",
      "Section 308 Finished percentage: 87.735790\n",
      "Section 287 Finished percentage: 96.728068\n",
      "Section 258 Finished percentage: 41.127645\n",
      "Section 253 Finished percentage: 56.684752\n",
      "Section 268 Finished percentage: 11.932225\n",
      "Result saved.\n",
      "Section 263 Finished percentage: 14.670285\n",
      "Section 326 Finished percentage: 32.292788\n",
      "Section 318 Finished percentage: 57.097994\n",
      "Section 273 Finished percentage: 3.974721\n",
      "Section 313 Finished percentage: 64.783623\n",
      "Section 308 Finished percentage: 94.002632\n",
      "Section 278 Finished percentage: 3.863092\n",
      "Section 292 Finished percentage: 50.439242\n",
      "Result saved.\n",
      "Section 282 Finished percentage: 69.621722\n",
      "Section 297 Finished percentage: 39.638846\n",
      "rm -rf /shared/CSHL_cells_v2/detected_cells/MD589/MD589-IHC61-2015.07.31-01.35.17_MD589_3_0183/MD589-IHC61-2015.07.31-01.35.17_MD589_3_0183_blobCoords.hdf && mkdir -p /shared/CSHL_cells_v2/detected_cells/MD589/MD589-IHC61-2015.07.31-01.35.17_MD589_3_0183\n"
     ]
    },
    {
     "name": "stderr",
     "output_type": "stream",
     "text": [
      "Child returned 0\n"
     ]
    },
    {
     "name": "stdout",
     "output_type": "stream",
     "text": [
      "aws s3 cp s3://mousebrainatlas-data/CSHL_cells_v2/detected_cells/MD589/MD589-IHC61-2015.07.31-01.35.17_MD589_3_0183/MD589-IHC61-2015.07.31-01.35.17_MD589_3_0183_blobCoords.hdf /shared/CSHL_cells_v2/detected_cells/MD589/MD589-IHC61-2015.07.31-01.35.17_MD589_3_0183/MD589-IHC61-2015.07.31-01.35.17_MD589_3_0183_blobCoords.hdf\n"
     ]
    },
    {
     "name": "stderr",
     "output_type": "stream",
     "text": [
      "Child returned 0\n",
      "1.97 seconds.\n"
     ]
    },
    {
     "name": "stdout",
     "output_type": "stream",
     "text": [
      "Section 258 Finished percentage: 44.866522\n",
      "Section 326 Finished percentage: 43.057051\n",
      "Section 268 Finished percentage: 15.909633\n",
      "Section 253 Finished percentage: 60.733663\n",
      "Result saved.\n",
      "Section 318 Finished percentage: 64.235244\n",
      "Section 263 Finished percentage: 18.337857\n",
      "Section 313 Finished percentage: 71.261985\n",
      "Section 292 Finished percentage: 54.642512\n",
      "Section 322 Finished percentage: 0.000000\n",
      "Section 273 Finished percentage: 7.949442\n",
      "Section 282 Finished percentage: 73.489595\n",
      "Section 297 Finished percentage: 44.043162\n",
      "Section 278 Finished percentage: 7.726184\n",
      "Section 326 Finished percentage: 53.821313\n",
      "Section 258 Finished percentage: 48.605399\n",
      "Section 253 Finished percentage: 64.782573\n",
      "Section 268 Finished percentage: 19.887042\n",
      "Section 313 Finished percentage: 77.740347\n",
      "Section 322 Finished percentage: 9.432183\n",
      "Section 288 Finished percentage: 0.000000\n",
      "Section 292 Finished percentage: 58.845782\n",
      "Section 318 Finished percentage: 71.372493\n",
      "Section 297 Finished percentage: 48.447479\n",
      "Section 282 Finished percentage: 77.357469\n",
      "Section 263 Finished percentage: 22.005428\n",
      "Section 273 Finished percentage: 11.924162\n",
      "Section 278 Finished percentage: 11.589276\n",
      "Section 326 Finished percentage: 64.585576\n",
      "Section 258 Finished percentage: 52.344276\n",
      "Section 309 Finished percentage: 0.000000\n",
      "Section 253 Finished percentage: 68.831484\n",
      "Section 322 Finished percentage: 18.864365\n",
      "Section 313 Finished percentage: 84.218710\n",
      "Section 288 Finished percentage: 4.156449\n",
      "Section 268 Finished percentage: 23.864450\n",
      "Section 297 Finished percentage: 52.851795\n",
      "Section 318 Finished percentage: 78.509742\n",
      "Section 292 Finished percentage: 63.049052\n",
      "Section 326 Finished percentage: 75.349839\n",
      "Section 282 Finished percentage: 81.225342\n",
      "Section 263 Finished percentage: 25.672999\n",
      "Section 258 Finished percentage: 56.083153\n",
      "Section 309 Finished percentage: 6.132336\n",
      "Section 278 Finished percentage: 15.452368\n",
      "Section 273 Finished percentage: 15.898883\n",
      "Section 322 Finished percentage: 28.296548\n",
      "Section 253 Finished percentage: 72.880395\n",
      "Section 313 Finished percentage: 90.697072\n",
      "Section 297 Finished percentage: 57.256111\n",
      "Section 288 Finished percentage: 8.312897\n",
      "Section 326 Finished percentage: 86.114101\n",
      "Section 292 Finished percentage: 67.252322\n",
      "Section 318 Finished percentage: 85.646992\n",
      "Section 282 Finished percentage: 85.093216\n",
      "Section 268 Finished percentage: 27.841858\n",
      "Section 309 Finished percentage: 12.264672\n",
      "Section 258 Finished percentage: 59.822029\n",
      "Section 313 Finished percentage: 97.175434\n",
      "Section 263 Finished percentage: 29.340571\n",
      "Section 322 Finished percentage: 37.728730\n",
      "Section 278 Finished percentage: 19.315460\n",
      "Section 253 Finished percentage: 76.929306\n",
      "Result saved.\n",
      "Section 326 Finished percentage: 96.878364\n",
      "Section 297 Finished percentage: 61.660427\n",
      "Section 273 Finished percentage: 19.873604\n",
      "Section 288 Finished percentage: 12.469346\n",
      "Section 318 Finished percentage: 92.784241\n",
      "Result saved.\n",
      "Section 282 Finished percentage: 88.961089\n",
      "Section 292 Finished percentage: 71.455592\n",
      "Section 309 Finished percentage: 18.397007\n",
      "Section 268 Finished percentage: 31.819267\n",
      "Section 258 Finished percentage: 63.560906\n",
      "Section 318 Finished percentage: 99.921490\n",
      "Result saved.\n",
      "Section 322 Finished percentage: 47.160913\n",
      "Section 263 Finished percentage: 33.008142\n",
      "Section 253 Finished percentage: 80.978217\n",
      "Section 278 Finished percentage: 23.178552\n",
      "rm -rf /shared/CSHL_cells_v2/detected_cells/MD589/MD589-N62-2015.07.30-20.20.08_MD589_2_0185/MD589-N62-2015.07.30-20.20.08_MD589_2_0185_blobCoords.hdf && mkdir -p /shared/CSHL_cells_v2/detected_cells/MD589/MD589-N62-2015.07.30-20.20.08_MD589_2_0185\n"
     ]
    },
    {
     "name": "stderr",
     "output_type": "stream",
     "text": [
      "Child returned 0\n"
     ]
    },
    {
     "name": "stdout",
     "output_type": "stream",
     "text": [
      "aws s3 cp s3://mousebrainatlas-data/CSHL_cells_v2/detected_cells/MD589/MD589-N62-2015.07.30-20.20.08_MD589_2_0185/MD589-N62-2015.07.30-20.20.08_MD589_2_0185_blobCoords.hdf /shared/CSHL_cells_v2/detected_cells/MD589/MD589-N62-2015.07.30-20.20.08_MD589_2_0185/MD589-N62-2015.07.30-20.20.08_MD589_2_0185_blobCoords.hdf\n"
     ]
    },
    {
     "name": "stderr",
     "output_type": "stream",
     "text": [
      "Child returned 0\n",
      "1.88 seconds.\n"
     ]
    },
    {
     "name": "stdout",
     "output_type": "stream",
     "text": [
      "Section 297 Finished percentage: 66.064743\n",
      "Section 288 Finished percentage: 16.625795\n",
      "Section 314 Finished percentage: 0.000000\n",
      "Section 282 Finished percentage: 92.828963\n",
      "Section 273 Finished percentage: 23.848325\n",
      "Section 309 Finished percentage: 24.529343\n",
      "Section 292 Finished percentage: 75.658863\n",
      "Section 322 Finished percentage: 56.593096\n",
      "Section 268 Finished percentage: 35.796675\n",
      "Section 327 Finished percentage: 0.000000\n",
      "Section 258 Finished percentage: 67.299783\n",
      "Section 253 Finished percentage: 85.027128\n",
      "Section 263 Finished percentage: 36.675713\n",
      "Section 314 Finished percentage: 7.368111\n",
      "Section 297 Finished percentage: 70.469060\n",
      "Section 282 Finished percentage: 96.696836\n",
      "Section 278 Finished percentage: 27.041644\n",
      "Section 288 Finished percentage: 20.782244\n",
      "Section 309 Finished percentage: 30.661679\n",
      "Section 327 Finished percentage: 11.019284\n",
      "Section 273 Finished percentage: 27.823045\n",
      "Section 292 Finished percentage: 79.862133\n",
      "Section 319 Finished percentage: 0.000000\n",
      "Section 322 Finished percentage: 66.025278\n",
      "Section 268 Finished percentage: 39.774083\n",
      "Section 258 Finished percentage: 71.038660\n",
      "Result saved.\n",
      "Section 263 Finished percentage: 40.343285\n",
      "Section 297 Finished percentage: 74.873376\n",
      "Section 314 Finished percentage: 14.736222\n",
      "Section 253 Finished percentage: 89.076039\n",
      "Section 278 Finished percentage: 30.904736\n",
      "Section 309 Finished percentage: 36.794015\n",
      "Section 327 Finished percentage: 22.038567\n",
      "Section 319 Finished percentage: 7.096225\n",
      "Section 288 Finished percentage: 24.938692\n",
      "Section 273 Finished percentage: 31.797766\n",
      "Section 322 Finished percentage: 75.457461\n",
      "Section 292 Finished percentage: 84.065403\n",
      "Section 268 Finished percentage: 43.751492\n",
      "Section 258 Finished percentage: 74.777537\n",
      "Section 314 Finished percentage: 22.104332\n",
      "Section 297 Finished percentage: 79.277692\n",
      "Section 263 Finished percentage: 44.010856\n",
      "Section 327 Finished percentage: 33.057851\n",
      "Section 253 Finished percentage: 93.124949\n",
      "Section 309 Finished percentage: 42.926351\n",
      "Section 319 Finished percentage: 14.192450\n",
      "Section 278 Finished percentage: 34.767828\n",
      "Section 322 Finished percentage: 84.889643\n",
      "Section 273 Finished percentage: 35.772487\n",
      "Section 288 Finished percentage: 29.095141\n",
      "Section 268 Finished percentage: 47.728900\n",
      "Section 283 Finished percentage: 0.000000\n",
      "Section 292 Finished percentage: 88.268673\n",
      "Section 263 Finished percentage: 47.678427\n",
      "Section 258 Finished percentage: 78.516414\n",
      "Section 327 Finished percentage: 44.077135\n",
      "Section 297 Finished percentage: 83.682008\n",
      "Section 314 Finished percentage: 29.472443\n",
      "Section 253 Finished percentage: 97.173860\n",
      "Section 309 Finished percentage: 49.058686\n",
      "Section 319 Finished percentage: 21.288674\n",
      "Section 278 Finished percentage: 38.630920\n",
      "Section 322 Finished percentage: 94.321826\n",
      "Section 268 Finished percentage: 51.706308\n",
      "Section 288 Finished percentage: 33.251590\n",
      "Section 273 Finished percentage: 39.747208\n",
      "Result saved.\n",
      "Section 263 Finished percentage: 51.345999\n",
      "Section 327 Finished percentage: 55.096419\n",
      "Result saved.\n",
      "Section 292 Finished percentage: 92.471943\n",
      "Section 283 Finished percentage: 4.137532\n",
      "Section 297 Finished percentage: 88.086325\n",
      "Section 258 Finished percentage: 82.255291\n",
      "Section 309 Finished percentage: 55.191022\n",
      "Section 314 Finished percentage: 36.840554\n",
      "Section 319 Finished percentage: 28.384899\n",
      "Section 278 Finished percentage: 42.494012\n",
      "Section 268 Finished percentage: 55.683716\n",
      "rm -rf /shared/CSHL_cells_v2/detected_cells/MD589/MD589-N63-2015.07.30-20.23.12_MD589_2_0188/MD589-N63-2015.07.30-20.23.12_MD589_2_0188_blobCoords.hdf && mkdir -p /shared/CSHL_cells_v2/detected_cells/MD589/MD589-N63-2015.07.30-20.23.12_MD589_2_0188\n"
     ]
    },
    {
     "name": "stderr",
     "output_type": "stream",
     "text": [
      "Child returned 0\n"
     ]
    },
    {
     "name": "stdout",
     "output_type": "stream",
     "text": [
      "aws s3 cp s3://mousebrainatlas-data/CSHL_cells_v2/detected_cells/MD589/MD589-N63-2015.07.30-20.23.12_MD589_2_0188/MD589-N63-2015.07.30-20.23.12_MD589_2_0188_blobCoords.hdf /shared/CSHL_cells_v2/detected_cells/MD589/MD589-N63-2015.07.30-20.23.12_MD589_2_0188/MD589-N63-2015.07.30-20.23.12_MD589_2_0188_blobCoords.hdf\n",
      "Warrning: Scaned section(s) not included in input im_blob_prop\n",
      "Section 323 Finished percentage: 0.000000\n"
     ]
    },
    {
     "name": "stderr",
     "output_type": "stream",
     "text": [
      "Child returned 0\n",
      "1.90 seconds.\n"
     ]
    },
    {
     "name": "stdout",
     "output_type": "stream",
     "text": [
      "Section 288 Finished percentage: 37.408039\n",
      "Section 327 Finished percentage: 66.115702\n",
      "Section 292 Finished percentage: 96.675213\n",
      "Section 263 Finished percentage: 55.013570\n",
      "Section 273 Finished percentage: 43.721929\n",
      "Section 309 Finished percentage: 61.323358\n",
      "Section 297 Finished percentage: 92.490641\n",
      "Section 258 Finished percentage: 85.994167\n",
      "Section 323 Finished percentage: 9.236169\n",
      "Section 331 Finished percentage: 0.000000\n",
      "Section 283 Finished percentage: 8.275063\n",
      "Section 314 Finished percentage: 44.208665\n",
      "Section 319 Finished percentage: 35.481124\n",
      "Result saved.\n",
      "Section 268 Finished percentage: 59.661125\n",
      "Section 323 Finished percentage: 18.472338\n",
      "Section 278 Finished percentage: 46.357104\n",
      "Section 327 Finished percentage: 77.134986\n",
      "Section 331 Finished percentage: 13.066771\n",
      "Section 288 Finished percentage: 41.564487\n",
      "Section 297 Finished percentage: 96.894957\n",
      "Section 258 Finished percentage: 89.733044\n",
      "Section 309 Finished percentage: 67.455694\n",
      "Section 273 Finished percentage: 47.696649\n",
      "Section 323 Finished percentage: 27.708507\n",
      "Section 263 Finished percentage: 58.681141\n",
      "Section 319 Finished percentage: 42.577349\n",
      "Section 283 Finished percentage: 12.412595\n",
      "Section 314 Finished percentage: 51.576776\n",
      "Result saved.\n",
      "Section 268 Finished percentage: 63.638533\n",
      "Section 327 Finished percentage: 88.154270\n",
      "Section 323 Finished percentage: 36.944675\n",
      "Section 331 Finished percentage: 26.133542\n",
      "Section 278 Finished percentage: 50.220196\n",
      "Section 293 Finished percentage: 0.000000\n",
      "Section 288 Finished percentage: 45.720936\n",
      "Section 309 Finished percentage: 73.588030\n",
      "Section 258 Finished percentage: 93.471921\n",
      "Section 327 Finished percentage: 99.173554\n",
      "Section 323 Finished percentage: 46.180844\n",
      "Result saved.\n",
      "Section 273 Finished percentage: 51.671370\n",
      "Section 263 Finished percentage: 62.348713\n",
      "Section 331 Finished percentage: 39.200314\n",
      "Section 268 Finished percentage: 67.615941\n",
      "Section 319 Finished percentage: 49.673574\n",
      "Section 314 Finished percentage: 58.944887\n",
      "Section 283 Finished percentage: 16.550126\n",
      "Section 323 Finished percentage: 55.417013\n",
      "Section 278 Finished percentage: 54.083288\n",
      "Section 258 Finished percentage: 97.210798\n",
      "Section 298 Finished percentage: 0.000000\n",
      "Section 331 Finished percentage: 52.267085\n",
      "rm -rf /shared/CSHL_cells_v2/detected_cells/MD589/MD589-IHC62-2015.07.31-01.39.26_MD589_3_0186/MD589-IHC62-2015.07.31-01.39.26_MD589_3_0186_blobCoords.hdf && mkdir -p /shared/CSHL_cells_v2/detected_cells/MD589/MD589-IHC62-2015.07.31-01.39.26_MD589_3_0186\n"
     ]
    },
    {
     "name": "stderr",
     "output_type": "stream",
     "text": [
      "Child returned 0\n"
     ]
    },
    {
     "name": "stdout",
     "output_type": "stream",
     "text": [
      "aws s3 cp s3://mousebrainatlas-data/CSHL_cells_v2/detected_cells/MD589/MD589-IHC62-2015.07.31-01.39.26_MD589_3_0186/MD589-IHC62-2015.07.31-01.39.26_MD589_3_0186_blobCoords.hdf /shared/CSHL_cells_v2/detected_cells/MD589/MD589-IHC62-2015.07.31-01.39.26_MD589_3_0186/MD589-IHC62-2015.07.31-01.39.26_MD589_3_0186_blobCoords.hdf\n",
      "Section 293 Finished percentage: 4.500248\n",
      "Section 309 Finished percentage: 79.720365\n",
      "Section 288 Finished percentage: 49.877385\n"
     ]
    },
    {
     "name": "stderr",
     "output_type": "stream",
     "text": [
      "Child returned 0\n",
      "1.95 seconds.\n"
     ]
    },
    {
     "name": "stdout",
     "output_type": "stream",
     "text": [
      "Section 323 Finished percentage: 64.653182\n",
      "Section 273 Finished percentage: 55.646091\n",
      "Section 268 Finished percentage: 71.593350\n",
      "Result saved.\n",
      "Section 263 Finished percentage: 66.016284\n",
      "Section 319 Finished percentage: 56.769798\n",
      "Section 314 Finished percentage: 66.312997\n",
      "Section 323 Finished percentage: 73.889351\n",
      "Section 328 Finished percentage: 0.000000\n",
      "Section 283 Finished percentage: 20.687658\n",
      "Section 331 Finished percentage: 65.333856\n",
      "rm -rf /shared/CSHL_cells_v2/detected_cells/MD589/MD589-N64-2015.07.30-20.27.19_MD589_1_0190/MD589-N64-2015.07.30-20.27.19_MD589_1_0190_blobCoords.hdf && mkdir -p /shared/CSHL_cells_v2/detected_cells/MD589/MD589-N64-2015.07.30-20.27.19_MD589_1_0190\n"
     ]
    },
    {
     "name": "stderr",
     "output_type": "stream",
     "text": [
      "Child returned 0\n"
     ]
    },
    {
     "name": "stdout",
     "output_type": "stream",
     "text": [
      "aws s3 cp s3://mousebrainatlas-data/CSHL_cells_v2/detected_cells/MD589/MD589-N64-2015.07.30-20.27.19_MD589_1_0190/MD589-N64-2015.07.30-20.27.19_MD589_1_0190_blobCoords.hdf /shared/CSHL_cells_v2/detected_cells/MD589/MD589-N64-2015.07.30-20.27.19_MD589_1_0190/MD589-N64-2015.07.30-20.27.19_MD589_1_0190_blobCoords.hdf\n",
      "Section 298 Finished percentage: 5.074082\n",
      "Section 278 Finished percentage: 57.946380\n"
     ]
    },
    {
     "name": "stderr",
     "output_type": "stream",
     "text": [
      "Child returned 0\n",
      "1.81 seconds.\n"
     ]
    },
    {
     "name": "stdout",
     "output_type": "stream",
     "text": [
      "Section 293 Finished percentage: 9.000495\n",
      "Section 309 Finished percentage: 85.852701\n",
      "Section 323 Finished percentage: 83.125520\n",
      "Section 288 Finished percentage: 54.033833\n",
      "Section 328 Finished percentage: 12.861736\n",
      "rm -rf /shared/CSHL_cells_v2/detected_cells/MD589/MD589-IHC64-2015.07.31-01.47.28_MD589_1_0190/MD589-IHC64-2015.07.31-01.47.28_MD589_1_0190_blobCoords.hdf && mkdir -p /shared/CSHL_cells_v2/detected_cells/MD589/MD589-IHC64-2015.07.31-01.47.28_MD589_1_0190\n"
     ]
    },
    {
     "name": "stderr",
     "output_type": "stream",
     "text": [
      "Child returned 0\n"
     ]
    },
    {
     "name": "stdout",
     "output_type": "stream",
     "text": [
      "aws s3 cp s3://mousebrainatlas-data/CSHL_cells_v2/detected_cells/MD589/MD589-IHC64-2015.07.31-01.47.28_MD589_1_0190/MD589-IHC64-2015.07.31-01.47.28_MD589_1_0190_blobCoords.hdf /shared/CSHL_cells_v2/detected_cells/MD589/MD589-IHC64-2015.07.31-01.47.28_MD589_1_0190/MD589-IHC64-2015.07.31-01.47.28_MD589_1_0190_blobCoords.hdf\n",
      "Section 268 Finished percentage: 75.570758\n"
     ]
    },
    {
     "name": "stderr",
     "output_type": "stream",
     "text": [
      "Child returned 0\n",
      "1.89 seconds.\n"
     ]
    },
    {
     "name": "stdout",
     "output_type": "stream",
     "text": [
      "Section 263 Finished percentage: 69.683855\n",
      "Section 331 Finished percentage: 78.400627\n",
      "Section 273 Finished percentage: 59.620812\n",
      "Section 323 Finished percentage: 92.361688\n",
      "Section 319 Finished percentage: 63.866023\n",
      "Section 314 Finished percentage: 73.681108\n",
      "Section 298 Finished percentage: 10.148163\n",
      "Result saved.\n",
      "Section 278 Finished percentage: 61.809472\n",
      "Section 309 Finished percentage: 91.985037\n",
      "Section 283 Finished percentage: 24.825189\n",
      "Section 336 Finished percentage: 0.000000\n",
      "Section 288 Finished percentage: 58.190282\n",
      "Section 293 Finished percentage: 13.500743\n",
      "Section 331 Finished percentage: 91.467398\n",
      "Section 328 Finished percentage: 25.723473\n",
      "Result saved.\n",
      "Section 268 Finished percentage: 79.548166\n",
      "Section 263 Finished percentage: 73.351427\n",
      "Section 319 Finished percentage: 70.962248\n",
      "Section 273 Finished percentage: 63.595532\n",
      "Section 309 Finished percentage: 98.117373\n",
      "Section 336 Finished percentage: 29.214140\n",
      "Warrning: Scaned section(s) not included in input im_blob_prop\n",
      "Section 325 Finished percentage: 0.000000\n",
      "Section 314 Finished percentage: 81.049219\n",
      "Result saved.\n",
      "Section 298 Finished percentage: 15.222245\n",
      "Section 278 Finished percentage: 65.672564\n",
      "rm -rf /shared/CSHL_cells_v2/detected_cells/MD589/MD589-IHC63-2015.07.31-01.43.31_MD589_2_0188/MD589-IHC63-2015.07.31-01.43.31_MD589_2_0188_blobCoords.hdf && mkdir -p /shared/CSHL_cells_v2/detected_cells/MD589/MD589-IHC63-2015.07.31-01.43.31_MD589_2_0188\n"
     ]
    },
    {
     "name": "stderr",
     "output_type": "stream",
     "text": [
      "Child returned 0\n"
     ]
    },
    {
     "name": "stdout",
     "output_type": "stream",
     "text": [
      "aws s3 cp s3://mousebrainatlas-data/CSHL_cells_v2/detected_cells/MD589/MD589-IHC63-2015.07.31-01.43.31_MD589_2_0188/MD589-IHC63-2015.07.31-01.43.31_MD589_2_0188_blobCoords.hdf /shared/CSHL_cells_v2/detected_cells/MD589/MD589-IHC63-2015.07.31-01.43.31_MD589_2_0188/MD589-IHC63-2015.07.31-01.43.31_MD589_2_0188_blobCoords.hdf\n",
      "Section 283 Finished percentage: 28.962721\n"
     ]
    },
    {
     "name": "stderr",
     "output_type": "stream",
     "text": [
      "Child returned 0\n",
      "1.92 seconds.\n"
     ]
    },
    {
     "name": "stdout",
     "output_type": "stream",
     "text": [
      "Section 288 Finished percentage: 62.346731\n",
      "Section 325 Finished percentage: 8.940545\n",
      "Section 328 Finished percentage: 38.585209\n",
      "Section 293 Finished percentage: 18.000990\n",
      "Section 268 Finished percentage: 83.525575\n",
      "Section 336 Finished percentage: 58.428279\n",
      "Section 325 Finished percentage: 17.881091\n",
      "Section 273 Finished percentage: 67.570253\n",
      "Section 314 Finished percentage: 88.417330\n",
      "Section 263 Finished percentage: 77.018998\n",
      "Section 319 Finished percentage: 78.058473\n",
      "Section 332 Finished percentage: 0.000000\n",
      "Section 278 Finished percentage: 69.535656\n",
      "Section 325 Finished percentage: 26.821636\n",
      "Section 328 Finished percentage: 51.446945\n",
      "Section 298 Finished percentage: 20.296326\n",
      "Section 283 Finished percentage: 33.100252\n",
      "Section 336 Finished percentage: 87.642419\n",
      "Section 288 Finished percentage: 66.503180\n",
      "Result saved.\n",
      "Section 325 Finished percentage: 35.762181\n",
      "Section 268 Finished percentage: 87.502983\n",
      "Section 293 Finished percentage: 22.501238\n",
      "Section 314 Finished percentage: 95.785441\n",
      "Section 341 Finished percentage: 0.000000\n",
      "Section 273 Finished percentage: 71.544974\n",
      "Section 319 Finished percentage: 85.154698\n",
      "Section 332 Finished percentage: 19.677292\n",
      "Section 325 Finished percentage: 44.702727\n",
      "Section 263 Finished percentage: 80.686569\n",
      "Result saved.\n",
      "Section 328 Finished percentage: 64.308682\n",
      "Section 278 Finished percentage: 73.398748\n",
      "rm -rf /shared/CSHL_cells_v2/detected_cells/MD589/MD589-N64-2015.07.30-20.27.19_MD589_2_0191/MD589-N64-2015.07.30-20.27.19_MD589_2_0191_blobCoords.hdf && mkdir -p /shared/CSHL_cells_v2/detected_cells/MD589/MD589-N64-2015.07.30-20.27.19_MD589_2_0191\n"
     ]
    },
    {
     "name": "stderr",
     "output_type": "stream",
     "text": [
      "Child returned 0\n"
     ]
    },
    {
     "name": "stdout",
     "output_type": "stream",
     "text": [
      "aws s3 cp s3://mousebrainatlas-data/CSHL_cells_v2/detected_cells/MD589/MD589-N64-2015.07.30-20.27.19_MD589_2_0191/MD589-N64-2015.07.30-20.27.19_MD589_2_0191_blobCoords.hdf /shared/CSHL_cells_v2/detected_cells/MD589/MD589-N64-2015.07.30-20.27.19_MD589_2_0191/MD589-N64-2015.07.30-20.27.19_MD589_2_0191_blobCoords.hdf\n",
      "Section 341 Finished percentage: 31.456433\n"
     ]
    },
    {
     "name": "stderr",
     "output_type": "stream",
     "text": [
      "Child returned 0\n",
      "1.89 seconds.\n"
     ]
    },
    {
     "name": "stdout",
     "output_type": "stream",
     "text": [
      "Section 325 Finished percentage: 53.643272\n",
      "Section 283 Finished percentage: 37.237784\n",
      "Section 298 Finished percentage: 25.370408\n",
      "Section 288 Finished percentage: 70.659628\n",
      "Section 337 Finished percentage: 0.000000\n",
      "Section 268 Finished percentage: 91.480391\n",
      "Section 319 Finished percentage: 92.250923\n",
      "Section 325 Finished percentage: 62.583818\n",
      "Section 273 Finished percentage: 75.519695\n",
      "Section 332 Finished percentage: 39.354585\n",
      "Section 293 Finished percentage: 27.001485\n",
      "Section 341 Finished percentage: 62.912866\n",
      "Section 328 Finished percentage: 77.170418\n",
      "Section 263 Finished percentage: 84.354141\n",
      "Section 337 Finished percentage: 25.866529\n",
      "Section 325 Finished percentage: 71.524363\n",
      "Section 278 Finished percentage: 77.261840\n",
      "Section 341 Finished percentage: 94.369299\n",
      "Result saved.\n",
      "Section 319 Finished percentage: 99.347147\n",
      "Result saved.\n",
      "Section 288 Finished percentage: 74.816077\n",
      "Section 298 Finished percentage: 30.444490\n",
      "Section 346 Finished percentage: 0.000000\n",
      "Section 283 Finished percentage: 41.375315\n",
      "Section 268 Finished percentage: 95.457800\n",
      "Section 325 Finished percentage: 80.464908\n",
      "Section 337 Finished percentage: 51.733057\n",
      "Section 332 Finished percentage: 59.031877\n",
      "Section 328 Finished percentage: 90.032154\n",
      "Section 273 Finished percentage: 79.494416\n",
      "rm -rf /shared/CSHL_cells_v2/detected_cells/MD589/MD589-IHC65-2015.07.31-01.51.22_MD589_1_0193/MD589-IHC65-2015.07.31-01.51.22_MD589_1_0193_blobCoords.hdf && mkdir -p /shared/CSHL_cells_v2/detected_cells/MD589/MD589-IHC65-2015.07.31-01.51.22_MD589_1_0193\n"
     ]
    },
    {
     "name": "stderr",
     "output_type": "stream",
     "text": [
      "Child returned 0\n"
     ]
    },
    {
     "name": "stdout",
     "output_type": "stream",
     "text": [
      "aws s3 cp s3://mousebrainatlas-data/CSHL_cells_v2/detected_cells/MD589/MD589-IHC65-2015.07.31-01.51.22_MD589_1_0193/MD589-IHC65-2015.07.31-01.51.22_MD589_1_0193_blobCoords.hdf /shared/CSHL_cells_v2/detected_cells/MD589/MD589-IHC65-2015.07.31-01.51.22_MD589_1_0193/MD589-IHC65-2015.07.31-01.51.22_MD589_1_0193_blobCoords.hdf\n",
      "Section 293 Finished percentage: 31.501733\n"
     ]
    },
    {
     "name": "stderr",
     "output_type": "stream",
     "text": [
      "Child returned 0\n",
      "1.98 seconds.\n"
     ]
    },
    {
     "name": "stdout",
     "output_type": "stream",
     "text": [
      "Section 325 Finished percentage: 89.405454\n",
      "Section 263 Finished percentage: 88.021712\n",
      "Section 325 Finished percentage: 98.345999\n",
      "Result saved.\n",
      "Result saved.\n",
      "Section 337 Finished percentage: 77.599586\n",
      "Section 278 Finished percentage: 81.124932\n",
      "Section 268 Finished percentage: 99.435208\n",
      "Section 288 Finished percentage: 78.972526\n",
      "Section 346 Finished percentage: 27.870680\n",
      "Section 342 Finished percentage: 0.000000\n",
      "Section 283 Finished percentage: 45.512847\n",
      "Result saved.\n",
      "Section 332 Finished percentage: 78.709170\n",
      "Result saved.\n",
      "Section 298 Finished percentage: 35.518571\n",
      "rm -rf /shared/CSHL_cells_v2/detected_cells/MD589/MD589-N67-2015.07.30-20.39.13_MD589_2_0200/MD589-N67-2015.07.30-20.39.13_MD589_2_0200_blobCoords.hdf && mkdir -p /shared/CSHL_cells_v2/detected_cells/MD589/MD589-N67-2015.07.30-20.39.13_MD589_2_0200\n"
     ]
    },
    {
     "name": "stderr",
     "output_type": "stream",
     "text": [
      "Warning: missing section 324Warning: missing section 324Child returned 0\n"
     ]
    },
    {
     "name": "stdout",
     "output_type": "stream",
     "text": [
      "aws s3 cp s3://mousebrainatlas-data/CSHL_cells_v2/detected_cells/MD589/MD589-N67-2015.07.30-20.39.13_MD589_2_0200/MD589-N67-2015.07.30-20.39.13_MD589_2_0200_blobCoords.hdf /shared/CSHL_cells_v2/detected_cells/MD589/MD589-N67-2015.07.30-20.39.13_MD589_2_0200/MD589-N67-2015.07.30-20.39.13_MD589_2_0200_blobCoords.hdf\n"
     ]
    },
    {
     "name": "stderr",
     "output_type": "stream",
     "text": [
      "Child returned 0\n",
      "2.12 seconds.\n"
     ]
    },
    {
     "name": "stdout",
     "output_type": "stream",
     "text": [
      "Section 351 Finished percentage: 0.000000\n",
      "Section 273 Finished percentage: 83.469136\n",
      "Section 293 Finished percentage: 36.001980\n",
      "Section 332 Finished percentage: 98.386462\n",
      "rm -rf /shared/CSHL_cells_v2/detected_cells/MD589/MD589-IHC67-2015.07.31-01.59.20_MD589_2_0200/MD589-IHC67-2015.07.31-01.59.20_MD589_2_0200_blobCoords.hdf && mkdir -p /shared/CSHL_cells_v2/detected_cells/MD589/MD589-IHC67-2015.07.31-01.59.20_MD589_2_0200\n",
      "Result saved.\n"
     ]
    },
    {
     "name": "stderr",
     "output_type": "stream",
     "text": [
      "Child returned 0\n"
     ]
    },
    {
     "name": "stdout",
     "output_type": "stream",
     "text": [
      "aws s3 cp s3://mousebrainatlas-data/CSHL_cells_v2/detected_cells/MD589/MD589-IHC67-2015.07.31-01.59.20_MD589_2_0200/MD589-IHC67-2015.07.31-01.59.20_MD589_2_0200_blobCoords.hdf /shared/CSHL_cells_v2/detected_cells/MD589/MD589-IHC67-2015.07.31-01.59.20_MD589_2_0200/MD589-IHC67-2015.07.31-01.59.20_MD589_2_0200_blobCoords.hdf\n",
      "rm -rf /shared/CSHL_cells_v2/detected_cells/MD589/MD589-IHC64-2015.07.31-01.47.28_MD589_2_0191/MD589-IHC64-2015.07.31-01.47.28_MD589_2_0191_blobCoords.hdf && mkdir -p /shared/CSHL_cells_v2/detected_cells/MD589/MD589-IHC64-2015.07.31-01.47.28_MD589_2_0191\n"
     ]
    },
    {
     "name": "stderr",
     "output_type": "stream",
     "text": [
      "Child returned 0\n"
     ]
    },
    {
     "name": "stdout",
     "output_type": "stream",
     "text": [
      "aws s3 cp s3://mousebrainatlas-data/CSHL_cells_v2/detected_cells/MD589/MD589-IHC64-2015.07.31-01.47.28_MD589_2_0191/MD589-IHC64-2015.07.31-01.47.28_MD589_2_0191_blobCoords.hdf /shared/CSHL_cells_v2/detected_cells/MD589/MD589-IHC64-2015.07.31-01.47.28_MD589_2_0191/MD589-IHC64-2015.07.31-01.47.28_MD589_2_0191_blobCoords.hdf\n",
      "Section 263 Finished percentage: 91.689283\n",
      "Section 346 Finished percentage: 55.741360\n",
      "Section 342 Finished percentage: 32.808399\n"
     ]
    },
    {
     "name": "stderr",
     "output_type": "stream",
     "text": [
      "Child returned 0\n",
      "2.66 seconds.\n"
     ]
    },
    {
     "name": "stdout",
     "output_type": "stream",
     "text": [
      "Section 329 Finished percentage: 0.000000\n"
     ]
    },
    {
     "name": "stderr",
     "output_type": "stream",
     "text": [
      "Child returned 0\n",
      "2.11 seconds.\n"
     ]
    },
    {
     "name": "stdout",
     "output_type": "stream",
     "text": [
      "Section 278 Finished percentage: 84.988024\n",
      "Section 288 Finished percentage: 83.128975\n",
      "Section 283 Finished percentage: 49.650379\n",
      "Section 298 Finished percentage: 40.592653\n",
      "Section 351 Finished percentage: 22.291574\n",
      "Section 346 Finished percentage: 83.612040\n",
      "Section 273 Finished percentage: 87.443857\n",
      "Section 329 Finished percentage: 12.763242\n",
      "Section 356 Finished percentage: 0.000000\n",
      "Result saved.\n",
      "Section 338 Finished percentage: 0.000000\n",
      "Section 342 Finished percentage: 65.616798\n",
      "rm -rf /shared/CSHL_cells_v2/detected_cells/MD589/MD589-N63-2015.07.30-20.23.12_MD589_3_0189/MD589-N63-2015.07.30-20.23.12_MD589_3_0189_blobCoords.hdf && mkdir -p /shared/CSHL_cells_v2/detected_cells/MD589/MD589-N63-2015.07.30-20.23.12_MD589_3_0189\n"
     ]
    },
    {
     "name": "stderr",
     "output_type": "stream",
     "text": [
      "Child returned 0\n"
     ]
    },
    {
     "name": "stdout",
     "output_type": "stream",
     "text": [
      "aws s3 cp s3://mousebrainatlas-data/CSHL_cells_v2/detected_cells/MD589/MD589-N63-2015.07.30-20.23.12_MD589_3_0189/MD589-N63-2015.07.30-20.23.12_MD589_3_0189_blobCoords.hdf /shared/CSHL_cells_v2/detected_cells/MD589/MD589-N63-2015.07.30-20.23.12_MD589_3_0189/MD589-N63-2015.07.30-20.23.12_MD589_3_0189_blobCoords.hdf\n",
      "Section 361 Finished percentage: 0.000000\n",
      "Section 293 Finished percentage: 40.502228\n",
      "Section 263 Finished percentage: 95.356855\n"
     ]
    },
    {
     "name": "stderr",
     "output_type": "stream",
     "text": [
      "Child returned 0\n",
      "2.49 seconds.\n"
     ]
    },
    {
     "name": "stdout",
     "output_type": "stream",
     "text": [
      "Section 278 Finished percentage: 88.851116\n",
      "Section 288 Finished percentage: 87.285423\n",
      "Section 283 Finished percentage: 53.787910\n",
      "Section 351 Finished percentage: 44.583148\n",
      "Section 298 Finished percentage: 45.666734\n",
      "Section 342 Finished percentage: 98.425197\n",
      "Result saved.\n",
      "rm -rf /shared/CSHL_cells_v2/detected_cells/MD589/MD589-N66-2015.07.30-20.35.16_MD589_1_0196/MD589-N66-2015.07.30-20.35.16_MD589_1_0196_blobCoords.hdf && mkdir -p /shared/CSHL_cells_v2/detected_cells/MD589/MD589-N66-2015.07.30-20.35.16_MD589_1_0196\n"
     ]
    },
    {
     "name": "stderr",
     "output_type": "stream",
     "text": [
      "Child returned 0\n"
     ]
    },
    {
     "name": "stdout",
     "output_type": "stream",
     "text": [
      "aws s3 cp s3://mousebrainatlas-data/CSHL_cells_v2/detected_cells/MD589/MD589-N66-2015.07.30-20.35.16_MD589_1_0196/MD589-N66-2015.07.30-20.35.16_MD589_1_0196_blobCoords.hdf /shared/CSHL_cells_v2/detected_cells/MD589/MD589-N66-2015.07.30-20.35.16_MD589_1_0196/MD589-N66-2015.07.30-20.35.16_MD589_1_0196_blobCoords.hdf\n",
      "Section 333 Finished percentage: 0.000000\n",
      "Section 329 Finished percentage: 25.526484\n"
     ]
    },
    {
     "name": "stderr",
     "output_type": "stream",
     "text": [
      "Child returned 0\n",
      "2.09 seconds.\n"
     ]
    },
    {
     "name": "stdout",
     "output_type": "stream",
     "text": [
      "Section 338 Finished percentage: 39.184953\n",
      "Section 356 Finished percentage: 19.766752\n",
      "Section 273 Finished percentage: 91.418578\n",
      "Section 361 Finished percentage: 24.881811\n",
      "Section 263 Finished percentage: 99.024426\n",
      "Section 293 Finished percentage: 45.002475\n",
      "Section 347 Finished percentage: 0.000000\n",
      "rm -rf /shared/CSHL_cells_v2/detected_cells/MD589/MD589-N65-2015.07.30-20.31.20_MD589_2_0194/MD589-N65-2015.07.30-20.31.20_MD589_2_0194_blobCoords.hdf && mkdir -p /shared/CSHL_cells_v2/detected_cells/MD589/MD589-N65-2015.07.30-20.31.20_MD589_2_0194\n"
     ]
    },
    {
     "name": "stderr",
     "output_type": "stream",
     "text": [
      "Child returned 0\n"
     ]
    },
    {
     "name": "stdout",
     "output_type": "stream",
     "text": [
      "aws s3 cp s3://mousebrainatlas-data/CSHL_cells_v2/detected_cells/MD589/MD589-N65-2015.07.30-20.31.20_MD589_2_0194/MD589-N65-2015.07.30-20.31.20_MD589_2_0194_blobCoords.hdf /shared/CSHL_cells_v2/detected_cells/MD589/MD589-N65-2015.07.30-20.31.20_MD589_2_0194/MD589-N65-2015.07.30-20.31.20_MD589_2_0194_blobCoords.hdf\n",
      "Result saved.\n",
      "Section 278 Finished percentage: 92.714208\n",
      "Section 333 Finished percentage: 18.175209\n",
      "Section 351 Finished percentage: 66.874721\n"
     ]
    },
    {
     "name": "stderr",
     "output_type": "stream",
     "text": [
      "Child returned 0\n",
      "1.84 seconds.\n"
     ]
    },
    {
     "name": "stdout",
     "output_type": "stream",
     "text": [
      "Section 283 Finished percentage: 57.925442\n",
      "Section 288 Finished percentage: 91.441872\n",
      "Section 338 Finished percentage: 78.369906\n",
      "Section 329 Finished percentage: 38.289726\n",
      "Section 298 Finished percentage: 50.740816\n",
      "Section 343 Finished percentage: 0.000000\n",
      "Result saved.\n",
      "Section 273 Finished percentage: 95.393299\n",
      "Section 356 Finished percentage: 39.533505\n",
      "Section 333 Finished percentage: 36.350418\n",
      "Section 361 Finished percentage: 49.763623\n",
      "Section 347 Finished percentage: 23.900574\n",
      "Section 351 Finished percentage: 89.166295\n",
      "Section 293 Finished percentage: 49.502723\n",
      "Section 278 Finished percentage: 96.577300\n",
      "Section 329 Finished percentage: 51.052967\n",
      "Result saved.\n",
      "Section 288 Finished percentage: 95.598321\n",
      "Section 343 Finished percentage: 24.378352\n",
      "Section 366 Finished percentage: 0.000000\n",
      "Section 283 Finished percentage: 62.062973\n",
      "Section 298 Finished percentage: 55.814898\n",
      "Section 273 Finished percentage: 99.368019\n",
      "Section 333 Finished percentage: 54.525627\n",
      "Result saved.\n",
      "Section 339 Finished percentage: 0.000000\n",
      "Section 356 Finished percentage: 59.300257\n",
      "rm -rf /shared/CSHL_cells_v2/detected_cells/MD589/MD589-IHC66-2015.07.31-01.55.14_MD589_3_0198/MD589-IHC66-2015.07.31-01.55.14_MD589_3_0198_blobCoords.hdf && mkdir -p /shared/CSHL_cells_v2/detected_cells/MD589/MD589-IHC66-2015.07.31-01.55.14_MD589_3_0198\n"
     ]
    },
    {
     "name": "stderr",
     "output_type": "stream",
     "text": [
      "Child returned 0\n"
     ]
    },
    {
     "name": "stdout",
     "output_type": "stream",
     "text": [
      "aws s3 cp s3://mousebrainatlas-data/CSHL_cells_v2/detected_cells/MD589/MD589-IHC66-2015.07.31-01.55.14_MD589_3_0198/MD589-IHC66-2015.07.31-01.55.14_MD589_3_0198_blobCoords.hdf /shared/CSHL_cells_v2/detected_cells/MD589/MD589-IHC66-2015.07.31-01.55.14_MD589_3_0198/MD589-IHC66-2015.07.31-01.55.14_MD589_3_0198_blobCoords.hdf\n",
      "Section 347 Finished percentage: 47.801147\n",
      "Section 329 Finished percentage: 63.816209\n"
     ]
    },
    {
     "name": "stderr",
     "output_type": "stream",
     "text": [
      "Child returned 0\n",
      "2.08 seconds.\n"
     ]
    },
    {
     "name": "stdout",
     "output_type": "stream",
     "text": [
      "Section 361 Finished percentage: 74.645434\n",
      "Result saved.\n",
      "Section 288 Finished percentage: 99.754770\n",
      "Section 293 Finished percentage: 54.002970\n",
      "Result saved.\n",
      "Section 343 Finished percentage: 48.756704\n",
      "Section 333 Finished percentage: 72.700836\n",
      "Section 352 Finished percentage: 0.000000\n",
      "Section 339 Finished percentage: 31.367629\n",
      "Section 366 Finished percentage: 25.793139\n",
      "Section 298 Finished percentage: 60.888979\n",
      "Section 283 Finished percentage: 66.200505\n",
      "Section 347 Finished percentage: 71.701721\n",
      "Section 356 Finished percentage: 79.067009\n",
      "Section 343 Finished percentage: 73.135056\n",
      "Section 329 Finished percentage: 76.579451\n",
      "Section 361 Finished percentage: 99.527246\n",
      "Result saved.\n",
      "Section 339 Finished percentage: 62.735257\n",
      "Section 333 Finished percentage: 90.876045\n",
      "Section 343 Finished percentage: 97.513408\n",
      "Result saved.\n",
      "Section 347 Finished percentage: 95.602294\n",
      "Result saved.\n",
      "Section 293 Finished percentage: 58.503218\n",
      "Result saved.\n",
      "Section 339 Finished percentage: 94.102886\n",
      "Result saved.\n",
      "Section 352 Finished percentage: 20.907380\n",
      "rm -rf /shared/CSHL_cells_v2/detected_cells/MD589/MD589-IHC68-2015.07.31-02.03.18_MD589_2_0203/MD589-IHC68-2015.07.31-02.03.18_MD589_2_0203_blobCoords.hdf && mkdir -p /shared/CSHL_cells_v2/detected_cells/MD589/MD589-IHC68-2015.07.31-02.03.18_MD589_2_0203\n"
     ]
    },
    {
     "name": "stderr",
     "output_type": "stream",
     "text": [
      "Child returned 0\n"
     ]
    },
    {
     "name": "stdout",
     "output_type": "stream",
     "text": [
      "aws s3 cp s3://mousebrainatlas-data/CSHL_cells_v2/detected_cells/MD589/MD589-IHC68-2015.07.31-02.03.18_MD589_2_0203/MD589-IHC68-2015.07.31-02.03.18_MD589_2_0203_blobCoords.hdf /shared/CSHL_cells_v2/detected_cells/MD589/MD589-IHC68-2015.07.31-02.03.18_MD589_2_0203/MD589-IHC68-2015.07.31-02.03.18_MD589_2_0203_blobCoords.hdf\n",
      "Section 356 Finished percentage: 98.833762\n",
      "Result saved.\n",
      "Section 298 Finished percentage: 65.963061\n",
      "Section 366 Finished percentage: 51.586278\n"
     ]
    },
    {
     "name": "stderr",
     "output_type": "stream",
     "text": [
      "Child returned 0\n",
      "2.28 seconds.\n"
     ]
    },
    {
     "name": "stdout",
     "output_type": "stream",
     "text": [
      "Section 283 Finished percentage: 70.338036\n",
      "Section 329 Finished percentage: 89.342693\n",
      "rm -rf /shared/CSHL_cells_v2/detected_cells/MD589/MD589-IHC66-2015.07.31-01.55.14_MD589_1_0196/MD589-IHC66-2015.07.31-01.55.14_MD589_1_0196_blobCoords.hdf && mkdir -p /shared/CSHL_cells_v2/detected_cells/MD589/MD589-IHC66-2015.07.31-01.55.14_MD589_1_0196\n"
     ]
    },
    {
     "name": "stderr",
     "output_type": "stream",
     "text": [
      "Child returned 0\n"
     ]
    },
    {
     "name": "stdout",
     "output_type": "stream",
     "text": [
      "aws s3 cp s3://mousebrainatlas-data/CSHL_cells_v2/detected_cells/MD589/MD589-IHC66-2015.07.31-01.55.14_MD589_1_0196/MD589-IHC66-2015.07.31-01.55.14_MD589_1_0196_blobCoords.hdf /shared/CSHL_cells_v2/detected_cells/MD589/MD589-IHC66-2015.07.31-01.55.14_MD589_1_0196/MD589-IHC66-2015.07.31-01.55.14_MD589_1_0196_blobCoords.hdf\n"
     ]
    },
    {
     "name": "stderr",
     "output_type": "stream",
     "text": [
      "Child returned 0\n",
      "2.13 seconds.\n"
     ]
    },
    {
     "name": "stdout",
     "output_type": "stream",
     "text": [
      "Section 344 Finished percentage: 0.000000\n",
      "Section 362 Finished percentage: 0.000000\n",
      "Section 334 Finished percentage: 0.000000\n",
      "Result saved.\n",
      "rm -rf /shared/CSHL_cells_v2/detected_cells/MD589/MD589-N67-2015.07.30-20.39.13_MD589_3_0201/MD589-N67-2015.07.30-20.39.13_MD589_3_0201_blobCoords.hdf && mkdir -p /shared/CSHL_cells_v2/detected_cells/MD589/MD589-N67-2015.07.30-20.39.13_MD589_3_0201\n"
     ]
    },
    {
     "name": "stderr",
     "output_type": "stream",
     "text": [
      "Child returned 0\n"
     ]
    },
    {
     "name": "stdout",
     "output_type": "stream",
     "text": [
      "aws s3 cp s3://mousebrainatlas-data/CSHL_cells_v2/detected_cells/MD589/MD589-N67-2015.07.30-20.39.13_MD589_3_0201/MD589-N67-2015.07.30-20.39.13_MD589_3_0201_blobCoords.hdf /shared/CSHL_cells_v2/detected_cells/MD589/MD589-N67-2015.07.30-20.39.13_MD589_3_0201/MD589-N67-2015.07.30-20.39.13_MD589_3_0201_blobCoords.hdf\n",
      "Section 340 Finished percentage: 0.000000\n"
     ]
    },
    {
     "name": "stderr",
     "output_type": "stream",
     "text": [
      "Child returned 0\n",
      "1.89 seconds.\n"
     ]
    },
    {
     "name": "stdout",
     "output_type": "stream",
     "text": [
      "Section 348 Finished percentage: 0.000000\n",
      "Section 293 Finished percentage: 63.003465\n",
      "Section 366 Finished percentage: 77.379417\n",
      "Section 352 Finished percentage: 41.814761\n",
      "Section 357 Finished percentage: 0.000000\n",
      "Section 298 Finished percentage: 71.037142\n",
      "Section 283 Finished percentage: 74.475568\n",
      "Section 334 Finished percentage: 27.181299\n",
      "Section 362 Finished percentage: 24.931439\n",
      "Section 344 Finished percentage: 29.078220\n",
      "Section 340 Finished percentage: 48.285852\n",
      "Section 330 Finished percentage: 0.000000\n",
      "Result saved.\n",
      "Section 348 Finished percentage: 25.614754\n",
      "Section 352 Finished percentage: 62.722141\n",
      "Section 293 Finished percentage: 67.503713\n",
      "rm -rf /shared/CSHL_cells_v2/detected_cells/MD589/MD589-N69-2015.07.30-20.46.59_MD589_2_0206/MD589-N69-2015.07.30-20.46.59_MD589_2_0206_blobCoords.hdf && mkdir -p /shared/CSHL_cells_v2/detected_cells/MD589/MD589-N69-2015.07.30-20.46.59_MD589_2_0206\n"
     ]
    },
    {
     "name": "stderr",
     "output_type": "stream",
     "text": [
      "Child returned 0\n"
     ]
    },
    {
     "name": "stdout",
     "output_type": "stream",
     "text": [
      "aws s3 cp s3://mousebrainatlas-data/CSHL_cells_v2/detected_cells/MD589/MD589-N69-2015.07.30-20.46.59_MD589_2_0206/MD589-N69-2015.07.30-20.46.59_MD589_2_0206_blobCoords.hdf /shared/CSHL_cells_v2/detected_cells/MD589/MD589-N69-2015.07.30-20.46.59_MD589_2_0206/MD589-N69-2015.07.30-20.46.59_MD589_2_0206_blobCoords.hdf\n",
      "Section 362 Finished percentage: 49.862877\n",
      "Section 334 Finished percentage: 54.362599\n",
      "Section 340 Finished percentage: 96.571704\n",
      "Section 357 Finished percentage: 21.034918\n",
      "Result saved.\n",
      "Section 283 Finished percentage: 78.613099\n",
      "Section 344 Finished percentage: 58.156441\n",
      "Section 298 Finished percentage: 76.111224\n",
      "Section 330 Finished percentage: 14.188422\n"
     ]
    },
    {
     "name": "stderr",
     "output_type": "stream",
     "text": [
      "Child returned 0\n",
      "2.03 seconds.\n"
     ]
    },
    {
     "name": "stdout",
     "output_type": "stream",
     "text": [
      "Section 352 Finished percentage: 83.629521\n",
      "Section 348 Finished percentage: 51.229508\n",
      "Section 367 Finished percentage: 0.000000\n",
      "Section 344 Finished percentage: 87.234661\n",
      "Section 334 Finished percentage: 81.543898\n",
      "Result saved.\n",
      "Section 330 Finished percentage: 28.376844\n",
      "Result saved.\n",
      "Section 298 Finished percentage: 81.185305\n",
      "Section 357 Finished percentage: 42.069836\n",
      "Section 362 Finished percentage: 74.794316\n",
      "Result saved.\n",
      "Section 293 Finished percentage: 72.003960\n",
      "Section 283 Finished percentage: 82.750631\n",
      "Section 348 Finished percentage: 76.844262\n",
      "Section 367 Finished percentage: 28.184893\n",
      "rm -rf /shared/CSHL_cells_v2/detected_cells/MD589/MD589-N67-2015.07.30-20.39.13_MD589_1_0199/MD589-N67-2015.07.30-20.39.13_MD589_1_0199_blobCoords.hdf && mkdir -p /shared/CSHL_cells_v2/detected_cells/MD589/MD589-N67-2015.07.30-20.39.13_MD589_1_0199\n"
     ]
    },
    {
     "name": "stderr",
     "output_type": "stream",
     "text": [
      "Child returned 0\n"
     ]
    },
    {
     "name": "stdout",
     "output_type": "stream",
     "text": [
      "aws s3 cp s3://mousebrainatlas-data/CSHL_cells_v2/detected_cells/MD589/MD589-N67-2015.07.30-20.39.13_MD589_1_0199/MD589-N67-2015.07.30-20.39.13_MD589_1_0199_blobCoords.hdf /shared/CSHL_cells_v2/detected_cells/MD589/MD589-N67-2015.07.30-20.39.13_MD589_1_0199/MD589-N67-2015.07.30-20.39.13_MD589_1_0199_blobCoords.hdf\n"
     ]
    },
    {
     "name": "stderr",
     "output_type": "stream",
     "text": [
      "Child returned 0\n",
      "2.08 seconds.\n"
     ]
    },
    {
     "name": "stdout",
     "output_type": "stream",
     "text": [
      "Section 330 Finished percentage: 42.565267\n",
      "Section 345 Finished percentage: 0.000000\n",
      "Result saved.\n",
      "Section 362 Finished percentage: 99.725754\n",
      "Section 353 Finished percentage: 0.000000\n",
      "Result saved.\n",
      "Section 298 Finished percentage: 86.259387\n",
      "Section 335 Finished percentage: 0.000000\n",
      "Section 283 Finished percentage: 86.888163\n",
      "Section 357 Finished percentage: 63.104754\n",
      "Section 293 Finished percentage: 76.504208\n",
      "Section 330 Finished percentage: 56.753689\n",
      "rm -rf /shared/CSHL_cells_v2/detected_cells/MD589/MD589-N68-2015.07.30-20.43.04_MD589_3_0204/MD589-N68-2015.07.30-20.43.04_MD589_3_0204_blobCoords.hdf && mkdir -p /shared/CSHL_cells_v2/detected_cells/MD589/MD589-N68-2015.07.30-20.43.04_MD589_3_0204\n"
     ]
    },
    {
     "name": "stderr",
     "output_type": "stream",
     "text": [
      "Child returned 0\n"
     ]
    },
    {
     "name": "stdout",
     "output_type": "stream",
     "text": [
      "aws s3 cp s3://mousebrainatlas-data/CSHL_cells_v2/detected_cells/MD589/MD589-N68-2015.07.30-20.43.04_MD589_3_0204/MD589-N68-2015.07.30-20.43.04_MD589_3_0204_blobCoords.hdf /shared/CSHL_cells_v2/detected_cells/MD589/MD589-N68-2015.07.30-20.43.04_MD589_3_0204/MD589-N68-2015.07.30-20.43.04_MD589_3_0204_blobCoords.hdf\n",
      "Section 367 Finished percentage: 56.369786\n",
      "Section 345 Finished percentage: 26.968716\n"
     ]
    },
    {
     "name": "stderr",
     "output_type": "stream",
     "text": [
      "Child returned 0\n",
      "2.02 seconds.\n"
     ]
    },
    {
     "name": "stdout",
     "output_type": "stream",
     "text": [
      "Section 349 Finished percentage: 0.000000\n",
      "Section 335 Finished percentage: 26.434047\n",
      "Section 353 Finished percentage: 20.132877\n",
      "Section 363 Finished percentage: 0.000000\n",
      "Section 298 Finished percentage: 91.333469\n",
      "Section 357 Finished percentage: 84.139672\n",
      "Section 283 Finished percentage: 91.025694\n",
      "Section 335 Finished percentage: 52.868094\n",
      "Section 345 Finished percentage: 53.937433\n",
      "Section 293 Finished percentage: 81.004455\n",
      "Section 367 Finished percentage: 84.554679\n",
      "Section 330 Finished percentage: 70.942111\n",
      "Result saved.\n",
      "Section 349 Finished percentage: 22.893773\n",
      "Section 353 Finished percentage: 40.265754\n",
      "Section 298 Finished percentage: 96.407550\n",
      "Section 363 Finished percentage: 25.201613\n",
      "Section 345 Finished percentage: 80.906149\n",
      "Result saved.\n",
      "Section 335 Finished percentage: 79.302141\n",
      "Section 283 Finished percentage: 95.163226\n",
      "rm -rf /shared/CSHL_cells_v2/detected_cells/MD589/MD589-IHC67-2015.07.31-01.59.20_MD589_3_0201/MD589-IHC67-2015.07.31-01.59.20_MD589_3_0201_blobCoords.hdf && mkdir -p /shared/CSHL_cells_v2/detected_cells/MD589/MD589-IHC67-2015.07.31-01.59.20_MD589_3_0201\n"
     ]
    },
    {
     "name": "stderr",
     "output_type": "stream",
     "text": [
      "Child returned 0\n"
     ]
    },
    {
     "name": "stdout",
     "output_type": "stream",
     "text": [
      "aws s3 cp s3://mousebrainatlas-data/CSHL_cells_v2/detected_cells/MD589/MD589-IHC67-2015.07.31-01.59.20_MD589_3_0201/MD589-IHC67-2015.07.31-01.59.20_MD589_3_0201_blobCoords.hdf /shared/CSHL_cells_v2/detected_cells/MD589/MD589-IHC67-2015.07.31-01.59.20_MD589_3_0201/MD589-IHC67-2015.07.31-01.59.20_MD589_3_0201_blobCoords.hdf\n",
      "Result saved.\n"
     ]
    },
    {
     "name": "stderr",
     "output_type": "stream",
     "text": [
      "Child returned 0\n",
      "2.02 seconds.\n"
     ]
    },
    {
     "name": "stdout",
     "output_type": "stream",
     "text": [
      "Result saved.\n",
      "Result saved.\n",
      "Section 330 Finished percentage: 85.130533\n",
      "rm -rf /shared/CSHL_cells_v2/detected_cells/MD589/MD589-IHC69-2015.07.31-02.07.15_MD589_2_0206/MD589-IHC69-2015.07.31-02.07.15_MD589_2_0206_blobCoords.hdf && mkdir -p /shared/CSHL_cells_v2/detected_cells/MD589/MD589-IHC69-2015.07.31-02.07.15_MD589_2_0206\n"
     ]
    },
    {
     "name": "stderr",
     "output_type": "stream",
     "text": [
      "Child returned 0\n"
     ]
    },
    {
     "name": "stdout",
     "output_type": "stream",
     "text": [
      "aws s3 cp s3://mousebrainatlas-data/CSHL_cells_v2/detected_cells/MD589/MD589-IHC69-2015.07.31-02.07.15_MD589_2_0206/MD589-IHC69-2015.07.31-02.07.15_MD589_2_0206_blobCoords.hdf /shared/CSHL_cells_v2/detected_cells/MD589/MD589-IHC69-2015.07.31-02.07.15_MD589_2_0206/MD589-IHC69-2015.07.31-02.07.15_MD589_2_0206_blobCoords.hdf\n",
      "Section 353 Finished percentage: 60.398631\n",
      "Section 293 Finished percentage: 85.504703\n",
      "Section 358 Finished percentage: 0.000000\n",
      "Section 349 Finished percentage: 45.787546\n"
     ]
    },
    {
     "name": "stderr",
     "output_type": "stream",
     "text": [
      "Child returned 0\n",
      "1.70 seconds.\n"
     ]
    },
    {
     "name": "stdout",
     "output_type": "stream",
     "text": [
      "Section 283 Finished percentage: 99.300757\n",
      "Section 368 Finished percentage: 0.000000\n",
      "Section 330 Finished percentage: 99.318956\n",
      "Result saved.\n",
      "Result saved.\n",
      "Section 363 Finished percentage: 50.403226\n",
      "Section 349 Finished percentage: 68.681319\n",
      "Section 353 Finished percentage: 80.531508\n",
      "Section 358 Finished percentage: 24.509804\n",
      "Section 293 Finished percentage: 90.004950\n",
      "Section 368 Finished percentage: 29.120559\n",
      "Section 349 Finished percentage: 91.575092\n",
      "Section 363 Finished percentage: 75.604839\n",
      "Result saved.\n",
      "Result saved.\n",
      "Section 358 Finished percentage: 49.019608\n",
      "Section 293 Finished percentage: 94.505198\n",
      "Section 368 Finished percentage: 58.241118\n",
      "Result saved.\n",
      "Section 354 Finished percentage: 0.000000\n",
      "Section 350 Finished percentage: 0.000000\n",
      "Section 358 Finished percentage: 73.529412\n",
      "Section 293 Finished percentage: 99.005445\n",
      "Section 368 Finished percentage: 87.361677\n",
      "Result saved.\n",
      "Section 364 Finished percentage: 0.000000\n",
      "Result saved.\n",
      "Section 354 Finished percentage: 18.195051\n",
      "Section 350 Finished percentage: 24.160425\n",
      "Section 358 Finished percentage: 98.039216\n",
      "Result saved.\n",
      "rm -rf /shared/CSHL_cells_v2/detected_cells/MD589/MD589-N69-2015.07.30-20.46.59_MD589_3_0207/MD589-N69-2015.07.30-20.46.59_MD589_3_0207_blobCoords.hdf && mkdir -p /shared/CSHL_cells_v2/detected_cells/MD589/MD589-N69-2015.07.30-20.46.59_MD589_3_0207\n"
     ]
    },
    {
     "name": "stderr",
     "output_type": "stream",
     "text": [
      "Child returned 0\n"
     ]
    },
    {
     "name": "stdout",
     "output_type": "stream",
     "text": [
      "aws s3 cp s3://mousebrainatlas-data/CSHL_cells_v2/detected_cells/MD589/MD589-N69-2015.07.30-20.46.59_MD589_3_0207/MD589-N69-2015.07.30-20.46.59_MD589_3_0207_blobCoords.hdf /shared/CSHL_cells_v2/detected_cells/MD589/MD589-N69-2015.07.30-20.46.59_MD589_3_0207/MD589-N69-2015.07.30-20.46.59_MD589_3_0207_blobCoords.hdf\n"
     ]
    },
    {
     "name": "stderr",
     "output_type": "stream",
     "text": [
      "Child returned 0\n",
      "1.48 seconds.\n"
     ]
    },
    {
     "name": "stdout",
     "output_type": "stream",
     "text": [
      "Section 364 Finished percentage: 25.163563\n",
      "Section 350 Finished percentage: 48.320850\n",
      "Section 369 Finished percentage: 0.000000\n",
      "Section 354 Finished percentage: 36.390102\n",
      "Section 359 Finished percentage: 0.000000\n",
      "Section 364 Finished percentage: 50.327126\n",
      "Section 350 Finished percentage: 72.481276\n",
      "Section 369 Finished percentage: 31.585597\n",
      "Section 354 Finished percentage: 54.585153\n",
      "Section 359 Finished percentage: 23.501763\n",
      "Section 350 Finished percentage: 96.641701\n",
      "Result saved.\n",
      "Section 364 Finished percentage: 75.490689\n",
      "Section 369 Finished percentage: 63.171194\n",
      "Section 354 Finished percentage: 72.780204\n",
      "Section 359 Finished percentage: 47.003525\n",
      "Result saved.\n",
      "Section 354 Finished percentage: 90.975255\n",
      "Section 369 Finished percentage: 94.756791\n",
      "Result saved.\n",
      "Result saved.\n",
      "Section 359 Finished percentage: 70.505288\n",
      "Section 365 Finished percentage: 0.000000\n",
      "Warrning: Scaned section(s) not included in input im_blob_prop\n",
      "Section 370 Finished percentage: 0.000000\n",
      "Section 370 Finished percentage: 32.722513\n",
      "Section 355 Finished percentage: 0.000000\n",
      "Section 359 Finished percentage: 94.007051\n",
      "Result saved.\n",
      "Section 365 Finished percentage: 25.516713\n",
      "Section 370 Finished percentage: 65.445026\n",
      "Section 370 Finished percentage: 98.167539\n",
      "Result saved.\n",
      "Section 355 Finished percentage: 18.057060\n",
      "Section 360 Finished percentage: 0.000000\n",
      "Section 365 Finished percentage: 51.033427\n",
      "Section 355 Finished percentage: 36.114121\n",
      "Section 360 Finished percentage: 27.700831\n",
      "Section 365 Finished percentage: 76.550140\n",
      "Section 355 Finished percentage: 54.171181\n",
      "Result saved.\n",
      "Section 360 Finished percentage: 55.401662\n",
      "Section 355 Finished percentage: 72.228241\n",
      "Section 360 Finished percentage: 83.102493\n",
      "Result saved.\n",
      "Section 355 Finished percentage: 90.285302\n",
      "Result saved.\n"
     ]
    },
    {
     "data": {
      "text/plain": [
       "[0,\n",
       " 0,\n",
       " 0,\n",
       " 0,\n",
       " 0,\n",
       " 0,\n",
       " 0,\n",
       " 0,\n",
       " 0,\n",
       " 0,\n",
       " 0,\n",
       " 0,\n",
       " 0,\n",
       " 0,\n",
       " 0,\n",
       " 0,\n",
       " 0,\n",
       " 0,\n",
       " 0,\n",
       " 0,\n",
       " 0,\n",
       " 0,\n",
       " 0,\n",
       " 0,\n",
       " 0,\n",
       " 0,\n",
       " 0,\n",
       " 0,\n",
       " 0,\n",
       " 0,\n",
       " 0,\n",
       " 0,\n",
       " 0,\n",
       " 0,\n",
       " 0,\n",
       " 0,\n",
       " 0,\n",
       " 0,\n",
       " 0,\n",
       " 0,\n",
       " 0,\n",
       " 0,\n",
       " 0,\n",
       " 0,\n",
       " 0,\n",
       " 0,\n",
       " 0,\n",
       " 0,\n",
       " 0,\n",
       " 0,\n",
       " 0,\n",
       " 0,\n",
       " 0,\n",
       " 0,\n",
       " 0,\n",
       " 0,\n",
       " 0,\n",
       " 0,\n",
       " 0,\n",
       " 0,\n",
       " 0,\n",
       " 0,\n",
       " 0,\n",
       " 0,\n",
       " 0,\n",
       " 0,\n",
       " 0,\n",
       " 0,\n",
       " 0,\n",
       " 0,\n",
       " 0,\n",
       " 0,\n",
       " 0,\n",
       " 0,\n",
       " 0,\n",
       " 0,\n",
       " 0,\n",
       " 0,\n",
       " 0,\n",
       " 0,\n",
       " 0,\n",
       " 0,\n",
       " 0,\n",
       " 0,\n",
       " 0,\n",
       " 0,\n",
       " 0,\n",
       " 0,\n",
       " 0,\n",
       " 0,\n",
       " 0,\n",
       " 0,\n",
       " 0,\n",
       " 0,\n",
       " 0,\n",
       " 0,\n",
       " 0,\n",
       " 0,\n",
       " 0,\n",
       " 0,\n",
       " 0,\n",
       " 0,\n",
       " 0,\n",
       " 0,\n",
       " 0,\n",
       " 0,\n",
       " 0,\n",
       " 0,\n",
       " 0,\n",
       " 0,\n",
       " 0,\n",
       " 0,\n",
       " 0,\n",
       " 0,\n",
       " 0,\n",
       " 0,\n",
       " 0,\n",
       " 0,\n",
       " 0,\n",
       " 0,\n",
       " 0,\n",
       " 0,\n",
       " 0,\n",
       " 0,\n",
       " 0,\n",
       " 0,\n",
       " 0,\n",
       " 0,\n",
       " 0,\n",
       " 0,\n",
       " 0,\n",
       " 0,\n",
       " 0,\n",
       " 0,\n",
       " 0,\n",
       " 0,\n",
       " 0,\n",
       " 0,\n",
       " 0,\n",
       " 0,\n",
       " 0,\n",
       " 0,\n",
       " 0,\n",
       " 0,\n",
       " 0,\n",
       " 0,\n",
       " 0,\n",
       " 0,\n",
       " 0,\n",
       " 0,\n",
       " 0,\n",
       " 0,\n",
       " 0,\n",
       " 0,\n",
       " 0,\n",
       " 0,\n",
       " 0,\n",
       " 0,\n",
       " 0,\n",
       " 0,\n",
       " 0,\n",
       " 0,\n",
       " 0,\n",
       " 0,\n",
       " 0,\n",
       " 0,\n",
       " 0,\n",
       " 0,\n",
       " 0,\n",
       " 0,\n",
       " 0,\n",
       " 0,\n",
       " 0,\n",
       " 0,\n",
       " 0,\n",
       " 0,\n",
       " 0,\n",
       " 0,\n",
       " 0,\n",
       " 0,\n",
       " 0,\n",
       " 0,\n",
       " 0,\n",
       " 0,\n",
       " 0,\n",
       " 0,\n",
       " 0,\n",
       " 0,\n",
       " 0,\n",
       " 0,\n",
       " 0,\n",
       " 0,\n",
       " 0,\n",
       " 0,\n",
       " 0,\n",
       " 0,\n",
       " 0,\n",
       " 0,\n",
       " 0,\n",
       " 0,\n",
       " 0,\n",
       " 0,\n",
       " 0,\n",
       " 0,\n",
       " 0,\n",
       " 0,\n",
       " 0,\n",
       " 0,\n",
       " 0,\n",
       " 0,\n",
       " 0,\n",
       " 0,\n",
       " 0,\n",
       " 0,\n",
       " 0,\n",
       " 0,\n",
       " 0,\n",
       " 0,\n",
       " 0,\n",
       " 0,\n",
       " 0,\n",
       " 0,\n",
       " 0,\n",
       " 0,\n",
       " 0,\n",
       " 0,\n",
       " 0,\n",
       " 0,\n",
       " 0,\n",
       " 0,\n",
       " 0,\n",
       " 0,\n",
       " 0,\n",
       " 0,\n",
       " 0,\n",
       " 0,\n",
       " 0,\n",
       " 0,\n",
       " 0,\n",
       " 0,\n",
       " 0,\n",
       " 0,\n",
       " 0,\n",
       " 0,\n",
       " 0,\n",
       " 0,\n",
       " 0,\n",
       " 0,\n",
       " 0,\n",
       " 0,\n",
       " 0,\n",
       " 0,\n",
       " 0,\n",
       " 0,\n",
       " 0,\n",
       " 0,\n",
       " 0,\n",
       " 0,\n",
       " 0,\n",
       " 0,\n",
       " 0,\n",
       " 0,\n",
       " 0,\n",
       " 0,\n",
       " 0,\n",
       " 0,\n",
       " 0,\n",
       " 0,\n",
       " 0,\n",
       " 0,\n",
       " 0,\n",
       " 0,\n",
       " 0,\n",
       " 0,\n",
       " 0]"
      ]
     },
     "execution_count": 9,
     "metadata": {},
     "output_type": "execute_result"
    }
   ],
   "source": [
    "result = Pool(NUM_CORES-1)\n",
    "result.map(lambda sec: fun_load_data_collect_typical_blobs(sec=sec, scan_parameters=scan_parameters,o_save=True), secList)"
   ]
  },
  {
   "cell_type": "code",
   "execution_count": 83,
   "metadata": {
    "collapsed": true
   },
   "outputs": [],
   "source": [
    "sec = 152"
   ]
  },
  {
   "cell_type": "code",
   "execution_count": 160,
   "metadata": {},
   "outputs": [
    {
     "data": {
      "text/plain": [
       "['Image saved',\n",
       " 'Image saved',\n",
       " 'Image saved',\n",
       " 'Image saved',\n",
       " 'Image saved',\n",
       " 'Image saved',\n",
       " 'Image saved',\n",
       " 'Image saved',\n",
       " 'Image saved',\n",
       " 'Image saved',\n",
       " 'Image saved',\n",
       " 'Image saved',\n",
       " 'Image saved',\n",
       " 'Image saved',\n",
       " 'Image saved',\n",
       " 'Image saved',\n",
       " 'Image saved',\n",
       " 'Image saved',\n",
       " 'Image saved',\n",
       " 'Image saved',\n",
       " 'Image saved',\n",
       " 'Image saved',\n",
       " 'Image saved',\n",
       " 'Image saved',\n",
       " 'Image saved',\n",
       " 'Image saved',\n",
       " 'Image saved',\n",
       " 'Image saved',\n",
       " 'Image saved',\n",
       " 'Image saved',\n",
       " 'Image saved',\n",
       " 'Image saved',\n",
       " 'Image saved',\n",
       " 'Image saved',\n",
       " 'Image saved',\n",
       " 'Image saved',\n",
       " 'Image saved',\n",
       " 'Image saved',\n",
       " 'Image saved',\n",
       " 'Image saved',\n",
       " 'Image saved',\n",
       " 'Image saved',\n",
       " 'Image saved',\n",
       " 'Image saved',\n",
       " 'Image saved',\n",
       " 'Image saved',\n",
       " 'Image saved',\n",
       " 'Image saved',\n",
       " 'Image saved',\n",
       " 'Image saved',\n",
       " 'Image saved',\n",
       " 'Image saved',\n",
       " 'Image saved',\n",
       " 'Image saved',\n",
       " 'Image saved',\n",
       " 'Image saved',\n",
       " 'Image saved',\n",
       " 'Image saved',\n",
       " 'Image saved',\n",
       " 'Image saved',\n",
       " 'Image saved',\n",
       " 'Image saved',\n",
       " 'Image saved',\n",
       " 'Image saved',\n",
       " 'Image saved',\n",
       " 'Image saved',\n",
       " 'Image saved',\n",
       " 'Image saved',\n",
       " 'Image saved',\n",
       " 'Image saved',\n",
       " 'Image saved',\n",
       " 'Image saved',\n",
       " 'Image saved',\n",
       " 'Image saved',\n",
       " 'Image saved',\n",
       " 'Image saved',\n",
       " 'Image saved',\n",
       " 'Image saved',\n",
       " 'Image saved',\n",
       " 'Image saved',\n",
       " 'Image saved',\n",
       " 'Image saved',\n",
       " 'Image saved',\n",
       " 'Image saved',\n",
       " 'Image saved',\n",
       " 'Image saved',\n",
       " 'Image saved',\n",
       " 'Image saved',\n",
       " 'Image saved',\n",
       " 'Image saved',\n",
       " 'Image saved',\n",
       " 'Image saved',\n",
       " 'Image saved',\n",
       " 'Image saved',\n",
       " 'Image saved',\n",
       " 'Image saved',\n",
       " 'Image saved',\n",
       " 'Image saved',\n",
       " 'Image saved',\n",
       " 'Image saved',\n",
       " 'Image saved',\n",
       " 'Image saved',\n",
       " 'Image saved',\n",
       " 'Image saved',\n",
       " 'Image saved',\n",
       " 'Image saved',\n",
       " 'Image saved',\n",
       " 'Image saved',\n",
       " 'Image saved',\n",
       " 'Image saved',\n",
       " 'Image saved',\n",
       " 'Image saved',\n",
       " 'Image saved',\n",
       " 'Image saved',\n",
       " 'Image saved',\n",
       " 'Image saved',\n",
       " 'Image saved',\n",
       " 'Image saved',\n",
       " 'Image saved',\n",
       " 'Image saved',\n",
       " 'Image saved',\n",
       " 'Image saved',\n",
       " 'Image saved',\n",
       " 'Image saved',\n",
       " 'Image saved',\n",
       " 'Image saved',\n",
       " 'Image saved',\n",
       " 'Image saved',\n",
       " 'Image saved',\n",
       " 'Image saved',\n",
       " 'Image saved',\n",
       " 'Image saved',\n",
       " 'Image saved',\n",
       " 'Image saved',\n",
       " 'Image saved',\n",
       " 'Image saved',\n",
       " 'Image saved',\n",
       " 'Image saved',\n",
       " 'Image saved',\n",
       " 'Image saved',\n",
       " 'Image saved',\n",
       " 'Image saved',\n",
       " 'Image saved',\n",
       " 'Image saved',\n",
       " 'Image saved',\n",
       " 'Image saved',\n",
       " 'Image saved',\n",
       " 'Image saved',\n",
       " 'Image saved',\n",
       " 'Image saved',\n",
       " 'Image saved',\n",
       " 'Image saved',\n",
       " 'Image saved',\n",
       " 'Image saved',\n",
       " 'Image saved',\n",
       " 'Image saved',\n",
       " 'Image saved',\n",
       " 'Image saved',\n",
       " 'Image saved',\n",
       " 'Image saved',\n",
       " 'Image saved',\n",
       " 'Image saved',\n",
       " 'Image saved',\n",
       " 'Image saved',\n",
       " 'Image saved',\n",
       " 'Image saved',\n",
       " 'Image saved',\n",
       " 'Image saved',\n",
       " 'Image saved',\n",
       " 'Image saved',\n",
       " 'Image saved',\n",
       " 'Image saved',\n",
       " 'Image saved',\n",
       " 'Image saved',\n",
       " 'Image saved',\n",
       " 'Image saved',\n",
       " 'Image saved',\n",
       " 'Image saved',\n",
       " 'Image saved',\n",
       " 'Image saved',\n",
       " 'Image saved',\n",
       " 'Image saved',\n",
       " 'Image saved',\n",
       " 'Image saved',\n",
       " 'Image saved',\n",
       " 'Image saved',\n",
       " 'Image saved',\n",
       " 'Image saved',\n",
       " 'Image saved',\n",
       " 'Image saved',\n",
       " 'Image saved',\n",
       " 'Image saved',\n",
       " 'Image saved',\n",
       " 'Image saved',\n",
       " 'Image saved',\n",
       " 'Image saved',\n",
       " 'Image saved',\n",
       " 'Image saved',\n",
       " 'Image saved',\n",
       " 'Image saved',\n",
       " 'Image saved',\n",
       " 'Image saved',\n",
       " 'Image saved',\n",
       " 'Image saved',\n",
       " 'Image saved',\n",
       " 'Image saved',\n",
       " 'Image saved',\n",
       " 'Image saved',\n",
       " 'Image saved',\n",
       " 'Image saved',\n",
       " 'Image saved',\n",
       " 'Image saved',\n",
       " 'Image saved',\n",
       " 'Image saved',\n",
       " 'Image saved',\n",
       " 'Image saved',\n",
       " 'Image saved',\n",
       " 'Image saved',\n",
       " 'Image saved',\n",
       " 'Image saved',\n",
       " 'Image saved',\n",
       " 'Image saved',\n",
       " 'Image saved',\n",
       " 'Image saved',\n",
       " 'Image saved',\n",
       " 'Image saved',\n",
       " 'Image saved',\n",
       " 'Image saved',\n",
       " 'Image saved',\n",
       " 'Image saved',\n",
       " 'Image saved',\n",
       " 'Image saved',\n",
       " 'Image saved',\n",
       " 'Image saved',\n",
       " 'Image saved',\n",
       " 'Image saved',\n",
       " 'Image saved',\n",
       " 'Image saved',\n",
       " 'Image saved',\n",
       " 'Image saved',\n",
       " 'Image saved',\n",
       " 'Image saved',\n",
       " 'Image saved',\n",
       " 'Image saved',\n",
       " 'Image saved',\n",
       " 'Image saved',\n",
       " 'Image saved',\n",
       " 'Image saved',\n",
       " 'Image saved',\n",
       " 'Image saved',\n",
       " 'Image saved',\n",
       " 'Image saved',\n",
       " 'Image saved',\n",
       " 'Image saved',\n",
       " 'Image saved',\n",
       " 'Image saved',\n",
       " 'Image saved',\n",
       " 'Image saved',\n",
       " 'Image saved',\n",
       " 'Image saved',\n",
       " 'Image saved',\n",
       " 'Image saved',\n",
       " 'Image saved',\n",
       " 'Image saved',\n",
       " 'Image saved',\n",
       " 'Image saved',\n",
       " 'Image saved',\n",
       " 'Image saved',\n",
       " 'Image saved',\n",
       " 'Image saved',\n",
       " 'Image saved',\n",
       " 'Image saved',\n",
       " 'Image saved',\n",
       " 'Image saved',\n",
       " 'Image saved']"
      ]
     },
     "execution_count": 160,
     "metadata": {},
     "output_type": "execute_result"
    }
   ],
   "source": [
    "result = Pool(NUM_CORES-1)\n",
    "result.map(lambda sec: fun_vis_typical_blob(stack=stack, sec=sec, o_overlay_on_oriImage=True, o_save_image=True), secList)"
   ]
  },
  {
   "cell_type": "code",
   "execution_count": 161,
   "metadata": {
    "scrolled": true
   },
   "outputs": [
    {
     "name": "stdout",
     "output_type": "stream",
     "text": [
      "aws s3 cp --recursive /shared/blob_matching_atlas s3://mousebrainatlas-data/blob_matching_atlas\n"
     ]
    },
    {
     "name": "stderr",
     "output_type": "stream",
     "text": [
      "Child returned 0\n",
      "19.42 seconds.\n"
     ]
    }
   ],
   "source": [
    "upload_to_s3('/shared/blob_matching_atlas',is_dir=True)"
   ]
  },
  {
   "cell_type": "code",
   "execution_count": null,
   "metadata": {
    "collapsed": true
   },
   "outputs": [],
   "source": []
  }
 ],
 "metadata": {
  "kernelspec": {
   "display_name": "Python 2",
   "language": "python",
   "name": "python2"
  },
  "language_info": {
   "codemirror_mode": {
    "name": "ipython",
    "version": 2
   },
   "file_extension": ".py",
   "mimetype": "text/x-python",
   "name": "python",
   "nbconvert_exporter": "python",
   "pygments_lexer": "ipython2",
   "version": "2.7.12"
  }
 },
 "nbformat": 4,
 "nbformat_minor": 2
}
