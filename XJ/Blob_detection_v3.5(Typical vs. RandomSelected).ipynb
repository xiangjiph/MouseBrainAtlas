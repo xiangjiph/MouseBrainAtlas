{
 "cells": [
  {
   "cell_type": "markdown",
   "metadata": {},
   "source": [
    "1. Try to collect typical blob with different initial weight, see how does the final optimized weight for each strucutre change. \n",
    "2. Change the initial weight of area and eccentricity, see how does the final optimzied weight change. \n",
    "3. Crop a small window and sweep the window across the whole image, compute the score for it. Define region similarity by patch-to-patch blob-to-blob matching and count the total similarity. "
   ]
  },
  {
   "cell_type": "code",
   "execution_count": 1,
   "metadata": {},
   "outputs": [
    {
     "name": "stderr",
     "output_type": "stream",
     "text": [
      "/shared/MouseBrainAtlasXiang/utilities/utilities2015.py:2: UserWarning: \n",
      "This call to matplotlib.use() has no effect because the backend has already\n",
      "been chosen; matplotlib.use() must be called *before* pylab, matplotlib.pyplot,\n",
      "or matplotlib.backends is imported for the first time.\n",
      "\n",
      "The backend was *originally* set to 'module://ipykernel.pylab.backend_inline' by the following code:\n",
      "  File \"/usr/lib/python2.7/runpy.py\", line 174, in _run_module_as_main\n",
      "    \"__main__\", fname, loader, pkg_name)\n",
      "  File \"/usr/lib/python2.7/runpy.py\", line 72, in _run_code\n",
      "    exec code in run_globals\n",
      "  File \"/usr/local/lib/python2.7/dist-packages/ipykernel_launcher.py\", line 16, in <module>\n",
      "    app.launch_new_instance()\n",
      "  File \"/usr/local/lib/python2.7/dist-packages/traitlets/config/application.py\", line 658, in launch_instance\n",
      "    app.start()\n",
      "  File \"/usr/local/lib/python2.7/dist-packages/ipykernel/kernelapp.py\", line 477, in start\n",
      "    ioloop.IOLoop.instance().start()\n",
      "  File \"/usr/local/lib/python2.7/dist-packages/zmq/eventloop/ioloop.py\", line 177, in start\n",
      "    super(ZMQIOLoop, self).start()\n",
      "  File \"/usr/local/lib/python2.7/dist-packages/tornado/ioloop.py\", line 888, in start\n",
      "    handler_func(fd_obj, events)\n",
      "  File \"/usr/local/lib/python2.7/dist-packages/tornado/stack_context.py\", line 277, in null_wrapper\n",
      "    return fn(*args, **kwargs)\n",
      "  File \"/usr/local/lib/python2.7/dist-packages/zmq/eventloop/zmqstream.py\", line 440, in _handle_events\n",
      "    self._handle_recv()\n",
      "  File \"/usr/local/lib/python2.7/dist-packages/zmq/eventloop/zmqstream.py\", line 472, in _handle_recv\n",
      "    self._run_callback(callback, msg)\n",
      "  File \"/usr/local/lib/python2.7/dist-packages/zmq/eventloop/zmqstream.py\", line 414, in _run_callback\n",
      "    callback(*args, **kwargs)\n",
      "  File \"/usr/local/lib/python2.7/dist-packages/tornado/stack_context.py\", line 277, in null_wrapper\n",
      "    return fn(*args, **kwargs)\n",
      "  File \"/usr/local/lib/python2.7/dist-packages/ipykernel/kernelbase.py\", line 283, in dispatcher\n",
      "    return self.dispatch_shell(stream, msg)\n",
      "  File \"/usr/local/lib/python2.7/dist-packages/ipykernel/kernelbase.py\", line 235, in dispatch_shell\n",
      "    handler(stream, idents, msg)\n",
      "  File \"/usr/local/lib/python2.7/dist-packages/ipykernel/kernelbase.py\", line 399, in execute_request\n",
      "    user_expressions, allow_stdin)\n",
      "  File \"/usr/local/lib/python2.7/dist-packages/ipykernel/ipkernel.py\", line 196, in do_execute\n",
      "    res = shell.run_cell(code, store_history=store_history, silent=silent)\n",
      "  File \"/usr/local/lib/python2.7/dist-packages/ipykernel/zmqshell.py\", line 533, in run_cell\n",
      "    return super(ZMQInteractiveShell, self).run_cell(*args, **kwargs)\n",
      "  File \"/usr/local/lib/python2.7/dist-packages/IPython/core/interactiveshell.py\", line 2718, in run_cell\n",
      "    interactivity=interactivity, compiler=compiler, result=result)\n",
      "  File \"/usr/local/lib/python2.7/dist-packages/IPython/core/interactiveshell.py\", line 2822, in run_ast_nodes\n",
      "    if self.run_code(code, result):\n",
      "  File \"/usr/local/lib/python2.7/dist-packages/IPython/core/interactiveshell.py\", line 2882, in run_code\n",
      "    exec(code_obj, self.user_global_ns, self.user_ns)\n",
      "  File \"<ipython-input-1-f6f4995c2c20>\", line 2, in <module>\n",
      "    get_ipython().magic(u'matplotlib inline')\n",
      "  File \"/usr/local/lib/python2.7/dist-packages/IPython/core/interactiveshell.py\", line 2160, in magic\n",
      "    return self.run_line_magic(magic_name, magic_arg_s)\n",
      "  File \"/usr/local/lib/python2.7/dist-packages/IPython/core/interactiveshell.py\", line 2081, in run_line_magic\n",
      "    result = fn(*args,**kwargs)\n",
      "  File \"<decorator-gen-105>\", line 2, in matplotlib\n",
      "  File \"/usr/local/lib/python2.7/dist-packages/IPython/core/magic.py\", line 188, in <lambda>\n",
      "    call = lambda f, *a, **k: f(*a, **k)\n",
      "  File \"/usr/local/lib/python2.7/dist-packages/IPython/core/magics/pylab.py\", line 100, in matplotlib\n",
      "    gui, backend = self.shell.enable_matplotlib(args.gui)\n",
      "  File \"/usr/local/lib/python2.7/dist-packages/IPython/core/interactiveshell.py\", line 2950, in enable_matplotlib\n",
      "    pt.activate_matplotlib(backend)\n",
      "  File \"/usr/local/lib/python2.7/dist-packages/IPython/core/pylabtools.py\", line 309, in activate_matplotlib\n",
      "    matplotlib.pyplot.switch_backend(backend)\n",
      "  File \"/usr/local/lib/python2.7/dist-packages/matplotlib/pyplot.py\", line 229, in switch_backend\n",
      "    matplotlib.use(newbackend, warn=False, force=True)\n",
      "  File \"/usr/local/lib/python2.7/dist-packages/matplotlib/__init__.py\", line 1305, in use\n",
      "    reload(sys.modules['matplotlib.backends'])\n",
      "  File \"/usr/local/lib/python2.7/dist-packages/matplotlib/backends/__init__.py\", line 14, in <module>\n",
      "    line for line in traceback.format_stack()\n",
      "\n",
      "\n",
      "  matplotlib.use('Agg')\n"
     ]
    },
    {
     "name": "stdout",
     "output_type": "stream",
     "text": [
      "Setting environment for AWS compute node\n"
     ]
    },
    {
     "name": "stderr",
     "output_type": "stream",
     "text": [
      "No vtk\n",
      "Cannot import mxnet.\n"
     ]
    }
   ],
   "source": [
    "import matplotlib.pyplot as plt\n",
    "%matplotlib inline\n",
    "%load_ext autoreload\n",
    "%reload_ext autoreload\n",
    "%autoreload 2\n",
    "\n",
    "import sys, os, time, collections\n",
    "\n",
    "sys.path.append(os.path.join(os.environ['REPO_DIR'], 'utilities'))\n",
    "sys.path.append(os.path.join(os.environ['REPO_DIR'], 'cells'))\n",
    "# sys.path.append(os.path.join(os.environ['REPO_DIR'], 'annotation'))\n",
    "# sys.path.append(os.path.join(os.environ['REPO_DIR']bb, 'learning'))\n",
    "\n",
    "import numpy as np\n",
    "import scipy\n",
    "import skimage\n",
    "from skimage.feature import peak_local_max\n",
    "from skimage.morphology import watershed\n",
    "from skimage.measure import regionprops, label, find_contours\n",
    "from skimage.color import rgb2hsv\n",
    "from scipy import ndimage as ndi\n",
    "import pandas\n",
    "from scipy.signal import argrelmax\n",
    "from scipy.stats import linregress\n",
    "\n",
    "from annotation_utilities import *\n",
    "from registration_utilities import *\n",
    "from learning_utilities import *\n",
    "from data_manager import *\n",
    "from utilities2015 import *\n",
    "from cell_utilities import *\n",
    "from metadata import *\n",
    "from distributed_utilities import download_from_s3\n",
    "\n",
    "from xj_utilities import *"
   ]
  },
  {
   "cell_type": "code",
   "execution_count": 2,
   "metadata": {},
   "outputs": [],
   "source": [
    "def fun_similar_ratio(data, threshold_simu):\n",
    "    return np.float(np.count_nonzero(data>threshold_simu))/len(data)\n",
    "def fun_max_similarity_with_plot(positive_data, negative_data, plotFig=False):\n",
    "    tempPosCum = []\n",
    "    tempNegCum = []\n",
    "    tempRanges = np.arange(0,1.05,0.05)\n",
    "    for threshold_simu in tempRanges:\n",
    "        tempPosCum.append(fun_similar_ratio(positive_data, threshold_simu=threshold_simu))\n",
    "        tempNegCum.append(fun_similar_ratio(negative_data, threshold_simu=threshold_simu))\n",
    "\n",
    "    tempDifference = np.array(tempPosCum) - np.array(tempNegCum)\n",
    "    tempMax = np.max(tempDifference)\n",
    "    tempPos = tempRanges[tempDifference==tempMax]\n",
    "    if plotFig:\n",
    "        plt.figure()\n",
    "        plt.plot(tempRanges, tempPosCum, label='Positive')\n",
    "        plt.plot(tempRanges, tempNegCum, label='Negative')\n",
    "        plt.plot(tempRanges, tempDifference, label='Difference')\n",
    "        plt.xlabel('Threshold Similarity')\n",
    "        plt.title('Max difference = %f @ s=%f'%(tempMax,tempPos))\n",
    "        plt.grid()\n",
    "        plt.legend()\n",
    "    return tempPos, tempMax\n",
    "\n",
    "def fun_ROC(positive_data, negative_data):\n",
    "    \"\"\" Input: positive_data, negative_data are 1D numpy.array\n",
    "    Output: simMax, maxDiff, ranges, posCum, negCum\"\"\"\n",
    "    tempPosCum = []\n",
    "    tempNegCum = []\n",
    "    tempRanges = np.arange(0,1.05,0.05)\n",
    "    for threshold_simu in tempRanges:\n",
    "        tempPosCum.append(fun_similar_ratio(positive_data, threshold_simu=threshold_simu))\n",
    "        tempNegCum.append(fun_similar_ratio(negative_data, threshold_simu=threshold_simu))\n",
    "    return tempRanges, tempPosCum, tempNegCum\n",
    "\n",
    "def fun_find_max(x,y, mode='returnAll'):\n",
    "    x = np.array(x)\n",
    "    y = np.array(y)\n",
    "    maxY = np.max(y)\n",
    "    maxX = x[y == maxY]\n",
    "    if mode == 'returnAll':\n",
    "        return maxX, maxY\n",
    "    elif mode == 'returnFirst':\n",
    "        if type(maxX) == np.ndarray:\n",
    "            return maxX[0], maxY\n",
    "\n",
    "def fun_find_max_similarity_difference(data_range, posCum, negCum):\n",
    "    difference = np.array(posCum) - np.array(negCum)\n",
    "    threshold_sim, maxSimDiff = fun_find_max(data_range, difference)\n",
    "    return threshold_sim, maxSimDiff\n",
    "    \n",
    "\n",
    "\n",
    "def fun_max_similarity_v2(positive_data, negative_data, plotFig=False):\n",
    "    numBins = 20;\n",
    "    posCum_count = scipy.stats.cumfreq(positive_data, numbins=numBins,defaultreallimits=(0,1))\n",
    "    posCum = posCum_count.cumcount / posCum_count.cumcount[-1]\n",
    "    negCum_count = scipy.stats.cumfreq(negative_data, numbins=numBins,defaultreallimits=(0,1))\n",
    "    negCum = negCum_count.cumcount / negCum_count.cumcount[-1]\n",
    "    scan_range = np.arange(0,1, 1.0/numBins)\n",
    "    difference = posCum - negCum\n",
    "    maxSimDiff = np.max(difference)\n",
    "    pos = scan_range[difference==maxSimDiff]\n",
    " \n",
    "    if plotFig:\n",
    "        plt.figure()\n",
    "        plt.plot(scan_range, posCum, label='Positive')\n",
    "        plt.plot(scan_range, negCum, label='Negative')\n",
    "        plt.plot(scan_range, difference, label='Difference')\n",
    "        plt.xlabel('Threshold Similarity')\n",
    "        plt.title('Max difference = %f @ s=%f'%(maxSimDiff,pos))\n",
    "        plt.grid()\n",
    "        plt.legend()\n",
    "    return pos, maxSimDiff"
   ]
  },
  {
   "cell_type": "markdown",
   "metadata": {},
   "source": [
    "# Load data"
   ]
  },
  {
   "cell_type": "code",
   "execution_count": 3,
   "metadata": {},
   "outputs": [],
   "source": [
    "stack = 'MD589'\n",
    "dataFolderName = 'NoCoors_RandomFalseMatched'\n",
    "scan_parameters = load_typical_cell_data(what='scan_parameters', stack=stack, sec=200, dataFolderName=dataFolderName, dataType='typical')"
   ]
  },
  {
   "cell_type": "code",
   "execution_count": 4,
   "metadata": {},
   "outputs": [],
   "source": [
    "section_valid_list = fun_get_valid_section_list(stack)\n",
    "section_load_list = list(section_valid_list)\n",
    "\n",
    "# Load saved blob features of {typical_blob, matched_pair, false_typical, false_matched_pairs}\n",
    "typical_blob_props = collections.defaultdict(dict)\n",
    "matched_blob_props = collections.defaultdict(dict)\n",
    "false_typical_blob_props = collections.defaultdict(dict)\n",
    "false_matched_blob_props = collections.defaultdict(dict)\n",
    "for tempProp in scan_parameters['prop_to_save']:\n",
    "    for tempSec in section_valid_list:\n",
    "        try:\n",
    "            typical_blob_props[tempSec][tempProp] = load_typical_cell_data(what=tempProp, stack=stack, sec=tempSec, dataFolderName=dataFolderName, dataType='typical')\n",
    "            matched_blob_props[tempSec][tempProp] = load_typical_cell_data(what=tempProp, stack=stack, sec=tempSec, dataFolderName=dataFolderName, dataType='matched')\n",
    "            false_typical_blob_props[tempSec][tempProp] = load_typical_cell_data(what=tempProp, stack=stack, sec=tempSec, dataFolderName=dataFolderName, dataType='false_typical')\n",
    "            false_matched_blob_props[tempSec][tempProp] = load_typical_cell_data(what=tempProp, stack=stack, sec=tempSec, dataFolderName=dataFolderName, dataType='false_matched')\n",
    "        except:\n",
    "            section_load_list.remove(tempSec)\n",
    "            print('Cannot load the data of section %d'%tempSec)\n",
    "            \n",
    "for tempSec in section_valid_list:\n",
    "    typical_blob_props[tempSec]['numBlobs'] = len(typical_blob_props[tempSec]['area'])\n",
    "    false_typical_blob_props[tempSec]['numBlobs'] = len(false_typical_blob_props[tempSec]['area'])\n",
    "# Load matching infomation b           \n",
    "for tempProp in ['section', 'TBID']:\n",
    "    for tempSec in section_valid_list:\n",
    "        try:\n",
    "            matched_blob_props[tempSec][tempProp] = load_typical_cell_data(what=tempProp, stack=stack, sec=tempSec, dataFolderName=dataFolderName, dataType='matched')\n",
    "            false_matched_blob_props[tempSec][tempProp] = load_typical_cell_data(what=tempProp, stack=stack, sec=tempSec, dataFolderName=dataFolderName, dataType='false_matched')\n",
    "        except:\n",
    "            section_load_list.remove(tempSec)\n",
    "            print('Cannot load the data of section %d'%tempSec)\n",
    "# Get relation between TBID and matched blob idx\n",
    "TBID_to_matched_blob = collections.defaultdict(dict)\n",
    "for tempSec in section_load_list:\n",
    "    for tempBID in range(typical_blob_props[tempSec]['numBlobs']):\n",
    "        TBID_to_matched_blob[tempSec][tempBID] = np.where(matched_blob_props[tempSec]['TBID']==tempBID)[0]\n",
    "\n",
    "# Get map between False typical blob ID and false_matched blobs idx\n",
    "FTBID_to_false_matched_blob = collections.defaultdict(dict)\n",
    "for tempSec in section_load_list:\n",
    "    for tempBID in range(false_typical_blob_props[tempSec]['numBlobs']):\n",
    "        FTBID_to_false_matched_blob[tempSec][tempBID] = np.where(false_matched_blob_props[tempSec]['TBID']==tempBID)[0]"
   ]
  },
  {
   "cell_type": "code",
   "execution_count": 5,
   "metadata": {},
   "outputs": [
    {
     "name": "stdout",
     "output_type": "stream",
     "text": [
      "aws s3 cp --recursive \"s3://mousebrainatlas-data/CSHL_labelings_v3/MD589\" \"/shared/CSHL_labelings_v3/MD589\" --exclude \"*\" --include \"*contours*\"\n",
      "latest timestamp:  10042017100807\n"
     ]
    }
   ],
   "source": [
    "# Annotation data:\n",
    "contour_df = DataManager.load_annotation_v4(stack=scan_parameters['stack'],by_human=True,suffix='contours',timestamp='latest')\n",
    "contour_df = convert_annotation_v3_original_to_aligned_cropped(contour_df=contour_df,stack=stack)\n",
    "vertice_dic = collections.defaultdict(dict)\n",
    "structure_section_list = collections.defaultdict(dict)\n",
    "for structure_name in set(contour_df['name']):\n",
    "    vertice_dic[structure_name] = {record['section']:np.array(record['vertices'],np.int) for _, record in contour_df[contour_df['name']==structure_name].iterrows()} \n",
    "    structure_section_list[structure_name] = np.sort(vertice_dic[structure_name].keys())"
   ]
  },
  {
   "cell_type": "markdown",
   "metadata": {},
   "source": [
    "## Pre processing"
   ]
  },
  {
   "cell_type": "code",
   "execution_count": 6,
   "metadata": {},
   "outputs": [],
   "source": [
    "learning_parameters = {}\n",
    "learning_parameters['training_props'] = ['area', 'eccentricity','orientation', 'compactness','moments_hu']"
   ]
  },
  {
   "cell_type": "code",
   "execution_count": 7,
   "metadata": {},
   "outputs": [],
   "source": [
    "TBID_in_structure = collections.defaultdict(dict)\n",
    "FTBID_in_structure = collections.defaultdict(dict)\n",
    "for structure_name in set(contour_df['name']):\n",
    "    for tempSec in set(section_load_list).intersection(structure_section_list[structure_name]):\n",
    "        TBID_in_structure[tempSec][structure_name] =  np.where(fun_blobs_in_polygen(typical_blob_props[tempSec]['centroid'], vertice_dic[structure_name][tempSec]))[0]\n",
    "        FTBID_in_structure[tempSec][structure_name] = np.where(fun_blobs_in_polygen(false_typical_blob_props[tempSec]['centroid'], vertice_dic[structure_name][tempSec]))[0]"
   ]
  },
  {
   "cell_type": "code",
   "execution_count": 8,
   "metadata": {},
   "outputs": [],
   "source": [
    "# Positive\n",
    "nested_dict = lambda: defaultdict(nested_dict)\n",
    "positive_similarity_sec_prop = collections.defaultdict(nested_dict)\n",
    "\n",
    "for structure_name in set(contour_df['name']):\n",
    "    for tempSec in set(section_load_list).intersection(structure_section_list[structure_name]):\n",
    "        for tempProp in learning_parameters['training_props']:\n",
    "            temp_sec_prop_similarity = []\n",
    "            for tempBID in TBID_in_structure[tempSec][structure_name]:\n",
    "                temp = fun_similarity(typical_blob_props[tempSec][tempProp][tempBID], \n",
    "                                                      matched_blob_props[tempSec][tempProp][TBID_to_matched_blob[tempSec][tempBID]],distance_type=tempProp)\n",
    "                temp_sec_prop_similarity += temp\n",
    "            positive_similarity_sec_prop[structure_name][tempSec][tempProp] = temp_sec_prop_similarity\n",
    "        \n",
    "positive_similarity_prop = collections.defaultdict(dict)\n",
    "for structure_name in set(contour_df['name']):\n",
    "    for tempProp in learning_parameters['training_props']:\n",
    "        positive_similarity_prop[structure_name][tempProp] = np.concatenate(tuple([np.array(record[tempProp]) for record in positive_similarity_sec_prop[structure_name].itervalues() if len(record[tempProp]) is not 0]))\n",
    "positive_training_data = {}\n",
    "for structure_name in set(contour_df['name']):\n",
    "    temp_training_data = []\n",
    "    for tempProp in learning_parameters['training_props']:\n",
    "        temp_training_data.append(positive_similarity_prop[structure_name][tempProp])\n",
    "    positive_training_data[structure_name] = np.column_stack(tuple(temp_training_data))\n",
    "    \n"
   ]
  },
  {
   "cell_type": "code",
   "execution_count": 9,
   "metadata": {},
   "outputs": [],
   "source": [
    "negative_similarity_sec_prop = collections.defaultdict(nested_dict)\n",
    "for structure_name in set(contour_df['name']):\n",
    "    for tempSec in set(section_load_list).intersection(structure_section_list[structure_name]):\n",
    "        for tempProp in learning_parameters['training_props']:\n",
    "            temp_sec_prop_similarity = []\n",
    "            for tempBID in FTBID_in_structure[tempSec][structure_name]:\n",
    "                temp = fun_similarity(false_typical_blob_props[tempSec][tempProp][tempBID], \n",
    "                                                      false_matched_blob_props[tempSec][tempProp][FTBID_to_false_matched_blob[tempSec][tempBID]],distance_type=tempProp)\n",
    "                temp_sec_prop_similarity += temp\n",
    "            negative_similarity_sec_prop[structure_name][tempSec][tempProp] = temp_sec_prop_similarity\n",
    "\n",
    "negative_similarity_prop = collections.defaultdict(dict)\n",
    "for structure_name in set(contour_df['name']):\n",
    "    for tempProp in learning_parameters['training_props']:\n",
    "        negative_similarity_prop[structure_name][tempProp] = np.concatenate(tuple([np.array(record[tempProp]) for record in negative_similarity_sec_prop[structure_name].itervalues() if len(record[tempProp]) is not 0]))\n",
    "negative_training_data = {}\n",
    "for structure_name in set(contour_df['name']):\n",
    "    temp_training_data = []\n",
    "    for tempProp in learning_parameters['training_props']:\n",
    "        temp_training_data.append(negative_similarity_prop[structure_name][tempProp])\n",
    "    negative_training_data[structure_name] = np.column_stack(tuple(temp_training_data))\n"
   ]
  },
  {
   "cell_type": "code",
   "execution_count": 38,
   "metadata": {},
   "outputs": [],
   "source": [
    "structure_name_list = np.array(positive_training_data.keys())\n",
    "training_sample_num_pos = np.array([np.shape(positive_training_data[tmp])[0] for tmp in structure_name_list])\n",
    "tmp_order = np.argsort(training_sample_num_pos)[::-1]\n",
    "structure_name_list = structure_name_list[tmp_order]\n",
    "training_sample_num_pos = training_sample_num_pos[tmp_order]"
   ]
  },
  {
   "cell_type": "code",
   "execution_count": 40,
   "metadata": {},
   "outputs": [
    {
     "data": {
      "text/plain": [
       "array(['SC', 'IC', 'Sp5C', 'Pn', 'VCA', 'SNR', 'DC', 'IO', 'Sp5I', 'VLL',\n",
       "       'Cb', 'LPB', 'SNC', 'Sp5O', 'LRt', 'Pr5VL', 'Tz', 'LC', 'VCP',\n",
       "       'MVe', '10N', '7N', 'APT', '12N', 'SuVe', 'Pr5DM', 'PBG', 'RtTg',\n",
       "       'VTA', 'RMC', 'Dk', 'Sol', '5N', 'PF', 'X', 'AP', 'Gr', '3N', 'MPB',\n",
       "       'MnR', 'IPR', 'LSO', 'RR', 'IPC', 'VTg', 'EW', 'Pr5', 'MiTg',\n",
       "       'DTgP', 'Amb', 'IPA', 'RPF', 'DRD', 'LVe', 'R', 'ECu', 'IF', 'RPC',\n",
       "       '7n', '6N', '4N', '5TT', 'Li', 'IPL', '8n'],\n",
       "      dtype='|S5')"
      ]
     },
     "execution_count": 40,
     "metadata": {},
     "output_type": "execute_result"
    }
   ],
   "source": [
    "structure_name_list"
   ]
  },
  {
   "cell_type": "markdown",
   "metadata": {},
   "source": [
    "# Optimization"
   ]
  },
  {
   "cell_type": "code",
   "execution_count": 18,
   "metadata": {},
   "outputs": [],
   "source": [
    "def fun_ROC(positive_data, negative_data, scaning_step=0.025):\n",
    "    \"\"\" Input: positive_data, negative_data are 1D numpy.array\n",
    "    Output: ranges, posCum, negCum\"\"\"\n",
    "    tempPosCum = []\n",
    "    tempNegCum = []\n",
    "    tempRanges = np.arange(0,1+scaning_step,scaning_step)\n",
    "    for threshold_simu in tempRanges:\n",
    "        tempPosCum.append(fun_similar_ratio(positive_data, threshold_simu=threshold_simu))\n",
    "        tempNegCum.append(fun_similar_ratio(negative_data, threshold_simu=threshold_simu))\n",
    "    return tempRanges, tempPosCum, tempNegCum\n",
    "\n",
    "def fun_find_max(x,y, mode='returnAll'):\n",
    "    x = np.array(x)\n",
    "    y = np.array(y)\n",
    "    maxY = np.max(y)\n",
    "    maxX = x[y == maxY]\n",
    "    if mode == 'returnAll':\n",
    "        return maxX, maxY\n",
    "    elif mode == 'returnFirst':\n",
    "        if type(maxX) == np.ndarray:\n",
    "            return maxX[0], maxY\n",
    "\n",
    "def fun_find_max_similarity_difference(data_range, posCum, negCum):\n",
    "    difference = np.array(posCum) - np.array(negCum)\n",
    "    threshold_sim, maxSimDiff = fun_find_max(data_range, difference)\n",
    "    return threshold_sim, maxSimDiff\n",
    "\n",
    "def fun_SGD_score(weight, positive_training_data, negative_training_data):\n",
    "    scan_range, posCum, negCum = fun_ROC(np.dot(positive_training_data, weight), np.dot(negative_training_data, weight) )\n",
    "    _, maxSimDiff = fun_find_max_similarity_difference(scan_range, posCum, negCum)\n",
    "    return maxSimDiff\n",
    "\n",
    "def fun_SGD_score_v2(weight, positive_training_data, negative_training_data):\n",
    "    scan_range, posCum, negCum = fun_ROC(np.dot(positive_training_data, weight), np.dot(negative_training_data, weight) )\n",
    "    threshold, maxSimDiff = fun_find_max_similarity_difference(scan_range, posCum, negCum)\n",
    "    return threshold, maxSimDiff\n",
    "# Gradient descent: compute gradient\n",
    "# def fun_gradient_descent(learning_vectors, initial_score, initial_weight,positive_data, negative_data):\n",
    "#     tempMaxSimDiff = -1\n",
    "# #     numStep = 0\n",
    "#     while True:\n",
    "#         tempMaxSimDiffList = []\n",
    "#         tempWeightList = []\n",
    "#         for learning_vector in learning_vectors:\n",
    "#             # Update weight, with nonegative normalized constrains\n",
    "#             tempWeight = initial_weight.copy() + learning_vector\n",
    "#             tempWeight[tempWeight<0] = 0\n",
    "#             tempWeight = tempWeight/np.sum(tempWeight)\n",
    "#             tempWeightList.append(tempWeight)\n",
    "#             tempMaxSimDiffList.append(fun_SGD_score(tempWeight, positive_data, negative_data))\n",
    "#         tempWeight, tempMaxSimDiff = fun_find_max(x=tempWeightList, y=tempMaxSimDiffList,mode='returnFirst')\n",
    "#         if tempMaxSimDiff > initial_score:\n",
    "# #             numStep +=1\n",
    "#             initial_score = tempMaxSimDiff\n",
    "#             initial_weight = tempWeight\n",
    "#         else:\n",
    "# #             print('Reach Local maximum. Break.')\n",
    "#             break\n",
    "#     return initial_score, initial_weight\n",
    "    \n",
    "    \n",
    "def fun_gradient_descent(learning_vectors, initial_score, initial_weight,positive_data, negative_data, random_sample_num=None):\n",
    "    tempMaxSimDiff = -1\n",
    "    if random_sample_num is not None:\n",
    "        num_positive_data = np.shape(positive_data)[0]\n",
    "        num_negative_data = np.shape(negative_data)[0]\n",
    "        positive_data_idx = np.arange(0, num_positive_data, dtype=np.int32)\n",
    "        negative_data_idx = np.arange(0, num_negative_data, dtype=np.int32)\n",
    "#     numStep = 0\n",
    "    while True:\n",
    "        if (random_sample_num is not None) and (num_positive_data > random_sample_num):\n",
    "            selected_positive_idx = np.random.choice(positive_data_idx, size=random_sample_num, replace=False)\n",
    "            positive_training_data = positive_data[selected_positive_idx]\n",
    "        else:\n",
    "            positive_training_data = positive_data\n",
    "        if (random_sample_num is not None) and (num_negative_data > random_sample_num):\n",
    "            selected_negative_idx = np.random.choice(negative_data_idx, size=random_sample_num, replace=False)\n",
    "            negative_training_data = negative_data[selected_negative_idx]\n",
    "        else:\n",
    "            negative_training_data = negative_data\n",
    "            \n",
    "        tempMaxSimDiffList = []\n",
    "        tempWeightList = []\n",
    "        for learning_vector in learning_vectors:\n",
    "            # Update weight, with nonegative normalized constrains\n",
    "            tempWeight = initial_weight.copy() + learning_vector\n",
    "            tempWeight[tempWeight<0] = 0\n",
    "            tempWeight = tempWeight/np.sum(tempWeight)\n",
    "            tempWeightList.append(tempWeight)\n",
    "            tempMaxSimDiffList.append(fun_SGD_score(tempWeight, positive_training_data, negative_training_data))\n",
    "        tempWeight, tempMaxSimDiff = fun_find_max(x=tempWeightList, y=tempMaxSimDiffList,mode='returnFirst')\n",
    "        if tempMaxSimDiff > initial_score:\n",
    "#             numStep +=1\n",
    "            initial_score = tempMaxSimDiff\n",
    "            initial_weight = tempWeight\n",
    "        else:\n",
    "#             print('Reach Local maximum. Break.')\n",
    "            break\n",
    "    return initial_score, initial_weight\n",
    "    \n",
    "    \n",
    "    \n",
    "def fun_get_weight_vec_length(training_props):\n",
    "    prop_length = {}\n",
    "    prop_length['area'] = 1\n",
    "    prop_length['orientation'] = 1\n",
    "    prop_length['eccentricity'] = 1\n",
    "    prop_length['moments_hu'] = 7\n",
    "    prop_length['equivalent_diameter'] = 1\n",
    "    prop_length['major_axis_length'] = 1\n",
    "    prop_length['solidity'] = 1\n",
    "    prop_length['minor_axis_length'] = 1\n",
    "    prop_length['perimeter'] = 1\n",
    "    prop_length['compactness'] = 1\n",
    "    weight_vec_length = 0\n",
    "    for prop in training_props:\n",
    "        weight_vec_length += prop_length[prop]\n",
    "        \n",
    "    return weight_vec_length\n"
   ]
  },
  {
   "cell_type": "code",
   "execution_count": 19,
   "metadata": {},
   "outputs": [],
   "source": [
    "def fun_optimize_weights_with_SGD(positive_training_data, negative_training_data, learning_parameters, structure_name=None):\n",
    "    training_props = learning_parameters['training_props']\n",
    "    sim_vector_length = learning_parameters['weight_length']\n",
    "    if structure_name==None:\n",
    "        structure_name = learning_parameters['structure_name']\n",
    "    \n",
    "    stack = learning_parameters['stack']    \n",
    "    \n",
    "    save_root_folder = learning_parameters['save_root_folder']\n",
    "    save_info_method = learning_parameters['method'] \n",
    "    save_data_set = learning_parameters['data_set']\n",
    "    \n",
    "    training_props = learning_parameters['training_props']\n",
    "    numTrial = learning_parameters['numTrial']\n",
    "    learning_rate = learning_parameters['learning_rate']\n",
    "    max_sample_num = learning_parameters['max_sample_num']\n",
    "    positive_data = positive_training_data[structure_name]\n",
    "    negative_data = negative_training_data[structure_name]\n",
    "\n",
    "\n",
    "\n",
    "\n",
    "    temp_matrix = np.eye(sim_vector_length, dtype=np.float)\n",
    "    learning_vectors = np.hstack(tuple([temp_matrix * learning_rate, temp_matrix * -learning_rate]))\n",
    "    learning_vectors = np.split(learning_vectors,sim_vector_length*2, axis=1)\n",
    "\n",
    "    report_times = numTrial/20\n",
    "    data_maxSimDiff = []\n",
    "    data_weight = []\n",
    "    for idx in range(numTrial):\n",
    "        if idx % report_times == 0:\n",
    "            print('Structure %s %f finished.'%(structure_name, float(idx)/numTrial))\n",
    "        weight = np.random.random(size=[sim_vector_length, 1])\n",
    "        weight = weight/np.sum(weight)\n",
    "        scan_range, posCum, negCum = fun_ROC(np.dot(positive_data, weight), np.dot(negative_data, weight) )\n",
    "        threshold_sim, maxSimDiff = fun_find_max_similarity_difference(scan_range, posCum, negCum)\n",
    "        optimized_maxSimDiff, optimized_weight = fun_gradient_descent(learning_vectors=learning_vectors,\n",
    "                                                                      initial_score=maxSimDiff, \n",
    "                                                                      initial_weight=weight , \n",
    "                                                                      positive_data=positive_data, \n",
    "                                                                      negative_data=negative_data,random_sample_num=max_sample_num)\n",
    "        data_maxSimDiff.append(optimized_maxSimDiff)\n",
    "        data_weight.append(optimized_weight)\n",
    "\n",
    "    # Save data    \n",
    "    fp = os.path.join(save_root_folder, stack, save_data_set , structure_name, save_info_method)\n",
    "    fun_create_folder(fp)\n",
    "    bp.pack_ndarray_file(np.array(data_weight), filename= os.path.join(fp, 'weight.bp'))\n",
    "    bp.pack_ndarray_file(np.array(data_maxSimDiff), filename=os.path.join(fp, 'maxSimDiff.bp'))\n",
    "    save_pickle(learning_parameters, fp=os.path.join(fp, 'learning_parameters.pkl'))\n"
   ]
  },
  {
   "cell_type": "code",
   "execution_count": 18,
   "metadata": {},
   "outputs": [],
   "source": [
    "learning_parameters = {}\n",
    "learning_parameters['learning_rate'] = 0.05\n",
    "learning_parameters['save_root_folder'] = '/shared/blob_matching_atlas/training_weight'\n",
    "learning_parameters['method'] = 'SGD_10_02'\n",
    "learning_parameters['data_set'] = dataFolderName\n",
    "# learning_parameters['structure_name'] = '7N'\n",
    "learning_parameters['training_props'] = ['area', 'eccentricity', 'compactness','orientation','moments_hu']\n",
    "learning_parameters['numTrial'] = 10000\n",
    "learning_parameters['stack'] = scan_parameters['stack']\n",
    "learning_parameters['weight_length'] = fun_get_weight_vec_length(learning_parameters['training_props'])\n",
    "learning_parameters['max_sample_num'] = 10000\n",
    "learning_parameters['roc_scaning_step'] = 0.05"
   ]
  },
  {
   "cell_type": "code",
   "execution_count": null,
   "metadata": {},
   "outputs": [
    {
     "name": "stdout",
     "output_type": "stream",
     "text": [
      "Structure Tz 0.000000 finished.\n",
      "Structure Tz 0.050000 finished.\n",
      "Structure Tz 0.100000 finished.\n",
      "Structure Tz 0.150000 finished.\n",
      "Structure Tz 0.200000 finished.\n",
      "Structure Tz 0.250000 finished.\n",
      "Structure Tz 0.300000 finished.\n",
      "Structure Tz 0.350000 finished.\n",
      "Structure Tz 0.400000 finished.\n",
      "Structure Tz 0.450000 finished.\n",
      "Structure Tz 0.500000 finished.\n"
     ]
    }
   ],
   "source": [
    "for structure_name in structure_section_list.keys():\n",
    "    fun_optimize_weights_with_SGD(positive_training_data, negative_training_data, learning_parameters, structure_name=structure_name)"
   ]
  },
  {
   "cell_type": "code",
   "execution_count": 18,
   "metadata": {
    "collapsed": true
   },
   "outputs": [
    {
     "name": "stdout",
     "output_type": "stream",
     "text": [
      "Structure 7N 0.000000 finished.\n",
      "Structure 7N 0.050000 finished.\n",
      "Structure 7N 0.100000 finished.\n",
      "Structure 7N 0.150000 finished.\n",
      "Structure 7N 0.200000 finished.\n",
      "Structure 7N 0.250000 finished.\n",
      "Structure 7N 0.300000 finished.\n",
      "Structure 7N 0.350000 finished.\n",
      "Structure 7N 0.400000 finished.\n",
      "Structure 7N 0.450000 finished.\n",
      "Structure 7N 0.500000 finished.\n",
      "Structure 7N 0.550000 finished.\n",
      "Structure 7N 0.600000 finished.\n",
      "Structure 7N 0.650000 finished.\n",
      "Structure 7N 0.700000 finished.\n",
      "Structure 7N 0.750000 finished.\n",
      "Structure 7N 0.800000 finished.\n",
      "Structure 7N 0.850000 finished.\n",
      "Structure 7N 0.900000 finished.\n",
      "Structure 7N 0.950000 finished.\n"
     ]
    },
    {
     "name": "stderr",
     "output_type": "stream",
     "text": [
      "Folder created: /shared/blob_matching_atlas/training_weight/MD589/NoCoors_RandomFalseMatched/7N/SGD_10_02"
     ]
    },
    {
     "name": "stdout",
     "output_type": "stream",
     "text": [
      " "
     ]
    }
   ],
   "source": [
    "# Function test\n",
    "%prun fun_optimize_weights_with_SGD(positive_training_data, negative_training_data, learning_parameters, structure_name='7N')"
   ]
  },
  {
   "cell_type": "code",
   "execution_count": null,
   "metadata": {},
   "outputs": [
    {
     "name": "stdout",
     "output_type": "stream",
     "text": [
      "Structure Tz 0.000000 finished.\n",
      "Structure ECu 0.000000 finished.\n",
      "Structure SNC 0.000000 finished.\n",
      "Structure Pn 0.000000 finished.\n",
      "Structure 10N 0.000000 finished.\n",
      "Structure IPL 0.000000 finished.\n",
      "Structure IPL 0.050000 finished.\n",
      "Structure IPL 0.100000 finished.\n",
      "Structure ECu 0.050000 finished.\n",
      "Structure IPL 0.150000 finished.\n",
      "Structure 10N 0.050000 finished.\n",
      "Structure IPL 0.200000 finished.\n",
      "Structure ECu 0.100000 finished.\n",
      "Structure SNC 0.050000 finished.\n",
      "Structure Tz 0.050000 finished.\n",
      "Structure IPL 0.250000 finished.\n",
      "Structure IPL 0.300000 finished.\n",
      "Structure ECu 0.150000 finished.\n",
      "Structure IPL 0.350000 finished.\n",
      "Structure 10N 0.100000 finished.\n",
      "Structure IPL 0.400000 finished.\n",
      "Structure Pn 0.050000 finished.\n",
      "Structure ECu 0.200000 finished.\n",
      "Structure IPL 0.450000 finished.\n",
      "Structure SNC 0.100000 finished.\n",
      "Structure Tz 0.100000 finished.\n",
      "Structure IPL 0.500000 finished.\n",
      "Structure ECu 0.250000 finished.\n",
      "Structure IPL 0.550000 finished.\n",
      "Structure 10N 0.150000 finished.\n",
      "Structure IPL 0.600000 finished.\n",
      "Structure ECu 0.300000 finished.\n",
      "Structure IPL 0.650000 finished.\n",
      "Structure SNC 0.150000 finished.\n",
      "Structure IPL 0.700000 finished.\n",
      "Structure Tz 0.150000 finished.\n",
      "Structure IPL 0.750000 finished.\n",
      "Structure ECu 0.350000 finished.\n",
      "Structure IPL 0.800000 finished.\n",
      "Structure 10N 0.200000 finished.\n",
      "Structure Pn 0.100000 finished.\n",
      "Structure IPL 0.850000 finished.\n",
      "Structure ECu 0.400000 finished.\n",
      "Structure IPL 0.900000 finished.\n",
      "Structure SNC 0.200000 finished.\n",
      "Structure Tz 0.200000 finished.\n",
      "Structure IPL 0.950000 finished.\n",
      "Structure ECu 0.450000 finished.\n",
      "Structure 10N 0.250000 finished.\n",
      "Structure ECu 0.500000 finished.\n",
      "Structure SNC 0.250000 finished.\n",
      "Structure ECu 0.550000 finished.\n",
      "Structure Tz 0.250000 finished.\n",
      "Structure 10N 0.300000 finished.\n",
      "Structure Pn 0.150000 finished.\n",
      "Structure ECu 0.600000 finished.\n",
      "Structure ECu 0.650000 finished.\n",
      "Structure SNC 0.300000 finished.\n",
      "Structure 10N 0.350000 finished.\n",
      "Structure Tz 0.300000 finished.\n",
      "Structure ECu 0.700000 finished.\n",
      "Structure ECu 0.750000 finished.\n",
      "Structure Pn 0.200000 finished.\n",
      "Structure 10N 0.400000 finished.\n",
      "Structure SNC 0.350000 finished.\n",
      "Structure Tz 0.350000 finished.\n",
      "Structure ECu 0.800000 finished.\n",
      "Structure ECu 0.850000 finished.\n",
      "Structure 10N 0.450000 finished.\n",
      "Structure SNC 0.400000 finished.\n",
      "Structure Tz 0.400000 finished.\n",
      "Structure ECu 0.900000 finished.\n",
      "Structure Pn 0.250000 finished.\n",
      "Structure ECu 0.950000 finished.\n",
      "Structure 10N 0.500000 finished.\n",
      "Structure SNC 0.450000 finished.\n",
      "Structure Tz 0.450000 finished.\n",
      "Structure 10N 0.550000 finished.\n",
      "Structure SNC 0.500000 finished.\n",
      "Structure Tz 0.500000 finished.\n",
      "Structure Pn 0.300000 finished.\n",
      "Structure 10N 0.600000 finished.\n",
      "Structure SNC 0.550000 finished.\n",
      "Structure Tz 0.550000 finished.\n",
      "Structure 10N 0.650000 finished.\n",
      "Structure Pn 0.350000 finished.\n",
      "Structure SNC 0.600000 finished.\n",
      "Structure Tz 0.600000 finished.\n"
     ]
    },
    {
     "name": "stderr",
     "output_type": "stream",
     "text": [
      "Process PoolWorker-6:\n",
      "Process PoolWorker-1:\n",
      "Process PoolWorker-2:\n",
      "Traceback (most recent call last):\n",
      "Traceback (most recent call last):\n",
      "Traceback (most recent call last):\n",
      "  File \"/usr/local/lib/python2.7/dist-packages/multiprocess/process.py\", line 258, in _bootstrap\n",
      "Process PoolWorker-5:\n",
      "  File \"/usr/local/lib/python2.7/dist-packages/multiprocess/process.py\", line 258, in _bootstrap\n",
      "  File \"/usr/local/lib/python2.7/dist-packages/multiprocess/process.py\", line 258, in _bootstrap\n",
      "Traceback (most recent call last):\n",
      "    self.run()\n",
      "    self.run()\n",
      "  File \"/usr/local/lib/python2.7/dist-packages/multiprocess/process.py\", line 114, in run\n",
      "  File \"/usr/local/lib/python2.7/dist-packages/multiprocess/process.py\", line 114, in run\n",
      "    self.run()\n",
      "  File \"/usr/local/lib/python2.7/dist-packages/multiprocess/process.py\", line 258, in _bootstrap\n",
      "    self._target(*self._args, **self._kwargs)\n",
      "  File \"/usr/local/lib/python2.7/dist-packages/multiprocess/process.py\", line 114, in run\n",
      "    self._target(*self._args, **self._kwargs)\n",
      "    self.run()\n",
      "  File \"/usr/local/lib/python2.7/dist-packages/multiprocess/pool.py\", line 113, in worker\n",
      "    result = (True, func(*args, **kwds))\n",
      "    self._target(*self._args, **self._kwargs)\n",
      "  File \"/usr/local/lib/python2.7/dist-packages/multiprocess/process.py\", line 114, in run\n",
      "  File \"/usr/local/lib/python2.7/dist-packages/multiprocess/pool.py\", line 113, in worker\n",
      "    self._target(*self._args, **self._kwargs)\n",
      "  File \"/usr/local/lib/python2.7/dist-packages/multiprocess/pool.py\", line 113, in worker\n",
      "  File \"/usr/local/lib/python2.7/dist-packages/multiprocess/pool.py\", line 113, in worker\n",
      "  File \"/usr/local/lib/python2.7/dist-packages/multiprocess/pool.py\", line 65, in mapstar\n",
      "    return map(*args)\n",
      "    result = (True, func(*args, **kwds))\n",
      "    result = (True, func(*args, **kwds))\n",
      "  File \"/usr/local/lib/python2.7/dist-packages/multiprocess/pool.py\", line 65, in mapstar\n",
      "    result = (True, func(*args, **kwds))\n",
      "  File \"<ipython-input-19-c393c35226df>\", line 3, in <lambda>\n",
      "  File \"/usr/local/lib/python2.7/dist-packages/multiprocess/pool.py\", line 65, in mapstar\n",
      "  File \"/usr/local/lib/python2.7/dist-packages/multiprocess/pool.py\", line 65, in mapstar\n",
      "    return map(*args)\n",
      "    return map(*args)\n",
      "    return map(*args)\n",
      "  File \"<ipython-input-19-c393c35226df>\", line 3, in <lambda>\n",
      "    task_pool.map(lambda structure_name: fun_optimize_weights_with_SGD(positive_training_data, negative_training_data, learning_parameters, structure_name=structure_name), structure_section_list.keys() )\n",
      "  File \"<ipython-input-19-c393c35226df>\", line 3, in <lambda>\n",
      "  File \"<ipython-input-19-c393c35226df>\", line 3, in <lambda>\n",
      "    task_pool.map(lambda structure_name: fun_optimize_weights_with_SGD(positive_training_data, negative_training_data, learning_parameters, structure_name=structure_name), structure_section_list.keys() )\n",
      "  File \"<ipython-input-11-f6f68691f13a>\", line 41, in fun_optimize_weights_with_SGD\n",
      "    task_pool.map(lambda structure_name: fun_optimize_weights_with_SGD(positive_training_data, negative_training_data, learning_parameters, structure_name=structure_name), structure_section_list.keys() )\n",
      "    task_pool.map(lambda structure_name: fun_optimize_weights_with_SGD(positive_training_data, negative_training_data, learning_parameters, structure_name=structure_name), structure_section_list.keys() )\n",
      "  File \"<ipython-input-11-f6f68691f13a>\", line 41, in fun_optimize_weights_with_SGD\n",
      "  File \"<ipython-input-11-f6f68691f13a>\", line 41, in fun_optimize_weights_with_SGD\n",
      "  File \"<ipython-input-11-f6f68691f13a>\", line 41, in fun_optimize_weights_with_SGD\n",
      "    negative_data=negative_data,random_sample_num=max_sample_num)\n",
      "    negative_data=negative_data,random_sample_num=max_sample_num)\n",
      "  File \"<ipython-input-10-c4b5422fae47>\", line 86, in fun_gradient_descent\n",
      "    negative_data=negative_data,random_sample_num=max_sample_num)\n",
      "  File \"<ipython-input-10-c4b5422fae47>\", line 86, in fun_gradient_descent\n",
      "    tempMaxSimDiffList.append(fun_SGD_score(tempWeight, positive_training_data, negative_training_data))\n",
      "    negative_data=negative_data,random_sample_num=max_sample_num)\n",
      "  File \"<ipython-input-10-c4b5422fae47>\", line 86, in fun_gradient_descent\n",
      "  File \"<ipython-input-10-c4b5422fae47>\", line 29, in fun_SGD_score\n",
      "    tempMaxSimDiffList.append(fun_SGD_score(tempWeight, positive_training_data, negative_training_data))\n",
      "  File \"<ipython-input-10-c4b5422fae47>\", line 73, in fun_gradient_descent\n",
      "    tempMaxSimDiffList.append(fun_SGD_score(tempWeight, positive_training_data, negative_training_data))\n",
      "  File \"<ipython-input-10-c4b5422fae47>\", line 29, in fun_SGD_score\n",
      "    scan_range, posCum, negCum = fun_ROC(np.dot(positive_training_data, weight), np.dot(negative_training_data, weight) )\n",
      "    selected_negative_idx = np.random.choice(negative_data_idx, size=random_sample_num, replace=False)\n",
      "  File \"<ipython-input-10-c4b5422fae47>\", line 29, in fun_SGD_score\n",
      "    scan_range, posCum, negCum = fun_ROC(np.dot(positive_training_data, weight), np.dot(negative_training_data, weight) )\n",
      "KeyboardInterrupt\n",
      "KeyboardInterrupt\n",
      "    scan_range, posCum, negCum = fun_ROC(np.dot(positive_training_data, weight), np.dot(negative_training_data, weight) )\n",
      "KeyboardInterrupt\n",
      "KeyboardInterrupt\n"
     ]
    },
    {
     "name": "stdout",
     "output_type": "stream",
     "text": [
      "Structure EW 0.000000 finished.\n",
      "Structure 12N 0.000000 finished.\n",
      "Structure RPC 0.000000 finished.\n",
      "Structure RPF 0.000000 finished.\n"
     ]
    }
   ],
   "source": [
    "from multiprocess import Pool\n",
    "task_pool = Pool(6)\n",
    "task_pool.map(lambda structure_name: fun_optimize_weights_with_SGD(positive_training_data, negative_training_data, learning_parameters, structure_name=structure_name), structure_section_list.keys() )"
   ]
  },
  {
   "cell_type": "code",
   "execution_count": null,
   "metadata": {
    "collapsed": true
   },
   "outputs": [],
   "source": [
    "for tempStructure_name in structure_section_list.keys():\n",
    "    learning_parameters['structure_name'] = tempStructure_name\n",
    "    fun_optimize_weights_with_SGD(positive_training_data, negative_training_data, learning_parameters)"
   ]
  },
  {
   "cell_type": "markdown",
   "metadata": {},
   "source": [
    "# Result analysis"
   ]
  },
  {
   "cell_type": "code",
   "execution_count": 10,
   "metadata": {},
   "outputs": [],
   "source": [
    "def fun_get_learning_data_path(what, stack, data_set, structure_name, method, ext=None):\n",
    "    LERANING_ROOT_PATH = '/shared/blob_matching_atlas/training_weight'\n",
    "    if what=='weight':\n",
    "        fn = 'weight.bp'\n",
    "    elif what=='learning_parameters':\n",
    "        fn = 'learning_parameters.pkl'\n",
    "    elif what=='maxSimDiff':\n",
    "        fn = 'maxSimDiff.bp'\n",
    "    else:\n",
    "        assert ext is not None, 'Please specify extension'\n",
    "        fn = what + ext\n",
    "    \n",
    "    fp = os.path.join(LERANING_ROOT_PATH, stack, data_set, structure_name, method, fn)\n",
    "    return fp\n",
    "         \n",
    "        "
   ]
  },
  {
   "cell_type": "code",
   "execution_count": 41,
   "metadata": {},
   "outputs": [],
   "source": [
    "load_structure = 'SC'\n",
    "data_tag = 'SGD_10_02'\n",
    "data_weight = {}\n",
    "data_maxSimDiff = {}\n",
    "\n",
    "data_weight[load_structure] = load_data(fun_get_learning_data_path(what='weight', stack=stack, data_set=dataFolderName, structure_name=load_structure, method=data_tag))\n",
    "data_maxSimDiff[load_structure] = load_data(fun_get_learning_data_path(what='maxSimDiff', stack=stack, data_set=dataFolderName, structure_name=load_structure, method=data_tag))"
   ]
  },
  {
   "cell_type": "code",
   "execution_count": 42,
   "metadata": {
    "scrolled": true
   },
   "outputs": [
    {
     "data": {
      "image/png": "[encoded data removed]",
      "text/plain": [
       "<matplotlib.figure.Figure at 0x7fba461585d0>"
      ]
     },
     "metadata": {},
     "output_type": "display_data"
    }
   ],
   "source": [
    "numBins = 20\n",
    "plt.hist(data_maxSimDiff[load_structure],bins=numBins);"
   ]
  },
  {
   "cell_type": "code",
   "execution_count": 43,
   "metadata": {},
   "outputs": [
    {
     "data": {
      "text/plain": [
       "array([[ 0.51661404],\n",
       "       [ 0.44162234],\n",
       "       [ 0.0143826 ],\n",
       "       [ 0.0066495 ],\n",
       "       [ 0.00957605],\n",
       "       [ 0.00989628],\n",
       "       [ 0.        ],\n",
       "       [ 0.        ],\n",
       "       [ 0.00125918],\n",
       "       [ 0.        ],\n",
       "       [ 0.        ]])"
      ]
     },
     "execution_count": 43,
     "metadata": {},
     "output_type": "execute_result"
    }
   ],
   "source": [
    "best_weights,_ = fun_find_max(data_weight[load_structure], data_maxSimDiff[load_structure],mode='returnFirst')\n",
    "best_weights"
   ]
  },
  {
   "cell_type": "code",
   "execution_count": 44,
   "metadata": {},
   "outputs": [],
   "source": [
    "ori_best_weights = np.array([[0.5,0.5,0,0,0,0,0,0,0,0,0]]).T"
   ]
  },
  {
   "cell_type": "code",
   "execution_count": 45,
   "metadata": {},
   "outputs": [
    {
     "data": {
      "text/plain": [
       "(array([ 0.875]), 0.96457272638114477)"
      ]
     },
     "execution_count": 45,
     "metadata": {},
     "output_type": "execute_result"
    }
   ],
   "source": [
    "fun_SGD_score_v2(best_weights,positive_training_data[load_structure], negative_training_data[load_structure])"
   ]
  },
  {
   "cell_type": "code",
   "execution_count": 46,
   "metadata": {},
   "outputs": [
    {
     "data": {
      "text/plain": [
       "(array([ 0.9]), 0.97130382006243421)"
      ]
     },
     "execution_count": 46,
     "metadata": {},
     "output_type": "execute_result"
    }
   ],
   "source": [
    "fun_SGD_score_v2(ori_best_weights,positive_training_data[load_structure], negative_training_data[load_structure])"
   ]
  },
  {
   "cell_type": "code",
   "execution_count": 49,
   "metadata": {},
   "outputs": [],
   "source": [
    "temp1, temp2, temp3 = fun_ROC(np.dot(positive_training_data[load_structure], best_weights), np.dot(negative_training_data[load_structure], best_weights) )"
   ]
  },
  {
   "cell_type": "code",
   "execution_count": 50,
   "metadata": {},
   "outputs": [],
   "source": [
    "temp4, temp5, temp6 = fun_ROC(np.dot(positive_training_data[load_structure], ori_best_weights), np.dot(negative_training_data[load_structure], ori_best_weights) )"
   ]
  },
  {
   "cell_type": "code",
   "execution_count": 28,
   "metadata": {
    "scrolled": true
   },
   "outputs": [
    {
     "data": {
      "text/plain": [
       "<matplotlib.collections.PathCollection at 0x7fba4649eb50>"
      ]
     },
     "execution_count": 28,
     "metadata": {},
     "output_type": "execute_result"
    },
    {
     "data": {
      "image/png": "[encoded data removed]",
      "text/plain": [
       "<matplotlib.figure.Figure at 0x7fba4652a690>"
      ]
     },
     "metadata": {},
     "output_type": "display_data"
    }
   ],
   "source": [
    "plt.scatter(temp1, temp2,label='Best_Positive')\n",
    "plt.scatter(temp1, temp3,label='Best_Negative')\n",
    "plt.scatter(temp1, temp5)\n",
    "plt.scatter(temp1, temp6)"
   ]
  },
  {
   "cell_type": "code",
   "execution_count": 53,
   "metadata": {
    "scrolled": false
   },
   "outputs": [
    {
     "data": {
      "text/plain": [
       "<matplotlib.legend.Legend at 0x7fba45dcc290>"
      ]
     },
     "execution_count": 53,
     "metadata": {},
     "output_type": "execute_result"
    },
    {
     "data": {
      "image/png": "[encoded data removed]",
      "text/plain": [
       "<matplotlib.figure.Figure at 0x7fba45ea1390>"
      ]
     },
     "metadata": {},
     "output_type": "display_data"
    }
   ],
   "source": [
    "tempBinNum = 100\n",
    "tempNormed = True\n",
    "tempCumulated = False\n",
    "positive_weighted_similarity = np.dot(positive_training_data[load_structure], best_weights)\n",
    "negative_weighted_similarity = np.dot(negative_training_data[load_structure], best_weights)\n",
    "ori_positive_weighted_similarity = np.dot(positive_training_data[load_structure], ori_best_weights)\n",
    "ori_negative_weighted_similarity = np.dot(negative_training_data[load_structure], ori_best_weights)\n",
    "plt.hist(negative_weighted_similarity,bins=tempBinNum,normed=tempNormed, alpha=0.3,cumulative=tempCumulated, label='Negative');\n",
    "plt.hist(positive_weighted_similarity,bins=tempBinNum,normed=tempNormed,alpha=0.3,cumulative=tempCumulated, label='Positive');\n",
    "plt.hist(ori_positive_weighted_similarity,bins=tempBinNum,normed=tempNormed,alpha=0.3,cumulative=tempCumulated, label='Ori_Positive');\n",
    "plt.hist(ori_negative_weighted_similarity,bins=tempBinNum,normed=tempNormed,alpha=0.3,cumulative=tempCumulated, label='Ori_Negative');\n",
    "plt.legend()"
   ]
  },
  {
   "cell_type": "code",
   "execution_count": 84,
   "metadata": {},
   "outputs": [
    {
     "data": {
      "text/plain": [
       "array([[ 0.53973386],\n",
       "       [ 0.08033628],\n",
       "       [ 0.        ],\n",
       "       [ 0.        ],\n",
       "       [ 0.05714221],\n",
       "       [ 0.        ],\n",
       "       [ 0.        ],\n",
       "       [ 0.14976463],\n",
       "       [ 0.06842964],\n",
       "       [ 0.10459339]])"
      ]
     },
     "execution_count": 84,
     "metadata": {},
     "output_type": "execute_result"
    }
   ],
   "source": [
    "data_weight[load_structure][0]"
   ]
  },
  {
   "cell_type": "code",
   "execution_count": 86,
   "metadata": {
    "collapsed": true
   },
   "outputs": [
    {
     "data": {
      "text/plain": [
       "array([  0.00000000e+00,   0.00000000e+00,   0.00000000e+00,\n",
       "         0.00000000e+00,   0.00000000e+00,   0.00000000e+00,\n",
       "         0.00000000e+00,   0.00000000e+00,   0.00000000e+00,\n",
       "         0.00000000e+00,   0.00000000e+00,   0.00000000e+00,\n",
       "         0.00000000e+00,   0.00000000e+00,   0.00000000e+00,\n",
       "         0.00000000e+00,   0.00000000e+00,   0.00000000e+00,\n",
       "         0.00000000e+00,   0.00000000e+00,   0.00000000e+00,\n",
       "         0.00000000e+00,   0.00000000e+00,   0.00000000e+00,\n",
       "         0.00000000e+00,   0.00000000e+00,   0.00000000e+00,\n",
       "         0.00000000e+00,   0.00000000e+00,   0.00000000e+00,\n",
       "         0.00000000e+00,   0.00000000e+00,   5.78235576e-05,\n",
       "         0.00000000e+00,   0.00000000e+00,   0.00000000e+00,\n",
       "         0.00000000e+00,   0.00000000e+00,   0.00000000e+00,\n",
       "         0.00000000e+00,   0.00000000e+00,   0.00000000e+00,\n",
       "         0.00000000e+00,   0.00000000e+00,   0.00000000e+00,\n",
       "         0.00000000e+00,   0.00000000e+00,   0.00000000e+00,\n",
       "         0.00000000e+00,   0.00000000e+00,   0.00000000e+00,\n",
       "         0.00000000e+00,   0.00000000e+00,   0.00000000e+00,\n",
       "         0.00000000e+00,   0.00000000e+00,   0.00000000e+00,\n",
       "         0.00000000e+00,   0.00000000e+00,   0.00000000e+00,\n",
       "         0.00000000e+00,   0.00000000e+00,   0.00000000e+00,\n",
       "         0.00000000e+00,   0.00000000e+00,   0.00000000e+00,\n",
       "         0.00000000e+00,   0.00000000e+00,   0.00000000e+00,\n",
       "         0.00000000e+00,   0.00000000e+00,   0.00000000e+00,\n",
       "         0.00000000e+00,   0.00000000e+00,   0.00000000e+00,\n",
       "         0.00000000e+00,   0.00000000e+00,   0.00000000e+00,\n",
       "         0.00000000e+00,   0.00000000e+00,   0.00000000e+00,\n",
       "         0.00000000e+00,   0.00000000e+00,   0.00000000e+00,\n",
       "         0.00000000e+00,   0.00000000e+00,   0.00000000e+00,\n",
       "         0.00000000e+00,   0.00000000e+00,   0.00000000e+00,\n",
       "         0.00000000e+00,   0.00000000e+00,   0.00000000e+00,\n",
       "         0.00000000e+00,   0.00000000e+00,   0.00000000e+00,\n",
       "         0.00000000e+00,   0.00000000e+00,   0.00000000e+00,\n",
       "         0.00000000e+00])"
      ]
     },
     "execution_count": 86,
     "metadata": {},
     "output_type": "execute_result"
    }
   ],
   "source": [
    "data_weight[load_structure][:,2,0]"
   ]
  },
  {
   "cell_type": "code",
   "execution_count": 85,
   "metadata": {
    "scrolled": false
   },
   "outputs": [
    {
     "data": {
      "image/png": "[encoded data removed]",
      "text/plain": [
       "<matplotlib.figure.Figure at 0x7ff067f19690>"
      ]
     },
     "metadata": {},
     "output_type": "display_data"
    },
    {
     "data": {
      "image/png": "[encoded data removed]",
      "text/plain": [
       "<matplotlib.figure.Figure at 0x7ff0683004d0>"
      ]
     },
     "metadata": {},
     "output_type": "display_data"
    },
    {
     "data": {
      "image/png": "[encoded data removed]",
      "text/plain": [
       "<matplotlib.figure.Figure at 0x7ff0686e9f90>"
      ]
     },
     "metadata": {},
     "output_type": "display_data"
    },
    {
     "data": {
      "image/png": "[encoded data removed]",
      "text/plain": [
       "<matplotlib.figure.Figure at 0x7ff068481fd0>"
      ]
     },
     "metadata": {},
     "output_type": "display_data"
    },
    {
     "data": {
      "image/png": "[encoded data removed]",
      "text/plain": [
       "<matplotlib.figure.Figure at 0x7ff068588d50>"
      ]
     },
     "metadata": {},
     "output_type": "display_data"
    },
    {
     "data": {
      "image/png": "[encoded data removed]",
      "text/plain": [
       "<matplotlib.figure.Figure at 0x7ff068664150>"
      ]
     },
     "metadata": {},
     "output_type": "display_data"
    },
    {
     "data": {
      "image/png": "[encoded data removed]",
      "text/plain": [
       "<matplotlib.figure.Figure at 0x7ff067f13110>"
      ]
     },
     "metadata": {},
     "output_type": "display_data"
    },
    {
     "data": {
      "image/png": "[encoded data removed]",
      "text/plain": [
       "<matplotlib.figure.Figure at 0x7ff06973d890>"
      ]
     },
     "metadata": {},
     "output_type": "display_data"
    },
    {
     "data": {
      "image/png": "[encoded data removed]",
      "text/plain": [
       "<matplotlib.figure.Figure at 0x7ff067e2dc90>"
      ]
     },
     "metadata": {},
     "output_type": "display_data"
    },
    {
     "data": {
      "image/png": "[encoded data removed]",
      "text/plain": [
       "<matplotlib.figure.Figure at 0x7ff0687fcd50>"
      ]
     },
     "metadata": {},
     "output_type": "display_data"
    }
   ],
   "source": [
    "tempTitle = learning_parameters['training_props'] + ['moments_hu']*6\n",
    "tempNormalized = True\n",
    "for tempIdx in range(10):\n",
    "    plt.figure()\n",
    "    plt.hist(data_weight[load_structure][:, tempIdx, 0], bins=20, normed=tempNormalized, alpha=0.3);\n",
    "    plt.title(tempTitle[tempIdx])"
   ]
  },
  {
   "cell_type": "code",
   "execution_count": null,
   "metadata": {
    "collapsed": true
   },
   "outputs": [],
   "source": []
  }
 ],
 "metadata": {
  "kernelspec": {
   "display_name": "Python 2",
   "language": "python",
   "name": "python2"
  },
  "language_info": {
   "codemirror_mode": {
    "name": "ipython",
    "version": 2
   },
   "file_extension": ".py",
   "mimetype": "text/x-python",
   "name": "python",
   "nbconvert_exporter": "python",
   "pygments_lexer": "ipython2",
   "version": "2.7.12"
  }
 },
 "nbformat": 4,
 "nbformat_minor": 2
}
