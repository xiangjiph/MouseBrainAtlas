{
 "cells": [
  {
   "cell_type": "markdown",
   "metadata": {},
   "source": [
    "# Extract background features\n",
    "\n",
    "Image -> Grayscale -> cropped into patches -> Find features to characterize the background features. "
   ]
  },
  {
   "cell_type": "code",
   "execution_count": 1,
   "metadata": {},
   "outputs": [
    {
     "name": "stdout",
     "output_type": "stream",
     "text": [
      "Setting environment for AWS compute node\n"
     ]
    },
    {
     "name": "stderr",
     "output_type": "stream",
     "text": [
      "/usr/local/lib/python2.7/dist-packages/matplotlib/__init__.py:1405: UserWarning: \n",
      "This call to matplotlib.use() has no effect because the backend has already\n",
      "been chosen; matplotlib.use() must be called *before* pylab, matplotlib.pyplot,\n",
      "or matplotlib.backends is imported for the first time.\n",
      "\n",
      "  warnings.warn(_use_error_msg)\n",
      "No vtk\n"
     ]
    }
   ],
   "source": [
    "import matplotlib.pyplot as plt\n",
    "%matplotlib inline\n",
    "\n",
    "import sys, os\n",
    "\n",
    "sys.path.append(os.path.join(os.environ['REPO_DIR'], 'utilities'))\n",
    "sys.path.append(os.path.join(os.environ['REPO_DIR'], 'cells'))\n",
    "# sys.path.append(os.path.join(os.environ['REPO_DIR'], 'annotation'))\n",
    "# sys.path.append(os.path.join(os.environ['REPO_DIR'], 'learning'))\n",
    "\n",
    "import numpy as np\n",
    "from skimage.measure import regionprops\n",
    "from skimage.filters import threshold_otsu\n",
    "from scipy.ndimage.morphology import distance_transform_edt\n",
    "from skimage.feature import peak_local_max\n",
    "from skimage.morphology import watershed\n",
    "from skimage.measure import regionprops, label, find_contours\n",
    "from skimage.transform import resize\n",
    "from skimage.color import rgb2hsv\n",
    "import pandas\n",
    "from annotation_utilities import *\n",
    "from registration_utilities import *\n",
    "from learning_utilities import *\n",
    "from data_manager import *\n"
   ]
  },
  {
   "cell_type": "code",
   "execution_count": 9,
   "metadata": {},
   "outputs": [
    {
     "name": "stderr",
     "output_type": "stream",
     "text": [
      "Folder already exists."
     ]
    }
   ],
   "source": [
    "stack = 'MD589'\n",
    "metadata_cache['section_limits'][stack]\n",
    "patch_size = 224\n",
    "patch_half_size = patch_size / 2\n",
    "stride = 56\n",
    "# Crop images\n",
    "# \n",
    "# crop_x_min = 9000\n",
    "# crop_x_max = 10500\n",
    "# crop_y_min = 3000\n",
    "# crop_y_max = 4500\n",
    "\n",
    "# Inside\n",
    "# crop_x_min = 4000\n",
    "# crop_x_max = 6000\n",
    "# crop_y_min = 2400\n",
    "# crop_y_max = 4400\n",
    "\n",
    "# Whole\n",
    "crop_x_min = 0\n",
    "crop_y_min = 0\n",
    "_, _, crop_y_max, crop_x_max = get_default_gridspec(stack=stack, patch_size=patch_size, stride=stride)\n",
    "\n",
    "crop_image_width = crop_y_max - crop_y_min\n",
    "crop_image_height = crop_x_max - crop_x_min\n",
    "\n",
    "def get_filename(define_list):\n",
    "    \"\"\"\n",
    "    get_finelname(list_of_definition_component): return a string concaining filename definition, seperated by '_' \n",
    "    \"\"\"\n",
    "    filename_head = ''\n",
    "    for filename_element in map(str,define_list):\n",
    "        filename_head = filename_head + filename_element + '_'\n",
    "    return filename_head\n",
    "\n",
    "patch_center_pixel_location = grid_parameters_to_sample_locations((patch_size, stride, crop_image_width, crop_image_height ))\n",
    "patch_ul = patch_center_pixel_location + ( - patch_half_size, - patch_half_size )\n",
    "patch_ur = patch_center_pixel_location + ( - patch_half_size,   patch_half_size )\n",
    "patch_dl = patch_center_pixel_location + (   patch_half_size, - patch_half_size )\n",
    "patch_dr = patch_center_pixel_location + (   patch_half_size,   patch_half_size )\n",
    "patch_contour = np.array(zip(patch_ul, patch_ur, patch_dr, patch_dl))\n",
    "\n",
    "# Options\n",
    "option_rescale_grayscale = True\n",
    "option_THimage_save = True;\n",
    "option_save_image_extension = '.png'\n",
    "\n",
    "# Process images\n",
    "option_label_connectivity = 4;\n",
    "\n",
    "\n",
    "save_folder_path = '/shared/MouseBrainAtlasXiang/XJ/Output/Extract_background_features/'\n",
    "if os.path.isdir(save_folder_path):\n",
    "    sys.stderr.write('Folder already exists.')\n",
    "else:\n",
    "    os.makedirs(save_folder_path)\n",
    "    sys.stderr.write('Folder created.')"
   ]
  },
  {
   "cell_type": "code",
   "execution_count": 10,
   "metadata": {},
   "outputs": [
    {
     "name": "stderr",
     "output_type": "stream",
     "text": [
      "Image files are already available. \n",
      "/usr/local/lib/python2.7/dist-packages/skimage/util/dtype.py:122: UserWarning: Possible precision loss when converting from float64 to uint8\n",
      "  .format(dtypeobj_in, dtypeobj_out))\n"
     ]
    }
   ],
   "source": [
    "# Set examine section number range and download from S3 if not available\n",
    "img_filename = []\n",
    "secIndexList = range(200, 201)\n",
    "\n",
    "for tempIndex1 in range(len(secIndexList)):\n",
    "    img_filename.append(DataManager.get_image_filepath(stack=stack, section=secIndexList[tempIndex1], resol='lossless', version='cropped'))\n",
    "    if os.path.isfile(img_filename[tempIndex1]):\n",
    "        sys.stderr.write('Image files are already available. \\n')\n",
    "        continue\n",
    "    else:\n",
    "        try:\n",
    "            download_from_s3(img_filename[tempIndex1])\n",
    "        except:\n",
    "            sys.stderr.write('Download fail. Skip this file...\\n')\n",
    "            continue\n",
    "            \n",
    "im_cropped = []\n",
    "for imIndex in img_filename:\n",
    "# for imIndex in [img_filename[0]]:\n",
    "     im_cropped.append(img_as_ubyte(rgb2gray(imread(imIndex)[crop_x_min:crop_x_max, crop_y_min:crop_y_max])))\n",
    "    \n",
    "im_cropped_h, im_cropped_w = im_cropped[0].shape[:2]"
   ]
  },
  {
   "cell_type": "code",
   "execution_count": 6,
   "metadata": {},
   "outputs": [
    {
     "data": {
      "text/html": [
       "<a href='tmp.jpg' target='_blank'>tmp.jpg</a><br>"
      ],
      "text/plain": [
       "/shared/MouseBrainAtlasXiang/XJ/tmp.jpg"
      ]
     },
     "execution_count": 6,
     "metadata": {},
     "output_type": "execute_result"
    }
   ],
   "source": [
    "# display_image(imread(img_filename[0]))"
   ]
  },
  {
   "cell_type": "code",
   "execution_count": 11,
   "metadata": {
    "collapsed": true
   },
   "outputs": [],
   "source": [
    "option_rescale_grayscale = True\n",
    "option_inverse_color = False\n",
    "secIndex = 0\n",
    "\n",
    "if option_rescale_grayscale:\n",
    "    tempImage = im_cropped[secIndex]\n",
    "    vmin = np.percentile(tempImage, 0)\n",
    "    vmax = np.percentile(tempImage, 100)\n",
    "    tempImage = (tempImage - vmin) / (vmax - vmin)\n",
    "    tempImage = np.maximum(np.minimum(tempImage, 1), 0)\n",
    "    tempImage = img_as_ubyte(tempImage)\n",
    "    if option_inverse_color:\n",
    "        tempImage = 255 - img_as_ubyte(tempImage)\n",
    "else:\n",
    "    tempImage = im_cropped[secIndex]"
   ]
  },
  {
   "cell_type": "code",
   "execution_count": 20,
   "metadata": {},
   "outputs": [
    {
     "name": "stdout",
     "output_type": "stream",
     "text": [
      "Normalized rescaled grayscale histrogram of cropped original image\n",
      " Image size: 11936 * 15520\n"
     ]
    }
   ],
   "source": [
    "'Normalized rescaled grayscale histrogram of cropped original image\\n Image size: {} * {}'.format(crop_image_height, crop_image_width)"
   ]
  },
  {
   "cell_type": "code",
   "execution_count": 21,
   "metadata": {
    "scrolled": true
   },
   "outputs": [
    {
     "data": {
      "image/png": "[encoded data removed]",
      "text/plain": [
       "<matplotlib.figure.Figure at 0x7f512eb48f50>"
      ]
     },
     "metadata": {},
     "output_type": "display_data"
    }
   ],
   "source": [
    "plt.hist(tempImage.flatten(), bins=256, normed=True);\n",
    "plt.title('Normalized rescaled grayscale histrogram of cropped original image\\n Image size: {} * {}'.format(crop_image_height, crop_image_width))\n",
    "plt.show()"
   ]
  },
  {
   "cell_type": "code",
   "execution_count": 15,
   "metadata": {},
   "outputs": [
    {
     "data": {
      "text/plain": [
       "[(0, 0.0),\n",
       " (5, 76.0),\n",
       " (10, 123.0),\n",
       " (15, 163.0),\n",
       " (20, 185.0),\n",
       " (25, 195.0),\n",
       " (30, 199.0),\n",
       " (35, 202.0),\n",
       " (40, 206.0),\n",
       " (45, 208.0),\n",
       " (50, 210.0),\n",
       " (55, 212.0),\n",
       " (60, 214.0),\n",
       " (65, 218.0),\n",
       " (70, 223.0),\n",
       " (75, 227.0),\n",
       " (80, 229.0),\n",
       " (85, 231.0),\n",
       " (90, 234.0),\n",
       " (95, 236.0)]"
      ]
     },
     "execution_count": 15,
     "metadata": {},
     "output_type": "execute_result"
    }
   ],
   "source": [
    "grayscale_AccPtl = [(percentile, np.percentile(tempImage.flatten(), percentile)) for percentile in range(0,100,5)]\n",
    "grayscale_AccPtl"
   ]
  },
  {
   "cell_type": "markdown",
   "metadata": {},
   "source": [
    "# Global Threshold - Otsu"
   ]
  },
  {
   "cell_type": "code",
   "execution_count": 37,
   "metadata": {
    "collapsed": true
   },
   "outputs": [],
   "source": [
    "from skimage.filters import threshold_otsu\n",
    "otsu_thresh = threshold_otsu(tempImage)\n",
    "tempImage_BW = tempImage <= otsu_thresh"
   ]
  },
  {
   "cell_type": "code",
   "execution_count": 38,
   "metadata": {},
   "outputs": [
    {
     "name": "stdout",
     "output_type": "stream",
     "text": [
      "Total detected area ratio is 0.133659\n"
     ]
    }
   ],
   "source": [
    "# Detected area\n",
    "detected_total_area = np.sum(tempImage_BW)\n",
    "detected_total_area_ratio = detected_total_area / float(crop_image_height * crop_image_width)\n",
    "print('Total detected area ratio is %f' %detected_total_area_ratio)"
   ]
  },
  {
   "cell_type": "code",
   "execution_count": 39,
   "metadata": {},
   "outputs": [],
   "source": [
    "# Get image matrix of each patch \n",
    "patches = [tempImage[y - patch_half_size : y + patch_half_size, x - patch_half_size : x + patch_half_size].copy() for x, y in patch_center_pixel_location]\n",
    "patch_area = patch_size ** 2\n",
    "patch_detected_area_ratio = [np.sum(tempPatches <= otsu_thresh)/float(patch_area) for tempPatches in patches]"
   ]
  },
  {
   "cell_type": "code",
   "execution_count": 41,
   "metadata": {},
   "outputs": [
    {
     "data": {
      "image/png": "[encoded data removed]",
      "text/plain": [
       "<matplotlib.figure.Figure at 0x7f512ee67fd0>"
      ]
     },
     "metadata": {},
     "output_type": "display_data"
    }
   ],
   "source": [
    "plt.hist(patch_detected_area_ratio,85);"
   ]
  },
  {
   "cell_type": "code",
   "execution_count": null,
   "metadata": {
    "collapsed": true
   },
   "outputs": [],
   "source": []
  }
 ],
 "metadata": {
  "kernelspec": {
   "display_name": "Python 2",
   "language": "python",
   "name": "python2"
  },
  "language_info": {
   "codemirror_mode": {
    "name": "ipython",
    "version": 2
   },
   "file_extension": ".py",
   "mimetype": "text/x-python",
   "name": "python",
   "nbconvert_exporter": "python",
   "pygments_lexer": "ipython2",
   "version": "2.7.12"
  }
 },
 "nbformat": 4,
 "nbformat_minor": 2
}
