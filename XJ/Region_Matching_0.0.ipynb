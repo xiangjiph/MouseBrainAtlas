{
 "cells": [
  {
   "cell_type": "code",
   "execution_count": 144,
   "metadata": {
    "scrolled": true
   },
   "outputs": [
    {
     "name": "stdout",
     "output_type": "stream",
     "text": [
      "The autoreload extension is already loaded. To reload it, use:\n",
      "  %reload_ext autoreload\n"
     ]
    }
   ],
   "source": [
    "import matplotlib.pyplot as plt\n",
    "%matplotlib inline\n",
    "%load_ext autoreload\n",
    "%reload_ext autoreload\n",
    "%autoreload 2\n",
    "\n",
    "import sys, os, time, collections\n",
    "\n",
    "sys.path.append(os.path.join(os.environ['REPO_DIR'], 'utilities'))\n",
    "sys.path.append(os.path.join(os.environ['REPO_DIR'], 'cells'))\n",
    "# sys.path.append(os.path.join(os.environ['REPO_DIR'], 'annotation'))\n",
    "# sys.path.append(os.path.join(os.environ['REPO_DIR']bb, 'learning'))\n",
    "\n",
    "import numpy as np\n",
    "import scipy\n",
    "import skimage\n",
    "from skimage.feature import peak_local_max\n",
    "from skimage.morphology import watershed\n",
    "from skimage.measure import regionprops, label, find_contours\n",
    "from skimage.color import rgb2hsv\n",
    "from scipy import ndimage as ndi\n",
    "import pandas\n",
    "from scipy.signal import argrelmax\n",
    "from scipy.stats import linregress\n",
    "\n",
    "from annotation_utilities import *\n",
    "from registration_utilities import *\n",
    "from learning_utilities import *\n",
    "from data_manager import *\n",
    "from utilities2015 import *\n",
    "from cell_utilities import *\n",
    "from metadata import *\n",
    "from distributed_utilities import download_from_s3\n",
    "\n",
    "from xj_utilities import *# save_folder_path = '/shared/MouseBrainAtlasXiang/XJ/Output/Collect_typical_blobs/'\n",
    "\n",
    "# save_folder_path = '/shared/MouseBrainAtlasXiang/XJ/Output/Collect_typical_blobs/'\n",
    "# fun_create_folder(save_folder_path=save_folder_path)"
   ]
  },
  {
   "cell_type": "code",
   "execution_count": 3,
   "metadata": {},
   "outputs": [],
   "source": [
    "scan_parameters = {}"
   ]
  },
  {
   "cell_type": "code",
   "execution_count": 4,
   "metadata": {},
   "outputs": [],
   "source": [
    "scan_parameters['stack'] = 'MD589'\n",
    "scan_parameters['patch_size'] = 448\n",
    "scan_parameters['patch_half_size'] = scan_parameters['patch_size']/2\n",
    "scan_parameters['stride'] = 112\n",
    "\n",
    "scan_parameters['section_limits'] = metadata_cache['section_limits'][scan_parameters['stack']]\n",
    "# Paremters for image reconstruction\n",
    "scan_parameters['o_crop'] = True\n",
    "scan_parameters['o_clear_border'] = True\n",
    "scan_parameters['o_relabel'] = True\n",
    "\n",
    "scan_parameters['oriImL1'], scan_parameters['oriImL0'] = metadata_cache['image_shape'][scan_parameters['stack']]\n",
    "scan_parameters['scan_section_range'] = 1\n",
    "\n",
    "scan_parameters['prop'] = ['centroid','eccentricity','area','orientation','moments_hu','bbox','equivalent_diameter','perimeter','compactness','label','major_axis_length','minor_axis_length']\n",
    "scan_parameters['prop_for_comparison'] = ['area', 'eccentricity']\n",
    "if 'moments_hu' in scan_parameters['prop_for_comparison']:\n",
    "    scan_parameters['compare_weight'] = [1 for i in range(6 + len(scan_parameters['prop_for_comparison']))]\n",
    "else:\n",
    "    scan_parameters['compare_weight'] = [1 for i in range(len(scan_parameters['prop_for_comparison']))]\n",
    "scan_parameters['compare_weight'] = np.array(scan_parameters['compare_weight'])/ float(np.sum(scan_parameters['compare_weight']))\n",
    "scan_parameters['similarity_threshold'] = 0.9\n",
    "scan_parameters['o_fix_scan_size'] = True\n",
    "scan_parameters['scan_size'] = 112\n",
    "scan_parameters['scan_size_coeff'] = 5\n",
    "scan_parameters['builtInProps'] = ['centroid','orientation', 'eccentricity','area','orientation','moments_hu','bbox','equivalent_diameter','label','local_centroid','major_axis_length','solidity','minor_axis_length','perimeter','solidity']\n",
    "scan_parameters['prop_to_save'] = ['coords','moments_hu','centroid','area','eccentricity','equivalent_diameter']\n",
    "scan_parameters['scan_outside_margin'] = 1000\n",
    "stack = scan_parameters['stack']"
   ]
  },
  {
   "cell_type": "code",
   "execution_count": 20,
   "metadata": {},
   "outputs": [],
   "source": [
    "scan_parameters['secList'] = fun_get_valid_section_list(stack=stack)"
   ]
  },
  {
   "cell_type": "code",
   "execution_count": 55,
   "metadata": {},
   "outputs": [],
   "source": [
    "# Whole image setting:\n",
    "scan_parameters['crop_0_min'] = 0\n",
    "scan_parameters['crop_1_min'] = 0\n",
    "scan_parameters['crop_0_max'] = scan_parameters['oriImL0']\n",
    "scan_parameters['crop_1_max'] = scan_parameters['oriImL1']\n",
    "scan_parameters['crop_range_mmxx'] = (scan_parameters['crop_0_min'], scan_parameters['crop_1_min'], scan_parameters['crop_0_max'], scan_parameters['crop_1_max'])\n",
    "scan_parameters['crop_range_mxmx'] = fun_mmxx_to_mxmx(*scan_parameters['crop_range_mmxx'])\n",
    "scan_parameters['im0max'] = scan_parameters['crop_0_max'] - scan_parameters['crop_0_min']\n",
    "scan_parameters['im1max'] = scan_parameters['crop_1_max'] - scan_parameters['crop_1_min']"
   ]
  },
  {
   "cell_type": "code",
   "execution_count": 54,
   "metadata": {},
   "outputs": [],
   "source": [
    "# margin = 10\n",
    "# bboxs_7N = {sec:fun_polygon_bbox(vertice_7N_dic[sec]) for sec in sectionList_7N}\n",
    "# bbox_7N = fun_polygons_bbox(bboxs_7N.values(),margin=margin)\n",
    "# # bbox_7N = bboxs_7N[154]\n",
    "# scan_parameters['crop_range_mmxx'] = bbox_7N\n",
    "# scan_parameters['crop_0_min'], scan_parameters['crop_1_min'],scan_parameters['crop_0_max'],scan_parameters['crop_1_max'] = bbox_7N \n",
    "# scan_parameters['im0max'] = scan_parameters['crop_0_max'] - scan_parameters['crop_0_min']\n",
    "# scan_parameters['im1max'] = scan_parameters['crop_1_max'] - scan_parameters['crop_1_min']\n",
    "# scan_parameters['crop_range_mxmx'] = fun_mmxx_to_mxmx(*scan_parameters['crop_range_mmxx'])"
   ]
  },
  {
   "cell_type": "markdown",
   "metadata": {},
   "source": [
    "### Generate grid"
   ]
  },
  {
   "cell_type": "code",
   "execution_count": 111,
   "metadata": {},
   "outputs": [],
   "source": [
    "patch_size = scan_parameters['patch_size'];\n",
    "patch_half_size = patch_size / 2;\n",
    "stride = scan_parameters['stride'];\n",
    "input_image_1 = scan_parameters['oriImL1'];\n",
    "input_image_0 = scan_parameters['oriImL0'];\n",
    "\n",
    "patch_center_pixel_location = grid_parameters_to_sample_locations((patch_size, stride, input_image_0,input_image_1))\n",
    "patch_ul = patch_center_pixel_location + ( - patch_half_size, - patch_half_size )\n",
    "patch_ur = patch_center_pixel_location + ( - patch_half_size,   patch_half_size )\n",
    "patch_dl = patch_center_pixel_location + (   patch_half_size, - patch_half_size )\n",
    "patch_dr = patch_center_pixel_location + (   patch_half_size,   patch_half_size )\n",
    "patch_contour = np.array(zip(patch_ul, patch_ur, patch_dr, patch_dl))"
   ]
  },
  {
   "cell_type": "markdown",
   "metadata": {},
   "source": [
    "### Reconstruct images"
   ]
  },
  {
   "cell_type": "code",
   "execution_count": 56,
   "metadata": {},
   "outputs": [],
   "source": [
    "section = 152\n",
    "cell_global_coord = {}\n",
    "im_blob_prop = {}\n",
    "im_label_ori = {}\n",
    "im_label = {}\n",
    "im_BW = {}\n",
    "cell_centroids = {}\n",
    "cell_numbers = {}\n",
    "fun_mmxx_to_mxmx\n",
    "scan_range = scan_parameters['scan_section_range']\n",
    "secList = scan_parameters['secList'] \n",
    "sec_load_data_list = range(section - scan_range, section + scan_range + 1)\n",
    "scan_section = list(sec_load_data_list)\n",
    "scan_section.remove(section)\n",
    "tempList = list(sec_load_data_list)\n",
    "for tempSec in tempList:\n",
    "    if tempSec in secList:\n",
    "        cell_global_coord[tempSec] = load_cell_data('coords', stack=stack, sec=tempSec)\n",
    "        temp_im_label, temp_im_blob_prop, _ = fun_reconstruct_labeled_image(cell_global_coord[tempSec],crop_range= scan_parameters['crop_range_mxmx'], \n",
    "                                                                    oriImL0=scan_parameters['oriImL0'],oriImL1=scan_parameters['oriImL1'])\n",
    "#             im_label[tempSec] = temp_im_label\n",
    "#             im_BW[tempSec] = temp_im_label > 0\n",
    "        im_blob_prop[tempSec] = np.array(temp_im_blob_prop)\n",
    "    else:\n",
    "        sys.stderr.write('Warning: missing section %d'%tempSec)o_scan_size\n",
    "        scan_section.remove(tempSec)\n",
    "        sec_load_data_list.remove(tempSec)"
   ]
  },
  {
   "cell_type": "markdown",
   "metadata": {},
   "source": [
    "### Eliminate small blobs"
   ]
  },
  {
   "cell_type": "code",
   "execution_count": 57,
   "metadata": {},
   "outputs": [],
   "source": [
    "blob_prop_dic = fun_regionprops_dic(im_blob_prop=im_blob_prop,scan_parameters=scan_parameters)\n",
    "blob_idx_selection = {tempSec : np.logical_and.reduce(np.row_stack(\n",
    "    (blob_prop_dic[tempSec]['compactness']>0,\n",
    "#      blob_prop_dic[tempSec]['compactness']<2.5,\n",
    "     blob_prop_dic[tempSec]['area']<3000,\n",
    "     blob_prop_dic[tempSec]['area']>200))) for tempSec in sec_load_data_list}  \n",
    "\n",
    "n_blobs = {tempSec: len(im_blob_prop[tempSec]) for tempSec in im_blob_prop.keys()}\n",
    "secList_in_BlobPropDic = im_blob_prop.keys()\n",
    "if set(scan_section).issubset(set(secList_in_BlobPropDic)):\n",
    "    pass\n",
    "else:\n",
    "    print('Warrning: Scaned section(s) not included in input im_blob_prop')"
   ]
  },
  {
   "cell_type": "markdown",
   "metadata": {},
   "source": [
    "### Update labeled images "
   ]
  },
  {
   "cell_type": "code",
   "execution_count": 83,
   "metadata": {},
   "outputs": [],
   "source": [
    "blob_selected_coord = {tmpSec:[tmpProp['coords'] for tmpProp in im_blob_prop[tmpSec][blob_idx_selection[tmpSec]]] for tmpSec in sec_load_data_list }\n",
    "for tmpSec in sec_load_data_list:\n",
    "    temp_im_label, temp_im_blob_prop,_ = fun_reconstruct_labeled_image(blob_selected_coord[tmpSec], crop_range=scan_parameters['crop_range_mxmx'],oriImL0=scan_parameters['oriImL0'], oriImL1=scan_parameters['oriImL1']);\n",
    "    im_label[tmpSec] = temp_im_label\n",
    "    im_blob_prop[tmpSec] = temp_im_blob_prop"
   ]
  },
  {
   "cell_type": "markdown",
   "metadata": {},
   "source": [
    "### Compute similarity dataset"
   ]
  },
  {
   "cell_type": "code",
   "execution_count": 95,
   "metadata": {},
   "outputs": [],
   "source": [
    "scan_range = scan_parameters['scan_section_range']\n",
    "im0max = scan_parameters['im0max']\n",
    "im1max = scan_parameters['im1max']\n",
    "prop = scan_parameters['prop']\n",
    "prop_for_comparison = scan_parameters['prop_for_comparison']\n",
    "compare_weight = scan_parameters['compare_weight']\n",
    "o_scan_size = scan_parameters['scan_size'] "
   ]
  },
  {
   "cell_type": "code",
   "execution_count": 196,
   "metadata": {},
   "outputs": [],
   "source": [
    "tempSec = scan_section[1]\n",
    "num_patch = len(patch_center_pixel_location);\n",
    "patchID = 6000;\n",
    "patch_scan_range = 1;"
   ]
  },
  {
   "cell_type": "code",
   "execution_count": 221,
   "metadata": {},
   "outputs": [],
   "source": [
    "current_blobID_list = np.unique(fun_crop_images_2dInput(im_label[section], contour=patch_contour[patchID], im0max=im0max, im1max=im1max)).tolist()\n",
    "assert 0 in current_blobID_list, current_blobID_list.remove(0)\n",
    "num_current_blob = len(current_blobID_list);"
   ]
  },
  {
   "cell_type": "code",
   "execution_count": 184,
   "metadata": {},
   "outputs": [],
   "source": [
    "# Given patchID in section section, get the scan_patchID_list in section tempSec\n",
    "patch_loc = patch_center_pixel_location/ stride - patch_half_size/stride;\n",
    "patch_map = np.zeros(np.max(patch_center_pixel_location/ stride - 1, axis=0),dtype=np.int16)\n",
    "for tmpIdx in range(len(patch_loc)):\n",
    "    tmpX = patch_loc[tmpIdx][0];\n",
    "    tmpY = patch_loc[tmpIdx][1];\n",
    "    patch_map[tmpX, tmpY] = tmpIdx\n",
    "patch_map_0, patch_map_1 = np.shape(patch_map)\n",
    "# Get scan patch index\n",
    "temp_next_sec_range, _ = fun_scan_range(patch_loc[patchID], patch_scan_range, im0max=patch_map_0, im1max=patch_map_1)\n",
    "scan_patchID_list = fun_crop_images(patch_map, *temp_next_sec_range, im0max=patch_map_0, im1max=patch_map_1).flatten()"
   ]
  },
  {
   "cell_type": "code",
   "execution_count": 362,
   "metadata": {},
   "outputs": [],
   "source": [
    "# scan_patchID = scan_patchID_list[0]\n",
    "scan_patchID = 4000\n",
    "# Get blob props in patches by pologen. Alternatively, can use crop image, but require storing the image in the RAM\n",
    "tempBlobInside = fun_blobs_in_polygen(blob_prop_dic[tempSec]['centroid'],patch_contour[scan_patchID],coor_order='cr')\n",
    "tempBlobInsideIndex = np.where(tempBlobInside)[0]\n",
    "temp_num_blob = len(tempBlobInsideIndex)\n",
    "temp_weight_sim_matrix = np.zeros([num_current_blob, temp_num_blob], dtype=np.float16)\n",
    "for tmp_current_blobID_idx in range(len(current_blobID_list)):\n",
    "    temp_curr_blob_props = {}\n",
    "    for tempProp in prop:\n",
    "        temp_curr_blob_props[tempProp] = blob_prop_dic[section][tempProp][current_blobID_list[tmp_current_blobID_idx]]\n",
    "\n",
    "    if temp_num_blob:\n",
    "        temp_sim = {}\n",
    "        for temp_prop in prop_for_comparison:\n",
    "              temp_sim[temp_prop] = np.array(fun_similarity(temp_curr_blob_props[temp_prop], blob_prop_dic[tempSec][temp_prop][tempBlobInside],distance_type=temp_prop))\n",
    "        temp_sim_matrix = np.column_stack((temp_sim[temp_prop] for temp_prop in prop_for_comparison))\n",
    "        temp_weight_sim_matrix[tmp_current_blobID_idx,:] = np.dot(temp_sim_matrix,compare_weight)"
   ]
  },
  {
   "cell_type": "code",
   "execution_count": 473,
   "metadata": {},
   "outputs": [],
   "source": [
    "# Score map: single patch vs whole images\n",
    "score_map = np.zeros(np.shape(patch_map))\n",
    "for scan_patchID in range(len(patch_loc)):\n",
    "    tempBlobInside = fun_blobs_in_polygen(blob_prop_dic[tempSec]['centroid'],patch_contour[scan_patchID],coor_order='cr')\n",
    "    tempBlobInsideIndex = np.where(tempBlobInside)[0]\n",
    "    temp_num_blob = len(tempBlobInsideIndex)\n",
    "    temp_weight_sim_matrix = np.zeros([num_current_blob, temp_num_blob], dtype=np.float16)\n",
    "    for tmp_current_blobID_idx in range(len(current_blobID_list)):\n",
    "        temp_curr_blob_props = {}\n",
    "        for tempProp in prop:\n",
    "            temp_curr_blob_props[tempProp] = blob_prop_dic[section][tempProp][current_blobID_list[tmp_current_blobID_idx]]\n",
    "\n",
    "        if temp_num_blob:\n",
    "            temp_sim = {}\n",
    "            for temp_prop in prop_for_comparison:\n",
    "                  temp_sim[temp_prop] = np.array(fun_similarity(temp_curr_blob_props[temp_prop], blob_prop_dic[tempSec][temp_prop][tempBlobInside],distance_type=temp_prop))\n",
    "            temp_sim_matrix = np.column_stack((temp_sim[temp_prop] for temp_prop in prop_for_comparison))\n",
    "            temp_weight_sim_matrix[tmp_current_blobID_idx,:] = np.dot(temp_sim_matrix,compare_weight)\n",
    "    score_map[tuple(patch_loc[scan_patchID])] = fun_region_similarity_v1(temp_weight_sim_matrix)"
   ]
  },
  {
   "cell_type": "code",
   "execution_count": 478,
   "metadata": {},
   "outputs": [],
   "source": [
    "vis_map = score_map.copy()"
   ]
  },
  {
   "cell_type": "code",
   "execution_count": 486,
   "metadata": {},
   "outputs": [],
   "source": [
    "vis_map = np.power(vis_map,2)"
   ]
  },
  {
   "cell_type": "code",
   "execution_count": 492,
   "metadata": {},
   "outputs": [
    {
     "data": {
      "text/plain": [
       "array([4928, 6720])"
      ]
     },
     "execution_count": 492,
     "metadata": {},
     "output_type": "execute_result"
    }
   ],
   "source": [
    "patch_loc[patchID] * stride"
   ]
  },
  {
   "cell_type": "code",
   "execution_count": 490,
   "metadata": {},
   "outputs": [
    {
     "data": {
      "text/plain": [
       "<matplotlib.image.AxesImage at 0x7faa254b5d50>"
      ]
     },
     "execution_count": 490,
     "metadata": {},
     "output_type": "execute_result"
    },
    {
     "data": {
      "image/png": "[encoded data removed]",
      "text/plain": [
       "<matplotlib.figure.Figure at 0x7faa252f7f90>"
      ]
     },
     "metadata": {},
     "output_type": "display_data"
    }
   ],
   "source": [
    "plt.imshow(fun_crop_images_2dInput(im_label[section], contour=patch_contour[patchID], im0max=im0max, im1max=im1max))"
   ]
  },
  {
   "cell_type": "code",
   "execution_count": 493,
   "metadata": {},
   "outputs": [
    {
     "data": {
      "text/plain": [
       "<matplotlib.image.AxesImage at 0x7faa2556ee90>"
      ]
     },
     "execution_count": 493,
     "metadata": {},
     "output_type": "execute_result"
    },
    {
     "data": {
      "image/png": "[encoded data removed]",
      "text/plain": [
       "<matplotlib.figure.Figure at 0x7faa253a9610>"
      ]
     },
     "metadata": {},
     "output_type": "display_data"
    }
   ],
   "source": [
    "plt.figure(figsize=(15,15))\n",
    "plt.imshow(im_label[section])"
   ]
  },
  {
   "cell_type": "code",
   "execution_count": 487,
   "metadata": {
    "scrolled": false
   },
   "outputs": [
    {
     "data": {
      "text/plain": [
       "<matplotlib.colorbar.Colorbar at 0x7faa25346a90>"
      ]
     },
     "execution_count": 487,
     "metadata": {},
     "output_type": "execute_result"
    },
    {
     "data": {
      "image/png": "[encoded data removed]",
      "text/plain": [
       "<matplotlib.figure.Figure at 0x7faa252495d0>"
      ]
     },
     "metadata": {},
     "output_type": "display_data"
    }
   ],
   "source": [
    "plt.figure(figsize=(15,15))\n",
    "plt.imshow(vis_map)\n",
    "plt.colorbar()"
   ]
  },
  {
   "cell_type": "code",
   "execution_count": 363,
   "metadata": {},
   "outputs": [
    {
     "data": {
      "text/plain": [
       "3880"
      ]
     },
     "execution_count": 363,
     "metadata": {},
     "output_type": "execute_result"
    }
   ],
   "source": [
    "np.size(temp_weight_sim_matrix)a"
   ]
  },
  {
   "cell_type": "code",
   "execution_count": 364,
   "metadata": {},
   "outputs": [
    {
     "data": {
      "text/plain": [
       "<matplotlib.image.AxesImage at 0x7faa2246e950>"
      ]
     },
     "execution_count": 364,
     "metadata": {},
     "output_type": "execute_result"
    },
    {
     "data": {
      "image/png": "[encoded data removed]",
      "text/plain": [
       "<matplotlib.figure.Figure at 0x7faa221b4790>"
      ]
     },
     "metadata": {},
     "output_type": "display_data"
    }
   ],
   "source": [
    "plt.figure(figsize=(15,15))\n",
    "plt.imshow(np.float64(temp_weight_sim_matrix))\n"
   ]
  },
  {
   "cell_type": "code",
   "execution_count": 468,
   "metadata": {},
   "outputs": [],
   "source": [
    "score_matrix = temp_weight_sim_matrix.copy()"
   ]
  },
  {
   "cell_type": "code",
   "execution_count": 469,
   "metadata": {},
   "outputs": [],
   "source": [
    "matrix_shape = np.shape(score_matrix);\n",
    "axis_idx_0 = matrix_shape.index(min(matrix_shape))\n",
    "axis_idx_1 = 1 - axis_idx_0\n",
    "# matrix_shape.index(max(matrix_shape))\n",
    "num_iteration = matrix_shape[axis_idx_0]\n",
    "region_similarity = 0;"
   ]
  },
  {
   "cell_type": "markdown",
   "metadata": {},
   "source": [
    "### Region Comparison"
   ]
  },
  {
   "cell_type": "code",
   "execution_count": 470,
   "metadata": {
    "scrolled": true
   },
   "outputs": [
    {
     "name": "stdout",
     "output_type": "stream",
     "text": [
      "(40, 40)\n",
      "(39, 39)\n",
      "(38, 38)\n",
      "(37, 37)\n",
      "(36, 36)\n",
      "(35, 35)\n",
      "(34, 34)\n",
      "(33, 33)\n",
      "(32, 32)\n",
      "(31, 31)\n",
      "(30, 30)\n",
      "(29, 29)\n",
      "(28, 28)\n",
      "(27, 27)\n",
      "(26, 26)\n",
      "(25, 25)\n",
      "(24, 24)\n",
      "(23, 23)\n",
      "(22, 22)\n",
      "(21, 21)\n",
      "(20, 20)\n",
      "(19, 19)\n",
      "(18, 18)\n",
      "(17, 17)\n",
      "(16, 16)\n",
      "(15, 15)\n",
      "(14, 14)\n",
      "(13, 13)\n",
      "(12, 12)\n",
      "(11, 11)\n",
      "(10, 10)\n",
      "(9, 9)\n",
      "(8, 8)\n",
      "(7, 7)\n",
      "(6, 6)\n",
      "(5, 5)\n",
      "(4, 4)\n",
      "(3, 3)\n",
      "(2, 2)\n",
      "(1, 1)\n"
     ]
    }
   ],
   "source": [
    "for iterIdx in range(num_iteration):\n",
    "    print(np.shape(score_matrix))\n",
    "    max_pos = tuple(np.argwhere(score_matrix==np.max(score_matrix))[0].tolist())\n",
    "    region_similarity += score_matrix[max_pos]\n",
    "    score_matrix = np.delete(score_matrix, (max_pos[axis_idx_1]), axis=axis_idx_1)\n",
    "    score_matrix = np.delete(score_matrix, (max_pos[axis_idx_0]), axis=axis_idx_0)"
   ]
  },
  {
   "cell_type": "code",
   "execution_count": 400,
   "metadata": {},
   "outputs": [
    {
     "data": {
      "text/plain": [
       "(26, 21)"
      ]
     },
     "execution_count": 400,
     "metadata": {},
     "output_type": "execute_result"
    }
   ],
   "source": [
    "np.shape(score_matrix)"
   ]
  },
  {
   "cell_type": "code",
   "execution_count": 471,
   "metadata": {},
   "outputs": [],
   "source": [
    "def fun_region_similarity_v1(score_matrix):\n",
    "    matrix_shape = np.shape(score_matrix);\n",
    "    axis_idx_0 = matrix_shape.index(min(matrix_shape))\n",
    "    axis_idx_1 = 1 - axis_idx_0\n",
    "    num_iteration = matrix_shape[axis_idx_0]\n",
    "    region_similarity = 0;\n",
    "    \n",
    "    for iterIdx in range(num_iteration):\n",
    "        max_pos = tuple(np.argwhere(score_matrix==np.max(score_matrix))[0].tolist())\n",
    "        region_similarity += score_matrix[max_pos]\n",
    "        score_matrix = np.delete(score_matrix, (max_pos[axis_idx_1]), axis=axis_idx_1)\n",
    "        score_matrix = np.delete(score_matrix, (max_pos[axis_idx_0]), axis=axis_idx_0)\n",
    "    return region_similarity"
   ]
  },
  {
   "cell_type": "code",
   "execution_count": 472,
   "metadata": {},
   "outputs": [
    {
     "data": {
      "text/plain": [
       "0"
      ]
     },
     "execution_count": 472,
     "metadata": {},
     "output_type": "execute_result"
    }
   ],
   "source": [
    "fun_region_similarity_v1(score_matrix)"
   ]
  },
  {
   "cell_type": "code",
   "execution_count": 334,
   "metadata": {},
   "outputs": [],
   "source": []
  },
  {
   "cell_type": "code",
   "execution_count": 335,
   "metadata": {},
   "outputs": [
    {
     "data": {
      "text/plain": [
       "37.79150390625"
      ]
     },
     "execution_count": 335,
     "metadata": {},
     "output_type": "execute_result"
    }
   ],
   "source": [
    "region_similarity"
   ]
  },
  {
   "cell_type": "code",
   "execution_count": 277,
   "metadata": {},
   "outputs": [],
   "source": [
    "score_matrix[max_pos[0],:] = 0\n",
    "score_matrix[:,max_pos[1]] = 0\n",
    "score_matrix = score_matrix[score_matrix>0]"
   ]
  },
  {
   "cell_type": "code",
   "execution_count": 280,
   "metadata": {},
   "outputs": [
    {
     "data": {
      "text/plain": [
       "(array([   0,    1,    2, ..., 6783, 6784, 6785]),)"
      ]
     },
     "execution_count": 280,
     "metadata": {},
     "output_type": "execute_result"
    }
   ],
   "source": [
    "np.where(score_matrix>0)"
   ]
  },
  {
   "cell_type": "code",
   "execution_count": 278,
   "metadata": {},
   "outputs": [
    {
     "data": {
      "text/plain": [
       "(6786,)"
      ]
     },
     "execution_count": 278,
     "metadata": {},
     "output_type": "execute_result"
    }
   ],
   "source": [
    "np.shape(score_matrix)"
   ]
  },
  {
   "cell_type": "code",
   "execution_count": 5,
   "metadata": {},
   "outputs": [
    {
     "name": "stdout",
     "output_type": "stream",
     "text": [
      "aws s3 cp --recursive \"s3://mousebrainatlas-data/CSHL_labelings_v3/MD589\" \"/shared/CSHL_labelings_v3/MD589\" --exclude \"*\" --include \"*contours*\"\n",
      "latest timestamp:  10042017100807\n"
     ]
    }
   ],
   "source": [
    "contour_df = DataManager.load_annotation_v4(stack=scan_parameters['stack'],by_human=True,suffix='contours',timestamp='latest')\n",
    "contour_df = convert_annotation_v3_original_to_aligned_cropped(contour_df=contour_df,stack=stack)\n",
    "structure_name = '7N'\n",
    "vertice_7N_dic = {record['section']:np.array(record['vertices'],np.int) for _, record in contour_df[contour_df['name']==structure_name].iterrows()}\n",
    "sectionList_7N = np.sort(vertice_7N_dic.keys())"
   ]
  },
  {
   "cell_type": "code",
   "execution_count": 5,
   "metadata": {
    "collapsed": true,
    "scrolled": true
   },
   "outputs": [],
   "source": [
    "margin = 10\n",
    "bboxs_7N = {sec:fun_polygon_bbox(vertice_7N_dic[sec]) for sec in sectionList_7N}\n",
    "bbox_7N = fun_polygons_bbox(bboxs_7N.values(),margin=margin)\n",
    "# bbox_7N = bboxs_7N[154]\n",
    "scan_parameters['crop_range_mmxx'] = bbox_7N\n",
    "scan_parameters['crop_0_min'], scan_parameters['crop_1_min'],scan_parameters['crop_0_max'],scan_parameters['crop_1_max'] = bbox_7N \n",
    "scan_parameters['im0max'] = scan_parameters['crop_0_max'] - scan_parameters['crop_0_min']\n",
    "scan_parameters['im1max'] = scan_parameters['crop_1_max'] - scan_parameters['crop_1_min']\n",
    "scan_parameters['crop_range_mxmx'] = fun_mmxx_to_mxmx(*scan_parameters['crop_range_mmxx'])"
   ]
  },
  {
   "cell_type": "code",
   "execution_count": 64,
   "metadata": {
    "collapsed": true
   },
   "outputs": [],
   "source": [
    "# Get avaliable sections:\n",
    "stack = scan_parameters['stack']\n",
    "section_begin, section_end = scan_parameters['section_limits']\n",
    "# load_section_num = 40\n",
    "# load_start_section = 147 - section_begin\n",
    "load_start_section = min(sectionList_7N) - 5 - section_begin\n",
    "load_section_num = max(sectionList_7N) -  min(sectionList_7N) + 10\n",
    "all_valid_section = fun_get_valid_section_list(stack=stack)\n",
    "secList = all_valid_section[load_start_section:load_section_num + load_start_section]\n",
    "scan_parameters['secList'] = secList"
   ]
  },
  {
   "cell_type": "code",
   "execution_count": 25,
   "metadata": {
    "collapsed": true
   },
   "outputs": [],
   "source": [
    "# # loading data\n",
    "# image = {}\n",
    "# for tempSec in secList:\n",
    "#     try:\n",
    "#         image[tempSec] = fun_crop_images(DataManager.load_image_v2(stack=stack, section=tempSec, version='jpeg', prep_id=2),*scan_parameters['crop_range_mmxx'],im0max=scan_parameters['oriImL0'],im1max=scan_parameters['oriImL1'] )\n",
    "#     except:\n",
    "#         sys.stderr.write('Cannot import section %d...\\n'%tempSec)\n",
    "#         continue"
   ]
  },
  {
   "cell_type": "code",
   "execution_count": null,
   "metadata": {
    "collapsed": true
   },
   "outputs": [
    {
     "name": "stderr",
     "output_type": "stream",
     "text": [
      "Warning: missing section 147"
     ]
    },
    {
     "name": "stdout",
     "output_type": "stream",
     "text": [
      "Section 148 Finished percentage: 0.000000\n",
      "Section 148 Finished percentage: 90.009001\n",
      "Section 149 Finished percentage: 0.000000\n",
      "Section 150 Finished percentage: 0.000000\n",
      "Section 150 Finished percentage: 95.510984\n",
      "Section 151 Finished percentage: 0.000000\n",
      "Section 152 Finished percentage: 0.000000\n",
      "Section 152 Finished percentage: 88.105727\n",
      "Section 153 Finished percentage: 0.000000\n",
      "Section 154 Finished percentage: 0.000000\n",
      "Section 154 Finished percentage: 89.206066\n",
      "Section 155 Finished percentage: 0.000000\n",
      "Section 155 Finished percentage: 75.131480\n",
      "Section 156 Finished percentage: 0.000000\n",
      "Section 157 Finished percentage: 0.000000\n",
      "Section 157 Finished percentage: 76.923077\n",
      "Section 158 Finished percentage: 0.000000\n",
      "Section 159 Finished percentage: 0.000000\n",
      "Section 159 Finished percentage: 75.357950\n",
      "Section 160 Finished percentage: 0.000000\n",
      "Section 160 Finished percentage: 71.633238\n",
      "Section 161 Finished percentage: 0.000000\n",
      "Section 161 Finished percentage: 60.938452\n",
      "Section 162 Finished percentage: 0.000000\n",
      "Section 162 Finished percentage: 73.099415\n",
      "Section 163 Finished percentage: 0.000000\n",
      "Section 163 Finished percentage: 59.844405\n",
      "Section 164 Finished percentage: 0.000000\n",
      "Section 164 Finished percentage: 66.666667\n",
      "Section 165 Finished percentage: 0.000000\n",
      "Section 165 Finished percentage: 53.022269\n",
      "Section 166 Finished percentage: 0.000000\n",
      "Section 166 Finished percentage: 54.975261\n",
      "Section 167 Finished percentage: 0.000000\n",
      "Section 167 Finished percentage: 69.930070\n",
      "Section 168 Finished percentage: 0.000000\n",
      "Section 168 Finished percentage: 65.316786\n",
      "Section 169 Finished percentage: 0.000000\n",
      "Section 169 Finished percentage: 57.306590\n",
      "Section 170 Finished percentage: 0.000000\n",
      "Section 170 Finished percentage: 63.171194\n",
      "Section 171 Finished percentage: 0.000000\n",
      "Section 171 Finished percentage: 52.742616\n",
      "Section 172 Finished percentage: 0.000000\n",
      "Section 172 Finished percentage: 59.808612\n",
      "Section 173 Finished percentage: 0.000000\n",
      "Section 173 Finished percentage: 57.870370\n",
      "Section 174 Finished percentage: 0.000000\n",
      "Section 174 Finished percentage: 63.331222\n",
      "Section 175 Finished percentage: 0.000000\n",
      "Section 175 Finished percentage: 58.479532\n",
      "Section 176 Finished percentage: 0.000000\n",
      "Section 176 Finished percentage: 69.541029\n",
      "Section 177 Finished percentage: 0.000000\n",
      "Section 177 Finished percentage: 61.162080\n",
      "Section 178 Finished percentage: 0.000000\n",
      "Section 178 Finished percentage: 63.251107\n",
      "Section 179 Finished percentage: 0.000000\n",
      "Section 179 Finished percentage: 59.988002\n",
      "Section 180 Finished percentage: 0.000000\n",
      "Section 180 Finished percentage: 84.530854\n",
      "Section 181 Finished percentage: 0.000000\n",
      "Section 181 Finished percentage: 56.369786\n",
      "Section 182 Finished percentage: 0.000000\n",
      "Section 182 Finished percentage: 68.870523\n",
      "Section 183 Finished percentage: 0.000000\n",
      "Section 183 Finished percentage: 84.530854\n",
      "Section 184 Finished percentage: 0.000000\n",
      "Section 184 Finished percentage: 76.687117\n",
      "Section 185 Finished percentage: 0.000000\n",
      "Section 185 Finished percentage: 57.537399\n",
      "Section 186 Finished percentage: 0.000000\n",
      "Section 186 Finished percentage: 67.658999\n",
      "Section 187 Finished percentage: 0.000000\n"
     ]
    }
   ],
   "source": [
    "scan_range = scan_parameters['scan_section_range']\n",
    "im0max = scan_parameters['im0max']\n",
    "im1max = scan_parameters['im1max']\n",
    "prop = scan_parameters['prop']\n",
    "prop_for_comparison = scan_parameters['prop_for_comparison']\n",
    "compare_weight = scan_parameters['compare_weight']\n",
    "o_simil_threshold = scan_parameters['similarity_threshold']\n",
    "o_fix_scan_size = scan_parameters['o_fix_scan_size']\n",
    "o_scan_size_coeff = scan_parameters['scan_size_coeff']\n",
    "o_scan_size = scan_parameters['scan_size']  \n",
    "secList = scan_parameters['secList'] \n",
    "stack = scan_parameters['stack']\n",
    "\n",
    "data_typical_blobs = {}\n",
    "data_matched_paris = {}\n",
    "data_false_typical_blobs = {}\n",
    "data_false_matched_pairs = {}\n",
    "data_blob_prop_dic = {}\n",
    "data_blob_idx_selection = {}\n",
    "# section = 154\n",
    "for section in secList:\n",
    "    typical_blobs = []\n",
    "    matched_paris = []\n",
    "    false_typical_blobs = []\n",
    "    false_matched_paris = []\n",
    "    cell_centroids = {}\n",
    "    cell_numbers = {}\n",
    "    cell_global_coord = {}\n",
    "    im_blob_prop = {}\n",
    "    im_label_ori = {}\n",
    "    im_label = {}\n",
    "    im_BW = {}\n",
    "    sec_load_data_list = range(section - scan_range, section + scan_range + 1)\n",
    "    scan_section = list(sec_load_data_list)\n",
    "    scan_section.remove(section)\n",
    "    ### loading data and reconstructed labeled images ###\n",
    "    tempList = list(sec_load_data_list)\n",
    "    for tempSec in tempList:\n",
    "    #         print('process section %d'%tempSec)\n",
    "        if tempSec in secList:\n",
    "            cell_global_coord[tempSec] = load_cell_data('coords', stack=stack, sec=tempSec)\n",
    "    #             print('load section %d'%tempSec)\n",
    "            temp_im_label, temp_im_blob_prop, _ = fun_reconstruct_labeled_image(cell_global_coord[tempSec],crop_range= scan_parameters['crop_range_mxmx'], \n",
    "                                                                        oriImL0=scan_parameters['oriImL0'],oriImL1=scan_parameters['oriImL1'])\n",
    "#             im_label[tempSec] = temp_im_label\n",
    "#             im_BW[tempSec] = temp_im_label > 0\n",
    "            im_blob_prop[tempSec] = np.array(temp_im_blob_prop)\n",
    "        else:\n",
    "            sys.stderr.write('Warning: missing section %d'%tempSec)\n",
    "    #             print(scan_section)\n",
    "            scan_section.remove(tempSec)\n",
    "    #             print(scan_section)\n",
    "    #             print(sec_load_data_list)\n",
    "            sec_load_data_list.remove(tempSec)\n",
    "    #             print(sec_load_data_list)\n",
    "\n",
    "    ### Start getting region properties of each blob    ###\n",
    "    blob_prop_dic = fun_regionprops_dic(im_blob_prop=im_blob_prop,scan_parameters=scan_parameters)\n",
    "    data_blob_prop_dic[section] = blob_prop_dic[section] # Save data\n",
    "    blob_idx_selection = {tempSec : np.logical_and.reduce(np.row_stack(\n",
    "        (blob_prop_dic[tempSec]['compactness']>0,\n",
    "    #      blob_prop_dic[tempSec]['compactness']<2.5,\n",
    "         blob_prop_dic[tempSec]['area']<3000,\n",
    "         blob_prop_dic[tempSec]['area']>200))) for tempSec in sec_load_data_list}  \n",
    "\n",
    "    data_blob_idx_selection[section] = blob_idx_selection[section] # Save data\n",
    "\n",
    "    n_blobs = {tempSec: len(im_blob_prop[tempSec]) for tempSec in im_blob_prop.keys()}\n",
    "    secList_in_BlobPropDic = im_blob_prop.keys()\n",
    "    if set(scan_section).issubset(set(secList_in_BlobPropDic)):\n",
    "        pass\n",
    "    else:\n",
    "        print('Warrning: Scaned section(s) not included in input im_blob_prop')\n",
    "\n",
    "\n",
    "\n",
    "    ### Start scanning ###\n",
    "    for blobID in range(n_blobs[section]):\n",
    "        if (blobID % 1000 == 0):\n",
    "            print('Section %d Finished percentage: %f'%(section, (float(blobID)*100 / n_blobs[section]) ))\n",
    "\n",
    "        temp_curr_blob_props = {}\n",
    "        for tempProp in prop:\n",
    "            temp_curr_blob_props[tempProp] = blob_prop_dic[section][tempProp][blobID]\n",
    "    #         if tempProp in scan_parameters['builtInProps']:\n",
    "    #             temp_curr_blob_props[tempProp] = im_blob_prop[section][blobID][tempProp]\n",
    "    #         elif tempProp == 'compactness':\n",
    "    #             temp_curr_blob_props[tempProp] = im_blob_prop[section][blobID]['perimeter']**2/(4*PI*im_blob_prop[section][blobID]['area'])\n",
    "\n",
    "        if not blob_idx_selection[section][blobID]:\n",
    "    #         print('Blob %d eliminated'%blobID)\n",
    "            continue\n",
    "\n",
    "\n",
    "\n",
    "        tempB1_idx_loc = temp_curr_blob_props['centroid']\n",
    "        if o_fix_scan_size:\n",
    "            temp_next_sec_range, local_cloc = fun_scan_range(tempB1_idx_loc,o_scan_size,im0max=im0max,im1max=im1max,o_form='2D')\n",
    "            temp_next_sec_range_1D,_ = fun_scan_range(tempB1_idx_loc,o_scan_size,im0max=im0max,im1max=im1max)\n",
    "        else:\n",
    "            temp_next_sec_range, local_cloc = fun_scan_range(tempB1_idx_loc,o_scan_size_coeff*fun_radius_bbox(*temp_curr_blob_props.bbox),im0max=im0max,im1max=im1max,o_form='2D')\n",
    "            temp_next_sec_range_1D,_ = fun_scan_range(tempB1_idx_loc,o_scan_size_coeff*fun_radius_bbox(*temp_curr_blob_props.bbox),im0max=im0max,im1max=im1max)\n",
    "\n",
    "\n",
    "        for tempSec in scan_section:\n",
    "    #         print('Blbo %d left. Start scanning'%blobID)\n",
    "            if tempSec not in secList_in_BlobPropDic:\n",
    "                continue\n",
    "\n",
    "            # Find blobs at the nearby location in the scaned section\n",
    "            tempBlobInside = fun_blobs_in_polygen(blob_prop_dic[tempSec]['centroid'],temp_next_sec_range,coor_order='cr')\n",
    "            tempBlobOutside = fun_blobs_out_polygen(blob_prop_dic[tempSec]['centroid'], temp_next_sec_range, coor_order='cr', margin=scan_parameters['scan_outside_margin'])\n",
    "            tempBlobInsideIndex = np.where(tempBlobInside)[0]\n",
    "            temp_num_blob = len(tempBlobInsideIndex)\n",
    "            tempBlobOutsideIndex = np.where(tempBlobOutside)[0]\n",
    "            temp_num_outblob = len(tempBlobOutsideIndex)\n",
    "\n",
    "            ### Typical blobs###\n",
    "\n",
    "            if temp_num_blob:\n",
    "                temp_sim = {}\n",
    "                for temp_prop in prop_for_comparison:\n",
    "                          temp_sim[temp_prop] = np.array(fun_similarity(temp_curr_blob_props[temp_prop], blob_prop_dic[tempSec][temp_prop][tempBlobInside],distance_type=temp_prop))\n",
    "                temp_sim_matrix = np.column_stack((temp_sim[temp_prop] for temp_prop in prop_for_comparison))\n",
    "\n",
    "                #### Blob comparison ####\n",
    "                temp_weighted_sim = np.dot(temp_sim_matrix,compare_weight)\n",
    "                temp_compare_result = temp_weighted_sim > o_simil_threshold\n",
    "                if any(temp_compare_result.tolist()):\n",
    "    #                 print('Typical blob found: Blob %d similarity %f'%(blobID,max(temp_weighted_sim)))\n",
    "                    typical_blobs.append([section,blobID, im_blob_prop[section][blobID]])\n",
    "                    matched_paris.append([section,blobID,\n",
    "                                          im_blob_prop[section][blobID],\n",
    "                                          tempSec,\n",
    "                                          tempBlobInsideIndex[temp_compare_result],\n",
    "                                          im_blob_prop[tempSec][tempBlobInsideIndex[temp_compare_result]],\n",
    "                                          temp_sim_matrix[temp_compare_result,:]])\n",
    "    #             temp_next_sec_blob_prop = np.array(im_blob_prop[tempSec])[tempBlobInsideIndex]\n",
    "            else:\n",
    "    #             print('No blobs found in this section')\n",
    "                pass\n",
    "\n",
    "            ### False-typical blobs###\n",
    "            if temp_num_outblob:\n",
    "                temp_false_sim = {}\n",
    "                for temp_prop in prop_for_comparison:\n",
    "                          temp_false_sim[temp_prop] = np.array(fun_similarity(temp_curr_blob_props[temp_prop], blob_prop_dic[tempSec][temp_prop][tempBlobOutside],distance_type=temp_prop))\n",
    "                temp_false_sim_matrix = np.column_stack((temp_false_sim[temp_prop] for temp_prop in prop_for_comparison))\n",
    "\n",
    "                #### Blob comparison ####\n",
    "                temp_weighted_false_sim = np.dot(temp_false_sim_matrix,compare_weight)\n",
    "                temp_false_compare_result = temp_weighted_false_sim > o_simil_threshold\n",
    "                if any(temp_false_compare_result.tolist()):\n",
    "    #                 print('Typical blob found: Blob %d similarity %f'%(blobID,max(temp_weighted_sim)))\n",
    "                    false_typical_blobs.append([section,blobID, im_blob_prop[section][blobID]])\n",
    "                    false_matched_paris.append([section,blobID,im_blob_prop[section][blobID],\n",
    "                                                tempSec, \n",
    "                                                tempBlobOutsideIndex[temp_false_compare_result], \n",
    "                                                im_blob_prop[tempSec][tempBlobOutsideIndex[temp_false_compare_result]],\n",
    "                                                temp_false_sim_matrix[temp_false_compare_result,:]])\n",
    "    #             temp_next_sec_blob_prop = np.array(im_blob_prop[tempSec])[tempBlobInsideIndex]\n",
    "            else:\n",
    "    #             print('No blobs found in this section')\n",
    "                pass\n",
    "    # fun_save_typical_blobs_info(typical_blobs=typical_blobs, prop_to_save=scan_parameters['prop_to_save'],stack=stack, sec=section, dataType='typical')\n",
    "    # fun_save_matched_blobs_info(matched_paris=matched_paris, prop_to_save=scan_parameters['prop_to_save'],stack=stack, sec=section, dataType='matched')\n",
    "    # fun_save_typical_blobs_info(typical_blobs=false_typical_blobs, prop_to_save=scan_parameters['prop_to_save'],stack=stack, sec=section, dataType='false_typical')\n",
    "    # fun_save_matched_blobs_info(matched_paris=false_matched_paris, prop_to_save=scan_parameters['prop_to_save'],stack=stack, sec=section, dataType='false_matched')\n",
    "    data_typical_blobs[section] = typical_blobs\n",
    "    data_matched_paris[section] = matched_paris\n",
    "    data_false_typical_blobs[section] = false_typical_blobs\n",
    "    data_false_matched_pairs[section] = false_matched_paris   "
   ]
  },
  {
   "cell_type": "code",
   "execution_count": 94,
   "metadata": {
    "collapsed": true
   },
   "outputs": [],
   "source": [
    "# This cell deals with an rare case that section 324 is missing and we load data to section 325, so section 326 is also missing. \n",
    "data_typical_blobs.pop(325,None)\n",
    "data_matched_paris.pop(325, None)\n",
    "data_false_typical_blobs.pop(325, None)\n",
    "data_false_matched_pairs.pop(325, None)\n",
    "data_blob_prop_dic.pop(325,None)\n",
    "secList.remove(325)"
   ]
  },
  {
   "cell_type": "markdown",
   "metadata": {},
   "source": [
    "# Analyze typical blobs  - Histograms"
   ]
  },
  {
   "cell_type": "code",
   "execution_count": 109,
   "metadata": {
    "collapsed": true,
    "scrolled": true
   },
   "outputs": [],
   "source": [
    "# Data processing for all the loaded sections\n",
    "data_typical_blobs_properties = {}\n",
    "for tempSec in data_typical_blobs.keys():\n",
    "    data_typical_blobs_properties[tempSec] = [record[2] for record in data_typical_blobs[tempSec]]\n",
    "\n",
    "data_typical_blobs_properties = fun_regionprops_dic(data_typical_blobs_properties, scan_parameters)\n",
    "data_typical_blobs_properties_flatten = {}\n",
    "# typical_blob_properties, might be dubplicated due to multiple sections matching\n",
    "for tempProp in scan_parameters['prop']:\n",
    "    data_typical_blobs_properties_flatten[tempProp] = np.concatenate(tuple([data_typical_blobs_properties[tempSec][tempProp] for tempSec in data_typical_blobs_properties.keys()]))\n",
    "# dd for delete-duplicated\n",
    "data_typical_blobs_properties_dd = {}\n",
    "for tempProp in scan_parameters['prop']:\n",
    "    data_typical_blobs_properties_dd[tempProp] =  np.concatenate(tuple([data_blob_prop_dic[tempSec][tempProp][np.unique(data_typical_blobs_properties[tempSec]['label'])-1] for tempSec in data_blob_prop_dic.keys()]))\n",
    "# All detected blob properties in the cropped region\n",
    "data_blob_prop_dic_flatten = {}\n",
    "data_selected_blob_props_flatten_dic = {}\n",
    "for tempProp in scan_parameters['prop']:\n",
    "    data_blob_prop_dic_flatten[tempProp] = np.concatenate(tuple([data_blob_prop_dic[tempSec][tempProp] for tempSec in data_blob_prop_dic.keys()]))\n",
    "# All the selected blob properties in the cropped region\n",
    "temp_selected_idx_flatten = np.logical_and(data_blob_prop_dic_flatten['area']>200, data_blob_prop_dic_flatten['area']<3000)\n",
    "for tempProp in scan_parameters['prop']:\n",
    "    data_selected_blob_props_flatten_dic[tempProp] = data_blob_prop_dic_flatten[tempProp][temp_selected_idx_flatten]"
   ]
  },
  {
   "cell_type": "code",
   "execution_count": 112,
   "metadata": {
    "collapsed": true
   },
   "outputs": [],
   "source": [
    "# Data processing for all the sections with 7N\n",
    "data_typical_blobs_properties_7N = {}\n",
    "for tempSec in sectionList_7N:\n",
    "    data_typical_blobs_properties_7N[tempSec] = [record[2] for record in data_typical_blobs[tempSec]]\n",
    "data_typical_blobs_properties_7N = fun_regionprops_dic(data_typical_blobs_properties_7N, scan_parameters)\n",
    "\n",
    "data_typical_blobs_properties_flatten_7N = {}\n",
    "# typical_blob_properties, might be dubplicated due to multiple sections matching\n",
    "for tempProp in scan_parameters['prop']:\n",
    "    data_typical_blobs_properties_flatten_7N[tempProp] = np.concatenate(tuple([data_typical_blobs_properties_7N[tempSec][tempProp] for tempSec in data_typical_blobs_properties_7N.keys()]))\n",
    "\n",
    "# dd for delete-duplicated\n",
    "data_typical_blobs_properties_dd_7N = {}\n",
    "for tempProp in scan_parameters['prop']:\n",
    "    data_typical_blobs_properties_dd_7N[tempProp] =  np.concatenate(tuple([data_blob_prop_dic[tempSec][tempProp][np.unique(data_typical_blobs_properties_7N[tempSec]['label'])-1] for tempSec in data_typical_blobs_properties_7N.keys()]))\n"
   ]
  },
  {
   "cell_type": "code",
   "execution_count": 227,
   "metadata": {
    "collapsed": true
   },
   "outputs": [],
   "source": [
    "# All detected blob properties in the cropped region\n",
    "data_blob_prop_dic_flatten7N = {}\n",
    "data_selected_blob_props_flatten_dic7N = {}\n",
    "for tempProp in scan_parameters['prop']:\n",
    "    data_blob_prop_dic_flatten7N[tempProp] = np.concatenate(tuple([data_blob_prop_dic[tempSec][tempProp] for tempSec in sectionList_7N]))\n",
    "# All the selected blob properties in the cropped region\n",
    "temp_selected_idx_flatten7N = np.logical_and(data_blob_prop_dic_flatten7N['area']>200, data_blob_prop_dic_flatten7N['area']<3000)\n",
    "for tempProp in scan_parameters['prop']:\n",
    "    data_selected_blob_props_flatten_dic7N[tempProp] = data_blob_prop_dic_flatten7N[tempProp][temp_selected_idx_flatten7N]"
   ]
  }
 ],
 "metadata": {
  "kernelspec": {
   "display_name": "Python 2",
   "language": "python",
   "name": "python2"
  },
  "language_info": {
   "codemirror_mode": {
    "name": "ipython",
    "version": 2
   },
   "file_extension": ".py",
   "mimetype": "text/x-python",
   "name": "python",
   "nbconvert_exporter": "python",
   "pygments_lexer": "ipython2",
   "version": "2.7.12"
  }
 },
 "nbformat": 4,
 "nbformat_minor": 2
}
