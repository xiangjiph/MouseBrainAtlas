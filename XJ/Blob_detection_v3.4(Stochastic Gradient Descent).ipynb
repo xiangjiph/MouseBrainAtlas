{
 "cells": [
  {
   "cell_type": "code",
   "execution_count": 1,
   "metadata": {
    "scrolled": false
   },
   "outputs": [
    {
     "name": "stderr",
     "output_type": "stream",
     "text": [
      "/usr/local/lib/python2.7/dist-packages/matplotlib/__init__.py:1405: UserWarning: \n",
      "This call to matplotlib.use() has no effect because the backend has already\n",
      "been chosen; matplotlib.use() must be called *before* pylab, matplotlib.pyplot,\n",
      "or matplotlib.backends is imported for the first time.\n",
      "\n",
      "  warnings.warn(_use_error_msg)\n",
      "No vtk\n"
     ]
    },
    {
     "name": "stdout",
     "output_type": "stream",
     "text": [
      "Setting environment for AWS compute node\n"
     ]
    },
    {
     "name": "stderr",
     "output_type": "stream",
     "text": [
      "Cannot import mxnet.\n",
      "Folder already exists: /shared/MouseBrainAtlasXiang/XJ/Output/Collect_typical_blobs/"
     ]
    },
    {
     "data": {
      "text/plain": [
       "'/shared/MouseBrainAtlasXiang/XJ/Output/Collect_typical_blobs/'"
      ]
     },
     "execution_count": 1,
     "metadata": {},
     "output_type": "execute_result"
    }
   ],
   "source": [
    "import matplotlib.pyplot as plt\n",
    "%matplotlib inline\n",
    "%load_ext autoreload\n",
    "%reload_ext autoreload\n",
    "%autoreload 2\n",
    "\n",
    "import sys, os, time, collections\n",
    "\n",
    "sys.path.append(os.path.join(os.environ['REPO_DIR'], 'utilities'))\n",
    "sys.path.append(os.path.join(os.environ['REPO_DIR'], 'cells'))\n",
    "# sys.path.append(os.path.join(os.environ['REPO_DIR'], 'annotation'))\n",
    "# sys.path.append(os.path.join(os.environ['REPO_DIR']bb, 'learning'))\n",
    "\n",
    "import numpy as np\n",
    "import scipy\n",
    "import skimage\n",
    "from skimage.feature import peak_local_max\n",
    "from skimage.morphology import watershed\n",
    "from skimage.measure import regionprops, label, find_contours\n",
    "from skimage.color import rgb2hsv\n",
    "from scipy import ndimage as ndi\n",
    "import pandas\n",
    "from scipy.signal import argrelmax\n",
    "from scipy.stats import linregress\n",
    "\n",
    "from annotation_utilities import *\n",
    "from registration_utilities import *\n",
    "from learning_utilities import *\n",
    "from data_manager import *\n",
    "from utilities2015 import *\n",
    "from cell_utilities import *\n",
    "from metadata import *\n",
    "from distributed_utilities import download_from_s3\n",
    "\n",
    "save_folder_path = '/shared/MouseBrainAtlasXiang/XJ/Output/Collect_typical_blobs/'\n",
    "from xj_utilities import *\n",
    "fun_create_folder(save_folder_path=save_folder_path)"
   ]
  },
  {
   "cell_type": "code",
   "execution_count": 2,
   "metadata": {
    "collapsed": true
   },
   "outputs": [],
   "source": [
    "def fun_similar_ratio(data, threshold_simu):\n",
    "    return np.float(np.count_nonzero(data>threshold_simu))/len(data)"
   ]
  },
  {
   "cell_type": "code",
   "execution_count": 4,
   "metadata": {
    "collapsed": true
   },
   "outputs": [],
   "source": [
    "def fun_max_similarity_with_plot(positive_data, negative_data, plotFig=False):\n",
    "    tempPosCum = []\n",
    "    tempNegCum = []\n",
    "    tempRanges = np.arange(0,1.05,0.05)\n",
    "    for threshold_simu in tempRanges:\n",
    "        tempPosCum.append(fun_similar_ratio(positive_data, threshold_simu=threshold_simu))\n",
    "        tempNegCum.append(fun_similar_ratio(negative_data, threshold_simu=threshold_simu))\n",
    "\n",
    "    tempDifference = np.array(tempPosCum) - np.array(tempNegCum)\n",
    "    tempMax = np.max(tempDifference)\n",
    "    tempPos = tempRanges[tempDifference==tempMax]\n",
    "    if plotFig:\n",
    "        plt.figure()\n",
    "        plt.plot(tempRanges, tempPosCum, label='Positive')\n",
    "        plt.plot(tempRanges, tempNegCum, label='Negative')\n",
    "        plt.plot(tempRanges, tempDifference, label='Difference')\n",
    "        plt.xlabel('Threshold Similarity')\n",
    "        plt.title('Max difference = %f @ s=%f'%(tempMax,tempPos))\n",
    "        plt.grid()\n",
    "        plt.legend()\n",
    "    return tempPos, tempMax\n",
    "\n",
    "def fun_ROC(positive_data, negative_data):\n",
    "    \"\"\" Input: positive_data, negative_data are 1D numpy.array\n",
    "    Output: simMax, maxDiff, ranges, posCum, negCum\"\"\"\n",
    "    tempPosCum = []\n",
    "    tempNegCum = []\n",
    "    tempRanges = np.arange(0,1.05,0.05)\n",
    "    for threshold_simu in tempRanges:\n",
    "        tempPosCum.append(fun_similar_ratio(positive_data, threshold_simu=threshold_simu))\n",
    "        tempNegCum.append(fun_similar_ratio(negative_data, threshold_simu=threshold_simu))\n",
    "    return tempRanges, tempPosCum, tempNegCum\n",
    "\n",
    "def fun_find_max(x,y, mode='returnAll'):\n",
    "    x = np.array(x)\n",
    "    y = np.array(y)\n",
    "    maxY = np.max(y)\n",
    "    maxX = x[y == maxY]\n",
    "    if mode == 'returnAll':\n",
    "        return maxX, maxY\n",
    "    elif mode == 'returnFirst':\n",
    "        if type(maxX) == np.ndarray:\n",
    "            return maxX[0], maxY\n",
    "\n",
    "def fun_find_max_similarity_difference(data_range, posCum, negCum):\n",
    "    difference = np.array(posCum) - np.array(negCum)\n",
    "    threshold_sim, maxSimDiff = fun_find_max(data_range, difference)\n",
    "    return threshold_sim, maxSimDiff\n",
    "    \n",
    "\n",
    "\n",
    "def fun_max_similarity_v2(positive_data, negative_data, plotFig=False):\n",
    "    numBins = 20;\n",
    "    posCum_count = scipy.stats.cumfreq(positive_data, numbins=numBins,defaultreallimits=(0,1))\n",
    "    posCum = posCum_count.cumcount / posCum_count.cumcount[-1]\n",
    "    negCum_count = scipy.stats.cumfreq(negative_data, numbins=numBins,defaultreallimits=(0,1))\n",
    "    negCum = negCum_count.cumcount / negCum_count.cumcount[-1]\n",
    "    scan_range = np.arange(0,1, 1.0/numBins)\n",
    "    difference = posCum - negCum\n",
    "    maxSimDiff = np.max(difference)\n",
    "    pos = scan_range[difference==maxSimDiff]\n",
    " \n",
    "    if plotFig:\n",
    "        plt.figure()\n",
    "        plt.plot(scan_range, posCum, label='Positive')\n",
    "        plt.plot(scan_range, negCum, label='Negative')\n",
    "        plt.plot(scan_range, difference, label='Difference')\n",
    "        plt.xlabel('Threshold Similarity')\n",
    "        plt.title('Max difference = %f @ s=%f'%(maxSimDiff,pos))\n",
    "        plt.grid()\n",
    "        plt.legend()\n",
    "    return pos, maxSimDiff"
   ]
  },
  {
   "cell_type": "markdown",
   "metadata": {},
   "source": [
    "### Load data"
   ]
  },
  {
   "cell_type": "code",
   "execution_count": 5,
   "metadata": {
    "collapsed": true,
    "scrolled": false
   },
   "outputs": [],
   "source": [
    "stack = 'MD589'\n",
    "dataFolderName = 'NoCoords'\n",
    "scan_parameters = load_typical_cell_data(what='scan_parameters', stack=stack, sec=200, dataFolderName=dataFolderName, dataType='typical')"
   ]
  },
  {
   "cell_type": "code",
   "execution_count": 6,
   "metadata": {
    "collapsed": true
   },
   "outputs": [],
   "source": [
    "section_valid_list = fun_get_valid_section_list(stack)\n",
    "section_load_list = list(section_valid_list)\n",
    "\n",
    "# Load saved blob features of {typical_blob, matched_pair, false_typical, false_matched_pairs}\n",
    "typical_blob_props = collections.defaultdict(dict)\n",
    "matched_blob_props = collections.defaultdict(dict)\n",
    "false_typical_blob_props = collections.defaultdict(dict)\n",
    "false_matched_blob_props = collections.defaultdict(dict)\n",
    "for tempProp in scan_parameters['prop_to_save']:\n",
    "    for tempSec in section_valid_list:\n",
    "        try:\n",
    "            typical_blob_props[tempSec][tempProp] = load_typical_cell_data(what=tempProp, stack=stack, sec=tempSec, dataFolderName=dataFolderName, dataType='typical')\n",
    "            matched_blob_props[tempSec][tempProp] = load_typical_cell_data(what=tempProp, stack=stack, sec=tempSec, dataFolderName=dataFolderName, dataType='matched')\n",
    "            false_typical_blob_props[tempSec][tempProp] = load_typical_cell_data(what=tempProp, stack=stack, sec=tempSec, dataFolderName=dataFolderName, dataType='false_typical')\n",
    "            false_matched_blob_props[tempSec][tempProp] = load_typical_cell_data(what=tempProp, stack=stack, sec=tempSec, dataFolderName=dataFolderName, dataType='false_matched')\n",
    "        except:\n",
    "            section_load_list.remove(tempSec)\n",
    "            print('Cannot load the data of section %d'%tempSec)\n",
    "            \n",
    "for tempSec in section_valid_list:\n",
    "    typical_blob_props[tempSec]['numBlobs'] = len(typical_blob_props[tempSec]['area'])\n",
    "    false_typical_blob_props[tempSec]['numBlobs'] = len(false_typical_blob_props[tempSec]['area'])\n",
    "# Load matching infomation            \n",
    "for tempProp in ['section', 'TBID']:\n",
    "    for tempSec in section_valid_list:\n",
    "        try:\n",
    "            matched_blob_props[tempSec][tempProp] = load_typical_cell_data(what=tempProp, stack=stack, sec=tempSec, dataFolderName=dataFolderName, dataType='matched')\n",
    "            false_matched_blob_props[tempSec][tempProp] = load_typical_cell_data(what=tempProp, stack=stack, sec=tempSec, dataFolderName=dataFolderName, dataType='false_matched')\n",
    "        except:\n",
    "            section_load_list.remove(tempSec)\n",
    "            print('Cannot load the data of section %d'%tempSec)\n",
    "# Get relation between TBID and matched blob idx\n",
    "TBID_to_matched_blob = collections.defaultdict(dict)\n",
    "for tempSec in section_load_list:\n",
    "    for tempBID in range(typical_blob_props[tempSec]['numBlobs']):\n",
    "        TBID_to_matched_blob[tempSec][tempBID] = np.where(matched_blob_props[tempSec]['TBID']==tempBID)[0]\n",
    "\n",
    "# Get map between False typical blob ID and false_matched blobs idx\n",
    "FTBID_to_false_matched_blob = collections.defaultdict(dict)\n",
    "for tempSec in section_load_list:\n",
    "    for tempBID in range(false_typical_blob_props[tempSec]['numBlobs']):\n",
    "        FTBID_to_false_matched_blob[tempSec][tempBID] = np.where(false_matched_blob_props[tempSec]['TBID']==tempBID)[0]"
   ]
  },
  {
   "cell_type": "code",
   "execution_count": 7,
   "metadata": {},
   "outputs": [
    {
     "name": "stdout",
     "output_type": "stream",
     "text": [
      "aws s3 cp --recursive \"s3://mousebrainatlas-data/CSHL_labelings_v3/MD589\" \"/shared/CSHL_labelings_v3/MD589\" --exclude \"*\" --include \"*contours*\"\n",
      "latest timestamp:  07292017045157\n"
     ]
    }
   ],
   "source": [
    "contour_df = DataManager.load_annotation_v4(stack=scan_parameters['stack'],by_human=True,suffix='contours',timestamp='latest')\n",
    "contour_df = convert_annotation_v3_original_to_aligned_cropped(contour_df=contour_df,stack=stack)\n",
    "vertice_dic = collections.defaultdict(dict)\n",
    "structure_section_list = collections.defaultdict(dict)\n",
    "for structure_name in set(contour_df['name']):\n",
    "    vertice_dic[structure_name] = {record['section']:np.array(record['vertices'],np.int) for _, record in contour_df[contour_df['name']==structure_name].iterrows()} \n",
    "    structure_section_list[structure_name] = np.sort(vertice_dic[structure_name].keys())"
   ]
  },
  {
   "cell_type": "code",
   "execution_count": 8,
   "metadata": {
    "collapsed": true
   },
   "outputs": [],
   "source": [
    "TBID_in_structure = collections.defaultdict(dict)\n",
    "FTBID_in_structure = collections.defaultdict(dict)\n",
    "for structure_name in set(contour_df['name']):\n",
    "    for tempSec in set(section_load_list).intersection(structure_section_list[structure_name]):\n",
    "        TBID_in_structure[tempSec][structure_name] =  np.where(fun_blobs_in_polygen(typical_blob_props[tempSec]['centroid'], vertice_dic[structure_name][tempSec]))[0]\n",
    "        FTBID_in_structure[tempSec][structure_name] = np.where(fun_blobs_in_polygen(false_typical_blob_props[tempSec]['centroid'], vertice_dic[structure_name][tempSec]))[0]"
   ]
  },
  {
   "cell_type": "markdown",
   "metadata": {},
   "source": [
    "# Training set of 7N"
   ]
  },
  {
   "cell_type": "code",
   "execution_count": 9,
   "metadata": {
    "collapsed": true
   },
   "outputs": [],
   "source": [
    "scan_parameters['training_props'] = training_props = ['area', 'eccentricity', 'compactness','moments_hu']"
   ]
  },
  {
   "cell_type": "code",
   "execution_count": 10,
   "metadata": {
    "collapsed": true
   },
   "outputs": [],
   "source": [
    "structure_name = '7N'"
   ]
  },
  {
   "cell_type": "markdown",
   "metadata": {},
   "source": [
    "### Positive"
   ]
  },
  {
   "cell_type": "code",
   "execution_count": 11,
   "metadata": {
    "collapsed": true
   },
   "outputs": [],
   "source": [
    "nested_dict = lambda: defaultdict(nested_dict)\n",
    "positive_similarity_sec_prop = collections.defaultdict(nested_dict)\n",
    "\n",
    "for structure_name in set(contour_df['name']):\n",
    "    for tempSec in set(section_load_list).intersection(structure_section_list[structure_name]):\n",
    "        for tempProp in training_props:\n",
    "            temp_sec_prop_similarity = []\n",
    "            for tempBID in TBID_in_structure[tempSec][structure_name]:\n",
    "                temp = fun_similarity(typical_blob_props[tempSec][tempProp][tempBID], \n",
    "                                                      matched_blob_props[tempSec][tempProp][TBID_to_matched_blob[tempSec][tempBID]],distance_type=tempProp)\n",
    "                temp_sec_prop_similarity += temp\n",
    "            positive_similarity_sec_prop[structure_name][tempSec][tempProp] = temp_sec_prop_similarity\n",
    "        \n",
    "positive_similarity_prop = collections.defaultdict(dict)\n",
    "for structure_name in set(contour_df['name']):\n",
    "    for tempProp in training_props:\n",
    "        positive_similarity_prop[structure_name][tempProp] = np.concatenate(tuple([np.array(record[tempProp]) for record in positive_similarity_sec_prop[structure_name].itervalues() if len(record[tempProp]) is not 0]))\n",
    "positive_training_data = {}\n",
    "for structure_name in set(contour_df['name']):\n",
    "    temp_training_data = []\n",
    "    for tempProp in training_props:\n",
    "        temp_training_data.append(positive_similarity_prop[structure_name][tempProp])\n",
    "    positive_training_data[structure_name] = np.column_stack(tuple(temp_training_data))"
   ]
  },
  {
   "cell_type": "markdown",
   "metadata": {},
   "source": [
    "### Negative"
   ]
  },
  {
   "cell_type": "code",
   "execution_count": 12,
   "metadata": {
    "collapsed": true
   },
   "outputs": [],
   "source": [
    "negative_similarity_sec_prop = collections.defaultdict(nested_dict)\n",
    "\n",
    "for structure_name in set(contour_df['name']):\n",
    "    for tempSec in set(section_load_list).intersection(structure_section_list[structure_name]):\n",
    "        for tempProp in training_props:\n",
    "            temp_sec_prop_similarity = []\n",
    "            for tempBID in FTBID_in_structure[tempSec][structure_name]:\n",
    "                temp = fun_similarity(false_typical_blob_props[tempSec][tempProp][tempBID], \n",
    "                                                      false_matched_blob_props[tempSec][tempProp][FTBID_to_false_matched_blob[tempSec][tempBID]],distance_type=tempProp)\n",
    "                temp_sec_prop_similarity += temp\n",
    "            negative_similarity_sec_prop[structure_name][tempSec][tempProp] = temp_sec_prop_similarity\n",
    "\n",
    "negative_similarity_prop = collections.defaultdict(dict)\n",
    "for structure_name in set(contour_df['name']):\n",
    "    for tempProp in training_props:\n",
    "        negative_similarity_prop[structure_name][tempProp] = np.concatenate(tuple([np.array(record[tempProp]) for record in negative_similarity_sec_prop[structure_name].itervalues() if len(record[tempProp]) is not 0]))\n",
    "negative_training_data = {}\n",
    "for structure_name in set(contour_df['name']):\n",
    "    temp_training_data = []\n",
    "    for tempProp in training_props:\n",
    "        temp_training_data.append(negative_similarity_prop[structure_name][tempProp])\n",
    "    negative_training_data[structure_name] = np.column_stack(tuple(temp_training_data))\n",
    "\n",
    "            \n"
   ]
  },
  {
   "cell_type": "markdown",
   "metadata": {},
   "source": [
    "# Tune the weights"
   ]
  },
  {
   "cell_type": "markdown",
   "metadata": {},
   "source": [
    "Tune weight, try to seperate two distribution"
   ]
  },
  {
   "cell_type": "code",
   "execution_count": 281,
   "metadata": {
    "collapsed": true
   },
   "outputs": [],
   "source": [
    "maxSimDiff_scan = []\n",
    "threshold_s_scan = []\n",
    "tempWeightScan_range = range(0,200)\n",
    "for tempWeight1 in tempWeightScan_range:\n",
    "    weight = np.array([[100,70,tempWeight1]], dtype=np.float).T\n",
    "    weight = weight / np.sum(weight)\n",
    "    positive_weighted_similarity = np.dot(positive_training_data, weight)\n",
    "    negative_weighted_similarity = np.dot(negative_training_data, weight)\n",
    "    threshold_s, maxSimDiff = fun_max_similarity(positive_weighted_similarity, negative_weighted_similarity, plotFig=False)\n",
    "    maxSimDiff_scan.append(maxSimDiff)\n",
    "    threshold_s_scan.append(threshold_s)"
   ]
  },
  {
   "cell_type": "code",
   "execution_count": 282,
   "metadata": {},
   "outputs": [
    {
     "data": {
      "text/plain": [
       "<matplotlib.legend.Legend at 0x7f143be4bcd0>"
      ]
     },
     "execution_count": 282,
     "metadata": {},
     "output_type": "execute_result"
    },
    {
     "data": {
      "image/png": "[encoded data removed]",
      "text/plain": [
       "<matplotlib.figure.Figure at 0x7f143be4bc90>"
      ]
     },
     "metadata": {},
     "output_type": "display_data"
    }
   ],
   "source": [
    "plt.plot(tempWeightScan_range, maxSimDiff_scan,label='maxSimDiff')\n",
    "# plt.plot(tempWeightScan_range, threshold_s_scan,label='threshold_sim')\n",
    "plt.legend()"
   ]
  },
  {
   "cell_type": "markdown",
   "metadata": {},
   "source": [
    "### Stochastic gradient descent"
   ]
  },
  {
   "cell_type": "code",
   "execution_count": 26,
   "metadata": {
    "collapsed": true
   },
   "outputs": [],
   "source": [
    "structure_name = '7N'\n",
    "positive_data = positive_training_data[structure_name]\n",
    "negative_data = negative_training_data[structure_name]"
   ]
  },
  {
   "cell_type": "code",
   "execution_count": 13,
   "metadata": {
    "collapsed": true
   },
   "outputs": [],
   "source": [
    "def fun_ROC(positive_data, negative_data):\n",
    "    \"\"\" Input: positive_data, negative_data are 1D numpy.array\n",
    "    Output: ranges, posCum, negCum\"\"\"\n",
    "    tempPosCum = []\n",
    "    tempNegCum = []\n",
    "    tempRanges = np.arange(0,1.05,0.05)\n",
    "    for threshold_simu in tempRanges:\n",
    "        tempPosCum.append(fun_similar_ratio(positive_data, threshold_simu=threshold_simu))\n",
    "        tempNegCum.append(fun_similar_ratio(negative_data, threshold_simu=threshold_simu))\n",
    "    return tempRanges, tempPosCum, tempNegCum\n",
    "\n",
    "def fun_find_max(x,y, mode='returnAll'):\n",
    "    x = np.array(x)\n",
    "    y = np.array(y)\n",
    "    maxY = np.max(y)\n",
    "    maxX = x[y == maxY]\n",
    "    if mode == 'returnAll':\n",
    "        return maxX, maxY\n",
    "    elif mode == 'returnFirst':\n",
    "        if type(maxX) == np.ndarray:\n",
    "            return maxX[0], maxY\n",
    "\n",
    "def fun_find_max_similarity_difference(data_range, posCum, negCum):\n",
    "    difference = np.array(posCum) - np.array(negCum)\n",
    "    threshold_sim, maxSimDiff = fun_find_max(data_range, difference)\n",
    "    return threshold_sim, maxSimDiff\n",
    "\n",
    "def fun_SGD_score(weight, positive_training_data, negative_training_data):\n",
    "    scan_range, posCum, negCum = fun_ROC(np.dot(positive_training_data, weight), np.dot(negative_training_data, weight) )\n",
    "    _, maxSimDiff = fun_find_max_similarity_difference(scan_range, posCum, negCum)\n",
    "    return maxSimDiff"
   ]
  },
  {
   "cell_type": "code",
   "execution_count": 116,
   "metadata": {
    "collapsed": true
   },
   "outputs": [],
   "source": [
    "learning_rate = 0.05;\n",
    "sim_vector_length = 10\n",
    "temp_matrix = np.eye(sim_vector_length, dtype=np.float)\n",
    "learning_vectors = np.hstack(tuple([temp_matrix * learning_rate, temp_matrix * -learning_rate]))\n",
    "learning_vectors = np.split(learning_vectors,sim_vector_length*2, axis=1)"
   ]
  },
  {
   "cell_type": "code",
   "execution_count": 130,
   "metadata": {
    "collapsed": true
   },
   "outputs": [],
   "source": [
    "# Initial similarity and weights:\n",
    "numTrial = 1000\n",
    "data_maxSimDiff = []\n",
    "data_weight = []\n",
    "for idx in range(numTrial):\n",
    "    weight = np.random.random(size=[sim_vector_length, 1])\n",
    "    weight = weight/np.sum(weight)\n",
    "    scan_range, posCum, negCum = fun_ROC(np.dot(positive_data, weight), np.dot(negative_data, weight) )\n",
    "    threshold_sim, maxSimDiff = fun_find_max_similarity_difference(scan_range, posCum, negCum)\n",
    "    optimized_maxSimDiff, optimized_weight = fun_gradient_descent(learning_vectors=learning_vectors,\n",
    "                                                                  initial_score=maxSimDiff, \n",
    "                                                                  initial_weight=weight , \n",
    "                                                                  positive_data=positive_data, \n",
    "                                                                  negative_data=negative_data)\n",
    "    data_maxSimDiff.append(optimized_maxSimDiff)\n",
    "    data_weight.append(optimized_weight)"
   ]
  },
  {
   "cell_type": "code",
   "execution_count": null,
   "metadata": {
    "collapsed": true
   },
   "outputs": [],
   "source": [
    "fun_find_max(x=data_)"
   ]
  },
  {
   "cell_type": "code",
   "execution_count": 134,
   "metadata": {},
   "outputs": [
    {
     "data": {
      "image/png": "[encoded data removed]",
      "text/plain": [
       "<matplotlib.figure.Figure at 0x7f05040c7a50>"
      ]
     },
     "metadata": {},
     "output_type": "display_data"
    }
   ],
   "source": [
    "plt.hist(data_maxSimDiff, bins=100);"
   ]
  },
  {
   "cell_type": "code",
   "execution_count": 126,
   "metadata": {
    "collapsed": true,
    "scrolled": false
   },
   "outputs": [],
   "source": [
    "# Gradient descent: compute gradient\n",
    "def fun_gradient_descent(learning_vectors, initial_score, initial_weight,positive_data, negative_data):\n",
    "    tempMaxSimDiff = -1\n",
    "#     numStep = 0\n",
    "    while True:\n",
    "        tempMaxSimDiffList = []\n",
    "        tempWeightList = []\n",
    "        for learning_vector in learning_vectors:\n",
    "            # Update weight, with nonegative normalized constrains\n",
    "            tempWeight = initial_weight.copy() + learning_vector\n",
    "            tempWeight[tempWeight<0] = 0\n",
    "            tempWeight = tempWeight/np.sum(tempWeight)\n",
    "            tempWeightList.append(tempWeight)\n",
    "            tempMaxSimDiffList.append(fun_SGD_score(tempWeight, positive_data, negative_data))\n",
    "        tempWeight, tempMaxSimDiff = fun_find_max(x=tempWeightList, y=tempMaxSimDiffList,mode='returnFirst')\n",
    "        if tempMaxSimDiff > initial_score:\n",
    "#             numStep +=1\n",
    "            initial_score = tempMaxSimDiff\n",
    "            initial_weight = tempWeight\n",
    "        else:\n",
    "#             print('Reach Local maximum. Break.')\n",
    "            break\n",
    "    return initial_score, initial_weight\n",
    "    \n"
   ]
  },
  {
   "cell_type": "markdown",
   "metadata": {},
   "source": [
    "### Find good weight by stochastic initialization"
   ]
  },
  {
   "cell_type": "code",
   "execution_count": null,
   "metadata": {
    "collapsed": true
   },
   "outputs": [],
   "source": [
    "data_weight = []\n",
    "data_maxSimDiff = []"
   ]
  },
  {
   "cell_type": "code",
   "execution_count": 61,
   "metadata": {
    "collapsed": true
   },
   "outputs": [
    {
     "name": "stdout",
     "output_type": "stream",
     "text": [
      "0.0\n",
      "0.0025\n",
      "0.005\n",
      "0.0075\n",
      "0.01\n",
      "0.0125\n",
      "0.015\n",
      "0.0175\n",
      "0.02\n",
      "0.0225\n",
      "0.025\n",
      "0.0275\n",
      "0.03\n",
      "0.0325\n",
      "0.035\n",
      "0.0375\n",
      "0.04\n",
      "0.0425\n",
      "0.045\n",
      "0.0475\n",
      "0.05\n",
      "0.0525\n",
      "0.055\n",
      "0.0575\n",
      "0.06\n",
      "0.0625\n",
      "0.065\n",
      "0.0675\n",
      "0.07\n",
      "0.0725\n",
      "0.075\n",
      "0.0775\n",
      "0.08\n",
      "0.0825\n",
      "0.085\n",
      "0.0875\n",
      "0.09\n",
      "0.0925\n",
      "0.095\n",
      "0.0975\n",
      "0.1\n",
      "0.1025\n",
      "0.105\n",
      "0.1075\n",
      "0.11\n",
      "0.1125\n",
      "0.115\n",
      "0.1175\n",
      "0.12\n",
      "0.1225\n",
      "0.125\n",
      "0.1275\n",
      "0.13\n",
      "0.1325\n",
      "0.135\n",
      "0.1375\n",
      "0.14\n",
      "0.1425\n",
      "0.145\n",
      "0.1475\n",
      "0.15\n",
      "0.1525\n",
      "0.155\n",
      "0.1575\n",
      "0.16\n",
      "0.1625\n",
      "0.165\n",
      "0.1675\n",
      "0.17\n",
      "0.1725\n",
      "0.175\n",
      "0.1775\n",
      "0.18\n",
      "0.1825\n",
      "0.185\n",
      "0.1875\n",
      "0.19\n",
      "0.1925\n",
      "0.195\n",
      "0.1975\n",
      "0.2\n",
      "0.2025\n",
      "0.205\n",
      "0.2075\n",
      "0.21\n",
      "0.2125\n",
      "0.215\n",
      "0.2175\n",
      "0.22\n",
      "0.2225\n",
      "0.225\n",
      "0.2275\n",
      "0.23\n",
      "0.2325\n",
      "0.235\n",
      "0.2375\n",
      "0.24\n",
      "0.2425\n",
      "0.245\n",
      "0.2475\n",
      "0.25\n",
      "0.2525\n",
      "0.255\n",
      "0.2575\n",
      "0.26\n",
      "0.2625\n",
      "0.265\n",
      "0.2675\n",
      "0.27\n",
      "0.2725\n",
      "0.275\n",
      "0.2775\n",
      "0.28\n",
      "0.2825\n",
      "0.285\n",
      "0.2875\n",
      "0.29\n",
      "0.2925\n",
      "0.295\n",
      "0.2975\n",
      "0.3\n",
      "0.3025\n",
      "0.305\n",
      "0.3075\n",
      "0.31\n",
      "0.3125\n",
      "0.315\n",
      "0.3175\n",
      "0.32\n",
      "0.3225\n",
      "0.325\n",
      "0.3275\n",
      "0.33\n",
      "0.3325\n",
      "0.335\n",
      "0.3375\n",
      "0.34\n",
      "0.3425\n",
      "0.345\n",
      "0.3475\n",
      "0.35\n",
      "0.3525\n",
      "0.355\n",
      "0.3575\n",
      "0.36\n",
      "0.3625\n",
      "0.365\n",
      "0.3675\n",
      "0.37\n",
      "0.3725\n",
      "0.375\n",
      "0.3775\n",
      "0.38\n",
      "0.3825\n",
      "0.385\n",
      "0.3875\n",
      "0.39\n",
      "0.3925\n",
      "0.395\n",
      "0.3975\n",
      "0.4\n",
      "0.4025\n",
      "0.405\n",
      "0.4075\n",
      "0.41\n",
      "0.4125\n",
      "0.415\n",
      "0.4175\n",
      "0.42\n",
      "0.4225\n",
      "0.425\n",
      "0.4275\n",
      "0.43\n",
      "0.4325\n",
      "0.435\n",
      "0.4375\n",
      "0.44\n",
      "0.4425\n",
      "0.445\n",
      "0.4475\n",
      "0.45\n",
      "0.4525\n",
      "0.455\n",
      "0.4575\n",
      "0.46\n",
      "0.4625\n",
      "0.465\n",
      "0.4675\n",
      "0.47\n",
      "0.4725\n",
      "0.475\n",
      "0.4775\n",
      "0.48\n",
      "0.4825\n",
      "0.485\n",
      "0.4875\n",
      "0.49\n",
      "0.4925\n",
      "0.495\n",
      "0.4975\n",
      "0.5\n",
      "0.5025\n",
      "0.505\n",
      "0.5075\n",
      "0.51\n",
      "0.5125\n",
      "0.515\n",
      "0.5175\n",
      "0.52\n",
      "0.5225\n",
      "0.525\n",
      "0.5275\n",
      "0.53\n",
      "0.5325\n",
      "0.535\n",
      "0.5375\n",
      "0.54\n",
      "0.5425\n",
      "0.545\n",
      "0.5475\n",
      "0.55\n",
      "0.5525\n",
      "0.555\n",
      "0.5575\n",
      "0.56\n",
      "0.5625\n",
      "0.565\n",
      "0.5675\n",
      "0.57\n",
      "0.5725\n",
      "0.575\n",
      "0.5775\n",
      "0.58\n",
      "0.5825\n",
      "0.585\n",
      "0.5875\n",
      "0.59\n",
      "0.5925\n",
      "0.595\n",
      "0.5975\n",
      "0.6\n",
      "0.6025\n",
      "0.605\n",
      "0.6075\n",
      "0.61\n",
      "0.6125\n",
      "0.615\n",
      "0.6175\n",
      "0.62\n",
      "0.6225\n",
      "0.625\n",
      "0.6275\n",
      "0.63\n",
      "0.6325\n",
      "0.635\n",
      "0.6375\n",
      "0.64\n",
      "0.6425\n",
      "0.645\n",
      "0.6475\n",
      "0.65\n",
      "0.6525\n",
      "0.655\n",
      "0.6575\n",
      "0.66\n",
      "0.6625\n",
      "0.665\n",
      "0.6675\n",
      "0.67\n",
      "0.6725\n",
      "0.675\n",
      "0.6775\n",
      "0.68\n",
      "0.6825\n",
      "0.685\n",
      "0.6875\n",
      "0.69\n",
      "0.6925\n",
      "0.695\n",
      "0.6975\n",
      "0.7\n",
      "0.7025\n",
      "0.705\n",
      "0.7075\n",
      "0.71\n",
      "0.7125\n",
      "0.715\n",
      "0.7175\n",
      "0.72\n",
      "0.7225\n",
      "0.725\n",
      "0.7275\n",
      "0.73\n",
      "0.7325\n",
      "0.735\n",
      "0.7375\n",
      "0.74\n",
      "0.7425\n",
      "0.745\n",
      "0.7475\n",
      "0.75\n",
      "0.7525\n",
      "0.755\n",
      "0.7575\n",
      "0.76\n",
      "0.7625\n",
      "0.765\n",
      "0.7675\n",
      "0.77\n",
      "0.7725\n",
      "0.775\n",
      "0.7775\n",
      "0.78\n",
      "0.7825\n",
      "0.785\n",
      "0.7875\n",
      "0.79\n",
      "0.7925\n",
      "0.795\n",
      "0.7975\n",
      "0.8\n",
      "0.8025\n",
      "0.805\n",
      "0.8075\n",
      "0.81\n",
      "0.8125\n",
      "0.815\n",
      "0.8175\n",
      "0.82\n",
      "0.8225\n",
      "0.825\n",
      "0.8275\n",
      "0.83\n",
      "0.8325\n",
      "0.835\n",
      "0.8375\n",
      "0.84\n",
      "0.8425\n",
      "0.845\n",
      "0.8475\n",
      "0.85\n",
      "0.8525\n",
      "0.855\n",
      "0.8575\n",
      "0.86\n",
      "0.8625\n",
      "0.865\n",
      "0.8675\n",
      "0.87\n",
      "0.8725\n",
      "0.875\n",
      "0.8775\n",
      "0.88\n",
      "0.8825\n",
      "0.885\n",
      "0.8875\n",
      "0.89\n",
      "0.8925\n",
      "0.895\n",
      "0.8975\n",
      "0.9\n",
      "0.9025\n",
      "0.905\n",
      "0.9075\n",
      "0.91\n",
      "0.9125\n",
      "0.915\n",
      "0.9175\n",
      "0.92\n",
      "0.9225\n",
      "0.925\n",
      "0.9275\n",
      "0.93\n",
      "0.9325\n",
      "0.935\n",
      "0.9375\n",
      "0.94\n",
      "0.9425\n",
      "0.945\n",
      "0.9475\n",
      "0.95\n",
      "0.9525\n",
      "0.955\n",
      "0.9575\n",
      "0.96\n",
      "0.9625\n",
      "0.965\n",
      "0.9675\n",
      "0.97\n",
      "0.9725\n",
      "0.975\n",
      "0.9775\n",
      "0.98\n",
      "0.9825\n",
      "0.985\n",
      "0.9875\n",
      "0.99\n",
      "0.9925\n",
      "0.995\n",
      "0.9975\n"
     ]
    }
   ],
   "source": [
    "# data_weight = list(data_weight)\n",
    "# data_maxSimDiff = list(data_maxSimDiff)\n",
    "numTry = 400\n",
    "numTryPerTime = 5000\n",
    "for tempTry in range(0, numTry):\n",
    "    print(float(tempTry)/numTry)\n",
    "    for temp in range(0,numTryPerTime):\n",
    "        weight = np.random.random(size=[10,1])\n",
    "        weight = weight / np.sum(weight)\n",
    "        positive_weighted_similarity = np.dot(positive_training_data, weight)\n",
    "        negative_weighted_similarity = np.dot(negative_training_data, weight)\n",
    "        threshold_s, maxSimDiff = fun_max_similarity(positive_weighted_similarity, negative_weighted_similarity, plotFig=False)\n",
    "        data_weight.append(weight.flatten())\n",
    "        data_maxSimDiff.append(maxSimDiff)        "
   ]
  },
  {
   "cell_type": "code",
   "execution_count": 120,
   "metadata": {},
   "outputs": [
    {
     "data": {
      "text/plain": [
       "<matplotlib.text.Text at 0x7f9d2ab79e90>"
      ]
     },
     "execution_count": 120,
     "metadata": {},
     "output_type": "execute_result"
    },
    {
     "data": {
      "image/png": "[encoded data removed]",
      "text/plain": [
       "<matplotlib.figure.Figure at 0x7f9d2800ecd0>"
      ]
     },
     "metadata": {},
     "output_type": "display_data"
    }
   ],
   "source": [
    "tempNumBin = 100\n",
    "plt.hist(data_maxSimDiff, tempNumBin, normed=True);\n",
    "plt.grid()\n",
    "plt.xlabel('Similarity maximizing distribution difference')\n",
    "plt.ylabel('%')\n",
    "# plt.yscale('log')"
   ]
  },
  {
   "cell_type": "code",
   "execution_count": 182,
   "metadata": {
    "collapsed": true
   },
   "outputs": [],
   "source": [
    "import numba"
   ]
  },
  {
   "cell_type": "code",
   "execution_count": 121,
   "metadata": {
    "scrolled": true
   },
   "outputs": [
    {
     "name": "stderr",
     "output_type": "stream",
     "text": [
      "Folder created: /shared/blob_matching_atlas/training_weight/MD589/7N/stochastic_initialization"
     ]
    }
   ],
   "source": [
    "fun_create_folder('/shared/blob_matching_atlas/training_weight/MD589/7N/stochastic_initialization')"
   ]
  },
  {
   "cell_type": "code",
   "execution_count": 122,
   "metadata": {
    "collapsed": true
   },
   "outputs": [],
   "source": [
    "bp.pack_ndarray_file(data_weight, filename='/shared/blob_matching_atlas/training_weight/MD589/7N/stochastic_initialization/weight.bp')\n",
    "bp.pack_ndarray_file(data_maxSimDiff, filename='/shared/blob_matching_atlas/training_weight/MD589/7N/stochastic_initialization/maxSimDiff.bp')"
   ]
  },
  {
   "cell_type": "code",
   "execution_count": 100,
   "metadata": {
    "collapsed": true
   },
   "outputs": [],
   "source": [
    "data_weight = np.array(data_weight)\n",
    "data_maxSimDiff = np.array(data_maxSimDiff)"
   ]
  },
  {
   "cell_type": "code",
   "execution_count": 101,
   "metadata": {
    "scrolled": true
   },
   "outputs": [
    {
     "data": {
      "text/plain": [
       "array([[ 0.10315924,  0.01021359,  0.18097468,  0.39090934,  0.05026666,\n",
       "         0.17715124,  0.00091428,  0.02301327,  0.03374943,  0.02964826],\n",
       "       [ 0.20574105,  0.02375814,  0.11356584,  0.38726311,  0.06430219,\n",
       "         0.0552819 ,  0.02866969,  0.00077406,  0.04945738,  0.07118664]])"
      ]
     },
     "execution_count": 101,
     "metadata": {},
     "output_type": "execute_result"
    }
   ],
   "source": [
    "tempGoodResult = data_weight[data_maxSimDiff > 0.09]\n",
    "tempGoodResult"
   ]
  },
  {
   "cell_type": "code",
   "execution_count": 104,
   "metadata": {
    "scrolled": false
   },
   "outputs": [
    {
     "data": {
      "text/plain": [
       "<matplotlib.legend.Legend at 0x7f9d1e8645d0>"
      ]
     },
     "execution_count": 104,
     "metadata": {},
     "output_type": "execute_result"
    },
    {
     "data": {
      "image/png": "[encoded data removed]",
      "text/plain": [
       "<matplotlib.figure.Figure at 0x7f9d2aa988d0>"
      ]
     },
     "metadata": {},
     "output_type": "display_data"
    }
   ],
   "source": [
    "tempBinNum = 100\n",
    "tempNormed = True\n",
    "tempCumulated = False\n",
    "\n",
    "# weight = np.array([[20,15,50]], dtype=np.float).T\n",
    "# weight = weight / np.sum(weight)\n",
    "weight = tempGoodResult[0,:]\n",
    "positive_weighted_similarity = np.dot(positive_training_data, weight)\n",
    "negative_weighted_similarity = np.dot(negative_training_data, weight)\n",
    "threshold_s, maxSimDiff = fun_max_similarity(positive_weighted_similarity, negative_weighted_similarity, plotFig=False)\n",
    "plt.figure()\n",
    "plt.hist(negative_weighted_similarity,bins=tempBinNum,normed=tempNormed, alpha=0.3,cumulative=tempCumulated, label='Negative');\n",
    "plt.hist(positive_weighted_similarity,bins=tempBinNum,normed=tempNormed,alpha=0.3,cumulative=tempCumulated, label='Positive');\n",
    "plt.title('Max difference = %f @ s=%f'%(maxSimDiff, threshold_s))\n",
    "plt.legend()"
   ]
  },
  {
   "cell_type": "code",
   "execution_count": 108,
   "metadata": {
    "collapsed": true
   },
   "outputs": [],
   "source": [
    "goodweight08 = data_weight[data_maxSimDiff>0.08]\n",
    "goodweight07 = data_weight[data_maxSimDiff>0.07]"
   ]
  },
  {
   "cell_type": "code",
   "execution_count": 180,
   "metadata": {
    "scrolled": false
   },
   "outputs": [
    {
     "data": {
      "image/png": "[encoded data removed]",
      "text/plain": [
       "<matplotlib.figure.Figure at 0x7f9d28abdf90>"
      ]
     },
     "metadata": {},
     "output_type": "display_data"
    },
    {
     "data": {
      "image/png": "[encoded data removed]",
      "text/plain": [
       "<matplotlib.figure.Figure at 0x7f9d27848fd0>"
      ]
     },
     "metadata": {},
     "output_type": "display_data"
    },
    {
     "data": {
      "image/png": "[encoded data removed]",
      "text/plain": [
       "<matplotlib.figure.Figure at 0x7f9d2be7e090>"
      ]
     },
     "metadata": {},
     "output_type": "display_data"
    },
    {
     "data": {
      "image/png": "[encoded data removed]",
      "text/plain": [
       "<matplotlib.figure.Figure at 0x7f9d27b40a10>"
      ]
     },
     "metadata": {},
     "output_type": "display_data"
    },
    {
     "data": {
      "image/png": "[encoded data removed]",
      "text/plain": [
       "<matplotlib.figure.Figure at 0x7f9d2958a450>"
      ]
     },
     "metadata": {},
     "output_type": "display_data"
    },
    {
     "data": {
      "image/png": "[encoded data removed]",
      "text/plain": [
       "<matplotlib.figure.Figure at 0x7f9d263b0f50>"
      ]
     },
     "metadata": {},
     "output_type": "display_data"
    },
    {
     "data": {
      "image/png": "[encoded data removed]",
      "text/plain": [
       "<matplotlib.figure.Figure at 0x7f9d2918a910>"
      ]
     },
     "metadata": {},
     "output_type": "display_data"
    },
    {
     "data": {
      "image/png": "[encoded data removed]",
      "text/plain": [
       "<matplotlib.figure.Figure at 0x7f9d272d3b90>"
      ]
     },
     "metadata": {},
     "output_type": "display_data"
    },
    {
     "data": {
      "image/png": "[encoded data removed]",
      "text/plain": [
       "<matplotlib.figure.Figure at 0x7f9d28bb9690>"
      ]
     },
     "metadata": {},
     "output_type": "display_data"
    },
    {
     "data": {
      "image/png": "[encoded data removed]",
      "text/plain": [
       "<matplotlib.figure.Figure at 0x7f9d26730190>"
      ]
     },
     "metadata": {},
     "output_type": "display_data"
    }
   ],
   "source": [
    "tempTitle = scan_parameters['training_props'] + ['moments_hu']*6\n",
    "tempNormalized = True\n",
    "for tempIdx in range(10):\n",
    "    plt.figure()\n",
    "    plt.hist(goodweight07[:, tempIdx], bins=50, normed=tempNormalized, alpha=0.3, label='0.7');\n",
    "    plt.hist(goodweight08[:, tempIdx], bins=50, normed=tempNormalized, alpha=0.3, label='0.8');\n",
    "    plt.title(tempTitle[tempIdx])\n",
    "    plt.legend()"
   ]
  },
  {
   "cell_type": "markdown",
   "metadata": {},
   "source": [
    "# Analysis"
   ]
  },
  {
   "cell_type": "markdown",
   "metadata": {},
   "source": [
    "### Distribution differnece"
   ]
  },
  {
   "cell_type": "code",
   "execution_count": 214,
   "metadata": {
    "collapsed": true
   },
   "outputs": [
    {
     "data": {
      "image/png": "[encoded data removed]",
      "text/plain": [
       "<matplotlib.figure.Figure at 0x7f14456029d0>"
      ]
     },
     "metadata": {},
     "output_type": "display_data"
    }
   ],
   "source": [
    "tempProp = 'compactness'\n",
    "tempBinNum = 100\n",
    "plt.hist(negative_similarity_prop[tempProp],bins=tempBinNum,normed=True, alpha=0.3,cumulative=True);\n",
    "plt.hist(positive_similarity_prop[tempProp],bins=tempBinNum,normed=True,alpha=0.3,cumulative=True);"
   ]
  },
  {
   "cell_type": "code",
   "execution_count": 231,
   "metadata": {
    "collapsed": true
   },
   "outputs": [
    {
     "data": {
      "text/plain": [
       "<matplotlib.legend.Legend at 0x7f1440734e90>"
      ]
     },
     "execution_count": 231,
     "metadata": {},
     "output_type": "execute_result"
    },
    {
     "data": {
      "image/png": "[encoded data removed]",
      "text/plain": [
       "<matplotlib.figure.Figure at 0x7f14407a6290>"
      ]
     },
     "metadata": {},
     "output_type": "display_data"
    }
   ],
   "source": [
    "tempProp = 'area'\n",
    "tempBinNum = 100\n",
    "tempNormed = True\n",
    "tempCumulated = False\n",
    "plt.hist(negative_similarity_prop[tempProp],bins=tempBinNum,normed=tempNormed, alpha=0.3,cumulative=tempCumulated, label='Negative');\n",
    "plt.hist(positive_similarity_prop[tempProp],bins=tempBinNum,normed=tempNormed,alpha=0.3,cumulative=tempCumulated, label='Positive');\n",
    "plt.legend()"
   ]
  }
 ],
 "metadata": {
  "kernelspec": {
   "display_name": "Python 2",
   "language": "python",
   "name": "python2"
  },
  "language_info": {
   "codemirror_mode": {
    "name": "ipython",
    "version": 2
   },
   "file_extension": ".py",
   "mimetype": "text/x-python",
   "name": "python",
   "nbconvert_exporter": "python",
   "pygments_lexer": "ipython2",
   "version": "2.7.12"
  }
 },
 "nbformat": 4,
 "nbformat_minor": 2
}
