{
 "cells": [
  {
   "cell_type": "code",
   "execution_count": 3,
   "metadata": {
    "collapsed": true
   },
   "outputs": [],
   "source": [
    "import sys, os, time\n",
    "from skimage.filters import threshold_otsu\n",
    "from scipy import ndimage as ndi\n",
    "from scipy.signal import argrelmax\n",
    "from scipy.stats import linregress\n",
    "import numpy as np\n",
    "import matplotlib.pyplot as plt\n",
    "\n",
    "import time"
   ]
  },
  {
   "cell_type": "code",
   "execution_count": 4,
   "metadata": {},
   "outputs": [
    {
     "name": "stderr",
     "output_type": "stream",
     "text": [
      "Folder already exists."
     ]
    }
   ],
   "source": [
    "save_folder_path = '/shared/MouseBrainAtlasXiang/XJ/Output/detect_cell_alternatives_output/'\n",
    "if os.path.isdir(save_folder_path):\n",
    "    sys.stderr.write('Folder already exists.')\n",
    "else:\n",
    "    os.makedirs(save_folder_path)\n",
    "    sys.stderr.write('Folder created.')"
   ]
  },
  {
   "cell_type": "code",
   "execution_count": 5,
   "metadata": {
    "collapsed": true
   },
   "outputs": [],
   "source": [
    "def viz_classes(data_dic,patch_loc_list,nornmalized=True,transposed=True,patch_stride=56):\n",
    "    \"\"\"\n",
    "    vis_classes(data_dic,patch_loc_index,nornmalized=True,transposed=True,patch_stride=56)\n",
    "    data_dic = {key_value : indexes}\n",
    "    patch_loc_index:\n",
    "    require: numpy, sys\n",
    "    \"\"\"\n",
    "    # Get an array of the index location of each patches\n",
    "    patch_center_pixel_index = patch_loc_list/patch_stride - 2\n",
    "    patch_loc_plot = np.zeros(np.max(patch_center_pixel_index,axis=0)+1)\n",
    "    for tempKey in data_dic.viewkeys():\n",
    "        for temoLoc in patch_center_pixel_index[data_dic[tempKey]]:\n",
    "            try:\n",
    "                patch_loc_plot[temoLoc[0], temoLoc[1]]=tempKey\n",
    "            except:\n",
    "                sys.stderr.write('Index location out of range'+str(temoLoc));\n",
    "    if nornmalized:\n",
    "        try:\n",
    "            patch_loc_plot = rescale_grayscale_image(patch_loc_plot)\n",
    "        except:\n",
    "            sys.stderr('Cannot rescale the grayscale image. Check if function rescale_grayscale_image is available.')\n",
    "    if transposed:\n",
    "        patch_loc_plot = np.transpose(patch_loc_plot)\n",
    "    return patch_loc_plot"
   ]
  },
  {
   "cell_type": "code",
   "execution_count": null,
   "metadata": {
    "collapsed": true
   },
   "outputs": [],
   "source": [
    "def patch_features_DT(patch_image_BW, showImQ=False):\n",
    "    \"\"\"\n",
    "    patch_feature_DT(patch_image_BW, showImQ=False): Input binary patch images, output features extracted\n",
    "    from the distance transformation of the pathc image, including MaxDis, LFslope, LFicpt, LFpV and LFstd. \n",
    "    \n",
    "    \"\"\"\n",
    "    distance_im = ndi.morphology.distance_transform_edt(patch_image_BW)\n",
    "    if showImQ:\n",
    "        display_images_in_grids([distance_im,patch_image_BW], nc=3, cmap=plt.cm.gray);\n",
    "    \n",
    "    # Generate bins for histogram\n",
    "    n_dis_hist_bins = 16; \n",
    "    dis_hist_max = np.max(distance_im.flatten())\n",
    "    dis_hist_min = np.min(distance_im.flatten())\n",
    "    dis_hist_bins = np.linspace(dis_hist_min, dis_hist_max, num=n_dis_hist_bins+1)\n",
    "    distance_im_his = np.histogram(distance_im.flatten(),bins=dis_hist_bins)\n",
    "    # Get x coordinate defined as the center of each bin by moving average\n",
    "    dis_hist_bins_mid = np.convolve(distance_im_his[1],np.ones((2,))/2,mode='valid')\n",
    "    \n",
    "    dis_hist_1st_bin_NumRatio = distance_im_his[0][0]/float(np.sum(distance_im_his[0]))\n",
    "    dis_hist_last_bin_AreaRatio = distance_im_his[0][-1] * dis_hist_bins_mid[-1] / float(patch_area)\n",
    "    # Transfrom for linear regression, start from the second element. (*First element is very large)\n",
    "    dis_hist_count_log = np.log10(distance_im_his[0][1:])\n",
    "    dis_hist_LF = linregress(dis_hist_bins_mid[1:], dis_hist_count_log)\n",
    "    features_DT = {'MaxDis':dis_hist_max,'LFslope':dis_hist_LF.slope,'LFicpt':dis_hist_LF.intercept,'LFpV':dis_hist_LF_pv,'LFstd':dis_hist_LF_std}\n",
    "\n",
    "    if showImQ:\n",
    "        plt.scatter(dis_hist_bins_mid,np.log10(distance_im_his[0]));\n",
    "        plt.hold\n",
    "        plt.plot(dis_hist_bins_mid[1:],dis_hist_LF.slope * dis_hist_bins_mid[1:] + dis_hist_LF.intercept,color='red');\n",
    "        plt.title('slope = '+str(dis_hist_LF.slope)+'  Max_dist = '+str(dis_hist_max) + '\\n  1stBinRatio = ' + str(dis_hist_1st_bin_NumRatio)+ '  LastBinAreaRatio = ' + str(dis_hist_last_bin_AreaRatio))\n",
    "        plt.xlabel('Distance')\n",
    "        plt.ylabel('Log10(#Pixel)')\n",
    "    return features_DT"
   ]
  },
  {
   "cell_type": "code",
   "execution_count": null,
   "metadata": {
    "collapsed": true
   },
   "outputs": [],
   "source": [
    "def fun_rescale_grayscale_image(input,invcol=False):\n",
    "    input = np.array(input);\n",
    "    vmin = np.percentile(input, 0);\n",
    "    vmax = np.percentile(input, 100);\n",
    "    rescale_image = (input - vmin ) / (vmax - vmin);\n",
    "    rescale_image = np.maximum(np.minimum(rescale_image, 1), 0)\n",
    "    rescale_image = img_as_ubyte(rescale_image)\n",
    "    if invcol:\n",
    "        rescale_image = 255 - rescale_image\n",
    "    return rescale_image\n"
   ]
  },
  {
   "cell_type": "code",
   "execution_count": null,
   "metadata": {
    "collapsed": true
   },
   "outputs": [],
   "source": [
    "def fun_construct_filename(define_list):\n",
    "    \"\"\"\n",
    "    get_finelname(list_of_definition_component): return a string concaining filename definition, seperated by '_' \n",
    "    \"\"\"\n",
    "    filename_head = ''\n",
    "    for filename_element in map(str,define_list):\n",
    "        filename_head = filename_head + filename_element + '_'\n",
    "    return filename_head"
   ]
  },
  {
   "cell_type": "code",
   "execution_count": null,
   "metadata": {
    "collapsed": true
   },
   "outputs": [],
   "source": [
    "# secIndex = 0\n",
    "# sec = secIndexList[secIndex]\n",
    "# blobID = 142\n",
    "# n_blobs = len(im_blob_prop[sec])\n",
    "# prop = ['centroid','eccentricity','area','orientation','moments_hu','bbox']\n",
    "\n",
    "\n",
    "# # tempRegion1 = im_blob_prop[sec][blobID]\n",
    "# temp_curr_blob_props = {}\n",
    "\n",
    "# for tempProp in prop:\n",
    "#     temp_curr_blob_props[tempProp] = im_blob_prop[sec][blobID][tempProp]\n",
    "\n",
    "# tempR1_radius = fun_radius_bbox(*temp_curr_blob_props['bbox'])\n",
    "# tempR1_idx_loc = temp_curr_blob_props['centroid']\n",
    "# tempR1_orientation = temp_curr_blob_props['orientation']\n",
    "# tempR1_hu = temp_curr_blob_props['moments_hu']\n",
    "# tempR1_size = temp_curr_blob_props['area']\n",
    "\n",
    "# temp_next_sec_range, local_cloc = fun_scan_range(tempR1_idx_loc,3*fun_radius_bbox(*temp_curr_blob_props['bbox']),imcmax=imcmax,imrmax=imrmax)\n",
    "\n",
    "# # Get the accorsponding part of the next section. \n",
    "# secIndex_next = secIndex + 1;\n",
    "# if secIndex_next < n_images:\n",
    "#     temp_next_sec_image = fun_crop_images(im_BW[secIndex_next],*temp_next_sec_range,imrmax=imrmax,imcmax=imcmax)\n",
    "#     temp_next_sec_image = skimage.segmentation.clear_border(temp_next_sec_image)\n",
    "# #     plt.imshow(temp_next_sec_image,cmap=plt.cm.gray)\n",
    "# else:\n",
    "#     sys.stderr('Reach the limit of stack. Break')\n",
    "\n",
    "# temp_next_sec_image_label = skimage.measure.label(temp_next_sec_image)\n",
    "# temp_next_sec_image_blob_prop = skimage.measure.regionprops(temp_next_sec_image_label)\n",
    "\n",
    "# temp_next_blob_props = {}\n",
    "\n",
    "# temp_next_n_blob = len(temp_next_sec_image_blob_prop)\n",
    "# for tempProp in prop:\n",
    "#     temp_prop_value = []\n",
    "#     for blobIndex in range(temp_next_n_blob):\n",
    "#         temp_prop_value.append(temp_next_sec_image_blob_prop[blobIndex][tempProp])\n",
    "#     temp_next_blob_props[tempProp] = temp_prop_value\n",
    "# temp_next_blob_props['relative_dict'] = []\n",
    "# for blobIndex in range(temp_next_n_blob):\n",
    "#     temp_next_blob_props['relative_dict'].append(fun_local_distance(temp_next_sec_image_blob_prop[blobIndex]['centroid'],local_cloc))\n",
    "\n",
    "# temp_sim = {}\n",
    "# temp_compare_props = ['area', 'orientation', 'eccentricity']\n",
    "# for temp_prop in temp_compare_props:\n",
    "#     if temp_prop == 'orientation':\n",
    "#         temp_sim[temp_prop] = np.array(fun_similarity(temp_curr_blob_props[temp_prop],\n",
    "#                                                  temp_next_blob_props[temp_prop],distance_type='angular'))\n",
    "#     else:\n",
    "#         temp_sim[temp_prop] = np.array(fun_similarity(temp_curr_blob_props[temp_prop],\n",
    "#                                                  temp_next_blob_props[temp_prop]))\n",
    "\n",
    "# temp_compare_result = np.mean(np.stack(temp_sim.values()),axis=0)>0.7\n",
    "# temp_compare_result = any(temp_compare_result.tolist())\n",
    "\n"
   ]
  }
 ],
 "metadata": {
  "kernelspec": {
   "display_name": "Python 2",
   "language": "python",
   "name": "python2"
  },
  "language_info": {
   "codemirror_mode": {
    "name": "ipython",
    "version": 2
   },
   "file_extension": ".py",
   "mimetype": "text/x-python",
   "name": "python",
   "nbconvert_exporter": "python",
   "pygments_lexer": "ipython2",
   "version": "2.7.12"
  }
 },
 "nbformat": 4,
 "nbformat_minor": 2
}
