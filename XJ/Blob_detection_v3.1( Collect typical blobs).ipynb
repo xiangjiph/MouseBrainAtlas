{
 "cells": [
  {
   "cell_type": "markdown",
   "metadata": {},
   "source": [
    "1. Eliminate small blobs, does not eliminate blobs with high compactness value\n",
    "2. Collect typical blob by local blob matching\n",
    "3. Collect false typical blob by matching blobs with blobs far away in the same section \n",
    "    - Set a cut off radius and compare this blob with all the blobs outside this radius on the same section\n",
    "    - Collect the best matched pair. Or alternatively, randomly sample the outside blob and form a pair\n",
    "4. Run over the entire brain\n",
    "    - No need in the first trail,where we just need to get a large enough region. Let's look at the whole image first. \n",
    "5. Train the average perceptron with the same features\n",
    "6. Train the average perceptron with more features\n"
   ]
  },
  {
   "cell_type": "code",
   "execution_count": 2,
   "metadata": {
    "scrolled": true
   },
   "outputs": [
    {
     "name": "stdout",
     "output_type": "stream",
     "text": [
      "The autoreload extension is already loaded. To reload it, use:\n",
      "  %reload_ext autoreload\n"
     ]
    },
    {
     "name": "stderr",
     "output_type": "stream",
     "text": [
      "Folder already exists: /shared/MouseBrainAtlasXiang/XJ/Output/Collect_typical_blobs/"
     ]
    }
   ],
   "source": [
    "import matplotlib.pyplot as plt\n",
    "%matplotlib inline\n",
    "%load_ext autoreload\n",
    "%reload_ext autoreload\n",
    "%autoreload 2\n",
    "\n",
    "import sys, os, time, collections\n",
    "\n",
    "sys.path.append(os.path.join(os.environ['REPO_DIR'], 'utilities'))\n",
    "sys.path.append(os.path.join(os.environ['REPO_DIR'], 'cells'))\n",
    "# sys.path.append(os.path.join(os.environ['REPO_DIR'], 'annotation'))\n",
    "# sys.path.append(os.path.join(os.environ['REPO_DIR']bb, 'learning'))\n",
    "\n",
    "import numpy as np\n",
    "import scipy\n",
    "import skimage\n",
    "from skimage.feature import peak_local_max\n",
    "from skimage.morphology import watershed\n",
    "from skimage.measure import regionprops, label, find_contours\n",
    "from skimage.color import rgb2hsv\n",
    "from scipy import ndimage as ndi\n",
    "import pandas\n",
    "from scipy.signal import argrelmax\n",
    "from scipy.stats import linregress\n",
    "\n",
    "from annotation_utilities import *\n",
    "from registration_utilities import *\n",
    "from learning_utilities import *\n",
    "from data_manager import *\n",
    "from utilities2015 import *\n",
    "from cell_utilities import *\n",
    "from metadata import *\n",
    "from distributed_utilities import download_from_s3\n",
    "\n",
    "save_folder_path = '/shared/MouseBrainAtlasXiang/XJ/Output/Collect_typical_blobs/'\n",
    "from xj_utilities import *\n",
    "fun_create_folder(save_folder_path=save_folder_path)"
   ]
  },
  {
   "cell_type": "code",
   "execution_count": 3,
   "metadata": {
    "collapsed": true
   },
   "outputs": [],
   "source": [
    "scan_parameters = {}"
   ]
  },
  {
   "cell_type": "code",
   "execution_count": 5,
   "metadata": {
    "collapsed": true
   },
   "outputs": [],
   "source": [
    "scan_parameters['stack'] = 'MD589'\n",
    "scan_parameters['patch_size'] = 448\n",
    "scan_parameters['patch_half_size'] = scan_parameters['patch_size']/2\n",
    "scan_parameters['stride'] = 112\n",
    "\n",
    "scan_parameters['section_limits'] = metadata_cache['section_limits'][scan_parameters['stack']]\n",
    "scan_parameters['o_crop'] = True\n",
    "scan_parameters['o_clear_border'] = True\n",
    "scan_parameters['o_relabel'] = True\n",
    "scan_parameters['oriImL1'], scan_parameters['oriImL0'] = metadata_cache['image_shape'][scan_parameters['stack']]\n",
    "scan_parameters['scan_section_range'] = 1\n",
    "\n",
    "scan_parameters['prop'] = ['centroid','eccentricity','area','orientation','moments_hu','bbox','equivalent_diameter','perimeter','compactness','label','major_axis_length','minor_axis_length']\n",
    "scan_parameters['prop_for_comparison'] = ['area', 'eccentricity']\n",
    "if 'moments_hu' in scan_parameters['prop_for_comparison']:\n",
    "    scan_parameters['compare_weight'] = [1 for i in range(6 + len(scan_parameters['prop_for_comparison']))]\n",
    "else:\n",
    "    scan_parameters['compare_weight'] = [1 for i in range(len(scan_parameters['prop_for_comparison']))]\n",
    "scan_parameters['compare_weight'] = np.array(scan_parameters['compare_weight'])/ float(np.sum(scan_parameters['compare_weight']))\n",
    "scan_parameters['similarity_threshold'] = 0.9\n",
    "scan_parameters['o_fix_scan_size'] = True\n",
    "scan_parameters['scan_size'] = 112\n",
    "scan_parameters['scan_size_coeff'] = 5\n",
    "scan_parameters['builtInProps'] = ['centroid','orientation', 'eccentricity','area','orientation','moments_hu','bbox','equivalent_diameter','label','local_centroid','major_axis_length','solidity','minor_axis_length','perimeter','solidity']\n",
    "scan_parameters['prop_to_save'] = ['coords','moments_hu','centroid','area','eccentricity','equivalent_diameter']\n",
    "scan_parameters['scan_outside_margin'] = 1000\n",
    "stack = scan_parameters['stack']"
   ]
  },
  {
   "cell_type": "code",
   "execution_count": 6,
   "metadata": {},
   "outputs": [
    {
     "name": "stdout",
     "output_type": "stream",
     "text": [
      "aws s3 cp --recursive \"s3://mousebrainatlas-data/CSHL_labelings_v3/MD589\" \"/shared/CSHL_labelings_v3/MD589\" --exclude \"*\" --include \"*contours*\"\n",
      "latest timestamp:  07292017045157\n"
     ]
    }
   ],
   "source": [
    "contour_df = DataManager.load_annotation_v4(stack=scan_parameters['stack'],by_human=True,suffix='contours',timestamp='latest')\n",
    "contour_df = convert_annotation_v3_original_to_aligned_cropped(contour_df=contour_df,stack=stack)\n",
    "structure_name = '7N'\n",
    "vertice_7N_dic = {record['section']:np.array(record['vertices'],np.int) for _, record in contour_df[contour_df['name']==structure_name].iterrows()}\n",
    "sectionList_7N = np.sort(vertice_7N_dic.keys())"
   ]
  },
  {
   "cell_type": "code",
   "execution_count": 7,
   "metadata": {
    "collapsed": true,
    "scrolled": true
   },
   "outputs": [],
   "source": [
    "margin = 10\n",
    "bboxs_7N = {sec:fun_polygon_bbox(vertice_7N_dic[sec]) for sec in sectionList_7N}\n",
    "bbox_7N = fun_polygons_bbox(bboxs_7N.values(),margin=margin)\n",
    "# bbox_7N = bboxs_7N[154]\n",
    "scan_parameters['crop_range_mmxx'] = bbox_7N\n",
    "scan_parameters['crop_0_min'], scan_parameters['crop_1_min'],scan_parameters['crop_0_max'],scan_parameters['crop_1_max'] = bbox_7N \n",
    "scan_parameters['im0max'] = scan_parameters['crop_0_max'] - scan_parameters['crop_0_min']\n",
    "scan_parameters['im1max'] = scan_parameters['crop_1_max'] - scan_parameters['crop_1_min']\n",
    "scan_parameters['crop_range_mxmx'] = fun_mmxx_to_mxmx(*scan_parameters['crop_range_mmxx'])"
   ]
  },
  {
   "cell_type": "code",
   "execution_count": 8,
   "metadata": {
    "collapsed": true
   },
   "outputs": [
    {
     "name": "stderr",
     "output_type": "stream",
     "text": [
      "/usr/local/lib/python2.7/dist-packages/PIL/Image.py:2438: DecompressionBombWarning: Image size (185246720 pixels) exceeds limit of 89478485 pixels, could be decompression bomb DOS attack.\n",
      "  DecompressionBombWarning)\n"
     ]
    },
    {
     "name": "stdout",
     "output_type": "stream",
     "text": [
      "rm -rf \"/shared/CSHL_data_processed/MD589/MD589_prep2_lossless_jpeg/MD589-N30-2015.07.30-18.03.11_MD589_1_0088_prep2_lossless_jpeg.jpg\" && mkdir -p \"/shared/CSHL_data_processed/MD589/MD589_prep2_lossless_jpeg\"\n",
      "aws s3 cp \"s3://mousebrainatlas-data/CSHL_data_processed/MD589/MD589_prep2_lossless_jpeg/MD589-N30-2015.07.30-18.03.11_MD589_1_0088_prep2_lossless_jpeg.jpg\" \"/shared/CSHL_data_processed/MD589/MD589_prep2_lossless_jpeg/MD589-N30-2015.07.30-18.03.11_MD589_1_0088_prep2_lossless_jpeg.jpg\"\n",
      "rm -rf \"/shared/CSHL_data_processed/MD589/MD589_prep2_lossless_jpeg/MD589-IHC30-2015.07.30-23.20.46_MD589_1_0088_prep2_lossless_jpeg.jpg\" && mkdir -p \"/shared/CSHL_data_processed/MD589/MD589_prep2_lossless_jpeg\"\n",
      "aws s3 cp \"s3://mousebrainatlas-data/CSHL_data_processed/MD589/MD589_prep2_lossless_jpeg/MD589-IHC30-2015.07.30-23.20.46_MD589_1_0088_prep2_lossless_jpeg.jpg\" \"/shared/CSHL_data_processed/MD589/MD589_prep2_lossless_jpeg/MD589-IHC30-2015.07.30-23.20.46_MD589_1_0088_prep2_lossless_jpeg.jpg\"\n",
      "rm -rf \"/shared/CSHL_data_processed/MD589/MD589_prep2_lossless_jpeg/MD589-N30-2015.07.30-18.03.11_MD589_2_0089_prep2_lossless_jpeg.jpg\" && mkdir -p \"/shared/CSHL_data_processed/MD589/MD589_prep2_lossless_jpeg\"\n",
      "aws s3 cp \"s3://mousebrainatlas-data/CSHL_data_processed/MD589/MD589_prep2_lossless_jpeg/MD589-N30-2015.07.30-18.03.11_MD589_2_0089_prep2_lossless_jpeg.jpg\" \"/shared/CSHL_data_processed/MD589/MD589_prep2_lossless_jpeg/MD589-N30-2015.07.30-18.03.11_MD589_2_0089_prep2_lossless_jpeg.jpg\"\n",
      "rm -rf \"/shared/CSHL_data_processed/MD589/MD589_prep2_lossless_jpeg/MD589-IHC30-2015.07.30-23.20.46_MD589_2_0089_prep2_lossless_jpeg.jpg\" && mkdir -p \"/shared/CSHL_data_processed/MD589/MD589_prep2_lossless_jpeg\"\n",
      "aws s3 cp \"s3://mousebrainatlas-data/CSHL_data_processed/MD589/MD589_prep2_lossless_jpeg/MD589-IHC30-2015.07.30-23.20.46_MD589_2_0089_prep2_lossless_jpeg.jpg\" \"/shared/CSHL_data_processed/MD589/MD589_prep2_lossless_jpeg/MD589-IHC30-2015.07.30-23.20.46_MD589_2_0089_prep2_lossless_jpeg.jpg\"\n",
      "rm -rf \"/shared/CSHL_data_processed/MD589/MD589_prep2_lossless_jpeg/MD589-N30-2015.07.30-18.03.11_MD589_3_0090_prep2_lossless_jpeg.jpg\" && mkdir -p \"/shared/CSHL_data_processed/MD589/MD589_prep2_lossless_jpeg\"\n",
      "aws s3 cp \"s3://mousebrainatlas-data/CSHL_data_processed/MD589/MD589_prep2_lossless_jpeg/MD589-N30-2015.07.30-18.03.11_MD589_3_0090_prep2_lossless_jpeg.jpg\" \"/shared/CSHL_data_processed/MD589/MD589_prep2_lossless_jpeg/MD589-N30-2015.07.30-18.03.11_MD589_3_0090_prep2_lossless_jpeg.jpg\"\n",
      "rm -rf \"/shared/CSHL_data_processed/MD589/MD589_prep2_lossless_jpeg/MD589-IHC30-2015.07.30-23.20.46_MD589_3_0090_prep2_lossless_jpeg.jpg\" && mkdir -p \"/shared/CSHL_data_processed/MD589/MD589_prep2_lossless_jpeg\"\n",
      "aws s3 cp \"s3://mousebrainatlas-data/CSHL_data_processed/MD589/MD589_prep2_lossless_jpeg/MD589-IHC30-2015.07.30-23.20.46_MD589_3_0090_prep2_lossless_jpeg.jpg\" \"/shared/CSHL_data_processed/MD589/MD589_prep2_lossless_jpeg/MD589-IHC30-2015.07.30-23.20.46_MD589_3_0090_prep2_lossless_jpeg.jpg\"\n",
      "rm -rf \"/shared/CSHL_data_processed/MD589/MD589_prep2_lossless_jpeg/MD589-N31-2015.07.30-18.08.35_MD589_1_0091_prep2_lossless_jpeg.jpg\" && mkdir -p \"/shared/CSHL_data_processed/MD589/MD589_prep2_lossless_jpeg\"\n",
      "aws s3 cp \"s3://mousebrainatlas-data/CSHL_data_processed/MD589/MD589_prep2_lossless_jpeg/MD589-N31-2015.07.30-18.08.35_MD589_1_0091_prep2_lossless_jpeg.jpg\" \"/shared/CSHL_data_processed/MD589/MD589_prep2_lossless_jpeg/MD589-N31-2015.07.30-18.08.35_MD589_1_0091_prep2_lossless_jpeg.jpg\"\n",
      "rm -rf \"/shared/CSHL_data_processed/MD589/MD589_prep2_lossless_jpeg/MD589-IHC31-2015.07.30-23.26.22_MD589_1_0091_prep2_lossless_jpeg.jpg\" && mkdir -p \"/shared/CSHL_data_processed/MD589/MD589_prep2_lossless_jpeg\"\n",
      "aws s3 cp \"s3://mousebrainatlas-data/CSHL_data_processed/MD589/MD589_prep2_lossless_jpeg/MD589-IHC31-2015.07.30-23.26.22_MD589_1_0091_prep2_lossless_jpeg.jpg\" \"/shared/CSHL_data_processed/MD589/MD589_prep2_lossless_jpeg/MD589-IHC31-2015.07.30-23.26.22_MD589_1_0091_prep2_lossless_jpeg.jpg\"\n",
      "rm -rf \"/shared/CSHL_data_processed/MD589/MD589_prep2_lossless_jpeg/MD589-N31-2015.07.30-18.08.35_MD589_2_0092_prep2_lossless_jpeg.jpg\" && mkdir -p \"/shared/CSHL_data_processed/MD589/MD589_prep2_lossless_jpeg\"\n",
      "aws s3 cp \"s3://mousebrainatlas-data/CSHL_data_processed/MD589/MD589_prep2_lossless_jpeg/MD589-N31-2015.07.30-18.08.35_MD589_2_0092_prep2_lossless_jpeg.jpg\" \"/shared/CSHL_data_processed/MD589/MD589_prep2_lossless_jpeg/MD589-N31-2015.07.30-18.08.35_MD589_2_0092_prep2_lossless_jpeg.jpg\"\n",
      "rm -rf \"/shared/CSHL_data_processed/MD589/MD589_prep2_lossless_jpeg/MD589-IHC31-2015.07.30-23.26.22_MD589_2_0092_prep2_lossless_jpeg.jpg\" && mkdir -p \"/shared/CSHL_data_processed/MD589/MD589_prep2_lossless_jpeg\"\n",
      "aws s3 cp \"s3://mousebrainatlas-data/CSHL_data_processed/MD589/MD589_prep2_lossless_jpeg/MD589-IHC31-2015.07.30-23.26.22_MD589_2_0092_prep2_lossless_jpeg.jpg\" \"/shared/CSHL_data_processed/MD589/MD589_prep2_lossless_jpeg/MD589-IHC31-2015.07.30-23.26.22_MD589_2_0092_prep2_lossless_jpeg.jpg\"\n"
     ]
    }
   ],
   "source": [
    "# loading data\n",
    "image = {}\n",
    "stack = scan_parameters['stack']\n",
    "section_begin, section_end = scan_parameters['section_limits']\n",
    "# secList = range(section_begin, section_end+1)\n",
    "# tempSecList = range(section_begin, section_end+1)\n",
    "load_section_idx_range = range(0,min(30, len(sectionList_7N)))\n",
    "secList = list(sectionList_7N[load_section_idx_range])\n",
    "tempSecList = list(sectionList_7N[load_section_idx_range])\n",
    "for tempSec in tempSecList:\n",
    "    try:\n",
    "        image[tempSec] = fun_crop_images(DataManager.load_image_v2(stack=stack, section=tempSec, version='jpeg', prep_id=2),*scan_parameters['crop_range_mmxx'],im0max=scan_parameters['oriImL0'],im1max=scan_parameters['oriImL1'] )\n",
    "    except:\n",
    "        sys.stderr.write('Invalid section %d...\\n'%tempSec)\n",
    "        secList.remove(tempSec)\n",
    "        continue\n",
    "#     if os.path.isfile(img_filename[tempSec]):\n",
    "#         sys.stderr.write('Image file is already available. \\n')\n",
    "#         continue\n",
    "#     else:\n",
    "#         try:\n",
    "#             download_from_s3(img_filename[tempSec])\n",
    "#         except:\n",
    "#             sys.stderr.write('Download fail. Skip this file for section %d...\\n'%tempSec)\n",
    "#             secList.remove(tempSec)\n",
    "#             continue   \n",
    "scan_parameters['secList'] = secList"
   ]
  },
  {
   "cell_type": "code",
   "execution_count": 9,
   "metadata": {
    "scrolled": true
   },
   "outputs": [
    {
     "name": "stdout",
     "output_type": "stream",
     "text": [
      "Section 154 Finished percentage: 0.000000\n",
      "Section 154 Finished percentage: 89.206066\n"
     ]
    }
   ],
   "source": [
    "scan_range = scan_parameters['scan_section_range']\n",
    "im0max = scan_parameters['im0max']\n",
    "im1max = scan_parameters['im1max']\n",
    "prop = scan_parameters['prop']\n",
    "prop_for_comparison = scan_parameters['prop_for_comparison']\n",
    "compare_weight = scan_parameters['compare_weight']\n",
    "o_simil_threshold = scan_parameters['similarity_threshold']\n",
    "o_fix_scan_size = scan_parameters['o_fix_scan_size']\n",
    "o_scan_size_coeff = scan_parameters['scan_size_coeff']\n",
    "o_scan_size = scan_parameters['scan_size']  \n",
    "secList = scan_parameters['secList'] \n",
    "stack = scan_parameters['stack']\n",
    "\n",
    "data_typical_blobs = {}\n",
    "data_matched_paris = {}\n",
    "data_false_typical_blobs = {}\n",
    "data_false_matched_pairs = {}\n",
    "data_blob_prop_dic = {}\n",
    "data_blob_idx_selection = {}\n",
    "section = 154\n",
    "# for section in secList:\n",
    "typical_blobs = []\n",
    "matched_paris = []\n",
    "false_typical_blobs = []\n",
    "false_matched_paris = []\n",
    "cell_centroids = {}\n",
    "cell_numbers = {}\n",
    "cell_global_coord = {}\n",
    "im_blob_prop = {}\n",
    "im_label_ori = {}\n",
    "im_label = {}\n",
    "im_BW = {}\n",
    "sec_load_data_list = range(section - scan_range, section + scan_range + 1)\n",
    "scan_section = list(sec_load_data_list)\n",
    "scan_section.remove(section)\n",
    "### loading data and reconstructed labeled images ###\n",
    "tempList = list(sec_load_data_list)\n",
    "for tempSec in tempList:\n",
    "#         print('process section %d'%tempSec)\n",
    "    if tempSec in secList:\n",
    "        cell_global_coord[tempSec] = load_cell_data('coords', stack=stack, sec=tempSec)\n",
    "#             print('load section %d'%tempSec)\n",
    "        temp_im_label, temp_im_blob_prop, _ = fun_reconstruct_labeled_image(cell_global_coord[tempSec],crop_range= scan_parameters['crop_range_mxmx'], \n",
    "                                                                    oriImL0=scan_parameters['oriImL0'],oriImL1=scan_parameters['oriImL1'])\n",
    "        im_label[tempSec] = temp_im_label\n",
    "        im_BW[tempSec] = temp_im_label > 0\n",
    "        im_blob_prop[tempSec] = np.array(temp_im_blob_prop)\n",
    "    else:\n",
    "        sys.stderr.write('Warning: missing section %d'%tempSec)\n",
    "#             print(scan_section)\n",
    "        scan_section.remove(tempSec)\n",
    "#             print(scan_section)\n",
    "#             print(sec_load_data_list)\n",
    "        sec_load_data_list.remove(tempSec)\n",
    "#             print(sec_load_data_list)\n",
    "\n",
    "### Start getting region properties of each blob    ###\n",
    "blob_prop_dic = fun_regionprops_dic(im_blob_prop=im_blob_prop,scan_parameters=scan_parameters)\n",
    "data_blob_prop_dic[section] = blob_prop_dic[section] # Save data\n",
    "blob_idx_selection = {tempSec : np.logical_and.reduce(np.row_stack(\n",
    "    (blob_prop_dic[tempSec]['compactness']>0,\n",
    "#      blob_prop_dic[tempSec]['compactness']<2.5,\n",
    "     blob_prop_dic[tempSec]['area']<3000,\n",
    "     blob_prop_dic[tempSec]['area']>200))) for tempSec in sec_load_data_list}  \n",
    "\n",
    "data_blob_idx_selection[section] = blob_idx_selection[section] # Save data\n",
    "\n",
    "n_blobs = {tempSec: len(im_blob_prop[tempSec]) for tempSec in im_blob_prop.keys()}\n",
    "secList_in_BlobPropDic = im_blob_prop.keys()\n",
    "if set(scan_section).issubset(set(secList_in_BlobPropDic)):\n",
    "    pass\n",
    "else:\n",
    "    print('Warrning: Scaned section(s) not included in input im_blob_prop')\n",
    "\n",
    "\n",
    "\n",
    "### Start scanning ###\n",
    "for blobID in range(n_blobs[section]):\n",
    "    if (blobID % 1000 == 0):\n",
    "        print('Section %d Finished percentage: %f'%(section, (float(blobID)*100 / n_blobs[section]) ))\n",
    "\n",
    "    temp_curr_blob_props = {}\n",
    "    for tempProp in prop:\n",
    "        temp_curr_blob_props[tempProp] = blob_prop_dic[section][tempProp][blobID]\n",
    "#         if tempProp in scan_parameters['builtInProps']:\n",
    "#             temp_curr_blob_props[tempProp] = im_blob_prop[section][blobID][tempProp]\n",
    "#         elif tempProp == 'compactness':\n",
    "#             temp_curr_blob_props[tempProp] = im_blob_prop[section][blobID]['perimeter']**2/(4*PI*im_blob_prop[section][blobID]['area'])\n",
    "\n",
    "    if not blob_idx_selection[section][blobID]:\n",
    "#         print('Blob %d eliminated'%blobID)\n",
    "        continue\n",
    "\n",
    "\n",
    "\n",
    "    tempB1_idx_loc = temp_curr_blob_props['centroid']\n",
    "    if o_fix_scan_size:\n",
    "        temp_next_sec_range, local_cloc = fun_scan_range(tempB1_idx_loc,o_scan_size,im0max=im0max,im1max=im1max,o_form='2D')\n",
    "        temp_next_sec_range_1D,_ = fun_scan_range(tempB1_idx_loc,o_scan_size,im0max=im0max,im1max=im1max)\n",
    "    else:\n",
    "        temp_next_sec_range, local_cloc = fun_scan_range(tempB1_idx_loc,o_scan_size_coeff*fun_radius_bbox(*temp_curr_blob_props.bbox),im0max=im0max,im1max=im1max,o_form='2D')\n",
    "        temp_next_sec_range_1D,_ = fun_scan_range(tempB1_idx_loc,o_scan_size_coeff*fun_radius_bbox(*temp_curr_blob_props.bbox),im0max=im0max,im1max=im1max)\n",
    "\n",
    "\n",
    "    for tempSec in scan_section:\n",
    "#         print('Blbo %d left. Start scanning'%blobID)\n",
    "        if tempSec not in secList_in_BlobPropDic:\n",
    "            continue\n",
    "\n",
    "        # Find blobs at the nearby location in the scaned section\n",
    "        # Method 1\n",
    "        tempBlobInside = fun_blobs_in_polygen(blob_prop_dic[tempSec]['centroid'],temp_next_sec_range,coor_order='cr')\n",
    "        tempBlobOutside = fun_blobs_out_polygen(blob_prop_dic[tempSec]['centroid'], temp_next_sec_range, coor_order='cr', margin=scan_parameters['scan_outside_margin'])\n",
    "#         tempPath = matplotlib.path.Path(temp_next_sec_range)\n",
    "#         tempBlobInside = tempPath.contains_points(blob_prop_dic[tempSec]['centroid'])\n",
    "        tempBlobInsideIndex = np.where(tempBlobInside)[0]\n",
    "        temp_num_blob = len(tempBlobInsideIndex)\n",
    "        tempBlobOutsideIndex = np.where(tempBlobOutside)[0]\n",
    "        temp_num_outblob = len(tempBlobOutsideIndex)\n",
    "\n",
    "        if temp_num_blob:\n",
    "            temp_sim = {}\n",
    "            for temp_prop in prop_for_comparison:\n",
    "                      temp_sim[temp_prop] = np.array(fun_similarity(temp_curr_blob_props[temp_prop], blob_prop_dic[tempSec][temp_prop][tempBlobInside],distance_type=temp_prop))\n",
    "            temp_sim_matrix = np.column_stack((temp_sim[temp_prop] for temp_prop in prop_for_comparison))\n",
    "\n",
    "            #### Blob comparison ####\n",
    "            temp_weighted_sim = np.dot(temp_sim_matrix,compare_weight)\n",
    "            temp_compare_result = temp_weighted_sim > o_simil_threshold\n",
    "            if any(temp_compare_result.tolist()):\n",
    "#                 print('Typical blob found: Blob %d similarity %f'%(blobID,max(temp_weighted_sim)))\n",
    "                typical_blobs.append([section,blobID, im_blob_prop[section][blobID]])\n",
    "                matched_paris.append([section,blobID,im_blob_prop[section][blobID],tempSec, tempBlobInsideIndex[temp_compare_result], im_blob_prop[tempSec][tempBlobInsideIndex[temp_compare_result]],temp_sim_matrix[temp_compare_result,:]])\n",
    "#             temp_next_sec_blob_prop = np.array(im_blob_prop[tempSec])[tempBlobInsideIndex]\n",
    "        else:\n",
    "#             print('No blobs found in this section')\n",
    "            pass\n",
    "\n",
    "\n",
    "        if temp_num_outblob:\n",
    "            temp_false_sim = {}\n",
    "            for temp_prop in prop_for_comparison:\n",
    "                      temp_false_sim[temp_prop] = np.array(fun_similarity(temp_curr_blob_props[temp_prop], blob_prop_dic[tempSec][temp_prop][tempBlobOutside],distance_type=temp_prop))\n",
    "            temp_false_sim_matrix = np.column_stack((temp_false_sim[temp_prop] for temp_prop in prop_for_comparison))\n",
    "\n",
    "            #### Blob comparison ####\n",
    "            temp_weighted_false_sim = np.dot(temp_false_sim_matrix,compare_weight)\n",
    "            temp_false_compare_result = temp_weighted_false_sim > o_simil_threshold\n",
    "            if any(temp_false_compare_result.tolist()):\n",
    "#                 print('Typical blob found: Blob %d similarity %f'%(blobID,max(temp_weighted_sim)))\n",
    "                false_typical_blobs.append([section,blobID, im_blob_prop[section][blobID]])\n",
    "                false_matched_paris.append([section,blobID,im_blob_prop[section][blobID],\n",
    "                                            tempSec, \n",
    "                                            tempBlobOutsideIndex[temp_false_compare_result], \n",
    "                                            im_blob_prop[tempSec][tempBlobOutsideIndex[temp_false_compare_result]],\n",
    "                                            temp_false_sim_matrix[temp_false_compare_result,:]])\n",
    "#             temp_next_sec_blob_prop = np.array(im_blob_prop[tempSec])[tempBlobInsideIndex]\n",
    "        else:\n",
    "#             print('No blobs found in this section')\n",
    "            pass\n",
    "data_typical_blobs[section] = typical_blobs\n",
    "data_matched_paris[section] = matched_paris\n",
    "data_false_typical_blobs[section] = false_typical_blobs\n",
    "data_false_matched_pairs[section] = false_matched_paris   "
   ]
  },
  {
   "cell_type": "code",
   "execution_count": 11,
   "metadata": {},
   "outputs": [
    {
     "data": {
      "text/plain": [
       "'MD589-N26-2015.07.30-17.44.37_MD589_3_0078'"
      ]
     },
     "execution_count": 11,
     "metadata": {},
     "output_type": "execute_result"
    }
   ],
   "source": [
    "metadata_cache['sections_to_filenames'][stack][152]"
   ]
  },
  {
   "cell_type": "code",
   "execution_count": 21,
   "metadata": {},
   "outputs": [
    {
     "data": {
      "text/plain": [
       "'bbb_hahaha_aaa'"
      ]
     },
     "execution_count": 21,
     "metadata": {},
     "output_type": "execute_result"
    }
   ],
   "source": [
    "'%(fn)s_%(name)s_aaa'%{'fn':'bbb', 'name':'hahaha'}"
   ]
  },
  {
   "cell_type": "code",
   "execution_count": 23,
   "metadata": {},
   "outputs": [
    {
     "data": {
      "text/plain": [
       "'aaab'"
      ]
     },
     "execution_count": 23,
     "metadata": {},
     "output_type": "execute_result"
    }
   ],
   "source": [
    "a = 'aaa'\n",
    "b = a + 'b'\n",
    "b"
   ]
  },
  {
   "cell_type": "markdown",
   "metadata": {},
   "source": [
    "# Analyze typical blobs  - Histograms"
   ]
  },
  {
   "cell_type": "code",
   "execution_count": 8,
   "metadata": {
    "collapsed": true
   },
   "outputs": [],
   "source": [
    "data_typical_blobs_properties = {}\n",
    "for tempSec in data_typical_blobs.keys():\n",
    "    data_typical_blobs_properties[tempSec] = [record[2] for record in data_typical_blobs[tempSec]]\n",
    "\n",
    "data_typical_blobs_properties = fun_regionprops_dic(data_typical_blobs_properties, scan_parameters)\n",
    "data_typical_blobs_properties_flatten = {}\n",
    "# typical_blob_properties, might be dubplicated due to multiple sections matching\n",
    "for tempProp in scan_parameters['prop']:\n",
    "    data_typical_blobs_properties_flatten[tempProp] = np.concatenate(tuple([data_typical_blobs_properties[tempSec][tempProp] for tempSec in data_typical_blobs_properties.keys()]))\n",
    "# dd for delete-duplicated\n",
    "data_typical_blobs_properties_dd = {}\n",
    "for tempProp in scan_parameters['prop']:\n",
    "    data_typical_blobs_properties_dd[tempProp] =  np.concatenate(tuple([data_blob_prop_dic[tempSec][tempProp][np.unique(data_typical_blobs_properties[tempSec]['label'])-1] for tempSec in data_blob_prop_dic.keys()]))\n",
    "# All detected blob properties in the cropped region\n",
    "data_blob_prop_dic_flatten = {}\n",
    "data_selected_blob_props_flatten_dic = {}\n",
    "for tempProp in scan_parameters['prop']:\n",
    "    data_blob_prop_dic_flatten[tempProp] = np.concatenate(tuple([data_blob_prop_dic[tempSec][tempProp] for tempSec in data_blob_prop_dic.keys()]))\n",
    "# All the selected blob properties in the cropped region\n",
    "temp_selected_idx_flatten = np.logical_and(data_blob_prop_dic_flatten['area']>200, data_blob_prop_dic_flatten['area']<3000)\n",
    "for tempProp in scan_parameters['prop']:\n",
    "    data_selected_blob_props_flatten_dic[tempProp] = data_blob_prop_dic_flatten[tempProp][temp_selected_idx_flatten]"
   ]
  },
  {
   "cell_type": "code",
   "execution_count": 112,
   "metadata": {},
   "outputs": [
    {
     "data": {
      "image/png": "[encoded data removed]",
      "text/plain": [
       "<matplotlib.figure.Figure at 0x7f9d28954610>"
      ]
     },
     "metadata": {},
     "output_type": "display_data"
    }
   ],
   "source": [
    "temp_num_typical_blob = [np.count_nonzero(np.unique(data_typical_blobs_properties[tempSec]['label'])) for tempSec in secList]\n",
    "temp_num_selected_blob = [np.count_nonzero(data_blob_idx_selection[tempSec]) for tempSec in secList]\n",
    "plt.scatter(np.array(secList), np.array(temp_num_typical_blob, dtype=np.float) / np.array(temp_num_selected_blob, dtype=np.float))\n",
    "plt.xlabel('Section')\n",
    "plt.ylabel('#Typical blobs/ #Selected blobs')\n",
    "plt.grid()"
   ]
  },
  {
   "cell_type": "markdown",
   "metadata": {},
   "source": [
    "This figure shows the ratio between the number of typical blobs found and the number of selected blobs. The ratio is low for the first and the last point (correspond to section 152 and section 171) and that's because they can only find similar blob in one section ( section 151 and section 172 are not included in the loaded data). \n",
    "\n",
    "It seems that the similarity threshold for the typical blob collection is too low. Do we really want aobut 85% of the blob to be similar? "
   ]
  },
  {
   "cell_type": "code",
   "execution_count": 78,
   "metadata": {},
   "outputs": [
    {
     "data": {
      "text/plain": [
       "<matplotlib.text.Text at 0x7f9d28d46310>"
      ]
     },
     "execution_count": 78,
     "metadata": {},
     "output_type": "execute_result"
    },
    {
     "data": {
      "image/png": "[encoded data removed]",
      "text/plain": [
       "<matplotlib.figure.Figure at 0x7f9d2aede910>"
      ]
     },
     "metadata": {},
     "output_type": "display_data"
    },
    {
     "data": {
      "image/png": "[encoded data removed]",
      "text/plain": [
       "<matplotlib.figure.Figure at 0x7f9d298ad9d0>"
      ]
     },
     "metadata": {},
     "output_type": "display_data"
    }
   ],
   "source": [
    "plt.hist(data_typical_blobs_properties_dd['area'],bins=100);\n",
    "plt.title('Area histogram for all the typical blobs')\n",
    "plt.figure()\n",
    "plt.hist(data_selected_blob_props_flatten_dic['area'],bins=100);\n",
    "plt.title('Area histogram for all the selected blobs')"
   ]
  },
  {
   "cell_type": "markdown",
   "metadata": {},
   "source": [
    "Cannot tell much difference..."
   ]
  },
  {
   "cell_type": "code",
   "execution_count": 81,
   "metadata": {
    "scrolled": true
   },
   "outputs": [
    {
     "data": {
      "image/png": "[encoded data removed]",
      "text/plain": [
       "<matplotlib.figure.Figure at 0x7f9d28ac91d0>"
      ]
     },
     "metadata": {},
     "output_type": "display_data"
    }
   ],
   "source": [
    "temp_num_bin = 281\n",
    "temp1 = np.histogram(data_typical_blobs_properties_dd['area'], bins=temp_num_bin,range=(200,3000))\n",
    "temp2 = np.histogram(data_selected_blob_props_flatten_dic['area'], bins=temp_num_bin,range=(200,3000))\n",
    "plt.scatter(scipy.signal.convolve(temp1[1],np.ones([2,])*0.5,mode='valid'),(temp1[0]+0.000000000001)/(temp2[0] + 0.00000001))\n",
    "plt.xlabel('Blob Area')\n",
    "plt.ylabel('Ratio')\n",
    "plt.grid()"
   ]
  },
  {
   "cell_type": "markdown",
   "metadata": {},
   "source": [
    "Ratio of binned area between typicl blobs and selected blobs \n",
    "1. Verify the correctness of the algorithm ( ratio not larger than 1 )\n",
    "2. Many blobs larger than 2000 pixels are eliminated."
   ]
  },
  {
   "cell_type": "code",
   "execution_count": 86,
   "metadata": {
    "scrolled": false
   },
   "outputs": [
    {
     "data": {
      "image/png": "[encoded data removed]",
      "text/plain": [
       "<matplotlib.figure.Figure at 0x7f9d2986d3d0>"
      ]
     },
     "metadata": {},
     "output_type": "display_data"
    }
   ],
   "source": [
    "temp_num_bin = 61\n",
    "temp_range = (0,6)\n",
    "temp1 = np.histogram(data_typical_blobs_properties_dd['compactness'], bins=temp_num_bin,range=temp_range)\n",
    "temp2 = np.histogram(data_selected_blob_props_flatten_dic['compactness'], bins=temp_num_bin,range=temp_range)\n",
    "plt.scatter(scipy.signal.convolve(temp1[1],np.ones([2,])*0.5,mode='valid'),(temp1[0]+0.00000000001)/(temp2[0] + 0.00000001))\n",
    "plt.xlabel('Blob Compactness')\n",
    "plt.ylabel('Ratio')\n",
    "plt.grid()"
   ]
  },
  {
   "cell_type": "markdown",
   "metadata": {},
   "source": [
    "Ratio of binned compactness counts between typical blobs and selected blobs\n",
    "1. It seems that blobs of different compactness are eliminated unbiasely in the matching process. For compactness in (1,3), the ratio seems flat. Any way to quantify the unbiased elimination? \n",
    "\n",
    "2. Need to plot the standard deviation:\n",
    "    - bin ratio according to compactness\n",
    "    - compute the standard deviation for each bin \n",
    "    - plot scatter point with error bar\n",
    "    - alternative: box plot: plt.boxplot([data_typical_blobs_properties_dd['area'], ])\n"
   ]
  },
  {
   "cell_type": "code",
   "execution_count": 89,
   "metadata": {},
   "outputs": [
    {
     "data": {
      "image/png": "[encoded data removed]",
      "text/plain": [
       "<matplotlib.figure.Figure at 0x7f9d29bc1610>"
      ]
     },
     "metadata": {},
     "output_type": "display_data"
    }
   ],
   "source": [
    "temp_num_bin = 61\n",
    "temp_range = (0,1)\n",
    "tempProp = 'eccentricity'\n",
    "temp1 = np.histogram(data_typical_blobs_properties_dd[tempProp], bins=temp_num_bin,range=temp_range)\n",
    "temp2 = np.histogram(data_selected_blob_props_flatten_dic[tempProp], bins=temp_num_bin,range=temp_range)\n",
    "plt.scatter(scipy.signal.convolve(temp1[1],np.ones([2,])*0.5,mode='valid'),(temp1[0]+0.00000000001)/(temp2[0] + 0.00000001))\n",
    "plt.xlabel('Blob ' + tempProp)\n",
    "plt.ylabel('Ratio')\n",
    "plt.grid()"
   ]
  },
  {
   "cell_type": "code",
   "execution_count": 118,
   "metadata": {},
   "outputs": [
    {
     "data": {
      "image/png": "[encoded data removed]",
      "text/plain": [
       "<matplotlib.figure.Figure at 0x7f9d2dbfdd50>"
      ]
     },
     "metadata": {},
     "output_type": "display_data"
    }
   ],
   "source": [
    "PI = 3.1415926\n",
    "temp_num_bin = 500\n",
    "temp_range = (-PI/2 ,PI/2)\n",
    "tempProp = 'orientation'\n",
    "temp1 = np.histogram(data_typical_blobs_properties_dd[tempProp], bins=temp_num_bin,range=temp_range)\n",
    "temp2 = np.histogram(data_selected_blob_props_flatten_dic[tempProp], bins=temp_num_bin,range=temp_range)\n",
    "plt.scatter(scipy.signal.convolve(temp1[1],np.ones([2,])*0.5,mode='valid'),(temp1[0]+0.00000000001)/(temp2[0] + 0.00000001),s=2)\n",
    "plt.xlabel('Blob ' + tempProp+'(rad)')\n",
    "plt.ylabel('Ratio')\n",
    "plt.grid()"
   ]
  },
  {
   "cell_type": "markdown",
   "metadata": {},
   "source": [
    "# Analyze mis-matched blobs"
   ]
  },
  {
   "cell_type": "code",
   "execution_count": null,
   "metadata": {
    "collapsed": true
   },
   "outputs": [],
   "source": []
  }
 ],
 "metadata": {
  "kernelspec": {
   "display_name": "Python 2",
   "language": "python",
   "name": "python2"
  },
  "language_info": {
   "codemirror_mode": {
    "name": "ipython",
    "version": 2
   },
   "file_extension": ".py",
   "mimetype": "text/x-python",
   "name": "python",
   "nbconvert_exporter": "python",
   "pygments_lexer": "ipython2",
   "version": "2.7.12"
  }
 },
 "nbformat": 4,
 "nbformat_minor": 2
}
