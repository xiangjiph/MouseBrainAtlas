{
 "cells": [
  {
   "cell_type": "code",
   "execution_count": 2,
   "metadata": {
    "scrolled": true
   },
   "outputs": [
    {
     "name": "stdout",
     "output_type": "stream",
     "text": [
      "The autoreload extension is already loaded. To reload it, use:\n",
      "  %reload_ext autoreload\n"
     ]
    },
    {
     "name": "stderr",
     "output_type": "stream",
     "text": [
      "/usr/local/lib/python2.7/dist-packages/matplotlib/__init__.py:1405: UserWarning: \n",
      "This call to matplotlib.use() has no effect because the backend has already\n",
      "been chosen; matplotlib.use() must be called *before* pylab, matplotlib.pyplot,\n",
      "or matplotlib.backends is imported for the first time.\n",
      "\n",
      "  warnings.warn(_use_error_msg)\n"
     ]
    },
    {
     "name": "stdout",
     "output_type": "stream",
     "text": [
      "Setting environment for AWS compute node\n"
     ]
    },
    {
     "name": "stderr",
     "output_type": "stream",
     "text": [
      "No vtk\n",
      "Cannot import mxnet.\n",
      "Folder already exists: /shared/MouseBrainAtlasXiang/XJ/Output/Collect_typical_blobs/"
     ]
    }
   ],
   "source": [
    "import matplotlib.pyplot as plt\n",
    "%matplotlib inline\n",
    "%load_ext autoreload\n",
    "%reload_ext autoreload\n",
    "%autoreload 2\n",
    "\n",
    "import sys, os, time, collections\n",
    "\n",
    "sys.path.append(os.path.join(os.environ['REPO_DIR'], 'utilities'))\n",
    "sys.path.append(os.path.join(os.environ['REPO_DIR'], 'cells'))\n",
    "# sys.path.append(os.path.join(os.environ['REPO_DIR'], 'annotation'))\n",
    "# sys.path.append(os.path.join(os.environ['REPO_DIR']bb, 'learning'))\n",
    "\n",
    "import numpy as np\n",
    "import scipy\n",
    "import skimage\n",
    "from skimage.feature import peak_local_max\n",
    "from skimage.morphology import watershed\n",
    "from skimage.measure import regionprops, label, find_contours\n",
    "from skimage.color import rgb2hsv\n",
    "from scipy import ndimage as ndi\n",
    "import pandas\n",
    "from scipy.signal import argrelmax\n",
    "from scipy.stats import linregress\n",
    "\n",
    "from annotation_utilities import *\n",
    "from registration_utilities import *\n",
    "from learning_utilities import *\n",
    "from data_manager import *\n",
    "from utilities2015 import *\n",
    "from cell_utilities import *\n",
    "from metadata import *\n",
    "from distributed_utilities import download_from_s3\n",
    "\n",
    "save_folder_path = '/shared/MouseBrainAtlasXiang/XJ/Output/Collect_typical_blobs/'\n",
    "from xj_utilities import *\n",
    "fun_create_folder(save_folder_path=save_folder_path)"
   ]
  },
  {
   "cell_type": "markdown",
   "metadata": {},
   "source": [
    "### Load data"
   ]
  },
  {
   "cell_type": "code",
   "execution_count": 4,
   "metadata": {
    "collapsed": true,
    "scrolled": false
   },
   "outputs": [],
   "source": [
    "stack = 'MD589'\n",
    "dataFolderName = 'NoCoords'\n",
    "scan_parameters = load_typical_cell_data(what='scan_parameters', stack=stack, sec=200, dataFolderName=dataFolderName, dataType='typical')"
   ]
  },
  {
   "cell_type": "code",
   "execution_count": 22,
   "metadata": {
    "collapsed": true
   },
   "outputs": [],
   "source": [
    "section_valid_list = fun_get_valid_section_list(stack)\n",
    "section_load_list = list(section_valid_list)\n",
    "\n",
    "# Load blob data\n",
    "typical_blob_props = collections.defaultdict(dict)\n",
    "matched_blob_props = collections.defaultdict(dict)\n",
    "false_typical_blob_props = collections.defaultdict(dict)\n",
    "false_matched_blob_props = collections.defaultdict(dict)\n",
    "for tempProp in scan_parameters['prop_to_save']:\n",
    "    for tempSec in section_valid_list:\n",
    "        try:\n",
    "            typical_blob_props[tempSec][tempProp] = load_typical_cell_data(what=tempProp, stack=stack, sec=tempSec, dataFolderName=dataFolderName, dataType='typical')\n",
    "            matched_blob_props[tempSec][tempProp] = load_typical_cell_data(what=tempProp, stack=stack, sec=tempSec, dataFolderName=dataFolderName, dataType='matched')\n",
    "            false_typical_blob_props[tempSec][tempProp] = load_typical_cell_data(what=tempProp, stack=stack, sec=tempSec, dataFolderName=dataFolderName, dataType='false_typical')\n",
    "            false_matched_blob_props[tempSec][tempProp] = load_typical_cell_data(what=tempProp, stack=stack, sec=tempSec, dataFolderName=dataFolderName, dataType='false_matched')\n",
    "        except:\n",
    "            section_load_list.remove(tempSec)\n",
    "            print('Cannot load the data of section %d'%tempSec)\n",
    "            \n",
    "for tempProp in ['section', 'TBID']:\n",
    "    for tempSec in section_valid_list:\n",
    "        try:\n",
    "            matched_blob_props[tempSec][tempProp] = load_typical_cell_data(what=tempProp, stack=stack, sec=tempSec, dataFolderName=dataFolderName, dataType='matched')\n",
    "            false_matched_blob_props[tempSec][tempProp] = load_typical_cell_data(what=tempProp, stack=stack, sec=tempSec, dataFolderName=dataFolderName, dataType='false_matched')\n",
    "        except:\n",
    "            section_load_list.remove(tempSec)\n",
    "            print('Cannot load the data of section %d'%tempSec)\n",
    "# Get relation between TBID and matched blob idx\n",
    "TBID_to_matched_blob = collections.defaultdict(dict)\n",
    "for tempSec in section_load_list:\n",
    "    for tempBID in range(len(typical_blob_props[tempSec]['area'])):\n",
    "        TBID_to_matched_blob[tempSec][tempBID] = np.where(matched_blob_props[tempSec]['TBID']==tempBID)[0]\n",
    "        \n",
    "TBID_to_false_matched_blob = collections.defaultdict(dict)\n",
    "for tempSec in section_load_list:\n",
    "    for tempBID in range(len(false_typical_blob_props[tempSec]['area'])):\n",
    "        TBID_to_false_matched_blob[tempSec][tempBID] = np.where(false_matched_blob_props[tempSec]['TBID']==tempBID)[0]\n",
    "\n",
    "TBID_to_false_matched_blob = collections.defaultdict(dict)\n",
    "for tempSec in section_load_list:\n",
    "    for tempBID in range(len(false_typical_blob_props[tempSec]['area'])):\n",
    "        TBID_to_false_matched_blob[tempSec][tempBID] = np.where(false_matched_blob_props[tempSec]['TBID']==tempBID)[0]"
   ]
  },
  {
   "cell_type": "markdown",
   "metadata": {},
   "source": [
    "1. Get blobs in 7N \n",
    "2. Construct training dataset\n",
    "3. Implement modified perceptron "
   ]
  },
  {
   "cell_type": "code",
   "execution_count": 23,
   "metadata": {},
   "outputs": [
    {
     "name": "stdout",
     "output_type": "stream",
     "text": [
      "aws s3 cp --recursive \"s3://mousebrainatlas-data/CSHL_labelings_v3/MD589\" \"/shared/CSHL_labelings_v3/MD589\" --exclude \"*\" --include \"*contours*\"\n",
      "latest timestamp:  07292017045157\n"
     ]
    }
   ],
   "source": [
    "contour_df = DataManager.load_annotation_v4(stack=scan_parameters['stack'],by_human=True,suffix='contours',timestamp='latest')\n",
    "contour_df = convert_annotation_v3_original_to_aligned_cropped(contour_df=contour_df,stack=stack)\n",
    "vertice_dic = collections.defaultdict(dict)\n",
    "structure_section_list = collections.defaultdict(dict)\n",
    "for structure_name in set(contour_df['name']):\n",
    "    vertice_dic[structure_name] = {record['section']:np.array(record['vertices'],np.int) for _, record in contour_df[contour_df['name']==structure_name].iterrows()} \n",
    "    structure_section_list[structure_name] = np.sort(vertice_dic[structure_name].keys())"
   ]
  },
  {
   "cell_type": "code",
   "execution_count": 24,
   "metadata": {
    "collapsed": true
   },
   "outputs": [],
   "source": [
    "structure_name = '7N'\n",
    "TBID_in_structure = collections.defaultdict(dict)\n",
    "for tempSec in set(section_load_list).intersection(structure_section_list[structure_name]):\n",
    "    TBID_in_structure[tempSec][structure_name] =  np.where(fun_blobs_in_polygen(typical_blob_props[tempSec]['centroid'], vertice_dic[structure_name][tempSec]))[0]\n"
   ]
  },
  {
   "cell_type": "markdown",
   "metadata": {},
   "source": [
    "# Training set of 7N"
   ]
  },
  {
   "cell_type": "code",
   "execution_count": 40,
   "metadata": {
    "collapsed": true
   },
   "outputs": [],
   "source": [
    "scan_parameters['training_props'] = training_props = ['area', 'eccentricity', 'compactness']"
   ]
  },
  {
   "cell_type": "code",
   "execution_count": 25,
   "metadata": {},
   "outputs": [
    {
     "data": {
      "text/plain": [
       "array([7351, 7354, 7364, 7374, 7380])"
      ]
     },
     "execution_count": 25,
     "metadata": {},
     "output_type": "execute_result"
    }
   ],
   "source": [
    "TBID_in_structure[152][structure_name]"
   ]
  },
  {
   "cell_type": "code",
   "execution_count": 29,
   "metadata": {},
   "outputs": [
    {
     "data": {
      "text/plain": [
       "7438"
      ]
     },
     "execution_count": 29,
     "metadata": {},
     "output_type": "execute_result"
    }
   ],
   "source": [
    "len(typical_blob_props[152]['area'])"
   ]
  },
  {
   "cell_type": "code",
   "execution_count": 30,
   "metadata": {},
   "outputs": [
    {
     "data": {
      "text/plain": [
       "array([7351, 7354, 7364, 7374, 7380])"
      ]
     },
     "execution_count": 30,
     "metadata": {},
     "output_type": "execute_result"
    }
   ],
   "source": [
    "tempSec = 152\n",
    "TBID_in_structure[tempSec][structure_name]"
   ]
  },
  {
   "cell_type": "code",
   "execution_count": 31,
   "metadata": {},
   "outputs": [
    {
     "data": {
      "text/plain": [
       "array([   0,    0,    0, ..., 7435, 7436, 7437], dtype=int16)"
      ]
     },
     "execution_count": 31,
     "metadata": {},
     "output_type": "execute_result"
    }
   ],
   "source": [
    "matched_blob_props[tempSec]['TBID']"
   ]
  },
  {
   "cell_type": "markdown",
   "metadata": {},
   "source": [
    "# Whole Brainstem matching results"
   ]
  },
  {
   "cell_type": "code",
   "execution_count": 24,
   "metadata": {
    "scrolled": true
   },
   "outputs": [
    {
     "data": {
      "image/png": "[encoded data removed]",
      "text/plain": [
       "<matplotlib.figure.Figure at 0x7f5b94446ed0>"
      ]
     },
     "metadata": {},
     "output_type": "display_data"
    }
   ],
   "source": [
    "# \n",
    "temp = false_matched_blob_props[152]['area']\n",
    "plt.hist(temp[temp>1000], bins=100);"
   ]
  },
  {
   "cell_type": "code",
   "execution_count": 7,
   "metadata": {
    "collapsed": true,
    "scrolled": true
   },
   "outputs": [],
   "source": [
    "# margin = 10\n",
    "# bboxs_7N = {sec:fun_polygon_bbox(vertice_7N_dic[sec]) for sec in sectionList_7N}\n",
    "# bbox_7N = fun_polygons_bbox(bboxs_7N.values(),margin=margin)\n",
    "# # bbox_7N = bboxs_7N[154]\n",
    "# scan_parameters['crop_range_mmxx'] = bbox_7N\n",
    "# scan_parameters['crop_0_min'], scan_parameters['crop_1_min'],scan_parameters['crop_0_max'],scan_parameters['crop_1_max'] = bbox_7N \n",
    "# scan_parameters['im0max'] = scan_parameters['crop_0_max'] - scan_parameters['crop_0_min']\n",
    "# scan_parameters['im1max'] = scan_parameters['crop_1_max'] - scan_parameters['crop_1_min']\n",
    "# scan_parameters['crop_range_mxmx'] = fun_mmxx_to_mxmx(*scan_parameters['crop_range_mmxx'])"
   ]
  },
  {
   "cell_type": "code",
   "execution_count": 8,
   "metadata": {
    "collapsed": true
   },
   "outputs": [],
   "source": [
    "# Get avaliable sections:\n",
    "stack = scan_parameters['stack']\n",
    "section_begin, section_end = scan_parameters['section_limits']\n",
    "load_section_num = 100\n",
    "load_start_section = 152 - section_begin\n",
    "all_valid_section = fun_get_valid_section_list(stack=stack)\n",
    "# secList = all_valid_section[load_start_section:load_section_num + load_start_section]\n",
    "# secList = list(set(all_valid_section).intersection(sectionList_7N))\n",
    "secList = all_valid_section\n",
    "scan_parameters['secList'] = secList"
   ]
  },
  {
   "cell_type": "code",
   "execution_count": 139,
   "metadata": {
    "collapsed": true
   },
   "outputs": [],
   "source": [
    "# # loading data\n",
    "# image = {}\n",
    "# for tempSec in secList:\n",
    "#     try:\n",
    "#         image[tempSec] = fun_crop_images(DataManager.load_image_v2(stack=stack, section=tempSec, version='jpeg', prep_id=2),*scan_parameters['crop_range_mmxx'],im0max=scan_parameters['oriImL0'],im1max=scan_parameters['oriImL1'] )\n",
    "#     except:\n",
    "#         sys.stderr.write('Cannot import section %d...\\n'%tempSec)\n",
    "#         continue"
   ]
  }
 ],
 "metadata": {
  "kernelspec": {
   "display_name": "Python 2",
   "language": "python",
   "name": "python2"
  },
  "language_info": {
   "codemirror_mode": {
    "name": "ipython",
    "version": 2
   },
   "file_extension": ".py",
   "mimetype": "text/x-python",
   "name": "python",
   "nbconvert_exporter": "python",
   "pygments_lexer": "ipython2",
   "version": "2.7.12"
  }
 },
 "nbformat": 4,
 "nbformat_minor": 2
}
