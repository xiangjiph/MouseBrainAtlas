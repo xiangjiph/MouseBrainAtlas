{
 "cells": [
  {
   "cell_type": "code",
   "execution_count": 1,
   "metadata": {},
   "outputs": [],
   "source": [
    "%reload_ext autoreload\n",
    "%autoreload 2"
   ]
  },
  {
   "cell_type": "code",
   "execution_count": 2,
   "metadata": {
    "scrolled": true
   },
   "outputs": [
    {
     "name": "stderr",
     "output_type": "stream",
     "text": [
      "/usr/local/lib/python2.7/dist-packages/matplotlib/__init__.py:1401: UserWarning:  This call to matplotlib.use() has no effect\n",
      "because the backend has already been chosen;\n",
      "matplotlib.use() must be called *before* pylab, matplotlib.pyplot,\n",
      "or matplotlib.backends is imported for the first time.\n",
      "\n",
      "  warnings.warn(_use_error_msg)\n"
     ]
    },
    {
     "name": "stdout",
     "output_type": "stream",
     "text": [
      "Setting environment for AWS compute node\n"
     ]
    },
    {
     "name": "stderr",
     "output_type": "stream",
     "text": [
      "No vtk\n",
      "File does not exist: /shared/CSHL_data_processed/MD635/MD635_anchor.txt\n",
      "File does not exist: /shared/CSHL_data_processed/MD635/MD635_sorted_filenames.txt\n",
      "File does not exist: /shared/CSHL_data_processed/MD635/MD635_cropbox.txt\n",
      "File does not exist: /shared/CSHL_data_processed/MD635/MD635_cropbox.txt\n"
     ]
    }
   ],
   "source": [
    "import os\n",
    "import sys\n",
    "import time\n",
    "\n",
    "import matplotlib.pyplot as plt\n",
    "%matplotlib inline\n",
    "import numpy as np\n",
    "\n",
    "sys.path.append(os.path.join(os.environ['REPO_DIR'], 'utilities'))\n",
    "from utilities2015 import *\n",
    "from metadata import *\n",
    "from data_manager import *\n",
    "from learning_utilities import *"
   ]
  },
  {
   "cell_type": "code",
   "execution_count": 3,
   "metadata": {},
   "outputs": [
    {
     "name": "stderr",
     "output_type": "stream",
     "text": [
      "xgboost is not loaded."
     ]
    }
   ],
   "source": [
    "from sklearn.externals import joblib\n",
    "\n",
    "from sklearn.linear_model import LogisticRegression\n",
    "from sklearn.svm import LinearSVC, SVC\n",
    "from sklearn.calibration import CalibratedClassifierCV\n",
    "from sklearn.ensemble import GradientBoostingClassifier \n",
    "\n",
    "sys.path.append('/home/yuncong/csd395/xgboost/python-package')\n",
    "try:\n",
    "    from xgboost.sklearn import XGBClassifier\n",
    "except:\n",
    "    sys.stderr.write('xgboost is not loaded.')"
   ]
  },
  {
   "cell_type": "code",
   "execution_count": 4,
   "metadata": {
    "collapsed": true
   },
   "outputs": [],
   "source": [
    "# structures_to_sample = all_known_structures\n",
    "\n",
    "# negative_labels_to_sample = [s + '_negative' for s in structures_to_sample]\n",
    "\n",
    "# margins_to_sample = [500] # (200: 100 um, 500: 250 um)\n",
    "# surround_labels_to_sample = [convert_to_surround_name(s, margin=m, suffix=surr_l) \n",
    "#                              for m in margins_to_sample\n",
    "#                              for s in structures_to_sample \n",
    "#                              for surr_l in structures_to_sample + ['noclass'] \n",
    "#                              if surr_l != s]\n",
    "\n",
    "# labels_to_sample = structures_to_sample + negative_labels_to_sample + surround_labels_to_sample + ['noclass']"
   ]
  },
  {
   "cell_type": "markdown",
   "metadata": {},
   "source": [
    "# Train Classifiers"
   ]
  },
  {
   "cell_type": "code",
   "execution_count": 5,
   "metadata": {
    "scrolled": true
   },
   "outputs": [
    {
     "data": {
      "text/html": [
       "<div>\n",
       "<table border=\"1\" class=\"dataframe\">\n",
       "  <thead>\n",
       "    <tr style=\"text-align: right;\">\n",
       "      <th></th>\n",
       "      <th>model</th>\n",
       "      <th>margin</th>\n",
       "      <th>train_set_id</th>\n",
       "      <th>neg_composition</th>\n",
       "      <th>sample_weighting</th>\n",
       "    </tr>\n",
       "    <tr>\n",
       "      <th>classifier_id</th>\n",
       "      <th></th>\n",
       "      <th></th>\n",
       "      <th></th>\n",
       "      <th></th>\n",
       "      <th></th>\n",
       "    </tr>\n",
       "  </thead>\n",
       "  <tbody>\n",
       "    <tr>\n",
       "      <th>30</th>\n",
       "      <td>lr</td>\n",
       "      <td>500</td>\n",
       "      <td>20/21</td>\n",
       "      <td>neg_has_all_surround</td>\n",
       "      <td>NaN</td>\n",
       "    </tr>\n",
       "    <tr>\n",
       "      <th>31</th>\n",
       "      <td>lr</td>\n",
       "      <td>500</td>\n",
       "      <td>21/22</td>\n",
       "      <td>neg_has_all_surround</td>\n",
       "      <td>NaN</td>\n",
       "    </tr>\n",
       "    <tr>\n",
       "      <th>32</th>\n",
       "      <td>lr</td>\n",
       "      <td>500</td>\n",
       "      <td>20/22</td>\n",
       "      <td>neg_has_all_surround</td>\n",
       "      <td>NaN</td>\n",
       "    </tr>\n",
       "    <tr>\n",
       "      <th>33</th>\n",
       "      <td>gb1</td>\n",
       "      <td>500</td>\n",
       "      <td>20/21</td>\n",
       "      <td>neg_has_all_surround</td>\n",
       "      <td>NaN</td>\n",
       "    </tr>\n",
       "    <tr>\n",
       "      <th>34</th>\n",
       "      <td>gb1</td>\n",
       "      <td>500</td>\n",
       "      <td>21/22</td>\n",
       "      <td>neg_has_all_surround</td>\n",
       "      <td>NaN</td>\n",
       "    </tr>\n",
       "    <tr>\n",
       "      <th>35</th>\n",
       "      <td>gb1</td>\n",
       "      <td>500</td>\n",
       "      <td>20/22</td>\n",
       "      <td>neg_has_all_surround</td>\n",
       "      <td>NaN</td>\n",
       "    </tr>\n",
       "    <tr>\n",
       "      <th>95</th>\n",
       "      <td>gb2</td>\n",
       "      <td>500</td>\n",
       "      <td>93</td>\n",
       "      <td>neg_has_all_surround</td>\n",
       "      <td>NaN</td>\n",
       "    </tr>\n",
       "    <tr>\n",
       "      <th>96</th>\n",
       "      <td>gb2</td>\n",
       "      <td>500</td>\n",
       "      <td>95</td>\n",
       "      <td>neg_has_all_surround</td>\n",
       "      <td>NaN</td>\n",
       "    </tr>\n",
       "    <tr>\n",
       "      <th>97</th>\n",
       "      <td>gb2</td>\n",
       "      <td>500</td>\n",
       "      <td>97</td>\n",
       "      <td>neg_has_all_surround</td>\n",
       "      <td>NaN</td>\n",
       "    </tr>\n",
       "    <tr>\n",
       "      <th>98</th>\n",
       "      <td>gb2</td>\n",
       "      <td>500</td>\n",
       "      <td>99</td>\n",
       "      <td>neg_has_all_surround</td>\n",
       "      <td>NaN</td>\n",
       "    </tr>\n",
       "    <tr>\n",
       "      <th>99</th>\n",
       "      <td>lr</td>\n",
       "      <td>500</td>\n",
       "      <td>99</td>\n",
       "      <td>neg_has_all_surround</td>\n",
       "      <td>NaN</td>\n",
       "    </tr>\n",
       "  </tbody>\n",
       "</table>\n",
       "</div>"
      ],
      "text/plain": [
       "              model  margin train_set_id       neg_composition  \\\n",
       "classifier_id                                                    \n",
       "30               lr     500        20/21  neg_has_all_surround   \n",
       "31               lr     500        21/22  neg_has_all_surround   \n",
       "32               lr     500        20/22  neg_has_all_surround   \n",
       "33              gb1     500        20/21  neg_has_all_surround   \n",
       "34              gb1     500        21/22  neg_has_all_surround   \n",
       "35              gb1     500        20/22  neg_has_all_surround   \n",
       "95              gb2     500           93  neg_has_all_surround   \n",
       "96              gb2     500           95  neg_has_all_surround   \n",
       "97              gb2     500           97  neg_has_all_surround   \n",
       "98              gb2     500           99  neg_has_all_surround   \n",
       "99               lr     500           99  neg_has_all_surround   \n",
       "\n",
       "               sample_weighting  \n",
       "classifier_id                    \n",
       "30                          NaN  \n",
       "31                          NaN  \n",
       "32                          NaN  \n",
       "33                          NaN  \n",
       "34                          NaN  \n",
       "35                          NaN  \n",
       "95                          NaN  \n",
       "96                          NaN  \n",
       "97                          NaN  \n",
       "98                          NaN  \n",
       "99                          NaN  "
      ]
     },
     "execution_count": 5,
     "metadata": {},
     "output_type": "execute_result"
    }
   ],
   "source": [
    "classifier_settings"
   ]
  },
  {
   "cell_type": "code",
   "execution_count": 6,
   "metadata": {},
   "outputs": [],
   "source": [
    "classifier_id = 95\n",
    "classifier_properties = classifier_settings.loc[classifier_id]\n",
    "\n",
    "margin = classifier_properties['margin']\n",
    "model = classifier_properties['model']\n",
    "sample_weighting = classifier_properties['sample_weighting']\n",
    "neg_composition = classifier_properties['neg_composition']"
   ]
  },
  {
   "cell_type": "code",
   "execution_count": 7,
   "metadata": {
    "collapsed": true
   },
   "outputs": [],
   "source": [
    "# Determine which labels to load.\n",
    "\n",
    "structures_to_sample = all_known_structures\n",
    "negative_labels_to_sample = [s + '_negative' for s in structures_to_sample]\n",
    "\n",
    "margins_to_sample = [margin] # (200: 100 um, 500: 250 um)\n",
    "surround_positive_labels_to_sample = [convert_to_surround_name(s, margin=m, suffix=surr_l) \n",
    "                             for m in margins_to_sample\n",
    "                             for s in structures_to_sample \n",
    "                             for surr_l in structures_to_sample\n",
    "                             if surr_l != s]\n",
    "surround_noclass_labels_to_sample = [convert_to_surround_name(s, margin=m, suffix='noclass') \n",
    "                             for m in margins_to_sample\n",
    "                             for s in structures_to_sample]\n",
    "\n",
    "if neg_composition == 'neg_has_everything_else':\n",
    "    labels_to_sample = structures_to_sample + negative_labels_to_sample\n",
    "elif neg_composition == 'neg_has_only_surround_noclass':\n",
    "    labels_to_sample = structures_to_sample + surround_noclass_labels_to_sample + ['noclass']\n",
    "elif neg_composition == 'neg_has_all_surround':\n",
    "    labels_to_sample = structures_to_sample + surround_positive_labels_to_sample + surround_noclass_labels_to_sample + ['noclass']"
   ]
  },
  {
   "cell_type": "code",
   "execution_count": 8,
   "metadata": {
    "collapsed": true
   },
   "outputs": [],
   "source": [
    "# Load training dataset.\n",
    "\n",
    "training_set_ids = map(int, str(classifier_properties['train_set_id']).split('/'))\n",
    "# training_features, training_addresses = load_datasets(training_set_ids, labels_to_sample=labels_to_sample)\n",
    "training_features, training_addresses = load_datasets(training_set_ids, labels_to_sample=labels_to_sample, \n",
    "                                                      clf_rootdir=CELL_FEATURES_CLF_ROOTDIR)\n",
    "    \n",
    "assert set(training_addresses.keys()) == set(training_features.keys()), \\\n",
    "    'Training features and training addresses are not consistent.'"
   ]
  },
  {
   "cell_type": "code",
   "execution_count": 9,
   "metadata": {
    "collapsed": true
   },
   "outputs": [],
   "source": [
    "labels_found = training_features.keys()\n",
    "structures_found = set([convert_to_original_name(l) for l in labels_found \n",
    "                        if convert_to_original_name(l) in labels_found]) - {'noclass'}"
   ]
  },
  {
   "cell_type": "code",
   "execution_count": 10,
   "metadata": {
    "collapsed": true
   },
   "outputs": [],
   "source": [
    "# setting_dir = os.path.join(os.path.join(CLF_ROOTDIR, 'setting_%d' % classifier_id))\n",
    "setting_dir = os.path.join(os.path.join(CELL_FEATURES_CLF_ROOTDIR, 'setting_%d' % classifier_id))"
   ]
  },
  {
   "cell_type": "code",
   "execution_count": 11,
   "metadata": {
    "scrolled": true
   },
   "outputs": [
    {
     "name": "stdout",
     "output_type": "stream",
     "text": [
      "Tz\n",
      "      Iter       Train Loss   Remaining Time \n",
      "         1           1.2623            0.29s\n",
      "         2           1.1865            0.29s\n",
      "         3           1.1251            0.30s\n",
      "         4           1.0782            0.30s\n",
      "         5           1.0361            0.30s\n",
      "         6           1.0137            0.29s\n",
      "         7           0.9883            0.29s\n",
      "         8           0.9596            0.29s\n",
      "         9           0.9441            0.28s\n",
      "        10           0.9240            0.28s\n",
      "        20           0.8004            0.23s\n",
      "        30           0.7053            0.20s\n",
      "        40           0.6201            0.17s\n",
      "        50           0.5720            0.14s\n",
      "        60           0.5184            0.11s\n",
      "        70           0.4747            0.08s\n",
      "        80           0.4357            0.05s\n",
      "        90           0.3962            0.03s\n",
      "       100           0.3644            0.00s\n",
      "aws s3 cp /shared/CSHL_cells_v2/classifiers/setting_95/classifiers/Tz_clf_setting_95.dump s3://mousebrainatlas-data/CSHL_cells_v2/classifiers/setting_95/classifiers/Tz_clf_setting_95.dump\n"
     ]
    },
    {
     "name": "stderr",
     "output_type": "stream",
     "text": [
      "Fitting classifier: 0.27 seconds\n",
      "Child returned 0\n",
      "0.42 seconds.\n"
     ]
    },
    {
     "name": "stdout",
     "output_type": "stream",
     "text": [
      "Sp5O\n",
      "      Iter       Train Loss   Remaining Time \n",
      "         1           1.2166            0.32s\n",
      "         2           1.1788            0.33s\n",
      "         3           1.1462            0.34s\n",
      "         4           1.1141            0.34s\n",
      "         5           1.0894            0.34s\n",
      "         6           1.0648            0.33s\n",
      "         7           1.0460            0.32s\n",
      "         8           1.0260            0.32s\n",
      "         9           1.0058            0.32s\n",
      "        10           0.9944            0.31s\n",
      "        20           0.8947            0.25s\n",
      "        30           0.8033            0.21s\n",
      "        40           0.7296            0.18s\n",
      "        50           0.6713            0.15s\n",
      "        60           0.6192            0.12s\n",
      "        70           0.5610            0.09s\n",
      "        80           0.5160            0.06s\n",
      "        90           0.4875            0.03s\n",
      "       100           0.4591            0.00s\n",
      "aws s3 cp /shared/CSHL_cells_v2/classifiers/setting_95/classifiers/Sp5O_clf_setting_95.dump s3://mousebrainatlas-data/CSHL_cells_v2/classifiers/setting_95/classifiers/Sp5O_clf_setting_95.dump\n"
     ]
    },
    {
     "name": "stderr",
     "output_type": "stream",
     "text": [
      "Fitting classifier: 0.29 seconds\n",
      "Child returned 0\n",
      "0.42 seconds.\n",
      "Fitting classifier: 0.13 seconds\n"
     ]
    },
    {
     "name": "stdout",
     "output_type": "stream",
     "text": [
      "7n\n",
      "      Iter       Train Loss   Remaining Time \n",
      "         1           0.7865            0.17s\n",
      "         2           0.7111            0.17s\n",
      "         3           0.6639            0.17s\n",
      "         4           0.6296            0.16s\n",
      "         5           0.6034            0.16s\n",
      "         6           0.5828            0.16s\n",
      "         7           0.5648            0.16s\n",
      "         8           0.5532            0.15s\n",
      "         9           0.5441            0.15s\n",
      "        10           0.5234            0.15s\n",
      "        20           0.4598            0.12s\n",
      "        30           0.4231            0.10s\n",
      "        40           0.3946            0.08s\n",
      "        50           0.3696            0.07s\n",
      "        60           0.3553            0.05s\n",
      "        70           0.3418            0.04s\n",
      "        80           0.3306            0.03s\n",
      "        90           0.3191            0.01s\n",
      "       100           0.3085            0.00s\n",
      "aws s3 cp /shared/CSHL_cells_v2/classifiers/setting_95/classifiers/7n_clf_setting_95.dump s3://mousebrainatlas-data/CSHL_cells_v2/classifiers/setting_95/classifiers/7n_clf_setting_95.dump\n"
     ]
    },
    {
     "name": "stderr",
     "output_type": "stream",
     "text": [
      "Child returned 0\n",
      "0.42 seconds.\n"
     ]
    },
    {
     "name": "stdout",
     "output_type": "stream",
     "text": [
      "DC\n",
      "      Iter       Train Loss   Remaining Time \n",
      "         1           1.1298            0.53s\n",
      "         2           1.0887            0.51s\n",
      "         3           1.0601            0.49s\n",
      "         4           1.0391            0.48s\n",
      "         5           1.0223            0.46s\n",
      "         6           1.0024            0.46s\n",
      "         7           0.9855            0.45s\n",
      "         8           0.9696            0.44s\n",
      "         9           0.9562            0.44s\n",
      "        10           0.9416            0.43s\n",
      "        20           0.8467            0.36s\n",
      "        30           0.7510            0.32s\n",
      "        40           0.6841            0.27s\n",
      "        50           0.6249            0.22s\n",
      "        60           0.5801            0.17s\n",
      "        70           0.5287            0.13s\n",
      "        80           0.4861            0.09s\n",
      "        90           0.4401            0.04s\n",
      "       100           0.4101            0.00s\n",
      "aws s3 cp /shared/CSHL_cells_v2/classifiers/setting_95/classifiers/DC_clf_setting_95.dump s3://mousebrainatlas-data/CSHL_cells_v2/classifiers/setting_95/classifiers/DC_clf_setting_95.dump\n"
     ]
    },
    {
     "name": "stderr",
     "output_type": "stream",
     "text": [
      "Fitting classifier: 0.44 seconds\n",
      "Child returned 0\n",
      "0.42 seconds.\n"
     ]
    },
    {
     "name": "stdout",
     "output_type": "stream",
     "text": [
      "5N\n",
      "      Iter       Train Loss   Remaining Time \n",
      "         1           1.3088            0.32s\n",
      "         2           1.2557            0.31s\n",
      "         3           1.2160            0.30s\n",
      "         4           1.1779            0.30s\n",
      "         5           1.1516            0.29s\n",
      "         6           1.1283            0.28s\n",
      "         7           1.1092            0.27s\n",
      "         8           1.0982            0.26s\n",
      "         9           1.0823            0.26s\n",
      "        10           1.0604            0.26s\n",
      "        20           0.9648            0.20s\n",
      "        30           0.8823            0.17s\n",
      "        40           0.8080            0.14s\n",
      "        50           0.7447            0.12s\n",
      "        60           0.6979            0.09s\n",
      "        70           0.6545            0.07s\n",
      "        80           0.6162            0.04s\n",
      "        90           0.5739            0.02s\n",
      "       100           0.5348            0.00s\n",
      "aws s3 cp /shared/CSHL_cells_v2/classifiers/setting_95/classifiers/5N_clf_setting_95.dump s3://mousebrainatlas-data/CSHL_cells_v2/classifiers/setting_95/classifiers/5N_clf_setting_95.dump\n"
     ]
    },
    {
     "name": "stderr",
     "output_type": "stream",
     "text": [
      "Fitting classifier: 0.23 seconds\n",
      "Child returned 0\n",
      "0.42 seconds.\n"
     ]
    },
    {
     "name": "stdout",
     "output_type": "stream",
     "text": [
      "RtTg\n",
      "      Iter       Train Loss   Remaining Time \n",
      "         1           1.2463            0.38s\n",
      "         2           1.2255            0.37s\n",
      "         3           1.2147            0.35s\n",
      "         4           1.1955            0.35s\n",
      "         5           1.1756            0.35s\n",
      "         6           1.1627            0.35s\n",
      "         7           1.1387            0.36s\n",
      "         8           1.1273            0.35s\n",
      "         9           1.1209            0.33s\n",
      "        10           1.1074            0.33s\n",
      "        20           0.9995            0.29s\n",
      "        30           0.8988            0.26s\n",
      "        40           0.8215            0.22s\n",
      "        50           0.7720            0.18s\n",
      "        60           0.7058            0.14s\n",
      "        70           0.6548            0.11s\n",
      "        80           0.6044            0.07s\n",
      "        90           0.5652            0.04s\n",
      "       100           0.5254            0.00s\n",
      "aws s3 cp /shared/CSHL_cells_v2/classifiers/setting_95/classifiers/RtTg_clf_setting_95.dump s3://mousebrainatlas-data/CSHL_cells_v2/classifiers/setting_95/classifiers/RtTg_clf_setting_95.dump\n"
     ]
    },
    {
     "name": "stderr",
     "output_type": "stream",
     "text": [
      "Fitting classifier: 0.35 seconds\n",
      "Child returned 0\n",
      "0.43 seconds.\n"
     ]
    },
    {
     "name": "stdout",
     "output_type": "stream",
     "text": [
      "Pn\n",
      "      Iter       Train Loss   Remaining Time \n",
      "         1           1.1704            0.38s\n",
      "         2           1.0906            0.39s\n",
      "         3           1.0312            0.40s\n",
      "         4           0.9844            0.41s\n",
      "         5           0.9484            0.40s\n",
      "         6           0.9209            0.39s\n",
      "         7           0.8985            0.39s\n",
      "         8           0.8786            0.38s\n",
      "         9           0.8617            0.38s\n",
      "        10           0.8433            0.37s\n",
      "        20           0.7265            0.31s\n",
      "        30           0.6395            0.27s\n",
      "        40           0.5629            0.23s\n",
      "        50           0.5040            0.19s\n",
      "        60           0.4523            0.15s\n",
      "        70           0.4019            0.11s\n",
      "        80           0.3671            0.07s\n",
      "        90           0.3340            0.04s\n",
      "       100           0.3081            0.00s\n",
      "aws s3 cp /shared/CSHL_cells_v2/classifiers/setting_95/classifiers/Pn_clf_setting_95.dump s3://mousebrainatlas-data/CSHL_cells_v2/classifiers/setting_95/classifiers/Pn_clf_setting_95.dump\n"
     ]
    },
    {
     "name": "stderr",
     "output_type": "stream",
     "text": [
      "Fitting classifier: 0.36 seconds\n",
      "Child returned 0\n",
      "0.42 seconds.\n",
      "Fitting classifier: 0.09 seconds\n"
     ]
    },
    {
     "name": "stdout",
     "output_type": "stream",
     "text": [
      "10N\n",
      "      Iter       Train Loss   Remaining Time \n",
      "         1           0.3448            0.10s\n",
      "         2          48.3227            0.10s\n",
      "         3          48.3224            0.10s\n",
      "         4          48.3221            0.09s\n",
      "         5          48.3219            0.09s\n",
      "         6          48.3218            0.09s\n",
      "         7          48.3217            0.09s\n",
      "         8          48.3216            0.09s\n",
      "         9          48.3216            0.09s\n",
      "        10          48.3216            0.09s\n",
      "        20          48.3215            0.07s\n",
      "        30          48.3214            0.06s\n",
      "        40          48.3214            0.05s\n",
      "        50          48.3214            0.04s\n",
      "        60          48.3214            0.03s\n",
      "        70          48.3214            0.03s\n",
      "        80          48.3214            0.02s\n",
      "        90          48.3214            0.01s\n",
      "       100          48.3214            0.00s\n",
      "aws s3 cp /shared/CSHL_cells_v2/classifiers/setting_95/classifiers/10N_clf_setting_95.dump s3://mousebrainatlas-data/CSHL_cells_v2/classifiers/setting_95/classifiers/10N_clf_setting_95.dump\n"
     ]
    },
    {
     "name": "stderr",
     "output_type": "stream",
     "text": [
      "Child returned 0\n",
      "0.37 seconds.\n"
     ]
    },
    {
     "name": "stdout",
     "output_type": "stream",
     "text": [
      "LC\n",
      "      Iter       Train Loss   Remaining Time \n",
      "         1           1.2787            0.23s\n",
      "         2           1.2110            0.23s\n",
      "         3           1.1524            0.23s\n",
      "         4           1.1122            0.22s\n",
      "         5           1.0866            0.21s\n",
      "         6           1.0584            0.21s\n",
      "         7           1.0411            0.20s\n",
      "         8           1.0088            0.20s\n",
      "         9           0.9881            0.20s\n",
      "        10           0.9612            0.20s\n",
      "        20           0.7859            0.17s\n",
      "        30           0.6575            0.14s\n",
      "        40           0.5351            0.13s\n",
      "        50           0.4714            0.10s\n",
      "        60           0.4112            0.08s\n",
      "        70           0.3455            0.06s\n",
      "        80           0.2932            0.04s\n",
      "        90           0.2592            0.02s\n",
      "       100           0.2279            0.00s\n",
      "aws s3 cp /shared/CSHL_cells_v2/classifiers/setting_95/classifiers/LC_clf_setting_95.dump s3://mousebrainatlas-data/CSHL_cells_v2/classifiers/setting_95/classifiers/LC_clf_setting_95.dump\n"
     ]
    },
    {
     "name": "stderr",
     "output_type": "stream",
     "text": [
      "Fitting classifier: 0.21 seconds\n",
      "Child returned 0\n",
      "0.42 seconds.\n"
     ]
    },
    {
     "name": "stdout",
     "output_type": "stream",
     "text": [
      "7N\n",
      "      Iter       Train Loss   Remaining Time \n",
      "         1           1.3005            0.27s\n",
      "         2           1.2416            0.28s\n",
      "         3           1.2048            0.27s\n",
      "         4           1.1698            0.27s\n",
      "         5           1.1486            0.26s\n",
      "         6           1.1374            0.25s\n",
      "         7           1.1160            0.24s\n",
      "         8           1.0993            0.24s\n",
      "         9           1.0845            0.24s\n",
      "        10           1.0636            0.24s\n",
      "        20           0.9831            0.19s\n",
      "        30           0.9030            0.16s\n",
      "        40           0.8304            0.13s\n",
      "        50           0.7616            0.11s\n",
      "        60           0.7170            0.09s\n",
      "        70           0.6660            0.07s\n",
      "        80           0.6228            0.04s\n",
      "        90           0.5945            0.02s\n",
      "       100           0.5665            0.00s\n",
      "aws s3 cp /shared/CSHL_cells_v2/classifiers/setting_95/classifiers/7N_clf_setting_95.dump s3://mousebrainatlas-data/CSHL_cells_v2/classifiers/setting_95/classifiers/7N_clf_setting_95.dump\n"
     ]
    },
    {
     "name": "stderr",
     "output_type": "stream",
     "text": [
      "Fitting classifier: 0.22 seconds\n",
      "Child returned 0\n",
      "0.42 seconds.\n",
      "Fitting classifier: 0.10 seconds\n"
     ]
    },
    {
     "name": "stdout",
     "output_type": "stream",
     "text": [
      "Amb\n",
      "      Iter       Train Loss   Remaining Time \n",
      "         1           1.0716            0.13s\n",
      "         2           0.9848            0.12s\n",
      "         3           0.9008            0.12s\n",
      "         4           0.8434            0.12s\n",
      "         5           0.7903            0.12s\n",
      "         6           0.7434            0.12s\n",
      "         7           0.7131            0.12s\n",
      "         8           0.6760            0.11s\n",
      "         9           0.6570            0.11s\n",
      "        10           0.6455            0.11s\n",
      "        20           0.4834            0.08s\n",
      "        30           0.3605            0.07s\n",
      "        40           0.2562            0.06s\n",
      "        50           0.1852            0.05s\n",
      "        60           0.1378            0.04s\n",
      "        70           0.1074            0.03s\n",
      "        80           0.0780            0.02s\n",
      "        90           0.0605            0.01s\n",
      "       100           0.0475            0.00s\n",
      "aws s3 cp /shared/CSHL_cells_v2/classifiers/setting_95/classifiers/Amb_clf_setting_95.dump s3://mousebrainatlas-data/CSHL_cells_v2/classifiers/setting_95/classifiers/Amb_clf_setting_95.dump\n"
     ]
    },
    {
     "name": "stderr",
     "output_type": "stream",
     "text": [
      "Child returned 0\n",
      "0.42 seconds.\n"
     ]
    },
    {
     "name": "stdout",
     "output_type": "stream",
     "text": [
      "12N\n",
      "      Iter       Train Loss   Remaining Time \n",
      "         1           1.2498            0.31s\n",
      "         2           1.1677            0.30s\n",
      "         3           1.1103            0.30s\n",
      "         4           1.0723            0.29s\n",
      "         5           1.0444            0.28s\n",
      "         6           1.0120            0.28s\n",
      "         7           0.9869            0.28s\n",
      "         8           0.9606            0.28s\n",
      "         9           0.9343            0.27s\n",
      "        10           0.9198            0.27s\n",
      "        20           0.8179            0.21s\n",
      "        30           0.7355            0.18s\n",
      "        40           0.6749            0.15s\n",
      "        50           0.6202            0.12s\n",
      "        60           0.5787            0.10s\n",
      "        70           0.5304            0.07s\n",
      "        80           0.4928            0.05s\n",
      "        90           0.4636            0.02s\n",
      "       100           0.4245            0.00s\n",
      "aws s3 cp /shared/CSHL_cells_v2/classifiers/setting_95/classifiers/12N_clf_setting_95.dump s3://mousebrainatlas-data/CSHL_cells_v2/classifiers/setting_95/classifiers/12N_clf_setting_95.dump\n"
     ]
    },
    {
     "name": "stderr",
     "output_type": "stream",
     "text": [
      "Fitting classifier: 0.24 seconds\n",
      "Child returned 0\n",
      "0.42 seconds.\n"
     ]
    },
    {
     "name": "stdout",
     "output_type": "stream",
     "text": [
      "RMC\n",
      "      Iter       Train Loss   Remaining Time \n",
      "         1           1.3116            0.26s\n",
      "         2           1.2608            0.28s\n",
      "         3           1.2279            0.28s\n",
      "         4           1.1987            0.27s\n",
      "         5           1.1749            0.27s\n",
      "         6           1.1443            0.27s\n",
      "         7           1.1344            0.26s\n",
      "         8           1.1176            0.25s\n",
      "         9           1.0989            0.25s\n",
      "        10           1.0911            0.24s\n",
      "        20           0.9841            0.19s\n",
      "        30           0.8843            0.17s\n",
      "        40           0.8401            0.14s\n",
      "        50           0.7914            0.11s\n",
      "        60           0.7302            0.09s\n",
      "        70           0.6788            0.07s\n",
      "        80           0.6301            0.04s\n",
      "        90           0.5874            0.02s\n",
      "       100           0.5691            0.00s\n",
      "aws s3 cp /shared/CSHL_cells_v2/classifiers/setting_95/classifiers/RMC_clf_setting_95.dump s3://mousebrainatlas-data/CSHL_cells_v2/classifiers/setting_95/classifiers/RMC_clf_setting_95.dump\n"
     ]
    },
    {
     "name": "stderr",
     "output_type": "stream",
     "text": [
      "Fitting classifier: 0.22 seconds\n",
      "Child returned 0\n",
      "0.42 seconds.\n"
     ]
    },
    {
     "name": "stdout",
     "output_type": "stream",
     "text": [
      "VCA\n",
      "      Iter       Train Loss   Remaining Time \n",
      "         1           1.1038            0.52s\n",
      "         2           1.0576            0.54s\n",
      "         3           1.0265            0.52s\n",
      "         4           0.9990            0.52s\n",
      "         5           0.9810            0.51s\n",
      "         6           0.9623            0.50s\n",
      "         7           0.9384            0.50s\n",
      "         8           0.9246            0.49s\n",
      "         9           0.9141            0.48s\n",
      "        10           0.9014            0.47s\n",
      "        20           0.7899            0.40s\n",
      "        30           0.7222            0.33s\n",
      "        40           0.6546            0.28s\n",
      "        50           0.6007            0.23s\n",
      "        60           0.5394            0.19s\n",
      "        70           0.5001            0.14s\n",
      "        80           0.4579            0.09s\n",
      "        90           0.4218            0.05s\n",
      "       100           0.3863            0.00s\n",
      "aws s3 cp /shared/CSHL_cells_v2/classifiers/setting_95/classifiers/VCA_clf_setting_95.dump s3://mousebrainatlas-data/CSHL_cells_v2/classifiers/setting_95/classifiers/VCA_clf_setting_95.dump\n"
     ]
    },
    {
     "name": "stderr",
     "output_type": "stream",
     "text": [
      "Fitting classifier: 0.46 seconds\n",
      "Child returned 0\n",
      "0.42 seconds.\n"
     ]
    },
    {
     "name": "stdout",
     "output_type": "stream",
     "text": [
      "Sp5I\n",
      "      Iter       Train Loss   Remaining Time \n",
      "         1           1.1897            0.39s\n",
      "         2           1.1482            0.41s\n",
      "         3           1.1161            0.40s\n",
      "         4           1.0904            0.40s\n",
      "         5           1.0706            0.39s\n",
      "         6           1.0514            0.38s\n",
      "         7           1.0325            0.38s\n",
      "         8           1.0148            0.38s\n",
      "         9           0.9984            0.38s\n",
      "        10           0.9789            0.38s\n",
      "        20           0.8663            0.32s\n",
      "        30           0.7919            0.27s\n",
      "        40           0.6924            0.24s\n",
      "        50           0.6353            0.19s\n",
      "        60           0.5757            0.16s\n",
      "        70           0.5193            0.12s\n",
      "        80           0.4752            0.08s\n",
      "        90           0.4345            0.04s\n",
      "       100           0.4069            0.00s\n",
      "aws s3 cp /shared/CSHL_cells_v2/classifiers/setting_95/classifiers/Sp5I_clf_setting_95.dump s3://mousebrainatlas-data/CSHL_cells_v2/classifiers/setting_95/classifiers/Sp5I_clf_setting_95.dump\n"
     ]
    },
    {
     "name": "stderr",
     "output_type": "stream",
     "text": [
      "Fitting classifier: 0.39 seconds\n",
      "Child returned 0\n",
      "0.42 seconds.\n"
     ]
    },
    {
     "name": "stdout",
     "output_type": "stream",
     "text": [
      "Sp5C\n",
      "      Iter       Train Loss   Remaining Time \n",
      "         1           1.2757            0.40s\n",
      "         2           1.2189            0.41s\n",
      "         3           1.1834            0.39s\n",
      "         4           1.1466            0.38s\n",
      "         5           1.1214            0.36s\n",
      "         6           1.0952            0.36s\n",
      "         7           1.0775            0.35s\n",
      "         8           1.0632            0.34s\n",
      "         9           1.0453            0.34s\n",
      "        10           1.0221            0.34s\n",
      "        20           0.8914            0.28s\n",
      "        30           0.7987            0.24s\n",
      "        40           0.6996            0.20s\n",
      "        50           0.6374            0.17s\n",
      "        60           0.5742            0.13s\n",
      "        70           0.5234            0.10s\n",
      "        80           0.4807            0.07s\n",
      "        90           0.4387            0.03s\n",
      "       100           0.4019            0.00s\n",
      "aws s3 cp /shared/CSHL_cells_v2/classifiers/setting_95/classifiers/Sp5C_clf_setting_95.dump s3://mousebrainatlas-data/CSHL_cells_v2/classifiers/setting_95/classifiers/Sp5C_clf_setting_95.dump\n"
     ]
    },
    {
     "name": "stderr",
     "output_type": "stream",
     "text": [
      "Fitting classifier: 0.33 seconds\n",
      "Child returned 0\n",
      "0.47 seconds.\n",
      "Fitting classifier: 0.08 seconds\n"
     ]
    },
    {
     "name": "stdout",
     "output_type": "stream",
     "text": [
      "4N\n",
      "      Iter       Train Loss   Remaining Time \n",
      "         1           0.3304            0.10s\n",
      "         2           0.2803            0.11s\n",
      "         3           0.2469            0.10s\n",
      "         4           0.2119            0.10s\n",
      "         5           0.1806            0.10s\n",
      "         6           0.1670            0.10s\n",
      "         7           0.1504            0.10s\n",
      "         8           0.1331            0.10s\n",
      "         9           0.1287            0.09s\n",
      "        10           0.1227            0.09s\n",
      "        20           0.0582            0.07s\n",
      "        30           0.0296            0.06s\n",
      "        40           0.0168            0.05s\n",
      "        50           0.0082            0.04s\n",
      "        60           0.0041            0.03s\n",
      "        70           0.0020            0.03s\n",
      "        80           0.0010            0.02s\n",
      "        90           0.0006            0.01s\n",
      "       100           0.0003            0.00s\n",
      "aws s3 cp /shared/CSHL_cells_v2/classifiers/setting_95/classifiers/4N_clf_setting_95.dump s3://mousebrainatlas-data/CSHL_cells_v2/classifiers/setting_95/classifiers/4N_clf_setting_95.dump\n"
     ]
    },
    {
     "name": "stderr",
     "output_type": "stream",
     "text": [
      "Child returned 0\n",
      "0.42 seconds.\n",
      "Fitting classifier: 0.12 seconds\n"
     ]
    },
    {
     "name": "stdout",
     "output_type": "stream",
     "text": [
      "AP\n",
      "      Iter       Train Loss   Remaining Time \n",
      "         1           1.1492            0.17s\n",
      "         2           1.0684            0.16s\n",
      "         3           1.0079            0.16s\n",
      "         4           0.9689            0.16s\n",
      "         5           0.9157            0.15s\n",
      "         6           0.8773            0.15s\n",
      "         7           0.8513            0.15s\n",
      "         8           0.8238            0.15s\n",
      "         9           0.8069            0.14s\n",
      "        10           0.7764            0.14s\n",
      "        20           0.6349            0.11s\n",
      "        30           0.5186            0.09s\n",
      "        40           0.4474            0.08s\n",
      "        50           0.3850            0.06s\n",
      "        60           0.3459            0.05s\n",
      "        70           0.3123            0.04s\n",
      "        80           0.2852            0.02s\n",
      "        90           0.2662            0.01s\n",
      "       100           0.2512            0.00s\n",
      "aws s3 cp /shared/CSHL_cells_v2/classifiers/setting_95/classifiers/AP_clf_setting_95.dump s3://mousebrainatlas-data/CSHL_cells_v2/classifiers/setting_95/classifiers/AP_clf_setting_95.dump\n"
     ]
    },
    {
     "name": "stderr",
     "output_type": "stream",
     "text": [
      "Child returned 0\n",
      "0.42 seconds.\n",
      "Fitting classifier: 0.19 seconds\n"
     ]
    },
    {
     "name": "stdout",
     "output_type": "stream",
     "text": [
      "PBG\n",
      "      Iter       Train Loss   Remaining Time \n",
      "         1           1.2142            0.23s\n",
      "         2           1.1388            0.22s\n",
      "         3           1.0740            0.22s\n",
      "         4           1.0258            0.21s\n",
      "         5           0.9872            0.21s\n",
      "         6           0.9494            0.21s\n",
      "         7           0.9143            0.21s\n",
      "         8           0.8942            0.20s\n",
      "         9           0.8722            0.19s\n",
      "        10           0.8451            0.19s\n",
      "        20           0.6655            0.16s\n",
      "        30           0.5525            0.14s\n",
      "        40           0.4529            0.12s\n",
      "        50           0.3765            0.10s\n",
      "        60           0.3296            0.08s\n",
      "        70           0.2831            0.06s\n",
      "        80           0.2461            0.04s\n",
      "        90           0.2181            0.02s\n",
      "       100           0.1889            0.00s\n",
      "aws s3 cp /shared/CSHL_cells_v2/classifiers/setting_95/classifiers/PBG_clf_setting_95.dump s3://mousebrainatlas-data/CSHL_cells_v2/classifiers/setting_95/classifiers/PBG_clf_setting_95.dump\n"
     ]
    },
    {
     "name": "stderr",
     "output_type": "stream",
     "text": [
      "Child returned 0\n",
      "0.42 seconds.\n"
     ]
    },
    {
     "name": "stdout",
     "output_type": "stream",
     "text": [
      "LRt\n",
      "      Iter       Train Loss   Remaining Time \n",
      "         1           1.3263            0.28s\n",
      "         2           1.2844            0.29s\n",
      "         3           1.2564            0.28s\n",
      "         4           1.2370            0.27s\n",
      "         5           1.2122            0.27s\n",
      "         6           1.1828            0.28s\n",
      "         7           1.1593            0.27s\n",
      "         8           1.1435            0.27s\n",
      "         9           1.1340            0.26s\n",
      "        10           1.1173            0.25s\n",
      "        20           0.9643            0.22s\n",
      "        30           0.8574            0.19s\n",
      "        40           0.7732            0.16s\n",
      "        50           0.6959            0.13s\n",
      "        60           0.6429            0.10s\n",
      "        70           0.5920            0.07s\n",
      "        80           0.5538            0.05s\n",
      "        90           0.4959            0.02s\n",
      "       100           0.4535            0.00s\n",
      "aws s3 cp /shared/CSHL_cells_v2/classifiers/setting_95/classifiers/LRt_clf_setting_95.dump s3://mousebrainatlas-data/CSHL_cells_v2/classifiers/setting_95/classifiers/LRt_clf_setting_95.dump\n"
     ]
    },
    {
     "name": "stderr",
     "output_type": "stream",
     "text": [
      "Fitting classifier: 0.25 seconds\n",
      "Child returned 0\n",
      "0.42 seconds.\n"
     ]
    },
    {
     "name": "stdout",
     "output_type": "stream",
     "text": [
      "IC\n",
      "      Iter       Train Loss   Remaining Time \n",
      "         1           1.2594            0.35s\n",
      "         2           1.2258            0.34s\n",
      "         3           1.1944            0.35s\n",
      "         4           1.1584            0.37s\n",
      "         5           1.1387            0.37s\n",
      "         6           1.1138            0.37s\n",
      "         7           1.0929            0.37s\n",
      "         8           1.0757            0.37s\n",
      "         9           1.0611            0.36s\n",
      "        10           1.0456            0.35s\n",
      "        20           0.9244            0.30s\n",
      "        30           0.8324            0.26s\n",
      "        40           0.7488            0.22s\n",
      "        50           0.6915            0.18s\n",
      "        60           0.6264            0.14s\n",
      "        70           0.5749            0.11s\n",
      "        80           0.5333            0.07s\n",
      "        90           0.4878            0.04s\n",
      "       100           0.4541            0.00s\n",
      "aws s3 cp /shared/CSHL_cells_v2/classifiers/setting_95/classifiers/IC_clf_setting_95.dump s3://mousebrainatlas-data/CSHL_cells_v2/classifiers/setting_95/classifiers/IC_clf_setting_95.dump\n"
     ]
    },
    {
     "name": "stderr",
     "output_type": "stream",
     "text": [
      "Fitting classifier: 0.36 seconds\n",
      "Child returned 0\n",
      "0.43 seconds.\n"
     ]
    },
    {
     "name": "stdout",
     "output_type": "stream",
     "text": [
      "VLL\n",
      "      Iter       Train Loss   Remaining Time \n",
      "         1           1.2396            0.25s\n",
      "         2           1.1591            0.24s\n",
      "         3           1.0890            0.25s\n",
      "         4           1.0529            0.24s\n",
      "         5           1.0218            0.24s\n",
      "         6           0.9904            0.24s\n",
      "         7           0.9540            0.24s\n",
      "         8           0.9290            0.24s\n",
      "         9           0.9192            0.23s\n",
      "        10           0.8853            0.23s\n",
      "        20           0.7124            0.20s\n",
      "        30           0.6118            0.17s\n",
      "        40           0.5244            0.15s\n",
      "        50           0.4569            0.12s\n",
      "        60           0.4065            0.10s\n",
      "        70           0.3537            0.07s\n",
      "        80           0.3154            0.05s\n",
      "        90           0.2839            0.02s\n",
      "       100           0.2535            0.00s\n",
      "aws s3 cp /shared/CSHL_cells_v2/classifiers/setting_95/classifiers/VLL_clf_setting_95.dump s3://mousebrainatlas-data/CSHL_cells_v2/classifiers/setting_95/classifiers/VLL_clf_setting_95.dump\n"
     ]
    },
    {
     "name": "stderr",
     "output_type": "stream",
     "text": [
      "Fitting classifier: 0.24 seconds\n",
      "Child returned 0\n",
      "0.44 seconds.\n"
     ]
    },
    {
     "name": "stdout",
     "output_type": "stream",
     "text": [
      "VCP\n",
      "      Iter       Train Loss   Remaining Time \n",
      "         1           1.1072            0.49s\n",
      "         2           1.0590            0.52s\n",
      "         3           1.0348            0.50s\n",
      "         4           1.0046            0.51s\n",
      "         5           0.9843            0.51s\n",
      "         6           0.9670            0.49s\n",
      "         7           0.9595            0.47s\n",
      "         8           0.9474            0.46s\n",
      "         9           0.9401            0.44s\n",
      "        10           0.9271            0.44s\n",
      "        20           0.8239            0.38s\n",
      "        30           0.7384            0.33s\n",
      "        40           0.6725            0.28s\n",
      "        50           0.6181            0.23s\n",
      "        60           0.5760            0.18s\n",
      "        70           0.5364            0.13s\n",
      "        80           0.5028            0.09s\n",
      "        90           0.4660            0.04s\n",
      "       100           0.4288            0.00s\n",
      "aws s3 cp /shared/CSHL_cells_v2/classifiers/setting_95/classifiers/VCP_clf_setting_95.dump s3://mousebrainatlas-data/CSHL_cells_v2/classifiers/setting_95/classifiers/VCP_clf_setting_95.dump\n"
     ]
    },
    {
     "name": "stderr",
     "output_type": "stream",
     "text": [
      "Fitting classifier: 0.45 seconds\n",
      "Child returned 0\n",
      "0.45 seconds.\n"
     ]
    },
    {
     "name": "stdout",
     "output_type": "stream",
     "text": [
      "SNC\n",
      "      Iter       Train Loss   Remaining Time \n",
      "         1           0.6754            0.31s\n",
      "         2           0.6318            0.31s\n",
      "         3           0.5720            0.32s\n",
      "         4           0.5429            0.31s\n",
      "         5           0.5210            0.31s\n",
      "         6           0.4934            0.31s\n",
      "         7           0.4663            0.31s\n",
      "         8           0.4420            0.30s\n",
      "         9           0.4266            0.30s\n",
      "        10           0.4092            0.30s\n",
      "        20           0.3107            0.25s\n",
      "        30           0.2368            0.21s\n",
      "        40           0.1878            0.18s\n",
      "        50           0.1486            0.15s\n",
      "        60           0.1159            0.12s\n",
      "        70           0.0956            0.09s\n",
      "        80           0.0756            0.06s\n",
      "        90           0.0613            0.03s\n",
      "       100           0.0501            0.00s\n",
      "aws s3 cp /shared/CSHL_cells_v2/classifiers/setting_95/classifiers/SNC_clf_setting_95.dump s3://mousebrainatlas-data/CSHL_cells_v2/classifiers/setting_95/classifiers/SNC_clf_setting_95.dump\n"
     ]
    },
    {
     "name": "stderr",
     "output_type": "stream",
     "text": [
      "Fitting classifier: 0.29 seconds\n",
      "Child returned 0\n",
      "0.42 seconds.\n",
      "Fitting classifier: 0.14 seconds\n"
     ]
    },
    {
     "name": "stdout",
     "output_type": "stream",
     "text": [
      "6N\n",
      "      Iter       Train Loss   Remaining Time \n",
      "         1           0.4716            0.13s\n",
      "         2           0.4180            0.14s\n",
      "         3           0.3562            0.15s\n",
      "         4           0.3204            0.15s\n",
      "         5           0.2959            0.15s\n",
      "         6           0.2826            0.15s\n",
      "         7           0.2624            0.14s\n",
      "         8           0.2461            0.14s\n",
      "         9           0.2281            0.14s\n",
      "        10           0.2146            0.14s\n",
      "        20           0.1090            0.11s\n",
      "        30           0.0595            0.10s\n",
      "        40           0.0335            0.08s\n",
      "        50           0.0196            0.07s\n",
      "        60           0.0111            0.06s\n",
      "        70           0.0061            0.04s\n",
      "        80           0.0039            0.03s\n",
      "        90           0.0021            0.01s\n",
      "       100           0.0012            0.00s\n",
      "aws s3 cp /shared/CSHL_cells_v2/classifiers/setting_95/classifiers/6N_clf_setting_95.dump s3://mousebrainatlas-data/CSHL_cells_v2/classifiers/setting_95/classifiers/6N_clf_setting_95.dump\n"
     ]
    },
    {
     "name": "stderr",
     "output_type": "stream",
     "text": [
      "Child returned 0\n",
      "0.42 seconds.\n"
     ]
    },
    {
     "name": "stdout",
     "output_type": "stream",
     "text": [
      "SNR\n",
      "      Iter       Train Loss   Remaining Time \n",
      "         1           1.3074            0.30s\n",
      "         2           1.2620            0.29s\n",
      "         3           1.2311            0.28s\n",
      "         4           1.2031            0.28s\n",
      "         5           1.1845            0.27s\n",
      "         6           1.1639            0.26s\n",
      "         7           1.1483            0.26s\n",
      "         8           1.1363            0.25s\n",
      "         9           1.1193            0.25s\n",
      "        10           1.1107            0.24s\n",
      "        20           1.0124            0.20s\n",
      "        30           0.8921            0.18s\n",
      "        40           0.8250            0.15s\n",
      "        50           0.7596            0.12s\n",
      "        60           0.6968            0.10s\n",
      "        70           0.6549            0.07s\n",
      "        80           0.6251            0.05s\n",
      "        90           0.5872            0.02s\n",
      "       100           0.5627            0.00s\n",
      "aws s3 cp /shared/CSHL_cells_v2/classifiers/setting_95/classifiers/SNR_clf_setting_95.dump s3://mousebrainatlas-data/CSHL_cells_v2/classifiers/setting_95/classifiers/SNR_clf_setting_95.dump\n"
     ]
    },
    {
     "name": "stderr",
     "output_type": "stream",
     "text": [
      "Fitting classifier: 0.24 seconds\n",
      "Child returned 0\n",
      "0.42 seconds.\n"
     ]
    },
    {
     "name": "stdout",
     "output_type": "stream",
     "text": [
      "SC\n",
      "      Iter       Train Loss   Remaining Time \n",
      "         1           1.2146            0.48s\n",
      "         2           1.1764            0.47s\n",
      "         3           1.1467            0.46s\n",
      "         4           1.1251            0.44s\n",
      "         5           1.1037            0.44s\n",
      "         6           1.0894            0.42s\n",
      "         7           1.0696            0.41s\n",
      "         8           1.0565            0.40s\n",
      "         9           1.0420            0.39s\n",
      "        10           1.0357            0.38s\n",
      "        20           0.9085            0.33s\n",
      "        30           0.8120            0.28s\n",
      "        40           0.7269            0.24s\n",
      "        50           0.6757            0.19s\n",
      "        60           0.6178            0.15s\n",
      "        70           0.5579            0.11s\n",
      "        80           0.5159            0.08s\n",
      "        90           0.4827            0.04s\n",
      "       100           0.4432            0.00s\n",
      "aws s3 cp /shared/CSHL_cells_v2/classifiers/setting_95/classifiers/SC_clf_setting_95.dump s3://mousebrainatlas-data/CSHL_cells_v2/classifiers/setting_95/classifiers/SC_clf_setting_95.dump\n"
     ]
    },
    {
     "name": "stderr",
     "output_type": "stream",
     "text": [
      "Fitting classifier: 0.38 seconds\n",
      "Child returned 0\n",
      "0.37 seconds.\n",
      "Fitting classifier: 0.19 seconds\n"
     ]
    },
    {
     "name": "stdout",
     "output_type": "stream",
     "text": [
      "3N\n",
      "      Iter       Train Loss   Remaining Time \n",
      "         1           1.2768            0.24s\n",
      "         2           1.1983            0.24s\n",
      "         3           1.1379            0.24s\n",
      "         4           1.0988            0.23s\n",
      "         5           1.0564            0.23s\n",
      "         6           1.0274            0.22s\n",
      "         7           0.9993            0.22s\n",
      "         8           0.9792            0.21s\n",
      "         9           0.9561            0.21s\n",
      "        10           0.9342            0.20s\n",
      "        20           0.7762            0.16s\n",
      "        30           0.6653            0.14s\n",
      "        40           0.5670            0.12s\n",
      "        50           0.4927            0.10s\n",
      "        60           0.4287            0.08s\n",
      "        70           0.3714            0.06s\n",
      "        80           0.3371            0.04s\n",
      "        90           0.2998            0.02s\n",
      "       100           0.2647            0.00s\n",
      "aws s3 cp /shared/CSHL_cells_v2/classifiers/setting_95/classifiers/3N_clf_setting_95.dump s3://mousebrainatlas-data/CSHL_cells_v2/classifiers/setting_95/classifiers/3N_clf_setting_95.dump\n"
     ]
    },
    {
     "name": "stderr",
     "output_type": "stream",
     "text": [
      "Child returned 0\n",
      "0.47 seconds.\n"
     ]
    }
   ],
   "source": [
    "clf_dir = create_if_not_exists(os.path.join(setting_dir, 'classifiers'))\n",
    "\n",
    "for structure in structures_found:\n",
    "\n",
    "    print structure\n",
    "    \n",
    "    #############################\n",
    "    ## Define Positive Samples ##\n",
    "    #############################\n",
    "    \n",
    "    features_pos = training_features[structure]\n",
    "    n_pos = len(features_pos)\n",
    "    \n",
    "    #############################\n",
    "    ## Define Negative Samples ##\n",
    "    #############################\n",
    "    \n",
    "#     if setting in [1, 3, 4, 5, 6, 7]:\n",
    "    if neg_composition == 'neg_has_only_surround_noclass':\n",
    "        neg_classes = [convert_to_surround_name(structure, margin=margin, suffix='noclass')]\n",
    "#     elif setting in [2, 10, 23, 24, 25, 26]:\n",
    "    elif neg_composition == 'neg_has_all_surround':\n",
    "        neg_classes = [convert_to_surround_name(structure, margin=margin, suffix='noclass')]\n",
    "        for surr_s in structures_found:\n",
    "            c = convert_to_surround_name(structure, margin=margin, suffix=surr_s)\n",
    "            if c in labels_found:\n",
    "                neg_classes.append(c)\n",
    "#     elif setting in [8,9,11]:\n",
    "    elif neg_composition == 'neg_has_everything_else':\n",
    "        neg_classes = [structure + '_negative']\n",
    "    else:\n",
    "        raise Exception('neg_composition %s is not recognized.' % neg_composition)\n",
    "\n",
    "    features_neg = np.concatenate([training_features[neg_class] for neg_class in neg_classes])\n",
    "        \n",
    "    n_neg = len(features_neg)\n",
    "        \n",
    "    ###########################\n",
    "    ## Define Sample Weights ##\n",
    "    ###########################\n",
    "    \n",
    "#     if setting == 9:\n",
    "    if sample_weighting == 'weighted':\n",
    "        neg_distances = np.concatenate([distances_to_structures[neg_class][structure] for neg_class in neg_classes])\n",
    "            \n",
    "        sample_weights_neg = np.ones((n_neg,))\n",
    "        sample_weights_neg[neg_distances > thresh] = diminishing(neg_distances[neg_distances > thresh])\n",
    "        sample_weights = np.r_[np.ones((n_pos,)), sample_weights_neg]\n",
    "    else:\n",
    "        sample_weights = None\n",
    "    \n",
    "    ###########################################################################################\n",
    "\n",
    "    train_data = np.r_[features_pos, features_neg]\n",
    "    train_labels = np.r_[np.ones((features_pos.shape[0], )), \n",
    "                         -np.ones((features_neg.shape[0], ))]\n",
    "    \n",
    "#     n_train = len(train_labels0)\n",
    "#     ri = np.random.choice(range(n_train), size=100, replace=False)\n",
    "#     train_data = train_data0[ri]\n",
    "#     train_labels = train_labels0[ri]\n",
    "    \n",
    "    ##################\n",
    "    ## Define Model ##\n",
    "    ##################\n",
    "    \n",
    "#     if setting in [1, 2, 8, 9, 10, 11, 23, 24]:\n",
    "    if model == 'lr':\n",
    "        clf = LogisticRegression(penalty='l2', dual=False, tol=0.0001, C=1.0, \n",
    "                                 fit_intercept=True, intercept_scaling=1, class_weight=None, \n",
    "                                 random_state=None, solver='liblinear', max_iter=100, multi_class='ovr', \n",
    "                                 verbose=0, warm_start=False, n_jobs=1)\n",
    "            \n",
    "#     elif setting == 3:\n",
    "    elif model == 'lin_svc':\n",
    "        clf = SVC(C=1.0, kernel='linear', degree=3, gamma='auto', coef0=0.0, shrinking=True, \n",
    "                  probability=True, tol=0.001, cache_size=1000, max_iter=-1,\n",
    "              decision_function_shape=None, random_state=None)\n",
    "        \n",
    "\n",
    "#     elif setting == 4:\n",
    "    elif model == 'lin_svc_calib':\n",
    "        \n",
    "        sv_uncalibrated = LinearSVC(penalty='l2', loss='squared_hinge', dual=True, tol=0.0001, \n",
    "                                C=1.0, multi_class='ovr', \n",
    "                                fit_intercept=True, intercept_scaling=1, max_iter=100)\n",
    "        clf = CalibratedClassifierCV(sv_uncalibrated)\n",
    "        \n",
    "        \n",
    "#     elif setting in [5]:        \n",
    "    elif model == 'xgb1':\n",
    "        clf = XGBClassifier(max_depth=3, learning_rate=0.2, n_estimators=200, \n",
    "                            silent=False, objective='binary:logistic', nthread=-1, gamma=0, \n",
    "                            min_child_weight=20, max_delta_step=0, subsample=.8, \n",
    "                            colsample_bytree=.8, colsample_bylevel=1, reg_alpha=0, reg_lambda=1, \n",
    "                            scale_pos_weight=1, base_score=0.5, seed=0, missing=None)\n",
    "        \n",
    "#     elif setting in [6, 25]:\n",
    "    elif model == 'gb1':\n",
    "        clf = GradientBoostingClassifier(loss='deviance', learning_rate=0.3, n_estimators=200, \n",
    "                                         subsample=1., criterion='friedman_mse', \n",
    "                                         min_samples_split=50, min_samples_leaf=20, \n",
    "                                         min_weight_fraction_leaf=0.0, max_depth=3, \n",
    "                                         min_impurity_split=1e-07, init=None, random_state=None, \n",
    "                                         max_features=None, verbose=1, max_leaf_nodes=None, \n",
    "                                         warm_start=False, presort='auto')\n",
    "        \n",
    "#     elif setting in [7, 26]:     \n",
    "    elif model == 'gb2':\n",
    "        clf = GradientBoostingClassifier(loss='deviance', learning_rate=0.3, n_estimators=100, \n",
    "                                         subsample=1., criterion='friedman_mse', \n",
    "                                         min_samples_split=50, min_samples_leaf=20, \n",
    "                                         min_weight_fraction_leaf=0.0, max_depth=5, \n",
    "                                         min_impurity_split=1e-07, init=None, random_state=None, \n",
    "                                         max_features=None, verbose=1, max_leaf_nodes=None, \n",
    "                                         warm_start=False, presort='auto')\n",
    "        \n",
    "    \n",
    "    else:\n",
    "        sys.stderr.write('Setting is not recognized.\\n')\n",
    "\n",
    "    \n",
    "    t = time.time()    \n",
    "    clf.fit(train_data, train_labels, sample_weight=sample_weights)\n",
    "    sys.stderr.write('Fitting classifier: %.2f seconds\\n' % (time.time() - t))\n",
    "\n",
    "    clf_fp = os.path.join(clf_dir, '%(structure)s_clf_setting_%(setting)d.dump' % \\\n",
    "                                  dict(structure=structure, setting=classifier_id))\n",
    "    \n",
    "    joblib.dump(clf, clf_fp)\n",
    "    \n",
    "    upload_to_s3(clf_fp)"
   ]
  },
  {
   "cell_type": "markdown",
   "metadata": {},
   "source": [
    "# Load pre-computed classifiers, measure training accuracy"
   ]
  },
  {
   "cell_type": "code",
   "execution_count": 12,
   "metadata": {
    "collapsed": true
   },
   "outputs": [],
   "source": [
    "classifier_id = 95"
   ]
  },
  {
   "cell_type": "code",
   "execution_count": 13,
   "metadata": {
    "scrolled": true
   },
   "outputs": [
    {
     "name": "stdout",
     "output_type": "stream",
     "text": [
      "rm -rf /shared/CSHL_cells_v2/classifiers/setting_95/classifiers/sp5_clf_setting_95.dump && mkdir -p /shared/CSHL_cells_v2/classifiers/setting_95/classifiers\n",
      "aws s3 cp s3://mousebrainatlas-data/CSHL_cells_v2/classifiers/setting_95/classifiers/sp5_clf_setting_95.dump /shared/CSHL_cells_v2/classifiers/setting_95/classifiers/sp5_clf_setting_95.dump\n"
     ]
    },
    {
     "name": "stderr",
     "output_type": "stream",
     "text": [
      "Child returned 0\n",
      "Child returned 1\n",
      "0.35 seconds.\n",
      "Classifier for sp5 is not found.\n",
      "Child returned 0\n"
     ]
    },
    {
     "name": "stdout",
     "output_type": "stream",
     "text": [
      "rm -rf /shared/CSHL_cells_v2/classifiers/setting_95/classifiers/outerContour_clf_setting_95.dump && mkdir -p /shared/CSHL_cells_v2/classifiers/setting_95/classifiers\n",
      "aws s3 cp s3://mousebrainatlas-data/CSHL_cells_v2/classifiers/setting_95/classifiers/outerContour_clf_setting_95.dump /shared/CSHL_cells_v2/classifiers/setting_95/classifiers/outerContour_clf_setting_95.dump\n"
     ]
    },
    {
     "name": "stderr",
     "output_type": "stream",
     "text": [
      "Child returned 1\n",
      "0.36 seconds.\n",
      "Classifier for outerContour is not found.\n"
     ]
    }
   ],
   "source": [
    "clf_allClasses = {}\n",
    "for structure in structures_to_sample:\n",
    "    clf_fp = os.path.join(setting_dir, 'classifiers', '%(structure)s_clf_setting_%(setting)d.dump' % {'structure': structure, 'setting':classifier_id})\n",
    "    download_from_s3_to_ec2(clf_fp)\n",
    "    if os.path.exists(clf_fp):\n",
    "        clf_allClasses[structure] = joblib.load(clf_fp)\n",
    "    else:\n",
    "        sys.stderr.write('Classifier for %s is not found.\\n' % structure)"
   ]
  },
  {
   "cell_type": "code",
   "execution_count": 14,
   "metadata": {
    "collapsed": true
   },
   "outputs": [],
   "source": [
    "margin = 500\n",
    "neg_composition = 'neg_has_all_surround'"
   ]
  },
  {
   "cell_type": "code",
   "execution_count": 15,
   "metadata": {},
   "outputs": [
    {
     "data": {
      "image/png": "[encoded data removed]",
      "text/plain": [
       "<matplotlib.figure.Figure at 0x7fef3b28b150>"
      ]
     },
     "metadata": {},
     "output_type": "display_data"
    }
   ],
   "source": [
    "# Compute training accuracy\n",
    "\n",
    "acc_all_structures = {}\n",
    "\n",
    "ncols = 5\n",
    "nrows = int(np.ceil(len(structures_found)/float(ncols)))\n",
    "\n",
    "fig, axes = plt.subplots(nrows, ncols, figsize=(ncols*2, nrows*2), sharex=True, sharey=True)\n",
    "axes = axes.flatten()\n",
    "\n",
    "for i, structure in enumerate(structures_found):\n",
    "        \n",
    "    features_pos = training_features[structure]\n",
    "    n_pos = len(features_pos)\n",
    "    \n",
    "#     if setting in [1, 3, 4, 5, 6, 7]:\n",
    "#         neg_classes = [convert_to_surround_name(structure, margin=margin, suffix='noclass')]\n",
    "#     elif setting in [2, 10, 23, 24, 25, 26]:\n",
    "#         neg_classes = [convert_to_surround_name(structure, margin=margin, suffix='noclass')]            \n",
    "#         for surr_l in structures_found:\n",
    "#             c = convert_to_surround_name(structure, margin=margin, suffix=surr_l)\n",
    "#             if c in labels_found:\n",
    "#                 neg_classes.append(c)\n",
    "#     elif setting in [8,9,11]:\n",
    "#         neg_classes = [structure + '_negative']\n",
    "#     else:\n",
    "#         sys.stderr.write('Setting is not recognized.\\n')\n",
    "#         raise\n",
    "\n",
    "#     if setting in [1, 3, 4, 5, 6, 7]:\n",
    "    if neg_composition == 'neg_has_only_surround_noclass':\n",
    "        neg_classes = [convert_to_surround_name(structure, margin=margin, suffix='noclass')]\n",
    "#     elif setting in [2, 10, 23, 24, 25, 26]:\n",
    "    elif neg_composition == 'neg_has_all_surround':\n",
    "        neg_classes = [convert_to_surround_name(structure, margin=margin, suffix='noclass')]\n",
    "        for surr_s in structures_found:\n",
    "            c = convert_to_surround_name(structure, margin=margin, suffix=surr_s)\n",
    "            if c in labels_found:\n",
    "                neg_classes.append(c)\n",
    "#     elif setting in [8,9,11]:\n",
    "    elif neg_composition == 'neg_has_everything_else':\n",
    "        neg_classes = [structure + '_negative']\n",
    "    else:\n",
    "        raise Exception('Setting is not recognized.')\n",
    "        \n",
    "        \n",
    "    features_neg = np.concatenate([training_features[neg_class] for neg_class in neg_classes])\n",
    "#     neg_distances = np.concatenate([distances_to_structures[neg_class][label] for neg_class in neg_classes])\n",
    "        \n",
    "    n_neg = len(features_neg)\n",
    "    \n",
    "    train_data = np.r_[features_pos, features_neg]\n",
    "    train_labels = np.r_[np.ones((features_pos.shape[0], )), \n",
    "                         -np.ones((features_neg.shape[0], ))]\n",
    "    \n",
    "    clf = clf_allClasses[structure]\n",
    "    \n",
    "    probs = clf.predict_proba(train_data)[:, clf.classes_.tolist().index(1.)]\n",
    "    cm = compute_confusion_matrix(np.c_[probs, 1-probs], [0 if l==1. else 1 for l in train_labels], soft=True)\n",
    "    \n",
    "    acc_all_structures[structure] = (n_pos*cm[0,0] + n_neg*cm[1,1])/(n_pos + n_neg)\n",
    "    \n",
    "    plot_confusion_matrix(cm, title='%(structure)s'% {'structure':structure},\n",
    "                          labels=['',''],\n",
    "#                           labels=[label, convert_to_surround_name(label)],\n",
    "                         axis=axes[i])\n",
    "#     plt.show();\n",
    "\n",
    "plt.tight_layout()"
   ]
  },
  {
   "cell_type": "code",
   "execution_count": 16,
   "metadata": {},
   "outputs": [
    {
     "name": "stdout",
     "output_type": "stream",
     "text": [
      "training accuracy: 0.862917320693\n"
     ]
    }
   ],
   "source": [
    "print 'training accuracy:', np.mean(acc_all_structures.values())"
   ]
  },
  {
   "cell_type": "code",
   "execution_count": null,
   "metadata": {
    "collapsed": true
   },
   "outputs": [],
   "source": []
  },
  {
   "cell_type": "code",
   "execution_count": null,
   "metadata": {
    "collapsed": true
   },
   "outputs": [],
   "source": [
    "# Visualize training patches\n",
    "\n",
    "patches = extract_patches_given_locations_multiple_sections(training_addresses['12N'][:10], \n",
    "                                                            location_or_grid_index='grid_index',\n",
    "                                                            version='compressed')\n",
    "display_images_in_grids(patches, nc=10)\n",
    "\n",
    "# patches = extract_patches_given_locations_multiple_sections(training_addresses['12N_surround'][:10], \n",
    "#                                                             location_or_grid_index='grid_index',\n",
    "#                                                             version='compressed')\n",
    "# display_images_in_grids(patches, nc=10)"
   ]
  },
  {
   "cell_type": "code",
   "execution_count": 34,
   "metadata": {
    "collapsed": true
   },
   "outputs": [],
   "source": [
    "def patch_boxes_overlay_on(bg, downscale_factor, locs, patch_size, colors=None, stack=None, sec=None):\n",
    "    \"\"\"\n",
    "    Assume bg has the specified downscale_factor.\n",
    "    \"\"\"\n",
    "\n",
    "    if bg == 'original':\n",
    "        bg = imread(DataManager.get_image_filepath(stack=stack, section=sec, version='compressed'))[::downscale_factor, ::downscale_factor]\n",
    "       \n",
    "    # viz = bg.copy()\n",
    "    viz = gray2rgb(bg).copy()\n",
    "    # need copy() because of this bug http://stackoverflow.com/a/31316516\n",
    "    \n",
    "    half_size = patch_size/2/downscale_factor\n",
    "    if isinstance(locs[0], list):\n",
    "        if colors is None:\n",
    "            colors = random_colors(len(locs))\n",
    "        for i, locs_oneColor in enumerate(locs):\n",
    "            for x, y in locs_oneColor:\n",
    "                x = x / downscale_factor\n",
    "                y = y / downscale_factor\n",
    "                cv2.rectangle(viz, (x-half_size, y-half_size), (x+half_size, y+half_size), colors[i], 2)\n",
    "    else:\n",
    "        if colors is None:\n",
    "            colors = (255,0,0)\n",
    "        for x, y in locs:\n",
    "            x = x / downscale_factor\n",
    "            y = y / downscale_factor\n",
    "            cv2.rectangle(viz, (x-half_size, y-half_size), (x+half_size, y+half_size), colors, 2)\n",
    "            \n",
    "    return viz"
   ]
  },
  {
   "cell_type": "code",
   "execution_count": 35,
   "metadata": {},
   "outputs": [
    {
     "data": {
      "text/html": [
       "<a href='tmp.jpg' target='_blank'>tmp.jpg</a><br>"
      ],
      "text/plain": [
       "/shared/MouseBrainAtlas/learning/tmp.jpg"
      ]
     },
     "execution_count": 35,
     "metadata": {},
     "output_type": "execute_result"
    }
   ],
   "source": [
    "# Visualize a patch in context\n",
    "\n",
    "patch_size, stride, _, _ = get_default_gridspec('MD589')\n",
    "grid_locations = grid_parameters_to_sample_locations(get_default_gridspec('MD589'))\n",
    "viz = patch_boxes_overlay_on('original', 8, \n",
    "                       [grid_locations[44453]],\n",
    "                      patch_size=patch_size,\n",
    "                      stack='MD589',\n",
    "                       sec=219)\n",
    "display_image(viz)"
   ]
  }
 ],
 "metadata": {
  "kernelspec": {
   "display_name": "Python 2",
   "language": "python",
   "name": "python2"
  },
  "language_info": {
   "codemirror_mode": {
    "name": "ipython",
    "version": 2
   },
   "file_extension": ".py",
   "mimetype": "text/x-python",
   "name": "python",
   "nbconvert_exporter": "python",
   "pygments_lexer": "ipython2",
   "version": "2.7.12"
  }
 },
 "nbformat": 4,
 "nbformat_minor": 1
}
