{
 "cells": [
  {
   "cell_type": "code",
   "execution_count": 1,
   "metadata": {},
   "outputs": [
    {
     "name": "stdout",
     "output_type": "stream",
     "text": [
      "Setting environment for AWS compute node\n"
     ]
    },
    {
     "name": "stderr",
     "output_type": "stream",
     "text": [
      "No vtk\n",
      "File does not exist: /shared/CSHL_data_processed/MD635/MD635_anchor.txt\n",
      "File does not exist: /shared/CSHL_data_processed/MD635/MD635_sorted_filenames.txt\n",
      "File does not exist: /shared/CSHL_data_processed/MD635/MD635_cropbox.txt\n",
      "File does not exist: /shared/CSHL_data_processed/MD635/MD635_cropbox.txt\n",
      "File does not exist: /shared/CSHL_data_processed/MD653/MD653_anchor.txt\n",
      "File does not exist: /shared/CSHL_data_processed/MD653/MD653_sorted_filenames.txt\n",
      "File does not exist: /shared/CSHL_data_processed/MD653/MD653_cropbox.txt\n",
      "File does not exist: /shared/CSHL_data_processed/MD653/MD653_cropbox.txt\n",
      "File does not exist: /shared/CSHL_data_processed/MD652/MD652_anchor.txt\n",
      "File does not exist: /shared/CSHL_data_processed/MD652/MD652_sorted_filenames.txt\n",
      "File does not exist: /shared/CSHL_data_processed/MD652/MD652_cropbox.txt\n",
      "File does not exist: /shared/CSHL_data_processed/MD652/MD652_cropbox.txt\n",
      "File does not exist: /shared/CSHL_data_processed/MD642/MD642_anchor.txt\n",
      "File does not exist: /shared/CSHL_data_processed/MD642/MD642_sorted_filenames.txt\n",
      "File does not exist: /shared/CSHL_data_processed/MD642/MD642_cropbox.txt\n",
      "File does not exist: /shared/CSHL_data_processed/MD642/MD642_cropbox.txt\n",
      "File does not exist: /shared/CSHL_data_processed/MD657/MD657_anchor.txt\n",
      "File does not exist: /shared/CSHL_data_processed/MD657/MD657_sorted_filenames.txt\n",
      "File does not exist: /shared/CSHL_data_processed/MD657/MD657_cropbox.txt\n",
      "File does not exist: /shared/CSHL_data_processed/MD657/MD657_cropbox.txt\n"
     ]
    }
   ],
   "source": [
    "%load_ext autoreload\n",
    "%autoreload 2\n",
    "\n",
    "import os\n",
    "import sys\n",
    "import time\n",
    "\n",
    "from multiprocess import Pool\n",
    "\n",
    "sys.path.append(os.path.join(os.environ['REPO_DIR'], 'utilities'))\n",
    "from utilities2015 import *\n",
    "from metadata import *\n",
    "from data_manager import *\n",
    "from visualization_utilities import *"
   ]
  },
  {
   "cell_type": "code",
   "execution_count": 2,
   "metadata": {
    "collapsed": true
   },
   "outputs": [],
   "source": [
    "stack = 'MD591'"
   ]
  },
  {
   "cell_type": "code",
   "execution_count": 10,
   "metadata": {
    "collapsed": true
   },
   "outputs": [],
   "source": [
    "classifier_id = 30\n",
    "downscale = 8"
   ]
  },
  {
   "cell_type": "markdown",
   "metadata": {},
   "source": [
    "# One section"
   ]
  },
  {
   "cell_type": "code",
   "execution_count": 15,
   "metadata": {},
   "outputs": [],
   "source": [
    "sec = 290\n",
    "actual_setting = resolve_actual_setting(setting=classifier_id, stack=stack, sec=sec)\n",
    "# DataManager.get_downscaled_scoremap_viz_filepath(stack=stack, section=sec, structure='7N', setting=actual_setting)\n",
    "viz = scoremap_overlay(stack=stack, sec=sec, structure='7N', downscale=downscale, setting=actual_setting)\n",
    "# viz = scoremap_overlay_on(bg=bg, stack=stack, sec=sec, structure='7N', \n",
    "#                           downscale=downscale, label_text=None, setting=actual_setting)"
   ]
  },
  {
   "cell_type": "code",
   "execution_count": 16,
   "metadata": {},
   "outputs": [
    {
     "data": {
      "text/html": [
       "<a href='tmp.png' target='_blank'>tmp.png</a><br>"
      ],
      "text/plain": [
       "/shared/MouseBrainAtlas/learning/tmp.png"
      ]
     },
     "execution_count": 16,
     "metadata": {},
     "output_type": "execute_result"
    }
   ],
   "source": [
    "display_image(viz, filename='tmp.png')"
   ]
  },
  {
   "cell_type": "markdown",
   "metadata": {},
   "source": [
    "# Many sections"
   ]
  },
  {
   "cell_type": "code",
   "execution_count": 4,
   "metadata": {
    "collapsed": true
   },
   "outputs": [],
   "source": [
    "first_sec, last_sec = metadata_cache['section_limits'][stack]"
   ]
  },
  {
   "cell_type": "code",
   "execution_count": 5,
   "metadata": {
    "collapsed": true
   },
   "outputs": [],
   "source": [
    "add_label_text = False"
   ]
  },
  {
   "cell_type": "code",
   "execution_count": 13,
   "metadata": {
    "scrolled": true
   },
   "outputs": [
    {
     "name": "stderr",
     "output_type": "stream",
     "text": [
      "/usr/local/lib/python2.7/dist-packages/PIL/Image.py:2371: DecompressionBombWarning: Image size (209920000 pixels) exceeds limit of 89478485 pixels, could be decompression bomb DOS attack.\n",
      "  DecompressionBombWarning)\n",
      "/usr/local/lib/python2.7/dist-packages/PIL/Image.py:2371: DecompressionBombWarning: Image size (209920000 pixels) exceeds limit of 89478485 pixels, could be decompression bomb DOS attack.\n",
      "  DecompressionBombWarning)\n",
      "/usr/local/lib/python2.7/dist-packages/PIL/Image.py:2371: DecompressionBombWarning: Image size (209920000 pixels) exceeds limit of 89478485 pixels, could be decompression bomb DOS attack.\n",
      "  DecompressionBombWarning)\n",
      "/usr/local/lib/python2.7/dist-packages/PIL/Image.py:2371: DecompressionBombWarning: Image size (209920000 pixels) exceeds limit of 89478485 pixels, could be decompression bomb DOS attack.\n",
      "  DecompressionBombWarning)\n",
      "/usr/local/lib/python2.7/dist-packages/PIL/Image.py:2371: DecompressionBombWarning: Image size (209920000 pixels) exceeds limit of 89478485 pixels, could be decompression bomb DOS attack.\n",
      "  DecompressionBombWarning)\n",
      "/usr/local/lib/python2.7/dist-packages/PIL/Image.py:2371: DecompressionBombWarning: Image size (209920000 pixels) exceeds limit of 89478485 pixels, could be decompression bomb DOS attack.\n",
      "  DecompressionBombWarning)\n",
      "/usr/local/lib/python2.7/dist-packages/PIL/Image.py:2371: DecompressionBombWarning: Image size (209920000 pixels) exceeds limit of 89478485 pixels, could be decompression bomb DOS attack.\n",
      "  DecompressionBombWarning)\n",
      "/usr/local/lib/python2.7/dist-packages/PIL/Image.py:2371: DecompressionBombWarning: Image size (209920000 pixels) exceeds limit of 89478485 pixels, could be decompression bomb DOS attack.\n",
      "  DecompressionBombWarning)\n",
      "/usr/local/lib/python2.7/dist-packages/PIL/Image.py:2371: DecompressionBombWarning: Image size (209920000 pixels) exceeds limit of 89478485 pixels, could be decompression bomb DOS attack.\n",
      "  DecompressionBombWarning)\n",
      "/usr/local/lib/python2.7/dist-packages/PIL/Image.py:2371: DecompressionBombWarning: Image size (209920000 pixels) exceeds limit of 89478485 pixels, could be decompression bomb DOS attack.\n",
      "  DecompressionBombWarning)\n",
      "/usr/local/lib/python2.7/dist-packages/PIL/Image.py:2371: DecompressionBombWarning: Image size (209920000 pixels) exceeds limit of 89478485 pixels, could be decompression bomb DOS attack.\n",
      "  DecompressionBombWarning)\n",
      "/usr/local/lib/python2.7/dist-packages/PIL/Image.py:2371: DecompressionBombWarning: Image size (209920000 pixels) exceeds limit of 89478485 pixels, could be decompression bomb DOS attack.\n",
      "  DecompressionBombWarning)\n",
      "/usr/local/lib/python2.7/dist-packages/PIL/Image.py:2371: DecompressionBombWarning: Image size (209920000 pixels) exceeds limit of 89478485 pixels, could be decompression bomb DOS attack.\n",
      "  DecompressionBombWarning)\n",
      "/usr/local/lib/python2.7/dist-packages/PIL/Image.py:2371: DecompressionBombWarning: Image size (209920000 pixels) exceeds limit of 89478485 pixels, could be decompression bomb DOS attack.\n",
      "  DecompressionBombWarning)\n",
      "/usr/local/lib/python2.7/dist-packages/PIL/Image.py:2371: DecompressionBombWarning: Image size (209920000 pixels) exceeds limit of 89478485 pixels, could be decompression bomb DOS attack.\n",
      "  DecompressionBombWarning)\n",
      "/usr/local/lib/python2.7/dist-packages/PIL/Image.py:2371: DecompressionBombWarning: Image size (209920000 pixels) exceeds limit of 89478485 pixels, could be decompression bomb DOS attack.\n",
      "  DecompressionBombWarning)\n",
      "/usr/local/lib/python2.7/dist-packages/skimage/util/dtype.py:122: UserWarning: Possible precision loss when converting from float64 to uint8\n",
      "  .format(dtypeobj_in, dtypeobj_out))\n",
      "/usr/local/lib/python2.7/dist-packages/skimage/util/dtype.py:122: UserWarning: Possible precision loss when converting from float64 to uint8\n",
      "  .format(dtypeobj_in, dtypeobj_out))\n",
      "/usr/local/lib/python2.7/dist-packages/skimage/util/dtype.py:122: UserWarning: Possible precision loss when converting from float64 to uint8\n",
      "  .format(dtypeobj_in, dtypeobj_out))\n",
      "/usr/local/lib/python2.7/dist-packages/skimage/util/dtype.py:122: UserWarning: Possible precision loss when converting from float64 to uint8\n",
      "  .format(dtypeobj_in, dtypeobj_out))\n",
      "/usr/local/lib/python2.7/dist-packages/skimage/util/dtype.py:122: UserWarning: Possible precision loss when converting from float64 to uint8\n",
      "  .format(dtypeobj_in, dtypeobj_out))\n",
      "/usr/local/lib/python2.7/dist-packages/skimage/util/dtype.py:122: UserWarning: Possible precision loss when converting from float64 to uint8\n",
      "  .format(dtypeobj_in, dtypeobj_out))\n",
      "/usr/local/lib/python2.7/dist-packages/skimage/util/dtype.py:122: UserWarning: Possible precision loss when converting from float64 to uint8\n",
      "  .format(dtypeobj_in, dtypeobj_out))\n",
      "/usr/local/lib/python2.7/dist-packages/skimage/util/dtype.py:122: UserWarning: Possible precision loss when converting from float64 to uint8\n",
      "  .format(dtypeobj_in, dtypeobj_out))\n",
      "/usr/local/lib/python2.7/dist-packages/skimage/util/dtype.py:122: UserWarning: Possible precision loss when converting from float64 to uint8\n",
      "  .format(dtypeobj_in, dtypeobj_out))\n",
      "/usr/local/lib/python2.7/dist-packages/skimage/util/dtype.py:122: UserWarning: Possible precision loss when converting from float64 to uint8\n",
      "  .format(dtypeobj_in, dtypeobj_out))\n",
      "/usr/local/lib/python2.7/dist-packages/skimage/util/dtype.py:122: UserWarning: Possible precision loss when converting from float64 to uint8\n",
      "  .format(dtypeobj_in, dtypeobj_out))\n",
      "/usr/local/lib/python2.7/dist-packages/skimage/util/dtype.py:122: UserWarning: Possible precision loss when converting from float64 to uint8\n",
      "  .format(dtypeobj_in, dtypeobj_out))\n",
      "/usr/local/lib/python2.7/dist-packages/skimage/util/dtype.py:122: UserWarning: Possible precision loss when converting from float64 to uint8\n",
      "  .format(dtypeobj_in, dtypeobj_out))\n",
      "/usr/local/lib/python2.7/dist-packages/skimage/util/dtype.py:122: UserWarning: Possible precision loss when converting from float64 to uint8\n",
      "  .format(dtypeobj_in, dtypeobj_out))\n",
      "/usr/local/lib/python2.7/dist-packages/skimage/util/dtype.py:122: UserWarning: Possible precision loss when converting from float64 to uint8\n",
      "  .format(dtypeobj_in, dtypeobj_out))\n",
      "/usr/local/lib/python2.7/dist-packages/skimage/util/dtype.py:122: UserWarning: Possible precision loss when converting from float64 to uint8\n",
      "  .format(dtypeobj_in, dtypeobj_out))\n"
     ]
    },
    {
     "name": "stdout",
     "output_type": "stream",
     "text": [
      "aws s3 cp /shared/CSHL_scoremaps_down8_viz/SNR/MD591/MD591-IHC58-2015.08.28-07.09.16_MD591_2_0173_lossless_alignedTo_MD591-N57-2015.09.21-17.13.29_MD591_1_0169_cropped_8_SNR_denseScoreMap_setting_30.jpg s3://mousebrainatlas-data/CSHL_scoremaps_down8_viz/SNR/MD591/MD591-IHC58-2015.08.28-07.09.16_MD591_2_0173_lossless_alignedTo_MD591-N57-2015.09.21-17.13.29_MD591_1_0169_cropped_8_SNR_denseScoreMap_setting_30.jpg\n",
      "aws s3 cp /shared/CSHL_scoremaps_down8_viz/5N/MD591/MD591-IHC58-2015.08.28-07.09.16_MD591_2_0173_lossless_alignedTo_MD591-N57-2015.09.21-17.13.29_MD591_1_0169_cropped_8_5N_denseScoreMap_setting_30.jpg s3://mousebrainatlas-data/CSHL_scoremaps_down8_viz/5N/MD591/MD591-IHC58-2015.08.28-07.09.16_MD591_2_0173_lossless_alignedTo_MD591-N57-2015.09.21-17.13.29_MD591_1_0169_cropped_8_5N_denseScoreMap_setting_30.jpg\n",
      "aws s3 cp /shared/CSHL_scoremaps_down8_viz/LRt/MD591/MD591-IHC58-2015.08.28-07.09.16_MD591_2_0173_lossless_alignedTo_MD591-N57-2015.09.21-17.13.29_MD591_1_0169_cropped_8_LRt_denseScoreMap_setting_30.jpg s3://mousebrainatlas-data/CSHL_scoremaps_down8_viz/LRt/MD591/MD591-IHC58-2015.08.28-07.09.16_MD591_2_0173_lossless_alignedTo_MD591-N57-2015.09.21-17.13.29_MD591_1_0169_cropped_8_LRt_denseScoreMap_setting_30.jpg\n",
      "aws s3 cp /shared/CSHL_scoremaps_down8_viz/Sp5I/MD591/MD591-IHC58-2015.08.28-07.09.16_MD591_2_0173_lossless_alignedTo_MD591-N57-2015.09.21-17.13.29_MD591_1_0169_cropped_8_Sp5I_denseScoreMap_setting_30.jpg s3://mousebrainatlas-data/CSHL_scoremaps_down8_viz/Sp5I/MD591/MD591-IHC58-2015.08.28-07.09.16_MD591_2_0173_lossless_alignedTo_MD591-N57-2015.09.21-17.13.29_MD591_1_0169_cropped_8_Sp5I_denseScoreMap_setting_30.jpg\n",
      "aws s3 cp /shared/CSHL_scoremaps_down8_viz/4N/MD591/MD591-IHC58-2015.08.28-07.09.16_MD591_2_0173_lossless_alignedTo_MD591-N57-2015.09.21-17.13.29_MD591_1_0169_cropped_8_4N_denseScoreMap_setting_30.jpg s3://mousebrainatlas-data/CSHL_scoremaps_down8_viz/4N/MD591/MD591-IHC58-2015.08.28-07.09.16_MD591_2_0173_lossless_alignedTo_MD591-N57-2015.09.21-17.13.29_MD591_1_0169_cropped_8_4N_denseScoreMap_setting_30.jpg\n",
      "aws s3 cp /shared/CSHL_scoremaps_down8_viz/VLL/MD591/MD591-IHC58-2015.08.28-07.09.16_MD591_2_0173_lossless_alignedTo_MD591-N57-2015.09.21-17.13.29_MD591_1_0169_cropped_8_VLL_denseScoreMap_setting_30.jpg s3://mousebrainatlas-data/CSHL_scoremaps_down8_viz/VLL/MD591/MD591-IHC58-2015.08.28-07.09.16_MD591_2_0173_lossless_alignedTo_MD591-N57-2015.09.21-17.13.29_MD591_1_0169_cropped_8_VLL_denseScoreMap_setting_30.jpg\n",
      "aws s3 cp /shared/CSHL_scoremaps_down8_viz/SNC/MD591/MD591-IHC58-2015.08.28-07.09.16_MD591_2_0173_lossless_alignedTo_MD591-N57-2015.09.21-17.13.29_MD591_1_0169_cropped_8_SNC_denseScoreMap_setting_30.jpg s3://mousebrainatlas-data/CSHL_scoremaps_down8_viz/SNC/MD591/MD591-IHC58-2015.08.28-07.09.16_MD591_2_0173_lossless_alignedTo_MD591-N57-2015.09.21-17.13.29_MD591_1_0169_cropped_8_SNC_denseScoreMap_setting_30.jpg\n",
      "aws s3 cp /shared/CSHL_scoremaps_down8_viz/Tz/MD591/MD591-IHC58-2015.08.28-07.09.16_MD591_2_0173_lossless_alignedTo_MD591-N57-2015.09.21-17.13.29_MD591_1_0169_cropped_8_Tz_denseScoreMap_setting_30.jpg s3://mousebrainatlas-data/CSHL_scoremaps_down8_viz/Tz/MD591/MD591-IHC58-2015.08.28-07.09.16_MD591_2_0173_lossless_alignedTo_MD591-N57-2015.09.21-17.13.29_MD591_1_0169_cropped_8_Tz_denseScoreMap_setting_30.jpg\n",
      "aws s3 cp /shared/CSHL_scoremaps_down8_viz/Pn/MD591/MD591-IHC58-2015.08.28-07.09.16_MD591_2_0173_lossless_alignedTo_MD591-N57-2015.09.21-17.13.29_MD591_1_0169_cropped_8_Pn_denseScoreMap_setting_30.jpg s3://mousebrainatlas-data/CSHL_scoremaps_down8_viz/Pn/MD591/MD591-IHC58-2015.08.28-07.09.16_MD591_2_0173_lossless_alignedTo_MD591-N57-2015.09.21-17.13.29_MD591_1_0169_cropped_8_Pn_denseScoreMap_setting_30.jpg\n",
      "aws s3 cp /shared/CSHL_scoremaps_down8_viz/7n/MD591/MD591-IHC58-2015.08.28-07.09.16_MD591_2_0173_lossless_alignedTo_MD591-N57-2015.09.21-17.13.29_MD591_1_0169_cropped_8_7n_denseScoreMap_setting_30.jpg s3://mousebrainatlas-data/CSHL_scoremaps_down8_viz/7n/MD591/MD591-IHC58-2015.08.28-07.09.16_MD591_2_0173_lossless_alignedTo_MD591-N57-2015.09.21-17.13.29_MD591_1_0169_cropped_8_7n_denseScoreMap_setting_30.jpg\n",
      "aws s3 cp /shared/CSHL_scoremaps_down8_viz/RMC/MD591/MD591-IHC58-2015.08.28-07.09.16_MD591_2_0173_lossless_alignedTo_MD591-N57-2015.09.21-17.13.29_MD591_1_0169_cropped_8_RMC_denseScoreMap_setting_30.jpg s3://mousebrainatlas-data/CSHL_scoremaps_down8_viz/RMC/MD591/MD591-IHC58-2015.08.28-07.09.16_MD591_2_0173_lossless_alignedTo_MD591-N57-2015.09.21-17.13.29_MD591_1_0169_cropped_8_RMC_denseScoreMap_setting_30.jpg\n",
      "aws s3 cp /shared/CSHL_scoremaps_down8_viz/Amb/MD591/MD591-IHC58-2015.08.28-07.09.16_MD591_2_0173_lossless_alignedTo_MD591-N57-2015.09.21-17.13.29_MD591_1_0169_cropped_8_Amb_denseScoreMap_setting_30.jpg s3://mousebrainatlas-data/CSHL_scoremaps_down8_viz/Amb/MD591/MD591-IHC58-2015.08.28-07.09.16_MD591_2_0173_lossless_alignedTo_MD591-N57-2015.09.21-17.13.29_MD591_1_0169_cropped_8_Amb_denseScoreMap_setting_30.jpg\n",
      "aws s3 cp /shared/CSHL_scoremaps_down8_viz/LC/MD591/MD591-IHC58-2015.08.28-07.09.16_MD591_2_0173_lossless_alignedTo_MD591-N57-2015.09.21-17.13.29_MD591_1_0169_cropped_8_LC_denseScoreMap_setting_30.jpg s3://mousebrainatlas-data/CSHL_scoremaps_down8_viz/LC/MD591/MD591-IHC58-2015.08.28-07.09.16_MD591_2_0173_lossless_alignedTo_MD591-N57-2015.09.21-17.13.29_MD591_1_0169_cropped_8_LC_denseScoreMap_setting_30.jpg\n",
      "aws s3 cp /shared/CSHL_scoremaps_down8_viz/6N/MD591/MD591-IHC58-2015.08.28-07.09.16_MD591_2_0173_lossless_alignedTo_MD591-N57-2015.09.21-17.13.29_MD591_1_0169_cropped_8_6N_denseScoreMap_setting_30.jpg s3://mousebrainatlas-data/CSHL_scoremaps_down8_viz/6N/MD591/MD591-IHC58-2015.08.28-07.09.16_MD591_2_0173_lossless_alignedTo_MD591-N57-2015.09.21-17.13.29_MD591_1_0169_cropped_8_6N_denseScoreMap_setting_30.jpg\n",
      "aws s3 cp /shared/CSHL_scoremaps_down8_viz/3N/MD591/MD591-IHC58-2015.08.28-07.09.16_MD591_2_0173_lossless_alignedTo_MD591-N57-2015.09.21-17.13.29_MD591_1_0169_cropped_8_3N_denseScoreMap_setting_30.jpg s3://mousebrainatlas-data/CSHL_scoremaps_down8_viz/3N/MD591/MD591-IHC58-2015.08.28-07.09.16_MD591_2_0173_lossless_alignedTo_MD591-N57-2015.09.21-17.13.29_MD591_1_0169_cropped_8_3N_denseScoreMap_setting_30.jpg\n",
      "aws s3 cp /shared/CSHL_scoremaps_down8_viz/7N/MD591/MD591-IHC58-2015.08.28-07.09.16_MD591_2_0173_lossless_alignedTo_MD591-N57-2015.09.21-17.13.29_MD591_1_0169_cropped_8_7N_denseScoreMap_setting_30.jpg s3://mousebrainatlas-data/CSHL_scoremaps_down8_viz/7N/MD591/MD591-IHC58-2015.08.28-07.09.16_MD591_2_0173_lossless_alignedTo_MD591-N57-2015.09.21-17.13.29_MD591_1_0169_cropped_8_7N_denseScoreMap_setting_30.jpg\n"
     ]
    },
    {
     "name": "stderr",
     "output_type": "stream",
     "text": [
      "Child returned 0\n",
      "0.73 seconds.\n",
      "Child returned 0\n",
      "Child returned 0\n",
      "0.77 seconds.\n",
      "Child returned 0\n",
      "0.72 seconds.\n",
      "0.62 seconds.\n",
      "Child returned 0\n",
      "0.73 seconds.\n",
      "Child returned 0\n",
      "0.71 seconds.\n",
      "Child returned 0\n",
      "0.73 seconds.\n",
      "Child returned 0\n",
      "0.72 seconds.\n",
      "Child returned 0\n",
      "0.62 seconds.\n",
      "Child returned 0\n",
      "0.67 seconds.\n",
      "Child returned 0\n",
      "0.76 seconds.\n",
      "Child returned 0\n",
      "Child returned 0\n",
      "0.67 seconds.\n",
      "0.71 seconds.\n",
      "Child returned 0\n",
      "0.72 seconds.\n",
      "Child returned 0\n",
      "0.79 seconds.\n",
      "Child returned 0\n",
      "0.72 seconds.\n",
      "Error loading scoremap of sp5 for image MD591-IHC58-2015.08.28-07.09.16_MD591_2_0173.\n",
      "Error loading scoremap of outerContour for image MD591-IHC58-2015.08.28-07.09.16_MD591_2_0173.\n"
     ]
    },
    {
     "name": "stdout",
     "output_type": "stream",
     "text": [
      "aws s3 cp /shared/CSHL_scoremaps_down8_viz/10N/MD591/MD591-IHC58-2015.08.28-07.09.16_MD591_2_0173_lossless_alignedTo_MD591-N57-2015.09.21-17.13.29_MD591_1_0169_cropped_8_10N_denseScoreMap_setting_30.jpg s3://mousebrainatlas-data/CSHL_scoremaps_down8_viz/10N/MD591/MD591-IHC58-2015.08.28-07.09.16_MD591_2_0173_lossless_alignedTo_MD591-N57-2015.09.21-17.13.29_MD591_1_0169_cropped_8_10N_denseScoreMap_setting_30.jpg\n",
      "aws s3 cp /shared/CSHL_scoremaps_down8_viz/DC/MD591/MD591-IHC58-2015.08.28-07.09.16_MD591_2_0173_lossless_alignedTo_MD591-N57-2015.09.21-17.13.29_MD591_1_0169_cropped_8_DC_denseScoreMap_setting_30.jpg s3://mousebrainatlas-data/CSHL_scoremaps_down8_viz/DC/MD591/MD591-IHC58-2015.08.28-07.09.16_MD591_2_0173_lossless_alignedTo_MD591-N57-2015.09.21-17.13.29_MD591_1_0169_cropped_8_DC_denseScoreMap_setting_30.jpg\n",
      "aws s3 cp /shared/CSHL_scoremaps_down8_viz/VCP/MD591/MD591-IHC58-2015.08.28-07.09.16_MD591_2_0173_lossless_alignedTo_MD591-N57-2015.09.21-17.13.29_MD591_1_0169_cropped_8_VCP_denseScoreMap_setting_30.jpg s3://mousebrainatlas-data/CSHL_scoremaps_down8_viz/VCP/MD591/MD591-IHC58-2015.08.28-07.09.16_MD591_2_0173_lossless_alignedTo_MD591-N57-2015.09.21-17.13.29_MD591_1_0169_cropped_8_VCP_denseScoreMap_setting_30.jpg\n",
      "aws s3 cp /shared/CSHL_scoremaps_down8_viz/PBG/MD591/MD591-IHC58-2015.08.28-07.09.16_MD591_2_0173_lossless_alignedTo_MD591-N57-2015.09.21-17.13.29_MD591_1_0169_cropped_8_PBG_denseScoreMap_setting_30.jpg s3://mousebrainatlas-data/CSHL_scoremaps_down8_viz/PBG/MD591/MD591-IHC58-2015.08.28-07.09.16_MD591_2_0173_lossless_alignedTo_MD591-N57-2015.09.21-17.13.29_MD591_1_0169_cropped_8_PBG_denseScoreMap_setting_30.jpg\n",
      "aws s3 cp /shared/CSHL_scoremaps_down8_viz/Sp5C/MD591/MD591-IHC58-2015.08.28-07.09.16_MD591_2_0173_lossless_alignedTo_MD591-N57-2015.09.21-17.13.29_MD591_1_0169_cropped_8_Sp5C_denseScoreMap_setting_30.jpg s3://mousebrainatlas-data/CSHL_scoremaps_down8_viz/Sp5C/MD591/MD591-IHC58-2015.08.28-07.09.16_MD591_2_0173_lossless_alignedTo_MD591-N57-2015.09.21-17.13.29_MD591_1_0169_cropped_8_Sp5C_denseScoreMap_setting_30.jpg\n"
     ]
    },
    {
     "name": "stderr",
     "output_type": "stream",
     "text": [
      "Child returned 0\n",
      "0.81 seconds.\n"
     ]
    },
    {
     "name": "stdout",
     "output_type": "stream",
     "text": [
      "aws s3 cp /shared/CSHL_scoremaps_down8_viz/Sp5O/MD591/MD591-IHC58-2015.08.28-07.09.16_MD591_2_0173_lossless_alignedTo_MD591-N57-2015.09.21-17.13.29_MD591_1_0169_cropped_8_Sp5O_denseScoreMap_setting_30.jpg s3://mousebrainatlas-data/CSHL_scoremaps_down8_viz/Sp5O/MD591/MD591-IHC58-2015.08.28-07.09.16_MD591_2_0173_lossless_alignedTo_MD591-N57-2015.09.21-17.13.29_MD591_1_0169_cropped_8_Sp5O_denseScoreMap_setting_30.jpg\n"
     ]
    },
    {
     "name": "stderr",
     "output_type": "stream",
     "text": [
      "Child returned 0\n",
      "0.70 seconds.\n"
     ]
    },
    {
     "name": "stdout",
     "output_type": "stream",
     "text": [
      "aws s3 cp /shared/CSHL_scoremaps_down8_viz/RtTg/MD591/MD591-IHC58-2015.08.28-07.09.16_MD591_2_0173_lossless_alignedTo_MD591-N57-2015.09.21-17.13.29_MD591_1_0169_cropped_8_RtTg_denseScoreMap_setting_30.jpg s3://mousebrainatlas-data/CSHL_scoremaps_down8_viz/RtTg/MD591/MD591-IHC58-2015.08.28-07.09.16_MD591_2_0173_lossless_alignedTo_MD591-N57-2015.09.21-17.13.29_MD591_1_0169_cropped_8_RtTg_denseScoreMap_setting_30.jpg\n",
      "aws s3 cp /shared/CSHL_scoremaps_down8_viz/AP/MD591/MD591-IHC58-2015.08.28-07.09.16_MD591_2_0173_lossless_alignedTo_MD591-N57-2015.09.21-17.13.29_MD591_1_0169_cropped_8_AP_denseScoreMap_setting_30.jpg s3://mousebrainatlas-data/CSHL_scoremaps_down8_viz/AP/MD591/MD591-IHC58-2015.08.28-07.09.16_MD591_2_0173_lossless_alignedTo_MD591-N57-2015.09.21-17.13.29_MD591_1_0169_cropped_8_AP_denseScoreMap_setting_30.jpg\n",
      "aws s3 cp /shared/CSHL_scoremaps_down8_viz/12N/MD591/MD591-IHC58-2015.08.28-07.09.16_MD591_2_0173_lossless_alignedTo_MD591-N57-2015.09.21-17.13.29_MD591_1_0169_cropped_8_12N_denseScoreMap_setting_30.jpg s3://mousebrainatlas-data/CSHL_scoremaps_down8_viz/12N/MD591/MD591-IHC58-2015.08.28-07.09.16_MD591_2_0173_lossless_alignedTo_MD591-N57-2015.09.21-17.13.29_MD591_1_0169_cropped_8_12N_denseScoreMap_setting_30.jpg\n"
     ]
    },
    {
     "name": "stderr",
     "output_type": "stream",
     "text": [
      "Child returned 0\n",
      "0.70 seconds.\n",
      "Child returned 0\n",
      "0.61 seconds.\n",
      "Child returned 0\n",
      "0.60 seconds.\n"
     ]
    },
    {
     "name": "stdout",
     "output_type": "stream",
     "text": [
      "aws s3 cp /shared/CSHL_scoremaps_down8_viz/VCA/MD591/MD591-IHC58-2015.08.28-07.09.16_MD591_2_0173_lossless_alignedTo_MD591-N57-2015.09.21-17.13.29_MD591_1_0169_cropped_8_VCA_denseScoreMap_setting_30.jpg s3://mousebrainatlas-data/CSHL_scoremaps_down8_viz/VCA/MD591/MD591-IHC58-2015.08.28-07.09.16_MD591_2_0173_lossless_alignedTo_MD591-N57-2015.09.21-17.13.29_MD591_1_0169_cropped_8_VCA_denseScoreMap_setting_30.jpg\n",
      "aws s3 cp /shared/CSHL_scoremaps_down8_viz/IC/MD591/MD591-IHC58-2015.08.28-07.09.16_MD591_2_0173_lossless_alignedTo_MD591-N57-2015.09.21-17.13.29_MD591_1_0169_cropped_8_IC_denseScoreMap_setting_30.jpg s3://mousebrainatlas-data/CSHL_scoremaps_down8_viz/IC/MD591/MD591-IHC58-2015.08.28-07.09.16_MD591_2_0173_lossless_alignedTo_MD591-N57-2015.09.21-17.13.29_MD591_1_0169_cropped_8_IC_denseScoreMap_setting_30.jpg\n",
      "aws s3 cp /shared/CSHL_scoremaps_down8_viz/SC/MD591/MD591-IHC58-2015.08.28-07.09.16_MD591_2_0173_lossless_alignedTo_MD591-N57-2015.09.21-17.13.29_MD591_1_0169_cropped_8_SC_denseScoreMap_setting_30.jpg s3://mousebrainatlas-data/CSHL_scoremaps_down8_viz/SC/MD591/MD591-IHC58-2015.08.28-07.09.16_MD591_2_0173_lossless_alignedTo_MD591-N57-2015.09.21-17.13.29_MD591_1_0169_cropped_8_SC_denseScoreMap_setting_30.jpg\n"
     ]
    },
    {
     "name": "stderr",
     "output_type": "stream",
     "text": [
      "Child returned 0\n",
      "0.46 seconds.\n",
      "Child returned 0\n",
      "0.62 seconds.\n",
      "Child returned 0\n",
      "0.45 seconds.\n",
      "Child returned 0\n",
      "0.55 seconds.\n",
      "Child returned 0\n",
      "0.46 seconds.\n",
      "Child returned 0\n",
      "0.50 seconds.\n",
      "Child returned 0\n",
      "0.44 seconds.\n",
      "Visualize scoremaps: 22.40 seconds.\n"
     ]
    }
   ],
   "source": [
    "# for sec in range(200, 202):\n",
    "for sec in [270]:\n",
    "# for sec in range(first_sec, last_sec+1):\n",
    "    \n",
    "    if is_invalid(stack=stack, sec=sec):\n",
    "        continue\n",
    "\n",
    "    actual_setting = resolve_actual_setting(setting=classifier_id, stack=stack, sec=sec)\n",
    "\n",
    "    t = time.time()\n",
    "\n",
    "    def save_scoremap(structure):\n",
    "        viz_fp = DataManager.get_scoremap_viz_filepath(stack=stack, downscale=downscale, section=sec, structure=structure, setting=actual_setting)\n",
    "        create_parent_dir_if_not_exists(viz_fp)\n",
    "        try:\n",
    "            if add_label_text:\n",
    "                label_text = str(structure)\n",
    "            else:\n",
    "                label_text = None\n",
    "\n",
    "            viz = scoremap_overlay_on(bg='original', stack=stack, sec=sec, structure=structure,\n",
    "                                downscale=downscale, label_text=label_text, setting=actual_setting)\n",
    "            imsave(viz_fp, img_as_ubyte(viz))\n",
    "            upload_from_ec2_to_s3(viz_fp)\n",
    "        except Exception as e:\n",
    "            sys.stderr.write('%s\\n' % e)\n",
    "            return\n",
    "    \n",
    "    pool = Pool(NUM_CORES)\n",
    "    pool.map(save_scoremap, all_known_structures)\n",
    "    pool.close()\n",
    "    pool.join()\n",
    "\n",
    "    sys.stderr.write('Visualize scoremaps: %.2f seconds.\\n' % (time.time() - t)) \n",
    "    # 7s for one structure, one section, single process\n",
    "    # 20s for all structures, one section, 8 processes"
   ]
  },
  {
   "cell_type": "code",
   "execution_count": null,
   "metadata": {
    "collapsed": true
   },
   "outputs": [],
   "source": []
  }
 ],
 "metadata": {
  "kernelspec": {
   "display_name": "Python 2",
   "language": "python",
   "name": "python2"
  },
  "language_info": {
   "codemirror_mode": {
    "name": "ipython",
    "version": 2
   },
   "file_extension": ".py",
   "mimetype": "text/x-python",
   "name": "python",
   "nbconvert_exporter": "python",
   "pygments_lexer": "ipython2",
   "version": "2.7.12"
  }
 },
 "nbformat": 4,
 "nbformat_minor": 1
}
