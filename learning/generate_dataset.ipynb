{
 "cells": [
  {
   "cell_type": "code",
   "execution_count": 1,
   "metadata": {
    "collapsed": true
   },
   "outputs": [],
   "source": [
    "%reload_ext autoreload\n",
    "%autoreload 2"
   ]
  },
  {
   "cell_type": "code",
   "execution_count": 2,
   "metadata": {
    "scrolled": true
   },
   "outputs": [
    {
     "name": "stderr",
     "output_type": "stream",
     "text": [
      "/usr/local/lib/python2.7/dist-packages/matplotlib/__init__.py:1405: UserWarning: \n",
      "This call to matplotlib.use() has no effect because the backend has already\n",
      "been chosen; matplotlib.use() must be called *before* pylab, matplotlib.pyplot,\n",
      "or matplotlib.backends is imported for the first time.\n",
      "\n",
      "  warnings.warn(_use_error_msg)\n"
     ]
    },
    {
     "name": "stdout",
     "output_type": "stream",
     "text": [
      "Setting environment for AWS compute node\n"
     ]
    },
    {
     "name": "stderr",
     "output_type": "stream",
     "text": [
      "No vtk\n",
      "Child returned 0\n"
     ]
    },
    {
     "name": "stdout",
     "output_type": "stream",
     "text": [
      "rm -rf /shared/CSHL_data_processed/MD635/MD635_alignedTo_MD635-F63-2016.05.19-08.39.03_MD635_2_0188_cropbox.txt && mkdir -p /shared/CSHL_data_processed/MD635\n",
      "aws s3 cp s3://mousebrainatlas-data/CSHL_data_processed/MD635/MD635_alignedTo_MD635-F63-2016.05.19-08.39.03_MD635_2_0188_cropbox.txt /shared/CSHL_data_processed/MD635/MD635_alignedTo_MD635-F63-2016.05.19-08.39.03_MD635_2_0188_cropbox.txt\n"
     ]
    },
    {
     "name": "stderr",
     "output_type": "stream",
     "text": [
      "Child returned 1\n",
      "0.42 seconds.\n",
      "File does not exist: /shared/CSHL_data_processed/MD635/MD635_alignedTo_MD635-F63-2016.05.19-08.39.03_MD635_2_0188_cropbox.txt\n",
      "Child returned 0\n"
     ]
    },
    {
     "name": "stdout",
     "output_type": "stream",
     "text": [
      "rm -rf /shared/CSHL_data_processed/MD635/MD635_alignedTo_MD635-F63-2016.05.19-08.39.03_MD635_2_0188_cropbox.txt && mkdir -p /shared/CSHL_data_processed/MD635\n",
      "aws s3 cp s3://mousebrainatlas-data/CSHL_data_processed/MD635/MD635_alignedTo_MD635-F63-2016.05.19-08.39.03_MD635_2_0188_cropbox.txt /shared/CSHL_data_processed/MD635/MD635_alignedTo_MD635-F63-2016.05.19-08.39.03_MD635_2_0188_cropbox.txt\n"
     ]
    },
    {
     "name": "stderr",
     "output_type": "stream",
     "text": [
      "Child returned 1\n",
      "0.36 seconds.\n",
      "File does not exist: /shared/CSHL_data_processed/MD635/MD635_alignedTo_MD635-F63-2016.05.19-08.39.03_MD635_2_0188_cropbox.txt\n"
     ]
    }
   ],
   "source": [
    "import os\n",
    "import sys\n",
    "import time\n",
    "\n",
    "import matplotlib.pyplot as plt\n",
    "%matplotlib inline\n",
    "import numpy as np\n",
    "\n",
    "sys.path.append(os.path.join(os.environ['REPO_DIR'], 'utilities'))\n",
    "from utilities2015 import *\n",
    "from metadata import *\n",
    "from data_manager import *\n",
    "from learning_utilities import *"
   ]
  },
  {
   "cell_type": "code",
   "execution_count": 3,
   "metadata": {},
   "outputs": [
    {
     "data": {
      "text/html": [
       "<div>\n",
       "<style>\n",
       "    .dataframe thead tr:only-child th {\n",
       "        text-align: right;\n",
       "    }\n",
       "\n",
       "    .dataframe thead th {\n",
       "        text-align: left;\n",
       "    }\n",
       "\n",
       "    .dataframe tbody tr th {\n",
       "        vertical-align: top;\n",
       "    }\n",
       "</style>\n",
       "<table border=\"1\" class=\"dataframe\">\n",
       "  <thead>\n",
       "    <tr style=\"text-align: right;\">\n",
       "      <th></th>\n",
       "      <th>network_model</th>\n",
       "      <th>stain</th>\n",
       "      <th>margins</th>\n",
       "      <th>num_sample_per_class</th>\n",
       "      <th>stacks</th>\n",
       "      <th>cell_features_used</th>\n",
       "    </tr>\n",
       "    <tr>\n",
       "      <th>dataset_id</th>\n",
       "      <th></th>\n",
       "      <th></th>\n",
       "      <th></th>\n",
       "      <th></th>\n",
       "      <th></th>\n",
       "      <th></th>\n",
       "    </tr>\n",
       "  </thead>\n",
       "  <tbody>\n",
       "    <tr>\n",
       "      <th>20</th>\n",
       "      <td>Inception-BN</td>\n",
       "      <td>nissl</td>\n",
       "      <td>200/500</td>\n",
       "      <td>1000</td>\n",
       "      <td>MD585</td>\n",
       "      <td>NaN</td>\n",
       "    </tr>\n",
       "    <tr>\n",
       "      <th>21</th>\n",
       "      <td>Inception-BN</td>\n",
       "      <td>nissl</td>\n",
       "      <td>200/500</td>\n",
       "      <td>1000</td>\n",
       "      <td>MD589</td>\n",
       "      <td>NaN</td>\n",
       "    </tr>\n",
       "    <tr>\n",
       "      <th>22</th>\n",
       "      <td>Inception-BN</td>\n",
       "      <td>nissl</td>\n",
       "      <td>200/500</td>\n",
       "      <td>1000</td>\n",
       "      <td>MD594</td>\n",
       "      <td>NaN</td>\n",
       "    </tr>\n",
       "    <tr>\n",
       "      <th>90</th>\n",
       "      <td>NaN</td>\n",
       "      <td>nissl</td>\n",
       "      <td>500</td>\n",
       "      <td>1000</td>\n",
       "      <td>MD589</td>\n",
       "      <td>allSizeHist/huMomentsHist</td>\n",
       "    </tr>\n",
       "    <tr>\n",
       "      <th>92</th>\n",
       "      <td>NaN</td>\n",
       "      <td>nissl</td>\n",
       "      <td>500</td>\n",
       "      <td>1000</td>\n",
       "      <td>MD589</td>\n",
       "      <td>largeLargeLinkLenHist</td>\n",
       "    </tr>\n",
       "    <tr>\n",
       "      <th>93</th>\n",
       "      <td>NaN</td>\n",
       "      <td>nissl</td>\n",
       "      <td>500</td>\n",
       "      <td>1000</td>\n",
       "      <td>MD594</td>\n",
       "      <td>largeLargeLinkLenHist</td>\n",
       "    </tr>\n",
       "    <tr>\n",
       "      <th>94</th>\n",
       "      <td>NaN</td>\n",
       "      <td>nissl</td>\n",
       "      <td>500</td>\n",
       "      <td>1000</td>\n",
       "      <td>MD589</td>\n",
       "      <td>largeSizeHist</td>\n",
       "    </tr>\n",
       "    <tr>\n",
       "      <th>95</th>\n",
       "      <td>NaN</td>\n",
       "      <td>nissl</td>\n",
       "      <td>500</td>\n",
       "      <td>1000</td>\n",
       "      <td>MD594</td>\n",
       "      <td>largeSizeHist</td>\n",
       "    </tr>\n",
       "    <tr>\n",
       "      <th>96</th>\n",
       "      <td>NaN</td>\n",
       "      <td>nissl</td>\n",
       "      <td>500</td>\n",
       "      <td>1000</td>\n",
       "      <td>MD589</td>\n",
       "      <td>largeSizeHist/largeLargeLinkLenHist</td>\n",
       "    </tr>\n",
       "    <tr>\n",
       "      <th>97</th>\n",
       "      <td>NaN</td>\n",
       "      <td>nissl</td>\n",
       "      <td>500</td>\n",
       "      <td>1000</td>\n",
       "      <td>MD594</td>\n",
       "      <td>largeSizeHist/largeLargeLinkLenHist</td>\n",
       "    </tr>\n",
       "    <tr>\n",
       "      <th>98</th>\n",
       "      <td>NaN</td>\n",
       "      <td>nissl</td>\n",
       "      <td>500</td>\n",
       "      <td>1000</td>\n",
       "      <td>MD594</td>\n",
       "      <td>largeOrientationHist/largeSizeHist/largeLargeL...</td>\n",
       "    </tr>\n",
       "    <tr>\n",
       "      <th>99</th>\n",
       "      <td>NaN</td>\n",
       "      <td>nissl</td>\n",
       "      <td>500</td>\n",
       "      <td>1000</td>\n",
       "      <td>MD589</td>\n",
       "      <td>largeOrientationHist/largeSizeHist/largeLargeL...</td>\n",
       "    </tr>\n",
       "  </tbody>\n",
       "</table>\n",
       "</div>"
      ],
      "text/plain": [
       "           network_model  stain  margins  num_sample_per_class stacks  \\\n",
       "dataset_id                                                              \n",
       "20          Inception-BN  nissl  200/500                  1000  MD585   \n",
       "21          Inception-BN  nissl  200/500                  1000  MD589   \n",
       "22          Inception-BN  nissl  200/500                  1000  MD594   \n",
       "90                   NaN  nissl      500                  1000  MD589   \n",
       "92                   NaN  nissl      500                  1000  MD589   \n",
       "93                   NaN  nissl      500                  1000  MD594   \n",
       "94                   NaN  nissl      500                  1000  MD589   \n",
       "95                   NaN  nissl      500                  1000  MD594   \n",
       "96                   NaN  nissl      500                  1000  MD589   \n",
       "97                   NaN  nissl      500                  1000  MD594   \n",
       "98                   NaN  nissl      500                  1000  MD594   \n",
       "99                   NaN  nissl      500                  1000  MD589   \n",
       "\n",
       "                                           cell_features_used  \n",
       "dataset_id                                                     \n",
       "20                                                        NaN  \n",
       "21                                                        NaN  \n",
       "22                                                        NaN  \n",
       "90                                  allSizeHist/huMomentsHist  \n",
       "92                                      largeLargeLinkLenHist  \n",
       "93                                      largeLargeLinkLenHist  \n",
       "94                                              largeSizeHist  \n",
       "95                                              largeSizeHist  \n",
       "96                        largeSizeHist/largeLargeLinkLenHist  \n",
       "97                        largeSizeHist/largeLargeLinkLenHist  \n",
       "98          largeOrientationHist/largeSizeHist/largeLargeL...  \n",
       "99          largeOrientationHist/largeSizeHist/largeLargeL...  "
      ]
     },
     "execution_count": 3,
     "metadata": {},
     "output_type": "execute_result"
    }
   ],
   "source": [
    "dataset_settings"
   ]
  },
  {
   "cell_type": "code",
   "execution_count": 4,
   "metadata": {
    "collapsed": true
   },
   "outputs": [],
   "source": [
    "dataset_id = 20\n",
    "dataset_properties = dataset_settings.loc[dataset_id]\n",
    "\n",
    "num_samples_per_label = dataset_properties['num_sample_per_class']\n",
    "stacks = dataset_properties['stacks'].split('/')"
   ]
  },
  {
   "cell_type": "code",
   "execution_count": 5,
   "metadata": {
    "collapsed": true
   },
   "outputs": [],
   "source": [
    "structures_to_sample = all_known_structures\n",
    "\n",
    "# negative_labels_to_sample = [s + '_negative' for s in structures_to_sample]\n",
    "\n",
    "# margins_to_sample = map(int, str(dataset_properties['margins']).split('/'))\n",
    "margins_to_sample = [500]\n",
    "\n",
    "surround_positive_labels_to_sample = [convert_to_surround_name(s, margin=m, suffix=surr_l) \n",
    "                             for m in margins_to_sample\n",
    "                             for s in structures_to_sample \n",
    "                             for surr_l in structures_to_sample\n",
    "                             if surr_l != s]\n",
    "\n",
    "surround_noclass_labels_to_sample = [convert_to_surround_name(s, margin=m, suffix='noclass') \n",
    "                             for m in margins_to_sample\n",
    "                             for s in structures_to_sample]\n",
    "\n",
    "labels_to_sample = structures_to_sample + \\\n",
    "surround_positive_labels_to_sample + surround_noclass_labels_to_sample + \\\n",
    "['noclass']"
   ]
  },
  {
   "cell_type": "code",
   "execution_count": 11,
   "metadata": {},
   "outputs": [
    {
     "name": "stderr",
     "output_type": "stream",
     "text": [
      "Read: 2.65 seconds\n",
      "Cell is empty.\n",
      "Cell is empty.\n",
      "Sample addresses (stack MD585): 4. seconds.\n",
      "Sample addresses: 6.96 seconds\n"
     ]
    }
   ],
   "source": [
    "addresses = generate_patch_dataset(num_samples_per_label=num_samples_per_label, \n",
    "                                                     stacks=stacks,\n",
    "                                                     labels_to_sample=labels_to_sample)"
   ]
  },
  {
   "cell_type": "markdown",
   "metadata": {},
   "source": [
    "# Load Features"
   ]
  },
  {
   "cell_type": "code",
   "execution_count": null,
   "metadata": {
    "scrolled": true
   },
   "outputs": [],
   "source": [
    "features, addresses, labels_found = generate_dataset(num_samples_per_label=num_samples_per_label, \n",
    "                                                     stacks=stacks,\n",
    "                                                     labels_to_sample=labels_to_sample)"
   ]
  },
  {
   "cell_type": "code",
   "execution_count": null,
   "metadata": {
    "collapsed": true
   },
   "outputs": [],
   "source": [
    "# for label in sorted(features.iterkeys()):\n",
    "#     print label, len(addresses[label])"
   ]
  },
  {
   "cell_type": "code",
   "execution_count": null,
   "metadata": {
    "collapsed": true
   },
   "outputs": [],
   "source": [
    "# Save training features\n",
    "features_fp = os.path.join(CLF_ROOTDIR, 'datasets', 'dataset_%d' % dataset_id, 'patch_features.hdf')\n",
    "create_parent_dir_if_not_exists(features_fp)\n",
    "save_hdf_v2(features, features_fp)\n",
    "upload_from_ec2_to_s3(features_fp)\n",
    "# train_feat_dir = create_if_not_exists(os.path.join(CLF_ROOTDIR, 'datasets', 'dataset_%d' % dataset, 'patch_features'))\n",
    "# for label, feats in training_features.iteritems():\n",
    "#     bp.pack_ndarray_file(feats, os.path.join(train_feat_dir, label + '.bp'))\n",
    "\n",
    "# Save training addresses\n",
    "addresses_fp = os.path.join(CLF_ROOTDIR, 'datasets', 'dataset_%d' % dataset_id, 'patch_addresses.pkl')\n",
    "save_pickle(addresses, addresses_fp)\n",
    "upload_from_ec2_to_s3(addresses_fp)"
   ]
  },
  {
   "cell_type": "markdown",
   "metadata": {},
   "source": [
    "# Gather patches"
   ]
  },
  {
   "cell_type": "code",
   "execution_count": 7,
   "metadata": {},
   "outputs": [
    {
     "name": "stdout",
     "output_type": "stream",
     "text": [
      "mkdir: cannot create directory ‘/tmp/patches_dataset_20’: File exists\r\n"
     ]
    }
   ],
   "source": [
    "! mkdir /tmp/patches_dataset_20"
   ]
  },
  {
   "cell_type": "code",
   "execution_count": 20,
   "metadata": {},
   "outputs": [],
   "source": [
    "patches = apply_function_to_dict(lambda addrs: extract_patches_given_locations_multiple_sections(addrs, 'grid_index', version='cropped_gray'), \n",
    "                   addresses)"
   ]
  },
  {
   "cell_type": "code",
   "execution_count": 23,
   "metadata": {
    "scrolled": true
   },
   "outputs": [
    {
     "name": "stdout",
     "output_type": "stream",
     "text": [
      "Amb_surround_500_7N\n",
      "12N_surround_500_AP\n",
      "SNC_surround_500_SNR\n",
      "SNR_surround_500_SNC\n",
      "SNR_surround_500_PBG\n",
      "5N\n",
      "Sp5I_surround_500_Sp5C\n",
      "VCP_surround_500_noclass\n",
      "Sp5I_surround_500_Sp5O\n",
      "6N_surround_500_7n\n",
      "12N\n",
      "3N_surround_500_noclass\n",
      "LRt_surround_500_Amb\n",
      "Sp5O\n",
      "Pn_surround_500_noclass\n",
      "Sp5I\n",
      "VCA_surround_500_noclass\n",
      "Sp5C\n",
      "3N_surround_500_4N\n",
      "SNC\n",
      "SC_surround_500_IC\n",
      "LC_surround_500_noclass\n",
      "4N_surround_500_3N\n",
      "DC_surround_500_VCA\n",
      "SNR\n",
      "DC_surround_500_VCP\n",
      "noclass\n",
      "SNC_surround_500_noclass\n",
      "RtTg\n",
      "Pn\n",
      "10N\n",
      "VLL\n",
      "RtTg_surround_500_Tz\n",
      "IC_surround_500_noclass\n",
      "PBG_surround_500_noclass\n",
      "12N_surround_500_noclass\n",
      "Pn_surround_500_Tz\n",
      "PBG_surround_500_SNR\n",
      "Sp5O_surround_500_Sp5I\n",
      "PBG\n",
      "LRt\n",
      "RMC_surround_500_SNR\n",
      "SNR_surround_500_RMC\n",
      "Sp5C_surround_500_noclass\n",
      "AP_surround_500_10N\n",
      "7N_surround_500_Amb\n",
      "5N_surround_500_noclass\n",
      "RtTg_surround_500_noclass\n",
      "Pn_surround_500_RtTg\n",
      "VCA_surround_500_DC\n",
      "7n_surround_500_5N\n",
      "Sp5I_surround_500_noclass\n",
      "AP_surround_500_12N\n",
      "Amb\n",
      "RMC\n",
      "7n_surround_500_6N\n",
      "10N_surround_500_12N\n",
      "SNR_surround_500_VLL\n",
      "RMC_surround_500_noclass\n",
      "SNR_surround_500_noclass\n",
      "4N\n",
      "10N_surround_500_noclass\n",
      "6N\n",
      "Amb_surround_500_noclass\n",
      "SC\n",
      "VCP_surround_500_DC\n",
      "Amb_surround_500_LRt\n",
      "3N\n",
      "10N_surround_500_AP\n",
      "Tz\n",
      "VCA_surround_500_VCP\n",
      "7n\n",
      "DC\n",
      "VCP_surround_500_VCA\n",
      "AP_surround_500_noclass\n",
      "6N_surround_500_noclass\n",
      "LC\n",
      "12N_surround_500_10N\n",
      "7N\n",
      "SC_surround_500_noclass\n",
      "RtTg_surround_500_Pn\n",
      "4N_surround_500_noclass\n",
      "DC_surround_500_noclass\n",
      "VCA\n",
      "Tz_surround_500_Pn\n",
      "7N_surround_500_noclass\n",
      "VLL_surround_500_SNR\n",
      "Tz_surround_500_RtTg\n",
      "VCP\n",
      "AP\n",
      "VLL_surround_500_noclass\n",
      "IC\n",
      "Tz_surround_500_noclass\n",
      "LRt_surround_500_noclass\n",
      "IC_surround_500_SC\n",
      "7n_surround_500_noclass\n",
      "Sp5O_surround_500_noclass\n",
      "Sp5C_surround_500_Sp5I\n"
     ]
    }
   ],
   "source": [
    "for label, ps in patches.iteritems():\n",
    "    print label\n",
    "    bp.pack_ndarray_file(np.array(ps), '/tmp/patches_dataset_20/%s.bp' % label)"
   ]
  },
  {
   "cell_type": "code",
   "execution_count": 24,
   "metadata": {},
   "outputs": [
    {
     "name": "stdout",
     "output_type": "stream",
     "text": [
      "upload: ../../../tmp/patches_dataset_20/10N_surround_500_AP.bp to s3://mousebrainatlas-data/patches_dataset_20/10N_surround_500_AP.bp\n",
      "upload: ../../../tmp/patches_dataset_20/10N.bp to s3://mousebrainatlas-data/patches_dataset_20/10N.bp\n",
      "upload: ../../../tmp/patches_dataset_20/10N_surround_500_12N.bp to s3://mousebrainatlas-data/patches_dataset_20/10N_surround_500_12N.bp\n",
      "upload: ../../../tmp/patches_dataset_20/10N_surround_500_noclass.bp to s3://mousebrainatlas-data/patches_dataset_20/10N_surround_500_noclass.bp\n",
      "upload: ../../../tmp/patches_dataset_20/12N.bp to s3://mousebrainatlas-data/patches_dataset_20/12N.bp\n",
      "upload: ../../../tmp/patches_dataset_20/12N_surround_500_AP.bp to s3://mousebrainatlas-data/patches_dataset_20/12N_surround_500_AP.bp\n",
      "upload: ../../../tmp/patches_dataset_20/12N_surround_500_10N.bp to s3://mousebrainatlas-data/patches_dataset_20/12N_surround_500_10N.bp\n",
      "upload: ../../../tmp/patches_dataset_20/12N_surround_500_noclass.bp to s3://mousebrainatlas-data/patches_dataset_20/12N_surround_500_noclass.bp\n",
      "upload: ../../../tmp/patches_dataset_20/3N_surround_500_4N.bp to s3://mousebrainatlas-data/patches_dataset_20/3N_surround_500_4N.bp\n",
      "upload: ../../../tmp/patches_dataset_20/3N.bp to s3://mousebrainatlas-data/patches_dataset_20/3N.bp\n",
      "upload: ../../../tmp/patches_dataset_20/3N_surround_500_noclass.bp to s3://mousebrainatlas-data/patches_dataset_20/3N_surround_500_noclass.bp\n",
      "upload: ../../../tmp/patches_dataset_20/4N.bp to s3://mousebrainatlas-data/patches_dataset_20/4N.bp\n",
      "upload: ../../../tmp/patches_dataset_20/4N_surround_500_3N.bp to s3://mousebrainatlas-data/patches_dataset_20/4N_surround_500_3N.bp\n",
      "upload: ../../../tmp/patches_dataset_20/4N_surround_500_noclass.bp to s3://mousebrainatlas-data/patches_dataset_20/4N_surround_500_noclass.bp\n",
      "upload: ../../../tmp/patches_dataset_20/5N.bp to s3://mousebrainatlas-data/patches_dataset_20/5N.bp\n",
      "upload: ../../../tmp/patches_dataset_20/6N_surround_500_7n.bp to s3://mousebrainatlas-data/patches_dataset_20/6N_surround_500_7n.bp\n",
      "upload: ../../../tmp/patches_dataset_20/5N_surround_500_noclass.bp to s3://mousebrainatlas-data/patches_dataset_20/5N_surround_500_noclass.bp\n",
      "upload: ../../../tmp/patches_dataset_20/6N.bp to s3://mousebrainatlas-data/patches_dataset_20/6N.bp\n",
      "upload: ../../../tmp/patches_dataset_20/7N_surround_500_Amb.bp to s3://mousebrainatlas-data/patches_dataset_20/7N_surround_500_Amb.bp\n",
      "upload: ../../../tmp/patches_dataset_20/6N_surround_500_noclass.bp to s3://mousebrainatlas-data/patches_dataset_20/6N_surround_500_noclass.bp\n",
      "upload: ../../../tmp/patches_dataset_20/7N.bp to s3://mousebrainatlas-data/patches_dataset_20/7N.bp\n",
      "upload: ../../../tmp/patches_dataset_20/7n_surround_500_5N.bp to s3://mousebrainatlas-data/patches_dataset_20/7n_surround_500_5N.bp\n",
      "upload: ../../../tmp/patches_dataset_20/7N_surround_500_noclass.bp to s3://mousebrainatlas-data/patches_dataset_20/7N_surround_500_noclass.bp\n",
      "upload: ../../../tmp/patches_dataset_20/7n.bp to s3://mousebrainatlas-data/patches_dataset_20/7n.bp\n",
      "upload: ../../../tmp/patches_dataset_20/7n_surround_500_6N.bp to s3://mousebrainatlas-data/patches_dataset_20/7n_surround_500_6N.bp\n",
      "upload: ../../../tmp/patches_dataset_20/7n_surround_500_noclass.bp to s3://mousebrainatlas-data/patches_dataset_20/7n_surround_500_noclass.bp\n",
      "upload: ../../../tmp/patches_dataset_20/AP_surround_500_10N.bp to s3://mousebrainatlas-data/patches_dataset_20/AP_surround_500_10N.bp\n",
      "upload: ../../../tmp/patches_dataset_20/AP_surround_500_12N.bp to s3://mousebrainatlas-data/patches_dataset_20/AP_surround_500_12N.bp\n",
      "upload: ../../../tmp/patches_dataset_20/AP.bp to s3://mousebrainatlas-data/patches_dataset_20/AP.bp\n",
      "upload: ../../../tmp/patches_dataset_20/Amb_surround_500_LRt.bp to s3://mousebrainatlas-data/patches_dataset_20/Amb_surround_500_LRt.bp\n",
      "upload: ../../../tmp/patches_dataset_20/Amb_surround_500_7N.bp to s3://mousebrainatlas-data/patches_dataset_20/Amb_surround_500_7N.bp\n",
      "upload: ../../../tmp/patches_dataset_20/AP_surround_500_noclass.bp to s3://mousebrainatlas-data/patches_dataset_20/AP_surround_500_noclass.bp\n",
      "upload: ../../../tmp/patches_dataset_20/Amb.bp to s3://mousebrainatlas-data/patches_dataset_20/Amb.bp\n",
      "upload: ../../../tmp/patches_dataset_20/Amb_surround_500_noclass.bp to s3://mousebrainatlas-data/patches_dataset_20/Amb_surround_500_noclass.bp\n",
      "upload: ../../../tmp/patches_dataset_20/DC.bp to s3://mousebrainatlas-data/patches_dataset_20/DC.bp\n",
      "upload: ../../../tmp/patches_dataset_20/DC_surround_500_VCA.bp to s3://mousebrainatlas-data/patches_dataset_20/DC_surround_500_VCA.bp\n",
      "upload: ../../../tmp/patches_dataset_20/DC_surround_500_VCP.bp to s3://mousebrainatlas-data/patches_dataset_20/DC_surround_500_VCP.bp\n",
      "upload: ../../../tmp/patches_dataset_20/DC_surround_500_noclass.bp to s3://mousebrainatlas-data/patches_dataset_20/DC_surround_500_noclass.bp\n",
      "upload: ../../../tmp/patches_dataset_20/IC.bp to s3://mousebrainatlas-data/patches_dataset_20/IC.bp\n",
      "upload: ../../../tmp/patches_dataset_20/IC_surround_500_SC.bp to s3://mousebrainatlas-data/patches_dataset_20/IC_surround_500_SC.bp\n",
      "upload: ../../../tmp/patches_dataset_20/IC_surround_500_noclass.bp to s3://mousebrainatlas-data/patches_dataset_20/IC_surround_500_noclass.bp\n",
      "upload: ../../../tmp/patches_dataset_20/LC.bp to s3://mousebrainatlas-data/patches_dataset_20/LC.bp\n",
      "upload: ../../../tmp/patches_dataset_20/LRt_surround_500_Amb.bp to s3://mousebrainatlas-data/patches_dataset_20/LRt_surround_500_Amb.bp\n",
      "upload: ../../../tmp/patches_dataset_20/LC_surround_500_noclass.bp to s3://mousebrainatlas-data/patches_dataset_20/LC_surround_500_noclass.bp\n",
      "upload: ../../../tmp/patches_dataset_20/LRt.bp to s3://mousebrainatlas-data/patches_dataset_20/LRt.bp\n",
      "upload: ../../../tmp/patches_dataset_20/PBG_surround_500_SNR.bp to s3://mousebrainatlas-data/patches_dataset_20/PBG_surround_500_SNR.bp\n",
      "upload: ../../../tmp/patches_dataset_20/LRt_surround_500_noclass.bp to s3://mousebrainatlas-data/patches_dataset_20/LRt_surround_500_noclass.bp\n",
      "upload: ../../../tmp/patches_dataset_20/PBG.bp to s3://mousebrainatlas-data/patches_dataset_20/PBG.bp\n",
      "upload: ../../../tmp/patches_dataset_20/PBG_surround_500_noclass.bp to s3://mousebrainatlas-data/patches_dataset_20/PBG_surround_500_noclass.bp\n",
      "upload: ../../../tmp/patches_dataset_20/Pn_surround_500_Tz.bp to s3://mousebrainatlas-data/patches_dataset_20/Pn_surround_500_Tz.bp\n",
      "upload: ../../../tmp/patches_dataset_20/Pn.bp to s3://mousebrainatlas-data/patches_dataset_20/Pn.bp\n",
      "upload: ../../../tmp/patches_dataset_20/Pn_surround_500_RtTg.bp to s3://mousebrainatlas-data/patches_dataset_20/Pn_surround_500_RtTg.bp\n",
      "upload: ../../../tmp/patches_dataset_20/RMC_surround_500_SNR.bp to s3://mousebrainatlas-data/patches_dataset_20/RMC_surround_500_SNR.bp\n",
      "upload: ../../../tmp/patches_dataset_20/Pn_surround_500_noclass.bp to s3://mousebrainatlas-data/patches_dataset_20/Pn_surround_500_noclass.bp\n",
      "upload: ../../../tmp/patches_dataset_20/RMC.bp to s3://mousebrainatlas-data/patches_dataset_20/RMC.bp\n",
      "upload: ../../../tmp/patches_dataset_20/RMC_surround_500_noclass.bp to s3://mousebrainatlas-data/patches_dataset_20/RMC_surround_500_noclass.bp\n",
      "upload: ../../../tmp/patches_dataset_20/RtTg.bp to s3://mousebrainatlas-data/patches_dataset_20/RtTg.bp\n",
      "upload: ../../../tmp/patches_dataset_20/RtTg_surround_500_Pn.bp to s3://mousebrainatlas-data/patches_dataset_20/RtTg_surround_500_Pn.bp\n",
      "upload: ../../../tmp/patches_dataset_20/RtTg_surround_500_Tz.bp to s3://mousebrainatlas-data/patches_dataset_20/RtTg_surround_500_Tz.bp\n",
      "upload: ../../../tmp/patches_dataset_20/RtTg_surround_500_noclass.bp to s3://mousebrainatlas-data/patches_dataset_20/RtTg_surround_500_noclass.bp\n",
      "upload: ../../../tmp/patches_dataset_20/SC.bp to s3://mousebrainatlas-data/patches_dataset_20/SC.bp\n",
      "upload: ../../../tmp/patches_dataset_20/SC_surround_500_IC.bp to s3://mousebrainatlas-data/patches_dataset_20/SC_surround_500_IC.bp\n",
      "upload: ../../../tmp/patches_dataset_20/SC_surround_500_noclass.bp to s3://mousebrainatlas-data/patches_dataset_20/SC_surround_500_noclass.bp\n",
      "upload: ../../../tmp/patches_dataset_20/SNC.bp to s3://mousebrainatlas-data/patches_dataset_20/SNC.bp\n",
      "upload: ../../../tmp/patches_dataset_20/SNC_surround_500_SNR.bp to s3://mousebrainatlas-data/patches_dataset_20/SNC_surround_500_SNR.bp\n"
     ]
    },
    {
     "name": "stdout",
     "output_type": "stream",
     "text": [
      "upload: ../../../tmp/patches_dataset_20/SNR_surround_500_RMC.bp to s3://mousebrainatlas-data/patches_dataset_20/SNR_surround_500_RMC.bp\n",
      "upload: ../../../tmp/patches_dataset_20/SNR_surround_500_PBG.bp to s3://mousebrainatlas-data/patches_dataset_20/SNR_surround_500_PBG.bp\n",
      "upload: ../../../tmp/patches_dataset_20/SNR_surround_500_VLL.bp to s3://mousebrainatlas-data/patches_dataset_20/SNR_surround_500_VLL.bp\n",
      "upload: ../../../tmp/patches_dataset_20/SNC_surround_500_noclass.bp to s3://mousebrainatlas-data/patches_dataset_20/SNC_surround_500_noclass.bp\n",
      "upload: ../../../tmp/patches_dataset_20/SNR.bp to s3://mousebrainatlas-data/patches_dataset_20/SNR.bp\n",
      "upload: ../../../tmp/patches_dataset_20/SNR_surround_500_SNC.bp to s3://mousebrainatlas-data/patches_dataset_20/SNR_surround_500_SNC.bp\n",
      "upload: ../../../tmp/patches_dataset_20/SNR_surround_500_noclass.bp to s3://mousebrainatlas-data/patches_dataset_20/SNR_surround_500_noclass.bp\n",
      "upload: ../../../tmp/patches_dataset_20/Sp5C.bp to s3://mousebrainatlas-data/patches_dataset_20/Sp5C.bp\n",
      "upload: ../../../tmp/patches_dataset_20/Sp5C_surround_500_Sp5I.bp to s3://mousebrainatlas-data/patches_dataset_20/Sp5C_surround_500_Sp5I.bp\n",
      "upload: ../../../tmp/patches_dataset_20/Sp5C_surround_500_noclass.bp to s3://mousebrainatlas-data/patches_dataset_20/Sp5C_surround_500_noclass.bp\n",
      "upload: ../../../tmp/patches_dataset_20/Sp5I.bp to s3://mousebrainatlas-data/patches_dataset_20/Sp5I.bp\n",
      "upload: ../../../tmp/patches_dataset_20/Sp5I_surround_500_noclass.bp to s3://mousebrainatlas-data/patches_dataset_20/Sp5I_surround_500_noclass.bp\n",
      "upload: ../../../tmp/patches_dataset_20/Sp5O.bp to s3://mousebrainatlas-data/patches_dataset_20/Sp5O.bp\n",
      "upload: ../../../tmp/patches_dataset_20/Sp5I_surround_500_Sp5C.bp to s3://mousebrainatlas-data/patches_dataset_20/Sp5I_surround_500_Sp5C.bp\n",
      "upload: ../../../tmp/patches_dataset_20/Sp5I_surround_500_Sp5O.bp to s3://mousebrainatlas-data/patches_dataset_20/Sp5I_surround_500_Sp5O.bp\n",
      "upload: ../../../tmp/patches_dataset_20/Sp5O_surround_500_Sp5I.bp to s3://mousebrainatlas-data/patches_dataset_20/Sp5O_surround_500_Sp5I.bp\n",
      "upload: ../../../tmp/patches_dataset_20/Sp5O_surround_500_noclass.bp to s3://mousebrainatlas-data/patches_dataset_20/Sp5O_surround_500_noclass.bp\n",
      "upload: ../../../tmp/patches_dataset_20/Tz.bp to s3://mousebrainatlas-data/patches_dataset_20/Tz.bp\n",
      "upload: ../../../tmp/patches_dataset_20/Tz_surround_500_Pn.bp to s3://mousebrainatlas-data/patches_dataset_20/Tz_surround_500_Pn.bp\n",
      "upload: ../../../tmp/patches_dataset_20/Tz_surround_500_RtTg.bp to s3://mousebrainatlas-data/patches_dataset_20/Tz_surround_500_RtTg.bp\n",
      "upload: ../../../tmp/patches_dataset_20/Tz_surround_500_noclass.bp to s3://mousebrainatlas-data/patches_dataset_20/Tz_surround_500_noclass.bp\n",
      "upload: ../../../tmp/patches_dataset_20/VCA.bp to s3://mousebrainatlas-data/patches_dataset_20/VCA.bp\n",
      "upload: ../../../tmp/patches_dataset_20/VCA_surround_500_DC.bp to s3://mousebrainatlas-data/patches_dataset_20/VCA_surround_500_DC.bp\n",
      "upload: ../../../tmp/patches_dataset_20/VCA_surround_500_VCP.bp to s3://mousebrainatlas-data/patches_dataset_20/VCA_surround_500_VCP.bp\n",
      "upload: ../../../tmp/patches_dataset_20/VCA_surround_500_noclass.bp to s3://mousebrainatlas-data/patches_dataset_20/VCA_surround_500_noclass.bp\n",
      "upload: ../../../tmp/patches_dataset_20/VCP.bp to s3://mousebrainatlas-data/patches_dataset_20/VCP.bp\n",
      "upload: ../../../tmp/patches_dataset_20/VCP_surround_500_DC.bp to s3://mousebrainatlas-data/patches_dataset_20/VCP_surround_500_DC.bp\n",
      "upload: ../../../tmp/patches_dataset_20/VCP_surround_500_VCA.bp to s3://mousebrainatlas-data/patches_dataset_20/VCP_surround_500_VCA.bp\n",
      "upload: ../../../tmp/patches_dataset_20/VLL_surround_500_SNR.bp to s3://mousebrainatlas-data/patches_dataset_20/VLL_surround_500_SNR.bp\n",
      "upload: ../../../tmp/patches_dataset_20/VCP_surround_500_noclass.bp to s3://mousebrainatlas-data/patches_dataset_20/VCP_surround_500_noclass.bp\n",
      "upload: ../../../tmp/patches_dataset_20/VLL.bp to s3://mousebrainatlas-data/patches_dataset_20/VLL.bp\n",
      "upload: ../../../tmp/patches_dataset_20/VLL_surround_500_noclass.bp to s3://mousebrainatlas-data/patches_dataset_20/VLL_surround_500_noclass.bp\n",
      "upload: ../../../tmp/patches_dataset_20/noclass.bp to s3://mousebrainatlas-data/patches_dataset_20/noclass.bp\n"
     ]
    }
   ],
   "source": [
    "! aws s3 cp --recursive /tmp/patches_dataset_20/ s3://mousebrainatlas-data/patches_dataset_20"
   ]
  }
 ],
 "metadata": {
  "kernelspec": {
   "display_name": "Python 2",
   "language": "python",
   "name": "python2"
  },
  "language_info": {
   "codemirror_mode": {
    "name": "ipython",
    "version": 2
   },
   "file_extension": ".py",
   "mimetype": "text/x-python",
   "name": "python",
   "nbconvert_exporter": "python",
   "pygments_lexer": "ipython2",
   "version": "2.7.12"
  }
 },
 "nbformat": 4,
 "nbformat_minor": 2
}
