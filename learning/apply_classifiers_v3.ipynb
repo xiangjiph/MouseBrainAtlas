{
 "cells": [
  {
   "cell_type": "code",
   "execution_count": 1,
   "metadata": {
    "scrolled": true
   },
   "outputs": [
    {
     "name": "stdout",
     "output_type": "stream",
     "text": [
      "Setting environment for AWS compute node\n"
     ]
    },
    {
     "name": "stderr",
     "output_type": "stream",
     "text": [
      "No vtk\n",
      "File does not exist: /shared/CSHL_data_processed/MD585/MD585_anchor.txt\n",
      "File does not exist: /shared/CSHL_data_processed/MD585/MD585_sorted_filenames.txt\n",
      "File does not exist: /shared/CSHL_data_processed/MD585/MD585_cropbox.txt\n",
      "File does not exist: /shared/CSHL_data_processed/MD585/MD585_cropbox.txt\n",
      "File does not exist: /shared/CSHL_data_processed/MD589/MD589_anchor.txt\n",
      "File does not exist: /shared/CSHL_data_processed/MD589/MD589_sorted_filenames.txt\n",
      "File does not exist: /shared/CSHL_data_processed/MD589/MD589_cropbox.txt\n",
      "File does not exist: /shared/CSHL_data_processed/MD589/MD589_cropbox.txt\n",
      "File does not exist: /shared/CSHL_data_processed/MD590/MD590_anchor.txt\n",
      "File does not exist: /shared/CSHL_data_processed/MD590/MD590_sorted_filenames.txt\n",
      "File does not exist: /shared/CSHL_data_processed/MD590/MD590_cropbox.txt\n",
      "File does not exist: /shared/CSHL_data_processed/MD590/MD590_cropbox.txt\n",
      "File does not exist: /shared/CSHL_data_processed/MD591/MD591_anchor.txt\n",
      "File does not exist: /shared/CSHL_data_processed/MD591/MD591_sorted_filenames.txt\n",
      "File does not exist: /shared/CSHL_data_processed/MD592/MD592_anchor.txt\n",
      "File does not exist: /shared/CSHL_data_processed/MD592/MD592_sorted_filenames.txt\n",
      "File does not exist: /shared/CSHL_data_processed/MD592/MD592_cropbox.txt\n",
      "File does not exist: /shared/CSHL_data_processed/MD592/MD592_cropbox.txt\n",
      "File does not exist: /shared/CSHL_data_processed/MD593/MD593_anchor.txt\n",
      "File does not exist: /shared/CSHL_data_processed/MD593/MD593_sorted_filenames.txt\n",
      "File does not exist: /shared/CSHL_data_processed/MD593/MD593_cropbox.txt\n",
      "File does not exist: /shared/CSHL_data_processed/MD593/MD593_cropbox.txt\n",
      "File does not exist: /shared/CSHL_data_processed/MD594/MD594_anchor.txt\n",
      "File does not exist: /shared/CSHL_data_processed/MD594/MD594_sorted_filenames.txt\n",
      "File does not exist: /shared/CSHL_data_processed/MD594/MD594_cropbox.txt\n",
      "File does not exist: /shared/CSHL_data_processed/MD594/MD594_cropbox.txt\n",
      "File does not exist: /shared/CSHL_data_processed/MD595/MD595_anchor.txt\n",
      "File does not exist: /shared/CSHL_data_processed/MD595/MD595_sorted_filenames.txt\n",
      "File does not exist: /shared/CSHL_data_processed/MD595/MD595_cropbox.txt\n",
      "File does not exist: /shared/CSHL_data_processed/MD595/MD595_cropbox.txt\n",
      "File does not exist: /shared/CSHL_data_processed/MD598/MD598_anchor.txt\n",
      "File does not exist: /shared/CSHL_data_processed/MD598/MD598_sorted_filenames.txt\n",
      "File does not exist: /shared/CSHL_data_processed/MD598/MD598_cropbox.txt\n",
      "File does not exist: /shared/CSHL_data_processed/MD598/MD598_cropbox.txt\n",
      "File does not exist: /shared/CSHL_data_processed/MD599/MD599_anchor.txt\n",
      "File does not exist: /shared/CSHL_data_processed/MD599/MD599_sorted_filenames.txt\n",
      "File does not exist: /shared/CSHL_data_processed/MD599/MD599_cropbox.txt\n",
      "File does not exist: /shared/CSHL_data_processed/MD599/MD599_cropbox.txt\n",
      "File does not exist: /shared/CSHL_data_processed/MD602/MD602_anchor.txt\n",
      "File does not exist: /shared/CSHL_data_processed/MD602/MD602_sorted_filenames.txt\n",
      "File does not exist: /shared/CSHL_data_processed/MD602/MD602_cropbox.txt\n",
      "File does not exist: /shared/CSHL_data_processed/MD602/MD602_cropbox.txt\n",
      "File does not exist: /shared/CSHL_data_processed/MD603/MD603_anchor.txt\n",
      "File does not exist: /shared/CSHL_data_processed/MD603/MD603_sorted_filenames.txt\n",
      "File does not exist: /shared/CSHL_data_processed/MD603/MD603_cropbox.txt\n",
      "File does not exist: /shared/CSHL_data_processed/MD603/MD603_cropbox.txt\n",
      "File does not exist: /shared/CSHL_data_processed/MD635/MD635_anchor.txt\n",
      "File does not exist: /shared/CSHL_data_processed/MD635/MD635_sorted_filenames.txt\n",
      "File does not exist: /shared/CSHL_data_processed/MD635/MD635_cropbox.txt\n",
      "File does not exist: /shared/CSHL_data_processed/MD635/MD635_cropbox.txt\n",
      "File does not exist: /shared/CSHL_data_processed/MD653/MD653_anchor.txt\n",
      "File does not exist: /shared/CSHL_data_processed/MD653/MD653_sorted_filenames.txt\n",
      "File does not exist: /shared/CSHL_data_processed/MD653/MD653_cropbox.txt\n",
      "File does not exist: /shared/CSHL_data_processed/MD653/MD653_cropbox.txt\n",
      "File does not exist: /shared/CSHL_data_processed/MD652/MD652_anchor.txt\n",
      "File does not exist: /shared/CSHL_data_processed/MD652/MD652_sorted_filenames.txt\n",
      "File does not exist: /shared/CSHL_data_processed/MD652/MD652_cropbox.txt\n",
      "File does not exist: /shared/CSHL_data_processed/MD652/MD652_cropbox.txt\n",
      "File does not exist: /shared/CSHL_data_processed/MD642/MD642_anchor.txt\n",
      "File does not exist: /shared/CSHL_data_processed/MD642/MD642_sorted_filenames.txt\n",
      "File does not exist: /shared/CSHL_data_processed/MD642/MD642_cropbox.txt\n",
      "File does not exist: /shared/CSHL_data_processed/MD642/MD642_cropbox.txt\n",
      "File does not exist: /shared/CSHL_data_processed/MD657/MD657_anchor.txt\n",
      "File does not exist: /shared/CSHL_data_processed/MD657/MD657_sorted_filenames.txt\n",
      "File does not exist: /shared/CSHL_data_processed/MD657/MD657_cropbox.txt\n",
      "File does not exist: /shared/CSHL_data_processed/MD657/MD657_cropbox.txt\n"
     ]
    }
   ],
   "source": [
    "%reload_ext autoreload\n",
    "%autoreload 2\n",
    "\n",
    "import os\n",
    "import argparse\n",
    "import sys\n",
    "import time\n",
    "\n",
    "import numpy as np\n",
    "from multiprocess import Pool\n",
    "\n",
    "sys.path.append(os.path.join(os.environ['REPO_DIR'], 'utilities'))\n",
    "from utilities2015 import *\n",
    "from metadata import *\n",
    "from data_manager import *\n",
    "from learning_utilities import *"
   ]
  },
  {
   "cell_type": "code",
   "execution_count": 2,
   "metadata": {},
   "outputs": [
    {
     "name": "stdout",
     "output_type": "stream",
     "text": [
      "rm -rf /shared/CSHL_data_processed/MD591/MD591_cropbox.txt && mkdir -p /shared/CSHL_data_processed/MD591\n",
      "aws s3 cp s3://mousebrainatlas-data/CSHL_data_processed/MD591/MD591_cropbox.txt /shared/CSHL_data_processed/MD591/MD591_cropbox.txt\n"
     ]
    },
    {
     "name": "stderr",
     "output_type": "stream",
     "text": [
      "Child returned 0\n",
      "Child returned 0\n",
      "0.48 seconds.\n"
     ]
    }
   ],
   "source": [
    "stack = 'MD591'\n",
    "first_sec, last_sec = metadata_cache['section_limits'][stack]"
   ]
  },
  {
   "cell_type": "code",
   "execution_count": 3,
   "metadata": {
    "collapsed": true
   },
   "outputs": [],
   "source": [
    "classifier_id = 30"
   ]
  },
  {
   "cell_type": "code",
   "execution_count": null,
   "metadata": {
    "collapsed": true
   },
   "outputs": [],
   "source": [
    "if classifier_id == 12:\n",
    "    available_classifiers = {2: DataManager.load_classifiers(setting=2),\n",
    "                             10: DataManager.load_classifiers(setting=10)}\n",
    "else:\n",
    "    available_classifiers = {classifier_id: DataManager.load_classifiers(setting=classifier_id)}"
   ]
  },
  {
   "cell_type": "code",
   "execution_count": 15,
   "metadata": {
    "collapsed": true
   },
   "outputs": [],
   "source": [
    "def clf_predict(stack, sec, model_name='Inception-BN'):\n",
    "    \n",
    "    if is_invalid(stack=stack, sec=sec):\n",
    "        return\n",
    "\n",
    "    try:\n",
    "        features = DataManager.load_dnn_features(stack=stack, model_name=model_name, section=sec)\n",
    "    except Exception as e:\n",
    "        sys.stderr.write('%s\\n' % e.message)\n",
    "        return\n",
    "\n",
    "    actual_setting = resolve_actual_setting(setting=classifier_id, stack=stack, sec=sec)\n",
    "    clf_allClasses_ = available_classifiers[actual_setting]\n",
    "\n",
    "    for structure, clf in clf_allClasses_.iteritems():\n",
    "\n",
    "        probs = clf.predict_proba(features)[:, clf.classes_.tolist().index(1.)]\n",
    "        output_fn = DataManager.get_sparse_scores_filepath(stack=stack, structure=structure, \n",
    "                                                           setting=actual_setting, sec=sec)\n",
    "        create_parent_dir_if_not_exists(output_fn)\n",
    "        bp.pack_ndarray_file(probs, output_fn)"
   ]
  },
  {
   "cell_type": "code",
   "execution_count": 16,
   "metadata": {
    "collapsed": true
   },
   "outputs": [],
   "source": [
    "clf_predict(stack=stack, sec=203)"
   ]
  },
  {
   "cell_type": "code",
   "execution_count": null,
   "metadata": {
    "collapsed": true
   },
   "outputs": [],
   "source": [
    "t = time.time()\n",
    "\n",
    "pool = Pool(NUM_CORES/2)\n",
    "pool.map(lambda sec: clf_predict(stack=stack, sec=sec), range(200, 201))\n",
    "# pool.map(lambda sec: clf_predict(stack=stack, sec=sec), range(first_sec, last_sec+1))\n",
    "pool.close()\n",
    "pool.join()\n",
    "\n",
    "sys.stderr.write('Classifier predict: %.2f\\n' % (time.time()-t)) # 30s each section, single process; "
   ]
  }
 ],
 "metadata": {
  "kernelspec": {
   "display_name": "Python 2",
   "language": "python",
   "name": "python2"
  },
  "language_info": {
   "codemirror_mode": {
    "name": "ipython",
    "version": 2
   },
   "file_extension": ".py",
   "mimetype": "text/x-python",
   "name": "python",
   "nbconvert_exporter": "python",
   "pygments_lexer": "ipython2",
   "version": "2.7.12"
  }
 },
 "nbformat": 4,
 "nbformat_minor": 1
}
