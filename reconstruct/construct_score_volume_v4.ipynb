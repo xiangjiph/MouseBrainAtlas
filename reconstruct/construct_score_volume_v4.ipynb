{
 "cells": [
  {
   "cell_type": "code",
   "execution_count": 1,
   "metadata": {},
   "outputs": [
    {
     "name": "stderr",
     "output_type": "stream",
     "text": [
      "/usr/local/lib/python2.7/dist-packages/matplotlib/__init__.py:1401: UserWarning:  This call to matplotlib.use() has no effect\n",
      "because the backend has already been chosen;\n",
      "matplotlib.use() must be called *before* pylab, matplotlib.pyplot,\n",
      "or matplotlib.backends is imported for the first time.\n",
      "\n",
      "  warnings.warn(_use_error_msg)\n"
     ]
    },
    {
     "name": "stdout",
     "output_type": "stream",
     "text": [
      "Setting environment for AWS compute node\n"
     ]
    },
    {
     "name": "stderr",
     "output_type": "stream",
     "text": [
      "No vtk\n",
      "File does not exist: /shared/CSHL_data_processed/MD635/MD635_anchor.txt\n",
      "File does not exist: /shared/CSHL_data_processed/MD635/MD635_sorted_filenames.txt\n",
      "File does not exist: /shared/CSHL_data_processed/MD635/MD635_cropbox.txt\n",
      "File does not exist: /shared/CSHL_data_processed/MD635/MD635_cropbox.txt\n"
     ]
    }
   ],
   "source": [
    "%load_ext autoreload\n",
    "%autoreload 2\n",
    "\n",
    "import sys\n",
    "import os\n",
    "import time\n",
    "\n",
    "import matplotlib.pyplot as plt\n",
    "%matplotlib inline\n",
    "from multiprocess import Pool\n",
    "import numpy as np\n",
    "\n",
    "sys.path.append(os.environ['REPO_DIR'] + '/utilities')\n",
    "from utilities2015 import *\n",
    "from metadata import *\n",
    "from data_manager import *\n",
    "from conversion import images_to_volume"
   ]
  },
  {
   "cell_type": "code",
   "execution_count": 2,
   "metadata": {
    "collapsed": true
   },
   "outputs": [],
   "source": [
    "classifier_id = 30"
   ]
  },
  {
   "cell_type": "code",
   "execution_count": 3,
   "metadata": {
    "collapsed": true
   },
   "outputs": [],
   "source": [
    "downscale = 32\n",
    "voxel_z_size = SECTION_THICKNESS/(XY_PIXEL_DISTANCE_LOSSLESS * downscale)"
   ]
  },
  {
   "cell_type": "code",
   "execution_count": 4,
   "metadata": {
    "collapsed": true
   },
   "outputs": [],
   "source": [
    "def load_downscaled_scoremaps_multiple_sections_sequential(sections, stack, structure, downscale, classifier_id):\n",
    "    scoremaps = {}\n",
    "    for sec in sections:\n",
    "        try:\n",
    "            actual_setting = resolve_actual_setting(setting=classifier_id, stack=stack, sec=sec)\n",
    "            sm = DataManager.load_downscaled_scoremap(stack=stack, section=sec, structure=structure, downscale=downscale, setting=actual_setting)\n",
    "            if sm is not None:\n",
    "                scoremaps[sec] = sm\n",
    "        except:\n",
    "            pass\n",
    "    return scoremaps"
   ]
  },
  {
   "cell_type": "markdown",
   "metadata": {},
   "source": [
    "# Alternating"
   ]
  },
  {
   "cell_type": "code",
   "execution_count": 5,
   "metadata": {
    "scrolled": true
   },
   "outputs": [
    {
     "name": "stdout",
     "output_type": "stream",
     "text": [
      "5N\n",
      "rm -rf /shared/CSHL_scoremaps_down32/MD657/MD657-N66-2017.03.21-14.16.35_MD657_2_0197_alignedTo_MD657-F44-2017.02.18-06.06.27_MD657_1_0130_cropped_down32/MD657-N66-2017.03.21-14.16.35_MD657_2_0197_alignedTo_MD657-F44-2017.02.18-06.06.27_MD657_1_0130_cropped_down32_5N_denseScoreMap_setting_30.bp && mkdir -p /shared/CSHL_scoremaps_down32/MD657/MD657-N66-2017.03.21-14.16.35_MD657_2_0197_alignedTo_MD657-F44-2017.02.18-06.06.27_MD657_1_0130_cropped_down32\n",
      "aws s3 cp s3://mousebrainatlas-data/CSHL_scoremaps_down32/MD657/MD657-N66-2017.03.21-14.16.35_MD657_2_0197_alignedTo_MD657-F44-2017.02.18-06.06.27_MD657_1_0130_cropped_down32/MD657-N66-2017.03.21-14.16.35_MD657_2_0197_alignedTo_MD657-F44-2017.02.18-06.06.27_MD657_1_0130_cropped_down32_5N_denseScoreMap_setting_30.bp /shared/CSHL_scoremaps_down32/MD657/MD657-N66-2017.03.21-14.16.35_MD657_2_0197_alignedTo_MD657-F44-2017.02.18-06.06.27_MD657_1_0130_cropped_down32/MD657-N66-2017.03.21-14.16.35_MD657_2_0197_alignedTo_MD657-F44-2017.02.18-06.06.27_MD657_1_0130_cropped_down32_5N_denseScoreMap_setting_30.bp\n"
     ]
    },
    {
     "name": "stderr",
     "output_type": "stream",
     "text": [
      "Child returned 0\n",
      "Child returned 1\n",
      "0.35 seconds.\n",
      "Child returned 0\n"
     ]
    },
    {
     "name": "stdout",
     "output_type": "stream",
     "text": [
      "rm -rf /shared/CSHL_scoremaps_down32/MD657/MD657-N71-2017.02.22-18.34.41_MD657_2_0212_alignedTo_MD657-F44-2017.02.18-06.06.27_MD657_1_0130_cropped_down32/MD657-N71-2017.02.22-18.34.41_MD657_2_0212_alignedTo_MD657-F44-2017.02.18-06.06.27_MD657_1_0130_cropped_down32_5N_denseScoreMap_setting_30.bp && mkdir -p /shared/CSHL_scoremaps_down32/MD657/MD657-N71-2017.02.22-18.34.41_MD657_2_0212_alignedTo_MD657-F44-2017.02.18-06.06.27_MD657_1_0130_cropped_down32\n",
      "aws s3 cp s3://mousebrainatlas-data/CSHL_scoremaps_down32/MD657/MD657-N71-2017.02.22-18.34.41_MD657_2_0212_alignedTo_MD657-F44-2017.02.18-06.06.27_MD657_1_0130_cropped_down32/MD657-N71-2017.02.22-18.34.41_MD657_2_0212_alignedTo_MD657-F44-2017.02.18-06.06.27_MD657_1_0130_cropped_down32_5N_denseScoreMap_setting_30.bp /shared/CSHL_scoremaps_down32/MD657/MD657-N71-2017.02.22-18.34.41_MD657_2_0212_alignedTo_MD657-F44-2017.02.18-06.06.27_MD657_1_0130_cropped_down32/MD657-N71-2017.02.22-18.34.41_MD657_2_0212_alignedTo_MD657-F44-2017.02.18-06.06.27_MD657_1_0130_cropped_down32_5N_denseScoreMap_setting_30.bp\n"
     ]
    },
    {
     "name": "stderr",
     "output_type": "stream",
     "text": [
      "Child returned 1\n",
      "0.35 seconds.\n",
      "Load scoremaps: 0.87 seconds\n"
     ]
    },
    {
     "name": "stdout",
     "output_type": "stream",
     "text": [
      "127 scoremaps loaded.\n"
     ]
    },
    {
     "name": "stderr",
     "output_type": "stream",
     "text": [
      "Create score volume: 3.29 seconds\n"
     ]
    },
    {
     "name": "stdout",
     "output_type": "stream",
     "text": [
      "aws s3 cp /shared/CSHL_volumes/MD657/MD657_down32_scoreVolume_clf_30/score_volumes/MD657_down32_scoreVolume_clf_30_5N.bp s3://mousebrainatlas-data/CSHL_volumes/MD657/MD657_down32_scoreVolume_clf_30/score_volumes/MD657_down32_scoreVolume_clf_30_5N.bp\n"
     ]
    },
    {
     "name": "stderr",
     "output_type": "stream",
     "text": [
      "Child returned 0\n",
      "1.49 seconds.\n"
     ]
    },
    {
     "name": "stdout",
     "output_type": "stream",
     "text": [
      "aws s3 cp /shared/CSHL_volumes/MD657/MD657_down32_scoreVolume_clf_30/score_volumes/MD657_down32_scoreVolume_clf_30_5N_bbox.txt s3://mousebrainatlas-data/CSHL_volumes/MD657/MD657_down32_scoreVolume_clf_30/score_volumes/MD657_down32_scoreVolume_clf_30_5N_bbox.txt\n"
     ]
    },
    {
     "name": "stderr",
     "output_type": "stream",
     "text": [
      "Child returned 0\n",
      "0.42 seconds.\n",
      "Child returned 0\n"
     ]
    },
    {
     "name": "stdout",
     "output_type": "stream",
     "text": [
      "6N\n",
      "rm -rf /shared/CSHL_scoremaps_down32/MD657/MD657-N66-2017.03.21-14.16.35_MD657_2_0197_alignedTo_MD657-F44-2017.02.18-06.06.27_MD657_1_0130_cropped_down32/MD657-N66-2017.03.21-14.16.35_MD657_2_0197_alignedTo_MD657-F44-2017.02.18-06.06.27_MD657_1_0130_cropped_down32_6N_denseScoreMap_setting_30.bp && mkdir -p /shared/CSHL_scoremaps_down32/MD657/MD657-N66-2017.03.21-14.16.35_MD657_2_0197_alignedTo_MD657-F44-2017.02.18-06.06.27_MD657_1_0130_cropped_down32\n",
      "aws s3 cp s3://mousebrainatlas-data/CSHL_scoremaps_down32/MD657/MD657-N66-2017.03.21-14.16.35_MD657_2_0197_alignedTo_MD657-F44-2017.02.18-06.06.27_MD657_1_0130_cropped_down32/MD657-N66-2017.03.21-14.16.35_MD657_2_0197_alignedTo_MD657-F44-2017.02.18-06.06.27_MD657_1_0130_cropped_down32_6N_denseScoreMap_setting_30.bp /shared/CSHL_scoremaps_down32/MD657/MD657-N66-2017.03.21-14.16.35_MD657_2_0197_alignedTo_MD657-F44-2017.02.18-06.06.27_MD657_1_0130_cropped_down32/MD657-N66-2017.03.21-14.16.35_MD657_2_0197_alignedTo_MD657-F44-2017.02.18-06.06.27_MD657_1_0130_cropped_down32_6N_denseScoreMap_setting_30.bp\n"
     ]
    },
    {
     "name": "stderr",
     "output_type": "stream",
     "text": [
      "Child returned 1\n",
      "0.35 seconds.\n",
      "Child returned 0\n"
     ]
    },
    {
     "name": "stdout",
     "output_type": "stream",
     "text": [
      "rm -rf /shared/CSHL_scoremaps_down32/MD657/MD657-N71-2017.02.22-18.34.41_MD657_2_0212_alignedTo_MD657-F44-2017.02.18-06.06.27_MD657_1_0130_cropped_down32/MD657-N71-2017.02.22-18.34.41_MD657_2_0212_alignedTo_MD657-F44-2017.02.18-06.06.27_MD657_1_0130_cropped_down32_6N_denseScoreMap_setting_30.bp && mkdir -p /shared/CSHL_scoremaps_down32/MD657/MD657-N71-2017.02.22-18.34.41_MD657_2_0212_alignedTo_MD657-F44-2017.02.18-06.06.27_MD657_1_0130_cropped_down32\n",
      "aws s3 cp s3://mousebrainatlas-data/CSHL_scoremaps_down32/MD657/MD657-N71-2017.02.22-18.34.41_MD657_2_0212_alignedTo_MD657-F44-2017.02.18-06.06.27_MD657_1_0130_cropped_down32/MD657-N71-2017.02.22-18.34.41_MD657_2_0212_alignedTo_MD657-F44-2017.02.18-06.06.27_MD657_1_0130_cropped_down32_6N_denseScoreMap_setting_30.bp /shared/CSHL_scoremaps_down32/MD657/MD657-N71-2017.02.22-18.34.41_MD657_2_0212_alignedTo_MD657-F44-2017.02.18-06.06.27_MD657_1_0130_cropped_down32/MD657-N71-2017.02.22-18.34.41_MD657_2_0212_alignedTo_MD657-F44-2017.02.18-06.06.27_MD657_1_0130_cropped_down32_6N_denseScoreMap_setting_30.bp\n"
     ]
    },
    {
     "name": "stderr",
     "output_type": "stream",
     "text": [
      "Child returned 1\n",
      "0.33 seconds.\n",
      "Load scoremaps: 0.86 seconds\n"
     ]
    },
    {
     "name": "stdout",
     "output_type": "stream",
     "text": [
      "127 scoremaps loaded.\n"
     ]
    },
    {
     "name": "stderr",
     "output_type": "stream",
     "text": [
      "Create score volume: 2.26 seconds\n"
     ]
    },
    {
     "name": "stdout",
     "output_type": "stream",
     "text": [
      "aws s3 cp /shared/CSHL_volumes/MD657/MD657_down32_scoreVolume_clf_30/score_volumes/MD657_down32_scoreVolume_clf_30_6N.bp s3://mousebrainatlas-data/CSHL_volumes/MD657/MD657_down32_scoreVolume_clf_30/score_volumes/MD657_down32_scoreVolume_clf_30_6N.bp\n"
     ]
    },
    {
     "name": "stderr",
     "output_type": "stream",
     "text": [
      "Child returned 0\n",
      "1.31 seconds.\n"
     ]
    },
    {
     "name": "stdout",
     "output_type": "stream",
     "text": [
      "aws s3 cp /shared/CSHL_volumes/MD657/MD657_down32_scoreVolume_clf_30/score_volumes/MD657_down32_scoreVolume_clf_30_6N_bbox.txt s3://mousebrainatlas-data/CSHL_volumes/MD657/MD657_down32_scoreVolume_clf_30/score_volumes/MD657_down32_scoreVolume_clf_30_6N_bbox.txt\n"
     ]
    },
    {
     "name": "stderr",
     "output_type": "stream",
     "text": [
      "Child returned 0\n",
      "0.36 seconds.\n",
      "Child returned 0\n"
     ]
    },
    {
     "name": "stdout",
     "output_type": "stream",
     "text": [
      "7N\n",
      "rm -rf /shared/CSHL_scoremaps_down32/MD657/MD657-N66-2017.03.21-14.16.35_MD657_2_0197_alignedTo_MD657-F44-2017.02.18-06.06.27_MD657_1_0130_cropped_down32/MD657-N66-2017.03.21-14.16.35_MD657_2_0197_alignedTo_MD657-F44-2017.02.18-06.06.27_MD657_1_0130_cropped_down32_7N_denseScoreMap_setting_30.bp && mkdir -p /shared/CSHL_scoremaps_down32/MD657/MD657-N66-2017.03.21-14.16.35_MD657_2_0197_alignedTo_MD657-F44-2017.02.18-06.06.27_MD657_1_0130_cropped_down32\n",
      "aws s3 cp s3://mousebrainatlas-data/CSHL_scoremaps_down32/MD657/MD657-N66-2017.03.21-14.16.35_MD657_2_0197_alignedTo_MD657-F44-2017.02.18-06.06.27_MD657_1_0130_cropped_down32/MD657-N66-2017.03.21-14.16.35_MD657_2_0197_alignedTo_MD657-F44-2017.02.18-06.06.27_MD657_1_0130_cropped_down32_7N_denseScoreMap_setting_30.bp /shared/CSHL_scoremaps_down32/MD657/MD657-N66-2017.03.21-14.16.35_MD657_2_0197_alignedTo_MD657-F44-2017.02.18-06.06.27_MD657_1_0130_cropped_down32/MD657-N66-2017.03.21-14.16.35_MD657_2_0197_alignedTo_MD657-F44-2017.02.18-06.06.27_MD657_1_0130_cropped_down32_7N_denseScoreMap_setting_30.bp\n"
     ]
    },
    {
     "name": "stderr",
     "output_type": "stream",
     "text": [
      "Child returned 1\n",
      "0.35 seconds.\n",
      "Child returned 0\n"
     ]
    },
    {
     "name": "stdout",
     "output_type": "stream",
     "text": [
      "rm -rf /shared/CSHL_scoremaps_down32/MD657/MD657-N71-2017.02.22-18.34.41_MD657_2_0212_alignedTo_MD657-F44-2017.02.18-06.06.27_MD657_1_0130_cropped_down32/MD657-N71-2017.02.22-18.34.41_MD657_2_0212_alignedTo_MD657-F44-2017.02.18-06.06.27_MD657_1_0130_cropped_down32_7N_denseScoreMap_setting_30.bp && mkdir -p /shared/CSHL_scoremaps_down32/MD657/MD657-N71-2017.02.22-18.34.41_MD657_2_0212_alignedTo_MD657-F44-2017.02.18-06.06.27_MD657_1_0130_cropped_down32\n",
      "aws s3 cp s3://mousebrainatlas-data/CSHL_scoremaps_down32/MD657/MD657-N71-2017.02.22-18.34.41_MD657_2_0212_alignedTo_MD657-F44-2017.02.18-06.06.27_MD657_1_0130_cropped_down32/MD657-N71-2017.02.22-18.34.41_MD657_2_0212_alignedTo_MD657-F44-2017.02.18-06.06.27_MD657_1_0130_cropped_down32_7N_denseScoreMap_setting_30.bp /shared/CSHL_scoremaps_down32/MD657/MD657-N71-2017.02.22-18.34.41_MD657_2_0212_alignedTo_MD657-F44-2017.02.18-06.06.27_MD657_1_0130_cropped_down32/MD657-N71-2017.02.22-18.34.41_MD657_2_0212_alignedTo_MD657-F44-2017.02.18-06.06.27_MD657_1_0130_cropped_down32_7N_denseScoreMap_setting_30.bp\n"
     ]
    },
    {
     "name": "stderr",
     "output_type": "stream",
     "text": [
      "Child returned 1\n",
      "0.35 seconds.\n",
      "Load scoremaps: 0.86 seconds\n"
     ]
    },
    {
     "name": "stdout",
     "output_type": "stream",
     "text": [
      "127 scoremaps loaded.\n"
     ]
    },
    {
     "name": "stderr",
     "output_type": "stream",
     "text": [
      "Create score volume: 2.08 seconds\n"
     ]
    },
    {
     "name": "stdout",
     "output_type": "stream",
     "text": [
      "aws s3 cp /shared/CSHL_volumes/MD657/MD657_down32_scoreVolume_clf_30/score_volumes/MD657_down32_scoreVolume_clf_30_7N.bp s3://mousebrainatlas-data/CSHL_volumes/MD657/MD657_down32_scoreVolume_clf_30/score_volumes/MD657_down32_scoreVolume_clf_30_7N.bp\n"
     ]
    },
    {
     "name": "stderr",
     "output_type": "stream",
     "text": [
      "Child returned 0\n",
      "1.40 seconds.\n"
     ]
    },
    {
     "name": "stdout",
     "output_type": "stream",
     "text": [
      "aws s3 cp /shared/CSHL_volumes/MD657/MD657_down32_scoreVolume_clf_30/score_volumes/MD657_down32_scoreVolume_clf_30_7N_bbox.txt s3://mousebrainatlas-data/CSHL_volumes/MD657/MD657_down32_scoreVolume_clf_30/score_volumes/MD657_down32_scoreVolume_clf_30_7N_bbox.txt\n"
     ]
    },
    {
     "name": "stderr",
     "output_type": "stream",
     "text": [
      "Child returned 0\n",
      "0.36 seconds.\n",
      "Child returned 0\n"
     ]
    },
    {
     "name": "stdout",
     "output_type": "stream",
     "text": [
      "7n\n",
      "rm -rf /shared/CSHL_scoremaps_down32/MD657/MD657-N66-2017.03.21-14.16.35_MD657_2_0197_alignedTo_MD657-F44-2017.02.18-06.06.27_MD657_1_0130_cropped_down32/MD657-N66-2017.03.21-14.16.35_MD657_2_0197_alignedTo_MD657-F44-2017.02.18-06.06.27_MD657_1_0130_cropped_down32_7n_denseScoreMap_setting_30.bp && mkdir -p /shared/CSHL_scoremaps_down32/MD657/MD657-N66-2017.03.21-14.16.35_MD657_2_0197_alignedTo_MD657-F44-2017.02.18-06.06.27_MD657_1_0130_cropped_down32\n",
      "aws s3 cp s3://mousebrainatlas-data/CSHL_scoremaps_down32/MD657/MD657-N66-2017.03.21-14.16.35_MD657_2_0197_alignedTo_MD657-F44-2017.02.18-06.06.27_MD657_1_0130_cropped_down32/MD657-N66-2017.03.21-14.16.35_MD657_2_0197_alignedTo_MD657-F44-2017.02.18-06.06.27_MD657_1_0130_cropped_down32_7n_denseScoreMap_setting_30.bp /shared/CSHL_scoremaps_down32/MD657/MD657-N66-2017.03.21-14.16.35_MD657_2_0197_alignedTo_MD657-F44-2017.02.18-06.06.27_MD657_1_0130_cropped_down32/MD657-N66-2017.03.21-14.16.35_MD657_2_0197_alignedTo_MD657-F44-2017.02.18-06.06.27_MD657_1_0130_cropped_down32_7n_denseScoreMap_setting_30.bp\n"
     ]
    },
    {
     "name": "stderr",
     "output_type": "stream",
     "text": [
      "Child returned 1\n",
      "0.35 seconds.\n",
      "Child returned 0\n"
     ]
    },
    {
     "name": "stdout",
     "output_type": "stream",
     "text": [
      "rm -rf /shared/CSHL_scoremaps_down32/MD657/MD657-N71-2017.02.22-18.34.41_MD657_2_0212_alignedTo_MD657-F44-2017.02.18-06.06.27_MD657_1_0130_cropped_down32/MD657-N71-2017.02.22-18.34.41_MD657_2_0212_alignedTo_MD657-F44-2017.02.18-06.06.27_MD657_1_0130_cropped_down32_7n_denseScoreMap_setting_30.bp && mkdir -p /shared/CSHL_scoremaps_down32/MD657/MD657-N71-2017.02.22-18.34.41_MD657_2_0212_alignedTo_MD657-F44-2017.02.18-06.06.27_MD657_1_0130_cropped_down32\n",
      "aws s3 cp s3://mousebrainatlas-data/CSHL_scoremaps_down32/MD657/MD657-N71-2017.02.22-18.34.41_MD657_2_0212_alignedTo_MD657-F44-2017.02.18-06.06.27_MD657_1_0130_cropped_down32/MD657-N71-2017.02.22-18.34.41_MD657_2_0212_alignedTo_MD657-F44-2017.02.18-06.06.27_MD657_1_0130_cropped_down32_7n_denseScoreMap_setting_30.bp /shared/CSHL_scoremaps_down32/MD657/MD657-N71-2017.02.22-18.34.41_MD657_2_0212_alignedTo_MD657-F44-2017.02.18-06.06.27_MD657_1_0130_cropped_down32/MD657-N71-2017.02.22-18.34.41_MD657_2_0212_alignedTo_MD657-F44-2017.02.18-06.06.27_MD657_1_0130_cropped_down32_7n_denseScoreMap_setting_30.bp\n"
     ]
    },
    {
     "name": "stderr",
     "output_type": "stream",
     "text": [
      "Child returned 1\n",
      "0.33 seconds.\n",
      "Load scoremaps: 0.85 seconds\n"
     ]
    },
    {
     "name": "stdout",
     "output_type": "stream",
     "text": [
      "127 scoremaps loaded.\n"
     ]
    },
    {
     "name": "stderr",
     "output_type": "stream",
     "text": [
      "Create score volume: 2.15 seconds\n"
     ]
    },
    {
     "name": "stdout",
     "output_type": "stream",
     "text": [
      "aws s3 cp /shared/CSHL_volumes/MD657/MD657_down32_scoreVolume_clf_30/score_volumes/MD657_down32_scoreVolume_clf_30_7n.bp s3://mousebrainatlas-data/CSHL_volumes/MD657/MD657_down32_scoreVolume_clf_30/score_volumes/MD657_down32_scoreVolume_clf_30_7n.bp\n"
     ]
    },
    {
     "name": "stderr",
     "output_type": "stream",
     "text": [
      "Child returned 0\n",
      "1.31 seconds.\n"
     ]
    },
    {
     "name": "stdout",
     "output_type": "stream",
     "text": [
      "aws s3 cp /shared/CSHL_volumes/MD657/MD657_down32_scoreVolume_clf_30/score_volumes/MD657_down32_scoreVolume_clf_30_7n_bbox.txt s3://mousebrainatlas-data/CSHL_volumes/MD657/MD657_down32_scoreVolume_clf_30/score_volumes/MD657_down32_scoreVolume_clf_30_7n_bbox.txt\n"
     ]
    },
    {
     "name": "stderr",
     "output_type": "stream",
     "text": [
      "Child returned 0\n",
      "0.36 seconds.\n",
      "Child returned 0\n"
     ]
    },
    {
     "name": "stdout",
     "output_type": "stream",
     "text": [
      "Amb\n",
      "rm -rf /shared/CSHL_scoremaps_down32/MD657/MD657-N66-2017.03.21-14.16.35_MD657_2_0197_alignedTo_MD657-F44-2017.02.18-06.06.27_MD657_1_0130_cropped_down32/MD657-N66-2017.03.21-14.16.35_MD657_2_0197_alignedTo_MD657-F44-2017.02.18-06.06.27_MD657_1_0130_cropped_down32_Amb_denseScoreMap_setting_30.bp && mkdir -p /shared/CSHL_scoremaps_down32/MD657/MD657-N66-2017.03.21-14.16.35_MD657_2_0197_alignedTo_MD657-F44-2017.02.18-06.06.27_MD657_1_0130_cropped_down32\n",
      "aws s3 cp s3://mousebrainatlas-data/CSHL_scoremaps_down32/MD657/MD657-N66-2017.03.21-14.16.35_MD657_2_0197_alignedTo_MD657-F44-2017.02.18-06.06.27_MD657_1_0130_cropped_down32/MD657-N66-2017.03.21-14.16.35_MD657_2_0197_alignedTo_MD657-F44-2017.02.18-06.06.27_MD657_1_0130_cropped_down32_Amb_denseScoreMap_setting_30.bp /shared/CSHL_scoremaps_down32/MD657/MD657-N66-2017.03.21-14.16.35_MD657_2_0197_alignedTo_MD657-F44-2017.02.18-06.06.27_MD657_1_0130_cropped_down32/MD657-N66-2017.03.21-14.16.35_MD657_2_0197_alignedTo_MD657-F44-2017.02.18-06.06.27_MD657_1_0130_cropped_down32_Amb_denseScoreMap_setting_30.bp\n"
     ]
    },
    {
     "name": "stderr",
     "output_type": "stream",
     "text": [
      "Child returned 1\n",
      "0.66 seconds.\n",
      "Child returned 0\n"
     ]
    },
    {
     "name": "stdout",
     "output_type": "stream",
     "text": [
      "rm -rf /shared/CSHL_scoremaps_down32/MD657/MD657-N71-2017.02.22-18.34.41_MD657_2_0212_alignedTo_MD657-F44-2017.02.18-06.06.27_MD657_1_0130_cropped_down32/MD657-N71-2017.02.22-18.34.41_MD657_2_0212_alignedTo_MD657-F44-2017.02.18-06.06.27_MD657_1_0130_cropped_down32_Amb_denseScoreMap_setting_30.bp && mkdir -p /shared/CSHL_scoremaps_down32/MD657/MD657-N71-2017.02.22-18.34.41_MD657_2_0212_alignedTo_MD657-F44-2017.02.18-06.06.27_MD657_1_0130_cropped_down32\n",
      "aws s3 cp s3://mousebrainatlas-data/CSHL_scoremaps_down32/MD657/MD657-N71-2017.02.22-18.34.41_MD657_2_0212_alignedTo_MD657-F44-2017.02.18-06.06.27_MD657_1_0130_cropped_down32/MD657-N71-2017.02.22-18.34.41_MD657_2_0212_alignedTo_MD657-F44-2017.02.18-06.06.27_MD657_1_0130_cropped_down32_Amb_denseScoreMap_setting_30.bp /shared/CSHL_scoremaps_down32/MD657/MD657-N71-2017.02.22-18.34.41_MD657_2_0212_alignedTo_MD657-F44-2017.02.18-06.06.27_MD657_1_0130_cropped_down32/MD657-N71-2017.02.22-18.34.41_MD657_2_0212_alignedTo_MD657-F44-2017.02.18-06.06.27_MD657_1_0130_cropped_down32_Amb_denseScoreMap_setting_30.bp\n"
     ]
    },
    {
     "name": "stderr",
     "output_type": "stream",
     "text": [
      "Child returned 1\n",
      "0.35 seconds.\n",
      "Load scoremaps: 1.17 seconds\n"
     ]
    },
    {
     "name": "stdout",
     "output_type": "stream",
     "text": [
      "127 scoremaps loaded.\n"
     ]
    },
    {
     "name": "stderr",
     "output_type": "stream",
     "text": [
      "Create score volume: 2.11 seconds\n"
     ]
    },
    {
     "name": "stdout",
     "output_type": "stream",
     "text": [
      "aws s3 cp /shared/CSHL_volumes/MD657/MD657_down32_scoreVolume_clf_30/score_volumes/MD657_down32_scoreVolume_clf_30_Amb.bp s3://mousebrainatlas-data/CSHL_volumes/MD657/MD657_down32_scoreVolume_clf_30/score_volumes/MD657_down32_scoreVolume_clf_30_Amb.bp\n"
     ]
    },
    {
     "name": "stderr",
     "output_type": "stream",
     "text": [
      "Child returned 0\n",
      "1.35 seconds.\n"
     ]
    },
    {
     "name": "stdout",
     "output_type": "stream",
     "text": [
      "aws s3 cp /shared/CSHL_volumes/MD657/MD657_down32_scoreVolume_clf_30/score_volumes/MD657_down32_scoreVolume_clf_30_Amb_bbox.txt s3://mousebrainatlas-data/CSHL_volumes/MD657/MD657_down32_scoreVolume_clf_30/score_volumes/MD657_down32_scoreVolume_clf_30_Amb_bbox.txt\n"
     ]
    },
    {
     "name": "stderr",
     "output_type": "stream",
     "text": [
      "Child returned 0\n",
      "0.36 seconds.\n",
      "Child returned 0\n"
     ]
    },
    {
     "name": "stdout",
     "output_type": "stream",
     "text": [
      "LC\n",
      "rm -rf /shared/CSHL_scoremaps_down32/MD657/MD657-N66-2017.03.21-14.16.35_MD657_2_0197_alignedTo_MD657-F44-2017.02.18-06.06.27_MD657_1_0130_cropped_down32/MD657-N66-2017.03.21-14.16.35_MD657_2_0197_alignedTo_MD657-F44-2017.02.18-06.06.27_MD657_1_0130_cropped_down32_LC_denseScoreMap_setting_30.bp && mkdir -p /shared/CSHL_scoremaps_down32/MD657/MD657-N66-2017.03.21-14.16.35_MD657_2_0197_alignedTo_MD657-F44-2017.02.18-06.06.27_MD657_1_0130_cropped_down32\n",
      "aws s3 cp s3://mousebrainatlas-data/CSHL_scoremaps_down32/MD657/MD657-N66-2017.03.21-14.16.35_MD657_2_0197_alignedTo_MD657-F44-2017.02.18-06.06.27_MD657_1_0130_cropped_down32/MD657-N66-2017.03.21-14.16.35_MD657_2_0197_alignedTo_MD657-F44-2017.02.18-06.06.27_MD657_1_0130_cropped_down32_LC_denseScoreMap_setting_30.bp /shared/CSHL_scoremaps_down32/MD657/MD657-N66-2017.03.21-14.16.35_MD657_2_0197_alignedTo_MD657-F44-2017.02.18-06.06.27_MD657_1_0130_cropped_down32/MD657-N66-2017.03.21-14.16.35_MD657_2_0197_alignedTo_MD657-F44-2017.02.18-06.06.27_MD657_1_0130_cropped_down32_LC_denseScoreMap_setting_30.bp\n"
     ]
    },
    {
     "name": "stderr",
     "output_type": "stream",
     "text": [
      "Child returned 1\n",
      "0.35 seconds.\n",
      "Child returned 0\n"
     ]
    },
    {
     "name": "stdout",
     "output_type": "stream",
     "text": [
      "rm -rf /shared/CSHL_scoremaps_down32/MD657/MD657-N71-2017.02.22-18.34.41_MD657_2_0212_alignedTo_MD657-F44-2017.02.18-06.06.27_MD657_1_0130_cropped_down32/MD657-N71-2017.02.22-18.34.41_MD657_2_0212_alignedTo_MD657-F44-2017.02.18-06.06.27_MD657_1_0130_cropped_down32_LC_denseScoreMap_setting_30.bp && mkdir -p /shared/CSHL_scoremaps_down32/MD657/MD657-N71-2017.02.22-18.34.41_MD657_2_0212_alignedTo_MD657-F44-2017.02.18-06.06.27_MD657_1_0130_cropped_down32\n",
      "aws s3 cp s3://mousebrainatlas-data/CSHL_scoremaps_down32/MD657/MD657-N71-2017.02.22-18.34.41_MD657_2_0212_alignedTo_MD657-F44-2017.02.18-06.06.27_MD657_1_0130_cropped_down32/MD657-N71-2017.02.22-18.34.41_MD657_2_0212_alignedTo_MD657-F44-2017.02.18-06.06.27_MD657_1_0130_cropped_down32_LC_denseScoreMap_setting_30.bp /shared/CSHL_scoremaps_down32/MD657/MD657-N71-2017.02.22-18.34.41_MD657_2_0212_alignedTo_MD657-F44-2017.02.18-06.06.27_MD657_1_0130_cropped_down32/MD657-N71-2017.02.22-18.34.41_MD657_2_0212_alignedTo_MD657-F44-2017.02.18-06.06.27_MD657_1_0130_cropped_down32_LC_denseScoreMap_setting_30.bp\n"
     ]
    },
    {
     "name": "stderr",
     "output_type": "stream",
     "text": [
      "Child returned 1\n",
      "0.35 seconds.\n",
      "Load scoremaps: 0.86 seconds\n"
     ]
    },
    {
     "name": "stdout",
     "output_type": "stream",
     "text": [
      "127 scoremaps loaded.\n"
     ]
    },
    {
     "name": "stderr",
     "output_type": "stream",
     "text": [
      "Create score volume: 2.12 seconds\n"
     ]
    },
    {
     "name": "stdout",
     "output_type": "stream",
     "text": [
      "aws s3 cp /shared/CSHL_volumes/MD657/MD657_down32_scoreVolume_clf_30/score_volumes/MD657_down32_scoreVolume_clf_30_LC.bp s3://mousebrainatlas-data/CSHL_volumes/MD657/MD657_down32_scoreVolume_clf_30/score_volumes/MD657_down32_scoreVolume_clf_30_LC.bp\n"
     ]
    },
    {
     "name": "stderr",
     "output_type": "stream",
     "text": [
      "Child returned 0\n",
      "1.54 seconds.\n"
     ]
    },
    {
     "name": "stdout",
     "output_type": "stream",
     "text": [
      "aws s3 cp /shared/CSHL_volumes/MD657/MD657_down32_scoreVolume_clf_30/score_volumes/MD657_down32_scoreVolume_clf_30_LC_bbox.txt s3://mousebrainatlas-data/CSHL_volumes/MD657/MD657_down32_scoreVolume_clf_30/score_volumes/MD657_down32_scoreVolume_clf_30_LC_bbox.txt\n"
     ]
    },
    {
     "name": "stderr",
     "output_type": "stream",
     "text": [
      "Child returned 0\n",
      "0.36 seconds.\n",
      "Child returned 0\n"
     ]
    },
    {
     "name": "stdout",
     "output_type": "stream",
     "text": [
      "LRt\n",
      "rm -rf /shared/CSHL_scoremaps_down32/MD657/MD657-N66-2017.03.21-14.16.35_MD657_2_0197_alignedTo_MD657-F44-2017.02.18-06.06.27_MD657_1_0130_cropped_down32/MD657-N66-2017.03.21-14.16.35_MD657_2_0197_alignedTo_MD657-F44-2017.02.18-06.06.27_MD657_1_0130_cropped_down32_LRt_denseScoreMap_setting_30.bp && mkdir -p /shared/CSHL_scoremaps_down32/MD657/MD657-N66-2017.03.21-14.16.35_MD657_2_0197_alignedTo_MD657-F44-2017.02.18-06.06.27_MD657_1_0130_cropped_down32\n",
      "aws s3 cp s3://mousebrainatlas-data/CSHL_scoremaps_down32/MD657/MD657-N66-2017.03.21-14.16.35_MD657_2_0197_alignedTo_MD657-F44-2017.02.18-06.06.27_MD657_1_0130_cropped_down32/MD657-N66-2017.03.21-14.16.35_MD657_2_0197_alignedTo_MD657-F44-2017.02.18-06.06.27_MD657_1_0130_cropped_down32_LRt_denseScoreMap_setting_30.bp /shared/CSHL_scoremaps_down32/MD657/MD657-N66-2017.03.21-14.16.35_MD657_2_0197_alignedTo_MD657-F44-2017.02.18-06.06.27_MD657_1_0130_cropped_down32/MD657-N66-2017.03.21-14.16.35_MD657_2_0197_alignedTo_MD657-F44-2017.02.18-06.06.27_MD657_1_0130_cropped_down32_LRt_denseScoreMap_setting_30.bp\n"
     ]
    },
    {
     "name": "stderr",
     "output_type": "stream",
     "text": [
      "Child returned 1\n",
      "0.34 seconds.\n",
      "Child returned 0\n"
     ]
    },
    {
     "name": "stdout",
     "output_type": "stream",
     "text": [
      "rm -rf /shared/CSHL_scoremaps_down32/MD657/MD657-N71-2017.02.22-18.34.41_MD657_2_0212_alignedTo_MD657-F44-2017.02.18-06.06.27_MD657_1_0130_cropped_down32/MD657-N71-2017.02.22-18.34.41_MD657_2_0212_alignedTo_MD657-F44-2017.02.18-06.06.27_MD657_1_0130_cropped_down32_LRt_denseScoreMap_setting_30.bp && mkdir -p /shared/CSHL_scoremaps_down32/MD657/MD657-N71-2017.02.22-18.34.41_MD657_2_0212_alignedTo_MD657-F44-2017.02.18-06.06.27_MD657_1_0130_cropped_down32\n",
      "aws s3 cp s3://mousebrainatlas-data/CSHL_scoremaps_down32/MD657/MD657-N71-2017.02.22-18.34.41_MD657_2_0212_alignedTo_MD657-F44-2017.02.18-06.06.27_MD657_1_0130_cropped_down32/MD657-N71-2017.02.22-18.34.41_MD657_2_0212_alignedTo_MD657-F44-2017.02.18-06.06.27_MD657_1_0130_cropped_down32_LRt_denseScoreMap_setting_30.bp /shared/CSHL_scoremaps_down32/MD657/MD657-N71-2017.02.22-18.34.41_MD657_2_0212_alignedTo_MD657-F44-2017.02.18-06.06.27_MD657_1_0130_cropped_down32/MD657-N71-2017.02.22-18.34.41_MD657_2_0212_alignedTo_MD657-F44-2017.02.18-06.06.27_MD657_1_0130_cropped_down32_LRt_denseScoreMap_setting_30.bp\n"
     ]
    },
    {
     "name": "stderr",
     "output_type": "stream",
     "text": [
      "Child returned 1\n",
      "0.34 seconds.\n",
      "Load scoremaps: 0.84 seconds\n"
     ]
    },
    {
     "name": "stdout",
     "output_type": "stream",
     "text": [
      "127 scoremaps loaded.\n"
     ]
    },
    {
     "name": "stderr",
     "output_type": "stream",
     "text": [
      "Create score volume: 2.11 seconds\n"
     ]
    },
    {
     "name": "stdout",
     "output_type": "stream",
     "text": [
      "aws s3 cp /shared/CSHL_volumes/MD657/MD657_down32_scoreVolume_clf_30/score_volumes/MD657_down32_scoreVolume_clf_30_LRt.bp s3://mousebrainatlas-data/CSHL_volumes/MD657/MD657_down32_scoreVolume_clf_30/score_volumes/MD657_down32_scoreVolume_clf_30_LRt.bp\n"
     ]
    },
    {
     "name": "stderr",
     "output_type": "stream",
     "text": [
      "Child returned 0\n",
      "1.60 seconds.\n"
     ]
    },
    {
     "name": "stdout",
     "output_type": "stream",
     "text": [
      "aws s3 cp /shared/CSHL_volumes/MD657/MD657_down32_scoreVolume_clf_30/score_volumes/MD657_down32_scoreVolume_clf_30_LRt_bbox.txt s3://mousebrainatlas-data/CSHL_volumes/MD657/MD657_down32_scoreVolume_clf_30/score_volumes/MD657_down32_scoreVolume_clf_30_LRt_bbox.txt\n"
     ]
    },
    {
     "name": "stderr",
     "output_type": "stream",
     "text": [
      "Child returned 0\n",
      "0.37 seconds.\n",
      "Child returned 0\n"
     ]
    },
    {
     "name": "stdout",
     "output_type": "stream",
     "text": [
      "Pn\n",
      "rm -rf /shared/CSHL_scoremaps_down32/MD657/MD657-N66-2017.03.21-14.16.35_MD657_2_0197_alignedTo_MD657-F44-2017.02.18-06.06.27_MD657_1_0130_cropped_down32/MD657-N66-2017.03.21-14.16.35_MD657_2_0197_alignedTo_MD657-F44-2017.02.18-06.06.27_MD657_1_0130_cropped_down32_Pn_denseScoreMap_setting_30.bp && mkdir -p /shared/CSHL_scoremaps_down32/MD657/MD657-N66-2017.03.21-14.16.35_MD657_2_0197_alignedTo_MD657-F44-2017.02.18-06.06.27_MD657_1_0130_cropped_down32\n",
      "aws s3 cp s3://mousebrainatlas-data/CSHL_scoremaps_down32/MD657/MD657-N66-2017.03.21-14.16.35_MD657_2_0197_alignedTo_MD657-F44-2017.02.18-06.06.27_MD657_1_0130_cropped_down32/MD657-N66-2017.03.21-14.16.35_MD657_2_0197_alignedTo_MD657-F44-2017.02.18-06.06.27_MD657_1_0130_cropped_down32_Pn_denseScoreMap_setting_30.bp /shared/CSHL_scoremaps_down32/MD657/MD657-N66-2017.03.21-14.16.35_MD657_2_0197_alignedTo_MD657-F44-2017.02.18-06.06.27_MD657_1_0130_cropped_down32/MD657-N66-2017.03.21-14.16.35_MD657_2_0197_alignedTo_MD657-F44-2017.02.18-06.06.27_MD657_1_0130_cropped_down32_Pn_denseScoreMap_setting_30.bp\n"
     ]
    },
    {
     "name": "stderr",
     "output_type": "stream",
     "text": [
      "Child returned 1\n",
      "0.33 seconds.\n",
      "Child returned 0\n"
     ]
    },
    {
     "name": "stdout",
     "output_type": "stream",
     "text": [
      "rm -rf /shared/CSHL_scoremaps_down32/MD657/MD657-N71-2017.02.22-18.34.41_MD657_2_0212_alignedTo_MD657-F44-2017.02.18-06.06.27_MD657_1_0130_cropped_down32/MD657-N71-2017.02.22-18.34.41_MD657_2_0212_alignedTo_MD657-F44-2017.02.18-06.06.27_MD657_1_0130_cropped_down32_Pn_denseScoreMap_setting_30.bp && mkdir -p /shared/CSHL_scoremaps_down32/MD657/MD657-N71-2017.02.22-18.34.41_MD657_2_0212_alignedTo_MD657-F44-2017.02.18-06.06.27_MD657_1_0130_cropped_down32\n",
      "aws s3 cp s3://mousebrainatlas-data/CSHL_scoremaps_down32/MD657/MD657-N71-2017.02.22-18.34.41_MD657_2_0212_alignedTo_MD657-F44-2017.02.18-06.06.27_MD657_1_0130_cropped_down32/MD657-N71-2017.02.22-18.34.41_MD657_2_0212_alignedTo_MD657-F44-2017.02.18-06.06.27_MD657_1_0130_cropped_down32_Pn_denseScoreMap_setting_30.bp /shared/CSHL_scoremaps_down32/MD657/MD657-N71-2017.02.22-18.34.41_MD657_2_0212_alignedTo_MD657-F44-2017.02.18-06.06.27_MD657_1_0130_cropped_down32/MD657-N71-2017.02.22-18.34.41_MD657_2_0212_alignedTo_MD657-F44-2017.02.18-06.06.27_MD657_1_0130_cropped_down32_Pn_denseScoreMap_setting_30.bp\n"
     ]
    },
    {
     "name": "stderr",
     "output_type": "stream",
     "text": [
      "Child returned 1\n",
      "0.33 seconds.\n",
      "Load scoremaps: 0.83 seconds\n"
     ]
    },
    {
     "name": "stdout",
     "output_type": "stream",
     "text": [
      "127 scoremaps loaded.\n"
     ]
    },
    {
     "name": "stderr",
     "output_type": "stream",
     "text": [
      "Create score volume: 2.49 seconds\n"
     ]
    },
    {
     "name": "stdout",
     "output_type": "stream",
     "text": [
      "aws s3 cp /shared/CSHL_volumes/MD657/MD657_down32_scoreVolume_clf_30/score_volumes/MD657_down32_scoreVolume_clf_30_Pn.bp s3://mousebrainatlas-data/CSHL_volumes/MD657/MD657_down32_scoreVolume_clf_30/score_volumes/MD657_down32_scoreVolume_clf_30_Pn.bp\n"
     ]
    },
    {
     "name": "stderr",
     "output_type": "stream",
     "text": [
      "Child returned 0\n",
      "1.35 seconds.\n"
     ]
    },
    {
     "name": "stdout",
     "output_type": "stream",
     "text": [
      "aws s3 cp /shared/CSHL_volumes/MD657/MD657_down32_scoreVolume_clf_30/score_volumes/MD657_down32_scoreVolume_clf_30_Pn_bbox.txt s3://mousebrainatlas-data/CSHL_volumes/MD657/MD657_down32_scoreVolume_clf_30/score_volumes/MD657_down32_scoreVolume_clf_30_Pn_bbox.txt\n"
     ]
    },
    {
     "name": "stderr",
     "output_type": "stream",
     "text": [
      "Child returned 0\n",
      "0.33 seconds.\n",
      "Child returned 0\n"
     ]
    },
    {
     "name": "stdout",
     "output_type": "stream",
     "text": [
      "Tz\n",
      "rm -rf /shared/CSHL_scoremaps_down32/MD657/MD657-N66-2017.03.21-14.16.35_MD657_2_0197_alignedTo_MD657-F44-2017.02.18-06.06.27_MD657_1_0130_cropped_down32/MD657-N66-2017.03.21-14.16.35_MD657_2_0197_alignedTo_MD657-F44-2017.02.18-06.06.27_MD657_1_0130_cropped_down32_Tz_denseScoreMap_setting_30.bp && mkdir -p /shared/CSHL_scoremaps_down32/MD657/MD657-N66-2017.03.21-14.16.35_MD657_2_0197_alignedTo_MD657-F44-2017.02.18-06.06.27_MD657_1_0130_cropped_down32\n",
      "aws s3 cp s3://mousebrainatlas-data/CSHL_scoremaps_down32/MD657/MD657-N66-2017.03.21-14.16.35_MD657_2_0197_alignedTo_MD657-F44-2017.02.18-06.06.27_MD657_1_0130_cropped_down32/MD657-N66-2017.03.21-14.16.35_MD657_2_0197_alignedTo_MD657-F44-2017.02.18-06.06.27_MD657_1_0130_cropped_down32_Tz_denseScoreMap_setting_30.bp /shared/CSHL_scoremaps_down32/MD657/MD657-N66-2017.03.21-14.16.35_MD657_2_0197_alignedTo_MD657-F44-2017.02.18-06.06.27_MD657_1_0130_cropped_down32/MD657-N66-2017.03.21-14.16.35_MD657_2_0197_alignedTo_MD657-F44-2017.02.18-06.06.27_MD657_1_0130_cropped_down32_Tz_denseScoreMap_setting_30.bp\n"
     ]
    },
    {
     "name": "stderr",
     "output_type": "stream",
     "text": [
      "Child returned 1\n",
      "0.33 seconds.\n",
      "Child returned 0\n"
     ]
    },
    {
     "name": "stdout",
     "output_type": "stream",
     "text": [
      "rm -rf /shared/CSHL_scoremaps_down32/MD657/MD657-N71-2017.02.22-18.34.41_MD657_2_0212_alignedTo_MD657-F44-2017.02.18-06.06.27_MD657_1_0130_cropped_down32/MD657-N71-2017.02.22-18.34.41_MD657_2_0212_alignedTo_MD657-F44-2017.02.18-06.06.27_MD657_1_0130_cropped_down32_Tz_denseScoreMap_setting_30.bp && mkdir -p /shared/CSHL_scoremaps_down32/MD657/MD657-N71-2017.02.22-18.34.41_MD657_2_0212_alignedTo_MD657-F44-2017.02.18-06.06.27_MD657_1_0130_cropped_down32\n",
      "aws s3 cp s3://mousebrainatlas-data/CSHL_scoremaps_down32/MD657/MD657-N71-2017.02.22-18.34.41_MD657_2_0212_alignedTo_MD657-F44-2017.02.18-06.06.27_MD657_1_0130_cropped_down32/MD657-N71-2017.02.22-18.34.41_MD657_2_0212_alignedTo_MD657-F44-2017.02.18-06.06.27_MD657_1_0130_cropped_down32_Tz_denseScoreMap_setting_30.bp /shared/CSHL_scoremaps_down32/MD657/MD657-N71-2017.02.22-18.34.41_MD657_2_0212_alignedTo_MD657-F44-2017.02.18-06.06.27_MD657_1_0130_cropped_down32/MD657-N71-2017.02.22-18.34.41_MD657_2_0212_alignedTo_MD657-F44-2017.02.18-06.06.27_MD657_1_0130_cropped_down32_Tz_denseScoreMap_setting_30.bp\n"
     ]
    },
    {
     "name": "stderr",
     "output_type": "stream",
     "text": [
      "Child returned 1\n",
      "0.34 seconds.\n",
      "Load scoremaps: 0.84 seconds\n"
     ]
    },
    {
     "name": "stdout",
     "output_type": "stream",
     "text": [
      "127 scoremaps loaded.\n"
     ]
    },
    {
     "name": "stderr",
     "output_type": "stream",
     "text": [
      "Create score volume: 2.07 seconds\n"
     ]
    },
    {
     "name": "stdout",
     "output_type": "stream",
     "text": [
      "aws s3 cp /shared/CSHL_volumes/MD657/MD657_down32_scoreVolume_clf_30/score_volumes/MD657_down32_scoreVolume_clf_30_Tz.bp s3://mousebrainatlas-data/CSHL_volumes/MD657/MD657_down32_scoreVolume_clf_30/score_volumes/MD657_down32_scoreVolume_clf_30_Tz.bp\n"
     ]
    },
    {
     "name": "stderr",
     "output_type": "stream",
     "text": [
      "Child returned 0\n",
      "1.35 seconds.\n"
     ]
    },
    {
     "name": "stdout",
     "output_type": "stream",
     "text": [
      "aws s3 cp /shared/CSHL_volumes/MD657/MD657_down32_scoreVolume_clf_30/score_volumes/MD657_down32_scoreVolume_clf_30_Tz_bbox.txt s3://mousebrainatlas-data/CSHL_volumes/MD657/MD657_down32_scoreVolume_clf_30/score_volumes/MD657_down32_scoreVolume_clf_30_Tz_bbox.txt\n"
     ]
    },
    {
     "name": "stderr",
     "output_type": "stream",
     "text": [
      "Child returned 0\n",
      "0.36 seconds.\n",
      "Child returned 0\n"
     ]
    },
    {
     "name": "stdout",
     "output_type": "stream",
     "text": [
      "VLL\n",
      "rm -rf /shared/CSHL_scoremaps_down32/MD657/MD657-N66-2017.03.21-14.16.35_MD657_2_0197_alignedTo_MD657-F44-2017.02.18-06.06.27_MD657_1_0130_cropped_down32/MD657-N66-2017.03.21-14.16.35_MD657_2_0197_alignedTo_MD657-F44-2017.02.18-06.06.27_MD657_1_0130_cropped_down32_VLL_denseScoreMap_setting_30.bp && mkdir -p /shared/CSHL_scoremaps_down32/MD657/MD657-N66-2017.03.21-14.16.35_MD657_2_0197_alignedTo_MD657-F44-2017.02.18-06.06.27_MD657_1_0130_cropped_down32\n",
      "aws s3 cp s3://mousebrainatlas-data/CSHL_scoremaps_down32/MD657/MD657-N66-2017.03.21-14.16.35_MD657_2_0197_alignedTo_MD657-F44-2017.02.18-06.06.27_MD657_1_0130_cropped_down32/MD657-N66-2017.03.21-14.16.35_MD657_2_0197_alignedTo_MD657-F44-2017.02.18-06.06.27_MD657_1_0130_cropped_down32_VLL_denseScoreMap_setting_30.bp /shared/CSHL_scoremaps_down32/MD657/MD657-N66-2017.03.21-14.16.35_MD657_2_0197_alignedTo_MD657-F44-2017.02.18-06.06.27_MD657_1_0130_cropped_down32/MD657-N66-2017.03.21-14.16.35_MD657_2_0197_alignedTo_MD657-F44-2017.02.18-06.06.27_MD657_1_0130_cropped_down32_VLL_denseScoreMap_setting_30.bp\n"
     ]
    },
    {
     "name": "stderr",
     "output_type": "stream",
     "text": [
      "Child returned 1\n",
      "0.37 seconds.\n",
      "Child returned 0\n"
     ]
    },
    {
     "name": "stdout",
     "output_type": "stream",
     "text": [
      "rm -rf /shared/CSHL_scoremaps_down32/MD657/MD657-N71-2017.02.22-18.34.41_MD657_2_0212_alignedTo_MD657-F44-2017.02.18-06.06.27_MD657_1_0130_cropped_down32/MD657-N71-2017.02.22-18.34.41_MD657_2_0212_alignedTo_MD657-F44-2017.02.18-06.06.27_MD657_1_0130_cropped_down32_VLL_denseScoreMap_setting_30.bp && mkdir -p /shared/CSHL_scoremaps_down32/MD657/MD657-N71-2017.02.22-18.34.41_MD657_2_0212_alignedTo_MD657-F44-2017.02.18-06.06.27_MD657_1_0130_cropped_down32\n",
      "aws s3 cp s3://mousebrainatlas-data/CSHL_scoremaps_down32/MD657/MD657-N71-2017.02.22-18.34.41_MD657_2_0212_alignedTo_MD657-F44-2017.02.18-06.06.27_MD657_1_0130_cropped_down32/MD657-N71-2017.02.22-18.34.41_MD657_2_0212_alignedTo_MD657-F44-2017.02.18-06.06.27_MD657_1_0130_cropped_down32_VLL_denseScoreMap_setting_30.bp /shared/CSHL_scoremaps_down32/MD657/MD657-N71-2017.02.22-18.34.41_MD657_2_0212_alignedTo_MD657-F44-2017.02.18-06.06.27_MD657_1_0130_cropped_down32/MD657-N71-2017.02.22-18.34.41_MD657_2_0212_alignedTo_MD657-F44-2017.02.18-06.06.27_MD657_1_0130_cropped_down32_VLL_denseScoreMap_setting_30.bp\n"
     ]
    },
    {
     "name": "stderr",
     "output_type": "stream",
     "text": [
      "Child returned 1\n",
      "0.35 seconds.\n",
      "Load scoremaps: 0.88 seconds\n"
     ]
    },
    {
     "name": "stdout",
     "output_type": "stream",
     "text": [
      "127 scoremaps loaded.\n"
     ]
    },
    {
     "name": "stderr",
     "output_type": "stream",
     "text": [
      "Create score volume: 2.19 seconds\n"
     ]
    },
    {
     "name": "stdout",
     "output_type": "stream",
     "text": [
      "aws s3 cp /shared/CSHL_volumes/MD657/MD657_down32_scoreVolume_clf_30/score_volumes/MD657_down32_scoreVolume_clf_30_VLL.bp s3://mousebrainatlas-data/CSHL_volumes/MD657/MD657_down32_scoreVolume_clf_30/score_volumes/MD657_down32_scoreVolume_clf_30_VLL.bp\n"
     ]
    },
    {
     "name": "stderr",
     "output_type": "stream",
     "text": [
      "Child returned 0\n",
      "7.41 seconds.\n"
     ]
    },
    {
     "name": "stdout",
     "output_type": "stream",
     "text": [
      "aws s3 cp /shared/CSHL_volumes/MD657/MD657_down32_scoreVolume_clf_30/score_volumes/MD657_down32_scoreVolume_clf_30_VLL_bbox.txt s3://mousebrainatlas-data/CSHL_volumes/MD657/MD657_down32_scoreVolume_clf_30/score_volumes/MD657_down32_scoreVolume_clf_30_VLL_bbox.txt\n"
     ]
    },
    {
     "name": "stderr",
     "output_type": "stream",
     "text": [
      "Child returned 0\n",
      "0.36 seconds.\n",
      "Child returned 0\n"
     ]
    },
    {
     "name": "stdout",
     "output_type": "stream",
     "text": [
      "RMC\n",
      "rm -rf /shared/CSHL_scoremaps_down32/MD657/MD657-N66-2017.03.21-14.16.35_MD657_2_0197_alignedTo_MD657-F44-2017.02.18-06.06.27_MD657_1_0130_cropped_down32/MD657-N66-2017.03.21-14.16.35_MD657_2_0197_alignedTo_MD657-F44-2017.02.18-06.06.27_MD657_1_0130_cropped_down32_RMC_denseScoreMap_setting_30.bp && mkdir -p /shared/CSHL_scoremaps_down32/MD657/MD657-N66-2017.03.21-14.16.35_MD657_2_0197_alignedTo_MD657-F44-2017.02.18-06.06.27_MD657_1_0130_cropped_down32\n",
      "aws s3 cp s3://mousebrainatlas-data/CSHL_scoremaps_down32/MD657/MD657-N66-2017.03.21-14.16.35_MD657_2_0197_alignedTo_MD657-F44-2017.02.18-06.06.27_MD657_1_0130_cropped_down32/MD657-N66-2017.03.21-14.16.35_MD657_2_0197_alignedTo_MD657-F44-2017.02.18-06.06.27_MD657_1_0130_cropped_down32_RMC_denseScoreMap_setting_30.bp /shared/CSHL_scoremaps_down32/MD657/MD657-N66-2017.03.21-14.16.35_MD657_2_0197_alignedTo_MD657-F44-2017.02.18-06.06.27_MD657_1_0130_cropped_down32/MD657-N66-2017.03.21-14.16.35_MD657_2_0197_alignedTo_MD657-F44-2017.02.18-06.06.27_MD657_1_0130_cropped_down32_RMC_denseScoreMap_setting_30.bp\n"
     ]
    },
    {
     "name": "stderr",
     "output_type": "stream",
     "text": [
      "Child returned 1\n",
      "0.35 seconds.\n",
      "Child returned 0\n"
     ]
    },
    {
     "name": "stdout",
     "output_type": "stream",
     "text": [
      "rm -rf /shared/CSHL_scoremaps_down32/MD657/MD657-N71-2017.02.22-18.34.41_MD657_2_0212_alignedTo_MD657-F44-2017.02.18-06.06.27_MD657_1_0130_cropped_down32/MD657-N71-2017.02.22-18.34.41_MD657_2_0212_alignedTo_MD657-F44-2017.02.18-06.06.27_MD657_1_0130_cropped_down32_RMC_denseScoreMap_setting_30.bp && mkdir -p /shared/CSHL_scoremaps_down32/MD657/MD657-N71-2017.02.22-18.34.41_MD657_2_0212_alignedTo_MD657-F44-2017.02.18-06.06.27_MD657_1_0130_cropped_down32\n",
      "aws s3 cp s3://mousebrainatlas-data/CSHL_scoremaps_down32/MD657/MD657-N71-2017.02.22-18.34.41_MD657_2_0212_alignedTo_MD657-F44-2017.02.18-06.06.27_MD657_1_0130_cropped_down32/MD657-N71-2017.02.22-18.34.41_MD657_2_0212_alignedTo_MD657-F44-2017.02.18-06.06.27_MD657_1_0130_cropped_down32_RMC_denseScoreMap_setting_30.bp /shared/CSHL_scoremaps_down32/MD657/MD657-N71-2017.02.22-18.34.41_MD657_2_0212_alignedTo_MD657-F44-2017.02.18-06.06.27_MD657_1_0130_cropped_down32/MD657-N71-2017.02.22-18.34.41_MD657_2_0212_alignedTo_MD657-F44-2017.02.18-06.06.27_MD657_1_0130_cropped_down32_RMC_denseScoreMap_setting_30.bp\n"
     ]
    },
    {
     "name": "stderr",
     "output_type": "stream",
     "text": [
      "Child returned 1\n",
      "0.34 seconds.\n",
      "Load scoremaps: 0.85 seconds\n"
     ]
    },
    {
     "name": "stdout",
     "output_type": "stream",
     "text": [
      "127 scoremaps loaded.\n"
     ]
    },
    {
     "name": "stderr",
     "output_type": "stream",
     "text": [
      "Create score volume: 2.25 seconds\n"
     ]
    },
    {
     "name": "stdout",
     "output_type": "stream",
     "text": [
      "aws s3 cp /shared/CSHL_volumes/MD657/MD657_down32_scoreVolume_clf_30/score_volumes/MD657_down32_scoreVolume_clf_30_RMC.bp s3://mousebrainatlas-data/CSHL_volumes/MD657/MD657_down32_scoreVolume_clf_30/score_volumes/MD657_down32_scoreVolume_clf_30_RMC.bp\n"
     ]
    },
    {
     "name": "stderr",
     "output_type": "stream",
     "text": [
      "Child returned 0\n",
      "1.40 seconds.\n"
     ]
    },
    {
     "name": "stdout",
     "output_type": "stream",
     "text": [
      "aws s3 cp /shared/CSHL_volumes/MD657/MD657_down32_scoreVolume_clf_30/score_volumes/MD657_down32_scoreVolume_clf_30_RMC_bbox.txt s3://mousebrainatlas-data/CSHL_volumes/MD657/MD657_down32_scoreVolume_clf_30/score_volumes/MD657_down32_scoreVolume_clf_30_RMC_bbox.txt\n"
     ]
    },
    {
     "name": "stderr",
     "output_type": "stream",
     "text": [
      "Child returned 0\n",
      "0.36 seconds.\n",
      "Child returned 0\n"
     ]
    },
    {
     "name": "stdout",
     "output_type": "stream",
     "text": [
      "SNC\n",
      "rm -rf /shared/CSHL_scoremaps_down32/MD657/MD657-N66-2017.03.21-14.16.35_MD657_2_0197_alignedTo_MD657-F44-2017.02.18-06.06.27_MD657_1_0130_cropped_down32/MD657-N66-2017.03.21-14.16.35_MD657_2_0197_alignedTo_MD657-F44-2017.02.18-06.06.27_MD657_1_0130_cropped_down32_SNC_denseScoreMap_setting_30.bp && mkdir -p /shared/CSHL_scoremaps_down32/MD657/MD657-N66-2017.03.21-14.16.35_MD657_2_0197_alignedTo_MD657-F44-2017.02.18-06.06.27_MD657_1_0130_cropped_down32\n",
      "aws s3 cp s3://mousebrainatlas-data/CSHL_scoremaps_down32/MD657/MD657-N66-2017.03.21-14.16.35_MD657_2_0197_alignedTo_MD657-F44-2017.02.18-06.06.27_MD657_1_0130_cropped_down32/MD657-N66-2017.03.21-14.16.35_MD657_2_0197_alignedTo_MD657-F44-2017.02.18-06.06.27_MD657_1_0130_cropped_down32_SNC_denseScoreMap_setting_30.bp /shared/CSHL_scoremaps_down32/MD657/MD657-N66-2017.03.21-14.16.35_MD657_2_0197_alignedTo_MD657-F44-2017.02.18-06.06.27_MD657_1_0130_cropped_down32/MD657-N66-2017.03.21-14.16.35_MD657_2_0197_alignedTo_MD657-F44-2017.02.18-06.06.27_MD657_1_0130_cropped_down32_SNC_denseScoreMap_setting_30.bp\n"
     ]
    },
    {
     "name": "stderr",
     "output_type": "stream",
     "text": [
      "Child returned 1\n",
      "0.33 seconds.\n",
      "Child returned 0\n"
     ]
    },
    {
     "name": "stdout",
     "output_type": "stream",
     "text": [
      "rm -rf /shared/CSHL_scoremaps_down32/MD657/MD657-N71-2017.02.22-18.34.41_MD657_2_0212_alignedTo_MD657-F44-2017.02.18-06.06.27_MD657_1_0130_cropped_down32/MD657-N71-2017.02.22-18.34.41_MD657_2_0212_alignedTo_MD657-F44-2017.02.18-06.06.27_MD657_1_0130_cropped_down32_SNC_denseScoreMap_setting_30.bp && mkdir -p /shared/CSHL_scoremaps_down32/MD657/MD657-N71-2017.02.22-18.34.41_MD657_2_0212_alignedTo_MD657-F44-2017.02.18-06.06.27_MD657_1_0130_cropped_down32\n",
      "aws s3 cp s3://mousebrainatlas-data/CSHL_scoremaps_down32/MD657/MD657-N71-2017.02.22-18.34.41_MD657_2_0212_alignedTo_MD657-F44-2017.02.18-06.06.27_MD657_1_0130_cropped_down32/MD657-N71-2017.02.22-18.34.41_MD657_2_0212_alignedTo_MD657-F44-2017.02.18-06.06.27_MD657_1_0130_cropped_down32_SNC_denseScoreMap_setting_30.bp /shared/CSHL_scoremaps_down32/MD657/MD657-N71-2017.02.22-18.34.41_MD657_2_0212_alignedTo_MD657-F44-2017.02.18-06.06.27_MD657_1_0130_cropped_down32/MD657-N71-2017.02.22-18.34.41_MD657_2_0212_alignedTo_MD657-F44-2017.02.18-06.06.27_MD657_1_0130_cropped_down32_SNC_denseScoreMap_setting_30.bp\n"
     ]
    },
    {
     "name": "stderr",
     "output_type": "stream",
     "text": [
      "Child returned 1\n",
      "0.34 seconds.\n",
      "Load scoremaps: 0.83 seconds\n"
     ]
    },
    {
     "name": "stdout",
     "output_type": "stream",
     "text": [
      "127 scoremaps loaded.\n"
     ]
    },
    {
     "name": "stderr",
     "output_type": "stream",
     "text": [
      "Create score volume: 2.13 seconds\n"
     ]
    },
    {
     "name": "stdout",
     "output_type": "stream",
     "text": [
      "aws s3 cp /shared/CSHL_volumes/MD657/MD657_down32_scoreVolume_clf_30/score_volumes/MD657_down32_scoreVolume_clf_30_SNC.bp s3://mousebrainatlas-data/CSHL_volumes/MD657/MD657_down32_scoreVolume_clf_30/score_volumes/MD657_down32_scoreVolume_clf_30_SNC.bp\n"
     ]
    },
    {
     "name": "stderr",
     "output_type": "stream",
     "text": [
      "Child returned 0\n",
      "1.47 seconds.\n"
     ]
    },
    {
     "name": "stdout",
     "output_type": "stream",
     "text": [
      "aws s3 cp /shared/CSHL_volumes/MD657/MD657_down32_scoreVolume_clf_30/score_volumes/MD657_down32_scoreVolume_clf_30_SNC_bbox.txt s3://mousebrainatlas-data/CSHL_volumes/MD657/MD657_down32_scoreVolume_clf_30/score_volumes/MD657_down32_scoreVolume_clf_30_SNC_bbox.txt\n"
     ]
    },
    {
     "name": "stderr",
     "output_type": "stream",
     "text": [
      "Child returned 0\n",
      "0.36 seconds.\n",
      "Child returned 0\n"
     ]
    },
    {
     "name": "stdout",
     "output_type": "stream",
     "text": [
      "SNR\n",
      "rm -rf /shared/CSHL_scoremaps_down32/MD657/MD657-N66-2017.03.21-14.16.35_MD657_2_0197_alignedTo_MD657-F44-2017.02.18-06.06.27_MD657_1_0130_cropped_down32/MD657-N66-2017.03.21-14.16.35_MD657_2_0197_alignedTo_MD657-F44-2017.02.18-06.06.27_MD657_1_0130_cropped_down32_SNR_denseScoreMap_setting_30.bp && mkdir -p /shared/CSHL_scoremaps_down32/MD657/MD657-N66-2017.03.21-14.16.35_MD657_2_0197_alignedTo_MD657-F44-2017.02.18-06.06.27_MD657_1_0130_cropped_down32\n",
      "aws s3 cp s3://mousebrainatlas-data/CSHL_scoremaps_down32/MD657/MD657-N66-2017.03.21-14.16.35_MD657_2_0197_alignedTo_MD657-F44-2017.02.18-06.06.27_MD657_1_0130_cropped_down32/MD657-N66-2017.03.21-14.16.35_MD657_2_0197_alignedTo_MD657-F44-2017.02.18-06.06.27_MD657_1_0130_cropped_down32_SNR_denseScoreMap_setting_30.bp /shared/CSHL_scoremaps_down32/MD657/MD657-N66-2017.03.21-14.16.35_MD657_2_0197_alignedTo_MD657-F44-2017.02.18-06.06.27_MD657_1_0130_cropped_down32/MD657-N66-2017.03.21-14.16.35_MD657_2_0197_alignedTo_MD657-F44-2017.02.18-06.06.27_MD657_1_0130_cropped_down32_SNR_denseScoreMap_setting_30.bp\n"
     ]
    },
    {
     "name": "stderr",
     "output_type": "stream",
     "text": [
      "Child returned 1\n",
      "0.34 seconds.\n",
      "Child returned 0\n"
     ]
    },
    {
     "name": "stdout",
     "output_type": "stream",
     "text": [
      "rm -rf /shared/CSHL_scoremaps_down32/MD657/MD657-N71-2017.02.22-18.34.41_MD657_2_0212_alignedTo_MD657-F44-2017.02.18-06.06.27_MD657_1_0130_cropped_down32/MD657-N71-2017.02.22-18.34.41_MD657_2_0212_alignedTo_MD657-F44-2017.02.18-06.06.27_MD657_1_0130_cropped_down32_SNR_denseScoreMap_setting_30.bp && mkdir -p /shared/CSHL_scoremaps_down32/MD657/MD657-N71-2017.02.22-18.34.41_MD657_2_0212_alignedTo_MD657-F44-2017.02.18-06.06.27_MD657_1_0130_cropped_down32\n",
      "aws s3 cp s3://mousebrainatlas-data/CSHL_scoremaps_down32/MD657/MD657-N71-2017.02.22-18.34.41_MD657_2_0212_alignedTo_MD657-F44-2017.02.18-06.06.27_MD657_1_0130_cropped_down32/MD657-N71-2017.02.22-18.34.41_MD657_2_0212_alignedTo_MD657-F44-2017.02.18-06.06.27_MD657_1_0130_cropped_down32_SNR_denseScoreMap_setting_30.bp /shared/CSHL_scoremaps_down32/MD657/MD657-N71-2017.02.22-18.34.41_MD657_2_0212_alignedTo_MD657-F44-2017.02.18-06.06.27_MD657_1_0130_cropped_down32/MD657-N71-2017.02.22-18.34.41_MD657_2_0212_alignedTo_MD657-F44-2017.02.18-06.06.27_MD657_1_0130_cropped_down32_SNR_denseScoreMap_setting_30.bp\n"
     ]
    },
    {
     "name": "stderr",
     "output_type": "stream",
     "text": [
      "Child returned 1\n",
      "0.34 seconds.\n",
      "Load scoremaps: 0.85 seconds\n"
     ]
    },
    {
     "name": "stdout",
     "output_type": "stream",
     "text": [
      "127 scoremaps loaded.\n"
     ]
    },
    {
     "name": "stderr",
     "output_type": "stream",
     "text": [
      "Create score volume: 2.07 seconds\n"
     ]
    },
    {
     "name": "stdout",
     "output_type": "stream",
     "text": [
      "aws s3 cp /shared/CSHL_volumes/MD657/MD657_down32_scoreVolume_clf_30/score_volumes/MD657_down32_scoreVolume_clf_30_SNR.bp s3://mousebrainatlas-data/CSHL_volumes/MD657/MD657_down32_scoreVolume_clf_30/score_volumes/MD657_down32_scoreVolume_clf_30_SNR.bp\n"
     ]
    },
    {
     "name": "stderr",
     "output_type": "stream",
     "text": [
      "Child returned 0\n",
      "1.63 seconds.\n"
     ]
    },
    {
     "name": "stdout",
     "output_type": "stream",
     "text": [
      "aws s3 cp /shared/CSHL_volumes/MD657/MD657_down32_scoreVolume_clf_30/score_volumes/MD657_down32_scoreVolume_clf_30_SNR_bbox.txt s3://mousebrainatlas-data/CSHL_volumes/MD657/MD657_down32_scoreVolume_clf_30/score_volumes/MD657_down32_scoreVolume_clf_30_SNR_bbox.txt\n"
     ]
    },
    {
     "name": "stderr",
     "output_type": "stream",
     "text": [
      "Child returned 0\n",
      "0.37 seconds.\n",
      "Child returned 0\n"
     ]
    },
    {
     "name": "stdout",
     "output_type": "stream",
     "text": [
      "3N\n",
      "rm -rf /shared/CSHL_scoremaps_down32/MD657/MD657-N66-2017.03.21-14.16.35_MD657_2_0197_alignedTo_MD657-F44-2017.02.18-06.06.27_MD657_1_0130_cropped_down32/MD657-N66-2017.03.21-14.16.35_MD657_2_0197_alignedTo_MD657-F44-2017.02.18-06.06.27_MD657_1_0130_cropped_down32_3N_denseScoreMap_setting_30.bp && mkdir -p /shared/CSHL_scoremaps_down32/MD657/MD657-N66-2017.03.21-14.16.35_MD657_2_0197_alignedTo_MD657-F44-2017.02.18-06.06.27_MD657_1_0130_cropped_down32\n",
      "aws s3 cp s3://mousebrainatlas-data/CSHL_scoremaps_down32/MD657/MD657-N66-2017.03.21-14.16.35_MD657_2_0197_alignedTo_MD657-F44-2017.02.18-06.06.27_MD657_1_0130_cropped_down32/MD657-N66-2017.03.21-14.16.35_MD657_2_0197_alignedTo_MD657-F44-2017.02.18-06.06.27_MD657_1_0130_cropped_down32_3N_denseScoreMap_setting_30.bp /shared/CSHL_scoremaps_down32/MD657/MD657-N66-2017.03.21-14.16.35_MD657_2_0197_alignedTo_MD657-F44-2017.02.18-06.06.27_MD657_1_0130_cropped_down32/MD657-N66-2017.03.21-14.16.35_MD657_2_0197_alignedTo_MD657-F44-2017.02.18-06.06.27_MD657_1_0130_cropped_down32_3N_denseScoreMap_setting_30.bp\n"
     ]
    },
    {
     "name": "stderr",
     "output_type": "stream",
     "text": [
      "Child returned 1\n",
      "0.34 seconds.\n",
      "Child returned 0\n"
     ]
    },
    {
     "name": "stdout",
     "output_type": "stream",
     "text": [
      "rm -rf /shared/CSHL_scoremaps_down32/MD657/MD657-N71-2017.02.22-18.34.41_MD657_2_0212_alignedTo_MD657-F44-2017.02.18-06.06.27_MD657_1_0130_cropped_down32/MD657-N71-2017.02.22-18.34.41_MD657_2_0212_alignedTo_MD657-F44-2017.02.18-06.06.27_MD657_1_0130_cropped_down32_3N_denseScoreMap_setting_30.bp && mkdir -p /shared/CSHL_scoremaps_down32/MD657/MD657-N71-2017.02.22-18.34.41_MD657_2_0212_alignedTo_MD657-F44-2017.02.18-06.06.27_MD657_1_0130_cropped_down32\n",
      "aws s3 cp s3://mousebrainatlas-data/CSHL_scoremaps_down32/MD657/MD657-N71-2017.02.22-18.34.41_MD657_2_0212_alignedTo_MD657-F44-2017.02.18-06.06.27_MD657_1_0130_cropped_down32/MD657-N71-2017.02.22-18.34.41_MD657_2_0212_alignedTo_MD657-F44-2017.02.18-06.06.27_MD657_1_0130_cropped_down32_3N_denseScoreMap_setting_30.bp /shared/CSHL_scoremaps_down32/MD657/MD657-N71-2017.02.22-18.34.41_MD657_2_0212_alignedTo_MD657-F44-2017.02.18-06.06.27_MD657_1_0130_cropped_down32/MD657-N71-2017.02.22-18.34.41_MD657_2_0212_alignedTo_MD657-F44-2017.02.18-06.06.27_MD657_1_0130_cropped_down32_3N_denseScoreMap_setting_30.bp\n"
     ]
    },
    {
     "name": "stderr",
     "output_type": "stream",
     "text": [
      "Child returned 1\n",
      "0.34 seconds.\n",
      "Load scoremaps: 0.85 seconds\n"
     ]
    },
    {
     "name": "stdout",
     "output_type": "stream",
     "text": [
      "127 scoremaps loaded.\n"
     ]
    },
    {
     "name": "stderr",
     "output_type": "stream",
     "text": [
      "Create score volume: 2.35 seconds\n"
     ]
    },
    {
     "name": "stdout",
     "output_type": "stream",
     "text": [
      "aws s3 cp /shared/CSHL_volumes/MD657/MD657_down32_scoreVolume_clf_30/score_volumes/MD657_down32_scoreVolume_clf_30_3N.bp s3://mousebrainatlas-data/CSHL_volumes/MD657/MD657_down32_scoreVolume_clf_30/score_volumes/MD657_down32_scoreVolume_clf_30_3N.bp\n"
     ]
    },
    {
     "name": "stderr",
     "output_type": "stream",
     "text": [
      "Child returned 0\n",
      "1.31 seconds.\n"
     ]
    },
    {
     "name": "stdout",
     "output_type": "stream",
     "text": [
      "aws s3 cp /shared/CSHL_volumes/MD657/MD657_down32_scoreVolume_clf_30/score_volumes/MD657_down32_scoreVolume_clf_30_3N_bbox.txt s3://mousebrainatlas-data/CSHL_volumes/MD657/MD657_down32_scoreVolume_clf_30/score_volumes/MD657_down32_scoreVolume_clf_30_3N_bbox.txt\n"
     ]
    },
    {
     "name": "stderr",
     "output_type": "stream",
     "text": [
      "Child returned 0\n",
      "0.37 seconds.\n",
      "Child returned 0\n"
     ]
    },
    {
     "name": "stdout",
     "output_type": "stream",
     "text": [
      "4N\n",
      "rm -rf /shared/CSHL_scoremaps_down32/MD657/MD657-N66-2017.03.21-14.16.35_MD657_2_0197_alignedTo_MD657-F44-2017.02.18-06.06.27_MD657_1_0130_cropped_down32/MD657-N66-2017.03.21-14.16.35_MD657_2_0197_alignedTo_MD657-F44-2017.02.18-06.06.27_MD657_1_0130_cropped_down32_4N_denseScoreMap_setting_30.bp && mkdir -p /shared/CSHL_scoremaps_down32/MD657/MD657-N66-2017.03.21-14.16.35_MD657_2_0197_alignedTo_MD657-F44-2017.02.18-06.06.27_MD657_1_0130_cropped_down32\n",
      "aws s3 cp s3://mousebrainatlas-data/CSHL_scoremaps_down32/MD657/MD657-N66-2017.03.21-14.16.35_MD657_2_0197_alignedTo_MD657-F44-2017.02.18-06.06.27_MD657_1_0130_cropped_down32/MD657-N66-2017.03.21-14.16.35_MD657_2_0197_alignedTo_MD657-F44-2017.02.18-06.06.27_MD657_1_0130_cropped_down32_4N_denseScoreMap_setting_30.bp /shared/CSHL_scoremaps_down32/MD657/MD657-N66-2017.03.21-14.16.35_MD657_2_0197_alignedTo_MD657-F44-2017.02.18-06.06.27_MD657_1_0130_cropped_down32/MD657-N66-2017.03.21-14.16.35_MD657_2_0197_alignedTo_MD657-F44-2017.02.18-06.06.27_MD657_1_0130_cropped_down32_4N_denseScoreMap_setting_30.bp\n"
     ]
    },
    {
     "name": "stderr",
     "output_type": "stream",
     "text": [
      "Child returned 1\n",
      "0.35 seconds.\n",
      "Child returned 0\n"
     ]
    },
    {
     "name": "stdout",
     "output_type": "stream",
     "text": [
      "rm -rf /shared/CSHL_scoremaps_down32/MD657/MD657-N71-2017.02.22-18.34.41_MD657_2_0212_alignedTo_MD657-F44-2017.02.18-06.06.27_MD657_1_0130_cropped_down32/MD657-N71-2017.02.22-18.34.41_MD657_2_0212_alignedTo_MD657-F44-2017.02.18-06.06.27_MD657_1_0130_cropped_down32_4N_denseScoreMap_setting_30.bp && mkdir -p /shared/CSHL_scoremaps_down32/MD657/MD657-N71-2017.02.22-18.34.41_MD657_2_0212_alignedTo_MD657-F44-2017.02.18-06.06.27_MD657_1_0130_cropped_down32\n",
      "aws s3 cp s3://mousebrainatlas-data/CSHL_scoremaps_down32/MD657/MD657-N71-2017.02.22-18.34.41_MD657_2_0212_alignedTo_MD657-F44-2017.02.18-06.06.27_MD657_1_0130_cropped_down32/MD657-N71-2017.02.22-18.34.41_MD657_2_0212_alignedTo_MD657-F44-2017.02.18-06.06.27_MD657_1_0130_cropped_down32_4N_denseScoreMap_setting_30.bp /shared/CSHL_scoremaps_down32/MD657/MD657-N71-2017.02.22-18.34.41_MD657_2_0212_alignedTo_MD657-F44-2017.02.18-06.06.27_MD657_1_0130_cropped_down32/MD657-N71-2017.02.22-18.34.41_MD657_2_0212_alignedTo_MD657-F44-2017.02.18-06.06.27_MD657_1_0130_cropped_down32_4N_denseScoreMap_setting_30.bp\n"
     ]
    },
    {
     "name": "stderr",
     "output_type": "stream",
     "text": [
      "Child returned 1\n",
      "0.34 seconds.\n",
      "Load scoremaps: 0.86 seconds\n"
     ]
    },
    {
     "name": "stdout",
     "output_type": "stream",
     "text": [
      "127 scoremaps loaded.\n"
     ]
    },
    {
     "name": "stderr",
     "output_type": "stream",
     "text": [
      "Create score volume: 2.51 seconds\n"
     ]
    },
    {
     "name": "stdout",
     "output_type": "stream",
     "text": [
      "aws s3 cp /shared/CSHL_volumes/MD657/MD657_down32_scoreVolume_clf_30/score_volumes/MD657_down32_scoreVolume_clf_30_4N.bp s3://mousebrainatlas-data/CSHL_volumes/MD657/MD657_down32_scoreVolume_clf_30/score_volumes/MD657_down32_scoreVolume_clf_30_4N.bp\n"
     ]
    },
    {
     "name": "stderr",
     "output_type": "stream",
     "text": [
      "Child returned 0\n",
      "1.37 seconds.\n"
     ]
    },
    {
     "name": "stdout",
     "output_type": "stream",
     "text": [
      "aws s3 cp /shared/CSHL_volumes/MD657/MD657_down32_scoreVolume_clf_30/score_volumes/MD657_down32_scoreVolume_clf_30_4N_bbox.txt s3://mousebrainatlas-data/CSHL_volumes/MD657/MD657_down32_scoreVolume_clf_30/score_volumes/MD657_down32_scoreVolume_clf_30_4N_bbox.txt\n"
     ]
    },
    {
     "name": "stderr",
     "output_type": "stream",
     "text": [
      "Child returned 0\n",
      "0.37 seconds.\n",
      "Child returned 0\n"
     ]
    },
    {
     "name": "stdout",
     "output_type": "stream",
     "text": [
      "Sp5I\n",
      "rm -rf /shared/CSHL_scoremaps_down32/MD657/MD657-N66-2017.03.21-14.16.35_MD657_2_0197_alignedTo_MD657-F44-2017.02.18-06.06.27_MD657_1_0130_cropped_down32/MD657-N66-2017.03.21-14.16.35_MD657_2_0197_alignedTo_MD657-F44-2017.02.18-06.06.27_MD657_1_0130_cropped_down32_Sp5I_denseScoreMap_setting_30.bp && mkdir -p /shared/CSHL_scoremaps_down32/MD657/MD657-N66-2017.03.21-14.16.35_MD657_2_0197_alignedTo_MD657-F44-2017.02.18-06.06.27_MD657_1_0130_cropped_down32\n",
      "aws s3 cp s3://mousebrainatlas-data/CSHL_scoremaps_down32/MD657/MD657-N66-2017.03.21-14.16.35_MD657_2_0197_alignedTo_MD657-F44-2017.02.18-06.06.27_MD657_1_0130_cropped_down32/MD657-N66-2017.03.21-14.16.35_MD657_2_0197_alignedTo_MD657-F44-2017.02.18-06.06.27_MD657_1_0130_cropped_down32_Sp5I_denseScoreMap_setting_30.bp /shared/CSHL_scoremaps_down32/MD657/MD657-N66-2017.03.21-14.16.35_MD657_2_0197_alignedTo_MD657-F44-2017.02.18-06.06.27_MD657_1_0130_cropped_down32/MD657-N66-2017.03.21-14.16.35_MD657_2_0197_alignedTo_MD657-F44-2017.02.18-06.06.27_MD657_1_0130_cropped_down32_Sp5I_denseScoreMap_setting_30.bp\n"
     ]
    },
    {
     "name": "stderr",
     "output_type": "stream",
     "text": [
      "Child returned 1\n",
      "0.35 seconds.\n",
      "Child returned 0\n"
     ]
    },
    {
     "name": "stdout",
     "output_type": "stream",
     "text": [
      "rm -rf /shared/CSHL_scoremaps_down32/MD657/MD657-N71-2017.02.22-18.34.41_MD657_2_0212_alignedTo_MD657-F44-2017.02.18-06.06.27_MD657_1_0130_cropped_down32/MD657-N71-2017.02.22-18.34.41_MD657_2_0212_alignedTo_MD657-F44-2017.02.18-06.06.27_MD657_1_0130_cropped_down32_Sp5I_denseScoreMap_setting_30.bp && mkdir -p /shared/CSHL_scoremaps_down32/MD657/MD657-N71-2017.02.22-18.34.41_MD657_2_0212_alignedTo_MD657-F44-2017.02.18-06.06.27_MD657_1_0130_cropped_down32\n",
      "aws s3 cp s3://mousebrainatlas-data/CSHL_scoremaps_down32/MD657/MD657-N71-2017.02.22-18.34.41_MD657_2_0212_alignedTo_MD657-F44-2017.02.18-06.06.27_MD657_1_0130_cropped_down32/MD657-N71-2017.02.22-18.34.41_MD657_2_0212_alignedTo_MD657-F44-2017.02.18-06.06.27_MD657_1_0130_cropped_down32_Sp5I_denseScoreMap_setting_30.bp /shared/CSHL_scoremaps_down32/MD657/MD657-N71-2017.02.22-18.34.41_MD657_2_0212_alignedTo_MD657-F44-2017.02.18-06.06.27_MD657_1_0130_cropped_down32/MD657-N71-2017.02.22-18.34.41_MD657_2_0212_alignedTo_MD657-F44-2017.02.18-06.06.27_MD657_1_0130_cropped_down32_Sp5I_denseScoreMap_setting_30.bp\n"
     ]
    },
    {
     "name": "stderr",
     "output_type": "stream",
     "text": [
      "Child returned 1\n",
      "0.35 seconds.\n",
      "Load scoremaps: 0.86 seconds\n"
     ]
    },
    {
     "name": "stdout",
     "output_type": "stream",
     "text": [
      "127 scoremaps loaded.\n"
     ]
    },
    {
     "name": "stderr",
     "output_type": "stream",
     "text": [
      "Create score volume: 2.31 seconds\n"
     ]
    },
    {
     "name": "stdout",
     "output_type": "stream",
     "text": [
      "aws s3 cp /shared/CSHL_volumes/MD657/MD657_down32_scoreVolume_clf_30/score_volumes/MD657_down32_scoreVolume_clf_30_Sp5I.bp s3://mousebrainatlas-data/CSHL_volumes/MD657/MD657_down32_scoreVolume_clf_30/score_volumes/MD657_down32_scoreVolume_clf_30_Sp5I.bp\n"
     ]
    },
    {
     "name": "stderr",
     "output_type": "stream",
     "text": [
      "Child returned 0\n",
      "1.36 seconds.\n"
     ]
    },
    {
     "name": "stdout",
     "output_type": "stream",
     "text": [
      "aws s3 cp /shared/CSHL_volumes/MD657/MD657_down32_scoreVolume_clf_30/score_volumes/MD657_down32_scoreVolume_clf_30_Sp5I_bbox.txt s3://mousebrainatlas-data/CSHL_volumes/MD657/MD657_down32_scoreVolume_clf_30/score_volumes/MD657_down32_scoreVolume_clf_30_Sp5I_bbox.txt\n"
     ]
    },
    {
     "name": "stderr",
     "output_type": "stream",
     "text": [
      "Child returned 0\n",
      "0.37 seconds.\n",
      "Child returned 0\n"
     ]
    },
    {
     "name": "stdout",
     "output_type": "stream",
     "text": [
      "Sp5O\n",
      "rm -rf /shared/CSHL_scoremaps_down32/MD657/MD657-N66-2017.03.21-14.16.35_MD657_2_0197_alignedTo_MD657-F44-2017.02.18-06.06.27_MD657_1_0130_cropped_down32/MD657-N66-2017.03.21-14.16.35_MD657_2_0197_alignedTo_MD657-F44-2017.02.18-06.06.27_MD657_1_0130_cropped_down32_Sp5O_denseScoreMap_setting_30.bp && mkdir -p /shared/CSHL_scoremaps_down32/MD657/MD657-N66-2017.03.21-14.16.35_MD657_2_0197_alignedTo_MD657-F44-2017.02.18-06.06.27_MD657_1_0130_cropped_down32\n",
      "aws s3 cp s3://mousebrainatlas-data/CSHL_scoremaps_down32/MD657/MD657-N66-2017.03.21-14.16.35_MD657_2_0197_alignedTo_MD657-F44-2017.02.18-06.06.27_MD657_1_0130_cropped_down32/MD657-N66-2017.03.21-14.16.35_MD657_2_0197_alignedTo_MD657-F44-2017.02.18-06.06.27_MD657_1_0130_cropped_down32_Sp5O_denseScoreMap_setting_30.bp /shared/CSHL_scoremaps_down32/MD657/MD657-N66-2017.03.21-14.16.35_MD657_2_0197_alignedTo_MD657-F44-2017.02.18-06.06.27_MD657_1_0130_cropped_down32/MD657-N66-2017.03.21-14.16.35_MD657_2_0197_alignedTo_MD657-F44-2017.02.18-06.06.27_MD657_1_0130_cropped_down32_Sp5O_denseScoreMap_setting_30.bp\n"
     ]
    },
    {
     "name": "stderr",
     "output_type": "stream",
     "text": [
      "Child returned 1\n",
      "0.34 seconds.\n",
      "Child returned 0\n"
     ]
    },
    {
     "name": "stdout",
     "output_type": "stream",
     "text": [
      "rm -rf /shared/CSHL_scoremaps_down32/MD657/MD657-N71-2017.02.22-18.34.41_MD657_2_0212_alignedTo_MD657-F44-2017.02.18-06.06.27_MD657_1_0130_cropped_down32/MD657-N71-2017.02.22-18.34.41_MD657_2_0212_alignedTo_MD657-F44-2017.02.18-06.06.27_MD657_1_0130_cropped_down32_Sp5O_denseScoreMap_setting_30.bp && mkdir -p /shared/CSHL_scoremaps_down32/MD657/MD657-N71-2017.02.22-18.34.41_MD657_2_0212_alignedTo_MD657-F44-2017.02.18-06.06.27_MD657_1_0130_cropped_down32\n",
      "aws s3 cp s3://mousebrainatlas-data/CSHL_scoremaps_down32/MD657/MD657-N71-2017.02.22-18.34.41_MD657_2_0212_alignedTo_MD657-F44-2017.02.18-06.06.27_MD657_1_0130_cropped_down32/MD657-N71-2017.02.22-18.34.41_MD657_2_0212_alignedTo_MD657-F44-2017.02.18-06.06.27_MD657_1_0130_cropped_down32_Sp5O_denseScoreMap_setting_30.bp /shared/CSHL_scoremaps_down32/MD657/MD657-N71-2017.02.22-18.34.41_MD657_2_0212_alignedTo_MD657-F44-2017.02.18-06.06.27_MD657_1_0130_cropped_down32/MD657-N71-2017.02.22-18.34.41_MD657_2_0212_alignedTo_MD657-F44-2017.02.18-06.06.27_MD657_1_0130_cropped_down32_Sp5O_denseScoreMap_setting_30.bp\n"
     ]
    },
    {
     "name": "stderr",
     "output_type": "stream",
     "text": [
      "Child returned 1\n",
      "0.33 seconds.\n",
      "Load scoremaps: 0.88 seconds\n"
     ]
    },
    {
     "name": "stdout",
     "output_type": "stream",
     "text": [
      "127 scoremaps loaded.\n"
     ]
    },
    {
     "name": "stderr",
     "output_type": "stream",
     "text": [
      "Create score volume: 2.03 seconds\n"
     ]
    },
    {
     "name": "stdout",
     "output_type": "stream",
     "text": [
      "aws s3 cp /shared/CSHL_volumes/MD657/MD657_down32_scoreVolume_clf_30/score_volumes/MD657_down32_scoreVolume_clf_30_Sp5O.bp s3://mousebrainatlas-data/CSHL_volumes/MD657/MD657_down32_scoreVolume_clf_30/score_volumes/MD657_down32_scoreVolume_clf_30_Sp5O.bp\n"
     ]
    },
    {
     "name": "stderr",
     "output_type": "stream",
     "text": [
      "Child returned 0\n",
      "1.37 seconds.\n"
     ]
    },
    {
     "name": "stdout",
     "output_type": "stream",
     "text": [
      "aws s3 cp /shared/CSHL_volumes/MD657/MD657_down32_scoreVolume_clf_30/score_volumes/MD657_down32_scoreVolume_clf_30_Sp5O_bbox.txt s3://mousebrainatlas-data/CSHL_volumes/MD657/MD657_down32_scoreVolume_clf_30/score_volumes/MD657_down32_scoreVolume_clf_30_Sp5O_bbox.txt\n"
     ]
    },
    {
     "name": "stderr",
     "output_type": "stream",
     "text": [
      "Child returned 0\n",
      "0.38 seconds.\n",
      "Child returned 0\n"
     ]
    },
    {
     "name": "stdout",
     "output_type": "stream",
     "text": [
      "Sp5C\n",
      "rm -rf /shared/CSHL_scoremaps_down32/MD657/MD657-N66-2017.03.21-14.16.35_MD657_2_0197_alignedTo_MD657-F44-2017.02.18-06.06.27_MD657_1_0130_cropped_down32/MD657-N66-2017.03.21-14.16.35_MD657_2_0197_alignedTo_MD657-F44-2017.02.18-06.06.27_MD657_1_0130_cropped_down32_Sp5C_denseScoreMap_setting_30.bp && mkdir -p /shared/CSHL_scoremaps_down32/MD657/MD657-N66-2017.03.21-14.16.35_MD657_2_0197_alignedTo_MD657-F44-2017.02.18-06.06.27_MD657_1_0130_cropped_down32\n",
      "aws s3 cp s3://mousebrainatlas-data/CSHL_scoremaps_down32/MD657/MD657-N66-2017.03.21-14.16.35_MD657_2_0197_alignedTo_MD657-F44-2017.02.18-06.06.27_MD657_1_0130_cropped_down32/MD657-N66-2017.03.21-14.16.35_MD657_2_0197_alignedTo_MD657-F44-2017.02.18-06.06.27_MD657_1_0130_cropped_down32_Sp5C_denseScoreMap_setting_30.bp /shared/CSHL_scoremaps_down32/MD657/MD657-N66-2017.03.21-14.16.35_MD657_2_0197_alignedTo_MD657-F44-2017.02.18-06.06.27_MD657_1_0130_cropped_down32/MD657-N66-2017.03.21-14.16.35_MD657_2_0197_alignedTo_MD657-F44-2017.02.18-06.06.27_MD657_1_0130_cropped_down32_Sp5C_denseScoreMap_setting_30.bp\n"
     ]
    },
    {
     "name": "stderr",
     "output_type": "stream",
     "text": [
      "Child returned 1\n",
      "0.35 seconds.\n",
      "Child returned 0\n"
     ]
    },
    {
     "name": "stdout",
     "output_type": "stream",
     "text": [
      "rm -rf /shared/CSHL_scoremaps_down32/MD657/MD657-N71-2017.02.22-18.34.41_MD657_2_0212_alignedTo_MD657-F44-2017.02.18-06.06.27_MD657_1_0130_cropped_down32/MD657-N71-2017.02.22-18.34.41_MD657_2_0212_alignedTo_MD657-F44-2017.02.18-06.06.27_MD657_1_0130_cropped_down32_Sp5C_denseScoreMap_setting_30.bp && mkdir -p /shared/CSHL_scoremaps_down32/MD657/MD657-N71-2017.02.22-18.34.41_MD657_2_0212_alignedTo_MD657-F44-2017.02.18-06.06.27_MD657_1_0130_cropped_down32\n",
      "aws s3 cp s3://mousebrainatlas-data/CSHL_scoremaps_down32/MD657/MD657-N71-2017.02.22-18.34.41_MD657_2_0212_alignedTo_MD657-F44-2017.02.18-06.06.27_MD657_1_0130_cropped_down32/MD657-N71-2017.02.22-18.34.41_MD657_2_0212_alignedTo_MD657-F44-2017.02.18-06.06.27_MD657_1_0130_cropped_down32_Sp5C_denseScoreMap_setting_30.bp /shared/CSHL_scoremaps_down32/MD657/MD657-N71-2017.02.22-18.34.41_MD657_2_0212_alignedTo_MD657-F44-2017.02.18-06.06.27_MD657_1_0130_cropped_down32/MD657-N71-2017.02.22-18.34.41_MD657_2_0212_alignedTo_MD657-F44-2017.02.18-06.06.27_MD657_1_0130_cropped_down32_Sp5C_denseScoreMap_setting_30.bp\n"
     ]
    },
    {
     "name": "stderr",
     "output_type": "stream",
     "text": [
      "Child returned 1\n",
      "0.34 seconds.\n",
      "Load scoremaps: 0.86 seconds\n"
     ]
    },
    {
     "name": "stdout",
     "output_type": "stream",
     "text": [
      "127 scoremaps loaded.\n"
     ]
    },
    {
     "name": "stderr",
     "output_type": "stream",
     "text": [
      "Create score volume: 2.35 seconds\n"
     ]
    },
    {
     "name": "stdout",
     "output_type": "stream",
     "text": [
      "aws s3 cp /shared/CSHL_volumes/MD657/MD657_down32_scoreVolume_clf_30/score_volumes/MD657_down32_scoreVolume_clf_30_Sp5C.bp s3://mousebrainatlas-data/CSHL_volumes/MD657/MD657_down32_scoreVolume_clf_30/score_volumes/MD657_down32_scoreVolume_clf_30_Sp5C.bp\n"
     ]
    },
    {
     "name": "stderr",
     "output_type": "stream",
     "text": [
      "Child returned 0\n",
      "1.31 seconds.\n"
     ]
    },
    {
     "name": "stdout",
     "output_type": "stream",
     "text": [
      "aws s3 cp /shared/CSHL_volumes/MD657/MD657_down32_scoreVolume_clf_30/score_volumes/MD657_down32_scoreVolume_clf_30_Sp5C_bbox.txt s3://mousebrainatlas-data/CSHL_volumes/MD657/MD657_down32_scoreVolume_clf_30/score_volumes/MD657_down32_scoreVolume_clf_30_Sp5C_bbox.txt\n"
     ]
    },
    {
     "name": "stderr",
     "output_type": "stream",
     "text": [
      "Child returned 0\n",
      "0.36 seconds.\n",
      "Child returned 0\n"
     ]
    },
    {
     "name": "stdout",
     "output_type": "stream",
     "text": [
      "PBG\n",
      "rm -rf /shared/CSHL_scoremaps_down32/MD657/MD657-N66-2017.03.21-14.16.35_MD657_2_0197_alignedTo_MD657-F44-2017.02.18-06.06.27_MD657_1_0130_cropped_down32/MD657-N66-2017.03.21-14.16.35_MD657_2_0197_alignedTo_MD657-F44-2017.02.18-06.06.27_MD657_1_0130_cropped_down32_PBG_denseScoreMap_setting_30.bp && mkdir -p /shared/CSHL_scoremaps_down32/MD657/MD657-N66-2017.03.21-14.16.35_MD657_2_0197_alignedTo_MD657-F44-2017.02.18-06.06.27_MD657_1_0130_cropped_down32\n",
      "aws s3 cp s3://mousebrainatlas-data/CSHL_scoremaps_down32/MD657/MD657-N66-2017.03.21-14.16.35_MD657_2_0197_alignedTo_MD657-F44-2017.02.18-06.06.27_MD657_1_0130_cropped_down32/MD657-N66-2017.03.21-14.16.35_MD657_2_0197_alignedTo_MD657-F44-2017.02.18-06.06.27_MD657_1_0130_cropped_down32_PBG_denseScoreMap_setting_30.bp /shared/CSHL_scoremaps_down32/MD657/MD657-N66-2017.03.21-14.16.35_MD657_2_0197_alignedTo_MD657-F44-2017.02.18-06.06.27_MD657_1_0130_cropped_down32/MD657-N66-2017.03.21-14.16.35_MD657_2_0197_alignedTo_MD657-F44-2017.02.18-06.06.27_MD657_1_0130_cropped_down32_PBG_denseScoreMap_setting_30.bp\n"
     ]
    },
    {
     "name": "stderr",
     "output_type": "stream",
     "text": [
      "Child returned 1\n",
      "0.34 seconds.\n",
      "Child returned 0\n"
     ]
    },
    {
     "name": "stdout",
     "output_type": "stream",
     "text": [
      "rm -rf /shared/CSHL_scoremaps_down32/MD657/MD657-N71-2017.02.22-18.34.41_MD657_2_0212_alignedTo_MD657-F44-2017.02.18-06.06.27_MD657_1_0130_cropped_down32/MD657-N71-2017.02.22-18.34.41_MD657_2_0212_alignedTo_MD657-F44-2017.02.18-06.06.27_MD657_1_0130_cropped_down32_PBG_denseScoreMap_setting_30.bp && mkdir -p /shared/CSHL_scoremaps_down32/MD657/MD657-N71-2017.02.22-18.34.41_MD657_2_0212_alignedTo_MD657-F44-2017.02.18-06.06.27_MD657_1_0130_cropped_down32\n",
      "aws s3 cp s3://mousebrainatlas-data/CSHL_scoremaps_down32/MD657/MD657-N71-2017.02.22-18.34.41_MD657_2_0212_alignedTo_MD657-F44-2017.02.18-06.06.27_MD657_1_0130_cropped_down32/MD657-N71-2017.02.22-18.34.41_MD657_2_0212_alignedTo_MD657-F44-2017.02.18-06.06.27_MD657_1_0130_cropped_down32_PBG_denseScoreMap_setting_30.bp /shared/CSHL_scoremaps_down32/MD657/MD657-N71-2017.02.22-18.34.41_MD657_2_0212_alignedTo_MD657-F44-2017.02.18-06.06.27_MD657_1_0130_cropped_down32/MD657-N71-2017.02.22-18.34.41_MD657_2_0212_alignedTo_MD657-F44-2017.02.18-06.06.27_MD657_1_0130_cropped_down32_PBG_denseScoreMap_setting_30.bp\n"
     ]
    },
    {
     "name": "stderr",
     "output_type": "stream",
     "text": [
      "Child returned 1\n",
      "0.35 seconds.\n",
      "Load scoremaps: 0.85 seconds\n"
     ]
    },
    {
     "name": "stdout",
     "output_type": "stream",
     "text": [
      "127 scoremaps loaded.\n"
     ]
    },
    {
     "name": "stderr",
     "output_type": "stream",
     "text": [
      "Create score volume: 1.96 seconds\n"
     ]
    },
    {
     "name": "stdout",
     "output_type": "stream",
     "text": [
      "aws s3 cp /shared/CSHL_volumes/MD657/MD657_down32_scoreVolume_clf_30/score_volumes/MD657_down32_scoreVolume_clf_30_PBG.bp s3://mousebrainatlas-data/CSHL_volumes/MD657/MD657_down32_scoreVolume_clf_30/score_volumes/MD657_down32_scoreVolume_clf_30_PBG.bp\n"
     ]
    },
    {
     "name": "stderr",
     "output_type": "stream",
     "text": [
      "Child returned 0\n",
      "1.56 seconds.\n"
     ]
    },
    {
     "name": "stdout",
     "output_type": "stream",
     "text": [
      "aws s3 cp /shared/CSHL_volumes/MD657/MD657_down32_scoreVolume_clf_30/score_volumes/MD657_down32_scoreVolume_clf_30_PBG_bbox.txt s3://mousebrainatlas-data/CSHL_volumes/MD657/MD657_down32_scoreVolume_clf_30/score_volumes/MD657_down32_scoreVolume_clf_30_PBG_bbox.txt\n"
     ]
    },
    {
     "name": "stderr",
     "output_type": "stream",
     "text": [
      "Child returned 0\n",
      "0.37 seconds.\n",
      "Child returned 0\n"
     ]
    },
    {
     "name": "stdout",
     "output_type": "stream",
     "text": [
      "10N\n",
      "rm -rf /shared/CSHL_scoremaps_down32/MD657/MD657-N66-2017.03.21-14.16.35_MD657_2_0197_alignedTo_MD657-F44-2017.02.18-06.06.27_MD657_1_0130_cropped_down32/MD657-N66-2017.03.21-14.16.35_MD657_2_0197_alignedTo_MD657-F44-2017.02.18-06.06.27_MD657_1_0130_cropped_down32_10N_denseScoreMap_setting_30.bp && mkdir -p /shared/CSHL_scoremaps_down32/MD657/MD657-N66-2017.03.21-14.16.35_MD657_2_0197_alignedTo_MD657-F44-2017.02.18-06.06.27_MD657_1_0130_cropped_down32\n",
      "aws s3 cp s3://mousebrainatlas-data/CSHL_scoremaps_down32/MD657/MD657-N66-2017.03.21-14.16.35_MD657_2_0197_alignedTo_MD657-F44-2017.02.18-06.06.27_MD657_1_0130_cropped_down32/MD657-N66-2017.03.21-14.16.35_MD657_2_0197_alignedTo_MD657-F44-2017.02.18-06.06.27_MD657_1_0130_cropped_down32_10N_denseScoreMap_setting_30.bp /shared/CSHL_scoremaps_down32/MD657/MD657-N66-2017.03.21-14.16.35_MD657_2_0197_alignedTo_MD657-F44-2017.02.18-06.06.27_MD657_1_0130_cropped_down32/MD657-N66-2017.03.21-14.16.35_MD657_2_0197_alignedTo_MD657-F44-2017.02.18-06.06.27_MD657_1_0130_cropped_down32_10N_denseScoreMap_setting_30.bp\n"
     ]
    },
    {
     "name": "stderr",
     "output_type": "stream",
     "text": [
      "Child returned 1\n",
      "0.35 seconds.\n",
      "Child returned 0\n"
     ]
    },
    {
     "name": "stdout",
     "output_type": "stream",
     "text": [
      "rm -rf /shared/CSHL_scoremaps_down32/MD657/MD657-N71-2017.02.22-18.34.41_MD657_2_0212_alignedTo_MD657-F44-2017.02.18-06.06.27_MD657_1_0130_cropped_down32/MD657-N71-2017.02.22-18.34.41_MD657_2_0212_alignedTo_MD657-F44-2017.02.18-06.06.27_MD657_1_0130_cropped_down32_10N_denseScoreMap_setting_30.bp && mkdir -p /shared/CSHL_scoremaps_down32/MD657/MD657-N71-2017.02.22-18.34.41_MD657_2_0212_alignedTo_MD657-F44-2017.02.18-06.06.27_MD657_1_0130_cropped_down32\n",
      "aws s3 cp s3://mousebrainatlas-data/CSHL_scoremaps_down32/MD657/MD657-N71-2017.02.22-18.34.41_MD657_2_0212_alignedTo_MD657-F44-2017.02.18-06.06.27_MD657_1_0130_cropped_down32/MD657-N71-2017.02.22-18.34.41_MD657_2_0212_alignedTo_MD657-F44-2017.02.18-06.06.27_MD657_1_0130_cropped_down32_10N_denseScoreMap_setting_30.bp /shared/CSHL_scoremaps_down32/MD657/MD657-N71-2017.02.22-18.34.41_MD657_2_0212_alignedTo_MD657-F44-2017.02.18-06.06.27_MD657_1_0130_cropped_down32/MD657-N71-2017.02.22-18.34.41_MD657_2_0212_alignedTo_MD657-F44-2017.02.18-06.06.27_MD657_1_0130_cropped_down32_10N_denseScoreMap_setting_30.bp\n"
     ]
    },
    {
     "name": "stderr",
     "output_type": "stream",
     "text": [
      "Child returned 1\n",
      "0.34 seconds.\n",
      "Load scoremaps: 0.85 seconds\n"
     ]
    },
    {
     "name": "stdout",
     "output_type": "stream",
     "text": [
      "127 scoremaps loaded.\n"
     ]
    },
    {
     "name": "stderr",
     "output_type": "stream",
     "text": [
      "Create score volume: 2.09 seconds\n"
     ]
    },
    {
     "name": "stdout",
     "output_type": "stream",
     "text": [
      "aws s3 cp /shared/CSHL_volumes/MD657/MD657_down32_scoreVolume_clf_30/score_volumes/MD657_down32_scoreVolume_clf_30_10N.bp s3://mousebrainatlas-data/CSHL_volumes/MD657/MD657_down32_scoreVolume_clf_30/score_volumes/MD657_down32_scoreVolume_clf_30_10N.bp\n"
     ]
    },
    {
     "name": "stderr",
     "output_type": "stream",
     "text": [
      "Child returned 0\n",
      "1.47 seconds.\n"
     ]
    },
    {
     "name": "stdout",
     "output_type": "stream",
     "text": [
      "aws s3 cp /shared/CSHL_volumes/MD657/MD657_down32_scoreVolume_clf_30/score_volumes/MD657_down32_scoreVolume_clf_30_10N_bbox.txt s3://mousebrainatlas-data/CSHL_volumes/MD657/MD657_down32_scoreVolume_clf_30/score_volumes/MD657_down32_scoreVolume_clf_30_10N_bbox.txt\n"
     ]
    },
    {
     "name": "stderr",
     "output_type": "stream",
     "text": [
      "Child returned 0\n",
      "0.37 seconds.\n",
      "Child returned 0\n"
     ]
    },
    {
     "name": "stdout",
     "output_type": "stream",
     "text": [
      "VCA\n",
      "rm -rf /shared/CSHL_scoremaps_down32/MD657/MD657-N66-2017.03.21-14.16.35_MD657_2_0197_alignedTo_MD657-F44-2017.02.18-06.06.27_MD657_1_0130_cropped_down32/MD657-N66-2017.03.21-14.16.35_MD657_2_0197_alignedTo_MD657-F44-2017.02.18-06.06.27_MD657_1_0130_cropped_down32_VCA_denseScoreMap_setting_30.bp && mkdir -p /shared/CSHL_scoremaps_down32/MD657/MD657-N66-2017.03.21-14.16.35_MD657_2_0197_alignedTo_MD657-F44-2017.02.18-06.06.27_MD657_1_0130_cropped_down32\n",
      "aws s3 cp s3://mousebrainatlas-data/CSHL_scoremaps_down32/MD657/MD657-N66-2017.03.21-14.16.35_MD657_2_0197_alignedTo_MD657-F44-2017.02.18-06.06.27_MD657_1_0130_cropped_down32/MD657-N66-2017.03.21-14.16.35_MD657_2_0197_alignedTo_MD657-F44-2017.02.18-06.06.27_MD657_1_0130_cropped_down32_VCA_denseScoreMap_setting_30.bp /shared/CSHL_scoremaps_down32/MD657/MD657-N66-2017.03.21-14.16.35_MD657_2_0197_alignedTo_MD657-F44-2017.02.18-06.06.27_MD657_1_0130_cropped_down32/MD657-N66-2017.03.21-14.16.35_MD657_2_0197_alignedTo_MD657-F44-2017.02.18-06.06.27_MD657_1_0130_cropped_down32_VCA_denseScoreMap_setting_30.bp\n"
     ]
    },
    {
     "name": "stderr",
     "output_type": "stream",
     "text": [
      "Child returned 1\n",
      "0.35 seconds.\n",
      "Child returned 0\n"
     ]
    },
    {
     "name": "stdout",
     "output_type": "stream",
     "text": [
      "rm -rf /shared/CSHL_scoremaps_down32/MD657/MD657-N71-2017.02.22-18.34.41_MD657_2_0212_alignedTo_MD657-F44-2017.02.18-06.06.27_MD657_1_0130_cropped_down32/MD657-N71-2017.02.22-18.34.41_MD657_2_0212_alignedTo_MD657-F44-2017.02.18-06.06.27_MD657_1_0130_cropped_down32_VCA_denseScoreMap_setting_30.bp && mkdir -p /shared/CSHL_scoremaps_down32/MD657/MD657-N71-2017.02.22-18.34.41_MD657_2_0212_alignedTo_MD657-F44-2017.02.18-06.06.27_MD657_1_0130_cropped_down32\n",
      "aws s3 cp s3://mousebrainatlas-data/CSHL_scoremaps_down32/MD657/MD657-N71-2017.02.22-18.34.41_MD657_2_0212_alignedTo_MD657-F44-2017.02.18-06.06.27_MD657_1_0130_cropped_down32/MD657-N71-2017.02.22-18.34.41_MD657_2_0212_alignedTo_MD657-F44-2017.02.18-06.06.27_MD657_1_0130_cropped_down32_VCA_denseScoreMap_setting_30.bp /shared/CSHL_scoremaps_down32/MD657/MD657-N71-2017.02.22-18.34.41_MD657_2_0212_alignedTo_MD657-F44-2017.02.18-06.06.27_MD657_1_0130_cropped_down32/MD657-N71-2017.02.22-18.34.41_MD657_2_0212_alignedTo_MD657-F44-2017.02.18-06.06.27_MD657_1_0130_cropped_down32_VCA_denseScoreMap_setting_30.bp\n"
     ]
    },
    {
     "name": "stderr",
     "output_type": "stream",
     "text": [
      "Child returned 1\n",
      "0.35 seconds.\n",
      "Load scoremaps: 0.87 seconds\n"
     ]
    },
    {
     "name": "stdout",
     "output_type": "stream",
     "text": [
      "127 scoremaps loaded.\n"
     ]
    },
    {
     "name": "stderr",
     "output_type": "stream",
     "text": [
      "Create score volume: 2.01 seconds\n"
     ]
    },
    {
     "name": "stdout",
     "output_type": "stream",
     "text": [
      "aws s3 cp /shared/CSHL_volumes/MD657/MD657_down32_scoreVolume_clf_30/score_volumes/MD657_down32_scoreVolume_clf_30_VCA.bp s3://mousebrainatlas-data/CSHL_volumes/MD657/MD657_down32_scoreVolume_clf_30/score_volumes/MD657_down32_scoreVolume_clf_30_VCA.bp\n"
     ]
    },
    {
     "name": "stderr",
     "output_type": "stream",
     "text": [
      "Child returned 0\n",
      "1.43 seconds.\n"
     ]
    },
    {
     "name": "stdout",
     "output_type": "stream",
     "text": [
      "aws s3 cp /shared/CSHL_volumes/MD657/MD657_down32_scoreVolume_clf_30/score_volumes/MD657_down32_scoreVolume_clf_30_VCA_bbox.txt s3://mousebrainatlas-data/CSHL_volumes/MD657/MD657_down32_scoreVolume_clf_30/score_volumes/MD657_down32_scoreVolume_clf_30_VCA_bbox.txt\n"
     ]
    },
    {
     "name": "stderr",
     "output_type": "stream",
     "text": [
      "Child returned 0\n",
      "0.36 seconds.\n",
      "Child returned 0\n"
     ]
    },
    {
     "name": "stdout",
     "output_type": "stream",
     "text": [
      "VCP\n",
      "rm -rf /shared/CSHL_scoremaps_down32/MD657/MD657-N66-2017.03.21-14.16.35_MD657_2_0197_alignedTo_MD657-F44-2017.02.18-06.06.27_MD657_1_0130_cropped_down32/MD657-N66-2017.03.21-14.16.35_MD657_2_0197_alignedTo_MD657-F44-2017.02.18-06.06.27_MD657_1_0130_cropped_down32_VCP_denseScoreMap_setting_30.bp && mkdir -p /shared/CSHL_scoremaps_down32/MD657/MD657-N66-2017.03.21-14.16.35_MD657_2_0197_alignedTo_MD657-F44-2017.02.18-06.06.27_MD657_1_0130_cropped_down32\n",
      "aws s3 cp s3://mousebrainatlas-data/CSHL_scoremaps_down32/MD657/MD657-N66-2017.03.21-14.16.35_MD657_2_0197_alignedTo_MD657-F44-2017.02.18-06.06.27_MD657_1_0130_cropped_down32/MD657-N66-2017.03.21-14.16.35_MD657_2_0197_alignedTo_MD657-F44-2017.02.18-06.06.27_MD657_1_0130_cropped_down32_VCP_denseScoreMap_setting_30.bp /shared/CSHL_scoremaps_down32/MD657/MD657-N66-2017.03.21-14.16.35_MD657_2_0197_alignedTo_MD657-F44-2017.02.18-06.06.27_MD657_1_0130_cropped_down32/MD657-N66-2017.03.21-14.16.35_MD657_2_0197_alignedTo_MD657-F44-2017.02.18-06.06.27_MD657_1_0130_cropped_down32_VCP_denseScoreMap_setting_30.bp\n"
     ]
    },
    {
     "name": "stderr",
     "output_type": "stream",
     "text": [
      "Child returned 1\n",
      "0.34 seconds.\n",
      "Child returned 0\n"
     ]
    },
    {
     "name": "stdout",
     "output_type": "stream",
     "text": [
      "rm -rf /shared/CSHL_scoremaps_down32/MD657/MD657-N71-2017.02.22-18.34.41_MD657_2_0212_alignedTo_MD657-F44-2017.02.18-06.06.27_MD657_1_0130_cropped_down32/MD657-N71-2017.02.22-18.34.41_MD657_2_0212_alignedTo_MD657-F44-2017.02.18-06.06.27_MD657_1_0130_cropped_down32_VCP_denseScoreMap_setting_30.bp && mkdir -p /shared/CSHL_scoremaps_down32/MD657/MD657-N71-2017.02.22-18.34.41_MD657_2_0212_alignedTo_MD657-F44-2017.02.18-06.06.27_MD657_1_0130_cropped_down32\n",
      "aws s3 cp s3://mousebrainatlas-data/CSHL_scoremaps_down32/MD657/MD657-N71-2017.02.22-18.34.41_MD657_2_0212_alignedTo_MD657-F44-2017.02.18-06.06.27_MD657_1_0130_cropped_down32/MD657-N71-2017.02.22-18.34.41_MD657_2_0212_alignedTo_MD657-F44-2017.02.18-06.06.27_MD657_1_0130_cropped_down32_VCP_denseScoreMap_setting_30.bp /shared/CSHL_scoremaps_down32/MD657/MD657-N71-2017.02.22-18.34.41_MD657_2_0212_alignedTo_MD657-F44-2017.02.18-06.06.27_MD657_1_0130_cropped_down32/MD657-N71-2017.02.22-18.34.41_MD657_2_0212_alignedTo_MD657-F44-2017.02.18-06.06.27_MD657_1_0130_cropped_down32_VCP_denseScoreMap_setting_30.bp\n"
     ]
    },
    {
     "name": "stderr",
     "output_type": "stream",
     "text": [
      "Child returned 1\n",
      "0.35 seconds.\n",
      "Load scoremaps: 0.86 seconds\n"
     ]
    },
    {
     "name": "stdout",
     "output_type": "stream",
     "text": [
      "127 scoremaps loaded.\n"
     ]
    },
    {
     "name": "stderr",
     "output_type": "stream",
     "text": [
      "Create score volume: 2.22 seconds\n"
     ]
    },
    {
     "name": "stdout",
     "output_type": "stream",
     "text": [
      "aws s3 cp /shared/CSHL_volumes/MD657/MD657_down32_scoreVolume_clf_30/score_volumes/MD657_down32_scoreVolume_clf_30_VCP.bp s3://mousebrainatlas-data/CSHL_volumes/MD657/MD657_down32_scoreVolume_clf_30/score_volumes/MD657_down32_scoreVolume_clf_30_VCP.bp\n"
     ]
    },
    {
     "name": "stderr",
     "output_type": "stream",
     "text": [
      "Child returned 0\n",
      "1.33 seconds.\n"
     ]
    },
    {
     "name": "stdout",
     "output_type": "stream",
     "text": [
      "aws s3 cp /shared/CSHL_volumes/MD657/MD657_down32_scoreVolume_clf_30/score_volumes/MD657_down32_scoreVolume_clf_30_VCP_bbox.txt s3://mousebrainatlas-data/CSHL_volumes/MD657/MD657_down32_scoreVolume_clf_30/score_volumes/MD657_down32_scoreVolume_clf_30_VCP_bbox.txt\n"
     ]
    },
    {
     "name": "stderr",
     "output_type": "stream",
     "text": [
      "Child returned 0\n",
      "0.36 seconds.\n",
      "Child returned 0\n"
     ]
    },
    {
     "name": "stdout",
     "output_type": "stream",
     "text": [
      "DC\n",
      "rm -rf /shared/CSHL_scoremaps_down32/MD657/MD657-N66-2017.03.21-14.16.35_MD657_2_0197_alignedTo_MD657-F44-2017.02.18-06.06.27_MD657_1_0130_cropped_down32/MD657-N66-2017.03.21-14.16.35_MD657_2_0197_alignedTo_MD657-F44-2017.02.18-06.06.27_MD657_1_0130_cropped_down32_DC_denseScoreMap_setting_30.bp && mkdir -p /shared/CSHL_scoremaps_down32/MD657/MD657-N66-2017.03.21-14.16.35_MD657_2_0197_alignedTo_MD657-F44-2017.02.18-06.06.27_MD657_1_0130_cropped_down32\n",
      "aws s3 cp s3://mousebrainatlas-data/CSHL_scoremaps_down32/MD657/MD657-N66-2017.03.21-14.16.35_MD657_2_0197_alignedTo_MD657-F44-2017.02.18-06.06.27_MD657_1_0130_cropped_down32/MD657-N66-2017.03.21-14.16.35_MD657_2_0197_alignedTo_MD657-F44-2017.02.18-06.06.27_MD657_1_0130_cropped_down32_DC_denseScoreMap_setting_30.bp /shared/CSHL_scoremaps_down32/MD657/MD657-N66-2017.03.21-14.16.35_MD657_2_0197_alignedTo_MD657-F44-2017.02.18-06.06.27_MD657_1_0130_cropped_down32/MD657-N66-2017.03.21-14.16.35_MD657_2_0197_alignedTo_MD657-F44-2017.02.18-06.06.27_MD657_1_0130_cropped_down32_DC_denseScoreMap_setting_30.bp\n"
     ]
    },
    {
     "name": "stderr",
     "output_type": "stream",
     "text": [
      "Child returned 1\n",
      "0.34 seconds.\n",
      "Child returned 0\n"
     ]
    },
    {
     "name": "stdout",
     "output_type": "stream",
     "text": [
      "rm -rf /shared/CSHL_scoremaps_down32/MD657/MD657-N71-2017.02.22-18.34.41_MD657_2_0212_alignedTo_MD657-F44-2017.02.18-06.06.27_MD657_1_0130_cropped_down32/MD657-N71-2017.02.22-18.34.41_MD657_2_0212_alignedTo_MD657-F44-2017.02.18-06.06.27_MD657_1_0130_cropped_down32_DC_denseScoreMap_setting_30.bp && mkdir -p /shared/CSHL_scoremaps_down32/MD657/MD657-N71-2017.02.22-18.34.41_MD657_2_0212_alignedTo_MD657-F44-2017.02.18-06.06.27_MD657_1_0130_cropped_down32\n",
      "aws s3 cp s3://mousebrainatlas-data/CSHL_scoremaps_down32/MD657/MD657-N71-2017.02.22-18.34.41_MD657_2_0212_alignedTo_MD657-F44-2017.02.18-06.06.27_MD657_1_0130_cropped_down32/MD657-N71-2017.02.22-18.34.41_MD657_2_0212_alignedTo_MD657-F44-2017.02.18-06.06.27_MD657_1_0130_cropped_down32_DC_denseScoreMap_setting_30.bp /shared/CSHL_scoremaps_down32/MD657/MD657-N71-2017.02.22-18.34.41_MD657_2_0212_alignedTo_MD657-F44-2017.02.18-06.06.27_MD657_1_0130_cropped_down32/MD657-N71-2017.02.22-18.34.41_MD657_2_0212_alignedTo_MD657-F44-2017.02.18-06.06.27_MD657_1_0130_cropped_down32_DC_denseScoreMap_setting_30.bp\n"
     ]
    },
    {
     "name": "stderr",
     "output_type": "stream",
     "text": [
      "Child returned 1\n",
      "0.35 seconds.\n",
      "Load scoremaps: 0.86 seconds\n"
     ]
    },
    {
     "name": "stdout",
     "output_type": "stream",
     "text": [
      "127 scoremaps loaded.\n"
     ]
    },
    {
     "name": "stderr",
     "output_type": "stream",
     "text": [
      "Create score volume: 2.54 seconds\n"
     ]
    },
    {
     "name": "stdout",
     "output_type": "stream",
     "text": [
      "aws s3 cp /shared/CSHL_volumes/MD657/MD657_down32_scoreVolume_clf_30/score_volumes/MD657_down32_scoreVolume_clf_30_DC.bp s3://mousebrainatlas-data/CSHL_volumes/MD657/MD657_down32_scoreVolume_clf_30/score_volumes/MD657_down32_scoreVolume_clf_30_DC.bp\n"
     ]
    },
    {
     "name": "stderr",
     "output_type": "stream",
     "text": [
      "Child returned 0\n",
      "1.30 seconds.\n"
     ]
    },
    {
     "name": "stdout",
     "output_type": "stream",
     "text": [
      "aws s3 cp /shared/CSHL_volumes/MD657/MD657_down32_scoreVolume_clf_30/score_volumes/MD657_down32_scoreVolume_clf_30_DC_bbox.txt s3://mousebrainatlas-data/CSHL_volumes/MD657/MD657_down32_scoreVolume_clf_30/score_volumes/MD657_down32_scoreVolume_clf_30_DC_bbox.txt\n"
     ]
    },
    {
     "name": "stderr",
     "output_type": "stream",
     "text": [
      "Child returned 0\n",
      "0.36 seconds.\n",
      "Child returned 0\n"
     ]
    },
    {
     "name": "stdout",
     "output_type": "stream",
     "text": [
      "AP\n",
      "rm -rf /shared/CSHL_scoremaps_down32/MD657/MD657-N66-2017.03.21-14.16.35_MD657_2_0197_alignedTo_MD657-F44-2017.02.18-06.06.27_MD657_1_0130_cropped_down32/MD657-N66-2017.03.21-14.16.35_MD657_2_0197_alignedTo_MD657-F44-2017.02.18-06.06.27_MD657_1_0130_cropped_down32_AP_denseScoreMap_setting_30.bp && mkdir -p /shared/CSHL_scoremaps_down32/MD657/MD657-N66-2017.03.21-14.16.35_MD657_2_0197_alignedTo_MD657-F44-2017.02.18-06.06.27_MD657_1_0130_cropped_down32\n",
      "aws s3 cp s3://mousebrainatlas-data/CSHL_scoremaps_down32/MD657/MD657-N66-2017.03.21-14.16.35_MD657_2_0197_alignedTo_MD657-F44-2017.02.18-06.06.27_MD657_1_0130_cropped_down32/MD657-N66-2017.03.21-14.16.35_MD657_2_0197_alignedTo_MD657-F44-2017.02.18-06.06.27_MD657_1_0130_cropped_down32_AP_denseScoreMap_setting_30.bp /shared/CSHL_scoremaps_down32/MD657/MD657-N66-2017.03.21-14.16.35_MD657_2_0197_alignedTo_MD657-F44-2017.02.18-06.06.27_MD657_1_0130_cropped_down32/MD657-N66-2017.03.21-14.16.35_MD657_2_0197_alignedTo_MD657-F44-2017.02.18-06.06.27_MD657_1_0130_cropped_down32_AP_denseScoreMap_setting_30.bp\n"
     ]
    },
    {
     "name": "stderr",
     "output_type": "stream",
     "text": [
      "Child returned 1\n",
      "0.34 seconds.\n",
      "Child returned 0\n"
     ]
    },
    {
     "name": "stdout",
     "output_type": "stream",
     "text": [
      "rm -rf /shared/CSHL_scoremaps_down32/MD657/MD657-N71-2017.02.22-18.34.41_MD657_2_0212_alignedTo_MD657-F44-2017.02.18-06.06.27_MD657_1_0130_cropped_down32/MD657-N71-2017.02.22-18.34.41_MD657_2_0212_alignedTo_MD657-F44-2017.02.18-06.06.27_MD657_1_0130_cropped_down32_AP_denseScoreMap_setting_30.bp && mkdir -p /shared/CSHL_scoremaps_down32/MD657/MD657-N71-2017.02.22-18.34.41_MD657_2_0212_alignedTo_MD657-F44-2017.02.18-06.06.27_MD657_1_0130_cropped_down32\n",
      "aws s3 cp s3://mousebrainatlas-data/CSHL_scoremaps_down32/MD657/MD657-N71-2017.02.22-18.34.41_MD657_2_0212_alignedTo_MD657-F44-2017.02.18-06.06.27_MD657_1_0130_cropped_down32/MD657-N71-2017.02.22-18.34.41_MD657_2_0212_alignedTo_MD657-F44-2017.02.18-06.06.27_MD657_1_0130_cropped_down32_AP_denseScoreMap_setting_30.bp /shared/CSHL_scoremaps_down32/MD657/MD657-N71-2017.02.22-18.34.41_MD657_2_0212_alignedTo_MD657-F44-2017.02.18-06.06.27_MD657_1_0130_cropped_down32/MD657-N71-2017.02.22-18.34.41_MD657_2_0212_alignedTo_MD657-F44-2017.02.18-06.06.27_MD657_1_0130_cropped_down32_AP_denseScoreMap_setting_30.bp\n"
     ]
    },
    {
     "name": "stderr",
     "output_type": "stream",
     "text": [
      "Child returned 1\n",
      "0.33 seconds.\n",
      "Load scoremaps: 0.82 seconds\n"
     ]
    },
    {
     "name": "stdout",
     "output_type": "stream",
     "text": [
      "127 scoremaps loaded.\n"
     ]
    },
    {
     "name": "stderr",
     "output_type": "stream",
     "text": [
      "Create score volume: 2.31 seconds\n"
     ]
    },
    {
     "name": "stdout",
     "output_type": "stream",
     "text": [
      "aws s3 cp /shared/CSHL_volumes/MD657/MD657_down32_scoreVolume_clf_30/score_volumes/MD657_down32_scoreVolume_clf_30_AP.bp s3://mousebrainatlas-data/CSHL_volumes/MD657/MD657_down32_scoreVolume_clf_30/score_volumes/MD657_down32_scoreVolume_clf_30_AP.bp\n"
     ]
    },
    {
     "name": "stderr",
     "output_type": "stream",
     "text": [
      "Child returned 0\n",
      "1.28 seconds.\n"
     ]
    },
    {
     "name": "stdout",
     "output_type": "stream",
     "text": [
      "aws s3 cp /shared/CSHL_volumes/MD657/MD657_down32_scoreVolume_clf_30/score_volumes/MD657_down32_scoreVolume_clf_30_AP_bbox.txt s3://mousebrainatlas-data/CSHL_volumes/MD657/MD657_down32_scoreVolume_clf_30/score_volumes/MD657_down32_scoreVolume_clf_30_AP_bbox.txt\n"
     ]
    },
    {
     "name": "stderr",
     "output_type": "stream",
     "text": [
      "Child returned 0\n",
      "0.36 seconds.\n",
      "Child returned 0\n"
     ]
    },
    {
     "name": "stdout",
     "output_type": "stream",
     "text": [
      "12N\n",
      "rm -rf /shared/CSHL_scoremaps_down32/MD657/MD657-N66-2017.03.21-14.16.35_MD657_2_0197_alignedTo_MD657-F44-2017.02.18-06.06.27_MD657_1_0130_cropped_down32/MD657-N66-2017.03.21-14.16.35_MD657_2_0197_alignedTo_MD657-F44-2017.02.18-06.06.27_MD657_1_0130_cropped_down32_12N_denseScoreMap_setting_30.bp && mkdir -p /shared/CSHL_scoremaps_down32/MD657/MD657-N66-2017.03.21-14.16.35_MD657_2_0197_alignedTo_MD657-F44-2017.02.18-06.06.27_MD657_1_0130_cropped_down32\n",
      "aws s3 cp s3://mousebrainatlas-data/CSHL_scoremaps_down32/MD657/MD657-N66-2017.03.21-14.16.35_MD657_2_0197_alignedTo_MD657-F44-2017.02.18-06.06.27_MD657_1_0130_cropped_down32/MD657-N66-2017.03.21-14.16.35_MD657_2_0197_alignedTo_MD657-F44-2017.02.18-06.06.27_MD657_1_0130_cropped_down32_12N_denseScoreMap_setting_30.bp /shared/CSHL_scoremaps_down32/MD657/MD657-N66-2017.03.21-14.16.35_MD657_2_0197_alignedTo_MD657-F44-2017.02.18-06.06.27_MD657_1_0130_cropped_down32/MD657-N66-2017.03.21-14.16.35_MD657_2_0197_alignedTo_MD657-F44-2017.02.18-06.06.27_MD657_1_0130_cropped_down32_12N_denseScoreMap_setting_30.bp\n"
     ]
    },
    {
     "name": "stderr",
     "output_type": "stream",
     "text": [
      "Child returned 1\n",
      "0.33 seconds.\n",
      "Child returned 0\n"
     ]
    },
    {
     "name": "stdout",
     "output_type": "stream",
     "text": [
      "rm -rf /shared/CSHL_scoremaps_down32/MD657/MD657-N71-2017.02.22-18.34.41_MD657_2_0212_alignedTo_MD657-F44-2017.02.18-06.06.27_MD657_1_0130_cropped_down32/MD657-N71-2017.02.22-18.34.41_MD657_2_0212_alignedTo_MD657-F44-2017.02.18-06.06.27_MD657_1_0130_cropped_down32_12N_denseScoreMap_setting_30.bp && mkdir -p /shared/CSHL_scoremaps_down32/MD657/MD657-N71-2017.02.22-18.34.41_MD657_2_0212_alignedTo_MD657-F44-2017.02.18-06.06.27_MD657_1_0130_cropped_down32\n",
      "aws s3 cp s3://mousebrainatlas-data/CSHL_scoremaps_down32/MD657/MD657-N71-2017.02.22-18.34.41_MD657_2_0212_alignedTo_MD657-F44-2017.02.18-06.06.27_MD657_1_0130_cropped_down32/MD657-N71-2017.02.22-18.34.41_MD657_2_0212_alignedTo_MD657-F44-2017.02.18-06.06.27_MD657_1_0130_cropped_down32_12N_denseScoreMap_setting_30.bp /shared/CSHL_scoremaps_down32/MD657/MD657-N71-2017.02.22-18.34.41_MD657_2_0212_alignedTo_MD657-F44-2017.02.18-06.06.27_MD657_1_0130_cropped_down32/MD657-N71-2017.02.22-18.34.41_MD657_2_0212_alignedTo_MD657-F44-2017.02.18-06.06.27_MD657_1_0130_cropped_down32_12N_denseScoreMap_setting_30.bp\n"
     ]
    },
    {
     "name": "stderr",
     "output_type": "stream",
     "text": [
      "Child returned 1\n",
      "0.35 seconds.\n",
      "Load scoremaps: 0.84 seconds\n"
     ]
    },
    {
     "name": "stdout",
     "output_type": "stream",
     "text": [
      "127 scoremaps loaded.\n"
     ]
    },
    {
     "name": "stderr",
     "output_type": "stream",
     "text": [
      "Create score volume: 2.16 seconds\n"
     ]
    },
    {
     "name": "stdout",
     "output_type": "stream",
     "text": [
      "aws s3 cp /shared/CSHL_volumes/MD657/MD657_down32_scoreVolume_clf_30/score_volumes/MD657_down32_scoreVolume_clf_30_12N.bp s3://mousebrainatlas-data/CSHL_volumes/MD657/MD657_down32_scoreVolume_clf_30/score_volumes/MD657_down32_scoreVolume_clf_30_12N.bp\n"
     ]
    },
    {
     "name": "stderr",
     "output_type": "stream",
     "text": [
      "Child returned 0\n",
      "1.66 seconds.\n"
     ]
    },
    {
     "name": "stdout",
     "output_type": "stream",
     "text": [
      "aws s3 cp /shared/CSHL_volumes/MD657/MD657_down32_scoreVolume_clf_30/score_volumes/MD657_down32_scoreVolume_clf_30_12N_bbox.txt s3://mousebrainatlas-data/CSHL_volumes/MD657/MD657_down32_scoreVolume_clf_30/score_volumes/MD657_down32_scoreVolume_clf_30_12N_bbox.txt\n"
     ]
    },
    {
     "name": "stderr",
     "output_type": "stream",
     "text": [
      "Child returned 0\n",
      "0.37 seconds.\n",
      "Child returned 0\n"
     ]
    },
    {
     "name": "stdout",
     "output_type": "stream",
     "text": [
      "RtTg\n",
      "rm -rf /shared/CSHL_scoremaps_down32/MD657/MD657-N66-2017.03.21-14.16.35_MD657_2_0197_alignedTo_MD657-F44-2017.02.18-06.06.27_MD657_1_0130_cropped_down32/MD657-N66-2017.03.21-14.16.35_MD657_2_0197_alignedTo_MD657-F44-2017.02.18-06.06.27_MD657_1_0130_cropped_down32_RtTg_denseScoreMap_setting_30.bp && mkdir -p /shared/CSHL_scoremaps_down32/MD657/MD657-N66-2017.03.21-14.16.35_MD657_2_0197_alignedTo_MD657-F44-2017.02.18-06.06.27_MD657_1_0130_cropped_down32\n",
      "aws s3 cp s3://mousebrainatlas-data/CSHL_scoremaps_down32/MD657/MD657-N66-2017.03.21-14.16.35_MD657_2_0197_alignedTo_MD657-F44-2017.02.18-06.06.27_MD657_1_0130_cropped_down32/MD657-N66-2017.03.21-14.16.35_MD657_2_0197_alignedTo_MD657-F44-2017.02.18-06.06.27_MD657_1_0130_cropped_down32_RtTg_denseScoreMap_setting_30.bp /shared/CSHL_scoremaps_down32/MD657/MD657-N66-2017.03.21-14.16.35_MD657_2_0197_alignedTo_MD657-F44-2017.02.18-06.06.27_MD657_1_0130_cropped_down32/MD657-N66-2017.03.21-14.16.35_MD657_2_0197_alignedTo_MD657-F44-2017.02.18-06.06.27_MD657_1_0130_cropped_down32_RtTg_denseScoreMap_setting_30.bp\n"
     ]
    },
    {
     "name": "stderr",
     "output_type": "stream",
     "text": [
      "Child returned 1\n",
      "0.36 seconds.\n",
      "Child returned 0\n"
     ]
    },
    {
     "name": "stdout",
     "output_type": "stream",
     "text": [
      "rm -rf /shared/CSHL_scoremaps_down32/MD657/MD657-N71-2017.02.22-18.34.41_MD657_2_0212_alignedTo_MD657-F44-2017.02.18-06.06.27_MD657_1_0130_cropped_down32/MD657-N71-2017.02.22-18.34.41_MD657_2_0212_alignedTo_MD657-F44-2017.02.18-06.06.27_MD657_1_0130_cropped_down32_RtTg_denseScoreMap_setting_30.bp && mkdir -p /shared/CSHL_scoremaps_down32/MD657/MD657-N71-2017.02.22-18.34.41_MD657_2_0212_alignedTo_MD657-F44-2017.02.18-06.06.27_MD657_1_0130_cropped_down32\n",
      "aws s3 cp s3://mousebrainatlas-data/CSHL_scoremaps_down32/MD657/MD657-N71-2017.02.22-18.34.41_MD657_2_0212_alignedTo_MD657-F44-2017.02.18-06.06.27_MD657_1_0130_cropped_down32/MD657-N71-2017.02.22-18.34.41_MD657_2_0212_alignedTo_MD657-F44-2017.02.18-06.06.27_MD657_1_0130_cropped_down32_RtTg_denseScoreMap_setting_30.bp /shared/CSHL_scoremaps_down32/MD657/MD657-N71-2017.02.22-18.34.41_MD657_2_0212_alignedTo_MD657-F44-2017.02.18-06.06.27_MD657_1_0130_cropped_down32/MD657-N71-2017.02.22-18.34.41_MD657_2_0212_alignedTo_MD657-F44-2017.02.18-06.06.27_MD657_1_0130_cropped_down32_RtTg_denseScoreMap_setting_30.bp\n"
     ]
    },
    {
     "name": "stderr",
     "output_type": "stream",
     "text": [
      "Child returned 1\n",
      "0.36 seconds.\n",
      "Load scoremaps: 0.88 seconds\n"
     ]
    },
    {
     "name": "stdout",
     "output_type": "stream",
     "text": [
      "127 scoremaps loaded.\n"
     ]
    },
    {
     "name": "stderr",
     "output_type": "stream",
     "text": [
      "Create score volume: 2.15 seconds\n"
     ]
    },
    {
     "name": "stdout",
     "output_type": "stream",
     "text": [
      "aws s3 cp /shared/CSHL_volumes/MD657/MD657_down32_scoreVolume_clf_30/score_volumes/MD657_down32_scoreVolume_clf_30_RtTg.bp s3://mousebrainatlas-data/CSHL_volumes/MD657/MD657_down32_scoreVolume_clf_30/score_volumes/MD657_down32_scoreVolume_clf_30_RtTg.bp\n"
     ]
    },
    {
     "name": "stderr",
     "output_type": "stream",
     "text": [
      "Child returned 0\n",
      "1.46 seconds.\n"
     ]
    },
    {
     "name": "stdout",
     "output_type": "stream",
     "text": [
      "aws s3 cp /shared/CSHL_volumes/MD657/MD657_down32_scoreVolume_clf_30/score_volumes/MD657_down32_scoreVolume_clf_30_RtTg_bbox.txt s3://mousebrainatlas-data/CSHL_volumes/MD657/MD657_down32_scoreVolume_clf_30/score_volumes/MD657_down32_scoreVolume_clf_30_RtTg_bbox.txt\n"
     ]
    },
    {
     "name": "stderr",
     "output_type": "stream",
     "text": [
      "Child returned 0\n",
      "0.38 seconds.\n",
      "Child returned 0\n"
     ]
    },
    {
     "name": "stdout",
     "output_type": "stream",
     "text": [
      "sp5\n",
      "rm -rf /shared/CSHL_scoremaps_down32/MD657/MD657-N13-2017.02.22-14.33.34_MD657_3_0039_alignedTo_MD657-F44-2017.02.18-06.06.27_MD657_1_0130_cropped_down32/MD657-N13-2017.02.22-14.33.34_MD657_3_0039_alignedTo_MD657-F44-2017.02.18-06.06.27_MD657_1_0130_cropped_down32_sp5_denseScoreMap_setting_30.bp && mkdir -p /shared/CSHL_scoremaps_down32/MD657/MD657-N13-2017.02.22-14.33.34_MD657_3_0039_alignedTo_MD657-F44-2017.02.18-06.06.27_MD657_1_0130_cropped_down32\n",
      "aws s3 cp s3://mousebrainatlas-data/CSHL_scoremaps_down32/MD657/MD657-N13-2017.02.22-14.33.34_MD657_3_0039_alignedTo_MD657-F44-2017.02.18-06.06.27_MD657_1_0130_cropped_down32/MD657-N13-2017.02.22-14.33.34_MD657_3_0039_alignedTo_MD657-F44-2017.02.18-06.06.27_MD657_1_0130_cropped_down32_sp5_denseScoreMap_setting_30.bp /shared/CSHL_scoremaps_down32/MD657/MD657-N13-2017.02.22-14.33.34_MD657_3_0039_alignedTo_MD657-F44-2017.02.18-06.06.27_MD657_1_0130_cropped_down32/MD657-N13-2017.02.22-14.33.34_MD657_3_0039_alignedTo_MD657-F44-2017.02.18-06.06.27_MD657_1_0130_cropped_down32_sp5_denseScoreMap_setting_30.bp\n"
     ]
    },
    {
     "name": "stderr",
     "output_type": "stream",
     "text": [
      "Child returned 1\n",
      "0.34 seconds.\n",
      "Child returned 0\n"
     ]
    },
    {
     "name": "stdout",
     "output_type": "stream",
     "text": [
      "rm -rf /shared/CSHL_scoremaps_down32/MD657/MD657-N14-2017.02.22-14.37.44_MD657_1_0040_alignedTo_MD657-F44-2017.02.18-06.06.27_MD657_1_0130_cropped_down32/MD657-N14-2017.02.22-14.37.44_MD657_1_0040_alignedTo_MD657-F44-2017.02.18-06.06.27_MD657_1_0130_cropped_down32_sp5_denseScoreMap_setting_30.bp && mkdir -p /shared/CSHL_scoremaps_down32/MD657/MD657-N14-2017.02.22-14.37.44_MD657_1_0040_alignedTo_MD657-F44-2017.02.18-06.06.27_MD657_1_0130_cropped_down32\n",
      "aws s3 cp s3://mousebrainatlas-data/CSHL_scoremaps_down32/MD657/MD657-N14-2017.02.22-14.37.44_MD657_1_0040_alignedTo_MD657-F44-2017.02.18-06.06.27_MD657_1_0130_cropped_down32/MD657-N14-2017.02.22-14.37.44_MD657_1_0040_alignedTo_MD657-F44-2017.02.18-06.06.27_MD657_1_0130_cropped_down32_sp5_denseScoreMap_setting_30.bp /shared/CSHL_scoremaps_down32/MD657/MD657-N14-2017.02.22-14.37.44_MD657_1_0040_alignedTo_MD657-F44-2017.02.18-06.06.27_MD657_1_0130_cropped_down32/MD657-N14-2017.02.22-14.37.44_MD657_1_0040_alignedTo_MD657-F44-2017.02.18-06.06.27_MD657_1_0130_cropped_down32_sp5_denseScoreMap_setting_30.bp\n"
     ]
    },
    {
     "name": "stderr",
     "output_type": "stream",
     "text": [
      "Child returned 1\n",
      "0.34 seconds.\n",
      "Child returned 0\n"
     ]
    },
    {
     "name": "stdout",
     "output_type": "stream",
     "text": [
      "rm -rf /shared/CSHL_scoremaps_down32/MD657/MD657-N14-2017.02.22-14.37.44_MD657_2_0041_alignedTo_MD657-F44-2017.02.18-06.06.27_MD657_1_0130_cropped_down32/MD657-N14-2017.02.22-14.37.44_MD657_2_0041_alignedTo_MD657-F44-2017.02.18-06.06.27_MD657_1_0130_cropped_down32_sp5_denseScoreMap_setting_30.bp && mkdir -p /shared/CSHL_scoremaps_down32/MD657/MD657-N14-2017.02.22-14.37.44_MD657_2_0041_alignedTo_MD657-F44-2017.02.18-06.06.27_MD657_1_0130_cropped_down32\n",
      "aws s3 cp s3://mousebrainatlas-data/CSHL_scoremaps_down32/MD657/MD657-N14-2017.02.22-14.37.44_MD657_2_0041_alignedTo_MD657-F44-2017.02.18-06.06.27_MD657_1_0130_cropped_down32/MD657-N14-2017.02.22-14.37.44_MD657_2_0041_alignedTo_MD657-F44-2017.02.18-06.06.27_MD657_1_0130_cropped_down32_sp5_denseScoreMap_setting_30.bp /shared/CSHL_scoremaps_down32/MD657/MD657-N14-2017.02.22-14.37.44_MD657_2_0041_alignedTo_MD657-F44-2017.02.18-06.06.27_MD657_1_0130_cropped_down32/MD657-N14-2017.02.22-14.37.44_MD657_2_0041_alignedTo_MD657-F44-2017.02.18-06.06.27_MD657_1_0130_cropped_down32_sp5_denseScoreMap_setting_30.bp\n"
     ]
    },
    {
     "name": "stderr",
     "output_type": "stream",
     "text": [
      "Child returned 1\n",
      "0.33 seconds.\n",
      "Child returned 0\n"
     ]
    },
    {
     "name": "stdout",
     "output_type": "stream",
     "text": [
      "rm -rf /shared/CSHL_scoremaps_down32/MD657/MD657-N14-2017.02.22-14.37.44_MD657_3_0042_alignedTo_MD657-F44-2017.02.18-06.06.27_MD657_1_0130_cropped_down32/MD657-N14-2017.02.22-14.37.44_MD657_3_0042_alignedTo_MD657-F44-2017.02.18-06.06.27_MD657_1_0130_cropped_down32_sp5_denseScoreMap_setting_30.bp && mkdir -p /shared/CSHL_scoremaps_down32/MD657/MD657-N14-2017.02.22-14.37.44_MD657_3_0042_alignedTo_MD657-F44-2017.02.18-06.06.27_MD657_1_0130_cropped_down32\n",
      "aws s3 cp s3://mousebrainatlas-data/CSHL_scoremaps_down32/MD657/MD657-N14-2017.02.22-14.37.44_MD657_3_0042_alignedTo_MD657-F44-2017.02.18-06.06.27_MD657_1_0130_cropped_down32/MD657-N14-2017.02.22-14.37.44_MD657_3_0042_alignedTo_MD657-F44-2017.02.18-06.06.27_MD657_1_0130_cropped_down32_sp5_denseScoreMap_setting_30.bp /shared/CSHL_scoremaps_down32/MD657/MD657-N14-2017.02.22-14.37.44_MD657_3_0042_alignedTo_MD657-F44-2017.02.18-06.06.27_MD657_1_0130_cropped_down32/MD657-N14-2017.02.22-14.37.44_MD657_3_0042_alignedTo_MD657-F44-2017.02.18-06.06.27_MD657_1_0130_cropped_down32_sp5_denseScoreMap_setting_30.bp\n"
     ]
    },
    {
     "name": "stderr",
     "output_type": "stream",
     "text": [
      "Child returned 1\n",
      "0.33 seconds.\n",
      "Child returned 0\n"
     ]
    },
    {
     "name": "stdout",
     "output_type": "stream",
     "text": [
      "rm -rf /shared/CSHL_scoremaps_down32/MD657/MD657-N15-2017.02.22-14.41.51_MD657_1_0043_alignedTo_MD657-F44-2017.02.18-06.06.27_MD657_1_0130_cropped_down32/MD657-N15-2017.02.22-14.41.51_MD657_1_0043_alignedTo_MD657-F44-2017.02.18-06.06.27_MD657_1_0130_cropped_down32_sp5_denseScoreMap_setting_30.bp && mkdir -p /shared/CSHL_scoremaps_down32/MD657/MD657-N15-2017.02.22-14.41.51_MD657_1_0043_alignedTo_MD657-F44-2017.02.18-06.06.27_MD657_1_0130_cropped_down32\n",
      "aws s3 cp s3://mousebrainatlas-data/CSHL_scoremaps_down32/MD657/MD657-N15-2017.02.22-14.41.51_MD657_1_0043_alignedTo_MD657-F44-2017.02.18-06.06.27_MD657_1_0130_cropped_down32/MD657-N15-2017.02.22-14.41.51_MD657_1_0043_alignedTo_MD657-F44-2017.02.18-06.06.27_MD657_1_0130_cropped_down32_sp5_denseScoreMap_setting_30.bp /shared/CSHL_scoremaps_down32/MD657/MD657-N15-2017.02.22-14.41.51_MD657_1_0043_alignedTo_MD657-F44-2017.02.18-06.06.27_MD657_1_0130_cropped_down32/MD657-N15-2017.02.22-14.41.51_MD657_1_0043_alignedTo_MD657-F44-2017.02.18-06.06.27_MD657_1_0130_cropped_down32_sp5_denseScoreMap_setting_30.bp\n"
     ]
    },
    {
     "name": "stderr",
     "output_type": "stream",
     "text": [
      "Child returned 1\n",
      "0.34 seconds.\n",
      "Child returned 0\n"
     ]
    },
    {
     "name": "stdout",
     "output_type": "stream",
     "text": [
      "rm -rf /shared/CSHL_scoremaps_down32/MD657/MD657-N15-2017.02.22-14.41.51_MD657_2_0044_alignedTo_MD657-F44-2017.02.18-06.06.27_MD657_1_0130_cropped_down32/MD657-N15-2017.02.22-14.41.51_MD657_2_0044_alignedTo_MD657-F44-2017.02.18-06.06.27_MD657_1_0130_cropped_down32_sp5_denseScoreMap_setting_30.bp && mkdir -p /shared/CSHL_scoremaps_down32/MD657/MD657-N15-2017.02.22-14.41.51_MD657_2_0044_alignedTo_MD657-F44-2017.02.18-06.06.27_MD657_1_0130_cropped_down32\n",
      "aws s3 cp s3://mousebrainatlas-data/CSHL_scoremaps_down32/MD657/MD657-N15-2017.02.22-14.41.51_MD657_2_0044_alignedTo_MD657-F44-2017.02.18-06.06.27_MD657_1_0130_cropped_down32/MD657-N15-2017.02.22-14.41.51_MD657_2_0044_alignedTo_MD657-F44-2017.02.18-06.06.27_MD657_1_0130_cropped_down32_sp5_denseScoreMap_setting_30.bp /shared/CSHL_scoremaps_down32/MD657/MD657-N15-2017.02.22-14.41.51_MD657_2_0044_alignedTo_MD657-F44-2017.02.18-06.06.27_MD657_1_0130_cropped_down32/MD657-N15-2017.02.22-14.41.51_MD657_2_0044_alignedTo_MD657-F44-2017.02.18-06.06.27_MD657_1_0130_cropped_down32_sp5_denseScoreMap_setting_30.bp\n"
     ]
    },
    {
     "name": "stderr",
     "output_type": "stream",
     "text": [
      "Child returned 1\n",
      "0.34 seconds.\n",
      "Child returned 0\n"
     ]
    },
    {
     "name": "stdout",
     "output_type": "stream",
     "text": [
      "rm -rf /shared/CSHL_scoremaps_down32/MD657/MD657-N15-2017.02.22-14.41.51_MD657_3_0045_alignedTo_MD657-F44-2017.02.18-06.06.27_MD657_1_0130_cropped_down32/MD657-N15-2017.02.22-14.41.51_MD657_3_0045_alignedTo_MD657-F44-2017.02.18-06.06.27_MD657_1_0130_cropped_down32_sp5_denseScoreMap_setting_30.bp && mkdir -p /shared/CSHL_scoremaps_down32/MD657/MD657-N15-2017.02.22-14.41.51_MD657_3_0045_alignedTo_MD657-F44-2017.02.18-06.06.27_MD657_1_0130_cropped_down32\n",
      "aws s3 cp s3://mousebrainatlas-data/CSHL_scoremaps_down32/MD657/MD657-N15-2017.02.22-14.41.51_MD657_3_0045_alignedTo_MD657-F44-2017.02.18-06.06.27_MD657_1_0130_cropped_down32/MD657-N15-2017.02.22-14.41.51_MD657_3_0045_alignedTo_MD657-F44-2017.02.18-06.06.27_MD657_1_0130_cropped_down32_sp5_denseScoreMap_setting_30.bp /shared/CSHL_scoremaps_down32/MD657/MD657-N15-2017.02.22-14.41.51_MD657_3_0045_alignedTo_MD657-F44-2017.02.18-06.06.27_MD657_1_0130_cropped_down32/MD657-N15-2017.02.22-14.41.51_MD657_3_0045_alignedTo_MD657-F44-2017.02.18-06.06.27_MD657_1_0130_cropped_down32_sp5_denseScoreMap_setting_30.bp\n"
     ]
    },
    {
     "name": "stderr",
     "output_type": "stream",
     "text": [
      "Child returned 1\n",
      "0.33 seconds.\n",
      "Child returned 0\n"
     ]
    },
    {
     "name": "stdout",
     "output_type": "stream",
     "text": [
      "rm -rf /shared/CSHL_scoremaps_down32/MD657/MD657-N16-2017.02.27-16.09.46_MD657_1_0046_alignedTo_MD657-F44-2017.02.18-06.06.27_MD657_1_0130_cropped_down32/MD657-N16-2017.02.27-16.09.46_MD657_1_0046_alignedTo_MD657-F44-2017.02.18-06.06.27_MD657_1_0130_cropped_down32_sp5_denseScoreMap_setting_30.bp && mkdir -p /shared/CSHL_scoremaps_down32/MD657/MD657-N16-2017.02.27-16.09.46_MD657_1_0046_alignedTo_MD657-F44-2017.02.18-06.06.27_MD657_1_0130_cropped_down32\n",
      "aws s3 cp s3://mousebrainatlas-data/CSHL_scoremaps_down32/MD657/MD657-N16-2017.02.27-16.09.46_MD657_1_0046_alignedTo_MD657-F44-2017.02.18-06.06.27_MD657_1_0130_cropped_down32/MD657-N16-2017.02.27-16.09.46_MD657_1_0046_alignedTo_MD657-F44-2017.02.18-06.06.27_MD657_1_0130_cropped_down32_sp5_denseScoreMap_setting_30.bp /shared/CSHL_scoremaps_down32/MD657/MD657-N16-2017.02.27-16.09.46_MD657_1_0046_alignedTo_MD657-F44-2017.02.18-06.06.27_MD657_1_0130_cropped_down32/MD657-N16-2017.02.27-16.09.46_MD657_1_0046_alignedTo_MD657-F44-2017.02.18-06.06.27_MD657_1_0130_cropped_down32_sp5_denseScoreMap_setting_30.bp\n"
     ]
    },
    {
     "name": "stderr",
     "output_type": "stream",
     "text": [
      "Child returned 1\n",
      "0.34 seconds.\n",
      "Child returned 0\n"
     ]
    },
    {
     "name": "stdout",
     "output_type": "stream",
     "text": [
      "rm -rf /shared/CSHL_scoremaps_down32/MD657/MD657-N16-2017.02.27-16.09.46_MD657_2_0047_alignedTo_MD657-F44-2017.02.18-06.06.27_MD657_1_0130_cropped_down32/MD657-N16-2017.02.27-16.09.46_MD657_2_0047_alignedTo_MD657-F44-2017.02.18-06.06.27_MD657_1_0130_cropped_down32_sp5_denseScoreMap_setting_30.bp && mkdir -p /shared/CSHL_scoremaps_down32/MD657/MD657-N16-2017.02.27-16.09.46_MD657_2_0047_alignedTo_MD657-F44-2017.02.18-06.06.27_MD657_1_0130_cropped_down32\n",
      "aws s3 cp s3://mousebrainatlas-data/CSHL_scoremaps_down32/MD657/MD657-N16-2017.02.27-16.09.46_MD657_2_0047_alignedTo_MD657-F44-2017.02.18-06.06.27_MD657_1_0130_cropped_down32/MD657-N16-2017.02.27-16.09.46_MD657_2_0047_alignedTo_MD657-F44-2017.02.18-06.06.27_MD657_1_0130_cropped_down32_sp5_denseScoreMap_setting_30.bp /shared/CSHL_scoremaps_down32/MD657/MD657-N16-2017.02.27-16.09.46_MD657_2_0047_alignedTo_MD657-F44-2017.02.18-06.06.27_MD657_1_0130_cropped_down32/MD657-N16-2017.02.27-16.09.46_MD657_2_0047_alignedTo_MD657-F44-2017.02.18-06.06.27_MD657_1_0130_cropped_down32_sp5_denseScoreMap_setting_30.bp\n"
     ]
    },
    {
     "name": "stderr",
     "output_type": "stream",
     "text": [
      "Child returned 1\n",
      "0.33 seconds.\n",
      "Child returned 0\n"
     ]
    },
    {
     "name": "stdout",
     "output_type": "stream",
     "text": [
      "rm -rf /shared/CSHL_scoremaps_down32/MD657/MD657-N16-2017.02.27-16.09.46_MD657_3_0048_alignedTo_MD657-F44-2017.02.18-06.06.27_MD657_1_0130_cropped_down32/MD657-N16-2017.02.27-16.09.46_MD657_3_0048_alignedTo_MD657-F44-2017.02.18-06.06.27_MD657_1_0130_cropped_down32_sp5_denseScoreMap_setting_30.bp && mkdir -p /shared/CSHL_scoremaps_down32/MD657/MD657-N16-2017.02.27-16.09.46_MD657_3_0048_alignedTo_MD657-F44-2017.02.18-06.06.27_MD657_1_0130_cropped_down32\n",
      "aws s3 cp s3://mousebrainatlas-data/CSHL_scoremaps_down32/MD657/MD657-N16-2017.02.27-16.09.46_MD657_3_0048_alignedTo_MD657-F44-2017.02.18-06.06.27_MD657_1_0130_cropped_down32/MD657-N16-2017.02.27-16.09.46_MD657_3_0048_alignedTo_MD657-F44-2017.02.18-06.06.27_MD657_1_0130_cropped_down32_sp5_denseScoreMap_setting_30.bp /shared/CSHL_scoremaps_down32/MD657/MD657-N16-2017.02.27-16.09.46_MD657_3_0048_alignedTo_MD657-F44-2017.02.18-06.06.27_MD657_1_0130_cropped_down32/MD657-N16-2017.02.27-16.09.46_MD657_3_0048_alignedTo_MD657-F44-2017.02.18-06.06.27_MD657_1_0130_cropped_down32_sp5_denseScoreMap_setting_30.bp\n"
     ]
    },
    {
     "name": "stderr",
     "output_type": "stream",
     "text": [
      "Child returned 1\n",
      "0.34 seconds.\n",
      "Child returned 0\n"
     ]
    },
    {
     "name": "stdout",
     "output_type": "stream",
     "text": [
      "rm -rf /shared/CSHL_scoremaps_down32/MD657/MD657-N17-2017.02.22-14.45.59_MD657_1_0049_alignedTo_MD657-F44-2017.02.18-06.06.27_MD657_1_0130_cropped_down32/MD657-N17-2017.02.22-14.45.59_MD657_1_0049_alignedTo_MD657-F44-2017.02.18-06.06.27_MD657_1_0130_cropped_down32_sp5_denseScoreMap_setting_30.bp && mkdir -p /shared/CSHL_scoremaps_down32/MD657/MD657-N17-2017.02.22-14.45.59_MD657_1_0049_alignedTo_MD657-F44-2017.02.18-06.06.27_MD657_1_0130_cropped_down32\n",
      "aws s3 cp s3://mousebrainatlas-data/CSHL_scoremaps_down32/MD657/MD657-N17-2017.02.22-14.45.59_MD657_1_0049_alignedTo_MD657-F44-2017.02.18-06.06.27_MD657_1_0130_cropped_down32/MD657-N17-2017.02.22-14.45.59_MD657_1_0049_alignedTo_MD657-F44-2017.02.18-06.06.27_MD657_1_0130_cropped_down32_sp5_denseScoreMap_setting_30.bp /shared/CSHL_scoremaps_down32/MD657/MD657-N17-2017.02.22-14.45.59_MD657_1_0049_alignedTo_MD657-F44-2017.02.18-06.06.27_MD657_1_0130_cropped_down32/MD657-N17-2017.02.22-14.45.59_MD657_1_0049_alignedTo_MD657-F44-2017.02.18-06.06.27_MD657_1_0130_cropped_down32_sp5_denseScoreMap_setting_30.bp\n"
     ]
    },
    {
     "name": "stderr",
     "output_type": "stream",
     "text": [
      "Child returned 1\n",
      "0.34 seconds.\n",
      "Child returned 0\n"
     ]
    },
    {
     "name": "stdout",
     "output_type": "stream",
     "text": [
      "rm -rf /shared/CSHL_scoremaps_down32/MD657/MD657-N17-2017.02.22-14.45.59_MD657_2_0050_alignedTo_MD657-F44-2017.02.18-06.06.27_MD657_1_0130_cropped_down32/MD657-N17-2017.02.22-14.45.59_MD657_2_0050_alignedTo_MD657-F44-2017.02.18-06.06.27_MD657_1_0130_cropped_down32_sp5_denseScoreMap_setting_30.bp && mkdir -p /shared/CSHL_scoremaps_down32/MD657/MD657-N17-2017.02.22-14.45.59_MD657_2_0050_alignedTo_MD657-F44-2017.02.18-06.06.27_MD657_1_0130_cropped_down32\n",
      "aws s3 cp s3://mousebrainatlas-data/CSHL_scoremaps_down32/MD657/MD657-N17-2017.02.22-14.45.59_MD657_2_0050_alignedTo_MD657-F44-2017.02.18-06.06.27_MD657_1_0130_cropped_down32/MD657-N17-2017.02.22-14.45.59_MD657_2_0050_alignedTo_MD657-F44-2017.02.18-06.06.27_MD657_1_0130_cropped_down32_sp5_denseScoreMap_setting_30.bp /shared/CSHL_scoremaps_down32/MD657/MD657-N17-2017.02.22-14.45.59_MD657_2_0050_alignedTo_MD657-F44-2017.02.18-06.06.27_MD657_1_0130_cropped_down32/MD657-N17-2017.02.22-14.45.59_MD657_2_0050_alignedTo_MD657-F44-2017.02.18-06.06.27_MD657_1_0130_cropped_down32_sp5_denseScoreMap_setting_30.bp\n"
     ]
    },
    {
     "name": "stderr",
     "output_type": "stream",
     "text": [
      "Child returned 1\n",
      "0.33 seconds.\n",
      "Child returned 0\n"
     ]
    },
    {
     "name": "stdout",
     "output_type": "stream",
     "text": [
      "rm -rf /shared/CSHL_scoremaps_down32/MD657/MD657-N17-2017.02.22-14.45.59_MD657_3_0051_alignedTo_MD657-F44-2017.02.18-06.06.27_MD657_1_0130_cropped_down32/MD657-N17-2017.02.22-14.45.59_MD657_3_0051_alignedTo_MD657-F44-2017.02.18-06.06.27_MD657_1_0130_cropped_down32_sp5_denseScoreMap_setting_30.bp && mkdir -p /shared/CSHL_scoremaps_down32/MD657/MD657-N17-2017.02.22-14.45.59_MD657_3_0051_alignedTo_MD657-F44-2017.02.18-06.06.27_MD657_1_0130_cropped_down32\n",
      "aws s3 cp s3://mousebrainatlas-data/CSHL_scoremaps_down32/MD657/MD657-N17-2017.02.22-14.45.59_MD657_3_0051_alignedTo_MD657-F44-2017.02.18-06.06.27_MD657_1_0130_cropped_down32/MD657-N17-2017.02.22-14.45.59_MD657_3_0051_alignedTo_MD657-F44-2017.02.18-06.06.27_MD657_1_0130_cropped_down32_sp5_denseScoreMap_setting_30.bp /shared/CSHL_scoremaps_down32/MD657/MD657-N17-2017.02.22-14.45.59_MD657_3_0051_alignedTo_MD657-F44-2017.02.18-06.06.27_MD657_1_0130_cropped_down32/MD657-N17-2017.02.22-14.45.59_MD657_3_0051_alignedTo_MD657-F44-2017.02.18-06.06.27_MD657_1_0130_cropped_down32_sp5_denseScoreMap_setting_30.bp\n"
     ]
    },
    {
     "name": "stderr",
     "output_type": "stream",
     "text": [
      "Child returned 1\n",
      "0.33 seconds.\n",
      "Child returned 0\n"
     ]
    },
    {
     "name": "stdout",
     "output_type": "stream",
     "text": [
      "rm -rf /shared/CSHL_scoremaps_down32/MD657/MD657-N18-2017.02.22-14.50.24_MD657_1_0052_alignedTo_MD657-F44-2017.02.18-06.06.27_MD657_1_0130_cropped_down32/MD657-N18-2017.02.22-14.50.24_MD657_1_0052_alignedTo_MD657-F44-2017.02.18-06.06.27_MD657_1_0130_cropped_down32_sp5_denseScoreMap_setting_30.bp && mkdir -p /shared/CSHL_scoremaps_down32/MD657/MD657-N18-2017.02.22-14.50.24_MD657_1_0052_alignedTo_MD657-F44-2017.02.18-06.06.27_MD657_1_0130_cropped_down32\n",
      "aws s3 cp s3://mousebrainatlas-data/CSHL_scoremaps_down32/MD657/MD657-N18-2017.02.22-14.50.24_MD657_1_0052_alignedTo_MD657-F44-2017.02.18-06.06.27_MD657_1_0130_cropped_down32/MD657-N18-2017.02.22-14.50.24_MD657_1_0052_alignedTo_MD657-F44-2017.02.18-06.06.27_MD657_1_0130_cropped_down32_sp5_denseScoreMap_setting_30.bp /shared/CSHL_scoremaps_down32/MD657/MD657-N18-2017.02.22-14.50.24_MD657_1_0052_alignedTo_MD657-F44-2017.02.18-06.06.27_MD657_1_0130_cropped_down32/MD657-N18-2017.02.22-14.50.24_MD657_1_0052_alignedTo_MD657-F44-2017.02.18-06.06.27_MD657_1_0130_cropped_down32_sp5_denseScoreMap_setting_30.bp\n"
     ]
    },
    {
     "name": "stderr",
     "output_type": "stream",
     "text": [
      "Child returned 1\n",
      "0.33 seconds.\n",
      "Child returned 0\n"
     ]
    },
    {
     "name": "stdout",
     "output_type": "stream",
     "text": [
      "rm -rf /shared/CSHL_scoremaps_down32/MD657/MD657-N18-2017.02.22-14.50.24_MD657_2_0053_alignedTo_MD657-F44-2017.02.18-06.06.27_MD657_1_0130_cropped_down32/MD657-N18-2017.02.22-14.50.24_MD657_2_0053_alignedTo_MD657-F44-2017.02.18-06.06.27_MD657_1_0130_cropped_down32_sp5_denseScoreMap_setting_30.bp && mkdir -p /shared/CSHL_scoremaps_down32/MD657/MD657-N18-2017.02.22-14.50.24_MD657_2_0053_alignedTo_MD657-F44-2017.02.18-06.06.27_MD657_1_0130_cropped_down32\n",
      "aws s3 cp s3://mousebrainatlas-data/CSHL_scoremaps_down32/MD657/MD657-N18-2017.02.22-14.50.24_MD657_2_0053_alignedTo_MD657-F44-2017.02.18-06.06.27_MD657_1_0130_cropped_down32/MD657-N18-2017.02.22-14.50.24_MD657_2_0053_alignedTo_MD657-F44-2017.02.18-06.06.27_MD657_1_0130_cropped_down32_sp5_denseScoreMap_setting_30.bp /shared/CSHL_scoremaps_down32/MD657/MD657-N18-2017.02.22-14.50.24_MD657_2_0053_alignedTo_MD657-F44-2017.02.18-06.06.27_MD657_1_0130_cropped_down32/MD657-N18-2017.02.22-14.50.24_MD657_2_0053_alignedTo_MD657-F44-2017.02.18-06.06.27_MD657_1_0130_cropped_down32_sp5_denseScoreMap_setting_30.bp\n"
     ]
    },
    {
     "name": "stderr",
     "output_type": "stream",
     "text": [
      "Child returned 1\n",
      "0.42 seconds.\n",
      "Child returned 0\n"
     ]
    },
    {
     "name": "stdout",
     "output_type": "stream",
     "text": [
      "rm -rf /shared/CSHL_scoremaps_down32/MD657/MD657-N18-2017.02.22-14.50.24_MD657_3_0054_alignedTo_MD657-F44-2017.02.18-06.06.27_MD657_1_0130_cropped_down32/MD657-N18-2017.02.22-14.50.24_MD657_3_0054_alignedTo_MD657-F44-2017.02.18-06.06.27_MD657_1_0130_cropped_down32_sp5_denseScoreMap_setting_30.bp && mkdir -p /shared/CSHL_scoremaps_down32/MD657/MD657-N18-2017.02.22-14.50.24_MD657_3_0054_alignedTo_MD657-F44-2017.02.18-06.06.27_MD657_1_0130_cropped_down32\n",
      "aws s3 cp s3://mousebrainatlas-data/CSHL_scoremaps_down32/MD657/MD657-N18-2017.02.22-14.50.24_MD657_3_0054_alignedTo_MD657-F44-2017.02.18-06.06.27_MD657_1_0130_cropped_down32/MD657-N18-2017.02.22-14.50.24_MD657_3_0054_alignedTo_MD657-F44-2017.02.18-06.06.27_MD657_1_0130_cropped_down32_sp5_denseScoreMap_setting_30.bp /shared/CSHL_scoremaps_down32/MD657/MD657-N18-2017.02.22-14.50.24_MD657_3_0054_alignedTo_MD657-F44-2017.02.18-06.06.27_MD657_1_0130_cropped_down32/MD657-N18-2017.02.22-14.50.24_MD657_3_0054_alignedTo_MD657-F44-2017.02.18-06.06.27_MD657_1_0130_cropped_down32_sp5_denseScoreMap_setting_30.bp\n"
     ]
    },
    {
     "name": "stderr",
     "output_type": "stream",
     "text": [
      "Child returned 1\n",
      "0.33 seconds.\n",
      "Child returned 0\n"
     ]
    },
    {
     "name": "stdout",
     "output_type": "stream",
     "text": [
      "rm -rf /shared/CSHL_scoremaps_down32/MD657/MD657-N19-2017.02.22-14.54.49_MD657_1_0055_alignedTo_MD657-F44-2017.02.18-06.06.27_MD657_1_0130_cropped_down32/MD657-N19-2017.02.22-14.54.49_MD657_1_0055_alignedTo_MD657-F44-2017.02.18-06.06.27_MD657_1_0130_cropped_down32_sp5_denseScoreMap_setting_30.bp && mkdir -p /shared/CSHL_scoremaps_down32/MD657/MD657-N19-2017.02.22-14.54.49_MD657_1_0055_alignedTo_MD657-F44-2017.02.18-06.06.27_MD657_1_0130_cropped_down32\n",
      "aws s3 cp s3://mousebrainatlas-data/CSHL_scoremaps_down32/MD657/MD657-N19-2017.02.22-14.54.49_MD657_1_0055_alignedTo_MD657-F44-2017.02.18-06.06.27_MD657_1_0130_cropped_down32/MD657-N19-2017.02.22-14.54.49_MD657_1_0055_alignedTo_MD657-F44-2017.02.18-06.06.27_MD657_1_0130_cropped_down32_sp5_denseScoreMap_setting_30.bp /shared/CSHL_scoremaps_down32/MD657/MD657-N19-2017.02.22-14.54.49_MD657_1_0055_alignedTo_MD657-F44-2017.02.18-06.06.27_MD657_1_0130_cropped_down32/MD657-N19-2017.02.22-14.54.49_MD657_1_0055_alignedTo_MD657-F44-2017.02.18-06.06.27_MD657_1_0130_cropped_down32_sp5_denseScoreMap_setting_30.bp\n"
     ]
    },
    {
     "name": "stderr",
     "output_type": "stream",
     "text": [
      "Child returned 1\n",
      "0.35 seconds.\n",
      "Child returned 0\n"
     ]
    },
    {
     "name": "stdout",
     "output_type": "stream",
     "text": [
      "rm -rf /shared/CSHL_scoremaps_down32/MD657/MD657-N19-2017.02.22-14.54.49_MD657_2_0056_alignedTo_MD657-F44-2017.02.18-06.06.27_MD657_1_0130_cropped_down32/MD657-N19-2017.02.22-14.54.49_MD657_2_0056_alignedTo_MD657-F44-2017.02.18-06.06.27_MD657_1_0130_cropped_down32_sp5_denseScoreMap_setting_30.bp && mkdir -p /shared/CSHL_scoremaps_down32/MD657/MD657-N19-2017.02.22-14.54.49_MD657_2_0056_alignedTo_MD657-F44-2017.02.18-06.06.27_MD657_1_0130_cropped_down32\n",
      "aws s3 cp s3://mousebrainatlas-data/CSHL_scoremaps_down32/MD657/MD657-N19-2017.02.22-14.54.49_MD657_2_0056_alignedTo_MD657-F44-2017.02.18-06.06.27_MD657_1_0130_cropped_down32/MD657-N19-2017.02.22-14.54.49_MD657_2_0056_alignedTo_MD657-F44-2017.02.18-06.06.27_MD657_1_0130_cropped_down32_sp5_denseScoreMap_setting_30.bp /shared/CSHL_scoremaps_down32/MD657/MD657-N19-2017.02.22-14.54.49_MD657_2_0056_alignedTo_MD657-F44-2017.02.18-06.06.27_MD657_1_0130_cropped_down32/MD657-N19-2017.02.22-14.54.49_MD657_2_0056_alignedTo_MD657-F44-2017.02.18-06.06.27_MD657_1_0130_cropped_down32_sp5_denseScoreMap_setting_30.bp\n"
     ]
    },
    {
     "name": "stderr",
     "output_type": "stream",
     "text": [
      "Child returned 1\n",
      "0.32 seconds.\n",
      "Child returned 0\n"
     ]
    },
    {
     "name": "stdout",
     "output_type": "stream",
     "text": [
      "rm -rf /shared/CSHL_scoremaps_down32/MD657/MD657-N19-2017.02.22-14.54.49_MD657_3_0057_alignedTo_MD657-F44-2017.02.18-06.06.27_MD657_1_0130_cropped_down32/MD657-N19-2017.02.22-14.54.49_MD657_3_0057_alignedTo_MD657-F44-2017.02.18-06.06.27_MD657_1_0130_cropped_down32_sp5_denseScoreMap_setting_30.bp && mkdir -p /shared/CSHL_scoremaps_down32/MD657/MD657-N19-2017.02.22-14.54.49_MD657_3_0057_alignedTo_MD657-F44-2017.02.18-06.06.27_MD657_1_0130_cropped_down32\n",
      "aws s3 cp s3://mousebrainatlas-data/CSHL_scoremaps_down32/MD657/MD657-N19-2017.02.22-14.54.49_MD657_3_0057_alignedTo_MD657-F44-2017.02.18-06.06.27_MD657_1_0130_cropped_down32/MD657-N19-2017.02.22-14.54.49_MD657_3_0057_alignedTo_MD657-F44-2017.02.18-06.06.27_MD657_1_0130_cropped_down32_sp5_denseScoreMap_setting_30.bp /shared/CSHL_scoremaps_down32/MD657/MD657-N19-2017.02.22-14.54.49_MD657_3_0057_alignedTo_MD657-F44-2017.02.18-06.06.27_MD657_1_0130_cropped_down32/MD657-N19-2017.02.22-14.54.49_MD657_3_0057_alignedTo_MD657-F44-2017.02.18-06.06.27_MD657_1_0130_cropped_down32_sp5_denseScoreMap_setting_30.bp\n"
     ]
    },
    {
     "name": "stderr",
     "output_type": "stream",
     "text": [
      "Child returned 1\n",
      "0.33 seconds.\n",
      "Child returned 0\n"
     ]
    },
    {
     "name": "stdout",
     "output_type": "stream",
     "text": [
      "rm -rf /shared/CSHL_scoremaps_down32/MD657/MD657-N20-2017.02.22-14.59.13_MD657_1_0058_alignedTo_MD657-F44-2017.02.18-06.06.27_MD657_1_0130_cropped_down32/MD657-N20-2017.02.22-14.59.13_MD657_1_0058_alignedTo_MD657-F44-2017.02.18-06.06.27_MD657_1_0130_cropped_down32_sp5_denseScoreMap_setting_30.bp && mkdir -p /shared/CSHL_scoremaps_down32/MD657/MD657-N20-2017.02.22-14.59.13_MD657_1_0058_alignedTo_MD657-F44-2017.02.18-06.06.27_MD657_1_0130_cropped_down32\n",
      "aws s3 cp s3://mousebrainatlas-data/CSHL_scoremaps_down32/MD657/MD657-N20-2017.02.22-14.59.13_MD657_1_0058_alignedTo_MD657-F44-2017.02.18-06.06.27_MD657_1_0130_cropped_down32/MD657-N20-2017.02.22-14.59.13_MD657_1_0058_alignedTo_MD657-F44-2017.02.18-06.06.27_MD657_1_0130_cropped_down32_sp5_denseScoreMap_setting_30.bp /shared/CSHL_scoremaps_down32/MD657/MD657-N20-2017.02.22-14.59.13_MD657_1_0058_alignedTo_MD657-F44-2017.02.18-06.06.27_MD657_1_0130_cropped_down32/MD657-N20-2017.02.22-14.59.13_MD657_1_0058_alignedTo_MD657-F44-2017.02.18-06.06.27_MD657_1_0130_cropped_down32_sp5_denseScoreMap_setting_30.bp\n"
     ]
    },
    {
     "name": "stderr",
     "output_type": "stream",
     "text": [
      "Child returned 1\n",
      "0.33 seconds.\n",
      "Child returned 0\n"
     ]
    },
    {
     "name": "stdout",
     "output_type": "stream",
     "text": [
      "rm -rf /shared/CSHL_scoremaps_down32/MD657/MD657-N20-2017.02.22-14.59.13_MD657_2_0059_alignedTo_MD657-F44-2017.02.18-06.06.27_MD657_1_0130_cropped_down32/MD657-N20-2017.02.22-14.59.13_MD657_2_0059_alignedTo_MD657-F44-2017.02.18-06.06.27_MD657_1_0130_cropped_down32_sp5_denseScoreMap_setting_30.bp && mkdir -p /shared/CSHL_scoremaps_down32/MD657/MD657-N20-2017.02.22-14.59.13_MD657_2_0059_alignedTo_MD657-F44-2017.02.18-06.06.27_MD657_1_0130_cropped_down32\n",
      "aws s3 cp s3://mousebrainatlas-data/CSHL_scoremaps_down32/MD657/MD657-N20-2017.02.22-14.59.13_MD657_2_0059_alignedTo_MD657-F44-2017.02.18-06.06.27_MD657_1_0130_cropped_down32/MD657-N20-2017.02.22-14.59.13_MD657_2_0059_alignedTo_MD657-F44-2017.02.18-06.06.27_MD657_1_0130_cropped_down32_sp5_denseScoreMap_setting_30.bp /shared/CSHL_scoremaps_down32/MD657/MD657-N20-2017.02.22-14.59.13_MD657_2_0059_alignedTo_MD657-F44-2017.02.18-06.06.27_MD657_1_0130_cropped_down32/MD657-N20-2017.02.22-14.59.13_MD657_2_0059_alignedTo_MD657-F44-2017.02.18-06.06.27_MD657_1_0130_cropped_down32_sp5_denseScoreMap_setting_30.bp\n"
     ]
    },
    {
     "name": "stderr",
     "output_type": "stream",
     "text": [
      "Child returned 1\n",
      "0.34 seconds.\n",
      "Child returned 0\n"
     ]
    },
    {
     "name": "stdout",
     "output_type": "stream",
     "text": [
      "rm -rf /shared/CSHL_scoremaps_down32/MD657/MD657-N21-2017.02.22-15.02.22_MD657_1_0061_alignedTo_MD657-F44-2017.02.18-06.06.27_MD657_1_0130_cropped_down32/MD657-N21-2017.02.22-15.02.22_MD657_1_0061_alignedTo_MD657-F44-2017.02.18-06.06.27_MD657_1_0130_cropped_down32_sp5_denseScoreMap_setting_30.bp && mkdir -p /shared/CSHL_scoremaps_down32/MD657/MD657-N21-2017.02.22-15.02.22_MD657_1_0061_alignedTo_MD657-F44-2017.02.18-06.06.27_MD657_1_0130_cropped_down32\n",
      "aws s3 cp s3://mousebrainatlas-data/CSHL_scoremaps_down32/MD657/MD657-N21-2017.02.22-15.02.22_MD657_1_0061_alignedTo_MD657-F44-2017.02.18-06.06.27_MD657_1_0130_cropped_down32/MD657-N21-2017.02.22-15.02.22_MD657_1_0061_alignedTo_MD657-F44-2017.02.18-06.06.27_MD657_1_0130_cropped_down32_sp5_denseScoreMap_setting_30.bp /shared/CSHL_scoremaps_down32/MD657/MD657-N21-2017.02.22-15.02.22_MD657_1_0061_alignedTo_MD657-F44-2017.02.18-06.06.27_MD657_1_0130_cropped_down32/MD657-N21-2017.02.22-15.02.22_MD657_1_0061_alignedTo_MD657-F44-2017.02.18-06.06.27_MD657_1_0130_cropped_down32_sp5_denseScoreMap_setting_30.bp\n"
     ]
    },
    {
     "name": "stderr",
     "output_type": "stream",
     "text": [
      "Child returned 1\n",
      "0.34 seconds.\n",
      "Child returned 0\n"
     ]
    },
    {
     "name": "stdout",
     "output_type": "stream",
     "text": [
      "rm -rf /shared/CSHL_scoremaps_down32/MD657/MD657-N21-2017.02.22-15.02.22_MD657_2_0062_alignedTo_MD657-F44-2017.02.18-06.06.27_MD657_1_0130_cropped_down32/MD657-N21-2017.02.22-15.02.22_MD657_2_0062_alignedTo_MD657-F44-2017.02.18-06.06.27_MD657_1_0130_cropped_down32_sp5_denseScoreMap_setting_30.bp && mkdir -p /shared/CSHL_scoremaps_down32/MD657/MD657-N21-2017.02.22-15.02.22_MD657_2_0062_alignedTo_MD657-F44-2017.02.18-06.06.27_MD657_1_0130_cropped_down32\n",
      "aws s3 cp s3://mousebrainatlas-data/CSHL_scoremaps_down32/MD657/MD657-N21-2017.02.22-15.02.22_MD657_2_0062_alignedTo_MD657-F44-2017.02.18-06.06.27_MD657_1_0130_cropped_down32/MD657-N21-2017.02.22-15.02.22_MD657_2_0062_alignedTo_MD657-F44-2017.02.18-06.06.27_MD657_1_0130_cropped_down32_sp5_denseScoreMap_setting_30.bp /shared/CSHL_scoremaps_down32/MD657/MD657-N21-2017.02.22-15.02.22_MD657_2_0062_alignedTo_MD657-F44-2017.02.18-06.06.27_MD657_1_0130_cropped_down32/MD657-N21-2017.02.22-15.02.22_MD657_2_0062_alignedTo_MD657-F44-2017.02.18-06.06.27_MD657_1_0130_cropped_down32_sp5_denseScoreMap_setting_30.bp\n"
     ]
    },
    {
     "name": "stderr",
     "output_type": "stream",
     "text": [
      "Child returned 1\n",
      "0.34 seconds.\n",
      "Child returned 0\n"
     ]
    },
    {
     "name": "stdout",
     "output_type": "stream",
     "text": [
      "rm -rf /shared/CSHL_scoremaps_down32/MD657/MD657-N22-2017.02.22-15.05.33_MD657_1_0064_alignedTo_MD657-F44-2017.02.18-06.06.27_MD657_1_0130_cropped_down32/MD657-N22-2017.02.22-15.05.33_MD657_1_0064_alignedTo_MD657-F44-2017.02.18-06.06.27_MD657_1_0130_cropped_down32_sp5_denseScoreMap_setting_30.bp && mkdir -p /shared/CSHL_scoremaps_down32/MD657/MD657-N22-2017.02.22-15.05.33_MD657_1_0064_alignedTo_MD657-F44-2017.02.18-06.06.27_MD657_1_0130_cropped_down32\n",
      "aws s3 cp s3://mousebrainatlas-data/CSHL_scoremaps_down32/MD657/MD657-N22-2017.02.22-15.05.33_MD657_1_0064_alignedTo_MD657-F44-2017.02.18-06.06.27_MD657_1_0130_cropped_down32/MD657-N22-2017.02.22-15.05.33_MD657_1_0064_alignedTo_MD657-F44-2017.02.18-06.06.27_MD657_1_0130_cropped_down32_sp5_denseScoreMap_setting_30.bp /shared/CSHL_scoremaps_down32/MD657/MD657-N22-2017.02.22-15.05.33_MD657_1_0064_alignedTo_MD657-F44-2017.02.18-06.06.27_MD657_1_0130_cropped_down32/MD657-N22-2017.02.22-15.05.33_MD657_1_0064_alignedTo_MD657-F44-2017.02.18-06.06.27_MD657_1_0130_cropped_down32_sp5_denseScoreMap_setting_30.bp\n"
     ]
    },
    {
     "name": "stderr",
     "output_type": "stream",
     "text": [
      "Child returned 1\n",
      "0.33 seconds.\n",
      "Child returned 0\n"
     ]
    },
    {
     "name": "stdout",
     "output_type": "stream",
     "text": [
      "rm -rf /shared/CSHL_scoremaps_down32/MD657/MD657-N22-2017.02.22-15.05.33_MD657_2_0065_alignedTo_MD657-F44-2017.02.18-06.06.27_MD657_1_0130_cropped_down32/MD657-N22-2017.02.22-15.05.33_MD657_2_0065_alignedTo_MD657-F44-2017.02.18-06.06.27_MD657_1_0130_cropped_down32_sp5_denseScoreMap_setting_30.bp && mkdir -p /shared/CSHL_scoremaps_down32/MD657/MD657-N22-2017.02.22-15.05.33_MD657_2_0065_alignedTo_MD657-F44-2017.02.18-06.06.27_MD657_1_0130_cropped_down32\n",
      "aws s3 cp s3://mousebrainatlas-data/CSHL_scoremaps_down32/MD657/MD657-N22-2017.02.22-15.05.33_MD657_2_0065_alignedTo_MD657-F44-2017.02.18-06.06.27_MD657_1_0130_cropped_down32/MD657-N22-2017.02.22-15.05.33_MD657_2_0065_alignedTo_MD657-F44-2017.02.18-06.06.27_MD657_1_0130_cropped_down32_sp5_denseScoreMap_setting_30.bp /shared/CSHL_scoremaps_down32/MD657/MD657-N22-2017.02.22-15.05.33_MD657_2_0065_alignedTo_MD657-F44-2017.02.18-06.06.27_MD657_1_0130_cropped_down32/MD657-N22-2017.02.22-15.05.33_MD657_2_0065_alignedTo_MD657-F44-2017.02.18-06.06.27_MD657_1_0130_cropped_down32_sp5_denseScoreMap_setting_30.bp\n"
     ]
    },
    {
     "name": "stderr",
     "output_type": "stream",
     "text": [
      "Child returned 1\n",
      "0.35 seconds.\n",
      "Child returned 0\n"
     ]
    },
    {
     "name": "stdout",
     "output_type": "stream",
     "text": [
      "rm -rf /shared/CSHL_scoremaps_down32/MD657/MD657-N23-2017.02.22-15.08.47_MD657_1_0067_alignedTo_MD657-F44-2017.02.18-06.06.27_MD657_1_0130_cropped_down32/MD657-N23-2017.02.22-15.08.47_MD657_1_0067_alignedTo_MD657-F44-2017.02.18-06.06.27_MD657_1_0130_cropped_down32_sp5_denseScoreMap_setting_30.bp && mkdir -p /shared/CSHL_scoremaps_down32/MD657/MD657-N23-2017.02.22-15.08.47_MD657_1_0067_alignedTo_MD657-F44-2017.02.18-06.06.27_MD657_1_0130_cropped_down32\n",
      "aws s3 cp s3://mousebrainatlas-data/CSHL_scoremaps_down32/MD657/MD657-N23-2017.02.22-15.08.47_MD657_1_0067_alignedTo_MD657-F44-2017.02.18-06.06.27_MD657_1_0130_cropped_down32/MD657-N23-2017.02.22-15.08.47_MD657_1_0067_alignedTo_MD657-F44-2017.02.18-06.06.27_MD657_1_0130_cropped_down32_sp5_denseScoreMap_setting_30.bp /shared/CSHL_scoremaps_down32/MD657/MD657-N23-2017.02.22-15.08.47_MD657_1_0067_alignedTo_MD657-F44-2017.02.18-06.06.27_MD657_1_0130_cropped_down32/MD657-N23-2017.02.22-15.08.47_MD657_1_0067_alignedTo_MD657-F44-2017.02.18-06.06.27_MD657_1_0130_cropped_down32_sp5_denseScoreMap_setting_30.bp\n"
     ]
    },
    {
     "name": "stderr",
     "output_type": "stream",
     "text": [
      "Child returned 1\n",
      "0.32 seconds.\n",
      "Child returned 0\n"
     ]
    },
    {
     "name": "stdout",
     "output_type": "stream",
     "text": [
      "rm -rf /shared/CSHL_scoremaps_down32/MD657/MD657-N23-2017.02.22-15.08.47_MD657_2_0068_alignedTo_MD657-F44-2017.02.18-06.06.27_MD657_1_0130_cropped_down32/MD657-N23-2017.02.22-15.08.47_MD657_2_0068_alignedTo_MD657-F44-2017.02.18-06.06.27_MD657_1_0130_cropped_down32_sp5_denseScoreMap_setting_30.bp && mkdir -p /shared/CSHL_scoremaps_down32/MD657/MD657-N23-2017.02.22-15.08.47_MD657_2_0068_alignedTo_MD657-F44-2017.02.18-06.06.27_MD657_1_0130_cropped_down32\n",
      "aws s3 cp s3://mousebrainatlas-data/CSHL_scoremaps_down32/MD657/MD657-N23-2017.02.22-15.08.47_MD657_2_0068_alignedTo_MD657-F44-2017.02.18-06.06.27_MD657_1_0130_cropped_down32/MD657-N23-2017.02.22-15.08.47_MD657_2_0068_alignedTo_MD657-F44-2017.02.18-06.06.27_MD657_1_0130_cropped_down32_sp5_denseScoreMap_setting_30.bp /shared/CSHL_scoremaps_down32/MD657/MD657-N23-2017.02.22-15.08.47_MD657_2_0068_alignedTo_MD657-F44-2017.02.18-06.06.27_MD657_1_0130_cropped_down32/MD657-N23-2017.02.22-15.08.47_MD657_2_0068_alignedTo_MD657-F44-2017.02.18-06.06.27_MD657_1_0130_cropped_down32_sp5_denseScoreMap_setting_30.bp\n"
     ]
    },
    {
     "name": "stderr",
     "output_type": "stream",
     "text": [
      "Child returned 1\n",
      "0.34 seconds.\n",
      "Child returned 0\n"
     ]
    },
    {
     "name": "stdout",
     "output_type": "stream",
     "text": [
      "rm -rf /shared/CSHL_scoremaps_down32/MD657/MD657-N24-2017.02.22-15.12.03_MD657_1_0070_alignedTo_MD657-F44-2017.02.18-06.06.27_MD657_1_0130_cropped_down32/MD657-N24-2017.02.22-15.12.03_MD657_1_0070_alignedTo_MD657-F44-2017.02.18-06.06.27_MD657_1_0130_cropped_down32_sp5_denseScoreMap_setting_30.bp && mkdir -p /shared/CSHL_scoremaps_down32/MD657/MD657-N24-2017.02.22-15.12.03_MD657_1_0070_alignedTo_MD657-F44-2017.02.18-06.06.27_MD657_1_0130_cropped_down32\n",
      "aws s3 cp s3://mousebrainatlas-data/CSHL_scoremaps_down32/MD657/MD657-N24-2017.02.22-15.12.03_MD657_1_0070_alignedTo_MD657-F44-2017.02.18-06.06.27_MD657_1_0130_cropped_down32/MD657-N24-2017.02.22-15.12.03_MD657_1_0070_alignedTo_MD657-F44-2017.02.18-06.06.27_MD657_1_0130_cropped_down32_sp5_denseScoreMap_setting_30.bp /shared/CSHL_scoremaps_down32/MD657/MD657-N24-2017.02.22-15.12.03_MD657_1_0070_alignedTo_MD657-F44-2017.02.18-06.06.27_MD657_1_0130_cropped_down32/MD657-N24-2017.02.22-15.12.03_MD657_1_0070_alignedTo_MD657-F44-2017.02.18-06.06.27_MD657_1_0130_cropped_down32_sp5_denseScoreMap_setting_30.bp\n"
     ]
    },
    {
     "name": "stderr",
     "output_type": "stream",
     "text": [
      "Child returned 1\n",
      "0.34 seconds.\n",
      "Child returned 0\n"
     ]
    },
    {
     "name": "stdout",
     "output_type": "stream",
     "text": [
      "rm -rf /shared/CSHL_scoremaps_down32/MD657/MD657-N24-2017.02.22-15.12.03_MD657_2_0071_alignedTo_MD657-F44-2017.02.18-06.06.27_MD657_1_0130_cropped_down32/MD657-N24-2017.02.22-15.12.03_MD657_2_0071_alignedTo_MD657-F44-2017.02.18-06.06.27_MD657_1_0130_cropped_down32_sp5_denseScoreMap_setting_30.bp && mkdir -p /shared/CSHL_scoremaps_down32/MD657/MD657-N24-2017.02.22-15.12.03_MD657_2_0071_alignedTo_MD657-F44-2017.02.18-06.06.27_MD657_1_0130_cropped_down32\n",
      "aws s3 cp s3://mousebrainatlas-data/CSHL_scoremaps_down32/MD657/MD657-N24-2017.02.22-15.12.03_MD657_2_0071_alignedTo_MD657-F44-2017.02.18-06.06.27_MD657_1_0130_cropped_down32/MD657-N24-2017.02.22-15.12.03_MD657_2_0071_alignedTo_MD657-F44-2017.02.18-06.06.27_MD657_1_0130_cropped_down32_sp5_denseScoreMap_setting_30.bp /shared/CSHL_scoremaps_down32/MD657/MD657-N24-2017.02.22-15.12.03_MD657_2_0071_alignedTo_MD657-F44-2017.02.18-06.06.27_MD657_1_0130_cropped_down32/MD657-N24-2017.02.22-15.12.03_MD657_2_0071_alignedTo_MD657-F44-2017.02.18-06.06.27_MD657_1_0130_cropped_down32_sp5_denseScoreMap_setting_30.bp\n"
     ]
    },
    {
     "name": "stderr",
     "output_type": "stream",
     "text": [
      "Child returned 1\n",
      "0.33 seconds.\n",
      "Child returned 0\n"
     ]
    },
    {
     "name": "stdout",
     "output_type": "stream",
     "text": [
      "rm -rf /shared/CSHL_scoremaps_down32/MD657/MD657-N25-2017.02.22-15.15.17_MD657_1_0073_alignedTo_MD657-F44-2017.02.18-06.06.27_MD657_1_0130_cropped_down32/MD657-N25-2017.02.22-15.15.17_MD657_1_0073_alignedTo_MD657-F44-2017.02.18-06.06.27_MD657_1_0130_cropped_down32_sp5_denseScoreMap_setting_30.bp && mkdir -p /shared/CSHL_scoremaps_down32/MD657/MD657-N25-2017.02.22-15.15.17_MD657_1_0073_alignedTo_MD657-F44-2017.02.18-06.06.27_MD657_1_0130_cropped_down32\n",
      "aws s3 cp s3://mousebrainatlas-data/CSHL_scoremaps_down32/MD657/MD657-N25-2017.02.22-15.15.17_MD657_1_0073_alignedTo_MD657-F44-2017.02.18-06.06.27_MD657_1_0130_cropped_down32/MD657-N25-2017.02.22-15.15.17_MD657_1_0073_alignedTo_MD657-F44-2017.02.18-06.06.27_MD657_1_0130_cropped_down32_sp5_denseScoreMap_setting_30.bp /shared/CSHL_scoremaps_down32/MD657/MD657-N25-2017.02.22-15.15.17_MD657_1_0073_alignedTo_MD657-F44-2017.02.18-06.06.27_MD657_1_0130_cropped_down32/MD657-N25-2017.02.22-15.15.17_MD657_1_0073_alignedTo_MD657-F44-2017.02.18-06.06.27_MD657_1_0130_cropped_down32_sp5_denseScoreMap_setting_30.bp\n"
     ]
    },
    {
     "name": "stderr",
     "output_type": "stream",
     "text": [
      "Child returned 1\n",
      "0.34 seconds.\n",
      "Child returned 0\n"
     ]
    },
    {
     "name": "stdout",
     "output_type": "stream",
     "text": [
      "rm -rf /shared/CSHL_scoremaps_down32/MD657/MD657-N25-2017.02.22-15.15.17_MD657_2_0074_alignedTo_MD657-F44-2017.02.18-06.06.27_MD657_1_0130_cropped_down32/MD657-N25-2017.02.22-15.15.17_MD657_2_0074_alignedTo_MD657-F44-2017.02.18-06.06.27_MD657_1_0130_cropped_down32_sp5_denseScoreMap_setting_30.bp && mkdir -p /shared/CSHL_scoremaps_down32/MD657/MD657-N25-2017.02.22-15.15.17_MD657_2_0074_alignedTo_MD657-F44-2017.02.18-06.06.27_MD657_1_0130_cropped_down32\n",
      "aws s3 cp s3://mousebrainatlas-data/CSHL_scoremaps_down32/MD657/MD657-N25-2017.02.22-15.15.17_MD657_2_0074_alignedTo_MD657-F44-2017.02.18-06.06.27_MD657_1_0130_cropped_down32/MD657-N25-2017.02.22-15.15.17_MD657_2_0074_alignedTo_MD657-F44-2017.02.18-06.06.27_MD657_1_0130_cropped_down32_sp5_denseScoreMap_setting_30.bp /shared/CSHL_scoremaps_down32/MD657/MD657-N25-2017.02.22-15.15.17_MD657_2_0074_alignedTo_MD657-F44-2017.02.18-06.06.27_MD657_1_0130_cropped_down32/MD657-N25-2017.02.22-15.15.17_MD657_2_0074_alignedTo_MD657-F44-2017.02.18-06.06.27_MD657_1_0130_cropped_down32_sp5_denseScoreMap_setting_30.bp\n"
     ]
    },
    {
     "name": "stderr",
     "output_type": "stream",
     "text": [
      "Child returned 1\n",
      "0.33 seconds.\n",
      "Child returned 0\n"
     ]
    },
    {
     "name": "stdout",
     "output_type": "stream",
     "text": [
      "rm -rf /shared/CSHL_scoremaps_down32/MD657/MD657-N26-2017.02.27-16.14.53_MD657_2_0077_alignedTo_MD657-F44-2017.02.18-06.06.27_MD657_1_0130_cropped_down32/MD657-N26-2017.02.27-16.14.53_MD657_2_0077_alignedTo_MD657-F44-2017.02.18-06.06.27_MD657_1_0130_cropped_down32_sp5_denseScoreMap_setting_30.bp && mkdir -p /shared/CSHL_scoremaps_down32/MD657/MD657-N26-2017.02.27-16.14.53_MD657_2_0077_alignedTo_MD657-F44-2017.02.18-06.06.27_MD657_1_0130_cropped_down32\n",
      "aws s3 cp s3://mousebrainatlas-data/CSHL_scoremaps_down32/MD657/MD657-N26-2017.02.27-16.14.53_MD657_2_0077_alignedTo_MD657-F44-2017.02.18-06.06.27_MD657_1_0130_cropped_down32/MD657-N26-2017.02.27-16.14.53_MD657_2_0077_alignedTo_MD657-F44-2017.02.18-06.06.27_MD657_1_0130_cropped_down32_sp5_denseScoreMap_setting_30.bp /shared/CSHL_scoremaps_down32/MD657/MD657-N26-2017.02.27-16.14.53_MD657_2_0077_alignedTo_MD657-F44-2017.02.18-06.06.27_MD657_1_0130_cropped_down32/MD657-N26-2017.02.27-16.14.53_MD657_2_0077_alignedTo_MD657-F44-2017.02.18-06.06.27_MD657_1_0130_cropped_down32_sp5_denseScoreMap_setting_30.bp\n"
     ]
    },
    {
     "name": "stderr",
     "output_type": "stream",
     "text": [
      "Child returned 1\n",
      "0.35 seconds.\n",
      "Child returned 0\n"
     ]
    },
    {
     "name": "stdout",
     "output_type": "stream",
     "text": [
      "rm -rf /shared/CSHL_scoremaps_down32/MD657/MD657-N26-2017.02.27-16.14.53_MD657_3_0078_alignedTo_MD657-F44-2017.02.18-06.06.27_MD657_1_0130_cropped_down32/MD657-N26-2017.02.27-16.14.53_MD657_3_0078_alignedTo_MD657-F44-2017.02.18-06.06.27_MD657_1_0130_cropped_down32_sp5_denseScoreMap_setting_30.bp && mkdir -p /shared/CSHL_scoremaps_down32/MD657/MD657-N26-2017.02.27-16.14.53_MD657_3_0078_alignedTo_MD657-F44-2017.02.18-06.06.27_MD657_1_0130_cropped_down32\n",
      "aws s3 cp s3://mousebrainatlas-data/CSHL_scoremaps_down32/MD657/MD657-N26-2017.02.27-16.14.53_MD657_3_0078_alignedTo_MD657-F44-2017.02.18-06.06.27_MD657_1_0130_cropped_down32/MD657-N26-2017.02.27-16.14.53_MD657_3_0078_alignedTo_MD657-F44-2017.02.18-06.06.27_MD657_1_0130_cropped_down32_sp5_denseScoreMap_setting_30.bp /shared/CSHL_scoremaps_down32/MD657/MD657-N26-2017.02.27-16.14.53_MD657_3_0078_alignedTo_MD657-F44-2017.02.18-06.06.27_MD657_1_0130_cropped_down32/MD657-N26-2017.02.27-16.14.53_MD657_3_0078_alignedTo_MD657-F44-2017.02.18-06.06.27_MD657_1_0130_cropped_down32_sp5_denseScoreMap_setting_30.bp\n"
     ]
    },
    {
     "name": "stderr",
     "output_type": "stream",
     "text": [
      "Child returned 1\n",
      "0.33 seconds.\n",
      "Child returned 0\n"
     ]
    },
    {
     "name": "stdout",
     "output_type": "stream",
     "text": [
      "rm -rf /shared/CSHL_scoremaps_down32/MD657/MD657-N27-2017.02.22-15.18.34_MD657_2_0080_alignedTo_MD657-F44-2017.02.18-06.06.27_MD657_1_0130_cropped_down32/MD657-N27-2017.02.22-15.18.34_MD657_2_0080_alignedTo_MD657-F44-2017.02.18-06.06.27_MD657_1_0130_cropped_down32_sp5_denseScoreMap_setting_30.bp && mkdir -p /shared/CSHL_scoremaps_down32/MD657/MD657-N27-2017.02.22-15.18.34_MD657_2_0080_alignedTo_MD657-F44-2017.02.18-06.06.27_MD657_1_0130_cropped_down32\n",
      "aws s3 cp s3://mousebrainatlas-data/CSHL_scoremaps_down32/MD657/MD657-N27-2017.02.22-15.18.34_MD657_2_0080_alignedTo_MD657-F44-2017.02.18-06.06.27_MD657_1_0130_cropped_down32/MD657-N27-2017.02.22-15.18.34_MD657_2_0080_alignedTo_MD657-F44-2017.02.18-06.06.27_MD657_1_0130_cropped_down32_sp5_denseScoreMap_setting_30.bp /shared/CSHL_scoremaps_down32/MD657/MD657-N27-2017.02.22-15.18.34_MD657_2_0080_alignedTo_MD657-F44-2017.02.18-06.06.27_MD657_1_0130_cropped_down32/MD657-N27-2017.02.22-15.18.34_MD657_2_0080_alignedTo_MD657-F44-2017.02.18-06.06.27_MD657_1_0130_cropped_down32_sp5_denseScoreMap_setting_30.bp\n"
     ]
    },
    {
     "name": "stderr",
     "output_type": "stream",
     "text": [
      "Child returned 1\n",
      "0.33 seconds.\n",
      "Child returned 0\n"
     ]
    },
    {
     "name": "stdout",
     "output_type": "stream",
     "text": [
      "rm -rf /shared/CSHL_scoremaps_down32/MD657/MD657-N28-2017.02.22-15.21.25_MD657_1_0082_alignedTo_MD657-F44-2017.02.18-06.06.27_MD657_1_0130_cropped_down32/MD657-N28-2017.02.22-15.21.25_MD657_1_0082_alignedTo_MD657-F44-2017.02.18-06.06.27_MD657_1_0130_cropped_down32_sp5_denseScoreMap_setting_30.bp && mkdir -p /shared/CSHL_scoremaps_down32/MD657/MD657-N28-2017.02.22-15.21.25_MD657_1_0082_alignedTo_MD657-F44-2017.02.18-06.06.27_MD657_1_0130_cropped_down32\n",
      "aws s3 cp s3://mousebrainatlas-data/CSHL_scoremaps_down32/MD657/MD657-N28-2017.02.22-15.21.25_MD657_1_0082_alignedTo_MD657-F44-2017.02.18-06.06.27_MD657_1_0130_cropped_down32/MD657-N28-2017.02.22-15.21.25_MD657_1_0082_alignedTo_MD657-F44-2017.02.18-06.06.27_MD657_1_0130_cropped_down32_sp5_denseScoreMap_setting_30.bp /shared/CSHL_scoremaps_down32/MD657/MD657-N28-2017.02.22-15.21.25_MD657_1_0082_alignedTo_MD657-F44-2017.02.18-06.06.27_MD657_1_0130_cropped_down32/MD657-N28-2017.02.22-15.21.25_MD657_1_0082_alignedTo_MD657-F44-2017.02.18-06.06.27_MD657_1_0130_cropped_down32_sp5_denseScoreMap_setting_30.bp\n"
     ]
    },
    {
     "name": "stderr",
     "output_type": "stream",
     "text": [
      "Child returned 1\n",
      "0.33 seconds.\n",
      "Child returned 0\n"
     ]
    },
    {
     "name": "stdout",
     "output_type": "stream",
     "text": [
      "rm -rf /shared/CSHL_scoremaps_down32/MD657/MD657-N28-2017.02.22-15.21.25_MD657_2_0083_alignedTo_MD657-F44-2017.02.18-06.06.27_MD657_1_0130_cropped_down32/MD657-N28-2017.02.22-15.21.25_MD657_2_0083_alignedTo_MD657-F44-2017.02.18-06.06.27_MD657_1_0130_cropped_down32_sp5_denseScoreMap_setting_30.bp && mkdir -p /shared/CSHL_scoremaps_down32/MD657/MD657-N28-2017.02.22-15.21.25_MD657_2_0083_alignedTo_MD657-F44-2017.02.18-06.06.27_MD657_1_0130_cropped_down32\n",
      "aws s3 cp s3://mousebrainatlas-data/CSHL_scoremaps_down32/MD657/MD657-N28-2017.02.22-15.21.25_MD657_2_0083_alignedTo_MD657-F44-2017.02.18-06.06.27_MD657_1_0130_cropped_down32/MD657-N28-2017.02.22-15.21.25_MD657_2_0083_alignedTo_MD657-F44-2017.02.18-06.06.27_MD657_1_0130_cropped_down32_sp5_denseScoreMap_setting_30.bp /shared/CSHL_scoremaps_down32/MD657/MD657-N28-2017.02.22-15.21.25_MD657_2_0083_alignedTo_MD657-F44-2017.02.18-06.06.27_MD657_1_0130_cropped_down32/MD657-N28-2017.02.22-15.21.25_MD657_2_0083_alignedTo_MD657-F44-2017.02.18-06.06.27_MD657_1_0130_cropped_down32_sp5_denseScoreMap_setting_30.bp\n"
     ]
    },
    {
     "name": "stderr",
     "output_type": "stream",
     "text": [
      "Child returned 1\n",
      "0.36 seconds.\n",
      "Child returned 0\n"
     ]
    },
    {
     "name": "stdout",
     "output_type": "stream",
     "text": [
      "rm -rf /shared/CSHL_scoremaps_down32/MD657/MD657-N29-2017.02.22-15.24.51_MD657_1_0085_alignedTo_MD657-F44-2017.02.18-06.06.27_MD657_1_0130_cropped_down32/MD657-N29-2017.02.22-15.24.51_MD657_1_0085_alignedTo_MD657-F44-2017.02.18-06.06.27_MD657_1_0130_cropped_down32_sp5_denseScoreMap_setting_30.bp && mkdir -p /shared/CSHL_scoremaps_down32/MD657/MD657-N29-2017.02.22-15.24.51_MD657_1_0085_alignedTo_MD657-F44-2017.02.18-06.06.27_MD657_1_0130_cropped_down32\n",
      "aws s3 cp s3://mousebrainatlas-data/CSHL_scoremaps_down32/MD657/MD657-N29-2017.02.22-15.24.51_MD657_1_0085_alignedTo_MD657-F44-2017.02.18-06.06.27_MD657_1_0130_cropped_down32/MD657-N29-2017.02.22-15.24.51_MD657_1_0085_alignedTo_MD657-F44-2017.02.18-06.06.27_MD657_1_0130_cropped_down32_sp5_denseScoreMap_setting_30.bp /shared/CSHL_scoremaps_down32/MD657/MD657-N29-2017.02.22-15.24.51_MD657_1_0085_alignedTo_MD657-F44-2017.02.18-06.06.27_MD657_1_0130_cropped_down32/MD657-N29-2017.02.22-15.24.51_MD657_1_0085_alignedTo_MD657-F44-2017.02.18-06.06.27_MD657_1_0130_cropped_down32_sp5_denseScoreMap_setting_30.bp\n"
     ]
    },
    {
     "name": "stderr",
     "output_type": "stream",
     "text": [
      "Child returned 1\n",
      "0.33 seconds.\n",
      "Child returned 0\n"
     ]
    },
    {
     "name": "stdout",
     "output_type": "stream",
     "text": [
      "rm -rf /shared/CSHL_scoremaps_down32/MD657/MD657-N29-2017.02.22-15.24.51_MD657_2_0086_alignedTo_MD657-F44-2017.02.18-06.06.27_MD657_1_0130_cropped_down32/MD657-N29-2017.02.22-15.24.51_MD657_2_0086_alignedTo_MD657-F44-2017.02.18-06.06.27_MD657_1_0130_cropped_down32_sp5_denseScoreMap_setting_30.bp && mkdir -p /shared/CSHL_scoremaps_down32/MD657/MD657-N29-2017.02.22-15.24.51_MD657_2_0086_alignedTo_MD657-F44-2017.02.18-06.06.27_MD657_1_0130_cropped_down32\n",
      "aws s3 cp s3://mousebrainatlas-data/CSHL_scoremaps_down32/MD657/MD657-N29-2017.02.22-15.24.51_MD657_2_0086_alignedTo_MD657-F44-2017.02.18-06.06.27_MD657_1_0130_cropped_down32/MD657-N29-2017.02.22-15.24.51_MD657_2_0086_alignedTo_MD657-F44-2017.02.18-06.06.27_MD657_1_0130_cropped_down32_sp5_denseScoreMap_setting_30.bp /shared/CSHL_scoremaps_down32/MD657/MD657-N29-2017.02.22-15.24.51_MD657_2_0086_alignedTo_MD657-F44-2017.02.18-06.06.27_MD657_1_0130_cropped_down32/MD657-N29-2017.02.22-15.24.51_MD657_2_0086_alignedTo_MD657-F44-2017.02.18-06.06.27_MD657_1_0130_cropped_down32_sp5_denseScoreMap_setting_30.bp\n"
     ]
    },
    {
     "name": "stderr",
     "output_type": "stream",
     "text": [
      "Child returned 1\n",
      "0.35 seconds.\n",
      "Child returned 0\n"
     ]
    },
    {
     "name": "stdout",
     "output_type": "stream",
     "text": [
      "rm -rf /shared/CSHL_scoremaps_down32/MD657/MD657-N30-2017.02.22-15.28.21_MD657_1_0088_alignedTo_MD657-F44-2017.02.18-06.06.27_MD657_1_0130_cropped_down32/MD657-N30-2017.02.22-15.28.21_MD657_1_0088_alignedTo_MD657-F44-2017.02.18-06.06.27_MD657_1_0130_cropped_down32_sp5_denseScoreMap_setting_30.bp && mkdir -p /shared/CSHL_scoremaps_down32/MD657/MD657-N30-2017.02.22-15.28.21_MD657_1_0088_alignedTo_MD657-F44-2017.02.18-06.06.27_MD657_1_0130_cropped_down32\n",
      "aws s3 cp s3://mousebrainatlas-data/CSHL_scoremaps_down32/MD657/MD657-N30-2017.02.22-15.28.21_MD657_1_0088_alignedTo_MD657-F44-2017.02.18-06.06.27_MD657_1_0130_cropped_down32/MD657-N30-2017.02.22-15.28.21_MD657_1_0088_alignedTo_MD657-F44-2017.02.18-06.06.27_MD657_1_0130_cropped_down32_sp5_denseScoreMap_setting_30.bp /shared/CSHL_scoremaps_down32/MD657/MD657-N30-2017.02.22-15.28.21_MD657_1_0088_alignedTo_MD657-F44-2017.02.18-06.06.27_MD657_1_0130_cropped_down32/MD657-N30-2017.02.22-15.28.21_MD657_1_0088_alignedTo_MD657-F44-2017.02.18-06.06.27_MD657_1_0130_cropped_down32_sp5_denseScoreMap_setting_30.bp\n"
     ]
    },
    {
     "name": "stderr",
     "output_type": "stream",
     "text": [
      "Child returned 1\n",
      "0.33 seconds.\n",
      "Child returned 0\n"
     ]
    },
    {
     "name": "stdout",
     "output_type": "stream",
     "text": [
      "rm -rf /shared/CSHL_scoremaps_down32/MD657/MD657-N30-2017.02.22-15.28.21_MD657_2_0089_alignedTo_MD657-F44-2017.02.18-06.06.27_MD657_1_0130_cropped_down32/MD657-N30-2017.02.22-15.28.21_MD657_2_0089_alignedTo_MD657-F44-2017.02.18-06.06.27_MD657_1_0130_cropped_down32_sp5_denseScoreMap_setting_30.bp && mkdir -p /shared/CSHL_scoremaps_down32/MD657/MD657-N30-2017.02.22-15.28.21_MD657_2_0089_alignedTo_MD657-F44-2017.02.18-06.06.27_MD657_1_0130_cropped_down32\n",
      "aws s3 cp s3://mousebrainatlas-data/CSHL_scoremaps_down32/MD657/MD657-N30-2017.02.22-15.28.21_MD657_2_0089_alignedTo_MD657-F44-2017.02.18-06.06.27_MD657_1_0130_cropped_down32/MD657-N30-2017.02.22-15.28.21_MD657_2_0089_alignedTo_MD657-F44-2017.02.18-06.06.27_MD657_1_0130_cropped_down32_sp5_denseScoreMap_setting_30.bp /shared/CSHL_scoremaps_down32/MD657/MD657-N30-2017.02.22-15.28.21_MD657_2_0089_alignedTo_MD657-F44-2017.02.18-06.06.27_MD657_1_0130_cropped_down32/MD657-N30-2017.02.22-15.28.21_MD657_2_0089_alignedTo_MD657-F44-2017.02.18-06.06.27_MD657_1_0130_cropped_down32_sp5_denseScoreMap_setting_30.bp\n"
     ]
    },
    {
     "name": "stderr",
     "output_type": "stream",
     "text": [
      "Child returned 1\n",
      "0.34 seconds.\n",
      "Child returned 0\n"
     ]
    },
    {
     "name": "stdout",
     "output_type": "stream",
     "text": [
      "rm -rf /shared/CSHL_scoremaps_down32/MD657/MD657-N31-2017.02.22-15.32.10_MD657_1_0091_alignedTo_MD657-F44-2017.02.18-06.06.27_MD657_1_0130_cropped_down32/MD657-N31-2017.02.22-15.32.10_MD657_1_0091_alignedTo_MD657-F44-2017.02.18-06.06.27_MD657_1_0130_cropped_down32_sp5_denseScoreMap_setting_30.bp && mkdir -p /shared/CSHL_scoremaps_down32/MD657/MD657-N31-2017.02.22-15.32.10_MD657_1_0091_alignedTo_MD657-F44-2017.02.18-06.06.27_MD657_1_0130_cropped_down32\n",
      "aws s3 cp s3://mousebrainatlas-data/CSHL_scoremaps_down32/MD657/MD657-N31-2017.02.22-15.32.10_MD657_1_0091_alignedTo_MD657-F44-2017.02.18-06.06.27_MD657_1_0130_cropped_down32/MD657-N31-2017.02.22-15.32.10_MD657_1_0091_alignedTo_MD657-F44-2017.02.18-06.06.27_MD657_1_0130_cropped_down32_sp5_denseScoreMap_setting_30.bp /shared/CSHL_scoremaps_down32/MD657/MD657-N31-2017.02.22-15.32.10_MD657_1_0091_alignedTo_MD657-F44-2017.02.18-06.06.27_MD657_1_0130_cropped_down32/MD657-N31-2017.02.22-15.32.10_MD657_1_0091_alignedTo_MD657-F44-2017.02.18-06.06.27_MD657_1_0130_cropped_down32_sp5_denseScoreMap_setting_30.bp\n"
     ]
    },
    {
     "name": "stderr",
     "output_type": "stream",
     "text": [
      "Child returned 1\n",
      "0.35 seconds.\n",
      "Child returned 0\n"
     ]
    },
    {
     "name": "stdout",
     "output_type": "stream",
     "text": [
      "rm -rf /shared/CSHL_scoremaps_down32/MD657/MD657-N31-2017.02.22-15.32.10_MD657_2_0092_alignedTo_MD657-F44-2017.02.18-06.06.27_MD657_1_0130_cropped_down32/MD657-N31-2017.02.22-15.32.10_MD657_2_0092_alignedTo_MD657-F44-2017.02.18-06.06.27_MD657_1_0130_cropped_down32_sp5_denseScoreMap_setting_30.bp && mkdir -p /shared/CSHL_scoremaps_down32/MD657/MD657-N31-2017.02.22-15.32.10_MD657_2_0092_alignedTo_MD657-F44-2017.02.18-06.06.27_MD657_1_0130_cropped_down32\n",
      "aws s3 cp s3://mousebrainatlas-data/CSHL_scoremaps_down32/MD657/MD657-N31-2017.02.22-15.32.10_MD657_2_0092_alignedTo_MD657-F44-2017.02.18-06.06.27_MD657_1_0130_cropped_down32/MD657-N31-2017.02.22-15.32.10_MD657_2_0092_alignedTo_MD657-F44-2017.02.18-06.06.27_MD657_1_0130_cropped_down32_sp5_denseScoreMap_setting_30.bp /shared/CSHL_scoremaps_down32/MD657/MD657-N31-2017.02.22-15.32.10_MD657_2_0092_alignedTo_MD657-F44-2017.02.18-06.06.27_MD657_1_0130_cropped_down32/MD657-N31-2017.02.22-15.32.10_MD657_2_0092_alignedTo_MD657-F44-2017.02.18-06.06.27_MD657_1_0130_cropped_down32_sp5_denseScoreMap_setting_30.bp\n"
     ]
    },
    {
     "name": "stderr",
     "output_type": "stream",
     "text": [
      "Child returned 1\n",
      "0.35 seconds.\n",
      "Child returned 0\n"
     ]
    },
    {
     "name": "stdout",
     "output_type": "stream",
     "text": [
      "rm -rf /shared/CSHL_scoremaps_down32/MD657/MD657-N32-2017.02.22-15.36.09_MD657_1_0094_alignedTo_MD657-F44-2017.02.18-06.06.27_MD657_1_0130_cropped_down32/MD657-N32-2017.02.22-15.36.09_MD657_1_0094_alignedTo_MD657-F44-2017.02.18-06.06.27_MD657_1_0130_cropped_down32_sp5_denseScoreMap_setting_30.bp && mkdir -p /shared/CSHL_scoremaps_down32/MD657/MD657-N32-2017.02.22-15.36.09_MD657_1_0094_alignedTo_MD657-F44-2017.02.18-06.06.27_MD657_1_0130_cropped_down32\n",
      "aws s3 cp s3://mousebrainatlas-data/CSHL_scoremaps_down32/MD657/MD657-N32-2017.02.22-15.36.09_MD657_1_0094_alignedTo_MD657-F44-2017.02.18-06.06.27_MD657_1_0130_cropped_down32/MD657-N32-2017.02.22-15.36.09_MD657_1_0094_alignedTo_MD657-F44-2017.02.18-06.06.27_MD657_1_0130_cropped_down32_sp5_denseScoreMap_setting_30.bp /shared/CSHL_scoremaps_down32/MD657/MD657-N32-2017.02.22-15.36.09_MD657_1_0094_alignedTo_MD657-F44-2017.02.18-06.06.27_MD657_1_0130_cropped_down32/MD657-N32-2017.02.22-15.36.09_MD657_1_0094_alignedTo_MD657-F44-2017.02.18-06.06.27_MD657_1_0130_cropped_down32_sp5_denseScoreMap_setting_30.bp\n"
     ]
    },
    {
     "name": "stderr",
     "output_type": "stream",
     "text": [
      "Child returned 1\n",
      "0.36 seconds.\n",
      "Child returned 0\n"
     ]
    },
    {
     "name": "stdout",
     "output_type": "stream",
     "text": [
      "rm -rf /shared/CSHL_scoremaps_down32/MD657/MD657-N32-2017.02.22-15.36.09_MD657_2_0095_alignedTo_MD657-F44-2017.02.18-06.06.27_MD657_1_0130_cropped_down32/MD657-N32-2017.02.22-15.36.09_MD657_2_0095_alignedTo_MD657-F44-2017.02.18-06.06.27_MD657_1_0130_cropped_down32_sp5_denseScoreMap_setting_30.bp && mkdir -p /shared/CSHL_scoremaps_down32/MD657/MD657-N32-2017.02.22-15.36.09_MD657_2_0095_alignedTo_MD657-F44-2017.02.18-06.06.27_MD657_1_0130_cropped_down32\n",
      "aws s3 cp s3://mousebrainatlas-data/CSHL_scoremaps_down32/MD657/MD657-N32-2017.02.22-15.36.09_MD657_2_0095_alignedTo_MD657-F44-2017.02.18-06.06.27_MD657_1_0130_cropped_down32/MD657-N32-2017.02.22-15.36.09_MD657_2_0095_alignedTo_MD657-F44-2017.02.18-06.06.27_MD657_1_0130_cropped_down32_sp5_denseScoreMap_setting_30.bp /shared/CSHL_scoremaps_down32/MD657/MD657-N32-2017.02.22-15.36.09_MD657_2_0095_alignedTo_MD657-F44-2017.02.18-06.06.27_MD657_1_0130_cropped_down32/MD657-N32-2017.02.22-15.36.09_MD657_2_0095_alignedTo_MD657-F44-2017.02.18-06.06.27_MD657_1_0130_cropped_down32_sp5_denseScoreMap_setting_30.bp\n"
     ]
    },
    {
     "name": "stderr",
     "output_type": "stream",
     "text": [
      "Child returned 1\n",
      "0.34 seconds.\n",
      "Child returned 0\n"
     ]
    },
    {
     "name": "stdout",
     "output_type": "stream",
     "text": [
      "rm -rf /shared/CSHL_scoremaps_down32/MD657/MD657-N33-2017.02.22-15.39.59_MD657_1_0097_alignedTo_MD657-F44-2017.02.18-06.06.27_MD657_1_0130_cropped_down32/MD657-N33-2017.02.22-15.39.59_MD657_1_0097_alignedTo_MD657-F44-2017.02.18-06.06.27_MD657_1_0130_cropped_down32_sp5_denseScoreMap_setting_30.bp && mkdir -p /shared/CSHL_scoremaps_down32/MD657/MD657-N33-2017.02.22-15.39.59_MD657_1_0097_alignedTo_MD657-F44-2017.02.18-06.06.27_MD657_1_0130_cropped_down32\n",
      "aws s3 cp s3://mousebrainatlas-data/CSHL_scoremaps_down32/MD657/MD657-N33-2017.02.22-15.39.59_MD657_1_0097_alignedTo_MD657-F44-2017.02.18-06.06.27_MD657_1_0130_cropped_down32/MD657-N33-2017.02.22-15.39.59_MD657_1_0097_alignedTo_MD657-F44-2017.02.18-06.06.27_MD657_1_0130_cropped_down32_sp5_denseScoreMap_setting_30.bp /shared/CSHL_scoremaps_down32/MD657/MD657-N33-2017.02.22-15.39.59_MD657_1_0097_alignedTo_MD657-F44-2017.02.18-06.06.27_MD657_1_0130_cropped_down32/MD657-N33-2017.02.22-15.39.59_MD657_1_0097_alignedTo_MD657-F44-2017.02.18-06.06.27_MD657_1_0130_cropped_down32_sp5_denseScoreMap_setting_30.bp\n"
     ]
    },
    {
     "name": "stderr",
     "output_type": "stream",
     "text": [
      "Child returned 1\n",
      "0.35 seconds.\n",
      "Child returned 0\n"
     ]
    },
    {
     "name": "stdout",
     "output_type": "stream",
     "text": [
      "rm -rf /shared/CSHL_scoremaps_down32/MD657/MD657-N33-2017.02.22-15.39.59_MD657_2_0098_alignedTo_MD657-F44-2017.02.18-06.06.27_MD657_1_0130_cropped_down32/MD657-N33-2017.02.22-15.39.59_MD657_2_0098_alignedTo_MD657-F44-2017.02.18-06.06.27_MD657_1_0130_cropped_down32_sp5_denseScoreMap_setting_30.bp && mkdir -p /shared/CSHL_scoremaps_down32/MD657/MD657-N33-2017.02.22-15.39.59_MD657_2_0098_alignedTo_MD657-F44-2017.02.18-06.06.27_MD657_1_0130_cropped_down32\n",
      "aws s3 cp s3://mousebrainatlas-data/CSHL_scoremaps_down32/MD657/MD657-N33-2017.02.22-15.39.59_MD657_2_0098_alignedTo_MD657-F44-2017.02.18-06.06.27_MD657_1_0130_cropped_down32/MD657-N33-2017.02.22-15.39.59_MD657_2_0098_alignedTo_MD657-F44-2017.02.18-06.06.27_MD657_1_0130_cropped_down32_sp5_denseScoreMap_setting_30.bp /shared/CSHL_scoremaps_down32/MD657/MD657-N33-2017.02.22-15.39.59_MD657_2_0098_alignedTo_MD657-F44-2017.02.18-06.06.27_MD657_1_0130_cropped_down32/MD657-N33-2017.02.22-15.39.59_MD657_2_0098_alignedTo_MD657-F44-2017.02.18-06.06.27_MD657_1_0130_cropped_down32_sp5_denseScoreMap_setting_30.bp\n"
     ]
    },
    {
     "name": "stderr",
     "output_type": "stream",
     "text": [
      "Child returned 1\n",
      "0.34 seconds.\n",
      "Child returned 0\n"
     ]
    },
    {
     "name": "stdout",
     "output_type": "stream",
     "text": [
      "rm -rf /shared/CSHL_scoremaps_down32/MD657/MD657-N34-2017.02.22-15.43.50_MD657_1_0100_alignedTo_MD657-F44-2017.02.18-06.06.27_MD657_1_0130_cropped_down32/MD657-N34-2017.02.22-15.43.50_MD657_1_0100_alignedTo_MD657-F44-2017.02.18-06.06.27_MD657_1_0130_cropped_down32_sp5_denseScoreMap_setting_30.bp && mkdir -p /shared/CSHL_scoremaps_down32/MD657/MD657-N34-2017.02.22-15.43.50_MD657_1_0100_alignedTo_MD657-F44-2017.02.18-06.06.27_MD657_1_0130_cropped_down32\n",
      "aws s3 cp s3://mousebrainatlas-data/CSHL_scoremaps_down32/MD657/MD657-N34-2017.02.22-15.43.50_MD657_1_0100_alignedTo_MD657-F44-2017.02.18-06.06.27_MD657_1_0130_cropped_down32/MD657-N34-2017.02.22-15.43.50_MD657_1_0100_alignedTo_MD657-F44-2017.02.18-06.06.27_MD657_1_0130_cropped_down32_sp5_denseScoreMap_setting_30.bp /shared/CSHL_scoremaps_down32/MD657/MD657-N34-2017.02.22-15.43.50_MD657_1_0100_alignedTo_MD657-F44-2017.02.18-06.06.27_MD657_1_0130_cropped_down32/MD657-N34-2017.02.22-15.43.50_MD657_1_0100_alignedTo_MD657-F44-2017.02.18-06.06.27_MD657_1_0130_cropped_down32_sp5_denseScoreMap_setting_30.bp\n"
     ]
    },
    {
     "name": "stderr",
     "output_type": "stream",
     "text": [
      "Child returned 1\n",
      "0.33 seconds.\n",
      "Child returned 0\n"
     ]
    },
    {
     "name": "stdout",
     "output_type": "stream",
     "text": [
      "rm -rf /shared/CSHL_scoremaps_down32/MD657/MD657-N34-2017.02.22-15.43.50_MD657_2_0101_alignedTo_MD657-F44-2017.02.18-06.06.27_MD657_1_0130_cropped_down32/MD657-N34-2017.02.22-15.43.50_MD657_2_0101_alignedTo_MD657-F44-2017.02.18-06.06.27_MD657_1_0130_cropped_down32_sp5_denseScoreMap_setting_30.bp && mkdir -p /shared/CSHL_scoremaps_down32/MD657/MD657-N34-2017.02.22-15.43.50_MD657_2_0101_alignedTo_MD657-F44-2017.02.18-06.06.27_MD657_1_0130_cropped_down32\n",
      "aws s3 cp s3://mousebrainatlas-data/CSHL_scoremaps_down32/MD657/MD657-N34-2017.02.22-15.43.50_MD657_2_0101_alignedTo_MD657-F44-2017.02.18-06.06.27_MD657_1_0130_cropped_down32/MD657-N34-2017.02.22-15.43.50_MD657_2_0101_alignedTo_MD657-F44-2017.02.18-06.06.27_MD657_1_0130_cropped_down32_sp5_denseScoreMap_setting_30.bp /shared/CSHL_scoremaps_down32/MD657/MD657-N34-2017.02.22-15.43.50_MD657_2_0101_alignedTo_MD657-F44-2017.02.18-06.06.27_MD657_1_0130_cropped_down32/MD657-N34-2017.02.22-15.43.50_MD657_2_0101_alignedTo_MD657-F44-2017.02.18-06.06.27_MD657_1_0130_cropped_down32_sp5_denseScoreMap_setting_30.bp\n"
     ]
    },
    {
     "name": "stderr",
     "output_type": "stream",
     "text": [
      "Child returned 1\n",
      "0.35 seconds.\n",
      "Child returned 0\n"
     ]
    },
    {
     "name": "stdout",
     "output_type": "stream",
     "text": [
      "rm -rf /shared/CSHL_scoremaps_down32/MD657/MD657-N35-2017.02.22-15.47.51_MD657_1_0103_alignedTo_MD657-F44-2017.02.18-06.06.27_MD657_1_0130_cropped_down32/MD657-N35-2017.02.22-15.47.51_MD657_1_0103_alignedTo_MD657-F44-2017.02.18-06.06.27_MD657_1_0130_cropped_down32_sp5_denseScoreMap_setting_30.bp && mkdir -p /shared/CSHL_scoremaps_down32/MD657/MD657-N35-2017.02.22-15.47.51_MD657_1_0103_alignedTo_MD657-F44-2017.02.18-06.06.27_MD657_1_0130_cropped_down32\n",
      "aws s3 cp s3://mousebrainatlas-data/CSHL_scoremaps_down32/MD657/MD657-N35-2017.02.22-15.47.51_MD657_1_0103_alignedTo_MD657-F44-2017.02.18-06.06.27_MD657_1_0130_cropped_down32/MD657-N35-2017.02.22-15.47.51_MD657_1_0103_alignedTo_MD657-F44-2017.02.18-06.06.27_MD657_1_0130_cropped_down32_sp5_denseScoreMap_setting_30.bp /shared/CSHL_scoremaps_down32/MD657/MD657-N35-2017.02.22-15.47.51_MD657_1_0103_alignedTo_MD657-F44-2017.02.18-06.06.27_MD657_1_0130_cropped_down32/MD657-N35-2017.02.22-15.47.51_MD657_1_0103_alignedTo_MD657-F44-2017.02.18-06.06.27_MD657_1_0130_cropped_down32_sp5_denseScoreMap_setting_30.bp\n"
     ]
    },
    {
     "name": "stderr",
     "output_type": "stream",
     "text": [
      "Child returned 1\n",
      "0.33 seconds.\n",
      "Child returned 0\n"
     ]
    },
    {
     "name": "stdout",
     "output_type": "stream",
     "text": [
      "rm -rf /shared/CSHL_scoremaps_down32/MD657/MD657-N35-2017.02.22-15.47.51_MD657_2_0104_alignedTo_MD657-F44-2017.02.18-06.06.27_MD657_1_0130_cropped_down32/MD657-N35-2017.02.22-15.47.51_MD657_2_0104_alignedTo_MD657-F44-2017.02.18-06.06.27_MD657_1_0130_cropped_down32_sp5_denseScoreMap_setting_30.bp && mkdir -p /shared/CSHL_scoremaps_down32/MD657/MD657-N35-2017.02.22-15.47.51_MD657_2_0104_alignedTo_MD657-F44-2017.02.18-06.06.27_MD657_1_0130_cropped_down32\n",
      "aws s3 cp s3://mousebrainatlas-data/CSHL_scoremaps_down32/MD657/MD657-N35-2017.02.22-15.47.51_MD657_2_0104_alignedTo_MD657-F44-2017.02.18-06.06.27_MD657_1_0130_cropped_down32/MD657-N35-2017.02.22-15.47.51_MD657_2_0104_alignedTo_MD657-F44-2017.02.18-06.06.27_MD657_1_0130_cropped_down32_sp5_denseScoreMap_setting_30.bp /shared/CSHL_scoremaps_down32/MD657/MD657-N35-2017.02.22-15.47.51_MD657_2_0104_alignedTo_MD657-F44-2017.02.18-06.06.27_MD657_1_0130_cropped_down32/MD657-N35-2017.02.22-15.47.51_MD657_2_0104_alignedTo_MD657-F44-2017.02.18-06.06.27_MD657_1_0130_cropped_down32_sp5_denseScoreMap_setting_30.bp\n"
     ]
    },
    {
     "name": "stderr",
     "output_type": "stream",
     "text": [
      "Child returned 1\n",
      "0.35 seconds.\n",
      "Child returned 0\n"
     ]
    },
    {
     "name": "stdout",
     "output_type": "stream",
     "text": [
      "rm -rf /shared/CSHL_scoremaps_down32/MD657/MD657-N36-2017.02.22-15.51.49_MD657_1_0106_alignedTo_MD657-F44-2017.02.18-06.06.27_MD657_1_0130_cropped_down32/MD657-N36-2017.02.22-15.51.49_MD657_1_0106_alignedTo_MD657-F44-2017.02.18-06.06.27_MD657_1_0130_cropped_down32_sp5_denseScoreMap_setting_30.bp && mkdir -p /shared/CSHL_scoremaps_down32/MD657/MD657-N36-2017.02.22-15.51.49_MD657_1_0106_alignedTo_MD657-F44-2017.02.18-06.06.27_MD657_1_0130_cropped_down32\n",
      "aws s3 cp s3://mousebrainatlas-data/CSHL_scoremaps_down32/MD657/MD657-N36-2017.02.22-15.51.49_MD657_1_0106_alignedTo_MD657-F44-2017.02.18-06.06.27_MD657_1_0130_cropped_down32/MD657-N36-2017.02.22-15.51.49_MD657_1_0106_alignedTo_MD657-F44-2017.02.18-06.06.27_MD657_1_0130_cropped_down32_sp5_denseScoreMap_setting_30.bp /shared/CSHL_scoremaps_down32/MD657/MD657-N36-2017.02.22-15.51.49_MD657_1_0106_alignedTo_MD657-F44-2017.02.18-06.06.27_MD657_1_0130_cropped_down32/MD657-N36-2017.02.22-15.51.49_MD657_1_0106_alignedTo_MD657-F44-2017.02.18-06.06.27_MD657_1_0130_cropped_down32_sp5_denseScoreMap_setting_30.bp\n"
     ]
    },
    {
     "name": "stderr",
     "output_type": "stream",
     "text": [
      "Child returned 1\n",
      "0.32 seconds.\n",
      "Child returned 0\n"
     ]
    },
    {
     "name": "stdout",
     "output_type": "stream",
     "text": [
      "rm -rf /shared/CSHL_scoremaps_down32/MD657/MD657-N36-2017.02.22-15.51.49_MD657_2_0107_alignedTo_MD657-F44-2017.02.18-06.06.27_MD657_1_0130_cropped_down32/MD657-N36-2017.02.22-15.51.49_MD657_2_0107_alignedTo_MD657-F44-2017.02.18-06.06.27_MD657_1_0130_cropped_down32_sp5_denseScoreMap_setting_30.bp && mkdir -p /shared/CSHL_scoremaps_down32/MD657/MD657-N36-2017.02.22-15.51.49_MD657_2_0107_alignedTo_MD657-F44-2017.02.18-06.06.27_MD657_1_0130_cropped_down32\n",
      "aws s3 cp s3://mousebrainatlas-data/CSHL_scoremaps_down32/MD657/MD657-N36-2017.02.22-15.51.49_MD657_2_0107_alignedTo_MD657-F44-2017.02.18-06.06.27_MD657_1_0130_cropped_down32/MD657-N36-2017.02.22-15.51.49_MD657_2_0107_alignedTo_MD657-F44-2017.02.18-06.06.27_MD657_1_0130_cropped_down32_sp5_denseScoreMap_setting_30.bp /shared/CSHL_scoremaps_down32/MD657/MD657-N36-2017.02.22-15.51.49_MD657_2_0107_alignedTo_MD657-F44-2017.02.18-06.06.27_MD657_1_0130_cropped_down32/MD657-N36-2017.02.22-15.51.49_MD657_2_0107_alignedTo_MD657-F44-2017.02.18-06.06.27_MD657_1_0130_cropped_down32_sp5_denseScoreMap_setting_30.bp\n"
     ]
    },
    {
     "name": "stderr",
     "output_type": "stream",
     "text": [
      "Child returned 1\n",
      "0.33 seconds.\n",
      "Child returned 0\n"
     ]
    },
    {
     "name": "stdout",
     "output_type": "stream",
     "text": [
      "rm -rf /shared/CSHL_scoremaps_down32/MD657/MD657-N37-2017.02.22-15.55.56_MD657_1_0109_alignedTo_MD657-F44-2017.02.18-06.06.27_MD657_1_0130_cropped_down32/MD657-N37-2017.02.22-15.55.56_MD657_1_0109_alignedTo_MD657-F44-2017.02.18-06.06.27_MD657_1_0130_cropped_down32_sp5_denseScoreMap_setting_30.bp && mkdir -p /shared/CSHL_scoremaps_down32/MD657/MD657-N37-2017.02.22-15.55.56_MD657_1_0109_alignedTo_MD657-F44-2017.02.18-06.06.27_MD657_1_0130_cropped_down32\n",
      "aws s3 cp s3://mousebrainatlas-data/CSHL_scoremaps_down32/MD657/MD657-N37-2017.02.22-15.55.56_MD657_1_0109_alignedTo_MD657-F44-2017.02.18-06.06.27_MD657_1_0130_cropped_down32/MD657-N37-2017.02.22-15.55.56_MD657_1_0109_alignedTo_MD657-F44-2017.02.18-06.06.27_MD657_1_0130_cropped_down32_sp5_denseScoreMap_setting_30.bp /shared/CSHL_scoremaps_down32/MD657/MD657-N37-2017.02.22-15.55.56_MD657_1_0109_alignedTo_MD657-F44-2017.02.18-06.06.27_MD657_1_0130_cropped_down32/MD657-N37-2017.02.22-15.55.56_MD657_1_0109_alignedTo_MD657-F44-2017.02.18-06.06.27_MD657_1_0130_cropped_down32_sp5_denseScoreMap_setting_30.bp\n"
     ]
    },
    {
     "name": "stderr",
     "output_type": "stream",
     "text": [
      "Child returned 1\n",
      "0.33 seconds.\n",
      "Child returned 0\n"
     ]
    },
    {
     "name": "stdout",
     "output_type": "stream",
     "text": [
      "rm -rf /shared/CSHL_scoremaps_down32/MD657/MD657-N37-2017.02.22-15.55.56_MD657_2_0110_alignedTo_MD657-F44-2017.02.18-06.06.27_MD657_1_0130_cropped_down32/MD657-N37-2017.02.22-15.55.56_MD657_2_0110_alignedTo_MD657-F44-2017.02.18-06.06.27_MD657_1_0130_cropped_down32_sp5_denseScoreMap_setting_30.bp && mkdir -p /shared/CSHL_scoremaps_down32/MD657/MD657-N37-2017.02.22-15.55.56_MD657_2_0110_alignedTo_MD657-F44-2017.02.18-06.06.27_MD657_1_0130_cropped_down32\n",
      "aws s3 cp s3://mousebrainatlas-data/CSHL_scoremaps_down32/MD657/MD657-N37-2017.02.22-15.55.56_MD657_2_0110_alignedTo_MD657-F44-2017.02.18-06.06.27_MD657_1_0130_cropped_down32/MD657-N37-2017.02.22-15.55.56_MD657_2_0110_alignedTo_MD657-F44-2017.02.18-06.06.27_MD657_1_0130_cropped_down32_sp5_denseScoreMap_setting_30.bp /shared/CSHL_scoremaps_down32/MD657/MD657-N37-2017.02.22-15.55.56_MD657_2_0110_alignedTo_MD657-F44-2017.02.18-06.06.27_MD657_1_0130_cropped_down32/MD657-N37-2017.02.22-15.55.56_MD657_2_0110_alignedTo_MD657-F44-2017.02.18-06.06.27_MD657_1_0130_cropped_down32_sp5_denseScoreMap_setting_30.bp\n"
     ]
    },
    {
     "name": "stderr",
     "output_type": "stream",
     "text": [
      "Child returned 1\n",
      "0.34 seconds.\n",
      "Child returned 0\n"
     ]
    },
    {
     "name": "stdout",
     "output_type": "stream",
     "text": [
      "rm -rf /shared/CSHL_scoremaps_down32/MD657/MD657-N38-2017.02.22-16.00.02_MD657_1_0112_alignedTo_MD657-F44-2017.02.18-06.06.27_MD657_1_0130_cropped_down32/MD657-N38-2017.02.22-16.00.02_MD657_1_0112_alignedTo_MD657-F44-2017.02.18-06.06.27_MD657_1_0130_cropped_down32_sp5_denseScoreMap_setting_30.bp && mkdir -p /shared/CSHL_scoremaps_down32/MD657/MD657-N38-2017.02.22-16.00.02_MD657_1_0112_alignedTo_MD657-F44-2017.02.18-06.06.27_MD657_1_0130_cropped_down32\n",
      "aws s3 cp s3://mousebrainatlas-data/CSHL_scoremaps_down32/MD657/MD657-N38-2017.02.22-16.00.02_MD657_1_0112_alignedTo_MD657-F44-2017.02.18-06.06.27_MD657_1_0130_cropped_down32/MD657-N38-2017.02.22-16.00.02_MD657_1_0112_alignedTo_MD657-F44-2017.02.18-06.06.27_MD657_1_0130_cropped_down32_sp5_denseScoreMap_setting_30.bp /shared/CSHL_scoremaps_down32/MD657/MD657-N38-2017.02.22-16.00.02_MD657_1_0112_alignedTo_MD657-F44-2017.02.18-06.06.27_MD657_1_0130_cropped_down32/MD657-N38-2017.02.22-16.00.02_MD657_1_0112_alignedTo_MD657-F44-2017.02.18-06.06.27_MD657_1_0130_cropped_down32_sp5_denseScoreMap_setting_30.bp\n"
     ]
    },
    {
     "name": "stderr",
     "output_type": "stream",
     "text": [
      "Child returned 1\n",
      "0.33 seconds.\n",
      "Child returned 0\n"
     ]
    },
    {
     "name": "stdout",
     "output_type": "stream",
     "text": [
      "rm -rf /shared/CSHL_scoremaps_down32/MD657/MD657-N38-2017.02.22-16.00.02_MD657_2_0113_alignedTo_MD657-F44-2017.02.18-06.06.27_MD657_1_0130_cropped_down32/MD657-N38-2017.02.22-16.00.02_MD657_2_0113_alignedTo_MD657-F44-2017.02.18-06.06.27_MD657_1_0130_cropped_down32_sp5_denseScoreMap_setting_30.bp && mkdir -p /shared/CSHL_scoremaps_down32/MD657/MD657-N38-2017.02.22-16.00.02_MD657_2_0113_alignedTo_MD657-F44-2017.02.18-06.06.27_MD657_1_0130_cropped_down32\n",
      "aws s3 cp s3://mousebrainatlas-data/CSHL_scoremaps_down32/MD657/MD657-N38-2017.02.22-16.00.02_MD657_2_0113_alignedTo_MD657-F44-2017.02.18-06.06.27_MD657_1_0130_cropped_down32/MD657-N38-2017.02.22-16.00.02_MD657_2_0113_alignedTo_MD657-F44-2017.02.18-06.06.27_MD657_1_0130_cropped_down32_sp5_denseScoreMap_setting_30.bp /shared/CSHL_scoremaps_down32/MD657/MD657-N38-2017.02.22-16.00.02_MD657_2_0113_alignedTo_MD657-F44-2017.02.18-06.06.27_MD657_1_0130_cropped_down32/MD657-N38-2017.02.22-16.00.02_MD657_2_0113_alignedTo_MD657-F44-2017.02.18-06.06.27_MD657_1_0130_cropped_down32_sp5_denseScoreMap_setting_30.bp\n"
     ]
    },
    {
     "name": "stderr",
     "output_type": "stream",
     "text": [
      "Child returned 1\n",
      "0.34 seconds.\n",
      "Child returned 0\n"
     ]
    },
    {
     "name": "stdout",
     "output_type": "stream",
     "text": [
      "rm -rf /shared/CSHL_scoremaps_down32/MD657/MD657-N39-2017.02.22-16.04.05_MD657_1_0115_alignedTo_MD657-F44-2017.02.18-06.06.27_MD657_1_0130_cropped_down32/MD657-N39-2017.02.22-16.04.05_MD657_1_0115_alignedTo_MD657-F44-2017.02.18-06.06.27_MD657_1_0130_cropped_down32_sp5_denseScoreMap_setting_30.bp && mkdir -p /shared/CSHL_scoremaps_down32/MD657/MD657-N39-2017.02.22-16.04.05_MD657_1_0115_alignedTo_MD657-F44-2017.02.18-06.06.27_MD657_1_0130_cropped_down32\n",
      "aws s3 cp s3://mousebrainatlas-data/CSHL_scoremaps_down32/MD657/MD657-N39-2017.02.22-16.04.05_MD657_1_0115_alignedTo_MD657-F44-2017.02.18-06.06.27_MD657_1_0130_cropped_down32/MD657-N39-2017.02.22-16.04.05_MD657_1_0115_alignedTo_MD657-F44-2017.02.18-06.06.27_MD657_1_0130_cropped_down32_sp5_denseScoreMap_setting_30.bp /shared/CSHL_scoremaps_down32/MD657/MD657-N39-2017.02.22-16.04.05_MD657_1_0115_alignedTo_MD657-F44-2017.02.18-06.06.27_MD657_1_0130_cropped_down32/MD657-N39-2017.02.22-16.04.05_MD657_1_0115_alignedTo_MD657-F44-2017.02.18-06.06.27_MD657_1_0130_cropped_down32_sp5_denseScoreMap_setting_30.bp\n"
     ]
    },
    {
     "name": "stderr",
     "output_type": "stream",
     "text": [
      "Child returned 1\n",
      "0.33 seconds.\n",
      "Child returned 0\n"
     ]
    },
    {
     "name": "stdout",
     "output_type": "stream",
     "text": [
      "rm -rf /shared/CSHL_scoremaps_down32/MD657/MD657-N39-2017.02.22-16.04.05_MD657_2_0116_alignedTo_MD657-F44-2017.02.18-06.06.27_MD657_1_0130_cropped_down32/MD657-N39-2017.02.22-16.04.05_MD657_2_0116_alignedTo_MD657-F44-2017.02.18-06.06.27_MD657_1_0130_cropped_down32_sp5_denseScoreMap_setting_30.bp && mkdir -p /shared/CSHL_scoremaps_down32/MD657/MD657-N39-2017.02.22-16.04.05_MD657_2_0116_alignedTo_MD657-F44-2017.02.18-06.06.27_MD657_1_0130_cropped_down32\n",
      "aws s3 cp s3://mousebrainatlas-data/CSHL_scoremaps_down32/MD657/MD657-N39-2017.02.22-16.04.05_MD657_2_0116_alignedTo_MD657-F44-2017.02.18-06.06.27_MD657_1_0130_cropped_down32/MD657-N39-2017.02.22-16.04.05_MD657_2_0116_alignedTo_MD657-F44-2017.02.18-06.06.27_MD657_1_0130_cropped_down32_sp5_denseScoreMap_setting_30.bp /shared/CSHL_scoremaps_down32/MD657/MD657-N39-2017.02.22-16.04.05_MD657_2_0116_alignedTo_MD657-F44-2017.02.18-06.06.27_MD657_1_0130_cropped_down32/MD657-N39-2017.02.22-16.04.05_MD657_2_0116_alignedTo_MD657-F44-2017.02.18-06.06.27_MD657_1_0130_cropped_down32_sp5_denseScoreMap_setting_30.bp\n"
     ]
    },
    {
     "name": "stderr",
     "output_type": "stream",
     "text": [
      "Child returned 1\n",
      "0.33 seconds.\n",
      "Child returned 0\n"
     ]
    },
    {
     "name": "stdout",
     "output_type": "stream",
     "text": [
      "rm -rf /shared/CSHL_scoremaps_down32/MD657/MD657-N40-2017.02.22-16.08.37_MD657_1_0118_alignedTo_MD657-F44-2017.02.18-06.06.27_MD657_1_0130_cropped_down32/MD657-N40-2017.02.22-16.08.37_MD657_1_0118_alignedTo_MD657-F44-2017.02.18-06.06.27_MD657_1_0130_cropped_down32_sp5_denseScoreMap_setting_30.bp && mkdir -p /shared/CSHL_scoremaps_down32/MD657/MD657-N40-2017.02.22-16.08.37_MD657_1_0118_alignedTo_MD657-F44-2017.02.18-06.06.27_MD657_1_0130_cropped_down32\n",
      "aws s3 cp s3://mousebrainatlas-data/CSHL_scoremaps_down32/MD657/MD657-N40-2017.02.22-16.08.37_MD657_1_0118_alignedTo_MD657-F44-2017.02.18-06.06.27_MD657_1_0130_cropped_down32/MD657-N40-2017.02.22-16.08.37_MD657_1_0118_alignedTo_MD657-F44-2017.02.18-06.06.27_MD657_1_0130_cropped_down32_sp5_denseScoreMap_setting_30.bp /shared/CSHL_scoremaps_down32/MD657/MD657-N40-2017.02.22-16.08.37_MD657_1_0118_alignedTo_MD657-F44-2017.02.18-06.06.27_MD657_1_0130_cropped_down32/MD657-N40-2017.02.22-16.08.37_MD657_1_0118_alignedTo_MD657-F44-2017.02.18-06.06.27_MD657_1_0130_cropped_down32_sp5_denseScoreMap_setting_30.bp\n"
     ]
    },
    {
     "name": "stderr",
     "output_type": "stream",
     "text": [
      "Child returned 1\n",
      "0.33 seconds.\n",
      "Child returned 0\n"
     ]
    },
    {
     "name": "stdout",
     "output_type": "stream",
     "text": [
      "rm -rf /shared/CSHL_scoremaps_down32/MD657/MD657-N40-2017.02.22-16.08.37_MD657_2_0119_alignedTo_MD657-F44-2017.02.18-06.06.27_MD657_1_0130_cropped_down32/MD657-N40-2017.02.22-16.08.37_MD657_2_0119_alignedTo_MD657-F44-2017.02.18-06.06.27_MD657_1_0130_cropped_down32_sp5_denseScoreMap_setting_30.bp && mkdir -p /shared/CSHL_scoremaps_down32/MD657/MD657-N40-2017.02.22-16.08.37_MD657_2_0119_alignedTo_MD657-F44-2017.02.18-06.06.27_MD657_1_0130_cropped_down32\n",
      "aws s3 cp s3://mousebrainatlas-data/CSHL_scoremaps_down32/MD657/MD657-N40-2017.02.22-16.08.37_MD657_2_0119_alignedTo_MD657-F44-2017.02.18-06.06.27_MD657_1_0130_cropped_down32/MD657-N40-2017.02.22-16.08.37_MD657_2_0119_alignedTo_MD657-F44-2017.02.18-06.06.27_MD657_1_0130_cropped_down32_sp5_denseScoreMap_setting_30.bp /shared/CSHL_scoremaps_down32/MD657/MD657-N40-2017.02.22-16.08.37_MD657_2_0119_alignedTo_MD657-F44-2017.02.18-06.06.27_MD657_1_0130_cropped_down32/MD657-N40-2017.02.22-16.08.37_MD657_2_0119_alignedTo_MD657-F44-2017.02.18-06.06.27_MD657_1_0130_cropped_down32_sp5_denseScoreMap_setting_30.bp\n"
     ]
    },
    {
     "name": "stderr",
     "output_type": "stream",
     "text": [
      "Child returned 1\n",
      "0.35 seconds.\n",
      "Child returned 0\n"
     ]
    },
    {
     "name": "stdout",
     "output_type": "stream",
     "text": [
      "rm -rf /shared/CSHL_scoremaps_down32/MD657/MD657-N41-2017.02.22-16.12.45_MD657_1_0121_alignedTo_MD657-F44-2017.02.18-06.06.27_MD657_1_0130_cropped_down32/MD657-N41-2017.02.22-16.12.45_MD657_1_0121_alignedTo_MD657-F44-2017.02.18-06.06.27_MD657_1_0130_cropped_down32_sp5_denseScoreMap_setting_30.bp && mkdir -p /shared/CSHL_scoremaps_down32/MD657/MD657-N41-2017.02.22-16.12.45_MD657_1_0121_alignedTo_MD657-F44-2017.02.18-06.06.27_MD657_1_0130_cropped_down32\n",
      "aws s3 cp s3://mousebrainatlas-data/CSHL_scoremaps_down32/MD657/MD657-N41-2017.02.22-16.12.45_MD657_1_0121_alignedTo_MD657-F44-2017.02.18-06.06.27_MD657_1_0130_cropped_down32/MD657-N41-2017.02.22-16.12.45_MD657_1_0121_alignedTo_MD657-F44-2017.02.18-06.06.27_MD657_1_0130_cropped_down32_sp5_denseScoreMap_setting_30.bp /shared/CSHL_scoremaps_down32/MD657/MD657-N41-2017.02.22-16.12.45_MD657_1_0121_alignedTo_MD657-F44-2017.02.18-06.06.27_MD657_1_0130_cropped_down32/MD657-N41-2017.02.22-16.12.45_MD657_1_0121_alignedTo_MD657-F44-2017.02.18-06.06.27_MD657_1_0130_cropped_down32_sp5_denseScoreMap_setting_30.bp\n"
     ]
    },
    {
     "name": "stderr",
     "output_type": "stream",
     "text": [
      "Child returned 1\n",
      "0.34 seconds.\n",
      "Child returned 0\n"
     ]
    },
    {
     "name": "stdout",
     "output_type": "stream",
     "text": [
      "rm -rf /shared/CSHL_scoremaps_down32/MD657/MD657-N41-2017.02.22-16.12.45_MD657_2_0122_alignedTo_MD657-F44-2017.02.18-06.06.27_MD657_1_0130_cropped_down32/MD657-N41-2017.02.22-16.12.45_MD657_2_0122_alignedTo_MD657-F44-2017.02.18-06.06.27_MD657_1_0130_cropped_down32_sp5_denseScoreMap_setting_30.bp && mkdir -p /shared/CSHL_scoremaps_down32/MD657/MD657-N41-2017.02.22-16.12.45_MD657_2_0122_alignedTo_MD657-F44-2017.02.18-06.06.27_MD657_1_0130_cropped_down32\n",
      "aws s3 cp s3://mousebrainatlas-data/CSHL_scoremaps_down32/MD657/MD657-N41-2017.02.22-16.12.45_MD657_2_0122_alignedTo_MD657-F44-2017.02.18-06.06.27_MD657_1_0130_cropped_down32/MD657-N41-2017.02.22-16.12.45_MD657_2_0122_alignedTo_MD657-F44-2017.02.18-06.06.27_MD657_1_0130_cropped_down32_sp5_denseScoreMap_setting_30.bp /shared/CSHL_scoremaps_down32/MD657/MD657-N41-2017.02.22-16.12.45_MD657_2_0122_alignedTo_MD657-F44-2017.02.18-06.06.27_MD657_1_0130_cropped_down32/MD657-N41-2017.02.22-16.12.45_MD657_2_0122_alignedTo_MD657-F44-2017.02.18-06.06.27_MD657_1_0130_cropped_down32_sp5_denseScoreMap_setting_30.bp\n"
     ]
    },
    {
     "name": "stderr",
     "output_type": "stream",
     "text": [
      "Child returned 1\n",
      "0.33 seconds.\n",
      "Child returned 0\n"
     ]
    },
    {
     "name": "stdout",
     "output_type": "stream",
     "text": [
      "rm -rf /shared/CSHL_scoremaps_down32/MD657/MD657-N42-2017.02.22-16.16.50_MD657_1_0124_alignedTo_MD657-F44-2017.02.18-06.06.27_MD657_1_0130_cropped_down32/MD657-N42-2017.02.22-16.16.50_MD657_1_0124_alignedTo_MD657-F44-2017.02.18-06.06.27_MD657_1_0130_cropped_down32_sp5_denseScoreMap_setting_30.bp && mkdir -p /shared/CSHL_scoremaps_down32/MD657/MD657-N42-2017.02.22-16.16.50_MD657_1_0124_alignedTo_MD657-F44-2017.02.18-06.06.27_MD657_1_0130_cropped_down32\n",
      "aws s3 cp s3://mousebrainatlas-data/CSHL_scoremaps_down32/MD657/MD657-N42-2017.02.22-16.16.50_MD657_1_0124_alignedTo_MD657-F44-2017.02.18-06.06.27_MD657_1_0130_cropped_down32/MD657-N42-2017.02.22-16.16.50_MD657_1_0124_alignedTo_MD657-F44-2017.02.18-06.06.27_MD657_1_0130_cropped_down32_sp5_denseScoreMap_setting_30.bp /shared/CSHL_scoremaps_down32/MD657/MD657-N42-2017.02.22-16.16.50_MD657_1_0124_alignedTo_MD657-F44-2017.02.18-06.06.27_MD657_1_0130_cropped_down32/MD657-N42-2017.02.22-16.16.50_MD657_1_0124_alignedTo_MD657-F44-2017.02.18-06.06.27_MD657_1_0130_cropped_down32_sp5_denseScoreMap_setting_30.bp\n"
     ]
    },
    {
     "name": "stderr",
     "output_type": "stream",
     "text": [
      "Child returned 1\n",
      "0.34 seconds.\n",
      "Child returned 0\n"
     ]
    },
    {
     "name": "stdout",
     "output_type": "stream",
     "text": [
      "rm -rf /shared/CSHL_scoremaps_down32/MD657/MD657-N42-2017.02.22-16.16.50_MD657_2_0125_alignedTo_MD657-F44-2017.02.18-06.06.27_MD657_1_0130_cropped_down32/MD657-N42-2017.02.22-16.16.50_MD657_2_0125_alignedTo_MD657-F44-2017.02.18-06.06.27_MD657_1_0130_cropped_down32_sp5_denseScoreMap_setting_30.bp && mkdir -p /shared/CSHL_scoremaps_down32/MD657/MD657-N42-2017.02.22-16.16.50_MD657_2_0125_alignedTo_MD657-F44-2017.02.18-06.06.27_MD657_1_0130_cropped_down32\n",
      "aws s3 cp s3://mousebrainatlas-data/CSHL_scoremaps_down32/MD657/MD657-N42-2017.02.22-16.16.50_MD657_2_0125_alignedTo_MD657-F44-2017.02.18-06.06.27_MD657_1_0130_cropped_down32/MD657-N42-2017.02.22-16.16.50_MD657_2_0125_alignedTo_MD657-F44-2017.02.18-06.06.27_MD657_1_0130_cropped_down32_sp5_denseScoreMap_setting_30.bp /shared/CSHL_scoremaps_down32/MD657/MD657-N42-2017.02.22-16.16.50_MD657_2_0125_alignedTo_MD657-F44-2017.02.18-06.06.27_MD657_1_0130_cropped_down32/MD657-N42-2017.02.22-16.16.50_MD657_2_0125_alignedTo_MD657-F44-2017.02.18-06.06.27_MD657_1_0130_cropped_down32_sp5_denseScoreMap_setting_30.bp\n"
     ]
    },
    {
     "name": "stderr",
     "output_type": "stream",
     "text": [
      "Child returned 1\n",
      "0.33 seconds.\n",
      "Child returned 0\n"
     ]
    },
    {
     "name": "stdout",
     "output_type": "stream",
     "text": [
      "rm -rf /shared/CSHL_scoremaps_down32/MD657/MD657-N43-2017.02.22-16.21.20_MD657_1_0127_alignedTo_MD657-F44-2017.02.18-06.06.27_MD657_1_0130_cropped_down32/MD657-N43-2017.02.22-16.21.20_MD657_1_0127_alignedTo_MD657-F44-2017.02.18-06.06.27_MD657_1_0130_cropped_down32_sp5_denseScoreMap_setting_30.bp && mkdir -p /shared/CSHL_scoremaps_down32/MD657/MD657-N43-2017.02.22-16.21.20_MD657_1_0127_alignedTo_MD657-F44-2017.02.18-06.06.27_MD657_1_0130_cropped_down32\n",
      "aws s3 cp s3://mousebrainatlas-data/CSHL_scoremaps_down32/MD657/MD657-N43-2017.02.22-16.21.20_MD657_1_0127_alignedTo_MD657-F44-2017.02.18-06.06.27_MD657_1_0130_cropped_down32/MD657-N43-2017.02.22-16.21.20_MD657_1_0127_alignedTo_MD657-F44-2017.02.18-06.06.27_MD657_1_0130_cropped_down32_sp5_denseScoreMap_setting_30.bp /shared/CSHL_scoremaps_down32/MD657/MD657-N43-2017.02.22-16.21.20_MD657_1_0127_alignedTo_MD657-F44-2017.02.18-06.06.27_MD657_1_0130_cropped_down32/MD657-N43-2017.02.22-16.21.20_MD657_1_0127_alignedTo_MD657-F44-2017.02.18-06.06.27_MD657_1_0130_cropped_down32_sp5_denseScoreMap_setting_30.bp\n"
     ]
    },
    {
     "name": "stderr",
     "output_type": "stream",
     "text": [
      "Child returned 1\n",
      "0.33 seconds.\n",
      "Child returned 0\n"
     ]
    },
    {
     "name": "stdout",
     "output_type": "stream",
     "text": [
      "rm -rf /shared/CSHL_scoremaps_down32/MD657/MD657-N44-2017.02.22-16.25.25_MD657_1_0130_alignedTo_MD657-F44-2017.02.18-06.06.27_MD657_1_0130_cropped_down32/MD657-N44-2017.02.22-16.25.25_MD657_1_0130_alignedTo_MD657-F44-2017.02.18-06.06.27_MD657_1_0130_cropped_down32_sp5_denseScoreMap_setting_30.bp && mkdir -p /shared/CSHL_scoremaps_down32/MD657/MD657-N44-2017.02.22-16.25.25_MD657_1_0130_alignedTo_MD657-F44-2017.02.18-06.06.27_MD657_1_0130_cropped_down32\n",
      "aws s3 cp s3://mousebrainatlas-data/CSHL_scoremaps_down32/MD657/MD657-N44-2017.02.22-16.25.25_MD657_1_0130_alignedTo_MD657-F44-2017.02.18-06.06.27_MD657_1_0130_cropped_down32/MD657-N44-2017.02.22-16.25.25_MD657_1_0130_alignedTo_MD657-F44-2017.02.18-06.06.27_MD657_1_0130_cropped_down32_sp5_denseScoreMap_setting_30.bp /shared/CSHL_scoremaps_down32/MD657/MD657-N44-2017.02.22-16.25.25_MD657_1_0130_alignedTo_MD657-F44-2017.02.18-06.06.27_MD657_1_0130_cropped_down32/MD657-N44-2017.02.22-16.25.25_MD657_1_0130_alignedTo_MD657-F44-2017.02.18-06.06.27_MD657_1_0130_cropped_down32_sp5_denseScoreMap_setting_30.bp\n"
     ]
    },
    {
     "name": "stderr",
     "output_type": "stream",
     "text": [
      "Child returned 1\n",
      "0.33 seconds.\n",
      "Child returned 0\n"
     ]
    },
    {
     "name": "stdout",
     "output_type": "stream",
     "text": [
      "rm -rf /shared/CSHL_scoremaps_down32/MD657/MD657-N44-2017.02.22-16.25.25_MD657_2_0131_alignedTo_MD657-F44-2017.02.18-06.06.27_MD657_1_0130_cropped_down32/MD657-N44-2017.02.22-16.25.25_MD657_2_0131_alignedTo_MD657-F44-2017.02.18-06.06.27_MD657_1_0130_cropped_down32_sp5_denseScoreMap_setting_30.bp && mkdir -p /shared/CSHL_scoremaps_down32/MD657/MD657-N44-2017.02.22-16.25.25_MD657_2_0131_alignedTo_MD657-F44-2017.02.18-06.06.27_MD657_1_0130_cropped_down32\n",
      "aws s3 cp s3://mousebrainatlas-data/CSHL_scoremaps_down32/MD657/MD657-N44-2017.02.22-16.25.25_MD657_2_0131_alignedTo_MD657-F44-2017.02.18-06.06.27_MD657_1_0130_cropped_down32/MD657-N44-2017.02.22-16.25.25_MD657_2_0131_alignedTo_MD657-F44-2017.02.18-06.06.27_MD657_1_0130_cropped_down32_sp5_denseScoreMap_setting_30.bp /shared/CSHL_scoremaps_down32/MD657/MD657-N44-2017.02.22-16.25.25_MD657_2_0131_alignedTo_MD657-F44-2017.02.18-06.06.27_MD657_1_0130_cropped_down32/MD657-N44-2017.02.22-16.25.25_MD657_2_0131_alignedTo_MD657-F44-2017.02.18-06.06.27_MD657_1_0130_cropped_down32_sp5_denseScoreMap_setting_30.bp\n"
     ]
    },
    {
     "name": "stderr",
     "output_type": "stream",
     "text": [
      "Child returned 1\n",
      "0.34 seconds.\n",
      "Child returned 0\n"
     ]
    },
    {
     "name": "stdout",
     "output_type": "stream",
     "text": [
      "rm -rf /shared/CSHL_scoremaps_down32/MD657/MD657-N45-2017.02.22-16.29.38_MD657_1_0133_alignedTo_MD657-F44-2017.02.18-06.06.27_MD657_1_0130_cropped_down32/MD657-N45-2017.02.22-16.29.38_MD657_1_0133_alignedTo_MD657-F44-2017.02.18-06.06.27_MD657_1_0130_cropped_down32_sp5_denseScoreMap_setting_30.bp && mkdir -p /shared/CSHL_scoremaps_down32/MD657/MD657-N45-2017.02.22-16.29.38_MD657_1_0133_alignedTo_MD657-F44-2017.02.18-06.06.27_MD657_1_0130_cropped_down32\n",
      "aws s3 cp s3://mousebrainatlas-data/CSHL_scoremaps_down32/MD657/MD657-N45-2017.02.22-16.29.38_MD657_1_0133_alignedTo_MD657-F44-2017.02.18-06.06.27_MD657_1_0130_cropped_down32/MD657-N45-2017.02.22-16.29.38_MD657_1_0133_alignedTo_MD657-F44-2017.02.18-06.06.27_MD657_1_0130_cropped_down32_sp5_denseScoreMap_setting_30.bp /shared/CSHL_scoremaps_down32/MD657/MD657-N45-2017.02.22-16.29.38_MD657_1_0133_alignedTo_MD657-F44-2017.02.18-06.06.27_MD657_1_0130_cropped_down32/MD657-N45-2017.02.22-16.29.38_MD657_1_0133_alignedTo_MD657-F44-2017.02.18-06.06.27_MD657_1_0130_cropped_down32_sp5_denseScoreMap_setting_30.bp\n"
     ]
    },
    {
     "name": "stderr",
     "output_type": "stream",
     "text": [
      "Child returned 1\n",
      "0.34 seconds.\n",
      "Child returned 0\n"
     ]
    },
    {
     "name": "stdout",
     "output_type": "stream",
     "text": [
      "rm -rf /shared/CSHL_scoremaps_down32/MD657/MD657-N45-2017.02.22-16.29.38_MD657_2_0134_alignedTo_MD657-F44-2017.02.18-06.06.27_MD657_1_0130_cropped_down32/MD657-N45-2017.02.22-16.29.38_MD657_2_0134_alignedTo_MD657-F44-2017.02.18-06.06.27_MD657_1_0130_cropped_down32_sp5_denseScoreMap_setting_30.bp && mkdir -p /shared/CSHL_scoremaps_down32/MD657/MD657-N45-2017.02.22-16.29.38_MD657_2_0134_alignedTo_MD657-F44-2017.02.18-06.06.27_MD657_1_0130_cropped_down32\n",
      "aws s3 cp s3://mousebrainatlas-data/CSHL_scoremaps_down32/MD657/MD657-N45-2017.02.22-16.29.38_MD657_2_0134_alignedTo_MD657-F44-2017.02.18-06.06.27_MD657_1_0130_cropped_down32/MD657-N45-2017.02.22-16.29.38_MD657_2_0134_alignedTo_MD657-F44-2017.02.18-06.06.27_MD657_1_0130_cropped_down32_sp5_denseScoreMap_setting_30.bp /shared/CSHL_scoremaps_down32/MD657/MD657-N45-2017.02.22-16.29.38_MD657_2_0134_alignedTo_MD657-F44-2017.02.18-06.06.27_MD657_1_0130_cropped_down32/MD657-N45-2017.02.22-16.29.38_MD657_2_0134_alignedTo_MD657-F44-2017.02.18-06.06.27_MD657_1_0130_cropped_down32_sp5_denseScoreMap_setting_30.bp\n"
     ]
    },
    {
     "name": "stderr",
     "output_type": "stream",
     "text": [
      "Child returned 1\n",
      "0.33 seconds.\n",
      "Child returned 0\n"
     ]
    },
    {
     "name": "stdout",
     "output_type": "stream",
     "text": [
      "rm -rf /shared/CSHL_scoremaps_down32/MD657/MD657-N46-2017.02.22-16.33.47_MD657_1_0136_alignedTo_MD657-F44-2017.02.18-06.06.27_MD657_1_0130_cropped_down32/MD657-N46-2017.02.22-16.33.47_MD657_1_0136_alignedTo_MD657-F44-2017.02.18-06.06.27_MD657_1_0130_cropped_down32_sp5_denseScoreMap_setting_30.bp && mkdir -p /shared/CSHL_scoremaps_down32/MD657/MD657-N46-2017.02.22-16.33.47_MD657_1_0136_alignedTo_MD657-F44-2017.02.18-06.06.27_MD657_1_0130_cropped_down32\n",
      "aws s3 cp s3://mousebrainatlas-data/CSHL_scoremaps_down32/MD657/MD657-N46-2017.02.22-16.33.47_MD657_1_0136_alignedTo_MD657-F44-2017.02.18-06.06.27_MD657_1_0130_cropped_down32/MD657-N46-2017.02.22-16.33.47_MD657_1_0136_alignedTo_MD657-F44-2017.02.18-06.06.27_MD657_1_0130_cropped_down32_sp5_denseScoreMap_setting_30.bp /shared/CSHL_scoremaps_down32/MD657/MD657-N46-2017.02.22-16.33.47_MD657_1_0136_alignedTo_MD657-F44-2017.02.18-06.06.27_MD657_1_0130_cropped_down32/MD657-N46-2017.02.22-16.33.47_MD657_1_0136_alignedTo_MD657-F44-2017.02.18-06.06.27_MD657_1_0130_cropped_down32_sp5_denseScoreMap_setting_30.bp\n"
     ]
    },
    {
     "name": "stderr",
     "output_type": "stream",
     "text": [
      "Child returned 1\n",
      "0.34 seconds.\n",
      "Child returned 0\n"
     ]
    },
    {
     "name": "stdout",
     "output_type": "stream",
     "text": [
      "rm -rf /shared/CSHL_scoremaps_down32/MD657/MD657-N46-2017.02.22-16.33.47_MD657_2_0137_alignedTo_MD657-F44-2017.02.18-06.06.27_MD657_1_0130_cropped_down32/MD657-N46-2017.02.22-16.33.47_MD657_2_0137_alignedTo_MD657-F44-2017.02.18-06.06.27_MD657_1_0130_cropped_down32_sp5_denseScoreMap_setting_30.bp && mkdir -p /shared/CSHL_scoremaps_down32/MD657/MD657-N46-2017.02.22-16.33.47_MD657_2_0137_alignedTo_MD657-F44-2017.02.18-06.06.27_MD657_1_0130_cropped_down32\n",
      "aws s3 cp s3://mousebrainatlas-data/CSHL_scoremaps_down32/MD657/MD657-N46-2017.02.22-16.33.47_MD657_2_0137_alignedTo_MD657-F44-2017.02.18-06.06.27_MD657_1_0130_cropped_down32/MD657-N46-2017.02.22-16.33.47_MD657_2_0137_alignedTo_MD657-F44-2017.02.18-06.06.27_MD657_1_0130_cropped_down32_sp5_denseScoreMap_setting_30.bp /shared/CSHL_scoremaps_down32/MD657/MD657-N46-2017.02.22-16.33.47_MD657_2_0137_alignedTo_MD657-F44-2017.02.18-06.06.27_MD657_1_0130_cropped_down32/MD657-N46-2017.02.22-16.33.47_MD657_2_0137_alignedTo_MD657-F44-2017.02.18-06.06.27_MD657_1_0130_cropped_down32_sp5_denseScoreMap_setting_30.bp\n"
     ]
    },
    {
     "name": "stderr",
     "output_type": "stream",
     "text": [
      "Child returned 1\n",
      "0.35 seconds.\n",
      "Child returned 0\n"
     ]
    },
    {
     "name": "stdout",
     "output_type": "stream",
     "text": [
      "rm -rf /shared/CSHL_scoremaps_down32/MD657/MD657-N47-2017.02.22-16.37.53_MD657_1_0139_alignedTo_MD657-F44-2017.02.18-06.06.27_MD657_1_0130_cropped_down32/MD657-N47-2017.02.22-16.37.53_MD657_1_0139_alignedTo_MD657-F44-2017.02.18-06.06.27_MD657_1_0130_cropped_down32_sp5_denseScoreMap_setting_30.bp && mkdir -p /shared/CSHL_scoremaps_down32/MD657/MD657-N47-2017.02.22-16.37.53_MD657_1_0139_alignedTo_MD657-F44-2017.02.18-06.06.27_MD657_1_0130_cropped_down32\n",
      "aws s3 cp s3://mousebrainatlas-data/CSHL_scoremaps_down32/MD657/MD657-N47-2017.02.22-16.37.53_MD657_1_0139_alignedTo_MD657-F44-2017.02.18-06.06.27_MD657_1_0130_cropped_down32/MD657-N47-2017.02.22-16.37.53_MD657_1_0139_alignedTo_MD657-F44-2017.02.18-06.06.27_MD657_1_0130_cropped_down32_sp5_denseScoreMap_setting_30.bp /shared/CSHL_scoremaps_down32/MD657/MD657-N47-2017.02.22-16.37.53_MD657_1_0139_alignedTo_MD657-F44-2017.02.18-06.06.27_MD657_1_0130_cropped_down32/MD657-N47-2017.02.22-16.37.53_MD657_1_0139_alignedTo_MD657-F44-2017.02.18-06.06.27_MD657_1_0130_cropped_down32_sp5_denseScoreMap_setting_30.bp\n"
     ]
    },
    {
     "name": "stderr",
     "output_type": "stream",
     "text": [
      "Child returned 1\n",
      "0.34 seconds.\n",
      "Child returned 0\n"
     ]
    },
    {
     "name": "stdout",
     "output_type": "stream",
     "text": [
      "rm -rf /shared/CSHL_scoremaps_down32/MD657/MD657-N47-2017.02.22-16.37.53_MD657_2_0140_alignedTo_MD657-F44-2017.02.18-06.06.27_MD657_1_0130_cropped_down32/MD657-N47-2017.02.22-16.37.53_MD657_2_0140_alignedTo_MD657-F44-2017.02.18-06.06.27_MD657_1_0130_cropped_down32_sp5_denseScoreMap_setting_30.bp && mkdir -p /shared/CSHL_scoremaps_down32/MD657/MD657-N47-2017.02.22-16.37.53_MD657_2_0140_alignedTo_MD657-F44-2017.02.18-06.06.27_MD657_1_0130_cropped_down32\n",
      "aws s3 cp s3://mousebrainatlas-data/CSHL_scoremaps_down32/MD657/MD657-N47-2017.02.22-16.37.53_MD657_2_0140_alignedTo_MD657-F44-2017.02.18-06.06.27_MD657_1_0130_cropped_down32/MD657-N47-2017.02.22-16.37.53_MD657_2_0140_alignedTo_MD657-F44-2017.02.18-06.06.27_MD657_1_0130_cropped_down32_sp5_denseScoreMap_setting_30.bp /shared/CSHL_scoremaps_down32/MD657/MD657-N47-2017.02.22-16.37.53_MD657_2_0140_alignedTo_MD657-F44-2017.02.18-06.06.27_MD657_1_0130_cropped_down32/MD657-N47-2017.02.22-16.37.53_MD657_2_0140_alignedTo_MD657-F44-2017.02.18-06.06.27_MD657_1_0130_cropped_down32_sp5_denseScoreMap_setting_30.bp\n"
     ]
    },
    {
     "name": "stderr",
     "output_type": "stream",
     "text": [
      "Child returned 1\n",
      "0.34 seconds.\n",
      "Child returned 0\n"
     ]
    },
    {
     "name": "stdout",
     "output_type": "stream",
     "text": [
      "rm -rf /shared/CSHL_scoremaps_down32/MD657/MD657-N48-2017.02.22-16.41.55_MD657_1_0142_alignedTo_MD657-F44-2017.02.18-06.06.27_MD657_1_0130_cropped_down32/MD657-N48-2017.02.22-16.41.55_MD657_1_0142_alignedTo_MD657-F44-2017.02.18-06.06.27_MD657_1_0130_cropped_down32_sp5_denseScoreMap_setting_30.bp && mkdir -p /shared/CSHL_scoremaps_down32/MD657/MD657-N48-2017.02.22-16.41.55_MD657_1_0142_alignedTo_MD657-F44-2017.02.18-06.06.27_MD657_1_0130_cropped_down32\n",
      "aws s3 cp s3://mousebrainatlas-data/CSHL_scoremaps_down32/MD657/MD657-N48-2017.02.22-16.41.55_MD657_1_0142_alignedTo_MD657-F44-2017.02.18-06.06.27_MD657_1_0130_cropped_down32/MD657-N48-2017.02.22-16.41.55_MD657_1_0142_alignedTo_MD657-F44-2017.02.18-06.06.27_MD657_1_0130_cropped_down32_sp5_denseScoreMap_setting_30.bp /shared/CSHL_scoremaps_down32/MD657/MD657-N48-2017.02.22-16.41.55_MD657_1_0142_alignedTo_MD657-F44-2017.02.18-06.06.27_MD657_1_0130_cropped_down32/MD657-N48-2017.02.22-16.41.55_MD657_1_0142_alignedTo_MD657-F44-2017.02.18-06.06.27_MD657_1_0130_cropped_down32_sp5_denseScoreMap_setting_30.bp\n"
     ]
    },
    {
     "name": "stderr",
     "output_type": "stream",
     "text": [
      "Child returned 1\n",
      "0.34 seconds.\n",
      "Child returned 0\n"
     ]
    },
    {
     "name": "stdout",
     "output_type": "stream",
     "text": [
      "rm -rf /shared/CSHL_scoremaps_down32/MD657/MD657-N48-2017.02.22-16.41.55_MD657_2_0143_alignedTo_MD657-F44-2017.02.18-06.06.27_MD657_1_0130_cropped_down32/MD657-N48-2017.02.22-16.41.55_MD657_2_0143_alignedTo_MD657-F44-2017.02.18-06.06.27_MD657_1_0130_cropped_down32_sp5_denseScoreMap_setting_30.bp && mkdir -p /shared/CSHL_scoremaps_down32/MD657/MD657-N48-2017.02.22-16.41.55_MD657_2_0143_alignedTo_MD657-F44-2017.02.18-06.06.27_MD657_1_0130_cropped_down32\n",
      "aws s3 cp s3://mousebrainatlas-data/CSHL_scoremaps_down32/MD657/MD657-N48-2017.02.22-16.41.55_MD657_2_0143_alignedTo_MD657-F44-2017.02.18-06.06.27_MD657_1_0130_cropped_down32/MD657-N48-2017.02.22-16.41.55_MD657_2_0143_alignedTo_MD657-F44-2017.02.18-06.06.27_MD657_1_0130_cropped_down32_sp5_denseScoreMap_setting_30.bp /shared/CSHL_scoremaps_down32/MD657/MD657-N48-2017.02.22-16.41.55_MD657_2_0143_alignedTo_MD657-F44-2017.02.18-06.06.27_MD657_1_0130_cropped_down32/MD657-N48-2017.02.22-16.41.55_MD657_2_0143_alignedTo_MD657-F44-2017.02.18-06.06.27_MD657_1_0130_cropped_down32_sp5_denseScoreMap_setting_30.bp\n"
     ]
    },
    {
     "name": "stderr",
     "output_type": "stream",
     "text": [
      "Child returned 1\n",
      "0.33 seconds.\n",
      "Child returned 0\n"
     ]
    },
    {
     "name": "stdout",
     "output_type": "stream",
     "text": [
      "rm -rf /shared/CSHL_scoremaps_down32/MD657/MD657-N49-2017.02.22-16.46.02_MD657_1_0145_alignedTo_MD657-F44-2017.02.18-06.06.27_MD657_1_0130_cropped_down32/MD657-N49-2017.02.22-16.46.02_MD657_1_0145_alignedTo_MD657-F44-2017.02.18-06.06.27_MD657_1_0130_cropped_down32_sp5_denseScoreMap_setting_30.bp && mkdir -p /shared/CSHL_scoremaps_down32/MD657/MD657-N49-2017.02.22-16.46.02_MD657_1_0145_alignedTo_MD657-F44-2017.02.18-06.06.27_MD657_1_0130_cropped_down32\n",
      "aws s3 cp s3://mousebrainatlas-data/CSHL_scoremaps_down32/MD657/MD657-N49-2017.02.22-16.46.02_MD657_1_0145_alignedTo_MD657-F44-2017.02.18-06.06.27_MD657_1_0130_cropped_down32/MD657-N49-2017.02.22-16.46.02_MD657_1_0145_alignedTo_MD657-F44-2017.02.18-06.06.27_MD657_1_0130_cropped_down32_sp5_denseScoreMap_setting_30.bp /shared/CSHL_scoremaps_down32/MD657/MD657-N49-2017.02.22-16.46.02_MD657_1_0145_alignedTo_MD657-F44-2017.02.18-06.06.27_MD657_1_0130_cropped_down32/MD657-N49-2017.02.22-16.46.02_MD657_1_0145_alignedTo_MD657-F44-2017.02.18-06.06.27_MD657_1_0130_cropped_down32_sp5_denseScoreMap_setting_30.bp\n"
     ]
    },
    {
     "name": "stderr",
     "output_type": "stream",
     "text": [
      "Child returned 1\n",
      "0.35 seconds.\n",
      "Child returned 0\n"
     ]
    },
    {
     "name": "stdout",
     "output_type": "stream",
     "text": [
      "rm -rf /shared/CSHL_scoremaps_down32/MD657/MD657-N49-2017.02.22-16.46.02_MD657_2_0146_alignedTo_MD657-F44-2017.02.18-06.06.27_MD657_1_0130_cropped_down32/MD657-N49-2017.02.22-16.46.02_MD657_2_0146_alignedTo_MD657-F44-2017.02.18-06.06.27_MD657_1_0130_cropped_down32_sp5_denseScoreMap_setting_30.bp && mkdir -p /shared/CSHL_scoremaps_down32/MD657/MD657-N49-2017.02.22-16.46.02_MD657_2_0146_alignedTo_MD657-F44-2017.02.18-06.06.27_MD657_1_0130_cropped_down32\n",
      "aws s3 cp s3://mousebrainatlas-data/CSHL_scoremaps_down32/MD657/MD657-N49-2017.02.22-16.46.02_MD657_2_0146_alignedTo_MD657-F44-2017.02.18-06.06.27_MD657_1_0130_cropped_down32/MD657-N49-2017.02.22-16.46.02_MD657_2_0146_alignedTo_MD657-F44-2017.02.18-06.06.27_MD657_1_0130_cropped_down32_sp5_denseScoreMap_setting_30.bp /shared/CSHL_scoremaps_down32/MD657/MD657-N49-2017.02.22-16.46.02_MD657_2_0146_alignedTo_MD657-F44-2017.02.18-06.06.27_MD657_1_0130_cropped_down32/MD657-N49-2017.02.22-16.46.02_MD657_2_0146_alignedTo_MD657-F44-2017.02.18-06.06.27_MD657_1_0130_cropped_down32_sp5_denseScoreMap_setting_30.bp\n"
     ]
    },
    {
     "name": "stderr",
     "output_type": "stream",
     "text": [
      "Child returned 1\n",
      "0.34 seconds.\n",
      "Child returned 0\n"
     ]
    },
    {
     "name": "stdout",
     "output_type": "stream",
     "text": [
      "rm -rf /shared/CSHL_scoremaps_down32/MD657/MD657-N50-2017.02.22-16.50.15_MD657_1_0148_alignedTo_MD657-F44-2017.02.18-06.06.27_MD657_1_0130_cropped_down32/MD657-N50-2017.02.22-16.50.15_MD657_1_0148_alignedTo_MD657-F44-2017.02.18-06.06.27_MD657_1_0130_cropped_down32_sp5_denseScoreMap_setting_30.bp && mkdir -p /shared/CSHL_scoremaps_down32/MD657/MD657-N50-2017.02.22-16.50.15_MD657_1_0148_alignedTo_MD657-F44-2017.02.18-06.06.27_MD657_1_0130_cropped_down32\n",
      "aws s3 cp s3://mousebrainatlas-data/CSHL_scoremaps_down32/MD657/MD657-N50-2017.02.22-16.50.15_MD657_1_0148_alignedTo_MD657-F44-2017.02.18-06.06.27_MD657_1_0130_cropped_down32/MD657-N50-2017.02.22-16.50.15_MD657_1_0148_alignedTo_MD657-F44-2017.02.18-06.06.27_MD657_1_0130_cropped_down32_sp5_denseScoreMap_setting_30.bp /shared/CSHL_scoremaps_down32/MD657/MD657-N50-2017.02.22-16.50.15_MD657_1_0148_alignedTo_MD657-F44-2017.02.18-06.06.27_MD657_1_0130_cropped_down32/MD657-N50-2017.02.22-16.50.15_MD657_1_0148_alignedTo_MD657-F44-2017.02.18-06.06.27_MD657_1_0130_cropped_down32_sp5_denseScoreMap_setting_30.bp\n"
     ]
    },
    {
     "name": "stderr",
     "output_type": "stream",
     "text": [
      "Child returned 1\n",
      "0.34 seconds.\n",
      "Child returned 0\n"
     ]
    },
    {
     "name": "stdout",
     "output_type": "stream",
     "text": [
      "rm -rf /shared/CSHL_scoremaps_down32/MD657/MD657-N50-2017.02.22-16.50.15_MD657_2_0149_alignedTo_MD657-F44-2017.02.18-06.06.27_MD657_1_0130_cropped_down32/MD657-N50-2017.02.22-16.50.15_MD657_2_0149_alignedTo_MD657-F44-2017.02.18-06.06.27_MD657_1_0130_cropped_down32_sp5_denseScoreMap_setting_30.bp && mkdir -p /shared/CSHL_scoremaps_down32/MD657/MD657-N50-2017.02.22-16.50.15_MD657_2_0149_alignedTo_MD657-F44-2017.02.18-06.06.27_MD657_1_0130_cropped_down32\n",
      "aws s3 cp s3://mousebrainatlas-data/CSHL_scoremaps_down32/MD657/MD657-N50-2017.02.22-16.50.15_MD657_2_0149_alignedTo_MD657-F44-2017.02.18-06.06.27_MD657_1_0130_cropped_down32/MD657-N50-2017.02.22-16.50.15_MD657_2_0149_alignedTo_MD657-F44-2017.02.18-06.06.27_MD657_1_0130_cropped_down32_sp5_denseScoreMap_setting_30.bp /shared/CSHL_scoremaps_down32/MD657/MD657-N50-2017.02.22-16.50.15_MD657_2_0149_alignedTo_MD657-F44-2017.02.18-06.06.27_MD657_1_0130_cropped_down32/MD657-N50-2017.02.22-16.50.15_MD657_2_0149_alignedTo_MD657-F44-2017.02.18-06.06.27_MD657_1_0130_cropped_down32_sp5_denseScoreMap_setting_30.bp\n"
     ]
    },
    {
     "name": "stderr",
     "output_type": "stream",
     "text": [
      "Child returned 1\n",
      "0.33 seconds.\n",
      "Child returned 0\n"
     ]
    },
    {
     "name": "stdout",
     "output_type": "stream",
     "text": [
      "rm -rf /shared/CSHL_scoremaps_down32/MD657/MD657-N51-2017.02.22-16.54.20_MD657_2_0152_alignedTo_MD657-F44-2017.02.18-06.06.27_MD657_1_0130_cropped_down32/MD657-N51-2017.02.22-16.54.20_MD657_2_0152_alignedTo_MD657-F44-2017.02.18-06.06.27_MD657_1_0130_cropped_down32_sp5_denseScoreMap_setting_30.bp && mkdir -p /shared/CSHL_scoremaps_down32/MD657/MD657-N51-2017.02.22-16.54.20_MD657_2_0152_alignedTo_MD657-F44-2017.02.18-06.06.27_MD657_1_0130_cropped_down32\n",
      "aws s3 cp s3://mousebrainatlas-data/CSHL_scoremaps_down32/MD657/MD657-N51-2017.02.22-16.54.20_MD657_2_0152_alignedTo_MD657-F44-2017.02.18-06.06.27_MD657_1_0130_cropped_down32/MD657-N51-2017.02.22-16.54.20_MD657_2_0152_alignedTo_MD657-F44-2017.02.18-06.06.27_MD657_1_0130_cropped_down32_sp5_denseScoreMap_setting_30.bp /shared/CSHL_scoremaps_down32/MD657/MD657-N51-2017.02.22-16.54.20_MD657_2_0152_alignedTo_MD657-F44-2017.02.18-06.06.27_MD657_1_0130_cropped_down32/MD657-N51-2017.02.22-16.54.20_MD657_2_0152_alignedTo_MD657-F44-2017.02.18-06.06.27_MD657_1_0130_cropped_down32_sp5_denseScoreMap_setting_30.bp\n"
     ]
    },
    {
     "name": "stderr",
     "output_type": "stream",
     "text": [
      "Child returned 1\n",
      "0.33 seconds.\n",
      "Child returned 0\n"
     ]
    },
    {
     "name": "stdout",
     "output_type": "stream",
     "text": [
      "rm -rf /shared/CSHL_scoremaps_down32/MD657/MD657-N52-2017.02.22-16.58.50_MD657_1_0154_alignedTo_MD657-F44-2017.02.18-06.06.27_MD657_1_0130_cropped_down32/MD657-N52-2017.02.22-16.58.50_MD657_1_0154_alignedTo_MD657-F44-2017.02.18-06.06.27_MD657_1_0130_cropped_down32_sp5_denseScoreMap_setting_30.bp && mkdir -p /shared/CSHL_scoremaps_down32/MD657/MD657-N52-2017.02.22-16.58.50_MD657_1_0154_alignedTo_MD657-F44-2017.02.18-06.06.27_MD657_1_0130_cropped_down32\n",
      "aws s3 cp s3://mousebrainatlas-data/CSHL_scoremaps_down32/MD657/MD657-N52-2017.02.22-16.58.50_MD657_1_0154_alignedTo_MD657-F44-2017.02.18-06.06.27_MD657_1_0130_cropped_down32/MD657-N52-2017.02.22-16.58.50_MD657_1_0154_alignedTo_MD657-F44-2017.02.18-06.06.27_MD657_1_0130_cropped_down32_sp5_denseScoreMap_setting_30.bp /shared/CSHL_scoremaps_down32/MD657/MD657-N52-2017.02.22-16.58.50_MD657_1_0154_alignedTo_MD657-F44-2017.02.18-06.06.27_MD657_1_0130_cropped_down32/MD657-N52-2017.02.22-16.58.50_MD657_1_0154_alignedTo_MD657-F44-2017.02.18-06.06.27_MD657_1_0130_cropped_down32_sp5_denseScoreMap_setting_30.bp\n"
     ]
    },
    {
     "name": "stderr",
     "output_type": "stream",
     "text": [
      "Child returned 1\n",
      "0.35 seconds.\n",
      "Child returned 0\n"
     ]
    },
    {
     "name": "stdout",
     "output_type": "stream",
     "text": [
      "rm -rf /shared/CSHL_scoremaps_down32/MD657/MD657-N52-2017.02.22-16.58.50_MD657_2_0155_alignedTo_MD657-F44-2017.02.18-06.06.27_MD657_1_0130_cropped_down32/MD657-N52-2017.02.22-16.58.50_MD657_2_0155_alignedTo_MD657-F44-2017.02.18-06.06.27_MD657_1_0130_cropped_down32_sp5_denseScoreMap_setting_30.bp && mkdir -p /shared/CSHL_scoremaps_down32/MD657/MD657-N52-2017.02.22-16.58.50_MD657_2_0155_alignedTo_MD657-F44-2017.02.18-06.06.27_MD657_1_0130_cropped_down32\n",
      "aws s3 cp s3://mousebrainatlas-data/CSHL_scoremaps_down32/MD657/MD657-N52-2017.02.22-16.58.50_MD657_2_0155_alignedTo_MD657-F44-2017.02.18-06.06.27_MD657_1_0130_cropped_down32/MD657-N52-2017.02.22-16.58.50_MD657_2_0155_alignedTo_MD657-F44-2017.02.18-06.06.27_MD657_1_0130_cropped_down32_sp5_denseScoreMap_setting_30.bp /shared/CSHL_scoremaps_down32/MD657/MD657-N52-2017.02.22-16.58.50_MD657_2_0155_alignedTo_MD657-F44-2017.02.18-06.06.27_MD657_1_0130_cropped_down32/MD657-N52-2017.02.22-16.58.50_MD657_2_0155_alignedTo_MD657-F44-2017.02.18-06.06.27_MD657_1_0130_cropped_down32_sp5_denseScoreMap_setting_30.bp\n"
     ]
    },
    {
     "name": "stderr",
     "output_type": "stream",
     "text": [
      "Child returned 1\n",
      "0.32 seconds.\n",
      "Child returned 0\n"
     ]
    },
    {
     "name": "stdout",
     "output_type": "stream",
     "text": [
      "rm -rf /shared/CSHL_scoremaps_down32/MD657/MD657-N53-2017.02.22-17.02.55_MD657_1_0157_alignedTo_MD657-F44-2017.02.18-06.06.27_MD657_1_0130_cropped_down32/MD657-N53-2017.02.22-17.02.55_MD657_1_0157_alignedTo_MD657-F44-2017.02.18-06.06.27_MD657_1_0130_cropped_down32_sp5_denseScoreMap_setting_30.bp && mkdir -p /shared/CSHL_scoremaps_down32/MD657/MD657-N53-2017.02.22-17.02.55_MD657_1_0157_alignedTo_MD657-F44-2017.02.18-06.06.27_MD657_1_0130_cropped_down32\n",
      "aws s3 cp s3://mousebrainatlas-data/CSHL_scoremaps_down32/MD657/MD657-N53-2017.02.22-17.02.55_MD657_1_0157_alignedTo_MD657-F44-2017.02.18-06.06.27_MD657_1_0130_cropped_down32/MD657-N53-2017.02.22-17.02.55_MD657_1_0157_alignedTo_MD657-F44-2017.02.18-06.06.27_MD657_1_0130_cropped_down32_sp5_denseScoreMap_setting_30.bp /shared/CSHL_scoremaps_down32/MD657/MD657-N53-2017.02.22-17.02.55_MD657_1_0157_alignedTo_MD657-F44-2017.02.18-06.06.27_MD657_1_0130_cropped_down32/MD657-N53-2017.02.22-17.02.55_MD657_1_0157_alignedTo_MD657-F44-2017.02.18-06.06.27_MD657_1_0130_cropped_down32_sp5_denseScoreMap_setting_30.bp\n"
     ]
    },
    {
     "name": "stderr",
     "output_type": "stream",
     "text": [
      "Child returned 1\n",
      "0.35 seconds.\n",
      "Child returned 0\n"
     ]
    },
    {
     "name": "stdout",
     "output_type": "stream",
     "text": [
      "rm -rf /shared/CSHL_scoremaps_down32/MD657/MD657-N53-2017.02.22-17.02.55_MD657_2_0158_alignedTo_MD657-F44-2017.02.18-06.06.27_MD657_1_0130_cropped_down32/MD657-N53-2017.02.22-17.02.55_MD657_2_0158_alignedTo_MD657-F44-2017.02.18-06.06.27_MD657_1_0130_cropped_down32_sp5_denseScoreMap_setting_30.bp && mkdir -p /shared/CSHL_scoremaps_down32/MD657/MD657-N53-2017.02.22-17.02.55_MD657_2_0158_alignedTo_MD657-F44-2017.02.18-06.06.27_MD657_1_0130_cropped_down32\n",
      "aws s3 cp s3://mousebrainatlas-data/CSHL_scoremaps_down32/MD657/MD657-N53-2017.02.22-17.02.55_MD657_2_0158_alignedTo_MD657-F44-2017.02.18-06.06.27_MD657_1_0130_cropped_down32/MD657-N53-2017.02.22-17.02.55_MD657_2_0158_alignedTo_MD657-F44-2017.02.18-06.06.27_MD657_1_0130_cropped_down32_sp5_denseScoreMap_setting_30.bp /shared/CSHL_scoremaps_down32/MD657/MD657-N53-2017.02.22-17.02.55_MD657_2_0158_alignedTo_MD657-F44-2017.02.18-06.06.27_MD657_1_0130_cropped_down32/MD657-N53-2017.02.22-17.02.55_MD657_2_0158_alignedTo_MD657-F44-2017.02.18-06.06.27_MD657_1_0130_cropped_down32_sp5_denseScoreMap_setting_30.bp\n"
     ]
    },
    {
     "name": "stderr",
     "output_type": "stream",
     "text": [
      "Child returned 1\n",
      "0.36 seconds.\n",
      "Child returned 0\n"
     ]
    },
    {
     "name": "stdout",
     "output_type": "stream",
     "text": [
      "rm -rf /shared/CSHL_scoremaps_down32/MD657/MD657-N54-2017.02.22-17.07.22_MD657_1_0160_alignedTo_MD657-F44-2017.02.18-06.06.27_MD657_1_0130_cropped_down32/MD657-N54-2017.02.22-17.07.22_MD657_1_0160_alignedTo_MD657-F44-2017.02.18-06.06.27_MD657_1_0130_cropped_down32_sp5_denseScoreMap_setting_30.bp && mkdir -p /shared/CSHL_scoremaps_down32/MD657/MD657-N54-2017.02.22-17.07.22_MD657_1_0160_alignedTo_MD657-F44-2017.02.18-06.06.27_MD657_1_0130_cropped_down32\n",
      "aws s3 cp s3://mousebrainatlas-data/CSHL_scoremaps_down32/MD657/MD657-N54-2017.02.22-17.07.22_MD657_1_0160_alignedTo_MD657-F44-2017.02.18-06.06.27_MD657_1_0130_cropped_down32/MD657-N54-2017.02.22-17.07.22_MD657_1_0160_alignedTo_MD657-F44-2017.02.18-06.06.27_MD657_1_0130_cropped_down32_sp5_denseScoreMap_setting_30.bp /shared/CSHL_scoremaps_down32/MD657/MD657-N54-2017.02.22-17.07.22_MD657_1_0160_alignedTo_MD657-F44-2017.02.18-06.06.27_MD657_1_0130_cropped_down32/MD657-N54-2017.02.22-17.07.22_MD657_1_0160_alignedTo_MD657-F44-2017.02.18-06.06.27_MD657_1_0130_cropped_down32_sp5_denseScoreMap_setting_30.bp\n"
     ]
    },
    {
     "name": "stderr",
     "output_type": "stream",
     "text": [
      "Child returned 1\n",
      "0.35 seconds.\n",
      "Child returned 0\n"
     ]
    },
    {
     "name": "stdout",
     "output_type": "stream",
     "text": [
      "rm -rf /shared/CSHL_scoremaps_down32/MD657/MD657-N54-2017.02.22-17.07.22_MD657_2_0161_alignedTo_MD657-F44-2017.02.18-06.06.27_MD657_1_0130_cropped_down32/MD657-N54-2017.02.22-17.07.22_MD657_2_0161_alignedTo_MD657-F44-2017.02.18-06.06.27_MD657_1_0130_cropped_down32_sp5_denseScoreMap_setting_30.bp && mkdir -p /shared/CSHL_scoremaps_down32/MD657/MD657-N54-2017.02.22-17.07.22_MD657_2_0161_alignedTo_MD657-F44-2017.02.18-06.06.27_MD657_1_0130_cropped_down32\n",
      "aws s3 cp s3://mousebrainatlas-data/CSHL_scoremaps_down32/MD657/MD657-N54-2017.02.22-17.07.22_MD657_2_0161_alignedTo_MD657-F44-2017.02.18-06.06.27_MD657_1_0130_cropped_down32/MD657-N54-2017.02.22-17.07.22_MD657_2_0161_alignedTo_MD657-F44-2017.02.18-06.06.27_MD657_1_0130_cropped_down32_sp5_denseScoreMap_setting_30.bp /shared/CSHL_scoremaps_down32/MD657/MD657-N54-2017.02.22-17.07.22_MD657_2_0161_alignedTo_MD657-F44-2017.02.18-06.06.27_MD657_1_0130_cropped_down32/MD657-N54-2017.02.22-17.07.22_MD657_2_0161_alignedTo_MD657-F44-2017.02.18-06.06.27_MD657_1_0130_cropped_down32_sp5_denseScoreMap_setting_30.bp\n"
     ]
    },
    {
     "name": "stderr",
     "output_type": "stream",
     "text": [
      "Child returned 1\n",
      "0.33 seconds.\n",
      "Child returned 0\n"
     ]
    },
    {
     "name": "stdout",
     "output_type": "stream",
     "text": [
      "rm -rf /shared/CSHL_scoremaps_down32/MD657/MD657-N55-2017.02.22-17.12.27_MD657_1_0163_alignedTo_MD657-F44-2017.02.18-06.06.27_MD657_1_0130_cropped_down32/MD657-N55-2017.02.22-17.12.27_MD657_1_0163_alignedTo_MD657-F44-2017.02.18-06.06.27_MD657_1_0130_cropped_down32_sp5_denseScoreMap_setting_30.bp && mkdir -p /shared/CSHL_scoremaps_down32/MD657/MD657-N55-2017.02.22-17.12.27_MD657_1_0163_alignedTo_MD657-F44-2017.02.18-06.06.27_MD657_1_0130_cropped_down32\n",
      "aws s3 cp s3://mousebrainatlas-data/CSHL_scoremaps_down32/MD657/MD657-N55-2017.02.22-17.12.27_MD657_1_0163_alignedTo_MD657-F44-2017.02.18-06.06.27_MD657_1_0130_cropped_down32/MD657-N55-2017.02.22-17.12.27_MD657_1_0163_alignedTo_MD657-F44-2017.02.18-06.06.27_MD657_1_0130_cropped_down32_sp5_denseScoreMap_setting_30.bp /shared/CSHL_scoremaps_down32/MD657/MD657-N55-2017.02.22-17.12.27_MD657_1_0163_alignedTo_MD657-F44-2017.02.18-06.06.27_MD657_1_0130_cropped_down32/MD657-N55-2017.02.22-17.12.27_MD657_1_0163_alignedTo_MD657-F44-2017.02.18-06.06.27_MD657_1_0130_cropped_down32_sp5_denseScoreMap_setting_30.bp\n"
     ]
    },
    {
     "name": "stderr",
     "output_type": "stream",
     "text": [
      "Child returned 1\n",
      "0.35 seconds.\n",
      "Child returned 0\n"
     ]
    },
    {
     "name": "stdout",
     "output_type": "stream",
     "text": [
      "rm -rf /shared/CSHL_scoremaps_down32/MD657/MD657-N55-2017.02.22-17.12.27_MD657_2_0164_alignedTo_MD657-F44-2017.02.18-06.06.27_MD657_1_0130_cropped_down32/MD657-N55-2017.02.22-17.12.27_MD657_2_0164_alignedTo_MD657-F44-2017.02.18-06.06.27_MD657_1_0130_cropped_down32_sp5_denseScoreMap_setting_30.bp && mkdir -p /shared/CSHL_scoremaps_down32/MD657/MD657-N55-2017.02.22-17.12.27_MD657_2_0164_alignedTo_MD657-F44-2017.02.18-06.06.27_MD657_1_0130_cropped_down32\n",
      "aws s3 cp s3://mousebrainatlas-data/CSHL_scoremaps_down32/MD657/MD657-N55-2017.02.22-17.12.27_MD657_2_0164_alignedTo_MD657-F44-2017.02.18-06.06.27_MD657_1_0130_cropped_down32/MD657-N55-2017.02.22-17.12.27_MD657_2_0164_alignedTo_MD657-F44-2017.02.18-06.06.27_MD657_1_0130_cropped_down32_sp5_denseScoreMap_setting_30.bp /shared/CSHL_scoremaps_down32/MD657/MD657-N55-2017.02.22-17.12.27_MD657_2_0164_alignedTo_MD657-F44-2017.02.18-06.06.27_MD657_1_0130_cropped_down32/MD657-N55-2017.02.22-17.12.27_MD657_2_0164_alignedTo_MD657-F44-2017.02.18-06.06.27_MD657_1_0130_cropped_down32_sp5_denseScoreMap_setting_30.bp\n"
     ]
    },
    {
     "name": "stderr",
     "output_type": "stream",
     "text": [
      "Child returned 1\n",
      "0.33 seconds.\n",
      "Child returned 0\n"
     ]
    },
    {
     "name": "stdout",
     "output_type": "stream",
     "text": [
      "rm -rf /shared/CSHL_scoremaps_down32/MD657/MD657-N56-2017.02.22-17.16.39_MD657_1_0166_alignedTo_MD657-F44-2017.02.18-06.06.27_MD657_1_0130_cropped_down32/MD657-N56-2017.02.22-17.16.39_MD657_1_0166_alignedTo_MD657-F44-2017.02.18-06.06.27_MD657_1_0130_cropped_down32_sp5_denseScoreMap_setting_30.bp && mkdir -p /shared/CSHL_scoremaps_down32/MD657/MD657-N56-2017.02.22-17.16.39_MD657_1_0166_alignedTo_MD657-F44-2017.02.18-06.06.27_MD657_1_0130_cropped_down32\n",
      "aws s3 cp s3://mousebrainatlas-data/CSHL_scoremaps_down32/MD657/MD657-N56-2017.02.22-17.16.39_MD657_1_0166_alignedTo_MD657-F44-2017.02.18-06.06.27_MD657_1_0130_cropped_down32/MD657-N56-2017.02.22-17.16.39_MD657_1_0166_alignedTo_MD657-F44-2017.02.18-06.06.27_MD657_1_0130_cropped_down32_sp5_denseScoreMap_setting_30.bp /shared/CSHL_scoremaps_down32/MD657/MD657-N56-2017.02.22-17.16.39_MD657_1_0166_alignedTo_MD657-F44-2017.02.18-06.06.27_MD657_1_0130_cropped_down32/MD657-N56-2017.02.22-17.16.39_MD657_1_0166_alignedTo_MD657-F44-2017.02.18-06.06.27_MD657_1_0130_cropped_down32_sp5_denseScoreMap_setting_30.bp\n"
     ]
    },
    {
     "name": "stderr",
     "output_type": "stream",
     "text": [
      "Child returned 1\n",
      "0.32 seconds.\n",
      "Child returned 0\n"
     ]
    },
    {
     "name": "stdout",
     "output_type": "stream",
     "text": [
      "rm -rf /shared/CSHL_scoremaps_down32/MD657/MD657-N56-2017.02.22-17.16.39_MD657_2_0167_alignedTo_MD657-F44-2017.02.18-06.06.27_MD657_1_0130_cropped_down32/MD657-N56-2017.02.22-17.16.39_MD657_2_0167_alignedTo_MD657-F44-2017.02.18-06.06.27_MD657_1_0130_cropped_down32_sp5_denseScoreMap_setting_30.bp && mkdir -p /shared/CSHL_scoremaps_down32/MD657/MD657-N56-2017.02.22-17.16.39_MD657_2_0167_alignedTo_MD657-F44-2017.02.18-06.06.27_MD657_1_0130_cropped_down32\n",
      "aws s3 cp s3://mousebrainatlas-data/CSHL_scoremaps_down32/MD657/MD657-N56-2017.02.22-17.16.39_MD657_2_0167_alignedTo_MD657-F44-2017.02.18-06.06.27_MD657_1_0130_cropped_down32/MD657-N56-2017.02.22-17.16.39_MD657_2_0167_alignedTo_MD657-F44-2017.02.18-06.06.27_MD657_1_0130_cropped_down32_sp5_denseScoreMap_setting_30.bp /shared/CSHL_scoremaps_down32/MD657/MD657-N56-2017.02.22-17.16.39_MD657_2_0167_alignedTo_MD657-F44-2017.02.18-06.06.27_MD657_1_0130_cropped_down32/MD657-N56-2017.02.22-17.16.39_MD657_2_0167_alignedTo_MD657-F44-2017.02.18-06.06.27_MD657_1_0130_cropped_down32_sp5_denseScoreMap_setting_30.bp\n"
     ]
    },
    {
     "name": "stderr",
     "output_type": "stream",
     "text": [
      "Child returned 1\n",
      "0.34 seconds.\n",
      "Child returned 0\n"
     ]
    },
    {
     "name": "stdout",
     "output_type": "stream",
     "text": [
      "rm -rf /shared/CSHL_scoremaps_down32/MD657/MD657-N57-2017.02.22-17.20.44_MD657_1_0169_alignedTo_MD657-F44-2017.02.18-06.06.27_MD657_1_0130_cropped_down32/MD657-N57-2017.02.22-17.20.44_MD657_1_0169_alignedTo_MD657-F44-2017.02.18-06.06.27_MD657_1_0130_cropped_down32_sp5_denseScoreMap_setting_30.bp && mkdir -p /shared/CSHL_scoremaps_down32/MD657/MD657-N57-2017.02.22-17.20.44_MD657_1_0169_alignedTo_MD657-F44-2017.02.18-06.06.27_MD657_1_0130_cropped_down32\n",
      "aws s3 cp s3://mousebrainatlas-data/CSHL_scoremaps_down32/MD657/MD657-N57-2017.02.22-17.20.44_MD657_1_0169_alignedTo_MD657-F44-2017.02.18-06.06.27_MD657_1_0130_cropped_down32/MD657-N57-2017.02.22-17.20.44_MD657_1_0169_alignedTo_MD657-F44-2017.02.18-06.06.27_MD657_1_0130_cropped_down32_sp5_denseScoreMap_setting_30.bp /shared/CSHL_scoremaps_down32/MD657/MD657-N57-2017.02.22-17.20.44_MD657_1_0169_alignedTo_MD657-F44-2017.02.18-06.06.27_MD657_1_0130_cropped_down32/MD657-N57-2017.02.22-17.20.44_MD657_1_0169_alignedTo_MD657-F44-2017.02.18-06.06.27_MD657_1_0130_cropped_down32_sp5_denseScoreMap_setting_30.bp\n"
     ]
    },
    {
     "name": "stderr",
     "output_type": "stream",
     "text": [
      "Child returned 1\n",
      "0.35 seconds.\n",
      "Child returned 0\n"
     ]
    },
    {
     "name": "stdout",
     "output_type": "stream",
     "text": [
      "rm -rf /shared/CSHL_scoremaps_down32/MD657/MD657-N57-2017.02.22-17.20.44_MD657_2_0170_alignedTo_MD657-F44-2017.02.18-06.06.27_MD657_1_0130_cropped_down32/MD657-N57-2017.02.22-17.20.44_MD657_2_0170_alignedTo_MD657-F44-2017.02.18-06.06.27_MD657_1_0130_cropped_down32_sp5_denseScoreMap_setting_30.bp && mkdir -p /shared/CSHL_scoremaps_down32/MD657/MD657-N57-2017.02.22-17.20.44_MD657_2_0170_alignedTo_MD657-F44-2017.02.18-06.06.27_MD657_1_0130_cropped_down32\n",
      "aws s3 cp s3://mousebrainatlas-data/CSHL_scoremaps_down32/MD657/MD657-N57-2017.02.22-17.20.44_MD657_2_0170_alignedTo_MD657-F44-2017.02.18-06.06.27_MD657_1_0130_cropped_down32/MD657-N57-2017.02.22-17.20.44_MD657_2_0170_alignedTo_MD657-F44-2017.02.18-06.06.27_MD657_1_0130_cropped_down32_sp5_denseScoreMap_setting_30.bp /shared/CSHL_scoremaps_down32/MD657/MD657-N57-2017.02.22-17.20.44_MD657_2_0170_alignedTo_MD657-F44-2017.02.18-06.06.27_MD657_1_0130_cropped_down32/MD657-N57-2017.02.22-17.20.44_MD657_2_0170_alignedTo_MD657-F44-2017.02.18-06.06.27_MD657_1_0130_cropped_down32_sp5_denseScoreMap_setting_30.bp\n"
     ]
    },
    {
     "name": "stderr",
     "output_type": "stream",
     "text": [
      "Child returned 1\n",
      "0.34 seconds.\n",
      "Child returned 0\n"
     ]
    },
    {
     "name": "stdout",
     "output_type": "stream",
     "text": [
      "rm -rf /shared/CSHL_scoremaps_down32/MD657/MD657-N58-2017.02.22-17.24.45_MD657_1_0172_alignedTo_MD657-F44-2017.02.18-06.06.27_MD657_1_0130_cropped_down32/MD657-N58-2017.02.22-17.24.45_MD657_1_0172_alignedTo_MD657-F44-2017.02.18-06.06.27_MD657_1_0130_cropped_down32_sp5_denseScoreMap_setting_30.bp && mkdir -p /shared/CSHL_scoremaps_down32/MD657/MD657-N58-2017.02.22-17.24.45_MD657_1_0172_alignedTo_MD657-F44-2017.02.18-06.06.27_MD657_1_0130_cropped_down32\n",
      "aws s3 cp s3://mousebrainatlas-data/CSHL_scoremaps_down32/MD657/MD657-N58-2017.02.22-17.24.45_MD657_1_0172_alignedTo_MD657-F44-2017.02.18-06.06.27_MD657_1_0130_cropped_down32/MD657-N58-2017.02.22-17.24.45_MD657_1_0172_alignedTo_MD657-F44-2017.02.18-06.06.27_MD657_1_0130_cropped_down32_sp5_denseScoreMap_setting_30.bp /shared/CSHL_scoremaps_down32/MD657/MD657-N58-2017.02.22-17.24.45_MD657_1_0172_alignedTo_MD657-F44-2017.02.18-06.06.27_MD657_1_0130_cropped_down32/MD657-N58-2017.02.22-17.24.45_MD657_1_0172_alignedTo_MD657-F44-2017.02.18-06.06.27_MD657_1_0130_cropped_down32_sp5_denseScoreMap_setting_30.bp\n"
     ]
    },
    {
     "name": "stderr",
     "output_type": "stream",
     "text": [
      "Child returned 1\n",
      "0.33 seconds.\n",
      "Child returned 0\n"
     ]
    },
    {
     "name": "stdout",
     "output_type": "stream",
     "text": [
      "rm -rf /shared/CSHL_scoremaps_down32/MD657/MD657-N58-2017.02.22-17.24.45_MD657_2_0173_alignedTo_MD657-F44-2017.02.18-06.06.27_MD657_1_0130_cropped_down32/MD657-N58-2017.02.22-17.24.45_MD657_2_0173_alignedTo_MD657-F44-2017.02.18-06.06.27_MD657_1_0130_cropped_down32_sp5_denseScoreMap_setting_30.bp && mkdir -p /shared/CSHL_scoremaps_down32/MD657/MD657-N58-2017.02.22-17.24.45_MD657_2_0173_alignedTo_MD657-F44-2017.02.18-06.06.27_MD657_1_0130_cropped_down32\n",
      "aws s3 cp s3://mousebrainatlas-data/CSHL_scoremaps_down32/MD657/MD657-N58-2017.02.22-17.24.45_MD657_2_0173_alignedTo_MD657-F44-2017.02.18-06.06.27_MD657_1_0130_cropped_down32/MD657-N58-2017.02.22-17.24.45_MD657_2_0173_alignedTo_MD657-F44-2017.02.18-06.06.27_MD657_1_0130_cropped_down32_sp5_denseScoreMap_setting_30.bp /shared/CSHL_scoremaps_down32/MD657/MD657-N58-2017.02.22-17.24.45_MD657_2_0173_alignedTo_MD657-F44-2017.02.18-06.06.27_MD657_1_0130_cropped_down32/MD657-N58-2017.02.22-17.24.45_MD657_2_0173_alignedTo_MD657-F44-2017.02.18-06.06.27_MD657_1_0130_cropped_down32_sp5_denseScoreMap_setting_30.bp\n"
     ]
    },
    {
     "name": "stderr",
     "output_type": "stream",
     "text": [
      "Child returned 1\n",
      "0.35 seconds.\n",
      "Child returned 0\n"
     ]
    },
    {
     "name": "stdout",
     "output_type": "stream",
     "text": [
      "rm -rf /shared/CSHL_scoremaps_down32/MD657/MD657-N59-2017.02.22-17.28.52_MD657_1_0175_alignedTo_MD657-F44-2017.02.18-06.06.27_MD657_1_0130_cropped_down32/MD657-N59-2017.02.22-17.28.52_MD657_1_0175_alignedTo_MD657-F44-2017.02.18-06.06.27_MD657_1_0130_cropped_down32_sp5_denseScoreMap_setting_30.bp && mkdir -p /shared/CSHL_scoremaps_down32/MD657/MD657-N59-2017.02.22-17.28.52_MD657_1_0175_alignedTo_MD657-F44-2017.02.18-06.06.27_MD657_1_0130_cropped_down32\n",
      "aws s3 cp s3://mousebrainatlas-data/CSHL_scoremaps_down32/MD657/MD657-N59-2017.02.22-17.28.52_MD657_1_0175_alignedTo_MD657-F44-2017.02.18-06.06.27_MD657_1_0130_cropped_down32/MD657-N59-2017.02.22-17.28.52_MD657_1_0175_alignedTo_MD657-F44-2017.02.18-06.06.27_MD657_1_0130_cropped_down32_sp5_denseScoreMap_setting_30.bp /shared/CSHL_scoremaps_down32/MD657/MD657-N59-2017.02.22-17.28.52_MD657_1_0175_alignedTo_MD657-F44-2017.02.18-06.06.27_MD657_1_0130_cropped_down32/MD657-N59-2017.02.22-17.28.52_MD657_1_0175_alignedTo_MD657-F44-2017.02.18-06.06.27_MD657_1_0130_cropped_down32_sp5_denseScoreMap_setting_30.bp\n"
     ]
    },
    {
     "name": "stderr",
     "output_type": "stream",
     "text": [
      "Child returned 1\n",
      "0.33 seconds.\n",
      "Child returned 0\n"
     ]
    },
    {
     "name": "stdout",
     "output_type": "stream",
     "text": [
      "rm -rf /shared/CSHL_scoremaps_down32/MD657/MD657-N59-2017.02.22-17.28.52_MD657_2_0176_alignedTo_MD657-F44-2017.02.18-06.06.27_MD657_1_0130_cropped_down32/MD657-N59-2017.02.22-17.28.52_MD657_2_0176_alignedTo_MD657-F44-2017.02.18-06.06.27_MD657_1_0130_cropped_down32_sp5_denseScoreMap_setting_30.bp && mkdir -p /shared/CSHL_scoremaps_down32/MD657/MD657-N59-2017.02.22-17.28.52_MD657_2_0176_alignedTo_MD657-F44-2017.02.18-06.06.27_MD657_1_0130_cropped_down32\n",
      "aws s3 cp s3://mousebrainatlas-data/CSHL_scoremaps_down32/MD657/MD657-N59-2017.02.22-17.28.52_MD657_2_0176_alignedTo_MD657-F44-2017.02.18-06.06.27_MD657_1_0130_cropped_down32/MD657-N59-2017.02.22-17.28.52_MD657_2_0176_alignedTo_MD657-F44-2017.02.18-06.06.27_MD657_1_0130_cropped_down32_sp5_denseScoreMap_setting_30.bp /shared/CSHL_scoremaps_down32/MD657/MD657-N59-2017.02.22-17.28.52_MD657_2_0176_alignedTo_MD657-F44-2017.02.18-06.06.27_MD657_1_0130_cropped_down32/MD657-N59-2017.02.22-17.28.52_MD657_2_0176_alignedTo_MD657-F44-2017.02.18-06.06.27_MD657_1_0130_cropped_down32_sp5_denseScoreMap_setting_30.bp\n"
     ]
    },
    {
     "name": "stderr",
     "output_type": "stream",
     "text": [
      "Child returned 1\n",
      "0.33 seconds.\n",
      "Child returned 0\n"
     ]
    },
    {
     "name": "stdout",
     "output_type": "stream",
     "text": [
      "rm -rf /shared/CSHL_scoremaps_down32/MD657/MD657-N60-2017.02.22-17.32.54_MD657_1_0178_alignedTo_MD657-F44-2017.02.18-06.06.27_MD657_1_0130_cropped_down32/MD657-N60-2017.02.22-17.32.54_MD657_1_0178_alignedTo_MD657-F44-2017.02.18-06.06.27_MD657_1_0130_cropped_down32_sp5_denseScoreMap_setting_30.bp && mkdir -p /shared/CSHL_scoremaps_down32/MD657/MD657-N60-2017.02.22-17.32.54_MD657_1_0178_alignedTo_MD657-F44-2017.02.18-06.06.27_MD657_1_0130_cropped_down32\n",
      "aws s3 cp s3://mousebrainatlas-data/CSHL_scoremaps_down32/MD657/MD657-N60-2017.02.22-17.32.54_MD657_1_0178_alignedTo_MD657-F44-2017.02.18-06.06.27_MD657_1_0130_cropped_down32/MD657-N60-2017.02.22-17.32.54_MD657_1_0178_alignedTo_MD657-F44-2017.02.18-06.06.27_MD657_1_0130_cropped_down32_sp5_denseScoreMap_setting_30.bp /shared/CSHL_scoremaps_down32/MD657/MD657-N60-2017.02.22-17.32.54_MD657_1_0178_alignedTo_MD657-F44-2017.02.18-06.06.27_MD657_1_0130_cropped_down32/MD657-N60-2017.02.22-17.32.54_MD657_1_0178_alignedTo_MD657-F44-2017.02.18-06.06.27_MD657_1_0130_cropped_down32_sp5_denseScoreMap_setting_30.bp\n"
     ]
    },
    {
     "name": "stderr",
     "output_type": "stream",
     "text": [
      "Child returned 1\n",
      "0.34 seconds.\n",
      "Child returned 0\n"
     ]
    },
    {
     "name": "stdout",
     "output_type": "stream",
     "text": [
      "rm -rf /shared/CSHL_scoremaps_down32/MD657/MD657-N60-2017.02.22-17.32.54_MD657_2_0179_alignedTo_MD657-F44-2017.02.18-06.06.27_MD657_1_0130_cropped_down32/MD657-N60-2017.02.22-17.32.54_MD657_2_0179_alignedTo_MD657-F44-2017.02.18-06.06.27_MD657_1_0130_cropped_down32_sp5_denseScoreMap_setting_30.bp && mkdir -p /shared/CSHL_scoremaps_down32/MD657/MD657-N60-2017.02.22-17.32.54_MD657_2_0179_alignedTo_MD657-F44-2017.02.18-06.06.27_MD657_1_0130_cropped_down32\n",
      "aws s3 cp s3://mousebrainatlas-data/CSHL_scoremaps_down32/MD657/MD657-N60-2017.02.22-17.32.54_MD657_2_0179_alignedTo_MD657-F44-2017.02.18-06.06.27_MD657_1_0130_cropped_down32/MD657-N60-2017.02.22-17.32.54_MD657_2_0179_alignedTo_MD657-F44-2017.02.18-06.06.27_MD657_1_0130_cropped_down32_sp5_denseScoreMap_setting_30.bp /shared/CSHL_scoremaps_down32/MD657/MD657-N60-2017.02.22-17.32.54_MD657_2_0179_alignedTo_MD657-F44-2017.02.18-06.06.27_MD657_1_0130_cropped_down32/MD657-N60-2017.02.22-17.32.54_MD657_2_0179_alignedTo_MD657-F44-2017.02.18-06.06.27_MD657_1_0130_cropped_down32_sp5_denseScoreMap_setting_30.bp\n"
     ]
    },
    {
     "name": "stderr",
     "output_type": "stream",
     "text": [
      "Child returned 1\n",
      "0.35 seconds.\n",
      "Child returned 0\n"
     ]
    },
    {
     "name": "stdout",
     "output_type": "stream",
     "text": [
      "rm -rf /shared/CSHL_scoremaps_down32/MD657/MD657-N61-2017.03.21-13.54.42_MD657_2_0182_alignedTo_MD657-F44-2017.02.18-06.06.27_MD657_1_0130_cropped_down32/MD657-N61-2017.03.21-13.54.42_MD657_2_0182_alignedTo_MD657-F44-2017.02.18-06.06.27_MD657_1_0130_cropped_down32_sp5_denseScoreMap_setting_30.bp && mkdir -p /shared/CSHL_scoremaps_down32/MD657/MD657-N61-2017.03.21-13.54.42_MD657_2_0182_alignedTo_MD657-F44-2017.02.18-06.06.27_MD657_1_0130_cropped_down32\n",
      "aws s3 cp s3://mousebrainatlas-data/CSHL_scoremaps_down32/MD657/MD657-N61-2017.03.21-13.54.42_MD657_2_0182_alignedTo_MD657-F44-2017.02.18-06.06.27_MD657_1_0130_cropped_down32/MD657-N61-2017.03.21-13.54.42_MD657_2_0182_alignedTo_MD657-F44-2017.02.18-06.06.27_MD657_1_0130_cropped_down32_sp5_denseScoreMap_setting_30.bp /shared/CSHL_scoremaps_down32/MD657/MD657-N61-2017.03.21-13.54.42_MD657_2_0182_alignedTo_MD657-F44-2017.02.18-06.06.27_MD657_1_0130_cropped_down32/MD657-N61-2017.03.21-13.54.42_MD657_2_0182_alignedTo_MD657-F44-2017.02.18-06.06.27_MD657_1_0130_cropped_down32_sp5_denseScoreMap_setting_30.bp\n"
     ]
    },
    {
     "name": "stderr",
     "output_type": "stream",
     "text": [
      "Child returned 1\n",
      "0.33 seconds.\n",
      "Child returned 0\n"
     ]
    },
    {
     "name": "stdout",
     "output_type": "stream",
     "text": [
      "rm -rf /shared/CSHL_scoremaps_down32/MD657/MD657-N62-2017.03.21-13.59.22_MD657_1_0184_alignedTo_MD657-F44-2017.02.18-06.06.27_MD657_1_0130_cropped_down32/MD657-N62-2017.03.21-13.59.22_MD657_1_0184_alignedTo_MD657-F44-2017.02.18-06.06.27_MD657_1_0130_cropped_down32_sp5_denseScoreMap_setting_30.bp && mkdir -p /shared/CSHL_scoremaps_down32/MD657/MD657-N62-2017.03.21-13.59.22_MD657_1_0184_alignedTo_MD657-F44-2017.02.18-06.06.27_MD657_1_0130_cropped_down32\n",
      "aws s3 cp s3://mousebrainatlas-data/CSHL_scoremaps_down32/MD657/MD657-N62-2017.03.21-13.59.22_MD657_1_0184_alignedTo_MD657-F44-2017.02.18-06.06.27_MD657_1_0130_cropped_down32/MD657-N62-2017.03.21-13.59.22_MD657_1_0184_alignedTo_MD657-F44-2017.02.18-06.06.27_MD657_1_0130_cropped_down32_sp5_denseScoreMap_setting_30.bp /shared/CSHL_scoremaps_down32/MD657/MD657-N62-2017.03.21-13.59.22_MD657_1_0184_alignedTo_MD657-F44-2017.02.18-06.06.27_MD657_1_0130_cropped_down32/MD657-N62-2017.03.21-13.59.22_MD657_1_0184_alignedTo_MD657-F44-2017.02.18-06.06.27_MD657_1_0130_cropped_down32_sp5_denseScoreMap_setting_30.bp\n"
     ]
    },
    {
     "name": "stderr",
     "output_type": "stream",
     "text": [
      "Child returned 1\n",
      "0.35 seconds.\n",
      "Child returned 0\n"
     ]
    },
    {
     "name": "stdout",
     "output_type": "stream",
     "text": [
      "rm -rf /shared/CSHL_scoremaps_down32/MD657/MD657-N62-2017.03.21-13.59.22_MD657_2_0185_alignedTo_MD657-F44-2017.02.18-06.06.27_MD657_1_0130_cropped_down32/MD657-N62-2017.03.21-13.59.22_MD657_2_0185_alignedTo_MD657-F44-2017.02.18-06.06.27_MD657_1_0130_cropped_down32_sp5_denseScoreMap_setting_30.bp && mkdir -p /shared/CSHL_scoremaps_down32/MD657/MD657-N62-2017.03.21-13.59.22_MD657_2_0185_alignedTo_MD657-F44-2017.02.18-06.06.27_MD657_1_0130_cropped_down32\n",
      "aws s3 cp s3://mousebrainatlas-data/CSHL_scoremaps_down32/MD657/MD657-N62-2017.03.21-13.59.22_MD657_2_0185_alignedTo_MD657-F44-2017.02.18-06.06.27_MD657_1_0130_cropped_down32/MD657-N62-2017.03.21-13.59.22_MD657_2_0185_alignedTo_MD657-F44-2017.02.18-06.06.27_MD657_1_0130_cropped_down32_sp5_denseScoreMap_setting_30.bp /shared/CSHL_scoremaps_down32/MD657/MD657-N62-2017.03.21-13.59.22_MD657_2_0185_alignedTo_MD657-F44-2017.02.18-06.06.27_MD657_1_0130_cropped_down32/MD657-N62-2017.03.21-13.59.22_MD657_2_0185_alignedTo_MD657-F44-2017.02.18-06.06.27_MD657_1_0130_cropped_down32_sp5_denseScoreMap_setting_30.bp\n"
     ]
    },
    {
     "name": "stderr",
     "output_type": "stream",
     "text": [
      "Child returned 1\n",
      "0.34 seconds.\n",
      "Child returned 0\n"
     ]
    },
    {
     "name": "stdout",
     "output_type": "stream",
     "text": [
      "rm -rf /shared/CSHL_scoremaps_down32/MD657/MD657-N63-2017.03.21-14.03.34_MD657_1_0187_alignedTo_MD657-F44-2017.02.18-06.06.27_MD657_1_0130_cropped_down32/MD657-N63-2017.03.21-14.03.34_MD657_1_0187_alignedTo_MD657-F44-2017.02.18-06.06.27_MD657_1_0130_cropped_down32_sp5_denseScoreMap_setting_30.bp && mkdir -p /shared/CSHL_scoremaps_down32/MD657/MD657-N63-2017.03.21-14.03.34_MD657_1_0187_alignedTo_MD657-F44-2017.02.18-06.06.27_MD657_1_0130_cropped_down32\n",
      "aws s3 cp s3://mousebrainatlas-data/CSHL_scoremaps_down32/MD657/MD657-N63-2017.03.21-14.03.34_MD657_1_0187_alignedTo_MD657-F44-2017.02.18-06.06.27_MD657_1_0130_cropped_down32/MD657-N63-2017.03.21-14.03.34_MD657_1_0187_alignedTo_MD657-F44-2017.02.18-06.06.27_MD657_1_0130_cropped_down32_sp5_denseScoreMap_setting_30.bp /shared/CSHL_scoremaps_down32/MD657/MD657-N63-2017.03.21-14.03.34_MD657_1_0187_alignedTo_MD657-F44-2017.02.18-06.06.27_MD657_1_0130_cropped_down32/MD657-N63-2017.03.21-14.03.34_MD657_1_0187_alignedTo_MD657-F44-2017.02.18-06.06.27_MD657_1_0130_cropped_down32_sp5_denseScoreMap_setting_30.bp\n"
     ]
    },
    {
     "name": "stderr",
     "output_type": "stream",
     "text": [
      "Child returned 1\n",
      "0.35 seconds.\n",
      "Child returned 0\n"
     ]
    },
    {
     "name": "stdout",
     "output_type": "stream",
     "text": [
      "rm -rf /shared/CSHL_scoremaps_down32/MD657/MD657-N63-2017.03.21-14.03.34_MD657_2_0188_alignedTo_MD657-F44-2017.02.18-06.06.27_MD657_1_0130_cropped_down32/MD657-N63-2017.03.21-14.03.34_MD657_2_0188_alignedTo_MD657-F44-2017.02.18-06.06.27_MD657_1_0130_cropped_down32_sp5_denseScoreMap_setting_30.bp && mkdir -p /shared/CSHL_scoremaps_down32/MD657/MD657-N63-2017.03.21-14.03.34_MD657_2_0188_alignedTo_MD657-F44-2017.02.18-06.06.27_MD657_1_0130_cropped_down32\n",
      "aws s3 cp s3://mousebrainatlas-data/CSHL_scoremaps_down32/MD657/MD657-N63-2017.03.21-14.03.34_MD657_2_0188_alignedTo_MD657-F44-2017.02.18-06.06.27_MD657_1_0130_cropped_down32/MD657-N63-2017.03.21-14.03.34_MD657_2_0188_alignedTo_MD657-F44-2017.02.18-06.06.27_MD657_1_0130_cropped_down32_sp5_denseScoreMap_setting_30.bp /shared/CSHL_scoremaps_down32/MD657/MD657-N63-2017.03.21-14.03.34_MD657_2_0188_alignedTo_MD657-F44-2017.02.18-06.06.27_MD657_1_0130_cropped_down32/MD657-N63-2017.03.21-14.03.34_MD657_2_0188_alignedTo_MD657-F44-2017.02.18-06.06.27_MD657_1_0130_cropped_down32_sp5_denseScoreMap_setting_30.bp\n"
     ]
    },
    {
     "name": "stderr",
     "output_type": "stream",
     "text": [
      "Child returned 1\n",
      "0.35 seconds.\n",
      "Child returned 0\n"
     ]
    },
    {
     "name": "stdout",
     "output_type": "stream",
     "text": [
      "rm -rf /shared/CSHL_scoremaps_down32/MD657/MD657-N64-2017.03.21-14.08.01_MD657_1_0190_alignedTo_MD657-F44-2017.02.18-06.06.27_MD657_1_0130_cropped_down32/MD657-N64-2017.03.21-14.08.01_MD657_1_0190_alignedTo_MD657-F44-2017.02.18-06.06.27_MD657_1_0130_cropped_down32_sp5_denseScoreMap_setting_30.bp && mkdir -p /shared/CSHL_scoremaps_down32/MD657/MD657-N64-2017.03.21-14.08.01_MD657_1_0190_alignedTo_MD657-F44-2017.02.18-06.06.27_MD657_1_0130_cropped_down32\n",
      "aws s3 cp s3://mousebrainatlas-data/CSHL_scoremaps_down32/MD657/MD657-N64-2017.03.21-14.08.01_MD657_1_0190_alignedTo_MD657-F44-2017.02.18-06.06.27_MD657_1_0130_cropped_down32/MD657-N64-2017.03.21-14.08.01_MD657_1_0190_alignedTo_MD657-F44-2017.02.18-06.06.27_MD657_1_0130_cropped_down32_sp5_denseScoreMap_setting_30.bp /shared/CSHL_scoremaps_down32/MD657/MD657-N64-2017.03.21-14.08.01_MD657_1_0190_alignedTo_MD657-F44-2017.02.18-06.06.27_MD657_1_0130_cropped_down32/MD657-N64-2017.03.21-14.08.01_MD657_1_0190_alignedTo_MD657-F44-2017.02.18-06.06.27_MD657_1_0130_cropped_down32_sp5_denseScoreMap_setting_30.bp\n"
     ]
    },
    {
     "name": "stderr",
     "output_type": "stream",
     "text": [
      "Child returned 1\n",
      "0.34 seconds.\n",
      "Child returned 0\n"
     ]
    },
    {
     "name": "stdout",
     "output_type": "stream",
     "text": [
      "rm -rf /shared/CSHL_scoremaps_down32/MD657/MD657-N64-2017.03.21-14.08.01_MD657_2_0191_alignedTo_MD657-F44-2017.02.18-06.06.27_MD657_1_0130_cropped_down32/MD657-N64-2017.03.21-14.08.01_MD657_2_0191_alignedTo_MD657-F44-2017.02.18-06.06.27_MD657_1_0130_cropped_down32_sp5_denseScoreMap_setting_30.bp && mkdir -p /shared/CSHL_scoremaps_down32/MD657/MD657-N64-2017.03.21-14.08.01_MD657_2_0191_alignedTo_MD657-F44-2017.02.18-06.06.27_MD657_1_0130_cropped_down32\n",
      "aws s3 cp s3://mousebrainatlas-data/CSHL_scoremaps_down32/MD657/MD657-N64-2017.03.21-14.08.01_MD657_2_0191_alignedTo_MD657-F44-2017.02.18-06.06.27_MD657_1_0130_cropped_down32/MD657-N64-2017.03.21-14.08.01_MD657_2_0191_alignedTo_MD657-F44-2017.02.18-06.06.27_MD657_1_0130_cropped_down32_sp5_denseScoreMap_setting_30.bp /shared/CSHL_scoremaps_down32/MD657/MD657-N64-2017.03.21-14.08.01_MD657_2_0191_alignedTo_MD657-F44-2017.02.18-06.06.27_MD657_1_0130_cropped_down32/MD657-N64-2017.03.21-14.08.01_MD657_2_0191_alignedTo_MD657-F44-2017.02.18-06.06.27_MD657_1_0130_cropped_down32_sp5_denseScoreMap_setting_30.bp\n"
     ]
    },
    {
     "name": "stderr",
     "output_type": "stream",
     "text": [
      "Child returned 1\n",
      "0.35 seconds.\n",
      "Child returned 0\n"
     ]
    },
    {
     "name": "stdout",
     "output_type": "stream",
     "text": [
      "rm -rf /shared/CSHL_scoremaps_down32/MD657/MD657-N65-2017.03.21-14.12.15_MD657_1_0193_alignedTo_MD657-F44-2017.02.18-06.06.27_MD657_1_0130_cropped_down32/MD657-N65-2017.03.21-14.12.15_MD657_1_0193_alignedTo_MD657-F44-2017.02.18-06.06.27_MD657_1_0130_cropped_down32_sp5_denseScoreMap_setting_30.bp && mkdir -p /shared/CSHL_scoremaps_down32/MD657/MD657-N65-2017.03.21-14.12.15_MD657_1_0193_alignedTo_MD657-F44-2017.02.18-06.06.27_MD657_1_0130_cropped_down32\n",
      "aws s3 cp s3://mousebrainatlas-data/CSHL_scoremaps_down32/MD657/MD657-N65-2017.03.21-14.12.15_MD657_1_0193_alignedTo_MD657-F44-2017.02.18-06.06.27_MD657_1_0130_cropped_down32/MD657-N65-2017.03.21-14.12.15_MD657_1_0193_alignedTo_MD657-F44-2017.02.18-06.06.27_MD657_1_0130_cropped_down32_sp5_denseScoreMap_setting_30.bp /shared/CSHL_scoremaps_down32/MD657/MD657-N65-2017.03.21-14.12.15_MD657_1_0193_alignedTo_MD657-F44-2017.02.18-06.06.27_MD657_1_0130_cropped_down32/MD657-N65-2017.03.21-14.12.15_MD657_1_0193_alignedTo_MD657-F44-2017.02.18-06.06.27_MD657_1_0130_cropped_down32_sp5_denseScoreMap_setting_30.bp\n"
     ]
    },
    {
     "name": "stderr",
     "output_type": "stream",
     "text": [
      "Child returned 1\n",
      "0.34 seconds.\n",
      "Child returned 0\n"
     ]
    },
    {
     "name": "stdout",
     "output_type": "stream",
     "text": [
      "rm -rf /shared/CSHL_scoremaps_down32/MD657/MD657-N65-2017.03.21-14.12.15_MD657_2_0194_alignedTo_MD657-F44-2017.02.18-06.06.27_MD657_1_0130_cropped_down32/MD657-N65-2017.03.21-14.12.15_MD657_2_0194_alignedTo_MD657-F44-2017.02.18-06.06.27_MD657_1_0130_cropped_down32_sp5_denseScoreMap_setting_30.bp && mkdir -p /shared/CSHL_scoremaps_down32/MD657/MD657-N65-2017.03.21-14.12.15_MD657_2_0194_alignedTo_MD657-F44-2017.02.18-06.06.27_MD657_1_0130_cropped_down32\n",
      "aws s3 cp s3://mousebrainatlas-data/CSHL_scoremaps_down32/MD657/MD657-N65-2017.03.21-14.12.15_MD657_2_0194_alignedTo_MD657-F44-2017.02.18-06.06.27_MD657_1_0130_cropped_down32/MD657-N65-2017.03.21-14.12.15_MD657_2_0194_alignedTo_MD657-F44-2017.02.18-06.06.27_MD657_1_0130_cropped_down32_sp5_denseScoreMap_setting_30.bp /shared/CSHL_scoremaps_down32/MD657/MD657-N65-2017.03.21-14.12.15_MD657_2_0194_alignedTo_MD657-F44-2017.02.18-06.06.27_MD657_1_0130_cropped_down32/MD657-N65-2017.03.21-14.12.15_MD657_2_0194_alignedTo_MD657-F44-2017.02.18-06.06.27_MD657_1_0130_cropped_down32_sp5_denseScoreMap_setting_30.bp\n"
     ]
    },
    {
     "name": "stderr",
     "output_type": "stream",
     "text": [
      "Child returned 1\n",
      "0.36 seconds.\n",
      "Child returned 0\n"
     ]
    },
    {
     "name": "stdout",
     "output_type": "stream",
     "text": [
      "rm -rf /shared/CSHL_scoremaps_down32/MD657/MD657-N66-2017.03.21-14.16.35_MD657_2_0197_alignedTo_MD657-F44-2017.02.18-06.06.27_MD657_1_0130_cropped_down32/MD657-N66-2017.03.21-14.16.35_MD657_2_0197_alignedTo_MD657-F44-2017.02.18-06.06.27_MD657_1_0130_cropped_down32_sp5_denseScoreMap_setting_30.bp && mkdir -p /shared/CSHL_scoremaps_down32/MD657/MD657-N66-2017.03.21-14.16.35_MD657_2_0197_alignedTo_MD657-F44-2017.02.18-06.06.27_MD657_1_0130_cropped_down32\n",
      "aws s3 cp s3://mousebrainatlas-data/CSHL_scoremaps_down32/MD657/MD657-N66-2017.03.21-14.16.35_MD657_2_0197_alignedTo_MD657-F44-2017.02.18-06.06.27_MD657_1_0130_cropped_down32/MD657-N66-2017.03.21-14.16.35_MD657_2_0197_alignedTo_MD657-F44-2017.02.18-06.06.27_MD657_1_0130_cropped_down32_sp5_denseScoreMap_setting_30.bp /shared/CSHL_scoremaps_down32/MD657/MD657-N66-2017.03.21-14.16.35_MD657_2_0197_alignedTo_MD657-F44-2017.02.18-06.06.27_MD657_1_0130_cropped_down32/MD657-N66-2017.03.21-14.16.35_MD657_2_0197_alignedTo_MD657-F44-2017.02.18-06.06.27_MD657_1_0130_cropped_down32_sp5_denseScoreMap_setting_30.bp\n"
     ]
    },
    {
     "name": "stderr",
     "output_type": "stream",
     "text": [
      "Child returned 1\n",
      "0.45 seconds.\n",
      "Child returned 0\n"
     ]
    },
    {
     "name": "stdout",
     "output_type": "stream",
     "text": [
      "rm -rf /shared/CSHL_scoremaps_down32/MD657/MD657-N67-2017.02.22-17.59.54_MD657_1_0199_alignedTo_MD657-F44-2017.02.18-06.06.27_MD657_1_0130_cropped_down32/MD657-N67-2017.02.22-17.59.54_MD657_1_0199_alignedTo_MD657-F44-2017.02.18-06.06.27_MD657_1_0130_cropped_down32_sp5_denseScoreMap_setting_30.bp && mkdir -p /shared/CSHL_scoremaps_down32/MD657/MD657-N67-2017.02.22-17.59.54_MD657_1_0199_alignedTo_MD657-F44-2017.02.18-06.06.27_MD657_1_0130_cropped_down32\n",
      "aws s3 cp s3://mousebrainatlas-data/CSHL_scoremaps_down32/MD657/MD657-N67-2017.02.22-17.59.54_MD657_1_0199_alignedTo_MD657-F44-2017.02.18-06.06.27_MD657_1_0130_cropped_down32/MD657-N67-2017.02.22-17.59.54_MD657_1_0199_alignedTo_MD657-F44-2017.02.18-06.06.27_MD657_1_0130_cropped_down32_sp5_denseScoreMap_setting_30.bp /shared/CSHL_scoremaps_down32/MD657/MD657-N67-2017.02.22-17.59.54_MD657_1_0199_alignedTo_MD657-F44-2017.02.18-06.06.27_MD657_1_0130_cropped_down32/MD657-N67-2017.02.22-17.59.54_MD657_1_0199_alignedTo_MD657-F44-2017.02.18-06.06.27_MD657_1_0130_cropped_down32_sp5_denseScoreMap_setting_30.bp\n"
     ]
    },
    {
     "name": "stderr",
     "output_type": "stream",
     "text": [
      "Child returned 1\n",
      "0.34 seconds.\n",
      "Child returned 0\n"
     ]
    },
    {
     "name": "stdout",
     "output_type": "stream",
     "text": [
      "rm -rf /shared/CSHL_scoremaps_down32/MD657/MD657-N67-2017.02.22-17.59.54_MD657_2_0200_alignedTo_MD657-F44-2017.02.18-06.06.27_MD657_1_0130_cropped_down32/MD657-N67-2017.02.22-17.59.54_MD657_2_0200_alignedTo_MD657-F44-2017.02.18-06.06.27_MD657_1_0130_cropped_down32_sp5_denseScoreMap_setting_30.bp && mkdir -p /shared/CSHL_scoremaps_down32/MD657/MD657-N67-2017.02.22-17.59.54_MD657_2_0200_alignedTo_MD657-F44-2017.02.18-06.06.27_MD657_1_0130_cropped_down32\n",
      "aws s3 cp s3://mousebrainatlas-data/CSHL_scoremaps_down32/MD657/MD657-N67-2017.02.22-17.59.54_MD657_2_0200_alignedTo_MD657-F44-2017.02.18-06.06.27_MD657_1_0130_cropped_down32/MD657-N67-2017.02.22-17.59.54_MD657_2_0200_alignedTo_MD657-F44-2017.02.18-06.06.27_MD657_1_0130_cropped_down32_sp5_denseScoreMap_setting_30.bp /shared/CSHL_scoremaps_down32/MD657/MD657-N67-2017.02.22-17.59.54_MD657_2_0200_alignedTo_MD657-F44-2017.02.18-06.06.27_MD657_1_0130_cropped_down32/MD657-N67-2017.02.22-17.59.54_MD657_2_0200_alignedTo_MD657-F44-2017.02.18-06.06.27_MD657_1_0130_cropped_down32_sp5_denseScoreMap_setting_30.bp\n"
     ]
    },
    {
     "name": "stderr",
     "output_type": "stream",
     "text": [
      "Child returned 1\n",
      "0.34 seconds.\n",
      "Child returned 0\n"
     ]
    },
    {
     "name": "stdout",
     "output_type": "stream",
     "text": [
      "rm -rf /shared/CSHL_scoremaps_down32/MD657/MD657-N68-2017.02.22-18.03.28_MD657_1_0202_alignedTo_MD657-F44-2017.02.18-06.06.27_MD657_1_0130_cropped_down32/MD657-N68-2017.02.22-18.03.28_MD657_1_0202_alignedTo_MD657-F44-2017.02.18-06.06.27_MD657_1_0130_cropped_down32_sp5_denseScoreMap_setting_30.bp && mkdir -p /shared/CSHL_scoremaps_down32/MD657/MD657-N68-2017.02.22-18.03.28_MD657_1_0202_alignedTo_MD657-F44-2017.02.18-06.06.27_MD657_1_0130_cropped_down32\n",
      "aws s3 cp s3://mousebrainatlas-data/CSHL_scoremaps_down32/MD657/MD657-N68-2017.02.22-18.03.28_MD657_1_0202_alignedTo_MD657-F44-2017.02.18-06.06.27_MD657_1_0130_cropped_down32/MD657-N68-2017.02.22-18.03.28_MD657_1_0202_alignedTo_MD657-F44-2017.02.18-06.06.27_MD657_1_0130_cropped_down32_sp5_denseScoreMap_setting_30.bp /shared/CSHL_scoremaps_down32/MD657/MD657-N68-2017.02.22-18.03.28_MD657_1_0202_alignedTo_MD657-F44-2017.02.18-06.06.27_MD657_1_0130_cropped_down32/MD657-N68-2017.02.22-18.03.28_MD657_1_0202_alignedTo_MD657-F44-2017.02.18-06.06.27_MD657_1_0130_cropped_down32_sp5_denseScoreMap_setting_30.bp\n"
     ]
    },
    {
     "name": "stderr",
     "output_type": "stream",
     "text": [
      "Child returned 1\n",
      "0.35 seconds.\n",
      "Child returned 0\n"
     ]
    },
    {
     "name": "stdout",
     "output_type": "stream",
     "text": [
      "rm -rf /shared/CSHL_scoremaps_down32/MD657/MD657-N68-2017.02.22-18.03.28_MD657_2_0203_alignedTo_MD657-F44-2017.02.18-06.06.27_MD657_1_0130_cropped_down32/MD657-N68-2017.02.22-18.03.28_MD657_2_0203_alignedTo_MD657-F44-2017.02.18-06.06.27_MD657_1_0130_cropped_down32_sp5_denseScoreMap_setting_30.bp && mkdir -p /shared/CSHL_scoremaps_down32/MD657/MD657-N68-2017.02.22-18.03.28_MD657_2_0203_alignedTo_MD657-F44-2017.02.18-06.06.27_MD657_1_0130_cropped_down32\n",
      "aws s3 cp s3://mousebrainatlas-data/CSHL_scoremaps_down32/MD657/MD657-N68-2017.02.22-18.03.28_MD657_2_0203_alignedTo_MD657-F44-2017.02.18-06.06.27_MD657_1_0130_cropped_down32/MD657-N68-2017.02.22-18.03.28_MD657_2_0203_alignedTo_MD657-F44-2017.02.18-06.06.27_MD657_1_0130_cropped_down32_sp5_denseScoreMap_setting_30.bp /shared/CSHL_scoremaps_down32/MD657/MD657-N68-2017.02.22-18.03.28_MD657_2_0203_alignedTo_MD657-F44-2017.02.18-06.06.27_MD657_1_0130_cropped_down32/MD657-N68-2017.02.22-18.03.28_MD657_2_0203_alignedTo_MD657-F44-2017.02.18-06.06.27_MD657_1_0130_cropped_down32_sp5_denseScoreMap_setting_30.bp\n"
     ]
    },
    {
     "name": "stderr",
     "output_type": "stream",
     "text": [
      "Child returned 1\n",
      "0.34 seconds.\n",
      "Child returned 0\n"
     ]
    },
    {
     "name": "stdout",
     "output_type": "stream",
     "text": [
      "rm -rf /shared/CSHL_scoremaps_down32/MD657/MD657-N69-2017.02.22-18.07.03_MD657_1_0205_alignedTo_MD657-F44-2017.02.18-06.06.27_MD657_1_0130_cropped_down32/MD657-N69-2017.02.22-18.07.03_MD657_1_0205_alignedTo_MD657-F44-2017.02.18-06.06.27_MD657_1_0130_cropped_down32_sp5_denseScoreMap_setting_30.bp && mkdir -p /shared/CSHL_scoremaps_down32/MD657/MD657-N69-2017.02.22-18.07.03_MD657_1_0205_alignedTo_MD657-F44-2017.02.18-06.06.27_MD657_1_0130_cropped_down32\n",
      "aws s3 cp s3://mousebrainatlas-data/CSHL_scoremaps_down32/MD657/MD657-N69-2017.02.22-18.07.03_MD657_1_0205_alignedTo_MD657-F44-2017.02.18-06.06.27_MD657_1_0130_cropped_down32/MD657-N69-2017.02.22-18.07.03_MD657_1_0205_alignedTo_MD657-F44-2017.02.18-06.06.27_MD657_1_0130_cropped_down32_sp5_denseScoreMap_setting_30.bp /shared/CSHL_scoremaps_down32/MD657/MD657-N69-2017.02.22-18.07.03_MD657_1_0205_alignedTo_MD657-F44-2017.02.18-06.06.27_MD657_1_0130_cropped_down32/MD657-N69-2017.02.22-18.07.03_MD657_1_0205_alignedTo_MD657-F44-2017.02.18-06.06.27_MD657_1_0130_cropped_down32_sp5_denseScoreMap_setting_30.bp\n"
     ]
    },
    {
     "name": "stderr",
     "output_type": "stream",
     "text": [
      "Child returned 1\n",
      "0.34 seconds.\n",
      "Child returned 0\n"
     ]
    },
    {
     "name": "stdout",
     "output_type": "stream",
     "text": [
      "rm -rf /shared/CSHL_scoremaps_down32/MD657/MD657-N69-2017.02.22-18.07.03_MD657_2_0206_alignedTo_MD657-F44-2017.02.18-06.06.27_MD657_1_0130_cropped_down32/MD657-N69-2017.02.22-18.07.03_MD657_2_0206_alignedTo_MD657-F44-2017.02.18-06.06.27_MD657_1_0130_cropped_down32_sp5_denseScoreMap_setting_30.bp && mkdir -p /shared/CSHL_scoremaps_down32/MD657/MD657-N69-2017.02.22-18.07.03_MD657_2_0206_alignedTo_MD657-F44-2017.02.18-06.06.27_MD657_1_0130_cropped_down32\n",
      "aws s3 cp s3://mousebrainatlas-data/CSHL_scoremaps_down32/MD657/MD657-N69-2017.02.22-18.07.03_MD657_2_0206_alignedTo_MD657-F44-2017.02.18-06.06.27_MD657_1_0130_cropped_down32/MD657-N69-2017.02.22-18.07.03_MD657_2_0206_alignedTo_MD657-F44-2017.02.18-06.06.27_MD657_1_0130_cropped_down32_sp5_denseScoreMap_setting_30.bp /shared/CSHL_scoremaps_down32/MD657/MD657-N69-2017.02.22-18.07.03_MD657_2_0206_alignedTo_MD657-F44-2017.02.18-06.06.27_MD657_1_0130_cropped_down32/MD657-N69-2017.02.22-18.07.03_MD657_2_0206_alignedTo_MD657-F44-2017.02.18-06.06.27_MD657_1_0130_cropped_down32_sp5_denseScoreMap_setting_30.bp\n"
     ]
    },
    {
     "name": "stderr",
     "output_type": "stream",
     "text": [
      "Child returned 1\n",
      "0.33 seconds.\n",
      "Child returned 0\n"
     ]
    },
    {
     "name": "stdout",
     "output_type": "stream",
     "text": [
      "rm -rf /shared/CSHL_scoremaps_down32/MD657/MD657-N70-2017.02.22-18.31.14_MD657_1_0208_alignedTo_MD657-F44-2017.02.18-06.06.27_MD657_1_0130_cropped_down32/MD657-N70-2017.02.22-18.31.14_MD657_1_0208_alignedTo_MD657-F44-2017.02.18-06.06.27_MD657_1_0130_cropped_down32_sp5_denseScoreMap_setting_30.bp && mkdir -p /shared/CSHL_scoremaps_down32/MD657/MD657-N70-2017.02.22-18.31.14_MD657_1_0208_alignedTo_MD657-F44-2017.02.18-06.06.27_MD657_1_0130_cropped_down32\n",
      "aws s3 cp s3://mousebrainatlas-data/CSHL_scoremaps_down32/MD657/MD657-N70-2017.02.22-18.31.14_MD657_1_0208_alignedTo_MD657-F44-2017.02.18-06.06.27_MD657_1_0130_cropped_down32/MD657-N70-2017.02.22-18.31.14_MD657_1_0208_alignedTo_MD657-F44-2017.02.18-06.06.27_MD657_1_0130_cropped_down32_sp5_denseScoreMap_setting_30.bp /shared/CSHL_scoremaps_down32/MD657/MD657-N70-2017.02.22-18.31.14_MD657_1_0208_alignedTo_MD657-F44-2017.02.18-06.06.27_MD657_1_0130_cropped_down32/MD657-N70-2017.02.22-18.31.14_MD657_1_0208_alignedTo_MD657-F44-2017.02.18-06.06.27_MD657_1_0130_cropped_down32_sp5_denseScoreMap_setting_30.bp\n"
     ]
    },
    {
     "name": "stderr",
     "output_type": "stream",
     "text": [
      "Child returned 1\n",
      "0.33 seconds.\n",
      "Child returned 0\n"
     ]
    },
    {
     "name": "stdout",
     "output_type": "stream",
     "text": [
      "rm -rf /shared/CSHL_scoremaps_down32/MD657/MD657-N70-2017.02.22-18.31.14_MD657_2_0209_alignedTo_MD657-F44-2017.02.18-06.06.27_MD657_1_0130_cropped_down32/MD657-N70-2017.02.22-18.31.14_MD657_2_0209_alignedTo_MD657-F44-2017.02.18-06.06.27_MD657_1_0130_cropped_down32_sp5_denseScoreMap_setting_30.bp && mkdir -p /shared/CSHL_scoremaps_down32/MD657/MD657-N70-2017.02.22-18.31.14_MD657_2_0209_alignedTo_MD657-F44-2017.02.18-06.06.27_MD657_1_0130_cropped_down32\n",
      "aws s3 cp s3://mousebrainatlas-data/CSHL_scoremaps_down32/MD657/MD657-N70-2017.02.22-18.31.14_MD657_2_0209_alignedTo_MD657-F44-2017.02.18-06.06.27_MD657_1_0130_cropped_down32/MD657-N70-2017.02.22-18.31.14_MD657_2_0209_alignedTo_MD657-F44-2017.02.18-06.06.27_MD657_1_0130_cropped_down32_sp5_denseScoreMap_setting_30.bp /shared/CSHL_scoremaps_down32/MD657/MD657-N70-2017.02.22-18.31.14_MD657_2_0209_alignedTo_MD657-F44-2017.02.18-06.06.27_MD657_1_0130_cropped_down32/MD657-N70-2017.02.22-18.31.14_MD657_2_0209_alignedTo_MD657-F44-2017.02.18-06.06.27_MD657_1_0130_cropped_down32_sp5_denseScoreMap_setting_30.bp\n"
     ]
    },
    {
     "name": "stderr",
     "output_type": "stream",
     "text": [
      "Child returned 1\n",
      "0.35 seconds.\n",
      "Child returned 0\n"
     ]
    },
    {
     "name": "stdout",
     "output_type": "stream",
     "text": [
      "rm -rf /shared/CSHL_scoremaps_down32/MD657/MD657-N71-2017.02.22-18.34.41_MD657_1_0211_alignedTo_MD657-F44-2017.02.18-06.06.27_MD657_1_0130_cropped_down32/MD657-N71-2017.02.22-18.34.41_MD657_1_0211_alignedTo_MD657-F44-2017.02.18-06.06.27_MD657_1_0130_cropped_down32_sp5_denseScoreMap_setting_30.bp && mkdir -p /shared/CSHL_scoremaps_down32/MD657/MD657-N71-2017.02.22-18.34.41_MD657_1_0211_alignedTo_MD657-F44-2017.02.18-06.06.27_MD657_1_0130_cropped_down32\n",
      "aws s3 cp s3://mousebrainatlas-data/CSHL_scoremaps_down32/MD657/MD657-N71-2017.02.22-18.34.41_MD657_1_0211_alignedTo_MD657-F44-2017.02.18-06.06.27_MD657_1_0130_cropped_down32/MD657-N71-2017.02.22-18.34.41_MD657_1_0211_alignedTo_MD657-F44-2017.02.18-06.06.27_MD657_1_0130_cropped_down32_sp5_denseScoreMap_setting_30.bp /shared/CSHL_scoremaps_down32/MD657/MD657-N71-2017.02.22-18.34.41_MD657_1_0211_alignedTo_MD657-F44-2017.02.18-06.06.27_MD657_1_0130_cropped_down32/MD657-N71-2017.02.22-18.34.41_MD657_1_0211_alignedTo_MD657-F44-2017.02.18-06.06.27_MD657_1_0130_cropped_down32_sp5_denseScoreMap_setting_30.bp\n"
     ]
    },
    {
     "name": "stderr",
     "output_type": "stream",
     "text": [
      "Child returned 1\n",
      "0.34 seconds.\n",
      "Child returned 0\n"
     ]
    },
    {
     "name": "stdout",
     "output_type": "stream",
     "text": [
      "rm -rf /shared/CSHL_scoremaps_down32/MD657/MD657-N71-2017.02.22-18.34.41_MD657_2_0212_alignedTo_MD657-F44-2017.02.18-06.06.27_MD657_1_0130_cropped_down32/MD657-N71-2017.02.22-18.34.41_MD657_2_0212_alignedTo_MD657-F44-2017.02.18-06.06.27_MD657_1_0130_cropped_down32_sp5_denseScoreMap_setting_30.bp && mkdir -p /shared/CSHL_scoremaps_down32/MD657/MD657-N71-2017.02.22-18.34.41_MD657_2_0212_alignedTo_MD657-F44-2017.02.18-06.06.27_MD657_1_0130_cropped_down32\n",
      "aws s3 cp s3://mousebrainatlas-data/CSHL_scoremaps_down32/MD657/MD657-N71-2017.02.22-18.34.41_MD657_2_0212_alignedTo_MD657-F44-2017.02.18-06.06.27_MD657_1_0130_cropped_down32/MD657-N71-2017.02.22-18.34.41_MD657_2_0212_alignedTo_MD657-F44-2017.02.18-06.06.27_MD657_1_0130_cropped_down32_sp5_denseScoreMap_setting_30.bp /shared/CSHL_scoremaps_down32/MD657/MD657-N71-2017.02.22-18.34.41_MD657_2_0212_alignedTo_MD657-F44-2017.02.18-06.06.27_MD657_1_0130_cropped_down32/MD657-N71-2017.02.22-18.34.41_MD657_2_0212_alignedTo_MD657-F44-2017.02.18-06.06.27_MD657_1_0130_cropped_down32_sp5_denseScoreMap_setting_30.bp\n"
     ]
    },
    {
     "name": "stderr",
     "output_type": "stream",
     "text": [
      "Child returned 1\n",
      "0.34 seconds.\n",
      "Child returned 0\n"
     ]
    },
    {
     "name": "stdout",
     "output_type": "stream",
     "text": [
      "rm -rf /shared/CSHL_scoremaps_down32/MD657/MD657-N72-2017.02.22-18.38.06_MD657_1_0214_alignedTo_MD657-F44-2017.02.18-06.06.27_MD657_1_0130_cropped_down32/MD657-N72-2017.02.22-18.38.06_MD657_1_0214_alignedTo_MD657-F44-2017.02.18-06.06.27_MD657_1_0130_cropped_down32_sp5_denseScoreMap_setting_30.bp && mkdir -p /shared/CSHL_scoremaps_down32/MD657/MD657-N72-2017.02.22-18.38.06_MD657_1_0214_alignedTo_MD657-F44-2017.02.18-06.06.27_MD657_1_0130_cropped_down32\n",
      "aws s3 cp s3://mousebrainatlas-data/CSHL_scoremaps_down32/MD657/MD657-N72-2017.02.22-18.38.06_MD657_1_0214_alignedTo_MD657-F44-2017.02.18-06.06.27_MD657_1_0130_cropped_down32/MD657-N72-2017.02.22-18.38.06_MD657_1_0214_alignedTo_MD657-F44-2017.02.18-06.06.27_MD657_1_0130_cropped_down32_sp5_denseScoreMap_setting_30.bp /shared/CSHL_scoremaps_down32/MD657/MD657-N72-2017.02.22-18.38.06_MD657_1_0214_alignedTo_MD657-F44-2017.02.18-06.06.27_MD657_1_0130_cropped_down32/MD657-N72-2017.02.22-18.38.06_MD657_1_0214_alignedTo_MD657-F44-2017.02.18-06.06.27_MD657_1_0130_cropped_down32_sp5_denseScoreMap_setting_30.bp\n"
     ]
    },
    {
     "name": "stderr",
     "output_type": "stream",
     "text": [
      "Child returned 1\n",
      "0.34 seconds.\n",
      "Child returned 0\n"
     ]
    },
    {
     "name": "stdout",
     "output_type": "stream",
     "text": [
      "rm -rf /shared/CSHL_scoremaps_down32/MD657/MD657-N72-2017.02.22-18.38.06_MD657_2_0215_alignedTo_MD657-F44-2017.02.18-06.06.27_MD657_1_0130_cropped_down32/MD657-N72-2017.02.22-18.38.06_MD657_2_0215_alignedTo_MD657-F44-2017.02.18-06.06.27_MD657_1_0130_cropped_down32_sp5_denseScoreMap_setting_30.bp && mkdir -p /shared/CSHL_scoremaps_down32/MD657/MD657-N72-2017.02.22-18.38.06_MD657_2_0215_alignedTo_MD657-F44-2017.02.18-06.06.27_MD657_1_0130_cropped_down32\n",
      "aws s3 cp s3://mousebrainatlas-data/CSHL_scoremaps_down32/MD657/MD657-N72-2017.02.22-18.38.06_MD657_2_0215_alignedTo_MD657-F44-2017.02.18-06.06.27_MD657_1_0130_cropped_down32/MD657-N72-2017.02.22-18.38.06_MD657_2_0215_alignedTo_MD657-F44-2017.02.18-06.06.27_MD657_1_0130_cropped_down32_sp5_denseScoreMap_setting_30.bp /shared/CSHL_scoremaps_down32/MD657/MD657-N72-2017.02.22-18.38.06_MD657_2_0215_alignedTo_MD657-F44-2017.02.18-06.06.27_MD657_1_0130_cropped_down32/MD657-N72-2017.02.22-18.38.06_MD657_2_0215_alignedTo_MD657-F44-2017.02.18-06.06.27_MD657_1_0130_cropped_down32_sp5_denseScoreMap_setting_30.bp\n"
     ]
    },
    {
     "name": "stderr",
     "output_type": "stream",
     "text": [
      "Child returned 1\n",
      "0.34 seconds.\n",
      "Child returned 0\n"
     ]
    },
    {
     "name": "stdout",
     "output_type": "stream",
     "text": [
      "rm -rf /shared/CSHL_scoremaps_down32/MD657/MD657-N73-2017.02.22-18.41.32_MD657_1_0217_alignedTo_MD657-F44-2017.02.18-06.06.27_MD657_1_0130_cropped_down32/MD657-N73-2017.02.22-18.41.32_MD657_1_0217_alignedTo_MD657-F44-2017.02.18-06.06.27_MD657_1_0130_cropped_down32_sp5_denseScoreMap_setting_30.bp && mkdir -p /shared/CSHL_scoremaps_down32/MD657/MD657-N73-2017.02.22-18.41.32_MD657_1_0217_alignedTo_MD657-F44-2017.02.18-06.06.27_MD657_1_0130_cropped_down32\n",
      "aws s3 cp s3://mousebrainatlas-data/CSHL_scoremaps_down32/MD657/MD657-N73-2017.02.22-18.41.32_MD657_1_0217_alignedTo_MD657-F44-2017.02.18-06.06.27_MD657_1_0130_cropped_down32/MD657-N73-2017.02.22-18.41.32_MD657_1_0217_alignedTo_MD657-F44-2017.02.18-06.06.27_MD657_1_0130_cropped_down32_sp5_denseScoreMap_setting_30.bp /shared/CSHL_scoremaps_down32/MD657/MD657-N73-2017.02.22-18.41.32_MD657_1_0217_alignedTo_MD657-F44-2017.02.18-06.06.27_MD657_1_0130_cropped_down32/MD657-N73-2017.02.22-18.41.32_MD657_1_0217_alignedTo_MD657-F44-2017.02.18-06.06.27_MD657_1_0130_cropped_down32_sp5_denseScoreMap_setting_30.bp\n"
     ]
    },
    {
     "name": "stderr",
     "output_type": "stream",
     "text": [
      "Child returned 1\n",
      "0.33 seconds.\n",
      "Child returned 0\n"
     ]
    },
    {
     "name": "stdout",
     "output_type": "stream",
     "text": [
      "rm -rf /shared/CSHL_scoremaps_down32/MD657/MD657-N73-2017.02.22-18.41.32_MD657_2_0218_alignedTo_MD657-F44-2017.02.18-06.06.27_MD657_1_0130_cropped_down32/MD657-N73-2017.02.22-18.41.32_MD657_2_0218_alignedTo_MD657-F44-2017.02.18-06.06.27_MD657_1_0130_cropped_down32_sp5_denseScoreMap_setting_30.bp && mkdir -p /shared/CSHL_scoremaps_down32/MD657/MD657-N73-2017.02.22-18.41.32_MD657_2_0218_alignedTo_MD657-F44-2017.02.18-06.06.27_MD657_1_0130_cropped_down32\n",
      "aws s3 cp s3://mousebrainatlas-data/CSHL_scoremaps_down32/MD657/MD657-N73-2017.02.22-18.41.32_MD657_2_0218_alignedTo_MD657-F44-2017.02.18-06.06.27_MD657_1_0130_cropped_down32/MD657-N73-2017.02.22-18.41.32_MD657_2_0218_alignedTo_MD657-F44-2017.02.18-06.06.27_MD657_1_0130_cropped_down32_sp5_denseScoreMap_setting_30.bp /shared/CSHL_scoremaps_down32/MD657/MD657-N73-2017.02.22-18.41.32_MD657_2_0218_alignedTo_MD657-F44-2017.02.18-06.06.27_MD657_1_0130_cropped_down32/MD657-N73-2017.02.22-18.41.32_MD657_2_0218_alignedTo_MD657-F44-2017.02.18-06.06.27_MD657_1_0130_cropped_down32_sp5_denseScoreMap_setting_30.bp\n"
     ]
    },
    {
     "name": "stderr",
     "output_type": "stream",
     "text": [
      "Child returned 1\n",
      "0.33 seconds.\n",
      "Child returned 0\n"
     ]
    },
    {
     "name": "stdout",
     "output_type": "stream",
     "text": [
      "rm -rf /shared/CSHL_scoremaps_down32/MD657/MD657-N74-2017.02.22-18.44.55_MD657_2_0221_alignedTo_MD657-F44-2017.02.18-06.06.27_MD657_1_0130_cropped_down32/MD657-N74-2017.02.22-18.44.55_MD657_2_0221_alignedTo_MD657-F44-2017.02.18-06.06.27_MD657_1_0130_cropped_down32_sp5_denseScoreMap_setting_30.bp && mkdir -p /shared/CSHL_scoremaps_down32/MD657/MD657-N74-2017.02.22-18.44.55_MD657_2_0221_alignedTo_MD657-F44-2017.02.18-06.06.27_MD657_1_0130_cropped_down32\n",
      "aws s3 cp s3://mousebrainatlas-data/CSHL_scoremaps_down32/MD657/MD657-N74-2017.02.22-18.44.55_MD657_2_0221_alignedTo_MD657-F44-2017.02.18-06.06.27_MD657_1_0130_cropped_down32/MD657-N74-2017.02.22-18.44.55_MD657_2_0221_alignedTo_MD657-F44-2017.02.18-06.06.27_MD657_1_0130_cropped_down32_sp5_denseScoreMap_setting_30.bp /shared/CSHL_scoremaps_down32/MD657/MD657-N74-2017.02.22-18.44.55_MD657_2_0221_alignedTo_MD657-F44-2017.02.18-06.06.27_MD657_1_0130_cropped_down32/MD657-N74-2017.02.22-18.44.55_MD657_2_0221_alignedTo_MD657-F44-2017.02.18-06.06.27_MD657_1_0130_cropped_down32_sp5_denseScoreMap_setting_30.bp\n"
     ]
    },
    {
     "name": "stderr",
     "output_type": "stream",
     "text": [
      "Child returned 1\n",
      "0.35 seconds.\n",
      "Child returned 0\n"
     ]
    },
    {
     "name": "stdout",
     "output_type": "stream",
     "text": [
      "rm -rf /shared/CSHL_scoremaps_down32/MD657/MD657-N75-2017.02.22-18.48.18_MD657_1_0223_alignedTo_MD657-F44-2017.02.18-06.06.27_MD657_1_0130_cropped_down32/MD657-N75-2017.02.22-18.48.18_MD657_1_0223_alignedTo_MD657-F44-2017.02.18-06.06.27_MD657_1_0130_cropped_down32_sp5_denseScoreMap_setting_30.bp && mkdir -p /shared/CSHL_scoremaps_down32/MD657/MD657-N75-2017.02.22-18.48.18_MD657_1_0223_alignedTo_MD657-F44-2017.02.18-06.06.27_MD657_1_0130_cropped_down32\n",
      "aws s3 cp s3://mousebrainatlas-data/CSHL_scoremaps_down32/MD657/MD657-N75-2017.02.22-18.48.18_MD657_1_0223_alignedTo_MD657-F44-2017.02.18-06.06.27_MD657_1_0130_cropped_down32/MD657-N75-2017.02.22-18.48.18_MD657_1_0223_alignedTo_MD657-F44-2017.02.18-06.06.27_MD657_1_0130_cropped_down32_sp5_denseScoreMap_setting_30.bp /shared/CSHL_scoremaps_down32/MD657/MD657-N75-2017.02.22-18.48.18_MD657_1_0223_alignedTo_MD657-F44-2017.02.18-06.06.27_MD657_1_0130_cropped_down32/MD657-N75-2017.02.22-18.48.18_MD657_1_0223_alignedTo_MD657-F44-2017.02.18-06.06.27_MD657_1_0130_cropped_down32_sp5_denseScoreMap_setting_30.bp\n"
     ]
    },
    {
     "name": "stderr",
     "output_type": "stream",
     "text": [
      "Child returned 1\n",
      "0.34 seconds.\n",
      "Child returned 0\n"
     ]
    },
    {
     "name": "stdout",
     "output_type": "stream",
     "text": [
      "rm -rf /shared/CSHL_scoremaps_down32/MD657/MD657-N75-2017.02.22-18.48.18_MD657_2_0224_alignedTo_MD657-F44-2017.02.18-06.06.27_MD657_1_0130_cropped_down32/MD657-N75-2017.02.22-18.48.18_MD657_2_0224_alignedTo_MD657-F44-2017.02.18-06.06.27_MD657_1_0130_cropped_down32_sp5_denseScoreMap_setting_30.bp && mkdir -p /shared/CSHL_scoremaps_down32/MD657/MD657-N75-2017.02.22-18.48.18_MD657_2_0224_alignedTo_MD657-F44-2017.02.18-06.06.27_MD657_1_0130_cropped_down32\n",
      "aws s3 cp s3://mousebrainatlas-data/CSHL_scoremaps_down32/MD657/MD657-N75-2017.02.22-18.48.18_MD657_2_0224_alignedTo_MD657-F44-2017.02.18-06.06.27_MD657_1_0130_cropped_down32/MD657-N75-2017.02.22-18.48.18_MD657_2_0224_alignedTo_MD657-F44-2017.02.18-06.06.27_MD657_1_0130_cropped_down32_sp5_denseScoreMap_setting_30.bp /shared/CSHL_scoremaps_down32/MD657/MD657-N75-2017.02.22-18.48.18_MD657_2_0224_alignedTo_MD657-F44-2017.02.18-06.06.27_MD657_1_0130_cropped_down32/MD657-N75-2017.02.22-18.48.18_MD657_2_0224_alignedTo_MD657-F44-2017.02.18-06.06.27_MD657_1_0130_cropped_down32_sp5_denseScoreMap_setting_30.bp\n"
     ]
    },
    {
     "name": "stderr",
     "output_type": "stream",
     "text": [
      "Child returned 1\n",
      "0.35 seconds.\n",
      "Child returned 0\n"
     ]
    },
    {
     "name": "stdout",
     "output_type": "stream",
     "text": [
      "rm -rf /shared/CSHL_scoremaps_down32/MD657/MD657-N76-2017.02.22-18.51.41_MD657_1_0226_alignedTo_MD657-F44-2017.02.18-06.06.27_MD657_1_0130_cropped_down32/MD657-N76-2017.02.22-18.51.41_MD657_1_0226_alignedTo_MD657-F44-2017.02.18-06.06.27_MD657_1_0130_cropped_down32_sp5_denseScoreMap_setting_30.bp && mkdir -p /shared/CSHL_scoremaps_down32/MD657/MD657-N76-2017.02.22-18.51.41_MD657_1_0226_alignedTo_MD657-F44-2017.02.18-06.06.27_MD657_1_0130_cropped_down32\n",
      "aws s3 cp s3://mousebrainatlas-data/CSHL_scoremaps_down32/MD657/MD657-N76-2017.02.22-18.51.41_MD657_1_0226_alignedTo_MD657-F44-2017.02.18-06.06.27_MD657_1_0130_cropped_down32/MD657-N76-2017.02.22-18.51.41_MD657_1_0226_alignedTo_MD657-F44-2017.02.18-06.06.27_MD657_1_0130_cropped_down32_sp5_denseScoreMap_setting_30.bp /shared/CSHL_scoremaps_down32/MD657/MD657-N76-2017.02.22-18.51.41_MD657_1_0226_alignedTo_MD657-F44-2017.02.18-06.06.27_MD657_1_0130_cropped_down32/MD657-N76-2017.02.22-18.51.41_MD657_1_0226_alignedTo_MD657-F44-2017.02.18-06.06.27_MD657_1_0130_cropped_down32_sp5_denseScoreMap_setting_30.bp\n"
     ]
    },
    {
     "name": "stderr",
     "output_type": "stream",
     "text": [
      "Child returned 1\n",
      "0.34 seconds.\n",
      "Child returned 0\n"
     ]
    },
    {
     "name": "stdout",
     "output_type": "stream",
     "text": [
      "rm -rf /shared/CSHL_scoremaps_down32/MD657/MD657-N76-2017.02.22-18.51.41_MD657_2_0227_alignedTo_MD657-F44-2017.02.18-06.06.27_MD657_1_0130_cropped_down32/MD657-N76-2017.02.22-18.51.41_MD657_2_0227_alignedTo_MD657-F44-2017.02.18-06.06.27_MD657_1_0130_cropped_down32_sp5_denseScoreMap_setting_30.bp && mkdir -p /shared/CSHL_scoremaps_down32/MD657/MD657-N76-2017.02.22-18.51.41_MD657_2_0227_alignedTo_MD657-F44-2017.02.18-06.06.27_MD657_1_0130_cropped_down32\n",
      "aws s3 cp s3://mousebrainatlas-data/CSHL_scoremaps_down32/MD657/MD657-N76-2017.02.22-18.51.41_MD657_2_0227_alignedTo_MD657-F44-2017.02.18-06.06.27_MD657_1_0130_cropped_down32/MD657-N76-2017.02.22-18.51.41_MD657_2_0227_alignedTo_MD657-F44-2017.02.18-06.06.27_MD657_1_0130_cropped_down32_sp5_denseScoreMap_setting_30.bp /shared/CSHL_scoremaps_down32/MD657/MD657-N76-2017.02.22-18.51.41_MD657_2_0227_alignedTo_MD657-F44-2017.02.18-06.06.27_MD657_1_0130_cropped_down32/MD657-N76-2017.02.22-18.51.41_MD657_2_0227_alignedTo_MD657-F44-2017.02.18-06.06.27_MD657_1_0130_cropped_down32_sp5_denseScoreMap_setting_30.bp\n"
     ]
    },
    {
     "name": "stderr",
     "output_type": "stream",
     "text": [
      "Child returned 1\n",
      "0.34 seconds.\n",
      "Child returned 0\n"
     ]
    },
    {
     "name": "stdout",
     "output_type": "stream",
     "text": [
      "rm -rf /shared/CSHL_scoremaps_down32/MD657/MD657-N77-2017.02.22-18.55.01_MD657_1_0229_alignedTo_MD657-F44-2017.02.18-06.06.27_MD657_1_0130_cropped_down32/MD657-N77-2017.02.22-18.55.01_MD657_1_0229_alignedTo_MD657-F44-2017.02.18-06.06.27_MD657_1_0130_cropped_down32_sp5_denseScoreMap_setting_30.bp && mkdir -p /shared/CSHL_scoremaps_down32/MD657/MD657-N77-2017.02.22-18.55.01_MD657_1_0229_alignedTo_MD657-F44-2017.02.18-06.06.27_MD657_1_0130_cropped_down32\n",
      "aws s3 cp s3://mousebrainatlas-data/CSHL_scoremaps_down32/MD657/MD657-N77-2017.02.22-18.55.01_MD657_1_0229_alignedTo_MD657-F44-2017.02.18-06.06.27_MD657_1_0130_cropped_down32/MD657-N77-2017.02.22-18.55.01_MD657_1_0229_alignedTo_MD657-F44-2017.02.18-06.06.27_MD657_1_0130_cropped_down32_sp5_denseScoreMap_setting_30.bp /shared/CSHL_scoremaps_down32/MD657/MD657-N77-2017.02.22-18.55.01_MD657_1_0229_alignedTo_MD657-F44-2017.02.18-06.06.27_MD657_1_0130_cropped_down32/MD657-N77-2017.02.22-18.55.01_MD657_1_0229_alignedTo_MD657-F44-2017.02.18-06.06.27_MD657_1_0130_cropped_down32_sp5_denseScoreMap_setting_30.bp\n"
     ]
    },
    {
     "name": "stderr",
     "output_type": "stream",
     "text": [
      "Child returned 1\n",
      "0.32 seconds.\n",
      "Child returned 0\n"
     ]
    },
    {
     "name": "stdout",
     "output_type": "stream",
     "text": [
      "rm -rf /shared/CSHL_scoremaps_down32/MD657/MD657-N77-2017.02.22-18.55.01_MD657_2_0230_alignedTo_MD657-F44-2017.02.18-06.06.27_MD657_1_0130_cropped_down32/MD657-N77-2017.02.22-18.55.01_MD657_2_0230_alignedTo_MD657-F44-2017.02.18-06.06.27_MD657_1_0130_cropped_down32_sp5_denseScoreMap_setting_30.bp && mkdir -p /shared/CSHL_scoremaps_down32/MD657/MD657-N77-2017.02.22-18.55.01_MD657_2_0230_alignedTo_MD657-F44-2017.02.18-06.06.27_MD657_1_0130_cropped_down32\n",
      "aws s3 cp s3://mousebrainatlas-data/CSHL_scoremaps_down32/MD657/MD657-N77-2017.02.22-18.55.01_MD657_2_0230_alignedTo_MD657-F44-2017.02.18-06.06.27_MD657_1_0130_cropped_down32/MD657-N77-2017.02.22-18.55.01_MD657_2_0230_alignedTo_MD657-F44-2017.02.18-06.06.27_MD657_1_0130_cropped_down32_sp5_denseScoreMap_setting_30.bp /shared/CSHL_scoremaps_down32/MD657/MD657-N77-2017.02.22-18.55.01_MD657_2_0230_alignedTo_MD657-F44-2017.02.18-06.06.27_MD657_1_0130_cropped_down32/MD657-N77-2017.02.22-18.55.01_MD657_2_0230_alignedTo_MD657-F44-2017.02.18-06.06.27_MD657_1_0130_cropped_down32_sp5_denseScoreMap_setting_30.bp\n"
     ]
    },
    {
     "name": "stderr",
     "output_type": "stream",
     "text": [
      "Child returned 1\n",
      "0.34 seconds.\n",
      "Number of valid scoremaps for sp5 is less than 2.\n",
      "Child returned 0\n"
     ]
    },
    {
     "name": "stdout",
     "output_type": "stream",
     "text": [
      "0 scoremaps loaded.\n",
      "outerContour\n",
      "rm -rf /shared/CSHL_scoremaps_down32/MD657/MD657-N13-2017.02.22-14.33.34_MD657_3_0039_alignedTo_MD657-F44-2017.02.18-06.06.27_MD657_1_0130_cropped_down32/MD657-N13-2017.02.22-14.33.34_MD657_3_0039_alignedTo_MD657-F44-2017.02.18-06.06.27_MD657_1_0130_cropped_down32_outerContour_denseScoreMap_setting_30.bp && mkdir -p /shared/CSHL_scoremaps_down32/MD657/MD657-N13-2017.02.22-14.33.34_MD657_3_0039_alignedTo_MD657-F44-2017.02.18-06.06.27_MD657_1_0130_cropped_down32\n",
      "aws s3 cp s3://mousebrainatlas-data/CSHL_scoremaps_down32/MD657/MD657-N13-2017.02.22-14.33.34_MD657_3_0039_alignedTo_MD657-F44-2017.02.18-06.06.27_MD657_1_0130_cropped_down32/MD657-N13-2017.02.22-14.33.34_MD657_3_0039_alignedTo_MD657-F44-2017.02.18-06.06.27_MD657_1_0130_cropped_down32_outerContour_denseScoreMap_setting_30.bp /shared/CSHL_scoremaps_down32/MD657/MD657-N13-2017.02.22-14.33.34_MD657_3_0039_alignedTo_MD657-F44-2017.02.18-06.06.27_MD657_1_0130_cropped_down32/MD657-N13-2017.02.22-14.33.34_MD657_3_0039_alignedTo_MD657-F44-2017.02.18-06.06.27_MD657_1_0130_cropped_down32_outerContour_denseScoreMap_setting_30.bp\n"
     ]
    },
    {
     "name": "stderr",
     "output_type": "stream",
     "text": [
      "Child returned 1\n",
      "0.32 seconds.\n",
      "Child returned 0\n"
     ]
    },
    {
     "name": "stdout",
     "output_type": "stream",
     "text": [
      "rm -rf /shared/CSHL_scoremaps_down32/MD657/MD657-N14-2017.02.22-14.37.44_MD657_1_0040_alignedTo_MD657-F44-2017.02.18-06.06.27_MD657_1_0130_cropped_down32/MD657-N14-2017.02.22-14.37.44_MD657_1_0040_alignedTo_MD657-F44-2017.02.18-06.06.27_MD657_1_0130_cropped_down32_outerContour_denseScoreMap_setting_30.bp && mkdir -p /shared/CSHL_scoremaps_down32/MD657/MD657-N14-2017.02.22-14.37.44_MD657_1_0040_alignedTo_MD657-F44-2017.02.18-06.06.27_MD657_1_0130_cropped_down32\n",
      "aws s3 cp s3://mousebrainatlas-data/CSHL_scoremaps_down32/MD657/MD657-N14-2017.02.22-14.37.44_MD657_1_0040_alignedTo_MD657-F44-2017.02.18-06.06.27_MD657_1_0130_cropped_down32/MD657-N14-2017.02.22-14.37.44_MD657_1_0040_alignedTo_MD657-F44-2017.02.18-06.06.27_MD657_1_0130_cropped_down32_outerContour_denseScoreMap_setting_30.bp /shared/CSHL_scoremaps_down32/MD657/MD657-N14-2017.02.22-14.37.44_MD657_1_0040_alignedTo_MD657-F44-2017.02.18-06.06.27_MD657_1_0130_cropped_down32/MD657-N14-2017.02.22-14.37.44_MD657_1_0040_alignedTo_MD657-F44-2017.02.18-06.06.27_MD657_1_0130_cropped_down32_outerContour_denseScoreMap_setting_30.bp\n"
     ]
    },
    {
     "name": "stderr",
     "output_type": "stream",
     "text": [
      "Child returned 1\n",
      "0.32 seconds.\n",
      "Child returned 0\n"
     ]
    },
    {
     "name": "stdout",
     "output_type": "stream",
     "text": [
      "rm -rf /shared/CSHL_scoremaps_down32/MD657/MD657-N14-2017.02.22-14.37.44_MD657_2_0041_alignedTo_MD657-F44-2017.02.18-06.06.27_MD657_1_0130_cropped_down32/MD657-N14-2017.02.22-14.37.44_MD657_2_0041_alignedTo_MD657-F44-2017.02.18-06.06.27_MD657_1_0130_cropped_down32_outerContour_denseScoreMap_setting_30.bp && mkdir -p /shared/CSHL_scoremaps_down32/MD657/MD657-N14-2017.02.22-14.37.44_MD657_2_0041_alignedTo_MD657-F44-2017.02.18-06.06.27_MD657_1_0130_cropped_down32\n",
      "aws s3 cp s3://mousebrainatlas-data/CSHL_scoremaps_down32/MD657/MD657-N14-2017.02.22-14.37.44_MD657_2_0041_alignedTo_MD657-F44-2017.02.18-06.06.27_MD657_1_0130_cropped_down32/MD657-N14-2017.02.22-14.37.44_MD657_2_0041_alignedTo_MD657-F44-2017.02.18-06.06.27_MD657_1_0130_cropped_down32_outerContour_denseScoreMap_setting_30.bp /shared/CSHL_scoremaps_down32/MD657/MD657-N14-2017.02.22-14.37.44_MD657_2_0041_alignedTo_MD657-F44-2017.02.18-06.06.27_MD657_1_0130_cropped_down32/MD657-N14-2017.02.22-14.37.44_MD657_2_0041_alignedTo_MD657-F44-2017.02.18-06.06.27_MD657_1_0130_cropped_down32_outerContour_denseScoreMap_setting_30.bp\n"
     ]
    },
    {
     "name": "stderr",
     "output_type": "stream",
     "text": [
      "Child returned 1\n",
      "0.34 seconds.\n",
      "Child returned 0\n"
     ]
    },
    {
     "name": "stdout",
     "output_type": "stream",
     "text": [
      "rm -rf /shared/CSHL_scoremaps_down32/MD657/MD657-N14-2017.02.22-14.37.44_MD657_3_0042_alignedTo_MD657-F44-2017.02.18-06.06.27_MD657_1_0130_cropped_down32/MD657-N14-2017.02.22-14.37.44_MD657_3_0042_alignedTo_MD657-F44-2017.02.18-06.06.27_MD657_1_0130_cropped_down32_outerContour_denseScoreMap_setting_30.bp && mkdir -p /shared/CSHL_scoremaps_down32/MD657/MD657-N14-2017.02.22-14.37.44_MD657_3_0042_alignedTo_MD657-F44-2017.02.18-06.06.27_MD657_1_0130_cropped_down32\n",
      "aws s3 cp s3://mousebrainatlas-data/CSHL_scoremaps_down32/MD657/MD657-N14-2017.02.22-14.37.44_MD657_3_0042_alignedTo_MD657-F44-2017.02.18-06.06.27_MD657_1_0130_cropped_down32/MD657-N14-2017.02.22-14.37.44_MD657_3_0042_alignedTo_MD657-F44-2017.02.18-06.06.27_MD657_1_0130_cropped_down32_outerContour_denseScoreMap_setting_30.bp /shared/CSHL_scoremaps_down32/MD657/MD657-N14-2017.02.22-14.37.44_MD657_3_0042_alignedTo_MD657-F44-2017.02.18-06.06.27_MD657_1_0130_cropped_down32/MD657-N14-2017.02.22-14.37.44_MD657_3_0042_alignedTo_MD657-F44-2017.02.18-06.06.27_MD657_1_0130_cropped_down32_outerContour_denseScoreMap_setting_30.bp\n"
     ]
    },
    {
     "name": "stderr",
     "output_type": "stream",
     "text": [
      "Child returned 1\n",
      "0.33 seconds.\n",
      "Child returned 0\n"
     ]
    },
    {
     "name": "stdout",
     "output_type": "stream",
     "text": [
      "rm -rf /shared/CSHL_scoremaps_down32/MD657/MD657-N15-2017.02.22-14.41.51_MD657_1_0043_alignedTo_MD657-F44-2017.02.18-06.06.27_MD657_1_0130_cropped_down32/MD657-N15-2017.02.22-14.41.51_MD657_1_0043_alignedTo_MD657-F44-2017.02.18-06.06.27_MD657_1_0130_cropped_down32_outerContour_denseScoreMap_setting_30.bp && mkdir -p /shared/CSHL_scoremaps_down32/MD657/MD657-N15-2017.02.22-14.41.51_MD657_1_0043_alignedTo_MD657-F44-2017.02.18-06.06.27_MD657_1_0130_cropped_down32\n",
      "aws s3 cp s3://mousebrainatlas-data/CSHL_scoremaps_down32/MD657/MD657-N15-2017.02.22-14.41.51_MD657_1_0043_alignedTo_MD657-F44-2017.02.18-06.06.27_MD657_1_0130_cropped_down32/MD657-N15-2017.02.22-14.41.51_MD657_1_0043_alignedTo_MD657-F44-2017.02.18-06.06.27_MD657_1_0130_cropped_down32_outerContour_denseScoreMap_setting_30.bp /shared/CSHL_scoremaps_down32/MD657/MD657-N15-2017.02.22-14.41.51_MD657_1_0043_alignedTo_MD657-F44-2017.02.18-06.06.27_MD657_1_0130_cropped_down32/MD657-N15-2017.02.22-14.41.51_MD657_1_0043_alignedTo_MD657-F44-2017.02.18-06.06.27_MD657_1_0130_cropped_down32_outerContour_denseScoreMap_setting_30.bp\n"
     ]
    },
    {
     "name": "stderr",
     "output_type": "stream",
     "text": [
      "Child returned 1\n",
      "0.36 seconds.\n",
      "Child returned 0\n"
     ]
    },
    {
     "name": "stdout",
     "output_type": "stream",
     "text": [
      "rm -rf /shared/CSHL_scoremaps_down32/MD657/MD657-N15-2017.02.22-14.41.51_MD657_2_0044_alignedTo_MD657-F44-2017.02.18-06.06.27_MD657_1_0130_cropped_down32/MD657-N15-2017.02.22-14.41.51_MD657_2_0044_alignedTo_MD657-F44-2017.02.18-06.06.27_MD657_1_0130_cropped_down32_outerContour_denseScoreMap_setting_30.bp && mkdir -p /shared/CSHL_scoremaps_down32/MD657/MD657-N15-2017.02.22-14.41.51_MD657_2_0044_alignedTo_MD657-F44-2017.02.18-06.06.27_MD657_1_0130_cropped_down32\n",
      "aws s3 cp s3://mousebrainatlas-data/CSHL_scoremaps_down32/MD657/MD657-N15-2017.02.22-14.41.51_MD657_2_0044_alignedTo_MD657-F44-2017.02.18-06.06.27_MD657_1_0130_cropped_down32/MD657-N15-2017.02.22-14.41.51_MD657_2_0044_alignedTo_MD657-F44-2017.02.18-06.06.27_MD657_1_0130_cropped_down32_outerContour_denseScoreMap_setting_30.bp /shared/CSHL_scoremaps_down32/MD657/MD657-N15-2017.02.22-14.41.51_MD657_2_0044_alignedTo_MD657-F44-2017.02.18-06.06.27_MD657_1_0130_cropped_down32/MD657-N15-2017.02.22-14.41.51_MD657_2_0044_alignedTo_MD657-F44-2017.02.18-06.06.27_MD657_1_0130_cropped_down32_outerContour_denseScoreMap_setting_30.bp\n"
     ]
    },
    {
     "name": "stderr",
     "output_type": "stream",
     "text": [
      "Child returned 1\n",
      "0.34 seconds.\n",
      "Child returned 0\n"
     ]
    },
    {
     "name": "stdout",
     "output_type": "stream",
     "text": [
      "rm -rf /shared/CSHL_scoremaps_down32/MD657/MD657-N15-2017.02.22-14.41.51_MD657_3_0045_alignedTo_MD657-F44-2017.02.18-06.06.27_MD657_1_0130_cropped_down32/MD657-N15-2017.02.22-14.41.51_MD657_3_0045_alignedTo_MD657-F44-2017.02.18-06.06.27_MD657_1_0130_cropped_down32_outerContour_denseScoreMap_setting_30.bp && mkdir -p /shared/CSHL_scoremaps_down32/MD657/MD657-N15-2017.02.22-14.41.51_MD657_3_0045_alignedTo_MD657-F44-2017.02.18-06.06.27_MD657_1_0130_cropped_down32\n",
      "aws s3 cp s3://mousebrainatlas-data/CSHL_scoremaps_down32/MD657/MD657-N15-2017.02.22-14.41.51_MD657_3_0045_alignedTo_MD657-F44-2017.02.18-06.06.27_MD657_1_0130_cropped_down32/MD657-N15-2017.02.22-14.41.51_MD657_3_0045_alignedTo_MD657-F44-2017.02.18-06.06.27_MD657_1_0130_cropped_down32_outerContour_denseScoreMap_setting_30.bp /shared/CSHL_scoremaps_down32/MD657/MD657-N15-2017.02.22-14.41.51_MD657_3_0045_alignedTo_MD657-F44-2017.02.18-06.06.27_MD657_1_0130_cropped_down32/MD657-N15-2017.02.22-14.41.51_MD657_3_0045_alignedTo_MD657-F44-2017.02.18-06.06.27_MD657_1_0130_cropped_down32_outerContour_denseScoreMap_setting_30.bp\n"
     ]
    },
    {
     "name": "stderr",
     "output_type": "stream",
     "text": [
      "Child returned 1\n",
      "0.34 seconds.\n",
      "Child returned 0\n"
     ]
    },
    {
     "name": "stdout",
     "output_type": "stream",
     "text": [
      "rm -rf /shared/CSHL_scoremaps_down32/MD657/MD657-N16-2017.02.27-16.09.46_MD657_1_0046_alignedTo_MD657-F44-2017.02.18-06.06.27_MD657_1_0130_cropped_down32/MD657-N16-2017.02.27-16.09.46_MD657_1_0046_alignedTo_MD657-F44-2017.02.18-06.06.27_MD657_1_0130_cropped_down32_outerContour_denseScoreMap_setting_30.bp && mkdir -p /shared/CSHL_scoremaps_down32/MD657/MD657-N16-2017.02.27-16.09.46_MD657_1_0046_alignedTo_MD657-F44-2017.02.18-06.06.27_MD657_1_0130_cropped_down32\n",
      "aws s3 cp s3://mousebrainatlas-data/CSHL_scoremaps_down32/MD657/MD657-N16-2017.02.27-16.09.46_MD657_1_0046_alignedTo_MD657-F44-2017.02.18-06.06.27_MD657_1_0130_cropped_down32/MD657-N16-2017.02.27-16.09.46_MD657_1_0046_alignedTo_MD657-F44-2017.02.18-06.06.27_MD657_1_0130_cropped_down32_outerContour_denseScoreMap_setting_30.bp /shared/CSHL_scoremaps_down32/MD657/MD657-N16-2017.02.27-16.09.46_MD657_1_0046_alignedTo_MD657-F44-2017.02.18-06.06.27_MD657_1_0130_cropped_down32/MD657-N16-2017.02.27-16.09.46_MD657_1_0046_alignedTo_MD657-F44-2017.02.18-06.06.27_MD657_1_0130_cropped_down32_outerContour_denseScoreMap_setting_30.bp\n"
     ]
    },
    {
     "name": "stderr",
     "output_type": "stream",
     "text": [
      "Child returned 1\n",
      "0.34 seconds.\n",
      "Child returned 0\n"
     ]
    },
    {
     "name": "stdout",
     "output_type": "stream",
     "text": [
      "rm -rf /shared/CSHL_scoremaps_down32/MD657/MD657-N16-2017.02.27-16.09.46_MD657_2_0047_alignedTo_MD657-F44-2017.02.18-06.06.27_MD657_1_0130_cropped_down32/MD657-N16-2017.02.27-16.09.46_MD657_2_0047_alignedTo_MD657-F44-2017.02.18-06.06.27_MD657_1_0130_cropped_down32_outerContour_denseScoreMap_setting_30.bp && mkdir -p /shared/CSHL_scoremaps_down32/MD657/MD657-N16-2017.02.27-16.09.46_MD657_2_0047_alignedTo_MD657-F44-2017.02.18-06.06.27_MD657_1_0130_cropped_down32\n",
      "aws s3 cp s3://mousebrainatlas-data/CSHL_scoremaps_down32/MD657/MD657-N16-2017.02.27-16.09.46_MD657_2_0047_alignedTo_MD657-F44-2017.02.18-06.06.27_MD657_1_0130_cropped_down32/MD657-N16-2017.02.27-16.09.46_MD657_2_0047_alignedTo_MD657-F44-2017.02.18-06.06.27_MD657_1_0130_cropped_down32_outerContour_denseScoreMap_setting_30.bp /shared/CSHL_scoremaps_down32/MD657/MD657-N16-2017.02.27-16.09.46_MD657_2_0047_alignedTo_MD657-F44-2017.02.18-06.06.27_MD657_1_0130_cropped_down32/MD657-N16-2017.02.27-16.09.46_MD657_2_0047_alignedTo_MD657-F44-2017.02.18-06.06.27_MD657_1_0130_cropped_down32_outerContour_denseScoreMap_setting_30.bp\n"
     ]
    },
    {
     "name": "stderr",
     "output_type": "stream",
     "text": [
      "Child returned 1\n",
      "0.35 seconds.\n",
      "Child returned 0\n"
     ]
    },
    {
     "name": "stdout",
     "output_type": "stream",
     "text": [
      "rm -rf /shared/CSHL_scoremaps_down32/MD657/MD657-N16-2017.02.27-16.09.46_MD657_3_0048_alignedTo_MD657-F44-2017.02.18-06.06.27_MD657_1_0130_cropped_down32/MD657-N16-2017.02.27-16.09.46_MD657_3_0048_alignedTo_MD657-F44-2017.02.18-06.06.27_MD657_1_0130_cropped_down32_outerContour_denseScoreMap_setting_30.bp && mkdir -p /shared/CSHL_scoremaps_down32/MD657/MD657-N16-2017.02.27-16.09.46_MD657_3_0048_alignedTo_MD657-F44-2017.02.18-06.06.27_MD657_1_0130_cropped_down32\n",
      "aws s3 cp s3://mousebrainatlas-data/CSHL_scoremaps_down32/MD657/MD657-N16-2017.02.27-16.09.46_MD657_3_0048_alignedTo_MD657-F44-2017.02.18-06.06.27_MD657_1_0130_cropped_down32/MD657-N16-2017.02.27-16.09.46_MD657_3_0048_alignedTo_MD657-F44-2017.02.18-06.06.27_MD657_1_0130_cropped_down32_outerContour_denseScoreMap_setting_30.bp /shared/CSHL_scoremaps_down32/MD657/MD657-N16-2017.02.27-16.09.46_MD657_3_0048_alignedTo_MD657-F44-2017.02.18-06.06.27_MD657_1_0130_cropped_down32/MD657-N16-2017.02.27-16.09.46_MD657_3_0048_alignedTo_MD657-F44-2017.02.18-06.06.27_MD657_1_0130_cropped_down32_outerContour_denseScoreMap_setting_30.bp\n"
     ]
    },
    {
     "name": "stderr",
     "output_type": "stream",
     "text": [
      "Child returned 1\n",
      "0.35 seconds.\n",
      "Child returned 0\n"
     ]
    },
    {
     "name": "stdout",
     "output_type": "stream",
     "text": [
      "rm -rf /shared/CSHL_scoremaps_down32/MD657/MD657-N17-2017.02.22-14.45.59_MD657_1_0049_alignedTo_MD657-F44-2017.02.18-06.06.27_MD657_1_0130_cropped_down32/MD657-N17-2017.02.22-14.45.59_MD657_1_0049_alignedTo_MD657-F44-2017.02.18-06.06.27_MD657_1_0130_cropped_down32_outerContour_denseScoreMap_setting_30.bp && mkdir -p /shared/CSHL_scoremaps_down32/MD657/MD657-N17-2017.02.22-14.45.59_MD657_1_0049_alignedTo_MD657-F44-2017.02.18-06.06.27_MD657_1_0130_cropped_down32\n",
      "aws s3 cp s3://mousebrainatlas-data/CSHL_scoremaps_down32/MD657/MD657-N17-2017.02.22-14.45.59_MD657_1_0049_alignedTo_MD657-F44-2017.02.18-06.06.27_MD657_1_0130_cropped_down32/MD657-N17-2017.02.22-14.45.59_MD657_1_0049_alignedTo_MD657-F44-2017.02.18-06.06.27_MD657_1_0130_cropped_down32_outerContour_denseScoreMap_setting_30.bp /shared/CSHL_scoremaps_down32/MD657/MD657-N17-2017.02.22-14.45.59_MD657_1_0049_alignedTo_MD657-F44-2017.02.18-06.06.27_MD657_1_0130_cropped_down32/MD657-N17-2017.02.22-14.45.59_MD657_1_0049_alignedTo_MD657-F44-2017.02.18-06.06.27_MD657_1_0130_cropped_down32_outerContour_denseScoreMap_setting_30.bp\n"
     ]
    },
    {
     "name": "stderr",
     "output_type": "stream",
     "text": [
      "Child returned 1\n",
      "0.33 seconds.\n",
      "Child returned 0\n"
     ]
    },
    {
     "name": "stdout",
     "output_type": "stream",
     "text": [
      "rm -rf /shared/CSHL_scoremaps_down32/MD657/MD657-N17-2017.02.22-14.45.59_MD657_2_0050_alignedTo_MD657-F44-2017.02.18-06.06.27_MD657_1_0130_cropped_down32/MD657-N17-2017.02.22-14.45.59_MD657_2_0050_alignedTo_MD657-F44-2017.02.18-06.06.27_MD657_1_0130_cropped_down32_outerContour_denseScoreMap_setting_30.bp && mkdir -p /shared/CSHL_scoremaps_down32/MD657/MD657-N17-2017.02.22-14.45.59_MD657_2_0050_alignedTo_MD657-F44-2017.02.18-06.06.27_MD657_1_0130_cropped_down32\n",
      "aws s3 cp s3://mousebrainatlas-data/CSHL_scoremaps_down32/MD657/MD657-N17-2017.02.22-14.45.59_MD657_2_0050_alignedTo_MD657-F44-2017.02.18-06.06.27_MD657_1_0130_cropped_down32/MD657-N17-2017.02.22-14.45.59_MD657_2_0050_alignedTo_MD657-F44-2017.02.18-06.06.27_MD657_1_0130_cropped_down32_outerContour_denseScoreMap_setting_30.bp /shared/CSHL_scoremaps_down32/MD657/MD657-N17-2017.02.22-14.45.59_MD657_2_0050_alignedTo_MD657-F44-2017.02.18-06.06.27_MD657_1_0130_cropped_down32/MD657-N17-2017.02.22-14.45.59_MD657_2_0050_alignedTo_MD657-F44-2017.02.18-06.06.27_MD657_1_0130_cropped_down32_outerContour_denseScoreMap_setting_30.bp\n"
     ]
    },
    {
     "name": "stderr",
     "output_type": "stream",
     "text": [
      "Child returned 1\n",
      "0.34 seconds.\n",
      "Child returned 0\n"
     ]
    },
    {
     "name": "stdout",
     "output_type": "stream",
     "text": [
      "rm -rf /shared/CSHL_scoremaps_down32/MD657/MD657-N17-2017.02.22-14.45.59_MD657_3_0051_alignedTo_MD657-F44-2017.02.18-06.06.27_MD657_1_0130_cropped_down32/MD657-N17-2017.02.22-14.45.59_MD657_3_0051_alignedTo_MD657-F44-2017.02.18-06.06.27_MD657_1_0130_cropped_down32_outerContour_denseScoreMap_setting_30.bp && mkdir -p /shared/CSHL_scoremaps_down32/MD657/MD657-N17-2017.02.22-14.45.59_MD657_3_0051_alignedTo_MD657-F44-2017.02.18-06.06.27_MD657_1_0130_cropped_down32\n",
      "aws s3 cp s3://mousebrainatlas-data/CSHL_scoremaps_down32/MD657/MD657-N17-2017.02.22-14.45.59_MD657_3_0051_alignedTo_MD657-F44-2017.02.18-06.06.27_MD657_1_0130_cropped_down32/MD657-N17-2017.02.22-14.45.59_MD657_3_0051_alignedTo_MD657-F44-2017.02.18-06.06.27_MD657_1_0130_cropped_down32_outerContour_denseScoreMap_setting_30.bp /shared/CSHL_scoremaps_down32/MD657/MD657-N17-2017.02.22-14.45.59_MD657_3_0051_alignedTo_MD657-F44-2017.02.18-06.06.27_MD657_1_0130_cropped_down32/MD657-N17-2017.02.22-14.45.59_MD657_3_0051_alignedTo_MD657-F44-2017.02.18-06.06.27_MD657_1_0130_cropped_down32_outerContour_denseScoreMap_setting_30.bp\n"
     ]
    },
    {
     "name": "stderr",
     "output_type": "stream",
     "text": [
      "Child returned 1\n",
      "0.33 seconds.\n",
      "Child returned 0\n"
     ]
    },
    {
     "name": "stdout",
     "output_type": "stream",
     "text": [
      "rm -rf /shared/CSHL_scoremaps_down32/MD657/MD657-N18-2017.02.22-14.50.24_MD657_1_0052_alignedTo_MD657-F44-2017.02.18-06.06.27_MD657_1_0130_cropped_down32/MD657-N18-2017.02.22-14.50.24_MD657_1_0052_alignedTo_MD657-F44-2017.02.18-06.06.27_MD657_1_0130_cropped_down32_outerContour_denseScoreMap_setting_30.bp && mkdir -p /shared/CSHL_scoremaps_down32/MD657/MD657-N18-2017.02.22-14.50.24_MD657_1_0052_alignedTo_MD657-F44-2017.02.18-06.06.27_MD657_1_0130_cropped_down32\n",
      "aws s3 cp s3://mousebrainatlas-data/CSHL_scoremaps_down32/MD657/MD657-N18-2017.02.22-14.50.24_MD657_1_0052_alignedTo_MD657-F44-2017.02.18-06.06.27_MD657_1_0130_cropped_down32/MD657-N18-2017.02.22-14.50.24_MD657_1_0052_alignedTo_MD657-F44-2017.02.18-06.06.27_MD657_1_0130_cropped_down32_outerContour_denseScoreMap_setting_30.bp /shared/CSHL_scoremaps_down32/MD657/MD657-N18-2017.02.22-14.50.24_MD657_1_0052_alignedTo_MD657-F44-2017.02.18-06.06.27_MD657_1_0130_cropped_down32/MD657-N18-2017.02.22-14.50.24_MD657_1_0052_alignedTo_MD657-F44-2017.02.18-06.06.27_MD657_1_0130_cropped_down32_outerContour_denseScoreMap_setting_30.bp\n"
     ]
    },
    {
     "name": "stderr",
     "output_type": "stream",
     "text": [
      "Child returned 1\n",
      "0.35 seconds.\n",
      "Child returned 0\n"
     ]
    },
    {
     "name": "stdout",
     "output_type": "stream",
     "text": [
      "rm -rf /shared/CSHL_scoremaps_down32/MD657/MD657-N18-2017.02.22-14.50.24_MD657_2_0053_alignedTo_MD657-F44-2017.02.18-06.06.27_MD657_1_0130_cropped_down32/MD657-N18-2017.02.22-14.50.24_MD657_2_0053_alignedTo_MD657-F44-2017.02.18-06.06.27_MD657_1_0130_cropped_down32_outerContour_denseScoreMap_setting_30.bp && mkdir -p /shared/CSHL_scoremaps_down32/MD657/MD657-N18-2017.02.22-14.50.24_MD657_2_0053_alignedTo_MD657-F44-2017.02.18-06.06.27_MD657_1_0130_cropped_down32\n",
      "aws s3 cp s3://mousebrainatlas-data/CSHL_scoremaps_down32/MD657/MD657-N18-2017.02.22-14.50.24_MD657_2_0053_alignedTo_MD657-F44-2017.02.18-06.06.27_MD657_1_0130_cropped_down32/MD657-N18-2017.02.22-14.50.24_MD657_2_0053_alignedTo_MD657-F44-2017.02.18-06.06.27_MD657_1_0130_cropped_down32_outerContour_denseScoreMap_setting_30.bp /shared/CSHL_scoremaps_down32/MD657/MD657-N18-2017.02.22-14.50.24_MD657_2_0053_alignedTo_MD657-F44-2017.02.18-06.06.27_MD657_1_0130_cropped_down32/MD657-N18-2017.02.22-14.50.24_MD657_2_0053_alignedTo_MD657-F44-2017.02.18-06.06.27_MD657_1_0130_cropped_down32_outerContour_denseScoreMap_setting_30.bp\n"
     ]
    },
    {
     "name": "stderr",
     "output_type": "stream",
     "text": [
      "Child returned 1\n",
      "0.33 seconds.\n",
      "Child returned 0\n"
     ]
    },
    {
     "name": "stdout",
     "output_type": "stream",
     "text": [
      "rm -rf /shared/CSHL_scoremaps_down32/MD657/MD657-N18-2017.02.22-14.50.24_MD657_3_0054_alignedTo_MD657-F44-2017.02.18-06.06.27_MD657_1_0130_cropped_down32/MD657-N18-2017.02.22-14.50.24_MD657_3_0054_alignedTo_MD657-F44-2017.02.18-06.06.27_MD657_1_0130_cropped_down32_outerContour_denseScoreMap_setting_30.bp && mkdir -p /shared/CSHL_scoremaps_down32/MD657/MD657-N18-2017.02.22-14.50.24_MD657_3_0054_alignedTo_MD657-F44-2017.02.18-06.06.27_MD657_1_0130_cropped_down32\n",
      "aws s3 cp s3://mousebrainatlas-data/CSHL_scoremaps_down32/MD657/MD657-N18-2017.02.22-14.50.24_MD657_3_0054_alignedTo_MD657-F44-2017.02.18-06.06.27_MD657_1_0130_cropped_down32/MD657-N18-2017.02.22-14.50.24_MD657_3_0054_alignedTo_MD657-F44-2017.02.18-06.06.27_MD657_1_0130_cropped_down32_outerContour_denseScoreMap_setting_30.bp /shared/CSHL_scoremaps_down32/MD657/MD657-N18-2017.02.22-14.50.24_MD657_3_0054_alignedTo_MD657-F44-2017.02.18-06.06.27_MD657_1_0130_cropped_down32/MD657-N18-2017.02.22-14.50.24_MD657_3_0054_alignedTo_MD657-F44-2017.02.18-06.06.27_MD657_1_0130_cropped_down32_outerContour_denseScoreMap_setting_30.bp\n"
     ]
    },
    {
     "name": "stderr",
     "output_type": "stream",
     "text": [
      "Child returned 1\n",
      "0.33 seconds.\n",
      "Child returned 0\n"
     ]
    },
    {
     "name": "stdout",
     "output_type": "stream",
     "text": [
      "rm -rf /shared/CSHL_scoremaps_down32/MD657/MD657-N19-2017.02.22-14.54.49_MD657_1_0055_alignedTo_MD657-F44-2017.02.18-06.06.27_MD657_1_0130_cropped_down32/MD657-N19-2017.02.22-14.54.49_MD657_1_0055_alignedTo_MD657-F44-2017.02.18-06.06.27_MD657_1_0130_cropped_down32_outerContour_denseScoreMap_setting_30.bp && mkdir -p /shared/CSHL_scoremaps_down32/MD657/MD657-N19-2017.02.22-14.54.49_MD657_1_0055_alignedTo_MD657-F44-2017.02.18-06.06.27_MD657_1_0130_cropped_down32\n",
      "aws s3 cp s3://mousebrainatlas-data/CSHL_scoremaps_down32/MD657/MD657-N19-2017.02.22-14.54.49_MD657_1_0055_alignedTo_MD657-F44-2017.02.18-06.06.27_MD657_1_0130_cropped_down32/MD657-N19-2017.02.22-14.54.49_MD657_1_0055_alignedTo_MD657-F44-2017.02.18-06.06.27_MD657_1_0130_cropped_down32_outerContour_denseScoreMap_setting_30.bp /shared/CSHL_scoremaps_down32/MD657/MD657-N19-2017.02.22-14.54.49_MD657_1_0055_alignedTo_MD657-F44-2017.02.18-06.06.27_MD657_1_0130_cropped_down32/MD657-N19-2017.02.22-14.54.49_MD657_1_0055_alignedTo_MD657-F44-2017.02.18-06.06.27_MD657_1_0130_cropped_down32_outerContour_denseScoreMap_setting_30.bp\n"
     ]
    },
    {
     "name": "stderr",
     "output_type": "stream",
     "text": [
      "Child returned 1\n",
      "0.33 seconds.\n",
      "Child returned 0\n"
     ]
    },
    {
     "name": "stdout",
     "output_type": "stream",
     "text": [
      "rm -rf /shared/CSHL_scoremaps_down32/MD657/MD657-N19-2017.02.22-14.54.49_MD657_2_0056_alignedTo_MD657-F44-2017.02.18-06.06.27_MD657_1_0130_cropped_down32/MD657-N19-2017.02.22-14.54.49_MD657_2_0056_alignedTo_MD657-F44-2017.02.18-06.06.27_MD657_1_0130_cropped_down32_outerContour_denseScoreMap_setting_30.bp && mkdir -p /shared/CSHL_scoremaps_down32/MD657/MD657-N19-2017.02.22-14.54.49_MD657_2_0056_alignedTo_MD657-F44-2017.02.18-06.06.27_MD657_1_0130_cropped_down32\n",
      "aws s3 cp s3://mousebrainatlas-data/CSHL_scoremaps_down32/MD657/MD657-N19-2017.02.22-14.54.49_MD657_2_0056_alignedTo_MD657-F44-2017.02.18-06.06.27_MD657_1_0130_cropped_down32/MD657-N19-2017.02.22-14.54.49_MD657_2_0056_alignedTo_MD657-F44-2017.02.18-06.06.27_MD657_1_0130_cropped_down32_outerContour_denseScoreMap_setting_30.bp /shared/CSHL_scoremaps_down32/MD657/MD657-N19-2017.02.22-14.54.49_MD657_2_0056_alignedTo_MD657-F44-2017.02.18-06.06.27_MD657_1_0130_cropped_down32/MD657-N19-2017.02.22-14.54.49_MD657_2_0056_alignedTo_MD657-F44-2017.02.18-06.06.27_MD657_1_0130_cropped_down32_outerContour_denseScoreMap_setting_30.bp\n"
     ]
    },
    {
     "name": "stderr",
     "output_type": "stream",
     "text": [
      "Child returned 1\n",
      "0.33 seconds.\n",
      "Child returned 0\n"
     ]
    },
    {
     "name": "stdout",
     "output_type": "stream",
     "text": [
      "rm -rf /shared/CSHL_scoremaps_down32/MD657/MD657-N19-2017.02.22-14.54.49_MD657_3_0057_alignedTo_MD657-F44-2017.02.18-06.06.27_MD657_1_0130_cropped_down32/MD657-N19-2017.02.22-14.54.49_MD657_3_0057_alignedTo_MD657-F44-2017.02.18-06.06.27_MD657_1_0130_cropped_down32_outerContour_denseScoreMap_setting_30.bp && mkdir -p /shared/CSHL_scoremaps_down32/MD657/MD657-N19-2017.02.22-14.54.49_MD657_3_0057_alignedTo_MD657-F44-2017.02.18-06.06.27_MD657_1_0130_cropped_down32\n",
      "aws s3 cp s3://mousebrainatlas-data/CSHL_scoremaps_down32/MD657/MD657-N19-2017.02.22-14.54.49_MD657_3_0057_alignedTo_MD657-F44-2017.02.18-06.06.27_MD657_1_0130_cropped_down32/MD657-N19-2017.02.22-14.54.49_MD657_3_0057_alignedTo_MD657-F44-2017.02.18-06.06.27_MD657_1_0130_cropped_down32_outerContour_denseScoreMap_setting_30.bp /shared/CSHL_scoremaps_down32/MD657/MD657-N19-2017.02.22-14.54.49_MD657_3_0057_alignedTo_MD657-F44-2017.02.18-06.06.27_MD657_1_0130_cropped_down32/MD657-N19-2017.02.22-14.54.49_MD657_3_0057_alignedTo_MD657-F44-2017.02.18-06.06.27_MD657_1_0130_cropped_down32_outerContour_denseScoreMap_setting_30.bp\n"
     ]
    },
    {
     "name": "stderr",
     "output_type": "stream",
     "text": [
      "Child returned 1\n",
      "0.33 seconds.\n",
      "Child returned 0\n"
     ]
    },
    {
     "name": "stdout",
     "output_type": "stream",
     "text": [
      "rm -rf /shared/CSHL_scoremaps_down32/MD657/MD657-N20-2017.02.22-14.59.13_MD657_1_0058_alignedTo_MD657-F44-2017.02.18-06.06.27_MD657_1_0130_cropped_down32/MD657-N20-2017.02.22-14.59.13_MD657_1_0058_alignedTo_MD657-F44-2017.02.18-06.06.27_MD657_1_0130_cropped_down32_outerContour_denseScoreMap_setting_30.bp && mkdir -p /shared/CSHL_scoremaps_down32/MD657/MD657-N20-2017.02.22-14.59.13_MD657_1_0058_alignedTo_MD657-F44-2017.02.18-06.06.27_MD657_1_0130_cropped_down32\n",
      "aws s3 cp s3://mousebrainatlas-data/CSHL_scoremaps_down32/MD657/MD657-N20-2017.02.22-14.59.13_MD657_1_0058_alignedTo_MD657-F44-2017.02.18-06.06.27_MD657_1_0130_cropped_down32/MD657-N20-2017.02.22-14.59.13_MD657_1_0058_alignedTo_MD657-F44-2017.02.18-06.06.27_MD657_1_0130_cropped_down32_outerContour_denseScoreMap_setting_30.bp /shared/CSHL_scoremaps_down32/MD657/MD657-N20-2017.02.22-14.59.13_MD657_1_0058_alignedTo_MD657-F44-2017.02.18-06.06.27_MD657_1_0130_cropped_down32/MD657-N20-2017.02.22-14.59.13_MD657_1_0058_alignedTo_MD657-F44-2017.02.18-06.06.27_MD657_1_0130_cropped_down32_outerContour_denseScoreMap_setting_30.bp\n"
     ]
    },
    {
     "name": "stderr",
     "output_type": "stream",
     "text": [
      "Child returned 1\n",
      "0.33 seconds.\n",
      "Child returned 0\n"
     ]
    },
    {
     "name": "stdout",
     "output_type": "stream",
     "text": [
      "rm -rf /shared/CSHL_scoremaps_down32/MD657/MD657-N20-2017.02.22-14.59.13_MD657_2_0059_alignedTo_MD657-F44-2017.02.18-06.06.27_MD657_1_0130_cropped_down32/MD657-N20-2017.02.22-14.59.13_MD657_2_0059_alignedTo_MD657-F44-2017.02.18-06.06.27_MD657_1_0130_cropped_down32_outerContour_denseScoreMap_setting_30.bp && mkdir -p /shared/CSHL_scoremaps_down32/MD657/MD657-N20-2017.02.22-14.59.13_MD657_2_0059_alignedTo_MD657-F44-2017.02.18-06.06.27_MD657_1_0130_cropped_down32\n",
      "aws s3 cp s3://mousebrainatlas-data/CSHL_scoremaps_down32/MD657/MD657-N20-2017.02.22-14.59.13_MD657_2_0059_alignedTo_MD657-F44-2017.02.18-06.06.27_MD657_1_0130_cropped_down32/MD657-N20-2017.02.22-14.59.13_MD657_2_0059_alignedTo_MD657-F44-2017.02.18-06.06.27_MD657_1_0130_cropped_down32_outerContour_denseScoreMap_setting_30.bp /shared/CSHL_scoremaps_down32/MD657/MD657-N20-2017.02.22-14.59.13_MD657_2_0059_alignedTo_MD657-F44-2017.02.18-06.06.27_MD657_1_0130_cropped_down32/MD657-N20-2017.02.22-14.59.13_MD657_2_0059_alignedTo_MD657-F44-2017.02.18-06.06.27_MD657_1_0130_cropped_down32_outerContour_denseScoreMap_setting_30.bp\n"
     ]
    },
    {
     "name": "stderr",
     "output_type": "stream",
     "text": [
      "Child returned 1\n",
      "0.33 seconds.\n",
      "Child returned 0\n"
     ]
    },
    {
     "name": "stdout",
     "output_type": "stream",
     "text": [
      "rm -rf /shared/CSHL_scoremaps_down32/MD657/MD657-N21-2017.02.22-15.02.22_MD657_1_0061_alignedTo_MD657-F44-2017.02.18-06.06.27_MD657_1_0130_cropped_down32/MD657-N21-2017.02.22-15.02.22_MD657_1_0061_alignedTo_MD657-F44-2017.02.18-06.06.27_MD657_1_0130_cropped_down32_outerContour_denseScoreMap_setting_30.bp && mkdir -p /shared/CSHL_scoremaps_down32/MD657/MD657-N21-2017.02.22-15.02.22_MD657_1_0061_alignedTo_MD657-F44-2017.02.18-06.06.27_MD657_1_0130_cropped_down32\n",
      "aws s3 cp s3://mousebrainatlas-data/CSHL_scoremaps_down32/MD657/MD657-N21-2017.02.22-15.02.22_MD657_1_0061_alignedTo_MD657-F44-2017.02.18-06.06.27_MD657_1_0130_cropped_down32/MD657-N21-2017.02.22-15.02.22_MD657_1_0061_alignedTo_MD657-F44-2017.02.18-06.06.27_MD657_1_0130_cropped_down32_outerContour_denseScoreMap_setting_30.bp /shared/CSHL_scoremaps_down32/MD657/MD657-N21-2017.02.22-15.02.22_MD657_1_0061_alignedTo_MD657-F44-2017.02.18-06.06.27_MD657_1_0130_cropped_down32/MD657-N21-2017.02.22-15.02.22_MD657_1_0061_alignedTo_MD657-F44-2017.02.18-06.06.27_MD657_1_0130_cropped_down32_outerContour_denseScoreMap_setting_30.bp\n"
     ]
    },
    {
     "name": "stderr",
     "output_type": "stream",
     "text": [
      "Child returned 1\n",
      "0.34 seconds.\n",
      "Child returned 0\n"
     ]
    },
    {
     "name": "stdout",
     "output_type": "stream",
     "text": [
      "rm -rf /shared/CSHL_scoremaps_down32/MD657/MD657-N21-2017.02.22-15.02.22_MD657_2_0062_alignedTo_MD657-F44-2017.02.18-06.06.27_MD657_1_0130_cropped_down32/MD657-N21-2017.02.22-15.02.22_MD657_2_0062_alignedTo_MD657-F44-2017.02.18-06.06.27_MD657_1_0130_cropped_down32_outerContour_denseScoreMap_setting_30.bp && mkdir -p /shared/CSHL_scoremaps_down32/MD657/MD657-N21-2017.02.22-15.02.22_MD657_2_0062_alignedTo_MD657-F44-2017.02.18-06.06.27_MD657_1_0130_cropped_down32\n",
      "aws s3 cp s3://mousebrainatlas-data/CSHL_scoremaps_down32/MD657/MD657-N21-2017.02.22-15.02.22_MD657_2_0062_alignedTo_MD657-F44-2017.02.18-06.06.27_MD657_1_0130_cropped_down32/MD657-N21-2017.02.22-15.02.22_MD657_2_0062_alignedTo_MD657-F44-2017.02.18-06.06.27_MD657_1_0130_cropped_down32_outerContour_denseScoreMap_setting_30.bp /shared/CSHL_scoremaps_down32/MD657/MD657-N21-2017.02.22-15.02.22_MD657_2_0062_alignedTo_MD657-F44-2017.02.18-06.06.27_MD657_1_0130_cropped_down32/MD657-N21-2017.02.22-15.02.22_MD657_2_0062_alignedTo_MD657-F44-2017.02.18-06.06.27_MD657_1_0130_cropped_down32_outerContour_denseScoreMap_setting_30.bp\n"
     ]
    },
    {
     "name": "stderr",
     "output_type": "stream",
     "text": [
      "Child returned 1\n",
      "0.35 seconds.\n",
      "Child returned 0\n"
     ]
    },
    {
     "name": "stdout",
     "output_type": "stream",
     "text": [
      "rm -rf /shared/CSHL_scoremaps_down32/MD657/MD657-N22-2017.02.22-15.05.33_MD657_1_0064_alignedTo_MD657-F44-2017.02.18-06.06.27_MD657_1_0130_cropped_down32/MD657-N22-2017.02.22-15.05.33_MD657_1_0064_alignedTo_MD657-F44-2017.02.18-06.06.27_MD657_1_0130_cropped_down32_outerContour_denseScoreMap_setting_30.bp && mkdir -p /shared/CSHL_scoremaps_down32/MD657/MD657-N22-2017.02.22-15.05.33_MD657_1_0064_alignedTo_MD657-F44-2017.02.18-06.06.27_MD657_1_0130_cropped_down32\n",
      "aws s3 cp s3://mousebrainatlas-data/CSHL_scoremaps_down32/MD657/MD657-N22-2017.02.22-15.05.33_MD657_1_0064_alignedTo_MD657-F44-2017.02.18-06.06.27_MD657_1_0130_cropped_down32/MD657-N22-2017.02.22-15.05.33_MD657_1_0064_alignedTo_MD657-F44-2017.02.18-06.06.27_MD657_1_0130_cropped_down32_outerContour_denseScoreMap_setting_30.bp /shared/CSHL_scoremaps_down32/MD657/MD657-N22-2017.02.22-15.05.33_MD657_1_0064_alignedTo_MD657-F44-2017.02.18-06.06.27_MD657_1_0130_cropped_down32/MD657-N22-2017.02.22-15.05.33_MD657_1_0064_alignedTo_MD657-F44-2017.02.18-06.06.27_MD657_1_0130_cropped_down32_outerContour_denseScoreMap_setting_30.bp\n"
     ]
    },
    {
     "name": "stderr",
     "output_type": "stream",
     "text": [
      "Child returned 1\n",
      "0.38 seconds.\n",
      "Child returned 0\n"
     ]
    },
    {
     "name": "stdout",
     "output_type": "stream",
     "text": [
      "rm -rf /shared/CSHL_scoremaps_down32/MD657/MD657-N22-2017.02.22-15.05.33_MD657_2_0065_alignedTo_MD657-F44-2017.02.18-06.06.27_MD657_1_0130_cropped_down32/MD657-N22-2017.02.22-15.05.33_MD657_2_0065_alignedTo_MD657-F44-2017.02.18-06.06.27_MD657_1_0130_cropped_down32_outerContour_denseScoreMap_setting_30.bp && mkdir -p /shared/CSHL_scoremaps_down32/MD657/MD657-N22-2017.02.22-15.05.33_MD657_2_0065_alignedTo_MD657-F44-2017.02.18-06.06.27_MD657_1_0130_cropped_down32\n",
      "aws s3 cp s3://mousebrainatlas-data/CSHL_scoremaps_down32/MD657/MD657-N22-2017.02.22-15.05.33_MD657_2_0065_alignedTo_MD657-F44-2017.02.18-06.06.27_MD657_1_0130_cropped_down32/MD657-N22-2017.02.22-15.05.33_MD657_2_0065_alignedTo_MD657-F44-2017.02.18-06.06.27_MD657_1_0130_cropped_down32_outerContour_denseScoreMap_setting_30.bp /shared/CSHL_scoremaps_down32/MD657/MD657-N22-2017.02.22-15.05.33_MD657_2_0065_alignedTo_MD657-F44-2017.02.18-06.06.27_MD657_1_0130_cropped_down32/MD657-N22-2017.02.22-15.05.33_MD657_2_0065_alignedTo_MD657-F44-2017.02.18-06.06.27_MD657_1_0130_cropped_down32_outerContour_denseScoreMap_setting_30.bp\n"
     ]
    },
    {
     "name": "stderr",
     "output_type": "stream",
     "text": [
      "Child returned 1\n",
      "0.34 seconds.\n",
      "Child returned 0\n"
     ]
    },
    {
     "name": "stdout",
     "output_type": "stream",
     "text": [
      "rm -rf /shared/CSHL_scoremaps_down32/MD657/MD657-N23-2017.02.22-15.08.47_MD657_1_0067_alignedTo_MD657-F44-2017.02.18-06.06.27_MD657_1_0130_cropped_down32/MD657-N23-2017.02.22-15.08.47_MD657_1_0067_alignedTo_MD657-F44-2017.02.18-06.06.27_MD657_1_0130_cropped_down32_outerContour_denseScoreMap_setting_30.bp && mkdir -p /shared/CSHL_scoremaps_down32/MD657/MD657-N23-2017.02.22-15.08.47_MD657_1_0067_alignedTo_MD657-F44-2017.02.18-06.06.27_MD657_1_0130_cropped_down32\n",
      "aws s3 cp s3://mousebrainatlas-data/CSHL_scoremaps_down32/MD657/MD657-N23-2017.02.22-15.08.47_MD657_1_0067_alignedTo_MD657-F44-2017.02.18-06.06.27_MD657_1_0130_cropped_down32/MD657-N23-2017.02.22-15.08.47_MD657_1_0067_alignedTo_MD657-F44-2017.02.18-06.06.27_MD657_1_0130_cropped_down32_outerContour_denseScoreMap_setting_30.bp /shared/CSHL_scoremaps_down32/MD657/MD657-N23-2017.02.22-15.08.47_MD657_1_0067_alignedTo_MD657-F44-2017.02.18-06.06.27_MD657_1_0130_cropped_down32/MD657-N23-2017.02.22-15.08.47_MD657_1_0067_alignedTo_MD657-F44-2017.02.18-06.06.27_MD657_1_0130_cropped_down32_outerContour_denseScoreMap_setting_30.bp\n"
     ]
    },
    {
     "name": "stderr",
     "output_type": "stream",
     "text": [
      "Child returned 1\n",
      "0.33 seconds.\n",
      "Child returned 0\n"
     ]
    },
    {
     "name": "stdout",
     "output_type": "stream",
     "text": [
      "rm -rf /shared/CSHL_scoremaps_down32/MD657/MD657-N23-2017.02.22-15.08.47_MD657_2_0068_alignedTo_MD657-F44-2017.02.18-06.06.27_MD657_1_0130_cropped_down32/MD657-N23-2017.02.22-15.08.47_MD657_2_0068_alignedTo_MD657-F44-2017.02.18-06.06.27_MD657_1_0130_cropped_down32_outerContour_denseScoreMap_setting_30.bp && mkdir -p /shared/CSHL_scoremaps_down32/MD657/MD657-N23-2017.02.22-15.08.47_MD657_2_0068_alignedTo_MD657-F44-2017.02.18-06.06.27_MD657_1_0130_cropped_down32\n",
      "aws s3 cp s3://mousebrainatlas-data/CSHL_scoremaps_down32/MD657/MD657-N23-2017.02.22-15.08.47_MD657_2_0068_alignedTo_MD657-F44-2017.02.18-06.06.27_MD657_1_0130_cropped_down32/MD657-N23-2017.02.22-15.08.47_MD657_2_0068_alignedTo_MD657-F44-2017.02.18-06.06.27_MD657_1_0130_cropped_down32_outerContour_denseScoreMap_setting_30.bp /shared/CSHL_scoremaps_down32/MD657/MD657-N23-2017.02.22-15.08.47_MD657_2_0068_alignedTo_MD657-F44-2017.02.18-06.06.27_MD657_1_0130_cropped_down32/MD657-N23-2017.02.22-15.08.47_MD657_2_0068_alignedTo_MD657-F44-2017.02.18-06.06.27_MD657_1_0130_cropped_down32_outerContour_denseScoreMap_setting_30.bp\n"
     ]
    },
    {
     "name": "stderr",
     "output_type": "stream",
     "text": [
      "Child returned 1\n",
      "0.35 seconds.\n",
      "Child returned 0\n"
     ]
    },
    {
     "name": "stdout",
     "output_type": "stream",
     "text": [
      "rm -rf /shared/CSHL_scoremaps_down32/MD657/MD657-N24-2017.02.22-15.12.03_MD657_1_0070_alignedTo_MD657-F44-2017.02.18-06.06.27_MD657_1_0130_cropped_down32/MD657-N24-2017.02.22-15.12.03_MD657_1_0070_alignedTo_MD657-F44-2017.02.18-06.06.27_MD657_1_0130_cropped_down32_outerContour_denseScoreMap_setting_30.bp && mkdir -p /shared/CSHL_scoremaps_down32/MD657/MD657-N24-2017.02.22-15.12.03_MD657_1_0070_alignedTo_MD657-F44-2017.02.18-06.06.27_MD657_1_0130_cropped_down32\n",
      "aws s3 cp s3://mousebrainatlas-data/CSHL_scoremaps_down32/MD657/MD657-N24-2017.02.22-15.12.03_MD657_1_0070_alignedTo_MD657-F44-2017.02.18-06.06.27_MD657_1_0130_cropped_down32/MD657-N24-2017.02.22-15.12.03_MD657_1_0070_alignedTo_MD657-F44-2017.02.18-06.06.27_MD657_1_0130_cropped_down32_outerContour_denseScoreMap_setting_30.bp /shared/CSHL_scoremaps_down32/MD657/MD657-N24-2017.02.22-15.12.03_MD657_1_0070_alignedTo_MD657-F44-2017.02.18-06.06.27_MD657_1_0130_cropped_down32/MD657-N24-2017.02.22-15.12.03_MD657_1_0070_alignedTo_MD657-F44-2017.02.18-06.06.27_MD657_1_0130_cropped_down32_outerContour_denseScoreMap_setting_30.bp\n"
     ]
    },
    {
     "name": "stderr",
     "output_type": "stream",
     "text": [
      "Child returned 1\n",
      "0.33 seconds.\n",
      "Child returned 0\n"
     ]
    },
    {
     "name": "stdout",
     "output_type": "stream",
     "text": [
      "rm -rf /shared/CSHL_scoremaps_down32/MD657/MD657-N24-2017.02.22-15.12.03_MD657_2_0071_alignedTo_MD657-F44-2017.02.18-06.06.27_MD657_1_0130_cropped_down32/MD657-N24-2017.02.22-15.12.03_MD657_2_0071_alignedTo_MD657-F44-2017.02.18-06.06.27_MD657_1_0130_cropped_down32_outerContour_denseScoreMap_setting_30.bp && mkdir -p /shared/CSHL_scoremaps_down32/MD657/MD657-N24-2017.02.22-15.12.03_MD657_2_0071_alignedTo_MD657-F44-2017.02.18-06.06.27_MD657_1_0130_cropped_down32\n",
      "aws s3 cp s3://mousebrainatlas-data/CSHL_scoremaps_down32/MD657/MD657-N24-2017.02.22-15.12.03_MD657_2_0071_alignedTo_MD657-F44-2017.02.18-06.06.27_MD657_1_0130_cropped_down32/MD657-N24-2017.02.22-15.12.03_MD657_2_0071_alignedTo_MD657-F44-2017.02.18-06.06.27_MD657_1_0130_cropped_down32_outerContour_denseScoreMap_setting_30.bp /shared/CSHL_scoremaps_down32/MD657/MD657-N24-2017.02.22-15.12.03_MD657_2_0071_alignedTo_MD657-F44-2017.02.18-06.06.27_MD657_1_0130_cropped_down32/MD657-N24-2017.02.22-15.12.03_MD657_2_0071_alignedTo_MD657-F44-2017.02.18-06.06.27_MD657_1_0130_cropped_down32_outerContour_denseScoreMap_setting_30.bp\n"
     ]
    },
    {
     "name": "stderr",
     "output_type": "stream",
     "text": [
      "Child returned 1\n",
      "0.35 seconds.\n",
      "Child returned 0\n"
     ]
    },
    {
     "name": "stdout",
     "output_type": "stream",
     "text": [
      "rm -rf /shared/CSHL_scoremaps_down32/MD657/MD657-N25-2017.02.22-15.15.17_MD657_1_0073_alignedTo_MD657-F44-2017.02.18-06.06.27_MD657_1_0130_cropped_down32/MD657-N25-2017.02.22-15.15.17_MD657_1_0073_alignedTo_MD657-F44-2017.02.18-06.06.27_MD657_1_0130_cropped_down32_outerContour_denseScoreMap_setting_30.bp && mkdir -p /shared/CSHL_scoremaps_down32/MD657/MD657-N25-2017.02.22-15.15.17_MD657_1_0073_alignedTo_MD657-F44-2017.02.18-06.06.27_MD657_1_0130_cropped_down32\n",
      "aws s3 cp s3://mousebrainatlas-data/CSHL_scoremaps_down32/MD657/MD657-N25-2017.02.22-15.15.17_MD657_1_0073_alignedTo_MD657-F44-2017.02.18-06.06.27_MD657_1_0130_cropped_down32/MD657-N25-2017.02.22-15.15.17_MD657_1_0073_alignedTo_MD657-F44-2017.02.18-06.06.27_MD657_1_0130_cropped_down32_outerContour_denseScoreMap_setting_30.bp /shared/CSHL_scoremaps_down32/MD657/MD657-N25-2017.02.22-15.15.17_MD657_1_0073_alignedTo_MD657-F44-2017.02.18-06.06.27_MD657_1_0130_cropped_down32/MD657-N25-2017.02.22-15.15.17_MD657_1_0073_alignedTo_MD657-F44-2017.02.18-06.06.27_MD657_1_0130_cropped_down32_outerContour_denseScoreMap_setting_30.bp\n"
     ]
    },
    {
     "name": "stderr",
     "output_type": "stream",
     "text": [
      "Child returned 1\n",
      "0.35 seconds.\n",
      "Child returned 0\n"
     ]
    },
    {
     "name": "stdout",
     "output_type": "stream",
     "text": [
      "rm -rf /shared/CSHL_scoremaps_down32/MD657/MD657-N25-2017.02.22-15.15.17_MD657_2_0074_alignedTo_MD657-F44-2017.02.18-06.06.27_MD657_1_0130_cropped_down32/MD657-N25-2017.02.22-15.15.17_MD657_2_0074_alignedTo_MD657-F44-2017.02.18-06.06.27_MD657_1_0130_cropped_down32_outerContour_denseScoreMap_setting_30.bp && mkdir -p /shared/CSHL_scoremaps_down32/MD657/MD657-N25-2017.02.22-15.15.17_MD657_2_0074_alignedTo_MD657-F44-2017.02.18-06.06.27_MD657_1_0130_cropped_down32\n",
      "aws s3 cp s3://mousebrainatlas-data/CSHL_scoremaps_down32/MD657/MD657-N25-2017.02.22-15.15.17_MD657_2_0074_alignedTo_MD657-F44-2017.02.18-06.06.27_MD657_1_0130_cropped_down32/MD657-N25-2017.02.22-15.15.17_MD657_2_0074_alignedTo_MD657-F44-2017.02.18-06.06.27_MD657_1_0130_cropped_down32_outerContour_denseScoreMap_setting_30.bp /shared/CSHL_scoremaps_down32/MD657/MD657-N25-2017.02.22-15.15.17_MD657_2_0074_alignedTo_MD657-F44-2017.02.18-06.06.27_MD657_1_0130_cropped_down32/MD657-N25-2017.02.22-15.15.17_MD657_2_0074_alignedTo_MD657-F44-2017.02.18-06.06.27_MD657_1_0130_cropped_down32_outerContour_denseScoreMap_setting_30.bp\n"
     ]
    },
    {
     "name": "stderr",
     "output_type": "stream",
     "text": [
      "Child returned 1\n",
      "0.32 seconds.\n",
      "Child returned 0\n"
     ]
    },
    {
     "name": "stdout",
     "output_type": "stream",
     "text": [
      "rm -rf /shared/CSHL_scoremaps_down32/MD657/MD657-N26-2017.02.27-16.14.53_MD657_2_0077_alignedTo_MD657-F44-2017.02.18-06.06.27_MD657_1_0130_cropped_down32/MD657-N26-2017.02.27-16.14.53_MD657_2_0077_alignedTo_MD657-F44-2017.02.18-06.06.27_MD657_1_0130_cropped_down32_outerContour_denseScoreMap_setting_30.bp && mkdir -p /shared/CSHL_scoremaps_down32/MD657/MD657-N26-2017.02.27-16.14.53_MD657_2_0077_alignedTo_MD657-F44-2017.02.18-06.06.27_MD657_1_0130_cropped_down32\n",
      "aws s3 cp s3://mousebrainatlas-data/CSHL_scoremaps_down32/MD657/MD657-N26-2017.02.27-16.14.53_MD657_2_0077_alignedTo_MD657-F44-2017.02.18-06.06.27_MD657_1_0130_cropped_down32/MD657-N26-2017.02.27-16.14.53_MD657_2_0077_alignedTo_MD657-F44-2017.02.18-06.06.27_MD657_1_0130_cropped_down32_outerContour_denseScoreMap_setting_30.bp /shared/CSHL_scoremaps_down32/MD657/MD657-N26-2017.02.27-16.14.53_MD657_2_0077_alignedTo_MD657-F44-2017.02.18-06.06.27_MD657_1_0130_cropped_down32/MD657-N26-2017.02.27-16.14.53_MD657_2_0077_alignedTo_MD657-F44-2017.02.18-06.06.27_MD657_1_0130_cropped_down32_outerContour_denseScoreMap_setting_30.bp\n"
     ]
    },
    {
     "name": "stderr",
     "output_type": "stream",
     "text": [
      "Child returned 1\n",
      "0.33 seconds.\n",
      "Child returned 0\n"
     ]
    },
    {
     "name": "stdout",
     "output_type": "stream",
     "text": [
      "rm -rf /shared/CSHL_scoremaps_down32/MD657/MD657-N26-2017.02.27-16.14.53_MD657_3_0078_alignedTo_MD657-F44-2017.02.18-06.06.27_MD657_1_0130_cropped_down32/MD657-N26-2017.02.27-16.14.53_MD657_3_0078_alignedTo_MD657-F44-2017.02.18-06.06.27_MD657_1_0130_cropped_down32_outerContour_denseScoreMap_setting_30.bp && mkdir -p /shared/CSHL_scoremaps_down32/MD657/MD657-N26-2017.02.27-16.14.53_MD657_3_0078_alignedTo_MD657-F44-2017.02.18-06.06.27_MD657_1_0130_cropped_down32\n",
      "aws s3 cp s3://mousebrainatlas-data/CSHL_scoremaps_down32/MD657/MD657-N26-2017.02.27-16.14.53_MD657_3_0078_alignedTo_MD657-F44-2017.02.18-06.06.27_MD657_1_0130_cropped_down32/MD657-N26-2017.02.27-16.14.53_MD657_3_0078_alignedTo_MD657-F44-2017.02.18-06.06.27_MD657_1_0130_cropped_down32_outerContour_denseScoreMap_setting_30.bp /shared/CSHL_scoremaps_down32/MD657/MD657-N26-2017.02.27-16.14.53_MD657_3_0078_alignedTo_MD657-F44-2017.02.18-06.06.27_MD657_1_0130_cropped_down32/MD657-N26-2017.02.27-16.14.53_MD657_3_0078_alignedTo_MD657-F44-2017.02.18-06.06.27_MD657_1_0130_cropped_down32_outerContour_denseScoreMap_setting_30.bp\n"
     ]
    },
    {
     "name": "stderr",
     "output_type": "stream",
     "text": [
      "Child returned 1\n",
      "0.32 seconds.\n",
      "Child returned 0\n"
     ]
    },
    {
     "name": "stdout",
     "output_type": "stream",
     "text": [
      "rm -rf /shared/CSHL_scoremaps_down32/MD657/MD657-N27-2017.02.22-15.18.34_MD657_2_0080_alignedTo_MD657-F44-2017.02.18-06.06.27_MD657_1_0130_cropped_down32/MD657-N27-2017.02.22-15.18.34_MD657_2_0080_alignedTo_MD657-F44-2017.02.18-06.06.27_MD657_1_0130_cropped_down32_outerContour_denseScoreMap_setting_30.bp && mkdir -p /shared/CSHL_scoremaps_down32/MD657/MD657-N27-2017.02.22-15.18.34_MD657_2_0080_alignedTo_MD657-F44-2017.02.18-06.06.27_MD657_1_0130_cropped_down32\n",
      "aws s3 cp s3://mousebrainatlas-data/CSHL_scoremaps_down32/MD657/MD657-N27-2017.02.22-15.18.34_MD657_2_0080_alignedTo_MD657-F44-2017.02.18-06.06.27_MD657_1_0130_cropped_down32/MD657-N27-2017.02.22-15.18.34_MD657_2_0080_alignedTo_MD657-F44-2017.02.18-06.06.27_MD657_1_0130_cropped_down32_outerContour_denseScoreMap_setting_30.bp /shared/CSHL_scoremaps_down32/MD657/MD657-N27-2017.02.22-15.18.34_MD657_2_0080_alignedTo_MD657-F44-2017.02.18-06.06.27_MD657_1_0130_cropped_down32/MD657-N27-2017.02.22-15.18.34_MD657_2_0080_alignedTo_MD657-F44-2017.02.18-06.06.27_MD657_1_0130_cropped_down32_outerContour_denseScoreMap_setting_30.bp\n"
     ]
    },
    {
     "name": "stderr",
     "output_type": "stream",
     "text": [
      "Child returned 1\n",
      "0.33 seconds.\n",
      "Child returned 0\n"
     ]
    },
    {
     "name": "stdout",
     "output_type": "stream",
     "text": [
      "rm -rf /shared/CSHL_scoremaps_down32/MD657/MD657-N28-2017.02.22-15.21.25_MD657_1_0082_alignedTo_MD657-F44-2017.02.18-06.06.27_MD657_1_0130_cropped_down32/MD657-N28-2017.02.22-15.21.25_MD657_1_0082_alignedTo_MD657-F44-2017.02.18-06.06.27_MD657_1_0130_cropped_down32_outerContour_denseScoreMap_setting_30.bp && mkdir -p /shared/CSHL_scoremaps_down32/MD657/MD657-N28-2017.02.22-15.21.25_MD657_1_0082_alignedTo_MD657-F44-2017.02.18-06.06.27_MD657_1_0130_cropped_down32\n",
      "aws s3 cp s3://mousebrainatlas-data/CSHL_scoremaps_down32/MD657/MD657-N28-2017.02.22-15.21.25_MD657_1_0082_alignedTo_MD657-F44-2017.02.18-06.06.27_MD657_1_0130_cropped_down32/MD657-N28-2017.02.22-15.21.25_MD657_1_0082_alignedTo_MD657-F44-2017.02.18-06.06.27_MD657_1_0130_cropped_down32_outerContour_denseScoreMap_setting_30.bp /shared/CSHL_scoremaps_down32/MD657/MD657-N28-2017.02.22-15.21.25_MD657_1_0082_alignedTo_MD657-F44-2017.02.18-06.06.27_MD657_1_0130_cropped_down32/MD657-N28-2017.02.22-15.21.25_MD657_1_0082_alignedTo_MD657-F44-2017.02.18-06.06.27_MD657_1_0130_cropped_down32_outerContour_denseScoreMap_setting_30.bp\n"
     ]
    },
    {
     "name": "stderr",
     "output_type": "stream",
     "text": [
      "Child returned 1\n",
      "0.33 seconds.\n",
      "Child returned 0\n"
     ]
    },
    {
     "name": "stdout",
     "output_type": "stream",
     "text": [
      "rm -rf /shared/CSHL_scoremaps_down32/MD657/MD657-N28-2017.02.22-15.21.25_MD657_2_0083_alignedTo_MD657-F44-2017.02.18-06.06.27_MD657_1_0130_cropped_down32/MD657-N28-2017.02.22-15.21.25_MD657_2_0083_alignedTo_MD657-F44-2017.02.18-06.06.27_MD657_1_0130_cropped_down32_outerContour_denseScoreMap_setting_30.bp && mkdir -p /shared/CSHL_scoremaps_down32/MD657/MD657-N28-2017.02.22-15.21.25_MD657_2_0083_alignedTo_MD657-F44-2017.02.18-06.06.27_MD657_1_0130_cropped_down32\n",
      "aws s3 cp s3://mousebrainatlas-data/CSHL_scoremaps_down32/MD657/MD657-N28-2017.02.22-15.21.25_MD657_2_0083_alignedTo_MD657-F44-2017.02.18-06.06.27_MD657_1_0130_cropped_down32/MD657-N28-2017.02.22-15.21.25_MD657_2_0083_alignedTo_MD657-F44-2017.02.18-06.06.27_MD657_1_0130_cropped_down32_outerContour_denseScoreMap_setting_30.bp /shared/CSHL_scoremaps_down32/MD657/MD657-N28-2017.02.22-15.21.25_MD657_2_0083_alignedTo_MD657-F44-2017.02.18-06.06.27_MD657_1_0130_cropped_down32/MD657-N28-2017.02.22-15.21.25_MD657_2_0083_alignedTo_MD657-F44-2017.02.18-06.06.27_MD657_1_0130_cropped_down32_outerContour_denseScoreMap_setting_30.bp\n"
     ]
    },
    {
     "name": "stderr",
     "output_type": "stream",
     "text": [
      "Child returned 1\n",
      "0.35 seconds.\n",
      "Child returned 0\n"
     ]
    },
    {
     "name": "stdout",
     "output_type": "stream",
     "text": [
      "rm -rf /shared/CSHL_scoremaps_down32/MD657/MD657-N29-2017.02.22-15.24.51_MD657_1_0085_alignedTo_MD657-F44-2017.02.18-06.06.27_MD657_1_0130_cropped_down32/MD657-N29-2017.02.22-15.24.51_MD657_1_0085_alignedTo_MD657-F44-2017.02.18-06.06.27_MD657_1_0130_cropped_down32_outerContour_denseScoreMap_setting_30.bp && mkdir -p /shared/CSHL_scoremaps_down32/MD657/MD657-N29-2017.02.22-15.24.51_MD657_1_0085_alignedTo_MD657-F44-2017.02.18-06.06.27_MD657_1_0130_cropped_down32\n",
      "aws s3 cp s3://mousebrainatlas-data/CSHL_scoremaps_down32/MD657/MD657-N29-2017.02.22-15.24.51_MD657_1_0085_alignedTo_MD657-F44-2017.02.18-06.06.27_MD657_1_0130_cropped_down32/MD657-N29-2017.02.22-15.24.51_MD657_1_0085_alignedTo_MD657-F44-2017.02.18-06.06.27_MD657_1_0130_cropped_down32_outerContour_denseScoreMap_setting_30.bp /shared/CSHL_scoremaps_down32/MD657/MD657-N29-2017.02.22-15.24.51_MD657_1_0085_alignedTo_MD657-F44-2017.02.18-06.06.27_MD657_1_0130_cropped_down32/MD657-N29-2017.02.22-15.24.51_MD657_1_0085_alignedTo_MD657-F44-2017.02.18-06.06.27_MD657_1_0130_cropped_down32_outerContour_denseScoreMap_setting_30.bp\n"
     ]
    },
    {
     "name": "stderr",
     "output_type": "stream",
     "text": [
      "Child returned 1\n",
      "0.34 seconds.\n",
      "Child returned 0\n"
     ]
    },
    {
     "name": "stdout",
     "output_type": "stream",
     "text": [
      "rm -rf /shared/CSHL_scoremaps_down32/MD657/MD657-N29-2017.02.22-15.24.51_MD657_2_0086_alignedTo_MD657-F44-2017.02.18-06.06.27_MD657_1_0130_cropped_down32/MD657-N29-2017.02.22-15.24.51_MD657_2_0086_alignedTo_MD657-F44-2017.02.18-06.06.27_MD657_1_0130_cropped_down32_outerContour_denseScoreMap_setting_30.bp && mkdir -p /shared/CSHL_scoremaps_down32/MD657/MD657-N29-2017.02.22-15.24.51_MD657_2_0086_alignedTo_MD657-F44-2017.02.18-06.06.27_MD657_1_0130_cropped_down32\n",
      "aws s3 cp s3://mousebrainatlas-data/CSHL_scoremaps_down32/MD657/MD657-N29-2017.02.22-15.24.51_MD657_2_0086_alignedTo_MD657-F44-2017.02.18-06.06.27_MD657_1_0130_cropped_down32/MD657-N29-2017.02.22-15.24.51_MD657_2_0086_alignedTo_MD657-F44-2017.02.18-06.06.27_MD657_1_0130_cropped_down32_outerContour_denseScoreMap_setting_30.bp /shared/CSHL_scoremaps_down32/MD657/MD657-N29-2017.02.22-15.24.51_MD657_2_0086_alignedTo_MD657-F44-2017.02.18-06.06.27_MD657_1_0130_cropped_down32/MD657-N29-2017.02.22-15.24.51_MD657_2_0086_alignedTo_MD657-F44-2017.02.18-06.06.27_MD657_1_0130_cropped_down32_outerContour_denseScoreMap_setting_30.bp\n"
     ]
    },
    {
     "name": "stderr",
     "output_type": "stream",
     "text": [
      "Child returned 1\n",
      "0.33 seconds.\n",
      "Child returned 0\n"
     ]
    },
    {
     "name": "stdout",
     "output_type": "stream",
     "text": [
      "rm -rf /shared/CSHL_scoremaps_down32/MD657/MD657-N30-2017.02.22-15.28.21_MD657_1_0088_alignedTo_MD657-F44-2017.02.18-06.06.27_MD657_1_0130_cropped_down32/MD657-N30-2017.02.22-15.28.21_MD657_1_0088_alignedTo_MD657-F44-2017.02.18-06.06.27_MD657_1_0130_cropped_down32_outerContour_denseScoreMap_setting_30.bp && mkdir -p /shared/CSHL_scoremaps_down32/MD657/MD657-N30-2017.02.22-15.28.21_MD657_1_0088_alignedTo_MD657-F44-2017.02.18-06.06.27_MD657_1_0130_cropped_down32\n",
      "aws s3 cp s3://mousebrainatlas-data/CSHL_scoremaps_down32/MD657/MD657-N30-2017.02.22-15.28.21_MD657_1_0088_alignedTo_MD657-F44-2017.02.18-06.06.27_MD657_1_0130_cropped_down32/MD657-N30-2017.02.22-15.28.21_MD657_1_0088_alignedTo_MD657-F44-2017.02.18-06.06.27_MD657_1_0130_cropped_down32_outerContour_denseScoreMap_setting_30.bp /shared/CSHL_scoremaps_down32/MD657/MD657-N30-2017.02.22-15.28.21_MD657_1_0088_alignedTo_MD657-F44-2017.02.18-06.06.27_MD657_1_0130_cropped_down32/MD657-N30-2017.02.22-15.28.21_MD657_1_0088_alignedTo_MD657-F44-2017.02.18-06.06.27_MD657_1_0130_cropped_down32_outerContour_denseScoreMap_setting_30.bp\n"
     ]
    },
    {
     "name": "stderr",
     "output_type": "stream",
     "text": [
      "Child returned 1\n",
      "0.34 seconds.\n",
      "Child returned 0\n"
     ]
    },
    {
     "name": "stdout",
     "output_type": "stream",
     "text": [
      "rm -rf /shared/CSHL_scoremaps_down32/MD657/MD657-N30-2017.02.22-15.28.21_MD657_2_0089_alignedTo_MD657-F44-2017.02.18-06.06.27_MD657_1_0130_cropped_down32/MD657-N30-2017.02.22-15.28.21_MD657_2_0089_alignedTo_MD657-F44-2017.02.18-06.06.27_MD657_1_0130_cropped_down32_outerContour_denseScoreMap_setting_30.bp && mkdir -p /shared/CSHL_scoremaps_down32/MD657/MD657-N30-2017.02.22-15.28.21_MD657_2_0089_alignedTo_MD657-F44-2017.02.18-06.06.27_MD657_1_0130_cropped_down32\n",
      "aws s3 cp s3://mousebrainatlas-data/CSHL_scoremaps_down32/MD657/MD657-N30-2017.02.22-15.28.21_MD657_2_0089_alignedTo_MD657-F44-2017.02.18-06.06.27_MD657_1_0130_cropped_down32/MD657-N30-2017.02.22-15.28.21_MD657_2_0089_alignedTo_MD657-F44-2017.02.18-06.06.27_MD657_1_0130_cropped_down32_outerContour_denseScoreMap_setting_30.bp /shared/CSHL_scoremaps_down32/MD657/MD657-N30-2017.02.22-15.28.21_MD657_2_0089_alignedTo_MD657-F44-2017.02.18-06.06.27_MD657_1_0130_cropped_down32/MD657-N30-2017.02.22-15.28.21_MD657_2_0089_alignedTo_MD657-F44-2017.02.18-06.06.27_MD657_1_0130_cropped_down32_outerContour_denseScoreMap_setting_30.bp\n"
     ]
    },
    {
     "name": "stderr",
     "output_type": "stream",
     "text": [
      "Child returned 1\n",
      "0.35 seconds.\n",
      "Child returned 0\n"
     ]
    },
    {
     "name": "stdout",
     "output_type": "stream",
     "text": [
      "rm -rf /shared/CSHL_scoremaps_down32/MD657/MD657-N31-2017.02.22-15.32.10_MD657_1_0091_alignedTo_MD657-F44-2017.02.18-06.06.27_MD657_1_0130_cropped_down32/MD657-N31-2017.02.22-15.32.10_MD657_1_0091_alignedTo_MD657-F44-2017.02.18-06.06.27_MD657_1_0130_cropped_down32_outerContour_denseScoreMap_setting_30.bp && mkdir -p /shared/CSHL_scoremaps_down32/MD657/MD657-N31-2017.02.22-15.32.10_MD657_1_0091_alignedTo_MD657-F44-2017.02.18-06.06.27_MD657_1_0130_cropped_down32\n",
      "aws s3 cp s3://mousebrainatlas-data/CSHL_scoremaps_down32/MD657/MD657-N31-2017.02.22-15.32.10_MD657_1_0091_alignedTo_MD657-F44-2017.02.18-06.06.27_MD657_1_0130_cropped_down32/MD657-N31-2017.02.22-15.32.10_MD657_1_0091_alignedTo_MD657-F44-2017.02.18-06.06.27_MD657_1_0130_cropped_down32_outerContour_denseScoreMap_setting_30.bp /shared/CSHL_scoremaps_down32/MD657/MD657-N31-2017.02.22-15.32.10_MD657_1_0091_alignedTo_MD657-F44-2017.02.18-06.06.27_MD657_1_0130_cropped_down32/MD657-N31-2017.02.22-15.32.10_MD657_1_0091_alignedTo_MD657-F44-2017.02.18-06.06.27_MD657_1_0130_cropped_down32_outerContour_denseScoreMap_setting_30.bp\n"
     ]
    },
    {
     "name": "stderr",
     "output_type": "stream",
     "text": [
      "Child returned 1\n",
      "0.35 seconds.\n",
      "Child returned 0\n"
     ]
    },
    {
     "name": "stdout",
     "output_type": "stream",
     "text": [
      "rm -rf /shared/CSHL_scoremaps_down32/MD657/MD657-N31-2017.02.22-15.32.10_MD657_2_0092_alignedTo_MD657-F44-2017.02.18-06.06.27_MD657_1_0130_cropped_down32/MD657-N31-2017.02.22-15.32.10_MD657_2_0092_alignedTo_MD657-F44-2017.02.18-06.06.27_MD657_1_0130_cropped_down32_outerContour_denseScoreMap_setting_30.bp && mkdir -p /shared/CSHL_scoremaps_down32/MD657/MD657-N31-2017.02.22-15.32.10_MD657_2_0092_alignedTo_MD657-F44-2017.02.18-06.06.27_MD657_1_0130_cropped_down32\n",
      "aws s3 cp s3://mousebrainatlas-data/CSHL_scoremaps_down32/MD657/MD657-N31-2017.02.22-15.32.10_MD657_2_0092_alignedTo_MD657-F44-2017.02.18-06.06.27_MD657_1_0130_cropped_down32/MD657-N31-2017.02.22-15.32.10_MD657_2_0092_alignedTo_MD657-F44-2017.02.18-06.06.27_MD657_1_0130_cropped_down32_outerContour_denseScoreMap_setting_30.bp /shared/CSHL_scoremaps_down32/MD657/MD657-N31-2017.02.22-15.32.10_MD657_2_0092_alignedTo_MD657-F44-2017.02.18-06.06.27_MD657_1_0130_cropped_down32/MD657-N31-2017.02.22-15.32.10_MD657_2_0092_alignedTo_MD657-F44-2017.02.18-06.06.27_MD657_1_0130_cropped_down32_outerContour_denseScoreMap_setting_30.bp\n"
     ]
    },
    {
     "name": "stderr",
     "output_type": "stream",
     "text": [
      "Child returned 1\n",
      "0.35 seconds.\n",
      "Child returned 0\n"
     ]
    },
    {
     "name": "stdout",
     "output_type": "stream",
     "text": [
      "rm -rf /shared/CSHL_scoremaps_down32/MD657/MD657-N32-2017.02.22-15.36.09_MD657_1_0094_alignedTo_MD657-F44-2017.02.18-06.06.27_MD657_1_0130_cropped_down32/MD657-N32-2017.02.22-15.36.09_MD657_1_0094_alignedTo_MD657-F44-2017.02.18-06.06.27_MD657_1_0130_cropped_down32_outerContour_denseScoreMap_setting_30.bp && mkdir -p /shared/CSHL_scoremaps_down32/MD657/MD657-N32-2017.02.22-15.36.09_MD657_1_0094_alignedTo_MD657-F44-2017.02.18-06.06.27_MD657_1_0130_cropped_down32\n",
      "aws s3 cp s3://mousebrainatlas-data/CSHL_scoremaps_down32/MD657/MD657-N32-2017.02.22-15.36.09_MD657_1_0094_alignedTo_MD657-F44-2017.02.18-06.06.27_MD657_1_0130_cropped_down32/MD657-N32-2017.02.22-15.36.09_MD657_1_0094_alignedTo_MD657-F44-2017.02.18-06.06.27_MD657_1_0130_cropped_down32_outerContour_denseScoreMap_setting_30.bp /shared/CSHL_scoremaps_down32/MD657/MD657-N32-2017.02.22-15.36.09_MD657_1_0094_alignedTo_MD657-F44-2017.02.18-06.06.27_MD657_1_0130_cropped_down32/MD657-N32-2017.02.22-15.36.09_MD657_1_0094_alignedTo_MD657-F44-2017.02.18-06.06.27_MD657_1_0130_cropped_down32_outerContour_denseScoreMap_setting_30.bp\n"
     ]
    },
    {
     "name": "stderr",
     "output_type": "stream",
     "text": [
      "Child returned 1\n",
      "0.34 seconds.\n",
      "Child returned 0\n"
     ]
    },
    {
     "name": "stdout",
     "output_type": "stream",
     "text": [
      "rm -rf /shared/CSHL_scoremaps_down32/MD657/MD657-N32-2017.02.22-15.36.09_MD657_2_0095_alignedTo_MD657-F44-2017.02.18-06.06.27_MD657_1_0130_cropped_down32/MD657-N32-2017.02.22-15.36.09_MD657_2_0095_alignedTo_MD657-F44-2017.02.18-06.06.27_MD657_1_0130_cropped_down32_outerContour_denseScoreMap_setting_30.bp && mkdir -p /shared/CSHL_scoremaps_down32/MD657/MD657-N32-2017.02.22-15.36.09_MD657_2_0095_alignedTo_MD657-F44-2017.02.18-06.06.27_MD657_1_0130_cropped_down32\n",
      "aws s3 cp s3://mousebrainatlas-data/CSHL_scoremaps_down32/MD657/MD657-N32-2017.02.22-15.36.09_MD657_2_0095_alignedTo_MD657-F44-2017.02.18-06.06.27_MD657_1_0130_cropped_down32/MD657-N32-2017.02.22-15.36.09_MD657_2_0095_alignedTo_MD657-F44-2017.02.18-06.06.27_MD657_1_0130_cropped_down32_outerContour_denseScoreMap_setting_30.bp /shared/CSHL_scoremaps_down32/MD657/MD657-N32-2017.02.22-15.36.09_MD657_2_0095_alignedTo_MD657-F44-2017.02.18-06.06.27_MD657_1_0130_cropped_down32/MD657-N32-2017.02.22-15.36.09_MD657_2_0095_alignedTo_MD657-F44-2017.02.18-06.06.27_MD657_1_0130_cropped_down32_outerContour_denseScoreMap_setting_30.bp\n"
     ]
    },
    {
     "name": "stderr",
     "output_type": "stream",
     "text": [
      "Child returned 1\n",
      "0.39 seconds.\n",
      "Child returned 0\n"
     ]
    },
    {
     "name": "stdout",
     "output_type": "stream",
     "text": [
      "rm -rf /shared/CSHL_scoremaps_down32/MD657/MD657-N33-2017.02.22-15.39.59_MD657_1_0097_alignedTo_MD657-F44-2017.02.18-06.06.27_MD657_1_0130_cropped_down32/MD657-N33-2017.02.22-15.39.59_MD657_1_0097_alignedTo_MD657-F44-2017.02.18-06.06.27_MD657_1_0130_cropped_down32_outerContour_denseScoreMap_setting_30.bp && mkdir -p /shared/CSHL_scoremaps_down32/MD657/MD657-N33-2017.02.22-15.39.59_MD657_1_0097_alignedTo_MD657-F44-2017.02.18-06.06.27_MD657_1_0130_cropped_down32\n",
      "aws s3 cp s3://mousebrainatlas-data/CSHL_scoremaps_down32/MD657/MD657-N33-2017.02.22-15.39.59_MD657_1_0097_alignedTo_MD657-F44-2017.02.18-06.06.27_MD657_1_0130_cropped_down32/MD657-N33-2017.02.22-15.39.59_MD657_1_0097_alignedTo_MD657-F44-2017.02.18-06.06.27_MD657_1_0130_cropped_down32_outerContour_denseScoreMap_setting_30.bp /shared/CSHL_scoremaps_down32/MD657/MD657-N33-2017.02.22-15.39.59_MD657_1_0097_alignedTo_MD657-F44-2017.02.18-06.06.27_MD657_1_0130_cropped_down32/MD657-N33-2017.02.22-15.39.59_MD657_1_0097_alignedTo_MD657-F44-2017.02.18-06.06.27_MD657_1_0130_cropped_down32_outerContour_denseScoreMap_setting_30.bp\n"
     ]
    },
    {
     "name": "stderr",
     "output_type": "stream",
     "text": [
      "Child returned 1\n",
      "0.34 seconds.\n",
      "Child returned 0\n"
     ]
    },
    {
     "name": "stdout",
     "output_type": "stream",
     "text": [
      "rm -rf /shared/CSHL_scoremaps_down32/MD657/MD657-N33-2017.02.22-15.39.59_MD657_2_0098_alignedTo_MD657-F44-2017.02.18-06.06.27_MD657_1_0130_cropped_down32/MD657-N33-2017.02.22-15.39.59_MD657_2_0098_alignedTo_MD657-F44-2017.02.18-06.06.27_MD657_1_0130_cropped_down32_outerContour_denseScoreMap_setting_30.bp && mkdir -p /shared/CSHL_scoremaps_down32/MD657/MD657-N33-2017.02.22-15.39.59_MD657_2_0098_alignedTo_MD657-F44-2017.02.18-06.06.27_MD657_1_0130_cropped_down32\n",
      "aws s3 cp s3://mousebrainatlas-data/CSHL_scoremaps_down32/MD657/MD657-N33-2017.02.22-15.39.59_MD657_2_0098_alignedTo_MD657-F44-2017.02.18-06.06.27_MD657_1_0130_cropped_down32/MD657-N33-2017.02.22-15.39.59_MD657_2_0098_alignedTo_MD657-F44-2017.02.18-06.06.27_MD657_1_0130_cropped_down32_outerContour_denseScoreMap_setting_30.bp /shared/CSHL_scoremaps_down32/MD657/MD657-N33-2017.02.22-15.39.59_MD657_2_0098_alignedTo_MD657-F44-2017.02.18-06.06.27_MD657_1_0130_cropped_down32/MD657-N33-2017.02.22-15.39.59_MD657_2_0098_alignedTo_MD657-F44-2017.02.18-06.06.27_MD657_1_0130_cropped_down32_outerContour_denseScoreMap_setting_30.bp\n"
     ]
    },
    {
     "name": "stderr",
     "output_type": "stream",
     "text": [
      "Child returned 1\n",
      "0.34 seconds.\n",
      "Child returned 0\n"
     ]
    },
    {
     "name": "stdout",
     "output_type": "stream",
     "text": [
      "rm -rf /shared/CSHL_scoremaps_down32/MD657/MD657-N34-2017.02.22-15.43.50_MD657_1_0100_alignedTo_MD657-F44-2017.02.18-06.06.27_MD657_1_0130_cropped_down32/MD657-N34-2017.02.22-15.43.50_MD657_1_0100_alignedTo_MD657-F44-2017.02.18-06.06.27_MD657_1_0130_cropped_down32_outerContour_denseScoreMap_setting_30.bp && mkdir -p /shared/CSHL_scoremaps_down32/MD657/MD657-N34-2017.02.22-15.43.50_MD657_1_0100_alignedTo_MD657-F44-2017.02.18-06.06.27_MD657_1_0130_cropped_down32\n",
      "aws s3 cp s3://mousebrainatlas-data/CSHL_scoremaps_down32/MD657/MD657-N34-2017.02.22-15.43.50_MD657_1_0100_alignedTo_MD657-F44-2017.02.18-06.06.27_MD657_1_0130_cropped_down32/MD657-N34-2017.02.22-15.43.50_MD657_1_0100_alignedTo_MD657-F44-2017.02.18-06.06.27_MD657_1_0130_cropped_down32_outerContour_denseScoreMap_setting_30.bp /shared/CSHL_scoremaps_down32/MD657/MD657-N34-2017.02.22-15.43.50_MD657_1_0100_alignedTo_MD657-F44-2017.02.18-06.06.27_MD657_1_0130_cropped_down32/MD657-N34-2017.02.22-15.43.50_MD657_1_0100_alignedTo_MD657-F44-2017.02.18-06.06.27_MD657_1_0130_cropped_down32_outerContour_denseScoreMap_setting_30.bp\n"
     ]
    },
    {
     "name": "stderr",
     "output_type": "stream",
     "text": [
      "Child returned 1\n",
      "0.34 seconds.\n",
      "Child returned 0\n"
     ]
    },
    {
     "name": "stdout",
     "output_type": "stream",
     "text": [
      "rm -rf /shared/CSHL_scoremaps_down32/MD657/MD657-N34-2017.02.22-15.43.50_MD657_2_0101_alignedTo_MD657-F44-2017.02.18-06.06.27_MD657_1_0130_cropped_down32/MD657-N34-2017.02.22-15.43.50_MD657_2_0101_alignedTo_MD657-F44-2017.02.18-06.06.27_MD657_1_0130_cropped_down32_outerContour_denseScoreMap_setting_30.bp && mkdir -p /shared/CSHL_scoremaps_down32/MD657/MD657-N34-2017.02.22-15.43.50_MD657_2_0101_alignedTo_MD657-F44-2017.02.18-06.06.27_MD657_1_0130_cropped_down32\n",
      "aws s3 cp s3://mousebrainatlas-data/CSHL_scoremaps_down32/MD657/MD657-N34-2017.02.22-15.43.50_MD657_2_0101_alignedTo_MD657-F44-2017.02.18-06.06.27_MD657_1_0130_cropped_down32/MD657-N34-2017.02.22-15.43.50_MD657_2_0101_alignedTo_MD657-F44-2017.02.18-06.06.27_MD657_1_0130_cropped_down32_outerContour_denseScoreMap_setting_30.bp /shared/CSHL_scoremaps_down32/MD657/MD657-N34-2017.02.22-15.43.50_MD657_2_0101_alignedTo_MD657-F44-2017.02.18-06.06.27_MD657_1_0130_cropped_down32/MD657-N34-2017.02.22-15.43.50_MD657_2_0101_alignedTo_MD657-F44-2017.02.18-06.06.27_MD657_1_0130_cropped_down32_outerContour_denseScoreMap_setting_30.bp\n"
     ]
    },
    {
     "name": "stderr",
     "output_type": "stream",
     "text": [
      "Child returned 1\n",
      "0.35 seconds.\n",
      "Child returned 0\n"
     ]
    },
    {
     "name": "stdout",
     "output_type": "stream",
     "text": [
      "rm -rf /shared/CSHL_scoremaps_down32/MD657/MD657-N35-2017.02.22-15.47.51_MD657_1_0103_alignedTo_MD657-F44-2017.02.18-06.06.27_MD657_1_0130_cropped_down32/MD657-N35-2017.02.22-15.47.51_MD657_1_0103_alignedTo_MD657-F44-2017.02.18-06.06.27_MD657_1_0130_cropped_down32_outerContour_denseScoreMap_setting_30.bp && mkdir -p /shared/CSHL_scoremaps_down32/MD657/MD657-N35-2017.02.22-15.47.51_MD657_1_0103_alignedTo_MD657-F44-2017.02.18-06.06.27_MD657_1_0130_cropped_down32\n",
      "aws s3 cp s3://mousebrainatlas-data/CSHL_scoremaps_down32/MD657/MD657-N35-2017.02.22-15.47.51_MD657_1_0103_alignedTo_MD657-F44-2017.02.18-06.06.27_MD657_1_0130_cropped_down32/MD657-N35-2017.02.22-15.47.51_MD657_1_0103_alignedTo_MD657-F44-2017.02.18-06.06.27_MD657_1_0130_cropped_down32_outerContour_denseScoreMap_setting_30.bp /shared/CSHL_scoremaps_down32/MD657/MD657-N35-2017.02.22-15.47.51_MD657_1_0103_alignedTo_MD657-F44-2017.02.18-06.06.27_MD657_1_0130_cropped_down32/MD657-N35-2017.02.22-15.47.51_MD657_1_0103_alignedTo_MD657-F44-2017.02.18-06.06.27_MD657_1_0130_cropped_down32_outerContour_denseScoreMap_setting_30.bp\n"
     ]
    },
    {
     "name": "stderr",
     "output_type": "stream",
     "text": [
      "Child returned 1\n",
      "0.37 seconds.\n",
      "Child returned 0\n"
     ]
    },
    {
     "name": "stdout",
     "output_type": "stream",
     "text": [
      "rm -rf /shared/CSHL_scoremaps_down32/MD657/MD657-N35-2017.02.22-15.47.51_MD657_2_0104_alignedTo_MD657-F44-2017.02.18-06.06.27_MD657_1_0130_cropped_down32/MD657-N35-2017.02.22-15.47.51_MD657_2_0104_alignedTo_MD657-F44-2017.02.18-06.06.27_MD657_1_0130_cropped_down32_outerContour_denseScoreMap_setting_30.bp && mkdir -p /shared/CSHL_scoremaps_down32/MD657/MD657-N35-2017.02.22-15.47.51_MD657_2_0104_alignedTo_MD657-F44-2017.02.18-06.06.27_MD657_1_0130_cropped_down32\n",
      "aws s3 cp s3://mousebrainatlas-data/CSHL_scoremaps_down32/MD657/MD657-N35-2017.02.22-15.47.51_MD657_2_0104_alignedTo_MD657-F44-2017.02.18-06.06.27_MD657_1_0130_cropped_down32/MD657-N35-2017.02.22-15.47.51_MD657_2_0104_alignedTo_MD657-F44-2017.02.18-06.06.27_MD657_1_0130_cropped_down32_outerContour_denseScoreMap_setting_30.bp /shared/CSHL_scoremaps_down32/MD657/MD657-N35-2017.02.22-15.47.51_MD657_2_0104_alignedTo_MD657-F44-2017.02.18-06.06.27_MD657_1_0130_cropped_down32/MD657-N35-2017.02.22-15.47.51_MD657_2_0104_alignedTo_MD657-F44-2017.02.18-06.06.27_MD657_1_0130_cropped_down32_outerContour_denseScoreMap_setting_30.bp\n"
     ]
    },
    {
     "name": "stderr",
     "output_type": "stream",
     "text": [
      "Child returned 1\n",
      "0.34 seconds.\n",
      "Child returned 0\n"
     ]
    },
    {
     "name": "stdout",
     "output_type": "stream",
     "text": [
      "rm -rf /shared/CSHL_scoremaps_down32/MD657/MD657-N36-2017.02.22-15.51.49_MD657_1_0106_alignedTo_MD657-F44-2017.02.18-06.06.27_MD657_1_0130_cropped_down32/MD657-N36-2017.02.22-15.51.49_MD657_1_0106_alignedTo_MD657-F44-2017.02.18-06.06.27_MD657_1_0130_cropped_down32_outerContour_denseScoreMap_setting_30.bp && mkdir -p /shared/CSHL_scoremaps_down32/MD657/MD657-N36-2017.02.22-15.51.49_MD657_1_0106_alignedTo_MD657-F44-2017.02.18-06.06.27_MD657_1_0130_cropped_down32\n",
      "aws s3 cp s3://mousebrainatlas-data/CSHL_scoremaps_down32/MD657/MD657-N36-2017.02.22-15.51.49_MD657_1_0106_alignedTo_MD657-F44-2017.02.18-06.06.27_MD657_1_0130_cropped_down32/MD657-N36-2017.02.22-15.51.49_MD657_1_0106_alignedTo_MD657-F44-2017.02.18-06.06.27_MD657_1_0130_cropped_down32_outerContour_denseScoreMap_setting_30.bp /shared/CSHL_scoremaps_down32/MD657/MD657-N36-2017.02.22-15.51.49_MD657_1_0106_alignedTo_MD657-F44-2017.02.18-06.06.27_MD657_1_0130_cropped_down32/MD657-N36-2017.02.22-15.51.49_MD657_1_0106_alignedTo_MD657-F44-2017.02.18-06.06.27_MD657_1_0130_cropped_down32_outerContour_denseScoreMap_setting_30.bp\n"
     ]
    },
    {
     "name": "stderr",
     "output_type": "stream",
     "text": [
      "Child returned 1\n",
      "0.36 seconds.\n",
      "Child returned 0\n"
     ]
    },
    {
     "name": "stdout",
     "output_type": "stream",
     "text": [
      "rm -rf /shared/CSHL_scoremaps_down32/MD657/MD657-N36-2017.02.22-15.51.49_MD657_2_0107_alignedTo_MD657-F44-2017.02.18-06.06.27_MD657_1_0130_cropped_down32/MD657-N36-2017.02.22-15.51.49_MD657_2_0107_alignedTo_MD657-F44-2017.02.18-06.06.27_MD657_1_0130_cropped_down32_outerContour_denseScoreMap_setting_30.bp && mkdir -p /shared/CSHL_scoremaps_down32/MD657/MD657-N36-2017.02.22-15.51.49_MD657_2_0107_alignedTo_MD657-F44-2017.02.18-06.06.27_MD657_1_0130_cropped_down32\n",
      "aws s3 cp s3://mousebrainatlas-data/CSHL_scoremaps_down32/MD657/MD657-N36-2017.02.22-15.51.49_MD657_2_0107_alignedTo_MD657-F44-2017.02.18-06.06.27_MD657_1_0130_cropped_down32/MD657-N36-2017.02.22-15.51.49_MD657_2_0107_alignedTo_MD657-F44-2017.02.18-06.06.27_MD657_1_0130_cropped_down32_outerContour_denseScoreMap_setting_30.bp /shared/CSHL_scoremaps_down32/MD657/MD657-N36-2017.02.22-15.51.49_MD657_2_0107_alignedTo_MD657-F44-2017.02.18-06.06.27_MD657_1_0130_cropped_down32/MD657-N36-2017.02.22-15.51.49_MD657_2_0107_alignedTo_MD657-F44-2017.02.18-06.06.27_MD657_1_0130_cropped_down32_outerContour_denseScoreMap_setting_30.bp\n"
     ]
    },
    {
     "name": "stderr",
     "output_type": "stream",
     "text": [
      "Child returned 1\n",
      "0.35 seconds.\n",
      "Child returned 0\n"
     ]
    },
    {
     "name": "stdout",
     "output_type": "stream",
     "text": [
      "rm -rf /shared/CSHL_scoremaps_down32/MD657/MD657-N37-2017.02.22-15.55.56_MD657_1_0109_alignedTo_MD657-F44-2017.02.18-06.06.27_MD657_1_0130_cropped_down32/MD657-N37-2017.02.22-15.55.56_MD657_1_0109_alignedTo_MD657-F44-2017.02.18-06.06.27_MD657_1_0130_cropped_down32_outerContour_denseScoreMap_setting_30.bp && mkdir -p /shared/CSHL_scoremaps_down32/MD657/MD657-N37-2017.02.22-15.55.56_MD657_1_0109_alignedTo_MD657-F44-2017.02.18-06.06.27_MD657_1_0130_cropped_down32\n",
      "aws s3 cp s3://mousebrainatlas-data/CSHL_scoremaps_down32/MD657/MD657-N37-2017.02.22-15.55.56_MD657_1_0109_alignedTo_MD657-F44-2017.02.18-06.06.27_MD657_1_0130_cropped_down32/MD657-N37-2017.02.22-15.55.56_MD657_1_0109_alignedTo_MD657-F44-2017.02.18-06.06.27_MD657_1_0130_cropped_down32_outerContour_denseScoreMap_setting_30.bp /shared/CSHL_scoremaps_down32/MD657/MD657-N37-2017.02.22-15.55.56_MD657_1_0109_alignedTo_MD657-F44-2017.02.18-06.06.27_MD657_1_0130_cropped_down32/MD657-N37-2017.02.22-15.55.56_MD657_1_0109_alignedTo_MD657-F44-2017.02.18-06.06.27_MD657_1_0130_cropped_down32_outerContour_denseScoreMap_setting_30.bp\n"
     ]
    },
    {
     "name": "stderr",
     "output_type": "stream",
     "text": [
      "Child returned 1\n",
      "0.35 seconds.\n",
      "Child returned 0\n"
     ]
    },
    {
     "name": "stdout",
     "output_type": "stream",
     "text": [
      "rm -rf /shared/CSHL_scoremaps_down32/MD657/MD657-N37-2017.02.22-15.55.56_MD657_2_0110_alignedTo_MD657-F44-2017.02.18-06.06.27_MD657_1_0130_cropped_down32/MD657-N37-2017.02.22-15.55.56_MD657_2_0110_alignedTo_MD657-F44-2017.02.18-06.06.27_MD657_1_0130_cropped_down32_outerContour_denseScoreMap_setting_30.bp && mkdir -p /shared/CSHL_scoremaps_down32/MD657/MD657-N37-2017.02.22-15.55.56_MD657_2_0110_alignedTo_MD657-F44-2017.02.18-06.06.27_MD657_1_0130_cropped_down32\n",
      "aws s3 cp s3://mousebrainatlas-data/CSHL_scoremaps_down32/MD657/MD657-N37-2017.02.22-15.55.56_MD657_2_0110_alignedTo_MD657-F44-2017.02.18-06.06.27_MD657_1_0130_cropped_down32/MD657-N37-2017.02.22-15.55.56_MD657_2_0110_alignedTo_MD657-F44-2017.02.18-06.06.27_MD657_1_0130_cropped_down32_outerContour_denseScoreMap_setting_30.bp /shared/CSHL_scoremaps_down32/MD657/MD657-N37-2017.02.22-15.55.56_MD657_2_0110_alignedTo_MD657-F44-2017.02.18-06.06.27_MD657_1_0130_cropped_down32/MD657-N37-2017.02.22-15.55.56_MD657_2_0110_alignedTo_MD657-F44-2017.02.18-06.06.27_MD657_1_0130_cropped_down32_outerContour_denseScoreMap_setting_30.bp\n"
     ]
    },
    {
     "name": "stderr",
     "output_type": "stream",
     "text": [
      "Child returned 1\n",
      "0.34 seconds.\n",
      "Child returned 0\n"
     ]
    },
    {
     "name": "stdout",
     "output_type": "stream",
     "text": [
      "rm -rf /shared/CSHL_scoremaps_down32/MD657/MD657-N38-2017.02.22-16.00.02_MD657_1_0112_alignedTo_MD657-F44-2017.02.18-06.06.27_MD657_1_0130_cropped_down32/MD657-N38-2017.02.22-16.00.02_MD657_1_0112_alignedTo_MD657-F44-2017.02.18-06.06.27_MD657_1_0130_cropped_down32_outerContour_denseScoreMap_setting_30.bp && mkdir -p /shared/CSHL_scoremaps_down32/MD657/MD657-N38-2017.02.22-16.00.02_MD657_1_0112_alignedTo_MD657-F44-2017.02.18-06.06.27_MD657_1_0130_cropped_down32\n",
      "aws s3 cp s3://mousebrainatlas-data/CSHL_scoremaps_down32/MD657/MD657-N38-2017.02.22-16.00.02_MD657_1_0112_alignedTo_MD657-F44-2017.02.18-06.06.27_MD657_1_0130_cropped_down32/MD657-N38-2017.02.22-16.00.02_MD657_1_0112_alignedTo_MD657-F44-2017.02.18-06.06.27_MD657_1_0130_cropped_down32_outerContour_denseScoreMap_setting_30.bp /shared/CSHL_scoremaps_down32/MD657/MD657-N38-2017.02.22-16.00.02_MD657_1_0112_alignedTo_MD657-F44-2017.02.18-06.06.27_MD657_1_0130_cropped_down32/MD657-N38-2017.02.22-16.00.02_MD657_1_0112_alignedTo_MD657-F44-2017.02.18-06.06.27_MD657_1_0130_cropped_down32_outerContour_denseScoreMap_setting_30.bp\n"
     ]
    },
    {
     "name": "stderr",
     "output_type": "stream",
     "text": [
      "Child returned 1\n",
      "0.34 seconds.\n",
      "Child returned 0\n"
     ]
    },
    {
     "name": "stdout",
     "output_type": "stream",
     "text": [
      "rm -rf /shared/CSHL_scoremaps_down32/MD657/MD657-N38-2017.02.22-16.00.02_MD657_2_0113_alignedTo_MD657-F44-2017.02.18-06.06.27_MD657_1_0130_cropped_down32/MD657-N38-2017.02.22-16.00.02_MD657_2_0113_alignedTo_MD657-F44-2017.02.18-06.06.27_MD657_1_0130_cropped_down32_outerContour_denseScoreMap_setting_30.bp && mkdir -p /shared/CSHL_scoremaps_down32/MD657/MD657-N38-2017.02.22-16.00.02_MD657_2_0113_alignedTo_MD657-F44-2017.02.18-06.06.27_MD657_1_0130_cropped_down32\n",
      "aws s3 cp s3://mousebrainatlas-data/CSHL_scoremaps_down32/MD657/MD657-N38-2017.02.22-16.00.02_MD657_2_0113_alignedTo_MD657-F44-2017.02.18-06.06.27_MD657_1_0130_cropped_down32/MD657-N38-2017.02.22-16.00.02_MD657_2_0113_alignedTo_MD657-F44-2017.02.18-06.06.27_MD657_1_0130_cropped_down32_outerContour_denseScoreMap_setting_30.bp /shared/CSHL_scoremaps_down32/MD657/MD657-N38-2017.02.22-16.00.02_MD657_2_0113_alignedTo_MD657-F44-2017.02.18-06.06.27_MD657_1_0130_cropped_down32/MD657-N38-2017.02.22-16.00.02_MD657_2_0113_alignedTo_MD657-F44-2017.02.18-06.06.27_MD657_1_0130_cropped_down32_outerContour_denseScoreMap_setting_30.bp\n"
     ]
    },
    {
     "name": "stderr",
     "output_type": "stream",
     "text": [
      "Child returned 1\n",
      "0.34 seconds.\n",
      "Child returned 0\n"
     ]
    },
    {
     "name": "stdout",
     "output_type": "stream",
     "text": [
      "rm -rf /shared/CSHL_scoremaps_down32/MD657/MD657-N39-2017.02.22-16.04.05_MD657_1_0115_alignedTo_MD657-F44-2017.02.18-06.06.27_MD657_1_0130_cropped_down32/MD657-N39-2017.02.22-16.04.05_MD657_1_0115_alignedTo_MD657-F44-2017.02.18-06.06.27_MD657_1_0130_cropped_down32_outerContour_denseScoreMap_setting_30.bp && mkdir -p /shared/CSHL_scoremaps_down32/MD657/MD657-N39-2017.02.22-16.04.05_MD657_1_0115_alignedTo_MD657-F44-2017.02.18-06.06.27_MD657_1_0130_cropped_down32\n",
      "aws s3 cp s3://mousebrainatlas-data/CSHL_scoremaps_down32/MD657/MD657-N39-2017.02.22-16.04.05_MD657_1_0115_alignedTo_MD657-F44-2017.02.18-06.06.27_MD657_1_0130_cropped_down32/MD657-N39-2017.02.22-16.04.05_MD657_1_0115_alignedTo_MD657-F44-2017.02.18-06.06.27_MD657_1_0130_cropped_down32_outerContour_denseScoreMap_setting_30.bp /shared/CSHL_scoremaps_down32/MD657/MD657-N39-2017.02.22-16.04.05_MD657_1_0115_alignedTo_MD657-F44-2017.02.18-06.06.27_MD657_1_0130_cropped_down32/MD657-N39-2017.02.22-16.04.05_MD657_1_0115_alignedTo_MD657-F44-2017.02.18-06.06.27_MD657_1_0130_cropped_down32_outerContour_denseScoreMap_setting_30.bp\n"
     ]
    },
    {
     "name": "stderr",
     "output_type": "stream",
     "text": [
      "Child returned 1\n",
      "0.33 seconds.\n",
      "Child returned 0\n"
     ]
    },
    {
     "name": "stdout",
     "output_type": "stream",
     "text": [
      "rm -rf /shared/CSHL_scoremaps_down32/MD657/MD657-N39-2017.02.22-16.04.05_MD657_2_0116_alignedTo_MD657-F44-2017.02.18-06.06.27_MD657_1_0130_cropped_down32/MD657-N39-2017.02.22-16.04.05_MD657_2_0116_alignedTo_MD657-F44-2017.02.18-06.06.27_MD657_1_0130_cropped_down32_outerContour_denseScoreMap_setting_30.bp && mkdir -p /shared/CSHL_scoremaps_down32/MD657/MD657-N39-2017.02.22-16.04.05_MD657_2_0116_alignedTo_MD657-F44-2017.02.18-06.06.27_MD657_1_0130_cropped_down32\n",
      "aws s3 cp s3://mousebrainatlas-data/CSHL_scoremaps_down32/MD657/MD657-N39-2017.02.22-16.04.05_MD657_2_0116_alignedTo_MD657-F44-2017.02.18-06.06.27_MD657_1_0130_cropped_down32/MD657-N39-2017.02.22-16.04.05_MD657_2_0116_alignedTo_MD657-F44-2017.02.18-06.06.27_MD657_1_0130_cropped_down32_outerContour_denseScoreMap_setting_30.bp /shared/CSHL_scoremaps_down32/MD657/MD657-N39-2017.02.22-16.04.05_MD657_2_0116_alignedTo_MD657-F44-2017.02.18-06.06.27_MD657_1_0130_cropped_down32/MD657-N39-2017.02.22-16.04.05_MD657_2_0116_alignedTo_MD657-F44-2017.02.18-06.06.27_MD657_1_0130_cropped_down32_outerContour_denseScoreMap_setting_30.bp\n"
     ]
    },
    {
     "name": "stderr",
     "output_type": "stream",
     "text": [
      "Child returned 1\n",
      "0.33 seconds.\n",
      "Child returned 0\n"
     ]
    },
    {
     "name": "stdout",
     "output_type": "stream",
     "text": [
      "rm -rf /shared/CSHL_scoremaps_down32/MD657/MD657-N40-2017.02.22-16.08.37_MD657_1_0118_alignedTo_MD657-F44-2017.02.18-06.06.27_MD657_1_0130_cropped_down32/MD657-N40-2017.02.22-16.08.37_MD657_1_0118_alignedTo_MD657-F44-2017.02.18-06.06.27_MD657_1_0130_cropped_down32_outerContour_denseScoreMap_setting_30.bp && mkdir -p /shared/CSHL_scoremaps_down32/MD657/MD657-N40-2017.02.22-16.08.37_MD657_1_0118_alignedTo_MD657-F44-2017.02.18-06.06.27_MD657_1_0130_cropped_down32\n",
      "aws s3 cp s3://mousebrainatlas-data/CSHL_scoremaps_down32/MD657/MD657-N40-2017.02.22-16.08.37_MD657_1_0118_alignedTo_MD657-F44-2017.02.18-06.06.27_MD657_1_0130_cropped_down32/MD657-N40-2017.02.22-16.08.37_MD657_1_0118_alignedTo_MD657-F44-2017.02.18-06.06.27_MD657_1_0130_cropped_down32_outerContour_denseScoreMap_setting_30.bp /shared/CSHL_scoremaps_down32/MD657/MD657-N40-2017.02.22-16.08.37_MD657_1_0118_alignedTo_MD657-F44-2017.02.18-06.06.27_MD657_1_0130_cropped_down32/MD657-N40-2017.02.22-16.08.37_MD657_1_0118_alignedTo_MD657-F44-2017.02.18-06.06.27_MD657_1_0130_cropped_down32_outerContour_denseScoreMap_setting_30.bp\n"
     ]
    },
    {
     "name": "stderr",
     "output_type": "stream",
     "text": [
      "Child returned 1\n",
      "0.35 seconds.\n",
      "Child returned 0\n"
     ]
    },
    {
     "name": "stdout",
     "output_type": "stream",
     "text": [
      "rm -rf /shared/CSHL_scoremaps_down32/MD657/MD657-N40-2017.02.22-16.08.37_MD657_2_0119_alignedTo_MD657-F44-2017.02.18-06.06.27_MD657_1_0130_cropped_down32/MD657-N40-2017.02.22-16.08.37_MD657_2_0119_alignedTo_MD657-F44-2017.02.18-06.06.27_MD657_1_0130_cropped_down32_outerContour_denseScoreMap_setting_30.bp && mkdir -p /shared/CSHL_scoremaps_down32/MD657/MD657-N40-2017.02.22-16.08.37_MD657_2_0119_alignedTo_MD657-F44-2017.02.18-06.06.27_MD657_1_0130_cropped_down32\n",
      "aws s3 cp s3://mousebrainatlas-data/CSHL_scoremaps_down32/MD657/MD657-N40-2017.02.22-16.08.37_MD657_2_0119_alignedTo_MD657-F44-2017.02.18-06.06.27_MD657_1_0130_cropped_down32/MD657-N40-2017.02.22-16.08.37_MD657_2_0119_alignedTo_MD657-F44-2017.02.18-06.06.27_MD657_1_0130_cropped_down32_outerContour_denseScoreMap_setting_30.bp /shared/CSHL_scoremaps_down32/MD657/MD657-N40-2017.02.22-16.08.37_MD657_2_0119_alignedTo_MD657-F44-2017.02.18-06.06.27_MD657_1_0130_cropped_down32/MD657-N40-2017.02.22-16.08.37_MD657_2_0119_alignedTo_MD657-F44-2017.02.18-06.06.27_MD657_1_0130_cropped_down32_outerContour_denseScoreMap_setting_30.bp\n"
     ]
    },
    {
     "name": "stderr",
     "output_type": "stream",
     "text": [
      "Child returned 1\n",
      "0.33 seconds.\n",
      "Child returned 0\n"
     ]
    },
    {
     "name": "stdout",
     "output_type": "stream",
     "text": [
      "rm -rf /shared/CSHL_scoremaps_down32/MD657/MD657-N41-2017.02.22-16.12.45_MD657_1_0121_alignedTo_MD657-F44-2017.02.18-06.06.27_MD657_1_0130_cropped_down32/MD657-N41-2017.02.22-16.12.45_MD657_1_0121_alignedTo_MD657-F44-2017.02.18-06.06.27_MD657_1_0130_cropped_down32_outerContour_denseScoreMap_setting_30.bp && mkdir -p /shared/CSHL_scoremaps_down32/MD657/MD657-N41-2017.02.22-16.12.45_MD657_1_0121_alignedTo_MD657-F44-2017.02.18-06.06.27_MD657_1_0130_cropped_down32\n",
      "aws s3 cp s3://mousebrainatlas-data/CSHL_scoremaps_down32/MD657/MD657-N41-2017.02.22-16.12.45_MD657_1_0121_alignedTo_MD657-F44-2017.02.18-06.06.27_MD657_1_0130_cropped_down32/MD657-N41-2017.02.22-16.12.45_MD657_1_0121_alignedTo_MD657-F44-2017.02.18-06.06.27_MD657_1_0130_cropped_down32_outerContour_denseScoreMap_setting_30.bp /shared/CSHL_scoremaps_down32/MD657/MD657-N41-2017.02.22-16.12.45_MD657_1_0121_alignedTo_MD657-F44-2017.02.18-06.06.27_MD657_1_0130_cropped_down32/MD657-N41-2017.02.22-16.12.45_MD657_1_0121_alignedTo_MD657-F44-2017.02.18-06.06.27_MD657_1_0130_cropped_down32_outerContour_denseScoreMap_setting_30.bp\n"
     ]
    },
    {
     "name": "stderr",
     "output_type": "stream",
     "text": [
      "Child returned 1\n",
      "0.34 seconds.\n",
      "Child returned 0\n"
     ]
    },
    {
     "name": "stdout",
     "output_type": "stream",
     "text": [
      "rm -rf /shared/CSHL_scoremaps_down32/MD657/MD657-N41-2017.02.22-16.12.45_MD657_2_0122_alignedTo_MD657-F44-2017.02.18-06.06.27_MD657_1_0130_cropped_down32/MD657-N41-2017.02.22-16.12.45_MD657_2_0122_alignedTo_MD657-F44-2017.02.18-06.06.27_MD657_1_0130_cropped_down32_outerContour_denseScoreMap_setting_30.bp && mkdir -p /shared/CSHL_scoremaps_down32/MD657/MD657-N41-2017.02.22-16.12.45_MD657_2_0122_alignedTo_MD657-F44-2017.02.18-06.06.27_MD657_1_0130_cropped_down32\n",
      "aws s3 cp s3://mousebrainatlas-data/CSHL_scoremaps_down32/MD657/MD657-N41-2017.02.22-16.12.45_MD657_2_0122_alignedTo_MD657-F44-2017.02.18-06.06.27_MD657_1_0130_cropped_down32/MD657-N41-2017.02.22-16.12.45_MD657_2_0122_alignedTo_MD657-F44-2017.02.18-06.06.27_MD657_1_0130_cropped_down32_outerContour_denseScoreMap_setting_30.bp /shared/CSHL_scoremaps_down32/MD657/MD657-N41-2017.02.22-16.12.45_MD657_2_0122_alignedTo_MD657-F44-2017.02.18-06.06.27_MD657_1_0130_cropped_down32/MD657-N41-2017.02.22-16.12.45_MD657_2_0122_alignedTo_MD657-F44-2017.02.18-06.06.27_MD657_1_0130_cropped_down32_outerContour_denseScoreMap_setting_30.bp\n"
     ]
    },
    {
     "name": "stderr",
     "output_type": "stream",
     "text": [
      "Child returned 1\n",
      "0.33 seconds.\n",
      "Child returned 0\n"
     ]
    },
    {
     "name": "stdout",
     "output_type": "stream",
     "text": [
      "rm -rf /shared/CSHL_scoremaps_down32/MD657/MD657-N42-2017.02.22-16.16.50_MD657_1_0124_alignedTo_MD657-F44-2017.02.18-06.06.27_MD657_1_0130_cropped_down32/MD657-N42-2017.02.22-16.16.50_MD657_1_0124_alignedTo_MD657-F44-2017.02.18-06.06.27_MD657_1_0130_cropped_down32_outerContour_denseScoreMap_setting_30.bp && mkdir -p /shared/CSHL_scoremaps_down32/MD657/MD657-N42-2017.02.22-16.16.50_MD657_1_0124_alignedTo_MD657-F44-2017.02.18-06.06.27_MD657_1_0130_cropped_down32\n",
      "aws s3 cp s3://mousebrainatlas-data/CSHL_scoremaps_down32/MD657/MD657-N42-2017.02.22-16.16.50_MD657_1_0124_alignedTo_MD657-F44-2017.02.18-06.06.27_MD657_1_0130_cropped_down32/MD657-N42-2017.02.22-16.16.50_MD657_1_0124_alignedTo_MD657-F44-2017.02.18-06.06.27_MD657_1_0130_cropped_down32_outerContour_denseScoreMap_setting_30.bp /shared/CSHL_scoremaps_down32/MD657/MD657-N42-2017.02.22-16.16.50_MD657_1_0124_alignedTo_MD657-F44-2017.02.18-06.06.27_MD657_1_0130_cropped_down32/MD657-N42-2017.02.22-16.16.50_MD657_1_0124_alignedTo_MD657-F44-2017.02.18-06.06.27_MD657_1_0130_cropped_down32_outerContour_denseScoreMap_setting_30.bp\n"
     ]
    },
    {
     "name": "stderr",
     "output_type": "stream",
     "text": [
      "Child returned 1\n",
      "0.35 seconds.\n",
      "Child returned 0\n"
     ]
    },
    {
     "name": "stdout",
     "output_type": "stream",
     "text": [
      "rm -rf /shared/CSHL_scoremaps_down32/MD657/MD657-N42-2017.02.22-16.16.50_MD657_2_0125_alignedTo_MD657-F44-2017.02.18-06.06.27_MD657_1_0130_cropped_down32/MD657-N42-2017.02.22-16.16.50_MD657_2_0125_alignedTo_MD657-F44-2017.02.18-06.06.27_MD657_1_0130_cropped_down32_outerContour_denseScoreMap_setting_30.bp && mkdir -p /shared/CSHL_scoremaps_down32/MD657/MD657-N42-2017.02.22-16.16.50_MD657_2_0125_alignedTo_MD657-F44-2017.02.18-06.06.27_MD657_1_0130_cropped_down32\n",
      "aws s3 cp s3://mousebrainatlas-data/CSHL_scoremaps_down32/MD657/MD657-N42-2017.02.22-16.16.50_MD657_2_0125_alignedTo_MD657-F44-2017.02.18-06.06.27_MD657_1_0130_cropped_down32/MD657-N42-2017.02.22-16.16.50_MD657_2_0125_alignedTo_MD657-F44-2017.02.18-06.06.27_MD657_1_0130_cropped_down32_outerContour_denseScoreMap_setting_30.bp /shared/CSHL_scoremaps_down32/MD657/MD657-N42-2017.02.22-16.16.50_MD657_2_0125_alignedTo_MD657-F44-2017.02.18-06.06.27_MD657_1_0130_cropped_down32/MD657-N42-2017.02.22-16.16.50_MD657_2_0125_alignedTo_MD657-F44-2017.02.18-06.06.27_MD657_1_0130_cropped_down32_outerContour_denseScoreMap_setting_30.bp\n"
     ]
    },
    {
     "name": "stderr",
     "output_type": "stream",
     "text": [
      "Child returned 1\n",
      "0.33 seconds.\n",
      "Child returned 0\n"
     ]
    },
    {
     "name": "stdout",
     "output_type": "stream",
     "text": [
      "rm -rf /shared/CSHL_scoremaps_down32/MD657/MD657-N43-2017.02.22-16.21.20_MD657_1_0127_alignedTo_MD657-F44-2017.02.18-06.06.27_MD657_1_0130_cropped_down32/MD657-N43-2017.02.22-16.21.20_MD657_1_0127_alignedTo_MD657-F44-2017.02.18-06.06.27_MD657_1_0130_cropped_down32_outerContour_denseScoreMap_setting_30.bp && mkdir -p /shared/CSHL_scoremaps_down32/MD657/MD657-N43-2017.02.22-16.21.20_MD657_1_0127_alignedTo_MD657-F44-2017.02.18-06.06.27_MD657_1_0130_cropped_down32\n",
      "aws s3 cp s3://mousebrainatlas-data/CSHL_scoremaps_down32/MD657/MD657-N43-2017.02.22-16.21.20_MD657_1_0127_alignedTo_MD657-F44-2017.02.18-06.06.27_MD657_1_0130_cropped_down32/MD657-N43-2017.02.22-16.21.20_MD657_1_0127_alignedTo_MD657-F44-2017.02.18-06.06.27_MD657_1_0130_cropped_down32_outerContour_denseScoreMap_setting_30.bp /shared/CSHL_scoremaps_down32/MD657/MD657-N43-2017.02.22-16.21.20_MD657_1_0127_alignedTo_MD657-F44-2017.02.18-06.06.27_MD657_1_0130_cropped_down32/MD657-N43-2017.02.22-16.21.20_MD657_1_0127_alignedTo_MD657-F44-2017.02.18-06.06.27_MD657_1_0130_cropped_down32_outerContour_denseScoreMap_setting_30.bp\n"
     ]
    },
    {
     "name": "stderr",
     "output_type": "stream",
     "text": [
      "Child returned 1\n",
      "0.33 seconds.\n",
      "Child returned 0\n"
     ]
    },
    {
     "name": "stdout",
     "output_type": "stream",
     "text": [
      "rm -rf /shared/CSHL_scoremaps_down32/MD657/MD657-N44-2017.02.22-16.25.25_MD657_1_0130_alignedTo_MD657-F44-2017.02.18-06.06.27_MD657_1_0130_cropped_down32/MD657-N44-2017.02.22-16.25.25_MD657_1_0130_alignedTo_MD657-F44-2017.02.18-06.06.27_MD657_1_0130_cropped_down32_outerContour_denseScoreMap_setting_30.bp && mkdir -p /shared/CSHL_scoremaps_down32/MD657/MD657-N44-2017.02.22-16.25.25_MD657_1_0130_alignedTo_MD657-F44-2017.02.18-06.06.27_MD657_1_0130_cropped_down32\n",
      "aws s3 cp s3://mousebrainatlas-data/CSHL_scoremaps_down32/MD657/MD657-N44-2017.02.22-16.25.25_MD657_1_0130_alignedTo_MD657-F44-2017.02.18-06.06.27_MD657_1_0130_cropped_down32/MD657-N44-2017.02.22-16.25.25_MD657_1_0130_alignedTo_MD657-F44-2017.02.18-06.06.27_MD657_1_0130_cropped_down32_outerContour_denseScoreMap_setting_30.bp /shared/CSHL_scoremaps_down32/MD657/MD657-N44-2017.02.22-16.25.25_MD657_1_0130_alignedTo_MD657-F44-2017.02.18-06.06.27_MD657_1_0130_cropped_down32/MD657-N44-2017.02.22-16.25.25_MD657_1_0130_alignedTo_MD657-F44-2017.02.18-06.06.27_MD657_1_0130_cropped_down32_outerContour_denseScoreMap_setting_30.bp\n"
     ]
    },
    {
     "name": "stderr",
     "output_type": "stream",
     "text": [
      "Child returned 1\n",
      "0.33 seconds.\n",
      "Child returned 0\n"
     ]
    },
    {
     "name": "stdout",
     "output_type": "stream",
     "text": [
      "rm -rf /shared/CSHL_scoremaps_down32/MD657/MD657-N44-2017.02.22-16.25.25_MD657_2_0131_alignedTo_MD657-F44-2017.02.18-06.06.27_MD657_1_0130_cropped_down32/MD657-N44-2017.02.22-16.25.25_MD657_2_0131_alignedTo_MD657-F44-2017.02.18-06.06.27_MD657_1_0130_cropped_down32_outerContour_denseScoreMap_setting_30.bp && mkdir -p /shared/CSHL_scoremaps_down32/MD657/MD657-N44-2017.02.22-16.25.25_MD657_2_0131_alignedTo_MD657-F44-2017.02.18-06.06.27_MD657_1_0130_cropped_down32\n",
      "aws s3 cp s3://mousebrainatlas-data/CSHL_scoremaps_down32/MD657/MD657-N44-2017.02.22-16.25.25_MD657_2_0131_alignedTo_MD657-F44-2017.02.18-06.06.27_MD657_1_0130_cropped_down32/MD657-N44-2017.02.22-16.25.25_MD657_2_0131_alignedTo_MD657-F44-2017.02.18-06.06.27_MD657_1_0130_cropped_down32_outerContour_denseScoreMap_setting_30.bp /shared/CSHL_scoremaps_down32/MD657/MD657-N44-2017.02.22-16.25.25_MD657_2_0131_alignedTo_MD657-F44-2017.02.18-06.06.27_MD657_1_0130_cropped_down32/MD657-N44-2017.02.22-16.25.25_MD657_2_0131_alignedTo_MD657-F44-2017.02.18-06.06.27_MD657_1_0130_cropped_down32_outerContour_denseScoreMap_setting_30.bp\n"
     ]
    },
    {
     "name": "stderr",
     "output_type": "stream",
     "text": [
      "Child returned 1\n",
      "0.33 seconds.\n",
      "Child returned 0\n"
     ]
    },
    {
     "name": "stdout",
     "output_type": "stream",
     "text": [
      "rm -rf /shared/CSHL_scoremaps_down32/MD657/MD657-N45-2017.02.22-16.29.38_MD657_1_0133_alignedTo_MD657-F44-2017.02.18-06.06.27_MD657_1_0130_cropped_down32/MD657-N45-2017.02.22-16.29.38_MD657_1_0133_alignedTo_MD657-F44-2017.02.18-06.06.27_MD657_1_0130_cropped_down32_outerContour_denseScoreMap_setting_30.bp && mkdir -p /shared/CSHL_scoremaps_down32/MD657/MD657-N45-2017.02.22-16.29.38_MD657_1_0133_alignedTo_MD657-F44-2017.02.18-06.06.27_MD657_1_0130_cropped_down32\n",
      "aws s3 cp s3://mousebrainatlas-data/CSHL_scoremaps_down32/MD657/MD657-N45-2017.02.22-16.29.38_MD657_1_0133_alignedTo_MD657-F44-2017.02.18-06.06.27_MD657_1_0130_cropped_down32/MD657-N45-2017.02.22-16.29.38_MD657_1_0133_alignedTo_MD657-F44-2017.02.18-06.06.27_MD657_1_0130_cropped_down32_outerContour_denseScoreMap_setting_30.bp /shared/CSHL_scoremaps_down32/MD657/MD657-N45-2017.02.22-16.29.38_MD657_1_0133_alignedTo_MD657-F44-2017.02.18-06.06.27_MD657_1_0130_cropped_down32/MD657-N45-2017.02.22-16.29.38_MD657_1_0133_alignedTo_MD657-F44-2017.02.18-06.06.27_MD657_1_0130_cropped_down32_outerContour_denseScoreMap_setting_30.bp\n"
     ]
    },
    {
     "name": "stderr",
     "output_type": "stream",
     "text": [
      "Child returned 1\n",
      "0.33 seconds.\n",
      "Child returned 0\n"
     ]
    },
    {
     "name": "stdout",
     "output_type": "stream",
     "text": [
      "rm -rf /shared/CSHL_scoremaps_down32/MD657/MD657-N45-2017.02.22-16.29.38_MD657_2_0134_alignedTo_MD657-F44-2017.02.18-06.06.27_MD657_1_0130_cropped_down32/MD657-N45-2017.02.22-16.29.38_MD657_2_0134_alignedTo_MD657-F44-2017.02.18-06.06.27_MD657_1_0130_cropped_down32_outerContour_denseScoreMap_setting_30.bp && mkdir -p /shared/CSHL_scoremaps_down32/MD657/MD657-N45-2017.02.22-16.29.38_MD657_2_0134_alignedTo_MD657-F44-2017.02.18-06.06.27_MD657_1_0130_cropped_down32\n",
      "aws s3 cp s3://mousebrainatlas-data/CSHL_scoremaps_down32/MD657/MD657-N45-2017.02.22-16.29.38_MD657_2_0134_alignedTo_MD657-F44-2017.02.18-06.06.27_MD657_1_0130_cropped_down32/MD657-N45-2017.02.22-16.29.38_MD657_2_0134_alignedTo_MD657-F44-2017.02.18-06.06.27_MD657_1_0130_cropped_down32_outerContour_denseScoreMap_setting_30.bp /shared/CSHL_scoremaps_down32/MD657/MD657-N45-2017.02.22-16.29.38_MD657_2_0134_alignedTo_MD657-F44-2017.02.18-06.06.27_MD657_1_0130_cropped_down32/MD657-N45-2017.02.22-16.29.38_MD657_2_0134_alignedTo_MD657-F44-2017.02.18-06.06.27_MD657_1_0130_cropped_down32_outerContour_denseScoreMap_setting_30.bp\n"
     ]
    },
    {
     "name": "stderr",
     "output_type": "stream",
     "text": [
      "Child returned 1\n",
      "0.34 seconds.\n",
      "Child returned 0\n"
     ]
    },
    {
     "name": "stdout",
     "output_type": "stream",
     "text": [
      "rm -rf /shared/CSHL_scoremaps_down32/MD657/MD657-N46-2017.02.22-16.33.47_MD657_1_0136_alignedTo_MD657-F44-2017.02.18-06.06.27_MD657_1_0130_cropped_down32/MD657-N46-2017.02.22-16.33.47_MD657_1_0136_alignedTo_MD657-F44-2017.02.18-06.06.27_MD657_1_0130_cropped_down32_outerContour_denseScoreMap_setting_30.bp && mkdir -p /shared/CSHL_scoremaps_down32/MD657/MD657-N46-2017.02.22-16.33.47_MD657_1_0136_alignedTo_MD657-F44-2017.02.18-06.06.27_MD657_1_0130_cropped_down32\n",
      "aws s3 cp s3://mousebrainatlas-data/CSHL_scoremaps_down32/MD657/MD657-N46-2017.02.22-16.33.47_MD657_1_0136_alignedTo_MD657-F44-2017.02.18-06.06.27_MD657_1_0130_cropped_down32/MD657-N46-2017.02.22-16.33.47_MD657_1_0136_alignedTo_MD657-F44-2017.02.18-06.06.27_MD657_1_0130_cropped_down32_outerContour_denseScoreMap_setting_30.bp /shared/CSHL_scoremaps_down32/MD657/MD657-N46-2017.02.22-16.33.47_MD657_1_0136_alignedTo_MD657-F44-2017.02.18-06.06.27_MD657_1_0130_cropped_down32/MD657-N46-2017.02.22-16.33.47_MD657_1_0136_alignedTo_MD657-F44-2017.02.18-06.06.27_MD657_1_0130_cropped_down32_outerContour_denseScoreMap_setting_30.bp\n"
     ]
    },
    {
     "name": "stderr",
     "output_type": "stream",
     "text": [
      "Child returned 1\n",
      "0.34 seconds.\n",
      "Child returned 0\n"
     ]
    },
    {
     "name": "stdout",
     "output_type": "stream",
     "text": [
      "rm -rf /shared/CSHL_scoremaps_down32/MD657/MD657-N46-2017.02.22-16.33.47_MD657_2_0137_alignedTo_MD657-F44-2017.02.18-06.06.27_MD657_1_0130_cropped_down32/MD657-N46-2017.02.22-16.33.47_MD657_2_0137_alignedTo_MD657-F44-2017.02.18-06.06.27_MD657_1_0130_cropped_down32_outerContour_denseScoreMap_setting_30.bp && mkdir -p /shared/CSHL_scoremaps_down32/MD657/MD657-N46-2017.02.22-16.33.47_MD657_2_0137_alignedTo_MD657-F44-2017.02.18-06.06.27_MD657_1_0130_cropped_down32\n",
      "aws s3 cp s3://mousebrainatlas-data/CSHL_scoremaps_down32/MD657/MD657-N46-2017.02.22-16.33.47_MD657_2_0137_alignedTo_MD657-F44-2017.02.18-06.06.27_MD657_1_0130_cropped_down32/MD657-N46-2017.02.22-16.33.47_MD657_2_0137_alignedTo_MD657-F44-2017.02.18-06.06.27_MD657_1_0130_cropped_down32_outerContour_denseScoreMap_setting_30.bp /shared/CSHL_scoremaps_down32/MD657/MD657-N46-2017.02.22-16.33.47_MD657_2_0137_alignedTo_MD657-F44-2017.02.18-06.06.27_MD657_1_0130_cropped_down32/MD657-N46-2017.02.22-16.33.47_MD657_2_0137_alignedTo_MD657-F44-2017.02.18-06.06.27_MD657_1_0130_cropped_down32_outerContour_denseScoreMap_setting_30.bp\n"
     ]
    },
    {
     "name": "stderr",
     "output_type": "stream",
     "text": [
      "Child returned 1\n",
      "0.34 seconds.\n",
      "Child returned 0\n"
     ]
    },
    {
     "name": "stdout",
     "output_type": "stream",
     "text": [
      "rm -rf /shared/CSHL_scoremaps_down32/MD657/MD657-N47-2017.02.22-16.37.53_MD657_1_0139_alignedTo_MD657-F44-2017.02.18-06.06.27_MD657_1_0130_cropped_down32/MD657-N47-2017.02.22-16.37.53_MD657_1_0139_alignedTo_MD657-F44-2017.02.18-06.06.27_MD657_1_0130_cropped_down32_outerContour_denseScoreMap_setting_30.bp && mkdir -p /shared/CSHL_scoremaps_down32/MD657/MD657-N47-2017.02.22-16.37.53_MD657_1_0139_alignedTo_MD657-F44-2017.02.18-06.06.27_MD657_1_0130_cropped_down32\n",
      "aws s3 cp s3://mousebrainatlas-data/CSHL_scoremaps_down32/MD657/MD657-N47-2017.02.22-16.37.53_MD657_1_0139_alignedTo_MD657-F44-2017.02.18-06.06.27_MD657_1_0130_cropped_down32/MD657-N47-2017.02.22-16.37.53_MD657_1_0139_alignedTo_MD657-F44-2017.02.18-06.06.27_MD657_1_0130_cropped_down32_outerContour_denseScoreMap_setting_30.bp /shared/CSHL_scoremaps_down32/MD657/MD657-N47-2017.02.22-16.37.53_MD657_1_0139_alignedTo_MD657-F44-2017.02.18-06.06.27_MD657_1_0130_cropped_down32/MD657-N47-2017.02.22-16.37.53_MD657_1_0139_alignedTo_MD657-F44-2017.02.18-06.06.27_MD657_1_0130_cropped_down32_outerContour_denseScoreMap_setting_30.bp\n"
     ]
    },
    {
     "name": "stderr",
     "output_type": "stream",
     "text": [
      "Child returned 1\n",
      "0.34 seconds.\n",
      "Child returned 0\n"
     ]
    },
    {
     "name": "stdout",
     "output_type": "stream",
     "text": [
      "rm -rf /shared/CSHL_scoremaps_down32/MD657/MD657-N47-2017.02.22-16.37.53_MD657_2_0140_alignedTo_MD657-F44-2017.02.18-06.06.27_MD657_1_0130_cropped_down32/MD657-N47-2017.02.22-16.37.53_MD657_2_0140_alignedTo_MD657-F44-2017.02.18-06.06.27_MD657_1_0130_cropped_down32_outerContour_denseScoreMap_setting_30.bp && mkdir -p /shared/CSHL_scoremaps_down32/MD657/MD657-N47-2017.02.22-16.37.53_MD657_2_0140_alignedTo_MD657-F44-2017.02.18-06.06.27_MD657_1_0130_cropped_down32\n",
      "aws s3 cp s3://mousebrainatlas-data/CSHL_scoremaps_down32/MD657/MD657-N47-2017.02.22-16.37.53_MD657_2_0140_alignedTo_MD657-F44-2017.02.18-06.06.27_MD657_1_0130_cropped_down32/MD657-N47-2017.02.22-16.37.53_MD657_2_0140_alignedTo_MD657-F44-2017.02.18-06.06.27_MD657_1_0130_cropped_down32_outerContour_denseScoreMap_setting_30.bp /shared/CSHL_scoremaps_down32/MD657/MD657-N47-2017.02.22-16.37.53_MD657_2_0140_alignedTo_MD657-F44-2017.02.18-06.06.27_MD657_1_0130_cropped_down32/MD657-N47-2017.02.22-16.37.53_MD657_2_0140_alignedTo_MD657-F44-2017.02.18-06.06.27_MD657_1_0130_cropped_down32_outerContour_denseScoreMap_setting_30.bp\n"
     ]
    },
    {
     "name": "stderr",
     "output_type": "stream",
     "text": [
      "Child returned 1\n",
      "0.35 seconds.\n",
      "Child returned 0\n"
     ]
    },
    {
     "name": "stdout",
     "output_type": "stream",
     "text": [
      "rm -rf /shared/CSHL_scoremaps_down32/MD657/MD657-N48-2017.02.22-16.41.55_MD657_1_0142_alignedTo_MD657-F44-2017.02.18-06.06.27_MD657_1_0130_cropped_down32/MD657-N48-2017.02.22-16.41.55_MD657_1_0142_alignedTo_MD657-F44-2017.02.18-06.06.27_MD657_1_0130_cropped_down32_outerContour_denseScoreMap_setting_30.bp && mkdir -p /shared/CSHL_scoremaps_down32/MD657/MD657-N48-2017.02.22-16.41.55_MD657_1_0142_alignedTo_MD657-F44-2017.02.18-06.06.27_MD657_1_0130_cropped_down32\n",
      "aws s3 cp s3://mousebrainatlas-data/CSHL_scoremaps_down32/MD657/MD657-N48-2017.02.22-16.41.55_MD657_1_0142_alignedTo_MD657-F44-2017.02.18-06.06.27_MD657_1_0130_cropped_down32/MD657-N48-2017.02.22-16.41.55_MD657_1_0142_alignedTo_MD657-F44-2017.02.18-06.06.27_MD657_1_0130_cropped_down32_outerContour_denseScoreMap_setting_30.bp /shared/CSHL_scoremaps_down32/MD657/MD657-N48-2017.02.22-16.41.55_MD657_1_0142_alignedTo_MD657-F44-2017.02.18-06.06.27_MD657_1_0130_cropped_down32/MD657-N48-2017.02.22-16.41.55_MD657_1_0142_alignedTo_MD657-F44-2017.02.18-06.06.27_MD657_1_0130_cropped_down32_outerContour_denseScoreMap_setting_30.bp\n"
     ]
    },
    {
     "name": "stderr",
     "output_type": "stream",
     "text": [
      "Child returned 1\n",
      "0.34 seconds.\n",
      "Child returned 0\n"
     ]
    },
    {
     "name": "stdout",
     "output_type": "stream",
     "text": [
      "rm -rf /shared/CSHL_scoremaps_down32/MD657/MD657-N48-2017.02.22-16.41.55_MD657_2_0143_alignedTo_MD657-F44-2017.02.18-06.06.27_MD657_1_0130_cropped_down32/MD657-N48-2017.02.22-16.41.55_MD657_2_0143_alignedTo_MD657-F44-2017.02.18-06.06.27_MD657_1_0130_cropped_down32_outerContour_denseScoreMap_setting_30.bp && mkdir -p /shared/CSHL_scoremaps_down32/MD657/MD657-N48-2017.02.22-16.41.55_MD657_2_0143_alignedTo_MD657-F44-2017.02.18-06.06.27_MD657_1_0130_cropped_down32\n",
      "aws s3 cp s3://mousebrainatlas-data/CSHL_scoremaps_down32/MD657/MD657-N48-2017.02.22-16.41.55_MD657_2_0143_alignedTo_MD657-F44-2017.02.18-06.06.27_MD657_1_0130_cropped_down32/MD657-N48-2017.02.22-16.41.55_MD657_2_0143_alignedTo_MD657-F44-2017.02.18-06.06.27_MD657_1_0130_cropped_down32_outerContour_denseScoreMap_setting_30.bp /shared/CSHL_scoremaps_down32/MD657/MD657-N48-2017.02.22-16.41.55_MD657_2_0143_alignedTo_MD657-F44-2017.02.18-06.06.27_MD657_1_0130_cropped_down32/MD657-N48-2017.02.22-16.41.55_MD657_2_0143_alignedTo_MD657-F44-2017.02.18-06.06.27_MD657_1_0130_cropped_down32_outerContour_denseScoreMap_setting_30.bp\n"
     ]
    },
    {
     "name": "stderr",
     "output_type": "stream",
     "text": [
      "Child returned 1\n",
      "0.34 seconds.\n",
      "Child returned 0\n"
     ]
    },
    {
     "name": "stdout",
     "output_type": "stream",
     "text": [
      "rm -rf /shared/CSHL_scoremaps_down32/MD657/MD657-N49-2017.02.22-16.46.02_MD657_1_0145_alignedTo_MD657-F44-2017.02.18-06.06.27_MD657_1_0130_cropped_down32/MD657-N49-2017.02.22-16.46.02_MD657_1_0145_alignedTo_MD657-F44-2017.02.18-06.06.27_MD657_1_0130_cropped_down32_outerContour_denseScoreMap_setting_30.bp && mkdir -p /shared/CSHL_scoremaps_down32/MD657/MD657-N49-2017.02.22-16.46.02_MD657_1_0145_alignedTo_MD657-F44-2017.02.18-06.06.27_MD657_1_0130_cropped_down32\n",
      "aws s3 cp s3://mousebrainatlas-data/CSHL_scoremaps_down32/MD657/MD657-N49-2017.02.22-16.46.02_MD657_1_0145_alignedTo_MD657-F44-2017.02.18-06.06.27_MD657_1_0130_cropped_down32/MD657-N49-2017.02.22-16.46.02_MD657_1_0145_alignedTo_MD657-F44-2017.02.18-06.06.27_MD657_1_0130_cropped_down32_outerContour_denseScoreMap_setting_30.bp /shared/CSHL_scoremaps_down32/MD657/MD657-N49-2017.02.22-16.46.02_MD657_1_0145_alignedTo_MD657-F44-2017.02.18-06.06.27_MD657_1_0130_cropped_down32/MD657-N49-2017.02.22-16.46.02_MD657_1_0145_alignedTo_MD657-F44-2017.02.18-06.06.27_MD657_1_0130_cropped_down32_outerContour_denseScoreMap_setting_30.bp\n"
     ]
    },
    {
     "name": "stderr",
     "output_type": "stream",
     "text": [
      "Child returned 1\n",
      "0.35 seconds.\n",
      "Child returned 0\n"
     ]
    },
    {
     "name": "stdout",
     "output_type": "stream",
     "text": [
      "rm -rf /shared/CSHL_scoremaps_down32/MD657/MD657-N49-2017.02.22-16.46.02_MD657_2_0146_alignedTo_MD657-F44-2017.02.18-06.06.27_MD657_1_0130_cropped_down32/MD657-N49-2017.02.22-16.46.02_MD657_2_0146_alignedTo_MD657-F44-2017.02.18-06.06.27_MD657_1_0130_cropped_down32_outerContour_denseScoreMap_setting_30.bp && mkdir -p /shared/CSHL_scoremaps_down32/MD657/MD657-N49-2017.02.22-16.46.02_MD657_2_0146_alignedTo_MD657-F44-2017.02.18-06.06.27_MD657_1_0130_cropped_down32\n",
      "aws s3 cp s3://mousebrainatlas-data/CSHL_scoremaps_down32/MD657/MD657-N49-2017.02.22-16.46.02_MD657_2_0146_alignedTo_MD657-F44-2017.02.18-06.06.27_MD657_1_0130_cropped_down32/MD657-N49-2017.02.22-16.46.02_MD657_2_0146_alignedTo_MD657-F44-2017.02.18-06.06.27_MD657_1_0130_cropped_down32_outerContour_denseScoreMap_setting_30.bp /shared/CSHL_scoremaps_down32/MD657/MD657-N49-2017.02.22-16.46.02_MD657_2_0146_alignedTo_MD657-F44-2017.02.18-06.06.27_MD657_1_0130_cropped_down32/MD657-N49-2017.02.22-16.46.02_MD657_2_0146_alignedTo_MD657-F44-2017.02.18-06.06.27_MD657_1_0130_cropped_down32_outerContour_denseScoreMap_setting_30.bp\n"
     ]
    },
    {
     "name": "stderr",
     "output_type": "stream",
     "text": [
      "Child returned 1\n",
      "0.34 seconds.\n",
      "Child returned 0\n"
     ]
    },
    {
     "name": "stdout",
     "output_type": "stream",
     "text": [
      "rm -rf /shared/CSHL_scoremaps_down32/MD657/MD657-N50-2017.02.22-16.50.15_MD657_1_0148_alignedTo_MD657-F44-2017.02.18-06.06.27_MD657_1_0130_cropped_down32/MD657-N50-2017.02.22-16.50.15_MD657_1_0148_alignedTo_MD657-F44-2017.02.18-06.06.27_MD657_1_0130_cropped_down32_outerContour_denseScoreMap_setting_30.bp && mkdir -p /shared/CSHL_scoremaps_down32/MD657/MD657-N50-2017.02.22-16.50.15_MD657_1_0148_alignedTo_MD657-F44-2017.02.18-06.06.27_MD657_1_0130_cropped_down32\n",
      "aws s3 cp s3://mousebrainatlas-data/CSHL_scoremaps_down32/MD657/MD657-N50-2017.02.22-16.50.15_MD657_1_0148_alignedTo_MD657-F44-2017.02.18-06.06.27_MD657_1_0130_cropped_down32/MD657-N50-2017.02.22-16.50.15_MD657_1_0148_alignedTo_MD657-F44-2017.02.18-06.06.27_MD657_1_0130_cropped_down32_outerContour_denseScoreMap_setting_30.bp /shared/CSHL_scoremaps_down32/MD657/MD657-N50-2017.02.22-16.50.15_MD657_1_0148_alignedTo_MD657-F44-2017.02.18-06.06.27_MD657_1_0130_cropped_down32/MD657-N50-2017.02.22-16.50.15_MD657_1_0148_alignedTo_MD657-F44-2017.02.18-06.06.27_MD657_1_0130_cropped_down32_outerContour_denseScoreMap_setting_30.bp\n"
     ]
    },
    {
     "name": "stderr",
     "output_type": "stream",
     "text": [
      "Child returned 1\n",
      "0.35 seconds.\n",
      "Child returned 0\n"
     ]
    },
    {
     "name": "stdout",
     "output_type": "stream",
     "text": [
      "rm -rf /shared/CSHL_scoremaps_down32/MD657/MD657-N50-2017.02.22-16.50.15_MD657_2_0149_alignedTo_MD657-F44-2017.02.18-06.06.27_MD657_1_0130_cropped_down32/MD657-N50-2017.02.22-16.50.15_MD657_2_0149_alignedTo_MD657-F44-2017.02.18-06.06.27_MD657_1_0130_cropped_down32_outerContour_denseScoreMap_setting_30.bp && mkdir -p /shared/CSHL_scoremaps_down32/MD657/MD657-N50-2017.02.22-16.50.15_MD657_2_0149_alignedTo_MD657-F44-2017.02.18-06.06.27_MD657_1_0130_cropped_down32\n",
      "aws s3 cp s3://mousebrainatlas-data/CSHL_scoremaps_down32/MD657/MD657-N50-2017.02.22-16.50.15_MD657_2_0149_alignedTo_MD657-F44-2017.02.18-06.06.27_MD657_1_0130_cropped_down32/MD657-N50-2017.02.22-16.50.15_MD657_2_0149_alignedTo_MD657-F44-2017.02.18-06.06.27_MD657_1_0130_cropped_down32_outerContour_denseScoreMap_setting_30.bp /shared/CSHL_scoremaps_down32/MD657/MD657-N50-2017.02.22-16.50.15_MD657_2_0149_alignedTo_MD657-F44-2017.02.18-06.06.27_MD657_1_0130_cropped_down32/MD657-N50-2017.02.22-16.50.15_MD657_2_0149_alignedTo_MD657-F44-2017.02.18-06.06.27_MD657_1_0130_cropped_down32_outerContour_denseScoreMap_setting_30.bp\n"
     ]
    },
    {
     "name": "stderr",
     "output_type": "stream",
     "text": [
      "Child returned 1\n",
      "0.34 seconds.\n",
      "Child returned 0\n"
     ]
    },
    {
     "name": "stdout",
     "output_type": "stream",
     "text": [
      "rm -rf /shared/CSHL_scoremaps_down32/MD657/MD657-N51-2017.02.22-16.54.20_MD657_2_0152_alignedTo_MD657-F44-2017.02.18-06.06.27_MD657_1_0130_cropped_down32/MD657-N51-2017.02.22-16.54.20_MD657_2_0152_alignedTo_MD657-F44-2017.02.18-06.06.27_MD657_1_0130_cropped_down32_outerContour_denseScoreMap_setting_30.bp && mkdir -p /shared/CSHL_scoremaps_down32/MD657/MD657-N51-2017.02.22-16.54.20_MD657_2_0152_alignedTo_MD657-F44-2017.02.18-06.06.27_MD657_1_0130_cropped_down32\n",
      "aws s3 cp s3://mousebrainatlas-data/CSHL_scoremaps_down32/MD657/MD657-N51-2017.02.22-16.54.20_MD657_2_0152_alignedTo_MD657-F44-2017.02.18-06.06.27_MD657_1_0130_cropped_down32/MD657-N51-2017.02.22-16.54.20_MD657_2_0152_alignedTo_MD657-F44-2017.02.18-06.06.27_MD657_1_0130_cropped_down32_outerContour_denseScoreMap_setting_30.bp /shared/CSHL_scoremaps_down32/MD657/MD657-N51-2017.02.22-16.54.20_MD657_2_0152_alignedTo_MD657-F44-2017.02.18-06.06.27_MD657_1_0130_cropped_down32/MD657-N51-2017.02.22-16.54.20_MD657_2_0152_alignedTo_MD657-F44-2017.02.18-06.06.27_MD657_1_0130_cropped_down32_outerContour_denseScoreMap_setting_30.bp\n"
     ]
    },
    {
     "name": "stderr",
     "output_type": "stream",
     "text": [
      "Child returned 1\n",
      "0.37 seconds.\n",
      "Child returned 0\n"
     ]
    },
    {
     "name": "stdout",
     "output_type": "stream",
     "text": [
      "rm -rf /shared/CSHL_scoremaps_down32/MD657/MD657-N52-2017.02.22-16.58.50_MD657_1_0154_alignedTo_MD657-F44-2017.02.18-06.06.27_MD657_1_0130_cropped_down32/MD657-N52-2017.02.22-16.58.50_MD657_1_0154_alignedTo_MD657-F44-2017.02.18-06.06.27_MD657_1_0130_cropped_down32_outerContour_denseScoreMap_setting_30.bp && mkdir -p /shared/CSHL_scoremaps_down32/MD657/MD657-N52-2017.02.22-16.58.50_MD657_1_0154_alignedTo_MD657-F44-2017.02.18-06.06.27_MD657_1_0130_cropped_down32\n",
      "aws s3 cp s3://mousebrainatlas-data/CSHL_scoremaps_down32/MD657/MD657-N52-2017.02.22-16.58.50_MD657_1_0154_alignedTo_MD657-F44-2017.02.18-06.06.27_MD657_1_0130_cropped_down32/MD657-N52-2017.02.22-16.58.50_MD657_1_0154_alignedTo_MD657-F44-2017.02.18-06.06.27_MD657_1_0130_cropped_down32_outerContour_denseScoreMap_setting_30.bp /shared/CSHL_scoremaps_down32/MD657/MD657-N52-2017.02.22-16.58.50_MD657_1_0154_alignedTo_MD657-F44-2017.02.18-06.06.27_MD657_1_0130_cropped_down32/MD657-N52-2017.02.22-16.58.50_MD657_1_0154_alignedTo_MD657-F44-2017.02.18-06.06.27_MD657_1_0130_cropped_down32_outerContour_denseScoreMap_setting_30.bp\n"
     ]
    },
    {
     "name": "stderr",
     "output_type": "stream",
     "text": [
      "Child returned 1\n",
      "0.34 seconds.\n",
      "Child returned 0\n"
     ]
    },
    {
     "name": "stdout",
     "output_type": "stream",
     "text": [
      "rm -rf /shared/CSHL_scoremaps_down32/MD657/MD657-N52-2017.02.22-16.58.50_MD657_2_0155_alignedTo_MD657-F44-2017.02.18-06.06.27_MD657_1_0130_cropped_down32/MD657-N52-2017.02.22-16.58.50_MD657_2_0155_alignedTo_MD657-F44-2017.02.18-06.06.27_MD657_1_0130_cropped_down32_outerContour_denseScoreMap_setting_30.bp && mkdir -p /shared/CSHL_scoremaps_down32/MD657/MD657-N52-2017.02.22-16.58.50_MD657_2_0155_alignedTo_MD657-F44-2017.02.18-06.06.27_MD657_1_0130_cropped_down32\n",
      "aws s3 cp s3://mousebrainatlas-data/CSHL_scoremaps_down32/MD657/MD657-N52-2017.02.22-16.58.50_MD657_2_0155_alignedTo_MD657-F44-2017.02.18-06.06.27_MD657_1_0130_cropped_down32/MD657-N52-2017.02.22-16.58.50_MD657_2_0155_alignedTo_MD657-F44-2017.02.18-06.06.27_MD657_1_0130_cropped_down32_outerContour_denseScoreMap_setting_30.bp /shared/CSHL_scoremaps_down32/MD657/MD657-N52-2017.02.22-16.58.50_MD657_2_0155_alignedTo_MD657-F44-2017.02.18-06.06.27_MD657_1_0130_cropped_down32/MD657-N52-2017.02.22-16.58.50_MD657_2_0155_alignedTo_MD657-F44-2017.02.18-06.06.27_MD657_1_0130_cropped_down32_outerContour_denseScoreMap_setting_30.bp\n"
     ]
    },
    {
     "name": "stderr",
     "output_type": "stream",
     "text": [
      "Child returned 1\n",
      "0.35 seconds.\n",
      "Child returned 0\n"
     ]
    },
    {
     "name": "stdout",
     "output_type": "stream",
     "text": [
      "rm -rf /shared/CSHL_scoremaps_down32/MD657/MD657-N53-2017.02.22-17.02.55_MD657_1_0157_alignedTo_MD657-F44-2017.02.18-06.06.27_MD657_1_0130_cropped_down32/MD657-N53-2017.02.22-17.02.55_MD657_1_0157_alignedTo_MD657-F44-2017.02.18-06.06.27_MD657_1_0130_cropped_down32_outerContour_denseScoreMap_setting_30.bp && mkdir -p /shared/CSHL_scoremaps_down32/MD657/MD657-N53-2017.02.22-17.02.55_MD657_1_0157_alignedTo_MD657-F44-2017.02.18-06.06.27_MD657_1_0130_cropped_down32\n",
      "aws s3 cp s3://mousebrainatlas-data/CSHL_scoremaps_down32/MD657/MD657-N53-2017.02.22-17.02.55_MD657_1_0157_alignedTo_MD657-F44-2017.02.18-06.06.27_MD657_1_0130_cropped_down32/MD657-N53-2017.02.22-17.02.55_MD657_1_0157_alignedTo_MD657-F44-2017.02.18-06.06.27_MD657_1_0130_cropped_down32_outerContour_denseScoreMap_setting_30.bp /shared/CSHL_scoremaps_down32/MD657/MD657-N53-2017.02.22-17.02.55_MD657_1_0157_alignedTo_MD657-F44-2017.02.18-06.06.27_MD657_1_0130_cropped_down32/MD657-N53-2017.02.22-17.02.55_MD657_1_0157_alignedTo_MD657-F44-2017.02.18-06.06.27_MD657_1_0130_cropped_down32_outerContour_denseScoreMap_setting_30.bp\n"
     ]
    },
    {
     "name": "stderr",
     "output_type": "stream",
     "text": [
      "Child returned 1\n",
      "0.33 seconds.\n",
      "Child returned 0\n"
     ]
    },
    {
     "name": "stdout",
     "output_type": "stream",
     "text": [
      "rm -rf /shared/CSHL_scoremaps_down32/MD657/MD657-N53-2017.02.22-17.02.55_MD657_2_0158_alignedTo_MD657-F44-2017.02.18-06.06.27_MD657_1_0130_cropped_down32/MD657-N53-2017.02.22-17.02.55_MD657_2_0158_alignedTo_MD657-F44-2017.02.18-06.06.27_MD657_1_0130_cropped_down32_outerContour_denseScoreMap_setting_30.bp && mkdir -p /shared/CSHL_scoremaps_down32/MD657/MD657-N53-2017.02.22-17.02.55_MD657_2_0158_alignedTo_MD657-F44-2017.02.18-06.06.27_MD657_1_0130_cropped_down32\n",
      "aws s3 cp s3://mousebrainatlas-data/CSHL_scoremaps_down32/MD657/MD657-N53-2017.02.22-17.02.55_MD657_2_0158_alignedTo_MD657-F44-2017.02.18-06.06.27_MD657_1_0130_cropped_down32/MD657-N53-2017.02.22-17.02.55_MD657_2_0158_alignedTo_MD657-F44-2017.02.18-06.06.27_MD657_1_0130_cropped_down32_outerContour_denseScoreMap_setting_30.bp /shared/CSHL_scoremaps_down32/MD657/MD657-N53-2017.02.22-17.02.55_MD657_2_0158_alignedTo_MD657-F44-2017.02.18-06.06.27_MD657_1_0130_cropped_down32/MD657-N53-2017.02.22-17.02.55_MD657_2_0158_alignedTo_MD657-F44-2017.02.18-06.06.27_MD657_1_0130_cropped_down32_outerContour_denseScoreMap_setting_30.bp\n"
     ]
    },
    {
     "name": "stderr",
     "output_type": "stream",
     "text": [
      "Child returned 1\n",
      "0.33 seconds.\n",
      "Child returned 0\n"
     ]
    },
    {
     "name": "stdout",
     "output_type": "stream",
     "text": [
      "rm -rf /shared/CSHL_scoremaps_down32/MD657/MD657-N54-2017.02.22-17.07.22_MD657_1_0160_alignedTo_MD657-F44-2017.02.18-06.06.27_MD657_1_0130_cropped_down32/MD657-N54-2017.02.22-17.07.22_MD657_1_0160_alignedTo_MD657-F44-2017.02.18-06.06.27_MD657_1_0130_cropped_down32_outerContour_denseScoreMap_setting_30.bp && mkdir -p /shared/CSHL_scoremaps_down32/MD657/MD657-N54-2017.02.22-17.07.22_MD657_1_0160_alignedTo_MD657-F44-2017.02.18-06.06.27_MD657_1_0130_cropped_down32\n",
      "aws s3 cp s3://mousebrainatlas-data/CSHL_scoremaps_down32/MD657/MD657-N54-2017.02.22-17.07.22_MD657_1_0160_alignedTo_MD657-F44-2017.02.18-06.06.27_MD657_1_0130_cropped_down32/MD657-N54-2017.02.22-17.07.22_MD657_1_0160_alignedTo_MD657-F44-2017.02.18-06.06.27_MD657_1_0130_cropped_down32_outerContour_denseScoreMap_setting_30.bp /shared/CSHL_scoremaps_down32/MD657/MD657-N54-2017.02.22-17.07.22_MD657_1_0160_alignedTo_MD657-F44-2017.02.18-06.06.27_MD657_1_0130_cropped_down32/MD657-N54-2017.02.22-17.07.22_MD657_1_0160_alignedTo_MD657-F44-2017.02.18-06.06.27_MD657_1_0130_cropped_down32_outerContour_denseScoreMap_setting_30.bp\n"
     ]
    },
    {
     "name": "stderr",
     "output_type": "stream",
     "text": [
      "Child returned 1\n",
      "0.36 seconds.\n",
      "Child returned 0\n"
     ]
    },
    {
     "name": "stdout",
     "output_type": "stream",
     "text": [
      "rm -rf /shared/CSHL_scoremaps_down32/MD657/MD657-N54-2017.02.22-17.07.22_MD657_2_0161_alignedTo_MD657-F44-2017.02.18-06.06.27_MD657_1_0130_cropped_down32/MD657-N54-2017.02.22-17.07.22_MD657_2_0161_alignedTo_MD657-F44-2017.02.18-06.06.27_MD657_1_0130_cropped_down32_outerContour_denseScoreMap_setting_30.bp && mkdir -p /shared/CSHL_scoremaps_down32/MD657/MD657-N54-2017.02.22-17.07.22_MD657_2_0161_alignedTo_MD657-F44-2017.02.18-06.06.27_MD657_1_0130_cropped_down32\n",
      "aws s3 cp s3://mousebrainatlas-data/CSHL_scoremaps_down32/MD657/MD657-N54-2017.02.22-17.07.22_MD657_2_0161_alignedTo_MD657-F44-2017.02.18-06.06.27_MD657_1_0130_cropped_down32/MD657-N54-2017.02.22-17.07.22_MD657_2_0161_alignedTo_MD657-F44-2017.02.18-06.06.27_MD657_1_0130_cropped_down32_outerContour_denseScoreMap_setting_30.bp /shared/CSHL_scoremaps_down32/MD657/MD657-N54-2017.02.22-17.07.22_MD657_2_0161_alignedTo_MD657-F44-2017.02.18-06.06.27_MD657_1_0130_cropped_down32/MD657-N54-2017.02.22-17.07.22_MD657_2_0161_alignedTo_MD657-F44-2017.02.18-06.06.27_MD657_1_0130_cropped_down32_outerContour_denseScoreMap_setting_30.bp\n"
     ]
    },
    {
     "name": "stderr",
     "output_type": "stream",
     "text": [
      "Child returned 1\n",
      "0.34 seconds.\n",
      "Child returned 0\n"
     ]
    },
    {
     "name": "stdout",
     "output_type": "stream",
     "text": [
      "rm -rf /shared/CSHL_scoremaps_down32/MD657/MD657-N55-2017.02.22-17.12.27_MD657_1_0163_alignedTo_MD657-F44-2017.02.18-06.06.27_MD657_1_0130_cropped_down32/MD657-N55-2017.02.22-17.12.27_MD657_1_0163_alignedTo_MD657-F44-2017.02.18-06.06.27_MD657_1_0130_cropped_down32_outerContour_denseScoreMap_setting_30.bp && mkdir -p /shared/CSHL_scoremaps_down32/MD657/MD657-N55-2017.02.22-17.12.27_MD657_1_0163_alignedTo_MD657-F44-2017.02.18-06.06.27_MD657_1_0130_cropped_down32\n",
      "aws s3 cp s3://mousebrainatlas-data/CSHL_scoremaps_down32/MD657/MD657-N55-2017.02.22-17.12.27_MD657_1_0163_alignedTo_MD657-F44-2017.02.18-06.06.27_MD657_1_0130_cropped_down32/MD657-N55-2017.02.22-17.12.27_MD657_1_0163_alignedTo_MD657-F44-2017.02.18-06.06.27_MD657_1_0130_cropped_down32_outerContour_denseScoreMap_setting_30.bp /shared/CSHL_scoremaps_down32/MD657/MD657-N55-2017.02.22-17.12.27_MD657_1_0163_alignedTo_MD657-F44-2017.02.18-06.06.27_MD657_1_0130_cropped_down32/MD657-N55-2017.02.22-17.12.27_MD657_1_0163_alignedTo_MD657-F44-2017.02.18-06.06.27_MD657_1_0130_cropped_down32_outerContour_denseScoreMap_setting_30.bp\n"
     ]
    },
    {
     "name": "stderr",
     "output_type": "stream",
     "text": [
      "Child returned 1\n",
      "0.33 seconds.\n",
      "Child returned 0\n"
     ]
    },
    {
     "name": "stdout",
     "output_type": "stream",
     "text": [
      "rm -rf /shared/CSHL_scoremaps_down32/MD657/MD657-N55-2017.02.22-17.12.27_MD657_2_0164_alignedTo_MD657-F44-2017.02.18-06.06.27_MD657_1_0130_cropped_down32/MD657-N55-2017.02.22-17.12.27_MD657_2_0164_alignedTo_MD657-F44-2017.02.18-06.06.27_MD657_1_0130_cropped_down32_outerContour_denseScoreMap_setting_30.bp && mkdir -p /shared/CSHL_scoremaps_down32/MD657/MD657-N55-2017.02.22-17.12.27_MD657_2_0164_alignedTo_MD657-F44-2017.02.18-06.06.27_MD657_1_0130_cropped_down32\n",
      "aws s3 cp s3://mousebrainatlas-data/CSHL_scoremaps_down32/MD657/MD657-N55-2017.02.22-17.12.27_MD657_2_0164_alignedTo_MD657-F44-2017.02.18-06.06.27_MD657_1_0130_cropped_down32/MD657-N55-2017.02.22-17.12.27_MD657_2_0164_alignedTo_MD657-F44-2017.02.18-06.06.27_MD657_1_0130_cropped_down32_outerContour_denseScoreMap_setting_30.bp /shared/CSHL_scoremaps_down32/MD657/MD657-N55-2017.02.22-17.12.27_MD657_2_0164_alignedTo_MD657-F44-2017.02.18-06.06.27_MD657_1_0130_cropped_down32/MD657-N55-2017.02.22-17.12.27_MD657_2_0164_alignedTo_MD657-F44-2017.02.18-06.06.27_MD657_1_0130_cropped_down32_outerContour_denseScoreMap_setting_30.bp\n"
     ]
    },
    {
     "name": "stderr",
     "output_type": "stream",
     "text": [
      "Child returned 1\n",
      "0.34 seconds.\n",
      "Child returned 0\n"
     ]
    },
    {
     "name": "stdout",
     "output_type": "stream",
     "text": [
      "rm -rf /shared/CSHL_scoremaps_down32/MD657/MD657-N56-2017.02.22-17.16.39_MD657_1_0166_alignedTo_MD657-F44-2017.02.18-06.06.27_MD657_1_0130_cropped_down32/MD657-N56-2017.02.22-17.16.39_MD657_1_0166_alignedTo_MD657-F44-2017.02.18-06.06.27_MD657_1_0130_cropped_down32_outerContour_denseScoreMap_setting_30.bp && mkdir -p /shared/CSHL_scoremaps_down32/MD657/MD657-N56-2017.02.22-17.16.39_MD657_1_0166_alignedTo_MD657-F44-2017.02.18-06.06.27_MD657_1_0130_cropped_down32\n",
      "aws s3 cp s3://mousebrainatlas-data/CSHL_scoremaps_down32/MD657/MD657-N56-2017.02.22-17.16.39_MD657_1_0166_alignedTo_MD657-F44-2017.02.18-06.06.27_MD657_1_0130_cropped_down32/MD657-N56-2017.02.22-17.16.39_MD657_1_0166_alignedTo_MD657-F44-2017.02.18-06.06.27_MD657_1_0130_cropped_down32_outerContour_denseScoreMap_setting_30.bp /shared/CSHL_scoremaps_down32/MD657/MD657-N56-2017.02.22-17.16.39_MD657_1_0166_alignedTo_MD657-F44-2017.02.18-06.06.27_MD657_1_0130_cropped_down32/MD657-N56-2017.02.22-17.16.39_MD657_1_0166_alignedTo_MD657-F44-2017.02.18-06.06.27_MD657_1_0130_cropped_down32_outerContour_denseScoreMap_setting_30.bp\n"
     ]
    },
    {
     "name": "stderr",
     "output_type": "stream",
     "text": [
      "Child returned 1\n",
      "0.33 seconds.\n",
      "Child returned 0\n"
     ]
    },
    {
     "name": "stdout",
     "output_type": "stream",
     "text": [
      "rm -rf /shared/CSHL_scoremaps_down32/MD657/MD657-N56-2017.02.22-17.16.39_MD657_2_0167_alignedTo_MD657-F44-2017.02.18-06.06.27_MD657_1_0130_cropped_down32/MD657-N56-2017.02.22-17.16.39_MD657_2_0167_alignedTo_MD657-F44-2017.02.18-06.06.27_MD657_1_0130_cropped_down32_outerContour_denseScoreMap_setting_30.bp && mkdir -p /shared/CSHL_scoremaps_down32/MD657/MD657-N56-2017.02.22-17.16.39_MD657_2_0167_alignedTo_MD657-F44-2017.02.18-06.06.27_MD657_1_0130_cropped_down32\n",
      "aws s3 cp s3://mousebrainatlas-data/CSHL_scoremaps_down32/MD657/MD657-N56-2017.02.22-17.16.39_MD657_2_0167_alignedTo_MD657-F44-2017.02.18-06.06.27_MD657_1_0130_cropped_down32/MD657-N56-2017.02.22-17.16.39_MD657_2_0167_alignedTo_MD657-F44-2017.02.18-06.06.27_MD657_1_0130_cropped_down32_outerContour_denseScoreMap_setting_30.bp /shared/CSHL_scoremaps_down32/MD657/MD657-N56-2017.02.22-17.16.39_MD657_2_0167_alignedTo_MD657-F44-2017.02.18-06.06.27_MD657_1_0130_cropped_down32/MD657-N56-2017.02.22-17.16.39_MD657_2_0167_alignedTo_MD657-F44-2017.02.18-06.06.27_MD657_1_0130_cropped_down32_outerContour_denseScoreMap_setting_30.bp\n"
     ]
    },
    {
     "name": "stderr",
     "output_type": "stream",
     "text": [
      "Child returned 1\n",
      "0.33 seconds.\n",
      "Child returned 0\n"
     ]
    },
    {
     "name": "stdout",
     "output_type": "stream",
     "text": [
      "rm -rf /shared/CSHL_scoremaps_down32/MD657/MD657-N57-2017.02.22-17.20.44_MD657_1_0169_alignedTo_MD657-F44-2017.02.18-06.06.27_MD657_1_0130_cropped_down32/MD657-N57-2017.02.22-17.20.44_MD657_1_0169_alignedTo_MD657-F44-2017.02.18-06.06.27_MD657_1_0130_cropped_down32_outerContour_denseScoreMap_setting_30.bp && mkdir -p /shared/CSHL_scoremaps_down32/MD657/MD657-N57-2017.02.22-17.20.44_MD657_1_0169_alignedTo_MD657-F44-2017.02.18-06.06.27_MD657_1_0130_cropped_down32\n",
      "aws s3 cp s3://mousebrainatlas-data/CSHL_scoremaps_down32/MD657/MD657-N57-2017.02.22-17.20.44_MD657_1_0169_alignedTo_MD657-F44-2017.02.18-06.06.27_MD657_1_0130_cropped_down32/MD657-N57-2017.02.22-17.20.44_MD657_1_0169_alignedTo_MD657-F44-2017.02.18-06.06.27_MD657_1_0130_cropped_down32_outerContour_denseScoreMap_setting_30.bp /shared/CSHL_scoremaps_down32/MD657/MD657-N57-2017.02.22-17.20.44_MD657_1_0169_alignedTo_MD657-F44-2017.02.18-06.06.27_MD657_1_0130_cropped_down32/MD657-N57-2017.02.22-17.20.44_MD657_1_0169_alignedTo_MD657-F44-2017.02.18-06.06.27_MD657_1_0130_cropped_down32_outerContour_denseScoreMap_setting_30.bp\n"
     ]
    },
    {
     "name": "stderr",
     "output_type": "stream",
     "text": [
      "Child returned 1\n",
      "0.34 seconds.\n",
      "Child returned 0\n"
     ]
    },
    {
     "name": "stdout",
     "output_type": "stream",
     "text": [
      "rm -rf /shared/CSHL_scoremaps_down32/MD657/MD657-N57-2017.02.22-17.20.44_MD657_2_0170_alignedTo_MD657-F44-2017.02.18-06.06.27_MD657_1_0130_cropped_down32/MD657-N57-2017.02.22-17.20.44_MD657_2_0170_alignedTo_MD657-F44-2017.02.18-06.06.27_MD657_1_0130_cropped_down32_outerContour_denseScoreMap_setting_30.bp && mkdir -p /shared/CSHL_scoremaps_down32/MD657/MD657-N57-2017.02.22-17.20.44_MD657_2_0170_alignedTo_MD657-F44-2017.02.18-06.06.27_MD657_1_0130_cropped_down32\n",
      "aws s3 cp s3://mousebrainatlas-data/CSHL_scoremaps_down32/MD657/MD657-N57-2017.02.22-17.20.44_MD657_2_0170_alignedTo_MD657-F44-2017.02.18-06.06.27_MD657_1_0130_cropped_down32/MD657-N57-2017.02.22-17.20.44_MD657_2_0170_alignedTo_MD657-F44-2017.02.18-06.06.27_MD657_1_0130_cropped_down32_outerContour_denseScoreMap_setting_30.bp /shared/CSHL_scoremaps_down32/MD657/MD657-N57-2017.02.22-17.20.44_MD657_2_0170_alignedTo_MD657-F44-2017.02.18-06.06.27_MD657_1_0130_cropped_down32/MD657-N57-2017.02.22-17.20.44_MD657_2_0170_alignedTo_MD657-F44-2017.02.18-06.06.27_MD657_1_0130_cropped_down32_outerContour_denseScoreMap_setting_30.bp\n"
     ]
    },
    {
     "name": "stderr",
     "output_type": "stream",
     "text": [
      "Child returned 1\n",
      "0.33 seconds.\n",
      "Child returned 0\n"
     ]
    },
    {
     "name": "stdout",
     "output_type": "stream",
     "text": [
      "rm -rf /shared/CSHL_scoremaps_down32/MD657/MD657-N58-2017.02.22-17.24.45_MD657_1_0172_alignedTo_MD657-F44-2017.02.18-06.06.27_MD657_1_0130_cropped_down32/MD657-N58-2017.02.22-17.24.45_MD657_1_0172_alignedTo_MD657-F44-2017.02.18-06.06.27_MD657_1_0130_cropped_down32_outerContour_denseScoreMap_setting_30.bp && mkdir -p /shared/CSHL_scoremaps_down32/MD657/MD657-N58-2017.02.22-17.24.45_MD657_1_0172_alignedTo_MD657-F44-2017.02.18-06.06.27_MD657_1_0130_cropped_down32\n",
      "aws s3 cp s3://mousebrainatlas-data/CSHL_scoremaps_down32/MD657/MD657-N58-2017.02.22-17.24.45_MD657_1_0172_alignedTo_MD657-F44-2017.02.18-06.06.27_MD657_1_0130_cropped_down32/MD657-N58-2017.02.22-17.24.45_MD657_1_0172_alignedTo_MD657-F44-2017.02.18-06.06.27_MD657_1_0130_cropped_down32_outerContour_denseScoreMap_setting_30.bp /shared/CSHL_scoremaps_down32/MD657/MD657-N58-2017.02.22-17.24.45_MD657_1_0172_alignedTo_MD657-F44-2017.02.18-06.06.27_MD657_1_0130_cropped_down32/MD657-N58-2017.02.22-17.24.45_MD657_1_0172_alignedTo_MD657-F44-2017.02.18-06.06.27_MD657_1_0130_cropped_down32_outerContour_denseScoreMap_setting_30.bp\n"
     ]
    },
    {
     "name": "stderr",
     "output_type": "stream",
     "text": [
      "Child returned 1\n",
      "0.34 seconds.\n",
      "Child returned 0\n"
     ]
    },
    {
     "name": "stdout",
     "output_type": "stream",
     "text": [
      "rm -rf /shared/CSHL_scoremaps_down32/MD657/MD657-N58-2017.02.22-17.24.45_MD657_2_0173_alignedTo_MD657-F44-2017.02.18-06.06.27_MD657_1_0130_cropped_down32/MD657-N58-2017.02.22-17.24.45_MD657_2_0173_alignedTo_MD657-F44-2017.02.18-06.06.27_MD657_1_0130_cropped_down32_outerContour_denseScoreMap_setting_30.bp && mkdir -p /shared/CSHL_scoremaps_down32/MD657/MD657-N58-2017.02.22-17.24.45_MD657_2_0173_alignedTo_MD657-F44-2017.02.18-06.06.27_MD657_1_0130_cropped_down32\n",
      "aws s3 cp s3://mousebrainatlas-data/CSHL_scoremaps_down32/MD657/MD657-N58-2017.02.22-17.24.45_MD657_2_0173_alignedTo_MD657-F44-2017.02.18-06.06.27_MD657_1_0130_cropped_down32/MD657-N58-2017.02.22-17.24.45_MD657_2_0173_alignedTo_MD657-F44-2017.02.18-06.06.27_MD657_1_0130_cropped_down32_outerContour_denseScoreMap_setting_30.bp /shared/CSHL_scoremaps_down32/MD657/MD657-N58-2017.02.22-17.24.45_MD657_2_0173_alignedTo_MD657-F44-2017.02.18-06.06.27_MD657_1_0130_cropped_down32/MD657-N58-2017.02.22-17.24.45_MD657_2_0173_alignedTo_MD657-F44-2017.02.18-06.06.27_MD657_1_0130_cropped_down32_outerContour_denseScoreMap_setting_30.bp\n"
     ]
    },
    {
     "name": "stderr",
     "output_type": "stream",
     "text": [
      "Child returned 1\n",
      "0.34 seconds.\n",
      "Child returned 0\n"
     ]
    },
    {
     "name": "stdout",
     "output_type": "stream",
     "text": [
      "rm -rf /shared/CSHL_scoremaps_down32/MD657/MD657-N59-2017.02.22-17.28.52_MD657_1_0175_alignedTo_MD657-F44-2017.02.18-06.06.27_MD657_1_0130_cropped_down32/MD657-N59-2017.02.22-17.28.52_MD657_1_0175_alignedTo_MD657-F44-2017.02.18-06.06.27_MD657_1_0130_cropped_down32_outerContour_denseScoreMap_setting_30.bp && mkdir -p /shared/CSHL_scoremaps_down32/MD657/MD657-N59-2017.02.22-17.28.52_MD657_1_0175_alignedTo_MD657-F44-2017.02.18-06.06.27_MD657_1_0130_cropped_down32\n",
      "aws s3 cp s3://mousebrainatlas-data/CSHL_scoremaps_down32/MD657/MD657-N59-2017.02.22-17.28.52_MD657_1_0175_alignedTo_MD657-F44-2017.02.18-06.06.27_MD657_1_0130_cropped_down32/MD657-N59-2017.02.22-17.28.52_MD657_1_0175_alignedTo_MD657-F44-2017.02.18-06.06.27_MD657_1_0130_cropped_down32_outerContour_denseScoreMap_setting_30.bp /shared/CSHL_scoremaps_down32/MD657/MD657-N59-2017.02.22-17.28.52_MD657_1_0175_alignedTo_MD657-F44-2017.02.18-06.06.27_MD657_1_0130_cropped_down32/MD657-N59-2017.02.22-17.28.52_MD657_1_0175_alignedTo_MD657-F44-2017.02.18-06.06.27_MD657_1_0130_cropped_down32_outerContour_denseScoreMap_setting_30.bp\n"
     ]
    },
    {
     "name": "stderr",
     "output_type": "stream",
     "text": [
      "Child returned 1\n",
      "0.33 seconds.\n",
      "Child returned 0\n"
     ]
    },
    {
     "name": "stdout",
     "output_type": "stream",
     "text": [
      "rm -rf /shared/CSHL_scoremaps_down32/MD657/MD657-N59-2017.02.22-17.28.52_MD657_2_0176_alignedTo_MD657-F44-2017.02.18-06.06.27_MD657_1_0130_cropped_down32/MD657-N59-2017.02.22-17.28.52_MD657_2_0176_alignedTo_MD657-F44-2017.02.18-06.06.27_MD657_1_0130_cropped_down32_outerContour_denseScoreMap_setting_30.bp && mkdir -p /shared/CSHL_scoremaps_down32/MD657/MD657-N59-2017.02.22-17.28.52_MD657_2_0176_alignedTo_MD657-F44-2017.02.18-06.06.27_MD657_1_0130_cropped_down32\n",
      "aws s3 cp s3://mousebrainatlas-data/CSHL_scoremaps_down32/MD657/MD657-N59-2017.02.22-17.28.52_MD657_2_0176_alignedTo_MD657-F44-2017.02.18-06.06.27_MD657_1_0130_cropped_down32/MD657-N59-2017.02.22-17.28.52_MD657_2_0176_alignedTo_MD657-F44-2017.02.18-06.06.27_MD657_1_0130_cropped_down32_outerContour_denseScoreMap_setting_30.bp /shared/CSHL_scoremaps_down32/MD657/MD657-N59-2017.02.22-17.28.52_MD657_2_0176_alignedTo_MD657-F44-2017.02.18-06.06.27_MD657_1_0130_cropped_down32/MD657-N59-2017.02.22-17.28.52_MD657_2_0176_alignedTo_MD657-F44-2017.02.18-06.06.27_MD657_1_0130_cropped_down32_outerContour_denseScoreMap_setting_30.bp\n"
     ]
    },
    {
     "name": "stderr",
     "output_type": "stream",
     "text": [
      "Child returned 1\n",
      "0.33 seconds.\n",
      "Child returned 0\n"
     ]
    },
    {
     "name": "stdout",
     "output_type": "stream",
     "text": [
      "rm -rf /shared/CSHL_scoremaps_down32/MD657/MD657-N60-2017.02.22-17.32.54_MD657_1_0178_alignedTo_MD657-F44-2017.02.18-06.06.27_MD657_1_0130_cropped_down32/MD657-N60-2017.02.22-17.32.54_MD657_1_0178_alignedTo_MD657-F44-2017.02.18-06.06.27_MD657_1_0130_cropped_down32_outerContour_denseScoreMap_setting_30.bp && mkdir -p /shared/CSHL_scoremaps_down32/MD657/MD657-N60-2017.02.22-17.32.54_MD657_1_0178_alignedTo_MD657-F44-2017.02.18-06.06.27_MD657_1_0130_cropped_down32\n",
      "aws s3 cp s3://mousebrainatlas-data/CSHL_scoremaps_down32/MD657/MD657-N60-2017.02.22-17.32.54_MD657_1_0178_alignedTo_MD657-F44-2017.02.18-06.06.27_MD657_1_0130_cropped_down32/MD657-N60-2017.02.22-17.32.54_MD657_1_0178_alignedTo_MD657-F44-2017.02.18-06.06.27_MD657_1_0130_cropped_down32_outerContour_denseScoreMap_setting_30.bp /shared/CSHL_scoremaps_down32/MD657/MD657-N60-2017.02.22-17.32.54_MD657_1_0178_alignedTo_MD657-F44-2017.02.18-06.06.27_MD657_1_0130_cropped_down32/MD657-N60-2017.02.22-17.32.54_MD657_1_0178_alignedTo_MD657-F44-2017.02.18-06.06.27_MD657_1_0130_cropped_down32_outerContour_denseScoreMap_setting_30.bp\n"
     ]
    },
    {
     "name": "stderr",
     "output_type": "stream",
     "text": [
      "Child returned 1\n",
      "0.33 seconds.\n",
      "Child returned 0\n"
     ]
    },
    {
     "name": "stdout",
     "output_type": "stream",
     "text": [
      "rm -rf /shared/CSHL_scoremaps_down32/MD657/MD657-N60-2017.02.22-17.32.54_MD657_2_0179_alignedTo_MD657-F44-2017.02.18-06.06.27_MD657_1_0130_cropped_down32/MD657-N60-2017.02.22-17.32.54_MD657_2_0179_alignedTo_MD657-F44-2017.02.18-06.06.27_MD657_1_0130_cropped_down32_outerContour_denseScoreMap_setting_30.bp && mkdir -p /shared/CSHL_scoremaps_down32/MD657/MD657-N60-2017.02.22-17.32.54_MD657_2_0179_alignedTo_MD657-F44-2017.02.18-06.06.27_MD657_1_0130_cropped_down32\n",
      "aws s3 cp s3://mousebrainatlas-data/CSHL_scoremaps_down32/MD657/MD657-N60-2017.02.22-17.32.54_MD657_2_0179_alignedTo_MD657-F44-2017.02.18-06.06.27_MD657_1_0130_cropped_down32/MD657-N60-2017.02.22-17.32.54_MD657_2_0179_alignedTo_MD657-F44-2017.02.18-06.06.27_MD657_1_0130_cropped_down32_outerContour_denseScoreMap_setting_30.bp /shared/CSHL_scoremaps_down32/MD657/MD657-N60-2017.02.22-17.32.54_MD657_2_0179_alignedTo_MD657-F44-2017.02.18-06.06.27_MD657_1_0130_cropped_down32/MD657-N60-2017.02.22-17.32.54_MD657_2_0179_alignedTo_MD657-F44-2017.02.18-06.06.27_MD657_1_0130_cropped_down32_outerContour_denseScoreMap_setting_30.bp\n"
     ]
    },
    {
     "name": "stderr",
     "output_type": "stream",
     "text": [
      "Child returned 1\n",
      "0.32 seconds.\n",
      "Child returned 0\n"
     ]
    },
    {
     "name": "stdout",
     "output_type": "stream",
     "text": [
      "rm -rf /shared/CSHL_scoremaps_down32/MD657/MD657-N61-2017.03.21-13.54.42_MD657_2_0182_alignedTo_MD657-F44-2017.02.18-06.06.27_MD657_1_0130_cropped_down32/MD657-N61-2017.03.21-13.54.42_MD657_2_0182_alignedTo_MD657-F44-2017.02.18-06.06.27_MD657_1_0130_cropped_down32_outerContour_denseScoreMap_setting_30.bp && mkdir -p /shared/CSHL_scoremaps_down32/MD657/MD657-N61-2017.03.21-13.54.42_MD657_2_0182_alignedTo_MD657-F44-2017.02.18-06.06.27_MD657_1_0130_cropped_down32\n",
      "aws s3 cp s3://mousebrainatlas-data/CSHL_scoremaps_down32/MD657/MD657-N61-2017.03.21-13.54.42_MD657_2_0182_alignedTo_MD657-F44-2017.02.18-06.06.27_MD657_1_0130_cropped_down32/MD657-N61-2017.03.21-13.54.42_MD657_2_0182_alignedTo_MD657-F44-2017.02.18-06.06.27_MD657_1_0130_cropped_down32_outerContour_denseScoreMap_setting_30.bp /shared/CSHL_scoremaps_down32/MD657/MD657-N61-2017.03.21-13.54.42_MD657_2_0182_alignedTo_MD657-F44-2017.02.18-06.06.27_MD657_1_0130_cropped_down32/MD657-N61-2017.03.21-13.54.42_MD657_2_0182_alignedTo_MD657-F44-2017.02.18-06.06.27_MD657_1_0130_cropped_down32_outerContour_denseScoreMap_setting_30.bp\n"
     ]
    },
    {
     "name": "stderr",
     "output_type": "stream",
     "text": [
      "Child returned 1\n",
      "0.34 seconds.\n",
      "Child returned 0\n"
     ]
    },
    {
     "name": "stdout",
     "output_type": "stream",
     "text": [
      "rm -rf /shared/CSHL_scoremaps_down32/MD657/MD657-N62-2017.03.21-13.59.22_MD657_1_0184_alignedTo_MD657-F44-2017.02.18-06.06.27_MD657_1_0130_cropped_down32/MD657-N62-2017.03.21-13.59.22_MD657_1_0184_alignedTo_MD657-F44-2017.02.18-06.06.27_MD657_1_0130_cropped_down32_outerContour_denseScoreMap_setting_30.bp && mkdir -p /shared/CSHL_scoremaps_down32/MD657/MD657-N62-2017.03.21-13.59.22_MD657_1_0184_alignedTo_MD657-F44-2017.02.18-06.06.27_MD657_1_0130_cropped_down32\n",
      "aws s3 cp s3://mousebrainatlas-data/CSHL_scoremaps_down32/MD657/MD657-N62-2017.03.21-13.59.22_MD657_1_0184_alignedTo_MD657-F44-2017.02.18-06.06.27_MD657_1_0130_cropped_down32/MD657-N62-2017.03.21-13.59.22_MD657_1_0184_alignedTo_MD657-F44-2017.02.18-06.06.27_MD657_1_0130_cropped_down32_outerContour_denseScoreMap_setting_30.bp /shared/CSHL_scoremaps_down32/MD657/MD657-N62-2017.03.21-13.59.22_MD657_1_0184_alignedTo_MD657-F44-2017.02.18-06.06.27_MD657_1_0130_cropped_down32/MD657-N62-2017.03.21-13.59.22_MD657_1_0184_alignedTo_MD657-F44-2017.02.18-06.06.27_MD657_1_0130_cropped_down32_outerContour_denseScoreMap_setting_30.bp\n"
     ]
    },
    {
     "name": "stderr",
     "output_type": "stream",
     "text": [
      "Child returned 1\n",
      "0.35 seconds.\n",
      "Child returned 0\n"
     ]
    },
    {
     "name": "stdout",
     "output_type": "stream",
     "text": [
      "rm -rf /shared/CSHL_scoremaps_down32/MD657/MD657-N62-2017.03.21-13.59.22_MD657_2_0185_alignedTo_MD657-F44-2017.02.18-06.06.27_MD657_1_0130_cropped_down32/MD657-N62-2017.03.21-13.59.22_MD657_2_0185_alignedTo_MD657-F44-2017.02.18-06.06.27_MD657_1_0130_cropped_down32_outerContour_denseScoreMap_setting_30.bp && mkdir -p /shared/CSHL_scoremaps_down32/MD657/MD657-N62-2017.03.21-13.59.22_MD657_2_0185_alignedTo_MD657-F44-2017.02.18-06.06.27_MD657_1_0130_cropped_down32\n",
      "aws s3 cp s3://mousebrainatlas-data/CSHL_scoremaps_down32/MD657/MD657-N62-2017.03.21-13.59.22_MD657_2_0185_alignedTo_MD657-F44-2017.02.18-06.06.27_MD657_1_0130_cropped_down32/MD657-N62-2017.03.21-13.59.22_MD657_2_0185_alignedTo_MD657-F44-2017.02.18-06.06.27_MD657_1_0130_cropped_down32_outerContour_denseScoreMap_setting_30.bp /shared/CSHL_scoremaps_down32/MD657/MD657-N62-2017.03.21-13.59.22_MD657_2_0185_alignedTo_MD657-F44-2017.02.18-06.06.27_MD657_1_0130_cropped_down32/MD657-N62-2017.03.21-13.59.22_MD657_2_0185_alignedTo_MD657-F44-2017.02.18-06.06.27_MD657_1_0130_cropped_down32_outerContour_denseScoreMap_setting_30.bp\n"
     ]
    },
    {
     "name": "stderr",
     "output_type": "stream",
     "text": [
      "Child returned 1\n",
      "0.34 seconds.\n",
      "Child returned 0\n"
     ]
    },
    {
     "name": "stdout",
     "output_type": "stream",
     "text": [
      "rm -rf /shared/CSHL_scoremaps_down32/MD657/MD657-N63-2017.03.21-14.03.34_MD657_1_0187_alignedTo_MD657-F44-2017.02.18-06.06.27_MD657_1_0130_cropped_down32/MD657-N63-2017.03.21-14.03.34_MD657_1_0187_alignedTo_MD657-F44-2017.02.18-06.06.27_MD657_1_0130_cropped_down32_outerContour_denseScoreMap_setting_30.bp && mkdir -p /shared/CSHL_scoremaps_down32/MD657/MD657-N63-2017.03.21-14.03.34_MD657_1_0187_alignedTo_MD657-F44-2017.02.18-06.06.27_MD657_1_0130_cropped_down32\n",
      "aws s3 cp s3://mousebrainatlas-data/CSHL_scoremaps_down32/MD657/MD657-N63-2017.03.21-14.03.34_MD657_1_0187_alignedTo_MD657-F44-2017.02.18-06.06.27_MD657_1_0130_cropped_down32/MD657-N63-2017.03.21-14.03.34_MD657_1_0187_alignedTo_MD657-F44-2017.02.18-06.06.27_MD657_1_0130_cropped_down32_outerContour_denseScoreMap_setting_30.bp /shared/CSHL_scoremaps_down32/MD657/MD657-N63-2017.03.21-14.03.34_MD657_1_0187_alignedTo_MD657-F44-2017.02.18-06.06.27_MD657_1_0130_cropped_down32/MD657-N63-2017.03.21-14.03.34_MD657_1_0187_alignedTo_MD657-F44-2017.02.18-06.06.27_MD657_1_0130_cropped_down32_outerContour_denseScoreMap_setting_30.bp\n"
     ]
    },
    {
     "name": "stderr",
     "output_type": "stream",
     "text": [
      "Child returned 1\n",
      "0.33 seconds.\n",
      "Child returned 0\n"
     ]
    },
    {
     "name": "stdout",
     "output_type": "stream",
     "text": [
      "rm -rf /shared/CSHL_scoremaps_down32/MD657/MD657-N63-2017.03.21-14.03.34_MD657_2_0188_alignedTo_MD657-F44-2017.02.18-06.06.27_MD657_1_0130_cropped_down32/MD657-N63-2017.03.21-14.03.34_MD657_2_0188_alignedTo_MD657-F44-2017.02.18-06.06.27_MD657_1_0130_cropped_down32_outerContour_denseScoreMap_setting_30.bp && mkdir -p /shared/CSHL_scoremaps_down32/MD657/MD657-N63-2017.03.21-14.03.34_MD657_2_0188_alignedTo_MD657-F44-2017.02.18-06.06.27_MD657_1_0130_cropped_down32\n",
      "aws s3 cp s3://mousebrainatlas-data/CSHL_scoremaps_down32/MD657/MD657-N63-2017.03.21-14.03.34_MD657_2_0188_alignedTo_MD657-F44-2017.02.18-06.06.27_MD657_1_0130_cropped_down32/MD657-N63-2017.03.21-14.03.34_MD657_2_0188_alignedTo_MD657-F44-2017.02.18-06.06.27_MD657_1_0130_cropped_down32_outerContour_denseScoreMap_setting_30.bp /shared/CSHL_scoremaps_down32/MD657/MD657-N63-2017.03.21-14.03.34_MD657_2_0188_alignedTo_MD657-F44-2017.02.18-06.06.27_MD657_1_0130_cropped_down32/MD657-N63-2017.03.21-14.03.34_MD657_2_0188_alignedTo_MD657-F44-2017.02.18-06.06.27_MD657_1_0130_cropped_down32_outerContour_denseScoreMap_setting_30.bp\n"
     ]
    },
    {
     "name": "stderr",
     "output_type": "stream",
     "text": [
      "Child returned 1\n",
      "0.34 seconds.\n",
      "Child returned 0\n"
     ]
    },
    {
     "name": "stdout",
     "output_type": "stream",
     "text": [
      "rm -rf /shared/CSHL_scoremaps_down32/MD657/MD657-N64-2017.03.21-14.08.01_MD657_1_0190_alignedTo_MD657-F44-2017.02.18-06.06.27_MD657_1_0130_cropped_down32/MD657-N64-2017.03.21-14.08.01_MD657_1_0190_alignedTo_MD657-F44-2017.02.18-06.06.27_MD657_1_0130_cropped_down32_outerContour_denseScoreMap_setting_30.bp && mkdir -p /shared/CSHL_scoremaps_down32/MD657/MD657-N64-2017.03.21-14.08.01_MD657_1_0190_alignedTo_MD657-F44-2017.02.18-06.06.27_MD657_1_0130_cropped_down32\n",
      "aws s3 cp s3://mousebrainatlas-data/CSHL_scoremaps_down32/MD657/MD657-N64-2017.03.21-14.08.01_MD657_1_0190_alignedTo_MD657-F44-2017.02.18-06.06.27_MD657_1_0130_cropped_down32/MD657-N64-2017.03.21-14.08.01_MD657_1_0190_alignedTo_MD657-F44-2017.02.18-06.06.27_MD657_1_0130_cropped_down32_outerContour_denseScoreMap_setting_30.bp /shared/CSHL_scoremaps_down32/MD657/MD657-N64-2017.03.21-14.08.01_MD657_1_0190_alignedTo_MD657-F44-2017.02.18-06.06.27_MD657_1_0130_cropped_down32/MD657-N64-2017.03.21-14.08.01_MD657_1_0190_alignedTo_MD657-F44-2017.02.18-06.06.27_MD657_1_0130_cropped_down32_outerContour_denseScoreMap_setting_30.bp\n"
     ]
    },
    {
     "name": "stderr",
     "output_type": "stream",
     "text": [
      "Child returned 1\n",
      "0.33 seconds.\n",
      "Child returned 0\n"
     ]
    },
    {
     "name": "stdout",
     "output_type": "stream",
     "text": [
      "rm -rf /shared/CSHL_scoremaps_down32/MD657/MD657-N64-2017.03.21-14.08.01_MD657_2_0191_alignedTo_MD657-F44-2017.02.18-06.06.27_MD657_1_0130_cropped_down32/MD657-N64-2017.03.21-14.08.01_MD657_2_0191_alignedTo_MD657-F44-2017.02.18-06.06.27_MD657_1_0130_cropped_down32_outerContour_denseScoreMap_setting_30.bp && mkdir -p /shared/CSHL_scoremaps_down32/MD657/MD657-N64-2017.03.21-14.08.01_MD657_2_0191_alignedTo_MD657-F44-2017.02.18-06.06.27_MD657_1_0130_cropped_down32\n",
      "aws s3 cp s3://mousebrainatlas-data/CSHL_scoremaps_down32/MD657/MD657-N64-2017.03.21-14.08.01_MD657_2_0191_alignedTo_MD657-F44-2017.02.18-06.06.27_MD657_1_0130_cropped_down32/MD657-N64-2017.03.21-14.08.01_MD657_2_0191_alignedTo_MD657-F44-2017.02.18-06.06.27_MD657_1_0130_cropped_down32_outerContour_denseScoreMap_setting_30.bp /shared/CSHL_scoremaps_down32/MD657/MD657-N64-2017.03.21-14.08.01_MD657_2_0191_alignedTo_MD657-F44-2017.02.18-06.06.27_MD657_1_0130_cropped_down32/MD657-N64-2017.03.21-14.08.01_MD657_2_0191_alignedTo_MD657-F44-2017.02.18-06.06.27_MD657_1_0130_cropped_down32_outerContour_denseScoreMap_setting_30.bp\n"
     ]
    },
    {
     "name": "stderr",
     "output_type": "stream",
     "text": [
      "Child returned 1\n",
      "0.33 seconds.\n",
      "Child returned 0\n"
     ]
    },
    {
     "name": "stdout",
     "output_type": "stream",
     "text": [
      "rm -rf /shared/CSHL_scoremaps_down32/MD657/MD657-N65-2017.03.21-14.12.15_MD657_1_0193_alignedTo_MD657-F44-2017.02.18-06.06.27_MD657_1_0130_cropped_down32/MD657-N65-2017.03.21-14.12.15_MD657_1_0193_alignedTo_MD657-F44-2017.02.18-06.06.27_MD657_1_0130_cropped_down32_outerContour_denseScoreMap_setting_30.bp && mkdir -p /shared/CSHL_scoremaps_down32/MD657/MD657-N65-2017.03.21-14.12.15_MD657_1_0193_alignedTo_MD657-F44-2017.02.18-06.06.27_MD657_1_0130_cropped_down32\n",
      "aws s3 cp s3://mousebrainatlas-data/CSHL_scoremaps_down32/MD657/MD657-N65-2017.03.21-14.12.15_MD657_1_0193_alignedTo_MD657-F44-2017.02.18-06.06.27_MD657_1_0130_cropped_down32/MD657-N65-2017.03.21-14.12.15_MD657_1_0193_alignedTo_MD657-F44-2017.02.18-06.06.27_MD657_1_0130_cropped_down32_outerContour_denseScoreMap_setting_30.bp /shared/CSHL_scoremaps_down32/MD657/MD657-N65-2017.03.21-14.12.15_MD657_1_0193_alignedTo_MD657-F44-2017.02.18-06.06.27_MD657_1_0130_cropped_down32/MD657-N65-2017.03.21-14.12.15_MD657_1_0193_alignedTo_MD657-F44-2017.02.18-06.06.27_MD657_1_0130_cropped_down32_outerContour_denseScoreMap_setting_30.bp\n"
     ]
    },
    {
     "name": "stderr",
     "output_type": "stream",
     "text": [
      "Child returned 1\n",
      "0.35 seconds.\n",
      "Child returned 0\n"
     ]
    },
    {
     "name": "stdout",
     "output_type": "stream",
     "text": [
      "rm -rf /shared/CSHL_scoremaps_down32/MD657/MD657-N65-2017.03.21-14.12.15_MD657_2_0194_alignedTo_MD657-F44-2017.02.18-06.06.27_MD657_1_0130_cropped_down32/MD657-N65-2017.03.21-14.12.15_MD657_2_0194_alignedTo_MD657-F44-2017.02.18-06.06.27_MD657_1_0130_cropped_down32_outerContour_denseScoreMap_setting_30.bp && mkdir -p /shared/CSHL_scoremaps_down32/MD657/MD657-N65-2017.03.21-14.12.15_MD657_2_0194_alignedTo_MD657-F44-2017.02.18-06.06.27_MD657_1_0130_cropped_down32\n",
      "aws s3 cp s3://mousebrainatlas-data/CSHL_scoremaps_down32/MD657/MD657-N65-2017.03.21-14.12.15_MD657_2_0194_alignedTo_MD657-F44-2017.02.18-06.06.27_MD657_1_0130_cropped_down32/MD657-N65-2017.03.21-14.12.15_MD657_2_0194_alignedTo_MD657-F44-2017.02.18-06.06.27_MD657_1_0130_cropped_down32_outerContour_denseScoreMap_setting_30.bp /shared/CSHL_scoremaps_down32/MD657/MD657-N65-2017.03.21-14.12.15_MD657_2_0194_alignedTo_MD657-F44-2017.02.18-06.06.27_MD657_1_0130_cropped_down32/MD657-N65-2017.03.21-14.12.15_MD657_2_0194_alignedTo_MD657-F44-2017.02.18-06.06.27_MD657_1_0130_cropped_down32_outerContour_denseScoreMap_setting_30.bp\n"
     ]
    },
    {
     "name": "stderr",
     "output_type": "stream",
     "text": [
      "Child returned 1\n",
      "0.34 seconds.\n",
      "Child returned 0\n"
     ]
    },
    {
     "name": "stdout",
     "output_type": "stream",
     "text": [
      "rm -rf /shared/CSHL_scoremaps_down32/MD657/MD657-N66-2017.03.21-14.16.35_MD657_2_0197_alignedTo_MD657-F44-2017.02.18-06.06.27_MD657_1_0130_cropped_down32/MD657-N66-2017.03.21-14.16.35_MD657_2_0197_alignedTo_MD657-F44-2017.02.18-06.06.27_MD657_1_0130_cropped_down32_outerContour_denseScoreMap_setting_30.bp && mkdir -p /shared/CSHL_scoremaps_down32/MD657/MD657-N66-2017.03.21-14.16.35_MD657_2_0197_alignedTo_MD657-F44-2017.02.18-06.06.27_MD657_1_0130_cropped_down32\n",
      "aws s3 cp s3://mousebrainatlas-data/CSHL_scoremaps_down32/MD657/MD657-N66-2017.03.21-14.16.35_MD657_2_0197_alignedTo_MD657-F44-2017.02.18-06.06.27_MD657_1_0130_cropped_down32/MD657-N66-2017.03.21-14.16.35_MD657_2_0197_alignedTo_MD657-F44-2017.02.18-06.06.27_MD657_1_0130_cropped_down32_outerContour_denseScoreMap_setting_30.bp /shared/CSHL_scoremaps_down32/MD657/MD657-N66-2017.03.21-14.16.35_MD657_2_0197_alignedTo_MD657-F44-2017.02.18-06.06.27_MD657_1_0130_cropped_down32/MD657-N66-2017.03.21-14.16.35_MD657_2_0197_alignedTo_MD657-F44-2017.02.18-06.06.27_MD657_1_0130_cropped_down32_outerContour_denseScoreMap_setting_30.bp\n"
     ]
    },
    {
     "name": "stderr",
     "output_type": "stream",
     "text": [
      "Child returned 1\n",
      "0.34 seconds.\n",
      "Child returned 0\n"
     ]
    },
    {
     "name": "stdout",
     "output_type": "stream",
     "text": [
      "rm -rf /shared/CSHL_scoremaps_down32/MD657/MD657-N67-2017.02.22-17.59.54_MD657_1_0199_alignedTo_MD657-F44-2017.02.18-06.06.27_MD657_1_0130_cropped_down32/MD657-N67-2017.02.22-17.59.54_MD657_1_0199_alignedTo_MD657-F44-2017.02.18-06.06.27_MD657_1_0130_cropped_down32_outerContour_denseScoreMap_setting_30.bp && mkdir -p /shared/CSHL_scoremaps_down32/MD657/MD657-N67-2017.02.22-17.59.54_MD657_1_0199_alignedTo_MD657-F44-2017.02.18-06.06.27_MD657_1_0130_cropped_down32\n",
      "aws s3 cp s3://mousebrainatlas-data/CSHL_scoremaps_down32/MD657/MD657-N67-2017.02.22-17.59.54_MD657_1_0199_alignedTo_MD657-F44-2017.02.18-06.06.27_MD657_1_0130_cropped_down32/MD657-N67-2017.02.22-17.59.54_MD657_1_0199_alignedTo_MD657-F44-2017.02.18-06.06.27_MD657_1_0130_cropped_down32_outerContour_denseScoreMap_setting_30.bp /shared/CSHL_scoremaps_down32/MD657/MD657-N67-2017.02.22-17.59.54_MD657_1_0199_alignedTo_MD657-F44-2017.02.18-06.06.27_MD657_1_0130_cropped_down32/MD657-N67-2017.02.22-17.59.54_MD657_1_0199_alignedTo_MD657-F44-2017.02.18-06.06.27_MD657_1_0130_cropped_down32_outerContour_denseScoreMap_setting_30.bp\n"
     ]
    },
    {
     "name": "stderr",
     "output_type": "stream",
     "text": [
      "Child returned 1\n",
      "0.34 seconds.\n",
      "Child returned 0\n"
     ]
    },
    {
     "name": "stdout",
     "output_type": "stream",
     "text": [
      "rm -rf /shared/CSHL_scoremaps_down32/MD657/MD657-N67-2017.02.22-17.59.54_MD657_2_0200_alignedTo_MD657-F44-2017.02.18-06.06.27_MD657_1_0130_cropped_down32/MD657-N67-2017.02.22-17.59.54_MD657_2_0200_alignedTo_MD657-F44-2017.02.18-06.06.27_MD657_1_0130_cropped_down32_outerContour_denseScoreMap_setting_30.bp && mkdir -p /shared/CSHL_scoremaps_down32/MD657/MD657-N67-2017.02.22-17.59.54_MD657_2_0200_alignedTo_MD657-F44-2017.02.18-06.06.27_MD657_1_0130_cropped_down32\n",
      "aws s3 cp s3://mousebrainatlas-data/CSHL_scoremaps_down32/MD657/MD657-N67-2017.02.22-17.59.54_MD657_2_0200_alignedTo_MD657-F44-2017.02.18-06.06.27_MD657_1_0130_cropped_down32/MD657-N67-2017.02.22-17.59.54_MD657_2_0200_alignedTo_MD657-F44-2017.02.18-06.06.27_MD657_1_0130_cropped_down32_outerContour_denseScoreMap_setting_30.bp /shared/CSHL_scoremaps_down32/MD657/MD657-N67-2017.02.22-17.59.54_MD657_2_0200_alignedTo_MD657-F44-2017.02.18-06.06.27_MD657_1_0130_cropped_down32/MD657-N67-2017.02.22-17.59.54_MD657_2_0200_alignedTo_MD657-F44-2017.02.18-06.06.27_MD657_1_0130_cropped_down32_outerContour_denseScoreMap_setting_30.bp\n"
     ]
    },
    {
     "name": "stderr",
     "output_type": "stream",
     "text": [
      "Child returned 1\n",
      "0.33 seconds.\n",
      "Child returned 0\n"
     ]
    },
    {
     "name": "stdout",
     "output_type": "stream",
     "text": [
      "rm -rf /shared/CSHL_scoremaps_down32/MD657/MD657-N68-2017.02.22-18.03.28_MD657_1_0202_alignedTo_MD657-F44-2017.02.18-06.06.27_MD657_1_0130_cropped_down32/MD657-N68-2017.02.22-18.03.28_MD657_1_0202_alignedTo_MD657-F44-2017.02.18-06.06.27_MD657_1_0130_cropped_down32_outerContour_denseScoreMap_setting_30.bp && mkdir -p /shared/CSHL_scoremaps_down32/MD657/MD657-N68-2017.02.22-18.03.28_MD657_1_0202_alignedTo_MD657-F44-2017.02.18-06.06.27_MD657_1_0130_cropped_down32\n",
      "aws s3 cp s3://mousebrainatlas-data/CSHL_scoremaps_down32/MD657/MD657-N68-2017.02.22-18.03.28_MD657_1_0202_alignedTo_MD657-F44-2017.02.18-06.06.27_MD657_1_0130_cropped_down32/MD657-N68-2017.02.22-18.03.28_MD657_1_0202_alignedTo_MD657-F44-2017.02.18-06.06.27_MD657_1_0130_cropped_down32_outerContour_denseScoreMap_setting_30.bp /shared/CSHL_scoremaps_down32/MD657/MD657-N68-2017.02.22-18.03.28_MD657_1_0202_alignedTo_MD657-F44-2017.02.18-06.06.27_MD657_1_0130_cropped_down32/MD657-N68-2017.02.22-18.03.28_MD657_1_0202_alignedTo_MD657-F44-2017.02.18-06.06.27_MD657_1_0130_cropped_down32_outerContour_denseScoreMap_setting_30.bp\n"
     ]
    },
    {
     "name": "stderr",
     "output_type": "stream",
     "text": [
      "Child returned 1\n",
      "0.33 seconds.\n",
      "Child returned 0\n"
     ]
    },
    {
     "name": "stdout",
     "output_type": "stream",
     "text": [
      "rm -rf /shared/CSHL_scoremaps_down32/MD657/MD657-N68-2017.02.22-18.03.28_MD657_2_0203_alignedTo_MD657-F44-2017.02.18-06.06.27_MD657_1_0130_cropped_down32/MD657-N68-2017.02.22-18.03.28_MD657_2_0203_alignedTo_MD657-F44-2017.02.18-06.06.27_MD657_1_0130_cropped_down32_outerContour_denseScoreMap_setting_30.bp && mkdir -p /shared/CSHL_scoremaps_down32/MD657/MD657-N68-2017.02.22-18.03.28_MD657_2_0203_alignedTo_MD657-F44-2017.02.18-06.06.27_MD657_1_0130_cropped_down32\n",
      "aws s3 cp s3://mousebrainatlas-data/CSHL_scoremaps_down32/MD657/MD657-N68-2017.02.22-18.03.28_MD657_2_0203_alignedTo_MD657-F44-2017.02.18-06.06.27_MD657_1_0130_cropped_down32/MD657-N68-2017.02.22-18.03.28_MD657_2_0203_alignedTo_MD657-F44-2017.02.18-06.06.27_MD657_1_0130_cropped_down32_outerContour_denseScoreMap_setting_30.bp /shared/CSHL_scoremaps_down32/MD657/MD657-N68-2017.02.22-18.03.28_MD657_2_0203_alignedTo_MD657-F44-2017.02.18-06.06.27_MD657_1_0130_cropped_down32/MD657-N68-2017.02.22-18.03.28_MD657_2_0203_alignedTo_MD657-F44-2017.02.18-06.06.27_MD657_1_0130_cropped_down32_outerContour_denseScoreMap_setting_30.bp\n"
     ]
    },
    {
     "name": "stderr",
     "output_type": "stream",
     "text": [
      "Child returned 1\n",
      "0.33 seconds.\n",
      "Child returned 0\n"
     ]
    },
    {
     "name": "stdout",
     "output_type": "stream",
     "text": [
      "rm -rf /shared/CSHL_scoremaps_down32/MD657/MD657-N69-2017.02.22-18.07.03_MD657_1_0205_alignedTo_MD657-F44-2017.02.18-06.06.27_MD657_1_0130_cropped_down32/MD657-N69-2017.02.22-18.07.03_MD657_1_0205_alignedTo_MD657-F44-2017.02.18-06.06.27_MD657_1_0130_cropped_down32_outerContour_denseScoreMap_setting_30.bp && mkdir -p /shared/CSHL_scoremaps_down32/MD657/MD657-N69-2017.02.22-18.07.03_MD657_1_0205_alignedTo_MD657-F44-2017.02.18-06.06.27_MD657_1_0130_cropped_down32\n",
      "aws s3 cp s3://mousebrainatlas-data/CSHL_scoremaps_down32/MD657/MD657-N69-2017.02.22-18.07.03_MD657_1_0205_alignedTo_MD657-F44-2017.02.18-06.06.27_MD657_1_0130_cropped_down32/MD657-N69-2017.02.22-18.07.03_MD657_1_0205_alignedTo_MD657-F44-2017.02.18-06.06.27_MD657_1_0130_cropped_down32_outerContour_denseScoreMap_setting_30.bp /shared/CSHL_scoremaps_down32/MD657/MD657-N69-2017.02.22-18.07.03_MD657_1_0205_alignedTo_MD657-F44-2017.02.18-06.06.27_MD657_1_0130_cropped_down32/MD657-N69-2017.02.22-18.07.03_MD657_1_0205_alignedTo_MD657-F44-2017.02.18-06.06.27_MD657_1_0130_cropped_down32_outerContour_denseScoreMap_setting_30.bp\n"
     ]
    },
    {
     "name": "stderr",
     "output_type": "stream",
     "text": [
      "Child returned 1\n",
      "0.33 seconds.\n",
      "Child returned 0\n"
     ]
    },
    {
     "name": "stdout",
     "output_type": "stream",
     "text": [
      "rm -rf /shared/CSHL_scoremaps_down32/MD657/MD657-N69-2017.02.22-18.07.03_MD657_2_0206_alignedTo_MD657-F44-2017.02.18-06.06.27_MD657_1_0130_cropped_down32/MD657-N69-2017.02.22-18.07.03_MD657_2_0206_alignedTo_MD657-F44-2017.02.18-06.06.27_MD657_1_0130_cropped_down32_outerContour_denseScoreMap_setting_30.bp && mkdir -p /shared/CSHL_scoremaps_down32/MD657/MD657-N69-2017.02.22-18.07.03_MD657_2_0206_alignedTo_MD657-F44-2017.02.18-06.06.27_MD657_1_0130_cropped_down32\n",
      "aws s3 cp s3://mousebrainatlas-data/CSHL_scoremaps_down32/MD657/MD657-N69-2017.02.22-18.07.03_MD657_2_0206_alignedTo_MD657-F44-2017.02.18-06.06.27_MD657_1_0130_cropped_down32/MD657-N69-2017.02.22-18.07.03_MD657_2_0206_alignedTo_MD657-F44-2017.02.18-06.06.27_MD657_1_0130_cropped_down32_outerContour_denseScoreMap_setting_30.bp /shared/CSHL_scoremaps_down32/MD657/MD657-N69-2017.02.22-18.07.03_MD657_2_0206_alignedTo_MD657-F44-2017.02.18-06.06.27_MD657_1_0130_cropped_down32/MD657-N69-2017.02.22-18.07.03_MD657_2_0206_alignedTo_MD657-F44-2017.02.18-06.06.27_MD657_1_0130_cropped_down32_outerContour_denseScoreMap_setting_30.bp\n"
     ]
    },
    {
     "name": "stderr",
     "output_type": "stream",
     "text": [
      "Child returned 1\n",
      "0.33 seconds.\n",
      "Child returned 0\n"
     ]
    },
    {
     "name": "stdout",
     "output_type": "stream",
     "text": [
      "rm -rf /shared/CSHL_scoremaps_down32/MD657/MD657-N70-2017.02.22-18.31.14_MD657_1_0208_alignedTo_MD657-F44-2017.02.18-06.06.27_MD657_1_0130_cropped_down32/MD657-N70-2017.02.22-18.31.14_MD657_1_0208_alignedTo_MD657-F44-2017.02.18-06.06.27_MD657_1_0130_cropped_down32_outerContour_denseScoreMap_setting_30.bp && mkdir -p /shared/CSHL_scoremaps_down32/MD657/MD657-N70-2017.02.22-18.31.14_MD657_1_0208_alignedTo_MD657-F44-2017.02.18-06.06.27_MD657_1_0130_cropped_down32\n",
      "aws s3 cp s3://mousebrainatlas-data/CSHL_scoremaps_down32/MD657/MD657-N70-2017.02.22-18.31.14_MD657_1_0208_alignedTo_MD657-F44-2017.02.18-06.06.27_MD657_1_0130_cropped_down32/MD657-N70-2017.02.22-18.31.14_MD657_1_0208_alignedTo_MD657-F44-2017.02.18-06.06.27_MD657_1_0130_cropped_down32_outerContour_denseScoreMap_setting_30.bp /shared/CSHL_scoremaps_down32/MD657/MD657-N70-2017.02.22-18.31.14_MD657_1_0208_alignedTo_MD657-F44-2017.02.18-06.06.27_MD657_1_0130_cropped_down32/MD657-N70-2017.02.22-18.31.14_MD657_1_0208_alignedTo_MD657-F44-2017.02.18-06.06.27_MD657_1_0130_cropped_down32_outerContour_denseScoreMap_setting_30.bp\n"
     ]
    },
    {
     "name": "stderr",
     "output_type": "stream",
     "text": [
      "Child returned 1\n",
      "0.33 seconds.\n",
      "Child returned 0\n"
     ]
    },
    {
     "name": "stdout",
     "output_type": "stream",
     "text": [
      "rm -rf /shared/CSHL_scoremaps_down32/MD657/MD657-N70-2017.02.22-18.31.14_MD657_2_0209_alignedTo_MD657-F44-2017.02.18-06.06.27_MD657_1_0130_cropped_down32/MD657-N70-2017.02.22-18.31.14_MD657_2_0209_alignedTo_MD657-F44-2017.02.18-06.06.27_MD657_1_0130_cropped_down32_outerContour_denseScoreMap_setting_30.bp && mkdir -p /shared/CSHL_scoremaps_down32/MD657/MD657-N70-2017.02.22-18.31.14_MD657_2_0209_alignedTo_MD657-F44-2017.02.18-06.06.27_MD657_1_0130_cropped_down32\n",
      "aws s3 cp s3://mousebrainatlas-data/CSHL_scoremaps_down32/MD657/MD657-N70-2017.02.22-18.31.14_MD657_2_0209_alignedTo_MD657-F44-2017.02.18-06.06.27_MD657_1_0130_cropped_down32/MD657-N70-2017.02.22-18.31.14_MD657_2_0209_alignedTo_MD657-F44-2017.02.18-06.06.27_MD657_1_0130_cropped_down32_outerContour_denseScoreMap_setting_30.bp /shared/CSHL_scoremaps_down32/MD657/MD657-N70-2017.02.22-18.31.14_MD657_2_0209_alignedTo_MD657-F44-2017.02.18-06.06.27_MD657_1_0130_cropped_down32/MD657-N70-2017.02.22-18.31.14_MD657_2_0209_alignedTo_MD657-F44-2017.02.18-06.06.27_MD657_1_0130_cropped_down32_outerContour_denseScoreMap_setting_30.bp\n"
     ]
    },
    {
     "name": "stderr",
     "output_type": "stream",
     "text": [
      "Child returned 1\n",
      "0.33 seconds.\n",
      "Child returned 0\n"
     ]
    },
    {
     "name": "stdout",
     "output_type": "stream",
     "text": [
      "rm -rf /shared/CSHL_scoremaps_down32/MD657/MD657-N71-2017.02.22-18.34.41_MD657_1_0211_alignedTo_MD657-F44-2017.02.18-06.06.27_MD657_1_0130_cropped_down32/MD657-N71-2017.02.22-18.34.41_MD657_1_0211_alignedTo_MD657-F44-2017.02.18-06.06.27_MD657_1_0130_cropped_down32_outerContour_denseScoreMap_setting_30.bp && mkdir -p /shared/CSHL_scoremaps_down32/MD657/MD657-N71-2017.02.22-18.34.41_MD657_1_0211_alignedTo_MD657-F44-2017.02.18-06.06.27_MD657_1_0130_cropped_down32\n",
      "aws s3 cp s3://mousebrainatlas-data/CSHL_scoremaps_down32/MD657/MD657-N71-2017.02.22-18.34.41_MD657_1_0211_alignedTo_MD657-F44-2017.02.18-06.06.27_MD657_1_0130_cropped_down32/MD657-N71-2017.02.22-18.34.41_MD657_1_0211_alignedTo_MD657-F44-2017.02.18-06.06.27_MD657_1_0130_cropped_down32_outerContour_denseScoreMap_setting_30.bp /shared/CSHL_scoremaps_down32/MD657/MD657-N71-2017.02.22-18.34.41_MD657_1_0211_alignedTo_MD657-F44-2017.02.18-06.06.27_MD657_1_0130_cropped_down32/MD657-N71-2017.02.22-18.34.41_MD657_1_0211_alignedTo_MD657-F44-2017.02.18-06.06.27_MD657_1_0130_cropped_down32_outerContour_denseScoreMap_setting_30.bp\n"
     ]
    },
    {
     "name": "stderr",
     "output_type": "stream",
     "text": [
      "Child returned 1\n",
      "0.33 seconds.\n",
      "Child returned 0\n"
     ]
    },
    {
     "name": "stdout",
     "output_type": "stream",
     "text": [
      "rm -rf /shared/CSHL_scoremaps_down32/MD657/MD657-N71-2017.02.22-18.34.41_MD657_2_0212_alignedTo_MD657-F44-2017.02.18-06.06.27_MD657_1_0130_cropped_down32/MD657-N71-2017.02.22-18.34.41_MD657_2_0212_alignedTo_MD657-F44-2017.02.18-06.06.27_MD657_1_0130_cropped_down32_outerContour_denseScoreMap_setting_30.bp && mkdir -p /shared/CSHL_scoremaps_down32/MD657/MD657-N71-2017.02.22-18.34.41_MD657_2_0212_alignedTo_MD657-F44-2017.02.18-06.06.27_MD657_1_0130_cropped_down32\n",
      "aws s3 cp s3://mousebrainatlas-data/CSHL_scoremaps_down32/MD657/MD657-N71-2017.02.22-18.34.41_MD657_2_0212_alignedTo_MD657-F44-2017.02.18-06.06.27_MD657_1_0130_cropped_down32/MD657-N71-2017.02.22-18.34.41_MD657_2_0212_alignedTo_MD657-F44-2017.02.18-06.06.27_MD657_1_0130_cropped_down32_outerContour_denseScoreMap_setting_30.bp /shared/CSHL_scoremaps_down32/MD657/MD657-N71-2017.02.22-18.34.41_MD657_2_0212_alignedTo_MD657-F44-2017.02.18-06.06.27_MD657_1_0130_cropped_down32/MD657-N71-2017.02.22-18.34.41_MD657_2_0212_alignedTo_MD657-F44-2017.02.18-06.06.27_MD657_1_0130_cropped_down32_outerContour_denseScoreMap_setting_30.bp\n"
     ]
    },
    {
     "name": "stderr",
     "output_type": "stream",
     "text": [
      "Child returned 1\n",
      "0.33 seconds.\n",
      "Child returned 0\n"
     ]
    },
    {
     "name": "stdout",
     "output_type": "stream",
     "text": [
      "rm -rf /shared/CSHL_scoremaps_down32/MD657/MD657-N72-2017.02.22-18.38.06_MD657_1_0214_alignedTo_MD657-F44-2017.02.18-06.06.27_MD657_1_0130_cropped_down32/MD657-N72-2017.02.22-18.38.06_MD657_1_0214_alignedTo_MD657-F44-2017.02.18-06.06.27_MD657_1_0130_cropped_down32_outerContour_denseScoreMap_setting_30.bp && mkdir -p /shared/CSHL_scoremaps_down32/MD657/MD657-N72-2017.02.22-18.38.06_MD657_1_0214_alignedTo_MD657-F44-2017.02.18-06.06.27_MD657_1_0130_cropped_down32\n",
      "aws s3 cp s3://mousebrainatlas-data/CSHL_scoremaps_down32/MD657/MD657-N72-2017.02.22-18.38.06_MD657_1_0214_alignedTo_MD657-F44-2017.02.18-06.06.27_MD657_1_0130_cropped_down32/MD657-N72-2017.02.22-18.38.06_MD657_1_0214_alignedTo_MD657-F44-2017.02.18-06.06.27_MD657_1_0130_cropped_down32_outerContour_denseScoreMap_setting_30.bp /shared/CSHL_scoremaps_down32/MD657/MD657-N72-2017.02.22-18.38.06_MD657_1_0214_alignedTo_MD657-F44-2017.02.18-06.06.27_MD657_1_0130_cropped_down32/MD657-N72-2017.02.22-18.38.06_MD657_1_0214_alignedTo_MD657-F44-2017.02.18-06.06.27_MD657_1_0130_cropped_down32_outerContour_denseScoreMap_setting_30.bp\n"
     ]
    },
    {
     "name": "stderr",
     "output_type": "stream",
     "text": [
      "Child returned 1\n",
      "0.34 seconds.\n",
      "Child returned 0\n"
     ]
    },
    {
     "name": "stdout",
     "output_type": "stream",
     "text": [
      "rm -rf /shared/CSHL_scoremaps_down32/MD657/MD657-N72-2017.02.22-18.38.06_MD657_2_0215_alignedTo_MD657-F44-2017.02.18-06.06.27_MD657_1_0130_cropped_down32/MD657-N72-2017.02.22-18.38.06_MD657_2_0215_alignedTo_MD657-F44-2017.02.18-06.06.27_MD657_1_0130_cropped_down32_outerContour_denseScoreMap_setting_30.bp && mkdir -p /shared/CSHL_scoremaps_down32/MD657/MD657-N72-2017.02.22-18.38.06_MD657_2_0215_alignedTo_MD657-F44-2017.02.18-06.06.27_MD657_1_0130_cropped_down32\n",
      "aws s3 cp s3://mousebrainatlas-data/CSHL_scoremaps_down32/MD657/MD657-N72-2017.02.22-18.38.06_MD657_2_0215_alignedTo_MD657-F44-2017.02.18-06.06.27_MD657_1_0130_cropped_down32/MD657-N72-2017.02.22-18.38.06_MD657_2_0215_alignedTo_MD657-F44-2017.02.18-06.06.27_MD657_1_0130_cropped_down32_outerContour_denseScoreMap_setting_30.bp /shared/CSHL_scoremaps_down32/MD657/MD657-N72-2017.02.22-18.38.06_MD657_2_0215_alignedTo_MD657-F44-2017.02.18-06.06.27_MD657_1_0130_cropped_down32/MD657-N72-2017.02.22-18.38.06_MD657_2_0215_alignedTo_MD657-F44-2017.02.18-06.06.27_MD657_1_0130_cropped_down32_outerContour_denseScoreMap_setting_30.bp\n"
     ]
    },
    {
     "name": "stderr",
     "output_type": "stream",
     "text": [
      "Child returned 1\n",
      "0.34 seconds.\n",
      "Child returned 0\n"
     ]
    },
    {
     "name": "stdout",
     "output_type": "stream",
     "text": [
      "rm -rf /shared/CSHL_scoremaps_down32/MD657/MD657-N73-2017.02.22-18.41.32_MD657_1_0217_alignedTo_MD657-F44-2017.02.18-06.06.27_MD657_1_0130_cropped_down32/MD657-N73-2017.02.22-18.41.32_MD657_1_0217_alignedTo_MD657-F44-2017.02.18-06.06.27_MD657_1_0130_cropped_down32_outerContour_denseScoreMap_setting_30.bp && mkdir -p /shared/CSHL_scoremaps_down32/MD657/MD657-N73-2017.02.22-18.41.32_MD657_1_0217_alignedTo_MD657-F44-2017.02.18-06.06.27_MD657_1_0130_cropped_down32\n",
      "aws s3 cp s3://mousebrainatlas-data/CSHL_scoremaps_down32/MD657/MD657-N73-2017.02.22-18.41.32_MD657_1_0217_alignedTo_MD657-F44-2017.02.18-06.06.27_MD657_1_0130_cropped_down32/MD657-N73-2017.02.22-18.41.32_MD657_1_0217_alignedTo_MD657-F44-2017.02.18-06.06.27_MD657_1_0130_cropped_down32_outerContour_denseScoreMap_setting_30.bp /shared/CSHL_scoremaps_down32/MD657/MD657-N73-2017.02.22-18.41.32_MD657_1_0217_alignedTo_MD657-F44-2017.02.18-06.06.27_MD657_1_0130_cropped_down32/MD657-N73-2017.02.22-18.41.32_MD657_1_0217_alignedTo_MD657-F44-2017.02.18-06.06.27_MD657_1_0130_cropped_down32_outerContour_denseScoreMap_setting_30.bp\n"
     ]
    },
    {
     "name": "stderr",
     "output_type": "stream",
     "text": [
      "Child returned 1\n",
      "0.34 seconds.\n",
      "Child returned 0\n"
     ]
    },
    {
     "name": "stdout",
     "output_type": "stream",
     "text": [
      "rm -rf /shared/CSHL_scoremaps_down32/MD657/MD657-N73-2017.02.22-18.41.32_MD657_2_0218_alignedTo_MD657-F44-2017.02.18-06.06.27_MD657_1_0130_cropped_down32/MD657-N73-2017.02.22-18.41.32_MD657_2_0218_alignedTo_MD657-F44-2017.02.18-06.06.27_MD657_1_0130_cropped_down32_outerContour_denseScoreMap_setting_30.bp && mkdir -p /shared/CSHL_scoremaps_down32/MD657/MD657-N73-2017.02.22-18.41.32_MD657_2_0218_alignedTo_MD657-F44-2017.02.18-06.06.27_MD657_1_0130_cropped_down32\n",
      "aws s3 cp s3://mousebrainatlas-data/CSHL_scoremaps_down32/MD657/MD657-N73-2017.02.22-18.41.32_MD657_2_0218_alignedTo_MD657-F44-2017.02.18-06.06.27_MD657_1_0130_cropped_down32/MD657-N73-2017.02.22-18.41.32_MD657_2_0218_alignedTo_MD657-F44-2017.02.18-06.06.27_MD657_1_0130_cropped_down32_outerContour_denseScoreMap_setting_30.bp /shared/CSHL_scoremaps_down32/MD657/MD657-N73-2017.02.22-18.41.32_MD657_2_0218_alignedTo_MD657-F44-2017.02.18-06.06.27_MD657_1_0130_cropped_down32/MD657-N73-2017.02.22-18.41.32_MD657_2_0218_alignedTo_MD657-F44-2017.02.18-06.06.27_MD657_1_0130_cropped_down32_outerContour_denseScoreMap_setting_30.bp\n"
     ]
    },
    {
     "name": "stderr",
     "output_type": "stream",
     "text": [
      "Child returned 1\n",
      "0.34 seconds.\n",
      "Child returned 0\n"
     ]
    },
    {
     "name": "stdout",
     "output_type": "stream",
     "text": [
      "rm -rf /shared/CSHL_scoremaps_down32/MD657/MD657-N74-2017.02.22-18.44.55_MD657_2_0221_alignedTo_MD657-F44-2017.02.18-06.06.27_MD657_1_0130_cropped_down32/MD657-N74-2017.02.22-18.44.55_MD657_2_0221_alignedTo_MD657-F44-2017.02.18-06.06.27_MD657_1_0130_cropped_down32_outerContour_denseScoreMap_setting_30.bp && mkdir -p /shared/CSHL_scoremaps_down32/MD657/MD657-N74-2017.02.22-18.44.55_MD657_2_0221_alignedTo_MD657-F44-2017.02.18-06.06.27_MD657_1_0130_cropped_down32\n",
      "aws s3 cp s3://mousebrainatlas-data/CSHL_scoremaps_down32/MD657/MD657-N74-2017.02.22-18.44.55_MD657_2_0221_alignedTo_MD657-F44-2017.02.18-06.06.27_MD657_1_0130_cropped_down32/MD657-N74-2017.02.22-18.44.55_MD657_2_0221_alignedTo_MD657-F44-2017.02.18-06.06.27_MD657_1_0130_cropped_down32_outerContour_denseScoreMap_setting_30.bp /shared/CSHL_scoremaps_down32/MD657/MD657-N74-2017.02.22-18.44.55_MD657_2_0221_alignedTo_MD657-F44-2017.02.18-06.06.27_MD657_1_0130_cropped_down32/MD657-N74-2017.02.22-18.44.55_MD657_2_0221_alignedTo_MD657-F44-2017.02.18-06.06.27_MD657_1_0130_cropped_down32_outerContour_denseScoreMap_setting_30.bp\n"
     ]
    },
    {
     "name": "stderr",
     "output_type": "stream",
     "text": [
      "Child returned 1\n",
      "0.34 seconds.\n",
      "Child returned 0\n"
     ]
    },
    {
     "name": "stdout",
     "output_type": "stream",
     "text": [
      "rm -rf /shared/CSHL_scoremaps_down32/MD657/MD657-N75-2017.02.22-18.48.18_MD657_1_0223_alignedTo_MD657-F44-2017.02.18-06.06.27_MD657_1_0130_cropped_down32/MD657-N75-2017.02.22-18.48.18_MD657_1_0223_alignedTo_MD657-F44-2017.02.18-06.06.27_MD657_1_0130_cropped_down32_outerContour_denseScoreMap_setting_30.bp && mkdir -p /shared/CSHL_scoremaps_down32/MD657/MD657-N75-2017.02.22-18.48.18_MD657_1_0223_alignedTo_MD657-F44-2017.02.18-06.06.27_MD657_1_0130_cropped_down32\n",
      "aws s3 cp s3://mousebrainatlas-data/CSHL_scoremaps_down32/MD657/MD657-N75-2017.02.22-18.48.18_MD657_1_0223_alignedTo_MD657-F44-2017.02.18-06.06.27_MD657_1_0130_cropped_down32/MD657-N75-2017.02.22-18.48.18_MD657_1_0223_alignedTo_MD657-F44-2017.02.18-06.06.27_MD657_1_0130_cropped_down32_outerContour_denseScoreMap_setting_30.bp /shared/CSHL_scoremaps_down32/MD657/MD657-N75-2017.02.22-18.48.18_MD657_1_0223_alignedTo_MD657-F44-2017.02.18-06.06.27_MD657_1_0130_cropped_down32/MD657-N75-2017.02.22-18.48.18_MD657_1_0223_alignedTo_MD657-F44-2017.02.18-06.06.27_MD657_1_0130_cropped_down32_outerContour_denseScoreMap_setting_30.bp\n"
     ]
    },
    {
     "name": "stderr",
     "output_type": "stream",
     "text": [
      "Child returned 1\n",
      "0.34 seconds.\n",
      "Child returned 0\n"
     ]
    },
    {
     "name": "stdout",
     "output_type": "stream",
     "text": [
      "rm -rf /shared/CSHL_scoremaps_down32/MD657/MD657-N75-2017.02.22-18.48.18_MD657_2_0224_alignedTo_MD657-F44-2017.02.18-06.06.27_MD657_1_0130_cropped_down32/MD657-N75-2017.02.22-18.48.18_MD657_2_0224_alignedTo_MD657-F44-2017.02.18-06.06.27_MD657_1_0130_cropped_down32_outerContour_denseScoreMap_setting_30.bp && mkdir -p /shared/CSHL_scoremaps_down32/MD657/MD657-N75-2017.02.22-18.48.18_MD657_2_0224_alignedTo_MD657-F44-2017.02.18-06.06.27_MD657_1_0130_cropped_down32\n",
      "aws s3 cp s3://mousebrainatlas-data/CSHL_scoremaps_down32/MD657/MD657-N75-2017.02.22-18.48.18_MD657_2_0224_alignedTo_MD657-F44-2017.02.18-06.06.27_MD657_1_0130_cropped_down32/MD657-N75-2017.02.22-18.48.18_MD657_2_0224_alignedTo_MD657-F44-2017.02.18-06.06.27_MD657_1_0130_cropped_down32_outerContour_denseScoreMap_setting_30.bp /shared/CSHL_scoremaps_down32/MD657/MD657-N75-2017.02.22-18.48.18_MD657_2_0224_alignedTo_MD657-F44-2017.02.18-06.06.27_MD657_1_0130_cropped_down32/MD657-N75-2017.02.22-18.48.18_MD657_2_0224_alignedTo_MD657-F44-2017.02.18-06.06.27_MD657_1_0130_cropped_down32_outerContour_denseScoreMap_setting_30.bp\n"
     ]
    },
    {
     "name": "stderr",
     "output_type": "stream",
     "text": [
      "Child returned 1\n",
      "0.33 seconds.\n",
      "Child returned 0\n"
     ]
    },
    {
     "name": "stdout",
     "output_type": "stream",
     "text": [
      "rm -rf /shared/CSHL_scoremaps_down32/MD657/MD657-N76-2017.02.22-18.51.41_MD657_1_0226_alignedTo_MD657-F44-2017.02.18-06.06.27_MD657_1_0130_cropped_down32/MD657-N76-2017.02.22-18.51.41_MD657_1_0226_alignedTo_MD657-F44-2017.02.18-06.06.27_MD657_1_0130_cropped_down32_outerContour_denseScoreMap_setting_30.bp && mkdir -p /shared/CSHL_scoremaps_down32/MD657/MD657-N76-2017.02.22-18.51.41_MD657_1_0226_alignedTo_MD657-F44-2017.02.18-06.06.27_MD657_1_0130_cropped_down32\n",
      "aws s3 cp s3://mousebrainatlas-data/CSHL_scoremaps_down32/MD657/MD657-N76-2017.02.22-18.51.41_MD657_1_0226_alignedTo_MD657-F44-2017.02.18-06.06.27_MD657_1_0130_cropped_down32/MD657-N76-2017.02.22-18.51.41_MD657_1_0226_alignedTo_MD657-F44-2017.02.18-06.06.27_MD657_1_0130_cropped_down32_outerContour_denseScoreMap_setting_30.bp /shared/CSHL_scoremaps_down32/MD657/MD657-N76-2017.02.22-18.51.41_MD657_1_0226_alignedTo_MD657-F44-2017.02.18-06.06.27_MD657_1_0130_cropped_down32/MD657-N76-2017.02.22-18.51.41_MD657_1_0226_alignedTo_MD657-F44-2017.02.18-06.06.27_MD657_1_0130_cropped_down32_outerContour_denseScoreMap_setting_30.bp\n"
     ]
    },
    {
     "name": "stderr",
     "output_type": "stream",
     "text": [
      "Child returned 1\n",
      "0.33 seconds.\n",
      "Child returned 0\n"
     ]
    },
    {
     "name": "stdout",
     "output_type": "stream",
     "text": [
      "rm -rf /shared/CSHL_scoremaps_down32/MD657/MD657-N76-2017.02.22-18.51.41_MD657_2_0227_alignedTo_MD657-F44-2017.02.18-06.06.27_MD657_1_0130_cropped_down32/MD657-N76-2017.02.22-18.51.41_MD657_2_0227_alignedTo_MD657-F44-2017.02.18-06.06.27_MD657_1_0130_cropped_down32_outerContour_denseScoreMap_setting_30.bp && mkdir -p /shared/CSHL_scoremaps_down32/MD657/MD657-N76-2017.02.22-18.51.41_MD657_2_0227_alignedTo_MD657-F44-2017.02.18-06.06.27_MD657_1_0130_cropped_down32\n",
      "aws s3 cp s3://mousebrainatlas-data/CSHL_scoremaps_down32/MD657/MD657-N76-2017.02.22-18.51.41_MD657_2_0227_alignedTo_MD657-F44-2017.02.18-06.06.27_MD657_1_0130_cropped_down32/MD657-N76-2017.02.22-18.51.41_MD657_2_0227_alignedTo_MD657-F44-2017.02.18-06.06.27_MD657_1_0130_cropped_down32_outerContour_denseScoreMap_setting_30.bp /shared/CSHL_scoremaps_down32/MD657/MD657-N76-2017.02.22-18.51.41_MD657_2_0227_alignedTo_MD657-F44-2017.02.18-06.06.27_MD657_1_0130_cropped_down32/MD657-N76-2017.02.22-18.51.41_MD657_2_0227_alignedTo_MD657-F44-2017.02.18-06.06.27_MD657_1_0130_cropped_down32_outerContour_denseScoreMap_setting_30.bp\n"
     ]
    },
    {
     "name": "stderr",
     "output_type": "stream",
     "text": [
      "Child returned 1\n",
      "0.34 seconds.\n",
      "Child returned 0\n"
     ]
    },
    {
     "name": "stdout",
     "output_type": "stream",
     "text": [
      "rm -rf /shared/CSHL_scoremaps_down32/MD657/MD657-N77-2017.02.22-18.55.01_MD657_1_0229_alignedTo_MD657-F44-2017.02.18-06.06.27_MD657_1_0130_cropped_down32/MD657-N77-2017.02.22-18.55.01_MD657_1_0229_alignedTo_MD657-F44-2017.02.18-06.06.27_MD657_1_0130_cropped_down32_outerContour_denseScoreMap_setting_30.bp && mkdir -p /shared/CSHL_scoremaps_down32/MD657/MD657-N77-2017.02.22-18.55.01_MD657_1_0229_alignedTo_MD657-F44-2017.02.18-06.06.27_MD657_1_0130_cropped_down32\n",
      "aws s3 cp s3://mousebrainatlas-data/CSHL_scoremaps_down32/MD657/MD657-N77-2017.02.22-18.55.01_MD657_1_0229_alignedTo_MD657-F44-2017.02.18-06.06.27_MD657_1_0130_cropped_down32/MD657-N77-2017.02.22-18.55.01_MD657_1_0229_alignedTo_MD657-F44-2017.02.18-06.06.27_MD657_1_0130_cropped_down32_outerContour_denseScoreMap_setting_30.bp /shared/CSHL_scoremaps_down32/MD657/MD657-N77-2017.02.22-18.55.01_MD657_1_0229_alignedTo_MD657-F44-2017.02.18-06.06.27_MD657_1_0130_cropped_down32/MD657-N77-2017.02.22-18.55.01_MD657_1_0229_alignedTo_MD657-F44-2017.02.18-06.06.27_MD657_1_0130_cropped_down32_outerContour_denseScoreMap_setting_30.bp\n"
     ]
    },
    {
     "name": "stderr",
     "output_type": "stream",
     "text": [
      "Child returned 1\n",
      "0.35 seconds.\n",
      "Child returned 0\n"
     ]
    },
    {
     "name": "stdout",
     "output_type": "stream",
     "text": [
      "rm -rf /shared/CSHL_scoremaps_down32/MD657/MD657-N77-2017.02.22-18.55.01_MD657_2_0230_alignedTo_MD657-F44-2017.02.18-06.06.27_MD657_1_0130_cropped_down32/MD657-N77-2017.02.22-18.55.01_MD657_2_0230_alignedTo_MD657-F44-2017.02.18-06.06.27_MD657_1_0130_cropped_down32_outerContour_denseScoreMap_setting_30.bp && mkdir -p /shared/CSHL_scoremaps_down32/MD657/MD657-N77-2017.02.22-18.55.01_MD657_2_0230_alignedTo_MD657-F44-2017.02.18-06.06.27_MD657_1_0130_cropped_down32\n",
      "aws s3 cp s3://mousebrainatlas-data/CSHL_scoremaps_down32/MD657/MD657-N77-2017.02.22-18.55.01_MD657_2_0230_alignedTo_MD657-F44-2017.02.18-06.06.27_MD657_1_0130_cropped_down32/MD657-N77-2017.02.22-18.55.01_MD657_2_0230_alignedTo_MD657-F44-2017.02.18-06.06.27_MD657_1_0130_cropped_down32_outerContour_denseScoreMap_setting_30.bp /shared/CSHL_scoremaps_down32/MD657/MD657-N77-2017.02.22-18.55.01_MD657_2_0230_alignedTo_MD657-F44-2017.02.18-06.06.27_MD657_1_0130_cropped_down32/MD657-N77-2017.02.22-18.55.01_MD657_2_0230_alignedTo_MD657-F44-2017.02.18-06.06.27_MD657_1_0130_cropped_down32_outerContour_denseScoreMap_setting_30.bp\n"
     ]
    },
    {
     "name": "stderr",
     "output_type": "stream",
     "text": [
      "Child returned 1\n",
      "0.33 seconds.\n",
      "Number of valid scoremaps for outerContour is less than 2.\n",
      "Child returned 0\n"
     ]
    },
    {
     "name": "stdout",
     "output_type": "stream",
     "text": [
      "0 scoremaps loaded.\n",
      "SC\n",
      "rm -rf /shared/CSHL_scoremaps_down32/MD657/MD657-N66-2017.03.21-14.16.35_MD657_2_0197_alignedTo_MD657-F44-2017.02.18-06.06.27_MD657_1_0130_cropped_down32/MD657-N66-2017.03.21-14.16.35_MD657_2_0197_alignedTo_MD657-F44-2017.02.18-06.06.27_MD657_1_0130_cropped_down32_SC_denseScoreMap_setting_30.bp && mkdir -p /shared/CSHL_scoremaps_down32/MD657/MD657-N66-2017.03.21-14.16.35_MD657_2_0197_alignedTo_MD657-F44-2017.02.18-06.06.27_MD657_1_0130_cropped_down32\n",
      "aws s3 cp s3://mousebrainatlas-data/CSHL_scoremaps_down32/MD657/MD657-N66-2017.03.21-14.16.35_MD657_2_0197_alignedTo_MD657-F44-2017.02.18-06.06.27_MD657_1_0130_cropped_down32/MD657-N66-2017.03.21-14.16.35_MD657_2_0197_alignedTo_MD657-F44-2017.02.18-06.06.27_MD657_1_0130_cropped_down32_SC_denseScoreMap_setting_30.bp /shared/CSHL_scoremaps_down32/MD657/MD657-N66-2017.03.21-14.16.35_MD657_2_0197_alignedTo_MD657-F44-2017.02.18-06.06.27_MD657_1_0130_cropped_down32/MD657-N66-2017.03.21-14.16.35_MD657_2_0197_alignedTo_MD657-F44-2017.02.18-06.06.27_MD657_1_0130_cropped_down32_SC_denseScoreMap_setting_30.bp\n"
     ]
    },
    {
     "name": "stderr",
     "output_type": "stream",
     "text": [
      "Child returned 1\n",
      "0.33 seconds.\n",
      "Child returned 0\n"
     ]
    },
    {
     "name": "stdout",
     "output_type": "stream",
     "text": [
      "rm -rf /shared/CSHL_scoremaps_down32/MD657/MD657-N71-2017.02.22-18.34.41_MD657_2_0212_alignedTo_MD657-F44-2017.02.18-06.06.27_MD657_1_0130_cropped_down32/MD657-N71-2017.02.22-18.34.41_MD657_2_0212_alignedTo_MD657-F44-2017.02.18-06.06.27_MD657_1_0130_cropped_down32_SC_denseScoreMap_setting_30.bp && mkdir -p /shared/CSHL_scoremaps_down32/MD657/MD657-N71-2017.02.22-18.34.41_MD657_2_0212_alignedTo_MD657-F44-2017.02.18-06.06.27_MD657_1_0130_cropped_down32\n",
      "aws s3 cp s3://mousebrainatlas-data/CSHL_scoremaps_down32/MD657/MD657-N71-2017.02.22-18.34.41_MD657_2_0212_alignedTo_MD657-F44-2017.02.18-06.06.27_MD657_1_0130_cropped_down32/MD657-N71-2017.02.22-18.34.41_MD657_2_0212_alignedTo_MD657-F44-2017.02.18-06.06.27_MD657_1_0130_cropped_down32_SC_denseScoreMap_setting_30.bp /shared/CSHL_scoremaps_down32/MD657/MD657-N71-2017.02.22-18.34.41_MD657_2_0212_alignedTo_MD657-F44-2017.02.18-06.06.27_MD657_1_0130_cropped_down32/MD657-N71-2017.02.22-18.34.41_MD657_2_0212_alignedTo_MD657-F44-2017.02.18-06.06.27_MD657_1_0130_cropped_down32_SC_denseScoreMap_setting_30.bp\n"
     ]
    },
    {
     "name": "stderr",
     "output_type": "stream",
     "text": [
      "Child returned 1\n",
      "0.34 seconds.\n",
      "Load scoremaps: 0.84 seconds\n"
     ]
    },
    {
     "name": "stdout",
     "output_type": "stream",
     "text": [
      "127 scoremaps loaded.\n"
     ]
    },
    {
     "name": "stderr",
     "output_type": "stream",
     "text": [
      "Create score volume: 2.26 seconds\n"
     ]
    },
    {
     "name": "stdout",
     "output_type": "stream",
     "text": [
      "aws s3 cp /shared/CSHL_volumes/MD657/MD657_down32_scoreVolume_clf_30/score_volumes/MD657_down32_scoreVolume_clf_30_SC.bp s3://mousebrainatlas-data/CSHL_volumes/MD657/MD657_down32_scoreVolume_clf_30/score_volumes/MD657_down32_scoreVolume_clf_30_SC.bp\n"
     ]
    },
    {
     "name": "stderr",
     "output_type": "stream",
     "text": [
      "Child returned 0\n",
      "1.70 seconds.\n"
     ]
    },
    {
     "name": "stdout",
     "output_type": "stream",
     "text": [
      "aws s3 cp /shared/CSHL_volumes/MD657/MD657_down32_scoreVolume_clf_30/score_volumes/MD657_down32_scoreVolume_clf_30_SC_bbox.txt s3://mousebrainatlas-data/CSHL_volumes/MD657/MD657_down32_scoreVolume_clf_30/score_volumes/MD657_down32_scoreVolume_clf_30_SC_bbox.txt\n"
     ]
    },
    {
     "name": "stderr",
     "output_type": "stream",
     "text": [
      "Child returned 0\n",
      "0.37 seconds.\n",
      "Child returned 0\n"
     ]
    },
    {
     "name": "stdout",
     "output_type": "stream",
     "text": [
      "IC\n",
      "rm -rf /shared/CSHL_scoremaps_down32/MD657/MD657-N66-2017.03.21-14.16.35_MD657_2_0197_alignedTo_MD657-F44-2017.02.18-06.06.27_MD657_1_0130_cropped_down32/MD657-N66-2017.03.21-14.16.35_MD657_2_0197_alignedTo_MD657-F44-2017.02.18-06.06.27_MD657_1_0130_cropped_down32_IC_denseScoreMap_setting_30.bp && mkdir -p /shared/CSHL_scoremaps_down32/MD657/MD657-N66-2017.03.21-14.16.35_MD657_2_0197_alignedTo_MD657-F44-2017.02.18-06.06.27_MD657_1_0130_cropped_down32\n",
      "aws s3 cp s3://mousebrainatlas-data/CSHL_scoremaps_down32/MD657/MD657-N66-2017.03.21-14.16.35_MD657_2_0197_alignedTo_MD657-F44-2017.02.18-06.06.27_MD657_1_0130_cropped_down32/MD657-N66-2017.03.21-14.16.35_MD657_2_0197_alignedTo_MD657-F44-2017.02.18-06.06.27_MD657_1_0130_cropped_down32_IC_denseScoreMap_setting_30.bp /shared/CSHL_scoremaps_down32/MD657/MD657-N66-2017.03.21-14.16.35_MD657_2_0197_alignedTo_MD657-F44-2017.02.18-06.06.27_MD657_1_0130_cropped_down32/MD657-N66-2017.03.21-14.16.35_MD657_2_0197_alignedTo_MD657-F44-2017.02.18-06.06.27_MD657_1_0130_cropped_down32_IC_denseScoreMap_setting_30.bp\n"
     ]
    },
    {
     "name": "stderr",
     "output_type": "stream",
     "text": [
      "Child returned 1\n",
      "0.33 seconds.\n",
      "Child returned 0\n"
     ]
    },
    {
     "name": "stdout",
     "output_type": "stream",
     "text": [
      "rm -rf /shared/CSHL_scoremaps_down32/MD657/MD657-N71-2017.02.22-18.34.41_MD657_2_0212_alignedTo_MD657-F44-2017.02.18-06.06.27_MD657_1_0130_cropped_down32/MD657-N71-2017.02.22-18.34.41_MD657_2_0212_alignedTo_MD657-F44-2017.02.18-06.06.27_MD657_1_0130_cropped_down32_IC_denseScoreMap_setting_30.bp && mkdir -p /shared/CSHL_scoremaps_down32/MD657/MD657-N71-2017.02.22-18.34.41_MD657_2_0212_alignedTo_MD657-F44-2017.02.18-06.06.27_MD657_1_0130_cropped_down32\n",
      "aws s3 cp s3://mousebrainatlas-data/CSHL_scoremaps_down32/MD657/MD657-N71-2017.02.22-18.34.41_MD657_2_0212_alignedTo_MD657-F44-2017.02.18-06.06.27_MD657_1_0130_cropped_down32/MD657-N71-2017.02.22-18.34.41_MD657_2_0212_alignedTo_MD657-F44-2017.02.18-06.06.27_MD657_1_0130_cropped_down32_IC_denseScoreMap_setting_30.bp /shared/CSHL_scoremaps_down32/MD657/MD657-N71-2017.02.22-18.34.41_MD657_2_0212_alignedTo_MD657-F44-2017.02.18-06.06.27_MD657_1_0130_cropped_down32/MD657-N71-2017.02.22-18.34.41_MD657_2_0212_alignedTo_MD657-F44-2017.02.18-06.06.27_MD657_1_0130_cropped_down32_IC_denseScoreMap_setting_30.bp\n"
     ]
    },
    {
     "name": "stderr",
     "output_type": "stream",
     "text": [
      "Child returned 1\n",
      "0.37 seconds.\n",
      "Load scoremaps: 0.87 seconds\n"
     ]
    },
    {
     "name": "stdout",
     "output_type": "stream",
     "text": [
      "127 scoremaps loaded.\n"
     ]
    },
    {
     "name": "stderr",
     "output_type": "stream",
     "text": [
      "Create score volume: 2.28 seconds\n"
     ]
    },
    {
     "name": "stdout",
     "output_type": "stream",
     "text": [
      "aws s3 cp /shared/CSHL_volumes/MD657/MD657_down32_scoreVolume_clf_30/score_volumes/MD657_down32_scoreVolume_clf_30_IC.bp s3://mousebrainatlas-data/CSHL_volumes/MD657/MD657_down32_scoreVolume_clf_30/score_volumes/MD657_down32_scoreVolume_clf_30_IC.bp\n"
     ]
    },
    {
     "name": "stderr",
     "output_type": "stream",
     "text": [
      "Child returned 0\n",
      "1.46 seconds.\n"
     ]
    },
    {
     "name": "stdout",
     "output_type": "stream",
     "text": [
      "aws s3 cp /shared/CSHL_volumes/MD657/MD657_down32_scoreVolume_clf_30/score_volumes/MD657_down32_scoreVolume_clf_30_IC_bbox.txt s3://mousebrainatlas-data/CSHL_volumes/MD657/MD657_down32_scoreVolume_clf_30/score_volumes/MD657_down32_scoreVolume_clf_30_IC_bbox.txt\n"
     ]
    },
    {
     "name": "stderr",
     "output_type": "stream",
     "text": [
      "Child returned 0\n",
      "0.36 seconds.\n"
     ]
    }
   ],
   "source": [
    "for stack in ['MD657']:\n",
    "    \n",
    "    first_sec, last_sec = metadata_cache['section_limits'][stack]\n",
    "\n",
    "    nissl_sections = []\n",
    "    for sec in range(first_sec, last_sec):\n",
    "        fn = metadata_cache['sections_to_filenames'][stack][sec]\n",
    "        if not is_invalid(fn) and fn.split('-')[1][0] == 'N':\n",
    "            nissl_sections.append(sec)\n",
    "    \n",
    "    for structure in all_known_structures:\n",
    "#     for structure in ['7N']:\n",
    "        \n",
    "        print structure\n",
    "    \n",
    "        t = time.time()\n",
    "        scoremaps = load_downscaled_scoremaps_multiple_sections_sequential(stack=stack, sections=nissl_sections, \n",
    "                                                              structure=structure, downscale=downscale, \n",
    "                                                              classifier_id=classifier_id)\n",
    "        print len(scoremaps), 'scoremaps loaded.'\n",
    "        if len(scoremaps) < 2:\n",
    "            sys.stderr.write('Number of valid scoremaps for %s is less than 2.\\n' % structure)\n",
    "            continue\n",
    "        \n",
    "        sys.stderr.write('Load scoremaps: %.2f seconds\\n' % (time.time() - t)) # 10-40s (down=32, 12 processes)\n",
    "        \n",
    "        t = time.time()\n",
    "        score_volume, score_volume_bbox = images_to_volume(images=scoremaps, voxel_size=(1, 1, voxel_z_size), \n",
    "                                                           first_sec=np.min(nissl_sections)-1, \n",
    "                                                           last_sec=np.max(nissl_sections)-1)\n",
    "        sys.stderr.write('Create score volume: %.2f seconds\\n' % (time.time() - t)) # 6s (sequential)\n",
    "        \n",
    "        score_volume_filepath = DataManager.get_score_volume_filepath(stack=stack, downscale=downscale, \n",
    "                                                                      structure=structure, \n",
    "                                                                      classifier_setting=classifier_id)\n",
    "        create_parent_dir_if_not_exists(score_volume_filepath)\n",
    "        bp.pack_ndarray_file(score_volume.astype(np.float16), score_volume_filepath)\n",
    "\n",
    "        score_volume_bbox_filepath = DataManager.get_score_volume_bbox_filepath(stack=stack, downscale=downscale, structure=structure,\n",
    "                                                                               classifier_setting=classifier_id)\n",
    "        np.savetxt(score_volume_bbox_filepath, np.array(score_volume_bbox)[None], fmt='%d')\n",
    "        \n",
    "        upload_from_ec2_to_s3(score_volume_filepath)\n",
    "        upload_from_ec2_to_s3(score_volume_bbox_filepath)\n",
    "        \n",
    "        del score_volume, scoremaps"
   ]
  },
  {
   "cell_type": "markdown",
   "metadata": {},
   "source": [
    "# Regular"
   ]
  },
  {
   "cell_type": "code",
   "execution_count": 24,
   "metadata": {
    "scrolled": true
   },
   "outputs": [
    {
     "name": "stdout",
     "output_type": "stream",
     "text": [
      "5N\n"
     ]
    },
    {
     "name": "stderr",
     "output_type": "stream",
     "text": [
      "Load scoremaps: 1.04 seconds\n",
      "Create score volume: 1.50 seconds\n"
     ]
    },
    {
     "name": "stdout",
     "output_type": "stream",
     "text": [
      "aws s3 cp /shared/CSHL_volumes/MD591/MD591_down32_scoreVolume_clf_30/score_volumes/MD591_down32_scoreVolume_clf_30_5N.bp s3://mousebrainatlas-data/CSHL_volumes/MD591/MD591_down32_scoreVolume_clf_30/score_volumes/MD591_down32_scoreVolume_clf_30_5N.bp\n"
     ]
    },
    {
     "name": "stderr",
     "output_type": "stream",
     "text": [
      "Child returned 0\n",
      "1.11 seconds.\n"
     ]
    },
    {
     "name": "stdout",
     "output_type": "stream",
     "text": [
      "aws s3 cp /shared/CSHL_volumes/MD591/MD591_down32_scoreVolume_clf_30/score_volumes/MD591_down32_scoreVolume_clf_30_5N_bbox.txt s3://mousebrainatlas-data/CSHL_volumes/MD591/MD591_down32_scoreVolume_clf_30/score_volumes/MD591_down32_scoreVolume_clf_30_5N_bbox.txt\n"
     ]
    },
    {
     "name": "stderr",
     "output_type": "stream",
     "text": [
      "Child returned 0\n",
      "0.42 seconds.\n"
     ]
    },
    {
     "name": "stdout",
     "output_type": "stream",
     "text": [
      "6N\n"
     ]
    },
    {
     "name": "stderr",
     "output_type": "stream",
     "text": [
      "Load scoremaps: 1.21 seconds\n",
      "Create score volume: 1.50 seconds\n"
     ]
    },
    {
     "name": "stdout",
     "output_type": "stream",
     "text": [
      "aws s3 cp /shared/CSHL_volumes/MD591/MD591_down32_scoreVolume_clf_30/score_volumes/MD591_down32_scoreVolume_clf_30_6N.bp s3://mousebrainatlas-data/CSHL_volumes/MD591/MD591_down32_scoreVolume_clf_30/score_volumes/MD591_down32_scoreVolume_clf_30_6N.bp\n"
     ]
    },
    {
     "name": "stderr",
     "output_type": "stream",
     "text": [
      "Child returned 0\n",
      "1.14 seconds.\n"
     ]
    },
    {
     "name": "stdout",
     "output_type": "stream",
     "text": [
      "aws s3 cp /shared/CSHL_volumes/MD591/MD591_down32_scoreVolume_clf_30/score_volumes/MD591_down32_scoreVolume_clf_30_6N_bbox.txt s3://mousebrainatlas-data/CSHL_volumes/MD591/MD591_down32_scoreVolume_clf_30/score_volumes/MD591_down32_scoreVolume_clf_30_6N_bbox.txt\n"
     ]
    },
    {
     "name": "stderr",
     "output_type": "stream",
     "text": [
      "Child returned 0\n",
      "0.39 seconds.\n"
     ]
    },
    {
     "name": "stdout",
     "output_type": "stream",
     "text": [
      "7N\n"
     ]
    },
    {
     "name": "stderr",
     "output_type": "stream",
     "text": [
      "Load scoremaps: 0.20 seconds\n",
      "Create score volume: 1.74 seconds\n"
     ]
    },
    {
     "name": "stdout",
     "output_type": "stream",
     "text": [
      "aws s3 cp /shared/CSHL_volumes/MD591/MD591_down32_scoreVolume_clf_30/score_volumes/MD591_down32_scoreVolume_clf_30_7N.bp s3://mousebrainatlas-data/CSHL_volumes/MD591/MD591_down32_scoreVolume_clf_30/score_volumes/MD591_down32_scoreVolume_clf_30_7N.bp\n"
     ]
    },
    {
     "name": "stderr",
     "output_type": "stream",
     "text": [
      "Child returned 0\n",
      "1.16 seconds.\n"
     ]
    },
    {
     "name": "stdout",
     "output_type": "stream",
     "text": [
      "aws s3 cp /shared/CSHL_volumes/MD591/MD591_down32_scoreVolume_clf_30/score_volumes/MD591_down32_scoreVolume_clf_30_7N_bbox.txt s3://mousebrainatlas-data/CSHL_volumes/MD591/MD591_down32_scoreVolume_clf_30/score_volumes/MD591_down32_scoreVolume_clf_30_7N_bbox.txt\n"
     ]
    },
    {
     "name": "stderr",
     "output_type": "stream",
     "text": [
      "Child returned 0\n",
      "0.39 seconds.\n"
     ]
    },
    {
     "name": "stdout",
     "output_type": "stream",
     "text": [
      "7n\n"
     ]
    },
    {
     "name": "stderr",
     "output_type": "stream",
     "text": [
      "Load scoremaps: 1.00 seconds\n",
      "Create score volume: 1.51 seconds\n"
     ]
    },
    {
     "name": "stdout",
     "output_type": "stream",
     "text": [
      "aws s3 cp /shared/CSHL_volumes/MD591/MD591_down32_scoreVolume_clf_30/score_volumes/MD591_down32_scoreVolume_clf_30_7n.bp s3://mousebrainatlas-data/CSHL_volumes/MD591/MD591_down32_scoreVolume_clf_30/score_volumes/MD591_down32_scoreVolume_clf_30_7n.bp\n"
     ]
    },
    {
     "name": "stderr",
     "output_type": "stream",
     "text": [
      "Child returned 0\n",
      "1.16 seconds.\n"
     ]
    },
    {
     "name": "stdout",
     "output_type": "stream",
     "text": [
      "aws s3 cp /shared/CSHL_volumes/MD591/MD591_down32_scoreVolume_clf_30/score_volumes/MD591_down32_scoreVolume_clf_30_7n_bbox.txt s3://mousebrainatlas-data/CSHL_volumes/MD591/MD591_down32_scoreVolume_clf_30/score_volumes/MD591_down32_scoreVolume_clf_30_7n_bbox.txt\n"
     ]
    },
    {
     "name": "stderr",
     "output_type": "stream",
     "text": [
      "Child returned 0\n",
      "0.38 seconds.\n"
     ]
    },
    {
     "name": "stdout",
     "output_type": "stream",
     "text": [
      "Amb\n"
     ]
    },
    {
     "name": "stderr",
     "output_type": "stream",
     "text": [
      "Load scoremaps: 1.04 seconds\n",
      "Create score volume: 1.51 seconds\n"
     ]
    },
    {
     "name": "stdout",
     "output_type": "stream",
     "text": [
      "aws s3 cp /shared/CSHL_volumes/MD591/MD591_down32_scoreVolume_clf_30/score_volumes/MD591_down32_scoreVolume_clf_30_Amb.bp s3://mousebrainatlas-data/CSHL_volumes/MD591/MD591_down32_scoreVolume_clf_30/score_volumes/MD591_down32_scoreVolume_clf_30_Amb.bp\n"
     ]
    },
    {
     "name": "stderr",
     "output_type": "stream",
     "text": [
      "Child returned 0\n",
      "1.06 seconds.\n"
     ]
    },
    {
     "name": "stdout",
     "output_type": "stream",
     "text": [
      "aws s3 cp /shared/CSHL_volumes/MD591/MD591_down32_scoreVolume_clf_30/score_volumes/MD591_down32_scoreVolume_clf_30_Amb_bbox.txt s3://mousebrainatlas-data/CSHL_volumes/MD591/MD591_down32_scoreVolume_clf_30/score_volumes/MD591_down32_scoreVolume_clf_30_Amb_bbox.txt\n"
     ]
    },
    {
     "name": "stderr",
     "output_type": "stream",
     "text": [
      "Child returned 0\n",
      "0.38 seconds.\n"
     ]
    },
    {
     "name": "stdout",
     "output_type": "stream",
     "text": [
      "LC\n"
     ]
    },
    {
     "name": "stderr",
     "output_type": "stream",
     "text": [
      "Load scoremaps: 1.05 seconds\n",
      "Create score volume: 1.51 seconds\n"
     ]
    },
    {
     "name": "stdout",
     "output_type": "stream",
     "text": [
      "aws s3 cp /shared/CSHL_volumes/MD591/MD591_down32_scoreVolume_clf_30/score_volumes/MD591_down32_scoreVolume_clf_30_LC.bp s3://mousebrainatlas-data/CSHL_volumes/MD591/MD591_down32_scoreVolume_clf_30/score_volumes/MD591_down32_scoreVolume_clf_30_LC.bp\n"
     ]
    },
    {
     "name": "stderr",
     "output_type": "stream",
     "text": [
      "Child returned 0\n",
      "1.08 seconds.\n"
     ]
    },
    {
     "name": "stdout",
     "output_type": "stream",
     "text": [
      "aws s3 cp /shared/CSHL_volumes/MD591/MD591_down32_scoreVolume_clf_30/score_volumes/MD591_down32_scoreVolume_clf_30_LC_bbox.txt s3://mousebrainatlas-data/CSHL_volumes/MD591/MD591_down32_scoreVolume_clf_30/score_volumes/MD591_down32_scoreVolume_clf_30_LC_bbox.txt\n"
     ]
    },
    {
     "name": "stderr",
     "output_type": "stream",
     "text": [
      "Child returned 0\n",
      "0.38 seconds.\n"
     ]
    },
    {
     "name": "stdout",
     "output_type": "stream",
     "text": [
      "LRt\n"
     ]
    },
    {
     "name": "stderr",
     "output_type": "stream",
     "text": [
      "Load scoremaps: 1.06 seconds\n",
      "Create score volume: 1.49 seconds\n"
     ]
    },
    {
     "name": "stdout",
     "output_type": "stream",
     "text": [
      "aws s3 cp /shared/CSHL_volumes/MD591/MD591_down32_scoreVolume_clf_30/score_volumes/MD591_down32_scoreVolume_clf_30_LRt.bp s3://mousebrainatlas-data/CSHL_volumes/MD591/MD591_down32_scoreVolume_clf_30/score_volumes/MD591_down32_scoreVolume_clf_30_LRt.bp\n"
     ]
    },
    {
     "name": "stderr",
     "output_type": "stream",
     "text": [
      "Child returned 0\n",
      "1.11 seconds.\n"
     ]
    },
    {
     "name": "stdout",
     "output_type": "stream",
     "text": [
      "aws s3 cp /shared/CSHL_volumes/MD591/MD591_down32_scoreVolume_clf_30/score_volumes/MD591_down32_scoreVolume_clf_30_LRt_bbox.txt s3://mousebrainatlas-data/CSHL_volumes/MD591/MD591_down32_scoreVolume_clf_30/score_volumes/MD591_down32_scoreVolume_clf_30_LRt_bbox.txt\n"
     ]
    },
    {
     "name": "stderr",
     "output_type": "stream",
     "text": [
      "Child returned 0\n",
      "0.37 seconds.\n"
     ]
    },
    {
     "name": "stdout",
     "output_type": "stream",
     "text": [
      "Pn\n"
     ]
    },
    {
     "name": "stderr",
     "output_type": "stream",
     "text": [
      "Load scoremaps: 1.06 seconds\n",
      "Create score volume: 1.49 seconds\n"
     ]
    },
    {
     "name": "stdout",
     "output_type": "stream",
     "text": [
      "aws s3 cp /shared/CSHL_volumes/MD591/MD591_down32_scoreVolume_clf_30/score_volumes/MD591_down32_scoreVolume_clf_30_Pn.bp s3://mousebrainatlas-data/CSHL_volumes/MD591/MD591_down32_scoreVolume_clf_30/score_volumes/MD591_down32_scoreVolume_clf_30_Pn.bp\n"
     ]
    },
    {
     "name": "stderr",
     "output_type": "stream",
     "text": [
      "Child returned 0\n",
      "1.36 seconds.\n"
     ]
    },
    {
     "name": "stdout",
     "output_type": "stream",
     "text": [
      "aws s3 cp /shared/CSHL_volumes/MD591/MD591_down32_scoreVolume_clf_30/score_volumes/MD591_down32_scoreVolume_clf_30_Pn_bbox.txt s3://mousebrainatlas-data/CSHL_volumes/MD591/MD591_down32_scoreVolume_clf_30/score_volumes/MD591_down32_scoreVolume_clf_30_Pn_bbox.txt\n"
     ]
    },
    {
     "name": "stderr",
     "output_type": "stream",
     "text": [
      "Child returned 0\n",
      "0.38 seconds.\n"
     ]
    },
    {
     "name": "stdout",
     "output_type": "stream",
     "text": [
      "Tz\n"
     ]
    },
    {
     "name": "stderr",
     "output_type": "stream",
     "text": [
      "Load scoremaps: 1.22 seconds\n",
      "Create score volume: 2.33 seconds\n"
     ]
    },
    {
     "name": "stdout",
     "output_type": "stream",
     "text": [
      "aws s3 cp /shared/CSHL_volumes/MD591/MD591_down32_scoreVolume_clf_30/score_volumes/MD591_down32_scoreVolume_clf_30_Tz.bp s3://mousebrainatlas-data/CSHL_volumes/MD591/MD591_down32_scoreVolume_clf_30/score_volumes/MD591_down32_scoreVolume_clf_30_Tz.bp\n"
     ]
    },
    {
     "name": "stderr",
     "output_type": "stream",
     "text": [
      "Child returned 0\n",
      "1.57 seconds.\n"
     ]
    },
    {
     "name": "stdout",
     "output_type": "stream",
     "text": [
      "aws s3 cp /shared/CSHL_volumes/MD591/MD591_down32_scoreVolume_clf_30/score_volumes/MD591_down32_scoreVolume_clf_30_Tz_bbox.txt s3://mousebrainatlas-data/CSHL_volumes/MD591/MD591_down32_scoreVolume_clf_30/score_volumes/MD591_down32_scoreVolume_clf_30_Tz_bbox.txt\n"
     ]
    },
    {
     "name": "stderr",
     "output_type": "stream",
     "text": [
      "Child returned 0\n",
      "0.38 seconds.\n"
     ]
    },
    {
     "name": "stdout",
     "output_type": "stream",
     "text": [
      "VLL\n"
     ]
    },
    {
     "name": "stderr",
     "output_type": "stream",
     "text": [
      "Load scoremaps: 1.14 seconds\n",
      "Create score volume: 1.57 seconds\n"
     ]
    },
    {
     "name": "stdout",
     "output_type": "stream",
     "text": [
      "aws s3 cp /shared/CSHL_volumes/MD591/MD591_down32_scoreVolume_clf_30/score_volumes/MD591_down32_scoreVolume_clf_30_VLL.bp s3://mousebrainatlas-data/CSHL_volumes/MD591/MD591_down32_scoreVolume_clf_30/score_volumes/MD591_down32_scoreVolume_clf_30_VLL.bp\n"
     ]
    },
    {
     "name": "stderr",
     "output_type": "stream",
     "text": [
      "Child returned 0\n",
      "1.07 seconds.\n"
     ]
    },
    {
     "name": "stdout",
     "output_type": "stream",
     "text": [
      "aws s3 cp /shared/CSHL_volumes/MD591/MD591_down32_scoreVolume_clf_30/score_volumes/MD591_down32_scoreVolume_clf_30_VLL_bbox.txt s3://mousebrainatlas-data/CSHL_volumes/MD591/MD591_down32_scoreVolume_clf_30/score_volumes/MD591_down32_scoreVolume_clf_30_VLL_bbox.txt\n"
     ]
    },
    {
     "name": "stderr",
     "output_type": "stream",
     "text": [
      "Child returned 0\n",
      "0.38 seconds.\n"
     ]
    },
    {
     "name": "stdout",
     "output_type": "stream",
     "text": [
      "RMC\n"
     ]
    },
    {
     "name": "stderr",
     "output_type": "stream",
     "text": [
      "Load scoremaps: 1.06 seconds\n",
      "Create score volume: 1.56 seconds\n"
     ]
    },
    {
     "name": "stdout",
     "output_type": "stream",
     "text": [
      "aws s3 cp /shared/CSHL_volumes/MD591/MD591_down32_scoreVolume_clf_30/score_volumes/MD591_down32_scoreVolume_clf_30_RMC.bp s3://mousebrainatlas-data/CSHL_volumes/MD591/MD591_down32_scoreVolume_clf_30/score_volumes/MD591_down32_scoreVolume_clf_30_RMC.bp\n"
     ]
    },
    {
     "name": "stderr",
     "output_type": "stream",
     "text": [
      "Child returned 0\n",
      "1.13 seconds.\n"
     ]
    },
    {
     "name": "stdout",
     "output_type": "stream",
     "text": [
      "aws s3 cp /shared/CSHL_volumes/MD591/MD591_down32_scoreVolume_clf_30/score_volumes/MD591_down32_scoreVolume_clf_30_RMC_bbox.txt s3://mousebrainatlas-data/CSHL_volumes/MD591/MD591_down32_scoreVolume_clf_30/score_volumes/MD591_down32_scoreVolume_clf_30_RMC_bbox.txt\n"
     ]
    },
    {
     "name": "stderr",
     "output_type": "stream",
     "text": [
      "Child returned 0\n",
      "0.38 seconds.\n"
     ]
    },
    {
     "name": "stdout",
     "output_type": "stream",
     "text": [
      "SNC\n"
     ]
    },
    {
     "name": "stderr",
     "output_type": "stream",
     "text": [
      "Load scoremaps: 1.19 seconds\n",
      "Create score volume: 1.51 seconds\n"
     ]
    },
    {
     "name": "stdout",
     "output_type": "stream",
     "text": [
      "aws s3 cp /shared/CSHL_volumes/MD591/MD591_down32_scoreVolume_clf_30/score_volumes/MD591_down32_scoreVolume_clf_30_SNC.bp s3://mousebrainatlas-data/CSHL_volumes/MD591/MD591_down32_scoreVolume_clf_30/score_volumes/MD591_down32_scoreVolume_clf_30_SNC.bp\n"
     ]
    },
    {
     "name": "stderr",
     "output_type": "stream",
     "text": [
      "Child returned 0\n",
      "1.15 seconds.\n"
     ]
    },
    {
     "name": "stdout",
     "output_type": "stream",
     "text": [
      "aws s3 cp /shared/CSHL_volumes/MD591/MD591_down32_scoreVolume_clf_30/score_volumes/MD591_down32_scoreVolume_clf_30_SNC_bbox.txt s3://mousebrainatlas-data/CSHL_volumes/MD591/MD591_down32_scoreVolume_clf_30/score_volumes/MD591_down32_scoreVolume_clf_30_SNC_bbox.txt\n"
     ]
    },
    {
     "name": "stderr",
     "output_type": "stream",
     "text": [
      "Child returned 0\n",
      "0.38 seconds.\n"
     ]
    },
    {
     "name": "stdout",
     "output_type": "stream",
     "text": [
      "SNR\n"
     ]
    },
    {
     "name": "stderr",
     "output_type": "stream",
     "text": [
      "Load scoremaps: 1.26 seconds\n",
      "Create score volume: 1.49 seconds\n"
     ]
    },
    {
     "name": "stdout",
     "output_type": "stream",
     "text": [
      "aws s3 cp /shared/CSHL_volumes/MD591/MD591_down32_scoreVolume_clf_30/score_volumes/MD591_down32_scoreVolume_clf_30_SNR.bp s3://mousebrainatlas-data/CSHL_volumes/MD591/MD591_down32_scoreVolume_clf_30/score_volumes/MD591_down32_scoreVolume_clf_30_SNR.bp\n"
     ]
    },
    {
     "name": "stderr",
     "output_type": "stream",
     "text": [
      "Child returned 0\n",
      "1.19 seconds.\n"
     ]
    },
    {
     "name": "stdout",
     "output_type": "stream",
     "text": [
      "aws s3 cp /shared/CSHL_volumes/MD591/MD591_down32_scoreVolume_clf_30/score_volumes/MD591_down32_scoreVolume_clf_30_SNR_bbox.txt s3://mousebrainatlas-data/CSHL_volumes/MD591/MD591_down32_scoreVolume_clf_30/score_volumes/MD591_down32_scoreVolume_clf_30_SNR_bbox.txt\n"
     ]
    },
    {
     "name": "stderr",
     "output_type": "stream",
     "text": [
      "Child returned 0\n",
      "0.34 seconds.\n"
     ]
    },
    {
     "name": "stdout",
     "output_type": "stream",
     "text": [
      "3N\n"
     ]
    },
    {
     "name": "stderr",
     "output_type": "stream",
     "text": [
      "Load scoremaps: 1.28 seconds\n",
      "Create score volume: 1.49 seconds\n"
     ]
    },
    {
     "name": "stdout",
     "output_type": "stream",
     "text": [
      "aws s3 cp /shared/CSHL_volumes/MD591/MD591_down32_scoreVolume_clf_30/score_volumes/MD591_down32_scoreVolume_clf_30_3N.bp s3://mousebrainatlas-data/CSHL_volumes/MD591/MD591_down32_scoreVolume_clf_30/score_volumes/MD591_down32_scoreVolume_clf_30_3N.bp\n"
     ]
    },
    {
     "name": "stderr",
     "output_type": "stream",
     "text": [
      "Child returned 0\n",
      "1.24 seconds.\n"
     ]
    },
    {
     "name": "stdout",
     "output_type": "stream",
     "text": [
      "aws s3 cp /shared/CSHL_volumes/MD591/MD591_down32_scoreVolume_clf_30/score_volumes/MD591_down32_scoreVolume_clf_30_3N_bbox.txt s3://mousebrainatlas-data/CSHL_volumes/MD591/MD591_down32_scoreVolume_clf_30/score_volumes/MD591_down32_scoreVolume_clf_30_3N_bbox.txt\n"
     ]
    },
    {
     "name": "stderr",
     "output_type": "stream",
     "text": [
      "Child returned 0\n",
      "0.37 seconds.\n"
     ]
    },
    {
     "name": "stdout",
     "output_type": "stream",
     "text": [
      "4N\n"
     ]
    },
    {
     "name": "stderr",
     "output_type": "stream",
     "text": [
      "Load scoremaps: 1.23 seconds\n",
      "Create score volume: 2.09 seconds\n"
     ]
    },
    {
     "name": "stdout",
     "output_type": "stream",
     "text": [
      "aws s3 cp /shared/CSHL_volumes/MD591/MD591_down32_scoreVolume_clf_30/score_volumes/MD591_down32_scoreVolume_clf_30_4N.bp s3://mousebrainatlas-data/CSHL_volumes/MD591/MD591_down32_scoreVolume_clf_30/score_volumes/MD591_down32_scoreVolume_clf_30_4N.bp\n"
     ]
    },
    {
     "name": "stderr",
     "output_type": "stream",
     "text": [
      "Child returned 0\n",
      "1.10 seconds.\n"
     ]
    },
    {
     "name": "stdout",
     "output_type": "stream",
     "text": [
      "aws s3 cp /shared/CSHL_volumes/MD591/MD591_down32_scoreVolume_clf_30/score_volumes/MD591_down32_scoreVolume_clf_30_4N_bbox.txt s3://mousebrainatlas-data/CSHL_volumes/MD591/MD591_down32_scoreVolume_clf_30/score_volumes/MD591_down32_scoreVolume_clf_30_4N_bbox.txt\n"
     ]
    },
    {
     "name": "stderr",
     "output_type": "stream",
     "text": [
      "Child returned 0\n",
      "0.38 seconds.\n"
     ]
    },
    {
     "name": "stdout",
     "output_type": "stream",
     "text": [
      "Sp5I\n"
     ]
    },
    {
     "name": "stderr",
     "output_type": "stream",
     "text": [
      "Load scoremaps: 1.04 seconds\n",
      "Create score volume: 1.84 seconds\n"
     ]
    },
    {
     "name": "stdout",
     "output_type": "stream",
     "text": [
      "aws s3 cp /shared/CSHL_volumes/MD591/MD591_down32_scoreVolume_clf_30/score_volumes/MD591_down32_scoreVolume_clf_30_Sp5I.bp s3://mousebrainatlas-data/CSHL_volumes/MD591/MD591_down32_scoreVolume_clf_30/score_volumes/MD591_down32_scoreVolume_clf_30_Sp5I.bp\n"
     ]
    },
    {
     "name": "stderr",
     "output_type": "stream",
     "text": [
      "Child returned 0\n",
      "1.02 seconds.\n"
     ]
    },
    {
     "name": "stdout",
     "output_type": "stream",
     "text": [
      "aws s3 cp /shared/CSHL_volumes/MD591/MD591_down32_scoreVolume_clf_30/score_volumes/MD591_down32_scoreVolume_clf_30_Sp5I_bbox.txt s3://mousebrainatlas-data/CSHL_volumes/MD591/MD591_down32_scoreVolume_clf_30/score_volumes/MD591_down32_scoreVolume_clf_30_Sp5I_bbox.txt\n"
     ]
    },
    {
     "name": "stderr",
     "output_type": "stream",
     "text": [
      "Child returned 0\n",
      "0.43 seconds.\n"
     ]
    },
    {
     "name": "stdout",
     "output_type": "stream",
     "text": [
      "Sp5O\n"
     ]
    },
    {
     "name": "stderr",
     "output_type": "stream",
     "text": [
      "Load scoremaps: 1.08 seconds\n",
      "Create score volume: 1.54 seconds\n"
     ]
    },
    {
     "name": "stdout",
     "output_type": "stream",
     "text": [
      "aws s3 cp /shared/CSHL_volumes/MD591/MD591_down32_scoreVolume_clf_30/score_volumes/MD591_down32_scoreVolume_clf_30_Sp5O.bp s3://mousebrainatlas-data/CSHL_volumes/MD591/MD591_down32_scoreVolume_clf_30/score_volumes/MD591_down32_scoreVolume_clf_30_Sp5O.bp\n"
     ]
    },
    {
     "name": "stderr",
     "output_type": "stream",
     "text": [
      "Child returned 0\n",
      "1.12 seconds.\n"
     ]
    },
    {
     "name": "stdout",
     "output_type": "stream",
     "text": [
      "aws s3 cp /shared/CSHL_volumes/MD591/MD591_down32_scoreVolume_clf_30/score_volumes/MD591_down32_scoreVolume_clf_30_Sp5O_bbox.txt s3://mousebrainatlas-data/CSHL_volumes/MD591/MD591_down32_scoreVolume_clf_30/score_volumes/MD591_down32_scoreVolume_clf_30_Sp5O_bbox.txt\n"
     ]
    },
    {
     "name": "stderr",
     "output_type": "stream",
     "text": [
      "Child returned 0\n",
      "0.38 seconds.\n"
     ]
    },
    {
     "name": "stdout",
     "output_type": "stream",
     "text": [
      "Sp5C\n"
     ]
    },
    {
     "name": "stderr",
     "output_type": "stream",
     "text": [
      "Load scoremaps: 1.21 seconds\n",
      "Create score volume: 1.53 seconds\n"
     ]
    },
    {
     "name": "stdout",
     "output_type": "stream",
     "text": [
      "aws s3 cp /shared/CSHL_volumes/MD591/MD591_down32_scoreVolume_clf_30/score_volumes/MD591_down32_scoreVolume_clf_30_Sp5C.bp s3://mousebrainatlas-data/CSHL_volumes/MD591/MD591_down32_scoreVolume_clf_30/score_volumes/MD591_down32_scoreVolume_clf_30_Sp5C.bp\n"
     ]
    },
    {
     "name": "stderr",
     "output_type": "stream",
     "text": [
      "Child returned 0\n",
      "1.08 seconds.\n"
     ]
    },
    {
     "name": "stdout",
     "output_type": "stream",
     "text": [
      "aws s3 cp /shared/CSHL_volumes/MD591/MD591_down32_scoreVolume_clf_30/score_volumes/MD591_down32_scoreVolume_clf_30_Sp5C_bbox.txt s3://mousebrainatlas-data/CSHL_volumes/MD591/MD591_down32_scoreVolume_clf_30/score_volumes/MD591_down32_scoreVolume_clf_30_Sp5C_bbox.txt\n"
     ]
    },
    {
     "name": "stderr",
     "output_type": "stream",
     "text": [
      "Child returned 0\n",
      "0.38 seconds.\n"
     ]
    },
    {
     "name": "stdout",
     "output_type": "stream",
     "text": [
      "PBG\n"
     ]
    },
    {
     "name": "stderr",
     "output_type": "stream",
     "text": [
      "Load scoremaps: 1.03 seconds\n",
      "Create score volume: 1.51 seconds\n"
     ]
    },
    {
     "name": "stdout",
     "output_type": "stream",
     "text": [
      "aws s3 cp /shared/CSHL_volumes/MD591/MD591_down32_scoreVolume_clf_30/score_volumes/MD591_down32_scoreVolume_clf_30_PBG.bp s3://mousebrainatlas-data/CSHL_volumes/MD591/MD591_down32_scoreVolume_clf_30/score_volumes/MD591_down32_scoreVolume_clf_30_PBG.bp\n"
     ]
    },
    {
     "name": "stderr",
     "output_type": "stream",
     "text": [
      "Child returned 0\n",
      "1.49 seconds.\n"
     ]
    },
    {
     "name": "stdout",
     "output_type": "stream",
     "text": [
      "aws s3 cp /shared/CSHL_volumes/MD591/MD591_down32_scoreVolume_clf_30/score_volumes/MD591_down32_scoreVolume_clf_30_PBG_bbox.txt s3://mousebrainatlas-data/CSHL_volumes/MD591/MD591_down32_scoreVolume_clf_30/score_volumes/MD591_down32_scoreVolume_clf_30_PBG_bbox.txt\n"
     ]
    },
    {
     "name": "stderr",
     "output_type": "stream",
     "text": [
      "Child returned 0\n",
      "0.37 seconds.\n"
     ]
    },
    {
     "name": "stdout",
     "output_type": "stream",
     "text": [
      "10N\n"
     ]
    },
    {
     "name": "stderr",
     "output_type": "stream",
     "text": [
      "Load scoremaps: 1.14 seconds\n",
      "Create score volume: 1.49 seconds\n"
     ]
    },
    {
     "name": "stdout",
     "output_type": "stream",
     "text": [
      "aws s3 cp /shared/CSHL_volumes/MD591/MD591_down32_scoreVolume_clf_30/score_volumes/MD591_down32_scoreVolume_clf_30_10N.bp s3://mousebrainatlas-data/CSHL_volumes/MD591/MD591_down32_scoreVolume_clf_30/score_volumes/MD591_down32_scoreVolume_clf_30_10N.bp\n"
     ]
    },
    {
     "name": "stderr",
     "output_type": "stream",
     "text": [
      "Child returned 0\n",
      "1.11 seconds.\n"
     ]
    },
    {
     "name": "stdout",
     "output_type": "stream",
     "text": [
      "aws s3 cp /shared/CSHL_volumes/MD591/MD591_down32_scoreVolume_clf_30/score_volumes/MD591_down32_scoreVolume_clf_30_10N_bbox.txt s3://mousebrainatlas-data/CSHL_volumes/MD591/MD591_down32_scoreVolume_clf_30/score_volumes/MD591_down32_scoreVolume_clf_30_10N_bbox.txt\n"
     ]
    },
    {
     "name": "stderr",
     "output_type": "stream",
     "text": [
      "Child returned 0\n",
      "0.37 seconds.\n"
     ]
    },
    {
     "name": "stdout",
     "output_type": "stream",
     "text": [
      "VCA\n"
     ]
    },
    {
     "name": "stderr",
     "output_type": "stream",
     "text": [
      "Load scoremaps: 1.06 seconds\n",
      "Create score volume: 1.50 seconds\n"
     ]
    },
    {
     "name": "stdout",
     "output_type": "stream",
     "text": [
      "aws s3 cp /shared/CSHL_volumes/MD591/MD591_down32_scoreVolume_clf_30/score_volumes/MD591_down32_scoreVolume_clf_30_VCA.bp s3://mousebrainatlas-data/CSHL_volumes/MD591/MD591_down32_scoreVolume_clf_30/score_volumes/MD591_down32_scoreVolume_clf_30_VCA.bp\n"
     ]
    },
    {
     "name": "stderr",
     "output_type": "stream",
     "text": [
      "Child returned 0\n",
      "1.14 seconds.\n"
     ]
    },
    {
     "name": "stdout",
     "output_type": "stream",
     "text": [
      "aws s3 cp /shared/CSHL_volumes/MD591/MD591_down32_scoreVolume_clf_30/score_volumes/MD591_down32_scoreVolume_clf_30_VCA_bbox.txt s3://mousebrainatlas-data/CSHL_volumes/MD591/MD591_down32_scoreVolume_clf_30/score_volumes/MD591_down32_scoreVolume_clf_30_VCA_bbox.txt\n"
     ]
    },
    {
     "name": "stderr",
     "output_type": "stream",
     "text": [
      "Child returned 0\n",
      "0.39 seconds.\n"
     ]
    },
    {
     "name": "stdout",
     "output_type": "stream",
     "text": [
      "VCP\n"
     ]
    },
    {
     "name": "stderr",
     "output_type": "stream",
     "text": [
      "Load scoremaps: 1.04 seconds\n",
      "Create score volume: 1.73 seconds\n"
     ]
    },
    {
     "name": "stdout",
     "output_type": "stream",
     "text": [
      "aws s3 cp /shared/CSHL_volumes/MD591/MD591_down32_scoreVolume_clf_30/score_volumes/MD591_down32_scoreVolume_clf_30_VCP.bp s3://mousebrainatlas-data/CSHL_volumes/MD591/MD591_down32_scoreVolume_clf_30/score_volumes/MD591_down32_scoreVolume_clf_30_VCP.bp\n"
     ]
    },
    {
     "name": "stderr",
     "output_type": "stream",
     "text": [
      "Child returned 0\n",
      "1.09 seconds.\n"
     ]
    },
    {
     "name": "stdout",
     "output_type": "stream",
     "text": [
      "aws s3 cp /shared/CSHL_volumes/MD591/MD591_down32_scoreVolume_clf_30/score_volumes/MD591_down32_scoreVolume_clf_30_VCP_bbox.txt s3://mousebrainatlas-data/CSHL_volumes/MD591/MD591_down32_scoreVolume_clf_30/score_volumes/MD591_down32_scoreVolume_clf_30_VCP_bbox.txt\n"
     ]
    },
    {
     "name": "stderr",
     "output_type": "stream",
     "text": [
      "Child returned 0\n",
      "0.40 seconds.\n"
     ]
    },
    {
     "name": "stdout",
     "output_type": "stream",
     "text": [
      "DC\n"
     ]
    },
    {
     "name": "stderr",
     "output_type": "stream",
     "text": [
      "Load scoremaps: 1.07 seconds\n",
      "Create score volume: 1.57 seconds\n"
     ]
    },
    {
     "name": "stdout",
     "output_type": "stream",
     "text": [
      "aws s3 cp /shared/CSHL_volumes/MD591/MD591_down32_scoreVolume_clf_30/score_volumes/MD591_down32_scoreVolume_clf_30_DC.bp s3://mousebrainatlas-data/CSHL_volumes/MD591/MD591_down32_scoreVolume_clf_30/score_volumes/MD591_down32_scoreVolume_clf_30_DC.bp\n"
     ]
    },
    {
     "name": "stderr",
     "output_type": "stream",
     "text": [
      "Child returned 0\n",
      "1.23 seconds.\n"
     ]
    },
    {
     "name": "stdout",
     "output_type": "stream",
     "text": [
      "aws s3 cp /shared/CSHL_volumes/MD591/MD591_down32_scoreVolume_clf_30/score_volumes/MD591_down32_scoreVolume_clf_30_DC_bbox.txt s3://mousebrainatlas-data/CSHL_volumes/MD591/MD591_down32_scoreVolume_clf_30/score_volumes/MD591_down32_scoreVolume_clf_30_DC_bbox.txt\n"
     ]
    },
    {
     "name": "stderr",
     "output_type": "stream",
     "text": [
      "Child returned 0\n",
      "0.37 seconds.\n"
     ]
    },
    {
     "name": "stdout",
     "output_type": "stream",
     "text": [
      "AP\n"
     ]
    },
    {
     "name": "stderr",
     "output_type": "stream",
     "text": [
      "Load scoremaps: 1.71 seconds\n",
      "Create score volume: 1.50 seconds\n"
     ]
    },
    {
     "name": "stdout",
     "output_type": "stream",
     "text": [
      "aws s3 cp /shared/CSHL_volumes/MD591/MD591_down32_scoreVolume_clf_30/score_volumes/MD591_down32_scoreVolume_clf_30_AP.bp s3://mousebrainatlas-data/CSHL_volumes/MD591/MD591_down32_scoreVolume_clf_30/score_volumes/MD591_down32_scoreVolume_clf_30_AP.bp\n"
     ]
    },
    {
     "name": "stderr",
     "output_type": "stream",
     "text": [
      "Child returned 0\n",
      "1.08 seconds.\n"
     ]
    },
    {
     "name": "stdout",
     "output_type": "stream",
     "text": [
      "aws s3 cp /shared/CSHL_volumes/MD591/MD591_down32_scoreVolume_clf_30/score_volumes/MD591_down32_scoreVolume_clf_30_AP_bbox.txt s3://mousebrainatlas-data/CSHL_volumes/MD591/MD591_down32_scoreVolume_clf_30/score_volumes/MD591_down32_scoreVolume_clf_30_AP_bbox.txt\n"
     ]
    },
    {
     "name": "stderr",
     "output_type": "stream",
     "text": [
      "Child returned 0\n",
      "0.38 seconds.\n"
     ]
    },
    {
     "name": "stdout",
     "output_type": "stream",
     "text": [
      "12N\n"
     ]
    },
    {
     "name": "stderr",
     "output_type": "stream",
     "text": [
      "Load scoremaps: 1.28 seconds\n",
      "Create score volume: 1.50 seconds\n"
     ]
    },
    {
     "name": "stdout",
     "output_type": "stream",
     "text": [
      "aws s3 cp /shared/CSHL_volumes/MD591/MD591_down32_scoreVolume_clf_30/score_volumes/MD591_down32_scoreVolume_clf_30_12N.bp s3://mousebrainatlas-data/CSHL_volumes/MD591/MD591_down32_scoreVolume_clf_30/score_volumes/MD591_down32_scoreVolume_clf_30_12N.bp\n"
     ]
    },
    {
     "name": "stderr",
     "output_type": "stream",
     "text": [
      "Child returned 0\n",
      "1.30 seconds.\n"
     ]
    },
    {
     "name": "stdout",
     "output_type": "stream",
     "text": [
      "aws s3 cp /shared/CSHL_volumes/MD591/MD591_down32_scoreVolume_clf_30/score_volumes/MD591_down32_scoreVolume_clf_30_12N_bbox.txt s3://mousebrainatlas-data/CSHL_volumes/MD591/MD591_down32_scoreVolume_clf_30/score_volumes/MD591_down32_scoreVolume_clf_30_12N_bbox.txt\n"
     ]
    },
    {
     "name": "stderr",
     "output_type": "stream",
     "text": [
      "Child returned 0\n",
      "0.37 seconds.\n"
     ]
    },
    {
     "name": "stdout",
     "output_type": "stream",
     "text": [
      "RtTg\n"
     ]
    },
    {
     "name": "stderr",
     "output_type": "stream",
     "text": [
      "Load scoremaps: 1.17 seconds\n",
      "Create score volume: 1.52 seconds\n"
     ]
    },
    {
     "name": "stdout",
     "output_type": "stream",
     "text": [
      "aws s3 cp /shared/CSHL_volumes/MD591/MD591_down32_scoreVolume_clf_30/score_volumes/MD591_down32_scoreVolume_clf_30_RtTg.bp s3://mousebrainatlas-data/CSHL_volumes/MD591/MD591_down32_scoreVolume_clf_30/score_volumes/MD591_down32_scoreVolume_clf_30_RtTg.bp\n"
     ]
    },
    {
     "name": "stderr",
     "output_type": "stream",
     "text": [
      "Child returned 0\n",
      "0.99 seconds.\n"
     ]
    },
    {
     "name": "stdout",
     "output_type": "stream",
     "text": [
      "aws s3 cp /shared/CSHL_volumes/MD591/MD591_down32_scoreVolume_clf_30/score_volumes/MD591_down32_scoreVolume_clf_30_RtTg_bbox.txt s3://mousebrainatlas-data/CSHL_volumes/MD591/MD591_down32_scoreVolume_clf_30/score_volumes/MD591_down32_scoreVolume_clf_30_RtTg_bbox.txt\n"
     ]
    },
    {
     "name": "stderr",
     "output_type": "stream",
     "text": [
      "Child returned 0\n",
      "0.38 seconds.\n",
      "Number of valid scoremaps for sp5 is less than 2.\n",
      "Number of valid scoremaps for outerContour is less than 2.\n"
     ]
    },
    {
     "name": "stdout",
     "output_type": "stream",
     "text": [
      "sp5\n",
      "outerContour\n",
      "SC\n"
     ]
    },
    {
     "name": "stderr",
     "output_type": "stream",
     "text": [
      "Load scoremaps: 1.05 seconds\n",
      "Create score volume: 1.52 seconds\n"
     ]
    },
    {
     "name": "stdout",
     "output_type": "stream",
     "text": [
      "aws s3 cp /shared/CSHL_volumes/MD591/MD591_down32_scoreVolume_clf_30/score_volumes/MD591_down32_scoreVolume_clf_30_SC.bp s3://mousebrainatlas-data/CSHL_volumes/MD591/MD591_down32_scoreVolume_clf_30/score_volumes/MD591_down32_scoreVolume_clf_30_SC.bp\n"
     ]
    },
    {
     "name": "stderr",
     "output_type": "stream",
     "text": [
      "Child returned 0\n",
      "1.15 seconds.\n"
     ]
    },
    {
     "name": "stdout",
     "output_type": "stream",
     "text": [
      "aws s3 cp /shared/CSHL_volumes/MD591/MD591_down32_scoreVolume_clf_30/score_volumes/MD591_down32_scoreVolume_clf_30_SC_bbox.txt s3://mousebrainatlas-data/CSHL_volumes/MD591/MD591_down32_scoreVolume_clf_30/score_volumes/MD591_down32_scoreVolume_clf_30_SC_bbox.txt\n"
     ]
    },
    {
     "name": "stderr",
     "output_type": "stream",
     "text": [
      "Child returned 0\n",
      "0.44 seconds.\n"
     ]
    },
    {
     "name": "stdout",
     "output_type": "stream",
     "text": [
      "IC\n"
     ]
    },
    {
     "name": "stderr",
     "output_type": "stream",
     "text": [
      "Load scoremaps: 1.04 seconds\n",
      "Create score volume: 2.04 seconds\n"
     ]
    },
    {
     "name": "stdout",
     "output_type": "stream",
     "text": [
      "aws s3 cp /shared/CSHL_volumes/MD591/MD591_down32_scoreVolume_clf_30/score_volumes/MD591_down32_scoreVolume_clf_30_IC.bp s3://mousebrainatlas-data/CSHL_volumes/MD591/MD591_down32_scoreVolume_clf_30/score_volumes/MD591_down32_scoreVolume_clf_30_IC.bp\n"
     ]
    },
    {
     "name": "stderr",
     "output_type": "stream",
     "text": [
      "Child returned 0\n",
      "1.03 seconds.\n"
     ]
    },
    {
     "name": "stdout",
     "output_type": "stream",
     "text": [
      "aws s3 cp /shared/CSHL_volumes/MD591/MD591_down32_scoreVolume_clf_30/score_volumes/MD591_down32_scoreVolume_clf_30_IC_bbox.txt s3://mousebrainatlas-data/CSHL_volumes/MD591/MD591_down32_scoreVolume_clf_30/score_volumes/MD591_down32_scoreVolume_clf_30_IC_bbox.txt\n"
     ]
    },
    {
     "name": "stderr",
     "output_type": "stream",
     "text": [
      "Child returned 0\n",
      "0.38 seconds.\n"
     ]
    }
   ],
   "source": [
    "for stack in ['MD591']:\n",
    "    \n",
    "    first_sec, last_sec = metadata_cache['section_limits'][stack]\n",
    "    \n",
    "    for structure in all_known_structures:\n",
    "#     for structure in ['7N']:\n",
    "        print structure\n",
    "    \n",
    "        t = time.time()\n",
    "#         scoremaps = load_scoremaps_multiple_sections_parallel(stack=stack, sections=range(first_sec, last_sec+1), \n",
    "#                                                         structure=structure, downscale=downscale, classifier_setting=classifier_id)\n",
    "        scoremaps = load_downscaled_scoremaps_multiple_sections_sequential(stack=stack, sections=range(first_sec, last_sec+1), \n",
    "                                                structure=structure, downscale=downscale, classifier_setting=classifier_id)\n",
    "        \n",
    "        if len(scoremaps) < 2:\n",
    "            sys.stderr.write('Number of valid scoremaps for %s is less than 2.\\n' % structure)\n",
    "            continue\n",
    "        \n",
    "        sys.stderr.write('Load scoremaps: %.2f seconds\\n' % (time.time() - t)) # 10-40s (down=32, 12 processes)\n",
    "        \n",
    "        t = time.time()\n",
    "        score_volume, score_volume_bbox = images_to_volume(images=scoremaps, voxel_size=(1, 1, voxel_z_size), \n",
    "                                                           first_sec=first_sec-1, last_sec=last_sec-1)\n",
    "        sys.stderr.write('Create score volume: %.2f seconds\\n' % (time.time() - t)) # 2s\n",
    "        \n",
    "#         t = time.time()\n",
    "\n",
    "        score_volume_filepath = DataManager.get_score_volume_filepath(stack=stack, downscale=downscale, structure=structure, classifier_setting=classifier_id)\n",
    "        create_parent_dir_if_not_exists(score_volume_filepath)\n",
    "        bp.pack_ndarray_file(score_volume.astype(np.float16), score_volume_filepath)\n",
    "\n",
    "        score_volume_bbox_filepath = DataManager.get_score_volume_bbox_filepath(stack=stack, downscale=downscale, structure=structure,\n",
    "                                                                               classifier_setting=classifier_id)\n",
    "        np.savetxt(score_volume_bbox_filepath, np.array(score_volume_bbox)[None], fmt='%d')\n",
    "        \n",
    "        upload_from_ec2_to_s3(score_volume_filepath)\n",
    "        upload_from_ec2_to_s3(score_volume_bbox_filepath)\n",
    "        \n",
    "        del score_volume, scoremaps\n",
    "        \n",
    "#         sys.stderr.write('Save score volume: %.2f seconds\\n' % (time.time() - t)) # 1s (down=32)"
   ]
  },
  {
   "cell_type": "markdown",
   "metadata": {
    "collapsed": true
   },
   "source": [
    "# Read"
   ]
  },
  {
   "cell_type": "code",
   "execution_count": 25,
   "metadata": {
    "scrolled": true
   },
   "outputs": [
    {
     "name": "stdout",
     "output_type": "stream",
     "text": [
      "5N\n",
      "6N\n",
      "7N\n",
      "7n\n",
      "Amb\n",
      "LC\n",
      "LRt\n",
      "Pn\n",
      "Tz\n",
      "VLL\n",
      "RMC\n",
      "SNC\n",
      "SNR\n",
      "3N\n",
      "4N\n",
      "Sp5I\n",
      "Sp5O\n",
      "Sp5C\n",
      "PBG\n",
      "10N\n",
      "VCA\n",
      "VCP\n",
      "DC\n",
      "AP\n",
      "12N\n",
      "RtTg\n",
      "sp5\n",
      "outerContour\n",
      "SC\n"
     ]
    },
    {
     "name": "stderr",
     "output_type": "stream",
     "text": [
      "File does not exist: /oasis/projects/nsf/csd395/yuncong/CSHL_volumes/MD642/MD642_down32_scoreVolume_clf_2/score_volumes/MD642_down32_scoreVolume_clf_2_sp5.bp\n",
      "File does not exist: /oasis/projects/nsf/csd395/yuncong/CSHL_volumes/MD642/MD642_down32_scoreVolume_clf_2/score_volumes/MD642_down32_scoreVolume_clf_2_outerContour.bp\n"
     ]
    },
    {
     "name": "stdout",
     "output_type": "stream",
     "text": [
      "IC\n"
     ]
    }
   ],
   "source": [
    "for structure in all_known_structures:\n",
    "    print structure\n",
    "    try:\n",
    "        score_volume = DataManager.load_score_volume(stack='MD642', structure=structure, downscale=32, \n",
    "                                                 classifier_setting=classifier_setting)\n",
    "        score_volume_cropped = score_volume[:, :600, :]\n",
    "\n",
    "        score_volume_filepath = DataManager.get_score_volume_filepath(stack=stack, downscale=downscale, \n",
    "                                                                  structure=structure, \n",
    "                                                                  classifier_setting=classifier_setting)\n",
    "        create_if_not_exists(os.path.dirname(score_volume_filepath))\n",
    "        bp.pack_ndarray_file(score_volume_cropped.astype(np.float16), score_volume_filepath)\n",
    "    except:\n",
    "        pass"
   ]
  },
  {
   "cell_type": "code",
   "execution_count": null,
   "metadata": {
    "collapsed": true,
    "scrolled": false
   },
   "outputs": [],
   "source": [
    "display_volume_sections(score_volume_cropped, cmap=plt.cm.hot, every=10)"
   ]
  }
 ],
 "metadata": {
  "kernelspec": {
   "display_name": "Python 2",
   "language": "python",
   "name": "python2"
  },
  "language_info": {
   "codemirror_mode": {
    "name": "ipython",
    "version": 2
   },
   "file_extension": ".py",
   "mimetype": "text/x-python",
   "name": "python",
   "nbconvert_exporter": "python",
   "pygments_lexer": "ipython2",
   "version": "2.7.12"
  }
 },
 "nbformat": 4,
 "nbformat_minor": 1
}
