{
 "cells": [
  {
   "cell_type": "code",
   "execution_count": 1,
   "metadata": {},
   "outputs": [
    {
     "name": "stdout",
     "output_type": "stream",
     "text": [
      "Setting environment for AWS compute node\n"
     ]
    },
    {
     "name": "stderr",
     "output_type": "stream",
     "text": [
      "No vtk\n",
      "File does not exist: /shared/CSHL_data_processed/MD635/MD635_anchor.txt\n",
      "File does not exist: /shared/CSHL_data_processed/MD635/MD635_sorted_filenames.txt\n",
      "File does not exist: /shared/CSHL_data_processed/MD635/MD635_cropbox.txt\n",
      "File does not exist: /shared/CSHL_data_processed/MD635/MD635_cropbox.txt\n"
     ]
    }
   ],
   "source": [
    "%load_ext autoreload\n",
    "%autoreload 2\n",
    "\n",
    "import sys\n",
    "import os\n",
    "import time\n",
    "\n",
    "from multiprocess import Pool\n",
    "import numpy as np\n",
    "\n",
    "sys.path.append(os.path.join(os.environ['REPO_DIR'], 'utilities'))\n",
    "from utilities2015 import *\n",
    "from metadata import *\n",
    "from data_manager import *\n",
    "from conversion import images_to_volume"
   ]
  },
  {
   "cell_type": "markdown",
   "metadata": {},
   "source": [
    "# All structures for annotation volume"
   ]
  },
  {
   "cell_type": "code",
   "execution_count": 6,
   "metadata": {
    "scrolled": true
   },
   "outputs": [
    {
     "name": "stdout",
     "output_type": "stream",
     "text": [
      "5N_L\n"
     ]
    },
    {
     "name": "stderr",
     "output_type": "stream",
     "text": [
      "Gradient 5N_L: 1.480075 seconds\n",
      "save 5N_L: 0.265533 seconds\n"
     ]
    },
    {
     "name": "stdout",
     "output_type": "stream",
     "text": [
      "5N_R\n"
     ]
    },
    {
     "name": "stderr",
     "output_type": "stream",
     "text": [
      "Gradient 5N_R: 1.476082 seconds\n",
      "save 5N_R: 0.217823 seconds\n"
     ]
    },
    {
     "name": "stdout",
     "output_type": "stream",
     "text": [
      "6N_L\n"
     ]
    },
    {
     "name": "stderr",
     "output_type": "stream",
     "text": [
      "Gradient 6N_L: 1.476514 seconds\n",
      "save 6N_L: 0.197146 seconds\n"
     ]
    },
    {
     "name": "stdout",
     "output_type": "stream",
     "text": [
      "6N_R\n"
     ]
    },
    {
     "name": "stderr",
     "output_type": "stream",
     "text": [
      "Gradient 6N_R: 1.479586 seconds\n",
      "save 6N_R: 0.189110 seconds\n"
     ]
    },
    {
     "name": "stdout",
     "output_type": "stream",
     "text": [
      "7N_L\n"
     ]
    },
    {
     "name": "stderr",
     "output_type": "stream",
     "text": [
      "Gradient 7N_L: 1.478817 seconds\n",
      "save 7N_L: 0.192129 seconds\n"
     ]
    },
    {
     "name": "stdout",
     "output_type": "stream",
     "text": [
      "7N_R\n"
     ]
    },
    {
     "name": "stderr",
     "output_type": "stream",
     "text": [
      "Gradient 7N_R: 1.475504 seconds\n",
      "save 7N_R: 0.204563 seconds\n"
     ]
    },
    {
     "name": "stdout",
     "output_type": "stream",
     "text": [
      "7n_L\n"
     ]
    },
    {
     "name": "stderr",
     "output_type": "stream",
     "text": [
      "Gradient 7n_L: 1.464448 seconds\n",
      "save 7n_L: 0.197011 seconds\n"
     ]
    },
    {
     "name": "stdout",
     "output_type": "stream",
     "text": [
      "7n_R\n"
     ]
    },
    {
     "name": "stderr",
     "output_type": "stream",
     "text": [
      "Gradient 7n_R: 1.480349 seconds\n",
      "save 7n_R: 0.237062 seconds\n"
     ]
    },
    {
     "name": "stdout",
     "output_type": "stream",
     "text": [
      "Amb_L\n"
     ]
    },
    {
     "name": "stderr",
     "output_type": "stream",
     "text": [
      "Gradient Amb_L: 1.480421 seconds\n",
      "save Amb_L: 0.202024 seconds\n"
     ]
    },
    {
     "name": "stdout",
     "output_type": "stream",
     "text": [
      "Amb_R\n"
     ]
    },
    {
     "name": "stderr",
     "output_type": "stream",
     "text": [
      "Gradient Amb_R: 1.478885 seconds\n",
      "save Amb_R: 0.221382 seconds\n"
     ]
    },
    {
     "name": "stdout",
     "output_type": "stream",
     "text": [
      "LC_L\n"
     ]
    },
    {
     "name": "stderr",
     "output_type": "stream",
     "text": [
      "Gradient LC_L: 1.477895 seconds\n",
      "save LC_L: 0.207788 seconds\n"
     ]
    },
    {
     "name": "stdout",
     "output_type": "stream",
     "text": [
      "LC_R\n"
     ]
    },
    {
     "name": "stderr",
     "output_type": "stream",
     "text": [
      "Gradient LC_R: 1.478833 seconds\n",
      "save LC_R: 0.243120 seconds\n"
     ]
    },
    {
     "name": "stdout",
     "output_type": "stream",
     "text": [
      "LRt_L\n"
     ]
    },
    {
     "name": "stderr",
     "output_type": "stream",
     "text": [
      "Gradient LRt_L: 1.470816 seconds\n",
      "save LRt_L: 0.211433 seconds\n"
     ]
    },
    {
     "name": "stdout",
     "output_type": "stream",
     "text": [
      "LRt_R\n"
     ]
    },
    {
     "name": "stderr",
     "output_type": "stream",
     "text": [
      "Gradient LRt_R: 1.478698 seconds\n",
      "save LRt_R: 0.214335 seconds\n"
     ]
    },
    {
     "name": "stdout",
     "output_type": "stream",
     "text": [
      "Pn_L\n"
     ]
    },
    {
     "name": "stderr",
     "output_type": "stream",
     "text": [
      "Gradient Pn_L: 1.482059 seconds\n",
      "save Pn_L: 0.285560 seconds\n"
     ]
    },
    {
     "name": "stdout",
     "output_type": "stream",
     "text": [
      "Pn_R\n"
     ]
    },
    {
     "name": "stderr",
     "output_type": "stream",
     "text": [
      "Gradient Pn_R: 1.474655 seconds\n",
      "save Pn_R: 0.225858 seconds\n"
     ]
    },
    {
     "name": "stdout",
     "output_type": "stream",
     "text": [
      "Tz_L\n"
     ]
    },
    {
     "name": "stderr",
     "output_type": "stream",
     "text": [
      "Gradient Tz_L: 1.476656 seconds\n",
      "save Tz_L: 0.240992 seconds\n"
     ]
    },
    {
     "name": "stdout",
     "output_type": "stream",
     "text": [
      "Tz_R\n"
     ]
    },
    {
     "name": "stderr",
     "output_type": "stream",
     "text": [
      "Gradient Tz_R: 1.483184 seconds\n",
      "save Tz_R: 0.236328 seconds\n"
     ]
    },
    {
     "name": "stdout",
     "output_type": "stream",
     "text": [
      "VLL_L\n"
     ]
    },
    {
     "name": "stderr",
     "output_type": "stream",
     "text": [
      "Gradient VLL_L: 1.479960 seconds\n",
      "save VLL_L: 0.197900 seconds\n"
     ]
    },
    {
     "name": "stdout",
     "output_type": "stream",
     "text": [
      "VLL_R\n"
     ]
    },
    {
     "name": "stderr",
     "output_type": "stream",
     "text": [
      "Gradient VLL_R: 1.478606 seconds\n",
      "save VLL_R: 0.211025 seconds\n"
     ]
    },
    {
     "name": "stdout",
     "output_type": "stream",
     "text": [
      "RMC_L\n"
     ]
    },
    {
     "name": "stderr",
     "output_type": "stream",
     "text": [
      "Gradient RMC_L: 1.459489 seconds\n",
      "save RMC_L: 0.213826 seconds\n"
     ]
    },
    {
     "name": "stdout",
     "output_type": "stream",
     "text": [
      "RMC_R\n"
     ]
    },
    {
     "name": "stderr",
     "output_type": "stream",
     "text": [
      "Gradient RMC_R: 1.478240 seconds\n",
      "save RMC_R: 0.205770 seconds\n"
     ]
    },
    {
     "name": "stdout",
     "output_type": "stream",
     "text": [
      "SNC_L\n"
     ]
    },
    {
     "name": "stderr",
     "output_type": "stream",
     "text": [
      "Gradient SNC_L: 1.480723 seconds\n",
      "save SNC_L: 0.216989 seconds\n"
     ]
    },
    {
     "name": "stdout",
     "output_type": "stream",
     "text": [
      "SNC_R\n"
     ]
    },
    {
     "name": "stderr",
     "output_type": "stream",
     "text": [
      "Gradient SNC_R: 1.481900 seconds\n",
      "save SNC_R: 0.296762 seconds\n"
     ]
    },
    {
     "name": "stdout",
     "output_type": "stream",
     "text": [
      "SNR_L\n"
     ]
    },
    {
     "name": "stderr",
     "output_type": "stream",
     "text": [
      "Gradient SNR_L: 1.477280 seconds\n",
      "save SNR_L: 0.227450 seconds\n"
     ]
    },
    {
     "name": "stdout",
     "output_type": "stream",
     "text": [
      "SNR_R\n"
     ]
    },
    {
     "name": "stderr",
     "output_type": "stream",
     "text": [
      "Gradient SNR_R: 1.478720 seconds\n",
      "save SNR_R: 0.222239 seconds\n"
     ]
    },
    {
     "name": "stdout",
     "output_type": "stream",
     "text": [
      "3N_L\n"
     ]
    },
    {
     "name": "stderr",
     "output_type": "stream",
     "text": [
      "Gradient 3N_L: 1.460268 seconds\n",
      "save 3N_L: 0.197947 seconds\n"
     ]
    },
    {
     "name": "stdout",
     "output_type": "stream",
     "text": [
      "3N_R\n"
     ]
    },
    {
     "name": "stderr",
     "output_type": "stream",
     "text": [
      "Gradient 3N_R: 1.460801 seconds\n",
      "save 3N_R: 0.229539 seconds\n"
     ]
    },
    {
     "name": "stdout",
     "output_type": "stream",
     "text": [
      "4N_L\n"
     ]
    },
    {
     "name": "stderr",
     "output_type": "stream",
     "text": [
      "Gradient 4N_L: 1.475747 seconds\n",
      "save 4N_L: 0.227191 seconds\n"
     ]
    },
    {
     "name": "stdout",
     "output_type": "stream",
     "text": [
      "4N_R\n"
     ]
    },
    {
     "name": "stderr",
     "output_type": "stream",
     "text": [
      "Gradient 4N_R: 1.466519 seconds\n",
      "save 4N_R: 0.226048 seconds\n"
     ]
    },
    {
     "name": "stdout",
     "output_type": "stream",
     "text": [
      "Sp5I_L\n"
     ]
    },
    {
     "name": "stderr",
     "output_type": "stream",
     "text": [
      "Gradient Sp5I_L: 1.480773 seconds\n",
      "save Sp5I_L: 0.229211 seconds\n"
     ]
    },
    {
     "name": "stdout",
     "output_type": "stream",
     "text": [
      "Sp5I_R\n"
     ]
    },
    {
     "name": "stderr",
     "output_type": "stream",
     "text": [
      "Gradient Sp5I_R: 1.478142 seconds\n",
      "save Sp5I_R: 0.205047 seconds\n"
     ]
    },
    {
     "name": "stdout",
     "output_type": "stream",
     "text": [
      "Sp5O_L\n"
     ]
    },
    {
     "name": "stderr",
     "output_type": "stream",
     "text": [
      "Gradient Sp5O_L: 1.476928 seconds\n",
      "save Sp5O_L: 0.228770 seconds\n"
     ]
    },
    {
     "name": "stdout",
     "output_type": "stream",
     "text": [
      "Sp5O_R\n"
     ]
    },
    {
     "name": "stderr",
     "output_type": "stream",
     "text": [
      "Gradient Sp5O_R: 1.477042 seconds\n",
      "save Sp5O_R: 0.208205 seconds\n"
     ]
    },
    {
     "name": "stdout",
     "output_type": "stream",
     "text": [
      "Sp5C_L\n"
     ]
    },
    {
     "name": "stderr",
     "output_type": "stream",
     "text": [
      "Gradient Sp5C_L: 1.478494 seconds\n",
      "save Sp5C_L: 0.205650 seconds\n"
     ]
    },
    {
     "name": "stdout",
     "output_type": "stream",
     "text": [
      "Sp5C_R\n"
     ]
    },
    {
     "name": "stderr",
     "output_type": "stream",
     "text": [
      "Gradient Sp5C_R: 1.479669 seconds\n",
      "save Sp5C_R: 0.215094 seconds\n"
     ]
    },
    {
     "name": "stdout",
     "output_type": "stream",
     "text": [
      "PBG_L\n"
     ]
    },
    {
     "name": "stderr",
     "output_type": "stream",
     "text": [
      "Gradient PBG_L: 1.476278 seconds\n",
      "save PBG_L: 0.197755 seconds\n"
     ]
    },
    {
     "name": "stdout",
     "output_type": "stream",
     "text": [
      "PBG_R\n"
     ]
    },
    {
     "name": "stderr",
     "output_type": "stream",
     "text": [
      "Gradient PBG_R: 1.478119 seconds\n",
      "save PBG_R: 0.233363 seconds\n"
     ]
    },
    {
     "name": "stdout",
     "output_type": "stream",
     "text": [
      "10N_L\n"
     ]
    },
    {
     "name": "stderr",
     "output_type": "stream",
     "text": [
      "Gradient 10N_L: 1.479778 seconds\n",
      "save 10N_L: 0.257543 seconds\n"
     ]
    },
    {
     "name": "stdout",
     "output_type": "stream",
     "text": [
      "10N_R\n"
     ]
    },
    {
     "name": "stderr",
     "output_type": "stream",
     "text": [
      "Gradient 10N_R: 1.476386 seconds\n",
      "save 10N_R: 0.202369 seconds\n"
     ]
    },
    {
     "name": "stdout",
     "output_type": "stream",
     "text": [
      "VCA_L\n"
     ]
    },
    {
     "name": "stderr",
     "output_type": "stream",
     "text": [
      "Gradient VCA_L: 1.469900 seconds\n",
      "save VCA_L: 0.217840 seconds\n"
     ]
    },
    {
     "name": "stdout",
     "output_type": "stream",
     "text": [
      "VCA_R\n"
     ]
    },
    {
     "name": "stderr",
     "output_type": "stream",
     "text": [
      "Gradient VCA_R: 1.479803 seconds\n",
      "save VCA_R: 0.210135 seconds\n"
     ]
    },
    {
     "name": "stdout",
     "output_type": "stream",
     "text": [
      "VCP_L\n"
     ]
    },
    {
     "name": "stderr",
     "output_type": "stream",
     "text": [
      "Gradient VCP_L: 1.478432 seconds\n",
      "save VCP_L: 0.197983 seconds\n"
     ]
    },
    {
     "name": "stdout",
     "output_type": "stream",
     "text": [
      "VCP_R\n"
     ]
    },
    {
     "name": "stderr",
     "output_type": "stream",
     "text": [
      "Gradient VCP_R: 1.477542 seconds\n",
      "save VCP_R: 0.200771 seconds\n"
     ]
    },
    {
     "name": "stdout",
     "output_type": "stream",
     "text": [
      "DC_L\n"
     ]
    },
    {
     "name": "stderr",
     "output_type": "stream",
     "text": [
      "Gradient DC_L: 1.475799 seconds\n",
      "save DC_L: 0.191107 seconds\n"
     ]
    },
    {
     "name": "stdout",
     "output_type": "stream",
     "text": [
      "DC_R\n"
     ]
    },
    {
     "name": "stderr",
     "output_type": "stream",
     "text": [
      "Gradient DC_R: 1.480203 seconds\n",
      "save DC_R: 0.317485 seconds\n"
     ]
    },
    {
     "name": "stdout",
     "output_type": "stream",
     "text": [
      "AP\n"
     ]
    },
    {
     "name": "stderr",
     "output_type": "stream",
     "text": [
      "Gradient AP: 1.470761 seconds\n",
      "save AP: 0.212551 seconds\n"
     ]
    },
    {
     "name": "stdout",
     "output_type": "stream",
     "text": [
      "12N\n"
     ]
    },
    {
     "name": "stderr",
     "output_type": "stream",
     "text": [
      "Gradient 12N: 1.481239 seconds\n",
      "save 12N: 0.222212 seconds\n"
     ]
    },
    {
     "name": "stdout",
     "output_type": "stream",
     "text": [
      "RtTg\n"
     ]
    },
    {
     "name": "stderr",
     "output_type": "stream",
     "text": [
      "Gradient RtTg: 1.478077 seconds\n",
      "save RtTg: 0.216785 seconds\n",
      "File does not exist: /oasis/projects/nsf/csd395/yuncong/CSHL_volumes/MD594/MD594_down32_annotationAsScoreVolume/score_volumes/MD594_down32_annotationAsScoreVolume_sp5.bp\n",
      "[Errno 2] No such file or directory: '/oasis/projects/nsf/csd395/yuncong/CSHL_volumes/MD594/MD594_down32_annotationAsScoreVolume/score_volumes/MD594_down32_annotationAsScoreVolume_sp5.bp'\n",
      "Error computing gradient for sp5.\n",
      "File does not exist: /oasis/projects/nsf/csd395/yuncong/CSHL_volumes/MD594/MD594_down32_annotationAsScoreVolume/score_volumes/MD594_down32_annotationAsScoreVolume_outerContour.bp\n",
      "[Errno 2] No such file or directory: '/oasis/projects/nsf/csd395/yuncong/CSHL_volumes/MD594/MD594_down32_annotationAsScoreVolume/score_volumes/MD594_down32_annotationAsScoreVolume_outerContour.bp'\n",
      "Error computing gradient for outerContour.\n"
     ]
    },
    {
     "name": "stdout",
     "output_type": "stream",
     "text": [
      "sp5\n",
      "outerContour\n",
      "SC\n"
     ]
    },
    {
     "name": "stderr",
     "output_type": "stream",
     "text": [
      "Gradient SC: 1.474459 seconds\n",
      "save SC: 0.223324 seconds\n"
     ]
    },
    {
     "name": "stdout",
     "output_type": "stream",
     "text": [
      "IC\n"
     ]
    },
    {
     "name": "stderr",
     "output_type": "stream",
     "text": [
      "Gradient IC: 1.481006 seconds\n",
      "save IC: 0.234980 seconds\n"
     ]
    }
   ],
   "source": [
    "stack = 'MD594'\n",
    "downscale = 32\n",
    "\n",
    "for structure in all_known_structures_sided:\n",
    "    print structure\n",
    "    try:\n",
    "        volume = DataManager.load_score_volume(stack=stack, volume_type='annotation_as_score', \n",
    "                                               structure=structure, downscale=downscale)\n",
    "\n",
    "        t = time.time()\n",
    "\n",
    "        gy_gx_gz = np.gradient(volume.astype(np.float32), 3, 3, 3)\n",
    "        # 3.3 second - re-computing is much faster than loading\n",
    "        # .astype(np.float32) is important;\n",
    "        # Otherwise the score volume is type np.float16, np.gradient requires np.float32 and will have to convert which is very slow\n",
    "        # 2s (float32) vs. 20s (float16)\n",
    "\n",
    "        sys.stderr.write('Gradient %s: %f seconds\\n' % (structure, time.time() - t))\n",
    "\n",
    "        t = time.time()\n",
    "\n",
    "        gx_fp = DataManager.get_score_volume_gradient_filepath(stack=stack, structure=structure, downscale=downscale, volume_type='annotation_as_score', suffix='gx')\n",
    "        gy_fp = DataManager.get_score_volume_gradient_filepath(stack=stack, structure=structure, downscale=downscale, volume_type='annotation_as_score', suffix='gy')\n",
    "        gz_fp = DataManager.get_score_volume_gradient_filepath(stack=stack, structure=structure, downscale=downscale, volume_type='annotation_as_score', suffix='gz')\n",
    "\n",
    "        create_parent_dir_if_not_exists(gx_fp)\n",
    "\n",
    "        bp.pack_ndarray_file(gy_gx_gz[1], gx_fp)\n",
    "        bp.pack_ndarray_file(gy_gx_gz[0], gy_fp)\n",
    "        bp.pack_ndarray_file(gy_gx_gz[2], gz_fp)\n",
    "\n",
    "        del gy_gx_gz\n",
    "\n",
    "        sys.stderr.write('save %s: %f seconds\\n' % (structure, time.time() - t))\n",
    "\n",
    "    except Exception as e:\n",
    "        sys.stderr.write('%s\\n' % e)\n",
    "        sys.stderr.write('Error computing gradient for %s.\\n' % structure)"
   ]
  },
  {
   "cell_type": "markdown",
   "metadata": {},
   "source": [
    "# For classifier score volume"
   ]
  },
  {
   "cell_type": "code",
   "execution_count": 2,
   "metadata": {
    "collapsed": true
   },
   "outputs": [],
   "source": [
    "stack = 'MD657'\n",
    "classifier_setting = 30\n",
    "downscale = 32"
   ]
  },
  {
   "cell_type": "markdown",
   "metadata": {},
   "source": [
    "# All structures"
   ]
  },
  {
   "cell_type": "code",
   "execution_count": 5,
   "metadata": {
    "scrolled": true
   },
   "outputs": [
    {
     "name": "stderr",
     "output_type": "stream",
     "text": [
      "File does not exist: /shared/CSHL_data_processed/MD635/MD635_anchor.txt\n",
      "File does not exist: /shared/CSHL_data_processed/MD635/MD635_sorted_filenames.txt\n",
      "File does not exist: /shared/CSHL_data_processed/MD635/MD635_cropbox.txt\n",
      "File does not exist: /shared/CSHL_data_processed/MD635/MD635_cropbox.txt\n"
     ]
    },
    {
     "name": "stdout",
     "output_type": "stream",
     "text": [
      "5N\n"
     ]
    },
    {
     "name": "stderr",
     "output_type": "stream",
     "text": [
      "Gradient 5N: 24.655552 seconds\n",
      "save 5N: 0.074307 seconds\n"
     ]
    },
    {
     "name": "stdout",
     "output_type": "stream",
     "text": [
      "6N\n"
     ]
    },
    {
     "name": "stderr",
     "output_type": "stream",
     "text": [
      "Gradient 6N: 16.155491 seconds\n",
      "save 6N: 0.072583 seconds\n"
     ]
    },
    {
     "name": "stdout",
     "output_type": "stream",
     "text": [
      "7N\n"
     ]
    },
    {
     "name": "stderr",
     "output_type": "stream",
     "text": [
      "Gradient 7N: 15.829073 seconds\n",
      "save 7N: 0.072390 seconds\n"
     ]
    },
    {
     "name": "stdout",
     "output_type": "stream",
     "text": [
      "7n\n"
     ]
    },
    {
     "name": "stderr",
     "output_type": "stream",
     "text": [
      "Gradient 7n: 15.792059 seconds\n",
      "save 7n: 0.073104 seconds\n"
     ]
    },
    {
     "name": "stdout",
     "output_type": "stream",
     "text": [
      "Amb\n"
     ]
    },
    {
     "name": "stderr",
     "output_type": "stream",
     "text": [
      "Gradient Amb: 15.826242 seconds\n",
      "save Amb: 0.072607 seconds\n"
     ]
    },
    {
     "name": "stdout",
     "output_type": "stream",
     "text": [
      "LC\n"
     ]
    },
    {
     "name": "stderr",
     "output_type": "stream",
     "text": [
      "Gradient LC: 15.530725 seconds\n",
      "save LC: 0.071931 seconds\n"
     ]
    },
    {
     "name": "stdout",
     "output_type": "stream",
     "text": [
      "LRt\n"
     ]
    },
    {
     "name": "stderr",
     "output_type": "stream",
     "text": [
      "Gradient LRt: 15.544566 seconds\n",
      "save LRt: 0.072003 seconds\n"
     ]
    },
    {
     "name": "stdout",
     "output_type": "stream",
     "text": [
      "Pn\n"
     ]
    },
    {
     "name": "stderr",
     "output_type": "stream",
     "text": [
      "Gradient Pn: 15.526288 seconds\n",
      "save Pn: 0.071837 seconds\n"
     ]
    },
    {
     "name": "stdout",
     "output_type": "stream",
     "text": [
      "Tz\n"
     ]
    },
    {
     "ename": "KeyboardInterrupt",
     "evalue": "",
     "output_type": "error",
     "traceback": [
      "\u001b[0;31m---------------------------------------------------------------------------\u001b[0m",
      "\u001b[0;31mKeyboardInterrupt\u001b[0m                         Traceback (most recent call last)",
      "\u001b[0;32m<ipython-input-5-5dc7ea8386f6>\u001b[0m in \u001b[0;36m<module>\u001b[0;34m()\u001b[0m\n\u001b[1;32m      7\u001b[0m         \u001b[0mt\u001b[0m \u001b[0;34m=\u001b[0m \u001b[0mtime\u001b[0m\u001b[0;34m.\u001b[0m\u001b[0mtime\u001b[0m\u001b[0;34m(\u001b[0m\u001b[0;34m)\u001b[0m\u001b[0;34m\u001b[0m\u001b[0m\n\u001b[1;32m      8\u001b[0m \u001b[0;34m\u001b[0m\u001b[0m\n\u001b[0;32m----> 9\u001b[0;31m         \u001b[0mgy_gx_gz\u001b[0m \u001b[0;34m=\u001b[0m \u001b[0mnp\u001b[0m\u001b[0;34m.\u001b[0m\u001b[0mgradient\u001b[0m\u001b[0;34m(\u001b[0m\u001b[0mvolume\u001b[0m\u001b[0;34m.\u001b[0m\u001b[0mastype\u001b[0m\u001b[0;34m(\u001b[0m\u001b[0mnp\u001b[0m\u001b[0;34m.\u001b[0m\u001b[0mfloat32\u001b[0m\u001b[0;34m)\u001b[0m\u001b[0;34m,\u001b[0m \u001b[0;36m3\u001b[0m\u001b[0;34m,\u001b[0m \u001b[0;36m3\u001b[0m\u001b[0;34m,\u001b[0m \u001b[0;36m3\u001b[0m\u001b[0;34m)\u001b[0m\u001b[0;34m\u001b[0m\u001b[0m\n\u001b[0m\u001b[1;32m     10\u001b[0m         \u001b[0;31m# 3.3 second - re-computing is much faster than loading\u001b[0m\u001b[0;34m\u001b[0m\u001b[0;34m\u001b[0m\u001b[0m\n\u001b[1;32m     11\u001b[0m         \u001b[0;31m# .astype(np.float32) is important;\u001b[0m\u001b[0;34m\u001b[0m\u001b[0;34m\u001b[0m\u001b[0m\n",
      "\u001b[0;32m/usr/local/lib/python2.7/dist-packages/numpy/lib/function_base.pyc\u001b[0m in \u001b[0;36mgradient\u001b[0;34m(f, *varargs, **kwargs)\u001b[0m\n\u001b[1;32m   1652\u001b[0m             \u001b[0mslice3\u001b[0m\u001b[0;34m[\u001b[0m\u001b[0maxis\u001b[0m\u001b[0;34m]\u001b[0m \u001b[0;34m=\u001b[0m \u001b[0mslice\u001b[0m\u001b[0;34m(\u001b[0m\u001b[0mNone\u001b[0m\u001b[0;34m,\u001b[0m \u001b[0;34m-\u001b[0m\u001b[0;36m2\u001b[0m\u001b[0;34m)\u001b[0m\u001b[0;34m\u001b[0m\u001b[0m\n\u001b[1;32m   1653\u001b[0m             \u001b[0;31m# 1D equivalent -- out[1:-1] = (y[2:] - y[:-2])/2.0\u001b[0m\u001b[0;34m\u001b[0m\u001b[0;34m\u001b[0m\u001b[0m\n\u001b[0;32m-> 1654\u001b[0;31m             \u001b[0mout\u001b[0m\u001b[0;34m[\u001b[0m\u001b[0mslice1\u001b[0m\u001b[0;34m]\u001b[0m \u001b[0;34m=\u001b[0m \u001b[0;34m(\u001b[0m\u001b[0my\u001b[0m\u001b[0;34m[\u001b[0m\u001b[0mslice2\u001b[0m\u001b[0;34m]\u001b[0m \u001b[0;34m-\u001b[0m \u001b[0my\u001b[0m\u001b[0;34m[\u001b[0m\u001b[0mslice3\u001b[0m\u001b[0;34m]\u001b[0m\u001b[0;34m)\u001b[0m\u001b[0;34m/\u001b[0m\u001b[0;36m2.0\u001b[0m\u001b[0;34m\u001b[0m\u001b[0m\n\u001b[0m\u001b[1;32m   1655\u001b[0m \u001b[0;34m\u001b[0m\u001b[0m\n\u001b[1;32m   1656\u001b[0m             \u001b[0mslice1\u001b[0m\u001b[0;34m[\u001b[0m\u001b[0maxis\u001b[0m\u001b[0;34m]\u001b[0m \u001b[0;34m=\u001b[0m \u001b[0;36m0\u001b[0m\u001b[0;34m\u001b[0m\u001b[0m\n",
      "\u001b[0;31mKeyboardInterrupt\u001b[0m: "
     ]
    }
   ],
   "source": [
    "for structure in all_known_structures:\n",
    "    print structure\n",
    "    try:\n",
    "        volume = DataManager.load_original_volume(stack=stack, structure=structure, downscale=downscale,\n",
    "                                               classifier_setting=classifier_setting, volume_type='score')\n",
    "\n",
    "        t = time.time()\n",
    "\n",
    "        gy_gx_gz = np.gradient(volume.astype(np.float32), 3, 3, 3)\n",
    "        # 3.3 second - re-computing is much faster than loading\n",
    "        # .astype(np.float32) is important;\n",
    "        # Otherwise the score volume is type np.float16, np.gradient requires np.float32 and will have to convert which is very slow\n",
    "        # 2s (float32) vs. 20s (float16)\n",
    "\n",
    "        sys.stderr.write('Gradient %s: %f seconds\\n' % (structure, time.time() - t)) # 5s\n",
    "\n",
    "        t = time.time()\n",
    "\n",
    "        gx_fp = DataManager.get_volume_gradient_filepath(stack=stack, structure=structure, downscale=downscale, classifier_setting=classifier_setting, suffix='gx')\n",
    "        gy_fp = DataManager.get_volume_gradient_filepath(stack=stack, structure=structure, downscale=downscale, classifier_setting=classifier_setting, suffix='gy')\n",
    "        gz_fp = DataManager.get_volume_gradient_filepath(stack=stack, structure=structure, downscale=downscale, classifier_setting=classifier_setting, suffix='gz')\n",
    "\n",
    "#         create_if_not_exists(os.path.dirname(gx_fp))\n",
    "\n",
    "#         bp.pack_ndarray_file(gy_gx_gz[1], gx_fp)\n",
    "#         bp.pack_ndarray_file(gy_gx_gz[0], gy_fp)\n",
    "#         bp.pack_ndarray_file(gy_gx_gz[2], gz_fp)\n",
    "\n",
    "        del gy_gx_gz\n",
    "\n",
    "        sys.stderr.write('save %s: %f seconds\\n' % (structure, time.time() - t)) # 4-7s\n",
    "\n",
    "    except Exception as e:\n",
    "        sys.stderr.write('%s\\n' % e)\n",
    "        sys.stderr.write('Error computing gradient for %s.\\n' % structure)"
   ]
  },
  {
   "cell_type": "markdown",
   "metadata": {},
   "source": [
    "# Single structure"
   ]
  },
  {
   "cell_type": "code",
   "execution_count": 13,
   "metadata": {},
   "outputs": [
    {
     "name": "stderr",
     "output_type": "stream",
     "text": [
      "Gradient 7N: 2.818808 seconds\n",
      "save 7N: 0.000001 seconds\n"
     ]
    }
   ],
   "source": [
    "try:\n",
    "    volume = DataManager.load_score_volume(stack=stack, structure=structure, downscale=downscale,\n",
    "                                           classifier_setting=classifier_setting)\n",
    "\n",
    "    t = time.time()\n",
    "\n",
    "    gy_gx_gz = np.gradient(volume.astype(np.float32), 7, 7, )\n",
    "    # 3.3 second - re-computing is much faster than loading\n",
    "    # .astype(np.float32) is important;\n",
    "    # Otherwise the score volume is type np.float16, np.gradient requires np.float32 and will have to convert which is very slow\n",
    "    # 2s (float32) vs. 20s (float16)\n",
    "\n",
    "    sys.stderr.write('Gradient %s: %f seconds\\n' % (structure, time.time() - t))\n",
    "\n",
    "    t = time.time()\n",
    "\n",
    "#     gx_fp = DataManager.get_score_volume_gradient_filepath(stack=stack, structure=structure, downscale=downscale, classifier_setting=classifier_setting, suffix='gx')\n",
    "#     gy_fp = DataManager.get_score_volume_gradient_filepath(stack=stack, structure=structure, downscale=downscale, classifier_setting=classifier_setting, suffix='gy')\n",
    "#     gz_fp = DataManager.get_score_volume_gradient_filepath(stack=stack, structure=structure, downscale=downscale, classifier_setting=classifier_setting, suffix='gz')\n",
    "\n",
    "#     create_if_not_exists(os.path.dirname(gx_fp))\n",
    "\n",
    "#     bp.pack_ndarray_file(gy_gx_gz[1], gx_fp)\n",
    "#     bp.pack_ndarray_file(gy_gx_gz[0], gy_fp)\n",
    "#     bp.pack_ndarray_file(gy_gx_gz[2], gz_fp)\n",
    "\n",
    "#     del gy_gx_gz\n",
    "\n",
    "    sys.stderr.write('save %s: %f seconds\\n' % (structure, time.time() - t))\n",
    "\n",
    "except Exception as e:\n",
    "    sys.stderr.write('%s\\n' % e)\n",
    "    sys.stderr.write('Error computing gradient for %s.\\n' % structure)"
   ]
  },
  {
   "cell_type": "code",
   "execution_count": null,
   "metadata": {
    "collapsed": true,
    "scrolled": false
   },
   "outputs": [],
   "source": [
    "display_volume_sections(gy_gx_gz[0])"
   ]
  },
  {
   "cell_type": "code",
   "execution_count": null,
   "metadata": {
    "collapsed": true
   },
   "outputs": [],
   "source": []
  }
 ],
 "metadata": {
  "kernelspec": {
   "display_name": "Python 2",
   "language": "python",
   "name": "python2"
  },
  "language_info": {
   "codemirror_mode": {
    "name": "ipython",
    "version": 2
   },
   "file_extension": ".py",
   "mimetype": "text/x-python",
   "name": "python",
   "nbconvert_exporter": "python",
   "pygments_lexer": "ipython2",
   "version": "2.7.12"
  }
 },
 "nbformat": 4,
 "nbformat_minor": 1
}
