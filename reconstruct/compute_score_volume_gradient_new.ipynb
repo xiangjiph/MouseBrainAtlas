{
 "cells": [
  {
   "cell_type": "code",
   "execution_count": 18,
   "metadata": {},
   "outputs": [
    {
     "name": "stdout",
     "output_type": "stream",
     "text": [
      "The autoreload extension is already loaded. To reload it, use:\n",
      "  %reload_ext autoreload\n"
     ]
    },
    {
     "name": "stderr",
     "output_type": "stream",
     "text": [
      "[autoreload of utilities2015 failed: Traceback (most recent call last):\n",
      "  File \"/usr/local/lib/python2.7/dist-packages/IPython/extensions/autoreload.py\", line 247, in check\n",
      "    superreload(m, reload, self.old_objects)\n",
      "AttributeError: __abstractmethods__\n",
      "]\n"
     ]
    }
   ],
   "source": [
    "%load_ext autoreload\n",
    "%autoreload 2\n",
    "\n",
    "import sys\n",
    "import os\n",
    "import time\n",
    "\n",
    "from multiprocess import Pool\n",
    "import numpy as np\n",
    "\n",
    "sys.path.append(os.path.join(os.environ['REPO_DIR'], 'utilities'))\n",
    "from utilities2015 import *\n",
    "from metadata import *\n",
    "from data_manager import *\n",
    "from conversion import images_to_volume"
   ]
  },
  {
   "cell_type": "markdown",
   "metadata": {},
   "source": [
    "# All structures for annotation volume"
   ]
  },
  {
   "cell_type": "code",
   "execution_count": 20,
   "metadata": {
    "scrolled": true
   },
   "outputs": [
    {
     "name": "stdout",
     "output_type": "stream",
     "text": [
      "10N_L\n",
      "rm -rf \"/shared/CSHL_volumes/LM30/LM30_down32_annotationAsScoreVolume/score_volumes/LM30_down32_annotationAsScoreVolume_10N_L.bp\" && mkdir -p \"/shared/CSHL_volumes/LM30/LM30_down32_annotationAsScoreVolume/score_volumes\"\n",
      "aws s3 cp \"s3://mousebrainatlas-data/CSHL_volumes/LM30/LM30_down32_annotationAsScoreVolume/score_volumes/LM30_down32_annotationAsScoreVolume_10N_L.bp\" \"/shared/CSHL_volumes/LM30/LM30_down32_annotationAsScoreVolume/score_volumes/LM30_down32_annotationAsScoreVolume_10N_L.bp\"\n"
     ]
    },
    {
     "name": "stderr",
     "output_type": "stream",
     "text": [
      "File does not exist: /shared/CSHL_volumes/LM30/LM30_down32_annotationAsScoreVolume/score_volumes/LM30_down32_annotationAsScoreVolume_10N_L.bp\n",
      "Error computing gradient for 10N_L: [Errno 2] No such file or directory: '/shared/CSHL_volumes/LM30/LM30_down32_annotationAsScoreVolume/score_volumes/LM30_down32_annotationAsScoreVolume_10N_L.bp'.\n"
     ]
    },
    {
     "name": "stdout",
     "output_type": "stream",
     "text": [
      "10N_L_surround_200\n",
      "rm -rf \"/shared/CSHL_volumes/LM30/LM30_down32_annotationAsScoreVolume/score_volumes/LM30_down32_annotationAsScoreVolume_10N_L_surround_200.bp\" && mkdir -p \"/shared/CSHL_volumes/LM30/LM30_down32_annotationAsScoreVolume/score_volumes\"\n",
      "aws s3 cp \"s3://mousebrainatlas-data/CSHL_volumes/LM30/LM30_down32_annotationAsScoreVolume/score_volumes/LM30_down32_annotationAsScoreVolume_10N_L_surround_200.bp\" \"/shared/CSHL_volumes/LM30/LM30_down32_annotationAsScoreVolume/score_volumes/LM30_down32_annotationAsScoreVolume_10N_L_surround_200.bp\"\n"
     ]
    },
    {
     "name": "stderr",
     "output_type": "stream",
     "text": [
      "File does not exist: /shared/CSHL_volumes/LM30/LM30_down32_annotationAsScoreVolume/score_volumes/LM30_down32_annotationAsScoreVolume_10N_L_surround_200.bp\n",
      "Error computing gradient for 10N_L_surround_200: [Errno 2] No such file or directory: '/shared/CSHL_volumes/LM30/LM30_down32_annotationAsScoreVolume/score_volumes/LM30_down32_annotationAsScoreVolume_10N_L_surround_200.bp'.\n"
     ]
    },
    {
     "name": "stdout",
     "output_type": "stream",
     "text": [
      "10N_R\n",
      "rm -rf \"/shared/CSHL_volumes/LM30/LM30_down32_annotationAsScoreVolume/score_volumes/LM30_down32_annotationAsScoreVolume_10N_R.bp\" && mkdir -p \"/shared/CSHL_volumes/LM30/LM30_down32_annotationAsScoreVolume/score_volumes\"\n",
      "aws s3 cp \"s3://mousebrainatlas-data/CSHL_volumes/LM30/LM30_down32_annotationAsScoreVolume/score_volumes/LM30_down32_annotationAsScoreVolume_10N_R.bp\" \"/shared/CSHL_volumes/LM30/LM30_down32_annotationAsScoreVolume/score_volumes/LM30_down32_annotationAsScoreVolume_10N_R.bp\"\n"
     ]
    },
    {
     "name": "stderr",
     "output_type": "stream",
     "text": [
      "File does not exist: /shared/CSHL_volumes/LM30/LM30_down32_annotationAsScoreVolume/score_volumes/LM30_down32_annotationAsScoreVolume_10N_R.bp\n",
      "Error computing gradient for 10N_R: [Errno 2] No such file or directory: '/shared/CSHL_volumes/LM30/LM30_down32_annotationAsScoreVolume/score_volumes/LM30_down32_annotationAsScoreVolume_10N_R.bp'.\n"
     ]
    },
    {
     "name": "stdout",
     "output_type": "stream",
     "text": [
      "10N_R_surround_200\n",
      "rm -rf \"/shared/CSHL_volumes/LM30/LM30_down32_annotationAsScoreVolume/score_volumes/LM30_down32_annotationAsScoreVolume_10N_R_surround_200.bp\" && mkdir -p \"/shared/CSHL_volumes/LM30/LM30_down32_annotationAsScoreVolume/score_volumes\"\n",
      "aws s3 cp \"s3://mousebrainatlas-data/CSHL_volumes/LM30/LM30_down32_annotationAsScoreVolume/score_volumes/LM30_down32_annotationAsScoreVolume_10N_R_surround_200.bp\" \"/shared/CSHL_volumes/LM30/LM30_down32_annotationAsScoreVolume/score_volumes/LM30_down32_annotationAsScoreVolume_10N_R_surround_200.bp\"\n"
     ]
    },
    {
     "name": "stderr",
     "output_type": "stream",
     "text": [
      "File does not exist: /shared/CSHL_volumes/LM30/LM30_down32_annotationAsScoreVolume/score_volumes/LM30_down32_annotationAsScoreVolume_10N_R_surround_200.bp\n",
      "Error computing gradient for 10N_R_surround_200: [Errno 2] No such file or directory: '/shared/CSHL_volumes/LM30/LM30_down32_annotationAsScoreVolume/score_volumes/LM30_down32_annotationAsScoreVolume_10N_R_surround_200.bp'.\n"
     ]
    },
    {
     "name": "stdout",
     "output_type": "stream",
     "text": [
      "12N\n",
      "rm -rf \"/shared/CSHL_volumes/LM30/LM30_down32_annotationAsScoreVolume/score_volumes/LM30_down32_annotationAsScoreVolume_12N.bp\" && mkdir -p \"/shared/CSHL_volumes/LM30/LM30_down32_annotationAsScoreVolume/score_volumes\"\n",
      "aws s3 cp \"s3://mousebrainatlas-data/CSHL_volumes/LM30/LM30_down32_annotationAsScoreVolume/score_volumes/LM30_down32_annotationAsScoreVolume_12N.bp\" \"/shared/CSHL_volumes/LM30/LM30_down32_annotationAsScoreVolume/score_volumes/LM30_down32_annotationAsScoreVolume_12N.bp\"\n"
     ]
    },
    {
     "name": "stderr",
     "output_type": "stream",
     "text": [
      "File does not exist: /shared/CSHL_volumes/LM30/LM30_down32_annotationAsScoreVolume/score_volumes/LM30_down32_annotationAsScoreVolume_12N.bp\n",
      "Error computing gradient for 12N: [Errno 2] No such file or directory: '/shared/CSHL_volumes/LM30/LM30_down32_annotationAsScoreVolume/score_volumes/LM30_down32_annotationAsScoreVolume_12N.bp'.\n"
     ]
    },
    {
     "name": "stdout",
     "output_type": "stream",
     "text": [
      "12N_surround_200\n",
      "rm -rf \"/shared/CSHL_volumes/LM30/LM30_down32_annotationAsScoreVolume/score_volumes/LM30_down32_annotationAsScoreVolume_12N_surround_200.bp\" && mkdir -p \"/shared/CSHL_volumes/LM30/LM30_down32_annotationAsScoreVolume/score_volumes\"\n",
      "aws s3 cp \"s3://mousebrainatlas-data/CSHL_volumes/LM30/LM30_down32_annotationAsScoreVolume/score_volumes/LM30_down32_annotationAsScoreVolume_12N_surround_200.bp\" \"/shared/CSHL_volumes/LM30/LM30_down32_annotationAsScoreVolume/score_volumes/LM30_down32_annotationAsScoreVolume_12N_surround_200.bp\"\n"
     ]
    },
    {
     "name": "stderr",
     "output_type": "stream",
     "text": [
      "File does not exist: /shared/CSHL_volumes/LM30/LM30_down32_annotationAsScoreVolume/score_volumes/LM30_down32_annotationAsScoreVolume_12N_surround_200.bp\n",
      "Error computing gradient for 12N_surround_200: [Errno 2] No such file or directory: '/shared/CSHL_volumes/LM30/LM30_down32_annotationAsScoreVolume/score_volumes/LM30_down32_annotationAsScoreVolume_12N_surround_200.bp'.\n",
      "Gradient 3N_L: 0.050600 seconds\n"
     ]
    },
    {
     "name": "stdout",
     "output_type": "stream",
     "text": [
      "3N_L\n",
      "aws s3 cp \"/shared/CSHL_volumes/LM30/LM30_down32_annotationAsScoreVolume/score_volume_gradients/LM30_down32_annotationAsScoreVolume_3N_L_gx.bp\" \"s3://mousebrainatlas-data/CSHL_volumes/LM30/LM30_down32_annotationAsScoreVolume/score_volume_gradients/LM30_down32_annotationAsScoreVolume_3N_L_gx.bp\"\n",
      "aws s3 cp \"/shared/CSHL_volumes/LM30/LM30_down32_annotationAsScoreVolume/score_volume_gradients/LM30_down32_annotationAsScoreVolume_3N_L_gy.bp\" \"s3://mousebrainatlas-data/CSHL_volumes/LM30/LM30_down32_annotationAsScoreVolume/score_volume_gradients/LM30_down32_annotationAsScoreVolume_3N_L_gy.bp\"\n",
      "aws s3 cp \"/shared/CSHL_volumes/LM30/LM30_down32_annotationAsScoreVolume/score_volume_gradients/LM30_down32_annotationAsScoreVolume_3N_L_gz.bp\" \"s3://mousebrainatlas-data/CSHL_volumes/LM30/LM30_down32_annotationAsScoreVolume/score_volume_gradients/LM30_down32_annotationAsScoreVolume_3N_L_gz.bp\"\n"
     ]
    },
    {
     "name": "stderr",
     "output_type": "stream",
     "text": [
      "save 3N_L: 1.265610 seconds\n",
      "Gradient 3N_L_surround_200: 0.048191 seconds\n"
     ]
    },
    {
     "name": "stdout",
     "output_type": "stream",
     "text": [
      "3N_L_surround_200\n",
      "aws s3 cp \"/shared/CSHL_volumes/LM30/LM30_down32_annotationAsScoreVolume/score_volume_gradients/LM30_down32_annotationAsScoreVolume_3N_L_surround_200_gx.bp\" \"s3://mousebrainatlas-data/CSHL_volumes/LM30/LM30_down32_annotationAsScoreVolume/score_volume_gradients/LM30_down32_annotationAsScoreVolume_3N_L_surround_200_gx.bp\"\n",
      "aws s3 cp \"/shared/CSHL_volumes/LM30/LM30_down32_annotationAsScoreVolume/score_volume_gradients/LM30_down32_annotationAsScoreVolume_3N_L_surround_200_gy.bp\" \"s3://mousebrainatlas-data/CSHL_volumes/LM30/LM30_down32_annotationAsScoreVolume/score_volume_gradients/LM30_down32_annotationAsScoreVolume_3N_L_surround_200_gy.bp\"\n",
      "aws s3 cp \"/shared/CSHL_volumes/LM30/LM30_down32_annotationAsScoreVolume/score_volume_gradients/LM30_down32_annotationAsScoreVolume_3N_L_surround_200_gz.bp\" \"s3://mousebrainatlas-data/CSHL_volumes/LM30/LM30_down32_annotationAsScoreVolume/score_volume_gradients/LM30_down32_annotationAsScoreVolume_3N_L_surround_200_gz.bp\"\n"
     ]
    },
    {
     "name": "stderr",
     "output_type": "stream",
     "text": [
      "save 3N_L_surround_200: 1.620708 seconds\n"
     ]
    },
    {
     "name": "stdout",
     "output_type": "stream",
     "text": [
      "3N_R\n",
      "rm -rf \"/shared/CSHL_volumes/LM30/LM30_down32_annotationAsScoreVolume/score_volumes/LM30_down32_annotationAsScoreVolume_3N_R.bp\" && mkdir -p \"/shared/CSHL_volumes/LM30/LM30_down32_annotationAsScoreVolume/score_volumes\"\n",
      "aws s3 cp \"s3://mousebrainatlas-data/CSHL_volumes/LM30/LM30_down32_annotationAsScoreVolume/score_volumes/LM30_down32_annotationAsScoreVolume_3N_R.bp\" \"/shared/CSHL_volumes/LM30/LM30_down32_annotationAsScoreVolume/score_volumes/LM30_down32_annotationAsScoreVolume_3N_R.bp\"\n"
     ]
    },
    {
     "name": "stderr",
     "output_type": "stream",
     "text": [
      "File does not exist: /shared/CSHL_volumes/LM30/LM30_down32_annotationAsScoreVolume/score_volumes/LM30_down32_annotationAsScoreVolume_3N_R.bp\n",
      "Error computing gradient for 3N_R: [Errno 2] No such file or directory: '/shared/CSHL_volumes/LM30/LM30_down32_annotationAsScoreVolume/score_volumes/LM30_down32_annotationAsScoreVolume_3N_R.bp'.\n"
     ]
    },
    {
     "name": "stdout",
     "output_type": "stream",
     "text": [
      "3N_R_surround_200\n",
      "rm -rf \"/shared/CSHL_volumes/LM30/LM30_down32_annotationAsScoreVolume/score_volumes/LM30_down32_annotationAsScoreVolume_3N_R_surround_200.bp\" && mkdir -p \"/shared/CSHL_volumes/LM30/LM30_down32_annotationAsScoreVolume/score_volumes\"\n",
      "aws s3 cp \"s3://mousebrainatlas-data/CSHL_volumes/LM30/LM30_down32_annotationAsScoreVolume/score_volumes/LM30_down32_annotationAsScoreVolume_3N_R_surround_200.bp\" \"/shared/CSHL_volumes/LM30/LM30_down32_annotationAsScoreVolume/score_volumes/LM30_down32_annotationAsScoreVolume_3N_R_surround_200.bp\"\n"
     ]
    },
    {
     "name": "stderr",
     "output_type": "stream",
     "text": [
      "File does not exist: /shared/CSHL_volumes/LM30/LM30_down32_annotationAsScoreVolume/score_volumes/LM30_down32_annotationAsScoreVolume_3N_R_surround_200.bp\n",
      "Error computing gradient for 3N_R_surround_200: [Errno 2] No such file or directory: '/shared/CSHL_volumes/LM30/LM30_down32_annotationAsScoreVolume/score_volumes/LM30_down32_annotationAsScoreVolume_3N_R_surround_200.bp'.\n"
     ]
    },
    {
     "name": "stdout",
     "output_type": "stream",
     "text": [
      "4N_L\n",
      "rm -rf \"/shared/CSHL_volumes/LM30/LM30_down32_annotationAsScoreVolume/score_volumes/LM30_down32_annotationAsScoreVolume_4N_L.bp\" && mkdir -p \"/shared/CSHL_volumes/LM30/LM30_down32_annotationAsScoreVolume/score_volumes\"\n",
      "aws s3 cp \"s3://mousebrainatlas-data/CSHL_volumes/LM30/LM30_down32_annotationAsScoreVolume/score_volumes/LM30_down32_annotationAsScoreVolume_4N_L.bp\" \"/shared/CSHL_volumes/LM30/LM30_down32_annotationAsScoreVolume/score_volumes/LM30_down32_annotationAsScoreVolume_4N_L.bp\"\n"
     ]
    },
    {
     "name": "stderr",
     "output_type": "stream",
     "text": [
      "File does not exist: /shared/CSHL_volumes/LM30/LM30_down32_annotationAsScoreVolume/score_volumes/LM30_down32_annotationAsScoreVolume_4N_L.bp\n",
      "Error computing gradient for 4N_L: [Errno 2] No such file or directory: '/shared/CSHL_volumes/LM30/LM30_down32_annotationAsScoreVolume/score_volumes/LM30_down32_annotationAsScoreVolume_4N_L.bp'.\n"
     ]
    },
    {
     "name": "stdout",
     "output_type": "stream",
     "text": [
      "4N_L_surround_200\n",
      "rm -rf \"/shared/CSHL_volumes/LM30/LM30_down32_annotationAsScoreVolume/score_volumes/LM30_down32_annotationAsScoreVolume_4N_L_surround_200.bp\" && mkdir -p \"/shared/CSHL_volumes/LM30/LM30_down32_annotationAsScoreVolume/score_volumes\"\n",
      "aws s3 cp \"s3://mousebrainatlas-data/CSHL_volumes/LM30/LM30_down32_annotationAsScoreVolume/score_volumes/LM30_down32_annotationAsScoreVolume_4N_L_surround_200.bp\" \"/shared/CSHL_volumes/LM30/LM30_down32_annotationAsScoreVolume/score_volumes/LM30_down32_annotationAsScoreVolume_4N_L_surround_200.bp\"\n"
     ]
    },
    {
     "name": "stderr",
     "output_type": "stream",
     "text": [
      "File does not exist: /shared/CSHL_volumes/LM30/LM30_down32_annotationAsScoreVolume/score_volumes/LM30_down32_annotationAsScoreVolume_4N_L_surround_200.bp\n",
      "Error computing gradient for 4N_L_surround_200: [Errno 2] No such file or directory: '/shared/CSHL_volumes/LM30/LM30_down32_annotationAsScoreVolume/score_volumes/LM30_down32_annotationAsScoreVolume_4N_L_surround_200.bp'.\n"
     ]
    },
    {
     "name": "stdout",
     "output_type": "stream",
     "text": [
      "4N_R\n",
      "rm -rf \"/shared/CSHL_volumes/LM30/LM30_down32_annotationAsScoreVolume/score_volumes/LM30_down32_annotationAsScoreVolume_4N_R.bp\" && mkdir -p \"/shared/CSHL_volumes/LM30/LM30_down32_annotationAsScoreVolume/score_volumes\"\n",
      "aws s3 cp \"s3://mousebrainatlas-data/CSHL_volumes/LM30/LM30_down32_annotationAsScoreVolume/score_volumes/LM30_down32_annotationAsScoreVolume_4N_R.bp\" \"/shared/CSHL_volumes/LM30/LM30_down32_annotationAsScoreVolume/score_volumes/LM30_down32_annotationAsScoreVolume_4N_R.bp\"\n"
     ]
    },
    {
     "name": "stderr",
     "output_type": "stream",
     "text": [
      "File does not exist: /shared/CSHL_volumes/LM30/LM30_down32_annotationAsScoreVolume/score_volumes/LM30_down32_annotationAsScoreVolume_4N_R.bp\n",
      "Error computing gradient for 4N_R: [Errno 2] No such file or directory: '/shared/CSHL_volumes/LM30/LM30_down32_annotationAsScoreVolume/score_volumes/LM30_down32_annotationAsScoreVolume_4N_R.bp'.\n"
     ]
    },
    {
     "name": "stdout",
     "output_type": "stream",
     "text": [
      "4N_R_surround_200\n",
      "rm -rf \"/shared/CSHL_volumes/LM30/LM30_down32_annotationAsScoreVolume/score_volumes/LM30_down32_annotationAsScoreVolume_4N_R_surround_200.bp\" && mkdir -p \"/shared/CSHL_volumes/LM30/LM30_down32_annotationAsScoreVolume/score_volumes\"\n",
      "aws s3 cp \"s3://mousebrainatlas-data/CSHL_volumes/LM30/LM30_down32_annotationAsScoreVolume/score_volumes/LM30_down32_annotationAsScoreVolume_4N_R_surround_200.bp\" \"/shared/CSHL_volumes/LM30/LM30_down32_annotationAsScoreVolume/score_volumes/LM30_down32_annotationAsScoreVolume_4N_R_surround_200.bp\"\n"
     ]
    },
    {
     "name": "stderr",
     "output_type": "stream",
     "text": [
      "File does not exist: /shared/CSHL_volumes/LM30/LM30_down32_annotationAsScoreVolume/score_volumes/LM30_down32_annotationAsScoreVolume_4N_R_surround_200.bp\n",
      "Error computing gradient for 4N_R_surround_200: [Errno 2] No such file or directory: '/shared/CSHL_volumes/LM30/LM30_down32_annotationAsScoreVolume/score_volumes/LM30_down32_annotationAsScoreVolume_4N_R_surround_200.bp'.\n"
     ]
    },
    {
     "name": "stdout",
     "output_type": "stream",
     "text": [
      "5N_L\n",
      "rm -rf \"/shared/CSHL_volumes/LM30/LM30_down32_annotationAsScoreVolume/score_volumes/LM30_down32_annotationAsScoreVolume_5N_L.bp\" && mkdir -p \"/shared/CSHL_volumes/LM30/LM30_down32_annotationAsScoreVolume/score_volumes\"\n",
      "aws s3 cp \"s3://mousebrainatlas-data/CSHL_volumes/LM30/LM30_down32_annotationAsScoreVolume/score_volumes/LM30_down32_annotationAsScoreVolume_5N_L.bp\" \"/shared/CSHL_volumes/LM30/LM30_down32_annotationAsScoreVolume/score_volumes/LM30_down32_annotationAsScoreVolume_5N_L.bp\"\n"
     ]
    },
    {
     "name": "stderr",
     "output_type": "stream",
     "text": [
      "File does not exist: /shared/CSHL_volumes/LM30/LM30_down32_annotationAsScoreVolume/score_volumes/LM30_down32_annotationAsScoreVolume_5N_L.bp\n",
      "Error computing gradient for 5N_L: [Errno 2] No such file or directory: '/shared/CSHL_volumes/LM30/LM30_down32_annotationAsScoreVolume/score_volumes/LM30_down32_annotationAsScoreVolume_5N_L.bp'.\n"
     ]
    },
    {
     "name": "stdout",
     "output_type": "stream",
     "text": [
      "5N_L_surround_200\n",
      "rm -rf \"/shared/CSHL_volumes/LM30/LM30_down32_annotationAsScoreVolume/score_volumes/LM30_down32_annotationAsScoreVolume_5N_L_surround_200.bp\" && mkdir -p \"/shared/CSHL_volumes/LM30/LM30_down32_annotationAsScoreVolume/score_volumes\"\n",
      "aws s3 cp \"s3://mousebrainatlas-data/CSHL_volumes/LM30/LM30_down32_annotationAsScoreVolume/score_volumes/LM30_down32_annotationAsScoreVolume_5N_L_surround_200.bp\" \"/shared/CSHL_volumes/LM30/LM30_down32_annotationAsScoreVolume/score_volumes/LM30_down32_annotationAsScoreVolume_5N_L_surround_200.bp\"\n"
     ]
    },
    {
     "name": "stderr",
     "output_type": "stream",
     "text": [
      "File does not exist: /shared/CSHL_volumes/LM30/LM30_down32_annotationAsScoreVolume/score_volumes/LM30_down32_annotationAsScoreVolume_5N_L_surround_200.bp\n",
      "Error computing gradient for 5N_L_surround_200: [Errno 2] No such file or directory: '/shared/CSHL_volumes/LM30/LM30_down32_annotationAsScoreVolume/score_volumes/LM30_down32_annotationAsScoreVolume_5N_L_surround_200.bp'.\n"
     ]
    },
    {
     "name": "stdout",
     "output_type": "stream",
     "text": [
      "5N_R\n",
      "rm -rf \"/shared/CSHL_volumes/LM30/LM30_down32_annotationAsScoreVolume/score_volumes/LM30_down32_annotationAsScoreVolume_5N_R.bp\" && mkdir -p \"/shared/CSHL_volumes/LM30/LM30_down32_annotationAsScoreVolume/score_volumes\"\n",
      "aws s3 cp \"s3://mousebrainatlas-data/CSHL_volumes/LM30/LM30_down32_annotationAsScoreVolume/score_volumes/LM30_down32_annotationAsScoreVolume_5N_R.bp\" \"/shared/CSHL_volumes/LM30/LM30_down32_annotationAsScoreVolume/score_volumes/LM30_down32_annotationAsScoreVolume_5N_R.bp\"\n"
     ]
    },
    {
     "name": "stderr",
     "output_type": "stream",
     "text": [
      "File does not exist: /shared/CSHL_volumes/LM30/LM30_down32_annotationAsScoreVolume/score_volumes/LM30_down32_annotationAsScoreVolume_5N_R.bp\n",
      "Error computing gradient for 5N_R: [Errno 2] No such file or directory: '/shared/CSHL_volumes/LM30/LM30_down32_annotationAsScoreVolume/score_volumes/LM30_down32_annotationAsScoreVolume_5N_R.bp'.\n"
     ]
    },
    {
     "name": "stdout",
     "output_type": "stream",
     "text": [
      "5N_R_surround_200\n",
      "rm -rf \"/shared/CSHL_volumes/LM30/LM30_down32_annotationAsScoreVolume/score_volumes/LM30_down32_annotationAsScoreVolume_5N_R_surround_200.bp\" && mkdir -p \"/shared/CSHL_volumes/LM30/LM30_down32_annotationAsScoreVolume/score_volumes\"\n",
      "aws s3 cp \"s3://mousebrainatlas-data/CSHL_volumes/LM30/LM30_down32_annotationAsScoreVolume/score_volumes/LM30_down32_annotationAsScoreVolume_5N_R_surround_200.bp\" \"/shared/CSHL_volumes/LM30/LM30_down32_annotationAsScoreVolume/score_volumes/LM30_down32_annotationAsScoreVolume_5N_R_surround_200.bp\"\n"
     ]
    },
    {
     "name": "stderr",
     "output_type": "stream",
     "text": [
      "File does not exist: /shared/CSHL_volumes/LM30/LM30_down32_annotationAsScoreVolume/score_volumes/LM30_down32_annotationAsScoreVolume_5N_R_surround_200.bp\n",
      "Error computing gradient for 5N_R_surround_200: [Errno 2] No such file or directory: '/shared/CSHL_volumes/LM30/LM30_down32_annotationAsScoreVolume/score_volumes/LM30_down32_annotationAsScoreVolume_5N_R_surround_200.bp'.\n"
     ]
    },
    {
     "name": "stdout",
     "output_type": "stream",
     "text": [
      "6N_L\n",
      "rm -rf \"/shared/CSHL_volumes/LM30/LM30_down32_annotationAsScoreVolume/score_volumes/LM30_down32_annotationAsScoreVolume_6N_L.bp\" && mkdir -p \"/shared/CSHL_volumes/LM30/LM30_down32_annotationAsScoreVolume/score_volumes\"\n",
      "aws s3 cp \"s3://mousebrainatlas-data/CSHL_volumes/LM30/LM30_down32_annotationAsScoreVolume/score_volumes/LM30_down32_annotationAsScoreVolume_6N_L.bp\" \"/shared/CSHL_volumes/LM30/LM30_down32_annotationAsScoreVolume/score_volumes/LM30_down32_annotationAsScoreVolume_6N_L.bp\"\n"
     ]
    },
    {
     "name": "stderr",
     "output_type": "stream",
     "text": [
      "File does not exist: /shared/CSHL_volumes/LM30/LM30_down32_annotationAsScoreVolume/score_volumes/LM30_down32_annotationAsScoreVolume_6N_L.bp\n",
      "Error computing gradient for 6N_L: [Errno 2] No such file or directory: '/shared/CSHL_volumes/LM30/LM30_down32_annotationAsScoreVolume/score_volumes/LM30_down32_annotationAsScoreVolume_6N_L.bp'.\n"
     ]
    },
    {
     "name": "stdout",
     "output_type": "stream",
     "text": [
      "6N_L_surround_200\n",
      "rm -rf \"/shared/CSHL_volumes/LM30/LM30_down32_annotationAsScoreVolume/score_volumes/LM30_down32_annotationAsScoreVolume_6N_L_surround_200.bp\" && mkdir -p \"/shared/CSHL_volumes/LM30/LM30_down32_annotationAsScoreVolume/score_volumes\"\n",
      "aws s3 cp \"s3://mousebrainatlas-data/CSHL_volumes/LM30/LM30_down32_annotationAsScoreVolume/score_volumes/LM30_down32_annotationAsScoreVolume_6N_L_surround_200.bp\" \"/shared/CSHL_volumes/LM30/LM30_down32_annotationAsScoreVolume/score_volumes/LM30_down32_annotationAsScoreVolume_6N_L_surround_200.bp\"\n"
     ]
    },
    {
     "name": "stderr",
     "output_type": "stream",
     "text": [
      "File does not exist: /shared/CSHL_volumes/LM30/LM30_down32_annotationAsScoreVolume/score_volumes/LM30_down32_annotationAsScoreVolume_6N_L_surround_200.bp\n",
      "Error computing gradient for 6N_L_surround_200: [Errno 2] No such file or directory: '/shared/CSHL_volumes/LM30/LM30_down32_annotationAsScoreVolume/score_volumes/LM30_down32_annotationAsScoreVolume_6N_L_surround_200.bp'.\n"
     ]
    },
    {
     "name": "stdout",
     "output_type": "stream",
     "text": [
      "6N_R\n",
      "rm -rf \"/shared/CSHL_volumes/LM30/LM30_down32_annotationAsScoreVolume/score_volumes/LM30_down32_annotationAsScoreVolume_6N_R.bp\" && mkdir -p \"/shared/CSHL_volumes/LM30/LM30_down32_annotationAsScoreVolume/score_volumes\"\n",
      "aws s3 cp \"s3://mousebrainatlas-data/CSHL_volumes/LM30/LM30_down32_annotationAsScoreVolume/score_volumes/LM30_down32_annotationAsScoreVolume_6N_R.bp\" \"/shared/CSHL_volumes/LM30/LM30_down32_annotationAsScoreVolume/score_volumes/LM30_down32_annotationAsScoreVolume_6N_R.bp\"\n"
     ]
    },
    {
     "name": "stderr",
     "output_type": "stream",
     "text": [
      "File does not exist: /shared/CSHL_volumes/LM30/LM30_down32_annotationAsScoreVolume/score_volumes/LM30_down32_annotationAsScoreVolume_6N_R.bp\n",
      "Error computing gradient for 6N_R: [Errno 2] No such file or directory: '/shared/CSHL_volumes/LM30/LM30_down32_annotationAsScoreVolume/score_volumes/LM30_down32_annotationAsScoreVolume_6N_R.bp'.\n"
     ]
    },
    {
     "name": "stdout",
     "output_type": "stream",
     "text": [
      "6N_R_surround_200\n",
      "rm -rf \"/shared/CSHL_volumes/LM30/LM30_down32_annotationAsScoreVolume/score_volumes/LM30_down32_annotationAsScoreVolume_6N_R_surround_200.bp\" && mkdir -p \"/shared/CSHL_volumes/LM30/LM30_down32_annotationAsScoreVolume/score_volumes\"\n",
      "aws s3 cp \"s3://mousebrainatlas-data/CSHL_volumes/LM30/LM30_down32_annotationAsScoreVolume/score_volumes/LM30_down32_annotationAsScoreVolume_6N_R_surround_200.bp\" \"/shared/CSHL_volumes/LM30/LM30_down32_annotationAsScoreVolume/score_volumes/LM30_down32_annotationAsScoreVolume_6N_R_surround_200.bp\"\n"
     ]
    },
    {
     "name": "stderr",
     "output_type": "stream",
     "text": [
      "File does not exist: /shared/CSHL_volumes/LM30/LM30_down32_annotationAsScoreVolume/score_volumes/LM30_down32_annotationAsScoreVolume_6N_R_surround_200.bp\n",
      "Error computing gradient for 6N_R_surround_200: [Errno 2] No such file or directory: '/shared/CSHL_volumes/LM30/LM30_down32_annotationAsScoreVolume/score_volumes/LM30_down32_annotationAsScoreVolume_6N_R_surround_200.bp'.\n"
     ]
    },
    {
     "name": "stdout",
     "output_type": "stream",
     "text": [
      "7N_L\n",
      "rm -rf \"/shared/CSHL_volumes/LM30/LM30_down32_annotationAsScoreVolume/score_volumes/LM30_down32_annotationAsScoreVolume_7N_L.bp\" && mkdir -p \"/shared/CSHL_volumes/LM30/LM30_down32_annotationAsScoreVolume/score_volumes\"\n",
      "aws s3 cp \"s3://mousebrainatlas-data/CSHL_volumes/LM30/LM30_down32_annotationAsScoreVolume/score_volumes/LM30_down32_annotationAsScoreVolume_7N_L.bp\" \"/shared/CSHL_volumes/LM30/LM30_down32_annotationAsScoreVolume/score_volumes/LM30_down32_annotationAsScoreVolume_7N_L.bp\"\n"
     ]
    },
    {
     "name": "stderr",
     "output_type": "stream",
     "text": [
      "File does not exist: /shared/CSHL_volumes/LM30/LM30_down32_annotationAsScoreVolume/score_volumes/LM30_down32_annotationAsScoreVolume_7N_L.bp\n",
      "Error computing gradient for 7N_L: [Errno 2] No such file or directory: '/shared/CSHL_volumes/LM30/LM30_down32_annotationAsScoreVolume/score_volumes/LM30_down32_annotationAsScoreVolume_7N_L.bp'.\n"
     ]
    },
    {
     "name": "stdout",
     "output_type": "stream",
     "text": [
      "7N_L_surround_200\n",
      "rm -rf \"/shared/CSHL_volumes/LM30/LM30_down32_annotationAsScoreVolume/score_volumes/LM30_down32_annotationAsScoreVolume_7N_L_surround_200.bp\" && mkdir -p \"/shared/CSHL_volumes/LM30/LM30_down32_annotationAsScoreVolume/score_volumes\"\n",
      "aws s3 cp \"s3://mousebrainatlas-data/CSHL_volumes/LM30/LM30_down32_annotationAsScoreVolume/score_volumes/LM30_down32_annotationAsScoreVolume_7N_L_surround_200.bp\" \"/shared/CSHL_volumes/LM30/LM30_down32_annotationAsScoreVolume/score_volumes/LM30_down32_annotationAsScoreVolume_7N_L_surround_200.bp\"\n"
     ]
    },
    {
     "name": "stderr",
     "output_type": "stream",
     "text": [
      "File does not exist: /shared/CSHL_volumes/LM30/LM30_down32_annotationAsScoreVolume/score_volumes/LM30_down32_annotationAsScoreVolume_7N_L_surround_200.bp\n",
      "Error computing gradient for 7N_L_surround_200: [Errno 2] No such file or directory: '/shared/CSHL_volumes/LM30/LM30_down32_annotationAsScoreVolume/score_volumes/LM30_down32_annotationAsScoreVolume_7N_L_surround_200.bp'.\n"
     ]
    },
    {
     "name": "stdout",
     "output_type": "stream",
     "text": [
      "7N_R\n",
      "rm -rf \"/shared/CSHL_volumes/LM30/LM30_down32_annotationAsScoreVolume/score_volumes/LM30_down32_annotationAsScoreVolume_7N_R.bp\" && mkdir -p \"/shared/CSHL_volumes/LM30/LM30_down32_annotationAsScoreVolume/score_volumes\"\n",
      "aws s3 cp \"s3://mousebrainatlas-data/CSHL_volumes/LM30/LM30_down32_annotationAsScoreVolume/score_volumes/LM30_down32_annotationAsScoreVolume_7N_R.bp\" \"/shared/CSHL_volumes/LM30/LM30_down32_annotationAsScoreVolume/score_volumes/LM30_down32_annotationAsScoreVolume_7N_R.bp\"\n"
     ]
    },
    {
     "name": "stderr",
     "output_type": "stream",
     "text": [
      "File does not exist: /shared/CSHL_volumes/LM30/LM30_down32_annotationAsScoreVolume/score_volumes/LM30_down32_annotationAsScoreVolume_7N_R.bp\n",
      "Error computing gradient for 7N_R: [Errno 2] No such file or directory: '/shared/CSHL_volumes/LM30/LM30_down32_annotationAsScoreVolume/score_volumes/LM30_down32_annotationAsScoreVolume_7N_R.bp'.\n"
     ]
    },
    {
     "name": "stdout",
     "output_type": "stream",
     "text": [
      "7N_R_surround_200\n",
      "rm -rf \"/shared/CSHL_volumes/LM30/LM30_down32_annotationAsScoreVolume/score_volumes/LM30_down32_annotationAsScoreVolume_7N_R_surround_200.bp\" && mkdir -p \"/shared/CSHL_volumes/LM30/LM30_down32_annotationAsScoreVolume/score_volumes\"\n",
      "aws s3 cp \"s3://mousebrainatlas-data/CSHL_volumes/LM30/LM30_down32_annotationAsScoreVolume/score_volumes/LM30_down32_annotationAsScoreVolume_7N_R_surround_200.bp\" \"/shared/CSHL_volumes/LM30/LM30_down32_annotationAsScoreVolume/score_volumes/LM30_down32_annotationAsScoreVolume_7N_R_surround_200.bp\"\n"
     ]
    },
    {
     "name": "stderr",
     "output_type": "stream",
     "text": [
      "File does not exist: /shared/CSHL_volumes/LM30/LM30_down32_annotationAsScoreVolume/score_volumes/LM30_down32_annotationAsScoreVolume_7N_R_surround_200.bp\n",
      "Error computing gradient for 7N_R_surround_200: [Errno 2] No such file or directory: '/shared/CSHL_volumes/LM30/LM30_down32_annotationAsScoreVolume/score_volumes/LM30_down32_annotationAsScoreVolume_7N_R_surround_200.bp'.\n"
     ]
    },
    {
     "name": "stdout",
     "output_type": "stream",
     "text": [
      "7n_L\n",
      "rm -rf \"/shared/CSHL_volumes/LM30/LM30_down32_annotationAsScoreVolume/score_volumes/LM30_down32_annotationAsScoreVolume_7n_L.bp\" && mkdir -p \"/shared/CSHL_volumes/LM30/LM30_down32_annotationAsScoreVolume/score_volumes\"\n",
      "aws s3 cp \"s3://mousebrainatlas-data/CSHL_volumes/LM30/LM30_down32_annotationAsScoreVolume/score_volumes/LM30_down32_annotationAsScoreVolume_7n_L.bp\" \"/shared/CSHL_volumes/LM30/LM30_down32_annotationAsScoreVolume/score_volumes/LM30_down32_annotationAsScoreVolume_7n_L.bp\"\n"
     ]
    },
    {
     "name": "stderr",
     "output_type": "stream",
     "text": [
      "File does not exist: /shared/CSHL_volumes/LM30/LM30_down32_annotationAsScoreVolume/score_volumes/LM30_down32_annotationAsScoreVolume_7n_L.bp\n",
      "Error computing gradient for 7n_L: [Errno 2] No such file or directory: '/shared/CSHL_volumes/LM30/LM30_down32_annotationAsScoreVolume/score_volumes/LM30_down32_annotationAsScoreVolume_7n_L.bp'.\n"
     ]
    },
    {
     "name": "stdout",
     "output_type": "stream",
     "text": [
      "7n_L_surround_200\n",
      "rm -rf \"/shared/CSHL_volumes/LM30/LM30_down32_annotationAsScoreVolume/score_volumes/LM30_down32_annotationAsScoreVolume_7n_L_surround_200.bp\" && mkdir -p \"/shared/CSHL_volumes/LM30/LM30_down32_annotationAsScoreVolume/score_volumes\"\n",
      "aws s3 cp \"s3://mousebrainatlas-data/CSHL_volumes/LM30/LM30_down32_annotationAsScoreVolume/score_volumes/LM30_down32_annotationAsScoreVolume_7n_L_surround_200.bp\" \"/shared/CSHL_volumes/LM30/LM30_down32_annotationAsScoreVolume/score_volumes/LM30_down32_annotationAsScoreVolume_7n_L_surround_200.bp\"\n"
     ]
    },
    {
     "name": "stderr",
     "output_type": "stream",
     "text": [
      "File does not exist: /shared/CSHL_volumes/LM30/LM30_down32_annotationAsScoreVolume/score_volumes/LM30_down32_annotationAsScoreVolume_7n_L_surround_200.bp\n",
      "Error computing gradient for 7n_L_surround_200: [Errno 2] No such file or directory: '/shared/CSHL_volumes/LM30/LM30_down32_annotationAsScoreVolume/score_volumes/LM30_down32_annotationAsScoreVolume_7n_L_surround_200.bp'.\n"
     ]
    },
    {
     "name": "stdout",
     "output_type": "stream",
     "text": [
      "7n_R\n",
      "rm -rf \"/shared/CSHL_volumes/LM30/LM30_down32_annotationAsScoreVolume/score_volumes/LM30_down32_annotationAsScoreVolume_7n_R.bp\" && mkdir -p \"/shared/CSHL_volumes/LM30/LM30_down32_annotationAsScoreVolume/score_volumes\"\n",
      "aws s3 cp \"s3://mousebrainatlas-data/CSHL_volumes/LM30/LM30_down32_annotationAsScoreVolume/score_volumes/LM30_down32_annotationAsScoreVolume_7n_R.bp\" \"/shared/CSHL_volumes/LM30/LM30_down32_annotationAsScoreVolume/score_volumes/LM30_down32_annotationAsScoreVolume_7n_R.bp\"\n"
     ]
    },
    {
     "name": "stderr",
     "output_type": "stream",
     "text": [
      "File does not exist: /shared/CSHL_volumes/LM30/LM30_down32_annotationAsScoreVolume/score_volumes/LM30_down32_annotationAsScoreVolume_7n_R.bp\n",
      "Error computing gradient for 7n_R: [Errno 2] No such file or directory: '/shared/CSHL_volumes/LM30/LM30_down32_annotationAsScoreVolume/score_volumes/LM30_down32_annotationAsScoreVolume_7n_R.bp'.\n"
     ]
    },
    {
     "name": "stdout",
     "output_type": "stream",
     "text": [
      "7n_R_surround_200\n",
      "rm -rf \"/shared/CSHL_volumes/LM30/LM30_down32_annotationAsScoreVolume/score_volumes/LM30_down32_annotationAsScoreVolume_7n_R_surround_200.bp\" && mkdir -p \"/shared/CSHL_volumes/LM30/LM30_down32_annotationAsScoreVolume/score_volumes\"\n",
      "aws s3 cp \"s3://mousebrainatlas-data/CSHL_volumes/LM30/LM30_down32_annotationAsScoreVolume/score_volumes/LM30_down32_annotationAsScoreVolume_7n_R_surround_200.bp\" \"/shared/CSHL_volumes/LM30/LM30_down32_annotationAsScoreVolume/score_volumes/LM30_down32_annotationAsScoreVolume_7n_R_surround_200.bp\"\n"
     ]
    },
    {
     "name": "stderr",
     "output_type": "stream",
     "text": [
      "File does not exist: /shared/CSHL_volumes/LM30/LM30_down32_annotationAsScoreVolume/score_volumes/LM30_down32_annotationAsScoreVolume_7n_R_surround_200.bp\n",
      "Error computing gradient for 7n_R_surround_200: [Errno 2] No such file or directory: '/shared/CSHL_volumes/LM30/LM30_down32_annotationAsScoreVolume/score_volumes/LM30_down32_annotationAsScoreVolume_7n_R_surround_200.bp'.\n"
     ]
    },
    {
     "name": "stdout",
     "output_type": "stream",
     "text": [
      "AP\n",
      "rm -rf \"/shared/CSHL_volumes/LM30/LM30_down32_annotationAsScoreVolume/score_volumes/LM30_down32_annotationAsScoreVolume_AP.bp\" && mkdir -p \"/shared/CSHL_volumes/LM30/LM30_down32_annotationAsScoreVolume/score_volumes\"\n",
      "aws s3 cp \"s3://mousebrainatlas-data/CSHL_volumes/LM30/LM30_down32_annotationAsScoreVolume/score_volumes/LM30_down32_annotationAsScoreVolume_AP.bp\" \"/shared/CSHL_volumes/LM30/LM30_down32_annotationAsScoreVolume/score_volumes/LM30_down32_annotationAsScoreVolume_AP.bp\"\n"
     ]
    },
    {
     "name": "stderr",
     "output_type": "stream",
     "text": [
      "File does not exist: /shared/CSHL_volumes/LM30/LM30_down32_annotationAsScoreVolume/score_volumes/LM30_down32_annotationAsScoreVolume_AP.bp\n",
      "Error computing gradient for AP: [Errno 2] No such file or directory: '/shared/CSHL_volumes/LM30/LM30_down32_annotationAsScoreVolume/score_volumes/LM30_down32_annotationAsScoreVolume_AP.bp'.\n"
     ]
    },
    {
     "name": "stdout",
     "output_type": "stream",
     "text": [
      "AP_surround_200\n",
      "rm -rf \"/shared/CSHL_volumes/LM30/LM30_down32_annotationAsScoreVolume/score_volumes/LM30_down32_annotationAsScoreVolume_AP_surround_200.bp\" && mkdir -p \"/shared/CSHL_volumes/LM30/LM30_down32_annotationAsScoreVolume/score_volumes\"\n",
      "aws s3 cp \"s3://mousebrainatlas-data/CSHL_volumes/LM30/LM30_down32_annotationAsScoreVolume/score_volumes/LM30_down32_annotationAsScoreVolume_AP_surround_200.bp\" \"/shared/CSHL_volumes/LM30/LM30_down32_annotationAsScoreVolume/score_volumes/LM30_down32_annotationAsScoreVolume_AP_surround_200.bp\"\n"
     ]
    },
    {
     "name": "stderr",
     "output_type": "stream",
     "text": [
      "File does not exist: /shared/CSHL_volumes/LM30/LM30_down32_annotationAsScoreVolume/score_volumes/LM30_down32_annotationAsScoreVolume_AP_surround_200.bp\n",
      "Error computing gradient for AP_surround_200: [Errno 2] No such file or directory: '/shared/CSHL_volumes/LM30/LM30_down32_annotationAsScoreVolume/score_volumes/LM30_down32_annotationAsScoreVolume_AP_surround_200.bp'.\n"
     ]
    },
    {
     "name": "stdout",
     "output_type": "stream",
     "text": [
      "Amb_L\n",
      "rm -rf \"/shared/CSHL_volumes/LM30/LM30_down32_annotationAsScoreVolume/score_volumes/LM30_down32_annotationAsScoreVolume_Amb_L.bp\" && mkdir -p \"/shared/CSHL_volumes/LM30/LM30_down32_annotationAsScoreVolume/score_volumes\"\n",
      "aws s3 cp \"s3://mousebrainatlas-data/CSHL_volumes/LM30/LM30_down32_annotationAsScoreVolume/score_volumes/LM30_down32_annotationAsScoreVolume_Amb_L.bp\" \"/shared/CSHL_volumes/LM30/LM30_down32_annotationAsScoreVolume/score_volumes/LM30_down32_annotationAsScoreVolume_Amb_L.bp\"\n"
     ]
    },
    {
     "name": "stderr",
     "output_type": "stream",
     "text": [
      "File does not exist: /shared/CSHL_volumes/LM30/LM30_down32_annotationAsScoreVolume/score_volumes/LM30_down32_annotationAsScoreVolume_Amb_L.bp\n",
      "Error computing gradient for Amb_L: [Errno 2] No such file or directory: '/shared/CSHL_volumes/LM30/LM30_down32_annotationAsScoreVolume/score_volumes/LM30_down32_annotationAsScoreVolume_Amb_L.bp'.\n"
     ]
    },
    {
     "name": "stdout",
     "output_type": "stream",
     "text": [
      "Amb_L_surround_200\n",
      "rm -rf \"/shared/CSHL_volumes/LM30/LM30_down32_annotationAsScoreVolume/score_volumes/LM30_down32_annotationAsScoreVolume_Amb_L_surround_200.bp\" && mkdir -p \"/shared/CSHL_volumes/LM30/LM30_down32_annotationAsScoreVolume/score_volumes\"\n",
      "aws s3 cp \"s3://mousebrainatlas-data/CSHL_volumes/LM30/LM30_down32_annotationAsScoreVolume/score_volumes/LM30_down32_annotationAsScoreVolume_Amb_L_surround_200.bp\" \"/shared/CSHL_volumes/LM30/LM30_down32_annotationAsScoreVolume/score_volumes/LM30_down32_annotationAsScoreVolume_Amb_L_surround_200.bp\"\n"
     ]
    },
    {
     "name": "stderr",
     "output_type": "stream",
     "text": [
      "File does not exist: /shared/CSHL_volumes/LM30/LM30_down32_annotationAsScoreVolume/score_volumes/LM30_down32_annotationAsScoreVolume_Amb_L_surround_200.bp\n",
      "Error computing gradient for Amb_L_surround_200: [Errno 2] No such file or directory: '/shared/CSHL_volumes/LM30/LM30_down32_annotationAsScoreVolume/score_volumes/LM30_down32_annotationAsScoreVolume_Amb_L_surround_200.bp'.\n"
     ]
    },
    {
     "name": "stdout",
     "output_type": "stream",
     "text": [
      "Amb_R\n",
      "rm -rf \"/shared/CSHL_volumes/LM30/LM30_down32_annotationAsScoreVolume/score_volumes/LM30_down32_annotationAsScoreVolume_Amb_R.bp\" && mkdir -p \"/shared/CSHL_volumes/LM30/LM30_down32_annotationAsScoreVolume/score_volumes\"\n",
      "aws s3 cp \"s3://mousebrainatlas-data/CSHL_volumes/LM30/LM30_down32_annotationAsScoreVolume/score_volumes/LM30_down32_annotationAsScoreVolume_Amb_R.bp\" \"/shared/CSHL_volumes/LM30/LM30_down32_annotationAsScoreVolume/score_volumes/LM30_down32_annotationAsScoreVolume_Amb_R.bp\"\n"
     ]
    },
    {
     "name": "stderr",
     "output_type": "stream",
     "text": [
      "File does not exist: /shared/CSHL_volumes/LM30/LM30_down32_annotationAsScoreVolume/score_volumes/LM30_down32_annotationAsScoreVolume_Amb_R.bp\n",
      "Error computing gradient for Amb_R: [Errno 2] No such file or directory: '/shared/CSHL_volumes/LM30/LM30_down32_annotationAsScoreVolume/score_volumes/LM30_down32_annotationAsScoreVolume_Amb_R.bp'.\n"
     ]
    },
    {
     "name": "stdout",
     "output_type": "stream",
     "text": [
      "Amb_R_surround_200\n",
      "rm -rf \"/shared/CSHL_volumes/LM30/LM30_down32_annotationAsScoreVolume/score_volumes/LM30_down32_annotationAsScoreVolume_Amb_R_surround_200.bp\" && mkdir -p \"/shared/CSHL_volumes/LM30/LM30_down32_annotationAsScoreVolume/score_volumes\"\n",
      "aws s3 cp \"s3://mousebrainatlas-data/CSHL_volumes/LM30/LM30_down32_annotationAsScoreVolume/score_volumes/LM30_down32_annotationAsScoreVolume_Amb_R_surround_200.bp\" \"/shared/CSHL_volumes/LM30/LM30_down32_annotationAsScoreVolume/score_volumes/LM30_down32_annotationAsScoreVolume_Amb_R_surround_200.bp\"\n"
     ]
    },
    {
     "name": "stderr",
     "output_type": "stream",
     "text": [
      "File does not exist: /shared/CSHL_volumes/LM30/LM30_down32_annotationAsScoreVolume/score_volumes/LM30_down32_annotationAsScoreVolume_Amb_R_surround_200.bp\n",
      "Error computing gradient for Amb_R_surround_200: [Errno 2] No such file or directory: '/shared/CSHL_volumes/LM30/LM30_down32_annotationAsScoreVolume/score_volumes/LM30_down32_annotationAsScoreVolume_Amb_R_surround_200.bp'.\n"
     ]
    },
    {
     "name": "stdout",
     "output_type": "stream",
     "text": [
      "DC_L\n",
      "rm -rf \"/shared/CSHL_volumes/LM30/LM30_down32_annotationAsScoreVolume/score_volumes/LM30_down32_annotationAsScoreVolume_DC_L.bp\" && mkdir -p \"/shared/CSHL_volumes/LM30/LM30_down32_annotationAsScoreVolume/score_volumes\"\n",
      "aws s3 cp \"s3://mousebrainatlas-data/CSHL_volumes/LM30/LM30_down32_annotationAsScoreVolume/score_volumes/LM30_down32_annotationAsScoreVolume_DC_L.bp\" \"/shared/CSHL_volumes/LM30/LM30_down32_annotationAsScoreVolume/score_volumes/LM30_down32_annotationAsScoreVolume_DC_L.bp\"\n"
     ]
    },
    {
     "name": "stderr",
     "output_type": "stream",
     "text": [
      "File does not exist: /shared/CSHL_volumes/LM30/LM30_down32_annotationAsScoreVolume/score_volumes/LM30_down32_annotationAsScoreVolume_DC_L.bp\n",
      "Error computing gradient for DC_L: [Errno 2] No such file or directory: '/shared/CSHL_volumes/LM30/LM30_down32_annotationAsScoreVolume/score_volumes/LM30_down32_annotationAsScoreVolume_DC_L.bp'.\n"
     ]
    },
    {
     "name": "stdout",
     "output_type": "stream",
     "text": [
      "DC_L_surround_200\n",
      "rm -rf \"/shared/CSHL_volumes/LM30/LM30_down32_annotationAsScoreVolume/score_volumes/LM30_down32_annotationAsScoreVolume_DC_L_surround_200.bp\" && mkdir -p \"/shared/CSHL_volumes/LM30/LM30_down32_annotationAsScoreVolume/score_volumes\"\n",
      "aws s3 cp \"s3://mousebrainatlas-data/CSHL_volumes/LM30/LM30_down32_annotationAsScoreVolume/score_volumes/LM30_down32_annotationAsScoreVolume_DC_L_surround_200.bp\" \"/shared/CSHL_volumes/LM30/LM30_down32_annotationAsScoreVolume/score_volumes/LM30_down32_annotationAsScoreVolume_DC_L_surround_200.bp\"\n"
     ]
    },
    {
     "name": "stderr",
     "output_type": "stream",
     "text": [
      "File does not exist: /shared/CSHL_volumes/LM30/LM30_down32_annotationAsScoreVolume/score_volumes/LM30_down32_annotationAsScoreVolume_DC_L_surround_200.bp\n",
      "Error computing gradient for DC_L_surround_200: [Errno 2] No such file or directory: '/shared/CSHL_volumes/LM30/LM30_down32_annotationAsScoreVolume/score_volumes/LM30_down32_annotationAsScoreVolume_DC_L_surround_200.bp'.\n"
     ]
    },
    {
     "name": "stdout",
     "output_type": "stream",
     "text": [
      "DC_R\n",
      "rm -rf \"/shared/CSHL_volumes/LM30/LM30_down32_annotationAsScoreVolume/score_volumes/LM30_down32_annotationAsScoreVolume_DC_R.bp\" && mkdir -p \"/shared/CSHL_volumes/LM30/LM30_down32_annotationAsScoreVolume/score_volumes\"\n",
      "aws s3 cp \"s3://mousebrainatlas-data/CSHL_volumes/LM30/LM30_down32_annotationAsScoreVolume/score_volumes/LM30_down32_annotationAsScoreVolume_DC_R.bp\" \"/shared/CSHL_volumes/LM30/LM30_down32_annotationAsScoreVolume/score_volumes/LM30_down32_annotationAsScoreVolume_DC_R.bp\"\n"
     ]
    },
    {
     "name": "stderr",
     "output_type": "stream",
     "text": [
      "File does not exist: /shared/CSHL_volumes/LM30/LM30_down32_annotationAsScoreVolume/score_volumes/LM30_down32_annotationAsScoreVolume_DC_R.bp\n",
      "Error computing gradient for DC_R: [Errno 2] No such file or directory: '/shared/CSHL_volumes/LM30/LM30_down32_annotationAsScoreVolume/score_volumes/LM30_down32_annotationAsScoreVolume_DC_R.bp'.\n"
     ]
    },
    {
     "name": "stdout",
     "output_type": "stream",
     "text": [
      "DC_R_surround_200\n",
      "rm -rf \"/shared/CSHL_volumes/LM30/LM30_down32_annotationAsScoreVolume/score_volumes/LM30_down32_annotationAsScoreVolume_DC_R_surround_200.bp\" && mkdir -p \"/shared/CSHL_volumes/LM30/LM30_down32_annotationAsScoreVolume/score_volumes\"\n",
      "aws s3 cp \"s3://mousebrainatlas-data/CSHL_volumes/LM30/LM30_down32_annotationAsScoreVolume/score_volumes/LM30_down32_annotationAsScoreVolume_DC_R_surround_200.bp\" \"/shared/CSHL_volumes/LM30/LM30_down32_annotationAsScoreVolume/score_volumes/LM30_down32_annotationAsScoreVolume_DC_R_surround_200.bp\"\n"
     ]
    },
    {
     "name": "stderr",
     "output_type": "stream",
     "text": [
      "File does not exist: /shared/CSHL_volumes/LM30/LM30_down32_annotationAsScoreVolume/score_volumes/LM30_down32_annotationAsScoreVolume_DC_R_surround_200.bp\n",
      "Error computing gradient for DC_R_surround_200: [Errno 2] No such file or directory: '/shared/CSHL_volumes/LM30/LM30_down32_annotationAsScoreVolume/score_volumes/LM30_down32_annotationAsScoreVolume_DC_R_surround_200.bp'.\n"
     ]
    },
    {
     "name": "stdout",
     "output_type": "stream",
     "text": [
      "IC\n",
      "rm -rf \"/shared/CSHL_volumes/LM30/LM30_down32_annotationAsScoreVolume/score_volumes/LM30_down32_annotationAsScoreVolume_IC.bp\" && mkdir -p \"/shared/CSHL_volumes/LM30/LM30_down32_annotationAsScoreVolume/score_volumes\"\n",
      "aws s3 cp \"s3://mousebrainatlas-data/CSHL_volumes/LM30/LM30_down32_annotationAsScoreVolume/score_volumes/LM30_down32_annotationAsScoreVolume_IC.bp\" \"/shared/CSHL_volumes/LM30/LM30_down32_annotationAsScoreVolume/score_volumes/LM30_down32_annotationAsScoreVolume_IC.bp\"\n"
     ]
    },
    {
     "name": "stderr",
     "output_type": "stream",
     "text": [
      "File does not exist: /shared/CSHL_volumes/LM30/LM30_down32_annotationAsScoreVolume/score_volumes/LM30_down32_annotationAsScoreVolume_IC.bp\n",
      "Error computing gradient for IC: [Errno 2] No such file or directory: '/shared/CSHL_volumes/LM30/LM30_down32_annotationAsScoreVolume/score_volumes/LM30_down32_annotationAsScoreVolume_IC.bp'.\n"
     ]
    },
    {
     "name": "stdout",
     "output_type": "stream",
     "text": [
      "IC_surround_200\n",
      "rm -rf \"/shared/CSHL_volumes/LM30/LM30_down32_annotationAsScoreVolume/score_volumes/LM30_down32_annotationAsScoreVolume_IC_surround_200.bp\" && mkdir -p \"/shared/CSHL_volumes/LM30/LM30_down32_annotationAsScoreVolume/score_volumes\"\n",
      "aws s3 cp \"s3://mousebrainatlas-data/CSHL_volumes/LM30/LM30_down32_annotationAsScoreVolume/score_volumes/LM30_down32_annotationAsScoreVolume_IC_surround_200.bp\" \"/shared/CSHL_volumes/LM30/LM30_down32_annotationAsScoreVolume/score_volumes/LM30_down32_annotationAsScoreVolume_IC_surround_200.bp\"\n"
     ]
    },
    {
     "name": "stderr",
     "output_type": "stream",
     "text": [
      "File does not exist: /shared/CSHL_volumes/LM30/LM30_down32_annotationAsScoreVolume/score_volumes/LM30_down32_annotationAsScoreVolume_IC_surround_200.bp\n",
      "Error computing gradient for IC_surround_200: [Errno 2] No such file or directory: '/shared/CSHL_volumes/LM30/LM30_down32_annotationAsScoreVolume/score_volumes/LM30_down32_annotationAsScoreVolume_IC_surround_200.bp'.\n"
     ]
    },
    {
     "name": "stdout",
     "output_type": "stream",
     "text": [
      "LC_L\n",
      "rm -rf \"/shared/CSHL_volumes/LM30/LM30_down32_annotationAsScoreVolume/score_volumes/LM30_down32_annotationAsScoreVolume_LC_L.bp\" && mkdir -p \"/shared/CSHL_volumes/LM30/LM30_down32_annotationAsScoreVolume/score_volumes\"\n",
      "aws s3 cp \"s3://mousebrainatlas-data/CSHL_volumes/LM30/LM30_down32_annotationAsScoreVolume/score_volumes/LM30_down32_annotationAsScoreVolume_LC_L.bp\" \"/shared/CSHL_volumes/LM30/LM30_down32_annotationAsScoreVolume/score_volumes/LM30_down32_annotationAsScoreVolume_LC_L.bp\"\n"
     ]
    },
    {
     "name": "stderr",
     "output_type": "stream",
     "text": [
      "File does not exist: /shared/CSHL_volumes/LM30/LM30_down32_annotationAsScoreVolume/score_volumes/LM30_down32_annotationAsScoreVolume_LC_L.bp\n",
      "Error computing gradient for LC_L: [Errno 2] No such file or directory: '/shared/CSHL_volumes/LM30/LM30_down32_annotationAsScoreVolume/score_volumes/LM30_down32_annotationAsScoreVolume_LC_L.bp'.\n"
     ]
    },
    {
     "name": "stdout",
     "output_type": "stream",
     "text": [
      "LC_L_surround_200\n",
      "rm -rf \"/shared/CSHL_volumes/LM30/LM30_down32_annotationAsScoreVolume/score_volumes/LM30_down32_annotationAsScoreVolume_LC_L_surround_200.bp\" && mkdir -p \"/shared/CSHL_volumes/LM30/LM30_down32_annotationAsScoreVolume/score_volumes\"\n",
      "aws s3 cp \"s3://mousebrainatlas-data/CSHL_volumes/LM30/LM30_down32_annotationAsScoreVolume/score_volumes/LM30_down32_annotationAsScoreVolume_LC_L_surround_200.bp\" \"/shared/CSHL_volumes/LM30/LM30_down32_annotationAsScoreVolume/score_volumes/LM30_down32_annotationAsScoreVolume_LC_L_surround_200.bp\"\n"
     ]
    },
    {
     "name": "stderr",
     "output_type": "stream",
     "text": [
      "File does not exist: /shared/CSHL_volumes/LM30/LM30_down32_annotationAsScoreVolume/score_volumes/LM30_down32_annotationAsScoreVolume_LC_L_surround_200.bp\n",
      "Error computing gradient for LC_L_surround_200: [Errno 2] No such file or directory: '/shared/CSHL_volumes/LM30/LM30_down32_annotationAsScoreVolume/score_volumes/LM30_down32_annotationAsScoreVolume_LC_L_surround_200.bp'.\n"
     ]
    },
    {
     "name": "stdout",
     "output_type": "stream",
     "text": [
      "LC_R\n",
      "rm -rf \"/shared/CSHL_volumes/LM30/LM30_down32_annotationAsScoreVolume/score_volumes/LM30_down32_annotationAsScoreVolume_LC_R.bp\" && mkdir -p \"/shared/CSHL_volumes/LM30/LM30_down32_annotationAsScoreVolume/score_volumes\"\n",
      "aws s3 cp \"s3://mousebrainatlas-data/CSHL_volumes/LM30/LM30_down32_annotationAsScoreVolume/score_volumes/LM30_down32_annotationAsScoreVolume_LC_R.bp\" \"/shared/CSHL_volumes/LM30/LM30_down32_annotationAsScoreVolume/score_volumes/LM30_down32_annotationAsScoreVolume_LC_R.bp\"\n"
     ]
    },
    {
     "name": "stderr",
     "output_type": "stream",
     "text": [
      "File does not exist: /shared/CSHL_volumes/LM30/LM30_down32_annotationAsScoreVolume/score_volumes/LM30_down32_annotationAsScoreVolume_LC_R.bp\n",
      "Error computing gradient for LC_R: [Errno 2] No such file or directory: '/shared/CSHL_volumes/LM30/LM30_down32_annotationAsScoreVolume/score_volumes/LM30_down32_annotationAsScoreVolume_LC_R.bp'.\n"
     ]
    },
    {
     "name": "stdout",
     "output_type": "stream",
     "text": [
      "LC_R_surround_200\n",
      "rm -rf \"/shared/CSHL_volumes/LM30/LM30_down32_annotationAsScoreVolume/score_volumes/LM30_down32_annotationAsScoreVolume_LC_R_surround_200.bp\" && mkdir -p \"/shared/CSHL_volumes/LM30/LM30_down32_annotationAsScoreVolume/score_volumes\"\n",
      "aws s3 cp \"s3://mousebrainatlas-data/CSHL_volumes/LM30/LM30_down32_annotationAsScoreVolume/score_volumes/LM30_down32_annotationAsScoreVolume_LC_R_surround_200.bp\" \"/shared/CSHL_volumes/LM30/LM30_down32_annotationAsScoreVolume/score_volumes/LM30_down32_annotationAsScoreVolume_LC_R_surround_200.bp\"\n"
     ]
    },
    {
     "name": "stderr",
     "output_type": "stream",
     "text": [
      "File does not exist: /shared/CSHL_volumes/LM30/LM30_down32_annotationAsScoreVolume/score_volumes/LM30_down32_annotationAsScoreVolume_LC_R_surround_200.bp\n",
      "Error computing gradient for LC_R_surround_200: [Errno 2] No such file or directory: '/shared/CSHL_volumes/LM30/LM30_down32_annotationAsScoreVolume/score_volumes/LM30_down32_annotationAsScoreVolume_LC_R_surround_200.bp'.\n"
     ]
    },
    {
     "name": "stdout",
     "output_type": "stream",
     "text": [
      "LRt_L\n",
      "rm -rf \"/shared/CSHL_volumes/LM30/LM30_down32_annotationAsScoreVolume/score_volumes/LM30_down32_annotationAsScoreVolume_LRt_L.bp\" && mkdir -p \"/shared/CSHL_volumes/LM30/LM30_down32_annotationAsScoreVolume/score_volumes\"\n",
      "aws s3 cp \"s3://mousebrainatlas-data/CSHL_volumes/LM30/LM30_down32_annotationAsScoreVolume/score_volumes/LM30_down32_annotationAsScoreVolume_LRt_L.bp\" \"/shared/CSHL_volumes/LM30/LM30_down32_annotationAsScoreVolume/score_volumes/LM30_down32_annotationAsScoreVolume_LRt_L.bp\"\n"
     ]
    },
    {
     "name": "stderr",
     "output_type": "stream",
     "text": [
      "File does not exist: /shared/CSHL_volumes/LM30/LM30_down32_annotationAsScoreVolume/score_volumes/LM30_down32_annotationAsScoreVolume_LRt_L.bp\n",
      "Error computing gradient for LRt_L: [Errno 2] No such file or directory: '/shared/CSHL_volumes/LM30/LM30_down32_annotationAsScoreVolume/score_volumes/LM30_down32_annotationAsScoreVolume_LRt_L.bp'.\n"
     ]
    },
    {
     "name": "stdout",
     "output_type": "stream",
     "text": [
      "LRt_L_surround_200\n",
      "rm -rf \"/shared/CSHL_volumes/LM30/LM30_down32_annotationAsScoreVolume/score_volumes/LM30_down32_annotationAsScoreVolume_LRt_L_surround_200.bp\" && mkdir -p \"/shared/CSHL_volumes/LM30/LM30_down32_annotationAsScoreVolume/score_volumes\"\n",
      "aws s3 cp \"s3://mousebrainatlas-data/CSHL_volumes/LM30/LM30_down32_annotationAsScoreVolume/score_volumes/LM30_down32_annotationAsScoreVolume_LRt_L_surround_200.bp\" \"/shared/CSHL_volumes/LM30/LM30_down32_annotationAsScoreVolume/score_volumes/LM30_down32_annotationAsScoreVolume_LRt_L_surround_200.bp\"\n"
     ]
    },
    {
     "name": "stderr",
     "output_type": "stream",
     "text": [
      "File does not exist: /shared/CSHL_volumes/LM30/LM30_down32_annotationAsScoreVolume/score_volumes/LM30_down32_annotationAsScoreVolume_LRt_L_surround_200.bp\n",
      "Error computing gradient for LRt_L_surround_200: [Errno 2] No such file or directory: '/shared/CSHL_volumes/LM30/LM30_down32_annotationAsScoreVolume/score_volumes/LM30_down32_annotationAsScoreVolume_LRt_L_surround_200.bp'.\n"
     ]
    },
    {
     "name": "stdout",
     "output_type": "stream",
     "text": [
      "LRt_R\n",
      "rm -rf \"/shared/CSHL_volumes/LM30/LM30_down32_annotationAsScoreVolume/score_volumes/LM30_down32_annotationAsScoreVolume_LRt_R.bp\" && mkdir -p \"/shared/CSHL_volumes/LM30/LM30_down32_annotationAsScoreVolume/score_volumes\"\n",
      "aws s3 cp \"s3://mousebrainatlas-data/CSHL_volumes/LM30/LM30_down32_annotationAsScoreVolume/score_volumes/LM30_down32_annotationAsScoreVolume_LRt_R.bp\" \"/shared/CSHL_volumes/LM30/LM30_down32_annotationAsScoreVolume/score_volumes/LM30_down32_annotationAsScoreVolume_LRt_R.bp\"\n"
     ]
    },
    {
     "name": "stderr",
     "output_type": "stream",
     "text": [
      "File does not exist: /shared/CSHL_volumes/LM30/LM30_down32_annotationAsScoreVolume/score_volumes/LM30_down32_annotationAsScoreVolume_LRt_R.bp\n",
      "Error computing gradient for LRt_R: [Errno 2] No such file or directory: '/shared/CSHL_volumes/LM30/LM30_down32_annotationAsScoreVolume/score_volumes/LM30_down32_annotationAsScoreVolume_LRt_R.bp'.\n"
     ]
    },
    {
     "name": "stdout",
     "output_type": "stream",
     "text": [
      "LRt_R_surround_200\n",
      "rm -rf \"/shared/CSHL_volumes/LM30/LM30_down32_annotationAsScoreVolume/score_volumes/LM30_down32_annotationAsScoreVolume_LRt_R_surround_200.bp\" && mkdir -p \"/shared/CSHL_volumes/LM30/LM30_down32_annotationAsScoreVolume/score_volumes\"\n",
      "aws s3 cp \"s3://mousebrainatlas-data/CSHL_volumes/LM30/LM30_down32_annotationAsScoreVolume/score_volumes/LM30_down32_annotationAsScoreVolume_LRt_R_surround_200.bp\" \"/shared/CSHL_volumes/LM30/LM30_down32_annotationAsScoreVolume/score_volumes/LM30_down32_annotationAsScoreVolume_LRt_R_surround_200.bp\"\n"
     ]
    },
    {
     "name": "stderr",
     "output_type": "stream",
     "text": [
      "File does not exist: /shared/CSHL_volumes/LM30/LM30_down32_annotationAsScoreVolume/score_volumes/LM30_down32_annotationAsScoreVolume_LRt_R_surround_200.bp\n",
      "Error computing gradient for LRt_R_surround_200: [Errno 2] No such file or directory: '/shared/CSHL_volumes/LM30/LM30_down32_annotationAsScoreVolume/score_volumes/LM30_down32_annotationAsScoreVolume_LRt_R_surround_200.bp'.\n"
     ]
    },
    {
     "name": "stdout",
     "output_type": "stream",
     "text": [
      "PBG_L\n",
      "rm -rf \"/shared/CSHL_volumes/LM30/LM30_down32_annotationAsScoreVolume/score_volumes/LM30_down32_annotationAsScoreVolume_PBG_L.bp\" && mkdir -p \"/shared/CSHL_volumes/LM30/LM30_down32_annotationAsScoreVolume/score_volumes\"\n",
      "aws s3 cp \"s3://mousebrainatlas-data/CSHL_volumes/LM30/LM30_down32_annotationAsScoreVolume/score_volumes/LM30_down32_annotationAsScoreVolume_PBG_L.bp\" \"/shared/CSHL_volumes/LM30/LM30_down32_annotationAsScoreVolume/score_volumes/LM30_down32_annotationAsScoreVolume_PBG_L.bp\"\n"
     ]
    },
    {
     "name": "stderr",
     "output_type": "stream",
     "text": [
      "File does not exist: /shared/CSHL_volumes/LM30/LM30_down32_annotationAsScoreVolume/score_volumes/LM30_down32_annotationAsScoreVolume_PBG_L.bp\n",
      "Error computing gradient for PBG_L: [Errno 2] No such file or directory: '/shared/CSHL_volumes/LM30/LM30_down32_annotationAsScoreVolume/score_volumes/LM30_down32_annotationAsScoreVolume_PBG_L.bp'.\n"
     ]
    },
    {
     "name": "stdout",
     "output_type": "stream",
     "text": [
      "PBG_L_surround_200\n",
      "rm -rf \"/shared/CSHL_volumes/LM30/LM30_down32_annotationAsScoreVolume/score_volumes/LM30_down32_annotationAsScoreVolume_PBG_L_surround_200.bp\" && mkdir -p \"/shared/CSHL_volumes/LM30/LM30_down32_annotationAsScoreVolume/score_volumes\"\n",
      "aws s3 cp \"s3://mousebrainatlas-data/CSHL_volumes/LM30/LM30_down32_annotationAsScoreVolume/score_volumes/LM30_down32_annotationAsScoreVolume_PBG_L_surround_200.bp\" \"/shared/CSHL_volumes/LM30/LM30_down32_annotationAsScoreVolume/score_volumes/LM30_down32_annotationAsScoreVolume_PBG_L_surround_200.bp\"\n"
     ]
    },
    {
     "name": "stderr",
     "output_type": "stream",
     "text": [
      "File does not exist: /shared/CSHL_volumes/LM30/LM30_down32_annotationAsScoreVolume/score_volumes/LM30_down32_annotationAsScoreVolume_PBG_L_surround_200.bp\n",
      "Error computing gradient for PBG_L_surround_200: [Errno 2] No such file or directory: '/shared/CSHL_volumes/LM30/LM30_down32_annotationAsScoreVolume/score_volumes/LM30_down32_annotationAsScoreVolume_PBG_L_surround_200.bp'.\n"
     ]
    },
    {
     "name": "stdout",
     "output_type": "stream",
     "text": [
      "PBG_R\n",
      "rm -rf \"/shared/CSHL_volumes/LM30/LM30_down32_annotationAsScoreVolume/score_volumes/LM30_down32_annotationAsScoreVolume_PBG_R.bp\" && mkdir -p \"/shared/CSHL_volumes/LM30/LM30_down32_annotationAsScoreVolume/score_volumes\"\n",
      "aws s3 cp \"s3://mousebrainatlas-data/CSHL_volumes/LM30/LM30_down32_annotationAsScoreVolume/score_volumes/LM30_down32_annotationAsScoreVolume_PBG_R.bp\" \"/shared/CSHL_volumes/LM30/LM30_down32_annotationAsScoreVolume/score_volumes/LM30_down32_annotationAsScoreVolume_PBG_R.bp\"\n"
     ]
    },
    {
     "name": "stderr",
     "output_type": "stream",
     "text": [
      "File does not exist: /shared/CSHL_volumes/LM30/LM30_down32_annotationAsScoreVolume/score_volumes/LM30_down32_annotationAsScoreVolume_PBG_R.bp\n",
      "Error computing gradient for PBG_R: [Errno 2] No such file or directory: '/shared/CSHL_volumes/LM30/LM30_down32_annotationAsScoreVolume/score_volumes/LM30_down32_annotationAsScoreVolume_PBG_R.bp'.\n"
     ]
    },
    {
     "name": "stdout",
     "output_type": "stream",
     "text": [
      "PBG_R_surround_200\n",
      "rm -rf \"/shared/CSHL_volumes/LM30/LM30_down32_annotationAsScoreVolume/score_volumes/LM30_down32_annotationAsScoreVolume_PBG_R_surround_200.bp\" && mkdir -p \"/shared/CSHL_volumes/LM30/LM30_down32_annotationAsScoreVolume/score_volumes\"\n",
      "aws s3 cp \"s3://mousebrainatlas-data/CSHL_volumes/LM30/LM30_down32_annotationAsScoreVolume/score_volumes/LM30_down32_annotationAsScoreVolume_PBG_R_surround_200.bp\" \"/shared/CSHL_volumes/LM30/LM30_down32_annotationAsScoreVolume/score_volumes/LM30_down32_annotationAsScoreVolume_PBG_R_surround_200.bp\"\n"
     ]
    },
    {
     "name": "stderr",
     "output_type": "stream",
     "text": [
      "File does not exist: /shared/CSHL_volumes/LM30/LM30_down32_annotationAsScoreVolume/score_volumes/LM30_down32_annotationAsScoreVolume_PBG_R_surround_200.bp\n",
      "Error computing gradient for PBG_R_surround_200: [Errno 2] No such file or directory: '/shared/CSHL_volumes/LM30/LM30_down32_annotationAsScoreVolume/score_volumes/LM30_down32_annotationAsScoreVolume_PBG_R_surround_200.bp'.\n"
     ]
    },
    {
     "name": "stdout",
     "output_type": "stream",
     "text": [
      "Pn_L\n",
      "rm -rf \"/shared/CSHL_volumes/LM30/LM30_down32_annotationAsScoreVolume/score_volumes/LM30_down32_annotationAsScoreVolume_Pn_L.bp\" && mkdir -p \"/shared/CSHL_volumes/LM30/LM30_down32_annotationAsScoreVolume/score_volumes\"\n",
      "aws s3 cp \"s3://mousebrainatlas-data/CSHL_volumes/LM30/LM30_down32_annotationAsScoreVolume/score_volumes/LM30_down32_annotationAsScoreVolume_Pn_L.bp\" \"/shared/CSHL_volumes/LM30/LM30_down32_annotationAsScoreVolume/score_volumes/LM30_down32_annotationAsScoreVolume_Pn_L.bp\"\n"
     ]
    },
    {
     "name": "stderr",
     "output_type": "stream",
     "text": [
      "File does not exist: /shared/CSHL_volumes/LM30/LM30_down32_annotationAsScoreVolume/score_volumes/LM30_down32_annotationAsScoreVolume_Pn_L.bp\n",
      "Error computing gradient for Pn_L: [Errno 2] No such file or directory: '/shared/CSHL_volumes/LM30/LM30_down32_annotationAsScoreVolume/score_volumes/LM30_down32_annotationAsScoreVolume_Pn_L.bp'.\n"
     ]
    },
    {
     "name": "stdout",
     "output_type": "stream",
     "text": [
      "Pn_L_surround_200\n",
      "rm -rf \"/shared/CSHL_volumes/LM30/LM30_down32_annotationAsScoreVolume/score_volumes/LM30_down32_annotationAsScoreVolume_Pn_L_surround_200.bp\" && mkdir -p \"/shared/CSHL_volumes/LM30/LM30_down32_annotationAsScoreVolume/score_volumes\"\n",
      "aws s3 cp \"s3://mousebrainatlas-data/CSHL_volumes/LM30/LM30_down32_annotationAsScoreVolume/score_volumes/LM30_down32_annotationAsScoreVolume_Pn_L_surround_200.bp\" \"/shared/CSHL_volumes/LM30/LM30_down32_annotationAsScoreVolume/score_volumes/LM30_down32_annotationAsScoreVolume_Pn_L_surround_200.bp\"\n"
     ]
    },
    {
     "name": "stderr",
     "output_type": "stream",
     "text": [
      "File does not exist: /shared/CSHL_volumes/LM30/LM30_down32_annotationAsScoreVolume/score_volumes/LM30_down32_annotationAsScoreVolume_Pn_L_surround_200.bp\n",
      "Error computing gradient for Pn_L_surround_200: [Errno 2] No such file or directory: '/shared/CSHL_volumes/LM30/LM30_down32_annotationAsScoreVolume/score_volumes/LM30_down32_annotationAsScoreVolume_Pn_L_surround_200.bp'.\n"
     ]
    },
    {
     "name": "stdout",
     "output_type": "stream",
     "text": [
      "Pn_R\n",
      "rm -rf \"/shared/CSHL_volumes/LM30/LM30_down32_annotationAsScoreVolume/score_volumes/LM30_down32_annotationAsScoreVolume_Pn_R.bp\" && mkdir -p \"/shared/CSHL_volumes/LM30/LM30_down32_annotationAsScoreVolume/score_volumes\"\n",
      "aws s3 cp \"s3://mousebrainatlas-data/CSHL_volumes/LM30/LM30_down32_annotationAsScoreVolume/score_volumes/LM30_down32_annotationAsScoreVolume_Pn_R.bp\" \"/shared/CSHL_volumes/LM30/LM30_down32_annotationAsScoreVolume/score_volumes/LM30_down32_annotationAsScoreVolume_Pn_R.bp\"\n"
     ]
    },
    {
     "name": "stderr",
     "output_type": "stream",
     "text": [
      "File does not exist: /shared/CSHL_volumes/LM30/LM30_down32_annotationAsScoreVolume/score_volumes/LM30_down32_annotationAsScoreVolume_Pn_R.bp\n",
      "Error computing gradient for Pn_R: [Errno 2] No such file or directory: '/shared/CSHL_volumes/LM30/LM30_down32_annotationAsScoreVolume/score_volumes/LM30_down32_annotationAsScoreVolume_Pn_R.bp'.\n"
     ]
    },
    {
     "name": "stdout",
     "output_type": "stream",
     "text": [
      "Pn_R_surround_200\n",
      "rm -rf \"/shared/CSHL_volumes/LM30/LM30_down32_annotationAsScoreVolume/score_volumes/LM30_down32_annotationAsScoreVolume_Pn_R_surround_200.bp\" && mkdir -p \"/shared/CSHL_volumes/LM30/LM30_down32_annotationAsScoreVolume/score_volumes\"\n",
      "aws s3 cp \"s3://mousebrainatlas-data/CSHL_volumes/LM30/LM30_down32_annotationAsScoreVolume/score_volumes/LM30_down32_annotationAsScoreVolume_Pn_R_surround_200.bp\" \"/shared/CSHL_volumes/LM30/LM30_down32_annotationAsScoreVolume/score_volumes/LM30_down32_annotationAsScoreVolume_Pn_R_surround_200.bp\"\n"
     ]
    },
    {
     "name": "stderr",
     "output_type": "stream",
     "text": [
      "File does not exist: /shared/CSHL_volumes/LM30/LM30_down32_annotationAsScoreVolume/score_volumes/LM30_down32_annotationAsScoreVolume_Pn_R_surround_200.bp\n",
      "Error computing gradient for Pn_R_surround_200: [Errno 2] No such file or directory: '/shared/CSHL_volumes/LM30/LM30_down32_annotationAsScoreVolume/score_volumes/LM30_down32_annotationAsScoreVolume_Pn_R_surround_200.bp'.\n",
      "Gradient RMC_L: 0.051585 seconds\n"
     ]
    },
    {
     "name": "stdout",
     "output_type": "stream",
     "text": [
      "RMC_L\n",
      "aws s3 cp \"/shared/CSHL_volumes/LM30/LM30_down32_annotationAsScoreVolume/score_volume_gradients/LM30_down32_annotationAsScoreVolume_RMC_L_gx.bp\" \"s3://mousebrainatlas-data/CSHL_volumes/LM30/LM30_down32_annotationAsScoreVolume/score_volume_gradients/LM30_down32_annotationAsScoreVolume_RMC_L_gx.bp\"\n",
      "aws s3 cp \"/shared/CSHL_volumes/LM30/LM30_down32_annotationAsScoreVolume/score_volume_gradients/LM30_down32_annotationAsScoreVolume_RMC_L_gy.bp\" \"s3://mousebrainatlas-data/CSHL_volumes/LM30/LM30_down32_annotationAsScoreVolume/score_volume_gradients/LM30_down32_annotationAsScoreVolume_RMC_L_gy.bp\"\n",
      "aws s3 cp \"/shared/CSHL_volumes/LM30/LM30_down32_annotationAsScoreVolume/score_volume_gradients/LM30_down32_annotationAsScoreVolume_RMC_L_gz.bp\" \"s3://mousebrainatlas-data/CSHL_volumes/LM30/LM30_down32_annotationAsScoreVolume/score_volume_gradients/LM30_down32_annotationAsScoreVolume_RMC_L_gz.bp\"\n"
     ]
    },
    {
     "name": "stderr",
     "output_type": "stream",
     "text": [
      "save RMC_L: 1.321934 seconds\n",
      "Gradient RMC_L_surround_200: 0.052174 seconds\n"
     ]
    },
    {
     "name": "stdout",
     "output_type": "stream",
     "text": [
      "RMC_L_surround_200\n",
      "aws s3 cp \"/shared/CSHL_volumes/LM30/LM30_down32_annotationAsScoreVolume/score_volume_gradients/LM30_down32_annotationAsScoreVolume_RMC_L_surround_200_gx.bp\" \"s3://mousebrainatlas-data/CSHL_volumes/LM30/LM30_down32_annotationAsScoreVolume/score_volume_gradients/LM30_down32_annotationAsScoreVolume_RMC_L_surround_200_gx.bp\"\n",
      "aws s3 cp \"/shared/CSHL_volumes/LM30/LM30_down32_annotationAsScoreVolume/score_volume_gradients/LM30_down32_annotationAsScoreVolume_RMC_L_surround_200_gy.bp\" \"s3://mousebrainatlas-data/CSHL_volumes/LM30/LM30_down32_annotationAsScoreVolume/score_volume_gradients/LM30_down32_annotationAsScoreVolume_RMC_L_surround_200_gy.bp\"\n",
      "aws s3 cp \"/shared/CSHL_volumes/LM30/LM30_down32_annotationAsScoreVolume/score_volume_gradients/LM30_down32_annotationAsScoreVolume_RMC_L_surround_200_gz.bp\" \"s3://mousebrainatlas-data/CSHL_volumes/LM30/LM30_down32_annotationAsScoreVolume/score_volume_gradients/LM30_down32_annotationAsScoreVolume_RMC_L_surround_200_gz.bp\"\n"
     ]
    },
    {
     "name": "stderr",
     "output_type": "stream",
     "text": [
      "save RMC_L_surround_200: 1.391554 seconds\n"
     ]
    },
    {
     "name": "stdout",
     "output_type": "stream",
     "text": [
      "RMC_R\n",
      "rm -rf \"/shared/CSHL_volumes/LM30/LM30_down32_annotationAsScoreVolume/score_volumes/LM30_down32_annotationAsScoreVolume_RMC_R.bp\" && mkdir -p \"/shared/CSHL_volumes/LM30/LM30_down32_annotationAsScoreVolume/score_volumes\"\n",
      "aws s3 cp \"s3://mousebrainatlas-data/CSHL_volumes/LM30/LM30_down32_annotationAsScoreVolume/score_volumes/LM30_down32_annotationAsScoreVolume_RMC_R.bp\" \"/shared/CSHL_volumes/LM30/LM30_down32_annotationAsScoreVolume/score_volumes/LM30_down32_annotationAsScoreVolume_RMC_R.bp\"\n"
     ]
    },
    {
     "name": "stderr",
     "output_type": "stream",
     "text": [
      "File does not exist: /shared/CSHL_volumes/LM30/LM30_down32_annotationAsScoreVolume/score_volumes/LM30_down32_annotationAsScoreVolume_RMC_R.bp\n",
      "Error computing gradient for RMC_R: [Errno 2] No such file or directory: '/shared/CSHL_volumes/LM30/LM30_down32_annotationAsScoreVolume/score_volumes/LM30_down32_annotationAsScoreVolume_RMC_R.bp'.\n"
     ]
    },
    {
     "name": "stdout",
     "output_type": "stream",
     "text": [
      "RMC_R_surround_200\n",
      "rm -rf \"/shared/CSHL_volumes/LM30/LM30_down32_annotationAsScoreVolume/score_volumes/LM30_down32_annotationAsScoreVolume_RMC_R_surround_200.bp\" && mkdir -p \"/shared/CSHL_volumes/LM30/LM30_down32_annotationAsScoreVolume/score_volumes\"\n",
      "aws s3 cp \"s3://mousebrainatlas-data/CSHL_volumes/LM30/LM30_down32_annotationAsScoreVolume/score_volumes/LM30_down32_annotationAsScoreVolume_RMC_R_surround_200.bp\" \"/shared/CSHL_volumes/LM30/LM30_down32_annotationAsScoreVolume/score_volumes/LM30_down32_annotationAsScoreVolume_RMC_R_surround_200.bp\"\n"
     ]
    },
    {
     "name": "stderr",
     "output_type": "stream",
     "text": [
      "File does not exist: /shared/CSHL_volumes/LM30/LM30_down32_annotationAsScoreVolume/score_volumes/LM30_down32_annotationAsScoreVolume_RMC_R_surround_200.bp\n",
      "Error computing gradient for RMC_R_surround_200: [Errno 2] No such file or directory: '/shared/CSHL_volumes/LM30/LM30_down32_annotationAsScoreVolume/score_volumes/LM30_down32_annotationAsScoreVolume_RMC_R_surround_200.bp'.\n"
     ]
    },
    {
     "name": "stdout",
     "output_type": "stream",
     "text": [
      "RtTg\n",
      "rm -rf \"/shared/CSHL_volumes/LM30/LM30_down32_annotationAsScoreVolume/score_volumes/LM30_down32_annotationAsScoreVolume_RtTg.bp\" && mkdir -p \"/shared/CSHL_volumes/LM30/LM30_down32_annotationAsScoreVolume/score_volumes\"\n",
      "aws s3 cp \"s3://mousebrainatlas-data/CSHL_volumes/LM30/LM30_down32_annotationAsScoreVolume/score_volumes/LM30_down32_annotationAsScoreVolume_RtTg.bp\" \"/shared/CSHL_volumes/LM30/LM30_down32_annotationAsScoreVolume/score_volumes/LM30_down32_annotationAsScoreVolume_RtTg.bp\"\n"
     ]
    },
    {
     "name": "stderr",
     "output_type": "stream",
     "text": [
      "File does not exist: /shared/CSHL_volumes/LM30/LM30_down32_annotationAsScoreVolume/score_volumes/LM30_down32_annotationAsScoreVolume_RtTg.bp\n",
      "Error computing gradient for RtTg: [Errno 2] No such file or directory: '/shared/CSHL_volumes/LM30/LM30_down32_annotationAsScoreVolume/score_volumes/LM30_down32_annotationAsScoreVolume_RtTg.bp'.\n"
     ]
    },
    {
     "name": "stdout",
     "output_type": "stream",
     "text": [
      "RtTg_surround_200\n",
      "rm -rf \"/shared/CSHL_volumes/LM30/LM30_down32_annotationAsScoreVolume/score_volumes/LM30_down32_annotationAsScoreVolume_RtTg_surround_200.bp\" && mkdir -p \"/shared/CSHL_volumes/LM30/LM30_down32_annotationAsScoreVolume/score_volumes\"\n",
      "aws s3 cp \"s3://mousebrainatlas-data/CSHL_volumes/LM30/LM30_down32_annotationAsScoreVolume/score_volumes/LM30_down32_annotationAsScoreVolume_RtTg_surround_200.bp\" \"/shared/CSHL_volumes/LM30/LM30_down32_annotationAsScoreVolume/score_volumes/LM30_down32_annotationAsScoreVolume_RtTg_surround_200.bp\"\n"
     ]
    },
    {
     "name": "stderr",
     "output_type": "stream",
     "text": [
      "File does not exist: /shared/CSHL_volumes/LM30/LM30_down32_annotationAsScoreVolume/score_volumes/LM30_down32_annotationAsScoreVolume_RtTg_surround_200.bp\n",
      "Error computing gradient for RtTg_surround_200: [Errno 2] No such file or directory: '/shared/CSHL_volumes/LM30/LM30_down32_annotationAsScoreVolume/score_volumes/LM30_down32_annotationAsScoreVolume_RtTg_surround_200.bp'.\n"
     ]
    },
    {
     "name": "stdout",
     "output_type": "stream",
     "text": [
      "SC\n",
      "rm -rf \"/shared/CSHL_volumes/LM30/LM30_down32_annotationAsScoreVolume/score_volumes/LM30_down32_annotationAsScoreVolume_SC.bp\" && mkdir -p \"/shared/CSHL_volumes/LM30/LM30_down32_annotationAsScoreVolume/score_volumes\"\n",
      "aws s3 cp \"s3://mousebrainatlas-data/CSHL_volumes/LM30/LM30_down32_annotationAsScoreVolume/score_volumes/LM30_down32_annotationAsScoreVolume_SC.bp\" \"/shared/CSHL_volumes/LM30/LM30_down32_annotationAsScoreVolume/score_volumes/LM30_down32_annotationAsScoreVolume_SC.bp\"\n"
     ]
    },
    {
     "name": "stderr",
     "output_type": "stream",
     "text": [
      "File does not exist: /shared/CSHL_volumes/LM30/LM30_down32_annotationAsScoreVolume/score_volumes/LM30_down32_annotationAsScoreVolume_SC.bp\n",
      "Error computing gradient for SC: [Errno 2] No such file or directory: '/shared/CSHL_volumes/LM30/LM30_down32_annotationAsScoreVolume/score_volumes/LM30_down32_annotationAsScoreVolume_SC.bp'.\n"
     ]
    },
    {
     "name": "stdout",
     "output_type": "stream",
     "text": [
      "SC_surround_200\n",
      "rm -rf \"/shared/CSHL_volumes/LM30/LM30_down32_annotationAsScoreVolume/score_volumes/LM30_down32_annotationAsScoreVolume_SC_surround_200.bp\" && mkdir -p \"/shared/CSHL_volumes/LM30/LM30_down32_annotationAsScoreVolume/score_volumes\"\n",
      "aws s3 cp \"s3://mousebrainatlas-data/CSHL_volumes/LM30/LM30_down32_annotationAsScoreVolume/score_volumes/LM30_down32_annotationAsScoreVolume_SC_surround_200.bp\" \"/shared/CSHL_volumes/LM30/LM30_down32_annotationAsScoreVolume/score_volumes/LM30_down32_annotationAsScoreVolume_SC_surround_200.bp\"\n"
     ]
    },
    {
     "name": "stderr",
     "output_type": "stream",
     "text": [
      "File does not exist: /shared/CSHL_volumes/LM30/LM30_down32_annotationAsScoreVolume/score_volumes/LM30_down32_annotationAsScoreVolume_SC_surround_200.bp\n",
      "Error computing gradient for SC_surround_200: [Errno 2] No such file or directory: '/shared/CSHL_volumes/LM30/LM30_down32_annotationAsScoreVolume/score_volumes/LM30_down32_annotationAsScoreVolume_SC_surround_200.bp'.\n"
     ]
    },
    {
     "name": "stdout",
     "output_type": "stream",
     "text": [
      "SNC_L\n",
      "rm -rf \"/shared/CSHL_volumes/LM30/LM30_down32_annotationAsScoreVolume/score_volumes/LM30_down32_annotationAsScoreVolume_SNC_L.bp\" && mkdir -p \"/shared/CSHL_volumes/LM30/LM30_down32_annotationAsScoreVolume/score_volumes\"\n",
      "aws s3 cp \"s3://mousebrainatlas-data/CSHL_volumes/LM30/LM30_down32_annotationAsScoreVolume/score_volumes/LM30_down32_annotationAsScoreVolume_SNC_L.bp\" \"/shared/CSHL_volumes/LM30/LM30_down32_annotationAsScoreVolume/score_volumes/LM30_down32_annotationAsScoreVolume_SNC_L.bp\"\n"
     ]
    },
    {
     "name": "stderr",
     "output_type": "stream",
     "text": [
      "File does not exist: /shared/CSHL_volumes/LM30/LM30_down32_annotationAsScoreVolume/score_volumes/LM30_down32_annotationAsScoreVolume_SNC_L.bp\n",
      "Error computing gradient for SNC_L: [Errno 2] No such file or directory: '/shared/CSHL_volumes/LM30/LM30_down32_annotationAsScoreVolume/score_volumes/LM30_down32_annotationAsScoreVolume_SNC_L.bp'.\n"
     ]
    },
    {
     "name": "stdout",
     "output_type": "stream",
     "text": [
      "SNC_L_surround_200\n",
      "rm -rf \"/shared/CSHL_volumes/LM30/LM30_down32_annotationAsScoreVolume/score_volumes/LM30_down32_annotationAsScoreVolume_SNC_L_surround_200.bp\" && mkdir -p \"/shared/CSHL_volumes/LM30/LM30_down32_annotationAsScoreVolume/score_volumes\"\n",
      "aws s3 cp \"s3://mousebrainatlas-data/CSHL_volumes/LM30/LM30_down32_annotationAsScoreVolume/score_volumes/LM30_down32_annotationAsScoreVolume_SNC_L_surround_200.bp\" \"/shared/CSHL_volumes/LM30/LM30_down32_annotationAsScoreVolume/score_volumes/LM30_down32_annotationAsScoreVolume_SNC_L_surround_200.bp\"\n"
     ]
    },
    {
     "name": "stderr",
     "output_type": "stream",
     "text": [
      "File does not exist: /shared/CSHL_volumes/LM30/LM30_down32_annotationAsScoreVolume/score_volumes/LM30_down32_annotationAsScoreVolume_SNC_L_surround_200.bp\n",
      "Error computing gradient for SNC_L_surround_200: [Errno 2] No such file or directory: '/shared/CSHL_volumes/LM30/LM30_down32_annotationAsScoreVolume/score_volumes/LM30_down32_annotationAsScoreVolume_SNC_L_surround_200.bp'.\n"
     ]
    },
    {
     "name": "stdout",
     "output_type": "stream",
     "text": [
      "SNC_R\n",
      "rm -rf \"/shared/CSHL_volumes/LM30/LM30_down32_annotationAsScoreVolume/score_volumes/LM30_down32_annotationAsScoreVolume_SNC_R.bp\" && mkdir -p \"/shared/CSHL_volumes/LM30/LM30_down32_annotationAsScoreVolume/score_volumes\"\n",
      "aws s3 cp \"s3://mousebrainatlas-data/CSHL_volumes/LM30/LM30_down32_annotationAsScoreVolume/score_volumes/LM30_down32_annotationAsScoreVolume_SNC_R.bp\" \"/shared/CSHL_volumes/LM30/LM30_down32_annotationAsScoreVolume/score_volumes/LM30_down32_annotationAsScoreVolume_SNC_R.bp\"\n"
     ]
    },
    {
     "name": "stderr",
     "output_type": "stream",
     "text": [
      "File does not exist: /shared/CSHL_volumes/LM30/LM30_down32_annotationAsScoreVolume/score_volumes/LM30_down32_annotationAsScoreVolume_SNC_R.bp\n",
      "Error computing gradient for SNC_R: [Errno 2] No such file or directory: '/shared/CSHL_volumes/LM30/LM30_down32_annotationAsScoreVolume/score_volumes/LM30_down32_annotationAsScoreVolume_SNC_R.bp'.\n"
     ]
    },
    {
     "name": "stdout",
     "output_type": "stream",
     "text": [
      "SNC_R_surround_200\n",
      "rm -rf \"/shared/CSHL_volumes/LM30/LM30_down32_annotationAsScoreVolume/score_volumes/LM30_down32_annotationAsScoreVolume_SNC_R_surround_200.bp\" && mkdir -p \"/shared/CSHL_volumes/LM30/LM30_down32_annotationAsScoreVolume/score_volumes\"\n",
      "aws s3 cp \"s3://mousebrainatlas-data/CSHL_volumes/LM30/LM30_down32_annotationAsScoreVolume/score_volumes/LM30_down32_annotationAsScoreVolume_SNC_R_surround_200.bp\" \"/shared/CSHL_volumes/LM30/LM30_down32_annotationAsScoreVolume/score_volumes/LM30_down32_annotationAsScoreVolume_SNC_R_surround_200.bp\"\n"
     ]
    },
    {
     "name": "stderr",
     "output_type": "stream",
     "text": [
      "File does not exist: /shared/CSHL_volumes/LM30/LM30_down32_annotationAsScoreVolume/score_volumes/LM30_down32_annotationAsScoreVolume_SNC_R_surround_200.bp\n",
      "Error computing gradient for SNC_R_surround_200: [Errno 2] No such file or directory: '/shared/CSHL_volumes/LM30/LM30_down32_annotationAsScoreVolume/score_volumes/LM30_down32_annotationAsScoreVolume_SNC_R_surround_200.bp'.\n",
      "Gradient SNR_L: 0.051620 seconds\n"
     ]
    },
    {
     "name": "stdout",
     "output_type": "stream",
     "text": [
      "SNR_L\n",
      "aws s3 cp \"/shared/CSHL_volumes/LM30/LM30_down32_annotationAsScoreVolume/score_volume_gradients/LM30_down32_annotationAsScoreVolume_SNR_L_gx.bp\" \"s3://mousebrainatlas-data/CSHL_volumes/LM30/LM30_down32_annotationAsScoreVolume/score_volume_gradients/LM30_down32_annotationAsScoreVolume_SNR_L_gx.bp\"\n",
      "aws s3 cp \"/shared/CSHL_volumes/LM30/LM30_down32_annotationAsScoreVolume/score_volume_gradients/LM30_down32_annotationAsScoreVolume_SNR_L_gy.bp\" \"s3://mousebrainatlas-data/CSHL_volumes/LM30/LM30_down32_annotationAsScoreVolume/score_volume_gradients/LM30_down32_annotationAsScoreVolume_SNR_L_gy.bp\"\n",
      "aws s3 cp \"/shared/CSHL_volumes/LM30/LM30_down32_annotationAsScoreVolume/score_volume_gradients/LM30_down32_annotationAsScoreVolume_SNR_L_gz.bp\" \"s3://mousebrainatlas-data/CSHL_volumes/LM30/LM30_down32_annotationAsScoreVolume/score_volume_gradients/LM30_down32_annotationAsScoreVolume_SNR_L_gz.bp\"\n"
     ]
    },
    {
     "name": "stderr",
     "output_type": "stream",
     "text": [
      "save SNR_L: 1.281315 seconds\n",
      "Gradient SNR_L_surround_200: 0.052328 seconds\n"
     ]
    },
    {
     "name": "stdout",
     "output_type": "stream",
     "text": [
      "SNR_L_surround_200\n",
      "aws s3 cp \"/shared/CSHL_volumes/LM30/LM30_down32_annotationAsScoreVolume/score_volume_gradients/LM30_down32_annotationAsScoreVolume_SNR_L_surround_200_gx.bp\" \"s3://mousebrainatlas-data/CSHL_volumes/LM30/LM30_down32_annotationAsScoreVolume/score_volume_gradients/LM30_down32_annotationAsScoreVolume_SNR_L_surround_200_gx.bp\"\n",
      "aws s3 cp \"/shared/CSHL_volumes/LM30/LM30_down32_annotationAsScoreVolume/score_volume_gradients/LM30_down32_annotationAsScoreVolume_SNR_L_surround_200_gy.bp\" \"s3://mousebrainatlas-data/CSHL_volumes/LM30/LM30_down32_annotationAsScoreVolume/score_volume_gradients/LM30_down32_annotationAsScoreVolume_SNR_L_surround_200_gy.bp\"\n",
      "aws s3 cp \"/shared/CSHL_volumes/LM30/LM30_down32_annotationAsScoreVolume/score_volume_gradients/LM30_down32_annotationAsScoreVolume_SNR_L_surround_200_gz.bp\" \"s3://mousebrainatlas-data/CSHL_volumes/LM30/LM30_down32_annotationAsScoreVolume/score_volume_gradients/LM30_down32_annotationAsScoreVolume_SNR_L_surround_200_gz.bp\"\n"
     ]
    },
    {
     "name": "stderr",
     "output_type": "stream",
     "text": [
      "save SNR_L_surround_200: 1.463727 seconds\n"
     ]
    },
    {
     "name": "stdout",
     "output_type": "stream",
     "text": [
      "SNR_R\n",
      "rm -rf \"/shared/CSHL_volumes/LM30/LM30_down32_annotationAsScoreVolume/score_volumes/LM30_down32_annotationAsScoreVolume_SNR_R.bp\" && mkdir -p \"/shared/CSHL_volumes/LM30/LM30_down32_annotationAsScoreVolume/score_volumes\"\n",
      "aws s3 cp \"s3://mousebrainatlas-data/CSHL_volumes/LM30/LM30_down32_annotationAsScoreVolume/score_volumes/LM30_down32_annotationAsScoreVolume_SNR_R.bp\" \"/shared/CSHL_volumes/LM30/LM30_down32_annotationAsScoreVolume/score_volumes/LM30_down32_annotationAsScoreVolume_SNR_R.bp\"\n"
     ]
    },
    {
     "name": "stderr",
     "output_type": "stream",
     "text": [
      "File does not exist: /shared/CSHL_volumes/LM30/LM30_down32_annotationAsScoreVolume/score_volumes/LM30_down32_annotationAsScoreVolume_SNR_R.bp\n",
      "Error computing gradient for SNR_R: [Errno 2] No such file or directory: '/shared/CSHL_volumes/LM30/LM30_down32_annotationAsScoreVolume/score_volumes/LM30_down32_annotationAsScoreVolume_SNR_R.bp'.\n"
     ]
    },
    {
     "name": "stdout",
     "output_type": "stream",
     "text": [
      "SNR_R_surround_200\n",
      "rm -rf \"/shared/CSHL_volumes/LM30/LM30_down32_annotationAsScoreVolume/score_volumes/LM30_down32_annotationAsScoreVolume_SNR_R_surround_200.bp\" && mkdir -p \"/shared/CSHL_volumes/LM30/LM30_down32_annotationAsScoreVolume/score_volumes\"\n",
      "aws s3 cp \"s3://mousebrainatlas-data/CSHL_volumes/LM30/LM30_down32_annotationAsScoreVolume/score_volumes/LM30_down32_annotationAsScoreVolume_SNR_R_surround_200.bp\" \"/shared/CSHL_volumes/LM30/LM30_down32_annotationAsScoreVolume/score_volumes/LM30_down32_annotationAsScoreVolume_SNR_R_surround_200.bp\"\n"
     ]
    },
    {
     "name": "stderr",
     "output_type": "stream",
     "text": [
      "File does not exist: /shared/CSHL_volumes/LM30/LM30_down32_annotationAsScoreVolume/score_volumes/LM30_down32_annotationAsScoreVolume_SNR_R_surround_200.bp\n",
      "Error computing gradient for SNR_R_surround_200: [Errno 2] No such file or directory: '/shared/CSHL_volumes/LM30/LM30_down32_annotationAsScoreVolume/score_volumes/LM30_down32_annotationAsScoreVolume_SNR_R_surround_200.bp'.\n"
     ]
    },
    {
     "name": "stdout",
     "output_type": "stream",
     "text": [
      "Sp5C_L\n",
      "rm -rf \"/shared/CSHL_volumes/LM30/LM30_down32_annotationAsScoreVolume/score_volumes/LM30_down32_annotationAsScoreVolume_Sp5C_L.bp\" && mkdir -p \"/shared/CSHL_volumes/LM30/LM30_down32_annotationAsScoreVolume/score_volumes\"\n",
      "aws s3 cp \"s3://mousebrainatlas-data/CSHL_volumes/LM30/LM30_down32_annotationAsScoreVolume/score_volumes/LM30_down32_annotationAsScoreVolume_Sp5C_L.bp\" \"/shared/CSHL_volumes/LM30/LM30_down32_annotationAsScoreVolume/score_volumes/LM30_down32_annotationAsScoreVolume_Sp5C_L.bp\"\n"
     ]
    },
    {
     "name": "stderr",
     "output_type": "stream",
     "text": [
      "File does not exist: /shared/CSHL_volumes/LM30/LM30_down32_annotationAsScoreVolume/score_volumes/LM30_down32_annotationAsScoreVolume_Sp5C_L.bp\n",
      "Error computing gradient for Sp5C_L: [Errno 2] No such file or directory: '/shared/CSHL_volumes/LM30/LM30_down32_annotationAsScoreVolume/score_volumes/LM30_down32_annotationAsScoreVolume_Sp5C_L.bp'.\n"
     ]
    },
    {
     "name": "stdout",
     "output_type": "stream",
     "text": [
      "Sp5C_L_surround_200\n",
      "rm -rf \"/shared/CSHL_volumes/LM30/LM30_down32_annotationAsScoreVolume/score_volumes/LM30_down32_annotationAsScoreVolume_Sp5C_L_surround_200.bp\" && mkdir -p \"/shared/CSHL_volumes/LM30/LM30_down32_annotationAsScoreVolume/score_volumes\"\n",
      "aws s3 cp \"s3://mousebrainatlas-data/CSHL_volumes/LM30/LM30_down32_annotationAsScoreVolume/score_volumes/LM30_down32_annotationAsScoreVolume_Sp5C_L_surround_200.bp\" \"/shared/CSHL_volumes/LM30/LM30_down32_annotationAsScoreVolume/score_volumes/LM30_down32_annotationAsScoreVolume_Sp5C_L_surround_200.bp\"\n"
     ]
    },
    {
     "name": "stderr",
     "output_type": "stream",
     "text": [
      "File does not exist: /shared/CSHL_volumes/LM30/LM30_down32_annotationAsScoreVolume/score_volumes/LM30_down32_annotationAsScoreVolume_Sp5C_L_surround_200.bp\n",
      "Error computing gradient for Sp5C_L_surround_200: [Errno 2] No such file or directory: '/shared/CSHL_volumes/LM30/LM30_down32_annotationAsScoreVolume/score_volumes/LM30_down32_annotationAsScoreVolume_Sp5C_L_surround_200.bp'.\n"
     ]
    },
    {
     "name": "stdout",
     "output_type": "stream",
     "text": [
      "Sp5C_R\n",
      "rm -rf \"/shared/CSHL_volumes/LM30/LM30_down32_annotationAsScoreVolume/score_volumes/LM30_down32_annotationAsScoreVolume_Sp5C_R.bp\" && mkdir -p \"/shared/CSHL_volumes/LM30/LM30_down32_annotationAsScoreVolume/score_volumes\"\n",
      "aws s3 cp \"s3://mousebrainatlas-data/CSHL_volumes/LM30/LM30_down32_annotationAsScoreVolume/score_volumes/LM30_down32_annotationAsScoreVolume_Sp5C_R.bp\" \"/shared/CSHL_volumes/LM30/LM30_down32_annotationAsScoreVolume/score_volumes/LM30_down32_annotationAsScoreVolume_Sp5C_R.bp\"\n"
     ]
    },
    {
     "name": "stderr",
     "output_type": "stream",
     "text": [
      "File does not exist: /shared/CSHL_volumes/LM30/LM30_down32_annotationAsScoreVolume/score_volumes/LM30_down32_annotationAsScoreVolume_Sp5C_R.bp\n",
      "Error computing gradient for Sp5C_R: [Errno 2] No such file or directory: '/shared/CSHL_volumes/LM30/LM30_down32_annotationAsScoreVolume/score_volumes/LM30_down32_annotationAsScoreVolume_Sp5C_R.bp'.\n"
     ]
    },
    {
     "name": "stdout",
     "output_type": "stream",
     "text": [
      "Sp5C_R_surround_200\n",
      "rm -rf \"/shared/CSHL_volumes/LM30/LM30_down32_annotationAsScoreVolume/score_volumes/LM30_down32_annotationAsScoreVolume_Sp5C_R_surround_200.bp\" && mkdir -p \"/shared/CSHL_volumes/LM30/LM30_down32_annotationAsScoreVolume/score_volumes\"\n",
      "aws s3 cp \"s3://mousebrainatlas-data/CSHL_volumes/LM30/LM30_down32_annotationAsScoreVolume/score_volumes/LM30_down32_annotationAsScoreVolume_Sp5C_R_surround_200.bp\" \"/shared/CSHL_volumes/LM30/LM30_down32_annotationAsScoreVolume/score_volumes/LM30_down32_annotationAsScoreVolume_Sp5C_R_surround_200.bp\"\n"
     ]
    },
    {
     "name": "stderr",
     "output_type": "stream",
     "text": [
      "File does not exist: /shared/CSHL_volumes/LM30/LM30_down32_annotationAsScoreVolume/score_volumes/LM30_down32_annotationAsScoreVolume_Sp5C_R_surround_200.bp\n",
      "Error computing gradient for Sp5C_R_surround_200: [Errno 2] No such file or directory: '/shared/CSHL_volumes/LM30/LM30_down32_annotationAsScoreVolume/score_volumes/LM30_down32_annotationAsScoreVolume_Sp5C_R_surround_200.bp'.\n"
     ]
    },
    {
     "name": "stdout",
     "output_type": "stream",
     "text": [
      "Sp5I_L\n",
      "rm -rf \"/shared/CSHL_volumes/LM30/LM30_down32_annotationAsScoreVolume/score_volumes/LM30_down32_annotationAsScoreVolume_Sp5I_L.bp\" && mkdir -p \"/shared/CSHL_volumes/LM30/LM30_down32_annotationAsScoreVolume/score_volumes\"\n",
      "aws s3 cp \"s3://mousebrainatlas-data/CSHL_volumes/LM30/LM30_down32_annotationAsScoreVolume/score_volumes/LM30_down32_annotationAsScoreVolume_Sp5I_L.bp\" \"/shared/CSHL_volumes/LM30/LM30_down32_annotationAsScoreVolume/score_volumes/LM30_down32_annotationAsScoreVolume_Sp5I_L.bp\"\n"
     ]
    },
    {
     "name": "stderr",
     "output_type": "stream",
     "text": [
      "File does not exist: /shared/CSHL_volumes/LM30/LM30_down32_annotationAsScoreVolume/score_volumes/LM30_down32_annotationAsScoreVolume_Sp5I_L.bp\n",
      "Error computing gradient for Sp5I_L: [Errno 2] No such file or directory: '/shared/CSHL_volumes/LM30/LM30_down32_annotationAsScoreVolume/score_volumes/LM30_down32_annotationAsScoreVolume_Sp5I_L.bp'.\n"
     ]
    },
    {
     "name": "stdout",
     "output_type": "stream",
     "text": [
      "Sp5I_L_surround_200\n",
      "rm -rf \"/shared/CSHL_volumes/LM30/LM30_down32_annotationAsScoreVolume/score_volumes/LM30_down32_annotationAsScoreVolume_Sp5I_L_surround_200.bp\" && mkdir -p \"/shared/CSHL_volumes/LM30/LM30_down32_annotationAsScoreVolume/score_volumes\"\n",
      "aws s3 cp \"s3://mousebrainatlas-data/CSHL_volumes/LM30/LM30_down32_annotationAsScoreVolume/score_volumes/LM30_down32_annotationAsScoreVolume_Sp5I_L_surround_200.bp\" \"/shared/CSHL_volumes/LM30/LM30_down32_annotationAsScoreVolume/score_volumes/LM30_down32_annotationAsScoreVolume_Sp5I_L_surround_200.bp\"\n"
     ]
    },
    {
     "name": "stderr",
     "output_type": "stream",
     "text": [
      "File does not exist: /shared/CSHL_volumes/LM30/LM30_down32_annotationAsScoreVolume/score_volumes/LM30_down32_annotationAsScoreVolume_Sp5I_L_surround_200.bp\n",
      "Error computing gradient for Sp5I_L_surround_200: [Errno 2] No such file or directory: '/shared/CSHL_volumes/LM30/LM30_down32_annotationAsScoreVolume/score_volumes/LM30_down32_annotationAsScoreVolume_Sp5I_L_surround_200.bp'.\n"
     ]
    },
    {
     "name": "stdout",
     "output_type": "stream",
     "text": [
      "Sp5I_R\n",
      "rm -rf \"/shared/CSHL_volumes/LM30/LM30_down32_annotationAsScoreVolume/score_volumes/LM30_down32_annotationAsScoreVolume_Sp5I_R.bp\" && mkdir -p \"/shared/CSHL_volumes/LM30/LM30_down32_annotationAsScoreVolume/score_volumes\"\n",
      "aws s3 cp \"s3://mousebrainatlas-data/CSHL_volumes/LM30/LM30_down32_annotationAsScoreVolume/score_volumes/LM30_down32_annotationAsScoreVolume_Sp5I_R.bp\" \"/shared/CSHL_volumes/LM30/LM30_down32_annotationAsScoreVolume/score_volumes/LM30_down32_annotationAsScoreVolume_Sp5I_R.bp\"\n"
     ]
    },
    {
     "name": "stderr",
     "output_type": "stream",
     "text": [
      "File does not exist: /shared/CSHL_volumes/LM30/LM30_down32_annotationAsScoreVolume/score_volumes/LM30_down32_annotationAsScoreVolume_Sp5I_R.bp\n",
      "Error computing gradient for Sp5I_R: [Errno 2] No such file or directory: '/shared/CSHL_volumes/LM30/LM30_down32_annotationAsScoreVolume/score_volumes/LM30_down32_annotationAsScoreVolume_Sp5I_R.bp'.\n"
     ]
    },
    {
     "name": "stdout",
     "output_type": "stream",
     "text": [
      "Sp5I_R_surround_200\n",
      "rm -rf \"/shared/CSHL_volumes/LM30/LM30_down32_annotationAsScoreVolume/score_volumes/LM30_down32_annotationAsScoreVolume_Sp5I_R_surround_200.bp\" && mkdir -p \"/shared/CSHL_volumes/LM30/LM30_down32_annotationAsScoreVolume/score_volumes\"\n",
      "aws s3 cp \"s3://mousebrainatlas-data/CSHL_volumes/LM30/LM30_down32_annotationAsScoreVolume/score_volumes/LM30_down32_annotationAsScoreVolume_Sp5I_R_surround_200.bp\" \"/shared/CSHL_volumes/LM30/LM30_down32_annotationAsScoreVolume/score_volumes/LM30_down32_annotationAsScoreVolume_Sp5I_R_surround_200.bp\"\n"
     ]
    },
    {
     "name": "stderr",
     "output_type": "stream",
     "text": [
      "File does not exist: /shared/CSHL_volumes/LM30/LM30_down32_annotationAsScoreVolume/score_volumes/LM30_down32_annotationAsScoreVolume_Sp5I_R_surround_200.bp\n",
      "Error computing gradient for Sp5I_R_surround_200: [Errno 2] No such file or directory: '/shared/CSHL_volumes/LM30/LM30_down32_annotationAsScoreVolume/score_volumes/LM30_down32_annotationAsScoreVolume_Sp5I_R_surround_200.bp'.\n"
     ]
    },
    {
     "name": "stdout",
     "output_type": "stream",
     "text": [
      "Sp5O_L\n",
      "rm -rf \"/shared/CSHL_volumes/LM30/LM30_down32_annotationAsScoreVolume/score_volumes/LM30_down32_annotationAsScoreVolume_Sp5O_L.bp\" && mkdir -p \"/shared/CSHL_volumes/LM30/LM30_down32_annotationAsScoreVolume/score_volumes\"\n",
      "aws s3 cp \"s3://mousebrainatlas-data/CSHL_volumes/LM30/LM30_down32_annotationAsScoreVolume/score_volumes/LM30_down32_annotationAsScoreVolume_Sp5O_L.bp\" \"/shared/CSHL_volumes/LM30/LM30_down32_annotationAsScoreVolume/score_volumes/LM30_down32_annotationAsScoreVolume_Sp5O_L.bp\"\n"
     ]
    },
    {
     "name": "stderr",
     "output_type": "stream",
     "text": [
      "File does not exist: /shared/CSHL_volumes/LM30/LM30_down32_annotationAsScoreVolume/score_volumes/LM30_down32_annotationAsScoreVolume_Sp5O_L.bp\n",
      "Error computing gradient for Sp5O_L: [Errno 2] No such file or directory: '/shared/CSHL_volumes/LM30/LM30_down32_annotationAsScoreVolume/score_volumes/LM30_down32_annotationAsScoreVolume_Sp5O_L.bp'.\n"
     ]
    },
    {
     "name": "stdout",
     "output_type": "stream",
     "text": [
      "Sp5O_L_surround_200\n",
      "rm -rf \"/shared/CSHL_volumes/LM30/LM30_down32_annotationAsScoreVolume/score_volumes/LM30_down32_annotationAsScoreVolume_Sp5O_L_surround_200.bp\" && mkdir -p \"/shared/CSHL_volumes/LM30/LM30_down32_annotationAsScoreVolume/score_volumes\"\n",
      "aws s3 cp \"s3://mousebrainatlas-data/CSHL_volumes/LM30/LM30_down32_annotationAsScoreVolume/score_volumes/LM30_down32_annotationAsScoreVolume_Sp5O_L_surround_200.bp\" \"/shared/CSHL_volumes/LM30/LM30_down32_annotationAsScoreVolume/score_volumes/LM30_down32_annotationAsScoreVolume_Sp5O_L_surround_200.bp\"\n"
     ]
    },
    {
     "name": "stderr",
     "output_type": "stream",
     "text": [
      "File does not exist: /shared/CSHL_volumes/LM30/LM30_down32_annotationAsScoreVolume/score_volumes/LM30_down32_annotationAsScoreVolume_Sp5O_L_surround_200.bp\n",
      "Error computing gradient for Sp5O_L_surround_200: [Errno 2] No such file or directory: '/shared/CSHL_volumes/LM30/LM30_down32_annotationAsScoreVolume/score_volumes/LM30_down32_annotationAsScoreVolume_Sp5O_L_surround_200.bp'.\n"
     ]
    },
    {
     "name": "stdout",
     "output_type": "stream",
     "text": [
      "Sp5O_R\n",
      "rm -rf \"/shared/CSHL_volumes/LM30/LM30_down32_annotationAsScoreVolume/score_volumes/LM30_down32_annotationAsScoreVolume_Sp5O_R.bp\" && mkdir -p \"/shared/CSHL_volumes/LM30/LM30_down32_annotationAsScoreVolume/score_volumes\"\n",
      "aws s3 cp \"s3://mousebrainatlas-data/CSHL_volumes/LM30/LM30_down32_annotationAsScoreVolume/score_volumes/LM30_down32_annotationAsScoreVolume_Sp5O_R.bp\" \"/shared/CSHL_volumes/LM30/LM30_down32_annotationAsScoreVolume/score_volumes/LM30_down32_annotationAsScoreVolume_Sp5O_R.bp\"\n"
     ]
    },
    {
     "name": "stderr",
     "output_type": "stream",
     "text": [
      "File does not exist: /shared/CSHL_volumes/LM30/LM30_down32_annotationAsScoreVolume/score_volumes/LM30_down32_annotationAsScoreVolume_Sp5O_R.bp\n",
      "Error computing gradient for Sp5O_R: [Errno 2] No such file or directory: '/shared/CSHL_volumes/LM30/LM30_down32_annotationAsScoreVolume/score_volumes/LM30_down32_annotationAsScoreVolume_Sp5O_R.bp'.\n"
     ]
    },
    {
     "name": "stdout",
     "output_type": "stream",
     "text": [
      "Sp5O_R_surround_200\n",
      "rm -rf \"/shared/CSHL_volumes/LM30/LM30_down32_annotationAsScoreVolume/score_volumes/LM30_down32_annotationAsScoreVolume_Sp5O_R_surround_200.bp\" && mkdir -p \"/shared/CSHL_volumes/LM30/LM30_down32_annotationAsScoreVolume/score_volumes\"\n",
      "aws s3 cp \"s3://mousebrainatlas-data/CSHL_volumes/LM30/LM30_down32_annotationAsScoreVolume/score_volumes/LM30_down32_annotationAsScoreVolume_Sp5O_R_surround_200.bp\" \"/shared/CSHL_volumes/LM30/LM30_down32_annotationAsScoreVolume/score_volumes/LM30_down32_annotationAsScoreVolume_Sp5O_R_surround_200.bp\"\n"
     ]
    },
    {
     "name": "stderr",
     "output_type": "stream",
     "text": [
      "File does not exist: /shared/CSHL_volumes/LM30/LM30_down32_annotationAsScoreVolume/score_volumes/LM30_down32_annotationAsScoreVolume_Sp5O_R_surround_200.bp\n",
      "Error computing gradient for Sp5O_R_surround_200: [Errno 2] No such file or directory: '/shared/CSHL_volumes/LM30/LM30_down32_annotationAsScoreVolume/score_volumes/LM30_down32_annotationAsScoreVolume_Sp5O_R_surround_200.bp'.\n"
     ]
    },
    {
     "name": "stdout",
     "output_type": "stream",
     "text": [
      "Tz_L\n",
      "rm -rf \"/shared/CSHL_volumes/LM30/LM30_down32_annotationAsScoreVolume/score_volumes/LM30_down32_annotationAsScoreVolume_Tz_L.bp\" && mkdir -p \"/shared/CSHL_volumes/LM30/LM30_down32_annotationAsScoreVolume/score_volumes\"\n",
      "aws s3 cp \"s3://mousebrainatlas-data/CSHL_volumes/LM30/LM30_down32_annotationAsScoreVolume/score_volumes/LM30_down32_annotationAsScoreVolume_Tz_L.bp\" \"/shared/CSHL_volumes/LM30/LM30_down32_annotationAsScoreVolume/score_volumes/LM30_down32_annotationAsScoreVolume_Tz_L.bp\"\n"
     ]
    },
    {
     "name": "stderr",
     "output_type": "stream",
     "text": [
      "File does not exist: /shared/CSHL_volumes/LM30/LM30_down32_annotationAsScoreVolume/score_volumes/LM30_down32_annotationAsScoreVolume_Tz_L.bp\n",
      "Error computing gradient for Tz_L: [Errno 2] No such file or directory: '/shared/CSHL_volumes/LM30/LM30_down32_annotationAsScoreVolume/score_volumes/LM30_down32_annotationAsScoreVolume_Tz_L.bp'.\n"
     ]
    },
    {
     "name": "stdout",
     "output_type": "stream",
     "text": [
      "Tz_L_surround_200\n",
      "rm -rf \"/shared/CSHL_volumes/LM30/LM30_down32_annotationAsScoreVolume/score_volumes/LM30_down32_annotationAsScoreVolume_Tz_L_surround_200.bp\" && mkdir -p \"/shared/CSHL_volumes/LM30/LM30_down32_annotationAsScoreVolume/score_volumes\"\n",
      "aws s3 cp \"s3://mousebrainatlas-data/CSHL_volumes/LM30/LM30_down32_annotationAsScoreVolume/score_volumes/LM30_down32_annotationAsScoreVolume_Tz_L_surround_200.bp\" \"/shared/CSHL_volumes/LM30/LM30_down32_annotationAsScoreVolume/score_volumes/LM30_down32_annotationAsScoreVolume_Tz_L_surround_200.bp\"\n"
     ]
    },
    {
     "name": "stderr",
     "output_type": "stream",
     "text": [
      "File does not exist: /shared/CSHL_volumes/LM30/LM30_down32_annotationAsScoreVolume/score_volumes/LM30_down32_annotationAsScoreVolume_Tz_L_surround_200.bp\n",
      "Error computing gradient for Tz_L_surround_200: [Errno 2] No such file or directory: '/shared/CSHL_volumes/LM30/LM30_down32_annotationAsScoreVolume/score_volumes/LM30_down32_annotationAsScoreVolume_Tz_L_surround_200.bp'.\n"
     ]
    },
    {
     "name": "stdout",
     "output_type": "stream",
     "text": [
      "Tz_R\n",
      "rm -rf \"/shared/CSHL_volumes/LM30/LM30_down32_annotationAsScoreVolume/score_volumes/LM30_down32_annotationAsScoreVolume_Tz_R.bp\" && mkdir -p \"/shared/CSHL_volumes/LM30/LM30_down32_annotationAsScoreVolume/score_volumes\"\n",
      "aws s3 cp \"s3://mousebrainatlas-data/CSHL_volumes/LM30/LM30_down32_annotationAsScoreVolume/score_volumes/LM30_down32_annotationAsScoreVolume_Tz_R.bp\" \"/shared/CSHL_volumes/LM30/LM30_down32_annotationAsScoreVolume/score_volumes/LM30_down32_annotationAsScoreVolume_Tz_R.bp\"\n"
     ]
    },
    {
     "name": "stderr",
     "output_type": "stream",
     "text": [
      "File does not exist: /shared/CSHL_volumes/LM30/LM30_down32_annotationAsScoreVolume/score_volumes/LM30_down32_annotationAsScoreVolume_Tz_R.bp\n",
      "Error computing gradient for Tz_R: [Errno 2] No such file or directory: '/shared/CSHL_volumes/LM30/LM30_down32_annotationAsScoreVolume/score_volumes/LM30_down32_annotationAsScoreVolume_Tz_R.bp'.\n"
     ]
    },
    {
     "name": "stdout",
     "output_type": "stream",
     "text": [
      "Tz_R_surround_200\n",
      "rm -rf \"/shared/CSHL_volumes/LM30/LM30_down32_annotationAsScoreVolume/score_volumes/LM30_down32_annotationAsScoreVolume_Tz_R_surround_200.bp\" && mkdir -p \"/shared/CSHL_volumes/LM30/LM30_down32_annotationAsScoreVolume/score_volumes\"\n",
      "aws s3 cp \"s3://mousebrainatlas-data/CSHL_volumes/LM30/LM30_down32_annotationAsScoreVolume/score_volumes/LM30_down32_annotationAsScoreVolume_Tz_R_surround_200.bp\" \"/shared/CSHL_volumes/LM30/LM30_down32_annotationAsScoreVolume/score_volumes/LM30_down32_annotationAsScoreVolume_Tz_R_surround_200.bp\"\n"
     ]
    },
    {
     "name": "stderr",
     "output_type": "stream",
     "text": [
      "File does not exist: /shared/CSHL_volumes/LM30/LM30_down32_annotationAsScoreVolume/score_volumes/LM30_down32_annotationAsScoreVolume_Tz_R_surround_200.bp\n",
      "Error computing gradient for Tz_R_surround_200: [Errno 2] No such file or directory: '/shared/CSHL_volumes/LM30/LM30_down32_annotationAsScoreVolume/score_volumes/LM30_down32_annotationAsScoreVolume_Tz_R_surround_200.bp'.\n"
     ]
    },
    {
     "name": "stdout",
     "output_type": "stream",
     "text": [
      "VCA_L\n",
      "rm -rf \"/shared/CSHL_volumes/LM30/LM30_down32_annotationAsScoreVolume/score_volumes/LM30_down32_annotationAsScoreVolume_VCA_L.bp\" && mkdir -p \"/shared/CSHL_volumes/LM30/LM30_down32_annotationAsScoreVolume/score_volumes\"\n",
      "aws s3 cp \"s3://mousebrainatlas-data/CSHL_volumes/LM30/LM30_down32_annotationAsScoreVolume/score_volumes/LM30_down32_annotationAsScoreVolume_VCA_L.bp\" \"/shared/CSHL_volumes/LM30/LM30_down32_annotationAsScoreVolume/score_volumes/LM30_down32_annotationAsScoreVolume_VCA_L.bp\"\n"
     ]
    },
    {
     "name": "stderr",
     "output_type": "stream",
     "text": [
      "File does not exist: /shared/CSHL_volumes/LM30/LM30_down32_annotationAsScoreVolume/score_volumes/LM30_down32_annotationAsScoreVolume_VCA_L.bp\n",
      "Error computing gradient for VCA_L: [Errno 2] No such file or directory: '/shared/CSHL_volumes/LM30/LM30_down32_annotationAsScoreVolume/score_volumes/LM30_down32_annotationAsScoreVolume_VCA_L.bp'.\n"
     ]
    },
    {
     "name": "stdout",
     "output_type": "stream",
     "text": [
      "VCA_L_surround_200\n",
      "rm -rf \"/shared/CSHL_volumes/LM30/LM30_down32_annotationAsScoreVolume/score_volumes/LM30_down32_annotationAsScoreVolume_VCA_L_surround_200.bp\" && mkdir -p \"/shared/CSHL_volumes/LM30/LM30_down32_annotationAsScoreVolume/score_volumes\"\n",
      "aws s3 cp \"s3://mousebrainatlas-data/CSHL_volumes/LM30/LM30_down32_annotationAsScoreVolume/score_volumes/LM30_down32_annotationAsScoreVolume_VCA_L_surround_200.bp\" \"/shared/CSHL_volumes/LM30/LM30_down32_annotationAsScoreVolume/score_volumes/LM30_down32_annotationAsScoreVolume_VCA_L_surround_200.bp\"\n"
     ]
    },
    {
     "name": "stderr",
     "output_type": "stream",
     "text": [
      "File does not exist: /shared/CSHL_volumes/LM30/LM30_down32_annotationAsScoreVolume/score_volumes/LM30_down32_annotationAsScoreVolume_VCA_L_surround_200.bp\n",
      "Error computing gradient for VCA_L_surround_200: [Errno 2] No such file or directory: '/shared/CSHL_volumes/LM30/LM30_down32_annotationAsScoreVolume/score_volumes/LM30_down32_annotationAsScoreVolume_VCA_L_surround_200.bp'.\n"
     ]
    },
    {
     "name": "stdout",
     "output_type": "stream",
     "text": [
      "VCA_R\n",
      "rm -rf \"/shared/CSHL_volumes/LM30/LM30_down32_annotationAsScoreVolume/score_volumes/LM30_down32_annotationAsScoreVolume_VCA_R.bp\" && mkdir -p \"/shared/CSHL_volumes/LM30/LM30_down32_annotationAsScoreVolume/score_volumes\"\n",
      "aws s3 cp \"s3://mousebrainatlas-data/CSHL_volumes/LM30/LM30_down32_annotationAsScoreVolume/score_volumes/LM30_down32_annotationAsScoreVolume_VCA_R.bp\" \"/shared/CSHL_volumes/LM30/LM30_down32_annotationAsScoreVolume/score_volumes/LM30_down32_annotationAsScoreVolume_VCA_R.bp\"\n"
     ]
    },
    {
     "name": "stderr",
     "output_type": "stream",
     "text": [
      "File does not exist: /shared/CSHL_volumes/LM30/LM30_down32_annotationAsScoreVolume/score_volumes/LM30_down32_annotationAsScoreVolume_VCA_R.bp\n",
      "Error computing gradient for VCA_R: [Errno 2] No such file or directory: '/shared/CSHL_volumes/LM30/LM30_down32_annotationAsScoreVolume/score_volumes/LM30_down32_annotationAsScoreVolume_VCA_R.bp'.\n"
     ]
    },
    {
     "name": "stdout",
     "output_type": "stream",
     "text": [
      "VCA_R_surround_200\n",
      "rm -rf \"/shared/CSHL_volumes/LM30/LM30_down32_annotationAsScoreVolume/score_volumes/LM30_down32_annotationAsScoreVolume_VCA_R_surround_200.bp\" && mkdir -p \"/shared/CSHL_volumes/LM30/LM30_down32_annotationAsScoreVolume/score_volumes\"\n",
      "aws s3 cp \"s3://mousebrainatlas-data/CSHL_volumes/LM30/LM30_down32_annotationAsScoreVolume/score_volumes/LM30_down32_annotationAsScoreVolume_VCA_R_surround_200.bp\" \"/shared/CSHL_volumes/LM30/LM30_down32_annotationAsScoreVolume/score_volumes/LM30_down32_annotationAsScoreVolume_VCA_R_surround_200.bp\"\n"
     ]
    },
    {
     "name": "stderr",
     "output_type": "stream",
     "text": [
      "File does not exist: /shared/CSHL_volumes/LM30/LM30_down32_annotationAsScoreVolume/score_volumes/LM30_down32_annotationAsScoreVolume_VCA_R_surround_200.bp\n",
      "Error computing gradient for VCA_R_surround_200: [Errno 2] No such file or directory: '/shared/CSHL_volumes/LM30/LM30_down32_annotationAsScoreVolume/score_volumes/LM30_down32_annotationAsScoreVolume_VCA_R_surround_200.bp'.\n"
     ]
    },
    {
     "name": "stdout",
     "output_type": "stream",
     "text": [
      "VCP_L\n",
      "rm -rf \"/shared/CSHL_volumes/LM30/LM30_down32_annotationAsScoreVolume/score_volumes/LM30_down32_annotationAsScoreVolume_VCP_L.bp\" && mkdir -p \"/shared/CSHL_volumes/LM30/LM30_down32_annotationAsScoreVolume/score_volumes\"\n",
      "aws s3 cp \"s3://mousebrainatlas-data/CSHL_volumes/LM30/LM30_down32_annotationAsScoreVolume/score_volumes/LM30_down32_annotationAsScoreVolume_VCP_L.bp\" \"/shared/CSHL_volumes/LM30/LM30_down32_annotationAsScoreVolume/score_volumes/LM30_down32_annotationAsScoreVolume_VCP_L.bp\"\n"
     ]
    },
    {
     "name": "stderr",
     "output_type": "stream",
     "text": [
      "File does not exist: /shared/CSHL_volumes/LM30/LM30_down32_annotationAsScoreVolume/score_volumes/LM30_down32_annotationAsScoreVolume_VCP_L.bp\n",
      "Error computing gradient for VCP_L: [Errno 2] No such file or directory: '/shared/CSHL_volumes/LM30/LM30_down32_annotationAsScoreVolume/score_volumes/LM30_down32_annotationAsScoreVolume_VCP_L.bp'.\n"
     ]
    },
    {
     "name": "stdout",
     "output_type": "stream",
     "text": [
      "VCP_L_surround_200\n",
      "rm -rf \"/shared/CSHL_volumes/LM30/LM30_down32_annotationAsScoreVolume/score_volumes/LM30_down32_annotationAsScoreVolume_VCP_L_surround_200.bp\" && mkdir -p \"/shared/CSHL_volumes/LM30/LM30_down32_annotationAsScoreVolume/score_volumes\"\n",
      "aws s3 cp \"s3://mousebrainatlas-data/CSHL_volumes/LM30/LM30_down32_annotationAsScoreVolume/score_volumes/LM30_down32_annotationAsScoreVolume_VCP_L_surround_200.bp\" \"/shared/CSHL_volumes/LM30/LM30_down32_annotationAsScoreVolume/score_volumes/LM30_down32_annotationAsScoreVolume_VCP_L_surround_200.bp\"\n"
     ]
    },
    {
     "name": "stderr",
     "output_type": "stream",
     "text": [
      "File does not exist: /shared/CSHL_volumes/LM30/LM30_down32_annotationAsScoreVolume/score_volumes/LM30_down32_annotationAsScoreVolume_VCP_L_surround_200.bp\n",
      "Error computing gradient for VCP_L_surround_200: [Errno 2] No such file or directory: '/shared/CSHL_volumes/LM30/LM30_down32_annotationAsScoreVolume/score_volumes/LM30_down32_annotationAsScoreVolume_VCP_L_surround_200.bp'.\n"
     ]
    },
    {
     "name": "stdout",
     "output_type": "stream",
     "text": [
      "VCP_R\n",
      "rm -rf \"/shared/CSHL_volumes/LM30/LM30_down32_annotationAsScoreVolume/score_volumes/LM30_down32_annotationAsScoreVolume_VCP_R.bp\" && mkdir -p \"/shared/CSHL_volumes/LM30/LM30_down32_annotationAsScoreVolume/score_volumes\"\n",
      "aws s3 cp \"s3://mousebrainatlas-data/CSHL_volumes/LM30/LM30_down32_annotationAsScoreVolume/score_volumes/LM30_down32_annotationAsScoreVolume_VCP_R.bp\" \"/shared/CSHL_volumes/LM30/LM30_down32_annotationAsScoreVolume/score_volumes/LM30_down32_annotationAsScoreVolume_VCP_R.bp\"\n"
     ]
    },
    {
     "name": "stderr",
     "output_type": "stream",
     "text": [
      "File does not exist: /shared/CSHL_volumes/LM30/LM30_down32_annotationAsScoreVolume/score_volumes/LM30_down32_annotationAsScoreVolume_VCP_R.bp\n",
      "Error computing gradient for VCP_R: [Errno 2] No such file or directory: '/shared/CSHL_volumes/LM30/LM30_down32_annotationAsScoreVolume/score_volumes/LM30_down32_annotationAsScoreVolume_VCP_R.bp'.\n"
     ]
    },
    {
     "name": "stdout",
     "output_type": "stream",
     "text": [
      "VCP_R_surround_200\n",
      "rm -rf \"/shared/CSHL_volumes/LM30/LM30_down32_annotationAsScoreVolume/score_volumes/LM30_down32_annotationAsScoreVolume_VCP_R_surround_200.bp\" && mkdir -p \"/shared/CSHL_volumes/LM30/LM30_down32_annotationAsScoreVolume/score_volumes\"\n",
      "aws s3 cp \"s3://mousebrainatlas-data/CSHL_volumes/LM30/LM30_down32_annotationAsScoreVolume/score_volumes/LM30_down32_annotationAsScoreVolume_VCP_R_surround_200.bp\" \"/shared/CSHL_volumes/LM30/LM30_down32_annotationAsScoreVolume/score_volumes/LM30_down32_annotationAsScoreVolume_VCP_R_surround_200.bp\"\n"
     ]
    },
    {
     "name": "stderr",
     "output_type": "stream",
     "text": [
      "File does not exist: /shared/CSHL_volumes/LM30/LM30_down32_annotationAsScoreVolume/score_volumes/LM30_down32_annotationAsScoreVolume_VCP_R_surround_200.bp\n",
      "Error computing gradient for VCP_R_surround_200: [Errno 2] No such file or directory: '/shared/CSHL_volumes/LM30/LM30_down32_annotationAsScoreVolume/score_volumes/LM30_down32_annotationAsScoreVolume_VCP_R_surround_200.bp'.\n"
     ]
    },
    {
     "name": "stdout",
     "output_type": "stream",
     "text": [
      "VLL_L\n",
      "rm -rf \"/shared/CSHL_volumes/LM30/LM30_down32_annotationAsScoreVolume/score_volumes/LM30_down32_annotationAsScoreVolume_VLL_L.bp\" && mkdir -p \"/shared/CSHL_volumes/LM30/LM30_down32_annotationAsScoreVolume/score_volumes\"\n",
      "aws s3 cp \"s3://mousebrainatlas-data/CSHL_volumes/LM30/LM30_down32_annotationAsScoreVolume/score_volumes/LM30_down32_annotationAsScoreVolume_VLL_L.bp\" \"/shared/CSHL_volumes/LM30/LM30_down32_annotationAsScoreVolume/score_volumes/LM30_down32_annotationAsScoreVolume_VLL_L.bp\"\n"
     ]
    },
    {
     "name": "stderr",
     "output_type": "stream",
     "text": [
      "File does not exist: /shared/CSHL_volumes/LM30/LM30_down32_annotationAsScoreVolume/score_volumes/LM30_down32_annotationAsScoreVolume_VLL_L.bp\n",
      "Error computing gradient for VLL_L: [Errno 2] No such file or directory: '/shared/CSHL_volumes/LM30/LM30_down32_annotationAsScoreVolume/score_volumes/LM30_down32_annotationAsScoreVolume_VLL_L.bp'.\n"
     ]
    },
    {
     "name": "stdout",
     "output_type": "stream",
     "text": [
      "VLL_L_surround_200\n",
      "rm -rf \"/shared/CSHL_volumes/LM30/LM30_down32_annotationAsScoreVolume/score_volumes/LM30_down32_annotationAsScoreVolume_VLL_L_surround_200.bp\" && mkdir -p \"/shared/CSHL_volumes/LM30/LM30_down32_annotationAsScoreVolume/score_volumes\"\n",
      "aws s3 cp \"s3://mousebrainatlas-data/CSHL_volumes/LM30/LM30_down32_annotationAsScoreVolume/score_volumes/LM30_down32_annotationAsScoreVolume_VLL_L_surround_200.bp\" \"/shared/CSHL_volumes/LM30/LM30_down32_annotationAsScoreVolume/score_volumes/LM30_down32_annotationAsScoreVolume_VLL_L_surround_200.bp\"\n"
     ]
    },
    {
     "name": "stderr",
     "output_type": "stream",
     "text": [
      "File does not exist: /shared/CSHL_volumes/LM30/LM30_down32_annotationAsScoreVolume/score_volumes/LM30_down32_annotationAsScoreVolume_VLL_L_surround_200.bp\n",
      "Error computing gradient for VLL_L_surround_200: [Errno 2] No such file or directory: '/shared/CSHL_volumes/LM30/LM30_down32_annotationAsScoreVolume/score_volumes/LM30_down32_annotationAsScoreVolume_VLL_L_surround_200.bp'.\n"
     ]
    },
    {
     "name": "stdout",
     "output_type": "stream",
     "text": [
      "VLL_R\n",
      "rm -rf \"/shared/CSHL_volumes/LM30/LM30_down32_annotationAsScoreVolume/score_volumes/LM30_down32_annotationAsScoreVolume_VLL_R.bp\" && mkdir -p \"/shared/CSHL_volumes/LM30/LM30_down32_annotationAsScoreVolume/score_volumes\"\n",
      "aws s3 cp \"s3://mousebrainatlas-data/CSHL_volumes/LM30/LM30_down32_annotationAsScoreVolume/score_volumes/LM30_down32_annotationAsScoreVolume_VLL_R.bp\" \"/shared/CSHL_volumes/LM30/LM30_down32_annotationAsScoreVolume/score_volumes/LM30_down32_annotationAsScoreVolume_VLL_R.bp\"\n"
     ]
    },
    {
     "name": "stderr",
     "output_type": "stream",
     "text": [
      "File does not exist: /shared/CSHL_volumes/LM30/LM30_down32_annotationAsScoreVolume/score_volumes/LM30_down32_annotationAsScoreVolume_VLL_R.bp\n",
      "Error computing gradient for VLL_R: [Errno 2] No such file or directory: '/shared/CSHL_volumes/LM30/LM30_down32_annotationAsScoreVolume/score_volumes/LM30_down32_annotationAsScoreVolume_VLL_R.bp'.\n"
     ]
    },
    {
     "name": "stdout",
     "output_type": "stream",
     "text": [
      "VLL_R_surround_200\n",
      "rm -rf \"/shared/CSHL_volumes/LM30/LM30_down32_annotationAsScoreVolume/score_volumes/LM30_down32_annotationAsScoreVolume_VLL_R_surround_200.bp\" && mkdir -p \"/shared/CSHL_volumes/LM30/LM30_down32_annotationAsScoreVolume/score_volumes\"\n",
      "aws s3 cp \"s3://mousebrainatlas-data/CSHL_volumes/LM30/LM30_down32_annotationAsScoreVolume/score_volumes/LM30_down32_annotationAsScoreVolume_VLL_R_surround_200.bp\" \"/shared/CSHL_volumes/LM30/LM30_down32_annotationAsScoreVolume/score_volumes/LM30_down32_annotationAsScoreVolume_VLL_R_surround_200.bp\"\n"
     ]
    },
    {
     "name": "stderr",
     "output_type": "stream",
     "text": [
      "File does not exist: /shared/CSHL_volumes/LM30/LM30_down32_annotationAsScoreVolume/score_volumes/LM30_down32_annotationAsScoreVolume_VLL_R_surround_200.bp\n",
      "Error computing gradient for VLL_R_surround_200: [Errno 2] No such file or directory: '/shared/CSHL_volumes/LM30/LM30_down32_annotationAsScoreVolume/score_volumes/LM30_down32_annotationAsScoreVolume_VLL_R_surround_200.bp'.\n"
     ]
    },
    {
     "name": "stdout",
     "output_type": "stream",
     "text": [
      "outerContour\n",
      "rm -rf \"/shared/CSHL_volumes/LM30/LM30_down32_annotationAsScoreVolume/score_volumes/LM30_down32_annotationAsScoreVolume_outerContour.bp\" && mkdir -p \"/shared/CSHL_volumes/LM30/LM30_down32_annotationAsScoreVolume/score_volumes\"\n",
      "aws s3 cp \"s3://mousebrainatlas-data/CSHL_volumes/LM30/LM30_down32_annotationAsScoreVolume/score_volumes/LM30_down32_annotationAsScoreVolume_outerContour.bp\" \"/shared/CSHL_volumes/LM30/LM30_down32_annotationAsScoreVolume/score_volumes/LM30_down32_annotationAsScoreVolume_outerContour.bp\"\n"
     ]
    },
    {
     "name": "stderr",
     "output_type": "stream",
     "text": [
      "File does not exist: /shared/CSHL_volumes/LM30/LM30_down32_annotationAsScoreVolume/score_volumes/LM30_down32_annotationAsScoreVolume_outerContour.bp\n",
      "Error computing gradient for outerContour: [Errno 2] No such file or directory: '/shared/CSHL_volumes/LM30/LM30_down32_annotationAsScoreVolume/score_volumes/LM30_down32_annotationAsScoreVolume_outerContour.bp'.\n"
     ]
    },
    {
     "name": "stdout",
     "output_type": "stream",
     "text": [
      "outerContour_surround_200\n",
      "rm -rf \"/shared/CSHL_volumes/LM30/LM30_down32_annotationAsScoreVolume/score_volumes/LM30_down32_annotationAsScoreVolume_outerContour_surround_200.bp\" && mkdir -p \"/shared/CSHL_volumes/LM30/LM30_down32_annotationAsScoreVolume/score_volumes\"\n",
      "aws s3 cp \"s3://mousebrainatlas-data/CSHL_volumes/LM30/LM30_down32_annotationAsScoreVolume/score_volumes/LM30_down32_annotationAsScoreVolume_outerContour_surround_200.bp\" \"/shared/CSHL_volumes/LM30/LM30_down32_annotationAsScoreVolume/score_volumes/LM30_down32_annotationAsScoreVolume_outerContour_surround_200.bp\"\n"
     ]
    },
    {
     "name": "stderr",
     "output_type": "stream",
     "text": [
      "File does not exist: /shared/CSHL_volumes/LM30/LM30_down32_annotationAsScoreVolume/score_volumes/LM30_down32_annotationAsScoreVolume_outerContour_surround_200.bp\n",
      "Error computing gradient for outerContour_surround_200: [Errno 2] No such file or directory: '/shared/CSHL_volumes/LM30/LM30_down32_annotationAsScoreVolume/score_volumes/LM30_down32_annotationAsScoreVolume_outerContour_surround_200.bp'.\n"
     ]
    },
    {
     "name": "stdout",
     "output_type": "stream",
     "text": [
      "sp5\n",
      "rm -rf \"/shared/CSHL_volumes/LM30/LM30_down32_annotationAsScoreVolume/score_volumes/LM30_down32_annotationAsScoreVolume_sp5.bp\" && mkdir -p \"/shared/CSHL_volumes/LM30/LM30_down32_annotationAsScoreVolume/score_volumes\"\n",
      "aws s3 cp \"s3://mousebrainatlas-data/CSHL_volumes/LM30/LM30_down32_annotationAsScoreVolume/score_volumes/LM30_down32_annotationAsScoreVolume_sp5.bp\" \"/shared/CSHL_volumes/LM30/LM30_down32_annotationAsScoreVolume/score_volumes/LM30_down32_annotationAsScoreVolume_sp5.bp\"\n"
     ]
    },
    {
     "name": "stderr",
     "output_type": "stream",
     "text": [
      "File does not exist: /shared/CSHL_volumes/LM30/LM30_down32_annotationAsScoreVolume/score_volumes/LM30_down32_annotationAsScoreVolume_sp5.bp\n",
      "Error computing gradient for sp5: [Errno 2] No such file or directory: '/shared/CSHL_volumes/LM30/LM30_down32_annotationAsScoreVolume/score_volumes/LM30_down32_annotationAsScoreVolume_sp5.bp'.\n"
     ]
    },
    {
     "name": "stdout",
     "output_type": "stream",
     "text": [
      "sp5_surround_200\n",
      "rm -rf \"/shared/CSHL_volumes/LM30/LM30_down32_annotationAsScoreVolume/score_volumes/LM30_down32_annotationAsScoreVolume_sp5_surround_200.bp\" && mkdir -p \"/shared/CSHL_volumes/LM30/LM30_down32_annotationAsScoreVolume/score_volumes\"\n",
      "aws s3 cp \"s3://mousebrainatlas-data/CSHL_volumes/LM30/LM30_down32_annotationAsScoreVolume/score_volumes/LM30_down32_annotationAsScoreVolume_sp5_surround_200.bp\" \"/shared/CSHL_volumes/LM30/LM30_down32_annotationAsScoreVolume/score_volumes/LM30_down32_annotationAsScoreVolume_sp5_surround_200.bp\"\n"
     ]
    },
    {
     "name": "stderr",
     "output_type": "stream",
     "text": [
      "File does not exist: /shared/CSHL_volumes/LM30/LM30_down32_annotationAsScoreVolume/score_volumes/LM30_down32_annotationAsScoreVolume_sp5_surround_200.bp\n",
      "Error computing gradient for sp5_surround_200: [Errno 2] No such file or directory: '/shared/CSHL_volumes/LM30/LM30_down32_annotationAsScoreVolume/score_volumes/LM30_down32_annotationAsScoreVolume_sp5_surround_200.bp'.\n"
     ]
    }
   ],
   "source": [
    "stack = 'LM30'\n",
    "# stack = 'LM40'\n",
    "downscale = 32\n",
    "\n",
    "# for structure in all_known_structures_sided:\n",
    "for structure in all_known_structures_sided_with_surround:\n",
    "    print structure\n",
    "    try:\n",
    "        volume = DataManager.load_original_volume(stack=stack, volume_type='annotationAsScore', \n",
    "                                                  structure=structure, downscale=downscale)\n",
    "\n",
    "        t = time.time()\n",
    "\n",
    "        gy_gx_gz = np.gradient(volume.astype(np.float32), 3, 3, 3)\n",
    "        # 3.3 second - re-computing is much faster than loading\n",
    "        # .astype(np.float32) is important;\n",
    "        # Otherwise the score volume is type np.float16, np.gradient requires np.float32 and will have to convert which is very slow\n",
    "        # 2s (float32) vs. 20s (float16)\n",
    "\n",
    "        sys.stderr.write('Gradient %s: %f seconds\\n' % (structure, time.time() - t))\n",
    "\n",
    "        t = time.time()\n",
    "\n",
    "        gx_fp = DataManager.get_volume_gradient_filepath(stack=stack,volume_type='annotationAsScore',  structure=structure, downscale=downscale, suffix='gx')\n",
    "        gy_fp = DataManager.get_volume_gradient_filepath(stack=stack, volume_type='annotationAsScore', structure=structure, downscale=downscale, suffix='gy')\n",
    "        gz_fp = DataManager.get_volume_gradient_filepath(stack=stack,volume_type='annotationAsScore',  structure=structure, downscale=downscale, suffix='gz')\n",
    "\n",
    "        create_parent_dir_if_not_exists(gx_fp)\n",
    "\n",
    "        bp.pack_ndarray_file(gy_gx_gz[1], gx_fp)\n",
    "        bp.pack_ndarray_file(gy_gx_gz[0], gy_fp)\n",
    "        bp.pack_ndarray_file(gy_gx_gz[2], gz_fp)\n",
    "\n",
    "        del gy_gx_gz\n",
    "        \n",
    "        upload_to_s3(gx_fp)\n",
    "        upload_to_s3(gy_fp)\n",
    "        upload_to_s3(gz_fp)\n",
    "\n",
    "        sys.stderr.write('save %s: %f seconds\\n' % (structure, time.time() - t))\n",
    "\n",
    "    except Exception as e:\n",
    "        sys.stderr.write('Error computing gradient for %s: %s.\\n' % (structure, str(e)))"
   ]
  },
  {
   "cell_type": "markdown",
   "metadata": {},
   "source": [
    "# For classifier score volume"
   ]
  },
  {
   "cell_type": "code",
   "execution_count": 2,
   "metadata": {
    "collapsed": true
   },
   "outputs": [],
   "source": [
    "stack = 'MD657'\n",
    "classifier_setting = 30\n",
    "downscale = 32"
   ]
  },
  {
   "cell_type": "markdown",
   "metadata": {},
   "source": [
    "# All structures"
   ]
  },
  {
   "cell_type": "code",
   "execution_count": 5,
   "metadata": {
    "scrolled": true
   },
   "outputs": [
    {
     "name": "stderr",
     "output_type": "stream",
     "text": [
      "File does not exist: /shared/CSHL_data_processed/MD635/MD635_anchor.txt\n",
      "File does not exist: /shared/CSHL_data_processed/MD635/MD635_sorted_filenames.txt\n",
      "File does not exist: /shared/CSHL_data_processed/MD635/MD635_cropbox.txt\n",
      "File does not exist: /shared/CSHL_data_processed/MD635/MD635_cropbox.txt\n"
     ]
    },
    {
     "name": "stdout",
     "output_type": "stream",
     "text": [
      "5N\n"
     ]
    },
    {
     "name": "stderr",
     "output_type": "stream",
     "text": [
      "Gradient 5N: 24.655552 seconds\n",
      "save 5N: 0.074307 seconds\n"
     ]
    },
    {
     "name": "stdout",
     "output_type": "stream",
     "text": [
      "6N\n"
     ]
    },
    {
     "name": "stderr",
     "output_type": "stream",
     "text": [
      "Gradient 6N: 16.155491 seconds\n",
      "save 6N: 0.072583 seconds\n"
     ]
    },
    {
     "name": "stdout",
     "output_type": "stream",
     "text": [
      "7N\n"
     ]
    },
    {
     "name": "stderr",
     "output_type": "stream",
     "text": [
      "Gradient 7N: 15.829073 seconds\n",
      "save 7N: 0.072390 seconds\n"
     ]
    },
    {
     "name": "stdout",
     "output_type": "stream",
     "text": [
      "7n\n"
     ]
    },
    {
     "name": "stderr",
     "output_type": "stream",
     "text": [
      "Gradient 7n: 15.792059 seconds\n",
      "save 7n: 0.073104 seconds\n"
     ]
    },
    {
     "name": "stdout",
     "output_type": "stream",
     "text": [
      "Amb\n"
     ]
    },
    {
     "name": "stderr",
     "output_type": "stream",
     "text": [
      "Gradient Amb: 15.826242 seconds\n",
      "save Amb: 0.072607 seconds\n"
     ]
    },
    {
     "name": "stdout",
     "output_type": "stream",
     "text": [
      "LC\n"
     ]
    },
    {
     "name": "stderr",
     "output_type": "stream",
     "text": [
      "Gradient LC: 15.530725 seconds\n",
      "save LC: 0.071931 seconds\n"
     ]
    },
    {
     "name": "stdout",
     "output_type": "stream",
     "text": [
      "LRt\n"
     ]
    },
    {
     "name": "stderr",
     "output_type": "stream",
     "text": [
      "Gradient LRt: 15.544566 seconds\n",
      "save LRt: 0.072003 seconds\n"
     ]
    },
    {
     "name": "stdout",
     "output_type": "stream",
     "text": [
      "Pn\n"
     ]
    },
    {
     "name": "stderr",
     "output_type": "stream",
     "text": [
      "Gradient Pn: 15.526288 seconds\n",
      "save Pn: 0.071837 seconds\n"
     ]
    },
    {
     "name": "stdout",
     "output_type": "stream",
     "text": [
      "Tz\n"
     ]
    },
    {
     "ename": "KeyboardInterrupt",
     "evalue": "",
     "output_type": "error",
     "traceback": [
      "\u001b[0;31m---------------------------------------------------------------------------\u001b[0m",
      "\u001b[0;31mKeyboardInterrupt\u001b[0m                         Traceback (most recent call last)",
      "\u001b[0;32m<ipython-input-5-5dc7ea8386f6>\u001b[0m in \u001b[0;36m<module>\u001b[0;34m()\u001b[0m\n\u001b[1;32m      7\u001b[0m         \u001b[0mt\u001b[0m \u001b[0;34m=\u001b[0m \u001b[0mtime\u001b[0m\u001b[0;34m.\u001b[0m\u001b[0mtime\u001b[0m\u001b[0;34m(\u001b[0m\u001b[0;34m)\u001b[0m\u001b[0;34m\u001b[0m\u001b[0m\n\u001b[1;32m      8\u001b[0m \u001b[0;34m\u001b[0m\u001b[0m\n\u001b[0;32m----> 9\u001b[0;31m         \u001b[0mgy_gx_gz\u001b[0m \u001b[0;34m=\u001b[0m \u001b[0mnp\u001b[0m\u001b[0;34m.\u001b[0m\u001b[0mgradient\u001b[0m\u001b[0;34m(\u001b[0m\u001b[0mvolume\u001b[0m\u001b[0;34m.\u001b[0m\u001b[0mastype\u001b[0m\u001b[0;34m(\u001b[0m\u001b[0mnp\u001b[0m\u001b[0;34m.\u001b[0m\u001b[0mfloat32\u001b[0m\u001b[0;34m)\u001b[0m\u001b[0;34m,\u001b[0m \u001b[0;36m3\u001b[0m\u001b[0;34m,\u001b[0m \u001b[0;36m3\u001b[0m\u001b[0;34m,\u001b[0m \u001b[0;36m3\u001b[0m\u001b[0;34m)\u001b[0m\u001b[0;34m\u001b[0m\u001b[0m\n\u001b[0m\u001b[1;32m     10\u001b[0m         \u001b[0;31m# 3.3 second - re-computing is much faster than loading\u001b[0m\u001b[0;34m\u001b[0m\u001b[0;34m\u001b[0m\u001b[0m\n\u001b[1;32m     11\u001b[0m         \u001b[0;31m# .astype(np.float32) is important;\u001b[0m\u001b[0;34m\u001b[0m\u001b[0;34m\u001b[0m\u001b[0m\n",
      "\u001b[0;32m/usr/local/lib/python2.7/dist-packages/numpy/lib/function_base.pyc\u001b[0m in \u001b[0;36mgradient\u001b[0;34m(f, *varargs, **kwargs)\u001b[0m\n\u001b[1;32m   1652\u001b[0m             \u001b[0mslice3\u001b[0m\u001b[0;34m[\u001b[0m\u001b[0maxis\u001b[0m\u001b[0;34m]\u001b[0m \u001b[0;34m=\u001b[0m \u001b[0mslice\u001b[0m\u001b[0;34m(\u001b[0m\u001b[0mNone\u001b[0m\u001b[0;34m,\u001b[0m \u001b[0;34m-\u001b[0m\u001b[0;36m2\u001b[0m\u001b[0;34m)\u001b[0m\u001b[0;34m\u001b[0m\u001b[0m\n\u001b[1;32m   1653\u001b[0m             \u001b[0;31m# 1D equivalent -- out[1:-1] = (y[2:] - y[:-2])/2.0\u001b[0m\u001b[0;34m\u001b[0m\u001b[0;34m\u001b[0m\u001b[0m\n\u001b[0;32m-> 1654\u001b[0;31m             \u001b[0mout\u001b[0m\u001b[0;34m[\u001b[0m\u001b[0mslice1\u001b[0m\u001b[0;34m]\u001b[0m \u001b[0;34m=\u001b[0m \u001b[0;34m(\u001b[0m\u001b[0my\u001b[0m\u001b[0;34m[\u001b[0m\u001b[0mslice2\u001b[0m\u001b[0;34m]\u001b[0m \u001b[0;34m-\u001b[0m \u001b[0my\u001b[0m\u001b[0;34m[\u001b[0m\u001b[0mslice3\u001b[0m\u001b[0;34m]\u001b[0m\u001b[0;34m)\u001b[0m\u001b[0;34m/\u001b[0m\u001b[0;36m2.0\u001b[0m\u001b[0;34m\u001b[0m\u001b[0m\n\u001b[0m\u001b[1;32m   1655\u001b[0m \u001b[0;34m\u001b[0m\u001b[0m\n\u001b[1;32m   1656\u001b[0m             \u001b[0mslice1\u001b[0m\u001b[0;34m[\u001b[0m\u001b[0maxis\u001b[0m\u001b[0;34m]\u001b[0m \u001b[0;34m=\u001b[0m \u001b[0;36m0\u001b[0m\u001b[0;34m\u001b[0m\u001b[0m\n",
      "\u001b[0;31mKeyboardInterrupt\u001b[0m: "
     ]
    }
   ],
   "source": [
    "for structure in all_known_structures:\n",
    "    print structure\n",
    "    try:\n",
    "        volume = DataManager.load_original_volume(stack=stack, structure=structure, downscale=downscale,\n",
    "                                               classifier_setting=classifier_setting, volume_type='score')\n",
    "\n",
    "        t = time.time()\n",
    "\n",
    "        gy_gx_gz = np.gradient(volume.astype(np.float32), 3, 3, 3)\n",
    "        # 3.3 second - re-computing is much faster than loading\n",
    "        # .astype(np.float32) is important;\n",
    "        # Otherwise the score volume is type np.float16, np.gradient requires np.float32 and will have to convert which is very slow\n",
    "        # 2s (float32) vs. 20s (float16)\n",
    "\n",
    "        sys.stderr.write('Gradient %s: %f seconds\\n' % (structure, time.time() - t)) # 5s\n",
    "\n",
    "        t = time.time()\n",
    "\n",
    "        gx_fp = DataManager.get_volume_gradient_filepath(stack=stack, structure=structure, downscale=downscale, classifier_setting=classifier_setting, suffix='gx')\n",
    "        gy_fp = DataManager.get_volume_gradient_filepath(stack=stack, structure=structure, downscale=downscale, classifier_setting=classifier_setting, suffix='gy')\n",
    "        gz_fp = DataManager.get_volume_gradient_filepath(stack=stack, structure=structure, downscale=downscale, classifier_setting=classifier_setting, suffix='gz')\n",
    "\n",
    "#         create_if_not_exists(os.path.dirname(gx_fp))\n",
    "\n",
    "#         bp.pack_ndarray_file(gy_gx_gz[1], gx_fp)\n",
    "#         bp.pack_ndarray_file(gy_gx_gz[0], gy_fp)\n",
    "#         bp.pack_ndarray_file(gy_gx_gz[2], gz_fp)\n",
    "\n",
    "        del gy_gx_gz\n",
    "\n",
    "        sys.stderr.write('save %s: %f seconds\\n' % (structure, time.time() - t)) # 4-7s\n",
    "\n",
    "    except Exception as e:\n",
    "        sys.stderr.write('%s\\n' % e)\n",
    "        sys.stderr.write('Error computing gradient for %s.\\n' % structure)"
   ]
  },
  {
   "cell_type": "markdown",
   "metadata": {},
   "source": [
    "# Single structure"
   ]
  },
  {
   "cell_type": "code",
   "execution_count": 13,
   "metadata": {},
   "outputs": [
    {
     "name": "stderr",
     "output_type": "stream",
     "text": [
      "Gradient 7N: 2.818808 seconds\n",
      "save 7N: 0.000001 seconds\n"
     ]
    }
   ],
   "source": [
    "try:\n",
    "    volume = DataManager.load_score_volume(stack=stack, structure=structure, downscale=downscale,\n",
    "                                           classifier_setting=classifier_setting)\n",
    "\n",
    "    t = time.time()\n",
    "\n",
    "    gy_gx_gz = np.gradient(volume.astype(np.float32), 7, 7, )\n",
    "    # 3.3 second - re-computing is much faster than loading\n",
    "    # .astype(np.float32) is important;\n",
    "    # Otherwise the score volume is type np.float16, np.gradient requires np.float32 and will have to convert which is very slow\n",
    "    # 2s (float32) vs. 20s (float16)\n",
    "\n",
    "    sys.stderr.write('Gradient %s: %f seconds\\n' % (structure, time.time() - t))\n",
    "\n",
    "    t = time.time()\n",
    "\n",
    "#     gx_fp = DataManager.get_score_volume_gradient_filepath(stack=stack, structure=structure, downscale=downscale, classifier_setting=classifier_setting, suffix='gx')\n",
    "#     gy_fp = DataManager.get_score_volume_gradient_filepath(stack=stack, structure=structure, downscale=downscale, classifier_setting=classifier_setting, suffix='gy')\n",
    "#     gz_fp = DataManager.get_score_volume_gradient_filepath(stack=stack, structure=structure, downscale=downscale, classifier_setting=classifier_setting, suffix='gz')\n",
    "\n",
    "#     create_if_not_exists(os.path.dirname(gx_fp))\n",
    "\n",
    "#     bp.pack_ndarray_file(gy_gx_gz[1], gx_fp)\n",
    "#     bp.pack_ndarray_file(gy_gx_gz[0], gy_fp)\n",
    "#     bp.pack_ndarray_file(gy_gx_gz[2], gz_fp)\n",
    "\n",
    "#     del gy_gx_gz\n",
    "\n",
    "    sys.stderr.write('save %s: %f seconds\\n' % (structure, time.time() - t))\n",
    "\n",
    "except Exception as e:\n",
    "    sys.stderr.write('%s\\n' % e)\n",
    "    sys.stderr.write('Error computing gradient for %s.\\n' % structure)"
   ]
  },
  {
   "cell_type": "code",
   "execution_count": null,
   "metadata": {
    "collapsed": true,
    "scrolled": false
   },
   "outputs": [],
   "source": [
    "display_volume_sections(gy_gx_gz[0])"
   ]
  },
  {
   "cell_type": "code",
   "execution_count": null,
   "metadata": {
    "collapsed": true
   },
   "outputs": [],
   "source": []
  }
 ],
 "metadata": {
  "kernelspec": {
   "display_name": "Python 2",
   "language": "python",
   "name": "python2"
  },
  "language_info": {
   "codemirror_mode": {
    "name": "ipython",
    "version": 2
   },
   "file_extension": ".py",
   "mimetype": "text/x-python",
   "name": "python",
   "nbconvert_exporter": "python",
   "pygments_lexer": "ipython2",
   "version": "2.7.12"
  }
 },
 "nbformat": 4,
 "nbformat_minor": 1
}
