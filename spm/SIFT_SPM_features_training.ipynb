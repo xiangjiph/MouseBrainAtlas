{
 "cells": [
  {
   "cell_type": "code",
   "execution_count": 2,
   "metadata": {},
   "outputs": [
    {
     "name": "stdout",
     "output_type": "stream",
     "text": [
      "Setting environment for Gordon\n"
     ]
    },
    {
     "name": "stderr",
     "output_type": "stream",
     "text": [
      "Cannot import mxnet.\n"
     ]
    }
   ],
   "source": [
    "%reload_ext autoreload\n",
    "%autoreload 2\n",
    "\n",
    "import os\n",
    "import sys\n",
    "import time\n",
    "import cv2\n",
    "\n",
    "sys.path.append(os.path.join(os.environ['REPO_DIR'], 'utilities'))\n",
    "from utilities2015 import *\n",
    "from metadata import *\n",
    "from data_manager import *\n",
    "\n",
    "from sklearn.cluster import KMeans\n",
    "from sklearn.externals import joblib\n",
    "\n",
    "import random\n",
    "from collections import defaultdict\n",
    "\n",
    "from sift_spm_utilities import *\n",
    "from learning_utilities import *\n",
    "from annotation_utilities import *\n",
    "\n",
    "import pandas as pd"
   ]
  },
  {
   "cell_type": "code",
   "execution_count": 3,
   "metadata": {},
   "outputs": [],
   "source": [
    "output_dir = '/oasis/projects/nsf/csd395/yuncong/CSHL_SIFT_SPM_features/'\n",
    "M = 200 # vocabulary size\n",
    "colors = np.vstack([(0,0,0), np.random.randint(0, 255, (M, 3))])"
   ]
  },
  {
   "cell_type": "code",
   "execution_count": 4,
   "metadata": {
    "collapsed": true
   },
   "outputs": [],
   "source": [
    "patch_size = 224\n",
    "stride = 56"
   ]
  },
  {
   "cell_type": "code",
   "execution_count": 8,
   "metadata": {
    "collapsed": true
   },
   "outputs": [],
   "source": [
    "username = 'yuncong'\n",
    "label_polygons = load_label_polygons_if_exists(stack, username, force=False, \n",
    "                                               annotation_rootdir=annotation_midbrainIncluded_rootdir)"
   ]
  },
  {
   "cell_type": "code",
   "execution_count": 7,
   "metadata": {
    "scrolled": true
   },
   "outputs": [
    {
     "name": "stdout",
     "output_type": "stream",
     "text": [
      "VLL\n",
      "(20, 16, 200)\n",
      "(20, 4, 200)\n",
      "(20, 200)\n",
      "7n\n"
     ]
    },
    {
     "name": "stderr",
     "output_type": "stream",
     "text": [
      "done in 21.339974 seconds\n"
     ]
    },
    {
     "name": "stdout",
     "output_type": "stream",
     "text": [
      "(20, 16, 200)\n",
      "(20, 4, 200)\n",
      "(20, 200)\n",
      "sp5\n"
     ]
    },
    {
     "name": "stderr",
     "output_type": "stream",
     "text": [
      "done in 21.353806 seconds\n"
     ]
    },
    {
     "name": "stdout",
     "output_type": "stream",
     "text": [
      "(20, 16, 200)\n",
      "(20, 4, 200)\n",
      "(20, 200)\n",
      "5N\n"
     ]
    },
    {
     "name": "stderr",
     "output_type": "stream",
     "text": [
      "done in 22.267253 seconds\n",
      "done in 21.957014 seconds\n",
      "/oasis/projects/nsf/csd181/yuncong/virtualenv-1.9.1/yuncongve/lib/python2.7/site-packages/PIL/Image.py:2224: DecompressionBombWarning: Image size (187528192 pixels) exceeds limit of 89478485 pixels, could be decompression bomb DOS attack.\n",
      "  DecompressionBombWarning)\n"
     ]
    },
    {
     "name": "stdout",
     "output_type": "stream",
     "text": [
      "(20, 16, 200)\n",
      "(20, 4, 200)\n",
      "(20, 200)\n",
      "372883"
     ]
    },
    {
     "name": "stderr",
     "output_type": "stream",
     "text": [
      "sift: 123.22 seconds\n",
      "compute vocab: 0.06 seconds\n"
     ]
    },
    {
     "name": "stdout",
     "output_type": "stream",
     "text": [
      " keypoints\n",
      "VLL\n"
     ]
    },
    {
     "name": "stderr",
     "output_type": "stream",
     "text": [
      "predict: 14.32 seconds\n"
     ]
    },
    {
     "name": "stdout",
     "output_type": "stream",
     "text": [
      "(20, 16, 200)\n",
      "(20, 4, 200)\n",
      "(20, 200)\n",
      "7n\n"
     ]
    },
    {
     "name": "stderr",
     "output_type": "stream",
     "text": [
      "done in 21.364669 seconds\n"
     ]
    },
    {
     "name": "stdout",
     "output_type": "stream",
     "text": [
      "(20, 16, 200)\n",
      "(20, 4, 200)\n",
      "(20, 200)\n",
      "sp5\n"
     ]
    },
    {
     "name": "stderr",
     "output_type": "stream",
     "text": [
      "done in 21.372556 seconds\n"
     ]
    },
    {
     "name": "stdout",
     "output_type": "stream",
     "text": [
      "(20, 16, 200)\n",
      "(20, 4, 200)\n",
      "(20, 200)\n",
      "5N\n"
     ]
    },
    {
     "name": "stderr",
     "output_type": "stream",
     "text": [
      "done in 21.165167 seconds\n"
     ]
    },
    {
     "name": "stdout",
     "output_type": "stream",
     "text": [
      "(20, 16, 200)\n",
      "(20, 4, 200)\n",
      "(20, 200)\n",
      "7N\n"
     ]
    },
    {
     "name": "stderr",
     "output_type": "stream",
     "text": [
      "done in 21.255251 seconds\n"
     ]
    },
    {
     "name": "stdout",
     "output_type": "stream",
     "text": [
      "(20, 16, 200)\n",
      "(20, 4, 200)\n",
      "(20, 200)\n",
      "VLL\n"
     ]
    },
    {
     "name": "stderr",
     "output_type": "stream",
     "text": [
      "done in 21.161743 seconds\n"
     ]
    },
    {
     "name": "stdout",
     "output_type": "stream",
     "text": [
      "(20, 16, 200)\n",
      "(20, 4, 200)\n",
      "(20, 200)\n",
      "7n\n"
     ]
    },
    {
     "name": "stderr",
     "output_type": "stream",
     "text": [
      "done in 21.663307 seconds\n"
     ]
    },
    {
     "name": "stdout",
     "output_type": "stream",
     "text": [
      "(20, 16, 200)\n",
      "(20, 4, 200)\n",
      "(20, 200)\n",
      "sp5\n"
     ]
    },
    {
     "name": "stderr",
     "output_type": "stream",
     "text": [
      "done in 21.665257 seconds\n"
     ]
    },
    {
     "name": "stdout",
     "output_type": "stream",
     "text": [
      "(20, 16, 200)\n",
      "(20, 4, 200)\n",
      "(20, 200)\n",
      "5N\n"
     ]
    },
    {
     "name": "stderr",
     "output_type": "stream",
     "text": [
      "done in 21.462504 seconds\n"
     ]
    },
    {
     "name": "stdout",
     "output_type": "stream",
     "text": [
      "(20, 16, 200)\n",
      "(20, 4, 200)\n",
      "(20, 200)\n",
      "7N\n"
     ]
    },
    {
     "name": "stderr",
     "output_type": "stream",
     "text": [
      "done in 21.968919 seconds\n",
      "done in 21.761771 seconds\n",
      "sift: 191.48 seconds\n"
     ]
    },
    {
     "name": "stdout",
     "output_type": "stream",
     "text": [
      "(20, 16, 200)\n",
      "(20, 4, 200)\n",
      "(20, 200)\n",
      "422454"
     ]
    },
    {
     "name": "stderr",
     "output_type": "stream",
     "text": [
      "compute vocab: 0.03 seconds\n",
      "predict: 16.28 seconds\n"
     ]
    },
    {
     "name": "stdout",
     "output_type": "stream",
     "text": [
      " keypoints\n",
      "VLL\n",
      "(20, 16, 200)\n",
      "(20, 4, 200)\n",
      "(20, 200)\n",
      "7N\n"
     ]
    },
    {
     "name": "stderr",
     "output_type": "stream",
     "text": [
      "done in 21.156025 seconds\n"
     ]
    },
    {
     "name": "stdout",
     "output_type": "stream",
     "text": [
      "(20, 16, 200)\n",
      "(20, 4, 200)\n",
      "(20, 200)\n",
      "Amb\n"
     ]
    },
    {
     "name": "stderr",
     "output_type": "stream",
     "text": [
      "done in 21.166147 seconds\n"
     ]
    },
    {
     "name": "stdout",
     "output_type": "stream",
     "text": [
      "(20, 16, 200)\n",
      "(20, 4, 200)\n",
      "(20, 200)\n",
      "sp5\n"
     ]
    },
    {
     "name": "stderr",
     "output_type": "stream",
     "text": [
      "done in 21.352533 seconds\n"
     ]
    },
    {
     "name": "stdout",
     "output_type": "stream",
     "text": [
      "(20, 16, 200)\n",
      "(20, 4, 200)\n",
      "(20, 200)\n",
      "5N\n"
     ]
    },
    {
     "name": "stderr",
     "output_type": "stream",
     "text": [
      "done in 21.059798 seconds\n"
     ]
    },
    {
     "name": "stdout",
     "output_type": "stream",
     "text": [
      "(20, 16, 200)\n",
      "(20, 4, 200)\n",
      "(20, 200)\n",
      "LRt\n"
     ]
    },
    {
     "name": "stderr",
     "output_type": "stream",
     "text": [
      "done in 21.356613 seconds\n"
     ]
    },
    {
     "name": "stdout",
     "output_type": "stream",
     "text": [
      "(20, 16, 200)\n",
      "(20, 4, 200)\n",
      "(20, 200)\n",
      "7n\n"
     ]
    },
    {
     "name": "stderr",
     "output_type": "stream",
     "text": [
      "done in 21.261368 seconds\n"
     ]
    },
    {
     "name": "stdout",
     "output_type": "stream",
     "text": [
      "(20, 16, 200)\n",
      "(20, 4, 200)\n",
      "(20, 200)\n",
      "VLL\n"
     ]
    },
    {
     "name": "stderr",
     "output_type": "stream",
     "text": [
      "done in 21.054662 seconds\n"
     ]
    },
    {
     "name": "stdout",
     "output_type": "stream",
     "text": [
      "(20, 16, 200)\n",
      "(20, 4, 200)\n",
      "(20, 200)\n",
      "7N\n"
     ]
    },
    {
     "name": "stderr",
     "output_type": "stream",
     "text": [
      "done in 21.368804 seconds\n"
     ]
    },
    {
     "name": "stdout",
     "output_type": "stream",
     "text": [
      "(20, 16, 200)\n",
      "(20, 4, 200)\n",
      "(20, 200)\n",
      "Amb\n"
     ]
    },
    {
     "name": "stderr",
     "output_type": "stream",
     "text": [
      "done in 20.753570 seconds\n"
     ]
    },
    {
     "name": "stdout",
     "output_type": "stream",
     "text": [
      "(20, 16, 200)\n",
      "(20, 4, 200)\n",
      "(20, 200)\n",
      "sp5\n"
     ]
    },
    {
     "name": "stderr",
     "output_type": "stream",
     "text": [
      "done in 21.065252 seconds\n"
     ]
    },
    {
     "name": "stdout",
     "output_type": "stream",
     "text": [
      "(20, 16, 200)\n",
      "(20, 4, 200)\n",
      "(20, 200)\n",
      "5N\n"
     ]
    },
    {
     "name": "stderr",
     "output_type": "stream",
     "text": [
      "done in 21.153618 seconds\n"
     ]
    },
    {
     "name": "stdout",
     "output_type": "stream",
     "text": [
      "(20, 16, 200)\n",
      "(20, 4, 200)\n",
      "(20, 200)\n",
      "LRt\n"
     ]
    },
    {
     "name": "stderr",
     "output_type": "stream",
     "text": [
      "done in 21.061497 seconds\n"
     ]
    },
    {
     "name": "stdout",
     "output_type": "stream",
     "text": [
      "(20, 16, 200)\n",
      "(20, 4, 200)\n",
      "(20, 200)\n",
      "7n\n"
     ]
    },
    {
     "name": "stderr",
     "output_type": "stream",
     "text": [
      "done in 21.056957 seconds\n",
      "done in 21.361578 seconds\n",
      "sift: 186.68 seconds\n"
     ]
    },
    {
     "name": "stdout",
     "output_type": "stream",
     "text": [
      "(20, 16, 200)\n",
      "(20, 4, 200)\n",
      "(20, 200)\n",
      "447464"
     ]
    },
    {
     "name": "stderr",
     "output_type": "stream",
     "text": [
      "compute vocab: 0.01 seconds\n",
      "predict: 17.11 seconds\n"
     ]
    },
    {
     "name": "stdout",
     "output_type": "stream",
     "text": [
      " keypoints\n",
      "LC\n",
      "(19, 16, 200)\n",
      "(19, 4, 200)\n",
      "(19, 200)\n",
      "7n\n"
     ]
    },
    {
     "name": "stderr",
     "output_type": "stream",
     "text": [
      "done in 20.970591 seconds\n"
     ]
    },
    {
     "name": "stdout",
     "output_type": "stream",
     "text": [
      "(20, 16, 200)\n",
      "(20, 4, 200)\n",
      "(20, 200)\n",
      "sp5\n"
     ]
    },
    {
     "name": "stderr",
     "output_type": "stream",
     "text": [
      "done in 21.363371 seconds\n"
     ]
    },
    {
     "name": "stdout",
     "output_type": "stream",
     "text": [
      "(20, 16, 200)\n",
      "(20, 4, 200)\n",
      "(20, 200)\n",
      "LRt\n"
     ]
    },
    {
     "name": "stderr",
     "output_type": "stream",
     "text": [
      "done in 21.373206 seconds\n"
     ]
    },
    {
     "name": "stdout",
     "output_type": "stream",
     "text": [
      "(20, 16, 200)\n",
      "(20, 4, 200)\n",
      "(20, 200)\n",
      "7N\n"
     ]
    },
    {
     "name": "stderr",
     "output_type": "stream",
     "text": [
      "done in 20.963470 seconds\n"
     ]
    },
    {
     "name": "stdout",
     "output_type": "stream",
     "text": [
      "(20, 16, 200)\n",
      "(20, 4, 200)\n",
      "(20, 200)\n",
      "Pn\n"
     ]
    },
    {
     "name": "stderr",
     "output_type": "stream",
     "text": [
      "done in 21.270518 seconds\n"
     ]
    },
    {
     "name": "stdout",
     "output_type": "stream",
     "text": [
      "(5, 16, 200)\n",
      "(5, 4, 200)\n",
      "(5, 200)\n",
      "LC\n"
     ]
    },
    {
     "name": "stderr",
     "output_type": "stream",
     "text": [
      "done in 21.265129 seconds\n"
     ]
    },
    {
     "name": "stdout",
     "output_type": "stream",
     "text": [
      "(20, 16, 200)\n",
      "(20, 4, 200)\n",
      "(20, 200)\n",
      "7n\n"
     ]
    },
    {
     "name": "stderr",
     "output_type": "stream",
     "text": [
      "done in 21.072099 seconds\n"
     ]
    },
    {
     "name": "stdout",
     "output_type": "stream",
     "text": [
      "(20, 16, 200)\n",
      "(20, 4, 200)\n",
      "(20, 200)\n",
      "sp5\n"
     ]
    },
    {
     "name": "stderr",
     "output_type": "stream",
     "text": [
      "done in 21.662580 seconds\n"
     ]
    },
    {
     "name": "stdout",
     "output_type": "stream",
     "text": [
      "(20, 16, 200)\n",
      "(20, 4, 200)\n",
      "(20, 200)\n",
      "LRt\n"
     ]
    },
    {
     "name": "stderr",
     "output_type": "stream",
     "text": [
      "done in 21.474461 seconds\n"
     ]
    },
    {
     "name": "stdout",
     "output_type": "stream",
     "text": [
      "(20, 16, 200)\n",
      "(20, 4, 200)\n",
      "(20, 200)\n",
      "7N\n"
     ]
    },
    {
     "name": "stderr",
     "output_type": "stream",
     "text": [
      "done in 20.965320 seconds\n"
     ]
    },
    {
     "name": "stdout",
     "output_type": "stream",
     "text": [
      "(20, 16, 200)\n",
      "(20, 4, 200)\n",
      "(20, 200)\n",
      "Pn\n"
     ]
    },
    {
     "name": "stderr",
     "output_type": "stream",
     "text": [
      "done in 21.071401 seconds\n",
      "done in 21.167901 seconds\n",
      "sift: 193.15 seconds\n"
     ]
    },
    {
     "name": "stdout",
     "output_type": "stream",
     "text": [
      "(20, 16, 200)\n",
      "(20, 4, 200)\n",
      "(20, 200)\n",
      "456112"
     ]
    },
    {
     "name": "stderr",
     "output_type": "stream",
     "text": [
      "compute vocab: 0.01 seconds\n",
      "predict: 17.40 seconds\n"
     ]
    },
    {
     "name": "stdout",
     "output_type": "stream",
     "text": [
      " keypoints\n",
      "7n\n",
      "(20, 16, 200)\n",
      "(20, 4, 200)\n",
      "(20, 200)\n",
      "sp5\n"
     ]
    },
    {
     "name": "stderr",
     "output_type": "stream",
     "text": [
      "done in 20.964016 seconds\n"
     ]
    },
    {
     "name": "stdout",
     "output_type": "stream",
     "text": [
      "(20, 16, 200)\n",
      "(20, 4, 200)\n",
      "(20, 200)\n",
      "LRt\n"
     ]
    },
    {
     "name": "stderr",
     "output_type": "stream",
     "text": [
      "done in 21.653967 seconds\n"
     ]
    },
    {
     "name": "stdout",
     "output_type": "stream",
     "text": [
      "(20, 16, 200)\n",
      "(20, 4, 200)\n",
      "(20, 200)\n",
      "7N\n"
     ]
    },
    {
     "name": "stderr",
     "output_type": "stream",
     "text": [
      "done in 21.067302 seconds\n"
     ]
    },
    {
     "name": "stdout",
     "output_type": "stream",
     "text": [
      "(20, 16, 200)\n",
      "(20, 4, 200)\n",
      "(20, 200)\n",
      "Pn\n"
     ]
    },
    {
     "name": "stderr",
     "output_type": "stream",
     "text": [
      "done in 20.951856 seconds\n"
     ]
    },
    {
     "name": "stdout",
     "output_type": "stream",
     "text": [
      "(20, 16, 200)\n",
      "(20, 4, 200)\n",
      "(20, 200)\n",
      "7n\n"
     ]
    },
    {
     "name": "stderr",
     "output_type": "stream",
     "text": [
      "done in 21.263987 seconds\n"
     ]
    },
    {
     "name": "stdout",
     "output_type": "stream",
     "text": [
      "(20, 16, 200)\n",
      "(20, 4, 200)\n",
      "(20, 200)\n",
      "sp5\n"
     ]
    },
    {
     "name": "stderr",
     "output_type": "stream",
     "text": [
      "done in 21.164635 seconds\n"
     ]
    },
    {
     "name": "stdout",
     "output_type": "stream",
     "text": [
      "(20, 16, 200)\n",
      "(20, 4, 200)\n",
      "(20, 200)\n",
      "R\n"
     ]
    },
    {
     "name": "stderr",
     "output_type": "stream",
     "text": [
      "done in 21.358192 seconds\n"
     ]
    },
    {
     "name": "stdout",
     "output_type": "stream",
     "text": [
      "(20, 16, 200)\n",
      "(20, 4, 200)\n",
      "(20, 200)\n",
      "RtTg\n"
     ]
    },
    {
     "name": "stderr",
     "output_type": "stream",
     "text": [
      "done in 21.162413 seconds\n"
     ]
    },
    {
     "name": "stdout",
     "output_type": "stream",
     "text": [
      "(20, 16, 200)\n",
      "(20, 4, 200)\n",
      "(20, 200)\n",
      "7N\n"
     ]
    },
    {
     "name": "stderr",
     "output_type": "stream",
     "text": [
      "done in 21.559653 seconds\n"
     ]
    },
    {
     "name": "stdout",
     "output_type": "stream",
     "text": [
      "(20, 16, 200)\n",
      "(20, 4, 200)\n",
      "(20, 200)\n",
      "Pn\n"
     ]
    },
    {
     "name": "stderr",
     "output_type": "stream",
     "text": [
      "done in 21.165580 seconds\n",
      "done in 21.155357 seconds\n",
      "sift: 193.45 seconds\n"
     ]
    },
    {
     "name": "stdout",
     "output_type": "stream",
     "text": [
      "(20, 16, 200)\n",
      "(20, 4, 200)\n",
      "(20, 200)\n",
      "471108"
     ]
    },
    {
     "name": "stderr",
     "output_type": "stream",
     "text": [
      "compute vocab: 0.01 seconds\n",
      "predict: 17.97 seconds\n"
     ]
    },
    {
     "name": "stdout",
     "output_type": "stream",
     "text": [
      " keypoints\n",
      "7n\n",
      "(20, 16, 200)\n",
      "(20, 4, 200)\n",
      "(20, 200)\n",
      "sp5\n"
     ]
    },
    {
     "name": "stderr",
     "output_type": "stream",
     "text": [
      "done in 21.058964 seconds\n"
     ]
    },
    {
     "name": "stdout",
     "output_type": "stream",
     "text": [
      "(20, 16, 200)\n",
      "(20, 4, 200)\n",
      "(20, 200)\n",
      "R\n"
     ]
    },
    {
     "name": "stderr",
     "output_type": "stream",
     "text": [
      "done in 20.954780 seconds\n"
     ]
    },
    {
     "name": "stdout",
     "output_type": "stream",
     "text": [
      "(20, 16, 200)\n",
      "(20, 4, 200)\n",
      "(20, 200)\n",
      "RtTg\n"
     ]
    },
    {
     "name": "stderr",
     "output_type": "stream",
     "text": [
      "done in 21.168441 seconds\n"
     ]
    },
    {
     "name": "stdout",
     "output_type": "stream",
     "text": [
      "(20, 16, 200)\n",
      "(20, 4, 200)\n",
      "(20, 200)\n",
      "7N\n"
     ]
    },
    {
     "name": "stderr",
     "output_type": "stream",
     "text": [
      "done in 21.563443 seconds\n"
     ]
    },
    {
     "name": "stdout",
     "output_type": "stream",
     "text": [
      "(20, 16, 200)\n",
      "(20, 4, 200)\n",
      "(20, 200)\n",
      "Pn\n"
     ]
    },
    {
     "name": "stderr",
     "output_type": "stream",
     "text": [
      "done in 21.072156 seconds\n"
     ]
    },
    {
     "name": "stdout",
     "output_type": "stream",
     "text": [
      "(20, 16, 200)\n",
      "(20, 4, 200)\n",
      "(20, 200)\n",
      "Tz\n"
     ]
    },
    {
     "name": "stderr",
     "output_type": "stream",
     "text": [
      "done in 20.759541 seconds\n"
     ]
    },
    {
     "name": "stdout",
     "output_type": "stream",
     "text": [
      "(20, 16, 200)\n",
      "(20, 4, 200)\n",
      "(20, 200)\n",
      "7n\n"
     ]
    },
    {
     "name": "stderr",
     "output_type": "stream",
     "text": [
      "done in 20.965633 seconds\n"
     ]
    },
    {
     "name": "stdout",
     "output_type": "stream",
     "text": [
      "(20, 16, 200)\n",
      "(20, 4, 200)\n",
      "(20, 200)\n",
      "sp5\n"
     ]
    },
    {
     "name": "stderr",
     "output_type": "stream",
     "text": [
      "done in 20.968918 seconds\n"
     ]
    },
    {
     "name": "stdout",
     "output_type": "stream",
     "text": [
      "(20, 16, 200)\n",
      "(20, 4, 200)\n",
      "(20, 200)\n",
      "R\n"
     ]
    },
    {
     "name": "stderr",
     "output_type": "stream",
     "text": [
      "done in 21.160869 seconds\n"
     ]
    },
    {
     "name": "stdout",
     "output_type": "stream",
     "text": [
      "(20, 16, 200)\n",
      "(20, 4, 200)\n",
      "(20, 200)\n",
      "RtTg\n"
     ]
    },
    {
     "name": "stderr",
     "output_type": "stream",
     "text": [
      "done in 21.164469 seconds\n"
     ]
    },
    {
     "name": "stdout",
     "output_type": "stream",
     "text": [
      "(20, 16, 200)\n",
      "(20, 4, 200)\n",
      "(20, 200)\n",
      "Pn\n"
     ]
    },
    {
     "name": "stderr",
     "output_type": "stream",
     "text": [
      "done in 21.264472 seconds\n",
      "done in 21.061001 seconds\n",
      "sift: 188.96 seconds\n"
     ]
    },
    {
     "name": "stdout",
     "output_type": "stream",
     "text": [
      "(20, 16, 200)\n",
      "(20, 4, 200)\n",
      "(20, 200)\n",
      "459038"
     ]
    },
    {
     "name": "stderr",
     "output_type": "stream",
     "text": [
      "compute vocab: 0.02 seconds\n",
      "predict: 17.51 seconds\n"
     ]
    },
    {
     "name": "stdout",
     "output_type": "stream",
     "text": [
      " keypoints\n",
      "Tz\n",
      "(20, 16, 200)\n",
      "(20, 4, 200)\n",
      "(20, 200)\n",
      "sp5\n"
     ]
    },
    {
     "name": "stderr",
     "output_type": "stream",
     "text": [
      "done in 21.368278 seconds\n"
     ]
    },
    {
     "name": "stdout",
     "output_type": "stream",
     "text": [
      "(20, 16, 200)\n",
      "(20, 4, 200)\n",
      "(20, 200)\n",
      "6N\n"
     ]
    },
    {
     "name": "stderr",
     "output_type": "stream",
     "text": [
      "done in 21.067884 seconds\n"
     ]
    },
    {
     "name": "stdout",
     "output_type": "stream",
     "text": [
      "(13, 16, 200)\n",
      "(13, 4, 200)\n",
      "(13, 200)\n",
      "R\n"
     ]
    },
    {
     "name": "stderr",
     "output_type": "stream",
     "text": [
      "done in 21.178102 seconds\n"
     ]
    },
    {
     "name": "stdout",
     "output_type": "stream",
     "text": [
      "(20, 16, 200)\n",
      "(20, 4, 200)\n",
      "(20, 200)\n",
      "RtTg\n"
     ]
    },
    {
     "name": "stderr",
     "output_type": "stream",
     "text": [
      "done in 21.164362 seconds\n"
     ]
    },
    {
     "name": "stdout",
     "output_type": "stream",
     "text": [
      "(20, 16, 200)\n",
      "(20, 4, 200)\n",
      "(20, 200)\n",
      "Pn\n"
     ]
    },
    {
     "name": "stderr",
     "output_type": "stream",
     "text": [
      "done in 21.171675 seconds\n"
     ]
    },
    {
     "name": "stdout",
     "output_type": "stream",
     "text": [
      "(20, 16, 200)\n",
      "(20, 4, 200)\n",
      "(20, 200)\n",
      "Tz\n"
     ]
    },
    {
     "name": "stderr",
     "output_type": "stream",
     "text": [
      "done in 20.975617 seconds\n"
     ]
    },
    {
     "name": "stdout",
     "output_type": "stream",
     "text": [
      "(20, 16, 200)\n",
      "(20, 4, 200)\n",
      "(20, 200)\n",
      "sp5\n"
     ]
    },
    {
     "name": "stderr",
     "output_type": "stream",
     "text": [
      "done in 20.882455 seconds\n"
     ]
    },
    {
     "name": "stdout",
     "output_type": "stream",
     "text": [
      "(20, 16, 200)\n",
      "(20, 4, 200)\n",
      "(20, 200)\n",
      "6N\n"
     ]
    },
    {
     "name": "stderr",
     "output_type": "stream",
     "text": [
      "done in 21.070985 seconds\n"
     ]
    },
    {
     "name": "stdout",
     "output_type": "stream",
     "text": [
      "(20, 16, 200)\n",
      "(20, 4, 200)\n",
      "(20, 200)\n",
      "R\n"
     ]
    },
    {
     "name": "stderr",
     "output_type": "stream",
     "text": [
      "done in 21.081390 seconds\n"
     ]
    },
    {
     "name": "stdout",
     "output_type": "stream",
     "text": [
      "(20, 16, 200)\n",
      "(20, 4, 200)\n",
      "(20, 200)\n",
      "12N\n"
     ]
    },
    {
     "name": "stderr",
     "output_type": "stream",
     "text": [
      "done in 21.264566 seconds\n"
     ]
    },
    {
     "name": "stdout",
     "output_type": "stream",
     "text": [
      "(20, 16, 200)\n",
      "(20, 4, 200)\n",
      "(20, 200)\n",
      "Pn\n"
     ]
    },
    {
     "name": "stderr",
     "output_type": "stream",
     "text": [
      "done in 21.276986 seconds\n"
     ]
    },
    {
     "name": "stdout",
     "output_type": "stream",
     "text": [
      "(20, 16, 200)\n",
      "(20, 4, 200)\n",
      "(20, 200)\n",
      "RtTg\n"
     ]
    },
    {
     "name": "stderr",
     "output_type": "stream",
     "text": [
      "done in 21.471475 seconds\n",
      "done in 21.179503 seconds\n",
      "sift: 191.86 seconds\n"
     ]
    },
    {
     "name": "stdout",
     "output_type": "stream",
     "text": [
      "(20, 16, 200)\n",
      "(20, 4, 200)\n",
      "(20, 200)\n",
      "486279"
     ]
    },
    {
     "name": "stderr",
     "output_type": "stream",
     "text": [
      "compute vocab: 0.01 seconds\n",
      "predict: 18.67 seconds\n"
     ]
    },
    {
     "name": "stdout",
     "output_type": "stream",
     "text": [
      " keypoints\n",
      "Tz\n",
      "(20, 16, 200)\n",
      "(20, 4, 200)\n",
      "(20, 200)\n",
      "sp5\n"
     ]
    },
    {
     "name": "stderr",
     "output_type": "stream",
     "text": [
      "done in 21.065605 seconds\n"
     ]
    },
    {
     "name": "stdout",
     "output_type": "stream",
     "text": [
      "(20, 16, 200)\n",
      "(20, 4, 200)\n",
      "(20, 200)\n",
      "12N\n"
     ]
    },
    {
     "name": "stderr",
     "output_type": "stream",
     "text": [
      "done in 21.267644 seconds\n"
     ]
    },
    {
     "name": "stdout",
     "output_type": "stream",
     "text": [
      "(20, 16, 200)\n",
      "(20, 4, 200)\n",
      "(20, 200)\n",
      "AP\n"
     ]
    },
    {
     "name": "stderr",
     "output_type": "stream",
     "text": [
      "done in 21.055824 seconds\n"
     ]
    },
    {
     "name": "stdout",
     "output_type": "stream",
     "text": [
      "(3, 16, 200)\n",
      "(3, 4, 200)\n",
      "(3, 200)\n",
      "R\n"
     ]
    },
    {
     "name": "stderr",
     "output_type": "stream",
     "text": [
      "done in 20.965077 seconds\n"
     ]
    },
    {
     "name": "stdout",
     "output_type": "stream",
     "text": [
      "(20, 16, 200)\n",
      "(20, 4, 200)\n",
      "(20, 200)\n",
      "RtTg\n"
     ]
    },
    {
     "name": "stderr",
     "output_type": "stream",
     "text": [
      "done in 20.960994 seconds\n"
     ]
    },
    {
     "name": "stdout",
     "output_type": "stream",
     "text": [
      "(20, 16, 200)\n",
      "(20, 4, 200)\n",
      "(20, 200)\n",
      "Pn\n"
     ]
    },
    {
     "name": "stderr",
     "output_type": "stream",
     "text": [
      "done in 21.166574 seconds\n"
     ]
    },
    {
     "name": "stdout",
     "output_type": "stream",
     "text": [
      "(20, 16, 200)\n",
      "(20, 4, 200)\n",
      "(20, 200)\n",
      "sp5\n"
     ]
    },
    {
     "name": "stderr",
     "output_type": "stream",
     "text": [
      "done in 21.163302 seconds\n"
     ]
    },
    {
     "name": "stdout",
     "output_type": "stream",
     "text": [
      "(20, 16, 200)\n",
      "(20, 4, 200)\n",
      "(20, 200)\n",
      "12N\n"
     ]
    },
    {
     "name": "stderr",
     "output_type": "stream",
     "text": [
      "done in 21.269550 seconds\n"
     ]
    },
    {
     "name": "stdout",
     "output_type": "stream",
     "text": [
      "(20, 16, 200)\n",
      "(20, 4, 200)\n",
      "(20, 200)\n",
      "AP\n"
     ]
    },
    {
     "name": "stderr",
     "output_type": "stream",
     "text": [
      "done in 21.259215 seconds\n"
     ]
    },
    {
     "name": "stdout",
     "output_type": "stream",
     "text": [
      "(20, 16, 200)\n",
      "(20, 4, 200)\n",
      "(20, 200)\n",
      "RtTg\n"
     ]
    },
    {
     "name": "stderr",
     "output_type": "stream",
     "text": [
      "done in 21.072499 seconds\n"
     ]
    },
    {
     "name": "stdout",
     "output_type": "stream",
     "text": [
      "(20, 16, 200)\n",
      "(20, 4, 200)\n",
      "(20, 200)\n",
      "Pn\n"
     ]
    },
    {
     "name": "stderr",
     "output_type": "stream",
     "text": [
      "done in 21.357906 seconds\n",
      "done in 21.270115 seconds\n",
      "sift: 194.09 seconds\n"
     ]
    },
    {
     "name": "stdout",
     "output_type": "stream",
     "text": [
      "(20, 16, 200)\n",
      "(20, 4, 200)\n",
      "(20, 200)\n",
      "492168"
     ]
    },
    {
     "name": "stderr",
     "output_type": "stream",
     "text": [
      "compute vocab: 0.01 seconds\n",
      "predict: 18.74 seconds\n"
     ]
    },
    {
     "name": "stdout",
     "output_type": "stream",
     "text": [
      " keypoints\n",
      "sp5\n",
      "(20, 16, 200)\n",
      "(20, 4, 200)\n",
      "(20, 200)\n",
      "12N\n"
     ]
    },
    {
     "name": "stderr",
     "output_type": "stream",
     "text": [
      "done in 21.073899 seconds\n"
     ]
    },
    {
     "name": "stdout",
     "output_type": "stream",
     "text": [
      "(20, 16, 200)\n",
      "(20, 4, 200)\n",
      "(20, 200)\n",
      "AP\n"
     ]
    },
    {
     "name": "stderr",
     "output_type": "stream",
     "text": [
      "done in 21.268503 seconds\n"
     ]
    },
    {
     "name": "stdout",
     "output_type": "stream",
     "text": [
      "(20, 16, 200)\n",
      "(20, 4, 200)\n",
      "(20, 200)\n",
      "RtTg\n"
     ]
    },
    {
     "name": "stderr",
     "output_type": "stream",
     "text": [
      "done in 21.073070 seconds\n"
     ]
    },
    {
     "name": "stdout",
     "output_type": "stream",
     "text": [
      "(20, 16, 200)\n",
      "(20, 4, 200)\n",
      "(20, 200)\n",
      "Pn\n"
     ]
    },
    {
     "name": "stderr",
     "output_type": "stream",
     "text": [
      "done in 21.361154 seconds\n"
     ]
    },
    {
     "name": "stdout",
     "output_type": "stream",
     "text": [
      "(20, 16, 200)\n",
      "(20, 4, 200)\n",
      "(20, 200)\n",
      "sp5\n"
     ]
    },
    {
     "name": "stderr",
     "output_type": "stream",
     "text": [
      "done in 21.175377 seconds\n"
     ]
    },
    {
     "name": "stdout",
     "output_type": "stream",
     "text": [
      "(20, 16, 200)\n",
      "(20, 4, 200)\n",
      "(20, 200)\n",
      "12N\n"
     ]
    },
    {
     "name": "stderr",
     "output_type": "stream",
     "text": [
      "done in 21.672615 seconds\n"
     ]
    },
    {
     "name": "stdout",
     "output_type": "stream",
     "text": [
      "(20, 16, 200)\n",
      "(20, 4, 200)\n",
      "(20, 200)\n",
      "AP\n"
     ]
    },
    {
     "name": "stderr",
     "output_type": "stream",
     "text": [
      "done in 21.982403 seconds\n"
     ]
    },
    {
     "name": "stdout",
     "output_type": "stream",
     "text": [
      "(20, 16, 200)\n",
      "(20, 4, 200)\n",
      "(20, 200)\n",
      "RtTg\n"
     ]
    },
    {
     "name": "stderr",
     "output_type": "stream",
     "text": [
      "done in 21.275082 seconds\n",
      "done in 21.676608 seconds\n",
      "sift: 157.97 seconds\n"
     ]
    },
    {
     "name": "stdout",
     "output_type": "stream",
     "text": [
      "(20, 16, 200)\n",
      "(20, 4, 200)\n",
      "(20, 200)\n",
      "484227"
     ]
    },
    {
     "name": "stderr",
     "output_type": "stream",
     "text": [
      "compute vocab: 0.02 seconds\n",
      "predict: 18.45 seconds\n"
     ]
    },
    {
     "name": "stdout",
     "output_type": "stream",
     "text": [
      " keypoints\n",
      "sp5\n",
      "(20, 16, 200)\n",
      "(20, 4, 200)\n",
      "(20, 200)\n",
      "12N\n"
     ]
    },
    {
     "name": "stderr",
     "output_type": "stream",
     "text": [
      "done in 21.464104 seconds\n"
     ]
    },
    {
     "name": "stdout",
     "output_type": "stream",
     "text": [
      "(20, 16, 200)\n",
      "(20, 4, 200)\n",
      "(20, 200)\n",
      "RtTg\n"
     ]
    },
    {
     "name": "stderr",
     "output_type": "stream",
     "text": [
      "done in 20.655210 seconds\n"
     ]
    },
    {
     "name": "stdout",
     "output_type": "stream",
     "text": [
      "(20, 16, 200)\n",
      "(20, 4, 200)\n",
      "(20, 200)\n",
      "sp5\n"
     ]
    },
    {
     "name": "stderr",
     "output_type": "stream",
     "text": [
      "done in 21.364821 seconds\n"
     ]
    },
    {
     "name": "stdout",
     "output_type": "stream",
     "text": [
      "(20, 16, 200)\n",
      "(20, 4, 200)\n",
      "(20, 200)\n",
      "12N\n"
     ]
    },
    {
     "name": "stderr",
     "output_type": "stream",
     "text": [
      "done in 22.067018 seconds\n"
     ]
    },
    {
     "name": "stdout",
     "output_type": "stream",
     "text": [
      "(20, 16, 200)\n",
      "(20, 4, 200)\n",
      "(20, 200)\n",
      "R\n"
     ]
    },
    {
     "name": "stderr",
     "output_type": "stream",
     "text": [
      "done in 21.770239 seconds\n"
     ]
    },
    {
     "name": "stdout",
     "output_type": "stream",
     "text": [
      "(20, 16, 200)\n",
      "(20, 4, 200)\n",
      "(20, 200)\n",
      "RtTg\n"
     ]
    },
    {
     "name": "stderr",
     "output_type": "stream",
     "text": [
      "done in 21.357981 seconds\n",
      "done in 21.770852 seconds\n",
      "sift: 173.34 seconds\n"
     ]
    },
    {
     "name": "stdout",
     "output_type": "stream",
     "text": [
      "(20, 16, 200)\n",
      "(20, 4, 200)\n",
      "(20, 200)\n",
      "451970"
     ]
    },
    {
     "name": "stderr",
     "output_type": "stream",
     "text": [
      "compute vocab: 0.01 seconds\n",
      "predict: 17.32 seconds\n"
     ]
    },
    {
     "name": "stdout",
     "output_type": "stream",
     "text": [
      " keypoints\n",
      "sp5\n",
      "(20, 16, 200)\n",
      "(20, 4, 200)\n",
      "(20, 200)\n",
      "12N\n"
     ]
    },
    {
     "name": "stderr",
     "output_type": "stream",
     "text": [
      "done in 21.675934 seconds\n"
     ]
    },
    {
     "name": "stdout",
     "output_type": "stream",
     "text": [
      "(20, 16, 200)\n",
      "(20, 4, 200)\n",
      "(20, 200)\n",
      "R\n"
     ]
    },
    {
     "name": "stderr",
     "output_type": "stream",
     "text": [
      "done in 21.268255 seconds\n"
     ]
    },
    {
     "name": "stdout",
     "output_type": "stream",
     "text": [
      "(20, 16, 200)\n",
      "(20, 4, 200)\n",
      "(20, 200)\n",
      "RtTg\n"
     ]
    },
    {
     "name": "stderr",
     "output_type": "stream",
     "text": [
      "done in 21.274303 seconds\n"
     ]
    },
    {
     "name": "stdout",
     "output_type": "stream",
     "text": [
      "(20, 16, 200)\n",
      "(20, 4, 200)\n",
      "(20, 200)\n",
      "Tz\n"
     ]
    },
    {
     "name": "stderr",
     "output_type": "stream",
     "text": [
      "done in 21.577974 seconds\n"
     ]
    },
    {
     "name": "stdout",
     "output_type": "stream",
     "text": [
      "(17, 16, 200)\n",
      "(17, 4, 200)\n",
      "(17, 200)\n",
      "sp5\n"
     ]
    },
    {
     "name": "stderr",
     "output_type": "stream",
     "text": [
      "done in 21.073644 seconds\n"
     ]
    },
    {
     "name": "stdout",
     "output_type": "stream",
     "text": [
      "(20, 16, 200)\n",
      "(20, 4, 200)\n",
      "(20, 200)\n",
      "RtTg\n"
     ]
    },
    {
     "name": "stderr",
     "output_type": "stream",
     "text": [
      "done in 21.272899 seconds\n"
     ]
    },
    {
     "name": "stdout",
     "output_type": "stream",
     "text": [
      "(20, 16, 200)\n",
      "(20, 4, 200)\n",
      "(20, 200)\n",
      "Pn\n"
     ]
    },
    {
     "name": "stderr",
     "output_type": "stream",
     "text": [
      "done in 21.075985 seconds\n",
      "done in 21.369885 seconds\n",
      "sift: 189.73 seconds\n"
     ]
    },
    {
     "name": "stdout",
     "output_type": "stream",
     "text": [
      "(20, 16, 200)\n",
      "(20, 4, 200)\n",
      "(20, 200)\n",
      "448887"
     ]
    },
    {
     "name": "stderr",
     "output_type": "stream",
     "text": [
      "compute vocab: 0.01 seconds\n",
      "predict: 17.11 seconds\n"
     ]
    },
    {
     "name": "stdout",
     "output_type": "stream",
     "text": [
      " keypoints\n",
      "Tz\n",
      "(20, 16, 200)\n",
      "(20, 4, 200)\n",
      "(20, 200)\n",
      "sp5\n"
     ]
    },
    {
     "name": "stderr",
     "output_type": "stream",
     "text": [
      "done in 21.273919 seconds\n"
     ]
    },
    {
     "name": "stdout",
     "output_type": "stream",
     "text": [
      "(20, 16, 200)\n",
      "(20, 4, 200)\n",
      "(20, 200)\n",
      "RtTg\n"
     ]
    },
    {
     "name": "stderr",
     "output_type": "stream",
     "text": [
      "done in 21.163314 seconds\n"
     ]
    },
    {
     "name": "stdout",
     "output_type": "stream",
     "text": [
      "(20, 16, 200)\n",
      "(20, 4, 200)\n",
      "(20, 200)\n",
      "Pn\n"
     ]
    },
    {
     "name": "stderr",
     "output_type": "stream",
     "text": [
      "done in 21.073001 seconds\n"
     ]
    },
    {
     "name": "stdout",
     "output_type": "stream",
     "text": [
      "(20, 16, 200)\n",
      "(20, 4, 200)\n",
      "(20, 200)\n",
      "Tz\n"
     ]
    },
    {
     "name": "stderr",
     "output_type": "stream",
     "text": [
      "done in 21.069206 seconds\n"
     ]
    },
    {
     "name": "stdout",
     "output_type": "stream",
     "text": [
      "(20, 16, 200)\n",
      "(20, 4, 200)\n",
      "(20, 200)\n",
      "7n\n"
     ]
    },
    {
     "name": "stderr",
     "output_type": "stream",
     "text": [
      "done in 21.278323 seconds\n"
     ]
    },
    {
     "name": "stdout",
     "output_type": "stream",
     "text": [
      "(20, 16, 200)\n",
      "(20, 4, 200)\n",
      "(20, 200)\n",
      "sp5\n"
     ]
    },
    {
     "name": "stderr",
     "output_type": "stream",
     "text": [
      "done in 21.473185 seconds\n"
     ]
    },
    {
     "name": "stdout",
     "output_type": "stream",
     "text": [
      "(20, 16, 200)\n",
      "(20, 4, 200)\n",
      "(20, 200)\n",
      "RtTg\n"
     ]
    },
    {
     "name": "stderr",
     "output_type": "stream",
     "text": [
      "done in 21.275773 seconds\n"
     ]
    },
    {
     "name": "stdout",
     "output_type": "stream",
     "text": [
      "(20, 16, 200)\n",
      "(20, 4, 200)\n",
      "(20, 200)\n",
      "Pn\n"
     ]
    },
    {
     "name": "stderr",
     "output_type": "stream",
     "text": [
      "done in 20.969623 seconds\n",
      "done in 21.273727 seconds\n",
      "sift: 183.69 seconds\n"
     ]
    },
    {
     "name": "stdout",
     "output_type": "stream",
     "text": [
      "(20, 16, 200)\n",
      "(20, 4, 200)\n",
      "(20, 200)\n",
      "433871"
     ]
    },
    {
     "name": "stderr",
     "output_type": "stream",
     "text": [
      "compute vocab: 0.01 seconds\n",
      "predict: 16.57 seconds\n"
     ]
    },
    {
     "name": "stdout",
     "output_type": "stream",
     "text": [
      " keypoints\n",
      "Tz\n",
      "(20, 16, 200)\n",
      "(20, 4, 200)\n",
      "(20, 200)\n",
      "7n\n"
     ]
    },
    {
     "name": "stderr",
     "output_type": "stream",
     "text": [
      "done in 21.165693 seconds\n"
     ]
    },
    {
     "name": "stdout",
     "output_type": "stream",
     "text": [
      "(20, 16, 200)\n",
      "(20, 4, 200)\n",
      "(20, 200)\n",
      "sp5\n"
     ]
    },
    {
     "name": "stderr",
     "output_type": "stream",
     "text": [
      "done in 21.258259 seconds\n"
     ]
    },
    {
     "name": "stdout",
     "output_type": "stream",
     "text": [
      "(20, 16, 200)\n",
      "(20, 4, 200)\n",
      "(20, 200)\n",
      "RtTg\n"
     ]
    },
    {
     "name": "stderr",
     "output_type": "stream",
     "text": [
      "done in 21.371106 seconds\n"
     ]
    },
    {
     "name": "stdout",
     "output_type": "stream",
     "text": [
      "(20, 16, 200)\n",
      "(20, 4, 200)\n",
      "(20, 200)\n",
      "Pn\n"
     ]
    },
    {
     "name": "stderr",
     "output_type": "stream",
     "text": [
      "done in 21.462648 seconds\n"
     ]
    },
    {
     "name": "stdout",
     "output_type": "stream",
     "text": [
      "(20, 16, 200)\n",
      "(20, 4, 200)\n",
      "(20, 200)\n",
      "Tz\n"
     ]
    },
    {
     "name": "stderr",
     "output_type": "stream",
     "text": [
      "done in 21.265985 seconds\n"
     ]
    },
    {
     "name": "stdout",
     "output_type": "stream",
     "text": [
      "(20, 16, 200)\n",
      "(20, 4, 200)\n",
      "(20, 200)\n",
      "LC\n"
     ]
    },
    {
     "name": "stderr",
     "output_type": "stream",
     "text": [
      "done in 21.459991 seconds\n"
     ]
    },
    {
     "name": "stdout",
     "output_type": "stream",
     "text": [
      "(20, 16, 200)\n",
      "(20, 4, 200)\n",
      "(20, 200)\n",
      "7n\n"
     ]
    },
    {
     "name": "stderr",
     "output_type": "stream",
     "text": [
      "done in 22.571469 seconds\n"
     ]
    },
    {
     "name": "stdout",
     "output_type": "stream",
     "text": [
      "(20, 16, 200)\n",
      "(20, 4, 200)\n",
      "(20, 200)\n",
      "sp5\n"
     ]
    },
    {
     "name": "stderr",
     "output_type": "stream",
     "text": [
      "done in 21.163283 seconds\n"
     ]
    },
    {
     "name": "stdout",
     "output_type": "stream",
     "text": [
      "(20, 16, 200)\n",
      "(20, 4, 200)\n",
      "(20, 200)\n",
      "RtTg\n"
     ]
    },
    {
     "name": "stderr",
     "output_type": "stream",
     "text": [
      "done in 21.568746 seconds\n"
     ]
    },
    {
     "name": "stdout",
     "output_type": "stream",
     "text": [
      "(20, 16, 200)\n",
      "(20, 4, 200)\n",
      "(20, 200)\n",
      "Pn\n"
     ]
    },
    {
     "name": "stderr",
     "output_type": "stream",
     "text": [
      "done in 21.460626 seconds\n",
      "done in 21.362060 seconds\n",
      "sift: 185.93 seconds\n"
     ]
    },
    {
     "name": "stdout",
     "output_type": "stream",
     "text": [
      "(20, 16, 200)\n",
      "(20, 4, 200)\n",
      "(20, 200)\n",
      "427354"
     ]
    },
    {
     "name": "stderr",
     "output_type": "stream",
     "text": [
      "compute vocab: 0.01 seconds\n",
      "predict: 16.38 seconds\n"
     ]
    },
    {
     "name": "stdout",
     "output_type": "stream",
     "text": [
      " keypoints\n",
      "Tz\n",
      "(11, 16, 200)\n",
      "(11, 4, 200)\n",
      "(11, 200)\n",
      "7n\n"
     ]
    },
    {
     "name": "stderr",
     "output_type": "stream",
     "text": [
      "done in 21.267981 seconds\n"
     ]
    },
    {
     "name": "stdout",
     "output_type": "stream",
     "text": [
      "(20, 16, 200)\n",
      "(20, 4, 200)\n",
      "(20, 200)\n",
      "sp5\n"
     ]
    },
    {
     "name": "stderr",
     "output_type": "stream",
     "text": [
      "done in 21.161552 seconds\n"
     ]
    },
    {
     "name": "stdout",
     "output_type": "stream",
     "text": [
      "(20, 16, 200)\n",
      "(20, 4, 200)\n",
      "(20, 200)\n",
      "RtTg\n"
     ]
    },
    {
     "name": "stderr",
     "output_type": "stream",
     "text": [
      "done in 20.965052 seconds\n"
     ]
    },
    {
     "name": "stdout",
     "output_type": "stream",
     "text": [
      "(20, 16, 200)\n",
      "(20, 4, 200)\n",
      "(20, 200)\n",
      "7N\n"
     ]
    },
    {
     "name": "stderr",
     "output_type": "stream",
     "text": [
      "done in 21.678164 seconds\n"
     ]
    },
    {
     "name": "stdout",
     "output_type": "stream",
     "text": [
      "(20, 16, 200)\n",
      "(20, 4, 200)\n",
      "(20, 200)\n",
      "Pn\n"
     ]
    },
    {
     "name": "stderr",
     "output_type": "stream",
     "text": [
      "done in 21.272483 seconds\n",
      "done in 20.666571 seconds\n",
      "sift: 152.29 seconds\n"
     ]
    },
    {
     "name": "stdout",
     "output_type": "stream",
     "text": [
      "(20, 16, 200)\n",
      "(20, 4, 200)\n",
      "(20, 200)\n",
      "417967"
     ]
    },
    {
     "name": "stderr",
     "output_type": "stream",
     "text": [
      "compute vocab: 0.02 seconds\n",
      "predict: 15.92 seconds\n"
     ]
    },
    {
     "name": "stdout",
     "output_type": "stream",
     "text": [
      " keypoints\n",
      "7N\n",
      "(20, 16, 200)\n",
      "(20, 4, 200)\n",
      "(20, 200)\n",
      "sp5\n"
     ]
    },
    {
     "name": "stderr",
     "output_type": "stream",
     "text": [
      "done in 21.265590 seconds\n"
     ]
    },
    {
     "name": "stdout",
     "output_type": "stream",
     "text": [
      "(20, 16, 200)\n",
      "(20, 4, 200)\n",
      "(20, 200)\n",
      "7n\n"
     ]
    },
    {
     "name": "stderr",
     "output_type": "stream",
     "text": [
      "done in 21.362419 seconds\n"
     ]
    },
    {
     "name": "stdout",
     "output_type": "stream",
     "text": [
      "(20, 16, 200)\n",
      "(20, 4, 200)\n",
      "(20, 200)\n",
      "Pn\n"
     ]
    },
    {
     "name": "stderr",
     "output_type": "stream",
     "text": [
      "done in 20.959979 seconds\n",
      "done in 21.368659 seconds\n",
      "sift: 159.19 seconds\n"
     ]
    },
    {
     "name": "stdout",
     "output_type": "stream",
     "text": [
      "(20, 16, 200)\n",
      "(20, 4, 200)\n",
      "(20, 200)\n",
      "412361"
     ]
    },
    {
     "name": "stderr",
     "output_type": "stream",
     "text": [
      "compute vocab: 0.01 seconds\n",
      "predict: 15.72 seconds\n"
     ]
    },
    {
     "name": "stdout",
     "output_type": "stream",
     "text": [
      " keypoints\n",
      "7N\n",
      "(20, 16, 200)\n",
      "(20, 4, 200)\n",
      "(20, 200)\n",
      "sp5\n"
     ]
    },
    {
     "name": "stderr",
     "output_type": "stream",
     "text": [
      "done in 21.273836 seconds\n"
     ]
    },
    {
     "name": "stdout",
     "output_type": "stream",
     "text": [
      "(20, 16, 200)\n",
      "(20, 4, 200)\n",
      "(20, 200)\n",
      "7n\n"
     ]
    },
    {
     "name": "stderr",
     "output_type": "stream",
     "text": [
      "done in 21.885530 seconds\n"
     ]
    },
    {
     "name": "stdout",
     "output_type": "stream",
     "text": [
      "(20, 16, 200)\n",
      "(20, 4, 200)\n",
      "(20, 200)\n",
      "Pn\n"
     ]
    },
    {
     "name": "stderr",
     "output_type": "stream",
     "text": [
      "done in 21.670838 seconds\n",
      "done in 22.085976 seconds\n",
      "sift: 183.04 seconds\n"
     ]
    },
    {
     "name": "stdout",
     "output_type": "stream",
     "text": [
      "(20, 16, 200)\n",
      "(20, 4, 200)\n",
      "(20, 200)\n",
      "407437"
     ]
    },
    {
     "name": "stderr",
     "output_type": "stream",
     "text": [
      "compute vocab: 0.02 seconds\n",
      "predict: 15.52 seconds\n"
     ]
    },
    {
     "name": "stdout",
     "output_type": "stream",
     "text": [
      " keypoints\n",
      "7N\n",
      "(20, 16, 200)\n",
      "(20, 4, 200)\n",
      "(20, 200)\n",
      "sp5\n"
     ]
    },
    {
     "name": "stderr",
     "output_type": "stream",
     "text": [
      "done in 21.765238 seconds\n"
     ]
    },
    {
     "name": "stdout",
     "output_type": "stream",
     "text": [
      "(20, 16, 200)\n",
      "(20, 4, 200)\n",
      "(20, 200)\n",
      "5N\n"
     ]
    },
    {
     "name": "stderr",
     "output_type": "stream",
     "text": [
      "done in 21.058366 seconds\n"
     ]
    },
    {
     "name": "stdout",
     "output_type": "stream",
     "text": [
      "(20, 16, 200)\n",
      "(20, 4, 200)\n",
      "(20, 200)\n",
      "7n\n"
     ]
    },
    {
     "name": "stderr",
     "output_type": "stream",
     "text": [
      "done in 21.373238 seconds\n"
     ]
    },
    {
     "name": "stdout",
     "output_type": "stream",
     "text": [
      "(20, 16, 200)\n",
      "(20, 4, 200)\n",
      "(20, 200)\n",
      "Pn\n"
     ]
    },
    {
     "name": "stderr",
     "output_type": "stream",
     "text": [
      "done in 21.361105 seconds\n",
      "done in 20.971954 seconds\n",
      "sift: 173.27 seconds\n"
     ]
    },
    {
     "name": "stdout",
     "output_type": "stream",
     "text": [
      "(20, 16, 200)\n",
      "(20, 4, 200)\n",
      "(20, 200)\n",
      "377518"
     ]
    },
    {
     "name": "stderr",
     "output_type": "stream",
     "text": [
      "compute vocab: 0.01 seconds\n",
      "predict: 14.42 seconds\n"
     ]
    },
    {
     "name": "stdout",
     "output_type": "stream",
     "text": [
      " keypoints\n",
      "VLL\n",
      "(20, 16, 200)\n",
      "(20, 4, 200)\n",
      "(20, 200)\n",
      "7N\n"
     ]
    },
    {
     "name": "stderr",
     "output_type": "stream",
     "text": [
      "done in 21.563746 seconds\n"
     ]
    },
    {
     "name": "stdout",
     "output_type": "stream",
     "text": [
      "(20, 16, 200)\n",
      "(20, 4, 200)\n",
      "(20, 200)\n",
      "Amb\n"
     ]
    },
    {
     "name": "stderr",
     "output_type": "stream",
     "text": [
      "done in 21.273345 seconds\n"
     ]
    },
    {
     "name": "stdout",
     "output_type": "stream",
     "text": [
      "(20, 16, 200)\n",
      "(20, 4, 200)\n",
      "(20, 200)\n",
      "sp5\n"
     ]
    },
    {
     "name": "stderr",
     "output_type": "stream",
     "text": [
      "done in 21.188033 seconds\n"
     ]
    },
    {
     "name": "stdout",
     "output_type": "stream",
     "text": [
      "(20, 16, 200)\n",
      "(20, 4, 200)\n",
      "(20, 200)\n",
      "5N\n"
     ]
    },
    {
     "name": "stderr",
     "output_type": "stream",
     "text": [
      "done in 21.266566 seconds\n"
     ]
    },
    {
     "name": "stdout",
     "output_type": "stream",
     "text": [
      "(20, 16, 200)\n",
      "(20, 4, 200)\n",
      "(20, 200)\n",
      "7n\n"
     ]
    },
    {
     "name": "stderr",
     "output_type": "stream",
     "text": [
      "done in 21.272234 seconds\n",
      "done in 20.865713 seconds\n",
      "sift: 168.36 seconds\n"
     ]
    },
    {
     "name": "stdout",
     "output_type": "stream",
     "text": [
      "(20, 16, 200)\n",
      "(20, 4, 200)\n",
      "(20, 200)\n",
      "377427"
     ]
    },
    {
     "name": "stderr",
     "output_type": "stream",
     "text": [
      "compute vocab: 0.02 seconds\n",
      "predict: 14.37 seconds\n"
     ]
    },
    {
     "name": "stdout",
     "output_type": "stream",
     "text": [
      " keypoints\n",
      "VLL\n",
      "(20, 16, 200)\n",
      "(20, 4, 200)\n",
      "(20, 200)\n",
      "7n\n"
     ]
    },
    {
     "name": "stderr",
     "output_type": "stream",
     "text": [
      "done in 21.261568 seconds\n"
     ]
    },
    {
     "name": "stdout",
     "output_type": "stream",
     "text": [
      "(20, 16, 200)\n",
      "(20, 4, 200)\n",
      "(20, 200)\n",
      "sp5\n"
     ]
    },
    {
     "name": "stderr",
     "output_type": "stream",
     "text": [
      "done in 21.268841 seconds\n"
     ]
    },
    {
     "name": "stdout",
     "output_type": "stream",
     "text": [
      "(20, 16, 200)\n",
      "(20, 4, 200)\n",
      "(20, 200)\n",
      "5N\n"
     ]
    },
    {
     "name": "stderr",
     "output_type": "stream",
     "text": [
      "done in 21.369148 seconds\n"
     ]
    },
    {
     "name": "stdout",
     "output_type": "stream",
     "text": [
      "(20, 16, 200)\n",
      "(20, 4, 200)\n",
      "(20, 200)\n",
      "LRt\n"
     ]
    },
    {
     "name": "stderr",
     "output_type": "stream",
     "text": [
      "done in 21.164454 seconds\n"
     ]
    },
    {
     "name": "stdout",
     "output_type": "stream",
     "text": [
      "(20, 16, 200)\n",
      "(20, 4, 200)\n",
      "(20, 200)\n",
      "7N\n"
     ]
    },
    {
     "name": "stderr",
     "output_type": "stream",
     "text": [
      "done in 21.466323 seconds\n",
      "done in 21.357159 seconds\n",
      "sift: 177.33 seconds\n"
     ]
    },
    {
     "name": "stdout",
     "output_type": "stream",
     "text": [
      "(20, 16, 200)\n",
      "(20, 4, 200)\n",
      "(20, 200)\n",
      "330999"
     ]
    },
    {
     "name": "stderr",
     "output_type": "stream",
     "text": [
      "compute vocab: 0.02 seconds\n",
      "predict: 12.62 seconds\n"
     ]
    },
    {
     "name": "stdout",
     "output_type": "stream",
     "text": [
      " keypoints\n",
      "VLL\n",
      "(20, 16, 200)\n",
      "(20, 4, 200)\n",
      "(20, 200)\n",
      "7n\n"
     ]
    },
    {
     "name": "stderr",
     "output_type": "stream",
     "text": [
      "done in 21.361606 seconds\n"
     ]
    },
    {
     "name": "stdout",
     "output_type": "stream",
     "text": [
      "(20, 16, 200)\n",
      "(20, 4, 200)\n",
      "(20, 200)\n",
      "sp5\n"
     ]
    },
    {
     "name": "stderr",
     "output_type": "stream",
     "text": [
      "done in 21.755832 seconds\n"
     ]
    },
    {
     "name": "stdout",
     "output_type": "stream",
     "text": [
      "(20, 16, 200)\n",
      "(20, 4, 200)\n",
      "(20, 200)\n",
      "5N\n"
     ]
    },
    {
     "name": "stderr",
     "output_type": "stream",
     "text": [
      "done in 21.368660 seconds\n"
     ]
    },
    {
     "name": "stdout",
     "output_type": "stream",
     "text": [
      "(20, 16, 200)\n",
      "(20, 4, 200)\n",
      "(20, 200)\n",
      "LRt\n"
     ]
    },
    {
     "name": "stderr",
     "output_type": "stream",
     "text": [
      "done in 21.359482 seconds\n"
     ]
    },
    {
     "name": "stdout",
     "output_type": "stream",
     "text": [
      "(20, 16, 200)\n",
      "(20, 4, 200)\n",
      "(20, 200)\n",
      "7N\n"
     ]
    },
    {
     "name": "stderr",
     "output_type": "stream",
     "text": [
      "done in 21.062789 seconds\n",
      "done in 21.161741 seconds\n",
      "sift: 178.67 seconds\n"
     ]
    },
    {
     "name": "stdout",
     "output_type": "stream",
     "text": [
      "(20, 16, 200)\n",
      "(20, 4, 200)\n",
      "(20, 200)\n",
      "321691"
     ]
    },
    {
     "name": "stderr",
     "output_type": "stream",
     "text": [
      "compute vocab: 0.02 seconds\n",
      "predict: 12.25 seconds\n"
     ]
    },
    {
     "name": "stdout",
     "output_type": "stream",
     "text": [
      " keypoints\n",
      "VLL\n",
      "(20, 16, 200)\n",
      "(20, 4, 200)\n",
      "(20, 200)\n",
      "7n\n"
     ]
    },
    {
     "name": "stderr",
     "output_type": "stream",
     "text": [
      "done in 20.980302 seconds\n"
     ]
    },
    {
     "name": "stdout",
     "output_type": "stream",
     "text": [
      "(20, 16, 200)\n",
      "(20, 4, 200)\n",
      "(20, 200)\n",
      "sp5\n"
     ]
    },
    {
     "name": "stderr",
     "output_type": "stream",
     "text": [
      "done in 21.568612 seconds\n"
     ]
    },
    {
     "name": "stdout",
     "output_type": "stream",
     "text": [
      "(20, 16, 200)\n",
      "(20, 4, 200)\n",
      "(20, 200)\n",
      "5N\n"
     ]
    },
    {
     "name": "stderr",
     "output_type": "stream",
     "text": [
      "done in 21.479609 seconds\n"
     ]
    },
    {
     "name": "stdout",
     "output_type": "stream",
     "text": [
      "(20, 16, 200)\n",
      "(20, 4, 200)\n",
      "(20, 200)\n",
      "7N\n"
     ]
    },
    {
     "name": "stderr",
     "output_type": "stream",
     "text": [
      "done in 20.769877 seconds\n",
      "done in 21.376096 seconds\n",
      "sift: 139.62 seconds\n"
     ]
    },
    {
     "name": "stdout",
     "output_type": "stream",
     "text": [
      "(20, 16, 200)\n",
      "(20, 4, 200)\n",
      "(20, 200)\n",
      "314313"
     ]
    },
    {
     "name": "stderr",
     "output_type": "stream",
     "text": [
      "compute vocab: 0.01 seconds\n",
      "predict: 12.03 seconds\n"
     ]
    },
    {
     "name": "stdout",
     "output_type": "stream",
     "text": [
      " keypoints\n",
      "7N\n",
      "(20, 16, 200)\n",
      "(20, 4, 200)\n",
      "(20, 200)\n",
      "sp5\n"
     ]
    },
    {
     "name": "stderr",
     "output_type": "stream",
     "text": [
      "done in 21.168973 seconds\n"
     ]
    },
    {
     "name": "stdout",
     "output_type": "stream",
     "text": [
      "(20, 16, 200)\n",
      "(20, 4, 200)\n",
      "(20, 200)\n",
      "7n\n"
     ]
    },
    {
     "name": "stderr",
     "output_type": "stream",
     "text": [
      "done in 21.264374 seconds\n"
     ]
    },
    {
     "name": "stdout",
     "output_type": "stream",
     "text": [
      "(20, 16, 200)\n",
      "(20, 4, 200)\n",
      "(20, 200)\n",
      "VLL\n"
     ]
    },
    {
     "name": "stderr",
     "output_type": "stream",
     "text": [
      "done in 21.074591 seconds\n"
     ]
    },
    {
     "name": "stdout",
     "output_type": "stream",
     "text": [
      "(20, 16, 200)\n",
      "(20, 4, 200)\n",
      "(20, 200)\n",
      "sp5\n"
     ]
    },
    {
     "name": "stderr",
     "output_type": "stream",
     "text": [
      "done in 22.177311 seconds\n",
      "done in 21.371237 seconds\n",
      "/oasis/projects/nsf/csd181/yuncong/virtualenv-1.9.1/yuncongve/lib/python2.7/site-packages/PIL/Image.py:2224: DecompressionBombWarning: Image size (190533632 pixels) exceeds limit of 89478485 pixels, could be decompression bomb DOS attack.\n",
      "  DecompressionBombWarning)\n"
     ]
    },
    {
     "name": "stdout",
     "output_type": "stream",
     "text": [
      "(20, 16, 200)\n",
      "(20, 4, 200)\n",
      "(20, 200)\n",
      "345538"
     ]
    },
    {
     "name": "stderr",
     "output_type": "stream",
     "text": [
      "sift: 196.37 seconds\n",
      "compute vocab: 0.02 seconds\n"
     ]
    },
    {
     "name": "stdout",
     "output_type": "stream",
     "text": [
      " keypoints\n",
      "VLL\n"
     ]
    },
    {
     "name": "stderr",
     "output_type": "stream",
     "text": [
      "predict: 13.31 seconds\n"
     ]
    },
    {
     "name": "stdout",
     "output_type": "stream",
     "text": [
      "(16, 16, 200)\n",
      "(16, 4, 200)\n",
      "(16, 200)\n",
      "7n\n"
     ]
    },
    {
     "name": "stderr",
     "output_type": "stream",
     "text": [
      "done in 21.487081 seconds\n"
     ]
    },
    {
     "name": "stdout",
     "output_type": "stream",
     "text": [
      "(20, 16, 200)\n",
      "(20, 4, 200)\n",
      "(20, 200)\n",
      "sp5\n"
     ]
    },
    {
     "name": "stderr",
     "output_type": "stream",
     "text": [
      "done in 21.285572 seconds\n"
     ]
    },
    {
     "name": "stdout",
     "output_type": "stream",
     "text": [
      "(20, 16, 200)\n",
      "(20, 4, 200)\n",
      "(20, 200)\n",
      "5N\n"
     ]
    },
    {
     "name": "stderr",
     "output_type": "stream",
     "text": [
      "done in 21.591263 seconds\n",
      "done in 21.481111 seconds\n",
      "sift: 189.80 seconds\n"
     ]
    },
    {
     "name": "stdout",
     "output_type": "stream",
     "text": [
      "(20, 16, 200)\n",
      "(20, 4, 200)\n",
      "(20, 200)\n",
      "319925"
     ]
    },
    {
     "name": "stderr",
     "output_type": "stream",
     "text": [
      "compute vocab: 0.02 seconds\n",
      "predict: 12.26 seconds\n"
     ]
    },
    {
     "name": "stdout",
     "output_type": "stream",
     "text": [
      " keypoints\n",
      "VLL\n",
      "(20, 16, 200)\n",
      "(20, 4, 200)\n",
      "(20, 200)\n",
      "7n\n"
     ]
    },
    {
     "name": "stderr",
     "output_type": "stream",
     "text": [
      "done in 21.283896 seconds\n"
     ]
    },
    {
     "name": "stdout",
     "output_type": "stream",
     "text": [
      "(20, 16, 200)\n",
      "(20, 4, 200)\n",
      "(20, 200)\n",
      "sp5\n"
     ]
    },
    {
     "name": "stderr",
     "output_type": "stream",
     "text": [
      "done in 21.571169 seconds\n"
     ]
    },
    {
     "name": "stdout",
     "output_type": "stream",
     "text": [
      "(20, 16, 200)\n",
      "(20, 4, 200)\n",
      "(20, 200)\n",
      "5N\n"
     ]
    },
    {
     "name": "stderr",
     "output_type": "stream",
     "text": [
      "done in 21.580106 seconds\n"
     ]
    },
    {
     "name": "stdout",
     "output_type": "stream",
     "text": [
      "(20, 16, 200)\n",
      "(20, 4, 200)\n",
      "(20, 200)\n",
      "7N\n"
     ]
    },
    {
     "name": "stderr",
     "output_type": "stream",
     "text": [
      "done in 22.076104 seconds\n",
      "done in 21.684050 seconds\n",
      "sift: 187.30 seconds\n"
     ]
    },
    {
     "name": "stdout",
     "output_type": "stream",
     "text": [
      "(20, 16, 200)\n",
      "(20, 4, 200)\n",
      "(20, 200)\n",
      "397119"
     ]
    },
    {
     "name": "stderr",
     "output_type": "stream",
     "text": [
      "compute vocab: 0.02 seconds\n",
      "predict: 15.29 seconds\n"
     ]
    },
    {
     "name": "stdout",
     "output_type": "stream",
     "text": [
      " keypoints\n",
      "VLL\n",
      "(20, 16, 200)\n",
      "(20, 4, 200)\n",
      "(20, 200)\n",
      "7n\n"
     ]
    },
    {
     "name": "stderr",
     "output_type": "stream",
     "text": [
      "done in 22.091545 seconds\n"
     ]
    },
    {
     "name": "stdout",
     "output_type": "stream",
     "text": [
      "(20, 16, 200)\n",
      "(20, 4, 200)\n",
      "(20, 200)\n",
      "sp5\n"
     ]
    },
    {
     "name": "stderr",
     "output_type": "stream",
     "text": [
      "done in 22.392641 seconds\n"
     ]
    },
    {
     "name": "stdout",
     "output_type": "stream",
     "text": [
      "(20, 16, 200)\n",
      "(20, 4, 200)\n",
      "(20, 200)\n",
      "5N\n"
     ]
    },
    {
     "name": "stderr",
     "output_type": "stream",
     "text": [
      "done in 22.094987 seconds\n"
     ]
    },
    {
     "name": "stdout",
     "output_type": "stream",
     "text": [
      "(20, 16, 200)\n",
      "(20, 4, 200)\n",
      "(20, 200)\n",
      "7N\n"
     ]
    },
    {
     "name": "stderr",
     "output_type": "stream",
     "text": [
      "done in 22.091444 seconds\n",
      "done in 22.803765 seconds\n",
      "sift: 190.19 seconds\n"
     ]
    },
    {
     "name": "stdout",
     "output_type": "stream",
     "text": [
      "(20, 16, 200)\n",
      "(20, 4, 200)\n",
      "(20, 200)\n",
      "321644"
     ]
    },
    {
     "name": "stderr",
     "output_type": "stream",
     "text": [
      "compute vocab: 0.02 seconds\n",
      "predict: 12.32 seconds\n"
     ]
    },
    {
     "name": "stdout",
     "output_type": "stream",
     "text": [
      " keypoints\n",
      "VLL\n",
      "(20, 16, 200)\n",
      "(20, 4, 200)\n",
      "(20, 200)\n",
      "7n\n"
     ]
    },
    {
     "name": "stderr",
     "output_type": "stream",
     "text": [
      "done in 21.575090 seconds\n"
     ]
    },
    {
     "name": "stdout",
     "output_type": "stream",
     "text": [
      "(20, 16, 200)\n",
      "(20, 4, 200)\n",
      "(20, 200)\n",
      "sp5\n"
     ]
    },
    {
     "name": "stderr",
     "output_type": "stream",
     "text": [
      "done in 21.677596 seconds\n"
     ]
    },
    {
     "name": "stdout",
     "output_type": "stream",
     "text": [
      "(20, 16, 200)\n",
      "(20, 4, 200)\n",
      "(20, 200)\n",
      "5N\n"
     ]
    },
    {
     "name": "stderr",
     "output_type": "stream",
     "text": [
      "done in 21.682299 seconds\n"
     ]
    },
    {
     "name": "stdout",
     "output_type": "stream",
     "text": [
      "(20, 16, 200)\n",
      "(20, 4, 200)\n",
      "(20, 200)\n",
      "LRt\n"
     ]
    },
    {
     "name": "stderr",
     "output_type": "stream",
     "text": [
      "done in 21.677974 seconds\n"
     ]
    },
    {
     "name": "stdout",
     "output_type": "stream",
     "text": [
      "(20, 16, 200)\n",
      "(20, 4, 200)\n",
      "(20, 200)\n",
      "7N\n"
     ]
    },
    {
     "name": "stderr",
     "output_type": "stream",
     "text": [
      "done in 21.678675 seconds\n",
      "done in 21.878393 seconds\n",
      "sift: 194.84 seconds\n"
     ]
    },
    {
     "name": "stdout",
     "output_type": "stream",
     "text": [
      "(20, 16, 200)\n",
      "(20, 4, 200)\n",
      "(20, 200)\n",
      "345600"
     ]
    },
    {
     "name": "stderr",
     "output_type": "stream",
     "text": [
      "compute vocab: 0.02 seconds\n",
      "predict: 13.29 seconds\n"
     ]
    },
    {
     "name": "stdout",
     "output_type": "stream",
     "text": [
      " keypoints\n",
      "7N\n",
      "(20, 16, 200)\n",
      "(20, 4, 200)\n",
      "(20, 200)\n",
      "Amb\n"
     ]
    },
    {
     "name": "stderr",
     "output_type": "stream",
     "text": [
      "done in 21.783486 seconds\n"
     ]
    },
    {
     "name": "stdout",
     "output_type": "stream",
     "text": [
      "(20, 16, 200)\n",
      "(20, 4, 200)\n",
      "(20, 200)\n",
      "5N\n"
     ]
    },
    {
     "name": "stderr",
     "output_type": "stream",
     "text": [
      "done in 21.573278 seconds\n"
     ]
    },
    {
     "name": "stdout",
     "output_type": "stream",
     "text": [
      "(14, 16, 200)\n",
      "(14, 4, 200)\n",
      "(14, 200)\n",
      "LRt\n"
     ]
    },
    {
     "name": "stderr",
     "output_type": "stream",
     "text": [
      "done in 21.786428 seconds\n"
     ]
    },
    {
     "name": "stdout",
     "output_type": "stream",
     "text": [
      "(20, 16, 200)\n",
      "(20, 4, 200)\n",
      "(20, 200)\n",
      "7n\n"
     ]
    },
    {
     "name": "stderr",
     "output_type": "stream",
     "text": [
      "done in 21.676018 seconds\n"
     ]
    },
    {
     "name": "stdout",
     "output_type": "stream",
     "text": [
      "(20, 16, 200)\n",
      "(20, 4, 200)\n",
      "(20, 200)\n",
      "Pn\n"
     ]
    },
    {
     "name": "stderr",
     "output_type": "stream",
     "text": [
      "done in 21.482449 seconds\n",
      "done in 21.877137 seconds\n",
      "sift: 197.86 seconds\n"
     ]
    },
    {
     "name": "stdout",
     "output_type": "stream",
     "text": [
      "(20, 16, 200)\n",
      "(20, 4, 200)\n",
      "(20, 200)\n",
      "348385"
     ]
    },
    {
     "name": "stderr",
     "output_type": "stream",
     "text": [
      "compute vocab: 0.02 seconds\n",
      "predict: 13.36 seconds\n"
     ]
    },
    {
     "name": "stdout",
     "output_type": "stream",
     "text": [
      " keypoints\n",
      "7n\n",
      "(20, 16, 200)\n",
      "(20, 4, 200)\n",
      "(20, 200)\n",
      "Amb\n"
     ]
    },
    {
     "name": "stderr",
     "output_type": "stream",
     "text": [
      "done in 21.853161 seconds\n"
     ]
    },
    {
     "name": "stdout",
     "output_type": "stream",
     "text": [
      "(20, 16, 200)\n",
      "(20, 4, 200)\n",
      "(20, 200)\n",
      "sp5\n"
     ]
    },
    {
     "name": "stderr",
     "output_type": "stream",
     "text": [
      "done in 21.285402 seconds\n"
     ]
    },
    {
     "name": "stdout",
     "output_type": "stream",
     "text": [
      "(20, 16, 200)\n",
      "(20, 4, 200)\n",
      "(20, 200)\n",
      "LRt\n"
     ]
    },
    {
     "name": "stderr",
     "output_type": "stream",
     "text": [
      "done in 21.591066 seconds\n"
     ]
    },
    {
     "name": "stdout",
     "output_type": "stream",
     "text": [
      "(20, 16, 200)\n",
      "(20, 4, 200)\n",
      "(20, 200)\n",
      "7N\n"
     ]
    },
    {
     "name": "stderr",
     "output_type": "stream",
     "text": [
      "done in 21.783411 seconds\n"
     ]
    },
    {
     "name": "stdout",
     "output_type": "stream",
     "text": [
      "(20, 16, 200)\n",
      "(20, 4, 200)\n",
      "(20, 200)\n",
      "Pn\n"
     ]
    },
    {
     "name": "stderr",
     "output_type": "stream",
     "text": [
      "done in 21.498712 seconds\n",
      "done in 21.586016 seconds\n",
      "sift: 203.33 seconds\n"
     ]
    },
    {
     "name": "stdout",
     "output_type": "stream",
     "text": [
      "(20, 16, 200)\n",
      "(20, 4, 200)\n",
      "(20, 200)\n",
      "404151"
     ]
    },
    {
     "name": "stderr",
     "output_type": "stream",
     "text": [
      "compute vocab: 0.02 seconds\n",
      "predict: 15.54 seconds\n"
     ]
    },
    {
     "name": "stdout",
     "output_type": "stream",
     "text": [
      " keypoints\n",
      "7n\n",
      "(20, 16, 200)\n",
      "(20, 4, 200)\n",
      "(20, 200)\n",
      "sp5\n"
     ]
    },
    {
     "name": "stderr",
     "output_type": "stream",
     "text": [
      "done in 21.787418 seconds\n"
     ]
    },
    {
     "name": "stdout",
     "output_type": "stream",
     "text": [
      "(20, 16, 200)\n",
      "(20, 4, 200)\n",
      "(20, 200)\n",
      "LRt\n"
     ]
    },
    {
     "name": "stderr",
     "output_type": "stream",
     "text": [
      "done in 21.781104 seconds\n"
     ]
    },
    {
     "name": "stdout",
     "output_type": "stream",
     "text": [
      "(20, 16, 200)\n",
      "(20, 4, 200)\n",
      "(20, 200)\n",
      "7N\n"
     ]
    },
    {
     "name": "stderr",
     "output_type": "stream",
     "text": [
      "done in 21.393181 seconds\n"
     ]
    },
    {
     "name": "stdout",
     "output_type": "stream",
     "text": [
      "(20, 16, 200)\n",
      "(20, 4, 200)\n",
      "(20, 200)\n",
      "Pn\n"
     ]
    },
    {
     "name": "stderr",
     "output_type": "stream",
     "text": [
      "done in 20.881082 seconds\n",
      "done in 21.599350 seconds\n",
      "sift: 189.07 seconds\n"
     ]
    },
    {
     "name": "stdout",
     "output_type": "stream",
     "text": [
      "(20, 16, 200)\n",
      "(20, 4, 200)\n",
      "(20, 200)\n",
      "360040"
     ]
    },
    {
     "name": "stderr",
     "output_type": "stream",
     "text": [
      "compute vocab: 0.02 seconds\n",
      "predict: 13.80 seconds\n"
     ]
    },
    {
     "name": "stdout",
     "output_type": "stream",
     "text": [
      " keypoints\n",
      "LC\n",
      "(20, 16, 200)\n",
      "(20, 4, 200)\n",
      "(20, 200)\n",
      "7n\n"
     ]
    },
    {
     "name": "stderr",
     "output_type": "stream",
     "text": [
      "done in 22.087552 seconds\n"
     ]
    },
    {
     "name": "stdout",
     "output_type": "stream",
     "text": [
      "(20, 16, 200)\n",
      "(20, 4, 200)\n",
      "(20, 200)\n",
      "sp5\n"
     ]
    },
    {
     "name": "stderr",
     "output_type": "stream",
     "text": [
      "done in 21.987276 seconds\n"
     ]
    },
    {
     "name": "stdout",
     "output_type": "stream",
     "text": [
      "(20, 16, 200)\n",
      "(20, 4, 200)\n",
      "(20, 200)\n",
      "LRt\n"
     ]
    },
    {
     "name": "stderr",
     "output_type": "stream",
     "text": [
      "done in 22.096540 seconds\n"
     ]
    },
    {
     "name": "stdout",
     "output_type": "stream",
     "text": [
      "(20, 16, 200)\n",
      "(20, 4, 200)\n",
      "(20, 200)\n",
      "7N\n"
     ]
    },
    {
     "name": "stderr",
     "output_type": "stream",
     "text": [
      "done in 22.303893 seconds\n"
     ]
    },
    {
     "name": "stdout",
     "output_type": "stream",
     "text": [
      "(20, 16, 200)\n",
      "(20, 4, 200)\n",
      "(20, 200)\n",
      "Pn\n"
     ]
    },
    {
     "name": "stderr",
     "output_type": "stream",
     "text": [
      "done in 21.993747 seconds\n",
      "done in 21.995099 seconds\n",
      "sift: 162.27 seconds\n"
     ]
    },
    {
     "name": "stdout",
     "output_type": "stream",
     "text": [
      "(20, 16, 200)\n",
      "(20, 4, 200)\n",
      "(20, 200)\n",
      "454361"
     ]
    },
    {
     "name": "stderr",
     "output_type": "stream",
     "text": [
      "compute vocab: 0.02 seconds\n",
      "predict: 17.43 seconds\n"
     ]
    },
    {
     "name": "stdout",
     "output_type": "stream",
     "text": [
      " keypoints\n",
      "LC\n",
      "(20, 16, 200)\n",
      "(20, 4, 200)\n",
      "(20, 200)\n",
      "7N\n"
     ]
    },
    {
     "name": "stderr",
     "output_type": "stream",
     "text": [
      "done in 21.595774 seconds\n"
     ]
    },
    {
     "name": "stdout",
     "output_type": "stream",
     "text": [
      "(20, 16, 200)\n",
      "(20, 4, 200)\n",
      "(20, 200)\n",
      "sp5\n"
     ]
    },
    {
     "name": "stderr",
     "output_type": "stream",
     "text": [
      "done in 21.590225 seconds\n"
     ]
    },
    {
     "name": "stdout",
     "output_type": "stream",
     "text": [
      "(20, 16, 200)\n",
      "(20, 4, 200)\n",
      "(20, 200)\n",
      "RtTg\n"
     ]
    },
    {
     "name": "stderr",
     "output_type": "stream",
     "text": [
      "done in 21.596201 seconds\n"
     ]
    },
    {
     "name": "stdout",
     "output_type": "stream",
     "text": [
      "(20, 16, 200)\n",
      "(20, 4, 200)\n",
      "(20, 200)\n",
      "7n\n"
     ]
    },
    {
     "name": "stderr",
     "output_type": "stream",
     "text": [
      "done in 21.685252 seconds\n"
     ]
    },
    {
     "name": "stdout",
     "output_type": "stream",
     "text": [
      "(20, 16, 200)\n",
      "(20, 4, 200)\n",
      "(20, 200)\n",
      "Pn\n"
     ]
    },
    {
     "name": "stderr",
     "output_type": "stream",
     "text": [
      "done in 21.685734 seconds\n"
     ]
    },
    {
     "name": "stdout",
     "output_type": "stream",
     "text": [
      "(20, 16, 200)\n",
      "(20, 4, 200)\n",
      "(20, 200)\n",
      "LRt\n"
     ]
    },
    {
     "name": "stderr",
     "output_type": "stream",
     "text": [
      "done in 21.677761 seconds\n"
     ]
    },
    {
     "name": "stdout",
     "output_type": "stream",
     "text": [
      "(20, 16, 200)\n",
      "(20, 4, 200)\n",
      "(20, 200)\n"
     ]
    },
    {
     "name": "stderr",
     "output_type": "stream",
     "text": [
      "done in 21.687864 seconds\n"
     ]
    },
    {
     "ename": "KeyboardInterrupt",
     "evalue": "",
     "output_type": "error",
     "traceback": [
      "\u001b[1;31m---------------------------------------------------------------------------\u001b[0m",
      "\u001b[1;31mKeyboardInterrupt\u001b[0m                         Traceback (most recent call last)",
      "\u001b[1;32m<ipython-input-7-4dfbf648fff8>\u001b[0m in \u001b[0;36m<module>\u001b[1;34m()\u001b[0m\n\u001b[0;32m     25\u001b[0m         \u001b[0mbar\u001b[0m\u001b[1;33m.\u001b[0m\u001b[0mvalue\u001b[0m \u001b[1;33m=\u001b[0m \u001b[0msec\u001b[0m\u001b[1;33m\u001b[0m\u001b[0m\n\u001b[0;32m     26\u001b[0m \u001b[1;33m\u001b[0m\u001b[0m\n\u001b[1;32m---> 27\u001b[1;33m         \u001b[0mlabelmap\u001b[0m \u001b[1;33m=\u001b[0m \u001b[0mcompute_labelmap\u001b[0m\u001b[1;33m(\u001b[0m\u001b[0mstack\u001b[0m\u001b[1;33m,\u001b[0m \u001b[0msec\u001b[0m\u001b[1;33m)\u001b[0m\u001b[1;33m\u001b[0m\u001b[0m\n\u001b[0m\u001b[0;32m     28\u001b[0m \u001b[1;33m\u001b[0m\u001b[0m\n\u001b[0;32m     29\u001b[0m         \u001b[0mmask_tb\u001b[0m \u001b[1;33m=\u001b[0m \u001b[0mDataManager\u001b[0m\u001b[1;33m.\u001b[0m\u001b[0mload_thumbnail_mask\u001b[0m\u001b[1;33m(\u001b[0m\u001b[0mstack\u001b[0m\u001b[1;33m,\u001b[0m \u001b[0msec\u001b[0m\u001b[1;33m)\u001b[0m\u001b[1;33m\u001b[0m\u001b[0m\n",
      "\u001b[1;32m/oasis/projects/nsf/csd395/yuncong/Brain/spm/sift_spm_utilities.pyc\u001b[0m in \u001b[0;36mcompute_labelmap\u001b[1;34m(stack, sec, force)\u001b[0m\n\u001b[0;32m    111\u001b[0m \u001b[1;33m\u001b[0m\u001b[0m\n\u001b[0;32m    112\u001b[0m         \u001b[0mt\u001b[0m \u001b[1;33m=\u001b[0m \u001b[0mtime\u001b[0m\u001b[1;33m.\u001b[0m\u001b[0mtime\u001b[0m\u001b[1;33m(\u001b[0m\u001b[1;33m)\u001b[0m\u001b[1;33m\u001b[0m\u001b[0m\n\u001b[1;32m--> 113\u001b[1;33m         \u001b[0mkeypoints\u001b[0m\u001b[1;33m,\u001b[0m \u001b[0mdescriptors\u001b[0m \u001b[1;33m=\u001b[0m \u001b[0msift\u001b[0m\u001b[1;33m.\u001b[0m\u001b[0mdetectAndCompute\u001b[0m\u001b[1;33m(\u001b[0m\u001b[0mimg\u001b[0m\u001b[1;33m,\u001b[0m \u001b[0mNone\u001b[0m\u001b[1;33m)\u001b[0m\u001b[1;33m;\u001b[0m\u001b[1;33m\u001b[0m\u001b[0m\n\u001b[0m\u001b[0;32m    114\u001b[0m         \u001b[0msys\u001b[0m\u001b[1;33m.\u001b[0m\u001b[0mstderr\u001b[0m\u001b[1;33m.\u001b[0m\u001b[0mwrite\u001b[0m\u001b[1;33m(\u001b[0m\u001b[1;34m'sift: %.2f seconds\\n'\u001b[0m \u001b[1;33m%\u001b[0m \u001b[1;33m(\u001b[0m\u001b[0mtime\u001b[0m\u001b[1;33m.\u001b[0m\u001b[0mtime\u001b[0m\u001b[1;33m(\u001b[0m\u001b[1;33m)\u001b[0m \u001b[1;33m-\u001b[0m \u001b[0mt\u001b[0m\u001b[1;33m)\u001b[0m\u001b[1;33m)\u001b[0m \u001b[1;31m# 128 dim descriptor ～ 170 seconds\u001b[0m\u001b[1;33m\u001b[0m\u001b[0m\n\u001b[0;32m    115\u001b[0m \u001b[1;33m\u001b[0m\u001b[0m\n",
      "\u001b[1;31mKeyboardInterrupt\u001b[0m: "
     ]
    }
   ],
   "source": [
    "indices_map = defaultdict(list)\n",
    "hists0_allLandmarks = defaultdict(list)\n",
    "hists1_allLandmarks = defaultdict(list)\n",
    "hists2_allLandmarks = defaultdict(list)\n",
    "\n",
    "# for stack in ['MD589', 'MD594', 'MD585']:\n",
    "for stack in ['MD589']:\n",
    "\n",
    "    username = 'yuncong'\n",
    "    label_polygons = load_label_polygons_if_exists(stack, username, force=False, \n",
    "                                                   annotation_rootdir=annotation_midbrainIncluded_rootdir)\n",
    "\n",
    "    image_width, image_height = DataManager.get_image_dimension(stack)\n",
    "    grid_spec = (patch_size, stride, image_width, image_height)\n",
    "    \n",
    "    sample_locations = grid_parameters_to_sample_locations(grid_spec=grid_spec)\n",
    "        \n",
    "    first_sec, last_sec = detect_bbox_range_lookup[stack]\n",
    "    bar = show_progress_bar(first_sec, last_sec)\n",
    "        \n",
    "#     for sec in range(first_sec, first_sec+2):\n",
    "#     for sec in range(first_sec, last_sec+1, 5):\n",
    "    for sec in [first_sec]:\n",
    "\n",
    "        bar.value = sec\n",
    "\n",
    "        labelmap = compute_labelmap(stack, sec)\n",
    "        \n",
    "        mask_tb = DataManager.load_thumbnail_mask(stack, sec)\n",
    "        indices_allLandmarks = locate_patches(grid_spec=grid_spec, mask_tb=mask_tb, polygons=label_polygons.loc[sec].dropna())\n",
    "        \n",
    "        for name, indices in indices_allLandmarks.iteritems():\n",
    "            \n",
    "            if name not in set(labels_unsided) - {'outerContour'}:\n",
    "                continue\n",
    "                \n",
    "            print name\n",
    "            \n",
    "#             indices = indices_allLandmarks_allSections[sec][name]\n",
    "\n",
    "            num_sample = 20\n",
    "            indices_sampled = np.random.choice(indices, min(len(indices), num_sample), replace=False)\n",
    "            sample_locs = sample_locations[indices_sampled]\n",
    "        \n",
    "            hists_arr0, hists_arr1, hists_arr2 = compute_spm_histograms(labelmap, sample_locs, patch_size=patch_size, M=M)\n",
    "            \n",
    "            hists0_allLandmarks[name].append(hists_arr0)\n",
    "            hists1_allLandmarks[name].append(hists_arr1)\n",
    "            hists2_allLandmarks[name].append(hists_arr2)\n",
    "            \n",
    "            indices_map[name].append(indices_sampled)\n",
    "\n",
    "hists0_allLandmarks.default_factory = None\n",
    "hists1_allLandmarks.default_factory = None\n",
    "hists2_allLandmarks.default_factory = None\n",
    "\n",
    "indices_map.default_factory = None"
   ]
  },
  {
   "cell_type": "code",
   "execution_count": null,
   "metadata": {},
   "outputs": [],
   "source": [
    "hists0_allLandmarks = {name: np.concatenate(arrs) for name, arrs in hists0_allLandmarks.iteritems()}\n",
    "hists1_allLandmarks = {name: np.concatenate(arrs) for name, arrs in hists1_allLandmarks.iteritems()}\n",
    "hists2_allLandmarks = {name: np.concatenate(arrs) for name, arrs in hists2_allLandmarks.iteritems()}\n",
    "indices_map = {name: [(i,) + l for i, l in enumerate(chain(*indices))] for name, indices in indices_map.iteritems()}"
   ]
  },
  {
   "cell_type": "code",
   "execution_count": null,
   "metadata": {
    "collapsed": true
   },
   "outputs": [],
   "source": [
    "for name, arr in hists0_allLandmarks.iteritems():\n",
    "    bp.pack_ndarray_file(arr, output_dir + '/train/%(name)s_histograms_l0.bp' % {'name': name})\n",
    "\n",
    "for name, arr in hists1_allLandmarks.iteritems():\n",
    "    bp.pack_ndarray_file(arr, output_dir + '/train/%(name)s_histograms_l1.bp' % {'name': name})\n",
    "\n",
    "for name, arr in hists2_allLandmarks.iteritems():\n",
    "    bp.pack_ndarray_file(arr, output_dir + '/train/%(name)s_histograms_l2.bp' % {'name': name})"
   ]
  },
  {
   "cell_type": "code",
   "execution_count": null,
   "metadata": {
    "collapsed": true
   },
   "outputs": [],
   "source": [
    "def save_table(data, fn):\n",
    "    with open(fn, 'w') as f:\n",
    "        for line in data:\n",
    "            f.write(' '.join([str(c) for c in line]) + '\\n')\n",
    "                \n",
    "def load_table(fn):\n",
    "    with open(fn, 'r') as f:\n",
    "        lines = f.readlines()\n",
    "    data = [l.split() for l in lines] \n",
    "    return data"
   ]
  },
  {
   "cell_type": "code",
   "execution_count": null,
   "metadata": {},
   "outputs": [],
   "source": [
    "for name, ind_map in indices_map.iteritems():\n",
    "    print name\n",
    "    save_table(ind_map, output_dir + '/train/train_indices/indices_map_%s.txt' % name)"
   ]
  },
  {
   "cell_type": "code",
   "execution_count": null,
   "metadata": {
    "collapsed": true
   },
   "outputs": [],
   "source": []
  }
 ],
 "metadata": {
  "kernelspec": {
   "display_name": "Python 2",
   "language": "python",
   "name": "python2"
  },
  "language_info": {
   "codemirror_mode": {
    "name": "ipython",
    "version": 2
   },
   "file_extension": ".py",
   "mimetype": "text/x-python",
   "name": "python",
   "nbconvert_exporter": "python",
   "pygments_lexer": "ipython2",
   "version": "2.7.12"
  }
 },
 "nbformat": 4,
 "nbformat_minor": 1
}
