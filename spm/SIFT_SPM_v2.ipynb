{
 "cells": [
  {
   "cell_type": "code",
   "execution_count": 1,
   "metadata": {},
   "outputs": [
    {
     "name": "stdout",
     "output_type": "stream",
     "text": [
      "Setting environment for AWS compute node\n"
     ]
    },
    {
     "name": "stderr",
     "output_type": "stream",
     "text": [
      "No vtk\n",
      "Cannot import mxnet.\n"
     ]
    }
   ],
   "source": [
    "%reload_ext autoreload\n",
    "%autoreload 2\n",
    "\n",
    "import os\n",
    "import sys\n",
    "import time\n",
    "sys.path.insert(1, \"/shared/opencv/release/lib/python2.7/dist-packages/\")\n",
    "import cv2\n",
    "import random\n",
    "from collections import defaultdict\n",
    "\n",
    "from sklearn.cluster import KMeans\n",
    "import pandas as pd\n",
    "\n",
    "sys.path.append(os.path.join(os.environ['REPO_DIR'], 'utilities'))\n",
    "from utilities2015 import *\n",
    "from metadata import *\n",
    "from data_manager import *\n",
    "from sift_spm_utilities import *\n",
    "from learning_utilities import *\n",
    "from annotation_utilities import *"
   ]
  },
  {
   "cell_type": "code",
   "execution_count": 2,
   "metadata": {
    "collapsed": true
   },
   "outputs": [],
   "source": [
    "# CSHL_SPM_ROOTDIR = '/shared/CSHL_SIFT_SPM_features/'\n",
    "M = 200 # vocabulary size\n",
    "colors = np.vstack([(0,0,0), np.random.randint(0, 255, (M, 3))])"
   ]
  },
  {
   "cell_type": "code",
   "execution_count": 3,
   "metadata": {
    "collapsed": true
   },
   "outputs": [],
   "source": [
    "win_id = 1"
   ]
  },
  {
   "cell_type": "code",
   "execution_count": 4,
   "metadata": {
    "collapsed": true
   },
   "outputs": [],
   "source": [
    "stack = 'MD589'"
   ]
  },
  {
   "cell_type": "code",
   "execution_count": 81,
   "metadata": {},
   "outputs": [
    {
     "name": "stdout",
     "output_type": "stream",
     "text": [
      "aws s3 cp \"/shared/CSHL_SPM/sift_keypoints/MD585/MD585-N16-2015.07.16-20.32.33_MD585_2_0047_sift_keypoints.bp\" \"s3://mousebrainatlas-data/CSHL_SPM/sift_keypoints/MD585/MD585-N16-2015.07.16-20.32.33_MD585_2_0047_sift_keypoints.bp\"\n",
      "aws s3 cp \"/shared/CSHL_SPM/sift_descriptors/MD585/MD585-N16-2015.07.16-20.32.33_MD585_2_0047_sift_descriptors.bp\" \"s3://mousebrainatlas-data/CSHL_SPM/sift_descriptors/MD585/MD585-N16-2015.07.16-20.32.33_MD585_2_0047_sift_descriptors.bp\"\n",
      "rm -rf \"/shared/CSHL_data_processed/MD585/MD585_prep2_lossless_gray/MD585-IHC16-2015.08.19-13.14.51_MD585_3_0048_prep2_lossless_gray.tif\" && mkdir -p \"/shared/CSHL_data_processed/MD585/MD585_prep2_lossless_gray\"\n",
      "aws s3 cp \"s3://mousebrainatlas-data/CSHL_data_processed/MD585/MD585_prep2_lossless_gray/MD585-IHC16-2015.08.19-13.14.51_MD585_3_0048_prep2_lossless_gray.tif\" \"/shared/CSHL_data_processed/MD585/MD585_prep2_lossless_gray/MD585-IHC16-2015.08.19-13.14.51_MD585_3_0048_prep2_lossless_gray.tif\"\n",
      "rm -rf \"/shared/CSHL_data_processed/MD585/MD585_prep2_thumbnail_mask/MD585-IHC16-2015.08.19-13.14.51_MD585_3_0048_prep2_thumbnail_mask.png\" && mkdir -p \"/shared/CSHL_data_processed/MD585/MD585_prep2_thumbnail_mask\"\n",
      "aws s3 cp \"s3://mousebrainatlas-data/CSHL_data_processed/MD585/MD585_prep2_thumbnail_mask/MD585-IHC16-2015.08.19-13.14.51_MD585_3_0048_prep2_thumbnail_mask.png\" \"/shared/CSHL_data_processed/MD585/MD585_prep2_thumbnail_mask/MD585-IHC16-2015.08.19-13.14.51_MD585_3_0048_prep2_thumbnail_mask.png\"\n",
      "aws s3 cp \"/shared/CSHL_SPM/sift_keypoints/MD585/MD585-IHC16-2015.08.19-13.14.51_MD585_3_0048_sift_keypoints.bp\" \"s3://mousebrainatlas-data/CSHL_SPM/sift_keypoints/MD585/MD585-IHC16-2015.08.19-13.14.51_MD585_3_0048_sift_keypoints.bp\"\n",
      "aws s3 cp \"/shared/CSHL_SPM/sift_descriptors/MD585/MD585-IHC16-2015.08.19-13.14.51_MD585_3_0048_sift_descriptors.bp\" \"s3://mousebrainatlas-data/CSHL_SPM/sift_descriptors/MD585/MD585-IHC16-2015.08.19-13.14.51_MD585_3_0048_sift_descriptors.bp\"\n",
      "rm -rf \"/shared/CSHL_data_processed/MD585/MD585_prep2_lossless_gray/MD585-N17-2015.07.16-20.35.23_MD585_1_0049_prep2_lossless_gray.tif\" && mkdir -p \"/shared/CSHL_data_processed/MD585/MD585_prep2_lossless_gray\"\n",
      "aws s3 cp \"s3://mousebrainatlas-data/CSHL_data_processed/MD585/MD585_prep2_lossless_gray/MD585-N17-2015.07.16-20.35.23_MD585_1_0049_prep2_lossless_gray.tif\" \"/shared/CSHL_data_processed/MD585/MD585_prep2_lossless_gray/MD585-N17-2015.07.16-20.35.23_MD585_1_0049_prep2_lossless_gray.tif\"\n",
      "rm -rf \"/shared/CSHL_data_processed/MD585/MD585_prep2_thumbnail_mask/MD585-N17-2015.07.16-20.35.23_MD585_1_0049_prep2_thumbnail_mask.png\" && mkdir -p \"/shared/CSHL_data_processed/MD585/MD585_prep2_thumbnail_mask\"\n",
      "aws s3 cp \"s3://mousebrainatlas-data/CSHL_data_processed/MD585/MD585_prep2_thumbnail_mask/MD585-N17-2015.07.16-20.35.23_MD585_1_0049_prep2_thumbnail_mask.png\" \"/shared/CSHL_data_processed/MD585/MD585_prep2_thumbnail_mask/MD585-N17-2015.07.16-20.35.23_MD585_1_0049_prep2_thumbnail_mask.png\"\n",
      "aws s3 cp \"/shared/CSHL_SPM/sift_keypoints/MD585/MD585-N17-2015.07.16-20.35.23_MD585_1_0049_sift_keypoints.bp\" \"s3://mousebrainatlas-data/CSHL_SPM/sift_keypoints/MD585/MD585-N17-2015.07.16-20.35.23_MD585_1_0049_sift_keypoints.bp\"\n",
      "aws s3 cp \"/shared/CSHL_SPM/sift_descriptors/MD585/MD585-N17-2015.07.16-20.35.23_MD585_1_0049_sift_descriptors.bp\" \"s3://mousebrainatlas-data/CSHL_SPM/sift_descriptors/MD585/MD585-N17-2015.07.16-20.35.23_MD585_1_0049_sift_descriptors.bp\"\n",
      "rm -rf \"/shared/CSHL_data_processed/MD585/MD585_prep2_lossless_gray/MD585-IHC17-2015.07.16-15.32.03_MD585_1_0049_prep2_lossless_gray.tif\" && mkdir -p \"/shared/CSHL_data_processed/MD585/MD585_prep2_lossless_gray\"\n",
      "aws s3 cp \"s3://mousebrainatlas-data/CSHL_data_processed/MD585/MD585_prep2_lossless_gray/MD585-IHC17-2015.07.16-15.32.03_MD585_1_0049_prep2_lossless_gray.tif\" \"/shared/CSHL_data_processed/MD585/MD585_prep2_lossless_gray/MD585-IHC17-2015.07.16-15.32.03_MD585_1_0049_prep2_lossless_gray.tif\"\n",
      "rm -rf \"/shared/CSHL_data_processed/MD585/MD585_prep2_thumbnail_mask/MD585-IHC17-2015.07.16-15.32.03_MD585_1_0049_prep2_thumbnail_mask.png\" && mkdir -p \"/shared/CSHL_data_processed/MD585/MD585_prep2_thumbnail_mask\"\n",
      "aws s3 cp \"s3://mousebrainatlas-data/CSHL_data_processed/MD585/MD585_prep2_thumbnail_mask/MD585-IHC17-2015.07.16-15.32.03_MD585_1_0049_prep2_thumbnail_mask.png\" \"/shared/CSHL_data_processed/MD585/MD585_prep2_thumbnail_mask/MD585-IHC17-2015.07.16-15.32.03_MD585_1_0049_prep2_thumbnail_mask.png\"\n",
      "aws s3 cp \"/shared/CSHL_SPM/sift_keypoints/MD585/MD585-IHC17-2015.07.16-15.32.03_MD585_1_0049_sift_keypoints.bp\" \"s3://mousebrainatlas-data/CSHL_SPM/sift_keypoints/MD585/MD585-IHC17-2015.07.16-15.32.03_MD585_1_0049_sift_keypoints.bp\"\n",
      "aws s3 cp \"/shared/CSHL_SPM/sift_descriptors/MD585/MD585-IHC17-2015.07.16-15.32.03_MD585_1_0049_sift_descriptors.bp\" \"s3://mousebrainatlas-data/CSHL_SPM/sift_descriptors/MD585/MD585-IHC17-2015.07.16-15.32.03_MD585_1_0049_sift_descriptors.bp\"\n",
      "rm -rf \"/shared/CSHL_data_processed/MD585/MD585_prep2_lossless_gray/MD585-N17-2015.07.16-20.35.23_MD585_2_0050_prep2_lossless_gray.tif\" && mkdir -p \"/shared/CSHL_data_processed/MD585/MD585_prep2_lossless_gray\"\n",
      "aws s3 cp \"s3://mousebrainatlas-data/CSHL_data_processed/MD585/MD585_prep2_lossless_gray/MD585-N17-2015.07.16-20.35.23_MD585_2_0050_prep2_lossless_gray.tif\" \"/shared/CSHL_data_processed/MD585/MD585_prep2_lossless_gray/MD585-N17-2015.07.16-20.35.23_MD585_2_0050_prep2_lossless_gray.tif\"\n",
      "rm -rf \"/shared/CSHL_data_processed/MD585/MD585_prep2_thumbnail_mask/MD585-N17-2015.07.16-20.35.23_MD585_2_0050_prep2_thumbnail_mask.png\" && mkdir -p \"/shared/CSHL_data_processed/MD585/MD585_prep2_thumbnail_mask\"\n",
      "aws s3 cp \"s3://mousebrainatlas-data/CSHL_data_processed/MD585/MD585_prep2_thumbnail_mask/MD585-N17-2015.07.16-20.35.23_MD585_2_0050_prep2_thumbnail_mask.png\" \"/shared/CSHL_data_processed/MD585/MD585_prep2_thumbnail_mask/MD585-N17-2015.07.16-20.35.23_MD585_2_0050_prep2_thumbnail_mask.png\"\n",
      "aws s3 cp \"/shared/CSHL_SPM/sift_keypoints/MD585/MD585-N17-2015.07.16-20.35.23_MD585_2_0050_sift_keypoints.bp\" \"s3://mousebrainatlas-data/CSHL_SPM/sift_keypoints/MD585/MD585-N17-2015.07.16-20.35.23_MD585_2_0050_sift_keypoints.bp\"\n",
      "aws s3 cp \"/shared/CSHL_SPM/sift_descriptors/MD585/MD585-N17-2015.07.16-20.35.23_MD585_2_0050_sift_descriptors.bp\" \"s3://mousebrainatlas-data/CSHL_SPM/sift_descriptors/MD585/MD585-N17-2015.07.16-20.35.23_MD585_2_0050_sift_descriptors.bp\"\n",
      "rm -rf \"/shared/CSHL_data_processed/MD585/MD585_prep2_lossless_gray/MD585-IHC17-2015.07.16-15.32.03_MD585_2_0050_prep2_lossless_gray.tif\" && mkdir -p \"/shared/CSHL_data_processed/MD585/MD585_prep2_lossless_gray\"\n",
      "aws s3 cp \"s3://mousebrainatlas-data/CSHL_data_processed/MD585/MD585_prep2_lossless_gray/MD585-IHC17-2015.07.16-15.32.03_MD585_2_0050_prep2_lossless_gray.tif\" \"/shared/CSHL_data_processed/MD585/MD585_prep2_lossless_gray/MD585-IHC17-2015.07.16-15.32.03_MD585_2_0050_prep2_lossless_gray.tif\"\n",
      "rm -rf \"/shared/CSHL_data_processed/MD585/MD585_prep2_thumbnail_mask/MD585-IHC17-2015.07.16-15.32.03_MD585_2_0050_prep2_thumbnail_mask.png\" && mkdir -p \"/shared/CSHL_data_processed/MD585/MD585_prep2_thumbnail_mask\"\n",
      "aws s3 cp \"s3://mousebrainatlas-data/CSHL_data_processed/MD585/MD585_prep2_thumbnail_mask/MD585-IHC17-2015.07.16-15.32.03_MD585_2_0050_prep2_thumbnail_mask.png\" \"/shared/CSHL_data_processed/MD585/MD585_prep2_thumbnail_mask/MD585-IHC17-2015.07.16-15.32.03_MD585_2_0050_prep2_thumbnail_mask.png\"\n",
      "aws s3 cp \"/shared/CSHL_SPM/sift_keypoints/MD585/MD585-IHC17-2015.07.16-15.32.03_MD585_2_0050_sift_keypoints.bp\" \"s3://mousebrainatlas-data/CSHL_SPM/sift_keypoints/MD585/MD585-IHC17-2015.07.16-15.32.03_MD585_2_0050_sift_keypoints.bp\"\n",
      "aws s3 cp \"/shared/CSHL_SPM/sift_descriptors/MD585/MD585-IHC17-2015.07.16-15.32.03_MD585_2_0050_sift_descriptors.bp\" \"s3://mousebrainatlas-data/CSHL_SPM/sift_descriptors/MD585/MD585-IHC17-2015.07.16-15.32.03_MD585_2_0050_sift_descriptors.bp\"\n",
      "rm -rf \"/shared/CSHL_data_processed/MD585/MD585_prep2_lossless_gray/MD585-N17-2015.07.16-20.35.23_MD585_3_0051_prep2_lossless_gray.tif\" && mkdir -p \"/shared/CSHL_data_processed/MD585/MD585_prep2_lossless_gray\"\n",
      "aws s3 cp \"s3://mousebrainatlas-data/CSHL_data_processed/MD585/MD585_prep2_lossless_gray/MD585-N17-2015.07.16-20.35.23_MD585_3_0051_prep2_lossless_gray.tif\" \"/shared/CSHL_data_processed/MD585/MD585_prep2_lossless_gray/MD585-N17-2015.07.16-20.35.23_MD585_3_0051_prep2_lossless_gray.tif\"\n"
     ]
    },
    {
     "name": "stdout",
     "output_type": "stream",
     "text": [
      "rm -rf \"/shared/CSHL_data_processed/MD585/MD585_prep2_thumbnail_mask/MD585-N17-2015.07.16-20.35.23_MD585_3_0051_prep2_thumbnail_mask.png\" && mkdir -p \"/shared/CSHL_data_processed/MD585/MD585_prep2_thumbnail_mask\"\n",
      "aws s3 cp \"s3://mousebrainatlas-data/CSHL_data_processed/MD585/MD585_prep2_thumbnail_mask/MD585-N17-2015.07.16-20.35.23_MD585_3_0051_prep2_thumbnail_mask.png\" \"/shared/CSHL_data_processed/MD585/MD585_prep2_thumbnail_mask/MD585-N17-2015.07.16-20.35.23_MD585_3_0051_prep2_thumbnail_mask.png\"\n",
      "aws s3 cp \"/shared/CSHL_SPM/sift_keypoints/MD585/MD585-N17-2015.07.16-20.35.23_MD585_3_0051_sift_keypoints.bp\" \"s3://mousebrainatlas-data/CSHL_SPM/sift_keypoints/MD585/MD585-N17-2015.07.16-20.35.23_MD585_3_0051_sift_keypoints.bp\"\n",
      "aws s3 cp \"/shared/CSHL_SPM/sift_descriptors/MD585/MD585-N17-2015.07.16-20.35.23_MD585_3_0051_sift_descriptors.bp\" \"s3://mousebrainatlas-data/CSHL_SPM/sift_descriptors/MD585/MD585-N17-2015.07.16-20.35.23_MD585_3_0051_sift_descriptors.bp\"\n",
      "rm -rf \"/shared/CSHL_data_processed/MD585/MD585_prep2_lossless_gray/MD585-IHC17-2015.07.16-15.32.03_MD585_3_0051_prep2_lossless_gray.tif\" && mkdir -p \"/shared/CSHL_data_processed/MD585/MD585_prep2_lossless_gray\"\n",
      "aws s3 cp \"s3://mousebrainatlas-data/CSHL_data_processed/MD585/MD585_prep2_lossless_gray/MD585-IHC17-2015.07.16-15.32.03_MD585_3_0051_prep2_lossless_gray.tif\" \"/shared/CSHL_data_processed/MD585/MD585_prep2_lossless_gray/MD585-IHC17-2015.07.16-15.32.03_MD585_3_0051_prep2_lossless_gray.tif\"\n",
      "rm -rf \"/shared/CSHL_data_processed/MD585/MD585_prep2_thumbnail_mask/MD585-IHC17-2015.07.16-15.32.03_MD585_3_0051_prep2_thumbnail_mask.png\" && mkdir -p \"/shared/CSHL_data_processed/MD585/MD585_prep2_thumbnail_mask\"\n",
      "aws s3 cp \"s3://mousebrainatlas-data/CSHL_data_processed/MD585/MD585_prep2_thumbnail_mask/MD585-IHC17-2015.07.16-15.32.03_MD585_3_0051_prep2_thumbnail_mask.png\" \"/shared/CSHL_data_processed/MD585/MD585_prep2_thumbnail_mask/MD585-IHC17-2015.07.16-15.32.03_MD585_3_0051_prep2_thumbnail_mask.png\"\n",
      "aws s3 cp \"/shared/CSHL_SPM/sift_keypoints/MD585/MD585-IHC17-2015.07.16-15.32.03_MD585_3_0051_sift_keypoints.bp\" \"s3://mousebrainatlas-data/CSHL_SPM/sift_keypoints/MD585/MD585-IHC17-2015.07.16-15.32.03_MD585_3_0051_sift_keypoints.bp\"\n",
      "aws s3 cp \"/shared/CSHL_SPM/sift_descriptors/MD585/MD585-IHC17-2015.07.16-15.32.03_MD585_3_0051_sift_descriptors.bp\" \"s3://mousebrainatlas-data/CSHL_SPM/sift_descriptors/MD585/MD585-IHC17-2015.07.16-15.32.03_MD585_3_0051_sift_descriptors.bp\"\n",
      "rm -rf \"/shared/CSHL_data_processed/MD585/MD585_prep2_lossless_gray/MD585-N18-2015.07.16-20.39.16_MD585_1_0052_prep2_lossless_gray.tif\" && mkdir -p \"/shared/CSHL_data_processed/MD585/MD585_prep2_lossless_gray\"\n",
      "aws s3 cp \"s3://mousebrainatlas-data/CSHL_data_processed/MD585/MD585_prep2_lossless_gray/MD585-N18-2015.07.16-20.39.16_MD585_1_0052_prep2_lossless_gray.tif\" \"/shared/CSHL_data_processed/MD585/MD585_prep2_lossless_gray/MD585-N18-2015.07.16-20.39.16_MD585_1_0052_prep2_lossless_gray.tif\"\n",
      "rm -rf \"/shared/CSHL_data_processed/MD585/MD585_prep2_thumbnail_mask/MD585-N18-2015.07.16-20.39.16_MD585_1_0052_prep2_thumbnail_mask.png\" && mkdir -p \"/shared/CSHL_data_processed/MD585/MD585_prep2_thumbnail_mask\"\n",
      "aws s3 cp \"s3://mousebrainatlas-data/CSHL_data_processed/MD585/MD585_prep2_thumbnail_mask/MD585-N18-2015.07.16-20.39.16_MD585_1_0052_prep2_thumbnail_mask.png\" \"/shared/CSHL_data_processed/MD585/MD585_prep2_thumbnail_mask/MD585-N18-2015.07.16-20.39.16_MD585_1_0052_prep2_thumbnail_mask.png\"\n",
      "aws s3 cp \"/shared/CSHL_SPM/sift_keypoints/MD585/MD585-N18-2015.07.16-20.39.16_MD585_1_0052_sift_keypoints.bp\" \"s3://mousebrainatlas-data/CSHL_SPM/sift_keypoints/MD585/MD585-N18-2015.07.16-20.39.16_MD585_1_0052_sift_keypoints.bp\"\n",
      "aws s3 cp \"/shared/CSHL_SPM/sift_descriptors/MD585/MD585-N18-2015.07.16-20.39.16_MD585_1_0052_sift_descriptors.bp\" \"s3://mousebrainatlas-data/CSHL_SPM/sift_descriptors/MD585/MD585-N18-2015.07.16-20.39.16_MD585_1_0052_sift_descriptors.bp\"\n",
      "rm -rf \"/shared/CSHL_data_processed/MD585/MD585_prep2_lossless_gray/MD585-IHC18-2015.07.16-15.35.58_MD585_1_0052_prep2_lossless_gray.tif\" && mkdir -p \"/shared/CSHL_data_processed/MD585/MD585_prep2_lossless_gray\"\n",
      "aws s3 cp \"s3://mousebrainatlas-data/CSHL_data_processed/MD585/MD585_prep2_lossless_gray/MD585-IHC18-2015.07.16-15.35.58_MD585_1_0052_prep2_lossless_gray.tif\" \"/shared/CSHL_data_processed/MD585/MD585_prep2_lossless_gray/MD585-IHC18-2015.07.16-15.35.58_MD585_1_0052_prep2_lossless_gray.tif\"\n",
      "rm -rf \"/shared/CSHL_data_processed/MD585/MD585_prep2_thumbnail_mask/MD585-IHC18-2015.07.16-15.35.58_MD585_1_0052_prep2_thumbnail_mask.png\" && mkdir -p \"/shared/CSHL_data_processed/MD585/MD585_prep2_thumbnail_mask\"\n",
      "aws s3 cp \"s3://mousebrainatlas-data/CSHL_data_processed/MD585/MD585_prep2_thumbnail_mask/MD585-IHC18-2015.07.16-15.35.58_MD585_1_0052_prep2_thumbnail_mask.png\" \"/shared/CSHL_data_processed/MD585/MD585_prep2_thumbnail_mask/MD585-IHC18-2015.07.16-15.35.58_MD585_1_0052_prep2_thumbnail_mask.png\"\n",
      "aws s3 cp \"/shared/CSHL_SPM/sift_keypoints/MD585/MD585-IHC18-2015.07.16-15.35.58_MD585_1_0052_sift_keypoints.bp\" \"s3://mousebrainatlas-data/CSHL_SPM/sift_keypoints/MD585/MD585-IHC18-2015.07.16-15.35.58_MD585_1_0052_sift_keypoints.bp\"\n",
      "aws s3 cp \"/shared/CSHL_SPM/sift_descriptors/MD585/MD585-IHC18-2015.07.16-15.35.58_MD585_1_0052_sift_descriptors.bp\" \"s3://mousebrainatlas-data/CSHL_SPM/sift_descriptors/MD585/MD585-IHC18-2015.07.16-15.35.58_MD585_1_0052_sift_descriptors.bp\"\n",
      "rm -rf \"/shared/CSHL_data_processed/MD585/MD585_prep2_lossless_gray/MD585-N18-2015.07.16-20.39.16_MD585_2_0053_prep2_lossless_gray.tif\" && mkdir -p \"/shared/CSHL_data_processed/MD585/MD585_prep2_lossless_gray\"\n",
      "aws s3 cp \"s3://mousebrainatlas-data/CSHL_data_processed/MD585/MD585_prep2_lossless_gray/MD585-N18-2015.07.16-20.39.16_MD585_2_0053_prep2_lossless_gray.tif\" \"/shared/CSHL_data_processed/MD585/MD585_prep2_lossless_gray/MD585-N18-2015.07.16-20.39.16_MD585_2_0053_prep2_lossless_gray.tif\"\n",
      "rm -rf \"/shared/CSHL_data_processed/MD585/MD585_prep2_thumbnail_mask/MD585-N18-2015.07.16-20.39.16_MD585_2_0053_prep2_thumbnail_mask.png\" && mkdir -p \"/shared/CSHL_data_processed/MD585/MD585_prep2_thumbnail_mask\"\n",
      "aws s3 cp \"s3://mousebrainatlas-data/CSHL_data_processed/MD585/MD585_prep2_thumbnail_mask/MD585-N18-2015.07.16-20.39.16_MD585_2_0053_prep2_thumbnail_mask.png\" \"/shared/CSHL_data_processed/MD585/MD585_prep2_thumbnail_mask/MD585-N18-2015.07.16-20.39.16_MD585_2_0053_prep2_thumbnail_mask.png\"\n",
      "aws s3 cp \"/shared/CSHL_SPM/sift_keypoints/MD585/MD585-N18-2015.07.16-20.39.16_MD585_2_0053_sift_keypoints.bp\" \"s3://mousebrainatlas-data/CSHL_SPM/sift_keypoints/MD585/MD585-N18-2015.07.16-20.39.16_MD585_2_0053_sift_keypoints.bp\"\n",
      "aws s3 cp \"/shared/CSHL_SPM/sift_descriptors/MD585/MD585-N18-2015.07.16-20.39.16_MD585_2_0053_sift_descriptors.bp\" \"s3://mousebrainatlas-data/CSHL_SPM/sift_descriptors/MD585/MD585-N18-2015.07.16-20.39.16_MD585_2_0053_sift_descriptors.bp\"\n",
      "rm -rf \"/shared/CSHL_data_processed/MD585/MD585_prep2_lossless_gray/MD585-IHC18-2015.07.16-15.35.58_MD585_2_0053_prep2_lossless_gray.tif\" && mkdir -p \"/shared/CSHL_data_processed/MD585/MD585_prep2_lossless_gray\"\n",
      "aws s3 cp \"s3://mousebrainatlas-data/CSHL_data_processed/MD585/MD585_prep2_lossless_gray/MD585-IHC18-2015.07.16-15.35.58_MD585_2_0053_prep2_lossless_gray.tif\" \"/shared/CSHL_data_processed/MD585/MD585_prep2_lossless_gray/MD585-IHC18-2015.07.16-15.35.58_MD585_2_0053_prep2_lossless_gray.tif\"\n",
      "rm -rf \"/shared/CSHL_data_processed/MD585/MD585_prep2_thumbnail_mask/MD585-IHC18-2015.07.16-15.35.58_MD585_2_0053_prep2_thumbnail_mask.png\" && mkdir -p \"/shared/CSHL_data_processed/MD585/MD585_prep2_thumbnail_mask\"\n",
      "aws s3 cp \"s3://mousebrainatlas-data/CSHL_data_processed/MD585/MD585_prep2_thumbnail_mask/MD585-IHC18-2015.07.16-15.35.58_MD585_2_0053_prep2_thumbnail_mask.png\" \"/shared/CSHL_data_processed/MD585/MD585_prep2_thumbnail_mask/MD585-IHC18-2015.07.16-15.35.58_MD585_2_0053_prep2_thumbnail_mask.png\"\n",
      "aws s3 cp \"/shared/CSHL_SPM/sift_keypoints/MD585/MD585-IHC18-2015.07.16-15.35.58_MD585_2_0053_sift_keypoints.bp\" \"s3://mousebrainatlas-data/CSHL_SPM/sift_keypoints/MD585/MD585-IHC18-2015.07.16-15.35.58_MD585_2_0053_sift_keypoints.bp\"\n",
      "aws s3 cp \"/shared/CSHL_SPM/sift_descriptors/MD585/MD585-IHC18-2015.07.16-15.35.58_MD585_2_0053_sift_descriptors.bp\" \"s3://mousebrainatlas-data/CSHL_SPM/sift_descriptors/MD585/MD585-IHC18-2015.07.16-15.35.58_MD585_2_0053_sift_descriptors.bp\"\n"
     ]
    },
    {
     "name": "stdout",
     "output_type": "stream",
     "text": [
      "rm -rf \"/shared/CSHL_data_processed/MD585/MD585_prep2_lossless_gray/MD585-N18-2015.07.16-20.39.16_MD585_3_0054_prep2_lossless_gray.tif\" && mkdir -p \"/shared/CSHL_data_processed/MD585/MD585_prep2_lossless_gray\"\n",
      "aws s3 cp \"s3://mousebrainatlas-data/CSHL_data_processed/MD585/MD585_prep2_lossless_gray/MD585-N18-2015.07.16-20.39.16_MD585_3_0054_prep2_lossless_gray.tif\" \"/shared/CSHL_data_processed/MD585/MD585_prep2_lossless_gray/MD585-N18-2015.07.16-20.39.16_MD585_3_0054_prep2_lossless_gray.tif\"\n",
      "rm -rf \"/shared/CSHL_data_processed/MD585/MD585_prep2_thumbnail_mask/MD585-N18-2015.07.16-20.39.16_MD585_3_0054_prep2_thumbnail_mask.png\" && mkdir -p \"/shared/CSHL_data_processed/MD585/MD585_prep2_thumbnail_mask\"\n",
      "aws s3 cp \"s3://mousebrainatlas-data/CSHL_data_processed/MD585/MD585_prep2_thumbnail_mask/MD585-N18-2015.07.16-20.39.16_MD585_3_0054_prep2_thumbnail_mask.png\" \"/shared/CSHL_data_processed/MD585/MD585_prep2_thumbnail_mask/MD585-N18-2015.07.16-20.39.16_MD585_3_0054_prep2_thumbnail_mask.png\"\n",
      "aws s3 cp \"/shared/CSHL_SPM/sift_keypoints/MD585/MD585-N18-2015.07.16-20.39.16_MD585_3_0054_sift_keypoints.bp\" \"s3://mousebrainatlas-data/CSHL_SPM/sift_keypoints/MD585/MD585-N18-2015.07.16-20.39.16_MD585_3_0054_sift_keypoints.bp\"\n",
      "aws s3 cp \"/shared/CSHL_SPM/sift_descriptors/MD585/MD585-N18-2015.07.16-20.39.16_MD585_3_0054_sift_descriptors.bp\" \"s3://mousebrainatlas-data/CSHL_SPM/sift_descriptors/MD585/MD585-N18-2015.07.16-20.39.16_MD585_3_0054_sift_descriptors.bp\"\n",
      "rm -rf \"/shared/CSHL_data_processed/MD585/MD585_prep2_lossless_gray/MD585-IHC18-2015.07.16-15.35.58_MD585_3_0054_prep2_lossless_gray.tif\" && mkdir -p \"/shared/CSHL_data_processed/MD585/MD585_prep2_lossless_gray\"\n",
      "aws s3 cp \"s3://mousebrainatlas-data/CSHL_data_processed/MD585/MD585_prep2_lossless_gray/MD585-IHC18-2015.07.16-15.35.58_MD585_3_0054_prep2_lossless_gray.tif\" \"/shared/CSHL_data_processed/MD585/MD585_prep2_lossless_gray/MD585-IHC18-2015.07.16-15.35.58_MD585_3_0054_prep2_lossless_gray.tif\"\n",
      "rm -rf \"/shared/CSHL_data_processed/MD585/MD585_prep2_thumbnail_mask/MD585-IHC18-2015.07.16-15.35.58_MD585_3_0054_prep2_thumbnail_mask.png\" && mkdir -p \"/shared/CSHL_data_processed/MD585/MD585_prep2_thumbnail_mask\"\n",
      "aws s3 cp \"s3://mousebrainatlas-data/CSHL_data_processed/MD585/MD585_prep2_thumbnail_mask/MD585-IHC18-2015.07.16-15.35.58_MD585_3_0054_prep2_thumbnail_mask.png\" \"/shared/CSHL_data_processed/MD585/MD585_prep2_thumbnail_mask/MD585-IHC18-2015.07.16-15.35.58_MD585_3_0054_prep2_thumbnail_mask.png\"\n",
      "aws s3 cp \"/shared/CSHL_SPM/sift_keypoints/MD585/MD585-IHC18-2015.07.16-15.35.58_MD585_3_0054_sift_keypoints.bp\" \"s3://mousebrainatlas-data/CSHL_SPM/sift_keypoints/MD585/MD585-IHC18-2015.07.16-15.35.58_MD585_3_0054_sift_keypoints.bp\"\n",
      "aws s3 cp \"/shared/CSHL_SPM/sift_descriptors/MD585/MD585-IHC18-2015.07.16-15.35.58_MD585_3_0054_sift_descriptors.bp\" \"s3://mousebrainatlas-data/CSHL_SPM/sift_descriptors/MD585/MD585-IHC18-2015.07.16-15.35.58_MD585_3_0054_sift_descriptors.bp\"\n",
      "rm -rf \"/shared/CSHL_data_processed/MD585/MD585_prep2_lossless_gray/MD585-N19-2015.07.16-20.43.18_MD585_1_0055_prep2_lossless_gray.tif\" && mkdir -p \"/shared/CSHL_data_processed/MD585/MD585_prep2_lossless_gray\"\n",
      "aws s3 cp \"s3://mousebrainatlas-data/CSHL_data_processed/MD585/MD585_prep2_lossless_gray/MD585-N19-2015.07.16-20.43.18_MD585_1_0055_prep2_lossless_gray.tif\" \"/shared/CSHL_data_processed/MD585/MD585_prep2_lossless_gray/MD585-N19-2015.07.16-20.43.18_MD585_1_0055_prep2_lossless_gray.tif\"\n",
      "rm -rf \"/shared/CSHL_data_processed/MD585/MD585_prep2_thumbnail_mask/MD585-N19-2015.07.16-20.43.18_MD585_1_0055_prep2_thumbnail_mask.png\" && mkdir -p \"/shared/CSHL_data_processed/MD585/MD585_prep2_thumbnail_mask\"\n",
      "aws s3 cp \"s3://mousebrainatlas-data/CSHL_data_processed/MD585/MD585_prep2_thumbnail_mask/MD585-N19-2015.07.16-20.43.18_MD585_1_0055_prep2_thumbnail_mask.png\" \"/shared/CSHL_data_processed/MD585/MD585_prep2_thumbnail_mask/MD585-N19-2015.07.16-20.43.18_MD585_1_0055_prep2_thumbnail_mask.png\"\n",
      "aws s3 cp \"/shared/CSHL_SPM/sift_keypoints/MD585/MD585-N19-2015.07.16-20.43.18_MD585_1_0055_sift_keypoints.bp\" \"s3://mousebrainatlas-data/CSHL_SPM/sift_keypoints/MD585/MD585-N19-2015.07.16-20.43.18_MD585_1_0055_sift_keypoints.bp\"\n",
      "aws s3 cp \"/shared/CSHL_SPM/sift_descriptors/MD585/MD585-N19-2015.07.16-20.43.18_MD585_1_0055_sift_descriptors.bp\" \"s3://mousebrainatlas-data/CSHL_SPM/sift_descriptors/MD585/MD585-N19-2015.07.16-20.43.18_MD585_1_0055_sift_descriptors.bp\"\n",
      "rm -rf \"/shared/CSHL_data_processed/MD585/MD585_prep2_lossless_gray/MD585-IHC19-2015.07.16-15.39.52_MD585_1_0055_prep2_lossless_gray.tif\" && mkdir -p \"/shared/CSHL_data_processed/MD585/MD585_prep2_lossless_gray\"\n",
      "aws s3 cp \"s3://mousebrainatlas-data/CSHL_data_processed/MD585/MD585_prep2_lossless_gray/MD585-IHC19-2015.07.16-15.39.52_MD585_1_0055_prep2_lossless_gray.tif\" \"/shared/CSHL_data_processed/MD585/MD585_prep2_lossless_gray/MD585-IHC19-2015.07.16-15.39.52_MD585_1_0055_prep2_lossless_gray.tif\"\n",
      "rm -rf \"/shared/CSHL_data_processed/MD585/MD585_prep2_thumbnail_mask/MD585-IHC19-2015.07.16-15.39.52_MD585_1_0055_prep2_thumbnail_mask.png\" && mkdir -p \"/shared/CSHL_data_processed/MD585/MD585_prep2_thumbnail_mask\"\n",
      "aws s3 cp \"s3://mousebrainatlas-data/CSHL_data_processed/MD585/MD585_prep2_thumbnail_mask/MD585-IHC19-2015.07.16-15.39.52_MD585_1_0055_prep2_thumbnail_mask.png\" \"/shared/CSHL_data_processed/MD585/MD585_prep2_thumbnail_mask/MD585-IHC19-2015.07.16-15.39.52_MD585_1_0055_prep2_thumbnail_mask.png\"\n",
      "aws s3 cp \"/shared/CSHL_SPM/sift_keypoints/MD585/MD585-IHC19-2015.07.16-15.39.52_MD585_1_0055_sift_keypoints.bp\" \"s3://mousebrainatlas-data/CSHL_SPM/sift_keypoints/MD585/MD585-IHC19-2015.07.16-15.39.52_MD585_1_0055_sift_keypoints.bp\"\n",
      "aws s3 cp \"/shared/CSHL_SPM/sift_descriptors/MD585/MD585-IHC19-2015.07.16-15.39.52_MD585_1_0055_sift_descriptors.bp\" \"s3://mousebrainatlas-data/CSHL_SPM/sift_descriptors/MD585/MD585-IHC19-2015.07.16-15.39.52_MD585_1_0055_sift_descriptors.bp\"\n",
      "rm -rf \"/shared/CSHL_data_processed/MD585/MD585_prep2_lossless_gray/MD585-N19-2015.07.16-20.43.18_MD585_2_0056_prep2_lossless_gray.tif\" && mkdir -p \"/shared/CSHL_data_processed/MD585/MD585_prep2_lossless_gray\"\n",
      "aws s3 cp \"s3://mousebrainatlas-data/CSHL_data_processed/MD585/MD585_prep2_lossless_gray/MD585-N19-2015.07.16-20.43.18_MD585_2_0056_prep2_lossless_gray.tif\" \"/shared/CSHL_data_processed/MD585/MD585_prep2_lossless_gray/MD585-N19-2015.07.16-20.43.18_MD585_2_0056_prep2_lossless_gray.tif\"\n",
      "rm -rf \"/shared/CSHL_data_processed/MD585/MD585_prep2_thumbnail_mask/MD585-N19-2015.07.16-20.43.18_MD585_2_0056_prep2_thumbnail_mask.png\" && mkdir -p \"/shared/CSHL_data_processed/MD585/MD585_prep2_thumbnail_mask\"\n",
      "aws s3 cp \"s3://mousebrainatlas-data/CSHL_data_processed/MD585/MD585_prep2_thumbnail_mask/MD585-N19-2015.07.16-20.43.18_MD585_2_0056_prep2_thumbnail_mask.png\" \"/shared/CSHL_data_processed/MD585/MD585_prep2_thumbnail_mask/MD585-N19-2015.07.16-20.43.18_MD585_2_0056_prep2_thumbnail_mask.png\"\n",
      "aws s3 cp \"/shared/CSHL_SPM/sift_keypoints/MD585/MD585-N19-2015.07.16-20.43.18_MD585_2_0056_sift_keypoints.bp\" \"s3://mousebrainatlas-data/CSHL_SPM/sift_keypoints/MD585/MD585-N19-2015.07.16-20.43.18_MD585_2_0056_sift_keypoints.bp\"\n",
      "aws s3 cp \"/shared/CSHL_SPM/sift_descriptors/MD585/MD585-N19-2015.07.16-20.43.18_MD585_2_0056_sift_descriptors.bp\" \"s3://mousebrainatlas-data/CSHL_SPM/sift_descriptors/MD585/MD585-N19-2015.07.16-20.43.18_MD585_2_0056_sift_descriptors.bp\"\n",
      "rm -rf \"/shared/CSHL_data_processed/MD585/MD585_prep2_lossless_gray/MD585-IHC19-2015.07.16-15.39.52_MD585_2_0056_prep2_lossless_gray.tif\" && mkdir -p \"/shared/CSHL_data_processed/MD585/MD585_prep2_lossless_gray\"\n",
      "aws s3 cp \"s3://mousebrainatlas-data/CSHL_data_processed/MD585/MD585_prep2_lossless_gray/MD585-IHC19-2015.07.16-15.39.52_MD585_2_0056_prep2_lossless_gray.tif\" \"/shared/CSHL_data_processed/MD585/MD585_prep2_lossless_gray/MD585-IHC19-2015.07.16-15.39.52_MD585_2_0056_prep2_lossless_gray.tif\"\n",
      "rm -rf \"/shared/CSHL_data_processed/MD585/MD585_prep2_thumbnail_mask/MD585-IHC19-2015.07.16-15.39.52_MD585_2_0056_prep2_thumbnail_mask.png\" && mkdir -p \"/shared/CSHL_data_processed/MD585/MD585_prep2_thumbnail_mask\"\n",
      "aws s3 cp \"s3://mousebrainatlas-data/CSHL_data_processed/MD585/MD585_prep2_thumbnail_mask/MD585-IHC19-2015.07.16-15.39.52_MD585_2_0056_prep2_thumbnail_mask.png\" \"/shared/CSHL_data_processed/MD585/MD585_prep2_thumbnail_mask/MD585-IHC19-2015.07.16-15.39.52_MD585_2_0056_prep2_thumbnail_mask.png\"\n"
     ]
    },
    {
     "name": "stdout",
     "output_type": "stream",
     "text": [
      "aws s3 cp \"/shared/CSHL_SPM/sift_keypoints/MD585/MD585-IHC19-2015.07.16-15.39.52_MD585_2_0056_sift_keypoints.bp\" \"s3://mousebrainatlas-data/CSHL_SPM/sift_keypoints/MD585/MD585-IHC19-2015.07.16-15.39.52_MD585_2_0056_sift_keypoints.bp\"\n",
      "aws s3 cp \"/shared/CSHL_SPM/sift_descriptors/MD585/MD585-IHC19-2015.07.16-15.39.52_MD585_2_0056_sift_descriptors.bp\" \"s3://mousebrainatlas-data/CSHL_SPM/sift_descriptors/MD585/MD585-IHC19-2015.07.16-15.39.52_MD585_2_0056_sift_descriptors.bp\"\n",
      "rm -rf \"/shared/CSHL_data_processed/MD585/MD585_prep2_lossless_gray/MD585-N19-2015.07.16-20.43.18_MD585_3_0057_prep2_lossless_gray.tif\" && mkdir -p \"/shared/CSHL_data_processed/MD585/MD585_prep2_lossless_gray\"\n",
      "aws s3 cp \"s3://mousebrainatlas-data/CSHL_data_processed/MD585/MD585_prep2_lossless_gray/MD585-N19-2015.07.16-20.43.18_MD585_3_0057_prep2_lossless_gray.tif\" \"/shared/CSHL_data_processed/MD585/MD585_prep2_lossless_gray/MD585-N19-2015.07.16-20.43.18_MD585_3_0057_prep2_lossless_gray.tif\"\n",
      "rm -rf \"/shared/CSHL_data_processed/MD585/MD585_prep2_thumbnail_mask/MD585-N19-2015.07.16-20.43.18_MD585_3_0057_prep2_thumbnail_mask.png\" && mkdir -p \"/shared/CSHL_data_processed/MD585/MD585_prep2_thumbnail_mask\"\n",
      "aws s3 cp \"s3://mousebrainatlas-data/CSHL_data_processed/MD585/MD585_prep2_thumbnail_mask/MD585-N19-2015.07.16-20.43.18_MD585_3_0057_prep2_thumbnail_mask.png\" \"/shared/CSHL_data_processed/MD585/MD585_prep2_thumbnail_mask/MD585-N19-2015.07.16-20.43.18_MD585_3_0057_prep2_thumbnail_mask.png\"\n",
      "aws s3 cp \"/shared/CSHL_SPM/sift_keypoints/MD585/MD585-N19-2015.07.16-20.43.18_MD585_3_0057_sift_keypoints.bp\" \"s3://mousebrainatlas-data/CSHL_SPM/sift_keypoints/MD585/MD585-N19-2015.07.16-20.43.18_MD585_3_0057_sift_keypoints.bp\"\n",
      "aws s3 cp \"/shared/CSHL_SPM/sift_descriptors/MD585/MD585-N19-2015.07.16-20.43.18_MD585_3_0057_sift_descriptors.bp\" \"s3://mousebrainatlas-data/CSHL_SPM/sift_descriptors/MD585/MD585-N19-2015.07.16-20.43.18_MD585_3_0057_sift_descriptors.bp\"\n",
      "rm -rf \"/shared/CSHL_data_processed/MD585/MD585_prep2_lossless_gray/MD585-IHC19-2015.07.16-15.39.52_MD585_3_0057_prep2_lossless_gray.tif\" && mkdir -p \"/shared/CSHL_data_processed/MD585/MD585_prep2_lossless_gray\"\n",
      "aws s3 cp \"s3://mousebrainatlas-data/CSHL_data_processed/MD585/MD585_prep2_lossless_gray/MD585-IHC19-2015.07.16-15.39.52_MD585_3_0057_prep2_lossless_gray.tif\" \"/shared/CSHL_data_processed/MD585/MD585_prep2_lossless_gray/MD585-IHC19-2015.07.16-15.39.52_MD585_3_0057_prep2_lossless_gray.tif\"\n",
      "rm -rf \"/shared/CSHL_data_processed/MD585/MD585_prep2_thumbnail_mask/MD585-IHC19-2015.07.16-15.39.52_MD585_3_0057_prep2_thumbnail_mask.png\" && mkdir -p \"/shared/CSHL_data_processed/MD585/MD585_prep2_thumbnail_mask\"\n",
      "aws s3 cp \"s3://mousebrainatlas-data/CSHL_data_processed/MD585/MD585_prep2_thumbnail_mask/MD585-IHC19-2015.07.16-15.39.52_MD585_3_0057_prep2_thumbnail_mask.png\" \"/shared/CSHL_data_processed/MD585/MD585_prep2_thumbnail_mask/MD585-IHC19-2015.07.16-15.39.52_MD585_3_0057_prep2_thumbnail_mask.png\"\n",
      "aws s3 cp \"/shared/CSHL_SPM/sift_keypoints/MD585/MD585-IHC19-2015.07.16-15.39.52_MD585_3_0057_sift_keypoints.bp\" \"s3://mousebrainatlas-data/CSHL_SPM/sift_keypoints/MD585/MD585-IHC19-2015.07.16-15.39.52_MD585_3_0057_sift_keypoints.bp\"\n",
      "aws s3 cp \"/shared/CSHL_SPM/sift_descriptors/MD585/MD585-IHC19-2015.07.16-15.39.52_MD585_3_0057_sift_descriptors.bp\" \"s3://mousebrainatlas-data/CSHL_SPM/sift_descriptors/MD585/MD585-IHC19-2015.07.16-15.39.52_MD585_3_0057_sift_descriptors.bp\"\n",
      "rm -rf \"/shared/CSHL_data_processed/MD585/MD585_prep2_lossless_gray/MD585-N20-2015.07.16-20.47.19_MD585_1_0058_prep2_lossless_gray.tif\" && mkdir -p \"/shared/CSHL_data_processed/MD585/MD585_prep2_lossless_gray\"\n",
      "aws s3 cp \"s3://mousebrainatlas-data/CSHL_data_processed/MD585/MD585_prep2_lossless_gray/MD585-N20-2015.07.16-20.47.19_MD585_1_0058_prep2_lossless_gray.tif\" \"/shared/CSHL_data_processed/MD585/MD585_prep2_lossless_gray/MD585-N20-2015.07.16-20.47.19_MD585_1_0058_prep2_lossless_gray.tif\"\n",
      "rm -rf \"/shared/CSHL_data_processed/MD585/MD585_prep2_thumbnail_mask/MD585-N20-2015.07.16-20.47.19_MD585_1_0058_prep2_thumbnail_mask.png\" && mkdir -p \"/shared/CSHL_data_processed/MD585/MD585_prep2_thumbnail_mask\"\n",
      "aws s3 cp \"s3://mousebrainatlas-data/CSHL_data_processed/MD585/MD585_prep2_thumbnail_mask/MD585-N20-2015.07.16-20.47.19_MD585_1_0058_prep2_thumbnail_mask.png\" \"/shared/CSHL_data_processed/MD585/MD585_prep2_thumbnail_mask/MD585-N20-2015.07.16-20.47.19_MD585_1_0058_prep2_thumbnail_mask.png\"\n",
      "aws s3 cp \"/shared/CSHL_SPM/sift_keypoints/MD585/MD585-N20-2015.07.16-20.47.19_MD585_1_0058_sift_keypoints.bp\" \"s3://mousebrainatlas-data/CSHL_SPM/sift_keypoints/MD585/MD585-N20-2015.07.16-20.47.19_MD585_1_0058_sift_keypoints.bp\"\n",
      "aws s3 cp \"/shared/CSHL_SPM/sift_descriptors/MD585/MD585-N20-2015.07.16-20.47.19_MD585_1_0058_sift_descriptors.bp\" \"s3://mousebrainatlas-data/CSHL_SPM/sift_descriptors/MD585/MD585-N20-2015.07.16-20.47.19_MD585_1_0058_sift_descriptors.bp\"\n",
      "rm -rf \"/shared/CSHL_data_processed/MD585/MD585_prep2_lossless_gray/MD585-IHC20-2015.07.16-15.43.53_MD585_1_0058_prep2_lossless_gray.tif\" && mkdir -p \"/shared/CSHL_data_processed/MD585/MD585_prep2_lossless_gray\"\n",
      "aws s3 cp \"s3://mousebrainatlas-data/CSHL_data_processed/MD585/MD585_prep2_lossless_gray/MD585-IHC20-2015.07.16-15.43.53_MD585_1_0058_prep2_lossless_gray.tif\" \"/shared/CSHL_data_processed/MD585/MD585_prep2_lossless_gray/MD585-IHC20-2015.07.16-15.43.53_MD585_1_0058_prep2_lossless_gray.tif\"\n",
      "rm -rf \"/shared/CSHL_data_processed/MD585/MD585_prep2_thumbnail_mask/MD585-IHC20-2015.07.16-15.43.53_MD585_1_0058_prep2_thumbnail_mask.png\" && mkdir -p \"/shared/CSHL_data_processed/MD585/MD585_prep2_thumbnail_mask\"\n",
      "aws s3 cp \"s3://mousebrainatlas-data/CSHL_data_processed/MD585/MD585_prep2_thumbnail_mask/MD585-IHC20-2015.07.16-15.43.53_MD585_1_0058_prep2_thumbnail_mask.png\" \"/shared/CSHL_data_processed/MD585/MD585_prep2_thumbnail_mask/MD585-IHC20-2015.07.16-15.43.53_MD585_1_0058_prep2_thumbnail_mask.png\"\n",
      "aws s3 cp \"/shared/CSHL_SPM/sift_keypoints/MD585/MD585-IHC20-2015.07.16-15.43.53_MD585_1_0058_sift_keypoints.bp\" \"s3://mousebrainatlas-data/CSHL_SPM/sift_keypoints/MD585/MD585-IHC20-2015.07.16-15.43.53_MD585_1_0058_sift_keypoints.bp\"\n",
      "aws s3 cp \"/shared/CSHL_SPM/sift_descriptors/MD585/MD585-IHC20-2015.07.16-15.43.53_MD585_1_0058_sift_descriptors.bp\" \"s3://mousebrainatlas-data/CSHL_SPM/sift_descriptors/MD585/MD585-IHC20-2015.07.16-15.43.53_MD585_1_0058_sift_descriptors.bp\"\n",
      "rm -rf \"/shared/CSHL_data_processed/MD585/MD585_prep2_lossless_gray/MD585-N20-2015.07.16-20.47.19_MD585_2_0059_prep2_lossless_gray.tif\" && mkdir -p \"/shared/CSHL_data_processed/MD585/MD585_prep2_lossless_gray\"\n",
      "aws s3 cp \"s3://mousebrainatlas-data/CSHL_data_processed/MD585/MD585_prep2_lossless_gray/MD585-N20-2015.07.16-20.47.19_MD585_2_0059_prep2_lossless_gray.tif\" \"/shared/CSHL_data_processed/MD585/MD585_prep2_lossless_gray/MD585-N20-2015.07.16-20.47.19_MD585_2_0059_prep2_lossless_gray.tif\"\n",
      "rm -rf \"/shared/CSHL_data_processed/MD585/MD585_prep2_thumbnail_mask/MD585-N20-2015.07.16-20.47.19_MD585_2_0059_prep2_thumbnail_mask.png\" && mkdir -p \"/shared/CSHL_data_processed/MD585/MD585_prep2_thumbnail_mask\"\n",
      "aws s3 cp \"s3://mousebrainatlas-data/CSHL_data_processed/MD585/MD585_prep2_thumbnail_mask/MD585-N20-2015.07.16-20.47.19_MD585_2_0059_prep2_thumbnail_mask.png\" \"/shared/CSHL_data_processed/MD585/MD585_prep2_thumbnail_mask/MD585-N20-2015.07.16-20.47.19_MD585_2_0059_prep2_thumbnail_mask.png\"\n",
      "aws s3 cp \"/shared/CSHL_SPM/sift_keypoints/MD585/MD585-N20-2015.07.16-20.47.19_MD585_2_0059_sift_keypoints.bp\" \"s3://mousebrainatlas-data/CSHL_SPM/sift_keypoints/MD585/MD585-N20-2015.07.16-20.47.19_MD585_2_0059_sift_keypoints.bp\"\n",
      "aws s3 cp \"/shared/CSHL_SPM/sift_descriptors/MD585/MD585-N20-2015.07.16-20.47.19_MD585_2_0059_sift_descriptors.bp\" \"s3://mousebrainatlas-data/CSHL_SPM/sift_descriptors/MD585/MD585-N20-2015.07.16-20.47.19_MD585_2_0059_sift_descriptors.bp\"\n",
      "rm -rf \"/shared/CSHL_data_processed/MD585/MD585_prep2_lossless_gray/MD585-IHC20-2015.07.16-15.43.53_MD585_2_0059_prep2_lossless_gray.tif\" && mkdir -p \"/shared/CSHL_data_processed/MD585/MD585_prep2_lossless_gray\"\n"
     ]
    },
    {
     "name": "stdout",
     "output_type": "stream",
     "text": [
      "aws s3 cp \"s3://mousebrainatlas-data/CSHL_data_processed/MD585/MD585_prep2_lossless_gray/MD585-IHC20-2015.07.16-15.43.53_MD585_2_0059_prep2_lossless_gray.tif\" \"/shared/CSHL_data_processed/MD585/MD585_prep2_lossless_gray/MD585-IHC20-2015.07.16-15.43.53_MD585_2_0059_prep2_lossless_gray.tif\"\n",
      "rm -rf \"/shared/CSHL_data_processed/MD585/MD585_prep2_thumbnail_mask/MD585-IHC20-2015.07.16-15.43.53_MD585_2_0059_prep2_thumbnail_mask.png\" && mkdir -p \"/shared/CSHL_data_processed/MD585/MD585_prep2_thumbnail_mask\"\n",
      "aws s3 cp \"s3://mousebrainatlas-data/CSHL_data_processed/MD585/MD585_prep2_thumbnail_mask/MD585-IHC20-2015.07.16-15.43.53_MD585_2_0059_prep2_thumbnail_mask.png\" \"/shared/CSHL_data_processed/MD585/MD585_prep2_thumbnail_mask/MD585-IHC20-2015.07.16-15.43.53_MD585_2_0059_prep2_thumbnail_mask.png\"\n",
      "aws s3 cp \"/shared/CSHL_SPM/sift_keypoints/MD585/MD585-IHC20-2015.07.16-15.43.53_MD585_2_0059_sift_keypoints.bp\" \"s3://mousebrainatlas-data/CSHL_SPM/sift_keypoints/MD585/MD585-IHC20-2015.07.16-15.43.53_MD585_2_0059_sift_keypoints.bp\"\n",
      "aws s3 cp \"/shared/CSHL_SPM/sift_descriptors/MD585/MD585-IHC20-2015.07.16-15.43.53_MD585_2_0059_sift_descriptors.bp\" \"s3://mousebrainatlas-data/CSHL_SPM/sift_descriptors/MD585/MD585-IHC20-2015.07.16-15.43.53_MD585_2_0059_sift_descriptors.bp\"\n",
      "rm -rf \"/shared/CSHL_data_processed/MD585/MD585_prep2_lossless_gray/MD585-N20-2015.07.16-20.47.19_MD585_3_0060_prep2_lossless_gray.tif\" && mkdir -p \"/shared/CSHL_data_processed/MD585/MD585_prep2_lossless_gray\"\n",
      "aws s3 cp \"s3://mousebrainatlas-data/CSHL_data_processed/MD585/MD585_prep2_lossless_gray/MD585-N20-2015.07.16-20.47.19_MD585_3_0060_prep2_lossless_gray.tif\" \"/shared/CSHL_data_processed/MD585/MD585_prep2_lossless_gray/MD585-N20-2015.07.16-20.47.19_MD585_3_0060_prep2_lossless_gray.tif\"\n",
      "rm -rf \"/shared/CSHL_data_processed/MD585/MD585_prep2_thumbnail_mask/MD585-N20-2015.07.16-20.47.19_MD585_3_0060_prep2_thumbnail_mask.png\" && mkdir -p \"/shared/CSHL_data_processed/MD585/MD585_prep2_thumbnail_mask\"\n",
      "aws s3 cp \"s3://mousebrainatlas-data/CSHL_data_processed/MD585/MD585_prep2_thumbnail_mask/MD585-N20-2015.07.16-20.47.19_MD585_3_0060_prep2_thumbnail_mask.png\" \"/shared/CSHL_data_processed/MD585/MD585_prep2_thumbnail_mask/MD585-N20-2015.07.16-20.47.19_MD585_3_0060_prep2_thumbnail_mask.png\"\n",
      "aws s3 cp \"/shared/CSHL_SPM/sift_keypoints/MD585/MD585-N20-2015.07.16-20.47.19_MD585_3_0060_sift_keypoints.bp\" \"s3://mousebrainatlas-data/CSHL_SPM/sift_keypoints/MD585/MD585-N20-2015.07.16-20.47.19_MD585_3_0060_sift_keypoints.bp\"\n",
      "aws s3 cp \"/shared/CSHL_SPM/sift_descriptors/MD585/MD585-N20-2015.07.16-20.47.19_MD585_3_0060_sift_descriptors.bp\" \"s3://mousebrainatlas-data/CSHL_SPM/sift_descriptors/MD585/MD585-N20-2015.07.16-20.47.19_MD585_3_0060_sift_descriptors.bp\"\n",
      "rm -rf \"/shared/CSHL_data_processed/MD585/MD585_prep2_lossless_gray/MD585-IHC20-2015.07.16-15.43.53_MD585_3_0060_prep2_lossless_gray.tif\" && mkdir -p \"/shared/CSHL_data_processed/MD585/MD585_prep2_lossless_gray\"\n",
      "aws s3 cp \"s3://mousebrainatlas-data/CSHL_data_processed/MD585/MD585_prep2_lossless_gray/MD585-IHC20-2015.07.16-15.43.53_MD585_3_0060_prep2_lossless_gray.tif\" \"/shared/CSHL_data_processed/MD585/MD585_prep2_lossless_gray/MD585-IHC20-2015.07.16-15.43.53_MD585_3_0060_prep2_lossless_gray.tif\"\n",
      "rm -rf \"/shared/CSHL_data_processed/MD585/MD585_prep2_thumbnail_mask/MD585-IHC20-2015.07.16-15.43.53_MD585_3_0060_prep2_thumbnail_mask.png\" && mkdir -p \"/shared/CSHL_data_processed/MD585/MD585_prep2_thumbnail_mask\"\n",
      "aws s3 cp \"s3://mousebrainatlas-data/CSHL_data_processed/MD585/MD585_prep2_thumbnail_mask/MD585-IHC20-2015.07.16-15.43.53_MD585_3_0060_prep2_thumbnail_mask.png\" \"/shared/CSHL_data_processed/MD585/MD585_prep2_thumbnail_mask/MD585-IHC20-2015.07.16-15.43.53_MD585_3_0060_prep2_thumbnail_mask.png\"\n",
      "aws s3 cp \"/shared/CSHL_SPM/sift_keypoints/MD585/MD585-IHC20-2015.07.16-15.43.53_MD585_3_0060_sift_keypoints.bp\" \"s3://mousebrainatlas-data/CSHL_SPM/sift_keypoints/MD585/MD585-IHC20-2015.07.16-15.43.53_MD585_3_0060_sift_keypoints.bp\"\n",
      "aws s3 cp \"/shared/CSHL_SPM/sift_descriptors/MD585/MD585-IHC20-2015.07.16-15.43.53_MD585_3_0060_sift_descriptors.bp\" \"s3://mousebrainatlas-data/CSHL_SPM/sift_descriptors/MD585/MD585-IHC20-2015.07.16-15.43.53_MD585_3_0060_sift_descriptors.bp\"\n",
      "rm -rf \"/shared/CSHL_data_processed/MD585/MD585_prep2_lossless_gray/MD585-N21-2015.07.18-07.06.33_MD585_1_0061_prep2_lossless_gray.tif\" && mkdir -p \"/shared/CSHL_data_processed/MD585/MD585_prep2_lossless_gray\"\n",
      "aws s3 cp \"s3://mousebrainatlas-data/CSHL_data_processed/MD585/MD585_prep2_lossless_gray/MD585-N21-2015.07.18-07.06.33_MD585_1_0061_prep2_lossless_gray.tif\" \"/shared/CSHL_data_processed/MD585/MD585_prep2_lossless_gray/MD585-N21-2015.07.18-07.06.33_MD585_1_0061_prep2_lossless_gray.tif\"\n",
      "rm -rf \"/shared/CSHL_data_processed/MD585/MD585_prep2_thumbnail_mask/MD585-N21-2015.07.18-07.06.33_MD585_1_0061_prep2_thumbnail_mask.png\" && mkdir -p \"/shared/CSHL_data_processed/MD585/MD585_prep2_thumbnail_mask\"\n",
      "aws s3 cp \"s3://mousebrainatlas-data/CSHL_data_processed/MD585/MD585_prep2_thumbnail_mask/MD585-N21-2015.07.18-07.06.33_MD585_1_0061_prep2_thumbnail_mask.png\" \"/shared/CSHL_data_processed/MD585/MD585_prep2_thumbnail_mask/MD585-N21-2015.07.18-07.06.33_MD585_1_0061_prep2_thumbnail_mask.png\"\n",
      "aws s3 cp \"/shared/CSHL_SPM/sift_keypoints/MD585/MD585-N21-2015.07.18-07.06.33_MD585_1_0061_sift_keypoints.bp\" \"s3://mousebrainatlas-data/CSHL_SPM/sift_keypoints/MD585/MD585-N21-2015.07.18-07.06.33_MD585_1_0061_sift_keypoints.bp\"\n",
      "aws s3 cp \"/shared/CSHL_SPM/sift_descriptors/MD585/MD585-N21-2015.07.18-07.06.33_MD585_1_0061_sift_descriptors.bp\" \"s3://mousebrainatlas-data/CSHL_SPM/sift_descriptors/MD585/MD585-N21-2015.07.18-07.06.33_MD585_1_0061_sift_descriptors.bp\"\n",
      "rm -rf \"/shared/CSHL_data_processed/MD585/MD585_prep2_lossless_gray/MD585-IHC21-2015.07.16-15.47.52_MD585_1_0061_prep2_lossless_gray.tif\" && mkdir -p \"/shared/CSHL_data_processed/MD585/MD585_prep2_lossless_gray\"\n",
      "aws s3 cp \"s3://mousebrainatlas-data/CSHL_data_processed/MD585/MD585_prep2_lossless_gray/MD585-IHC21-2015.07.16-15.47.52_MD585_1_0061_prep2_lossless_gray.tif\" \"/shared/CSHL_data_processed/MD585/MD585_prep2_lossless_gray/MD585-IHC21-2015.07.16-15.47.52_MD585_1_0061_prep2_lossless_gray.tif\"\n",
      "rm -rf \"/shared/CSHL_data_processed/MD585/MD585_prep2_thumbnail_mask/MD585-IHC21-2015.07.16-15.47.52_MD585_1_0061_prep2_thumbnail_mask.png\" && mkdir -p \"/shared/CSHL_data_processed/MD585/MD585_prep2_thumbnail_mask\"\n",
      "aws s3 cp \"s3://mousebrainatlas-data/CSHL_data_processed/MD585/MD585_prep2_thumbnail_mask/MD585-IHC21-2015.07.16-15.47.52_MD585_1_0061_prep2_thumbnail_mask.png\" \"/shared/CSHL_data_processed/MD585/MD585_prep2_thumbnail_mask/MD585-IHC21-2015.07.16-15.47.52_MD585_1_0061_prep2_thumbnail_mask.png\"\n",
      "aws s3 cp \"/shared/CSHL_SPM/sift_keypoints/MD585/MD585-IHC21-2015.07.16-15.47.52_MD585_1_0061_sift_keypoints.bp\" \"s3://mousebrainatlas-data/CSHL_SPM/sift_keypoints/MD585/MD585-IHC21-2015.07.16-15.47.52_MD585_1_0061_sift_keypoints.bp\"\n",
      "aws s3 cp \"/shared/CSHL_SPM/sift_descriptors/MD585/MD585-IHC21-2015.07.16-15.47.52_MD585_1_0061_sift_descriptors.bp\" \"s3://mousebrainatlas-data/CSHL_SPM/sift_descriptors/MD585/MD585-IHC21-2015.07.16-15.47.52_MD585_1_0061_sift_descriptors.bp\"\n",
      "rm -rf \"/shared/CSHL_data_processed/MD585/MD585_prep2_lossless_gray/MD585-N21-2015.07.18-07.06.33_MD585_2_0062_prep2_lossless_gray.tif\" && mkdir -p \"/shared/CSHL_data_processed/MD585/MD585_prep2_lossless_gray\"\n",
      "aws s3 cp \"s3://mousebrainatlas-data/CSHL_data_processed/MD585/MD585_prep2_lossless_gray/MD585-N21-2015.07.18-07.06.33_MD585_2_0062_prep2_lossless_gray.tif\" \"/shared/CSHL_data_processed/MD585/MD585_prep2_lossless_gray/MD585-N21-2015.07.18-07.06.33_MD585_2_0062_prep2_lossless_gray.tif\"\n",
      "rm -rf \"/shared/CSHL_data_processed/MD585/MD585_prep2_thumbnail_mask/MD585-N21-2015.07.18-07.06.33_MD585_2_0062_prep2_thumbnail_mask.png\" && mkdir -p \"/shared/CSHL_data_processed/MD585/MD585_prep2_thumbnail_mask\"\n",
      "aws s3 cp \"s3://mousebrainatlas-data/CSHL_data_processed/MD585/MD585_prep2_thumbnail_mask/MD585-N21-2015.07.18-07.06.33_MD585_2_0062_prep2_thumbnail_mask.png\" \"/shared/CSHL_data_processed/MD585/MD585_prep2_thumbnail_mask/MD585-N21-2015.07.18-07.06.33_MD585_2_0062_prep2_thumbnail_mask.png\"\n",
      "aws s3 cp \"/shared/CSHL_SPM/sift_keypoints/MD585/MD585-N21-2015.07.18-07.06.33_MD585_2_0062_sift_keypoints.bp\" \"s3://mousebrainatlas-data/CSHL_SPM/sift_keypoints/MD585/MD585-N21-2015.07.18-07.06.33_MD585_2_0062_sift_keypoints.bp\"\n"
     ]
    },
    {
     "name": "stdout",
     "output_type": "stream",
     "text": [
      "aws s3 cp \"/shared/CSHL_SPM/sift_descriptors/MD585/MD585-N21-2015.07.18-07.06.33_MD585_2_0062_sift_descriptors.bp\" \"s3://mousebrainatlas-data/CSHL_SPM/sift_descriptors/MD585/MD585-N21-2015.07.18-07.06.33_MD585_2_0062_sift_descriptors.bp\"\n",
      "rm -rf \"/shared/CSHL_data_processed/MD585/MD585_prep2_lossless_gray/MD585-IHC21-2015.07.16-15.47.52_MD585_2_0062_prep2_lossless_gray.tif\" && mkdir -p \"/shared/CSHL_data_processed/MD585/MD585_prep2_lossless_gray\"\n",
      "aws s3 cp \"s3://mousebrainatlas-data/CSHL_data_processed/MD585/MD585_prep2_lossless_gray/MD585-IHC21-2015.07.16-15.47.52_MD585_2_0062_prep2_lossless_gray.tif\" \"/shared/CSHL_data_processed/MD585/MD585_prep2_lossless_gray/MD585-IHC21-2015.07.16-15.47.52_MD585_2_0062_prep2_lossless_gray.tif\"\n",
      "rm -rf \"/shared/CSHL_data_processed/MD585/MD585_prep2_thumbnail_mask/MD585-IHC21-2015.07.16-15.47.52_MD585_2_0062_prep2_thumbnail_mask.png\" && mkdir -p \"/shared/CSHL_data_processed/MD585/MD585_prep2_thumbnail_mask\"\n",
      "aws s3 cp \"s3://mousebrainatlas-data/CSHL_data_processed/MD585/MD585_prep2_thumbnail_mask/MD585-IHC21-2015.07.16-15.47.52_MD585_2_0062_prep2_thumbnail_mask.png\" \"/shared/CSHL_data_processed/MD585/MD585_prep2_thumbnail_mask/MD585-IHC21-2015.07.16-15.47.52_MD585_2_0062_prep2_thumbnail_mask.png\"\n",
      "aws s3 cp \"/shared/CSHL_SPM/sift_keypoints/MD585/MD585-IHC21-2015.07.16-15.47.52_MD585_2_0062_sift_keypoints.bp\" \"s3://mousebrainatlas-data/CSHL_SPM/sift_keypoints/MD585/MD585-IHC21-2015.07.16-15.47.52_MD585_2_0062_sift_keypoints.bp\"\n",
      "aws s3 cp \"/shared/CSHL_SPM/sift_descriptors/MD585/MD585-IHC21-2015.07.16-15.47.52_MD585_2_0062_sift_descriptors.bp\" \"s3://mousebrainatlas-data/CSHL_SPM/sift_descriptors/MD585/MD585-IHC21-2015.07.16-15.47.52_MD585_2_0062_sift_descriptors.bp\"\n",
      "rm -rf \"/shared/CSHL_data_processed/MD585/MD585_prep2_lossless_gray/MD585-N21-2015.07.18-07.06.33_MD585_3_0063_prep2_lossless_gray.tif\" && mkdir -p \"/shared/CSHL_data_processed/MD585/MD585_prep2_lossless_gray\"\n",
      "aws s3 cp \"s3://mousebrainatlas-data/CSHL_data_processed/MD585/MD585_prep2_lossless_gray/MD585-N21-2015.07.18-07.06.33_MD585_3_0063_prep2_lossless_gray.tif\" \"/shared/CSHL_data_processed/MD585/MD585_prep2_lossless_gray/MD585-N21-2015.07.18-07.06.33_MD585_3_0063_prep2_lossless_gray.tif\"\n",
      "rm -rf \"/shared/CSHL_data_processed/MD585/MD585_prep2_thumbnail_mask/MD585-N21-2015.07.18-07.06.33_MD585_3_0063_prep2_thumbnail_mask.png\" && mkdir -p \"/shared/CSHL_data_processed/MD585/MD585_prep2_thumbnail_mask\"\n",
      "aws s3 cp \"s3://mousebrainatlas-data/CSHL_data_processed/MD585/MD585_prep2_thumbnail_mask/MD585-N21-2015.07.18-07.06.33_MD585_3_0063_prep2_thumbnail_mask.png\" \"/shared/CSHL_data_processed/MD585/MD585_prep2_thumbnail_mask/MD585-N21-2015.07.18-07.06.33_MD585_3_0063_prep2_thumbnail_mask.png\"\n",
      "aws s3 cp \"/shared/CSHL_SPM/sift_keypoints/MD585/MD585-N21-2015.07.18-07.06.33_MD585_3_0063_sift_keypoints.bp\" \"s3://mousebrainatlas-data/CSHL_SPM/sift_keypoints/MD585/MD585-N21-2015.07.18-07.06.33_MD585_3_0063_sift_keypoints.bp\"\n",
      "aws s3 cp \"/shared/CSHL_SPM/sift_descriptors/MD585/MD585-N21-2015.07.18-07.06.33_MD585_3_0063_sift_descriptors.bp\" \"s3://mousebrainatlas-data/CSHL_SPM/sift_descriptors/MD585/MD585-N21-2015.07.18-07.06.33_MD585_3_0063_sift_descriptors.bp\"\n",
      "rm -rf \"/shared/CSHL_data_processed/MD585/MD585_prep2_lossless_gray/MD585-IHC21-2015.07.16-15.47.52_MD585_3_0063_prep2_lossless_gray.tif\" && mkdir -p \"/shared/CSHL_data_processed/MD585/MD585_prep2_lossless_gray\"\n",
      "aws s3 cp \"s3://mousebrainatlas-data/CSHL_data_processed/MD585/MD585_prep2_lossless_gray/MD585-IHC21-2015.07.16-15.47.52_MD585_3_0063_prep2_lossless_gray.tif\" \"/shared/CSHL_data_processed/MD585/MD585_prep2_lossless_gray/MD585-IHC21-2015.07.16-15.47.52_MD585_3_0063_prep2_lossless_gray.tif\"\n",
      "rm -rf \"/shared/CSHL_data_processed/MD585/MD585_prep2_thumbnail_mask/MD585-IHC21-2015.07.16-15.47.52_MD585_3_0063_prep2_thumbnail_mask.png\" && mkdir -p \"/shared/CSHL_data_processed/MD585/MD585_prep2_thumbnail_mask\"\n",
      "aws s3 cp \"s3://mousebrainatlas-data/CSHL_data_processed/MD585/MD585_prep2_thumbnail_mask/MD585-IHC21-2015.07.16-15.47.52_MD585_3_0063_prep2_thumbnail_mask.png\" \"/shared/CSHL_data_processed/MD585/MD585_prep2_thumbnail_mask/MD585-IHC21-2015.07.16-15.47.52_MD585_3_0063_prep2_thumbnail_mask.png\"\n",
      "aws s3 cp \"/shared/CSHL_SPM/sift_keypoints/MD585/MD585-IHC21-2015.07.16-15.47.52_MD585_3_0063_sift_keypoints.bp\" \"s3://mousebrainatlas-data/CSHL_SPM/sift_keypoints/MD585/MD585-IHC21-2015.07.16-15.47.52_MD585_3_0063_sift_keypoints.bp\"\n",
      "aws s3 cp \"/shared/CSHL_SPM/sift_descriptors/MD585/MD585-IHC21-2015.07.16-15.47.52_MD585_3_0063_sift_descriptors.bp\" \"s3://mousebrainatlas-data/CSHL_SPM/sift_descriptors/MD585/MD585-IHC21-2015.07.16-15.47.52_MD585_3_0063_sift_descriptors.bp\"\n",
      "rm -rf \"/shared/CSHL_data_processed/MD585/MD585_prep2_lossless_gray/MD585-N22-2015.07.18-07.10.40_MD585_1_0064_prep2_lossless_gray.tif\" && mkdir -p \"/shared/CSHL_data_processed/MD585/MD585_prep2_lossless_gray\"\n",
      "aws s3 cp \"s3://mousebrainatlas-data/CSHL_data_processed/MD585/MD585_prep2_lossless_gray/MD585-N22-2015.07.18-07.10.40_MD585_1_0064_prep2_lossless_gray.tif\" \"/shared/CSHL_data_processed/MD585/MD585_prep2_lossless_gray/MD585-N22-2015.07.18-07.10.40_MD585_1_0064_prep2_lossless_gray.tif\"\n",
      "rm -rf \"/shared/CSHL_data_processed/MD585/MD585_prep2_thumbnail_mask/MD585-N22-2015.07.18-07.10.40_MD585_1_0064_prep2_thumbnail_mask.png\" && mkdir -p \"/shared/CSHL_data_processed/MD585/MD585_prep2_thumbnail_mask\"\n",
      "aws s3 cp \"s3://mousebrainatlas-data/CSHL_data_processed/MD585/MD585_prep2_thumbnail_mask/MD585-N22-2015.07.18-07.10.40_MD585_1_0064_prep2_thumbnail_mask.png\" \"/shared/CSHL_data_processed/MD585/MD585_prep2_thumbnail_mask/MD585-N22-2015.07.18-07.10.40_MD585_1_0064_prep2_thumbnail_mask.png\"\n",
      "aws s3 cp \"/shared/CSHL_SPM/sift_keypoints/MD585/MD585-N22-2015.07.18-07.10.40_MD585_1_0064_sift_keypoints.bp\" \"s3://mousebrainatlas-data/CSHL_SPM/sift_keypoints/MD585/MD585-N22-2015.07.18-07.10.40_MD585_1_0064_sift_keypoints.bp\"\n",
      "aws s3 cp \"/shared/CSHL_SPM/sift_descriptors/MD585/MD585-N22-2015.07.18-07.10.40_MD585_1_0064_sift_descriptors.bp\" \"s3://mousebrainatlas-data/CSHL_SPM/sift_descriptors/MD585/MD585-N22-2015.07.18-07.10.40_MD585_1_0064_sift_descriptors.bp\"\n",
      "rm -rf \"/shared/CSHL_data_processed/MD585/MD585_prep2_lossless_gray/MD585-IHC22-2015.07.16-15.51.54_MD585_1_0064_prep2_lossless_gray.tif\" && mkdir -p \"/shared/CSHL_data_processed/MD585/MD585_prep2_lossless_gray\"\n",
      "aws s3 cp \"s3://mousebrainatlas-data/CSHL_data_processed/MD585/MD585_prep2_lossless_gray/MD585-IHC22-2015.07.16-15.51.54_MD585_1_0064_prep2_lossless_gray.tif\" \"/shared/CSHL_data_processed/MD585/MD585_prep2_lossless_gray/MD585-IHC22-2015.07.16-15.51.54_MD585_1_0064_prep2_lossless_gray.tif\"\n",
      "rm -rf \"/shared/CSHL_data_processed/MD585/MD585_prep2_thumbnail_mask/MD585-IHC22-2015.07.16-15.51.54_MD585_1_0064_prep2_thumbnail_mask.png\" && mkdir -p \"/shared/CSHL_data_processed/MD585/MD585_prep2_thumbnail_mask\"\n",
      "aws s3 cp \"s3://mousebrainatlas-data/CSHL_data_processed/MD585/MD585_prep2_thumbnail_mask/MD585-IHC22-2015.07.16-15.51.54_MD585_1_0064_prep2_thumbnail_mask.png\" \"/shared/CSHL_data_processed/MD585/MD585_prep2_thumbnail_mask/MD585-IHC22-2015.07.16-15.51.54_MD585_1_0064_prep2_thumbnail_mask.png\"\n",
      "aws s3 cp \"/shared/CSHL_SPM/sift_keypoints/MD585/MD585-IHC22-2015.07.16-15.51.54_MD585_1_0064_sift_keypoints.bp\" \"s3://mousebrainatlas-data/CSHL_SPM/sift_keypoints/MD585/MD585-IHC22-2015.07.16-15.51.54_MD585_1_0064_sift_keypoints.bp\"\n",
      "aws s3 cp \"/shared/CSHL_SPM/sift_descriptors/MD585/MD585-IHC22-2015.07.16-15.51.54_MD585_1_0064_sift_descriptors.bp\" \"s3://mousebrainatlas-data/CSHL_SPM/sift_descriptors/MD585/MD585-IHC22-2015.07.16-15.51.54_MD585_1_0064_sift_descriptors.bp\"\n",
      "rm -rf \"/shared/CSHL_data_processed/MD585/MD585_prep2_lossless_gray/MD585-N22-2015.07.18-07.10.40_MD585_2_0065_prep2_lossless_gray.tif\" && mkdir -p \"/shared/CSHL_data_processed/MD585/MD585_prep2_lossless_gray\"\n",
      "aws s3 cp \"s3://mousebrainatlas-data/CSHL_data_processed/MD585/MD585_prep2_lossless_gray/MD585-N22-2015.07.18-07.10.40_MD585_2_0065_prep2_lossless_gray.tif\" \"/shared/CSHL_data_processed/MD585/MD585_prep2_lossless_gray/MD585-N22-2015.07.18-07.10.40_MD585_2_0065_prep2_lossless_gray.tif\"\n",
      "rm -rf \"/shared/CSHL_data_processed/MD585/MD585_prep2_thumbnail_mask/MD585-N22-2015.07.18-07.10.40_MD585_2_0065_prep2_thumbnail_mask.png\" && mkdir -p \"/shared/CSHL_data_processed/MD585/MD585_prep2_thumbnail_mask\"\n"
     ]
    },
    {
     "name": "stdout",
     "output_type": "stream",
     "text": [
      "aws s3 cp \"s3://mousebrainatlas-data/CSHL_data_processed/MD585/MD585_prep2_thumbnail_mask/MD585-N22-2015.07.18-07.10.40_MD585_2_0065_prep2_thumbnail_mask.png\" \"/shared/CSHL_data_processed/MD585/MD585_prep2_thumbnail_mask/MD585-N22-2015.07.18-07.10.40_MD585_2_0065_prep2_thumbnail_mask.png\"\n",
      "aws s3 cp \"/shared/CSHL_SPM/sift_keypoints/MD585/MD585-N22-2015.07.18-07.10.40_MD585_2_0065_sift_keypoints.bp\" \"s3://mousebrainatlas-data/CSHL_SPM/sift_keypoints/MD585/MD585-N22-2015.07.18-07.10.40_MD585_2_0065_sift_keypoints.bp\"\n",
      "aws s3 cp \"/shared/CSHL_SPM/sift_descriptors/MD585/MD585-N22-2015.07.18-07.10.40_MD585_2_0065_sift_descriptors.bp\" \"s3://mousebrainatlas-data/CSHL_SPM/sift_descriptors/MD585/MD585-N22-2015.07.18-07.10.40_MD585_2_0065_sift_descriptors.bp\"\n",
      "rm -rf \"/shared/CSHL_data_processed/MD585/MD585_prep2_lossless_gray/MD585-N22-2015.07.18-07.10.40_MD585_3_0066_prep2_lossless_gray.tif\" && mkdir -p \"/shared/CSHL_data_processed/MD585/MD585_prep2_lossless_gray\"\n",
      "aws s3 cp \"s3://mousebrainatlas-data/CSHL_data_processed/MD585/MD585_prep2_lossless_gray/MD585-N22-2015.07.18-07.10.40_MD585_3_0066_prep2_lossless_gray.tif\" \"/shared/CSHL_data_processed/MD585/MD585_prep2_lossless_gray/MD585-N22-2015.07.18-07.10.40_MD585_3_0066_prep2_lossless_gray.tif\"\n",
      "rm -rf \"/shared/CSHL_data_processed/MD585/MD585_prep2_thumbnail_mask/MD585-N22-2015.07.18-07.10.40_MD585_3_0066_prep2_thumbnail_mask.png\" && mkdir -p \"/shared/CSHL_data_processed/MD585/MD585_prep2_thumbnail_mask\"\n",
      "aws s3 cp \"s3://mousebrainatlas-data/CSHL_data_processed/MD585/MD585_prep2_thumbnail_mask/MD585-N22-2015.07.18-07.10.40_MD585_3_0066_prep2_thumbnail_mask.png\" \"/shared/CSHL_data_processed/MD585/MD585_prep2_thumbnail_mask/MD585-N22-2015.07.18-07.10.40_MD585_3_0066_prep2_thumbnail_mask.png\"\n",
      "aws s3 cp \"/shared/CSHL_SPM/sift_keypoints/MD585/MD585-N22-2015.07.18-07.10.40_MD585_3_0066_sift_keypoints.bp\" \"s3://mousebrainatlas-data/CSHL_SPM/sift_keypoints/MD585/MD585-N22-2015.07.18-07.10.40_MD585_3_0066_sift_keypoints.bp\"\n",
      "aws s3 cp \"/shared/CSHL_SPM/sift_descriptors/MD585/MD585-N22-2015.07.18-07.10.40_MD585_3_0066_sift_descriptors.bp\" \"s3://mousebrainatlas-data/CSHL_SPM/sift_descriptors/MD585/MD585-N22-2015.07.18-07.10.40_MD585_3_0066_sift_descriptors.bp\"\n",
      "rm -rf \"/shared/CSHL_data_processed/MD585/MD585_prep2_lossless_gray/MD585-IHC22-2015.07.16-15.51.54_MD585_3_0066_prep2_lossless_gray.tif\" && mkdir -p \"/shared/CSHL_data_processed/MD585/MD585_prep2_lossless_gray\"\n",
      "aws s3 cp \"s3://mousebrainatlas-data/CSHL_data_processed/MD585/MD585_prep2_lossless_gray/MD585-IHC22-2015.07.16-15.51.54_MD585_3_0066_prep2_lossless_gray.tif\" \"/shared/CSHL_data_processed/MD585/MD585_prep2_lossless_gray/MD585-IHC22-2015.07.16-15.51.54_MD585_3_0066_prep2_lossless_gray.tif\"\n",
      "rm -rf \"/shared/CSHL_data_processed/MD585/MD585_prep2_thumbnail_mask/MD585-IHC22-2015.07.16-15.51.54_MD585_3_0066_prep2_thumbnail_mask.png\" && mkdir -p \"/shared/CSHL_data_processed/MD585/MD585_prep2_thumbnail_mask\"\n",
      "aws s3 cp \"s3://mousebrainatlas-data/CSHL_data_processed/MD585/MD585_prep2_thumbnail_mask/MD585-IHC22-2015.07.16-15.51.54_MD585_3_0066_prep2_thumbnail_mask.png\" \"/shared/CSHL_data_processed/MD585/MD585_prep2_thumbnail_mask/MD585-IHC22-2015.07.16-15.51.54_MD585_3_0066_prep2_thumbnail_mask.png\"\n",
      "aws s3 cp \"/shared/CSHL_SPM/sift_keypoints/MD585/MD585-IHC22-2015.07.16-15.51.54_MD585_3_0066_sift_keypoints.bp\" \"s3://mousebrainatlas-data/CSHL_SPM/sift_keypoints/MD585/MD585-IHC22-2015.07.16-15.51.54_MD585_3_0066_sift_keypoints.bp\"\n",
      "aws s3 cp \"/shared/CSHL_SPM/sift_descriptors/MD585/MD585-IHC22-2015.07.16-15.51.54_MD585_3_0066_sift_descriptors.bp\" \"s3://mousebrainatlas-data/CSHL_SPM/sift_descriptors/MD585/MD585-IHC22-2015.07.16-15.51.54_MD585_3_0066_sift_descriptors.bp\"\n",
      "rm -rf \"/shared/CSHL_data_processed/MD585/MD585_prep2_lossless_gray/MD585-N23-2015.07.16-20.51.24_MD585_1_0067_prep2_lossless_gray.tif\" && mkdir -p \"/shared/CSHL_data_processed/MD585/MD585_prep2_lossless_gray\"\n",
      "aws s3 cp \"s3://mousebrainatlas-data/CSHL_data_processed/MD585/MD585_prep2_lossless_gray/MD585-N23-2015.07.16-20.51.24_MD585_1_0067_prep2_lossless_gray.tif\" \"/shared/CSHL_data_processed/MD585/MD585_prep2_lossless_gray/MD585-N23-2015.07.16-20.51.24_MD585_1_0067_prep2_lossless_gray.tif\"\n",
      "rm -rf \"/shared/CSHL_data_processed/MD585/MD585_prep2_thumbnail_mask/MD585-N23-2015.07.16-20.51.24_MD585_1_0067_prep2_thumbnail_mask.png\" && mkdir -p \"/shared/CSHL_data_processed/MD585/MD585_prep2_thumbnail_mask\"\n",
      "aws s3 cp \"s3://mousebrainatlas-data/CSHL_data_processed/MD585/MD585_prep2_thumbnail_mask/MD585-N23-2015.07.16-20.51.24_MD585_1_0067_prep2_thumbnail_mask.png\" \"/shared/CSHL_data_processed/MD585/MD585_prep2_thumbnail_mask/MD585-N23-2015.07.16-20.51.24_MD585_1_0067_prep2_thumbnail_mask.png\"\n",
      "aws s3 cp \"/shared/CSHL_SPM/sift_keypoints/MD585/MD585-N23-2015.07.16-20.51.24_MD585_1_0067_sift_keypoints.bp\" \"s3://mousebrainatlas-data/CSHL_SPM/sift_keypoints/MD585/MD585-N23-2015.07.16-20.51.24_MD585_1_0067_sift_keypoints.bp\"\n",
      "aws s3 cp \"/shared/CSHL_SPM/sift_descriptors/MD585/MD585-N23-2015.07.16-20.51.24_MD585_1_0067_sift_descriptors.bp\" \"s3://mousebrainatlas-data/CSHL_SPM/sift_descriptors/MD585/MD585-N23-2015.07.16-20.51.24_MD585_1_0067_sift_descriptors.bp\"\n",
      "rm -rf \"/shared/CSHL_data_processed/MD585/MD585_prep2_lossless_gray/MD585-IHC23-2015.08.19-13.18.49_MD585_1_0067_prep2_lossless_gray.tif\" && mkdir -p \"/shared/CSHL_data_processed/MD585/MD585_prep2_lossless_gray\"\n",
      "aws s3 cp \"s3://mousebrainatlas-data/CSHL_data_processed/MD585/MD585_prep2_lossless_gray/MD585-IHC23-2015.08.19-13.18.49_MD585_1_0067_prep2_lossless_gray.tif\" \"/shared/CSHL_data_processed/MD585/MD585_prep2_lossless_gray/MD585-IHC23-2015.08.19-13.18.49_MD585_1_0067_prep2_lossless_gray.tif\"\n",
      "rm -rf \"/shared/CSHL_data_processed/MD585/MD585_prep2_thumbnail_mask/MD585-IHC23-2015.08.19-13.18.49_MD585_1_0067_prep2_thumbnail_mask.png\" && mkdir -p \"/shared/CSHL_data_processed/MD585/MD585_prep2_thumbnail_mask\"\n",
      "aws s3 cp \"s3://mousebrainatlas-data/CSHL_data_processed/MD585/MD585_prep2_thumbnail_mask/MD585-IHC23-2015.08.19-13.18.49_MD585_1_0067_prep2_thumbnail_mask.png\" \"/shared/CSHL_data_processed/MD585/MD585_prep2_thumbnail_mask/MD585-IHC23-2015.08.19-13.18.49_MD585_1_0067_prep2_thumbnail_mask.png\"\n",
      "aws s3 cp \"/shared/CSHL_SPM/sift_keypoints/MD585/MD585-IHC23-2015.08.19-13.18.49_MD585_1_0067_sift_keypoints.bp\" \"s3://mousebrainatlas-data/CSHL_SPM/sift_keypoints/MD585/MD585-IHC23-2015.08.19-13.18.49_MD585_1_0067_sift_keypoints.bp\"\n",
      "aws s3 cp \"/shared/CSHL_SPM/sift_descriptors/MD585/MD585-IHC23-2015.08.19-13.18.49_MD585_1_0067_sift_descriptors.bp\" \"s3://mousebrainatlas-data/CSHL_SPM/sift_descriptors/MD585/MD585-IHC23-2015.08.19-13.18.49_MD585_1_0067_sift_descriptors.bp\"\n",
      "rm -rf \"/shared/CSHL_data_processed/MD585/MD585_prep2_lossless_gray/MD585-N23-2015.07.16-20.51.24_MD585_2_0068_prep2_lossless_gray.tif\" && mkdir -p \"/shared/CSHL_data_processed/MD585/MD585_prep2_lossless_gray\"\n",
      "aws s3 cp \"s3://mousebrainatlas-data/CSHL_data_processed/MD585/MD585_prep2_lossless_gray/MD585-N23-2015.07.16-20.51.24_MD585_2_0068_prep2_lossless_gray.tif\" \"/shared/CSHL_data_processed/MD585/MD585_prep2_lossless_gray/MD585-N23-2015.07.16-20.51.24_MD585_2_0068_prep2_lossless_gray.tif\"\n",
      "rm -rf \"/shared/CSHL_data_processed/MD585/MD585_prep2_thumbnail_mask/MD585-N23-2015.07.16-20.51.24_MD585_2_0068_prep2_thumbnail_mask.png\" && mkdir -p \"/shared/CSHL_data_processed/MD585/MD585_prep2_thumbnail_mask\"\n",
      "aws s3 cp \"s3://mousebrainatlas-data/CSHL_data_processed/MD585/MD585_prep2_thumbnail_mask/MD585-N23-2015.07.16-20.51.24_MD585_2_0068_prep2_thumbnail_mask.png\" \"/shared/CSHL_data_processed/MD585/MD585_prep2_thumbnail_mask/MD585-N23-2015.07.16-20.51.24_MD585_2_0068_prep2_thumbnail_mask.png\"\n",
      "aws s3 cp \"/shared/CSHL_SPM/sift_keypoints/MD585/MD585-N23-2015.07.16-20.51.24_MD585_2_0068_sift_keypoints.bp\" \"s3://mousebrainatlas-data/CSHL_SPM/sift_keypoints/MD585/MD585-N23-2015.07.16-20.51.24_MD585_2_0068_sift_keypoints.bp\"\n",
      "aws s3 cp \"/shared/CSHL_SPM/sift_descriptors/MD585/MD585-N23-2015.07.16-20.51.24_MD585_2_0068_sift_descriptors.bp\" \"s3://mousebrainatlas-data/CSHL_SPM/sift_descriptors/MD585/MD585-N23-2015.07.16-20.51.24_MD585_2_0068_sift_descriptors.bp\"\n",
      "rm -rf \"/shared/CSHL_data_processed/MD585/MD585_prep2_lossless_gray/MD585-IHC23-2015.08.19-13.18.49_MD585_2_0068_prep2_lossless_gray.tif\" && mkdir -p \"/shared/CSHL_data_processed/MD585/MD585_prep2_lossless_gray\"\n"
     ]
    },
    {
     "name": "stdout",
     "output_type": "stream",
     "text": [
      "aws s3 cp \"s3://mousebrainatlas-data/CSHL_data_processed/MD585/MD585_prep2_lossless_gray/MD585-IHC23-2015.08.19-13.18.49_MD585_2_0068_prep2_lossless_gray.tif\" \"/shared/CSHL_data_processed/MD585/MD585_prep2_lossless_gray/MD585-IHC23-2015.08.19-13.18.49_MD585_2_0068_prep2_lossless_gray.tif\"\n",
      "rm -rf \"/shared/CSHL_data_processed/MD585/MD585_prep2_thumbnail_mask/MD585-IHC23-2015.08.19-13.18.49_MD585_2_0068_prep2_thumbnail_mask.png\" && mkdir -p \"/shared/CSHL_data_processed/MD585/MD585_prep2_thumbnail_mask\"\n",
      "aws s3 cp \"s3://mousebrainatlas-data/CSHL_data_processed/MD585/MD585_prep2_thumbnail_mask/MD585-IHC23-2015.08.19-13.18.49_MD585_2_0068_prep2_thumbnail_mask.png\" \"/shared/CSHL_data_processed/MD585/MD585_prep2_thumbnail_mask/MD585-IHC23-2015.08.19-13.18.49_MD585_2_0068_prep2_thumbnail_mask.png\"\n",
      "aws s3 cp \"/shared/CSHL_SPM/sift_keypoints/MD585/MD585-IHC23-2015.08.19-13.18.49_MD585_2_0068_sift_keypoints.bp\" \"s3://mousebrainatlas-data/CSHL_SPM/sift_keypoints/MD585/MD585-IHC23-2015.08.19-13.18.49_MD585_2_0068_sift_keypoints.bp\"\n",
      "aws s3 cp \"/shared/CSHL_SPM/sift_descriptors/MD585/MD585-IHC23-2015.08.19-13.18.49_MD585_2_0068_sift_descriptors.bp\" \"s3://mousebrainatlas-data/CSHL_SPM/sift_descriptors/MD585/MD585-IHC23-2015.08.19-13.18.49_MD585_2_0068_sift_descriptors.bp\"\n",
      "rm -rf \"/shared/CSHL_data_processed/MD585/MD585_prep2_lossless_gray/MD585-N23-2015.07.16-20.51.24_MD585_3_0069_prep2_lossless_gray.tif\" && mkdir -p \"/shared/CSHL_data_processed/MD585/MD585_prep2_lossless_gray\"\n",
      "aws s3 cp \"s3://mousebrainatlas-data/CSHL_data_processed/MD585/MD585_prep2_lossless_gray/MD585-N23-2015.07.16-20.51.24_MD585_3_0069_prep2_lossless_gray.tif\" \"/shared/CSHL_data_processed/MD585/MD585_prep2_lossless_gray/MD585-N23-2015.07.16-20.51.24_MD585_3_0069_prep2_lossless_gray.tif\"\n",
      "rm -rf \"/shared/CSHL_data_processed/MD585/MD585_prep2_thumbnail_mask/MD585-N23-2015.07.16-20.51.24_MD585_3_0069_prep2_thumbnail_mask.png\" && mkdir -p \"/shared/CSHL_data_processed/MD585/MD585_prep2_thumbnail_mask\"\n",
      "aws s3 cp \"s3://mousebrainatlas-data/CSHL_data_processed/MD585/MD585_prep2_thumbnail_mask/MD585-N23-2015.07.16-20.51.24_MD585_3_0069_prep2_thumbnail_mask.png\" \"/shared/CSHL_data_processed/MD585/MD585_prep2_thumbnail_mask/MD585-N23-2015.07.16-20.51.24_MD585_3_0069_prep2_thumbnail_mask.png\"\n",
      "aws s3 cp \"/shared/CSHL_SPM/sift_keypoints/MD585/MD585-N23-2015.07.16-20.51.24_MD585_3_0069_sift_keypoints.bp\" \"s3://mousebrainatlas-data/CSHL_SPM/sift_keypoints/MD585/MD585-N23-2015.07.16-20.51.24_MD585_3_0069_sift_keypoints.bp\"\n",
      "aws s3 cp \"/shared/CSHL_SPM/sift_descriptors/MD585/MD585-N23-2015.07.16-20.51.24_MD585_3_0069_sift_descriptors.bp\" \"s3://mousebrainatlas-data/CSHL_SPM/sift_descriptors/MD585/MD585-N23-2015.07.16-20.51.24_MD585_3_0069_sift_descriptors.bp\"\n",
      "rm -rf \"/shared/CSHL_data_processed/MD585/MD585_prep2_lossless_gray/MD585-IHC23-2015.08.19-13.18.49_MD585_3_0069_prep2_lossless_gray.tif\" && mkdir -p \"/shared/CSHL_data_processed/MD585/MD585_prep2_lossless_gray\"\n",
      "aws s3 cp \"s3://mousebrainatlas-data/CSHL_data_processed/MD585/MD585_prep2_lossless_gray/MD585-IHC23-2015.08.19-13.18.49_MD585_3_0069_prep2_lossless_gray.tif\" \"/shared/CSHL_data_processed/MD585/MD585_prep2_lossless_gray/MD585-IHC23-2015.08.19-13.18.49_MD585_3_0069_prep2_lossless_gray.tif\"\n",
      "rm -rf \"/shared/CSHL_data_processed/MD585/MD585_prep2_thumbnail_mask/MD585-IHC23-2015.08.19-13.18.49_MD585_3_0069_prep2_thumbnail_mask.png\" && mkdir -p \"/shared/CSHL_data_processed/MD585/MD585_prep2_thumbnail_mask\"\n",
      "aws s3 cp \"s3://mousebrainatlas-data/CSHL_data_processed/MD585/MD585_prep2_thumbnail_mask/MD585-IHC23-2015.08.19-13.18.49_MD585_3_0069_prep2_thumbnail_mask.png\" \"/shared/CSHL_data_processed/MD585/MD585_prep2_thumbnail_mask/MD585-IHC23-2015.08.19-13.18.49_MD585_3_0069_prep2_thumbnail_mask.png\"\n",
      "aws s3 cp \"/shared/CSHL_SPM/sift_keypoints/MD585/MD585-IHC23-2015.08.19-13.18.49_MD585_3_0069_sift_keypoints.bp\" \"s3://mousebrainatlas-data/CSHL_SPM/sift_keypoints/MD585/MD585-IHC23-2015.08.19-13.18.49_MD585_3_0069_sift_keypoints.bp\"\n",
      "aws s3 cp \"/shared/CSHL_SPM/sift_descriptors/MD585/MD585-IHC23-2015.08.19-13.18.49_MD585_3_0069_sift_descriptors.bp\" \"s3://mousebrainatlas-data/CSHL_SPM/sift_descriptors/MD585/MD585-IHC23-2015.08.19-13.18.49_MD585_3_0069_sift_descriptors.bp\"\n",
      "rm -rf \"/shared/CSHL_data_processed/MD585/MD585_prep2_lossless_gray/MD585-N24-2015.08.19-15.29.12_MD585_1_0070_prep2_lossless_gray.tif\" && mkdir -p \"/shared/CSHL_data_processed/MD585/MD585_prep2_lossless_gray\"\n",
      "aws s3 cp \"s3://mousebrainatlas-data/CSHL_data_processed/MD585/MD585_prep2_lossless_gray/MD585-N24-2015.08.19-15.29.12_MD585_1_0070_prep2_lossless_gray.tif\" \"/shared/CSHL_data_processed/MD585/MD585_prep2_lossless_gray/MD585-N24-2015.08.19-15.29.12_MD585_1_0070_prep2_lossless_gray.tif\"\n",
      "rm -rf \"/shared/CSHL_data_processed/MD585/MD585_prep2_thumbnail_mask/MD585-N24-2015.08.19-15.29.12_MD585_1_0070_prep2_thumbnail_mask.png\" && mkdir -p \"/shared/CSHL_data_processed/MD585/MD585_prep2_thumbnail_mask\"\n",
      "aws s3 cp \"s3://mousebrainatlas-data/CSHL_data_processed/MD585/MD585_prep2_thumbnail_mask/MD585-N24-2015.08.19-15.29.12_MD585_1_0070_prep2_thumbnail_mask.png\" \"/shared/CSHL_data_processed/MD585/MD585_prep2_thumbnail_mask/MD585-N24-2015.08.19-15.29.12_MD585_1_0070_prep2_thumbnail_mask.png\"\n",
      "aws s3 cp \"/shared/CSHL_SPM/sift_keypoints/MD585/MD585-N24-2015.08.19-15.29.12_MD585_1_0070_sift_keypoints.bp\" \"s3://mousebrainatlas-data/CSHL_SPM/sift_keypoints/MD585/MD585-N24-2015.08.19-15.29.12_MD585_1_0070_sift_keypoints.bp\"\n",
      "aws s3 cp \"/shared/CSHL_SPM/sift_descriptors/MD585/MD585-N24-2015.08.19-15.29.12_MD585_1_0070_sift_descriptors.bp\" \"s3://mousebrainatlas-data/CSHL_SPM/sift_descriptors/MD585/MD585-N24-2015.08.19-15.29.12_MD585_1_0070_sift_descriptors.bp\"\n",
      "rm -rf \"/shared/CSHL_data_processed/MD585/MD585_prep2_lossless_gray/MD585-IHC24-2015.07.18-07.14.51_MD585_1_0070_prep2_lossless_gray.tif\" && mkdir -p \"/shared/CSHL_data_processed/MD585/MD585_prep2_lossless_gray\"\n",
      "aws s3 cp \"s3://mousebrainatlas-data/CSHL_data_processed/MD585/MD585_prep2_lossless_gray/MD585-IHC24-2015.07.18-07.14.51_MD585_1_0070_prep2_lossless_gray.tif\" \"/shared/CSHL_data_processed/MD585/MD585_prep2_lossless_gray/MD585-IHC24-2015.07.18-07.14.51_MD585_1_0070_prep2_lossless_gray.tif\"\n",
      "rm -rf \"/shared/CSHL_data_processed/MD585/MD585_prep2_thumbnail_mask/MD585-IHC24-2015.07.18-07.14.51_MD585_1_0070_prep2_thumbnail_mask.png\" && mkdir -p \"/shared/CSHL_data_processed/MD585/MD585_prep2_thumbnail_mask\"\n",
      "aws s3 cp \"s3://mousebrainatlas-data/CSHL_data_processed/MD585/MD585_prep2_thumbnail_mask/MD585-IHC24-2015.07.18-07.14.51_MD585_1_0070_prep2_thumbnail_mask.png\" \"/shared/CSHL_data_processed/MD585/MD585_prep2_thumbnail_mask/MD585-IHC24-2015.07.18-07.14.51_MD585_1_0070_prep2_thumbnail_mask.png\"\n",
      "aws s3 cp \"/shared/CSHL_SPM/sift_keypoints/MD585/MD585-IHC24-2015.07.18-07.14.51_MD585_1_0070_sift_keypoints.bp\" \"s3://mousebrainatlas-data/CSHL_SPM/sift_keypoints/MD585/MD585-IHC24-2015.07.18-07.14.51_MD585_1_0070_sift_keypoints.bp\"\n",
      "aws s3 cp \"/shared/CSHL_SPM/sift_descriptors/MD585/MD585-IHC24-2015.07.18-07.14.51_MD585_1_0070_sift_descriptors.bp\" \"s3://mousebrainatlas-data/CSHL_SPM/sift_descriptors/MD585/MD585-IHC24-2015.07.18-07.14.51_MD585_1_0070_sift_descriptors.bp\"\n",
      "rm -rf \"/shared/CSHL_data_processed/MD585/MD585_prep2_lossless_gray/MD585-N24-2015.08.19-15.29.12_MD585_2_0071_prep2_lossless_gray.tif\" && mkdir -p \"/shared/CSHL_data_processed/MD585/MD585_prep2_lossless_gray\"\n",
      "aws s3 cp \"s3://mousebrainatlas-data/CSHL_data_processed/MD585/MD585_prep2_lossless_gray/MD585-N24-2015.08.19-15.29.12_MD585_2_0071_prep2_lossless_gray.tif\" \"/shared/CSHL_data_processed/MD585/MD585_prep2_lossless_gray/MD585-N24-2015.08.19-15.29.12_MD585_2_0071_prep2_lossless_gray.tif\"\n",
      "rm -rf \"/shared/CSHL_data_processed/MD585/MD585_prep2_thumbnail_mask/MD585-N24-2015.08.19-15.29.12_MD585_2_0071_prep2_thumbnail_mask.png\" && mkdir -p \"/shared/CSHL_data_processed/MD585/MD585_prep2_thumbnail_mask\"\n",
      "aws s3 cp \"s3://mousebrainatlas-data/CSHL_data_processed/MD585/MD585_prep2_thumbnail_mask/MD585-N24-2015.08.19-15.29.12_MD585_2_0071_prep2_thumbnail_mask.png\" \"/shared/CSHL_data_processed/MD585/MD585_prep2_thumbnail_mask/MD585-N24-2015.08.19-15.29.12_MD585_2_0071_prep2_thumbnail_mask.png\"\n",
      "aws s3 cp \"/shared/CSHL_SPM/sift_keypoints/MD585/MD585-N24-2015.08.19-15.29.12_MD585_2_0071_sift_keypoints.bp\" \"s3://mousebrainatlas-data/CSHL_SPM/sift_keypoints/MD585/MD585-N24-2015.08.19-15.29.12_MD585_2_0071_sift_keypoints.bp\"\n"
     ]
    },
    {
     "name": "stdout",
     "output_type": "stream",
     "text": [
      "aws s3 cp \"/shared/CSHL_SPM/sift_descriptors/MD585/MD585-N24-2015.08.19-15.29.12_MD585_2_0071_sift_descriptors.bp\" \"s3://mousebrainatlas-data/CSHL_SPM/sift_descriptors/MD585/MD585-N24-2015.08.19-15.29.12_MD585_2_0071_sift_descriptors.bp\"\n",
      "rm -rf \"/shared/CSHL_data_processed/MD585/MD585_prep2_lossless_gray/MD585-IHC24-2015.07.18-07.14.51_MD585_2_0071_prep2_lossless_gray.tif\" && mkdir -p \"/shared/CSHL_data_processed/MD585/MD585_prep2_lossless_gray\"\n",
      "aws s3 cp \"s3://mousebrainatlas-data/CSHL_data_processed/MD585/MD585_prep2_lossless_gray/MD585-IHC24-2015.07.18-07.14.51_MD585_2_0071_prep2_lossless_gray.tif\" \"/shared/CSHL_data_processed/MD585/MD585_prep2_lossless_gray/MD585-IHC24-2015.07.18-07.14.51_MD585_2_0071_prep2_lossless_gray.tif\"\n",
      "rm -rf \"/shared/CSHL_data_processed/MD585/MD585_prep2_thumbnail_mask/MD585-IHC24-2015.07.18-07.14.51_MD585_2_0071_prep2_thumbnail_mask.png\" && mkdir -p \"/shared/CSHL_data_processed/MD585/MD585_prep2_thumbnail_mask\"\n",
      "aws s3 cp \"s3://mousebrainatlas-data/CSHL_data_processed/MD585/MD585_prep2_thumbnail_mask/MD585-IHC24-2015.07.18-07.14.51_MD585_2_0071_prep2_thumbnail_mask.png\" \"/shared/CSHL_data_processed/MD585/MD585_prep2_thumbnail_mask/MD585-IHC24-2015.07.18-07.14.51_MD585_2_0071_prep2_thumbnail_mask.png\"\n",
      "aws s3 cp \"/shared/CSHL_SPM/sift_keypoints/MD585/MD585-IHC24-2015.07.18-07.14.51_MD585_2_0071_sift_keypoints.bp\" \"s3://mousebrainatlas-data/CSHL_SPM/sift_keypoints/MD585/MD585-IHC24-2015.07.18-07.14.51_MD585_2_0071_sift_keypoints.bp\"\n",
      "aws s3 cp \"/shared/CSHL_SPM/sift_descriptors/MD585/MD585-IHC24-2015.07.18-07.14.51_MD585_2_0071_sift_descriptors.bp\" \"s3://mousebrainatlas-data/CSHL_SPM/sift_descriptors/MD585/MD585-IHC24-2015.07.18-07.14.51_MD585_2_0071_sift_descriptors.bp\"\n",
      "rm -rf \"/shared/CSHL_data_processed/MD585/MD585_prep2_lossless_gray/MD585-N24-2015.08.19-15.29.12_MD585_3_0072_prep2_lossless_gray.tif\" && mkdir -p \"/shared/CSHL_data_processed/MD585/MD585_prep2_lossless_gray\"\n",
      "aws s3 cp \"s3://mousebrainatlas-data/CSHL_data_processed/MD585/MD585_prep2_lossless_gray/MD585-N24-2015.08.19-15.29.12_MD585_3_0072_prep2_lossless_gray.tif\" \"/shared/CSHL_data_processed/MD585/MD585_prep2_lossless_gray/MD585-N24-2015.08.19-15.29.12_MD585_3_0072_prep2_lossless_gray.tif\"\n",
      "rm -rf \"/shared/CSHL_data_processed/MD585/MD585_prep2_thumbnail_mask/MD585-N24-2015.08.19-15.29.12_MD585_3_0072_prep2_thumbnail_mask.png\" && mkdir -p \"/shared/CSHL_data_processed/MD585/MD585_prep2_thumbnail_mask\"\n",
      "aws s3 cp \"s3://mousebrainatlas-data/CSHL_data_processed/MD585/MD585_prep2_thumbnail_mask/MD585-N24-2015.08.19-15.29.12_MD585_3_0072_prep2_thumbnail_mask.png\" \"/shared/CSHL_data_processed/MD585/MD585_prep2_thumbnail_mask/MD585-N24-2015.08.19-15.29.12_MD585_3_0072_prep2_thumbnail_mask.png\"\n",
      "aws s3 cp \"/shared/CSHL_SPM/sift_keypoints/MD585/MD585-N24-2015.08.19-15.29.12_MD585_3_0072_sift_keypoints.bp\" \"s3://mousebrainatlas-data/CSHL_SPM/sift_keypoints/MD585/MD585-N24-2015.08.19-15.29.12_MD585_3_0072_sift_keypoints.bp\"\n",
      "aws s3 cp \"/shared/CSHL_SPM/sift_descriptors/MD585/MD585-N24-2015.08.19-15.29.12_MD585_3_0072_sift_descriptors.bp\" \"s3://mousebrainatlas-data/CSHL_SPM/sift_descriptors/MD585/MD585-N24-2015.08.19-15.29.12_MD585_3_0072_sift_descriptors.bp\"\n",
      "rm -rf \"/shared/CSHL_data_processed/MD585/MD585_prep2_lossless_gray/MD585-IHC24-2015.07.18-07.14.51_MD585_3_0072_prep2_lossless_gray.tif\" && mkdir -p \"/shared/CSHL_data_processed/MD585/MD585_prep2_lossless_gray\"\n",
      "aws s3 cp \"s3://mousebrainatlas-data/CSHL_data_processed/MD585/MD585_prep2_lossless_gray/MD585-IHC24-2015.07.18-07.14.51_MD585_3_0072_prep2_lossless_gray.tif\" \"/shared/CSHL_data_processed/MD585/MD585_prep2_lossless_gray/MD585-IHC24-2015.07.18-07.14.51_MD585_3_0072_prep2_lossless_gray.tif\"\n",
      "rm -rf \"/shared/CSHL_data_processed/MD585/MD585_prep2_thumbnail_mask/MD585-IHC24-2015.07.18-07.14.51_MD585_3_0072_prep2_thumbnail_mask.png\" && mkdir -p \"/shared/CSHL_data_processed/MD585/MD585_prep2_thumbnail_mask\"\n",
      "aws s3 cp \"s3://mousebrainatlas-data/CSHL_data_processed/MD585/MD585_prep2_thumbnail_mask/MD585-IHC24-2015.07.18-07.14.51_MD585_3_0072_prep2_thumbnail_mask.png\" \"/shared/CSHL_data_processed/MD585/MD585_prep2_thumbnail_mask/MD585-IHC24-2015.07.18-07.14.51_MD585_3_0072_prep2_thumbnail_mask.png\"\n",
      "aws s3 cp \"/shared/CSHL_SPM/sift_keypoints/MD585/MD585-IHC24-2015.07.18-07.14.51_MD585_3_0072_sift_keypoints.bp\" \"s3://mousebrainatlas-data/CSHL_SPM/sift_keypoints/MD585/MD585-IHC24-2015.07.18-07.14.51_MD585_3_0072_sift_keypoints.bp\"\n",
      "aws s3 cp \"/shared/CSHL_SPM/sift_descriptors/MD585/MD585-IHC24-2015.07.18-07.14.51_MD585_3_0072_sift_descriptors.bp\" \"s3://mousebrainatlas-data/CSHL_SPM/sift_descriptors/MD585/MD585-IHC24-2015.07.18-07.14.51_MD585_3_0072_sift_descriptors.bp\"\n",
      "rm -rf \"/shared/CSHL_data_processed/MD585/MD585_prep2_lossless_gray/MD585-N25-2015.08.19-15.33.31_MD585_1_0073_prep2_lossless_gray.tif\" && mkdir -p \"/shared/CSHL_data_processed/MD585/MD585_prep2_lossless_gray\"\n",
      "aws s3 cp \"s3://mousebrainatlas-data/CSHL_data_processed/MD585/MD585_prep2_lossless_gray/MD585-N25-2015.08.19-15.33.31_MD585_1_0073_prep2_lossless_gray.tif\" \"/shared/CSHL_data_processed/MD585/MD585_prep2_lossless_gray/MD585-N25-2015.08.19-15.33.31_MD585_1_0073_prep2_lossless_gray.tif\"\n",
      "rm -rf \"/shared/CSHL_data_processed/MD585/MD585_prep2_thumbnail_mask/MD585-N25-2015.08.19-15.33.31_MD585_1_0073_prep2_thumbnail_mask.png\" && mkdir -p \"/shared/CSHL_data_processed/MD585/MD585_prep2_thumbnail_mask\"\n",
      "aws s3 cp \"s3://mousebrainatlas-data/CSHL_data_processed/MD585/MD585_prep2_thumbnail_mask/MD585-N25-2015.08.19-15.33.31_MD585_1_0073_prep2_thumbnail_mask.png\" \"/shared/CSHL_data_processed/MD585/MD585_prep2_thumbnail_mask/MD585-N25-2015.08.19-15.33.31_MD585_1_0073_prep2_thumbnail_mask.png\"\n",
      "aws s3 cp \"/shared/CSHL_SPM/sift_keypoints/MD585/MD585-N25-2015.08.19-15.33.31_MD585_1_0073_sift_keypoints.bp\" \"s3://mousebrainatlas-data/CSHL_SPM/sift_keypoints/MD585/MD585-N25-2015.08.19-15.33.31_MD585_1_0073_sift_keypoints.bp\"\n",
      "aws s3 cp \"/shared/CSHL_SPM/sift_descriptors/MD585/MD585-N25-2015.08.19-15.33.31_MD585_1_0073_sift_descriptors.bp\" \"s3://mousebrainatlas-data/CSHL_SPM/sift_descriptors/MD585/MD585-N25-2015.08.19-15.33.31_MD585_1_0073_sift_descriptors.bp\"\n",
      "rm -rf \"/shared/CSHL_data_processed/MD585/MD585_prep2_lossless_gray/MD585-IHC25-2015.07.18-07.19.12_MD585_1_0073_prep2_lossless_gray.tif\" && mkdir -p \"/shared/CSHL_data_processed/MD585/MD585_prep2_lossless_gray\"\n",
      "aws s3 cp \"s3://mousebrainatlas-data/CSHL_data_processed/MD585/MD585_prep2_lossless_gray/MD585-IHC25-2015.07.18-07.19.12_MD585_1_0073_prep2_lossless_gray.tif\" \"/shared/CSHL_data_processed/MD585/MD585_prep2_lossless_gray/MD585-IHC25-2015.07.18-07.19.12_MD585_1_0073_prep2_lossless_gray.tif\"\n",
      "rm -rf \"/shared/CSHL_data_processed/MD585/MD585_prep2_thumbnail_mask/MD585-IHC25-2015.07.18-07.19.12_MD585_1_0073_prep2_thumbnail_mask.png\" && mkdir -p \"/shared/CSHL_data_processed/MD585/MD585_prep2_thumbnail_mask\"\n",
      "aws s3 cp \"s3://mousebrainatlas-data/CSHL_data_processed/MD585/MD585_prep2_thumbnail_mask/MD585-IHC25-2015.07.18-07.19.12_MD585_1_0073_prep2_thumbnail_mask.png\" \"/shared/CSHL_data_processed/MD585/MD585_prep2_thumbnail_mask/MD585-IHC25-2015.07.18-07.19.12_MD585_1_0073_prep2_thumbnail_mask.png\"\n",
      "aws s3 cp \"/shared/CSHL_SPM/sift_keypoints/MD585/MD585-IHC25-2015.07.18-07.19.12_MD585_1_0073_sift_keypoints.bp\" \"s3://mousebrainatlas-data/CSHL_SPM/sift_keypoints/MD585/MD585-IHC25-2015.07.18-07.19.12_MD585_1_0073_sift_keypoints.bp\"\n",
      "aws s3 cp \"/shared/CSHL_SPM/sift_descriptors/MD585/MD585-IHC25-2015.07.18-07.19.12_MD585_1_0073_sift_descriptors.bp\" \"s3://mousebrainatlas-data/CSHL_SPM/sift_descriptors/MD585/MD585-IHC25-2015.07.18-07.19.12_MD585_1_0073_sift_descriptors.bp\"\n",
      "rm -rf \"/shared/CSHL_data_processed/MD585/MD585_prep2_lossless_gray/MD585-N25-2015.08.19-15.33.31_MD585_2_0074_prep2_lossless_gray.tif\" && mkdir -p \"/shared/CSHL_data_processed/MD585/MD585_prep2_lossless_gray\"\n",
      "aws s3 cp \"s3://mousebrainatlas-data/CSHL_data_processed/MD585/MD585_prep2_lossless_gray/MD585-N25-2015.08.19-15.33.31_MD585_2_0074_prep2_lossless_gray.tif\" \"/shared/CSHL_data_processed/MD585/MD585_prep2_lossless_gray/MD585-N25-2015.08.19-15.33.31_MD585_2_0074_prep2_lossless_gray.tif\"\n",
      "rm -rf \"/shared/CSHL_data_processed/MD585/MD585_prep2_thumbnail_mask/MD585-N25-2015.08.19-15.33.31_MD585_2_0074_prep2_thumbnail_mask.png\" && mkdir -p \"/shared/CSHL_data_processed/MD585/MD585_prep2_thumbnail_mask\"\n",
      "aws s3 cp \"s3://mousebrainatlas-data/CSHL_data_processed/MD585/MD585_prep2_thumbnail_mask/MD585-N25-2015.08.19-15.33.31_MD585_2_0074_prep2_thumbnail_mask.png\" \"/shared/CSHL_data_processed/MD585/MD585_prep2_thumbnail_mask/MD585-N25-2015.08.19-15.33.31_MD585_2_0074_prep2_thumbnail_mask.png\"\n"
     ]
    },
    {
     "name": "stdout",
     "output_type": "stream",
     "text": [
      "aws s3 cp \"/shared/CSHL_SPM/sift_keypoints/MD585/MD585-N25-2015.08.19-15.33.31_MD585_2_0074_sift_keypoints.bp\" \"s3://mousebrainatlas-data/CSHL_SPM/sift_keypoints/MD585/MD585-N25-2015.08.19-15.33.31_MD585_2_0074_sift_keypoints.bp\"\n",
      "aws s3 cp \"/shared/CSHL_SPM/sift_descriptors/MD585/MD585-N25-2015.08.19-15.33.31_MD585_2_0074_sift_descriptors.bp\" \"s3://mousebrainatlas-data/CSHL_SPM/sift_descriptors/MD585/MD585-N25-2015.08.19-15.33.31_MD585_2_0074_sift_descriptors.bp\"\n",
      "rm -rf \"/shared/CSHL_data_processed/MD585/MD585_prep2_lossless_gray/MD585-IHC25-2015.07.18-07.19.12_MD585_2_0074_prep2_lossless_gray.tif\" && mkdir -p \"/shared/CSHL_data_processed/MD585/MD585_prep2_lossless_gray\"\n",
      "aws s3 cp \"s3://mousebrainatlas-data/CSHL_data_processed/MD585/MD585_prep2_lossless_gray/MD585-IHC25-2015.07.18-07.19.12_MD585_2_0074_prep2_lossless_gray.tif\" \"/shared/CSHL_data_processed/MD585/MD585_prep2_lossless_gray/MD585-IHC25-2015.07.18-07.19.12_MD585_2_0074_prep2_lossless_gray.tif\"\n",
      "rm -rf \"/shared/CSHL_data_processed/MD585/MD585_prep2_thumbnail_mask/MD585-IHC25-2015.07.18-07.19.12_MD585_2_0074_prep2_thumbnail_mask.png\" && mkdir -p \"/shared/CSHL_data_processed/MD585/MD585_prep2_thumbnail_mask\"\n",
      "aws s3 cp \"s3://mousebrainatlas-data/CSHL_data_processed/MD585/MD585_prep2_thumbnail_mask/MD585-IHC25-2015.07.18-07.19.12_MD585_2_0074_prep2_thumbnail_mask.png\" \"/shared/CSHL_data_processed/MD585/MD585_prep2_thumbnail_mask/MD585-IHC25-2015.07.18-07.19.12_MD585_2_0074_prep2_thumbnail_mask.png\"\n",
      "aws s3 cp \"/shared/CSHL_SPM/sift_keypoints/MD585/MD585-IHC25-2015.07.18-07.19.12_MD585_2_0074_sift_keypoints.bp\" \"s3://mousebrainatlas-data/CSHL_SPM/sift_keypoints/MD585/MD585-IHC25-2015.07.18-07.19.12_MD585_2_0074_sift_keypoints.bp\"\n",
      "aws s3 cp \"/shared/CSHL_SPM/sift_descriptors/MD585/MD585-IHC25-2015.07.18-07.19.12_MD585_2_0074_sift_descriptors.bp\" \"s3://mousebrainatlas-data/CSHL_SPM/sift_descriptors/MD585/MD585-IHC25-2015.07.18-07.19.12_MD585_2_0074_sift_descriptors.bp\"\n",
      "rm -rf \"/shared/CSHL_data_processed/MD585/MD585_prep2_lossless_gray/MD585-N25-2015.08.19-15.33.31_MD585_3_0075_prep2_lossless_gray.tif\" && mkdir -p \"/shared/CSHL_data_processed/MD585/MD585_prep2_lossless_gray\"\n",
      "aws s3 cp \"s3://mousebrainatlas-data/CSHL_data_processed/MD585/MD585_prep2_lossless_gray/MD585-N25-2015.08.19-15.33.31_MD585_3_0075_prep2_lossless_gray.tif\" \"/shared/CSHL_data_processed/MD585/MD585_prep2_lossless_gray/MD585-N25-2015.08.19-15.33.31_MD585_3_0075_prep2_lossless_gray.tif\"\n",
      "rm -rf \"/shared/CSHL_data_processed/MD585/MD585_prep2_thumbnail_mask/MD585-N25-2015.08.19-15.33.31_MD585_3_0075_prep2_thumbnail_mask.png\" && mkdir -p \"/shared/CSHL_data_processed/MD585/MD585_prep2_thumbnail_mask\"\n",
      "aws s3 cp \"s3://mousebrainatlas-data/CSHL_data_processed/MD585/MD585_prep2_thumbnail_mask/MD585-N25-2015.08.19-15.33.31_MD585_3_0075_prep2_thumbnail_mask.png\" \"/shared/CSHL_data_processed/MD585/MD585_prep2_thumbnail_mask/MD585-N25-2015.08.19-15.33.31_MD585_3_0075_prep2_thumbnail_mask.png\"\n",
      "aws s3 cp \"/shared/CSHL_SPM/sift_keypoints/MD585/MD585-N25-2015.08.19-15.33.31_MD585_3_0075_sift_keypoints.bp\" \"s3://mousebrainatlas-data/CSHL_SPM/sift_keypoints/MD585/MD585-N25-2015.08.19-15.33.31_MD585_3_0075_sift_keypoints.bp\"\n",
      "aws s3 cp \"/shared/CSHL_SPM/sift_descriptors/MD585/MD585-N25-2015.08.19-15.33.31_MD585_3_0075_sift_descriptors.bp\" \"s3://mousebrainatlas-data/CSHL_SPM/sift_descriptors/MD585/MD585-N25-2015.08.19-15.33.31_MD585_3_0075_sift_descriptors.bp\"\n",
      "rm -rf \"/shared/CSHL_data_processed/MD585/MD585_prep2_lossless_gray/MD585-IHC25-2015.07.18-07.19.12_MD585_3_0075_prep2_lossless_gray.tif\" && mkdir -p \"/shared/CSHL_data_processed/MD585/MD585_prep2_lossless_gray\"\n",
      "aws s3 cp \"s3://mousebrainatlas-data/CSHL_data_processed/MD585/MD585_prep2_lossless_gray/MD585-IHC25-2015.07.18-07.19.12_MD585_3_0075_prep2_lossless_gray.tif\" \"/shared/CSHL_data_processed/MD585/MD585_prep2_lossless_gray/MD585-IHC25-2015.07.18-07.19.12_MD585_3_0075_prep2_lossless_gray.tif\"\n",
      "rm -rf \"/shared/CSHL_data_processed/MD585/MD585_prep2_thumbnail_mask/MD585-IHC25-2015.07.18-07.19.12_MD585_3_0075_prep2_thumbnail_mask.png\" && mkdir -p \"/shared/CSHL_data_processed/MD585/MD585_prep2_thumbnail_mask\"\n",
      "aws s3 cp \"s3://mousebrainatlas-data/CSHL_data_processed/MD585/MD585_prep2_thumbnail_mask/MD585-IHC25-2015.07.18-07.19.12_MD585_3_0075_prep2_thumbnail_mask.png\" \"/shared/CSHL_data_processed/MD585/MD585_prep2_thumbnail_mask/MD585-IHC25-2015.07.18-07.19.12_MD585_3_0075_prep2_thumbnail_mask.png\"\n",
      "aws s3 cp \"/shared/CSHL_SPM/sift_keypoints/MD585/MD585-IHC25-2015.07.18-07.19.12_MD585_3_0075_sift_keypoints.bp\" \"s3://mousebrainatlas-data/CSHL_SPM/sift_keypoints/MD585/MD585-IHC25-2015.07.18-07.19.12_MD585_3_0075_sift_keypoints.bp\"\n",
      "aws s3 cp \"/shared/CSHL_SPM/sift_descriptors/MD585/MD585-IHC25-2015.07.18-07.19.12_MD585_3_0075_sift_descriptors.bp\" \"s3://mousebrainatlas-data/CSHL_SPM/sift_descriptors/MD585/MD585-IHC25-2015.07.18-07.19.12_MD585_3_0075_sift_descriptors.bp\"\n",
      "rm -rf \"/shared/CSHL_data_processed/MD585/MD585_prep2_lossless_gray/MD585-N26-2015.08.19-15.37.53_MD585_1_0076_prep2_lossless_gray.tif\" && mkdir -p \"/shared/CSHL_data_processed/MD585/MD585_prep2_lossless_gray\"\n",
      "aws s3 cp \"s3://mousebrainatlas-data/CSHL_data_processed/MD585/MD585_prep2_lossless_gray/MD585-N26-2015.08.19-15.37.53_MD585_1_0076_prep2_lossless_gray.tif\" \"/shared/CSHL_data_processed/MD585/MD585_prep2_lossless_gray/MD585-N26-2015.08.19-15.37.53_MD585_1_0076_prep2_lossless_gray.tif\"\n",
      "rm -rf \"/shared/CSHL_data_processed/MD585/MD585_prep2_thumbnail_mask/MD585-N26-2015.08.19-15.37.53_MD585_1_0076_prep2_thumbnail_mask.png\" && mkdir -p \"/shared/CSHL_data_processed/MD585/MD585_prep2_thumbnail_mask\"\n",
      "aws s3 cp \"s3://mousebrainatlas-data/CSHL_data_processed/MD585/MD585_prep2_thumbnail_mask/MD585-N26-2015.08.19-15.37.53_MD585_1_0076_prep2_thumbnail_mask.png\" \"/shared/CSHL_data_processed/MD585/MD585_prep2_thumbnail_mask/MD585-N26-2015.08.19-15.37.53_MD585_1_0076_prep2_thumbnail_mask.png\"\n",
      "aws s3 cp \"/shared/CSHL_SPM/sift_keypoints/MD585/MD585-N26-2015.08.19-15.37.53_MD585_1_0076_sift_keypoints.bp\" \"s3://mousebrainatlas-data/CSHL_SPM/sift_keypoints/MD585/MD585-N26-2015.08.19-15.37.53_MD585_1_0076_sift_keypoints.bp\"\n",
      "aws s3 cp \"/shared/CSHL_SPM/sift_descriptors/MD585/MD585-N26-2015.08.19-15.37.53_MD585_1_0076_sift_descriptors.bp\" \"s3://mousebrainatlas-data/CSHL_SPM/sift_descriptors/MD585/MD585-N26-2015.08.19-15.37.53_MD585_1_0076_sift_descriptors.bp\"\n",
      "rm -rf \"/shared/CSHL_data_processed/MD585/MD585_prep2_lossless_gray/MD585-IHC26-2015.08.19-13.23.15_MD585_1_0076_prep2_lossless_gray.tif\" && mkdir -p \"/shared/CSHL_data_processed/MD585/MD585_prep2_lossless_gray\"\n",
      "aws s3 cp \"s3://mousebrainatlas-data/CSHL_data_processed/MD585/MD585_prep2_lossless_gray/MD585-IHC26-2015.08.19-13.23.15_MD585_1_0076_prep2_lossless_gray.tif\" \"/shared/CSHL_data_processed/MD585/MD585_prep2_lossless_gray/MD585-IHC26-2015.08.19-13.23.15_MD585_1_0076_prep2_lossless_gray.tif\"\n",
      "rm -rf \"/shared/CSHL_data_processed/MD585/MD585_prep2_thumbnail_mask/MD585-IHC26-2015.08.19-13.23.15_MD585_1_0076_prep2_thumbnail_mask.png\" && mkdir -p \"/shared/CSHL_data_processed/MD585/MD585_prep2_thumbnail_mask\"\n",
      "aws s3 cp \"s3://mousebrainatlas-data/CSHL_data_processed/MD585/MD585_prep2_thumbnail_mask/MD585-IHC26-2015.08.19-13.23.15_MD585_1_0076_prep2_thumbnail_mask.png\" \"/shared/CSHL_data_processed/MD585/MD585_prep2_thumbnail_mask/MD585-IHC26-2015.08.19-13.23.15_MD585_1_0076_prep2_thumbnail_mask.png\"\n",
      "aws s3 cp \"/shared/CSHL_SPM/sift_keypoints/MD585/MD585-IHC26-2015.08.19-13.23.15_MD585_1_0076_sift_keypoints.bp\" \"s3://mousebrainatlas-data/CSHL_SPM/sift_keypoints/MD585/MD585-IHC26-2015.08.19-13.23.15_MD585_1_0076_sift_keypoints.bp\"\n",
      "aws s3 cp \"/shared/CSHL_SPM/sift_descriptors/MD585/MD585-IHC26-2015.08.19-13.23.15_MD585_1_0076_sift_descriptors.bp\" \"s3://mousebrainatlas-data/CSHL_SPM/sift_descriptors/MD585/MD585-IHC26-2015.08.19-13.23.15_MD585_1_0076_sift_descriptors.bp\"\n",
      "rm -rf \"/shared/CSHL_data_processed/MD585/MD585_prep2_lossless_gray/MD585-N26-2015.08.19-15.37.53_MD585_2_0077_prep2_lossless_gray.tif\" && mkdir -p \"/shared/CSHL_data_processed/MD585/MD585_prep2_lossless_gray\"\n",
      "aws s3 cp \"s3://mousebrainatlas-data/CSHL_data_processed/MD585/MD585_prep2_lossless_gray/MD585-N26-2015.08.19-15.37.53_MD585_2_0077_prep2_lossless_gray.tif\" \"/shared/CSHL_data_processed/MD585/MD585_prep2_lossless_gray/MD585-N26-2015.08.19-15.37.53_MD585_2_0077_prep2_lossless_gray.tif\"\n"
     ]
    },
    {
     "name": "stdout",
     "output_type": "stream",
     "text": [
      "rm -rf \"/shared/CSHL_data_processed/MD585/MD585_prep2_thumbnail_mask/MD585-N26-2015.08.19-15.37.53_MD585_2_0077_prep2_thumbnail_mask.png\" && mkdir -p \"/shared/CSHL_data_processed/MD585/MD585_prep2_thumbnail_mask\"\n",
      "aws s3 cp \"s3://mousebrainatlas-data/CSHL_data_processed/MD585/MD585_prep2_thumbnail_mask/MD585-N26-2015.08.19-15.37.53_MD585_2_0077_prep2_thumbnail_mask.png\" \"/shared/CSHL_data_processed/MD585/MD585_prep2_thumbnail_mask/MD585-N26-2015.08.19-15.37.53_MD585_2_0077_prep2_thumbnail_mask.png\"\n",
      "aws s3 cp \"/shared/CSHL_SPM/sift_keypoints/MD585/MD585-N26-2015.08.19-15.37.53_MD585_2_0077_sift_keypoints.bp\" \"s3://mousebrainatlas-data/CSHL_SPM/sift_keypoints/MD585/MD585-N26-2015.08.19-15.37.53_MD585_2_0077_sift_keypoints.bp\"\n",
      "aws s3 cp \"/shared/CSHL_SPM/sift_descriptors/MD585/MD585-N26-2015.08.19-15.37.53_MD585_2_0077_sift_descriptors.bp\" \"s3://mousebrainatlas-data/CSHL_SPM/sift_descriptors/MD585/MD585-N26-2015.08.19-15.37.53_MD585_2_0077_sift_descriptors.bp\"\n",
      "rm -rf \"/shared/CSHL_data_processed/MD585/MD585_prep2_lossless_gray/MD585-IHC26-2015.08.19-13.23.15_MD585_2_0077_prep2_lossless_gray.tif\" && mkdir -p \"/shared/CSHL_data_processed/MD585/MD585_prep2_lossless_gray\"\n",
      "aws s3 cp \"s3://mousebrainatlas-data/CSHL_data_processed/MD585/MD585_prep2_lossless_gray/MD585-IHC26-2015.08.19-13.23.15_MD585_2_0077_prep2_lossless_gray.tif\" \"/shared/CSHL_data_processed/MD585/MD585_prep2_lossless_gray/MD585-IHC26-2015.08.19-13.23.15_MD585_2_0077_prep2_lossless_gray.tif\"\n",
      "rm -rf \"/shared/CSHL_data_processed/MD585/MD585_prep2_thumbnail_mask/MD585-IHC26-2015.08.19-13.23.15_MD585_2_0077_prep2_thumbnail_mask.png\" && mkdir -p \"/shared/CSHL_data_processed/MD585/MD585_prep2_thumbnail_mask\"\n",
      "aws s3 cp \"s3://mousebrainatlas-data/CSHL_data_processed/MD585/MD585_prep2_thumbnail_mask/MD585-IHC26-2015.08.19-13.23.15_MD585_2_0077_prep2_thumbnail_mask.png\" \"/shared/CSHL_data_processed/MD585/MD585_prep2_thumbnail_mask/MD585-IHC26-2015.08.19-13.23.15_MD585_2_0077_prep2_thumbnail_mask.png\"\n",
      "aws s3 cp \"/shared/CSHL_SPM/sift_keypoints/MD585/MD585-IHC26-2015.08.19-13.23.15_MD585_2_0077_sift_keypoints.bp\" \"s3://mousebrainatlas-data/CSHL_SPM/sift_keypoints/MD585/MD585-IHC26-2015.08.19-13.23.15_MD585_2_0077_sift_keypoints.bp\"\n",
      "aws s3 cp \"/shared/CSHL_SPM/sift_descriptors/MD585/MD585-IHC26-2015.08.19-13.23.15_MD585_2_0077_sift_descriptors.bp\" \"s3://mousebrainatlas-data/CSHL_SPM/sift_descriptors/MD585/MD585-IHC26-2015.08.19-13.23.15_MD585_2_0077_sift_descriptors.bp\"\n",
      "rm -rf \"/shared/CSHL_data_processed/MD585/MD585_prep2_lossless_gray/MD585-N26-2015.08.19-15.37.53_MD585_3_0078_prep2_lossless_gray.tif\" && mkdir -p \"/shared/CSHL_data_processed/MD585/MD585_prep2_lossless_gray\"\n",
      "aws s3 cp \"s3://mousebrainatlas-data/CSHL_data_processed/MD585/MD585_prep2_lossless_gray/MD585-N26-2015.08.19-15.37.53_MD585_3_0078_prep2_lossless_gray.tif\" \"/shared/CSHL_data_processed/MD585/MD585_prep2_lossless_gray/MD585-N26-2015.08.19-15.37.53_MD585_3_0078_prep2_lossless_gray.tif\"\n",
      "rm -rf \"/shared/CSHL_data_processed/MD585/MD585_prep2_thumbnail_mask/MD585-N26-2015.08.19-15.37.53_MD585_3_0078_prep2_thumbnail_mask.png\" && mkdir -p \"/shared/CSHL_data_processed/MD585/MD585_prep2_thumbnail_mask\"\n",
      "aws s3 cp \"s3://mousebrainatlas-data/CSHL_data_processed/MD585/MD585_prep2_thumbnail_mask/MD585-N26-2015.08.19-15.37.53_MD585_3_0078_prep2_thumbnail_mask.png\" \"/shared/CSHL_data_processed/MD585/MD585_prep2_thumbnail_mask/MD585-N26-2015.08.19-15.37.53_MD585_3_0078_prep2_thumbnail_mask.png\"\n",
      "aws s3 cp \"/shared/CSHL_SPM/sift_keypoints/MD585/MD585-N26-2015.08.19-15.37.53_MD585_3_0078_sift_keypoints.bp\" \"s3://mousebrainatlas-data/CSHL_SPM/sift_keypoints/MD585/MD585-N26-2015.08.19-15.37.53_MD585_3_0078_sift_keypoints.bp\"\n",
      "aws s3 cp \"/shared/CSHL_SPM/sift_descriptors/MD585/MD585-N26-2015.08.19-15.37.53_MD585_3_0078_sift_descriptors.bp\" \"s3://mousebrainatlas-data/CSHL_SPM/sift_descriptors/MD585/MD585-N26-2015.08.19-15.37.53_MD585_3_0078_sift_descriptors.bp\"\n",
      "rm -rf \"/shared/CSHL_data_processed/MD585/MD585_prep2_lossless_gray/MD585-IHC26-2015.08.19-13.23.15_MD585_3_0078_prep2_lossless_gray.tif\" && mkdir -p \"/shared/CSHL_data_processed/MD585/MD585_prep2_lossless_gray\"\n",
      "aws s3 cp \"s3://mousebrainatlas-data/CSHL_data_processed/MD585/MD585_prep2_lossless_gray/MD585-IHC26-2015.08.19-13.23.15_MD585_3_0078_prep2_lossless_gray.tif\" \"/shared/CSHL_data_processed/MD585/MD585_prep2_lossless_gray/MD585-IHC26-2015.08.19-13.23.15_MD585_3_0078_prep2_lossless_gray.tif\"\n",
      "rm -rf \"/shared/CSHL_data_processed/MD585/MD585_prep2_thumbnail_mask/MD585-IHC26-2015.08.19-13.23.15_MD585_3_0078_prep2_thumbnail_mask.png\" && mkdir -p \"/shared/CSHL_data_processed/MD585/MD585_prep2_thumbnail_mask\"\n",
      "aws s3 cp \"s3://mousebrainatlas-data/CSHL_data_processed/MD585/MD585_prep2_thumbnail_mask/MD585-IHC26-2015.08.19-13.23.15_MD585_3_0078_prep2_thumbnail_mask.png\" \"/shared/CSHL_data_processed/MD585/MD585_prep2_thumbnail_mask/MD585-IHC26-2015.08.19-13.23.15_MD585_3_0078_prep2_thumbnail_mask.png\"\n",
      "aws s3 cp \"/shared/CSHL_SPM/sift_keypoints/MD585/MD585-IHC26-2015.08.19-13.23.15_MD585_3_0078_sift_keypoints.bp\" \"s3://mousebrainatlas-data/CSHL_SPM/sift_keypoints/MD585/MD585-IHC26-2015.08.19-13.23.15_MD585_3_0078_sift_keypoints.bp\"\n",
      "aws s3 cp \"/shared/CSHL_SPM/sift_descriptors/MD585/MD585-IHC26-2015.08.19-13.23.15_MD585_3_0078_sift_descriptors.bp\" \"s3://mousebrainatlas-data/CSHL_SPM/sift_descriptors/MD585/MD585-IHC26-2015.08.19-13.23.15_MD585_3_0078_sift_descriptors.bp\"\n",
      "rm -rf \"/shared/CSHL_data_processed/MD585/MD585_prep2_lossless_gray/MD585-N27-2015.08.19-15.42.30_MD585_1_0079_prep2_lossless_gray.tif\" && mkdir -p \"/shared/CSHL_data_processed/MD585/MD585_prep2_lossless_gray\"\n",
      "aws s3 cp \"s3://mousebrainatlas-data/CSHL_data_processed/MD585/MD585_prep2_lossless_gray/MD585-N27-2015.08.19-15.42.30_MD585_1_0079_prep2_lossless_gray.tif\" \"/shared/CSHL_data_processed/MD585/MD585_prep2_lossless_gray/MD585-N27-2015.08.19-15.42.30_MD585_1_0079_prep2_lossless_gray.tif\"\n",
      "rm -rf \"/shared/CSHL_data_processed/MD585/MD585_prep2_thumbnail_mask/MD585-N27-2015.08.19-15.42.30_MD585_1_0079_prep2_thumbnail_mask.png\" && mkdir -p \"/shared/CSHL_data_processed/MD585/MD585_prep2_thumbnail_mask\"\n",
      "aws s3 cp \"s3://mousebrainatlas-data/CSHL_data_processed/MD585/MD585_prep2_thumbnail_mask/MD585-N27-2015.08.19-15.42.30_MD585_1_0079_prep2_thumbnail_mask.png\" \"/shared/CSHL_data_processed/MD585/MD585_prep2_thumbnail_mask/MD585-N27-2015.08.19-15.42.30_MD585_1_0079_prep2_thumbnail_mask.png\"\n",
      "aws s3 cp \"/shared/CSHL_SPM/sift_keypoints/MD585/MD585-N27-2015.08.19-15.42.30_MD585_1_0079_sift_keypoints.bp\" \"s3://mousebrainatlas-data/CSHL_SPM/sift_keypoints/MD585/MD585-N27-2015.08.19-15.42.30_MD585_1_0079_sift_keypoints.bp\"\n",
      "aws s3 cp \"/shared/CSHL_SPM/sift_descriptors/MD585/MD585-N27-2015.08.19-15.42.30_MD585_1_0079_sift_descriptors.bp\" \"s3://mousebrainatlas-data/CSHL_SPM/sift_descriptors/MD585/MD585-N27-2015.08.19-15.42.30_MD585_1_0079_sift_descriptors.bp\"\n",
      "rm -rf \"/shared/CSHL_data_processed/MD585/MD585_prep2_lossless_gray/MD585-IHC27-2015.08.19-13.28.05_MD585_1_0079_prep2_lossless_gray.tif\" && mkdir -p \"/shared/CSHL_data_processed/MD585/MD585_prep2_lossless_gray\"\n",
      "aws s3 cp \"s3://mousebrainatlas-data/CSHL_data_processed/MD585/MD585_prep2_lossless_gray/MD585-IHC27-2015.08.19-13.28.05_MD585_1_0079_prep2_lossless_gray.tif\" \"/shared/CSHL_data_processed/MD585/MD585_prep2_lossless_gray/MD585-IHC27-2015.08.19-13.28.05_MD585_1_0079_prep2_lossless_gray.tif\"\n",
      "rm -rf \"/shared/CSHL_data_processed/MD585/MD585_prep2_thumbnail_mask/MD585-IHC27-2015.08.19-13.28.05_MD585_1_0079_prep2_thumbnail_mask.png\" && mkdir -p \"/shared/CSHL_data_processed/MD585/MD585_prep2_thumbnail_mask\"\n",
      "aws s3 cp \"s3://mousebrainatlas-data/CSHL_data_processed/MD585/MD585_prep2_thumbnail_mask/MD585-IHC27-2015.08.19-13.28.05_MD585_1_0079_prep2_thumbnail_mask.png\" \"/shared/CSHL_data_processed/MD585/MD585_prep2_thumbnail_mask/MD585-IHC27-2015.08.19-13.28.05_MD585_1_0079_prep2_thumbnail_mask.png\"\n",
      "aws s3 cp \"/shared/CSHL_SPM/sift_keypoints/MD585/MD585-IHC27-2015.08.19-13.28.05_MD585_1_0079_sift_keypoints.bp\" \"s3://mousebrainatlas-data/CSHL_SPM/sift_keypoints/MD585/MD585-IHC27-2015.08.19-13.28.05_MD585_1_0079_sift_keypoints.bp\"\n",
      "aws s3 cp \"/shared/CSHL_SPM/sift_descriptors/MD585/MD585-IHC27-2015.08.19-13.28.05_MD585_1_0079_sift_descriptors.bp\" \"s3://mousebrainatlas-data/CSHL_SPM/sift_descriptors/MD585/MD585-IHC27-2015.08.19-13.28.05_MD585_1_0079_sift_descriptors.bp\"\n"
     ]
    },
    {
     "name": "stdout",
     "output_type": "stream",
     "text": [
      "rm -rf \"/shared/CSHL_data_processed/MD585/MD585_prep2_lossless_gray/MD585-N27-2015.08.19-15.42.30_MD585_2_0080_prep2_lossless_gray.tif\" && mkdir -p \"/shared/CSHL_data_processed/MD585/MD585_prep2_lossless_gray\"\n",
      "aws s3 cp \"s3://mousebrainatlas-data/CSHL_data_processed/MD585/MD585_prep2_lossless_gray/MD585-N27-2015.08.19-15.42.30_MD585_2_0080_prep2_lossless_gray.tif\" \"/shared/CSHL_data_processed/MD585/MD585_prep2_lossless_gray/MD585-N27-2015.08.19-15.42.30_MD585_2_0080_prep2_lossless_gray.tif\"\n",
      "rm -rf \"/shared/CSHL_data_processed/MD585/MD585_prep2_thumbnail_mask/MD585-N27-2015.08.19-15.42.30_MD585_2_0080_prep2_thumbnail_mask.png\" && mkdir -p \"/shared/CSHL_data_processed/MD585/MD585_prep2_thumbnail_mask\"\n",
      "aws s3 cp \"s3://mousebrainatlas-data/CSHL_data_processed/MD585/MD585_prep2_thumbnail_mask/MD585-N27-2015.08.19-15.42.30_MD585_2_0080_prep2_thumbnail_mask.png\" \"/shared/CSHL_data_processed/MD585/MD585_prep2_thumbnail_mask/MD585-N27-2015.08.19-15.42.30_MD585_2_0080_prep2_thumbnail_mask.png\"\n",
      "aws s3 cp \"/shared/CSHL_SPM/sift_keypoints/MD585/MD585-N27-2015.08.19-15.42.30_MD585_2_0080_sift_keypoints.bp\" \"s3://mousebrainatlas-data/CSHL_SPM/sift_keypoints/MD585/MD585-N27-2015.08.19-15.42.30_MD585_2_0080_sift_keypoints.bp\"\n",
      "aws s3 cp \"/shared/CSHL_SPM/sift_descriptors/MD585/MD585-N27-2015.08.19-15.42.30_MD585_2_0080_sift_descriptors.bp\" \"s3://mousebrainatlas-data/CSHL_SPM/sift_descriptors/MD585/MD585-N27-2015.08.19-15.42.30_MD585_2_0080_sift_descriptors.bp\"\n",
      "rm -rf \"/shared/CSHL_data_processed/MD585/MD585_prep2_lossless_gray/MD585-IHC27-2015.08.19-13.28.05_MD585_2_0080_prep2_lossless_gray.tif\" && mkdir -p \"/shared/CSHL_data_processed/MD585/MD585_prep2_lossless_gray\"\n",
      "aws s3 cp \"s3://mousebrainatlas-data/CSHL_data_processed/MD585/MD585_prep2_lossless_gray/MD585-IHC27-2015.08.19-13.28.05_MD585_2_0080_prep2_lossless_gray.tif\" \"/shared/CSHL_data_processed/MD585/MD585_prep2_lossless_gray/MD585-IHC27-2015.08.19-13.28.05_MD585_2_0080_prep2_lossless_gray.tif\"\n",
      "rm -rf \"/shared/CSHL_data_processed/MD585/MD585_prep2_thumbnail_mask/MD585-IHC27-2015.08.19-13.28.05_MD585_2_0080_prep2_thumbnail_mask.png\" && mkdir -p \"/shared/CSHL_data_processed/MD585/MD585_prep2_thumbnail_mask\"\n",
      "aws s3 cp \"s3://mousebrainatlas-data/CSHL_data_processed/MD585/MD585_prep2_thumbnail_mask/MD585-IHC27-2015.08.19-13.28.05_MD585_2_0080_prep2_thumbnail_mask.png\" \"/shared/CSHL_data_processed/MD585/MD585_prep2_thumbnail_mask/MD585-IHC27-2015.08.19-13.28.05_MD585_2_0080_prep2_thumbnail_mask.png\"\n",
      "aws s3 cp \"/shared/CSHL_SPM/sift_keypoints/MD585/MD585-IHC27-2015.08.19-13.28.05_MD585_2_0080_sift_keypoints.bp\" \"s3://mousebrainatlas-data/CSHL_SPM/sift_keypoints/MD585/MD585-IHC27-2015.08.19-13.28.05_MD585_2_0080_sift_keypoints.bp\"\n",
      "aws s3 cp \"/shared/CSHL_SPM/sift_descriptors/MD585/MD585-IHC27-2015.08.19-13.28.05_MD585_2_0080_sift_descriptors.bp\" \"s3://mousebrainatlas-data/CSHL_SPM/sift_descriptors/MD585/MD585-IHC27-2015.08.19-13.28.05_MD585_2_0080_sift_descriptors.bp\"\n",
      "rm -rf \"/shared/CSHL_data_processed/MD585/MD585_prep2_lossless_gray/MD585-N27-2015.08.19-15.42.30_MD585_3_0081_prep2_lossless_gray.tif\" && mkdir -p \"/shared/CSHL_data_processed/MD585/MD585_prep2_lossless_gray\"\n",
      "aws s3 cp \"s3://mousebrainatlas-data/CSHL_data_processed/MD585/MD585_prep2_lossless_gray/MD585-N27-2015.08.19-15.42.30_MD585_3_0081_prep2_lossless_gray.tif\" \"/shared/CSHL_data_processed/MD585/MD585_prep2_lossless_gray/MD585-N27-2015.08.19-15.42.30_MD585_3_0081_prep2_lossless_gray.tif\"\n",
      "rm -rf \"/shared/CSHL_data_processed/MD585/MD585_prep2_thumbnail_mask/MD585-N27-2015.08.19-15.42.30_MD585_3_0081_prep2_thumbnail_mask.png\" && mkdir -p \"/shared/CSHL_data_processed/MD585/MD585_prep2_thumbnail_mask\"\n",
      "aws s3 cp \"s3://mousebrainatlas-data/CSHL_data_processed/MD585/MD585_prep2_thumbnail_mask/MD585-N27-2015.08.19-15.42.30_MD585_3_0081_prep2_thumbnail_mask.png\" \"/shared/CSHL_data_processed/MD585/MD585_prep2_thumbnail_mask/MD585-N27-2015.08.19-15.42.30_MD585_3_0081_prep2_thumbnail_mask.png\"\n",
      "aws s3 cp \"/shared/CSHL_SPM/sift_keypoints/MD585/MD585-N27-2015.08.19-15.42.30_MD585_3_0081_sift_keypoints.bp\" \"s3://mousebrainatlas-data/CSHL_SPM/sift_keypoints/MD585/MD585-N27-2015.08.19-15.42.30_MD585_3_0081_sift_keypoints.bp\"\n",
      "aws s3 cp \"/shared/CSHL_SPM/sift_descriptors/MD585/MD585-N27-2015.08.19-15.42.30_MD585_3_0081_sift_descriptors.bp\" \"s3://mousebrainatlas-data/CSHL_SPM/sift_descriptors/MD585/MD585-N27-2015.08.19-15.42.30_MD585_3_0081_sift_descriptors.bp\"\n",
      "rm -rf \"/shared/CSHL_data_processed/MD585/MD585_prep2_lossless_gray/MD585-IHC27-2015.08.19-13.28.05_MD585_3_0081_prep2_lossless_gray.tif\" && mkdir -p \"/shared/CSHL_data_processed/MD585/MD585_prep2_lossless_gray\"\n",
      "aws s3 cp \"s3://mousebrainatlas-data/CSHL_data_processed/MD585/MD585_prep2_lossless_gray/MD585-IHC27-2015.08.19-13.28.05_MD585_3_0081_prep2_lossless_gray.tif\" \"/shared/CSHL_data_processed/MD585/MD585_prep2_lossless_gray/MD585-IHC27-2015.08.19-13.28.05_MD585_3_0081_prep2_lossless_gray.tif\"\n",
      "rm -rf \"/shared/CSHL_data_processed/MD585/MD585_prep2_thumbnail_mask/MD585-IHC27-2015.08.19-13.28.05_MD585_3_0081_prep2_thumbnail_mask.png\" && mkdir -p \"/shared/CSHL_data_processed/MD585/MD585_prep2_thumbnail_mask\"\n",
      "aws s3 cp \"s3://mousebrainatlas-data/CSHL_data_processed/MD585/MD585_prep2_thumbnail_mask/MD585-IHC27-2015.08.19-13.28.05_MD585_3_0081_prep2_thumbnail_mask.png\" \"/shared/CSHL_data_processed/MD585/MD585_prep2_thumbnail_mask/MD585-IHC27-2015.08.19-13.28.05_MD585_3_0081_prep2_thumbnail_mask.png\"\n",
      "aws s3 cp \"/shared/CSHL_SPM/sift_keypoints/MD585/MD585-IHC27-2015.08.19-13.28.05_MD585_3_0081_sift_keypoints.bp\" \"s3://mousebrainatlas-data/CSHL_SPM/sift_keypoints/MD585/MD585-IHC27-2015.08.19-13.28.05_MD585_3_0081_sift_keypoints.bp\"\n",
      "aws s3 cp \"/shared/CSHL_SPM/sift_descriptors/MD585/MD585-IHC27-2015.08.19-13.28.05_MD585_3_0081_sift_descriptors.bp\" \"s3://mousebrainatlas-data/CSHL_SPM/sift_descriptors/MD585/MD585-IHC27-2015.08.19-13.28.05_MD585_3_0081_sift_descriptors.bp\"\n",
      "rm -rf \"/shared/CSHL_data_processed/MD585/MD585_prep2_lossless_gray/MD585-N28-2015.08.19-15.47.09_MD585_1_0082_prep2_lossless_gray.tif\" && mkdir -p \"/shared/CSHL_data_processed/MD585/MD585_prep2_lossless_gray\"\n",
      "aws s3 cp \"s3://mousebrainatlas-data/CSHL_data_processed/MD585/MD585_prep2_lossless_gray/MD585-N28-2015.08.19-15.47.09_MD585_1_0082_prep2_lossless_gray.tif\" \"/shared/CSHL_data_processed/MD585/MD585_prep2_lossless_gray/MD585-N28-2015.08.19-15.47.09_MD585_1_0082_prep2_lossless_gray.tif\"\n",
      "rm -rf \"/shared/CSHL_data_processed/MD585/MD585_prep2_thumbnail_mask/MD585-N28-2015.08.19-15.47.09_MD585_1_0082_prep2_thumbnail_mask.png\" && mkdir -p \"/shared/CSHL_data_processed/MD585/MD585_prep2_thumbnail_mask\"\n",
      "aws s3 cp \"s3://mousebrainatlas-data/CSHL_data_processed/MD585/MD585_prep2_thumbnail_mask/MD585-N28-2015.08.19-15.47.09_MD585_1_0082_prep2_thumbnail_mask.png\" \"/shared/CSHL_data_processed/MD585/MD585_prep2_thumbnail_mask/MD585-N28-2015.08.19-15.47.09_MD585_1_0082_prep2_thumbnail_mask.png\"\n",
      "aws s3 cp \"/shared/CSHL_SPM/sift_keypoints/MD585/MD585-N28-2015.08.19-15.47.09_MD585_1_0082_sift_keypoints.bp\" \"s3://mousebrainatlas-data/CSHL_SPM/sift_keypoints/MD585/MD585-N28-2015.08.19-15.47.09_MD585_1_0082_sift_keypoints.bp\"\n",
      "aws s3 cp \"/shared/CSHL_SPM/sift_descriptors/MD585/MD585-N28-2015.08.19-15.47.09_MD585_1_0082_sift_descriptors.bp\" \"s3://mousebrainatlas-data/CSHL_SPM/sift_descriptors/MD585/MD585-N28-2015.08.19-15.47.09_MD585_1_0082_sift_descriptors.bp\"\n",
      "rm -rf \"/shared/CSHL_data_processed/MD585/MD585_prep2_lossless_gray/MD585-IHC28-2015.08.19-13.33.04_MD585_1_0082_prep2_lossless_gray.tif\" && mkdir -p \"/shared/CSHL_data_processed/MD585/MD585_prep2_lossless_gray\"\n",
      "aws s3 cp \"s3://mousebrainatlas-data/CSHL_data_processed/MD585/MD585_prep2_lossless_gray/MD585-IHC28-2015.08.19-13.33.04_MD585_1_0082_prep2_lossless_gray.tif\" \"/shared/CSHL_data_processed/MD585/MD585_prep2_lossless_gray/MD585-IHC28-2015.08.19-13.33.04_MD585_1_0082_prep2_lossless_gray.tif\"\n",
      "rm -rf \"/shared/CSHL_data_processed/MD585/MD585_prep2_thumbnail_mask/MD585-IHC28-2015.08.19-13.33.04_MD585_1_0082_prep2_thumbnail_mask.png\" && mkdir -p \"/shared/CSHL_data_processed/MD585/MD585_prep2_thumbnail_mask\"\n",
      "aws s3 cp \"s3://mousebrainatlas-data/CSHL_data_processed/MD585/MD585_prep2_thumbnail_mask/MD585-IHC28-2015.08.19-13.33.04_MD585_1_0082_prep2_thumbnail_mask.png\" \"/shared/CSHL_data_processed/MD585/MD585_prep2_thumbnail_mask/MD585-IHC28-2015.08.19-13.33.04_MD585_1_0082_prep2_thumbnail_mask.png\"\n"
     ]
    },
    {
     "name": "stdout",
     "output_type": "stream",
     "text": [
      "aws s3 cp \"/shared/CSHL_SPM/sift_keypoints/MD585/MD585-IHC28-2015.08.19-13.33.04_MD585_1_0082_sift_keypoints.bp\" \"s3://mousebrainatlas-data/CSHL_SPM/sift_keypoints/MD585/MD585-IHC28-2015.08.19-13.33.04_MD585_1_0082_sift_keypoints.bp\"\n",
      "aws s3 cp \"/shared/CSHL_SPM/sift_descriptors/MD585/MD585-IHC28-2015.08.19-13.33.04_MD585_1_0082_sift_descriptors.bp\" \"s3://mousebrainatlas-data/CSHL_SPM/sift_descriptors/MD585/MD585-IHC28-2015.08.19-13.33.04_MD585_1_0082_sift_descriptors.bp\"\n",
      "rm -rf \"/shared/CSHL_data_processed/MD585/MD585_prep2_lossless_gray/MD585-N28-2015.08.19-15.47.09_MD585_2_0083_prep2_lossless_gray.tif\" && mkdir -p \"/shared/CSHL_data_processed/MD585/MD585_prep2_lossless_gray\"\n",
      "aws s3 cp \"s3://mousebrainatlas-data/CSHL_data_processed/MD585/MD585_prep2_lossless_gray/MD585-N28-2015.08.19-15.47.09_MD585_2_0083_prep2_lossless_gray.tif\" \"/shared/CSHL_data_processed/MD585/MD585_prep2_lossless_gray/MD585-N28-2015.08.19-15.47.09_MD585_2_0083_prep2_lossless_gray.tif\"\n",
      "rm -rf \"/shared/CSHL_data_processed/MD585/MD585_prep2_thumbnail_mask/MD585-N28-2015.08.19-15.47.09_MD585_2_0083_prep2_thumbnail_mask.png\" && mkdir -p \"/shared/CSHL_data_processed/MD585/MD585_prep2_thumbnail_mask\"\n",
      "aws s3 cp \"s3://mousebrainatlas-data/CSHL_data_processed/MD585/MD585_prep2_thumbnail_mask/MD585-N28-2015.08.19-15.47.09_MD585_2_0083_prep2_thumbnail_mask.png\" \"/shared/CSHL_data_processed/MD585/MD585_prep2_thumbnail_mask/MD585-N28-2015.08.19-15.47.09_MD585_2_0083_prep2_thumbnail_mask.png\"\n",
      "aws s3 cp \"/shared/CSHL_SPM/sift_keypoints/MD585/MD585-N28-2015.08.19-15.47.09_MD585_2_0083_sift_keypoints.bp\" \"s3://mousebrainatlas-data/CSHL_SPM/sift_keypoints/MD585/MD585-N28-2015.08.19-15.47.09_MD585_2_0083_sift_keypoints.bp\"\n",
      "aws s3 cp \"/shared/CSHL_SPM/sift_descriptors/MD585/MD585-N28-2015.08.19-15.47.09_MD585_2_0083_sift_descriptors.bp\" \"s3://mousebrainatlas-data/CSHL_SPM/sift_descriptors/MD585/MD585-N28-2015.08.19-15.47.09_MD585_2_0083_sift_descriptors.bp\"\n",
      "rm -rf \"/shared/CSHL_data_processed/MD585/MD585_prep2_lossless_gray/MD585-IHC28-2015.08.19-13.33.04_MD585_2_0083_prep2_lossless_gray.tif\" && mkdir -p \"/shared/CSHL_data_processed/MD585/MD585_prep2_lossless_gray\"\n",
      "aws s3 cp \"s3://mousebrainatlas-data/CSHL_data_processed/MD585/MD585_prep2_lossless_gray/MD585-IHC28-2015.08.19-13.33.04_MD585_2_0083_prep2_lossless_gray.tif\" \"/shared/CSHL_data_processed/MD585/MD585_prep2_lossless_gray/MD585-IHC28-2015.08.19-13.33.04_MD585_2_0083_prep2_lossless_gray.tif\"\n",
      "rm -rf \"/shared/CSHL_data_processed/MD585/MD585_prep2_thumbnail_mask/MD585-IHC28-2015.08.19-13.33.04_MD585_2_0083_prep2_thumbnail_mask.png\" && mkdir -p \"/shared/CSHL_data_processed/MD585/MD585_prep2_thumbnail_mask\"\n",
      "aws s3 cp \"s3://mousebrainatlas-data/CSHL_data_processed/MD585/MD585_prep2_thumbnail_mask/MD585-IHC28-2015.08.19-13.33.04_MD585_2_0083_prep2_thumbnail_mask.png\" \"/shared/CSHL_data_processed/MD585/MD585_prep2_thumbnail_mask/MD585-IHC28-2015.08.19-13.33.04_MD585_2_0083_prep2_thumbnail_mask.png\"\n",
      "aws s3 cp \"/shared/CSHL_SPM/sift_keypoints/MD585/MD585-IHC28-2015.08.19-13.33.04_MD585_2_0083_sift_keypoints.bp\" \"s3://mousebrainatlas-data/CSHL_SPM/sift_keypoints/MD585/MD585-IHC28-2015.08.19-13.33.04_MD585_2_0083_sift_keypoints.bp\"\n",
      "aws s3 cp \"/shared/CSHL_SPM/sift_descriptors/MD585/MD585-IHC28-2015.08.19-13.33.04_MD585_2_0083_sift_descriptors.bp\" \"s3://mousebrainatlas-data/CSHL_SPM/sift_descriptors/MD585/MD585-IHC28-2015.08.19-13.33.04_MD585_2_0083_sift_descriptors.bp\"\n",
      "rm -rf \"/shared/CSHL_data_processed/MD585/MD585_prep2_lossless_gray/MD585-N28-2015.08.19-15.47.09_MD585_3_0084_prep2_lossless_gray.tif\" && mkdir -p \"/shared/CSHL_data_processed/MD585/MD585_prep2_lossless_gray\"\n",
      "aws s3 cp \"s3://mousebrainatlas-data/CSHL_data_processed/MD585/MD585_prep2_lossless_gray/MD585-N28-2015.08.19-15.47.09_MD585_3_0084_prep2_lossless_gray.tif\" \"/shared/CSHL_data_processed/MD585/MD585_prep2_lossless_gray/MD585-N28-2015.08.19-15.47.09_MD585_3_0084_prep2_lossless_gray.tif\"\n",
      "rm -rf \"/shared/CSHL_data_processed/MD585/MD585_prep2_thumbnail_mask/MD585-N28-2015.08.19-15.47.09_MD585_3_0084_prep2_thumbnail_mask.png\" && mkdir -p \"/shared/CSHL_data_processed/MD585/MD585_prep2_thumbnail_mask\"\n",
      "aws s3 cp \"s3://mousebrainatlas-data/CSHL_data_processed/MD585/MD585_prep2_thumbnail_mask/MD585-N28-2015.08.19-15.47.09_MD585_3_0084_prep2_thumbnail_mask.png\" \"/shared/CSHL_data_processed/MD585/MD585_prep2_thumbnail_mask/MD585-N28-2015.08.19-15.47.09_MD585_3_0084_prep2_thumbnail_mask.png\"\n",
      "aws s3 cp \"/shared/CSHL_SPM/sift_keypoints/MD585/MD585-N28-2015.08.19-15.47.09_MD585_3_0084_sift_keypoints.bp\" \"s3://mousebrainatlas-data/CSHL_SPM/sift_keypoints/MD585/MD585-N28-2015.08.19-15.47.09_MD585_3_0084_sift_keypoints.bp\"\n",
      "aws s3 cp \"/shared/CSHL_SPM/sift_descriptors/MD585/MD585-N28-2015.08.19-15.47.09_MD585_3_0084_sift_descriptors.bp\" \"s3://mousebrainatlas-data/CSHL_SPM/sift_descriptors/MD585/MD585-N28-2015.08.19-15.47.09_MD585_3_0084_sift_descriptors.bp\"\n",
      "rm -rf \"/shared/CSHL_data_processed/MD585/MD585_prep2_lossless_gray/MD585-IHC28-2015.08.19-13.33.04_MD585_3_0084_prep2_lossless_gray.tif\" && mkdir -p \"/shared/CSHL_data_processed/MD585/MD585_prep2_lossless_gray\"\n",
      "aws s3 cp \"s3://mousebrainatlas-data/CSHL_data_processed/MD585/MD585_prep2_lossless_gray/MD585-IHC28-2015.08.19-13.33.04_MD585_3_0084_prep2_lossless_gray.tif\" \"/shared/CSHL_data_processed/MD585/MD585_prep2_lossless_gray/MD585-IHC28-2015.08.19-13.33.04_MD585_3_0084_prep2_lossless_gray.tif\"\n",
      "rm -rf \"/shared/CSHL_data_processed/MD585/MD585_prep2_thumbnail_mask/MD585-IHC28-2015.08.19-13.33.04_MD585_3_0084_prep2_thumbnail_mask.png\" && mkdir -p \"/shared/CSHL_data_processed/MD585/MD585_prep2_thumbnail_mask\"\n",
      "aws s3 cp \"s3://mousebrainatlas-data/CSHL_data_processed/MD585/MD585_prep2_thumbnail_mask/MD585-IHC28-2015.08.19-13.33.04_MD585_3_0084_prep2_thumbnail_mask.png\" \"/shared/CSHL_data_processed/MD585/MD585_prep2_thumbnail_mask/MD585-IHC28-2015.08.19-13.33.04_MD585_3_0084_prep2_thumbnail_mask.png\"\n",
      "aws s3 cp \"/shared/CSHL_SPM/sift_keypoints/MD585/MD585-IHC28-2015.08.19-13.33.04_MD585_3_0084_sift_keypoints.bp\" \"s3://mousebrainatlas-data/CSHL_SPM/sift_keypoints/MD585/MD585-IHC28-2015.08.19-13.33.04_MD585_3_0084_sift_keypoints.bp\"\n",
      "aws s3 cp \"/shared/CSHL_SPM/sift_descriptors/MD585/MD585-IHC28-2015.08.19-13.33.04_MD585_3_0084_sift_descriptors.bp\" \"s3://mousebrainatlas-data/CSHL_SPM/sift_descriptors/MD585/MD585-IHC28-2015.08.19-13.33.04_MD585_3_0084_sift_descriptors.bp\"\n",
      "rm -rf \"/shared/CSHL_data_processed/MD585/MD585_prep2_lossless_gray/MD585-N29-2015.08.19-15.51.55_MD585_1_0085_prep2_lossless_gray.tif\" && mkdir -p \"/shared/CSHL_data_processed/MD585/MD585_prep2_lossless_gray\"\n",
      "aws s3 cp \"s3://mousebrainatlas-data/CSHL_data_processed/MD585/MD585_prep2_lossless_gray/MD585-N29-2015.08.19-15.51.55_MD585_1_0085_prep2_lossless_gray.tif\" \"/shared/CSHL_data_processed/MD585/MD585_prep2_lossless_gray/MD585-N29-2015.08.19-15.51.55_MD585_1_0085_prep2_lossless_gray.tif\"\n",
      "rm -rf \"/shared/CSHL_data_processed/MD585/MD585_prep2_thumbnail_mask/MD585-N29-2015.08.19-15.51.55_MD585_1_0085_prep2_thumbnail_mask.png\" && mkdir -p \"/shared/CSHL_data_processed/MD585/MD585_prep2_thumbnail_mask\"\n",
      "aws s3 cp \"s3://mousebrainatlas-data/CSHL_data_processed/MD585/MD585_prep2_thumbnail_mask/MD585-N29-2015.08.19-15.51.55_MD585_1_0085_prep2_thumbnail_mask.png\" \"/shared/CSHL_data_processed/MD585/MD585_prep2_thumbnail_mask/MD585-N29-2015.08.19-15.51.55_MD585_1_0085_prep2_thumbnail_mask.png\"\n",
      "aws s3 cp \"/shared/CSHL_SPM/sift_keypoints/MD585/MD585-N29-2015.08.19-15.51.55_MD585_1_0085_sift_keypoints.bp\" \"s3://mousebrainatlas-data/CSHL_SPM/sift_keypoints/MD585/MD585-N29-2015.08.19-15.51.55_MD585_1_0085_sift_keypoints.bp\"\n",
      "aws s3 cp \"/shared/CSHL_SPM/sift_descriptors/MD585/MD585-N29-2015.08.19-15.51.55_MD585_1_0085_sift_descriptors.bp\" \"s3://mousebrainatlas-data/CSHL_SPM/sift_descriptors/MD585/MD585-N29-2015.08.19-15.51.55_MD585_1_0085_sift_descriptors.bp\"\n",
      "rm -rf \"/shared/CSHL_data_processed/MD585/MD585_prep2_lossless_gray/MD585-IHC29-2015.08.19-13.38.04_MD585_1_0085_prep2_lossless_gray.tif\" && mkdir -p \"/shared/CSHL_data_processed/MD585/MD585_prep2_lossless_gray\"\n",
      "aws s3 cp \"s3://mousebrainatlas-data/CSHL_data_processed/MD585/MD585_prep2_lossless_gray/MD585-IHC29-2015.08.19-13.38.04_MD585_1_0085_prep2_lossless_gray.tif\" \"/shared/CSHL_data_processed/MD585/MD585_prep2_lossless_gray/MD585-IHC29-2015.08.19-13.38.04_MD585_1_0085_prep2_lossless_gray.tif\"\n"
     ]
    },
    {
     "name": "stdout",
     "output_type": "stream",
     "text": [
      "rm -rf \"/shared/CSHL_data_processed/MD585/MD585_prep2_thumbnail_mask/MD585-IHC29-2015.08.19-13.38.04_MD585_1_0085_prep2_thumbnail_mask.png\" && mkdir -p \"/shared/CSHL_data_processed/MD585/MD585_prep2_thumbnail_mask\"\n",
      "aws s3 cp \"s3://mousebrainatlas-data/CSHL_data_processed/MD585/MD585_prep2_thumbnail_mask/MD585-IHC29-2015.08.19-13.38.04_MD585_1_0085_prep2_thumbnail_mask.png\" \"/shared/CSHL_data_processed/MD585/MD585_prep2_thumbnail_mask/MD585-IHC29-2015.08.19-13.38.04_MD585_1_0085_prep2_thumbnail_mask.png\"\n",
      "aws s3 cp \"/shared/CSHL_SPM/sift_keypoints/MD585/MD585-IHC29-2015.08.19-13.38.04_MD585_1_0085_sift_keypoints.bp\" \"s3://mousebrainatlas-data/CSHL_SPM/sift_keypoints/MD585/MD585-IHC29-2015.08.19-13.38.04_MD585_1_0085_sift_keypoints.bp\"\n",
      "aws s3 cp \"/shared/CSHL_SPM/sift_descriptors/MD585/MD585-IHC29-2015.08.19-13.38.04_MD585_1_0085_sift_descriptors.bp\" \"s3://mousebrainatlas-data/CSHL_SPM/sift_descriptors/MD585/MD585-IHC29-2015.08.19-13.38.04_MD585_1_0085_sift_descriptors.bp\"\n",
      "rm -rf \"/shared/CSHL_data_processed/MD585/MD585_prep2_lossless_gray/MD585-N29-2015.07.30-15.11.04_MD585_2_0086_prep2_lossless_gray.tif\" && mkdir -p \"/shared/CSHL_data_processed/MD585/MD585_prep2_lossless_gray\"\n",
      "aws s3 cp \"s3://mousebrainatlas-data/CSHL_data_processed/MD585/MD585_prep2_lossless_gray/MD585-N29-2015.07.30-15.11.04_MD585_2_0086_prep2_lossless_gray.tif\" \"/shared/CSHL_data_processed/MD585/MD585_prep2_lossless_gray/MD585-N29-2015.07.30-15.11.04_MD585_2_0086_prep2_lossless_gray.tif\"\n",
      "rm -rf \"/shared/CSHL_data_processed/MD585/MD585_prep2_thumbnail_mask/MD585-N29-2015.07.30-15.11.04_MD585_2_0086_prep2_thumbnail_mask.png\" && mkdir -p \"/shared/CSHL_data_processed/MD585/MD585_prep2_thumbnail_mask\"\n",
      "aws s3 cp \"s3://mousebrainatlas-data/CSHL_data_processed/MD585/MD585_prep2_thumbnail_mask/MD585-N29-2015.07.30-15.11.04_MD585_2_0086_prep2_thumbnail_mask.png\" \"/shared/CSHL_data_processed/MD585/MD585_prep2_thumbnail_mask/MD585-N29-2015.07.30-15.11.04_MD585_2_0086_prep2_thumbnail_mask.png\"\n",
      "aws s3 cp \"/shared/CSHL_SPM/sift_keypoints/MD585/MD585-N29-2015.07.30-15.11.04_MD585_2_0086_sift_keypoints.bp\" \"s3://mousebrainatlas-data/CSHL_SPM/sift_keypoints/MD585/MD585-N29-2015.07.30-15.11.04_MD585_2_0086_sift_keypoints.bp\"\n",
      "aws s3 cp \"/shared/CSHL_SPM/sift_descriptors/MD585/MD585-N29-2015.07.30-15.11.04_MD585_2_0086_sift_descriptors.bp\" \"s3://mousebrainatlas-data/CSHL_SPM/sift_descriptors/MD585/MD585-N29-2015.07.30-15.11.04_MD585_2_0086_sift_descriptors.bp\"\n",
      "rm -rf \"/shared/CSHL_data_processed/MD585/MD585_prep2_lossless_gray/MD585-IHC29-2015.08.19-13.38.04_MD585_2_0086_prep2_lossless_gray.tif\" && mkdir -p \"/shared/CSHL_data_processed/MD585/MD585_prep2_lossless_gray\"\n",
      "aws s3 cp \"s3://mousebrainatlas-data/CSHL_data_processed/MD585/MD585_prep2_lossless_gray/MD585-IHC29-2015.08.19-13.38.04_MD585_2_0086_prep2_lossless_gray.tif\" \"/shared/CSHL_data_processed/MD585/MD585_prep2_lossless_gray/MD585-IHC29-2015.08.19-13.38.04_MD585_2_0086_prep2_lossless_gray.tif\"\n",
      "rm -rf \"/shared/CSHL_data_processed/MD585/MD585_prep2_thumbnail_mask/MD585-IHC29-2015.08.19-13.38.04_MD585_2_0086_prep2_thumbnail_mask.png\" && mkdir -p \"/shared/CSHL_data_processed/MD585/MD585_prep2_thumbnail_mask\"\n",
      "aws s3 cp \"s3://mousebrainatlas-data/CSHL_data_processed/MD585/MD585_prep2_thumbnail_mask/MD585-IHC29-2015.08.19-13.38.04_MD585_2_0086_prep2_thumbnail_mask.png\" \"/shared/CSHL_data_processed/MD585/MD585_prep2_thumbnail_mask/MD585-IHC29-2015.08.19-13.38.04_MD585_2_0086_prep2_thumbnail_mask.png\"\n",
      "aws s3 cp \"/shared/CSHL_SPM/sift_keypoints/MD585/MD585-IHC29-2015.08.19-13.38.04_MD585_2_0086_sift_keypoints.bp\" \"s3://mousebrainatlas-data/CSHL_SPM/sift_keypoints/MD585/MD585-IHC29-2015.08.19-13.38.04_MD585_2_0086_sift_keypoints.bp\"\n",
      "aws s3 cp \"/shared/CSHL_SPM/sift_descriptors/MD585/MD585-IHC29-2015.08.19-13.38.04_MD585_2_0086_sift_descriptors.bp\" \"s3://mousebrainatlas-data/CSHL_SPM/sift_descriptors/MD585/MD585-IHC29-2015.08.19-13.38.04_MD585_2_0086_sift_descriptors.bp\"\n",
      "rm -rf \"/shared/CSHL_data_processed/MD585/MD585_prep2_lossless_gray/MD585-N29-2015.08.19-15.51.55_MD585_3_0087_prep2_lossless_gray.tif\" && mkdir -p \"/shared/CSHL_data_processed/MD585/MD585_prep2_lossless_gray\"\n",
      "aws s3 cp \"s3://mousebrainatlas-data/CSHL_data_processed/MD585/MD585_prep2_lossless_gray/MD585-N29-2015.08.19-15.51.55_MD585_3_0087_prep2_lossless_gray.tif\" \"/shared/CSHL_data_processed/MD585/MD585_prep2_lossless_gray/MD585-N29-2015.08.19-15.51.55_MD585_3_0087_prep2_lossless_gray.tif\"\n",
      "rm -rf \"/shared/CSHL_data_processed/MD585/MD585_prep2_thumbnail_mask/MD585-N29-2015.08.19-15.51.55_MD585_3_0087_prep2_thumbnail_mask.png\" && mkdir -p \"/shared/CSHL_data_processed/MD585/MD585_prep2_thumbnail_mask\"\n",
      "aws s3 cp \"s3://mousebrainatlas-data/CSHL_data_processed/MD585/MD585_prep2_thumbnail_mask/MD585-N29-2015.08.19-15.51.55_MD585_3_0087_prep2_thumbnail_mask.png\" \"/shared/CSHL_data_processed/MD585/MD585_prep2_thumbnail_mask/MD585-N29-2015.08.19-15.51.55_MD585_3_0087_prep2_thumbnail_mask.png\"\n",
      "aws s3 cp \"/shared/CSHL_SPM/sift_keypoints/MD585/MD585-N29-2015.08.19-15.51.55_MD585_3_0087_sift_keypoints.bp\" \"s3://mousebrainatlas-data/CSHL_SPM/sift_keypoints/MD585/MD585-N29-2015.08.19-15.51.55_MD585_3_0087_sift_keypoints.bp\"\n",
      "aws s3 cp \"/shared/CSHL_SPM/sift_descriptors/MD585/MD585-N29-2015.08.19-15.51.55_MD585_3_0087_sift_descriptors.bp\" \"s3://mousebrainatlas-data/CSHL_SPM/sift_descriptors/MD585/MD585-N29-2015.08.19-15.51.55_MD585_3_0087_sift_descriptors.bp\"\n",
      "rm -rf \"/shared/CSHL_data_processed/MD585/MD585_prep2_lossless_gray/MD585-IHC29-2015.08.19-13.38.04_MD585_3_0087_prep2_lossless_gray.tif\" && mkdir -p \"/shared/CSHL_data_processed/MD585/MD585_prep2_lossless_gray\"\n",
      "aws s3 cp \"s3://mousebrainatlas-data/CSHL_data_processed/MD585/MD585_prep2_lossless_gray/MD585-IHC29-2015.08.19-13.38.04_MD585_3_0087_prep2_lossless_gray.tif\" \"/shared/CSHL_data_processed/MD585/MD585_prep2_lossless_gray/MD585-IHC29-2015.08.19-13.38.04_MD585_3_0087_prep2_lossless_gray.tif\"\n",
      "rm -rf \"/shared/CSHL_data_processed/MD585/MD585_prep2_thumbnail_mask/MD585-IHC29-2015.08.19-13.38.04_MD585_3_0087_prep2_thumbnail_mask.png\" && mkdir -p \"/shared/CSHL_data_processed/MD585/MD585_prep2_thumbnail_mask\"\n",
      "aws s3 cp \"s3://mousebrainatlas-data/CSHL_data_processed/MD585/MD585_prep2_thumbnail_mask/MD585-IHC29-2015.08.19-13.38.04_MD585_3_0087_prep2_thumbnail_mask.png\" \"/shared/CSHL_data_processed/MD585/MD585_prep2_thumbnail_mask/MD585-IHC29-2015.08.19-13.38.04_MD585_3_0087_prep2_thumbnail_mask.png\"\n",
      "aws s3 cp \"/shared/CSHL_SPM/sift_keypoints/MD585/MD585-IHC29-2015.08.19-13.38.04_MD585_3_0087_sift_keypoints.bp\" \"s3://mousebrainatlas-data/CSHL_SPM/sift_keypoints/MD585/MD585-IHC29-2015.08.19-13.38.04_MD585_3_0087_sift_keypoints.bp\"\n",
      "aws s3 cp \"/shared/CSHL_SPM/sift_descriptors/MD585/MD585-IHC29-2015.08.19-13.38.04_MD585_3_0087_sift_descriptors.bp\" \"s3://mousebrainatlas-data/CSHL_SPM/sift_descriptors/MD585/MD585-IHC29-2015.08.19-13.38.04_MD585_3_0087_sift_descriptors.bp\"\n",
      "rm -rf \"/shared/CSHL_data_processed/MD585/MD585_prep2_lossless_gray/MD585-N30-2015.08.19-15.56.52_MD585_1_0088_prep2_lossless_gray.tif\" && mkdir -p \"/shared/CSHL_data_processed/MD585/MD585_prep2_lossless_gray\"\n",
      "aws s3 cp \"s3://mousebrainatlas-data/CSHL_data_processed/MD585/MD585_prep2_lossless_gray/MD585-N30-2015.08.19-15.56.52_MD585_1_0088_prep2_lossless_gray.tif\" \"/shared/CSHL_data_processed/MD585/MD585_prep2_lossless_gray/MD585-N30-2015.08.19-15.56.52_MD585_1_0088_prep2_lossless_gray.tif\"\n",
      "rm -rf \"/shared/CSHL_data_processed/MD585/MD585_prep2_thumbnail_mask/MD585-N30-2015.08.19-15.56.52_MD585_1_0088_prep2_thumbnail_mask.png\" && mkdir -p \"/shared/CSHL_data_processed/MD585/MD585_prep2_thumbnail_mask\"\n",
      "aws s3 cp \"s3://mousebrainatlas-data/CSHL_data_processed/MD585/MD585_prep2_thumbnail_mask/MD585-N30-2015.08.19-15.56.52_MD585_1_0088_prep2_thumbnail_mask.png\" \"/shared/CSHL_data_processed/MD585/MD585_prep2_thumbnail_mask/MD585-N30-2015.08.19-15.56.52_MD585_1_0088_prep2_thumbnail_mask.png\"\n",
      "aws s3 cp \"/shared/CSHL_SPM/sift_keypoints/MD585/MD585-N30-2015.08.19-15.56.52_MD585_1_0088_sift_keypoints.bp\" \"s3://mousebrainatlas-data/CSHL_SPM/sift_keypoints/MD585/MD585-N30-2015.08.19-15.56.52_MD585_1_0088_sift_keypoints.bp\"\n",
      "aws s3 cp \"/shared/CSHL_SPM/sift_descriptors/MD585/MD585-N30-2015.08.19-15.56.52_MD585_1_0088_sift_descriptors.bp\" \"s3://mousebrainatlas-data/CSHL_SPM/sift_descriptors/MD585/MD585-N30-2015.08.19-15.56.52_MD585_1_0088_sift_descriptors.bp\"\n"
     ]
    },
    {
     "name": "stdout",
     "output_type": "stream",
     "text": [
      "rm -rf \"/shared/CSHL_data_processed/MD585/MD585_prep2_lossless_gray/MD585-IHC30-2015.08.19-13.43.06_MD585_1_0088_prep2_lossless_gray.tif\" && mkdir -p \"/shared/CSHL_data_processed/MD585/MD585_prep2_lossless_gray\"\n",
      "aws s3 cp \"s3://mousebrainatlas-data/CSHL_data_processed/MD585/MD585_prep2_lossless_gray/MD585-IHC30-2015.08.19-13.43.06_MD585_1_0088_prep2_lossless_gray.tif\" \"/shared/CSHL_data_processed/MD585/MD585_prep2_lossless_gray/MD585-IHC30-2015.08.19-13.43.06_MD585_1_0088_prep2_lossless_gray.tif\"\n",
      "rm -rf \"/shared/CSHL_data_processed/MD585/MD585_prep2_thumbnail_mask/MD585-IHC30-2015.08.19-13.43.06_MD585_1_0088_prep2_thumbnail_mask.png\" && mkdir -p \"/shared/CSHL_data_processed/MD585/MD585_prep2_thumbnail_mask\"\n",
      "aws s3 cp \"s3://mousebrainatlas-data/CSHL_data_processed/MD585/MD585_prep2_thumbnail_mask/MD585-IHC30-2015.08.19-13.43.06_MD585_1_0088_prep2_thumbnail_mask.png\" \"/shared/CSHL_data_processed/MD585/MD585_prep2_thumbnail_mask/MD585-IHC30-2015.08.19-13.43.06_MD585_1_0088_prep2_thumbnail_mask.png\"\n",
      "aws s3 cp \"/shared/CSHL_SPM/sift_keypoints/MD585/MD585-IHC30-2015.08.19-13.43.06_MD585_1_0088_sift_keypoints.bp\" \"s3://mousebrainatlas-data/CSHL_SPM/sift_keypoints/MD585/MD585-IHC30-2015.08.19-13.43.06_MD585_1_0088_sift_keypoints.bp\"\n",
      "aws s3 cp \"/shared/CSHL_SPM/sift_descriptors/MD585/MD585-IHC30-2015.08.19-13.43.06_MD585_1_0088_sift_descriptors.bp\" \"s3://mousebrainatlas-data/CSHL_SPM/sift_descriptors/MD585/MD585-IHC30-2015.08.19-13.43.06_MD585_1_0088_sift_descriptors.bp\"\n",
      "rm -rf \"/shared/CSHL_data_processed/MD585/MD585_prep2_lossless_gray/MD585-N30-2015.08.19-15.56.52_MD585_2_0089_prep2_lossless_gray.tif\" && mkdir -p \"/shared/CSHL_data_processed/MD585/MD585_prep2_lossless_gray\"\n",
      "aws s3 cp \"s3://mousebrainatlas-data/CSHL_data_processed/MD585/MD585_prep2_lossless_gray/MD585-N30-2015.08.19-15.56.52_MD585_2_0089_prep2_lossless_gray.tif\" \"/shared/CSHL_data_processed/MD585/MD585_prep2_lossless_gray/MD585-N30-2015.08.19-15.56.52_MD585_2_0089_prep2_lossless_gray.tif\"\n",
      "rm -rf \"/shared/CSHL_data_processed/MD585/MD585_prep2_thumbnail_mask/MD585-N30-2015.08.19-15.56.52_MD585_2_0089_prep2_thumbnail_mask.png\" && mkdir -p \"/shared/CSHL_data_processed/MD585/MD585_prep2_thumbnail_mask\"\n",
      "aws s3 cp \"s3://mousebrainatlas-data/CSHL_data_processed/MD585/MD585_prep2_thumbnail_mask/MD585-N30-2015.08.19-15.56.52_MD585_2_0089_prep2_thumbnail_mask.png\" \"/shared/CSHL_data_processed/MD585/MD585_prep2_thumbnail_mask/MD585-N30-2015.08.19-15.56.52_MD585_2_0089_prep2_thumbnail_mask.png\"\n",
      "aws s3 cp \"/shared/CSHL_SPM/sift_keypoints/MD585/MD585-N30-2015.08.19-15.56.52_MD585_2_0089_sift_keypoints.bp\" \"s3://mousebrainatlas-data/CSHL_SPM/sift_keypoints/MD585/MD585-N30-2015.08.19-15.56.52_MD585_2_0089_sift_keypoints.bp\"\n",
      "aws s3 cp \"/shared/CSHL_SPM/sift_descriptors/MD585/MD585-N30-2015.08.19-15.56.52_MD585_2_0089_sift_descriptors.bp\" \"s3://mousebrainatlas-data/CSHL_SPM/sift_descriptors/MD585/MD585-N30-2015.08.19-15.56.52_MD585_2_0089_sift_descriptors.bp\"\n",
      "rm -rf \"/shared/CSHL_data_processed/MD585/MD585_prep2_lossless_gray/MD585-IHC30-2015.08.19-13.43.06_MD585_2_0089_prep2_lossless_gray.tif\" && mkdir -p \"/shared/CSHL_data_processed/MD585/MD585_prep2_lossless_gray\"\n",
      "aws s3 cp \"s3://mousebrainatlas-data/CSHL_data_processed/MD585/MD585_prep2_lossless_gray/MD585-IHC30-2015.08.19-13.43.06_MD585_2_0089_prep2_lossless_gray.tif\" \"/shared/CSHL_data_processed/MD585/MD585_prep2_lossless_gray/MD585-IHC30-2015.08.19-13.43.06_MD585_2_0089_prep2_lossless_gray.tif\"\n",
      "rm -rf \"/shared/CSHL_data_processed/MD585/MD585_prep2_thumbnail_mask/MD585-IHC30-2015.08.19-13.43.06_MD585_2_0089_prep2_thumbnail_mask.png\" && mkdir -p \"/shared/CSHL_data_processed/MD585/MD585_prep2_thumbnail_mask\"\n",
      "aws s3 cp \"s3://mousebrainatlas-data/CSHL_data_processed/MD585/MD585_prep2_thumbnail_mask/MD585-IHC30-2015.08.19-13.43.06_MD585_2_0089_prep2_thumbnail_mask.png\" \"/shared/CSHL_data_processed/MD585/MD585_prep2_thumbnail_mask/MD585-IHC30-2015.08.19-13.43.06_MD585_2_0089_prep2_thumbnail_mask.png\"\n",
      "aws s3 cp \"/shared/CSHL_SPM/sift_keypoints/MD585/MD585-IHC30-2015.08.19-13.43.06_MD585_2_0089_sift_keypoints.bp\" \"s3://mousebrainatlas-data/CSHL_SPM/sift_keypoints/MD585/MD585-IHC30-2015.08.19-13.43.06_MD585_2_0089_sift_keypoints.bp\"\n",
      "aws s3 cp \"/shared/CSHL_SPM/sift_descriptors/MD585/MD585-IHC30-2015.08.19-13.43.06_MD585_2_0089_sift_descriptors.bp\" \"s3://mousebrainatlas-data/CSHL_SPM/sift_descriptors/MD585/MD585-IHC30-2015.08.19-13.43.06_MD585_2_0089_sift_descriptors.bp\"\n",
      "rm -rf \"/shared/CSHL_data_processed/MD585/MD585_prep2_lossless_gray/MD585-N30-2015.08.19-15.56.52_MD585_3_0090_prep2_lossless_gray.tif\" && mkdir -p \"/shared/CSHL_data_processed/MD585/MD585_prep2_lossless_gray\"\n",
      "aws s3 cp \"s3://mousebrainatlas-data/CSHL_data_processed/MD585/MD585_prep2_lossless_gray/MD585-N30-2015.08.19-15.56.52_MD585_3_0090_prep2_lossless_gray.tif\" \"/shared/CSHL_data_processed/MD585/MD585_prep2_lossless_gray/MD585-N30-2015.08.19-15.56.52_MD585_3_0090_prep2_lossless_gray.tif\"\n",
      "rm -rf \"/shared/CSHL_data_processed/MD585/MD585_prep2_thumbnail_mask/MD585-N30-2015.08.19-15.56.52_MD585_3_0090_prep2_thumbnail_mask.png\" && mkdir -p \"/shared/CSHL_data_processed/MD585/MD585_prep2_thumbnail_mask\"\n",
      "aws s3 cp \"s3://mousebrainatlas-data/CSHL_data_processed/MD585/MD585_prep2_thumbnail_mask/MD585-N30-2015.08.19-15.56.52_MD585_3_0090_prep2_thumbnail_mask.png\" \"/shared/CSHL_data_processed/MD585/MD585_prep2_thumbnail_mask/MD585-N30-2015.08.19-15.56.52_MD585_3_0090_prep2_thumbnail_mask.png\"\n",
      "aws s3 cp \"/shared/CSHL_SPM/sift_keypoints/MD585/MD585-N30-2015.08.19-15.56.52_MD585_3_0090_sift_keypoints.bp\" \"s3://mousebrainatlas-data/CSHL_SPM/sift_keypoints/MD585/MD585-N30-2015.08.19-15.56.52_MD585_3_0090_sift_keypoints.bp\"\n",
      "aws s3 cp \"/shared/CSHL_SPM/sift_descriptors/MD585/MD585-N30-2015.08.19-15.56.52_MD585_3_0090_sift_descriptors.bp\" \"s3://mousebrainatlas-data/CSHL_SPM/sift_descriptors/MD585/MD585-N30-2015.08.19-15.56.52_MD585_3_0090_sift_descriptors.bp\"\n",
      "rm -rf \"/shared/CSHL_data_processed/MD585/MD585_prep2_lossless_gray/MD585-IHC30-2015.08.19-13.43.06_MD585_3_0090_prep2_lossless_gray.tif\" && mkdir -p \"/shared/CSHL_data_processed/MD585/MD585_prep2_lossless_gray\"\n",
      "aws s3 cp \"s3://mousebrainatlas-data/CSHL_data_processed/MD585/MD585_prep2_lossless_gray/MD585-IHC30-2015.08.19-13.43.06_MD585_3_0090_prep2_lossless_gray.tif\" \"/shared/CSHL_data_processed/MD585/MD585_prep2_lossless_gray/MD585-IHC30-2015.08.19-13.43.06_MD585_3_0090_prep2_lossless_gray.tif\"\n",
      "rm -rf \"/shared/CSHL_data_processed/MD585/MD585_prep2_thumbnail_mask/MD585-IHC30-2015.08.19-13.43.06_MD585_3_0090_prep2_thumbnail_mask.png\" && mkdir -p \"/shared/CSHL_data_processed/MD585/MD585_prep2_thumbnail_mask\"\n",
      "aws s3 cp \"s3://mousebrainatlas-data/CSHL_data_processed/MD585/MD585_prep2_thumbnail_mask/MD585-IHC30-2015.08.19-13.43.06_MD585_3_0090_prep2_thumbnail_mask.png\" \"/shared/CSHL_data_processed/MD585/MD585_prep2_thumbnail_mask/MD585-IHC30-2015.08.19-13.43.06_MD585_3_0090_prep2_thumbnail_mask.png\"\n",
      "aws s3 cp \"/shared/CSHL_SPM/sift_keypoints/MD585/MD585-IHC30-2015.08.19-13.43.06_MD585_3_0090_sift_keypoints.bp\" \"s3://mousebrainatlas-data/CSHL_SPM/sift_keypoints/MD585/MD585-IHC30-2015.08.19-13.43.06_MD585_3_0090_sift_keypoints.bp\"\n",
      "aws s3 cp \"/shared/CSHL_SPM/sift_descriptors/MD585/MD585-IHC30-2015.08.19-13.43.06_MD585_3_0090_sift_descriptors.bp\" \"s3://mousebrainatlas-data/CSHL_SPM/sift_descriptors/MD585/MD585-IHC30-2015.08.19-13.43.06_MD585_3_0090_sift_descriptors.bp\"\n",
      "rm -rf \"/shared/CSHL_data_processed/MD585/MD585_prep2_lossless_gray/MD585-N31-2015.08.19-16.01.47_MD585_1_0091_prep2_lossless_gray.tif\" && mkdir -p \"/shared/CSHL_data_processed/MD585/MD585_prep2_lossless_gray\"\n",
      "aws s3 cp \"s3://mousebrainatlas-data/CSHL_data_processed/MD585/MD585_prep2_lossless_gray/MD585-N31-2015.08.19-16.01.47_MD585_1_0091_prep2_lossless_gray.tif\" \"/shared/CSHL_data_processed/MD585/MD585_prep2_lossless_gray/MD585-N31-2015.08.19-16.01.47_MD585_1_0091_prep2_lossless_gray.tif\"\n",
      "rm -rf \"/shared/CSHL_data_processed/MD585/MD585_prep2_thumbnail_mask/MD585-N31-2015.08.19-16.01.47_MD585_1_0091_prep2_thumbnail_mask.png\" && mkdir -p \"/shared/CSHL_data_processed/MD585/MD585_prep2_thumbnail_mask\"\n",
      "aws s3 cp \"s3://mousebrainatlas-data/CSHL_data_processed/MD585/MD585_prep2_thumbnail_mask/MD585-N31-2015.08.19-16.01.47_MD585_1_0091_prep2_thumbnail_mask.png\" \"/shared/CSHL_data_processed/MD585/MD585_prep2_thumbnail_mask/MD585-N31-2015.08.19-16.01.47_MD585_1_0091_prep2_thumbnail_mask.png\"\n"
     ]
    },
    {
     "name": "stdout",
     "output_type": "stream",
     "text": [
      "aws s3 cp \"/shared/CSHL_SPM/sift_keypoints/MD585/MD585-N31-2015.08.19-16.01.47_MD585_1_0091_sift_keypoints.bp\" \"s3://mousebrainatlas-data/CSHL_SPM/sift_keypoints/MD585/MD585-N31-2015.08.19-16.01.47_MD585_1_0091_sift_keypoints.bp\"\n",
      "aws s3 cp \"/shared/CSHL_SPM/sift_descriptors/MD585/MD585-N31-2015.08.19-16.01.47_MD585_1_0091_sift_descriptors.bp\" \"s3://mousebrainatlas-data/CSHL_SPM/sift_descriptors/MD585/MD585-N31-2015.08.19-16.01.47_MD585_1_0091_sift_descriptors.bp\"\n",
      "rm -rf \"/shared/CSHL_data_processed/MD585/MD585_prep2_lossless_gray/MD585-IHC31-2015.08.19-13.48.12_MD585_1_0091_prep2_lossless_gray.tif\" && mkdir -p \"/shared/CSHL_data_processed/MD585/MD585_prep2_lossless_gray\"\n",
      "aws s3 cp \"s3://mousebrainatlas-data/CSHL_data_processed/MD585/MD585_prep2_lossless_gray/MD585-IHC31-2015.08.19-13.48.12_MD585_1_0091_prep2_lossless_gray.tif\" \"/shared/CSHL_data_processed/MD585/MD585_prep2_lossless_gray/MD585-IHC31-2015.08.19-13.48.12_MD585_1_0091_prep2_lossless_gray.tif\"\n",
      "rm -rf \"/shared/CSHL_data_processed/MD585/MD585_prep2_thumbnail_mask/MD585-IHC31-2015.08.19-13.48.12_MD585_1_0091_prep2_thumbnail_mask.png\" && mkdir -p \"/shared/CSHL_data_processed/MD585/MD585_prep2_thumbnail_mask\"\n",
      "aws s3 cp \"s3://mousebrainatlas-data/CSHL_data_processed/MD585/MD585_prep2_thumbnail_mask/MD585-IHC31-2015.08.19-13.48.12_MD585_1_0091_prep2_thumbnail_mask.png\" \"/shared/CSHL_data_processed/MD585/MD585_prep2_thumbnail_mask/MD585-IHC31-2015.08.19-13.48.12_MD585_1_0091_prep2_thumbnail_mask.png\"\n",
      "aws s3 cp \"/shared/CSHL_SPM/sift_keypoints/MD585/MD585-IHC31-2015.08.19-13.48.12_MD585_1_0091_sift_keypoints.bp\" \"s3://mousebrainatlas-data/CSHL_SPM/sift_keypoints/MD585/MD585-IHC31-2015.08.19-13.48.12_MD585_1_0091_sift_keypoints.bp\"\n",
      "aws s3 cp \"/shared/CSHL_SPM/sift_descriptors/MD585/MD585-IHC31-2015.08.19-13.48.12_MD585_1_0091_sift_descriptors.bp\" \"s3://mousebrainatlas-data/CSHL_SPM/sift_descriptors/MD585/MD585-IHC31-2015.08.19-13.48.12_MD585_1_0091_sift_descriptors.bp\"\n",
      "rm -rf \"/shared/CSHL_data_processed/MD585/MD585_prep2_lossless_gray/MD585-N31-2015.08.19-16.01.47_MD585_2_0092_prep2_lossless_gray.tif\" && mkdir -p \"/shared/CSHL_data_processed/MD585/MD585_prep2_lossless_gray\"\n",
      "aws s3 cp \"s3://mousebrainatlas-data/CSHL_data_processed/MD585/MD585_prep2_lossless_gray/MD585-N31-2015.08.19-16.01.47_MD585_2_0092_prep2_lossless_gray.tif\" \"/shared/CSHL_data_processed/MD585/MD585_prep2_lossless_gray/MD585-N31-2015.08.19-16.01.47_MD585_2_0092_prep2_lossless_gray.tif\"\n",
      "rm -rf \"/shared/CSHL_data_processed/MD585/MD585_prep2_thumbnail_mask/MD585-N31-2015.08.19-16.01.47_MD585_2_0092_prep2_thumbnail_mask.png\" && mkdir -p \"/shared/CSHL_data_processed/MD585/MD585_prep2_thumbnail_mask\"\n",
      "aws s3 cp \"s3://mousebrainatlas-data/CSHL_data_processed/MD585/MD585_prep2_thumbnail_mask/MD585-N31-2015.08.19-16.01.47_MD585_2_0092_prep2_thumbnail_mask.png\" \"/shared/CSHL_data_processed/MD585/MD585_prep2_thumbnail_mask/MD585-N31-2015.08.19-16.01.47_MD585_2_0092_prep2_thumbnail_mask.png\"\n",
      "aws s3 cp \"/shared/CSHL_SPM/sift_keypoints/MD585/MD585-N31-2015.08.19-16.01.47_MD585_2_0092_sift_keypoints.bp\" \"s3://mousebrainatlas-data/CSHL_SPM/sift_keypoints/MD585/MD585-N31-2015.08.19-16.01.47_MD585_2_0092_sift_keypoints.bp\"\n",
      "aws s3 cp \"/shared/CSHL_SPM/sift_descriptors/MD585/MD585-N31-2015.08.19-16.01.47_MD585_2_0092_sift_descriptors.bp\" \"s3://mousebrainatlas-data/CSHL_SPM/sift_descriptors/MD585/MD585-N31-2015.08.19-16.01.47_MD585_2_0092_sift_descriptors.bp\"\n",
      "rm -rf \"/shared/CSHL_data_processed/MD585/MD585_prep2_lossless_gray/MD585-IHC31-2015.08.19-13.48.12_MD585_2_0092_prep2_lossless_gray.tif\" && mkdir -p \"/shared/CSHL_data_processed/MD585/MD585_prep2_lossless_gray\"\n",
      "aws s3 cp \"s3://mousebrainatlas-data/CSHL_data_processed/MD585/MD585_prep2_lossless_gray/MD585-IHC31-2015.08.19-13.48.12_MD585_2_0092_prep2_lossless_gray.tif\" \"/shared/CSHL_data_processed/MD585/MD585_prep2_lossless_gray/MD585-IHC31-2015.08.19-13.48.12_MD585_2_0092_prep2_lossless_gray.tif\"\n",
      "rm -rf \"/shared/CSHL_data_processed/MD585/MD585_prep2_thumbnail_mask/MD585-IHC31-2015.08.19-13.48.12_MD585_2_0092_prep2_thumbnail_mask.png\" && mkdir -p \"/shared/CSHL_data_processed/MD585/MD585_prep2_thumbnail_mask\"\n",
      "aws s3 cp \"s3://mousebrainatlas-data/CSHL_data_processed/MD585/MD585_prep2_thumbnail_mask/MD585-IHC31-2015.08.19-13.48.12_MD585_2_0092_prep2_thumbnail_mask.png\" \"/shared/CSHL_data_processed/MD585/MD585_prep2_thumbnail_mask/MD585-IHC31-2015.08.19-13.48.12_MD585_2_0092_prep2_thumbnail_mask.png\"\n",
      "aws s3 cp \"/shared/CSHL_SPM/sift_keypoints/MD585/MD585-IHC31-2015.08.19-13.48.12_MD585_2_0092_sift_keypoints.bp\" \"s3://mousebrainatlas-data/CSHL_SPM/sift_keypoints/MD585/MD585-IHC31-2015.08.19-13.48.12_MD585_2_0092_sift_keypoints.bp\"\n",
      "aws s3 cp \"/shared/CSHL_SPM/sift_descriptors/MD585/MD585-IHC31-2015.08.19-13.48.12_MD585_2_0092_sift_descriptors.bp\" \"s3://mousebrainatlas-data/CSHL_SPM/sift_descriptors/MD585/MD585-IHC31-2015.08.19-13.48.12_MD585_2_0092_sift_descriptors.bp\"\n",
      "rm -rf \"/shared/CSHL_data_processed/MD585/MD585_prep2_lossless_gray/MD585-N31-2015.08.19-16.01.47_MD585_3_0093_prep2_lossless_gray.tif\" && mkdir -p \"/shared/CSHL_data_processed/MD585/MD585_prep2_lossless_gray\"\n",
      "aws s3 cp \"s3://mousebrainatlas-data/CSHL_data_processed/MD585/MD585_prep2_lossless_gray/MD585-N31-2015.08.19-16.01.47_MD585_3_0093_prep2_lossless_gray.tif\" \"/shared/CSHL_data_processed/MD585/MD585_prep2_lossless_gray/MD585-N31-2015.08.19-16.01.47_MD585_3_0093_prep2_lossless_gray.tif\"\n",
      "rm -rf \"/shared/CSHL_data_processed/MD585/MD585_prep2_thumbnail_mask/MD585-N31-2015.08.19-16.01.47_MD585_3_0093_prep2_thumbnail_mask.png\" && mkdir -p \"/shared/CSHL_data_processed/MD585/MD585_prep2_thumbnail_mask\"\n",
      "aws s3 cp \"s3://mousebrainatlas-data/CSHL_data_processed/MD585/MD585_prep2_thumbnail_mask/MD585-N31-2015.08.19-16.01.47_MD585_3_0093_prep2_thumbnail_mask.png\" \"/shared/CSHL_data_processed/MD585/MD585_prep2_thumbnail_mask/MD585-N31-2015.08.19-16.01.47_MD585_3_0093_prep2_thumbnail_mask.png\"\n",
      "aws s3 cp \"/shared/CSHL_SPM/sift_keypoints/MD585/MD585-N31-2015.08.19-16.01.47_MD585_3_0093_sift_keypoints.bp\" \"s3://mousebrainatlas-data/CSHL_SPM/sift_keypoints/MD585/MD585-N31-2015.08.19-16.01.47_MD585_3_0093_sift_keypoints.bp\"\n",
      "aws s3 cp \"/shared/CSHL_SPM/sift_descriptors/MD585/MD585-N31-2015.08.19-16.01.47_MD585_3_0093_sift_descriptors.bp\" \"s3://mousebrainatlas-data/CSHL_SPM/sift_descriptors/MD585/MD585-N31-2015.08.19-16.01.47_MD585_3_0093_sift_descriptors.bp\"\n",
      "rm -rf \"/shared/CSHL_data_processed/MD585/MD585_prep2_lossless_gray/MD585-IHC31-2015.08.19-13.48.12_MD585_3_0093_prep2_lossless_gray.tif\" && mkdir -p \"/shared/CSHL_data_processed/MD585/MD585_prep2_lossless_gray\"\n",
      "aws s3 cp \"s3://mousebrainatlas-data/CSHL_data_processed/MD585/MD585_prep2_lossless_gray/MD585-IHC31-2015.08.19-13.48.12_MD585_3_0093_prep2_lossless_gray.tif\" \"/shared/CSHL_data_processed/MD585/MD585_prep2_lossless_gray/MD585-IHC31-2015.08.19-13.48.12_MD585_3_0093_prep2_lossless_gray.tif\"\n",
      "rm -rf \"/shared/CSHL_data_processed/MD585/MD585_prep2_thumbnail_mask/MD585-IHC31-2015.08.19-13.48.12_MD585_3_0093_prep2_thumbnail_mask.png\" && mkdir -p \"/shared/CSHL_data_processed/MD585/MD585_prep2_thumbnail_mask\"\n",
      "aws s3 cp \"s3://mousebrainatlas-data/CSHL_data_processed/MD585/MD585_prep2_thumbnail_mask/MD585-IHC31-2015.08.19-13.48.12_MD585_3_0093_prep2_thumbnail_mask.png\" \"/shared/CSHL_data_processed/MD585/MD585_prep2_thumbnail_mask/MD585-IHC31-2015.08.19-13.48.12_MD585_3_0093_prep2_thumbnail_mask.png\"\n",
      "aws s3 cp \"/shared/CSHL_SPM/sift_keypoints/MD585/MD585-IHC31-2015.08.19-13.48.12_MD585_3_0093_sift_keypoints.bp\" \"s3://mousebrainatlas-data/CSHL_SPM/sift_keypoints/MD585/MD585-IHC31-2015.08.19-13.48.12_MD585_3_0093_sift_keypoints.bp\"\n",
      "aws s3 cp \"/shared/CSHL_SPM/sift_descriptors/MD585/MD585-IHC31-2015.08.19-13.48.12_MD585_3_0093_sift_descriptors.bp\" \"s3://mousebrainatlas-data/CSHL_SPM/sift_descriptors/MD585/MD585-IHC31-2015.08.19-13.48.12_MD585_3_0093_sift_descriptors.bp\"\n",
      "rm -rf \"/shared/CSHL_data_processed/MD585/MD585_prep2_lossless_gray/MD585-N32-2015.08.19-16.07.10_MD585_1_0094_prep2_lossless_gray.tif\" && mkdir -p \"/shared/CSHL_data_processed/MD585/MD585_prep2_lossless_gray\"\n",
      "aws s3 cp \"s3://mousebrainatlas-data/CSHL_data_processed/MD585/MD585_prep2_lossless_gray/MD585-N32-2015.08.19-16.07.10_MD585_1_0094_prep2_lossless_gray.tif\" \"/shared/CSHL_data_processed/MD585/MD585_prep2_lossless_gray/MD585-N32-2015.08.19-16.07.10_MD585_1_0094_prep2_lossless_gray.tif\"\n"
     ]
    },
    {
     "name": "stdout",
     "output_type": "stream",
     "text": [
      "rm -rf \"/shared/CSHL_data_processed/MD585/MD585_prep2_thumbnail_mask/MD585-N32-2015.08.19-16.07.10_MD585_1_0094_prep2_thumbnail_mask.png\" && mkdir -p \"/shared/CSHL_data_processed/MD585/MD585_prep2_thumbnail_mask\"\n",
      "aws s3 cp \"s3://mousebrainatlas-data/CSHL_data_processed/MD585/MD585_prep2_thumbnail_mask/MD585-N32-2015.08.19-16.07.10_MD585_1_0094_prep2_thumbnail_mask.png\" \"/shared/CSHL_data_processed/MD585/MD585_prep2_thumbnail_mask/MD585-N32-2015.08.19-16.07.10_MD585_1_0094_prep2_thumbnail_mask.png\"\n",
      "aws s3 cp \"/shared/CSHL_SPM/sift_keypoints/MD585/MD585-N32-2015.08.19-16.07.10_MD585_1_0094_sift_keypoints.bp\" \"s3://mousebrainatlas-data/CSHL_SPM/sift_keypoints/MD585/MD585-N32-2015.08.19-16.07.10_MD585_1_0094_sift_keypoints.bp\"\n",
      "aws s3 cp \"/shared/CSHL_SPM/sift_descriptors/MD585/MD585-N32-2015.08.19-16.07.10_MD585_1_0094_sift_descriptors.bp\" \"s3://mousebrainatlas-data/CSHL_SPM/sift_descriptors/MD585/MD585-N32-2015.08.19-16.07.10_MD585_1_0094_sift_descriptors.bp\"\n",
      "rm -rf \"/shared/CSHL_data_processed/MD585/MD585_prep2_lossless_gray/MD585-IHC32-2015.08.19-13.53.29_MD585_1_0094_prep2_lossless_gray.tif\" && mkdir -p \"/shared/CSHL_data_processed/MD585/MD585_prep2_lossless_gray\"\n",
      "aws s3 cp \"s3://mousebrainatlas-data/CSHL_data_processed/MD585/MD585_prep2_lossless_gray/MD585-IHC32-2015.08.19-13.53.29_MD585_1_0094_prep2_lossless_gray.tif\" \"/shared/CSHL_data_processed/MD585/MD585_prep2_lossless_gray/MD585-IHC32-2015.08.19-13.53.29_MD585_1_0094_prep2_lossless_gray.tif\"\n",
      "rm -rf \"/shared/CSHL_data_processed/MD585/MD585_prep2_thumbnail_mask/MD585-IHC32-2015.08.19-13.53.29_MD585_1_0094_prep2_thumbnail_mask.png\" && mkdir -p \"/shared/CSHL_data_processed/MD585/MD585_prep2_thumbnail_mask\"\n",
      "aws s3 cp \"s3://mousebrainatlas-data/CSHL_data_processed/MD585/MD585_prep2_thumbnail_mask/MD585-IHC32-2015.08.19-13.53.29_MD585_1_0094_prep2_thumbnail_mask.png\" \"/shared/CSHL_data_processed/MD585/MD585_prep2_thumbnail_mask/MD585-IHC32-2015.08.19-13.53.29_MD585_1_0094_prep2_thumbnail_mask.png\"\n",
      "aws s3 cp \"/shared/CSHL_SPM/sift_keypoints/MD585/MD585-IHC32-2015.08.19-13.53.29_MD585_1_0094_sift_keypoints.bp\" \"s3://mousebrainatlas-data/CSHL_SPM/sift_keypoints/MD585/MD585-IHC32-2015.08.19-13.53.29_MD585_1_0094_sift_keypoints.bp\"\n",
      "aws s3 cp \"/shared/CSHL_SPM/sift_descriptors/MD585/MD585-IHC32-2015.08.19-13.53.29_MD585_1_0094_sift_descriptors.bp\" \"s3://mousebrainatlas-data/CSHL_SPM/sift_descriptors/MD585/MD585-IHC32-2015.08.19-13.53.29_MD585_1_0094_sift_descriptors.bp\"\n",
      "rm -rf \"/shared/CSHL_data_processed/MD585/MD585_prep2_lossless_gray/MD585-N32-2015.08.19-16.07.10_MD585_2_0095_prep2_lossless_gray.tif\" && mkdir -p \"/shared/CSHL_data_processed/MD585/MD585_prep2_lossless_gray\"\n",
      "aws s3 cp \"s3://mousebrainatlas-data/CSHL_data_processed/MD585/MD585_prep2_lossless_gray/MD585-N32-2015.08.19-16.07.10_MD585_2_0095_prep2_lossless_gray.tif\" \"/shared/CSHL_data_processed/MD585/MD585_prep2_lossless_gray/MD585-N32-2015.08.19-16.07.10_MD585_2_0095_prep2_lossless_gray.tif\"\n",
      "rm -rf \"/shared/CSHL_data_processed/MD585/MD585_prep2_thumbnail_mask/MD585-N32-2015.08.19-16.07.10_MD585_2_0095_prep2_thumbnail_mask.png\" && mkdir -p \"/shared/CSHL_data_processed/MD585/MD585_prep2_thumbnail_mask\"\n",
      "aws s3 cp \"s3://mousebrainatlas-data/CSHL_data_processed/MD585/MD585_prep2_thumbnail_mask/MD585-N32-2015.08.19-16.07.10_MD585_2_0095_prep2_thumbnail_mask.png\" \"/shared/CSHL_data_processed/MD585/MD585_prep2_thumbnail_mask/MD585-N32-2015.08.19-16.07.10_MD585_2_0095_prep2_thumbnail_mask.png\"\n",
      "aws s3 cp \"/shared/CSHL_SPM/sift_keypoints/MD585/MD585-N32-2015.08.19-16.07.10_MD585_2_0095_sift_keypoints.bp\" \"s3://mousebrainatlas-data/CSHL_SPM/sift_keypoints/MD585/MD585-N32-2015.08.19-16.07.10_MD585_2_0095_sift_keypoints.bp\"\n",
      "aws s3 cp \"/shared/CSHL_SPM/sift_descriptors/MD585/MD585-N32-2015.08.19-16.07.10_MD585_2_0095_sift_descriptors.bp\" \"s3://mousebrainatlas-data/CSHL_SPM/sift_descriptors/MD585/MD585-N32-2015.08.19-16.07.10_MD585_2_0095_sift_descriptors.bp\"\n",
      "rm -rf \"/shared/CSHL_data_processed/MD585/MD585_prep2_lossless_gray/MD585-IHC32-2015.08.19-13.53.29_MD585_2_0095_prep2_lossless_gray.tif\" && mkdir -p \"/shared/CSHL_data_processed/MD585/MD585_prep2_lossless_gray\"\n",
      "aws s3 cp \"s3://mousebrainatlas-data/CSHL_data_processed/MD585/MD585_prep2_lossless_gray/MD585-IHC32-2015.08.19-13.53.29_MD585_2_0095_prep2_lossless_gray.tif\" \"/shared/CSHL_data_processed/MD585/MD585_prep2_lossless_gray/MD585-IHC32-2015.08.19-13.53.29_MD585_2_0095_prep2_lossless_gray.tif\"\n",
      "rm -rf \"/shared/CSHL_data_processed/MD585/MD585_prep2_thumbnail_mask/MD585-IHC32-2015.08.19-13.53.29_MD585_2_0095_prep2_thumbnail_mask.png\" && mkdir -p \"/shared/CSHL_data_processed/MD585/MD585_prep2_thumbnail_mask\"\n",
      "aws s3 cp \"s3://mousebrainatlas-data/CSHL_data_processed/MD585/MD585_prep2_thumbnail_mask/MD585-IHC32-2015.08.19-13.53.29_MD585_2_0095_prep2_thumbnail_mask.png\" \"/shared/CSHL_data_processed/MD585/MD585_prep2_thumbnail_mask/MD585-IHC32-2015.08.19-13.53.29_MD585_2_0095_prep2_thumbnail_mask.png\"\n",
      "aws s3 cp \"/shared/CSHL_SPM/sift_keypoints/MD585/MD585-IHC32-2015.08.19-13.53.29_MD585_2_0095_sift_keypoints.bp\" \"s3://mousebrainatlas-data/CSHL_SPM/sift_keypoints/MD585/MD585-IHC32-2015.08.19-13.53.29_MD585_2_0095_sift_keypoints.bp\"\n",
      "aws s3 cp \"/shared/CSHL_SPM/sift_descriptors/MD585/MD585-IHC32-2015.08.19-13.53.29_MD585_2_0095_sift_descriptors.bp\" \"s3://mousebrainatlas-data/CSHL_SPM/sift_descriptors/MD585/MD585-IHC32-2015.08.19-13.53.29_MD585_2_0095_sift_descriptors.bp\"\n",
      "rm -rf \"/shared/CSHL_data_processed/MD585/MD585_prep2_lossless_gray/MD585-N32-2015.08.19-16.07.10_MD585_3_0096_prep2_lossless_gray.tif\" && mkdir -p \"/shared/CSHL_data_processed/MD585/MD585_prep2_lossless_gray\"\n",
      "aws s3 cp \"s3://mousebrainatlas-data/CSHL_data_processed/MD585/MD585_prep2_lossless_gray/MD585-N32-2015.08.19-16.07.10_MD585_3_0096_prep2_lossless_gray.tif\" \"/shared/CSHL_data_processed/MD585/MD585_prep2_lossless_gray/MD585-N32-2015.08.19-16.07.10_MD585_3_0096_prep2_lossless_gray.tif\"\n",
      "rm -rf \"/shared/CSHL_data_processed/MD585/MD585_prep2_thumbnail_mask/MD585-N32-2015.08.19-16.07.10_MD585_3_0096_prep2_thumbnail_mask.png\" && mkdir -p \"/shared/CSHL_data_processed/MD585/MD585_prep2_thumbnail_mask\"\n",
      "aws s3 cp \"s3://mousebrainatlas-data/CSHL_data_processed/MD585/MD585_prep2_thumbnail_mask/MD585-N32-2015.08.19-16.07.10_MD585_3_0096_prep2_thumbnail_mask.png\" \"/shared/CSHL_data_processed/MD585/MD585_prep2_thumbnail_mask/MD585-N32-2015.08.19-16.07.10_MD585_3_0096_prep2_thumbnail_mask.png\"\n",
      "aws s3 cp \"/shared/CSHL_SPM/sift_keypoints/MD585/MD585-N32-2015.08.19-16.07.10_MD585_3_0096_sift_keypoints.bp\" \"s3://mousebrainatlas-data/CSHL_SPM/sift_keypoints/MD585/MD585-N32-2015.08.19-16.07.10_MD585_3_0096_sift_keypoints.bp\"\n",
      "aws s3 cp \"/shared/CSHL_SPM/sift_descriptors/MD585/MD585-N32-2015.08.19-16.07.10_MD585_3_0096_sift_descriptors.bp\" \"s3://mousebrainatlas-data/CSHL_SPM/sift_descriptors/MD585/MD585-N32-2015.08.19-16.07.10_MD585_3_0096_sift_descriptors.bp\"\n",
      "rm -rf \"/shared/CSHL_data_processed/MD585/MD585_prep2_lossless_gray/MD585-IHC32-2015.08.19-13.53.29_MD585_3_0096_prep2_lossless_gray.tif\" && mkdir -p \"/shared/CSHL_data_processed/MD585/MD585_prep2_lossless_gray\"\n",
      "aws s3 cp \"s3://mousebrainatlas-data/CSHL_data_processed/MD585/MD585_prep2_lossless_gray/MD585-IHC32-2015.08.19-13.53.29_MD585_3_0096_prep2_lossless_gray.tif\" \"/shared/CSHL_data_processed/MD585/MD585_prep2_lossless_gray/MD585-IHC32-2015.08.19-13.53.29_MD585_3_0096_prep2_lossless_gray.tif\"\n",
      "rm -rf \"/shared/CSHL_data_processed/MD585/MD585_prep2_thumbnail_mask/MD585-IHC32-2015.08.19-13.53.29_MD585_3_0096_prep2_thumbnail_mask.png\" && mkdir -p \"/shared/CSHL_data_processed/MD585/MD585_prep2_thumbnail_mask\"\n",
      "aws s3 cp \"s3://mousebrainatlas-data/CSHL_data_processed/MD585/MD585_prep2_thumbnail_mask/MD585-IHC32-2015.08.19-13.53.29_MD585_3_0096_prep2_thumbnail_mask.png\" \"/shared/CSHL_data_processed/MD585/MD585_prep2_thumbnail_mask/MD585-IHC32-2015.08.19-13.53.29_MD585_3_0096_prep2_thumbnail_mask.png\"\n",
      "aws s3 cp \"/shared/CSHL_SPM/sift_keypoints/MD585/MD585-IHC32-2015.08.19-13.53.29_MD585_3_0096_sift_keypoints.bp\" \"s3://mousebrainatlas-data/CSHL_SPM/sift_keypoints/MD585/MD585-IHC32-2015.08.19-13.53.29_MD585_3_0096_sift_keypoints.bp\"\n",
      "aws s3 cp \"/shared/CSHL_SPM/sift_descriptors/MD585/MD585-IHC32-2015.08.19-13.53.29_MD585_3_0096_sift_descriptors.bp\" \"s3://mousebrainatlas-data/CSHL_SPM/sift_descriptors/MD585/MD585-IHC32-2015.08.19-13.53.29_MD585_3_0096_sift_descriptors.bp\"\n"
     ]
    },
    {
     "name": "stdout",
     "output_type": "stream",
     "text": [
      "rm -rf \"/shared/CSHL_data_processed/MD585/MD585_prep2_lossless_gray/MD585-N33-2015.07.16-21.37.52_MD585_1_0097_prep2_lossless_gray.tif\" && mkdir -p \"/shared/CSHL_data_processed/MD585/MD585_prep2_lossless_gray\"\n",
      "aws s3 cp \"s3://mousebrainatlas-data/CSHL_data_processed/MD585/MD585_prep2_lossless_gray/MD585-N33-2015.07.16-21.37.52_MD585_1_0097_prep2_lossless_gray.tif\" \"/shared/CSHL_data_processed/MD585/MD585_prep2_lossless_gray/MD585-N33-2015.07.16-21.37.52_MD585_1_0097_prep2_lossless_gray.tif\"\n",
      "rm -rf \"/shared/CSHL_data_processed/MD585/MD585_prep2_thumbnail_mask/MD585-N33-2015.07.16-21.37.52_MD585_1_0097_prep2_thumbnail_mask.png\" && mkdir -p \"/shared/CSHL_data_processed/MD585/MD585_prep2_thumbnail_mask\"\n",
      "aws s3 cp \"s3://mousebrainatlas-data/CSHL_data_processed/MD585/MD585_prep2_thumbnail_mask/MD585-N33-2015.07.16-21.37.52_MD585_1_0097_prep2_thumbnail_mask.png\" \"/shared/CSHL_data_processed/MD585/MD585_prep2_thumbnail_mask/MD585-N33-2015.07.16-21.37.52_MD585_1_0097_prep2_thumbnail_mask.png\"\n",
      "aws s3 cp \"/shared/CSHL_SPM/sift_keypoints/MD585/MD585-N33-2015.07.16-21.37.52_MD585_1_0097_sift_keypoints.bp\" \"s3://mousebrainatlas-data/CSHL_SPM/sift_keypoints/MD585/MD585-N33-2015.07.16-21.37.52_MD585_1_0097_sift_keypoints.bp\"\n",
      "aws s3 cp \"/shared/CSHL_SPM/sift_descriptors/MD585/MD585-N33-2015.07.16-21.37.52_MD585_1_0097_sift_descriptors.bp\" \"s3://mousebrainatlas-data/CSHL_SPM/sift_descriptors/MD585/MD585-N33-2015.07.16-21.37.52_MD585_1_0097_sift_descriptors.bp\"\n",
      "rm -rf \"/shared/CSHL_data_processed/MD585/MD585_prep2_lossless_gray/MD585-IHC33-2015.07.16-16.33.07_MD585_1_0097_prep2_lossless_gray.tif\" && mkdir -p \"/shared/CSHL_data_processed/MD585/MD585_prep2_lossless_gray\"\n",
      "aws s3 cp \"s3://mousebrainatlas-data/CSHL_data_processed/MD585/MD585_prep2_lossless_gray/MD585-IHC33-2015.07.16-16.33.07_MD585_1_0097_prep2_lossless_gray.tif\" \"/shared/CSHL_data_processed/MD585/MD585_prep2_lossless_gray/MD585-IHC33-2015.07.16-16.33.07_MD585_1_0097_prep2_lossless_gray.tif\"\n",
      "rm -rf \"/shared/CSHL_data_processed/MD585/MD585_prep2_thumbnail_mask/MD585-IHC33-2015.07.16-16.33.07_MD585_1_0097_prep2_thumbnail_mask.png\" && mkdir -p \"/shared/CSHL_data_processed/MD585/MD585_prep2_thumbnail_mask\"\n",
      "aws s3 cp \"s3://mousebrainatlas-data/CSHL_data_processed/MD585/MD585_prep2_thumbnail_mask/MD585-IHC33-2015.07.16-16.33.07_MD585_1_0097_prep2_thumbnail_mask.png\" \"/shared/CSHL_data_processed/MD585/MD585_prep2_thumbnail_mask/MD585-IHC33-2015.07.16-16.33.07_MD585_1_0097_prep2_thumbnail_mask.png\"\n",
      "aws s3 cp \"/shared/CSHL_SPM/sift_keypoints/MD585/MD585-IHC33-2015.07.16-16.33.07_MD585_1_0097_sift_keypoints.bp\" \"s3://mousebrainatlas-data/CSHL_SPM/sift_keypoints/MD585/MD585-IHC33-2015.07.16-16.33.07_MD585_1_0097_sift_keypoints.bp\"\n",
      "aws s3 cp \"/shared/CSHL_SPM/sift_descriptors/MD585/MD585-IHC33-2015.07.16-16.33.07_MD585_1_0097_sift_descriptors.bp\" \"s3://mousebrainatlas-data/CSHL_SPM/sift_descriptors/MD585/MD585-IHC33-2015.07.16-16.33.07_MD585_1_0097_sift_descriptors.bp\"\n",
      "rm -rf \"/shared/CSHL_data_processed/MD585/MD585_prep2_lossless_gray/MD585-N33-2015.07.16-21.37.52_MD585_2_0098_prep2_lossless_gray.tif\" && mkdir -p \"/shared/CSHL_data_processed/MD585/MD585_prep2_lossless_gray\"\n",
      "aws s3 cp \"s3://mousebrainatlas-data/CSHL_data_processed/MD585/MD585_prep2_lossless_gray/MD585-N33-2015.07.16-21.37.52_MD585_2_0098_prep2_lossless_gray.tif\" \"/shared/CSHL_data_processed/MD585/MD585_prep2_lossless_gray/MD585-N33-2015.07.16-21.37.52_MD585_2_0098_prep2_lossless_gray.tif\"\n",
      "rm -rf \"/shared/CSHL_data_processed/MD585/MD585_prep2_thumbnail_mask/MD585-N33-2015.07.16-21.37.52_MD585_2_0098_prep2_thumbnail_mask.png\" && mkdir -p \"/shared/CSHL_data_processed/MD585/MD585_prep2_thumbnail_mask\"\n",
      "aws s3 cp \"s3://mousebrainatlas-data/CSHL_data_processed/MD585/MD585_prep2_thumbnail_mask/MD585-N33-2015.07.16-21.37.52_MD585_2_0098_prep2_thumbnail_mask.png\" \"/shared/CSHL_data_processed/MD585/MD585_prep2_thumbnail_mask/MD585-N33-2015.07.16-21.37.52_MD585_2_0098_prep2_thumbnail_mask.png\"\n",
      "aws s3 cp \"/shared/CSHL_SPM/sift_keypoints/MD585/MD585-N33-2015.07.16-21.37.52_MD585_2_0098_sift_keypoints.bp\" \"s3://mousebrainatlas-data/CSHL_SPM/sift_keypoints/MD585/MD585-N33-2015.07.16-21.37.52_MD585_2_0098_sift_keypoints.bp\"\n",
      "aws s3 cp \"/shared/CSHL_SPM/sift_descriptors/MD585/MD585-N33-2015.07.16-21.37.52_MD585_2_0098_sift_descriptors.bp\" \"s3://mousebrainatlas-data/CSHL_SPM/sift_descriptors/MD585/MD585-N33-2015.07.16-21.37.52_MD585_2_0098_sift_descriptors.bp\"\n",
      "rm -rf \"/shared/CSHL_data_processed/MD585/MD585_prep2_lossless_gray/MD585-IHC33-2015.07.16-16.33.07_MD585_2_0098_prep2_lossless_gray.tif\" && mkdir -p \"/shared/CSHL_data_processed/MD585/MD585_prep2_lossless_gray\"\n",
      "aws s3 cp \"s3://mousebrainatlas-data/CSHL_data_processed/MD585/MD585_prep2_lossless_gray/MD585-IHC33-2015.07.16-16.33.07_MD585_2_0098_prep2_lossless_gray.tif\" \"/shared/CSHL_data_processed/MD585/MD585_prep2_lossless_gray/MD585-IHC33-2015.07.16-16.33.07_MD585_2_0098_prep2_lossless_gray.tif\"\n",
      "rm -rf \"/shared/CSHL_data_processed/MD585/MD585_prep2_thumbnail_mask/MD585-IHC33-2015.07.16-16.33.07_MD585_2_0098_prep2_thumbnail_mask.png\" && mkdir -p \"/shared/CSHL_data_processed/MD585/MD585_prep2_thumbnail_mask\"\n",
      "aws s3 cp \"s3://mousebrainatlas-data/CSHL_data_processed/MD585/MD585_prep2_thumbnail_mask/MD585-IHC33-2015.07.16-16.33.07_MD585_2_0098_prep2_thumbnail_mask.png\" \"/shared/CSHL_data_processed/MD585/MD585_prep2_thumbnail_mask/MD585-IHC33-2015.07.16-16.33.07_MD585_2_0098_prep2_thumbnail_mask.png\"\n",
      "aws s3 cp \"/shared/CSHL_SPM/sift_keypoints/MD585/MD585-IHC33-2015.07.16-16.33.07_MD585_2_0098_sift_keypoints.bp\" \"s3://mousebrainatlas-data/CSHL_SPM/sift_keypoints/MD585/MD585-IHC33-2015.07.16-16.33.07_MD585_2_0098_sift_keypoints.bp\"\n",
      "aws s3 cp \"/shared/CSHL_SPM/sift_descriptors/MD585/MD585-IHC33-2015.07.16-16.33.07_MD585_2_0098_sift_descriptors.bp\" \"s3://mousebrainatlas-data/CSHL_SPM/sift_descriptors/MD585/MD585-IHC33-2015.07.16-16.33.07_MD585_2_0098_sift_descriptors.bp\"\n",
      "rm -rf \"/shared/CSHL_data_processed/MD585/MD585_prep2_lossless_gray/MD585-N33-2015.07.16-21.37.52_MD585_3_0099_prep2_lossless_gray.tif\" && mkdir -p \"/shared/CSHL_data_processed/MD585/MD585_prep2_lossless_gray\"\n",
      "aws s3 cp \"s3://mousebrainatlas-data/CSHL_data_processed/MD585/MD585_prep2_lossless_gray/MD585-N33-2015.07.16-21.37.52_MD585_3_0099_prep2_lossless_gray.tif\" \"/shared/CSHL_data_processed/MD585/MD585_prep2_lossless_gray/MD585-N33-2015.07.16-21.37.52_MD585_3_0099_prep2_lossless_gray.tif\"\n",
      "rm -rf \"/shared/CSHL_data_processed/MD585/MD585_prep2_thumbnail_mask/MD585-N33-2015.07.16-21.37.52_MD585_3_0099_prep2_thumbnail_mask.png\" && mkdir -p \"/shared/CSHL_data_processed/MD585/MD585_prep2_thumbnail_mask\"\n",
      "aws s3 cp \"s3://mousebrainatlas-data/CSHL_data_processed/MD585/MD585_prep2_thumbnail_mask/MD585-N33-2015.07.16-21.37.52_MD585_3_0099_prep2_thumbnail_mask.png\" \"/shared/CSHL_data_processed/MD585/MD585_prep2_thumbnail_mask/MD585-N33-2015.07.16-21.37.52_MD585_3_0099_prep2_thumbnail_mask.png\"\n",
      "aws s3 cp \"/shared/CSHL_SPM/sift_keypoints/MD585/MD585-N33-2015.07.16-21.37.52_MD585_3_0099_sift_keypoints.bp\" \"s3://mousebrainatlas-data/CSHL_SPM/sift_keypoints/MD585/MD585-N33-2015.07.16-21.37.52_MD585_3_0099_sift_keypoints.bp\"\n",
      "aws s3 cp \"/shared/CSHL_SPM/sift_descriptors/MD585/MD585-N33-2015.07.16-21.37.52_MD585_3_0099_sift_descriptors.bp\" \"s3://mousebrainatlas-data/CSHL_SPM/sift_descriptors/MD585/MD585-N33-2015.07.16-21.37.52_MD585_3_0099_sift_descriptors.bp\"\n",
      "rm -rf \"/shared/CSHL_data_processed/MD585/MD585_prep2_lossless_gray/MD585-IHC33-2015.07.16-16.33.07_MD585_3_0099_prep2_lossless_gray.tif\" && mkdir -p \"/shared/CSHL_data_processed/MD585/MD585_prep2_lossless_gray\"\n",
      "aws s3 cp \"s3://mousebrainatlas-data/CSHL_data_processed/MD585/MD585_prep2_lossless_gray/MD585-IHC33-2015.07.16-16.33.07_MD585_3_0099_prep2_lossless_gray.tif\" \"/shared/CSHL_data_processed/MD585/MD585_prep2_lossless_gray/MD585-IHC33-2015.07.16-16.33.07_MD585_3_0099_prep2_lossless_gray.tif\"\n",
      "rm -rf \"/shared/CSHL_data_processed/MD585/MD585_prep2_thumbnail_mask/MD585-IHC33-2015.07.16-16.33.07_MD585_3_0099_prep2_thumbnail_mask.png\" && mkdir -p \"/shared/CSHL_data_processed/MD585/MD585_prep2_thumbnail_mask\"\n",
      "aws s3 cp \"s3://mousebrainatlas-data/CSHL_data_processed/MD585/MD585_prep2_thumbnail_mask/MD585-IHC33-2015.07.16-16.33.07_MD585_3_0099_prep2_thumbnail_mask.png\" \"/shared/CSHL_data_processed/MD585/MD585_prep2_thumbnail_mask/MD585-IHC33-2015.07.16-16.33.07_MD585_3_0099_prep2_thumbnail_mask.png\"\n"
     ]
    },
    {
     "name": "stdout",
     "output_type": "stream",
     "text": [
      "aws s3 cp \"/shared/CSHL_SPM/sift_keypoints/MD585/MD585-IHC33-2015.07.16-16.33.07_MD585_3_0099_sift_keypoints.bp\" \"s3://mousebrainatlas-data/CSHL_SPM/sift_keypoints/MD585/MD585-IHC33-2015.07.16-16.33.07_MD585_3_0099_sift_keypoints.bp\"\n",
      "aws s3 cp \"/shared/CSHL_SPM/sift_descriptors/MD585/MD585-IHC33-2015.07.16-16.33.07_MD585_3_0099_sift_descriptors.bp\" \"s3://mousebrainatlas-data/CSHL_SPM/sift_descriptors/MD585/MD585-IHC33-2015.07.16-16.33.07_MD585_3_0099_sift_descriptors.bp\"\n",
      "rm -rf \"/shared/CSHL_data_processed/MD585/MD585_prep2_lossless_gray/MD585-N34-2015.07.16-21.43.03_MD585_1_0100_prep2_lossless_gray.tif\" && mkdir -p \"/shared/CSHL_data_processed/MD585/MD585_prep2_lossless_gray\"\n",
      "aws s3 cp \"s3://mousebrainatlas-data/CSHL_data_processed/MD585/MD585_prep2_lossless_gray/MD585-N34-2015.07.16-21.43.03_MD585_1_0100_prep2_lossless_gray.tif\" \"/shared/CSHL_data_processed/MD585/MD585_prep2_lossless_gray/MD585-N34-2015.07.16-21.43.03_MD585_1_0100_prep2_lossless_gray.tif\"\n",
      "rm -rf \"/shared/CSHL_data_processed/MD585/MD585_prep2_thumbnail_mask/MD585-N34-2015.07.16-21.43.03_MD585_1_0100_prep2_thumbnail_mask.png\" && mkdir -p \"/shared/CSHL_data_processed/MD585/MD585_prep2_thumbnail_mask\"\n",
      "aws s3 cp \"s3://mousebrainatlas-data/CSHL_data_processed/MD585/MD585_prep2_thumbnail_mask/MD585-N34-2015.07.16-21.43.03_MD585_1_0100_prep2_thumbnail_mask.png\" \"/shared/CSHL_data_processed/MD585/MD585_prep2_thumbnail_mask/MD585-N34-2015.07.16-21.43.03_MD585_1_0100_prep2_thumbnail_mask.png\"\n",
      "aws s3 cp \"/shared/CSHL_SPM/sift_keypoints/MD585/MD585-N34-2015.07.16-21.43.03_MD585_1_0100_sift_keypoints.bp\" \"s3://mousebrainatlas-data/CSHL_SPM/sift_keypoints/MD585/MD585-N34-2015.07.16-21.43.03_MD585_1_0100_sift_keypoints.bp\"\n",
      "aws s3 cp \"/shared/CSHL_SPM/sift_descriptors/MD585/MD585-N34-2015.07.16-21.43.03_MD585_1_0100_sift_descriptors.bp\" \"s3://mousebrainatlas-data/CSHL_SPM/sift_descriptors/MD585/MD585-N34-2015.07.16-21.43.03_MD585_1_0100_sift_descriptors.bp\"\n",
      "rm -rf \"/shared/CSHL_data_processed/MD585/MD585_prep2_lossless_gray/MD585-IHC34-2015.07.16-16.38.23_MD585_1_0100_prep2_lossless_gray.tif\" && mkdir -p \"/shared/CSHL_data_processed/MD585/MD585_prep2_lossless_gray\"\n",
      "aws s3 cp \"s3://mousebrainatlas-data/CSHL_data_processed/MD585/MD585_prep2_lossless_gray/MD585-IHC34-2015.07.16-16.38.23_MD585_1_0100_prep2_lossless_gray.tif\" \"/shared/CSHL_data_processed/MD585/MD585_prep2_lossless_gray/MD585-IHC34-2015.07.16-16.38.23_MD585_1_0100_prep2_lossless_gray.tif\"\n",
      "rm -rf \"/shared/CSHL_data_processed/MD585/MD585_prep2_thumbnail_mask/MD585-IHC34-2015.07.16-16.38.23_MD585_1_0100_prep2_thumbnail_mask.png\" && mkdir -p \"/shared/CSHL_data_processed/MD585/MD585_prep2_thumbnail_mask\"\n",
      "aws s3 cp \"s3://mousebrainatlas-data/CSHL_data_processed/MD585/MD585_prep2_thumbnail_mask/MD585-IHC34-2015.07.16-16.38.23_MD585_1_0100_prep2_thumbnail_mask.png\" \"/shared/CSHL_data_processed/MD585/MD585_prep2_thumbnail_mask/MD585-IHC34-2015.07.16-16.38.23_MD585_1_0100_prep2_thumbnail_mask.png\"\n",
      "aws s3 cp \"/shared/CSHL_SPM/sift_keypoints/MD585/MD585-IHC34-2015.07.16-16.38.23_MD585_1_0100_sift_keypoints.bp\" \"s3://mousebrainatlas-data/CSHL_SPM/sift_keypoints/MD585/MD585-IHC34-2015.07.16-16.38.23_MD585_1_0100_sift_keypoints.bp\"\n",
      "aws s3 cp \"/shared/CSHL_SPM/sift_descriptors/MD585/MD585-IHC34-2015.07.16-16.38.23_MD585_1_0100_sift_descriptors.bp\" \"s3://mousebrainatlas-data/CSHL_SPM/sift_descriptors/MD585/MD585-IHC34-2015.07.16-16.38.23_MD585_1_0100_sift_descriptors.bp\"\n",
      "rm -rf \"/shared/CSHL_data_processed/MD585/MD585_prep2_lossless_gray/MD585-N34-2015.07.16-21.43.03_MD585_2_0101_prep2_lossless_gray.tif\" && mkdir -p \"/shared/CSHL_data_processed/MD585/MD585_prep2_lossless_gray\"\n",
      "aws s3 cp \"s3://mousebrainatlas-data/CSHL_data_processed/MD585/MD585_prep2_lossless_gray/MD585-N34-2015.07.16-21.43.03_MD585_2_0101_prep2_lossless_gray.tif\" \"/shared/CSHL_data_processed/MD585/MD585_prep2_lossless_gray/MD585-N34-2015.07.16-21.43.03_MD585_2_0101_prep2_lossless_gray.tif\"\n",
      "rm -rf \"/shared/CSHL_data_processed/MD585/MD585_prep2_thumbnail_mask/MD585-N34-2015.07.16-21.43.03_MD585_2_0101_prep2_thumbnail_mask.png\" && mkdir -p \"/shared/CSHL_data_processed/MD585/MD585_prep2_thumbnail_mask\"\n",
      "aws s3 cp \"s3://mousebrainatlas-data/CSHL_data_processed/MD585/MD585_prep2_thumbnail_mask/MD585-N34-2015.07.16-21.43.03_MD585_2_0101_prep2_thumbnail_mask.png\" \"/shared/CSHL_data_processed/MD585/MD585_prep2_thumbnail_mask/MD585-N34-2015.07.16-21.43.03_MD585_2_0101_prep2_thumbnail_mask.png\"\n",
      "aws s3 cp \"/shared/CSHL_SPM/sift_keypoints/MD585/MD585-N34-2015.07.16-21.43.03_MD585_2_0101_sift_keypoints.bp\" \"s3://mousebrainatlas-data/CSHL_SPM/sift_keypoints/MD585/MD585-N34-2015.07.16-21.43.03_MD585_2_0101_sift_keypoints.bp\"\n",
      "aws s3 cp \"/shared/CSHL_SPM/sift_descriptors/MD585/MD585-N34-2015.07.16-21.43.03_MD585_2_0101_sift_descriptors.bp\" \"s3://mousebrainatlas-data/CSHL_SPM/sift_descriptors/MD585/MD585-N34-2015.07.16-21.43.03_MD585_2_0101_sift_descriptors.bp\"\n",
      "rm -rf \"/shared/CSHL_data_processed/MD585/MD585_prep2_lossless_gray/MD585-IHC34-2015.07.16-16.38.23_MD585_2_0101_prep2_lossless_gray.tif\" && mkdir -p \"/shared/CSHL_data_processed/MD585/MD585_prep2_lossless_gray\"\n",
      "aws s3 cp \"s3://mousebrainatlas-data/CSHL_data_processed/MD585/MD585_prep2_lossless_gray/MD585-IHC34-2015.07.16-16.38.23_MD585_2_0101_prep2_lossless_gray.tif\" \"/shared/CSHL_data_processed/MD585/MD585_prep2_lossless_gray/MD585-IHC34-2015.07.16-16.38.23_MD585_2_0101_prep2_lossless_gray.tif\"\n",
      "rm -rf \"/shared/CSHL_data_processed/MD585/MD585_prep2_thumbnail_mask/MD585-IHC34-2015.07.16-16.38.23_MD585_2_0101_prep2_thumbnail_mask.png\" && mkdir -p \"/shared/CSHL_data_processed/MD585/MD585_prep2_thumbnail_mask\"\n",
      "aws s3 cp \"s3://mousebrainatlas-data/CSHL_data_processed/MD585/MD585_prep2_thumbnail_mask/MD585-IHC34-2015.07.16-16.38.23_MD585_2_0101_prep2_thumbnail_mask.png\" \"/shared/CSHL_data_processed/MD585/MD585_prep2_thumbnail_mask/MD585-IHC34-2015.07.16-16.38.23_MD585_2_0101_prep2_thumbnail_mask.png\"\n",
      "aws s3 cp \"/shared/CSHL_SPM/sift_keypoints/MD585/MD585-IHC34-2015.07.16-16.38.23_MD585_2_0101_sift_keypoints.bp\" \"s3://mousebrainatlas-data/CSHL_SPM/sift_keypoints/MD585/MD585-IHC34-2015.07.16-16.38.23_MD585_2_0101_sift_keypoints.bp\"\n",
      "aws s3 cp \"/shared/CSHL_SPM/sift_descriptors/MD585/MD585-IHC34-2015.07.16-16.38.23_MD585_2_0101_sift_descriptors.bp\" \"s3://mousebrainatlas-data/CSHL_SPM/sift_descriptors/MD585/MD585-IHC34-2015.07.16-16.38.23_MD585_2_0101_sift_descriptors.bp\"\n",
      "rm -rf \"/shared/CSHL_data_processed/MD585/MD585_prep2_lossless_gray/MD585-N34-2015.07.16-21.43.03_MD585_3_0102_prep2_lossless_gray.tif\" && mkdir -p \"/shared/CSHL_data_processed/MD585/MD585_prep2_lossless_gray\"\n",
      "aws s3 cp \"s3://mousebrainatlas-data/CSHL_data_processed/MD585/MD585_prep2_lossless_gray/MD585-N34-2015.07.16-21.43.03_MD585_3_0102_prep2_lossless_gray.tif\" \"/shared/CSHL_data_processed/MD585/MD585_prep2_lossless_gray/MD585-N34-2015.07.16-21.43.03_MD585_3_0102_prep2_lossless_gray.tif\"\n",
      "rm -rf \"/shared/CSHL_data_processed/MD585/MD585_prep2_thumbnail_mask/MD585-N34-2015.07.16-21.43.03_MD585_3_0102_prep2_thumbnail_mask.png\" && mkdir -p \"/shared/CSHL_data_processed/MD585/MD585_prep2_thumbnail_mask\"\n",
      "aws s3 cp \"s3://mousebrainatlas-data/CSHL_data_processed/MD585/MD585_prep2_thumbnail_mask/MD585-N34-2015.07.16-21.43.03_MD585_3_0102_prep2_thumbnail_mask.png\" \"/shared/CSHL_data_processed/MD585/MD585_prep2_thumbnail_mask/MD585-N34-2015.07.16-21.43.03_MD585_3_0102_prep2_thumbnail_mask.png\"\n",
      "aws s3 cp \"/shared/CSHL_SPM/sift_keypoints/MD585/MD585-N34-2015.07.16-21.43.03_MD585_3_0102_sift_keypoints.bp\" \"s3://mousebrainatlas-data/CSHL_SPM/sift_keypoints/MD585/MD585-N34-2015.07.16-21.43.03_MD585_3_0102_sift_keypoints.bp\"\n",
      "aws s3 cp \"/shared/CSHL_SPM/sift_descriptors/MD585/MD585-N34-2015.07.16-21.43.03_MD585_3_0102_sift_descriptors.bp\" \"s3://mousebrainatlas-data/CSHL_SPM/sift_descriptors/MD585/MD585-N34-2015.07.16-21.43.03_MD585_3_0102_sift_descriptors.bp\"\n",
      "rm -rf \"/shared/CSHL_data_processed/MD585/MD585_prep2_lossless_gray/MD585-IHC34-2015.07.16-16.38.23_MD585_3_0102_prep2_lossless_gray.tif\" && mkdir -p \"/shared/CSHL_data_processed/MD585/MD585_prep2_lossless_gray\"\n"
     ]
    },
    {
     "name": "stdout",
     "output_type": "stream",
     "text": [
      "aws s3 cp \"s3://mousebrainatlas-data/CSHL_data_processed/MD585/MD585_prep2_lossless_gray/MD585-IHC34-2015.07.16-16.38.23_MD585_3_0102_prep2_lossless_gray.tif\" \"/shared/CSHL_data_processed/MD585/MD585_prep2_lossless_gray/MD585-IHC34-2015.07.16-16.38.23_MD585_3_0102_prep2_lossless_gray.tif\"\n",
      "rm -rf \"/shared/CSHL_data_processed/MD585/MD585_prep2_thumbnail_mask/MD585-IHC34-2015.07.16-16.38.23_MD585_3_0102_prep2_thumbnail_mask.png\" && mkdir -p \"/shared/CSHL_data_processed/MD585/MD585_prep2_thumbnail_mask\"\n",
      "aws s3 cp \"s3://mousebrainatlas-data/CSHL_data_processed/MD585/MD585_prep2_thumbnail_mask/MD585-IHC34-2015.07.16-16.38.23_MD585_3_0102_prep2_thumbnail_mask.png\" \"/shared/CSHL_data_processed/MD585/MD585_prep2_thumbnail_mask/MD585-IHC34-2015.07.16-16.38.23_MD585_3_0102_prep2_thumbnail_mask.png\"\n",
      "aws s3 cp \"/shared/CSHL_SPM/sift_keypoints/MD585/MD585-IHC34-2015.07.16-16.38.23_MD585_3_0102_sift_keypoints.bp\" \"s3://mousebrainatlas-data/CSHL_SPM/sift_keypoints/MD585/MD585-IHC34-2015.07.16-16.38.23_MD585_3_0102_sift_keypoints.bp\"\n",
      "aws s3 cp \"/shared/CSHL_SPM/sift_descriptors/MD585/MD585-IHC34-2015.07.16-16.38.23_MD585_3_0102_sift_descriptors.bp\" \"s3://mousebrainatlas-data/CSHL_SPM/sift_descriptors/MD585/MD585-IHC34-2015.07.16-16.38.23_MD585_3_0102_sift_descriptors.bp\"\n",
      "rm -rf \"/shared/CSHL_data_processed/MD585/MD585_prep2_lossless_gray/MD585-N35-2015.07.16-21.48.15_MD585_1_0103_prep2_lossless_gray.tif\" && mkdir -p \"/shared/CSHL_data_processed/MD585/MD585_prep2_lossless_gray\"\n",
      "aws s3 cp \"s3://mousebrainatlas-data/CSHL_data_processed/MD585/MD585_prep2_lossless_gray/MD585-N35-2015.07.16-21.48.15_MD585_1_0103_prep2_lossless_gray.tif\" \"/shared/CSHL_data_processed/MD585/MD585_prep2_lossless_gray/MD585-N35-2015.07.16-21.48.15_MD585_1_0103_prep2_lossless_gray.tif\"\n",
      "rm -rf \"/shared/CSHL_data_processed/MD585/MD585_prep2_thumbnail_mask/MD585-N35-2015.07.16-21.48.15_MD585_1_0103_prep2_thumbnail_mask.png\" && mkdir -p \"/shared/CSHL_data_processed/MD585/MD585_prep2_thumbnail_mask\"\n",
      "aws s3 cp \"s3://mousebrainatlas-data/CSHL_data_processed/MD585/MD585_prep2_thumbnail_mask/MD585-N35-2015.07.16-21.48.15_MD585_1_0103_prep2_thumbnail_mask.png\" \"/shared/CSHL_data_processed/MD585/MD585_prep2_thumbnail_mask/MD585-N35-2015.07.16-21.48.15_MD585_1_0103_prep2_thumbnail_mask.png\"\n",
      "aws s3 cp \"/shared/CSHL_SPM/sift_keypoints/MD585/MD585-N35-2015.07.16-21.48.15_MD585_1_0103_sift_keypoints.bp\" \"s3://mousebrainatlas-data/CSHL_SPM/sift_keypoints/MD585/MD585-N35-2015.07.16-21.48.15_MD585_1_0103_sift_keypoints.bp\"\n",
      "aws s3 cp \"/shared/CSHL_SPM/sift_descriptors/MD585/MD585-N35-2015.07.16-21.48.15_MD585_1_0103_sift_descriptors.bp\" \"s3://mousebrainatlas-data/CSHL_SPM/sift_descriptors/MD585/MD585-N35-2015.07.16-21.48.15_MD585_1_0103_sift_descriptors.bp\"\n",
      "rm -rf \"/shared/CSHL_data_processed/MD585/MD585_prep2_lossless_gray/MD585-IHC35-2015.07.16-16.43.41_MD585_1_0103_prep2_lossless_gray.tif\" && mkdir -p \"/shared/CSHL_data_processed/MD585/MD585_prep2_lossless_gray\"\n",
      "aws s3 cp \"s3://mousebrainatlas-data/CSHL_data_processed/MD585/MD585_prep2_lossless_gray/MD585-IHC35-2015.07.16-16.43.41_MD585_1_0103_prep2_lossless_gray.tif\" \"/shared/CSHL_data_processed/MD585/MD585_prep2_lossless_gray/MD585-IHC35-2015.07.16-16.43.41_MD585_1_0103_prep2_lossless_gray.tif\"\n",
      "rm -rf \"/shared/CSHL_data_processed/MD585/MD585_prep2_thumbnail_mask/MD585-IHC35-2015.07.16-16.43.41_MD585_1_0103_prep2_thumbnail_mask.png\" && mkdir -p \"/shared/CSHL_data_processed/MD585/MD585_prep2_thumbnail_mask\"\n",
      "aws s3 cp \"s3://mousebrainatlas-data/CSHL_data_processed/MD585/MD585_prep2_thumbnail_mask/MD585-IHC35-2015.07.16-16.43.41_MD585_1_0103_prep2_thumbnail_mask.png\" \"/shared/CSHL_data_processed/MD585/MD585_prep2_thumbnail_mask/MD585-IHC35-2015.07.16-16.43.41_MD585_1_0103_prep2_thumbnail_mask.png\"\n",
      "aws s3 cp \"/shared/CSHL_SPM/sift_keypoints/MD585/MD585-IHC35-2015.07.16-16.43.41_MD585_1_0103_sift_keypoints.bp\" \"s3://mousebrainatlas-data/CSHL_SPM/sift_keypoints/MD585/MD585-IHC35-2015.07.16-16.43.41_MD585_1_0103_sift_keypoints.bp\"\n",
      "aws s3 cp \"/shared/CSHL_SPM/sift_descriptors/MD585/MD585-IHC35-2015.07.16-16.43.41_MD585_1_0103_sift_descriptors.bp\" \"s3://mousebrainatlas-data/CSHL_SPM/sift_descriptors/MD585/MD585-IHC35-2015.07.16-16.43.41_MD585_1_0103_sift_descriptors.bp\"\n",
      "rm -rf \"/shared/CSHL_data_processed/MD585/MD585_prep2_lossless_gray/MD585-N35-2015.07.16-21.48.15_MD585_2_0104_prep2_lossless_gray.tif\" && mkdir -p \"/shared/CSHL_data_processed/MD585/MD585_prep2_lossless_gray\"\n",
      "aws s3 cp \"s3://mousebrainatlas-data/CSHL_data_processed/MD585/MD585_prep2_lossless_gray/MD585-N35-2015.07.16-21.48.15_MD585_2_0104_prep2_lossless_gray.tif\" \"/shared/CSHL_data_processed/MD585/MD585_prep2_lossless_gray/MD585-N35-2015.07.16-21.48.15_MD585_2_0104_prep2_lossless_gray.tif\"\n",
      "rm -rf \"/shared/CSHL_data_processed/MD585/MD585_prep2_thumbnail_mask/MD585-N35-2015.07.16-21.48.15_MD585_2_0104_prep2_thumbnail_mask.png\" && mkdir -p \"/shared/CSHL_data_processed/MD585/MD585_prep2_thumbnail_mask\"\n",
      "aws s3 cp \"s3://mousebrainatlas-data/CSHL_data_processed/MD585/MD585_prep2_thumbnail_mask/MD585-N35-2015.07.16-21.48.15_MD585_2_0104_prep2_thumbnail_mask.png\" \"/shared/CSHL_data_processed/MD585/MD585_prep2_thumbnail_mask/MD585-N35-2015.07.16-21.48.15_MD585_2_0104_prep2_thumbnail_mask.png\"\n",
      "aws s3 cp \"/shared/CSHL_SPM/sift_keypoints/MD585/MD585-N35-2015.07.16-21.48.15_MD585_2_0104_sift_keypoints.bp\" \"s3://mousebrainatlas-data/CSHL_SPM/sift_keypoints/MD585/MD585-N35-2015.07.16-21.48.15_MD585_2_0104_sift_keypoints.bp\"\n",
      "aws s3 cp \"/shared/CSHL_SPM/sift_descriptors/MD585/MD585-N35-2015.07.16-21.48.15_MD585_2_0104_sift_descriptors.bp\" \"s3://mousebrainatlas-data/CSHL_SPM/sift_descriptors/MD585/MD585-N35-2015.07.16-21.48.15_MD585_2_0104_sift_descriptors.bp\"\n",
      "rm -rf \"/shared/CSHL_data_processed/MD585/MD585_prep2_lossless_gray/MD585-IHC35-2015.07.16-16.43.41_MD585_2_0104_prep2_lossless_gray.tif\" && mkdir -p \"/shared/CSHL_data_processed/MD585/MD585_prep2_lossless_gray\"\n",
      "aws s3 cp \"s3://mousebrainatlas-data/CSHL_data_processed/MD585/MD585_prep2_lossless_gray/MD585-IHC35-2015.07.16-16.43.41_MD585_2_0104_prep2_lossless_gray.tif\" \"/shared/CSHL_data_processed/MD585/MD585_prep2_lossless_gray/MD585-IHC35-2015.07.16-16.43.41_MD585_2_0104_prep2_lossless_gray.tif\"\n",
      "rm -rf \"/shared/CSHL_data_processed/MD585/MD585_prep2_thumbnail_mask/MD585-IHC35-2015.07.16-16.43.41_MD585_2_0104_prep2_thumbnail_mask.png\" && mkdir -p \"/shared/CSHL_data_processed/MD585/MD585_prep2_thumbnail_mask\"\n",
      "aws s3 cp \"s3://mousebrainatlas-data/CSHL_data_processed/MD585/MD585_prep2_thumbnail_mask/MD585-IHC35-2015.07.16-16.43.41_MD585_2_0104_prep2_thumbnail_mask.png\" \"/shared/CSHL_data_processed/MD585/MD585_prep2_thumbnail_mask/MD585-IHC35-2015.07.16-16.43.41_MD585_2_0104_prep2_thumbnail_mask.png\"\n",
      "aws s3 cp \"/shared/CSHL_SPM/sift_keypoints/MD585/MD585-IHC35-2015.07.16-16.43.41_MD585_2_0104_sift_keypoints.bp\" \"s3://mousebrainatlas-data/CSHL_SPM/sift_keypoints/MD585/MD585-IHC35-2015.07.16-16.43.41_MD585_2_0104_sift_keypoints.bp\"\n",
      "aws s3 cp \"/shared/CSHL_SPM/sift_descriptors/MD585/MD585-IHC35-2015.07.16-16.43.41_MD585_2_0104_sift_descriptors.bp\" \"s3://mousebrainatlas-data/CSHL_SPM/sift_descriptors/MD585/MD585-IHC35-2015.07.16-16.43.41_MD585_2_0104_sift_descriptors.bp\"\n",
      "rm -rf \"/shared/CSHL_data_processed/MD585/MD585_prep2_lossless_gray/MD585-N35-2015.07.16-21.48.15_MD585_3_0105_prep2_lossless_gray.tif\" && mkdir -p \"/shared/CSHL_data_processed/MD585/MD585_prep2_lossless_gray\"\n",
      "aws s3 cp \"s3://mousebrainatlas-data/CSHL_data_processed/MD585/MD585_prep2_lossless_gray/MD585-N35-2015.07.16-21.48.15_MD585_3_0105_prep2_lossless_gray.tif\" \"/shared/CSHL_data_processed/MD585/MD585_prep2_lossless_gray/MD585-N35-2015.07.16-21.48.15_MD585_3_0105_prep2_lossless_gray.tif\"\n",
      "rm -rf \"/shared/CSHL_data_processed/MD585/MD585_prep2_thumbnail_mask/MD585-N35-2015.07.16-21.48.15_MD585_3_0105_prep2_thumbnail_mask.png\" && mkdir -p \"/shared/CSHL_data_processed/MD585/MD585_prep2_thumbnail_mask\"\n",
      "aws s3 cp \"s3://mousebrainatlas-data/CSHL_data_processed/MD585/MD585_prep2_thumbnail_mask/MD585-N35-2015.07.16-21.48.15_MD585_3_0105_prep2_thumbnail_mask.png\" \"/shared/CSHL_data_processed/MD585/MD585_prep2_thumbnail_mask/MD585-N35-2015.07.16-21.48.15_MD585_3_0105_prep2_thumbnail_mask.png\"\n",
      "aws s3 cp \"/shared/CSHL_SPM/sift_keypoints/MD585/MD585-N35-2015.07.16-21.48.15_MD585_3_0105_sift_keypoints.bp\" \"s3://mousebrainatlas-data/CSHL_SPM/sift_keypoints/MD585/MD585-N35-2015.07.16-21.48.15_MD585_3_0105_sift_keypoints.bp\"\n"
     ]
    },
    {
     "name": "stdout",
     "output_type": "stream",
     "text": [
      "aws s3 cp \"/shared/CSHL_SPM/sift_descriptors/MD585/MD585-N35-2015.07.16-21.48.15_MD585_3_0105_sift_descriptors.bp\" \"s3://mousebrainatlas-data/CSHL_SPM/sift_descriptors/MD585/MD585-N35-2015.07.16-21.48.15_MD585_3_0105_sift_descriptors.bp\"\n",
      "rm -rf \"/shared/CSHL_data_processed/MD585/MD585_prep2_lossless_gray/MD585-IHC35-2015.07.16-16.43.41_MD585_3_0105_prep2_lossless_gray.tif\" && mkdir -p \"/shared/CSHL_data_processed/MD585/MD585_prep2_lossless_gray\"\n",
      "aws s3 cp \"s3://mousebrainatlas-data/CSHL_data_processed/MD585/MD585_prep2_lossless_gray/MD585-IHC35-2015.07.16-16.43.41_MD585_3_0105_prep2_lossless_gray.tif\" \"/shared/CSHL_data_processed/MD585/MD585_prep2_lossless_gray/MD585-IHC35-2015.07.16-16.43.41_MD585_3_0105_prep2_lossless_gray.tif\"\n",
      "rm -rf \"/shared/CSHL_data_processed/MD585/MD585_prep2_thumbnail_mask/MD585-IHC35-2015.07.16-16.43.41_MD585_3_0105_prep2_thumbnail_mask.png\" && mkdir -p \"/shared/CSHL_data_processed/MD585/MD585_prep2_thumbnail_mask\"\n",
      "aws s3 cp \"s3://mousebrainatlas-data/CSHL_data_processed/MD585/MD585_prep2_thumbnail_mask/MD585-IHC35-2015.07.16-16.43.41_MD585_3_0105_prep2_thumbnail_mask.png\" \"/shared/CSHL_data_processed/MD585/MD585_prep2_thumbnail_mask/MD585-IHC35-2015.07.16-16.43.41_MD585_3_0105_prep2_thumbnail_mask.png\"\n",
      "aws s3 cp \"/shared/CSHL_SPM/sift_keypoints/MD585/MD585-IHC35-2015.07.16-16.43.41_MD585_3_0105_sift_keypoints.bp\" \"s3://mousebrainatlas-data/CSHL_SPM/sift_keypoints/MD585/MD585-IHC35-2015.07.16-16.43.41_MD585_3_0105_sift_keypoints.bp\"\n",
      "aws s3 cp \"/shared/CSHL_SPM/sift_descriptors/MD585/MD585-IHC35-2015.07.16-16.43.41_MD585_3_0105_sift_descriptors.bp\" \"s3://mousebrainatlas-data/CSHL_SPM/sift_descriptors/MD585/MD585-IHC35-2015.07.16-16.43.41_MD585_3_0105_sift_descriptors.bp\"\n",
      "rm -rf \"/shared/CSHL_data_processed/MD585/MD585_prep2_lossless_gray/MD585-N36-2015.07.16-21.53.31_MD585_1_0106_prep2_lossless_gray.tif\" && mkdir -p \"/shared/CSHL_data_processed/MD585/MD585_prep2_lossless_gray\"\n",
      "aws s3 cp \"s3://mousebrainatlas-data/CSHL_data_processed/MD585/MD585_prep2_lossless_gray/MD585-N36-2015.07.16-21.53.31_MD585_1_0106_prep2_lossless_gray.tif\" \"/shared/CSHL_data_processed/MD585/MD585_prep2_lossless_gray/MD585-N36-2015.07.16-21.53.31_MD585_1_0106_prep2_lossless_gray.tif\"\n",
      "rm -rf \"/shared/CSHL_data_processed/MD585/MD585_prep2_thumbnail_mask/MD585-N36-2015.07.16-21.53.31_MD585_1_0106_prep2_thumbnail_mask.png\" && mkdir -p \"/shared/CSHL_data_processed/MD585/MD585_prep2_thumbnail_mask\"\n",
      "aws s3 cp \"s3://mousebrainatlas-data/CSHL_data_processed/MD585/MD585_prep2_thumbnail_mask/MD585-N36-2015.07.16-21.53.31_MD585_1_0106_prep2_thumbnail_mask.png\" \"/shared/CSHL_data_processed/MD585/MD585_prep2_thumbnail_mask/MD585-N36-2015.07.16-21.53.31_MD585_1_0106_prep2_thumbnail_mask.png\"\n",
      "aws s3 cp \"/shared/CSHL_SPM/sift_keypoints/MD585/MD585-N36-2015.07.16-21.53.31_MD585_1_0106_sift_keypoints.bp\" \"s3://mousebrainatlas-data/CSHL_SPM/sift_keypoints/MD585/MD585-N36-2015.07.16-21.53.31_MD585_1_0106_sift_keypoints.bp\"\n",
      "aws s3 cp \"/shared/CSHL_SPM/sift_descriptors/MD585/MD585-N36-2015.07.16-21.53.31_MD585_1_0106_sift_descriptors.bp\" \"s3://mousebrainatlas-data/CSHL_SPM/sift_descriptors/MD585/MD585-N36-2015.07.16-21.53.31_MD585_1_0106_sift_descriptors.bp\"\n",
      "rm -rf \"/shared/CSHL_data_processed/MD585/MD585_prep2_lossless_gray/MD585-IHC36-2015.08.19-13.58.57_MD585_1_0106_prep2_lossless_gray.tif\" && mkdir -p \"/shared/CSHL_data_processed/MD585/MD585_prep2_lossless_gray\"\n",
      "aws s3 cp \"s3://mousebrainatlas-data/CSHL_data_processed/MD585/MD585_prep2_lossless_gray/MD585-IHC36-2015.08.19-13.58.57_MD585_1_0106_prep2_lossless_gray.tif\" \"/shared/CSHL_data_processed/MD585/MD585_prep2_lossless_gray/MD585-IHC36-2015.08.19-13.58.57_MD585_1_0106_prep2_lossless_gray.tif\"\n",
      "rm -rf \"/shared/CSHL_data_processed/MD585/MD585_prep2_thumbnail_mask/MD585-IHC36-2015.08.19-13.58.57_MD585_1_0106_prep2_thumbnail_mask.png\" && mkdir -p \"/shared/CSHL_data_processed/MD585/MD585_prep2_thumbnail_mask\"\n",
      "aws s3 cp \"s3://mousebrainatlas-data/CSHL_data_processed/MD585/MD585_prep2_thumbnail_mask/MD585-IHC36-2015.08.19-13.58.57_MD585_1_0106_prep2_thumbnail_mask.png\" \"/shared/CSHL_data_processed/MD585/MD585_prep2_thumbnail_mask/MD585-IHC36-2015.08.19-13.58.57_MD585_1_0106_prep2_thumbnail_mask.png\"\n",
      "aws s3 cp \"/shared/CSHL_SPM/sift_keypoints/MD585/MD585-IHC36-2015.08.19-13.58.57_MD585_1_0106_sift_keypoints.bp\" \"s3://mousebrainatlas-data/CSHL_SPM/sift_keypoints/MD585/MD585-IHC36-2015.08.19-13.58.57_MD585_1_0106_sift_keypoints.bp\"\n",
      "aws s3 cp \"/shared/CSHL_SPM/sift_descriptors/MD585/MD585-IHC36-2015.08.19-13.58.57_MD585_1_0106_sift_descriptors.bp\" \"s3://mousebrainatlas-data/CSHL_SPM/sift_descriptors/MD585/MD585-IHC36-2015.08.19-13.58.57_MD585_1_0106_sift_descriptors.bp\"\n",
      "rm -rf \"/shared/CSHL_data_processed/MD585/MD585_prep2_lossless_gray/MD585-N36-2015.07.16-21.53.31_MD585_2_0107_prep2_lossless_gray.tif\" && mkdir -p \"/shared/CSHL_data_processed/MD585/MD585_prep2_lossless_gray\"\n",
      "aws s3 cp \"s3://mousebrainatlas-data/CSHL_data_processed/MD585/MD585_prep2_lossless_gray/MD585-N36-2015.07.16-21.53.31_MD585_2_0107_prep2_lossless_gray.tif\" \"/shared/CSHL_data_processed/MD585/MD585_prep2_lossless_gray/MD585-N36-2015.07.16-21.53.31_MD585_2_0107_prep2_lossless_gray.tif\"\n",
      "rm -rf \"/shared/CSHL_data_processed/MD585/MD585_prep2_thumbnail_mask/MD585-N36-2015.07.16-21.53.31_MD585_2_0107_prep2_thumbnail_mask.png\" && mkdir -p \"/shared/CSHL_data_processed/MD585/MD585_prep2_thumbnail_mask\"\n",
      "aws s3 cp \"s3://mousebrainatlas-data/CSHL_data_processed/MD585/MD585_prep2_thumbnail_mask/MD585-N36-2015.07.16-21.53.31_MD585_2_0107_prep2_thumbnail_mask.png\" \"/shared/CSHL_data_processed/MD585/MD585_prep2_thumbnail_mask/MD585-N36-2015.07.16-21.53.31_MD585_2_0107_prep2_thumbnail_mask.png\"\n",
      "aws s3 cp \"/shared/CSHL_SPM/sift_keypoints/MD585/MD585-N36-2015.07.16-21.53.31_MD585_2_0107_sift_keypoints.bp\" \"s3://mousebrainatlas-data/CSHL_SPM/sift_keypoints/MD585/MD585-N36-2015.07.16-21.53.31_MD585_2_0107_sift_keypoints.bp\"\n",
      "aws s3 cp \"/shared/CSHL_SPM/sift_descriptors/MD585/MD585-N36-2015.07.16-21.53.31_MD585_2_0107_sift_descriptors.bp\" \"s3://mousebrainatlas-data/CSHL_SPM/sift_descriptors/MD585/MD585-N36-2015.07.16-21.53.31_MD585_2_0107_sift_descriptors.bp\"\n",
      "rm -rf \"/shared/CSHL_data_processed/MD585/MD585_prep2_lossless_gray/MD585-IHC36-2015.08.19-13.58.57_MD585_2_0107_prep2_lossless_gray.tif\" && mkdir -p \"/shared/CSHL_data_processed/MD585/MD585_prep2_lossless_gray\"\n",
      "aws s3 cp \"s3://mousebrainatlas-data/CSHL_data_processed/MD585/MD585_prep2_lossless_gray/MD585-IHC36-2015.08.19-13.58.57_MD585_2_0107_prep2_lossless_gray.tif\" \"/shared/CSHL_data_processed/MD585/MD585_prep2_lossless_gray/MD585-IHC36-2015.08.19-13.58.57_MD585_2_0107_prep2_lossless_gray.tif\"\n",
      "rm -rf \"/shared/CSHL_data_processed/MD585/MD585_prep2_thumbnail_mask/MD585-IHC36-2015.08.19-13.58.57_MD585_2_0107_prep2_thumbnail_mask.png\" && mkdir -p \"/shared/CSHL_data_processed/MD585/MD585_prep2_thumbnail_mask\"\n",
      "aws s3 cp \"s3://mousebrainatlas-data/CSHL_data_processed/MD585/MD585_prep2_thumbnail_mask/MD585-IHC36-2015.08.19-13.58.57_MD585_2_0107_prep2_thumbnail_mask.png\" \"/shared/CSHL_data_processed/MD585/MD585_prep2_thumbnail_mask/MD585-IHC36-2015.08.19-13.58.57_MD585_2_0107_prep2_thumbnail_mask.png\"\n",
      "aws s3 cp \"/shared/CSHL_SPM/sift_keypoints/MD585/MD585-IHC36-2015.08.19-13.58.57_MD585_2_0107_sift_keypoints.bp\" \"s3://mousebrainatlas-data/CSHL_SPM/sift_keypoints/MD585/MD585-IHC36-2015.08.19-13.58.57_MD585_2_0107_sift_keypoints.bp\"\n",
      "aws s3 cp \"/shared/CSHL_SPM/sift_descriptors/MD585/MD585-IHC36-2015.08.19-13.58.57_MD585_2_0107_sift_descriptors.bp\" \"s3://mousebrainatlas-data/CSHL_SPM/sift_descriptors/MD585/MD585-IHC36-2015.08.19-13.58.57_MD585_2_0107_sift_descriptors.bp\"\n",
      "rm -rf \"/shared/CSHL_data_processed/MD585/MD585_prep2_lossless_gray/MD585-N36-2015.07.16-21.53.31_MD585_3_0108_prep2_lossless_gray.tif\" && mkdir -p \"/shared/CSHL_data_processed/MD585/MD585_prep2_lossless_gray\"\n",
      "aws s3 cp \"s3://mousebrainatlas-data/CSHL_data_processed/MD585/MD585_prep2_lossless_gray/MD585-N36-2015.07.16-21.53.31_MD585_3_0108_prep2_lossless_gray.tif\" \"/shared/CSHL_data_processed/MD585/MD585_prep2_lossless_gray/MD585-N36-2015.07.16-21.53.31_MD585_3_0108_prep2_lossless_gray.tif\"\n",
      "rm -rf \"/shared/CSHL_data_processed/MD585/MD585_prep2_thumbnail_mask/MD585-N36-2015.07.16-21.53.31_MD585_3_0108_prep2_thumbnail_mask.png\" && mkdir -p \"/shared/CSHL_data_processed/MD585/MD585_prep2_thumbnail_mask\"\n"
     ]
    },
    {
     "name": "stdout",
     "output_type": "stream",
     "text": [
      "aws s3 cp \"s3://mousebrainatlas-data/CSHL_data_processed/MD585/MD585_prep2_thumbnail_mask/MD585-N36-2015.07.16-21.53.31_MD585_3_0108_prep2_thumbnail_mask.png\" \"/shared/CSHL_data_processed/MD585/MD585_prep2_thumbnail_mask/MD585-N36-2015.07.16-21.53.31_MD585_3_0108_prep2_thumbnail_mask.png\"\n",
      "aws s3 cp \"/shared/CSHL_SPM/sift_keypoints/MD585/MD585-N36-2015.07.16-21.53.31_MD585_3_0108_sift_keypoints.bp\" \"s3://mousebrainatlas-data/CSHL_SPM/sift_keypoints/MD585/MD585-N36-2015.07.16-21.53.31_MD585_3_0108_sift_keypoints.bp\"\n",
      "aws s3 cp \"/shared/CSHL_SPM/sift_descriptors/MD585/MD585-N36-2015.07.16-21.53.31_MD585_3_0108_sift_descriptors.bp\" \"s3://mousebrainatlas-data/CSHL_SPM/sift_descriptors/MD585/MD585-N36-2015.07.16-21.53.31_MD585_3_0108_sift_descriptors.bp\"\n",
      "rm -rf \"/shared/CSHL_data_processed/MD585/MD585_prep2_lossless_gray/MD585-IHC36-2015.08.19-13.58.57_MD585_3_0108_prep2_lossless_gray.tif\" && mkdir -p \"/shared/CSHL_data_processed/MD585/MD585_prep2_lossless_gray\"\n",
      "aws s3 cp \"s3://mousebrainatlas-data/CSHL_data_processed/MD585/MD585_prep2_lossless_gray/MD585-IHC36-2015.08.19-13.58.57_MD585_3_0108_prep2_lossless_gray.tif\" \"/shared/CSHL_data_processed/MD585/MD585_prep2_lossless_gray/MD585-IHC36-2015.08.19-13.58.57_MD585_3_0108_prep2_lossless_gray.tif\"\n",
      "rm -rf \"/shared/CSHL_data_processed/MD585/MD585_prep2_thumbnail_mask/MD585-IHC36-2015.08.19-13.58.57_MD585_3_0108_prep2_thumbnail_mask.png\" && mkdir -p \"/shared/CSHL_data_processed/MD585/MD585_prep2_thumbnail_mask\"\n",
      "aws s3 cp \"s3://mousebrainatlas-data/CSHL_data_processed/MD585/MD585_prep2_thumbnail_mask/MD585-IHC36-2015.08.19-13.58.57_MD585_3_0108_prep2_thumbnail_mask.png\" \"/shared/CSHL_data_processed/MD585/MD585_prep2_thumbnail_mask/MD585-IHC36-2015.08.19-13.58.57_MD585_3_0108_prep2_thumbnail_mask.png\"\n",
      "aws s3 cp \"/shared/CSHL_SPM/sift_keypoints/MD585/MD585-IHC36-2015.08.19-13.58.57_MD585_3_0108_sift_keypoints.bp\" \"s3://mousebrainatlas-data/CSHL_SPM/sift_keypoints/MD585/MD585-IHC36-2015.08.19-13.58.57_MD585_3_0108_sift_keypoints.bp\"\n",
      "aws s3 cp \"/shared/CSHL_SPM/sift_descriptors/MD585/MD585-IHC36-2015.08.19-13.58.57_MD585_3_0108_sift_descriptors.bp\" \"s3://mousebrainatlas-data/CSHL_SPM/sift_descriptors/MD585/MD585-IHC36-2015.08.19-13.58.57_MD585_3_0108_sift_descriptors.bp\"\n",
      "rm -rf \"/shared/CSHL_data_processed/MD585/MD585_prep2_lossless_gray/MD585-N37-2015.07.16-21.59.03_MD585_1_0109_prep2_lossless_gray.tif\" && mkdir -p \"/shared/CSHL_data_processed/MD585/MD585_prep2_lossless_gray\"\n",
      "aws s3 cp \"s3://mousebrainatlas-data/CSHL_data_processed/MD585/MD585_prep2_lossless_gray/MD585-N37-2015.07.16-21.59.03_MD585_1_0109_prep2_lossless_gray.tif\" \"/shared/CSHL_data_processed/MD585/MD585_prep2_lossless_gray/MD585-N37-2015.07.16-21.59.03_MD585_1_0109_prep2_lossless_gray.tif\"\n",
      "rm -rf \"/shared/CSHL_data_processed/MD585/MD585_prep2_thumbnail_mask/MD585-N37-2015.07.16-21.59.03_MD585_1_0109_prep2_thumbnail_mask.png\" && mkdir -p \"/shared/CSHL_data_processed/MD585/MD585_prep2_thumbnail_mask\"\n",
      "aws s3 cp \"s3://mousebrainatlas-data/CSHL_data_processed/MD585/MD585_prep2_thumbnail_mask/MD585-N37-2015.07.16-21.59.03_MD585_1_0109_prep2_thumbnail_mask.png\" \"/shared/CSHL_data_processed/MD585/MD585_prep2_thumbnail_mask/MD585-N37-2015.07.16-21.59.03_MD585_1_0109_prep2_thumbnail_mask.png\"\n",
      "aws s3 cp \"/shared/CSHL_SPM/sift_keypoints/MD585/MD585-N37-2015.07.16-21.59.03_MD585_1_0109_sift_keypoints.bp\" \"s3://mousebrainatlas-data/CSHL_SPM/sift_keypoints/MD585/MD585-N37-2015.07.16-21.59.03_MD585_1_0109_sift_keypoints.bp\"\n",
      "aws s3 cp \"/shared/CSHL_SPM/sift_descriptors/MD585/MD585-N37-2015.07.16-21.59.03_MD585_1_0109_sift_descriptors.bp\" \"s3://mousebrainatlas-data/CSHL_SPM/sift_descriptors/MD585/MD585-N37-2015.07.16-21.59.03_MD585_1_0109_sift_descriptors.bp\"\n",
      "rm -rf \"/shared/CSHL_data_processed/MD585/MD585_prep2_lossless_gray/MD585-IHC37-2015.08.19-14.04.32_MD585_1_0109_prep2_lossless_gray.tif\" && mkdir -p \"/shared/CSHL_data_processed/MD585/MD585_prep2_lossless_gray\"\n",
      "aws s3 cp \"s3://mousebrainatlas-data/CSHL_data_processed/MD585/MD585_prep2_lossless_gray/MD585-IHC37-2015.08.19-14.04.32_MD585_1_0109_prep2_lossless_gray.tif\" \"/shared/CSHL_data_processed/MD585/MD585_prep2_lossless_gray/MD585-IHC37-2015.08.19-14.04.32_MD585_1_0109_prep2_lossless_gray.tif\"\n",
      "rm -rf \"/shared/CSHL_data_processed/MD585/MD585_prep2_thumbnail_mask/MD585-IHC37-2015.08.19-14.04.32_MD585_1_0109_prep2_thumbnail_mask.png\" && mkdir -p \"/shared/CSHL_data_processed/MD585/MD585_prep2_thumbnail_mask\"\n",
      "aws s3 cp \"s3://mousebrainatlas-data/CSHL_data_processed/MD585/MD585_prep2_thumbnail_mask/MD585-IHC37-2015.08.19-14.04.32_MD585_1_0109_prep2_thumbnail_mask.png\" \"/shared/CSHL_data_processed/MD585/MD585_prep2_thumbnail_mask/MD585-IHC37-2015.08.19-14.04.32_MD585_1_0109_prep2_thumbnail_mask.png\"\n",
      "aws s3 cp \"/shared/CSHL_SPM/sift_keypoints/MD585/MD585-IHC37-2015.08.19-14.04.32_MD585_1_0109_sift_keypoints.bp\" \"s3://mousebrainatlas-data/CSHL_SPM/sift_keypoints/MD585/MD585-IHC37-2015.08.19-14.04.32_MD585_1_0109_sift_keypoints.bp\"\n",
      "aws s3 cp \"/shared/CSHL_SPM/sift_descriptors/MD585/MD585-IHC37-2015.08.19-14.04.32_MD585_1_0109_sift_descriptors.bp\" \"s3://mousebrainatlas-data/CSHL_SPM/sift_descriptors/MD585/MD585-IHC37-2015.08.19-14.04.32_MD585_1_0109_sift_descriptors.bp\"\n",
      "rm -rf \"/shared/CSHL_data_processed/MD585/MD585_prep2_lossless_gray/MD585-N37-2015.07.16-21.59.03_MD585_2_0110_prep2_lossless_gray.tif\" && mkdir -p \"/shared/CSHL_data_processed/MD585/MD585_prep2_lossless_gray\"\n",
      "aws s3 cp \"s3://mousebrainatlas-data/CSHL_data_processed/MD585/MD585_prep2_lossless_gray/MD585-N37-2015.07.16-21.59.03_MD585_2_0110_prep2_lossless_gray.tif\" \"/shared/CSHL_data_processed/MD585/MD585_prep2_lossless_gray/MD585-N37-2015.07.16-21.59.03_MD585_2_0110_prep2_lossless_gray.tif\"\n",
      "rm -rf \"/shared/CSHL_data_processed/MD585/MD585_prep2_thumbnail_mask/MD585-N37-2015.07.16-21.59.03_MD585_2_0110_prep2_thumbnail_mask.png\" && mkdir -p \"/shared/CSHL_data_processed/MD585/MD585_prep2_thumbnail_mask\"\n",
      "aws s3 cp \"s3://mousebrainatlas-data/CSHL_data_processed/MD585/MD585_prep2_thumbnail_mask/MD585-N37-2015.07.16-21.59.03_MD585_2_0110_prep2_thumbnail_mask.png\" \"/shared/CSHL_data_processed/MD585/MD585_prep2_thumbnail_mask/MD585-N37-2015.07.16-21.59.03_MD585_2_0110_prep2_thumbnail_mask.png\"\n",
      "aws s3 cp \"/shared/CSHL_SPM/sift_keypoints/MD585/MD585-N37-2015.07.16-21.59.03_MD585_2_0110_sift_keypoints.bp\" \"s3://mousebrainatlas-data/CSHL_SPM/sift_keypoints/MD585/MD585-N37-2015.07.16-21.59.03_MD585_2_0110_sift_keypoints.bp\"\n",
      "aws s3 cp \"/shared/CSHL_SPM/sift_descriptors/MD585/MD585-N37-2015.07.16-21.59.03_MD585_2_0110_sift_descriptors.bp\" \"s3://mousebrainatlas-data/CSHL_SPM/sift_descriptors/MD585/MD585-N37-2015.07.16-21.59.03_MD585_2_0110_sift_descriptors.bp\"\n",
      "rm -rf \"/shared/CSHL_data_processed/MD585/MD585_prep2_lossless_gray/MD585-IHC37-2015.08.19-14.04.32_MD585_2_0110_prep2_lossless_gray.tif\" && mkdir -p \"/shared/CSHL_data_processed/MD585/MD585_prep2_lossless_gray\"\n",
      "aws s3 cp \"s3://mousebrainatlas-data/CSHL_data_processed/MD585/MD585_prep2_lossless_gray/MD585-IHC37-2015.08.19-14.04.32_MD585_2_0110_prep2_lossless_gray.tif\" \"/shared/CSHL_data_processed/MD585/MD585_prep2_lossless_gray/MD585-IHC37-2015.08.19-14.04.32_MD585_2_0110_prep2_lossless_gray.tif\"\n",
      "rm -rf \"/shared/CSHL_data_processed/MD585/MD585_prep2_thumbnail_mask/MD585-IHC37-2015.08.19-14.04.32_MD585_2_0110_prep2_thumbnail_mask.png\" && mkdir -p \"/shared/CSHL_data_processed/MD585/MD585_prep2_thumbnail_mask\"\n",
      "aws s3 cp \"s3://mousebrainatlas-data/CSHL_data_processed/MD585/MD585_prep2_thumbnail_mask/MD585-IHC37-2015.08.19-14.04.32_MD585_2_0110_prep2_thumbnail_mask.png\" \"/shared/CSHL_data_processed/MD585/MD585_prep2_thumbnail_mask/MD585-IHC37-2015.08.19-14.04.32_MD585_2_0110_prep2_thumbnail_mask.png\"\n",
      "aws s3 cp \"/shared/CSHL_SPM/sift_keypoints/MD585/MD585-IHC37-2015.08.19-14.04.32_MD585_2_0110_sift_keypoints.bp\" \"s3://mousebrainatlas-data/CSHL_SPM/sift_keypoints/MD585/MD585-IHC37-2015.08.19-14.04.32_MD585_2_0110_sift_keypoints.bp\"\n",
      "aws s3 cp \"/shared/CSHL_SPM/sift_descriptors/MD585/MD585-IHC37-2015.08.19-14.04.32_MD585_2_0110_sift_descriptors.bp\" \"s3://mousebrainatlas-data/CSHL_SPM/sift_descriptors/MD585/MD585-IHC37-2015.08.19-14.04.32_MD585_2_0110_sift_descriptors.bp\"\n",
      "rm -rf \"/shared/CSHL_data_processed/MD585/MD585_prep2_lossless_gray/MD585-N37-2015.07.16-21.59.03_MD585_3_0111_prep2_lossless_gray.tif\" && mkdir -p \"/shared/CSHL_data_processed/MD585/MD585_prep2_lossless_gray\"\n"
     ]
    },
    {
     "name": "stdout",
     "output_type": "stream",
     "text": [
      "aws s3 cp \"s3://mousebrainatlas-data/CSHL_data_processed/MD585/MD585_prep2_lossless_gray/MD585-N37-2015.07.16-21.59.03_MD585_3_0111_prep2_lossless_gray.tif\" \"/shared/CSHL_data_processed/MD585/MD585_prep2_lossless_gray/MD585-N37-2015.07.16-21.59.03_MD585_3_0111_prep2_lossless_gray.tif\"\n",
      "rm -rf \"/shared/CSHL_data_processed/MD585/MD585_prep2_thumbnail_mask/MD585-N37-2015.07.16-21.59.03_MD585_3_0111_prep2_thumbnail_mask.png\" && mkdir -p \"/shared/CSHL_data_processed/MD585/MD585_prep2_thumbnail_mask\"\n",
      "aws s3 cp \"s3://mousebrainatlas-data/CSHL_data_processed/MD585/MD585_prep2_thumbnail_mask/MD585-N37-2015.07.16-21.59.03_MD585_3_0111_prep2_thumbnail_mask.png\" \"/shared/CSHL_data_processed/MD585/MD585_prep2_thumbnail_mask/MD585-N37-2015.07.16-21.59.03_MD585_3_0111_prep2_thumbnail_mask.png\"\n",
      "aws s3 cp \"/shared/CSHL_SPM/sift_keypoints/MD585/MD585-N37-2015.07.16-21.59.03_MD585_3_0111_sift_keypoints.bp\" \"s3://mousebrainatlas-data/CSHL_SPM/sift_keypoints/MD585/MD585-N37-2015.07.16-21.59.03_MD585_3_0111_sift_keypoints.bp\"\n",
      "aws s3 cp \"/shared/CSHL_SPM/sift_descriptors/MD585/MD585-N37-2015.07.16-21.59.03_MD585_3_0111_sift_descriptors.bp\" \"s3://mousebrainatlas-data/CSHL_SPM/sift_descriptors/MD585/MD585-N37-2015.07.16-21.59.03_MD585_3_0111_sift_descriptors.bp\"\n",
      "rm -rf \"/shared/CSHL_data_processed/MD585/MD585_prep2_lossless_gray/MD585-IHC37-2015.08.19-14.04.32_MD585_3_0111_prep2_lossless_gray.tif\" && mkdir -p \"/shared/CSHL_data_processed/MD585/MD585_prep2_lossless_gray\"\n",
      "aws s3 cp \"s3://mousebrainatlas-data/CSHL_data_processed/MD585/MD585_prep2_lossless_gray/MD585-IHC37-2015.08.19-14.04.32_MD585_3_0111_prep2_lossless_gray.tif\" \"/shared/CSHL_data_processed/MD585/MD585_prep2_lossless_gray/MD585-IHC37-2015.08.19-14.04.32_MD585_3_0111_prep2_lossless_gray.tif\"\n",
      "rm -rf \"/shared/CSHL_data_processed/MD585/MD585_prep2_thumbnail_mask/MD585-IHC37-2015.08.19-14.04.32_MD585_3_0111_prep2_thumbnail_mask.png\" && mkdir -p \"/shared/CSHL_data_processed/MD585/MD585_prep2_thumbnail_mask\"\n",
      "aws s3 cp \"s3://mousebrainatlas-data/CSHL_data_processed/MD585/MD585_prep2_thumbnail_mask/MD585-IHC37-2015.08.19-14.04.32_MD585_3_0111_prep2_thumbnail_mask.png\" \"/shared/CSHL_data_processed/MD585/MD585_prep2_thumbnail_mask/MD585-IHC37-2015.08.19-14.04.32_MD585_3_0111_prep2_thumbnail_mask.png\"\n",
      "aws s3 cp \"/shared/CSHL_SPM/sift_keypoints/MD585/MD585-IHC37-2015.08.19-14.04.32_MD585_3_0111_sift_keypoints.bp\" \"s3://mousebrainatlas-data/CSHL_SPM/sift_keypoints/MD585/MD585-IHC37-2015.08.19-14.04.32_MD585_3_0111_sift_keypoints.bp\"\n",
      "aws s3 cp \"/shared/CSHL_SPM/sift_descriptors/MD585/MD585-IHC37-2015.08.19-14.04.32_MD585_3_0111_sift_descriptors.bp\" \"s3://mousebrainatlas-data/CSHL_SPM/sift_descriptors/MD585/MD585-IHC37-2015.08.19-14.04.32_MD585_3_0111_sift_descriptors.bp\"\n",
      "rm -rf \"/shared/CSHL_data_processed/MD585/MD585_prep2_lossless_gray/MD585-N38-2015.07.16-22.04.12_MD585_1_0112_prep2_lossless_gray.tif\" && mkdir -p \"/shared/CSHL_data_processed/MD585/MD585_prep2_lossless_gray\"\n",
      "aws s3 cp \"s3://mousebrainatlas-data/CSHL_data_processed/MD585/MD585_prep2_lossless_gray/MD585-N38-2015.07.16-22.04.12_MD585_1_0112_prep2_lossless_gray.tif\" \"/shared/CSHL_data_processed/MD585/MD585_prep2_lossless_gray/MD585-N38-2015.07.16-22.04.12_MD585_1_0112_prep2_lossless_gray.tif\"\n",
      "rm -rf \"/shared/CSHL_data_processed/MD585/MD585_prep2_thumbnail_mask/MD585-N38-2015.07.16-22.04.12_MD585_1_0112_prep2_thumbnail_mask.png\" && mkdir -p \"/shared/CSHL_data_processed/MD585/MD585_prep2_thumbnail_mask\"\n",
      "aws s3 cp \"s3://mousebrainatlas-data/CSHL_data_processed/MD585/MD585_prep2_thumbnail_mask/MD585-N38-2015.07.16-22.04.12_MD585_1_0112_prep2_thumbnail_mask.png\" \"/shared/CSHL_data_processed/MD585/MD585_prep2_thumbnail_mask/MD585-N38-2015.07.16-22.04.12_MD585_1_0112_prep2_thumbnail_mask.png\"\n",
      "aws s3 cp \"/shared/CSHL_SPM/sift_keypoints/MD585/MD585-N38-2015.07.16-22.04.12_MD585_1_0112_sift_keypoints.bp\" \"s3://mousebrainatlas-data/CSHL_SPM/sift_keypoints/MD585/MD585-N38-2015.07.16-22.04.12_MD585_1_0112_sift_keypoints.bp\"\n",
      "aws s3 cp \"/shared/CSHL_SPM/sift_descriptors/MD585/MD585-N38-2015.07.16-22.04.12_MD585_1_0112_sift_descriptors.bp\" \"s3://mousebrainatlas-data/CSHL_SPM/sift_descriptors/MD585/MD585-N38-2015.07.16-22.04.12_MD585_1_0112_sift_descriptors.bp\"\n",
      "rm -rf \"/shared/CSHL_data_processed/MD585/MD585_prep2_lossless_gray/MD585-IHC38-2015.07.16-17.00.35_MD585_1_0112_prep2_lossless_gray.tif\" && mkdir -p \"/shared/CSHL_data_processed/MD585/MD585_prep2_lossless_gray\"\n",
      "aws s3 cp \"s3://mousebrainatlas-data/CSHL_data_processed/MD585/MD585_prep2_lossless_gray/MD585-IHC38-2015.07.16-17.00.35_MD585_1_0112_prep2_lossless_gray.tif\" \"/shared/CSHL_data_processed/MD585/MD585_prep2_lossless_gray/MD585-IHC38-2015.07.16-17.00.35_MD585_1_0112_prep2_lossless_gray.tif\"\n",
      "rm -rf \"/shared/CSHL_data_processed/MD585/MD585_prep2_thumbnail_mask/MD585-IHC38-2015.07.16-17.00.35_MD585_1_0112_prep2_thumbnail_mask.png\" && mkdir -p \"/shared/CSHL_data_processed/MD585/MD585_prep2_thumbnail_mask\"\n",
      "aws s3 cp \"s3://mousebrainatlas-data/CSHL_data_processed/MD585/MD585_prep2_thumbnail_mask/MD585-IHC38-2015.07.16-17.00.35_MD585_1_0112_prep2_thumbnail_mask.png\" \"/shared/CSHL_data_processed/MD585/MD585_prep2_thumbnail_mask/MD585-IHC38-2015.07.16-17.00.35_MD585_1_0112_prep2_thumbnail_mask.png\"\n",
      "aws s3 cp \"/shared/CSHL_SPM/sift_keypoints/MD585/MD585-IHC38-2015.07.16-17.00.35_MD585_1_0112_sift_keypoints.bp\" \"s3://mousebrainatlas-data/CSHL_SPM/sift_keypoints/MD585/MD585-IHC38-2015.07.16-17.00.35_MD585_1_0112_sift_keypoints.bp\"\n",
      "aws s3 cp \"/shared/CSHL_SPM/sift_descriptors/MD585/MD585-IHC38-2015.07.16-17.00.35_MD585_1_0112_sift_descriptors.bp\" \"s3://mousebrainatlas-data/CSHL_SPM/sift_descriptors/MD585/MD585-IHC38-2015.07.16-17.00.35_MD585_1_0112_sift_descriptors.bp\"\n",
      "rm -rf \"/shared/CSHL_data_processed/MD585/MD585_prep2_lossless_gray/MD585-N38-2015.07.16-22.04.12_MD585_2_0113_prep2_lossless_gray.tif\" && mkdir -p \"/shared/CSHL_data_processed/MD585/MD585_prep2_lossless_gray\"\n",
      "aws s3 cp \"s3://mousebrainatlas-data/CSHL_data_processed/MD585/MD585_prep2_lossless_gray/MD585-N38-2015.07.16-22.04.12_MD585_2_0113_prep2_lossless_gray.tif\" \"/shared/CSHL_data_processed/MD585/MD585_prep2_lossless_gray/MD585-N38-2015.07.16-22.04.12_MD585_2_0113_prep2_lossless_gray.tif\"\n",
      "rm -rf \"/shared/CSHL_data_processed/MD585/MD585_prep2_thumbnail_mask/MD585-N38-2015.07.16-22.04.12_MD585_2_0113_prep2_thumbnail_mask.png\" && mkdir -p \"/shared/CSHL_data_processed/MD585/MD585_prep2_thumbnail_mask\"\n",
      "aws s3 cp \"s3://mousebrainatlas-data/CSHL_data_processed/MD585/MD585_prep2_thumbnail_mask/MD585-N38-2015.07.16-22.04.12_MD585_2_0113_prep2_thumbnail_mask.png\" \"/shared/CSHL_data_processed/MD585/MD585_prep2_thumbnail_mask/MD585-N38-2015.07.16-22.04.12_MD585_2_0113_prep2_thumbnail_mask.png\"\n",
      "aws s3 cp \"/shared/CSHL_SPM/sift_keypoints/MD585/MD585-N38-2015.07.16-22.04.12_MD585_2_0113_sift_keypoints.bp\" \"s3://mousebrainatlas-data/CSHL_SPM/sift_keypoints/MD585/MD585-N38-2015.07.16-22.04.12_MD585_2_0113_sift_keypoints.bp\"\n",
      "aws s3 cp \"/shared/CSHL_SPM/sift_descriptors/MD585/MD585-N38-2015.07.16-22.04.12_MD585_2_0113_sift_descriptors.bp\" \"s3://mousebrainatlas-data/CSHL_SPM/sift_descriptors/MD585/MD585-N38-2015.07.16-22.04.12_MD585_2_0113_sift_descriptors.bp\"\n",
      "rm -rf \"/shared/CSHL_data_processed/MD585/MD585_prep2_lossless_gray/MD585-IHC38-2015.07.16-17.00.35_MD585_2_0113_prep2_lossless_gray.tif\" && mkdir -p \"/shared/CSHL_data_processed/MD585/MD585_prep2_lossless_gray\"\n",
      "aws s3 cp \"s3://mousebrainatlas-data/CSHL_data_processed/MD585/MD585_prep2_lossless_gray/MD585-IHC38-2015.07.16-17.00.35_MD585_2_0113_prep2_lossless_gray.tif\" \"/shared/CSHL_data_processed/MD585/MD585_prep2_lossless_gray/MD585-IHC38-2015.07.16-17.00.35_MD585_2_0113_prep2_lossless_gray.tif\"\n",
      "rm -rf \"/shared/CSHL_data_processed/MD585/MD585_prep2_thumbnail_mask/MD585-IHC38-2015.07.16-17.00.35_MD585_2_0113_prep2_thumbnail_mask.png\" && mkdir -p \"/shared/CSHL_data_processed/MD585/MD585_prep2_thumbnail_mask\"\n",
      "aws s3 cp \"s3://mousebrainatlas-data/CSHL_data_processed/MD585/MD585_prep2_thumbnail_mask/MD585-IHC38-2015.07.16-17.00.35_MD585_2_0113_prep2_thumbnail_mask.png\" \"/shared/CSHL_data_processed/MD585/MD585_prep2_thumbnail_mask/MD585-IHC38-2015.07.16-17.00.35_MD585_2_0113_prep2_thumbnail_mask.png\"\n",
      "aws s3 cp \"/shared/CSHL_SPM/sift_keypoints/MD585/MD585-IHC38-2015.07.16-17.00.35_MD585_2_0113_sift_keypoints.bp\" \"s3://mousebrainatlas-data/CSHL_SPM/sift_keypoints/MD585/MD585-IHC38-2015.07.16-17.00.35_MD585_2_0113_sift_keypoints.bp\"\n"
     ]
    },
    {
     "name": "stdout",
     "output_type": "stream",
     "text": [
      "aws s3 cp \"/shared/CSHL_SPM/sift_descriptors/MD585/MD585-IHC38-2015.07.16-17.00.35_MD585_2_0113_sift_descriptors.bp\" \"s3://mousebrainatlas-data/CSHL_SPM/sift_descriptors/MD585/MD585-IHC38-2015.07.16-17.00.35_MD585_2_0113_sift_descriptors.bp\"\n",
      "rm -rf \"/shared/CSHL_data_processed/MD585/MD585_prep2_lossless_gray/MD585-N38-2015.07.16-22.04.12_MD585_3_0114_prep2_lossless_gray.tif\" && mkdir -p \"/shared/CSHL_data_processed/MD585/MD585_prep2_lossless_gray\"\n",
      "aws s3 cp \"s3://mousebrainatlas-data/CSHL_data_processed/MD585/MD585_prep2_lossless_gray/MD585-N38-2015.07.16-22.04.12_MD585_3_0114_prep2_lossless_gray.tif\" \"/shared/CSHL_data_processed/MD585/MD585_prep2_lossless_gray/MD585-N38-2015.07.16-22.04.12_MD585_3_0114_prep2_lossless_gray.tif\"\n",
      "rm -rf \"/shared/CSHL_data_processed/MD585/MD585_prep2_thumbnail_mask/MD585-N38-2015.07.16-22.04.12_MD585_3_0114_prep2_thumbnail_mask.png\" && mkdir -p \"/shared/CSHL_data_processed/MD585/MD585_prep2_thumbnail_mask\"\n",
      "aws s3 cp \"s3://mousebrainatlas-data/CSHL_data_processed/MD585/MD585_prep2_thumbnail_mask/MD585-N38-2015.07.16-22.04.12_MD585_3_0114_prep2_thumbnail_mask.png\" \"/shared/CSHL_data_processed/MD585/MD585_prep2_thumbnail_mask/MD585-N38-2015.07.16-22.04.12_MD585_3_0114_prep2_thumbnail_mask.png\"\n",
      "aws s3 cp \"/shared/CSHL_SPM/sift_keypoints/MD585/MD585-N38-2015.07.16-22.04.12_MD585_3_0114_sift_keypoints.bp\" \"s3://mousebrainatlas-data/CSHL_SPM/sift_keypoints/MD585/MD585-N38-2015.07.16-22.04.12_MD585_3_0114_sift_keypoints.bp\"\n",
      "aws s3 cp \"/shared/CSHL_SPM/sift_descriptors/MD585/MD585-N38-2015.07.16-22.04.12_MD585_3_0114_sift_descriptors.bp\" \"s3://mousebrainatlas-data/CSHL_SPM/sift_descriptors/MD585/MD585-N38-2015.07.16-22.04.12_MD585_3_0114_sift_descriptors.bp\"\n",
      "rm -rf \"/shared/CSHL_data_processed/MD585/MD585_prep2_lossless_gray/MD585-IHC38-2015.07.16-17.00.35_MD585_3_0114_prep2_lossless_gray.tif\" && mkdir -p \"/shared/CSHL_data_processed/MD585/MD585_prep2_lossless_gray\"\n",
      "aws s3 cp \"s3://mousebrainatlas-data/CSHL_data_processed/MD585/MD585_prep2_lossless_gray/MD585-IHC38-2015.07.16-17.00.35_MD585_3_0114_prep2_lossless_gray.tif\" \"/shared/CSHL_data_processed/MD585/MD585_prep2_lossless_gray/MD585-IHC38-2015.07.16-17.00.35_MD585_3_0114_prep2_lossless_gray.tif\"\n",
      "rm -rf \"/shared/CSHL_data_processed/MD585/MD585_prep2_thumbnail_mask/MD585-IHC38-2015.07.16-17.00.35_MD585_3_0114_prep2_thumbnail_mask.png\" && mkdir -p \"/shared/CSHL_data_processed/MD585/MD585_prep2_thumbnail_mask\"\n",
      "aws s3 cp \"s3://mousebrainatlas-data/CSHL_data_processed/MD585/MD585_prep2_thumbnail_mask/MD585-IHC38-2015.07.16-17.00.35_MD585_3_0114_prep2_thumbnail_mask.png\" \"/shared/CSHL_data_processed/MD585/MD585_prep2_thumbnail_mask/MD585-IHC38-2015.07.16-17.00.35_MD585_3_0114_prep2_thumbnail_mask.png\"\n",
      "aws s3 cp \"/shared/CSHL_SPM/sift_keypoints/MD585/MD585-IHC38-2015.07.16-17.00.35_MD585_3_0114_sift_keypoints.bp\" \"s3://mousebrainatlas-data/CSHL_SPM/sift_keypoints/MD585/MD585-IHC38-2015.07.16-17.00.35_MD585_3_0114_sift_keypoints.bp\"\n",
      "aws s3 cp \"/shared/CSHL_SPM/sift_descriptors/MD585/MD585-IHC38-2015.07.16-17.00.35_MD585_3_0114_sift_descriptors.bp\" \"s3://mousebrainatlas-data/CSHL_SPM/sift_descriptors/MD585/MD585-IHC38-2015.07.16-17.00.35_MD585_3_0114_sift_descriptors.bp\"\n",
      "rm -rf \"/shared/CSHL_data_processed/MD585/MD585_prep2_lossless_gray/MD585-N39-2015.07.16-22.09.19_MD585_1_0115_prep2_lossless_gray.tif\" && mkdir -p \"/shared/CSHL_data_processed/MD585/MD585_prep2_lossless_gray\"\n",
      "aws s3 cp \"s3://mousebrainatlas-data/CSHL_data_processed/MD585/MD585_prep2_lossless_gray/MD585-N39-2015.07.16-22.09.19_MD585_1_0115_prep2_lossless_gray.tif\" \"/shared/CSHL_data_processed/MD585/MD585_prep2_lossless_gray/MD585-N39-2015.07.16-22.09.19_MD585_1_0115_prep2_lossless_gray.tif\"\n",
      "rm -rf \"/shared/CSHL_data_processed/MD585/MD585_prep2_thumbnail_mask/MD585-N39-2015.07.16-22.09.19_MD585_1_0115_prep2_thumbnail_mask.png\" && mkdir -p \"/shared/CSHL_data_processed/MD585/MD585_prep2_thumbnail_mask\"\n",
      "aws s3 cp \"s3://mousebrainatlas-data/CSHL_data_processed/MD585/MD585_prep2_thumbnail_mask/MD585-N39-2015.07.16-22.09.19_MD585_1_0115_prep2_thumbnail_mask.png\" \"/shared/CSHL_data_processed/MD585/MD585_prep2_thumbnail_mask/MD585-N39-2015.07.16-22.09.19_MD585_1_0115_prep2_thumbnail_mask.png\"\n",
      "aws s3 cp \"/shared/CSHL_SPM/sift_keypoints/MD585/MD585-N39-2015.07.16-22.09.19_MD585_1_0115_sift_keypoints.bp\" \"s3://mousebrainatlas-data/CSHL_SPM/sift_keypoints/MD585/MD585-N39-2015.07.16-22.09.19_MD585_1_0115_sift_keypoints.bp\"\n",
      "aws s3 cp \"/shared/CSHL_SPM/sift_descriptors/MD585/MD585-N39-2015.07.16-22.09.19_MD585_1_0115_sift_descriptors.bp\" \"s3://mousebrainatlas-data/CSHL_SPM/sift_descriptors/MD585/MD585-N39-2015.07.16-22.09.19_MD585_1_0115_sift_descriptors.bp\"\n",
      "rm -rf \"/shared/CSHL_data_processed/MD585/MD585_prep2_lossless_gray/MD585-IHC39-2015.08.19-14.10.09_MD585_1_0115_prep2_lossless_gray.tif\" && mkdir -p \"/shared/CSHL_data_processed/MD585/MD585_prep2_lossless_gray\"\n",
      "aws s3 cp \"s3://mousebrainatlas-data/CSHL_data_processed/MD585/MD585_prep2_lossless_gray/MD585-IHC39-2015.08.19-14.10.09_MD585_1_0115_prep2_lossless_gray.tif\" \"/shared/CSHL_data_processed/MD585/MD585_prep2_lossless_gray/MD585-IHC39-2015.08.19-14.10.09_MD585_1_0115_prep2_lossless_gray.tif\"\n",
      "rm -rf \"/shared/CSHL_data_processed/MD585/MD585_prep2_thumbnail_mask/MD585-IHC39-2015.08.19-14.10.09_MD585_1_0115_prep2_thumbnail_mask.png\" && mkdir -p \"/shared/CSHL_data_processed/MD585/MD585_prep2_thumbnail_mask\"\n",
      "aws s3 cp \"s3://mousebrainatlas-data/CSHL_data_processed/MD585/MD585_prep2_thumbnail_mask/MD585-IHC39-2015.08.19-14.10.09_MD585_1_0115_prep2_thumbnail_mask.png\" \"/shared/CSHL_data_processed/MD585/MD585_prep2_thumbnail_mask/MD585-IHC39-2015.08.19-14.10.09_MD585_1_0115_prep2_thumbnail_mask.png\"\n",
      "aws s3 cp \"/shared/CSHL_SPM/sift_keypoints/MD585/MD585-IHC39-2015.08.19-14.10.09_MD585_1_0115_sift_keypoints.bp\" \"s3://mousebrainatlas-data/CSHL_SPM/sift_keypoints/MD585/MD585-IHC39-2015.08.19-14.10.09_MD585_1_0115_sift_keypoints.bp\"\n",
      "aws s3 cp \"/shared/CSHL_SPM/sift_descriptors/MD585/MD585-IHC39-2015.08.19-14.10.09_MD585_1_0115_sift_descriptors.bp\" \"s3://mousebrainatlas-data/CSHL_SPM/sift_descriptors/MD585/MD585-IHC39-2015.08.19-14.10.09_MD585_1_0115_sift_descriptors.bp\"\n",
      "rm -rf \"/shared/CSHL_data_processed/MD585/MD585_prep2_lossless_gray/MD585-N39-2015.07.16-22.09.19_MD585_2_0116_prep2_lossless_gray.tif\" && mkdir -p \"/shared/CSHL_data_processed/MD585/MD585_prep2_lossless_gray\"\n",
      "aws s3 cp \"s3://mousebrainatlas-data/CSHL_data_processed/MD585/MD585_prep2_lossless_gray/MD585-N39-2015.07.16-22.09.19_MD585_2_0116_prep2_lossless_gray.tif\" \"/shared/CSHL_data_processed/MD585/MD585_prep2_lossless_gray/MD585-N39-2015.07.16-22.09.19_MD585_2_0116_prep2_lossless_gray.tif\"\n",
      "rm -rf \"/shared/CSHL_data_processed/MD585/MD585_prep2_thumbnail_mask/MD585-N39-2015.07.16-22.09.19_MD585_2_0116_prep2_thumbnail_mask.png\" && mkdir -p \"/shared/CSHL_data_processed/MD585/MD585_prep2_thumbnail_mask\"\n",
      "aws s3 cp \"s3://mousebrainatlas-data/CSHL_data_processed/MD585/MD585_prep2_thumbnail_mask/MD585-N39-2015.07.16-22.09.19_MD585_2_0116_prep2_thumbnail_mask.png\" \"/shared/CSHL_data_processed/MD585/MD585_prep2_thumbnail_mask/MD585-N39-2015.07.16-22.09.19_MD585_2_0116_prep2_thumbnail_mask.png\"\n",
      "aws s3 cp \"/shared/CSHL_SPM/sift_keypoints/MD585/MD585-N39-2015.07.16-22.09.19_MD585_2_0116_sift_keypoints.bp\" \"s3://mousebrainatlas-data/CSHL_SPM/sift_keypoints/MD585/MD585-N39-2015.07.16-22.09.19_MD585_2_0116_sift_keypoints.bp\"\n",
      "aws s3 cp \"/shared/CSHL_SPM/sift_descriptors/MD585/MD585-N39-2015.07.16-22.09.19_MD585_2_0116_sift_descriptors.bp\" \"s3://mousebrainatlas-data/CSHL_SPM/sift_descriptors/MD585/MD585-N39-2015.07.16-22.09.19_MD585_2_0116_sift_descriptors.bp\"\n",
      "rm -rf \"/shared/CSHL_data_processed/MD585/MD585_prep2_lossless_gray/MD585-IHC39-2015.08.19-14.10.09_MD585_2_0116_prep2_lossless_gray.tif\" && mkdir -p \"/shared/CSHL_data_processed/MD585/MD585_prep2_lossless_gray\"\n",
      "aws s3 cp \"s3://mousebrainatlas-data/CSHL_data_processed/MD585/MD585_prep2_lossless_gray/MD585-IHC39-2015.08.19-14.10.09_MD585_2_0116_prep2_lossless_gray.tif\" \"/shared/CSHL_data_processed/MD585/MD585_prep2_lossless_gray/MD585-IHC39-2015.08.19-14.10.09_MD585_2_0116_prep2_lossless_gray.tif\"\n",
      "rm -rf \"/shared/CSHL_data_processed/MD585/MD585_prep2_thumbnail_mask/MD585-IHC39-2015.08.19-14.10.09_MD585_2_0116_prep2_thumbnail_mask.png\" && mkdir -p \"/shared/CSHL_data_processed/MD585/MD585_prep2_thumbnail_mask\"\n"
     ]
    },
    {
     "name": "stdout",
     "output_type": "stream",
     "text": [
      "aws s3 cp \"s3://mousebrainatlas-data/CSHL_data_processed/MD585/MD585_prep2_thumbnail_mask/MD585-IHC39-2015.08.19-14.10.09_MD585_2_0116_prep2_thumbnail_mask.png\" \"/shared/CSHL_data_processed/MD585/MD585_prep2_thumbnail_mask/MD585-IHC39-2015.08.19-14.10.09_MD585_2_0116_prep2_thumbnail_mask.png\"\n",
      "aws s3 cp \"/shared/CSHL_SPM/sift_keypoints/MD585/MD585-IHC39-2015.08.19-14.10.09_MD585_2_0116_sift_keypoints.bp\" \"s3://mousebrainatlas-data/CSHL_SPM/sift_keypoints/MD585/MD585-IHC39-2015.08.19-14.10.09_MD585_2_0116_sift_keypoints.bp\"\n",
      "aws s3 cp \"/shared/CSHL_SPM/sift_descriptors/MD585/MD585-IHC39-2015.08.19-14.10.09_MD585_2_0116_sift_descriptors.bp\" \"s3://mousebrainatlas-data/CSHL_SPM/sift_descriptors/MD585/MD585-IHC39-2015.08.19-14.10.09_MD585_2_0116_sift_descriptors.bp\"\n",
      "rm -rf \"/shared/CSHL_data_processed/MD585/MD585_prep2_lossless_gray/MD585-N39-2015.07.16-22.09.19_MD585_3_0117_prep2_lossless_gray.tif\" && mkdir -p \"/shared/CSHL_data_processed/MD585/MD585_prep2_lossless_gray\"\n",
      "aws s3 cp \"s3://mousebrainatlas-data/CSHL_data_processed/MD585/MD585_prep2_lossless_gray/MD585-N39-2015.07.16-22.09.19_MD585_3_0117_prep2_lossless_gray.tif\" \"/shared/CSHL_data_processed/MD585/MD585_prep2_lossless_gray/MD585-N39-2015.07.16-22.09.19_MD585_3_0117_prep2_lossless_gray.tif\"\n",
      "rm -rf \"/shared/CSHL_data_processed/MD585/MD585_prep2_thumbnail_mask/MD585-N39-2015.07.16-22.09.19_MD585_3_0117_prep2_thumbnail_mask.png\" && mkdir -p \"/shared/CSHL_data_processed/MD585/MD585_prep2_thumbnail_mask\"\n",
      "aws s3 cp \"s3://mousebrainatlas-data/CSHL_data_processed/MD585/MD585_prep2_thumbnail_mask/MD585-N39-2015.07.16-22.09.19_MD585_3_0117_prep2_thumbnail_mask.png\" \"/shared/CSHL_data_processed/MD585/MD585_prep2_thumbnail_mask/MD585-N39-2015.07.16-22.09.19_MD585_3_0117_prep2_thumbnail_mask.png\"\n",
      "aws s3 cp \"/shared/CSHL_SPM/sift_keypoints/MD585/MD585-N39-2015.07.16-22.09.19_MD585_3_0117_sift_keypoints.bp\" \"s3://mousebrainatlas-data/CSHL_SPM/sift_keypoints/MD585/MD585-N39-2015.07.16-22.09.19_MD585_3_0117_sift_keypoints.bp\"\n",
      "aws s3 cp \"/shared/CSHL_SPM/sift_descriptors/MD585/MD585-N39-2015.07.16-22.09.19_MD585_3_0117_sift_descriptors.bp\" \"s3://mousebrainatlas-data/CSHL_SPM/sift_descriptors/MD585/MD585-N39-2015.07.16-22.09.19_MD585_3_0117_sift_descriptors.bp\"\n",
      "rm -rf \"/shared/CSHL_data_processed/MD585/MD585_prep2_lossless_gray/MD585-IHC39-2015.08.19-14.10.09_MD585_3_0117_prep2_lossless_gray.tif\" && mkdir -p \"/shared/CSHL_data_processed/MD585/MD585_prep2_lossless_gray\"\n",
      "aws s3 cp \"s3://mousebrainatlas-data/CSHL_data_processed/MD585/MD585_prep2_lossless_gray/MD585-IHC39-2015.08.19-14.10.09_MD585_3_0117_prep2_lossless_gray.tif\" \"/shared/CSHL_data_processed/MD585/MD585_prep2_lossless_gray/MD585-IHC39-2015.08.19-14.10.09_MD585_3_0117_prep2_lossless_gray.tif\"\n",
      "rm -rf \"/shared/CSHL_data_processed/MD585/MD585_prep2_thumbnail_mask/MD585-IHC39-2015.08.19-14.10.09_MD585_3_0117_prep2_thumbnail_mask.png\" && mkdir -p \"/shared/CSHL_data_processed/MD585/MD585_prep2_thumbnail_mask\"\n",
      "aws s3 cp \"s3://mousebrainatlas-data/CSHL_data_processed/MD585/MD585_prep2_thumbnail_mask/MD585-IHC39-2015.08.19-14.10.09_MD585_3_0117_prep2_thumbnail_mask.png\" \"/shared/CSHL_data_processed/MD585/MD585_prep2_thumbnail_mask/MD585-IHC39-2015.08.19-14.10.09_MD585_3_0117_prep2_thumbnail_mask.png\"\n",
      "aws s3 cp \"/shared/CSHL_SPM/sift_keypoints/MD585/MD585-IHC39-2015.08.19-14.10.09_MD585_3_0117_sift_keypoints.bp\" \"s3://mousebrainatlas-data/CSHL_SPM/sift_keypoints/MD585/MD585-IHC39-2015.08.19-14.10.09_MD585_3_0117_sift_keypoints.bp\"\n",
      "aws s3 cp \"/shared/CSHL_SPM/sift_descriptors/MD585/MD585-IHC39-2015.08.19-14.10.09_MD585_3_0117_sift_descriptors.bp\" \"s3://mousebrainatlas-data/CSHL_SPM/sift_descriptors/MD585/MD585-IHC39-2015.08.19-14.10.09_MD585_3_0117_sift_descriptors.bp\"\n",
      "rm -rf \"/shared/CSHL_data_processed/MD585/MD585_prep2_lossless_gray/MD585-N40-2015.07.16-22.14.28_MD585_1_0118_prep2_lossless_gray.tif\" && mkdir -p \"/shared/CSHL_data_processed/MD585/MD585_prep2_lossless_gray\"\n",
      "aws s3 cp \"s3://mousebrainatlas-data/CSHL_data_processed/MD585/MD585_prep2_lossless_gray/MD585-N40-2015.07.16-22.14.28_MD585_1_0118_prep2_lossless_gray.tif\" \"/shared/CSHL_data_processed/MD585/MD585_prep2_lossless_gray/MD585-N40-2015.07.16-22.14.28_MD585_1_0118_prep2_lossless_gray.tif\"\n",
      "rm -rf \"/shared/CSHL_data_processed/MD585/MD585_prep2_thumbnail_mask/MD585-N40-2015.07.16-22.14.28_MD585_1_0118_prep2_thumbnail_mask.png\" && mkdir -p \"/shared/CSHL_data_processed/MD585/MD585_prep2_thumbnail_mask\"\n",
      "aws s3 cp \"s3://mousebrainatlas-data/CSHL_data_processed/MD585/MD585_prep2_thumbnail_mask/MD585-N40-2015.07.16-22.14.28_MD585_1_0118_prep2_thumbnail_mask.png\" \"/shared/CSHL_data_processed/MD585/MD585_prep2_thumbnail_mask/MD585-N40-2015.07.16-22.14.28_MD585_1_0118_prep2_thumbnail_mask.png\"\n",
      "aws s3 cp \"/shared/CSHL_SPM/sift_keypoints/MD585/MD585-N40-2015.07.16-22.14.28_MD585_1_0118_sift_keypoints.bp\" \"s3://mousebrainatlas-data/CSHL_SPM/sift_keypoints/MD585/MD585-N40-2015.07.16-22.14.28_MD585_1_0118_sift_keypoints.bp\"\n",
      "aws s3 cp \"/shared/CSHL_SPM/sift_descriptors/MD585/MD585-N40-2015.07.16-22.14.28_MD585_1_0118_sift_descriptors.bp\" \"s3://mousebrainatlas-data/CSHL_SPM/sift_descriptors/MD585/MD585-N40-2015.07.16-22.14.28_MD585_1_0118_sift_descriptors.bp\"\n",
      "rm -rf \"/shared/CSHL_data_processed/MD585/MD585_prep2_lossless_gray/MD585-IHC40-2015.08.19-14.15.44_MD585_1_0118_prep2_lossless_gray.tif\" && mkdir -p \"/shared/CSHL_data_processed/MD585/MD585_prep2_lossless_gray\"\n",
      "aws s3 cp \"s3://mousebrainatlas-data/CSHL_data_processed/MD585/MD585_prep2_lossless_gray/MD585-IHC40-2015.08.19-14.15.44_MD585_1_0118_prep2_lossless_gray.tif\" \"/shared/CSHL_data_processed/MD585/MD585_prep2_lossless_gray/MD585-IHC40-2015.08.19-14.15.44_MD585_1_0118_prep2_lossless_gray.tif\"\n",
      "rm -rf \"/shared/CSHL_data_processed/MD585/MD585_prep2_thumbnail_mask/MD585-IHC40-2015.08.19-14.15.44_MD585_1_0118_prep2_thumbnail_mask.png\" && mkdir -p \"/shared/CSHL_data_processed/MD585/MD585_prep2_thumbnail_mask\"\n",
      "aws s3 cp \"s3://mousebrainatlas-data/CSHL_data_processed/MD585/MD585_prep2_thumbnail_mask/MD585-IHC40-2015.08.19-14.15.44_MD585_1_0118_prep2_thumbnail_mask.png\" \"/shared/CSHL_data_processed/MD585/MD585_prep2_thumbnail_mask/MD585-IHC40-2015.08.19-14.15.44_MD585_1_0118_prep2_thumbnail_mask.png\"\n",
      "aws s3 cp \"/shared/CSHL_SPM/sift_keypoints/MD585/MD585-IHC40-2015.08.19-14.15.44_MD585_1_0118_sift_keypoints.bp\" \"s3://mousebrainatlas-data/CSHL_SPM/sift_keypoints/MD585/MD585-IHC40-2015.08.19-14.15.44_MD585_1_0118_sift_keypoints.bp\"\n",
      "aws s3 cp \"/shared/CSHL_SPM/sift_descriptors/MD585/MD585-IHC40-2015.08.19-14.15.44_MD585_1_0118_sift_descriptors.bp\" \"s3://mousebrainatlas-data/CSHL_SPM/sift_descriptors/MD585/MD585-IHC40-2015.08.19-14.15.44_MD585_1_0118_sift_descriptors.bp\"\n",
      "rm -rf \"/shared/CSHL_data_processed/MD585/MD585_prep2_lossless_gray/MD585-N40-2015.07.16-22.14.28_MD585_2_0119_prep2_lossless_gray.tif\" && mkdir -p \"/shared/CSHL_data_processed/MD585/MD585_prep2_lossless_gray\"\n",
      "aws s3 cp \"s3://mousebrainatlas-data/CSHL_data_processed/MD585/MD585_prep2_lossless_gray/MD585-N40-2015.07.16-22.14.28_MD585_2_0119_prep2_lossless_gray.tif\" \"/shared/CSHL_data_processed/MD585/MD585_prep2_lossless_gray/MD585-N40-2015.07.16-22.14.28_MD585_2_0119_prep2_lossless_gray.tif\"\n",
      "rm -rf \"/shared/CSHL_data_processed/MD585/MD585_prep2_thumbnail_mask/MD585-N40-2015.07.16-22.14.28_MD585_2_0119_prep2_thumbnail_mask.png\" && mkdir -p \"/shared/CSHL_data_processed/MD585/MD585_prep2_thumbnail_mask\"\n",
      "aws s3 cp \"s3://mousebrainatlas-data/CSHL_data_processed/MD585/MD585_prep2_thumbnail_mask/MD585-N40-2015.07.16-22.14.28_MD585_2_0119_prep2_thumbnail_mask.png\" \"/shared/CSHL_data_processed/MD585/MD585_prep2_thumbnail_mask/MD585-N40-2015.07.16-22.14.28_MD585_2_0119_prep2_thumbnail_mask.png\"\n",
      "aws s3 cp \"/shared/CSHL_SPM/sift_keypoints/MD585/MD585-N40-2015.07.16-22.14.28_MD585_2_0119_sift_keypoints.bp\" \"s3://mousebrainatlas-data/CSHL_SPM/sift_keypoints/MD585/MD585-N40-2015.07.16-22.14.28_MD585_2_0119_sift_keypoints.bp\"\n",
      "aws s3 cp \"/shared/CSHL_SPM/sift_descriptors/MD585/MD585-N40-2015.07.16-22.14.28_MD585_2_0119_sift_descriptors.bp\" \"s3://mousebrainatlas-data/CSHL_SPM/sift_descriptors/MD585/MD585-N40-2015.07.16-22.14.28_MD585_2_0119_sift_descriptors.bp\"\n",
      "rm -rf \"/shared/CSHL_data_processed/MD585/MD585_prep2_lossless_gray/MD585-IHC40-2015.08.19-14.15.44_MD585_2_0119_prep2_lossless_gray.tif\" && mkdir -p \"/shared/CSHL_data_processed/MD585/MD585_prep2_lossless_gray\"\n"
     ]
    },
    {
     "name": "stdout",
     "output_type": "stream",
     "text": [
      "aws s3 cp \"s3://mousebrainatlas-data/CSHL_data_processed/MD585/MD585_prep2_lossless_gray/MD585-IHC40-2015.08.19-14.15.44_MD585_2_0119_prep2_lossless_gray.tif\" \"/shared/CSHL_data_processed/MD585/MD585_prep2_lossless_gray/MD585-IHC40-2015.08.19-14.15.44_MD585_2_0119_prep2_lossless_gray.tif\"\n",
      "rm -rf \"/shared/CSHL_data_processed/MD585/MD585_prep2_thumbnail_mask/MD585-IHC40-2015.08.19-14.15.44_MD585_2_0119_prep2_thumbnail_mask.png\" && mkdir -p \"/shared/CSHL_data_processed/MD585/MD585_prep2_thumbnail_mask\"\n",
      "aws s3 cp \"s3://mousebrainatlas-data/CSHL_data_processed/MD585/MD585_prep2_thumbnail_mask/MD585-IHC40-2015.08.19-14.15.44_MD585_2_0119_prep2_thumbnail_mask.png\" \"/shared/CSHL_data_processed/MD585/MD585_prep2_thumbnail_mask/MD585-IHC40-2015.08.19-14.15.44_MD585_2_0119_prep2_thumbnail_mask.png\"\n",
      "aws s3 cp \"/shared/CSHL_SPM/sift_keypoints/MD585/MD585-IHC40-2015.08.19-14.15.44_MD585_2_0119_sift_keypoints.bp\" \"s3://mousebrainatlas-data/CSHL_SPM/sift_keypoints/MD585/MD585-IHC40-2015.08.19-14.15.44_MD585_2_0119_sift_keypoints.bp\"\n",
      "aws s3 cp \"/shared/CSHL_SPM/sift_descriptors/MD585/MD585-IHC40-2015.08.19-14.15.44_MD585_2_0119_sift_descriptors.bp\" \"s3://mousebrainatlas-data/CSHL_SPM/sift_descriptors/MD585/MD585-IHC40-2015.08.19-14.15.44_MD585_2_0119_sift_descriptors.bp\"\n",
      "rm -rf \"/shared/CSHL_data_processed/MD585/MD585_prep2_lossless_gray/MD585-N40-2015.07.16-22.14.28_MD585_3_0120_prep2_lossless_gray.tif\" && mkdir -p \"/shared/CSHL_data_processed/MD585/MD585_prep2_lossless_gray\"\n",
      "aws s3 cp \"s3://mousebrainatlas-data/CSHL_data_processed/MD585/MD585_prep2_lossless_gray/MD585-N40-2015.07.16-22.14.28_MD585_3_0120_prep2_lossless_gray.tif\" \"/shared/CSHL_data_processed/MD585/MD585_prep2_lossless_gray/MD585-N40-2015.07.16-22.14.28_MD585_3_0120_prep2_lossless_gray.tif\"\n",
      "rm -rf \"/shared/CSHL_data_processed/MD585/MD585_prep2_thumbnail_mask/MD585-N40-2015.07.16-22.14.28_MD585_3_0120_prep2_thumbnail_mask.png\" && mkdir -p \"/shared/CSHL_data_processed/MD585/MD585_prep2_thumbnail_mask\"\n",
      "aws s3 cp \"s3://mousebrainatlas-data/CSHL_data_processed/MD585/MD585_prep2_thumbnail_mask/MD585-N40-2015.07.16-22.14.28_MD585_3_0120_prep2_thumbnail_mask.png\" \"/shared/CSHL_data_processed/MD585/MD585_prep2_thumbnail_mask/MD585-N40-2015.07.16-22.14.28_MD585_3_0120_prep2_thumbnail_mask.png\"\n",
      "aws s3 cp \"/shared/CSHL_SPM/sift_keypoints/MD585/MD585-N40-2015.07.16-22.14.28_MD585_3_0120_sift_keypoints.bp\" \"s3://mousebrainatlas-data/CSHL_SPM/sift_keypoints/MD585/MD585-N40-2015.07.16-22.14.28_MD585_3_0120_sift_keypoints.bp\"\n",
      "aws s3 cp \"/shared/CSHL_SPM/sift_descriptors/MD585/MD585-N40-2015.07.16-22.14.28_MD585_3_0120_sift_descriptors.bp\" \"s3://mousebrainatlas-data/CSHL_SPM/sift_descriptors/MD585/MD585-N40-2015.07.16-22.14.28_MD585_3_0120_sift_descriptors.bp\"\n",
      "rm -rf \"/shared/CSHL_data_processed/MD585/MD585_prep2_lossless_gray/MD585-IHC40-2015.08.19-14.15.44_MD585_3_0120_prep2_lossless_gray.tif\" && mkdir -p \"/shared/CSHL_data_processed/MD585/MD585_prep2_lossless_gray\"\n",
      "aws s3 cp \"s3://mousebrainatlas-data/CSHL_data_processed/MD585/MD585_prep2_lossless_gray/MD585-IHC40-2015.08.19-14.15.44_MD585_3_0120_prep2_lossless_gray.tif\" \"/shared/CSHL_data_processed/MD585/MD585_prep2_lossless_gray/MD585-IHC40-2015.08.19-14.15.44_MD585_3_0120_prep2_lossless_gray.tif\"\n",
      "rm -rf \"/shared/CSHL_data_processed/MD585/MD585_prep2_thumbnail_mask/MD585-IHC40-2015.08.19-14.15.44_MD585_3_0120_prep2_thumbnail_mask.png\" && mkdir -p \"/shared/CSHL_data_processed/MD585/MD585_prep2_thumbnail_mask\"\n",
      "aws s3 cp \"s3://mousebrainatlas-data/CSHL_data_processed/MD585/MD585_prep2_thumbnail_mask/MD585-IHC40-2015.08.19-14.15.44_MD585_3_0120_prep2_thumbnail_mask.png\" \"/shared/CSHL_data_processed/MD585/MD585_prep2_thumbnail_mask/MD585-IHC40-2015.08.19-14.15.44_MD585_3_0120_prep2_thumbnail_mask.png\"\n",
      "aws s3 cp \"/shared/CSHL_SPM/sift_keypoints/MD585/MD585-IHC40-2015.08.19-14.15.44_MD585_3_0120_sift_keypoints.bp\" \"s3://mousebrainatlas-data/CSHL_SPM/sift_keypoints/MD585/MD585-IHC40-2015.08.19-14.15.44_MD585_3_0120_sift_keypoints.bp\"\n",
      "aws s3 cp \"/shared/CSHL_SPM/sift_descriptors/MD585/MD585-IHC40-2015.08.19-14.15.44_MD585_3_0120_sift_descriptors.bp\" \"s3://mousebrainatlas-data/CSHL_SPM/sift_descriptors/MD585/MD585-IHC40-2015.08.19-14.15.44_MD585_3_0120_sift_descriptors.bp\"\n",
      "rm -rf \"/shared/CSHL_data_processed/MD585/MD585_prep2_lossless_gray/MD585-N41-2015.07.16-22.19.30_MD585_1_0121_prep2_lossless_gray.tif\" && mkdir -p \"/shared/CSHL_data_processed/MD585/MD585_prep2_lossless_gray\"\n",
      "aws s3 cp \"s3://mousebrainatlas-data/CSHL_data_processed/MD585/MD585_prep2_lossless_gray/MD585-N41-2015.07.16-22.19.30_MD585_1_0121_prep2_lossless_gray.tif\" \"/shared/CSHL_data_processed/MD585/MD585_prep2_lossless_gray/MD585-N41-2015.07.16-22.19.30_MD585_1_0121_prep2_lossless_gray.tif\"\n",
      "rm -rf \"/shared/CSHL_data_processed/MD585/MD585_prep2_thumbnail_mask/MD585-N41-2015.07.16-22.19.30_MD585_1_0121_prep2_thumbnail_mask.png\" && mkdir -p \"/shared/CSHL_data_processed/MD585/MD585_prep2_thumbnail_mask\"\n",
      "aws s3 cp \"s3://mousebrainatlas-data/CSHL_data_processed/MD585/MD585_prep2_thumbnail_mask/MD585-N41-2015.07.16-22.19.30_MD585_1_0121_prep2_thumbnail_mask.png\" \"/shared/CSHL_data_processed/MD585/MD585_prep2_thumbnail_mask/MD585-N41-2015.07.16-22.19.30_MD585_1_0121_prep2_thumbnail_mask.png\"\n",
      "aws s3 cp \"/shared/CSHL_SPM/sift_keypoints/MD585/MD585-N41-2015.07.16-22.19.30_MD585_1_0121_sift_keypoints.bp\" \"s3://mousebrainatlas-data/CSHL_SPM/sift_keypoints/MD585/MD585-N41-2015.07.16-22.19.30_MD585_1_0121_sift_keypoints.bp\"\n",
      "aws s3 cp \"/shared/CSHL_SPM/sift_descriptors/MD585/MD585-N41-2015.07.16-22.19.30_MD585_1_0121_sift_descriptors.bp\" \"s3://mousebrainatlas-data/CSHL_SPM/sift_descriptors/MD585/MD585-N41-2015.07.16-22.19.30_MD585_1_0121_sift_descriptors.bp\"\n",
      "rm -rf \"/shared/CSHL_data_processed/MD585/MD585_prep2_lossless_gray/MD585-IHC41-2015.08.19-14.21.09_MD585_1_0121_prep2_lossless_gray.tif\" && mkdir -p \"/shared/CSHL_data_processed/MD585/MD585_prep2_lossless_gray\"\n",
      "aws s3 cp \"s3://mousebrainatlas-data/CSHL_data_processed/MD585/MD585_prep2_lossless_gray/MD585-IHC41-2015.08.19-14.21.09_MD585_1_0121_prep2_lossless_gray.tif\" \"/shared/CSHL_data_processed/MD585/MD585_prep2_lossless_gray/MD585-IHC41-2015.08.19-14.21.09_MD585_1_0121_prep2_lossless_gray.tif\"\n",
      "rm -rf \"/shared/CSHL_data_processed/MD585/MD585_prep2_thumbnail_mask/MD585-IHC41-2015.08.19-14.21.09_MD585_1_0121_prep2_thumbnail_mask.png\" && mkdir -p \"/shared/CSHL_data_processed/MD585/MD585_prep2_thumbnail_mask\"\n",
      "aws s3 cp \"s3://mousebrainatlas-data/CSHL_data_processed/MD585/MD585_prep2_thumbnail_mask/MD585-IHC41-2015.08.19-14.21.09_MD585_1_0121_prep2_thumbnail_mask.png\" \"/shared/CSHL_data_processed/MD585/MD585_prep2_thumbnail_mask/MD585-IHC41-2015.08.19-14.21.09_MD585_1_0121_prep2_thumbnail_mask.png\"\n",
      "aws s3 cp \"/shared/CSHL_SPM/sift_keypoints/MD585/MD585-IHC41-2015.08.19-14.21.09_MD585_1_0121_sift_keypoints.bp\" \"s3://mousebrainatlas-data/CSHL_SPM/sift_keypoints/MD585/MD585-IHC41-2015.08.19-14.21.09_MD585_1_0121_sift_keypoints.bp\"\n",
      "aws s3 cp \"/shared/CSHL_SPM/sift_descriptors/MD585/MD585-IHC41-2015.08.19-14.21.09_MD585_1_0121_sift_descriptors.bp\" \"s3://mousebrainatlas-data/CSHL_SPM/sift_descriptors/MD585/MD585-IHC41-2015.08.19-14.21.09_MD585_1_0121_sift_descriptors.bp\"\n",
      "rm -rf \"/shared/CSHL_data_processed/MD585/MD585_prep2_lossless_gray/MD585-N41-2015.07.16-22.19.30_MD585_2_0122_prep2_lossless_gray.tif\" && mkdir -p \"/shared/CSHL_data_processed/MD585/MD585_prep2_lossless_gray\"\n",
      "aws s3 cp \"s3://mousebrainatlas-data/CSHL_data_processed/MD585/MD585_prep2_lossless_gray/MD585-N41-2015.07.16-22.19.30_MD585_2_0122_prep2_lossless_gray.tif\" \"/shared/CSHL_data_processed/MD585/MD585_prep2_lossless_gray/MD585-N41-2015.07.16-22.19.30_MD585_2_0122_prep2_lossless_gray.tif\"\n",
      "rm -rf \"/shared/CSHL_data_processed/MD585/MD585_prep2_thumbnail_mask/MD585-N41-2015.07.16-22.19.30_MD585_2_0122_prep2_thumbnail_mask.png\" && mkdir -p \"/shared/CSHL_data_processed/MD585/MD585_prep2_thumbnail_mask\"\n",
      "aws s3 cp \"s3://mousebrainatlas-data/CSHL_data_processed/MD585/MD585_prep2_thumbnail_mask/MD585-N41-2015.07.16-22.19.30_MD585_2_0122_prep2_thumbnail_mask.png\" \"/shared/CSHL_data_processed/MD585/MD585_prep2_thumbnail_mask/MD585-N41-2015.07.16-22.19.30_MD585_2_0122_prep2_thumbnail_mask.png\"\n",
      "aws s3 cp \"/shared/CSHL_SPM/sift_keypoints/MD585/MD585-N41-2015.07.16-22.19.30_MD585_2_0122_sift_keypoints.bp\" \"s3://mousebrainatlas-data/CSHL_SPM/sift_keypoints/MD585/MD585-N41-2015.07.16-22.19.30_MD585_2_0122_sift_keypoints.bp\"\n"
     ]
    },
    {
     "name": "stdout",
     "output_type": "stream",
     "text": [
      "aws s3 cp \"/shared/CSHL_SPM/sift_descriptors/MD585/MD585-N41-2015.07.16-22.19.30_MD585_2_0122_sift_descriptors.bp\" \"s3://mousebrainatlas-data/CSHL_SPM/sift_descriptors/MD585/MD585-N41-2015.07.16-22.19.30_MD585_2_0122_sift_descriptors.bp\"\n",
      "rm -rf \"/shared/CSHL_data_processed/MD585/MD585_prep2_lossless_gray/MD585-IHC41-2015.08.19-14.21.09_MD585_2_0122_prep2_lossless_gray.tif\" && mkdir -p \"/shared/CSHL_data_processed/MD585/MD585_prep2_lossless_gray\"\n",
      "aws s3 cp \"s3://mousebrainatlas-data/CSHL_data_processed/MD585/MD585_prep2_lossless_gray/MD585-IHC41-2015.08.19-14.21.09_MD585_2_0122_prep2_lossless_gray.tif\" \"/shared/CSHL_data_processed/MD585/MD585_prep2_lossless_gray/MD585-IHC41-2015.08.19-14.21.09_MD585_2_0122_prep2_lossless_gray.tif\"\n",
      "rm -rf \"/shared/CSHL_data_processed/MD585/MD585_prep2_thumbnail_mask/MD585-IHC41-2015.08.19-14.21.09_MD585_2_0122_prep2_thumbnail_mask.png\" && mkdir -p \"/shared/CSHL_data_processed/MD585/MD585_prep2_thumbnail_mask\"\n",
      "aws s3 cp \"s3://mousebrainatlas-data/CSHL_data_processed/MD585/MD585_prep2_thumbnail_mask/MD585-IHC41-2015.08.19-14.21.09_MD585_2_0122_prep2_thumbnail_mask.png\" \"/shared/CSHL_data_processed/MD585/MD585_prep2_thumbnail_mask/MD585-IHC41-2015.08.19-14.21.09_MD585_2_0122_prep2_thumbnail_mask.png\"\n",
      "aws s3 cp \"/shared/CSHL_SPM/sift_keypoints/MD585/MD585-IHC41-2015.08.19-14.21.09_MD585_2_0122_sift_keypoints.bp\" \"s3://mousebrainatlas-data/CSHL_SPM/sift_keypoints/MD585/MD585-IHC41-2015.08.19-14.21.09_MD585_2_0122_sift_keypoints.bp\"\n",
      "aws s3 cp \"/shared/CSHL_SPM/sift_descriptors/MD585/MD585-IHC41-2015.08.19-14.21.09_MD585_2_0122_sift_descriptors.bp\" \"s3://mousebrainatlas-data/CSHL_SPM/sift_descriptors/MD585/MD585-IHC41-2015.08.19-14.21.09_MD585_2_0122_sift_descriptors.bp\"\n",
      "rm -rf \"/shared/CSHL_data_processed/MD585/MD585_prep2_lossless_gray/MD585-N41-2015.07.16-22.19.30_MD585_3_0123_prep2_lossless_gray.tif\" && mkdir -p \"/shared/CSHL_data_processed/MD585/MD585_prep2_lossless_gray\"\n",
      "aws s3 cp \"s3://mousebrainatlas-data/CSHL_data_processed/MD585/MD585_prep2_lossless_gray/MD585-N41-2015.07.16-22.19.30_MD585_3_0123_prep2_lossless_gray.tif\" \"/shared/CSHL_data_processed/MD585/MD585_prep2_lossless_gray/MD585-N41-2015.07.16-22.19.30_MD585_3_0123_prep2_lossless_gray.tif\"\n",
      "rm -rf \"/shared/CSHL_data_processed/MD585/MD585_prep2_thumbnail_mask/MD585-N41-2015.07.16-22.19.30_MD585_3_0123_prep2_thumbnail_mask.png\" && mkdir -p \"/shared/CSHL_data_processed/MD585/MD585_prep2_thumbnail_mask\"\n",
      "aws s3 cp \"s3://mousebrainatlas-data/CSHL_data_processed/MD585/MD585_prep2_thumbnail_mask/MD585-N41-2015.07.16-22.19.30_MD585_3_0123_prep2_thumbnail_mask.png\" \"/shared/CSHL_data_processed/MD585/MD585_prep2_thumbnail_mask/MD585-N41-2015.07.16-22.19.30_MD585_3_0123_prep2_thumbnail_mask.png\"\n",
      "aws s3 cp \"/shared/CSHL_SPM/sift_keypoints/MD585/MD585-N41-2015.07.16-22.19.30_MD585_3_0123_sift_keypoints.bp\" \"s3://mousebrainatlas-data/CSHL_SPM/sift_keypoints/MD585/MD585-N41-2015.07.16-22.19.30_MD585_3_0123_sift_keypoints.bp\"\n",
      "aws s3 cp \"/shared/CSHL_SPM/sift_descriptors/MD585/MD585-N41-2015.07.16-22.19.30_MD585_3_0123_sift_descriptors.bp\" \"s3://mousebrainatlas-data/CSHL_SPM/sift_descriptors/MD585/MD585-N41-2015.07.16-22.19.30_MD585_3_0123_sift_descriptors.bp\"\n",
      "rm -rf \"/shared/CSHL_data_processed/MD585/MD585_prep2_lossless_gray/MD585-IHC41-2015.08.19-14.21.09_MD585_3_0123_prep2_lossless_gray.tif\" && mkdir -p \"/shared/CSHL_data_processed/MD585/MD585_prep2_lossless_gray\"\n",
      "aws s3 cp \"s3://mousebrainatlas-data/CSHL_data_processed/MD585/MD585_prep2_lossless_gray/MD585-IHC41-2015.08.19-14.21.09_MD585_3_0123_prep2_lossless_gray.tif\" \"/shared/CSHL_data_processed/MD585/MD585_prep2_lossless_gray/MD585-IHC41-2015.08.19-14.21.09_MD585_3_0123_prep2_lossless_gray.tif\"\n",
      "rm -rf \"/shared/CSHL_data_processed/MD585/MD585_prep2_thumbnail_mask/MD585-IHC41-2015.08.19-14.21.09_MD585_3_0123_prep2_thumbnail_mask.png\" && mkdir -p \"/shared/CSHL_data_processed/MD585/MD585_prep2_thumbnail_mask\"\n",
      "aws s3 cp \"s3://mousebrainatlas-data/CSHL_data_processed/MD585/MD585_prep2_thumbnail_mask/MD585-IHC41-2015.08.19-14.21.09_MD585_3_0123_prep2_thumbnail_mask.png\" \"/shared/CSHL_data_processed/MD585/MD585_prep2_thumbnail_mask/MD585-IHC41-2015.08.19-14.21.09_MD585_3_0123_prep2_thumbnail_mask.png\"\n",
      "aws s3 cp \"/shared/CSHL_SPM/sift_keypoints/MD585/MD585-IHC41-2015.08.19-14.21.09_MD585_3_0123_sift_keypoints.bp\" \"s3://mousebrainatlas-data/CSHL_SPM/sift_keypoints/MD585/MD585-IHC41-2015.08.19-14.21.09_MD585_3_0123_sift_keypoints.bp\"\n",
      "aws s3 cp \"/shared/CSHL_SPM/sift_descriptors/MD585/MD585-IHC41-2015.08.19-14.21.09_MD585_3_0123_sift_descriptors.bp\" \"s3://mousebrainatlas-data/CSHL_SPM/sift_descriptors/MD585/MD585-IHC41-2015.08.19-14.21.09_MD585_3_0123_sift_descriptors.bp\"\n",
      "rm -rf \"/shared/CSHL_data_processed/MD585/MD585_prep2_lossless_gray/MD585-N42-2015.07.16-22.24.42_MD585_1_0124_prep2_lossless_gray.tif\" && mkdir -p \"/shared/CSHL_data_processed/MD585/MD585_prep2_lossless_gray\"\n",
      "aws s3 cp \"s3://mousebrainatlas-data/CSHL_data_processed/MD585/MD585_prep2_lossless_gray/MD585-N42-2015.07.16-22.24.42_MD585_1_0124_prep2_lossless_gray.tif\" \"/shared/CSHL_data_processed/MD585/MD585_prep2_lossless_gray/MD585-N42-2015.07.16-22.24.42_MD585_1_0124_prep2_lossless_gray.tif\"\n",
      "rm -rf \"/shared/CSHL_data_processed/MD585/MD585_prep2_thumbnail_mask/MD585-N42-2015.07.16-22.24.42_MD585_1_0124_prep2_thumbnail_mask.png\" && mkdir -p \"/shared/CSHL_data_processed/MD585/MD585_prep2_thumbnail_mask\"\n",
      "aws s3 cp \"s3://mousebrainatlas-data/CSHL_data_processed/MD585/MD585_prep2_thumbnail_mask/MD585-N42-2015.07.16-22.24.42_MD585_1_0124_prep2_thumbnail_mask.png\" \"/shared/CSHL_data_processed/MD585/MD585_prep2_thumbnail_mask/MD585-N42-2015.07.16-22.24.42_MD585_1_0124_prep2_thumbnail_mask.png\"\n",
      "aws s3 cp \"/shared/CSHL_SPM/sift_keypoints/MD585/MD585-N42-2015.07.16-22.24.42_MD585_1_0124_sift_keypoints.bp\" \"s3://mousebrainatlas-data/CSHL_SPM/sift_keypoints/MD585/MD585-N42-2015.07.16-22.24.42_MD585_1_0124_sift_keypoints.bp\"\n",
      "aws s3 cp \"/shared/CSHL_SPM/sift_descriptors/MD585/MD585-N42-2015.07.16-22.24.42_MD585_1_0124_sift_descriptors.bp\" \"s3://mousebrainatlas-data/CSHL_SPM/sift_descriptors/MD585/MD585-N42-2015.07.16-22.24.42_MD585_1_0124_sift_descriptors.bp\"\n",
      "rm -rf \"/shared/CSHL_data_processed/MD585/MD585_prep2_lossless_gray/MD585-IHC42-2015.08.19-14.26.30_MD585_1_0124_prep2_lossless_gray.tif\" && mkdir -p \"/shared/CSHL_data_processed/MD585/MD585_prep2_lossless_gray\"\n",
      "aws s3 cp \"s3://mousebrainatlas-data/CSHL_data_processed/MD585/MD585_prep2_lossless_gray/MD585-IHC42-2015.08.19-14.26.30_MD585_1_0124_prep2_lossless_gray.tif\" \"/shared/CSHL_data_processed/MD585/MD585_prep2_lossless_gray/MD585-IHC42-2015.08.19-14.26.30_MD585_1_0124_prep2_lossless_gray.tif\"\n",
      "rm -rf \"/shared/CSHL_data_processed/MD585/MD585_prep2_thumbnail_mask/MD585-IHC42-2015.08.19-14.26.30_MD585_1_0124_prep2_thumbnail_mask.png\" && mkdir -p \"/shared/CSHL_data_processed/MD585/MD585_prep2_thumbnail_mask\"\n",
      "aws s3 cp \"s3://mousebrainatlas-data/CSHL_data_processed/MD585/MD585_prep2_thumbnail_mask/MD585-IHC42-2015.08.19-14.26.30_MD585_1_0124_prep2_thumbnail_mask.png\" \"/shared/CSHL_data_processed/MD585/MD585_prep2_thumbnail_mask/MD585-IHC42-2015.08.19-14.26.30_MD585_1_0124_prep2_thumbnail_mask.png\"\n",
      "aws s3 cp \"/shared/CSHL_SPM/sift_keypoints/MD585/MD585-IHC42-2015.08.19-14.26.30_MD585_1_0124_sift_keypoints.bp\" \"s3://mousebrainatlas-data/CSHL_SPM/sift_keypoints/MD585/MD585-IHC42-2015.08.19-14.26.30_MD585_1_0124_sift_keypoints.bp\"\n",
      "aws s3 cp \"/shared/CSHL_SPM/sift_descriptors/MD585/MD585-IHC42-2015.08.19-14.26.30_MD585_1_0124_sift_descriptors.bp\" \"s3://mousebrainatlas-data/CSHL_SPM/sift_descriptors/MD585/MD585-IHC42-2015.08.19-14.26.30_MD585_1_0124_sift_descriptors.bp\"\n",
      "rm -rf \"/shared/CSHL_data_processed/MD585/MD585_prep2_lossless_gray/MD585-N42-2015.07.16-22.24.42_MD585_2_0125_prep2_lossless_gray.tif\" && mkdir -p \"/shared/CSHL_data_processed/MD585/MD585_prep2_lossless_gray\"\n",
      "aws s3 cp \"s3://mousebrainatlas-data/CSHL_data_processed/MD585/MD585_prep2_lossless_gray/MD585-N42-2015.07.16-22.24.42_MD585_2_0125_prep2_lossless_gray.tif\" \"/shared/CSHL_data_processed/MD585/MD585_prep2_lossless_gray/MD585-N42-2015.07.16-22.24.42_MD585_2_0125_prep2_lossless_gray.tif\"\n",
      "rm -rf \"/shared/CSHL_data_processed/MD585/MD585_prep2_thumbnail_mask/MD585-N42-2015.07.16-22.24.42_MD585_2_0125_prep2_thumbnail_mask.png\" && mkdir -p \"/shared/CSHL_data_processed/MD585/MD585_prep2_thumbnail_mask\"\n"
     ]
    },
    {
     "name": "stdout",
     "output_type": "stream",
     "text": [
      "aws s3 cp \"s3://mousebrainatlas-data/CSHL_data_processed/MD585/MD585_prep2_thumbnail_mask/MD585-N42-2015.07.16-22.24.42_MD585_2_0125_prep2_thumbnail_mask.png\" \"/shared/CSHL_data_processed/MD585/MD585_prep2_thumbnail_mask/MD585-N42-2015.07.16-22.24.42_MD585_2_0125_prep2_thumbnail_mask.png\"\n",
      "aws s3 cp \"/shared/CSHL_SPM/sift_keypoints/MD585/MD585-N42-2015.07.16-22.24.42_MD585_2_0125_sift_keypoints.bp\" \"s3://mousebrainatlas-data/CSHL_SPM/sift_keypoints/MD585/MD585-N42-2015.07.16-22.24.42_MD585_2_0125_sift_keypoints.bp\"\n",
      "aws s3 cp \"/shared/CSHL_SPM/sift_descriptors/MD585/MD585-N42-2015.07.16-22.24.42_MD585_2_0125_sift_descriptors.bp\" \"s3://mousebrainatlas-data/CSHL_SPM/sift_descriptors/MD585/MD585-N42-2015.07.16-22.24.42_MD585_2_0125_sift_descriptors.bp\"\n",
      "rm -rf \"/shared/CSHL_data_processed/MD585/MD585_prep2_lossless_gray/MD585-IHC42-2015.08.19-14.26.30_MD585_2_0125_prep2_lossless_gray.tif\" && mkdir -p \"/shared/CSHL_data_processed/MD585/MD585_prep2_lossless_gray\"\n",
      "aws s3 cp \"s3://mousebrainatlas-data/CSHL_data_processed/MD585/MD585_prep2_lossless_gray/MD585-IHC42-2015.08.19-14.26.30_MD585_2_0125_prep2_lossless_gray.tif\" \"/shared/CSHL_data_processed/MD585/MD585_prep2_lossless_gray/MD585-IHC42-2015.08.19-14.26.30_MD585_2_0125_prep2_lossless_gray.tif\"\n",
      "rm -rf \"/shared/CSHL_data_processed/MD585/MD585_prep2_thumbnail_mask/MD585-IHC42-2015.08.19-14.26.30_MD585_2_0125_prep2_thumbnail_mask.png\" && mkdir -p \"/shared/CSHL_data_processed/MD585/MD585_prep2_thumbnail_mask\"\n",
      "aws s3 cp \"s3://mousebrainatlas-data/CSHL_data_processed/MD585/MD585_prep2_thumbnail_mask/MD585-IHC42-2015.08.19-14.26.30_MD585_2_0125_prep2_thumbnail_mask.png\" \"/shared/CSHL_data_processed/MD585/MD585_prep2_thumbnail_mask/MD585-IHC42-2015.08.19-14.26.30_MD585_2_0125_prep2_thumbnail_mask.png\"\n",
      "aws s3 cp \"/shared/CSHL_SPM/sift_keypoints/MD585/MD585-IHC42-2015.08.19-14.26.30_MD585_2_0125_sift_keypoints.bp\" \"s3://mousebrainatlas-data/CSHL_SPM/sift_keypoints/MD585/MD585-IHC42-2015.08.19-14.26.30_MD585_2_0125_sift_keypoints.bp\"\n",
      "aws s3 cp \"/shared/CSHL_SPM/sift_descriptors/MD585/MD585-IHC42-2015.08.19-14.26.30_MD585_2_0125_sift_descriptors.bp\" \"s3://mousebrainatlas-data/CSHL_SPM/sift_descriptors/MD585/MD585-IHC42-2015.08.19-14.26.30_MD585_2_0125_sift_descriptors.bp\"\n",
      "rm -rf \"/shared/CSHL_data_processed/MD585/MD585_prep2_lossless_gray/MD585-N42-2015.07.16-22.24.42_MD585_3_0126_prep2_lossless_gray.tif\" && mkdir -p \"/shared/CSHL_data_processed/MD585/MD585_prep2_lossless_gray\"\n",
      "aws s3 cp \"s3://mousebrainatlas-data/CSHL_data_processed/MD585/MD585_prep2_lossless_gray/MD585-N42-2015.07.16-22.24.42_MD585_3_0126_prep2_lossless_gray.tif\" \"/shared/CSHL_data_processed/MD585/MD585_prep2_lossless_gray/MD585-N42-2015.07.16-22.24.42_MD585_3_0126_prep2_lossless_gray.tif\"\n",
      "rm -rf \"/shared/CSHL_data_processed/MD585/MD585_prep2_thumbnail_mask/MD585-N42-2015.07.16-22.24.42_MD585_3_0126_prep2_thumbnail_mask.png\" && mkdir -p \"/shared/CSHL_data_processed/MD585/MD585_prep2_thumbnail_mask\"\n",
      "aws s3 cp \"s3://mousebrainatlas-data/CSHL_data_processed/MD585/MD585_prep2_thumbnail_mask/MD585-N42-2015.07.16-22.24.42_MD585_3_0126_prep2_thumbnail_mask.png\" \"/shared/CSHL_data_processed/MD585/MD585_prep2_thumbnail_mask/MD585-N42-2015.07.16-22.24.42_MD585_3_0126_prep2_thumbnail_mask.png\"\n",
      "aws s3 cp \"/shared/CSHL_SPM/sift_keypoints/MD585/MD585-N42-2015.07.16-22.24.42_MD585_3_0126_sift_keypoints.bp\" \"s3://mousebrainatlas-data/CSHL_SPM/sift_keypoints/MD585/MD585-N42-2015.07.16-22.24.42_MD585_3_0126_sift_keypoints.bp\"\n",
      "aws s3 cp \"/shared/CSHL_SPM/sift_descriptors/MD585/MD585-N42-2015.07.16-22.24.42_MD585_3_0126_sift_descriptors.bp\" \"s3://mousebrainatlas-data/CSHL_SPM/sift_descriptors/MD585/MD585-N42-2015.07.16-22.24.42_MD585_3_0126_sift_descriptors.bp\"\n",
      "rm -rf \"/shared/CSHL_data_processed/MD585/MD585_prep2_lossless_gray/MD585-IHC42-2015.08.19-14.26.30_MD585_3_0126_prep2_lossless_gray.tif\" && mkdir -p \"/shared/CSHL_data_processed/MD585/MD585_prep2_lossless_gray\"\n",
      "aws s3 cp \"s3://mousebrainatlas-data/CSHL_data_processed/MD585/MD585_prep2_lossless_gray/MD585-IHC42-2015.08.19-14.26.30_MD585_3_0126_prep2_lossless_gray.tif\" \"/shared/CSHL_data_processed/MD585/MD585_prep2_lossless_gray/MD585-IHC42-2015.08.19-14.26.30_MD585_3_0126_prep2_lossless_gray.tif\"\n",
      "rm -rf \"/shared/CSHL_data_processed/MD585/MD585_prep2_thumbnail_mask/MD585-IHC42-2015.08.19-14.26.30_MD585_3_0126_prep2_thumbnail_mask.png\" && mkdir -p \"/shared/CSHL_data_processed/MD585/MD585_prep2_thumbnail_mask\"\n",
      "aws s3 cp \"s3://mousebrainatlas-data/CSHL_data_processed/MD585/MD585_prep2_thumbnail_mask/MD585-IHC42-2015.08.19-14.26.30_MD585_3_0126_prep2_thumbnail_mask.png\" \"/shared/CSHL_data_processed/MD585/MD585_prep2_thumbnail_mask/MD585-IHC42-2015.08.19-14.26.30_MD585_3_0126_prep2_thumbnail_mask.png\"\n",
      "aws s3 cp \"/shared/CSHL_SPM/sift_keypoints/MD585/MD585-IHC42-2015.08.19-14.26.30_MD585_3_0126_sift_keypoints.bp\" \"s3://mousebrainatlas-data/CSHL_SPM/sift_keypoints/MD585/MD585-IHC42-2015.08.19-14.26.30_MD585_3_0126_sift_keypoints.bp\"\n",
      "aws s3 cp \"/shared/CSHL_SPM/sift_descriptors/MD585/MD585-IHC42-2015.08.19-14.26.30_MD585_3_0126_sift_descriptors.bp\" \"s3://mousebrainatlas-data/CSHL_SPM/sift_descriptors/MD585/MD585-IHC42-2015.08.19-14.26.30_MD585_3_0126_sift_descriptors.bp\"\n",
      "rm -rf \"/shared/CSHL_data_processed/MD585/MD585_prep2_lossless_gray/MD585-N43-2015.07.16-22.29.50_MD585_1_0127_prep2_lossless_gray.tif\" && mkdir -p \"/shared/CSHL_data_processed/MD585/MD585_prep2_lossless_gray\"\n",
      "aws s3 cp \"s3://mousebrainatlas-data/CSHL_data_processed/MD585/MD585_prep2_lossless_gray/MD585-N43-2015.07.16-22.29.50_MD585_1_0127_prep2_lossless_gray.tif\" \"/shared/CSHL_data_processed/MD585/MD585_prep2_lossless_gray/MD585-N43-2015.07.16-22.29.50_MD585_1_0127_prep2_lossless_gray.tif\"\n",
      "rm -rf \"/shared/CSHL_data_processed/MD585/MD585_prep2_thumbnail_mask/MD585-N43-2015.07.16-22.29.50_MD585_1_0127_prep2_thumbnail_mask.png\" && mkdir -p \"/shared/CSHL_data_processed/MD585/MD585_prep2_thumbnail_mask\"\n",
      "aws s3 cp \"s3://mousebrainatlas-data/CSHL_data_processed/MD585/MD585_prep2_thumbnail_mask/MD585-N43-2015.07.16-22.29.50_MD585_1_0127_prep2_thumbnail_mask.png\" \"/shared/CSHL_data_processed/MD585/MD585_prep2_thumbnail_mask/MD585-N43-2015.07.16-22.29.50_MD585_1_0127_prep2_thumbnail_mask.png\"\n",
      "aws s3 cp \"/shared/CSHL_SPM/sift_keypoints/MD585/MD585-N43-2015.07.16-22.29.50_MD585_1_0127_sift_keypoints.bp\" \"s3://mousebrainatlas-data/CSHL_SPM/sift_keypoints/MD585/MD585-N43-2015.07.16-22.29.50_MD585_1_0127_sift_keypoints.bp\"\n",
      "aws s3 cp \"/shared/CSHL_SPM/sift_descriptors/MD585/MD585-N43-2015.07.16-22.29.50_MD585_1_0127_sift_descriptors.bp\" \"s3://mousebrainatlas-data/CSHL_SPM/sift_descriptors/MD585/MD585-N43-2015.07.16-22.29.50_MD585_1_0127_sift_descriptors.bp\"\n",
      "rm -rf \"/shared/CSHL_data_processed/MD585/MD585_prep2_lossless_gray/MD585-IHC43-2015.08.19-14.32.02_MD585_1_0127_prep2_lossless_gray.tif\" && mkdir -p \"/shared/CSHL_data_processed/MD585/MD585_prep2_lossless_gray\"\n",
      "aws s3 cp \"s3://mousebrainatlas-data/CSHL_data_processed/MD585/MD585_prep2_lossless_gray/MD585-IHC43-2015.08.19-14.32.02_MD585_1_0127_prep2_lossless_gray.tif\" \"/shared/CSHL_data_processed/MD585/MD585_prep2_lossless_gray/MD585-IHC43-2015.08.19-14.32.02_MD585_1_0127_prep2_lossless_gray.tif\"\n",
      "rm -rf \"/shared/CSHL_data_processed/MD585/MD585_prep2_thumbnail_mask/MD585-IHC43-2015.08.19-14.32.02_MD585_1_0127_prep2_thumbnail_mask.png\" && mkdir -p \"/shared/CSHL_data_processed/MD585/MD585_prep2_thumbnail_mask\"\n",
      "aws s3 cp \"s3://mousebrainatlas-data/CSHL_data_processed/MD585/MD585_prep2_thumbnail_mask/MD585-IHC43-2015.08.19-14.32.02_MD585_1_0127_prep2_thumbnail_mask.png\" \"/shared/CSHL_data_processed/MD585/MD585_prep2_thumbnail_mask/MD585-IHC43-2015.08.19-14.32.02_MD585_1_0127_prep2_thumbnail_mask.png\"\n",
      "aws s3 cp \"/shared/CSHL_SPM/sift_keypoints/MD585/MD585-IHC43-2015.08.19-14.32.02_MD585_1_0127_sift_keypoints.bp\" \"s3://mousebrainatlas-data/CSHL_SPM/sift_keypoints/MD585/MD585-IHC43-2015.08.19-14.32.02_MD585_1_0127_sift_keypoints.bp\"\n",
      "aws s3 cp \"/shared/CSHL_SPM/sift_descriptors/MD585/MD585-IHC43-2015.08.19-14.32.02_MD585_1_0127_sift_descriptors.bp\" \"s3://mousebrainatlas-data/CSHL_SPM/sift_descriptors/MD585/MD585-IHC43-2015.08.19-14.32.02_MD585_1_0127_sift_descriptors.bp\"\n",
      "rm -rf \"/shared/CSHL_data_processed/MD585/MD585_prep2_lossless_gray/MD585-N43-2015.07.16-22.29.50_MD585_2_0128_prep2_lossless_gray.tif\" && mkdir -p \"/shared/CSHL_data_processed/MD585/MD585_prep2_lossless_gray\"\n"
     ]
    },
    {
     "name": "stdout",
     "output_type": "stream",
     "text": [
      "aws s3 cp \"s3://mousebrainatlas-data/CSHL_data_processed/MD585/MD585_prep2_lossless_gray/MD585-N43-2015.07.16-22.29.50_MD585_2_0128_prep2_lossless_gray.tif\" \"/shared/CSHL_data_processed/MD585/MD585_prep2_lossless_gray/MD585-N43-2015.07.16-22.29.50_MD585_2_0128_prep2_lossless_gray.tif\"\n",
      "rm -rf \"/shared/CSHL_data_processed/MD585/MD585_prep2_thumbnail_mask/MD585-N43-2015.07.16-22.29.50_MD585_2_0128_prep2_thumbnail_mask.png\" && mkdir -p \"/shared/CSHL_data_processed/MD585/MD585_prep2_thumbnail_mask\"\n",
      "aws s3 cp \"s3://mousebrainatlas-data/CSHL_data_processed/MD585/MD585_prep2_thumbnail_mask/MD585-N43-2015.07.16-22.29.50_MD585_2_0128_prep2_thumbnail_mask.png\" \"/shared/CSHL_data_processed/MD585/MD585_prep2_thumbnail_mask/MD585-N43-2015.07.16-22.29.50_MD585_2_0128_prep2_thumbnail_mask.png\"\n",
      "aws s3 cp \"/shared/CSHL_SPM/sift_keypoints/MD585/MD585-N43-2015.07.16-22.29.50_MD585_2_0128_sift_keypoints.bp\" \"s3://mousebrainatlas-data/CSHL_SPM/sift_keypoints/MD585/MD585-N43-2015.07.16-22.29.50_MD585_2_0128_sift_keypoints.bp\"\n",
      "aws s3 cp \"/shared/CSHL_SPM/sift_descriptors/MD585/MD585-N43-2015.07.16-22.29.50_MD585_2_0128_sift_descriptors.bp\" \"s3://mousebrainatlas-data/CSHL_SPM/sift_descriptors/MD585/MD585-N43-2015.07.16-22.29.50_MD585_2_0128_sift_descriptors.bp\"\n",
      "rm -rf \"/shared/CSHL_data_processed/MD585/MD585_prep2_lossless_gray/MD585-IHC43-2015.08.19-14.32.02_MD585_2_0128_prep2_lossless_gray.tif\" && mkdir -p \"/shared/CSHL_data_processed/MD585/MD585_prep2_lossless_gray\"\n",
      "aws s3 cp \"s3://mousebrainatlas-data/CSHL_data_processed/MD585/MD585_prep2_lossless_gray/MD585-IHC43-2015.08.19-14.32.02_MD585_2_0128_prep2_lossless_gray.tif\" \"/shared/CSHL_data_processed/MD585/MD585_prep2_lossless_gray/MD585-IHC43-2015.08.19-14.32.02_MD585_2_0128_prep2_lossless_gray.tif\"\n",
      "rm -rf \"/shared/CSHL_data_processed/MD585/MD585_prep2_thumbnail_mask/MD585-IHC43-2015.08.19-14.32.02_MD585_2_0128_prep2_thumbnail_mask.png\" && mkdir -p \"/shared/CSHL_data_processed/MD585/MD585_prep2_thumbnail_mask\"\n",
      "aws s3 cp \"s3://mousebrainatlas-data/CSHL_data_processed/MD585/MD585_prep2_thumbnail_mask/MD585-IHC43-2015.08.19-14.32.02_MD585_2_0128_prep2_thumbnail_mask.png\" \"/shared/CSHL_data_processed/MD585/MD585_prep2_thumbnail_mask/MD585-IHC43-2015.08.19-14.32.02_MD585_2_0128_prep2_thumbnail_mask.png\"\n",
      "aws s3 cp \"/shared/CSHL_SPM/sift_keypoints/MD585/MD585-IHC43-2015.08.19-14.32.02_MD585_2_0128_sift_keypoints.bp\" \"s3://mousebrainatlas-data/CSHL_SPM/sift_keypoints/MD585/MD585-IHC43-2015.08.19-14.32.02_MD585_2_0128_sift_keypoints.bp\"\n",
      "aws s3 cp \"/shared/CSHL_SPM/sift_descriptors/MD585/MD585-IHC43-2015.08.19-14.32.02_MD585_2_0128_sift_descriptors.bp\" \"s3://mousebrainatlas-data/CSHL_SPM/sift_descriptors/MD585/MD585-IHC43-2015.08.19-14.32.02_MD585_2_0128_sift_descriptors.bp\"\n",
      "rm -rf \"/shared/CSHL_data_processed/MD585/MD585_prep2_lossless_gray/MD585-N43-2015.07.16-22.29.50_MD585_3_0129_prep2_lossless_gray.tif\" && mkdir -p \"/shared/CSHL_data_processed/MD585/MD585_prep2_lossless_gray\"\n",
      "aws s3 cp \"s3://mousebrainatlas-data/CSHL_data_processed/MD585/MD585_prep2_lossless_gray/MD585-N43-2015.07.16-22.29.50_MD585_3_0129_prep2_lossless_gray.tif\" \"/shared/CSHL_data_processed/MD585/MD585_prep2_lossless_gray/MD585-N43-2015.07.16-22.29.50_MD585_3_0129_prep2_lossless_gray.tif\"\n",
      "rm -rf \"/shared/CSHL_data_processed/MD585/MD585_prep2_thumbnail_mask/MD585-N43-2015.07.16-22.29.50_MD585_3_0129_prep2_thumbnail_mask.png\" && mkdir -p \"/shared/CSHL_data_processed/MD585/MD585_prep2_thumbnail_mask\"\n",
      "aws s3 cp \"s3://mousebrainatlas-data/CSHL_data_processed/MD585/MD585_prep2_thumbnail_mask/MD585-N43-2015.07.16-22.29.50_MD585_3_0129_prep2_thumbnail_mask.png\" \"/shared/CSHL_data_processed/MD585/MD585_prep2_thumbnail_mask/MD585-N43-2015.07.16-22.29.50_MD585_3_0129_prep2_thumbnail_mask.png\"\n",
      "aws s3 cp \"/shared/CSHL_SPM/sift_keypoints/MD585/MD585-N43-2015.07.16-22.29.50_MD585_3_0129_sift_keypoints.bp\" \"s3://mousebrainatlas-data/CSHL_SPM/sift_keypoints/MD585/MD585-N43-2015.07.16-22.29.50_MD585_3_0129_sift_keypoints.bp\"\n",
      "aws s3 cp \"/shared/CSHL_SPM/sift_descriptors/MD585/MD585-N43-2015.07.16-22.29.50_MD585_3_0129_sift_descriptors.bp\" \"s3://mousebrainatlas-data/CSHL_SPM/sift_descriptors/MD585/MD585-N43-2015.07.16-22.29.50_MD585_3_0129_sift_descriptors.bp\"\n",
      "rm -rf \"/shared/CSHL_data_processed/MD585/MD585_prep2_lossless_gray/MD585-IHC43-2015.08.19-14.32.02_MD585_3_0129_prep2_lossless_gray.tif\" && mkdir -p \"/shared/CSHL_data_processed/MD585/MD585_prep2_lossless_gray\"\n",
      "aws s3 cp \"s3://mousebrainatlas-data/CSHL_data_processed/MD585/MD585_prep2_lossless_gray/MD585-IHC43-2015.08.19-14.32.02_MD585_3_0129_prep2_lossless_gray.tif\" \"/shared/CSHL_data_processed/MD585/MD585_prep2_lossless_gray/MD585-IHC43-2015.08.19-14.32.02_MD585_3_0129_prep2_lossless_gray.tif\"\n",
      "rm -rf \"/shared/CSHL_data_processed/MD585/MD585_prep2_thumbnail_mask/MD585-IHC43-2015.08.19-14.32.02_MD585_3_0129_prep2_thumbnail_mask.png\" && mkdir -p \"/shared/CSHL_data_processed/MD585/MD585_prep2_thumbnail_mask\"\n",
      "aws s3 cp \"s3://mousebrainatlas-data/CSHL_data_processed/MD585/MD585_prep2_thumbnail_mask/MD585-IHC43-2015.08.19-14.32.02_MD585_3_0129_prep2_thumbnail_mask.png\" \"/shared/CSHL_data_processed/MD585/MD585_prep2_thumbnail_mask/MD585-IHC43-2015.08.19-14.32.02_MD585_3_0129_prep2_thumbnail_mask.png\"\n",
      "aws s3 cp \"/shared/CSHL_SPM/sift_keypoints/MD585/MD585-IHC43-2015.08.19-14.32.02_MD585_3_0129_sift_keypoints.bp\" \"s3://mousebrainatlas-data/CSHL_SPM/sift_keypoints/MD585/MD585-IHC43-2015.08.19-14.32.02_MD585_3_0129_sift_keypoints.bp\"\n",
      "aws s3 cp \"/shared/CSHL_SPM/sift_descriptors/MD585/MD585-IHC43-2015.08.19-14.32.02_MD585_3_0129_sift_descriptors.bp\" \"s3://mousebrainatlas-data/CSHL_SPM/sift_descriptors/MD585/MD585-IHC43-2015.08.19-14.32.02_MD585_3_0129_sift_descriptors.bp\"\n",
      "rm -rf \"/shared/CSHL_data_processed/MD585/MD585_prep2_lossless_gray/MD585-N44-2015.07.16-22.35.02_MD585_1_0130_prep2_lossless_gray.tif\" && mkdir -p \"/shared/CSHL_data_processed/MD585/MD585_prep2_lossless_gray\"\n",
      "aws s3 cp \"s3://mousebrainatlas-data/CSHL_data_processed/MD585/MD585_prep2_lossless_gray/MD585-N44-2015.07.16-22.35.02_MD585_1_0130_prep2_lossless_gray.tif\" \"/shared/CSHL_data_processed/MD585/MD585_prep2_lossless_gray/MD585-N44-2015.07.16-22.35.02_MD585_1_0130_prep2_lossless_gray.tif\"\n",
      "rm -rf \"/shared/CSHL_data_processed/MD585/MD585_prep2_thumbnail_mask/MD585-N44-2015.07.16-22.35.02_MD585_1_0130_prep2_thumbnail_mask.png\" && mkdir -p \"/shared/CSHL_data_processed/MD585/MD585_prep2_thumbnail_mask\"\n",
      "aws s3 cp \"s3://mousebrainatlas-data/CSHL_data_processed/MD585/MD585_prep2_thumbnail_mask/MD585-N44-2015.07.16-22.35.02_MD585_1_0130_prep2_thumbnail_mask.png\" \"/shared/CSHL_data_processed/MD585/MD585_prep2_thumbnail_mask/MD585-N44-2015.07.16-22.35.02_MD585_1_0130_prep2_thumbnail_mask.png\"\n",
      "aws s3 cp \"/shared/CSHL_SPM/sift_keypoints/MD585/MD585-N44-2015.07.16-22.35.02_MD585_1_0130_sift_keypoints.bp\" \"s3://mousebrainatlas-data/CSHL_SPM/sift_keypoints/MD585/MD585-N44-2015.07.16-22.35.02_MD585_1_0130_sift_keypoints.bp\"\n",
      "aws s3 cp \"/shared/CSHL_SPM/sift_descriptors/MD585/MD585-N44-2015.07.16-22.35.02_MD585_1_0130_sift_descriptors.bp\" \"s3://mousebrainatlas-data/CSHL_SPM/sift_descriptors/MD585/MD585-N44-2015.07.16-22.35.02_MD585_1_0130_sift_descriptors.bp\"\n",
      "rm -rf \"/shared/CSHL_data_processed/MD585/MD585_prep2_lossless_gray/MD585-IHC44-2015.08.19-14.37.23_MD585_1_0130_prep2_lossless_gray.tif\" && mkdir -p \"/shared/CSHL_data_processed/MD585/MD585_prep2_lossless_gray\"\n",
      "aws s3 cp \"s3://mousebrainatlas-data/CSHL_data_processed/MD585/MD585_prep2_lossless_gray/MD585-IHC44-2015.08.19-14.37.23_MD585_1_0130_prep2_lossless_gray.tif\" \"/shared/CSHL_data_processed/MD585/MD585_prep2_lossless_gray/MD585-IHC44-2015.08.19-14.37.23_MD585_1_0130_prep2_lossless_gray.tif\"\n",
      "rm -rf \"/shared/CSHL_data_processed/MD585/MD585_prep2_thumbnail_mask/MD585-IHC44-2015.08.19-14.37.23_MD585_1_0130_prep2_thumbnail_mask.png\" && mkdir -p \"/shared/CSHL_data_processed/MD585/MD585_prep2_thumbnail_mask\"\n",
      "aws s3 cp \"s3://mousebrainatlas-data/CSHL_data_processed/MD585/MD585_prep2_thumbnail_mask/MD585-IHC44-2015.08.19-14.37.23_MD585_1_0130_prep2_thumbnail_mask.png\" \"/shared/CSHL_data_processed/MD585/MD585_prep2_thumbnail_mask/MD585-IHC44-2015.08.19-14.37.23_MD585_1_0130_prep2_thumbnail_mask.png\"\n",
      "aws s3 cp \"/shared/CSHL_SPM/sift_keypoints/MD585/MD585-IHC44-2015.08.19-14.37.23_MD585_1_0130_sift_keypoints.bp\" \"s3://mousebrainatlas-data/CSHL_SPM/sift_keypoints/MD585/MD585-IHC44-2015.08.19-14.37.23_MD585_1_0130_sift_keypoints.bp\"\n"
     ]
    },
    {
     "name": "stdout",
     "output_type": "stream",
     "text": [
      "aws s3 cp \"/shared/CSHL_SPM/sift_descriptors/MD585/MD585-IHC44-2015.08.19-14.37.23_MD585_1_0130_sift_descriptors.bp\" \"s3://mousebrainatlas-data/CSHL_SPM/sift_descriptors/MD585/MD585-IHC44-2015.08.19-14.37.23_MD585_1_0130_sift_descriptors.bp\"\n",
      "rm -rf \"/shared/CSHL_data_processed/MD585/MD585_prep2_lossless_gray/MD585-N44-2015.07.16-22.35.02_MD585_2_0131_prep2_lossless_gray.tif\" && mkdir -p \"/shared/CSHL_data_processed/MD585/MD585_prep2_lossless_gray\"\n",
      "aws s3 cp \"s3://mousebrainatlas-data/CSHL_data_processed/MD585/MD585_prep2_lossless_gray/MD585-N44-2015.07.16-22.35.02_MD585_2_0131_prep2_lossless_gray.tif\" \"/shared/CSHL_data_processed/MD585/MD585_prep2_lossless_gray/MD585-N44-2015.07.16-22.35.02_MD585_2_0131_prep2_lossless_gray.tif\"\n",
      "rm -rf \"/shared/CSHL_data_processed/MD585/MD585_prep2_thumbnail_mask/MD585-N44-2015.07.16-22.35.02_MD585_2_0131_prep2_thumbnail_mask.png\" && mkdir -p \"/shared/CSHL_data_processed/MD585/MD585_prep2_thumbnail_mask\"\n",
      "aws s3 cp \"s3://mousebrainatlas-data/CSHL_data_processed/MD585/MD585_prep2_thumbnail_mask/MD585-N44-2015.07.16-22.35.02_MD585_2_0131_prep2_thumbnail_mask.png\" \"/shared/CSHL_data_processed/MD585/MD585_prep2_thumbnail_mask/MD585-N44-2015.07.16-22.35.02_MD585_2_0131_prep2_thumbnail_mask.png\"\n",
      "aws s3 cp \"/shared/CSHL_SPM/sift_keypoints/MD585/MD585-N44-2015.07.16-22.35.02_MD585_2_0131_sift_keypoints.bp\" \"s3://mousebrainatlas-data/CSHL_SPM/sift_keypoints/MD585/MD585-N44-2015.07.16-22.35.02_MD585_2_0131_sift_keypoints.bp\"\n",
      "aws s3 cp \"/shared/CSHL_SPM/sift_descriptors/MD585/MD585-N44-2015.07.16-22.35.02_MD585_2_0131_sift_descriptors.bp\" \"s3://mousebrainatlas-data/CSHL_SPM/sift_descriptors/MD585/MD585-N44-2015.07.16-22.35.02_MD585_2_0131_sift_descriptors.bp\"\n",
      "rm -rf \"/shared/CSHL_data_processed/MD585/MD585_prep2_lossless_gray/MD585-IHC44-2015.08.19-14.37.23_MD585_2_0131_prep2_lossless_gray.tif\" && mkdir -p \"/shared/CSHL_data_processed/MD585/MD585_prep2_lossless_gray\"\n",
      "aws s3 cp \"s3://mousebrainatlas-data/CSHL_data_processed/MD585/MD585_prep2_lossless_gray/MD585-IHC44-2015.08.19-14.37.23_MD585_2_0131_prep2_lossless_gray.tif\" \"/shared/CSHL_data_processed/MD585/MD585_prep2_lossless_gray/MD585-IHC44-2015.08.19-14.37.23_MD585_2_0131_prep2_lossless_gray.tif\"\n",
      "rm -rf \"/shared/CSHL_data_processed/MD585/MD585_prep2_thumbnail_mask/MD585-IHC44-2015.08.19-14.37.23_MD585_2_0131_prep2_thumbnail_mask.png\" && mkdir -p \"/shared/CSHL_data_processed/MD585/MD585_prep2_thumbnail_mask\"\n",
      "aws s3 cp \"s3://mousebrainatlas-data/CSHL_data_processed/MD585/MD585_prep2_thumbnail_mask/MD585-IHC44-2015.08.19-14.37.23_MD585_2_0131_prep2_thumbnail_mask.png\" \"/shared/CSHL_data_processed/MD585/MD585_prep2_thumbnail_mask/MD585-IHC44-2015.08.19-14.37.23_MD585_2_0131_prep2_thumbnail_mask.png\"\n",
      "aws s3 cp \"/shared/CSHL_SPM/sift_keypoints/MD585/MD585-IHC44-2015.08.19-14.37.23_MD585_2_0131_sift_keypoints.bp\" \"s3://mousebrainatlas-data/CSHL_SPM/sift_keypoints/MD585/MD585-IHC44-2015.08.19-14.37.23_MD585_2_0131_sift_keypoints.bp\"\n",
      "aws s3 cp \"/shared/CSHL_SPM/sift_descriptors/MD585/MD585-IHC44-2015.08.19-14.37.23_MD585_2_0131_sift_descriptors.bp\" \"s3://mousebrainatlas-data/CSHL_SPM/sift_descriptors/MD585/MD585-IHC44-2015.08.19-14.37.23_MD585_2_0131_sift_descriptors.bp\"\n",
      "rm -rf \"/shared/CSHL_data_processed/MD585/MD585_prep2_lossless_gray/MD585-N44-2015.07.16-22.35.02_MD585_3_0132_prep2_lossless_gray.tif\" && mkdir -p \"/shared/CSHL_data_processed/MD585/MD585_prep2_lossless_gray\"\n",
      "aws s3 cp \"s3://mousebrainatlas-data/CSHL_data_processed/MD585/MD585_prep2_lossless_gray/MD585-N44-2015.07.16-22.35.02_MD585_3_0132_prep2_lossless_gray.tif\" \"/shared/CSHL_data_processed/MD585/MD585_prep2_lossless_gray/MD585-N44-2015.07.16-22.35.02_MD585_3_0132_prep2_lossless_gray.tif\"\n",
      "rm -rf \"/shared/CSHL_data_processed/MD585/MD585_prep2_thumbnail_mask/MD585-N44-2015.07.16-22.35.02_MD585_3_0132_prep2_thumbnail_mask.png\" && mkdir -p \"/shared/CSHL_data_processed/MD585/MD585_prep2_thumbnail_mask\"\n",
      "aws s3 cp \"s3://mousebrainatlas-data/CSHL_data_processed/MD585/MD585_prep2_thumbnail_mask/MD585-N44-2015.07.16-22.35.02_MD585_3_0132_prep2_thumbnail_mask.png\" \"/shared/CSHL_data_processed/MD585/MD585_prep2_thumbnail_mask/MD585-N44-2015.07.16-22.35.02_MD585_3_0132_prep2_thumbnail_mask.png\"\n",
      "aws s3 cp \"/shared/CSHL_SPM/sift_keypoints/MD585/MD585-N44-2015.07.16-22.35.02_MD585_3_0132_sift_keypoints.bp\" \"s3://mousebrainatlas-data/CSHL_SPM/sift_keypoints/MD585/MD585-N44-2015.07.16-22.35.02_MD585_3_0132_sift_keypoints.bp\"\n",
      "aws s3 cp \"/shared/CSHL_SPM/sift_descriptors/MD585/MD585-N44-2015.07.16-22.35.02_MD585_3_0132_sift_descriptors.bp\" \"s3://mousebrainatlas-data/CSHL_SPM/sift_descriptors/MD585/MD585-N44-2015.07.16-22.35.02_MD585_3_0132_sift_descriptors.bp\"\n",
      "rm -rf \"/shared/CSHL_data_processed/MD585/MD585_prep2_lossless_gray/MD585-IHC44-2015.08.19-14.37.23_MD585_3_0132_prep2_lossless_gray.tif\" && mkdir -p \"/shared/CSHL_data_processed/MD585/MD585_prep2_lossless_gray\"\n",
      "aws s3 cp \"s3://mousebrainatlas-data/CSHL_data_processed/MD585/MD585_prep2_lossless_gray/MD585-IHC44-2015.08.19-14.37.23_MD585_3_0132_prep2_lossless_gray.tif\" \"/shared/CSHL_data_processed/MD585/MD585_prep2_lossless_gray/MD585-IHC44-2015.08.19-14.37.23_MD585_3_0132_prep2_lossless_gray.tif\"\n",
      "rm -rf \"/shared/CSHL_data_processed/MD585/MD585_prep2_thumbnail_mask/MD585-IHC44-2015.08.19-14.37.23_MD585_3_0132_prep2_thumbnail_mask.png\" && mkdir -p \"/shared/CSHL_data_processed/MD585/MD585_prep2_thumbnail_mask\"\n",
      "aws s3 cp \"s3://mousebrainatlas-data/CSHL_data_processed/MD585/MD585_prep2_thumbnail_mask/MD585-IHC44-2015.08.19-14.37.23_MD585_3_0132_prep2_thumbnail_mask.png\" \"/shared/CSHL_data_processed/MD585/MD585_prep2_thumbnail_mask/MD585-IHC44-2015.08.19-14.37.23_MD585_3_0132_prep2_thumbnail_mask.png\"\n",
      "aws s3 cp \"/shared/CSHL_SPM/sift_keypoints/MD585/MD585-IHC44-2015.08.19-14.37.23_MD585_3_0132_sift_keypoints.bp\" \"s3://mousebrainatlas-data/CSHL_SPM/sift_keypoints/MD585/MD585-IHC44-2015.08.19-14.37.23_MD585_3_0132_sift_keypoints.bp\"\n",
      "aws s3 cp \"/shared/CSHL_SPM/sift_descriptors/MD585/MD585-IHC44-2015.08.19-14.37.23_MD585_3_0132_sift_descriptors.bp\" \"s3://mousebrainatlas-data/CSHL_SPM/sift_descriptors/MD585/MD585-IHC44-2015.08.19-14.37.23_MD585_3_0132_sift_descriptors.bp\"\n",
      "rm -rf \"/shared/CSHL_data_processed/MD585/MD585_prep2_lossless_gray/MD585-N45-2015.07.16-22.40.26_MD585_1_0133_prep2_lossless_gray.tif\" && mkdir -p \"/shared/CSHL_data_processed/MD585/MD585_prep2_lossless_gray\"\n",
      "aws s3 cp \"s3://mousebrainatlas-data/CSHL_data_processed/MD585/MD585_prep2_lossless_gray/MD585-N45-2015.07.16-22.40.26_MD585_1_0133_prep2_lossless_gray.tif\" \"/shared/CSHL_data_processed/MD585/MD585_prep2_lossless_gray/MD585-N45-2015.07.16-22.40.26_MD585_1_0133_prep2_lossless_gray.tif\"\n",
      "rm -rf \"/shared/CSHL_data_processed/MD585/MD585_prep2_thumbnail_mask/MD585-N45-2015.07.16-22.40.26_MD585_1_0133_prep2_thumbnail_mask.png\" && mkdir -p \"/shared/CSHL_data_processed/MD585/MD585_prep2_thumbnail_mask\"\n",
      "aws s3 cp \"s3://mousebrainatlas-data/CSHL_data_processed/MD585/MD585_prep2_thumbnail_mask/MD585-N45-2015.07.16-22.40.26_MD585_1_0133_prep2_thumbnail_mask.png\" \"/shared/CSHL_data_processed/MD585/MD585_prep2_thumbnail_mask/MD585-N45-2015.07.16-22.40.26_MD585_1_0133_prep2_thumbnail_mask.png\"\n",
      "aws s3 cp \"/shared/CSHL_SPM/sift_keypoints/MD585/MD585-N45-2015.07.16-22.40.26_MD585_1_0133_sift_keypoints.bp\" \"s3://mousebrainatlas-data/CSHL_SPM/sift_keypoints/MD585/MD585-N45-2015.07.16-22.40.26_MD585_1_0133_sift_keypoints.bp\"\n",
      "aws s3 cp \"/shared/CSHL_SPM/sift_descriptors/MD585/MD585-N45-2015.07.16-22.40.26_MD585_1_0133_sift_descriptors.bp\" \"s3://mousebrainatlas-data/CSHL_SPM/sift_descriptors/MD585/MD585-N45-2015.07.16-22.40.26_MD585_1_0133_sift_descriptors.bp\"\n",
      "rm -rf \"/shared/CSHL_data_processed/MD585/MD585_prep2_lossless_gray/MD585-IHC45-2015.08.19-14.42.34_MD585_1_0133_prep2_lossless_gray.tif\" && mkdir -p \"/shared/CSHL_data_processed/MD585/MD585_prep2_lossless_gray\"\n",
      "aws s3 cp \"s3://mousebrainatlas-data/CSHL_data_processed/MD585/MD585_prep2_lossless_gray/MD585-IHC45-2015.08.19-14.42.34_MD585_1_0133_prep2_lossless_gray.tif\" \"/shared/CSHL_data_processed/MD585/MD585_prep2_lossless_gray/MD585-IHC45-2015.08.19-14.42.34_MD585_1_0133_prep2_lossless_gray.tif\"\n",
      "rm -rf \"/shared/CSHL_data_processed/MD585/MD585_prep2_thumbnail_mask/MD585-IHC45-2015.08.19-14.42.34_MD585_1_0133_prep2_thumbnail_mask.png\" && mkdir -p \"/shared/CSHL_data_processed/MD585/MD585_prep2_thumbnail_mask\"\n"
     ]
    },
    {
     "name": "stdout",
     "output_type": "stream",
     "text": [
      "aws s3 cp \"s3://mousebrainatlas-data/CSHL_data_processed/MD585/MD585_prep2_thumbnail_mask/MD585-IHC45-2015.08.19-14.42.34_MD585_1_0133_prep2_thumbnail_mask.png\" \"/shared/CSHL_data_processed/MD585/MD585_prep2_thumbnail_mask/MD585-IHC45-2015.08.19-14.42.34_MD585_1_0133_prep2_thumbnail_mask.png\"\n",
      "aws s3 cp \"/shared/CSHL_SPM/sift_keypoints/MD585/MD585-IHC45-2015.08.19-14.42.34_MD585_1_0133_sift_keypoints.bp\" \"s3://mousebrainatlas-data/CSHL_SPM/sift_keypoints/MD585/MD585-IHC45-2015.08.19-14.42.34_MD585_1_0133_sift_keypoints.bp\"\n",
      "aws s3 cp \"/shared/CSHL_SPM/sift_descriptors/MD585/MD585-IHC45-2015.08.19-14.42.34_MD585_1_0133_sift_descriptors.bp\" \"s3://mousebrainatlas-data/CSHL_SPM/sift_descriptors/MD585/MD585-IHC45-2015.08.19-14.42.34_MD585_1_0133_sift_descriptors.bp\"\n",
      "rm -rf \"/shared/CSHL_data_processed/MD585/MD585_prep2_lossless_gray/MD585-N45-2015.07.16-22.40.26_MD585_2_0134_prep2_lossless_gray.tif\" && mkdir -p \"/shared/CSHL_data_processed/MD585/MD585_prep2_lossless_gray\"\n",
      "aws s3 cp \"s3://mousebrainatlas-data/CSHL_data_processed/MD585/MD585_prep2_lossless_gray/MD585-N45-2015.07.16-22.40.26_MD585_2_0134_prep2_lossless_gray.tif\" \"/shared/CSHL_data_processed/MD585/MD585_prep2_lossless_gray/MD585-N45-2015.07.16-22.40.26_MD585_2_0134_prep2_lossless_gray.tif\"\n",
      "rm -rf \"/shared/CSHL_data_processed/MD585/MD585_prep2_thumbnail_mask/MD585-N45-2015.07.16-22.40.26_MD585_2_0134_prep2_thumbnail_mask.png\" && mkdir -p \"/shared/CSHL_data_processed/MD585/MD585_prep2_thumbnail_mask\"\n",
      "aws s3 cp \"s3://mousebrainatlas-data/CSHL_data_processed/MD585/MD585_prep2_thumbnail_mask/MD585-N45-2015.07.16-22.40.26_MD585_2_0134_prep2_thumbnail_mask.png\" \"/shared/CSHL_data_processed/MD585/MD585_prep2_thumbnail_mask/MD585-N45-2015.07.16-22.40.26_MD585_2_0134_prep2_thumbnail_mask.png\"\n",
      "aws s3 cp \"/shared/CSHL_SPM/sift_keypoints/MD585/MD585-N45-2015.07.16-22.40.26_MD585_2_0134_sift_keypoints.bp\" \"s3://mousebrainatlas-data/CSHL_SPM/sift_keypoints/MD585/MD585-N45-2015.07.16-22.40.26_MD585_2_0134_sift_keypoints.bp\"\n",
      "aws s3 cp \"/shared/CSHL_SPM/sift_descriptors/MD585/MD585-N45-2015.07.16-22.40.26_MD585_2_0134_sift_descriptors.bp\" \"s3://mousebrainatlas-data/CSHL_SPM/sift_descriptors/MD585/MD585-N45-2015.07.16-22.40.26_MD585_2_0134_sift_descriptors.bp\"\n",
      "rm -rf \"/shared/CSHL_data_processed/MD585/MD585_prep2_lossless_gray/MD585-IHC45-2015.08.19-14.42.34_MD585_2_0134_prep2_lossless_gray.tif\" && mkdir -p \"/shared/CSHL_data_processed/MD585/MD585_prep2_lossless_gray\"\n",
      "aws s3 cp \"s3://mousebrainatlas-data/CSHL_data_processed/MD585/MD585_prep2_lossless_gray/MD585-IHC45-2015.08.19-14.42.34_MD585_2_0134_prep2_lossless_gray.tif\" \"/shared/CSHL_data_processed/MD585/MD585_prep2_lossless_gray/MD585-IHC45-2015.08.19-14.42.34_MD585_2_0134_prep2_lossless_gray.tif\"\n",
      "rm -rf \"/shared/CSHL_data_processed/MD585/MD585_prep2_thumbnail_mask/MD585-IHC45-2015.08.19-14.42.34_MD585_2_0134_prep2_thumbnail_mask.png\" && mkdir -p \"/shared/CSHL_data_processed/MD585/MD585_prep2_thumbnail_mask\"\n",
      "aws s3 cp \"s3://mousebrainatlas-data/CSHL_data_processed/MD585/MD585_prep2_thumbnail_mask/MD585-IHC45-2015.08.19-14.42.34_MD585_2_0134_prep2_thumbnail_mask.png\" \"/shared/CSHL_data_processed/MD585/MD585_prep2_thumbnail_mask/MD585-IHC45-2015.08.19-14.42.34_MD585_2_0134_prep2_thumbnail_mask.png\"\n",
      "aws s3 cp \"/shared/CSHL_SPM/sift_keypoints/MD585/MD585-IHC45-2015.08.19-14.42.34_MD585_2_0134_sift_keypoints.bp\" \"s3://mousebrainatlas-data/CSHL_SPM/sift_keypoints/MD585/MD585-IHC45-2015.08.19-14.42.34_MD585_2_0134_sift_keypoints.bp\"\n",
      "aws s3 cp \"/shared/CSHL_SPM/sift_descriptors/MD585/MD585-IHC45-2015.08.19-14.42.34_MD585_2_0134_sift_descriptors.bp\" \"s3://mousebrainatlas-data/CSHL_SPM/sift_descriptors/MD585/MD585-IHC45-2015.08.19-14.42.34_MD585_2_0134_sift_descriptors.bp\"\n",
      "rm -rf \"/shared/CSHL_data_processed/MD585/MD585_prep2_lossless_gray/MD585-N45-2015.07.16-22.40.26_MD585_3_0135_prep2_lossless_gray.tif\" && mkdir -p \"/shared/CSHL_data_processed/MD585/MD585_prep2_lossless_gray\"\n",
      "aws s3 cp \"s3://mousebrainatlas-data/CSHL_data_processed/MD585/MD585_prep2_lossless_gray/MD585-N45-2015.07.16-22.40.26_MD585_3_0135_prep2_lossless_gray.tif\" \"/shared/CSHL_data_processed/MD585/MD585_prep2_lossless_gray/MD585-N45-2015.07.16-22.40.26_MD585_3_0135_prep2_lossless_gray.tif\"\n",
      "rm -rf \"/shared/CSHL_data_processed/MD585/MD585_prep2_thumbnail_mask/MD585-N45-2015.07.16-22.40.26_MD585_3_0135_prep2_thumbnail_mask.png\" && mkdir -p \"/shared/CSHL_data_processed/MD585/MD585_prep2_thumbnail_mask\"\n",
      "aws s3 cp \"s3://mousebrainatlas-data/CSHL_data_processed/MD585/MD585_prep2_thumbnail_mask/MD585-N45-2015.07.16-22.40.26_MD585_3_0135_prep2_thumbnail_mask.png\" \"/shared/CSHL_data_processed/MD585/MD585_prep2_thumbnail_mask/MD585-N45-2015.07.16-22.40.26_MD585_3_0135_prep2_thumbnail_mask.png\"\n",
      "aws s3 cp \"/shared/CSHL_SPM/sift_keypoints/MD585/MD585-N45-2015.07.16-22.40.26_MD585_3_0135_sift_keypoints.bp\" \"s3://mousebrainatlas-data/CSHL_SPM/sift_keypoints/MD585/MD585-N45-2015.07.16-22.40.26_MD585_3_0135_sift_keypoints.bp\"\n",
      "aws s3 cp \"/shared/CSHL_SPM/sift_descriptors/MD585/MD585-N45-2015.07.16-22.40.26_MD585_3_0135_sift_descriptors.bp\" \"s3://mousebrainatlas-data/CSHL_SPM/sift_descriptors/MD585/MD585-N45-2015.07.16-22.40.26_MD585_3_0135_sift_descriptors.bp\"\n",
      "rm -rf \"/shared/CSHL_data_processed/MD585/MD585_prep2_lossless_gray/MD585-IHC45-2015.08.19-14.42.34_MD585_3_0135_prep2_lossless_gray.tif\" && mkdir -p \"/shared/CSHL_data_processed/MD585/MD585_prep2_lossless_gray\"\n",
      "aws s3 cp \"s3://mousebrainatlas-data/CSHL_data_processed/MD585/MD585_prep2_lossless_gray/MD585-IHC45-2015.08.19-14.42.34_MD585_3_0135_prep2_lossless_gray.tif\" \"/shared/CSHL_data_processed/MD585/MD585_prep2_lossless_gray/MD585-IHC45-2015.08.19-14.42.34_MD585_3_0135_prep2_lossless_gray.tif\"\n",
      "rm -rf \"/shared/CSHL_data_processed/MD585/MD585_prep2_thumbnail_mask/MD585-IHC45-2015.08.19-14.42.34_MD585_3_0135_prep2_thumbnail_mask.png\" && mkdir -p \"/shared/CSHL_data_processed/MD585/MD585_prep2_thumbnail_mask\"\n",
      "aws s3 cp \"s3://mousebrainatlas-data/CSHL_data_processed/MD585/MD585_prep2_thumbnail_mask/MD585-IHC45-2015.08.19-14.42.34_MD585_3_0135_prep2_thumbnail_mask.png\" \"/shared/CSHL_data_processed/MD585/MD585_prep2_thumbnail_mask/MD585-IHC45-2015.08.19-14.42.34_MD585_3_0135_prep2_thumbnail_mask.png\"\n",
      "aws s3 cp \"/shared/CSHL_SPM/sift_keypoints/MD585/MD585-IHC45-2015.08.19-14.42.34_MD585_3_0135_sift_keypoints.bp\" \"s3://mousebrainatlas-data/CSHL_SPM/sift_keypoints/MD585/MD585-IHC45-2015.08.19-14.42.34_MD585_3_0135_sift_keypoints.bp\"\n",
      "aws s3 cp \"/shared/CSHL_SPM/sift_descriptors/MD585/MD585-IHC45-2015.08.19-14.42.34_MD585_3_0135_sift_descriptors.bp\" \"s3://mousebrainatlas-data/CSHL_SPM/sift_descriptors/MD585/MD585-IHC45-2015.08.19-14.42.34_MD585_3_0135_sift_descriptors.bp\"\n",
      "rm -rf \"/shared/CSHL_data_processed/MD585/MD585_prep2_lossless_gray/MD585-N46-2015.07.16-22.45.37_MD585_1_0136_prep2_lossless_gray.tif\" && mkdir -p \"/shared/CSHL_data_processed/MD585/MD585_prep2_lossless_gray\"\n",
      "aws s3 cp \"s3://mousebrainatlas-data/CSHL_data_processed/MD585/MD585_prep2_lossless_gray/MD585-N46-2015.07.16-22.45.37_MD585_1_0136_prep2_lossless_gray.tif\" \"/shared/CSHL_data_processed/MD585/MD585_prep2_lossless_gray/MD585-N46-2015.07.16-22.45.37_MD585_1_0136_prep2_lossless_gray.tif\"\n",
      "rm -rf \"/shared/CSHL_data_processed/MD585/MD585_prep2_thumbnail_mask/MD585-N46-2015.07.16-22.45.37_MD585_1_0136_prep2_thumbnail_mask.png\" && mkdir -p \"/shared/CSHL_data_processed/MD585/MD585_prep2_thumbnail_mask\"\n",
      "aws s3 cp \"s3://mousebrainatlas-data/CSHL_data_processed/MD585/MD585_prep2_thumbnail_mask/MD585-N46-2015.07.16-22.45.37_MD585_1_0136_prep2_thumbnail_mask.png\" \"/shared/CSHL_data_processed/MD585/MD585_prep2_thumbnail_mask/MD585-N46-2015.07.16-22.45.37_MD585_1_0136_prep2_thumbnail_mask.png\"\n",
      "aws s3 cp \"/shared/CSHL_SPM/sift_keypoints/MD585/MD585-N46-2015.07.16-22.45.37_MD585_1_0136_sift_keypoints.bp\" \"s3://mousebrainatlas-data/CSHL_SPM/sift_keypoints/MD585/MD585-N46-2015.07.16-22.45.37_MD585_1_0136_sift_keypoints.bp\"\n",
      "aws s3 cp \"/shared/CSHL_SPM/sift_descriptors/MD585/MD585-N46-2015.07.16-22.45.37_MD585_1_0136_sift_descriptors.bp\" \"s3://mousebrainatlas-data/CSHL_SPM/sift_descriptors/MD585/MD585-N46-2015.07.16-22.45.37_MD585_1_0136_sift_descriptors.bp\"\n",
      "rm -rf \"/shared/CSHL_data_processed/MD585/MD585_prep2_lossless_gray/MD585-IHC46-2015.08.19-14.47.51_MD585_1_0136_prep2_lossless_gray.tif\" && mkdir -p \"/shared/CSHL_data_processed/MD585/MD585_prep2_lossless_gray\"\n"
     ]
    },
    {
     "name": "stdout",
     "output_type": "stream",
     "text": [
      "aws s3 cp \"s3://mousebrainatlas-data/CSHL_data_processed/MD585/MD585_prep2_lossless_gray/MD585-IHC46-2015.08.19-14.47.51_MD585_1_0136_prep2_lossless_gray.tif\" \"/shared/CSHL_data_processed/MD585/MD585_prep2_lossless_gray/MD585-IHC46-2015.08.19-14.47.51_MD585_1_0136_prep2_lossless_gray.tif\"\n",
      "rm -rf \"/shared/CSHL_data_processed/MD585/MD585_prep2_thumbnail_mask/MD585-IHC46-2015.08.19-14.47.51_MD585_1_0136_prep2_thumbnail_mask.png\" && mkdir -p \"/shared/CSHL_data_processed/MD585/MD585_prep2_thumbnail_mask\"\n",
      "aws s3 cp \"s3://mousebrainatlas-data/CSHL_data_processed/MD585/MD585_prep2_thumbnail_mask/MD585-IHC46-2015.08.19-14.47.51_MD585_1_0136_prep2_thumbnail_mask.png\" \"/shared/CSHL_data_processed/MD585/MD585_prep2_thumbnail_mask/MD585-IHC46-2015.08.19-14.47.51_MD585_1_0136_prep2_thumbnail_mask.png\"\n",
      "aws s3 cp \"/shared/CSHL_SPM/sift_keypoints/MD585/MD585-IHC46-2015.08.19-14.47.51_MD585_1_0136_sift_keypoints.bp\" \"s3://mousebrainatlas-data/CSHL_SPM/sift_keypoints/MD585/MD585-IHC46-2015.08.19-14.47.51_MD585_1_0136_sift_keypoints.bp\"\n",
      "aws s3 cp \"/shared/CSHL_SPM/sift_descriptors/MD585/MD585-IHC46-2015.08.19-14.47.51_MD585_1_0136_sift_descriptors.bp\" \"s3://mousebrainatlas-data/CSHL_SPM/sift_descriptors/MD585/MD585-IHC46-2015.08.19-14.47.51_MD585_1_0136_sift_descriptors.bp\"\n",
      "rm -rf \"/shared/CSHL_data_processed/MD585/MD585_prep2_lossless_gray/MD585-N46-2015.07.16-22.45.37_MD585_2_0137_prep2_lossless_gray.tif\" && mkdir -p \"/shared/CSHL_data_processed/MD585/MD585_prep2_lossless_gray\"\n",
      "aws s3 cp \"s3://mousebrainatlas-data/CSHL_data_processed/MD585/MD585_prep2_lossless_gray/MD585-N46-2015.07.16-22.45.37_MD585_2_0137_prep2_lossless_gray.tif\" \"/shared/CSHL_data_processed/MD585/MD585_prep2_lossless_gray/MD585-N46-2015.07.16-22.45.37_MD585_2_0137_prep2_lossless_gray.tif\"\n",
      "rm -rf \"/shared/CSHL_data_processed/MD585/MD585_prep2_thumbnail_mask/MD585-N46-2015.07.16-22.45.37_MD585_2_0137_prep2_thumbnail_mask.png\" && mkdir -p \"/shared/CSHL_data_processed/MD585/MD585_prep2_thumbnail_mask\"\n",
      "aws s3 cp \"s3://mousebrainatlas-data/CSHL_data_processed/MD585/MD585_prep2_thumbnail_mask/MD585-N46-2015.07.16-22.45.37_MD585_2_0137_prep2_thumbnail_mask.png\" \"/shared/CSHL_data_processed/MD585/MD585_prep2_thumbnail_mask/MD585-N46-2015.07.16-22.45.37_MD585_2_0137_prep2_thumbnail_mask.png\"\n",
      "aws s3 cp \"/shared/CSHL_SPM/sift_keypoints/MD585/MD585-N46-2015.07.16-22.45.37_MD585_2_0137_sift_keypoints.bp\" \"s3://mousebrainatlas-data/CSHL_SPM/sift_keypoints/MD585/MD585-N46-2015.07.16-22.45.37_MD585_2_0137_sift_keypoints.bp\"\n",
      "aws s3 cp \"/shared/CSHL_SPM/sift_descriptors/MD585/MD585-N46-2015.07.16-22.45.37_MD585_2_0137_sift_descriptors.bp\" \"s3://mousebrainatlas-data/CSHL_SPM/sift_descriptors/MD585/MD585-N46-2015.07.16-22.45.37_MD585_2_0137_sift_descriptors.bp\"\n",
      "rm -rf \"/shared/CSHL_data_processed/MD585/MD585_prep2_lossless_gray/MD585-IHC46-2015.08.19-14.47.51_MD585_2_0137_prep2_lossless_gray.tif\" && mkdir -p \"/shared/CSHL_data_processed/MD585/MD585_prep2_lossless_gray\"\n",
      "aws s3 cp \"s3://mousebrainatlas-data/CSHL_data_processed/MD585/MD585_prep2_lossless_gray/MD585-IHC46-2015.08.19-14.47.51_MD585_2_0137_prep2_lossless_gray.tif\" \"/shared/CSHL_data_processed/MD585/MD585_prep2_lossless_gray/MD585-IHC46-2015.08.19-14.47.51_MD585_2_0137_prep2_lossless_gray.tif\"\n",
      "rm -rf \"/shared/CSHL_data_processed/MD585/MD585_prep2_thumbnail_mask/MD585-IHC46-2015.08.19-14.47.51_MD585_2_0137_prep2_thumbnail_mask.png\" && mkdir -p \"/shared/CSHL_data_processed/MD585/MD585_prep2_thumbnail_mask\"\n",
      "aws s3 cp \"s3://mousebrainatlas-data/CSHL_data_processed/MD585/MD585_prep2_thumbnail_mask/MD585-IHC46-2015.08.19-14.47.51_MD585_2_0137_prep2_thumbnail_mask.png\" \"/shared/CSHL_data_processed/MD585/MD585_prep2_thumbnail_mask/MD585-IHC46-2015.08.19-14.47.51_MD585_2_0137_prep2_thumbnail_mask.png\"\n",
      "aws s3 cp \"/shared/CSHL_SPM/sift_keypoints/MD585/MD585-IHC46-2015.08.19-14.47.51_MD585_2_0137_sift_keypoints.bp\" \"s3://mousebrainatlas-data/CSHL_SPM/sift_keypoints/MD585/MD585-IHC46-2015.08.19-14.47.51_MD585_2_0137_sift_keypoints.bp\"\n",
      "aws s3 cp \"/shared/CSHL_SPM/sift_descriptors/MD585/MD585-IHC46-2015.08.19-14.47.51_MD585_2_0137_sift_descriptors.bp\" \"s3://mousebrainatlas-data/CSHL_SPM/sift_descriptors/MD585/MD585-IHC46-2015.08.19-14.47.51_MD585_2_0137_sift_descriptors.bp\"\n",
      "rm -rf \"/shared/CSHL_data_processed/MD585/MD585_prep2_lossless_gray/MD585-N46-2015.07.16-22.45.37_MD585_3_0138_prep2_lossless_gray.tif\" && mkdir -p \"/shared/CSHL_data_processed/MD585/MD585_prep2_lossless_gray\"\n",
      "aws s3 cp \"s3://mousebrainatlas-data/CSHL_data_processed/MD585/MD585_prep2_lossless_gray/MD585-N46-2015.07.16-22.45.37_MD585_3_0138_prep2_lossless_gray.tif\" \"/shared/CSHL_data_processed/MD585/MD585_prep2_lossless_gray/MD585-N46-2015.07.16-22.45.37_MD585_3_0138_prep2_lossless_gray.tif\"\n",
      "rm -rf \"/shared/CSHL_data_processed/MD585/MD585_prep2_thumbnail_mask/MD585-N46-2015.07.16-22.45.37_MD585_3_0138_prep2_thumbnail_mask.png\" && mkdir -p \"/shared/CSHL_data_processed/MD585/MD585_prep2_thumbnail_mask\"\n",
      "aws s3 cp \"s3://mousebrainatlas-data/CSHL_data_processed/MD585/MD585_prep2_thumbnail_mask/MD585-N46-2015.07.16-22.45.37_MD585_3_0138_prep2_thumbnail_mask.png\" \"/shared/CSHL_data_processed/MD585/MD585_prep2_thumbnail_mask/MD585-N46-2015.07.16-22.45.37_MD585_3_0138_prep2_thumbnail_mask.png\"\n",
      "aws s3 cp \"/shared/CSHL_SPM/sift_keypoints/MD585/MD585-N46-2015.07.16-22.45.37_MD585_3_0138_sift_keypoints.bp\" \"s3://mousebrainatlas-data/CSHL_SPM/sift_keypoints/MD585/MD585-N46-2015.07.16-22.45.37_MD585_3_0138_sift_keypoints.bp\"\n",
      "aws s3 cp \"/shared/CSHL_SPM/sift_descriptors/MD585/MD585-N46-2015.07.16-22.45.37_MD585_3_0138_sift_descriptors.bp\" \"s3://mousebrainatlas-data/CSHL_SPM/sift_descriptors/MD585/MD585-N46-2015.07.16-22.45.37_MD585_3_0138_sift_descriptors.bp\"\n",
      "rm -rf \"/shared/CSHL_data_processed/MD585/MD585_prep2_lossless_gray/MD585-IHC46-2015.08.19-14.47.51_MD585_3_0138_prep2_lossless_gray.tif\" && mkdir -p \"/shared/CSHL_data_processed/MD585/MD585_prep2_lossless_gray\"\n",
      "aws s3 cp \"s3://mousebrainatlas-data/CSHL_data_processed/MD585/MD585_prep2_lossless_gray/MD585-IHC46-2015.08.19-14.47.51_MD585_3_0138_prep2_lossless_gray.tif\" \"/shared/CSHL_data_processed/MD585/MD585_prep2_lossless_gray/MD585-IHC46-2015.08.19-14.47.51_MD585_3_0138_prep2_lossless_gray.tif\"\n",
      "rm -rf \"/shared/CSHL_data_processed/MD585/MD585_prep2_thumbnail_mask/MD585-IHC46-2015.08.19-14.47.51_MD585_3_0138_prep2_thumbnail_mask.png\" && mkdir -p \"/shared/CSHL_data_processed/MD585/MD585_prep2_thumbnail_mask\"\n",
      "aws s3 cp \"s3://mousebrainatlas-data/CSHL_data_processed/MD585/MD585_prep2_thumbnail_mask/MD585-IHC46-2015.08.19-14.47.51_MD585_3_0138_prep2_thumbnail_mask.png\" \"/shared/CSHL_data_processed/MD585/MD585_prep2_thumbnail_mask/MD585-IHC46-2015.08.19-14.47.51_MD585_3_0138_prep2_thumbnail_mask.png\"\n",
      "aws s3 cp \"/shared/CSHL_SPM/sift_keypoints/MD585/MD585-IHC46-2015.08.19-14.47.51_MD585_3_0138_sift_keypoints.bp\" \"s3://mousebrainatlas-data/CSHL_SPM/sift_keypoints/MD585/MD585-IHC46-2015.08.19-14.47.51_MD585_3_0138_sift_keypoints.bp\"\n",
      "aws s3 cp \"/shared/CSHL_SPM/sift_descriptors/MD585/MD585-IHC46-2015.08.19-14.47.51_MD585_3_0138_sift_descriptors.bp\" \"s3://mousebrainatlas-data/CSHL_SPM/sift_descriptors/MD585/MD585-IHC46-2015.08.19-14.47.51_MD585_3_0138_sift_descriptors.bp\"\n",
      "rm -rf \"/shared/CSHL_data_processed/MD585/MD585_prep2_lossless_gray/MD585-N47-2015.07.16-22.50.52_MD585_1_0139_prep2_lossless_gray.tif\" && mkdir -p \"/shared/CSHL_data_processed/MD585/MD585_prep2_lossless_gray\"\n",
      "aws s3 cp \"s3://mousebrainatlas-data/CSHL_data_processed/MD585/MD585_prep2_lossless_gray/MD585-N47-2015.07.16-22.50.52_MD585_1_0139_prep2_lossless_gray.tif\" \"/shared/CSHL_data_processed/MD585/MD585_prep2_lossless_gray/MD585-N47-2015.07.16-22.50.52_MD585_1_0139_prep2_lossless_gray.tif\"\n",
      "rm -rf \"/shared/CSHL_data_processed/MD585/MD585_prep2_thumbnail_mask/MD585-N47-2015.07.16-22.50.52_MD585_1_0139_prep2_thumbnail_mask.png\" && mkdir -p \"/shared/CSHL_data_processed/MD585/MD585_prep2_thumbnail_mask\"\n",
      "aws s3 cp \"s3://mousebrainatlas-data/CSHL_data_processed/MD585/MD585_prep2_thumbnail_mask/MD585-N47-2015.07.16-22.50.52_MD585_1_0139_prep2_thumbnail_mask.png\" \"/shared/CSHL_data_processed/MD585/MD585_prep2_thumbnail_mask/MD585-N47-2015.07.16-22.50.52_MD585_1_0139_prep2_thumbnail_mask.png\"\n",
      "aws s3 cp \"/shared/CSHL_SPM/sift_keypoints/MD585/MD585-N47-2015.07.16-22.50.52_MD585_1_0139_sift_keypoints.bp\" \"s3://mousebrainatlas-data/CSHL_SPM/sift_keypoints/MD585/MD585-N47-2015.07.16-22.50.52_MD585_1_0139_sift_keypoints.bp\"\n"
     ]
    },
    {
     "name": "stdout",
     "output_type": "stream",
     "text": [
      "aws s3 cp \"/shared/CSHL_SPM/sift_descriptors/MD585/MD585-N47-2015.07.16-22.50.52_MD585_1_0139_sift_descriptors.bp\" \"s3://mousebrainatlas-data/CSHL_SPM/sift_descriptors/MD585/MD585-N47-2015.07.16-22.50.52_MD585_1_0139_sift_descriptors.bp\"\n",
      "rm -rf \"/shared/CSHL_data_processed/MD585/MD585_prep2_lossless_gray/MD585-IHC47-2015.08.19-14.53.04_MD585_1_0139_prep2_lossless_gray.tif\" && mkdir -p \"/shared/CSHL_data_processed/MD585/MD585_prep2_lossless_gray\"\n",
      "aws s3 cp \"s3://mousebrainatlas-data/CSHL_data_processed/MD585/MD585_prep2_lossless_gray/MD585-IHC47-2015.08.19-14.53.04_MD585_1_0139_prep2_lossless_gray.tif\" \"/shared/CSHL_data_processed/MD585/MD585_prep2_lossless_gray/MD585-IHC47-2015.08.19-14.53.04_MD585_1_0139_prep2_lossless_gray.tif\"\n",
      "rm -rf \"/shared/CSHL_data_processed/MD585/MD585_prep2_thumbnail_mask/MD585-IHC47-2015.08.19-14.53.04_MD585_1_0139_prep2_thumbnail_mask.png\" && mkdir -p \"/shared/CSHL_data_processed/MD585/MD585_prep2_thumbnail_mask\"\n",
      "aws s3 cp \"s3://mousebrainatlas-data/CSHL_data_processed/MD585/MD585_prep2_thumbnail_mask/MD585-IHC47-2015.08.19-14.53.04_MD585_1_0139_prep2_thumbnail_mask.png\" \"/shared/CSHL_data_processed/MD585/MD585_prep2_thumbnail_mask/MD585-IHC47-2015.08.19-14.53.04_MD585_1_0139_prep2_thumbnail_mask.png\"\n",
      "aws s3 cp \"/shared/CSHL_SPM/sift_keypoints/MD585/MD585-IHC47-2015.08.19-14.53.04_MD585_1_0139_sift_keypoints.bp\" \"s3://mousebrainatlas-data/CSHL_SPM/sift_keypoints/MD585/MD585-IHC47-2015.08.19-14.53.04_MD585_1_0139_sift_keypoints.bp\"\n",
      "aws s3 cp \"/shared/CSHL_SPM/sift_descriptors/MD585/MD585-IHC47-2015.08.19-14.53.04_MD585_1_0139_sift_descriptors.bp\" \"s3://mousebrainatlas-data/CSHL_SPM/sift_descriptors/MD585/MD585-IHC47-2015.08.19-14.53.04_MD585_1_0139_sift_descriptors.bp\"\n",
      "rm -rf \"/shared/CSHL_data_processed/MD585/MD585_prep2_lossless_gray/MD585-N47-2015.07.16-22.50.52_MD585_2_0140_prep2_lossless_gray.tif\" && mkdir -p \"/shared/CSHL_data_processed/MD585/MD585_prep2_lossless_gray\"\n",
      "aws s3 cp \"s3://mousebrainatlas-data/CSHL_data_processed/MD585/MD585_prep2_lossless_gray/MD585-N47-2015.07.16-22.50.52_MD585_2_0140_prep2_lossless_gray.tif\" \"/shared/CSHL_data_processed/MD585/MD585_prep2_lossless_gray/MD585-N47-2015.07.16-22.50.52_MD585_2_0140_prep2_lossless_gray.tif\"\n",
      "rm -rf \"/shared/CSHL_data_processed/MD585/MD585_prep2_thumbnail_mask/MD585-N47-2015.07.16-22.50.52_MD585_2_0140_prep2_thumbnail_mask.png\" && mkdir -p \"/shared/CSHL_data_processed/MD585/MD585_prep2_thumbnail_mask\"\n",
      "aws s3 cp \"s3://mousebrainatlas-data/CSHL_data_processed/MD585/MD585_prep2_thumbnail_mask/MD585-N47-2015.07.16-22.50.52_MD585_2_0140_prep2_thumbnail_mask.png\" \"/shared/CSHL_data_processed/MD585/MD585_prep2_thumbnail_mask/MD585-N47-2015.07.16-22.50.52_MD585_2_0140_prep2_thumbnail_mask.png\"\n",
      "aws s3 cp \"/shared/CSHL_SPM/sift_keypoints/MD585/MD585-N47-2015.07.16-22.50.52_MD585_2_0140_sift_keypoints.bp\" \"s3://mousebrainatlas-data/CSHL_SPM/sift_keypoints/MD585/MD585-N47-2015.07.16-22.50.52_MD585_2_0140_sift_keypoints.bp\"\n",
      "aws s3 cp \"/shared/CSHL_SPM/sift_descriptors/MD585/MD585-N47-2015.07.16-22.50.52_MD585_2_0140_sift_descriptors.bp\" \"s3://mousebrainatlas-data/CSHL_SPM/sift_descriptors/MD585/MD585-N47-2015.07.16-22.50.52_MD585_2_0140_sift_descriptors.bp\"\n",
      "rm -rf \"/shared/CSHL_data_processed/MD585/MD585_prep2_lossless_gray/MD585-IHC47-2015.08.19-14.53.04_MD585_2_0140_prep2_lossless_gray.tif\" && mkdir -p \"/shared/CSHL_data_processed/MD585/MD585_prep2_lossless_gray\"\n",
      "aws s3 cp \"s3://mousebrainatlas-data/CSHL_data_processed/MD585/MD585_prep2_lossless_gray/MD585-IHC47-2015.08.19-14.53.04_MD585_2_0140_prep2_lossless_gray.tif\" \"/shared/CSHL_data_processed/MD585/MD585_prep2_lossless_gray/MD585-IHC47-2015.08.19-14.53.04_MD585_2_0140_prep2_lossless_gray.tif\"\n",
      "rm -rf \"/shared/CSHL_data_processed/MD585/MD585_prep2_thumbnail_mask/MD585-IHC47-2015.08.19-14.53.04_MD585_2_0140_prep2_thumbnail_mask.png\" && mkdir -p \"/shared/CSHL_data_processed/MD585/MD585_prep2_thumbnail_mask\"\n",
      "aws s3 cp \"s3://mousebrainatlas-data/CSHL_data_processed/MD585/MD585_prep2_thumbnail_mask/MD585-IHC47-2015.08.19-14.53.04_MD585_2_0140_prep2_thumbnail_mask.png\" \"/shared/CSHL_data_processed/MD585/MD585_prep2_thumbnail_mask/MD585-IHC47-2015.08.19-14.53.04_MD585_2_0140_prep2_thumbnail_mask.png\"\n",
      "aws s3 cp \"/shared/CSHL_SPM/sift_keypoints/MD585/MD585-IHC47-2015.08.19-14.53.04_MD585_2_0140_sift_keypoints.bp\" \"s3://mousebrainatlas-data/CSHL_SPM/sift_keypoints/MD585/MD585-IHC47-2015.08.19-14.53.04_MD585_2_0140_sift_keypoints.bp\"\n",
      "aws s3 cp \"/shared/CSHL_SPM/sift_descriptors/MD585/MD585-IHC47-2015.08.19-14.53.04_MD585_2_0140_sift_descriptors.bp\" \"s3://mousebrainatlas-data/CSHL_SPM/sift_descriptors/MD585/MD585-IHC47-2015.08.19-14.53.04_MD585_2_0140_sift_descriptors.bp\"\n",
      "rm -rf \"/shared/CSHL_data_processed/MD585/MD585_prep2_lossless_gray/MD585-N47-2015.07.16-22.50.52_MD585_3_0141_prep2_lossless_gray.tif\" && mkdir -p \"/shared/CSHL_data_processed/MD585/MD585_prep2_lossless_gray\"\n",
      "aws s3 cp \"s3://mousebrainatlas-data/CSHL_data_processed/MD585/MD585_prep2_lossless_gray/MD585-N47-2015.07.16-22.50.52_MD585_3_0141_prep2_lossless_gray.tif\" \"/shared/CSHL_data_processed/MD585/MD585_prep2_lossless_gray/MD585-N47-2015.07.16-22.50.52_MD585_3_0141_prep2_lossless_gray.tif\"\n",
      "rm -rf \"/shared/CSHL_data_processed/MD585/MD585_prep2_thumbnail_mask/MD585-N47-2015.07.16-22.50.52_MD585_3_0141_prep2_thumbnail_mask.png\" && mkdir -p \"/shared/CSHL_data_processed/MD585/MD585_prep2_thumbnail_mask\"\n",
      "aws s3 cp \"s3://mousebrainatlas-data/CSHL_data_processed/MD585/MD585_prep2_thumbnail_mask/MD585-N47-2015.07.16-22.50.52_MD585_3_0141_prep2_thumbnail_mask.png\" \"/shared/CSHL_data_processed/MD585/MD585_prep2_thumbnail_mask/MD585-N47-2015.07.16-22.50.52_MD585_3_0141_prep2_thumbnail_mask.png\"\n",
      "aws s3 cp \"/shared/CSHL_SPM/sift_keypoints/MD585/MD585-N47-2015.07.16-22.50.52_MD585_3_0141_sift_keypoints.bp\" \"s3://mousebrainatlas-data/CSHL_SPM/sift_keypoints/MD585/MD585-N47-2015.07.16-22.50.52_MD585_3_0141_sift_keypoints.bp\"\n",
      "aws s3 cp \"/shared/CSHL_SPM/sift_descriptors/MD585/MD585-N47-2015.07.16-22.50.52_MD585_3_0141_sift_descriptors.bp\" \"s3://mousebrainatlas-data/CSHL_SPM/sift_descriptors/MD585/MD585-N47-2015.07.16-22.50.52_MD585_3_0141_sift_descriptors.bp\"\n",
      "rm -rf \"/shared/CSHL_data_processed/MD585/MD585_prep2_lossless_gray/MD585-IHC47-2015.08.19-14.53.04_MD585_3_0141_prep2_lossless_gray.tif\" && mkdir -p \"/shared/CSHL_data_processed/MD585/MD585_prep2_lossless_gray\"\n",
      "aws s3 cp \"s3://mousebrainatlas-data/CSHL_data_processed/MD585/MD585_prep2_lossless_gray/MD585-IHC47-2015.08.19-14.53.04_MD585_3_0141_prep2_lossless_gray.tif\" \"/shared/CSHL_data_processed/MD585/MD585_prep2_lossless_gray/MD585-IHC47-2015.08.19-14.53.04_MD585_3_0141_prep2_lossless_gray.tif\"\n",
      "rm -rf \"/shared/CSHL_data_processed/MD585/MD585_prep2_thumbnail_mask/MD585-IHC47-2015.08.19-14.53.04_MD585_3_0141_prep2_thumbnail_mask.png\" && mkdir -p \"/shared/CSHL_data_processed/MD585/MD585_prep2_thumbnail_mask\"\n",
      "aws s3 cp \"s3://mousebrainatlas-data/CSHL_data_processed/MD585/MD585_prep2_thumbnail_mask/MD585-IHC47-2015.08.19-14.53.04_MD585_3_0141_prep2_thumbnail_mask.png\" \"/shared/CSHL_data_processed/MD585/MD585_prep2_thumbnail_mask/MD585-IHC47-2015.08.19-14.53.04_MD585_3_0141_prep2_thumbnail_mask.png\"\n",
      "aws s3 cp \"/shared/CSHL_SPM/sift_keypoints/MD585/MD585-IHC47-2015.08.19-14.53.04_MD585_3_0141_sift_keypoints.bp\" \"s3://mousebrainatlas-data/CSHL_SPM/sift_keypoints/MD585/MD585-IHC47-2015.08.19-14.53.04_MD585_3_0141_sift_keypoints.bp\"\n",
      "aws s3 cp \"/shared/CSHL_SPM/sift_descriptors/MD585/MD585-IHC47-2015.08.19-14.53.04_MD585_3_0141_sift_descriptors.bp\" \"s3://mousebrainatlas-data/CSHL_SPM/sift_descriptors/MD585/MD585-IHC47-2015.08.19-14.53.04_MD585_3_0141_sift_descriptors.bp\"\n",
      "rm -rf \"/shared/CSHL_data_processed/MD585/MD585_prep2_lossless_gray/MD585-N48-2015.07.16-22.56.02_MD585_1_0142_prep2_lossless_gray.tif\" && mkdir -p \"/shared/CSHL_data_processed/MD585/MD585_prep2_lossless_gray\"\n",
      "aws s3 cp \"s3://mousebrainatlas-data/CSHL_data_processed/MD585/MD585_prep2_lossless_gray/MD585-N48-2015.07.16-22.56.02_MD585_1_0142_prep2_lossless_gray.tif\" \"/shared/CSHL_data_processed/MD585/MD585_prep2_lossless_gray/MD585-N48-2015.07.16-22.56.02_MD585_1_0142_prep2_lossless_gray.tif\"\n",
      "rm -rf \"/shared/CSHL_data_processed/MD585/MD585_prep2_thumbnail_mask/MD585-N48-2015.07.16-22.56.02_MD585_1_0142_prep2_thumbnail_mask.png\" && mkdir -p \"/shared/CSHL_data_processed/MD585/MD585_prep2_thumbnail_mask\"\n",
      "aws s3 cp \"s3://mousebrainatlas-data/CSHL_data_processed/MD585/MD585_prep2_thumbnail_mask/MD585-N48-2015.07.16-22.56.02_MD585_1_0142_prep2_thumbnail_mask.png\" \"/shared/CSHL_data_processed/MD585/MD585_prep2_thumbnail_mask/MD585-N48-2015.07.16-22.56.02_MD585_1_0142_prep2_thumbnail_mask.png\"\n"
     ]
    },
    {
     "name": "stdout",
     "output_type": "stream",
     "text": [
      "aws s3 cp \"/shared/CSHL_SPM/sift_keypoints/MD585/MD585-N48-2015.07.16-22.56.02_MD585_1_0142_sift_keypoints.bp\" \"s3://mousebrainatlas-data/CSHL_SPM/sift_keypoints/MD585/MD585-N48-2015.07.16-22.56.02_MD585_1_0142_sift_keypoints.bp\"\n",
      "aws s3 cp \"/shared/CSHL_SPM/sift_descriptors/MD585/MD585-N48-2015.07.16-22.56.02_MD585_1_0142_sift_descriptors.bp\" \"s3://mousebrainatlas-data/CSHL_SPM/sift_descriptors/MD585/MD585-N48-2015.07.16-22.56.02_MD585_1_0142_sift_descriptors.bp\"\n",
      "rm -rf \"/shared/CSHL_data_processed/MD585/MD585_prep2_lossless_gray/MD585-IHC48-2015.08.19-14.58.14_MD585_1_0142_prep2_lossless_gray.tif\" && mkdir -p \"/shared/CSHL_data_processed/MD585/MD585_prep2_lossless_gray\"\n",
      "aws s3 cp \"s3://mousebrainatlas-data/CSHL_data_processed/MD585/MD585_prep2_lossless_gray/MD585-IHC48-2015.08.19-14.58.14_MD585_1_0142_prep2_lossless_gray.tif\" \"/shared/CSHL_data_processed/MD585/MD585_prep2_lossless_gray/MD585-IHC48-2015.08.19-14.58.14_MD585_1_0142_prep2_lossless_gray.tif\"\n",
      "rm -rf \"/shared/CSHL_data_processed/MD585/MD585_prep2_thumbnail_mask/MD585-IHC48-2015.08.19-14.58.14_MD585_1_0142_prep2_thumbnail_mask.png\" && mkdir -p \"/shared/CSHL_data_processed/MD585/MD585_prep2_thumbnail_mask\"\n",
      "aws s3 cp \"s3://mousebrainatlas-data/CSHL_data_processed/MD585/MD585_prep2_thumbnail_mask/MD585-IHC48-2015.08.19-14.58.14_MD585_1_0142_prep2_thumbnail_mask.png\" \"/shared/CSHL_data_processed/MD585/MD585_prep2_thumbnail_mask/MD585-IHC48-2015.08.19-14.58.14_MD585_1_0142_prep2_thumbnail_mask.png\"\n",
      "aws s3 cp \"/shared/CSHL_SPM/sift_keypoints/MD585/MD585-IHC48-2015.08.19-14.58.14_MD585_1_0142_sift_keypoints.bp\" \"s3://mousebrainatlas-data/CSHL_SPM/sift_keypoints/MD585/MD585-IHC48-2015.08.19-14.58.14_MD585_1_0142_sift_keypoints.bp\"\n",
      "aws s3 cp \"/shared/CSHL_SPM/sift_descriptors/MD585/MD585-IHC48-2015.08.19-14.58.14_MD585_1_0142_sift_descriptors.bp\" \"s3://mousebrainatlas-data/CSHL_SPM/sift_descriptors/MD585/MD585-IHC48-2015.08.19-14.58.14_MD585_1_0142_sift_descriptors.bp\"\n",
      "rm -rf \"/shared/CSHL_data_processed/MD585/MD585_prep2_lossless_gray/MD585-N48-2015.07.16-22.56.02_MD585_2_0143_prep2_lossless_gray.tif\" && mkdir -p \"/shared/CSHL_data_processed/MD585/MD585_prep2_lossless_gray\"\n",
      "aws s3 cp \"s3://mousebrainatlas-data/CSHL_data_processed/MD585/MD585_prep2_lossless_gray/MD585-N48-2015.07.16-22.56.02_MD585_2_0143_prep2_lossless_gray.tif\" \"/shared/CSHL_data_processed/MD585/MD585_prep2_lossless_gray/MD585-N48-2015.07.16-22.56.02_MD585_2_0143_prep2_lossless_gray.tif\"\n",
      "rm -rf \"/shared/CSHL_data_processed/MD585/MD585_prep2_thumbnail_mask/MD585-N48-2015.07.16-22.56.02_MD585_2_0143_prep2_thumbnail_mask.png\" && mkdir -p \"/shared/CSHL_data_processed/MD585/MD585_prep2_thumbnail_mask\"\n",
      "aws s3 cp \"s3://mousebrainatlas-data/CSHL_data_processed/MD585/MD585_prep2_thumbnail_mask/MD585-N48-2015.07.16-22.56.02_MD585_2_0143_prep2_thumbnail_mask.png\" \"/shared/CSHL_data_processed/MD585/MD585_prep2_thumbnail_mask/MD585-N48-2015.07.16-22.56.02_MD585_2_0143_prep2_thumbnail_mask.png\"\n",
      "aws s3 cp \"/shared/CSHL_SPM/sift_keypoints/MD585/MD585-N48-2015.07.16-22.56.02_MD585_2_0143_sift_keypoints.bp\" \"s3://mousebrainatlas-data/CSHL_SPM/sift_keypoints/MD585/MD585-N48-2015.07.16-22.56.02_MD585_2_0143_sift_keypoints.bp\"\n",
      "aws s3 cp \"/shared/CSHL_SPM/sift_descriptors/MD585/MD585-N48-2015.07.16-22.56.02_MD585_2_0143_sift_descriptors.bp\" \"s3://mousebrainatlas-data/CSHL_SPM/sift_descriptors/MD585/MD585-N48-2015.07.16-22.56.02_MD585_2_0143_sift_descriptors.bp\"\n",
      "rm -rf \"/shared/CSHL_data_processed/MD585/MD585_prep2_lossless_gray/MD585-IHC48-2015.08.19-14.58.14_MD585_2_0143_prep2_lossless_gray.tif\" && mkdir -p \"/shared/CSHL_data_processed/MD585/MD585_prep2_lossless_gray\"\n",
      "aws s3 cp \"s3://mousebrainatlas-data/CSHL_data_processed/MD585/MD585_prep2_lossless_gray/MD585-IHC48-2015.08.19-14.58.14_MD585_2_0143_prep2_lossless_gray.tif\" \"/shared/CSHL_data_processed/MD585/MD585_prep2_lossless_gray/MD585-IHC48-2015.08.19-14.58.14_MD585_2_0143_prep2_lossless_gray.tif\"\n",
      "rm -rf \"/shared/CSHL_data_processed/MD585/MD585_prep2_thumbnail_mask/MD585-IHC48-2015.08.19-14.58.14_MD585_2_0143_prep2_thumbnail_mask.png\" && mkdir -p \"/shared/CSHL_data_processed/MD585/MD585_prep2_thumbnail_mask\"\n",
      "aws s3 cp \"s3://mousebrainatlas-data/CSHL_data_processed/MD585/MD585_prep2_thumbnail_mask/MD585-IHC48-2015.08.19-14.58.14_MD585_2_0143_prep2_thumbnail_mask.png\" \"/shared/CSHL_data_processed/MD585/MD585_prep2_thumbnail_mask/MD585-IHC48-2015.08.19-14.58.14_MD585_2_0143_prep2_thumbnail_mask.png\"\n",
      "aws s3 cp \"/shared/CSHL_SPM/sift_keypoints/MD585/MD585-IHC48-2015.08.19-14.58.14_MD585_2_0143_sift_keypoints.bp\" \"s3://mousebrainatlas-data/CSHL_SPM/sift_keypoints/MD585/MD585-IHC48-2015.08.19-14.58.14_MD585_2_0143_sift_keypoints.bp\"\n",
      "aws s3 cp \"/shared/CSHL_SPM/sift_descriptors/MD585/MD585-IHC48-2015.08.19-14.58.14_MD585_2_0143_sift_descriptors.bp\" \"s3://mousebrainatlas-data/CSHL_SPM/sift_descriptors/MD585/MD585-IHC48-2015.08.19-14.58.14_MD585_2_0143_sift_descriptors.bp\"\n",
      "rm -rf \"/shared/CSHL_data_processed/MD585/MD585_prep2_lossless_gray/MD585-N48-2015.07.16-22.56.02_MD585_3_0144_prep2_lossless_gray.tif\" && mkdir -p \"/shared/CSHL_data_processed/MD585/MD585_prep2_lossless_gray\"\n",
      "aws s3 cp \"s3://mousebrainatlas-data/CSHL_data_processed/MD585/MD585_prep2_lossless_gray/MD585-N48-2015.07.16-22.56.02_MD585_3_0144_prep2_lossless_gray.tif\" \"/shared/CSHL_data_processed/MD585/MD585_prep2_lossless_gray/MD585-N48-2015.07.16-22.56.02_MD585_3_0144_prep2_lossless_gray.tif\"\n",
      "rm -rf \"/shared/CSHL_data_processed/MD585/MD585_prep2_thumbnail_mask/MD585-N48-2015.07.16-22.56.02_MD585_3_0144_prep2_thumbnail_mask.png\" && mkdir -p \"/shared/CSHL_data_processed/MD585/MD585_prep2_thumbnail_mask\"\n",
      "aws s3 cp \"s3://mousebrainatlas-data/CSHL_data_processed/MD585/MD585_prep2_thumbnail_mask/MD585-N48-2015.07.16-22.56.02_MD585_3_0144_prep2_thumbnail_mask.png\" \"/shared/CSHL_data_processed/MD585/MD585_prep2_thumbnail_mask/MD585-N48-2015.07.16-22.56.02_MD585_3_0144_prep2_thumbnail_mask.png\"\n",
      "aws s3 cp \"/shared/CSHL_SPM/sift_keypoints/MD585/MD585-N48-2015.07.16-22.56.02_MD585_3_0144_sift_keypoints.bp\" \"s3://mousebrainatlas-data/CSHL_SPM/sift_keypoints/MD585/MD585-N48-2015.07.16-22.56.02_MD585_3_0144_sift_keypoints.bp\"\n",
      "aws s3 cp \"/shared/CSHL_SPM/sift_descriptors/MD585/MD585-N48-2015.07.16-22.56.02_MD585_3_0144_sift_descriptors.bp\" \"s3://mousebrainatlas-data/CSHL_SPM/sift_descriptors/MD585/MD585-N48-2015.07.16-22.56.02_MD585_3_0144_sift_descriptors.bp\"\n",
      "rm -rf \"/shared/CSHL_data_processed/MD585/MD585_prep2_lossless_gray/MD585-IHC48-2015.08.19-14.58.14_MD585_3_0144_prep2_lossless_gray.tif\" && mkdir -p \"/shared/CSHL_data_processed/MD585/MD585_prep2_lossless_gray\"\n",
      "aws s3 cp \"s3://mousebrainatlas-data/CSHL_data_processed/MD585/MD585_prep2_lossless_gray/MD585-IHC48-2015.08.19-14.58.14_MD585_3_0144_prep2_lossless_gray.tif\" \"/shared/CSHL_data_processed/MD585/MD585_prep2_lossless_gray/MD585-IHC48-2015.08.19-14.58.14_MD585_3_0144_prep2_lossless_gray.tif\"\n",
      "rm -rf \"/shared/CSHL_data_processed/MD585/MD585_prep2_thumbnail_mask/MD585-IHC48-2015.08.19-14.58.14_MD585_3_0144_prep2_thumbnail_mask.png\" && mkdir -p \"/shared/CSHL_data_processed/MD585/MD585_prep2_thumbnail_mask\"\n",
      "aws s3 cp \"s3://mousebrainatlas-data/CSHL_data_processed/MD585/MD585_prep2_thumbnail_mask/MD585-IHC48-2015.08.19-14.58.14_MD585_3_0144_prep2_thumbnail_mask.png\" \"/shared/CSHL_data_processed/MD585/MD585_prep2_thumbnail_mask/MD585-IHC48-2015.08.19-14.58.14_MD585_3_0144_prep2_thumbnail_mask.png\"\n",
      "aws s3 cp \"/shared/CSHL_SPM/sift_keypoints/MD585/MD585-IHC48-2015.08.19-14.58.14_MD585_3_0144_sift_keypoints.bp\" \"s3://mousebrainatlas-data/CSHL_SPM/sift_keypoints/MD585/MD585-IHC48-2015.08.19-14.58.14_MD585_3_0144_sift_keypoints.bp\"\n",
      "aws s3 cp \"/shared/CSHL_SPM/sift_descriptors/MD585/MD585-IHC48-2015.08.19-14.58.14_MD585_3_0144_sift_descriptors.bp\" \"s3://mousebrainatlas-data/CSHL_SPM/sift_descriptors/MD585/MD585-IHC48-2015.08.19-14.58.14_MD585_3_0144_sift_descriptors.bp\"\n",
      "rm -rf \"/shared/CSHL_data_processed/MD585/MD585_prep2_lossless_gray/MD585-N49-2015.07.16-23.01.02_MD585_1_0145_prep2_lossless_gray.tif\" && mkdir -p \"/shared/CSHL_data_processed/MD585/MD585_prep2_lossless_gray\"\n",
      "aws s3 cp \"s3://mousebrainatlas-data/CSHL_data_processed/MD585/MD585_prep2_lossless_gray/MD585-N49-2015.07.16-23.01.02_MD585_1_0145_prep2_lossless_gray.tif\" \"/shared/CSHL_data_processed/MD585/MD585_prep2_lossless_gray/MD585-N49-2015.07.16-23.01.02_MD585_1_0145_prep2_lossless_gray.tif\"\n"
     ]
    },
    {
     "name": "stdout",
     "output_type": "stream",
     "text": [
      "rm -rf \"/shared/CSHL_data_processed/MD585/MD585_prep2_thumbnail_mask/MD585-N49-2015.07.16-23.01.02_MD585_1_0145_prep2_thumbnail_mask.png\" && mkdir -p \"/shared/CSHL_data_processed/MD585/MD585_prep2_thumbnail_mask\"\n",
      "aws s3 cp \"s3://mousebrainatlas-data/CSHL_data_processed/MD585/MD585_prep2_thumbnail_mask/MD585-N49-2015.07.16-23.01.02_MD585_1_0145_prep2_thumbnail_mask.png\" \"/shared/CSHL_data_processed/MD585/MD585_prep2_thumbnail_mask/MD585-N49-2015.07.16-23.01.02_MD585_1_0145_prep2_thumbnail_mask.png\"\n",
      "aws s3 cp \"/shared/CSHL_SPM/sift_keypoints/MD585/MD585-N49-2015.07.16-23.01.02_MD585_1_0145_sift_keypoints.bp\" \"s3://mousebrainatlas-data/CSHL_SPM/sift_keypoints/MD585/MD585-N49-2015.07.16-23.01.02_MD585_1_0145_sift_keypoints.bp\"\n",
      "aws s3 cp \"/shared/CSHL_SPM/sift_descriptors/MD585/MD585-N49-2015.07.16-23.01.02_MD585_1_0145_sift_descriptors.bp\" \"s3://mousebrainatlas-data/CSHL_SPM/sift_descriptors/MD585/MD585-N49-2015.07.16-23.01.02_MD585_1_0145_sift_descriptors.bp\"\n",
      "rm -rf \"/shared/CSHL_data_processed/MD585/MD585_prep2_lossless_gray/MD585-IHC49-2015.07.16-17.58.21_MD585_3_0147_prep2_lossless_gray.tif\" && mkdir -p \"/shared/CSHL_data_processed/MD585/MD585_prep2_lossless_gray\"\n",
      "aws s3 cp \"s3://mousebrainatlas-data/CSHL_data_processed/MD585/MD585_prep2_lossless_gray/MD585-IHC49-2015.07.16-17.58.21_MD585_3_0147_prep2_lossless_gray.tif\" \"/shared/CSHL_data_processed/MD585/MD585_prep2_lossless_gray/MD585-IHC49-2015.07.16-17.58.21_MD585_3_0147_prep2_lossless_gray.tif\"\n",
      "rm -rf \"/shared/CSHL_data_processed/MD585/MD585_prep2_thumbnail_mask/MD585-IHC49-2015.07.16-17.58.21_MD585_3_0147_prep2_thumbnail_mask.png\" && mkdir -p \"/shared/CSHL_data_processed/MD585/MD585_prep2_thumbnail_mask\"\n",
      "aws s3 cp \"s3://mousebrainatlas-data/CSHL_data_processed/MD585/MD585_prep2_thumbnail_mask/MD585-IHC49-2015.07.16-17.58.21_MD585_3_0147_prep2_thumbnail_mask.png\" \"/shared/CSHL_data_processed/MD585/MD585_prep2_thumbnail_mask/MD585-IHC49-2015.07.16-17.58.21_MD585_3_0147_prep2_thumbnail_mask.png\"\n",
      "aws s3 cp \"/shared/CSHL_SPM/sift_keypoints/MD585/MD585-IHC49-2015.07.16-17.58.21_MD585_3_0147_sift_keypoints.bp\" \"s3://mousebrainatlas-data/CSHL_SPM/sift_keypoints/MD585/MD585-IHC49-2015.07.16-17.58.21_MD585_3_0147_sift_keypoints.bp\"\n",
      "aws s3 cp \"/shared/CSHL_SPM/sift_descriptors/MD585/MD585-IHC49-2015.07.16-17.58.21_MD585_3_0147_sift_descriptors.bp\" \"s3://mousebrainatlas-data/CSHL_SPM/sift_descriptors/MD585/MD585-IHC49-2015.07.16-17.58.21_MD585_3_0147_sift_descriptors.bp\"\n",
      "rm -rf \"/shared/CSHL_data_processed/MD585/MD585_prep2_lossless_gray/MD585-N49-2015.07.16-23.01.02_MD585_2_0146_prep2_lossless_gray.tif\" && mkdir -p \"/shared/CSHL_data_processed/MD585/MD585_prep2_lossless_gray\"\n",
      "aws s3 cp \"s3://mousebrainatlas-data/CSHL_data_processed/MD585/MD585_prep2_lossless_gray/MD585-N49-2015.07.16-23.01.02_MD585_2_0146_prep2_lossless_gray.tif\" \"/shared/CSHL_data_processed/MD585/MD585_prep2_lossless_gray/MD585-N49-2015.07.16-23.01.02_MD585_2_0146_prep2_lossless_gray.tif\"\n",
      "rm -rf \"/shared/CSHL_data_processed/MD585/MD585_prep2_thumbnail_mask/MD585-N49-2015.07.16-23.01.02_MD585_2_0146_prep2_thumbnail_mask.png\" && mkdir -p \"/shared/CSHL_data_processed/MD585/MD585_prep2_thumbnail_mask\"\n",
      "aws s3 cp \"s3://mousebrainatlas-data/CSHL_data_processed/MD585/MD585_prep2_thumbnail_mask/MD585-N49-2015.07.16-23.01.02_MD585_2_0146_prep2_thumbnail_mask.png\" \"/shared/CSHL_data_processed/MD585/MD585_prep2_thumbnail_mask/MD585-N49-2015.07.16-23.01.02_MD585_2_0146_prep2_thumbnail_mask.png\"\n",
      "aws s3 cp \"/shared/CSHL_SPM/sift_keypoints/MD585/MD585-N49-2015.07.16-23.01.02_MD585_2_0146_sift_keypoints.bp\" \"s3://mousebrainatlas-data/CSHL_SPM/sift_keypoints/MD585/MD585-N49-2015.07.16-23.01.02_MD585_2_0146_sift_keypoints.bp\"\n",
      "aws s3 cp \"/shared/CSHL_SPM/sift_descriptors/MD585/MD585-N49-2015.07.16-23.01.02_MD585_2_0146_sift_descriptors.bp\" \"s3://mousebrainatlas-data/CSHL_SPM/sift_descriptors/MD585/MD585-N49-2015.07.16-23.01.02_MD585_2_0146_sift_descriptors.bp\"\n",
      "rm -rf \"/shared/CSHL_data_processed/MD585/MD585_prep2_lossless_gray/MD585-IHC49-2015.07.16-17.58.21_MD585_2_0146_prep2_lossless_gray.tif\" && mkdir -p \"/shared/CSHL_data_processed/MD585/MD585_prep2_lossless_gray\"\n",
      "aws s3 cp \"s3://mousebrainatlas-data/CSHL_data_processed/MD585/MD585_prep2_lossless_gray/MD585-IHC49-2015.07.16-17.58.21_MD585_2_0146_prep2_lossless_gray.tif\" \"/shared/CSHL_data_processed/MD585/MD585_prep2_lossless_gray/MD585-IHC49-2015.07.16-17.58.21_MD585_2_0146_prep2_lossless_gray.tif\"\n",
      "rm -rf \"/shared/CSHL_data_processed/MD585/MD585_prep2_thumbnail_mask/MD585-IHC49-2015.07.16-17.58.21_MD585_2_0146_prep2_thumbnail_mask.png\" && mkdir -p \"/shared/CSHL_data_processed/MD585/MD585_prep2_thumbnail_mask\"\n",
      "aws s3 cp \"s3://mousebrainatlas-data/CSHL_data_processed/MD585/MD585_prep2_thumbnail_mask/MD585-IHC49-2015.07.16-17.58.21_MD585_2_0146_prep2_thumbnail_mask.png\" \"/shared/CSHL_data_processed/MD585/MD585_prep2_thumbnail_mask/MD585-IHC49-2015.07.16-17.58.21_MD585_2_0146_prep2_thumbnail_mask.png\"\n",
      "aws s3 cp \"/shared/CSHL_SPM/sift_keypoints/MD585/MD585-IHC49-2015.07.16-17.58.21_MD585_2_0146_sift_keypoints.bp\" \"s3://mousebrainatlas-data/CSHL_SPM/sift_keypoints/MD585/MD585-IHC49-2015.07.16-17.58.21_MD585_2_0146_sift_keypoints.bp\"\n",
      "aws s3 cp \"/shared/CSHL_SPM/sift_descriptors/MD585/MD585-IHC49-2015.07.16-17.58.21_MD585_2_0146_sift_descriptors.bp\" \"s3://mousebrainatlas-data/CSHL_SPM/sift_descriptors/MD585/MD585-IHC49-2015.07.16-17.58.21_MD585_2_0146_sift_descriptors.bp\"\n",
      "rm -rf \"/shared/CSHL_data_processed/MD585/MD585_prep2_lossless_gray/MD585-N49-2015.07.16-23.01.02_MD585_3_0147_prep2_lossless_gray.tif\" && mkdir -p \"/shared/CSHL_data_processed/MD585/MD585_prep2_lossless_gray\"\n",
      "aws s3 cp \"s3://mousebrainatlas-data/CSHL_data_processed/MD585/MD585_prep2_lossless_gray/MD585-N49-2015.07.16-23.01.02_MD585_3_0147_prep2_lossless_gray.tif\" \"/shared/CSHL_data_processed/MD585/MD585_prep2_lossless_gray/MD585-N49-2015.07.16-23.01.02_MD585_3_0147_prep2_lossless_gray.tif\"\n",
      "rm -rf \"/shared/CSHL_data_processed/MD585/MD585_prep2_thumbnail_mask/MD585-N49-2015.07.16-23.01.02_MD585_3_0147_prep2_thumbnail_mask.png\" && mkdir -p \"/shared/CSHL_data_processed/MD585/MD585_prep2_thumbnail_mask\"\n",
      "aws s3 cp \"s3://mousebrainatlas-data/CSHL_data_processed/MD585/MD585_prep2_thumbnail_mask/MD585-N49-2015.07.16-23.01.02_MD585_3_0147_prep2_thumbnail_mask.png\" \"/shared/CSHL_data_processed/MD585/MD585_prep2_thumbnail_mask/MD585-N49-2015.07.16-23.01.02_MD585_3_0147_prep2_thumbnail_mask.png\"\n",
      "aws s3 cp \"/shared/CSHL_SPM/sift_keypoints/MD585/MD585-N49-2015.07.16-23.01.02_MD585_3_0147_sift_keypoints.bp\" \"s3://mousebrainatlas-data/CSHL_SPM/sift_keypoints/MD585/MD585-N49-2015.07.16-23.01.02_MD585_3_0147_sift_keypoints.bp\"\n",
      "aws s3 cp \"/shared/CSHL_SPM/sift_descriptors/MD585/MD585-N49-2015.07.16-23.01.02_MD585_3_0147_sift_descriptors.bp\" \"s3://mousebrainatlas-data/CSHL_SPM/sift_descriptors/MD585/MD585-N49-2015.07.16-23.01.02_MD585_3_0147_sift_descriptors.bp\"\n",
      "rm -rf \"/shared/CSHL_data_processed/MD585/MD585_prep2_lossless_gray/MD585-IHC49-2015.07.16-17.58.21_MD585_1_0145_prep2_lossless_gray.tif\" && mkdir -p \"/shared/CSHL_data_processed/MD585/MD585_prep2_lossless_gray\"\n",
      "aws s3 cp \"s3://mousebrainatlas-data/CSHL_data_processed/MD585/MD585_prep2_lossless_gray/MD585-IHC49-2015.07.16-17.58.21_MD585_1_0145_prep2_lossless_gray.tif\" \"/shared/CSHL_data_processed/MD585/MD585_prep2_lossless_gray/MD585-IHC49-2015.07.16-17.58.21_MD585_1_0145_prep2_lossless_gray.tif\"\n",
      "rm -rf \"/shared/CSHL_data_processed/MD585/MD585_prep2_thumbnail_mask/MD585-IHC49-2015.07.16-17.58.21_MD585_1_0145_prep2_thumbnail_mask.png\" && mkdir -p \"/shared/CSHL_data_processed/MD585/MD585_prep2_thumbnail_mask\"\n",
      "aws s3 cp \"s3://mousebrainatlas-data/CSHL_data_processed/MD585/MD585_prep2_thumbnail_mask/MD585-IHC49-2015.07.16-17.58.21_MD585_1_0145_prep2_thumbnail_mask.png\" \"/shared/CSHL_data_processed/MD585/MD585_prep2_thumbnail_mask/MD585-IHC49-2015.07.16-17.58.21_MD585_1_0145_prep2_thumbnail_mask.png\"\n",
      "aws s3 cp \"/shared/CSHL_SPM/sift_keypoints/MD585/MD585-IHC49-2015.07.16-17.58.21_MD585_1_0145_sift_keypoints.bp\" \"s3://mousebrainatlas-data/CSHL_SPM/sift_keypoints/MD585/MD585-IHC49-2015.07.16-17.58.21_MD585_1_0145_sift_keypoints.bp\"\n",
      "aws s3 cp \"/shared/CSHL_SPM/sift_descriptors/MD585/MD585-IHC49-2015.07.16-17.58.21_MD585_1_0145_sift_descriptors.bp\" \"s3://mousebrainatlas-data/CSHL_SPM/sift_descriptors/MD585/MD585-IHC49-2015.07.16-17.58.21_MD585_1_0145_sift_descriptors.bp\"\n"
     ]
    },
    {
     "name": "stdout",
     "output_type": "stream",
     "text": [
      "rm -rf \"/shared/CSHL_data_processed/MD585/MD585_prep2_lossless_gray/MD585-N50-2015.07.16-23.05.49_MD585_1_0148_prep2_lossless_gray.tif\" && mkdir -p \"/shared/CSHL_data_processed/MD585/MD585_prep2_lossless_gray\"\n",
      "aws s3 cp \"s3://mousebrainatlas-data/CSHL_data_processed/MD585/MD585_prep2_lossless_gray/MD585-N50-2015.07.16-23.05.49_MD585_1_0148_prep2_lossless_gray.tif\" \"/shared/CSHL_data_processed/MD585/MD585_prep2_lossless_gray/MD585-N50-2015.07.16-23.05.49_MD585_1_0148_prep2_lossless_gray.tif\"\n",
      "rm -rf \"/shared/CSHL_data_processed/MD585/MD585_prep2_thumbnail_mask/MD585-N50-2015.07.16-23.05.49_MD585_1_0148_prep2_thumbnail_mask.png\" && mkdir -p \"/shared/CSHL_data_processed/MD585/MD585_prep2_thumbnail_mask\"\n",
      "aws s3 cp \"s3://mousebrainatlas-data/CSHL_data_processed/MD585/MD585_prep2_thumbnail_mask/MD585-N50-2015.07.16-23.05.49_MD585_1_0148_prep2_thumbnail_mask.png\" \"/shared/CSHL_data_processed/MD585/MD585_prep2_thumbnail_mask/MD585-N50-2015.07.16-23.05.49_MD585_1_0148_prep2_thumbnail_mask.png\"\n",
      "aws s3 cp \"/shared/CSHL_SPM/sift_keypoints/MD585/MD585-N50-2015.07.16-23.05.49_MD585_1_0148_sift_keypoints.bp\" \"s3://mousebrainatlas-data/CSHL_SPM/sift_keypoints/MD585/MD585-N50-2015.07.16-23.05.49_MD585_1_0148_sift_keypoints.bp\"\n",
      "aws s3 cp \"/shared/CSHL_SPM/sift_descriptors/MD585/MD585-N50-2015.07.16-23.05.49_MD585_1_0148_sift_descriptors.bp\" \"s3://mousebrainatlas-data/CSHL_SPM/sift_descriptors/MD585/MD585-N50-2015.07.16-23.05.49_MD585_1_0148_sift_descriptors.bp\"\n",
      "rm -rf \"/shared/CSHL_data_processed/MD585/MD585_prep2_lossless_gray/MD585-IHC50-2015.07.16-18.02.54_MD585_3_0150_prep2_lossless_gray.tif\" && mkdir -p \"/shared/CSHL_data_processed/MD585/MD585_prep2_lossless_gray\"\n",
      "aws s3 cp \"s3://mousebrainatlas-data/CSHL_data_processed/MD585/MD585_prep2_lossless_gray/MD585-IHC50-2015.07.16-18.02.54_MD585_3_0150_prep2_lossless_gray.tif\" \"/shared/CSHL_data_processed/MD585/MD585_prep2_lossless_gray/MD585-IHC50-2015.07.16-18.02.54_MD585_3_0150_prep2_lossless_gray.tif\"\n",
      "rm -rf \"/shared/CSHL_data_processed/MD585/MD585_prep2_thumbnail_mask/MD585-IHC50-2015.07.16-18.02.54_MD585_3_0150_prep2_thumbnail_mask.png\" && mkdir -p \"/shared/CSHL_data_processed/MD585/MD585_prep2_thumbnail_mask\"\n",
      "aws s3 cp \"s3://mousebrainatlas-data/CSHL_data_processed/MD585/MD585_prep2_thumbnail_mask/MD585-IHC50-2015.07.16-18.02.54_MD585_3_0150_prep2_thumbnail_mask.png\" \"/shared/CSHL_data_processed/MD585/MD585_prep2_thumbnail_mask/MD585-IHC50-2015.07.16-18.02.54_MD585_3_0150_prep2_thumbnail_mask.png\"\n",
      "aws s3 cp \"/shared/CSHL_SPM/sift_keypoints/MD585/MD585-IHC50-2015.07.16-18.02.54_MD585_3_0150_sift_keypoints.bp\" \"s3://mousebrainatlas-data/CSHL_SPM/sift_keypoints/MD585/MD585-IHC50-2015.07.16-18.02.54_MD585_3_0150_sift_keypoints.bp\"\n",
      "aws s3 cp \"/shared/CSHL_SPM/sift_descriptors/MD585/MD585-IHC50-2015.07.16-18.02.54_MD585_3_0150_sift_descriptors.bp\" \"s3://mousebrainatlas-data/CSHL_SPM/sift_descriptors/MD585/MD585-IHC50-2015.07.16-18.02.54_MD585_3_0150_sift_descriptors.bp\"\n",
      "rm -rf \"/shared/CSHL_data_processed/MD585/MD585_prep2_lossless_gray/MD585-N50-2015.07.16-23.05.49_MD585_2_0149_prep2_lossless_gray.tif\" && mkdir -p \"/shared/CSHL_data_processed/MD585/MD585_prep2_lossless_gray\"\n",
      "aws s3 cp \"s3://mousebrainatlas-data/CSHL_data_processed/MD585/MD585_prep2_lossless_gray/MD585-N50-2015.07.16-23.05.49_MD585_2_0149_prep2_lossless_gray.tif\" \"/shared/CSHL_data_processed/MD585/MD585_prep2_lossless_gray/MD585-N50-2015.07.16-23.05.49_MD585_2_0149_prep2_lossless_gray.tif\"\n",
      "rm -rf \"/shared/CSHL_data_processed/MD585/MD585_prep2_thumbnail_mask/MD585-N50-2015.07.16-23.05.49_MD585_2_0149_prep2_thumbnail_mask.png\" && mkdir -p \"/shared/CSHL_data_processed/MD585/MD585_prep2_thumbnail_mask\"\n",
      "aws s3 cp \"s3://mousebrainatlas-data/CSHL_data_processed/MD585/MD585_prep2_thumbnail_mask/MD585-N50-2015.07.16-23.05.49_MD585_2_0149_prep2_thumbnail_mask.png\" \"/shared/CSHL_data_processed/MD585/MD585_prep2_thumbnail_mask/MD585-N50-2015.07.16-23.05.49_MD585_2_0149_prep2_thumbnail_mask.png\"\n",
      "aws s3 cp \"/shared/CSHL_SPM/sift_keypoints/MD585/MD585-N50-2015.07.16-23.05.49_MD585_2_0149_sift_keypoints.bp\" \"s3://mousebrainatlas-data/CSHL_SPM/sift_keypoints/MD585/MD585-N50-2015.07.16-23.05.49_MD585_2_0149_sift_keypoints.bp\"\n",
      "aws s3 cp \"/shared/CSHL_SPM/sift_descriptors/MD585/MD585-N50-2015.07.16-23.05.49_MD585_2_0149_sift_descriptors.bp\" \"s3://mousebrainatlas-data/CSHL_SPM/sift_descriptors/MD585/MD585-N50-2015.07.16-23.05.49_MD585_2_0149_sift_descriptors.bp\"\n",
      "rm -rf \"/shared/CSHL_data_processed/MD585/MD585_prep2_lossless_gray/MD585-IHC50-2015.07.16-18.02.54_MD585_2_0149_prep2_lossless_gray.tif\" && mkdir -p \"/shared/CSHL_data_processed/MD585/MD585_prep2_lossless_gray\"\n",
      "aws s3 cp \"s3://mousebrainatlas-data/CSHL_data_processed/MD585/MD585_prep2_lossless_gray/MD585-IHC50-2015.07.16-18.02.54_MD585_2_0149_prep2_lossless_gray.tif\" \"/shared/CSHL_data_processed/MD585/MD585_prep2_lossless_gray/MD585-IHC50-2015.07.16-18.02.54_MD585_2_0149_prep2_lossless_gray.tif\"\n",
      "rm -rf \"/shared/CSHL_data_processed/MD585/MD585_prep2_thumbnail_mask/MD585-IHC50-2015.07.16-18.02.54_MD585_2_0149_prep2_thumbnail_mask.png\" && mkdir -p \"/shared/CSHL_data_processed/MD585/MD585_prep2_thumbnail_mask\"\n",
      "aws s3 cp \"s3://mousebrainatlas-data/CSHL_data_processed/MD585/MD585_prep2_thumbnail_mask/MD585-IHC50-2015.07.16-18.02.54_MD585_2_0149_prep2_thumbnail_mask.png\" \"/shared/CSHL_data_processed/MD585/MD585_prep2_thumbnail_mask/MD585-IHC50-2015.07.16-18.02.54_MD585_2_0149_prep2_thumbnail_mask.png\"\n",
      "aws s3 cp \"/shared/CSHL_SPM/sift_keypoints/MD585/MD585-IHC50-2015.07.16-18.02.54_MD585_2_0149_sift_keypoints.bp\" \"s3://mousebrainatlas-data/CSHL_SPM/sift_keypoints/MD585/MD585-IHC50-2015.07.16-18.02.54_MD585_2_0149_sift_keypoints.bp\"\n",
      "aws s3 cp \"/shared/CSHL_SPM/sift_descriptors/MD585/MD585-IHC50-2015.07.16-18.02.54_MD585_2_0149_sift_descriptors.bp\" \"s3://mousebrainatlas-data/CSHL_SPM/sift_descriptors/MD585/MD585-IHC50-2015.07.16-18.02.54_MD585_2_0149_sift_descriptors.bp\"\n",
      "rm -rf \"/shared/CSHL_data_processed/MD585/MD585_prep2_lossless_gray/MD585-N50-2015.07.16-23.05.49_MD585_3_0150_prep2_lossless_gray.tif\" && mkdir -p \"/shared/CSHL_data_processed/MD585/MD585_prep2_lossless_gray\"\n",
      "aws s3 cp \"s3://mousebrainatlas-data/CSHL_data_processed/MD585/MD585_prep2_lossless_gray/MD585-N50-2015.07.16-23.05.49_MD585_3_0150_prep2_lossless_gray.tif\" \"/shared/CSHL_data_processed/MD585/MD585_prep2_lossless_gray/MD585-N50-2015.07.16-23.05.49_MD585_3_0150_prep2_lossless_gray.tif\"\n",
      "rm -rf \"/shared/CSHL_data_processed/MD585/MD585_prep2_thumbnail_mask/MD585-N50-2015.07.16-23.05.49_MD585_3_0150_prep2_thumbnail_mask.png\" && mkdir -p \"/shared/CSHL_data_processed/MD585/MD585_prep2_thumbnail_mask\"\n",
      "aws s3 cp \"s3://mousebrainatlas-data/CSHL_data_processed/MD585/MD585_prep2_thumbnail_mask/MD585-N50-2015.07.16-23.05.49_MD585_3_0150_prep2_thumbnail_mask.png\" \"/shared/CSHL_data_processed/MD585/MD585_prep2_thumbnail_mask/MD585-N50-2015.07.16-23.05.49_MD585_3_0150_prep2_thumbnail_mask.png\"\n",
      "aws s3 cp \"/shared/CSHL_SPM/sift_keypoints/MD585/MD585-N50-2015.07.16-23.05.49_MD585_3_0150_sift_keypoints.bp\" \"s3://mousebrainatlas-data/CSHL_SPM/sift_keypoints/MD585/MD585-N50-2015.07.16-23.05.49_MD585_3_0150_sift_keypoints.bp\"\n",
      "aws s3 cp \"/shared/CSHL_SPM/sift_descriptors/MD585/MD585-N50-2015.07.16-23.05.49_MD585_3_0150_sift_descriptors.bp\" \"s3://mousebrainatlas-data/CSHL_SPM/sift_descriptors/MD585/MD585-N50-2015.07.16-23.05.49_MD585_3_0150_sift_descriptors.bp\"\n",
      "rm -rf \"/shared/CSHL_data_processed/MD585/MD585_prep2_lossless_gray/MD585-IHC50-2015.07.16-18.02.54_MD585_1_0148_prep2_lossless_gray.tif\" && mkdir -p \"/shared/CSHL_data_processed/MD585/MD585_prep2_lossless_gray\"\n",
      "aws s3 cp \"s3://mousebrainatlas-data/CSHL_data_processed/MD585/MD585_prep2_lossless_gray/MD585-IHC50-2015.07.16-18.02.54_MD585_1_0148_prep2_lossless_gray.tif\" \"/shared/CSHL_data_processed/MD585/MD585_prep2_lossless_gray/MD585-IHC50-2015.07.16-18.02.54_MD585_1_0148_prep2_lossless_gray.tif\"\n",
      "rm -rf \"/shared/CSHL_data_processed/MD585/MD585_prep2_thumbnail_mask/MD585-IHC50-2015.07.16-18.02.54_MD585_1_0148_prep2_thumbnail_mask.png\" && mkdir -p \"/shared/CSHL_data_processed/MD585/MD585_prep2_thumbnail_mask\"\n",
      "aws s3 cp \"s3://mousebrainatlas-data/CSHL_data_processed/MD585/MD585_prep2_thumbnail_mask/MD585-IHC50-2015.07.16-18.02.54_MD585_1_0148_prep2_thumbnail_mask.png\" \"/shared/CSHL_data_processed/MD585/MD585_prep2_thumbnail_mask/MD585-IHC50-2015.07.16-18.02.54_MD585_1_0148_prep2_thumbnail_mask.png\"\n"
     ]
    },
    {
     "name": "stdout",
     "output_type": "stream",
     "text": [
      "aws s3 cp \"/shared/CSHL_SPM/sift_keypoints/MD585/MD585-IHC50-2015.07.16-18.02.54_MD585_1_0148_sift_keypoints.bp\" \"s3://mousebrainatlas-data/CSHL_SPM/sift_keypoints/MD585/MD585-IHC50-2015.07.16-18.02.54_MD585_1_0148_sift_keypoints.bp\"\n",
      "aws s3 cp \"/shared/CSHL_SPM/sift_descriptors/MD585/MD585-IHC50-2015.07.16-18.02.54_MD585_1_0148_sift_descriptors.bp\" \"s3://mousebrainatlas-data/CSHL_SPM/sift_descriptors/MD585/MD585-IHC50-2015.07.16-18.02.54_MD585_1_0148_sift_descriptors.bp\"\n",
      "rm -rf \"/shared/CSHL_data_processed/MD585/MD585_prep2_lossless_gray/MD585-N51-2015.07.16-23.10.35_MD585_1_0151_prep2_lossless_gray.tif\" && mkdir -p \"/shared/CSHL_data_processed/MD585/MD585_prep2_lossless_gray\"\n",
      "aws s3 cp \"s3://mousebrainatlas-data/CSHL_data_processed/MD585/MD585_prep2_lossless_gray/MD585-N51-2015.07.16-23.10.35_MD585_1_0151_prep2_lossless_gray.tif\" \"/shared/CSHL_data_processed/MD585/MD585_prep2_lossless_gray/MD585-N51-2015.07.16-23.10.35_MD585_1_0151_prep2_lossless_gray.tif\"\n",
      "rm -rf \"/shared/CSHL_data_processed/MD585/MD585_prep2_thumbnail_mask/MD585-N51-2015.07.16-23.10.35_MD585_1_0151_prep2_thumbnail_mask.png\" && mkdir -p \"/shared/CSHL_data_processed/MD585/MD585_prep2_thumbnail_mask\"\n",
      "aws s3 cp \"s3://mousebrainatlas-data/CSHL_data_processed/MD585/MD585_prep2_thumbnail_mask/MD585-N51-2015.07.16-23.10.35_MD585_1_0151_prep2_thumbnail_mask.png\" \"/shared/CSHL_data_processed/MD585/MD585_prep2_thumbnail_mask/MD585-N51-2015.07.16-23.10.35_MD585_1_0151_prep2_thumbnail_mask.png\"\n",
      "aws s3 cp \"/shared/CSHL_SPM/sift_keypoints/MD585/MD585-N51-2015.07.16-23.10.35_MD585_1_0151_sift_keypoints.bp\" \"s3://mousebrainatlas-data/CSHL_SPM/sift_keypoints/MD585/MD585-N51-2015.07.16-23.10.35_MD585_1_0151_sift_keypoints.bp\"\n",
      "aws s3 cp \"/shared/CSHL_SPM/sift_descriptors/MD585/MD585-N51-2015.07.16-23.10.35_MD585_1_0151_sift_descriptors.bp\" \"s3://mousebrainatlas-data/CSHL_SPM/sift_descriptors/MD585/MD585-N51-2015.07.16-23.10.35_MD585_1_0151_sift_descriptors.bp\"\n",
      "rm -rf \"/shared/CSHL_data_processed/MD585/MD585_prep2_lossless_gray/MD585-IHC51-2015.08.19-15.03.10_MD585_1_0151_prep2_lossless_gray.tif\" && mkdir -p \"/shared/CSHL_data_processed/MD585/MD585_prep2_lossless_gray\"\n",
      "aws s3 cp \"s3://mousebrainatlas-data/CSHL_data_processed/MD585/MD585_prep2_lossless_gray/MD585-IHC51-2015.08.19-15.03.10_MD585_1_0151_prep2_lossless_gray.tif\" \"/shared/CSHL_data_processed/MD585/MD585_prep2_lossless_gray/MD585-IHC51-2015.08.19-15.03.10_MD585_1_0151_prep2_lossless_gray.tif\"\n",
      "rm -rf \"/shared/CSHL_data_processed/MD585/MD585_prep2_thumbnail_mask/MD585-IHC51-2015.08.19-15.03.10_MD585_1_0151_prep2_thumbnail_mask.png\" && mkdir -p \"/shared/CSHL_data_processed/MD585/MD585_prep2_thumbnail_mask\"\n",
      "aws s3 cp \"s3://mousebrainatlas-data/CSHL_data_processed/MD585/MD585_prep2_thumbnail_mask/MD585-IHC51-2015.08.19-15.03.10_MD585_1_0151_prep2_thumbnail_mask.png\" \"/shared/CSHL_data_processed/MD585/MD585_prep2_thumbnail_mask/MD585-IHC51-2015.08.19-15.03.10_MD585_1_0151_prep2_thumbnail_mask.png\"\n",
      "aws s3 cp \"/shared/CSHL_SPM/sift_keypoints/MD585/MD585-IHC51-2015.08.19-15.03.10_MD585_1_0151_sift_keypoints.bp\" \"s3://mousebrainatlas-data/CSHL_SPM/sift_keypoints/MD585/MD585-IHC51-2015.08.19-15.03.10_MD585_1_0151_sift_keypoints.bp\"\n",
      "aws s3 cp \"/shared/CSHL_SPM/sift_descriptors/MD585/MD585-IHC51-2015.08.19-15.03.10_MD585_1_0151_sift_descriptors.bp\" \"s3://mousebrainatlas-data/CSHL_SPM/sift_descriptors/MD585/MD585-IHC51-2015.08.19-15.03.10_MD585_1_0151_sift_descriptors.bp\"\n",
      "rm -rf \"/shared/CSHL_data_processed/MD585/MD585_prep2_lossless_gray/MD585-N51-2015.07.16-23.10.35_MD585_2_0152_prep2_lossless_gray.tif\" && mkdir -p \"/shared/CSHL_data_processed/MD585/MD585_prep2_lossless_gray\"\n",
      "aws s3 cp \"s3://mousebrainatlas-data/CSHL_data_processed/MD585/MD585_prep2_lossless_gray/MD585-N51-2015.07.16-23.10.35_MD585_2_0152_prep2_lossless_gray.tif\" \"/shared/CSHL_data_processed/MD585/MD585_prep2_lossless_gray/MD585-N51-2015.07.16-23.10.35_MD585_2_0152_prep2_lossless_gray.tif\"\n",
      "rm -rf \"/shared/CSHL_data_processed/MD585/MD585_prep2_thumbnail_mask/MD585-N51-2015.07.16-23.10.35_MD585_2_0152_prep2_thumbnail_mask.png\" && mkdir -p \"/shared/CSHL_data_processed/MD585/MD585_prep2_thumbnail_mask\"\n",
      "aws s3 cp \"s3://mousebrainatlas-data/CSHL_data_processed/MD585/MD585_prep2_thumbnail_mask/MD585-N51-2015.07.16-23.10.35_MD585_2_0152_prep2_thumbnail_mask.png\" \"/shared/CSHL_data_processed/MD585/MD585_prep2_thumbnail_mask/MD585-N51-2015.07.16-23.10.35_MD585_2_0152_prep2_thumbnail_mask.png\"\n",
      "aws s3 cp \"/shared/CSHL_SPM/sift_keypoints/MD585/MD585-N51-2015.07.16-23.10.35_MD585_2_0152_sift_keypoints.bp\" \"s3://mousebrainatlas-data/CSHL_SPM/sift_keypoints/MD585/MD585-N51-2015.07.16-23.10.35_MD585_2_0152_sift_keypoints.bp\"\n",
      "aws s3 cp \"/shared/CSHL_SPM/sift_descriptors/MD585/MD585-N51-2015.07.16-23.10.35_MD585_2_0152_sift_descriptors.bp\" \"s3://mousebrainatlas-data/CSHL_SPM/sift_descriptors/MD585/MD585-N51-2015.07.16-23.10.35_MD585_2_0152_sift_descriptors.bp\"\n",
      "rm -rf \"/shared/CSHL_data_processed/MD585/MD585_prep2_lossless_gray/MD585-IHC51-2015.08.19-15.03.10_MD585_2_0152_prep2_lossless_gray.tif\" && mkdir -p \"/shared/CSHL_data_processed/MD585/MD585_prep2_lossless_gray\"\n",
      "aws s3 cp \"s3://mousebrainatlas-data/CSHL_data_processed/MD585/MD585_prep2_lossless_gray/MD585-IHC51-2015.08.19-15.03.10_MD585_2_0152_prep2_lossless_gray.tif\" \"/shared/CSHL_data_processed/MD585/MD585_prep2_lossless_gray/MD585-IHC51-2015.08.19-15.03.10_MD585_2_0152_prep2_lossless_gray.tif\"\n",
      "rm -rf \"/shared/CSHL_data_processed/MD585/MD585_prep2_thumbnail_mask/MD585-IHC51-2015.08.19-15.03.10_MD585_2_0152_prep2_thumbnail_mask.png\" && mkdir -p \"/shared/CSHL_data_processed/MD585/MD585_prep2_thumbnail_mask\"\n",
      "aws s3 cp \"s3://mousebrainatlas-data/CSHL_data_processed/MD585/MD585_prep2_thumbnail_mask/MD585-IHC51-2015.08.19-15.03.10_MD585_2_0152_prep2_thumbnail_mask.png\" \"/shared/CSHL_data_processed/MD585/MD585_prep2_thumbnail_mask/MD585-IHC51-2015.08.19-15.03.10_MD585_2_0152_prep2_thumbnail_mask.png\"\n",
      "aws s3 cp \"/shared/CSHL_SPM/sift_keypoints/MD585/MD585-IHC51-2015.08.19-15.03.10_MD585_2_0152_sift_keypoints.bp\" \"s3://mousebrainatlas-data/CSHL_SPM/sift_keypoints/MD585/MD585-IHC51-2015.08.19-15.03.10_MD585_2_0152_sift_keypoints.bp\"\n",
      "aws s3 cp \"/shared/CSHL_SPM/sift_descriptors/MD585/MD585-IHC51-2015.08.19-15.03.10_MD585_2_0152_sift_descriptors.bp\" \"s3://mousebrainatlas-data/CSHL_SPM/sift_descriptors/MD585/MD585-IHC51-2015.08.19-15.03.10_MD585_2_0152_sift_descriptors.bp\"\n",
      "rm -rf \"/shared/CSHL_data_processed/MD585/MD585_prep2_lossless_gray/MD585-N51-2015.07.16-23.10.35_MD585_3_0153_prep2_lossless_gray.tif\" && mkdir -p \"/shared/CSHL_data_processed/MD585/MD585_prep2_lossless_gray\"\n",
      "aws s3 cp \"s3://mousebrainatlas-data/CSHL_data_processed/MD585/MD585_prep2_lossless_gray/MD585-N51-2015.07.16-23.10.35_MD585_3_0153_prep2_lossless_gray.tif\" \"/shared/CSHL_data_processed/MD585/MD585_prep2_lossless_gray/MD585-N51-2015.07.16-23.10.35_MD585_3_0153_prep2_lossless_gray.tif\"\n",
      "rm -rf \"/shared/CSHL_data_processed/MD585/MD585_prep2_thumbnail_mask/MD585-N51-2015.07.16-23.10.35_MD585_3_0153_prep2_thumbnail_mask.png\" && mkdir -p \"/shared/CSHL_data_processed/MD585/MD585_prep2_thumbnail_mask\"\n",
      "aws s3 cp \"s3://mousebrainatlas-data/CSHL_data_processed/MD585/MD585_prep2_thumbnail_mask/MD585-N51-2015.07.16-23.10.35_MD585_3_0153_prep2_thumbnail_mask.png\" \"/shared/CSHL_data_processed/MD585/MD585_prep2_thumbnail_mask/MD585-N51-2015.07.16-23.10.35_MD585_3_0153_prep2_thumbnail_mask.png\"\n",
      "aws s3 cp \"/shared/CSHL_SPM/sift_keypoints/MD585/MD585-N51-2015.07.16-23.10.35_MD585_3_0153_sift_keypoints.bp\" \"s3://mousebrainatlas-data/CSHL_SPM/sift_keypoints/MD585/MD585-N51-2015.07.16-23.10.35_MD585_3_0153_sift_keypoints.bp\"\n",
      "aws s3 cp \"/shared/CSHL_SPM/sift_descriptors/MD585/MD585-N51-2015.07.16-23.10.35_MD585_3_0153_sift_descriptors.bp\" \"s3://mousebrainatlas-data/CSHL_SPM/sift_descriptors/MD585/MD585-N51-2015.07.16-23.10.35_MD585_3_0153_sift_descriptors.bp\"\n",
      "rm -rf \"/shared/CSHL_data_processed/MD585/MD585_prep2_lossless_gray/MD585-IHC51-2015.08.19-15.03.10_MD585_3_0153_prep2_lossless_gray.tif\" && mkdir -p \"/shared/CSHL_data_processed/MD585/MD585_prep2_lossless_gray\"\n",
      "aws s3 cp \"s3://mousebrainatlas-data/CSHL_data_processed/MD585/MD585_prep2_lossless_gray/MD585-IHC51-2015.08.19-15.03.10_MD585_3_0153_prep2_lossless_gray.tif\" \"/shared/CSHL_data_processed/MD585/MD585_prep2_lossless_gray/MD585-IHC51-2015.08.19-15.03.10_MD585_3_0153_prep2_lossless_gray.tif\"\n"
     ]
    },
    {
     "name": "stdout",
     "output_type": "stream",
     "text": [
      "rm -rf \"/shared/CSHL_data_processed/MD585/MD585_prep2_thumbnail_mask/MD585-IHC51-2015.08.19-15.03.10_MD585_3_0153_prep2_thumbnail_mask.png\" && mkdir -p \"/shared/CSHL_data_processed/MD585/MD585_prep2_thumbnail_mask\"\n",
      "aws s3 cp \"s3://mousebrainatlas-data/CSHL_data_processed/MD585/MD585_prep2_thumbnail_mask/MD585-IHC51-2015.08.19-15.03.10_MD585_3_0153_prep2_thumbnail_mask.png\" \"/shared/CSHL_data_processed/MD585/MD585_prep2_thumbnail_mask/MD585-IHC51-2015.08.19-15.03.10_MD585_3_0153_prep2_thumbnail_mask.png\"\n",
      "aws s3 cp \"/shared/CSHL_SPM/sift_keypoints/MD585/MD585-IHC51-2015.08.19-15.03.10_MD585_3_0153_sift_keypoints.bp\" \"s3://mousebrainatlas-data/CSHL_SPM/sift_keypoints/MD585/MD585-IHC51-2015.08.19-15.03.10_MD585_3_0153_sift_keypoints.bp\"\n",
      "aws s3 cp \"/shared/CSHL_SPM/sift_descriptors/MD585/MD585-IHC51-2015.08.19-15.03.10_MD585_3_0153_sift_descriptors.bp\" \"s3://mousebrainatlas-data/CSHL_SPM/sift_descriptors/MD585/MD585-IHC51-2015.08.19-15.03.10_MD585_3_0153_sift_descriptors.bp\"\n",
      "rm -rf \"/shared/CSHL_data_processed/MD585/MD585_prep2_lossless_gray/MD585-N52-2015.08.19-16.12.22_MD585_1_0154_prep2_lossless_gray.tif\" && mkdir -p \"/shared/CSHL_data_processed/MD585/MD585_prep2_lossless_gray\"\n",
      "aws s3 cp \"s3://mousebrainatlas-data/CSHL_data_processed/MD585/MD585_prep2_lossless_gray/MD585-N52-2015.08.19-16.12.22_MD585_1_0154_prep2_lossless_gray.tif\" \"/shared/CSHL_data_processed/MD585/MD585_prep2_lossless_gray/MD585-N52-2015.08.19-16.12.22_MD585_1_0154_prep2_lossless_gray.tif\"\n",
      "rm -rf \"/shared/CSHL_data_processed/MD585/MD585_prep2_thumbnail_mask/MD585-N52-2015.08.19-16.12.22_MD585_1_0154_prep2_thumbnail_mask.png\" && mkdir -p \"/shared/CSHL_data_processed/MD585/MD585_prep2_thumbnail_mask\"\n",
      "aws s3 cp \"s3://mousebrainatlas-data/CSHL_data_processed/MD585/MD585_prep2_thumbnail_mask/MD585-N52-2015.08.19-16.12.22_MD585_1_0154_prep2_thumbnail_mask.png\" \"/shared/CSHL_data_processed/MD585/MD585_prep2_thumbnail_mask/MD585-N52-2015.08.19-16.12.22_MD585_1_0154_prep2_thumbnail_mask.png\"\n",
      "aws s3 cp \"/shared/CSHL_SPM/sift_keypoints/MD585/MD585-N52-2015.08.19-16.12.22_MD585_1_0154_sift_keypoints.bp\" \"s3://mousebrainatlas-data/CSHL_SPM/sift_keypoints/MD585/MD585-N52-2015.08.19-16.12.22_MD585_1_0154_sift_keypoints.bp\"\n",
      "aws s3 cp \"/shared/CSHL_SPM/sift_descriptors/MD585/MD585-N52-2015.08.19-16.12.22_MD585_1_0154_sift_descriptors.bp\" \"s3://mousebrainatlas-data/CSHL_SPM/sift_descriptors/MD585/MD585-N52-2015.08.19-16.12.22_MD585_1_0154_sift_descriptors.bp\"\n",
      "rm -rf \"/shared/CSHL_data_processed/MD585/MD585_prep2_lossless_gray/MD585-IHC52-2015.08.19-15.07.35_MD585_1_0154_prep2_lossless_gray.tif\" && mkdir -p \"/shared/CSHL_data_processed/MD585/MD585_prep2_lossless_gray\"\n",
      "aws s3 cp \"s3://mousebrainatlas-data/CSHL_data_processed/MD585/MD585_prep2_lossless_gray/MD585-IHC52-2015.08.19-15.07.35_MD585_1_0154_prep2_lossless_gray.tif\" \"/shared/CSHL_data_processed/MD585/MD585_prep2_lossless_gray/MD585-IHC52-2015.08.19-15.07.35_MD585_1_0154_prep2_lossless_gray.tif\"\n",
      "rm -rf \"/shared/CSHL_data_processed/MD585/MD585_prep2_thumbnail_mask/MD585-IHC52-2015.08.19-15.07.35_MD585_1_0154_prep2_thumbnail_mask.png\" && mkdir -p \"/shared/CSHL_data_processed/MD585/MD585_prep2_thumbnail_mask\"\n",
      "aws s3 cp \"s3://mousebrainatlas-data/CSHL_data_processed/MD585/MD585_prep2_thumbnail_mask/MD585-IHC52-2015.08.19-15.07.35_MD585_1_0154_prep2_thumbnail_mask.png\" \"/shared/CSHL_data_processed/MD585/MD585_prep2_thumbnail_mask/MD585-IHC52-2015.08.19-15.07.35_MD585_1_0154_prep2_thumbnail_mask.png\"\n",
      "aws s3 cp \"/shared/CSHL_SPM/sift_keypoints/MD585/MD585-IHC52-2015.08.19-15.07.35_MD585_1_0154_sift_keypoints.bp\" \"s3://mousebrainatlas-data/CSHL_SPM/sift_keypoints/MD585/MD585-IHC52-2015.08.19-15.07.35_MD585_1_0154_sift_keypoints.bp\"\n",
      "aws s3 cp \"/shared/CSHL_SPM/sift_descriptors/MD585/MD585-IHC52-2015.08.19-15.07.35_MD585_1_0154_sift_descriptors.bp\" \"s3://mousebrainatlas-data/CSHL_SPM/sift_descriptors/MD585/MD585-IHC52-2015.08.19-15.07.35_MD585_1_0154_sift_descriptors.bp\"\n",
      "rm -rf \"/shared/CSHL_data_processed/MD585/MD585_prep2_lossless_gray/MD585-N52-2015.08.19-16.12.22_MD585_2_0155_prep2_lossless_gray.tif\" && mkdir -p \"/shared/CSHL_data_processed/MD585/MD585_prep2_lossless_gray\"\n",
      "aws s3 cp \"s3://mousebrainatlas-data/CSHL_data_processed/MD585/MD585_prep2_lossless_gray/MD585-N52-2015.08.19-16.12.22_MD585_2_0155_prep2_lossless_gray.tif\" \"/shared/CSHL_data_processed/MD585/MD585_prep2_lossless_gray/MD585-N52-2015.08.19-16.12.22_MD585_2_0155_prep2_lossless_gray.tif\"\n",
      "rm -rf \"/shared/CSHL_data_processed/MD585/MD585_prep2_thumbnail_mask/MD585-N52-2015.08.19-16.12.22_MD585_2_0155_prep2_thumbnail_mask.png\" && mkdir -p \"/shared/CSHL_data_processed/MD585/MD585_prep2_thumbnail_mask\"\n",
      "aws s3 cp \"s3://mousebrainatlas-data/CSHL_data_processed/MD585/MD585_prep2_thumbnail_mask/MD585-N52-2015.08.19-16.12.22_MD585_2_0155_prep2_thumbnail_mask.png\" \"/shared/CSHL_data_processed/MD585/MD585_prep2_thumbnail_mask/MD585-N52-2015.08.19-16.12.22_MD585_2_0155_prep2_thumbnail_mask.png\"\n",
      "aws s3 cp \"/shared/CSHL_SPM/sift_keypoints/MD585/MD585-N52-2015.08.19-16.12.22_MD585_2_0155_sift_keypoints.bp\" \"s3://mousebrainatlas-data/CSHL_SPM/sift_keypoints/MD585/MD585-N52-2015.08.19-16.12.22_MD585_2_0155_sift_keypoints.bp\"\n",
      "aws s3 cp \"/shared/CSHL_SPM/sift_descriptors/MD585/MD585-N52-2015.08.19-16.12.22_MD585_2_0155_sift_descriptors.bp\" \"s3://mousebrainatlas-data/CSHL_SPM/sift_descriptors/MD585/MD585-N52-2015.08.19-16.12.22_MD585_2_0155_sift_descriptors.bp\"\n",
      "rm -rf \"/shared/CSHL_data_processed/MD585/MD585_prep2_lossless_gray/MD585-IHC52-2015.08.19-15.07.35_MD585_2_0155_prep2_lossless_gray.tif\" && mkdir -p \"/shared/CSHL_data_processed/MD585/MD585_prep2_lossless_gray\"\n",
      "aws s3 cp \"s3://mousebrainatlas-data/CSHL_data_processed/MD585/MD585_prep2_lossless_gray/MD585-IHC52-2015.08.19-15.07.35_MD585_2_0155_prep2_lossless_gray.tif\" \"/shared/CSHL_data_processed/MD585/MD585_prep2_lossless_gray/MD585-IHC52-2015.08.19-15.07.35_MD585_2_0155_prep2_lossless_gray.tif\"\n",
      "rm -rf \"/shared/CSHL_data_processed/MD585/MD585_prep2_thumbnail_mask/MD585-IHC52-2015.08.19-15.07.35_MD585_2_0155_prep2_thumbnail_mask.png\" && mkdir -p \"/shared/CSHL_data_processed/MD585/MD585_prep2_thumbnail_mask\"\n",
      "aws s3 cp \"s3://mousebrainatlas-data/CSHL_data_processed/MD585/MD585_prep2_thumbnail_mask/MD585-IHC52-2015.08.19-15.07.35_MD585_2_0155_prep2_thumbnail_mask.png\" \"/shared/CSHL_data_processed/MD585/MD585_prep2_thumbnail_mask/MD585-IHC52-2015.08.19-15.07.35_MD585_2_0155_prep2_thumbnail_mask.png\"\n",
      "aws s3 cp \"/shared/CSHL_SPM/sift_keypoints/MD585/MD585-IHC52-2015.08.19-15.07.35_MD585_2_0155_sift_keypoints.bp\" \"s3://mousebrainatlas-data/CSHL_SPM/sift_keypoints/MD585/MD585-IHC52-2015.08.19-15.07.35_MD585_2_0155_sift_keypoints.bp\"\n",
      "aws s3 cp \"/shared/CSHL_SPM/sift_descriptors/MD585/MD585-IHC52-2015.08.19-15.07.35_MD585_2_0155_sift_descriptors.bp\" \"s3://mousebrainatlas-data/CSHL_SPM/sift_descriptors/MD585/MD585-IHC52-2015.08.19-15.07.35_MD585_2_0155_sift_descriptors.bp\"\n",
      "rm -rf \"/shared/CSHL_data_processed/MD585/MD585_prep2_lossless_gray/MD585-IHC52-2015.08.19-15.07.35_MD585_3_0156_prep2_lossless_gray.tif\" && mkdir -p \"/shared/CSHL_data_processed/MD585/MD585_prep2_lossless_gray\"\n",
      "aws s3 cp \"s3://mousebrainatlas-data/CSHL_data_processed/MD585/MD585_prep2_lossless_gray/MD585-IHC52-2015.08.19-15.07.35_MD585_3_0156_prep2_lossless_gray.tif\" \"/shared/CSHL_data_processed/MD585/MD585_prep2_lossless_gray/MD585-IHC52-2015.08.19-15.07.35_MD585_3_0156_prep2_lossless_gray.tif\"\n",
      "rm -rf \"/shared/CSHL_data_processed/MD585/MD585_prep2_thumbnail_mask/MD585-IHC52-2015.08.19-15.07.35_MD585_3_0156_prep2_thumbnail_mask.png\" && mkdir -p \"/shared/CSHL_data_processed/MD585/MD585_prep2_thumbnail_mask\"\n",
      "aws s3 cp \"s3://mousebrainatlas-data/CSHL_data_processed/MD585/MD585_prep2_thumbnail_mask/MD585-IHC52-2015.08.19-15.07.35_MD585_3_0156_prep2_thumbnail_mask.png\" \"/shared/CSHL_data_processed/MD585/MD585_prep2_thumbnail_mask/MD585-IHC52-2015.08.19-15.07.35_MD585_3_0156_prep2_thumbnail_mask.png\"\n",
      "aws s3 cp \"/shared/CSHL_SPM/sift_keypoints/MD585/MD585-IHC52-2015.08.19-15.07.35_MD585_3_0156_sift_keypoints.bp\" \"s3://mousebrainatlas-data/CSHL_SPM/sift_keypoints/MD585/MD585-IHC52-2015.08.19-15.07.35_MD585_3_0156_sift_keypoints.bp\"\n",
      "aws s3 cp \"/shared/CSHL_SPM/sift_descriptors/MD585/MD585-IHC52-2015.08.19-15.07.35_MD585_3_0156_sift_descriptors.bp\" \"s3://mousebrainatlas-data/CSHL_SPM/sift_descriptors/MD585/MD585-IHC52-2015.08.19-15.07.35_MD585_3_0156_sift_descriptors.bp\"\n"
     ]
    },
    {
     "name": "stdout",
     "output_type": "stream",
     "text": [
      "rm -rf \"/shared/CSHL_data_processed/MD585/MD585_prep2_lossless_gray/MD585-N53-2015.08.19-16.16.47_MD585_1_0157_prep2_lossless_gray.tif\" && mkdir -p \"/shared/CSHL_data_processed/MD585/MD585_prep2_lossless_gray\"\n",
      "aws s3 cp \"s3://mousebrainatlas-data/CSHL_data_processed/MD585/MD585_prep2_lossless_gray/MD585-N53-2015.08.19-16.16.47_MD585_1_0157_prep2_lossless_gray.tif\" \"/shared/CSHL_data_processed/MD585/MD585_prep2_lossless_gray/MD585-N53-2015.08.19-16.16.47_MD585_1_0157_prep2_lossless_gray.tif\"\n",
      "rm -rf \"/shared/CSHL_data_processed/MD585/MD585_prep2_thumbnail_mask/MD585-N53-2015.08.19-16.16.47_MD585_1_0157_prep2_thumbnail_mask.png\" && mkdir -p \"/shared/CSHL_data_processed/MD585/MD585_prep2_thumbnail_mask\"\n",
      "aws s3 cp \"s3://mousebrainatlas-data/CSHL_data_processed/MD585/MD585_prep2_thumbnail_mask/MD585-N53-2015.08.19-16.16.47_MD585_1_0157_prep2_thumbnail_mask.png\" \"/shared/CSHL_data_processed/MD585/MD585_prep2_thumbnail_mask/MD585-N53-2015.08.19-16.16.47_MD585_1_0157_prep2_thumbnail_mask.png\"\n",
      "aws s3 cp \"/shared/CSHL_SPM/sift_keypoints/MD585/MD585-N53-2015.08.19-16.16.47_MD585_1_0157_sift_keypoints.bp\" \"s3://mousebrainatlas-data/CSHL_SPM/sift_keypoints/MD585/MD585-N53-2015.08.19-16.16.47_MD585_1_0157_sift_keypoints.bp\"\n",
      "aws s3 cp \"/shared/CSHL_SPM/sift_descriptors/MD585/MD585-N53-2015.08.19-16.16.47_MD585_1_0157_sift_descriptors.bp\" \"s3://mousebrainatlas-data/CSHL_SPM/sift_descriptors/MD585/MD585-N53-2015.08.19-16.16.47_MD585_1_0157_sift_descriptors.bp\"\n",
      "rm -rf \"/shared/CSHL_data_processed/MD585/MD585_prep2_lossless_gray/MD585-IHC53-2015.08.19-15.12.08_MD585_1_0157_prep2_lossless_gray.tif\" && mkdir -p \"/shared/CSHL_data_processed/MD585/MD585_prep2_lossless_gray\"\n",
      "aws s3 cp \"s3://mousebrainatlas-data/CSHL_data_processed/MD585/MD585_prep2_lossless_gray/MD585-IHC53-2015.08.19-15.12.08_MD585_1_0157_prep2_lossless_gray.tif\" \"/shared/CSHL_data_processed/MD585/MD585_prep2_lossless_gray/MD585-IHC53-2015.08.19-15.12.08_MD585_1_0157_prep2_lossless_gray.tif\"\n",
      "rm -rf \"/shared/CSHL_data_processed/MD585/MD585_prep2_thumbnail_mask/MD585-IHC53-2015.08.19-15.12.08_MD585_1_0157_prep2_thumbnail_mask.png\" && mkdir -p \"/shared/CSHL_data_processed/MD585/MD585_prep2_thumbnail_mask\"\n",
      "aws s3 cp \"s3://mousebrainatlas-data/CSHL_data_processed/MD585/MD585_prep2_thumbnail_mask/MD585-IHC53-2015.08.19-15.12.08_MD585_1_0157_prep2_thumbnail_mask.png\" \"/shared/CSHL_data_processed/MD585/MD585_prep2_thumbnail_mask/MD585-IHC53-2015.08.19-15.12.08_MD585_1_0157_prep2_thumbnail_mask.png\"\n",
      "aws s3 cp \"/shared/CSHL_SPM/sift_keypoints/MD585/MD585-IHC53-2015.08.19-15.12.08_MD585_1_0157_sift_keypoints.bp\" \"s3://mousebrainatlas-data/CSHL_SPM/sift_keypoints/MD585/MD585-IHC53-2015.08.19-15.12.08_MD585_1_0157_sift_keypoints.bp\"\n",
      "aws s3 cp \"/shared/CSHL_SPM/sift_descriptors/MD585/MD585-IHC53-2015.08.19-15.12.08_MD585_1_0157_sift_descriptors.bp\" \"s3://mousebrainatlas-data/CSHL_SPM/sift_descriptors/MD585/MD585-IHC53-2015.08.19-15.12.08_MD585_1_0157_sift_descriptors.bp\"\n",
      "rm -rf \"/shared/CSHL_data_processed/MD585/MD585_prep2_lossless_gray/MD585-N53-2015.08.19-16.16.47_MD585_2_0158_prep2_lossless_gray.tif\" && mkdir -p \"/shared/CSHL_data_processed/MD585/MD585_prep2_lossless_gray\"\n",
      "aws s3 cp \"s3://mousebrainatlas-data/CSHL_data_processed/MD585/MD585_prep2_lossless_gray/MD585-N53-2015.08.19-16.16.47_MD585_2_0158_prep2_lossless_gray.tif\" \"/shared/CSHL_data_processed/MD585/MD585_prep2_lossless_gray/MD585-N53-2015.08.19-16.16.47_MD585_2_0158_prep2_lossless_gray.tif\"\n",
      "rm -rf \"/shared/CSHL_data_processed/MD585/MD585_prep2_thumbnail_mask/MD585-N53-2015.08.19-16.16.47_MD585_2_0158_prep2_thumbnail_mask.png\" && mkdir -p \"/shared/CSHL_data_processed/MD585/MD585_prep2_thumbnail_mask\"\n",
      "aws s3 cp \"s3://mousebrainatlas-data/CSHL_data_processed/MD585/MD585_prep2_thumbnail_mask/MD585-N53-2015.08.19-16.16.47_MD585_2_0158_prep2_thumbnail_mask.png\" \"/shared/CSHL_data_processed/MD585/MD585_prep2_thumbnail_mask/MD585-N53-2015.08.19-16.16.47_MD585_2_0158_prep2_thumbnail_mask.png\"\n",
      "aws s3 cp \"/shared/CSHL_SPM/sift_keypoints/MD585/MD585-N53-2015.08.19-16.16.47_MD585_2_0158_sift_keypoints.bp\" \"s3://mousebrainatlas-data/CSHL_SPM/sift_keypoints/MD585/MD585-N53-2015.08.19-16.16.47_MD585_2_0158_sift_keypoints.bp\"\n",
      "aws s3 cp \"/shared/CSHL_SPM/sift_descriptors/MD585/MD585-N53-2015.08.19-16.16.47_MD585_2_0158_sift_descriptors.bp\" \"s3://mousebrainatlas-data/CSHL_SPM/sift_descriptors/MD585/MD585-N53-2015.08.19-16.16.47_MD585_2_0158_sift_descriptors.bp\"\n",
      "rm -rf \"/shared/CSHL_data_processed/MD585/MD585_prep2_lossless_gray/MD585-IHC53-2015.08.19-15.12.08_MD585_2_0158_prep2_lossless_gray.tif\" && mkdir -p \"/shared/CSHL_data_processed/MD585/MD585_prep2_lossless_gray\"\n",
      "aws s3 cp \"s3://mousebrainatlas-data/CSHL_data_processed/MD585/MD585_prep2_lossless_gray/MD585-IHC53-2015.08.19-15.12.08_MD585_2_0158_prep2_lossless_gray.tif\" \"/shared/CSHL_data_processed/MD585/MD585_prep2_lossless_gray/MD585-IHC53-2015.08.19-15.12.08_MD585_2_0158_prep2_lossless_gray.tif\"\n",
      "rm -rf \"/shared/CSHL_data_processed/MD585/MD585_prep2_thumbnail_mask/MD585-IHC53-2015.08.19-15.12.08_MD585_2_0158_prep2_thumbnail_mask.png\" && mkdir -p \"/shared/CSHL_data_processed/MD585/MD585_prep2_thumbnail_mask\"\n",
      "aws s3 cp \"s3://mousebrainatlas-data/CSHL_data_processed/MD585/MD585_prep2_thumbnail_mask/MD585-IHC53-2015.08.19-15.12.08_MD585_2_0158_prep2_thumbnail_mask.png\" \"/shared/CSHL_data_processed/MD585/MD585_prep2_thumbnail_mask/MD585-IHC53-2015.08.19-15.12.08_MD585_2_0158_prep2_thumbnail_mask.png\"\n",
      "aws s3 cp \"/shared/CSHL_SPM/sift_keypoints/MD585/MD585-IHC53-2015.08.19-15.12.08_MD585_2_0158_sift_keypoints.bp\" \"s3://mousebrainatlas-data/CSHL_SPM/sift_keypoints/MD585/MD585-IHC53-2015.08.19-15.12.08_MD585_2_0158_sift_keypoints.bp\"\n",
      "aws s3 cp \"/shared/CSHL_SPM/sift_descriptors/MD585/MD585-IHC53-2015.08.19-15.12.08_MD585_2_0158_sift_descriptors.bp\" \"s3://mousebrainatlas-data/CSHL_SPM/sift_descriptors/MD585/MD585-IHC53-2015.08.19-15.12.08_MD585_2_0158_sift_descriptors.bp\"\n",
      "rm -rf \"/shared/CSHL_data_processed/MD585/MD585_prep2_lossless_gray/MD585-N53-2015.08.19-16.16.47_MD585_3_0159_prep2_lossless_gray.tif\" && mkdir -p \"/shared/CSHL_data_processed/MD585/MD585_prep2_lossless_gray\"\n",
      "aws s3 cp \"s3://mousebrainatlas-data/CSHL_data_processed/MD585/MD585_prep2_lossless_gray/MD585-N53-2015.08.19-16.16.47_MD585_3_0159_prep2_lossless_gray.tif\" \"/shared/CSHL_data_processed/MD585/MD585_prep2_lossless_gray/MD585-N53-2015.08.19-16.16.47_MD585_3_0159_prep2_lossless_gray.tif\"\n",
      "rm -rf \"/shared/CSHL_data_processed/MD585/MD585_prep2_thumbnail_mask/MD585-N53-2015.08.19-16.16.47_MD585_3_0159_prep2_thumbnail_mask.png\" && mkdir -p \"/shared/CSHL_data_processed/MD585/MD585_prep2_thumbnail_mask\"\n",
      "aws s3 cp \"s3://mousebrainatlas-data/CSHL_data_processed/MD585/MD585_prep2_thumbnail_mask/MD585-N53-2015.08.19-16.16.47_MD585_3_0159_prep2_thumbnail_mask.png\" \"/shared/CSHL_data_processed/MD585/MD585_prep2_thumbnail_mask/MD585-N53-2015.08.19-16.16.47_MD585_3_0159_prep2_thumbnail_mask.png\"\n",
      "aws s3 cp \"/shared/CSHL_SPM/sift_keypoints/MD585/MD585-N53-2015.08.19-16.16.47_MD585_3_0159_sift_keypoints.bp\" \"s3://mousebrainatlas-data/CSHL_SPM/sift_keypoints/MD585/MD585-N53-2015.08.19-16.16.47_MD585_3_0159_sift_keypoints.bp\"\n",
      "aws s3 cp \"/shared/CSHL_SPM/sift_descriptors/MD585/MD585-N53-2015.08.19-16.16.47_MD585_3_0159_sift_descriptors.bp\" \"s3://mousebrainatlas-data/CSHL_SPM/sift_descriptors/MD585/MD585-N53-2015.08.19-16.16.47_MD585_3_0159_sift_descriptors.bp\"\n",
      "rm -rf \"/shared/CSHL_data_processed/MD585/MD585_prep2_lossless_gray/MD585-IHC53-2015.08.19-15.12.08_MD585_3_0159_prep2_lossless_gray.tif\" && mkdir -p \"/shared/CSHL_data_processed/MD585/MD585_prep2_lossless_gray\"\n",
      "aws s3 cp \"s3://mousebrainatlas-data/CSHL_data_processed/MD585/MD585_prep2_lossless_gray/MD585-IHC53-2015.08.19-15.12.08_MD585_3_0159_prep2_lossless_gray.tif\" \"/shared/CSHL_data_processed/MD585/MD585_prep2_lossless_gray/MD585-IHC53-2015.08.19-15.12.08_MD585_3_0159_prep2_lossless_gray.tif\"\n",
      "rm -rf \"/shared/CSHL_data_processed/MD585/MD585_prep2_thumbnail_mask/MD585-IHC53-2015.08.19-15.12.08_MD585_3_0159_prep2_thumbnail_mask.png\" && mkdir -p \"/shared/CSHL_data_processed/MD585/MD585_prep2_thumbnail_mask\"\n",
      "aws s3 cp \"s3://mousebrainatlas-data/CSHL_data_processed/MD585/MD585_prep2_thumbnail_mask/MD585-IHC53-2015.08.19-15.12.08_MD585_3_0159_prep2_thumbnail_mask.png\" \"/shared/CSHL_data_processed/MD585/MD585_prep2_thumbnail_mask/MD585-IHC53-2015.08.19-15.12.08_MD585_3_0159_prep2_thumbnail_mask.png\"\n"
     ]
    },
    {
     "name": "stdout",
     "output_type": "stream",
     "text": [
      "aws s3 cp \"/shared/CSHL_SPM/sift_keypoints/MD585/MD585-IHC53-2015.08.19-15.12.08_MD585_3_0159_sift_keypoints.bp\" \"s3://mousebrainatlas-data/CSHL_SPM/sift_keypoints/MD585/MD585-IHC53-2015.08.19-15.12.08_MD585_3_0159_sift_keypoints.bp\"\n",
      "aws s3 cp \"/shared/CSHL_SPM/sift_descriptors/MD585/MD585-IHC53-2015.08.19-15.12.08_MD585_3_0159_sift_descriptors.bp\" \"s3://mousebrainatlas-data/CSHL_SPM/sift_descriptors/MD585/MD585-IHC53-2015.08.19-15.12.08_MD585_3_0159_sift_descriptors.bp\"\n",
      "rm -rf \"/shared/CSHL_data_processed/MD585/MD585_prep2_lossless_gray/MD585-N54-2015.08.19-16.21.14_MD585_1_0160_prep2_lossless_gray.tif\" && mkdir -p \"/shared/CSHL_data_processed/MD585/MD585_prep2_lossless_gray\"\n",
      "aws s3 cp \"s3://mousebrainatlas-data/CSHL_data_processed/MD585/MD585_prep2_lossless_gray/MD585-N54-2015.08.19-16.21.14_MD585_1_0160_prep2_lossless_gray.tif\" \"/shared/CSHL_data_processed/MD585/MD585_prep2_lossless_gray/MD585-N54-2015.08.19-16.21.14_MD585_1_0160_prep2_lossless_gray.tif\"\n",
      "rm -rf \"/shared/CSHL_data_processed/MD585/MD585_prep2_thumbnail_mask/MD585-N54-2015.08.19-16.21.14_MD585_1_0160_prep2_thumbnail_mask.png\" && mkdir -p \"/shared/CSHL_data_processed/MD585/MD585_prep2_thumbnail_mask\"\n",
      "aws s3 cp \"s3://mousebrainatlas-data/CSHL_data_processed/MD585/MD585_prep2_thumbnail_mask/MD585-N54-2015.08.19-16.21.14_MD585_1_0160_prep2_thumbnail_mask.png\" \"/shared/CSHL_data_processed/MD585/MD585_prep2_thumbnail_mask/MD585-N54-2015.08.19-16.21.14_MD585_1_0160_prep2_thumbnail_mask.png\"\n",
      "aws s3 cp \"/shared/CSHL_SPM/sift_keypoints/MD585/MD585-N54-2015.08.19-16.21.14_MD585_1_0160_sift_keypoints.bp\" \"s3://mousebrainatlas-data/CSHL_SPM/sift_keypoints/MD585/MD585-N54-2015.08.19-16.21.14_MD585_1_0160_sift_keypoints.bp\"\n",
      "aws s3 cp \"/shared/CSHL_SPM/sift_descriptors/MD585/MD585-N54-2015.08.19-16.21.14_MD585_1_0160_sift_descriptors.bp\" \"s3://mousebrainatlas-data/CSHL_SPM/sift_descriptors/MD585/MD585-N54-2015.08.19-16.21.14_MD585_1_0160_sift_descriptors.bp\"\n",
      "rm -rf \"/shared/CSHL_data_processed/MD585/MD585_prep2_lossless_gray/MD585-IHC54-2015.08.19-15.16.31_MD585_1_0160_prep2_lossless_gray.tif\" && mkdir -p \"/shared/CSHL_data_processed/MD585/MD585_prep2_lossless_gray\"\n",
      "aws s3 cp \"s3://mousebrainatlas-data/CSHL_data_processed/MD585/MD585_prep2_lossless_gray/MD585-IHC54-2015.08.19-15.16.31_MD585_1_0160_prep2_lossless_gray.tif\" \"/shared/CSHL_data_processed/MD585/MD585_prep2_lossless_gray/MD585-IHC54-2015.08.19-15.16.31_MD585_1_0160_prep2_lossless_gray.tif\"\n",
      "rm -rf \"/shared/CSHL_data_processed/MD585/MD585_prep2_thumbnail_mask/MD585-IHC54-2015.08.19-15.16.31_MD585_1_0160_prep2_thumbnail_mask.png\" && mkdir -p \"/shared/CSHL_data_processed/MD585/MD585_prep2_thumbnail_mask\"\n",
      "aws s3 cp \"s3://mousebrainatlas-data/CSHL_data_processed/MD585/MD585_prep2_thumbnail_mask/MD585-IHC54-2015.08.19-15.16.31_MD585_1_0160_prep2_thumbnail_mask.png\" \"/shared/CSHL_data_processed/MD585/MD585_prep2_thumbnail_mask/MD585-IHC54-2015.08.19-15.16.31_MD585_1_0160_prep2_thumbnail_mask.png\"\n",
      "aws s3 cp \"/shared/CSHL_SPM/sift_keypoints/MD585/MD585-IHC54-2015.08.19-15.16.31_MD585_1_0160_sift_keypoints.bp\" \"s3://mousebrainatlas-data/CSHL_SPM/sift_keypoints/MD585/MD585-IHC54-2015.08.19-15.16.31_MD585_1_0160_sift_keypoints.bp\"\n",
      "aws s3 cp \"/shared/CSHL_SPM/sift_descriptors/MD585/MD585-IHC54-2015.08.19-15.16.31_MD585_1_0160_sift_descriptors.bp\" \"s3://mousebrainatlas-data/CSHL_SPM/sift_descriptors/MD585/MD585-IHC54-2015.08.19-15.16.31_MD585_1_0160_sift_descriptors.bp\"\n",
      "rm -rf \"/shared/CSHL_data_processed/MD585/MD585_prep2_lossless_gray/MD585-N54-2015.08.19-16.21.14_MD585_2_0161_prep2_lossless_gray.tif\" && mkdir -p \"/shared/CSHL_data_processed/MD585/MD585_prep2_lossless_gray\"\n",
      "aws s3 cp \"s3://mousebrainatlas-data/CSHL_data_processed/MD585/MD585_prep2_lossless_gray/MD585-N54-2015.08.19-16.21.14_MD585_2_0161_prep2_lossless_gray.tif\" \"/shared/CSHL_data_processed/MD585/MD585_prep2_lossless_gray/MD585-N54-2015.08.19-16.21.14_MD585_2_0161_prep2_lossless_gray.tif\"\n",
      "rm -rf \"/shared/CSHL_data_processed/MD585/MD585_prep2_thumbnail_mask/MD585-N54-2015.08.19-16.21.14_MD585_2_0161_prep2_thumbnail_mask.png\" && mkdir -p \"/shared/CSHL_data_processed/MD585/MD585_prep2_thumbnail_mask\"\n",
      "aws s3 cp \"s3://mousebrainatlas-data/CSHL_data_processed/MD585/MD585_prep2_thumbnail_mask/MD585-N54-2015.08.19-16.21.14_MD585_2_0161_prep2_thumbnail_mask.png\" \"/shared/CSHL_data_processed/MD585/MD585_prep2_thumbnail_mask/MD585-N54-2015.08.19-16.21.14_MD585_2_0161_prep2_thumbnail_mask.png\"\n",
      "aws s3 cp \"/shared/CSHL_SPM/sift_keypoints/MD585/MD585-N54-2015.08.19-16.21.14_MD585_2_0161_sift_keypoints.bp\" \"s3://mousebrainatlas-data/CSHL_SPM/sift_keypoints/MD585/MD585-N54-2015.08.19-16.21.14_MD585_2_0161_sift_keypoints.bp\"\n",
      "aws s3 cp \"/shared/CSHL_SPM/sift_descriptors/MD585/MD585-N54-2015.08.19-16.21.14_MD585_2_0161_sift_descriptors.bp\" \"s3://mousebrainatlas-data/CSHL_SPM/sift_descriptors/MD585/MD585-N54-2015.08.19-16.21.14_MD585_2_0161_sift_descriptors.bp\"\n",
      "rm -rf \"/shared/CSHL_data_processed/MD585/MD585_prep2_lossless_gray/MD585-IHC54-2015.08.19-15.16.31_MD585_2_0161_prep2_lossless_gray.tif\" && mkdir -p \"/shared/CSHL_data_processed/MD585/MD585_prep2_lossless_gray\"\n",
      "aws s3 cp \"s3://mousebrainatlas-data/CSHL_data_processed/MD585/MD585_prep2_lossless_gray/MD585-IHC54-2015.08.19-15.16.31_MD585_2_0161_prep2_lossless_gray.tif\" \"/shared/CSHL_data_processed/MD585/MD585_prep2_lossless_gray/MD585-IHC54-2015.08.19-15.16.31_MD585_2_0161_prep2_lossless_gray.tif\"\n",
      "rm -rf \"/shared/CSHL_data_processed/MD585/MD585_prep2_thumbnail_mask/MD585-IHC54-2015.08.19-15.16.31_MD585_2_0161_prep2_thumbnail_mask.png\" && mkdir -p \"/shared/CSHL_data_processed/MD585/MD585_prep2_thumbnail_mask\"\n",
      "aws s3 cp \"s3://mousebrainatlas-data/CSHL_data_processed/MD585/MD585_prep2_thumbnail_mask/MD585-IHC54-2015.08.19-15.16.31_MD585_2_0161_prep2_thumbnail_mask.png\" \"/shared/CSHL_data_processed/MD585/MD585_prep2_thumbnail_mask/MD585-IHC54-2015.08.19-15.16.31_MD585_2_0161_prep2_thumbnail_mask.png\"\n",
      "aws s3 cp \"/shared/CSHL_SPM/sift_keypoints/MD585/MD585-IHC54-2015.08.19-15.16.31_MD585_2_0161_sift_keypoints.bp\" \"s3://mousebrainatlas-data/CSHL_SPM/sift_keypoints/MD585/MD585-IHC54-2015.08.19-15.16.31_MD585_2_0161_sift_keypoints.bp\"\n",
      "aws s3 cp \"/shared/CSHL_SPM/sift_descriptors/MD585/MD585-IHC54-2015.08.19-15.16.31_MD585_2_0161_sift_descriptors.bp\" \"s3://mousebrainatlas-data/CSHL_SPM/sift_descriptors/MD585/MD585-IHC54-2015.08.19-15.16.31_MD585_2_0161_sift_descriptors.bp\"\n",
      "rm -rf \"/shared/CSHL_data_processed/MD585/MD585_prep2_lossless_gray/MD585-N54-2015.08.19-16.21.14_MD585_3_0162_prep2_lossless_gray.tif\" && mkdir -p \"/shared/CSHL_data_processed/MD585/MD585_prep2_lossless_gray\"\n",
      "aws s3 cp \"s3://mousebrainatlas-data/CSHL_data_processed/MD585/MD585_prep2_lossless_gray/MD585-N54-2015.08.19-16.21.14_MD585_3_0162_prep2_lossless_gray.tif\" \"/shared/CSHL_data_processed/MD585/MD585_prep2_lossless_gray/MD585-N54-2015.08.19-16.21.14_MD585_3_0162_prep2_lossless_gray.tif\"\n",
      "rm -rf \"/shared/CSHL_data_processed/MD585/MD585_prep2_thumbnail_mask/MD585-N54-2015.08.19-16.21.14_MD585_3_0162_prep2_thumbnail_mask.png\" && mkdir -p \"/shared/CSHL_data_processed/MD585/MD585_prep2_thumbnail_mask\"\n",
      "aws s3 cp \"s3://mousebrainatlas-data/CSHL_data_processed/MD585/MD585_prep2_thumbnail_mask/MD585-N54-2015.08.19-16.21.14_MD585_3_0162_prep2_thumbnail_mask.png\" \"/shared/CSHL_data_processed/MD585/MD585_prep2_thumbnail_mask/MD585-N54-2015.08.19-16.21.14_MD585_3_0162_prep2_thumbnail_mask.png\"\n",
      "aws s3 cp \"/shared/CSHL_SPM/sift_keypoints/MD585/MD585-N54-2015.08.19-16.21.14_MD585_3_0162_sift_keypoints.bp\" \"s3://mousebrainatlas-data/CSHL_SPM/sift_keypoints/MD585/MD585-N54-2015.08.19-16.21.14_MD585_3_0162_sift_keypoints.bp\"\n",
      "aws s3 cp \"/shared/CSHL_SPM/sift_descriptors/MD585/MD585-N54-2015.08.19-16.21.14_MD585_3_0162_sift_descriptors.bp\" \"s3://mousebrainatlas-data/CSHL_SPM/sift_descriptors/MD585/MD585-N54-2015.08.19-16.21.14_MD585_3_0162_sift_descriptors.bp\"\n",
      "rm -rf \"/shared/CSHL_data_processed/MD585/MD585_prep2_lossless_gray/MD585-IHC54-2015.08.19-15.16.31_MD585_3_0162_prep2_lossless_gray.tif\" && mkdir -p \"/shared/CSHL_data_processed/MD585/MD585_prep2_lossless_gray\"\n",
      "aws s3 cp \"s3://mousebrainatlas-data/CSHL_data_processed/MD585/MD585_prep2_lossless_gray/MD585-IHC54-2015.08.19-15.16.31_MD585_3_0162_prep2_lossless_gray.tif\" \"/shared/CSHL_data_processed/MD585/MD585_prep2_lossless_gray/MD585-IHC54-2015.08.19-15.16.31_MD585_3_0162_prep2_lossless_gray.tif\"\n"
     ]
    },
    {
     "name": "stdout",
     "output_type": "stream",
     "text": [
      "rm -rf \"/shared/CSHL_data_processed/MD585/MD585_prep2_thumbnail_mask/MD585-IHC54-2015.08.19-15.16.31_MD585_3_0162_prep2_thumbnail_mask.png\" && mkdir -p \"/shared/CSHL_data_processed/MD585/MD585_prep2_thumbnail_mask\"\n",
      "aws s3 cp \"s3://mousebrainatlas-data/CSHL_data_processed/MD585/MD585_prep2_thumbnail_mask/MD585-IHC54-2015.08.19-15.16.31_MD585_3_0162_prep2_thumbnail_mask.png\" \"/shared/CSHL_data_processed/MD585/MD585_prep2_thumbnail_mask/MD585-IHC54-2015.08.19-15.16.31_MD585_3_0162_prep2_thumbnail_mask.png\"\n",
      "aws s3 cp \"/shared/CSHL_SPM/sift_keypoints/MD585/MD585-IHC54-2015.08.19-15.16.31_MD585_3_0162_sift_keypoints.bp\" \"s3://mousebrainatlas-data/CSHL_SPM/sift_keypoints/MD585/MD585-IHC54-2015.08.19-15.16.31_MD585_3_0162_sift_keypoints.bp\"\n",
      "aws s3 cp \"/shared/CSHL_SPM/sift_descriptors/MD585/MD585-IHC54-2015.08.19-15.16.31_MD585_3_0162_sift_descriptors.bp\" \"s3://mousebrainatlas-data/CSHL_SPM/sift_descriptors/MD585/MD585-IHC54-2015.08.19-15.16.31_MD585_3_0162_sift_descriptors.bp\"\n",
      "rm -rf \"/shared/CSHL_data_processed/MD585/MD585_prep2_lossless_gray/MD585-N55-2015.08.19-16.25.32_MD585_1_0163_prep2_lossless_gray.tif\" && mkdir -p \"/shared/CSHL_data_processed/MD585/MD585_prep2_lossless_gray\"\n",
      "aws s3 cp \"s3://mousebrainatlas-data/CSHL_data_processed/MD585/MD585_prep2_lossless_gray/MD585-N55-2015.08.19-16.25.32_MD585_1_0163_prep2_lossless_gray.tif\" \"/shared/CSHL_data_processed/MD585/MD585_prep2_lossless_gray/MD585-N55-2015.08.19-16.25.32_MD585_1_0163_prep2_lossless_gray.tif\"\n",
      "rm -rf \"/shared/CSHL_data_processed/MD585/MD585_prep2_thumbnail_mask/MD585-N55-2015.08.19-16.25.32_MD585_1_0163_prep2_thumbnail_mask.png\" && mkdir -p \"/shared/CSHL_data_processed/MD585/MD585_prep2_thumbnail_mask\"\n",
      "aws s3 cp \"s3://mousebrainatlas-data/CSHL_data_processed/MD585/MD585_prep2_thumbnail_mask/MD585-N55-2015.08.19-16.25.32_MD585_1_0163_prep2_thumbnail_mask.png\" \"/shared/CSHL_data_processed/MD585/MD585_prep2_thumbnail_mask/MD585-N55-2015.08.19-16.25.32_MD585_1_0163_prep2_thumbnail_mask.png\"\n",
      "aws s3 cp \"/shared/CSHL_SPM/sift_keypoints/MD585/MD585-N55-2015.08.19-16.25.32_MD585_1_0163_sift_keypoints.bp\" \"s3://mousebrainatlas-data/CSHL_SPM/sift_keypoints/MD585/MD585-N55-2015.08.19-16.25.32_MD585_1_0163_sift_keypoints.bp\"\n",
      "aws s3 cp \"/shared/CSHL_SPM/sift_descriptors/MD585/MD585-N55-2015.08.19-16.25.32_MD585_1_0163_sift_descriptors.bp\" \"s3://mousebrainatlas-data/CSHL_SPM/sift_descriptors/MD585/MD585-N55-2015.08.19-16.25.32_MD585_1_0163_sift_descriptors.bp\"\n",
      "rm -rf \"/shared/CSHL_data_processed/MD585/MD585_prep2_lossless_gray/MD585-IHC55-2015.08.19-15.21.01_MD585_1_0163_prep2_lossless_gray.tif\" && mkdir -p \"/shared/CSHL_data_processed/MD585/MD585_prep2_lossless_gray\"\n",
      "aws s3 cp \"s3://mousebrainatlas-data/CSHL_data_processed/MD585/MD585_prep2_lossless_gray/MD585-IHC55-2015.08.19-15.21.01_MD585_1_0163_prep2_lossless_gray.tif\" \"/shared/CSHL_data_processed/MD585/MD585_prep2_lossless_gray/MD585-IHC55-2015.08.19-15.21.01_MD585_1_0163_prep2_lossless_gray.tif\"\n",
      "rm -rf \"/shared/CSHL_data_processed/MD585/MD585_prep2_thumbnail_mask/MD585-IHC55-2015.08.19-15.21.01_MD585_1_0163_prep2_thumbnail_mask.png\" && mkdir -p \"/shared/CSHL_data_processed/MD585/MD585_prep2_thumbnail_mask\"\n",
      "aws s3 cp \"s3://mousebrainatlas-data/CSHL_data_processed/MD585/MD585_prep2_thumbnail_mask/MD585-IHC55-2015.08.19-15.21.01_MD585_1_0163_prep2_thumbnail_mask.png\" \"/shared/CSHL_data_processed/MD585/MD585_prep2_thumbnail_mask/MD585-IHC55-2015.08.19-15.21.01_MD585_1_0163_prep2_thumbnail_mask.png\"\n",
      "aws s3 cp \"/shared/CSHL_SPM/sift_keypoints/MD585/MD585-IHC55-2015.08.19-15.21.01_MD585_1_0163_sift_keypoints.bp\" \"s3://mousebrainatlas-data/CSHL_SPM/sift_keypoints/MD585/MD585-IHC55-2015.08.19-15.21.01_MD585_1_0163_sift_keypoints.bp\"\n",
      "aws s3 cp \"/shared/CSHL_SPM/sift_descriptors/MD585/MD585-IHC55-2015.08.19-15.21.01_MD585_1_0163_sift_descriptors.bp\" \"s3://mousebrainatlas-data/CSHL_SPM/sift_descriptors/MD585/MD585-IHC55-2015.08.19-15.21.01_MD585_1_0163_sift_descriptors.bp\"\n",
      "rm -rf \"/shared/CSHL_data_processed/MD585/MD585_prep2_lossless_gray/MD585-N55-2015.08.19-16.25.32_MD585_2_0164_prep2_lossless_gray.tif\" && mkdir -p \"/shared/CSHL_data_processed/MD585/MD585_prep2_lossless_gray\"\n",
      "aws s3 cp \"s3://mousebrainatlas-data/CSHL_data_processed/MD585/MD585_prep2_lossless_gray/MD585-N55-2015.08.19-16.25.32_MD585_2_0164_prep2_lossless_gray.tif\" \"/shared/CSHL_data_processed/MD585/MD585_prep2_lossless_gray/MD585-N55-2015.08.19-16.25.32_MD585_2_0164_prep2_lossless_gray.tif\"\n",
      "rm -rf \"/shared/CSHL_data_processed/MD585/MD585_prep2_thumbnail_mask/MD585-N55-2015.08.19-16.25.32_MD585_2_0164_prep2_thumbnail_mask.png\" && mkdir -p \"/shared/CSHL_data_processed/MD585/MD585_prep2_thumbnail_mask\"\n",
      "aws s3 cp \"s3://mousebrainatlas-data/CSHL_data_processed/MD585/MD585_prep2_thumbnail_mask/MD585-N55-2015.08.19-16.25.32_MD585_2_0164_prep2_thumbnail_mask.png\" \"/shared/CSHL_data_processed/MD585/MD585_prep2_thumbnail_mask/MD585-N55-2015.08.19-16.25.32_MD585_2_0164_prep2_thumbnail_mask.png\"\n",
      "aws s3 cp \"/shared/CSHL_SPM/sift_keypoints/MD585/MD585-N55-2015.08.19-16.25.32_MD585_2_0164_sift_keypoints.bp\" \"s3://mousebrainatlas-data/CSHL_SPM/sift_keypoints/MD585/MD585-N55-2015.08.19-16.25.32_MD585_2_0164_sift_keypoints.bp\"\n",
      "aws s3 cp \"/shared/CSHL_SPM/sift_descriptors/MD585/MD585-N55-2015.08.19-16.25.32_MD585_2_0164_sift_descriptors.bp\" \"s3://mousebrainatlas-data/CSHL_SPM/sift_descriptors/MD585/MD585-N55-2015.08.19-16.25.32_MD585_2_0164_sift_descriptors.bp\"\n",
      "rm -rf \"/shared/CSHL_data_processed/MD585/MD585_prep2_lossless_gray/MD585-IHC55-2015.08.19-15.21.01_MD585_2_0164_prep2_lossless_gray.tif\" && mkdir -p \"/shared/CSHL_data_processed/MD585/MD585_prep2_lossless_gray\"\n",
      "aws s3 cp \"s3://mousebrainatlas-data/CSHL_data_processed/MD585/MD585_prep2_lossless_gray/MD585-IHC55-2015.08.19-15.21.01_MD585_2_0164_prep2_lossless_gray.tif\" \"/shared/CSHL_data_processed/MD585/MD585_prep2_lossless_gray/MD585-IHC55-2015.08.19-15.21.01_MD585_2_0164_prep2_lossless_gray.tif\"\n",
      "rm -rf \"/shared/CSHL_data_processed/MD585/MD585_prep2_thumbnail_mask/MD585-IHC55-2015.08.19-15.21.01_MD585_2_0164_prep2_thumbnail_mask.png\" && mkdir -p \"/shared/CSHL_data_processed/MD585/MD585_prep2_thumbnail_mask\"\n",
      "aws s3 cp \"s3://mousebrainatlas-data/CSHL_data_processed/MD585/MD585_prep2_thumbnail_mask/MD585-IHC55-2015.08.19-15.21.01_MD585_2_0164_prep2_thumbnail_mask.png\" \"/shared/CSHL_data_processed/MD585/MD585_prep2_thumbnail_mask/MD585-IHC55-2015.08.19-15.21.01_MD585_2_0164_prep2_thumbnail_mask.png\"\n",
      "aws s3 cp \"/shared/CSHL_SPM/sift_keypoints/MD585/MD585-IHC55-2015.08.19-15.21.01_MD585_2_0164_sift_keypoints.bp\" \"s3://mousebrainatlas-data/CSHL_SPM/sift_keypoints/MD585/MD585-IHC55-2015.08.19-15.21.01_MD585_2_0164_sift_keypoints.bp\"\n",
      "aws s3 cp \"/shared/CSHL_SPM/sift_descriptors/MD585/MD585-IHC55-2015.08.19-15.21.01_MD585_2_0164_sift_descriptors.bp\" \"s3://mousebrainatlas-data/CSHL_SPM/sift_descriptors/MD585/MD585-IHC55-2015.08.19-15.21.01_MD585_2_0164_sift_descriptors.bp\"\n",
      "rm -rf \"/shared/CSHL_data_processed/MD585/MD585_prep2_lossless_gray/MD585-N55-2015.08.19-16.25.32_MD585_3_0165_prep2_lossless_gray.tif\" && mkdir -p \"/shared/CSHL_data_processed/MD585/MD585_prep2_lossless_gray\"\n",
      "aws s3 cp \"s3://mousebrainatlas-data/CSHL_data_processed/MD585/MD585_prep2_lossless_gray/MD585-N55-2015.08.19-16.25.32_MD585_3_0165_prep2_lossless_gray.tif\" \"/shared/CSHL_data_processed/MD585/MD585_prep2_lossless_gray/MD585-N55-2015.08.19-16.25.32_MD585_3_0165_prep2_lossless_gray.tif\"\n",
      "rm -rf \"/shared/CSHL_data_processed/MD585/MD585_prep2_thumbnail_mask/MD585-N55-2015.08.19-16.25.32_MD585_3_0165_prep2_thumbnail_mask.png\" && mkdir -p \"/shared/CSHL_data_processed/MD585/MD585_prep2_thumbnail_mask\"\n",
      "aws s3 cp \"s3://mousebrainatlas-data/CSHL_data_processed/MD585/MD585_prep2_thumbnail_mask/MD585-N55-2015.08.19-16.25.32_MD585_3_0165_prep2_thumbnail_mask.png\" \"/shared/CSHL_data_processed/MD585/MD585_prep2_thumbnail_mask/MD585-N55-2015.08.19-16.25.32_MD585_3_0165_prep2_thumbnail_mask.png\"\n",
      "aws s3 cp \"/shared/CSHL_SPM/sift_keypoints/MD585/MD585-N55-2015.08.19-16.25.32_MD585_3_0165_sift_keypoints.bp\" \"s3://mousebrainatlas-data/CSHL_SPM/sift_keypoints/MD585/MD585-N55-2015.08.19-16.25.32_MD585_3_0165_sift_keypoints.bp\"\n",
      "aws s3 cp \"/shared/CSHL_SPM/sift_descriptors/MD585/MD585-N55-2015.08.19-16.25.32_MD585_3_0165_sift_descriptors.bp\" \"s3://mousebrainatlas-data/CSHL_SPM/sift_descriptors/MD585/MD585-N55-2015.08.19-16.25.32_MD585_3_0165_sift_descriptors.bp\"\n"
     ]
    },
    {
     "name": "stdout",
     "output_type": "stream",
     "text": [
      "rm -rf \"/shared/CSHL_data_processed/MD585/MD585_prep2_lossless_gray/MD585-IHC55-2015.08.19-15.21.01_MD585_3_0165_prep2_lossless_gray.tif\" && mkdir -p \"/shared/CSHL_data_processed/MD585/MD585_prep2_lossless_gray\"\n",
      "aws s3 cp \"s3://mousebrainatlas-data/CSHL_data_processed/MD585/MD585_prep2_lossless_gray/MD585-IHC55-2015.08.19-15.21.01_MD585_3_0165_prep2_lossless_gray.tif\" \"/shared/CSHL_data_processed/MD585/MD585_prep2_lossless_gray/MD585-IHC55-2015.08.19-15.21.01_MD585_3_0165_prep2_lossless_gray.tif\"\n",
      "rm -rf \"/shared/CSHL_data_processed/MD585/MD585_prep2_thumbnail_mask/MD585-IHC55-2015.08.19-15.21.01_MD585_3_0165_prep2_thumbnail_mask.png\" && mkdir -p \"/shared/CSHL_data_processed/MD585/MD585_prep2_thumbnail_mask\"\n",
      "aws s3 cp \"s3://mousebrainatlas-data/CSHL_data_processed/MD585/MD585_prep2_thumbnail_mask/MD585-IHC55-2015.08.19-15.21.01_MD585_3_0165_prep2_thumbnail_mask.png\" \"/shared/CSHL_data_processed/MD585/MD585_prep2_thumbnail_mask/MD585-IHC55-2015.08.19-15.21.01_MD585_3_0165_prep2_thumbnail_mask.png\"\n",
      "aws s3 cp \"/shared/CSHL_SPM/sift_keypoints/MD585/MD585-IHC55-2015.08.19-15.21.01_MD585_3_0165_sift_keypoints.bp\" \"s3://mousebrainatlas-data/CSHL_SPM/sift_keypoints/MD585/MD585-IHC55-2015.08.19-15.21.01_MD585_3_0165_sift_keypoints.bp\"\n",
      "aws s3 cp \"/shared/CSHL_SPM/sift_descriptors/MD585/MD585-IHC55-2015.08.19-15.21.01_MD585_3_0165_sift_descriptors.bp\" \"s3://mousebrainatlas-data/CSHL_SPM/sift_descriptors/MD585/MD585-IHC55-2015.08.19-15.21.01_MD585_3_0165_sift_descriptors.bp\"\n",
      "rm -rf \"/shared/CSHL_data_processed/MD585/MD585_prep2_lossless_gray/MD585-N56-2015.07.16-23.31.53_MD585_1_0166_prep2_lossless_gray.tif\" && mkdir -p \"/shared/CSHL_data_processed/MD585/MD585_prep2_lossless_gray\"\n",
      "aws s3 cp \"s3://mousebrainatlas-data/CSHL_data_processed/MD585/MD585_prep2_lossless_gray/MD585-N56-2015.07.16-23.31.53_MD585_1_0166_prep2_lossless_gray.tif\" \"/shared/CSHL_data_processed/MD585/MD585_prep2_lossless_gray/MD585-N56-2015.07.16-23.31.53_MD585_1_0166_prep2_lossless_gray.tif\"\n",
      "rm -rf \"/shared/CSHL_data_processed/MD585/MD585_prep2_thumbnail_mask/MD585-N56-2015.07.16-23.31.53_MD585_1_0166_prep2_thumbnail_mask.png\" && mkdir -p \"/shared/CSHL_data_processed/MD585/MD585_prep2_thumbnail_mask\"\n",
      "aws s3 cp \"s3://mousebrainatlas-data/CSHL_data_processed/MD585/MD585_prep2_thumbnail_mask/MD585-N56-2015.07.16-23.31.53_MD585_1_0166_prep2_thumbnail_mask.png\" \"/shared/CSHL_data_processed/MD585/MD585_prep2_thumbnail_mask/MD585-N56-2015.07.16-23.31.53_MD585_1_0166_prep2_thumbnail_mask.png\"\n",
      "aws s3 cp \"/shared/CSHL_SPM/sift_keypoints/MD585/MD585-N56-2015.07.16-23.31.53_MD585_1_0166_sift_keypoints.bp\" \"s3://mousebrainatlas-data/CSHL_SPM/sift_keypoints/MD585/MD585-N56-2015.07.16-23.31.53_MD585_1_0166_sift_keypoints.bp\"\n",
      "aws s3 cp \"/shared/CSHL_SPM/sift_descriptors/MD585/MD585-N56-2015.07.16-23.31.53_MD585_1_0166_sift_descriptors.bp\" \"s3://mousebrainatlas-data/CSHL_SPM/sift_descriptors/MD585/MD585-N56-2015.07.16-23.31.53_MD585_1_0166_sift_descriptors.bp\"\n",
      "rm -rf \"/shared/CSHL_data_processed/MD585/MD585_prep2_lossless_gray/MD585-IHC56-2015.07.16-18.29.48_MD585_1_0166_prep2_lossless_gray.tif\" && mkdir -p \"/shared/CSHL_data_processed/MD585/MD585_prep2_lossless_gray\"\n",
      "aws s3 cp \"s3://mousebrainatlas-data/CSHL_data_processed/MD585/MD585_prep2_lossless_gray/MD585-IHC56-2015.07.16-18.29.48_MD585_1_0166_prep2_lossless_gray.tif\" \"/shared/CSHL_data_processed/MD585/MD585_prep2_lossless_gray/MD585-IHC56-2015.07.16-18.29.48_MD585_1_0166_prep2_lossless_gray.tif\"\n",
      "rm -rf \"/shared/CSHL_data_processed/MD585/MD585_prep2_thumbnail_mask/MD585-IHC56-2015.07.16-18.29.48_MD585_1_0166_prep2_thumbnail_mask.png\" && mkdir -p \"/shared/CSHL_data_processed/MD585/MD585_prep2_thumbnail_mask\"\n",
      "aws s3 cp \"s3://mousebrainatlas-data/CSHL_data_processed/MD585/MD585_prep2_thumbnail_mask/MD585-IHC56-2015.07.16-18.29.48_MD585_1_0166_prep2_thumbnail_mask.png\" \"/shared/CSHL_data_processed/MD585/MD585_prep2_thumbnail_mask/MD585-IHC56-2015.07.16-18.29.48_MD585_1_0166_prep2_thumbnail_mask.png\"\n",
      "aws s3 cp \"/shared/CSHL_SPM/sift_keypoints/MD585/MD585-IHC56-2015.07.16-18.29.48_MD585_1_0166_sift_keypoints.bp\" \"s3://mousebrainatlas-data/CSHL_SPM/sift_keypoints/MD585/MD585-IHC56-2015.07.16-18.29.48_MD585_1_0166_sift_keypoints.bp\"\n",
      "aws s3 cp \"/shared/CSHL_SPM/sift_descriptors/MD585/MD585-IHC56-2015.07.16-18.29.48_MD585_1_0166_sift_descriptors.bp\" \"s3://mousebrainatlas-data/CSHL_SPM/sift_descriptors/MD585/MD585-IHC56-2015.07.16-18.29.48_MD585_1_0166_sift_descriptors.bp\"\n",
      "rm -rf \"/shared/CSHL_data_processed/MD585/MD585_prep2_lossless_gray/MD585-N56-2015.07.16-23.31.53_MD585_2_0167_prep2_lossless_gray.tif\" && mkdir -p \"/shared/CSHL_data_processed/MD585/MD585_prep2_lossless_gray\"\n",
      "aws s3 cp \"s3://mousebrainatlas-data/CSHL_data_processed/MD585/MD585_prep2_lossless_gray/MD585-N56-2015.07.16-23.31.53_MD585_2_0167_prep2_lossless_gray.tif\" \"/shared/CSHL_data_processed/MD585/MD585_prep2_lossless_gray/MD585-N56-2015.07.16-23.31.53_MD585_2_0167_prep2_lossless_gray.tif\"\n",
      "rm -rf \"/shared/CSHL_data_processed/MD585/MD585_prep2_thumbnail_mask/MD585-N56-2015.07.16-23.31.53_MD585_2_0167_prep2_thumbnail_mask.png\" && mkdir -p \"/shared/CSHL_data_processed/MD585/MD585_prep2_thumbnail_mask\"\n",
      "aws s3 cp \"s3://mousebrainatlas-data/CSHL_data_processed/MD585/MD585_prep2_thumbnail_mask/MD585-N56-2015.07.16-23.31.53_MD585_2_0167_prep2_thumbnail_mask.png\" \"/shared/CSHL_data_processed/MD585/MD585_prep2_thumbnail_mask/MD585-N56-2015.07.16-23.31.53_MD585_2_0167_prep2_thumbnail_mask.png\"\n",
      "aws s3 cp \"/shared/CSHL_SPM/sift_keypoints/MD585/MD585-N56-2015.07.16-23.31.53_MD585_2_0167_sift_keypoints.bp\" \"s3://mousebrainatlas-data/CSHL_SPM/sift_keypoints/MD585/MD585-N56-2015.07.16-23.31.53_MD585_2_0167_sift_keypoints.bp\"\n",
      "aws s3 cp \"/shared/CSHL_SPM/sift_descriptors/MD585/MD585-N56-2015.07.16-23.31.53_MD585_2_0167_sift_descriptors.bp\" \"s3://mousebrainatlas-data/CSHL_SPM/sift_descriptors/MD585/MD585-N56-2015.07.16-23.31.53_MD585_2_0167_sift_descriptors.bp\"\n",
      "rm -rf \"/shared/CSHL_data_processed/MD585/MD585_prep2_lossless_gray/MD585-IHC56-2015.07.16-18.29.48_MD585_2_0167_prep2_lossless_gray.tif\" && mkdir -p \"/shared/CSHL_data_processed/MD585/MD585_prep2_lossless_gray\"\n",
      "aws s3 cp \"s3://mousebrainatlas-data/CSHL_data_processed/MD585/MD585_prep2_lossless_gray/MD585-IHC56-2015.07.16-18.29.48_MD585_2_0167_prep2_lossless_gray.tif\" \"/shared/CSHL_data_processed/MD585/MD585_prep2_lossless_gray/MD585-IHC56-2015.07.16-18.29.48_MD585_2_0167_prep2_lossless_gray.tif\"\n",
      "rm -rf \"/shared/CSHL_data_processed/MD585/MD585_prep2_thumbnail_mask/MD585-IHC56-2015.07.16-18.29.48_MD585_2_0167_prep2_thumbnail_mask.png\" && mkdir -p \"/shared/CSHL_data_processed/MD585/MD585_prep2_thumbnail_mask\"\n",
      "aws s3 cp \"s3://mousebrainatlas-data/CSHL_data_processed/MD585/MD585_prep2_thumbnail_mask/MD585-IHC56-2015.07.16-18.29.48_MD585_2_0167_prep2_thumbnail_mask.png\" \"/shared/CSHL_data_processed/MD585/MD585_prep2_thumbnail_mask/MD585-IHC56-2015.07.16-18.29.48_MD585_2_0167_prep2_thumbnail_mask.png\"\n",
      "aws s3 cp \"/shared/CSHL_SPM/sift_keypoints/MD585/MD585-IHC56-2015.07.16-18.29.48_MD585_2_0167_sift_keypoints.bp\" \"s3://mousebrainatlas-data/CSHL_SPM/sift_keypoints/MD585/MD585-IHC56-2015.07.16-18.29.48_MD585_2_0167_sift_keypoints.bp\"\n",
      "aws s3 cp \"/shared/CSHL_SPM/sift_descriptors/MD585/MD585-IHC56-2015.07.16-18.29.48_MD585_2_0167_sift_descriptors.bp\" \"s3://mousebrainatlas-data/CSHL_SPM/sift_descriptors/MD585/MD585-IHC56-2015.07.16-18.29.48_MD585_2_0167_sift_descriptors.bp\"\n",
      "rm -rf \"/shared/CSHL_data_processed/MD585/MD585_prep2_lossless_gray/MD585-N56-2015.07.16-23.31.53_MD585_3_0168_prep2_lossless_gray.tif\" && mkdir -p \"/shared/CSHL_data_processed/MD585/MD585_prep2_lossless_gray\"\n",
      "aws s3 cp \"s3://mousebrainatlas-data/CSHL_data_processed/MD585/MD585_prep2_lossless_gray/MD585-N56-2015.07.16-23.31.53_MD585_3_0168_prep2_lossless_gray.tif\" \"/shared/CSHL_data_processed/MD585/MD585_prep2_lossless_gray/MD585-N56-2015.07.16-23.31.53_MD585_3_0168_prep2_lossless_gray.tif\"\n",
      "rm -rf \"/shared/CSHL_data_processed/MD585/MD585_prep2_thumbnail_mask/MD585-N56-2015.07.16-23.31.53_MD585_3_0168_prep2_thumbnail_mask.png\" && mkdir -p \"/shared/CSHL_data_processed/MD585/MD585_prep2_thumbnail_mask\"\n",
      "aws s3 cp \"s3://mousebrainatlas-data/CSHL_data_processed/MD585/MD585_prep2_thumbnail_mask/MD585-N56-2015.07.16-23.31.53_MD585_3_0168_prep2_thumbnail_mask.png\" \"/shared/CSHL_data_processed/MD585/MD585_prep2_thumbnail_mask/MD585-N56-2015.07.16-23.31.53_MD585_3_0168_prep2_thumbnail_mask.png\"\n"
     ]
    },
    {
     "name": "stdout",
     "output_type": "stream",
     "text": [
      "aws s3 cp \"/shared/CSHL_SPM/sift_keypoints/MD585/MD585-N56-2015.07.16-23.31.53_MD585_3_0168_sift_keypoints.bp\" \"s3://mousebrainatlas-data/CSHL_SPM/sift_keypoints/MD585/MD585-N56-2015.07.16-23.31.53_MD585_3_0168_sift_keypoints.bp\"\n",
      "aws s3 cp \"/shared/CSHL_SPM/sift_descriptors/MD585/MD585-N56-2015.07.16-23.31.53_MD585_3_0168_sift_descriptors.bp\" \"s3://mousebrainatlas-data/CSHL_SPM/sift_descriptors/MD585/MD585-N56-2015.07.16-23.31.53_MD585_3_0168_sift_descriptors.bp\"\n",
      "rm -rf \"/shared/CSHL_data_processed/MD585/MD585_prep2_lossless_gray/MD585-IHC56-2015.07.16-18.29.48_MD585_3_0168_prep2_lossless_gray.tif\" && mkdir -p \"/shared/CSHL_data_processed/MD585/MD585_prep2_lossless_gray\"\n",
      "aws s3 cp \"s3://mousebrainatlas-data/CSHL_data_processed/MD585/MD585_prep2_lossless_gray/MD585-IHC56-2015.07.16-18.29.48_MD585_3_0168_prep2_lossless_gray.tif\" \"/shared/CSHL_data_processed/MD585/MD585_prep2_lossless_gray/MD585-IHC56-2015.07.16-18.29.48_MD585_3_0168_prep2_lossless_gray.tif\"\n",
      "rm -rf \"/shared/CSHL_data_processed/MD585/MD585_prep2_thumbnail_mask/MD585-IHC56-2015.07.16-18.29.48_MD585_3_0168_prep2_thumbnail_mask.png\" && mkdir -p \"/shared/CSHL_data_processed/MD585/MD585_prep2_thumbnail_mask\"\n",
      "aws s3 cp \"s3://mousebrainatlas-data/CSHL_data_processed/MD585/MD585_prep2_thumbnail_mask/MD585-IHC56-2015.07.16-18.29.48_MD585_3_0168_prep2_thumbnail_mask.png\" \"/shared/CSHL_data_processed/MD585/MD585_prep2_thumbnail_mask/MD585-IHC56-2015.07.16-18.29.48_MD585_3_0168_prep2_thumbnail_mask.png\"\n",
      "aws s3 cp \"/shared/CSHL_SPM/sift_keypoints/MD585/MD585-IHC56-2015.07.16-18.29.48_MD585_3_0168_sift_keypoints.bp\" \"s3://mousebrainatlas-data/CSHL_SPM/sift_keypoints/MD585/MD585-IHC56-2015.07.16-18.29.48_MD585_3_0168_sift_keypoints.bp\"\n",
      "aws s3 cp \"/shared/CSHL_SPM/sift_descriptors/MD585/MD585-IHC56-2015.07.16-18.29.48_MD585_3_0168_sift_descriptors.bp\" \"s3://mousebrainatlas-data/CSHL_SPM/sift_descriptors/MD585/MD585-IHC56-2015.07.16-18.29.48_MD585_3_0168_sift_descriptors.bp\"\n",
      "rm -rf \"/shared/CSHL_data_processed/MD585/MD585_prep2_lossless_gray/MD585-N57-2015.07.16-23.36.08_MD585_1_0169_prep2_lossless_gray.tif\" && mkdir -p \"/shared/CSHL_data_processed/MD585/MD585_prep2_lossless_gray\"\n",
      "aws s3 cp \"s3://mousebrainatlas-data/CSHL_data_processed/MD585/MD585_prep2_lossless_gray/MD585-N57-2015.07.16-23.36.08_MD585_1_0169_prep2_lossless_gray.tif\" \"/shared/CSHL_data_processed/MD585/MD585_prep2_lossless_gray/MD585-N57-2015.07.16-23.36.08_MD585_1_0169_prep2_lossless_gray.tif\"\n",
      "rm -rf \"/shared/CSHL_data_processed/MD585/MD585_prep2_thumbnail_mask/MD585-N57-2015.07.16-23.36.08_MD585_1_0169_prep2_thumbnail_mask.png\" && mkdir -p \"/shared/CSHL_data_processed/MD585/MD585_prep2_thumbnail_mask\"\n",
      "aws s3 cp \"s3://mousebrainatlas-data/CSHL_data_processed/MD585/MD585_prep2_thumbnail_mask/MD585-N57-2015.07.16-23.36.08_MD585_1_0169_prep2_thumbnail_mask.png\" \"/shared/CSHL_data_processed/MD585/MD585_prep2_thumbnail_mask/MD585-N57-2015.07.16-23.36.08_MD585_1_0169_prep2_thumbnail_mask.png\"\n",
      "aws s3 cp \"/shared/CSHL_SPM/sift_keypoints/MD585/MD585-N57-2015.07.16-23.36.08_MD585_1_0169_sift_keypoints.bp\" \"s3://mousebrainatlas-data/CSHL_SPM/sift_keypoints/MD585/MD585-N57-2015.07.16-23.36.08_MD585_1_0169_sift_keypoints.bp\"\n",
      "aws s3 cp \"/shared/CSHL_SPM/sift_descriptors/MD585/MD585-N57-2015.07.16-23.36.08_MD585_1_0169_sift_descriptors.bp\" \"s3://mousebrainatlas-data/CSHL_SPM/sift_descriptors/MD585/MD585-N57-2015.07.16-23.36.08_MD585_1_0169_sift_descriptors.bp\"\n",
      "rm -rf \"/shared/CSHL_data_processed/MD585/MD585_prep2_lossless_gray/MD585-IHC57-2015.07.16-18.33.52_MD585_1_0169_prep2_lossless_gray.tif\" && mkdir -p \"/shared/CSHL_data_processed/MD585/MD585_prep2_lossless_gray\"\n",
      "aws s3 cp \"s3://mousebrainatlas-data/CSHL_data_processed/MD585/MD585_prep2_lossless_gray/MD585-IHC57-2015.07.16-18.33.52_MD585_1_0169_prep2_lossless_gray.tif\" \"/shared/CSHL_data_processed/MD585/MD585_prep2_lossless_gray/MD585-IHC57-2015.07.16-18.33.52_MD585_1_0169_prep2_lossless_gray.tif\"\n",
      "rm -rf \"/shared/CSHL_data_processed/MD585/MD585_prep2_thumbnail_mask/MD585-IHC57-2015.07.16-18.33.52_MD585_1_0169_prep2_thumbnail_mask.png\" && mkdir -p \"/shared/CSHL_data_processed/MD585/MD585_prep2_thumbnail_mask\"\n",
      "aws s3 cp \"s3://mousebrainatlas-data/CSHL_data_processed/MD585/MD585_prep2_thumbnail_mask/MD585-IHC57-2015.07.16-18.33.52_MD585_1_0169_prep2_thumbnail_mask.png\" \"/shared/CSHL_data_processed/MD585/MD585_prep2_thumbnail_mask/MD585-IHC57-2015.07.16-18.33.52_MD585_1_0169_prep2_thumbnail_mask.png\"\n",
      "aws s3 cp \"/shared/CSHL_SPM/sift_keypoints/MD585/MD585-IHC57-2015.07.16-18.33.52_MD585_1_0169_sift_keypoints.bp\" \"s3://mousebrainatlas-data/CSHL_SPM/sift_keypoints/MD585/MD585-IHC57-2015.07.16-18.33.52_MD585_1_0169_sift_keypoints.bp\"\n",
      "aws s3 cp \"/shared/CSHL_SPM/sift_descriptors/MD585/MD585-IHC57-2015.07.16-18.33.52_MD585_1_0169_sift_descriptors.bp\" \"s3://mousebrainatlas-data/CSHL_SPM/sift_descriptors/MD585/MD585-IHC57-2015.07.16-18.33.52_MD585_1_0169_sift_descriptors.bp\"\n",
      "rm -rf \"/shared/CSHL_data_processed/MD585/MD585_prep2_lossless_gray/MD585-N57-2015.07.16-23.36.08_MD585_2_0170_prep2_lossless_gray.tif\" && mkdir -p \"/shared/CSHL_data_processed/MD585/MD585_prep2_lossless_gray\"\n",
      "aws s3 cp \"s3://mousebrainatlas-data/CSHL_data_processed/MD585/MD585_prep2_lossless_gray/MD585-N57-2015.07.16-23.36.08_MD585_2_0170_prep2_lossless_gray.tif\" \"/shared/CSHL_data_processed/MD585/MD585_prep2_lossless_gray/MD585-N57-2015.07.16-23.36.08_MD585_2_0170_prep2_lossless_gray.tif\"\n",
      "rm -rf \"/shared/CSHL_data_processed/MD585/MD585_prep2_thumbnail_mask/MD585-N57-2015.07.16-23.36.08_MD585_2_0170_prep2_thumbnail_mask.png\" && mkdir -p \"/shared/CSHL_data_processed/MD585/MD585_prep2_thumbnail_mask\"\n",
      "aws s3 cp \"s3://mousebrainatlas-data/CSHL_data_processed/MD585/MD585_prep2_thumbnail_mask/MD585-N57-2015.07.16-23.36.08_MD585_2_0170_prep2_thumbnail_mask.png\" \"/shared/CSHL_data_processed/MD585/MD585_prep2_thumbnail_mask/MD585-N57-2015.07.16-23.36.08_MD585_2_0170_prep2_thumbnail_mask.png\"\n",
      "aws s3 cp \"/shared/CSHL_SPM/sift_keypoints/MD585/MD585-N57-2015.07.16-23.36.08_MD585_2_0170_sift_keypoints.bp\" \"s3://mousebrainatlas-data/CSHL_SPM/sift_keypoints/MD585/MD585-N57-2015.07.16-23.36.08_MD585_2_0170_sift_keypoints.bp\"\n",
      "aws s3 cp \"/shared/CSHL_SPM/sift_descriptors/MD585/MD585-N57-2015.07.16-23.36.08_MD585_2_0170_sift_descriptors.bp\" \"s3://mousebrainatlas-data/CSHL_SPM/sift_descriptors/MD585/MD585-N57-2015.07.16-23.36.08_MD585_2_0170_sift_descriptors.bp\"\n",
      "rm -rf \"/shared/CSHL_data_processed/MD585/MD585_prep2_lossless_gray/MD585-IHC57-2015.07.16-18.33.52_MD585_2_0170_prep2_lossless_gray.tif\" && mkdir -p \"/shared/CSHL_data_processed/MD585/MD585_prep2_lossless_gray\"\n",
      "aws s3 cp \"s3://mousebrainatlas-data/CSHL_data_processed/MD585/MD585_prep2_lossless_gray/MD585-IHC57-2015.07.16-18.33.52_MD585_2_0170_prep2_lossless_gray.tif\" \"/shared/CSHL_data_processed/MD585/MD585_prep2_lossless_gray/MD585-IHC57-2015.07.16-18.33.52_MD585_2_0170_prep2_lossless_gray.tif\"\n",
      "rm -rf \"/shared/CSHL_data_processed/MD585/MD585_prep2_thumbnail_mask/MD585-IHC57-2015.07.16-18.33.52_MD585_2_0170_prep2_thumbnail_mask.png\" && mkdir -p \"/shared/CSHL_data_processed/MD585/MD585_prep2_thumbnail_mask\"\n",
      "aws s3 cp \"s3://mousebrainatlas-data/CSHL_data_processed/MD585/MD585_prep2_thumbnail_mask/MD585-IHC57-2015.07.16-18.33.52_MD585_2_0170_prep2_thumbnail_mask.png\" \"/shared/CSHL_data_processed/MD585/MD585_prep2_thumbnail_mask/MD585-IHC57-2015.07.16-18.33.52_MD585_2_0170_prep2_thumbnail_mask.png\"\n",
      "aws s3 cp \"/shared/CSHL_SPM/sift_keypoints/MD585/MD585-IHC57-2015.07.16-18.33.52_MD585_2_0170_sift_keypoints.bp\" \"s3://mousebrainatlas-data/CSHL_SPM/sift_keypoints/MD585/MD585-IHC57-2015.07.16-18.33.52_MD585_2_0170_sift_keypoints.bp\"\n",
      "aws s3 cp \"/shared/CSHL_SPM/sift_descriptors/MD585/MD585-IHC57-2015.07.16-18.33.52_MD585_2_0170_sift_descriptors.bp\" \"s3://mousebrainatlas-data/CSHL_SPM/sift_descriptors/MD585/MD585-IHC57-2015.07.16-18.33.52_MD585_2_0170_sift_descriptors.bp\"\n",
      "rm -rf \"/shared/CSHL_data_processed/MD585/MD585_prep2_lossless_gray/MD585-N57-2015.07.16-23.36.08_MD585_3_0171_prep2_lossless_gray.tif\" && mkdir -p \"/shared/CSHL_data_processed/MD585/MD585_prep2_lossless_gray\"\n",
      "aws s3 cp \"s3://mousebrainatlas-data/CSHL_data_processed/MD585/MD585_prep2_lossless_gray/MD585-N57-2015.07.16-23.36.08_MD585_3_0171_prep2_lossless_gray.tif\" \"/shared/CSHL_data_processed/MD585/MD585_prep2_lossless_gray/MD585-N57-2015.07.16-23.36.08_MD585_3_0171_prep2_lossless_gray.tif\"\n"
     ]
    },
    {
     "name": "stdout",
     "output_type": "stream",
     "text": [
      "rm -rf \"/shared/CSHL_data_processed/MD585/MD585_prep2_thumbnail_mask/MD585-N57-2015.07.16-23.36.08_MD585_3_0171_prep2_thumbnail_mask.png\" && mkdir -p \"/shared/CSHL_data_processed/MD585/MD585_prep2_thumbnail_mask\"\n",
      "aws s3 cp \"s3://mousebrainatlas-data/CSHL_data_processed/MD585/MD585_prep2_thumbnail_mask/MD585-N57-2015.07.16-23.36.08_MD585_3_0171_prep2_thumbnail_mask.png\" \"/shared/CSHL_data_processed/MD585/MD585_prep2_thumbnail_mask/MD585-N57-2015.07.16-23.36.08_MD585_3_0171_prep2_thumbnail_mask.png\"\n",
      "aws s3 cp \"/shared/CSHL_SPM/sift_keypoints/MD585/MD585-N57-2015.07.16-23.36.08_MD585_3_0171_sift_keypoints.bp\" \"s3://mousebrainatlas-data/CSHL_SPM/sift_keypoints/MD585/MD585-N57-2015.07.16-23.36.08_MD585_3_0171_sift_keypoints.bp\"\n",
      "aws s3 cp \"/shared/CSHL_SPM/sift_descriptors/MD585/MD585-N57-2015.07.16-23.36.08_MD585_3_0171_sift_descriptors.bp\" \"s3://mousebrainatlas-data/CSHL_SPM/sift_descriptors/MD585/MD585-N57-2015.07.16-23.36.08_MD585_3_0171_sift_descriptors.bp\"\n",
      "rm -rf \"/shared/CSHL_data_processed/MD585/MD585_prep2_lossless_gray/MD585-IHC57-2015.07.16-18.33.52_MD585_3_0171_prep2_lossless_gray.tif\" && mkdir -p \"/shared/CSHL_data_processed/MD585/MD585_prep2_lossless_gray\"\n",
      "aws s3 cp \"s3://mousebrainatlas-data/CSHL_data_processed/MD585/MD585_prep2_lossless_gray/MD585-IHC57-2015.07.16-18.33.52_MD585_3_0171_prep2_lossless_gray.tif\" \"/shared/CSHL_data_processed/MD585/MD585_prep2_lossless_gray/MD585-IHC57-2015.07.16-18.33.52_MD585_3_0171_prep2_lossless_gray.tif\"\n",
      "rm -rf \"/shared/CSHL_data_processed/MD585/MD585_prep2_thumbnail_mask/MD585-IHC57-2015.07.16-18.33.52_MD585_3_0171_prep2_thumbnail_mask.png\" && mkdir -p \"/shared/CSHL_data_processed/MD585/MD585_prep2_thumbnail_mask\"\n",
      "aws s3 cp \"s3://mousebrainatlas-data/CSHL_data_processed/MD585/MD585_prep2_thumbnail_mask/MD585-IHC57-2015.07.16-18.33.52_MD585_3_0171_prep2_thumbnail_mask.png\" \"/shared/CSHL_data_processed/MD585/MD585_prep2_thumbnail_mask/MD585-IHC57-2015.07.16-18.33.52_MD585_3_0171_prep2_thumbnail_mask.png\"\n",
      "aws s3 cp \"/shared/CSHL_SPM/sift_keypoints/MD585/MD585-IHC57-2015.07.16-18.33.52_MD585_3_0171_sift_keypoints.bp\" \"s3://mousebrainatlas-data/CSHL_SPM/sift_keypoints/MD585/MD585-IHC57-2015.07.16-18.33.52_MD585_3_0171_sift_keypoints.bp\"\n",
      "aws s3 cp \"/shared/CSHL_SPM/sift_descriptors/MD585/MD585-IHC57-2015.07.16-18.33.52_MD585_3_0171_sift_descriptors.bp\" \"s3://mousebrainatlas-data/CSHL_SPM/sift_descriptors/MD585/MD585-IHC57-2015.07.16-18.33.52_MD585_3_0171_sift_descriptors.bp\"\n",
      "rm -rf \"/shared/CSHL_data_processed/MD585/MD585_prep2_lossless_gray/MD585-N58-2015.07.16-23.40.18_MD585_1_0172_prep2_lossless_gray.tif\" && mkdir -p \"/shared/CSHL_data_processed/MD585/MD585_prep2_lossless_gray\"\n",
      "aws s3 cp \"s3://mousebrainatlas-data/CSHL_data_processed/MD585/MD585_prep2_lossless_gray/MD585-N58-2015.07.16-23.40.18_MD585_1_0172_prep2_lossless_gray.tif\" \"/shared/CSHL_data_processed/MD585/MD585_prep2_lossless_gray/MD585-N58-2015.07.16-23.40.18_MD585_1_0172_prep2_lossless_gray.tif\"\n",
      "rm -rf \"/shared/CSHL_data_processed/MD585/MD585_prep2_thumbnail_mask/MD585-N58-2015.07.16-23.40.18_MD585_1_0172_prep2_thumbnail_mask.png\" && mkdir -p \"/shared/CSHL_data_processed/MD585/MD585_prep2_thumbnail_mask\"\n",
      "aws s3 cp \"s3://mousebrainatlas-data/CSHL_data_processed/MD585/MD585_prep2_thumbnail_mask/MD585-N58-2015.07.16-23.40.18_MD585_1_0172_prep2_thumbnail_mask.png\" \"/shared/CSHL_data_processed/MD585/MD585_prep2_thumbnail_mask/MD585-N58-2015.07.16-23.40.18_MD585_1_0172_prep2_thumbnail_mask.png\"\n",
      "aws s3 cp \"/shared/CSHL_SPM/sift_keypoints/MD585/MD585-N58-2015.07.16-23.40.18_MD585_1_0172_sift_keypoints.bp\" \"s3://mousebrainatlas-data/CSHL_SPM/sift_keypoints/MD585/MD585-N58-2015.07.16-23.40.18_MD585_1_0172_sift_keypoints.bp\"\n",
      "aws s3 cp \"/shared/CSHL_SPM/sift_descriptors/MD585/MD585-N58-2015.07.16-23.40.18_MD585_1_0172_sift_descriptors.bp\" \"s3://mousebrainatlas-data/CSHL_SPM/sift_descriptors/MD585/MD585-N58-2015.07.16-23.40.18_MD585_1_0172_sift_descriptors.bp\"\n",
      "rm -rf \"/shared/CSHL_data_processed/MD585/MD585_prep2_lossless_gray/MD585-IHC58-2015.07.16-18.38.08_MD585_1_0172_prep2_lossless_gray.tif\" && mkdir -p \"/shared/CSHL_data_processed/MD585/MD585_prep2_lossless_gray\"\n",
      "aws s3 cp \"s3://mousebrainatlas-data/CSHL_data_processed/MD585/MD585_prep2_lossless_gray/MD585-IHC58-2015.07.16-18.38.08_MD585_1_0172_prep2_lossless_gray.tif\" \"/shared/CSHL_data_processed/MD585/MD585_prep2_lossless_gray/MD585-IHC58-2015.07.16-18.38.08_MD585_1_0172_prep2_lossless_gray.tif\"\n",
      "rm -rf \"/shared/CSHL_data_processed/MD585/MD585_prep2_thumbnail_mask/MD585-IHC58-2015.07.16-18.38.08_MD585_1_0172_prep2_thumbnail_mask.png\" && mkdir -p \"/shared/CSHL_data_processed/MD585/MD585_prep2_thumbnail_mask\"\n",
      "aws s3 cp \"s3://mousebrainatlas-data/CSHL_data_processed/MD585/MD585_prep2_thumbnail_mask/MD585-IHC58-2015.07.16-18.38.08_MD585_1_0172_prep2_thumbnail_mask.png\" \"/shared/CSHL_data_processed/MD585/MD585_prep2_thumbnail_mask/MD585-IHC58-2015.07.16-18.38.08_MD585_1_0172_prep2_thumbnail_mask.png\"\n",
      "aws s3 cp \"/shared/CSHL_SPM/sift_keypoints/MD585/MD585-IHC58-2015.07.16-18.38.08_MD585_1_0172_sift_keypoints.bp\" \"s3://mousebrainatlas-data/CSHL_SPM/sift_keypoints/MD585/MD585-IHC58-2015.07.16-18.38.08_MD585_1_0172_sift_keypoints.bp\"\n",
      "aws s3 cp \"/shared/CSHL_SPM/sift_descriptors/MD585/MD585-IHC58-2015.07.16-18.38.08_MD585_1_0172_sift_descriptors.bp\" \"s3://mousebrainatlas-data/CSHL_SPM/sift_descriptors/MD585/MD585-IHC58-2015.07.16-18.38.08_MD585_1_0172_sift_descriptors.bp\"\n",
      "rm -rf \"/shared/CSHL_data_processed/MD585/MD585_prep2_lossless_gray/MD585-N58-2015.07.16-23.40.18_MD585_2_0173_prep2_lossless_gray.tif\" && mkdir -p \"/shared/CSHL_data_processed/MD585/MD585_prep2_lossless_gray\"\n",
      "aws s3 cp \"s3://mousebrainatlas-data/CSHL_data_processed/MD585/MD585_prep2_lossless_gray/MD585-N58-2015.07.16-23.40.18_MD585_2_0173_prep2_lossless_gray.tif\" \"/shared/CSHL_data_processed/MD585/MD585_prep2_lossless_gray/MD585-N58-2015.07.16-23.40.18_MD585_2_0173_prep2_lossless_gray.tif\"\n",
      "rm -rf \"/shared/CSHL_data_processed/MD585/MD585_prep2_thumbnail_mask/MD585-N58-2015.07.16-23.40.18_MD585_2_0173_prep2_thumbnail_mask.png\" && mkdir -p \"/shared/CSHL_data_processed/MD585/MD585_prep2_thumbnail_mask\"\n",
      "aws s3 cp \"s3://mousebrainatlas-data/CSHL_data_processed/MD585/MD585_prep2_thumbnail_mask/MD585-N58-2015.07.16-23.40.18_MD585_2_0173_prep2_thumbnail_mask.png\" \"/shared/CSHL_data_processed/MD585/MD585_prep2_thumbnail_mask/MD585-N58-2015.07.16-23.40.18_MD585_2_0173_prep2_thumbnail_mask.png\"\n",
      "aws s3 cp \"/shared/CSHL_SPM/sift_keypoints/MD585/MD585-N58-2015.07.16-23.40.18_MD585_2_0173_sift_keypoints.bp\" \"s3://mousebrainatlas-data/CSHL_SPM/sift_keypoints/MD585/MD585-N58-2015.07.16-23.40.18_MD585_2_0173_sift_keypoints.bp\"\n",
      "aws s3 cp \"/shared/CSHL_SPM/sift_descriptors/MD585/MD585-N58-2015.07.16-23.40.18_MD585_2_0173_sift_descriptors.bp\" \"s3://mousebrainatlas-data/CSHL_SPM/sift_descriptors/MD585/MD585-N58-2015.07.16-23.40.18_MD585_2_0173_sift_descriptors.bp\"\n",
      "rm -rf \"/shared/CSHL_data_processed/MD585/MD585_prep2_lossless_gray/MD585-IHC58-2015.07.16-18.38.08_MD585_2_0173_prep2_lossless_gray.tif\" && mkdir -p \"/shared/CSHL_data_processed/MD585/MD585_prep2_lossless_gray\"\n",
      "aws s3 cp \"s3://mousebrainatlas-data/CSHL_data_processed/MD585/MD585_prep2_lossless_gray/MD585-IHC58-2015.07.16-18.38.08_MD585_2_0173_prep2_lossless_gray.tif\" \"/shared/CSHL_data_processed/MD585/MD585_prep2_lossless_gray/MD585-IHC58-2015.07.16-18.38.08_MD585_2_0173_prep2_lossless_gray.tif\"\n",
      "rm -rf \"/shared/CSHL_data_processed/MD585/MD585_prep2_thumbnail_mask/MD585-IHC58-2015.07.16-18.38.08_MD585_2_0173_prep2_thumbnail_mask.png\" && mkdir -p \"/shared/CSHL_data_processed/MD585/MD585_prep2_thumbnail_mask\"\n",
      "aws s3 cp \"s3://mousebrainatlas-data/CSHL_data_processed/MD585/MD585_prep2_thumbnail_mask/MD585-IHC58-2015.07.16-18.38.08_MD585_2_0173_prep2_thumbnail_mask.png\" \"/shared/CSHL_data_processed/MD585/MD585_prep2_thumbnail_mask/MD585-IHC58-2015.07.16-18.38.08_MD585_2_0173_prep2_thumbnail_mask.png\"\n",
      "aws s3 cp \"/shared/CSHL_SPM/sift_keypoints/MD585/MD585-IHC58-2015.07.16-18.38.08_MD585_2_0173_sift_keypoints.bp\" \"s3://mousebrainatlas-data/CSHL_SPM/sift_keypoints/MD585/MD585-IHC58-2015.07.16-18.38.08_MD585_2_0173_sift_keypoints.bp\"\n",
      "aws s3 cp \"/shared/CSHL_SPM/sift_descriptors/MD585/MD585-IHC58-2015.07.16-18.38.08_MD585_2_0173_sift_descriptors.bp\" \"s3://mousebrainatlas-data/CSHL_SPM/sift_descriptors/MD585/MD585-IHC58-2015.07.16-18.38.08_MD585_2_0173_sift_descriptors.bp\"\n"
     ]
    },
    {
     "name": "stdout",
     "output_type": "stream",
     "text": [
      "rm -rf \"/shared/CSHL_data_processed/MD585/MD585_prep2_lossless_gray/MD585-N58-2015.07.16-23.40.18_MD585_3_0174_prep2_lossless_gray.tif\" && mkdir -p \"/shared/CSHL_data_processed/MD585/MD585_prep2_lossless_gray\"\n",
      "aws s3 cp \"s3://mousebrainatlas-data/CSHL_data_processed/MD585/MD585_prep2_lossless_gray/MD585-N58-2015.07.16-23.40.18_MD585_3_0174_prep2_lossless_gray.tif\" \"/shared/CSHL_data_processed/MD585/MD585_prep2_lossless_gray/MD585-N58-2015.07.16-23.40.18_MD585_3_0174_prep2_lossless_gray.tif\"\n",
      "rm -rf \"/shared/CSHL_data_processed/MD585/MD585_prep2_thumbnail_mask/MD585-N58-2015.07.16-23.40.18_MD585_3_0174_prep2_thumbnail_mask.png\" && mkdir -p \"/shared/CSHL_data_processed/MD585/MD585_prep2_thumbnail_mask\"\n",
      "aws s3 cp \"s3://mousebrainatlas-data/CSHL_data_processed/MD585/MD585_prep2_thumbnail_mask/MD585-N58-2015.07.16-23.40.18_MD585_3_0174_prep2_thumbnail_mask.png\" \"/shared/CSHL_data_processed/MD585/MD585_prep2_thumbnail_mask/MD585-N58-2015.07.16-23.40.18_MD585_3_0174_prep2_thumbnail_mask.png\"\n",
      "aws s3 cp \"/shared/CSHL_SPM/sift_keypoints/MD585/MD585-N58-2015.07.16-23.40.18_MD585_3_0174_sift_keypoints.bp\" \"s3://mousebrainatlas-data/CSHL_SPM/sift_keypoints/MD585/MD585-N58-2015.07.16-23.40.18_MD585_3_0174_sift_keypoints.bp\"\n",
      "aws s3 cp \"/shared/CSHL_SPM/sift_descriptors/MD585/MD585-N58-2015.07.16-23.40.18_MD585_3_0174_sift_descriptors.bp\" \"s3://mousebrainatlas-data/CSHL_SPM/sift_descriptors/MD585/MD585-N58-2015.07.16-23.40.18_MD585_3_0174_sift_descriptors.bp\"\n",
      "rm -rf \"/shared/CSHL_data_processed/MD585/MD585_prep2_lossless_gray/MD585-IHC58-2015.07.16-18.38.08_MD585_3_0174_prep2_lossless_gray.tif\" && mkdir -p \"/shared/CSHL_data_processed/MD585/MD585_prep2_lossless_gray\"\n",
      "aws s3 cp \"s3://mousebrainatlas-data/CSHL_data_processed/MD585/MD585_prep2_lossless_gray/MD585-IHC58-2015.07.16-18.38.08_MD585_3_0174_prep2_lossless_gray.tif\" \"/shared/CSHL_data_processed/MD585/MD585_prep2_lossless_gray/MD585-IHC58-2015.07.16-18.38.08_MD585_3_0174_prep2_lossless_gray.tif\"\n",
      "rm -rf \"/shared/CSHL_data_processed/MD585/MD585_prep2_thumbnail_mask/MD585-IHC58-2015.07.16-18.38.08_MD585_3_0174_prep2_thumbnail_mask.png\" && mkdir -p \"/shared/CSHL_data_processed/MD585/MD585_prep2_thumbnail_mask\"\n",
      "aws s3 cp \"s3://mousebrainatlas-data/CSHL_data_processed/MD585/MD585_prep2_thumbnail_mask/MD585-IHC58-2015.07.16-18.38.08_MD585_3_0174_prep2_thumbnail_mask.png\" \"/shared/CSHL_data_processed/MD585/MD585_prep2_thumbnail_mask/MD585-IHC58-2015.07.16-18.38.08_MD585_3_0174_prep2_thumbnail_mask.png\"\n",
      "aws s3 cp \"/shared/CSHL_SPM/sift_keypoints/MD585/MD585-IHC58-2015.07.16-18.38.08_MD585_3_0174_sift_keypoints.bp\" \"s3://mousebrainatlas-data/CSHL_SPM/sift_keypoints/MD585/MD585-IHC58-2015.07.16-18.38.08_MD585_3_0174_sift_keypoints.bp\"\n",
      "aws s3 cp \"/shared/CSHL_SPM/sift_descriptors/MD585/MD585-IHC58-2015.07.16-18.38.08_MD585_3_0174_sift_descriptors.bp\" \"s3://mousebrainatlas-data/CSHL_SPM/sift_descriptors/MD585/MD585-IHC58-2015.07.16-18.38.08_MD585_3_0174_sift_descriptors.bp\"\n",
      "rm -rf \"/shared/CSHL_data_processed/MD585/MD585_prep2_lossless_gray/MD585-N59-2015.07.16-23.44.31_MD585_3_0177_prep2_lossless_gray.tif\" && mkdir -p \"/shared/CSHL_data_processed/MD585/MD585_prep2_lossless_gray\"\n",
      "aws s3 cp \"s3://mousebrainatlas-data/CSHL_data_processed/MD585/MD585_prep2_lossless_gray/MD585-N59-2015.07.16-23.44.31_MD585_3_0177_prep2_lossless_gray.tif\" \"/shared/CSHL_data_processed/MD585/MD585_prep2_lossless_gray/MD585-N59-2015.07.16-23.44.31_MD585_3_0177_prep2_lossless_gray.tif\"\n",
      "rm -rf \"/shared/CSHL_data_processed/MD585/MD585_prep2_thumbnail_mask/MD585-N59-2015.07.16-23.44.31_MD585_3_0177_prep2_thumbnail_mask.png\" && mkdir -p \"/shared/CSHL_data_processed/MD585/MD585_prep2_thumbnail_mask\"\n",
      "aws s3 cp \"s3://mousebrainatlas-data/CSHL_data_processed/MD585/MD585_prep2_thumbnail_mask/MD585-N59-2015.07.16-23.44.31_MD585_3_0177_prep2_thumbnail_mask.png\" \"/shared/CSHL_data_processed/MD585/MD585_prep2_thumbnail_mask/MD585-N59-2015.07.16-23.44.31_MD585_3_0177_prep2_thumbnail_mask.png\"\n",
      "aws s3 cp \"/shared/CSHL_SPM/sift_keypoints/MD585/MD585-N59-2015.07.16-23.44.31_MD585_3_0177_sift_keypoints.bp\" \"s3://mousebrainatlas-data/CSHL_SPM/sift_keypoints/MD585/MD585-N59-2015.07.16-23.44.31_MD585_3_0177_sift_keypoints.bp\"\n",
      "aws s3 cp \"/shared/CSHL_SPM/sift_descriptors/MD585/MD585-N59-2015.07.16-23.44.31_MD585_3_0177_sift_descriptors.bp\" \"s3://mousebrainatlas-data/CSHL_SPM/sift_descriptors/MD585/MD585-N59-2015.07.16-23.44.31_MD585_3_0177_sift_descriptors.bp\"\n",
      "rm -rf \"/shared/CSHL_data_processed/MD585/MD585_prep2_lossless_gray/MD585-IHC59-2015.07.16-18.42.14_MD585_1_0175_prep2_lossless_gray.tif\" && mkdir -p \"/shared/CSHL_data_processed/MD585/MD585_prep2_lossless_gray\"\n",
      "aws s3 cp \"s3://mousebrainatlas-data/CSHL_data_processed/MD585/MD585_prep2_lossless_gray/MD585-IHC59-2015.07.16-18.42.14_MD585_1_0175_prep2_lossless_gray.tif\" \"/shared/CSHL_data_processed/MD585/MD585_prep2_lossless_gray/MD585-IHC59-2015.07.16-18.42.14_MD585_1_0175_prep2_lossless_gray.tif\"\n",
      "rm -rf \"/shared/CSHL_data_processed/MD585/MD585_prep2_thumbnail_mask/MD585-IHC59-2015.07.16-18.42.14_MD585_1_0175_prep2_thumbnail_mask.png\" && mkdir -p \"/shared/CSHL_data_processed/MD585/MD585_prep2_thumbnail_mask\"\n",
      "aws s3 cp \"s3://mousebrainatlas-data/CSHL_data_processed/MD585/MD585_prep2_thumbnail_mask/MD585-IHC59-2015.07.16-18.42.14_MD585_1_0175_prep2_thumbnail_mask.png\" \"/shared/CSHL_data_processed/MD585/MD585_prep2_thumbnail_mask/MD585-IHC59-2015.07.16-18.42.14_MD585_1_0175_prep2_thumbnail_mask.png\"\n",
      "aws s3 cp \"/shared/CSHL_SPM/sift_keypoints/MD585/MD585-IHC59-2015.07.16-18.42.14_MD585_1_0175_sift_keypoints.bp\" \"s3://mousebrainatlas-data/CSHL_SPM/sift_keypoints/MD585/MD585-IHC59-2015.07.16-18.42.14_MD585_1_0175_sift_keypoints.bp\"\n",
      "aws s3 cp \"/shared/CSHL_SPM/sift_descriptors/MD585/MD585-IHC59-2015.07.16-18.42.14_MD585_1_0175_sift_descriptors.bp\" \"s3://mousebrainatlas-data/CSHL_SPM/sift_descriptors/MD585/MD585-IHC59-2015.07.16-18.42.14_MD585_1_0175_sift_descriptors.bp\"\n",
      "rm -rf \"/shared/CSHL_data_processed/MD585/MD585_prep2_lossless_gray/MD585-N59-2015.07.16-23.44.31_MD585_2_0176_prep2_lossless_gray.tif\" && mkdir -p \"/shared/CSHL_data_processed/MD585/MD585_prep2_lossless_gray\"\n",
      "aws s3 cp \"s3://mousebrainatlas-data/CSHL_data_processed/MD585/MD585_prep2_lossless_gray/MD585-N59-2015.07.16-23.44.31_MD585_2_0176_prep2_lossless_gray.tif\" \"/shared/CSHL_data_processed/MD585/MD585_prep2_lossless_gray/MD585-N59-2015.07.16-23.44.31_MD585_2_0176_prep2_lossless_gray.tif\"\n",
      "rm -rf \"/shared/CSHL_data_processed/MD585/MD585_prep2_thumbnail_mask/MD585-N59-2015.07.16-23.44.31_MD585_2_0176_prep2_thumbnail_mask.png\" && mkdir -p \"/shared/CSHL_data_processed/MD585/MD585_prep2_thumbnail_mask\"\n",
      "aws s3 cp \"s3://mousebrainatlas-data/CSHL_data_processed/MD585/MD585_prep2_thumbnail_mask/MD585-N59-2015.07.16-23.44.31_MD585_2_0176_prep2_thumbnail_mask.png\" \"/shared/CSHL_data_processed/MD585/MD585_prep2_thumbnail_mask/MD585-N59-2015.07.16-23.44.31_MD585_2_0176_prep2_thumbnail_mask.png\"\n",
      "aws s3 cp \"/shared/CSHL_SPM/sift_keypoints/MD585/MD585-N59-2015.07.16-23.44.31_MD585_2_0176_sift_keypoints.bp\" \"s3://mousebrainatlas-data/CSHL_SPM/sift_keypoints/MD585/MD585-N59-2015.07.16-23.44.31_MD585_2_0176_sift_keypoints.bp\"\n",
      "aws s3 cp \"/shared/CSHL_SPM/sift_descriptors/MD585/MD585-N59-2015.07.16-23.44.31_MD585_2_0176_sift_descriptors.bp\" \"s3://mousebrainatlas-data/CSHL_SPM/sift_descriptors/MD585/MD585-N59-2015.07.16-23.44.31_MD585_2_0176_sift_descriptors.bp\"\n",
      "rm -rf \"/shared/CSHL_data_processed/MD585/MD585_prep2_lossless_gray/MD585-IHC59-2015.07.16-18.42.14_MD585_2_0176_prep2_lossless_gray.tif\" && mkdir -p \"/shared/CSHL_data_processed/MD585/MD585_prep2_lossless_gray\"\n",
      "aws s3 cp \"s3://mousebrainatlas-data/CSHL_data_processed/MD585/MD585_prep2_lossless_gray/MD585-IHC59-2015.07.16-18.42.14_MD585_2_0176_prep2_lossless_gray.tif\" \"/shared/CSHL_data_processed/MD585/MD585_prep2_lossless_gray/MD585-IHC59-2015.07.16-18.42.14_MD585_2_0176_prep2_lossless_gray.tif\"\n",
      "rm -rf \"/shared/CSHL_data_processed/MD585/MD585_prep2_thumbnail_mask/MD585-IHC59-2015.07.16-18.42.14_MD585_2_0176_prep2_thumbnail_mask.png\" && mkdir -p \"/shared/CSHL_data_processed/MD585/MD585_prep2_thumbnail_mask\"\n",
      "aws s3 cp \"s3://mousebrainatlas-data/CSHL_data_processed/MD585/MD585_prep2_thumbnail_mask/MD585-IHC59-2015.07.16-18.42.14_MD585_2_0176_prep2_thumbnail_mask.png\" \"/shared/CSHL_data_processed/MD585/MD585_prep2_thumbnail_mask/MD585-IHC59-2015.07.16-18.42.14_MD585_2_0176_prep2_thumbnail_mask.png\"\n"
     ]
    },
    {
     "name": "stdout",
     "output_type": "stream",
     "text": [
      "aws s3 cp \"/shared/CSHL_SPM/sift_keypoints/MD585/MD585-IHC59-2015.07.16-18.42.14_MD585_2_0176_sift_keypoints.bp\" \"s3://mousebrainatlas-data/CSHL_SPM/sift_keypoints/MD585/MD585-IHC59-2015.07.16-18.42.14_MD585_2_0176_sift_keypoints.bp\"\n",
      "aws s3 cp \"/shared/CSHL_SPM/sift_descriptors/MD585/MD585-IHC59-2015.07.16-18.42.14_MD585_2_0176_sift_descriptors.bp\" \"s3://mousebrainatlas-data/CSHL_SPM/sift_descriptors/MD585/MD585-IHC59-2015.07.16-18.42.14_MD585_2_0176_sift_descriptors.bp\"\n",
      "rm -rf \"/shared/CSHL_data_processed/MD585/MD585_prep2_lossless_gray/MD585-N59-2015.07.16-23.44.31_MD585_1_0175_prep2_lossless_gray.tif\" && mkdir -p \"/shared/CSHL_data_processed/MD585/MD585_prep2_lossless_gray\"\n",
      "aws s3 cp \"s3://mousebrainatlas-data/CSHL_data_processed/MD585/MD585_prep2_lossless_gray/MD585-N59-2015.07.16-23.44.31_MD585_1_0175_prep2_lossless_gray.tif\" \"/shared/CSHL_data_processed/MD585/MD585_prep2_lossless_gray/MD585-N59-2015.07.16-23.44.31_MD585_1_0175_prep2_lossless_gray.tif\"\n",
      "rm -rf \"/shared/CSHL_data_processed/MD585/MD585_prep2_thumbnail_mask/MD585-N59-2015.07.16-23.44.31_MD585_1_0175_prep2_thumbnail_mask.png\" && mkdir -p \"/shared/CSHL_data_processed/MD585/MD585_prep2_thumbnail_mask\"\n",
      "aws s3 cp \"s3://mousebrainatlas-data/CSHL_data_processed/MD585/MD585_prep2_thumbnail_mask/MD585-N59-2015.07.16-23.44.31_MD585_1_0175_prep2_thumbnail_mask.png\" \"/shared/CSHL_data_processed/MD585/MD585_prep2_thumbnail_mask/MD585-N59-2015.07.16-23.44.31_MD585_1_0175_prep2_thumbnail_mask.png\"\n",
      "aws s3 cp \"/shared/CSHL_SPM/sift_keypoints/MD585/MD585-N59-2015.07.16-23.44.31_MD585_1_0175_sift_keypoints.bp\" \"s3://mousebrainatlas-data/CSHL_SPM/sift_keypoints/MD585/MD585-N59-2015.07.16-23.44.31_MD585_1_0175_sift_keypoints.bp\"\n",
      "aws s3 cp \"/shared/CSHL_SPM/sift_descriptors/MD585/MD585-N59-2015.07.16-23.44.31_MD585_1_0175_sift_descriptors.bp\" \"s3://mousebrainatlas-data/CSHL_SPM/sift_descriptors/MD585/MD585-N59-2015.07.16-23.44.31_MD585_1_0175_sift_descriptors.bp\"\n",
      "rm -rf \"/shared/CSHL_data_processed/MD585/MD585_prep2_lossless_gray/MD585-IHC59-2015.07.16-18.42.14_MD585_3_0177_prep2_lossless_gray.tif\" && mkdir -p \"/shared/CSHL_data_processed/MD585/MD585_prep2_lossless_gray\"\n",
      "aws s3 cp \"s3://mousebrainatlas-data/CSHL_data_processed/MD585/MD585_prep2_lossless_gray/MD585-IHC59-2015.07.16-18.42.14_MD585_3_0177_prep2_lossless_gray.tif\" \"/shared/CSHL_data_processed/MD585/MD585_prep2_lossless_gray/MD585-IHC59-2015.07.16-18.42.14_MD585_3_0177_prep2_lossless_gray.tif\"\n",
      "rm -rf \"/shared/CSHL_data_processed/MD585/MD585_prep2_thumbnail_mask/MD585-IHC59-2015.07.16-18.42.14_MD585_3_0177_prep2_thumbnail_mask.png\" && mkdir -p \"/shared/CSHL_data_processed/MD585/MD585_prep2_thumbnail_mask\"\n",
      "aws s3 cp \"s3://mousebrainatlas-data/CSHL_data_processed/MD585/MD585_prep2_thumbnail_mask/MD585-IHC59-2015.07.16-18.42.14_MD585_3_0177_prep2_thumbnail_mask.png\" \"/shared/CSHL_data_processed/MD585/MD585_prep2_thumbnail_mask/MD585-IHC59-2015.07.16-18.42.14_MD585_3_0177_prep2_thumbnail_mask.png\"\n",
      "aws s3 cp \"/shared/CSHL_SPM/sift_keypoints/MD585/MD585-IHC59-2015.07.16-18.42.14_MD585_3_0177_sift_keypoints.bp\" \"s3://mousebrainatlas-data/CSHL_SPM/sift_keypoints/MD585/MD585-IHC59-2015.07.16-18.42.14_MD585_3_0177_sift_keypoints.bp\"\n",
      "aws s3 cp \"/shared/CSHL_SPM/sift_descriptors/MD585/MD585-IHC59-2015.07.16-18.42.14_MD585_3_0177_sift_descriptors.bp\" \"s3://mousebrainatlas-data/CSHL_SPM/sift_descriptors/MD585/MD585-IHC59-2015.07.16-18.42.14_MD585_3_0177_sift_descriptors.bp\"\n",
      "rm -rf \"/shared/CSHL_data_processed/MD585/MD585_prep2_lossless_gray/MD585-N60-2015.07.16-23.48.44_MD585_1_0178_prep2_lossless_gray.tif\" && mkdir -p \"/shared/CSHL_data_processed/MD585/MD585_prep2_lossless_gray\"\n",
      "aws s3 cp \"s3://mousebrainatlas-data/CSHL_data_processed/MD585/MD585_prep2_lossless_gray/MD585-N60-2015.07.16-23.48.44_MD585_1_0178_prep2_lossless_gray.tif\" \"/shared/CSHL_data_processed/MD585/MD585_prep2_lossless_gray/MD585-N60-2015.07.16-23.48.44_MD585_1_0178_prep2_lossless_gray.tif\"\n",
      "rm -rf \"/shared/CSHL_data_processed/MD585/MD585_prep2_thumbnail_mask/MD585-N60-2015.07.16-23.48.44_MD585_1_0178_prep2_thumbnail_mask.png\" && mkdir -p \"/shared/CSHL_data_processed/MD585/MD585_prep2_thumbnail_mask\"\n",
      "aws s3 cp \"s3://mousebrainatlas-data/CSHL_data_processed/MD585/MD585_prep2_thumbnail_mask/MD585-N60-2015.07.16-23.48.44_MD585_1_0178_prep2_thumbnail_mask.png\" \"/shared/CSHL_data_processed/MD585/MD585_prep2_thumbnail_mask/MD585-N60-2015.07.16-23.48.44_MD585_1_0178_prep2_thumbnail_mask.png\"\n",
      "aws s3 cp \"/shared/CSHL_SPM/sift_keypoints/MD585/MD585-N60-2015.07.16-23.48.44_MD585_1_0178_sift_keypoints.bp\" \"s3://mousebrainatlas-data/CSHL_SPM/sift_keypoints/MD585/MD585-N60-2015.07.16-23.48.44_MD585_1_0178_sift_keypoints.bp\"\n",
      "aws s3 cp \"/shared/CSHL_SPM/sift_descriptors/MD585/MD585-N60-2015.07.16-23.48.44_MD585_1_0178_sift_descriptors.bp\" \"s3://mousebrainatlas-data/CSHL_SPM/sift_descriptors/MD585/MD585-N60-2015.07.16-23.48.44_MD585_1_0178_sift_descriptors.bp\"\n",
      "rm -rf \"/shared/CSHL_data_processed/MD585/MD585_prep2_lossless_gray/MD585-IHC60-2015.08.19-15.25.07_MD585_1_0178_prep2_lossless_gray.tif\" && mkdir -p \"/shared/CSHL_data_processed/MD585/MD585_prep2_lossless_gray\"\n",
      "aws s3 cp \"s3://mousebrainatlas-data/CSHL_data_processed/MD585/MD585_prep2_lossless_gray/MD585-IHC60-2015.08.19-15.25.07_MD585_1_0178_prep2_lossless_gray.tif\" \"/shared/CSHL_data_processed/MD585/MD585_prep2_lossless_gray/MD585-IHC60-2015.08.19-15.25.07_MD585_1_0178_prep2_lossless_gray.tif\"\n",
      "rm -rf \"/shared/CSHL_data_processed/MD585/MD585_prep2_thumbnail_mask/MD585-IHC60-2015.08.19-15.25.07_MD585_1_0178_prep2_thumbnail_mask.png\" && mkdir -p \"/shared/CSHL_data_processed/MD585/MD585_prep2_thumbnail_mask\"\n",
      "aws s3 cp \"s3://mousebrainatlas-data/CSHL_data_processed/MD585/MD585_prep2_thumbnail_mask/MD585-IHC60-2015.08.19-15.25.07_MD585_1_0178_prep2_thumbnail_mask.png\" \"/shared/CSHL_data_processed/MD585/MD585_prep2_thumbnail_mask/MD585-IHC60-2015.08.19-15.25.07_MD585_1_0178_prep2_thumbnail_mask.png\"\n",
      "aws s3 cp \"/shared/CSHL_SPM/sift_keypoints/MD585/MD585-IHC60-2015.08.19-15.25.07_MD585_1_0178_sift_keypoints.bp\" \"s3://mousebrainatlas-data/CSHL_SPM/sift_keypoints/MD585/MD585-IHC60-2015.08.19-15.25.07_MD585_1_0178_sift_keypoints.bp\"\n",
      "aws s3 cp \"/shared/CSHL_SPM/sift_descriptors/MD585/MD585-IHC60-2015.08.19-15.25.07_MD585_1_0178_sift_descriptors.bp\" \"s3://mousebrainatlas-data/CSHL_SPM/sift_descriptors/MD585/MD585-IHC60-2015.08.19-15.25.07_MD585_1_0178_sift_descriptors.bp\"\n",
      "rm -rf \"/shared/CSHL_data_processed/MD585/MD585_prep2_lossless_gray/MD585-N60-2015.07.16-23.48.44_MD585_2_0179_prep2_lossless_gray.tif\" && mkdir -p \"/shared/CSHL_data_processed/MD585/MD585_prep2_lossless_gray\"\n",
      "aws s3 cp \"s3://mousebrainatlas-data/CSHL_data_processed/MD585/MD585_prep2_lossless_gray/MD585-N60-2015.07.16-23.48.44_MD585_2_0179_prep2_lossless_gray.tif\" \"/shared/CSHL_data_processed/MD585/MD585_prep2_lossless_gray/MD585-N60-2015.07.16-23.48.44_MD585_2_0179_prep2_lossless_gray.tif\"\n",
      "rm -rf \"/shared/CSHL_data_processed/MD585/MD585_prep2_thumbnail_mask/MD585-N60-2015.07.16-23.48.44_MD585_2_0179_prep2_thumbnail_mask.png\" && mkdir -p \"/shared/CSHL_data_processed/MD585/MD585_prep2_thumbnail_mask\"\n",
      "aws s3 cp \"s3://mousebrainatlas-data/CSHL_data_processed/MD585/MD585_prep2_thumbnail_mask/MD585-N60-2015.07.16-23.48.44_MD585_2_0179_prep2_thumbnail_mask.png\" \"/shared/CSHL_data_processed/MD585/MD585_prep2_thumbnail_mask/MD585-N60-2015.07.16-23.48.44_MD585_2_0179_prep2_thumbnail_mask.png\"\n",
      "aws s3 cp \"/shared/CSHL_SPM/sift_keypoints/MD585/MD585-N60-2015.07.16-23.48.44_MD585_2_0179_sift_keypoints.bp\" \"s3://mousebrainatlas-data/CSHL_SPM/sift_keypoints/MD585/MD585-N60-2015.07.16-23.48.44_MD585_2_0179_sift_keypoints.bp\"\n",
      "aws s3 cp \"/shared/CSHL_SPM/sift_descriptors/MD585/MD585-N60-2015.07.16-23.48.44_MD585_2_0179_sift_descriptors.bp\" \"s3://mousebrainatlas-data/CSHL_SPM/sift_descriptors/MD585/MD585-N60-2015.07.16-23.48.44_MD585_2_0179_sift_descriptors.bp\"\n",
      "rm -rf \"/shared/CSHL_data_processed/MD585/MD585_prep2_lossless_gray/MD585-IHC60-2015.08.19-15.25.07_MD585_2_0179_prep2_lossless_gray.tif\" && mkdir -p \"/shared/CSHL_data_processed/MD585/MD585_prep2_lossless_gray\"\n",
      "aws s3 cp \"s3://mousebrainatlas-data/CSHL_data_processed/MD585/MD585_prep2_lossless_gray/MD585-IHC60-2015.08.19-15.25.07_MD585_2_0179_prep2_lossless_gray.tif\" \"/shared/CSHL_data_processed/MD585/MD585_prep2_lossless_gray/MD585-IHC60-2015.08.19-15.25.07_MD585_2_0179_prep2_lossless_gray.tif\"\n"
     ]
    },
    {
     "name": "stdout",
     "output_type": "stream",
     "text": [
      "rm -rf \"/shared/CSHL_data_processed/MD585/MD585_prep2_thumbnail_mask/MD585-IHC60-2015.08.19-15.25.07_MD585_2_0179_prep2_thumbnail_mask.png\" && mkdir -p \"/shared/CSHL_data_processed/MD585/MD585_prep2_thumbnail_mask\"\n",
      "aws s3 cp \"s3://mousebrainatlas-data/CSHL_data_processed/MD585/MD585_prep2_thumbnail_mask/MD585-IHC60-2015.08.19-15.25.07_MD585_2_0179_prep2_thumbnail_mask.png\" \"/shared/CSHL_data_processed/MD585/MD585_prep2_thumbnail_mask/MD585-IHC60-2015.08.19-15.25.07_MD585_2_0179_prep2_thumbnail_mask.png\"\n",
      "aws s3 cp \"/shared/CSHL_SPM/sift_keypoints/MD585/MD585-IHC60-2015.08.19-15.25.07_MD585_2_0179_sift_keypoints.bp\" \"s3://mousebrainatlas-data/CSHL_SPM/sift_keypoints/MD585/MD585-IHC60-2015.08.19-15.25.07_MD585_2_0179_sift_keypoints.bp\"\n",
      "aws s3 cp \"/shared/CSHL_SPM/sift_descriptors/MD585/MD585-IHC60-2015.08.19-15.25.07_MD585_2_0179_sift_descriptors.bp\" \"s3://mousebrainatlas-data/CSHL_SPM/sift_descriptors/MD585/MD585-IHC60-2015.08.19-15.25.07_MD585_2_0179_sift_descriptors.bp\"\n",
      "rm -rf \"/shared/CSHL_data_processed/MD585/MD585_prep2_lossless_gray/MD585-N60-2015.07.16-23.48.44_MD585_3_0180_prep2_lossless_gray.tif\" && mkdir -p \"/shared/CSHL_data_processed/MD585/MD585_prep2_lossless_gray\"\n",
      "aws s3 cp \"s3://mousebrainatlas-data/CSHL_data_processed/MD585/MD585_prep2_lossless_gray/MD585-N60-2015.07.16-23.48.44_MD585_3_0180_prep2_lossless_gray.tif\" \"/shared/CSHL_data_processed/MD585/MD585_prep2_lossless_gray/MD585-N60-2015.07.16-23.48.44_MD585_3_0180_prep2_lossless_gray.tif\"\n",
      "rm -rf \"/shared/CSHL_data_processed/MD585/MD585_prep2_thumbnail_mask/MD585-N60-2015.07.16-23.48.44_MD585_3_0180_prep2_thumbnail_mask.png\" && mkdir -p \"/shared/CSHL_data_processed/MD585/MD585_prep2_thumbnail_mask\"\n",
      "aws s3 cp \"s3://mousebrainatlas-data/CSHL_data_processed/MD585/MD585_prep2_thumbnail_mask/MD585-N60-2015.07.16-23.48.44_MD585_3_0180_prep2_thumbnail_mask.png\" \"/shared/CSHL_data_processed/MD585/MD585_prep2_thumbnail_mask/MD585-N60-2015.07.16-23.48.44_MD585_3_0180_prep2_thumbnail_mask.png\"\n",
      "aws s3 cp \"/shared/CSHL_SPM/sift_keypoints/MD585/MD585-N60-2015.07.16-23.48.44_MD585_3_0180_sift_keypoints.bp\" \"s3://mousebrainatlas-data/CSHL_SPM/sift_keypoints/MD585/MD585-N60-2015.07.16-23.48.44_MD585_3_0180_sift_keypoints.bp\"\n",
      "aws s3 cp \"/shared/CSHL_SPM/sift_descriptors/MD585/MD585-N60-2015.07.16-23.48.44_MD585_3_0180_sift_descriptors.bp\" \"s3://mousebrainatlas-data/CSHL_SPM/sift_descriptors/MD585/MD585-N60-2015.07.16-23.48.44_MD585_3_0180_sift_descriptors.bp\"\n",
      "rm -rf \"/shared/CSHL_data_processed/MD585/MD585_prep2_lossless_gray/MD585-IHC60-2015.08.19-15.25.07_MD585_3_0180_prep2_lossless_gray.tif\" && mkdir -p \"/shared/CSHL_data_processed/MD585/MD585_prep2_lossless_gray\"\n",
      "aws s3 cp \"s3://mousebrainatlas-data/CSHL_data_processed/MD585/MD585_prep2_lossless_gray/MD585-IHC60-2015.08.19-15.25.07_MD585_3_0180_prep2_lossless_gray.tif\" \"/shared/CSHL_data_processed/MD585/MD585_prep2_lossless_gray/MD585-IHC60-2015.08.19-15.25.07_MD585_3_0180_prep2_lossless_gray.tif\"\n",
      "rm -rf \"/shared/CSHL_data_processed/MD585/MD585_prep2_thumbnail_mask/MD585-IHC60-2015.08.19-15.25.07_MD585_3_0180_prep2_thumbnail_mask.png\" && mkdir -p \"/shared/CSHL_data_processed/MD585/MD585_prep2_thumbnail_mask\"\n",
      "aws s3 cp \"s3://mousebrainatlas-data/CSHL_data_processed/MD585/MD585_prep2_thumbnail_mask/MD585-IHC60-2015.08.19-15.25.07_MD585_3_0180_prep2_thumbnail_mask.png\" \"/shared/CSHL_data_processed/MD585/MD585_prep2_thumbnail_mask/MD585-IHC60-2015.08.19-15.25.07_MD585_3_0180_prep2_thumbnail_mask.png\"\n",
      "aws s3 cp \"/shared/CSHL_SPM/sift_keypoints/MD585/MD585-IHC60-2015.08.19-15.25.07_MD585_3_0180_sift_keypoints.bp\" \"s3://mousebrainatlas-data/CSHL_SPM/sift_keypoints/MD585/MD585-IHC60-2015.08.19-15.25.07_MD585_3_0180_sift_keypoints.bp\"\n",
      "aws s3 cp \"/shared/CSHL_SPM/sift_descriptors/MD585/MD585-IHC60-2015.08.19-15.25.07_MD585_3_0180_sift_descriptors.bp\" \"s3://mousebrainatlas-data/CSHL_SPM/sift_descriptors/MD585/MD585-IHC60-2015.08.19-15.25.07_MD585_3_0180_sift_descriptors.bp\"\n",
      "rm -rf \"/shared/CSHL_data_processed/MD585/MD585_prep2_lossless_gray/MD585-N61-2015.07.16-23.52.50_MD585_1_0181_prep2_lossless_gray.tif\" && mkdir -p \"/shared/CSHL_data_processed/MD585/MD585_prep2_lossless_gray\"\n",
      "aws s3 cp \"s3://mousebrainatlas-data/CSHL_data_processed/MD585/MD585_prep2_lossless_gray/MD585-N61-2015.07.16-23.52.50_MD585_1_0181_prep2_lossless_gray.tif\" \"/shared/CSHL_data_processed/MD585/MD585_prep2_lossless_gray/MD585-N61-2015.07.16-23.52.50_MD585_1_0181_prep2_lossless_gray.tif\"\n",
      "rm -rf \"/shared/CSHL_data_processed/MD585/MD585_prep2_thumbnail_mask/MD585-N61-2015.07.16-23.52.50_MD585_1_0181_prep2_thumbnail_mask.png\" && mkdir -p \"/shared/CSHL_data_processed/MD585/MD585_prep2_thumbnail_mask\"\n",
      "aws s3 cp \"s3://mousebrainatlas-data/CSHL_data_processed/MD585/MD585_prep2_thumbnail_mask/MD585-N61-2015.07.16-23.52.50_MD585_1_0181_prep2_thumbnail_mask.png\" \"/shared/CSHL_data_processed/MD585/MD585_prep2_thumbnail_mask/MD585-N61-2015.07.16-23.52.50_MD585_1_0181_prep2_thumbnail_mask.png\"\n",
      "aws s3 cp \"/shared/CSHL_SPM/sift_keypoints/MD585/MD585-N61-2015.07.16-23.52.50_MD585_1_0181_sift_keypoints.bp\" \"s3://mousebrainatlas-data/CSHL_SPM/sift_keypoints/MD585/MD585-N61-2015.07.16-23.52.50_MD585_1_0181_sift_keypoints.bp\"\n",
      "aws s3 cp \"/shared/CSHL_SPM/sift_descriptors/MD585/MD585-N61-2015.07.16-23.52.50_MD585_1_0181_sift_descriptors.bp\" \"s3://mousebrainatlas-data/CSHL_SPM/sift_descriptors/MD585/MD585-N61-2015.07.16-23.52.50_MD585_1_0181_sift_descriptors.bp\"\n",
      "rm -rf \"/shared/CSHL_data_processed/MD585/MD585_prep2_lossless_gray/MD585-IHC61-2015.07.16-18.50.40_MD585_3_0183_prep2_lossless_gray.tif\" && mkdir -p \"/shared/CSHL_data_processed/MD585/MD585_prep2_lossless_gray\"\n",
      "aws s3 cp \"s3://mousebrainatlas-data/CSHL_data_processed/MD585/MD585_prep2_lossless_gray/MD585-IHC61-2015.07.16-18.50.40_MD585_3_0183_prep2_lossless_gray.tif\" \"/shared/CSHL_data_processed/MD585/MD585_prep2_lossless_gray/MD585-IHC61-2015.07.16-18.50.40_MD585_3_0183_prep2_lossless_gray.tif\"\n",
      "rm -rf \"/shared/CSHL_data_processed/MD585/MD585_prep2_thumbnail_mask/MD585-IHC61-2015.07.16-18.50.40_MD585_3_0183_prep2_thumbnail_mask.png\" && mkdir -p \"/shared/CSHL_data_processed/MD585/MD585_prep2_thumbnail_mask\"\n",
      "aws s3 cp \"s3://mousebrainatlas-data/CSHL_data_processed/MD585/MD585_prep2_thumbnail_mask/MD585-IHC61-2015.07.16-18.50.40_MD585_3_0183_prep2_thumbnail_mask.png\" \"/shared/CSHL_data_processed/MD585/MD585_prep2_thumbnail_mask/MD585-IHC61-2015.07.16-18.50.40_MD585_3_0183_prep2_thumbnail_mask.png\"\n",
      "aws s3 cp \"/shared/CSHL_SPM/sift_keypoints/MD585/MD585-IHC61-2015.07.16-18.50.40_MD585_3_0183_sift_keypoints.bp\" \"s3://mousebrainatlas-data/CSHL_SPM/sift_keypoints/MD585/MD585-IHC61-2015.07.16-18.50.40_MD585_3_0183_sift_keypoints.bp\"\n",
      "aws s3 cp \"/shared/CSHL_SPM/sift_descriptors/MD585/MD585-IHC61-2015.07.16-18.50.40_MD585_3_0183_sift_descriptors.bp\" \"s3://mousebrainatlas-data/CSHL_SPM/sift_descriptors/MD585/MD585-IHC61-2015.07.16-18.50.40_MD585_3_0183_sift_descriptors.bp\"\n",
      "rm -rf \"/shared/CSHL_data_processed/MD585/MD585_prep2_lossless_gray/MD585-N61-2015.07.16-23.52.50_MD585_2_0182_prep2_lossless_gray.tif\" && mkdir -p \"/shared/CSHL_data_processed/MD585/MD585_prep2_lossless_gray\"\n",
      "aws s3 cp \"s3://mousebrainatlas-data/CSHL_data_processed/MD585/MD585_prep2_lossless_gray/MD585-N61-2015.07.16-23.52.50_MD585_2_0182_prep2_lossless_gray.tif\" \"/shared/CSHL_data_processed/MD585/MD585_prep2_lossless_gray/MD585-N61-2015.07.16-23.52.50_MD585_2_0182_prep2_lossless_gray.tif\"\n",
      "rm -rf \"/shared/CSHL_data_processed/MD585/MD585_prep2_thumbnail_mask/MD585-N61-2015.07.16-23.52.50_MD585_2_0182_prep2_thumbnail_mask.png\" && mkdir -p \"/shared/CSHL_data_processed/MD585/MD585_prep2_thumbnail_mask\"\n",
      "aws s3 cp \"s3://mousebrainatlas-data/CSHL_data_processed/MD585/MD585_prep2_thumbnail_mask/MD585-N61-2015.07.16-23.52.50_MD585_2_0182_prep2_thumbnail_mask.png\" \"/shared/CSHL_data_processed/MD585/MD585_prep2_thumbnail_mask/MD585-N61-2015.07.16-23.52.50_MD585_2_0182_prep2_thumbnail_mask.png\"\n",
      "aws s3 cp \"/shared/CSHL_SPM/sift_keypoints/MD585/MD585-N61-2015.07.16-23.52.50_MD585_2_0182_sift_keypoints.bp\" \"s3://mousebrainatlas-data/CSHL_SPM/sift_keypoints/MD585/MD585-N61-2015.07.16-23.52.50_MD585_2_0182_sift_keypoints.bp\"\n",
      "aws s3 cp \"/shared/CSHL_SPM/sift_descriptors/MD585/MD585-N61-2015.07.16-23.52.50_MD585_2_0182_sift_descriptors.bp\" \"s3://mousebrainatlas-data/CSHL_SPM/sift_descriptors/MD585/MD585-N61-2015.07.16-23.52.50_MD585_2_0182_sift_descriptors.bp\"\n"
     ]
    },
    {
     "name": "stdout",
     "output_type": "stream",
     "text": [
      "rm -rf \"/shared/CSHL_data_processed/MD585/MD585_prep2_lossless_gray/MD585-IHC61-2015.07.16-18.50.40_MD585_2_0182_prep2_lossless_gray.tif\" && mkdir -p \"/shared/CSHL_data_processed/MD585/MD585_prep2_lossless_gray\"\n",
      "aws s3 cp \"s3://mousebrainatlas-data/CSHL_data_processed/MD585/MD585_prep2_lossless_gray/MD585-IHC61-2015.07.16-18.50.40_MD585_2_0182_prep2_lossless_gray.tif\" \"/shared/CSHL_data_processed/MD585/MD585_prep2_lossless_gray/MD585-IHC61-2015.07.16-18.50.40_MD585_2_0182_prep2_lossless_gray.tif\"\n",
      "rm -rf \"/shared/CSHL_data_processed/MD585/MD585_prep2_thumbnail_mask/MD585-IHC61-2015.07.16-18.50.40_MD585_2_0182_prep2_thumbnail_mask.png\" && mkdir -p \"/shared/CSHL_data_processed/MD585/MD585_prep2_thumbnail_mask\"\n",
      "aws s3 cp \"s3://mousebrainatlas-data/CSHL_data_processed/MD585/MD585_prep2_thumbnail_mask/MD585-IHC61-2015.07.16-18.50.40_MD585_2_0182_prep2_thumbnail_mask.png\" \"/shared/CSHL_data_processed/MD585/MD585_prep2_thumbnail_mask/MD585-IHC61-2015.07.16-18.50.40_MD585_2_0182_prep2_thumbnail_mask.png\"\n",
      "aws s3 cp \"/shared/CSHL_SPM/sift_keypoints/MD585/MD585-IHC61-2015.07.16-18.50.40_MD585_2_0182_sift_keypoints.bp\" \"s3://mousebrainatlas-data/CSHL_SPM/sift_keypoints/MD585/MD585-IHC61-2015.07.16-18.50.40_MD585_2_0182_sift_keypoints.bp\"\n",
      "aws s3 cp \"/shared/CSHL_SPM/sift_descriptors/MD585/MD585-IHC61-2015.07.16-18.50.40_MD585_2_0182_sift_descriptors.bp\" \"s3://mousebrainatlas-data/CSHL_SPM/sift_descriptors/MD585/MD585-IHC61-2015.07.16-18.50.40_MD585_2_0182_sift_descriptors.bp\"\n"
     ]
    }
   ],
   "source": [
    "for stack in ['MD585']:\n",
    "    for sec in metadata_cache['valid_sections'][stack]:\n",
    "                \n",
    "        keypoints, descriptors = compute_sift_keypoints_and_descriptors(stack=stack, section=sec)\n",
    "        \n",
    "        fp = DataManager.get_sift_keypoints_filepath(stack=stack, section=sec)\n",
    "        create_parent_dir_if_not_exists(fp)\n",
    "        bp.pack_ndarray_file(keypoints, fp)\n",
    "        upload_to_s3(fp)\n",
    "        \n",
    "        fp = DataManager.get_sift_descriptors_filepath(stack=stack, section=sec)\n",
    "        create_parent_dir_if_not_exists(fp)\n",
    "        bp.pack_ndarray_file(descriptors, fp)\n",
    "        upload_to_s3(fp)"
   ]
  },
  {
   "cell_type": "code",
   "execution_count": 28,
   "metadata": {},
   "outputs": [],
   "source": [
    "vocab_fp = DataManager.get_sift_descriptor_vocabulary_filepath()\n",
    "download_from_s3(vocab_fp)\n",
    "vocabulary_kmeans = joblib.load(vocab_fp)"
   ]
  },
  {
   "cell_type": "code",
   "execution_count": 8,
   "metadata": {
    "collapsed": true
   },
   "outputs": [],
   "source": [
    "# viz = gray2rgb(img)\n",
    "# for x, y in keypoints:\n",
    "#     cv2.circle(viz, (int(x), int(y)), 5, (255,0,0))"
   ]
  },
  {
   "cell_type": "code",
   "execution_count": 9,
   "metadata": {},
   "outputs": [],
   "source": [
    "# display_image(viz[1000:5000, 1000:5000])"
   ]
  },
  {
   "cell_type": "markdown",
   "metadata": {},
   "source": [
    "# or use author's own binary, 10x slower."
   ]
  },
  {
   "cell_type": "code",
   "execution_count": 42,
   "metadata": {
    "collapsed": true
   },
   "outputs": [],
   "source": [
    "from skimage.io import load_sift"
   ]
  },
  {
   "cell_type": "code",
   "execution_count": null,
   "metadata": {
    "collapsed": true,
    "scrolled": true
   },
   "outputs": [],
   "source": [
    "import uuid\n",
    "\n",
    "for stack in ['MD589']:\n",
    "    for sec in metadata_cache['valid_sections'][stack][:1]:\n",
    "        \n",
    "        image = DataManager.load_image_v2(stack=stack, section=134, prep_id=2, version='gray')\n",
    "        mask = DataManager.load_image_v2(stack=stack, section=134, prep_id=2, version='mask', resol='thumbnail')\n",
    "        xmin_tb, xmax_tb, ymin_tb, ymax_tb = bbox_2d(mask)\n",
    "        xmin = xmin_tb * 32\n",
    "        xmax = (xmax_tb + 1) * 32\n",
    "        ymin = ymin_tb * 32\n",
    "        ymax = (ymax_tb + 1) * 32\n",
    "\n",
    "        img = image[ymin:ymax+1, xmin:xmax+1].copy()\n",
    "        \n",
    "        keypoints_allBlocks = []\n",
    "        descriptors_allBlocks = []\n",
    "        \n",
    "        # the binary cannot deal with large data\n",
    "        for y in range(0, img.shape[0], 3000):\n",
    "            for x in range(0, img.shape[1], 3000):\n",
    "                t = time.time()\n",
    "                \n",
    "                uid = str(uuid.uuid1()).split('-')[0]\n",
    "                in_fp = '/tmp/%s.pgm' % uid\n",
    "                imsave(in_fp, img[y:y+3000, x:x+3000])\n",
    "                out_fp = '/tmp/%s.key' % uid\n",
    "                execute_command('/shared/siftDemoV4/sift <%s >%s' % (in_fp, out_fp))\n",
    "\n",
    "                sift_data = load_sift(out_fp)\n",
    "                descriptors = sift_data['data'].shape\n",
    "                keypoints = np.c_[sift_data['column'], sift_data['row']]\n",
    "                print len(keypoints), 'keypoints'\n",
    "                # sift_data['orientation']\n",
    "                # sift_data['scale']\n",
    "                \n",
    "                keypoints_allBlocks.append(keypoints)\n",
    "                descriptors_allBlocks.append(descriptors)\n",
    "\n",
    "        #         keypoints, descriptors = sift.detectAndCompute(img, None);\n",
    "                sys.stderr.write('sift: %.2f seconds\\n' % (time.time() - t)) \n",
    "            \n",
    "        keypoints = np.concatenate(keypoints_allBlocks)\n",
    "        descriptors = np.concatenate(descriptors_allBlocks)"
   ]
  },
  {
   "cell_type": "code",
   "execution_count": null,
   "metadata": {
    "collapsed": true
   },
   "outputs": [],
   "source": [
    "# "
   ]
  },
  {
   "cell_type": "code",
   "execution_count": 82,
   "metadata": {
    "scrolled": true
   },
   "outputs": [
    {
     "name": "stdout",
     "output_type": "stream",
     "text": [
      "767858 keypoints\n"
     ]
    },
    {
     "name": "stderr",
     "output_type": "stream",
     "text": [
      "compute vocab: 0.01 seconds\n",
      "predict: 1.56 seconds\n"
     ]
    },
    {
     "name": "stdout",
     "output_type": "stream",
     "text": [
      "aws s3 cp \"/shared/CSHL_SPM/sift_labelmap/MD585/MD585-N16-2015.07.16-20.32.33_MD585_2_0047_sift_labelmap.bp\" \"s3://mousebrainatlas-data/CSHL_SPM/sift_labelmap/MD585/MD585-N16-2015.07.16-20.32.33_MD585_2_0047_sift_labelmap.bp\"\n",
      "946057 keypoints\n"
     ]
    },
    {
     "name": "stderr",
     "output_type": "stream",
     "text": [
      "compute vocab: 0.00 seconds\n",
      "predict: 1.77 seconds\n"
     ]
    },
    {
     "name": "stdout",
     "output_type": "stream",
     "text": [
      "aws s3 cp \"/shared/CSHL_SPM/sift_labelmap/MD585/MD585-IHC16-2015.08.19-13.14.51_MD585_3_0048_sift_labelmap.bp\" \"s3://mousebrainatlas-data/CSHL_SPM/sift_labelmap/MD585/MD585-IHC16-2015.08.19-13.14.51_MD585_3_0048_sift_labelmap.bp\"\n",
      "809254 keypoints\n"
     ]
    },
    {
     "name": "stderr",
     "output_type": "stream",
     "text": [
      "compute vocab: 0.00 seconds\n",
      "predict: 1.52 seconds\n"
     ]
    },
    {
     "name": "stdout",
     "output_type": "stream",
     "text": [
      "aws s3 cp \"/shared/CSHL_SPM/sift_labelmap/MD585/MD585-N17-2015.07.16-20.35.23_MD585_1_0049_sift_labelmap.bp\" \"s3://mousebrainatlas-data/CSHL_SPM/sift_labelmap/MD585/MD585-N17-2015.07.16-20.35.23_MD585_1_0049_sift_labelmap.bp\"\n",
      "838102 keypoints\n"
     ]
    },
    {
     "name": "stderr",
     "output_type": "stream",
     "text": [
      "compute vocab: 0.00 seconds\n",
      "predict: 1.58 seconds\n"
     ]
    },
    {
     "name": "stdout",
     "output_type": "stream",
     "text": [
      "aws s3 cp \"/shared/CSHL_SPM/sift_labelmap/MD585/MD585-IHC17-2015.07.16-15.32.03_MD585_1_0049_sift_labelmap.bp\" \"s3://mousebrainatlas-data/CSHL_SPM/sift_labelmap/MD585/MD585-IHC17-2015.07.16-15.32.03_MD585_1_0049_sift_labelmap.bp\"\n",
      "833461 keypoints\n"
     ]
    },
    {
     "name": "stderr",
     "output_type": "stream",
     "text": [
      "compute vocab: 0.00 seconds\n",
      "predict: 1.57 seconds\n"
     ]
    },
    {
     "name": "stdout",
     "output_type": "stream",
     "text": [
      "aws s3 cp \"/shared/CSHL_SPM/sift_labelmap/MD585/MD585-N17-2015.07.16-20.35.23_MD585_2_0050_sift_labelmap.bp\" \"s3://mousebrainatlas-data/CSHL_SPM/sift_labelmap/MD585/MD585-N17-2015.07.16-20.35.23_MD585_2_0050_sift_labelmap.bp\"\n",
      "849821 keypoints\n"
     ]
    },
    {
     "name": "stderr",
     "output_type": "stream",
     "text": [
      "compute vocab: 0.00 seconds\n",
      "predict: 1.61 seconds\n"
     ]
    },
    {
     "name": "stdout",
     "output_type": "stream",
     "text": [
      "aws s3 cp \"/shared/CSHL_SPM/sift_labelmap/MD585/MD585-IHC17-2015.07.16-15.32.03_MD585_2_0050_sift_labelmap.bp\" \"s3://mousebrainatlas-data/CSHL_SPM/sift_labelmap/MD585/MD585-IHC17-2015.07.16-15.32.03_MD585_2_0050_sift_labelmap.bp\"\n",
      "832302 keypoints\n"
     ]
    },
    {
     "name": "stderr",
     "output_type": "stream",
     "text": [
      "compute vocab: 0.00 seconds\n",
      "predict: 1.59 seconds\n"
     ]
    },
    {
     "name": "stdout",
     "output_type": "stream",
     "text": [
      "aws s3 cp \"/shared/CSHL_SPM/sift_labelmap/MD585/MD585-N17-2015.07.16-20.35.23_MD585_3_0051_sift_labelmap.bp\" \"s3://mousebrainatlas-data/CSHL_SPM/sift_labelmap/MD585/MD585-N17-2015.07.16-20.35.23_MD585_3_0051_sift_labelmap.bp\"\n",
      "847827 keypoints\n"
     ]
    },
    {
     "name": "stderr",
     "output_type": "stream",
     "text": [
      "compute vocab: 0.00 seconds\n",
      "predict: 1.60 seconds\n"
     ]
    },
    {
     "name": "stdout",
     "output_type": "stream",
     "text": [
      "aws s3 cp \"/shared/CSHL_SPM/sift_labelmap/MD585/MD585-IHC17-2015.07.16-15.32.03_MD585_3_0051_sift_labelmap.bp\" \"s3://mousebrainatlas-data/CSHL_SPM/sift_labelmap/MD585/MD585-IHC17-2015.07.16-15.32.03_MD585_3_0051_sift_labelmap.bp\"\n",
      "852356 keypoints\n"
     ]
    },
    {
     "name": "stderr",
     "output_type": "stream",
     "text": [
      "compute vocab: 0.00 seconds\n",
      "predict: 1.61 seconds\n"
     ]
    },
    {
     "name": "stdout",
     "output_type": "stream",
     "text": [
      "aws s3 cp \"/shared/CSHL_SPM/sift_labelmap/MD585/MD585-N18-2015.07.16-20.39.16_MD585_1_0052_sift_labelmap.bp\" \"s3://mousebrainatlas-data/CSHL_SPM/sift_labelmap/MD585/MD585-N18-2015.07.16-20.39.16_MD585_1_0052_sift_labelmap.bp\"\n",
      "870366 keypoints\n"
     ]
    },
    {
     "name": "stderr",
     "output_type": "stream",
     "text": [
      "compute vocab: 0.00 seconds\n",
      "predict: 1.62 seconds\n"
     ]
    },
    {
     "name": "stdout",
     "output_type": "stream",
     "text": [
      "aws s3 cp \"/shared/CSHL_SPM/sift_labelmap/MD585/MD585-IHC18-2015.07.16-15.35.58_MD585_1_0052_sift_labelmap.bp\" \"s3://mousebrainatlas-data/CSHL_SPM/sift_labelmap/MD585/MD585-IHC18-2015.07.16-15.35.58_MD585_1_0052_sift_labelmap.bp\"\n",
      "915901 keypoints\n"
     ]
    },
    {
     "name": "stderr",
     "output_type": "stream",
     "text": [
      "compute vocab: 0.00 seconds\n",
      "predict: 1.84 seconds\n"
     ]
    },
    {
     "name": "stdout",
     "output_type": "stream",
     "text": [
      "aws s3 cp \"/shared/CSHL_SPM/sift_labelmap/MD585/MD585-N18-2015.07.16-20.39.16_MD585_2_0053_sift_labelmap.bp\" \"s3://mousebrainatlas-data/CSHL_SPM/sift_labelmap/MD585/MD585-N18-2015.07.16-20.39.16_MD585_2_0053_sift_labelmap.bp\"\n",
      "887317 keypoints\n"
     ]
    },
    {
     "name": "stderr",
     "output_type": "stream",
     "text": [
      "compute vocab: 0.00 seconds\n",
      "predict: 1.67 seconds\n"
     ]
    },
    {
     "name": "stdout",
     "output_type": "stream",
     "text": [
      "aws s3 cp \"/shared/CSHL_SPM/sift_labelmap/MD585/MD585-IHC18-2015.07.16-15.35.58_MD585_2_0053_sift_labelmap.bp\" \"s3://mousebrainatlas-data/CSHL_SPM/sift_labelmap/MD585/MD585-IHC18-2015.07.16-15.35.58_MD585_2_0053_sift_labelmap.bp\"\n",
      "875159 keypoints\n"
     ]
    },
    {
     "name": "stderr",
     "output_type": "stream",
     "text": [
      "compute vocab: 0.00 seconds\n",
      "predict: 1.64 seconds\n"
     ]
    },
    {
     "name": "stdout",
     "output_type": "stream",
     "text": [
      "aws s3 cp \"/shared/CSHL_SPM/sift_labelmap/MD585/MD585-N18-2015.07.16-20.39.16_MD585_3_0054_sift_labelmap.bp\" \"s3://mousebrainatlas-data/CSHL_SPM/sift_labelmap/MD585/MD585-N18-2015.07.16-20.39.16_MD585_3_0054_sift_labelmap.bp\"\n",
      "869141 keypoints\n"
     ]
    },
    {
     "name": "stderr",
     "output_type": "stream",
     "text": [
      "compute vocab: 0.00 seconds\n",
      "predict: 1.63 seconds\n"
     ]
    },
    {
     "name": "stdout",
     "output_type": "stream",
     "text": [
      "aws s3 cp \"/shared/CSHL_SPM/sift_labelmap/MD585/MD585-IHC18-2015.07.16-15.35.58_MD585_3_0054_sift_labelmap.bp\" \"s3://mousebrainatlas-data/CSHL_SPM/sift_labelmap/MD585/MD585-IHC18-2015.07.16-15.35.58_MD585_3_0054_sift_labelmap.bp\"\n",
      "839590 keypoints\n"
     ]
    },
    {
     "name": "stderr",
     "output_type": "stream",
     "text": [
      "compute vocab: 0.00 seconds\n",
      "predict: 1.56 seconds\n"
     ]
    },
    {
     "name": "stdout",
     "output_type": "stream",
     "text": [
      "aws s3 cp \"/shared/CSHL_SPM/sift_labelmap/MD585/MD585-N19-2015.07.16-20.43.18_MD585_1_0055_sift_labelmap.bp\" \"s3://mousebrainatlas-data/CSHL_SPM/sift_labelmap/MD585/MD585-N19-2015.07.16-20.43.18_MD585_1_0055_sift_labelmap.bp\"\n",
      "875621 keypoints\n"
     ]
    },
    {
     "name": "stderr",
     "output_type": "stream",
     "text": [
      "compute vocab: 0.00 seconds\n",
      "predict: 1.66 seconds\n"
     ]
    },
    {
     "name": "stdout",
     "output_type": "stream",
     "text": [
      "aws s3 cp \"/shared/CSHL_SPM/sift_labelmap/MD585/MD585-IHC19-2015.07.16-15.39.52_MD585_1_0055_sift_labelmap.bp\" \"s3://mousebrainatlas-data/CSHL_SPM/sift_labelmap/MD585/MD585-IHC19-2015.07.16-15.39.52_MD585_1_0055_sift_labelmap.bp\"\n",
      "900226 keypoints\n"
     ]
    },
    {
     "name": "stderr",
     "output_type": "stream",
     "text": [
      "compute vocab: 0.00 seconds\n",
      "predict: 1.68 seconds\n"
     ]
    },
    {
     "name": "stdout",
     "output_type": "stream",
     "text": [
      "aws s3 cp \"/shared/CSHL_SPM/sift_labelmap/MD585/MD585-N19-2015.07.16-20.43.18_MD585_2_0056_sift_labelmap.bp\" \"s3://mousebrainatlas-data/CSHL_SPM/sift_labelmap/MD585/MD585-N19-2015.07.16-20.43.18_MD585_2_0056_sift_labelmap.bp\"\n",
      "914298 keypoints\n"
     ]
    },
    {
     "name": "stderr",
     "output_type": "stream",
     "text": [
      "compute vocab: 0.00 seconds\n",
      "predict: 1.73 seconds\n"
     ]
    },
    {
     "name": "stdout",
     "output_type": "stream",
     "text": [
      "aws s3 cp \"/shared/CSHL_SPM/sift_labelmap/MD585/MD585-IHC19-2015.07.16-15.39.52_MD585_2_0056_sift_labelmap.bp\" \"s3://mousebrainatlas-data/CSHL_SPM/sift_labelmap/MD585/MD585-IHC19-2015.07.16-15.39.52_MD585_2_0056_sift_labelmap.bp\"\n",
      "863529 keypoints\n"
     ]
    },
    {
     "name": "stderr",
     "output_type": "stream",
     "text": [
      "compute vocab: 0.00 seconds\n",
      "predict: 1.63 seconds\n"
     ]
    },
    {
     "name": "stdout",
     "output_type": "stream",
     "text": [
      "aws s3 cp \"/shared/CSHL_SPM/sift_labelmap/MD585/MD585-N19-2015.07.16-20.43.18_MD585_3_0057_sift_labelmap.bp\" \"s3://mousebrainatlas-data/CSHL_SPM/sift_labelmap/MD585/MD585-N19-2015.07.16-20.43.18_MD585_3_0057_sift_labelmap.bp\"\n",
      "874659 keypoints\n"
     ]
    },
    {
     "name": "stderr",
     "output_type": "stream",
     "text": [
      "compute vocab: 0.00 seconds\n",
      "predict: 1.67 seconds\n"
     ]
    },
    {
     "name": "stdout",
     "output_type": "stream",
     "text": [
      "aws s3 cp \"/shared/CSHL_SPM/sift_labelmap/MD585/MD585-IHC19-2015.07.16-15.39.52_MD585_3_0057_sift_labelmap.bp\" \"s3://mousebrainatlas-data/CSHL_SPM/sift_labelmap/MD585/MD585-IHC19-2015.07.16-15.39.52_MD585_3_0057_sift_labelmap.bp\"\n",
      "880818 keypoints\n"
     ]
    },
    {
     "name": "stderr",
     "output_type": "stream",
     "text": [
      "compute vocab: 0.00 seconds\n",
      "predict: 1.65 seconds\n"
     ]
    },
    {
     "name": "stdout",
     "output_type": "stream",
     "text": [
      "aws s3 cp \"/shared/CSHL_SPM/sift_labelmap/MD585/MD585-N20-2015.07.16-20.47.19_MD585_1_0058_sift_labelmap.bp\" \"s3://mousebrainatlas-data/CSHL_SPM/sift_labelmap/MD585/MD585-N20-2015.07.16-20.47.19_MD585_1_0058_sift_labelmap.bp\"\n",
      "894744 keypoints\n"
     ]
    },
    {
     "name": "stderr",
     "output_type": "stream",
     "text": [
      "compute vocab: 0.00 seconds\n",
      "predict: 1.69 seconds\n"
     ]
    },
    {
     "name": "stdout",
     "output_type": "stream",
     "text": [
      "aws s3 cp \"/shared/CSHL_SPM/sift_labelmap/MD585/MD585-IHC20-2015.07.16-15.43.53_MD585_1_0058_sift_labelmap.bp\" \"s3://mousebrainatlas-data/CSHL_SPM/sift_labelmap/MD585/MD585-IHC20-2015.07.16-15.43.53_MD585_1_0058_sift_labelmap.bp\"\n",
      "895420 keypoints\n"
     ]
    },
    {
     "name": "stderr",
     "output_type": "stream",
     "text": [
      "compute vocab: 0.00 seconds\n",
      "predict: 1.90 seconds\n"
     ]
    },
    {
     "name": "stdout",
     "output_type": "stream",
     "text": [
      "aws s3 cp \"/shared/CSHL_SPM/sift_labelmap/MD585/MD585-N20-2015.07.16-20.47.19_MD585_2_0059_sift_labelmap.bp\" \"s3://mousebrainatlas-data/CSHL_SPM/sift_labelmap/MD585/MD585-N20-2015.07.16-20.47.19_MD585_2_0059_sift_labelmap.bp\"\n",
      "892783 keypoints\n"
     ]
    },
    {
     "name": "stderr",
     "output_type": "stream",
     "text": [
      "compute vocab: 0.00 seconds\n",
      "predict: 1.67 seconds\n"
     ]
    },
    {
     "name": "stdout",
     "output_type": "stream",
     "text": [
      "aws s3 cp \"/shared/CSHL_SPM/sift_labelmap/MD585/MD585-IHC20-2015.07.16-15.43.53_MD585_2_0059_sift_labelmap.bp\" \"s3://mousebrainatlas-data/CSHL_SPM/sift_labelmap/MD585/MD585-IHC20-2015.07.16-15.43.53_MD585_2_0059_sift_labelmap.bp\"\n",
      "862931 keypoints\n"
     ]
    },
    {
     "name": "stderr",
     "output_type": "stream",
     "text": [
      "compute vocab: 0.00 seconds\n",
      "predict: 1.63 seconds\n"
     ]
    },
    {
     "name": "stdout",
     "output_type": "stream",
     "text": [
      "aws s3 cp \"/shared/CSHL_SPM/sift_labelmap/MD585/MD585-N20-2015.07.16-20.47.19_MD585_3_0060_sift_labelmap.bp\" \"s3://mousebrainatlas-data/CSHL_SPM/sift_labelmap/MD585/MD585-N20-2015.07.16-20.47.19_MD585_3_0060_sift_labelmap.bp\"\n",
      "844445 keypoints\n"
     ]
    },
    {
     "name": "stderr",
     "output_type": "stream",
     "text": [
      "compute vocab: 0.00 seconds\n",
      "predict: 1.58 seconds\n"
     ]
    },
    {
     "name": "stdout",
     "output_type": "stream",
     "text": [
      "aws s3 cp \"/shared/CSHL_SPM/sift_labelmap/MD585/MD585-IHC20-2015.07.16-15.43.53_MD585_3_0060_sift_labelmap.bp\" \"s3://mousebrainatlas-data/CSHL_SPM/sift_labelmap/MD585/MD585-IHC20-2015.07.16-15.43.53_MD585_3_0060_sift_labelmap.bp\"\n",
      "867637 keypoints\n"
     ]
    },
    {
     "name": "stderr",
     "output_type": "stream",
     "text": [
      "compute vocab: 0.00 seconds\n",
      "predict: 1.63 seconds\n"
     ]
    },
    {
     "name": "stdout",
     "output_type": "stream",
     "text": [
      "aws s3 cp \"/shared/CSHL_SPM/sift_labelmap/MD585/MD585-N21-2015.07.18-07.06.33_MD585_1_0061_sift_labelmap.bp\" \"s3://mousebrainatlas-data/CSHL_SPM/sift_labelmap/MD585/MD585-N21-2015.07.18-07.06.33_MD585_1_0061_sift_labelmap.bp\"\n",
      "892642 keypoints\n"
     ]
    },
    {
     "name": "stderr",
     "output_type": "stream",
     "text": [
      "compute vocab: 0.00 seconds\n",
      "predict: 1.67 seconds\n"
     ]
    },
    {
     "name": "stdout",
     "output_type": "stream",
     "text": [
      "aws s3 cp \"/shared/CSHL_SPM/sift_labelmap/MD585/MD585-IHC21-2015.07.16-15.47.52_MD585_1_0061_sift_labelmap.bp\" \"s3://mousebrainatlas-data/CSHL_SPM/sift_labelmap/MD585/MD585-IHC21-2015.07.16-15.47.52_MD585_1_0061_sift_labelmap.bp\"\n",
      "886436 keypoints\n"
     ]
    },
    {
     "name": "stderr",
     "output_type": "stream",
     "text": [
      "compute vocab: 0.00 seconds\n",
      "predict: 1.65 seconds\n"
     ]
    },
    {
     "name": "stdout",
     "output_type": "stream",
     "text": [
      "aws s3 cp \"/shared/CSHL_SPM/sift_labelmap/MD585/MD585-N21-2015.07.18-07.06.33_MD585_2_0062_sift_labelmap.bp\" \"s3://mousebrainatlas-data/CSHL_SPM/sift_labelmap/MD585/MD585-N21-2015.07.18-07.06.33_MD585_2_0062_sift_labelmap.bp\"\n",
      "873931 keypoints\n"
     ]
    },
    {
     "name": "stderr",
     "output_type": "stream",
     "text": [
      "compute vocab: 0.00 seconds\n",
      "predict: 1.64 seconds\n"
     ]
    },
    {
     "name": "stdout",
     "output_type": "stream",
     "text": [
      "aws s3 cp \"/shared/CSHL_SPM/sift_labelmap/MD585/MD585-IHC21-2015.07.16-15.47.52_MD585_2_0062_sift_labelmap.bp\" \"s3://mousebrainatlas-data/CSHL_SPM/sift_labelmap/MD585/MD585-IHC21-2015.07.16-15.47.52_MD585_2_0062_sift_labelmap.bp\"\n",
      "843937 keypoints\n"
     ]
    },
    {
     "name": "stderr",
     "output_type": "stream",
     "text": [
      "compute vocab: 0.00 seconds\n",
      "predict: 1.60 seconds\n"
     ]
    },
    {
     "name": "stdout",
     "output_type": "stream",
     "text": [
      "aws s3 cp \"/shared/CSHL_SPM/sift_labelmap/MD585/MD585-N21-2015.07.18-07.06.33_MD585_3_0063_sift_labelmap.bp\" \"s3://mousebrainatlas-data/CSHL_SPM/sift_labelmap/MD585/MD585-N21-2015.07.18-07.06.33_MD585_3_0063_sift_labelmap.bp\"\n",
      "865541 keypoints\n"
     ]
    },
    {
     "name": "stderr",
     "output_type": "stream",
     "text": [
      "compute vocab: 0.00 seconds\n",
      "predict: 1.61 seconds\n"
     ]
    },
    {
     "name": "stdout",
     "output_type": "stream",
     "text": [
      "aws s3 cp \"/shared/CSHL_SPM/sift_labelmap/MD585/MD585-IHC21-2015.07.16-15.47.52_MD585_3_0063_sift_labelmap.bp\" \"s3://mousebrainatlas-data/CSHL_SPM/sift_labelmap/MD585/MD585-IHC21-2015.07.16-15.47.52_MD585_3_0063_sift_labelmap.bp\"\n",
      "837334 keypoints\n"
     ]
    },
    {
     "name": "stderr",
     "output_type": "stream",
     "text": [
      "compute vocab: 0.00 seconds\n",
      "predict: 1.56 seconds\n"
     ]
    },
    {
     "name": "stdout",
     "output_type": "stream",
     "text": [
      "aws s3 cp \"/shared/CSHL_SPM/sift_labelmap/MD585/MD585-N22-2015.07.18-07.10.40_MD585_1_0064_sift_labelmap.bp\" \"s3://mousebrainatlas-data/CSHL_SPM/sift_labelmap/MD585/MD585-N22-2015.07.18-07.10.40_MD585_1_0064_sift_labelmap.bp\"\n",
      "886304 keypoints\n"
     ]
    },
    {
     "name": "stderr",
     "output_type": "stream",
     "text": [
      "compute vocab: 0.00 seconds\n",
      "predict: 1.69 seconds\n"
     ]
    },
    {
     "name": "stdout",
     "output_type": "stream",
     "text": [
      "aws s3 cp \"/shared/CSHL_SPM/sift_labelmap/MD585/MD585-IHC22-2015.07.16-15.51.54_MD585_1_0064_sift_labelmap.bp\" \"s3://mousebrainatlas-data/CSHL_SPM/sift_labelmap/MD585/MD585-IHC22-2015.07.16-15.51.54_MD585_1_0064_sift_labelmap.bp\"\n",
      "954767 keypoints\n"
     ]
    },
    {
     "name": "stderr",
     "output_type": "stream",
     "text": [
      "compute vocab: 0.00 seconds\n",
      "predict: 1.81 seconds\n"
     ]
    },
    {
     "name": "stdout",
     "output_type": "stream",
     "text": [
      "aws s3 cp \"/shared/CSHL_SPM/sift_labelmap/MD585/MD585-N22-2015.07.18-07.10.40_MD585_2_0065_sift_labelmap.bp\" \"s3://mousebrainatlas-data/CSHL_SPM/sift_labelmap/MD585/MD585-N22-2015.07.18-07.10.40_MD585_2_0065_sift_labelmap.bp\"\n",
      "872041 keypoints\n"
     ]
    },
    {
     "name": "stderr",
     "output_type": "stream",
     "text": [
      "compute vocab: 0.00 seconds\n",
      "predict: 1.66 seconds\n"
     ]
    },
    {
     "name": "stdout",
     "output_type": "stream",
     "text": [
      "aws s3 cp \"/shared/CSHL_SPM/sift_labelmap/MD585/MD585-N22-2015.07.18-07.10.40_MD585_3_0066_sift_labelmap.bp\" \"s3://mousebrainatlas-data/CSHL_SPM/sift_labelmap/MD585/MD585-N22-2015.07.18-07.10.40_MD585_3_0066_sift_labelmap.bp\"\n",
      "877338 keypoints\n"
     ]
    },
    {
     "name": "stderr",
     "output_type": "stream",
     "text": [
      "compute vocab: 0.00 seconds\n",
      "predict: 1.68 seconds\n"
     ]
    },
    {
     "name": "stdout",
     "output_type": "stream",
     "text": [
      "aws s3 cp \"/shared/CSHL_SPM/sift_labelmap/MD585/MD585-IHC22-2015.07.16-15.51.54_MD585_3_0066_sift_labelmap.bp\" \"s3://mousebrainatlas-data/CSHL_SPM/sift_labelmap/MD585/MD585-IHC22-2015.07.16-15.51.54_MD585_3_0066_sift_labelmap.bp\"\n",
      "896981 keypoints\n"
     ]
    },
    {
     "name": "stderr",
     "output_type": "stream",
     "text": [
      "compute vocab: 0.00 seconds\n",
      "predict: 1.69 seconds\n"
     ]
    },
    {
     "name": "stdout",
     "output_type": "stream",
     "text": [
      "aws s3 cp \"/shared/CSHL_SPM/sift_labelmap/MD585/MD585-N23-2015.07.16-20.51.24_MD585_1_0067_sift_labelmap.bp\" \"s3://mousebrainatlas-data/CSHL_SPM/sift_labelmap/MD585/MD585-N23-2015.07.16-20.51.24_MD585_1_0067_sift_labelmap.bp\"\n",
      "1230876 keypoints\n"
     ]
    },
    {
     "name": "stderr",
     "output_type": "stream",
     "text": [
      "compute vocab: 0.00 seconds\n",
      "predict: 2.33 seconds\n"
     ]
    },
    {
     "name": "stdout",
     "output_type": "stream",
     "text": [
      "aws s3 cp \"/shared/CSHL_SPM/sift_labelmap/MD585/MD585-IHC23-2015.08.19-13.18.49_MD585_1_0067_sift_labelmap.bp\" \"s3://mousebrainatlas-data/CSHL_SPM/sift_labelmap/MD585/MD585-IHC23-2015.08.19-13.18.49_MD585_1_0067_sift_labelmap.bp\"\n",
      "913373 keypoints\n"
     ]
    },
    {
     "name": "stderr",
     "output_type": "stream",
     "text": [
      "compute vocab: 0.00 seconds\n",
      "predict: 1.72 seconds\n"
     ]
    },
    {
     "name": "stdout",
     "output_type": "stream",
     "text": [
      "aws s3 cp \"/shared/CSHL_SPM/sift_labelmap/MD585/MD585-N23-2015.07.16-20.51.24_MD585_2_0068_sift_labelmap.bp\" \"s3://mousebrainatlas-data/CSHL_SPM/sift_labelmap/MD585/MD585-N23-2015.07.16-20.51.24_MD585_2_0068_sift_labelmap.bp\"\n",
      "1246012 keypoints\n"
     ]
    },
    {
     "name": "stderr",
     "output_type": "stream",
     "text": [
      "compute vocab: 0.00 seconds\n",
      "predict: 2.35 seconds\n"
     ]
    },
    {
     "name": "stdout",
     "output_type": "stream",
     "text": [
      "aws s3 cp \"/shared/CSHL_SPM/sift_labelmap/MD585/MD585-IHC23-2015.08.19-13.18.49_MD585_2_0068_sift_labelmap.bp\" \"s3://mousebrainatlas-data/CSHL_SPM/sift_labelmap/MD585/MD585-IHC23-2015.08.19-13.18.49_MD585_2_0068_sift_labelmap.bp\"\n",
      "902518 keypoints\n"
     ]
    },
    {
     "name": "stderr",
     "output_type": "stream",
     "text": [
      "compute vocab: 0.00 seconds\n",
      "predict: 1.70 seconds\n"
     ]
    },
    {
     "name": "stdout",
     "output_type": "stream",
     "text": [
      "aws s3 cp \"/shared/CSHL_SPM/sift_labelmap/MD585/MD585-N23-2015.07.16-20.51.24_MD585_3_0069_sift_labelmap.bp\" \"s3://mousebrainatlas-data/CSHL_SPM/sift_labelmap/MD585/MD585-N23-2015.07.16-20.51.24_MD585_3_0069_sift_labelmap.bp\"\n",
      "1136533 keypoints\n"
     ]
    },
    {
     "name": "stderr",
     "output_type": "stream",
     "text": [
      "compute vocab: 0.00 seconds\n",
      "predict: 2.11 seconds\n"
     ]
    },
    {
     "name": "stdout",
     "output_type": "stream",
     "text": [
      "aws s3 cp \"/shared/CSHL_SPM/sift_labelmap/MD585/MD585-IHC23-2015.08.19-13.18.49_MD585_3_0069_sift_labelmap.bp\" \"s3://mousebrainatlas-data/CSHL_SPM/sift_labelmap/MD585/MD585-IHC23-2015.08.19-13.18.49_MD585_3_0069_sift_labelmap.bp\"\n",
      "1075364 keypoints\n"
     ]
    },
    {
     "name": "stderr",
     "output_type": "stream",
     "text": [
      "compute vocab: 0.00 seconds\n",
      "predict: 2.03 seconds\n"
     ]
    },
    {
     "name": "stdout",
     "output_type": "stream",
     "text": [
      "aws s3 cp \"/shared/CSHL_SPM/sift_labelmap/MD585/MD585-N24-2015.08.19-15.29.12_MD585_1_0070_sift_labelmap.bp\" \"s3://mousebrainatlas-data/CSHL_SPM/sift_labelmap/MD585/MD585-N24-2015.08.19-15.29.12_MD585_1_0070_sift_labelmap.bp\"\n",
      "800309 keypoints\n"
     ]
    },
    {
     "name": "stderr",
     "output_type": "stream",
     "text": [
      "compute vocab: 0.00 seconds\n",
      "predict: 1.50 seconds\n"
     ]
    },
    {
     "name": "stdout",
     "output_type": "stream",
     "text": [
      "aws s3 cp \"/shared/CSHL_SPM/sift_labelmap/MD585/MD585-IHC24-2015.07.18-07.14.51_MD585_1_0070_sift_labelmap.bp\" \"s3://mousebrainatlas-data/CSHL_SPM/sift_labelmap/MD585/MD585-IHC24-2015.07.18-07.14.51_MD585_1_0070_sift_labelmap.bp\"\n",
      "1034816 keypoints\n"
     ]
    },
    {
     "name": "stderr",
     "output_type": "stream",
     "text": [
      "compute vocab: 0.00 seconds\n",
      "predict: 1.92 seconds\n"
     ]
    },
    {
     "name": "stdout",
     "output_type": "stream",
     "text": [
      "aws s3 cp \"/shared/CSHL_SPM/sift_labelmap/MD585/MD585-N24-2015.08.19-15.29.12_MD585_2_0071_sift_labelmap.bp\" \"s3://mousebrainatlas-data/CSHL_SPM/sift_labelmap/MD585/MD585-N24-2015.08.19-15.29.12_MD585_2_0071_sift_labelmap.bp\"\n",
      "935133 keypoints\n"
     ]
    },
    {
     "name": "stderr",
     "output_type": "stream",
     "text": [
      "compute vocab: 0.00 seconds\n",
      "predict: 1.75 seconds\n"
     ]
    },
    {
     "name": "stdout",
     "output_type": "stream",
     "text": [
      "aws s3 cp \"/shared/CSHL_SPM/sift_labelmap/MD585/MD585-IHC24-2015.07.18-07.14.51_MD585_2_0071_sift_labelmap.bp\" \"s3://mousebrainatlas-data/CSHL_SPM/sift_labelmap/MD585/MD585-IHC24-2015.07.18-07.14.51_MD585_2_0071_sift_labelmap.bp\"\n",
      "1027989 keypoints\n"
     ]
    },
    {
     "name": "stderr",
     "output_type": "stream",
     "text": [
      "compute vocab: 0.00 seconds\n",
      "predict: 2.11 seconds\n"
     ]
    },
    {
     "name": "stdout",
     "output_type": "stream",
     "text": [
      "aws s3 cp \"/shared/CSHL_SPM/sift_labelmap/MD585/MD585-N24-2015.08.19-15.29.12_MD585_3_0072_sift_labelmap.bp\" \"s3://mousebrainatlas-data/CSHL_SPM/sift_labelmap/MD585/MD585-N24-2015.08.19-15.29.12_MD585_3_0072_sift_labelmap.bp\"\n",
      "897914 keypoints\n"
     ]
    },
    {
     "name": "stderr",
     "output_type": "stream",
     "text": [
      "compute vocab: 0.00 seconds\n",
      "predict: 1.70 seconds\n"
     ]
    },
    {
     "name": "stdout",
     "output_type": "stream",
     "text": [
      "aws s3 cp \"/shared/CSHL_SPM/sift_labelmap/MD585/MD585-IHC24-2015.07.18-07.14.51_MD585_3_0072_sift_labelmap.bp\" \"s3://mousebrainatlas-data/CSHL_SPM/sift_labelmap/MD585/MD585-IHC24-2015.07.18-07.14.51_MD585_3_0072_sift_labelmap.bp\"\n",
      "1196550 keypoints\n"
     ]
    },
    {
     "name": "stderr",
     "output_type": "stream",
     "text": [
      "compute vocab: 0.00 seconds\n",
      "predict: 2.25 seconds\n"
     ]
    },
    {
     "name": "stdout",
     "output_type": "stream",
     "text": [
      "aws s3 cp \"/shared/CSHL_SPM/sift_labelmap/MD585/MD585-N25-2015.08.19-15.33.31_MD585_1_0073_sift_labelmap.bp\" \"s3://mousebrainatlas-data/CSHL_SPM/sift_labelmap/MD585/MD585-N25-2015.08.19-15.33.31_MD585_1_0073_sift_labelmap.bp\"\n",
      "954334 keypoints\n"
     ]
    },
    {
     "name": "stderr",
     "output_type": "stream",
     "text": [
      "compute vocab: 0.00 seconds\n",
      "predict: 1.79 seconds\n"
     ]
    },
    {
     "name": "stdout",
     "output_type": "stream",
     "text": [
      "aws s3 cp \"/shared/CSHL_SPM/sift_labelmap/MD585/MD585-IHC25-2015.07.18-07.19.12_MD585_1_0073_sift_labelmap.bp\" \"s3://mousebrainatlas-data/CSHL_SPM/sift_labelmap/MD585/MD585-IHC25-2015.07.18-07.19.12_MD585_1_0073_sift_labelmap.bp\"\n",
      "1082947 keypoints\n"
     ]
    },
    {
     "name": "stderr",
     "output_type": "stream",
     "text": [
      "compute vocab: 0.00 seconds\n",
      "predict: 2.02 seconds\n"
     ]
    },
    {
     "name": "stdout",
     "output_type": "stream",
     "text": [
      "aws s3 cp \"/shared/CSHL_SPM/sift_labelmap/MD585/MD585-N25-2015.08.19-15.33.31_MD585_2_0074_sift_labelmap.bp\" \"s3://mousebrainatlas-data/CSHL_SPM/sift_labelmap/MD585/MD585-N25-2015.08.19-15.33.31_MD585_2_0074_sift_labelmap.bp\"\n",
      "964641 keypoints\n"
     ]
    },
    {
     "name": "stderr",
     "output_type": "stream",
     "text": [
      "compute vocab: 0.00 seconds\n",
      "predict: 1.85 seconds\n"
     ]
    },
    {
     "name": "stdout",
     "output_type": "stream",
     "text": [
      "aws s3 cp \"/shared/CSHL_SPM/sift_labelmap/MD585/MD585-IHC25-2015.07.18-07.19.12_MD585_2_0074_sift_labelmap.bp\" \"s3://mousebrainatlas-data/CSHL_SPM/sift_labelmap/MD585/MD585-IHC25-2015.07.18-07.19.12_MD585_2_0074_sift_labelmap.bp\"\n",
      "1065813 keypoints\n"
     ]
    },
    {
     "name": "stderr",
     "output_type": "stream",
     "text": [
      "compute vocab: 0.00 seconds\n",
      "predict: 1.98 seconds\n"
     ]
    },
    {
     "name": "stdout",
     "output_type": "stream",
     "text": [
      "aws s3 cp \"/shared/CSHL_SPM/sift_labelmap/MD585/MD585-N25-2015.08.19-15.33.31_MD585_3_0075_sift_labelmap.bp\" \"s3://mousebrainatlas-data/CSHL_SPM/sift_labelmap/MD585/MD585-N25-2015.08.19-15.33.31_MD585_3_0075_sift_labelmap.bp\"\n",
      "929971 keypoints\n"
     ]
    },
    {
     "name": "stderr",
     "output_type": "stream",
     "text": [
      "compute vocab: 0.00 seconds\n",
      "predict: 1.73 seconds\n"
     ]
    },
    {
     "name": "stdout",
     "output_type": "stream",
     "text": [
      "aws s3 cp \"/shared/CSHL_SPM/sift_labelmap/MD585/MD585-IHC25-2015.07.18-07.19.12_MD585_3_0075_sift_labelmap.bp\" \"s3://mousebrainatlas-data/CSHL_SPM/sift_labelmap/MD585/MD585-IHC25-2015.07.18-07.19.12_MD585_3_0075_sift_labelmap.bp\"\n",
      "1611075 keypoints\n"
     ]
    },
    {
     "name": "stderr",
     "output_type": "stream",
     "text": [
      "compute vocab: 0.00 seconds\n",
      "predict: 3.03 seconds\n"
     ]
    },
    {
     "name": "stdout",
     "output_type": "stream",
     "text": [
      "aws s3 cp \"/shared/CSHL_SPM/sift_labelmap/MD585/MD585-N26-2015.08.19-15.37.53_MD585_1_0076_sift_labelmap.bp\" \"s3://mousebrainatlas-data/CSHL_SPM/sift_labelmap/MD585/MD585-N26-2015.08.19-15.37.53_MD585_1_0076_sift_labelmap.bp\"\n",
      "1499723 keypoints\n"
     ]
    },
    {
     "name": "stderr",
     "output_type": "stream",
     "text": [
      "compute vocab: 0.00 seconds\n",
      "predict: 2.82 seconds\n"
     ]
    },
    {
     "name": "stdout",
     "output_type": "stream",
     "text": [
      "aws s3 cp \"/shared/CSHL_SPM/sift_labelmap/MD585/MD585-IHC26-2015.08.19-13.23.15_MD585_1_0076_sift_labelmap.bp\" \"s3://mousebrainatlas-data/CSHL_SPM/sift_labelmap/MD585/MD585-IHC26-2015.08.19-13.23.15_MD585_1_0076_sift_labelmap.bp\"\n",
      "1445071 keypoints\n"
     ]
    },
    {
     "name": "stderr",
     "output_type": "stream",
     "text": [
      "compute vocab: 0.00 seconds\n",
      "predict: 2.73 seconds\n"
     ]
    },
    {
     "name": "stdout",
     "output_type": "stream",
     "text": [
      "aws s3 cp \"/shared/CSHL_SPM/sift_labelmap/MD585/MD585-N26-2015.08.19-15.37.53_MD585_2_0077_sift_labelmap.bp\" \"s3://mousebrainatlas-data/CSHL_SPM/sift_labelmap/MD585/MD585-N26-2015.08.19-15.37.53_MD585_2_0077_sift_labelmap.bp\"\n",
      "1288178 keypoints\n"
     ]
    },
    {
     "name": "stderr",
     "output_type": "stream",
     "text": [
      "compute vocab: 0.00 seconds\n",
      "predict: 2.45 seconds\n"
     ]
    },
    {
     "name": "stdout",
     "output_type": "stream",
     "text": [
      "aws s3 cp \"/shared/CSHL_SPM/sift_labelmap/MD585/MD585-IHC26-2015.08.19-13.23.15_MD585_2_0077_sift_labelmap.bp\" \"s3://mousebrainatlas-data/CSHL_SPM/sift_labelmap/MD585/MD585-IHC26-2015.08.19-13.23.15_MD585_2_0077_sift_labelmap.bp\"\n",
      "1381140 keypoints\n"
     ]
    },
    {
     "name": "stderr",
     "output_type": "stream",
     "text": [
      "compute vocab: 0.00 seconds\n",
      "predict: 2.58 seconds\n"
     ]
    },
    {
     "name": "stdout",
     "output_type": "stream",
     "text": [
      "aws s3 cp \"/shared/CSHL_SPM/sift_labelmap/MD585/MD585-N26-2015.08.19-15.37.53_MD585_3_0078_sift_labelmap.bp\" \"s3://mousebrainatlas-data/CSHL_SPM/sift_labelmap/MD585/MD585-N26-2015.08.19-15.37.53_MD585_3_0078_sift_labelmap.bp\"\n",
      "1355977 keypoints\n"
     ]
    },
    {
     "name": "stderr",
     "output_type": "stream",
     "text": [
      "compute vocab: 0.00 seconds\n",
      "predict: 2.56 seconds\n"
     ]
    },
    {
     "name": "stdout",
     "output_type": "stream",
     "text": [
      "aws s3 cp \"/shared/CSHL_SPM/sift_labelmap/MD585/MD585-IHC26-2015.08.19-13.23.15_MD585_3_0078_sift_labelmap.bp\" \"s3://mousebrainatlas-data/CSHL_SPM/sift_labelmap/MD585/MD585-IHC26-2015.08.19-13.23.15_MD585_3_0078_sift_labelmap.bp\"\n",
      "1240280 keypoints\n"
     ]
    },
    {
     "name": "stderr",
     "output_type": "stream",
     "text": [
      "compute vocab: 0.00 seconds\n",
      "predict: 2.33 seconds\n"
     ]
    },
    {
     "name": "stdout",
     "output_type": "stream",
     "text": [
      "aws s3 cp \"/shared/CSHL_SPM/sift_labelmap/MD585/MD585-N27-2015.08.19-15.42.30_MD585_1_0079_sift_labelmap.bp\" \"s3://mousebrainatlas-data/CSHL_SPM/sift_labelmap/MD585/MD585-N27-2015.08.19-15.42.30_MD585_1_0079_sift_labelmap.bp\"\n",
      "1469929 keypoints\n"
     ]
    },
    {
     "name": "stderr",
     "output_type": "stream",
     "text": [
      "compute vocab: 0.00 seconds\n",
      "predict: 2.76 seconds\n"
     ]
    },
    {
     "name": "stdout",
     "output_type": "stream",
     "text": [
      "aws s3 cp \"/shared/CSHL_SPM/sift_labelmap/MD585/MD585-IHC27-2015.08.19-13.28.05_MD585_1_0079_sift_labelmap.bp\" \"s3://mousebrainatlas-data/CSHL_SPM/sift_labelmap/MD585/MD585-IHC27-2015.08.19-13.28.05_MD585_1_0079_sift_labelmap.bp\"\n",
      "1048889 keypoints\n"
     ]
    },
    {
     "name": "stderr",
     "output_type": "stream",
     "text": [
      "compute vocab: 0.00 seconds\n",
      "predict: 1.96 seconds\n"
     ]
    },
    {
     "name": "stdout",
     "output_type": "stream",
     "text": [
      "aws s3 cp \"/shared/CSHL_SPM/sift_labelmap/MD585/MD585-N27-2015.08.19-15.42.30_MD585_2_0080_sift_labelmap.bp\" \"s3://mousebrainatlas-data/CSHL_SPM/sift_labelmap/MD585/MD585-N27-2015.08.19-15.42.30_MD585_2_0080_sift_labelmap.bp\"\n",
      "1358505 keypoints\n"
     ]
    },
    {
     "name": "stderr",
     "output_type": "stream",
     "text": [
      "compute vocab: 0.00 seconds\n",
      "predict: 2.58 seconds\n"
     ]
    },
    {
     "name": "stdout",
     "output_type": "stream",
     "text": [
      "aws s3 cp \"/shared/CSHL_SPM/sift_labelmap/MD585/MD585-IHC27-2015.08.19-13.28.05_MD585_2_0080_sift_labelmap.bp\" \"s3://mousebrainatlas-data/CSHL_SPM/sift_labelmap/MD585/MD585-IHC27-2015.08.19-13.28.05_MD585_2_0080_sift_labelmap.bp\"\n",
      "1039473 keypoints\n"
     ]
    },
    {
     "name": "stderr",
     "output_type": "stream",
     "text": [
      "compute vocab: 0.00 seconds\n",
      "predict: 1.97 seconds\n"
     ]
    },
    {
     "name": "stdout",
     "output_type": "stream",
     "text": [
      "aws s3 cp \"/shared/CSHL_SPM/sift_labelmap/MD585/MD585-N27-2015.08.19-15.42.30_MD585_3_0081_sift_labelmap.bp\" \"s3://mousebrainatlas-data/CSHL_SPM/sift_labelmap/MD585/MD585-N27-2015.08.19-15.42.30_MD585_3_0081_sift_labelmap.bp\"\n",
      "1385172 keypoints\n"
     ]
    },
    {
     "name": "stderr",
     "output_type": "stream",
     "text": [
      "compute vocab: 0.00 seconds\n",
      "predict: 2.64 seconds\n"
     ]
    },
    {
     "name": "stdout",
     "output_type": "stream",
     "text": [
      "aws s3 cp \"/shared/CSHL_SPM/sift_labelmap/MD585/MD585-IHC27-2015.08.19-13.28.05_MD585_3_0081_sift_labelmap.bp\" \"s3://mousebrainatlas-data/CSHL_SPM/sift_labelmap/MD585/MD585-IHC27-2015.08.19-13.28.05_MD585_3_0081_sift_labelmap.bp\"\n",
      "1430200 keypoints\n"
     ]
    },
    {
     "name": "stderr",
     "output_type": "stream",
     "text": [
      "compute vocab: 0.00 seconds\n",
      "predict: 2.83 seconds\n"
     ]
    },
    {
     "name": "stdout",
     "output_type": "stream",
     "text": [
      "aws s3 cp \"/shared/CSHL_SPM/sift_labelmap/MD585/MD585-N28-2015.08.19-15.47.09_MD585_1_0082_sift_labelmap.bp\" \"s3://mousebrainatlas-data/CSHL_SPM/sift_labelmap/MD585/MD585-N28-2015.08.19-15.47.09_MD585_1_0082_sift_labelmap.bp\"\n",
      "1423235 keypoints\n"
     ]
    },
    {
     "name": "stderr",
     "output_type": "stream",
     "text": [
      "compute vocab: 0.00 seconds\n",
      "predict: 2.67 seconds\n"
     ]
    },
    {
     "name": "stdout",
     "output_type": "stream",
     "text": [
      "aws s3 cp \"/shared/CSHL_SPM/sift_labelmap/MD585/MD585-IHC28-2015.08.19-13.33.04_MD585_1_0082_sift_labelmap.bp\" \"s3://mousebrainatlas-data/CSHL_SPM/sift_labelmap/MD585/MD585-IHC28-2015.08.19-13.33.04_MD585_1_0082_sift_labelmap.bp\"\n",
      "1313390 keypoints\n"
     ]
    },
    {
     "name": "stderr",
     "output_type": "stream",
     "text": [
      "compute vocab: 0.00 seconds\n",
      "predict: 2.49 seconds\n"
     ]
    },
    {
     "name": "stdout",
     "output_type": "stream",
     "text": [
      "aws s3 cp \"/shared/CSHL_SPM/sift_labelmap/MD585/MD585-N28-2015.08.19-15.47.09_MD585_2_0083_sift_labelmap.bp\" \"s3://mousebrainatlas-data/CSHL_SPM/sift_labelmap/MD585/MD585-N28-2015.08.19-15.47.09_MD585_2_0083_sift_labelmap.bp\"\n",
      "1337175 keypoints\n"
     ]
    },
    {
     "name": "stderr",
     "output_type": "stream",
     "text": [
      "compute vocab: 0.00 seconds\n",
      "predict: 2.53 seconds\n"
     ]
    },
    {
     "name": "stdout",
     "output_type": "stream",
     "text": [
      "aws s3 cp \"/shared/CSHL_SPM/sift_labelmap/MD585/MD585-IHC28-2015.08.19-13.33.04_MD585_2_0083_sift_labelmap.bp\" \"s3://mousebrainatlas-data/CSHL_SPM/sift_labelmap/MD585/MD585-IHC28-2015.08.19-13.33.04_MD585_2_0083_sift_labelmap.bp\"\n",
      "1459790 keypoints\n"
     ]
    },
    {
     "name": "stderr",
     "output_type": "stream",
     "text": [
      "compute vocab: 0.00 seconds\n",
      "predict: 2.82 seconds\n"
     ]
    },
    {
     "name": "stdout",
     "output_type": "stream",
     "text": [
      "aws s3 cp \"/shared/CSHL_SPM/sift_labelmap/MD585/MD585-N28-2015.08.19-15.47.09_MD585_3_0084_sift_labelmap.bp\" \"s3://mousebrainatlas-data/CSHL_SPM/sift_labelmap/MD585/MD585-N28-2015.08.19-15.47.09_MD585_3_0084_sift_labelmap.bp\"\n",
      "1356231 keypoints\n"
     ]
    },
    {
     "name": "stderr",
     "output_type": "stream",
     "text": [
      "compute vocab: 0.00 seconds\n",
      "predict: 2.58 seconds\n"
     ]
    },
    {
     "name": "stdout",
     "output_type": "stream",
     "text": [
      "aws s3 cp \"/shared/CSHL_SPM/sift_labelmap/MD585/MD585-IHC28-2015.08.19-13.33.04_MD585_3_0084_sift_labelmap.bp\" \"s3://mousebrainatlas-data/CSHL_SPM/sift_labelmap/MD585/MD585-IHC28-2015.08.19-13.33.04_MD585_3_0084_sift_labelmap.bp\"\n",
      "1343863 keypoints\n"
     ]
    },
    {
     "name": "stderr",
     "output_type": "stream",
     "text": [
      "compute vocab: 0.00 seconds\n",
      "predict: 2.88 seconds\n"
     ]
    },
    {
     "name": "stdout",
     "output_type": "stream",
     "text": [
      "aws s3 cp \"/shared/CSHL_SPM/sift_labelmap/MD585/MD585-N29-2015.08.19-15.51.55_MD585_1_0085_sift_labelmap.bp\" \"s3://mousebrainatlas-data/CSHL_SPM/sift_labelmap/MD585/MD585-N29-2015.08.19-15.51.55_MD585_1_0085_sift_labelmap.bp\"\n",
      "1496082 keypoints\n"
     ]
    },
    {
     "name": "stderr",
     "output_type": "stream",
     "text": [
      "compute vocab: 0.00 seconds\n",
      "predict: 2.84 seconds\n"
     ]
    },
    {
     "name": "stdout",
     "output_type": "stream",
     "text": [
      "aws s3 cp \"/shared/CSHL_SPM/sift_labelmap/MD585/MD585-IHC29-2015.08.19-13.38.04_MD585_1_0085_sift_labelmap.bp\" \"s3://mousebrainatlas-data/CSHL_SPM/sift_labelmap/MD585/MD585-IHC29-2015.08.19-13.38.04_MD585_1_0085_sift_labelmap.bp\"\n",
      "972884 keypoints\n"
     ]
    },
    {
     "name": "stderr",
     "output_type": "stream",
     "text": [
      "compute vocab: 0.00 seconds\n",
      "predict: 1.86 seconds\n"
     ]
    },
    {
     "name": "stdout",
     "output_type": "stream",
     "text": [
      "aws s3 cp \"/shared/CSHL_SPM/sift_labelmap/MD585/MD585-N29-2015.07.30-15.11.04_MD585_2_0086_sift_labelmap.bp\" \"s3://mousebrainatlas-data/CSHL_SPM/sift_labelmap/MD585/MD585-N29-2015.07.30-15.11.04_MD585_2_0086_sift_labelmap.bp\"\n",
      "1378714 keypoints\n"
     ]
    },
    {
     "name": "stderr",
     "output_type": "stream",
     "text": [
      "compute vocab: 0.00 seconds\n",
      "predict: 2.75 seconds\n"
     ]
    },
    {
     "name": "stdout",
     "output_type": "stream",
     "text": [
      "aws s3 cp \"/shared/CSHL_SPM/sift_labelmap/MD585/MD585-IHC29-2015.08.19-13.38.04_MD585_2_0086_sift_labelmap.bp\" \"s3://mousebrainatlas-data/CSHL_SPM/sift_labelmap/MD585/MD585-IHC29-2015.08.19-13.38.04_MD585_2_0086_sift_labelmap.bp\"\n",
      "1586648 keypoints\n"
     ]
    },
    {
     "name": "stderr",
     "output_type": "stream",
     "text": [
      "compute vocab: 0.00 seconds\n",
      "predict: 3.27 seconds\n"
     ]
    },
    {
     "name": "stdout",
     "output_type": "stream",
     "text": [
      "aws s3 cp \"/shared/CSHL_SPM/sift_labelmap/MD585/MD585-N29-2015.08.19-15.51.55_MD585_3_0087_sift_labelmap.bp\" \"s3://mousebrainatlas-data/CSHL_SPM/sift_labelmap/MD585/MD585-N29-2015.08.19-15.51.55_MD585_3_0087_sift_labelmap.bp\"\n",
      "1373305 keypoints\n"
     ]
    },
    {
     "name": "stderr",
     "output_type": "stream",
     "text": [
      "compute vocab: 0.00 seconds\n",
      "predict: 2.60 seconds\n"
     ]
    },
    {
     "name": "stdout",
     "output_type": "stream",
     "text": [
      "aws s3 cp \"/shared/CSHL_SPM/sift_labelmap/MD585/MD585-IHC29-2015.08.19-13.38.04_MD585_3_0087_sift_labelmap.bp\" \"s3://mousebrainatlas-data/CSHL_SPM/sift_labelmap/MD585/MD585-IHC29-2015.08.19-13.38.04_MD585_3_0087_sift_labelmap.bp\"\n",
      "1498681 keypoints\n"
     ]
    },
    {
     "name": "stderr",
     "output_type": "stream",
     "text": [
      "compute vocab: 0.00 seconds\n",
      "predict: 2.81 seconds\n"
     ]
    },
    {
     "name": "stdout",
     "output_type": "stream",
     "text": [
      "aws s3 cp \"/shared/CSHL_SPM/sift_labelmap/MD585/MD585-N30-2015.08.19-15.56.52_MD585_1_0088_sift_labelmap.bp\" \"s3://mousebrainatlas-data/CSHL_SPM/sift_labelmap/MD585/MD585-N30-2015.08.19-15.56.52_MD585_1_0088_sift_labelmap.bp\"\n",
      "1186510 keypoints\n"
     ]
    },
    {
     "name": "stderr",
     "output_type": "stream",
     "text": [
      "compute vocab: 0.00 seconds\n",
      "predict: 2.25 seconds\n"
     ]
    },
    {
     "name": "stdout",
     "output_type": "stream",
     "text": [
      "aws s3 cp \"/shared/CSHL_SPM/sift_labelmap/MD585/MD585-IHC30-2015.08.19-13.43.06_MD585_1_0088_sift_labelmap.bp\" \"s3://mousebrainatlas-data/CSHL_SPM/sift_labelmap/MD585/MD585-IHC30-2015.08.19-13.43.06_MD585_1_0088_sift_labelmap.bp\"\n",
      "1483719 keypoints\n"
     ]
    },
    {
     "name": "stderr",
     "output_type": "stream",
     "text": [
      "compute vocab: 0.00 seconds\n",
      "predict: 2.79 seconds\n"
     ]
    },
    {
     "name": "stdout",
     "output_type": "stream",
     "text": [
      "aws s3 cp \"/shared/CSHL_SPM/sift_labelmap/MD585/MD585-N30-2015.08.19-15.56.52_MD585_2_0089_sift_labelmap.bp\" \"s3://mousebrainatlas-data/CSHL_SPM/sift_labelmap/MD585/MD585-N30-2015.08.19-15.56.52_MD585_2_0089_sift_labelmap.bp\"\n",
      "1440058 keypoints\n"
     ]
    },
    {
     "name": "stderr",
     "output_type": "stream",
     "text": [
      "compute vocab: 0.00 seconds\n",
      "predict: 2.70 seconds\n"
     ]
    },
    {
     "name": "stdout",
     "output_type": "stream",
     "text": [
      "aws s3 cp \"/shared/CSHL_SPM/sift_labelmap/MD585/MD585-IHC30-2015.08.19-13.43.06_MD585_2_0089_sift_labelmap.bp\" \"s3://mousebrainatlas-data/CSHL_SPM/sift_labelmap/MD585/MD585-IHC30-2015.08.19-13.43.06_MD585_2_0089_sift_labelmap.bp\"\n",
      "1568575 keypoints\n"
     ]
    },
    {
     "name": "stderr",
     "output_type": "stream",
     "text": [
      "compute vocab: 0.00 seconds\n",
      "predict: 2.94 seconds\n"
     ]
    },
    {
     "name": "stdout",
     "output_type": "stream",
     "text": [
      "aws s3 cp \"/shared/CSHL_SPM/sift_labelmap/MD585/MD585-N30-2015.08.19-15.56.52_MD585_3_0090_sift_labelmap.bp\" \"s3://mousebrainatlas-data/CSHL_SPM/sift_labelmap/MD585/MD585-N30-2015.08.19-15.56.52_MD585_3_0090_sift_labelmap.bp\"\n",
      "1463017 keypoints\n"
     ]
    },
    {
     "name": "stderr",
     "output_type": "stream",
     "text": [
      "compute vocab: 0.00 seconds\n",
      "predict: 2.76 seconds\n"
     ]
    },
    {
     "name": "stdout",
     "output_type": "stream",
     "text": [
      "aws s3 cp \"/shared/CSHL_SPM/sift_labelmap/MD585/MD585-IHC30-2015.08.19-13.43.06_MD585_3_0090_sift_labelmap.bp\" \"s3://mousebrainatlas-data/CSHL_SPM/sift_labelmap/MD585/MD585-IHC30-2015.08.19-13.43.06_MD585_3_0090_sift_labelmap.bp\"\n",
      "1520737 keypoints\n"
     ]
    },
    {
     "name": "stderr",
     "output_type": "stream",
     "text": [
      "compute vocab: 0.00 seconds\n",
      "predict: 2.85 seconds\n"
     ]
    },
    {
     "name": "stdout",
     "output_type": "stream",
     "text": [
      "aws s3 cp \"/shared/CSHL_SPM/sift_labelmap/MD585/MD585-N31-2015.08.19-16.01.47_MD585_1_0091_sift_labelmap.bp\" \"s3://mousebrainatlas-data/CSHL_SPM/sift_labelmap/MD585/MD585-N31-2015.08.19-16.01.47_MD585_1_0091_sift_labelmap.bp\"\n",
      "800470 keypoints\n"
     ]
    },
    {
     "name": "stderr",
     "output_type": "stream",
     "text": [
      "compute vocab: 0.00 seconds\n",
      "predict: 1.52 seconds\n"
     ]
    },
    {
     "name": "stdout",
     "output_type": "stream",
     "text": [
      "aws s3 cp \"/shared/CSHL_SPM/sift_labelmap/MD585/MD585-IHC31-2015.08.19-13.48.12_MD585_1_0091_sift_labelmap.bp\" \"s3://mousebrainatlas-data/CSHL_SPM/sift_labelmap/MD585/MD585-IHC31-2015.08.19-13.48.12_MD585_1_0091_sift_labelmap.bp\"\n",
      "1549791 keypoints\n"
     ]
    },
    {
     "name": "stderr",
     "output_type": "stream",
     "text": [
      "compute vocab: 0.00 seconds\n",
      "predict: 2.91 seconds\n"
     ]
    },
    {
     "name": "stdout",
     "output_type": "stream",
     "text": [
      "aws s3 cp \"/shared/CSHL_SPM/sift_labelmap/MD585/MD585-N31-2015.08.19-16.01.47_MD585_2_0092_sift_labelmap.bp\" \"s3://mousebrainatlas-data/CSHL_SPM/sift_labelmap/MD585/MD585-N31-2015.08.19-16.01.47_MD585_2_0092_sift_labelmap.bp\"\n",
      "950293 keypoints\n"
     ]
    },
    {
     "name": "stderr",
     "output_type": "stream",
     "text": [
      "compute vocab: 0.00 seconds\n",
      "predict: 1.80 seconds\n"
     ]
    },
    {
     "name": "stdout",
     "output_type": "stream",
     "text": [
      "aws s3 cp \"/shared/CSHL_SPM/sift_labelmap/MD585/MD585-IHC31-2015.08.19-13.48.12_MD585_2_0092_sift_labelmap.bp\" \"s3://mousebrainatlas-data/CSHL_SPM/sift_labelmap/MD585/MD585-IHC31-2015.08.19-13.48.12_MD585_2_0092_sift_labelmap.bp\"\n",
      "1610208 keypoints\n"
     ]
    },
    {
     "name": "stderr",
     "output_type": "stream",
     "text": [
      "compute vocab: 0.00 seconds\n",
      "predict: 3.06 seconds\n"
     ]
    },
    {
     "name": "stdout",
     "output_type": "stream",
     "text": [
      "aws s3 cp \"/shared/CSHL_SPM/sift_labelmap/MD585/MD585-N31-2015.08.19-16.01.47_MD585_3_0093_sift_labelmap.bp\" \"s3://mousebrainatlas-data/CSHL_SPM/sift_labelmap/MD585/MD585-N31-2015.08.19-16.01.47_MD585_3_0093_sift_labelmap.bp\"\n",
      "1322328 keypoints\n"
     ]
    },
    {
     "name": "stderr",
     "output_type": "stream",
     "text": [
      "compute vocab: 0.00 seconds\n",
      "predict: 2.53 seconds\n"
     ]
    },
    {
     "name": "stdout",
     "output_type": "stream",
     "text": [
      "aws s3 cp \"/shared/CSHL_SPM/sift_labelmap/MD585/MD585-IHC31-2015.08.19-13.48.12_MD585_3_0093_sift_labelmap.bp\" \"s3://mousebrainatlas-data/CSHL_SPM/sift_labelmap/MD585/MD585-IHC31-2015.08.19-13.48.12_MD585_3_0093_sift_labelmap.bp\"\n",
      "1638668 keypoints\n"
     ]
    },
    {
     "name": "stderr",
     "output_type": "stream",
     "text": [
      "compute vocab: 0.00 seconds\n",
      "predict: 3.10 seconds\n"
     ]
    },
    {
     "name": "stdout",
     "output_type": "stream",
     "text": [
      "aws s3 cp \"/shared/CSHL_SPM/sift_labelmap/MD585/MD585-N32-2015.08.19-16.07.10_MD585_1_0094_sift_labelmap.bp\" \"s3://mousebrainatlas-data/CSHL_SPM/sift_labelmap/MD585/MD585-N32-2015.08.19-16.07.10_MD585_1_0094_sift_labelmap.bp\"\n",
      "1711946 keypoints\n"
     ]
    },
    {
     "name": "stderr",
     "output_type": "stream",
     "text": [
      "compute vocab: 0.00 seconds\n",
      "predict: 3.39 seconds\n"
     ]
    },
    {
     "name": "stdout",
     "output_type": "stream",
     "text": [
      "aws s3 cp \"/shared/CSHL_SPM/sift_labelmap/MD585/MD585-IHC32-2015.08.19-13.53.29_MD585_1_0094_sift_labelmap.bp\" \"s3://mousebrainatlas-data/CSHL_SPM/sift_labelmap/MD585/MD585-IHC32-2015.08.19-13.53.29_MD585_1_0094_sift_labelmap.bp\"\n",
      "1560680 keypoints\n"
     ]
    },
    {
     "name": "stderr",
     "output_type": "stream",
     "text": [
      "compute vocab: 0.00 seconds\n",
      "predict: 2.91 seconds\n"
     ]
    },
    {
     "name": "stdout",
     "output_type": "stream",
     "text": [
      "aws s3 cp \"/shared/CSHL_SPM/sift_labelmap/MD585/MD585-N32-2015.08.19-16.07.10_MD585_2_0095_sift_labelmap.bp\" \"s3://mousebrainatlas-data/CSHL_SPM/sift_labelmap/MD585/MD585-N32-2015.08.19-16.07.10_MD585_2_0095_sift_labelmap.bp\"\n",
      "1606388 keypoints\n"
     ]
    },
    {
     "name": "stderr",
     "output_type": "stream",
     "text": [
      "compute vocab: 0.00 seconds\n",
      "predict: 3.01 seconds\n"
     ]
    },
    {
     "name": "stdout",
     "output_type": "stream",
     "text": [
      "aws s3 cp \"/shared/CSHL_SPM/sift_labelmap/MD585/MD585-IHC32-2015.08.19-13.53.29_MD585_2_0095_sift_labelmap.bp\" \"s3://mousebrainatlas-data/CSHL_SPM/sift_labelmap/MD585/MD585-IHC32-2015.08.19-13.53.29_MD585_2_0095_sift_labelmap.bp\"\n",
      "1675297 keypoints\n"
     ]
    },
    {
     "name": "stderr",
     "output_type": "stream",
     "text": [
      "compute vocab: 0.00 seconds\n",
      "predict: 3.12 seconds\n"
     ]
    },
    {
     "name": "stdout",
     "output_type": "stream",
     "text": [
      "aws s3 cp \"/shared/CSHL_SPM/sift_labelmap/MD585/MD585-N32-2015.08.19-16.07.10_MD585_3_0096_sift_labelmap.bp\" \"s3://mousebrainatlas-data/CSHL_SPM/sift_labelmap/MD585/MD585-N32-2015.08.19-16.07.10_MD585_3_0096_sift_labelmap.bp\"\n",
      "1661698 keypoints\n"
     ]
    },
    {
     "name": "stderr",
     "output_type": "stream",
     "text": [
      "compute vocab: 0.00 seconds\n",
      "predict: 3.13 seconds\n"
     ]
    },
    {
     "name": "stdout",
     "output_type": "stream",
     "text": [
      "aws s3 cp \"/shared/CSHL_SPM/sift_labelmap/MD585/MD585-IHC32-2015.08.19-13.53.29_MD585_3_0096_sift_labelmap.bp\" \"s3://mousebrainatlas-data/CSHL_SPM/sift_labelmap/MD585/MD585-IHC32-2015.08.19-13.53.29_MD585_3_0096_sift_labelmap.bp\"\n",
      "1045952 keypoints\n"
     ]
    },
    {
     "name": "stderr",
     "output_type": "stream",
     "text": [
      "compute vocab: 0.00 seconds\n",
      "predict: 1.97 seconds\n"
     ]
    },
    {
     "name": "stdout",
     "output_type": "stream",
     "text": [
      "aws s3 cp \"/shared/CSHL_SPM/sift_labelmap/MD585/MD585-N33-2015.07.16-21.37.52_MD585_1_0097_sift_labelmap.bp\" \"s3://mousebrainatlas-data/CSHL_SPM/sift_labelmap/MD585/MD585-N33-2015.07.16-21.37.52_MD585_1_0097_sift_labelmap.bp\"\n",
      "1083659 keypoints\n"
     ]
    },
    {
     "name": "stderr",
     "output_type": "stream",
     "text": [
      "compute vocab: 0.00 seconds\n",
      "predict: 2.05 seconds\n"
     ]
    },
    {
     "name": "stdout",
     "output_type": "stream",
     "text": [
      "aws s3 cp \"/shared/CSHL_SPM/sift_labelmap/MD585/MD585-IHC33-2015.07.16-16.33.07_MD585_1_0097_sift_labelmap.bp\" \"s3://mousebrainatlas-data/CSHL_SPM/sift_labelmap/MD585/MD585-IHC33-2015.07.16-16.33.07_MD585_1_0097_sift_labelmap.bp\"\n",
      "1110892 keypoints\n"
     ]
    },
    {
     "name": "stderr",
     "output_type": "stream",
     "text": [
      "compute vocab: 0.00 seconds\n",
      "predict: 2.10 seconds\n"
     ]
    },
    {
     "name": "stdout",
     "output_type": "stream",
     "text": [
      "aws s3 cp \"/shared/CSHL_SPM/sift_labelmap/MD585/MD585-N33-2015.07.16-21.37.52_MD585_2_0098_sift_labelmap.bp\" \"s3://mousebrainatlas-data/CSHL_SPM/sift_labelmap/MD585/MD585-N33-2015.07.16-21.37.52_MD585_2_0098_sift_labelmap.bp\"\n",
      "1135820 keypoints\n"
     ]
    },
    {
     "name": "stderr",
     "output_type": "stream",
     "text": [
      "compute vocab: 0.00 seconds\n",
      "predict: 2.19 seconds\n"
     ]
    },
    {
     "name": "stdout",
     "output_type": "stream",
     "text": [
      "aws s3 cp \"/shared/CSHL_SPM/sift_labelmap/MD585/MD585-IHC33-2015.07.16-16.33.07_MD585_2_0098_sift_labelmap.bp\" \"s3://mousebrainatlas-data/CSHL_SPM/sift_labelmap/MD585/MD585-IHC33-2015.07.16-16.33.07_MD585_2_0098_sift_labelmap.bp\"\n",
      "1069744 keypoints\n"
     ]
    },
    {
     "name": "stderr",
     "output_type": "stream",
     "text": [
      "compute vocab: 0.00 seconds\n",
      "predict: 2.01 seconds\n"
     ]
    },
    {
     "name": "stdout",
     "output_type": "stream",
     "text": [
      "aws s3 cp \"/shared/CSHL_SPM/sift_labelmap/MD585/MD585-N33-2015.07.16-21.37.52_MD585_3_0099_sift_labelmap.bp\" \"s3://mousebrainatlas-data/CSHL_SPM/sift_labelmap/MD585/MD585-N33-2015.07.16-21.37.52_MD585_3_0099_sift_labelmap.bp\"\n",
      "1130853 keypoints\n"
     ]
    },
    {
     "name": "stderr",
     "output_type": "stream",
     "text": [
      "compute vocab: 0.00 seconds\n",
      "predict: 2.14 seconds\n"
     ]
    },
    {
     "name": "stdout",
     "output_type": "stream",
     "text": [
      "aws s3 cp \"/shared/CSHL_SPM/sift_labelmap/MD585/MD585-IHC33-2015.07.16-16.33.07_MD585_3_0099_sift_labelmap.bp\" \"s3://mousebrainatlas-data/CSHL_SPM/sift_labelmap/MD585/MD585-IHC33-2015.07.16-16.33.07_MD585_3_0099_sift_labelmap.bp\"\n",
      "1072750 keypoints\n"
     ]
    },
    {
     "name": "stderr",
     "output_type": "stream",
     "text": [
      "compute vocab: 0.00 seconds\n",
      "predict: 2.05 seconds\n"
     ]
    },
    {
     "name": "stdout",
     "output_type": "stream",
     "text": [
      "aws s3 cp \"/shared/CSHL_SPM/sift_labelmap/MD585/MD585-N34-2015.07.16-21.43.03_MD585_1_0100_sift_labelmap.bp\" \"s3://mousebrainatlas-data/CSHL_SPM/sift_labelmap/MD585/MD585-N34-2015.07.16-21.43.03_MD585_1_0100_sift_labelmap.bp\"\n",
      "873800 keypoints\n"
     ]
    },
    {
     "name": "stderr",
     "output_type": "stream",
     "text": [
      "compute vocab: 0.00 seconds\n",
      "predict: 1.65 seconds\n"
     ]
    },
    {
     "name": "stdout",
     "output_type": "stream",
     "text": [
      "aws s3 cp \"/shared/CSHL_SPM/sift_labelmap/MD585/MD585-IHC34-2015.07.16-16.38.23_MD585_1_0100_sift_labelmap.bp\" \"s3://mousebrainatlas-data/CSHL_SPM/sift_labelmap/MD585/MD585-IHC34-2015.07.16-16.38.23_MD585_1_0100_sift_labelmap.bp\"\n",
      "1141508 keypoints\n"
     ]
    },
    {
     "name": "stderr",
     "output_type": "stream",
     "text": [
      "compute vocab: 0.00 seconds\n",
      "predict: 2.18 seconds\n"
     ]
    },
    {
     "name": "stdout",
     "output_type": "stream",
     "text": [
      "aws s3 cp \"/shared/CSHL_SPM/sift_labelmap/MD585/MD585-N34-2015.07.16-21.43.03_MD585_2_0101_sift_labelmap.bp\" \"s3://mousebrainatlas-data/CSHL_SPM/sift_labelmap/MD585/MD585-N34-2015.07.16-21.43.03_MD585_2_0101_sift_labelmap.bp\"\n",
      "1182689 keypoints\n"
     ]
    },
    {
     "name": "stderr",
     "output_type": "stream",
     "text": [
      "compute vocab: 0.00 seconds\n",
      "predict: 2.22 seconds\n"
     ]
    },
    {
     "name": "stdout",
     "output_type": "stream",
     "text": [
      "aws s3 cp \"/shared/CSHL_SPM/sift_labelmap/MD585/MD585-IHC34-2015.07.16-16.38.23_MD585_2_0101_sift_labelmap.bp\" \"s3://mousebrainatlas-data/CSHL_SPM/sift_labelmap/MD585/MD585-IHC34-2015.07.16-16.38.23_MD585_2_0101_sift_labelmap.bp\"\n",
      "1100410 keypoints\n"
     ]
    },
    {
     "name": "stderr",
     "output_type": "stream",
     "text": [
      "compute vocab: 0.00 seconds\n",
      "predict: 2.06 seconds\n"
     ]
    },
    {
     "name": "stdout",
     "output_type": "stream",
     "text": [
      "aws s3 cp \"/shared/CSHL_SPM/sift_labelmap/MD585/MD585-N34-2015.07.16-21.43.03_MD585_3_0102_sift_labelmap.bp\" \"s3://mousebrainatlas-data/CSHL_SPM/sift_labelmap/MD585/MD585-N34-2015.07.16-21.43.03_MD585_3_0102_sift_labelmap.bp\"\n",
      "1113051 keypoints\n"
     ]
    },
    {
     "name": "stderr",
     "output_type": "stream",
     "text": [
      "compute vocab: 0.00 seconds\n",
      "predict: 2.09 seconds\n"
     ]
    },
    {
     "name": "stdout",
     "output_type": "stream",
     "text": [
      "aws s3 cp \"/shared/CSHL_SPM/sift_labelmap/MD585/MD585-IHC34-2015.07.16-16.38.23_MD585_3_0102_sift_labelmap.bp\" \"s3://mousebrainatlas-data/CSHL_SPM/sift_labelmap/MD585/MD585-IHC34-2015.07.16-16.38.23_MD585_3_0102_sift_labelmap.bp\"\n",
      "1062550 keypoints\n"
     ]
    },
    {
     "name": "stderr",
     "output_type": "stream",
     "text": [
      "compute vocab: 0.00 seconds\n",
      "predict: 2.40 seconds\n"
     ]
    },
    {
     "name": "stdout",
     "output_type": "stream",
     "text": [
      "aws s3 cp \"/shared/CSHL_SPM/sift_labelmap/MD585/MD585-N35-2015.07.16-21.48.15_MD585_1_0103_sift_labelmap.bp\" \"s3://mousebrainatlas-data/CSHL_SPM/sift_labelmap/MD585/MD585-N35-2015.07.16-21.48.15_MD585_1_0103_sift_labelmap.bp\"\n",
      "1108757 keypoints\n"
     ]
    },
    {
     "name": "stderr",
     "output_type": "stream",
     "text": [
      "compute vocab: 0.00 seconds\n",
      "predict: 2.09 seconds\n"
     ]
    },
    {
     "name": "stdout",
     "output_type": "stream",
     "text": [
      "aws s3 cp \"/shared/CSHL_SPM/sift_labelmap/MD585/MD585-IHC35-2015.07.16-16.43.41_MD585_1_0103_sift_labelmap.bp\" \"s3://mousebrainatlas-data/CSHL_SPM/sift_labelmap/MD585/MD585-IHC35-2015.07.16-16.43.41_MD585_1_0103_sift_labelmap.bp\"\n",
      "1105222 keypoints\n"
     ]
    },
    {
     "name": "stderr",
     "output_type": "stream",
     "text": [
      "compute vocab: 0.00 seconds\n",
      "predict: 2.08 seconds\n"
     ]
    },
    {
     "name": "stdout",
     "output_type": "stream",
     "text": [
      "aws s3 cp \"/shared/CSHL_SPM/sift_labelmap/MD585/MD585-N35-2015.07.16-21.48.15_MD585_2_0104_sift_labelmap.bp\" \"s3://mousebrainatlas-data/CSHL_SPM/sift_labelmap/MD585/MD585-N35-2015.07.16-21.48.15_MD585_2_0104_sift_labelmap.bp\"\n",
      "1124836 keypoints\n"
     ]
    },
    {
     "name": "stderr",
     "output_type": "stream",
     "text": [
      "compute vocab: 0.00 seconds\n",
      "predict: 2.15 seconds\n"
     ]
    },
    {
     "name": "stdout",
     "output_type": "stream",
     "text": [
      "aws s3 cp \"/shared/CSHL_SPM/sift_labelmap/MD585/MD585-IHC35-2015.07.16-16.43.41_MD585_2_0104_sift_labelmap.bp\" \"s3://mousebrainatlas-data/CSHL_SPM/sift_labelmap/MD585/MD585-IHC35-2015.07.16-16.43.41_MD585_2_0104_sift_labelmap.bp\"\n",
      "1086499 keypoints\n"
     ]
    },
    {
     "name": "stderr",
     "output_type": "stream",
     "text": [
      "compute vocab: 0.00 seconds\n",
      "predict: 2.04 seconds\n"
     ]
    },
    {
     "name": "stdout",
     "output_type": "stream",
     "text": [
      "aws s3 cp \"/shared/CSHL_SPM/sift_labelmap/MD585/MD585-N35-2015.07.16-21.48.15_MD585_3_0105_sift_labelmap.bp\" \"s3://mousebrainatlas-data/CSHL_SPM/sift_labelmap/MD585/MD585-N35-2015.07.16-21.48.15_MD585_3_0105_sift_labelmap.bp\"\n",
      "1097627 keypoints\n"
     ]
    },
    {
     "name": "stderr",
     "output_type": "stream",
     "text": [
      "compute vocab: 0.00 seconds\n",
      "predict: 2.07 seconds\n"
     ]
    },
    {
     "name": "stdout",
     "output_type": "stream",
     "text": [
      "aws s3 cp \"/shared/CSHL_SPM/sift_labelmap/MD585/MD585-IHC35-2015.07.16-16.43.41_MD585_3_0105_sift_labelmap.bp\" \"s3://mousebrainatlas-data/CSHL_SPM/sift_labelmap/MD585/MD585-IHC35-2015.07.16-16.43.41_MD585_3_0105_sift_labelmap.bp\"\n",
      "1078348 keypoints\n"
     ]
    },
    {
     "name": "stderr",
     "output_type": "stream",
     "text": [
      "compute vocab: 0.00 seconds\n",
      "predict: 2.05 seconds\n"
     ]
    },
    {
     "name": "stdout",
     "output_type": "stream",
     "text": [
      "aws s3 cp \"/shared/CSHL_SPM/sift_labelmap/MD585/MD585-N36-2015.07.16-21.53.31_MD585_1_0106_sift_labelmap.bp\" \"s3://mousebrainatlas-data/CSHL_SPM/sift_labelmap/MD585/MD585-N36-2015.07.16-21.53.31_MD585_1_0106_sift_labelmap.bp\"\n",
      "1803032 keypoints\n"
     ]
    },
    {
     "name": "stderr",
     "output_type": "stream",
     "text": [
      "compute vocab: 0.00 seconds\n",
      "predict: 3.42 seconds\n"
     ]
    },
    {
     "name": "stdout",
     "output_type": "stream",
     "text": [
      "aws s3 cp \"/shared/CSHL_SPM/sift_labelmap/MD585/MD585-IHC36-2015.08.19-13.58.57_MD585_1_0106_sift_labelmap.bp\" \"s3://mousebrainatlas-data/CSHL_SPM/sift_labelmap/MD585/MD585-IHC36-2015.08.19-13.58.57_MD585_1_0106_sift_labelmap.bp\"\n",
      "1102091 keypoints\n"
     ]
    },
    {
     "name": "stderr",
     "output_type": "stream",
     "text": [
      "compute vocab: 0.00 seconds\n",
      "predict: 2.35 seconds\n"
     ]
    },
    {
     "name": "stdout",
     "output_type": "stream",
     "text": [
      "aws s3 cp \"/shared/CSHL_SPM/sift_labelmap/MD585/MD585-N36-2015.07.16-21.53.31_MD585_2_0107_sift_labelmap.bp\" \"s3://mousebrainatlas-data/CSHL_SPM/sift_labelmap/MD585/MD585-N36-2015.07.16-21.53.31_MD585_2_0107_sift_labelmap.bp\"\n",
      "1673856 keypoints\n"
     ]
    },
    {
     "name": "stderr",
     "output_type": "stream",
     "text": [
      "compute vocab: 0.00 seconds\n",
      "predict: 3.15 seconds\n"
     ]
    },
    {
     "name": "stdout",
     "output_type": "stream",
     "text": [
      "aws s3 cp \"/shared/CSHL_SPM/sift_labelmap/MD585/MD585-IHC36-2015.08.19-13.58.57_MD585_2_0107_sift_labelmap.bp\" \"s3://mousebrainatlas-data/CSHL_SPM/sift_labelmap/MD585/MD585-IHC36-2015.08.19-13.58.57_MD585_2_0107_sift_labelmap.bp\"\n",
      "1067762 keypoints\n"
     ]
    },
    {
     "name": "stderr",
     "output_type": "stream",
     "text": [
      "compute vocab: 0.00 seconds\n",
      "predict: 2.00 seconds\n"
     ]
    },
    {
     "name": "stdout",
     "output_type": "stream",
     "text": [
      "aws s3 cp \"/shared/CSHL_SPM/sift_labelmap/MD585/MD585-N36-2015.07.16-21.53.31_MD585_3_0108_sift_labelmap.bp\" \"s3://mousebrainatlas-data/CSHL_SPM/sift_labelmap/MD585/MD585-N36-2015.07.16-21.53.31_MD585_3_0108_sift_labelmap.bp\"\n",
      "1702241 keypoints\n"
     ]
    },
    {
     "name": "stderr",
     "output_type": "stream",
     "text": [
      "compute vocab: 0.00 seconds\n",
      "predict: 3.20 seconds\n"
     ]
    },
    {
     "name": "stdout",
     "output_type": "stream",
     "text": [
      "aws s3 cp \"/shared/CSHL_SPM/sift_labelmap/MD585/MD585-IHC36-2015.08.19-13.58.57_MD585_3_0108_sift_labelmap.bp\" \"s3://mousebrainatlas-data/CSHL_SPM/sift_labelmap/MD585/MD585-IHC36-2015.08.19-13.58.57_MD585_3_0108_sift_labelmap.bp\"\n",
      "1007533 keypoints\n"
     ]
    },
    {
     "name": "stderr",
     "output_type": "stream",
     "text": [
      "compute vocab: 0.00 seconds\n",
      "predict: 1.90 seconds\n"
     ]
    },
    {
     "name": "stdout",
     "output_type": "stream",
     "text": [
      "aws s3 cp \"/shared/CSHL_SPM/sift_labelmap/MD585/MD585-N37-2015.07.16-21.59.03_MD585_1_0109_sift_labelmap.bp\" \"s3://mousebrainatlas-data/CSHL_SPM/sift_labelmap/MD585/MD585-N37-2015.07.16-21.59.03_MD585_1_0109_sift_labelmap.bp\"\n",
      "1939869 keypoints\n"
     ]
    },
    {
     "name": "stderr",
     "output_type": "stream",
     "text": [
      "compute vocab: 0.00 seconds\n",
      "predict: 3.66 seconds\n"
     ]
    },
    {
     "name": "stdout",
     "output_type": "stream",
     "text": [
      "aws s3 cp \"/shared/CSHL_SPM/sift_labelmap/MD585/MD585-IHC37-2015.08.19-14.04.32_MD585_1_0109_sift_labelmap.bp\" \"s3://mousebrainatlas-data/CSHL_SPM/sift_labelmap/MD585/MD585-IHC37-2015.08.19-14.04.32_MD585_1_0109_sift_labelmap.bp\"\n",
      "1192192 keypoints\n"
     ]
    },
    {
     "name": "stderr",
     "output_type": "stream",
     "text": [
      "compute vocab: 0.00 seconds\n",
      "predict: 2.26 seconds\n"
     ]
    },
    {
     "name": "stdout",
     "output_type": "stream",
     "text": [
      "aws s3 cp \"/shared/CSHL_SPM/sift_labelmap/MD585/MD585-N37-2015.07.16-21.59.03_MD585_2_0110_sift_labelmap.bp\" \"s3://mousebrainatlas-data/CSHL_SPM/sift_labelmap/MD585/MD585-N37-2015.07.16-21.59.03_MD585_2_0110_sift_labelmap.bp\"\n",
      "1610324 keypoints\n"
     ]
    },
    {
     "name": "stderr",
     "output_type": "stream",
     "text": [
      "compute vocab: 0.00 seconds\n",
      "predict: 3.23 seconds\n"
     ]
    },
    {
     "name": "stdout",
     "output_type": "stream",
     "text": [
      "aws s3 cp \"/shared/CSHL_SPM/sift_labelmap/MD585/MD585-IHC37-2015.08.19-14.04.32_MD585_2_0110_sift_labelmap.bp\" \"s3://mousebrainatlas-data/CSHL_SPM/sift_labelmap/MD585/MD585-IHC37-2015.08.19-14.04.32_MD585_2_0110_sift_labelmap.bp\"\n",
      "1132721 keypoints\n"
     ]
    },
    {
     "name": "stderr",
     "output_type": "stream",
     "text": [
      "compute vocab: 0.00 seconds\n",
      "predict: 2.11 seconds\n"
     ]
    },
    {
     "name": "stdout",
     "output_type": "stream",
     "text": [
      "aws s3 cp \"/shared/CSHL_SPM/sift_labelmap/MD585/MD585-N37-2015.07.16-21.59.03_MD585_3_0111_sift_labelmap.bp\" \"s3://mousebrainatlas-data/CSHL_SPM/sift_labelmap/MD585/MD585-N37-2015.07.16-21.59.03_MD585_3_0111_sift_labelmap.bp\"\n",
      "1564361 keypoints\n"
     ]
    },
    {
     "name": "stderr",
     "output_type": "stream",
     "text": [
      "compute vocab: 0.00 seconds\n",
      "predict: 3.14 seconds\n"
     ]
    },
    {
     "name": "stdout",
     "output_type": "stream",
     "text": [
      "aws s3 cp \"/shared/CSHL_SPM/sift_labelmap/MD585/MD585-IHC37-2015.08.19-14.04.32_MD585_3_0111_sift_labelmap.bp\" \"s3://mousebrainatlas-data/CSHL_SPM/sift_labelmap/MD585/MD585-IHC37-2015.08.19-14.04.32_MD585_3_0111_sift_labelmap.bp\"\n",
      "1162619 keypoints\n"
     ]
    },
    {
     "name": "stderr",
     "output_type": "stream",
     "text": [
      "compute vocab: 0.00 seconds\n",
      "predict: 2.21 seconds\n"
     ]
    },
    {
     "name": "stdout",
     "output_type": "stream",
     "text": [
      "aws s3 cp \"/shared/CSHL_SPM/sift_labelmap/MD585/MD585-N38-2015.07.16-22.04.12_MD585_1_0112_sift_labelmap.bp\" \"s3://mousebrainatlas-data/CSHL_SPM/sift_labelmap/MD585/MD585-N38-2015.07.16-22.04.12_MD585_1_0112_sift_labelmap.bp\"\n",
      "1135885 keypoints\n"
     ]
    },
    {
     "name": "stderr",
     "output_type": "stream",
     "text": [
      "compute vocab: 0.00 seconds\n",
      "predict: 2.13 seconds\n"
     ]
    },
    {
     "name": "stdout",
     "output_type": "stream",
     "text": [
      "aws s3 cp \"/shared/CSHL_SPM/sift_labelmap/MD585/MD585-IHC38-2015.07.16-17.00.35_MD585_1_0112_sift_labelmap.bp\" \"s3://mousebrainatlas-data/CSHL_SPM/sift_labelmap/MD585/MD585-IHC38-2015.07.16-17.00.35_MD585_1_0112_sift_labelmap.bp\"\n",
      "1239620 keypoints\n"
     ]
    },
    {
     "name": "stderr",
     "output_type": "stream",
     "text": [
      "compute vocab: 0.00 seconds\n",
      "predict: 2.34 seconds\n"
     ]
    },
    {
     "name": "stdout",
     "output_type": "stream",
     "text": [
      "aws s3 cp \"/shared/CSHL_SPM/sift_labelmap/MD585/MD585-N38-2015.07.16-22.04.12_MD585_2_0113_sift_labelmap.bp\" \"s3://mousebrainatlas-data/CSHL_SPM/sift_labelmap/MD585/MD585-N38-2015.07.16-22.04.12_MD585_2_0113_sift_labelmap.bp\"\n",
      "1210896 keypoints\n"
     ]
    },
    {
     "name": "stderr",
     "output_type": "stream",
     "text": [
      "compute vocab: 0.00 seconds\n",
      "predict: 2.30 seconds\n"
     ]
    },
    {
     "name": "stdout",
     "output_type": "stream",
     "text": [
      "aws s3 cp \"/shared/CSHL_SPM/sift_labelmap/MD585/MD585-IHC38-2015.07.16-17.00.35_MD585_2_0113_sift_labelmap.bp\" \"s3://mousebrainatlas-data/CSHL_SPM/sift_labelmap/MD585/MD585-IHC38-2015.07.16-17.00.35_MD585_2_0113_sift_labelmap.bp\"\n",
      "1162565 keypoints\n"
     ]
    },
    {
     "name": "stderr",
     "output_type": "stream",
     "text": [
      "compute vocab: 0.00 seconds\n",
      "predict: 2.22 seconds\n"
     ]
    },
    {
     "name": "stdout",
     "output_type": "stream",
     "text": [
      "aws s3 cp \"/shared/CSHL_SPM/sift_labelmap/MD585/MD585-N38-2015.07.16-22.04.12_MD585_3_0114_sift_labelmap.bp\" \"s3://mousebrainatlas-data/CSHL_SPM/sift_labelmap/MD585/MD585-N38-2015.07.16-22.04.12_MD585_3_0114_sift_labelmap.bp\"\n",
      "1230474 keypoints\n"
     ]
    },
    {
     "name": "stderr",
     "output_type": "stream",
     "text": [
      "compute vocab: 0.00 seconds\n",
      "predict: 2.33 seconds\n"
     ]
    },
    {
     "name": "stdout",
     "output_type": "stream",
     "text": [
      "aws s3 cp \"/shared/CSHL_SPM/sift_labelmap/MD585/MD585-IHC38-2015.07.16-17.00.35_MD585_3_0114_sift_labelmap.bp\" \"s3://mousebrainatlas-data/CSHL_SPM/sift_labelmap/MD585/MD585-IHC38-2015.07.16-17.00.35_MD585_3_0114_sift_labelmap.bp\"\n",
      "1171596 keypoints\n"
     ]
    },
    {
     "name": "stderr",
     "output_type": "stream",
     "text": [
      "compute vocab: 0.00 seconds\n",
      "predict: 2.18 seconds\n"
     ]
    },
    {
     "name": "stdout",
     "output_type": "stream",
     "text": [
      "aws s3 cp \"/shared/CSHL_SPM/sift_labelmap/MD585/MD585-N39-2015.07.16-22.09.19_MD585_1_0115_sift_labelmap.bp\" \"s3://mousebrainatlas-data/CSHL_SPM/sift_labelmap/MD585/MD585-N39-2015.07.16-22.09.19_MD585_1_0115_sift_labelmap.bp\"\n",
      "1827881 keypoints\n"
     ]
    },
    {
     "name": "stderr",
     "output_type": "stream",
     "text": [
      "compute vocab: 0.00 seconds\n",
      "predict: 3.43 seconds\n"
     ]
    },
    {
     "name": "stdout",
     "output_type": "stream",
     "text": [
      "aws s3 cp \"/shared/CSHL_SPM/sift_labelmap/MD585/MD585-IHC39-2015.08.19-14.10.09_MD585_1_0115_sift_labelmap.bp\" \"s3://mousebrainatlas-data/CSHL_SPM/sift_labelmap/MD585/MD585-IHC39-2015.08.19-14.10.09_MD585_1_0115_sift_labelmap.bp\"\n",
      "1145528 keypoints\n"
     ]
    },
    {
     "name": "stderr",
     "output_type": "stream",
     "text": [
      "compute vocab: 0.00 seconds\n",
      "predict: 2.43 seconds\n"
     ]
    },
    {
     "name": "stdout",
     "output_type": "stream",
     "text": [
      "aws s3 cp \"/shared/CSHL_SPM/sift_labelmap/MD585/MD585-N39-2015.07.16-22.09.19_MD585_2_0116_sift_labelmap.bp\" \"s3://mousebrainatlas-data/CSHL_SPM/sift_labelmap/MD585/MD585-N39-2015.07.16-22.09.19_MD585_2_0116_sift_labelmap.bp\"\n",
      "1617332 keypoints\n"
     ]
    },
    {
     "name": "stderr",
     "output_type": "stream",
     "text": [
      "compute vocab: 0.00 seconds\n",
      "predict: 3.06 seconds\n"
     ]
    },
    {
     "name": "stdout",
     "output_type": "stream",
     "text": [
      "aws s3 cp \"/shared/CSHL_SPM/sift_labelmap/MD585/MD585-IHC39-2015.08.19-14.10.09_MD585_2_0116_sift_labelmap.bp\" \"s3://mousebrainatlas-data/CSHL_SPM/sift_labelmap/MD585/MD585-IHC39-2015.08.19-14.10.09_MD585_2_0116_sift_labelmap.bp\"\n",
      "1080259 keypoints\n"
     ]
    },
    {
     "name": "stderr",
     "output_type": "stream",
     "text": [
      "compute vocab: 0.00 seconds\n",
      "predict: 2.02 seconds\n"
     ]
    },
    {
     "name": "stdout",
     "output_type": "stream",
     "text": [
      "aws s3 cp \"/shared/CSHL_SPM/sift_labelmap/MD585/MD585-N39-2015.07.16-22.09.19_MD585_3_0117_sift_labelmap.bp\" \"s3://mousebrainatlas-data/CSHL_SPM/sift_labelmap/MD585/MD585-N39-2015.07.16-22.09.19_MD585_3_0117_sift_labelmap.bp\"\n",
      "1476379 keypoints\n"
     ]
    },
    {
     "name": "stderr",
     "output_type": "stream",
     "text": [
      "compute vocab: 0.00 seconds\n",
      "predict: 2.80 seconds\n"
     ]
    },
    {
     "name": "stdout",
     "output_type": "stream",
     "text": [
      "aws s3 cp \"/shared/CSHL_SPM/sift_labelmap/MD585/MD585-IHC39-2015.08.19-14.10.09_MD585_3_0117_sift_labelmap.bp\" \"s3://mousebrainatlas-data/CSHL_SPM/sift_labelmap/MD585/MD585-IHC39-2015.08.19-14.10.09_MD585_3_0117_sift_labelmap.bp\"\n",
      "1027758 keypoints\n"
     ]
    },
    {
     "name": "stderr",
     "output_type": "stream",
     "text": [
      "compute vocab: 0.00 seconds\n",
      "predict: 1.95 seconds\n"
     ]
    },
    {
     "name": "stdout",
     "output_type": "stream",
     "text": [
      "aws s3 cp \"/shared/CSHL_SPM/sift_labelmap/MD585/MD585-N40-2015.07.16-22.14.28_MD585_1_0118_sift_labelmap.bp\" \"s3://mousebrainatlas-data/CSHL_SPM/sift_labelmap/MD585/MD585-N40-2015.07.16-22.14.28_MD585_1_0118_sift_labelmap.bp\"\n",
      "1602213 keypoints\n"
     ]
    },
    {
     "name": "stderr",
     "output_type": "stream",
     "text": [
      "compute vocab: 0.00 seconds\n",
      "predict: 3.00 seconds\n"
     ]
    },
    {
     "name": "stdout",
     "output_type": "stream",
     "text": [
      "aws s3 cp \"/shared/CSHL_SPM/sift_labelmap/MD585/MD585-IHC40-2015.08.19-14.15.44_MD585_1_0118_sift_labelmap.bp\" \"s3://mousebrainatlas-data/CSHL_SPM/sift_labelmap/MD585/MD585-IHC40-2015.08.19-14.15.44_MD585_1_0118_sift_labelmap.bp\"\n",
      "1156397 keypoints\n"
     ]
    },
    {
     "name": "stderr",
     "output_type": "stream",
     "text": [
      "compute vocab: 0.00 seconds\n",
      "predict: 2.16 seconds\n"
     ]
    },
    {
     "name": "stdout",
     "output_type": "stream",
     "text": [
      "aws s3 cp \"/shared/CSHL_SPM/sift_labelmap/MD585/MD585-N40-2015.07.16-22.14.28_MD585_2_0119_sift_labelmap.bp\" \"s3://mousebrainatlas-data/CSHL_SPM/sift_labelmap/MD585/MD585-N40-2015.07.16-22.14.28_MD585_2_0119_sift_labelmap.bp\"\n",
      "1501552 keypoints\n"
     ]
    },
    {
     "name": "stderr",
     "output_type": "stream",
     "text": [
      "compute vocab: 0.00 seconds\n",
      "predict: 2.84 seconds\n"
     ]
    },
    {
     "name": "stdout",
     "output_type": "stream",
     "text": [
      "aws s3 cp \"/shared/CSHL_SPM/sift_labelmap/MD585/MD585-IHC40-2015.08.19-14.15.44_MD585_2_0119_sift_labelmap.bp\" \"s3://mousebrainatlas-data/CSHL_SPM/sift_labelmap/MD585/MD585-IHC40-2015.08.19-14.15.44_MD585_2_0119_sift_labelmap.bp\"\n",
      "951900 keypoints\n"
     ]
    },
    {
     "name": "stderr",
     "output_type": "stream",
     "text": [
      "compute vocab: 0.00 seconds\n",
      "predict: 1.81 seconds\n"
     ]
    },
    {
     "name": "stdout",
     "output_type": "stream",
     "text": [
      "aws s3 cp \"/shared/CSHL_SPM/sift_labelmap/MD585/MD585-N40-2015.07.16-22.14.28_MD585_3_0120_sift_labelmap.bp\" \"s3://mousebrainatlas-data/CSHL_SPM/sift_labelmap/MD585/MD585-N40-2015.07.16-22.14.28_MD585_3_0120_sift_labelmap.bp\"\n",
      "1677400 keypoints\n"
     ]
    },
    {
     "name": "stderr",
     "output_type": "stream",
     "text": [
      "compute vocab: 0.00 seconds\n",
      "predict: 3.17 seconds\n"
     ]
    },
    {
     "name": "stdout",
     "output_type": "stream",
     "text": [
      "aws s3 cp \"/shared/CSHL_SPM/sift_labelmap/MD585/MD585-IHC40-2015.08.19-14.15.44_MD585_3_0120_sift_labelmap.bp\" \"s3://mousebrainatlas-data/CSHL_SPM/sift_labelmap/MD585/MD585-IHC40-2015.08.19-14.15.44_MD585_3_0120_sift_labelmap.bp\"\n",
      "1107416 keypoints\n"
     ]
    },
    {
     "name": "stderr",
     "output_type": "stream",
     "text": [
      "compute vocab: 0.00 seconds\n",
      "predict: 2.08 seconds\n"
     ]
    },
    {
     "name": "stdout",
     "output_type": "stream",
     "text": [
      "aws s3 cp \"/shared/CSHL_SPM/sift_labelmap/MD585/MD585-N41-2015.07.16-22.19.30_MD585_1_0121_sift_labelmap.bp\" \"s3://mousebrainatlas-data/CSHL_SPM/sift_labelmap/MD585/MD585-N41-2015.07.16-22.19.30_MD585_1_0121_sift_labelmap.bp\"\n",
      "1970766 keypoints\n"
     ]
    },
    {
     "name": "stderr",
     "output_type": "stream",
     "text": [
      "compute vocab: 0.00 seconds\n",
      "predict: 3.69 seconds\n"
     ]
    },
    {
     "name": "stdout",
     "output_type": "stream",
     "text": [
      "aws s3 cp \"/shared/CSHL_SPM/sift_labelmap/MD585/MD585-IHC41-2015.08.19-14.21.09_MD585_1_0121_sift_labelmap.bp\" \"s3://mousebrainatlas-data/CSHL_SPM/sift_labelmap/MD585/MD585-IHC41-2015.08.19-14.21.09_MD585_1_0121_sift_labelmap.bp\"\n",
      "1155490 keypoints\n"
     ]
    },
    {
     "name": "stderr",
     "output_type": "stream",
     "text": [
      "compute vocab: 0.00 seconds\n",
      "predict: 2.17 seconds\n"
     ]
    },
    {
     "name": "stdout",
     "output_type": "stream",
     "text": [
      "aws s3 cp \"/shared/CSHL_SPM/sift_labelmap/MD585/MD585-N41-2015.07.16-22.19.30_MD585_2_0122_sift_labelmap.bp\" \"s3://mousebrainatlas-data/CSHL_SPM/sift_labelmap/MD585/MD585-N41-2015.07.16-22.19.30_MD585_2_0122_sift_labelmap.bp\"\n",
      "1727378 keypoints\n"
     ]
    },
    {
     "name": "stderr",
     "output_type": "stream",
     "text": [
      "compute vocab: 0.00 seconds\n",
      "predict: 3.49 seconds\n"
     ]
    },
    {
     "name": "stdout",
     "output_type": "stream",
     "text": [
      "aws s3 cp \"/shared/CSHL_SPM/sift_labelmap/MD585/MD585-IHC41-2015.08.19-14.21.09_MD585_2_0122_sift_labelmap.bp\" \"s3://mousebrainatlas-data/CSHL_SPM/sift_labelmap/MD585/MD585-IHC41-2015.08.19-14.21.09_MD585_2_0122_sift_labelmap.bp\"\n",
      "1167614 keypoints\n"
     ]
    },
    {
     "name": "stderr",
     "output_type": "stream",
     "text": [
      "compute vocab: 0.00 seconds\n",
      "predict: 3.40 seconds\n"
     ]
    },
    {
     "name": "stdout",
     "output_type": "stream",
     "text": [
      "aws s3 cp \"/shared/CSHL_SPM/sift_labelmap/MD585/MD585-N41-2015.07.16-22.19.30_MD585_3_0123_sift_labelmap.bp\" \"s3://mousebrainatlas-data/CSHL_SPM/sift_labelmap/MD585/MD585-N41-2015.07.16-22.19.30_MD585_3_0123_sift_labelmap.bp\"\n",
      "1763084 keypoints\n"
     ]
    },
    {
     "name": "stderr",
     "output_type": "stream",
     "text": [
      "compute vocab: 0.00 seconds\n",
      "predict: 4.78 seconds\n"
     ]
    },
    {
     "name": "stdout",
     "output_type": "stream",
     "text": [
      "aws s3 cp \"/shared/CSHL_SPM/sift_labelmap/MD585/MD585-IHC41-2015.08.19-14.21.09_MD585_3_0123_sift_labelmap.bp\" \"s3://mousebrainatlas-data/CSHL_SPM/sift_labelmap/MD585/MD585-IHC41-2015.08.19-14.21.09_MD585_3_0123_sift_labelmap.bp\"\n",
      "1141583 keypoints\n"
     ]
    },
    {
     "name": "stderr",
     "output_type": "stream",
     "text": [
      "compute vocab: 0.00 seconds\n",
      "predict: 3.27 seconds\n"
     ]
    },
    {
     "name": "stdout",
     "output_type": "stream",
     "text": [
      "aws s3 cp \"/shared/CSHL_SPM/sift_labelmap/MD585/MD585-N42-2015.07.16-22.24.42_MD585_1_0124_sift_labelmap.bp\" \"s3://mousebrainatlas-data/CSHL_SPM/sift_labelmap/MD585/MD585-N42-2015.07.16-22.24.42_MD585_1_0124_sift_labelmap.bp\"\n",
      "1308761 keypoints\n"
     ]
    },
    {
     "name": "stderr",
     "output_type": "stream",
     "text": [
      "compute vocab: 0.00 seconds\n",
      "predict: 3.94 seconds\n"
     ]
    },
    {
     "name": "stdout",
     "output_type": "stream",
     "text": [
      "aws s3 cp \"/shared/CSHL_SPM/sift_labelmap/MD585/MD585-IHC42-2015.08.19-14.26.30_MD585_1_0124_sift_labelmap.bp\" \"s3://mousebrainatlas-data/CSHL_SPM/sift_labelmap/MD585/MD585-IHC42-2015.08.19-14.26.30_MD585_1_0124_sift_labelmap.bp\"\n",
      "1195500 keypoints\n"
     ]
    },
    {
     "name": "stderr",
     "output_type": "stream",
     "text": [
      "compute vocab: 0.00 seconds\n",
      "predict: 2.98 seconds\n"
     ]
    },
    {
     "name": "stdout",
     "output_type": "stream",
     "text": [
      "aws s3 cp \"/shared/CSHL_SPM/sift_labelmap/MD585/MD585-N42-2015.07.16-22.24.42_MD585_2_0125_sift_labelmap.bp\" \"s3://mousebrainatlas-data/CSHL_SPM/sift_labelmap/MD585/MD585-N42-2015.07.16-22.24.42_MD585_2_0125_sift_labelmap.bp\"\n",
      "1622275 keypoints\n"
     ]
    },
    {
     "name": "stderr",
     "output_type": "stream",
     "text": [
      "compute vocab: 0.00 seconds\n",
      "predict: 3.28 seconds\n"
     ]
    },
    {
     "name": "stdout",
     "output_type": "stream",
     "text": [
      "aws s3 cp \"/shared/CSHL_SPM/sift_labelmap/MD585/MD585-IHC42-2015.08.19-14.26.30_MD585_2_0125_sift_labelmap.bp\" \"s3://mousebrainatlas-data/CSHL_SPM/sift_labelmap/MD585/MD585-IHC42-2015.08.19-14.26.30_MD585_2_0125_sift_labelmap.bp\"\n",
      "1180354 keypoints\n"
     ]
    },
    {
     "name": "stderr",
     "output_type": "stream",
     "text": [
      "compute vocab: 0.00 seconds\n",
      "predict: 2.23 seconds\n"
     ]
    },
    {
     "name": "stdout",
     "output_type": "stream",
     "text": [
      "aws s3 cp \"/shared/CSHL_SPM/sift_labelmap/MD585/MD585-N42-2015.07.16-22.24.42_MD585_3_0126_sift_labelmap.bp\" \"s3://mousebrainatlas-data/CSHL_SPM/sift_labelmap/MD585/MD585-N42-2015.07.16-22.24.42_MD585_3_0126_sift_labelmap.bp\"\n",
      "1689851 keypoints\n"
     ]
    },
    {
     "name": "stderr",
     "output_type": "stream",
     "text": [
      "compute vocab: 0.00 seconds\n",
      "predict: 3.18 seconds\n"
     ]
    },
    {
     "name": "stdout",
     "output_type": "stream",
     "text": [
      "aws s3 cp \"/shared/CSHL_SPM/sift_labelmap/MD585/MD585-IHC42-2015.08.19-14.26.30_MD585_3_0126_sift_labelmap.bp\" \"s3://mousebrainatlas-data/CSHL_SPM/sift_labelmap/MD585/MD585-IHC42-2015.08.19-14.26.30_MD585_3_0126_sift_labelmap.bp\"\n",
      "1002124 keypoints\n"
     ]
    },
    {
     "name": "stderr",
     "output_type": "stream",
     "text": [
      "compute vocab: 0.00 seconds\n",
      "predict: 1.92 seconds\n"
     ]
    },
    {
     "name": "stdout",
     "output_type": "stream",
     "text": [
      "aws s3 cp \"/shared/CSHL_SPM/sift_labelmap/MD585/MD585-N43-2015.07.16-22.29.50_MD585_1_0127_sift_labelmap.bp\" \"s3://mousebrainatlas-data/CSHL_SPM/sift_labelmap/MD585/MD585-N43-2015.07.16-22.29.50_MD585_1_0127_sift_labelmap.bp\"\n",
      "1682222 keypoints\n"
     ]
    },
    {
     "name": "stderr",
     "output_type": "stream",
     "text": [
      "compute vocab: 0.00 seconds\n",
      "predict: 3.16 seconds\n"
     ]
    },
    {
     "name": "stdout",
     "output_type": "stream",
     "text": [
      "aws s3 cp \"/shared/CSHL_SPM/sift_labelmap/MD585/MD585-IHC43-2015.08.19-14.32.02_MD585_1_0127_sift_labelmap.bp\" \"s3://mousebrainatlas-data/CSHL_SPM/sift_labelmap/MD585/MD585-IHC43-2015.08.19-14.32.02_MD585_1_0127_sift_labelmap.bp\"\n",
      "1105864 keypoints\n"
     ]
    },
    {
     "name": "stderr",
     "output_type": "stream",
     "text": [
      "compute vocab: 0.00 seconds\n",
      "predict: 2.07 seconds\n"
     ]
    },
    {
     "name": "stdout",
     "output_type": "stream",
     "text": [
      "aws s3 cp \"/shared/CSHL_SPM/sift_labelmap/MD585/MD585-N43-2015.07.16-22.29.50_MD585_2_0128_sift_labelmap.bp\" \"s3://mousebrainatlas-data/CSHL_SPM/sift_labelmap/MD585/MD585-N43-2015.07.16-22.29.50_MD585_2_0128_sift_labelmap.bp\"\n",
      "1478305 keypoints\n"
     ]
    },
    {
     "name": "stderr",
     "output_type": "stream",
     "text": [
      "compute vocab: 0.00 seconds\n",
      "predict: 2.79 seconds\n"
     ]
    },
    {
     "name": "stdout",
     "output_type": "stream",
     "text": [
      "aws s3 cp \"/shared/CSHL_SPM/sift_labelmap/MD585/MD585-IHC43-2015.08.19-14.32.02_MD585_2_0128_sift_labelmap.bp\" \"s3://mousebrainatlas-data/CSHL_SPM/sift_labelmap/MD585/MD585-IHC43-2015.08.19-14.32.02_MD585_2_0128_sift_labelmap.bp\"\n",
      "1141760 keypoints\n"
     ]
    },
    {
     "name": "stderr",
     "output_type": "stream",
     "text": [
      "compute vocab: 0.00 seconds\n",
      "predict: 2.14 seconds\n"
     ]
    },
    {
     "name": "stdout",
     "output_type": "stream",
     "text": [
      "aws s3 cp \"/shared/CSHL_SPM/sift_labelmap/MD585/MD585-N43-2015.07.16-22.29.50_MD585_3_0129_sift_labelmap.bp\" \"s3://mousebrainatlas-data/CSHL_SPM/sift_labelmap/MD585/MD585-N43-2015.07.16-22.29.50_MD585_3_0129_sift_labelmap.bp\"\n",
      "1733238 keypoints\n"
     ]
    },
    {
     "name": "stderr",
     "output_type": "stream",
     "text": [
      "compute vocab: 0.00 seconds\n",
      "predict: 3.27 seconds\n"
     ]
    },
    {
     "name": "stdout",
     "output_type": "stream",
     "text": [
      "aws s3 cp \"/shared/CSHL_SPM/sift_labelmap/MD585/MD585-IHC43-2015.08.19-14.32.02_MD585_3_0129_sift_labelmap.bp\" \"s3://mousebrainatlas-data/CSHL_SPM/sift_labelmap/MD585/MD585-IHC43-2015.08.19-14.32.02_MD585_3_0129_sift_labelmap.bp\"\n",
      "1064561 keypoints\n"
     ]
    },
    {
     "name": "stderr",
     "output_type": "stream",
     "text": [
      "compute vocab: 0.00 seconds\n",
      "predict: 2.06 seconds\n"
     ]
    },
    {
     "name": "stdout",
     "output_type": "stream",
     "text": [
      "aws s3 cp \"/shared/CSHL_SPM/sift_labelmap/MD585/MD585-N44-2015.07.16-22.35.02_MD585_1_0130_sift_labelmap.bp\" \"s3://mousebrainatlas-data/CSHL_SPM/sift_labelmap/MD585/MD585-N44-2015.07.16-22.35.02_MD585_1_0130_sift_labelmap.bp\"\n",
      "1687228 keypoints\n"
     ]
    },
    {
     "name": "stderr",
     "output_type": "stream",
     "text": [
      "compute vocab: 0.00 seconds\n",
      "predict: 3.19 seconds\n"
     ]
    },
    {
     "name": "stdout",
     "output_type": "stream",
     "text": [
      "aws s3 cp \"/shared/CSHL_SPM/sift_labelmap/MD585/MD585-IHC44-2015.08.19-14.37.23_MD585_1_0130_sift_labelmap.bp\" \"s3://mousebrainatlas-data/CSHL_SPM/sift_labelmap/MD585/MD585-IHC44-2015.08.19-14.37.23_MD585_1_0130_sift_labelmap.bp\"\n",
      "1110659 keypoints\n"
     ]
    },
    {
     "name": "stderr",
     "output_type": "stream",
     "text": [
      "compute vocab: 0.00 seconds\n",
      "predict: 2.09 seconds\n"
     ]
    },
    {
     "name": "stdout",
     "output_type": "stream",
     "text": [
      "aws s3 cp \"/shared/CSHL_SPM/sift_labelmap/MD585/MD585-N44-2015.07.16-22.35.02_MD585_2_0131_sift_labelmap.bp\" \"s3://mousebrainatlas-data/CSHL_SPM/sift_labelmap/MD585/MD585-N44-2015.07.16-22.35.02_MD585_2_0131_sift_labelmap.bp\"\n",
      "1627168 keypoints\n"
     ]
    },
    {
     "name": "stderr",
     "output_type": "stream",
     "text": [
      "compute vocab: 0.00 seconds\n",
      "predict: 3.06 seconds\n"
     ]
    },
    {
     "name": "stdout",
     "output_type": "stream",
     "text": [
      "aws s3 cp \"/shared/CSHL_SPM/sift_labelmap/MD585/MD585-IHC44-2015.08.19-14.37.23_MD585_2_0131_sift_labelmap.bp\" \"s3://mousebrainatlas-data/CSHL_SPM/sift_labelmap/MD585/MD585-IHC44-2015.08.19-14.37.23_MD585_2_0131_sift_labelmap.bp\"\n",
      "1121826 keypoints\n"
     ]
    },
    {
     "name": "stderr",
     "output_type": "stream",
     "text": [
      "compute vocab: 0.00 seconds\n",
      "predict: 2.12 seconds\n"
     ]
    },
    {
     "name": "stdout",
     "output_type": "stream",
     "text": [
      "aws s3 cp \"/shared/CSHL_SPM/sift_labelmap/MD585/MD585-N44-2015.07.16-22.35.02_MD585_3_0132_sift_labelmap.bp\" \"s3://mousebrainatlas-data/CSHL_SPM/sift_labelmap/MD585/MD585-N44-2015.07.16-22.35.02_MD585_3_0132_sift_labelmap.bp\"\n",
      "1659629 keypoints\n"
     ]
    },
    {
     "name": "stderr",
     "output_type": "stream",
     "text": [
      "compute vocab: 0.00 seconds\n",
      "predict: 3.11 seconds\n"
     ]
    },
    {
     "name": "stdout",
     "output_type": "stream",
     "text": [
      "aws s3 cp \"/shared/CSHL_SPM/sift_labelmap/MD585/MD585-IHC44-2015.08.19-14.37.23_MD585_3_0132_sift_labelmap.bp\" \"s3://mousebrainatlas-data/CSHL_SPM/sift_labelmap/MD585/MD585-IHC44-2015.08.19-14.37.23_MD585_3_0132_sift_labelmap.bp\"\n",
      "1209668 keypoints\n"
     ]
    },
    {
     "name": "stderr",
     "output_type": "stream",
     "text": [
      "compute vocab: 0.00 seconds\n",
      "predict: 2.30 seconds\n"
     ]
    },
    {
     "name": "stdout",
     "output_type": "stream",
     "text": [
      "aws s3 cp \"/shared/CSHL_SPM/sift_labelmap/MD585/MD585-N45-2015.07.16-22.40.26_MD585_1_0133_sift_labelmap.bp\" \"s3://mousebrainatlas-data/CSHL_SPM/sift_labelmap/MD585/MD585-N45-2015.07.16-22.40.26_MD585_1_0133_sift_labelmap.bp\"\n",
      "223426 keypoints\n"
     ]
    },
    {
     "name": "stderr",
     "output_type": "stream",
     "text": [
      "compute vocab: 0.00 seconds\n",
      "predict: 0.46 seconds\n"
     ]
    },
    {
     "name": "stdout",
     "output_type": "stream",
     "text": [
      "aws s3 cp \"/shared/CSHL_SPM/sift_labelmap/MD585/MD585-IHC45-2015.08.19-14.42.34_MD585_1_0133_sift_labelmap.bp\" \"s3://mousebrainatlas-data/CSHL_SPM/sift_labelmap/MD585/MD585-IHC45-2015.08.19-14.42.34_MD585_1_0133_sift_labelmap.bp\"\n",
      "1264785 keypoints\n"
     ]
    },
    {
     "name": "stderr",
     "output_type": "stream",
     "text": [
      "compute vocab: 0.00 seconds\n",
      "predict: 2.39 seconds\n"
     ]
    },
    {
     "name": "stdout",
     "output_type": "stream",
     "text": [
      "aws s3 cp \"/shared/CSHL_SPM/sift_labelmap/MD585/MD585-N45-2015.07.16-22.40.26_MD585_2_0134_sift_labelmap.bp\" \"s3://mousebrainatlas-data/CSHL_SPM/sift_labelmap/MD585/MD585-N45-2015.07.16-22.40.26_MD585_2_0134_sift_labelmap.bp\"\n",
      "309692 keypoints\n"
     ]
    },
    {
     "name": "stderr",
     "output_type": "stream",
     "text": [
      "compute vocab: 0.00 seconds\n",
      "predict: 0.60 seconds\n"
     ]
    },
    {
     "name": "stdout",
     "output_type": "stream",
     "text": [
      "aws s3 cp \"/shared/CSHL_SPM/sift_labelmap/MD585/MD585-IHC45-2015.08.19-14.42.34_MD585_2_0134_sift_labelmap.bp\" \"s3://mousebrainatlas-data/CSHL_SPM/sift_labelmap/MD585/MD585-IHC45-2015.08.19-14.42.34_MD585_2_0134_sift_labelmap.bp\"\n",
      "1227871 keypoints\n"
     ]
    },
    {
     "name": "stderr",
     "output_type": "stream",
     "text": [
      "compute vocab: 0.00 seconds\n",
      "predict: 2.34 seconds\n"
     ]
    },
    {
     "name": "stdout",
     "output_type": "stream",
     "text": [
      "aws s3 cp \"/shared/CSHL_SPM/sift_labelmap/MD585/MD585-N45-2015.07.16-22.40.26_MD585_3_0135_sift_labelmap.bp\" \"s3://mousebrainatlas-data/CSHL_SPM/sift_labelmap/MD585/MD585-N45-2015.07.16-22.40.26_MD585_3_0135_sift_labelmap.bp\"\n",
      "269442 keypoints\n"
     ]
    },
    {
     "name": "stderr",
     "output_type": "stream",
     "text": [
      "compute vocab: 0.00 seconds\n",
      "predict: 0.54 seconds\n"
     ]
    },
    {
     "name": "stdout",
     "output_type": "stream",
     "text": [
      "aws s3 cp \"/shared/CSHL_SPM/sift_labelmap/MD585/MD585-IHC45-2015.08.19-14.42.34_MD585_3_0135_sift_labelmap.bp\" \"s3://mousebrainatlas-data/CSHL_SPM/sift_labelmap/MD585/MD585-IHC45-2015.08.19-14.42.34_MD585_3_0135_sift_labelmap.bp\"\n",
      "1085628 keypoints\n"
     ]
    },
    {
     "name": "stderr",
     "output_type": "stream",
     "text": [
      "compute vocab: 0.00 seconds\n",
      "predict: 2.05 seconds\n"
     ]
    },
    {
     "name": "stdout",
     "output_type": "stream",
     "text": [
      "aws s3 cp \"/shared/CSHL_SPM/sift_labelmap/MD585/MD585-N46-2015.07.16-22.45.37_MD585_1_0136_sift_labelmap.bp\" \"s3://mousebrainatlas-data/CSHL_SPM/sift_labelmap/MD585/MD585-N46-2015.07.16-22.45.37_MD585_1_0136_sift_labelmap.bp\"\n",
      "1499849 keypoints\n"
     ]
    },
    {
     "name": "stderr",
     "output_type": "stream",
     "text": [
      "compute vocab: 0.00 seconds\n",
      "predict: 2.81 seconds\n"
     ]
    },
    {
     "name": "stdout",
     "output_type": "stream",
     "text": [
      "aws s3 cp \"/shared/CSHL_SPM/sift_labelmap/MD585/MD585-IHC46-2015.08.19-14.47.51_MD585_1_0136_sift_labelmap.bp\" \"s3://mousebrainatlas-data/CSHL_SPM/sift_labelmap/MD585/MD585-IHC46-2015.08.19-14.47.51_MD585_1_0136_sift_labelmap.bp\"\n",
      "1115025 keypoints\n"
     ]
    },
    {
     "name": "stderr",
     "output_type": "stream",
     "text": [
      "compute vocab: 0.00 seconds\n",
      "predict: 2.09 seconds\n"
     ]
    },
    {
     "name": "stdout",
     "output_type": "stream",
     "text": [
      "aws s3 cp \"/shared/CSHL_SPM/sift_labelmap/MD585/MD585-N46-2015.07.16-22.45.37_MD585_2_0137_sift_labelmap.bp\" \"s3://mousebrainatlas-data/CSHL_SPM/sift_labelmap/MD585/MD585-N46-2015.07.16-22.45.37_MD585_2_0137_sift_labelmap.bp\"\n",
      "1399172 keypoints\n"
     ]
    },
    {
     "name": "stderr",
     "output_type": "stream",
     "text": [
      "compute vocab: 0.00 seconds\n",
      "predict: 2.64 seconds\n"
     ]
    },
    {
     "name": "stdout",
     "output_type": "stream",
     "text": [
      "aws s3 cp \"/shared/CSHL_SPM/sift_labelmap/MD585/MD585-IHC46-2015.08.19-14.47.51_MD585_2_0137_sift_labelmap.bp\" \"s3://mousebrainatlas-data/CSHL_SPM/sift_labelmap/MD585/MD585-IHC46-2015.08.19-14.47.51_MD585_2_0137_sift_labelmap.bp\"\n",
      "1091203 keypoints\n"
     ]
    },
    {
     "name": "stderr",
     "output_type": "stream",
     "text": [
      "compute vocab: 0.00 seconds\n",
      "predict: 2.06 seconds\n"
     ]
    },
    {
     "name": "stdout",
     "output_type": "stream",
     "text": [
      "aws s3 cp \"/shared/CSHL_SPM/sift_labelmap/MD585/MD585-N46-2015.07.16-22.45.37_MD585_3_0138_sift_labelmap.bp\" \"s3://mousebrainatlas-data/CSHL_SPM/sift_labelmap/MD585/MD585-N46-2015.07.16-22.45.37_MD585_3_0138_sift_labelmap.bp\"\n",
      "1654115 keypoints\n"
     ]
    },
    {
     "name": "stderr",
     "output_type": "stream",
     "text": [
      "compute vocab: 0.00 seconds\n",
      "predict: 3.38 seconds\n"
     ]
    },
    {
     "name": "stdout",
     "output_type": "stream",
     "text": [
      "aws s3 cp \"/shared/CSHL_SPM/sift_labelmap/MD585/MD585-IHC46-2015.08.19-14.47.51_MD585_3_0138_sift_labelmap.bp\" \"s3://mousebrainatlas-data/CSHL_SPM/sift_labelmap/MD585/MD585-IHC46-2015.08.19-14.47.51_MD585_3_0138_sift_labelmap.bp\"\n",
      "962473 keypoints\n"
     ]
    },
    {
     "name": "stderr",
     "output_type": "stream",
     "text": [
      "compute vocab: 0.00 seconds\n",
      "predict: 1.81 seconds\n"
     ]
    },
    {
     "name": "stdout",
     "output_type": "stream",
     "text": [
      "aws s3 cp \"/shared/CSHL_SPM/sift_labelmap/MD585/MD585-N47-2015.07.16-22.50.52_MD585_1_0139_sift_labelmap.bp\" \"s3://mousebrainatlas-data/CSHL_SPM/sift_labelmap/MD585/MD585-N47-2015.07.16-22.50.52_MD585_1_0139_sift_labelmap.bp\"\n",
      "49506 keypoints\n"
     ]
    },
    {
     "name": "stderr",
     "output_type": "stream",
     "text": [
      "compute vocab: 0.00 seconds\n",
      "predict: 0.12 seconds\n"
     ]
    },
    {
     "name": "stdout",
     "output_type": "stream",
     "text": [
      "aws s3 cp \"/shared/CSHL_SPM/sift_labelmap/MD585/MD585-IHC47-2015.08.19-14.53.04_MD585_1_0139_sift_labelmap.bp\" \"s3://mousebrainatlas-data/CSHL_SPM/sift_labelmap/MD585/MD585-IHC47-2015.08.19-14.53.04_MD585_1_0139_sift_labelmap.bp\"\n",
      "1092173 keypoints\n"
     ]
    },
    {
     "name": "stderr",
     "output_type": "stream",
     "text": [
      "compute vocab: 0.00 seconds\n",
      "predict: 2.07 seconds\n"
     ]
    },
    {
     "name": "stdout",
     "output_type": "stream",
     "text": [
      "aws s3 cp \"/shared/CSHL_SPM/sift_labelmap/MD585/MD585-N47-2015.07.16-22.50.52_MD585_2_0140_sift_labelmap.bp\" \"s3://mousebrainatlas-data/CSHL_SPM/sift_labelmap/MD585/MD585-N47-2015.07.16-22.50.52_MD585_2_0140_sift_labelmap.bp\"\n",
      "354129 keypoints\n"
     ]
    },
    {
     "name": "stderr",
     "output_type": "stream",
     "text": [
      "compute vocab: 0.00 seconds\n",
      "predict: 0.74 seconds\n"
     ]
    },
    {
     "name": "stdout",
     "output_type": "stream",
     "text": [
      "aws s3 cp \"/shared/CSHL_SPM/sift_labelmap/MD585/MD585-IHC47-2015.08.19-14.53.04_MD585_2_0140_sift_labelmap.bp\" \"s3://mousebrainatlas-data/CSHL_SPM/sift_labelmap/MD585/MD585-IHC47-2015.08.19-14.53.04_MD585_2_0140_sift_labelmap.bp\"\n",
      "1104765 keypoints\n"
     ]
    },
    {
     "name": "stderr",
     "output_type": "stream",
     "text": [
      "compute vocab: 0.00 seconds\n",
      "predict: 2.11 seconds\n"
     ]
    },
    {
     "name": "stdout",
     "output_type": "stream",
     "text": [
      "aws s3 cp \"/shared/CSHL_SPM/sift_labelmap/MD585/MD585-N47-2015.07.16-22.50.52_MD585_3_0141_sift_labelmap.bp\" \"s3://mousebrainatlas-data/CSHL_SPM/sift_labelmap/MD585/MD585-N47-2015.07.16-22.50.52_MD585_3_0141_sift_labelmap.bp\"\n",
      "1268111 keypoints\n"
     ]
    },
    {
     "name": "stderr",
     "output_type": "stream",
     "text": [
      "compute vocab: 0.00 seconds\n",
      "predict: 2.38 seconds\n"
     ]
    },
    {
     "name": "stdout",
     "output_type": "stream",
     "text": [
      "aws s3 cp \"/shared/CSHL_SPM/sift_labelmap/MD585/MD585-IHC47-2015.08.19-14.53.04_MD585_3_0141_sift_labelmap.bp\" \"s3://mousebrainatlas-data/CSHL_SPM/sift_labelmap/MD585/MD585-IHC47-2015.08.19-14.53.04_MD585_3_0141_sift_labelmap.bp\"\n",
      "1039960 keypoints\n"
     ]
    },
    {
     "name": "stderr",
     "output_type": "stream",
     "text": [
      "compute vocab: 0.00 seconds\n",
      "predict: 1.96 seconds\n"
     ]
    },
    {
     "name": "stdout",
     "output_type": "stream",
     "text": [
      "aws s3 cp \"/shared/CSHL_SPM/sift_labelmap/MD585/MD585-N48-2015.07.16-22.56.02_MD585_1_0142_sift_labelmap.bp\" \"s3://mousebrainatlas-data/CSHL_SPM/sift_labelmap/MD585/MD585-N48-2015.07.16-22.56.02_MD585_1_0142_sift_labelmap.bp\"\n",
      "1127292 keypoints\n"
     ]
    },
    {
     "name": "stderr",
     "output_type": "stream",
     "text": [
      "compute vocab: 0.00 seconds\n",
      "predict: 2.12 seconds\n"
     ]
    },
    {
     "name": "stdout",
     "output_type": "stream",
     "text": [
      "aws s3 cp \"/shared/CSHL_SPM/sift_labelmap/MD585/MD585-IHC48-2015.08.19-14.58.14_MD585_1_0142_sift_labelmap.bp\" \"s3://mousebrainatlas-data/CSHL_SPM/sift_labelmap/MD585/MD585-IHC48-2015.08.19-14.58.14_MD585_1_0142_sift_labelmap.bp\"\n",
      "1065747 keypoints\n"
     ]
    },
    {
     "name": "stderr",
     "output_type": "stream",
     "text": [
      "compute vocab: 0.00 seconds\n",
      "predict: 2.02 seconds\n"
     ]
    },
    {
     "name": "stdout",
     "output_type": "stream",
     "text": [
      "aws s3 cp \"/shared/CSHL_SPM/sift_labelmap/MD585/MD585-N48-2015.07.16-22.56.02_MD585_2_0143_sift_labelmap.bp\" \"s3://mousebrainatlas-data/CSHL_SPM/sift_labelmap/MD585/MD585-N48-2015.07.16-22.56.02_MD585_2_0143_sift_labelmap.bp\"\n",
      "1436236 keypoints\n"
     ]
    },
    {
     "name": "stderr",
     "output_type": "stream",
     "text": [
      "compute vocab: 0.00 seconds\n",
      "predict: 2.70 seconds\n"
     ]
    },
    {
     "name": "stdout",
     "output_type": "stream",
     "text": [
      "aws s3 cp \"/shared/CSHL_SPM/sift_labelmap/MD585/MD585-IHC48-2015.08.19-14.58.14_MD585_2_0143_sift_labelmap.bp\" \"s3://mousebrainatlas-data/CSHL_SPM/sift_labelmap/MD585/MD585-IHC48-2015.08.19-14.58.14_MD585_2_0143_sift_labelmap.bp\"\n",
      "953826 keypoints\n"
     ]
    },
    {
     "name": "stderr",
     "output_type": "stream",
     "text": [
      "compute vocab: 0.00 seconds\n",
      "predict: 1.83 seconds\n"
     ]
    },
    {
     "name": "stdout",
     "output_type": "stream",
     "text": [
      "aws s3 cp \"/shared/CSHL_SPM/sift_labelmap/MD585/MD585-N48-2015.07.16-22.56.02_MD585_3_0144_sift_labelmap.bp\" \"s3://mousebrainatlas-data/CSHL_SPM/sift_labelmap/MD585/MD585-N48-2015.07.16-22.56.02_MD585_3_0144_sift_labelmap.bp\"\n",
      "1533520 keypoints\n"
     ]
    },
    {
     "name": "stderr",
     "output_type": "stream",
     "text": [
      "compute vocab: 0.00 seconds\n",
      "predict: 2.91 seconds\n"
     ]
    },
    {
     "name": "stdout",
     "output_type": "stream",
     "text": [
      "aws s3 cp \"/shared/CSHL_SPM/sift_labelmap/MD585/MD585-IHC48-2015.08.19-14.58.14_MD585_3_0144_sift_labelmap.bp\" \"s3://mousebrainatlas-data/CSHL_SPM/sift_labelmap/MD585/MD585-IHC48-2015.08.19-14.58.14_MD585_3_0144_sift_labelmap.bp\"\n",
      "992724 keypoints\n"
     ]
    },
    {
     "name": "stderr",
     "output_type": "stream",
     "text": [
      "compute vocab: 0.00 seconds\n",
      "predict: 1.89 seconds\n"
     ]
    },
    {
     "name": "stdout",
     "output_type": "stream",
     "text": [
      "aws s3 cp \"/shared/CSHL_SPM/sift_labelmap/MD585/MD585-N49-2015.07.16-23.01.02_MD585_1_0145_sift_labelmap.bp\" \"s3://mousebrainatlas-data/CSHL_SPM/sift_labelmap/MD585/MD585-N49-2015.07.16-23.01.02_MD585_1_0145_sift_labelmap.bp\"\n",
      "976882 keypoints\n"
     ]
    },
    {
     "name": "stderr",
     "output_type": "stream",
     "text": [
      "compute vocab: 0.00 seconds\n",
      "predict: 1.83 seconds\n"
     ]
    },
    {
     "name": "stdout",
     "output_type": "stream",
     "text": [
      "aws s3 cp \"/shared/CSHL_SPM/sift_labelmap/MD585/MD585-IHC49-2015.07.16-17.58.21_MD585_3_0147_sift_labelmap.bp\" \"s3://mousebrainatlas-data/CSHL_SPM/sift_labelmap/MD585/MD585-IHC49-2015.07.16-17.58.21_MD585_3_0147_sift_labelmap.bp\"\n",
      "1021205 keypoints\n"
     ]
    },
    {
     "name": "stderr",
     "output_type": "stream",
     "text": [
      "compute vocab: 0.00 seconds\n",
      "predict: 1.92 seconds\n"
     ]
    },
    {
     "name": "stdout",
     "output_type": "stream",
     "text": [
      "aws s3 cp \"/shared/CSHL_SPM/sift_labelmap/MD585/MD585-N49-2015.07.16-23.01.02_MD585_2_0146_sift_labelmap.bp\" \"s3://mousebrainatlas-data/CSHL_SPM/sift_labelmap/MD585/MD585-N49-2015.07.16-23.01.02_MD585_2_0146_sift_labelmap.bp\"\n",
      "979459 keypoints\n"
     ]
    },
    {
     "name": "stderr",
     "output_type": "stream",
     "text": [
      "compute vocab: 0.00 seconds\n",
      "predict: 1.86 seconds\n"
     ]
    },
    {
     "name": "stdout",
     "output_type": "stream",
     "text": [
      "aws s3 cp \"/shared/CSHL_SPM/sift_labelmap/MD585/MD585-IHC49-2015.07.16-17.58.21_MD585_2_0146_sift_labelmap.bp\" \"s3://mousebrainatlas-data/CSHL_SPM/sift_labelmap/MD585/MD585-IHC49-2015.07.16-17.58.21_MD585_2_0146_sift_labelmap.bp\"\n",
      "976574 keypoints\n"
     ]
    },
    {
     "name": "stderr",
     "output_type": "stream",
     "text": [
      "compute vocab: 0.00 seconds\n",
      "predict: 1.82 seconds\n"
     ]
    },
    {
     "name": "stdout",
     "output_type": "stream",
     "text": [
      "aws s3 cp \"/shared/CSHL_SPM/sift_labelmap/MD585/MD585-N49-2015.07.16-23.01.02_MD585_3_0147_sift_labelmap.bp\" \"s3://mousebrainatlas-data/CSHL_SPM/sift_labelmap/MD585/MD585-N49-2015.07.16-23.01.02_MD585_3_0147_sift_labelmap.bp\"\n",
      "944115 keypoints\n"
     ]
    },
    {
     "name": "stderr",
     "output_type": "stream",
     "text": [
      "compute vocab: 0.00 seconds\n",
      "predict: 1.76 seconds\n"
     ]
    },
    {
     "name": "stdout",
     "output_type": "stream",
     "text": [
      "aws s3 cp \"/shared/CSHL_SPM/sift_labelmap/MD585/MD585-IHC49-2015.07.16-17.58.21_MD585_1_0145_sift_labelmap.bp\" \"s3://mousebrainatlas-data/CSHL_SPM/sift_labelmap/MD585/MD585-IHC49-2015.07.16-17.58.21_MD585_1_0145_sift_labelmap.bp\"\n",
      "896083 keypoints\n"
     ]
    },
    {
     "name": "stderr",
     "output_type": "stream",
     "text": [
      "compute vocab: 0.00 seconds\n",
      "predict: 1.69 seconds\n"
     ]
    },
    {
     "name": "stdout",
     "output_type": "stream",
     "text": [
      "aws s3 cp \"/shared/CSHL_SPM/sift_labelmap/MD585/MD585-N50-2015.07.16-23.05.49_MD585_1_0148_sift_labelmap.bp\" \"s3://mousebrainatlas-data/CSHL_SPM/sift_labelmap/MD585/MD585-N50-2015.07.16-23.05.49_MD585_1_0148_sift_labelmap.bp\"\n",
      "931945 keypoints\n"
     ]
    },
    {
     "name": "stderr",
     "output_type": "stream",
     "text": [
      "compute vocab: 0.00 seconds\n",
      "predict: 1.76 seconds\n"
     ]
    },
    {
     "name": "stdout",
     "output_type": "stream",
     "text": [
      "aws s3 cp \"/shared/CSHL_SPM/sift_labelmap/MD585/MD585-IHC50-2015.07.16-18.02.54_MD585_3_0150_sift_labelmap.bp\" \"s3://mousebrainatlas-data/CSHL_SPM/sift_labelmap/MD585/MD585-IHC50-2015.07.16-18.02.54_MD585_3_0150_sift_labelmap.bp\"\n",
      "970356 keypoints\n"
     ]
    },
    {
     "name": "stderr",
     "output_type": "stream",
     "text": [
      "compute vocab: 0.00 seconds\n",
      "predict: 1.85 seconds\n"
     ]
    },
    {
     "name": "stdout",
     "output_type": "stream",
     "text": [
      "aws s3 cp \"/shared/CSHL_SPM/sift_labelmap/MD585/MD585-N50-2015.07.16-23.05.49_MD585_2_0149_sift_labelmap.bp\" \"s3://mousebrainatlas-data/CSHL_SPM/sift_labelmap/MD585/MD585-N50-2015.07.16-23.05.49_MD585_2_0149_sift_labelmap.bp\"\n",
      "895867 keypoints\n"
     ]
    },
    {
     "name": "stderr",
     "output_type": "stream",
     "text": [
      "compute vocab: 0.00 seconds\n",
      "predict: 1.73 seconds\n"
     ]
    },
    {
     "name": "stdout",
     "output_type": "stream",
     "text": [
      "aws s3 cp \"/shared/CSHL_SPM/sift_labelmap/MD585/MD585-IHC50-2015.07.16-18.02.54_MD585_2_0149_sift_labelmap.bp\" \"s3://mousebrainatlas-data/CSHL_SPM/sift_labelmap/MD585/MD585-IHC50-2015.07.16-18.02.54_MD585_2_0149_sift_labelmap.bp\"\n",
      "917538 keypoints\n"
     ]
    },
    {
     "name": "stderr",
     "output_type": "stream",
     "text": [
      "compute vocab: 0.00 seconds\n",
      "predict: 1.78 seconds\n"
     ]
    },
    {
     "name": "stdout",
     "output_type": "stream",
     "text": [
      "aws s3 cp \"/shared/CSHL_SPM/sift_labelmap/MD585/MD585-N50-2015.07.16-23.05.49_MD585_3_0150_sift_labelmap.bp\" \"s3://mousebrainatlas-data/CSHL_SPM/sift_labelmap/MD585/MD585-N50-2015.07.16-23.05.49_MD585_3_0150_sift_labelmap.bp\"\n",
      "903579 keypoints\n"
     ]
    },
    {
     "name": "stderr",
     "output_type": "stream",
     "text": [
      "compute vocab: 0.00 seconds\n",
      "predict: 1.73 seconds\n"
     ]
    },
    {
     "name": "stdout",
     "output_type": "stream",
     "text": [
      "aws s3 cp \"/shared/CSHL_SPM/sift_labelmap/MD585/MD585-IHC50-2015.07.16-18.02.54_MD585_1_0148_sift_labelmap.bp\" \"s3://mousebrainatlas-data/CSHL_SPM/sift_labelmap/MD585/MD585-IHC50-2015.07.16-18.02.54_MD585_1_0148_sift_labelmap.bp\"\n",
      "902582 keypoints\n"
     ]
    },
    {
     "name": "stderr",
     "output_type": "stream",
     "text": [
      "compute vocab: 0.00 seconds\n",
      "predict: 1.71 seconds\n"
     ]
    },
    {
     "name": "stdout",
     "output_type": "stream",
     "text": [
      "aws s3 cp \"/shared/CSHL_SPM/sift_labelmap/MD585/MD585-N51-2015.07.16-23.10.35_MD585_1_0151_sift_labelmap.bp\" \"s3://mousebrainatlas-data/CSHL_SPM/sift_labelmap/MD585/MD585-N51-2015.07.16-23.10.35_MD585_1_0151_sift_labelmap.bp\"\n",
      "271905 keypoints\n"
     ]
    },
    {
     "name": "stderr",
     "output_type": "stream",
     "text": [
      "compute vocab: 0.00 seconds\n",
      "predict: 0.53 seconds\n"
     ]
    },
    {
     "name": "stdout",
     "output_type": "stream",
     "text": [
      "aws s3 cp \"/shared/CSHL_SPM/sift_labelmap/MD585/MD585-IHC51-2015.08.19-15.03.10_MD585_1_0151_sift_labelmap.bp\" \"s3://mousebrainatlas-data/CSHL_SPM/sift_labelmap/MD585/MD585-IHC51-2015.08.19-15.03.10_MD585_1_0151_sift_labelmap.bp\"\n",
      "932768 keypoints\n"
     ]
    },
    {
     "name": "stderr",
     "output_type": "stream",
     "text": [
      "compute vocab: 0.00 seconds\n",
      "predict: 1.76 seconds\n"
     ]
    },
    {
     "name": "stdout",
     "output_type": "stream",
     "text": [
      "aws s3 cp \"/shared/CSHL_SPM/sift_labelmap/MD585/MD585-N51-2015.07.16-23.10.35_MD585_2_0152_sift_labelmap.bp\" \"s3://mousebrainatlas-data/CSHL_SPM/sift_labelmap/MD585/MD585-N51-2015.07.16-23.10.35_MD585_2_0152_sift_labelmap.bp\"\n",
      "847072 keypoints\n"
     ]
    },
    {
     "name": "stderr",
     "output_type": "stream",
     "text": [
      "compute vocab: 0.00 seconds\n",
      "predict: 1.60 seconds\n"
     ]
    },
    {
     "name": "stdout",
     "output_type": "stream",
     "text": [
      "aws s3 cp \"/shared/CSHL_SPM/sift_labelmap/MD585/MD585-IHC51-2015.08.19-15.03.10_MD585_2_0152_sift_labelmap.bp\" \"s3://mousebrainatlas-data/CSHL_SPM/sift_labelmap/MD585/MD585-IHC51-2015.08.19-15.03.10_MD585_2_0152_sift_labelmap.bp\"\n",
      "907196 keypoints\n"
     ]
    },
    {
     "name": "stderr",
     "output_type": "stream",
     "text": [
      "compute vocab: 0.00 seconds\n",
      "predict: 1.71 seconds\n"
     ]
    },
    {
     "name": "stdout",
     "output_type": "stream",
     "text": [
      "aws s3 cp \"/shared/CSHL_SPM/sift_labelmap/MD585/MD585-N51-2015.07.16-23.10.35_MD585_3_0153_sift_labelmap.bp\" \"s3://mousebrainatlas-data/CSHL_SPM/sift_labelmap/MD585/MD585-N51-2015.07.16-23.10.35_MD585_3_0153_sift_labelmap.bp\"\n",
      "1214833 keypoints\n"
     ]
    },
    {
     "name": "stderr",
     "output_type": "stream",
     "text": [
      "compute vocab: 0.00 seconds\n",
      "predict: 2.30 seconds\n"
     ]
    },
    {
     "name": "stdout",
     "output_type": "stream",
     "text": [
      "aws s3 cp \"/shared/CSHL_SPM/sift_labelmap/MD585/MD585-IHC51-2015.08.19-15.03.10_MD585_3_0153_sift_labelmap.bp\" \"s3://mousebrainatlas-data/CSHL_SPM/sift_labelmap/MD585/MD585-IHC51-2015.08.19-15.03.10_MD585_3_0153_sift_labelmap.bp\"\n",
      "1219160 keypoints\n"
     ]
    },
    {
     "name": "stderr",
     "output_type": "stream",
     "text": [
      "compute vocab: 0.00 seconds\n",
      "predict: 2.36 seconds\n"
     ]
    },
    {
     "name": "stdout",
     "output_type": "stream",
     "text": [
      "aws s3 cp \"/shared/CSHL_SPM/sift_labelmap/MD585/MD585-N52-2015.08.19-16.12.22_MD585_1_0154_sift_labelmap.bp\" \"s3://mousebrainatlas-data/CSHL_SPM/sift_labelmap/MD585/MD585-N52-2015.08.19-16.12.22_MD585_1_0154_sift_labelmap.bp\"\n",
      "1060598 keypoints\n"
     ]
    },
    {
     "name": "stderr",
     "output_type": "stream",
     "text": [
      "compute vocab: 0.00 seconds\n",
      "predict: 2.02 seconds\n"
     ]
    },
    {
     "name": "stdout",
     "output_type": "stream",
     "text": [
      "aws s3 cp \"/shared/CSHL_SPM/sift_labelmap/MD585/MD585-IHC52-2015.08.19-15.07.35_MD585_1_0154_sift_labelmap.bp\" \"s3://mousebrainatlas-data/CSHL_SPM/sift_labelmap/MD585/MD585-IHC52-2015.08.19-15.07.35_MD585_1_0154_sift_labelmap.bp\"\n",
      "1287181 keypoints\n"
     ]
    },
    {
     "name": "stderr",
     "output_type": "stream",
     "text": [
      "compute vocab: 0.00 seconds\n",
      "predict: 2.44 seconds\n"
     ]
    },
    {
     "name": "stdout",
     "output_type": "stream",
     "text": [
      "aws s3 cp \"/shared/CSHL_SPM/sift_labelmap/MD585/MD585-N52-2015.08.19-16.12.22_MD585_2_0155_sift_labelmap.bp\" \"s3://mousebrainatlas-data/CSHL_SPM/sift_labelmap/MD585/MD585-N52-2015.08.19-16.12.22_MD585_2_0155_sift_labelmap.bp\"\n",
      "1179936 keypoints\n"
     ]
    },
    {
     "name": "stderr",
     "output_type": "stream",
     "text": [
      "compute vocab: 0.00 seconds\n",
      "predict: 2.25 seconds\n"
     ]
    },
    {
     "name": "stdout",
     "output_type": "stream",
     "text": [
      "aws s3 cp \"/shared/CSHL_SPM/sift_labelmap/MD585/MD585-IHC52-2015.08.19-15.07.35_MD585_2_0155_sift_labelmap.bp\" \"s3://mousebrainatlas-data/CSHL_SPM/sift_labelmap/MD585/MD585-IHC52-2015.08.19-15.07.35_MD585_2_0155_sift_labelmap.bp\"\n",
      "821544 keypoints\n"
     ]
    },
    {
     "name": "stderr",
     "output_type": "stream",
     "text": [
      "compute vocab: 0.00 seconds\n",
      "predict: 1.58 seconds\n"
     ]
    },
    {
     "name": "stdout",
     "output_type": "stream",
     "text": [
      "aws s3 cp \"/shared/CSHL_SPM/sift_labelmap/MD585/MD585-IHC52-2015.08.19-15.07.35_MD585_3_0156_sift_labelmap.bp\" \"s3://mousebrainatlas-data/CSHL_SPM/sift_labelmap/MD585/MD585-IHC52-2015.08.19-15.07.35_MD585_3_0156_sift_labelmap.bp\"\n",
      "1222934 keypoints\n"
     ]
    },
    {
     "name": "stderr",
     "output_type": "stream",
     "text": [
      "compute vocab: 0.00 seconds\n",
      "predict: 2.32 seconds\n"
     ]
    },
    {
     "name": "stdout",
     "output_type": "stream",
     "text": [
      "aws s3 cp \"/shared/CSHL_SPM/sift_labelmap/MD585/MD585-N53-2015.08.19-16.16.47_MD585_1_0157_sift_labelmap.bp\" \"s3://mousebrainatlas-data/CSHL_SPM/sift_labelmap/MD585/MD585-N53-2015.08.19-16.16.47_MD585_1_0157_sift_labelmap.bp\"\n",
      "1200146 keypoints\n"
     ]
    },
    {
     "name": "stderr",
     "output_type": "stream",
     "text": [
      "compute vocab: 0.00 seconds\n",
      "predict: 2.25 seconds\n"
     ]
    },
    {
     "name": "stdout",
     "output_type": "stream",
     "text": [
      "aws s3 cp \"/shared/CSHL_SPM/sift_labelmap/MD585/MD585-IHC53-2015.08.19-15.12.08_MD585_1_0157_sift_labelmap.bp\" \"s3://mousebrainatlas-data/CSHL_SPM/sift_labelmap/MD585/MD585-IHC53-2015.08.19-15.12.08_MD585_1_0157_sift_labelmap.bp\"\n",
      "1111304 keypoints\n"
     ]
    },
    {
     "name": "stderr",
     "output_type": "stream",
     "text": [
      "compute vocab: 0.00 seconds\n",
      "predict: 2.08 seconds\n"
     ]
    },
    {
     "name": "stdout",
     "output_type": "stream",
     "text": [
      "aws s3 cp \"/shared/CSHL_SPM/sift_labelmap/MD585/MD585-N53-2015.08.19-16.16.47_MD585_2_0158_sift_labelmap.bp\" \"s3://mousebrainatlas-data/CSHL_SPM/sift_labelmap/MD585/MD585-N53-2015.08.19-16.16.47_MD585_2_0158_sift_labelmap.bp\"\n",
      "1097534 keypoints\n"
     ]
    },
    {
     "name": "stderr",
     "output_type": "stream",
     "text": [
      "compute vocab: 0.00 seconds\n",
      "predict: 2.07 seconds\n"
     ]
    },
    {
     "name": "stdout",
     "output_type": "stream",
     "text": [
      "aws s3 cp \"/shared/CSHL_SPM/sift_labelmap/MD585/MD585-IHC53-2015.08.19-15.12.08_MD585_2_0158_sift_labelmap.bp\" \"s3://mousebrainatlas-data/CSHL_SPM/sift_labelmap/MD585/MD585-IHC53-2015.08.19-15.12.08_MD585_2_0158_sift_labelmap.bp\"\n",
      "1137968 keypoints\n"
     ]
    },
    {
     "name": "stderr",
     "output_type": "stream",
     "text": [
      "compute vocab: 0.00 seconds\n",
      "predict: 2.17 seconds\n"
     ]
    },
    {
     "name": "stdout",
     "output_type": "stream",
     "text": [
      "aws s3 cp \"/shared/CSHL_SPM/sift_labelmap/MD585/MD585-N53-2015.08.19-16.16.47_MD585_3_0159_sift_labelmap.bp\" \"s3://mousebrainatlas-data/CSHL_SPM/sift_labelmap/MD585/MD585-N53-2015.08.19-16.16.47_MD585_3_0159_sift_labelmap.bp\"\n",
      "1237578 keypoints\n"
     ]
    },
    {
     "name": "stderr",
     "output_type": "stream",
     "text": [
      "compute vocab: 0.00 seconds\n",
      "predict: 2.33 seconds\n"
     ]
    },
    {
     "name": "stdout",
     "output_type": "stream",
     "text": [
      "aws s3 cp \"/shared/CSHL_SPM/sift_labelmap/MD585/MD585-IHC53-2015.08.19-15.12.08_MD585_3_0159_sift_labelmap.bp\" \"s3://mousebrainatlas-data/CSHL_SPM/sift_labelmap/MD585/MD585-IHC53-2015.08.19-15.12.08_MD585_3_0159_sift_labelmap.bp\"\n",
      "1267496 keypoints\n"
     ]
    },
    {
     "name": "stderr",
     "output_type": "stream",
     "text": [
      "compute vocab: 0.00 seconds\n",
      "predict: 2.40 seconds\n"
     ]
    },
    {
     "name": "stdout",
     "output_type": "stream",
     "text": [
      "aws s3 cp \"/shared/CSHL_SPM/sift_labelmap/MD585/MD585-N54-2015.08.19-16.21.14_MD585_1_0160_sift_labelmap.bp\" \"s3://mousebrainatlas-data/CSHL_SPM/sift_labelmap/MD585/MD585-N54-2015.08.19-16.21.14_MD585_1_0160_sift_labelmap.bp\"\n",
      "1249391 keypoints\n"
     ]
    },
    {
     "name": "stderr",
     "output_type": "stream",
     "text": [
      "compute vocab: 0.00 seconds\n",
      "predict: 2.34 seconds\n"
     ]
    },
    {
     "name": "stdout",
     "output_type": "stream",
     "text": [
      "aws s3 cp \"/shared/CSHL_SPM/sift_labelmap/MD585/MD585-IHC54-2015.08.19-15.16.31_MD585_1_0160_sift_labelmap.bp\" \"s3://mousebrainatlas-data/CSHL_SPM/sift_labelmap/MD585/MD585-IHC54-2015.08.19-15.16.31_MD585_1_0160_sift_labelmap.bp\"\n",
      "1045878 keypoints\n"
     ]
    },
    {
     "name": "stderr",
     "output_type": "stream",
     "text": [
      "compute vocab: 0.00 seconds\n",
      "predict: 2.00 seconds\n"
     ]
    },
    {
     "name": "stdout",
     "output_type": "stream",
     "text": [
      "aws s3 cp \"/shared/CSHL_SPM/sift_labelmap/MD585/MD585-N54-2015.08.19-16.21.14_MD585_2_0161_sift_labelmap.bp\" \"s3://mousebrainatlas-data/CSHL_SPM/sift_labelmap/MD585/MD585-N54-2015.08.19-16.21.14_MD585_2_0161_sift_labelmap.bp\"\n",
      "1037143 keypoints\n"
     ]
    },
    {
     "name": "stderr",
     "output_type": "stream",
     "text": [
      "compute vocab: 0.00 seconds\n",
      "predict: 1.96 seconds\n"
     ]
    },
    {
     "name": "stdout",
     "output_type": "stream",
     "text": [
      "aws s3 cp \"/shared/CSHL_SPM/sift_labelmap/MD585/MD585-IHC54-2015.08.19-15.16.31_MD585_2_0161_sift_labelmap.bp\" \"s3://mousebrainatlas-data/CSHL_SPM/sift_labelmap/MD585/MD585-IHC54-2015.08.19-15.16.31_MD585_2_0161_sift_labelmap.bp\"\n",
      "1124624 keypoints\n"
     ]
    },
    {
     "name": "stderr",
     "output_type": "stream",
     "text": [
      "compute vocab: 0.00 seconds\n",
      "predict: 2.12 seconds\n"
     ]
    },
    {
     "name": "stdout",
     "output_type": "stream",
     "text": [
      "aws s3 cp \"/shared/CSHL_SPM/sift_labelmap/MD585/MD585-N54-2015.08.19-16.21.14_MD585_3_0162_sift_labelmap.bp\" \"s3://mousebrainatlas-data/CSHL_SPM/sift_labelmap/MD585/MD585-N54-2015.08.19-16.21.14_MD585_3_0162_sift_labelmap.bp\"\n",
      "1133442 keypoints\n"
     ]
    },
    {
     "name": "stderr",
     "output_type": "stream",
     "text": [
      "compute vocab: 0.00 seconds\n",
      "predict: 2.14 seconds\n"
     ]
    },
    {
     "name": "stdout",
     "output_type": "stream",
     "text": [
      "aws s3 cp \"/shared/CSHL_SPM/sift_labelmap/MD585/MD585-IHC54-2015.08.19-15.16.31_MD585_3_0162_sift_labelmap.bp\" \"s3://mousebrainatlas-data/CSHL_SPM/sift_labelmap/MD585/MD585-IHC54-2015.08.19-15.16.31_MD585_3_0162_sift_labelmap.bp\"\n",
      "1107695 keypoints\n"
     ]
    },
    {
     "name": "stderr",
     "output_type": "stream",
     "text": [
      "compute vocab: 0.00 seconds\n",
      "predict: 2.08 seconds\n"
     ]
    },
    {
     "name": "stdout",
     "output_type": "stream",
     "text": [
      "aws s3 cp \"/shared/CSHL_SPM/sift_labelmap/MD585/MD585-N55-2015.08.19-16.25.32_MD585_1_0163_sift_labelmap.bp\" \"s3://mousebrainatlas-data/CSHL_SPM/sift_labelmap/MD585/MD585-N55-2015.08.19-16.25.32_MD585_1_0163_sift_labelmap.bp\"\n",
      "1085742 keypoints\n"
     ]
    },
    {
     "name": "stderr",
     "output_type": "stream",
     "text": [
      "compute vocab: 0.00 seconds\n",
      "predict: 2.08 seconds\n"
     ]
    },
    {
     "name": "stdout",
     "output_type": "stream",
     "text": [
      "aws s3 cp \"/shared/CSHL_SPM/sift_labelmap/MD585/MD585-IHC55-2015.08.19-15.21.01_MD585_1_0163_sift_labelmap.bp\" \"s3://mousebrainatlas-data/CSHL_SPM/sift_labelmap/MD585/MD585-IHC55-2015.08.19-15.21.01_MD585_1_0163_sift_labelmap.bp\"\n",
      "1079682 keypoints\n"
     ]
    },
    {
     "name": "stderr",
     "output_type": "stream",
     "text": [
      "compute vocab: 0.00 seconds\n",
      "predict: 2.03 seconds\n"
     ]
    },
    {
     "name": "stdout",
     "output_type": "stream",
     "text": [
      "aws s3 cp \"/shared/CSHL_SPM/sift_labelmap/MD585/MD585-N55-2015.08.19-16.25.32_MD585_2_0164_sift_labelmap.bp\" \"s3://mousebrainatlas-data/CSHL_SPM/sift_labelmap/MD585/MD585-N55-2015.08.19-16.25.32_MD585_2_0164_sift_labelmap.bp\"\n",
      "1118376 keypoints\n"
     ]
    },
    {
     "name": "stderr",
     "output_type": "stream",
     "text": [
      "compute vocab: 0.00 seconds\n",
      "predict: 2.10 seconds\n"
     ]
    },
    {
     "name": "stdout",
     "output_type": "stream",
     "text": [
      "aws s3 cp \"/shared/CSHL_SPM/sift_labelmap/MD585/MD585-IHC55-2015.08.19-15.21.01_MD585_2_0164_sift_labelmap.bp\" \"s3://mousebrainatlas-data/CSHL_SPM/sift_labelmap/MD585/MD585-IHC55-2015.08.19-15.21.01_MD585_2_0164_sift_labelmap.bp\"\n",
      "1185760 keypoints\n"
     ]
    },
    {
     "name": "stderr",
     "output_type": "stream",
     "text": [
      "compute vocab: 0.00 seconds\n",
      "predict: 2.23 seconds\n"
     ]
    },
    {
     "name": "stdout",
     "output_type": "stream",
     "text": [
      "aws s3 cp \"/shared/CSHL_SPM/sift_labelmap/MD585/MD585-N55-2015.08.19-16.25.32_MD585_3_0165_sift_labelmap.bp\" \"s3://mousebrainatlas-data/CSHL_SPM/sift_labelmap/MD585/MD585-N55-2015.08.19-16.25.32_MD585_3_0165_sift_labelmap.bp\"\n",
      "1075101 keypoints\n"
     ]
    },
    {
     "name": "stderr",
     "output_type": "stream",
     "text": [
      "compute vocab: 0.00 seconds\n",
      "predict: 2.05 seconds\n"
     ]
    },
    {
     "name": "stdout",
     "output_type": "stream",
     "text": [
      "aws s3 cp \"/shared/CSHL_SPM/sift_labelmap/MD585/MD585-IHC55-2015.08.19-15.21.01_MD585_3_0165_sift_labelmap.bp\" \"s3://mousebrainatlas-data/CSHL_SPM/sift_labelmap/MD585/MD585-IHC55-2015.08.19-15.21.01_MD585_3_0165_sift_labelmap.bp\"\n",
      "819905 keypoints\n"
     ]
    },
    {
     "name": "stderr",
     "output_type": "stream",
     "text": [
      "compute vocab: 0.00 seconds\n",
      "predict: 1.55 seconds\n"
     ]
    },
    {
     "name": "stdout",
     "output_type": "stream",
     "text": [
      "aws s3 cp \"/shared/CSHL_SPM/sift_labelmap/MD585/MD585-N56-2015.07.16-23.31.53_MD585_1_0166_sift_labelmap.bp\" \"s3://mousebrainatlas-data/CSHL_SPM/sift_labelmap/MD585/MD585-N56-2015.07.16-23.31.53_MD585_1_0166_sift_labelmap.bp\"\n",
      "752332 keypoints\n"
     ]
    },
    {
     "name": "stderr",
     "output_type": "stream",
     "text": [
      "compute vocab: 0.00 seconds\n",
      "predict: 1.41 seconds\n"
     ]
    },
    {
     "name": "stdout",
     "output_type": "stream",
     "text": [
      "aws s3 cp \"/shared/CSHL_SPM/sift_labelmap/MD585/MD585-IHC56-2015.07.16-18.29.48_MD585_1_0166_sift_labelmap.bp\" \"s3://mousebrainatlas-data/CSHL_SPM/sift_labelmap/MD585/MD585-IHC56-2015.07.16-18.29.48_MD585_1_0166_sift_labelmap.bp\"\n",
      "801844 keypoints\n"
     ]
    },
    {
     "name": "stderr",
     "output_type": "stream",
     "text": [
      "compute vocab: 0.00 seconds\n",
      "predict: 1.55 seconds\n"
     ]
    },
    {
     "name": "stdout",
     "output_type": "stream",
     "text": [
      "aws s3 cp \"/shared/CSHL_SPM/sift_labelmap/MD585/MD585-N56-2015.07.16-23.31.53_MD585_2_0167_sift_labelmap.bp\" \"s3://mousebrainatlas-data/CSHL_SPM/sift_labelmap/MD585/MD585-N56-2015.07.16-23.31.53_MD585_2_0167_sift_labelmap.bp\"\n",
      "777839 keypoints\n"
     ]
    },
    {
     "name": "stderr",
     "output_type": "stream",
     "text": [
      "compute vocab: 0.00 seconds\n",
      "predict: 1.49 seconds\n"
     ]
    },
    {
     "name": "stdout",
     "output_type": "stream",
     "text": [
      "aws s3 cp \"/shared/CSHL_SPM/sift_labelmap/MD585/MD585-IHC56-2015.07.16-18.29.48_MD585_2_0167_sift_labelmap.bp\" \"s3://mousebrainatlas-data/CSHL_SPM/sift_labelmap/MD585/MD585-IHC56-2015.07.16-18.29.48_MD585_2_0167_sift_labelmap.bp\"\n",
      "780606 keypoints\n"
     ]
    },
    {
     "name": "stderr",
     "output_type": "stream",
     "text": [
      "compute vocab: 0.00 seconds\n",
      "predict: 1.48 seconds\n"
     ]
    },
    {
     "name": "stdout",
     "output_type": "stream",
     "text": [
      "aws s3 cp \"/shared/CSHL_SPM/sift_labelmap/MD585/MD585-N56-2015.07.16-23.31.53_MD585_3_0168_sift_labelmap.bp\" \"s3://mousebrainatlas-data/CSHL_SPM/sift_labelmap/MD585/MD585-N56-2015.07.16-23.31.53_MD585_3_0168_sift_labelmap.bp\"\n",
      "788936 keypoints\n"
     ]
    },
    {
     "name": "stderr",
     "output_type": "stream",
     "text": [
      "compute vocab: 0.00 seconds\n",
      "predict: 1.50 seconds\n"
     ]
    },
    {
     "name": "stdout",
     "output_type": "stream",
     "text": [
      "aws s3 cp \"/shared/CSHL_SPM/sift_labelmap/MD585/MD585-IHC56-2015.07.16-18.29.48_MD585_3_0168_sift_labelmap.bp\" \"s3://mousebrainatlas-data/CSHL_SPM/sift_labelmap/MD585/MD585-IHC56-2015.07.16-18.29.48_MD585_3_0168_sift_labelmap.bp\"\n",
      "753428 keypoints\n"
     ]
    },
    {
     "name": "stderr",
     "output_type": "stream",
     "text": [
      "compute vocab: 0.00 seconds\n",
      "predict: 1.43 seconds\n"
     ]
    },
    {
     "name": "stdout",
     "output_type": "stream",
     "text": [
      "aws s3 cp \"/shared/CSHL_SPM/sift_labelmap/MD585/MD585-N57-2015.07.16-23.36.08_MD585_1_0169_sift_labelmap.bp\" \"s3://mousebrainatlas-data/CSHL_SPM/sift_labelmap/MD585/MD585-N57-2015.07.16-23.36.08_MD585_1_0169_sift_labelmap.bp\"\n",
      "758495 keypoints\n"
     ]
    },
    {
     "name": "stderr",
     "output_type": "stream",
     "text": [
      "compute vocab: 0.00 seconds\n",
      "predict: 1.44 seconds\n"
     ]
    },
    {
     "name": "stdout",
     "output_type": "stream",
     "text": [
      "aws s3 cp \"/shared/CSHL_SPM/sift_labelmap/MD585/MD585-IHC57-2015.07.16-18.33.52_MD585_1_0169_sift_labelmap.bp\" \"s3://mousebrainatlas-data/CSHL_SPM/sift_labelmap/MD585/MD585-IHC57-2015.07.16-18.33.52_MD585_1_0169_sift_labelmap.bp\"\n",
      "793324 keypoints\n"
     ]
    },
    {
     "name": "stderr",
     "output_type": "stream",
     "text": [
      "compute vocab: 0.00 seconds\n",
      "predict: 1.50 seconds\n"
     ]
    },
    {
     "name": "stdout",
     "output_type": "stream",
     "text": [
      "aws s3 cp \"/shared/CSHL_SPM/sift_labelmap/MD585/MD585-N57-2015.07.16-23.36.08_MD585_2_0170_sift_labelmap.bp\" \"s3://mousebrainatlas-data/CSHL_SPM/sift_labelmap/MD585/MD585-N57-2015.07.16-23.36.08_MD585_2_0170_sift_labelmap.bp\"\n",
      "762927 keypoints\n"
     ]
    },
    {
     "name": "stderr",
     "output_type": "stream",
     "text": [
      "compute vocab: 0.00 seconds\n",
      "predict: 1.44 seconds\n"
     ]
    },
    {
     "name": "stdout",
     "output_type": "stream",
     "text": [
      "aws s3 cp \"/shared/CSHL_SPM/sift_labelmap/MD585/MD585-IHC57-2015.07.16-18.33.52_MD585_2_0170_sift_labelmap.bp\" \"s3://mousebrainatlas-data/CSHL_SPM/sift_labelmap/MD585/MD585-IHC57-2015.07.16-18.33.52_MD585_2_0170_sift_labelmap.bp\"\n",
      "774602 keypoints\n"
     ]
    },
    {
     "name": "stderr",
     "output_type": "stream",
     "text": [
      "compute vocab: 0.00 seconds\n",
      "predict: 1.47 seconds\n"
     ]
    },
    {
     "name": "stdout",
     "output_type": "stream",
     "text": [
      "aws s3 cp \"/shared/CSHL_SPM/sift_labelmap/MD585/MD585-N57-2015.07.16-23.36.08_MD585_3_0171_sift_labelmap.bp\" \"s3://mousebrainatlas-data/CSHL_SPM/sift_labelmap/MD585/MD585-N57-2015.07.16-23.36.08_MD585_3_0171_sift_labelmap.bp\"\n",
      "748702 keypoints\n"
     ]
    },
    {
     "name": "stderr",
     "output_type": "stream",
     "text": [
      "compute vocab: 0.00 seconds\n",
      "predict: 1.42 seconds\n"
     ]
    },
    {
     "name": "stdout",
     "output_type": "stream",
     "text": [
      "aws s3 cp \"/shared/CSHL_SPM/sift_labelmap/MD585/MD585-IHC57-2015.07.16-18.33.52_MD585_3_0171_sift_labelmap.bp\" \"s3://mousebrainatlas-data/CSHL_SPM/sift_labelmap/MD585/MD585-IHC57-2015.07.16-18.33.52_MD585_3_0171_sift_labelmap.bp\"\n",
      "784475 keypoints\n"
     ]
    },
    {
     "name": "stderr",
     "output_type": "stream",
     "text": [
      "compute vocab: 0.00 seconds\n",
      "predict: 1.48 seconds\n"
     ]
    },
    {
     "name": "stdout",
     "output_type": "stream",
     "text": [
      "aws s3 cp \"/shared/CSHL_SPM/sift_labelmap/MD585/MD585-N58-2015.07.16-23.40.18_MD585_1_0172_sift_labelmap.bp\" \"s3://mousebrainatlas-data/CSHL_SPM/sift_labelmap/MD585/MD585-N58-2015.07.16-23.40.18_MD585_1_0172_sift_labelmap.bp\"\n",
      "806555 keypoints\n"
     ]
    },
    {
     "name": "stderr",
     "output_type": "stream",
     "text": [
      "compute vocab: 0.00 seconds\n",
      "predict: 1.53 seconds\n"
     ]
    },
    {
     "name": "stdout",
     "output_type": "stream",
     "text": [
      "aws s3 cp \"/shared/CSHL_SPM/sift_labelmap/MD585/MD585-IHC58-2015.07.16-18.38.08_MD585_1_0172_sift_labelmap.bp\" \"s3://mousebrainatlas-data/CSHL_SPM/sift_labelmap/MD585/MD585-IHC58-2015.07.16-18.38.08_MD585_1_0172_sift_labelmap.bp\"\n",
      "810206 keypoints\n"
     ]
    },
    {
     "name": "stderr",
     "output_type": "stream",
     "text": [
      "compute vocab: 0.00 seconds\n",
      "predict: 1.53 seconds\n"
     ]
    },
    {
     "name": "stdout",
     "output_type": "stream",
     "text": [
      "aws s3 cp \"/shared/CSHL_SPM/sift_labelmap/MD585/MD585-N58-2015.07.16-23.40.18_MD585_2_0173_sift_labelmap.bp\" \"s3://mousebrainatlas-data/CSHL_SPM/sift_labelmap/MD585/MD585-N58-2015.07.16-23.40.18_MD585_2_0173_sift_labelmap.bp\"\n",
      "822967 keypoints\n"
     ]
    },
    {
     "name": "stderr",
     "output_type": "stream",
     "text": [
      "compute vocab: 0.00 seconds\n",
      "predict: 1.55 seconds\n"
     ]
    },
    {
     "name": "stdout",
     "output_type": "stream",
     "text": [
      "aws s3 cp \"/shared/CSHL_SPM/sift_labelmap/MD585/MD585-IHC58-2015.07.16-18.38.08_MD585_2_0173_sift_labelmap.bp\" \"s3://mousebrainatlas-data/CSHL_SPM/sift_labelmap/MD585/MD585-IHC58-2015.07.16-18.38.08_MD585_2_0173_sift_labelmap.bp\"\n",
      "796679 keypoints\n"
     ]
    },
    {
     "name": "stderr",
     "output_type": "stream",
     "text": [
      "compute vocab: 0.00 seconds\n",
      "predict: 1.51 seconds\n"
     ]
    },
    {
     "name": "stdout",
     "output_type": "stream",
     "text": [
      "aws s3 cp \"/shared/CSHL_SPM/sift_labelmap/MD585/MD585-N58-2015.07.16-23.40.18_MD585_3_0174_sift_labelmap.bp\" \"s3://mousebrainatlas-data/CSHL_SPM/sift_labelmap/MD585/MD585-N58-2015.07.16-23.40.18_MD585_3_0174_sift_labelmap.bp\"\n",
      "768869 keypoints\n"
     ]
    },
    {
     "name": "stderr",
     "output_type": "stream",
     "text": [
      "compute vocab: 0.00 seconds\n",
      "predict: 1.46 seconds\n"
     ]
    },
    {
     "name": "stdout",
     "output_type": "stream",
     "text": [
      "aws s3 cp \"/shared/CSHL_SPM/sift_labelmap/MD585/MD585-IHC58-2015.07.16-18.38.08_MD585_3_0174_sift_labelmap.bp\" \"s3://mousebrainatlas-data/CSHL_SPM/sift_labelmap/MD585/MD585-IHC58-2015.07.16-18.38.08_MD585_3_0174_sift_labelmap.bp\"\n",
      "776027 keypoints\n"
     ]
    },
    {
     "name": "stderr",
     "output_type": "stream",
     "text": [
      "compute vocab: 0.00 seconds\n",
      "predict: 1.48 seconds\n"
     ]
    },
    {
     "name": "stdout",
     "output_type": "stream",
     "text": [
      "aws s3 cp \"/shared/CSHL_SPM/sift_labelmap/MD585/MD585-N59-2015.07.16-23.44.31_MD585_3_0177_sift_labelmap.bp\" \"s3://mousebrainatlas-data/CSHL_SPM/sift_labelmap/MD585/MD585-N59-2015.07.16-23.44.31_MD585_3_0177_sift_labelmap.bp\"\n",
      "763432 keypoints\n"
     ]
    },
    {
     "name": "stderr",
     "output_type": "stream",
     "text": [
      "compute vocab: 0.00 seconds\n",
      "predict: 1.46 seconds\n"
     ]
    },
    {
     "name": "stdout",
     "output_type": "stream",
     "text": [
      "aws s3 cp \"/shared/CSHL_SPM/sift_labelmap/MD585/MD585-IHC59-2015.07.16-18.42.14_MD585_1_0175_sift_labelmap.bp\" \"s3://mousebrainatlas-data/CSHL_SPM/sift_labelmap/MD585/MD585-IHC59-2015.07.16-18.42.14_MD585_1_0175_sift_labelmap.bp\"\n",
      "820580 keypoints\n"
     ]
    },
    {
     "name": "stderr",
     "output_type": "stream",
     "text": [
      "compute vocab: 0.00 seconds\n",
      "predict: 1.56 seconds\n"
     ]
    },
    {
     "name": "stdout",
     "output_type": "stream",
     "text": [
      "aws s3 cp \"/shared/CSHL_SPM/sift_labelmap/MD585/MD585-N59-2015.07.16-23.44.31_MD585_2_0176_sift_labelmap.bp\" \"s3://mousebrainatlas-data/CSHL_SPM/sift_labelmap/MD585/MD585-N59-2015.07.16-23.44.31_MD585_2_0176_sift_labelmap.bp\"\n",
      "790100 keypoints\n"
     ]
    },
    {
     "name": "stderr",
     "output_type": "stream",
     "text": [
      "compute vocab: 0.00 seconds\n",
      "predict: 1.53 seconds\n"
     ]
    },
    {
     "name": "stdout",
     "output_type": "stream",
     "text": [
      "aws s3 cp \"/shared/CSHL_SPM/sift_labelmap/MD585/MD585-IHC59-2015.07.16-18.42.14_MD585_2_0176_sift_labelmap.bp\" \"s3://mousebrainatlas-data/CSHL_SPM/sift_labelmap/MD585/MD585-IHC59-2015.07.16-18.42.14_MD585_2_0176_sift_labelmap.bp\"\n",
      "798569 keypoints\n"
     ]
    },
    {
     "name": "stderr",
     "output_type": "stream",
     "text": [
      "compute vocab: 0.00 seconds\n",
      "predict: 1.53 seconds\n"
     ]
    },
    {
     "name": "stdout",
     "output_type": "stream",
     "text": [
      "aws s3 cp \"/shared/CSHL_SPM/sift_labelmap/MD585/MD585-N59-2015.07.16-23.44.31_MD585_1_0175_sift_labelmap.bp\" \"s3://mousebrainatlas-data/CSHL_SPM/sift_labelmap/MD585/MD585-N59-2015.07.16-23.44.31_MD585_1_0175_sift_labelmap.bp\"\n",
      "824814 keypoints\n"
     ]
    },
    {
     "name": "stderr",
     "output_type": "stream",
     "text": [
      "compute vocab: 0.00 seconds\n",
      "predict: 1.57 seconds\n"
     ]
    },
    {
     "name": "stdout",
     "output_type": "stream",
     "text": [
      "aws s3 cp \"/shared/CSHL_SPM/sift_labelmap/MD585/MD585-IHC59-2015.07.16-18.42.14_MD585_3_0177_sift_labelmap.bp\" \"s3://mousebrainatlas-data/CSHL_SPM/sift_labelmap/MD585/MD585-IHC59-2015.07.16-18.42.14_MD585_3_0177_sift_labelmap.bp\"\n",
      "818277 keypoints\n"
     ]
    },
    {
     "name": "stderr",
     "output_type": "stream",
     "text": [
      "compute vocab: 0.00 seconds\n",
      "predict: 1.57 seconds\n"
     ]
    },
    {
     "name": "stdout",
     "output_type": "stream",
     "text": [
      "aws s3 cp \"/shared/CSHL_SPM/sift_labelmap/MD585/MD585-N60-2015.07.16-23.48.44_MD585_1_0178_sift_labelmap.bp\" \"s3://mousebrainatlas-data/CSHL_SPM/sift_labelmap/MD585/MD585-N60-2015.07.16-23.48.44_MD585_1_0178_sift_labelmap.bp\"\n",
      "1082186 keypoints\n"
     ]
    },
    {
     "name": "stderr",
     "output_type": "stream",
     "text": [
      "compute vocab: 0.00 seconds\n",
      "predict: 2.07 seconds\n"
     ]
    },
    {
     "name": "stdout",
     "output_type": "stream",
     "text": [
      "aws s3 cp \"/shared/CSHL_SPM/sift_labelmap/MD585/MD585-IHC60-2015.08.19-15.25.07_MD585_1_0178_sift_labelmap.bp\" \"s3://mousebrainatlas-data/CSHL_SPM/sift_labelmap/MD585/MD585-IHC60-2015.08.19-15.25.07_MD585_1_0178_sift_labelmap.bp\"\n",
      "824154 keypoints\n"
     ]
    },
    {
     "name": "stderr",
     "output_type": "stream",
     "text": [
      "compute vocab: 0.00 seconds\n",
      "predict: 1.54 seconds\n"
     ]
    },
    {
     "name": "stdout",
     "output_type": "stream",
     "text": [
      "aws s3 cp \"/shared/CSHL_SPM/sift_labelmap/MD585/MD585-N60-2015.07.16-23.48.44_MD585_2_0179_sift_labelmap.bp\" \"s3://mousebrainatlas-data/CSHL_SPM/sift_labelmap/MD585/MD585-N60-2015.07.16-23.48.44_MD585_2_0179_sift_labelmap.bp\"\n",
      "1046308 keypoints\n"
     ]
    },
    {
     "name": "stderr",
     "output_type": "stream",
     "text": [
      "compute vocab: 0.00 seconds\n",
      "predict: 1.98 seconds\n"
     ]
    },
    {
     "name": "stdout",
     "output_type": "stream",
     "text": [
      "aws s3 cp \"/shared/CSHL_SPM/sift_labelmap/MD585/MD585-IHC60-2015.08.19-15.25.07_MD585_2_0179_sift_labelmap.bp\" \"s3://mousebrainatlas-data/CSHL_SPM/sift_labelmap/MD585/MD585-IHC60-2015.08.19-15.25.07_MD585_2_0179_sift_labelmap.bp\"\n",
      "831894 keypoints\n"
     ]
    },
    {
     "name": "stderr",
     "output_type": "stream",
     "text": [
      "compute vocab: 0.00 seconds\n",
      "predict: 1.56 seconds\n"
     ]
    },
    {
     "name": "stdout",
     "output_type": "stream",
     "text": [
      "aws s3 cp \"/shared/CSHL_SPM/sift_labelmap/MD585/MD585-N60-2015.07.16-23.48.44_MD585_3_0180_sift_labelmap.bp\" \"s3://mousebrainatlas-data/CSHL_SPM/sift_labelmap/MD585/MD585-N60-2015.07.16-23.48.44_MD585_3_0180_sift_labelmap.bp\"\n",
      "1094833 keypoints\n"
     ]
    },
    {
     "name": "stderr",
     "output_type": "stream",
     "text": [
      "compute vocab: 0.00 seconds\n",
      "predict: 2.09 seconds\n"
     ]
    },
    {
     "name": "stdout",
     "output_type": "stream",
     "text": [
      "aws s3 cp \"/shared/CSHL_SPM/sift_labelmap/MD585/MD585-IHC60-2015.08.19-15.25.07_MD585_3_0180_sift_labelmap.bp\" \"s3://mousebrainatlas-data/CSHL_SPM/sift_labelmap/MD585/MD585-IHC60-2015.08.19-15.25.07_MD585_3_0180_sift_labelmap.bp\"\n",
      "779106 keypoints\n"
     ]
    },
    {
     "name": "stderr",
     "output_type": "stream",
     "text": [
      "compute vocab: 0.00 seconds\n",
      "predict: 1.48 seconds\n"
     ]
    },
    {
     "name": "stdout",
     "output_type": "stream",
     "text": [
      "aws s3 cp \"/shared/CSHL_SPM/sift_labelmap/MD585/MD585-N61-2015.07.16-23.52.50_MD585_1_0181_sift_labelmap.bp\" \"s3://mousebrainatlas-data/CSHL_SPM/sift_labelmap/MD585/MD585-N61-2015.07.16-23.52.50_MD585_1_0181_sift_labelmap.bp\"\n",
      "836681 keypoints\n"
     ]
    },
    {
     "name": "stderr",
     "output_type": "stream",
     "text": [
      "compute vocab: 0.00 seconds\n",
      "predict: 1.61 seconds\n"
     ]
    },
    {
     "name": "stdout",
     "output_type": "stream",
     "text": [
      "aws s3 cp \"/shared/CSHL_SPM/sift_labelmap/MD585/MD585-IHC61-2015.07.16-18.50.40_MD585_3_0183_sift_labelmap.bp\" \"s3://mousebrainatlas-data/CSHL_SPM/sift_labelmap/MD585/MD585-IHC61-2015.07.16-18.50.40_MD585_3_0183_sift_labelmap.bp\"\n",
      "805607 keypoints\n"
     ]
    },
    {
     "name": "stderr",
     "output_type": "stream",
     "text": [
      "compute vocab: 0.00 seconds\n",
      "predict: 1.52 seconds\n"
     ]
    },
    {
     "name": "stdout",
     "output_type": "stream",
     "text": [
      "aws s3 cp \"/shared/CSHL_SPM/sift_labelmap/MD585/MD585-N61-2015.07.16-23.52.50_MD585_2_0182_sift_labelmap.bp\" \"s3://mousebrainatlas-data/CSHL_SPM/sift_labelmap/MD585/MD585-N61-2015.07.16-23.52.50_MD585_2_0182_sift_labelmap.bp\"\n",
      "880343 keypoints\n"
     ]
    },
    {
     "name": "stderr",
     "output_type": "stream",
     "text": [
      "compute vocab: 0.00 seconds\n",
      "predict: 1.68 seconds\n"
     ]
    },
    {
     "name": "stdout",
     "output_type": "stream",
     "text": [
      "aws s3 cp \"/shared/CSHL_SPM/sift_labelmap/MD585/MD585-IHC61-2015.07.16-18.50.40_MD585_2_0182_sift_labelmap.bp\" \"s3://mousebrainatlas-data/CSHL_SPM/sift_labelmap/MD585/MD585-IHC61-2015.07.16-18.50.40_MD585_2_0182_sift_labelmap.bp\"\n"
     ]
    },
    {
     "name": "stderr",
     "output_type": "stream",
     "text": [
      "Compute labelmap: 1609.89 seconds\n"
     ]
    }
   ],
   "source": [
    "t = time.time()\n",
    "for stack in ['MD585']:\n",
    "    for sec in metadata_cache['valid_sections'][stack]:\n",
    "        labelmap = compute_labelmap(stack=stack, section=sec)\n",
    "        labelmap_fp = DataManager.get_sift_descriptors_labelmap_filepath(stack, section=sec)\n",
    "        create_parent_dir_if_not_exists(labelmap_fp)\n",
    "        bp.pack_ndarray_file(labelmap, labelmap_fp)\n",
    "        upload_to_s3(labelmap_fp)\n",
    "sys.stderr.write('Compute labelmap: %.2f seconds\\n' % (time.time() - t))\n",
    "# 1600 s"
   ]
  },
  {
   "cell_type": "code",
   "execution_count": 85,
   "metadata": {
    "collapsed": true
   },
   "outputs": [],
   "source": [
    "from data_manager import *"
   ]
  },
  {
   "cell_type": "code",
   "execution_count": 86,
   "metadata": {
    "scrolled": true
   },
   "outputs": [
    {
     "name": "stdout",
     "output_type": "stream",
     "text": [
      "92\n"
     ]
    },
    {
     "name": "stderr",
     "output_type": "stream",
     "text": [
      "done in 18.154911 seconds\n"
     ]
    },
    {
     "name": "stdout",
     "output_type": "stream",
     "text": [
      "(30129, 16, 200)\n",
      "(30129, 4, 200)\n",
      "(30129, 200)\n"
     ]
    },
    {
     "ename": "NameError",
     "evalue": "name 'get_spm_histograms_filepath' is not defined",
     "output_type": "error",
     "traceback": [
      "\u001b[0;31m---------------------------------------------------------------------------\u001b[0m",
      "\u001b[0;31mNameError\u001b[0m                                 Traceback (most recent call last)",
      "\u001b[0;32m<ipython-input-86-b06009150ba8>\u001b[0m in \u001b[0;36m<module>\u001b[0;34m()\u001b[0m\n\u001b[1;32m     12\u001b[0m         \u001b[0mhists_arr0\u001b[0m\u001b[0;34m,\u001b[0m \u001b[0mhists_arr1\u001b[0m\u001b[0;34m,\u001b[0m \u001b[0mhists_arr2\u001b[0m \u001b[0;34m=\u001b[0m \u001b[0mcompute_spm_histograms\u001b[0m\u001b[0;34m(\u001b[0m\u001b[0mlabelmap\u001b[0m\u001b[0;34m,\u001b[0m \u001b[0mpatch_locations\u001b[0m\u001b[0;34m,\u001b[0m \u001b[0mpatch_size\u001b[0m\u001b[0;34m=\u001b[0m\u001b[0mpatch_size\u001b[0m\u001b[0;34m,\u001b[0m \u001b[0mM\u001b[0m\u001b[0;34m=\u001b[0m\u001b[0mM\u001b[0m\u001b[0;34m)\u001b[0m\u001b[0;34m\u001b[0m\u001b[0m\n\u001b[1;32m     13\u001b[0m \u001b[0;34m\u001b[0m\u001b[0m\n\u001b[0;32m---> 14\u001b[0;31m         \u001b[0mh0_fp\u001b[0m \u001b[0;34m=\u001b[0m \u001b[0mget_spm_histograms_filepath\u001b[0m\u001b[0;34m(\u001b[0m\u001b[0mstack\u001b[0m\u001b[0;34m,\u001b[0m \u001b[0msection\u001b[0m\u001b[0;34m=\u001b[0m\u001b[0msec\u001b[0m\u001b[0;34m,\u001b[0m \u001b[0mlevel\u001b[0m\u001b[0;34m=\u001b[0m\u001b[0;36m0\u001b[0m\u001b[0;34m)\u001b[0m\u001b[0;34m\u001b[0m\u001b[0m\n\u001b[0m\u001b[1;32m     15\u001b[0m         \u001b[0mcreate_parent_dir_if_not_exists\u001b[0m\u001b[0;34m(\u001b[0m\u001b[0mh0_fp\u001b[0m\u001b[0;34m)\u001b[0m\u001b[0;34m\u001b[0m\u001b[0m\n\u001b[1;32m     16\u001b[0m         \u001b[0mbp\u001b[0m\u001b[0;34m.\u001b[0m\u001b[0mpack_ndarray_file\u001b[0m\u001b[0;34m(\u001b[0m\u001b[0mhists_arr0\u001b[0m\u001b[0;34m,\u001b[0m \u001b[0mh0_fp\u001b[0m\u001b[0;34m)\u001b[0m\u001b[0;34m\u001b[0m\u001b[0m\n",
      "\u001b[0;31mNameError\u001b[0m: name 'get_spm_histograms_filepath' is not defined"
     ]
    }
   ],
   "source": [
    "# for stack in ['MD589', 'MD594', 'MD585']:\n",
    "for stack in ['MD589', 'MD585']:\n",
    "\n",
    "    patch_size = windowing_settings[win_id]['patch_size']\n",
    "\n",
    "    for sec in metadata_cache['valid_sections'][stack]:\n",
    "        print sec\n",
    "        \n",
    "        _, patch_locations = DataManager.load_patch_locations(stack=stack, win=win_id, section=sec)\n",
    "        \n",
    "        labelmap = compute_labelmap(stack=stack, section=sec)\n",
    "        hists_arr0, hists_arr1, hists_arr2 = compute_spm_histograms(labelmap, patch_locations, patch_size=patch_size, M=M)\n",
    "        \n",
    "        h0_fp = DataManager.get_spm_histograms_filepath(stack, section=sec, level=0)\n",
    "        create_parent_dir_if_not_exists(h0_fp)\n",
    "        bp.pack_ndarray_file(hists_arr0, h0_fp)\n",
    "        upload_to_s3(h0_fp)\n",
    "        \n",
    "        h1_fp = DataManager.get_spm_histograms_filepath(stack, section=sec, level=1)\n",
    "        bp.pack_ndarray_file(hists_arr1, h1_fp)\n",
    "        upload_to_s3(h1_fp)\n",
    "        \n",
    "        h2_fp = DataManager.get_spm_histograms_filepath(stack, section=sec, level=2)\n",
    "        bp.pack_ndarray_file(hists_arr2, h2_fp)\n",
    "        upload_to_s3(h2_fp)"
   ]
  }
 ],
 "metadata": {
  "kernelspec": {
   "display_name": "Python 2",
   "language": "python",
   "name": "python2"
  },
  "language_info": {
   "codemirror_mode": {
    "name": "ipython",
    "version": 2
   },
   "file_extension": ".py",
   "mimetype": "text/x-python",
   "name": "python",
   "nbconvert_exporter": "python",
   "pygments_lexer": "ipython2",
   "version": "2.7.12"
  }
 },
 "nbformat": 4,
 "nbformat_minor": 2
}
